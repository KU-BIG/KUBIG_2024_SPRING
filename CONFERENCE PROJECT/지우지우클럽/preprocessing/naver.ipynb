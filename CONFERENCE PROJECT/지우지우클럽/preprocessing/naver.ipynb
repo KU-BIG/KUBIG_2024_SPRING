{
 "cells": [
  {
   "cell_type": "code",
   "execution_count": 12,
   "metadata": {},
   "outputs": [],
   "source": [
    "from bs4 import BeautifulSoup as bs\n",
    "from selenium import webdriver\n",
    "from selenium.webdriver.common.by import By\n",
    "\n",
    "import time\n",
    "import os\n",
    "import sys\n",
    "from urllib.request import urlopen\n",
    "from urllib.parse import quote_plus\n",
    "import pandas as pd\n",
    "import requests"
   ]
  },
  {
   "cell_type": "code",
   "execution_count": null,
   "metadata": {},
   "outputs": [],
   "source": [
    "df = pd.DataFrame(columns=['name', 'url'])"
   ]
  },
  {
   "cell_type": "code",
   "execution_count": null,
   "metadata": {},
   "outputs": [],
   "source": [
    "df"
   ]
  },
  {
   "cell_type": "code",
   "execution_count": 26,
   "metadata": {},
   "outputs": [],
   "source": [
    "driver = webdriver.Chrome()\n",
    "url = 'https://m.place.naver.com/my/place/detailList/18fc6e3b6a454de8804f7d1bd9c7ea8e?external=true'\n",
    "driver.get(url)\n",
    "time.sleep(5)\n",
    "\n",
    "button = driver.find_element(By.XPATH, '//*[@id=\"__next\"]/div/div/div[2]/div/div/div/div[1]/div[1]/button')\n",
    "button.click()\n",
    "button1 = driver.find_element(By.XPATH, '//*[@id=\"__next\"]/div/div/div[2]/div/div/div/div[1]/div[1]/div/ul/li[2]/button')\n",
    "button1.click()\n",
    "\n",
    "\n",
    "before_h = driver.execute_script('return document.body.scrollHeight')\n",
    "# 무한 스크롤\n",
    "while True:\n",
    "    driver.execute_script(\"window.scrollTo(0, document.body.scrollHeight);\")\n",
    "    time.sleep(1)\n",
    "    after_h = driver.execute_script('return document.body.scrollHeight')\n",
    "\n",
    "    if after_h == before_h:\n",
    "        break\n",
    "    before_h = after_h\n",
    "\n",
    "#name = driver.find_elements(By.CLASS_NAME, '_2gfp-T')\n",
    "#address = driver.find_elements(By.CLASS_NAME, '_2EFNlx')\n",
    "\n",
    "#cafe_list=[]\n",
    "#for c in name:\n",
    "#    cafe_list.append(c.text)\n",
    "\n",
    "#add_list=[]\n",
    "#for a in address:\n",
    "#   add_list.append(a.text)"
   ]
  },
  {
   "cell_type": "code",
   "execution_count": 20,
   "metadata": {},
   "outputs": [
    {
     "data": {
      "text/plain": [
       "['https://m.place.naver.com/restaurant/37411330/home',\n",
       " 'https://m.place.naver.com/restaurant/1556545642/home',\n",
       " 'https://m.place.naver.com/restaurant/1296561406/home',\n",
       " 'https://m.place.naver.com/restaurant/1794613537/home',\n",
       " 'https://m.place.naver.com/restaurant/1496549723/home',\n",
       " 'https://m.place.naver.com/restaurant/1599915192/home',\n",
       " 'https://m.place.naver.com/restaurant/1182796220/home',\n",
       " 'https://m.place.naver.com/restaurant/1483222410/home',\n",
       " 'https://m.place.naver.com/restaurant/70213029/home',\n",
       " 'https://m.place.naver.com/restaurant/1956844211/home',\n",
       " 'https://m.place.naver.com/restaurant/1861726821/home',\n",
       " 'https://m.place.naver.com/my/place/detailList/18fc6e3b6a454de8804f7d1bd9c7ea8e?external=true']"
      ]
     },
     "execution_count": 20,
     "metadata": {},
     "output_type": "execute_result"
    }
   ],
   "source": []
  },
  {
   "cell_type": "code",
   "execution_count": null,
   "metadata": {},
   "outputs": [],
   "source": [
    "url_list"
   ]
  },
  {
   "cell_type": "code",
   "execution_count": null,
   "metadata": {},
   "outputs": [],
   "source": [
    "driver = webdriver.Chrome()\n",
    "url = 'https://m.place.naver.com/my/place/detailList/18fc6e3b6a454de8804f7d1bd9c7ea8e?external=true'\n",
    "driver.get(url)\n",
    "time.sleep(5)\n",
    "\n",
    "#elements = driver.find_elements(By.TAG_NAME, 'button')\n",
    "#button = driver.find_elements(By.XPATH, 'wTaI4v _35RoOF')\n",
    "url_list=[]\n",
    "button = driver.find_element(By.XPATH, f'//*[@id=\"__next\"]/div/div/div[2]/div/div/div/div[2]/ul/li[1]/button')\n",
    "button.click()\n",
    "url_list.append(driver.current_url)\n",
    "driver.back()\n",
    "time.sleep(5)\n",
    "\n",
    "for i in range(2,20):\n",
    "    button = driver.find_element(By.XPATH, '//*[@id=\"__next\"]/div/div/div[2]/div[1]/div/div/div[2]/ul/li[%d]/button'%(i))\n",
    "    button.click()\n",
    "    url_list.append(driver.current_url)\n",
    "    driver.back()\n",
    "    time.sleep(5)\n"
   ]
  },
  {
   "cell_type": "markdown",
   "metadata": {},
   "source": [
    "## 식별자 넣고 돌릴 때 알고리즘"
   ]
  },
  {
   "cell_type": "code",
   "execution_count": 16,
   "metadata": {},
   "outputs": [],
   "source": [
    "from bs4 import BeautifulSoup as bs\n",
    "from selenium import webdriver\n",
    "from selenium.webdriver.common.by import By\n",
    "import time\n",
    "import os\n",
    "import sys\n",
    "from urllib.request import urlopen\n",
    "from urllib.parse import quote_plus\n",
    "import pandas as pd\n",
    "import requests\n",
    "import re\n",
    "\n",
    "from urllib.request import urlretrieve\n"
   ]
  },
  {
   "cell_type": "code",
   "execution_count": null,
   "metadata": {},
   "outputs": [],
   "source": [
    "driver = webdriver.Chrome()\n",
    "# 바로 메뉴 버튼이 뜨는 url \n",
    "url = 'https://m.place.naver.com/restaurant/1296561406/menu/list'\n",
    "driver.get(url)\n",
    "time.sleep(5)\n",
    "\n",
    "name = driver.find_element(By.CLASS_NAME, 'Fc1rA').text\n",
    "blog_review = driver.find_element(By.XPATH, '//*[@id=\"app-root\"]/div/div/div/div[2]/div[1]/div[2]/span[2]/a/text()[2]')\n",
    "burger = driver.find_elements(By.CLASS_NAME, 'lPzHi')\n",
    "explain = driver.find_elements(By.CLASS_NAME, 'kPogF')\n",
    "price = driver.find_elements(By.CLASS_NAME, 'GXS1X')\n",
    "\n",
    "# 더보기 버튼\n",
    "# while True: 버튼 계속 클릭\n",
    "button = driver.find_element(By.CLASS_NAME, 'fvwqf')\n",
    "\n",
    "list1=[]\n",
    "list2=[]\n",
    "list3=[]\n",
    "\n",
    "for b in burger:\n",
    "    list1.append(b.text)\n",
    "\n",
    "for e in explain:\n",
    "    list2.append(e.text)\n",
    "\n",
    "for p in price:\n",
    "    list3.append(p.text)\n",
    "\n",
    "print(blog_review)"
   ]
  },
  {
   "cell_type": "code",
   "execution_count": 24,
   "metadata": {},
   "outputs": [],
   "source": [
    "imgs = driver.find_elements(By.CLASS_NAME, 'K0PDV')\n",
    "result = []\n",
    "for img in imgs:\n",
    "    style = img.get_attribute('style')\n",
    "    url = style.split('url')[-1][2:-3]\n",
    "    result.append(url)\n",
    "\n",
    "img_folder_path = '/Users/choejuhui/Desktop/img'\n",
    "\n",
    "from urllib.request import urlretrieve\n",
    "\n",
    "for index, link in enumerate(result):\n",
    "    urlretrieve(link, img_folder_path+'/{}.jpg'.format(index))\n"
   ]
  },
  {
   "cell_type": "markdown",
   "metadata": {},
   "source": [
    "## 네이버 주문과 같이 결합된 경우"
   ]
  },
  {
   "cell_type": "code",
   "execution_count": null,
   "metadata": {},
   "outputs": [],
   "source": [
    "soup = bs(url, 'html.parser')\n",
    "img = soup.find_all(class_='_img')\n",
    "\n",
    "# 대표메뉴 사이드가 있으면? class 달라서 괜찮\n"
   ]
  },
  {
   "cell_type": "code",
   "execution_count": 11,
   "metadata": {},
   "outputs": [
    {
     "data": {
      "text/plain": [
       "['25,000원',\n",
       " '10,400원',\n",
       " '13,400원',\n",
       " '7,500원',\n",
       " '10,400원',\n",
       " '9,800원',\n",
       " '10,400원',\n",
       " '10,400원',\n",
       " '10,400원',\n",
       " '22,400원',\n",
       " '19,400원',\n",
       " '16,400원',\n",
       " '16,400원',\n",
       " '8,400원',\n",
       " '4,000원']"
      ]
     },
     "execution_count": 11,
     "metadata": {},
     "output_type": "execute_result"
    }
   ],
   "source": [
    "list3"
   ]
  },
  {
   "cell_type": "code",
   "execution_count": null,
   "metadata": {},
   "outputs": [],
   "source": [
    "cafe_list.sort()"
   ]
  },
  {
   "cell_type": "markdown",
   "metadata": {},
   "source": [
    "##  BeautifulSoup"
   ]
  },
  {
   "cell_type": "code",
   "execution_count": 28,
   "metadata": {},
   "outputs": [
    {
     "name": "stdout",
     "output_type": "stream",
     "text": [
      "429\n"
     ]
    }
   ],
   "source": [
    "#-*- coding: utf-8 -*-\n",
    "\n",
    "url = 'https://m.place.naver.com/restaurant/1296561406/menu/list'\n",
    "response = requests.get(url)\n",
    "\n",
    "if response.status_code == 200:\n",
    "    # 인코딩 문제(한글 깨짐)\n",
    "    html = response.content.decode('utf-8', 'replace')\n",
    "    soup = bs(html, 'html.parser')\n",
    "\n",
    "    restaurant = soup.select_one('#_title > div > span.Fc1rA').get_text()\n",
    "    visit_review = soup.select_one('#app-root > div > div > div > div.place_section.no_margin.OP4V8 > div.zD5Nm > div.dAsGb > span:nth-child(1) > a').get_text().split(' ')[-1]\n",
    "    blog_review = soup.select_one('#app-root > div > div > div > div.place_section.no_margin.OP4V8 > div.zD5Nm > div.dAsGb > span:nth-child(2) > a').get_text().split(' ')[-1]\n",
    "\n",
    "    ul = soup.select_one('#app-root > div > div > div > div:nth-child(6) > div > div.place_section.no_margin > div > ul')\n",
    "    titles = ul.select('li > a > div > div > div > span.lPzHi')\n",
    "    explains = ul.select('li > a > div > div > div.kPogF')\n",
    "    prices = ul.select('li > a > div > div.GXS1X')\n",
    "\n",
    "    #img_ul = soup.select_one()\n",
    "    #imgs = ul.select('li > a > div.YBmM2 > div > div')\n",
    "#app-root > div > div > div > div:nth-child(6) > div > div.place_section.no_margin > div.place_section_content > ul > li:nth-child(1) > a > div.YBmM2 > div > div\n",
    "#app-root > div > div > div > div:nth-child(6) > div > div.place_section.no_margin > div > ul > li:nth-child(1) > a > div.YBmM2 > div > div\n",
    "\n",
    "\n",
    "    img_result = []\n",
    "    #for img in imgs:\n",
    "     #   style = img.get_attribute('style')\n",
    "      #  img_url = style.split('url')[-1][2:-3]\n",
    "       # img_result.append(img_url)\n",
    "\n",
    "    img_folder_path = '/Users/choejuhui/Desktop/KUBIG/24-1 recommender system/recommender_system/Data_Crawling/img'\n",
    "    print(titles)\n",
    "\n",
    "#for index, link in enumerate(result):\n",
    " #   urlretrieve(link, img_folder_path+'/{}.jpg'.format(index))\n",
    "        \n",
    "else:\n",
    "    print(response.status_code)"
   ]
  },
  {
   "cell_type": "code",
   "execution_count": 29,
   "metadata": {},
   "outputs": [
    {
     "name": "stdout",
     "output_type": "stream",
     "text": [
      "[<span class=\"lPzHi\">SPB 세븐 패티 버거 (패티 7장)</span>, <span class=\"lPzHi\">더블 패티 버거 (패티2장)</span>, <span class=\"lPzHi\">트리플 버거 (패티 3장)</span>, <span class=\"lPzHi\">클래식 치즈 버거</span>, <span class=\"lPzHi\">굿모닝 버거</span>, <span class=\"lPzHi\">레투스&amp;안녕 버거</span>, <span class=\"lPzHi\">바베큐 하우스 버거</span>, <span class=\"lPzHi\">쉬림프 요트 버거</span>, <span class=\"lPzHi\">페퍼로니 버거</span>, <span class=\"lPzHi\">섹터플 버거 (패티 6장)</span>, <span class=\"lPzHi\">퀀터플 버거 (패티 5장)</span>, <span class=\"lPzHi\">쿼드러플 버거 (패티 4장)</span>, <span class=\"lPzHi\">버팔로 윙&amp;봉 (12조각)</span>, <span class=\"lPzHi\">버팔로 윙&amp;봉 (6조각)</span>, <span class=\"lPzHi\">감자튀김</span>]\n"
     ]
    }
   ],
   "source": [
    "print(titles)"
   ]
  },
  {
   "cell_type": "code",
   "execution_count": 34,
   "metadata": {},
   "outputs": [
    {
     "name": "stdout",
     "output_type": "stream",
     "text": [
      "429\n"
     ]
    }
   ],
   "source": [
    "#-*- coding: utf-8 -*-\n",
    "\n",
    "url = 'https://m.place.naver.com/restaurant/1556769326/menu/list'\n",
    "response = requests.get(url)\n",
    "\n",
    "if response.status_code == 200:\n",
    "    # 인코딩 문제(한글 깨짐)\n",
    "    html = response.content.decode('utf-8', 'replace')\n",
    "    soup = bs(html, 'html.parser')\n",
    "\n",
    "    restaurant = soup.select_one('#_title > div > span.Fc1rA').get_text()\n",
    "    visit_review = soup.select_one('#app-root > div > div > div > div.place_section.no_margin.OP4V8 > div.zD5Nm > div.dAsGb > span:nth-child(1) > a').get_text().split(' ')[-1]\n",
    "    blog_review = soup.select_one('#app-root > div > div > div > div.place_section.no_margin.OP4V8 > div.zD5Nm > div.dAsGb > span:nth-child(2) > a').get_text().split(' ')[-1]\n",
    "\n",
    "    ul = soup.select_one('#app-root > div > div > div > div:nth-child(6) > div > div.place_section.no_margin > div > ul')\n",
    "    titles = ul.select('li > a > div > div > div > span.lPzHi')\n",
    "    explains = ul.select('li > a > div > div > div.kPogF')\n",
    "    prices = ul.select('li > a > div > div.GXS1X')\n",
    "\n",
    "    #img_ul = soup.select_one()\n",
    "    #imgs = ul.select('li > a > div.YBmM2 > div > div')\n",
    "#app-root > div > div > div > div:nth-child(6) > div > div.place_section.no_margin > div.place_section_content > ul > li:nth-child(1) > a > div.YBmM2 > div > div\n",
    "#app-root > div > div > div > div:nth-child(6) > div > div.place_section.no_margin > div > ul > li:nth-child(1) > a > div.YBmM2 > div > div\n",
    "\n",
    "\n",
    "    img_result = []\n",
    "    #for img in imgs:\n",
    "     #   style = img.get_attribute('style')\n",
    "      #  img_url = style.split('url')[-1][2:-3]\n",
    "       # img_result.append(img_url)\n",
    "\n",
    "    img_folder_path = '/Users/choejuhui/Desktop/KUBIG/24-1 recommender system/recommender_system/Data_Crawling/img'\n",
    "    print(titles)\n",
    "\n",
    "#for index, link in enumerate(result):\n",
    " #   urlretrieve(link, img_folder_path+'/{}.jpg'.format(index))\n",
    "        \n",
    "else:\n",
    "    print(response.status_code)"
   ]
  },
  {
   "cell_type": "code",
   "execution_count": null,
   "metadata": {},
   "outputs": [],
   "source": []
  }
 ],
 "metadata": {
  "kernelspec": {
   "display_name": "base",
   "language": "python",
   "name": "python3"
  },
  "language_info": {
   "codemirror_mode": {
    "name": "ipython",
    "version": 3
   },
   "file_extension": ".py",
   "mimetype": "text/x-python",
   "name": "python",
   "nbconvert_exporter": "python",
   "pygments_lexer": "ipython3",
   "version": "3.11.3"
  }
 },
 "nbformat": 4,
 "nbformat_minor": 2
}
