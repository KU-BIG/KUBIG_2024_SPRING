{
  "nbformat": 4,
  "nbformat_minor": 0,
  "metadata": {
    "colab": {
      "provenance": [],
      "gpuType": "T4"
    },
    "kernelspec": {
      "name": "python3",
      "display_name": "Python 3"
    },
    "language_info": {
      "name": "python"
    },
    "accelerator": "GPU"
  },
  "cells": [
    {
      "cell_type": "markdown",
      "source": [
        "# QUICK START"
      ],
      "metadata": {
        "id": "QU5D2TUSugn4"
      }
    },
    {
      "cell_type": "markdown",
      "source": [
        "## 데이터 작업하기"
      ],
      "metadata": {
        "id": "lu-e1blaunZo"
      }
    },
    {
      "cell_type": "code",
      "execution_count": 1,
      "metadata": {
        "id": "seN_R1GUrhDx"
      },
      "outputs": [],
      "source": [
        "# Load torch\n",
        "\n",
        "import torch\n",
        "from torch import nn\n",
        "from torch.utils.data import DataLoader\n",
        "from torchvision import datasets\n",
        "from torchvision.transforms import ToTensor"
      ]
    },
    {
      "cell_type": "code",
      "source": [
        "# 공개 데이터셋에서 학습 데이터를 내려받습니다. (Use MNIST Data)\n",
        "# Download FashionMNIST Dataset and transform to Tensor\n",
        "training_data = datasets.FashionMNIST(\n",
        "    root=\"data\",\n",
        "    train=True,\n",
        "    download=True,\n",
        "    transform=ToTensor(),\n",
        ")\n",
        "\n",
        "# 공개 데이터셋에서 테스트 데이터를 내려받습니다.\n",
        "# Download FashionMNIST Dataset and transform to Tensor\n",
        "test_data = datasets.FashionMNIST(\n",
        "    root=\"data\",\n",
        "    train=False,\n",
        "    download=True,\n",
        "    transform=ToTensor(),\n",
        ")"
      ],
      "metadata": {
        "colab": {
          "base_uri": "https://localhost:8080/"
        },
        "id": "NFpJDdnmutSD",
        "outputId": "79dd6678-4904-4bf4-8989-bef6033f924e"
      },
      "execution_count": 2,
      "outputs": [
        {
          "output_type": "stream",
          "name": "stdout",
          "text": [
            "Downloading http://fashion-mnist.s3-website.eu-central-1.amazonaws.com/train-images-idx3-ubyte.gz\n",
            "Downloading http://fashion-mnist.s3-website.eu-central-1.amazonaws.com/train-images-idx3-ubyte.gz to data/FashionMNIST/raw/train-images-idx3-ubyte.gz\n"
          ]
        },
        {
          "output_type": "stream",
          "name": "stderr",
          "text": [
            "100%|██████████| 26421880/26421880 [00:02<00:00, 10406597.50it/s]\n"
          ]
        },
        {
          "output_type": "stream",
          "name": "stdout",
          "text": [
            "Extracting data/FashionMNIST/raw/train-images-idx3-ubyte.gz to data/FashionMNIST/raw\n",
            "\n",
            "Downloading http://fashion-mnist.s3-website.eu-central-1.amazonaws.com/train-labels-idx1-ubyte.gz\n",
            "Downloading http://fashion-mnist.s3-website.eu-central-1.amazonaws.com/train-labels-idx1-ubyte.gz to data/FashionMNIST/raw/train-labels-idx1-ubyte.gz\n"
          ]
        },
        {
          "output_type": "stream",
          "name": "stderr",
          "text": [
            "100%|██████████| 29515/29515 [00:00<00:00, 179459.17it/s]\n"
          ]
        },
        {
          "output_type": "stream",
          "name": "stdout",
          "text": [
            "Extracting data/FashionMNIST/raw/train-labels-idx1-ubyte.gz to data/FashionMNIST/raw\n",
            "\n",
            "Downloading http://fashion-mnist.s3-website.eu-central-1.amazonaws.com/t10k-images-idx3-ubyte.gz\n",
            "Downloading http://fashion-mnist.s3-website.eu-central-1.amazonaws.com/t10k-images-idx3-ubyte.gz to data/FashionMNIST/raw/t10k-images-idx3-ubyte.gz\n"
          ]
        },
        {
          "output_type": "stream",
          "name": "stderr",
          "text": [
            "100%|██████████| 4422102/4422102 [00:01<00:00, 3281223.37it/s]\n"
          ]
        },
        {
          "output_type": "stream",
          "name": "stdout",
          "text": [
            "Extracting data/FashionMNIST/raw/t10k-images-idx3-ubyte.gz to data/FashionMNIST/raw\n",
            "\n",
            "Downloading http://fashion-mnist.s3-website.eu-central-1.amazonaws.com/t10k-labels-idx1-ubyte.gz\n",
            "Downloading http://fashion-mnist.s3-website.eu-central-1.amazonaws.com/t10k-labels-idx1-ubyte.gz to data/FashionMNIST/raw/t10k-labels-idx1-ubyte.gz\n"
          ]
        },
        {
          "output_type": "stream",
          "name": "stderr",
          "text": [
            "100%|██████████| 5148/5148 [00:00<00:00, 5451218.63it/s]"
          ]
        },
        {
          "output_type": "stream",
          "name": "stdout",
          "text": [
            "Extracting data/FashionMNIST/raw/t10k-labels-idx1-ubyte.gz to data/FashionMNIST/raw\n",
            "\n"
          ]
        },
        {
          "output_type": "stream",
          "name": "stderr",
          "text": [
            "\n"
          ]
        }
      ]
    },
    {
      "cell_type": "markdown",
      "source": [
        "Dataset 을 DataLoader 의 인자로 전달합니다. 이는 데이터셋을 순회 가능한 객체(iterable)로 감싸고, 자동화된 배치(batch), 샘플링(sampling), 섞기(shuffle) 및 다중 프로세스로 데이터 불러오기(multiprocess data loading)를 지원합니다. 여기서는 배치 크기(batch size)를 64로 정의합니다. 즉, 데이터로더(dataloader) 객체의 각 요소는 64개의 특징(feature)과 정답(label)을 묶음(batch)으로 반환합니다."
      ],
      "metadata": {
        "id": "cHk-UDFKvCGI"
      }
    },
    {
      "cell_type": "code",
      "source": [
        "batch_size = 64\n",
        "\n",
        "# 데이터로더를 생성합니다.\n",
        "train_dataloader = DataLoader(training_data, batch_size=batch_size)\n",
        "test_dataloader = DataLoader(test_data, batch_size=batch_size)\n",
        "\n",
        "for X, y in test_dataloader:\n",
        "    print(f\"Shape of X [N, C, H, W]: {X.shape}\")\n",
        "    print(f\"Shape of y: {y.shape} {y.dtype}\")\n",
        "    break"
      ],
      "metadata": {
        "colab": {
          "base_uri": "https://localhost:8080/"
        },
        "id": "N2b9ZVz_u93T",
        "outputId": "c4c4a047-3038-4aa5-8a46-77437c80dafa"
      },
      "execution_count": 3,
      "outputs": [
        {
          "output_type": "stream",
          "name": "stdout",
          "text": [
            "Shape of X [N, C, H, W]: torch.Size([64, 1, 28, 28])\n",
            "Shape of y: torch.Size([64]) torch.int64\n"
          ]
        }
      ]
    },
    {
      "cell_type": "markdown",
      "source": [
        "X에는 batch size 64에, 28*28 pixel의 gray-scale image가 삽입되어있다\n",
        "\n",
        "y에는 0-9까지의 정수가 torch.int64로 잘 되어있다\n"
      ],
      "metadata": {
        "id": "6bQi9xsivLN6"
      }
    },
    {
      "cell_type": "markdown",
      "source": [
        "## 모델 만들기"
      ],
      "metadata": {
        "id": "0KyRU7kjvcur"
      }
    },
    {
      "cell_type": "code",
      "source": [
        "# 학습에 사용할 CPU나 GPU, MPS 장치를 얻습니다.\n",
        "device = (\n",
        "    \"cuda\"\n",
        "    if torch.cuda.is_available()\n",
        "    else \"mps\"\n",
        "    if torch.backends.mps.is_available()\n",
        "    else \"cpu\"\n",
        ")\n",
        "print(f\"Using {device} device\")"
      ],
      "metadata": {
        "colab": {
          "base_uri": "https://localhost:8080/"
        },
        "id": "MQ4rOXQ3v0e1",
        "outputId": "0c5b05df-8880-472e-c54c-597d1093560d"
      },
      "execution_count": 4,
      "outputs": [
        {
          "output_type": "stream",
          "name": "stdout",
          "text": [
            "Using cuda device\n"
          ]
        }
      ]
    },
    {
      "cell_type": "markdown",
      "source": [
        "NVIDIA GPU 사용 가능하다면 -> \"cuda\" (제 1옵션)\n",
        "\n",
        "Multi-Process Service 사용 가능하다면 -> \"mps\" (제 2옵션)\n",
        "\n",
        "그 외 -> \"cpu\""
      ],
      "metadata": {
        "id": "J--UtdIEv2rB"
      }
    },
    {
      "cell_type": "code",
      "source": [
        "# 모델을 정의합니다.\n",
        "class NeuralNetwork(nn.Module):\n",
        "    def __init__(self):\n",
        "        super().__init__()\n",
        "        self.flatten = nn.Flatten()\n",
        "        self.linear_relu_stack = nn.Sequential(\n",
        "            nn.Linear(28*28, 512), #784개의 input -> 512개의 hidden layer 1\n",
        "            nn.ReLU(),\n",
        "            nn.Linear(512, 512), # 512 -> 512 hidden layer 2\n",
        "            nn.ReLU(),\n",
        "            nn.Linear(512, 10) # 512 -> 10 output\n",
        "        )\n",
        "\n",
        "    def forward(self, x):\n",
        "        x = self.flatten(x)\n",
        "        logits = self.linear_relu_stack(x)\n",
        "        return logits\n",
        "\n",
        "model = NeuralNetwork().to(device)\n",
        "print(model)"
      ],
      "metadata": {
        "colab": {
          "base_uri": "https://localhost:8080/"
        },
        "id": "JQQPO5sPveLS",
        "outputId": "27d98ece-06f8-4ccf-9f31-6c4b0c0d3736"
      },
      "execution_count": 5,
      "outputs": [
        {
          "output_type": "stream",
          "name": "stdout",
          "text": [
            "NeuralNetwork(\n",
            "  (flatten): Flatten(start_dim=1, end_dim=-1)\n",
            "  (linear_relu_stack): Sequential(\n",
            "    (0): Linear(in_features=784, out_features=512, bias=True)\n",
            "    (1): ReLU()\n",
            "    (2): Linear(in_features=512, out_features=512, bias=True)\n",
            "    (3): ReLU()\n",
            "    (4): Linear(in_features=512, out_features=10, bias=True)\n",
            "  )\n",
            ")\n"
          ]
        }
      ]
    },
    {
      "cell_type": "markdown",
      "source": [
        "## 모델 매개변수 최적화"
      ],
      "metadata": {
        "id": "U5miWiEIyYw1"
      }
    },
    {
      "cell_type": "code",
      "source": [
        "loss_fn = nn.CrossEntropyLoss() # cross-entropy loss 이용\n",
        "optimizer = torch.optim.SGD(model.parameters(), lr=1e-3) # sgd algorithm으로 최적화"
      ],
      "metadata": {
        "id": "fsRiey1aya7R"
      },
      "execution_count": 6,
      "outputs": []
    },
    {
      "cell_type": "code",
      "source": [
        "def train(dataloader, model, loss_fn, optimizer):\n",
        "    size = len(dataloader.dataset)\n",
        "    for batch, (X, y) in enumerate(dataloader):\n",
        "        X, y = X.to(device), y.to(device)\n",
        "\n",
        "        # 예측 오류 계산\n",
        "        pred = model(X)\n",
        "        loss = loss_fn(pred, y) # loss 계산하는 부분\n",
        "\n",
        "        # 역전파\n",
        "        optimizer.zero_grad() # gradient를 0으로 초기화\n",
        "        loss.backward() # 역전파로 계산하는 단계\n",
        "        optimizer.step() # 최적화\n",
        "\n",
        "        if batch % 100 == 0:\n",
        "            loss, current = loss.item(), (batch + 1) * len(X)\n",
        "            print(f\"loss: {loss:>7f}  [{current:>5d}/{size:>5d}]\")"
      ],
      "metadata": {
        "id": "C4qIjxMmyc_k"
      },
      "execution_count": 7,
      "outputs": []
    },
    {
      "cell_type": "code",
      "source": [
        "def test(dataloader, model, loss_fn):\n",
        "    size = len(dataloader.dataset)\n",
        "    num_batches = len(dataloader)\n",
        "    model.eval()\n",
        "    test_loss, correct = 0, 0\n",
        "    with torch.no_grad():\n",
        "        for X, y in dataloader:\n",
        "            X, y = X.to(device), y.to(device)\n",
        "            pred = model(X)\n",
        "            test_loss += loss_fn(pred, y).item()\n",
        "            correct += (pred.argmax(1) == y).type(torch.float).sum().item()\n",
        "    test_loss /= num_batches\n",
        "    correct /= size\n",
        "    print(f\"Test Error: \\n Accuracy: {(100*correct):>0.1f}%, Avg loss: {test_loss:>8f} \\n\")"
      ],
      "metadata": {
        "id": "26ToW28vy6qc"
      },
      "execution_count": 8,
      "outputs": []
    },
    {
      "cell_type": "code",
      "source": [
        "epochs = 10\n",
        "for t in range(epochs):\n",
        "    print(f\"Epoch {t+1}\\n-------------------------------\")\n",
        "    train(train_dataloader, model, loss_fn, optimizer)\n",
        "    test(test_dataloader, model, loss_fn)\n",
        "print(\"Done!\")"
      ],
      "metadata": {
        "colab": {
          "base_uri": "https://localhost:8080/"
        },
        "id": "2QhJT4ciy9h9",
        "outputId": "fcc2b7af-0fa3-4f75-aad5-30c30b8594b2"
      },
      "execution_count": 13,
      "outputs": [
        {
          "output_type": "stream",
          "name": "stdout",
          "text": [
            "Epoch 1\n",
            "-------------------------------\n",
            "loss: 1.181028  [   64/60000]\n",
            "loss: 1.193716  [ 6464/60000]\n",
            "loss: 1.038647  [12864/60000]\n",
            "loss: 1.169915  [19264/60000]\n",
            "loss: 1.045952  [25664/60000]\n",
            "loss: 1.091992  [32064/60000]\n",
            "loss: 1.137675  [38464/60000]\n",
            "loss: 1.087085  [44864/60000]\n",
            "loss: 1.151882  [51264/60000]\n",
            "loss: 1.080374  [57664/60000]\n",
            "Test Error: \n",
            " Accuracy: 64.5%, Avg loss: 1.106020 \n",
            "\n",
            "Epoch 2\n",
            "-------------------------------\n",
            "loss: 1.181028  [   64/60000]\n",
            "loss: 1.193716  [ 6464/60000]\n",
            "loss: 1.038647  [12864/60000]\n",
            "loss: 1.169915  [19264/60000]\n",
            "loss: 1.045952  [25664/60000]\n",
            "loss: 1.091992  [32064/60000]\n",
            "loss: 1.137675  [38464/60000]\n",
            "loss: 1.087085  [44864/60000]\n",
            "loss: 1.151882  [51264/60000]\n",
            "loss: 1.080374  [57664/60000]\n",
            "Test Error: \n",
            " Accuracy: 64.5%, Avg loss: 1.106020 \n",
            "\n",
            "Epoch 3\n",
            "-------------------------------\n",
            "loss: 1.181028  [   64/60000]\n",
            "loss: 1.193716  [ 6464/60000]\n",
            "loss: 1.038647  [12864/60000]\n",
            "loss: 1.169915  [19264/60000]\n",
            "loss: 1.045952  [25664/60000]\n",
            "loss: 1.091992  [32064/60000]\n",
            "loss: 1.137675  [38464/60000]\n",
            "loss: 1.087085  [44864/60000]\n",
            "loss: 1.151882  [51264/60000]\n",
            "loss: 1.080374  [57664/60000]\n",
            "Test Error: \n",
            " Accuracy: 64.5%, Avg loss: 1.106020 \n",
            "\n",
            "Epoch 4\n",
            "-------------------------------\n",
            "loss: 1.181028  [   64/60000]\n",
            "loss: 1.193716  [ 6464/60000]\n",
            "loss: 1.038647  [12864/60000]\n",
            "loss: 1.169915  [19264/60000]\n",
            "loss: 1.045952  [25664/60000]\n",
            "loss: 1.091992  [32064/60000]\n",
            "loss: 1.137675  [38464/60000]\n",
            "loss: 1.087085  [44864/60000]\n",
            "loss: 1.151882  [51264/60000]\n",
            "loss: 1.080374  [57664/60000]\n",
            "Test Error: \n",
            " Accuracy: 64.5%, Avg loss: 1.106020 \n",
            "\n",
            "Epoch 5\n",
            "-------------------------------\n",
            "loss: 1.181028  [   64/60000]\n",
            "loss: 1.193716  [ 6464/60000]\n",
            "loss: 1.038647  [12864/60000]\n",
            "loss: 1.169915  [19264/60000]\n",
            "loss: 1.045952  [25664/60000]\n",
            "loss: 1.091992  [32064/60000]\n",
            "loss: 1.137675  [38464/60000]\n",
            "loss: 1.087085  [44864/60000]\n",
            "loss: 1.151882  [51264/60000]\n",
            "loss: 1.080374  [57664/60000]\n",
            "Test Error: \n",
            " Accuracy: 64.5%, Avg loss: 1.106020 \n",
            "\n",
            "Epoch 6\n",
            "-------------------------------\n",
            "loss: 1.181028  [   64/60000]\n",
            "loss: 1.193716  [ 6464/60000]\n",
            "loss: 1.038647  [12864/60000]\n",
            "loss: 1.169915  [19264/60000]\n",
            "loss: 1.045952  [25664/60000]\n",
            "loss: 1.091992  [32064/60000]\n",
            "loss: 1.137675  [38464/60000]\n",
            "loss: 1.087085  [44864/60000]\n",
            "loss: 1.151882  [51264/60000]\n",
            "loss: 1.080374  [57664/60000]\n",
            "Test Error: \n",
            " Accuracy: 64.5%, Avg loss: 1.106020 \n",
            "\n",
            "Epoch 7\n",
            "-------------------------------\n",
            "loss: 1.181028  [   64/60000]\n",
            "loss: 1.193716  [ 6464/60000]\n",
            "loss: 1.038647  [12864/60000]\n",
            "loss: 1.169915  [19264/60000]\n",
            "loss: 1.045952  [25664/60000]\n",
            "loss: 1.091992  [32064/60000]\n",
            "loss: 1.137675  [38464/60000]\n",
            "loss: 1.087085  [44864/60000]\n",
            "loss: 1.151882  [51264/60000]\n",
            "loss: 1.080374  [57664/60000]\n",
            "Test Error: \n",
            " Accuracy: 64.5%, Avg loss: 1.106020 \n",
            "\n",
            "Epoch 8\n",
            "-------------------------------\n",
            "loss: 1.181028  [   64/60000]\n",
            "loss: 1.193716  [ 6464/60000]\n",
            "loss: 1.038647  [12864/60000]\n",
            "loss: 1.169915  [19264/60000]\n",
            "loss: 1.045952  [25664/60000]\n",
            "loss: 1.091992  [32064/60000]\n",
            "loss: 1.137675  [38464/60000]\n",
            "loss: 1.087085  [44864/60000]\n",
            "loss: 1.151882  [51264/60000]\n",
            "loss: 1.080374  [57664/60000]\n",
            "Test Error: \n",
            " Accuracy: 64.5%, Avg loss: 1.106020 \n",
            "\n",
            "Epoch 9\n",
            "-------------------------------\n",
            "loss: 1.181028  [   64/60000]\n",
            "loss: 1.193716  [ 6464/60000]\n",
            "loss: 1.038647  [12864/60000]\n",
            "loss: 1.169915  [19264/60000]\n",
            "loss: 1.045952  [25664/60000]\n",
            "loss: 1.091992  [32064/60000]\n",
            "loss: 1.137675  [38464/60000]\n",
            "loss: 1.087085  [44864/60000]\n",
            "loss: 1.151882  [51264/60000]\n",
            "loss: 1.080374  [57664/60000]\n",
            "Test Error: \n",
            " Accuracy: 64.5%, Avg loss: 1.106020 \n",
            "\n",
            "Epoch 10\n",
            "-------------------------------\n",
            "loss: 1.181028  [   64/60000]\n",
            "loss: 1.193716  [ 6464/60000]\n",
            "loss: 1.038647  [12864/60000]\n",
            "loss: 1.169915  [19264/60000]\n",
            "loss: 1.045952  [25664/60000]\n",
            "loss: 1.091992  [32064/60000]\n",
            "loss: 1.137675  [38464/60000]\n",
            "loss: 1.087085  [44864/60000]\n",
            "loss: 1.151882  [51264/60000]\n",
            "loss: 1.080374  [57664/60000]\n",
            "Test Error: \n",
            " Accuracy: 64.5%, Avg loss: 1.106020 \n",
            "\n",
            "Done!\n"
          ]
        }
      ]
    },
    {
      "cell_type": "markdown",
      "source": [
        "Epoch 수를 5 -> 10으로 늘려보아도 성능 개선 x.\n",
        "\n",
        "Q) Is this global optimum?"
      ],
      "metadata": {
        "id": "OrFEkcP3z0UK"
      }
    },
    {
      "cell_type": "markdown",
      "source": [
        "## 모델 저장하기"
      ],
      "metadata": {
        "id": "xd8zKozezJBZ"
      }
    },
    {
      "cell_type": "code",
      "source": [
        "torch.save(model.state_dict(), \"model.pth\")\n",
        "print(\"Saved PyTorch Model State to model.pth\")"
      ],
      "metadata": {
        "colab": {
          "base_uri": "https://localhost:8080/"
        },
        "id": "1wIxJ-EhzHBK",
        "outputId": "b9e79d4b-c586-4087-cfca-f953a304dbce"
      },
      "execution_count": 10,
      "outputs": [
        {
          "output_type": "stream",
          "name": "stdout",
          "text": [
            "Saved PyTorch Model State to model.pth\n"
          ]
        }
      ]
    },
    {
      "cell_type": "markdown",
      "source": [
        "## 모델 불러오기"
      ],
      "metadata": {
        "id": "eiWxkumTzM5t"
      }
    },
    {
      "cell_type": "code",
      "source": [
        "model = NeuralNetwork().to(device)\n",
        "model.load_state_dict(torch.load(\"model.pth\"))"
      ],
      "metadata": {
        "colab": {
          "base_uri": "https://localhost:8080/"
        },
        "id": "5wZPOQLxzOkQ",
        "outputId": "523d13cd-84fd-4dcf-9383-d4131d6fe8de"
      },
      "execution_count": 11,
      "outputs": [
        {
          "output_type": "execute_result",
          "data": {
            "text/plain": [
              "<All keys matched successfully>"
            ]
          },
          "metadata": {},
          "execution_count": 11
        }
      ]
    },
    {
      "cell_type": "markdown",
      "source": [
        "## 예측하기"
      ],
      "metadata": {
        "id": "f0xpndRCzRMy"
      }
    },
    {
      "cell_type": "code",
      "source": [
        "classes = [\n",
        "    \"T-shirt/top\",\n",
        "    \"Trouser\",\n",
        "    \"Pullover\",\n",
        "    \"Dress\",\n",
        "    \"Coat\",\n",
        "    \"Sandal\",\n",
        "    \"Shirt\",\n",
        "    \"Sneaker\",\n",
        "    \"Bag\",\n",
        "    \"Ankle boot\",\n",
        "]\n",
        "\n",
        "model.eval()\n",
        "x, y = test_data[0][0], test_data[0][1]\n",
        "with torch.no_grad():\n",
        "    x = x.to(device)\n",
        "    pred = model(x)\n",
        "    predicted, actual = classes[pred[0].argmax(0)], classes[y]\n",
        "    print(f'Predicted: \"{predicted}\", Actual: \"{actual}\"')"
      ],
      "metadata": {
        "colab": {
          "base_uri": "https://localhost:8080/"
        },
        "id": "ZVfk8WIVzYfv",
        "outputId": "a8d9c465-ca3e-41f4-fd4c-d99b774dd784"
      },
      "execution_count": 12,
      "outputs": [
        {
          "output_type": "stream",
          "name": "stdout",
          "text": [
            "Predicted: \"Ankle boot\", Actual: \"Ankle boot\"\n"
          ]
        }
      ]
    }
  ]
}