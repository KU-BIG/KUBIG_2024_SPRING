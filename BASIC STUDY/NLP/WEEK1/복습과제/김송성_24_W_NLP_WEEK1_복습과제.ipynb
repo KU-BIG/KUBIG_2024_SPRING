{
  "nbformat": 4,
  "nbformat_minor": 0,
  "metadata": {
    "colab": {
      "provenance": []
    },
    "kernelspec": {
      "name": "python3",
      "display_name": "Python 3"
    },
    "language_info": {
      "name": "python"
    }
  },
  "cells": [
    {
      "cell_type": "markdown",
      "source": [
        "## Pytorch 기본 익히기"
      ],
      "metadata": {
        "id": "ILIGAumU2K5W"
      }
    },
    {
      "cell_type": "markdown",
      "source": [
        "### 0.빠른 시작"
      ],
      "metadata": {
        "id": "hEhfX3WI2SpV"
      }
    },
    {
      "cell_type": "code",
      "execution_count": null,
      "metadata": {
        "id": "eE79Ed0q2AjD"
      },
      "outputs": [],
      "source": [
        "import torch\n",
        "from torch import nn\n",
        "from torch.utils.data import DataLoader\n",
        "from torchvision import datasets\n",
        "from torchvision.transforms import ToTensor"
      ]
    },
    {
      "cell_type": "code",
      "source": [
        "training_data = datasets.FashionMNIST(\n",
        "    root = 'data',\n",
        "    train = True,\n",
        "    download = True,\n",
        "    transform = ToTensor(),\n",
        ")\n",
        "\n",
        "test_data = datasets.FashionMNIST(\n",
        "    root = 'data',\n",
        "    train = False,\n",
        "    download = True,\n",
        "    transform = ToTensor(),\n",
        ")"
      ],
      "metadata": {
        "colab": {
          "base_uri": "https://localhost:8080/"
        },
        "id": "6SfNISQk2NLB",
        "outputId": "c23762d3-8fe3-4928-8d42-fc0a3060ac9d"
      },
      "execution_count": null,
      "outputs": [
        {
          "output_type": "stream",
          "name": "stdout",
          "text": [
            "Downloading http://fashion-mnist.s3-website.eu-central-1.amazonaws.com/train-images-idx3-ubyte.gz\n",
            "Downloading http://fashion-mnist.s3-website.eu-central-1.amazonaws.com/train-images-idx3-ubyte.gz to data/FashionMNIST/raw/train-images-idx3-ubyte.gz\n"
          ]
        },
        {
          "output_type": "stream",
          "name": "stderr",
          "text": [
            "100%|██████████| 26421880/26421880 [00:01<00:00, 16532887.08it/s]\n"
          ]
        },
        {
          "output_type": "stream",
          "name": "stdout",
          "text": [
            "Extracting data/FashionMNIST/raw/train-images-idx3-ubyte.gz to data/FashionMNIST/raw\n",
            "\n",
            "Downloading http://fashion-mnist.s3-website.eu-central-1.amazonaws.com/train-labels-idx1-ubyte.gz\n",
            "Downloading http://fashion-mnist.s3-website.eu-central-1.amazonaws.com/train-labels-idx1-ubyte.gz to data/FashionMNIST/raw/train-labels-idx1-ubyte.gz\n"
          ]
        },
        {
          "output_type": "stream",
          "name": "stderr",
          "text": [
            "100%|██████████| 29515/29515 [00:00<00:00, 334932.90it/s]\n"
          ]
        },
        {
          "output_type": "stream",
          "name": "stdout",
          "text": [
            "Extracting data/FashionMNIST/raw/train-labels-idx1-ubyte.gz to data/FashionMNIST/raw\n",
            "\n",
            "Downloading http://fashion-mnist.s3-website.eu-central-1.amazonaws.com/t10k-images-idx3-ubyte.gz\n",
            "Downloading http://fashion-mnist.s3-website.eu-central-1.amazonaws.com/t10k-images-idx3-ubyte.gz to data/FashionMNIST/raw/t10k-images-idx3-ubyte.gz\n"
          ]
        },
        {
          "output_type": "stream",
          "name": "stderr",
          "text": [
            "100%|██████████| 4422102/4422102 [00:00<00:00, 5514531.11it/s] \n"
          ]
        },
        {
          "output_type": "stream",
          "name": "stdout",
          "text": [
            "Extracting data/FashionMNIST/raw/t10k-images-idx3-ubyte.gz to data/FashionMNIST/raw\n",
            "\n",
            "Downloading http://fashion-mnist.s3-website.eu-central-1.amazonaws.com/t10k-labels-idx1-ubyte.gz\n",
            "Downloading http://fashion-mnist.s3-website.eu-central-1.amazonaws.com/t10k-labels-idx1-ubyte.gz to data/FashionMNIST/raw/t10k-labels-idx1-ubyte.gz\n"
          ]
        },
        {
          "output_type": "stream",
          "name": "stderr",
          "text": [
            "100%|██████████| 5148/5148 [00:00<00:00, 17246227.63it/s]\n"
          ]
        },
        {
          "output_type": "stream",
          "name": "stdout",
          "text": [
            "Extracting data/FashionMNIST/raw/t10k-labels-idx1-ubyte.gz to data/FashionMNIST/raw\n",
            "\n"
          ]
        }
      ]
    },
    {
      "cell_type": "code",
      "source": [
        "batch_size = 64\n",
        "\n",
        "#dataloader\n",
        "train_dataloader = DataLoader(training_data, batch_size=batch_size)\n",
        "test_dataloader = DataLoader(test_data, batch_size=batch_size)\n",
        "\n",
        "for X, y in test_dataloader:\n",
        "    print(f\"Shape of X [N, C, H, W]: {X.shape}\")\n",
        "    print(f\"Shape of y: {y.shape} {y.dtype}\")\n",
        "    break"
      ],
      "metadata": {
        "colab": {
          "base_uri": "https://localhost:8080/"
        },
        "id": "Wbm8iG_92nwR",
        "outputId": "828fa603-b737-40d0-e8c7-5867d4ef9411"
      },
      "execution_count": null,
      "outputs": [
        {
          "output_type": "stream",
          "name": "stdout",
          "text": [
            "Shape of X [N, C, H, W]: torch.Size([64, 1, 28, 28])\n",
            "Shape of y: torch.Size([64]) torch.int64\n"
          ]
        }
      ]
    },
    {
      "cell_type": "code",
      "source": [
        "device = (\"cuda\"\n",
        "          if torch.cuda.is_available()\n",
        "          else \"mps\"\n",
        "          if torch.backends.mps.is_available()\n",
        "          else \"cpu\"\n",
        "          )\n",
        "print(f\"Using {device} device\")"
      ],
      "metadata": {
        "colab": {
          "base_uri": "https://localhost:8080/"
        },
        "id": "OV8fv6FH3F_q",
        "outputId": "e1935741-db6c-4b7e-c712-c6ad87ad6755"
      },
      "execution_count": null,
      "outputs": [
        {
          "output_type": "stream",
          "name": "stdout",
          "text": [
            "Using cpu device\n"
          ]
        }
      ]
    },
    {
      "cell_type": "code",
      "source": [
        "#모델 정의\n",
        "class NeuralNetwork(nn.Module):\n",
        "    def __init__(self):\n",
        "        super().__init__()\n",
        "        self.flatten = nn.Flatten()\n",
        "        self.linear_relu_stack = nn.Sequential(\n",
        "            nn.Linear(28*28, 512),\n",
        "            nn.ReLU(),\n",
        "            nn.Linear(512, 512),\n",
        "            nn.ReLU(),\n",
        "            nn.Linear(512, 10)\n",
        "        )\n",
        "\n",
        "    def forward(self, x):\n",
        "        x = self.flatten(x)\n",
        "        logits = self.linear_relu_stack(x)\n",
        "        return logits"
      ],
      "metadata": {
        "id": "rJQwO1qJ3YgM"
      },
      "execution_count": null,
      "outputs": []
    },
    {
      "cell_type": "code",
      "source": [
        "model = NeuralNetwork().to(device)\n",
        "print(model)"
      ],
      "metadata": {
        "colab": {
          "base_uri": "https://localhost:8080/"
        },
        "id": "bO2FX0Xi3wUx",
        "outputId": "6817ffc6-821d-4f3d-bba9-f56672b9806d"
      },
      "execution_count": null,
      "outputs": [
        {
          "output_type": "stream",
          "name": "stdout",
          "text": [
            "NeuralNetwork(\n",
            "  (flatten): Flatten(start_dim=1, end_dim=-1)\n",
            "  (linear_relu_stack): Sequential(\n",
            "    (0): Linear(in_features=784, out_features=512, bias=True)\n",
            "    (1): ReLU()\n",
            "    (2): Linear(in_features=512, out_features=512, bias=True)\n",
            "    (3): ReLU()\n",
            "    (4): Linear(in_features=512, out_features=10, bias=True)\n",
            "  )\n",
            ")\n"
          ]
        }
      ]
    },
    {
      "cell_type": "code",
      "source": [
        "loss_fn = nn.CrossEntropyLoss()\n",
        "optimizer = torch.optim.SGD(model.parameters(), lr=1e-3)"
      ],
      "metadata": {
        "id": "oBUgPluV30AU"
      },
      "execution_count": null,
      "outputs": []
    },
    {
      "cell_type": "code",
      "source": [
        "def train(dataloader, model, loss_fn, optimizer):\n",
        "    size = len(dataloader.dataset)\n",
        "    for batch, (X, y) in enumerate(dataloader):\n",
        "        X, y = X.to(device), y.to(device)\n",
        "\n",
        "        pred = model(X)\n",
        "        loss = loss_fn(pred, y)\n",
        "\n",
        "        optimizer.zero_grad()\n",
        "        loss.backward()\n",
        "        optimizer.step()\n",
        "\n",
        "        if batch % 100 == 0:\n",
        "            loss, current = loss.item(), (batch + 1) * len(X)\n",
        "            print(f\"loss: {loss:>7f}  [{current:>5d}/{size:>5d}]\")\n",
        "\n",
        "def test(dataloader, model, loss_fn):\n",
        "    size = len(dataloader.dataset)\n",
        "    num_batches = len(dataloader)\n",
        "    model.eval()\n",
        "    test_loss, correct = 0, 0\n",
        "    with torch.no_grad():\n",
        "        for X, y in dataloader:\n",
        "            X, y = X.to(device), y.to(device)\n",
        "            pred = model(X)\n",
        "            test_loss += loss_fn(pred, y).item()\n",
        "            correct += (pred.argmax(1) == y).type(torch.float).sum().item()\n",
        "    test_loss /= num_batches\n",
        "    correct /= size\n",
        "    print(f\"Test Error: \\n Accuracy: {(100*correct):>0.1f}%, Avg loss: {test_loss:>8f} \\n\")"
      ],
      "metadata": {
        "id": "GtX3TV1Q37U3"
      },
      "execution_count": null,
      "outputs": []
    },
    {
      "cell_type": "code",
      "source": [
        "epochs = 5\n",
        "for t in range(epochs):\n",
        "    print(f\"Epoch {t+1}\\n-----------------------\")\n",
        "    train(train_dataloader, model, loss_fn, optimizer)\n",
        "    test(test_dataloader, model, loss_fn)\n",
        "\n",
        "print(\"Done!\")"
      ],
      "metadata": {
        "colab": {
          "base_uri": "https://localhost:8080/"
        },
        "id": "sy4AIGTj5G-6",
        "outputId": "77005771-7675-4623-844d-a5a51cd3df30"
      },
      "execution_count": null,
      "outputs": [
        {
          "output_type": "stream",
          "name": "stdout",
          "text": [
            "Epoch 1\n",
            "-----------------------\n",
            "loss: 2.159879  [   64/60000]\n",
            "loss: 2.152735  [ 6464/60000]\n",
            "loss: 2.094862  [12864/60000]\n",
            "loss: 2.124183  [19264/60000]\n",
            "loss: 2.072576  [25664/60000]\n",
            "loss: 2.005177  [32064/60000]\n",
            "loss: 2.040090  [38464/60000]\n",
            "loss: 1.951356  [44864/60000]\n",
            "loss: 1.962121  [51264/60000]\n",
            "loss: 1.908535  [57664/60000]\n",
            "Test Error: \n",
            " Accuracy: 57.6%, Avg loss: 1.894086 \n",
            "\n",
            "Epoch 2\n",
            "-----------------------\n",
            "loss: 1.919204  [   64/60000]\n",
            "loss: 1.889167  [ 6464/60000]\n",
            "loss: 1.767872  [12864/60000]\n",
            "loss: 1.821121  [19264/60000]\n",
            "loss: 1.716677  [25664/60000]\n",
            "loss: 1.657344  [32064/60000]\n",
            "loss: 1.688673  [38464/60000]\n",
            "loss: 1.577515  [44864/60000]\n",
            "loss: 1.610428  [51264/60000]\n",
            "loss: 1.517042  [57664/60000]\n",
            "Test Error: \n",
            " Accuracy: 61.5%, Avg loss: 1.526200 \n",
            "\n",
            "Epoch 3\n",
            "-----------------------\n",
            "loss: 1.589244  [   64/60000]\n",
            "loss: 1.552652  [ 6464/60000]\n",
            "loss: 1.397641  [12864/60000]\n",
            "loss: 1.477468  [19264/60000]\n",
            "loss: 1.363326  [25664/60000]\n",
            "loss: 1.347550  [32064/60000]\n",
            "loss: 1.367597  [38464/60000]\n",
            "loss: 1.282287  [44864/60000]\n",
            "loss: 1.323865  [51264/60000]\n",
            "loss: 1.231074  [57664/60000]\n",
            "Test Error: \n",
            " Accuracy: 63.1%, Avg loss: 1.253902 \n",
            "\n",
            "Epoch 4\n",
            "-----------------------\n",
            "loss: 1.330871  [   64/60000]\n",
            "loss: 1.309235  [ 6464/60000]\n",
            "loss: 1.139809  [12864/60000]\n",
            "loss: 1.250203  [19264/60000]\n",
            "loss: 1.127893  [25664/60000]\n",
            "loss: 1.144341  [32064/60000]\n",
            "loss: 1.170121  [38464/60000]\n",
            "loss: 1.098844  [44864/60000]\n",
            "loss: 1.143950  [51264/60000]\n",
            "loss: 1.067482  [57664/60000]\n",
            "Test Error: \n",
            " Accuracy: 64.2%, Avg loss: 1.085559 \n",
            "\n",
            "Epoch 5\n",
            "-----------------------\n",
            "loss: 1.159572  [   64/60000]\n",
            "loss: 1.155701  [ 6464/60000]\n",
            "loss: 0.970064  [12864/60000]\n",
            "loss: 1.109536  [19264/60000]\n",
            "loss: 0.984765  [25664/60000]\n",
            "loss: 1.009765  [32064/60000]\n",
            "loss: 1.051489  [38464/60000]\n",
            "loss: 0.983197  [44864/60000]\n",
            "loss: 1.030168  [51264/60000]\n",
            "loss: 0.968255  [57664/60000]\n",
            "Test Error: \n",
            " Accuracy: 65.5%, Avg loss: 0.979215 \n",
            "\n",
            "Done!\n"
          ]
        }
      ]
    },
    {
      "cell_type": "code",
      "source": [
        "#모델 저장\n",
        "torch.save(model.state_dict(), \"model.pth\")\n",
        "print(\"Saved PyTorch Model State to model.pth\")"
      ],
      "metadata": {
        "colab": {
          "base_uri": "https://localhost:8080/"
        },
        "id": "uxIbqZix5Upv",
        "outputId": "93355b70-ef06-493b-82e6-a9195a7664bb"
      },
      "execution_count": null,
      "outputs": [
        {
          "output_type": "stream",
          "name": "stdout",
          "text": [
            "Saved PyTorch Model State to model.pth\n"
          ]
        }
      ]
    },
    {
      "cell_type": "code",
      "source": [
        "#모델 불러오기\n",
        "model = NeuralNetwork().to(device)\n",
        "model.load_state_dict(torch.load(\"model.pth\"))"
      ],
      "metadata": {
        "colab": {
          "base_uri": "https://localhost:8080/"
        },
        "id": "8XS_HI_15kSF",
        "outputId": "d2dc044e-a6f7-49d1-dfe4-687a125fd7af"
      },
      "execution_count": null,
      "outputs": [
        {
          "output_type": "execute_result",
          "data": {
            "text/plain": [
              "<All keys matched successfully>"
            ]
          },
          "metadata": {},
          "execution_count": 15
        }
      ]
    },
    {
      "cell_type": "code",
      "source": [
        "#예측\n",
        "classes = [\n",
        "    \"T-shirt/top\",\n",
        "    \"Trouser\",\n",
        "    \"Pullover\",\n",
        "    \"Dress\",\n",
        "    \"Coat\",\n",
        "    \"Sandal\",\n",
        "    \"Shirt\",\n",
        "    \"Sneaker\",\n",
        "    \"Bag\",\n",
        "    \"Ankle boot\",\n",
        "]\n",
        "\n",
        "model.eval()\n",
        "x, y = test_data[0][0], test_data[0][1]\n",
        "with torch.no_grad():\n",
        "    x = x.to(device)\n",
        "    pred = model(x)\n",
        "    predicted, actual = classes[pred[0].argmax(0)], classes[y]\n",
        "    print(f'Predicted: \"{predicted}\", Actual: \"{actual}\"')"
      ],
      "metadata": {
        "colab": {
          "base_uri": "https://localhost:8080/"
        },
        "id": "RN0XxLaI5rY8",
        "outputId": "bcb38667-bbff-4b37-8d79-c4eb9200e43c"
      },
      "execution_count": null,
      "outputs": [
        {
          "output_type": "stream",
          "name": "stdout",
          "text": [
            "Predicted: \"Ankle boot\", Actual: \"Ankle boot\"\n"
          ]
        }
      ]
    },
    {
      "cell_type": "code",
      "source": [],
      "metadata": {
        "id": "CJ-NFKi-6Dyx"
      },
      "execution_count": null,
      "outputs": []
    },
    {
      "cell_type": "markdown",
      "source": [
        "### 1.텐서(Tensor)"
      ],
      "metadata": {
        "id": "l9tBJcWZ6HTk"
      }
    },
    {
      "cell_type": "markdown",
      "source": [
        "##### 텐서 초기화"
      ],
      "metadata": {
        "id": "WiEVzUgy7Ygl"
      }
    },
    {
      "cell_type": "code",
      "source": [
        "import torch\n",
        "import numpy as np"
      ],
      "metadata": {
        "id": "E2CbzH6V6J2E"
      },
      "execution_count": null,
      "outputs": []
    },
    {
      "cell_type": "code",
      "source": [
        "#데이터로 직접 생성\n",
        "data = [[1, 2],[3, 4]]\n",
        "x_data = torch.tensor(data)"
      ],
      "metadata": {
        "id": "CzmdMqhe6Vi9"
      },
      "execution_count": null,
      "outputs": []
    },
    {
      "cell_type": "code",
      "source": [
        "#Numpy 배열로부터 생성\n",
        "np_array = np.array(data)\n",
        "x_np = torch.from_numpy(np_array)"
      ],
      "metadata": {
        "id": "RAAGbN0P6mAN"
      },
      "execution_count": null,
      "outputs": []
    },
    {
      "cell_type": "code",
      "source": [
        "#다른 텐서로부터 생성\n",
        "x_ones = torch.ones_like(x_data) #x_data의 속성 유지\n",
        "print(f\"Ones Tensor: \\n {x_ones} \\n\")\n",
        "\n",
        "x_rand = torch.rand_like(x_data, dtype=torch.float) #x_data의 속성을 덮어씀\n",
        "print(f\"Random Tensor: \\n {x_rand} \\n\")"
      ],
      "metadata": {
        "colab": {
          "base_uri": "https://localhost:8080/"
        },
        "id": "4DHCp_ba6u9X",
        "outputId": "53fe48d4-ff62-4aa0-e058-21f050e52405"
      },
      "execution_count": null,
      "outputs": [
        {
          "output_type": "stream",
          "name": "stdout",
          "text": [
            "Ones Tensor: \n",
            " tensor([[1, 1],\n",
            "        [1, 1]]) \n",
            "\n",
            "Random Tensor: \n",
            " tensor([[0.7673, 0.0834],\n",
            "        [0.4640, 0.3626]]) \n",
            "\n"
          ]
        }
      ]
    },
    {
      "cell_type": "code",
      "source": [
        "#무작위(random) 또는 상수(constant) 값 사용\n",
        "shape = (2, 3, )\n",
        "rand_tensor = torch.rand(shape)\n",
        "ones_tensor = torch.ones(shape)\n",
        "zeros_tensor = torch.zeros(shape)\n",
        "\n",
        "print(f\"Random Tensor: \\n {rand_tensor} \\n\")\n",
        "print(f\"Ones Tensor: \\n {ones_tensor} \\n\")\n",
        "print(f\"Zeros Tensor: \\n {zeros_tensor}\")"
      ],
      "metadata": {
        "colab": {
          "base_uri": "https://localhost:8080/"
        },
        "id": "em2jT79I7D6m",
        "outputId": "193e7e08-2fe5-4c1c-da84-dc1fd6dbb27d"
      },
      "execution_count": null,
      "outputs": [
        {
          "output_type": "stream",
          "name": "stdout",
          "text": [
            "Random Tensor: \n",
            " tensor([[0.6109, 0.7433, 0.3490],\n",
            "        [0.8500, 0.6737, 0.3127]]) \n",
            "\n",
            "Ones Tensor: \n",
            " tensor([[1., 1., 1.],\n",
            "        [1., 1., 1.]]) \n",
            "\n",
            "Zeros Tensor: \n",
            " tensor([[0., 0., 0.],\n",
            "        [0., 0., 0.]])\n"
          ]
        }
      ]
    },
    {
      "cell_type": "markdown",
      "source": [
        "##### 텐서의 속성"
      ],
      "metadata": {
        "id": "AJL_P4Xx7b1a"
      }
    },
    {
      "cell_type": "code",
      "source": [
        "tensor = torch.rand(3,4)\n",
        "\n",
        "print(f\"Shape of tensor: {tensor.shape}\")\n",
        "print(f\"Datatype of tensor: {tensor.dtype}\")\n",
        "print(f\"Device tensor is stored on: {tensor.device}\")"
      ],
      "metadata": {
        "colab": {
          "base_uri": "https://localhost:8080/"
        },
        "id": "bA1CRuhz68SZ",
        "outputId": "b5c1e272-5f29-40b3-95f6-a7817ac29496"
      },
      "execution_count": null,
      "outputs": [
        {
          "output_type": "stream",
          "name": "stdout",
          "text": [
            "Shape of tensor: torch.Size([3, 4])\n",
            "Datatype of tensor: torch.float32\n",
            "Device tensor is stored on: cpu\n"
          ]
        }
      ]
    },
    {
      "cell_type": "markdown",
      "source": [
        "##### 텐서 연산"
      ],
      "metadata": {
        "id": "bSYKGMcs7h3R"
      }
    },
    {
      "cell_type": "code",
      "source": [
        "if torch.cuda.is_available():\n",
        "    tensor = tensor.to(\"cuda\")"
      ],
      "metadata": {
        "id": "hFFVM-NB7f3y"
      },
      "execution_count": null,
      "outputs": []
    },
    {
      "cell_type": "code",
      "source": [
        "#인덱싱, 슬라이싱\n",
        "tensor = torch.ones(4, 4)\n",
        "print(f\"First row: {tensor[0]}\")\n",
        "print(f\"First column: {tensor[:, 0]}\")\n",
        "print(f\"Last column: {tensor[..., -1]}\")\n",
        "tensor[:, 1] = 0\n",
        "print(tensor)"
      ],
      "metadata": {
        "colab": {
          "base_uri": "https://localhost:8080/"
        },
        "id": "KMb5ba9Z7plH",
        "outputId": "9e41d1ea-bf34-4e19-80ec-4a4eb81bcf31"
      },
      "execution_count": null,
      "outputs": [
        {
          "output_type": "stream",
          "name": "stdout",
          "text": [
            "First row: tensor([1., 1., 1., 1.])\n",
            "First column: tensor([1., 1., 1., 1.])\n",
            "Last column: tensor([1., 1., 1., 1.])\n",
            "tensor([[1., 0., 1., 1.],\n",
            "        [1., 0., 1., 1.],\n",
            "        [1., 0., 1., 1.],\n",
            "        [1., 0., 1., 1.]])\n"
          ]
        }
      ]
    },
    {
      "cell_type": "code",
      "source": [
        "#텐서 합치기\n",
        "t1 = torch.cat([tensor, tensor, tensor], dim=1)\n",
        "print(t1)"
      ],
      "metadata": {
        "colab": {
          "base_uri": "https://localhost:8080/"
        },
        "id": "JSkLAt0z7zOx",
        "outputId": "33913073-026a-4608-907e-fd9a68248069"
      },
      "execution_count": null,
      "outputs": [
        {
          "output_type": "stream",
          "name": "stdout",
          "text": [
            "tensor([[1., 0., 1., 1., 1., 0., 1., 1., 1., 0., 1., 1.],\n",
            "        [1., 0., 1., 1., 1., 0., 1., 1., 1., 0., 1., 1.],\n",
            "        [1., 0., 1., 1., 1., 0., 1., 1., 1., 0., 1., 1.],\n",
            "        [1., 0., 1., 1., 1., 0., 1., 1., 1., 0., 1., 1.]])\n"
          ]
        }
      ]
    },
    {
      "cell_type": "code",
      "source": [
        "#산술 연산\n",
        "\n",
        "##두 텐서 간의 행렬 곱(matrix multiplication) 계산\n",
        "y1 = tensor @ tensor.T\n",
        "y2 = tensor.matmul(tensor.T)\n",
        "\n",
        "y3 = torch.rand_like(y1)\n",
        "torch.matmul(tensor, tensor.T, out=y3)\n",
        "\n",
        "# 요소별 곱(element-wise product)을 계산\n",
        "z1 = tensor * tensor\n",
        "z2 = tensor.mul(tensor)\n",
        "\n",
        "z3 = torch.rand_like(tensor)\n",
        "torch.mul(tensor, tensor, out=z3)"
      ],
      "metadata": {
        "colab": {
          "base_uri": "https://localhost:8080/"
        },
        "id": "tLjXwHOW8GOr",
        "outputId": "31545935-eac7-48fc-de1d-8d4a88ce54dc"
      },
      "execution_count": null,
      "outputs": [
        {
          "output_type": "execute_result",
          "data": {
            "text/plain": [
              "tensor([[1., 0., 1., 1.],\n",
              "        [1., 0., 1., 1.],\n",
              "        [1., 0., 1., 1.],\n",
              "        [1., 0., 1., 1.]])"
            ]
          },
          "metadata": {},
          "execution_count": 30
        }
      ]
    },
    {
      "cell_type": "code",
      "source": [
        "#단일-요소(single-element) 텐서\n",
        "agg = tensor.sum()\n",
        "agg_item = agg.item()\n",
        "print(agg_item, type(agg_item))"
      ],
      "metadata": {
        "colab": {
          "base_uri": "https://localhost:8080/"
        },
        "id": "aXsfVmCm8ysI",
        "outputId": "8b3cfd59-c226-4dbf-b3c9-f2b5fa81b904"
      },
      "execution_count": null,
      "outputs": [
        {
          "output_type": "stream",
          "name": "stdout",
          "text": [
            "12.0 <class 'float'>\n"
          ]
        }
      ]
    },
    {
      "cell_type": "code",
      "source": [
        "#바꿔치기(in-place) 연산 -> _ 접미사를 가짐\n",
        "print(f\"{tensor} \\n\")\n",
        "tensor.add_(5)\n",
        "print(tensor)"
      ],
      "metadata": {
        "colab": {
          "base_uri": "https://localhost:8080/"
        },
        "id": "ekuq1mVo9D6V",
        "outputId": "93e22a9c-7f01-4a92-9695-8cbaa3d6ce18"
      },
      "execution_count": null,
      "outputs": [
        {
          "output_type": "stream",
          "name": "stdout",
          "text": [
            "tensor([[1., 0., 1., 1.],\n",
            "        [1., 0., 1., 1.],\n",
            "        [1., 0., 1., 1.],\n",
            "        [1., 0., 1., 1.]]) \n",
            "\n",
            "tensor([[6., 5., 6., 6.],\n",
            "        [6., 5., 6., 6.],\n",
            "        [6., 5., 6., 6.],\n",
            "        [6., 5., 6., 6.]])\n"
          ]
        }
      ]
    },
    {
      "cell_type": "markdown",
      "source": [
        "##### Numpy 변환\n",
        "- CPU 상의 텐서와 NumPy 배열은 메모리 공간을 공유하기 때문에, 하나를 변경하면 다른 하나도 변경"
      ],
      "metadata": {
        "id": "9SFziK7d9cD6"
      }
    },
    {
      "cell_type": "code",
      "source": [
        "t = torch.ones(5)\n",
        "print(f\"t: {t}\")\n",
        "n = t.numpy()\n",
        "print(f\"n: {n}\")"
      ],
      "metadata": {
        "colab": {
          "base_uri": "https://localhost:8080/"
        },
        "id": "rQMlHlIZ9NoE",
        "outputId": "0b03c4d3-26d0-46b4-906c-0816bee6cc9f"
      },
      "execution_count": null,
      "outputs": [
        {
          "output_type": "stream",
          "name": "stdout",
          "text": [
            "t: tensor([1., 1., 1., 1., 1.])\n",
            "n: [1. 1. 1. 1. 1.]\n"
          ]
        }
      ]
    },
    {
      "cell_type": "code",
      "source": [
        "#텐서의 변경사항이 Numpy 배열에 반영됨\n",
        "t.add_(1)\n",
        "print(f\"t: {t}\")\n",
        "print(f\"n: {n}\")"
      ],
      "metadata": {
        "colab": {
          "base_uri": "https://localhost:8080/"
        },
        "id": "SfNpBnny9to4",
        "outputId": "fe2d1e6d-b237-4e51-a6e7-d09256484187"
      },
      "execution_count": null,
      "outputs": [
        {
          "output_type": "stream",
          "name": "stdout",
          "text": [
            "t: tensor([2., 2., 2., 2., 2.])\n",
            "n: [2. 2. 2. 2. 2.]\n"
          ]
        }
      ]
    },
    {
      "cell_type": "code",
      "source": [
        "n = np.ones(5)\n",
        "t = torch.from_numpy(n)"
      ],
      "metadata": {
        "id": "Hu7oKLq89t1h"
      },
      "execution_count": null,
      "outputs": []
    },
    {
      "cell_type": "code",
      "source": [
        "#NumPy 배열의 변경 사항이 텐서에 반영됨\n",
        "np.add(n, 1, out=n)\n",
        "print(f\"t: {t}\")\n",
        "print(f\"n: {n}\")"
      ],
      "metadata": {
        "colab": {
          "base_uri": "https://localhost:8080/"
        },
        "id": "JlI3AUPV98GL",
        "outputId": "7072f0ca-18f6-4269-9e42-4706661e54bd"
      },
      "execution_count": null,
      "outputs": [
        {
          "output_type": "stream",
          "name": "stdout",
          "text": [
            "t: tensor([2., 2., 2., 2., 2.], dtype=torch.float64)\n",
            "n: [2. 2. 2. 2. 2.]\n"
          ]
        }
      ]
    },
    {
      "cell_type": "code",
      "source": [],
      "metadata": {
        "id": "X5r-MFTq99He"
      },
      "execution_count": null,
      "outputs": []
    },
    {
      "cell_type": "markdown",
      "source": [
        "###2.Dataset과 DataLoader"
      ],
      "metadata": {
        "id": "uGMjP8dW-C2j"
      }
    },
    {
      "cell_type": "code",
      "source": [
        "import torch\n",
        "from torch.utils.data import Dataset\n",
        "from torchvision import datasets\n",
        "from torchvision.transforms import ToTensor\n",
        "import matplotlib.pyplot as plt"
      ],
      "metadata": {
        "id": "QUDubb0rNgY9"
      },
      "execution_count": null,
      "outputs": []
    },
    {
      "cell_type": "code",
      "source": [
        "training_data = datasets.FashionMNIST(\n",
        "    root = 'data',\n",
        "    train = True,\n",
        "    download = True,\n",
        "    transform = ToTensor(),\n",
        ")\n",
        "\n",
        "test_data = datasets.FashionMNIST(\n",
        "    root = 'data',\n",
        "    train = False,\n",
        "    download = True,\n",
        "    transform = ToTensor(),\n",
        ")"
      ],
      "metadata": {
        "colab": {
          "base_uri": "https://localhost:8080/"
        },
        "id": "bptvhNw8-GFD",
        "outputId": "65ebdbb3-70da-4366-f456-8029b0f88434"
      },
      "execution_count": null,
      "outputs": [
        {
          "output_type": "stream",
          "name": "stdout",
          "text": [
            "Downloading http://fashion-mnist.s3-website.eu-central-1.amazonaws.com/train-images-idx3-ubyte.gz\n",
            "Downloading http://fashion-mnist.s3-website.eu-central-1.amazonaws.com/train-images-idx3-ubyte.gz to data/FashionMNIST/raw/train-images-idx3-ubyte.gz\n"
          ]
        },
        {
          "output_type": "stream",
          "name": "stderr",
          "text": [
            "100%|██████████| 26421880/26421880 [00:01<00:00, 16498197.75it/s]\n"
          ]
        },
        {
          "output_type": "stream",
          "name": "stdout",
          "text": [
            "Extracting data/FashionMNIST/raw/train-images-idx3-ubyte.gz to data/FashionMNIST/raw\n",
            "\n",
            "Downloading http://fashion-mnist.s3-website.eu-central-1.amazonaws.com/train-labels-idx1-ubyte.gz\n",
            "Downloading http://fashion-mnist.s3-website.eu-central-1.amazonaws.com/train-labels-idx1-ubyte.gz to data/FashionMNIST/raw/train-labels-idx1-ubyte.gz\n"
          ]
        },
        {
          "output_type": "stream",
          "name": "stderr",
          "text": [
            "100%|██████████| 29515/29515 [00:00<00:00, 304865.45it/s]\n"
          ]
        },
        {
          "output_type": "stream",
          "name": "stdout",
          "text": [
            "Extracting data/FashionMNIST/raw/train-labels-idx1-ubyte.gz to data/FashionMNIST/raw\n",
            "\n",
            "Downloading http://fashion-mnist.s3-website.eu-central-1.amazonaws.com/t10k-images-idx3-ubyte.gz\n",
            "Downloading http://fashion-mnist.s3-website.eu-central-1.amazonaws.com/t10k-images-idx3-ubyte.gz to data/FashionMNIST/raw/t10k-images-idx3-ubyte.gz\n"
          ]
        },
        {
          "output_type": "stream",
          "name": "stderr",
          "text": [
            "100%|██████████| 4422102/4422102 [00:00<00:00, 5480106.63it/s]\n"
          ]
        },
        {
          "output_type": "stream",
          "name": "stdout",
          "text": [
            "Extracting data/FashionMNIST/raw/t10k-images-idx3-ubyte.gz to data/FashionMNIST/raw\n",
            "\n",
            "Downloading http://fashion-mnist.s3-website.eu-central-1.amazonaws.com/t10k-labels-idx1-ubyte.gz\n",
            "Downloading http://fashion-mnist.s3-website.eu-central-1.amazonaws.com/t10k-labels-idx1-ubyte.gz to data/FashionMNIST/raw/t10k-labels-idx1-ubyte.gz\n"
          ]
        },
        {
          "output_type": "stream",
          "name": "stderr",
          "text": [
            "100%|██████████| 5148/5148 [00:00<00:00, 15478334.76it/s]\n"
          ]
        },
        {
          "output_type": "stream",
          "name": "stdout",
          "text": [
            "Extracting data/FashionMNIST/raw/t10k-labels-idx1-ubyte.gz to data/FashionMNIST/raw\n",
            "\n"
          ]
        }
      ]
    },
    {
      "cell_type": "code",
      "source": [
        "labels_map = {\n",
        "    0: \"T-Shirt\",\n",
        "    1: \"Trouser\",\n",
        "    2: \"Pullover\",\n",
        "    3: \"Dress\",\n",
        "    4: \"Coat\",\n",
        "    5: \"Sandal\",\n",
        "    6: \"Shirt\",\n",
        "    7: \"Sneaker\",\n",
        "    8: \"Bag\",\n",
        "    9: \"Ankle Boot\",\n",
        "}"
      ],
      "metadata": {
        "id": "NYiTCPNUNv9P"
      },
      "execution_count": null,
      "outputs": []
    },
    {
      "cell_type": "code",
      "source": [
        "figure = plt.figure(figsize=(8,8))\n",
        "cols, rows = 3, 3\n",
        "for i in range(1, cols * rows + 1):\n",
        "    sample_idx = torch.randint(len(training_data), size=(1,)).item()\n",
        "    img, label = training_data[sample_idx] #dataset에 리스트처럼 접근(index) 가능\n",
        "    figure.add_subplot(rows, cols, i)\n",
        "    plt.title(labels_map[label])\n",
        "    plt.axis(\"off\")\n",
        "    plt.imshow(img.squeeze(), cmap=\"gray\")\n",
        "plt.show()"
      ],
      "metadata": {
        "colab": {
          "base_uri": "https://localhost:8080/",
          "height": 666
        },
        "id": "uZ4VUvpdNv_7",
        "outputId": "e74427d5-4e4d-470b-936e-626e82358a76"
      },
      "execution_count": null,
      "outputs": [
        {
          "output_type": "display_data",
          "data": {
            "text/plain": [
              "<Figure size 800x800 with 9 Axes>"
            ],
            "image/png": "[encoded data removed]"
          },
          "metadata": {}
        }
      ]
    },
    {
      "cell_type": "code",
      "source": [
        "import os\n",
        "import pandas as pd\n",
        "from torchvision.io import read_image\n",
        "\n",
        "class CustumImageDataset(Dataset):\n",
        "    def __init__(self, annotations_file, img_dir, transform=None, target_transform=None):\n",
        "        self.img_labels = pd.read_csv(annotations_file, names=['file_name','label'])\n",
        "        self.img_dir = img_dir\n",
        "        self.transform = transform\n",
        "        self.target_transform = target_transform\n",
        "\n",
        "    def __len__(self):\n",
        "        return len(self.img_labels)\n",
        "\n",
        "    def __getitem(self, idx):\n",
        "        img_path = os.path.join(self.img_dir, self.img_labels.iloc[idx, 0])\n",
        "        image = read_image(img_path)\n",
        "        label = self.img_labels[idx, i]\n",
        "        if self.transform:\n",
        "            image = self.transform(image)\n",
        "        if self.target_transform:\n",
        "            label = self.target_transform(label)\n",
        "        return image, label"
      ],
      "metadata": {
        "id": "_NERY_1oNwCc"
      },
      "execution_count": null,
      "outputs": []
    },
    {
      "cell_type": "code",
      "source": [
        "from torch.utils.data import DataLoader\n",
        "\n",
        "train_dataloader = DataLoader(training_data, batch_size = 64, shuffle=True)\n",
        "test_dataloader = DataLoader(test_data, batch_size = 64, shuffle=True)"
      ],
      "metadata": {
        "id": "pogL4i5_NwEx"
      },
      "execution_count": null,
      "outputs": []
    },
    {
      "cell_type": "code",
      "source": [
        "train_features, train_labels = next(iter(train_dataloader))\n",
        "print(f\"Feature batch shape: {train_features.size()}\")\n",
        "print(f\"Labels batch shape: {train_labels.size()}\")\n",
        "img = train_features[0].squeeze()\n",
        "label = train_labels[0]\n",
        "plt.imshow(img, cmap=\"gray\")\n",
        "plt.show()\n",
        "print(f\"Label: {label}\")"
      ],
      "metadata": {
        "colab": {
          "base_uri": "https://localhost:8080/",
          "height": 484
        },
        "id": "bGUhulauNwHL",
        "outputId": "3f0bf4a5-e8da-4526-e5ac-6c5a7a3c48dc"
      },
      "execution_count": null,
      "outputs": [
        {
          "output_type": "stream",
          "name": "stdout",
          "text": [
            "Feature batch shape: torch.Size([64, 1, 28, 28])\n",
            "Labels batch shape: torch.Size([64])\n"
          ]
        },
        {
          "output_type": "display_data",
          "data": {
            "text/plain": [
              "<Figure size 640x480 with 1 Axes>"
            ],
            "image/png": "[encoded data removed]"
          },
          "metadata": {}
        },
        {
          "output_type": "stream",
          "name": "stdout",
          "text": [
            "Label: 1\n"
          ]
        }
      ]
    },
    {
      "cell_type": "code",
      "source": [],
      "metadata": {
        "id": "ZIFBB7IAQMGU"
      },
      "execution_count": null,
      "outputs": []
    },
    {
      "cell_type": "markdown",
      "source": [
        "### 3.변형(Transform)"
      ],
      "metadata": {
        "id": "DuR8_tjI-Gac"
      }
    },
    {
      "cell_type": "code",
      "source": [
        "import torch\n",
        "from torchvision import datasets\n",
        "from torchvision.transforms import ToTensor, Lambda\n",
        "\n",
        "ds = datasets.FashionMNIST(\n",
        "    root='data',\n",
        "    train=True,\n",
        "    download=True,\n",
        "    transform = ToTensor(),\n",
        "    target_transform = Lambda(lambda y:\n",
        "                              torch.zeros(10, dtype=torch.float)\n",
        "                              .scatter_(dim=0, index=torch.tensor(y), value=1))\n",
        ")\n",
        "\n",
        "#lambda transform\n",
        "#크기 10짜리 zero tensor를 만들고 scatter_ 를 호출하여 주어진 정답 y에 해당하는 index에 value=1 할당"
      ],
      "metadata": {
        "id": "Nm5Gym5p-J9z"
      },
      "execution_count": null,
      "outputs": []
    },
    {
      "cell_type": "markdown",
      "source": [
        "###4.신경망 모델 구성하기"
      ],
      "metadata": {
        "id": "g7W3z5y5-Kko"
      }
    },
    {
      "cell_type": "code",
      "source": [
        "import os\n",
        "import torch\n",
        "from torch import nn\n",
        "from torch.utils.data import DataLoader\n",
        "from torchvision import datasets, transforms"
      ],
      "metadata": {
        "id": "-N8vB8Kj-MPm"
      },
      "execution_count": null,
      "outputs": []
    },
    {
      "cell_type": "code",
      "source": [
        "device = (\n",
        "    \"cuda\"\n",
        "    if torch.cuda.is_available()\n",
        "    else \"mps\"\n",
        "    if torch.backends.mps.is_available()\n",
        "    else \"cpu\"\n",
        ")\n",
        "print(f\"Using {device} device\")"
      ],
      "metadata": {
        "colab": {
          "base_uri": "https://localhost:8080/"
        },
        "id": "PA-7oTJCRXiA",
        "outputId": "b9d2c6f4-78d2-429e-83ec-a1131bcf9cf3"
      },
      "execution_count": null,
      "outputs": [
        {
          "output_type": "stream",
          "name": "stdout",
          "text": [
            "Using cpu device\n"
          ]
        }
      ]
    },
    {
      "cell_type": "code",
      "source": [
        "#모델 정의\n",
        "class NeuralNetwork(nn.Module):\n",
        "    def __init__(self):\n",
        "        super().__init__()\n",
        "        self.flatten = nn.Flatten()\n",
        "        self.linear_relu_stack = nn.Sequential(\n",
        "            nn.Linear(28*28, 512),\n",
        "            nn.ReLU(),\n",
        "            nn.Linear(512, 512),\n",
        "            nn.ReLU(),\n",
        "            nn.Linear(512, 10)\n",
        "        )\n",
        "\n",
        "    def forward(self, x):\n",
        "        x = self.flatten(x)\n",
        "        logits = self.linear_relu_stack(x)\n",
        "        return logits"
      ],
      "metadata": {
        "id": "M79pEBRVRXkp"
      },
      "execution_count": null,
      "outputs": []
    },
    {
      "cell_type": "code",
      "source": [
        "model = NeuralNetwork().to(device)\n",
        "print(model)"
      ],
      "metadata": {
        "colab": {
          "base_uri": "https://localhost:8080/"
        },
        "id": "pWVutWrdRXnK",
        "outputId": "b9fc67c8-94a4-4677-eeed-efce4685ea56"
      },
      "execution_count": null,
      "outputs": [
        {
          "output_type": "stream",
          "name": "stdout",
          "text": [
            "NeuralNetwork(\n",
            "  (flatten): Flatten(start_dim=1, end_dim=-1)\n",
            "  (linear_relu_stack): Sequential(\n",
            "    (0): Linear(in_features=784, out_features=512, bias=True)\n",
            "    (1): ReLU()\n",
            "    (2): Linear(in_features=512, out_features=512, bias=True)\n",
            "    (3): ReLU()\n",
            "    (4): Linear(in_features=512, out_features=10, bias=True)\n",
            "  )\n",
            ")\n"
          ]
        }
      ]
    },
    {
      "cell_type": "code",
      "source": [
        "X = torch.rand(1, 28, 28, device=device)\n",
        "logits = model(X)\n",
        "pred_probab = nn.Softmax(dim=1)(logits)\n",
        "y_pred = pred_probab.argmax(1)\n",
        "print(f\"Predicted class: {y_pred}\")"
      ],
      "metadata": {
        "colab": {
          "base_uri": "https://localhost:8080/"
        },
        "id": "wBXI5kmsRXpA",
        "outputId": "29a5f50e-0b97-4650-c4f6-5a84a3c4162e"
      },
      "execution_count": null,
      "outputs": [
        {
          "output_type": "stream",
          "name": "stdout",
          "text": [
            "Predicted class: tensor([6])\n"
          ]
        }
      ]
    },
    {
      "cell_type": "markdown",
      "source": [
        "##### 모델 계층 (Layer)"
      ],
      "metadata": {
        "id": "t2wpWbIOOJLF"
      }
    },
    {
      "cell_type": "code",
      "source": [
        "input_image = torch.rand(3, 28, 28)\n",
        "print(input_image.size())"
      ],
      "metadata": {
        "colab": {
          "base_uri": "https://localhost:8080/"
        },
        "id": "nVNGTJfpOABZ",
        "outputId": "52cfc045-288d-4f5d-bb5f-5474b14c4305"
      },
      "execution_count": null,
      "outputs": [
        {
          "output_type": "stream",
          "name": "stdout",
          "text": [
            "torch.Size([3, 28, 28])\n"
          ]
        }
      ]
    },
    {
      "cell_type": "code",
      "source": [
        "flatten = nn.Flatten() #dim=0의 미니배치 차원은 유지\n",
        "flat_image = flatten(input_image)\n",
        "print(flat_image.size())"
      ],
      "metadata": {
        "colab": {
          "base_uri": "https://localhost:8080/"
        },
        "id": "2EO9XB7ROAH7",
        "outputId": "8b62a00c-7c05-45f6-bc18-302a125e1c91"
      },
      "execution_count": null,
      "outputs": [
        {
          "output_type": "stream",
          "name": "stdout",
          "text": [
            "torch.Size([3, 784])\n"
          ]
        }
      ]
    },
    {
      "cell_type": "code",
      "source": [
        "layer1 = nn.Linear(in_features=28*28, out_features=20) #입력에 선형 변환(linear transformation) 적용\n",
        "hidden1 = layer1(flat_image)\n",
        "print(hidden1.size())"
      ],
      "metadata": {
        "colab": {
          "base_uri": "https://localhost:8080/"
        },
        "id": "VUhO01GwOAKu",
        "outputId": "a821f2a7-9f45-4b00-e8c2-b03ed3db68b9"
      },
      "execution_count": null,
      "outputs": [
        {
          "output_type": "stream",
          "name": "stdout",
          "text": [
            "torch.Size([3, 20])\n"
          ]
        }
      ]
    },
    {
      "cell_type": "code",
      "source": [
        "print(f\"Before ReLU: {hidden1}\\n\\n\")\n",
        "hidden1 = nn.ReLU()(hidden1) #비선형 활성화(activation)\n",
        "print(f\"After ReLU: {hidden1}\")"
      ],
      "metadata": {
        "colab": {
          "base_uri": "https://localhost:8080/"
        },
        "id": "x9kWdxJvOS10",
        "outputId": "13267976-18d1-4cfa-b525-6a7d9a6ec847"
      },
      "execution_count": null,
      "outputs": [
        {
          "output_type": "stream",
          "name": "stdout",
          "text": [
            "Before ReLU: tensor([[-0.1905,  0.2509, -0.1890,  0.2174,  0.3921, -0.2222,  0.3547, -0.4394,\n",
            "         -0.7154,  0.0346,  0.1474,  0.0905,  0.4157,  0.1203, -0.5176, -0.0317,\n",
            "         -0.6121, -0.1215,  0.3268, -0.4108],\n",
            "        [-0.3422,  0.1949,  0.0965,  0.5267,  0.2179, -0.2202,  0.1617, -0.3012,\n",
            "         -0.9237,  0.0495, -0.1219,  0.0228,  0.2115, -0.0324,  0.0554,  0.0540,\n",
            "         -0.4249, -0.0069,  0.1323, -0.3240],\n",
            "        [ 0.1061,  0.2895,  0.0778,  0.4875,  0.3401, -0.0352,  0.3924,  0.0136,\n",
            "         -0.9025,  0.0991, -0.1090,  0.2315,  0.3706,  0.4496, -0.1792,  0.0831,\n",
            "         -0.1327, -0.0045,  0.1523, -0.4885]], grad_fn=<AddmmBackward0>)\n",
            "\n",
            "\n",
            "After ReLU: tensor([[0.0000, 0.2509, 0.0000, 0.2174, 0.3921, 0.0000, 0.3547, 0.0000, 0.0000,\n",
            "         0.0346, 0.1474, 0.0905, 0.4157, 0.1203, 0.0000, 0.0000, 0.0000, 0.0000,\n",
            "         0.3268, 0.0000],\n",
            "        [0.0000, 0.1949, 0.0965, 0.5267, 0.2179, 0.0000, 0.1617, 0.0000, 0.0000,\n",
            "         0.0495, 0.0000, 0.0228, 0.2115, 0.0000, 0.0554, 0.0540, 0.0000, 0.0000,\n",
            "         0.1323, 0.0000],\n",
            "        [0.1061, 0.2895, 0.0778, 0.4875, 0.3401, 0.0000, 0.3924, 0.0136, 0.0000,\n",
            "         0.0991, 0.0000, 0.2315, 0.3706, 0.4496, 0.0000, 0.0831, 0.0000, 0.0000,\n",
            "         0.1523, 0.0000]], grad_fn=<ReluBackward0>)\n"
          ]
        }
      ]
    },
    {
      "cell_type": "code",
      "source": [
        "seq_modules = nn.Sequential(\n",
        "    flatten,\n",
        "    layer1,\n",
        "    nn.ReLU(),\n",
        "    nn.Linear(20, 10)\n",
        ") #nn.Sequential : 순서를 갖는 모듈의 컨테이너\n",
        "input_image = torch.rand(3,28,28)\n",
        "logits = seq_modules(input_image) #logit 반환"
      ],
      "metadata": {
        "id": "3dco2tuvOS7U"
      },
      "execution_count": null,
      "outputs": []
    },
    {
      "cell_type": "code",
      "source": [
        "softmax = nn.Softmax(dim=1)\n",
        "pred_probab = softmax(logits) #logit에서 확률로"
      ],
      "metadata": {
        "id": "y86M7whhOgcZ"
      },
      "execution_count": null,
      "outputs": []
    },
    {
      "cell_type": "code",
      "source": [
        "print(f\"Model structure: {model}\\n\\n\")\n",
        "\n",
        "for name, param in model.named_parameters():\n",
        "    print(f\"Layer: {name} | Size: {param.size()} | Values : {param[:2]} \\n\")"
      ],
      "metadata": {
        "colab": {
          "base_uri": "https://localhost:8080/"
        },
        "id": "oFf0NXs9Ogfu",
        "outputId": "81dc6b6d-2ef0-414c-c0be-f8171842d234"
      },
      "execution_count": null,
      "outputs": [
        {
          "output_type": "stream",
          "name": "stdout",
          "text": [
            "Model structure: NeuralNetwork(\n",
            "  (flatten): Flatten(start_dim=1, end_dim=-1)\n",
            "  (linear_relu_stack): Sequential(\n",
            "    (0): Linear(in_features=784, out_features=512, bias=True)\n",
            "    (1): ReLU()\n",
            "    (2): Linear(in_features=512, out_features=512, bias=True)\n",
            "    (3): ReLU()\n",
            "    (4): Linear(in_features=512, out_features=10, bias=True)\n",
            "  )\n",
            ")\n",
            "\n",
            "\n",
            "Layer: linear_relu_stack.0.weight | Size: torch.Size([512, 784]) | Values : tensor([[ 0.0181, -0.0052,  0.0251,  ...,  0.0096, -0.0199, -0.0133],\n",
            "        [-0.0270, -0.0189,  0.0356,  ..., -0.0354,  0.0176, -0.0332]],\n",
            "       grad_fn=<SliceBackward0>) \n",
            "\n",
            "Layer: linear_relu_stack.0.bias | Size: torch.Size([512]) | Values : tensor([0.0157, 0.0316], grad_fn=<SliceBackward0>) \n",
            "\n",
            "Layer: linear_relu_stack.2.weight | Size: torch.Size([512, 512]) | Values : tensor([[ 0.0346,  0.0003, -0.0056,  ...,  0.0429, -0.0225,  0.0010],\n",
            "        [-0.0267,  0.0372,  0.0366,  ...,  0.0099,  0.0414, -0.0044]],\n",
            "       grad_fn=<SliceBackward0>) \n",
            "\n",
            "Layer: linear_relu_stack.2.bias | Size: torch.Size([512]) | Values : tensor([-0.0080, -0.0106], grad_fn=<SliceBackward0>) \n",
            "\n",
            "Layer: linear_relu_stack.4.weight | Size: torch.Size([10, 512]) | Values : tensor([[ 0.0402, -0.0260,  0.0018,  ..., -0.0333, -0.0311, -0.0327],\n",
            "        [-0.0120,  0.0280,  0.0397,  ..., -0.0226, -0.0208, -0.0346]],\n",
            "       grad_fn=<SliceBackward0>) \n",
            "\n",
            "Layer: linear_relu_stack.4.bias | Size: torch.Size([10]) | Values : tensor([-0.0374, -0.0329], grad_fn=<SliceBackward0>) \n",
            "\n"
          ]
        }
      ]
    },
    {
      "cell_type": "code",
      "source": [],
      "metadata": {
        "id": "6D21k-ynO3j1"
      },
      "execution_count": null,
      "outputs": []
    },
    {
      "cell_type": "markdown",
      "source": [
        "###5.Autograd"
      ],
      "metadata": {
        "id": "WRkA0XU1-NCq"
      }
    },
    {
      "cell_type": "code",
      "source": [
        "import torch\n",
        "\n",
        "x = torch.ones(5) # input tensor\n",
        "y = torch.zeros(3) # expected output\n",
        "w = torch.randn(5, 3, requires_grad=True)\n",
        "b = torch.randn(3, requires_grad=True)\n",
        "z = torch.matmul(x, w)+b\n",
        "loss = torch.nn.functional.binary_cross_entropy_with_logits(z, y)"
      ],
      "metadata": {
        "id": "oKnZcLQqO3Hh"
      },
      "execution_count": null,
      "outputs": []
    },
    {
      "cell_type": "markdown",
      "source": [
        "![image.png](data:image/png;base64,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)"
      ],
      "metadata": {
        "id": "YoAuEZ0ePpld"
      }
    },
    {
      "cell_type": "code",
      "source": [
        "print(f\"Gradient function for z = {z.grad_fn}\")\n",
        "print(f\"Gradient function for loss = {loss.grad_fn}\")"
      ],
      "metadata": {
        "colab": {
          "base_uri": "https://localhost:8080/"
        },
        "id": "IYEzyj7ZN_fz",
        "outputId": "b63c8456-18e0-4a7a-f075-226eb8e64b30"
      },
      "execution_count": null,
      "outputs": [
        {
          "output_type": "stream",
          "name": "stdout",
          "text": [
            "Gradient function for z = <AddBackward0 object at 0x7b1bd3b14670>\n",
            "Gradient function for loss = <BinaryCrossEntropyWithLogitsBackward0 object at 0x7b1bd3b14700>\n"
          ]
        }
      ]
    },
    {
      "cell_type": "code",
      "source": [
        "loss.backward()\n",
        "print(w.grad)\n",
        "print(b.grad)"
      ],
      "metadata": {
        "colab": {
          "base_uri": "https://localhost:8080/"
        },
        "id": "uXIeBRFEN_kl",
        "outputId": "31905a33-a501-498c-8e6b-c9787cec9e6e"
      },
      "execution_count": null,
      "outputs": [
        {
          "output_type": "stream",
          "name": "stdout",
          "text": [
            "tensor([[0.2422, 0.0084, 0.0365],\n",
            "        [0.2422, 0.0084, 0.0365],\n",
            "        [0.2422, 0.0084, 0.0365],\n",
            "        [0.2422, 0.0084, 0.0365],\n",
            "        [0.2422, 0.0084, 0.0365]])\n",
            "tensor([0.2422, 0.0084, 0.0365])\n"
          ]
        }
      ]
    },
    {
      "cell_type": "code",
      "source": [
        "#변화도 추적 멈추기\n",
        "z = torch.matmul(x, w)+b\n",
        "print(z.requires_grad)\n",
        "\n",
        "with torch.no_grad():\n",
        "    z = torch.matmul(x, w)+b\n",
        "print(z.requires_grad)"
      ],
      "metadata": {
        "colab": {
          "base_uri": "https://localhost:8080/"
        },
        "id": "WH37ZNpl-PDs",
        "outputId": "c8730fe8-7cc0-4f19-9648-da19b0ac7f9e"
      },
      "execution_count": null,
      "outputs": [
        {
          "output_type": "stream",
          "name": "stdout",
          "text": [
            "True\n",
            "False\n"
          ]
        }
      ]
    },
    {
      "cell_type": "code",
      "source": [
        "#변화도 추적 멈추기\n",
        "z = torch.matmul(x, w)+b\n",
        "z_det = z.detach()\n",
        "print(z_det.requires_grad)"
      ],
      "metadata": {
        "colab": {
          "base_uri": "https://localhost:8080/"
        },
        "id": "kH1qB8juSdLs",
        "outputId": "29d70441-302c-43c5-b34c-9ceb5e78cca5"
      },
      "execution_count": null,
      "outputs": [
        {
          "output_type": "stream",
          "name": "stdout",
          "text": [
            "False\n"
          ]
        }
      ]
    },
    {
      "cell_type": "markdown",
      "source": [
        "##### 텐서 변화도와 야코비안 곱 (Jacobian Product)"
      ],
      "metadata": {
        "id": "A1wtJe-FSn_8"
      }
    },
    {
      "cell_type": "code",
      "source": [
        "inp = torch.eye(4, 5, requires_grad=True)\n",
        "out = (inp+1).pow(2).t()\n",
        "out.backward(torch.ones_like(out), retain_graph=True)\n",
        "print(f\"First call\\n{inp.grad}\")\n",
        "out.backward(torch.ones_like(out), retain_graph=True)\n",
        "print(f\"\\nSecond call\\n{inp.grad}\")\n",
        "inp.grad.zero_()\n",
        "out.backward(torch.ones_like(out), retain_graph=True)\n",
        "print(f\"\\nCall after zeroing gradients\\n{inp.grad}\")"
      ],
      "metadata": {
        "colab": {
          "base_uri": "https://localhost:8080/"
        },
        "id": "BCDD-WV6SdPQ",
        "outputId": "99fb56a2-b769-4753-9178-106aba8ac7b7"
      },
      "execution_count": null,
      "outputs": [
        {
          "output_type": "stream",
          "name": "stdout",
          "text": [
            "First call\n",
            "tensor([[4., 2., 2., 2., 2.],\n",
            "        [2., 4., 2., 2., 2.],\n",
            "        [2., 2., 4., 2., 2.],\n",
            "        [2., 2., 2., 4., 2.]])\n",
            "\n",
            "Second call\n",
            "tensor([[8., 4., 4., 4., 4.],\n",
            "        [4., 8., 4., 4., 4.],\n",
            "        [4., 4., 8., 4., 4.],\n",
            "        [4., 4., 4., 8., 4.]])\n",
            "\n",
            "Call after zeroing gradients\n",
            "tensor([[4., 2., 2., 2., 2.],\n",
            "        [2., 4., 2., 2., 2.],\n",
            "        [2., 2., 4., 2., 2.],\n",
            "        [2., 2., 2., 4., 2.]])\n"
          ]
        }
      ]
    },
    {
      "cell_type": "code",
      "source": [],
      "metadata": {
        "id": "jscl2GoBSq2S"
      },
      "execution_count": null,
      "outputs": []
    },
    {
      "cell_type": "markdown",
      "source": [
        "###6.최적화(Optimization)"
      ],
      "metadata": {
        "id": "ptbMOrBv-Pgp"
      }
    },
    {
      "cell_type": "code",
      "source": [
        "import torch\n",
        "from torch import nn\n",
        "from torch.utils.data import DataLoader\n",
        "from torchvision import datasets\n",
        "from torchvision.transforms import ToTensor\n",
        "\n",
        "training_data = datasets.FashionMNIST(\n",
        "    root=\"data\",\n",
        "    train=True,\n",
        "    download=True,\n",
        "    transform=ToTensor()\n",
        ")\n",
        "\n",
        "test_data = datasets.FashionMNIST(\n",
        "    root=\"data\",\n",
        "    train=False,\n",
        "    download=True,\n",
        "    transform=ToTensor()\n",
        ")\n",
        "\n",
        "train_dataloader = DataLoader(training_data, batch_size=64)\n",
        "test_dataloader = DataLoader(test_data, batch_size=64)\n",
        "\n",
        "class NeuralNetwork(nn.Module):\n",
        "    def __init__(self):\n",
        "        super(NeuralNetwork, self).__init__()\n",
        "        self.flatten = nn.Flatten()\n",
        "        self.linear_relu_stack = nn.Sequential(\n",
        "            nn.Linear(28*28, 512),\n",
        "            nn.ReLU(),\n",
        "            nn.Linear(512, 512),\n",
        "            nn.ReLU(),\n",
        "            nn.Linear(512, 10),\n",
        "        )\n",
        "\n",
        "    def forward(self, x):\n",
        "        x = self.flatten(x)\n",
        "        logits = self.linear_relu_stack(x)\n",
        "        return logits\n",
        "\n",
        "model = NeuralNetwork()"
      ],
      "metadata": {
        "colab": {
          "base_uri": "https://localhost:8080/"
        },
        "id": "8WUUdWCl-kDY",
        "outputId": "88eae1b0-d5e9-4670-89ef-6be0b8fe6c9c"
      },
      "execution_count": null,
      "outputs": [
        {
          "output_type": "stream",
          "name": "stdout",
          "text": [
            "Downloading http://fashion-mnist.s3-website.eu-central-1.amazonaws.com/train-images-idx3-ubyte.gz\n",
            "Downloading http://fashion-mnist.s3-website.eu-central-1.amazonaws.com/train-images-idx3-ubyte.gz to data/FashionMNIST/raw/train-images-idx3-ubyte.gz\n"
          ]
        },
        {
          "output_type": "stream",
          "name": "stderr",
          "text": [
            "100%|██████████| 26421880/26421880 [00:02<00:00, 11510639.36it/s]\n"
          ]
        },
        {
          "output_type": "stream",
          "name": "stdout",
          "text": [
            "Extracting data/FashionMNIST/raw/train-images-idx3-ubyte.gz to data/FashionMNIST/raw\n",
            "\n",
            "Downloading http://fashion-mnist.s3-website.eu-central-1.amazonaws.com/train-labels-idx1-ubyte.gz\n",
            "Downloading http://fashion-mnist.s3-website.eu-central-1.amazonaws.com/train-labels-idx1-ubyte.gz to data/FashionMNIST/raw/train-labels-idx1-ubyte.gz\n"
          ]
        },
        {
          "output_type": "stream",
          "name": "stderr",
          "text": [
            "100%|██████████| 29515/29515 [00:00<00:00, 206658.21it/s]\n"
          ]
        },
        {
          "output_type": "stream",
          "name": "stdout",
          "text": [
            "Extracting data/FashionMNIST/raw/train-labels-idx1-ubyte.gz to data/FashionMNIST/raw\n",
            "\n",
            "Downloading http://fashion-mnist.s3-website.eu-central-1.amazonaws.com/t10k-images-idx3-ubyte.gz\n",
            "Downloading http://fashion-mnist.s3-website.eu-central-1.amazonaws.com/t10k-images-idx3-ubyte.gz to data/FashionMNIST/raw/t10k-images-idx3-ubyte.gz\n"
          ]
        },
        {
          "output_type": "stream",
          "name": "stderr",
          "text": [
            "100%|██████████| 4422102/4422102 [00:01<00:00, 3906973.16it/s]\n"
          ]
        },
        {
          "output_type": "stream",
          "name": "stdout",
          "text": [
            "Extracting data/FashionMNIST/raw/t10k-images-idx3-ubyte.gz to data/FashionMNIST/raw\n",
            "\n",
            "Downloading http://fashion-mnist.s3-website.eu-central-1.amazonaws.com/t10k-labels-idx1-ubyte.gz\n",
            "Downloading http://fashion-mnist.s3-website.eu-central-1.amazonaws.com/t10k-labels-idx1-ubyte.gz to data/FashionMNIST/raw/t10k-labels-idx1-ubyte.gz\n"
          ]
        },
        {
          "output_type": "stream",
          "name": "stderr",
          "text": [
            "100%|██████████| 5148/5148 [00:00<00:00, 4855470.43it/s]"
          ]
        },
        {
          "output_type": "stream",
          "name": "stdout",
          "text": [
            "Extracting data/FashionMNIST/raw/t10k-labels-idx1-ubyte.gz to data/FashionMNIST/raw\n",
            "\n"
          ]
        },
        {
          "output_type": "stream",
          "name": "stderr",
          "text": [
            "\n"
          ]
        }
      ]
    },
    {
      "cell_type": "code",
      "source": [
        "#하이퍼파라미터\n",
        "learning_rate = 1e-3\n",
        "batch_size = 64\n",
        "epochs = 5"
      ],
      "metadata": {
        "id": "bGcEYTnmTgVI"
      },
      "execution_count": null,
      "outputs": []
    },
    {
      "cell_type": "code",
      "source": [
        "#손실 함수\n",
        "loss_fn = nn.CrossEntropyLoss()"
      ],
      "metadata": {
        "id": "aSdttEfsTgYa"
      },
      "execution_count": null,
      "outputs": []
    },
    {
      "cell_type": "code",
      "source": [
        "#옵티마이저\n",
        "optimizer = torch.optim.SGD(model.parameters(), lr=learning_rate)"
      ],
      "metadata": {
        "id": "geggTe6nTgbF"
      },
      "execution_count": null,
      "outputs": []
    },
    {
      "cell_type": "code",
      "source": [
        "def train_loop(dataloader, model, loss_fn, optimizer):\n",
        "    size = len(dataloader.dataset)\n",
        "    for batch, (X, y) in enumerate(dataloader):\n",
        "        pred = model(X)\n",
        "        loss = loss_fn(pred, y)\n",
        "        optimizer.zero_grad()\n",
        "        loss.backward()\n",
        "        optimizer.step()\n",
        "\n",
        "        if batch % 100 == 0:\n",
        "            loss, current = loss.item(), (batch + 1) * len(X)\n",
        "            print(f\"loss: {loss:>7f}  [{current:>5d}/{size:>5d}]\")\n",
        "\n",
        "\n",
        "def test_loop(dataloader, model, loss_fn):\n",
        "    size = len(dataloader.dataset)\n",
        "    num_batches = len(dataloader)\n",
        "    test_loss, correct = 0, 0\n",
        "\n",
        "    with torch.no_grad():\n",
        "        for X, y in dataloader:\n",
        "            pred = model(X)\n",
        "            test_loss += loss_fn(pred, y).item()\n",
        "            correct += (pred.argmax(1) == y).type(torch.float).sum().item()\n",
        "\n",
        "    test_loss /= num_batches\n",
        "    correct /= size\n",
        "    print(f\"Test Error: \\n Accuracy: {(100*correct):>0.1f}%, Avg loss: {test_loss:>8f} \\n\")"
      ],
      "metadata": {
        "id": "p9woO1bgTgdu"
      },
      "execution_count": null,
      "outputs": []
    },
    {
      "cell_type": "code",
      "source": [
        "epochs = 10\n",
        "for t in range(epochs):\n",
        "    print(f\"Epoch {t+1}\\n-------------------------------\")\n",
        "    train_loop(train_dataloader, model, loss_fn, optimizer)\n",
        "    test_loop(test_dataloader, model, loss_fn)\n",
        "print(\"Done!\")"
      ],
      "metadata": {
        "colab": {
          "base_uri": "https://localhost:8080/"
        },
        "id": "bOv3ypXATggW",
        "outputId": "24b1c966-aede-4096-9ac1-2c03ac5ed617"
      },
      "execution_count": null,
      "outputs": [
        {
          "output_type": "stream",
          "name": "stdout",
          "text": [
            "Epoch 1\n",
            "-------------------------------\n",
            "loss: 2.301141  [   64/60000]\n",
            "loss: 2.287618  [ 6464/60000]\n",
            "loss: 2.278130  [12864/60000]\n",
            "loss: 2.279611  [19264/60000]\n",
            "loss: 2.253889  [25664/60000]\n",
            "loss: 2.226249  [32064/60000]\n",
            "loss: 2.250206  [38464/60000]\n",
            "loss: 2.214806  [44864/60000]\n",
            "loss: 2.214750  [51264/60000]\n",
            "loss: 2.183168  [57664/60000]\n",
            "Test Error: \n",
            " Accuracy: 33.4%, Avg loss: 2.178179 \n",
            "\n",
            "Epoch 2\n",
            "-------------------------------\n",
            "loss: 2.189539  [   64/60000]\n",
            "loss: 2.171374  [ 6464/60000]\n",
            "loss: 2.129866  [12864/60000]\n",
            "loss: 2.148182  [19264/60000]\n",
            "loss: 2.084847  [25664/60000]\n",
            "loss: 2.035551  [32064/60000]\n",
            "loss: 2.072827  [38464/60000]\n",
            "loss: 1.997236  [44864/60000]\n",
            "loss: 2.006185  [51264/60000]\n",
            "loss: 1.932511  [57664/60000]\n",
            "Test Error: \n",
            " Accuracy: 51.8%, Avg loss: 1.930061 \n",
            "\n",
            "Epoch 3\n",
            "-------------------------------\n",
            "loss: 1.962537  [   64/60000]\n",
            "loss: 1.922288  [ 6464/60000]\n",
            "loss: 1.824730  [12864/60000]\n",
            "loss: 1.868098  [19264/60000]\n",
            "loss: 1.742863  [25664/60000]\n",
            "loss: 1.698107  [32064/60000]\n",
            "loss: 1.723712  [38464/60000]\n",
            "loss: 1.628772  [44864/60000]\n",
            "loss: 1.651927  [51264/60000]\n",
            "loss: 1.543362  [57664/60000]\n",
            "Test Error: \n",
            " Accuracy: 62.2%, Avg loss: 1.561299 \n",
            "\n",
            "Epoch 4\n",
            "-------------------------------\n",
            "loss: 1.628142  [   64/60000]\n",
            "loss: 1.582228  [ 6464/60000]\n",
            "loss: 1.449150  [12864/60000]\n",
            "loss: 1.516779  [19264/60000]\n",
            "loss: 1.387091  [25664/60000]\n",
            "loss: 1.381175  [32064/60000]\n",
            "loss: 1.392707  [38464/60000]\n",
            "loss: 1.324469  [44864/60000]\n",
            "loss: 1.354713  [51264/60000]\n",
            "loss: 1.251018  [57664/60000]\n",
            "Test Error: \n",
            " Accuracy: 63.9%, Avg loss: 1.278616 \n",
            "\n",
            "Epoch 5\n",
            "-------------------------------\n",
            "loss: 1.358671  [   64/60000]\n",
            "loss: 1.331807  [ 6464/60000]\n",
            "loss: 1.178573  [12864/60000]\n",
            "loss: 1.280498  [19264/60000]\n",
            "loss: 1.145715  [25664/60000]\n",
            "loss: 1.167848  [32064/60000]\n",
            "loss: 1.185930  [38464/60000]\n",
            "loss: 1.132948  [44864/60000]\n",
            "loss: 1.165987  [51264/60000]\n",
            "loss: 1.079097  [57664/60000]\n",
            "Test Error: \n",
            " Accuracy: 65.0%, Avg loss: 1.102140 \n",
            "\n",
            "Epoch 6\n",
            "-------------------------------\n",
            "loss: 1.175484  [   64/60000]\n",
            "loss: 1.172547  [ 6464/60000]\n",
            "loss: 0.999654  [12864/60000]\n",
            "loss: 1.134894  [19264/60000]\n",
            "loss: 0.997415  [25664/60000]\n",
            "loss: 1.025947  [32064/60000]\n",
            "loss: 1.060156  [38464/60000]\n",
            "loss: 1.012960  [44864/60000]\n",
            "loss: 1.044512  [51264/60000]\n",
            "loss: 0.971926  [57664/60000]\n",
            "Test Error: \n",
            " Accuracy: 65.8%, Avg loss: 0.989882 \n",
            "\n",
            "Epoch 7\n",
            "-------------------------------\n",
            "loss: 1.049541  [   64/60000]\n",
            "loss: 1.071032  [ 6464/60000]\n",
            "loss: 0.878899  [12864/60000]\n",
            "loss: 1.039422  [19264/60000]\n",
            "loss: 0.905020  [25664/60000]\n",
            "loss: 0.927412  [32064/60000]\n",
            "loss: 0.979762  [38464/60000]\n",
            "loss: 0.936792  [44864/60000]\n",
            "loss: 0.961280  [51264/60000]\n",
            "loss: 0.900906  [57664/60000]\n",
            "Test Error: \n",
            " Accuracy: 66.9%, Avg loss: 0.914623 \n",
            "\n",
            "Epoch 8\n",
            "-------------------------------\n",
            "loss: 0.958568  [   64/60000]\n",
            "loss: 1.002349  [ 6464/60000]\n",
            "loss: 0.793907  [12864/60000]\n",
            "loss: 0.972710  [19264/60000]\n",
            "loss: 0.844285  [25664/60000]\n",
            "loss: 0.856349  [32064/60000]\n",
            "loss: 0.924821  [38464/60000]\n",
            "loss: 0.887017  [44864/60000]\n",
            "loss: 0.901847  [51264/60000]\n",
            "loss: 0.850553  [57664/60000]\n",
            "Test Error: \n",
            " Accuracy: 68.1%, Avg loss: 0.861235 \n",
            "\n",
            "Epoch 9\n",
            "-------------------------------\n",
            "loss: 0.890234  [   64/60000]\n",
            "loss: 0.952251  [ 6464/60000]\n",
            "loss: 0.731300  [12864/60000]\n",
            "loss: 0.923474  [19264/60000]\n",
            "loss: 0.801665  [25664/60000]\n",
            "loss: 0.803487  [32064/60000]\n",
            "loss: 0.884506  [38464/60000]\n",
            "loss: 0.852868  [44864/60000]\n",
            "loss: 0.857514  [51264/60000]\n",
            "loss: 0.812602  [57664/60000]\n",
            "Test Error: \n",
            " Accuracy: 69.2%, Avg loss: 0.821245 \n",
            "\n",
            "Epoch 10\n",
            "-------------------------------\n",
            "loss: 0.836720  [   64/60000]\n",
            "loss: 0.912586  [ 6464/60000]\n",
            "loss: 0.683123  [12864/60000]\n",
            "loss: 0.885479  [19264/60000]\n",
            "loss: 0.769617  [25664/60000]\n",
            "loss: 0.763079  [32064/60000]\n",
            "loss: 0.852702  [38464/60000]\n",
            "loss: 0.828104  [44864/60000]\n",
            "loss: 0.823094  [51264/60000]\n",
            "loss: 0.782294  [57664/60000]\n",
            "Test Error: \n",
            " Accuracy: 70.3%, Avg loss: 0.789745 \n",
            "\n",
            "Done!\n"
          ]
        }
      ]
    },
    {
      "cell_type": "code",
      "source": [],
      "metadata": {
        "id": "hHVsGWsGTgmd"
      },
      "execution_count": null,
      "outputs": []
    },
    {
      "cell_type": "markdown",
      "source": [
        "###7.모델 저장하고 불러오기"
      ],
      "metadata": {
        "id": "7DYrotMB-kml"
      }
    },
    {
      "cell_type": "code",
      "source": [
        "import torch\n",
        "import torchvision.models as models"
      ],
      "metadata": {
        "id": "Zo174Wu9-mtG"
      },
      "execution_count": null,
      "outputs": []
    },
    {
      "cell_type": "markdown",
      "source": [
        "##### 모델의 가중치 저장하고 불러오기"
      ],
      "metadata": {
        "id": "f1B76an4UcU7"
      }
    },
    {
      "cell_type": "code",
      "source": [
        "#모델 가중치 저장하기\n",
        "model = models.vgg16(weights='IMAGENET1K_V1')\n",
        "torch.save(model.state_dict(), 'model_weights.pth')"
      ],
      "metadata": {
        "colab": {
          "base_uri": "https://localhost:8080/"
        },
        "id": "_LAOxD6aULIQ",
        "outputId": "c16efef2-da5d-43b0-9efa-c4281e935e51"
      },
      "execution_count": null,
      "outputs": [
        {
          "output_type": "stream",
          "name": "stderr",
          "text": [
            "Downloading: \"https://download.pytorch.org/models/vgg16-397923af.pth\" to /root/.cache/torch/hub/checkpoints/vgg16-397923af.pth\n",
            "100%|██████████| 528M/528M [00:08<00:00, 65.8MB/s]\n"
          ]
        }
      ]
    },
    {
      "cell_type": "code",
      "source": [
        "#모델 가중치 불러오기\n",
        "model = models.vgg16()\n",
        "model.load_state_dict(torch.load('model_weights.pth'))\n",
        "model.eval()"
      ],
      "metadata": {
        "colab": {
          "base_uri": "https://localhost:8080/"
        },
        "id": "t54RJ2gIUNBL",
        "outputId": "eba53b9b-c9cb-420e-a9fd-5a370a719805"
      },
      "execution_count": null,
      "outputs": [
        {
          "output_type": "execute_result",
          "data": {
            "text/plain": [
              "VGG(\n",
              "  (features): Sequential(\n",
              "    (0): Conv2d(3, 64, kernel_size=(3, 3), stride=(1, 1), padding=(1, 1))\n",
              "    (1): ReLU(inplace=True)\n",
              "    (2): Conv2d(64, 64, kernel_size=(3, 3), stride=(1, 1), padding=(1, 1))\n",
              "    (3): ReLU(inplace=True)\n",
              "    (4): MaxPool2d(kernel_size=2, stride=2, padding=0, dilation=1, ceil_mode=False)\n",
              "    (5): Conv2d(64, 128, kernel_size=(3, 3), stride=(1, 1), padding=(1, 1))\n",
              "    (6): ReLU(inplace=True)\n",
              "    (7): Conv2d(128, 128, kernel_size=(3, 3), stride=(1, 1), padding=(1, 1))\n",
              "    (8): ReLU(inplace=True)\n",
              "    (9): MaxPool2d(kernel_size=2, stride=2, padding=0, dilation=1, ceil_mode=False)\n",
              "    (10): Conv2d(128, 256, kernel_size=(3, 3), stride=(1, 1), padding=(1, 1))\n",
              "    (11): ReLU(inplace=True)\n",
              "    (12): Conv2d(256, 256, kernel_size=(3, 3), stride=(1, 1), padding=(1, 1))\n",
              "    (13): ReLU(inplace=True)\n",
              "    (14): Conv2d(256, 256, kernel_size=(3, 3), stride=(1, 1), padding=(1, 1))\n",
              "    (15): ReLU(inplace=True)\n",
              "    (16): MaxPool2d(kernel_size=2, stride=2, padding=0, dilation=1, ceil_mode=False)\n",
              "    (17): Conv2d(256, 512, kernel_size=(3, 3), stride=(1, 1), padding=(1, 1))\n",
              "    (18): ReLU(inplace=True)\n",
              "    (19): Conv2d(512, 512, kernel_size=(3, 3), stride=(1, 1), padding=(1, 1))\n",
              "    (20): ReLU(inplace=True)\n",
              "    (21): Conv2d(512, 512, kernel_size=(3, 3), stride=(1, 1), padding=(1, 1))\n",
              "    (22): ReLU(inplace=True)\n",
              "    (23): MaxPool2d(kernel_size=2, stride=2, padding=0, dilation=1, ceil_mode=False)\n",
              "    (24): Conv2d(512, 512, kernel_size=(3, 3), stride=(1, 1), padding=(1, 1))\n",
              "    (25): ReLU(inplace=True)\n",
              "    (26): Conv2d(512, 512, kernel_size=(3, 3), stride=(1, 1), padding=(1, 1))\n",
              "    (27): ReLU(inplace=True)\n",
              "    (28): Conv2d(512, 512, kernel_size=(3, 3), stride=(1, 1), padding=(1, 1))\n",
              "    (29): ReLU(inplace=True)\n",
              "    (30): MaxPool2d(kernel_size=2, stride=2, padding=0, dilation=1, ceil_mode=False)\n",
              "  )\n",
              "  (avgpool): AdaptiveAvgPool2d(output_size=(7, 7))\n",
              "  (classifier): Sequential(\n",
              "    (0): Linear(in_features=25088, out_features=4096, bias=True)\n",
              "    (1): ReLU(inplace=True)\n",
              "    (2): Dropout(p=0.5, inplace=False)\n",
              "    (3): Linear(in_features=4096, out_features=4096, bias=True)\n",
              "    (4): ReLU(inplace=True)\n",
              "    (5): Dropout(p=0.5, inplace=False)\n",
              "    (6): Linear(in_features=4096, out_features=1000, bias=True)\n",
              "  )\n",
              ")"
            ]
          },
          "metadata": {},
          "execution_count": 32
        }
      ]
    },
    {
      "cell_type": "markdown",
      "source": [
        "##### 모델의 형태를 포함하여 저정하고 불러오기\n",
        "\n",
        "이 접근 방식은 Python pickle 모듈을 사용하여 모델을 직렬화(serialize)하므로, 모델을 불러올 때 실제 클래스 정의(definition)를 적용(rely on)합니다."
      ],
      "metadata": {
        "id": "iFWHVpe2UZeE"
      }
    },
    {
      "cell_type": "code",
      "source": [
        "torch.save(model, 'model.pth')"
      ],
      "metadata": {
        "id": "wYmZZbsvUWmy"
      },
      "execution_count": null,
      "outputs": []
    },
    {
      "cell_type": "code",
      "source": [
        "model = torch.load('model.pth')"
      ],
      "metadata": {
        "id": "viOP9frSUiF6"
      },
      "execution_count": null,
      "outputs": []
    },
    {
      "cell_type": "code",
      "source": [
        "model"
      ],
      "metadata": {
        "colab": {
          "base_uri": "https://localhost:8080/"
        },
        "id": "gbkEVktHU6NQ",
        "outputId": "07e14e6d-00f5-4c20-c109-11ff4f8685fb"
      },
      "execution_count": null,
      "outputs": [
        {
          "output_type": "execute_result",
          "data": {
            "text/plain": [
              "VGG(\n",
              "  (features): Sequential(\n",
              "    (0): Conv2d(3, 64, kernel_size=(3, 3), stride=(1, 1), padding=(1, 1))\n",
              "    (1): ReLU(inplace=True)\n",
              "    (2): Conv2d(64, 64, kernel_size=(3, 3), stride=(1, 1), padding=(1, 1))\n",
              "    (3): ReLU(inplace=True)\n",
              "    (4): MaxPool2d(kernel_size=2, stride=2, padding=0, dilation=1, ceil_mode=False)\n",
              "    (5): Conv2d(64, 128, kernel_size=(3, 3), stride=(1, 1), padding=(1, 1))\n",
              "    (6): ReLU(inplace=True)\n",
              "    (7): Conv2d(128, 128, kernel_size=(3, 3), stride=(1, 1), padding=(1, 1))\n",
              "    (8): ReLU(inplace=True)\n",
              "    (9): MaxPool2d(kernel_size=2, stride=2, padding=0, dilation=1, ceil_mode=False)\n",
              "    (10): Conv2d(128, 256, kernel_size=(3, 3), stride=(1, 1), padding=(1, 1))\n",
              "    (11): ReLU(inplace=True)\n",
              "    (12): Conv2d(256, 256, kernel_size=(3, 3), stride=(1, 1), padding=(1, 1))\n",
              "    (13): ReLU(inplace=True)\n",
              "    (14): Conv2d(256, 256, kernel_size=(3, 3), stride=(1, 1), padding=(1, 1))\n",
              "    (15): ReLU(inplace=True)\n",
              "    (16): MaxPool2d(kernel_size=2, stride=2, padding=0, dilation=1, ceil_mode=False)\n",
              "    (17): Conv2d(256, 512, kernel_size=(3, 3), stride=(1, 1), padding=(1, 1))\n",
              "    (18): ReLU(inplace=True)\n",
              "    (19): Conv2d(512, 512, kernel_size=(3, 3), stride=(1, 1), padding=(1, 1))\n",
              "    (20): ReLU(inplace=True)\n",
              "    (21): Conv2d(512, 512, kernel_size=(3, 3), stride=(1, 1), padding=(1, 1))\n",
              "    (22): ReLU(inplace=True)\n",
              "    (23): MaxPool2d(kernel_size=2, stride=2, padding=0, dilation=1, ceil_mode=False)\n",
              "    (24): Conv2d(512, 512, kernel_size=(3, 3), stride=(1, 1), padding=(1, 1))\n",
              "    (25): ReLU(inplace=True)\n",
              "    (26): Conv2d(512, 512, kernel_size=(3, 3), stride=(1, 1), padding=(1, 1))\n",
              "    (27): ReLU(inplace=True)\n",
              "    (28): Conv2d(512, 512, kernel_size=(3, 3), stride=(1, 1), padding=(1, 1))\n",
              "    (29): ReLU(inplace=True)\n",
              "    (30): MaxPool2d(kernel_size=2, stride=2, padding=0, dilation=1, ceil_mode=False)\n",
              "  )\n",
              "  (avgpool): AdaptiveAvgPool2d(output_size=(7, 7))\n",
              "  (classifier): Sequential(\n",
              "    (0): Linear(in_features=25088, out_features=4096, bias=True)\n",
              "    (1): ReLU(inplace=True)\n",
              "    (2): Dropout(p=0.5, inplace=False)\n",
              "    (3): Linear(in_features=4096, out_features=4096, bias=True)\n",
              "    (4): ReLU(inplace=True)\n",
              "    (5): Dropout(p=0.5, inplace=False)\n",
              "    (6): Linear(in_features=4096, out_features=1000, bias=True)\n",
              "  )\n",
              ")"
            ]
          },
          "metadata": {},
          "execution_count": 35
        }
      ]
    },
    {
      "cell_type": "code",
      "source": [],
      "metadata": {
        "id": "PtIr-qx_U7Za"
      },
      "execution_count": null,
      "outputs": []
    }
  ]
}