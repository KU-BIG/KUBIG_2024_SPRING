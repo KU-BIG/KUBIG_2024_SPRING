{
  "nbformat": 4,
  "nbformat_minor": 0,
  "metadata": {
    "colab": {
      "provenance": [],
      "gpuType": "T4"
    },
    "kernelspec": {
      "name": "python3",
      "display_name": "Python 3"
    },
    "language_info": {
      "name": "python"
    },
    "accelerator": "GPU"
  },
  "cells": [
    {
      "cell_type": "code",
      "execution_count": 1,
      "metadata": {
        "id": "nmQ5F7UAeKB_"
      },
      "outputs": [],
      "source": [
        "import numpy as np\n",
        "import torch\n",
        "import torch.nn as nn\n",
        "import torch.optim as optim"
      ]
    },
    {
      "cell_type": "markdown",
      "source": [
        "## Task1\n",
        "\n",
        "빈 칸을 채워주세요!\n",
        "\n",
        "단계별 output이 github 파일에는 남아있으니 그 output과 동일한 형태인지 확인하면서 진행해주시면 됩니다~"
      ],
      "metadata": {
        "id": "Sgxd6SxmeVcP"
      }
    },
    {
      "cell_type": "markdown",
      "source": [
        "**정수 임베딩**\n",
        "\n",
        "*   일반적으로 단어 등장 빈도수를 기준으로 정렬한 뒤에 부여\n",
        "*   단어를 빈도수 순으로 정렬한 단어 집합(vocabulary)을 만들고, 빈도수가 높은 순서대로 차례로 낮은 숫자부터 정수를 부여\n",
        "\n"
      ],
      "metadata": {
        "id": "0VyrHUs2qTfr"
      }
    },
    {
      "cell_type": "code",
      "source": [
        "#1. 생성할 문장 데이터\n",
        "\n",
        "sentence = (\"Brick walls are there for a reason and you must not think \"\n",
        "            \"that the brick walls aren't there to keep us out, but rather \"\n",
        "            \"in this way that the brick walls are there to show us how badly we want things.\")"
      ],
      "metadata": {
        "id": "NDvUeC8BoUb6"
      },
      "execution_count": 2,
      "outputs": []
    },
    {
      "cell_type": "markdown",
      "source": [
        "*   python에서 list(set(a))는 실행할 때마다 바뀐다고 함\n",
        "*   그래서 이 아래로 output이 쭉 달라짐\n",
        "* https://stackoverflow.com/questions/37037885/does-python-listseta-change-its-order-every-time"
      ],
      "metadata": {
        "id": "SG0jDmuQvew9"
      }
    },
    {
      "cell_type": "code",
      "source": [
        "list(set(sentence))"
      ],
      "metadata": {
        "colab": {
          "base_uri": "https://localhost:8080/"
        },
        "id": "yIfWBnsuu0U8",
        "outputId": "ca9212a1-6754-40cb-fec8-ff167e6b509c"
      },
      "execution_count": 3,
      "outputs": [
        {
          "output_type": "execute_result",
          "data": {
            "text/plain": [
              "['p',\n",
              " 't',\n",
              " 'm',\n",
              " \"'\",\n",
              " 'o',\n",
              " 'r',\n",
              " 'u',\n",
              " '.',\n",
              " 'g',\n",
              " 'e',\n",
              " 'l',\n",
              " 'a',\n",
              " 'y',\n",
              " 'b',\n",
              " 'k',\n",
              " 's',\n",
              " ' ',\n",
              " 'd',\n",
              " 'n',\n",
              " 'h',\n",
              " 'f',\n",
              " 'w',\n",
              " 'c',\n",
              " 'i',\n",
              " 'B',\n",
              " ',']"
            ]
          },
          "metadata": {},
          "execution_count": 3
        }
      ]
    },
    {
      "cell_type": "code",
      "source": [
        "#2. 문자 집합 만들기\n",
        "world_set = list(set(sentence))   # 중복을 제거한 문자 집합 생성\n",
        "\n",
        "## 문제(1): 각 문자에 정수 인코딩 (공백도 하나의 원소로 포함)\n",
        "vocab = {c: i for i, c in enumerate(world_set)}   #인덱스와 원소로 이루어진 튜플(tuple)을 생"
      ],
      "metadata": {
        "id": "b9lkrKyZf8ie"
      },
      "execution_count": 4,
      "outputs": []
    },
    {
      "cell_type": "code",
      "source": [
        "print(vocab)"
      ],
      "metadata": {
        "colab": {
          "base_uri": "https://localhost:8080/"
        },
        "id": "F_0we5Y-gYDq",
        "outputId": "9ca8ed5e-46c5-449a-bbea-0f9c796c4c27"
      },
      "execution_count": 5,
      "outputs": [
        {
          "output_type": "stream",
          "name": "stdout",
          "text": [
            "{'p': 0, 't': 1, 'm': 2, \"'\": 3, 'o': 4, 'r': 5, 'u': 6, '.': 7, 'g': 8, 'e': 9, 'l': 10, 'a': 11, 'y': 12, 'b': 13, 'k': 14, 's': 15, ' ': 16, 'd': 17, 'n': 18, 'h': 19, 'f': 20, 'w': 21, 'c': 22, 'i': 23, 'B': 24, ',': 25}\n"
          ]
        }
      ]
    },
    {
      "cell_type": "code",
      "source": [
        "#3. 문자 집합 크기 확인\n",
        "\n",
        "vocab_size = len(vocab)\n",
        "print('문자 집합 크기 : {}'.format(vocab_size))"
      ],
      "metadata": {
        "colab": {
          "base_uri": "https://localhost:8080/"
        },
        "id": "TpKupU6lgpfT",
        "outputId": "634bc3cf-e388-4224-82f4-8263be3fd8cb"
      },
      "execution_count": 6,
      "outputs": [
        {
          "output_type": "stream",
          "name": "stdout",
          "text": [
            "문자 집합 크기 : 26\n"
          ]
        }
      ]
    },
    {
      "cell_type": "code",
      "source": [
        "#4. 하이퍼 파라미터 설정(자유롭게 수정해보세요!)\n",
        "\n",
        "hidden_size = vocab_size # 같아야 하는 것 확인!\n",
        "sequence_length = 15  # 너무 길거나 너무 짧게 잡으면 안됩니다!    #입력 텐서의 시퀀스 길이. 문장의 길이.\n",
        "learning_rate = 0.005\n",
        "\n",
        "##lr 0.3, 0.01, 0.001로 돌려봄"
      ],
      "metadata": {
        "id": "wFDZJHSMg9In"
      },
      "execution_count": 8,
      "outputs": []
    },
    {
      "cell_type": "code",
      "source": [
        "#5. seqence 길이 단위 자르기\n",
        "\n",
        "# 데이터 구성을 위한 리스트\n",
        "x_data = []\n",
        "y_data = []\n",
        "\n",
        "## 문제(2): 반복문 내에서의 인덱싱을 사용하여 sequence_length 값 단위로 샘플을 잘라 데이터 만들기, y_str은 x_str은 한 칸씩 쉬프트된 sequnce\n",
        "#한 칸씩 밀면서 다음 단어를 예측함\n",
        "for i in range(0, len(sentence) - sequence_length):\n",
        "  x_str = sentence[i:i + sequence_length]    ##[##]\n",
        "  y_str = sentence[i + 1: i + sequence_length + 1]  ##[##]\n",
        "  print(i, x_str, \"->\", y_str)\n",
        "\n",
        "  # x_str과 y_str이 문자집합에 해당하는 인덱스를 각각 x_data, y_data에 append\n",
        "  x_data.append([vocab[c] for c in x_str])\n",
        "  y_data.append([vocab[d] for d in y_str])"
      ],
      "metadata": {
        "colab": {
          "base_uri": "https://localhost:8080/"
        },
        "id": "RbDcmJmghN7V",
        "outputId": "187f6f15-313a-4607-9f06-21ddbd56deab"
      },
      "execution_count": 9,
      "outputs": [
        {
          "output_type": "stream",
          "name": "stdout",
          "text": [
            "0 Brick walls are -> rick walls are \n",
            "1 rick walls are  -> ick walls are t\n",
            "2 ick walls are t -> ck walls are th\n",
            "3 ck walls are th -> k walls are the\n",
            "4 k walls are the ->  walls are ther\n",
            "5  walls are ther -> walls are there\n",
            "6 walls are there -> alls are there \n",
            "7 alls are there  -> lls are there f\n",
            "8 lls are there f -> ls are there fo\n",
            "9 ls are there fo -> s are there for\n",
            "10 s are there for ->  are there for \n",
            "11  are there for  -> are there for a\n",
            "12 are there for a -> re there for a \n",
            "13 re there for a  -> e there for a r\n",
            "14 e there for a r ->  there for a re\n",
            "15  there for a re -> there for a rea\n",
            "16 there for a rea -> here for a reas\n",
            "17 here for a reas -> ere for a reaso\n",
            "18 ere for a reaso -> re for a reason\n",
            "19 re for a reason -> e for a reason \n",
            "20 e for a reason  ->  for a reason a\n",
            "21  for a reason a -> for a reason an\n",
            "22 for a reason an -> or a reason and\n",
            "23 or a reason and -> r a reason and \n",
            "24 r a reason and  ->  a reason and y\n",
            "25  a reason and y -> a reason and yo\n",
            "26 a reason and yo ->  reason and you\n",
            "27  reason and you -> reason and you \n",
            "28 reason and you  -> eason and you m\n",
            "29 eason and you m -> ason and you mu\n",
            "30 ason and you mu -> son and you mus\n",
            "31 son and you mus -> on and you must\n",
            "32 on and you must -> n and you must \n",
            "33 n and you must  ->  and you must n\n",
            "34  and you must n -> and you must no\n",
            "35 and you must no -> nd you must not\n",
            "36 nd you must not -> d you must not \n",
            "37 d you must not  ->  you must not t\n",
            "38  you must not t -> you must not th\n",
            "39 you must not th -> ou must not thi\n",
            "40 ou must not thi -> u must not thin\n",
            "41 u must not thin ->  must not think\n",
            "42  must not think -> must not think \n",
            "43 must not think  -> ust not think t\n",
            "44 ust not think t -> st not think th\n",
            "45 st not think th -> t not think tha\n",
            "46 t not think tha ->  not think that\n",
            "47  not think that -> not think that \n",
            "48 not think that  -> ot think that t\n",
            "49 ot think that t -> t think that th\n",
            "50 t think that th ->  think that the\n",
            "51  think that the -> think that the \n",
            "52 think that the  -> hink that the b\n",
            "53 hink that the b -> ink that the br\n",
            "54 ink that the br -> nk that the bri\n",
            "55 nk that the bri -> k that the bric\n",
            "56 k that the bric ->  that the brick\n",
            "57  that the brick -> that the brick \n",
            "58 that the brick  -> hat the brick w\n",
            "59 hat the brick w -> at the brick wa\n",
            "60 at the brick wa -> t the brick wal\n",
            "61 t the brick wal ->  the brick wall\n",
            "62  the brick wall -> the brick walls\n",
            "63 the brick walls -> he brick walls \n",
            "64 he brick walls  -> e brick walls a\n",
            "65 e brick walls a ->  brick walls ar\n",
            "66  brick walls ar -> brick walls are\n",
            "67 brick walls are -> rick walls aren\n",
            "68 rick walls aren -> ick walls aren'\n",
            "69 ick walls aren' -> ck walls aren't\n",
            "70 ck walls aren't -> k walls aren't \n",
            "71 k walls aren't  ->  walls aren't t\n",
            "72  walls aren't t -> walls aren't th\n",
            "73 walls aren't th -> alls aren't the\n",
            "74 alls aren't the -> lls aren't ther\n",
            "75 lls aren't ther -> ls aren't there\n",
            "76 ls aren't there -> s aren't there \n",
            "77 s aren't there  ->  aren't there t\n",
            "78  aren't there t -> aren't there to\n",
            "79 aren't there to -> ren't there to \n",
            "80 ren't there to  -> en't there to k\n",
            "81 en't there to k -> n't there to ke\n",
            "82 n't there to ke -> 't there to kee\n",
            "83 't there to kee -> t there to keep\n",
            "84 t there to keep ->  there to keep \n",
            "85  there to keep  -> there to keep u\n",
            "86 there to keep u -> here to keep us\n",
            "87 here to keep us -> ere to keep us \n",
            "88 ere to keep us  -> re to keep us o\n",
            "89 re to keep us o -> e to keep us ou\n",
            "90 e to keep us ou ->  to keep us out\n",
            "91  to keep us out -> to keep us out,\n",
            "92 to keep us out, -> o keep us out, \n",
            "93 o keep us out,  ->  keep us out, b\n",
            "94  keep us out, b -> keep us out, bu\n",
            "95 keep us out, bu -> eep us out, but\n",
            "96 eep us out, but -> ep us out, but \n",
            "97 ep us out, but  -> p us out, but r\n",
            "98 p us out, but r ->  us out, but ra\n",
            "99  us out, but ra -> us out, but rat\n",
            "100 us out, but rat -> s out, but rath\n",
            "101 s out, but rath ->  out, but rathe\n",
            "102  out, but rathe -> out, but rather\n",
            "103 out, but rather -> ut, but rather \n",
            "104 ut, but rather  -> t, but rather i\n",
            "105 t, but rather i -> , but rather in\n",
            "106 , but rather in ->  but rather in \n",
            "107  but rather in  -> but rather in t\n",
            "108 but rather in t -> ut rather in th\n",
            "109 ut rather in th -> t rather in thi\n",
            "110 t rather in thi ->  rather in this\n",
            "111  rather in this -> rather in this \n",
            "112 rather in this  -> ather in this w\n",
            "113 ather in this w -> ther in this wa\n",
            "114 ther in this wa -> her in this way\n",
            "115 her in this way -> er in this way \n",
            "116 er in this way  -> r in this way t\n",
            "117 r in this way t ->  in this way th\n",
            "118  in this way th -> in this way tha\n",
            "119 in this way tha -> n this way that\n",
            "120 n this way that ->  this way that \n",
            "121  this way that  -> this way that t\n",
            "122 this way that t -> his way that th\n",
            "123 his way that th -> is way that the\n",
            "124 is way that the -> s way that the \n",
            "125 s way that the  ->  way that the b\n",
            "126  way that the b -> way that the br\n",
            "127 way that the br -> ay that the bri\n",
            "128 ay that the bri -> y that the bric\n",
            "129 y that the bric ->  that the brick\n",
            "130  that the brick -> that the brick \n",
            "131 that the brick  -> hat the brick w\n",
            "132 hat the brick w -> at the brick wa\n",
            "133 at the brick wa -> t the brick wal\n",
            "134 t the brick wal ->  the brick wall\n",
            "135  the brick wall -> the brick walls\n",
            "136 the brick walls -> he brick walls \n",
            "137 he brick walls  -> e brick walls a\n",
            "138 e brick walls a ->  brick walls ar\n",
            "139  brick walls ar -> brick walls are\n",
            "140 brick walls are -> rick walls are \n",
            "141 rick walls are  -> ick walls are t\n",
            "142 ick walls are t -> ck walls are th\n",
            "143 ck walls are th -> k walls are the\n",
            "144 k walls are the ->  walls are ther\n",
            "145  walls are ther -> walls are there\n",
            "146 walls are there -> alls are there \n",
            "147 alls are there  -> lls are there t\n",
            "148 lls are there t -> ls are there to\n",
            "149 ls are there to -> s are there to \n",
            "150 s are there to  ->  are there to s\n",
            "151  are there to s -> are there to sh\n",
            "152 are there to sh -> re there to sho\n",
            "153 re there to sho -> e there to show\n",
            "154 e there to show ->  there to show \n",
            "155  there to show  -> there to show u\n",
            "156 there to show u -> here to show us\n",
            "157 here to show us -> ere to show us \n",
            "158 ere to show us  -> re to show us h\n",
            "159 re to show us h -> e to show us ho\n",
            "160 e to show us ho ->  to show us how\n",
            "161  to show us how -> to show us how \n",
            "162 to show us how  -> o show us how b\n",
            "163 o show us how b ->  show us how ba\n",
            "164  show us how ba -> show us how bad\n",
            "165 show us how bad -> how us how badl\n",
            "166 how us how badl -> ow us how badly\n",
            "167 ow us how badly -> w us how badly \n",
            "168 w us how badly  ->  us how badly w\n",
            "169  us how badly w -> us how badly we\n",
            "170 us how badly we -> s how badly we \n",
            "171 s how badly we  ->  how badly we w\n",
            "172  how badly we w -> how badly we wa\n",
            "173 how badly we wa -> ow badly we wan\n",
            "174 ow badly we wan -> w badly we want\n",
            "175 w badly we want ->  badly we want \n",
            "176  badly we want  -> badly we want t\n",
            "177 badly we want t -> adly we want th\n",
            "178 adly we want th -> dly we want thi\n",
            "179 dly we want thi -> ly we want thin\n",
            "180 ly we want thin -> y we want thing\n",
            "181 y we want thing ->  we want things\n",
            "182  we want things -> we want things.\n"
          ]
        }
      ]
    },
    {
      "cell_type": "code",
      "source": [
        "#데이터가 각 단어의 인덱스로 저장됨\n",
        "x_data"
      ],
      "metadata": {
        "colab": {
          "base_uri": "https://localhost:8080/"
        },
        "id": "6Cy5MfXUzLjT",
        "outputId": "c01cfda2-b42c-4647-a677-df1a65b75a52"
      },
      "execution_count": 11,
      "outputs": [
        {
          "output_type": "execute_result",
          "data": {
            "text/plain": [
              "[[24, 5, 23, 22, 14, 16, 21, 11, 10, 10, 15, 16, 11, 5, 9],\n",
              " [5, 23, 22, 14, 16, 21, 11, 10, 10, 15, 16, 11, 5, 9, 16],\n",
              " [23, 22, 14, 16, 21, 11, 10, 10, 15, 16, 11, 5, 9, 16, 1],\n",
              " [22, 14, 16, 21, 11, 10, 10, 15, 16, 11, 5, 9, 16, 1, 19],\n",
              " [14, 16, 21, 11, 10, 10, 15, 16, 11, 5, 9, 16, 1, 19, 9],\n",
              " [16, 21, 11, 10, 10, 15, 16, 11, 5, 9, 16, 1, 19, 9, 5],\n",
              " [21, 11, 10, 10, 15, 16, 11, 5, 9, 16, 1, 19, 9, 5, 9],\n",
              " [11, 10, 10, 15, 16, 11, 5, 9, 16, 1, 19, 9, 5, 9, 16],\n",
              " [10, 10, 15, 16, 11, 5, 9, 16, 1, 19, 9, 5, 9, 16, 20],\n",
              " [10, 15, 16, 11, 5, 9, 16, 1, 19, 9, 5, 9, 16, 20, 4],\n",
              " [15, 16, 11, 5, 9, 16, 1, 19, 9, 5, 9, 16, 20, 4, 5],\n",
              " [16, 11, 5, 9, 16, 1, 19, 9, 5, 9, 16, 20, 4, 5, 16],\n",
              " [11, 5, 9, 16, 1, 19, 9, 5, 9, 16, 20, 4, 5, 16, 11],\n",
              " [5, 9, 16, 1, 19, 9, 5, 9, 16, 20, 4, 5, 16, 11, 16],\n",
              " [9, 16, 1, 19, 9, 5, 9, 16, 20, 4, 5, 16, 11, 16, 5],\n",
              " [16, 1, 19, 9, 5, 9, 16, 20, 4, 5, 16, 11, 16, 5, 9],\n",
              " [1, 19, 9, 5, 9, 16, 20, 4, 5, 16, 11, 16, 5, 9, 11],\n",
              " [19, 9, 5, 9, 16, 20, 4, 5, 16, 11, 16, 5, 9, 11, 15],\n",
              " [9, 5, 9, 16, 20, 4, 5, 16, 11, 16, 5, 9, 11, 15, 4],\n",
              " [5, 9, 16, 20, 4, 5, 16, 11, 16, 5, 9, 11, 15, 4, 18],\n",
              " [9, 16, 20, 4, 5, 16, 11, 16, 5, 9, 11, 15, 4, 18, 16],\n",
              " [16, 20, 4, 5, 16, 11, 16, 5, 9, 11, 15, 4, 18, 16, 11],\n",
              " [20, 4, 5, 16, 11, 16, 5, 9, 11, 15, 4, 18, 16, 11, 18],\n",
              " [4, 5, 16, 11, 16, 5, 9, 11, 15, 4, 18, 16, 11, 18, 17],\n",
              " [5, 16, 11, 16, 5, 9, 11, 15, 4, 18, 16, 11, 18, 17, 16],\n",
              " [16, 11, 16, 5, 9, 11, 15, 4, 18, 16, 11, 18, 17, 16, 12],\n",
              " [11, 16, 5, 9, 11, 15, 4, 18, 16, 11, 18, 17, 16, 12, 4],\n",
              " [16, 5, 9, 11, 15, 4, 18, 16, 11, 18, 17, 16, 12, 4, 6],\n",
              " [5, 9, 11, 15, 4, 18, 16, 11, 18, 17, 16, 12, 4, 6, 16],\n",
              " [9, 11, 15, 4, 18, 16, 11, 18, 17, 16, 12, 4, 6, 16, 2],\n",
              " [11, 15, 4, 18, 16, 11, 18, 17, 16, 12, 4, 6, 16, 2, 6],\n",
              " [15, 4, 18, 16, 11, 18, 17, 16, 12, 4, 6, 16, 2, 6, 15],\n",
              " [4, 18, 16, 11, 18, 17, 16, 12, 4, 6, 16, 2, 6, 15, 1],\n",
              " [18, 16, 11, 18, 17, 16, 12, 4, 6, 16, 2, 6, 15, 1, 16],\n",
              " [16, 11, 18, 17, 16, 12, 4, 6, 16, 2, 6, 15, 1, 16, 18],\n",
              " [11, 18, 17, 16, 12, 4, 6, 16, 2, 6, 15, 1, 16, 18, 4],\n",
              " [18, 17, 16, 12, 4, 6, 16, 2, 6, 15, 1, 16, 18, 4, 1],\n",
              " [17, 16, 12, 4, 6, 16, 2, 6, 15, 1, 16, 18, 4, 1, 16],\n",
              " [16, 12, 4, 6, 16, 2, 6, 15, 1, 16, 18, 4, 1, 16, 1],\n",
              " [12, 4, 6, 16, 2, 6, 15, 1, 16, 18, 4, 1, 16, 1, 19],\n",
              " [4, 6, 16, 2, 6, 15, 1, 16, 18, 4, 1, 16, 1, 19, 23],\n",
              " [6, 16, 2, 6, 15, 1, 16, 18, 4, 1, 16, 1, 19, 23, 18],\n",
              " [16, 2, 6, 15, 1, 16, 18, 4, 1, 16, 1, 19, 23, 18, 14],\n",
              " [2, 6, 15, 1, 16, 18, 4, 1, 16, 1, 19, 23, 18, 14, 16],\n",
              " [6, 15, 1, 16, 18, 4, 1, 16, 1, 19, 23, 18, 14, 16, 1],\n",
              " [15, 1, 16, 18, 4, 1, 16, 1, 19, 23, 18, 14, 16, 1, 19],\n",
              " [1, 16, 18, 4, 1, 16, 1, 19, 23, 18, 14, 16, 1, 19, 11],\n",
              " [16, 18, 4, 1, 16, 1, 19, 23, 18, 14, 16, 1, 19, 11, 1],\n",
              " [18, 4, 1, 16, 1, 19, 23, 18, 14, 16, 1, 19, 11, 1, 16],\n",
              " [4, 1, 16, 1, 19, 23, 18, 14, 16, 1, 19, 11, 1, 16, 1],\n",
              " [1, 16, 1, 19, 23, 18, 14, 16, 1, 19, 11, 1, 16, 1, 19],\n",
              " [16, 1, 19, 23, 18, 14, 16, 1, 19, 11, 1, 16, 1, 19, 9],\n",
              " [1, 19, 23, 18, 14, 16, 1, 19, 11, 1, 16, 1, 19, 9, 16],\n",
              " [19, 23, 18, 14, 16, 1, 19, 11, 1, 16, 1, 19, 9, 16, 13],\n",
              " [23, 18, 14, 16, 1, 19, 11, 1, 16, 1, 19, 9, 16, 13, 5],\n",
              " [18, 14, 16, 1, 19, 11, 1, 16, 1, 19, 9, 16, 13, 5, 23],\n",
              " [14, 16, 1, 19, 11, 1, 16, 1, 19, 9, 16, 13, 5, 23, 22],\n",
              " [16, 1, 19, 11, 1, 16, 1, 19, 9, 16, 13, 5, 23, 22, 14],\n",
              " [1, 19, 11, 1, 16, 1, 19, 9, 16, 13, 5, 23, 22, 14, 16],\n",
              " [19, 11, 1, 16, 1, 19, 9, 16, 13, 5, 23, 22, 14, 16, 21],\n",
              " [11, 1, 16, 1, 19, 9, 16, 13, 5, 23, 22, 14, 16, 21, 11],\n",
              " [1, 16, 1, 19, 9, 16, 13, 5, 23, 22, 14, 16, 21, 11, 10],\n",
              " [16, 1, 19, 9, 16, 13, 5, 23, 22, 14, 16, 21, 11, 10, 10],\n",
              " [1, 19, 9, 16, 13, 5, 23, 22, 14, 16, 21, 11, 10, 10, 15],\n",
              " [19, 9, 16, 13, 5, 23, 22, 14, 16, 21, 11, 10, 10, 15, 16],\n",
              " [9, 16, 13, 5, 23, 22, 14, 16, 21, 11, 10, 10, 15, 16, 11],\n",
              " [16, 13, 5, 23, 22, 14, 16, 21, 11, 10, 10, 15, 16, 11, 5],\n",
              " [13, 5, 23, 22, 14, 16, 21, 11, 10, 10, 15, 16, 11, 5, 9],\n",
              " [5, 23, 22, 14, 16, 21, 11, 10, 10, 15, 16, 11, 5, 9, 18],\n",
              " [23, 22, 14, 16, 21, 11, 10, 10, 15, 16, 11, 5, 9, 18, 3],\n",
              " [22, 14, 16, 21, 11, 10, 10, 15, 16, 11, 5, 9, 18, 3, 1],\n",
              " [14, 16, 21, 11, 10, 10, 15, 16, 11, 5, 9, 18, 3, 1, 16],\n",
              " [16, 21, 11, 10, 10, 15, 16, 11, 5, 9, 18, 3, 1, 16, 1],\n",
              " [21, 11, 10, 10, 15, 16, 11, 5, 9, 18, 3, 1, 16, 1, 19],\n",
              " [11, 10, 10, 15, 16, 11, 5, 9, 18, 3, 1, 16, 1, 19, 9],\n",
              " [10, 10, 15, 16, 11, 5, 9, 18, 3, 1, 16, 1, 19, 9, 5],\n",
              " [10, 15, 16, 11, 5, 9, 18, 3, 1, 16, 1, 19, 9, 5, 9],\n",
              " [15, 16, 11, 5, 9, 18, 3, 1, 16, 1, 19, 9, 5, 9, 16],\n",
              " [16, 11, 5, 9, 18, 3, 1, 16, 1, 19, 9, 5, 9, 16, 1],\n",
              " [11, 5, 9, 18, 3, 1, 16, 1, 19, 9, 5, 9, 16, 1, 4],\n",
              " [5, 9, 18, 3, 1, 16, 1, 19, 9, 5, 9, 16, 1, 4, 16],\n",
              " [9, 18, 3, 1, 16, 1, 19, 9, 5, 9, 16, 1, 4, 16, 14],\n",
              " [18, 3, 1, 16, 1, 19, 9, 5, 9, 16, 1, 4, 16, 14, 9],\n",
              " [3, 1, 16, 1, 19, 9, 5, 9, 16, 1, 4, 16, 14, 9, 9],\n",
              " [1, 16, 1, 19, 9, 5, 9, 16, 1, 4, 16, 14, 9, 9, 0],\n",
              " [16, 1, 19, 9, 5, 9, 16, 1, 4, 16, 14, 9, 9, 0, 16],\n",
              " [1, 19, 9, 5, 9, 16, 1, 4, 16, 14, 9, 9, 0, 16, 6],\n",
              " [19, 9, 5, 9, 16, 1, 4, 16, 14, 9, 9, 0, 16, 6, 15],\n",
              " [9, 5, 9, 16, 1, 4, 16, 14, 9, 9, 0, 16, 6, 15, 16],\n",
              " [5, 9, 16, 1, 4, 16, 14, 9, 9, 0, 16, 6, 15, 16, 4],\n",
              " [9, 16, 1, 4, 16, 14, 9, 9, 0, 16, 6, 15, 16, 4, 6],\n",
              " [16, 1, 4, 16, 14, 9, 9, 0, 16, 6, 15, 16, 4, 6, 1],\n",
              " [1, 4, 16, 14, 9, 9, 0, 16, 6, 15, 16, 4, 6, 1, 25],\n",
              " [4, 16, 14, 9, 9, 0, 16, 6, 15, 16, 4, 6, 1, 25, 16],\n",
              " [16, 14, 9, 9, 0, 16, 6, 15, 16, 4, 6, 1, 25, 16, 13],\n",
              " [14, 9, 9, 0, 16, 6, 15, 16, 4, 6, 1, 25, 16, 13, 6],\n",
              " [9, 9, 0, 16, 6, 15, 16, 4, 6, 1, 25, 16, 13, 6, 1],\n",
              " [9, 0, 16, 6, 15, 16, 4, 6, 1, 25, 16, 13, 6, 1, 16],\n",
              " [0, 16, 6, 15, 16, 4, 6, 1, 25, 16, 13, 6, 1, 16, 5],\n",
              " [16, 6, 15, 16, 4, 6, 1, 25, 16, 13, 6, 1, 16, 5, 11],\n",
              " [6, 15, 16, 4, 6, 1, 25, 16, 13, 6, 1, 16, 5, 11, 1],\n",
              " [15, 16, 4, 6, 1, 25, 16, 13, 6, 1, 16, 5, 11, 1, 19],\n",
              " [16, 4, 6, 1, 25, 16, 13, 6, 1, 16, 5, 11, 1, 19, 9],\n",
              " [4, 6, 1, 25, 16, 13, 6, 1, 16, 5, 11, 1, 19, 9, 5],\n",
              " [6, 1, 25, 16, 13, 6, 1, 16, 5, 11, 1, 19, 9, 5, 16],\n",
              " [1, 25, 16, 13, 6, 1, 16, 5, 11, 1, 19, 9, 5, 16, 23],\n",
              " [25, 16, 13, 6, 1, 16, 5, 11, 1, 19, 9, 5, 16, 23, 18],\n",
              " [16, 13, 6, 1, 16, 5, 11, 1, 19, 9, 5, 16, 23, 18, 16],\n",
              " [13, 6, 1, 16, 5, 11, 1, 19, 9, 5, 16, 23, 18, 16, 1],\n",
              " [6, 1, 16, 5, 11, 1, 19, 9, 5, 16, 23, 18, 16, 1, 19],\n",
              " [1, 16, 5, 11, 1, 19, 9, 5, 16, 23, 18, 16, 1, 19, 23],\n",
              " [16, 5, 11, 1, 19, 9, 5, 16, 23, 18, 16, 1, 19, 23, 15],\n",
              " [5, 11, 1, 19, 9, 5, 16, 23, 18, 16, 1, 19, 23, 15, 16],\n",
              " [11, 1, 19, 9, 5, 16, 23, 18, 16, 1, 19, 23, 15, 16, 21],\n",
              " [1, 19, 9, 5, 16, 23, 18, 16, 1, 19, 23, 15, 16, 21, 11],\n",
              " [19, 9, 5, 16, 23, 18, 16, 1, 19, 23, 15, 16, 21, 11, 12],\n",
              " [9, 5, 16, 23, 18, 16, 1, 19, 23, 15, 16, 21, 11, 12, 16],\n",
              " [5, 16, 23, 18, 16, 1, 19, 23, 15, 16, 21, 11, 12, 16, 1],\n",
              " [16, 23, 18, 16, 1, 19, 23, 15, 16, 21, 11, 12, 16, 1, 19],\n",
              " [23, 18, 16, 1, 19, 23, 15, 16, 21, 11, 12, 16, 1, 19, 11],\n",
              " [18, 16, 1, 19, 23, 15, 16, 21, 11, 12, 16, 1, 19, 11, 1],\n",
              " [16, 1, 19, 23, 15, 16, 21, 11, 12, 16, 1, 19, 11, 1, 16],\n",
              " [1, 19, 23, 15, 16, 21, 11, 12, 16, 1, 19, 11, 1, 16, 1],\n",
              " [19, 23, 15, 16, 21, 11, 12, 16, 1, 19, 11, 1, 16, 1, 19],\n",
              " [23, 15, 16, 21, 11, 12, 16, 1, 19, 11, 1, 16, 1, 19, 9],\n",
              " [15, 16, 21, 11, 12, 16, 1, 19, 11, 1, 16, 1, 19, 9, 16],\n",
              " [16, 21, 11, 12, 16, 1, 19, 11, 1, 16, 1, 19, 9, 16, 13],\n",
              " [21, 11, 12, 16, 1, 19, 11, 1, 16, 1, 19, 9, 16, 13, 5],\n",
              " [11, 12, 16, 1, 19, 11, 1, 16, 1, 19, 9, 16, 13, 5, 23],\n",
              " [12, 16, 1, 19, 11, 1, 16, 1, 19, 9, 16, 13, 5, 23, 22],\n",
              " [16, 1, 19, 11, 1, 16, 1, 19, 9, 16, 13, 5, 23, 22, 14],\n",
              " [1, 19, 11, 1, 16, 1, 19, 9, 16, 13, 5, 23, 22, 14, 16],\n",
              " [19, 11, 1, 16, 1, 19, 9, 16, 13, 5, 23, 22, 14, 16, 21],\n",
              " [11, 1, 16, 1, 19, 9, 16, 13, 5, 23, 22, 14, 16, 21, 11],\n",
              " [1, 16, 1, 19, 9, 16, 13, 5, 23, 22, 14, 16, 21, 11, 10],\n",
              " [16, 1, 19, 9, 16, 13, 5, 23, 22, 14, 16, 21, 11, 10, 10],\n",
              " [1, 19, 9, 16, 13, 5, 23, 22, 14, 16, 21, 11, 10, 10, 15],\n",
              " [19, 9, 16, 13, 5, 23, 22, 14, 16, 21, 11, 10, 10, 15, 16],\n",
              " [9, 16, 13, 5, 23, 22, 14, 16, 21, 11, 10, 10, 15, 16, 11],\n",
              " [16, 13, 5, 23, 22, 14, 16, 21, 11, 10, 10, 15, 16, 11, 5],\n",
              " [13, 5, 23, 22, 14, 16, 21, 11, 10, 10, 15, 16, 11, 5, 9],\n",
              " [5, 23, 22, 14, 16, 21, 11, 10, 10, 15, 16, 11, 5, 9, 16],\n",
              " [23, 22, 14, 16, 21, 11, 10, 10, 15, 16, 11, 5, 9, 16, 1],\n",
              " [22, 14, 16, 21, 11, 10, 10, 15, 16, 11, 5, 9, 16, 1, 19],\n",
              " [14, 16, 21, 11, 10, 10, 15, 16, 11, 5, 9, 16, 1, 19, 9],\n",
              " [16, 21, 11, 10, 10, 15, 16, 11, 5, 9, 16, 1, 19, 9, 5],\n",
              " [21, 11, 10, 10, 15, 16, 11, 5, 9, 16, 1, 19, 9, 5, 9],\n",
              " [11, 10, 10, 15, 16, 11, 5, 9, 16, 1, 19, 9, 5, 9, 16],\n",
              " [10, 10, 15, 16, 11, 5, 9, 16, 1, 19, 9, 5, 9, 16, 1],\n",
              " [10, 15, 16, 11, 5, 9, 16, 1, 19, 9, 5, 9, 16, 1, 4],\n",
              " [15, 16, 11, 5, 9, 16, 1, 19, 9, 5, 9, 16, 1, 4, 16],\n",
              " [16, 11, 5, 9, 16, 1, 19, 9, 5, 9, 16, 1, 4, 16, 15],\n",
              " [11, 5, 9, 16, 1, 19, 9, 5, 9, 16, 1, 4, 16, 15, 19],\n",
              " [5, 9, 16, 1, 19, 9, 5, 9, 16, 1, 4, 16, 15, 19, 4],\n",
              " [9, 16, 1, 19, 9, 5, 9, 16, 1, 4, 16, 15, 19, 4, 21],\n",
              " [16, 1, 19, 9, 5, 9, 16, 1, 4, 16, 15, 19, 4, 21, 16],\n",
              " [1, 19, 9, 5, 9, 16, 1, 4, 16, 15, 19, 4, 21, 16, 6],\n",
              " [19, 9, 5, 9, 16, 1, 4, 16, 15, 19, 4, 21, 16, 6, 15],\n",
              " [9, 5, 9, 16, 1, 4, 16, 15, 19, 4, 21, 16, 6, 15, 16],\n",
              " [5, 9, 16, 1, 4, 16, 15, 19, 4, 21, 16, 6, 15, 16, 19],\n",
              " [9, 16, 1, 4, 16, 15, 19, 4, 21, 16, 6, 15, 16, 19, 4],\n",
              " [16, 1, 4, 16, 15, 19, 4, 21, 16, 6, 15, 16, 19, 4, 21],\n",
              " [1, 4, 16, 15, 19, 4, 21, 16, 6, 15, 16, 19, 4, 21, 16],\n",
              " [4, 16, 15, 19, 4, 21, 16, 6, 15, 16, 19, 4, 21, 16, 13],\n",
              " [16, 15, 19, 4, 21, 16, 6, 15, 16, 19, 4, 21, 16, 13, 11],\n",
              " [15, 19, 4, 21, 16, 6, 15, 16, 19, 4, 21, 16, 13, 11, 17],\n",
              " [19, 4, 21, 16, 6, 15, 16, 19, 4, 21, 16, 13, 11, 17, 10],\n",
              " [4, 21, 16, 6, 15, 16, 19, 4, 21, 16, 13, 11, 17, 10, 12],\n",
              " [21, 16, 6, 15, 16, 19, 4, 21, 16, 13, 11, 17, 10, 12, 16],\n",
              " [16, 6, 15, 16, 19, 4, 21, 16, 13, 11, 17, 10, 12, 16, 21],\n",
              " [6, 15, 16, 19, 4, 21, 16, 13, 11, 17, 10, 12, 16, 21, 9],\n",
              " [15, 16, 19, 4, 21, 16, 13, 11, 17, 10, 12, 16, 21, 9, 16],\n",
              " [16, 19, 4, 21, 16, 13, 11, 17, 10, 12, 16, 21, 9, 16, 21],\n",
              " [19, 4, 21, 16, 13, 11, 17, 10, 12, 16, 21, 9, 16, 21, 11],\n",
              " [4, 21, 16, 13, 11, 17, 10, 12, 16, 21, 9, 16, 21, 11, 18],\n",
              " [21, 16, 13, 11, 17, 10, 12, 16, 21, 9, 16, 21, 11, 18, 1],\n",
              " [16, 13, 11, 17, 10, 12, 16, 21, 9, 16, 21, 11, 18, 1, 16],\n",
              " [13, 11, 17, 10, 12, 16, 21, 9, 16, 21, 11, 18, 1, 16, 1],\n",
              " [11, 17, 10, 12, 16, 21, 9, 16, 21, 11, 18, 1, 16, 1, 19],\n",
              " [17, 10, 12, 16, 21, 9, 16, 21, 11, 18, 1, 16, 1, 19, 23],\n",
              " [10, 12, 16, 21, 9, 16, 21, 11, 18, 1, 16, 1, 19, 23, 18],\n",
              " [12, 16, 21, 9, 16, 21, 11, 18, 1, 16, 1, 19, 23, 18, 8],\n",
              " [16, 21, 9, 16, 21, 11, 18, 1, 16, 1, 19, 23, 18, 8, 15]]"
            ]
          },
          "metadata": {},
          "execution_count": 11
        }
      ]
    },
    {
      "cell_type": "code",
      "source": [
        "# 한 시퀀스만 출력해서 한 칸씩 쉬프트된 것 확인하기!\n",
        "\n",
        "print(x_data[0])\n",
        "print(y_data[0])"
      ],
      "metadata": {
        "colab": {
          "base_uri": "https://localhost:8080/"
        },
        "id": "XVFlILiOixdc",
        "outputId": "3b9319a8-a14d-406a-d2f8-c5256273b570"
      },
      "execution_count": 13,
      "outputs": [
        {
          "output_type": "stream",
          "name": "stdout",
          "text": [
            "[24, 5, 23, 22, 14, 16, 21, 11, 10, 10, 15, 16, 11, 5, 9]\n",
            "[5, 23, 22, 14, 16, 21, 11, 10, 10, 15, 16, 11, 5, 9, 16]\n"
          ]
        }
      ]
    },
    {
      "cell_type": "markdown",
      "source": [
        "**Numpy로 원-핫 인코딩 하기**\n",
        "\n",
        "*   https://zephyrus1111.tistory.com/457\n",
        "*   범주가 0부터 시작하는 숫자로 되어있는 경우 Numpy의 eye 함수를 이용하여 원-핫 인코딩을 할 수 있음\n",
        "*   eye 함수는 숫자를 인자로 받고, 해당 숫자(아래 코드에서는 vocab_size인 26)만큼의 행을 갖는 단위행렬을 생성함\n",
        "*   범주에 대응하는 원소만 1로 인코딩\n",
        "\n",
        "\n",
        "![image.png](data:image/png;base64,iVBORw0KGgoAAAANSUhEUgAABQAAAAHSCAYAAACzXWbAAAAgAElEQVR4AeydB7gkR3W2j4gChJAQ0WQBJudo4k8OxuRggg1YIEzQTs9KIhiDRTQY2+Rkm2gBRmAyImj3dt8VIiiQQeQgEwUSCIGytv95u8+5W7e3Z+70hJv2q+ep7Z7u6qpTb1XPbH33VJWZggiIgAiIgAiIgAiIgAiIgAiIgAiIgAiIgAiIgAiIgAiIgAiIgAiIgAiIgAiIgAiIgAiIgAiIgAiIgAiIgAiIgAiIgAiIgAiIgAiIgAiIgAiIgAiIgAiIgAiIgAiIgAiIgAiIgAiIgAiIgAiIgAiIgAiIgAiIgAiIgAiIgAiIgAiIgAiIgAiIgAiIgAiIgAiIgAiIgAiIgAiIgAiIgAiIgAiIgAiIgAiIgAiIgAiIgAiIgAiIgAiIgAiIgAiIgAiIgAiIgAiIgAiIgAiIgAiIgAiIgAiIgAiIgAiIgAiIgAiIgAiIgAiIgAiIgAiIgAiIgAiIgAiIgAiIgAiIgAiIgAiIgAiIgAiIgAiIgAiIgAiIgAiIgAiIgAiIgAiIgAiIgAiIgAiIgAiIgAiIgAiIgAiIgAiIgAiIgAiIgAiIgAiIgAiIgAjssQQuZmYX93jRTUwhrSfn6yXslfC/xHoxasZ2XCSpI31NQQREQAREQAREQAREQAREQAREQAREQAREYAUCiEaIKhGHJU/TcT6LEGXO6jiJTdc0sxuY2Z+b2YGTZLDJn0HgjDirdt/kyFQ9ERABERABERABERABERABERABERABEVhfBPDU29vMLulxmMiDtxXpiE3PK/Igvs/MvmpmXx6ke4VXc1h+3I4yZ3XsQjbqcIKZlR5/5RkM854Lb7+PmdnxXs93+TNxr4sNs057HzOjPtj20xkImjC6ahJp+2kD/aFrpExEYsKTzewbZvZ5M/ummV3Hr+sgAiIgApMS6Pqd1JZ+0rL1nAiIgAiIgAiIgAiIgAiIgAisCoHHm9nnzGyHmR1jZn/WUiqDnX/3dMeZ2avcKyySIv4hgH0lEdPe7zd5thlCLNtuZtvMbHHKmLvtlBPCXrPMYZ8XzOxcM/ujmX1vWCK/Hnn/yMwu8Lp+qXFvhSyW3Q5R64lm9lQze9pAwPtLT9Hktr/fP8iP112WU/3hUWZ2oZmd78ebuNjWknSsS7dP2hOR9LH+VNO2sTKbMlGwep7bdLYfbzRlvnpcBERABERABERABERABERABERABERABDY9gX9MRB7Eo+u11BjBp0jSIdylXnIhAJ5kZjtdfPofz6dNLIpnSRtCWnjhTXpE9CJE3v6xOlzNzP7azB428B57hMdHm9mDzOxkrxd2nDrwnnvg4NpjknQPNzPSwiXq8gMXDeH1BS8oxMG03JXOw1byiXpHfiGSRh63SNKQ9kkuupIHaYnYDQcETdhOKwDePxFHzzOzZ7kxIcaFbeMeH2xmrxx4fv6ze4jiJToqvtTM3uSZB6vnet3+5Mcbjlv4iHS0a3ixpsdJ65kWRR60Df2DOnCkjLUM2IMtxFnUsWtd2pisBzvgQtvEe961XpOmp+6UG+1CH+F8LZhEHSg7+gi2rGWIdwd7hoVgmL6/nI/DkOUf+APXqO+iUff4PvtXM/s7N26cMofVQ9dFQAREQAREQAREQAREQAREYG4EQlBBMEJUudaQkj7jggvpPuWDw0gag1em/oaQNUoAZEBHwIvrLBcMEcHSiJBFWWlEpEvTcM41xClsJ6SDxBjIP9LtIs+wL45p/pzH9TiGQJl5/hx+6GWS5ot+PeqUJFvxNGxFeKQOlA9nQgy6ow439ft4KpLucS4mMX2asomInMED26YVAJ+fcKPM8OoM29zUFQ9Rhzd4fm2cg3d6pH35TLiUH+mvXKPfcJyVByCDduxsRi92qgO8mD5NHWjz4DFVplM8zPuKLcSubTlFscseXQ9MaAfeG96hWNoANmsRKBdbaBPsgc9a9hPKjj4S31NrwYUy4RG2DLMBe5sx3ulhz8R1/tCRfu9Mes7vImGt3ikvXgcREAEREAEREAEREAEREAERaCcQggqDHgQ5vORu14h3MDOmusbACJHqMonwFOIGU4BD3BklAMbA9gEDAY3BF153EfHK+6vBlNzDvDxEIPLkeIRPkWWabKTnGPlQw8g7PUcYC9snPR6e4JunABiDyKS46hQPRGw/x4+/G0wb/vlgOvAvPf7MzLgGqxAtJxUAYbivmTHVmfyIeBVSPlOPY6DdtHHY52iT/xyzHaIOtDnr/REQAQjRX2cpAN7VzJgK/gmPHzcz4nsGHohX8nK7HMIDiPfotWaGx2j0Ozh+xPs4eQabLvl3TZuKWrzL6VR9PIBXIwQTyn+9i+jBhD79oRHT32dlX7A+wNeS/N+BJ+1P/LsFW1gDFEGfPnZ1LzSemZUNzXxu6zzw/KV87OAPFd8aCPgfGCyNcI/mA3P6TB+JNuK7hrKjffDsJsybRZSRCmh/m3yfYc9lh/yR5wXJuxvv8acHaV8+hlcnvzlR167H9LvqkzUmCYDOQQcREAEREAEREAEREAEREIF1RiAElRB6GHzijdaMIcQxQELAaAupSDhKAGx7tnmNqbnYQoyyGRRPEm5mZv/ig0GmcnH+bz7l6yUDgeuFHpnKxRRV7nEkLQPI15jZvdxLCCEKYQy7YDFLD0DyO9HM7u6i5n0Hm10Q2dyDNQK5T7twpHzEpDRyLQakpOkqACIA4IVEQIgkj2CPqEj8tg/CU8HAH1nx8BDnOmwKMKwRzM5Myn2v5xpeSNFfZykAsrYhdW1GvC0n3WQEj9FoK/LFQ5V6hTjLNfrXvEWVEHWu4NMcY+3E6DdbVmy12SVA1I/3ZhgTpn3PI8CZ+AQX16Kt6d8wCc/auP7jOYu0l3OBmXaIMmFDH0mvce+/5+wRmArEz/E/KFAuwiy2HO0NMu++muZ/JxfhsYM2on2wJf7wFH0k+jdiX3BMj6xvy3dapIvn0iNTgPlNGDXNt3mPdXD5LuJ7KPp0cEoFzLQcnYuACIiACIiACIiACIiACIjAmhIIQQXhKB04jTpH2Ph9S0TciHwmFQAR2NiQhPIZ+IUdkS/eS1eZATEGhbca7Fr80IEAwKAXceIvVphSGgNUPLpC3JmVABjiHXUmbz43IyyCQ3BpO4bI1FUABCtCUeyMHPl83cWAKAuvvGvMoA3asrinCzJRNpvUEEKkiP46SwGQzVPgSkSoY4dhhAM8eibpa6nHaVt7cS36NhvAEKJv+ceZHQ40s6O8XtF+UVc+p1PbZ1ZoS0Z/0/Iuhz0cUyZMbyfMkkkIQOzaTXnBP7UhzqPN8MgLT0A3aWYH3p/w5o1ym8eUyaFectRjZoaY2eVdHD5tSBt91gubZXsMsx+PcJaSiO/X6Kshiu4zxAOQP9jw3rJW7SnJ+8wmUysJgMNsGXU92uG3STtKABxFTPdEQAREQAREQAREQAREQATWnEAIKgy0EF2Y7sVAqhmZXhoDVNIhlDQjg+oYPI8SABlINj3IWOOJqbynex4hALE4e0wd5VpcRyS4aoMeeQ4bpDJg495+g6myPfe0ifo0jwhgsRsvz/1fUvdIG/WctQAY+Q87xsD4fo268xFPQfhEmi4C4DUHfF6UiCPBOTzwDkkYRP54wbTtRtxi2tIl2mBUfF1SDgIo3puEGHBHf521ABi8ETsnDdSL3Zpjl+joI3iQIrLQ9xDjKIt71I93CO/G8LyctOzmczFlmrIQT4jRppQdts1bAIQJojJTbSk/ymXTBFgRmYqLnXx/wARvL3jMkkn0n7d7WXzPsaQA7xF9n7VPmUb6h8RObKXt5hHYmAgelMc7xgYSrGeJLUxJ53sl+kkIhfSTEMJnYVPkFd/tvNfwj3I5EldLAGTKPOVhR3zHhA3DBMA2DqxdGv2MDavGEQDj94h+Mk4Mj2RE02gfCYBtraFrIiACIiACIiACIiACIiAC64ZACCoMtBAj8LBoC6yJFoOxUcfwrBklAKb546GEDYuePwPQGPylUyRjQwoGzTHgQlR448BjEK8xptSNCggRrB/FWm/Yz4AyBrtpfWAQn//BM0QsCBEF2xhcRj1nLQAiNiKCvc2FT8TP/zCzD7pdUXd2AWadPkQljsRYLyv4jRIAL+3c8HxEFIn1x6h/DJ5f7PWPwS47KMMcPggXHPEEfauZIRDexadJj2qHUfcQyZhiTL7YAFum/BFCwIn+Og8BkDKZZh7TDLtM5aN/EZhiiv3Rt3hv4h51gPt3vf/QpygT7zhCpPOPUx1CAKQ9Q1THLqa2Bl+O8xQAoz70VcoKAZL1/iLABN541fJOBZNZewFG/2FXad7rYeIi71DwoW0+NqdNHRAcmWZ/xwDROPIHEdb3pB/FdxXvFyG4+seJDyEA0ud5n6PPfi9hAIvVEgDZ6Zz3GgGYcjme4ecw4FrTAzAqT134nuKdfZmnJf04AuCdff1Alrb46JiRfoFwi13RryUARmvoKAIiIAIiIAIiIAIiIAIisC4JhKDCYJfB1w18EMVAKiIDK6ZSMaAiMs3q+mZ2bY94gbFw/DcT8ahNAGTgykAN0YlF73/q4kTkGwNQdsVls4AIMeC9vU/vIn2IXJyzhtev3fOKTQ0ifTwfR7yOSB/i3dfcGxDRBsGBgWMISzGoYy2qdw42RyEt3mGs0cegL/KYlQAY9YldgGNwHrYj5mF7DI7ZKKUZ8FrE7sirTQAMNtQl8iJfYvBn/cXwvIsy4jlEOsRJ0tNn4lmOiE1sTIIo2bQ/8hl1ZAo2eQb7EGB5JgSc6K/RTjf29uZ+2DiqjLZ7TAGOetCHQ/BsSzvsWghK4bkFS+rBBgMRog7P9vJoJ9JEH5qEWeTdPIYAGPX6vpkhsLD+Itei7eYpAAaTmFIOE+rMNM8IUWfaGru4z7vFFGxC3PePUx/4I0CEZn/hM3+QCNEJexCk6fOzDtQr+lnTjhCe2YSGduL7hmNMA26mn9S2YBsezoiA9Nd4H+L7YLUEQJZkiP7K7wfTr/ku4tpKAmDKgHVdI59xBMB0yn48N+4xvq/os9oEJG0FnYuACIiACIiACIiACIiACKw7AiGoMJBBSMObDjEvjYh9DMhJw8CIBdfxUGEAGQNZBIdxdwFm594QA9KBFuIRG0EQ2ga5MWBlowDWeUqfZYCIeMCmGW0BL6Pjkjp8uC2RD/ZjQEx9mRbbDIgplEX5Id6E2NFMO+pzCAAInuRHeQy2EYrgGXw53tzLi4FwWvfmeQhoowRA2jf1dqTtETnx8iMEa/+4dAgR6898p1CE17R8pjJ2DbCjPDyRYEDfQIxgcf4IUW701xAAmS55ZV+rj/X68LDrGkLwoB7TCIDYSB6wpD0RWNs8UxHZSRd99jfe5m19vmtdIn3wepq/q1wnf7w6KTve5XkLgE0miGt4qzYDQm4wof3xfsPeWTKhzJXyu2kiuMGIP1SEF2rT5mk/D7Ml3r1jvJ3oJ9gS62EOe66rPZEP+aZrerIuKm2x2gIgO26H5yd14TcmPILje2+YB2Ba964CYLz/MCby3cL3DxuyjBNJy7senq0h4KY26VwEREAEREAEREAEREAEREAE1pxACCoMfBj0jYqRhqlrIV5RAQasDHpYvD2eb/MATCvLzruk/aGvAXZwIlSMEtPiHuUxXe+/3CuPvPBuIoT44R+rA4LVz7xM6oEX1t5eD/IiIrpRL6aCkYbIFFyEqNu4VyICAfnE4HiWAiB1YApaW7ii2x5TgCmfQXEauYbNowRA8g4+DHxpy+e58BvlBuP43DzS3iEeMGh/ik8jxlOyqwAXtrw6qR/eNExLJsT9OEZ/Df4M0BGVmIrMQPzp/lyXQwgA8J9UAKQ8vCaxnTbBPvo2gb4VITzzSINISDrsxvNsXoH2inJXUwCkPrdsMPmOV7KNCTyI9F/WpWOa7GoF+hfxIO+HtCPv0pFJX18tW2CD+BXvdrzzeFzHezcPW/g+JP8HO4N4x1bLAzDqxHdwfB+vhQDIGrG3Hex+jMf5uJGp3Aj7hHm2kRehgwiIgAiIgAiIgAiIgAiIgAh0J4AQFgNNjng/tEUGoZHuE1MIgAyyEZiIiGoshh8eL9yLwR/XmpFBIZE08Qw1ZpOBWyf5kk8zIIAwHYxBPUIPOw23hXQKICIAIiP1ZbF3It56CBTcI59ZCYAMtrENIet434mXY0R23qW8KJc1+/BEZO00IuvK4TVFHjFwb/MAjDoHo1Ts4xqRAew4MW0D8qVdCF0GwJSHFx/1wm7YIurFOnye5ZIQ2BQAeY5n4tkt8UCH47QCYNQX7yXaiPcEu5j6SqDPRghGvGPYTcRjMNZ3i3SzOoZtcVwtATDKi91/gwkedYS07wQTvmOCCd6pTAlfjYCtvAd8R7Cra7yLvEt4UK5miPeSXW3pQ9G/WXuTkL6vfmnqQ7RVHB/i/Ti+R1ZTAAwbqBTtsdoCILzZTGnSkNo/aR56TgREQAREQAREQAREQAREQATmQoApgAx6u0R2Mk0HogzmETnwAGTQTBzmAcigDnGHiLdYnE97jLyYIkYZbYFdPlMRDcGMnWzx+jl84IX1bhdvog4IEgiCbALCc2lkoMjnWQiATKPF84k8o+y2I/dDSHl4SwUf5gIKeWHbKAGw5fE1uYR4y3qE2Iv4Q70f65akg+kQRpoCIEIRgmFM2XvGBLWYlQCIFyv1oI04hjdnKnbFexNrm1Fn+tndJ7C7yyPBcrUFQNojZcKOv4Q2JojY0Q8QSNmcYbUC3nWI6rxj8W7zfbbagX4e31PBgmO6Juq8bIo+spYCYFq3tRIAWQcx/tjU5ci7Hd9TaT10LgIiIAIiIAIiIAIiIAIiIAKbhkAMksJbgwFrrIcUg0rSEJjaya6kiF6sfTbLiHceHnQIeYRUZPBL1ULt2EdEZIjzOKbXnuoPYXPum5+w/iFpQiSYhQAYZXc5stYeA04GyRyJLGaPoDRKAGTKLiIQG6LMI/6L58uGE8NCDJIR/2KDiOBJ28X99Pm4FgJgtBNeYmzSQF5EpjF2DbMSAJlKTRsiACJkMn2ckPZD2omA2EWaEADv5tfndYj3cLUEwGivELOCyZu9gm1M8GgNJrTvvAXAaAs8NymPtqAfElmPlCnd8b01r3Yh32gb1uFDIKUP4X0XHnh4A66mHXuyAEj/Yy1bNmNi46txI16SeJjHGqjRpvPsN8pbBERABERABERABERABERABDoRYKAeAh5HBsUreePhbYfwRGT6HutVcY3BPQvXMxiKHVxjIBQDWDwDGdgiCMQgd9ixKYgNS9e83uZlBBRsoW4ses9aZM384/N7k2lg8KCOHKkjAfEGzzPqELuVhpjgScY6BBumnLExSkR288ULJSKf494D/PyqLSUgZK0kAOIViN1R13kdh21YQH+j3gckO3xiM234oyGbZlDVEJSaAmCsu9WCY+xL0wqAYRu7SMMzxC7WpyS0iV1seEJa6s4U4M0qACJepUzeMoJJvJMwQZBjB+55hXhf3+T2IfyE+PeLgQfzDb3geEfnZUfkzxIGTPOFFe8CXqGcI9ITIp1/nMshytjTBMBH+jvLezvtd2NsYhXfCXNpKGUqAiIgAiIgAiIgAiIgAiIgArMiwOBlkojQEbE5AAoB8P0+0GaQGwPuYUcG5Wkcli6uIxxwHjv8psJLkw32IOyx/hw7H997sKHI1V3oi7QMiGNQzLXI73s+UKSsWNMsBIV4di2O4wiAN3IPTMSFcWLKf5z0tAHpHjMCAJ5VsdNytB1eoZcd8Uz0p6YASH2mDdMKgNFHDvG6h4jwMTcs+g0fY707ptxTd3ht5inA/QaT8AxuY8LGH8Fk3h6AlP9xty36OP2Wab/sJr0aIfrNPVz0o3xsiWN4IEe6edsU5expAiDvf3wPtR2jf8SxLU0s4cAO9YT4vvKPOoiACIiACIiACIiACIiACIjA+iNwfR+AMgidJuIJSIhBpX+spmsitLH5x7DI/WsOdmA8OrHhRL827Jm4zjQ6vMtWCgiA6XRRPH7+3jf8YJov3jinuFDF1ESEC7wX8cZjPa79zAwvPKbUzjrcaiAEsEsyU0oRUNgBeJyAJwvCanigta0BSF7PHwhReKowWG2LeLK9xMze5gNj8qQvfNDTc7/tOa4xxZS8EfmaYd9BfjElNMRa8kUMpL1TUaj5bAyo17MAyPQ/6hP8wzs0xG/qhNcsAa8/uBKZtj5v0Snew9WaAhzlpesiIqAUXv+0rYMJ3OBB32DDnXm8W9hFe4T4h5gTots73Lboa/5xrge8f+kz9IcQz/nuienPKae5GpJ8V+9pAiAe7KwBGb8hceT7/Xa+8RP9hHZ6hZmxozy/M5Eujvxu8R2nIAIiIAIiIAIiIAIiIAIiIAIbgsB13COJjRXwTPrjQIQ6Y8zIIJZniEd6bUMI6Fp5nov1sBh4HZcMULvm1ZY+Bvl433zSN5KgnIiIERFjTb24h2CFWMCac/MI7GQbZSEKjFpPLy0/PFkQURiwtgmAafqVzhGDKZ92xZ77rfTAiPtMXY71/uAaTL/m4t+IR6tb0V7rUQAM22/v3KN+TCUlpCIO54jH8Ix0iF2EqKN/nOkh3sPVFgCZxktfpK70y596rZpMWMcxmJCODTkIYbd/nOoQZaYiNP0b29jtm5CKtX5pLgfqxXctm9dQXyL1Z+MYBCXCPPuDF7HsEKz3NAFwGYTGB9qCzaJCAOSPMgoiIAIiIAIiIAIiIAIiIAIisCkIsOttDMQ5do3hTTNsF+BxIDEQZSCO112U//mGkDJOPsPSxED30S5WRhlhe3xuO6ZpECnw+AhhYVh5Xa/jNcWAk8gmKTcdMwOmMX/JpyX/2HcwHvYoDFaKt20IgI/wZxAmVno2LZe0CMLwpE7h6fQJXz8yTTvsPMSQ9SoA0l+pJ3UM7z6E8FhLjnpxn8BmLfQjhCeOeJwSZt2PPNvqEGWvlgBIoTChTikTpvYiLEcIu1gzMmVC3yDMmgmiG30wBEnOWQZgLQJrRMImvlPeuYoCZFt9oy0kAO6ig2dyKgDG2rbxfbQrpc5EQAREQAREQAREQAREQAREYIMRCAGQTS4YnCKSjRuO92d4bloBkIH/vARA6sN0LXYNRoxiAE5k85LHDqks04qZ4skOkdSP5/DaYZoyYZaeQzFtEptYK25cAdBNmdnhNi0CIJmHUNC1IDZXgR11Yr08wrhrJ8aAe70KgFEPhGraLfpVz+tJfw4xi+mnpEEgTN+xSbl6ESMPkfdqCoDBhO+FYILg9oyESbw3n2owebinCbtHVm6Mm9F/8CTGhvBAfdIYz84jCcIwbQ8Xjl9NpofPo7xx8gzWm10ApJ549jHt91orRHYZ53eCPkM7scs5z4x6FtGQ+5oOPE6vUxoREAEREAEREAEREAEREIE1I9AUAJ/mA1PWSYqdf5tHdsdld13EsRjQrncB8MmNAfirE+KIElFHNm3gPAbHiDisR8iAMKbGMqUzBIYkm4lPJxUAsRHRJeLEBviDsxQAQ+h5tpnFxh1xbRw7g+96FQBhT3yY96sQAPHgRESIENO7uY8XGp6a9C/6VfSxBw8+swYjkfrOYi28yLuLAMgaaKQ/wm1hGjch8vKPQw+RLjZZCRHl1wPhnOnSEWKjkGDyQ+/DKRO4BpPnTDj9nneZdT0pB/Ge7yry5bvgcb47OJ6IEZ9oZvdqvNsIR9jxT36MafFR16jTsGOk4w8r2EHEDqb+4hkaZadH/iiBLaw9R4g88MgNJrxXTKOeJkS+XQRAvve3JnYwlZp8Iq9p7OG9+La/T7wrCHD7JBvpDMsbJqQlbve+FN8fHBHmWHoAb1SWuBgV+UMY7RO/a9gxKn0smYG4T78mRNn+UQcREAEREAEREAEREAEREAERWB8EmgLgU3wwh1gTA7vmEcGJwTU7aMbAa70LgAibMbDjyKL7CA6jBmsMSAmIhdQTARBR48/9+qwOTQGQNQCxrWscVZdxbJ2lANgsr6tAEHVZrwIg9aNOvAfHe78I0YB13tgt+luJ8ITwQx96qIPh2eh/CMzxHv3MBcImv66fg3cXARDvuLCD4wOT74Bxy6dcNts5aQgTBJ4QwYIJG+0QggnfPeF5ix0hmnqysQ83NrPYaZh8on3SOjbPtzX+AMD3YZrmvh2Z0MaE13g+IYqOsiW8FUOAhQf97OuJLexMzrVpQvSRLgJgfEcEEzYCIkRe/nGiwzwFwO96f4T/SpF+GXGltNynvTge7rWO766JIOghERABERABERABERABERABEZgXgaYAyM64DMTw8mMg3xbxyiAyjS0GgutdAERkwFYG3sRj3atolFca927uU1gZEIYASFuMeq5rW6UC4OnuhYTnUdc47SYlMbgPT0c8jgizGNx7VmMfYhC9ngXAqAxTttkAJN6FEA84IgzE9X+PB/yIkE4/wuuItPTLt/u9aZnH86l3FHaEl1LDlOrj69wGbMbz6XIuUralXekaIjZrZkbdhzF5ZSMjmPD9E+8aTN7qaaJOjUeGfmRacco/bBl1bAqAb06Y4OWFB1yXd5/6EBCER5Wb3osNQkIAROijXMqnPjB5vefblYk/Vh3i2RAAaSPsGLajOw/xnUAabMCW/5dmOOU57X6y5x8MpvUApI6XdZGezXdYjoDjLCMeruSHty8hvrv8ow4iIAIiIAIiIAIiIAIiIAIisD4IhAAY65PhKbHoAhkiWVv8nJkR2TmYgSADwvUuADKAxmZsjbqy2/G7B15CrNuG9xPT+xAKEeSY5sbabaRnoBvPPD/xVJpVC1IeZcQAnDIniXhkEkJ08I9jHyQAjo1qt4R4hX7Ypws22+6biXdQiC5kgHfYdb2tmUrIu3TP3XKe7EKU80LPN0TdWIuxLVfee2zHDnbkRuiKfNrSD7sWzzD1+yMucDaZfMPfMfKI9JwjntzA7YjpmHcfVtAK15/g7y11HyfGGp8IURFCuIPJ+xOvzbi/0jHeRerLd+n4fc8AACAASURBVMg4dvC9ii0x3Zh+gsiMDcHkLisVPMb94P6gpA8i/MaGLHE/zYqp0NhB/M5AiGSt1FkFuPNHJTjhRUuf4Xs7GA4rJxW5m1OA4xlEQJZumEdEKN9/Rp67Ya+OIiACIiACIiACIiACIiACIjBzAuySyRQmBIiYetYcrA/7zCCVASPPvcctaxs0rmQ0zzDInecmIJRx5UQExOam4MZnBrZpfUP44xpeN+QzSR1HMYjpyVFuiIHYM06kHYixu2wXD6XUrj1RAGSaLutd0v8m9dxJ+wPTTu828DR61mCHZjy47pCsX5emi7LwuA1hh7am7SZtv7Qt4/yKAzHvZr4OI96sw9aNw3sU8T/6IHZNE9K63qSFSQhHabpgArtgwns6KROEGdoDIXKciJ1s6BA2sRbjDxImbAo0aUDo7WoL3m/BJHMmrGOHiEh/nVU/oRz6BoywEQbNABPKROSmbYiIxLMMlJFyuuWI71u4UH+OTEOOfjtMAJylncpLBERABERABERABERABERABDYkAQTA8Ljg2DUyGOWZI732MXjuAiMGlx9LBnLH+4CzSz7jpmUjANYYQ7xkIBuDx+YRQYb6MeidhcfNMPsQitit9JO+yzA7DXeJPMeOxi/3AhioTxJu6ywQIGHBZg6ESdrUH534EMIHHpfYQltwRKCYNsQmFeQXAiDlRZnT5j/O8yHeHJUIKuyaTIh7/nFVDrR9ePTiGXvrVSl1eSFRb/4QECLTf3uSuLf8ifl+umPiccdagohkqx2i3mwaEkze4UZM+p5PUgfeDTbTYD3GsGOtdlTG/vjN4CgBcJIW1TMiIAIiIAIiIAIiIAIiIAJ7HAEGkVfxnUfxkJs04m0zTWCAyc6WH/SImDUPQSYG1NjKVEN2BH3BQGxkGhllI8Iwze0ffKdQBr0R5mFP5L0ejkwH/8CAy/ucBQIIYS0EwCiTddyiXTiyLuK0IQRAhAymGuI5iYhKvWexAy/2hf3DbI1pjUzpRIgkMv2c51Z6dlie01xnV9ywI0TRafJre3alegUT/qBA22AP02DXikm6KQpTU1kPdbVDbPSBJ2QwYZr4ajPhd+LqSR+hbfjdWKlNZ80ryuM7+lPuNf79hI08AGdNXPmJgAiIgAiIgAiIgAiIgAiIwAYmwCAyFQJXqgqD3xh4rpR2kvthDzZNEze7QDkJ27Zn2MgAz06mU+IFGsIXGwRcq+2BOVyjzVnf7DMDbzs8XxEgYyryHIpbMcvHmxniCfYctmLq+SQIJnizwoS16FgXbjU93dKaPTFhwhTctQgwYYouG3PAhHVJ+Y5YCya3GkzlXnAb/tNhrLYd8R2XeouHpzbvNKIgQnKkW4s2U5kiIAIiIAIiIAIiIAIiIAIiIAIiIALrgMCjE9EvxD+OCIDXXkX7EHcQUIhrLVhQftiyigh2K0pMdkNS/fEh2mYt+0naR2intQhR/9igKX1/Oc8lAK5Fs6hMERABERABERABERABERABERABERCBUQQQNCKOSjfve6nwtlbiTtQxBNEQe+L6ah/FZDnx4LEe+utyy/RJBERABERABERABERABERABERABERABBoEEDBYW60tNpLqowiIwDokwDTotveX6woiIAIiIAIiIAIiIAIiIAIiIAIiIAIiIAIiIAIiIAIiIAIiIAIiIAIiIAIiIAIisGcQYDrXLOOeQW3z1jL6Qkzv4xjXOCqIgAiIgAiIgAiIgAiIgAiIgAiIgAiIgAiIQGcCITaNIzBFmruY2aPM7GFm9iAvMe6lBnCN3SAnic38Hm5mDzWzx5rZddNCJjyfxLa2qW1XNzNsI7KxBbvKdglhxzjPaGfNcSgpjQiIgAiIgAiIgAiIgAiIgAiIgAiIgAisAwKIboSDXNB6gplNEx/vAhR5Rt51CcP/jUX+IwVCFAJXU3iL+xxDAPu07+B6jpn92hPEvTT9LM7DC+5CM/uTl3uIZzxuXWdhx7A8EEIv8MgOmIiToxim+UTduHa3wXpaLzez/zCzE8zs+IG4eqKZvcPMXj249pfJg7SdggiIgAiIgAiIgAiIgAiIgAiIgAiIgAiIwDomcEm3DcHoPBe1OJ8m/sLzxEtsnLC3md3chcdnm9lfmNn+KwiIIfIhAO40s5UEQESt75nZF8zsS2NG0vLMnb0SIZKFAEi50wiAIc7d08xO7mAbdn3AbUoFuFQAxLYuAiD54EH5wzHb/rdm9vdmdqlxGlhpREAEREAEREAEREAEREAEREAEREAEREAE1o5AKgAibA0T/s43szQOS8f1X3l1RgmA4TH3ADP7xpBy32dmVxqCJhUAKXMlAfDBZnauR+qBpxzHZj3Se5H+gW4DIhmiXQiAPDsLAfARbv/ZLsIixDZj2Imwx/mRblOIiHwkn64egNTp0mb2Yc+X+ocQTD3h+lP3eAxelBFpEEj/rIOn4ZDm1GUREAEREAEREAEREAEREAEREAEREAEREIF5EQiR7lPuVfZRM4v4ETMjbncvuxCfEH+OTtKl6RGS3ubGhkjXtD3Ev6e5mIaghdAUolIIYVz/vpndzMxCfIu8Iu+VpgCHQPbIFrEvRDWErqhbXEuPrPdHCBtmLQAy5Totb9g55cIIAe4wM7uymbHuHwLcAWZ2cEcBMNh8wsunDeCAd9+hZna7Qfvf0syu6R6at/EyEASxMQRBREBCtIl/1EEEREAEREAEREAEREAEREAEREAEREAERGC9E0DwIrwrEQARnxCJnuL3Qszzj2MfbuDiHyJSiG/fNLM3mNlPXGAKYe4HLWWF2LSSABgGXcHM7m9mTLcl3tfM7pB4H2IHnou39XuRjmcQ1wjNKcCIYNN4AHq2lVchQix14phGPDS5zrRleMCfcl/v5yEIYn/wCp7jTAGmnng6Rr54Y1J+iINhY3q8xGDTla95u4Voi/chYdRznkQHERABERABERABERABERABERABERABERCBtSCA2BcxxCjs+DsXnELoST2/bu+GhmAVz4dwOKoeTO9FdEK0Is/nNhIjBHI90rygcb+rANh4vKor147zchDBVtpEZF4CIPkiqrVFBMD7JJ5/8PrkYO29V7rdMGrGLgLgP/rzIR6yFiNshwl5XKe9b+TP4a1JeW1rEjaZ67MIiIAIiIAIiIAIiIAIiIAIiIAIiIAIiMAaE0C4Q9whIAK9yUUexDFEnu+YGYIP3mYhzL3C03PgWfIYJh5FUkSmP3ie5PtBv4HYhRgW6xJ+MUnzLTPbJzJw+/g4rgcgabErYpRxmotr1AshjTKiDpE2ip2XABj5Dzu+1W0LYY8NTZjuu2hm2wa79i6Y2Wfdm5E0kW4cD0B2+430HG88zIjkOn2Dtib9WW7bZ/x+CLNJcp2KgAiIgAiIgAiIgAiIgAiIgAiIgAiIgAisNwIHmdnPG6LTjwfTc5lGy7pwf/J74XnGmnCsSRfi4Ur1eVzjeTYCaQvsMksZCE0IhqxHFyGEpi4CYDwbx8t5/rH+IOXcI262HNdCAETsS6dJI/qF0IrHIOdx/GsXZmM67zgCILsuwzieeYjXe5iIG9eZOsxz4QH4Rn9uHO/PFrS6JAIiIAIiIAIiIAIiIAIiIAIiIAIiIAIiMA8CiDXXGHjg3dTM7m1mr3VRB2EHUYwj8eNmdln3zsMO1u9jDbi4j4dgnL/b1wdErLvqEKMPT9J/N1ljr5mcPH6XpH1QM8Fgzb50A4uVpvA2H/9bFxdj/TzqwO66IfQ108d1psuGCDqLNQDbyuEa3njYlHpc0k7DAjsdI+SFmDeOAMhUXuqSMkDcS70t0/IQG+/o7YJgGlPDudb0mEyf07kIiIAIiIAIiIAIiIAIiIAIiIAIiIAIiMAaEGAa7PsTgQ2xCTEIgYvzrw+m/eJVRgjPrzhyjZ1i2TE2RKo/NvJil980xLOvSdKdlEznTdNyzg63p3haxKZ84PH2soHHG9NWmXrM+Q/9/jhr+EX+CHlXTJ6lvghZIWj9pScMe9PnuDZPATA86Nj5mLbArhBYj3BDDjQzxMvHD+rwNx45Z2MQbIv2W0kAjPq9xBlGebTnjsFU7H8eTPHFQ5A+gIcnvJnqy31YhV30IUJ4ZfpHHURABERABERABERABERABERABERABERABNYDAYQwRLzU4+8rZoa3HVNkCSEU+cdlhyu7x1/s3BtiIOvSNQUhhDfih1xEIu3nluW2/MPeZnZykpb0wyJC2TgegFGXFyVCVnjMIZwhbP1+YCPrFBKwNwLn8xQAQ/x7lNtAXcO2tyXt8Fi3Pe41mVAHrq0kAFKvqFOIgDDAGzDNM/KLa6SJsj/q05CDkY4iIAIiIAIiIAIiIAIiIAIiIAIiIAIiIALriADiD/EuZsYmG3h5Xd/ti3sIXqMi6SJcczA1tDcQD080M4TBeC7ukxaR68OJwHRs3Gw5IgB+O0kbAlTbcRwBEHsIT/Y8Q8T62GATjTv5enZcIy/KYG3CeIbnsJ/PCGB4y5Fm2inAaf5Ms45p2OmUXKZgI6YGa7z+2hjEtRDsxhEAayL1v7cws2N8vcXIq+2IWPzVweYjrE9ISOvgl3QQAREQAREQAREQAREQAREQAREQAREQARHYEwmEUPTqRMBiCnB4vjWZNKcAIxyy+y1Ti58+2KjkqS5cIlKNmgIc5ZI/gh3pEbEQ2Zi2jPBFwOuRewiA4RHJmoD3c29I8iHOSgAMu/DCfEoidlJ2lP9fzifEP+y8jZm9zsyYSs0x4tEdpwDXta7/TdvgJmbGBizP97yZ4vvmgQj5Uud/3+TBppdnckunIiACIiACIiACIiACIiACIiACIiACIiACa0UgxKRnDoQtxLh/9eO/+zmfJ43/5nm9ysWjh3slo0w+4iUYXmrfGbEJCMLc6YlYeP8WYJ9MBL22KcAhsrF7MWsIIvDh5Yf4hw239jxDyHq0p0HkS6fCRjrqMSsBkKIR8X6Q1JEywzMxvAtbqt16CaES8ZI8sHGYB2DsHMyGHs14qdacd7+IdyZrSDafj7zT9t79aV0RAREQAREQAREQAREQAREQAREQAREQARGYK4EQu5h+iyA2jxgCH55jhNTDLES2KBfhqi3g7Uca8mJdPjbGiBB1+LSnwWOuKQCG+MeutuSDKBZ2kR5RsC38ue9yHGmf44koc1YegGEbm3dQTio2ft/MsKFrgCt5hd3Xa5meizB3Gd/ll51+5xWjfbrWQelFQAREQAREQAREQAREQAREQAREQAREQARmQCDEGabfhgg3zhEBjThO2kjzdrc3FQDxTPtNIla9z9PgTYZAxZFwfJKGHYn39escog6jBEDSRbmIiSGykVcqJibZVgJfPPOCwU7ETMHFJgS7iDCYxRqA4SX3OGf6i0FZL3ZjKCvs4BKiHbv/slYhguYjfWryHQc7Od9osHbg/r7uIus4MnUX27nWDNQ72maexyd5wSF0Nu3QZxEQAREQAREQAREQAREQAREQAREQAREQgTkSCOGJNfRe7mu7vWywm2tbZN03pvP+PBGOvrHCM+TDc/9sZg/2ejSFoDclU1XxWOOZNLzLy2M6LPHQ9GYHAZDHomymPD9vMDX58r5zLWsMslkJa/ClYhvPND9zLYTAWQmAaTmsq3cDLng5UT5TahH0vuxtENODQ7xjyi9i6je9nVKR1LNbdqCMn/pGH39Y4Ximr63I+opE1ktc6RmmbJMmpn4vK1wfREAEREAEREAEREAEREAEREAEREAEREAE1icBvM/wxgvR6b9nYOZ+7k0YO+6SN2vhMWX4VC8LYRCx7ccu4oUoRvHjegAOMxUxkGnAZw82tsDzDi+6lUIqAJ7lNsY6fSGqrpTHOPdDsPxrM6OcLl6XCHVvGFEI9UzXVYw2ndUxBMrHjLBBt0RABERABERABERABERABERABERABERABFaJAELTOBGvshMSAZCdccd5LoSsZnUQy4iPcgEO8QnhKna+TUWvn5jZ9T19ms8kAmDYTD7P8g0zECBZO7CLAIjIhTccds9DAMS+WP8QgTLW9PuZmX3OzBaTyDqOCKQh4IWg+pYWZim/cc6v7d6XIXbea5yHlEYEREAEREAEREAEREAEREAEREAEREAERGDjEbhswwMQAXDaEB5ziErDNiNhbUCm6LaFSQTANJ8tiWh2mpndOL25wvkDfP29h5jZtVZIO8ntq7koyZqFiH8IcAiW1xmS2ZV8TUAEQoRAnkOkvGVLekTQ5s69wz6zviD5IEKSL159pGUH4GHPxPVo3xYTdEkEREAEREAEREAEREAEREAEREAEREAERGC9EZiHAJjWEUHphmbGjrhPMLObuvA3SkRaSwEwtX0e5/dJNj9BeNuaFBJejOkxbj/IPSljsxPWDiSM4uhJWg+3aQiAj/BUlK0gAiIgAiIgAiIgAiIgAiIgAiIgAiIgAiKwiQjMWwBEUEpFKs5Z72+U0DRrARDRkXK7xlE2TtoF/so97vD+Y0rvvT2jYWVxnci6ir/zZ3i2bQfmLjZJAOxCS2lFQAREQAREQAREQAREQAREQAREQAREYAMTmLcAGGhCyIrPo46zFADZRfeAUYWt8r27+TTeWPuPqdARYMQ020t65HMEdjhmym5MHWYdQUKaxi+NdZAAOBYmJRIBERABERABERABERABERABERABERCBjU9gtQTALqRmJQAisiGYfdvMvtwhnuRp3+1Ghz1d6jAs7T6DNf2+6WJeiIDFYLOPJ5rZ/o2H+Hy/wfqA7/Lpv6RHBPz9wAPwmo20XT9KAOxKTOlFQAREQAREQAREQAREQAREQAREQAREYIMS2IwCYC/ZBCR20O1yDGHuS96mF59x27IO4JmJjVHeODYiAD5tBvZIAJwBRGUhAiIgAiIgAiIgAiIgAiIgAiIgAiIgAhuBAB5px5nZOR7fuQ6MDo+7T7hNiGXsgkuIe/6x9cCuuohp504YYcGz7GBMmKUAGFN2b25mH0124cVexD3K/YPXOzb8CGFwm5k9ym2KfPxj58OtfQfiM7ysh80o386G6AEREAEREAEREAEREAEREAEREAEREAEREIH5EtjXzH6UeKMhuq11CMHthMQuRDDCOALgFczstmZ2iynj9b3MWR9S8e6Wg01RXuJi4DfM7Kde51+a2Q/9+mvM7I7JZirppiqT2kZ+ISxyZJdmQmqbX9JBBERABERABERABERABERABERABERABERgoxOInXnZnXcW4tKseKR2YdtmD4hvxNgled5iHOVEnHdZm73tVD8REAEREAEREAEREAEREAEREAEREAERWNcE8Lhj91niOB52q1WZ1C5s26whhE7YR5058hmBbh6iLIJftDnHeZSxWdtL9RIBERABERABERABERABERABERABERABERABERABERABERABERABERABERABERABERABERABERABERABERABERABERABERABERABERABERABERABERABERABERABERABERABERABERCB9UOg3MuMqCACa0DgiPIidsQRF1mbPuh9Hxuqd2At34NB2XBYMxZr0PYqUgREQAREQAREQAREQAREQAREQAREYI4EHnXURe3gE1mrPAnlXrtfS27rVARmSaASumaZYZe8ENu+1b43wbDrXbLvkvaI/GLG+9gMXGu73kynzyIgAiIgAiIgAiIgAiIgAiIgAiIgAiKwO4HEy+lZi9ex/sKjrb9wd8t2XLVOm9zf/WFdWZ8E2AjyQDO7iZnd2MxuZGY3M7PLTWTuofkVrLft5nbIthsvxWzxRrZ1259PlF/zoRD/nptf27LiXZbl77Rs8eA62Sr2v/62u1qWP9N6xRur49Zt91hVG4LDYZ+5jPXyJ1iWH2G9hX+3LH+8HZHvXdkSaZoMx/lM+9Fu0Y6cV+169L7jPK40IiACIiACIiACIiACIiACIiACIiACG5XAM/J9rFe8zHrF2ZYVpfU8cp4VP7BDF25TV20VhZiNynL92L2fmZ1sZmUjHuQmIhCOEbzNEaLq/kCf2BV7+eljZDIkSdKfELd6C1vqvpdf4P3wPdWD0wheQ0reddltOLS4j/WL05fq1sv9Pcip6yl2+I5b188kNu/KZHZnWb5fLX56+fE+Vse8tH7xsiUhsEupTGnGezBtu/S8t/C3q1K/LjYrrQiIgAiIgAiIgAiIgAiIgAiIgAiIwAwIIKz0P315y/KvuDBwrmX5H60SP/KzrFfFCypRJltwb6wZlKssVoMAnn5fMLNzzey1ZvZKM/sXM7uVFz7mGo8uePXz51pW0D/OsSzfaRnCWBXPq/PrKoyF8IZn4eJjLCsW6z5I/sX5lhUXWr/47yrvaj2+OSALYTHLD6vq0ssp9ywXIRH+zq1iD0ESQW7hfra0NuAc7Dkkv7pl+U/q9684qy4bsbXifE4t0Ffnx3QWAZcEwKV2I9/zrJcj+p9r/fyvJ2vHOXBQliIgAiIgAiIgAiIgAiIgAiIgAiIgAjMiEOv9ZfmJlfBSiRzFhbXYV5xUX6vEh52VGJPlF9iW8ASckQ3KZp4EEAC/6N5/U5TjQl2WP99F4gstK75rWxbvZNnCna2f33bizLcWr7Qs/3HS1873/kcZCFRHVnnPRQAc1It8e8V9asGvEvsuqMS3LP+cZcVbrVf80bICb8QLrZefN5gS/Bt7zjGTTaEeBQk7WPevt/iJuvziwlpwrMTIN1qv+IJf32m9whnlT5pokxLabUt+l7r9CsT+2uu3v/C42sSuQu6oiumeCIiACIiACIiACIiACIiACIiACIjA2hEIz6d+/kQXWs5zkeOX1tt25dqwci/r5Z9y0QfhAY+ody3dWzvrVfJ4BFIB8PJmtvumEmPl0yoAnjTWo6MSIUBn+Vdd/Iv+VU+7RXCbuwA4MK7ygC2+5n27Fv/6iy+pzI6NP3rFaUsiYG3T80dVq/s957t14YE1i9xFyOIU23LsNZfy6xWHu50I8sTTKgEwhPylhGOcxEYiWXGGZTmehqVJABwDnJKIgAiIgAiIgAiIgAiIgAiIgAiIwEYisEsA+JVl1bTHcysPo35+72rXX8QPYj+/nmX579xDClHmQmMziHh+I9V5z7N1fgJgr/hyhXMazzw83rLiJPdsQ1z+rmXF9lrkqvrknD0AzaopvdW6l7kLkPnXq3o9Kd+76uPVO7Bw9yWvvB5Tn4vP2yFHX3Jm3SkEPPKtvXDr6c9Z/pRK4ONdq9KUe1mWf6f2xi3OtR5eiYsPru3o6LW3q0wJgDNrSGUkAiIgAiIgAiIgAiIgAiIgAiIgAuuRQJbfsprWyNTGWnj4WWUmokcasvyztcdRztTDnZZtf2x9u6PokOap89UgsN4FwL2tV0013z7wZjuk8jzdsv3v3SOQtffmLwBWG5uwJl7lUYcIePhu02oRvLPi575GIGnPsv4COyvPJiCi1pvwILAj7LHO4nnW//ylalsGxVRCKwJgNWUaG3hnd1q/OKoyoqsgLwFwNm2nXERABERABERABERABERABERABERg3RPYmme+mQMeR6X18jdXNjfFBKZEVmIMGzPgKZX/V2u6dV/hPc7A9S0A0hxHHHWJWtzytskWtnpfm7MAWO5VedX1ik/WonYlAJa2ZeFeu/US3ocs/0glEuJ1x4Yc/YW775ZuogsxvXr7A3x6L/VmzcHvVNnhJVkFT9ffdlcXKxEKmbb/8+Xp6tQr/isBcEVESiACIiACIiACIiACIiACIiACIiACm4NAlr+lFj8qzz68ito9+7L8oS46nFel7xfHVQBCRNgcNDZjLTaAAJhfrJpqG6LzagqAz/7cZS0rvl5N78WztV+cPtSzr1e81oXJepOcfvHkusNM6wUbAuCOzKcZ11Pxs+JtVf7BhQ+c1zYj1rMT83m2Jf99tXmIdbQj3l2tAbgZ33vVSQREQAREQAREQAREQAREQAREQAQSArX3E8Jf7QGYbb9nfbchJmzJ719NN0RwqKcK/6pK15wqnGSt03VBYP0LgIEpNqVZLQGQ8pja28tPd3EbUe1n1t92YJi07Nhf+Bf30IvNSXwjkMa7suyhMT5EvXsLb3IvXLz68LJ9RfV0KgDiDcjag/VmPOdYj3US8zPtkB1XHKOk5UkkAC7noU8iIAIiIAIiIAIiIAIiIAIiIAIisGkJ9PKjl6b2Iir0t99+ac2xtNK9bberNx7IESdYB1ACYMpn/Z5LABzWNqypd9hxV7Ks+FMlqFWiWv59y3ZctfWRXvHCZQJgP39unW5aAbC8SJVPVrzD82dqb2nZ9sOq6yEQ8iE2HuF+vXHJeZUA+MxtB9S2dPhXAmAHWEoqAiIgAiIgAiIgAiIgAiIgAiIgAhuVAJ5FveK4JQGQNf7626/WurtvP7/tMgEwkwC4QZpdAuCwhkIApL9XYpuv/5flX7XnHAOz3QMCYL0OZu0BOGsBsLf46Tp/vGyrzU8eXxnRJgBW63UWZ1dTgPEAlAC4e3vpigiIgAiIgAiIgAiIgAiIgAiIgAiIAATYUTQ/1gUQvPpK6227+bINGQLU1sVbVQIguwXLAzCobISjBMBhrYQAiLdfxqYeTLmtRLfv2eH5VVofyfJ/8ndlPgJgtsgmI+x67ALgwtbKjjYBsHpXKwGwngLMVOauQR6AXYkpvQiIgAiIgAiIgAiIgAiIgAiIgAhsUAJZ7l5HvgZgv7hra022LjzQdwtGnLjAsvxnVTp2cFVYzwQkAA5rHQRA1s7Lij+4Zx9rAP7IDsmv3vpIlr96mQC4Je/V6WY0Bbif/5fbEbsf12sMpgIgXrvPyPdxsbLeBKRXnGEHf/zSrTaPuigBcBQd3RMBERABERABERABERABERABERCBTUQgyz/muwBf4MdH1rVriBr9hYcsCYDV9MP8U1U6NiVQWM8EJAAOax0EwKcfu79lxf/57rtltQtwtnij1keWdswufBfg7fdtTdf5or9r/fwVbgfr+mHLRLg2RwAAIABJREFUf1RZpZuAVF67O67q7+o5lhWkPbVK1/VdlADYuaX0gAiIgAiIgAiIgAiIgAiIgAiIgAhsTAJZ/ppa2Ku8+krLFt3ryDcmQHCoRIfFV/n0RKYK77Qt+T9VFV4mTmxMBJvcagmAQxt40LePyPe2rFh04W1nPR140XfCTh485Oh9bUvxpSVPwaw417bkN01STHHqAmC2+Hifjsw0e7xsv15luiTsRbqFv6vs6BXnVkJhr/hQla7ruygBcIo206MiIAIiIAIiIAIiIAIiIAIiIAIisJEIZIsHV+ufVYJDtRbaDyvzj/jW8qm9vTz3ddLOr8SHwwbiBx5UCuudwOYXAJkii/hFTKfLjtsyvfz1tUfd0jqAR9R92wU3BHA2C0H0Q/yuYn6iIQouhXKvJRsqIS6eXUqwwkm5lz0jv8quqb2Ie7yP7EjseYXAV68ViFiJPRfYluJv6sw7ltlFAAy+E9VtharrtgiIgAiIgAiIgAiIgAiIgAiIgAiIwJwJVGug5edYvbkHgkJphy9ef1mpvR03r6ZG9vJa/MjyX9hhn7lM627Byx7Uh3VAYPMLgBVkxK+IHan3i4dVnnT1RiA7Lct/u9tOwFn+0mXr/2XFm9pLCRsmFOP6xbdcjLygEtyZFpyGLYvXtyz/fSUOVh6ARWnloKymYJ8+M+y8iwBY5TFh3YaVr+siIAIiIAIiIAIiIAIiIAIiIAIiIAKrQCCmFvardQARHGrRISt+Yuz6y2YDh+y4sWV5UU2RxPOp2qW0eMEqWKciZkNgcwuAlYC98G7r5Z+wXv4p6y88ozO25x67v/Xyk62X0/8vNITubLGwrfkdrb9wE8vyJ9VTbnOmvzM997x6+m8i8vW2382q9TTzD1s/32b9xZt1s8PFtf7CoyuhsbKlEtzPtqx4ulXC38KdrZd/waf/Xuii5Ssr4XMSb9xxBcDDFq9jWfF+6+Uft6z4jG0tHtWtbkotAiIgAiIgAiIgAiIgAiIgAiIgAiKwtgQQAZ/9uctWwkYvZ1MBPKBK6xVnWy//omXF71z0u9Cy4nzr5z/azTtqbWug0kcT2NwCIEJ1tSlNUVbHftFRAHQRr7/9vp7Pn+qpt3mdX1b8xgW5862XI8Zx/ZAKeTrduJf/a2LH+dWU4a6iXOSXVdPtKeeCWoysbPm1i/C8m2zYc77hLdj//KVGN/+Iu+MKgP3ir5K6lbZ18cEjctUtERABERABERABERABERABERABERCB9UfABZDewv2WBvlMA+4tCSAIEUz9xTPqzMoTaf1VQhYNJ7CBBcAcb7vSsvzIqnrLBLXot/lB9ZTZHLHsN/asxesMRzHkzpLwtnCwi314uu6sBbfqPeDcvV8XXl7bcsTy9S97+ad96i7vyietEtfcxiHFDr1cT8v/hk85RvCrbanFx/q8n/9m6ndxXAGQDX9q71/K/oEd9pkrDbVdN0RABERABERABERABERABERABERABNY5gd7CHayXn2D9/PRafKhED3YaPaUSNbJ8v3VeA5m3O4H5C4CxOcXuZXe8Et54C4+zrPiS9Yvj/PiiKqNUAIwys+KttWhXbWDztbrASYQ3f4b1L3vFgmXFz62X/3bg7Xea9YqfWpZ/0fr5vVvzf+a2AyzLv+kiWWn9/LkdK748edQzW/ynampyluOFeJr18lMty79tWfE6i+n7y5/s9mklARBhlJgV/+tiJCLo0d0KUWoREAEREAEREAEREAEREAEREAEREIF1RCARTapplYsPt/7CQ4ypkfL4WUft1NmU+QmAWXHSxBtvdK5G44Fd4tX3au9Upq4vvLhKFR59jUdW/Jg+t3XxGtU6f71tNzc88iKE8BifOdbTkM+qvWbzs6y/cPf09kTnqcC3Jb9ptaZgtnijpbxCJFy6MMFJ7OibFWdYlp9VeVv2Fx5X5+S7GrMOaK/4pU9FxgPwWROUpEdEQAREQAREQAREQAREQAREQAREQAQ2BoFEINwYBsvKmkAqAF7BzC5hZhc1s726AfL2z/Ln19Ny8bjLv22H51ephbKFG3TLb4XUCFyVB9rgWO3u20jPrrdHHXVRF6bOrDzU+tuv1pq28ejKH9v6ets1zwmhvJ4yj0B28ky886qsh5U57PrKNVtKweYmiJu0X5afubS+YSoAIkIi/td1q9dGfM4x9CcFERABERABERABERABERABERABERABERCBdUQgBMALzewWZnagmV3bzC7TzUYXnfoL/+CbZLBjbmyUwZqRp9f5zUCcWtEwL6OXP8inqmPHqdVjCIOrFcJjsF+8dsmOXvHeuvjV4DBBRRFW8fxL267e+If1Ftno57FVruGB2C+enNTt5OpeeF9OULweEQEREAEREAEREAEREAEREAEREAEREAERmD0B1m38kZmVjRhTOZdvZjG0fBe0svylDfGoFgF7xR/qR1dD+PIyti7cy7YU/2ZZ8W+2pXjY6pUfkNyOXn7Qkh3ZjlvH3XV5bBcAdwm5CH6EmOq8deHBS3Xr7bhfXafVaON1SU9GiYAIiIAIiIAIiIAIiIAIiIAIiIAIiMC6JIBHHOu6ZWaG6PcMM9tiZn8+kbW94nbWzw+1ft5bir2FLZblT5koPz20ygTKvaws96rajvX8oh1pQ9q1N+Op3KtcOxUnAiIgAiIgAiIgAiIgAiIgAiIgAiIgAiIgAiIgAiIgAiIgAiIgAiIgAiIgAiIgAiIgAiIgApuOABt+NOPklazWvmMaaDNOnqWeXG0CzbYbfI41DVfbFJUnAiIgAiIgAiIgAiIgAiIgAiIgAiIgAiIgAiIgAiIgAiIgAiIgAiIgAiIgAiIgAiIgAiIgAiIgAiIgAiIgAiIgAiIgAiIgAiIgAiIgAiIgAiIgAiIgAiIgAiIgAiIgAiIgAiIgAiIgAiIgAiIgAiIgAiIgAiIgAiIgAiIgAiIgAiIgAiIgAiIgAiIgAiIgAiIgAiIgAiIgAiIgAiIgAiIgAiIgAiIgAiIgAhuaQGl2OY97b+iKyPgNQ6A0u6j3uT8rzfYrzS6x1saXZthyjdLsKmthSwuTi6+FHSpTBERABERABERABERABERABERABERgExAozS5Wmu1FVUqzQ0qzr3h8nl+7yCaopqowBYHSbJ+BGPa20uzI0uy9Ht9Tmr2/NPuLSbJO+tzfl2YfKc2+Wpr9tjT7Rmn26dLsaeSLEDZJ/l2ewZbSbElgK82e67acybvgdizd75L3JGlLs6eXZh8tzb42eCdPK82+Xpp9qjQ72G2ZiElpdh9vs2hDjrTjm0ozCf6TNJaeEQEREAEREAEREAEREAEREAEREIH1TMBFj0rcK82uWJp9vjQrk/if2F+aSQBczw25CraVZgeUZucnfSPtJ4/raoJ7t+Hph8CV5tU8P8n74MW6ljFu+hAivZwbu/id2vE9vzdXAdCZwBkBNC2/eX6C29OZiQv8zfz4/LvS7LLjMlM6ERABERABERABERABERABERABERCBDUIAj5/S7Gal2btccLiwNNuZxDdTFQmAG6RB52hmaXb50uwMFwHpI78uzX5Wmv18IJg9pEvRLnThdfpd72v0O0Qojn/0c8qI/rjo/XAir7eVbCvNLl2aPbA0+1xiR/oefMfLn5sA6EwuXpr9wOsdTC4YwmT7JExKsyd5m9Fuv0n4/wIvz5VY6b4IiIAIiIAIiIAIiIAIiIAIiIAIiMAGIYDYgKml2Ttd8EB8OTvx8EL84JoEwA3SpvM2MxEA6Sf0jctNU2Zp9irPB69CxK6fDATBx5ZmtyvNnuf3uB737zdNeW3PhuffQAh/hZcX7wGiG+fxHsxdAMS+wdqHr2kw+VFp9pjS7PYDDs9vMIHLvdrqNe61wXTu6yXlSQAcF5zSiYAIiIAIiIAIiIAIiIAIiIAIiMBGIMCaf9hZmn2hNDtvsN7ZOS4EIHqkwocEwI3QoKtgYyIARl+5CRt1pOtHjmvGQHi+dmn2q8TTlD54i/T5wXp8L3NhEDEOIe7T6f1ZnDcEwHMb70F4H/I+zF0ALM2uW5qdmjDBnpuk9SzNXtlg8vH0/jjnPu0f70viXSUAjkNNaURABERABERABERABERABERABERgAxJoCIAIHIgsHyrNtkoA3IANugomtwiANwgBrWvxgw0tHt7oZ0eSR0w19+mwrEmJMBheeEw3vk7XskalD/sTb0RENzY5eUBp9id/L1ZLAPzrBpN3NphcpDS7ajIFG7tOKc2uOaqOo+6VZneSADiKkO6JgAiIgAiIgAiIgAiIgAiIgAiIwAYmkEwBZhrmiwfeVXekOr7zKMJCiC7yANzA7TxL02chACaC2+sTTzf629NTW91L7VKlWdFIN9WU17SM9Lw0e9RgfcM+deR6aXZPnxIfU4Hn5gHodWUH4rc06npQw0bSXMbXKeT9jHf0bmm6LucSALvQUloREAEREAEREAEREAEREAEREAER2AQE3OvqqQ0vJAmAm6BtZ1GFGQmAeLGx0cUx3s8Q/1hT8C5tNiaeeSF4dd5tuC3fUdf8PWBqLHathgAIE6ZS5wmTs0qzO7TZWZq91tPFFOVHtqUb55oEwHEoKY0IiIAIiIAIiIAIiIAIiIAIiIAIbDICg91BJQBusjadVXVmJABe1L3YfpyIXb8vzW7VZudAjHuJpwtvtxeTLjwJ256ZxTVfG281BcB9S7OfJnX9Hbtzt9XF1wFMvXRfMCkTCYBthHVNBERABERABERABERABERABERABDY5AQmAm7yBp6jeDAXAy5ZmpyUCIGv7Hdhmmk/LTcWul5BukwmAiKL7lWaIftSViBh4rSFMnpMIhaR94aRMJAC2EdY1ERABERABERABERABERABERABEdjkBCQAbvIGnqJ6MxIA2Xn2cqUZm22EV98P2dyizbTSbEtD7NqsAuABjQ1PvleaXWkIk8MbTCQAtoHSNREQAREQAREQAREQAREQAREQAREQgXYCEgDbuehq5XV3+YFH3hml2TkuQHXeBZjdpwdr2O3vz7OGHR5s3x8hdu0pAiA7HsMimJxcml2hrd8NdieWANgGRtdEQAREQAREQAREQAREQAREQAREQATGIyABcDxOe2KqGXkAMt2V9e7Y5ALBi/jz0uy6bUwH6Z7tacJbcLN6ACKusuZgMDmlNLv2ECb/2GAiD8A2ULomAiIgAiIgAiIgAiIgAiIgAiIgAiLQTkACYDsXXZ2ZByAC4D6l2a98CjDC3q9Lsxu1MR7sGPwyF7tix9unt6Wb9bVV3gQEJkyLPjVh8ovS7Ppt9Up2Rg4mB7WlG+ea1gAch5LSiIAIiIAIiIAIiIAIiIAIiIAIiMAmIyABcJM16AyrMyMPwIuUZpcszY5PvN3OK83ukprKJh+lGWmPTEQxvOPumaab1/kqC4DU89Kl2UkJE9ZIvEOzfoNdkREL399gctdmunE/SwAcl5TSiYAIiIAIiIAIiIAIiIAIiIAIiMAmIiABcBM15oyrMiMBEGGP2BT2npWa6+IfuwWzQQhegsTflGY3SNPN63yVBcAQO5vC3sFp/ZwbuwX/JJkCjPfk9dJ0Xc4lAHahpbQiIAIiIAIiIAIiIAIiIAIiIAIisEkISADcJA05h2rMQgAMs1r6Wc499w5ko5CLl2a3aEz/XcQDLvKY53E1BcCox0DgfGYi7OHtuK3BBC63bTA5BrE08uh6lADYlZjSi4AIiIAIiIAIiIAIiIAIiIAIiMAmINAizLyZak0jMmwCLKpC3Qem3gU4QLK+XWn2W/fsi51vnxH3OZZmPyrNmB58gcd+4/4Bg6nEDyzN/rI0e2Rpds30/jTn4wqAeOW5rbcpzR7ittw7rnexoTS7YWl2eoNJ0wsQ77+UyTLPyS7lud13ckHx/NKMdQf3aebhdlE3WP9VabZ3M40+i4AIiIAIiIAIiIAIiIAIiIAIiIAIbCACEgA3UGOtsqmz8gAMcaw0e23Dm41pvqyD99bS7A/JPQTC71Pd1AOwNHtyacY9BDGeve2skHQQAC/udn3LbUBI+7ZfG9szL2HypqTeMfX5hNLsP0qzM5N71PvkJpOu9R/lAViaXczz/5jXjZ2bd/q1qt5dy1N6ERABERABERABERABERABERABERCBdUCgNDuoNEPEQFTh+EbMkgfgOmicNTZhVgKg9yfWvWOa71dc1KKvsfEFR6a/np2cs87d1VLxz/N4g6fBQ/AHpdkBs0LEpiQuuGEH78K3vMxlwpfXYW+3GYEO+5/vaccWAD09TC5Rmn19CBMEuODzy4FQetVp38uVBECEydLsjNLsj+6F+W63tRIHOVcQAREQAREQAREQAREQAREQAREQARHYYAQG0zKf5eIDIgwxBvydxIwNVm2ZOwaBWQqAFOfi0uVKs1c3+lz0PY6fiI0/wkvOn0U83O7P4Sn3rvT+GNUZmaQ0YxpvasfvvdxLxINRnqfFIy889K4+qTDnTPYfsH5do/zUFjzyru/2VFOQw6aux1ECoOd/oAt/f3IvwHu5jVOV29VOpRcBERABERABERABERABERABERABEZghgYGQcp2Bt9OjSrNHDKYYPqY0u9UMs1dWG5jAEAFwJsKwe/gdVpq9ZuDJ93oXolkTr9XTzNOzHh7iH+LYU2aJ1j37rlSaXdnjbt6FIfINvPZe7jbgnfdj7OD5ae0pzRASD0+YsEnIDYYxmaS8MQTAJzhjvCwRARFsV2Ujlknqo2dEQAREQAREQAREQAREQAREQAREQAREQASmIDBEAGSK6FTeYO5RtpuohMAWIlvTbIRpF90QANk44wbNNNN8dpvYdTdim32xRt6JPjUXW15BudOKZCswmYp3ymWYABhtWpq9xQVA6vZR5zET0Te1Q+ciIAIiIAIiIAIiIAIiIAIiIAIiIAKrTMDFh0rYCSFglU1QceuQQCIAsiYeXnefHAhv7yvNPoCQNK3JLvhdFPFsmPAXZbiXKmvi4ZX2Za6vdl/19wSB8LTS7He+IclNZmlHFybBZqVjaXZfbzPabpu3JR5+u+0C7NOsYx3EmXpZrmSn7ouACIiACIiACIiACIiACIiACIiACIiACKwyARcA8bY7J9mMItame9xqmBOedS5gRdkvouyVRMN52Oe7BYcdbMzBFNmZeejNyeZDXPQLu5m6jKj7f6XZPlFmaXYNFzYj3a3jno4iIAIiIAIiIAIiIAIiIAIiIAIiIAIiIAKbkEBpxuYUPy3NTnWvNzzffutTcB++Cau8KavkO30j5NJ2tGG047dLs8tsykqrUiIgAiIgAiIgAiIgAiIgAiIgAiIgAiIgAisT8CmveLjt14hXmMWmFytbsCuFr0V3ydKMuNv6fLtSzvfMmYQdSzsEz7fU6XIfbFpyicFGKwc02pA23beZs6eN+q1rz8am7fosAiIgAiIgAiIgAiIgAiIgAiIgAiIgAiIgAiIgAiIgAiIgAiIgAiIgAiIgAiIgAiIgAiIgAiIgAiIgAiIgAiIgAiIgAiIgAiIgAiIgAiIgAiIgAiIgAiIgAiIgAiIgAiIgAiIgAiIgAiIgAiIgAiIgAiIgAiIgAiIgAiIgAiIgAiIgAiIgAiIgAiIgAiIgAiIgAiIgAiIgAiIgAiIgAiIgAiIgAiIgAiIgAvMkUO5lRlQQgXEIzLqvDPI7orxIFdesH2LDERep4prZAHvYOo84H6dJlEYEREAEREAEREAEREAEREAEREAEREAEdiPwqKMuagefePHl18u9dr+2PIU+icBMCdAP1zJQfpsNw67PzVZEv29dojX7YddbE+uiCIiACIiACIiACIiACIiACIiACIiACFQE8DLy0M+vZ9n2x9rWhXvZIfnV47KOIlAJY/2Fm1h/8WbLYrb91vacYy43PSHvh/2Fh1iveJ9l+ZGW5f9v+nzHzcHLP+Ljl7Z+/kTr5S+xXvFGy/In7apf8q6Mm+006foLd7ctec+y4q3WL/rWW7jfNNlVzz5v2wFGm+3Wjos3qj0epy5BGYiACIiACIiACIiACIiACHQgcBEza8YOj6dJBwOWmE6VHtd0WlNq3yzOvY5pVtR1TQIDxHSQ2Pw8oVFp26Xny8qaMG89tmcTOOTofS0rXmlZca5lRWk9j5xnxY9ta37HGlDar/dsZHtk7Z+JcJRfUPWRum/QPzzmj5+ISfo9fWh+BdtSvK3uf3lpWU5ffOpE+U7y0HOP3d+y4m1ebl0v3oXqncCe4nX27M9ddpKsx3/G37H+4n2tX5y+xLdXsajfzaz4lW1dvFOd5wTvZG9hy1K+S+1HPfPfz79+45NQShEQAREQAREQAREQAREQgXVHYDAAiUFc//OXssM+c5nWKVTzsvuI/GJLWTNN6+CPX3rpMyfp/WU3ZvyB9aLS8Ix8n4pFXGubVhb3dBSBtSBAn0V0yfJv1IJAfp5l+ZlWiQ35Wdar4gWVIJPlz1wLE1XmOiLQ//TlLct/a1l+Vi0Wu0iHiITHXBUmEKQOzW9olSiV/6zua5UQjdB4oWX5U1aFQLbjqpbl36/7fnF2Vb9K/KvqeI5lxTnVvaz4kh3yxX3nYlP8jmb5YbUIWYmtZyWC6Hm1Xfn51f0txcPq9QEbvz0rGdfPD/X3vRZZEf57OXX+qfG7pSACIiACIiACIiACIiACIrAqBJiKh5B0gpl93sy+aGZf8HiXThbEYKK/+HrLihMsK473I+cnWD9//a5FzjvlvCtxlIHIluX/Y1n+A+sVP7Tewt/uSjTHs1izbAvTtRa3WZZ/ry4/P9l6xcetn9+7Kn21xDcGkb38LZblX7EeLPIfWLZ4ovWKly33CuzI5LDjrmRZcfSy9ltqz8XJPG86mqDkm4xAvDtZ/tVKDOhVYsNOF2D4rnBvo3xnLcQUF1p/x+03GQVVpwuBSgAszrAsRxArrbfwCOvnt7UtC7expx+7f5esqrR40/WLT1pW/Drpby44F/S7+XsAVr9h5V7WK/7XBT5ER96Ds6vfyF6R+3XsqW1DrJzLhhzlXtVvVu2Bi9h3QV12/jnjd7xX/G7pXewh1hdnGG3SNRyy44pVm9Fu2eLfVZyzSlT8hQTArjCVXgREQAREQAREQAREQAQmJxDTfkszO8fM/mRmf/D4wE7ZhjiXLX66/g8+A6pqGlNM2Tqm8tSbRhxD+GN6YFac5sKBD9ryZ3WyddLETF3s57mXfaH1ihAwsKO2pb/w9qnEtxVtc4+XrHisZcX5tbeG24E92FFPI/udZfkt6+w6esmwFlsMkhkU1+14obfr1hVNVAIRSAmEt2ovP8gH/4gJCB+/MKZ5RsjyTyx9d9CH+/l/17c69t/IT8eNTWB3AfAGU3239rdfzXr0OzzQlr4ny0Rwm7MAGN/d2+9Z9fMe39/Vb+QvrH/sgUuNxTTk+C5HHMyKM6vfzhDRlxJOecJvdpaf6O9ciH8vrXKNsnr5LythsHpfK4H0ZVOVumXxTv4dgFehBMCpYOphERABERABERABERABEehGIBUATzWzu5oZnhUMyhs7dK6Q8XIBEPGvHrgwzSnLf2xZ/o6JPQCrtaAqwetj1YCpV7iAEF4bqyAAMg0ry0+oxbX8PBfZdq3bxMCy9pJAMHt1TWvGwsUuIeUJ9QCy8ow53wdwydpROcIg66udY1sWr995ivTh+VUsyz9vWfFD6+c/qrxT6vakDAmAK7wKut0gEKJ/JSpXnkRMASxta3GPatdfdhkl9rcdaP38dBe1EWp2Gt5D8XwjW33c5ARmLQDW025d6Kr+sLGjEsDqP5jUf+CY5xqAIapllZcfU4757t5pff/94g9cS2kqYY7fUMRKbHts1drxOzuLpuf9w/OwV3kg8rv1zSrbJ+V7V+/cIUdf0noLd3CRkt837DnJDj5x+bIXXWyRANiFltKKgAiIgAiIgAiIgAiIwEwJpALgr8zsphPnHgOTygOwGijgwfNxY9B16PZrTTR1KNbT6+fbXPBCgGLdsBC9GJDgwTFHD0BEPKZs5f/o4h/Tsij3h9ZfeLRlC3e2LP/P2g68SlwcZJ2pmW+YUe5lz9x+rWph/J6Lf7UHyb9Zb/vdrFc8yrLiVB8w4qHIoO6Yzm2K0NjbduVqV1Z2ae3lX05ERgmAnYHqgWoX0Eog5/2opv+eUlFB+EtDv/hM7U1bidg7rb/wuDpdx3XH0jx1vjEJzFwAzK9tWfF76xVvr767EdvYBKT2cq43G5mnAMhvJOvW9qrfL0Twemoz6+DF72dM9e0VL3TPa94XvLo/Wb8HyRq007ZqVjzPxT1+z/ij3fPr36z4w1W5l2X5ftVafdUGKdXGIGdbtuPWExctAXBidHpQBERABERABERABERABKYl0BQAbz5xhjGAWS4AHlXnFwOKjrmHN0SvYH27mNrKNK3aW6MatMxZAMSGI466hK/TVHtsZMWfrF/gLbkr9PMdLpLFJgb/U90MEXNXyunO+sUbl8qpd61837IMD1u4QzWYqweZDOrOrNbNWpaowwcGrFn+xXqAiKAoD8AO9JQ0CPSL/pKwVwkuC2+qbjW9+/rFi7x/1xsP9PL/ak0X+eq4eQnMWgCEVLO/ZfmRqyYAUn62/Z7uPY5nH6Ljj6sGjN+6aE3WOqzek8oD8FzL8t+1pov0nY6D32N+l7L8I7umGld/1HrAbtnwx6CseH/9m1KJhPxh7/67pRv3ggTAcUkpnQiIgAiIgAiIgAiIgAjMnEBTALzZxCW0CYBZ/oEqv+aga9xCwjuoV/zKB2m/qqbX9vLn+OBovh6AMeWWnSGrwVq1a+lOQ+QkxH2O/R1398EU04MZsJ1VDbJmKQCy8H0v/4aXg4ff+ZWnXpQBZ9qhV3zIp0rXfLbmTxsX+fJ05V7VzsK1AFhPMZYAuByRPo1HICveWvfbyrOPvlRPaWx6yWb5Q11s5j1CwGZzIluaGjleaUq1GQjMQwCs/qBTXmRpt3bWmVwVD0D/I1h/x99FwkgzAAAgAElEQVS71109Db5XvKdqqvQ3ku9wpt9iV+0lWHsL8oeo5vsySTuTP9N4e8WXk98JNlvxNWMbmWbFK/331r3Ki6c3Uoz/UQLg+KyUUgREQAREQAREQAREQARmTGB9C4AxKKoFv8daNa3WzLYUh/j0qDkLgD7dKis+6+sf4bVRWrZw8LKpUthZDdhy1pdiWled7tBtt5tpe7ErKlOgsaGe3nuCsbNlc1CYwada5B6vSUSUI5fZO7ZREgDHRqWEowkwhbHqs9W6Z6VtKe5RP9DwDt6S379+16qp9HhIsTSBVWsE1g/o3z2FwDwEwGAXvy2rLQD28n91YY91bPlufk1lUtjDB/6gQ6y/51mjj2UvzjM2MZlFoCym9vby37jYjtD4y2q92Lb88cqt313/vS1eVCdrvLttzzavSQBsEtFnERABERABERABERABEVg1AutbAGzFUK3H9yz3SFglATA/sxL1svycSlB73o4rLhPdwgNva3F8LbhV6xQivj21rsIEA6W2uveLh/lArN6BeGmzkUbibDF2mWSAibfVl+yIfO9d60w10g/9KAFwKBrd6Eaglx/t72y9c3V/++2XvUORW2/b7XyHYAQS0koADDZ72nEzCoBb8zfU3+FLG0m9oGrW8CbnA39MIoQAiPhHZHOmWQQEwOceu3+1u3BdBmvF/rha87Ut/15x+HIBcOGFdbIJftckALYR1jUREAEREAEREAEREAERWBUCG1AAZGCUr44ASBPgYdfLay+M6ljstKOYapssxh7nW/IP1J531U6nrJX0iroVJxgoLWt+fz6d+lx5ZOT/tCxZfGD9qF7+xyXvjqz4uR1y9L67rX8V6YceJQAORaMb4xNAcOgVxy0JgExtxJsp9XqK3Oq1zy6sBI96l1QJgMFmTztuRgGwt/jB+j1wAbCXH1Q1a5sAWE0BLs6u34UZC4Dsrl179dXr6faLbxlLTLQFBMBqmjQei3ifSwBsw6RrIiACIiACIiACIiACIrDeCUgAXKmFti5ew73/8Eg6qxoA8Ux4aXAeQkZWvM3XdyItnnevq7OfkQCYLbx8+UBs8dBW83s7bm794nS3pazOn3PM5ZbsbH2o7aIEwDYqutaVQLWb6LEuONQegFsXbtHqkbp18VaVB2A17VEegF1Jb6r0m1EA7Bex5mC9lEO18+6g1VIBcNfatyz1sEsAzHZcdSbty+/VofkVLCvqHe3rPyYN9wDMFp69zAMwiz88TfC7Jg/AmTShMhmPwF5mxn9yN1LAXuweN5C2S/px851FuvVs2yzqF3lQz/Xaz7r2p6iTjiIgAiIgApuXAL8NxNLM8LRZX5uADOO+mh6AvW03X/LAqD2S6t0YY5CGjSEA9oqX1QOl8AAsXltXYYKBUlr3GBxm+VuWCYBsTtIW+tsONLz+ag8PhMjTTAJgGyldWy0CWf5p77vspI0ovXwX7bBj68IDqx23mfJYb7zzs+pWtQFCJNJxjyCwGQVA1vyr/jjkvxFbtr+0asv4DeED50/K9/bfklhT9tzKi3sWDU/+rAGYFb/3d5I1AE+xLL92a/Z4ste/JbEG4OF1ugl+1yQAtiLWxfkQ2NvMLj2frOeWK/bWawCsXATCE3UkrjcRkIFF2LZyTTZ2iot7P7vYOqsGfaJLf1pn5sscERABERCBORGQALgSWHZGjDWY2HU3K0YLgDG4qwdMs/EADAGwv/AfywZi2eLftZofAiC21HZIAGwFpYurRiArPuob0tReR1n+yLrshohQ7QKcs3Zl7UXL2oGEmGZfP6R/9wQCm1IALF7gohvr+rH23pFVUy7r3+VelYde9d3tm0plxZm7p5uwE7ALMEtbZMVPlrzEs+IMw3O8LfSL1/ratvUuwFsXHtyWbKxrEgDHwrReEyF0RLihmbGT08PN7Gls1G5mD/Vr14tEZjaJKMJ/TC86haiF8HEFM/ukmR1vZvuN6aHFc7OISfXHPqXO+7q97zOz9vn4y7P7M68j9eR8VgEB8hJjZIbNCExtbXwHM1sws+2eD1xHBcRCyp1FHMf2Nlui31EfIp9HhegrLIpKP3uSJ17puZXypO+vFNMysOPW/i6Gmzj3WTT2RDN7p4ux6TOjbBh270pmxlbxvFuzDLCm/dv60SzLUV4iIAIiIAI1AX4PiPIAHNYjDlu8ztIU4Go6VgGr9inAveJdtfeS79SbLby4zrYhcgwra+h1f76/8C+VoFft7MsU4zxrfeSQhVvYFvfuqAXAn1YDvtTLpPXB5kVNAW4S0ecJCbBhTYawV1xQCR+9/B+rnBAjqkAfrzb4qXdJzXKmCu9cWm+sc9+d0E49tn4IbCoB0LFmiw+vN7lhoyjeheKH1Z2DT3Rtxb/rs/zx9Xqyxbm+kdMMhfBBGXiwZ8UxLgAiuO+0LYsPXN745V72jHyfZP1OvMnPtWwHY83JggTAybitg6dicP63ZrbDzHDNvtD/88h/iiKeb2anmFmOM6vbHc+uVjUQRBDEUM2xC+ECQWU9B+w7wO39idu8kr0IrdSRmIquKz037H4IvN8wsy+4CDlKuOMvAd8ZCKz1VubLGfNlAvudXtiwfKLMr5nZCWbGsS1+fdCfvuWR87Y0XzWzL5vZsV5m5D2svun1YX00Bklp2jinTtw/yuvq26OvKBzG87M4YgO2/6/b8GjPlGvX8Wsnm9llxhA0h9kT784RZna6mfU94bA2HZZP83o8/3wz+/agHrU7fDOVPouACIiACMyaQPy28TutKcBtdBmEsvlHNSWRzUCKndV6TUsDtsFD4b2R5R92T4lz64HVIn8U5yc4fufqj53/9ecRTWpBjx2Gk8XYGxmyw2qWn1ULKNUuwMdrF+AGI31cXQJbi6f6pjSIHmw88OPKgHQqPReyvHDho54qfOi2Gy9NsV9di1XaWhNYjwIgQnTEzt/r1VqY+9W/DeHZl5e25ZhrLq2HGYJ4VrzXPQXPtR7viy/3EN7gHMOOuNa1vbL8Vf57xe8J4vwr698q/70h38OOu1Il+lViPGnyr1bLSXQtK9KPJQCWe1V1izrGszquKYEr+38SQ9T5kwsfLzGz55rZc8zsXwceQh8Z7J12lgsPpP2+e7aNY7z/NcjYGYf1UyZVmvkPFwLgb12AGkcAROT4SzO7r5ndf8KI6HWbcSo6JA0egAhm3x3TA/BAryP15HzaEJ5zCLtMdbniCqIRYjBtjPhESEU0GJ7jfYF7w/4THGWea2Z/MDOObfG8pE9x3paGa/S9euew8bwYa8tr8fUxA6+5t7jA/UEzO8zMbjTCdupEn32Pt1u9pfvKnoNRZnoMPvf29wgx7GUt8eUD70wiC4AHb44fcj6pAMiaDvQnxNJZCICv8jJC8I33Na1Hl/Oo8xs833d0eVhpRUAEREAEJiYgAXAUuqXBWM7mH3hisB5TvYNp+lyIgVnxVRc3GLSV1t/Wvs5Z+myX837+RB+oIaDstH7++tbHe8V9fPAYA7v314vMdxUi5QHYylcXuxOoNh3Iz7F6c4/6/Tg0ZxbZrpAx3b74nfXy6Lc/t8M+cxkJgLsQ7VFn61EARJRaEqY6fp8u/U7kJ/j3OGI4wtublrUra/Fl+akuhJ9bHV939CUtnq8SD8oOWzhOErLiAbU3Lp62lbj3e3veDsb8u0I/f4nfw9bSthZv23VzgrOxBMBBvtPWbQLT9MhwAnim/do9/nBZfeLwpEt3njXwFDrDzC5w757LLt0ZfhKCBh6GCEv1FtnD0w+7g7AQAiD5rCQAIv4hvpF22li4USFuNG2Ewx3N7PZmxjTZiH/h4iPi209dgIx7ceQZno0X/rqJAMj5tCHEOLw48fQKbtQljZTP5xAAEcsI0X6cjysA1k/W01Upry0yHZr1bkL4Q+SiT7al5dryL7EoYfcj9bgUf3dseLNS/7QfvHfIAukwIA8EQNJPIwCGlx3rBqVlDzv/nlcHG0YJgDw/rQAYnpQnmRlsyI8Q1/1j5wO2ExjIYOfb/bMOIiACIiAC8yXAbxeR795N7AHIQC1iB6Ax4OoV37Msv8DFCxZMf9qy/PDEOCLf29d0Osd6lVi4s/KUWDY4Cxs4ThC2FPdYEvbqtQZPrKZoLfNEKfeyfn6oDx7x2MDeerpl5yK7CIBT1q2zbXpgwxBY7iHLFOAQPk6x/o7bV9PTWX+slx9beUfV3khMcWdmiMKeSmC9CYBZ8ReW5Z+wXv6JylMVT+tOwb8js+0PqD248/Orqbe9asmIw+3QHTe23va7WVYsVt/ztecfG+a8tvq94Q9S/NYQqo058s+6LUdaOcFvyiFH71t59PWq9/FCF96/YP2Fu1frAfbyg2o7qun4CJEXWH/xZvVvX6eK70o8SgCM38qsOMR6+Wctyz9ivXxhMu/1XUXqbHoCfBHzn8RTfVohOfIfRzpj/CcyjnGNNLdLhJVxRMMQkD7jwiEC0ySB/2B1EQBJj/iF1xXrubF2S5f4D2b2CRdHPuwGD/tP3p2dCd5xiKPNCGdi8zqfEV8QCENMnacAeJqLbMPqQTWf4LbOQgAc1c4ITXi4UXc4zEIoCvGKNQqDOVN48QBFcEVofZyZMR2a+3hEsv5dGmBDv5+FABj54nH4sJbIWptc5y8wMPiiP0D58xQAo453+//snQmcJGV5/9/N38T7vjUmXokKu13VOxwCKsvlEaIwsyx4QQCVCLhT1bMLahLjRqPGwO7sLiKu7E7VLKi4EMVbEXZmuUTjERON8RYUTxQ592Cn69/fqueZeaenu6fvmZ5538+nuqqr3uN5f29d76+eQ3BQs3q0Xe1rXeVvZK3nliMAG0HN5XUIOAR6DIEmXtA730N9Z+P5toAJwCaBnJyQ7HyXmGHphA2fy5npb6qpkPyJCcZOmfTtxISqMM5HbDNdayPd0/wPpmLh+K2TWoAQjYXrnp76c4IEXP35LHhcOHazTNzQLrk/ndA11WojBGBTDbhCiwUBSEC0+Thng1STNiOn0awNxr9hCEKQktqpeTDX2Q9TYnCx4DPZz3n5nJiUrqsb840ADMb/WYg5fOFNmMFdf9UwHpPPlPFPyfnOhyW9Fu4QApz6CZbDdfCDadfB5D1+HB+ZWZCnYFyeR+pPswGpiMbNdReM35c9v1KXEbR/xyRJmbrASF1ODKY1ax8aaGYyay0CUD+44R5A+0agEpIem6zIbXQDASbovFRcI6aEmOqRMhZa/lRZKcFyo5T9uGiN8dJZLSkB+GUhG+ohDSvVhdyNEICV6mh039ki86ekoJIb5fUQaQf/eruMMWCjy02yjf86FvbrPs3DfspqZONOEoBob2IS/SJjDKRl+QJBBknK5OFK6aR9XrysThPgcnzs/4ohEcNoBxNhtAAxa0W2ZpOeg/8m9f7SGPPXVSqDGFaCD9+Dtikt8lGXHm9FA7BK8zN2Y/4LFmp2TfudJAAR4M/FrycELP49MbWGCNSAIzOErHOHjq8jAOsEzGVzCDgEHAJtQoBnB8vCJQDRjBgce5EJrz3MhDuPMINjSzPs6pxoo3Fx3thTsklSGpmUyRomU+rf2ph0ojr2f9mELtWWSMzgzmOmtZNGXRxbYQavOzyVY/UYz9TGU2HsSpk4ZhEZwzH8Jk9NkMKdZ4kcmclWOPat5jU26iQAIXdW7zxyEuNg5/Ma75grsSgQ4LrICAchLyYJB41Yjb+zP5rV17XDomlRQLpgO9kNAjAY/4jcL/lYwjn4pqp4BmNXyceXYqqZdvoYgQubS2/98qNNMPaVSaIrJbzsa2EMFw9/MOVm8nzogXgkfzh2bybPTpkL1/lMm5RY8ofjpwrZJ9ckOIgsui6MvS8t1gr5RwW1CECOpx8JUs1I3G4UTbhzqC3tppW4n0YRYIIO2aQmua+zTEFnqwsyiPLvlxdMotjMpjE01wQg8ja68AJNmXOln7MRgLPh1sjxThGAEDyQbEwM6lkgiCHQDjTG8PLH9htbIABtIpHIusiATPjUOVrqZd8rLbDsMtbuqpu8gFMnmpiYFOs4lhfQmzxBKmhTHHtP5qdcNwlAzJEZG/wTkmi/3QQgdWpiwkSgF/oOIU3aLv8xVbfV4O1ykrXmiuuGpAQgPgCpQ+8TbNe7aF1S5eJa5VduOCjXf8GTMl9Pi6vvrrcOgXmLgLwwewMb8S/LbXM+3af03sq9fWFqABaufXY2wZNJTWE8C9SlplSznTiarzC2VaIx4n+PBZOobSXNifNMOP4DmTBBDDIxI+jGgzJzLRnvwfFTJ+Vgojl0vRCEswlQdjwYPzibGKXtQ5bQ3v+UJoNrTTgWSxuQg5mftXD8Nc2fc7MRgDqBvG75ZN/of2EM9z9m0rF9WRfc30WOwODOviyy6NjvsuslDXKwxxTGfmLC8U+adZ9/VPPnbI9iK88Jv3/j1IeFHu1K28QuJwAhw1Kc2vAMVSIrHH+HCcevF7Pb601h3J5TTnUFwi4c+7oQgBBl+GdvPql/2dRdw9h/ldxK/MoEY781wdivTTj236aw66IZWm+TMu88MyPsUq09FGKmPgA1LJFg+dZUu/zzmYY5/gfTa/PHJhy7sXStHpdV2wru+qzYeUT2rEhJvl9mLiwsoTE/5vk6pSX8zEmzZyub2+weArywEhgB7R8Cc5BUu0/+Vlxl5gjG3CxlmdxTFy+d1dJcE4DV5Kpn/zlCisxGAIIB/WTB/xyJwCHDxpi4FPjk02JO/OGSthlBFzS6L0QUZWzsO0UAclMhmMZWYwxanxA09sI+fNWppiYmqbutwByQauqvj3pItSY+HIP0oW96fmA+jtYokxNMn0+Veli9RtriGObA8lU/bQONPeqq1R51rBQZIbdmIw85jjkw1wBkH4mxoA3k7RYBiJ9KTH8hADVADjIgS7UgIGBUjw9AxV/9QOJjEW3D38kYoOWJ6TnHORdxXEvdaIpyPqhDZ/AgDzLpWApkM1Y6RkoAXjIjh9tRFwK5geF1uYHh1P/oAavW6RjWVdZlcgg4BDqDwHNfsTl9D/IGhhN/1XC5C4nONFp/rdyfWbiP9w4BWNh5Tsk/GOZR+2TNx9eyJBOOwtibTZj6WMLEsGgIRqCkXlmJmn9XX/9EE4z9UAi+fSagfci+lPBjLYTb2L2ZnySpbdL/2c7tmRxj96QO3pnM6YSuZsP2Qe3TeCGbABKdeHzfTDnSoCUQg7y3M7z6nLUrq2N7FgJQ5cfHIHIMjv0xlQUtDu13Ha24LIsJAetcxJ8YhMvQzr8xQ+NHpdfmYoLC6qv9nFh6yvALmr9mrUp7fXMaATiWmKEbqllpdb6nkI/h+H3Zh54xyGp83LeW7HtkWv+uF5iha6f6qCShtqLPrXD841OBcsa+mJ4rrZjI6n2cds6/5mkm3PUCU9h54LTrUdtWWZpdZ34UeTbx/K5AAI7/Q/oMyfyAft+gZdmutpuV2ZUz2H7zknivFeW21kuFTvzRGFRNMgiU2RKkAUmJpV4yAa6XAJQuTq4g/SBRwLfSQjAOeZGbQVR1igCEcFMfgJOCVtjQICD4x/uWMQYTWcgmtn8iJF09BKBd9V+UzrHPiIkpePzUGFPJHAATb/XPB35faDASsprS7pTG9Zy1ZbG38QuIPATDIUGycA1QrlsEIBNITG9ZaBfCFBnaQQBKt9IVpsxK/NFnJliVSFL8ABINnDx/FFKwEbNgvYdAAHKfIGI41wN41rtcViIfrxAZEX62cbT7uWC2cyduCLyBDUlu5Xo+GphV7qG5YMbWdaR3EZia2G1IvIENP0y1dOdPd7hXsnD/7h0CMBgfnCK9Uo2zYCakQjSgpZcRdUUzOM77Sea7b2aB2fdAAuJfL9Pyg/QTbcA00AbO2r9r1u561rSKdGIWjv9wMvhBMJ75MG7qHq392nmmTJSUhMxMfqdMtoKMRLAIl2mC1fNnFgJQ5Q934RQfE7qiCXbhrqYFjZR65HJ5Fi4CrZyvvYuK/ZzIDWz4nn/i8GMWPQk4jQDkPr/zBBOO+aYwdpAJxx7TntHmfLOXKrVCUGf3Vu6zt7bvA0e1873CfiUMM+283Zk24tiJmcQV8lfpSvXd7aijQu1vv/bxBq1fCP9g52nZ87gKAZgGWZGoxK1qWVYQxe1qDgHIDg2WcAfzy5LWzxOqVMWk/sml6LSYAaAZxsvlmPhOq1JkcncvE4BEqaWvV0tvlNyY7FzZBpjix01fvgk+ggktCWIHzT8m8+BNHiUBbYLDJgAhxFpNqjkEAQjxSDTdSsSP9k0JQAiY8rSiThNg2sBfID4G8GdDX1l+Ifuot5IMeq6sMcbgKFTL3S4k0qvFd125XPqfyL+QThrRVvukx8vXJ0gbX5cDSr4xHp0mAFW2gsigmrjgwrFmCUCtl69ZBMD5poUj47/DGPN06a993rFLyz5atEOZQOoYYFoNIYuZshKl5XjadaBBSFn9WKD1NLLGNJqk54X8XRwrb2DDGm9guJjrX5/4A8OYzbvkEHAIzDECUxO74STXv2F/bmD4Br5or1ixbj7cp7ins3Cf7RABmCzJTJnaOLlYfS3REt9iiFLImv8zkrQXjv1vFsADf0JjPONM45p3UrkSXsHOl5lg17AJx643wdgXTTi+2YS7cE1iZmgrMGljgYQMxu7OJj/XZXmb1swTeZgEF8beZsKxy0246xYTjF1mwl1rp5zGt4J5siTtS+q7cPyrmdypxmPmkwkRUg2VZIkJx38vJluQkatT6WytEhHXrRwCDoHKCFR4TlzHfWqePCcqC93pvSkBOHanuFvgY4t87Ei1rlEu6nzS+1gadVe0vYPxzMqvXEOv89IYs+a6vxS3D4LF9U+d964WBseC6WOXmvyjAfiLaSbAaI5nbgCyvgVjf9sNSF0bsyPASyJmf0S61Uk5Gl6XyuT/vBLZ87YS8YcJ32jp+x9BFcjHhB7TwWpkYXnL+lLcbQ1ASAp8HdLHZxhj8sYYz1oI3PGqkoYbkVh1gRDCFPV8ITrUBBMTXpISJPJ3xop6wOjnJcLqmdZRZFEc2I1ppZIrYos/mRsCEE09gmMQhIQosdTLV4FmvpCUE4CQP5gpY8ZUaVHSEyITQoy8rFm4eDEFnk0DEJn1nGINCUhU5cdJL6mrWtJjyIbPQSIwE6RC6yOib7WEP0HkgzCEPK1EMlJWMcHkFWJ0g1So5BvXRqcJQO0npCjXFOcE7ZLKCUAejOBBsBLUycGimgmw1qFENHn/S0z91VyN+jWfNDm54pjixrny7pJPQHx9/kraVTJc80wWLNvA3BsyGdkbXdAsxjycIDWk2a47ybawVt7K4SHIv75Xf3j/shMv/KO3cjP3MJccAu1EgPsK98Pya4z/3KP0PkWbPMMq5VV5OE59s90bNH9PrnVil+vfkCw/+YN3eys3Jrn+Yd6Rmiei2ocE93UW7vtotnPPZzxYyse4dqs6GQp3fXFKG2yc5+LcpUxj77YsyiIE3C4i2beWVKOvUi0zjgkBl/k1wnH8HhOOY0Vjssi9lSqpcx8TU8W8vAj7deJafqyZ//iBSh2ylxGA1BWOPTON4JqZREtkzFaIx2YEdGUcAr2NwIznxMDGxBsY3pL2qp3Xci/BdO61jy8jjqYIwGDs9d3pyuQ9/LWp3z+00gZvwGXX3CQCgBTG3m3Cne81g2Nvbvk50o1ehGNhxXEkujAfmDQx3nzQAuNw/O2G/y7NKwR4aYcYQxtNSZZqa7TXXtDgi6QSX90mAHH8ifnh94WQQ+vut/JSrGvVZqzWX90PSUqq9gKt+wmOApmDBhvJnjzJrsnJ0TbxP4dPPpLWAQGIptZE2XhAVB0keRtZKdlFeTCoRvxonRCN9FujAOv4cRytsnoIQPISWIMbOgFEHquV19E+WRULtmkfE1QI23Ky1Ko27Rd9hSxkXCGySZSnPl20P5CF+Dikr5BV2iZrMOokAchkjDbQWKR9TJZpVyfObCOnkni2bwp8BlIGUs+OXizdTVeUZ4FIW1Yi9O2b7mzjr/XY+ZjUE2CF+4TKqPncukMIeCs3DS074d+To8PxYv6ki4q5/g2/W3b8Bx+7qL8gdwjrRVqtfY3bEJTv/8sKLhu4vyzKpBO7ZSdemBx2xsd3H37mlfshA3MDm945DwBh7Fh4RvCRsfnorUpGpQQg2naptsSPTDj2AZMF0Dh3ytSqHT1nYqZLlfow2yJSYjj+QOq/LyxpS7QlldpVkm2SiJOJol2/TtzDne/KfB6N4zcQv8YzNQXtcg1tI4uQgWl7FeRoqL6U1HtMOsEMdl1iwvEtJsQxfUr+MQGf0gCk3sLOk0VDB4y/Pm1C12i7Lr9DYJEiMPWcuCA5/A1X7TnsjI+nzwl/5WaUaxZnWv35B5e0xN5o8OOK39fU9+v42QaNssKY+sZfnNj0Uq/Xji01wU7cdpw9bRwLY383I9BJL/XLyZoigNkqpAjRQCv5amsEJiVcuk0AEkQCn2f4McOfHAt+7ZT8Y71LiC6IFkxe0XiElMHMES02yDlepPFfR6o26dGXbuqAAESzsFp+reMfJa/WLUVSvNEAhJz6YikYxlUSDALTzWbGQgnAckKRftVa0Lwj6fixXS8BqH2kjG7rOq20zh/KaLnydbUq/soyUwczyEclYqkDjcY3iOYf/c8iCE7VRh7Gs5MEIK09SQKW2OeLSoEM4I7mabUx+l4NAlDrceseRkAJwGPX3Fx8yTmfL3orN0IC/l/fWVv+tK3aID2MkRO9aQS4x2Dqz/2FZ6G+fLMfrXlcgmiUdPsehHb7kXKP1Ma5X5IIekVe1gs26cQud+KFyQtP/+jul5731eSg121LTfWXnbQBK4K5TPouwjhgRYA/1fUyJuqOpD75JgnA8S9ZZNGUxkY4dk1qUqpmtPXV2louTIRDzG5ZdhK5vrtJCcBg/HMmxJRt7O6qUSa7K1nt1laP/bkJxm3Sj3HEhJoIv/rBOqsjHHunhTF+lV1yCDgEGkRAn7MNRQcAACAASURBVBP6oei4825JDnrt1vQ54Z20QSyZ2kDuNyiXy+4QcAgsPgR4MVTNI9blC0QRJrMQJORlIqBEBPtZyFNezq6T/OVJCaRuE4D0AfMQJjloQGF+qkRQuYzV/kMO8SKt2nCV+meXxcwVQgfiiaTmUJTTF3OV4XrR8lsneXUFyYemHuSlmszqsWbW2h6EEdFxvyMLwTYqLd8tae79qOQr8GJpjPHVhF8/AkRkJi9T5Jwen+s1GJPwFWibDeNL7kLRCtQgI4wrWpho1NnjqmPVKQIQGRkTzGrRyvySZZIs4k9ed/ilQE76grNzxo4xZB/jVE0DUOvp5prrnH51auHeo+PbzX7NWVuTBODQjcVjh25KXnTWpyZyJ65PvJUbP+lIwDkbloXQMPc4nk1oHqMtLU6nJ7uG2T/3GJZvGGOukfsUrhV0PySffd/U5wTPNZ6B+Isl2XlkV2+vdGKXEYAf2w1Bf+zQjcXlp3xoX65//e5c/6als2qydQ4Cfc/AZyvPaR0v1o2Rk5ME4K7PmmB8rwnHMXfdY4JxItU+YApjn0kJQCXFOtenqZrP+szDDGbARP7Fv9BcJXxZsQTXPjnFYK7kqLfdwnVPN+HYT00wOX46nkRd5qP3VDpn7BEpvuC8boyPAS45BBwCDSKgz4mUADxzx+5j19xUPLZwQzF/8iX7cgPr7/X6P/DX2YfcxUYC0t+ypZvPkAbH0WWvgsCkdnrZWFbJ7nYvTgTmigCshjby6FJOZurLM/uZuKhZdOa3oVqNU/vRmIQg4+WbKMvV0j/JyzkTJXzV2ZMkJQAhAdFms2WsVl89+58iprSYzMy2IJNttqv1H29NKNhny63kDL7b3lM6CLEJgTrb8q4SscMyWz6OUyeBRfCJSLLbl12TK3ww4uMPP0j2JIhtyOgXTeacvkGd9KUTBKDKi/YnE2+W8vFHGvJxjqoPSsypGT98WXKO0YdqPgAZN8aJyV4nFrRbWdBg1ESAoM8ZY77aoeVmY8zXZtGsVVkWzHqKALypeEy4q3jsmpuSw868cmLZCRck3sBm7iGcCnpOLZh+u450BQECeu0rmYh+TFrT+zd/CUiEr09cTnBt6/OS59G/W/dTNKntRB1EfIcoxGewfjC08/T8tk7slAA8bu1XkmOHbkyOGtw54Z900QO5geHf5F/x3ifOcdRufP/hNkMXXEFM+eZpZBQKNzw7jdRItMbJ5frlpnDtsxupxuWdQwTwZVjYeaBZvSs/OYZDO710G6LPJYeAQ6CtCOhzQgnA49boc+K6CX/l5v3ewPAvlh3/vsfO8XOirX12lTkEHALzCwF9sT9DiBb81JQvECss5fvt/5qnUj6i3RKNDeKBZE9KmTyQuq0BKM02tVL5R2Sys7mBWgjcAbGnJA3aFK+Q4CJoCGJCxbFqWhI2AdiMyW8DojaclRd++vD2CiV1nNEWoX+dXCDnSKp1In8rrjj/kY2AEmhUzlaGsadMuwlAPafwTanYqEaGHtMO8B+ZlQDEHI+kE2zKVyMAD7V8G2o7s631fJ0tn338b0QmVhCTGiTIztOubTQlqUsJh3K8LFEWzqY/sDnEB+CxQzcVjylcnxxTuCHVNDr01O370QTMrdzAuQQ0iwKPhTOyc9oTzhU04vU5xH/VElfB0A6sdE7puwSuM7gecVHAPt2v5XlH4DgBxEiz3XMlW2+sdMJmE4DHFG5IIOiPPOcLRW9gOPEGNn3VrFq1oPrdG6PjpHQIOAQcAnOPgD4nbAJQnxMvOfvzuHNJcgPD41WetXPfASeBQ8Ah0PMI6Ms9wTDaNSGvVg8+8EhKBtnbSgCenGWp+xctAhYmJGhLoRlH+2ggdeoFWyc/+MGjLUivepJOhI41xmAKRbTccqzuEXOqF0qF2pbW3w0CsBFtQFtbEG0QTKpZypP2HQ1AyGDIY5s0Lt/m+IdFYxKcIFnrKYNPGvwzksqxk92TK2Ti/Of8IXFezqaVQp2UaycBqNigUaPnA5qMpErnMDLYBKBeM+xDs5E6qhGARAnGBJ3Jea0F35Mc/4GYIuPvi/+6v1pZNIMwTbajZtEHzg2iBnONshA0BG0g1rqvlTV144agR1JGynkD64/yVm582fJVm17e6OKftPnDaPspAYiWESTgMeH1xb7XfHivvEAuzwBZcCQg5xTnu147XBPl1wr/a90DKM+ieSrVYbfR7LlFvdRjJ2RT2e39KlOlY3Y+tslD/vJ+a75G2tX6WKOdzj0E33CV5KTdSm3SHscI7kT5n4kpcXnf+VDEBwH87/KsoNy8SwTUyfVvePny/k3ZUuc1mh+46FVcy0TofuHpH9uLBiATu2xyd3PxRW+6OvPzNDCc+qjTieC8A8AJ5BBwCDgEHAI1Eciv2vzElp4TJ65PDjtzx17VANTnxBFv/IQ+J1ILM/ecqDkM7qBDwCHQBAL68o3TUV7c7eU00arB3xzmiKfLYueB0OE/BA15IAr4/3dWXa+TbcwTSdom2zo5QDOMQBQ4pcb8iElI+bJajmFmRAAOfLRdV5p0YCJKPZAA3SAAs14YMyYTHeStN9kTOyLN4l8JfFgYg8OsimycdHcnCUAlg4kgCyGMHzn1CVjPGj+ClGNNqiS/HKprRYRCArOw2CaldRVuMFO9spKPMWwXAaiYo4FLdGcmzvgkpI1qMrGf8101ABshABuEJSVdkSlotKDLXx0BjdSb69/wAETd0le9v+EF7b8Djv9XCMDkmDDVAMxIhqEbi0cHY8XMjGTj75ae+O/PWeBBQex7KgQ3H1jsjxDVriN7gOw6iGp7dJmP1UqEl12+2rZdLx8XuOfznNKkzz/93661LS++0PC59wSr8krt6r2I++2vjDHPsvLXs6k4qxYzHw/QFrTb0jw859Es1g8d9dTf1TzLBoaPRVuP66yZ6/PAv31vcshplyXHrb1Fr8vkmML1mOoXDzvz4/vREFw2sDE11df7QVc76BpzCDgEHAIOgZYQ8PqHB1p7TryHYFFJ6ioCTfH0Q272nHjh6R9LnxO5/mECTxr3nGhpqFxhh4BDoEEEmMD8QoiJWkXRuoIoQGW5kaSTA4g8yjezQDo+QrSJukkA3ijyalTfRvrdbN5OEoCqCYefwmbGgTKQuPiOIulkT/42vCLSNFoiLEzsSa3WKdU0vaJ9rol2EIA6SdfJMPjxtY/9tfrJMa6bZglAys+2UD95LpBz4R3yn77PVpbj1ZIeI6I22oR8LFh0SV/k8POy/JRL9h47dNPE0cF4owtEn7wwZi+OogWY7lvxlmtSMxJv5cZbcqdeMHcO8ds/ulwfn5VASHz8IfFx6seWj1Wiuv/EGINvs0oJPAj4Q4RbPlaRcFHxU/G/ip9WoqRy/I1y3CbzZFddK4IjUS8E/x5jDFrePKfeL6W5JpR8QyY+uKElTarVJlrT5MW3JkmfpXqN8VHpdvmAov2h3YLkt+vWMvhP5T5EdPlGk97PkAtyjwBG7NP9dn24IqCdr8iz2z42L7bzAxtfsuyEf59Y8ZYv72/i2pzg2kx9cw7dmBw7NHV9co0SFOTg18cEBUn8k4YZJ+DQMZgX/XdCOAQcAg4Bh0BtBPyVm/6G58RRq69tw3MifTak72/6nDjodSP7xJrjpEwS95yoPSLuqEPAIdAOBJhQMFFiEsHLOgSRkkRav760ooVEHkxbSToZkb9VVzoJQbvvA6JJiDahvbCfid5rrYUJHyaTmDxqwhy1mwQgERDps621p7JUWyte+JxjIoYzbpLul79VVzha1wARbLcz6dgyQWXy+5gGK0dj7/fiY46i9fapWjOMrxKA7e5rtTZn28/5ytIOApC2iN7LOYSZM+bLJCUD5O+MFbhyfTVLAM6osMIOnbQrAShBJVoeU73eMRWm3/9Woe0Fv8siAG9ffsol+zItIbT4Gl9s0k9eGlXjqPjiN39mInfihcVl/cNoS5sFYkbCucmHJkgt/MsSNIdziejk3JPRXIYAVN+VR8kJZd+P+GCEiSqE3GusOnjWcU1iQo8fPK0Dkp5noV3HbOcp5zrXDbKpfP8pkbq5x7KPADZoK+q9l4A++LQkOBGp0r0AGZAFGcmrGsAqG5E5L5L6kR9NPILk/NDy/wn5Th16Peoav3zIBa6zJSX3tCz5eWboB0N1xVBej/ZptxCsLyjPMB/+QwCi+XfU4HUTmYZt49dmas6VEX6TkzrZl/rtXH7KJRO5/g33Hdi/2ZsPfXYyOAQcAg6BdiKwzqyznw/pO8hZfVvK3LX0LqnlD2w+nucEH4mOCXc19Q5X9TlRuBGXLkn+5It5Tty5tH94Xj4r23m+VK6rPeeHnouFw3Y8tLBs5NlvyW1/1vnP29Zc8KvKgtbcq+2TafWhlz/qnAOipwwdPPIMtqcKtqevU/XV3lq3Yt2DCgdufdxg3+hfnHvI6ONXP3czVhttSN3tRxsEdlWUIdANArCsyab+MhFh8oMPsWoEoE6O8E2G1hGTPptQbGSbsn9vjLlVJmBoM2l9mESj8VGNANWHIZpeTLSYvJJ0v/ytumKChTkmS6MEXdVK5YBOQpmcsjxfTLi4IdSzYN6GlgsTO5JiLn8bXrVKAGr71ANhjKYFY28v7Csfe3w6EpxFFyIMs325MeYY6RdmuowfmnGkesdPsk+WwSz+WmPM38qBaueNXY5+9ToBCHmJtqiSnnb/Fvz2dALwQ/teet5XlbSbJAqUzGt4PWlGgtYRkYF3pF+QvYGNnMMlz5vTX8h7EGzu9zfJ9YfLAUxWuQfb98MjRSMQkvA26aN9jUIAQvZx/Bapi49O3PM04aMSLT2ucxYlwfV4tbU+j7hHU46PInzgIrgGifsszwgIS47jk5PENY2vzHtlP2a7XOt6H5Ns6X98xFKWvpMg1WiXdKEcw4wX7UZ9uaTPBAxCq5GyuNLQpNhAnkKK2kF8NE+tNdijPYirCK272osk/aRP+AQmr977atXf9WNTBODOiUoTtIavS4sIVBLw6MGdiX/SRRO5gQ0/OXDVhsfpfaHrne2BBhNjlugyH8RVWVjPlTzzQYa56rtrt3cQOO/g6ClhPnpH6EfDoR99NvTjGwIv2lHwRjYF3mhPW4H4qywCsHB96+9vFZ4TRw1eh0uXYm5g+PuHvmLzoxbqc+KcAy5+ROhF20N/5OMFL7oqXfxoR+BFnwz9GKWZphIfvpXYCnIjh4Z+vCv04/tDP76v4MW4X+p40o/vQd/2Q8N8/MHQj74a5KJbQz+6g+3QH9kylL8s/RBoE4WdFGxoeRSG/sjnAy/6TujHdxb86LsFL7o28EZTt2Yqc6MyFJZHLw+8kU+EfnylPY6hH1+6bkXEB2qXegABXtQ7rQGoMOhEp5G1lmVNuVoEoE5w0CZk0tHJ5Zs1tEVUjg1CgAxJJ3S/3adub5cTgDhrbyQxKZ1PBKBi+lYZb9XmaWXs3yOA6OS1FQJQsdUbYr0TCfL1OgGoAXTmrQ8wHZxOrPUFzhsYvn35KW0mAHmBFBIQU0Oijx78+pH9uf5hIgOruWsnutWtOiG60JzT61g/otC+fQ2pVjr58AtoJ8gwAlFoBOnUx46dwdpGmw6yGjNe24+elWXaJjJAiEGk0bZG6SaTLR/R3/lYwmJrKapLgM9JrVzrmnQbDWRkUhJPSUc04nHBQLu2ZrreC6mHF17uhZgPH6gVl9wPqAY9xCFEZK1EOXy9oi2JhiFkKvKglbhylg8iKgsTP+RQLWDdX6vdrh3rJAEIeagk4JHnflEiAw/je9f0nbVFNSS71td2NJQY8/+qLPY533BTQnIpuZ2Wl3ZaqrdhQawCc0n6IUanMNF6K42j1X236RCoC4Hzj9j2yNCPNoZ+9JvQj5PAixN7zXboRxNhPvrGkDeqbn7qqnu+ZOokATj1nLgpeck5n5/IpRHkh1OXH736nKg1bmighX60LzsvsnNFtwM/QlGj4WSTWEPL4wsCL76H83DyXPSjNzVcaZMFCvn4n0M/vif0o6n2LVlCP75rKD9ydpPV11UMcnF1fuSJoT/6f/a1GHiZTFPYjKbvI+tWjOk7Z131k2nQi1bruE1fR3d2U+OyboFdxooIMPDdIgArCtDATl4GaxGA+rLIV4RzjTFvNsZwobV7gTlHE6LaRaOTnGGZpK2RPur+Brrc9qzlBCD+BhtJ840A1DF/SckX2H+UnNqPihYfmnxMslkzDjwAzqlyLoRiap4rRbfNyySZettlAtwIvpqX9jm/etkEWAlAJv/0p9lFMempdccJQP2KXIBowKH0zcnyky/BJ+Buf2AjvjV7OdkEIFp0j6vSGSJM4xcQkonr205KAEKU8aLzWPugtc11xoKmIHkh7WolvY9zv6FdznPO7fKk+yDPyPd2KwPPD3XzwPPXTpBDyIMskJfqQoJ9JHzqUd8m+V++UiJFTZBpSxOkHhqFmEZXSyo390I0FfngA/GHPKw/LoQn+FZLWgeaf5QjoBdJsZO/c7vqNAE4SdKvuTl50VlX78/1ry96Axs/kWro9piWbmLMnyTG/EWVpczcr75xVZItMeahiTFPT4x5VWLM6xJjXpEY87REzOY1X321tpZL20qMeXxizIDIg1VAV5LVvmJygsjwcsEkJY81X6NCJcY8usoY2oGLGq3W5V9kCKgGU+CNvD4jFKK9SgRMEi9CBoZ+XAy8uBj60Y96kRzoNAHIc4KPRcetuTk54o2f2J87cX0xN7DxI6nP2B57Tsx2GWCKGvrRXRYJeHvoxz8N/dGfFXIRwcUaSpB/5+e3PS3wRi4M/Xhvdu5FE3IOFlMCrEsEYJCLT5N2JzICMIL8vjvw4n0qT+DFyFYM/Kgj7+jgse6AHX8WePFPaCv0aQ854gdEFmQCF+RAzjSmg02i1jMAQT4+jTFj7AIv/lV27UfU90u0POupw+WZewSYVCwUAnDu0cwk0EmOEoDni0nYQ2UNCVfv0m5NAZsAxAdgo1EgMWedTxqAnRpzxtARgM2hq+e/EoDvbK6a3i7VPQJwKqrc0eF40V/1AcyBb+t75YVPyGToST8dkFhqAkzwKJKSSvJ3ch9fyyGZuN+SNJ8SgJBlG+VYpRXPQM7Zzwuxxv2apOex/J1caf1oC0KIkZ86yl0oQIqQFy0/ZMD8WBNkJKbNlMd0WJPWzccrCMJrSibKPDdISuyh/ceC9iPPh/J26Td5vy7t2tG9+VACMUjwFFK1PnKM9wLMrPmghkYhLjEulTrBG03AWv6KqJvj5P101txkH+Tv3K46TgAKSX9M4YaUoH/hGVfsX3bihYl30ibVKp9bAOpsXbTFnpoYk1RZUq3jRkgpzZsYc1RizA1V6v1CMl3LtU6JG8uGLInlizMx5sTEmB9YMmHx0fFkYXJMYsxNVvs27p9LjOE9rKEEgUuBxJjNVeqljQfZODTUgMu8yBDI3isCP1oVeJALqabfrsCPR0oaWGsK+ehtgR9/NPDi/RAOGQGYanxdkAVD6p33ko4TgGXPiUNP/2j6nMidtKmW1UJPnm9KAAZetJtz5q19W/CP3HRam9v+JNW2C7xoL/UK4QXJ1RUCEDJ8Td+WJ4R+/OvAQ7sxPd8nAj+6uNAXLRv0R08o+KM3KQkY+vH+wIt4tzP452u681UKFvLxRdn1GD8QeJBy8Q9DLxoYXB73DebitZkc6X5Iwf0FL35plarq2l1YftlztT1HANYF2bzJtBAJQCZR3ViqDaJOqjABZvKD0/f5kpQAhPxDu4MJ4V/WufCF+ETRIJkvPgAVV8Yb3Kst9ZwPWpfW4QhARaSxtZ7/6gMQjSXMgAk2Uu+C2SN+zlSrS+tsTJI5zN01AnDq5TH1B3jkuV+c8FZuTHL9w//di5pGMmQQWBqBXYkzruFK6Qa5z6ZBUMoIQA1uhZZvtaTEmgbViCWj7q9UjpdWzGgh6fATCxmGb7zyBc1D/AOSD0KcOrUfuKqAGPyy1YAeox6OaTRfzcI9GE1FTI/RfMQ8t7xNfPzRLsGVaJd2NBEFmbL4RCTV6qNkmbFCa/x/BXPw5ZlSqR7eLZ4k+Rgj+tb2l90Z0jWwo4sEIBoeRfx1HvL6eCJ34vp9/sDw8b0yERYC8EmJMQ8kxuyTtU1KvboB2CezJsb8XWLMHiGkqPt+qZ99+2X/PUlGRE+W69RGYswLEmOusggyZEIO/QjRqaYn602MeWNizN4qmEzI/ruTjJifLDfbhkUAvs/qH2Oo43mbjPO8ukZn65c7PjcIqAbgoBedGvrRHwu56MUEXiiXpnQsVOIj1XzyRr6JjzAtX55/Pv7vIgEoz4kbk4NfF/Gc2JPrHz66V54T9YydEoChH+2BNFqdHzngrL4tf5ppoDVOChe80acL6XZvRgCmJPN9FgmYBB3UAFTNudCP30t/lAwv5OMrbTzCvi1PDXL4AkxJyZQwH8xtXZqNrZ2zte3C8q2Qcb+b0rqN96zpi2y/1ybwo/egAQj5l+WLPtt4q8kS+s7Cte8IwMYRnA8leHHnSz9R/ZhwqGaaLZtOStA4IE+jUYDtulrZRg5MgPFrhBxMLipNPFppox1llazQCSUkYLPL/1mO5dshmxKARKRtViawxzSNpOeG/G14RfAOTNJY5ksUYPrEGEIA0lfV1tBxbbiTTRRABl7E0ZxhnHSCxT58gCEXk3yu3Wbl0msHso36NABCq2Oq8nyqhXNMz038wJF6blLSbQJQfclgRvKis64u5gY2JN7Axk/2aEAQzk0lACGNSdXOS55HnC9op9n50ISDoOLcruUDRq8D/WBzldRT65xbLlHU0eBjgWjT7fI1x1i+KNp6Ur1ZKnLjp9DWpMM0hA80POfKzfL4Ukv93H/L2yn/Tx7ajbTBUgRlTGwgEMGWpH2Xv3WtKENUPfVDWM3FBdqJBEVhbLiO9Z5WVyPdyNQtAlCDiUACYq7f9+oP78/1b0hyr9r4vF64Pi0CEMIIQgwiaiQxplAiq96eTA+sU9fQJcYst4ioomzflRjzdYsA0/2/Sox5jJJYdTVQRyZL4+7wxJhvlcmjbdPnsTqqazlLYsyhZTLQ9h8TY75RAZPbE2MeWS8mVl9fUiL9/kHG7mPSHn2lPnw81rrvtdxHV8HCQuC8vvg5mBxW6xVRUAt+9BMhCNAE3IvWVzN+x6q10en93SIAredEcky4q9h3yoey58QrL3hWLzwn6hmHcgIwyG17Xisk2OrcpX8uGoD3hX58R5gbOTr0ozg731KCq6MEIOQl/cYMNiP/MIWPkkJ+G3PbNCnZHfrx5XId7Mv88Y2m/tGVRNT8razDXPwaJdxTcs+PR6hPZWCdBuzx49QPY0qU5uPbiBDcbLuD/sjhjgBsFr25LcfDnomSRiXkRl4e2U8nXjj05mX+WyJyt18UkIMJERMb5MCJeTMTmE4jrgQIpo8/L0Wm/WGJwIHIa3TBROwzJdO2llSkyzqrJsWoHzNx5sW2kQV/ASw7pV49N8qaqfuvRrpkPJ9Xd6nOZqRPjOHVcp5pUJBun2u0x+Qan1vq7J9rjsAt4IUZXzsIQA2a868Ca6tjqqOD7zEit2Ii2ehynpRRp8B6TWnd8349FwRgRgJeXzxu7S3FQ/7usmKuf32ybOXGWuTXfMWRc7+dBOCZNTqqzzHutVxXeh3UOud4WYKg41n0LokcTtTfagsRd3kh1GtL28S0kDbtwC3cb9jH/Ydky4GfUkg9zHjRajyuRpvIgg8+iEZNBEq5T7QH2WfXrXlmW1OG5wgavpCr+EIkaZ/kb1o3Tt/pS2ruMt+e190kAK0ow8UVq79c9E/adH9uYAPjaNo5AVDw27kuIwDRGIMEPLqZNtTENDFmXLTPIBMhoFSDlxPmwMSY3wk5RVscT6MW1kt41SMb/SJfiYz8tLSBBqJq33WNAFTSLTHmxjJMPqT9SIzJJcb8XjBBMxH5cBWA/M1cx5Q7SeoBY0cAKthu3RACtci8jPAZ+d8pjaRoT0YAtt/0sSGhG8jcTQJw6jlxU/HIt3yp6K3cuDs3sOGOVNwF4A+w3QQgpreFfPzuwkGjk24Rwsz0PAs+g1ZeBzUAGZfVffFzhHDEDyZ+CPnIaj3XM83GMD/yGq4D/B+KaTz+oY2SiOkYN/1DG8kSIg2LuT1kexJ6Udm7b7JkbW77w4nSbV2TSZCPsQZsKjkCsCnY5kUhfZlngv5+eUGvRnQskzxvFMmbeulosddoHvyDmBRCfuiEqsVqO1KcKJFoaz2jyYVJ5lOanKTN1iHGuNVltjbqOQ6hi+YZC9oi8yVxXhHZkwAWdvTOuZYPuTivuFaZEDERb/Ya0HIvl/pWzHXnFlL73ScAM0fSRAU+OhhLlp9yyX6vf/i23KqSllHvJe5N7SQAeWZUS6q9AKGOFt3rJKNeH5XK8ewjkAYEmO3Dr1LeSvu07n6pA/+DXMtc2xr9mOAfmo862CYPJryQgJCKjSae4Whb47+w2aTPfUyzIffUhNkmAFVuSEjyqBailm227baW6x4BqH46s/URb7zqATQA/ZXrJbp146ZPbQVilsqqEIDHQzwpiTZLFZOHpczzhMiCbIN8+nlizMPFB116HiXGDIqmIcchvNCU5WQq/0A9WXejG0qcJcaMJsbsFpnQuvugbKvJbUc1AMUHIaQnbUOw0u7PEmMeVobJGouwAxM+MIOJ3sNmhUDaQtOPsXu91U9HAM6KnsvQGALJkowcyMw9xSzz25gKq0ZSY/XNTe7uEYDTnxOHv2EH/pxx5yK+AOf3c6Ke0Wk3AWi3ufq5mx8MCVbw48u6pQFI+4Xl8clCukH+FcN8hLXHNP9+nO9ZBOTUV+aewIv2BF6cutKqRaDb/au1Tf30P/TjsUy7MG3n/oI3RYza5bPI3anJMj4Ci2F+5CT7eCPbjgBsBC2X1yHgEHAIOAQWNALdJwBvTCD/MDM86NVb9+X61094/Re+qEdBbhcBCGkAAaV+/arBgfsByDzyD5WLKAAAIABJREFUomVXKyEbCe09ymyX/42uIDog9NSlxRNKZsJoRFMnfvxIHNek278ROdfJASXbNF+tNR+V0CYAl2pRkWuV5xj9p81rRQ4lV21yT7dPk/5gXk3S/fJ3blfdIwCJ1J1O7oovfvNnJ3InrE+8geGMFO0BrY4qBOBs0bJnDK5FuF0oRBYEIJpsW8isx2Ubn4P4AoQQU608/BW3LWl7JRPmK4SIZA05+USLjIOU6xgBqARqycR5o2BBf8HkYjqqMsr2Uyw/jIoJH5gbSpY58GsdAdgQdC5zgwiEfnyBmAdmARm86IqM/OsdMqt7BKD1nPj7z2TPif4Nl6SQ98Bzop5To5MEoGrSd48AzM7h0B99p5zjGu13FCxUHrY55/F9KcTknkwLMNoXLL0US8aWU0oAHnr5o8J8fBsmyCLPnYVlER99Z6TQH3m/XpdoCgb5+J+zTI1fl44AnAFvz+3ghb6eiUS9+ToJwHyQoZP9W2x1z9fxnK9ycX60Wzbqc6mNCHSNAMyIhcx59Jqbioeedvm+3Inrk6UDw6em3enNF8d2EoAQavjUO1CGF+INIoo2lMz7gmj/QWqhWV4r6bWC9h6EIRp5SrRq3Vq/1gO5V560Hkx+kXGoRPip+S8mweXXuJJnmP3RLuajuAMgVWv3cXKclbZH8BDMgFWz2cqSbmq0ev5QLxjRNgv/SfhAVB+Ah1eQVfPhTxFZ0aaed6k7BGCqmZsGAFnxlmuKuROHE2/lxq8csOriR7Ti+6ibYLaRAEzPi1KU3f8Swk0JwNSc2CKmNB9acGi6KSl2Cv3WfO3CAMJP60LDMDEGok218TpNAGpfv1OGSWqSpX21zIR/IXgoJqnmhubTftRaa95SpGNHANYCyh1rCYFCPl6T+SOLJiQa6b7Aj/Bx21OpWwRgFi3+puTIc79YzJ24IckNDI8/8/R1D+mV50Q9g7owCcB4WM7zlAAseCP/AhbTCEDxk5mSbV68GwKQBX989eA2Wx7aKmn1PSb04zulDUygb12T31rxo1kpWvJbM5klUrIjAGeD2B13CDgEHAIOAYfA7Ah0jQAc4qvx9cXj1nyleNgbrizmTrwwyfVvSv3YqQyzSzvvcrSTAISowlcfvmuPqNDTD1p+ZTFZ1aSEG4EzLiuZ5hKAQ5MSXPh1xRwXk1oipJcntPbQkCMgDknrlL/pCt81kIho/WFW/FtjDMRdpbzaLkG76BNlKpnu4zd22IgWkTSm9eEUGlIOtx+VEvIQ9bRSveSHcECLkDoIlES9WrfWp9qKkJREI55Nq1LLdXXdaQJwyp/TjcWjBncW/ZMu2uut3PiHvlUb/6KXJnVtJACXSF0EtoDA0gjAj1BNOE4A3bYi8pIXIu7dclzJ7LadL/gmFHNb1mgfdosAVEzuFU1HxeShioP0WYnCq8tkSzU3lNSrBxDN6wjAetByeRpFYPWhlz8qyEUfQcNIIrSmxEjgRWnQg0brm+v8nSYAeU5kz4qbikcNXlf0T9q81xvY+Jv8qy56Wi89J+oZpwVKAI5OIwD9KACLTNM1QyUzTzYmuyY6QwCKiTHXWub/z4++vza3nWCpM1LgR+epBmAqkyMAZ2DkdjgEHAIOAYeAQ6BhBJR88waGb19+yof2vfS8r6oZIKa6bVvSF8c1Nxdf/OZPF/EX463cqEEZGpZ5HhWAALxBNOPqiQKMBl21KMAQgJuMMZjOovn238aYy40xnxNTWPz+QWbhj83WuoPU4j/kHMf/VwJkqdYgx9SnHsdpB6fOnzTGfFTIOTXXxb8gqZwoY59NdlLPh7OsNX/RmFK58CODbFdKwCCCR2FWTF2pL5qyfqnfQTColCBJKUuk+NvExx9E3xXSJ9X8+5ox5mGVKpB9z5d6/lN8G9bIOjeHOk0AZkF5mNxdX+x77aWpZq7Xv57AKEDTdhKrUyhCRJWRYvjla9gEOO21MY8tRaAl2i+affjd49rlhJv07afEV2LMJZZZLITcVslb6TpqS/eFBOwaASj9eXxiDAQgROdsmFxahklqImibCs8GhCMAZ0PIHW8WgbWHbH8WZoiihTRBZFQhRz6AlpKtFdVsG90u12kCcPI5QeTf12zBfUuSH/hARc2tbve93e0tRAJw0I+vzMi0NLhHUvCjc8Ct2wTg6vzIE0Wrj+sO8v17BEmpNIaOAKyEittnI2BPhuz9i2m7Z17SF9OguL46BOY7At0gAOWrcXLkW66Z8FZuSrz+4f85YNW6P+slcqHKOEKKETkW012NylvtXgzJRb6LpC7NR3T724WEwhwaQgrzV414D8n1ByG5lMywiQXVtoPAIi9afGi22XloksAdaMz9XghG8rJANv5KyMCnVemn7n67kJ1o9RGUp57EBOHr0i4koLaL1h39JoJouZ8/+gS2kHv4AazkPwxzyE8bY35tjLHrpf67jDG3lgjGc0VAxdqWV/fhwwxyhyjj8zJ1kgA8ZkhNf29MDj3t8ollJ1y43x8YPj67NnuH/GPg2kwAPjMx5h4hANF2g4CnjUoE4AVl2m4LlQB8TmIMEYghRcEEreJqmAyXYZJGCnYE4Ly8xSwSobL72er8yJGZhhPmjXFKQhAVtZJJZC8B00kCULT/ipCAh566ff+yEy7clz9p0zG9+JyoZ0wXIgEY+vEWJQBZD+ZG0ndWm+zOIv0mS4QYVxPgve3yAUhbYEtgkUyWlADEHyCBSGekMB+9Q8hC8c3pfADOAMntWDQIMLHTCd+i6bTrqEPAIdAZBKYTgJfsO27tLckx4S60gRpe9Asxa3sbnzFHh+PF/KoP7lvWv+GXS09Y/4ys3d4iGKqMANGLMUf98yrHdbfmK/9irgQgJNTfa2ZjDCa9RNV7vdT/EDmmmn1W1nQTgu81Fcg0DkJ2KeGFj0HIO3z5EUkYc2KCbtSTQiHL0OTDB99sSdskH9GCjy8RjucZY/CRdqxEj+eYnY//kJfs4ws1hB440O9yUpO8yI5Z8+nSJ/z4HSlakBxXM1+2yxMvnWghoqXIdrkc5fnn5P8kAbj6uolmr82MhJ+p0Zv5c7o5OezMHZB/SW5g0zvnpJNtaLTNBCDRbu8TsgtNQkzEORknI9kqmVUiCol6i+afBrzYJnkrna9t6Gkqx4PKtB1pv2NBQKQ/y0TzDwIQTPiYUA2Tt5Zh4gjAtoy8q6QVBML8yGuE/Nsb+mj9RUngxT8P86PpxzWbDGmlnbko6w9sPn7pq96fHB2MTxzd5DvcbM+JF55+Rfqc8Fdu5jnO1T8vn5mt4r8gCUBPA2qkxHeRCLvgZJ/zaRCQvi0Py0i3NCo2gUD2r1ux7kG2pmCz+NLWW/u2PDrwot+mUX19zICjXw15o2JxML1mgvMIAQhRXwzy8Rum56j/nwsCUj9WvZKTqIibSy/7+Gwo1yLolT60KufSkhYEDtcPk4oW5A25VZBceYeAQ2AmAtMJwA/te/nbvpkct/YrCURgo0ull0fMCo9dc3PS9+otE7n+DftyA8MEZliwL44zEZ51j00AvnGW3K3e22uVn42swIwWc2c0od4lctaqb5auTB6u1i514xdGNRYpMEm+SOlqZbXy2eQriI9CNWeerT6tt6trJQCPCa+fOG5Nc9cm16B9fbKd/l9zc/Kisz7FtTnhDWz8pFm14/+Z3gzIAxHVThPgvxZzV8guiL1a2m6bWtV2a/SEmiMT4OdbBOBsmFxchkmq+axmvfX0V/M6H4D1oOXyzIZAYfnW54Z+tHeKUEijkN6s2k3tIDhmk6GTx1UD8NihGyeOW3Nzw+9vvO9Ve05Q3xFv+uRE7sT1Rb9/40cXquafjs9CJACH/O1vgvAO/ZjAHkmYj1LXK+tWjE1TKip4Ww+xCMCJ0I//B1zK8ylWjay5xgqH7Xho6MVfF1lSeYaWRy8sryfVFvSjHRB/kIXkH/RGNZBdefZZ/zsCcFaIei7Di8WnEWZCT+056RsTGE2H8RLR96WyvuK8HS0JnKaTqmmIyGG3cgg4BBwCGQJKAOb6N/we33xpcI4T1ydE6K176d+QLH3lvyXHDt2Uag2q9h/aRRAWB78+zvz+9W86w+E+AwGbAHzTjKPzZwc+9/ZKMJFHdVEsNBV5vqU+xKpoATYqDsTg0yXwBybQkJvz9rnpDaw/yhsYTvC5VPc1aV2/y0749+TQv/tISuwrCajrI9/yJYi/ZFn/BgK1TNMGaBTUuc7fZgKwER+AHxJ/d6oB2HDAi0axmyMCsBkfgIoJ76lcyLOR8pNQaF5HAE5C4jaaQEA1nEI/+mxGJhDtNyb66NW9TvrZcOQG1r8qfU5Y9/5GnhdoDx52xhXpc+LYwg2WFUca8Xciq3vjN2lTMbXbX0jbC4sAzEbGIvbQft2DJixE7hSxl2lzhn60TsxzIcuLQS7CTUqbxjxZwjUXeNEVSuxlGrkjtvVLqiAg0YJvzci/lAD89eq++DnNnmeOAGwWubkrB+mFlt9zZc22LpwImDDh/wcfRpCBlfKxD/XStoSxtqBAW4BJA+y5+iyq5+WGcvg0QibtS/kamV9Q8ktkO8YkPz6kcNhum5ERJRGfTFtEtnomMiq71Z0Zm3bf6F89fZtRSYs7FNcWq2moOP0EH3tc+V8t1YNltbJuv0NgbhEQbR9vYOOF3sDwFm/lpq2NLv5JF92y7MQLIQCLmA4LAVg8ds1NyeFvuPKBNOjHScPvzzq6ME1GWhjE+UwA2s+Sa4WIe4/01T7WQvdrFuVejAnvTml7Zc3c9R1Uua+Xj4eYC9POXDzf6pKYgBy5gQ1b/YFNlzZybfoDm0bIz/X3wtM/th/NXtX8S83yg7FiftUH0P776aGv2PyovrO21DKXrkvWuczUZgLwwYkxd5ZFAX6Umv3ST0g4WX/WMnctJsbgy7MhsqtR3OaIAHyI+EW0IyM/vAomXyzDBPcEDWHiCMBGzwqXfyYC2ftGwR85QUx/9wVehPnjt4kCfFbfloetO2DHn5UvmS+0mbXN5z1LV27MNfWcWLkxyp4T63EFsZ+PtvZH3KODnUV/1UUT3sCGHx62asNDM//N8xmJ1mVbaASgknyhH9+dRbyOHwj9aGIoH6fvVKmJL9cB5Fwu/k/RuIMoTAp90bJ2E+UFf/Sc7HrMIgEH/gjveGbdiughqSwrxh5U8EYPIQ9+OjNz4eiaVuRwBGDr10W3akhfrMTB+s+MMT8t+fhhbS9ELPyt+CTCPAMtwGr5cAiOqTBJJwDyt+GVkkPVCtYiiyjDhO+z4qTc7o+9/Qsh+tIoPdIQBCB+aCA7bQLwbTI50uiSs/VvtolOLUJrtrqrYdLMfj0HminbbJla/ZtNntnGvVmZXDmHwLxGwDtp89+jZaQEoGoXveTsz+3PnbihuOzEDR+nA6ptOK87033h5isBqFp+fKxC+w4tPJ5Lj2zDM7QRlHlePVmCm2yQ9hspb+fVZx8fCwmI8hb74ELdRqv3had/7H6LACwS/KPvlA9P5PrX35NfueGghdD3dhGA1AMeiTG3CgEI4QWxl/oJs4gpJQB/bRGF5MMtS0dTtwlAi+z8pfQVzT76ehwdrYDJHWWY8EG7oWTV+VohEycSY26XcZ7tfayhtlzmhYmAaqoFXnxt4EUToR/tSbX/+kbEFcnC7HczveIj7mFn7tgNASgfioqsl5/8of25/vV3LjvhomXN1NuLZeYbAUiU3CC/7VUQ2YO56NVr8lttDmBWiPU6KORHNgVeSqg9IOTa9yHCtQIiA+PzT7TuiIz9PY5pcBC2U03C3LaVIsvLkyb8QAYHbXte6Ee/F6IRgm8yKrHKEvrxzwMPc+V4f+BF+yEN9Vgz63oIwNX5kQOC3LaVYD3obevHXLmZtlyZ1hDQL9H/JV/pMT3aV7aoORLO05mcoAVXKR8Ovim7XURq9cWBSQS+iTBpiIwxaBLAXkMw4gx+tsQE6qtlfSnvG36W6JPtEwoCkOiGRD20L/5GCEBkZzm7FBUSB6APr2JSheYlfcOpNBOlT5T6efRsHWvzcV7CMXcebXO9taoDG0zd3iERJneVTMUgVnFaX4kc5MaJY3yiKWFG5pJDYNEhkB/YvGaSAAxTDcDiitXXFr3+4WTZwPDXnnl69JBe9SvWhcGEAOSjDvf7+WACrPe5TfJxTZ9FfGR7aRfw6EYT3OcXfHruKzanEWuFANwNAYhmx7Frbioe/PrRVDM317/xtIUCRAcIwKuE5FICMDVDL9N4e7b4CCQPCyblXMzl/irbCvMcEIBKil5dhon69pv8AJoY81cSPEUxwXKlYUwcAdjWU2ZRVmZpPv1WyATxJ4YGVAzRUb7o/t+c/7xtj1TiZCGDp88JmwA8duhGLDiKB782Tp8TS1duOHkhY1Det/lGABby8Rvw2wcRxrqQ39bwRzs069B4Df3oPiH/iuIPc+9QfnRb4MVft/anUXfXHhStUGxUKzbwou9lwXOi/YX8CAHhTGOaeaKVm48voj0hJFNZCvn4W6EfR4EXSZTg1Fy/WMhH36GdVq7HWgQg2FB/4Eefk74RAZl3ciE/2XJpviGgZkkMVBp5rYMCMmngJQgtBNrTBdJRt1lDNELyTb4QNSHTjVLn31plWyUAVZ5zpW7VGNT99I+lvH923/5Doj9qGUu8ljbtCRl10+8fipyp/4GWaq+vMF+3IDu1vxDLTHr1/9dLRGiuQlX4+yHPFfPdlKyC7G6XQ6BlBLyVm4YyAvBGvhinEX/9ky6ayA1svCO36qJnOfKvJsR8hPmGaNe9tmbO7hxUApBosGjUcx/medS08+U2iY1cKlurVeqz3H7utFrnvCuvE7tJAhDTrjU3FzHzSv0J9m/iw9WC0cxtIwG4BPIpMeYllhkr2me/Sox5vD3QiTHrJQ/BQojEewHHVYtQtonY+yeytPoBOm2+GQJQ+qRy6Ed2uztVt6UsmBxdhskvkrIAfIkxm8swIUjfNEyqNmQdaIQAFPkIAkP/wHtBX9sWTG5zFgQgcwIvwvRxd+ClxB/mj/eHfnRv1SUf3XbOARc/ohXCYRax5s1hfU5MEYA3Z8+JM65InxN+//A/IuxisuDoBgEY+lEsATnwx7evVoRb/PDpuRt40Q/Off7otOdQ/SdTsiRcHg1g/it+MDGJ3y0BObgu9sh2Evoj6fuB1g0BiEacHL+HKNphbuTtHG+MAKREsoT6An/km8iR9S0N0JNG5pbrE+0/fHX+gkA9rV6LtQjArO5kSeBFd2X3hHh/mIvitG9CDrLtUncR4GWJFxW+pj5EzGeRgJP/80K8YPqLKTAkzFYRjzJMrCjDNkurkwdeKKjvB8aYH0EWG2NeJRpjA8YYiCq0DZHj6ll8Cmm/VDZdow3CNqQiX5I1si/dapUApP++RHEkqg8kpSbFBlIQ+SG/1htjTjDGHF/Cm6+8SoZ9QQppGa2j1TWYEM1Y/T0hB9onOqat1l+tPP3gXCHaJG1eZYxhPJnwYiqGVg5+Fzn2O2PM06yxVSL0ZmPM/XygqNaI2+8QWKgITBGANxWPDnclfa+5dA9+x5b1D9v3r4Xa/Vb7xXMFjetnl92TW6231fI8Y/FFi1ya9H6n/916HiOgE7uMAPzo7pee99Xii9/86SKO4f3+4Y8i+kKa1LWLAAQXy+T1e6LhBwEIwXdjYsyLIAJL/vDWSFRcTGH3o/2XGPOXSpZJPQeUSLPrE2OuSYwZS4z5m3acMk0SgNtEBuQgSm9KBtYrjxJriTHfF21H+g0m46X+HZ4Y84TEmPMTY/aIliCY3JsY83TaqrcdzackXj1BQGQsdkn/diSZlY5W5daLGIEwN7JcNJvwJ1bvUsQ0slXSoRdg1+dESgCe8fHdx629pfiiv/9U+pxY1j+cKtYspOdEPWPSSQLQ1jYTgkvOyQhrshkpJcq8kZ3klSA2cRaFeUbWuncU8iPHFvz4u6IBOHlNCBl3J6bAWWXqsztbB350XOaPL76HvOfntz2tcfJPxUxJwEcH3siF0rdJOfR/4I98onDwiLyDqixavrF1LQKQmlYvjZ+TmT9H94HzkDd61EKPdt0YgvMjN+armBRAyNwh5rB5Y8w9sg+bdYibdicmatiDv7LGRI2IhWqS3N+kAI+WfqDyagcuaZUARJz/FPls2fRLKWG4wZQlddhcJj/+kvR46uTaIsLKsjb8F6IR82atH1+HqBbz/8MN19ZYAYjHx0hbZ1UhihkHJQHLTZIpD3GLrBDDrWp/Nia9y+0QmGMEbALw0NMue4AXyWUDGzJtNgkyMsciuuYdAosOAXti98Izrth99OB1CZEcvYGN33zm6ev4mLmgUjsJQAUGH3dCckF2KeGF/7t7ZD8EmC7/ZpVLCa+SKew/ynElEJ+peVpZWwQgMqmJMi5bKiYhJn9ryaqaivr+V7FcpZ34QrTqmQ2Td1eqo5599RKAiTEPS4y52ZIJgrPdH6jrEdnlmYcIQOQVctErg3yc+lDDd9lsS5gffUVG1LRGOsxDOGaINPWcuCA5/Mwrdx+1+tokDdw2sOGmXg8MNaOzde7oJAGoIqzNbX847Zy97COPZb36uZnLDj2u64I3+vTQj25Vsg5zYD3WypqAG2v6tr0o9EfeDwkXeNH7IL0wfS+vV0m+Qj56n5CEDxT8mDgMbTGRDQ699MkFb6QQ+vEFoR8ND3rxWRB/2m65PM38n40AHMrHp4lPQtwC3LtYPgA0g2Wny6AFR4JYeaL41uNFAm0/iBa0rT4jvvgkq3m6+G1Dc448aOr9U2kfzl7RZnisEFYNf4nUBqx1pZcLrRcffZCA+JFrJOmLGBc35fF/p/uop1UC8ESJmIxJF0nl1bWSg2pKbbet22CObJissU/3S5VNr5RchMTF7x6+9ZCDcdToxk1XPktB+o8GYOrM2sJFi3GcBX+M2vfH6UE5xnHUpZH3DDnGPpccAgseAW/l8NCyEy5IjnjjJyaWveqCxFu5MTX5cqa/C37oXQfnMQI6sUPj75BTR+9ffvKHHsgNDN+xbGD42Qvx2uwEAcjwJsaEogWoRJ/6ttP/rD9ma7lZGoSfE+IQ0pAPhNSn77dNnz1CAD7ZIr2Q4aZqFZa09FaUaStO+naqVqbW/pK243lCPCoGlTC5TEm8WnVVO6ZlZ9MATIx5amLMbwQLCEncsrjkEHAI1IHA1HPiwuTQ0y67P7/qkv3ewPAv+1Zt/IuF+JyoAxJTiQDMyKj2EcJol6Ldp0s1sgsN1szsNioW/OgPQ94oXEDLqZp2q/rNtBvQfYEXfQPTXzTkAj96D3mq1WOXr72dLNH67XzUWw0TO9/s29mYVScAs+OhP7Il7ZcXEyX8k3wAaE/7s0vockxHAA2+KyUIhWqCQa4QLANi6OWSHSIOtppFyahjLPKIMiwEE8GH22WloBLPmt5Uw/+0nfKCyMKCeS1EEb70mkmflPJvLSvcCgHICye+CcHiJSWyCq01ux/PF5Nj8MWM1T6mYkBorZE6IDkp066EBiAmx6q5SfuXS1ud1gC0+1CNtEMezhvwQxMQ07jy5Blj/iBaqRwDY5ccAgseAa9//RCaRUT89VcOfz79auw0/xb8uLsOzm8EdGKXXpv9G+72BoYncis3HppJ3b6JzHxBoRMEoEVCvTQx5lMShVZJLzTqPpsY82ow0LyynZJ8iTF3WcRb+k5nE4XNYid9fWxizLch/kqmxV9LsmjdFassEWRnW2ThjyDNKmasY6f2MzHm5Ykxn66ACfvSoAGat45qZ2TRsnUQgDnpG34YMcOuJxjfjPbcjoWMAPe7RpeFjMdU3yo8Jx7wVm7OT+E1lXexbFkEoPqhuybMR/8R+COfQmuumzgUvPjkwIvvD/34vjAfoXzD06bSHL0JsZIlEG26VK8Xkm7dg7LIvdGdBO5Ykx85oHr+xkWBbFM52kW8FZZHLw9z0dUFL7oq9KNxMbkmkMov8fFpSxn4IzsDL8ZPaE1/jHYZt91+BCBhMLX9rhAu+IH7ojGGaHX4X9PEBXB4SePq1pKvum+VorWiAagXBWv+/70cUyLwBvGxp/m0rnaslTz6mch9XhOVQqpBrkHE4RfKTs0SgMiF2QlRkn8sFZZ/gcafIaTl7WValXb7bBMEAz+H5G2nvztbo1K3lbDstAZgeR8r/QdDNRPGD+BfVcjEOfUxGXs1oe7EeVahabfLITB3CKABmOvfMOENDN+WO/WCh7fzpWDueuVadgj0NgI6scv1DxchAf3+jfLMbtfkYX7hU4UAPL5RX3flvbKIKIJL4OcOP3/PKPnRe6Jq82keu6zkgSxUc2F84en7jZ21qW3aTIx5VCnwyMNlqWrWnRhziWgioiH3iaYatAppf0UTsRyT9OOn5rGK1b0pfdOgHq8Xgg8z6ttlnCcDfSTGnGFpWf5cxtu9e9WNtsu4mBGYek5sSJ8TXv9GCT65MJ8T9Yy1EIB3hn60N/MLN+U7MvCjrgRrgwxD1oIf7cjMf6NkMDdKcLYmgm7U0+vaeQrLoxcTGTdb4tsxkZ3v7/qDXrQ6I/10/IiiTCCg6Bc2ATh08Mgz0K4UM+uJ1d4obuVcmgMEeHCz4Auv3F8KF4QeRzTMGDAH/rlFmOnx8hetpcaYJ1skYatd03Z0TX0HlIKD3Cky9TXRwPlCrmH+S7K1yJQA/JUx5glynFVBSCeN6mv3W0nJM6Ve1UrU/VoNQT4g9b4tO8qPs5t+kvDPR17MdjuRtG20NSFu55oA1H7z1Yd+42OS86hS0vHDVJqkfZG/buUQWHgI5PqH1+YGhu99fv97H79YTUYW3qi6HvU6AlMTu+Ekt3J9Gsmx1/tUS/4yAhBtMIJQvFpIO8i6B9cqX88xIaY0kq6+G0wrqsRXYsyqxBhIK2RB6w7Czn6nm1aumT9SJ/VWlSUx5iESHANZWAabaataGZGhJibVylbbL4Tmk2Ts3lyFAEzfdRNjPiT9om8j1NkOLctqsrn9DoGFhIBT0EZWAAAgAElEQVT9nFjWv4H55KJPZy/74GNDP/oxmmKhH/1Gll8HXvTb0I9wp+VSDyBQ8EbOkDHTMWT969CP/wcfjD3QBSdiDQQIXIFG2i/KSLEaRTp26Hnivw7SSom2ii9lFSTgpRCNRbTLKH+QmBPb5ZUAhIDjK8BqWYg4TJlKBKC+bCqZhnl0pfQfUseX5WAl4oq6kEeDdTTt3LmSANY+bVtlnmsCUOXhxRJtVLBSXC2x003Ox3uNMWiBErnaJYfAgkcg179xcFn/hhOyr4GL96vxgh9o18GeQkAduHv9w1g+lNQG1umzrKf6Ua+wFgEIEQT5x/pu8Q/3x5K5rB38rN5qG86n5FNiDNFo1Vw49YtajahruJE6C4g23FMsOZCHd815mSzs3lHyvciYYWaNBiVjyYKGH5qBaACm71gSaVhxPlRJ0XnZQSeUQ2CeIXDAqnXpdZTr3zCeirbAnxP1wZ8sIRgGWm72gmagRvGtr57Wc9EeAUJYVCuw9VqbqSFZonKsO2BHT8xvkRMy1x5DtisGOjlgx5/Rv6xvbh7TzBnSShkluyCpULHFr0qt5aQSIfUvYi6L7zXCVuN3pFoZzDJPKUVqfX0pgIhq52mbjcp9mLSDWfJ7jTEfF80/iDg1/a33ZVvNcT8lJJyaZ5STTBCARD9GC412ypdKBKBepJBSmBaXmxVrvz8n9cWyo5LsKo/6ZBzWwm1ea9vzhQDkHEH7b6+YUaf+fir0mXzITqAatEAPrpDH7XIILDgEVqQRRd0Dc8ENrOvQgkDggFX4uln416dFACoZpGuNVFvt2d3WcVaSDz94iTGBBMxo1fd0UzIKGfbIkh/CtybGvAVfgFSkMjZVaQcLWQTge8tISx3LX8o4/ylr6cvaElF4TokIXCv/9R2yg5K6qh0CCwuBxfKcWFij5nrjEFgYCCjB9LUK5FY52dXq/60CmW0uWw+KShiqxpwtx3+XfMChBdhInVqfBtf4fQWzZ5VLNQDRwIN05GWHcp8VvCoRgEouIidBUOzotVovjjBvljo2ys5KL1A6PkSaoz7FUOtp11rbni8EIAE/CPxBn6+qgY+OO2bU+HAcaBcgrh6HgEPAIeAQcAg4BKojINpuj06M+YIEpyAYBcvVEqxDg4xVr8QdmVMElJhMjDktMYYIyoydjiMBV2IZZ33fmlN5XeMOAYeAQ8Ah4BBwCLSGgBI//yTRegkCAQlUbSFK7EdE++4K2WZftfzs1zpPF1G1zXolV8IObUPq+2gpqu7OUlTiW4QgUqLtiHorNMYcJ5pllD2jRjklAPEB+CQr35C0XYkARN6nyHHUuyvZvD/MGHO95PlnqVf7aTUzSWx+XvJ2Kjqvjgn4gslcmACrDMeLz0PkGBMwlAi1sWFbX0gxoyY/fhddcgg4BBwCDgGHgENgkSEg2nf459P3iTlDQEizqr4C50ywNjRs9W3OcW5Dd1wVDgGHgEPAIeAQcAj0CAJEXztESEHIHyLuvrSG7BBsEEbPLgXTuEMIo1HJX+0lRglATHkxJyEfy9ulfCUCkCo9OY6JsZJUtmjIoibAF9eQQYkvNAnp4wV2JW3c1v7PFQGoGOHHEZ9/9BWyE23KSsSodl3lhoTGTBti1iWHgEPAIeAQcAg4BLqEgJiI4ieufKn1/O6SdK6ZehAQ8rR8/NL/9ZR3eRwCDgGHgEPAIeAQWJgIHGiMQdPuzcaY14mfNkxw5zrtEtIIU9DH1hCGSLK3Sl40CHk5VZKtUjGbAPxLK8PbpI5yAlBfdl8mx9V81So6uYkmI0SX+h9UMmsygyUbZsoQXO+yD7ZxW9ueKwKQ6NPfFDzAJKizbyr3v0nZTuFTpzgum0PAIeAQcAg4BBwCDgGHgEPAIeAQcAg4BBwCDoHeQUCJFXyxnWWM+Y5FzkDQVFrwaQcp+FTpppJhne412mPIiUxoAb6gSoMEJNkv+YjQhwahap5VKWIaJQC1HtUA/KRoDOp+e71JSL0sWmBlkxUdBwJc0L832hW0cVvbmQsCEFKZKMv07wfGmLz0qxYxq1235YYgDfWAWzsEHAIOAYeAQ8Ah4BBwCDgEHALzAQECIy384EjzAenelUHPEXvdzt4kS4jsm0X3natzMVmyzqz7E5a5vR6m5GivLPbY6XY7x9DV1WkEXm6M+Z0QM5AzV4sJ6mohot5gjHmrMQazTfVnR74fWSROp2Wkfo26S9uQQC8paxStP/wWcpwFrTzIv3oIymYIQOp9mrQFuffIMnn0L9GUkecnYuqq+8vXzzDG3C8Rcf+2/GCb/ttEGjJ1wwcgOEHcKvn3aStgisozW/eUwP2SYFnLn+NsdbnjDgGHgEPAIeAQcAg4BBwCDgGHQBsQgFhY/dzNDz6rb4sGSExr5X/5vjY056pwCFRFICP9qh7u+IEp4nF6U9X2T8/Vzn/JknUH7FDuZFrF1fZPy+T+LGgEDiv5U7tbSJVtxpgnzEJSQagR+EKJwF+UgnVAnnUj6UMF4gr/cbYGIAQRBNwPpS+Y7tajWaZyN0MAqjyQkf9pkVpap64PF2IPnNmulgaF2PzxLObN1crXs18Jt25pANIeC6Qy4wZRyrjUQ8ra/VEC8HsSBXilfdBtOwQcAg4Bh4BDwCHgEHAIOAQcAnOHwI5VO/5fkN/6kqHlI6cES0dzjvybu7GYjy1DggXLR3OhH/lD3tY8C9sFb+shoR89pl0yr1keDRS8+KrQjz8e5kaOble99dZz/hHbHhnkt70h8KL3Ffzow6E/8sbCgVsfl5XvrkZiuHzk6MCL1wR+PBL40Xmhv5UgnC2lNX1bnhD40cE6hjqOg7mtSzMtw5aqd4W7gMB7hUxDs4r04BrkDKQNZA55SLcLYaVRf2V3yyvaKCeIlAA6Wdr8mTEGjb/y9HhjzKGyk3rqTc0QgMqq7zbG/EGCjpS3pzL8n8j9D5LB7p/mIZAIZCKRgEl2HiIMP0o0GuVwUyttqxECkBsybWvZehtW+V8p5B8EKOeOamVSX6VFy5W3A3FIlGbMpHWMy/O4/w4Bh4BDwCHgEHAIdAABXuwrLa03lZko2fVkk4juTpRov7zd8v+2jL25Pd0czB7PFvpT6V2uhepc0V5CIOy77KmhH58f+nESeHFir9kO/fg7BW/0kOxa6qWeOVnbjcC5h4w+PvSjCTkv0nPF2sa9WMPJPq+CpZc+OfBHRjkPAy8qpueiH72p4UqbLAAxFvrxaOhHM66FwIvo7wff2rcFf/gdTNlzc21ffHzox3cpvrSf4ZJek78r5LcfmQnR+HN2MBcFWu/0dXTX+c/bVs0isoN9dlXXiwAkCwTWF4R0Okf+10PyQMZB4qhvu0uk0XrKVpJPyyEDgUeqJfztESQDTbKNs/j10zqr1VW+vxkCUDUMlUyrFJlY5cCcGrkhsJaVN26M+TtjzL2SB1mU8CQrY/VxYwwRgl9VoWwju1QelXk2E2BMnP+7ZOoNOVkr6EolGbQPjBU+GT9YKVMD+zg3wOjnFgndQHGX1SHgEHAIOAQcAg6B+YTAuhXr9F3KoB2yNredD56TyT4+ubMjG9MnQUxi7InMXBCB9sRW5Umcb7WOjL6rtFEEsutlaHn0wtCPf5sSLV50X+hHd4V+tCfwoj2hH98TePFuyJDsePzuRltx+RcWAmjBhX50R+hH94d+tDc7N7Lzo+CPMBdmKlxNEaQqGAUvPhDttsCLfpWR0NQd7w/9eCL0RzvlV9+SJ1lS8EafXvCjnwjRxnm/V2RJuCZCP+a6SEIv+nqnSEB9ZoT+yNszEjICg/uniL9on8j1QHrcj1aBt5azOlRzM/RH1mbEH2OXLozlntCPbj3ngIsfUbOwOzjnCHCBXSQE4OUijZq11hJONQCJrosp7ltqZa7jmL78QUbeZYyBnDpViDJ8x60omSZ/oNTOHUKQfbcNmnDlYjVDAOoNCq1EcLhAKlWSTdugf5Ct+ABUEvAfS2axvhCeF1rkH0Qhya4DDH4jbUDItZK03u0y7tUIQO0bN01k3lEmUz0y6LlE0Bg0G78qJCCEcaUFgjAuBaI5SSpXGbStNVIPZChJ+yJ/3coh4BBwCDgEHAIOgXYjwOQgm7jF3w790f8KfdbxtwN/5Jvp2ht5WTNtKrkX5OPTAi8eC/3ox0EuujX0ox8FXnztUH5b+tFT8zXTRiNl1ua2Pyn0RraEfvSd0It+li5+/D+hHw2vWxHx4btrCTKUxgb96K/CfPSNwIt/GHjRbYVlI89udLKWCZ1NqsN8tFrG71s6jqwLXnwtba5bMabv5PX0Vd/zviYfqb9Z+lDN8u0yNz311OXy9BACeg4OetGpQv7tzgiBVAsQQvAuIT/QwioGHkRMqnnUsvlhD8HkRC1DQAjAlCTmfCjkoldiElxYFi1rhhTjw0iYj67JSEXVQI0msnMv7ooGYHYtJEvCXHS1tDuRkW8xhPgwzzLR/kOe/XJdhBnR2TjZWQZp2d9kSeBtfxltBF68L2svJejGRZbfiwbmROClZODdaGWWVTLrX8aRMWMJ89k9IPRjSMVfOgJwVvjmRYZXC8GDhhbRc/VhXks4XoIgsCCGIHZq+bWrVY8e05eNUWPMHqmXusuXe4Qc5KWonBzSuppdN0MA0hYkFD4RiUqM/0FSNQyfWdL0+2mFftHP+0paf/plrLxv/UL+QaCRFC/529BKSTMIX9r9cJXSqr1HwA7IzTOr5Ku1W02kwWZflX6XjzH/0Rgkqay6TaRljnPOkspxkt1u5RBwCDgEHAIOAYdAuxAQzbwnMZHPNCqyiZX8Twr5SJ/LDTW57oCLH1HIx1+WCRGTNhZpY3ISd2VnCUDRZOqLVjGBsWRR0kInk/cPettelHWw3ZO2mbCd1bflYULWMZErZtoycXHIG/1rJV9mlqq+R8sE3uj7lKiRNcQMmP+iCQJQ3/N+Kx/psdLBLQ5zg+XVpXFHeh+B7BoI/Oi12XkU3RJ4I3+7+tDLcRmUptW5S/888ONvZtdUSgIWAy/6Atezno+a160XBwLlBOCavuj5rZwLaN0FHlpuaJ2mzw/RNk21CrmvJUFHTYAnr4Pj0rY8niFp27evyX/kL3VUC97IGWKSzL0cue7jOmi3j0zu4fJhjjbAJRlaHq1DDv24E3jR7VPakamp9PtUzmbWoR8fIc8SRwA2A+Aclvlni5yB8EHr6xhjzEElwu05EsEVku+okoZewRhzo5Ufs912JtqAAPqEMeYzxpjPGWMITsK+A6ShVgiwarL+lURCvs0Y8xdWJoKJQDpdKvuUGLOypISfmtSivQYxZZNX5XmJqPzZ0ssRWOPv7+JSPw+WTJXKvVNMaF8reVohvrTssaXgL0MyprZ8uo0c9JWXul+WYaJ5ZltrXwJjzJtLdXGu1FrOlvNLzcBVVtrB/JsIyZj/kjpxDkjVbuUQcAg4BBwCDgGHgCJgEYBMrpQw+nmqKedHPxjyo7/RvPWuMfUN/ZGbhTzYJySBmgriv4nJCxoMCc7LkaEZ07Da8mSTNwjMbPKWmjCVyZJqT+wXk8biYG77Up1I1a67uaNBbtvzCvl4TZiP/zszJUtN2ZQATJolABW7gjdSCP3oBzJ2v1QSN/Tj25sgALWTuIh5ogTju0bem/N60K0XIgLZtRPmt72iRDIwT0kT1wYRRrMoo8mSQl+0LPCie+U65/r++TkH7HhEdj1rKbdeLAiUE4Dc7/Te1AwGYd+Wp4Z+xP05fXaE+ei60I++Js+TVOu0kwSgEnihH+/KnllowcXFgh+l/IhN8iGX3G/3Bl7qBzH1edgKAVqOGQFPMLvno1GKQT7CjZc5/ZnRQ7jmiNRN8I4MHz6yRUVI+nLXG+X11vo/6I8cnl3fTgOwFk7z7ZiSNKcYYzDVtDWy0Lj7tZiflmvmEdWV4A4km6iRXU2tVBYtTL3lhFv5f83b6hpykb7z1fLZVmXnifbah2Rftfbx//dHY8yPZslnVZ1u2vVV6j9fVyEJkQ3Ny2raheX1tuM/L2+QbuNSWbvGuRHZwAdcMAEHA7QhkWMuZGlEbpfXIeAQcAg4BBwCCwIBJg6peWxmwsdX/v0FP3rt6vzIE887OHoKk4p6O5pNdpIlkFxMQpg0iYbbrWvyIycxOcFUKSPkmMREKSE3uDzuq7eN+vMlS4aWjjwj9KP7MnOoTAMw8OMNYX70sNBPnaj/XMwXRTsxUmuM+pupM6fIcquQkUxo8askppMZGdo8AZgJgXkWk2bGLsyPnC3EDG20QgBSub7D8oGb9zVHANY57r2cTQkQva7L+5KaaKZm9JlmL0TN2cs+8tjOavWWS+H+zxcE2k4A+tEzC378h4I/+uGCP3IC59WgF22T+xr+7zquAVg4bMdDAy8l/iD28PWXQKhNEXuiJejF/5TJFe9LiTcvxvXZpGZeO8aopMX+j0J+ogFYDHLRP0wnWJMlmFqH/ujPMjPllDjdE+ZGmtbYdgRgO0Zu7uvATBXz3vcbY64tmffyJe/LEizkXSVC6PyS38CGbcXnvlt1SVCJWKqXAKQBiDJeegbqam32TLxMPUEIyP+Q7N3UfOPrBYToGdL2XJBuYICJNbgSSZnIQvqSOTuCLodDwCHgEHAIOAQcAi0hMJ0ATP0G7S8sj17eTKVKGKSTk2zSBPm0ZzAfY3kymQrLo8/KZCk1wS34MVYhpt3EwZA/8n67ndCPr0zbKUU8Zo1zebQeZYLHpOr+IB+/hGPtToXllz1XtDckgmQEAdpWAtCWOcyPvCbre9pGqwSgvp9iueMIQBvoRbyNz8rQT00OxZQ9/qXTAFy8J0S7CcBKSIZ+dLnc17pAABozlI+PEY06gn7sL/gxPv+NPutURkg2kYt8fNxBcWhGPs3f2DpZwrMx9Ec+JW40UgIwzI++orweiMkwH10hz2C0y5Nmn+fU7QjAcoR77z8P73rIFfLZmmu919OZEkNuoW2n/kw0B9HonmGMmS1kN3j8ufjy+99SQJBpUey0sgbXyMQX73aSio2I8DFpm77Xc140Unc9ecGUcw080UB9cT2FXB6HgEPAIeAQcAg4BNqHQCUCENO/xlvINCEIHMBESaJAToT5+Hrqoh3WTFAK3ughQrrhl4/J0n40DdtJAKKdFHjR10UDEZOpB9bmtj9LNTdUnoIfXyYmZkyqkqF8hCuXtie0+0R7g8iK3y8sj08OvOgWmTSm5tCtagBmQovp85T/tnZoADoCsO1nRC9XqNd6fHJ2/mYagINedD3EiF5jvdxDJ3vjCHSCANTzSZ8N3K/lntlhAjA7x8N8fLY8H9AATAJ/9CMgo88PtjnfeX4hV6YlSITgaE+mPZ/V0ziaUyWoP/Ub68ffSmXIfOkSbIWAozNS6E3/8KUmy9O1BWcUq7jDEYAVYenJnZA9Sr7wQNeF/XNBBPUCiIoLEesg7L4iGKYvsy10AI1MfP+1g1BsVAz8MWpEXu1fo3W0mp/AMOCpDkrnQgux1T648g4Bh4BDwCHgEOhZBNpFAOqEKMzHn84cojMJihOCXWQTj2wiJJOZPw39+J7Awwdemq8Y5LeK5l3rEyYGA39+mNkig2hwfBvzxPKBGsrHp6m2hJCFn9S+lOdt5T9muYEfnRcs3/6y4NBLn5zK6MVfdQRgK6i6st1GQMm9NX1bnpBG9k7JfvFJ5o+s7bY8rr35g0AnCEDtnd6Tu00ABt7IhULs8ZEGs9thZFJ52E59Y65Y9yB51uyWCLz7CGKi8reypq3Qjx4T5KI7kEHk+RVR5CvVW/BG/iV75mnekX/J8jX+bHUEYCWE3b7FiMBjjDEzXiAXIxBt6DPRxMDTEX9tANNV4RBwCDgEHAIOgUYRYHIx5QMwMwFuRgNQJ0ShH/0m9ON9ErmxWDiMSdDUxEODbBTy0biYM6UTq4IfEVSM74JteSco5EeOlUlQ6t+v4EVbK2GDNqISgELGfRvtwXbJUalN3Rf6TgNQsXDr3kEgM52P7lZzxPQ6KwUkUC2t3umJk7SdCCxEArCwPLo4e45k/moDb+SfwEyJcLbVT25GzMW7swBX0T586LYDX56tb1v2kcdmH80mP2j9lEjclepPPzTx8U3JwnxMQNimnq2OAKyEsNu3GBEgUIeaQizG/rezz2hQgmdbXvbbKZiryyHgEHAIOAQcAosBgXYRgGBVOGzDQ0M/ujMz7432QBCsfsXmB9v+kiaJQi/aLsRbav5ayMcXUYc9sWoO/4xADLyRt2SEXurjD03E9ZXqg8wY9KI/6mQp9KPfoq3XSQJQ++gIwEoj4vbNZwQK+ejNECJc4/iwFHLkjkJ+20F6Xs9n+Z1snUNgIRKAgRdfJR+G0oBVQT5+Awja53o3CMBUgzwj9cRvbvTds5d9sKJCEgSgPPsybUFHAHbupHc1OwQcAg4Bh4BDwCHgEHAIOAR6CYF2EoBoPIR+dHcpWiG+/XYzCQGLdSuihygmSgBC+IlvpZQADPOj29K8EqBD8ze61okZERNl4pYG2gi8+N2V6sKMKvTj34osaE3cHSzFRLc9moiV2pyS0WkAVsLH7ZtfCEyer/mRUa4p9d8p19ePB3Nbl2YSd+6amV+IOGkqIbAQCUDL5DgjACtoAK47YEcaY0CI8UkNQCKyV8Kp0X08M9f0ffQJoR/v56OakO5VNQBLwazOz/JkJsClQCDvzNps/Pp0GoCNjpbL7xBwCDgEHAIOAYeAQ8Ah4BCYxwi0kwBc0xc9P/Sj+yAAZbmXrusEKd0Wgg9TKpnI7IVIKHhxaqKrZEOzkGn5wI832ARgwYsLlerEjKrgRz+RCRME4F2OAJyBlFq+uCjAM6BZ+DvW5rY/PPTjGzLyL40qrZp/Xzr3kNHHZwg0Ti4sfOQWVw8XIgFY8r23UZ4j6YeqwdzIvzKq+iFLt09/ZvQQeZ7tkQBYe1cfejmurlpOtIUPwNCP78xkgYSPbgv9iFgCM1IhH/2bTQCiEZhlavwadQTgDHjdDoeAQ8Ah4BBwCDgEHAIOAYdA7yLQTgIwXH7pC5QAFC2hqgRgmI/eIROrNFBHuwlAJm4yIUs1AGsRgKEf/TQjN1K/SY4AnHk6OwJwJiaLYo+QD7vERL6YBfiJHwj86D0AYBMhiwIQ18mqCCxEArAU0f6fhHTDr+1kFGD1ZZuBkSx5O0GeUhPdaA/Bp9Ak55jt/qIqcLMc4KMWfmlDP/6ppal+11B+m1epaOhFm8U/Z2YuvDx6ZaV89exzBGA9KLk8DgGHgEPAIeAQcAg4BBwCDoEeQaCdBCBRD3FUXm4CrD6SgEQJg8CLPhT6ET6K1LTqQo6rBl+z8Gl5zJ5sAjD0o3WV6gxy254X5OI70sldNoG7nQinzgR4GlqOAJwGx2L4k2kLhV58VkaOq+ZfdFchH70aBOzrejEg4vpYG4GFRQBmfS14o/2hH/MRCQ3AB/hYxJEpYi+7Tga96NTMp20a2R6iEG3pNEJwVlMrv8kS2gv9+MtCABbl2Xn89FqTJecccPEjgtzIzUJaotG+d7U3mp+er/5/jgCsHyuX0yHgEHAIOAQcAg4Bh4BDwCEw7xFoJwF4/hFoKaQBNZgopUFAMP+dmixNIwA/JloKe5nUFPzRNkUBFuLCj0Ixg8rMFasFAemLlkl0RbSbmDB9OzPdatxcqt7BtkjKW7KJGtGX42TIG/1rPVZvXTPzZXIX/Oi1UjeT19sZ5+laKzNL1tjjCMAa4CzEQ5yHhcO2Pk6uDbSfJjBtLHjbXkp/Wz9PFyJqi7tP85EA5Dxl0Q9PjY1QsuStfVsenT0X0OzLyL3M9Da7z+p1EOajK+R+i0b7ROhFZ9KWHueDksoyta8xaUJv5P3yzMQPIB/PLsg+VE3Jsja3/UmQfmjqkifwom+1YopcHwHYet8aQ8Lldgg4BBwCDgGHgEPAIeAQcAg4BJpCoF0EoE5qQj+6I9OWYLIUFwvLRp5tC6YkVOClATDQZIAoTAr5kWOzfO0h3grLR/uVAEw1M/yR/8/eecBJUlV7+JgDKEgS9RkQVEDZ6VlQFDFjAhNGwADmCDNDELOYEDMG9KkwPYvPnBMq5oQ5PxQzoGB4IIiSFKlXX885u3dqqruruqt7enb/9/e7eyvcuuGr6t6u/5xzz7p0HLE9O73uTl5v8aVquv2JY+5+TAheUa3RMmElAbBRsmqsCQIhlsxOLbzdPxuLbvqt9vOaaF9tbJwEJlEAXPzDxzFX549Q8b1blX784Wq21f6OC25XdP5Pa82/PW2D/+NmWwv/t2gB2HH/vfKYRyz9wxd98/9K5PT6qtsza+fvi+XforDXEQD//rw9CVi1Ic22Fo5dHGubsWZz0+3O2robatTbqiwALplbM/+H1xupaouACIiACIiACIiACIiACPQl0JgA6KLZzNTCD2db7Stmphat2uam5uc6Lz8e/INtXAdjofSZqY5QmGFttPQFjZeIyH2nsazC3PTJe7hFBpYS2Wyr/b+8oC6tmF1lZmr+qf7itrhW4HT7uGKdDeNo5sUm5jnbUhTgpay1NwkEQgCfbbV/kq+BdsVsq/NZvnJ2zfxzZ1sLj55ptQ/CwrSYZ6YXHrYo8DfzOZkEFhpDdQKTJgDO7rFw59np9mdnptqfJYjN3B7r7lB9NtRctGzD6hUh3Ne1RYAjyNXzZ9auWzM3vW6f2Vb7G/wfMzPVcZPPZjvW5ovXhpg+Mz3/2pmp+S8xlpmp9nuzAaLMsw7gTGv+hzNTHXHvP/Q3M7Xw3SNa7XvPrplfOzs9//TFcSz82/9fvWJuauG2i/9/1Zt51O4lAMb/Y3Nr5+d8bp+anW5/7Zi7t68d56IdlSIgAiIgAiIgAiIgAiIgAhNAoDEBcH103/bRHReojmjQeSH6OtMMCwxeDGZb7YcgEi6uFdhxLfx21GkKCZF8Z1vtX7k1ROelbWaPk26zaNWRXSXWL5tttQlwgOsvdS49vNXet6kxdGsnXo4kAHYjpCE51OwAACAASURBVOMrSyC7Ct8Ls632P0OgZ41M/5z0LHE3DCvflZ2Deh83gYkTAFvrXuyCGM/sFXNr37VTXSbxXT3Tmv+IP/9XuDVgNtda+JsLg532F4XB9hmswxf9bPh/BlGuIyJy3Sc5H21H3SplCHIzU+2L+T8rPpNzrbaPpfPHt0s5PtdqP2PQfmIs0Z+vf3huOrcNFpLrzoy5zbYWfsu1cS7aUSkCIiACIiACIiACIiACIjABBJoSAJkKbbFm0uJLV8eyD6u6K2db654UU82j8245O93+qb+4dF6KZlsLvpj5ouXQMXc/YXNcgufWtO8yNz1/t8U1l6KF6iXuT94P4h4vRKdzdbyczLbah8Q4GOdhU+1fFls/bO3C7odOz9+NjLvwBmvAYs3q+/HiJwGwOjPVHC+BI3Zv7+wv/R3LWP+c9BT/EESwUuJ7YLyjVW+TQGAcAuBsa+E9i8+iC9JTC0/pNveZqfaHXaxjLbwvhhjXrX6v4wjbWBHSd4hdlPG56KxjO93+K+u4Lm0nu0on0NRigKl/dq7Z7aT7L9apaym7WH92ev7Axf9X28vG4uvYZnPTCy+jj/i/ZumYqu/1EgBppRN0pGMR2b7E/9g2y/Fh+60+QtUUAREQAREQAREQAREQARGoTKBpAZCOZ1vtN/jLEe6DCAhY+71nbrr9nNnWwi/9XEeUy60Bf7zBZchfcNbMPzxerLwsRDusNr253ToBPli8nSAbBDFgzcFf4b6Vi4oL/hKFK5WvcTZ/cCrw8cI4M9U+d/Glr/PCeSrnhxU44uVIAmC1+6ha4yeAkDE73f4BLoe4AvfNiPrT7a8duebkzYb9fIx/tuqxCQJFARARefG7rq7QtXw08Z3J/yFzUwtfmG21T6XsZrHtf2j6wXprPRfElrdc7Uj0f/j0wmH5H6y+N9tqnzMz1f7TzFT7HD4nuP1+oCB8xzWzrfkn8X+eW+1dTo/xR6hqvae1FlnO3WndTWZb7Y/Ntdq/Yxyzrfaf+QPWTGv+S4dPrbvH4hXDcOfa7Cp55OE7+//BBPZaYgFIH7Ot9t35P35miiApC1ceMX3izfX5T++XtkVABERABERABERABERgggg0KQDGtDpWgFPtHy8Kfe1/+ZpJbi2BkNYR3DoBQGZ3n18b18WLw2xr4Z0EEpmZal8022pfxPE4F3X7l4svPzPTC0/0ly/cojrRdhcFvc66gERL7LhLzU63T1psc8NLE9Z/i0FNOgLiv2fXzB/Yv9/+NeLFcK7V/qZbWV1CqSjA/dmpxvgIEMG7Th5c1BjfnNTT6AgsFQDbnajmo+utd8tuwXpJRPCdmZq/b+8r+p9NXdsPa7Vvxff1obdb2HHDlRv+7+BY/J8111r3gYjKO9uaP4Vzsc7mhmurb8X/H1wxs+c7b8hYsDKEf7QSfcf+oCVW7+7+XyoA5muEviD+P52Zav/ikFu0r91U34OOWdeJgAiIgAiIgAiIgAiIgAh0IcCP9SPXnLzd4l/5EbraV8xOh4tSl4sqHMZlam564fNu7Yf4x3pFnTWLFo+tO2Pu9ksjBIeAMNdaON3XCLxyprXwHrpLX74qdO9VFl/IDm+1H4HAtmEsi4u1x/7c9MIRi5Z/S1smqEEy5gsWF1RfWmeQvXiBW7QkWVx/sPMSteak28S5QdpdvGZxzgRo8HuKBeY53OfBGHZajajIn2ZlfDObHnx8ulIERGBjJLBUAFzIZqfaD+WPKDNr5vd8zt7vvkFzc+Y7LnJ5q7Nr5+/p3+9YoZ85elFq8Xs3HU183/JHJP7QhDXi4dMLD1qss7x+em217SbaWN7Tc6fnt+WeHT514vTc1PzjF/8fIfDJcgvAmVb708yLHG7Hy1vUEREQAREQAREQAREQAREQgYkgUCoAtk7cDyFqGDEqLBxYw29mqn0cLlszUwufmm0tvOGw6YV7MfniS9miSHXM1Tti2NTCPzovHuvFyOFedubu9PrrEJF4dnrdSazlNDPVbiP8IVQu3ojl7c9Nzb8khMuZqfa3cFVu8qbNtk7cb7Z10iGz0+3HEsFxw1gG7WXRPZn7NjM1/xgJgINy1HUiIAJ1CbgAeIFHeGfZh/Vr5BE9um57g9SP/7PmWu1Xxx94ZqYWPkpbcW6Qdge95llr3rnDogXd4pqFz9i1vf1KjKPO+A9b055Zeu8WA3bNttp/TIOAsI24mtQdaKmOOmNTXREQAREQAREQAREQAREQgSEIlAuAC3ceosn1l4YIuP5AshHWfsmhzubha9t3ZL0+X1PoEup1q1u8tvt+dpXuL11l5xaPzbXaHwgLwHxNqeO7tz95Z2amT3rQ4tg7L2/DWAAS0AHhkxL3NVkATt7t1ohEYMUJPPMO67ZOxKBU/Mv4g8R4Brj4h5yZVvsRuVXai2amF16Ur5XXGk/fy3s5aveFHWem5l/QGcdU+wm41C+vNVlHZlvt2bL7iBUjQX5itAi+/FENzrNT6w5PXZCjjkoREAEREAEREAEREAEREIEJIlAQAHGXImLiZ2Za7RNYi29u+qQ9hh/uoqC2KMLxgrbc2i6OzbXaz1tcF2/hipmpdsdyo2gpOPh4Noxjw1jKWmPx8/aWudXKr3FFRoycabXvXVZzuGPBIspBW1vkObf2pP0Pm1p3UufeTbe/uPgSR+CToV2AY2CflAAYKFSKgAikBAiaNNeaP7iz7mqr/eSZVvvJnQAYrfYziss9pNdpe7IIHDE9v+vsmvmn+71bfx+x4hz+j3GTNVeNRgREQAREQAREQAREQAQ2KQIhAIa71Ia//HeEo2xuun3AOICEhd7sdPt9s632+bOt9gUzU/OPGkffxT4Yy+zu77pRbglxIdEVZ6fbZy/WKRMui1ePfz/YHdZaONYXbCfQSmqBcy73uebLGxZ/pDea2VvMDAvI37sAuD5wi9dRIQIiIAIiIAIiIAIiIAIiIAIiIAIiIAIiMKkEQgBcjLq7QETcy2amKNsXdcrp+YePc+ydCMKt9paHTs9v25zlX/0ZIKodsfvbt2E85LBQrN/S6K8IAZA1C2emFi6bbS38Y/EedrYvn20t/B6WsSh9xRGFq9qVLvrh+nu5LAAr0lM1EdgkCYQ184Yyvp82SRyrdNKL92zDPewXdGWVTlPDFgEREAEREAEREAEREIFNjwDi0GFrTr4dUW4jHzo9vyvHhg9MsenxXKkZE825c8+m53eN+0g5k0cXHmBMV/FrdjazXTzvamZY/zUaDGWAsekSERABERABERABERABERABERABERABERABERABERABERABERABERABERABERABERABERABERABERABERABERABERABERABERABERABERABERABERABERABERABERABERABERABERABERABERABERABERABERABERABERABERABERABERABERABERABERABERABERABEVjdBDKzbTxvtrpnotGPmkBmdtUm+sjMrpGZbZuZ3TIz2y4zu04T7dZtIzOLAEmWme2Ymd0qM7tF3XaaqJ+ZXTNhAptOgKZ0jIP009Q9G6RvXSMCIiACIiACIiACIiACIiACIiACIrBCBDKzq4eokJk9NzM7PTP7eWb2QoYkwWCFbswEdZuZbZ6ZvS8z+0hm9nHPH8vMPpWZ3WWQoSbP3JGZ2amZ2S8yswszs19mZl/NzI705+9qg7Rf5xrGggjp/V01/0y83MdySWb2Ez/eOV+n3UHrZmbPzsw+X2DylczscB/LQEwys339nnHv0vu4EALjoGPWdSIgAiIgAiIgAiIgAiIgAiIgAiIgAhNIwEWPjsVTZnaTzOzHmVmW5HcwbAmAE3jzxjykzGzrXBy+PHk20ufkoLrD4Zly67ZfdWkz2kcUpO7V6/ZRtX4IkdTPzFqZ2RmFMf3Kz41UAPR53jAz+02h/2AR5ek+ntpMMrNDu7T9t8zselWZqZ4IiIAIiIAIiIAIiIAIiIAIiIAIiMAqIeBWXXfMzN7vosAVmdmVnhEb3sZUJACukhs6wmFmZltlZn/PzP7lz8qZbqmHgLdfna4zs6tlZtfKzH6XmfHM/cfb/HdmdoFv8xxynPPf8udwIKu3fmPLzLbIzB6ez+N7yTjSz8EZ3v/IBEBncu3M7KwCE3inTOBB/vogTDKzR2dm3DPyH3y+cD6X74N+rHReBERABERABERABERABERABERABERglRBAbGCo+fpm73YBALHv0kTcQfyQALhK7uc4hpkIgDwnPBtbDNNvZvZGbwfRDwEKQerBmdlUYqWG0BXnHzhMf2XXhuVfvt7gqwqfA/pljvE5GLkAyPjytQ/fWmCCK/SD3CrxMD8XTCjvXzavqscys52S/iQAVgWneiIgAiIgAiIgAiIgAiIgAiIgAiKwGgiEOyWWVS6wFF07Q/iQBeBquKFjGGMiAF7motGuHrgDa771gTOqDMWDa/wlsTbl+dslvZb1JxMLQJ7Hz6fnm9iOcedr3x3n4nf6OUBgi8/ByAXAzOzWmdl5CROE1lul88zH+5ICk1PS81W2mbNbG3Lf7iIBsAo11REBERABERABERABERABERABERCBVUggEQC/4wIAYgPWgGFlFMKHBMBVeH9HMeQSAfA2IaDV7c/dbcPCjmdtHW1Ee74WHpGoQ2yk7jlECK7bV6/6SX+v9c/BRflamO/MzPbJzC52V1v6HocAeJCPAR7kk5xJJ8qyM9k+sdJlXLjw3rzXHHudywOv7CUBsBchnRMBERABERABERABERABERABERCBVUwgcQHGoujozGwt08nMnp6IEAgMEgBX8X1ucuhNCICJ4HZCYunGc/bUdKzUy91yr5OZfalQb5+0XlPb7mb7lMzs+rSZmd3TXeLDFXhkAqDPlfm+ozDXx6fz83rXzcf2tUK9u6X16mxLAKxDS3VFQAREQAREQAREQAREQAREQAREYCMg4G6BT5YAuBHczBFMoSEBkGi+18jMvuDPGeIf1qd7lQ05M3t18jxiFffosnpNHvPPAa6xjGscAiBMCIjylYTJJZnZHcrmlZkd7/VYNxEmjyirV+WYBMAqlFRHBERABERABERABERABERABERABDYyArmbpQTAjeyeNjWdhgRA1p3bLDMjgjDiFQLghZnZdNk4czHuZYkASN2XUS8sCcuuaeKYr403TgHw+pnZ2YkA+LfMbLeyuSQBS4LfiwZlIgGwjLCOiYAIiIAIiIAIiIAIiIAIiIAIiMBGTkAC4EZ+g4eYXoMC4PXyKL/nJ2LXH/M1AHcoG1ouDs5uAgIgouiWmdkFCZOzuq3t5y77iKESAMseGh0TAREQAREQAREQAREQAREQAREQARHoTUACYG8+m/LZhgTAq7vY9a9EwPpNZrZ9GduSoDQbowUgAuDWHtwjRL1fZmbbdWFyVEEUlQVgGSgdEwEREAEREAEREAEREAEREAEREAERKCcgAbCci4523G63ysz+nkTmrR0FmOjTmdkNXMBiDTss2X7dQ+wqRqXeWAXAbQtMzsjMtil77vLoxBIAy8DomAiIgAiIgAiIgAiIgAiIgAiIgAiIQDUCEgCrcdoUazVkAYi1G+vdXeyCFwLgOZnZjmVMS9xdN1YBEHGVNQfhQWY9wFt0YfJCrxPWgrIALAOlYyIgAiIgAiIgAiIgAiIgAiIgAiIgAuUEJACWc9HRxiwAEQA3z8z+5C7AiFh/ycx2KWOcRwx+hYtdEfH2aWX1mj425iAgMNnCOcCDDJ9bl80rD6LymgKTJ5TVq3JMQUCqUFIdERABERABERABERABERABERABEdjICEgA3MhuaIPTacgC8KqZ2bUys2+7iIW1278R3NKhEuU3M6PuexOhkLr3SOuNanvMAiDzvE5m9v2ECWsk3rE4vzwKMmLhBwtM9i7Wq7ovAbAqKdUTAREQAREQAREQAREQAREQAREQgY2IgATAjehmNjyVhgRAhD3yyQUR67B0uC7+ES34zKQeloKlVnHptU1sj1kA7CZ2LrF2dG5EC8Y9OLUULHWfrsJBAmAVSqojAiIgAiIgAiIgAiIgAiIgAiIgAhsZAQmAG9kNbXA6TQiAMZzM7Ilu7YaQhWXfNziXmV3bA4VcIzPbw8+F+++XEQajjVGW4xQAYx65C/DTC0y+WmBCAJU7Fph8bhgmEgCDvkoREAEREAEREAEREAEREAEREAER2IQISADchG52zak2LADumKx5F9GAD0+HlD+LBAe5PDO7wvOzCue3y8wempk9LDN7bLegGek1VberCoBY5dFmZnanzOxRPpYHxPGq/Xkbt87MznPrvmBStIw8NzPDPTiYPLVOH8W6vQTAmENmtpvPbf/M7BG4Kxfb0b4IiIAIiIAIiIAIiIAIiIAIiIAIiMAqIiABcBXdrDEPtSkBMBGWIpgFYlZYAp6ema1z4Q/LwLD+O53psgZeTDsze1JiDUfdPeLcsGUNAfAaPq5fJtZ7P/djla0VEybHezspk5/lUZLf5cJfMKH8ifeznkndefcRAK/u7X/Gx4QYm/mxzrzr9qf6IiACIiACIiACIiACIiACIiACIiACE0DAXTMJyoCVEeUJDGsYN8MJmJaG0ACBpgRAf55Y946AFqe5uMSzdpk/c4hbFyeC1x8ysxum4p+38Vavz7UIcFs1MM1OE5nZ3pnZRZnZpS5G/q/3uUT4yqMU46p8XZ8D9fncHO11O9aBVceECOjuz9+twOSs/LO5bZFJ1b6iXh8BkPvDmJjXP93q8CSfW0ccjHZUioAIiIAIiIAIiIAIiIAIiIAIiIAIrCICuQvis1x8QIQhn8zwJQCuops4oqE2KQD6M4W4tHkuer288MzFs0f5odwicIeoH1PLzK6ZmX3Jr8N6sB1WdFFnmDJfk3Cfwpgu9DFcM9qN/nIR8z5uwfgPv2b7YT4vmRnBT44t9J8yeX8+35v7eGqJjDH2KHsJgN7+Tm6FiSAL57u7KDhUv9G/ShEQAREQAREQAREQAREQAREQAREQgRUgkJndNDNjDbN9M7MH5gLM7VZgGOpyAgk0LQCmU/S2n5mZvTK3qHu1W6LeLES2tC7bmdl/eTTcEMaeUKwzzL5bJyJOIsaRNyu2FyJfHrjkOBfrcNv9rY9viaVg8doq+5nZ1i7IB5Mn+OezMfGtggB4sAt/zA2B8/rDWh1WmbvqiIAIiIAIiIAIiIAIiIAIiIAIiIAIiIAIrACBEgFwZ0SwEMIGHZJblC1zKXURrnQdvcxsrYtuWKWdn5ntNGj/Zdf5mHDvXZ+L9XDX5Vhm9kN3RWYsL/NjA6/L59d33IFL+sQtt5RJsW6v/WgjM7uzc8SNmgAjm0f/Xr7DBUDm9mF3UW5MgOw1Rp0TAREQAREQAREQAREQAREQAREQAREYIYFw8etmfTXCrtX0BBNIBEDWucPy7su5EPeJzOwUgmYMO3QXExG4+opcmdkBmdklvlbg9+h73M9rIhIiQF7grrK7NDmOOkyq8s/M9svMPu337huJ9eJ6ATDacjdr1kHknjdqZRl9qBQBERABERABERABERABERABERABERABEZgQAi4AXuhBMYjOG+63lAeNY5jhfpqZsQ5e9P8C+m5SeKs6l1wgu2syDgJz4CI70RZyucXkocmYYci9xALwj2EB6DxxwT7P6yIAtqpyUT0REAEREAEREAEREAEREAEREAEREAEREIFVSCAz29Kj7Z6dmZ3jGdHoT5nZg1fhlDbJIWdmh7i7b9xDSu7jj8rWOtwkIWnSIiACIiACIiACIiACIiACIiACIiACIrCpEvCovQTHSDPC4LI1/EbJyNeiu1YeNIQ81Hp7w4zT3YBjHOsjBA/T5qiv9XUNtyjcQ+5nWaAToi0zP8qJtmwcNTe1LwIiIAIiIAIiIAIiIAIiIAIiIAIiIAIiIAIiIAIiIAIiIAIiIAIiIAIiIAIiIAIiIAIiIAIiIAIiIAIiIAIiIAIiIAIiIAIiIAIiIAIiIAIiIAIiIAIiIAIiIAIiIAIiIAIiIAIiIAIiIAIiIAIiIAIiIAIiIAIiIAIiIAIiIAIiIAIiIAIiIAIiIAIiIAIiIAIiIAIiIAIiIAIiIAIisEoJXNXM6ubiVG9qZnua2dbFExX2iQRH/91Sr3PXMLPbmtkaM7tWtwaGOH4dM7uJmW01QBvXM7O1ZrarXzuOiHc7mtkdzYy+Jy1t48/If41xYNy725vZjcfYp7oSAREoEMjMrup5HN+Dhd61O6kEPOrtVYplE+P1NnnurjYpz56PpTOeJuZYt41RMSnev9ivO74a9fkeSXONS1VVBERABERABERABERgUAIhzr3VzDIze4o3FMf7tXv1pELLzO5lZoeZ2YPMbDo5h9BXlhCTfmdmF5rZLmUVBjwWL6n7e/sn+Y/NYnNR7ygzmzezfZMK9zWzK8zs136s2xw4vbuZ3dPM7tEj39353CrpIzaD4yl+H+4dJxou4b2Pi67dmr6mmR3tPG6XVHqmj+2NfqzqMxJN3M3M7mJm148DPcpo+3Xe57E96uqUCIjACAlkZvH9NMJe1LQIbCCQmfH/0LLU7fiyig0fcEFsxT4H3v9EMWkYsZoTAREQAREQAREQARHoQ+Bqfv65LrrNmVm/PGtmz/LrEFlCaHmHCy1PT8716b7z11vqIGz9wcwuNrN/ezv/MbN/5uP6W9JfWXsIUn80s0sSS7uyenWPhbB3sI/n1C4CYDD8utd7QdLR/f3YWX6slwD4NTO7vE9mjtR5g7cXfbMbLxaMEyEW8XEU6Rk+hnd543H/076ua2an+ThgEAlhl7Gd4AfKro26aRn3ApH3L27hmJ4v2462j/c+X11WScdEQARGT8Ctno7MzI7KFv/IwxdBfK5HPwD1MJEE/LlYm5ntUch7ZYNZ3S+ZZ2a2T2b27Mzs5MzseZnZQ5ZUGPNOZnatzOxdmdmHM7M30z0MxjmMzOw+mdnRPo7nZmYPHrb/zGy7zOxOhXvIPZ3C8nLY9kuu38K9CfjD6R5u5b+bmfX6jVXSjA6JgAiIgAiIgAiIwKZFIFxmEWXqZkhxffy4e7u3UUcApI11fh2Wcj/N3W3fmbvbvsnMTjSzb5vZRX7+m/7jrvhjGQEwxMNRWAA+zvv/TBcBMOb/Ra+H5VukEAB/7wd6/TjFevB7ffLZblFYZkEXAuDnfByjEgCx4uNe/Y/PKeYfc6ZEAPxyyThCAHxLj2vTdmI7hIJ/5GLweQMKgK+KxlSKgAiMjkDR9c8Fhwsys8wz3/H8h1P23TG6ganliSOQi2BbJ89FPB9RPrrugENUzswelJn9vUvbF2b+B7KoX7efKvWLbWdmD83MLk/G9CvayUYsWsU4MrP9M7N/JP0HZ8q/ZWYdr4GoX2WOUSczm+nS7kVZs8uRxG+BR/rvi/R365+01EfcEZUiIAIiIAIiIAIiUE4gBECs7i4ws+NyKzxcWXvlI3N3W6wASYhx8RJXRwCMH3HhEorId5C3WSywDvyB/9h7r5+MPtkdVgCMsdzZzGj/ZDN7t2fEyW+4xRtWfO9JzkWd1/iYhhUAi/Mu28dSkx+8IQDi1hpjirFjDUmdUQmAIeJ9xAdYFGQ5PCoBEAtRrAC5V8XEfUwzgij7YQEoAbBITPsiMEICmdndMrN5Fwb+k1tg/Ssz+3fmFsASAEcIf5U0jZVfZnZebqV3SUEcQ5Q6hGlUFaTieXJLP66/wtsNoYvnDwGOZ5Bjj6PtuG4UyBD3MrNHucVfjIlx8Xn4hc+v1x8GhxpWzC0ze5HPuR+TgwZhkplh3RucKeF8WWZ2Vma2+VCTKL+YtY75LXqEmT3Hf6P9zMy2L6+uoyIgAiIgAiIgAiIgAhAIARDBCFfb7QbAEmJcHQGQdWgQZ3Bnpe9wE6WtVMSJtgnwcY7Xxd0jTcMKgNHHE719xlMn/9kHM0oBMJi8wscWAiCWhd3Ger8UUoPbL/M+w6pxHAIgw+fZvNTMcA3nr//9EsxIuEvDSAKgA1EhAqMgEEJNZvYYxI1EfEHsuNIz4sDb6D/EiVGMRW2uDgIuAGKph1jEs3G/zGznzOw2dS3HXLi6r7eD2IfYRZtfzsxenZn92Z/BEKMRHW84KlKZ2cGZ2dku9jGO4ufgDPoepQWgM9m3hMkXM7PXZGZ/9XEFEywEt63LJDPb0u8Z9+0A7w+h9dwRCYDFIfJ//P+a2Y2KJ7QvAiIgAiIgAiIgAiKwgUBRAOSvqnVTCGh1BECuITLulbmY83O3GCsTktKx4NpK/XCxDYFnWAEw+tjSg44gNk553jm3+CPgBlzIt/ZxE6yEeuRwOx5WAMT9BivIA8zsUSX5oWb2YRfAQgBkfIyF8bIWDtGQcZXmx/CoLAAX/D78n3VZZL1gAXifAGxmh/rY6roA08RdfX1IngH+4h8pnj/YPcL5wfDA3HL0gWYWQVG0BmAQUykCIyAQgT5yl9/TXFQIAQbxg4wISCkBcAT8V2OTJQLgLr4uYPz/XnlaPH+Z2ff8OYtn7xgaSJ7N37swGGJcrKdbuZ9+FRMh/FXeV4wlPgPxORiHAAiTHxeYdNYpTpggUjLGYDLQH8tcbMSicu8xCoD8/8/vWAmA/R5MnRcBERABERABERCBEgvAJgRAgkQg5uHWQhkCTQCPH/YsPI2Y8yUXjIr1oj4l1yB+8SOv8/LoxzjXlACY9hfbd7TFRcOJbPzYfH2+/fLItjeLk17GfBAAmc/zXRjDypFIxhwLa7lerj4IocyvSsZNuZhiHJ/1NkYhAOLa+10X4rDGIxpwWUpdgB+Q8CDADPMbRADkWliy/iAiJ/ONH/+MoR+315YNVMdEQASaIZAICl9wAQDBA+uub0gAbIbxxtZKiQCIBVn8X1ZrupnZXfPgFpcmz95PXZS6touKBOBY4+dD7KLO9Wp11KdyjD+PNnxsMhbcnN/rlo70zWdjHALgvbzPEB1/xPAzs5TJ7gUmP8qtwqTeDQAAIABJREFUAzfrM82upzMzArgwv3FYAMZvAP7/lwVg17uiEyIgAiIgAiIgAiKwSGAUFoC40vZLrM+2jVuzEdUVsYxclngZYJxEyUX8eYJXipeEJgXAECFv78JkBCBJxSXWAkTAQuSiflguhgUg6xpGQkDk2jP9QC8BMObHun536pL3MrO983UKb+nt3TgPorKDmd0iD8qxk4uhX/U+mxYA4X0vv2fMCTHuo12i7sEmoiL/1sx46SATrIVr3+rjD97Bq1uJWw/rJdFn3Aus/XiOIvgJAiHRqVmfksw+wu1X/BpZAHajq+Mi0ACBRABEVDmHtf4ys51Yy80FgRAhZAHYAO+NoYmGBUCi/SI88ZyRX5wywuUcd9TcRf03Xo+6rFXH/9ONpUQAxMWWz8KzMrMdMrPbu1t8WASOQwB8QYEJ6wivTy6QbpG7K2MZCY9ggkfBQEkC4EDYdJEIiIAIiIAIiIAIjIVAkwIgkR0RZ7BAQ8QioAiuJA/3mYRgxy5CGPshCFG/V8Kdk7ZZ/61opdikAMgYbpcvLv1P7+/0fO3BJ7sYd08zw4rsMj/3ARcAQ4AKC8AQqKIkwEoVC0CCjXBNFQGVcdLvT/ya6IsyRLIm1wAM4TKCseB2TDAO+kMULKZUAMRSEJ7kYBdWnP0EwHhmnuZ9EeAkIisTEAQG/drQGoDFu6N9ERghgaL1UC4GPjkRIRAYJACOkP9qaroJAdCFvavl1n0fScQ/BECWgFifXOzCRfXkpB7PI5b6I0+Z2V3cQnHkAqDPFfffTyRzhcmy3wVeF+tEWFCHclm9qoAkAFYlpXoiIAIiIAIiIAIiMH4CTQqAJ5WIUQhE4a5aJtTcIRGFiNbKX52x9qIuFoKsv4dLLWIPbSHGkcLqju0mBUCEri+7pSFrGpalrd0ajfEgTIZIFQLgX31dQyzWEDgRLUchADI2AnJENGKiAf+PmTUdBTjuW0T//ZYtukzxcvWv3OruPL9PjCfuCwIgrt0wSi0JHufHqrgAR79c/w+/jojQPLOf8H3GcoPEEpN7ERlxkG1FAS57inVMBEZEwN0tiX7a+T6QADgi0BtBsw0KgLi0/iARsS7Klv7fs55W/ly+LKmH2IXFeOMp+Rx0fiOMWQDE2vG6vv5fCHu447Ne8LKUmbFeIfXCPbnjyYA4uKxynwMSAPsA0mkREAEREAEREAERWEECRQGQIBe8tPXLiCtkUgg173BRBss/XGj3zAMwIPDhotorISSFJSBCH+u4IMLhMkqEXUQkRLT4kR79RZtNCoAIjgh4WK2R4EN/ISqFwMVagIzpk16PIlyAX2lmuOYyrhC86giAh+eRa7fI1zokOiGRb6Mk2Ais7uHurdyrssSYYNaEC3CwZr1G2kSII/BIpJf6cSI0h1syrBAAuYdcAyuEVXLVNQDpl8yciU5NOy/xTmkfEfaXfhzLybgvUVI1xi4BMO6WShFYAQISAFcA+irpsiEBEOu/63lEWyzYyH8hmnAZhszseQUBsOOBMIjYVdZ+t2NjFgBhQmRe1h4Mqz4i8vIbZ1nK/4M9psCk8//tIEwkAC7DqwMiIAIiIAIiIAIiMDEEigJgP7GubOAhtEQUYNZdq5tY/w/h68dufYfgQ2b/9W5x1q3NpgVAotviRksK11ffXV/s63VOXX9kgwD47OQYIhxtVREAv+1zZp1DXGUv94yVHRlXYphwnvJ53k/8hT7GGtGSmxAA6YLou3/3Pp9U6JPddX6OMRMAhsQC4iEApuMIK8IqFoCIf+d621g2pok50wdWlrDAChHrQFLwiOdSAqCDUSECK0FAAuBKUF8dfTYoAF4/M8PqDys2MpFtb15GITM7rCB2YUnPfyTxf0fZZUMfWwEB8AaZ2T8SJqzzx++lZSkzO6rA5EVUGoSJBMBleHVABERABERABERABCaGQAiAiEus6YZrJa6kvTJiDAErvuezCOEpBMCn+/EQYIqT5Uc25yhjuxgApBiBjnHGem9cS8bai+ubFACxXGNuWPc9pzhw38f6DJEN4QmXZMZACgvAo32fItarqyIAwpxIwD9z4ZP1/U7zdmmb/PHcuo5gFoh/t036YTMsMkN4o+9BE3PaKs9v8nkyV6z3SKmVXfQ5nwiTrKG4eRJ8o44ASL/buxhMn+T3eb/F54m+efZOScbIOCJFfQmAQUSlCKwAAQmAKwB9lXTZkADIWneIXakL6xnZoqX4MhKbkAC4bYHJ6XBaBmTxP1AJgGVgdEwEREAEREAEREAENjIC1/b5hNhStcRV9zd+bQhCVQXAphHe1F2IGRNWY8MmIvAGB0S5Q92dGas//ioegTBwPYVfCKDDCoC0g9BJpt2iCFo2L9hH5jq2Ee1+6mMuu6bKMcSzm+UCJ669WCIe4hfFvU7biPkjhsai64z9837tvZPKvSwAQ0h9YcKfIDKk6MN31xch8rFeEQFbsFaMFOckAAYRlSKwAgQkAK4A9FXSZYMCIO6u/07cXXtZAM4UrN1eDq5BrN3qYF4BC8BtMjMCjoQLcC8LwDSCMkJqJ4LyIExkAVjnqVBdERABERABERABEVgZAljR3aRiZn07rMO29KGG0FJVALyzW3gh2lTNuIxiCUbAC0Q5Ig7/ysz28jXyCHzRlADItGj3zESIYk3AcMFFHHyvB5+gbswfwQvLwUEtAJu882GZN2yb17Mui4b3aRgBEOtFWKWWiIipMHqzXx/sojkERqwwETFTy8E436u8fuFktE0UYPpkbUolERCBMROQADhm4Kuou4YEwFgD8HwX9hCwzsnMdixDkUcNfmlBAOwspzGI2FXWfrdjKyAAIopekDBBFL1F2fgys+MKTI6k3iBMJACWEdYxERABERABERABEZgsAmFFFm6VWFzFsbIScSUElij7CYBh4YUgExZ2g5SsNXeBZ0SibT3ybZMCYNyd++TrD74uD+pBgBNER34Ux8LisGLuUbIW3hn5unXpGogP8LkSzITUzZLNT68vHmVmC7kVHi6tdTPRmN9vZrjiDpuYX9y3Ylvdjkc9BGLWYIp6lI91N2es/Ejx7Phup4j66bF0u9v5bsd5ucO1+oi0EW2LgAiMh4AEwPFwXo29NCgAEvH2N4nYxdp3aQT69XjygCGvc6u4sIx76PqTI9wYswBIFGACo2D1hyBK7hUF+M0FJvx2GShJABwImy4SAREQAREQAREQgVVDIEScfgJgTAgXWyLMHVPIcexkt7YjGvDBuah2QB7x9UDPB+XBJe5mZi2PMLyNR9wlinCTAiBiUlWxLuZVLFnXkBeQD+Yi5Ql+EjG1SnqtC4cEEKkjkqb1ib47qpTOY2+/R0flojGLqSNAYuGHWIpb8IP6BHEpGyPtFwW9tE8iIBMVmj7f6H2eaGY8g881MwKx7FPWsI6JgAiMl4AEwPHyXk29NSQAInaxDuApiRUb4t4SYQ9rtsxss8zsG4kodnlmdvtxMBuzAMhcr5GLcacWmCwR9pzJ5pnZtxIml2Vm04MykQA4KDldJwIiIAIiIAIiIALjJ7CTW7ohoMT6gP1GUVcA7Nce7reIXqypVyU1GQSk2B8iFPML8QmrNizJEJ0IyEEglO/mbq7fyYWuH5oZrspELb5j0lDwSQ713QzrOdbhq5pv6XW/4i6vWC+OIoUwhwD3/SRCcDehEvdb1otEBL2VDyh4Vh1fMMR9/Atm9qcKwug/fS1ERELSsIKuN6NCBESgDgEJgHVobVp1mxAAg5i79iL8RX6TC1yd/7MyM1yFt87M/pXU+WlmtkW0QZm3g6DYyenxYbfrCoA+9qHG4q69wQMrwNcWmND+DQtMfpiZFZfUqDz9KgJgE3PzAfHbgPWP+f3BH41vVHmgqigCIiACIiACIiACItCxruOHFMJW1R+AIc5g+cW1rOtHiuO+27cIYQnhinYQslgPrl8atQBI/1jywYRxkRG1/uXi1989gnJxnUDcfhHJihGO+81n2POf9THWXUOvar83dFdnOBAgBLdnXHqxLMBqYA/nhaUnEaEZDxGmg93jq3aU1OPZIABLtIELOJaidzGzNUk91jfiXhGx+Nf5NWERyXqE474PybC0KQKbLgEJgJvuve8384YFwHskwh6i1z8zM4KErU+Z2bFeh+AYCGIs3bEkueUc1nPXQjRccnKInQEEQATLa8Z4Buk6M7tPgclFWUEky8xeXWDCkicDp4oCIMJjzI0yfv/V7VcCYF1iqi8CIiACIiACIiACCQGiqCJufbuGABg/3BBdvpxEgo3jSfM9N6P+JAmADDgi1yI+fdODSeDWei9ff3Brd3HFchH35Gfka9+13SWZa0LIjPn1hOAncW3GWo5FzLHsq5JvY2Y7mNlXR2gByF/ao/3f5zzSCL+95oVFI8FbEOQIpoIlX50UzwTXEwjmOoWLEfcYW5ExYuNFLhxitVk8X2hGuyIgAk0TkADYNNGNp72GBUDce7/tkW//k5mRf5SZPSB3D75DZnaoi35EC8bNFZFw11R8ysz2zvMXMrPPu1vsHZqiXVUADNExt0x8Q2b2NR/PB1PLvapjyi3+cO/9vkdIDiY/yMz2cyazCRPcoWGzc8qkal9Rr5cAiGUl9XJx9kif22dykfK03FLx2nEu2qlYSgCsCErVREAEREAEREAERKCMAAIgohUurVUtAKMdxJVhos+GOBNiTwhn0X63cpQWgFizIViRj6+5lt3afN3CXzpPAomQqloTvNjdXM81MywJcXntl6lHfSwREcru5302WeDajEDMMxLBUHCt5Uc496+YOc6c497+wMeGGEjqvAz4dlkR5wmEwpyI/ExK2422/VSnL86Hy+9rfMxEikZYLdaP61SKgAiMgIAEwBFA3UiabFIABAmBP1zQutgFvgiAcaEfx/IP8Y/jWKhzTfw/w/Yxfo7ziGGlkYQHwV9DAOSPWYwlrBQZC0uOLBlr1TFkZnvWYMK6vQP1E+PpIwB2/l/OzM5KOGOtT5/xf3Y0VaXk3skFuAop1REBERABERABERCBEgLDCIAlzdU6FMLMJAmAYf2Hy2kVd+TihHnBQLhClCNVdUONICBnuwst6yFWzaf62nxNLmwe9+aQxd/pnai6deYTwifr8cEDgZk2+wnGXMcP/E/7dXWFVPrAkhLBkpxGJV68I/pXBERgpAQys6ckL/uIGQTrGUpkGOmA1fjYCDQpAIbVGsE/XLzjWSvLWMK9tOwZzMw+krjMYgnYEeOaAJKZ3bUg6rE2bqnw5VZ4jB03ZsrOH/RijlXHE/Uzs0dUYMIyG0N/LnsJgN4+0YkRVy/xuc0M0a8EwKoPg+qJgAiIgAiIgAiIQAmBEAAJbIHbJj+uBsklTfc9FCLTJAmABENBOPqrC1YIeDHOXhOCGWl/F66wICRVFQBf7f0e59dNSoGLc4hpPB8kRLxuTDiOiBd/2UfExILwE35tCIO+u6wIjgvOkfUGSXCMc35oSUG/wfpov/Ycd9nuNtYlDWhHBESgGQKZ2f6ZGW6HuCISYIBI3UMLDc2MTq2sJIESARD3U9a+G+h7Oq7LzLbLRbT3ZWa/zMz+mIvQ52ZmP8/MPpeZ3d2fvyV9ZGZb+vOJazCiW0ckbIpPZnbbzOyjuZXiJ/PIw5/OzDpr7RHBOPoIa8TEahaR7DIfb/w/GtUrlQmTG+Uuzx/IzH6VMDk9M/ss1onexxImlTrwSvTj+c7OD5EP7pun7WRmrNWICBtu2DcLt+e0XsVtfgfIArAiLFUTAREQAREQAREQgSKBEAC/lYg2xTqj2o8fnpMkACJ4XezBLtLgFYhL/Bgvy/FjHnHr6x4shMi1pDjnu12LEABZt45ryLRXJfODuJ+w1rXjPif4IY+7DoImQVFuXagPF36Mk4sC3bHOAgHxIYXr+u2y1iCWg1f4Goxp/egvyrTf/Vy85VrciEfFJR2PtkVABBICiBqFBf/Tz2hSU5ubGoESAbD4f0ptJCF4cWFmtk1mdsvMbKfM7AbRWJnglJntklilXZpVX+M2mh26jHFlZh9KLBGxgGcuVX8/LBtHgcm2CZP4Qx7tN/L/Yy6y3qmPAPhCP4/IiijL+n+D9s13Cf/387tCUYCX3XkdEAEREAEREAEREIHeBBAAEUsI8PC8PIDC4TUzUW+PNLMb9+6m9GwqADKGlV4DMMbzUf9xieiFJVq/ABYEBXmamf3Br8PijUiEdX7gIgDC4L2+1t6euRssLr1VM2sXEoV34BeG0ju0eHBXF9X4wX2Juyg/zMw4nibWZtzbzN7m6xiG5SBzGyQ9y3nSDs8nkYdvW9IQrB9jZojY3DPq/8KSl7+Sa3RIBERABERgzARKBEBcVVmzDiuyrcY5nMzsXi5MsfbemWGN1+QYEiu5jrVcse0Q+fKAJecnYuQDqJeKeMXrVnrfLS73ysz2yK0Ln9RHADwlETeHtbKUALjSN1/9i4AIiIAIiIAIrGoC90xElhBsBinvMQCFENz29TEQMGKzCu0gNJ3p0V53qVC/TpWwVHmri04pi9+a2VlmRvk7F/xwFY4653s05QiWUaffNyftRHuDlNvWFB6rjhGrAYQ9hLUq4yJACVaQRE4mBVff7VuEePpoXz8Qtv36RXhlfK/01uP56tuZKoiACIiACIyegAuAF+Ru4USgTYNeYB3GH3JGnkLoy8xel1imsRYgIl3d/6uGHi+BR5JxwGH7lRhHnYlkZjOFMXMvcQH+Q+oCnDNm/b80AAi/9wZJBKmbzpcTIdgafyDFO+BnZrb9II3pGhEQAREQAREQARHYVAlgPcW6d0cMmOf8ukEsAIP5LXwMB1Z0QyawAz/+EITWRCMNliE+EUH2AI8G/CkPtMGadFjBIfx93wW/dWaGtRo/TAdN9IO14Um5NSXrBNXNCJZci4A6CuEr2sQF+lFuJfr6fI29E9xyEwaMmaAfzyxYBwbPumzSFzF+8POs0ed/51aZn/d+277P8/vIRGgctM+6Y1R9ERABERCBigTcRReRqyyPSwDs/H+WmT0kt7p7tufdKk6h8WqZ2Q558I8jM7OjEUEHjI7b+Lh6NZiZzXa5h7hSXy+uxQ07M3umM6Zc75YddfqU8duDPwYW/wh4npndpM/1Oi0CIiACIiACIiACIrDKCeDmuoOZ7ZgEfmh6SvGjM9plrTvEtS38L86Ig+yPSnCLfiepLDKJsXVj0K1+XFelpI2ydq7Tg31Z/Sp9qY4IiIAIiMAICfjakAdlZo/LzA5O8pMRwkbYtZpukIBHLcb1N72HbD8y3Job7I6m8Pw42Jf7eGzuBXKImT3UzPgtoCQCIiACIiACIiACIrCRE8A6LLUQG8d0Q4wqluPoe5L7WAnBLe7BJHPR2ERABERABERABERABERABERABERABERABERABERABERABERg0yFQDIyxUmvvbTrERzNT1iksu5ej6a3TavzhLy1H2J2aFgEREAEREAEREAEREAEREAEREAEREAEREAEREAEREAEREAEREAEREAEREAEREAEREAEREAEREAEREAEREAEREAEREAEREAEREAEREAEREAEREAEREAEREAEREAEREAEREAEREAEREAEREAEREAEREAEREAEREAEREAEREAEREAEREAEREAEREAEREAEREAEREAEREAEREAEREAEREAEREAEREAEREAEREAEREAEREAEREAEREAEREAEREAEREAEREAEREAEREAEREAEREAEREAEREAEREAEREAEREAEREAEREAEREAEREAEREAEREAEREAEREAEREAEREAEREAEREAEREAEREAEREAEREAEREAEREAEREAEREAEREAEREAEREAEREAEREAEREAEREAEREAEREAEREAEREAEREAEREAEREAEREAEREAEREAEREAEREAEREAEREAEREAEREAEREAEREAEREAEREAEREAEREAEREAEREAEREAEREAEREAEREAEREAEREAEREAEREAEREAEREAEREAEREAEREAEREAEREAEREAEREAEREAEREAEREAEREAEREAEREAEREAEREAEREAEREAEREAEREAEREAEREAEREAEREAEREAEREAEREAEREAEREAEREAEREAEREAEREAEREAEREAEREAEREAEREAEREAEREAEREAEREAEREAEREAEREAEREAEREAEREAEREAEREAEREAEREAEREAEREAEREAEREAEREAEREAEREAEREAEREAEREAEREAEREAEREAEREAEREAEREAEREAEREAEREAEREAEREAEREAEREAEREAEREAEREAEREAEREAEREAEREAEREAEREAEREAEREAEREAEREAEREAEREAEREAEREAEREAEREAEREAEREAEREAEREAEREAEREAEREAEREAEREAEREAEREAEREAEREAEREAEREAEREAEREAEREAEREAEREAEREAEREAEREAEREAEREAEREAEREAEREAEREAEREAEREAEREAEREAEREAEREAEREAEREAEREAEREAEREAEREAEREAEREAEREAEREAEREAEREAEREAEREAEREAEREAEREAEREAEREAEREAEREAEREAEREAEREAEREAEREAEREAEREAEREAEREAEREAEREIEJI3AVM7u6mV11BcZF31cbc9/0x3wnKTEmspLZSj6PfAZ4NhjDKBLtDtr2uJ+RUbPoxnfc8+R+jLvPbnPXcREQAREQAREQAREQAREQAREQAREQAREQAREQAREQAREQAREQAREQAREQAREQAREQAREwu0aJNVmZ1VEcu5+ZfcjMDnB4cbwKS+piKURmu9e11zazW5rZNknDD8yPnWxmRw7QN5dE30mTXTcZ2zXza15qZh/0cfQab9eGGj6xWX6/XmZm65xPw82vmubiXtzbn8dH+8jjeJWJFOvyzBVTsU6c53NzlJm9x8zWxMEGy+3M7BAze4wtfka7NX19M7tZ8jnhGb+ePx8n+UWjtBalP9Jjzex9Zra/71ct4Bufy26soy2+C25uZnwGot83+nfCTlGpRhl99+s3bfKOOe95/15Ij2tbBERABERABERABERABERABERABCaGQLzo4rb4JH+J/aiZfcDMjndBY1sfbVE0iBfu55pZZmZv9npxvN8ki+1F/eLxGON9vB/Et+jjGD/21Zp9R191SsZ13VzoPMP7RIyMcdRpJ62LoLi5t4uI0S9fJ73Yt7c2s1/7mO5Ucr7XIe7dCzw/38zq5Of4dbRfvGe9+ux1Dr7kfhziPOzi+Yh7cYSzeLt3FMd79ZueQ9CBCc//Z1w4O87MnulCGnXL2uTefN37Rpgmxdh8d6hib2/7MjND5OuWGPslLoJSh2eMzzCfUXIc881lxT3N7Hl9Ms/Ji12MpIGURzwL7/T+jl3WQ/mBtI1ijW4c35+P819mdnBywUXe712SY6PcfJz398tRdqK2RUAEREAEREAEREAEREAEREAERGBQAvFSzYvyz/wlNkSCtPyDmT3VO0lf0mMbweU/uZD12pI63cZG34iOh5nZKWb2nVyoQCjAmpCUrrEX47y/j/FTieCAEEHfn/XrYky+27Wg3o3M7Kdm9mmvlfZZdiHXIE79yPvcIRlHWf1ex0IkgdnZZva7CvksMzu1ZKxb5VZWP/Ex7dmr0+RcME3v86DbNFtmKZd013czeMD2t7mg8/sKPKgHN6zAuDdx73mmeCbe5L3G8X6D2NLMeLYu6PFZONOF8rK2YMD9oe99vUJwLqvf6xg8inkvM7vQzM7JxUnGWjwfDLFQ5V7Gc40ACCPGhVhG4li3hHBa9Vn4pjdCezGe2D7B+0Sk75eC0+3M7A3+ffAxM5szs//qcfEnfKz88SLSn7xfeNVNr/PvhMP9whhXr3YOygXjK/x7oVc9nRMBERABERABERABERABERABERCBsROIF1usnXjZ/7eZfdnMWi5yMaDdzQwrHkQD6ryoMMoQVnC/5Twvz6Q47rulBW57f/TruBarJkryOwoujjFWBMAr83F9MukDAZBrPue9VOmbqogVuEkiivzKr8WFs1eibQTAH3ufTQiAuA4yp3+Y2fm5IPq3Lhnhh3oIlqR0rAiAHIdDXQEQa6nLnfnTXZBFQKuSn5Fbmj3bxxPik+/WLkJ8/YuPpx8POAUvXGPpP+79jLOoapHKdfBEzIIh7b7Qn4+YCGIS1oDxWXiEn4hnk10sAD/vbQwjADKXLUryPmbG/fqzi2JldRjHS/xZQcwkIciFBSCf8zjmm8uKG+fi4e3NbLokr/Vjh3ofIbzjYowoyZh4HrFQDAtAxlMlheUm94BxUpKxZuxmzYdIyOfiiUkH8OG6QQRALJ/5TniVt5fe36SLJZsIgIyB7wUlERABERABERABERABERABERABEZgoAogeNzSzEFzihZdBIsZcKxntI/2F+u8uDMSpEFzqCICIG4gD8ZJ+mq/fh7iHNRx98PL+lkTkipfwsABsUgCkL9xnSamo5oeWFMy3aQGQNdkYA6IVAgriyQ0KmeOIGdRrWgBEaEMAxL16JVMqAIZLJ26+RRbpfvCK5yOexzoCYAiXr3C+WFJyj0m0x+cgtZZD7IEXQlwIj169MQFwD7dC/D8vsUhE8ORe8QyQEYQ5HpnPMdsk1oOkzqACIPPmfpRlPiMcx8WZPkIAfKuLYJeaGRnRLkS8l/u4ehUPTuZ2opk93C0t35schwv3K+437SEAMo6mBECWF6C9+D5M++o2fgmA3cjouAiIgAiIgAiIgAiIgAiIgAiIwEQQCOHuBy5yhBgSg+PlN0QxAhvwYrzgwgjnQnCJdnDdow2uoYzzaXtss74YbeHuiYiTJtawwwIHkQXXP/qJl/CNUQBE7IBF6sKY8ojt23q9UQmACDDcr0FyjHGYsigAPmyAxuJ5qyMAxvPNM4fwSAARUrTlu50i6oZI9DQ/GXWbsgDE8g7rWNygcb8n4/aHElIkAAAgAElEQVR7biFzLM7jCs02aVgB0JvpWfA55bkNAZD1ERHmP+KiHGvz4aJNHcbTLQXTsKotsxbElZh2vuuNxLPC7qgEwFd7X/Hd0238HJcA2IuOzomACIiACIiACIiACIiACIiACKw4AV7ScV2LRfrLXnbj2B287rd8vbcQiphECICvd7GOF3Sui2vTiXKMIBoILo9KT7hoyKFYw4z2SCESbMwC4JN9rmXMOMXaaIggoxIAI2iFD2PsRYg6WLIhxGEBVjeFEFdHAKSPWzhb1vcjsEu/hNjF54bI16QYe1MCoDdbWiCsF4X6YkVENJ6VQS0AsX5jfrTRL+PyTAoGbMd9COGuTNSjXjzrLDVAP/xBAIvL4vywtERM5Duj6Ao8KgFQFoCd26p/REAEREAEREAEREAEREAEREAEVjsBXr6/4C/ej/HJxAt5cW64QOKOyUv6P5MABPGif5SfIwomFkBEESa/0htKX+jv623grsi6YWV9Trn7IC6QpAgw0aQASL+x/iHuiqTU7Zl9RI0QXCjhwJhxE4VFE2sAhgVgUwIga7dVScE9XID39/ky57o52qrSb7c6ISA1KQBGEJBufXKcsbPmHfcTC7qdelX2+rH+3f943Xi+mxIAGROid7gesy4nEXcJeIFlIJnP19F5tO5dfQzUDaE8BMCPJ3PhuUXUq7IGIO7QuPHy+eMz/ZuSjCDHON6d9FHcZE1QuHYTAIMbbr6MrSxYSDxbfK9QJwINRV9NC4BYNDJm/jhCiv7ZTr8L2I7vh8f62PheUBIBERABERABERABERABERABERCBiSLAiy0WQrxUYzHFfvqymw4WoQ/LKF6McTVETOAFuCgAcj7NRK0lhTDB9uO9zhcXTy2z9uHw1klUYvYRVhgbgRVof9g1AGPcRDaO8dJniFA+tK4FLtNcN0kCYERxRmBlnTyCPhD5tShqxqTiXocAOEjAhGiriTLYNykAEoQCBqx1CY+iuznjjmeTNf0Qx1jvkucjxhNzg1cI0V91a7Qn+Ml4npoSAKNPSsR1hLh4Tn+ej5Ec+4hwBG9JU1jQftvXjiSy9kP9mioCIMI97bfN7KZmtqNbSWIpmWa+E7b3jg/25QFYImCdX/sLb6ebC3AwZj5E0eXZLaZ4Tvne4LvqfX5/OA53RE7G2sQagNzf+GyHu3FxPGX7D/LnQUFAyujomAiIgAiIgAiIgAiIgAiIgAiIwIoTON5fnrHAIcXLtu92ihA3WOeKF22skHhx53icCxdgAncQBRQBihKrwWKiLi/yrClICisg3+0UBAkhIiv1WAcwEgIBYxhWAIw+sSaiPfoJ8SEYsOYeY0BgYM5k+v20R4nlukkSAEMUwnLrYs9YNnZzpY15IgDicotlZwSUqFpGkAosM0nRpu/WKkIMakIAnPX7SmTplMXXfEQh+rEbzzAiGvcUDjcqGXnMjUjY1Ptrbo22eUEobFoAjOed/lhvkM8Tln5ktjnGufT5ZeghAOIyi7BGGdvsk8K60HeXFCEAsqZn1RTBbBhPMXcLAhL3gfvEc3jXHp0hstHuqYU6TVoA3sRdjeGJ5SN/6CDFvX9j4fuA7wQsMRENuSbc8/0yFSIgAiIgAiIgAiIgAiIgAiIgAiIwGQQIeMBLNYIPi/qTwrIPYSSEMgQ5ovMiIiCuRArxJARABEVe6rGkoQxRJ+pThrgQi+xHG2kdxInP+NhYR+wZZvasPOoqkUYZLyJcXPd8P/Y5byCOp+0Vt0N4QOBjTry8F92VESPoi3OUaSZACfuTKABiofm/Zna65xDnigxC1MBK808elbkYZKLf/tl+XUQQjjaLfVXZj2elSQEQkQ4OwQPrMVL05bvrnyWs1+I+Yz2IAMfal7iKY4FGW5xHJLxzXJyUTQmA8QzjYszzGQFRYn08Ppdh2YnAS513JeMIARA3XZ5rhLyI0lvHAjDWwUuaXrLJ/eazyryxoMV9ms8EJVaXJzuvbi7AzJPMmLjvuP53S7i2w57AKFhFsg4jrtgRPKQJC0CCryBE8pk/PxlP3I/oK56RYokVrpIIiIAIiIAIiIAIiIAIiIAIiIAITBSBeKl9s79Y8/L6gJIR7mFmp3kdSl72I0UbIQCy5hcpjvvukuJt3lYIid3qfsDrFV+y2UccjOsGEQARUG7j7WN9hKCHpRgWPyFibZUHKznAmcCFjBUSggtrojGOJgVArLkQJhF2KIsZcYI+w8ooREzgMlaOc54gCZxDhCUHpyU3IdnZxdeRw+Kxbmb9uTWJpVTSbO3NEOVCADzQWcCjWy52EnONICCIXlx7XWfRy+qNa+F2WBK9Fp7FjMXX3sWOfb8pARAWZKzQ6B9LQ+5lMXEs1uZE5AyGsQYgY43EOdqqIgASFIh6380/74iAiPWUaYYtn1GsYhHk0hSfISyC6bObAMg1uGgjYBKABVfjbglX5OK9SPeHEQAZL/efcSL+hehfDI7EHwXiuyDK/XxdQq7RGoDd7p6Oi4AIiIAIiIAIiIAIiIAIiIAIrCgBhDDyB/3lGvfRX/lLPdZQCF1/83OIEVj1pCkElzoCYLjdvsYbijbSdlMLQOojxD3ahQhe+lm7MK6rKwDGdVgn8dL+32b2Hd8mqEK/hFhAtFLG0aQAyBpqvRJWVfTZTwDEYm01phCvQgBkvcd+aW0erAEBMyzHeJZJIQBWCQLilywpcGGnzcfl7uy4fT7HhR/WvEuF1yUXuThOVFzuU4w/xLBi3V77zIPn9Ov+XCJWcyxti/NkBFieY1zV43wIgHxOOIYISiRd6lURACN4B/Ookvk8kOIexn3Aepc+uwmAjI26uCVjrUmwk26J55qxYOH6lFwcRSDmO+F7fnwYAZBxc19jrcVwNz4vCXjUbVwcDytMrQHYi5LOiYAIiIAIiIAIiIAIiIAIiIAITAQBXnoR/HAHxSKOzAswbp4hjMWLfQw4xLQj3IonInTG8aiXloe7KPB2P1hsk8NYbH3J62H5FinWRBt2DUACF/Cyj/Cwex7N9EkuIuAS3GvsnGNs4QrYhABIoAWEjXMSV9Vw303LsDrE0ouUClGpBeCefn61FSEe4Y5eRXQq1mG+3BtSCIBYt5L63VPOp9kvq100ZQEYQl6sZXihC5LpPWcb8Y9zsMAlNlIqAHIMQZ0gKNSrIgDyDOFei9BGJlhOZKJVY62KS263iMnxmQ6XfVySy1JYZPKHB/7QgKt1t3QvHz+iaLRP3WHXAIxnAwERPt9w0TSsniNCetQrGx/royJ0SgAso6NjIiACIiACIiACIiACIiACIiACE0MgxBcGhJUfa7rdPQ/UcetkhKn4EIfjpfiF/vKMNR0pjvvukiLENiylSGnffqiznhhWRbxUh/sjokgTUYARD3BNRPxDTIiEwIYrIhaFpLI5cKxpARAhlCAcuCAjhHTLBPQgY/FESu9HVQEQyzZcFhF7R5EfmAdEIGNtVjeFqEOE3R96YAXmSsYVlUALuLQSsCYyLqgEn8BVk+vjWaojAJaNk/uMey33mucPN1u2OUZGuOJzcjt3m8ZyjXvAuSYsAGNMWO6xDmCIncwfqzryR5LjMAh+XHuMC30EqSDVFQD9skoFz2FwL16AkIhY2M2yL57hX/tnjzVJu6XH+vdBWDpyj8jDRgFmDAQawvKUzx6fC75rcPOOADJhgdltbBIAu5HRcREQAREQAREQAREQAREQAREQgYkjgEhA5qU6TbwgI0RQFjP1OcaL/nPN7J7+8hwWTGk7sc0LNi/aWODRblliLTrW5iOTEFZIBLRADBnUAhCRBJEBwY12EKoQLzi+sx+jTwKicLw4D9g0JQD6lDpjuJWvf4aLaa+MxRVroRVTVQGQ+0QAixCUmi4RUMndAo8Ux122v6VHkWZOkREuCTLRTWiKduLZ7ScAxn29n0d6RgjG+jMyVpZEVf6Fu8TjFs92ZM4TYANr2T+6eISlHOP7ovMdxgU45kPJZ4T15hBAi/cLsRTLuOLn6BVeNyLm8jllrT1E7/hMcaxXghGZAEB8Nlifr5h7Paucu3HuYo+1LQJqWYr7yeeZufEdUkxxrxB9+YNAWA5HvWEtAGnnFO+fcYSQSr8n+nHWR8W6M56v6DtKCYBBQqUIiIAIiIAIiIAIiIAIiIAIiMBEE+ClF+ElMoJL5DhWVkadLVwooOwnLCAGYPGDKyLWaGmKl+9n+4s36xCSEBlJwwiAvNAjJCKAIDYQVZjES32IDAgQnEMkYy7FNAoBsNjHIPtVBUAsOomEi9UUwknTGas0rNRwq16JFAJNVQEQK1esvIhwzT0vZiwuEZ3I1IvzuKuSiRQbGctHnv2mBcAiR4Q8cq+E0Itb/kO8Ep8frkH4Zk6kfp9Tr2aH+GeiKD7W2Y9gGtFmlPG54w8HtIf7Ld8B8T0Q9fjOiIAoiKFpGlYAxHWavrm/iJZpIigQaw5yHnfmbkkCYDcyOi4CIiACIiACIiACIiACIiACIjBRBGKB/Tov9d3q4vJHCjHGd5ccIzgDlmJYXhWFCKzhEFewEmSbFELBIAJgXIvlHFZUiDmIYIgMcc676Vhwvd9f+P9csibZqAVAREesrbB2q5OqCoB12lzpuliH3czMbl7B8i/GGs9cPwEw6tMHFmrwDmEtSsRthLSL3MIPN9YQvOP6YtnUGoDFdtlHxOOzgrVfzJPjjIm1KPms4LaK9SrcWPMvLGepx7VYPGIxSCo++354WUF9RE2sCatm3KCxqvu9ryWKS3K3FOI+a2DyncJag8X0AhcvscokpQLhIAJgWB4+ytdQxDLywc4k2MKHfnD/JUAJY2O9TkTBYpIAWCSifREQAREQAREQAREQAREQAREQgYkkcAszY70wLLgQx1jMHmshAoC8x626OBf5w7lb4ve9DmvnfcgzLnR39Rl2Exh4qUawQojjpfozZra/r8NFgAH65Dh9xIt6tDWIAMhwCJZwlreL+ybrukWb6Q3h5Z9zuIIyBsQfXDtJnCM37QIcbVMyf9Yii6ipIUZ0BtDjH3j+xEXVflGA4R+5yCCOD1sW2+0x9K6nEGx5DhF9ELiqpOB1mLOIKMBxvEobaR1crrEORAxGVIvEc1nMzLnpNQCjvyjj84DrOtaqn/OI1Lgi89wgqmNZyzZjZh1NPrPhnhzt1CmZF+Jhcb699sMl+W3+OYrnuVu/9MGzz2eO74VX5p//3fJo33vkn0cCC/HHAM4hRnIv0+drEAGQcbwo+Q4i4AmJ5z5N0Q+iKtafjIH1KYk8nSYJgCkNbYuACIiACIiACIiACIiACIiACEw0AV5244X3SH/Z5eWaxMt+nA8xBUsdXohZJyut47tdi+hjLxcsaIOMeBHbXyhYOcU1dQTAuAY3zxAbcedjTbNeCRGAOYYIyFqFCCAhio1SAMRtEwZv9AEG617j5RwWbAibXIvVWtWEtRtRdxFHi6JG1TZGVQ9RGvaIsGEJ2q+v4BXRcwn2Qorjvlu5wGU6BEAsEfulUVoARt/vcJEvPisIfljmfc3MvpwH7/mKW9YSRTvqUBLVG8vIcSb403c/ATDGhMt/jDk+s7F/gFeKz3VcU1cA5Pr5pJ/joqE+JYGRcJ9mPK8v1JUAWACiXREQAREQAREQAREQAREQAREQgcklEAIX5VH+osvLNfupAIbLHsdw9eVlOCKQYvXD8eILeq8Z46bI9bjmfsfXpHuxX0BbkaLNOgIg1yL84LKHGEL7tBkuh9F2WRl94w6MEBWJ9kYpAM450+O9w6rCFcITVm9YTpUFCYnxF8tUANy1eHKF9+GOJduFNQTAeE4Ql7E+Y10+Uhz33crFJAmAPJNE/+Uz949c9H2zW7b2mwws3u0CINc+0S+oyoRIx0T5fo5/L7A+Z798dL42IlZ1rOmHQFlFAIxn/WFu2YilHdcTBXmfHpOsKwDSFM8FlsbMixR9++6yIlhhkfjBZWfNJACWQNEhERABERABERABERABERABERCByScQlmgEdCCFIMZ2vAzjVoig8M7FKkvq+KGeRbRDJUS59CU83eZ81K0rAMYAaB+BMtqJ473K4hioy7FJFAB7zaPXOQRYrJpwISXy8iSlQQTApsc/SQIgASoQ/livDgvHSDzb3dxxU7EbqzXEOIKWkNJzfqi0QDDkcz5MLlrMlXZU+J7hc5amss8j5wcRALku3MphVyWl3x3p9yHXSgCsQlB1REAEREAEREAEREAEREAEREAEJo7AOATAmHT6Ys2x4n56bFABMPoatpx0AbCMXa85b8wCYF0WZZwmSQDE+ixEOMaKVW7VhGB1w8L1sU5fvzYe7e75PzUz3GAfYWYPrZix5iPQxjDicr/7OKgAyLz7td2PTZyXABgkVIqACIiACIiACIiACIiACIiACEw0AV6EEbcipy7AHENsiHNYzLAdLsCsAVis0/Rk40V9UxEAX9c0wC7tpQLgJK4BiAswaxQSjGMl0iQJgASyQQBkbTzEQBLCHp+N+Hz44fXHOB4Wbvv6tVgQkqoKiAiA9IsbPZ9zLAejzyolfXHdqNIwAmBTY5IA2BRJtSMCIiACIiACIiACIiACIiACIjBWAk/yl/739uj1kV4n1qvrUXXoUyFwbOwC4OHOlDXb1prZ7c1s95qZNdtC9OkHPgRAIsYiKrGW4GYDZKLfNp1SF+CpAcfG+o9VWZSNf5IEQILXEHkbAZA1M/tFe07ncz8z+7U/W+v8RNGNNa2fbiNuIQASrXsSkwTASbwrGpMIiIAIiIAIiIAIiIAIiIAIiMBEEQgR4FVm9hMz+7GXf/T1wv7m+7j/cZ4c2yyiz5piRGqN4wgT3/UZhmjXxISjLYQMLJg+nlgVPd8Fis95R6O0NqLtUa8B+C+PfMtabYNk7gHBPaok6hFl92Iz457/3szOrJGpT/6wdxbPU5W++9VBAESYJHrtIGP7jc/j4d5RPEP9+k3PE32Yz8A5ZjYJUYB3dCYIcgRHOS0f7DE5HwT7O5kZgiV19suDXDzBg8LwebzUPyMEwtkynWCF7XABJhoyn/2fecl2lcx3CvUQtEeRPuLfCcw3Es8NjAiAMo4kC8BxUFYfIiACIiACIiACIiACIiACIiACAxMIwYZAHue5mEdJDvEp9svKYh2CSSDWkAYRXPzSZUW0RTRQBBksE0PoI2owL/tf9qvi+LJGGjgALwTAn3ufBGZoor9og8Aq8Dsrj9b6hwHzN/MIsVtXnCv16A9X27L72+8Y4i85rMPiearYfc9qN3OrtX5j6HaeOfF8Hui9BOOenRZOIqYhiJ5RMboyFpRf9Wdj2AjEhaF0duNz8NJ8Lb7TPSgIz36vjFBIRF2i8g6S4HeZB4tBKK6bEZgRIEclxhElmO+ExySTY84w2Ts5NsrNx3p/vxhlJ2pbBERABERABERABERABERABERABIYlgKi1lVsHYSE0TN5i2MH0uB53TtxWcVONdIALUK/wAyGSxPkmS0QkgieckAsap3pghUGEpSbHNExbsOJ+DXO/uXbzYQbR5Vq4Djs2numqa92VDSPGgPttleeKvo41s8+6+3ZZm8MeS6P37pZHcH6qW/vx/OOOT36RWwUSwReROtIg7tDbmRnCO2LaXQbIXHdvM4PhKBLfBXGfQ4DmDwSI0ruOosOSNu+Ru2Sf4t8LJad1SAREQAREQAREQAREQAREQAREQAREoAkCVcSZJvqJNugvxIY41kRJu4g0tE05SB7FuJqY26bUxqhFYdqv0wfPRJ36q/1e8Tlaie+E1c5N4xcBERABERABERABERABERABERABERABERABERABERABERABERABERABERABERABERABERABERABERABERABERABERABERABERABERABERABERABERABERABERABERABERABERABERABERABERABERABERABERABERABERABERABERABERABERABERCBkROoG3Rh5APyIAeMq+lgB7RHuwSOKOZJ5DAO1pPSR9wb7kOTKb3fabtx/5vuL+1D2yIgAiIgAiIgAiIgAiIgAiIgAiIgAmMicC0zI/dLCAHUu0ZJxc3N7A5mdseSc2WHos+myrI+RnVsKzPb28ymvYOmRbhBxh1juIeZ3ckjCNdph3tbdl/L2qAe4lATaWdnedMKjTHHNWZ2TzPbskL91VIF9tfzXHfM3Ie9/J7DJ56DKu1cs0ulrbscp36d9rs0o8MiIAIiIAIiIAIiIAIiIAIiIAIiIAKrlQDi3zlm9jefwCQLBSGUILzEdjfuNzezj+X1XmJm1/VKDzazS8zsJ75/9W4Xj/D4E8zsE2a2n/dxbZ/LpWb2TzNDxBlEpHuimb3bzL5uZr8zs994+SMzOzlv+8hkTsPc47j2w87yRUm7ZZvMBc6MiznexytFO2XXpMcQDHfL53ar9OCEbDOuX5rZr81six5j4l6/z8ye53UQ5BDeL/Z7jjBbVcSNbhBgX21m3zGz35rZ2Wb2FzP7g+//IBcmX+fCa1yjUgREQAREQAREQAREQAREQAREQAREYBURCAugzMzI/+Xun92mgDhEvc94hVT42tPMznMxgtPdhJmwNIw+myrpM9ruNv4YE6IJFmc7mtl2ZnYdvyDOp+Nv+Zy/m4gzDzWz/5jZGX5dXdGl2/jqHH+Hj+sov4g5MH7GdUVNAZDnAIEzvRcXmdlfzewsM/uzmf3dzP6d1Dkx4VFn3FE3WCNiMuaXxokuZQiA3Afq38/rRTtdLlt/+LE+dgTNlUyMt5jXOms+P1iXFs/HHJ/tc/iyT4DnHcvBuOfcx6rPIlaDiH1xzxH9zjSzn5vZL7yMex91/mRm+6wkPPUtAiIgAiIgAiIgAiIgAiIgAiIgAiJQn0AIgIg7WFXdqI8A+Giv9x7vKhUAcf3F+o92SCFa+O76Iq6hjQW3NsPiLM1YmiEy/sPzp936LK0T2+8yM8QwUrTtu0uKsIZ7jJl9KxE+sFr8Ym5Zdi+vjVVgmqZcYPl2InghACKKYLVFqiq6ePUlBdZfzOEknwdzKcsnFKzX/tvHFRZ5IQAyrisrCoDcI65DhOM67t+bc2HzADO7vZntZGZYFt7M9/d1azGEIOqf5v0smVDJDuxhlOYQq7i3tPUKPx/H07pcH218z+vf3/vp9pwVh/EofzZ/WDwxAfu3NLP/M7Pz+4yFe43Yx/NKCgEw7nmw89PLCljB8UEu1HMdzx6f65uUfH5o/8a5NSDC/wed++Vm9jD/nqjKftlAdEAEREAEREAEREAEREAEREAEREAERGB8BEIA5KUeMYCX/aIAlo4mrKg+5AdTwa2qAJi212sbF1cs2cj0O0yKOT3HxTHmipss7pRskxEu6TNSiBthAYiLZLhnNiEARvu4dcYY+pUhUjLGt/t1RQtA2qgiAAaTF3o7CKHMtUq6hZnhEkxfb/ELEJYGSR/1dl7Q52KeNfKgAuCBLp79tE8/ozyNhe0bPL/RzMjHmxliOC7lZO5rnKN8vZkh/pKOdlZf8v26AmB8XhH8uXfhSuzNdYoQW4v3k+flxX7dZX5BfH+k12tbBERABERABERABERABERABERABERgwgjEC3wIgLgf9kpYhiEchACYWr41KQAibHzD+6K/z/caVMVzu5gZwgXi2PML1yC00M+5ZrZD4dyoBMDo5r4+JqwSCSpCAA+s79LM+op7FIJEDCsAhhh0uvcfloQxrn7lvf06mJHiWfLdJQVryP3YzHDfTTP3+MKEPRaF6Xm2EexibDxvq1kAxNWX54xnkLJKRgCnHgkBm+1BBUDa4Lmif9Z3RMitk6iPWzDX83lSEgEREAEREAEREAEREAEREAEREAERWAUEQrRBAOSl/ll50AdcZHEJLMtvdQEiXIDTKe7qLoz9XIDTa9JtLOLCKo2gBAgdrEf2fd+ONeIQgcJ6Lr2+3zYiFO6Tn/KKiIyIYLH+36kJA6pEH+MQAJnr53xcRcurbvMaVgAM1rhZc++531X75loEIMZNZj8Vg4tjJogK7FlDMM2IW/8yM54/yvRcbDM2rORIq10A3DZ3sz4s/5wcamYzuXv7Eb7/VLc+fbyZsR3nKPlMHu7zH9YCkGcad2PuGWv+sc2xfvc9ziOO46rM9WzHM+TDUyECIiACIiACIiACIiACIiACIiACIjCJBEIARHwJS6MQdXqVCHO4jhI4ArdAIri+09frw42RFAKa7/YswhoNoeEDLjCwHh2iIm6TWJkxnnbSSi/BKanW2dwmX7fsZy503cVPxvgoaYu+6INIrOxH++MUAGMslGU5ndewAmAwZ21DxDbWFCQhjCLs0H+a2Oc4awKSZl3Ui6Aa8Sz56SUFQtPu7mIMzzRzHOtGrOPS47HNuQhOwz0Z1gKQ54DnbJA8CsGLcWA9e0geRfvJZoa1Z7d+cPfmGSUICNdtloujRDdGJCVzD+K5XXIDfCfOEeGXdrAkjPtMn1wfbcQ2/ZB4Lr7q1zWx9qU3q0IEREAEREAEREAEREAEREAEREAERGDUBHjJJ4UFIFZyiHrHlGSEvlivDfGgLNPOIAIgIsQ9E6EP8Q9XxUg7m9nvvU/EQNxPQ7iIOr1KRBUEzrBODCEkrkEMg0X0gVVgsEGIYq5NrwEYfeMCTPthARjCXJzvVg4rAAa/hyT38pUuPnUToBgL5xCrEJwY95wPsNc13eZQ5zhCVBMC4EquAZjO9wZ5cJX5hGP6eYItgWCI8JumEABTF2AiWnNtFQGQtrhPRL7+rV/HZ+JNZnabRBTl2YA3GfGW7wXWzKSfP/r1o77f6by1LQIiIAIiIAIiIAIiIAIiIAIiIAIiMASBELlCAKy6BiDrxiEIvjwXFHDNRTAkii3upFUFQMQF1hQjoiiiDOIClmhEpA0rs3Rq1KePi73uGR4c5NZJcI60frqN1R8CCWvOIW4UBUDEDNpH4KTezV0ooY013t/GJgAytxBxCLLCvQsRCmtA1psjWpqi98wAACAASURBVCyBR+6Xc0d8elXunnqB18Ol97gUcs1tois/2F1gua/PyEVWIvsiOJUl7s+wAiDzIwDGh/P1Fj9eM38yf0Ze5gNjLMMkhD3WRGQ8v/DAH083s6d5UJX4PGBpt3XS0bP9GtxwCWCDOztRlHlmaYvPc/HZTi5fv8l9v75bfcY44t5TIsCn+2xjOYlgicVhPDfrG9SGCIiACIiACIiACIiACIiACIiACIjA5BJIBUBe8m/qAgICR1k+2IWBYdYAvE8u/C24xduZidCA8Levo0KkCws1DrEdosPdXLgIgeJ8MyOAxvtzUQVrtrJE1F5EEsQSUtHKjrbp490+HtZBxEILQZT+6IuAFE1GAfah2LAWgAh1iD6MDTdNxspcEY6qCFXBGTdUBD6iAQfbshKhkKApjJsU1/tuz4K6CEhEtQ2LsmIfuKcSEZh7lLbNXIYRABGaEc7OSyLuIlZXyYjOBJD5jM+u+Pz0nHRyMubD2n/Mm+cRa7xigtEHvU4qsoYAiDVriO2MHzGW9qoKgGl/iJH7+Nqfz83dil/j95eSYDl8FrjXjElJBERABERABERABERABERABERABERgFRIoCoA3ToS2dDohXGAphtCQRgGOc1WjAGOxF1Z8CBlYVrHOWx1RBcFuexesfuVjQlC6UTroREAikALjfoufLwpjMYfXez1EFaLTYi0WlnE/nFABMFxwY07Ms44AWEDWcTtlzcQ9zWx/F1UpcdHmeIigxev67cP4umZGpF/GSGbtyN28XaIfIwzGOazN0jSsAMjzhdg1TI6AMem46mzHM/4Vv0dh7RjPH22xzfONAM19/Gbijh4uwF8zM1x/uR8889Qj1xUA036rzKNu/Sptqo4IiIAIiIAIiIAIiIAIiIAIiIAIiMCICYQAyDpgWBGx7h5uuTcrZFxiORaBH7BOIoWgwXZVATDqsi5fpBA9Yr9fSf0QvKiLMMMYiykEC6KoIixhuUZKr2U/6mH1RD0ipCIsEhDkbD82aQLgiT4uLNoYK2u6EZADIYg5VLUAXCQy2n+DN/wZG+7bRMQlcY7nKCw8cQ1GfKUegjMp7ndqARjBXLxK34L26WeYHPPo21mXCuGeiws994l7xHji+eMytvlckqlD3XCJDwGwThAQruWzy+ejX+azX8z9ruE87WN9qiQCIiACIiACIiACIiACIiACIiACIjCBBEIARGzpl0NYoh5rj5EQLyJVEQBDhIlrEO4QKGgHcaVuRnSIgB3RdghJ0QclLsCMmzX+SOm42Y9r1nm9J/i4sFhjXlw7aWsAsm4e42L9RqwUsYAkx30qEwA59shcMDyoQn60u3/iAkpmv991B5oZGUvSNHFfsRxkvH/NLUhv5yeL9yEEMtYeJDI18yFxn2mD8z/wdv4nP8HakxG0BrfaeJ4Xr5q8f+M5I4AL94myW3qD18ESMgTCEADTICBYNMKV9ph/MIx2WcMRQbWKq/MgdbhHrBm4V3SoUgREQAREQAREQAREQAREQAREQAREYLIIhACDEPHO3JIHsaFXxuqs7QEbmEkIGmzjMoo1Gu69pBAtfHdFC9bxQyD5uo8i5h2DYh7kj3m9NALxpAYBIUoswg+BKXADxZ30JokYVCYAco/C/Zprm84hPsZajvCN5wA3YqxMWfeuyD/uQ5SsN4flG+PDFZZ7wzWIWz/qMm7W6EMMI9EnPHbJg2UQQXoUeVd3wfUuaxW4wSOEMj+CcMBrp3wNylu5q/W3/RzrW+IiHWkQAfDOHmSHYCOjyD/PXcV/krvy7x6DVCkCIiACIiACIiACIiACIiACIiACIrDxEkBc+pNHiWWWIfywHUIhkU5Z5+1NFfKbc4GFNfvIbFe55m2J22j0Sf+sL4c4hUBJKlpJhbiEkIEog1ViuDS2/NikWQAi2jJWRCFYY63InDnGXMsEQEQmBF6CuBDwpFemTjH3qs+5d+VCFpZ5uPFGivvAen+MjQAw/RL8P+vzCFdf7hk5LAB5LogczPqOlIf4efqDBcFE6G+U+VifCNaJdRPPJEFwsHQsjhGrTly6WXcxTQR8oS5rAJJ4RhE9ud+Iq2UWgF5VhQiIgAiIgAiIgAiIgAiIgAiIgAiIwKZOIHW9HZQFbWAth2BWTCG4/bRE7CiKH8Pun+qdp1ZmBAxh3TnaxrovFSepzviwvuI8kWIRVmLMq0EAZA64QjMv5tBNACzel3HsB2siyf7bzHBfZazdEvVxF477dX13/w2R9ns+x3t0aQABECEMwRiLTty+m84f9rZxpybFHH23b5HWx7X6xW6Bi4UtFp2PSlpg3pGf4utSnuznQwCMz0yZAEhfPMuRQ5BNuhhoM+5HtJvOaaAGdZEIiIAIiIAIiIAIiIAIiIAIiIAIiMDoCYQw8BAze3jugvmImvlhZvYAM9uvZKghDuA2iUtilfxEj8JLJF4EkSrXUAchryxhHYgwhqUaCQGDcWFtRnqvn8eijhQ8xiUAIlwyJsSxEHyiRNghB0fGl1oAsl9VAGRexYx4Gxw6k3e3YiwGcU/FlZbgEGmiPuMrthXc0roxL4Qq1pljXUXqFS3nQnRlDUYs4wjGQmLu1OV8CICMCx4cp0zZ+GVLjsf1jIVUVt9PVSqauH6QNrD428znjQDIfScozwf8fhSZFidD8JUv5laxn/OS7Tr5C2b2Vb8nZfe62J/2RUAEREAEREAEREAEREAEREAEREAEJogAIguJgBK4E4ZVUZ0SCy/WYiMNIm74pZ2CNcUIXkDeMT0x4DaiE+NjPk91sYSmEEzm/DjWf7cptD8OARBh8vMuqiDuhOAXJcdwa8XCkm3SoAKgX76sQEg6wNdz63XP/5jfE6JBxziWNVRyIISicGHFFRtRsfiMUO/eybP3QG+LeiHghQB4/+RcSZfLDnE9glkIgMsqTMgB7jlC+eNzce9VZna8u/xiOck2bse4OxN9NwTTOkP/ryTACiJrncznB/dkng8E4LivdfpXXREQAREQAREQAREQAREQAREQAREQgRUkEAIggQd4yT8lD57wvhoZC7aLXEBkGkVxp+7U9kgEwG5WfVXbDKGCdeNC3PpGfjFRZLFmimOHJw3G+EctAN7PLQ8RTv/swSEIEEG+wNctjPFREkGXsUUQkLBYrGoBmExx/T06OBFHEXlOMzMsvVgDkGeAEosxmHGPYzxE4K2aGDPiG5ZqcT3rEeICi9UpgtcnknOvKwhMwwqAz3f3boLYkOL++u6KFwjPLzSz3ycMghOCfJkoj0s90Y8RA6smPgu4xN/QS7ar5O080A8CMOOSAFiVuOqJgAiIgAiIgAiIgAiIgAiIgAiIwAQRCAEQl1te8BEF6iREOsTDS/2iYQWWJgVAhhQi4GHuWhziCiWWf1i/kWLcUY5aAGQtO9xiz03EP1xfEQC/n4sun8kjrH7Sg2cguN3MxzmsAIigBhPaDBaIZASn6Gbdh8i4Nr/PhybXEKCFRHtVElZruHenQmL0T/lrM3tQSXvDCoDH+ZhZF5AUz4PvrmhxV7/fzB8hGKEaF3w+AwTXSTNrWLL2IFG7gxsBQ7CoHHXCDfxs71cC4Khpq30REAEREAEREAEREAEREAEREAERGAGBVADEJRVLszoJF9u/TbAAmM4F8QLh7T6+1h37xTQuARAhiv5xTy1mLOY4T47xxDibcAGmP8RHhCTcoOskRKsQoLYsEez6tcWcdzCzA3NX1leYGUFCcE+N57B4/bAC4Cvd0pKAIKRJEQBZ048I07DEvZnozVXTjZNgKVjg8oz0E2Lhy1qZe9VYV5P6CMMIj0T65vuB+zcpDKvyUj0REAEREAEREAEREAEREAEREAER2OQJhPASFoC3rUlkNQmA6TpwbKf7Me0Q3EZtAUg/MYZiiZiDyBIldWNcTQiA+5vZFblF3h/M7JZJ28GgW8kYEP1wCcY1lTUVSTE23+1ZMNeiWBXzL7uQumkQkLprACIAIrJNkgAIr4g+zdjYZo5FLt14wAuLzBBiEXTjc1x2DcdwF476w5RYg0oA7EZZx0VABERABERABERABERABERABERgQgmEcLApCIDcAsSXXoJVnBu1ADjo49CEALiPu5zifow1XhXhifEiPOEm/ENfO5D1+0jBzHcrFSFw9ru2KQEQF+Boi7JurjSpipWY887J+n6buxVoxcs7EYC3cUEPq7wqAmAEAcFtmDUvEW+r5qeZ2dPzdSmf5dz63bOq81A9ERABERABERABERABERABERABERCBMRFIBUDEhN0SkYwX/X4ZF8HV4gJcBWmIGxurABjCG2vOYcX33w4l7nMZI84hmJGe4daDWJEhCA4SkdabqlSEaDdoFOCwAPz/9u48+Ld6juP46x9S2q1tssTN2kaWQrbipsnEDFLWFG2yR/ZImUFlKYRuqisqRYzImiUMCm3TrqKaJDUpWc/Lfb+vT2e+5/s953zP7/f7uvd5Zs49v7N9zuc8zvf+85rPckqrp83fRRvE2Jn+P+eu0F78rk3fIY+nt2cG9r1XFi1Jo5iRm40iMHR468CQBQEEEEAAAQQQQAABBBBAAAEEViKBDAA986y7hS6OLonulthmfUEEgLeFmYOKaZahJwHpW5fNIiA7R9JaUcguEaJcHPsZxvR9Rp/7HNg5uHtT3Nx1FmAHgP5GnoXXsz47yHM45rHhPA6dW6PlezmQ8v461YQkW0n6bFzv38mro5y57g46bQB4SPyu3fLtozGLsltRtl096crBYe26DLn4G2Z33KXVrMsPK75B+Sz/H/V3cKs/X3NG3OcAcNeWFcoA8Nz4ni1v4zIEEEAAAQQQQAABBBBAAAEEEFgRBLI1UAYR02ztMW0A6KDJs/N63WQBgLP+roctLopx71wVj53n0Oz8qJdbwM33ckLU653x4AwAXS+36nOIV4ZHo+qXoZ3D298WIZTHBPT4fg4Ej5LkUOpsSZcW11wQ4d+ocufimN/Fzj8Ne08a4iW/U+w2bvwe0/ymfe+dUXqG5Y0P63HC3WsvLOp4TXSxPjlCStf/65J+WblfW1x3XvVdduvwPHcB9kzd/sZLomyHm13XDEM7PJpLEUAAAQQQQAABBBBAAAEEEEBgoQUyDNpDksOItuOC1a/bc6AXeXy0cHMrt0UDldmnGLe22r8KyJ5fTLDwwghgHMR4yZZysTsvm+2iXu6i7MWzsjoMy5DrPhGYxenGTQZoDgw9JuCJki4vysnyvPXxb1ez1e4YrdBcaN7f+ICBTmQ3YwePrstOUW7b53vG3C0k2cutOvusHq/PS9tnxuUTN1mev5kn9ThM0hWS3Fqx9Pff7up7SbRG9DusO7H0u14w1CQgt961WPYQQAABBBBAAAEEEEAAAQQQQACB7gKrRWDj0CZbJ3YvZW7ucFfYrWOcRD8hA5y5eVq7UrMO7sLr7tML0SqxXU37X+V3fER0U87u2P1L404EEEAAAQQQQAABBBBAAAEEEEBgJRVwyDLtuqLR5Xh5s/Re/kbZanPIemVLO3dzdfBarm7puCIGi0P6DVGWuzvb2mvp72+Sx6f59mWZff+ei27QQ9hRBgIIIIAAAggggAACCCCAAAII/J8JZBA5i9V23WZxmWWzobxm1X6o96McBBBAAAEEEEAAAQQQQAABBBBAAAEEEEAAAQQQQAABBBBAAAEEEEAAAQQQQAABBBBAAAEEEEAAAQQQQAABBBBAAAEEEEBgIAF3y/TYZV7nc/FYaH7mNGOizWd9+z7L7zdr4+/5m7tO82WfBnQB7vsr4j4EEEAAAQQQQAABBBBAAAEEEEAAAQQQQAABBBBAAAEEEEAAAQQQQAABBBBAYJTAYyQtkXRYnBzXEtAtuLq24lpT0oMlrVd7+F6SvihpjzjetdwsLuvkVmZecz/PL9Q2Hd8u6bTqXTddqIqMeO4ukr4kaZ8419d+RNF3OZQtDF8r6RRJL7jLWXYQQAABBBBAAAEEEEAAAQQQQAABBOZFYLGkf0u6PJ42VHfVDJX2lXSHpLNq3Ywd/vm5X4jnZljU9qXb1PNuPQJLP991f7Skx7VcnyBpUa3iWb8fx3s+rXa+7+5qktaQtHqHNcPIfOYhUadT40D9fF437TYNHDb6Wx8aBeZvY9ryuR8BBBBAAAEEEEAAAQQQQAABBBBYYQXuVbXgeoSkh9dWt+ZbV9IqkjarnfO1j5TkAKlcdpB0p6Tz42CGNuU1+fezJLnlnoOxSUuGPAdE+POjWgDoVof/lHRMFNQ2AHS5WfaGknaXtJ+koyV9rirznZJ2q1rdbV5UsG3ZeYv9fiXpVkk3S/rzmNXnfZ1b+WW9XE46fife8ylZeM+tQzqvZ0r6g6SrW6xXxjXPrj3zPVGnE+P4OJ+Hjvgd1X93ue/f5CbFd04Dh7z+1gfH80qnWtXYRQABBBBAAAEEEEAAAQQQQAABBBCwwLsiVHOrqvr6Kklbjjie121XI3QA+HdJF8TxDG3KyzIg+lqU+6HyZMPfGfJkAHh2EQz5FgeArlPXANDhnAPIn495x3zX6yXtKsndkL1knWK3cXMPSRdGaHWDpCvGrD7vcOuMhtK+HfV8asP5toczAPxFPO9GSX6/cauDQp93K89yeW/UaWkczO9bXpN/39TCOb299fX3Duv8LR0fZRAApipbBBBAAAEEEEAAAQQQQAABBBBAYILA82JMtZMluRvnlyOw+pskt9LbWNLpMc6bx17z39dI8vkH1sruEgD6eQ4LP1ArY9Ruhm1DBoB+L7eoy8Dp15IOr+p0kKSXV63dHH56XLsPS/pWcd1F1f6TopJZr1F1zmMOAB2I+jk75sGG7U5x3W/i2XtL8upWid762S5nqADwZ1HeEyWtI2mtMauDT5/PIC5foUsA6FaEf5Xk57rbtn9PTat/i0dFF2U/K59LAJjybBFAAAEEEEAAAQQQQAABBBBAAIEeAh7nzou7c/4rWv95v2zVdV9J50Vw9KBlly//t0sA+JUo44PL727+I4O2oQJAh1kO/Bym3V79vXO0NGuqgUM8h2QZmLmrrrsFZ72a7vPxMgB0sOjWdw6zshWet3b39pVRpwwlm7ZDB4Duzt136RIAOjj+RzVG5EtbPKxuSwDYAo1LEEAAAQQQQAABBBBAAAEEEEAAgUkCGbL8JIIoj8NWX9zqz91YHRC6C20ZDs56AJh19dh+Dtc8XuEW9Rccs+/Zh38f936jRwDoMQZHLRl2vSzK9hiKB1bh5Ftj9ey/b5F0SZwfOgD0JCVpM6p+447NVQBYf2b+NmkBWJdhHwEEEEAAAQQQQAABBBBAAAEEEOggcPe49k/RxdeTNtQXh4I+7wDNS7Ya9N+zHgDm+znEc4C5x7JX+G/ru/izcZMhnbtF+14bjApI6wWULQDbBoBfrRcS+0OPAZgtGj3hi1sgOgT0e45b61UjAKyLsI8AAggggAACCCCAAAIIIIAAAgjMsIBbWXl1uOcusp4huL540gx347wqTmSo5t3/hwDQgWV2rd20Y8s326xa3P/kOs6I/T4BoFsX+lkO5LxmS8vvxbOHbgH4qBH1bnuIALCtFNchgAACCCCAAAIIIIAAAggggAACCyyQLdzcSs0B2XEN9dk+znsWXy9l11GfazsL8EKMAejwz4Gc38+TUWzQshtvvKoy7LyjQxDXJwD8ej4wtmmck5YMFQB69mO3ZvSYfA4zt52w+pp6q1ACwNrHYhcBBBBAAAEEEEAAAQQQQAABBBCYVYEMmX4o6Z+SXlOraJ5/f4RGni3YgZHDqAyO3hgBoMew8+JWbPUly5kmAPxRtIrLiTS+EIHcMfGwfEb92RngXR3Xb1MLMOvX1/cdkj4g7r1O0qL6BSP2+wSA34/uxW6h6NUt9Lw9p0PwOKIqyw/5u9guZxXOFpFtttk9OQPjhQoA/Tv04m+dXZbjEBsEEEAAAQQQQAABBBBAAAEEEEAAgSYBt4j7syTPcvvY2kUOjRy0XBgBYFNY5O7Bcx0AnlWr21EtA8AMJE+LbsxZjrv1ZqBVK3r5bo51+KkISM+VtMbys81/lAGgW9r5OWVo5X2Hcd56lmC7/q1h9aQlPj9tC0A/3+vbJNnuyFg/JunomBzlRkkOVI8oVl/3ktqrLlQA6N+hQ2R/y1OqyVxOl/TMqNukb1l7BXYRQAABBBBAAAEEEEAAAQQQQACBlUfAgZC7hP4qAiKHRLk4AHPglQHVp6sxAh0YZXj0kQhj5iMAvC1m4/VkHl5vaRkA5rt40osM0xwg5TIqOCqP7R8+5QQieW/TtgwAd2u6KI47ILTvTZIcMOZ6XozJ6GB2iACwqRp+1/zGl0nyrMeTloUKAO1QX18blS2/2aT6cx4BBBBAAAEEEEAAAQQQQAABBBBYaQQ84cfvIlR5WrRIyyAlg8BXRgB2RoPK0+dpDECPweeQzDPxuqWax/NzGDSpC3BZbb9LhoA3SNq1un9DSfeRtHoEYWtLWl+S38vj5WXgdEIUlC5lufW/MwB0t2qHpi+uJlB5RW11Xfz8z0TrwuxmWy9rqFmA/V29uv7l6pB3nXhPB4D2KM+Xf2fdFioA/KSkh0l6eHTF9natrBRbBBBAAAEEEEAAAQQQQAABBBBAAIH/CTjU8fLuCH5+FvvZ5dW77qLqxeccgjmw8n05Bl9uF89TAOgWiltL2qpqdbh51V3ZgWTXANDvs1M1+UVOrOH7PYHJFdVsxj+V9ItodefWhhn8uWtzjo2YJstkmv91AHh9UUaWNW5rZ8/862/gdbXYDjULcHNtlz3PdbskZjwed63PvSfebWlcmL+nUfddE12v3dKx65Ldt4+P572vawFcjwACCCCAAAIIIIAAAggggAACCKysAg5W7icpZ7bdIsK9uofHV3MwdKWkjeonY3+HeQoAf1B7/uejbl1aAGbrRgd0bvHo7swOFuvBnMea+2yMfedWkl0XB4UviuBwL0l7jll9fu8qfNyx9pAMv74b9ZtmDECP8+gAbtTqMQhdBxt4LMhjqxaRn4jVLe5s5NaJv4xJSVzNhWoBeHAYjQsca4zsIoAAAggggAACCCCAAAIIIIAAAiungGfGdaDj0Mez6TqwynCsFDkpuv/mmHmjrukTAB5SPmTC3wdEPc8uWiX6liVxvEsA2PSo+0u6NN51y6aL5vn4kAGgW016nMZ60Nlm312m3d3ak5RkSOmWeL63SwvA3Xv4pUG2AMwAcNTvsEfx3IIAAggggAACCCCAAAIIIIAAAgismAIOVb4VAc7FVQuvUS3cHLA8Osbbc9CTM62OEukTAH4oCnJX13vHeG6bSHpoFUg+pOqi+2RJ28Y1cxkAOvh0Hfzcy8PELe18zE7TBE2+N9fSLY+N2pbXZfg1RAtAf+NDY7Zfz/jr1TMbe819B6kfrsZX3FfSPtEq0fb28Orv7LESvfRpAegxEP3Oti1Xh9F+V9fR38G/gwdVM/yWrVIJAAOeDQIIIIAAAggggAACCCCAAAIIIDBOwGGXu05+JSad8AQVm464IbtXOhDyzLc/iWt8/6ilSwB4ckzCcXWU60k2PAnJVdHN2F2NPcNvTvjhcfD2i2BuLlsAbizJE2A47HziqJec8pgn+zizGl/vsCjHQdikJQNAj1fob/WUSTfM4/kuAaC/6e3RwvKcGGfRYy2Wa/4OfK3Xa6vQ0WMf5kIAmBJsEUAAAQQQQAABBBBAAAEEEEAAgRYCz4nunJ4Mw0sZRmX459ZaDsMcxLmFXlP45/u7BICnxHiBnnjD4aKDLXcxLVeHg26hmN1L91+gALB0WSbV/993xTtkqNWm7AwA52oSEI+B+IyiVV+Xt8suwO4i7mXc7yMDXX9rf/Om1V2U/Tu4pQo73erxxCjbGwLAAoM/EUAAAQQQQAABBBBAAAEEEEAAgWkFtouwymHMi2sB4aiy2wSAed86VbfT9Yp19TwxZjuXXYDzsevGDLgOPd31eejlHWF6VhTcJgDMMNaTdBwpya0Uh1jy2X5Xr8/vUagnDfEYkjmWY9Z1VFGebKb85qP+Xr/qouyJWepLhqBdAkDXJd+xXh77CCCAAAIIIIAAAggggAACCCCAwEoh4HCkKSTx2GzujutgyDO/en/S0iUAHFVWOR5c/u3gJ8OfrgFghj/bS3pjNbPt6yS5jKbV592l9YZokXh4i3tc1psjPGuyLN+1TwBY3j/k3+lzU/UOt0l6bo/C/c4eu29cy78exS4fG9Df3mVn+W0DQNeLBQEEEEAAAQQQQAABBBBAAAEEEEBgjIADlDUkHStpgzHXlaemDQDLssq/M6jqGgBmaOR3yFZuc7V1V1WHVZOCp1kMAG+tdQUv7Wfl7wyB2wSA/r2sWnUxPygmEJmVd6AeCCCAAAIIIIAAAggggAACCCCAwMwJZOjStmKzFgBmGOeJNz4u6aOS3Kpv3HpEdLN1V1v/Pe7aPPfJmCnXz8uwssmsHgA2XTcfx7OuGQDuXLS2y1Z3XbZZ3lzUPX+LkwLAvO6bRei7SssWrHNRb8pEAAEEEEAAAQQQQAABBBBAAAEEZl4gA5U2FZ21ALBNnef7mgwAcxKQNaOlpVtbtlk9VuJaLVoatnmvDOwyAJyLWY/b1KPNNfk7bBsAukWmW3t68pp7EgC2IeYaBBBAAAEEEEAAAQQQQAABBBBAYLLAXAeAHqPPM8T+oBgTzrVaEmHPMVHFbPmXNXbQNR9rPm/c1t1S/Q4ec89jLF4r6ZoO6xVxz6JxD2l5LgPAv0RQ5npc3GO9KO7Zp+Vz+1zWNgDMsteW9HpJW+UBtggggAACCCCAAAIIIIAAAggggAAC0wssjiDusigqQ5tpS86gas+YoONrtQBwaTz3uHhQPQCc9vlD3v8GSddL+mOs1xV/57Fx299L8j2bDlCpdHV9bq4mSnFLwFt6rr73wAHq1FRE/pZOim99aFyY71C/r+l4/Tr2EUAAAQQQQAABBBBAAAEEEEAAAQQ6sSVJ9gAAAnJJREFUCGwp6dQYb8+35SQcHYoYe6lnm3X3V3fpLBdPDuJQcL84OMvhj8ejc7ffaVa3bhsy5Nxa0hMkuQtw33UbSRuWH2Xgv/N9HaCeIeklLb513jNwVSgOAQQQQAABBBBAAAEEEEAAAQQQQGAhBGY59FsIjxX5mQR7K/LX5d0QQAABBBBAAAEEEEAAAQQQQAABBBBAAAEEEEAAAQQQQAABBBBAAAEEEEAAAQQQQAABBBBAAAEEEEAAAQQQQAABBBBAAAEEEEAAAQQQQAABBBBAAAEEEEAAAQQQQAABBBBAAAEEEEAAAQQQQAABBBBAAAEEEEAAAQQQQAABBBBAAAEEEEAAAQQQQAABBBBAAAEEEEAAAQQQQAABBBBAAAEEEEAAAQQQQAABBBBAAAEEEEAAAQQQQAABBBBAAAEEEEAAAQQQQAABBBBAAAEEEEAAAQQQQAABBBBAAAEEEEAAAQQQQAABBBBAAAEEEEAAAQQQQAABBBBAAAEEEEAAAQQQQAABBBBAAAEEEEAAAQQQQAABBBBAAAEEEEAAAQQQQAABBBBAAAEEEEAAAQQQQAABBBBAAAEEEEAAAQQQQAABBBBAAAEEEEAAAQQQQAABBBBAAAEEEEAAAQQQQAABBBBAAAEEEEAAAQQQQAABBBBAAAEEEEAAAQQQQAABBBBAAAEEEEAAAQQQQAABBBBAAAEEEEAAAQQQQAABBBBAAAEEEEAAAQQQQAABBBBAAAEEEEAAAQQQQAABBBBAAAEEEEAAAQQQQAABBBBAAAEEEEAAAQQQQAABBBBAAAEEEEAAAQQQQAABBBBAAAEEEEAAAQQQGCPwH8EKg0H7qakdAAAAAElFTkSuQmCC)\n"
      ],
      "metadata": {
        "id": "0HSxlm_Azfk2"
      }
    },
    {
      "cell_type": "code",
      "source": [
        "type(x_data)"
      ],
      "metadata": {
        "colab": {
          "base_uri": "https://localhost:8080/"
        },
        "id": "w2tGNbCz0wz5",
        "outputId": "5f782666-378a-46c6-96e2-4589eb5586bb"
      },
      "execution_count": 18,
      "outputs": [
        {
          "output_type": "execute_result",
          "data": {
            "text/plain": [
              "list"
            ]
          },
          "metadata": {},
          "execution_count": 18
        }
      ]
    },
    {
      "cell_type": "code",
      "source": [
        "#신경망에 리스트 타입을 넣을 수 없으므로 텐서로 바꿈\n",
        "##리스트를 텐서로 바꾸는 방법 2가지\n",
        "#1. 같은 길이가 되도록 리스트에 패딩 추가. (samples, sequence_length) 크기의 정수 텐서로 변환 -> 정수 텐서를 다룰 층을 신경망의 첫번째 층으로 사용(Embedding layer)\n",
        "#2. 리스트를 원-핫 인코딩(one-hot encoding)하여 0과 1의 벡터로 변환. [3, 5]를 인덱스 3과 5의 위치는 1이고 그 외는 모두 0인 10000차원의 벡터로 각각 변환 -> 부동 소수 벡터 데이터를 다룰 Dense 층을 신경망의 첫번째 층으로 사용\n",
        "##이번 코드에서는 2번째 방법 사용"
      ],
      "metadata": {
        "id": "FdvsY_It1Bxo"
      },
      "execution_count": 20,
      "outputs": []
    },
    {
      "cell_type": "code",
      "source": [
        "##6. 입력 시퀀스에 대해 원핫인코딩 수행\n",
        "## 문제(4) : x_data를 원핫인코딩 > numpy의 eye를 쓸 수 있지 않을까?\n",
        "x_one_hot = [np.eye(vocab_size)[x] for x in x_data]   #[##]\n",
        "\n",
        "x_one_hot[0]"
      ],
      "metadata": {
        "id": "5lPes1dvjlNb",
        "colab": {
          "base_uri": "https://localhost:8080/"
        },
        "outputId": "f1c7d0e0-bf75-4193-ec85-10e16b81b639"
      },
      "execution_count": 23,
      "outputs": [
        {
          "output_type": "execute_result",
          "data": {
            "text/plain": [
              "array([[0., 0., 0., 0., 0., 0., 0., 0., 0., 0., 0., 0., 0., 0., 0., 0.,\n",
              "        0., 0., 0., 0., 0., 0., 0., 0., 1., 0.],\n",
              "       [0., 0., 0., 0., 0., 1., 0., 0., 0., 0., 0., 0., 0., 0., 0., 0.,\n",
              "        0., 0., 0., 0., 0., 0., 0., 0., 0., 0.],\n",
              "       [0., 0., 0., 0., 0., 0., 0., 0., 0., 0., 0., 0., 0., 0., 0., 0.,\n",
              "        0., 0., 0., 0., 0., 0., 0., 1., 0., 0.],\n",
              "       [0., 0., 0., 0., 0., 0., 0., 0., 0., 0., 0., 0., 0., 0., 0., 0.,\n",
              "        0., 0., 0., 0., 0., 0., 1., 0., 0., 0.],\n",
              "       [0., 0., 0., 0., 0., 0., 0., 0., 0., 0., 0., 0., 0., 0., 1., 0.,\n",
              "        0., 0., 0., 0., 0., 0., 0., 0., 0., 0.],\n",
              "       [0., 0., 0., 0., 0., 0., 0., 0., 0., 0., 0., 0., 0., 0., 0., 0.,\n",
              "        1., 0., 0., 0., 0., 0., 0., 0., 0., 0.],\n",
              "       [0., 0., 0., 0., 0., 0., 0., 0., 0., 0., 0., 0., 0., 0., 0., 0.,\n",
              "        0., 0., 0., 0., 0., 1., 0., 0., 0., 0.],\n",
              "       [0., 0., 0., 0., 0., 0., 0., 0., 0., 0., 0., 1., 0., 0., 0., 0.,\n",
              "        0., 0., 0., 0., 0., 0., 0., 0., 0., 0.],\n",
              "       [0., 0., 0., 0., 0., 0., 0., 0., 0., 0., 1., 0., 0., 0., 0., 0.,\n",
              "        0., 0., 0., 0., 0., 0., 0., 0., 0., 0.],\n",
              "       [0., 0., 0., 0., 0., 0., 0., 0., 0., 0., 1., 0., 0., 0., 0., 0.,\n",
              "        0., 0., 0., 0., 0., 0., 0., 0., 0., 0.],\n",
              "       [0., 0., 0., 0., 0., 0., 0., 0., 0., 0., 0., 0., 0., 0., 0., 1.,\n",
              "        0., 0., 0., 0., 0., 0., 0., 0., 0., 0.],\n",
              "       [0., 0., 0., 0., 0., 0., 0., 0., 0., 0., 0., 0., 0., 0., 0., 0.,\n",
              "        1., 0., 0., 0., 0., 0., 0., 0., 0., 0.],\n",
              "       [0., 0., 0., 0., 0., 0., 0., 0., 0., 0., 0., 1., 0., 0., 0., 0.,\n",
              "        0., 0., 0., 0., 0., 0., 0., 0., 0., 0.],\n",
              "       [0., 0., 0., 0., 0., 1., 0., 0., 0., 0., 0., 0., 0., 0., 0., 0.,\n",
              "        0., 0., 0., 0., 0., 0., 0., 0., 0., 0.],\n",
              "       [0., 0., 0., 0., 0., 0., 0., 0., 0., 1., 0., 0., 0., 0., 0., 0.,\n",
              "        0., 0., 0., 0., 0., 0., 0., 0., 0., 0.]])"
            ]
          },
          "metadata": {},
          "execution_count": 23
        }
      ]
    },
    {
      "cell_type": "code",
      "source": [
        "torch.FloatTensor(x_one_hot)[0]   #부동소수형"
      ],
      "metadata": {
        "colab": {
          "base_uri": "https://localhost:8080/"
        },
        "id": "7sHb0m6F2Vdp",
        "outputId": "2d80b7f9-2a59-45a0-e05a-fe6554853770"
      },
      "execution_count": 28,
      "outputs": [
        {
          "output_type": "execute_result",
          "data": {
            "text/plain": [
              "tensor([[0., 0., 0., 0., 0., 0., 0., 0., 0., 0., 0., 0., 0., 0., 0., 0., 0., 0.,\n",
              "         0., 0., 0., 0., 0., 0., 1., 0.],\n",
              "        [0., 0., 0., 0., 0., 1., 0., 0., 0., 0., 0., 0., 0., 0., 0., 0., 0., 0.,\n",
              "         0., 0., 0., 0., 0., 0., 0., 0.],\n",
              "        [0., 0., 0., 0., 0., 0., 0., 0., 0., 0., 0., 0., 0., 0., 0., 0., 0., 0.,\n",
              "         0., 0., 0., 0., 0., 1., 0., 0.],\n",
              "        [0., 0., 0., 0., 0., 0., 0., 0., 0., 0., 0., 0., 0., 0., 0., 0., 0., 0.,\n",
              "         0., 0., 0., 0., 1., 0., 0., 0.],\n",
              "        [0., 0., 0., 0., 0., 0., 0., 0., 0., 0., 0., 0., 0., 0., 1., 0., 0., 0.,\n",
              "         0., 0., 0., 0., 0., 0., 0., 0.],\n",
              "        [0., 0., 0., 0., 0., 0., 0., 0., 0., 0., 0., 0., 0., 0., 0., 0., 1., 0.,\n",
              "         0., 0., 0., 0., 0., 0., 0., 0.],\n",
              "        [0., 0., 0., 0., 0., 0., 0., 0., 0., 0., 0., 0., 0., 0., 0., 0., 0., 0.,\n",
              "         0., 0., 0., 1., 0., 0., 0., 0.],\n",
              "        [0., 0., 0., 0., 0., 0., 0., 0., 0., 0., 0., 1., 0., 0., 0., 0., 0., 0.,\n",
              "         0., 0., 0., 0., 0., 0., 0., 0.],\n",
              "        [0., 0., 0., 0., 0., 0., 0., 0., 0., 0., 1., 0., 0., 0., 0., 0., 0., 0.,\n",
              "         0., 0., 0., 0., 0., 0., 0., 0.],\n",
              "        [0., 0., 0., 0., 0., 0., 0., 0., 0., 0., 1., 0., 0., 0., 0., 0., 0., 0.,\n",
              "         0., 0., 0., 0., 0., 0., 0., 0.],\n",
              "        [0., 0., 0., 0., 0., 0., 0., 0., 0., 0., 0., 0., 0., 0., 0., 1., 0., 0.,\n",
              "         0., 0., 0., 0., 0., 0., 0., 0.],\n",
              "        [0., 0., 0., 0., 0., 0., 0., 0., 0., 0., 0., 0., 0., 0., 0., 0., 1., 0.,\n",
              "         0., 0., 0., 0., 0., 0., 0., 0.],\n",
              "        [0., 0., 0., 0., 0., 0., 0., 0., 0., 0., 0., 1., 0., 0., 0., 0., 0., 0.,\n",
              "         0., 0., 0., 0., 0., 0., 0., 0.],\n",
              "        [0., 0., 0., 0., 0., 1., 0., 0., 0., 0., 0., 0., 0., 0., 0., 0., 0., 0.,\n",
              "         0., 0., 0., 0., 0., 0., 0., 0.],\n",
              "        [0., 0., 0., 0., 0., 0., 0., 0., 0., 1., 0., 0., 0., 0., 0., 0., 0., 0.,\n",
              "         0., 0., 0., 0., 0., 0., 0., 0.]])"
            ]
          },
          "metadata": {},
          "execution_count": 28
        }
      ]
    },
    {
      "cell_type": "code",
      "source": [
        "torch.LongTensor(x_one_hot)[0]    #정수형"
      ],
      "metadata": {
        "colab": {
          "base_uri": "https://localhost:8080/"
        },
        "id": "h4IDH_kf2M1q",
        "outputId": "bada8fd4-20ba-4d36-e505-4c7166b214a1"
      },
      "execution_count": 27,
      "outputs": [
        {
          "output_type": "execute_result",
          "data": {
            "text/plain": [
              "tensor([[0, 0, 0, 0, 0, 0, 0, 0, 0, 0, 0, 0, 0, 0, 0, 0, 0, 0, 0, 0, 0, 0, 0, 0,\n",
              "         1, 0],\n",
              "        [0, 0, 0, 0, 0, 1, 0, 0, 0, 0, 0, 0, 0, 0, 0, 0, 0, 0, 0, 0, 0, 0, 0, 0,\n",
              "         0, 0],\n",
              "        [0, 0, 0, 0, 0, 0, 0, 0, 0, 0, 0, 0, 0, 0, 0, 0, 0, 0, 0, 0, 0, 0, 0, 1,\n",
              "         0, 0],\n",
              "        [0, 0, 0, 0, 0, 0, 0, 0, 0, 0, 0, 0, 0, 0, 0, 0, 0, 0, 0, 0, 0, 0, 1, 0,\n",
              "         0, 0],\n",
              "        [0, 0, 0, 0, 0, 0, 0, 0, 0, 0, 0, 0, 0, 0, 1, 0, 0, 0, 0, 0, 0, 0, 0, 0,\n",
              "         0, 0],\n",
              "        [0, 0, 0, 0, 0, 0, 0, 0, 0, 0, 0, 0, 0, 0, 0, 0, 1, 0, 0, 0, 0, 0, 0, 0,\n",
              "         0, 0],\n",
              "        [0, 0, 0, 0, 0, 0, 0, 0, 0, 0, 0, 0, 0, 0, 0, 0, 0, 0, 0, 0, 0, 1, 0, 0,\n",
              "         0, 0],\n",
              "        [0, 0, 0, 0, 0, 0, 0, 0, 0, 0, 0, 1, 0, 0, 0, 0, 0, 0, 0, 0, 0, 0, 0, 0,\n",
              "         0, 0],\n",
              "        [0, 0, 0, 0, 0, 0, 0, 0, 0, 0, 1, 0, 0, 0, 0, 0, 0, 0, 0, 0, 0, 0, 0, 0,\n",
              "         0, 0],\n",
              "        [0, 0, 0, 0, 0, 0, 0, 0, 0, 0, 1, 0, 0, 0, 0, 0, 0, 0, 0, 0, 0, 0, 0, 0,\n",
              "         0, 0],\n",
              "        [0, 0, 0, 0, 0, 0, 0, 0, 0, 0, 0, 0, 0, 0, 0, 1, 0, 0, 0, 0, 0, 0, 0, 0,\n",
              "         0, 0],\n",
              "        [0, 0, 0, 0, 0, 0, 0, 0, 0, 0, 0, 0, 0, 0, 0, 0, 1, 0, 0, 0, 0, 0, 0, 0,\n",
              "         0, 0],\n",
              "        [0, 0, 0, 0, 0, 0, 0, 0, 0, 0, 0, 1, 0, 0, 0, 0, 0, 0, 0, 0, 0, 0, 0, 0,\n",
              "         0, 0],\n",
              "        [0, 0, 0, 0, 0, 1, 0, 0, 0, 0, 0, 0, 0, 0, 0, 0, 0, 0, 0, 0, 0, 0, 0, 0,\n",
              "         0, 0],\n",
              "        [0, 0, 0, 0, 0, 0, 0, 0, 0, 1, 0, 0, 0, 0, 0, 0, 0, 0, 0, 0, 0, 0, 0, 0,\n",
              "         0, 0]])"
            ]
          },
          "metadata": {},
          "execution_count": 27
        }
      ]
    },
    {
      "cell_type": "code",
      "source": [
        "torch.FloatTensor(y_data)[0]"
      ],
      "metadata": {
        "colab": {
          "base_uri": "https://localhost:8080/"
        },
        "id": "eKRObBgL2kQi",
        "outputId": "8c4199b0-dd15-4f6a-81b6-6921a589240d"
      },
      "execution_count": 32,
      "outputs": [
        {
          "output_type": "execute_result",
          "data": {
            "text/plain": [
              "tensor([ 5., 23., 22., 14., 16., 21., 11., 10., 10., 15., 16., 11.,  5.,  9.,\n",
              "        16.])"
            ]
          },
          "metadata": {},
          "execution_count": 32
        }
      ]
    },
    {
      "cell_type": "code",
      "source": [
        "torch.LongTensor(y_data)\n",
        "##둘 다 LongTensor로 하면 안되나?  -> X도 LongTensor로 해보니까 outputs = net(X) 부분에서 에러 뜸\n",
        "# ValueError: input must have the type torch.float32, got type torch.int64\n",
        "#backpropagation할 때 gradient를 계산하려면 부동소수점 형식이 더 처리하기 쉬으므로 파이토치의 신경망 모델은 일반적으로 부동소수점(float) 형식의 텐서를 입력으로 기대함"
      ],
      "metadata": {
        "colab": {
          "base_uri": "https://localhost:8080/"
        },
        "id": "BEukTKzM2t6j",
        "outputId": "f2709d52-a560-4fa6-f909-3869db898cf5"
      },
      "execution_count": 43,
      "outputs": [
        {
          "output_type": "execute_result",
          "data": {
            "text/plain": [
              "tensor([[ 5, 23, 22,  ...,  5,  9, 16],\n",
              "        [23, 22, 14,  ...,  9, 16,  1],\n",
              "        [22, 14, 16,  ..., 16,  1, 19],\n",
              "        ...,\n",
              "        [12, 16, 21,  ..., 23, 18,  8],\n",
              "        [16, 21,  9,  ..., 18,  8, 15],\n",
              "        [21,  9, 16,  ...,  8, 15,  7]])"
            ]
          },
          "metadata": {},
          "execution_count": 43
        }
      ]
    },
    {
      "cell_type": "code",
      "source": [
        "##7. 입력 데이터, 레이블 데이터 텐서로 변환\n",
        "## 문제(5) : x_one_hot과 y_data 텐서로 변환 : 둘 다 같은 형식의 텐서로 변환하면 될까?? (FloatTensor, LongTensor 중 맞는 것은?)\n",
        "X = torch.FloatTensor(x_one_hot)\n",
        "#X = torch.LongTensor(x_one_hot)\n",
        "Y = torch.LongTensor(y_data)"
      ],
      "metadata": {
        "id": "flnduuc71oOO"
      },
      "execution_count": 44,
      "outputs": []
    },
    {
      "cell_type": "markdown",
      "source": [
        "**텐서의 타입과 크기**\n",
        "\n",
        "\n",
        "*   torch.Tensor()의 기본 텐서 타입은 FloatTensor임\n",
        "*   32비트의 부동 소수점은 torch.FloatTensor를, 64비트의 부호 있는 정수는 torch.LongTensor를 사용\n",
        "\n"
      ],
      "metadata": {
        "id": "FlYwrt8w0Yzr"
      }
    },
    {
      "cell_type": "code",
      "source": [
        "##8. 크기 확인\n",
        "print('훈련 데이터의 크기 : {}'.format(X.shape))\n",
        "print('레이블의 크기 : {}'.format(Y.shape))"
      ],
      "metadata": {
        "colab": {
          "base_uri": "https://localhost:8080/"
        },
        "id": "lMZzZlaymMk8",
        "outputId": "8c16f70f-79ed-4319-f344-1b32e54c3f2c"
      },
      "execution_count": 45,
      "outputs": [
        {
          "output_type": "stream",
          "name": "stdout",
          "text": [
            "훈련 데이터의 크기 : torch.Size([183, 15, 26])\n",
            "레이블의 크기 : torch.Size([183, 15])\n"
          ]
        }
      ]
    },
    {
      "cell_type": "code",
      "source": [
        "##9.원핫인코딩 결과 샘플 확인하기\n",
        "print(X[0])"
      ],
      "metadata": {
        "colab": {
          "base_uri": "https://localhost:8080/"
        },
        "id": "knx1DE_AmSFB",
        "outputId": "0de343b2-72d2-424d-c5bc-12a46bcd43ab"
      },
      "execution_count": 46,
      "outputs": [
        {
          "output_type": "stream",
          "name": "stdout",
          "text": [
            "tensor([[0., 0., 0., 0., 0., 0., 0., 0., 0., 0., 0., 0., 0., 0., 0., 0., 0., 0.,\n",
            "         0., 0., 0., 0., 0., 0., 1., 0.],\n",
            "        [0., 0., 0., 0., 0., 1., 0., 0., 0., 0., 0., 0., 0., 0., 0., 0., 0., 0.,\n",
            "         0., 0., 0., 0., 0., 0., 0., 0.],\n",
            "        [0., 0., 0., 0., 0., 0., 0., 0., 0., 0., 0., 0., 0., 0., 0., 0., 0., 0.,\n",
            "         0., 0., 0., 0., 0., 1., 0., 0.],\n",
            "        [0., 0., 0., 0., 0., 0., 0., 0., 0., 0., 0., 0., 0., 0., 0., 0., 0., 0.,\n",
            "         0., 0., 0., 0., 1., 0., 0., 0.],\n",
            "        [0., 0., 0., 0., 0., 0., 0., 0., 0., 0., 0., 0., 0., 0., 1., 0., 0., 0.,\n",
            "         0., 0., 0., 0., 0., 0., 0., 0.],\n",
            "        [0., 0., 0., 0., 0., 0., 0., 0., 0., 0., 0., 0., 0., 0., 0., 0., 1., 0.,\n",
            "         0., 0., 0., 0., 0., 0., 0., 0.],\n",
            "        [0., 0., 0., 0., 0., 0., 0., 0., 0., 0., 0., 0., 0., 0., 0., 0., 0., 0.,\n",
            "         0., 0., 0., 1., 0., 0., 0., 0.],\n",
            "        [0., 0., 0., 0., 0., 0., 0., 0., 0., 0., 0., 1., 0., 0., 0., 0., 0., 0.,\n",
            "         0., 0., 0., 0., 0., 0., 0., 0.],\n",
            "        [0., 0., 0., 0., 0., 0., 0., 0., 0., 0., 1., 0., 0., 0., 0., 0., 0., 0.,\n",
            "         0., 0., 0., 0., 0., 0., 0., 0.],\n",
            "        [0., 0., 0., 0., 0., 0., 0., 0., 0., 0., 1., 0., 0., 0., 0., 0., 0., 0.,\n",
            "         0., 0., 0., 0., 0., 0., 0., 0.],\n",
            "        [0., 0., 0., 0., 0., 0., 0., 0., 0., 0., 0., 0., 0., 0., 0., 1., 0., 0.,\n",
            "         0., 0., 0., 0., 0., 0., 0., 0.],\n",
            "        [0., 0., 0., 0., 0., 0., 0., 0., 0., 0., 0., 0., 0., 0., 0., 0., 1., 0.,\n",
            "         0., 0., 0., 0., 0., 0., 0., 0.],\n",
            "        [0., 0., 0., 0., 0., 0., 0., 0., 0., 0., 0., 1., 0., 0., 0., 0., 0., 0.,\n",
            "         0., 0., 0., 0., 0., 0., 0., 0.],\n",
            "        [0., 0., 0., 0., 0., 1., 0., 0., 0., 0., 0., 0., 0., 0., 0., 0., 0., 0.,\n",
            "         0., 0., 0., 0., 0., 0., 0., 0.],\n",
            "        [0., 0., 0., 0., 0., 0., 0., 0., 0., 1., 0., 0., 0., 0., 0., 0., 0., 0.,\n",
            "         0., 0., 0., 0., 0., 0., 0., 0.]])\n"
          ]
        }
      ]
    },
    {
      "cell_type": "code",
      "source": [
        "##10. 레이블 데이터 샘플 확인하기\n",
        "print(Y[0])"
      ],
      "metadata": {
        "colab": {
          "base_uri": "https://localhost:8080/"
        },
        "id": "6pWDiH1SmYT_",
        "outputId": "0dad4441-5467-4a21-bd3d-36b29f197b7c"
      },
      "execution_count": 47,
      "outputs": [
        {
          "output_type": "stream",
          "name": "stdout",
          "text": [
            "tensor([ 5, 23, 22, 14, 16, 21, 11, 10, 10, 15, 16, 11,  5,  9, 16])\n"
          ]
        }
      ]
    },
    {
      "cell_type": "code",
      "source": [
        "##11. RNN 모델 구현\n",
        "\n",
        "##문제(6) : 기본 pytorch 인자 넣기 연습 + forward 채우기\n",
        "### 조건 : rnn layer 2개 쌓기 + 마지막은 fc layer\n",
        "### batch_fisrt 설정 필요할까? (유튜브 강의 참고)\n",
        "\n",
        "class Net(torch.nn.Module):\n",
        "  def __init__(self, input_dim, hidden_dim, layers):    # 현재 hidden_size는 dic_size와 같음\n",
        "    super(Net, self).__init__()\n",
        "    self.rnn = torch.nn.RNN(input_dim, hidden_dim, num_layers=layers, batch_first=True)   ##)RNN 셀1\n",
        "    self.fc = torch.nn.Linear(hidden_dim, hidden_dim, bias=True)   ##) 출력층\n",
        "\n",
        "  def forward(self, x):   #RNN 셀과 출력층을 연결\n",
        "    x, _status = self.rnn(x)    ##\n",
        "    x = self.fc(x)    ##\n",
        "    return x"
      ],
      "metadata": {
        "id": "-Ww22xu8mfUc"
      },
      "execution_count": 39,
      "outputs": []
    },
    {
      "cell_type": "code",
      "source": [
        "vocab_size"
      ],
      "metadata": {
        "colab": {
          "base_uri": "https://localhost:8080/"
        },
        "id": "VlA_ZaJs5sHC",
        "outputId": "542aafbf-2fc3-4072-d2f1-3b9ab6194ca1"
      },
      "execution_count": 49,
      "outputs": [
        {
          "output_type": "execute_result",
          "data": {
            "text/plain": [
              "26"
            ]
          },
          "metadata": {},
          "execution_count": 49
        }
      ]
    },
    {
      "cell_type": "code",
      "source": [
        "net = Net(vocab_size, hidden_size, 2)   #RNN layer 수를 2개로 설정\n",
        "# input_dim 매개변수 : 입력 데이터의 차원. vocab_size인 26으로 맞춰줌(위에서 format(X.shape)으로 확인한 값)\n",
        "# hidden_dim : 은닉 상태의 차원. hidden_size와 vocab_size 모두 26.\n",
        "## input_dim과 hidden_dim이 같아야 하는 이유 : 이전 타임 스텝의 출력(은닉 상태)을 현재 타임 스텝의 입력으로 사용하므로"
      ],
      "metadata": {
        "id": "No2GRvTpnLBl"
      },
      "execution_count": 50,
      "outputs": []
    },
    {
      "cell_type": "code",
      "source": [
        "##12. loss function\n",
        "criterion = torch.nn.CrossEntropyLoss()\n",
        "\n",
        "##13. optimizer\n",
        "optimizer = optim.Adam(net.parameters(), learning_rate)"
      ],
      "metadata": {
        "id": "9-zuJLeUnQLB"
      },
      "execution_count": 51,
      "outputs": []
    },
    {
      "cell_type": "code",
      "source": [
        "##14. 출력 크기 점검\n",
        "outputs = net(X)\n",
        "print(outputs.shape)"
      ],
      "metadata": {
        "colab": {
          "base_uri": "https://localhost:8080/"
        },
        "id": "z-RxRaiHnh9U",
        "outputId": "6806ead6-2be2-4e05-c1fa-80d2876a7435"
      },
      "execution_count": 52,
      "outputs": [
        {
          "output_type": "stream",
          "name": "stdout",
          "text": [
            "torch.Size([183, 15, 26])\n"
          ]
        }
      ]
    },
    {
      "cell_type": "code",
      "source": [
        "outputs[0]"
      ],
      "metadata": {
        "colab": {
          "base_uri": "https://localhost:8080/"
        },
        "id": "Csm1TUEx7GkH",
        "outputId": "c4fe0c7d-577e-410e-89c7-4116b40a2eb0"
      },
      "execution_count": 55,
      "outputs": [
        {
          "output_type": "execute_result",
          "data": {
            "text/plain": [
              "tensor([[ 2.6547e-02, -2.1440e-01,  1.1972e-01, -1.3411e-01,  2.5007e-01,\n",
              "          2.6759e-01,  1.2747e-01, -1.8045e-01, -1.5601e-01, -9.6848e-02,\n",
              "          3.2490e-01, -1.3813e-01, -1.5071e-02,  3.0859e-03, -2.7754e-02,\n",
              "         -1.3734e-01, -5.0020e-03, -4.5527e-02, -5.4868e-03, -2.2001e-02,\n",
              "          1.0394e-01,  8.7110e-02, -5.7183e-03,  2.1335e-01, -5.3445e-02,\n",
              "         -6.5541e-02],\n",
              "        [ 7.4137e-02, -2.5213e-01,  2.1089e-01, -9.4185e-02,  1.9634e-01,\n",
              "          1.4981e-01,  5.2472e-02, -1.9852e-01, -1.8421e-01, -2.0367e-01,\n",
              "          2.3536e-01, -6.4533e-02, -5.7774e-02,  3.5794e-02, -1.0649e-01,\n",
              "         -1.7275e-01,  6.1729e-03, -4.8610e-02, -2.5737e-02,  4.7755e-02,\n",
              "          2.1676e-01,  6.8056e-02,  5.7162e-02,  2.4966e-01,  2.8389e-04,\n",
              "          3.5252e-03],\n",
              "        [ 2.6333e-02, -2.7838e-01,  2.1320e-01, -1.7871e-01,  1.8204e-01,\n",
              "          1.7893e-01,  5.7391e-02, -2.4553e-01, -1.0397e-01, -1.9443e-01,\n",
              "          1.7530e-01, -1.6858e-02, -4.0378e-02, -8.7101e-02, -8.0698e-02,\n",
              "         -1.6503e-01,  2.4434e-02, -2.8728e-02,  6.6719e-02, -7.3841e-02,\n",
              "          2.7770e-01, -2.3226e-02, -3.7498e-02,  2.9803e-01,  6.5876e-02,\n",
              "         -9.3681e-02],\n",
              "        [ 8.7655e-02, -3.1412e-01,  2.2357e-01, -1.4576e-01,  1.7003e-01,\n",
              "          1.3898e-01,  1.0857e-01, -2.0688e-01, -1.6276e-01, -1.7466e-01,\n",
              "          2.1706e-01, -3.1150e-02, -6.1732e-02, -9.2659e-02, -1.2687e-01,\n",
              "         -2.4819e-01, -1.3719e-02, -1.1463e-01,  8.6627e-02, -6.1554e-02,\n",
              "          2.1185e-01, -4.7307e-03,  5.7885e-02,  2.8950e-01,  2.7647e-03,\n",
              "         -8.8329e-02],\n",
              "        [-3.2661e-02, -2.6406e-01,  1.8997e-01, -1.3815e-01,  1.4264e-01,\n",
              "          1.8882e-01,  8.1757e-02, -2.4307e-01, -2.0068e-01, -2.0685e-01,\n",
              "          1.9930e-01, -3.0168e-03, -5.6156e-03,  1.0529e-02, -9.5634e-02,\n",
              "         -1.8804e-01,  3.8370e-02, -4.2505e-02,  4.2374e-02, -5.9463e-02,\n",
              "          3.1671e-01,  2.4437e-02,  1.1962e-02,  2.7552e-01,  3.0450e-02,\n",
              "          1.5053e-02],\n",
              "        [ 1.5600e-02, -2.8523e-01,  2.2320e-01, -1.1348e-01,  1.5706e-01,\n",
              "          1.4680e-01,  7.0423e-02, -2.4486e-01, -5.6216e-02, -1.9647e-01,\n",
              "          1.5264e-01,  5.0741e-02, -1.3414e-01, -1.5429e-01, -7.5588e-02,\n",
              "         -1.9839e-01,  6.5613e-02, -6.0563e-02,  1.3027e-01, -7.6221e-02,\n",
              "          3.1209e-01, -7.8150e-02, -2.0390e-02,  3.0217e-01,  1.0828e-01,\n",
              "         -1.7366e-01],\n",
              "        [ 1.1631e-01, -1.8117e-01,  2.0613e-01, -2.0613e-01,  1.7240e-01,\n",
              "          1.4598e-01,  1.5045e-01, -2.3616e-01, -9.4446e-02, -2.2952e-01,\n",
              "          2.8411e-01, -2.4490e-02, -1.3051e-01, -4.8726e-02, -8.8164e-02,\n",
              "         -1.8115e-01,  6.9995e-02, -5.7168e-02,  5.0900e-02,  3.6550e-02,\n",
              "          2.2506e-01, -3.1832e-02, -3.3355e-03,  2.1015e-01,  1.5946e-02,\n",
              "         -7.6675e-02],\n",
              "        [ 6.2373e-02, -1.8284e-01,  3.6436e-01, -1.9085e-01,  1.5253e-01,\n",
              "          9.2981e-02,  5.0069e-02, -2.5943e-01, -6.8211e-02, -2.6135e-01,\n",
              "          2.1873e-01,  6.4761e-02, -6.5396e-02, -1.3953e-01, -1.5759e-01,\n",
              "         -1.9969e-01,  1.4919e-01,  8.0998e-02,  5.4069e-02, -9.5353e-02,\n",
              "          2.7888e-01, -9.0857e-02,  2.0596e-03,  1.6551e-01,  1.1912e-01,\n",
              "         -1.3748e-02],\n",
              "        [ 1.1038e-01, -2.4658e-01,  2.6356e-01, -1.6869e-01,  1.5119e-01,\n",
              "          8.4309e-02,  5.3382e-02, -1.8467e-01, -1.0597e-01, -1.9312e-01,\n",
              "          2.0252e-01,  6.5326e-02, -7.2138e-02, -7.9429e-02, -1.0750e-01,\n",
              "         -1.6784e-01,  5.8043e-02, -6.4425e-02,  6.9113e-02, -7.1632e-03,\n",
              "          2.7702e-01, -9.8854e-03, -7.3150e-03,  2.5676e-01,  2.5582e-02,\n",
              "         -6.7254e-02],\n",
              "        [ 6.3557e-02, -2.3736e-01,  2.7921e-01, -8.0183e-02,  1.7047e-01,\n",
              "          1.2359e-01,  1.1730e-01, -1.9024e-01, -1.4012e-01, -1.5268e-01,\n",
              "          2.5583e-01,  6.5559e-02, -2.5537e-03, -3.9596e-02, -1.4111e-01,\n",
              "         -1.7034e-01, -4.5712e-02, -4.1711e-02,  9.8877e-02, -4.7193e-02,\n",
              "          2.7525e-01, -4.3016e-02,  3.3979e-02,  3.0430e-01,  4.1398e-02,\n",
              "         -5.6177e-02],\n",
              "        [ 5.3814e-04, -2.5484e-01,  2.1030e-01, -1.1308e-01,  1.6652e-01,\n",
              "          1.4844e-01,  1.2259e-01, -2.0082e-01, -1.4226e-01, -1.2131e-01,\n",
              "          2.9628e-01,  3.9379e-02, -8.3976e-02, -2.1173e-02, -4.8341e-02,\n",
              "         -1.7559e-01, -3.7720e-02, -1.2623e-01,  1.2685e-01,  1.1544e-04,\n",
              "          2.5417e-01, -1.0004e-01,  3.9417e-02,  2.8733e-01,  4.8637e-02,\n",
              "         -1.1977e-01],\n",
              "        [ 4.6504e-02, -2.5165e-01,  2.9972e-01, -6.5214e-02,  1.2458e-01,\n",
              "          1.4595e-01,  1.2997e-01, -2.3033e-01, -1.5471e-01, -1.8256e-01,\n",
              "          2.7962e-01, -2.7995e-02,  4.9941e-02, -1.4131e-01, -1.4347e-01,\n",
              "         -2.7409e-01, -3.4355e-02, -1.1778e-01,  1.8149e-01, -1.7826e-01,\n",
              "          3.1338e-01, -5.0364e-02,  5.4498e-02,  3.4570e-01,  1.0855e-01,\n",
              "         -9.0029e-02],\n",
              "        [ 1.6431e-03, -2.6181e-01,  2.5394e-01, -2.0140e-01,  1.1166e-01,\n",
              "          1.9322e-01,  1.4610e-01, -3.4511e-01, -6.1514e-02, -1.6101e-01,\n",
              "          2.9524e-01,  1.1218e-01, -2.7029e-02, -1.2780e-01, -9.2015e-02,\n",
              "         -2.1244e-01,  4.9339e-02,  2.0577e-02,  1.6074e-01, -1.0174e-01,\n",
              "          2.9448e-01, -8.9771e-02, -1.0985e-02,  2.3408e-01,  1.0708e-01,\n",
              "         -1.6810e-01],\n",
              "        [ 9.0552e-02, -2.7030e-01,  2.8913e-01, -1.5171e-01,  2.1786e-01,\n",
              "          1.1879e-01, -3.8689e-02, -1.8442e-01, -1.6387e-01, -2.1292e-01,\n",
              "          1.5991e-01,  6.7277e-03, -7.8024e-02, -6.1491e-02, -8.7971e-02,\n",
              "         -2.3700e-01,  5.7882e-02, -9.4769e-02, -9.4825e-03, -6.1922e-03,\n",
              "          2.2046e-01, -1.7795e-02,  1.8392e-02,  2.4626e-01, -6.8282e-02,\n",
              "          1.5688e-02],\n",
              "        [ 1.9469e-02, -3.5041e-01,  1.9826e-01, -1.8660e-01,  9.2497e-02,\n",
              "          1.2721e-01,  9.3757e-02, -2.9893e-01, -7.5773e-02, -1.4633e-01,\n",
              "          1.0071e-01,  1.7739e-01,  4.3420e-02, -1.3139e-01, -1.7154e-01,\n",
              "         -2.5906e-01, -1.9920e-02,  5.9868e-03,  1.7361e-01, -1.2281e-01,\n",
              "          3.7086e-01, -8.4037e-02, -8.4934e-02,  2.8416e-01,  1.8479e-01,\n",
              "         -1.2847e-01]], grad_fn=<SelectBackward0>)"
            ]
          },
          "metadata": {},
          "execution_count": 55
        }
      ]
    },
    {
      "cell_type": "code",
      "source": [
        "Y[0]"
      ],
      "metadata": {
        "colab": {
          "base_uri": "https://localhost:8080/"
        },
        "id": "KFpmCL5q7LZq",
        "outputId": "66a20cb4-921c-4853-8103-12afdcf7eb2f"
      },
      "execution_count": 56,
      "outputs": [
        {
          "output_type": "execute_result",
          "data": {
            "text/plain": [
              "tensor([ 5, 23, 22, 14, 16, 21, 11, 10, 10, 15, 16, 11,  5,  9, 16])"
            ]
          },
          "metadata": {},
          "execution_count": 56
        }
      ]
    },
    {
      "cell_type": "code",
      "source": [
        "Y.view(-1)[0]"
      ],
      "metadata": {
        "colab": {
          "base_uri": "https://localhost:8080/"
        },
        "id": "uzM3xfdI8A38",
        "outputId": "ffe62227-6ebc-46ce-9c21-303e795d6d10"
      },
      "execution_count": 59,
      "outputs": [
        {
          "output_type": "execute_result",
          "data": {
            "text/plain": [
              "tensor(5)"
            ]
          },
          "metadata": {},
          "execution_count": 59
        }
      ]
    },
    {
      "cell_type": "code",
      "source": [
        "##15. Training 시작\n",
        "\n",
        "for i in range(200):    #에포크 수 100이 아니라 200으로 늘림\n",
        "    optimizer.zero_grad()   #매 반복마다 gradient 초기\n",
        "    outputs = net(X)    #각 시퀀스에 대한 예측값\n",
        "    ##문제(7) : outputs, Y 형태 그대로 넣으면 안되죠. view 함수를 이용해 loss값을 계산해봅시다.\n",
        "    #RNN 모델의 출력은 (배치 크기, 시퀀스 길이, 출력 차원)의 형태이며 Y는 (배치 크기, 시퀀스 길이)의 형태이므로 직접 비교할 수 없음\n",
        "    #outputs.view(-1, vocab_size) -> -1은 해당 차원의 크기를 자동으로 계산하여 남은 차원을 채우도록 하고, 출력값의 형태는 배치 크기x시퀀스 길이로 변한\n",
        "    #Y.view(-1) -> Y의 형태를 1차원으로 펼쳐 실제 클래스 레이블을 단일 벡터로 표현함\n",
        "    loss = criterion(outputs.view(-1, vocab_size), Y.view(-1))\n",
        "    loss.backward()\n",
        "    optimizer.step()    #가중치 업데이트\n",
        "\n",
        "    #16. 예측결과 확인\n",
        "    results = outputs.argmax(dim=2)     #outputs 중 가장 큰 확률값을 가진 인덱스를 선택하여 예측값을 계산. dim=2는 시퀀스 길이에 해당하는 차원을 기준으로 최댓값 선택\n",
        "    predict_str = \"\"       #예측된 문자열을 저장할 빈 문자열\n",
        "    for j, result in enumerate(results):\n",
        "        if j == 0: # 처음에는 예측 결과를 전부 가져오기 <- 그 이유? 첫 번째 시퀀스에 대해서는 이전 타임 스텝의 예측값이 없으므로 전체 예측값을 사용하여 문자열을 생성해줌\n",
        "            predict_str += ''.join([world_set[t] for t in result])    #예측된 클래스의 인덱스를 world_set에서 해당하는 문자로 변환하여 문자열에 추가\n",
        "        else: # 그 다음에는 마지막 글자만 반복 추가 <- 첫번째 이후부터 이전 타임 스텝에서의 예측값을 사용하여 문자열을 생성하므로, 예측한 전체 값을 저장하는 것이 아니라 예측값 중 마지막 문자만을 추가\n",
        "            predict_str += world_set[result[-1]]    #이렇게 한 단어씩 추가하는 방식으로 시퀀스를 연결하여 최종적으로 생성된 예측된 문자열을 반환\n",
        "\n",
        "    print(predict_str)"
      ],
      "metadata": {
        "colab": {
          "base_uri": "https://localhost:8080/"
        },
        "id": "uxxrxCd2nwoo",
        "outputId": "70799641-b91c-4e93-c24a-b1320c6f65d5"
      },
      "execution_count": 61,
      "outputs": [
        {
          "output_type": "stream",
          "name": "stdout",
          "text": [
            "liiifflmfililmffimflififlfmfiffffffmfffffifiififififimmfiiimmffimffiiiifflmfililmffiiiimflififfiiiiiifiiififiiffilfmflfiffimflilmffimmffimffiiiifflmfililmffimflififflmfififiifffiffffiiifimffiimmfil\n",
            "lmfmf  m mlm  ff mmlff flfmf fl fffmffffffffif f fif mmfff mm f mmf  fmf  m mlm  fffim mmlff fffmrfflmmfffmr f f m mfof ff mmlm mff mm f mmf  fmf  m mlm  ff mmlff fflmfffmfmmfff m fff mf    m mmffr\n",
            "r                      r                                                                                                                                               f                             \n",
            "r                                                                                                                                                                                                    \n",
            "r                                                                                                                                                                                                    \n",
            "                                                                                                                                                                                                     \n",
            "                                                                                                                                                                                                     \n",
            "                                                                                                                                                                                                     \n",
            "                                                                                                                                                                                                     \n",
            "                                                                                                                                                                                                     \n",
            "                                                                                                                                                                                                     \n",
            "                                                                                                                                                                                                     \n",
            "                                                                                                                                                                                                     \n",
            "                                                                                                                                                                                                     \n",
            "                                                                                                                                                                                                     \n",
            "                                                                                                                                                                                                     \n",
            "                                                                                                                                                                                                     \n",
            "                                                                                                                                                                                                     \n",
            "                                                                                                                                                                                                     \n",
            "                                                                                                                                                                                                     \n",
            "               t     t        t                    t                                       t                                                               t     t              t                    \n",
            "               t     t        t                t   t        t                        t     t                                         t                     t     t              t             t      \n",
            "      a     t  t     t   t    t   t   t        t   t     t  t            a     t     t     t  t                t                  t  t            a     t  t     t  t    t      t     t       t      \n",
            "     ta     t  t     t   t    t   t   t  t     t   t     th t           ta     t     t     t  t     t      t   t       a       a  t  t t         ta     t  t     t  t  t t  t   t     ta t    th     \n",
            "     ta    tt  th    t   t    t   t   t  t     t   th t  th t  h  t     ta    tt     th    th t     t      t   t       a    t  a  th t  h        ta    tt  th    th t  t t  t   t     th t    th t   \n",
            "     th    tt  th    th  tt   t   t   t  t     th  th t  th t  h  t     th    tt  t  th    th t  t  t  t   t   t       a  h t  a  th t  h  t     th    tt  th    th th t t  t   t     th th   th t   \n",
            "  t  th    tt  th    th  tt   t   t   t  tt    th  th t  th t  h  t     th    tt  t  th    th th t  t  t   t   th      a  h t  a  th t  h  t     th    tt  th    th th t t  th  t     th th   th t   \n",
            "  t  th    tt  th t  th  th   t   t   t  tt    th  th t  th t  h  t     th    tt  t  th    th th t  t  t   th  th      a  h t  a  th t  h  t     th    tt  th t  th th t t  th  th    th th   th t   \n",
            "  t  th    th  th t  th  th   t   th  t  tt    th  th t  th t  h  t     th    th  t  th    th th t  t  t   th  th      r  h t  a  th t th  t     th    th  th t  th th t th th  th    th th   th t   \n",
            "  t  th    th  th    th  th   t   th  th tt    th  th t  th t th  t     the   th  t  th    th th t  t th   th  th      r  h t  a  th t th  t     the   th  th    th th t th th  th    th th   th t   \n",
            "  t  the   th  th    th  th   t   th  th tth   th  th t  th t th  t     the   th  th th    th th t th  h   th  th      r  h t  he th t th  t     the   th  th    th th t th th  th    th th   th t   \n",
            "  t  the   the th    th  th   t   th  th tth   th  th t  th t th   h    the   the  h th    th th t th  h   th  th      r  h t  he th t th        the   the th    th th t th th  th    the  t  th t   \n",
            "  t  the   the th    to  the  t   th  th  th   th  th t  th t the  h    ths   the  h th    th th t th  h   th  th      r  h r  hs thet the       ths   the th    th th t th th  th    the  t  th t   \n",
            "  t  ths   tae th    to  the  t   th  th  th   th  th t  th t the  he   ths   tae  h th    th th t th  h   th  th      re h r  hs ther the       ths   tae th    th th t th th  th    the  t  thet   \n",
            "  t  thl   tae th    to  the  t   tr  th  th   th  th t  thet the  he   thl   tae  h th    th th t th th   ths th      re h r  hs ther the  he   thl   tae th    th th t th th  ths   the  t  thet   \n",
            "  t  thl   tae th    to  tae  t   tr  th  th   th  th t  thet the  he   thl   tre  h th    th th t th th   ths th      re h r  as ther the  he   thl   tre th    th th t th th  ths   the  t  thet   \n",
            "  t  thl   tre th r  to  tre  t   tr  th  th   th  th t  thet the the   thl   tre  h th    th th t tr th   ths th      re h r  as ther the  he   thl   tre th r  th th t th th  tos   thet t  thet   \n",
            "  t  thl   tre th r  to  trl  t   ar  th  th   th  th t  thet the toe   thl   tre    th    th th totr th   tos th      re h r  al ther the toe   thl   tre th r  th th t th to  tos   theths  thet   \n",
            "  t  thl   tre th r  to  trl  t   ar  t   th   th  th r  thet the toe   thl   tre t  th    th th totr th   toe th      re h r  al ther the toe   thl   tre th r  th th t to to  tos   theths  thet   \n",
            "  t  tal   tre th r  to  trl  t   ar  t   th t th  th r  thet the toen  tal   tre th th    th th towr th   tos th      re h r  al ther the toen  tal   tre th r  to th t to to  tos l theths  ther   \n",
            "  t   al   tre th r  to  trl  t   ar  to  th t th  th r  thet the toen  tal   tre  h the   th th towr ta   tos th      re h r  al ther the toen  tal   tre th r  to thet to to  tosll th ths  ther   \n",
            "  t   al   tre th r  to  trl  t   ar  th  to t th  th r  thet the toen  tal   tre  a the   th th towr ta   tos th      re h r  al ther the toen  tal   tre th r  to thet to to  tosll th ths  ther   \n",
            "  t   al   tre th r  to  trl  t   tr  th  to t th  th r  thet the taen  tal   tre  a the   th th retr ta   tos th      re h r  al ther the taen  tal   tre th r  th thet to to  tosll ta ths  ther   \n",
            "  t   all  tre ther  to  trl  t   tr  th  th t th  th r  thet the taen  tall  tre  a the   th th retr ta   tos th      rether  al ther the taen  tall  tre ther  th thet te tor torll ta ths  ther   \n",
            "  t   all  tre ther  to  trr  t   tr  th  th t th  ther  thet the taen  tall  tre  a the   th th rets ta   tos tht     rether  al ther the taen  tall  tre ther  th thet te tor torll ta thn  ther   \n",
            "  t   all  are ther  to  trre t   tr  tht tr t th  ther  thet the taen  tall  are  a the   th th r ts ta h tos tht     rether tal ther the taen  tall  are ther  th thet te tor torll ta thn  ther   \n",
            "  t   alls are ther  to  trre t   tr  tht tr t th  ther  thet the taen  talls are  a the   th th r ts t  h tos tht     rether tal ther the taen  talls are ther  th thet te tor torll ta thn  ther   \n",
            "  n   alls are ther  to  trte t   tr  tht tr t th  ther  thet the baeck talls are  a the   th th r ts t  h tos thth    rether tal ther the baeck talls are ther  th thet te tor torll ta thn  ther   \n",
            "  n   alls are ther  ton trte t   ar  tht tu t th  ther  thet the baeck talls are  a the   th th r ts ta h tos thth    rether aal thet the baeck talls are ther  th thet te tor torll te thn  ther   \n",
            "  nk  alls are ther  ton trbe t   ar  tot tu t th  ther  thet the baeck talls are  a the   th th r ts ta h tos thth    rether aal thet the baeck talls are ther  th thet ts tor trrll te thn  ther   \n",
            " enk  alls are ther  ton trbe t   ar  tot tus  th  ther  thet the baeck talls are  a the   th th r ts ta   tos thth    rether aal thet the baeck talls are ther  th thet ts tor trrll te thn  ther   \n",
            " enk talls are there ton trbe t   are tot tus  th  ther  thet the bueck talls are  a the   th to r us ha   bos tht     rether aal thet the baeck talls are there th thet ts tor trrll te tan  ther   \n",
            " eck talls are there ton trbe t   are tot tus  th  ther  thet the bueck talls are  a the   th to reus hu   bes tothe   rether aal ther the bueck talls are there th thet ts ao  trnll te tan  then   \n",
            "reck talls are there ton trbe t   are tot tus  tot ther  thet the bueck talls are  t the   th to reus hu   bes tothe e rether aal ther the bueck talls are there th thet ts aor trlll te tan  then   \n",
            "reck talls are there ton trbe t   are tot tus  tot ther  thet the bueck talls are  t the e th to reus hu h bus tothe e rether aal ther the bueck talls are there th toet ts hor trlll te tan  then   \n",
            "reck talls are there ton trbe t   are tot tus  tot ther  thet the buick talls are  t the e th to reus hu h bus tothe e rether aal thet the buick talls are there to toet ts hor trlll te tal  then   \n",
            "reck talls are there ton trbe t   are tot tus  tot ther  thet the buick talls are  t the e th to reus hu h bus tothe e rether aal thet the buick talls are there to thet ts hot trlll te tal  then   \n",
            "reck talls are there ton tsbe to  are tot tust tot ther  thet the buick talls are  t the e th to r us hu h bus tothe e r ther aal thet the buick talls are there to thew ts hot trlll te tal  then   \n",
            "reck talls are there ton tsbe to  are tou tust tot ther  thet the buick talls are  t there th to r us hu h bus tothe e r ther aal thet the buick talls are there to thew ts how trlll te tal  then   \n",
            "reck walls are there ton tsbe to  are tou tust tot ther  thet the buick walls are  t there th to r us hu h bus tothe e r ther aal thet the buick walls are there to thew ts how tulll te wal  then   \n",
            "reck walls are there ton asbe to  are tou trst tot ther  thet the buick walls are  t there th to r us hu h bus tothe e r ther aal thet the buick walls are there to thew ts how tulll te wal  then  t\n",
            "reck walls are there ton asbe tow are tou trst tot then  thet the buick walls are  t there th to r us hu h but tothere r ther aal that the buick walls are there to thew us how tulll ae wal  then  t\n",
            "reck walls are there ton asbe tow are tou trst tot then  thet the buick walls are  t there th to r us hu   but tothere r ther aal that the buick walls are there to thew us how bulll ae wal  then  t\n",
            "reck walls are there ton a be tow arl tou trst tot then  thet the buick walls are tt there th to r us hu   but tothere r ther aal that the buick walls are there to thew us how bulll ae wal  then  t\n",
            "reck walls are there ton a be tow arl tou trst tot then  thet the buick walls are tt there th to r us hut  but tothere n ther aal that the buick walls are there to thew us how bully ae wal  then  t\n",
            "reck walls are there ton a be tow arl tou trst tot thenk thet the buick walls are tt there th to r us hut  but tothere n ther aal that the buick walls are there to thew us how bully ae wal  thenktt\n",
            "reck walls are there ton a be tow arl you trst tot thenk thet the buick walls are tt there th to r us hut  but tothere n ther aal that the buick walls are there to thew us how bully ae wal  thenktt\n",
            "reck walls are there ton a be tow arl you trst tot thenk thet the buick walls are tt there th to r us hut  but tothere n ther wal that the buick walls are there to thew us how bully ae wal  thenktt\n",
            "reck walls are there ton a re tow arl you trst tot thenk thet the buick walls are tt there th to r us hut  but tothere n ther wal that the buick walls are there to thew us how bully we wal  thetktt\n",
            "reck walls are there ton a re tow arl you trst tot thenk thet the buick walls are tt there th to r us hut  but tothere n ther wal that the buick walls are there to thew us how uully we wal  thetktt\n",
            "reck walls are there ton a re ton ard you tust tot thenk thet the buick walls are tt there th to r us hut  but aothere n ther wal that the buick walls are there to thew us how uully we wall thetktt\n",
            "reck walls are there ton a re ton ard you tust tot thenk thet the buick walls are kt there th to r us hut  but aothere n ther wal that the buick walls are there to thew us how uully we wall thetktt\n",
            "reck walls are there ton a re ton ard you tust tot thenk thet the buick walls are kt there th to r us hut  but aothere n ther wal that the buick walls are there to thew us how uully we wal  thetktt\n",
            "reck walls are there ton a re ton ard you tust tot thenk thet the buick walls are kt there th to r us hut  but aathere n thir wal that the buick walls are there to thew us how uully we wal  thetktt\n",
            "reck walls are there ton a re ton ard you tust tot thenk thet the buick walls are kt there th to r us hut  but aatherein thir wal that the buick walls are there to thew us how uully we wal  thetktt\n",
            "reck walls are there tor a re ton ard you tust tot thenk thet the buick walls are kt there th to r us hut  but aatherein thir wal that the buick walls are there to thew us how uully we wal  thenktt\n",
            "reck walls are there tor a re ton ard you tust tot thenk thet the buick walls are kt there th to r us hut, but aatherein thir wal that the buick walls are there to thew us how uully we wal  thenkt,\n",
            "reck walls are there tor a re ton ard you tust tot thenk that the brick walls are kt there th to r us hut, but ratherein thir wal that the brick walls are there to thew us how bully we wal  thenkt,\n",
            "reck walls are there tor a re ton ard you tust tot thenk that the brick walls are kt there th te r us hut, but ratherein thir wal that the brick walls are there to thew us how budly we wal  thenkt,\n",
            "reck walls are there tor a re ton ard you must tot thenk that the brick walls are kt there th te r us hut, but ratherein thin wal that the brick walls are there to thew us how budly we wan  thenkt,\n",
            "reck walls are there tor a re ton ard you must tot thenk that the brick walls are kt there th te r us hut, but ratherein thit wal that the brick walls are there to thew us how budly we wan  thenkt,\n",
            "reck walls are there tor a reaton ard you must not thenk that the brick walls are kt there to te p us hut, but ratherein thit wal that the brick walls are there to thew us how budly we wan  thenkt,\n",
            "rick walls are there tor a reaton ard you must not thenk that the brick walls are kt there to te p us hut, but ratherein thit wal that the brick walls are there to thow us how budly we wan  thenkt,\n",
            "rick walls are there tor a reaton ard you must not thenk that the brick walls are kt there to te p us hut, but ratherein thit wal that the brick walls are there to thow us how budly we wan  thenkt,\n",
            "rick walls are there tor a reaton ard you must not thenk that the brick walls are kt there to te p us hut, but ratherein thit wal that the brick walls are there to thow us how budly we wan  thenkt,\n",
            "rick walls are there tor a reaton ard you must not thenk that the brick walls are kt there to te p us hut, but ratherein thit wal that the brick walls are there to thow us how badly we wan  thenkt,\n",
            "rick walls are there tor a reaton ard you must not thenk that the brick walls are kt there to te p us hut, but ratherein thit wal that the brick walls are there to thow us how badly we wan  thenkt,\n",
            "rick walls are there tor a reaton ard you must not thenk that the brick walls are kt there to te p us hut, but rather in thit wal that the brick walls are there to thow us how badly we wan  thenkt,\n",
            "rick walls are there tor a reaton ard you must not thenk that the brick walls are kt there to te p us hut, but rather in thit wal that the brick walls are there to thow us how badly we wan  thenkt,\n",
            "rick walls are there tor a reaton ard you must not thenk that the brick walls are kt there to te p us out, but rather in thit wal that the brick walls are there to thow us how badly we wan  thenkt,\n",
            "rick walls are there tor a reaton ard you must not think that the brick walls are kt there to te p us out, but rather in thit wal that the brick walls are there to thow us how badly we want thenkt,\n",
            "rick walls are there tor a reaton ard you must not think that the brick walls are kt there to te p us out, but rather in thit wal that the brick walls are there to thow us how badly we want thenkt,\n",
            "rick walls are there tor a reaton ard you must not think that the brick walls are kt there to te p us out, but rather in thit wal that the brick walls are there to thow us how badly we want thinkt,\n",
            "rick walls are there tor a reaton ard you must not think that the brick walls are 't there to te p us out, but rather in thit wal that the brick walls are there to thow us how badly we want thinkt,\n",
            "rick walls are there tor a reaton ard you must not think that the brick walls are 't there to ke p us out, but rather in thit wal that the brick walls are there to thow us how badly we want thinkt,\n",
            "rick walls are there tor a reaton and you must not think that the brick walls are 't there to ke p us out, but rather in thit wal that the brick walls are there to thow us how badly we want thinkt,\n",
            "rick walls are there tor a reaton and you must not think that the brick walls are 't there to ke p us out, but rather in thit wal that the brick walls are there to thow us how badly we want thinkt,\n",
            "rick walls are there tor a reaton and you must not think that the brick walls are 't there to ke p us out, but rather in thit wal that the brick walls are there to thow us how badly we want thinkt,\n",
            "rick walls are there tor a reaton and you must not think that the brick walls are 't there to ke p us out, but rather in thit wal that the brick walls are there to thow us how badly we want thinks,\n",
            "rick walls are there tor a reaton and you must not think that the brick walls are 't there to ke p us out, but rather in thit wal that the brick walls are there to thow us how badly we want thinks,\n",
            "rick walls are there tor a reaton and you must not think that the brick walls are 't there to keep us out, but rather in thit wal that the brick walls are there to thow us how badly we want thinksd\n",
            "rick walls are there tor a reaton and you must not think that the brick walls are 't there to keep us out, but rather in this wal that the brick walls are there to thow us how badly we want thinksd\n",
            "rick walls are there tor a reason and you must not think that the brick walls are 't there to keep us out, but rather in this wal that the brick walls are there to khow us how badly we want thinksd\n",
            "rick walls are there tor a reason and you must not think that the brick walls are 't there to keep us out, but rather in this wal that the brick walls are there to khow us how badly we want thinksd\n",
            "rick walls are there tor a reason and you must not think that the brick walls are 't there to keep us out, but rather in this way that the brick walls are there to khow us how badly we want thinksd\n",
            "rick walls are there tor a reason and you must not think that the brick walls are 't there to keep us out, but rather in this way that the brick walls are there to khow us how badly we want thinksd\n",
            "rick walls are there tor a reason and you must not think that the brick walls are 't there to keep us out, but rather in this way that the brick walls are there to khow us how badly we want thinksd\n",
            "rick walls are there tor a reason and you must not think that the brick walls are 't there to keep us out, but rather in this way that the brick walls are there to khow us how badly we want thinksd\n",
            "rick walls are there tor a reason and you must not think that the brick walls are 't there to keep us out, but rather in this way that the brick walls are there to khow us how badly we want thinksd\n",
            "rick walls are there tor a reason and you must not think that the brick walls are 't there to keep us out, but rather in this way that the brick walls are there to khow us how badly we want thinksd\n",
            "rick walls are there tor a reason and you must not think that the brick walls are 't there to keep us out, but rather in this way that the brick walls are there to khow us how badly we want thinksd\n",
            "rick walls are there tor a reason and you must not think that the brick walls are 't there to keep us out, but rather in this way that the brick walls are there to khow us how badly we want thinksd\n",
            "rick walls are there tor a reason and you must not think that the brick walls are 't there to keep us out, but rather in this way that the brick walls are there to khow us how badly we want thinksd\n",
            "rick walls are there tor a reason and you must not think that the brick walls are 't there to keep us out, but rather in this way that the brick walls are there to khow us how badly we want thinks,\n",
            "rick walls are there tor a reason and you must not think that the brick walls are 't there to keep us out, but rather in this way that the brick walls are there to khow us how badly we want thinks,\n",
            "rick walls are there tor a reason and you must not think that the brick walls are 't there to keep us out, but rather in this way that the brick walls are there to khow us how badly we want thinks,\n",
            "rick walls are there tor a reason and you must not think that the brick walls are 't there to keep us out, but rather in this way that the brick walls are there to khow us how badly we want thinks,\n",
            "rick walls are there tor a reason and you must not think that the brick walls are 't there to keep us out, but rather in this way that the brick walls are there to khow us how badly we want thinks,\n",
            "rick walls are there tor a reason and you must not think that the brick walls are 't there to keep us out, but rather in this way that the brick walls are there to khow us how badly we want thinks,\n",
            "rick walls are there tor a reason and you must not think that the brick walls are 't there to keep us out, but rather in this way that the brick walls are there to khow us how badly we want thinkso\n",
            "rick walls are there tor a reason and you must not think that the brick walls are 't there to keep us out, but rather in this way that the brick walls are there to khow us how badly we want thinkso\n",
            "rick walls are there tor a reason and you must not think that the brick walls are 't there to keep us out, but rather in this way that the brick walls are there to khow us how badly we want thinkso\n",
            "rick walls are there tor a reason and you must not think that the brick walls are 't there to keep us out, but rather in this way that the brick walls are there to show us how badly we want thinkso\n",
            "rick walls are there tor a reason and you must not think that the brick walls are 't there to keep us out, but rather in this way that the brick walls are there to show us how badly we want thinkso\n",
            "rick walls are there tor a reason and you must not think that the brick walls are 't there to keep us out, but rather in this way that the brick walls are there to show us how badly we want thinkso\n",
            "rick walls are there tor a reason and you must not think that the brick walls are 't there to keep us out, but rather in this way that the brick walls are there to show us how badly we want thinkso\n",
            "rick walls are there tor a reason and you must not think that the brick walls are 't there to keep us out, but rather in this way that the brick walls are there to show us how badly we want thinkso\n",
            "rick walls are there tor a reason and you must not think that the brick walls are 't there to keep us out, but rather in this way that the brick walls are there to show us how badly we want thinkso\n",
            "rick walls are there tor a reason and you must not think that the brick walls are 't there to keep us out, but rather in this way that the brick walls are there to show us how badly we want thinkso\n",
            "rick walls are there tor a reason and you must not think that the brick walls are 't there to keep us out, but rather in this way that the brick walls are there to show us how badly we want thinkso\n",
            "rick walls are there tor a reason and you must not think that the brick walls are 't there to keep us out, but rather in this way that the brick walls are there to show us how badly we want thinkso\n",
            "rick walls are there tor a reason and you must not think that the brick walls are 't there to keep us out, but rather in this way that the brick walls are there to show us how badly we want thinkso\n",
            "rick walls are there tor a reason and you must not think that the brick walls are 't there to keep us out, but rather in this way that the brick walls are there to show us how badly we want thinkso\n",
            "rick walls are there tor a reason and you must not think that the brick walls are 't there to keep us out, but rather in this way that the brick walls are there to show us how badly we want thinkso\n",
            "rick walls are there tor a reason and you must not think that the brick walls are 't there to keep us out, but rather in this way that the brick walls are there to show us how badly we want thinkso\n",
            "rick walls are there tor a reason and you must not think that the brick walls are 't there to keep us out, but rather in this way that the brick walls are there to show us how badly we want thinkso\n",
            "rick walls are there tor a reason and you must not think that the brick walls are 't there to keep us out, but rather in this way that the brick walls are there to show us how badly we want thinkso\n",
            "rick walls are there tor a reason and you must not think that the brick walls are 't there to keep us out, but rather in this way that the brick walls are there to show us how badly we want thinkso\n",
            "rick walls are there tor a reason and you must not think that the brick walls are 't there to keep us out, but rather in this way that the brick walls are there to show us how badly we want thinkso\n",
            "rick walls are there tor a reason and you must not think that the brick walls are 't there to keep us out, but rather in this way that the brick walls are there to show us how badly we want thinkso\n",
            "rick walls are there tor a reason and you must not think that the brick walls are 't there to keep us out, but rather in this way that the brick walls are there to show us how badly we want thinkso\n",
            "rick walls are there tor a reason and you must not think that the brick walls are 't there to keep us out, but rather in this way that the brick walls are there to show us how badly we want thinkso\n",
            "rick walls are there tor a reason and you must not think that the brick walls are 't there to keep us out, but rather in this way that the brick walls are there to show us how badly we want thinkso\n",
            "rick walls are there tor a reason and you must not think that the brick walls are 't there to keep us out, but rather in this way that the brick walls are there to show us how badly we want thinkso\n",
            "rick walls are there tor a reason and you must not think that the brick walls are 't there to keep us out, but rather in this way that the brick walls are there to show us how badly we want thinkso\n",
            "rick walls are there tor a reason and you must not think that the brick walls are 't there to keep us out, but rather in this way that the brick walls are there to show us how badly we want thinkso\n",
            "rick walls are there tor a reason and you must not think that the brick walls are 't there to keep us out, but rather in this way that the brick walls are there to show us how badly we want thinkso\n",
            "rick walls are there tor a reason and you must not think that the brick walls are 't there to keep us out, but rather in this way that the brick walls are there to show us how badly we want thinkso\n",
            "rick walls are there tor a reason and you must not think that the brick walls are 't there to keep us out, but rather in this way that the brick walls are there to show us how badly we want thinkso\n",
            "rick walls are there tor a reason and you must not think that the brick walls are 't there to keep us out, but rather in this way that the brick walls are there to show us how badly we want thinkso\n",
            "rick walls are there tor a reason and you must not think that the brick walls are 't there to keep us out, but rather in this way that the brick walls are there to show us how badly we want thinkso\n",
            "rick walls are there tor a reason and you must not think that the brick walls are 't there to keep us out, but rather in this way that the brick walls are there to show us how badly we want thinkso\n",
            "rick walls are there tor a reason and you must not think that the brick walls are 't there to keep us out, but rather in this way that the brick walls are there to show us how badly we want thinkso\n",
            "rick walls are there tor a reason and you must not think that the brick walls are 't there to keep us out, but rather in this way that the brick walls are there to show us how badly we want thinkso\n",
            "rick walls are there tor a reason and you must not think that the brick walls are 't there to keep us out, but rather in this way that the brick walls are there to show us how badly we want thinkso\n",
            "rick walls are there tor a reason and you must not think that the brick walls are 't there to keep us out, but rather in this way that the brick walls are there to show us how badly we want thinkso\n",
            "rick walls are there tor a reason and you must not think that the brick walls are 't there to keep us out, but rather in this way that the brick walls are there to show us how badly we want thinkso\n",
            "rick walls are there tor a reason and you must not think that the brick walls are 't there to keep us out, but rather in this way that the brick walls are there to show us how badly we want thinkso\n",
            "rick walls are there tor a reason and you must not think that the brick walls are 't there to keep us out, but rather in this way that the brick walls are there to show us how badly we want thingso\n",
            "rick walls are there tor a reason and you must not think that the brick walls are 't there to keep us out, but rather in this way that the brick walls are there to show us how badly we want thingso\n",
            "rick walls are there tor a reason and you must not think that the brick walls are 't there to keep us out, but rather in this way that the brick walls are there to show us how badly we want thingso\n",
            "rick walls are there tor a reason and you must not think that the brick walls are 't there to keep us out, but rather in this way that the brick walls are there to show us how badly we want thingso\n",
            "rick walls are there tor a reason and you must not think that the brick walls are 't there to keep us out, but rather in this way that the brick walls are there to show us how badly we want thingso\n",
            "rick walls are there tor a reason and you must not think that the brick walls are 't there to keep us out, but rather in this way that the brick walls are there to show us how badly we want thingso\n",
            "rick walls are there tor a reason and you must not think that the brick walls are 't there to keep us out, but rather in this way that the brick walls are there to show us how badly we want thingso\n",
            "rick walls are there tor a reason and you must not think that the brick walls are 't there to keep us out, but rather in this way that the brick walls are there to show us how badly we want thingso\n",
            "rick walls are there tor a reason and you must not think that the brick walls are 't there to keep us out, but rather in this way that the brick walls are there to show us how badly we want thingso\n",
            "rick walls are there tor a reason and you must not think that the brick walls are 't there to keep us out, but rather in this way that the brick walls are there to show us how badly we want thingso\n",
            "rick walls are there tor a reason and you must not think that the brick walls are 't there to keep us out, but rather in this way that the brick walls are there to show us how badly we want thingso\n",
            "rick walls are there tor a reason and you must not think that the brick walls are 't there to keep us out, but rather in this way that the brick walls are there to show us how badly we want thingso\n",
            "rick walls are there tor a reason and you must not think that the brick walls are 't there to keep us out, but rather in this way that the brick walls are there to show us how badly we want thingso\n",
            "rick walls are there tor a reason and you must not think that the brick walls are 't there to keep us out, but rather in this way that the brick walls are there to show us how badly we want thingso\n",
            "rick walls are there tor a reason and you must not think that the brick walls are 't there to keep us out, but rather in this way that the brick walls are there to show us how badly we want thingso\n",
            "rick walls are there tor a reason and you must not think that the brick walls are 't there to keep us out, but rather in this way that the brick walls are there to show us how badly we want thingso\n",
            "rick walls are there tor a reason and you must not think that the brick walls are 't there to keep us out, but rather in this way that the brick walls are there to show us how badly we want thingso\n",
            "rick walls are there tor a reason and you must not think that the brick walls are 't there to keep us out, but rather in this way that the brick walls are there to show us how badly we want thingso\n",
            "rick walls are there tor a reason and you must not think that the brick walls are 't there to keep us out, but rather in this way that the brick walls are there to show us how badly we want thingso\n",
            "rick walls are there tor a reason and you must not think that the brick walls are 't there to keep us out, but rather in this way that the brick walls are there to show us how badly we want thingso\n",
            "rick walls are there tor a reason and you must not think that the brick walls are 't there to keep us out, but rather in this way that the brick walls are there to show us how badly we want things.\n",
            "rick walls are there tor a reason and you must not think that the brick walls are 't there to keep us out, but rather in this way that the brick walls are there to show us how badly we want things.\n",
            "rick walls are there tor a reason and you must not think that the brick walls are 't there to keep us out, but rather in this way that the brick walls are there to show us how badly we want things.\n",
            "rick walls are there tor a reason and you must not think that the brick walls are 't there to keep us out, but rather in this way that the brick walls are there to show us how badly we want things.\n",
            "rick walls are there tor a reason and you must not think that the brick walls are 't there to keep us out, but rather in this way that the brick walls are there to show us how badly we want things.\n",
            "rick walls are there tor a reason and you must not think that the brick walls are 't there to keep us out, but rather in this way that the brick walls are there to show us how badly we want things.\n",
            "rick walls are there tor a reason and you must not think that the brick walls are 't there to keep us out, but rather in this way that the brick walls are there to show us how badly we want things.\n",
            "rick walls are there tor a reason and you must not think that the brick walls are 't there to keep us out, but rather in this way that the brick walls are there to show us how badly we want things.\n",
            "rick walls are there tor a reason and you must not think that the brick walls are 't there to keep us out, but rather in this way that the brick walls are there to show us how badly we want things.\n",
            "rick walls are there tor a reason and you must not think that the brick walls are 't there to keep us out, but rather in this way that the brick walls are there to show us how badly we want things.\n",
            "rick walls are there tor a reason and you must not think that the brick walls are 't there to keep us out, but rather in this way that the brick walls are there to show us how badly we want things.\n",
            "rick walls are there tor a reason and you must not think that the brick walls are 't there to keep us out, but rather in this way that the brick walls are there to show us how badly we want things.\n",
            "rick walls are there tor a reason and you must not think that the brick walls are 't there to keep us out, but rather in this way that the brick walls are there to show us how badly we want things.\n",
            "rick walls are there tor a reason and you must not think that the brick walls are 't there to keep us out, but rather in this way that the brick walls are there to show us how badly we want things.\n",
            "rick walls are there tor a reason and you must not think that the brick walls are 't there to keep us out, but rather in this way that the brick walls are there to show us how badly we want things.\n",
            "rick walls are there tor a reason and you must not think that the brick walls are 't there to keep us out, but rather in this way that the brick walls are there to show us how badly we want things.\n",
            "rick walls are there tor a reason and you must not think that the brick walls are 't there to keep us out, but rather in this way that the brick walls are there to show us how badly we want things.\n",
            "rick walls are there tor a reason and you must not think that the brick walls are 't there to keep us out, but rather in this way that the brick walls are there to show us how badly we want things.\n",
            "rick walls are there tor a reason and you must not think that the brick walls are 't there to keep us out, but rather in this way that the brick walls are there to show us how badly we want things.\n",
            "rick walls are there tor a reason and you must not think that the brick walls are 't there to keep us out, but rather in this way that the brick walls are there to show us how badly we want things.\n",
            "rick walls are there tor a reason and you must not think that the brick walls are 't there to keep us out, but rather in this way that the brick walls are there to show us how badly we want things.\n",
            "rick walls are there tor a reason and you must not think that the brick walls are 't there to keep us out, but rather in this way that the brick walls are there to show us how badly we want things.\n"
          ]
        }
      ]
    },
    {
      "cell_type": "code",
      "source": [
        "#lr 0.005일 때의 결과\n",
        "predict_str"
      ],
      "metadata": {
        "colab": {
          "base_uri": "https://localhost:8080/",
          "height": 36
        },
        "id": "8qUkbiw2t0Il",
        "outputId": "a42d240c-3365-4518-aee2-0f5128eab391"
      },
      "execution_count": 62,
      "outputs": [
        {
          "output_type": "execute_result",
          "data": {
            "text/plain": [
              "\"rick walls are there tor a reason and you must not think that the brick walls are 't there to keep us out, but rather in this way that the brick walls are there to show us how badly we want things.\""
            ],
            "application/vnd.google.colaboratory.intrinsic+json": {
              "type": "string"
            }
          },
          "metadata": {},
          "execution_count": 62
        }
      ]
    },
    {
      "cell_type": "code",
      "source": [
        "#lr 0.001일 때의 결과\n",
        "#predict_str"
      ],
      "metadata": {
        "colab": {
          "base_uri": "https://localhost:8080/",
          "height": 54
        },
        "id": "rw-r-XZkyJLi",
        "outputId": "2f1389b9-dbd1-4cc6-a263-6e1dde67fc30"
      },
      "execution_count": null,
      "outputs": [
        {
          "output_type": "execute_result",
          "data": {
            "text/plain": [
              "'            h  th     h                                   h  h h               h      h     h                             h        h                    h  th     h          h                 h     '"
            ],
            "application/vnd.google.colaboratory.intrinsic+json": {
              "type": "string"
            }
          },
          "metadata": {},
          "execution_count": 106
        }
      ]
    },
    {
      "cell_type": "markdown",
      "source": [
        "결과가 어떤가요?? 마지막 에폭의 문장이 그럴싸한가요?"
      ],
      "metadata": {
        "id": "PkIzDTdyvTHz"
      }
    },
    {
      "cell_type": "code",
      "source": [
        "#\"Brick walls are there for a reason and you must not think that the brick walls aren't there to keep us out, but rather in this way that the brick walls are there to show us how badly we want things.\"\n",
        "## 두글자 틀림. 전반적으로 첫번째 글자 'b'가 인식이 잘 안됨. 한칸씩 밀려서 학습하는 만큼 2번째 글자부터는 여러번 학습되는데 첫번째 글자는 한번만 입력되기 때문인 듯\n",
        "## for를 tor로 예측한 이유는 문장 전체에 t가 가장 많이 등장하기 때문에 애매한 단어는 t로 예측하는 게 가장 loss가 적기 때문일 것으로 추측"
      ],
      "metadata": {
        "id": "-SYMEuFP6TmS"
      },
      "execution_count": 60,
      "outputs": []
    },
    {
      "cell_type": "markdown",
      "source": [
        "## Task2\n",
        "\n",
        "위 sentence는 제가 임의로 생성한 문장들입니다.\n",
        "\n",
        "마음에 드시는 문구 가져오셔서 문장이 어떻게 생성되는지 확인해보세요!\n",
        "\n",
        "영어가 아닌 한국어로 시도해보는 것도 좋겠죠?\n",
        "\n",
        "수정이 많이 필요(토큰화 등) 할 수 있으나 한번 시도해보시는 것 권장드립니다 :)\n",
        "\n",
        "위 베이스라인은 어디든 수정하셔도 좋고 조금 더 자연스러운 문장이 나올 수 있게 다양한 시도를 해보세요!\n",
        "\n",
        "조건 : 문장 3개 이상, 연결성이 있는 문장을 \" \" 으로 구분하여 ( )에 넣기"
      ],
      "metadata": {
        "id": "kN1zL8Dpvane"
      }
    },
    {
      "cell_type": "code",
      "source": [
        "import numpy as np\n",
        "import torch\n",
        "import torch.nn as nn\n",
        "import torch.optim as optim"
      ],
      "metadata": {
        "id": "H-9Ok0UNUE1l"
      },
      "execution_count": 63,
      "outputs": []
    },
    {
      "cell_type": "code",
      "execution_count": 64,
      "metadata": {
        "id": "75RtyrqAUBt8"
      },
      "outputs": [],
      "source": [
        "#1. 생성할 문장 데이터\n",
        "\n",
        "sentence = (\" 그러므로 \"\n",
        "            \"너무나 많은 여름이. \"\n",
        "            \"너무나 많은 골목길과 너무나 많은 산책과 너무나 \"\n",
        "            \"많은 저녁이 우리를 찾아오리라. \"\n",
        "            \"우리는 사랑할 수 있으리라. 우리는 \"\n",
        "            \"좋아하는 것을 더 좋아할 수 있으리라.\")"
      ]
    },
    {
      "cell_type": "code",
      "source": [
        "#2. 문자 집합 만들기\n",
        "world_set = list(set(sentence))   # 중복을 제거한 문자 집합 생성\n",
        "\n",
        "## 문제(1): 각 문자에 정수 인코딩 (공백도 하나의 원소로 포함)\n",
        "vocab = {c: i for i, c in enumerate(world_set)}   #인덱스와 원소로 이루어진 튜플(tuple)을 생성"
      ],
      "metadata": {
        "id": "GC0yU6XmUFHN"
      },
      "execution_count": 66,
      "outputs": []
    },
    {
      "cell_type": "code",
      "source": [
        "print(vocab)"
      ],
      "metadata": {
        "colab": {
          "base_uri": "https://localhost:8080/"
        },
        "id": "By8hkpEMUIFT",
        "outputId": "748c08fe-c462-4c78-9363-9beb5acd1406"
      },
      "execution_count": 67,
      "outputs": [
        {
          "output_type": "stream",
          "name": "stdout",
          "text": [
            "{'있': 0, '수': 1, '저': 2, '아': 3, '오': 4, '를': 5, '과': 6, '.': 7, '많': 8, '는': 9, '좋': 10, '그': 11, '녁': 12, '더': 13, '나': 14, '할': 15, '무': 16, '름': 17, '므': 18, '이': 19, '너': 20, ' ': 21, '목': 22, '랑': 23, '리': 24, '을': 25, '라': 26, '하': 27, '것': 28, '사': 29, '으': 30, '골': 31, '길': 32, '은': 33, '찾': 34, '책': 35, '우': 36, '산': 37, '여': 38, '로': 39, '러': 40}\n"
          ]
        }
      ]
    },
    {
      "cell_type": "code",
      "source": [
        "#3. 문자 집합 크기 확인\n",
        "\n",
        "vocab_size = len(vocab)\n",
        "print('문자 집합 크기 : {}'.format(vocab_size))"
      ],
      "metadata": {
        "colab": {
          "base_uri": "https://localhost:8080/"
        },
        "id": "KrGRM43KUJke",
        "outputId": "65fb5f1a-de9d-40c9-ed89-d79d417e0e38"
      },
      "execution_count": 68,
      "outputs": [
        {
          "output_type": "stream",
          "name": "stdout",
          "text": [
            "문자 집합 크기 : 41\n"
          ]
        }
      ]
    },
    {
      "cell_type": "code",
      "source": [
        "# hidden_size = vocab_size # 같아야 하는 것 확인!\n",
        "# sequence_length = 4  # 너무 길거나 너무 짧게 잡으면 안됩니다!    #입력 텐서의 시퀀스 길이. 문장의 길이.\n",
        "# learning_rate = 0.03\n",
        "\n",
        "# x_data = []\n",
        "# y_data = []\n",
        "\n",
        "# for i in range(0, len(sentence) - sequence_length):\n",
        "#   x_str = sentence[i:i + sequence_length]\n",
        "#   y_str = sentence[i + 1: i + sequence_length + 1]\n",
        "#   #print(i, x_str, \"->\", y_str)\n",
        "\n",
        "#   # x_str과 y_str이 문자집합에 해당하는 인덱스를 각각 x_data, y_data에 append\n",
        "#   x_data.append([vocab[c] for c in x_str])\n",
        "#   y_data.append([vocab[d] for d in y_str])\n",
        "\n",
        "# ## 문제(4) : x_data를 원핫인코딩 > numpy의 eye를 쓸 수 있지 않을까?\n",
        "# x_one_hot = [np.eye(vocab_size)[x] for x in x_data]   #[##]\n",
        "\n",
        "# ## 문제(5) : x_one_hot과 y_data 텐서로 변환 : 둘 다 같은 형식의 텐서로 변환하면 될까?? (FloatTensor, LongTesor 중 맞는 것은?)\n",
        "# X = torch.FloatTensor(x_one_hot)\n",
        "# Y = torch.LongTensor(y_data)\n",
        "\n",
        "# ##11. RNN 모델 구현\n",
        "\n",
        "# ##문제(6) : 기본 pytorch 인자 넣기 연습 + forward 채우기\n",
        "# ### 조건 : rnn layer 2개 쌓기 + 마지막은 fc layer\n",
        "# ### batch_fisrt 설정 필요할까? (유튜브 강의 참고)\n",
        "\n",
        "# class Net(torch.nn.Module):\n",
        "#   def __init__(self, input_dim, hidden_dim, layers):    # 현재 hidden_size는 dic_size와 같음\n",
        "#     super(Net, self).__init__()\n",
        "#     self.rnn = torch.nn.RNN(input_dim, hidden_dim, num_layers=layers, batch_first=True)   ##)RNN 셀1\n",
        "#     self.fc = torch.nn.Linear(hidden_dim, hidden_dim, bias=True)   ##) 출력층\n",
        "\n",
        "#   def forward(self, x):   #RNN 셀과 출력층을 연결\n",
        "#     x, _status = self.rnn(x)    ##\n",
        "#     x = self.fc(x)    ##\n",
        "#     return x\n",
        "\n",
        "# net = Net(vocab_size, hidden_size, 2)\n",
        "\n",
        "# ##12. loss function\n",
        "# criterion = torch.nn.CrossEntropyLoss()\n",
        "\n",
        "# ##13. optimizer\n",
        "# optimizer = optim.Adam(net.parameters(), learning_rate)\n",
        "\n",
        "# for i in range(500):\n",
        "#     optimizer.zero_grad()\n",
        "#     outputs = net(X)\n",
        "#     loss = criterion(outputs.view(-1, vocab_size), Y.view(-1))\n",
        "#     loss.backward()\n",
        "#     optimizer.step()\n",
        "\n",
        "#     #16. 예측결과 확인\n",
        "#     results = outputs.argmax(dim=2)\n",
        "#     predict_str = \"\"\n",
        "#     for j, result in enumerate(results):\n",
        "#         if j == 0: # 처음에는 예측 결과를 전부 가져오기\n",
        "#             predict_str += ''.join([world_set[t] for t in result])\n",
        "#         else: # 그 다음에는 마지막 글자만 반복 추가\n",
        "#             predict_str += world_set[result[-1]]\n",
        "\n",
        "#     print(predict_str)\n",
        "\n",
        "# #최종결과\n",
        "# predict_str"
      ],
      "metadata": {
        "id": "8nuJPsxcUNnP"
      },
      "execution_count": 69,
      "outputs": []
    },
    {
      "cell_type": "code",
      "source": [
        "class Net(torch.nn.Module):\n",
        "  def __init__(self, input_dim, hidden_dim, layers):    # 현재 hidden_size는 dic_size와 같음\n",
        "    super(Net, self).__init__()\n",
        "    self.rnn = torch.nn.RNN(input_dim, hidden_dim, num_layers=layers, batch_first=True)   ##)RNN 셀1\n",
        "    self.fc = torch.nn.Linear(hidden_dim, hidden_dim, bias=True)   ##) 출력층\n",
        "\n",
        "  def forward(self, x):   #RNN 셀과 출력층을 연결\n",
        "    x, _status = self.rnn(x)    ##\n",
        "    x = self.fc(x)    ##\n",
        "    return x"
      ],
      "metadata": {
        "id": "w1tbuOg-hTSx"
      },
      "execution_count": 70,
      "outputs": []
    },
    {
      "cell_type": "code",
      "source": [
        "def train(seq_len):\n",
        "  hidden_size = vocab_size # 같아야 하는 것 확인!\n",
        "  sequence_length = seq_len  # 너무 길거나 너무 짧게 잡으면 안됩니다!    #입력 텐서의 시퀀스 길이. 문장의 길이.\n",
        "  learning_rate = 0.01\n",
        "\n",
        "  x_data = []\n",
        "  y_data = []\n",
        "\n",
        "  for i in range(0, len(sentence) - sequence_length):\n",
        "    x_str = sentence[i:i + sequence_length]\n",
        "    y_str = sentence[i + 1: i + sequence_length + 1]\n",
        "    #print(i, x_str, \"->\", y_str)\n",
        "\n",
        "    if i == 0:\n",
        "      for _ in range(4):\n",
        "        x_data.append([vocab[c] for c in x_str])\n",
        "        y_data.append([vocab[d] for d in y_str])\n",
        "    else:\n",
        "      x_data.append([vocab[c] for c in x_str])\n",
        "      y_data.append([vocab[d] for d in y_str])\n",
        "\n",
        "  x_one_hot = [np.eye(vocab_size)[x] for x in x_data]   #[##]\n",
        "\n",
        "  X = torch.FloatTensor(x_one_hot)\n",
        "  Y = torch.LongTensor(y_data)\n",
        "  net = Net(vocab_size, hidden_size, 2)\n",
        "\n",
        "  criterion = torch.nn.CrossEntropyLoss()\n",
        "  optimizer = optim.Adam(net.parameters(), learning_rate)\n",
        "\n",
        "  #losses = []\n",
        "  for i in range(400):\n",
        "      optimizer.zero_grad()\n",
        "      outputs = net(X)\n",
        "      loss = criterion(outputs.view(-1, vocab_size), Y.view(-1))\n",
        "      loss.backward()\n",
        "      optimizer.step()\n",
        "\n",
        "      results = outputs.argmax(dim=2)\n",
        "      predict_str = \"\"\n",
        "      for j, result in enumerate(results):\n",
        "          if j == 0: # 처음에는 예측 결과를 전부 가져오기\n",
        "              predict_str += ''.join([world_set[t] for t in result])\n",
        "          else: # 그 다음에는 마지막 글자만 반복 추가\n",
        "              predict_str += world_set[result[-1]]\n",
        "\n",
        "  return predict_str"
      ],
      "metadata": {
        "id": "BeXVRRb0UbqC"
      },
      "execution_count": 71,
      "outputs": []
    },
    {
      "cell_type": "code",
      "source": [
        "for seq_len in [4, 8, 12, 16, 20, 24]:\n",
        "  print(seq_len, train(seq_len))"
      ],
      "metadata": {
        "colab": {
          "base_uri": "https://localhost:8080/"
        },
        "id": "OQZ7jFpbefOz",
        "outputId": "0c43ea32-f31d-4438-8061-f4047ce35183"
      },
      "execution_count": 72,
      "outputs": [
        {
          "output_type": "stream",
          "name": "stdout",
          "text": [
            "4 많러므로로로로 너무나 많은 저름이. 너무나 많은 저목길과 너무나 많은 저책과 너무나 많은 저녁이 우리를 찾아오리라. 우리는 좋랑할 수 있으리라. 우리는 좋아하는 것을 더 좋아할 수 있으리라.\n",
            "8 너러므로 너무나나나나 많은 여름이. 너무나 많은 여목길과 너무나 많은 여책과 너무나 많은 여녁이 우리를 찾아오리라. 우리는 좋랑할 수 있으리라. 우리는 좋아하는 것을 더 좋아할 수 있으리라.\n",
            "12 그러므로 너무나 많은    여름이. 너무나 많은 골목길과 너무나 많은 산책과 너무나 많은 저녁이 우리를 찾아오리라. 우리는 사랑할 수 있으리라. 우리는 좋아하는 것을 더 좋아할 수 있으리라.\n",
            "16 그러므로 너무나 많은 여름이.... 너무나 많은 골목길과 너무나 많은 산책과 너무나 많은 저녁이 우리를 찾아오리라. 우리는 사랑할 수 있으리라. 우리는 좋아하는 것을 더 좋아할 수 있으리라.\n",
            "20 너러므로 너무나 많은 여름이. 너무나나나나 많은 골목길과 너무나 많은 산책과 너무나 많은 저녁이 우리를 찾아오리라. 우리는 사랑할 수 있으리라. 우리는 좋아하는 것을 더 좋아할 수 있으리라.\n",
            "24 그러므로 너무나 많은 여름이. 너무나 많은    골목길과 너무나 많은 산책과 너무나 많은 저녁이 우리를 찾아오리라. 우리는 사랑할 수 있으리라. 우리는 좋아하는 것을 더 좋아할 수 있으리라.\n"
          ]
        }
      ]
    },
    {
      "cell_type": "markdown",
      "source": [
        "**적절한 lr 값 찾기**\n",
        "\n",
        "\n",
        "\n",
        "*   0.01로 loss 그래프 그리니까 너무 팍 꺾여서 0.05로 설정함\n",
        "\n",
        "\n",
        "\n",
        "![image.png](data:image/png;base64,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)"
      ],
      "metadata": {
        "id": "6phUInZu-8rN"
      }
    },
    {
      "cell_type": "code",
      "source": [
        "##시퀀스 길이에 따른 loss 그래프"
      ],
      "metadata": {
        "id": "lun-c3wO_LTo"
      },
      "execution_count": 73,
      "outputs": []
    },
    {
      "cell_type": "code",
      "source": [
        "# import matplotlib.pyplot as plt\n",
        "\n",
        "# for seq_len in [4, 8, 12, 16, 20]:\n",
        "#   losses = train(seq_len)\n",
        "#   plt.plot(range(200), losses, label=f\"seq_len={seq_len}\")\n",
        "# plt.legend()\n",
        "# plt.show()"
      ],
      "metadata": {
        "colab": {
          "base_uri": "https://localhost:8080/",
          "height": 430
        },
        "id": "5-SrydqHbHru",
        "outputId": "c8fdc4a9-651c-4516-bfc7-fa3b47c93259"
      },
      "execution_count": null,
      "outputs": [
        {
          "output_type": "display_data",
          "data": {
            "text/plain": [
              "<Figure size 640x480 with 1 Axes>"
            ],
            "image/png": "[encoded data removed]"
          },
          "metadata": {}
        }
      ]
    },
    {
      "cell_type": "code",
      "source": [
        "# import plotly.graph_objects as go\n",
        "\n",
        "# fig = go.Figure()\n",
        "# for seq_len in [4, 8, 12, 16, 20, 24]:\n",
        "#   fig.add_trace(go.Scatter(x=list(range(200)), y=train(seq_len), name=f\"seq_len={seq_len}\"))\n",
        "# fig.show()"
      ],
      "metadata": {
        "colab": {
          "base_uri": "https://localhost:8080/",
          "height": 542
        },
        "id": "ZKw8XP3GcQ52",
        "outputId": "cb0ab18f-5875-44f4-f8bf-86b1506824e8"
      },
      "execution_count": null,
      "outputs": [
        {
          "output_type": "display_data",
          "data": {
            "text/html": [
              "<html>\n",
              "<head><meta charset=\"utf-8\" /></head>\n",
              "<body>\n",
              "    <div>            <script src=\"https://cdnjs.cloudflare.com/ajax/libs/mathjax/2.7.5/MathJax.js?config=TeX-AMS-MML_SVG\"></script><script type=\"text/javascript\">if (window.MathJax && window.MathJax.Hub && window.MathJax.Hub.Config) {window.MathJax.Hub.Config({SVG: {font: \"STIX-Web\"}});}</script>                <script type=\"text/javascript\">window.PlotlyConfig = {MathJaxConfig: 'local'};</script>\n",
              "        <script charset=\"utf-8\" src=\"https://cdn.plot.ly/plotly-2.24.1.min.js\"></script>                <div id=\"16c8681d-f477-40df-b0b9-2d39d7f5c7a0\" class=\"plotly-graph-div\" style=\"height:525px; width:100%;\"></div>            <script type=\"text/javascript\">                                    window.PLOTLYENV=window.PLOTLYENV || {};                                    if (document.getElementById(\"16c8681d-f477-40df-b0b9-2d39d7f5c7a0\")) {                    Plotly.newPlot(                        \"16c8681d-f477-40df-b0b9-2d39d7f5c7a0\",                        [{\"name\":\"seq_len=4\",\"x\":[0,1,2,3,4,5,6,7,8,9,10,11,12,13,14,15,16,17,18,19,20,21,22,23,24,25,26,27,28,29,30,31,32,33,34,35,36,37,38,39,40,41,42,43,44,45,46,47,48,49,50,51,52,53,54,55,56,57,58,59,60,61,62,63,64,65,66,67,68,69,70,71,72,73,74,75,76,77,78,79,80,81,82,83,84,85,86,87,88,89,90,91,92,93,94,95,96,97,98,99,100,101,102,103,104,105,106,107,108,109,110,111,112,113,114,115,116,117,118,119,120,121,122,123,124,125,126,127,128,129,130,131,132,133,134,135,136,137,138,139,140,141,142,143,144,145,146,147,148,149,150,151,152,153,154,155,156,157,158,159,160,161,162,163,164,165,166,167,168,169,170,171,172,173,174,175,176,177,178,179,180,181,182,183,184,185,186,187,188,189,190,191,192,193,194,195,196,197,198,199],\"y\":[3.6913671493530273,3.643181085586548,3.5960965156555176,3.5473618507385254,3.495673179626465,3.4410359859466553,3.3852224349975586,3.3319897651672363,3.286094903945923,3.2508065700531006,3.2256875038146973,3.207303047180176,3.191554546356201,3.175391912460327,3.1574575901031494,3.137735605239868,3.1168150901794434,3.0952999591827393,3.0734920501708984,3.0512502193450928,3.027956247329712,3.002636671066284,2.974196434020996,2.9417073726654053,2.904716730117798,2.8634157180786133,2.8185176849365234,2.770914077758789,2.7213640213012695,2.6703712940216064,2.6182444095611572,2.565215826034546,2.5115296840667725,2.4574782848358154,2.403395891189575,2.349534273147583,2.29581356048584,2.2417376041412354,2.1867339611053467,2.130608558654785,2.073706865310669,2.016733169555664,1.960426926612854,1.9052799940109253,1.8514636754989624,1.7989741563796997,1.747809886932373,1.6979995965957642,1.6495041847229004,1.6021718978881836,1.55582857131958,1.5103894472122192,1.465893268585205,1.4224379062652588,1.3801026344299316,1.338935375213623,1.2989985942840576,1.2603771686553955,1.2231251001358032,1.1872072219848633,1.1525204181671143,1.1189719438552856,1.086534857749939,1.0552294254302979,1.0250728130340576,0.9960547089576721,0.9681516289710999,0.9413471221923828,0.915632963180542,0.8909925222396851,0.8673872351646423,0.8447608947753906,0.8230564594268799,0.8022324442863464,0.7822625041007996,0.7631236910820007,0.7447842359542847,0.7272014021873474,0.7103283405303955,0.6941235065460205,0.6785545349121094,0.6635984778404236,0.6492375135421753,0.6354565024375916,0.6222386360168457,0.6095644235610962,0.5974119305610657,0.5857570767402649,0.5745759606361389,0.5638455748558044,0.5535447597503662,0.5436540246009827,0.5341550707817078,0.5250306129455566,0.5162644982337952,0.507841169834137,0.49974575638771057,0.491963654756546,0.4844808578491211,0.47728365659713745,0.47035935521125793,0.46369633078575134,0.457284152507782,0.45111283659935,0.44517287611961365,0.4394550025463104,0.43395015597343445,0.4286494553089142,0.4235444962978363,0.4186273217201233,0.41389045119285583,0.40932685136795044,0.40493008494377136,0.4006938636302948,0.3966124653816223,0.3926801383495331,0.38889139890670776,0.3852410614490509,0.38172417879104614,0.3783360719680786,0.37507274746894836,0.37193024158477783,0.36890462040901184,0.3659922778606415,0.3631894290447235,0.36049243807792664,0.35789749026298523,0.35540103912353516,0.35299965739250183,0.3506898880004883,0.34846824407577515,0.34633156657218933,0.34427642822265625,0.3422996997833252,0.34039822220802307,0.33856892585754395,0.33680886030197144,0.33511513471603394,0.33348506689071655,0.33191588521003723,0.3304051160812378,0.3289501965045929,0.3275488018989563,0.326198548078537,0.32489731907844543,0.3236429691314697,0.32243338227272034,0.3212667405605316,0.32014113664627075,0.3190547525882721,0.3180059790611267,0.3169931471347809,0.31601470708847046,0.31506916880607605,0.3141551911830902,0.31327131390571594,0.31241628527641296,0.31158894300460815,0.31078803539276123,0.31001248955726624,0.30926114320755005,0.30853310227394104,0.307827353477478,0.3071429133415222,0.30647900700569153,0.30583468079566956,0.305209219455719,0.304601788520813,0.3040117025375366,0.30343830585479736,0.3028808832168579,0.3023388683795929,0.3018116056919098,0.3012985289096832,0.300799161195755,0.30031290650367737,0.2998393177986145,0.2993779480457306,0.29892829060554504,0.2984899580478668,0.2980625331401825,0.297645628452301,0.29723885655403137,0.29684191942214966,0.29645439982414246,0.2960760295391083,0.29570651054382324,0.2953454852104187,0.29499274492263794,0.2946479022502899,0.2943108379840851,0.29398125410079956,0.29365891218185425,0.29334354400634766,0.29303494095802307,0.29273292422294617,0.29243725538253784,0.29214781522750854,0.2918643653392792,0.2915867269039154],\"type\":\"scatter\"},{\"name\":\"seq_len=8\",\"x\":[0,1,2,3,4,5,6,7,8,9,10,11,12,13,14,15,16,17,18,19,20,21,22,23,24,25,26,27,28,29,30,31,32,33,34,35,36,37,38,39,40,41,42,43,44,45,46,47,48,49,50,51,52,53,54,55,56,57,58,59,60,61,62,63,64,65,66,67,68,69,70,71,72,73,74,75,76,77,78,79,80,81,82,83,84,85,86,87,88,89,90,91,92,93,94,95,96,97,98,99,100,101,102,103,104,105,106,107,108,109,110,111,112,113,114,115,116,117,118,119,120,121,122,123,124,125,126,127,128,129,130,131,132,133,134,135,136,137,138,139,140,141,142,143,144,145,146,147,148,149,150,151,152,153,154,155,156,157,158,159,160,161,162,163,164,165,166,167,168,169,170,171,172,173,174,175,176,177,178,179,180,181,182,183,184,185,186,187,188,189,190,191,192,193,194,195,196,197,198,199],\"y\":[3.752560615539551,3.692650556564331,3.6356260776519775,3.5786945819854736,3.5200700759887695,3.45900559425354,3.396127462387085,3.333669900894165,3.2752721309661865,3.2248640060424805,3.1846935749053955,3.1537578105926514,3.128484010696411,3.104907989501953,3.080026626586914,3.0522758960723877,3.021329164505005,2.9872047901153564,2.9493331909179688,2.906548261642456,2.85833740234375,2.805941581726074,2.751981735229492,2.6989383697509766,2.6478142738342285,2.598026990890503,2.5483639240264893,2.497802495956421,2.4456980228424072,2.391998529434204,2.337489128112793,2.2835328578948975,2.2313742637634277,2.1815056800842285,2.133553981781006,2.0868160724639893,2.040825366973877,1.9954228401184082,1.9507490396499634,1.9070862531661987,1.8644498586654663,1.822527289390564,1.7807492017745972,1.7385562658309937,1.6961356401443481,1.654091238975525,1.612092137336731,1.5694166421890259,1.5266886949539185,1.4849967956542969,1.444197654724121,1.4037598371505737,1.363958716392517,1.3251467943191528,1.2871593236923218,1.2498939037322998,1.2134135961532593,1.1775133609771729,1.1421363353729248,1.1076995134353638,1.0744439363479614,1.0421563386917114,1.010722279548645,0.9803104400634766,0.9510263800621033,0.9228610992431641,0.8958390355110168,0.8699347972869873,0.8450210690498352,0.8210256695747375,0.7979868054389954,0.7759184837341309,0.754742443561554,0.7343729138374329,0.7147827744483948,0.6959705352783203,0.6779168248176575,0.6605932712554932,0.6439753174781799,0.6280329823493958,0.61272794008255,0.5980282425880432,0.5839104652404785,0.5703505873680115,0.5573229193687439,0.5448047518730164,0.5327771902084351,0.5212191939353943,0.5101059675216675,0.49941301345825195,0.48911920189857483,0.4792070686817169,0.4696614444255829,0.46046891808509827,0.4516158998012543,0.4430862367153168,0.4348613917827606,0.4269227087497711,0.4192550480365753,0.41184699535369873,0.4046890437602997,0.39777156710624695,0.39108529686927795,0.38462206721305847,0.3783746063709259,0.3723357617855072,0.36649754643440247,0.3608519732952118,0.3553915321826935,0.3501092493534088,0.34499791264533997,0.340050607919693,0.33526137471199036,0.33062544465065,0.32613855600357056,0.3217967450618744,0.31759586930274963,0.3135316073894501,0.30959925055503845,0.3057941496372223,0.30211156606674194,0.2985474169254303,0.2950981557369232,0.2917604148387909,0.2885309159755707,0.28540629148483276,0.2823833227157593,0.2794589400291443,0.2766301929950714,0.2738942503929138,0.27124831080436707,0.26868966221809387,0.26621565222740173,0.26382341980934143,0.26151028275489807,0.25927358865737915,0.2571106255054474,0.25501880049705505,0.2529955804347992,0.25103846192359924,0.24914507567882538,0.24731312692165375,0.2455403059720993,0.24382448196411133,0.24216359853744507,0.24055562913417816,0.23899848759174347,0.2374904751777649,0.23602962493896484,0.23461435735225677,0.23324282467365265,0.23191358149051666,0.23062503337860107,0.2293756604194641,0.22816407680511475,0.22698897123336792,0.22584892809391022,0.22474275529384613,0.22366921603679657,0.22262714803218842,0.22161538898944855,0.2206328958272934,0.21967856585979462,0.21875149011611938,0.21785058081150055,0.21697497367858887,0.2161237597465515,0.21529613435268402,0.2144911289215088,0.21370810270309448,0.21294617652893066,0.2122046798467636,0.2114829272031784,0.21078014373779297,0.21009574830532074,0.209429070353508,0.20877955853939056,0.2081465870141983,0.20752961933612823,0.20692811906337738,0.20634156465530396,0.20576946437358856,0.20521129667758942,0.20466671884059906,0.20413516461849213,0.20361627638339996,0.20310963690280914,0.202614888548851,0.20213162899017334,0.2016594558954239,0.20119808614253998,0.20074714720249176,0.20030634105205536,0.1998753547668457,0.19945387542247772,0.19904164969921112,0.19863837957382202,0.19824375212192535,0.19785761833190918,0.19747965037822723],\"type\":\"scatter\"},{\"name\":\"seq_len=12\",\"x\":[0,1,2,3,4,5,6,7,8,9,10,11,12,13,14,15,16,17,18,19,20,21,22,23,24,25,26,27,28,29,30,31,32,33,34,35,36,37,38,39,40,41,42,43,44,45,46,47,48,49,50,51,52,53,54,55,56,57,58,59,60,61,62,63,64,65,66,67,68,69,70,71,72,73,74,75,76,77,78,79,80,81,82,83,84,85,86,87,88,89,90,91,92,93,94,95,96,97,98,99,100,101,102,103,104,105,106,107,108,109,110,111,112,113,114,115,116,117,118,119,120,121,122,123,124,125,126,127,128,129,130,131,132,133,134,135,136,137,138,139,140,141,142,143,144,145,146,147,148,149,150,151,152,153,154,155,156,157,158,159,160,161,162,163,164,165,166,167,168,169,170,171,172,173,174,175,176,177,178,179,180,181,182,183,184,185,186,187,188,189,190,191,192,193,194,195,196,197,198,199],\"y\":[3.676565170288086,3.6086294651031494,3.5399868488311768,3.468940496444702,3.3978466987609863,3.3319272994995117,3.2768568992614746,3.2359330654144287,3.207753896713257,3.187279224395752,3.168773651123047,3.148275375366211,3.1250381469726562,3.1006600856781006,3.0769705772399902,3.0543460845947266,3.031151056289673,3.004610300064087,2.97275710105896,2.935838222503662,2.8955490589141846,2.8531363010406494,2.8084263801574707,2.760498285293579,2.708937168121338,2.6545279026031494,2.5991086959838867,2.544581890106201,2.491515874862671,2.438692092895508,2.384286642074585,2.327572822570801,2.2695021629333496,2.2115859985351562,2.1541366577148438,2.0963075160980225,2.0384132862091064,1.9823869466781616,1.928717851638794,1.8755725622177124,1.8222620487213135,1.7702594995498657,1.720092535018921,1.6700670719146729,1.6201205253601074,1.5717674493789673,1.5248603820800781,1.4785969257354736,1.4334889650344849,1.3903230428695679,1.3487612009048462,1.3082046508789062,1.2687960863113403,1.23054838180542,1.192940354347229,1.1558870077133179,1.1199760437011719,1.085434079170227,1.0518311262130737,1.019087553024292,0.987446665763855,0.9567436575889587,0.9268080592155457,0.8978632092475891,0.8700825572013855,0.8434064388275146,0.8178226947784424,0.7933508157730103,0.7698961496353149,0.747366726398468,0.7257706522941589,0.7051134705543518,0.6853364109992981,0.6663919687271118,0.6482691168785095,0.6309358477592468,0.6143373250961304,0.5984416604042053,0.5832387208938599,0.5687060952186584,0.554806113243103,0.5415040254592896,0.5287656188011169,0.5165485143661499,0.5048139095306396,0.49353963136672974,0.48270881175994873,0.4722939729690552,0.46226343512535095,0.4525972604751587,0.44328442215919495,0.43430766463279724,0.42564257979393005,0.4172704815864563,0.40918266773223877,0.40136995911598206,0.3938165605068207,0.38650810718536377,0.37943705916404724,0.3725968599319458,0.3659769296646118,0.3595670163631439,0.3533604145050049,0.3473512530326843,0.3415325880050659,0.3358994722366333,0.3304481506347656,0.3251729905605316,0.32006728649139404,0.3151266574859619,0.3103469908237457,0.3057221472263336,0.30124592781066895,0.2969144880771637,0.2927238941192627,0.2886687219142914,0.284743994474411,0.28094616532325745,0.27727165818214417,0.2737163305282593,0.2702763080596924,0.2669481337070465,0.2637280821800232,0.2606123983860016,0.25759750604629517,0.2546801269054413,0.2518569827079773,0.24912455677986145,0.24647986888885498,0.2439199537038803,0.24144183099269867,0.23904244601726532,0.2367190271615982,0.23446881771087646,0.2322894036769867,0.23017799854278564,0.22813214361667633,0.22614941000938416,0.22422747313976288,0.2223641276359558,0.22055701911449432,0.21880394220352173,0.21710292994976044,0.21545195579528809,0.2138490378856659,0.21229229867458344,0.21077986061573029,0.20931005477905273,0.2078811228275299,0.20649150013923645,0.20513948798179626,0.20382367074489594,0.2025425136089325,0.20129460096359253,0.2000785917043686,0.198893204331398,0.19773706793785095,0.1966090202331543,0.19550786912441254,0.19443251192569733,0.19338186085224152,0.19235488772392273,0.1913505643606186,0.19036798179149628,0.18940623104572296,0.1884644329547882,0.18754179775714874,0.1866375356912613,0.18575093150138855,0.1848812848329544,0.18402796983718872,0.18319043517112732,0.18236812949180603,0.18156056106090546,0.18076729774475098,0.17998793721199036,0.1792221963405609,0.1784697324037552,0.17773033678531647,0.1770038604736328,0.17629002034664154,0.17558874189853668,0.17489993572235107,0.17422346770763397,0.1735592484474182,0.17290715873241425,0.1722670942544937,0.17163890600204468,0.1710224449634552,0.17041751742362976,0.16982395946979523,0.1692415326833725,0.16866998374462128,0.16810905933380127,0.1675584763288498,0.16701795160770416,0.1664872020483017,0.16596587002277374,0.1654537320137024,0.16495047509670258],\"type\":\"scatter\"},{\"name\":\"seq_len=16\",\"x\":[0,1,2,3,4,5,6,7,8,9,10,11,12,13,14,15,16,17,18,19,20,21,22,23,24,25,26,27,28,29,30,31,32,33,34,35,36,37,38,39,40,41,42,43,44,45,46,47,48,49,50,51,52,53,54,55,56,57,58,59,60,61,62,63,64,65,66,67,68,69,70,71,72,73,74,75,76,77,78,79,80,81,82,83,84,85,86,87,88,89,90,91,92,93,94,95,96,97,98,99,100,101,102,103,104,105,106,107,108,109,110,111,112,113,114,115,116,117,118,119,120,121,122,123,124,125,126,127,128,129,130,131,132,133,134,135,136,137,138,139,140,141,142,143,144,145,146,147,148,149,150,151,152,153,154,155,156,157,158,159,160,161,162,163,164,165,166,167,168,169,170,171,172,173,174,175,176,177,178,179,180,181,182,183,184,185,186,187,188,189,190,191,192,193,194,195,196,197,198,199],\"y\":[3.7263243198394775,3.666804313659668,3.610659122467041,3.551738739013672,3.486733913421631,3.4151535034179688,3.3407883644104004,3.2721002101898193,3.217958688735962,3.181225538253784,3.157907009124756,3.141474723815918,3.1262848377227783,3.108520269393921,3.0862371921539307,3.059044122695923,3.0272955894470215,2.991100549697876,2.950040578842163,2.904005289077759,2.854370355606079,2.8039369583129883,2.7552571296691895,2.709009885787964,2.6632046699523926,2.6140317916870117,2.5591652393341064,2.5003604888916016,2.441985845565796,2.3870797157287598,2.335089921951294,2.283111810684204,2.228959083557129,2.1729557514190674,2.117048740386963,2.062896966934204,2.0107977390289307,1.9599125385284424,1.9090338945388794,1.8572639226913452,1.8048332929611206,1.7531952857971191,1.7031837701797485,1.6536999940872192,1.6034221649169922,1.5527679920196533,1.5031462907791138,1.4550307989120483,1.4077481031417847,1.3607831001281738,1.3146476745605469,1.2703531980514526,1.2281134128570557,1.1871920824050903,1.1471402645111084,1.108217716217041,1.0706055164337158,1.0340789556503296,0.9985305666923523,0.9643262624740601,0.9318211078643799,0.900713324546814,0.8704628348350525,0.8411800861358643,0.8133558630943298,0.7870746850967407,0.7620438933372498,0.7380702495574951,0.7151594758033752,0.6932865381240845,0.6723074316978455,0.6521190404891968,0.6327635049819946,0.614320695400238,0.5967730283737183,0.5800319910049438,0.5640419721603394,0.5487955808639526,0.5342679023742676,0.5203954577445984,0.507127583026886,0.4944566786289215,0.482388973236084,0.47090694308280945,0.4599659740924835,0.44951197504997253,0.4395015835762024,0.429911732673645,0.420730322599411,0.4119388461112976,0.40350964665412903,0.39541757106781006,0.38764670491218567,0.38018277287483215,0.3730044662952423,0.3660896122455597,0.3594241142272949,0.35300183296203613,0.3468154966831207,0.34085193276405334,0.3350953757762909,0.32953211665153503,0.32415226101875305,0.3189487159252167,0.3139151632785797,0.30904510617256165,0.30433163046836853,0.29976776242256165,0.2953473925590515,0.2910648584365845,0.2869144678115845,0.28289058804512024,0.2789880931377411,0.27520278096199036,0.27153053879737854,0.26796698570251465,0.26450732350349426,0.2611468732357025,0.25788170099258423,0.2547082304954529,0.2516230344772339,0.24862295389175415,0.2457049936056137,0.24286650121212006,0.24010486900806427,0.2374180406332016,0.2348039150238037,0.23226065933704376,0.22978653013706207,0.2273799031972885,0.22503913938999176,0.22276286780834198,0.22054964303970337,0.2183980941772461,0.21630683541297913,0.21427439153194427,0.21229934692382812,0.21038030087947845,0.20851579308509827,0.20670460164546967,0.20494526624679565,0.2032364308834076,0.20157666504383087,0.1999645084142685,0.19839850068092346,0.19687725603580475,0.19539932906627655,0.19396330416202545,0.19256776571273804,0.19121135771274567,0.1898927241563797,0.1886105090379715,0.187363401055336,0.1861502081155777,0.18496966361999512,0.18382062017917633,0.18270187079906464,0.1816123127937317,0.18055085837841034,0.17951644957065582,0.17850804328918457,0.17752467095851898,0.17656537890434265,0.17562918365001678,0.17471519112586975,0.17382250726222992,0.17295028269290924,0.17209769785404205,0.1712639033794403,0.17044806480407715,0.16964946687221527,0.1688673198223114,0.16810081899166107,0.16734930872917175,0.16661201417446136,0.16588826477527618,0.1651773303747177,0.16447848081588745,0.16379106044769287,0.16311438381671906,0.1624477505683899,0.16179047524929047,0.16114185750484467,0.16050124168395996,0.15986794233322144,0.15924125909805298,0.15862053632736206,0.15800505876541138,0.15739423036575317,0.15678729116916656,0.15618370473384857,0.15558277070522308,0.15498393774032593,0.15438666939735413,0.1537904590368271,0.15319488942623138,0.15259961783885956,0.15200434625148773,0.15140894055366516,0.15081335604190826],\"type\":\"scatter\"},{\"name\":\"seq_len=20\",\"x\":[0,1,2,3,4,5,6,7,8,9,10,11,12,13,14,15,16,17,18,19,20,21,22,23,24,25,26,27,28,29,30,31,32,33,34,35,36,37,38,39,40,41,42,43,44,45,46,47,48,49,50,51,52,53,54,55,56,57,58,59,60,61,62,63,64,65,66,67,68,69,70,71,72,73,74,75,76,77,78,79,80,81,82,83,84,85,86,87,88,89,90,91,92,93,94,95,96,97,98,99,100,101,102,103,104,105,106,107,108,109,110,111,112,113,114,115,116,117,118,119,120,121,122,123,124,125,126,127,128,129,130,131,132,133,134,135,136,137,138,139,140,141,142,143,144,145,146,147,148,149,150,151,152,153,154,155,156,157,158,159,160,161,162,163,164,165,166,167,168,169,170,171,172,173,174,175,176,177,178,179,180,181,182,183,184,185,186,187,188,189,190,191,192,193,194,195,196,197,198,199],\"y\":[3.723320960998535,3.649197816848755,3.5774524211883545,3.503336191177368,3.4288835525512695,3.3583295345306396,3.2962329387664795,3.2462754249572754,3.2096145153045654,3.183833122253418,3.1641829013824463,3.1462597846984863,3.127484083175659,3.107128620147705,3.085397720336914,3.062424659729004,3.037719249725342,3.010122299194336,2.9782559871673584,2.9411396980285645,2.898521900177002,2.8508262634277344,2.799124002456665,2.7454993724823,2.6931803226470947,2.6446444988250732,2.5976009368896484,2.545811653137207,2.4861433506011963,2.420762300491333,2.3539950847625732,2.2895660400390625,2.2285871505737305,2.1686723232269287,2.1068496704101562,2.0430405139923096,1.9797704219818115,1.9194291830062866,1.8623874187469482,1.8072402477264404,1.7519012689590454,1.695517897605896,1.6396658420562744,1.5863057374954224,1.5353033542633057,1.4852107763290405,1.4356319904327393,1.3874220848083496,1.3409711122512817,1.295685887336731,1.2513400316238403,1.208620309829712,1.1677935123443604,1.1279449462890625,1.0883605480194092,1.0496019124984741,1.0124338865280151,0.9767672419548035,0.9423028230667114,0.9092254638671875,0.8776822090148926,0.8473832011222839,0.8181324601173401,0.79011470079422,0.7634143829345703,0.7378001809120178,0.7131102085113525,0.689477801322937,0.6670873761177063,0.6458743810653687,0.6256542205810547,0.6064048409461975,0.5881351828575134,0.5706980228424072,0.553961455821991,0.5379688739776611,0.522781491279602,0.5083360075950623,0.49456170201301575,0.4814668297767639,0.46903494000434875,0.4571871757507324,0.44587787985801697,0.4351128339767456,0.42486661672592163,0.41507023572921753,0.40568703413009644,0.3967321217060089,0.3882068395614624,0.38006752729415894,0.3722691833972931,0.3647974729537964,0.3576495945453644,0.3508055806159973,0.3442319333553314,0.3379041850566864,0.33181214332580566,0.3259461522102356,0.3202897906303406,0.3148289620876312,0.3095560371875763,0.30446362495422363,0.29953911900520325,0.29476919770240784,0.2901455760002136,0.28566330671310425,0.28131577372550964,0.27709394693374634,0.2729894816875458,0.2689976394176483,0.26511502265930176,0.2613379657268524,0.2576623558998108,0.25408416986465454,0.2505997121334076,0.24720551073551178,0.2438984215259552,0.2406758815050125,0.23753505945205688,0.2344728708267212,0.2314862459897995,0.22857294976711273,0.22573138773441315,0.22295977175235748,0.22025619447231293,0.21761903166770935,0.21504735946655273,0.2125406116247177,0.21009795367717743,0.20771831274032593,0.2054004669189453,0.20314347743988037,0.2009461522102356,0.19880744814872742,0.19672615826129913,0.1947009116411209,0.19273056089878082,0.190813809633255,0.18894943594932556,0.18713617324829102,0.1853727102279663,0.18365776538848877,0.18198996782302856,0.18036793172359467,0.17879031598567963,0.17725586891174316,0.17576314508914948,0.17431087791919708,0.17289763689041138,0.17152205109596252,0.17018279433250427,0.16887842118740082,0.1676076203584671,0.16636888682842255,0.1651608645915985,0.16398219764232635,0.16283144056797028,0.16170723736286163,0.1606082022190094,0.15953290462493896,0.15848007798194885,0.15744823217391968,0.1564360409975052,0.1554422229528427,0.1544654369354248,0.15350441634655,0.15255796909332275,0.15162502229213715,0.15070445835590363,0.1497953236103058,0.14889675378799438,0.14800798892974854,0.14712834358215332,0.14625726640224457,0.14539428055286407,0.14453892409801483,0.14369086921215057,0.14284974336624146,0.1420152634382248,0.1411871463060379,0.1403650939464569,0.1395488679409027,0.13873812556266785,0.1379326730966568,0.1371321976184845,0.13633650541305542,0.13554534316062927,0.1347586065530777,0.13397616147994995,0.13319805264472961,0.13242433965206146,0.1316552609205246,0.13089105486869812,0.13013212382793427,0.12937895953655243,0.128632053732872,0.12789200246334076,0.12715943157672882,0.12643499672412872,0.12571929395198822],\"type\":\"scatter\"},{\"name\":\"seq_len=24\",\"x\":[0,1,2,3,4,5,6,7,8,9,10,11,12,13,14,15,16,17,18,19,20,21,22,23,24,25,26,27,28,29,30,31,32,33,34,35,36,37,38,39,40,41,42,43,44,45,46,47,48,49,50,51,52,53,54,55,56,57,58,59,60,61,62,63,64,65,66,67,68,69,70,71,72,73,74,75,76,77,78,79,80,81,82,83,84,85,86,87,88,89,90,91,92,93,94,95,96,97,98,99,100,101,102,103,104,105,106,107,108,109,110,111,112,113,114,115,116,117,118,119,120,121,122,123,124,125,126,127,128,129,130,131,132,133,134,135,136,137,138,139,140,141,142,143,144,145,146,147,148,149,150,151,152,153,154,155,156,157,158,159,160,161,162,163,164,165,166,167,168,169,170,171,172,173,174,175,176,177,178,179,180,181,182,183,184,185,186,187,188,189,190,191,192,193,194,195,196,197,198,199],\"y\":[3.674968719482422,3.6059069633483887,3.5295817852020264,3.445300579071045,3.3580451011657715,3.279123544692993,3.2226040363311768,3.1937413215637207,3.18060564994812,3.1685287952423096,3.151465892791748,3.1302945613861084,3.108736276626587,3.0899510383605957,3.0742886066436768,3.0593740940093994,3.0422770977020264,3.021231174468994,2.9958600997924805,2.9668490886688232,2.9354348182678223,2.902127981185913,2.865283250808716,2.823312520980835,2.7773592472076416,2.7298049926757812,2.6822011470794678,2.6344504356384277,2.58543062210083,2.53481125831604,2.4832217693328857,2.4308383464813232,2.3763606548309326,2.317701816558838,2.2551627159118652,2.193425178527832,2.1365864276885986,2.080965280532837,2.021585702896118,1.9603396654129028,1.9017986059188843,1.8471455574035645,1.7935880422592163,1.7387406826019287,1.683877944946289,1.6309905052185059,1.5795186758041382,1.5285907983779907,1.4782471656799316,1.4291945695877075,1.3818588256835938,1.3360010385513306,1.2912458181381226,1.2469013929367065,1.2035682201385498,1.1624218225479126,1.1225768327713013,1.0828754901885986,1.0443241596221924,1.0073399543762207,0.9714537858963013,0.9365465044975281,0.9027140140533447,0.8702991604804993,0.839509904384613,0.8099654316902161,0.7815057039260864,0.7544082403182983,0.7285405993461609,0.7035956978797913,0.6796130537986755,0.656749427318573,0.634984016418457,0.6141730546951294,0.5942513942718506,0.5752595663070679,0.5572105050086975,0.5400661826133728,0.5237815380096436,0.5082669258117676,0.4934225380420685,0.47925272583961487,0.4658096134662628,0.45305493474006653,0.4408884346485138,0.4292522370815277,0.418147474527359,0.407585471868515,0.39753854274749756,0.38793522119522095,0.3787173628807068,0.36987656354904175,0.36142128705978394,0.3533356487751007,0.34558001160621643,0.3381156921386719,0.3309241235256195,0.3240013122558594,0.31733471155166626,0.3108963370323181,0.3046618700027466,0.29862529039382935,0.2927863895893097,0.28713902831077576,0.2816777229309082,0.27639907598495483,0.2712942659854889,0.26635318994522095,0.26157376170158386,0.25695621967315674,0.2524934709072113,0.2481769174337387,0.2440037727355957,0.23997171223163605,0.23607228696346283,0.2322964072227478,0.22864049673080444,0.2251029759645462,0.22167930006980896,0.2183638960123062,0.21515335142612457,0.21204496920108795,0.20903436839580536,0.20611657202243805,0.20328816771507263,0.20054644346237183,0.19788803160190582,0.19530896842479706,0.19280579686164856,0.19037523865699768,0.1880137175321579,0.1857176572084427,0.18348382413387299,0.18130892515182495,0.1791897714138031,0.17712315917015076,0.17510618269443512,0.1731359213590622,0.17120949923992157,0.16932407021522522,0.1674771010875702,0.16566628217697144,0.16388916969299316,0.16214361786842346,0.16042760014533997,0.1587395966053009,0.15707796812057495,0.15544141829013824,0.15382900834083557,0.15224027633666992,0.15067484974861145,0.14913247525691986,0.14761319756507874,0.14611710608005524,0.14464426040649414,0.14319473505020142,0.1417684108018875,0.14036504924297333,0.13898423314094543,0.13762536644935608,0.13628767430782318,0.13497035205364227,0.13367271423339844,0.1323942244052887,0.13113448023796082,0.12989318370819092,0.12867026031017303,0.12746569514274597,0.12627945840358734,0.12511153519153595,0.12396185100078583,0.12283024936914444,0.1217164620757103,0.12062018364667892,0.11954113095998764,0.118478924036026,0.11743325740098953,0.11640389263629913,0.11539056897163391,0.11439322680234909,0.11341183632612228,0.11244650185108185,0.11149751394987106,0.11056514829397202,0.10964982956647873,0.10875196009874344,0.10787191987037659,0.10701011121273041,0.10616673529148102,0.10534199327230453,0.10453590005636215,0.10374835133552551,0.10297919064760208,0.1022280678153038,0.10149464756250381,0.10077857971191406,0.10007945448160172,0.09939686954021454,0.09873045235872269,0.09807988256216049],\"type\":\"scatter\"}],                        {\"template\":{\"data\":{\"histogram2dcontour\":[{\"type\":\"histogram2dcontour\",\"colorbar\":{\"outlinewidth\":0,\"ticks\":\"\"},\"colorscale\":[[0.0,\"#0d0887\"],[0.1111111111111111,\"#46039f\"],[0.2222222222222222,\"#7201a8\"],[0.3333333333333333,\"#9c179e\"],[0.4444444444444444,\"#bd3786\"],[0.5555555555555556,\"#d8576b\"],[0.6666666666666666,\"#ed7953\"],[0.7777777777777778,\"#fb9f3a\"],[0.8888888888888888,\"#fdca26\"],[1.0,\"#f0f921\"]]}],\"choropleth\":[{\"type\":\"choropleth\",\"colorbar\":{\"outlinewidth\":0,\"ticks\":\"\"}}],\"histogram2d\":[{\"type\":\"histogram2d\",\"colorbar\":{\"outlinewidth\":0,\"ticks\":\"\"},\"colorscale\":[[0.0,\"#0d0887\"],[0.1111111111111111,\"#46039f\"],[0.2222222222222222,\"#7201a8\"],[0.3333333333333333,\"#9c179e\"],[0.4444444444444444,\"#bd3786\"],[0.5555555555555556,\"#d8576b\"],[0.6666666666666666,\"#ed7953\"],[0.7777777777777778,\"#fb9f3a\"],[0.8888888888888888,\"#fdca26\"],[1.0,\"#f0f921\"]]}],\"heatmap\":[{\"type\":\"heatmap\",\"colorbar\":{\"outlinewidth\":0,\"ticks\":\"\"},\"colorscale\":[[0.0,\"#0d0887\"],[0.1111111111111111,\"#46039f\"],[0.2222222222222222,\"#7201a8\"],[0.3333333333333333,\"#9c179e\"],[0.4444444444444444,\"#bd3786\"],[0.5555555555555556,\"#d8576b\"],[0.6666666666666666,\"#ed7953\"],[0.7777777777777778,\"#fb9f3a\"],[0.8888888888888888,\"#fdca26\"],[1.0,\"#f0f921\"]]}],\"heatmapgl\":[{\"type\":\"heatmapgl\",\"colorbar\":{\"outlinewidth\":0,\"ticks\":\"\"},\"colorscale\":[[0.0,\"#0d0887\"],[0.1111111111111111,\"#46039f\"],[0.2222222222222222,\"#7201a8\"],[0.3333333333333333,\"#9c179e\"],[0.4444444444444444,\"#bd3786\"],[0.5555555555555556,\"#d8576b\"],[0.6666666666666666,\"#ed7953\"],[0.7777777777777778,\"#fb9f3a\"],[0.8888888888888888,\"#fdca26\"],[1.0,\"#f0f921\"]]}],\"contourcarpet\":[{\"type\":\"contourcarpet\",\"colorbar\":{\"outlinewidth\":0,\"ticks\":\"\"}}],\"contour\":[{\"type\":\"contour\",\"colorbar\":{\"outlinewidth\":0,\"ticks\":\"\"},\"colorscale\":[[0.0,\"#0d0887\"],[0.1111111111111111,\"#46039f\"],[0.2222222222222222,\"#7201a8\"],[0.3333333333333333,\"#9c179e\"],[0.4444444444444444,\"#bd3786\"],[0.5555555555555556,\"#d8576b\"],[0.6666666666666666,\"#ed7953\"],[0.7777777777777778,\"#fb9f3a\"],[0.8888888888888888,\"#fdca26\"],[1.0,\"#f0f921\"]]}],\"surface\":[{\"type\":\"surface\",\"colorbar\":{\"outlinewidth\":0,\"ticks\":\"\"},\"colorscale\":[[0.0,\"#0d0887\"],[0.1111111111111111,\"#46039f\"],[0.2222222222222222,\"#7201a8\"],[0.3333333333333333,\"#9c179e\"],[0.4444444444444444,\"#bd3786\"],[0.5555555555555556,\"#d8576b\"],[0.6666666666666666,\"#ed7953\"],[0.7777777777777778,\"#fb9f3a\"],[0.8888888888888888,\"#fdca26\"],[1.0,\"#f0f921\"]]}],\"mesh3d\":[{\"type\":\"mesh3d\",\"colorbar\":{\"outlinewidth\":0,\"ticks\":\"\"}}],\"scatter\":[{\"fillpattern\":{\"fillmode\":\"overlay\",\"size\":10,\"solidity\":0.2},\"type\":\"scatter\"}],\"parcoords\":[{\"type\":\"parcoords\",\"line\":{\"colorbar\":{\"outlinewidth\":0,\"ticks\":\"\"}}}],\"scatterpolargl\":[{\"type\":\"scatterpolargl\",\"marker\":{\"colorbar\":{\"outlinewidth\":0,\"ticks\":\"\"}}}],\"bar\":[{\"error_x\":{\"color\":\"#2a3f5f\"},\"error_y\":{\"color\":\"#2a3f5f\"},\"marker\":{\"line\":{\"color\":\"#E5ECF6\",\"width\":0.5},\"pattern\":{\"fillmode\":\"overlay\",\"size\":10,\"solidity\":0.2}},\"type\":\"bar\"}],\"scattergeo\":[{\"type\":\"scattergeo\",\"marker\":{\"colorbar\":{\"outlinewidth\":0,\"ticks\":\"\"}}}],\"scatterpolar\":[{\"type\":\"scatterpolar\",\"marker\":{\"colorbar\":{\"outlinewidth\":0,\"ticks\":\"\"}}}],\"histogram\":[{\"marker\":{\"pattern\":{\"fillmode\":\"overlay\",\"size\":10,\"solidity\":0.2}},\"type\":\"histogram\"}],\"scattergl\":[{\"type\":\"scattergl\",\"marker\":{\"colorbar\":{\"outlinewidth\":0,\"ticks\":\"\"}}}],\"scatter3d\":[{\"type\":\"scatter3d\",\"line\":{\"colorbar\":{\"outlinewidth\":0,\"ticks\":\"\"}},\"marker\":{\"colorbar\":{\"outlinewidth\":0,\"ticks\":\"\"}}}],\"scattermapbox\":[{\"type\":\"scattermapbox\",\"marker\":{\"colorbar\":{\"outlinewidth\":0,\"ticks\":\"\"}}}],\"scatterternary\":[{\"type\":\"scatterternary\",\"marker\":{\"colorbar\":{\"outlinewidth\":0,\"ticks\":\"\"}}}],\"scattercarpet\":[{\"type\":\"scattercarpet\",\"marker\":{\"colorbar\":{\"outlinewidth\":0,\"ticks\":\"\"}}}],\"carpet\":[{\"aaxis\":{\"endlinecolor\":\"#2a3f5f\",\"gridcolor\":\"white\",\"linecolor\":\"white\",\"minorgridcolor\":\"white\",\"startlinecolor\":\"#2a3f5f\"},\"baxis\":{\"endlinecolor\":\"#2a3f5f\",\"gridcolor\":\"white\",\"linecolor\":\"white\",\"minorgridcolor\":\"white\",\"startlinecolor\":\"#2a3f5f\"},\"type\":\"carpet\"}],\"table\":[{\"cells\":{\"fill\":{\"color\":\"#EBF0F8\"},\"line\":{\"color\":\"white\"}},\"header\":{\"fill\":{\"color\":\"#C8D4E3\"},\"line\":{\"color\":\"white\"}},\"type\":\"table\"}],\"barpolar\":[{\"marker\":{\"line\":{\"color\":\"#E5ECF6\",\"width\":0.5},\"pattern\":{\"fillmode\":\"overlay\",\"size\":10,\"solidity\":0.2}},\"type\":\"barpolar\"}],\"pie\":[{\"automargin\":true,\"type\":\"pie\"}]},\"layout\":{\"autotypenumbers\":\"strict\",\"colorway\":[\"#636efa\",\"#EF553B\",\"#00cc96\",\"#ab63fa\",\"#FFA15A\",\"#19d3f3\",\"#FF6692\",\"#B6E880\",\"#FF97FF\",\"#FECB52\"],\"font\":{\"color\":\"#2a3f5f\"},\"hovermode\":\"closest\",\"hoverlabel\":{\"align\":\"left\"},\"paper_bgcolor\":\"white\",\"plot_bgcolor\":\"#E5ECF6\",\"polar\":{\"bgcolor\":\"#E5ECF6\",\"angularaxis\":{\"gridcolor\":\"white\",\"linecolor\":\"white\",\"ticks\":\"\"},\"radialaxis\":{\"gridcolor\":\"white\",\"linecolor\":\"white\",\"ticks\":\"\"}},\"ternary\":{\"bgcolor\":\"#E5ECF6\",\"aaxis\":{\"gridcolor\":\"white\",\"linecolor\":\"white\",\"ticks\":\"\"},\"baxis\":{\"gridcolor\":\"white\",\"linecolor\":\"white\",\"ticks\":\"\"},\"caxis\":{\"gridcolor\":\"white\",\"linecolor\":\"white\",\"ticks\":\"\"}},\"coloraxis\":{\"colorbar\":{\"outlinewidth\":0,\"ticks\":\"\"}},\"colorscale\":{\"sequential\":[[0.0,\"#0d0887\"],[0.1111111111111111,\"#46039f\"],[0.2222222222222222,\"#7201a8\"],[0.3333333333333333,\"#9c179e\"],[0.4444444444444444,\"#bd3786\"],[0.5555555555555556,\"#d8576b\"],[0.6666666666666666,\"#ed7953\"],[0.7777777777777778,\"#fb9f3a\"],[0.8888888888888888,\"#fdca26\"],[1.0,\"#f0f921\"]],\"sequentialminus\":[[0.0,\"#0d0887\"],[0.1111111111111111,\"#46039f\"],[0.2222222222222222,\"#7201a8\"],[0.3333333333333333,\"#9c179e\"],[0.4444444444444444,\"#bd3786\"],[0.5555555555555556,\"#d8576b\"],[0.6666666666666666,\"#ed7953\"],[0.7777777777777778,\"#fb9f3a\"],[0.8888888888888888,\"#fdca26\"],[1.0,\"#f0f921\"]],\"diverging\":[[0,\"#8e0152\"],[0.1,\"#c51b7d\"],[0.2,\"#de77ae\"],[0.3,\"#f1b6da\"],[0.4,\"#fde0ef\"],[0.5,\"#f7f7f7\"],[0.6,\"#e6f5d0\"],[0.7,\"#b8e186\"],[0.8,\"#7fbc41\"],[0.9,\"#4d9221\"],[1,\"#276419\"]]},\"xaxis\":{\"gridcolor\":\"white\",\"linecolor\":\"white\",\"ticks\":\"\",\"title\":{\"standoff\":15},\"zerolinecolor\":\"white\",\"automargin\":true,\"zerolinewidth\":2},\"yaxis\":{\"gridcolor\":\"white\",\"linecolor\":\"white\",\"ticks\":\"\",\"title\":{\"standoff\":15},\"zerolinecolor\":\"white\",\"automargin\":true,\"zerolinewidth\":2},\"scene\":{\"xaxis\":{\"backgroundcolor\":\"#E5ECF6\",\"gridcolor\":\"white\",\"linecolor\":\"white\",\"showbackground\":true,\"ticks\":\"\",\"zerolinecolor\":\"white\",\"gridwidth\":2},\"yaxis\":{\"backgroundcolor\":\"#E5ECF6\",\"gridcolor\":\"white\",\"linecolor\":\"white\",\"showbackground\":true,\"ticks\":\"\",\"zerolinecolor\":\"white\",\"gridwidth\":2},\"zaxis\":{\"backgroundcolor\":\"#E5ECF6\",\"gridcolor\":\"white\",\"linecolor\":\"white\",\"showbackground\":true,\"ticks\":\"\",\"zerolinecolor\":\"white\",\"gridwidth\":2}},\"shapedefaults\":{\"line\":{\"color\":\"#2a3f5f\"}},\"annotationdefaults\":{\"arrowcolor\":\"#2a3f5f\",\"arrowhead\":0,\"arrowwidth\":1},\"geo\":{\"bgcolor\":\"white\",\"landcolor\":\"#E5ECF6\",\"subunitcolor\":\"white\",\"showland\":true,\"showlakes\":true,\"lakecolor\":\"white\"},\"title\":{\"x\":0.05},\"mapbox\":{\"style\":\"light\"}}}},                        {\"responsive\": true}                    ).then(function(){\n",
              "                            \n",
              "var gd = document.getElementById('16c8681d-f477-40df-b0b9-2d39d7f5c7a0');\n",
              "var x = new MutationObserver(function (mutations, observer) {{\n",
              "        var display = window.getComputedStyle(gd).display;\n",
              "        if (!display || display === 'none') {{\n",
              "            console.log([gd, 'removed!']);\n",
              "            Plotly.purge(gd);\n",
              "            observer.disconnect();\n",
              "        }}\n",
              "}});\n",
              "\n",
              "// Listen for the removal of the full notebook cells\n",
              "var notebookContainer = gd.closest('#notebook-container');\n",
              "if (notebookContainer) {{\n",
              "    x.observe(notebookContainer, {childList: true});\n",
              "}}\n",
              "\n",
              "// Listen for the clearing of the current output cell\n",
              "var outputEl = gd.closest('.output');\n",
              "if (outputEl) {{\n",
              "    x.observe(outputEl, {childList: true});\n",
              "}}\n",
              "\n",
              "                        })                };                            </script>        </div>\n",
              "</body>\n",
              "</html>"
            ]
          },
          "metadata": {}
        }
      ]
    },
    {
      "cell_type": "code",
      "source": [],
      "metadata": {
        "id": "qqYwxOTadkii"
      },
      "execution_count": null,
      "outputs": []
    }
  ]
}