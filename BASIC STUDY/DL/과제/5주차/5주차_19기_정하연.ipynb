{
  "nbformat": 4,
  "nbformat_minor": 0,
  "metadata": {
    "colab": {
      "provenance": []
    },
    "kernelspec": {
      "name": "python3",
      "display_name": "Python 3"
    },
    "language_info": {
      "name": "python"
    }
  },
  "cells": [
    {
      "cell_type": "code",
      "execution_count": 1,
      "metadata": {
        "id": "nmQ5F7UAeKB_"
      },
      "outputs": [],
      "source": [
        "import numpy as np\n",
        "import torch\n",
        "import torch.nn as nn\n",
        "import torch.optim as optim"
      ]
    },
    {
      "cell_type": "markdown",
      "source": [
        "## Task1\n",
        "\n",
        "빈 칸을 채워주세요!\n",
        "\n",
        "단계별 output이 github 파일에는 남아있으니 그 output과 동일한 형태인지 확인하면서 진행해주시면 됩니다~"
      ],
      "metadata": {
        "id": "Sgxd6SxmeVcP"
      }
    },
    {
      "cell_type": "code",
      "source": [
        "#1. 생성할 문장 데이터\n",
        "\n",
        "sentence = (\"Brick walls are there for a reason and you must not think \"\n",
        "            \"that the brick walls aren't there to keep us out, but rather \"\n",
        "            \"in this way that the brick walls are there to show us how badly we want things.\")"
      ],
      "metadata": {
        "id": "NDvUeC8BoUb6"
      },
      "execution_count": 2,
      "outputs": []
    },
    {
      "cell_type": "code",
      "source": [
        "world_set = list(set(sentence))\n",
        "\n",
        "print(world_set)"
      ],
      "metadata": {
        "colab": {
          "base_uri": "https://localhost:8080/"
        },
        "id": "hBUNVK69l8Gq",
        "outputId": "592ef469-a1cf-4dda-e668-a13650de625a"
      },
      "execution_count": 3,
      "outputs": [
        {
          "output_type": "stream",
          "name": "stdout",
          "text": [
            "['b', 'm', 'h', 'e', 'u', 'y', '.', 'f', 'B', ' ', 'a', 'c', 'i', 'o', ',', 's', 'g', 'p', 'w', 'k', 'l', 'd', 'n', 'r', \"'\", 't']\n"
          ]
        }
      ]
    },
    {
      "cell_type": "code",
      "source": [
        "#2. 문자 집합 만들기\n",
        "world_set = list(set(sentence))\n",
        "\n",
        "## 문제(1): 각 문자에 정수 인코딩 (공백도 하나의 원소로 포함)\n",
        "vocab = {char: idx for idx, char in enumerate(world_set)}"
      ],
      "metadata": {
        "id": "b9lkrKyZf8ie"
      },
      "execution_count": 4,
      "outputs": []
    },
    {
      "cell_type": "code",
      "source": [
        "print(vocab)\n",
        "\n",
        "# {',': 0, 'r': 1, 'i': 2, 's': 3, \"'\": 4, 'm': 5, 'l': 6, 'a': 7, 'p': 8, 'o': 9, 't': 10, 'h': 11, ' ': 12, 'e': 13, 'y': 14, 'd': 15, 'B': 16, 'n': 17, 'b': 18, '.': 19, 'w': 20, 'k': 21, 'c': 22, 'g': 23, 'f': 24, 'u': 25}\n"
      ],
      "metadata": {
        "colab": {
          "base_uri": "https://localhost:8080/"
        },
        "id": "F_0we5Y-gYDq",
        "outputId": "0a4d1a74-89f1-4ca9-dca6-59f9bc7576fd"
      },
      "execution_count": 5,
      "outputs": [
        {
          "output_type": "stream",
          "name": "stdout",
          "text": [
            "{'b': 0, 'm': 1, 'h': 2, 'e': 3, 'u': 4, 'y': 5, '.': 6, 'f': 7, 'B': 8, ' ': 9, 'a': 10, 'c': 11, 'i': 12, 'o': 13, ',': 14, 's': 15, 'g': 16, 'p': 17, 'w': 18, 'k': 19, 'l': 20, 'd': 21, 'n': 22, 'r': 23, \"'\": 24, 't': 25}\n"
          ]
        }
      ]
    },
    {
      "cell_type": "code",
      "source": [
        "#3. 문자 집합 크기 확인\n",
        "# 문자 집합 크기 : 26\n",
        "\n",
        "vocab_size = len(vocab)\n",
        "print('문자 집합 크기 : {}'.format(vocab_size))"
      ],
      "metadata": {
        "colab": {
          "base_uri": "https://localhost:8080/"
        },
        "id": "TpKupU6lgpfT",
        "outputId": "eb17e526-c859-4e08-9366-543b65fd4eb2"
      },
      "execution_count": 6,
      "outputs": [
        {
          "output_type": "stream",
          "name": "stdout",
          "text": [
            "문자 집합 크기 : 26\n"
          ]
        }
      ]
    },
    {
      "cell_type": "code",
      "source": [
        "#4. 하이퍼 파라미터 설정(자유롭게 수정해보세요!)\n",
        "\n",
        "hidden_size = vocab_size # 같아야 하는 것 확인!\n",
        "sequence_length = 3  # 너무 길거나 너무 짧게 잡으면 안됩니다!\n",
        "learning_rate = 0.01"
      ],
      "metadata": {
        "id": "wFDZJHSMg9In"
      },
      "execution_count": 7,
      "outputs": []
    },
    {
      "cell_type": "code",
      "source": [
        "#5. seqence 길이 단위 자르기\n",
        "\n",
        "# 데이터 구성을 위한 리스트\n",
        "x_data = []\n",
        "y_data = []\n",
        "\n",
        "## 문제(2): 반복문 내에서의 인덱싱을 사용하여 sequence_length 값 단위로 샘플을 잘라 데이터 만들기, y_str은 x_str은 한 칸씩 쉬프트된 sequnce\n",
        "\n",
        "for i in range(0, len(sentence) - sequence_length):\n",
        "  x_str = sentence[i: i + sequence_length]\n",
        "  y_str = sentence[i+1: i + sequence_length + 1]\n",
        "  print(i, x_str, \"->\", y_str)\n",
        "\n",
        "  # x_str과 y_str이 문자집합에 해당하는 인덱스를 각각 x_data, y_data에 append\n",
        "  x_data.append([vocab[c] for c in x_str])\n",
        "  y_data.append([vocab[d] for d in y_str])"
      ],
      "metadata": {
        "id": "RbDcmJmghN7V",
        "colab": {
          "base_uri": "https://localhost:8080/"
        },
        "outputId": "fec48b6f-f35c-44ff-89a4-8e8d68362a90"
      },
      "execution_count": 8,
      "outputs": [
        {
          "output_type": "stream",
          "name": "stdout",
          "text": [
            "0 Bri -> ric\n",
            "1 ric -> ick\n",
            "2 ick -> ck \n",
            "3 ck  -> k w\n",
            "4 k w ->  wa\n",
            "5  wa -> wal\n",
            "6 wal -> all\n",
            "7 all -> lls\n",
            "8 lls -> ls \n",
            "9 ls  -> s a\n",
            "10 s a ->  ar\n",
            "11  ar -> are\n",
            "12 are -> re \n",
            "13 re  -> e t\n",
            "14 e t ->  th\n",
            "15  th -> the\n",
            "16 the -> her\n",
            "17 her -> ere\n",
            "18 ere -> re \n",
            "19 re  -> e f\n",
            "20 e f ->  fo\n",
            "21  fo -> for\n",
            "22 for -> or \n",
            "23 or  -> r a\n",
            "24 r a ->  a \n",
            "25  a  -> a r\n",
            "26 a r ->  re\n",
            "27  re -> rea\n",
            "28 rea -> eas\n",
            "29 eas -> aso\n",
            "30 aso -> son\n",
            "31 son -> on \n",
            "32 on  -> n a\n",
            "33 n a ->  an\n",
            "34  an -> and\n",
            "35 and -> nd \n",
            "36 nd  -> d y\n",
            "37 d y ->  yo\n",
            "38  yo -> you\n",
            "39 you -> ou \n",
            "40 ou  -> u m\n",
            "41 u m ->  mu\n",
            "42  mu -> mus\n",
            "43 mus -> ust\n",
            "44 ust -> st \n",
            "45 st  -> t n\n",
            "46 t n ->  no\n",
            "47  no -> not\n",
            "48 not -> ot \n",
            "49 ot  -> t t\n",
            "50 t t ->  th\n",
            "51  th -> thi\n",
            "52 thi -> hin\n",
            "53 hin -> ink\n",
            "54 ink -> nk \n",
            "55 nk  -> k t\n",
            "56 k t ->  th\n",
            "57  th -> tha\n",
            "58 tha -> hat\n",
            "59 hat -> at \n",
            "60 at  -> t t\n",
            "61 t t ->  th\n",
            "62  th -> the\n",
            "63 the -> he \n",
            "64 he  -> e b\n",
            "65 e b ->  br\n",
            "66  br -> bri\n",
            "67 bri -> ric\n",
            "68 ric -> ick\n",
            "69 ick -> ck \n",
            "70 ck  -> k w\n",
            "71 k w ->  wa\n",
            "72  wa -> wal\n",
            "73 wal -> all\n",
            "74 all -> lls\n",
            "75 lls -> ls \n",
            "76 ls  -> s a\n",
            "77 s a ->  ar\n",
            "78  ar -> are\n",
            "79 are -> ren\n",
            "80 ren -> en'\n",
            "81 en' -> n't\n",
            "82 n't -> 't \n",
            "83 't  -> t t\n",
            "84 t t ->  th\n",
            "85  th -> the\n",
            "86 the -> her\n",
            "87 her -> ere\n",
            "88 ere -> re \n",
            "89 re  -> e t\n",
            "90 e t ->  to\n",
            "91  to -> to \n",
            "92 to  -> o k\n",
            "93 o k ->  ke\n",
            "94  ke -> kee\n",
            "95 kee -> eep\n",
            "96 eep -> ep \n",
            "97 ep  -> p u\n",
            "98 p u ->  us\n",
            "99  us -> us \n",
            "100 us  -> s o\n",
            "101 s o ->  ou\n",
            "102  ou -> out\n",
            "103 out -> ut,\n",
            "104 ut, -> t, \n",
            "105 t,  -> , b\n",
            "106 , b ->  bu\n",
            "107  bu -> but\n",
            "108 but -> ut \n",
            "109 ut  -> t r\n",
            "110 t r ->  ra\n",
            "111  ra -> rat\n",
            "112 rat -> ath\n",
            "113 ath -> the\n",
            "114 the -> her\n",
            "115 her -> er \n",
            "116 er  -> r i\n",
            "117 r i ->  in\n",
            "118  in -> in \n",
            "119 in  -> n t\n",
            "120 n t ->  th\n",
            "121  th -> thi\n",
            "122 thi -> his\n",
            "123 his -> is \n",
            "124 is  -> s w\n",
            "125 s w ->  wa\n",
            "126  wa -> way\n",
            "127 way -> ay \n",
            "128 ay  -> y t\n",
            "129 y t ->  th\n",
            "130  th -> tha\n",
            "131 tha -> hat\n",
            "132 hat -> at \n",
            "133 at  -> t t\n",
            "134 t t ->  th\n",
            "135  th -> the\n",
            "136 the -> he \n",
            "137 he  -> e b\n",
            "138 e b ->  br\n",
            "139  br -> bri\n",
            "140 bri -> ric\n",
            "141 ric -> ick\n",
            "142 ick -> ck \n",
            "143 ck  -> k w\n",
            "144 k w ->  wa\n",
            "145  wa -> wal\n",
            "146 wal -> all\n",
            "147 all -> lls\n",
            "148 lls -> ls \n",
            "149 ls  -> s a\n",
            "150 s a ->  ar\n",
            "151  ar -> are\n",
            "152 are -> re \n",
            "153 re  -> e t\n",
            "154 e t ->  th\n",
            "155  th -> the\n",
            "156 the -> her\n",
            "157 her -> ere\n",
            "158 ere -> re \n",
            "159 re  -> e t\n",
            "160 e t ->  to\n",
            "161  to -> to \n",
            "162 to  -> o s\n",
            "163 o s ->  sh\n",
            "164  sh -> sho\n",
            "165 sho -> how\n",
            "166 how -> ow \n",
            "167 ow  -> w u\n",
            "168 w u ->  us\n",
            "169  us -> us \n",
            "170 us  -> s h\n",
            "171 s h ->  ho\n",
            "172  ho -> how\n",
            "173 how -> ow \n",
            "174 ow  -> w b\n",
            "175 w b ->  ba\n",
            "176  ba -> bad\n",
            "177 bad -> adl\n",
            "178 adl -> dly\n",
            "179 dly -> ly \n",
            "180 ly  -> y w\n",
            "181 y w ->  we\n",
            "182  we -> we \n",
            "183 we  -> e w\n",
            "184 e w ->  wa\n",
            "185  wa -> wan\n",
            "186 wan -> ant\n",
            "187 ant -> nt \n",
            "188 nt  -> t t\n",
            "189 t t ->  th\n",
            "190  th -> thi\n",
            "191 thi -> hin\n",
            "192 hin -> ing\n",
            "193 ing -> ngs\n",
            "194 ngs -> gs.\n"
          ]
        }
      ]
    },
    {
      "cell_type": "code",
      "source": [
        "# 출력해서 한 칸씩 쉬프트된 것 확인하기!\n",
        "# [16, 1, 2, 22, 21, 12, 20, 7, 6, 6]\n",
        "# [1, 2, 22, 21, 12, 20, 7, 6, 6, 3]\n",
        "\n",
        "print(x_data[0])\n",
        "print(y_data[0])"
      ],
      "metadata": {
        "colab": {
          "base_uri": "https://localhost:8080/"
        },
        "id": "XVFlILiOixdc",
        "outputId": "9f4ddcb9-3540-4fb1-f03b-66e63dc4fc63"
      },
      "execution_count": 9,
      "outputs": [
        {
          "output_type": "stream",
          "name": "stdout",
          "text": [
            "[8, 23, 12]\n",
            "[23, 12, 11]\n"
          ]
        }
      ]
    },
    {
      "cell_type": "markdown",
      "source": [
        "![image.png](data:image/png;base64,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)"
      ],
      "metadata": {
        "id": "TvHbsbNVo0Na"
      }
    },
    {
      "cell_type": "code",
      "source": [
        "##6. 입력 시퀀스에 대해 원핫인코딩 수행\n",
        "\n",
        "## 문제(4) : x_data를 원핫인코딩 > numpy의 eye를 쓸 수 있지 않을까?\n",
        "x_one_hot = [np.eye(len(vocab))[c] for c in x_data]\n",
        "# np.eye(n, k=m, dtype=int) n*n 행렬 / k: 정방단위행렬을 기준으로 어느 부분에 대각행렬을 나타낼 건지\n",
        "\n",
        "##7. 입력 데이터, 레이블데이터 텐서로 변환\n",
        "\n",
        "## 문제(5) : x_one_hot과 y_data 텐서로 변환 : 둘 다 같은 형식의 텐서로 변환하면 될까?? (FloatTensor, LongTesor 중 맞는 것은?)\n",
        "X = torch.FloatTensor(x_one_hot) # 32-bit floating point\n",
        "Y = torch.LongTensor(y_data) # 65-bit integer(signed) # y는 label, 즉 categorical values를 나타내기 때문에"
      ],
      "metadata": {
        "id": "5lPes1dvjlNb",
        "colab": {
          "base_uri": "https://localhost:8080/"
        },
        "outputId": "16abebe2-83ce-4657-bc28-93503f33bf0f"
      },
      "execution_count": 10,
      "outputs": [
        {
          "output_type": "stream",
          "name": "stderr",
          "text": [
            "<ipython-input-10-5c332f313bb2>:10: UserWarning: Creating a tensor from a list of numpy.ndarrays is extremely slow. Please consider converting the list to a single numpy.ndarray with numpy.array() before converting to a tensor. (Triggered internally at ../torch/csrc/utils/tensor_new.cpp:261.)\n",
            "  X = torch.FloatTensor(x_one_hot) # 32-bit floating point\n"
          ]
        }
      ]
    },
    {
      "cell_type": "code",
      "source": [
        "##8. 크기 확인\n",
        "print('훈련 데이터의 크기 : {}'.format(X.shape))\n",
        "print('레이블의 크기 : {}'.format(Y.shape))\n",
        "\n",
        "# 훈련 데이터의 크기 : torch.Size([188, 10, 26]) # batchsize = 188, sequence length = 10, encoding dimension = 26\n",
        "# 레이블의 크기 : torch.Size([188, 10]) => 188 samples, each with a seq length of 10 characers"
      ],
      "metadata": {
        "colab": {
          "base_uri": "https://localhost:8080/"
        },
        "id": "lMZzZlaymMk8",
        "outputId": "3b2233f0-0d27-4413-bc6c-1ef36a1afd97"
      },
      "execution_count": 11,
      "outputs": [
        {
          "output_type": "stream",
          "name": "stdout",
          "text": [
            "훈련 데이터의 크기 : torch.Size([195, 3, 26])\n",
            "레이블의 크기 : torch.Size([195, 3])\n"
          ]
        }
      ]
    },
    {
      "cell_type": "code",
      "source": [
        "##9.원핫인코딩 결과 샘플 확인하기\n",
        "print(X[0])"
      ],
      "metadata": {
        "colab": {
          "base_uri": "https://localhost:8080/"
        },
        "id": "knx1DE_AmSFB",
        "outputId": "040dd584-5a03-490f-bf7f-4add8e6e0f85"
      },
      "execution_count": 12,
      "outputs": [
        {
          "output_type": "stream",
          "name": "stdout",
          "text": [
            "tensor([[0., 0., 0., 0., 0., 0., 0., 0., 1., 0., 0., 0., 0., 0., 0., 0., 0., 0.,\n",
            "         0., 0., 0., 0., 0., 0., 0., 0.],\n",
            "        [0., 0., 0., 0., 0., 0., 0., 0., 0., 0., 0., 0., 0., 0., 0., 0., 0., 0.,\n",
            "         0., 0., 0., 0., 0., 1., 0., 0.],\n",
            "        [0., 0., 0., 0., 0., 0., 0., 0., 0., 0., 0., 0., 1., 0., 0., 0., 0., 0.,\n",
            "         0., 0., 0., 0., 0., 0., 0., 0.]])\n"
          ]
        }
      ]
    },
    {
      "cell_type": "code",
      "source": [
        "##10. 레이블 데이터 샘플 확인하기\n",
        "print(Y[0])"
      ],
      "metadata": {
        "colab": {
          "base_uri": "https://localhost:8080/"
        },
        "id": "6pWDiH1SmYT_",
        "outputId": "afcdaff7-7ee2-4188-a2ec-74f9f3203a65"
      },
      "execution_count": 13,
      "outputs": [
        {
          "output_type": "stream",
          "name": "stdout",
          "text": [
            "tensor([23, 12, 11])\n"
          ]
        }
      ]
    },
    {
      "cell_type": "code",
      "source": [
        "##11. RNN 모델 구현\n",
        "\n",
        "##문제(6) : 기본 pytorch 인자 넣기 연습 + forward 채우기\n",
        "### 조건 : rnn layer 2개 쌓기 + 마지막은 fc layer\n",
        "### batch_first 설정 필요할까? (유튜브 강의 참고)\n",
        "\n",
        "class Net(torch.nn.Module):\n",
        "  def __init__(self, input_dim, hidden_dim, layers):\n",
        "    super(Net, self).__init__()\n",
        "    self.hidden_dim = hidden_dim\n",
        "    self.layers = layers\n",
        "\n",
        "    self.rnn1 = torch.nn.RNN(input_dim, hidden_dim, num_layers = layers, batch_first=True) #  If True, then the input and output tensors are provided as (batch, seq, feature) instead of (seq, batch, feature)\n",
        "    self.rnn2 = torch.nn.RNN(input_dim, hidden_dim, num_layers = layers, batch_first=True) # rnn layer를 두개 쌓는 건 layers=2 or 실제로 레이어 두개 작성?\n",
        "    self.fc = torch.nn.Linear(hidden_dim, vocab_size) #output_dim = 26 # == vocab size\n",
        "\n",
        "  def forward(self, x):\n",
        "    h0 = torch.zeros(self.layers, x.size(0), self.hidden_dim).to(x.device)\n",
        "\n",
        "    out, _ = self.rnn1(x, h0) # RNN의 마지막 레이어로부터 나온 output feature를 반환\n",
        "    out, _ = self.rnn2(out,h0)\n",
        "\n",
        "    out = self.fc(out)\n",
        "    return out"
      ],
      "metadata": {
        "id": "-Ww22xu8mfUc"
      },
      "execution_count": 14,
      "outputs": []
    },
    {
      "cell_type": "code",
      "source": [
        "net = Net(vocab_size, hidden_size, 2)"
      ],
      "metadata": {
        "id": "No2GRvTpnLBl"
      },
      "execution_count": 15,
      "outputs": []
    },
    {
      "cell_type": "code",
      "source": [
        "##12. loss function\n",
        "criterion = torch.nn.CrossEntropyLoss()\n",
        "\n",
        "##13. optimizer\n",
        "optimizer = optim.Adam(net.parameters(), learning_rate)"
      ],
      "metadata": {
        "id": "9-zuJLeUnQLB"
      },
      "execution_count": 16,
      "outputs": []
    },
    {
      "cell_type": "code",
      "source": [
        "##14. 출력 크기 점검\n",
        "outputs = net(X)\n",
        "print(outputs.shape)"
      ],
      "metadata": {
        "colab": {
          "base_uri": "https://localhost:8080/"
        },
        "id": "z-RxRaiHnh9U",
        "outputId": "5b8acec6-2372-4cc1-a291-bab3ba16d04e"
      },
      "execution_count": 17,
      "outputs": [
        {
          "output_type": "stream",
          "name": "stdout",
          "text": [
            "torch.Size([195, 3, 26])\n"
          ]
        }
      ]
    },
    {
      "cell_type": "code",
      "source": [
        "##15. Training 시작\n",
        "\n",
        "for i in range(100):\n",
        "    optimizer.zero_grad()\n",
        "    outputs = net(X)\n",
        "    ##문제(7) : outputs, Y 형태 그대로 넣으면 안되죠. view 함수를 이용해 loss값을 계산해봅시다.\n",
        "    loss = criterion(outputs.view(-1, vocab_size), Y.view(-1))\n",
        "    loss.backward()\n",
        "    optimizer.step()\n",
        "\n",
        "    #16. 예측결과 확인\n",
        "    results = outputs.argmax(dim=2)\n",
        "    predict_str = \"\"\n",
        "    for j, result in enumerate(results):\n",
        "        if j == 0: # 처음에는 예측 결과를 전부 가져오기\n",
        "            predict_str += ''.join([world_set[t] for t in result])\n",
        "        else: # 그 다음에는 마지막 글자만 반복 추가\n",
        "            predict_str += world_set[result[-1]]\n",
        "\n",
        "    print(predict_str)"
      ],
      "metadata": {
        "colab": {
          "base_uri": "https://localhost:8080/"
        },
        "id": "uxxrxCd2nwoo",
        "outputId": "889b5e9e-5bf4-4b4c-c694-46768a03f8f9"
      },
      "execution_count": 18,
      "outputs": [
        {
          "output_type": "stream",
          "name": "stdout",
          "text": [
            "ggggggggggsggggggggggggggsggggggggggggggggsggsgggggggggggggggggggggggggggggggsggggggggggggggggggggggggggggggggggggggggsgggggggggggggggggggggggggggggggsggggggggggggggggggsggggggsgggggggggggggggggggs\n",
            "s  s   s sss  ss     s  ss        s   s   s  s    ss     s  s s   s  ss   s sss  s   s     s  s       s    ss    s    s  a    a s s  s s   s  ss   s sss  ss     s  s    ss s   ss  sss  s s  s      \n",
            "s                                                                                                                                                                                                    \n",
            "                                                                                                                                                                                                     \n",
            "                                                                                                                                                                                                     \n",
            "                                                                                                                                                                                                     \n",
            "                                                                                                                                                                                                     \n",
            "                                                                                                                                                                                                     \n",
            "                                                                                                                                                                                                     \n",
            "                                                                                                                                                                                                     \n",
            "               t     t                                                                     t                                      t                        t     t                                   \n",
            "     t     t   t     t        t   t   t            t     t  t t   t     t     t      t     t  t       t    t   t         t        t  t t   t     t     t   t     t  t    t  t   t     t  t           \n",
            "     t         t     t        t   t                           t         t            t     t               t                      t    t         t         t     t       t      t     t  t           \n",
            "     t         t     t        t   t                         t t         t            t     t          t    t                      t  t t         t         t     t       t  t   t     t  t           \n",
            "     t     t   t     t   t    t   t   t   t        t  t  t  t t   t     t     t   t  t     t  t    t  t    t   t         t  t t   t  t t   t     t     t   t     t  t    t  t   t     t  t       t   \n",
            "   t t t   t   t     t   tt   t t t   t t t   tt   t  t  t  t t   t   t t t   t   t  t     t  t    t  t    t   t      t  t  t t t t  t t   t   t t t   t   t     t  t  t t  t   t t t t  t t tt  t   \n",
            "   t t t   t   t  t  t   tt   t t t   t t t   tt   t  t  t  t t  tt   t t t   t   tt t  t  t  t    t  t    t t t    t t  t  t t t t  t t  tt   t t t   t   t  t  t  t  t t  t t t t t t  t t tt  t t \n",
            "   t t t   tt  t  t  t   tt   t t tt  t t t   ttt  tt t  t  t tt tta  t t t   tt  tt tt t  t  t    t  t    ta  t    t tt t  t t t t  t tt tta  t t t   tt  t  t  t  t  t t  t t tat t t  t t ttt t   \n",
            "t  t t t   tt  ta    t   tt   t   tt  t   t    tt  tt t  ta t tt  ta  t t t   tt  tt tt    ta t    ta t    ta  t      tt t  t t t t  t tt  ta  t t t   tt  ta    ta t  t tt t   tat t t  t t  tt t   \n",
            "t  t t t   tt  ta    ta  tt   t   tt  t   ta   tt  tt t  ta t tt  ta  t t t   tt  tt tt    ta t    tt ta   ta  t      tt ta t t t ta t tt  ta  t t t   tt  ta    ta t  t tt t   tat t t  t t  tt t   \n",
            "t  t tat   tt  ta    ta  tt   t   tt  t t ta   tt  tt t  ta t tt  ta  t tat   tt  tt tt    ta t    tt th   tat t      tt ta t tat ta t tt  ta  t tat   tt  ta    ta t  t tt t   tat t ta tat  tt t   \n",
            "t  t tat   tt  ta    t t tth  t   tt  t t ta   tt  th t  ta t th  ta  t tat   tt  tt th    ta t    th th   tat t      tt th t t t ta t th  ta  t tat   tt  ta    ta t  t th t t tat t t  t t  th t   \n",
            "t  t t t   th  t     t t ttt  t t th  t t th   th  th t  ta t th  ta  t t t   th  th th    t  t    th th t tat t      tttth t t t t  t th  ta  t t t   th  t     t  t  t th t t tat t t  t t  th t   \n",
            "t tt t t t th  t     t t tht  t t th  t t tht  tht th t  ta t th  ta tt t t t th  th th    t  t    th th t tat t t    thtth t t t t  t th  ta tt t t t th  t     t  t  t th t t tat t t  t t tth t   \n",
            "t tt tatht th  th    t t tht  t t th  t t tht  tht th ta th t th  ta tt tatht th  th th    th t    th th t ththt t    thtth t t t ta t th  ta tt tatht th  th    th t  t th t t tht t t  t th th ta  \n",
            "t tt tatht th  th    t t tht  t t th  t t th   th  th th th t th  th  t tatht th  th th    th t    th th t ththt      thtth t tat th t th  th  t tatht th  th    th t  t th t t tht t ta tath th th  \n",
            "t  t tath  th  th    t t ttt  t   th  t t th   th  th th th t th  th  t tath  th  th th    th t    th th t thsh       ttsth t tat th t th  th  t tath  th  th    th t  t th t t ths t ta tath th th  \n",
            "t  t taths th  th    tat ttt  t   th  t t th   th  th ta th t th  th  t taths th  th th    th t    th th t thsh       ttsth t tat th t th  th  t taths th  th    th th t th t t ths t ta tath th ta  \n",
            "t tt tatht th  th    tat ttt  t   th  t t thss ths th ta th t th  th  t tatht th  tt th    th t    th th t thsht t    ttsth t tat th t th  th  t tatht th  th    th th t th t t ths t ta tath th tas \n",
            "t tt tatht th  th t  tot ttt  t   ths t t thst tas th ta th t th tth  t tatht th  tt th t  th t    th th t thsh  t  t tttth t tat th t th tth  t tatht th  th t  th th t th t t tht t ta tath th tas \n",
            "t  t tattt tt  th    t t ttt  t   ths t t thst tas th ta th t th  th  t tattt tt  tt th    th t    th  h t ths   t    tttth t tot th t th  th  t tattt tt  th    th th t th   t tht t to tatt th tat \n",
            "t  t tattt tt  th    t t ttt  t   tht t t thst tas th ta th t th  th  t tattt tt  tt th    th t    th  h t ths   t    tttth t tot th t th  th  t tattt tt  th    th th t th   t tht t to tatt th tat \n",
            "t  t tattt at  th    t t ttt  t   tha tot tast tas th ta th t th  th  t tattt at  tt th    th t    th  h t tas   t    ttath t tot th t th  th  t tattt at  th    th th t th   t ths t ta tatt th tat \n",
            "t  t tatst at  the   tot ttt  t   tha tot tast tas theta thet the tae t tatst at  tt the   th t    th  h t tas   t    ttathet tat thet the tae t tatst at  the   th thet th   t ths t ta tatt thetat \n",
            "t at watlt at  the   tot tht  t   tha tow tast tat theta thet the tae t watlt at  tt the   th t    th ah t tas a t    thathet tat thet the tae t watlt at  the   th thet th a t ths t ta tats thetat \n",
            "s at watls at  the   tot tht  t   tht wowhtast tat theta thet the taect watls at  tt the   th t  a th atst tus a t    trathet tat thet the taect watls at  the   th thet th a t tht t ta tats thetat \n",
            "s at watls at  the   tot trte t   tht wothtast tat theta whet the taect watls at  tt the   th t  a th ats  tus a t    trathet tat thet the taect watls at  the   th thet th a t ths t ta tatl thetat \n",
            "s  t walls ar  the   tot arteet   tht wothtast tat theta whet the taect walls ar  tt the   th t ea th ars  tus a t    arathet tal thet the taect walls ar  the   th thet th aet ths t ta talt thetat \n",
            "s  t walls ar  the   tet arteet   trt wethtast tat theta whet the taect walls ar  tt the   th t ea th ars  tus a t    arathet tal thet the taect walls ar  the   th thet th aet tut t ta talt thetat \n",
            "s  t walls are the   tet trteet   tr  weththst tat theta whet the taect walls are tr the   th t ea th ars  tus   t    arathet tal thet the taect walls are the   th thet th aet tut t ta talt thetata\n",
            "s  t walss are the   tet arteet   tr  tewhtust tht theta whet the taect walss are tr the   th t ea th ars  tus   t     rathet tal thet the taect walss are the   th t et th aet tut t ta talt thetata\n",
            "s  t walss are the   tet arteet   tra tewhtust tht theta whet the thect walss are tr the   th t ea th ars  tus   t     rathet tal thet the thect walss are the   th ttet tr aet tut t ta talt thetata\n",
            "s  t walss are the e tet wrteet   tr  tewhtust tat theta whet the thect walss are  r the e th teca th  us  tus  et   e rathet tal thet the thect walss are the e th ttet tr  ot tut t ta walt thetata\n",
            "s ct walss are the e tet wrteet t tr  tewhtust tht thetk whet the thect walss are  r the e th tec  th  ust tus  et   e rathet tal t et the thect walss are the e th t et tr  ot tat t ta walt thetkta\n",
            "s ct walss are the e tot wrte t t tr  tow thst tat thetk whet the thect walss are  r the e th tec  th  u t tus  et e e rathet tal t et the thect walss are the e th t et ts  ot tat t ta walt thetkta\n",
            "s ck walss are the e tol arte tht tr  towhtust tht thetk whet the theck walss are  r the e th tecp th  ust wus  et e e rathet tal thet the theck walss are the e th taet ts  ot tas t ta wals thetkta\n",
            "reck walss are the e tol arte th  tr  wow tust tat whetk whet the theck walss are  r the e th teep th  u a wus  et e e rethet tal thet the theck walss are the e th taet ts  ot tas t ta wals thetkta\n",
            "reck walss are the e tol arte tht tr  tow tust ths thet  whet the theck walss are  r the e th teep th  u k wus tet e e r thet tal thet the theck walss are the e th taet ts  ot tas t ta wals thet ta\n",
            "reck walss are the e to  arte t   tr  tow tust tas whet  whet the khick walss are  r the e th te p th  u k wus  et e e r thet tal t et the khick walss are the e th taet ts  ot tal t to wall thet to\n",
            "reck walss are the e to  arte th  tr  tow bust tat thetk whet the khick walss are  r the e th teep th  u k wus  et e e r thet tal thet the khick walss are the e th toet ts  ot talst to wall thetkto\n",
            "heck walss are the e to  arteet   tr  tow bust tht thetk whet the khick walss are  r the e th teep ts  u k wus  et e ear thet tal thet the khick walss are the e th toet ts  ot talst to wall thetkto\n",
            "heck walss are the e tor artees   tr  tow bust rht thetk whet the khick walss are  r the e th teep ts  u k wus  et e ear thet tal thet the khick walss are the e th toet ts  ot talst to wall thetkto\n",
            "heck walls are the e tar artees   tr  tow bust rht thetk whet the khick walls are  r the e th teep th ru k wul ret e ear thet tal thet the khick walls are the e th toet ts row tatst to wall thetkto\n",
            "heck walls are the e tor artees t tr  tow bust rot thetk whet the bhick walls are  r the e th teep th ru k wul ret e ear thet tal thet the bhick walls are the e th toet ts row tatst te wall thetkto\n",
            "heck walls are the e tor artees t tr  tow bust tht thetk whet the buick walls are  r the e th teep th ru k wul rethe ear thet tal thet the buick walls are the e th thew ts row tatst we wall thetkro\n",
            "heck walls are the e tor arte s t trt wow bust tht thetk whet the bueck walls are  r the e th teap ts rusk wul rethe ear thet tal thet the bueck walls are the e th thew ts raw tatst we wall thetkro\n",
            "heck walls are the e tor arte s t tr  wow bust rht thetk whet the bueck walls are  r the e th teap ts ru k wul rethe ear thet tal thet the bueck walls are the e th thew ts raw tatst we wall thetkro\n",
            "heck walls are the e tor arte t   tr  wow bust tht thetk whet the bueck walls are  r the e th teap ts ou k wul rethe ear thet tal thet the bueck walls are the e th thew ts oow tatst we walt thetkro\n",
            "reck walls are the e tor arteet   tr  wow bust rot thenk whet the buick walls are  r the e th teap ts ou k wul rethe ean then tal thet the buick walls are the e th thew ts oow tatst we walt thenkrg\n",
            "reck walls are the e tor arteet   trt wow bust rot thenk whet the buick walls are  r the e th teap ts ousk wut rethe ean then tal thet the buick walls are the e th thew ts oow tatsy we walt thenkrg\n",
            "reck walls are the e tor arteas t trt wow bust rot thenk whet the buick walls are  u the e th teap ts rusk wul rethe ean then tal thet the buick walls are the e th thew ts row tatsy we walt thenkrg\n",
            "reck walls are the e tor arteas n trd wow bust rot thenk whet the buick walls are  u the e th teap ws ousk wul rethe ean then tal thet the buick walls are the e th thet ts oow tatsy we walt thenkrg\n",
            "reck walls are the e tor arteash  trd wow bust tot thenk whet the buick walls are  u the e th teap bs ousk bul rethe ean then tal thet the buick walls are the e th thaw ts oow tatsy we walt thenksg\n",
            "rick walls are the e tor arteash  trd wow bust tot thenk whet the buick walls are  u the e th teap us ousk bul rethe ean then tal thet the buick walls are the e th thew ts oow tatsy we walt thenksg\n",
            "rick walls are the e tor arteash  trd wow bust tot thenk whet the buick walls are ku the e th teap us ousk but rethe ean then tal thet the buick walls are the e th thew ts oow tatsy we walt thenksg\n",
            "rick walls are the e tor arteaton trd wow bust not thenk whet the buick walls are ku the e th teac us ousk but rethe ean then tal thet the buick walls are the e th thew ts oow tatsy we walt thenksg\n",
            "rick walls are the e tor arteason trd wow bust not thenk whet the buick walls are  u the e th teac us ousk but rethe ean then tal thet the buick walls are the e th thew ts oow tatsy we walt thenksg\n",
            "rick walls are the e tor arteason trd uow bust not thenk whet the buick walls are  u the e th teac us ousk but rethe ean then wal thet the buick walls are the e th thew ts oow tatsy we walt thenksg\n",
            "rick walls are the e tor arteason trd uow bust not thenk whet the buick walls are  u the e th teac us ousk but rethe ean then wal thet the buick walls are the e th thew ts oow tatsy we walt thenksg\n",
            "rick walls are there tor arteason trd uow kust not thenk whet therbuick walls are  r there th teac us ousk but retherean then wal thet therbuick walls are there th thew ts oaw tatsy we walt thenksg\n",
            "rick walls are there tor arteason trd uow bust not thenk whet therbrick walls are 'r there th keac us husk but retherein then wal thet therbrick walls are there th khew ws how watsy we walt thenksg\n",
            "rick walls are there tor arteason trd uow bust not thenk thet therbrick walls are  r there th teac us ousk but retherean then wal thet therbrick walls are there th thew us oaw uatsy we walt thenks.\n",
            "rick walls are there tor arteason trd uow bust not thenk thet therbrick walls are  t there th teac us ousk but retherein then wal thet therbrick walls are there th thiw us oow uatsy we walt thenks.\n",
            "rick walls are there tor arteason trd uow bust not thenk thet therbrick walls are 't there th keac us husk but retherein then wal thet therbrick walls are there th khiw us how uatsy we walt thenks.\n",
            "rick walls are there tor arteason trd uow bust not thenk thet therbrick walls are 't there th teac us ousk but retherein then wal thet therbrick walls are there th thiw us oow uatly we walt thenks.\n",
            "rick walls are there tor arteason trd uow bust not thenk thet therbrick walls are 't there th tea' us ousk but retherein then wal thet therbrick walls are there th thiw us oow uatly we walt thenks.\n",
            "rick walls are there tor arteason trd uow bust not thenk thet therbrick walls are 't there th kea' us husk but retherein then wal thet therbrick walls are there th khiw us how uatly we walt thenks.\n",
            "rick walls are there tor arteason trd uow bust not thenk thet therbrick walls are 't there th kea' us husk but retherein then wal thet therbrick walls are there th khiw us how uatly we walt thenks.\n",
            "rick walls are there tor arteason trd uow bust not thenk thet therbrick walls are 't there th tea' us ousk but retherein then wal thet therbrick walls are there th thiw us oow uatly we walt thenks.\n",
            "rick walls are there tor arteason trd uow bust not thenk thet therbrick walls are 't there th kea' us husk but retherein then wal thet therbrick walls are there th khiw us how uatly we walt thenks.\n",
            "rick walls are there tor arteason tsd tow bust not thenk thet therbrick walls are 't there th kea' us husk but retherein then wal thet therbrick walls are there th khiw us how uatly we walt thenks.\n",
            "rick walls are there tor arreason asd tow bust not thenk thet therbrick walls are 't there th sea' us out, but retherein then wal thet therbrick walls are there th shiw us oow uatly we walt thenks.\n",
            "rick walls are there tor arreason asd tow bust not thenk thet therbrick walls are 't there th sea' us out, but retherein then wal thet therbrick walls are there th shiw us oow uadly we walt thenks.\n",
            "rick walls are there tor arreason asd yow bust not thenk thet therbrick walls are 't there th sea' us hut, but retherein then wal thet therbrick walls are there th shiw us how uadly we walt thenks.\n",
            "rick walls are there tor arreason asd you bust not thenk thet therbrick walls are 't there th sea' us hut, but ratherein then wal thet therbrick walls are there th shiw us how uadly we walt thenks.\n",
            "rick walls are there tor arreason asd you bust not thenk thet therbrick walls are 't there th sea' us hut, but ratherein then wal thet therbrick walls are there th shaw us how uadly we walt thenks.\n",
            "rick walls are there tor arreason asd you bust not thenk thet therbrick walls are 't there th sea' us hut, but ratherein then wal thet therbrick walls are there th shiw us how uadly we walt thenks.\n",
            "rick walls are there tor arreason and you bust not thenk thet therbrick walls are 't there th sea' us hut, but ratherein then wal thet therbrick walls are there th shiw us how uadly we walt thenks.\n",
            "rick walls are there tor arreason and you must not thenk thet therbrick walls are 't there th sea' us hut, but ratherein then wal thet therbrick walls are there th shiw us how uadly we walt thenks.\n",
            "rick walls are there tor arreason and you must not thenk thet therbrick walls are 't there th sea' us out, but ratherein then wal thet therbrick walls are there th shaw us oow uadly we walt thenks.\n",
            "rick walls are there tor a reason and you must not thenk thet therbrick walls are 't there th sea' us hut, but ratherein then wal thet therbrick walls are there th shiw us how uadly we walt thenks.\n",
            "rick walls are there tor a reason and you must not thenk thet therbrick walls are 't there th sea' us hut, but ratherein then wal thet therbrick walls are there th shiw us how uadly we walt thenks.\n",
            "rick walls are there tor a reason and you must not thenk thet therbrick walls are 't there th seap us out, but ratherein then wal thet therbrick walls are there th shaw us oow uadly we walt thenks.\n",
            "rick walls are toere tor a reason and you must not thenk thet therbrick walls are 't there to seap us out, but ratherein then wal thet therbrick walls are toere to shiw us oow uadly we walt thenks.\n",
            "rick walls are toere tor a reason and you must not thenk thet therbrick walls are 't there to keap us out, but ratherein then wal thet therbrick walls are toere to khiw us oow uadly we walt thenks.\n",
            "rick walls are there tor a reason and you must not thenk thet therbrick walls are 't there th keap us out, but ratherein then wal thet therbrick walls are there th khaw us oow uadly we walt thenks.\n",
            "rick walls are toere tor a reason and you must not thenk thet therbrick walls are 't there to keap us out, but ratherein then wal thet therbrick walls are toere to khaw us oow uadly we walt thenks.\n",
            "rick walls are toere tor a reason and you must not thenk thet therbrick walls are 't there to keap us hut, but ratherein then wal thet therbrick walls are toere to khaw us how uadly we walt thenks.\n",
            "rick walls are toere tor a reason and you must not thenk thet therbrick walls are 't there to keap us hut, but ratherein then wal thet therbrick walls are toere to khaw us how uadly we walt thenks.\n",
            "rick walls are there tor a reason and you must not thenk thet therbrick walls are 't there th seep us hut, but ratherein then wal thet therbrick walls are there th shaw us how uadly we walt thenks.\n"
          ]
        }
      ]
    },
    {
      "cell_type": "code",
      "source": [
        "predict_str"
      ],
      "metadata": {
        "colab": {
          "base_uri": "https://localhost:8080/",
          "height": 52
        },
        "id": "8qUkbiw2t0Il",
        "outputId": "462ae0a2-17d2-441a-c9ce-3c23ab3e7819"
      },
      "execution_count": 19,
      "outputs": [
        {
          "output_type": "execute_result",
          "data": {
            "text/plain": [
              "\"rick walls are there tor a reason and you must not thenk thet therbrick walls are 't there th seep us hut, but ratherein then wal thet therbrick walls are there th shaw us how uadly we walt thenks.\""
            ],
            "application/vnd.google.colaboratory.intrinsic+json": {
              "type": "string"
            }
          },
          "metadata": {},
          "execution_count": 19
        }
      ]
    },
    {
      "cell_type": "markdown",
      "source": [
        "**sequence length 10:**\n",
        "rick walls are there tor a reason and you tust not think that the brick walls are 't there to seep us out  but rather tn this way that the brick walls are there to show us how badly wa want thingsk\n",
        "\n",
        "\n",
        "**sequence length 5:**\n",
        "rick walls are there tor a reason and you must not think that the brick walls are 't the e to seep us out, but rather in this way that the brick walls are there to show us how badly we want thinksb\n",
        "\n",
        "**sequence length 20:**\n",
        "rick walls are there tor a reason and you must not think that the brick walls are 't there to keep us out, but rather in this way that the brick walls are there to show us how badly we want thinlsb\n",
        "\n",
        "**sequence length 3(worst)**:\n",
        "rick walls are there tor a reason and you must not thenk thet therbrick walls are 't there th seep us hut, but ratherein then wal thet therbrick walls are there th shaw us how uadly we walt thenks."
      ],
      "metadata": {
        "id": "W2ooljPTXDAo"
      }
    },
    {
      "cell_type": "code",
      "source": [],
      "metadata": {
        "id": "faF_Ih_ZXgAo"
      },
      "execution_count": null,
      "outputs": []
    },
    {
      "cell_type": "markdown",
      "source": [
        "결과가 어떤가요?? 마지막 에폭의 문장이 그럴싸한가요?"
      ],
      "metadata": {
        "id": "PkIzDTdyvTHz"
      }
    },
    {
      "cell_type": "markdown",
      "source": [
        "## Task2\n",
        "\n",
        "위 sentence는 제가 임의로 생성한 문장들입니다.\n",
        "\n",
        "마음에 드시는 문구 가져오셔서 문장이 어떻게 생성되는지 확인해보세요!\n",
        "\n",
        "영어가 아닌 한국어로 시도해보는 것도 좋겠죠?\n",
        "\n",
        "수정이 많이 필요(토큰화 등) 할 수 있으나 한번 시도해보시는 것 권장드립니다 :)\n",
        "\n",
        "위 베이스라인은 어디든 수정하셔도 좋고 조금 더 자연스러운 문장이 나올 수 있게 다양한 시도를 해보세요!\n",
        "\n",
        "조건 : 문장 3개 이상, 연결성이 있는 문장을 \" \" 으로 구분하여 ( )에 넣기"
      ],
      "metadata": {
        "id": "kN1zL8Dpvane"
      }
    },
    {
      "cell_type": "code",
      "source": [
        "#1. 생성할 문장 데이터\n",
        "\n",
        "new = (\"Overthinking is the biggest cause of our unhappiness.\"\n",
        "        \"Keep yourself occupied.\"\n",
        "        \"Keep your mind off things that don't help you.\"\n",
        "        \"Be Optimistic.\")"
      ],
      "metadata": {
        "id": "VlqualKHLd9Y"
      },
      "execution_count": 20,
      "outputs": []
    },
    {
      "cell_type": "code",
      "source": [
        "#2. 문자 집합 만들기\n",
        "world_set = list(set(new))\n",
        "\n",
        "vocab = {char: idx for idx, char in enumerate(world_set)}"
      ],
      "metadata": {
        "id": "kWppHpMgLd7C"
      },
      "execution_count": 21,
      "outputs": []
    },
    {
      "cell_type": "code",
      "source": [
        "print(vocab)"
      ],
      "metadata": {
        "colab": {
          "base_uri": "https://localhost:8080/"
        },
        "id": "IUOywYnFP5Za",
        "outputId": "57092654-6829-4e2a-ada3-9aee64c35eb1"
      },
      "execution_count": 22,
      "outputs": [
        {
          "output_type": "stream",
          "name": "stdout",
          "text": [
            "{'O': 0, 'b': 1, 'm': 2, 'h': 3, 'e': 4, 'u': 5, '.': 6, 'v': 7, 'y': 8, 'f': 9, 'B': 10, ' ': 11, 'a': 12, 'c': 13, 'i': 14, 'o': 15, 's': 16, 'g': 17, 'K': 18, 'p': 19, 'k': 20, 'l': 21, 'd': 22, 'n': 23, 'r': 24, \"'\": 25, 't': 26}\n"
          ]
        }
      ]
    },
    {
      "cell_type": "code",
      "source": [
        "#3. 문자 집합 크기 확인\n",
        "# 문자 집합 크기 : 27\n",
        "\n",
        "vocab_size = len(vocab)\n",
        "print('문자 집합 크기 : {}'.format(vocab_size))"
      ],
      "metadata": {
        "colab": {
          "base_uri": "https://localhost:8080/"
        },
        "id": "bMfKAjsYLd4q",
        "outputId": "929e2f4a-14a2-4bc8-e8e0-59816c62bee3"
      },
      "execution_count": 23,
      "outputs": [
        {
          "output_type": "stream",
          "name": "stdout",
          "text": [
            "문자 집합 크기 : 27\n"
          ]
        }
      ]
    },
    {
      "cell_type": "code",
      "source": [
        "#4. 하이퍼 파라미터 설정\n",
        "\n",
        "hidden_size = vocab_size # 같아야 하는 것 확인!\n",
        "sequence_length = 10\n",
        "learning_rate = 0.01"
      ],
      "metadata": {
        "id": "Di3eV2BaLd2b"
      },
      "execution_count": 52,
      "outputs": []
    },
    {
      "cell_type": "code",
      "source": [
        "#5. seqence 길이 단위 자르기\n",
        "\n",
        "# 데이터 구성을 위한 리스트\n",
        "x_data = []\n",
        "y_data = []\n",
        "\n",
        "## 문제(2): 반복문 내에서의 인덱싱을 사용하여 sequence_length 값 단위로 샘플을 잘라 데이터 만들기, y_str은 x_str은 한 칸씩 쉬프트된 sequnce\n",
        "\n",
        "for i in range(0, len(new) - sequence_length):\n",
        "  x_str = new[i: i + sequence_length]\n",
        "  y_str = new[i+1: i + sequence_length + 1]\n",
        "  print(i, x_str, \"->\", y_str)\n",
        "\n",
        "  # x_str과 y_str이 문자집합에 해당하는 인덱스를 각각 x_data, y_data에 append\n",
        "  x_data.append([vocab[c] for c in x_str])\n",
        "  y_data.append([vocab[d] for d in y_str])"
      ],
      "metadata": {
        "colab": {
          "base_uri": "https://localhost:8080/"
        },
        "id": "t_7ipi9fN45J",
        "outputId": "3df43b52-a59a-41bf-ec7b-d81758f4abaf"
      },
      "execution_count": 53,
      "outputs": [
        {
          "output_type": "stream",
          "name": "stdout",
          "text": [
            "0 Overthinki -> verthinkin\n",
            "1 verthinkin -> erthinking\n",
            "2 erthinking -> rthinking \n",
            "3 rthinking  -> thinking i\n",
            "4 thinking i -> hinking is\n",
            "5 hinking is -> inking is \n",
            "6 inking is  -> nking is t\n",
            "7 nking is t -> king is th\n",
            "8 king is th -> ing is the\n",
            "9 ing is the -> ng is the \n",
            "10 ng is the  -> g is the b\n",
            "11 g is the b ->  is the bi\n",
            "12  is the bi -> is the big\n",
            "13 is the big -> s the bigg\n",
            "14 s the bigg ->  the bigge\n",
            "15  the bigge -> the bigges\n",
            "16 the bigges -> he biggest\n",
            "17 he biggest -> e biggest \n",
            "18 e biggest  ->  biggest c\n",
            "19  biggest c -> biggest ca\n",
            "20 biggest ca -> iggest cau\n",
            "21 iggest cau -> ggest caus\n",
            "22 ggest caus -> gest cause\n",
            "23 gest cause -> est cause \n",
            "24 est cause  -> st cause o\n",
            "25 st cause o -> t cause of\n",
            "26 t cause of ->  cause of \n",
            "27  cause of  -> cause of o\n",
            "28 cause of o -> ause of ou\n",
            "29 ause of ou -> use of our\n",
            "30 use of our -> se of our \n",
            "31 se of our  -> e of our u\n",
            "32 e of our u ->  of our un\n",
            "33  of our un -> of our unh\n",
            "34 of our unh -> f our unha\n",
            "35 f our unha ->  our unhap\n",
            "36  our unhap -> our unhapp\n",
            "37 our unhapp -> ur unhappi\n",
            "38 ur unhappi -> r unhappin\n",
            "39 r unhappin ->  unhappine\n",
            "40  unhappine -> unhappines\n",
            "41 unhappines -> nhappiness\n",
            "42 nhappiness -> happiness.\n",
            "43 happiness. -> appiness.K\n",
            "44 appiness.K -> ppiness.Ke\n",
            "45 ppiness.Ke -> piness.Kee\n",
            "46 piness.Kee -> iness.Keep\n",
            "47 iness.Keep -> ness.Keep \n",
            "48 ness.Keep  -> ess.Keep y\n",
            "49 ess.Keep y -> ss.Keep yo\n",
            "50 ss.Keep yo -> s.Keep you\n",
            "51 s.Keep you -> .Keep your\n",
            "52 .Keep your -> Keep yours\n",
            "53 Keep yours -> eep yourse\n",
            "54 eep yourse -> ep yoursel\n",
            "55 ep yoursel -> p yourself\n",
            "56 p yourself ->  yourself \n",
            "57  yourself  -> yourself o\n",
            "58 yourself o -> ourself oc\n",
            "59 ourself oc -> urself occ\n",
            "60 urself occ -> rself occu\n",
            "61 rself occu -> self occup\n",
            "62 self occup -> elf occupi\n",
            "63 elf occupi -> lf occupie\n",
            "64 lf occupie -> f occupied\n",
            "65 f occupied ->  occupied.\n",
            "66  occupied. -> occupied.K\n",
            "67 occupied.K -> ccupied.Ke\n",
            "68 ccupied.Ke -> cupied.Kee\n",
            "69 cupied.Kee -> upied.Keep\n",
            "70 upied.Keep -> pied.Keep \n",
            "71 pied.Keep  -> ied.Keep y\n",
            "72 ied.Keep y -> ed.Keep yo\n",
            "73 ed.Keep yo -> d.Keep you\n",
            "74 d.Keep you -> .Keep your\n",
            "75 .Keep your -> Keep your \n",
            "76 Keep your  -> eep your m\n",
            "77 eep your m -> ep your mi\n",
            "78 ep your mi -> p your min\n",
            "79 p your min ->  your mind\n",
            "80  your mind -> your mind \n",
            "81 your mind  -> our mind o\n",
            "82 our mind o -> ur mind of\n",
            "83 ur mind of -> r mind off\n",
            "84 r mind off ->  mind off \n",
            "85  mind off  -> mind off t\n",
            "86 mind off t -> ind off th\n",
            "87 ind off th -> nd off thi\n",
            "88 nd off thi -> d off thin\n",
            "89 d off thin ->  off thing\n",
            "90  off thing -> off things\n",
            "91 off things -> ff things \n",
            "92 ff things  -> f things t\n",
            "93 f things t ->  things th\n",
            "94  things th -> things tha\n",
            "95 things tha -> hings that\n",
            "96 hings that -> ings that \n",
            "97 ings that  -> ngs that d\n",
            "98 ngs that d -> gs that do\n",
            "99 gs that do -> s that don\n",
            "100 s that don ->  that don'\n",
            "101  that don' -> that don't\n",
            "102 that don't -> hat don't \n",
            "103 hat don't  -> at don't h\n",
            "104 at don't h -> t don't he\n",
            "105 t don't he ->  don't hel\n",
            "106  don't hel -> don't help\n",
            "107 don't help -> on't help \n",
            "108 on't help  -> n't help y\n",
            "109 n't help y -> 't help yo\n",
            "110 't help yo -> t help you\n",
            "111 t help you ->  help you.\n",
            "112  help you. -> help you.B\n",
            "113 help you.B -> elp you.Be\n",
            "114 elp you.Be -> lp you.Be \n",
            "115 lp you.Be  -> p you.Be O\n",
            "116 p you.Be O ->  you.Be Op\n",
            "117  you.Be Op -> you.Be Opt\n",
            "118 you.Be Opt -> ou.Be Opti\n",
            "119 ou.Be Opti -> u.Be Optim\n",
            "120 u.Be Optim -> .Be Optimi\n",
            "121 .Be Optimi -> Be Optimis\n",
            "122 Be Optimis -> e Optimist\n",
            "123 e Optimist ->  Optimisti\n",
            "124  Optimisti -> Optimistic\n",
            "125 Optimistic -> ptimistic.\n"
          ]
        }
      ]
    },
    {
      "cell_type": "code",
      "source": [
        "# 출력해서 한 칸씩 쉬프트된 것 확인하기!\n",
        "\n",
        "print(x_data[0])\n",
        "print(y_data[0])"
      ],
      "metadata": {
        "colab": {
          "base_uri": "https://localhost:8080/"
        },
        "id": "FaPFFmG6Ldx7",
        "outputId": "5b8bc0c3-6d80-469c-e792-febb4ae8897a"
      },
      "execution_count": 54,
      "outputs": [
        {
          "output_type": "stream",
          "name": "stdout",
          "text": [
            "[0, 7, 4, 24, 26, 3, 14, 23, 20, 14]\n",
            "[7, 4, 24, 26, 3, 14, 23, 20, 14, 23]\n"
          ]
        }
      ]
    },
    {
      "cell_type": "code",
      "source": [
        "##6. 입력 시퀀스에 대해 원핫인코딩 수행\n",
        "\n",
        "## 문제(4) : x_data를 원핫인코딩 > numpy의 eye를 쓸 수 있지 않을까?\n",
        "x_one_hot = [np.eye(len(vocab))[c] for c in x_data]\n",
        "# np.eye(n, k=m, dtype=int) n*n 행렬 / k: 정방단위행렬을 기준으로 어느 부분에 대각행렬을 나타낼 건지\n",
        "\n",
        "##7. 입력 데이터, 레이블데이터 텐서로 변환\n",
        "\n",
        "## 문제(5) : x_one_hot과 y_data 텐서로 변환 : 둘 다 같은 형식의 텐서로 변환하면 될까?? (FloatTensor, LongTesor 중 맞는 것은?)\n",
        "X = torch.FloatTensor(x_one_hot) # 32-bit floating point\n",
        "Y = torch.LongTensor(y_data) # 65-bit integer(signed) # y는 label, 즉 categorical values를 나타내기 때문에"
      ],
      "metadata": {
        "id": "nNRWZ3GRLdvU"
      },
      "execution_count": 55,
      "outputs": []
    },
    {
      "cell_type": "code",
      "source": [
        "##8. 크기 확인\n",
        "print('훈련 데이터의 크기 : {}'.format(X.shape))\n",
        "print('레이블의 크기 : {}'.format(Y.shape))\n",
        "\n",
        "# # batchsize = 121, sequence length = 15, encoding dimension = 27\n",
        "# 121 samples, each with a seq length of 10 characers"
      ],
      "metadata": {
        "colab": {
          "base_uri": "https://localhost:8080/"
        },
        "id": "ajHYMWVnLdlt",
        "outputId": "a14d73b8-7b83-416f-f477-22f893b05174"
      },
      "execution_count": 56,
      "outputs": [
        {
          "output_type": "stream",
          "name": "stdout",
          "text": [
            "훈련 데이터의 크기 : torch.Size([126, 10, 27])\n",
            "레이블의 크기 : torch.Size([126, 10])\n"
          ]
        }
      ]
    },
    {
      "cell_type": "code",
      "source": [
        "##9.원핫인코딩 결과 샘플 확인하기\n",
        "print(X[0])"
      ],
      "metadata": {
        "colab": {
          "base_uri": "https://localhost:8080/"
        },
        "id": "VaCXfQrML5cP",
        "outputId": "85e2f4f6-86b3-41ef-8565-43484adf5de5"
      },
      "execution_count": 57,
      "outputs": [
        {
          "output_type": "stream",
          "name": "stdout",
          "text": [
            "tensor([[1., 0., 0., 0., 0., 0., 0., 0., 0., 0., 0., 0., 0., 0., 0., 0., 0., 0.,\n",
            "         0., 0., 0., 0., 0., 0., 0., 0., 0.],\n",
            "        [0., 0., 0., 0., 0., 0., 0., 1., 0., 0., 0., 0., 0., 0., 0., 0., 0., 0.,\n",
            "         0., 0., 0., 0., 0., 0., 0., 0., 0.],\n",
            "        [0., 0., 0., 0., 1., 0., 0., 0., 0., 0., 0., 0., 0., 0., 0., 0., 0., 0.,\n",
            "         0., 0., 0., 0., 0., 0., 0., 0., 0.],\n",
            "        [0., 0., 0., 0., 0., 0., 0., 0., 0., 0., 0., 0., 0., 0., 0., 0., 0., 0.,\n",
            "         0., 0., 0., 0., 0., 0., 1., 0., 0.],\n",
            "        [0., 0., 0., 0., 0., 0., 0., 0., 0., 0., 0., 0., 0., 0., 0., 0., 0., 0.,\n",
            "         0., 0., 0., 0., 0., 0., 0., 0., 1.],\n",
            "        [0., 0., 0., 1., 0., 0., 0., 0., 0., 0., 0., 0., 0., 0., 0., 0., 0., 0.,\n",
            "         0., 0., 0., 0., 0., 0., 0., 0., 0.],\n",
            "        [0., 0., 0., 0., 0., 0., 0., 0., 0., 0., 0., 0., 0., 0., 1., 0., 0., 0.,\n",
            "         0., 0., 0., 0., 0., 0., 0., 0., 0.],\n",
            "        [0., 0., 0., 0., 0., 0., 0., 0., 0., 0., 0., 0., 0., 0., 0., 0., 0., 0.,\n",
            "         0., 0., 0., 0., 0., 1., 0., 0., 0.],\n",
            "        [0., 0., 0., 0., 0., 0., 0., 0., 0., 0., 0., 0., 0., 0., 0., 0., 0., 0.,\n",
            "         0., 0., 1., 0., 0., 0., 0., 0., 0.],\n",
            "        [0., 0., 0., 0., 0., 0., 0., 0., 0., 0., 0., 0., 0., 0., 1., 0., 0., 0.,\n",
            "         0., 0., 0., 0., 0., 0., 0., 0., 0.]])\n"
          ]
        }
      ]
    },
    {
      "cell_type": "code",
      "source": [
        "##10. 레이블 데이터 샘플 확인하기\n",
        "print(Y[0])"
      ],
      "metadata": {
        "colab": {
          "base_uri": "https://localhost:8080/"
        },
        "id": "5BiR_dTeL5ar",
        "outputId": "9a58e5e0-6d21-416f-dd26-78df9e6a56f8"
      },
      "execution_count": 58,
      "outputs": [
        {
          "output_type": "stream",
          "name": "stdout",
          "text": [
            "tensor([ 7,  4, 24, 26,  3, 14, 23, 20, 14, 23])\n"
          ]
        }
      ]
    },
    {
      "cell_type": "code",
      "source": [
        "##11. RNN 모델 구현\n",
        "\n",
        "class Net(torch.nn.Module):\n",
        "  def __init__(self, input_dim, hidden_dim, layers):\n",
        "    super(Net, self).__init__()\n",
        "    self.hidden_dim = hidden_dim\n",
        "    self.layers = layers\n",
        "\n",
        "    self.rnn = torch.nn.RNN(input_dim, hidden_dim, num_layers = layers, batch_first=True) #  If True, then the input and output tensors are provided as (batch, seq, feature) instead of (seq, batch, feature)\n",
        "    self.fc = torch.nn.Linear(hidden_dim, vocab_size) #output_dim = 27\n",
        "\n",
        "  def forward(self, x):\n",
        "    h0 = torch.zeros(self.layers, x.size(0), self.hidden_dim).to(x.device)\n",
        "\n",
        "    out, _ = self.rnn(x, h0) # RNN의 마지막 레이어로부터 나온 output feature를 반환\n",
        "\n",
        "    out = self.fc(out)\n",
        "    return out"
      ],
      "metadata": {
        "id": "f_Uz_iT2L5YU"
      },
      "execution_count": 59,
      "outputs": []
    },
    {
      "cell_type": "code",
      "source": [
        "net = Net(vocab_size, hidden_size, 2)"
      ],
      "metadata": {
        "id": "RQxB5O-aVNbV"
      },
      "execution_count": 60,
      "outputs": []
    },
    {
      "cell_type": "code",
      "source": [
        "##12. loss function\n",
        "criterion = torch.nn.CrossEntropyLoss()\n",
        "\n",
        "##13. optimizer\n",
        "optimizer = optim.Adam(net.parameters(), 0.001) #optim.SGD(net.parameters(), learning_rate)"
      ],
      "metadata": {
        "id": "52bV23ZWL5WB"
      },
      "execution_count": 69,
      "outputs": []
    },
    {
      "cell_type": "code",
      "source": [
        "##14. 출력 크기 점검\n",
        "outputs = net(X)\n",
        "print(outputs.shape)"
      ],
      "metadata": {
        "colab": {
          "base_uri": "https://localhost:8080/"
        },
        "id": "0lRrXqBdLdY8",
        "outputId": "9c306692-60ba-4e16-93dd-9b6ec6bd93e4"
      },
      "execution_count": 70,
      "outputs": [
        {
          "output_type": "stream",
          "name": "stdout",
          "text": [
            "torch.Size([126, 10, 27])\n"
          ]
        }
      ]
    },
    {
      "cell_type": "code",
      "source": [
        "##15. Training 시작\n",
        "\n",
        "for i in range(500):\n",
        "    optimizer.zero_grad()\n",
        "    outputs = net(X)\n",
        "    ##문제(7) : outputs, Y 형태 그대로 넣으면 안되죠. view 함수를 이용해 loss값을 계산해봅시다.\n",
        "    loss = criterion(outputs.view(-1, vocab_size), Y.view(-1))\n",
        "    loss.backward()\n",
        "    optimizer.step()\n",
        "\n",
        "    #16. 예측결과 확인\n",
        "    results = outputs.argmax(dim=2)\n",
        "    predict_str = \"\"\n",
        "    for j, result in enumerate(results):\n",
        "        if j == 0: # 처음에는 예측 결과를 전부 가져오기\n",
        "            predict_str += ''.join([world_set[t] for t in result])\n",
        "        else: # 그 다음에는 마지막 글자만 반복 추가\n",
        "            predict_str += world_set[result[-1]]\n",
        "\n",
        "    print(predict_str)"
      ],
      "metadata": {
        "colab": {
          "base_uri": "https://localhost:8080/"
        },
        "id": "Wt02mZIvMGQ3",
        "outputId": "b987a729-90e3-4974-9654-39e7c12c85cc"
      },
      "execution_count": 71,
      "outputs": [
        {
          "output_type": "stream",
          "name": "stdout",
          "text": [
            "perthinking is the biggest cause of our unhappiness.Keep your elf occupied.Keep your mind off things that don't help you.Be Optimistic.\n",
            "perthinking is the biggest cause of our unhappiness.Keep your elf occupied.Keep your mind off things that don't help you.Be Optimistic.\n",
            "perthinking is the biggest cause of our unhappiness.Keep yourself occupied.Keep yoursmind off things that don't help you.Be Optimistic.\n",
            "perthinking is the biggest cause of our unhappiness.Keep your elf occupied.Keep your mind off things that don't help you.Be Optimistic.\n",
            "perthinking is the biggest cause of our unhappiness.Keep your elf occupied.Keep your mind off things that don't help you.Be Optimistic.\n",
            "perthinking is the biggest cause of our unhappiness.Keep your elf occupied.Keep your mind off things that don't help you.Be Optimistic.\n",
            "perthinking is the biggest cause of our unhappiness.Keep your elf occupied.Keep your mind off things that don't help you.Be Optimistic.\n",
            "perthinking is the biggest cause of our unhappiness.Keep yourself occupied.Keep yoursmind off things that don't help you.Be Optimistic.\n",
            "perthinking is the biggest cause of our unhappiness.Keep yourself occupied.Keep yoursmind off things that don't help you.Be Optimistic.\n",
            "perthinking is the biggest cause of our unhappiness.Keep your elf occupied.Keep your mind off things that don't help you.Be Optimistic.\n",
            "perthinking is the biggest cause of our unhappiness.Keep your elf occupied.Keep your mind off things that don't help you.Be Optimistic.\n",
            "perthinking is the biggest cause of our unhappiness.Keep your elf occupied.Keep your mind off things that don't help you.Be Optimistic.\n",
            "perthinking is the biggest cause of our unhappiness.Keep your elf occupied.Keep your mind off things that don't help you.Be Optimistic.\n",
            "perthinking is the biggest cause of our unhappiness.Keep your elf occupied.Keep your mind off things that don't help you.Be Optimistic.\n",
            "perthinking is the biggest cause of our unhappiness.Keep your elf occupied.Keep your mind off things that don't help you.Be Optimistic.\n",
            "perthinking is the biggest cause of our unhappiness.Keep your elf occupied.Keep your mind off things that don't help you.Be Optimistic.\n",
            "perthinking is the biggest cause of our unhappiness.Keep your elf occupied.Keep your mind off things that don't help you.Be Optimistic.\n",
            "perthinking is the biggest cause of our unhappiness.Keep your elf occupied.Keep your mind off things that don't help you.Be Optimistic.\n",
            "perthinking is the biggest cause of our unhappiness.Keep your elf occupied.Keep your mind off things that don't help you.Be Optimistic.\n",
            "perthinking is the biggest cause of our unhappiness.Keep your elf occupied.Keep your mind off things that don't help you.Be Optimistic.\n",
            "perthinking is the biggest cause of our unhappiness.Keep your elf occupied.Keep your mind off things that don't help you.Be Optimistic.\n",
            "perthinking is the biggest cause of our unhappiness.Keep your elf occupied.Keep your mind off things that don't help you.Be Optimistic.\n",
            "perthinking is the biggest cause of our unhappiness.Keep your elf occupied.Keep your mind off things that don't help you.Be Optimistic.\n",
            "perthinking is the biggest cause of our unhappiness.Keep your elf occupied.Keep your mind off things that don't help you.Be Optimistic.\n",
            "perthinking is the biggest cause of our unhappiness.Keep your elf occupied.Keep your mind off things that don't help you.Be Optimistic.\n",
            "perthinking is the biggest cause of our unhappiness.Keep your elf occupied.Keep your mind off things that don't help you.Be Optimistic.\n",
            "perthinking is the biggest cause of our unhappiness.Keep your elf occupied.Keep your mind off things that don't help you.Be Optimistic.\n",
            "perthinking is the biggest cause of our unhappiness.Keep your elf occupied.Keep your mind off things that don't help you.Be Optimistic.\n",
            "perthinking is the biggest cause of our unhappiness.Keep your elf occupied.Keep your mind off things that don't help you.Be Optimistic.\n",
            "perthinking is the biggest cause of our unhappiness.Keep your elf occupied.Keep your mind off things that don't help you.Be Optimistic.\n",
            "perthinking is the biggest cause of our unhappiness.Keep your elf occupied.Keep your mind off things that don't help you.Be Optimistic.\n",
            "perthinking is the biggest cause of our unhappiness.Keep your elf occupied.Keep your mind off things that don't help you.Be Optimistic.\n",
            "perthinking is the biggest cause of our unhappiness.Keep your elf occupied.Keep your mind off things that don't help you.Be Optimistic.\n",
            "perthinking is the biggest cause of our unhappiness.Keep your elf occupied.Keep your mind off things that don't help you.Be Optimistic.\n",
            "perthinking is the biggest cause of our unhappiness.Keep your elf occupied.Keep your mind off things that don't help you.Be Optimistic.\n",
            "perthinking is the biggest cause of our unhappiness.Keep your elf occupied.Keep your mind off things that don't help you.Be Optimistic.\n",
            "perthinking is the biggest cause of our unhappiness.Keep your elf occupied.Keep your mind off things that don't help you.Be Optimistic.\n",
            "perthinking is the biggest cause of our unhappiness.Keep your elf occupied.Keep your mind off things that don't help you.Be Optimistic.\n",
            "perthinking is the biggest cause of our unhappiness.Keep your elf occupied.Keep your mind off things that don't help you.Be Optimistic.\n",
            "perthinking is the biggest cause of our unhappiness.Keep your elf occupied.Keep your mind off things that don't help you.Be Optimistic.\n",
            "perthinking is the biggest cause of our unhappiness.Keep your elf occupied.Keep your mind off things that don't help you.Be Optimistic.\n",
            "perthinking is the biggest cause of our unhappiness.Keep your elf occupied.Keep your mind off things that don't help you.Be Optimistic.\n",
            "perthinking is the biggest cause of our unhappiness.Keep your elf occupied.Keep your mind off things that don't help you.Be Optimistic.\n",
            "perthinking is the biggest cause of our unhappiness.Keep your elf occupied.Keep your mind off things that don't help you.Be Optimistic.\n",
            "perthinking is the biggest cause of our unhappiness.Keep your elf occupied.Keep your mind off things that don't help you.Be Optimistic.\n",
            "perthinking is the biggest cause of our unhappiness.Keep your elf occupied.Keep your mind off things that don't help you.Be Optimistic.\n",
            "perthinking is the biggest cause of our unhappiness.Keep your elf occupied.Keep your mind off things that don't help you.Be Optimistic.\n",
            "perthinking is the biggest cause of our unhappiness.Keep your elf occupied.Keep your mind off things that don't help you.Be Optimistic.\n",
            "perthinking is the biggest cause of our unhappiness.Keep your elf occupied.Keep your mind off things that don't help you.Be Optimistic.\n",
            "perthinking is the biggest cause of our unhappiness.Keep your elf occupied.Keep your mind off things that don't help you.Be Optimistic.\n",
            "perthinking is the biggest cause of our unhappiness.Keep your elf occupied.Keep your mind off things that don't help you.Be Optimistic.\n",
            "perthinking is the biggest cause of our unhappiness.Keep your elf occupied.Keep your mind off things that don't help you.Be Optimistic.\n",
            "perthinking is the biggest cause of our unhappiness.Keep your elf occupied.Keep your mind off things that don't help you.Be Optimistic.\n",
            "perthinking is the biggest cause of our unhappiness.Keep your elf occupied.Keep your mind off things that don't help you.Be Optimistic.\n",
            "perthinking is the biggest cause of our unhappiness.Keep your elf occupied.Keep your mind off things that don't help you.Be Optimistic.\n",
            "perthinking is the biggest cause of our unhappiness.Keep your elf occupied.Keep your mind off things that don't help you.Be Optimistic.\n",
            "perthinking is the biggest cause of our unhappiness.Keep your elf occupied.Keep your mind off things that don't help you.Be Optimistic.\n",
            "perthinking is the biggest cause of our unhappiness.Keep your elf occupied.Keep your mind off things that don't help you.Be Optimistic.\n",
            "perthinking is the biggest cause of our unhappiness.Keep your elf occupied.Keep your mind off things that don't help you.Be Optimistic.\n",
            "perthinking is the biggest cause of our unhappiness.Keep your elf occupied.Keep your mind off things that don't help you.Be Optimistic.\n",
            "perthinking is the biggest cause of our unhappiness.Keep your elf occupied.Keep your mind off things that don't help you.Be Optimistic.\n",
            "perthinking is the biggest cause of our unhappiness.Keep your elf occupied.Keep your mind off things that don't help you.Be Optimistic.\n",
            "perthinking is the biggest cause of our unhappiness.Keep your elf occupied.Keep your mind off things that don't help you.Be Optimistic.\n",
            "perthinking is the biggest cause of our unhappiness.Keep your elf occupied.Keep your mind off things that don't help you.Be Optimistic.\n",
            "perthinking is the biggest cause of our unhappiness.Keep your elf occupied.Keep your mind off things that don't help you.Be Optimistic.\n",
            "perthinking is the biggest cause of our unhappiness.Keep your elf occupied.Keep your mind off things that don't help you.Be Optimistic.\n",
            "perthinking is the biggest cause of our unhappiness.Keep your elf occupied.Keep your mind off things that don't help you.Be Optimistic.\n",
            "perthinking is the biggest cause of our unhappiness.Keep your elf occupied.Keep your mind off things that don't help you.Be Optimistic.\n",
            "perthinking is the biggest cause of our unhappiness.Keep your elf occupied.Keep your mind off things that don't help you.Be Optimistic.\n",
            "perthinking is the biggest cause of our unhappiness.Keep your elf occupied.Keep your mind off things that don't help you.Be Optimistic.\n",
            "perthinking is the biggest cause of our unhappiness.Keep your elf occupied.Keep your mind off things that don't help you.Be Optimistic.\n",
            "perthinking is the biggest cause of our unhappiness.Keep your elf occupied.Keep your mind off things that don't help you.Be Optimistic.\n",
            "perthinking is the biggest cause of our unhappiness.Keep your elf occupied.Keep your mind off things that don't help you.Be Optimistic.\n",
            "perthinking is the biggest cause of our unhappiness.Keep your elf occupied.Keep your mind off things that don't help you.Be Optimistic.\n",
            "perthinking is the biggest cause of our unhappiness.Keep your elf occupied.Keep your mind off things that don't help you.Be Optimistic.\n",
            "perthinking is the biggest cause of our unhappiness.Keep your elf occupied.Keep your mind off things that don't help you.Be Optimistic.\n",
            "perthinking is the biggest cause of our unhappiness.Keep your elf occupied.Keep your mind off things that don't help you.Be Optimistic.\n",
            "perthinking is the biggest cause of our unhappiness.Keep your elf occupied.Keep your mind off things that don't help you.Be Optimistic.\n",
            "perthinking is the biggest cause of our unhappiness.Keep your elf occupied.Keep your mind off things that don't help you.Be Optimistic.\n",
            "perthinking is the biggest cause of our unhappiness.Keep your elf occupied.Keep your mind off things that don't help you.Be Optimistic.\n",
            "perthinking is the biggest cause of our unhappiness.Keep your elf occupied.Keep your mind off things that don't help you.Be Optimistic.\n",
            "perthinking is the biggest cause of our unhappiness.Keep your elf occupied.Keep your mind off things that don't help you.Be Optimistic.\n",
            "perthinking is the biggest cause of our unhappiness.Keep your elf occupied.Keep your mind off things that don't help you.Be Optimistic.\n",
            "perthinking is the biggest cause of our unhappiness.Keep your elf occupied.Keep your mind off things that don't help you.Be Optimistic.\n",
            "perthinking is the biggest cause of our unhappiness.Keep your elf occupied.Keep your mind off things that don't help you.Be Optimistic.\n",
            "perthinking is the biggest cause of our unhappiness.Keep your elf occupied.Keep your mind off things that don't help you.Be Optimistic.\n",
            "perthinking is the biggest cause of our unhappiness.Keep your elf occupied.Keep your mind off things that don't help you.Be Optimistic.\n",
            "perthinking is the biggest cause of our unhappiness.Keep your elf occupied.Keep your mind off things that don't help you.Be Optimistic.\n",
            "perthinking is the biggest cause of our unhappiness.Keep your elf occupied.Keep your mind off things that don't help you.Be Optimistic.\n",
            "perthinking is the biggest cause of our unhappiness.Keep your elf occupied.Keep your mind off things that don't help you.Be Optimistic.\n",
            "perthinking is the biggest cause of our unhappiness.Keep your elf occupied.Keep your mind off things that don't help you.Be Optimistic.\n",
            "perthinking is the biggest cause of our unhappiness.Keep your elf occupied.Keep your mind off things that don't help you.Be Optimistic.\n",
            "perthinking is the biggest cause of our unhappiness.Keep your elf occupied.Keep your mind off things that don't help you.Be Optimistic.\n",
            "perthinking is the biggest cause of our unhappiness.Keep your elf occupied.Keep your mind off things that don't help you.Be Optimistic.\n",
            "perthinking is the biggest cause of our unhappiness.Keep your elf occupied.Keep your mind off things that don't help you.Be Optimistic.\n",
            "perthinking is the biggest cause of our unhappiness.Keep your elf occupied.Keep your mind off things that don't help you.Be Optimistic.\n",
            "perthinking is the biggest cause of our unhappiness.Keep your elf occupied.Keep your mind off things that don't help you.Be Optimistic.\n",
            "perthinking is the biggest cause of our unhappiness.Keep your elf occupied.Keep your mind off things that don't help you.Be Optimistic.\n",
            "perthinking is the biggest cause of our unhappiness.Keep your elf occupied.Keep your mind off things that don't help you.Be Optimistic.\n",
            "perthinking is the biggest cause of our unhappiness.Keep your elf occupied.Keep your mind off things that don't help you.Be Optimistic.\n",
            "perthinking is the biggest cause of our unhappiness.Keep your elf occupied.Keep your mind off things that don't help you.Be Optimistic.\n",
            "perthinking is the biggest cause of our unhappiness.Keep your elf occupied.Keep your mind off things that don't help you.Be Optimistic.\n",
            "perthinking is the biggest cause of our unhappiness.Keep your elf occupied.Keep your mind off things that don't help you.Be Optimistic.\n",
            "perthinking is the biggest cause of our unhappiness.Keep your elf occupied.Keep your mind off things that don't help you.Be Optimistic.\n",
            "perthinking is the biggest cause of our unhappiness.Keep your elf occupied.Keep your mind off things that don't help you.Be Optimistic.\n",
            "perthinking is the biggest cause of our unhappiness.Keep your elf occupied.Keep your mind off things that don't help you.Be Optimistic.\n",
            "perthinking is the biggest cause of our unhappiness.Keep your elf occupied.Keep your mind off things that don't help you.Be Optimistic.\n",
            "perthinking is the biggest cause of our unhappiness.Keep your elf occupied.Keep your mind off things that don't help you.Be Optimistic.\n",
            "perthinking is the biggest cause of our unhappiness.Keep your elf occupied.Keep your mind off things that don't help you.Be Optimistic.\n",
            "perthinking is the biggest cause of our unhappiness.Keep your elf occupied.Keep your mind off things that don't help you.Be Optimistic.\n",
            "perthinking is the biggest cause of our unhappiness.Keep your elf occupied.Keep your mind off things that don't help you.Be Optimistic.\n",
            "perthinking is the biggest cause of our unhappiness.Keep your elf occupied.Keep your mind off things that don't help you.Be Optimistic.\n",
            "perthinking is the biggest cause of our unhappiness.Keep your elf occupied.Keep your mind off things that don't help you.Be Optimistic.\n",
            "perthinking is the biggest cause of our unhappiness.Keep your elf occupied.Keep your mind off things that don't help you.Be Optimistic.\n",
            "perthinking is the biggest cause of our unhappiness.Keep your elf occupied.Keep your mind off things that don't help you.Be Optimistic.\n",
            "perthinking is the biggest cause of our unhappiness.Keep your elf occupied.Keep your mind off things that don't help you.Be Optimistic.\n",
            "perthinking is the biggest cause of our unhappiness.Keep your elf occupied.Keep your mind off things that don't help you.Be Optimistic.\n",
            "perthinking is the biggest cause of our unhappiness.Keep your elf occupied.Keep your mind off things that don't help you.Be Optimistic.\n",
            "perthinking is the biggest cause of our unhappiness.Keep your elf occupied.Keep your mind off things that don't help you.Be Optimistic.\n",
            "perthinking is the biggest cause of our unhappiness.Keep your elf occupied.Keep your mind off things that don't help you.Be Optimistic.\n",
            "perthinking is the biggest cause of our unhappiness.Keep your elf occupied.Keep your mind off things that don't help you.Be Optimistic.\n",
            "perthinking is the biggest cause of our unhappiness.Keep your elf occupied.Keep your mind off things that don't help you.Be Optimistic.\n",
            "perthinking is the biggest cause of our unhappiness.Keep your elf occupied.Keep your mind off things that don't help you.Be Optimistic.\n",
            "perthinking is the biggest cause of our unhappiness.Keep your elf occupied.Keep your mind off things that don't help you.Be Optimistic.\n",
            "perthinking is the biggest cause of our unhappiness.Keep your elf occupied.Keep your mind off things that don't help you.Be Optimistic.\n",
            "perthinking is the biggest cause of our unhappiness.Keep your elf occupied.Keep your mind off things that don't help you.Be Optimistic.\n",
            "perthinking is the biggest cause of our unhappiness.Keep your elf occupied.Keep your mind off things that don't help you.Be Optimistic.\n",
            "perthinking is the biggest cause of our unhappiness.Keep your elf occupied.Keep your mind off things that don't help you.Be Optimistic.\n",
            "perthinking is the biggest cause of our unhappiness.Keep your elf occupied.Keep your mind off things that don't help you.Be Optimistic.\n",
            "perthinking is the biggest cause of our unhappiness.Keep your elf occupied.Keep your mind off things that don't help you.Be Optimistic.\n",
            "perthinking is the biggest cause of our unhappiness.Keep your elf occupied.Keep your mind off things that don't help you.Be Optimistic.\n",
            "perthinking is the biggest cause of our unhappiness.Keep your elf occupied.Keep your mind off things that don't help you.Be Optimistic.\n",
            "perthinking is the biggest cause of our unhappiness.Keep your elf occupied.Keep your mind off things that don't help you.Be Optimistic.\n",
            "perthinking is the biggest cause of our unhappiness.Keep your elf occupied.Keep your mind off things that don't help you.Be Optimistic.\n",
            "perthinking is the biggest cause of our unhappiness.Keep your elf occupied.Keep your mind off things that don't help you.Be Optimistic.\n",
            "perthinking is the biggest cause of our unhappiness.Keep your elf occupied.Keep your mind off things that don't help you.Be Optimistic.\n",
            "perthinking is the biggest cause of our unhappiness.Keep your elf occupied.Keep your mind off things that don't help you.Be Optimistic.\n",
            "perthinking is the biggest cause of our unhappiness.Keep your elf occupied.Keep your mind off things that don't help you.Be Optimistic.\n",
            "perthinking is the biggest cause of our unhappiness.Keep your elf occupied.Keep your mind off things that don't help you.Be Optimistic.\n",
            "perthinking is the biggest cause of our unhappiness.Keep your elf occupied.Keep your mind off things that don't help you.Be Optimistic.\n",
            "perthinking is the biggest cause of our unhappiness.Keep your elf occupied.Keep your mind off things that don't help you.Be Optimistic.\n",
            "perthinking is the biggest cause of our unhappiness.Keep your elf occupied.Keep your mind off things that don't help you.Be Optimistic.\n",
            "perthinking is the biggest cause of our unhappiness.Keep your elf occupied.Keep your mind off things that don't help you.Be Optimistic.\n",
            "perthinking is the biggest cause of our unhappiness.Keep your elf occupied.Keep your mind off things that don't help you.Be Optimistic.\n",
            "perthinking is the biggest cause of our unhappiness.Keep your elf occupied.Keep your mind off things that don't help you.Be Optimistic.\n",
            "perthinking is the biggest cause of our unhappiness.Keep your elf occupied.Keep your mind off things that don't help you.Be Optimistic.\n",
            "perthinking is the biggest cause of our unhappiness.Keep your elf occupied.Keep your mind off things that don't help you.Be Optimistic.\n",
            "perthinking is the biggest cause of our unhappiness.Keep your elf occupied.Keep your mind off things that don't help you.Be Optimistic.\n",
            "perthinking is the biggest cause of our unhappiness.Keep your elf occupied.Keep your mind off things that don't help you.Be Optimistic.\n",
            "perthinking is the biggest cause of our unhappiness.Keep your elf occupied.Keep your mind off things that don't help you.Be Optimistic.\n",
            "perthinking is the biggest cause of our unhappiness.Keep your elf occupied.Keep your mind off things that don't help you.Be Optimistic.\n",
            "perthinking is the biggest cause of our unhappiness.Keep your elf occupied.Keep your mind off things that don't help you.Be Optimistic.\n",
            "perthinking is the biggest cause of our unhappiness.Keep your elf occupied.Keep your mind off things that don't help you.Be Optimistic.\n",
            "perthinking is the biggest cause of our unhappiness.Keep your elf occupied.Keep your mind off things that don't help you.Be Optimistic.\n",
            "perthinking is the biggest cause of our unhappiness.Keep your elf occupied.Keep your mind off things that don't help you.Be Optimistic.\n",
            "perthinking is the biggest cause of our unhappiness.Keep your elf occupied.Keep your mind off things that don't help you.Be Optimistic.\n",
            "perthinking is the biggest cause of our unhappiness.Keep your elf occupied.Keep your mind off things that don't help you.Be Optimistic.\n",
            "perthinking is the biggest cause of our unhappiness.Keep your elf occupied.Keep your mind off things that don't help you.Be Optimistic.\n",
            "perthinking is the biggest cause of our unhappiness.Keep your elf occupied.Keep your mind off things that don't help you.Be Optimistic.\n",
            "perthinking is the biggest cause of our unhappiness.Keep your elf occupied.Keep your mind off things that don't help you.Be Optimistic.\n",
            "perthinking is the biggest cause of our unhappiness.Keep your elf occupied.Keep your mind off things that don't help you.Be Optimistic.\n",
            "perthinking is the biggest cause of our unhappiness.Keep your elf occupied.Keep your mind off things that don't help you.Be Optimistic.\n",
            "perthinking is the biggest cause of our unhappiness.Keep your elf occupied.Keep your mind off things that don't help you.Be Optimistic.\n",
            "perthinking is the biggest cause of our unhappiness.Keep your elf occupied.Keep your mind off things that don't help you.Be Optimistic.\n",
            "perthinking is the biggest cause of our unhappiness.Keep your elf occupied.Keep your mind off things that don't help you.Be Optimistic.\n",
            "perthinking is the biggest cause of our unhappiness.Keep your elf occupied.Keep your mind off things that don't help you.Be Optimistic.\n",
            "perthinking is the biggest cause of our unhappiness.Keep your elf occupied.Keep your mind off things that don't help you.Be Optimistic.\n",
            "perthinking is the biggest cause of our unhappiness.Keep your elf occupied.Keep your mind off things that don't help you.Be Optimistic.\n",
            "perthinking is the biggest cause of our unhappiness.Keep your elf occupied.Keep your mind off things that don't help you.Be Optimistic.\n",
            "perthinking is the biggest cause of our unhappiness.Keep your elf occupied.Keep your mind off things that don't help you.Be Optimistic.\n",
            "perthinking is the biggest cause of our unhappiness.Keep your elf occupied.Keep your mind off things that don't help you.Be Optimistic.\n",
            "perthinking is the biggest cause of our unhappiness.Keep your elf occupied.Keep your mind off things that don't help you.Be Optimistic.\n",
            "perthinking is the biggest cause of our unhappiness.Keep your elf occupied.Keep your mind off things that don't help you.Be Optimistic.\n",
            "perthinking is the biggest cause of our unhappiness.Keep your elf occupied.Keep your mind off things that don't help you.Be Optimistic.\n",
            "perthinking is the biggest cause of our unhappiness.Keep your elf occupied.Keep your mind off things that don't help you.Be Optimistic.\n",
            "perthinking is the biggest cause of our unhappiness.Keep your elf occupied.Keep your mind off things that don't help you.Be Optimistic.\n",
            "perthinking is the biggest cause of our unhappiness.Keep your elf occupied.Keep your mind off things that don't help you.Be Optimistic.\n",
            "perthinking is the biggest cause of our unhappiness.Keep your elf occupied.Keep your mind off things that don't help you.Be Optimistic.\n",
            "perthinking is the biggest cause of our unhappiness.Keep your elf occupied.Keep your mind off things that don't help you.Be Optimistic.\n",
            "perthinking is the biggest cause of our unhappiness.Keep your elf occupied.Keep your mind off things that don't help you.Be Optimistic.\n",
            "perthinking is the biggest cause of our unhappiness.Keep your elf occupied.Keep your mind off things that don't help you.Be Optimistic.\n",
            "perthinking is the biggest cause of our unhappiness.Keep your elf occupied.Keep your mind off things that don't help you.Be Optimistic.\n",
            "perthinking is the biggest cause of our unhappiness.Keep your elf occupied.Keep your mind off things that don't help you.Be Optimistic.\n",
            "perthinking is the biggest cause of our unhappiness.Keep your elf occupied.Keep your mind off things that don't help you.Be Optimistic.\n",
            "perthinking is the biggest cause of our unhappiness.Keep your elf occupied.Keep your mind off things that don't help you.Be Optimistic.\n",
            "perthinking is the biggest cause of our unhappiness.Keep your elf occupied.Keep your mind off things that don't help you.Be Optimistic.\n",
            "perthinking is the biggest cause of our unhappiness.Keep your elf occupied.Keep your mind off things that don't help you.Be Optimistic.\n",
            "perthinking is the biggest cause of our unhappiness.Keep your elf occupied.Keep your mind off things that don't help you.Be Optimistic.\n",
            "perthinking is the biggest cause of our unhappiness.Keep your elf occupied.Keep your mind off things that don't help you.Be Optimistic.\n",
            "perthinking is the biggest cause of our unhappiness.Keep your elf occupied.Keep your mind off things that don't help you.Be Optimistic.\n",
            "perthinking is the biggest cause of our unhappiness.Keep your elf occupied.Keep your mind off things that don't help you.Be Optimistic.\n",
            "perthinking is the biggest cause of our unhappiness.Keep your elf occupied.Keep your mind off things that don't help you.Be Optimistic.\n",
            "perthinking is the biggest cause of our unhappiness.Keep your elf occupied.Keep your mind off things that don't help you.Be Optimistic.\n",
            "perthinking is the biggest cause of our unhappiness.Keep your elf occupied.Keep your mind off things that don't help you.Be Optimistic.\n",
            "perthinking is the biggest cause of our unhappiness.Keep your elf occupied.Keep your mind off things that don't help you.Be Optimistic.\n",
            "perthinking is the biggest cause of our unhappiness.Keep your elf occupied.Keep your mind off things that don't help you.Be Optimistic.\n",
            "perthinking is the biggest cause of our unhappiness.Keep your elf occupied.Keep your mind off things that don't help you.Be Optimistic.\n",
            "perthinking is the biggest cause of our unhappiness.Keep your elf occupied.Keep your mind off things that don't help you.Be Optimistic.\n",
            "perthinking is the biggest cause of our unhappiness.Keep your elf occupied.Keep your mind off things that don't help you.Be Optimistic.\n",
            "perthinking is the biggest cause of our unhappiness.Keep your elf occupied.Keep your mind off things that don't help you.Be Optimistic.\n",
            "perthinking is the biggest cause of our unhappiness.Keep your elf occupied.Keep your mind off things that don't help you.Be Optimistic.\n",
            "perthinking is the biggest cause of our unhappiness.Keep your elf occupied.Keep your mind off things that don't help you.Be Optimistic.\n",
            "perthinking is the biggest cause of our unhappiness.Keep your elf occupied.Keep your mind off things that don't help you.Be Optimistic.\n",
            "perthinking is the biggest cause of our unhappiness.Keep your elf occupied.Keep your mind off things that don't help you.Be Optimistic.\n",
            "perthinking is the biggest cause of our unhappiness.Keep your elf occupied.Keep your mind off things that don't help you.Be Optimistic.\n",
            "perthinking is the biggest cause of our unhappiness.Keep your elf occupied.Keep your mind off things that don't help you.Be Optimistic.\n",
            "perthinking is the biggest cause of our unhappiness.Keep your elf occupied.Keep your mind off things that don't help you.Be Optimistic.\n",
            "perthinking is the biggest cause of our unhappiness.Keep your elf occupied.Keep your mind off things that don't help you.Be Optimistic.\n",
            "perthinking is the biggest cause of our unhappiness.Keep your elf occupied.Keep your mind off things that don't help you.Be Optimistic.\n",
            "perthinking is the biggest cause of our unhappiness.Keep your elf occupied.Keep your mind off things that don't help you.Be Optimistic.\n",
            "perthinking is the biggest cause of our unhappiness.Keep your elf occupied.Keep your mind off things that don't help you.Be Optimistic.\n",
            "perthinking is the biggest cause of our unhappiness.Keep your elf occupied.Keep your mind off things that don't help you.Be Optimistic.\n",
            "perthinking is the biggest cause of our unhappiness.Keep your elf occupied.Keep your mind off things that don't help you.Be Optimistic.\n",
            "perthinking is the biggest cause of our unhappiness.Keep your elf occupied.Keep your mind off things that don't help you.Be Optimistic.\n",
            "perthinking is the biggest cause of our unhappiness.Keep your elf occupied.Keep your mind off things that don't help you.Be Optimistic.\n",
            "perthinking is the biggest cause of our unhappiness.Keep your elf occupied.Keep your mind off things that don't help you.Be Optimistic.\n",
            "perthinking is the biggest cause of our unhappiness.Keep your elf occupied.Keep your mind off things that don't help you.Be Optimistic.\n",
            "perthinking is the biggest cause of our unhappiness.Keep your elf occupied.Keep your mind off things that don't help you.Be Optimistic.\n",
            "perthinking is the biggest cause of our unhappiness.Keep your elf occupied.Keep your mind off things that don't help you.Be Optimistic.\n",
            "perthinking is the biggest cause of our unhappiness.Keep your elf occupied.Keep your mind off things that don't help you.Be Optimistic.\n",
            "perthinking is the biggest cause of our unhappiness.Keep your elf occupied.Keep your mind off things that don't help you.Be Optimistic.\n",
            "perthinking is the biggest cause of our unhappiness.Keep your elf occupied.Keep your mind off things that don't help you.Be Optimistic.\n",
            "perthinking is the biggest cause of our unhappiness.Keep your elf occupied.Keep your mind off things that don't help you.Be Optimistic.\n",
            "perthinking is the biggest cause of our unhappiness.Keep your elf occupied.Keep your mind off things that don't help you.Be Optimistic.\n",
            "perthinking is the biggest cause of our unhappiness.Keep your elf occupied.Keep your mind off things that don't help you.Be Optimistic.\n",
            "perthinking is the biggest cause of our unhappiness.Keep your elf occupied.Keep your mind off things that don't help you.Be Optimistic.\n",
            "perthinking is the biggest cause of our unhappiness.Keep your elf occupied.Keep your mind off things that don't help you.Be Optimistic.\n",
            "perthinking is the biggest cause of our unhappiness.Keep your elf occupied.Keep your mind off things that don't help you.Be Optimistic.\n",
            "perthinking is the biggest cause of our unhappiness.Keep your elf occupied.Keep your mind off things that don't help you.Be Optimistic.\n",
            "perthinking is the biggest cause of our unhappiness.Keep your elf occupied.Keep your mind off things that don't help you.Be Optimistic.\n",
            "perthinking is the biggest cause of our unhappiness.Keep your elf occupied.Keep your mind off things that don't help you.Be Optimistic.\n",
            "perthinking is the biggest cause of our unhappiness.Keep your elf occupied.Keep your mind off things that don't help you.Be Optimistic.\n",
            "perthinking is the biggest cause of our unhappiness.Keep your elf occupied.Keep your mind off things that don't help you.Be Optimistic.\n",
            "perthinking is the biggest cause of our unhappiness.Keep your elf occupied.Keep your mind off things that don't help you.Be Optimistic.\n",
            "perthinking is the biggest cause of our unhappiness.Keep your elf occupied.Keep your mind off things that don't help you.Be Optimistic.\n",
            "perthinking is the biggest cause of our unhappiness.Keep your elf occupied.Keep your mind off things that don't help you.Be Optimistic.\n",
            "perthinking is the biggest cause of our unhappiness.Keep your elf occupied.Keep your mind off things that don't help you.Be Optimistic.\n",
            "perthinking is the biggest cause of our unhappiness.Keep your elf occupied.Keep your mind off things that don't help you.Be Optimistic.\n",
            "perthinking is the biggest cause of our unhappiness.Keep your elf occupied.Keep your mind off things that don't help you.Be Optimistic.\n",
            "perthinking is the biggest cause of our unhappiness.Keep your elf occupied.Keep your mind off things that don't help you.Be Optimistic.\n",
            "perthinking is the biggest cause of our unhappiness.Keep your elf occupied.Keep your mind off things that don't help you.Be Optimistic.\n",
            "perthinking is the biggest cause of our unhappiness.Keep your elf occupied.Keep your mind off things that don't help you.Be Optimistic.\n",
            "perthinking is the biggest cause of our unhappiness.Keep your elf occupied.Keep your mind off things that don't help you.Be Optimistic.\n",
            "perthinking is the biggest cause of our unhappiness.Keep your elf occupied.Keep your mind off things that don't help you.Be Optimistic.\n",
            "perthinking is the biggest cause of our unhappiness.Keep your elf occupied.Keep your mind off things that don't help you.Be Optimistic.\n",
            "perthinking is the biggest cause of our unhappiness.Keep your elf occupied.Keep your mind off things that don't help you.Be Optimistic.\n",
            "perthinking is the biggest cause of our unhappiness.Keep your elf occupied.Keep your mind off things that don't help you.Be Optimistic.\n",
            "perthinking is the biggest cause of our unhappiness.Keep your elf occupied.Keep your mind off things that don't help you.Be Optimistic.\n",
            "perthinking is the biggest cause of our unhappiness.Keep your elf occupied.Keep your mind off things that don't help you.Be Optimistic.\n",
            "perthinking is the biggest cause of our unhappiness.Keep your elf occupied.Keep your mind off things that don't help you.Be Optimistic.\n",
            "perthinking is the biggest cause of our unhappiness.Keep your elf occupied.Keep your mind off things that don't help you.Be Optimistic.\n",
            "perthinking is the biggest cause of our unhappiness.Keep your elf occupied.Keep your mind off things that don't help you.Be Optimistic.\n",
            "perthinking is the biggest cause of our unhappiness.Keep your elf occupied.Keep your mind off things that don't help you.Be Optimistic.\n",
            "perthinking is the biggest cause of our unhappiness.Keep your elf occupied.Keep your mind off things that don't help you.Be Optimistic.\n",
            "perthinking is the biggest cause of our unhappiness.Keep your elf occupied.Keep your mind off things that don't help you.Be Optimistic.\n",
            "perthinking is the biggest cause of our unhappiness.Keep your elf occupied.Keep your mind off things that don't help you.Be Optimistic.\n",
            "perthinking is the biggest cause of our unhappiness.Keep your elf occupied.Keep your mind off things that don't help you.Be Optimistic.\n",
            "perthinking is the biggest cause of our unhappiness.Keep your elf occupied.Keep your mind off things that don't help you.Be Optimistic.\n",
            "perthinking is the biggest cause of our unhappiness.Keep your elf occupied.Keep your mind off things that don't help you.Be Optimistic.\n",
            "perthinking is the biggest cause of our unhappiness.Keep your elf occupied.Keep your mind off things that don't help you.Be Optimistic.\n",
            "perthinking is the biggest cause of our unhappiness.Keep your elf occupied.Keep your mind off things that don't help you.Be Optimistic.\n",
            "perthinking is the biggest cause of our unhappiness.Keep your elf occupied.Keep your mind off things that don't help you.Be Optimistic.\n",
            "perthinking is the biggest cause of our unhappiness.Keep your elf occupied.Keep your mind off things that don't help you.Be Optimistic.\n",
            "perthinking is the biggest cause of our unhappiness.Keep your elf occupied.Keep your mind off things that don't help you.Be Optimistic.\n",
            "perthinking is the biggest cause of our unhappiness.Keep your elf occupied.Keep your mind off things that don't help you.Be Optimistic.\n",
            "perthinking is the biggest cause of our unhappiness.Keep your elf occupied.Keep your mind off things that don't help you.Be Optimistic.\n",
            "perthinking is the biggest cause of our unhappiness.Keep your elf occupied.Keep your mind off things that don't help you.Be Optimistic.\n",
            "perthinking is the biggest cause of our unhappiness.Keep your elf occupied.Keep your mind off things that don't help you.Be Optimistic.\n",
            "perthinking is the biggest cause of our unhappiness.Keep your elf occupied.Keep your mind off things that don't help you.Be Optimistic.\n",
            "perthinking is the biggest cause of our unhappiness.Keep your elf occupied.Keep your mind off things that don't help you.Be Optimistic.\n",
            "perthinking is the biggest cause of our unhappiness.Keep your elf occupied.Keep your mind off things that don't help you.Be Optimistic.\n",
            "perthinking is the biggest cause of our unhappiness.Keep your elf occupied.Keep your mind off things that don't help you.Be Optimistic.\n",
            "perthinking is the biggest cause of our unhappiness.Keep your elf occupied.Keep your mind off things that don't help you.Be Optimistic.\n",
            "perthinking is the biggest cause of our unhappiness.Keep your elf occupied.Keep your mind off things that don't help you.Be Optimistic.\n",
            "perthinking is the biggest cause of our unhappiness.Keep your elf occupied.Keep your mind off things that don't help you.Be Optimistic.\n",
            "perthinking is the biggest cause of our unhappiness.Keep your elf occupied.Keep your mind off things that don't help you.Be Optimistic.\n",
            "perthinking is the biggest cause of our unhappiness.Keep your elf occupied.Keep your mind off things that don't help you.Be Optimistic.\n",
            "perthinking is the biggest cause of our unhappiness.Keep your elf occupied.Keep your mind off things that don't help you.Be Optimistic.\n",
            "perthinking is the biggest cause of our unhappiness.Keep your elf occupied.Keep your mind off things that don't help you.Be Optimistic.\n",
            "perthinking is the biggest cause of our unhappiness.Keep your elf occupied.Keep your mind off things that don't help you.Be Optimistic.\n",
            "perthinking is the biggest cause of our unhappiness.Keep your elf occupied.Keep your mind off things that don't help you.Be Optimistic.\n",
            "perthinking is the biggest cause of our unhappiness.Keep your elf occupied.Keep your mind off things that don't help you.Be Optimistic.\n",
            "perthinking is the biggest cause of our unhappiness.Keep your elf occupied.Keep your mind off things that don't help you.Be Optimistic.\n",
            "perthinking is the biggest cause of our unhappiness.Keep your elf occupied.Keep your mind off things that don't help you.Be Optimistic.\n",
            "perthinking is the biggest cause of our unhappiness.Keep your elf occupied.Keep your mind off things that don't help you.Be Optimistic.\n",
            "perthinking is the biggest cause of our unhappiness.Keep your elf occupied.Keep your mind off things that don't help you.Be Optimistic.\n",
            "perthinking is the biggest cause of our unhappiness.Keep your elf occupied.Keep your mind off things that don't help you.Be Optimistic.\n",
            "perthinking is the biggest cause of our unhappiness.Keep your elf occupied.Keep your mind off things that don't help you.Be Optimistic.\n",
            "perthinking is the biggest cause of our unhappiness.Keep your elf occupied.Keep your mind off things that don't help you.Be Optimistic.\n",
            "perthinking is the biggest cause of our unhappiness.Keep your elf occupied.Keep your mind off things that don't help you.Be Optimistic.\n",
            "perthinking is the biggest cause of our unhappiness.Keep your elf occupied.Keep your mind off things that don't help you.Be Optimistic.\n",
            "perthinking is the biggest cause of our unhappiness.Keep your elf occupied.Keep your mind off things that don't help you.Be Optimistic.\n",
            "perthinking is the biggest cause of our unhappiness.Keep your elf occupied.Keep your mind off things that don't help you.Be Optimistic.\n",
            "perthinking is the biggest cause of our unhappiness.Keep your elf occupied.Keep your mind off things that don't help you.Be Optimistic.\n",
            "perthinking is the biggest cause of our unhappiness.Keep your elf occupied.Keep your mind off things that don't help you.Be Optimistic.\n",
            "perthinking is the biggest cause of our unhappiness.Keep your elf occupied.Keep your mind off things that don't help you.Be Optimistic.\n",
            "perthinking is the biggest cause of our unhappiness.Keep your elf occupied.Keep your mind off things that don't help you.Be Optimistic.\n",
            "perthinking is the biggest cause of our unhappiness.Keep your elf occupied.Keep your mind off things that don't help you.Be Optimistic.\n",
            "perthinking is the biggest cause of our unhappiness.Keep your elf occupied.Keep your mind off things that don't help you.Be Optimistic.\n",
            "perthinking is the biggest cause of our unhappiness.Keep your elf occupied.Keep your mind off things that don't help you.Be Optimistic.\n",
            "perthinking is the biggest cause of our unhappiness.Keep your elf occupied.Keep your mind off things that don't help you.Be Optimistic.\n",
            "perthinking is the biggest cause of our unhappiness.Keep your elf occupied.Keep your mind off things that don't help you.Be Optimistic.\n",
            "perthinking is the biggest cause of our unhappiness.Keep your elf occupied.Keep your mind off things that don't help you.Be Optimistic.\n",
            "perthinking is the biggest cause of our unhappiness.Keep your elf occupied.Keep your mind off things that don't help you.Be Optimistic.\n",
            "perthinking is the biggest cause of our unhappiness.Keep your elf occupied.Keep your mind off things that don't help you.Be Optimistic.\n",
            "perthinking is the biggest cause of our unhappiness.Keep your elf occupied.Keep your mind off things that don't help you.Be Optimistic.\n",
            "perthinking is the biggest cause of our unhappiness.Keep your elf occupied.Keep your mind off things that don't help you.Be Optimistic.\n",
            "perthinking is the biggest cause of our unhappiness.Keep your elf occupied.Keep your mind off things that don't help you.Be Optimistic.\n",
            "perthinking is the biggest cause of our unhappiness.Keep your elf occupied.Keep your mind off things that don't help you.Be Optimistic.\n",
            "perthinking is the biggest cause of our unhappiness.Keep your elf occupied.Keep your mind off things that don't help you.Be Optimistic.\n",
            "perthinking is the biggest cause of our unhappiness.Keep your elf occupied.Keep your mind off things that don't help you.Be Optimistic.\n",
            "perthinking is the biggest cause of our unhappiness.Keep your elf occupied.Keep your mind off things that don't help you.Be Optimistic.\n",
            "perthinking is the biggest cause of our unhappiness.Keep your elf occupied.Keep your mind off things that don't help you.Be Optimistic.\n",
            "perthinking is the biggest cause of our unhappiness.Keep your elf occupied.Keep your mind off things that don't help you.Be Optimistic.\n",
            "perthinking is the biggest cause of our unhappiness.Keep your elf occupied.Keep your mind off things that don't help you.Be Optimistic.\n",
            "perthinking is the biggest cause of our unhappiness.Keep your elf occupied.Keep your mind off things that don't help you.Be Optimistic.\n",
            "perthinking is the biggest cause of our unhappiness.Keep your elf occupied.Keep your mind off things that don't help you.Be Optimistic.\n",
            "perthinking is the biggest cause of our unhappiness.Keep your elf occupied.Keep your mind off things that don't help you.Be Optimistic.\n",
            "perthinking is the biggest cause of our unhappiness.Keep your elf occupied.Keep your mind off things that don't help you.Be Optimistic.\n",
            "perthinking is the biggest cause of our unhappiness.Keep your elf occupied.Keep your mind off things that don't help you.Be Optimistic.\n",
            "perthinking is the biggest cause of our unhappiness.Keep your elf occupied.Keep your mind off things that don't help you.Be Optimistic.\n",
            "perthinking is the biggest cause of our unhappiness.Keep your elf occupied.Keep your mind off things that don't help you.Be Optimistic.\n",
            "perthinking is the biggest cause of our unhappiness.Keep your elf occupied.Keep your mind off things that don't help you.Be Optimistic.\n",
            "perthinking is the biggest cause of our unhappiness.Keep your elf occupied.Keep your mind off things that don't help you.Be Optimistic.\n",
            "perthinking is the biggest cause of our unhappiness.Keep your elf occupied.Keep your mind off things that don't help you.Be Optimistic.\n",
            "perthinking is the biggest cause of our unhappiness.Keep your elf occupied.Keep your mind off things that don't help you.Be Optimistic.\n",
            "perthinking is the biggest cause of our unhappiness.Keep your elf occupied.Keep your mind off things that don't help you.Be Optimistic.\n",
            "perthinking is the biggest cause of our unhappiness.Keep your elf occupied.Keep your mind off things that don't help you.Be Optimistic.\n",
            "perthinking is the biggest cause of our unhappiness.Keep your elf occupied.Keep your mind off things that don't help you.Be Optimistic.\n",
            "perthinking is the biggest cause of our unhappiness.Keep your elf occupied.Keep your mind off things that don't help you.Be Optimistic.\n",
            "perthinking is the biggest cause of our unhappiness.Keep your elf occupied.Keep your mind off things that don't help you.Be Optimistic.\n",
            "perthinking is the biggest cause of our unhappiness.Keep your elf occupied.Keep your mind off things that don't help you.Be Optimistic.\n",
            "perthinking is the biggest cause of our unhappiness.Keep your elf occupied.Keep your mind off things that don't help you.Be Optimistic.\n",
            "perthinking is the biggest cause of our unhappiness.Keep your elf occupied.Keep your mind off things that don't help you.Be Optimistic.\n",
            "perthinking is the biggest cause of our unhappiness.Keep your elf occupied.Keep your mind off things that don't help you.Be Optimistic.\n",
            "perthinking is the biggest cause of our unhappiness.Keep your elf occupied.Keep your mind off things that don't help you.Be Optimistic.\n",
            "perthinking is the biggest cause of our unhappiness.Keep your elf occupied.Keep your mind off things that don't help you.Be Optimistic.\n",
            "perthinking is the biggest cause of our unhappiness.Keep yourself occupied.Keep yoursmind off things that don't help you.Be Optimistic.\n",
            "perthinking is the biggest cause of our unhappiness.Keep your elf occupied.Keep your mind off things that don't help you.Be Optimistic.\n",
            "perthinking is the biggest cause of our unhappiness.Keep your elf occupied.Keep your mind off things that don't help you.Be Optimistic.\n",
            "perthinking is the biggest cause of our unhappiness.Keep your elf occupied.Keep your mind off things that don't help you.Be Optimistic.\n",
            "perthinking is the biggest cause of our unhappiness.Keep your elf occupied.Keep your mind off things that don't help you.Be Optimistic.\n",
            "perthinking is the biggest cause of our unhappiness.Keep your elf occupied.Keep your mind off things that don't help you.Be Optimistic.\n",
            "perthinking is the biggest cause of our unhappiness.Keep your elf occupied.Keep your mind off things that don't help you.Be Optimistic.\n",
            "perthinking is the biggest cause of our unhappiness.Keep your elf occupied.Keep your mind off things that don't help you.Be Optimistic.\n",
            "perthinking is the biggest cause of our unhappiness.Keep your elf occupied.Keep your mind off things that don't help you.Be Optimistic.\n",
            "perthinking is the biggest cause of our unhappiness.Keep your elf occupied.Keep your mind off things that don't help you.Be Optimistic.\n",
            "perthinking is the biggest cause of our unhappiness.Keep your elf occupied.Keep your mind off things that don't help you.Be Optimistic.\n",
            "perthinking is the biggest cause of our unhappiness.Keep your elf occupied.Keep your mind off things that don't help you.Be Optimistic.\n",
            "perthinking is the biggest cause of our unhappiness.Keep your elf occupied.Keep your mind off things that don't help you.Be Optimistic.\n",
            "perthinking is the biggest cause of our unhappiness.Keep your elf occupied.Keep your mind off things that don't help you.Be Optimistic.\n",
            "perthinking is the biggest cause of our unhappiness.Keep your elf occupied.Keep your mind off things that don't help you.Be Optimistic.\n",
            "perthinking is the biggest cause of our unhappiness.Keep your elf occupied.Keep your mind off things that don't help you.Be Optimistic.\n",
            "perthinking is the biggest cause of our unhappiness.Keep your elf occupied.Keep your mind off things that don't help you.Be Optimistic.\n",
            "perthinking is the biggest cause of our unhappiness.Keep your elf occupied.Keep your mind off things that don't help you.Be Optimistic.\n",
            "perthinking is the biggest cause of our unhappiness.Keep your elf occupied.Keep your mind off things that don't help you.Be Optimistic.\n",
            "perthinking is the biggest cause of our unhappiness.Keep your elf occupied.Keep your mind off things that don't help you.Be Optimistic.\n",
            "perthinking is the biggest cause of our unhappiness.Keep your elf occupied.Keep your mind off things that don't help you.Be Optimistic.\n",
            "perthinking is the biggest cause of our unhappiness.Keep your elf occupied.Keep your mind off things that don't help you.Be Optimistic.\n",
            "perthinking is the biggest cause of our unhappiness.Keep your elf occupied.Keep your mind off things that don't help you.Be Optimistic.\n",
            "perthinking is the biggest cause of our unhappiness.Keep your elf occupied.Keep your mind off things that don't help you.Be Optimistic.\n",
            "perthinking is the biggest cause of our unhappiness.Keep your elf occupied.Keep your mind off things that don't help you.Be Optimistic.\n",
            "perthinking is the biggest cause of our unhappiness.Keep your elf occupied.Keep your mind off things that don't help you.Be Optimistic.\n",
            "perthinking is the biggest cause of our unhappiness.Keep your elf occupied.Keep your mind off things that don't help you.Be Optimistic.\n",
            "perthinking is the biggest cause of our unhappiness.Keep your elf occupied.Keep your mind off things that don't help you.Be Optimistic.\n",
            "perthinking is the biggest cause of our unhappiness.Keep your elf occupied.Keep your mind off things that don't help you.Be Optimistic.\n",
            "perthinking is the biggest cause of our unhappiness.Keep your elf occupied.Keep your mind off things that don't help you.Be Optimistic.\n",
            "perthinking is the biggest cause of our unhappiness.Keep your elf occupied.Keep your mind off things that don't help you.Be Optimistic.\n",
            "perthinking is the biggest cause of our unhappiness.Keep your elf occupied.Keep your mind off things that don't help you.Be Optimistic.\n",
            "perthinking is the biggest cause of our unhappiness.Keep your elf occupied.Keep your mind off things that don't help you.Be Optimistic.\n",
            "perthinking is the biggest cause of our unhappiness.Keep your elf occupied.Keep your mind off things that don't help you.Be Optimistic.\n",
            "perthinking is the biggest cause of our unhappiness.Keep your elf occupied.Keep your mind off things that don't help you.Be Optimistic.\n",
            "perthinking is the biggest cause of our unhappiness.Keep your elf occupied.Keep your mind off things that don't help you.Be Optimistic.\n",
            "perthinking is the biggest cause of our unhappiness.Keep your elf occupied.Keep your mind off things that don't help you.Be Optimistic.\n",
            "perthinking is the biggest cause of our unhappiness.Keep your elf occupied.Keep your mind off things that don't help you.Be Optimistic.\n",
            "perthinking is the biggest cause of our unhappiness.Keep your elf occupied.Keep your mind off things that don't help you.Be Optimistic.\n",
            "perthinking is the biggest cause of our unhappiness.Keep your elf occupied.Keep your mind off things that don't help you.Be Optimistic.\n",
            "perthinking is the biggest cause of our unhappiness.Keep your elf occupied.Keep your mind off things that don't help you.Be Optimistic.\n",
            "perthinking is the biggest cause of our unhappiness.Keep your elf occupied.Keep your mind off things that don't help you.Be Optimistic.\n",
            "perthinking is the biggest cause of our unhappiness.Keep your elf occupied.Keep your mind off things that don't help you.Be Optimistic.\n",
            "perthinking is the biggest cause of our unhappiness.Keep your elf occupied.Keep your mind off things that don't help you.Be Optimistic.\n",
            "perthinking is the biggest cause of our unhappiness.Keep your elf occupied.Keep your mind off things that don't help you.Be Optimistic.\n",
            "perthinking is the biggest cause of our unhappiness.Keep your elf occupied.Keep your mind off things that don't help you.Be Optimistic.\n",
            "perthinking is the biggest cause of our unhappiness.Keep your elf occupied.Keep your mind off things that don't help you.Be Optimistic.\n",
            "perthinking is the biggest cause of our unhappiness.Keep your elf occupied.Keep your mind off things that don't help you.Be Optimistic.\n",
            "perthinking is the biggest cause of our unhappiness.Keep your elf occupied.Keep your mind off things that don't help you.Be Optimistic.\n",
            "perthinking is the biggest cause of our unhappiness.Keep your elf occupied.Keep your mind off things that don't help you.Be Optimistic.\n",
            "perthinking is the biggest cause of our unhappiness.Keep your elf occupied.Keep your mind off things that don't help you.Be Optimistic.\n",
            "perthinking is the biggest cause of our unhappiness.Keep your elf occupied.Keep your mind off things that don't help you.Be Optimistic.\n",
            "perthinking is the biggest cause of our unhappiness.Keep your elf occupied.Keep your mind off things that don't help you.Be Optimistic.\n",
            "perthinking is the biggest cause of our unhappiness.Keep your elf occupied.Keep your mind off things that don't help you.Be Optimistic.\n",
            "perthinking is the biggest cause of our unhappiness.Keep your elf occupied.Keep your mind off things that don't help you.Be Optimistic.\n",
            "perthinking is the biggest cause of our unhappiness.Keep your elf occupied.Keep your mind off things that don't help you.Be Optimistic.\n",
            "perthinking is the biggest cause of our unhappiness.Keep your elf occupied.Keep your mind off things that don't help you.Be Optimistic.\n",
            "perthinking is the biggest cause of our unhappiness.Keep your elf occupied.Keep your mind off things that don't help you.Be Optimistic.\n",
            "perthinking is the biggest cause of our unhappiness.Keep your elf occupied.Keep your mind off things that don't help you.Be Optimistic.\n",
            "perthinking is the biggest cause of our unhappiness.Keep your elf occupied.Keep your mind off things that don't help you.Be Optimistic.\n",
            "perthinking is the biggest cause of our unhappiness.Keep your elf occupied.Keep your mind off things that don't help you.Be Optimistic.\n",
            "perthinking is the biggest cause of our unhappiness.Keep your elf occupied.Keep your mind off things that don't help you.Be Optimistic.\n",
            "perthinking is the biggest cause of our unhappiness.Keep your elf occupied.Keep your mind off things that don't help you.Be Optimistic.\n",
            "perthinking is the biggest cause of our unhappiness.Keep your elf occupied.Keep your mind off things that don't help you.Be Optimistic.\n",
            "perthinking is the biggest cause of our unhappiness.Keep your elf occupied.Keep your mind off things that don't help you.Be Optimistic.\n",
            "perthinking is the biggest cause of our unhappiness.Keep your elf occupied.Keep your mind off things that don't help you.Be Optimistic.\n",
            "perthinking is the biggest cause of our unhappiness.Keep your elf occupied.Keep your mind off things that don't help you.Be Optimistic.\n",
            "perthinking is the biggest cause of our unhappiness.Keep your elf occupied.Keep your mind off things that don't help you.Be Optimistic.\n",
            "perthinking is the biggest cause of our unhappiness.Keep your elf occupied.Keep your mind off things that don't help you.Be Optimistic.\n",
            "perthinking is the biggest cause of our unhappiness.Keep your elf occupied.Keep your mind off things that don't help you.Be Optimistic.\n",
            "perthinking is the biggest cause of our unhappiness.Keep your elf occupied.Keep your mind off things that don't help you.Be Optimistic.\n",
            "perthinking is the biggest cause of our unhappiness.Keep your elf occupied.Keep your mind off things that don't help you.Be Optimistic.\n",
            "perthinking is the biggest cause of our unhappiness.Keep your elf occupied.Keep your mind off things that don't help you.Be Optimistic.\n",
            "perthinking is the biggest cause of our unhappiness.Keep your elf occupied.Keep your mind off things that don't help you.Be Optimistic.\n",
            "perthinking is the biggest cause of our unhappiness.Keep your elf occupied.Keep your mind off things that don't help you.Be Optimistic.\n",
            "perthinking is the biggest cause of our unhappiness.Keep your elf occupied.Keep your mind off things that don't help you.Be Optimistic.\n",
            "perthinking is the biggest cause of our unhappiness.Keep your elf occupied.Keep your mind off things that don't help you.Be Optimistic.\n",
            "perthinking is the biggest cause of our unhappiness.Keep your elf occupied.Keep your mind off things that don't help you.Be Optimistic.\n",
            "perthinking is the biggest cause of our unhappiness.Keep your elf occupied.Keep your mind off things that don't help you.Be Optimistic.\n",
            "perthinking is the biggest cause of our unhappiness.Keep your elf occupied.Keep your mind off things that don't help you.Be Optimistic.\n",
            "perthinking is the biggest cause of our unhappiness.Keep your elf occupied.Keep your mind off things that don't help you.Be Optimistic.\n",
            "perthinking is the biggest cause of our unhappiness.Keep your elf occupied.Keep your mind off things that don't help you.Be Optimistic.\n",
            "perthinking is the biggest cause of our unhappiness.Keep your elf occupied.Keep your mind off things that don't help you.Be Optimistic.\n",
            "perthinking is the biggest cause of our unhappiness.Keep your elf occupied.Keep your mind off things that don't help you.Be Optimistic.\n",
            "perthinking is the biggest cause of our unhappiness.Keep yourself occupied.Keep yoursmind off things that don't help you.Be Optimistic.\n",
            "perthinking is the biggest cause of our unhappiness.Keep your elf occupied.Keep your mind off things that don't help you.Be Optimistic.\n",
            "perthinking is the biggest cause of our unhappiness.Keep yourself occupied.Keep yoursmind off things that don't help you.Be Optimistic.\n",
            "perthinking is the biggest cause of our unhappiness.Keep your elf occupied.Keep your mind off things that don't help you.Be Optimistic.\n",
            "perthinking is the biggest cause of our unhappiness.Keep your elf occupied.Keep your mind off things that don't help you.Be Optimistic.\n",
            "perthinking is the biggest cause of our unhappiness.Keep your elf occupied.Keep your mind off things that don't help you.Be Optimistic.\n",
            "perthinking is the biggest cause of our unhappiness.Keep your elf occupied.Keep your mind off things that don't help you.Be Optimistic.\n",
            "perthinking is the biggest cause of our unhappiness.Keep your elf occupied.Keep your mind off things that don't help you.Be Optimistic.\n",
            "perthinking is the biggest cause of our unhappiness.Keep your elf occupied.Keep your mind off things that don't help you.Be Optimistic.\n",
            "perthinking is the biggest cause of our unhappiness.Keep your elf occupied.Keep your mind off things that don't help you.Be Optimistic.\n",
            "perthinking is the biggest cause of our unhappiness.Keep your elf occupied.Keep your mind off things that don't help you.Be Optimistic.\n",
            "perthinking is the biggest cause of our unhappiness.Keep your elf occupied.Keep your mind off things that don't help you.Be Optimistic.\n",
            "perthinking is the biggest cause of our unhappiness.Keep your elf occupied.Keep your mind off things that don't help you.Be Optimistic.\n",
            "perthinking is the biggest cause of our unhappiness.Keep your elf occupied.Keep your mind off things that don't help you.Be Optimistic.\n",
            "perthinking is the biggest cause of our unhappiness.Keep your elf occupied.Keep your mind off things that don't help you.Be Optimistic.\n",
            "perthinking is the biggest cause of our unhappiness.Keep your elf occupied.Keep your mind off things that don't help you.Be Optimistic.\n",
            "perthinking is the biggest cause of our unhappiness.Keep your elf occupied.Keep your mind off things that don't help you.Be Optimistic.\n",
            "perthinking is the biggest cause of our unhappiness.Keep your elf occupied.Keep your mind off things that don't help you.Be Optimistic.\n",
            "perthinking is the biggest cause of our unhappiness.Keep your elf occupied.Keep your mind off things that don't help you.Be Optimistic.\n",
            "perthinking is the biggest cause of our unhappiness.Keep your elf occupied.Keep your mind off things that don't help you.Be Optimistic.\n",
            "perthinking is the biggest cause of our unhappiness.Keep your elf occupied.Keep your mind off things that don't help you.Be Optimistic.\n",
            "perthinking is the biggest cause of our unhappiness.Keep your elf occupied.Keep your mind off things that don't help you.Be Optimistic.\n",
            "perthinking is the biggest cause of our unhappiness.Keep your elf occupied.Keep your mind off things that don't help you.Be Optimistic.\n",
            "perthinking is the biggest cause of our unhappiness.Keep your elf occupied.Keep your mind off things that don't help you.Be Optimistic.\n",
            "perthinking is the biggest cause of our unhappiness.Keep your elf occupied.Keep your mind off things that don't help you.Be Optimistic.\n",
            "perthinking is the biggest cause of our unhappiness.Keep your elf occupied.Keep your mind off things that don't help you.Be Optimistic.\n",
            "perthinking is the biggest cause of our unhappiness.Keep your elf occupied.Keep your mind off things that don't help you.Be Optimistic.\n",
            "perthinking is the biggest cause of our unhappiness.Keep your elf occupied.Keep your mind off things that don't help you.Be Optimistic.\n",
            "perthinking is the biggest cause of our unhappiness.Keep your elf occupied.Keep your mind off things that don't help you.Be Optimistic.\n",
            "perthinking is the biggest cause of our unhappiness.Keep your elf occupied.Keep your mind off things that don't help you.Be Optimistic.\n",
            "perthinking is the biggest cause of our unhappiness.Keep your elf occupied.Keep your mind off things that don't help you.Be Optimistic.\n",
            "perthinking is the biggest cause of our unhappiness.Keep your elf occupied.Keep your mind off things that don't help you.Be Optimistic.\n",
            "perthinking is the biggest cause of our unhappiness.Keep your elf occupied.Keep your mind off things that don't help you.Be Optimistic.\n",
            "perthinking is the biggest cause of our unhappiness.Keep your elf occupied.Keep your mind off things that don't help you.Be Optimistic.\n",
            "perthinking is the biggest cause of our unhappiness.Keep your elf occupied.Keep your mind off things that don't help you.Be Optimistic.\n",
            "perthinking is the biggest cause of our unhappiness.Keep your elf occupied.Keep your mind off things that don't help you.Be Optimistic.\n",
            "perthinking is the biggest cause of our unhappiness.Keep your elf occupied.Keep your mind off things that don't help you.Be Optimistic.\n",
            "perthinking is the biggest cause of our unhappiness.Keep your elf occupied.Keep your mind off things that don't help you.Be Optimistic.\n",
            "perthinking is the biggest cause of our unhappiness.Keep your elf occupied.Keep your mind off things that don't help you.Be Optimistic.\n",
            "perthinking is the biggest cause of our unhappiness.Keep your elf occupied.Keep your mind off things that don't help you.Be Optimistic.\n",
            "perthinking is the biggest cause of our unhappiness.Keep your elf occupied.Keep your mind off things that don't help you.Be Optimistic.\n",
            "perthinking is the biggest cause of our unhappiness.Keep your elf occupied.Keep your mind off things that don't help you.Be Optimistic.\n",
            "perthinking is the biggest cause of our unhappiness.Keep your elf occupied.Keep your mind off things that don't help you.Be Optimistic.\n",
            "perthinking is the biggest cause of our unhappiness.Keep your elf occupied.Keep your mind off things that don't help you.Be Optimistic.\n",
            "perthinking is the biggest cause of our unhappiness.Keep your elf occupied.Keep your mind off things that don't help you.Be Optimistic.\n",
            "perthinking is the biggest cause of our unhappiness.Keep your elf occupied.Keep your mind off things that don't help you.Be Optimistic.\n",
            "perthinking is the biggest cause of our unhappiness.Keep your elf occupied.Keep your mind off things that don't help you.Be Optimistic.\n",
            "perthinking is the biggest cause of our unhappiness.Keep your elf occupied.Keep your mind off things that don't help you.Be Optimistic.\n",
            "perthinking is the biggest cause of our unhappiness.Keep your elf occupied.Keep your mind off things that don't help you.Be Optimistic.\n",
            "perthinking is the biggest cause of our unhappiness.Keep your elf occupied.Keep your mind off things that don't help you.Be Optimistic.\n",
            "perthinking is the biggest cause of our unhappiness.Keep your elf occupied.Keep your mind off things that don't help you.Be Optimistic.\n",
            "perthinking is the biggest cause of our unhappiness.Keep yourself occupied.Keep yoursmind off things that don't help you.Be Optimistic.\n",
            "perthinking is the biggest cause of our unhappiness.Keep your elf occupied.Keep your mind off things that don't help you.Be Optimistic.\n",
            "perthinking is the biggest cause of our unhappiness.Keep yourself occupied.Keep yoursmind off things that don't help you.Be Optimistic.\n",
            "perthinking is the biggest cause of our unhappiness.Keep your elf occupied.Keep your mind off things that don't help you.Be Optimistic.\n",
            "perthinking is the biggest cause of our unhappiness.Keep yourself occupied.Keep yoursmind off things that don't help you.Be Optimistic.\n",
            "perthinking is the biggest cause of our unhappiness.Keep your elf occupied.Keep your mind off things that don't help you.Be Optimistic.\n",
            "perthinking is the biggest cause of our unhappiness.Keep yourself occupied.Keep yoursmind off things that don't help you.Be Optimistic.\n",
            "perthinking is the biggest cause of our unhappiness.Keep your elf occupied.Keep your mind off things that don't help you.Be Optimistic.\n",
            "perthinking is the biggest cause of our unhappiness.Keep your elf occupied.Keep your mind off things that don't help you.Be Optimistic.\n",
            "perthinking is the biggest cause of our unhappiness.Keep your elf occupied.Keep your mind off things that don't help you.Be Optimistic.\n",
            "perthinking is the biggest cause of our unhappiness.Keep your elf occupied.Keep your mind off things that don't help you.Be Optimistic.\n",
            "perthinking is the biggest cause of our unhappiness.Keep yourself occupied.Keep yoursmind off things that don't help you.Be Optimistic.\n",
            "perthinking is the biggest cause of our unhappiness.Keep your elf occupied.Keep your mind off things that don't help you.Be Optimistic.\n",
            "perthinking is the biggest cause of our unhappiness.Keep your elf occupied.Keep your mind off things that don't help you.Be Optimistic.\n",
            "perthinking is the biggest cause of our unhappiness.Keep your elf occupied.Keep your mind off things that don't help you.Be Optimistic.\n",
            "perthinking is the biggest cause of our unhappiness.Keep your elf occupied.Keep your mind off things that don't help you.Be Optimistic.\n",
            "perthinking is the biggest cause of our unhappiness.Keep yourself occupied.Keep yoursmind off things that don't help you.Be Optimistic.\n",
            "perthinking is the biggest cause of our unhappiness.Keep your elf occupied.Keep your mind off things that don't help you.Be Optimistic.\n",
            "perthinking is the biggest cause of our unhappiness.Keep your elf occupied.Keep your mind off things that don't help you.Be Optimistic.\n",
            "perthinking is the biggest cause of our unhappiness.Keep your elf occupied.Keep your mind off things that don't help you.Be Optimistic.\n",
            "perthinking is the biggest cause of our unhappiness.Keep your elf occupied.Keep your mind off things that don't help you.Be Optimistic.\n",
            "perthinking is the biggest cause of our unhappiness.Keep your elf occupied.Keep your mind off things that don't help you.Be Optimistic.\n",
            "perthinking is the biggest cause of our unhappiness.Keep your elf occupied.Keep your mind off things that don't help you.Be Optimistic.\n",
            "perthinking is the biggest cause of our unhappiness.Keep your elf occupied.Keep your mind off things that don't help you.Be Optimistic.\n",
            "perthinking is the biggest cause of our unhappiness.Keep your elf occupied.Keep your mind off things that don't help you.Be Optimistic.\n",
            "perthinking is the biggest cause of our unhappiness.Keep your elf occupied.Keep your mind off things that don't help you.Be Optimistic.\n",
            "perthinking is the biggest cause of our unhappiness.Keep your elf occupied.Keep your mind off things that don't help you.Be Optimistic.\n",
            "perthinking is the biggest cause of our unhappiness.Keep your elf occupied.Keep your mind off things that don't help you.Be Optimistic.\n"
          ]
        }
      ]
    },
    {
      "cell_type": "code",
      "source": [
        "predict_str"
      ],
      "metadata": {
        "colab": {
          "base_uri": "https://localhost:8080/",
          "height": 35
        },
        "id": "sll7s5s3MGLr",
        "outputId": "6ced262b-c359-4657-82f4-a25711bc60d0"
      },
      "execution_count": 72,
      "outputs": [
        {
          "output_type": "execute_result",
          "data": {
            "text/plain": [
              "\"perthinking is the biggest cause of our unhappiness.Keep your elf occupied.Keep your mind off things that don't help you.Be Optimistic.\""
            ],
            "application/vnd.google.colaboratory.intrinsic+json": {
              "type": "string"
            }
          },
          "metadata": {},
          "execution_count": 72
        }
      ]
    },
    {
      "cell_type": "markdown",
      "source": [
        "rnn1, rnn2: kerthinking is the biggest cause of our unhappiness.Keep yourself occupied.Keep your mind off things that don't help you.Be Optimistic\n",
        "\n",
        "rnn layer 하나만:\n",
        "(1) optimizer: adam - perthinking is the biggest cause of our unhappiness.Keep yourself occupied.Keep your mind off things that don't help you.Be Optimistic.\n",
        "\n",
        "(1-2) lr: 0.001 - verthinking is the biggest cause of our unhappiness.Keep yourself occupied.Keep your mind off things that don't help you.Be Optimistic.\n",
        "\n",
        "(1-3) sq length: 10 & lr: 0.001 -     eeng  e  ee hu  hng    hou    h our e hu   ne    ee  oour e   oha   ee  ee  oour eing  h  ehung   hu  eiug  hin  oour e    hei   ee\n",
        "\n",
        "(1-4) sq length: 10 & lr: 0.001 - perthinking is the biggest cause of our unhappiness.Keep your elf occupied.Keep your mind off things that don't help you.Be Optimistic.\n",
        "\n",
        "(1-5) sq length: 10 & lr: 0.001 & epoch 500 - perthinking is the biggest cause of our unhappiness.Keep your elf occupied.Keep your mind off things that don't help you.Be Optimistic.\n",
        "\n",
        "(2) optimizer: SGD - perthinking is the biggest cause of our unhappiness.Keep yourself occupied.Keep your mind off things that don't help you.Be Optimistic.\n"
      ],
      "metadata": {
        "id": "s65zg80QhBmA"
      }
    },
    {
      "cell_type": "code",
      "source": [],
      "metadata": {
        "id": "0kQlyfyQMGIx"
      },
      "execution_count": null,
      "outputs": []
    },
    {
      "cell_type": "code",
      "source": [
        "#1. 생성할 문장 데이터\n",
        "\n",
        "text = (\"네 믿음은 네 생각이 된다,\" \"네 생각은 네 말이 된다,\" \"네 말은 네 행동이 된다,\" \"네 행동은 네 습관이 된다,\" \"네 습관은 네 가치가 된다,\" \"네 가치는 네 운명이 된다.\")"
      ],
      "metadata": {
        "id": "IKp-lKrjvXR9"
      },
      "execution_count": 73,
      "outputs": []
    },
    {
      "cell_type": "code",
      "source": [
        "#2. 문자 집합 만들기\n",
        "world_set = list(set(text))\n",
        "\n",
        "vocab = {char: idx for idx, char in enumerate(world_set)}\n",
        "\n",
        "vocab_size = len(vocab)\n",
        "\n",
        "print(vocab)\n",
        "print('문자 집합 크기 : {}'.format(vocab_size))"
      ],
      "metadata": {
        "colab": {
          "base_uri": "https://localhost:8080/"
        },
        "id": "FwN2VN1z-Lqt",
        "outputId": "e78c45d2-8cd0-4de7-eae2-4b22a42d0dca"
      },
      "execution_count": 74,
      "outputs": [
        {
          "output_type": "stream",
          "name": "stdout",
          "text": [
            "{'은': 0, '다': 1, '.': 2, '는': 3, '명': 4, ' ': 5, '된': 6, '각': 7, ',': 8, '네': 9, '치': 10, '습': 11, '가': 12, '음': 13, '생': 14, '행': 15, '관': 16, '말': 17, '동': 18, '믿': 19, '이': 20, '운': 21}\n",
            "문자 집합 크기 : 22\n"
          ]
        }
      ]
    },
    {
      "cell_type": "code",
      "source": [
        "#4. 하이퍼 파라미터 설정\n",
        "\n",
        "hidden_size = vocab_size # 같아야 하는 것 확인!\n",
        "sequence_length = 5\n",
        "learning_rate = 0.01\n",
        "\n",
        "#5. seqence 길이 단위 자르기\n",
        "\n",
        "# 데이터 구성을 위한 리스트\n",
        "x_data = []\n",
        "y_data = []\n",
        "\n",
        "## 문제(2): 반복문 내에서의 인덱싱을 사용하여 sequence_length 값 단위로 샘플을 잘라 데이터 만들기, y_str은 x_str은 한 칸씩 쉬프트된 sequnce\n",
        "\n",
        "for i in range(0, len(text) - sequence_length):\n",
        "  x_str = text[i: i + sequence_length]\n",
        "  y_str = text[i+1: i + sequence_length + 1]\n",
        "  print(i, x_str, \"->\", y_str)\n",
        "\n",
        "  # x_str과 y_str이 문자집합에 해당하는 인덱스를 각각 x_data, y_data에 append\n",
        "  x_data.append([vocab[c] for c in x_str])\n",
        "  y_data.append([vocab[d] for d in y_str])"
      ],
      "metadata": {
        "colab": {
          "base_uri": "https://localhost:8080/"
        },
        "id": "xevU64Dx-L-h",
        "outputId": "cc2456b8-3f5f-41ca-be4f-8ad5d0ef7cb3"
      },
      "execution_count": 109,
      "outputs": [
        {
          "output_type": "stream",
          "name": "stdout",
          "text": [
            "0 네 믿음은 ->  믿음은 \n",
            "1  믿음은  -> 믿음은 네\n",
            "2 믿음은 네 -> 음은 네 \n",
            "3 음은 네  -> 은 네 생\n",
            "4 은 네 생 ->  네 생각\n",
            "5  네 생각 -> 네 생각이\n",
            "6 네 생각이 ->  생각이 \n",
            "7  생각이  -> 생각이 된\n",
            "8 생각이 된 -> 각이 된다\n",
            "9 각이 된다 -> 이 된다,\n",
            "10 이 된다, ->  된다,네\n",
            "11  된다,네 -> 된다,네 \n",
            "12 된다,네  -> 다,네 생\n",
            "13 다,네 생 -> ,네 생각\n",
            "14 ,네 생각 -> 네 생각은\n",
            "15 네 생각은 ->  생각은 \n",
            "16  생각은  -> 생각은 네\n",
            "17 생각은 네 -> 각은 네 \n",
            "18 각은 네  -> 은 네 말\n",
            "19 은 네 말 ->  네 말이\n",
            "20  네 말이 -> 네 말이 \n",
            "21 네 말이  ->  말이 된\n",
            "22  말이 된 -> 말이 된다\n",
            "23 말이 된다 -> 이 된다,\n",
            "24 이 된다, ->  된다,네\n",
            "25  된다,네 -> 된다,네 \n",
            "26 된다,네  -> 다,네 말\n",
            "27 다,네 말 -> ,네 말은\n",
            "28 ,네 말은 -> 네 말은 \n",
            "29 네 말은  ->  말은 네\n",
            "30  말은 네 -> 말은 네 \n",
            "31 말은 네  -> 은 네 행\n",
            "32 은 네 행 ->  네 행동\n",
            "33  네 행동 -> 네 행동이\n",
            "34 네 행동이 ->  행동이 \n",
            "35  행동이  -> 행동이 된\n",
            "36 행동이 된 -> 동이 된다\n",
            "37 동이 된다 -> 이 된다,\n",
            "38 이 된다, ->  된다,네\n",
            "39  된다,네 -> 된다,네 \n",
            "40 된다,네  -> 다,네 행\n",
            "41 다,네 행 -> ,네 행동\n",
            "42 ,네 행동 -> 네 행동은\n",
            "43 네 행동은 ->  행동은 \n",
            "44  행동은  -> 행동은 네\n",
            "45 행동은 네 -> 동은 네 \n",
            "46 동은 네  -> 은 네 습\n",
            "47 은 네 습 ->  네 습관\n",
            "48  네 습관 -> 네 습관이\n",
            "49 네 습관이 ->  습관이 \n",
            "50  습관이  -> 습관이 된\n",
            "51 습관이 된 -> 관이 된다\n",
            "52 관이 된다 -> 이 된다,\n",
            "53 이 된다, ->  된다,네\n",
            "54  된다,네 -> 된다,네 \n",
            "55 된다,네  -> 다,네 습\n",
            "56 다,네 습 -> ,네 습관\n",
            "57 ,네 습관 -> 네 습관은\n",
            "58 네 습관은 ->  습관은 \n",
            "59  습관은  -> 습관은 네\n",
            "60 습관은 네 -> 관은 네 \n",
            "61 관은 네  -> 은 네 가\n",
            "62 은 네 가 ->  네 가치\n",
            "63  네 가치 -> 네 가치가\n",
            "64 네 가치가 ->  가치가 \n",
            "65  가치가  -> 가치가 된\n",
            "66 가치가 된 -> 치가 된다\n",
            "67 치가 된다 -> 가 된다,\n",
            "68 가 된다, ->  된다,네\n",
            "69  된다,네 -> 된다,네 \n",
            "70 된다,네  -> 다,네 가\n",
            "71 다,네 가 -> ,네 가치\n",
            "72 ,네 가치 -> 네 가치는\n",
            "73 네 가치는 ->  가치는 \n",
            "74  가치는  -> 가치는 네\n",
            "75 가치는 네 -> 치는 네 \n",
            "76 치는 네  -> 는 네 운\n",
            "77 는 네 운 ->  네 운명\n",
            "78  네 운명 -> 네 운명이\n",
            "79 네 운명이 ->  운명이 \n",
            "80  운명이  -> 운명이 된\n",
            "81 운명이 된 -> 명이 된다\n",
            "82 명이 된다 -> 이 된다.\n"
          ]
        }
      ]
    },
    {
      "cell_type": "code",
      "source": [
        "##6. 입력 시퀀스에 대해 원핫인코딩 수행\n",
        "\n",
        "x_one_hot = [np.eye(len(vocab))[c] for c in x_data]\n",
        "\n",
        "##7. 입력 데이터, 레이블데이터 텐서로 변환\n",
        "\n",
        "X = torch.FloatTensor(x_one_hot)\n",
        "Y = torch.LongTensor(y_data)\n",
        "\n",
        "print('훈련 데이터의 크기 : {}'.format(X.shape))\n",
        "print('레이블의 크기 : {}'.format(Y.shape))"
      ],
      "metadata": {
        "id": "FM_6DN9dBfBo",
        "colab": {
          "base_uri": "https://localhost:8080/"
        },
        "outputId": "a2f35646-414b-4c4d-d180-a397182d815f"
      },
      "execution_count": 110,
      "outputs": [
        {
          "output_type": "stream",
          "name": "stdout",
          "text": [
            "훈련 데이터의 크기 : torch.Size([83, 5, 22])\n",
            "레이블의 크기 : torch.Size([83, 5])\n"
          ]
        }
      ]
    },
    {
      "cell_type": "code",
      "source": [
        "##11. RNN 모델 구현\n",
        "\n",
        "class Net(torch.nn.Module):\n",
        "  def __init__(self, input_dim, hidden_dim, layers):\n",
        "    super(Net, self).__init__()\n",
        "    self.hidden_dim = hidden_dim\n",
        "    self.layers = layers\n",
        "\n",
        "    self.rnn = torch.nn.RNN(input_dim, hidden_dim, num_layers = layers, batch_first=True) #  If True, then the input and output tensors are provided as (batch, seq, feature) instead of (seq, batch, feature)\n",
        "    self.fc = torch.nn.Linear(hidden_dim, vocab_size) #output_dim = 27\n",
        "\n",
        "  def forward(self, x):\n",
        "    h0 = torch.zeros(self.layers, x.size(0), self.hidden_dim).to(x.device)\n",
        "\n",
        "    out, _ = self.rnn(x, h0) # RNN의 마지막 레이어로부터 나온 output feature를 반환\n",
        "\n",
        "    out = self.fc(out)\n",
        "    return out"
      ],
      "metadata": {
        "id": "zqUl4UqhBSIY"
      },
      "execution_count": 111,
      "outputs": []
    },
    {
      "cell_type": "code",
      "source": [
        "net = Net(vocab_size, hidden_size, 2)"
      ],
      "metadata": {
        "id": "wGLEgInuA00U"
      },
      "execution_count": 112,
      "outputs": []
    },
    {
      "cell_type": "code",
      "source": [
        "##12. loss function\n",
        "criterion = torch.nn.CrossEntropyLoss()\n",
        "\n",
        "##13. optimizer\n",
        "optimizer = optim.Adam(net.parameters(), learning_rate)"
      ],
      "metadata": {
        "id": "o6N__wD6-MDL"
      },
      "execution_count": 113,
      "outputs": []
    },
    {
      "cell_type": "code",
      "source": [
        "##14. 출력 크기 점검\n",
        "outputs = net(X)\n",
        "print(outputs.shape)"
      ],
      "metadata": {
        "id": "ZXlmLIbF-MGB",
        "colab": {
          "base_uri": "https://localhost:8080/"
        },
        "outputId": "cace5b93-2026-411c-ded6-657ffdcade0d"
      },
      "execution_count": 114,
      "outputs": [
        {
          "output_type": "stream",
          "name": "stdout",
          "text": [
            "torch.Size([83, 5, 22])\n"
          ]
        }
      ]
    },
    {
      "cell_type": "code",
      "source": [
        "##15. Training 시작\n",
        "\n",
        "for i in range(500):\n",
        "    optimizer.zero_grad()\n",
        "    outputs = net(X)\n",
        "    loss = criterion(outputs.view(-1, vocab_size), Y.view(-1))\n",
        "    loss.backward()\n",
        "    optimizer.step()\n",
        "\n",
        "    #16. 예측결과 확인\n",
        "    results = outputs.argmax(dim=2)\n",
        "    predict_str = \"\"\n",
        "    for j, result in enumerate(results):\n",
        "        if j == 0: # 처음에는 예측 결과를 전부 가져오기\n",
        "            predict_str += ''.join([world_set[t] for t in result])\n",
        "        else: # 그 다음에는 마지막 글자만 반복 추가\n",
        "            predict_str += world_set[result[-1]]\n",
        "\n",
        "    print(predict_str)"
      ],
      "metadata": {
        "id": "YSOaIbqF-MNV",
        "colab": {
          "base_uri": "https://localhost:8080/"
        },
        "outputId": "4ee8ddc5-0f0a-487a-eddc-564f44a3a2a6"
      },
      "execution_count": 115,
      "outputs": [
        {
          "output_type": "stream",
          "name": "stdout",
          "text": [
            "운운운운운운운운운운운운운운운운운운운운운운운운운운운운운운운운운운운운운운운운운운운운운운운운운운운운운운운운운운운운운운운운운운운운운운운운운운운운운운운운운운운운운운운\n",
            "운이네네네네네이네네네이네네네네이네네네은네이네네네운네네네이네은네네이네은네네운네네네이네네네네네이네이네이다네네네이네이다네네이네네네네이네네네이네네네네네이네이네이네네\n",
            "네네네네네네네네네네네네네네네네네네네네네네네네네네네네네네네네네네네네네네네네네네네네네네네네네네네네네네네네네네네네네네네네네네네네네네네네네네네네네네네네네네네네네네네\n",
            "네네네네네네네네네네네네네네네네네네네네네네네네네네네네네네네네네네네네네네네네네네네네네네네네네네네네네네네네네네네네네네네네네네네네네네네네네네네네네네네네네네네네네네네\n",
            "네네네네네네네네네네네네네네네네네네네네네네네네네네네네네네네네네네네네네네네네네네네네네네네네네네네네네네네네네네네네네네네네네네네네네네네네네네네네네네네네네네네네네네네\n",
            "네네네네네네 네네네네네네네네네네네네네네 네네네네네네네네네네네네 네네네네네네네네네네네네네네 네네네네네네네네네네 네네네 네네네네네네네네네네네네네네 네네네네네네네\n",
            "네네                                                                                     \n",
            "                                                                                       \n",
            "                                                                                       \n",
            "                                                                                       \n",
            "                                                                                       \n",
            "            다,   다        다,   다    다   다,   다         다,   다         다,   다         다,\n",
            "  다    습다   다,  습다    된다  다,  습다   된다   다,  습다,   습다   다,  습다    된다   다,  습다은   된다   다,\n",
            "  다,   습다   다,  습다은   습다  다,  습다,  습다,  다,  습다,   습다  된다,  습다은   습다이  다,  습다은   습다  된다,\n",
            "  다,   습다   다,  습다은   습다  다,  습다,  습다,  다,  습다은   습다   다,  습다은   습다이  다,  습다은   습다  된다,\n",
            "  다,   습다,  다,네 습다은   습다  다,네 습다,  습다,  다,네 습다은   습다   다,네 습다은   습다이  다,네 습다은   습다이 된다,\n",
            " 된다,   습다은  다,네 습다은   습다  다,네 습다,  습다이  다,네 습다은   습다   다,네 습다은   습다이  다,네 습다은   습다이 된다,\n",
            " 된다은   습다은 네다,네 습다은   습다 네다,네 습다,  습다이  다,네 습다은   습다이 네다,네 습다은   습다이  다,네 습다은   습다이 네다,\n",
            " 된다은   습다이 네다,네 된다은 네 된다 네다,네 된다,네 습다이 네다,네 된다이   습다이 네다,네 된다이 네 된다이  다,네 된다이   습다이 네다,\n",
            " 된다은 네 습다이 네다,네 된다은 네 습다 네다,네 된다,네 습다이 네다,네 된다이 네 습다이 네다,네 된다이 네 습다이 네다,네 된다이 네 습다이 네다,\n",
            " 된다은 네 습다이 네다,네 습다이 네 습다 네다,네 습다,네 습다이 네다,네 습다이 네 습다이 네다,네 습다이 네 습다이 네다,네 습다이 네 습다이 네다,\n",
            " 된다은 네 습다이 네다,네 습다이 네 습다 네다,네 습다,네 습다이 네다,네 습다이 네 습다이 네다,네 습각이 네 습다이 네다,네 습다은 네 습다이 된다,\n",
            " 습다은 네 습각이 네다,네 습각이 네 습다 네다,네 습다,네 습다이 네다,네 습다이 네 습각이 된다,네 습각이 네 습다이 된다,네 습다은 네 습다이 된다,\n",
            " 습다은 네 습각이 된다,네 습각이 네 습각 네다,네 습각 네 습다이 네다,네 습각이 네 습각이 된다,네 습각이 네 습다이 된다,네 습각은 네 습각이 된다,\n",
            " 생다은 네 습각이 된다,네 습각이 네 습각 네다,네 습각 네 습각이 된다,네 습각이 네 습각이 된다,네 습각이 네 습각이 된다,네 습각은 네 습각이 된다,\n",
            " 생각은 네 습각이 된다,네 생각이 네 습각 네다,네 생각 네 습각이 된다,네 생각이 네 습각이 된다,네 생각이 네 습각이 된다,네 생각은 네 생각이 된다,\n",
            " 생각은 네 생각이 된다,네 생각이 네 생각 된다,네 생각 네 생각이 된다,네 생각이 네 생각이 된다,네 생각이 네 생각이 된다,네 생각은 네 생각이 된다,\n",
            " 생각은 네 생각이 된다,네 생각은 네 생관 된다,네 생각 네 생각이 된다,네 생각이 네 생각이 된다,네 생각이 네 생관이 된다,네 생각은 네 생각이 된다,\n",
            " 생각은 네 생각이 된다,네 생각은 네 생관 된다,네 생각 네 생관이 된다,네 생각이 네 생관이 된다,네 생각이 네 생관은 된다,네 생관은 네 생각이 된다,\n",
            " 된각은 네 생각이 된다,네 생각은 네 생관 된다,네 생관 네 생관이 된다,네 생관이 네 생관이 된다,네 생관은 네 생관은 된다,네 생관은 네 생각이 된다,\n",
            " 된각은 네 생각이 된다,네 생각은 네 생은 된다,네 생은 네 생관이 된다,네 생관은 네 생관이 된다,네 생관은 네 생관은 된다,네 생관은 네 생관이 된다,\n",
            " 된각은 네 생각은 된다,네 생각은 네 생은 된다,네 생은 네 생관이 된다,네 생관은 네 생관이 된다,네 생관은 네 생치은 된다,네 생치은 네 생관이 된다,\n",
            " 된각은 네 생각은 된다,네 생각은 네 생은 된다,네 생은 네 행관이 된다,네 생관은 네 생관이 된다,네 생관은 네 생치은 된다,네 생치은 네 생관이 된다,\n",
            " 된각은 네 행각은 된다,네 생각은 네 행은 된다,네 생은 네 행관이 된다,네 생관은 네 행관은 된다,네 생관은 네 행치가 된다,네 생치은 네 생관이 된다,\n",
            " 행각은 네 행관은 된다,네 행관은 네 행은 된다,네 행은 네 행관이 된다,네 행관은 네 행관이 된다,네 행관은 네 행치가 된다,네 행치은 네 가관이 된다,\n",
            " 행각은 네 행관은 된다,네 가관은 네 행은 된다,네 가은 네 행관이 된다,네 가관은 네 행관이 된다,네 가관은 네 행치가 된다,네 가치가 네 가관이 된다,\n",
            " 가관은 네 행관이 된다,네 가관은 네 행은 된다,네 가은 네 행동이 된다,네 가관은 네 행관이 된다,네 가관은 네 가치가 된다,네 가치가 네 가관이 된다,\n",
            " 가각은 네 행관이 된다,네 가관은 네 가은 된다,네 가은 네 행동이 된다,네 가동은 네 행관이 된다,네 가관은 네 가치가 된다,네 가치가 네 가관이 된다,\n",
            " 가각은 네 행관이 된다,네 가관은 네 가은 된다,네 가은 네 행동이 된다,네 가동은 네 행관이 된다,네 가관은 네 가치가 된다,네 가치가 네 가관이 된다,\n",
            " 가각은 네 행각이 된다,네 행관은 네 행은 된다,네 행은 네 행동이 된다,네 행동은 네 행관이 된다,네 행관은 네 가치가 된다,네 행치가 네 가관이 된다,\n",
            " 가각은 네 행각이 된다,네 행각은 네 행은 된다,네 행은 네 행동이 된다,네 행동은 네 행관이 된다,네 행관은 네 가치가 된다,네 행치가 네 가관이 된다,\n",
            " 행각은 네 행각이 된다,네 행각은 네 행은 된다,네 행은 네 행동이 된다,네 행동은 네 행관이 된다,네 행관은 네 행치가 된다,네 행치가 네 가관이 된다,\n",
            " 행각은 네 습각은 된다,네 행각은 네 습은 된다,네 행은 네 습동이 된다,네 행동은 네 습관이 된다,네 행관은 네 습치가 된다,네 행치가 네 가각이 된다,\n",
            " 습각은 네 습각은 된다,네 행각은 네 습은 된다,네 행은 네 습동이 된다,네 행동은 네 습관이 된다,네 행관은 네 습치가 된다,네 행치가 네 습각이 된다,\n",
            " 습각은 네 습각은 된다,네 습각은 네 습은 된다,네 습은 네 습동이 된다,네 습동은 네 습관이 된다,네 습관은 네 습치가 된다,네 습치가 네 습각이 된다,\n",
            " 습각은 네 습각이 된다,네 습각은 네 습은 된다,네 습은 네 습동이 된다,네 습동은 네 습관이 된다,네 습관은 네 습치가 된다,네 습치가 네 습각이 된다,\n",
            " 습각은 네 습각이 된다,네 습각은 네 습은 된다,네 습은 네 습동이 된다,네 습동은 네 습관이 된다,네 습관은 네 습치가 된다,네 습치가 네 습각이 된다,\n",
            " 습각은 네 습각이 된다,네 습각은 네 습은 된다,네 습은 네 습동이 된다,네 습동은 네 습관이 된다,네 습관은 네 습치가 된다,네 습치가 네 습각이 된다,\n",
            " 습각은 네 습각이 된다,네 습각은 네 습은 된다,네 습은 네 습동이 된다,네 습동은 네 습관이 된다,네 습관은 네 습치가 된다,네 습치가 네 가각이 된다,\n",
            " 생각은 네 습각이 된다,네 생각은 네 습은 된다,네 생은 네 습동이 된다,네 생동은 네 습관이 된다,네 생관은 네 습치가 된다,네 생치가 네 가명이 된다,\n",
            " 생각은 네 생각이 된다,네 생각은 네 생은 된다,네 생은 네 습동이 된다,네 생동은 네 습관이 된다,네 생관은 네 생치가 된다,네 생치가 네 가명이 된다,\n",
            " 생각은 네 생각은 된다,네 생각은 네 생은 된다,네 생은 네 생동이 된다,네 생동은 네 생관이 된다,네 생관은 네 생치가 된다,네 생치는 네 가명이 된다,\n",
            " 생각은 네 생각은 된다,네 생각은 네 생은 된다,네 생은 네 생동이 된다,네 생동은 네 생관이 된다,네 생관은 네 생치가 된다,네 생치는 네 가명이 된다,\n",
            " 생각은 네 생각이 된다,네 생각은 네 생은 된다,네 생은 네 생동이 된다,네 생동은 네 생관이 된다,네 생관은 네 생치가 된다,네 생치는 네 가명이 된다,\n",
            " 생각은 네 생각이 된다,네 생각은 네 생은 된다,네 생은 네 생동이 된다,네 생동은 네 생관이 된다,네 생관은 네 가치가 된다,네 생치는 네 가명이 된다,\n",
            " 생각은 네 생각이 된다,네 생각은 네 생은 된다,네 생은 네 생동이 된다,네 생동은 네 생관이 된다,네 생관은 네 가치가 된다,네 생치는 네 가명이 된다,\n",
            " 생각은 네 생각이 된다,네 행각은 네 가은 된다,네 행은 네 가동이 된다,네 행동은 네 말관이 된다,네 행관은 네 가치가 된다,네 행치는 네 가명이 된다,\n",
            " 가명은 네 가각이 된다,네 행각은 네 가은 된다,네 행이 네 가동이 된다,네 행동은 네 가관이 된다,네 행관은 네 가치가 된다,네 행치는 네 가명이 된다,\n",
            " 가명은 네 가각이 된다,네 행각은 네 가은 된다,네 행은 네 가동이 된다,네 행동은 네 가관이 된다,네 행관은 네 가치가 된다,네 행치는 네 가명이 된다,\n",
            " 가명은 네 가각이 된다,네 행각은 네 가은 된다,네 행은 네 가동이 된다,네 행동은 네 가관이 된다,네 행관은 네 가치가 된다,네 행치는 네 가명이 된다,\n",
            " 행명은 네 말각이 된다,네 행각은 네 말은 된다,네 행은 네 가동이 된다,네 행동은 네 말관이 된다,네 행관은 네 가치가 된다,네 행치는 네 가명이 된다,\n",
            " 행명은 네 말각이 된다,네 행각은 네 말은 된다,네 행은 네 말동이 된다,네 행동은 네 말관이 된다,네 행관은 네 가치가 된다,네 행치는 네 가명이 된다,\n",
            " 행명은 네 말각이 된다,네 행각은 네 말은 된다,네 행은 네 말동이 된다,네 행동은 네 말관이 된다,네 행관은 네 가치가 된다,네 행치는 네 가명이 된다,\n",
            " 행명은 네 말각이 된다,네 말각은 네 말은 된다,네 말은 네 말동이 된다,네 말동은 네 말관이 된다,네 말관은 네 말치가 된다,네 말치는 네 가명이 된다,\n",
            " 행명은 네 습각이 된다,네 습각은 네 말은 된다,네 습은 네 말동이 된다,네 습동은 네 습관이 된다,네 습관은 네 말치가 된다,네 습치는 네 운명이 된다,\n",
            " 행명은 네 습각이 된다,네 습각은 네 습은 된다,네 습은 네 습동이 된다,네 습동은 네 습관이 된다,네 습관은 네 말치가 된다,네 습치는 네 운명이 된다,\n",
            " 습명은 네 습각이 된다,네 습각은 네 습은 된다,네 습은 네 습동이 된다,네 습동은 네 습관이 된다,네 습관은 네 습치가 된다,네 습치는 네 운명이 된다,\n",
            " 습명은 네 습각이 된다,네 습각은 네 습은 된다,네 습은 네 습동이 된다,네 습동은 네 습관이 된다,네 습관은 네 습치가 된다,네 습치는 네 운명이 된다,\n",
            " 습명은 네 습각이 된다,네 생각은 네 습은 된다,네 생은 네 습동이 된다,네 생동은 네 습관이 된다,네 생관은 네 습치가 된다,네 생치는 네 운명이 된다,\n",
            " 생명은 네 생각이 된다,네 생각은 네 생은 된다,네 생은 네 생동이 된다,네 생동은 네 생관이 된다,네 생관은 네 가치가 된다,네 생치는 네 운명이 된다,\n",
            " 생명은 네 생각이 된다,네 생각은 네 생은 된다,네 생은 네 생동이 된다,네 생동은 네 생관이 된다,네 생관은 네 가치가 된다,네 생치는 네 운명이 된다,\n",
            " 생명은 네 생각이 된다,네 생각은 네 생은 된다,네 생은 네 생동이 된다,네 생동은 네 생관이 된다,네 생관은 네 가치가 된다,네 생치는 네 운명이 된다,\n",
            " 생명은 네 생각이 된다,네 생각은 네 생은 된다,네 생은 네 생동이 된다,네 생동은 네 생관이 된다,네 생관은 네 가치가 된다,네 생치는 네 운명이 된다,\n",
            " 생명은 네 생각이 된다,네 생각은 네 생은 된다,네 생은 네 생동이 된다,네 생동은 네 생관이 된다,네 생관은 네 가치가 된다,네 생치는 네 운명이 된다,\n",
            " 행음은 네 생각이 된다,네 생각은 네 생은 된다,네 생은 네 생동이 된다,네 생동은 네 생관이 된다,네 생관은 네 가치가 된다,네 생치는 네 운명이 된다,\n",
            " 행음은 네 생각이 된다,네 생각은 네 생은 된다,네 생은 네 생동이 된다,네 생동은 네 생관이 된다,네 생관은 네 가치가 된다,네 생치는 네 운명이 된다,\n",
            " 가음은 네 가각이 된다,네 생각은 네 생은 된다,네 생은 네 생동이 된다,네 생동은 네 생관이 된다,네 생관은 네 가치가 된다,네 생치는 네 운명이 된다,\n",
            " 가음은 네 가각이 된다,네 생각은 네 생은 된다,네 생은 네 생동이 된다,네 생동은 네 가관이 된다,네 생관은 네 가치가 된다,네 생치는 네 운명이 된다,\n",
            " 가음은 네 가각이 된다,네 생각은 네 가은 된다,네 생은 네 행동이 된다,네 생동은 네 가관이 된다,네 생관은 네 가치가 된다,네 생치는 네 운명이 된다,\n",
            " 가음은 네 가각이 된다,네 생각은 네 가은 된다,네 생은 네 행동이 된다,네 생동은 네 가관이 된다,네 생관은 네 가치가 된다,네 생치는 네 운명이 된다,\n",
            " 가음은 네 가각이 된다,네 생각은 네 가이 된다,네 생은 네 행동이 된다,네 생동은 네 가관이 된다,네 생관은 네 가치가 된다,네 생치는 네 운명이 된다,\n",
            " 가음은 네 가각이 된다,네 생각은 네 가이 된다,네 생은 네 행동이 된다,네 생동은 네 가관이 된다,네 생관은 네 가치가 된다,네 생치는 네 운명이 된다,\n",
            " 가음은 네 가각이 된다,네 생각은 네 가이 된다,네 생은 네 행동이 된다,네 생동은 네 가관이 된다,네 생관은 네 가치가 된다,네 생치는 네 운명이 된다,\n",
            " 가음은 네 가각이 된다,네 생각은 네 가이 된다,네 생은 네 생동이 된다,네 생동은 네 가관이 된다,네 생관은 네 가치가 된다,네 생치는 네 운명이 된다,\n",
            " 가음은 네 가각이 된다,네 생각은 네 가이 된다,네 생은 네 생동이 된다,네 생동은 네 가관이 된다,네 생관은 네 가치가 된다,네 생치는 네 운명이 된다,\n",
            " 가음은 네 가각이 된다,네 생각은 네 가이 된다,네 생은 네 생동이 된다,네 생동은 네 가관이 된다,네 생관은 네 가치가 된다,네 생치는 네 운명이 된다,\n",
            " 가음은 네 가각이 된다,네 생각은 네 가이 된다,네 생은 네 생동이 된다,네 생동은 네 가관이 된다,네 생관은 네 가치가 된다,네 생치는 네 운명이 된다,\n",
            " 가음은 네 가각이 된다,네 생각은 네 가이 된다,네 생은 네 가동이 된다,네 생동은 네 가관이 된다,네 생관은 네 가치가 된다,네 생치는 네 운명이 된다,\n",
            " 가음은 네 가각이 된다,네 생각은 네 가이 된다,네 생은 네 가동이 된다,네 생동은 네 가관이 된다,네 생관은 네 가치가 된다,네 생치는 네 운명이 된다,\n",
            " 가음은 네 가각이 된다,네 생각은 네 가이 된다,네 생은 네 가동이 된다,네 생동은 네 가관이 된다,네 생관은 네 가치가 된다,네 생치는 네 운명이 된다,\n",
            " 가음은 네 가각이 된다,네 생각은 네 가이 된다,네 생은 네 가동이 된다,네 생동은 네 가관이 된다,네 생관은 네 가치가 된다,네 생치는 네 운명이 된다,\n",
            " 가음은 네 가각이 된다,네 생각은 네 가이 된다,네 생은 네 가동이 된다,네 생동은 네 가관이 된다,네 생관은 네 가치가 된다,네 생치는 네 운명이 된다,\n",
            " 가음은 네 가각이 된다,네 생각은 네 가이 된다,네 생은 네 가동이 된다,네 생동은 네 가관이 된다,네 생관은 네 가치가 된다,네 생치는 네 운명이 된다,\n",
            " 가음은 네 가각이 된다,네 생각은 네 가이 된다,네 생은 네 가동이 된다,네 생동은 네 가관이 된다,네 생관은 네 가치가 된다,네 생치는 네 운명이 된다,\n",
            " 가음은 네 가각이 된다,네 생각은 네 가이 된다,네 생은 네 가동이 된다,네 생동은 네 가관이 된다,네 생관은 네 가치가 된다,네 생치는 네 운명이 된다,\n",
            " 가음은 네 가각이 된다,네 생각은 네 가이 된다,네 생은 네 가동이 된다,네 생동은 네 가관이 된다,네 생관은 네 가치가 된다,네 생치는 네 운명이 된다,\n",
            " 가음은 네 가각이 된다,네 생각은 네 가이 된다,네 생은 네 가동이 된다,네 생동은 네 가관이 된다,네 생관은 네 가치가 된다,네 생치는 네 운명이 된다,\n",
            " 가음은 네 가각이 된다,네 생각은 네 가이 된다,네 생은 네 가동이 된다,네 생동은 네 가관이 된다,네 생관은 네 가치가 된다,네 생치는 네 운명이 된다,\n",
            " 가음은 네 가각이 된다,네 생각은 네 가이 된다,네 생은 네 가동이 된다,네 생동은 네 가관이 된다,네 생관은 네 가치가 된다,네 생치는 네 운명이 된다,\n",
            " 가음은 네 가각이 된다,네 생각은 네 가이 된다,네 생은 네 가동이 된다,네 생동은 네 가관이 된다,네 생관은 네 가치가 된다,네 생치는 네 운명이 된다,\n",
            " 가음은 네 가각이 된다,네 생각은 네 가이 된다,네 생은 네 가동이 된다,네 생동은 네 가관이 된다,네 생관은 네 가치가 된다,네 생치는 네 운명이 된다,\n",
            " 가음은 네 가각이 된다,네 생각은 네 가이 된다,네 생은 네 가동이 된다,네 생동은 네 가관이 된다,네 생관은 네 가치가 된다,네 생치는 네 운명이 된다,\n",
            " 가음은 네 가각이 된다,네 생각은 네 가이 된다,네 생은 네 가동이 된다,네 생동은 네 가관이 된다,네 생관은 네 가치가 된다,네 생치는 네 운명이 된다,\n",
            " 가음은 네 가각이 된다,네 생각은 네 가이 된다,네 생은 네 가동이 된다,네 생동은 네 가관이 된다,네 생관은 네 가치가 된다,네 생치는 네 운명이 된다,\n",
            " 가음은 네 가각이 된다,네 생각은 네 가이 된다,네 생은 네 가동이 된다,네 생동은 네 가관이 된다,네 생관은 네 가치가 된다,네 생치는 네 운명이 된다,\n",
            " 가음은 네 가각이 된다,네 생각은 네 가이 된다,네 생은 네 가동이 된다,네 생동은 네 가관이 된다,네 생관은 네 가치가 된다,네 생치는 네 운명이 된다,\n",
            " 가음은 네 가각이 된다,네 생각은 네 가이 된다,네 생은 네 가동이 된다,네 생동은 네 가관이 된다,네 생관은 네 가치가 된다,네 생치는 네 운명이 된다,\n",
            " 가음은 네 가각이 된다,네 생각은 네 가이 된다,네 생은 네 생동이 된다,네 생동은 네 가관이 된다,네 생관은 네 가치가 된다,네 생치는 네 운명이 된다,\n",
            " 가음은 네 가각이 된다,네 생각은 네 가이 된다,네 생은 네 생동이 된다,네 생동은 네 가관이 된다,네 생관은 네 가치가 된다,네 생치는 네 운명이 된다,\n",
            " 가음은 네 가각이 된다,네 생각은 네 가이 된다,네 생은 네 생동이 된다,네 생동은 네 가관이 된다,네 생관은 네 가치가 된다,네 생치는 네 운명이 된다,\n",
            " 가음은 네 가각이 된다,네 생각은 네 생이 된다,네 생은 네 생동이 된다,네 생동은 네 가관이 된다,네 생관은 네 가치가 된다,네 생치는 네 운명이 된다,\n",
            " 가음은 네 가각이 된다,네 생각은 네 생이 된다,네 생은 네 생동이 된다,네 생동은 네 가관이 된다,네 생관은 네 가치가 된다,네 생치는 네 운명이 된다,\n",
            " 가음은 네 가각이 된다,네 생각은 네 생이 된다,네 생은 네 생동이 된다,네 생동은 네 가관이 된다,네 생관은 네 가치가 된다,네 생치는 네 운명이 된다,\n",
            " 가음은 네 가각이 된다,네 생각은 네 생이 된다,네 생은 네 생동이 된다,네 생동은 네 생관이 된다,네 생관은 네 가치가 된다,네 생치는 네 운명이 된다,\n",
            " 가음은 네 말각이 된다,네 생각은 네 생이 된다,네 생은 네 생동이 된다,네 생동은 네 생관이 된다,네 생관은 네 가치가 된다,네 생치는 네 운명이 된다,\n",
            " 가음은 네 말각이 된다,네 생각은 네 생이 된다,네 생은 네 생동이 된다,네 생동은 네 생관이 된다,네 생관은 네 가치가 된다,네 생치는 네 운명이 된다,\n",
            " 가음은 네 말각이 된다,네 생각은 네 생이 된다,네 생은 네 생동이 된다,네 생동은 네 생관이 된다,네 생관은 네 가치가 된다,네 생치는 네 운명이 된다,\n",
            " 가음은 네 말각이 된다,네 생각은 네 생이 된다,네 생은 네 생동이 된다,네 생동은 네 생관이 된다,네 생관은 네 가치가 된다,네 생치는 네 운명이 된다,\n",
            " 가음은 네 말각이 된다,네 생각은 네 생이 된다,네 생은 네 생동이 된다,네 생동은 네 생관이 된다,네 생관은 네 가치가 된다,네 생치는 네 운명이 된다,\n",
            " 행음은 네 말각이 된다,네 생각은 네 생이 된다,네 생은 네 생동이 된다,네 생동은 네 생관이 된다,네 생관은 네 가치가 된다,네 생치는 네 운명이 된다,\n",
            " 행음은 네 말각이 된다,네 생각은 네 생이 된다,네 생은 네 생동이 된다,네 생동은 네 생관이 된다,네 생관은 네 가치가 된다,네 생치는 네 운명이 된다,\n",
            " 행음은 네 말각이 된다,네 생각은 네 생이 된다,네 생은 네 생동이 된다,네 생동은 네 생관이 된다,네 생관은 네 가치가 된다,네 생치는 네 운명이 된다,\n",
            " 행음은 네 말각이 된다,네 생각은 네 생이 된다,네 생은 네 생동이 된다,네 생동은 네 생관이 된다,네 생관은 네 가치가 된다,네 생치는 네 운명이 된다,\n",
            " 행음은 네 말각이 된다,네 생각은 네 행이 된다,네 생은 네 생동이 된다,네 생동은 네 생관이 된다,네 생관은 네 가치가 된다,네 생치는 네 운명이 된다,\n",
            " 행음은 네 말각이 된다,네 생각은 네 행이 된다,네 생은 네 생동이 된다,네 생동은 네 생관이 된다,네 생관은 네 가치가 된다,네 생치는 네 운명이 된다,\n",
            " 행음은 네 행각이 된다,네 생각은 네 행이 된다,네 생은 네 생동이 된다,네 생동은 네 생관이 된다,네 생관은 네 가치가 된다,네 생치는 네 운명이 된다,\n",
            " 습음은 네 행각이 된다,네 생각은 네 행이 된다,네 생은 네 생동이 된다,네 생동은 네 행관이 된다,네 생관은 네 가치가 된다,네 생치는 네 운명이 된다,\n",
            " 습음은 네 행각이 된다,네 생각은 네 행이 된다,네 생은 네 행동이 된다,네 생동은 네 행관이 된다,네 생관은 네 가치가 된다,네 생치는 네 운명이 된다,\n",
            " 습음은 네 행각이 된다,네 생각은 네 행이 된다,네 생은 네 생동이 된다,네 생동은 네 행관이 된다,네 생관은 네 가치가 된다,네 생치는 네 운명이 된다,\n",
            " 습음은 네 행각이 된다,네 생각은 네 행이 된다,네 생은 네 생동이 된다,네 생동은 네 생관이 된다,네 생관은 네 가치가 된다,네 생치는 네 운명이 된다,\n",
            " 습음은 네 행각이 된다,네 생각은 네 행이 된다,네 생은 네 생동이 된다,네 생동은 네 생관이 된다,네 생관은 네 가치가 된다,네 생치는 네 운명이 된다,\n",
            " 습음은 네 행각이 된다,네 생각은 네 행이 된다,네 생은 네 생동이 된다,네 생동은 네 생관이 된다,네 생관은 네 가치가 된다,네 생치는 네 운명이 된다.\n",
            " 습음은 네 행각이 된다,네 습각은 네 행이 된다,네 습은 네 생동이 된다,네 습동은 네 생관이 된다,네 습관은 네 가치가 된다,네 습치는 네 운명이 된다.\n",
            " 습음은 네 행각이 된다,네 습각은 네 행이 된다,네 습은 네 생동이 된다,네 습동은 네 생관이 된다,네 습관은 네 가치가 된다,네 습치는 네 운명이 된다.\n",
            " 습음은 네 행각이 된다,네 습각은 네 행이 된다,네 습은 네 생동이 된다,네 습동은 네 생관이 된다,네 습관은 네 가치가 된다,네 습치는 네 운명이 된다.\n",
            " 생음은 네 행각이 된다,네 습각은 네 행이 된다,네 습은 네 행동이 된다,네 습동은 네 행관이 된다,네 습관은 네 가치가 된다,네 습치는 네 운명이 된다.\n",
            " 생음은 네 행각이 된다,네 습각은 네 행이 된다,네 습은 네 행동이 된다,네 습동은 네 행관이 된다,네 습관은 네 가치가 된다,네 습치는 네 운명이 된다.\n",
            " 생음은 네 행각이 된다,네 습각은 네 행이 된다,네 습은 네 행동이 된다,네 습동은 네 행관이 된다,네 습관은 네 가치가 된다,네 습치는 네 운명이 된다.\n",
            " 생음은 네 행각이 된다,네 습각은 네 행이 된다,네 습은 네 행동이 된다,네 습동은 네 행관이 된다,네 습관은 네 가치가 된다,네 습치는 네 운명이 된다.\n",
            " 생음은 네 행각이 된다,네 습각은 네 행이 된다,네 습은 네 행동이 된다,네 습동은 네 행관이 된다,네 습관은 네 가치가 된다,네 습치는 네 운명이 된다.\n",
            " 생음은 네 행각이 된다,네 습각은 네 행이 된다,네 습은 네 행동이 된다,네 습동은 네 행관이 된다,네 습관은 네 가치가 된다,네 습치는 네 운명이 된다.\n",
            " 생음은 네 행각이 된다,네 습각은 네 행이 된다,네 습은 네 행동이 된다,네 습동은 네 행관이 된다,네 습관은 네 가치가 된다,네 습치는 네 운명이 된다.\n",
            " 생음은 네 행각이 된다,네 습각은 네 행이 된다,네 습은 네 행동이 된다,네 습동은 네 행관이 된다,네 습관은 네 가치가 된다,네 습치는 네 운명이 된다.\n",
            " 생음은 네 행각이 된다,네 습각은 네 행이 된다,네 습은 네 행동이 된다,네 습동은 네 행관이 된다,네 습관은 네 가치가 된다,네 습치는 네 운명이 된다.\n",
            " 생음은 네 행각이 된다,네 습각은 네 행이 된다,네 습은 네 행동이 된다,네 습동은 네 행관이 된다,네 습관은 네 가치가 된다,네 습치는 네 운명이 된다.\n",
            " 생음은 네 행각이 된다,네 습각은 네 행이 된다,네 습은 네 행동이 된다,네 습동은 네 행관이 된다,네 습관은 네 가치가 된다,네 습치는 네 운명이 된다.\n",
            " 생음은 네 행각이 된다,네 습각은 네 행이 된다,네 습은 네 행동이 된다,네 습동은 네 행관이 된다,네 습관은 네 가치가 된다,네 습치는 네 운명이 된다.\n",
            " 생음은 네 행각이 된다,네 습각은 네 행이 된다,네 습은 네 행동이 된다,네 습동은 네 행관이 된다,네 습관은 네 가치가 된다,네 습치는 네 운명이 된다.\n",
            " 생음은 네 행각이 된다,네 습각은 네 행이 된다,네 습은 네 행동이 된다,네 습동은 네 행관이 된다,네 습관은 네 가치가 된다,네 습치는 네 운명이 된다.\n",
            " 생음은 네 행각이 된다,네 습각은 네 행이 된다,네 습은 네 행동이 된다,네 습동은 네 행관이 된다,네 습관은 네 가치가 된다,네 습치는 네 운명이 된다.\n",
            " 말음은 네 행각이 된다,네 습각은 네 행이 된다,네 습은 네 행동이 된다,네 습동은 네 행관이 된다,네 습관은 네 가치가 된다,네 습치는 네 운명이 된다.\n",
            " 말음은 네 행각이 된다,네 습각은 네 행이 된다,네 습은 네 행동이 된다,네 습동은 네 행관이 된다,네 습관은 네 가치가 된다,네 습치는 네 운명이 된다.\n",
            " 말음은 네 행각이 된다,네 습각은 네 행이 된다,네 습은 네 행동이 된다,네 습동은 네 행관이 된다,네 습관은 네 가치가 된다,네 습치는 네 운명이 된다.\n",
            " 말음은 네 행각이 된다,네 습각은 네 행이 된다,네 습은 네 행동이 된다,네 습동은 네 행관이 된다,네 습관은 네 가치가 된다,네 습치는 네 운명이 된다.\n",
            " 말음은 네 행각이 된다,네 습각은 네 행이 된다,네 습은 네 행동이 된다,네 습동은 네 행관이 된다,네 습관은 네 가치가 된다,네 습치는 네 운명이 된다.\n",
            " 말음은 네 행각이 된다,네 습각은 네 행이 된다,네 습은 네 행동이 된다,네 습동은 네 행관이 된다,네 습관은 네 가치가 된다,네 습치는 네 운명이 된다.\n",
            " 말음은 네 행각이 된다,네 습각은 네 행이 된다,네 습은 네 행동이 된다,네 습동은 네 행관이 된다,네 습관은 네 가치가 된다,네 습치는 네 운명이 된다.\n",
            " 말음은 네 행각이 된다,네 습각은 네 행이 된다,네 습은 네 행동이 된다,네 습동은 네 행관이 된다,네 습관은 네 가치가 된다,네 습치는 네 운명이 된다.\n",
            " 말음은 네 행각이 된다,네 습각은 네 행이 된다,네 습은 네 행동이 된다,네 습동은 네 행관이 된다,네 습관은 네 가치가 된다,네 습치는 네 운명이 된다.\n",
            " 말음은 네 행각이 된다,네 습각은 네 행이 된다,네 습은 네 행동이 된다,네 습동은 네 행관이 된다,네 습관은 네 가치가 된다,네 습치는 네 운명이 된다.\n",
            " 말음은 네 행각이 된다,네 습각은 네 행이 된다,네 습은 네 행동이 된다,네 습동은 네 행관이 된다,네 습관은 네 가치가 된다,네 습치는 네 운명이 된다.\n",
            " 말음은 네 행각이 된다,네 습각은 네 행이 된다,네 습은 네 행동이 된다,네 습동은 네 행관이 된다,네 습관은 네 가치가 된다,네 습치는 네 운명이 된다.\n",
            " 말음은 네 행각이 된다,네 습각은 네 행이 된다,네 습은 네 행동이 된다,네 습동은 네 행관이 된다,네 습관은 네 가치가 된다,네 습치는 네 운명이 된다.\n",
            " 말음은 네 행각이 된다,네 습각은 네 행이 된다,네 습은 네 행동이 된다,네 습동은 네 행관이 된다,네 습관은 네 가치가 된다,네 습치는 네 운명이 된다.\n",
            " 말음은 네 행각이 된다,네 습각은 네 행이 된다,네 습은 네 행동이 된다,네 습동은 네 행관이 된다,네 습관은 네 가치가 된다,네 습치는 네 운명이 된다.\n",
            " 말음은 네 행각이 된다,네 습각은 네 행이 된다,네 습은 네 행동이 된다,네 습동은 네 행관이 된다,네 습관은 네 가치가 된다,네 습치는 네 운명이 된다.\n",
            " 말음은 네 행각이 된다,네 습각은 네 행이 된다,네 습은 네 행동이 된다,네 습동은 네 행관이 된다,네 습관은 네 가치가 된다,네 습치는 네 운명이 된다.\n",
            " 말음은 네 행각이 된다,네 습각은 네 행이 된다,네 습은 네 행동이 된다,네 습동은 네 행관이 된다,네 습관은 네 가치가 된다,네 습치는 네 운명이 된다.\n",
            " 말음은 네 행각이 된다,네 습각은 네 행이 된다,네 습은 네 행동이 된다,네 습동은 네 행관이 된다,네 습관은 네 가치가 된다,네 습치는 네 운명이 된다.\n",
            " 말음은 네 행각이 된다,네 습각은 네 행이 된다,네 습은 네 행동이 된다,네 습동은 네 행관이 된다,네 습관은 네 가치가 된다,네 습치는 네 운명이 된다.\n",
            " 말음은 네 행각이 된다,네 습각은 네 행이 된다,네 습은 네 행동이 된다,네 습동은 네 행관이 된다,네 습관은 네 가치가 된다,네 습치는 네 운명이 된다.\n",
            " 말음은 네 행각이 된다,네 습각은 네 행이 된다,네 습은 네 행동이 된다,네 습동은 네 행관이 된다,네 습관은 네 가치가 된다,네 습치는 네 운명이 된다.\n",
            " 말음은 네 행각이 된다,네 습각은 네 행이 된다,네 습은 네 행동이 된다,네 습동은 네 행관이 된다,네 습관은 네 가치가 된다,네 습치는 네 운명이 된다.\n",
            " 말음은 네 행각이 된다,네 습각은 네 행이 된다,네 습은 네 행동이 된다,네 습동은 네 행관이 된다,네 습관은 네 가치가 된다,네 습치는 네 운명이 된다.\n",
            " 말음은 네 행각이 된다,네 습각은 네 행이 된다,네 습은 네 행동이 된다,네 습동은 네 행관이 된다,네 습관은 네 가치가 된다,네 습치는 네 운명이 된다.\n",
            " 말음은 네 행각이 된다,네 습각은 네 행이 된다,네 습은 네 행동이 된다,네 습동은 네 행관이 된다,네 습관은 네 가치가 된다,네 습치는 네 운명이 된다.\n",
            " 말음은 네 행각이 된다,네 생각은 네 행이 된다,네 생은 네 행동이 된다,네 생동은 네 행관이 된다,네 생관은 네 가치가 된다,네 생치는 네 운명이 된다.\n",
            " 말음은 네 행각이 된다,네 생각은 네 행이 된다,네 생은 네 행동이 된다,네 생동은 네 행관이 된다,네 생관은 네 가치가 된다,네 생치는 네 운명이 된다.\n",
            " 말음은 네 행각이 된다,네 생각은 네 행이 된다,네 생은 네 행동이 된다,네 생동은 네 행관이 된다,네 생관은 네 가치가 된다,네 생치는 네 운명이 된다.\n",
            " 말음은 네 행각이 된다,네 생각은 네 행이 된다,네 생은 네 행동이 된다,네 생동은 네 행관이 된다,네 생관은 네 가치가 된다,네 생치는 네 운명이 된다.\n",
            " 말음은 네 행각이 된다,네 생각은 네 행이 된다,네 생은 네 행동이 된다,네 생동은 네 행관이 된다,네 생관은 네 가치가 된다,네 생치는 네 운명이 된다.\n",
            " 말음은 네 행각이 된다,네 생각은 네 행이 된다,네 생은 네 행동이 된다,네 생동은 네 행관이 된다,네 생관은 네 가치가 된다,네 생치는 네 운명이 된다.\n",
            " 말음은 네 행각이 된다,네 생각은 네 행이 된다,네 생은 네 행동이 된다,네 생동은 네 행관이 된다,네 생관은 네 가치가 된다,네 생치는 네 운명이 된다.\n",
            " 말음은 네 행각이 된다,네 생각은 네 행이 된다,네 생은 네 행동이 된다,네 생동은 네 행관이 된다,네 생관은 네 가치가 된다,네 생치는 네 운명이 된다.\n",
            " 말음은 네 행각이 된다,네 생각은 네 행이 된다,네 생은 네 행동이 된다,네 생동은 네 행관이 된다,네 생관은 네 가치가 된다,네 생치는 네 운명이 된다.\n",
            " 말음은 네 행각이 된다,네 생각은 네 행이 된다,네 생은 네 행동이 된다,네 생동은 네 행관이 된다,네 생관은 네 가치가 된다,네 생치는 네 운명이 된다.\n",
            " 말음은 네 행각이 된다,네 생각은 네 행이 된다,네 생은 네 행동이 된다,네 생동은 네 행관이 된다,네 생관은 네 가치가 된다,네 생치는 네 운명이 된다.\n",
            " 말음은 네 행각이 된다,네 생각은 네 행이 된다,네 생은 네 행동이 된다,네 생동은 네 행관이 된다,네 생관은 네 가치가 된다,네 생치는 네 운명이 된다.\n",
            " 말음은 네 행각이 된다,네 생각은 네 행이 된다,네 생은 네 행동이 된다,네 생동은 네 행관이 된다,네 생관은 네 가치가 된다,네 생치는 네 운명이 된다.\n",
            " 말음은 네 행각이 된다,네 생각은 네 행이 된다,네 생은 네 행동이 된다,네 생동은 네 행관이 된다,네 생관은 네 가치가 된다,네 생치는 네 운명이 된다.\n",
            " 말음은 네 행각이 된다,네 생각은 네 행이 된다,네 생은 네 행동이 된다,네 생동은 네 행관이 된다,네 생관은 네 가치가 된다,네 생치는 네 운명이 된다.\n",
            " 말음은 네 행각이 된다,네 생각은 네 행이 된다,네 생은 네 행동이 된다,네 생동은 네 행관이 된다,네 생관은 네 가치가 된다,네 생치는 네 운명이 된다.\n",
            " 말음은 네 행각이 된다,네 생각은 네 행이 된다,네 생은 네 행동이 된다,네 생동은 네 행관이 된다,네 생관은 네 가치가 된다,네 생치는 네 운명이 된다.\n",
            " 말음은 네 행각이 된다,네 생각은 네 행이 된다,네 생은 네 행동이 된다,네 생동은 네 행관이 된다,네 생관은 네 가치가 된다,네 생치는 네 운명이 된다.\n",
            " 말음은 네 행각이 된다,네 생각은 네 행이 된다,네 생은 네 행동이 된다,네 생동은 네 행관이 된다,네 생관은 네 가치가 된다,네 생치는 네 운명이 된다.\n",
            " 말음은 네 행각이 된다,네 생각은 네 행이 된다,네 생은 네 행동이 된다,네 생동은 네 행관이 된다,네 생관은 네 가치가 된다,네 생치는 네 운명이 된다.\n",
            " 말음은 네 행각이 된다,네 생각은 네 행이 된다,네 생은 네 행동이 된다,네 생동은 네 행관이 된다,네 생관은 네 가치가 된다,네 생치는 네 운명이 된다.\n",
            " 말음은 네 행각이 된다,네 생각은 네 행이 된다,네 생은 네 행동이 된다,네 생동은 네 행관이 된다,네 생관은 네 가치가 된다,네 생치는 네 운명이 된다.\n",
            " 말음은 네 행각이 된다,네 생각은 네 행이 된다,네 생은 네 행동이 된다,네 생동은 네 행관이 된다,네 생관은 네 가치가 된다,네 생치는 네 운명이 된다.\n",
            " 말음은 네 행각이 된다,네 생각은 네 행이 된다,네 생은 네 행동이 된다,네 생동은 네 행관이 된다,네 생관은 네 가치가 된다,네 생치는 네 운명이 된다.\n",
            " 말음은 네 행각이 된다,네 생각은 네 행이 된다,네 생은 네 행동이 된다,네 생동은 네 행관이 된다,네 생관은 네 가치가 된다,네 생치는 네 운명이 된다.\n",
            " 말음은 네 행각이 된다,네 생각은 네 행이 된다,네 생은 네 행동이 된다,네 생동은 네 행관이 된다,네 생관은 네 가치가 된다,네 생치는 네 운명이 된다.\n",
            " 말음은 네 행각이 된다,네 생각은 네 행이 된다,네 생은 네 행동이 된다,네 생동은 네 행관이 된다,네 생관은 네 가치가 된다,네 생치는 네 운명이 된다.\n",
            " 말음은 네 행각이 된다,네 생각은 네 행이 된다,네 생은 네 행동이 된다,네 생동은 네 행관이 된다,네 생관은 네 가치가 된다,네 생치는 네 운명이 된다.\n",
            " 말음은 네 행각이 된다,네 생각은 네 행이 된다,네 생은 네 행동이 된다,네 생동은 네 습관이 된다,네 생관은 네 가치가 된다,네 생치는 네 운명이 된다.\n",
            " 말음은 네 행각이 된다,네 생각은 네 행이 된다,네 생은 네 행동이 된다,네 생동은 네 습관이 된다,네 생관은 네 가치가 된다,네 생치는 네 운명이 된다.\n",
            " 말음은 네 행각이 된다,네 생각은 네 행이 된다,네 생은 네 행동이 된다,네 생동은 네 습관이 된다,네 생관은 네 가치가 된다,네 생치는 네 운명이 된다.\n",
            " 말음은 네 행각이 된다,네 생각은 네 행이 된다,네 생은 네 행동이 된다,네 생동은 네 습관이 된다,네 생관은 네 가치가 된다,네 생치는 네 운명이 된다.\n",
            " 말음은 네 행각이 된다,네 생각은 네 행이 된다,네 생은 네 행동이 된다,네 생동은 네 습관이 된다,네 생관은 네 가치가 된다,네 생치는 네 운명이 된다.\n",
            " 말음은 네 행각이 된다,네 생각은 네 행이 된다,네 생은 네 행동이 된다,네 생동은 네 습관이 된다,네 생관은 네 가치가 된다,네 생치는 네 운명이 된다.\n",
            " 말음은 네 행각이 된다,네 생각은 네 행이 된다,네 생은 네 행동이 된다,네 생동은 네 습관이 된다,네 생관은 네 가치가 된다,네 생치는 네 운명이 된다.\n",
            " 말음은 네 행각이 된다,네 생각은 네 행이 된다,네 생은 네 행동이 된다,네 생동은 네 습관이 된다,네 생관은 네 가치가 된다,네 생치는 네 운명이 된다.\n",
            " 말음은 네 행각이 된다,네 생각은 네 행이 된다,네 생은 네 행동이 된다,네 생동은 네 습관이 된다,네 생관은 네 가치가 된다,네 생치는 네 운명이 된다.\n",
            " 말음은 네 행각이 된다,네 생각은 네 행이 된다,네 생은 네 행동이 된다,네 생동은 네 습관이 된다,네 생관은 네 가치가 된다,네 생치는 네 운명이 된다.\n",
            " 말음은 네 행각이 된다,네 생각은 네 행이 된다,네 생은 네 습동이 된다,네 생동은 네 습관이 된다,네 생관은 네 가치가 된다,네 생치는 네 운명이 된다.\n",
            " 말음은 네 행각이 된다,네 생각은 네 행이 된다,네 생은 네 습동이 된다,네 생동은 네 습관이 된다,네 생관은 네 가치가 된다,네 생치는 네 운명이 된다.\n",
            " 말음은 네 행각이 된다,네 생각은 네 행이 된다,네 생은 네 습동이 된다,네 생동은 네 습관이 된다,네 생관은 네 가치가 된다,네 생치는 네 운명이 된다.\n",
            " 말음은 네 행각이 된다,네 생각은 네 습이 된다,네 생은 네 습동이 된다,네 생동은 네 습관이 된다,네 생관은 네 가치가 된다,네 생치는 네 운명이 된다.\n",
            " 말음은 네 행각이 된다,네 생각은 네 습이 된다,네 생은 네 습동이 된다,네 생동은 네 습관이 된다,네 생관은 네 가치가 된다,네 생치는 네 운명이 된다.\n",
            " 말음은 네 행각이 된다,네 생각은 네 습이 된다,네 생은 네 습동이 된다,네 생동은 네 습관이 된다,네 생관은 네 가치가 된다,네 생치는 네 운명이 된다.\n",
            " 말음은 네 행각이 된다,네 생각은 네 습이 된다,네 생은 네 습동이 된다,네 생동은 네 습관이 된다,네 생관은 네 가치가 된다,네 생치는 네 운명이 된다.\n",
            " 말음은 네 행각이 된다,네 생각은 네 습이 된다,네 생은 네 습동이 된다,네 생동은 네 습관이 된다,네 생관은 네 가치가 된다,네 생치는 네 운명이 된다.\n",
            " 말음은 네 행각이 된다,네 생각은 네 습이 된다,네 생은 네 습동이 된다,네 생동은 네 습관이 된다,네 생관은 네 가치가 된다,네 생치는 네 운명이 된다.\n",
            " 말음은 네 행각이 된다,네 생각은 네 습이 된다,네 생은 네 습동이 된다,네 생동은 네 습관이 된다,네 생관은 네 가치가 된다,네 생치는 네 운명이 된다.\n",
            " 말음은 네 행각이 된다,네 생각은 네 습이 된다,네 생은 네 습동이 된다,네 생동은 네 습관이 된다,네 생관은 네 가치가 된다,네 생치는 네 운명이 된다.\n",
            " 말음은 네 행각이 된다,네 생각은 네 습이 된다,네 생은 네 습동이 된다,네 생동은 네 습관이 된다,네 생관은 네 가치가 된다,네 생치는 네 운명이 된다.\n",
            " 말음은 네 행각이 된다,네 생각은 네 습이 된다,네 생은 네 습동이 된다,네 생동은 네 습관이 된다,네 생관은 네 가치가 된다,네 생치는 네 운명이 된다.\n",
            " 말음은 네 행각이 된다,네 생각은 네 습이 된다,네 생은 네 습동이 된다,네 생동은 네 습관이 된다,네 생관은 네 가치가 된다,네 생치는 네 운명이 된다.\n",
            " 말음은 네 행각이 된다,네 생각은 네 습이 된다,네 생은 네 습동이 된다,네 생동은 네 습관이 된다,네 생관은 네 가치가 된다,네 생치는 네 운명이 된다.\n",
            " 말음은 네 행각이 된다,네 생각은 네 습이 된다,네 생은 네 습동이 된다,네 생동은 네 습관이 된다,네 생관은 네 가치가 된다,네 생치는 네 운명이 된다.\n",
            " 말음은 네 행각이 된다,네 생각은 네 습이 된다,네 생은 네 습동이 된다,네 생동은 네 습관이 된다,네 생관은 네 가치가 된다,네 생치는 네 운명이 된다.\n",
            " 말음은 네 행각이 된다,네 생각은 네 습이 된다,네 생은 네 습동이 된다,네 생동은 네 습관이 된다,네 생관은 네 가치가 된다,네 생치는 네 운명이 된다.\n",
            " 말음은 네 말각이 된다,네 생각은 네 말이 된다,네 생은 네 습동이 된다,네 생동은 네 습관이 된다,네 생관은 네 가치가 된다,네 생치는 네 운명이 된다.\n",
            " 말음은 네 말각이 된다,네 생각은 네 말이 된다,네 생은 네 습동이 된다,네 생동은 네 습관이 된다,네 생관은 네 가치가 된다,네 생치는 네 운명이 된다.\n",
            " 말음은 네 말각이 된다,네 생각은 네 말이 된다,네 생은 네 습동이 된다,네 생동은 네 습관이 된다,네 생관은 네 가치가 된다,네 생치는 네 운명이 된다.\n",
            " 말음은 네 말각이 된다,네 행각은 네 말이 된다,네 행은 네 습동이 된다,네 행동은 네 습관이 된다,네 행관은 네 가치가 된다,네 행치는 네 운명이 된다.\n",
            " 말음은 네 말각이 된다,네 행각은 네 말이 된다,네 행은 네 습동이 된다,네 행동은 네 습관이 된다,네 행관은 네 가치가 된다,네 행치는 네 운명이 된다.\n",
            " 말음은 네 말각이 된다,네 생각은 네 말이 된다,네 생은 네 행동이 된다,네 생동은 네 습관이 된다,네 생관은 네 가치가 된다,네 생치는 네 운명이 된다.\n",
            " 말음은 네 말각이 된다,네 생각은 네 말이 된다,네 생은 네 행동이 된다,네 생동은 네 습관이 된다,네 생관은 네 가치가 된다,네 생치는 네 운명이 된다.\n",
            " 말음은 네 말각이 된다,네 생각은 네 말이 된다,네 생은 네 행동이 된다,네 생동은 네 습관이 된다,네 생관은 네 가치가 된다,네 생치는 네 운명이 된다.\n",
            " 말음은 네 말각이 된다,네 생각은 네 말이 된다,네 생은 네 행동이 된다,네 생동은 네 습관이 된다,네 생관은 네 가치가 된다,네 생치는 네 운명이 된다.\n",
            " 말음은 네 말각이 된다,네 생각은 네 말이 된다,네 생은 네 행동이 된다,네 생동은 네 습관이 된다,네 생관은 네 가치가 된다,네 생치는 네 운명이 된다.\n",
            " 말음은 네 말각이 된다,네 생각은 네 말이 된다,네 생은 네 행동이 된다,네 생동은 네 습관이 된다,네 생관은 네 가치가 된다,네 생치는 네 운명이 된다.\n",
            " 말음은 네 말각이 된다,네 생각은 네 말이 된다,네 생은 네 행동이 된다,네 생동은 네 습관이 된다,네 생관은 네 가치가 된다,네 생치는 네 운명이 된다.\n",
            " 말음은 네 말각이 된다,네 생각은 네 말이 된다,네 생은 네 행동이 된다,네 생동은 네 습관이 된다,네 생관은 네 가치가 된다,네 생치는 네 운명이 된다.\n",
            " 말음은 네 말각이 된다,네 생각은 네 말이 된다,네 생은 네 행동이 된다,네 생동은 네 습관이 된다,네 생관은 네 가치가 된다,네 생치는 네 운명이 된다.\n",
            " 말음은 네 말각이 된다,네 생각은 네 말이 된다,네 생은 네 행동이 된다,네 생동은 네 습관이 된다,네 생관은 네 가치가 된다,네 생치는 네 운명이 된다.\n",
            " 말음은 네 말각이 된다,네 생각은 네 말이 된다,네 생은 네 행동이 된다,네 생동은 네 습관이 된다,네 생관은 네 가치가 된다,네 생치는 네 운명이 된다.\n",
            " 말음은 네 말각이 된다,네 생각은 네 말이 된다,네 생은 네 행동이 된다,네 생동은 네 습관이 된다,네 생관은 네 가치가 된다,네 생치는 네 운명이 된다.\n",
            " 말음은 네 말각이 된다,네 생각은 네 말이 된다,네 생은 네 행동이 된다,네 생동은 네 습관이 된다,네 생관은 네 가치가 된다,네 생치는 네 운명이 된다.\n",
            " 말음은 네 말각이 된다,네 생각은 네 말이 된다,네 생은 네 행동이 된다,네 생동은 네 습관이 된다,네 생관은 네 가치가 된다,네 생치는 네 운명이 된다.\n",
            " 말음은 네 말각이 된다,네 생각은 네 말이 된다,네 생은 네 행동이 된다,네 생동은 네 습관이 된다,네 생관은 네 가치가 된다,네 생치는 네 운명이 된다.\n",
            " 말음은 네 말각이 된다,네 생각은 네 말이 된다,네 생은 네 행동이 된다,네 생동은 네 습관이 된다,네 생관은 네 가치가 된다,네 생치는 네 운명이 된다.\n",
            " 말음은 네 말각이 된다,네 생각은 네 말이 된다,네 생은 네 행동이 된다,네 생동은 네 습관이 된다,네 생관은 네 가치가 된다,네 생치는 네 운명이 된다.\n",
            " 말음은 네 말각이 된다,네 생각은 네 말이 된다,네 생은 네 행동이 된다,네 생동은 네 습관이 된다,네 생관은 네 가치가 된다,네 생치는 네 운명이 된다.\n",
            " 말음은 네 말각이 된다,네 생각은 네 말이 된다,네 생은 네 행동이 된다,네 생동은 네 습관이 된다,네 생관은 네 가치가 된다,네 생치는 네 운명이 된다.\n",
            " 말음은 네 말각이 된다,네 행각은 네 말이 된다,네 행은 네 행동이 된다,네 행동은 네 습관이 된다,네 행관은 네 가치가 된다,네 행치는 네 운명이 된다.\n",
            " 말음은 네 말각이 된다,네 행각은 네 말이 된다,네 행은 네 행동이 된다,네 행동은 네 습관이 된다,네 행관은 네 가치가 된다,네 행치는 네 운명이 된다.\n",
            " 말음은 네 말각이 된다,네 행각은 네 말이 된다,네 행은 네 행동이 된다,네 행동은 네 습관이 된다,네 행관은 네 가치가 된다,네 행치는 네 운명이 된다.\n",
            " 말음은 네 말각이 된다,네 행각은 네 말이 된다,네 행은 네 행동이 된다,네 행동은 네 습관이 된다,네 행관은 네 가치가 된다,네 행치는 네 운명이 된다.\n",
            " 말음은 네 말각이 된다,네 행각은 네 말이 된다,네 행은 네 행동이 된다,네 행동은 네 습관이 된다,네 행관은 네 가치가 된다,네 행치는 네 운명이 된다.\n",
            " 말음은 네 말각이 된다,네 행각은 네 말이 된다,네 행은 네 행동이 된다,네 행동은 네 습관이 된다,네 행관은 네 가치가 된다,네 행치는 네 운명이 된다.\n",
            " 말음은 네 말각이 된다,네 행각은 네 말이 된다,네 행은 네 행동이 된다,네 행동은 네 습관이 된다,네 행관은 네 가치가 된다,네 행치는 네 운명이 된다.\n",
            " 말음은 네 말각이 된다,네 행각은 네 말이 된다,네 행은 네 행동이 된다,네 행동은 네 습관이 된다,네 행관은 네 가치가 된다,네 행치는 네 운명이 된다.\n",
            " 말음은 네 말각이 된다,네 행각은 네 말이 된다,네 행은 네 행동이 된다,네 행동은 네 습관이 된다,네 행관은 네 가치가 된다,네 행치는 네 운명이 된다.\n",
            " 말음은 네 생각이 된다,네 행각은 네 말이 된다,네 행은 네 행동이 된다,네 행동은 네 습관이 된다,네 행관은 네 가치가 된다,네 행치는 네 운명이 된다.\n",
            " 말음은 네 생각이 된다,네 행각은 네 말이 된다,네 행은 네 행동이 된다,네 행동은 네 습관이 된다,네 행관은 네 가치가 된다,네 행치는 네 운명이 된다.\n",
            " 말음은 네 생각이 된다,네 행각은 네 말이 된다,네 행은 네 행동이 된다,네 행동은 네 습관이 된다,네 행관은 네 가치가 된다,네 행치는 네 운명이 된다.\n",
            " 말음은 네 생각이 된다,네 행각은 네 말이 된다,네 행은 네 행동이 된다,네 행동은 네 습관이 된다,네 행관은 네 가치가 된다,네 행치는 네 운명이 된다.\n",
            " 말음은 네 생각이 된다,네 행각은 네 말이 된다,네 행은 네 행동이 된다,네 행동은 네 습관이 된다,네 행관은 네 가치가 된다,네 행치는 네 운명이 된다.\n",
            " 말음은 네 생각이 된다,네 행각은 네 말이 된다,네 행은 네 행동이 된다,네 행동은 네 습관이 된다,네 행관은 네 가치가 된다,네 행치는 네 운명이 된다.\n",
            " 말음은 네 생각이 된다,네 행각은 네 말이 된다,네 행은 네 행동이 된다,네 행동은 네 습관이 된다,네 행관은 네 가치가 된다,네 행치는 네 운명이 된다.\n",
            " 말음은 네 생각이 된다,네 행각은 네 말이 된다,네 행은 네 행동이 된다,네 행동은 네 습관이 된다,네 행관은 네 가치가 된다,네 행치는 네 운명이 된다.\n",
            " 말음은 네 생각이 된다,네 행각은 네 말이 된다,네 행은 네 행동이 된다,네 행동은 네 습관이 된다,네 행관은 네 가치가 된다,네 행치는 네 운명이 된다.\n",
            " 말음은 네 생각이 된다,네 행각은 네 말이 된다,네 행은 네 행동이 된다,네 행동은 네 습관이 된다,네 행관은 네 가치가 된다,네 행치는 네 운명이 된다.\n",
            " 말음은 네 생각이 된다,네 행각은 네 말이 된다,네 행은 네 행동이 된다,네 행동은 네 습관이 된다,네 행관은 네 가치가 된다,네 행치는 네 운명이 된다.\n",
            " 말음은 네 생각이 된다,네 행각은 네 말이 된다,네 행은 네 행동이 된다,네 행동은 네 습관이 된다,네 행관은 네 가치가 된다,네 행치는 네 운명이 된다.\n",
            " 말음은 네 생각이 된다,네 행각은 네 말이 된다,네 행은 네 행동이 된다,네 행동은 네 습관이 된다,네 행관은 네 가치가 된다,네 행치는 네 운명이 된다.\n",
            " 말음은 네 생각이 된다,네 행각은 네 말이 된다,네 행은 네 행동이 된다,네 행동은 네 습관이 된다,네 행관은 네 가치가 된다,네 행치는 네 운명이 된다.\n",
            " 말음은 네 생각이 된다,네 행각은 네 말이 된다,네 행은 네 행동이 된다,네 행동은 네 습관이 된다,네 행관은 네 가치가 된다,네 행치는 네 운명이 된다.\n",
            " 말음은 네 생각이 된다,네 행각은 네 말이 된다,네 행은 네 행동이 된다,네 행동은 네 습관이 된다,네 행관은 네 가치가 된다,네 행치는 네 운명이 된다.\n",
            " 말음은 네 생각이 된다,네 행각은 네 말이 된다,네 행은 네 행동이 된다,네 행동은 네 습관이 된다,네 행관은 네 가치가 된다,네 행치는 네 운명이 된다.\n",
            " 말음은 네 생각이 된다,네 행각은 네 말이 된다,네 행은 네 행동이 된다,네 행동은 네 습관이 된다,네 행관은 네 가치가 된다,네 행치는 네 운명이 된다.\n",
            " 말음은 네 생각이 된다,네 행각은 네 말이 된다,네 행은 네 행동이 된다,네 행동은 네 습관이 된다,네 행관은 네 가치가 된다,네 행치는 네 운명이 된다.\n",
            " 말음은 네 생각이 된다,네 행각은 네 말이 된다,네 행은 네 행동이 된다,네 행동은 네 습관이 된다,네 행관은 네 가치가 된다,네 행치는 네 운명이 된다.\n",
            " 말음은 네 생각이 된다,네 행각은 네 말이 된다,네 행은 네 행동이 된다,네 행동은 네 습관이 된다,네 행관은 네 가치가 된다,네 행치는 네 운명이 된다.\n",
            " 말음은 네 생각이 된다,네 행각은 네 말이 된다,네 행은 네 행동이 된다,네 행동은 네 습관이 된다,네 행관은 네 가치가 된다,네 행치는 네 운명이 된다.\n",
            " 말음은 네 생각이 된다,네 행각은 네 말이 된다,네 행은 네 행동이 된다,네 행동은 네 습관이 된다,네 행관은 네 가치가 된다,네 행치는 네 운명이 된다.\n",
            " 말음은 네 생각이 된다,네 행각은 네 말이 된다,네 행은 네 행동이 된다,네 행동은 네 습관이 된다,네 행관은 네 가치가 된다,네 행치는 네 운명이 된다.\n",
            " 말음은 네 생각이 된다,네 행각은 네 말이 된다,네 행은 네 행동이 된다,네 행동은 네 습관이 된다,네 행관은 네 가치가 된다,네 행치는 네 운명이 된다.\n",
            " 말음은 네 생각이 된다,네 행각은 네 말이 된다,네 행은 네 행동이 된다,네 행동은 네 습관이 된다,네 행관은 네 가치가 된다,네 행치는 네 운명이 된다.\n",
            " 말음은 네 생각이 된다,네 행각은 네 말이 된다,네 행은 네 행동이 된다,네 행동은 네 습관이 된다,네 행관은 네 가치가 된다,네 행치는 네 운명이 된다.\n",
            " 말음은 네 생각이 된다,네 행각은 네 말이 된다,네 행은 네 행동이 된다,네 행동은 네 습관이 된다,네 행관은 네 가치가 된다,네 행치는 네 운명이 된다.\n",
            " 말음은 네 생각이 된다,네 행각은 네 말이 된다,네 행은 네 행동이 된다,네 행동은 네 습관이 된다,네 행관은 네 가치가 된다,네 행치는 네 운명이 된다.\n",
            " 말음은 네 생각이 된다,네 행각은 네 말이 된다,네 행은 네 행동이 된다,네 행동은 네 습관이 된다,네 행관은 네 가치가 된다,네 행치는 네 운명이 된다.\n",
            " 말음은 네 생각이 된다,네 행각은 네 말이 된다,네 행은 네 행동이 된다,네 행동은 네 습관이 된다,네 행관은 네 가치가 된다,네 행치는 네 운명이 된다.\n",
            " 말음은 네 생각이 된다,네 행각은 네 말이 된다,네 행은 네 행동이 된다,네 행동은 네 습관이 된다,네 행관은 네 가치가 된다,네 행치는 네 운명이 된다.\n",
            " 말음은 네 생각이 된다,네 행각은 네 말이 된다,네 행은 네 행동이 된다,네 행동은 네 습관이 된다,네 행관은 네 가치가 된다,네 행치는 네 운명이 된다.\n",
            " 말음은 네 생각이 된다,네 행각은 네 말이 된다,네 행은 네 행동이 된다,네 행동은 네 습관이 된다,네 행관은 네 가치가 된다,네 행치는 네 운명이 된다.\n",
            " 말음은 네 생각이 된다,네 행각은 네 말이 된다,네 행은 네 행동이 된다,네 행동은 네 습관이 된다,네 행관은 네 가치가 된다,네 행치는 네 운명이 된다.\n",
            " 말음은 네 생각이 된다,네 행각은 네 말이 된다,네 행은 네 행동이 된다,네 행동은 네 습관이 된다,네 행관은 네 가치가 된다,네 행치는 네 운명이 된다.\n",
            " 말음은 네 생각이 된다,네 행각은 네 말이 된다,네 행은 네 행동이 된다,네 행동은 네 습관이 된다,네 행관은 네 가치가 된다,네 행치는 네 운명이 된다.\n",
            " 말음은 네 생각이 된다,네 행각은 네 말이 된다,네 행은 네 행동이 된다,네 행동은 네 습관이 된다,네 행관은 네 가치가 된다,네 행치는 네 운명이 된다.\n",
            " 말음은 네 생각이 된다,네 행각은 네 말이 된다,네 행은 네 행동이 된다,네 행동은 네 습관이 된다,네 행관은 네 가치가 된다,네 행치는 네 운명이 된다.\n",
            " 말음은 네 생각이 된다,네 행각은 네 말이 된다,네 행은 네 행동이 된다,네 행동은 네 습관이 된다,네 행관은 네 가치가 된다,네 행치는 네 운명이 된다.\n",
            " 말음은 네 생각이 된다,네 행각은 네 말이 된다,네 행은 네 행동이 된다,네 행동은 네 습관이 된다,네 행관은 네 가치가 된다,네 행치는 네 운명이 된다.\n",
            " 말음은 네 생각이 된다,네 행각은 네 말이 된다,네 행은 네 행동이 된다,네 행동은 네 습관이 된다,네 행관은 네 가치가 된다,네 행치는 네 운명이 된다.\n",
            " 말음은 네 생각이 된다,네 행각은 네 말이 된다,네 행은 네 행동이 된다,네 행동은 네 습관이 된다,네 행관은 네 가치가 된다,네 행치는 네 운명이 된다.\n",
            " 말음은 네 생각이 된다,네 행각은 네 말이 된다,네 행은 네 행동이 된다,네 행동은 네 습관이 된다,네 행관은 네 가치가 된다,네 행치는 네 운명이 된다.\n",
            " 말음은 네 생각이 된다,네 행각은 네 말이 된다,네 행은 네 행동이 된다,네 행동은 네 습관이 된다,네 행관은 네 가치가 된다,네 행치는 네 운명이 된다.\n",
            " 말음은 네 생각이 된다,네 행각은 네 말이 된다,네 행은 네 행동이 된다,네 행동은 네 습관이 된다,네 행관은 네 가치가 된다,네 행치는 네 운명이 된다.\n",
            " 말음은 네 생각이 된다,네 행각은 네 말이 된다,네 행은 네 행동이 된다,네 행동은 네 습관이 된다,네 행관은 네 가치가 된다,네 행치는 네 운명이 된다.\n",
            " 말음은 네 생각이 된다,네 행각은 네 말이 된다,네 행은 네 행동이 된다,네 행동은 네 습관이 된다,네 행관은 네 가치가 된다,네 행치는 네 운명이 된다.\n",
            " 말음은 네 생각이 된다,네 행각은 네 말이 된다,네 행은 네 행동이 된다,네 행동은 네 습관이 된다,네 행관은 네 가치가 된다,네 행치는 네 운명이 된다.\n",
            " 말음은 네 생각이 된다,네 행각은 네 말이 된다,네 행은 네 행동이 된다,네 행동은 네 습관이 된다,네 행관은 네 가치가 된다,네 행치는 네 운명이 된다.\n",
            " 말음은 네 생각이 된다,네 행각은 네 말이 된다,네 행은 네 행동이 된다,네 행동은 네 습관이 된다,네 행관은 네 가치가 된다,네 행치는 네 운명이 된다.\n",
            " 말음은 네 생각이 된다,네 행각은 네 말이 된다,네 행은 네 행동이 된다,네 행동은 네 습관이 된다,네 행관은 네 가치가 된다,네 행치는 네 운명이 된다.\n",
            " 말음은 네 생각이 된다,네 행각은 네 말이 된다,네 행은 네 행동이 된다,네 행동은 네 습관이 된다,네 행관은 네 가치가 된다,네 행치는 네 운명이 된다.\n",
            " 말음은 네 생각이 된다,네 행각은 네 말이 된다,네 행은 네 행동이 된다,네 행동은 네 습관이 된다,네 행관은 네 가치가 된다,네 행치는 네 운명이 된다.\n",
            " 말음은 네 생각이 된다,네 행각은 네 말이 된다,네 행은 네 행동이 된다,네 행동은 네 습관이 된다,네 행관은 네 가치가 된다,네 행치는 네 운명이 된다.\n",
            " 말음은 네 생각이 된다,네 행각은 네 말이 된다,네 행은 네 행동이 된다,네 행동은 네 습관이 된다,네 행관은 네 가치가 된다,네 행치는 네 운명이 된다.\n",
            " 말음은 네 생각이 된다,네 행각은 네 말이 된다,네 행은 네 행동이 된다,네 행동은 네 습관이 된다,네 행관은 네 가치가 된다,네 행치는 네 운명이 된다.\n",
            " 말음은 네 생각이 된다,네 행각은 네 말이 된다,네 행은 네 행동이 된다,네 행동은 네 습관이 된다,네 행관은 네 가치가 된다,네 행치는 네 운명이 된다.\n",
            " 말음은 네 생각이 된다,네 행각은 네 말이 된다,네 행은 네 행동이 된다,네 행동은 네 습관이 된다,네 행관은 네 가치가 된다,네 행치는 네 운명이 된다.\n",
            " 말음은 네 생각이 된다,네 행각은 네 말이 된다,네 행은 네 행동이 된다,네 행동은 네 습관이 된다,네 행관은 네 가치가 된다,네 행치는 네 운명이 된다.\n",
            " 말음은 네 생각이 된다,네 행각은 네 말이 된다,네 행은 네 행동이 된다,네 행동은 네 습관이 된다,네 행관은 네 가치가 된다,네 행치는 네 운명이 된다.\n",
            " 말음은 네 생각이 된다,네 행각은 네 말이 된다,네 행은 네 행동이 된다,네 행동은 네 습관이 된다,네 행관은 네 가치가 된다,네 행치는 네 운명이 된다.\n",
            " 말음은 네 생각이 된다,네 행각은 네 말이 된다,네 행은 네 행동이 된다,네 행동은 네 습관이 된다,네 행관은 네 가치가 된다,네 행치는 네 운명이 된다.\n",
            " 말음은 네 생각이 된다,네 행각은 네 말이 된다,네 행은 네 행동이 된다,네 행동은 네 습관이 된다,네 행관은 네 가치가 된다,네 행치는 네 운명이 된다.\n",
            " 말음은 네 생각이 된다,네 행각은 네 말이 된다,네 행은 네 행동이 된다,네 행동은 네 습관이 된다,네 행관은 네 가치가 된다,네 행치는 네 운명이 된다.\n",
            " 말음은 네 생각이 된다,네 행각은 네 말이 된다,네 행은 네 행동이 된다,네 행동은 네 습관이 된다,네 행관은 네 가치가 된다,네 행치는 네 운명이 된다.\n",
            " 말음은 네 생각이 된다,네 행각은 네 말이 된다,네 행은 네 행동이 된다,네 행동은 네 습관이 된다,네 행관은 네 가치가 된다,네 행치는 네 운명이 된다.\n",
            " 말음은 네 생각이 된다,네 행각은 네 말이 된다,네 행은 네 행동이 된다,네 행동은 네 습관이 된다,네 행관은 네 가치가 된다,네 행치는 네 운명이 된다.\n",
            " 말음은 네 생각이 된다,네 행각은 네 말이 된다,네 행은 네 행동이 된다,네 행동은 네 습관이 된다,네 행관은 네 가치가 된다,네 행치는 네 운명이 된다.\n",
            " 말음은 네 생각이 된다,네 행각은 네 말이 된다,네 행은 네 행동이 된다,네 행동은 네 습관이 된다,네 행관은 네 가치가 된다,네 행치는 네 운명이 된다.\n",
            " 말음은 네 생각이 된다,네 행각은 네 말이 된다,네 행은 네 행동이 된다,네 행동은 네 습관이 된다,네 행관은 네 가치가 된다,네 행치는 네 운명이 된다.\n",
            " 말음은 네 생각이 된다,네 행각은 네 말이 된다,네 행은 네 행동이 된다,네 행동은 네 습관이 된다,네 행관은 네 가치가 된다,네 행치는 네 운명이 된다.\n",
            " 말음은 네 생각이 된다,네 행각은 네 말이 된다,네 행은 네 행동이 된다,네 행동은 네 습관이 된다,네 행관은 네 가치가 된다,네 행치는 네 운명이 된다.\n",
            " 말음은 네 생각이 된다,네 행각은 네 말이 된다,네 행은 네 행동이 된다,네 행동은 네 습관이 된다,네 행관은 네 가치가 된다,네 행치는 네 운명이 된다.\n",
            " 말음은 네 생각이 된다,네 행각은 네 말이 된다,네 행은 네 행동이 된다,네 행동은 네 습관이 된다,네 행관은 네 가치가 된다,네 행치는 네 운명이 된다.\n",
            " 말음은 네 생각이 된다,네 행각은 네 말이 된다,네 행은 네 행동이 된다,네 행동은 네 습관이 된다,네 행관은 네 가치가 된다,네 행치는 네 운명이 된다.\n",
            " 말음은 네 생각이 된다,네 행각은 네 말이 된다,네 행은 네 행동이 된다,네 행동은 네 습관이 된다,네 행관은 네 가치가 된다,네 행치는 네 운명이 된다.\n",
            " 말음은 네 생각이 된다,네 행각은 네 말이 된다,네 행은 네 행동이 된다,네 행동은 네 습관이 된다,네 행관은 네 가치가 된다,네 행치는 네 운명이 된다.\n",
            " 말음은 네 생각이 된다,네 행각은 네 말이 된다,네 행은 네 행동이 된다,네 행동은 네 습관이 된다,네 행관은 네 가치가 된다,네 행치는 네 운명이 된다.\n",
            " 말음은 네 생각이 된다,네 행각은 네 말이 된다,네 행은 네 행동이 된다,네 행동은 네 습관이 된다,네 행관은 네 가치가 된다,네 행치는 네 운명이 된다.\n",
            " 말음은 네 생각이 된다,네 행각은 네 말이 된다,네 행은 네 행동이 된다,네 행동은 네 습관이 된다,네 행관은 네 가치가 된다,네 행치는 네 운명이 된다.\n",
            " 말음은 네 생각이 된다,네 행각은 네 말이 된다,네 행은 네 행동이 된다,네 행동은 네 습관이 된다,네 행관은 네 가치가 된다,네 행치는 네 운명이 된다.\n",
            " 말음은 네 생각이 된다,네 행각은 네 말이 된다,네 행은 네 행동이 된다,네 행동은 네 습관이 된다,네 행관은 네 가치가 된다,네 행치는 네 운명이 된다.\n",
            " 말음은 네 생각이 된다,네 행각은 네 말이 된다,네 행은 네 행동이 된다,네 행동은 네 습관이 된다,네 행관은 네 가치가 된다,네 행치는 네 운명이 된다.\n",
            " 말음은 네 생각이 된다,네 행각은 네 말이 된다,네 행은 네 행동이 된다,네 행동은 네 습관이 된다,네 행관은 네 가치가 된다,네 행치는 네 운명이 된다.\n",
            " 말음은 네 생각이 된다,네 행각은 네 말이 된다,네 행은 네 행동이 된다,네 행동은 네 습관이 된다,네 행관은 네 가치가 된다,네 행치는 네 운명이 된다.\n",
            " 말음은 네 생각이 된다,네 행각은 네 말이 된다,네 행은 네 행동이 된다,네 행동은 네 습관이 된다,네 행관은 네 가치가 된다,네 행치는 네 운명이 된다.\n",
            " 말음은 네 생각이 된다,네 행각은 네 말이 된다,네 행은 네 행동이 된다,네 행동은 네 습관이 된다,네 행관은 네 가치가 된다,네 행치는 네 운명이 된다.\n",
            " 말음은 네 생각이 된다,네 행각은 네 말이 된다,네 행은 네 행동이 된다,네 행동은 네 습관이 된다,네 행관은 네 가치가 된다,네 행치는 네 운명이 된다.\n",
            " 말음은 네 생각이 된다,네 행각은 네 말이 된다,네 행은 네 행동이 된다,네 행동은 네 습관이 된다,네 행관은 네 가치가 된다,네 행치는 네 운명이 된다.\n",
            " 말음은 네 생각이 된다,네 행각은 네 말이 된다,네 행은 네 행동이 된다,네 행동은 네 습관이 된다,네 행관은 네 가치가 된다,네 행치는 네 운명이 된다.\n",
            " 말음은 네 생각이 된다,네 행각은 네 말이 된다,네 행은 네 행동이 된다,네 행동은 네 습관이 된다,네 행관은 네 가치가 된다,네 행치는 네 운명이 된다.\n",
            " 말음은 네 생각이 된다,네 행각은 네 말이 된다,네 행은 네 행동이 된다,네 행동은 네 습관이 된다,네 행관은 네 가치가 된다,네 행치는 네 운명이 된다.\n",
            " 말음은 네 생각이 된다,네 행각은 네 말이 된다,네 행은 네 행동이 된다,네 행동은 네 습관이 된다,네 행관은 네 가치가 된다,네 행치는 네 운명이 된다.\n",
            " 말음은 네 생각이 된다,네 행각은 네 말이 된다,네 행은 네 행동이 된다,네 행동은 네 습관이 된다,네 행관은 네 가치가 된다,네 행치는 네 운명이 된다.\n",
            " 말음은 네 생각이 된다,네 행각은 네 말이 된다,네 행은 네 행동이 된다,네 행동은 네 습관이 된다,네 행관은 네 가치가 된다,네 행치는 네 운명이 된다.\n",
            " 말음은 네 생각이 된다,네 행각은 네 말이 된다,네 행은 네 행동이 된다,네 행동은 네 습관이 된다,네 행관은 네 가치가 된다,네 행치는 네 운명이 된다.\n",
            " 말음은 네 생각이 된다,네 행각은 네 말이 된다,네 행은 네 행동이 된다,네 행동은 네 습관이 된다,네 행관은 네 가치가 된다,네 행치는 네 운명이 된다.\n",
            " 말음은 네 생각이 된다,네 행각은 네 말이 된다,네 행은 네 행동이 된다,네 행동은 네 습관이 된다,네 행관은 네 가치가 된다,네 행치는 네 운명이 된다.\n",
            " 말음은 네 생각이 된다,네 행각은 네 말이 된다,네 행은 네 행동이 된다,네 행동은 네 습관이 된다,네 행관은 네 가치가 된다,네 행치는 네 운명이 된다.\n",
            " 말음은 네 생각이 된다,네 행각은 네 말이 된다,네 행은 네 행동이 된다,네 행동은 네 습관이 된다,네 행관은 네 가치가 된다,네 행치는 네 운명이 된다.\n",
            " 말음은 네 생각이 된다,네 행각은 네 말이 된다,네 행은 네 행동이 된다,네 행동은 네 습관이 된다,네 행관은 네 가치가 된다,네 행치는 네 운명이 된다.\n",
            " 말음은 네 생각이 된다,네 행각은 네 말이 된다,네 행은 네 행동이 된다,네 행동은 네 습관이 된다,네 행관은 네 가치가 된다,네 행치는 네 운명이 된다.\n",
            " 말음은 네 생각이 된다,네 행각은 네 말이 된다,네 행은 네 행동이 된다,네 행동은 네 습관이 된다,네 행관은 네 가치가 된다,네 행치는 네 운명이 된다.\n",
            " 말음은 네 생각이 된다,네 행각은 네 말이 된다,네 행은 네 행동이 된다,네 행동은 네 습관이 된다,네 행관은 네 가치가 된다,네 행치는 네 운명이 된다.\n",
            " 말음은 네 생각이 된다,네 행각은 네 말이 된다,네 행은 네 행동이 된다,네 행동은 네 습관이 된다,네 행관은 네 가치가 된다,네 행치는 네 운명이 된다.\n",
            " 말음은 네 생각이 된다,네 행각은 네 말이 된다,네 행은 네 행동이 된다,네 행동은 네 습관이 된다,네 행관은 네 가치가 된다,네 행치는 네 운명이 된다.\n",
            " 말음은 네 생각이 된다,네 행각은 네 말이 된다,네 행은 네 행동이 된다,네 행동은 네 습관이 된다,네 행관은 네 가치가 된다,네 행치는 네 운명이 된다.\n",
            " 말음은 네 생각이 된다,네 행각은 네 말이 된다,네 행은 네 행동이 된다,네 행동은 네 습관이 된다,네 행관은 네 가치가 된다,네 행치는 네 운명이 된다.\n",
            " 말음은 네 생각이 된다,네 행각은 네 말이 된다,네 행은 네 행동이 된다,네 행동은 네 습관이 된다,네 행관은 네 가치가 된다,네 행치는 네 운명이 된다.\n",
            " 말음은 네 생각이 된다,네 행각은 네 말이 된다,네 행은 네 행동이 된다,네 행동은 네 습관이 된다,네 행관은 네 가치가 된다,네 행치는 네 운명이 된다.\n",
            " 말음은 네 생각이 된다,네 행각은 네 말이 된다,네 행은 네 행동이 된다,네 행동은 네 습관이 된다,네 행관은 네 가치가 된다,네 행치는 네 운명이 된다.\n",
            " 말음은 네 생각이 된다,네 행각은 네 말이 된다,네 행은 네 행동이 된다,네 행동은 네 습관이 된다,네 행관은 네 가치가 된다,네 행치는 네 운명이 된다.\n",
            " 말음은 네 생각이 된다,네 행각은 네 말이 된다,네 행은 네 행동이 된다,네 행동은 네 습관이 된다,네 행관은 네 가치가 된다,네 행치는 네 운명이 된다.\n",
            " 말음은 네 생각이 된다,네 행각은 네 말이 된다,네 행은 네 행동이 된다,네 행동은 네 습관이 된다,네 행관은 네 가치가 된다,네 행치는 네 운명이 된다.\n",
            " 말음은 네 생각이 된다,네 행각은 네 말이 된다,네 행은 네 행동이 된다,네 행동은 네 습관이 된다,네 행관은 네 가치가 된다,네 행치는 네 운명이 된다.\n",
            " 말음은 네 생각이 된다,네 행각은 네 말이 된다,네 행은 네 행동이 된다,네 행동은 네 습관이 된다,네 행관은 네 가치가 된다,네 행치는 네 운명이 된다.\n",
            " 말음은 네 생각이 된다,네 행각은 네 말이 된다,네 행은 네 행동이 된다,네 행동은 네 습관이 된다,네 행관은 네 가치가 된다,네 행치는 네 운명이 된다.\n",
            " 말음은 네 생각이 된다,네 행각은 네 말이 된다,네 행은 네 행동이 된다,네 행동은 네 습관이 된다,네 행관은 네 가치가 된다,네 행치는 네 운명이 된다.\n",
            " 말음은 네 생각이 된다,네 행각은 네 말이 된다,네 행은 네 행동이 된다,네 행동은 네 습관이 된다,네 행관은 네 가치가 된다,네 행치는 네 운명이 된다.\n",
            " 말음은 네 생각이 된다,네 행각은 네 말이 된다,네 행은 네 행동이 된다,네 행동은 네 습관이 된다,네 행관은 네 가치가 된다,네 행치는 네 운명이 된다.\n",
            " 말음은 네 생각이 된다,네 행각은 네 말이 된다,네 행은 네 행동이 된다,네 행동은 네 습관이 된다,네 행관은 네 가치가 된다,네 행치는 네 운명이 된다.\n",
            " 말음은 네 생각이 된다,네 행각은 네 말이 된다,네 행은 네 행동이 된다,네 행동은 네 습관이 된다,네 행관은 네 가치가 된다,네 행치는 네 운명이 된다.\n",
            " 말음은 네 생각이 된다,네 행각은 네 말이 된다,네 행은 네 행동이 된다,네 행동은 네 습관이 된다,네 행관은 네 가치가 된다,네 행치는 네 운명이 된다.\n",
            " 말음은 네 생각이 된다,네 행각은 네 말이 된다,네 행은 네 행동이 된다,네 행동은 네 습관이 된다,네 행관은 네 가치가 된다,네 행치는 네 운명이 된다.\n",
            " 말음은 네 생각이 된다,네 행각은 네 말이 된다,네 행은 네 행동이 된다,네 행동은 네 습관이 된다,네 행관은 네 가치가 된다,네 행치는 네 운명이 된다.\n",
            " 말음은 네 생각이 된다,네 행각은 네 말이 된다,네 행은 네 행동이 된다,네 행동은 네 습관이 된다,네 행관은 네 가치가 된다,네 행치는 네 운명이 된다.\n",
            " 말음은 네 생각이 된다,네 행각은 네 말이 된다,네 행은 네 행동이 된다,네 행동은 네 습관이 된다,네 행관은 네 가치가 된다,네 행치는 네 운명이 된다.\n",
            " 말음은 네 생각이 된다,네 행각은 네 말이 된다,네 행은 네 행동이 된다,네 행동은 네 습관이 된다,네 행관은 네 가치가 된다,네 행치는 네 운명이 된다.\n",
            " 말음은 네 생각이 된다,네 행각은 네 말이 된다,네 행은 네 행동이 된다,네 행동은 네 습관이 된다,네 행관은 네 가치가 된다,네 행치는 네 운명이 된다.\n",
            " 말음은 네 생각이 된다,네 행각은 네 말이 된다,네 행은 네 행동이 된다,네 행동은 네 습관이 된다,네 행관은 네 가치가 된다,네 행치는 네 운명이 된다.\n",
            " 말음은 네 생각이 된다,네 행각은 네 말이 된다,네 행은 네 행동이 된다,네 행동은 네 습관이 된다,네 행관은 네 가치가 된다,네 행치는 네 운명이 된다.\n",
            " 말음은 네 생각이 된다,네 행각은 네 말이 된다,네 행은 네 행동이 된다,네 행동은 네 습관이 된다,네 행관은 네 가치가 된다,네 행치는 네 운명이 된다.\n",
            " 말음은 네 생각이 된다,네 행각은 네 말이 된다,네 행은 네 행동이 된다,네 행동은 네 습관이 된다,네 행관은 네 가치가 된다,네 행치는 네 운명이 된다.\n",
            " 말음은 네 생각이 된다,네 행각은 네 말이 된다,네 행은 네 행동이 된다,네 행동은 네 습관이 된다,네 행관은 네 가치가 된다,네 행치는 네 운명이 된다.\n",
            " 말음은 네 생각이 된다,네 행각은 네 말이 된다,네 행은 네 행동이 된다,네 행동은 네 습관이 된다,네 행관은 네 가치가 된다,네 행치는 네 운명이 된다.\n",
            " 말음은 네 생각이 된다,네 행각은 네 말이 된다,네 행은 네 행동이 된다,네 행동은 네 습관이 된다,네 행관은 네 가치가 된다,네 행치는 네 운명이 된다.\n",
            " 말음은 네 생각이 된다,네 행각은 네 말이 된다,네 행은 네 행동이 된다,네 행동은 네 습관이 된다,네 행관은 네 가치가 된다,네 행치는 네 운명이 된다.\n",
            " 말음은 네 생각이 된다,네 행각은 네 말이 된다,네 행은 네 행동이 된다,네 행동은 네 습관이 된다,네 행관은 네 가치가 된다,네 행치는 네 운명이 된다.\n",
            " 말음은 네 생각이 된다,네 행각은 네 말이 된다,네 행은 네 행동이 된다,네 행동은 네 습관이 된다,네 행관은 네 가치가 된다,네 행치는 네 운명이 된다.\n",
            " 말음은 네 생각이 된다,네 행각은 네 말이 된다,네 행은 네 행동이 된다,네 행동은 네 습관이 된다,네 행관은 네 가치가 된다,네 행치는 네 운명이 된다.\n",
            " 행음은 네 생각이 된다,네 행각은 네 말이 된다,네 행은 네 행동이 된다,네 행동은 네 습관이 된다,네 행관은 네 가치가 된다,네 행치는 네 운명이 된다.\n",
            " 말음은 네 생각이 된다,네 행각은 네 말이 된다,네 행은 네 행동이 된다,네 행동은 네 습관이 된다,네 행관은 네 가치가 된다,네 행치는 네 운명이 된다.\n",
            " 행음은 네 생각이 된다,네 행각은 네 말이 된다,네 행은 네 행동이 된다,네 행동은 네 습관이 된다,네 행관은 네 가치가 된다,네 행치는 네 운명이 된다.\n",
            " 말음은 네 생각이 된다,네 행각은 네 말이 된다,네 행은 네 행동이 된다,네 행동은 네 습관이 된다,네 행관은 네 가치가 된다,네 행치는 네 운명이 된다.\n",
            " 말음은 네 생각이 된다,네 행각은 네 말이 된다,네 행은 네 행동이 된다,네 행동은 네 습관이 된다,네 행관은 네 가치가 된다,네 행치는 네 운명이 된다.\n",
            " 말음은 네 생각이 된다,네 행각은 네 말이 된다,네 행은 네 행동이 된다,네 행동은 네 습관이 된다,네 행관은 네 가치가 된다,네 행치는 네 운명이 된다.\n",
            " 말음은 네 생각이 된다,네 행각은 네 말이 된다,네 행은 네 행동이 된다,네 행동은 네 습관이 된다,네 행관은 네 가치가 된다,네 행치는 네 운명이 된다.\n",
            " 말음은 네 생각이 된다,네 행각은 네 말이 된다,네 행은 네 행동이 된다,네 행동은 네 습관이 된다,네 행관은 네 가치가 된다,네 행치는 네 운명이 된다.\n",
            " 말음은 네 생각이 된다,네 행각은 네 말이 된다,네 행은 네 행동이 된다,네 행동은 네 습관이 된다,네 행관은 네 가치가 된다,네 행치는 네 운명이 된다.\n",
            " 말음은 네 생각이 된다,네 행각은 네 말이 된다,네 행은 네 행동이 된다,네 행동은 네 습관이 된다,네 행관은 네 가치가 된다,네 행치는 네 운명이 된다.\n",
            " 말음은 네 생각이 된다,네 행각은 네 말이 된다,네 행은 네 행동이 된다,네 행동은 네 습관이 된다,네 행관은 네 가치가 된다,네 행치는 네 운명이 된다.\n",
            " 말음은 네 생각이 된다,네 행각은 네 말이 된다,네 행은 네 행동이 된다,네 행동은 네 습관이 된다,네 행관은 네 가치가 된다,네 행치는 네 운명이 된다.\n",
            " 생음은 네 생각이 된다,네 행각은 네 말이 된다,네 행은 네 행동이 된다,네 행동은 네 습관이 된다,네 행관은 네 가치가 된다,네 행치는 네 운명이 된다.\n",
            " 말음은 네 생각이 된다,네 행각은 네 말이 된다,네 행은 네 행동이 된다,네 행동은 네 습관이 된다,네 행관은 네 가치가 된다,네 행치는 네 운명이 된다.\n",
            " 말음은 네 생각이 된다,네 행각은 네 말이 된다,네 행은 네 행동이 된다,네 행동은 네 습관이 된다,네 행관은 네 가치가 된다,네 행치는 네 운명이 된다.\n",
            " 습음은 네 생각이 된다,네 행각은 네 말이 된다,네 행은 네 행동이 된다,네 행동은 네 습관이 된다,네 행관은 네 가치가 된다,네 행치는 네 운명이 된다.\n",
            " 말음은 네 생각이 된다,네 행각은 네 말이 된다,네 행은 네 행동이 된다,네 행동은 네 습관이 된다,네 행관은 네 가치가 된다,네 행치는 네 운명이 된다.\n",
            " 말음은 네 생각이 된다,네 행각은 네 말이 된다,네 행은 네 행동이 된다,네 행동은 네 습관이 된다,네 행관은 네 가치가 된다,네 행치는 네 운명이 된다.\n",
            " 습음은 네 생각이 된다,네 행각은 네 말이 된다,네 행은 네 행동이 된다,네 행동은 네 습관이 된다,네 행관은 네 가치가 된다,네 행치는 네 운명이 된다.\n",
            " 습음은 네 생각이 된다,네 행각은 네 말이 된다,네 행은 네 행동이 된다,네 행동은 네 습관이 된다,네 행관은 네 가치가 된다,네 행치는 네 운명이 된다.\n",
            " 말음은 네 생각이 된다,네 행각은 네 말이 된다,네 행은 네 행동이 된다,네 행동은 네 습관이 된다,네 행관은 네 가치가 된다,네 행치는 네 운명이 된다.\n",
            " 말음은 네 생각이 된다,네 행각은 네 말이 된다,네 행은 네 행동이 된다,네 행동은 네 습관이 된다,네 행관은 네 가치가 된다,네 행치는 네 운명이 된다.\n",
            " 습음은 네 생각이 된다,네 행각은 네 말이 된다,네 행은 네 행동이 된다,네 행동은 네 습관이 된다,네 행관은 네 가치가 된다,네 행치는 네 운명이 된다.\n",
            " 말음은 네 생각이 된다,네 행각은 네 말이 된다,네 행은 네 행동이 된다,네 행동은 네 습관이 된다,네 행관은 네 가치가 된다,네 행치는 네 운명이 된다.\n",
            " 말음은 네 생각이 된다,네 행각은 네 말이 된다,네 행은 네 행동이 된다,네 행동은 네 습관이 된다,네 행관은 네 가치가 된다,네 행치는 네 운명이 된다.\n",
            " 습음은 네 생각이 된다,네 행각은 네 말이 된다,네 행은 네 행동이 된다,네 행동은 네 습관이 된다,네 행관은 네 가치가 된다,네 행치는 네 운명이 된다.\n",
            " 말음은 네 생각이 된다,네 행각은 네 말이 된다,네 행은 네 행동이 된다,네 행동은 네 습관이 된다,네 행관은 네 가치가 된다,네 행치는 네 운명이 된다.\n",
            " 말음은 네 생각이 된다,네 행각은 네 말이 된다,네 행은 네 행동이 된다,네 행동은 네 습관이 된다,네 행관은 네 가치가 된다,네 행치는 네 운명이 된다.\n",
            " 습음은 네 생각이 된다,네 행각은 네 말이 된다,네 행은 네 행동이 된다,네 행동은 네 습관이 된다,네 행관은 네 가치가 된다,네 행치는 네 운명이 된다.\n",
            " 습음은 네 생각이 된다,네 행각은 네 말이 된다,네 행은 네 행동이 된다,네 행동은 네 습관이 된다,네 행관은 네 가치가 된다,네 행치는 네 운명이 된다.\n",
            " 말음은 네 생각이 된다,네 행각은 네 말이 된다,네 행은 네 행동이 된다,네 행동은 네 습관이 된다,네 행관은 네 가치가 된다,네 행치는 네 운명이 된다.\n",
            " 습음은 네 생각이 된다,네 행각은 네 말이 된다,네 행은 네 행동이 된다,네 행동은 네 습관이 된다,네 행관은 네 가치가 된다,네 행치는 네 운명이 된다.\n",
            " 말음은 네 생각이 된다,네 행각은 네 말이 된다,네 행은 네 행동이 된다,네 행동은 네 습관이 된다,네 행관은 네 가치가 된다,네 행치는 네 운명이 된다.\n",
            " 말음은 네 생각이 된다,네 행각은 네 말이 된다,네 행은 네 행동이 된다,네 행동은 네 습관이 된다,네 행관은 네 가치가 된다,네 행치는 네 운명이 된다.\n",
            " 습음은 네 생각이 된다,네 행각은 네 말이 된다,네 행은 네 행동이 된다,네 행동은 네 습관이 된다,네 행관은 네 가치가 된다,네 행치는 네 운명이 된다.\n",
            " 말음은 네 생각이 된다,네 행각은 네 말이 된다,네 행은 네 행동이 된다,네 행동은 네 습관이 된다,네 행관은 네 가치가 된다,네 행치는 네 운명이 된다.\n",
            " 말음은 네 생각이 된다,네 행각은 네 말이 된다,네 행은 네 행동이 된다,네 행동은 네 습관이 된다,네 행관은 네 가치가 된다,네 행치는 네 운명이 된다.\n",
            " 말음은 네 생각이 된다,네 행각은 네 말이 된다,네 행은 네 행동이 된다,네 행동은 네 습관이 된다,네 행관은 네 가치가 된다,네 행치는 네 운명이 된다.\n",
            " 말음은 네 생각이 된다,네 행각은 네 말이 된다,네 행은 네 행동이 된다,네 행동은 네 습관이 된다,네 행관은 네 가치가 된다,네 행치는 네 운명이 된다.\n",
            " 말음은 네 생각이 된다,네 행각은 네 말이 된다,네 행은 네 행동이 된다,네 행동은 네 습관이 된다,네 행관은 네 가치가 된다,네 행치는 네 운명이 된다.\n",
            " 말음은 네 생각이 된다,네 행각은 네 말이 된다,네 행은 네 행동이 된다,네 행동은 네 습관이 된다,네 행관은 네 가치가 된다,네 행치는 네 운명이 된다.\n",
            " 말음은 네 생각이 된다,네 행각은 네 말이 된다,네 행은 네 행동이 된다,네 행동은 네 습관이 된다,네 행관은 네 가치가 된다,네 행치는 네 운명이 된다.\n",
            " 말음은 네 생각이 된다,네 행각은 네 말이 된다,네 행은 네 행동이 된다,네 행동은 네 습관이 된다,네 행관은 네 가치가 된다,네 행치는 네 운명이 된다.\n",
            " 말음은 네 생각이 된다,네 행각은 네 말이 된다,네 행은 네 행동이 된다,네 행동은 네 습관이 된다,네 행관은 네 가치가 된다,네 행치는 네 운명이 된다.\n",
            " 말음은 네 생각이 된다,네 행각은 네 말이 된다,네 행은 네 행동이 된다,네 행동은 네 습관이 된다,네 행관은 네 가치가 된다,네 행치는 네 운명이 된다.\n",
            " 말음은 네 생각이 된다,네 행각은 네 말이 된다,네 행은 네 행동이 된다,네 행동은 네 습관이 된다,네 행관은 네 가치가 된다,네 행치는 네 운명이 된다.\n",
            " 말음은 네 생각이 된다,네 행각은 네 말이 된다,네 행은 네 행동이 된다,네 행동은 네 습관이 된다,네 행관은 네 가치가 된다,네 행치는 네 운명이 된다.\n",
            " 말음은 네 생각이 된다,네 행각은 네 말이 된다,네 행은 네 행동이 된다,네 행동은 네 습관이 된다,네 행관은 네 가치가 된다,네 행치는 네 운명이 된다.\n",
            " 말음은 네 생각이 된다,네 행각은 네 말이 된다,네 행은 네 행동이 된다,네 행동은 네 습관이 된다,네 행관은 네 가치가 된다,네 행치는 네 운명이 된다.\n",
            " 말음은 네 생각이 된다,네 행각은 네 말이 된다,네 행은 네 행동이 된다,네 행동은 네 습관이 된다,네 행관은 네 가치가 된다,네 행치는 네 운명이 된다.\n",
            " 말음은 네 생각이 된다,네 행각은 네 말이 된다,네 행은 네 행동이 된다,네 행동은 네 습관이 된다,네 행관은 네 가치가 된다,네 행치는 네 운명이 된다.\n",
            " 말음은 네 생각이 된다,네 행각은 네 말이 된다,네 행은 네 행동이 된다,네 행동은 네 습관이 된다,네 행관은 네 가치가 된다,네 행치는 네 운명이 된다.\n",
            " 말음은 네 생각이 된다,네 행각은 네 말이 된다,네 행은 네 행동이 된다,네 행동은 네 습관이 된다,네 행관은 네 가치가 된다,네 행치는 네 운명이 된다.\n",
            " 말음은 네 생각이 된다,네 행각은 네 말이 된다,네 행은 네 행동이 된다,네 행동은 네 습관이 된다,네 행관은 네 가치가 된다,네 행치는 네 운명이 된다.\n",
            " 말음은 네 생각이 된다,네 행각은 네 말이 된다,네 행은 네 행동이 된다,네 행동은 네 습관이 된다,네 행관은 네 가치가 된다,네 행치는 네 운명이 된다.\n",
            " 말음은 네 생각이 된다,네 행각은 네 말이 된다,네 행은 네 행동이 된다,네 행동은 네 습관이 된다,네 행관은 네 가치가 된다,네 행치는 네 운명이 된다.\n",
            " 말음은 네 생각이 된다,네 행각은 네 말이 된다,네 행은 네 행동이 된다,네 행동은 네 습관이 된다,네 행관은 네 가치가 된다,네 행치는 네 운명이 된다.\n",
            " 말음은 네 생각이 된다,네 행각은 네 말이 된다,네 행은 네 행동이 된다,네 행동은 네 습관이 된다,네 행관은 네 가치가 된다,네 행치는 네 운명이 된다.\n",
            " 말음은 네 생각이 된다,네 행각은 네 말이 된다,네 행은 네 행동이 된다,네 행동은 네 습관이 된다,네 행관은 네 가치가 된다,네 행치는 네 운명이 된다.\n",
            " 말음은 네 생각이 된다,네 행각은 네 말이 된다,네 행은 네 행동이 된다,네 행동은 네 습관이 된다,네 행관은 네 가치가 된다,네 행치는 네 운명이 된다.\n",
            " 말음은 네 생각이 된다,네 행각은 네 말이 된다,네 행은 네 행동이 된다,네 행동은 네 습관이 된다,네 행관은 네 가치가 된다,네 행치는 네 운명이 된다.\n",
            " 말음은 네 생각이 된다,네 행각은 네 말이 된다,네 행은 네 행동이 된다,네 행동은 네 습관이 된다,네 행관은 네 가치가 된다,네 행치는 네 운명이 된다.\n",
            " 말음은 네 생각이 된다,네 행각은 네 말이 된다,네 행은 네 행동이 된다,네 행동은 네 습관이 된다,네 행관은 네 가치가 된다,네 행치는 네 운명이 된다.\n",
            " 말음은 네 생각이 된다,네 행각은 네 말이 된다,네 행은 네 행동이 된다,네 행동은 네 습관이 된다,네 행관은 네 가치가 된다,네 행치는 네 운명이 된다.\n",
            " 말음은 네 생각이 된다,네 행각은 네 말이 된다,네 행은 네 행동이 된다,네 행동은 네 습관이 된다,네 행관은 네 가치가 된다,네 행치는 네 운명이 된다.\n",
            " 말음은 네 생각이 된다,네 행각은 네 말이 된다,네 행은 네 행동이 된다,네 행동은 네 습관이 된다,네 행관은 네 가치가 된다,네 행치는 네 운명이 된다.\n",
            " 말음은 네 생각이 된다,네 행각은 네 말이 된다,네 행은 네 행동이 된다,네 행동은 네 습관이 된다,네 행관은 네 가치가 된다,네 행치는 네 운명이 된다.\n",
            " 말음은 네 생각이 된다,네 행각은 네 말이 된다,네 행은 네 행동이 된다,네 행동은 네 습관이 된다,네 행관은 네 가치가 된다,네 행치는 네 운명이 된다.\n",
            " 말음은 네 생각이 된다,네 행각은 네 말이 된다,네 행은 네 행동이 된다,네 행동은 네 습관이 된다,네 행관은 네 가치가 된다,네 행치는 네 운명이 된다.\n",
            " 말음은 네 생각이 된다,네 행각은 네 말이 된다,네 행은 네 행동이 된다,네 행동은 네 습관이 된다,네 행관은 네 가치가 된다,네 행치는 네 운명이 된다.\n",
            " 말음은 네 생각이 된다,네 행각은 네 말이 된다,네 행은 네 행동이 된다,네 행동은 네 습관이 된다,네 행관은 네 가치가 된다,네 행치는 네 운명이 된다.\n",
            " 말음은 네 생각이 된다,네 행각은 네 말이 된다,네 행은 네 행동이 된다,네 행동은 네 습관이 된다,네 행관은 네 가치가 된다,네 행치는 네 운명이 된다.\n",
            " 말음은 네 생각이 된다,네 행각은 네 말이 된다,네 행은 네 행동이 된다,네 행동은 네 습관이 된다,네 행관은 네 가치가 된다,네 행치는 네 운명이 된다.\n",
            " 말음은 네 생각이 된다,네 행각은 네 말이 된다,네 행은 네 행동이 된다,네 행동은 네 습관이 된다,네 행관은 네 가치가 된다,네 행치는 네 운명이 된다.\n",
            " 말음은 네 생각이 된다,네 행각은 네 말이 된다,네 행은 네 행동이 된다,네 행동은 네 습관이 된다,네 행관은 네 가치가 된다,네 행치는 네 운명이 된다.\n",
            " 말음은 네 생각이 된다,네 행각은 네 말이 된다,네 행은 네 행동이 된다,네 행동은 네 습관이 된다,네 행관은 네 가치가 된다,네 행치는 네 운명이 된다.\n",
            " 말음은 네 생각이 된다,네 행각은 네 말이 된다,네 행은 네 행동이 된다,네 행동은 네 습관이 된다,네 행관은 네 가치가 된다,네 행치는 네 운명이 된다.\n",
            " 말음은 네 생각이 된다,네 행각은 네 말이 된다,네 행은 네 행동이 된다,네 행동은 네 습관이 된다,네 행관은 네 가치가 된다,네 행치는 네 운명이 된다.\n",
            " 말음은 네 생각이 된다,네 행각은 네 말이 된다,네 행은 네 행동이 된다,네 행동은 네 습관이 된다,네 행관은 네 가치가 된다,네 행치는 네 운명이 된다.\n",
            " 말음은 네 생각이 된다,네 행각은 네 말이 된다,네 행은 네 행동이 된다,네 행동은 네 습관이 된다,네 행관은 네 가치가 된다,네 행치는 네 운명이 된다.\n",
            " 말음은 네 생각이 된다,네 행각은 네 말이 된다,네 행은 네 행동이 된다,네 행동은 네 습관이 된다,네 행관은 네 가치가 된다,네 행치는 네 운명이 된다.\n",
            " 말음은 네 생각이 된다,네 행각은 네 말이 된다,네 행은 네 행동이 된다,네 행동은 네 습관이 된다,네 행관은 네 가치가 된다,네 행치는 네 운명이 된다.\n",
            " 말음은 네 생각이 된다,네 행각은 네 말이 된다,네 행은 네 행동이 된다,네 행동은 네 습관이 된다,네 행관은 네 가치가 된다,네 행치는 네 운명이 된다.\n",
            " 말음은 네 생각이 된다,네 행각은 네 말이 된다,네 행은 네 행동이 된다,네 행동은 네 습관이 된다,네 행관은 네 가치가 된다,네 행치는 네 운명이 된다.\n",
            " 말음은 네 생각이 된다,네 행각은 네 말이 된다,네 행은 네 행동이 된다,네 행동은 네 습관이 된다,네 행관은 네 가치가 된다,네 행치는 네 운명이 된다.\n",
            " 말음은 네 생각이 된다,네 행각은 네 말이 된다,네 행은 네 행동이 된다,네 행동은 네 습관이 된다,네 행관은 네 가치가 된다,네 행치는 네 운명이 된다.\n",
            " 말음은 네 생각이 된다,네 행각은 네 말이 된다,네 행은 네 행동이 된다,네 행동은 네 습관이 된다,네 행관은 네 가치가 된다,네 행치는 네 운명이 된다.\n",
            " 말음은 네 생각이 된다,네 행각은 네 말이 된다,네 행은 네 행동이 된다,네 행동은 네 습관이 된다,네 행관은 네 가치가 된다,네 행치는 네 운명이 된다.\n",
            " 말음은 네 생각이 된다,네 행각은 네 말이 된다,네 행은 네 행동이 된다,네 행동은 네 습관이 된다,네 행관은 네 가치가 된다,네 행치는 네 운명이 된다.\n",
            " 말음은 네 생각이 된다,네 행각은 네 말이 된다,네 행은 네 행동이 된다,네 행동은 네 습관이 된다,네 행관은 네 가치가 된다,네 행치는 네 운명이 된다.\n",
            " 말음은 네 생각이 된다,네 행각은 네 말이 된다,네 행은 네 행동이 된다,네 행동은 네 습관이 된다,네 행관은 네 가치가 된다,네 행치는 네 운명이 된다.\n",
            " 말음은 네 생각이 된다,네 행각은 네 말이 된다,네 행은 네 행동이 된다,네 행동은 네 습관이 된다,네 행관은 네 가치가 된다,네 행치는 네 운명이 된다.\n",
            " 말음은 네 생각이 된다,네 행각은 네 말이 된다,네 행은 네 행동이 된다,네 행동은 네 습관이 된다,네 행관은 네 가치가 된다,네 행치는 네 운명이 된다.\n",
            " 말음은 네 생각이 된다,네 행각은 네 말이 된다,네 행은 네 행동이 된다,네 행동은 네 습관이 된다,네 행관은 네 가치가 된다,네 행치는 네 운명이 된다.\n"
          ]
        }
      ]
    },
    {
      "cell_type": "code",
      "source": [
        "predict_str"
      ],
      "metadata": {
        "id": "EVUHBlcF-MTj",
        "colab": {
          "base_uri": "https://localhost:8080/",
          "height": 35
        },
        "outputId": "9b127b6f-ad5f-4690-f151-c0cbaccfa651"
      },
      "execution_count": 116,
      "outputs": [
        {
          "output_type": "execute_result",
          "data": {
            "text/plain": [
              "' 말음은 네 생각이 된다,네 행각은 네 말이 된다,네 행은 네 행동이 된다,네 행동은 네 습관이 된다,네 행관은 네 가치가 된다,네 행치는 네 운명이 된다.'"
            ],
            "application/vnd.google.colaboratory.intrinsic+json": {
              "type": "string"
            }
          },
          "metadata": {},
          "execution_count": 116
        }
      ]
    },
    {
      "cell_type": "markdown",
      "source": [
        "1-1. sq length 5, epoch 100: 행음은 네 생각이 된다,네 습각은 네 습이 된다,네 습은 네 생동이 된다,네 습동은 네 습관이 된다,네 습관은 네 가치가 된다,네 습치는 네 운명이 된다,\n",
        "\n",
        "1-2. sq length 5, epoch 300:  생음은 네 생각이 된다,네 행각은 네 말이 된다,네 행은 네 행동이 된다,네 행동은 네 습관이 된다,네 행관은 네 가치가 된다,네 행치는 네 운명이 된다.\n",
        "\n",
        "1-3. sq length 5, epoch 500:  말음은 네 생각이 된다,네 행각은 네 말이 된다,네 행은 네 행동이 된다,네 행동은 네 습관이 된다,네 행관은 네 가치가 된다,네 행치는 네 운명이 된다.\n",
        "\n",
        "2. sq length 3, epoch 100:  말음은 네 가각이 된다,네 가각이 네 가이 된다,네 가이 네 가동이 된다,네 가동이 네 가관은 된다,네 가관은 네 가치는 된다,네 가치는 네 가명이 된다,\n",
        "\n",
        "3-1. sq length 8, epoch 100:  생음은 네 가각이 된다,네 말각은 네 말이 된다,네 말은 네 행동이 된다,네 말동은 네 말관이 된다,네 말관은 네 가치가 된다,네 말치는 네 운명이 된다.\n",
        "\n",
        "3-2. sq length 8, epoch 500:  말음은 네 생각이 된다,네 생각은 네 말이 된다,네 말은 네 행동이 된다,네 행동은 네 습관이 된다,네 습관은 네 가치가 된다,네 가치는 네 운명이 된다."
      ],
      "metadata": {
        "id": "ga5UgaMxknip"
      }
    },
    {
      "cell_type": "code",
      "source": [],
      "metadata": {
        "id": "2Fi3AY_-kmLo"
      },
      "execution_count": null,
      "outputs": []
    }
  ]
}