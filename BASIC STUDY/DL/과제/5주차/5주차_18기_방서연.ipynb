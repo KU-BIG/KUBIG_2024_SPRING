{
  "nbformat": 4,
  "nbformat_minor": 0,
  "metadata": {
    "colab": {
      "provenance": []
    },
    "kernelspec": {
      "name": "python3",
      "display_name": "Python 3"
    },
    "language_info": {
      "name": "python"
    },
    "accelerator": "GPU",
    "gpuClass": "standard"
  },
  "cells": [
    {
      "cell_type": "code",
      "execution_count": 11,
      "metadata": {
        "id": "nmQ5F7UAeKB_"
      },
      "outputs": [],
      "source": [
        "import numpy as np\n",
        "import torch\n",
        "import torch.nn as nn\n",
        "import torch.optim as optim"
      ]
    },
    {
      "cell_type": "markdown",
      "source": [
        "## Task1\n",
        "\n",
        "빈 칸을 채워주세요!\n",
        "\n",
        "단계별 output이 github 파일에는 남아있으니 그 output과 동일한 형태인지 확인하면서 진행해주시면 됩니다~"
      ],
      "metadata": {
        "id": "Sgxd6SxmeVcP"
      }
    },
    {
      "cell_type": "code",
      "source": [
        "#1. 생성할 문장 데이터\n",
        "\n",
        "sentence = (\"Brick walls are there for a reason and you must not think \"\n",
        "            \"that the brick walls aren't there to keep us out, but rather \"\n",
        "            \"in this way that the brick walls are there to show us how badly we want things.\")"
      ],
      "metadata": {
        "id": "NDvUeC8BoUb6"
      },
      "execution_count": null,
      "outputs": []
    },
    {
      "cell_type": "code",
      "source": [
        "#2. 문자 집합 만들기\n",
        "world_set = list(set(sentence))\n",
        "\n",
        "## 문제(1): 각 문자에 정수 인코딩 (공백도 하나의 원소로 포함)\n",
        "vocab = {char: i for i, char in enumerate(world_set, start=0)}\n",
        "# enumerate(world_set): world_set이라는 문자 집합에 대해 순회하면서 각 문자에 대해 인덱스와 함께 순회\n",
        "# char: i: 딕셔너리의 키-값 쌍"
      ],
      "metadata": {
        "id": "b9lkrKyZf8ie"
      },
      "execution_count": null,
      "outputs": []
    },
    {
      "cell_type": "code",
      "source": [
        "print(vocab)"
      ],
      "metadata": {
        "colab": {
          "base_uri": "https://localhost:8080/"
        },
        "id": "F_0we5Y-gYDq",
        "outputId": "ffbf34dc-2e7d-441e-f6b0-ce773b16b374"
      },
      "execution_count": null,
      "outputs": [
        {
          "output_type": "stream",
          "name": "stdout",
          "text": [
            "{'k': 0, 'r': 1, 'h': 2, 'w': 3, 'd': 4, 'n': 5, 't': 6, ',': 7, '.': 8, 'B': 9, 'c': 10, 'b': 11, 'm': 12, ' ': 13, 'y': 14, \"'\": 15, 'i': 16, 'p': 17, 'e': 18, 'o': 19, 'a': 20, 'u': 21, 'f': 22, 'g': 23, 'l': 24, 's': 25}\n"
          ]
        }
      ]
    },
    {
      "cell_type": "code",
      "source": [
        "#3. 문자 집합 크기 확인\n",
        "\n",
        "vocab_size = len(vocab)\n",
        "print('문자 집합 크기 : {}'.format(vocab_size))"
      ],
      "metadata": {
        "colab": {
          "base_uri": "https://localhost:8080/"
        },
        "id": "TpKupU6lgpfT",
        "outputId": "03f5c559-0d8d-4ed7-ccd3-0fa3da07767a"
      },
      "execution_count": null,
      "outputs": [
        {
          "output_type": "stream",
          "name": "stdout",
          "text": [
            "문자 집합 크기 : 26\n"
          ]
        }
      ]
    },
    {
      "cell_type": "code",
      "source": [
        "#4. 하이퍼 파라미터 설정(자유롭게 수정해보세요!)\n",
        "\n",
        "hidden_size = vocab_size # 같아야 하는 것 확인!\n",
        "sequence_length = 8  # 너무 길거나 너무 짧게 잡으면 안됩니다!\n",
        "learning_rate = 0.01"
      ],
      "metadata": {
        "id": "wFDZJHSMg9In"
      },
      "execution_count": null,
      "outputs": []
    },
    {
      "cell_type": "code",
      "source": [
        "#5. seqence 길이 단위 자르기\n",
        "\n",
        "# 데이터 구성을 위한 리스트\n",
        "x_data = []\n",
        "y_data = []\n",
        "\n",
        "## 문제(2): 반복문 내에서의 인덱싱을 사용하여 sequence_length 값 단위로 샘플을 잘라 데이터 만들기, y_str은 x_str은 한 칸씩 쉬프트된 sequnce\n",
        "\n",
        "for i in range(0, len(sentence) - sequence_length):\n",
        "  x_str = sentence[i:i+sequence_length]\n",
        "  y_str = sentence[i+1:i+sequence_length+1]\n",
        "  print(i, x_str, \"->\", y_str)\n",
        "\n",
        "  # x_str과 y_str이 문자집합에 해당하는 인덱스를 각각 x_data, y_data에 append\n",
        "  x_data.append([vocab[c] for c in x_str])\n",
        "  y_data.append([vocab[d] for d in y_str])"
      ],
      "metadata": {
        "colab": {
          "base_uri": "https://localhost:8080/"
        },
        "id": "RbDcmJmghN7V",
        "outputId": "04be5c34-c7fe-4a86-dd93-ccbb25cd0c74"
      },
      "execution_count": null,
      "outputs": [
        {
          "output_type": "stream",
          "name": "stdout",
          "text": [
            "0 Brick wa -> rick wal\n",
            "1 rick wal -> ick wall\n",
            "2 ick wall -> ck walls\n",
            "3 ck walls -> k walls \n",
            "4 k walls  ->  walls a\n",
            "5  walls a -> walls ar\n",
            "6 walls ar -> alls are\n",
            "7 alls are -> lls are \n",
            "8 lls are  -> ls are t\n",
            "9 ls are t -> s are th\n",
            "10 s are th ->  are the\n",
            "11  are the -> are ther\n",
            "12 are ther -> re there\n",
            "13 re there -> e there \n",
            "14 e there  ->  there f\n",
            "15  there f -> there fo\n",
            "16 there fo -> here for\n",
            "17 here for -> ere for \n",
            "18 ere for  -> re for a\n",
            "19 re for a -> e for a \n",
            "20 e for a  ->  for a r\n",
            "21  for a r -> for a re\n",
            "22 for a re -> or a rea\n",
            "23 or a rea -> r a reas\n",
            "24 r a reas ->  a reaso\n",
            "25  a reaso -> a reason\n",
            "26 a reason ->  reason \n",
            "27  reason  -> reason a\n",
            "28 reason a -> eason an\n",
            "29 eason an -> ason and\n",
            "30 ason and -> son and \n",
            "31 son and  -> on and y\n",
            "32 on and y -> n and yo\n",
            "33 n and yo ->  and you\n",
            "34  and you -> and you \n",
            "35 and you  -> nd you m\n",
            "36 nd you m -> d you mu\n",
            "37 d you mu ->  you mus\n",
            "38  you mus -> you must\n",
            "39 you must -> ou must \n",
            "40 ou must  -> u must n\n",
            "41 u must n ->  must no\n",
            "42  must no -> must not\n",
            "43 must not -> ust not \n",
            "44 ust not  -> st not t\n",
            "45 st not t -> t not th\n",
            "46 t not th ->  not thi\n",
            "47  not thi -> not thin\n",
            "48 not thin -> ot think\n",
            "49 ot think -> t think \n",
            "50 t think  ->  think t\n",
            "51  think t -> think th\n",
            "52 think th -> hink tha\n",
            "53 hink tha -> ink that\n",
            "54 ink that -> nk that \n",
            "55 nk that  -> k that t\n",
            "56 k that t ->  that th\n",
            "57  that th -> that the\n",
            "58 that the -> hat the \n",
            "59 hat the  -> at the b\n",
            "60 at the b -> t the br\n",
            "61 t the br ->  the bri\n",
            "62  the bri -> the bric\n",
            "63 the bric -> he brick\n",
            "64 he brick -> e brick \n",
            "65 e brick  ->  brick w\n",
            "66  brick w -> brick wa\n",
            "67 brick wa -> rick wal\n",
            "68 rick wal -> ick wall\n",
            "69 ick wall -> ck walls\n",
            "70 ck walls -> k walls \n",
            "71 k walls  ->  walls a\n",
            "72  walls a -> walls ar\n",
            "73 walls ar -> alls are\n",
            "74 alls are -> lls aren\n",
            "75 lls aren -> ls aren'\n",
            "76 ls aren' -> s aren't\n",
            "77 s aren't ->  aren't \n",
            "78  aren't  -> aren't t\n",
            "79 aren't t -> ren't th\n",
            "80 ren't th -> en't the\n",
            "81 en't the -> n't ther\n",
            "82 n't ther -> 't there\n",
            "83 't there -> t there \n",
            "84 t there  ->  there t\n",
            "85  there t -> there to\n",
            "86 there to -> here to \n",
            "87 here to  -> ere to k\n",
            "88 ere to k -> re to ke\n",
            "89 re to ke -> e to kee\n",
            "90 e to kee ->  to keep\n",
            "91  to keep -> to keep \n",
            "92 to keep  -> o keep u\n",
            "93 o keep u ->  keep us\n",
            "94  keep us -> keep us \n",
            "95 keep us  -> eep us o\n",
            "96 eep us o -> ep us ou\n",
            "97 ep us ou -> p us out\n",
            "98 p us out ->  us out,\n",
            "99  us out, -> us out, \n",
            "100 us out,  -> s out, b\n",
            "101 s out, b ->  out, bu\n",
            "102  out, bu -> out, but\n",
            "103 out, but -> ut, but \n",
            "104 ut, but  -> t, but r\n",
            "105 t, but r -> , but ra\n",
            "106 , but ra ->  but rat\n",
            "107  but rat -> but rath\n",
            "108 but rath -> ut rathe\n",
            "109 ut rathe -> t rather\n",
            "110 t rather ->  rather \n",
            "111  rather  -> rather i\n",
            "112 rather i -> ather in\n",
            "113 ather in -> ther in \n",
            "114 ther in  -> her in t\n",
            "115 her in t -> er in th\n",
            "116 er in th -> r in thi\n",
            "117 r in thi ->  in this\n",
            "118  in this -> in this \n",
            "119 in this  -> n this w\n",
            "120 n this w ->  this wa\n",
            "121  this wa -> this way\n",
            "122 this way -> his way \n",
            "123 his way  -> is way t\n",
            "124 is way t -> s way th\n",
            "125 s way th ->  way tha\n",
            "126  way tha -> way that\n",
            "127 way that -> ay that \n",
            "128 ay that  -> y that t\n",
            "129 y that t ->  that th\n",
            "130  that th -> that the\n",
            "131 that the -> hat the \n",
            "132 hat the  -> at the b\n",
            "133 at the b -> t the br\n",
            "134 t the br ->  the bri\n",
            "135  the bri -> the bric\n",
            "136 the bric -> he brick\n",
            "137 he brick -> e brick \n",
            "138 e brick  ->  brick w\n",
            "139  brick w -> brick wa\n",
            "140 brick wa -> rick wal\n",
            "141 rick wal -> ick wall\n",
            "142 ick wall -> ck walls\n",
            "143 ck walls -> k walls \n",
            "144 k walls  ->  walls a\n",
            "145  walls a -> walls ar\n",
            "146 walls ar -> alls are\n",
            "147 alls are -> lls are \n",
            "148 lls are  -> ls are t\n",
            "149 ls are t -> s are th\n",
            "150 s are th ->  are the\n",
            "151  are the -> are ther\n",
            "152 are ther -> re there\n",
            "153 re there -> e there \n",
            "154 e there  ->  there t\n",
            "155  there t -> there to\n",
            "156 there to -> here to \n",
            "157 here to  -> ere to s\n",
            "158 ere to s -> re to sh\n",
            "159 re to sh -> e to sho\n",
            "160 e to sho ->  to show\n",
            "161  to show -> to show \n",
            "162 to show  -> o show u\n",
            "163 o show u ->  show us\n",
            "164  show us -> show us \n",
            "165 show us  -> how us h\n",
            "166 how us h -> ow us ho\n",
            "167 ow us ho -> w us how\n",
            "168 w us how ->  us how \n",
            "169  us how  -> us how b\n",
            "170 us how b -> s how ba\n",
            "171 s how ba ->  how bad\n",
            "172  how bad -> how badl\n",
            "173 how badl -> ow badly\n",
            "174 ow badly -> w badly \n",
            "175 w badly  ->  badly w\n",
            "176  badly w -> badly we\n",
            "177 badly we -> adly we \n",
            "178 adly we  -> dly we w\n",
            "179 dly we w -> ly we wa\n",
            "180 ly we wa -> y we wan\n",
            "181 y we wan ->  we want\n",
            "182  we want -> we want \n",
            "183 we want  -> e want t\n",
            "184 e want t ->  want th\n",
            "185  want th -> want thi\n",
            "186 want thi -> ant thin\n",
            "187 ant thin -> nt thing\n",
            "188 nt thing -> t things\n",
            "189 t things ->  things.\n"
          ]
        }
      ]
    },
    {
      "cell_type": "code",
      "source": [
        "# 출력해서 한 칸씩 쉬프트된 것 확인하기!\n",
        "\n",
        "print(x_data[0])\n",
        "print(y_data[0])"
      ],
      "metadata": {
        "colab": {
          "base_uri": "https://localhost:8080/"
        },
        "id": "XVFlILiOixdc",
        "outputId": "00c1fa77-e54d-4427-bb19-1f42b6403a0c"
      },
      "execution_count": null,
      "outputs": [
        {
          "output_type": "stream",
          "name": "stdout",
          "text": [
            "[9, 1, 16, 10, 0, 13, 3, 20]\n",
            "[1, 16, 10, 0, 13, 3, 20, 24]\n"
          ]
        }
      ]
    },
    {
      "cell_type": "markdown",
      "source": [
        "numpy의 eye란?\n",
        "NumPy 라이브러리에서 제공하는 함수 중 하나 -> 단위 행렬(Identity matrix)을 생성하는 데 사용\n",
        "단위 행렬은 주 대각선이 모두 1이고, 나머지 요소가 모두 0인 정사각 행렬\n",
        "\n",
        "np.eye(N, M=None, k=0, dtype=<class 'float'>, order='C') 형태\n"
      ],
      "metadata": {
        "id": "4OxmAYCzgNCA"
      }
    },
    {
      "cell_type": "code",
      "source": [
        "##6. 입력 시퀀스에 대해 원핫인코딩 수행\n",
        "\n",
        "## 문제(4) : x_data를 원핫인코딩 > numpy의 eye를 쓸 수 있지 않을까?\n",
        "x_one_hot = [np.eye(vocab_size)[x_seq] for x_seq in x_data]\n",
        "x_one_hot1 = [np.identity(vocab_size)[x_seq] for x_seq in x_data]\n",
        "# vocab size의 단위행렬 생성\n",
        "# x_seq에 해당하는 행 선택해서, x_seq에 해당하는 인덱스의 원소만 1 나머지는 0으로 만듦\n",
        "# 겉의 [ ]는 리스트 컴프리헨션 (리스트화)\n",
        "# identity는 대각선 위치에만 1이 있는 행렬 생성. 사실상 동일해 보임\n",
        "\n",
        "##7. 입력 데이터, 레이블데이터 텐서로 변환\n",
        "\n",
        "## 문제(5) : x_one_hot과 y_data 텐서로 변환 : 둘 다 같은 형식의 텐서로 변환하면 될까?? (FloatTensor, LongTesor 중 맞는 것은?)\n",
        "X = torch.FloatTensor(x_one_hot)\n",
        "Y = torch.LongTensor(y_data)\n",
        "# 둘 다 같은 형식의 텐서라면?"
      ],
      "metadata": {
        "id": "5lPes1dvjlNb"
      },
      "execution_count": null,
      "outputs": []
    },
    {
      "cell_type": "markdown",
      "source": [
        "torch.FloatTensor는 부동 소수점 텐서를, torch.LongTensor는 정수 텐서를 생성하는 함수"
      ],
      "metadata": {
        "id": "SlyVypjghJzQ"
      }
    },
    {
      "cell_type": "markdown",
      "source": [
        "https://jjuke-brain.tistory.com/entry/PyTorch-%EC%9D%B5%ED%9E%88%EA%B8%B0-Recurrent-Neural-Network-RNN-2"
      ],
      "metadata": {
        "id": "_sp_YO3Li276"
      }
    },
    {
      "cell_type": "code",
      "source": [
        "##8. 크기 확인\n",
        "print('훈련 데이터의 크기 : {}'.format(X.shape))\n",
        "print('레이블의 크기 : {}'.format(Y.shape))"
      ],
      "metadata": {
        "colab": {
          "base_uri": "https://localhost:8080/"
        },
        "id": "lMZzZlaymMk8",
        "outputId": "f85ef5c7-c21a-4684-9acc-0f326a6559ad"
      },
      "execution_count": null,
      "outputs": [
        {
          "output_type": "stream",
          "name": "stdout",
          "text": [
            "훈련 데이터의 크기 : torch.Size([190, 8, 26])\n",
            "레이블의 크기 : torch.Size([190, 8])\n"
          ]
        }
      ]
    },
    {
      "cell_type": "code",
      "source": [
        "##9.원핫인코딩 결과 샘플 확인하기\n",
        "print(X[0])"
      ],
      "metadata": {
        "colab": {
          "base_uri": "https://localhost:8080/"
        },
        "id": "knx1DE_AmSFB",
        "outputId": "be289958-7845-47d8-ba5b-5d2bc32124b6"
      },
      "execution_count": null,
      "outputs": [
        {
          "output_type": "stream",
          "name": "stdout",
          "text": [
            "tensor([[0., 0., 0., 0., 0., 0., 0., 0., 0., 1., 0., 0., 0., 0., 0., 0., 0., 0.,\n",
            "         0., 0., 0., 0., 0., 0., 0., 0.],\n",
            "        [0., 1., 0., 0., 0., 0., 0., 0., 0., 0., 0., 0., 0., 0., 0., 0., 0., 0.,\n",
            "         0., 0., 0., 0., 0., 0., 0., 0.],\n",
            "        [0., 0., 0., 0., 0., 0., 0., 0., 0., 0., 0., 0., 0., 0., 0., 0., 1., 0.,\n",
            "         0., 0., 0., 0., 0., 0., 0., 0.],\n",
            "        [0., 0., 0., 0., 0., 0., 0., 0., 0., 0., 1., 0., 0., 0., 0., 0., 0., 0.,\n",
            "         0., 0., 0., 0., 0., 0., 0., 0.],\n",
            "        [1., 0., 0., 0., 0., 0., 0., 0., 0., 0., 0., 0., 0., 0., 0., 0., 0., 0.,\n",
            "         0., 0., 0., 0., 0., 0., 0., 0.],\n",
            "        [0., 0., 0., 0., 0., 0., 0., 0., 0., 0., 0., 0., 0., 1., 0., 0., 0., 0.,\n",
            "         0., 0., 0., 0., 0., 0., 0., 0.],\n",
            "        [0., 0., 0., 1., 0., 0., 0., 0., 0., 0., 0., 0., 0., 0., 0., 0., 0., 0.,\n",
            "         0., 0., 0., 0., 0., 0., 0., 0.],\n",
            "        [0., 0., 0., 0., 0., 0., 0., 0., 0., 0., 0., 0., 0., 0., 0., 0., 0., 0.,\n",
            "         0., 0., 1., 0., 0., 0., 0., 0.]])\n"
          ]
        }
      ]
    },
    {
      "cell_type": "code",
      "source": [
        "##10. 레이블 데이터 샘플 확인하기\n",
        "print(Y[0])"
      ],
      "metadata": {
        "colab": {
          "base_uri": "https://localhost:8080/"
        },
        "id": "6pWDiH1SmYT_",
        "outputId": "f9001105-dea8-4eec-f1a7-291c22b5c2e0"
      },
      "execution_count": null,
      "outputs": [
        {
          "output_type": "stream",
          "name": "stdout",
          "text": [
            "tensor([ 1, 16, 10,  0, 13,  3, 20, 24])\n"
          ]
        }
      ]
    },
    {
      "cell_type": "markdown",
      "source": [
        "https://jjuke-brain.tistory.com/entry/PyTorch-%EC%9D%B5%ED%9E%88%EA%B8%B0-Recurrent-Neural-Network-RNN-2"
      ],
      "metadata": {
        "id": "TU-PXKwgji-g"
      }
    },
    {
      "cell_type": "code",
      "source": [
        "##11. RNN 모델 구현\n",
        "\n",
        "##문제(6) : 기본 pytorch 인자 넣기 연습 + forward 채우기\n",
        "### 조건 : rnn layer 2개 쌓기 + 마지막은 fc layer\n",
        "### batch_fisrt 설정 필요할까? (유튜브 강의 참고)\n",
        "\n",
        "class Net(torch.nn.Module):\n",
        "  def __init__(self, input_dim, hidden_dim, layers):\n",
        "    super(Net, self).__init__()\n",
        "    self.rnn = torch.nn.RNN(input_dim, hidden_dim, num_layers=layers, batch_first=True)\n",
        "    self.fc = torch.nn.Linear(hidden_dim, hidden_dim, bias=True)\n",
        "\n",
        "  def forward(self, x):\n",
        "    x, _status = self.rnn(x)\n",
        "    x = self.fc(x)\n",
        "    return x"
      ],
      "metadata": {
        "id": "-Ww22xu8mfUc"
      },
      "execution_count": null,
      "outputs": []
    },
    {
      "cell_type": "code",
      "source": [
        "net = Net(vocab_size, hidden_size, 2)"
      ],
      "metadata": {
        "id": "No2GRvTpnLBl"
      },
      "execution_count": null,
      "outputs": []
    },
    {
      "cell_type": "code",
      "source": [
        "##12. loss function\n",
        "criterion = torch.nn.CrossEntropyLoss()\n",
        "\n",
        "##13. optimizer\n",
        "optimizer = optim.Adam(net.parameters(), learning_rate)"
      ],
      "metadata": {
        "id": "9-zuJLeUnQLB"
      },
      "execution_count": null,
      "outputs": []
    },
    {
      "cell_type": "code",
      "source": [
        "##14. 출력 크기 점검\n",
        "outputs = net(X)\n",
        "print(outputs.shape)"
      ],
      "metadata": {
        "colab": {
          "base_uri": "https://localhost:8080/"
        },
        "id": "z-RxRaiHnh9U",
        "outputId": "04f13e66-52dd-4fc4-80ad-0e46a8a50586"
      },
      "execution_count": null,
      "outputs": [
        {
          "output_type": "stream",
          "name": "stdout",
          "text": [
            "torch.Size([190, 8, 26])\n"
          ]
        }
      ]
    },
    {
      "cell_type": "code",
      "source": [
        "##15. Training 시작\n",
        "\n",
        "for i in range(100): # 100번의 epoch\n",
        "    optimizer.zero_grad() # 매 반복마다 그래디언트 초기화\n",
        "    outputs = net(X) # 모델의 출력 계산\n",
        "    ##문제(7) : outputs, Y 형태 그대로 넣으면 안되죠. view 함수를 이용해 loss값을 계산해봅시다.\n",
        "    loss = criterion(outputs.view(-1, vocab_size), Y.view(-1)) # view 함수로 텐서 형태 변환, view(-1)로 펼쳐주기\n",
        "    loss.backward() # 역전파\n",
        "    optimizer.step() # 최적화 알고리즘 사용, 파라미터 업데이트\n",
        "\n",
        "    #16. 예측결과 확인\n",
        "    results = outputs.argmax(dim=2)\n",
        "    predict_str = \"\"\n",
        "    for j, result in enumerate(results):\n",
        "        if j == 0: # 처음에는 예측 결과를 전부 가져오기\n",
        "            predict_str += ''.join([world_set[t] for t in result])\n",
        "        else: # 그 다음에는 마지막 글자만 반복 추가\n",
        "            predict_str += world_set[result[-1]]\n",
        "\n",
        "    print(predict_str)"
      ],
      "metadata": {
        "colab": {
          "base_uri": "https://localhost:8080/"
        },
        "id": "uxxrxCd2nwoo",
        "outputId": "a397dbf2-3a74-4b24-9f3d-d6d7b67015c8"
      },
      "execution_count": null,
      "outputs": [
        {
          "output_type": "stream",
          "name": "stdout",
          "text": [
            "y.ys.t.'.syt'.yy.yy.yy.'.y'.'y..'y.'.sy.sy.y''.yy.byyddy.d.dd..y.dy.'ys.t.'.syt'.yy'byydddyy.'ydkydy.'y'.'.y..'.d'.dy.yyyt..yy.y'.s..'..y.dy.'ys.t.'.syt'.yy.yy.yy.'yyts.'.'yy'.'.'.sys.s..'..yyddy.y\n",
            "sttstttsssstststttstsststssttsstsstttsststttssttssttsttsttttsttststtttstttsssststsstttststsstssttsttsststststtsttsttstststtttsttststtsttststtttstttsssstststttstsstssttstststtststssssttsttsttttttstt\n",
            "stat tt tssttt ttast tt   t      at t  t t tt tta tttatat t  t tattt at tt tssttt a  ttat ttt t t t t ttt t tt t  t s  tattat tt t ta t sattt at tt tssttt ttast tt ttatt t ta t t  s ttstt tt tatat \n",
            "st t                                     t t                       t  t                             t                  t       t            t  t                          t      t     t  t          \n",
            "tt                                                                                                                                                                                                   \n",
            "t                                                                                                                                                                                                    \n",
            "                                                                                                                                                                                                     \n",
            "                                                                                                                                                                                                     \n",
            "                                                                                                                                                                                                     \n",
            "                                                                                                                                                                                                     \n",
            "                                                                                                                                                                                                     \n",
            "                                                                                                                                                                                                     \n",
            "                                                                                                                                                                                                     \n",
            "                                                                                                                                                                                                     \n",
            "                                                                                                                                                                                                     \n",
            "                                                                                                                                                                                                     \n",
            "                                                                                                                                                                                                     \n",
            "      a                                        t               h         a            h                                   h    a        h         a                          a         a  a    h     \n",
            "   t  a  s ar  t     t   ah                a   t   th s   h    h   h  t  h  s ar      h    t          aa               h  h s  a   h    h   h  t  h  s ar  t     t        h  a  a   s  a  a    h s   \n",
            "   t wh  s ar  th    t   ah            a   a   t   th s   her  h   h  t wh  s ar      h    t       ah aa   t    h     ah  hes  a  ah r  h   h  t wh  s ar  th    t     r as aa  ah  s  a  a    h s   \n",
            "  sr wh  s ar  thes  ta  wh   h    r   a   a  ath hth s  wher wher h  t wh  s ar  a   her  t  s    ar aa   t   th  es ah  hes wa  aher wher h  t wh  s ar  thes  t  s ar as aa  ah  s  a wa    hes   \n",
            "  sr wh  s ar  thes  ta  wh   h   ar  wa  wa  ath sthes  wher wher h  t wh  s ar  at wher  th s    ar wa  et   wh  es ah  hes wa  aher wher h  t wh  s ar  thes  th s ar as wa  ah  s  a wa    hes   \n",
            "  sr wa  s ar  thes  ta  wh   s   ar  wa  wa  ath  thes  wher ther h  t wh  s ar  ar wher  th s    ah wa  et   th  es wh  hes wa  ther wher h  t wh  s ar  thes  th s er as wa  ar  s aa wa   thes   \n",
            "  sr wa  s ar  thes  ta  wr   s   ar  wa  wa  ath  thes  wher ther h  t wa  s ar  ar ther  thes    ts wa  eth  th  es ah thes wa  ther ther h  t wa  s ar  thes  thes er as wa  ar  s aa wa   thes   \n",
            "   r wa  s ar  thes  ta  wr       ar  wa  wa   th  thes  wher ther a  t wa  s ar   t ther  the     ts wa  eth  th  er th thes wa  ther ther a  t wa  s ar  thes  the  er as aa  ar  s aa wa   thes   \n",
            "   r wa  s ar  thes  tat ar       ar  ta   a   th  thes  ther ther a  t wa  s ar   t ther  the     ts wa  eth  th  er th thes ta  ther ther a  t wa  s ar  thes  the aer as aa  ar  s aa ta   thes   \n",
            "   r wa  s ar  ther  tat ar       ar  ta   ar ath  thes  ther ther h st wa  s ar   t ther  thet    ts ar  eth  th  er th thes ta  ther ther h st wa  s ar  ther  thetaet ts aa  ar  s aa ta   thes   \n",
            "   r wa  s ar  ther  tht art      aa  ta   as ath  thes  ther therth sr wa  s ar   t ther  theta   ts ar  eth  th  er ah thes ta  ther therth sr wa  s ar  ther  thetaet as aa  ar  s aa ta   thes   \n",
            "  sr wal s ar  ther  tht art      aa  th   as ath  thes  ther therthecr wal s ar   t ther  theto   ts ar  etht th  er as thes ta  ther therthecr wal s ar  ther  thetaet as aa  ar  s aa ta   thes   \n",
            "  cr wal s ar  ther  thr art      aa  ta  was hth  thes  ther therthecr wal s ar   t ther  theth   as ar  etht tht er as thes aa  ther therthecr wal s ar  ther  thetaet as aa  ar  s aa tal  thes   \n",
            "  cr wal s ar  ther  thr art  s a aa  ta  was htht thes  ther therthecr wal s ar   t ther  theth   as ar   th  tht er as thes aa  ther therthecr wal s ar  ther  thetoat as aat ar  s aa tal  thes   \n",
            "  cr war s ar  ther  thr art  s a aa  ta  was htht thes  ther therthecr wal s ar   t ther  theth   as ar   th  tht er as thes aa  ther therthecr wal s ar  ther  thetoat as aat ar  s aa war  thes   \n",
            "  cr warls ar  ther  thr art  s a aa  wa  was htht thes  wher therthecr warls ar   t ther  theto   as ar   thl tot er as thes aas ther therthecr warls ar  ther  thetoat ts aat art s aa war  thes   \n",
            "  cr warls ar  ther  thr art  s r aa  wa  was htht thes  wher therthecr walls ar   t ther  theto   ts ar   tal tot er as thes aas ther therthecr walls ar  ther  thetoat ts aat arl s aa war  thes   \n",
            "r cr walls are ther  tar art  t r aa  wa  was htht thes  wher thertreck walls are  t there th to   ts ar   tal tot er as thes was ther thertreck walls are ther  th toat ts aat aal s aa war  thes   \n",
            "r ck walls are there tar art  t r aa  wo  was htht thes  wher thertreck walls are  t there th to   ts ar   tal tot er as thes was ther thertreck walls are there th toat ts aat aal s aa war  thes   \n",
            "reck walls are there tor art  s   wa  wo  was htht thes  wher thertreck walls are  t there th t    as ar h tal tot ereas thes was ther thertreck walls are there th toat ts aat aal s aa wal  thes   \n",
            "reck walls are there tor art  s   wa  wo  ,us htht thes  wher therwaeck walls are  t there th t    as ar h wal tot ereas thes was ther therwaeck walls are there th toat ts aat aal s aa wal  thes   \n",
            "reck walls are there tor arte s   wa  wo  mus htht thesk whet therwaeck walls are  t there th s    as ar h wal tothereas thes was ther therwaeck walls are there th soat ws aat aalls wa wal  thes   \n",
            "reck walls are there tor arte s   wa  wo  mus htht thesk thet therwaeck walls are tt there th s    as ar h wal tothereas thes was ther therwaeck walls are there th soat ws aat walls wa wal  thes   \n",
            "reck walls are there tor arte s   wal wo  mus htht thesk thet the waeck walls are kt there th s    as ar h was tothereas thes wal ther the waeck walls are there th soat ws hat walls wa wal  thes   \n",
            "reck walls are there tor arte s   wrl tou mus htht thenk thet the wreck walls are kt the e th s    as ar h wal tothereas thes wal ther the wreck walls are there th soat ws hat walls wa wal  thes   \n",
            "reck walls are there tor arte s   arl tou mas htht thenk thet the treck walls are kt the e th s    as ar h bal tethereas this wal thet the treck walls are there th soat ws hot walls wa wal  then   \n",
            "reck walls are there tor arte s   arl tou mas htht then  thet the breck walls are kt the e th s    as ar , bal tethereas this wal thet the breck walls are there th soat ws hot walls wa wal  then   \n",
            "reck walls are there tor arte s   arl sou mus haot then  thet the breck walls are gt the e th s    as ar , bul tethereas this wal thet the breck walls are there th soat ws hot aulls wa wal  then   \n",
            "reck walls are there tor arte s r arl sou mus haot then  thet the breck walls are gt there th s    as ar , bul totherews this wal that the breck walls are there th soat ws hot aulls wa wal  then   \n",
            "reck walls are there tor arte s r ar  sou mus haot then  thet the breck walls are gt there th s    as ar , bul totherews this wan that the breck walls are there th soat ws hot aulls wa wal  then  s\n",
            "reck walls are there tor arte s n ar  sou mus htot then  thet the breck walls are gt there th s    as ar , but tothereas this wan that the breck walls are there th soat ws hot wulls wa wal  then  s\n",
            "reck walls are there tor arte s n ar  you mus htot then  thet the breck walls are kt there th s    as or , but tothereas this wan that the breck walls are there th soat ws hot bulls wa wal  thenk s\n",
            "rick walls are there tor arte s n art you mus htot then  thet the brick walls are kt there th s    as or , but tethereas this wan that the brick walls are there th soat ws hot bulls wa wal  thenkss\n",
            "rick walls are there tor arte s n ard you mus htot then  thet the brick walls are kt there th s    us or , but tethereas this wan that the brick walls are there th soat us hot bulls wa wal  thenkss\n",
            "rick walls are there tor arte s n ard you mus htot then  thet the brick walls are kt there th s  , us or , but retherean this wan that the brick walls are there th soat us how butls wa walt thenkss\n",
            "rick walls are there tor arte s n ar  you mus htot then  thet the brick walls are kt there th so p us hu , but retherean this wan that the brick walls are there th soat us how butls wa walt thenkst\n",
            "rick walls are there tor arteas n ar  you mus htot thenk thet the brick walls are kt there th so p us hut, but retherean this wan that the brick walls are there th soat us how butls wa walt thenkst\n",
            "rick walls are there tor arteas n ar  you must tot thenk thet the brick walls are kt there th so p us hut, but retherean this ban that the brick walls are there th soat us how butls wa walt thenkst\n",
            "rick walls are there tor arteas n ar  you must tot thenk thet the brick walls are kt there th so p us hut, but retherean this ban that the brick walls are there th soot us how butly wa walt thenkst\n",
            "rick walls are there tor arteas n ar  you must tot thenk thet the brick walls are kt there th so p us out, but retherean this ban that the brick walls are there th soot us how butly wa walt thenkst\n",
            "rick walls are there tor arteas n ar  you must tot thenk thet the brick walls are kt there th so p us out, but retherean this ban that the brick walls are there th soot us how butly wa walt thenkst\n",
            "rick walls are there tor arreason ar  you must tot thenk thet the brick walls are kt there th so p us out, but ratherean this ban that the brick walls are there th soow us how butly wa walt thenkst\n",
            "rick walls are there tor arreason and you must tot thenk thet the brick walls are kt there to so p us out, but ratherean this wan that the brick walls are there to soow us how butly wa walt thenkst\n",
            "rick walls are there tor arreason and you must tot thenk thet the brick walls are kt there to so p us out, but ratherean this wan that the brick walls are there to soow us how butly wa walt thenkst\n",
            "rick walls are there tor arreason and you must tot thenk thet the brick walls are kt there to soep us out, but rather an this wan that the brick walls are there to soow us how butly wa want thenkst\n",
            "rick walls are there tor arreason and you must tot thenk thet the brick walls are kt there to soep us out, but rather an this wan that the brick walls are there to show us how budly wa want thenkst\n",
            "rick walls are there tor arreason and you must tot thenk thet the brick walls are kt there to seep us out, but rather in this wan that the brick walls are there to show us how budly wa want thenksp\n",
            "rick walls are there tor arreason and you must not thenk thet the brick walls are kt there to seep us out, but rather in this wan that the brick walls are there to show us how budly wa want thenksp\n",
            "rick walls are there tor arreason and you must not think that the brick walls are kt there to seep us out, but rather in this wal that the brick walls are there to show us how budly wa want thinksp\n",
            "rick walls are there tor arreason and you must not think that the brick walls are kt there to seep us out, but rather in this wal that the brick walls are there to show us how budly wa want thinksp\n",
            "rick walls are there tor arreason and you must not think that the brick walls are kt there to seep us out, but rather in this wal that the brick walls are there to show us how budly wa want thinksp\n",
            "rick walls are there tor arreason and you must not think that the brick walls are kt there to seep us out, but rather in this wal that the brick walls are there to show us how budly wa want thinksp\n",
            "rick walls are there tor arreason and you must not think that the brick walls are 't there to seep us out, but rather in this wal that the brick walls are there to show us how badly wa want thinksp\n",
            "rick walls are there tor arreason and you must not think that the brick walls are 't there to seep us out, but rather in this wal that the brick walls are there to show us how badly wa want thinksp\n",
            "rick walls are there tor arreason and you must not think that the brick walls are 't there to seep us out, but rather in this wan that the brick walls are there to show us how badly wa want thinksp\n",
            "rick walls are there tor arreason and you must not think that the brick walls are 't there to seep us out, but rather in this wan that the brick walls are there to show us how badly wa want thinksp\n",
            "rick walls are there tor arreason and you must not think that the brick walls are 't there to seep us out, but rather in this wan that the brick walls are there to show us how badly wa want thinksp\n",
            "rick walls are there tor arreason and you must not think that the brick walls are 't there to seep us out, but rather in this wan that the brick walls are there to show us how badly wa want thinksp\n",
            "rick walls are there tor arreason and you must not think that the brick walls are 't there to seep us out, but rather in this wan that the brick walls are there to show us how badly wa want thinksp\n",
            "rick walls are there tor arreason and you must not think that the brick walls are 't there to seep us out, but rather in this way that the brick walls are there to show us how badly wa want thinksp\n",
            "rick walls are there tor arreason and you must not think that the brick walls are 't there to seep us out, but rather in this way that the brick walls are there to show us how badly we want thinksp\n",
            "rick walls are there tor arreason and you must not think that the brick walls are 't there to seep us out, but rather in this way that the brick walls are there to show us how badly we want thinksp\n",
            "rick walls are there tor arreason and you must not think that the brick walls are 't there to seep us out, but rather in this way that the brick walls are there to show us how badly we want thinksp\n",
            "rick walls are there tor arreason and you must not think that the brick walls are 't there to seep us out, but rather in this way that the brick walls are there to show us how badly we want thinksp\n",
            "rick walls are there tor arreason and you must not think that the brick walls are 't there to seep us out, but rather in this way that the brick walls are there to show us how badly we want thinksp\n",
            "rick walls are there tor arreason and you must not think that the brick walls are 't there to seep us out, but rather in this way that the brick walls are there to show us how badly we want thinksp\n",
            "rick walls are there tor arreason and you must not think that the brick walls are 't there to seep us out, but rather in this way that the brick walls are there to show us how badly we want thinksp\n",
            "rick walls are there tor arreason and you must not think that the brick walls are 't there to seep us out, but rather in this way that the brick walls are there to show us how badly we want thinksp\n",
            "rick walls are there tor arreason and you must not think that the brick walls are 't there to seep us out, but rather in this way that the brick walls are there to show us how badly we want thinksp\n",
            "rick walls are there tor arreason and you must not think that the brick walls are 't there to seep us out, but rather in this way that the brick walls are there to show us how badly we want thinksm\n",
            "rick walls are there tor arreason and you must not think that the brick walls are 't there to seep us out, but rather in this way that the brick walls are there to show us how badly we want thinksm\n",
            "rick walls are there tor arreason and you must not think that the brick walls are 't there to seep us out, but rather in this way that the brick walls are there to show us how badly we want thinksm\n",
            "rick walls are there tor arreason and you must not think that the brick walls are 't there to seep us out, but rather in this way that the brick walls are there to show us how badly we want thinksm\n",
            "rick walls are there tor arreason and you must not think that the brick walls are 't there to seep us out, but rather in this way that the brick walls are there to show us how badly we want thinksm\n",
            "rick walls are there tor a reason and you must not think that the brick walls are 't there to seep us out, but rather in this way that the brick walls are there to show us how badly we want thinksm\n",
            "rick walls are there tor a reason and you must not think that the brick walls are 't there to seep us out, but rather in this way that the brick walls are there to show us how badly we want thinks'\n",
            "rick walls are there tor a reason and you must not think that the brick walls are 't there to seep us out, but rather in this way that the brick walls are there to show us how badly we want thinks'\n",
            "rick walls are there tor a reason and you must not think that the brick walls are 't there to seep us out, but rather in this way that the brick walls are there to show us how badly we want thinks'\n",
            "rick walls are there tor a reason and you must not think that the brick walls are 't there to seep us out, but rather in this way that the brick walls are there to show us how badly we want thinks'\n",
            "rick walls are there tor a reason and you must not think that the brick walls are 't there to seep us out, but rather in this way that the brick walls are there to show us how badly we want thinks'\n",
            "rick walls are there tor a reason and you must not think that the brick walls are 't there to seep us out, but rather in this way that the brick walls are there to show us how badly we want thinks'\n",
            "rick walls are there tor a reason and you must not think that the brick walls are 't there to seep us out, but rather in this way that the brick walls are there to show us how badly we want thinks'\n",
            "rick walls are there tor a reason and you must not think that the brick walls are 't there to seep us out, but rather in this way that the brick walls are there to show us how badly we want thinks'\n"
          ]
        }
      ]
    },
    {
      "cell_type": "code",
      "source": [
        "predict_str"
      ],
      "metadata": {
        "colab": {
          "base_uri": "https://localhost:8080/",
          "height": 53
        },
        "id": "8qUkbiw2t0Il",
        "outputId": "cbb79eef-c359-45eb-e169-659a629de2bc"
      },
      "execution_count": null,
      "outputs": [
        {
          "output_type": "execute_result",
          "data": {
            "text/plain": [
              "\"rick walls are there tor a reason and you must not think that the brick walls are 't there to seep us out, but rather in this way that the brick walls are there to show us how badly we want thinks'\""
            ],
            "application/vnd.google.colaboratory.intrinsic+json": {
              "type": "string"
            }
          },
          "metadata": {},
          "execution_count": 28
        }
      ]
    },
    {
      "cell_type": "markdown",
      "source": [
        "결과가 어떤가요?? 마지막 에폭의 문장이 그럴싸한가요?\n",
        "-> t와 f의 구분, brick에서의 b (가장 첫 문자)"
      ],
      "metadata": {
        "id": "PkIzDTdyvTHz"
      }
    },
    {
      "cell_type": "markdown",
      "source": [
        "## Task2\n",
        "\n",
        "위 sentence는 제가 임의로 생성한 문장들입니다.\n",
        "\n",
        "마음에 드시는 문구 가져오셔서 문장이 어떻게 생성되는지 확인해보세요!\n",
        "\n",
        "영어가 아닌 한국어로 시도해보는 것도 좋겠죠?\n",
        "\n",
        "수정이 많이 필요(토큰화 등) 할 수 있으나 한번 시도해보시는 것 권장드립니다 :)\n",
        "\n",
        "위 베이스라인은 어디든 수정하셔도 좋고 조금 더 자연스러운 문장이 나올 수 있게 다양한 시도를 해보세요!\n",
        "\n",
        "조건 : 문장 3개 이상, 연결성이 있는 문장을 \" \" 으로 구분하여 ( )에 넣기"
      ],
      "metadata": {
        "id": "kN1zL8Dpvane"
      }
    },
    {
      "cell_type": "code",
      "source": [
        "new_sentence = (\"So cut the headlights, summer's a knife\" \"I'm always waiting for you just to cut to the bone\" \"Devils roll the dice, angels roll their eyes And if I bleed, you'll be the last to know\")\n"
      ],
      "metadata": {
        "id": "IKp-lKrjvXR9"
      },
      "execution_count": 1,
      "outputs": []
    },
    {
      "cell_type": "code",
      "source": [
        "new_word_set = list(set(new_sentence))\n",
        "new_vocab = {char: i for i, char in enumerate(new_word_set, start=0)}"
      ],
      "metadata": {
        "id": "q2XGtY4Yqf6L"
      },
      "execution_count": 4,
      "outputs": []
    },
    {
      "cell_type": "code",
      "source": [
        "print(new_vocab)"
      ],
      "metadata": {
        "colab": {
          "base_uri": "https://localhost:8080/"
        },
        "id": "5rtkn2kAqw0S",
        "outputId": "98ad5b28-b09c-4437-c3df-5210a0f004ba"
      },
      "execution_count": 3,
      "outputs": [
        {
          "output_type": "stream",
          "name": "stdout",
          "text": [
            "{'f': 0, 'a': 1, ',': 2, 'A': 3, 'r': 4, 'm': 5, 'o': 6, 's': 7, 'k': 8, 'g': 9, 'v': 10, 't': 11, \"'\": 12, 'j': 13, 'l': 14, 'e': 15, 'w': 16, 'D': 17, 'u': 18, 'c': 19, 'h': 20, 'i': 21, ' ': 22, 'b': 23, 'd': 24, 'y': 25, 'I': 26, 'S': 27, 'n': 28}\n"
          ]
        }
      ]
    },
    {
      "cell_type": "code",
      "source": [
        "print(new_word_set)"
      ],
      "metadata": {
        "colab": {
          "base_uri": "https://localhost:8080/"
        },
        "id": "0O1-DhTtq1BR",
        "outputId": "fdc076b9-686c-41d6-ae67-aa246eb4aac8"
      },
      "execution_count": 5,
      "outputs": [
        {
          "output_type": "stream",
          "name": "stdout",
          "text": [
            "['f', 'a', ',', 'A', 'r', 'm', 'o', 's', 'k', 'g', 'v', 't', \"'\", 'j', 'l', 'e', 'w', 'D', 'u', 'c', 'h', 'i', ' ', 'b', 'd', 'y', 'I', 'S', 'n']\n"
          ]
        }
      ]
    },
    {
      "cell_type": "code",
      "source": [
        "new_vocab_size = len(new_vocab)\n",
        "print(new_vocab_size)"
      ],
      "metadata": {
        "colab": {
          "base_uri": "https://localhost:8080/"
        },
        "id": "TDxY3ghHq6Gf",
        "outputId": "9a475227-ad00-4190-c665-f9521de87f73"
      },
      "execution_count": 6,
      "outputs": [
        {
          "output_type": "stream",
          "name": "stdout",
          "text": [
            "29\n"
          ]
        }
      ]
    },
    {
      "cell_type": "code",
      "source": [
        "hidden_size = new_vocab_size\n",
        "sequence_length = 10\n",
        "learning_rate = 0.01"
      ],
      "metadata": {
        "id": "6DYeOv7sq_gT"
      },
      "execution_count": 7,
      "outputs": []
    },
    {
      "cell_type": "code",
      "source": [
        "x_data = []\n",
        "y_data = []\n",
        "\n",
        "for i in range(0, len(new_sentence) - sequence_length):\n",
        "  x_str = new_sentence[i:i+sequence_length]\n",
        "  y_str = new_sentence[i+1:i+sequence_length+1]\n",
        "  print(i, x_str, \"->\", y_str)\n",
        "\n",
        "  # x_str과 y_str이 문자집합에 해당하는 인덱스를 각각 x_data, y_data에 append\n",
        "  x_data.append([new_vocab[c] for c in x_str])\n",
        "  y_data.append([new_vocab[d] for d in y_str])"
      ],
      "metadata": {
        "colab": {
          "base_uri": "https://localhost:8080/"
        },
        "id": "fXYmlACrrOXT",
        "outputId": "4464cb7c-a517-4a25-c068-f85c8aa06f4b"
      },
      "execution_count": 9,
      "outputs": [
        {
          "output_type": "stream",
          "name": "stdout",
          "text": [
            "0 So cut the -> o cut the \n",
            "1 o cut the  ->  cut the h\n",
            "2  cut the h -> cut the he\n",
            "3 cut the he -> ut the hea\n",
            "4 ut the hea -> t the head\n",
            "5 t the head ->  the headl\n",
            "6  the headl -> the headli\n",
            "7 the headli -> he headlig\n",
            "8 he headlig -> e headligh\n",
            "9 e headligh ->  headlight\n",
            "10  headlight -> headlights\n",
            "11 headlights -> eadlights,\n",
            "12 eadlights, -> adlights, \n",
            "13 adlights,  -> dlights, s\n",
            "14 dlights, s -> lights, su\n",
            "15 lights, su -> ights, sum\n",
            "16 ights, sum -> ghts, summ\n",
            "17 ghts, summ -> hts, summe\n",
            "18 hts, summe -> ts, summer\n",
            "19 ts, summer -> s, summer'\n",
            "20 s, summer' -> , summer's\n",
            "21 , summer's ->  summer's \n",
            "22  summer's  -> summer's a\n",
            "23 summer's a -> ummer's a \n",
            "24 ummer's a  -> mmer's a k\n",
            "25 mmer's a k -> mer's a kn\n",
            "26 mer's a kn -> er's a kni\n",
            "27 er's a kni -> r's a knif\n",
            "28 r's a knif -> 's a knife\n",
            "29 's a knife -> s a knifeI\n",
            "30 s a knifeI ->  a knifeI'\n",
            "31  a knifeI' -> a knifeI'm\n",
            "32 a knifeI'm ->  knifeI'm \n",
            "33  knifeI'm  -> knifeI'm a\n",
            "34 knifeI'm a -> nifeI'm al\n",
            "35 nifeI'm al -> ifeI'm alw\n",
            "36 ifeI'm alw -> feI'm alwa\n",
            "37 feI'm alwa -> eI'm alway\n",
            "38 eI'm alway -> I'm always\n",
            "39 I'm always -> 'm always \n",
            "40 'm always  -> m always w\n",
            "41 m always w ->  always wa\n",
            "42  always wa -> always wai\n",
            "43 always wai -> lways wait\n",
            "44 lways wait -> ways waiti\n",
            "45 ways waiti -> ays waitin\n",
            "46 ays waitin -> ys waiting\n",
            "47 ys waiting -> s waiting \n",
            "48 s waiting  ->  waiting f\n",
            "49  waiting f -> waiting fo\n",
            "50 waiting fo -> aiting for\n",
            "51 aiting for -> iting for \n",
            "52 iting for  -> ting for y\n",
            "53 ting for y -> ing for yo\n",
            "54 ing for yo -> ng for you\n",
            "55 ng for you -> g for you \n",
            "56 g for you  ->  for you j\n",
            "57  for you j -> for you ju\n",
            "58 for you ju -> or you jus\n",
            "59 or you jus -> r you just\n",
            "60 r you just ->  you just \n",
            "61  you just  -> you just t\n",
            "62 you just t -> ou just to\n",
            "63 ou just to -> u just to \n",
            "64 u just to  ->  just to c\n",
            "65  just to c -> just to cu\n",
            "66 just to cu -> ust to cut\n",
            "67 ust to cut -> st to cut \n",
            "68 st to cut  -> t to cut t\n",
            "69 t to cut t ->  to cut to\n",
            "70  to cut to -> to cut to \n",
            "71 to cut to  -> o cut to t\n",
            "72 o cut to t ->  cut to th\n",
            "73  cut to th -> cut to the\n",
            "74 cut to the -> ut to the \n",
            "75 ut to the  -> t to the b\n",
            "76 t to the b ->  to the bo\n",
            "77  to the bo -> to the bon\n",
            "78 to the bon -> o the bone\n",
            "79 o the bone ->  the boneD\n",
            "80  the boneD -> the boneDe\n",
            "81 the boneDe -> he boneDev\n",
            "82 he boneDev -> e boneDevi\n",
            "83 e boneDevi ->  boneDevil\n",
            "84  boneDevil -> boneDevils\n",
            "85 boneDevils -> oneDevils \n",
            "86 oneDevils  -> neDevils r\n",
            "87 neDevils r -> eDevils ro\n",
            "88 eDevils ro -> Devils rol\n",
            "89 Devils rol -> evils roll\n",
            "90 evils roll -> vils roll \n",
            "91 vils roll  -> ils roll t\n",
            "92 ils roll t -> ls roll th\n",
            "93 ls roll th -> s roll the\n",
            "94 s roll the ->  roll the \n",
            "95  roll the  -> roll the d\n",
            "96 roll the d -> oll the di\n",
            "97 oll the di -> ll the dic\n",
            "98 ll the dic -> l the dice\n",
            "99 l the dice ->  the dice,\n",
            "100  the dice, -> the dice, \n",
            "101 the dice,  -> he dice, a\n",
            "102 he dice, a -> e dice, an\n",
            "103 e dice, an ->  dice, ang\n",
            "104  dice, ang -> dice, ange\n",
            "105 dice, ange -> ice, angel\n",
            "106 ice, angel -> ce, angels\n",
            "107 ce, angels -> e, angels \n",
            "108 e, angels  -> , angels r\n",
            "109 , angels r ->  angels ro\n",
            "110  angels ro -> angels rol\n",
            "111 angels rol -> ngels roll\n",
            "112 ngels roll -> gels roll \n",
            "113 gels roll  -> els roll t\n",
            "114 els roll t -> ls roll th\n",
            "115 ls roll th -> s roll the\n",
            "116 s roll the ->  roll thei\n",
            "117  roll thei -> roll their\n",
            "118 roll their -> oll their \n",
            "119 oll their  -> ll their e\n",
            "120 ll their e -> l their ey\n",
            "121 l their ey ->  their eye\n",
            "122  their eye -> their eyes\n",
            "123 their eyes -> heir eyes \n",
            "124 heir eyes  -> eir eyes A\n",
            "125 eir eyes A -> ir eyes An\n",
            "126 ir eyes An -> r eyes And\n",
            "127 r eyes And ->  eyes And \n",
            "128  eyes And  -> eyes And i\n",
            "129 eyes And i -> yes And if\n",
            "130 yes And if -> es And if \n",
            "131 es And if  -> s And if I\n",
            "132 s And if I ->  And if I \n",
            "133  And if I  -> And if I b\n",
            "134 And if I b -> nd if I bl\n",
            "135 nd if I bl -> d if I ble\n",
            "136 d if I ble ->  if I blee\n",
            "137  if I blee -> if I bleed\n",
            "138 if I bleed -> f I bleed,\n",
            "139 f I bleed, ->  I bleed, \n",
            "140  I bleed,  -> I bleed, y\n",
            "141 I bleed, y ->  bleed, yo\n",
            "142  bleed, yo -> bleed, you\n",
            "143 bleed, you -> leed, you'\n",
            "144 leed, you' -> eed, you'l\n",
            "145 eed, you'l -> ed, you'll\n",
            "146 ed, you'll -> d, you'll \n",
            "147 d, you'll  -> , you'll b\n",
            "148 , you'll b ->  you'll be\n",
            "149  you'll be -> you'll be \n",
            "150 you'll be  -> ou'll be t\n",
            "151 ou'll be t -> u'll be th\n",
            "152 u'll be th -> 'll be the\n",
            "153 'll be the -> ll be the \n",
            "154 ll be the  -> l be the l\n",
            "155 l be the l ->  be the la\n",
            "156  be the la -> be the las\n",
            "157 be the las -> e the last\n",
            "158 e the last ->  the last \n",
            "159  the last  -> the last t\n",
            "160 the last t -> he last to\n",
            "161 he last to -> e last to \n",
            "162 e last to  ->  last to k\n",
            "163  last to k -> last to kn\n",
            "164 last to kn -> ast to kno\n",
            "165 ast to kno -> st to know\n"
          ]
        }
      ]
    },
    {
      "cell_type": "code",
      "source": [
        "x_one_hot = [np.eye(new_vocab_size)[x_seq] for x_seq in x_data]\n",
        "x_one_hot1 = [np.identity(new_vocab_size)[x_seq] for x_seq in x_data]\n",
        "\n",
        "X = torch.FloatTensor(x_one_hot)\n",
        "Y = torch.LongTensor(y_data)"
      ],
      "metadata": {
        "colab": {
          "base_uri": "https://localhost:8080/"
        },
        "id": "1i4ZCgZ9rXeM",
        "outputId": "8d9611eb-5a8d-45d3-e35f-70bfaa11703d"
      },
      "execution_count": 12,
      "outputs": [
        {
          "output_type": "stream",
          "name": "stderr",
          "text": [
            "<ipython-input-12-195c1967cb9b>:4: UserWarning: Creating a tensor from a list of numpy.ndarrays is extremely slow. Please consider converting the list to a single numpy.ndarray with numpy.array() before converting to a tensor. (Triggered internally at ../torch/csrc/utils/tensor_new.cpp:261.)\n",
            "  X = torch.FloatTensor(x_one_hot)\n"
          ]
        }
      ]
    },
    {
      "cell_type": "code",
      "source": [
        "class Net(torch.nn.Module):\n",
        "  def __init__(self, input_dim, hidden_dim, layers):\n",
        "    super(Net, self).__init__()\n",
        "    self.rnn = torch.nn.RNN(input_dim, hidden_dim, num_layers=layers, batch_first=True)\n",
        "    self.fc = torch.nn.Linear(hidden_dim, hidden_dim, bias=True)\n",
        "\n",
        "  def forward(self, x):\n",
        "    x, _status = self.rnn(x)\n",
        "    x = self.fc(x)\n",
        "    return x"
      ],
      "metadata": {
        "id": "isSNTSq7rpss"
      },
      "execution_count": 13,
      "outputs": []
    },
    {
      "cell_type": "code",
      "source": [
        "net = Net(new_vocab_size, hidden_size, 2)"
      ],
      "metadata": {
        "id": "PvloqF4lru9e"
      },
      "execution_count": 14,
      "outputs": []
    },
    {
      "cell_type": "code",
      "source": [
        "##12. loss function\n",
        "criterion = torch.nn.CrossEntropyLoss()\n",
        "\n",
        "##13. optimizer\n",
        "optimizer = optim.Adam(net.parameters(), learning_rate)"
      ],
      "metadata": {
        "id": "oFOIUXacryvp"
      },
      "execution_count": 15,
      "outputs": []
    },
    {
      "cell_type": "code",
      "source": [
        "##15. Training 시작\n",
        "\n",
        "for i in range(100): # 100번의 epoch\n",
        "    optimizer.zero_grad() # 매 반복마다 그래디언트 초기화\n",
        "    outputs = net(X) # 모델의 출력 계산\n",
        "    ##문제(7) : outputs, Y 형태 그대로 넣으면 안되죠. view 함수를 이용해 loss값을 계산해봅시다.\n",
        "    loss = criterion(outputs.view(-1, new_vocab_size), Y.view(-1)) # view 함수로 텐서 형태 변환, view(-1)로 펼쳐주기\n",
        "    loss.backward() # 역전파\n",
        "    optimizer.step() # 최적화 알고리즘 사용, 파라미터 업데이트\n",
        "\n",
        "    #16. 예측결과 확인\n",
        "    results = outputs.argmax(dim=2)\n",
        "    predict_str = \"\"\n",
        "    for j, result in enumerate(results):\n",
        "        if j == 0: # 처음에는 예측 결과를 전부 가져오기\n",
        "            predict_str += ''.join([new_world_set[t] for t in result])\n",
        "        else: # 그 다음에는 마지막 글자만 반복 추가\n",
        "            predict_str += new_world_set[result[-1]]\n",
        "\n",
        "    print(predict_str)"
      ],
      "metadata": {
        "colab": {
          "base_uri": "https://localhost:8080/"
        },
        "id": "m-dYRczlr5MV",
        "outputId": "5b427e4a-ae48-4c05-e2df-f37325f714b1"
      },
      "execution_count": 19,
      "outputs": [
        {
          "output_type": "stream",
          "name": "stdout",
          "text": [
            "e     e e  ee  e ee e e  eee ee    e ee eee  e  e       e  e   e  e   e e e  e e  e   eeeee   e  eee  e   ee     ee e  eee  e e  eee  eee  e   eeee   ee  ee  e  e   e  e e  ee\n",
            "        e                                                                         e                   e                     e                                    e             \n",
            "                                                                                                                                                                               \n",
            "                                                                                                                                                                               \n",
            "                                                                                                                                                                               \n",
            "                                                                                                                                                                               \n",
            "                                                                                                                                                                               \n",
            "        e                                                                         e                   e                     e                                    e             \n",
            "        e                                                               e    e e  e      e            e                     e                                    e        e  e \n",
            "      e e         e e e      e     e                       e          e e    e e  e      e       e    e         e      e    e     e    e   e                     e      e e  e \n",
            "  e e e e         e e e   e  e     e e                     e          e e  e e e  e e    e       e    e         e      e    e     e    e   e  e        e         e e    e e  e \n",
            "  e e e e  e   e  e e e   e  e     e e    e e     e        e e    e   e e  e e e  e e  e e       e    e         e      e    e     e    e   e  e        e  e      e e    e e  e \n",
            "  e e e e  e   e  e e e   e  e     e e  e e ee e  e   e    e      e   e e  e e e  e e  e e       e  e e    e  e e      e  e e     e    e   e  e    e   e  e      e      e e  e \n",
            "  t e e e  e   e  e e e   e  e     e e  e e  e ee e   e  t e      e   e e  e e e  e    e e       e  e e    e  t e      e  e e     e    e   e  e    e   e  e      e      e e  e \n",
            "  t e e e  e      e e t   e  e     e e  e e  e ee e  e   t e      e   e e  e e et e  e e e  t    e  t e    e  t e      e  t e  e  e  toe   e  e    e   e  e      e      e e  e \n",
            "  t e e e  e   oe e e t   e  e     e e  e e  e ee e  e   toe to   e   t e oe e et e  e e e  t   oe  t e  i e  toe     oe  t e  e  e  toe tie  e    e toe  e      e      e e oe \n",
            "  toe e e  e  toe e e t   e  e  o ee e  e e  e  e ei e   toe toe he   t e oe e ethe te e e  t   oe  t e  i e  toe    toe  t e     e  toe tie  e    t toe  e t  t e      e etoe \n",
            "  to  t e  e  to  e e t   e  e to ee e  e e  e  e ei e   to  to  he   t e oe t ethe te e e  t  toe  the tioe  toe    toe  the     e  toe tiet t    t to   e t  t e t    e etoe \n",
            "  to  t e te  to  e t t   e  e to ei e  e e  e  e ei e   to  to  he   t etoe t ethe te e e  to toe  the tooe  toe l  toe  the   t e  toe tiet t    t to   e t  the to   e etoe \n",
            "  to  t e te  to  e t t   e  e to ei e  e e  e ee ei ei  to  to  he   t etot t ethe to e e  ti to   the toie  to el  to   the t t e  toi iiet to   i to     to the to   e etoe \n",
            "  to  t e te  li  e t t   e  s toleifei s e  e ee ei iii to  to  he   t eto  thethe to e e ife to   the toie  todeli to   the t e e  toi iiet to   i to  l  to the to  he etoe \n",
            "  to  the te  fn  e t t   e  s toleifei s t  e ee ei iii to  to  he   t eto  th the to e e ile to   the toie  todeli to   the t e e  toi iiet to   i to  le to the to  ht etoe \n",
            "  to  the te  le  e t t   e  s todeifei s th ehe  eifiei to  to  he   toetot th the to e e ile to   the toie  todels to   the t e e  toi iiet t   li to  le to toe to thtoetoe \n",
            "  tot the dei det e t to  e  s todeife  s e sehe yeif e  to  to  re   toetot th the te e e sle to   the tiie  todels toe  the l eoe  toiiiiit t   li tou le to toe to t thetoe \n",
            "  tot the dei fet e t to  e  s aodeife  s e sehe yeif e  to  to  re   toetot th the te e e sle toe  the tiie  todels toe  the l eoe  toiiiiithte  li tou le to toe ds t thetoe \n",
            "  tot the deiifet t t to  e  s aodeifet s e  ele yeif ee to  tou re   toetot to the de e eiife toe  the tiie  todels toe  the l eoes toiiifithte  ld tou le to toe do t thetoe \n",
            "  tot toe deiifet t t to  e  s aodeifet s e lele yeitoee to  to  re t to tot to the de e eiife tol  the tiie  todels toe  the l ehes toiiifithte  'd tou le te toe do t thetoe \n",
            "  tot toe deidfit t t to  e  s aodeifeI s e tele yeitoee to  to  re t to tot to the de e efife tol  the toie  todefs toe  the d ehei toiiifithte  'd tou l  te the d  t thetoe \n",
            "  tot toe deidfit t t to  e 's a yeifeI's e tale yeitoee to  to  re t to tot to the do ehefife toll the doie  todefs roe  the d efei toiiif thte e'i tou s  te the d  t thetoe \n",
            "  tot toe deidfit t t to  e 's a yeifeI's e laye yeit ee tor tou re t to tot th the do ehevife toll the diie  todeis roel the d efei toiiif t tlee'i tou s  te the d  t thetoe \n",
            "  tot toe deidlit t t to  e 's a yeifeI s e laye yeit ee tor tou ro t to tot th the do ehevils roll the biie  todeis roel the d efes aod if t toee'i tou l  te the d st th toe \n",
            "  tot toe deidlit t t to  e 's a yeifeI s e laye yait ee tor tou tost to tot to the bo ehevils roll the biie  tod is rosl the d efes aod if t tleedi you l  te the d st to toe \n",
            "  tot toe deidlit t t to  e 's a keifeI s eilays yait ee for tou tost to tut to the bo efevils roll the biie  aodeis rosl the d e es aod if t bleedi you l  te the d st to toe \n",
            "  tut toe deidlit t t to le 's a knifeI s ailays rait ee for tou tost to tut to the bonehevils roll the biie  aodeis roll the d e es aod if t bleedi you l  te the dost to toe \n",
            "  tut toe deidlig t t to ler's a knifeI s ailays rait ef for tou yust to tut to the bonehevils roll the biie  aogeis roll the r e es aod if t bleedi you l  te the bost to theD\n",
            "  tut toe beidlif t t to ler's alknifeI s ailays rait ef for tou yust to tut th the bonehevils roll the biie  aogeis roll the r e es aod if t bleeds you l  te the bost to theD\n",
            "  tut toe deidlig t t to ler's alknifeI s allays raitief for tou Aust to tut to the bonehevils roll the biie  aogeis roll the r efes aod if I bleeds you l  te the bost to tneD\n",
            "  tut toe de dlig t t to ler's alknifeI s allays raitieg for tou tust to tut to the boneDevils roll the biie, aogeis roll the r eDes aod if I bleeds you l  te the dlst to tneD\n",
            "  tut toe de dlig t t to ler's alknifeI s allays raitieg for tou bust to tut to the boneDevils roll the biie, aogeis roll the r eDes aod if I bleeds you l  te the dlst to tneD\n",
            "n tut toe de dlight t to ler's a knifeI s allays raitiig for tou just to tut to the boneDevils roll the dile, aogeis roll the d eDes Aod if I bleeds you l  te the dlst to tniD\n",
            "n cut toe de dlight   to ler's a knifeI's always raitiig for you just to tut to the boneDevils roll the dile, aogeds roll the d eyes Aod if I bleed, you l  te the dost to tniD\n",
            "n cut toe de dlight   tosler's a knifeI's always raitiig for you just to tut to the boneDevils roll the dile, aogels roll the d eyes Aod if I bleed, you l  te the dost to tniD\n",
            "n cut toe de dlight   tosmer's a knifeI's always raiting for you just to tut to the boneDevils roll the dile, aogels roll the r eyes Aod if I bleed, you'le te the dost to tniD\n",
            "n cut toe de dlight   tormer's a knifeI'm always waiting for you just to tut to the boneDevils roll the dile, aogels roll the r eyes Aod if I bleed, you'll te the dist to tniD\n",
            "n cut toe deidlight   tosmer's a knifeI'm always waitiig for you just to cut to the boneDevils roll the dile, aogels roll the r eyes Aod if I bleed, you'll te the dist to tniD\n",
            "n cut toe deadlights, tosmer's a knifeI'm always waitiig for you just to cut to the boneDevils roll the dile, aigels roll the r eyes Aod if I bleed, you'll te the dist to tniD\n",
            "n cut toe deadlights, tummer's a knifeI'm always waitiig for you just to cut to the boneDevils roll the dile, aigels roll the r eyes And if I bleed, you ll be the dist to tniD\n",
            "n cut toe deidlights, tummer's a knifeI'm always waitiig for you just to cut to the boneDevils roll the bile, aigels roll the r eyes And if I bleed, you ll be the dist to tniD\n",
            "n cut toe deadlights, tummer's a knifeI'm always waitiig for you just to cut to the boneDevils roll the bile, aigels roll the r eyes And if I bleed, you'll be the dist to cniD\n",
            "n cut toe headlights, tummer's a knifeI'm always waitiig for you just to cut to the boneDevils roll the bile, aigels roll the r eyes And if I bleed, you'll be the dast to cniD\n",
            "n cut toe headlights, tummer's a knifeI'm always waitiig for you just to cut to the boneDevils roll the bige, angels roll the r eyes And if I bleed, you'll be the dast to cniD\n",
            "n cut toe headlights, tummer's a knifeI'm always waiting for you just to cut to the boneDevils roll the bige, angels roll the r eyes And if I bleed, you'll be the dast to cniD\n",
            "n cut toe headlights, tummer's a knifeI'm always waiting for you just to cut to the boneDevils roll the bige, angels roll the r eyes And if I bleed, you'll be the dast to cniD\n",
            "n cut toe headlights, tummer's a knifeI'm always waiting for you just to cut to the boneDevils roll the bige, angels roll the r eyes And if I bleed, you'll be the dast to cniD\n",
            "n cut toe headlights, tummer's a knifeI'm always waiting for you just to cut to the boneDevils roll the dice, angels roll the r eyes And if I bleed, you'll be the dast to cniD\n",
            "n cut toe headlights, summer's a knifeI'm always waiting for you just to cut to the boneDevils roll the dice, angels roll the r eyes And if I bleed, you'll be the dast to cniD\n",
            "n cut toe headlights, summer's a knifeI'm always waiting for you just to cut to the boneDevils roll the dice, angels roll the r eyes And if I bleed, you'll be the dast to cniD\n",
            "n cut toe headlights, summer's a knifeI'm always waiting for you just to cut to the boneDevils roll the dice, angels roll the r eyes And if I bleed, you'll be the dast to cniD\n",
            "n cut toe headlights, summer's a knifeI'm always waiting for you just to cut to the boneDevils roll the dice, angels roll the r eyes And if I bleed, you'll be the dast to cniD\n",
            "n cut toe headlights, summer's a knifeI'm always waiting for you just to cut to the boneDevils roll the dice, angels roll the r eyes And if I bleed, you'll be the dast to cniD\n",
            "o cut toe headlights, summer's a knifeI'm always waiting for you just to cut to the boneDevils roll the dice, angels roll the r eyes And if I bleed, you'll be the dast to cniD\n",
            "o cut toe headlights, summer's a knifeI'm always waiting for you just to cut to the boneDevils roll the dice, angels roll the r eyes And if I bleed, you'll be the dast to cniD\n",
            "o cut toe headlights, summer's a knifeI'm always waiting for you just to cut to the boneDevils roll the dice, angels roll the r eyes And if I bleed, you'll be the dast to cniD\n",
            "o cut toe headlights, summer's a knifeI'm always waiting for you just to cut to the boneDevils roll the dice, angels roll the r eyes And if I bleed, you'll be the dast to cniD\n",
            "o cut toe headlights, summer's a knifeI'm always waiting for you just to cut to the boneDevils roll the dice, angels roll the r eyes And if I bleed, you'll be the dast to cniD\n",
            "o cut toe headlights, summer's a knifeI'm always waiting for you just to cut to the boneDevils roll the dice, angels roll the r eyes And if I bleed, you'll be the dast to cniD\n",
            "o cut toe headlights, summer's a knifeI'm always waiting for you just to cut to the boneDevils roll the dice, angels roll the r eyes And if I bleed, you'll be the dast to cniD\n",
            "o cut toe headlights, summer's a knifeI'm always waiting for you just to cut to the boneDevils roll the dice, angels roll the r eyes And if I bleed, you'll be the dast to kniD\n",
            "o cut toe headlights, summer's a knifeI'm always waiting for you just to cut to the boneDevils roll the dice, angels roll the r eyes And if I bleed, you'll be the dast to kniD\n",
            "o cut toe headlights, summer's a knifeI'm always waiting for you just to cut to the boneDevils roll the dice, angels roll the r eyes And if I bleed, you'll be the dast to kniD\n",
            "o cut toe headlights, summer's a knifeI'm always waiting for you just to cut to the boneDevils roll the dice, angels roll the r eyes And if I bleed, you'll be the dast to knoD\n",
            "o cut toe headlights, summer's a knifeI'm always waiting for you just to cut to the boneDevils roll theidice, angels roll their eyes And if I bleed, you'll be the dast to knoD\n",
            "o cut toe headlights, summer's a knifeI'm always waiting for you just to cut to the boneDevils roll theidice, angels roll their eyes And if I bleed, you'll be the dast to knoD\n",
            "o cut toe headlights, summer's a knifeI'm always waiting for you just to cut to the boneDevils roll theidice, angels roll their eyes And if I bleed, you'll be the dast to knoD\n",
            "o cut toe headlights, summer's a knifeI'm always waiting for you just to cut to the boneDevils roll theidice, angels roll their eyes And if I bleed, you'll be the dast to knoD\n",
            "o cut toe headlights, summer's a knifeI'm always waiting for you just to cut to the boneDevils roll theidice, angels roll their eyes And if I bleed, you'll be the dast to knoD\n",
            "o cut toe headlights, summer's a knifeI'm always waiting for you just to cut to the boneDevils roll theidice, angels roll their eyes And if I bleed, you'll be the last to knoD\n",
            "o cut toe headlights, summer's a knifeI'm always waiting for you just to cut to the boneDevils roll theidice, angels roll their eyes And if I bleed, you'll be the last to knoD\n",
            "o cut toe headlights, summer's a knifeI'm always waiting for you just to cut to the boneDevils roll theidice, angels roll their eyes And if I bleed, you'll be the last to knoD\n",
            "o cut toe headlights, summer's a knifeI'm always waiting for you just to cut to the boneDevils roll theidice, angels roll their eyes And if I bleed, you'll be the last to knoD\n",
            "o cut toe headlights, summer's a knifeI'm always waiting for you just to cut to the boneDevils roll theidice, angels roll their eyes And if I bleed, you'll be the last to knoD\n",
            "o cut toe headlights, summer's a knifeI'm always waiting for you just to cut to the boneDevils roll theidice, angels roll their eyes And if I bleed, you'll be the last to knoD\n",
            "o cut toe headlights, summer's a knifeI'm always waiting for you just to cut to the boneDevils roll theidice, angels roll their eyes And if I bleed, you'll be the last to knoD\n",
            "o cut toe headlights, summer's a knifeI'm always waiting for you just to cut to the boneDevils roll theidice, angels roll their eyes And if I bleed, you'll be the last to know\n",
            "o cut toe headlights, summer's a knifeI'm always waiting for you just to cut to the boneDevils roll theidice, angels roll their eyes And if I bleed, you'll be the last to know\n",
            "o cut toe headlights, summer's a knifeI'm always waiting for you just to cut to the boneDevils roll theidice, angels roll their eyes And if I bleed, you'll be the last to know\n",
            "o cut toe headlights, summer's a knifeI'm always waiting for you just to cut to the boneDevils roll theidice, angels roll their eyes And if I bleed, you'll be the last to know\n",
            "o cut toe headlights, summer's a knifeI'm always waiting for you just to cut to the boneDevils roll theidice, angels roll their eyes And if I bleed, you'll be the last to know\n",
            "o cut toe headlights, summer's a knifeI'm always waiting for you just to cut to the boneDevils roll theidice, angels roll their eyes And if I bleed, you'll be the last to know\n",
            "o cut the headlights, summer's a knifeI'm always waiting for you just to cut to the boneDevils roll theidice, angels roll their eyes And if I bleed, you'll be the last to know\n",
            "o cut the headlights, summer's a knifeI'm always waiting for you just to cut to the boneDevils roll the dice, angels roll the r eyes And if I bleed, you'll be the last to know\n",
            "o cut the headlights, summer's a knifeI'm always waiting for you just to cut to the boneDevils roll the dice, angels roll the r eyes And if I bleed, you'll be the last to know\n",
            "o cut the headlights, summer's a knifeI'm always waiting for you just to cut to the boneDevils roll the dice, angels roll the r eyes And if I bleed, you'll be the last to know\n",
            "o cut the headlights, summer's a knifeI'm always waiting for you just to cut to the boneDevils roll the dice, angels roll the r eyes And if I bleed, you'll be the last to know\n",
            "o cut the headlights, summer's a knifeI'm always waiting for you just to cut to the boneDevils roll the dice, angels roll the r eyes And if I bleed, you'll be the last to know\n",
            "o cut the headlights, summer's a knifeI'm always waiting for you just to cut to the boneDevils roll the dice, angels roll the r eyes And if I bleed, you'll be the last to know\n",
            "o cut the headlights, summer's a knifeI'm always waiting for you just to cut to the boneDevils roll the dice, angels roll the r eyes And if I bleed, you'll be the last to know\n",
            "o cut the headlights, summer's a knifeI'm always waiting for you just to cut to the boneDevils roll the dice, angels roll the r eyes And if I bleed, you'll be the last to know\n",
            "o cut the headlights, summer's a knifeI'm always waiting for you just to cut to the boneDevils roll the dice, angels roll the r eyes And if I bleed, you'll be the last to know\n",
            "o cut the headlights, summer's a knifeI'm always waiting for you just to cut to the boneDevils roll the dice, angels roll the r eyes And if I bleed, you'll be the last to know\n"
          ]
        }
      ]
    },
    {
      "cell_type": "code",
      "source": [
        "predict_str"
      ],
      "metadata": {
        "colab": {
          "base_uri": "https://localhost:8080/",
          "height": 53
        },
        "id": "UtNzwOlOsLpO",
        "outputId": "00841ed2-3810-42a6-edf8-ea52b823a2c5"
      },
      "execution_count": 20,
      "outputs": [
        {
          "output_type": "execute_result",
          "data": {
            "text/plain": [
              "\"o cut the headlights, summer's a knifeI'm always waiting for you just to cut to the boneDevils roll the dice, angels roll the r eyes And if I bleed, you'll be the last to know\""
            ],
            "application/vnd.google.colaboratory.intrinsic+json": {
              "type": "string"
            }
          },
          "metadata": {},
          "execution_count": 20
        }
      ]
    }
  ]
}