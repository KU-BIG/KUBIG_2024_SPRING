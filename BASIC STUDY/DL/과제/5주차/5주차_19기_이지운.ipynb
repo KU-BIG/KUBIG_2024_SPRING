{
 "cells": [
  {
   "cell_type": "code",
   "execution_count": 1,
   "metadata": {
    "id": "nmQ5F7UAeKB_"
   },
   "outputs": [],
   "source": [
    "import numpy as np\n",
    "import torch\n",
    "import torch.nn as nn\n",
    "import torch.optim as optim"
   ]
  },
  {
   "cell_type": "markdown",
   "metadata": {
    "id": "Sgxd6SxmeVcP"
   },
   "source": [
    "## Task1\n",
    "\n",
    "빈 칸을 채워주세요!\n",
    "\n",
    "단계별 output이 github 파일에는 남아있으니 그 output과 동일한 형태인지 확인하면서 진행해주시면 됩니다~"
   ]
  },
  {
   "cell_type": "code",
   "execution_count": 2,
   "metadata": {
    "id": "NDvUeC8BoUb6"
   },
   "outputs": [],
   "source": [
    "#1. 생성할 문장 데이터\n",
    "\n",
    "sentence = (\"Brick walls are there for a reason and you must not think \"\n",
    "            \"that the brick walls aren't there to keep us out, but rather \"\n",
    "            \"in this way that the brick walls are there to show us how badly we want things.\")"
   ]
  },
  {
   "cell_type": "code",
   "execution_count": 3,
   "metadata": {
    "id": "b9lkrKyZf8ie"
   },
   "outputs": [],
   "source": [
    "#2. 문자 집합 만들기\n",
    "world_set = list(set(sentence))\n",
    "\n",
    "## 문제(1): 각 문자에 정수 인코딩 (공백도 하나의 원소로 포함)\n",
    "vocab = {world: idx for idx, world in enumerate(world_set)}"
   ]
  },
  {
   "cell_type": "code",
   "execution_count": 4,
   "metadata": {
    "colab": {
     "base_uri": "https://localhost:8080/"
    },
    "id": "F_0we5Y-gYDq",
    "outputId": "ba1a26b3-dd20-4ad9-aec1-5c54a1574222"
   },
   "outputs": [
    {
     "name": "stdout",
     "output_type": "stream",
     "text": [
      "{' ': 0, 'a': 1, ',': 2, 'm': 3, 'B': 4, 'c': 5, '.': 6, 'o': 7, 's': 8, 'h': 9, 'e': 10, 'f': 11, 'n': 12, 'r': 13, 'b': 14, 'p': 15, 'l': 16, \"'\": 17, 'k': 18, 'y': 19, 'i': 20, 'u': 21, 'd': 22, 't': 23, 'g': 24, 'w': 25}\n"
     ]
    }
   ],
   "source": [
    "print(vocab)"
   ]
  },
  {
   "cell_type": "code",
   "execution_count": 5,
   "metadata": {
    "colab": {
     "base_uri": "https://localhost:8080/"
    },
    "id": "TpKupU6lgpfT",
    "outputId": "d61c484e-992b-47bb-e912-639ac9267f64",
    "scrolled": true
   },
   "outputs": [
    {
     "name": "stdout",
     "output_type": "stream",
     "text": [
      "문자 집합 크기 : 26\n"
     ]
    }
   ],
   "source": [
    "#3. 문자 집합 크기 확인\n",
    "\n",
    "vocab_size = len(vocab)\n",
    "print('문자 집합 크기 : {}'.format(vocab_size))"
   ]
  },
  {
   "cell_type": "code",
   "execution_count": 6,
   "metadata": {
    "id": "wFDZJHSMg9In"
   },
   "outputs": [],
   "source": [
    "#4. 하이퍼 파라미터 설정(자유롭게 수정해보세요!)\n",
    "\n",
    "hidden_size = vocab_size # 같아야 하는 것 확인!\n",
    "sequence_length = 10  # 너무 길거나 너무 짧게 잡으면 안됩니다!\n",
    "learning_rate = 0.01"
   ]
  },
  {
   "cell_type": "code",
   "execution_count": 7,
   "metadata": {
    "colab": {
     "base_uri": "https://localhost:8080/"
    },
    "id": "RbDcmJmghN7V",
    "outputId": "330ffe8f-e5ef-4d39-8cb3-138c0a25c94a"
   },
   "outputs": [
    {
     "name": "stdout",
     "output_type": "stream",
     "text": [
      "0 Brick wall -> rick walls\n",
      "1 rick walls -> ick walls \n",
      "2 ick walls  -> ck walls a\n",
      "3 ck walls a -> k walls ar\n",
      "4 k walls ar ->  walls are\n",
      "5  walls are -> walls are \n",
      "6 walls are  -> alls are t\n",
      "7 alls are t -> lls are th\n",
      "8 lls are th -> ls are the\n",
      "9 ls are the -> s are ther\n",
      "10 s are ther ->  are there\n",
      "11  are there -> are there \n",
      "12 are there  -> re there f\n",
      "13 re there f -> e there fo\n",
      "14 e there fo ->  there for\n",
      "15  there for -> there for \n",
      "16 there for  -> here for a\n",
      "17 here for a -> ere for a \n",
      "18 ere for a  -> re for a r\n",
      "19 re for a r -> e for a re\n",
      "20 e for a re ->  for a rea\n",
      "21  for a rea -> for a reas\n",
      "22 for a reas -> or a reaso\n",
      "23 or a reaso -> r a reason\n",
      "24 r a reason ->  a reason \n",
      "25  a reason  -> a reason a\n",
      "26 a reason a ->  reason an\n",
      "27  reason an -> reason and\n",
      "28 reason and -> eason and \n",
      "29 eason and  -> ason and y\n",
      "30 ason and y -> son and yo\n",
      "31 son and yo -> on and you\n",
      "32 on and you -> n and you \n",
      "33 n and you  ->  and you m\n",
      "34  and you m -> and you mu\n",
      "35 and you mu -> nd you mus\n",
      "36 nd you mus -> d you must\n",
      "37 d you must ->  you must \n",
      "38  you must  -> you must n\n",
      "39 you must n -> ou must no\n",
      "40 ou must no -> u must not\n",
      "41 u must not ->  must not \n",
      "42  must not  -> must not t\n",
      "43 must not t -> ust not th\n",
      "44 ust not th -> st not thi\n",
      "45 st not thi -> t not thin\n",
      "46 t not thin ->  not think\n",
      "47  not think -> not think \n",
      "48 not think  -> ot think t\n",
      "49 ot think t -> t think th\n",
      "50 t think th ->  think tha\n",
      "51  think tha -> think that\n",
      "52 think that -> hink that \n",
      "53 hink that  -> ink that t\n",
      "54 ink that t -> nk that th\n",
      "55 nk that th -> k that the\n",
      "56 k that the ->  that the \n",
      "57  that the  -> that the b\n",
      "58 that the b -> hat the br\n",
      "59 hat the br -> at the bri\n",
      "60 at the bri -> t the bric\n",
      "61 t the bric ->  the brick\n",
      "62  the brick -> the brick \n",
      "63 the brick  -> he brick w\n",
      "64 he brick w -> e brick wa\n",
      "65 e brick wa ->  brick wal\n",
      "66  brick wal -> brick wall\n",
      "67 brick wall -> rick walls\n",
      "68 rick walls -> ick walls \n",
      "69 ick walls  -> ck walls a\n",
      "70 ck walls a -> k walls ar\n",
      "71 k walls ar ->  walls are\n",
      "72  walls are -> walls aren\n",
      "73 walls aren -> alls aren'\n",
      "74 alls aren' -> lls aren't\n",
      "75 lls aren't -> ls aren't \n",
      "76 ls aren't  -> s aren't t\n",
      "77 s aren't t ->  aren't th\n",
      "78  aren't th -> aren't the\n",
      "79 aren't the -> ren't ther\n",
      "80 ren't ther -> en't there\n",
      "81 en't there -> n't there \n",
      "82 n't there  -> 't there t\n",
      "83 't there t -> t there to\n",
      "84 t there to ->  there to \n",
      "85  there to  -> there to k\n",
      "86 there to k -> here to ke\n",
      "87 here to ke -> ere to kee\n",
      "88 ere to kee -> re to keep\n",
      "89 re to keep -> e to keep \n",
      "90 e to keep  ->  to keep u\n",
      "91  to keep u -> to keep us\n",
      "92 to keep us -> o keep us \n",
      "93 o keep us  ->  keep us o\n",
      "94  keep us o -> keep us ou\n",
      "95 keep us ou -> eep us out\n",
      "96 eep us out -> ep us out,\n",
      "97 ep us out, -> p us out, \n",
      "98 p us out,  ->  us out, b\n",
      "99  us out, b -> us out, bu\n",
      "100 us out, bu -> s out, but\n",
      "101 s out, but ->  out, but \n",
      "102  out, but  -> out, but r\n",
      "103 out, but r -> ut, but ra\n",
      "104 ut, but ra -> t, but rat\n",
      "105 t, but rat -> , but rath\n",
      "106 , but rath ->  but rathe\n",
      "107  but rathe -> but rather\n",
      "108 but rather -> ut rather \n",
      "109 ut rather  -> t rather i\n",
      "110 t rather i ->  rather in\n",
      "111  rather in -> rather in \n",
      "112 rather in  -> ather in t\n",
      "113 ather in t -> ther in th\n",
      "114 ther in th -> her in thi\n",
      "115 her in thi -> er in this\n",
      "116 er in this -> r in this \n",
      "117 r in this  ->  in this w\n",
      "118  in this w -> in this wa\n",
      "119 in this wa -> n this way\n",
      "120 n this way ->  this way \n",
      "121  this way  -> this way t\n",
      "122 this way t -> his way th\n",
      "123 his way th -> is way tha\n",
      "124 is way tha -> s way that\n",
      "125 s way that ->  way that \n",
      "126  way that  -> way that t\n",
      "127 way that t -> ay that th\n",
      "128 ay that th -> y that the\n",
      "129 y that the ->  that the \n",
      "130  that the  -> that the b\n",
      "131 that the b -> hat the br\n",
      "132 hat the br -> at the bri\n",
      "133 at the bri -> t the bric\n",
      "134 t the bric ->  the brick\n",
      "135  the brick -> the brick \n",
      "136 the brick  -> he brick w\n",
      "137 he brick w -> e brick wa\n",
      "138 e brick wa ->  brick wal\n",
      "139  brick wal -> brick wall\n",
      "140 brick wall -> rick walls\n",
      "141 rick walls -> ick walls \n",
      "142 ick walls  -> ck walls a\n",
      "143 ck walls a -> k walls ar\n",
      "144 k walls ar ->  walls are\n",
      "145  walls are -> walls are \n",
      "146 walls are  -> alls are t\n",
      "147 alls are t -> lls are th\n",
      "148 lls are th -> ls are the\n",
      "149 ls are the -> s are ther\n",
      "150 s are ther ->  are there\n",
      "151  are there -> are there \n",
      "152 are there  -> re there t\n",
      "153 re there t -> e there to\n",
      "154 e there to ->  there to \n",
      "155  there to  -> there to s\n",
      "156 there to s -> here to sh\n",
      "157 here to sh -> ere to sho\n",
      "158 ere to sho -> re to show\n",
      "159 re to show -> e to show \n",
      "160 e to show  ->  to show u\n",
      "161  to show u -> to show us\n",
      "162 to show us -> o show us \n",
      "163 o show us  ->  show us h\n",
      "164  show us h -> show us ho\n",
      "165 show us ho -> how us how\n",
      "166 how us how -> ow us how \n",
      "167 ow us how  -> w us how b\n",
      "168 w us how b ->  us how ba\n",
      "169  us how ba -> us how bad\n",
      "170 us how bad -> s how badl\n",
      "171 s how badl ->  how badly\n",
      "172  how badly -> how badly \n",
      "173 how badly  -> ow badly w\n",
      "174 ow badly w -> w badly we\n",
      "175 w badly we ->  badly we \n",
      "176  badly we  -> badly we w\n",
      "177 badly we w -> adly we wa\n",
      "178 adly we wa -> dly we wan\n",
      "179 dly we wan -> ly we want\n",
      "180 ly we want -> y we want \n",
      "181 y we want  ->  we want t\n",
      "182  we want t -> we want th\n",
      "183 we want th -> e want thi\n",
      "184 e want thi ->  want thin\n",
      "185  want thin -> want thing\n",
      "186 want thing -> ant things\n",
      "187 ant things -> nt things.\n"
     ]
    }
   ],
   "source": [
    "#5. seqence 길이 단위 자르기\n",
    "\n",
    "# 데이터 구성을 위한 리스트\n",
    "x_data = []\n",
    "y_data = []\n",
    "\n",
    "## 문제(2): 반복문 내에서의 인덱싱을 사용하여 sequence_length 값 단위로 샘플을 잘라 데이터 만들기, y_str은 x_str은 한 칸씩 쉬프트된 sequnce\n",
    "\n",
    "for i in range(0, len(sentence) - sequence_length):\n",
    "  x_str = sentence[i:i+sequence_length]\n",
    "  y_str = sentence[i+1:i+1+sequence_length]\n",
    "  print(i, x_str, \"->\", y_str)\n",
    "\n",
    "  # x_str과 y_str이 문자집합에 해당하는 인덱스를 각각 x_data, y_data에 append\n",
    "  x_data.append([vocab[c] for c in x_str])\n",
    "  y_data.append([vocab[d] for d in y_str])"
   ]
  },
  {
   "cell_type": "code",
   "execution_count": 8,
   "metadata": {
    "colab": {
     "base_uri": "https://localhost:8080/"
    },
    "id": "XVFlILiOixdc",
    "outputId": "6c46fe58-b513-4a90-ea1f-31bfc5f5dc35"
   },
   "outputs": [
    {
     "name": "stdout",
     "output_type": "stream",
     "text": [
      "[4, 13, 20, 5, 18, 0, 25, 1, 16, 16]\n",
      "[13, 20, 5, 18, 0, 25, 1, 16, 16, 8]\n"
     ]
    }
   ],
   "source": [
    "# 출력해서 한 칸씩 쉬프트된 것 확인하기!\n",
    "\n",
    "print(x_data[0])\n",
    "print(y_data[0])"
   ]
  },
  {
   "cell_type": "code",
   "execution_count": 9,
   "metadata": {
    "id": "5lPes1dvjlNb"
   },
   "outputs": [],
   "source": [
    "##6. 입력 시퀀스에 대해 원핫인코딩 수행\n",
    "\n",
    "## 문제(4) : x_data를 원핫인코딩 > numpy의 eye를 쓸 수 있지 않을까?\n",
    "# np.eye 는 대각선이 1인 행렬 생성하는 함수\n",
    "x_data_np = np.array(x_data)\n",
    "x_one_hot = np.eye(len(vocab))[x_data_np]\n",
    "\n",
    "##7. 입력 데이터, 레이블데이터 텐서로 변환\n",
    "\n",
    "## 문제(5) : x_one_hot과 y_data 텐서로 변환 : 둘 다 같은 형식의 텐서로 변환하면 될까?? (FloatTensor, LongTesor 중 맞는 것은?)\n",
    "X = torch.FloatTensor(x_one_hot) # 원핫인코딩된 데이터, 각각의 문자에 대한 확률\n",
    "Y = torch.LongTensor(y_data) #각 문자에 대한 정수 인덱스, 클래스 레이블"
   ]
  },
  {
   "cell_type": "code",
   "execution_count": 10,
   "metadata": {
    "colab": {
     "base_uri": "https://localhost:8080/"
    },
    "id": "lMZzZlaymMk8",
    "outputId": "0516d5e2-9e42-4c76-eb31-33721c9f9b42"
   },
   "outputs": [
    {
     "name": "stdout",
     "output_type": "stream",
     "text": [
      "훈련 데이터의 크기 : torch.Size([188, 10, 26])\n",
      "레이블의 크기 : torch.Size([188, 10])\n"
     ]
    }
   ],
   "source": [
    "##8. 크기 확인\n",
    "print('훈련 데이터의 크기 : {}'.format(X.shape))\n",
    "print('레이블의 크기 : {}'.format(Y.shape))"
   ]
  },
  {
   "cell_type": "code",
   "execution_count": 11,
   "metadata": {
    "colab": {
     "base_uri": "https://localhost:8080/"
    },
    "id": "knx1DE_AmSFB",
    "outputId": "8c3ab2e1-bcc3-4540-ea21-072ed6683269"
   },
   "outputs": [
    {
     "name": "stdout",
     "output_type": "stream",
     "text": [
      "tensor([[0., 0., 0., 0., 1., 0., 0., 0., 0., 0., 0., 0., 0., 0., 0., 0., 0., 0.,\n",
      "         0., 0., 0., 0., 0., 0., 0., 0.],\n",
      "        [0., 0., 0., 0., 0., 0., 0., 0., 0., 0., 0., 0., 0., 1., 0., 0., 0., 0.,\n",
      "         0., 0., 0., 0., 0., 0., 0., 0.],\n",
      "        [0., 0., 0., 0., 0., 0., 0., 0., 0., 0., 0., 0., 0., 0., 0., 0., 0., 0.,\n",
      "         0., 0., 1., 0., 0., 0., 0., 0.],\n",
      "        [0., 0., 0., 0., 0., 1., 0., 0., 0., 0., 0., 0., 0., 0., 0., 0., 0., 0.,\n",
      "         0., 0., 0., 0., 0., 0., 0., 0.],\n",
      "        [0., 0., 0., 0., 0., 0., 0., 0., 0., 0., 0., 0., 0., 0., 0., 0., 0., 0.,\n",
      "         1., 0., 0., 0., 0., 0., 0., 0.],\n",
      "        [1., 0., 0., 0., 0., 0., 0., 0., 0., 0., 0., 0., 0., 0., 0., 0., 0., 0.,\n",
      "         0., 0., 0., 0., 0., 0., 0., 0.],\n",
      "        [0., 0., 0., 0., 0., 0., 0., 0., 0., 0., 0., 0., 0., 0., 0., 0., 0., 0.,\n",
      "         0., 0., 0., 0., 0., 0., 0., 1.],\n",
      "        [0., 1., 0., 0., 0., 0., 0., 0., 0., 0., 0., 0., 0., 0., 0., 0., 0., 0.,\n",
      "         0., 0., 0., 0., 0., 0., 0., 0.],\n",
      "        [0., 0., 0., 0., 0., 0., 0., 0., 0., 0., 0., 0., 0., 0., 0., 0., 1., 0.,\n",
      "         0., 0., 0., 0., 0., 0., 0., 0.],\n",
      "        [0., 0., 0., 0., 0., 0., 0., 0., 0., 0., 0., 0., 0., 0., 0., 0., 1., 0.,\n",
      "         0., 0., 0., 0., 0., 0., 0., 0.]])\n"
     ]
    }
   ],
   "source": [
    "##9.원핫인코딩 결과 샘플 확인하기\n",
    "print(X[0])"
   ]
  },
  {
   "cell_type": "code",
   "execution_count": 12,
   "metadata": {
    "colab": {
     "base_uri": "https://localhost:8080/"
    },
    "id": "6pWDiH1SmYT_",
    "outputId": "725e56c1-8b3e-432a-9725-e112ddf8ea48"
   },
   "outputs": [
    {
     "name": "stdout",
     "output_type": "stream",
     "text": [
      "tensor([13, 20,  5, 18,  0, 25,  1, 16, 16,  8])\n"
     ]
    }
   ],
   "source": [
    "##10. 레이블 데이터 샘플 확인하기\n",
    "print(Y[0])"
   ]
  },
  {
   "cell_type": "code",
   "execution_count": 13,
   "metadata": {
    "id": "-Ww22xu8mfUc"
   },
   "outputs": [],
   "source": [
    "##11. RNN 모델 구현\n",
    "\n",
    "##문제(6) : 기본 pytorch 인자 넣기 연습 + forward 채우기\n",
    "### 조건 : rnn layer 2개 쌓기 + 마지막은 fc layer\n",
    "### batch_fisrt 설정 필요할까? (유튜브 강의 참고)\n",
    "\n",
    "class Net(torch.nn.Module):\n",
    "  def __init__(self, input_dim, hidden_dim, layers):\n",
    "    super(Net, self).__init__()\n",
    "    self.rnn = torch.nn.RNN(input_dim, hidden_dim, num_layers=layers, batch_first=True)\n",
    "    self.fc = torch.nn.Linear(hidden_dim, input_dim)\n",
    "\n",
    "  def forward(self, x):\n",
    "    x, _ = self.rnn(x)\n",
    "    x, _ = self.rnn(x)\n",
    "    x = self.fc(x)\n",
    "    return x"
   ]
  },
  {
   "cell_type": "code",
   "execution_count": 14,
   "metadata": {
    "id": "No2GRvTpnLBl"
   },
   "outputs": [],
   "source": [
    "net = Net(vocab_size, hidden_size, 2)"
   ]
  },
  {
   "cell_type": "code",
   "execution_count": 15,
   "metadata": {
    "id": "9-zuJLeUnQLB"
   },
   "outputs": [],
   "source": [
    "##12. loss function\n",
    "criterion = torch.nn.CrossEntropyLoss()\n",
    "\n",
    "##13. optimizer\n",
    "optimizer = optim.Adam(net.parameters(), learning_rate)"
   ]
  },
  {
   "cell_type": "code",
   "execution_count": 16,
   "metadata": {
    "colab": {
     "base_uri": "https://localhost:8080/"
    },
    "id": "z-RxRaiHnh9U",
    "outputId": "72b1602b-c864-4b6c-93e6-af02d2d81e0f"
   },
   "outputs": [
    {
     "name": "stdout",
     "output_type": "stream",
     "text": [
      "torch.Size([188, 10, 26])\n"
     ]
    }
   ],
   "source": [
    "##14. 출력 크기 점검\n",
    "outputs = net(X)\n",
    "print(outputs.shape)"
   ]
  },
  {
   "cell_type": "code",
   "execution_count": 17,
   "metadata": {
    "colab": {
     "base_uri": "https://localhost:8080/"
    },
    "id": "uxxrxCd2nwoo",
    "outputId": "a642360a-db38-422e-9bc8-2a7e72708ba2"
   },
   "outputs": [
    {
     "name": "stdout",
     "output_type": "stream",
     "text": [
      "uffffffffffffffffffffffffffffffffffffffffffffffffffffffffffffffffffffffffffffffffffffffffffffffffffffffffffffffffffffffffffffffffffffffffffffffffffffffffffffffffffffffffffffffffffffffffffffffffffff\n",
      "aaa aaaaaaaaaaaaaaaaaaaaaaaaaaaaaaaaaaaaaaaaaaaaaaaaaaaaaaaaaaaaaaaaaaaaaaaaaaaaaaaaaaaaaaaaaaaaaaaaaaaaaaaaaaaaaaaaaaaaaaaaaaaaaaaaaa aaaaaaaaaaaaaaaaaaaaaaaaaaaaaaaaaaaaaaaaaaaaaaaaaaaaaaaaaaaaaa\n",
      "a                                                                                                                                                                                                    \n",
      "a                                                                                                                                                                                                    \n",
      "                                                                                                                                                                                                     \n",
      "                                                                                                                                                                                                     \n",
      "                                                                                                                                                                                                     \n",
      "                                                                                                                                                                                                     \n",
      "                                                                                                                                                                                                     \n",
      "                                                                                                                                                                                                     \n",
      "                                                                                                                                                                                                     \n",
      "                                                                                                                                                                                                     \n",
      "                                                                                                                                                                                                     \n",
      "                                                                                                                                                                                                     \n",
      "                                                                                                                                                                                                     \n",
      "                                                                                                                                                                                                     \n",
      "                                                                                                                                                                                                     \n",
      "                                                                                                                                                                                                     \n",
      "                                                                                                                                                                                                     \n",
      "                                                                                                                                                                                                     \n",
      "                                                                                                                                                                                                     \n",
      "                                                                                                                                                                                                     \n",
      "                                                                                                                                                                                                     \n",
      "                                                                                                                                                                                                     \n",
      "                                                                                                                                                                                                     \n",
      "                                                                                                                                                                                                     \n",
      "                                                                                                                                                                                                     \n",
      "                                                                                                                                                                                                     \n",
      "                                                                                                                                                                                                     \n",
      "                                                                                                                                                                                                     \n",
      "                                                                                                                                                                                                     \n",
      "                                                                                                                                                                                                     \n",
      "                                                                                                                                                                                                     \n",
      "                                                                                                                                                                                                     \n",
      "                                                                                                                                                                                                     \n",
      "                                                                                                                                                                                                     \n",
      "                                                                                                                                                                                                     \n",
      "                                                                                                                                                                                                     \n",
      "                                                                                                                                                                                                     \n",
      "                                                                                                                                                                                                     \n",
      "                                                                                                                                                                                                     \n",
      "                                                                                                                                                                                                     \n",
      "                                                                                                                                                                                                     \n",
      "                                                                                                                                                                                                     \n",
      "                                                                e                                                                        e                                                           \n",
      "                                                     e          e                                                  e                e    e                                                           \n",
      "                                                     e          e                      e                           e                e    e                                                           \n"
     ]
    },
    {
     "name": "stdout",
     "output_type": "stream",
     "text": [
      "                                                     e     e    e                      e                           e                e    e                                                           \n",
      "                                                     e     e    e                      e                           e                e    e                            e                         e    \n",
      "                 e                                  he    he   he                     he                        h he       e       he   he                   e        e                        he    \n",
      "             e   e                                  he    he   he               e     he                        h he       e       he   he               e   e        e                        he    \n",
      "     t       e  he          h                 et    he   the   he       t       e     he    h      t     h      h he     the   h   he   he       t       e  he    h   et         h            the    \n",
      "  t  t t      t  et  t t t   t  t           t  t   thet  t et t et   t    t      t   t et  t t  t  t         t t t et t  t et t t t et t et   t    t      t  et  t t   t t   et   t     t  t  t et   \n",
      " e h thth    e the e th h   h  e    e th   h  eth h he eethe hthe  he e thth    e    the e th  e  et et  heth h h he et ethe ethth he hthe  he e thth    e the e th  eetht ete h h he  h  ethethe ee \n",
      " e hethth    e the e th ht  he e    e th   h  eth h he eethe hthe  he e thth    e   hthe e th  e  ethe e heth h h he ethethe ethth he hthe  he e thth    e the e th  eeththe e hththe  h  ethethe ee \n",
      " eth thth    e the e th ht  h  et t e th   ht eth htheteetheththe th  e thth    e    the e th  e  et  tetheththththe et ethetethththeththe th  e thth    e the e th  eetht eteththth   h  ethethetee \n",
      "  t  t t t t etthete t t t th  et t e th  tht et t thet  thet thetth    t t t t et   thet  tht e   t  t th t t ththetet et et t t thet thetth    t t t t etthete tht eet t  tet tht   t ttet  thet  t\n",
      "  t  t t t t etthet  t t t t t  ttt  tt t t t  t t t et  thet t ett  t  t t t t ett  t et  t t  tt t tt t  t t t t et t  t et t t t et t ett  t  t t t t etthet  t t   t t ttet t t   t ttet  thet  t\n",
      "  t  t t t t etthet  t   t t   et t e t   t t  t   t et  thet t ett     t t t t ett  thet  tht     t  t t  t t t t et t  t et t t t et t ett     t t t t etthet  t t  et t  tet t t   t ttet  thet  t\n",
      " et  t t     e the e th  t     e  t e th  t    t    he   thet the the   tht     e    the e th      t     het t ththe et et et t t thet the the   tht     e the e th  e t t   et tht        t  thet   \n",
      " e   tht     e the e th  t  he e    e th  th   th   he   the  the the   tht     e    the e th      t e   het   ththe et et e    t the  the the   tht     e the e th   et t e  t thth   h t t  the    \n",
      " e   tht     e the e th  t ahe e    e th  t    th  the   the  the the   tht     e    the e th      t e   het   ththe et et e  t   the  the the   tht     e the e th   et t    t thth     t t  the    \n",
      " e   tht   t e the e th  t ah te  t e th  t t  t t the   thet the the   tht   t e    the e th      t     het t ththe et et et t t thet the the   tht   t e the e th   et t   et tht   t  t t  the    \n",
      " et  t t t t e the   tht t t  t t t e tht t t  t t thet  thet the t et  t t t t e t  the   tht     t  tathet t ththe  tt t et t t thet the t et  t t t t e the   tht  et tt tet t t t t  t t  thet  t\n",
      " et  t tat tte the   tht t t  tat tta tht t t  t t theta thet the t et  t tat tte tt the   tht     ttttathet t ththe  tt t etat t thet the t et  t tat tte the   tht  et ttttet t t t t  t t  thet  t\n",
      " et  t t t t e the   tht t t  t t tte tht tet  t t thet  thet the t et  t t t t e  t the e tht  e  tt  athet t ththe  tt t et t t thet the t et  t t t t e the   tht  et tt  et t t t t  t t  thet   \n",
      " e   t t   t e the e tht t t  t t t e tht ret  t t the   thet the t e   t t   t e  ththe e tht  e  t   athet t ththe ett t e  t ththet the t e   t t   t e the e tht  et tt  et t tht t  t t  the    \n",
      " e   t t   t e the e tht t t  t   t e tht ret  t t the   thet the t e   t t   t e   hthe e thi  e  t   athet t ththe et et e  t  hthet the t e   t t   t e the e thi  et tt  et t tht t  t t  the    \n",
      " e   t t   t e the e tht t t  t t t e tht tet  t t the   thet the t e   t t   t e  t the e thi  e  t   athet t t the ettet et t t thet the t e   t t   t e the e thi  et tt  et t t t te t t  thet   \n",
      " et  t tat t e the e tht t t  t t t e tht tet  t t thet  thet the t et  t tat t e tt the e tht  e  tt  at et t t t e ettet et t t t et the t et  t tat t e the e tht  et tt  et t t a te t t  thet   \n",
      " et  t tat t e the e tht t t  t t tra t t tet  t t t et  t et t e t et  t tat t e tt the e thts e  tt  at et t t t e ett t et t t t et t e t et  t tat t e the e thts et tt  et t t t te tet  thet   \n",
      " et  t tat t e the e tht t t  t t t e t t tet  t t t et  t et the t et  t tat t e  t the e thts e  tt  at et t t t e ettet et t t t et the t et  t tat t e the e thts et tt  et t t t te tet  thet   \n",
      " et  t  a  t e the e tht t t  t t t e tht ret  t t thet  t et the t et  t  a  t e  ththe e thtr e  t   at et t t t e etret et tet t et the t et  t  a  t e the e thtr et tt  et t t a te tet  thet   \n",
      " et  t  a  t e the e tht t t  t t a e tht ret  t t thet  thet the t et  t  a  t e  ththe e thar e  t   at et t aet e etret et tet thet the t et  t  a  t e the e thar et tt  et t t a te tet  thet   \n",
      " et  t  a  a e the e tht t t  t t a e tht ret  t t thet  t et the t et  t  a  a e  ththe e thar e  t   at  t t aet e etret et tet t et the t et  t  a  a e the e thar et tt  et r t a te tet  thet   \n",
      " et  t  as are the e tht trte t t tra tht tetsht t t et  t et the t etk t  as are tt the e thtr et tt  at  t t aet e ettet et tet t et the t etk t  as are the e thtr et tt  et r t a te tetr thet   \n",
      " etk ta ts are the e tht trte tkt tra tht tetshtat t etk t et the t etk t  as are tt the e thtr  t tt  at  t t aet e ett t et tet t et the t etk t  as are the e thtr et tt  et t t t te tetr thetk  \n",
      " et  ta as are the e tht trt  tks tra tht tet ht t thet  t et the t esk t  as are  t the e thtr    ts  at  t t aet e etsethet tet thet the t esk t  as are the e thtr et tt  et t t t te tetl thet   \n",
      " et  ta as a e the e tht t t  t s t a tht tet ht t thet  t et the t es  t  as a e  t the e thtr e  ts  at  t t aet e etsethet tet thet the t es  t  as a e the e thtr et tt  et t t t te tet  thet   \n",
      " et  ta as a e the e tht t te tks t a thtstetsht t thet  t eththe t esk ta as a e  t the e this e  ts  at  t t aet e etsethet tet thet the t esk ta as a e the e this et ts  et t t t te tetl thet   \n",
      " etk ta as are the e tht arte tks tra thtstetsht t thetk t et the t etk ta as are tt the e thisoe  ts  at  t t aet e etsethet tet thet the t etk ta as are the e this et ts  et a t t te tetl thetk  \n",
      " etk ta as are the e tht arte tks tra thtstetsht t thetk t et the t etk ta as are tt the e thtsoe  ts  as  t t let e etsothet tet thet the t etk ta as are the e thts et ts  et a t t te tetl thetk  \n",
      " etk ta ls are the e tht a te tks tra thtstetsht t thetk thet the toisk ta ls are lththe e thtsoe  ts  as  tat lethe etsothet teththet the toisk ta ls are the e thts et ts  et t t t te tetl thetk  \n",
      " esk ta ls a e the e tht a te tks a a thtstetsht t thetk thet the toisk ta ls a e  ththe e thtsee  ts  as  tat lethe etsothet teththet the toisk ta ls a e the e thts et ts  et a t t te tetl thetk  \n",
      " esk ta ls are the e tht a te tks ara tht aetsht t thetk thet the toisk ta ls are  ththe e thisee  ts  as  tat lethe etsothet taththet the toisk ta ls are the e this et as  et a t s te tetl thetk  \n",
      " esk ta ls are the e tht a te tks ara tht tetsht t thetk theththe toisk ta ls are  ththe e th see  ts  as  tat lethe ets thet taththet the toisk ta ls are the e th s et as  et a t s te te l thetk  \n",
      " esk ta ls are the e tht t te tks tra tht tetsht t thetk theththe toisk ta ls are  ththe e th see  ts  ash tat lethe ets thet taththet the toisk ta ls are the e th s et ts  et aetls te te l thetk  \n",
      " esk ta ls are the e tht t teetks tra tht tetshtot thetk theththe toisk ta ls are  ththe e th tee  ts  ash tat lethe ets thet taththet the toisk ta ls are the e th t et ts  et tetls te te l thetks \n",
      " esk ta ls are the e tht t teetls tra tht teishtot thetk theththe toisk ta ls are  ththe e th tee  ts  ash tst lethe  ts thet taththet the toisk ta ls are the e th t et ts  et tatls te te l thetk  \n",
      " esk ta ls are the e tht a meenls are ths aeishtot thetk theththe toisk ta ls are  ththe e th tee  ts  ash tst  ethe  t  thet taththet the toisk ta ls are the e th t et as  et aatls te ta l thetks \n",
      " esk ta ls are the e thi a meenls are ths aeishtot thetk thet the toisk ta ls are  ththe e th tee  ts  ish tst  ethe  t  thet tat thet the toisk ta ls are the e th t et as  et aatls te ta l thetks \n",
      " esk talls are the e tht a meenls ara tht aetsht t thetk theththe toisk talls are  ththe e th tee  ts  is  tst  ethe  t  thet tal thet the toisk talls are the e th t et as  et aatls te ta l thetks \n",
      " esk talls are the e tht armeetls ara tht aetshtot thetk thet the toisk talls are  ththe e th tee  ts  is  tst  ethe  tnkthet tat thet the toisk talls are the e th t et as  et aatls te ta l thetks \n"
     ]
    },
    {
     "name": "stdout",
     "output_type": "stream",
     "text": [
      " eck talls are the e tht a meec s are tht aets tht thetk thet the toisk talls are  ththe e th tee  ts  is  tst  ethe  t  thet tat thet the toisk talls are the e th t et as  et aatls te ta l thetks \n",
      " eck talls are the e tht arkeecos are aot aats tot theck thet the trisk talls are  ththe e th tee  as  is  tat let er tsothet tat thetothe trisk talls are the e th t et as  et aatls ae ta l thecks \n",
      " eck talls are the e th  a leec   arl tht aets tot theck thet the trick talls are  ththe e th tee  as  is  tst  ethe  tr thet tal thet the trick talls are the e th t et as  et aalls te ta l theck  \n",
      " eck talls are the e tht arleec s ara aht aats tot theck thet the trick talls are  ththe e th teen as  is  tat  ether tr thet tat thet the trick talls are the e th t et as  et aatls ae tall thecks \n",
      " eck talls are the e tht arleec s are aht aats tet theck thet the trick talls are  t the e th teer as  is  tat  ether tr thec tat thet the trick talls are the e th t et as  et aatls te tall thecks \n",
      " eck talls are the e th  a leec   are tht aats  ot theck thet the trick talls are  t the e th reer as  is  tst  et e  ar thet tat thet the trick talls are the e th r et as  et aatls te ta l thecks \n",
      " eck talls are the e thr arleec n are aot auts  et theck thet the trick talls are ta the e th teen as  is  tat  et er ar thet tat thet the trick talls are the e th t et as  et aatls te talt thecks \n"
     ]
    }
   ],
   "source": [
    "##15. Training 시작\n",
    "\n",
    "for i in range(100):\n",
    "    optimizer.zero_grad()\n",
    "    outputs = net(X)\n",
    "    ##문제(7) : outputs, Y 형태 그대로 넣으면 안되죠. view 함수를 이용해 loss값을 계산해봅시다.\n",
    "    loss = criterion(outputs.view(-1, len(vocab)), Y.view(-1))\n",
    "    loss.backward()\n",
    "    optimizer.step()\n",
    "\n",
    "    #16. 예측결과 확인\n",
    "    results = outputs.argmax(dim=2)\n",
    "    predict_str = \"\"\n",
    "    for j, result in enumerate(results):\n",
    "        if j == 0: # 처음에는 예측 결과를 전부 가져오기\n",
    "            predict_str += ''.join([world_set[t] for t in result])\n",
    "        else: # 그 다음에는 마지막 글자만 반복 추가\n",
    "            predict_str += world_set[result[-1]]\n",
    "\n",
    "    print(predict_str)"
   ]
  },
  {
   "cell_type": "code",
   "execution_count": 18,
   "metadata": {
    "colab": {
     "base_uri": "https://localhost:8080/",
     "height": 54
    },
    "id": "8qUkbiw2t0Il",
    "outputId": "165e388b-8c94-4034-fbb5-6e6e61bc3945",
    "scrolled": true
   },
   "outputs": [
    {
     "data": {
      "text/plain": [
       "' eck talls are the e thr arleec n are aot auts  et theck thet the trick talls are ta the e th teen as  is  tat  et er ar thet tat thet the trick talls are the e th t et as  et aatls te talt thecks '"
      ]
     },
     "execution_count": 18,
     "metadata": {},
     "output_type": "execute_result"
    }
   ],
   "source": [
    "predict_str"
   ]
  },
  {
   "cell_type": "markdown",
   "metadata": {
    "id": "PkIzDTdyvTHz"
   },
   "source": [
    "결과가 어떤가요?? 마지막 에폭의 문장이 그럴싸한가요? A. 꽤나요,,, 오"
   ]
  },
  {
   "cell_type": "markdown",
   "metadata": {
    "id": "kN1zL8Dpvane"
   },
   "source": [
    "## Task2\n",
    "\n",
    "위 sentence는 제가 임의로 생성한 문장들입니다.\n",
    "\n",
    "마음에 드시는 문구 가져오셔서 문장이 어떻게 생성되는지 확인해보세요!\n",
    "\n",
    "영어가 아닌 한국어로 시도해보는 것도 좋겠죠?\n",
    "\n",
    "수정이 많이 필요(토큰화 등) 할 수 있으나 한번 시도해보시는 것 권장드립니다 :)\n",
    "\n",
    "위 베이스라인은 어디든 수정하셔도 좋고 조금 더 자연스러운 문장이 나올 수 있게 다양한 시도를 해보세요!\n",
    "\n",
    "조건 : 문장 3개 이상, 연결성이 있는 문장을 \" \" 으로 구분하여 ( )에 넣기"
   ]
  },
  {
   "cell_type": "code",
   "execution_count": 19,
   "metadata": {
    "id": "IKp-lKrjvXR9"
   },
   "outputs": [],
   "source": [
    "sentence = (\"나의 여름이 모든 색을 잃고 흑백이 되어도 좋습니다 \"\n",
    "            \"내가 세상의 꽃들과 들풀, 숲의 색을 모두 훔쳐올 테니 전부 그대의 것 하십시오 \"\n",
    "            \"그러니 그대는 나의 여름이 되세요.\")"
   ]
  },
  {
   "cell_type": "code",
   "execution_count": 20,
   "metadata": {
    "colab": {
     "base_uri": "https://localhost:8080/"
    },
    "id": "buORyhhSd3yo",
    "outputId": "c33b78a1-07ae-4083-f384-15e1d1b9f883"
   },
   "outputs": [
    {
     "name": "stdout",
     "output_type": "stream",
     "text": [
      "Requirement already satisfied: konlpy in c:\\users\\withy\\anaconda3\\lib\\site-packages (0.6.0)\n",
      "Requirement already satisfied: JPype1>=0.7.0 in c:\\users\\withy\\anaconda3\\lib\\site-packages (from konlpy) (1.5.0)\n",
      "Requirement already satisfied: lxml>=4.1.0 in c:\\users\\withy\\anaconda3\\lib\\site-packages (from konlpy) (4.9.3)\n",
      "Requirement already satisfied: numpy>=1.6 in c:\\users\\withy\\anaconda3\\lib\\site-packages (from konlpy) (1.23.5)\n",
      "Requirement already satisfied: packaging in c:\\users\\withy\\anaconda3\\lib\\site-packages (from JPype1>=0.7.0->konlpy) (23.1)\n",
      "Note: you may need to restart the kernel to use updated packages.\n"
     ]
    }
   ],
   "source": [
    "pip install konlpy"
   ]
  },
  {
   "cell_type": "code",
   "execution_count": 21,
   "metadata": {
    "id": "iaWnjw1td3yo"
   },
   "outputs": [],
   "source": [
    "import konlpy\n",
    "from konlpy.tag import Okt, Mecab"
   ]
  },
  {
   "cell_type": "code",
   "execution_count": 22,
   "metadata": {
    "colab": {
     "base_uri": "https://localhost:8080/"
    },
    "id": "RB3ewBxRd3yp",
    "outputId": "09cb4e10-4ffa-4bce-ec34-682e0f7f431d"
   },
   "outputs": [
    {
     "name": "stdout",
     "output_type": "stream",
     "text": [
      "['나', '의', '여름', '이', '모든', '색', '을', '잃고', '흑백', '이', '되어도', '좋습니다', '내', '가', '세상', '의', '꽃', '들', '과', '들풀', ',', '숲', '의', '색', '을', '모두', '훔쳐', '올', '테', '니', '전부', '그대', '의', '것', '하십시오', '그러니', '그대', '는', '나', '의', '여름', '이', '되세요', '.']\n"
     ]
    }
   ],
   "source": [
    "tokenizer=Okt()\n",
    "print(tokenizer.morphs(sentence))"
   ]
  },
  {
   "cell_type": "code",
   "execution_count": 23,
   "metadata": {
    "colab": {
     "base_uri": "https://localhost:8080/"
    },
    "id": "NRYIqmXad3yp",
    "outputId": "184ce6ad-04bb-408a-b273-2ef014fff47a"
   },
   "outputs": [
    {
     "name": "stdout",
     "output_type": "stream",
     "text": [
      "['가', '쳐', '시', '나', ' ', '두', '하', '는', '훔', '고', '다', ',', '을', '.', '올', '여', '십', '의', '되', '요', '든', '꽃', '대', '내', '흑', '이', '잃', '전', '그', '오', '니', '숲', '상', '과', '러', '테', '색', '습', '풀', '부', '들', '것', '세', '좋', '백', '도', '름', '모', '어']\n"
     ]
    }
   ],
   "source": [
    "#world_set = list(set(sentence))\n",
    "world_set = list(set(sentence))\n",
    "print(world_set)\n",
    "vocab = {world: idx for idx, world in enumerate(world_set)}"
   ]
  },
  {
   "cell_type": "code",
   "execution_count": 24,
   "metadata": {
    "colab": {
     "base_uri": "https://localhost:8080/"
    },
    "id": "aSb6yaeld3yp",
    "outputId": "7fb84180-7fc3-41f1-d459-650e8422aab9"
   },
   "outputs": [
    {
     "name": "stdout",
     "output_type": "stream",
     "text": [
      "{'가': 0, '쳐': 1, '시': 2, '나': 3, ' ': 4, '두': 5, '하': 6, '는': 7, '훔': 8, '고': 9, '다': 10, ',': 11, '을': 12, '.': 13, '올': 14, '여': 15, '십': 16, '의': 17, '되': 18, '요': 19, '든': 20, '꽃': 21, '대': 22, '내': 23, '흑': 24, '이': 25, '잃': 26, '전': 27, '그': 28, '오': 29, '니': 30, '숲': 31, '상': 32, '과': 33, '러': 34, '테': 35, '색': 36, '습': 37, '풀': 38, '부': 39, '들': 40, '것': 41, '세': 42, '좋': 43, '백': 44, '도': 45, '름': 46, '모': 47, '어': 48}\n"
     ]
    }
   ],
   "source": [
    "print(vocab)"
   ]
  },
  {
   "cell_type": "code",
   "execution_count": 25,
   "metadata": {
    "colab": {
     "base_uri": "https://localhost:8080/"
    },
    "id": "fDnVruHpd3yq",
    "outputId": "3c41dbde-45b2-4c2f-8681-d8b2a25be139",
    "scrolled": true
   },
   "outputs": [
    {
     "name": "stdout",
     "output_type": "stream",
     "text": [
      "문자 집합 크기 : 49\n"
     ]
    }
   ],
   "source": [
    "vocab_size = len(vocab)\n",
    "print('문자 집합 크기 : {}'.format(vocab_size))"
   ]
  },
  {
   "cell_type": "code",
   "execution_count": 26,
   "metadata": {
    "id": "dpjTocgud3yq"
   },
   "outputs": [],
   "source": [
    "hidden_size = vocab_size\n",
    "sequence_length = 10\n",
    "learning_rate = 0.01"
   ]
  },
  {
   "cell_type": "code",
   "execution_count": 27,
   "metadata": {
    "colab": {
     "base_uri": "https://localhost:8080/"
    },
    "id": "EN78j-Kpd3yq",
    "outputId": "0e3f985f-af4f-453f-c65d-88a2084a420b"
   },
   "outputs": [
    {
     "name": "stdout",
     "output_type": "stream",
     "text": [
      "0 나의 여름이 모든  -> 의 여름이 모든 색\n",
      "1 의 여름이 모든 색 ->  여름이 모든 색을\n",
      "2  여름이 모든 색을 -> 여름이 모든 색을 \n",
      "3 여름이 모든 색을  -> 름이 모든 색을 잃\n",
      "4 름이 모든 색을 잃 -> 이 모든 색을 잃고\n",
      "5 이 모든 색을 잃고 ->  모든 색을 잃고 \n",
      "6  모든 색을 잃고  -> 모든 색을 잃고 흑\n",
      "7 모든 색을 잃고 흑 -> 든 색을 잃고 흑백\n",
      "8 든 색을 잃고 흑백 ->  색을 잃고 흑백이\n",
      "9  색을 잃고 흑백이 -> 색을 잃고 흑백이 \n",
      "10 색을 잃고 흑백이  -> 을 잃고 흑백이 되\n",
      "11 을 잃고 흑백이 되 ->  잃고 흑백이 되어\n",
      "12  잃고 흑백이 되어 -> 잃고 흑백이 되어도\n",
      "13 잃고 흑백이 되어도 -> 고 흑백이 되어도 \n",
      "14 고 흑백이 되어도  ->  흑백이 되어도 좋\n",
      "15  흑백이 되어도 좋 -> 흑백이 되어도 좋습\n",
      "16 흑백이 되어도 좋습 -> 백이 되어도 좋습니\n",
      "17 백이 되어도 좋습니 -> 이 되어도 좋습니다\n",
      "18 이 되어도 좋습니다 ->  되어도 좋습니다 \n",
      "19  되어도 좋습니다  -> 되어도 좋습니다 내\n",
      "20 되어도 좋습니다 내 -> 어도 좋습니다 내가\n",
      "21 어도 좋습니다 내가 -> 도 좋습니다 내가 \n",
      "22 도 좋습니다 내가  ->  좋습니다 내가 세\n",
      "23  좋습니다 내가 세 -> 좋습니다 내가 세상\n",
      "24 좋습니다 내가 세상 -> 습니다 내가 세상의\n",
      "25 습니다 내가 세상의 -> 니다 내가 세상의 \n",
      "26 니다 내가 세상의  -> 다 내가 세상의 꽃\n",
      "27 다 내가 세상의 꽃 ->  내가 세상의 꽃들\n",
      "28  내가 세상의 꽃들 -> 내가 세상의 꽃들과\n",
      "29 내가 세상의 꽃들과 -> 가 세상의 꽃들과 \n",
      "30 가 세상의 꽃들과  ->  세상의 꽃들과 들\n",
      "31  세상의 꽃들과 들 -> 세상의 꽃들과 들풀\n",
      "32 세상의 꽃들과 들풀 -> 상의 꽃들과 들풀,\n",
      "33 상의 꽃들과 들풀, -> 의 꽃들과 들풀, \n",
      "34 의 꽃들과 들풀,  ->  꽃들과 들풀, 숲\n",
      "35  꽃들과 들풀, 숲 -> 꽃들과 들풀, 숲의\n",
      "36 꽃들과 들풀, 숲의 -> 들과 들풀, 숲의 \n",
      "37 들과 들풀, 숲의  -> 과 들풀, 숲의 색\n",
      "38 과 들풀, 숲의 색 ->  들풀, 숲의 색을\n",
      "39  들풀, 숲의 색을 -> 들풀, 숲의 색을 \n",
      "40 들풀, 숲의 색을  -> 풀, 숲의 색을 모\n",
      "41 풀, 숲의 색을 모 -> , 숲의 색을 모두\n",
      "42 , 숲의 색을 모두 ->  숲의 색을 모두 \n",
      "43  숲의 색을 모두  -> 숲의 색을 모두 훔\n",
      "44 숲의 색을 모두 훔 -> 의 색을 모두 훔쳐\n",
      "45 의 색을 모두 훔쳐 ->  색을 모두 훔쳐올\n",
      "46  색을 모두 훔쳐올 -> 색을 모두 훔쳐올 \n",
      "47 색을 모두 훔쳐올  -> 을 모두 훔쳐올 테\n",
      "48 을 모두 훔쳐올 테 ->  모두 훔쳐올 테니\n",
      "49  모두 훔쳐올 테니 -> 모두 훔쳐올 테니 \n",
      "50 모두 훔쳐올 테니  -> 두 훔쳐올 테니 전\n",
      "51 두 훔쳐올 테니 전 ->  훔쳐올 테니 전부\n",
      "52  훔쳐올 테니 전부 -> 훔쳐올 테니 전부 \n",
      "53 훔쳐올 테니 전부  -> 쳐올 테니 전부 그\n",
      "54 쳐올 테니 전부 그 -> 올 테니 전부 그대\n",
      "55 올 테니 전부 그대 ->  테니 전부 그대의\n",
      "56  테니 전부 그대의 -> 테니 전부 그대의 \n",
      "57 테니 전부 그대의  -> 니 전부 그대의 것\n",
      "58 니 전부 그대의 것 ->  전부 그대의 것 \n",
      "59  전부 그대의 것  -> 전부 그대의 것 하\n",
      "60 전부 그대의 것 하 -> 부 그대의 것 하십\n",
      "61 부 그대의 것 하십 ->  그대의 것 하십시\n",
      "62  그대의 것 하십시 -> 그대의 것 하십시오\n",
      "63 그대의 것 하십시오 -> 대의 것 하십시오 \n",
      "64 대의 것 하십시오  -> 의 것 하십시오 그\n",
      "65 의 것 하십시오 그 ->  것 하십시오 그러\n",
      "66  것 하십시오 그러 -> 것 하십시오 그러니\n",
      "67 것 하십시오 그러니 ->  하십시오 그러니 \n",
      "68  하십시오 그러니  -> 하십시오 그러니 그\n",
      "69 하십시오 그러니 그 -> 십시오 그러니 그대\n",
      "70 십시오 그러니 그대 -> 시오 그러니 그대는\n",
      "71 시오 그러니 그대는 -> 오 그러니 그대는 \n",
      "72 오 그러니 그대는  ->  그러니 그대는 나\n",
      "73  그러니 그대는 나 -> 그러니 그대는 나의\n",
      "74 그러니 그대는 나의 -> 러니 그대는 나의 \n",
      "75 러니 그대는 나의  -> 니 그대는 나의 여\n",
      "76 니 그대는 나의 여 ->  그대는 나의 여름\n",
      "77  그대는 나의 여름 -> 그대는 나의 여름이\n",
      "78 그대는 나의 여름이 -> 대는 나의 여름이 \n",
      "79 대는 나의 여름이  -> 는 나의 여름이 되\n",
      "80 는 나의 여름이 되 ->  나의 여름이 되세\n",
      "81  나의 여름이 되세 -> 나의 여름이 되세요\n",
      "82 나의 여름이 되세요 -> 의 여름이 되세요.\n"
     ]
    }
   ],
   "source": [
    "x_data = []\n",
    "y_data = []\n",
    "\n",
    "for i in range(0, len(sentence) - sequence_length):\n",
    "  x_str = sentence[i:i+sequence_length]\n",
    "  y_str = sentence[i+1:i+1+sequence_length]\n",
    "  print(i, x_str, \"->\", y_str)\n",
    "\n",
    "  x_data.append([vocab[c] for c in x_str])\n",
    "  y_data.append([vocab[d] for d in y_str])"
   ]
  },
  {
   "cell_type": "code",
   "execution_count": 28,
   "metadata": {
    "colab": {
     "base_uri": "https://localhost:8080/"
    },
    "id": "g9CUreuqd3yr",
    "outputId": "96f0c0c6-aa29-40e3-c685-a91072fba430"
   },
   "outputs": [
    {
     "name": "stdout",
     "output_type": "stream",
     "text": [
      "[3, 17, 4, 15, 46, 25, 4, 47, 20, 4]\n",
      "[17, 4, 15, 46, 25, 4, 47, 20, 4, 36]\n"
     ]
    }
   ],
   "source": [
    "print(x_data[0])\n",
    "print(y_data[0])"
   ]
  },
  {
   "cell_type": "code",
   "execution_count": 29,
   "metadata": {
    "id": "oGxhcCQ0d3yr"
   },
   "outputs": [],
   "source": [
    "x_data_np = np.array(x_data)\n",
    "x_one_hot = np.eye(len(vocab))[x_data_np]\n",
    "\n",
    "X = torch.FloatTensor(x_one_hot)\n",
    "Y = torch.LongTensor(y_data)"
   ]
  },
  {
   "cell_type": "code",
   "execution_count": 30,
   "metadata": {
    "colab": {
     "base_uri": "https://localhost:8080/"
    },
    "id": "VHvt2HT0d3yr",
    "outputId": "c2b9af52-6904-4958-bd26-8dbf7fd2c0c3"
   },
   "outputs": [
    {
     "name": "stdout",
     "output_type": "stream",
     "text": [
      "훈련 데이터의 크기 : torch.Size([83, 10, 49])\n",
      "레이블의 크기 : torch.Size([83, 10])\n"
     ]
    }
   ],
   "source": [
    "print('훈련 데이터의 크기 : {}'.format(X.shape))\n",
    "print('레이블의 크기 : {}'.format(Y.shape))"
   ]
  },
  {
   "cell_type": "code",
   "execution_count": 31,
   "metadata": {
    "colab": {
     "base_uri": "https://localhost:8080/"
    },
    "id": "nxkhJl82d3ys",
    "outputId": "9c813502-eaf8-4ab5-fd04-24836b5d1e8c"
   },
   "outputs": [
    {
     "name": "stdout",
     "output_type": "stream",
     "text": [
      "tensor([[0., 0., 0., 1., 0., 0., 0., 0., 0., 0., 0., 0., 0., 0., 0., 0., 0., 0.,\n",
      "         0., 0., 0., 0., 0., 0., 0., 0., 0., 0., 0., 0., 0., 0., 0., 0., 0., 0.,\n",
      "         0., 0., 0., 0., 0., 0., 0., 0., 0., 0., 0., 0., 0.],\n",
      "        [0., 0., 0., 0., 0., 0., 0., 0., 0., 0., 0., 0., 0., 0., 0., 0., 0., 1.,\n",
      "         0., 0., 0., 0., 0., 0., 0., 0., 0., 0., 0., 0., 0., 0., 0., 0., 0., 0.,\n",
      "         0., 0., 0., 0., 0., 0., 0., 0., 0., 0., 0., 0., 0.],\n",
      "        [0., 0., 0., 0., 1., 0., 0., 0., 0., 0., 0., 0., 0., 0., 0., 0., 0., 0.,\n",
      "         0., 0., 0., 0., 0., 0., 0., 0., 0., 0., 0., 0., 0., 0., 0., 0., 0., 0.,\n",
      "         0., 0., 0., 0., 0., 0., 0., 0., 0., 0., 0., 0., 0.],\n",
      "        [0., 0., 0., 0., 0., 0., 0., 0., 0., 0., 0., 0., 0., 0., 0., 1., 0., 0.,\n",
      "         0., 0., 0., 0., 0., 0., 0., 0., 0., 0., 0., 0., 0., 0., 0., 0., 0., 0.,\n",
      "         0., 0., 0., 0., 0., 0., 0., 0., 0., 0., 0., 0., 0.],\n",
      "        [0., 0., 0., 0., 0., 0., 0., 0., 0., 0., 0., 0., 0., 0., 0., 0., 0., 0.,\n",
      "         0., 0., 0., 0., 0., 0., 0., 0., 0., 0., 0., 0., 0., 0., 0., 0., 0., 0.,\n",
      "         0., 0., 0., 0., 0., 0., 0., 0., 0., 0., 1., 0., 0.],\n",
      "        [0., 0., 0., 0., 0., 0., 0., 0., 0., 0., 0., 0., 0., 0., 0., 0., 0., 0.,\n",
      "         0., 0., 0., 0., 0., 0., 0., 1., 0., 0., 0., 0., 0., 0., 0., 0., 0., 0.,\n",
      "         0., 0., 0., 0., 0., 0., 0., 0., 0., 0., 0., 0., 0.],\n",
      "        [0., 0., 0., 0., 1., 0., 0., 0., 0., 0., 0., 0., 0., 0., 0., 0., 0., 0.,\n",
      "         0., 0., 0., 0., 0., 0., 0., 0., 0., 0., 0., 0., 0., 0., 0., 0., 0., 0.,\n",
      "         0., 0., 0., 0., 0., 0., 0., 0., 0., 0., 0., 0., 0.],\n",
      "        [0., 0., 0., 0., 0., 0., 0., 0., 0., 0., 0., 0., 0., 0., 0., 0., 0., 0.,\n",
      "         0., 0., 0., 0., 0., 0., 0., 0., 0., 0., 0., 0., 0., 0., 0., 0., 0., 0.,\n",
      "         0., 0., 0., 0., 0., 0., 0., 0., 0., 0., 0., 1., 0.],\n",
      "        [0., 0., 0., 0., 0., 0., 0., 0., 0., 0., 0., 0., 0., 0., 0., 0., 0., 0.,\n",
      "         0., 0., 1., 0., 0., 0., 0., 0., 0., 0., 0., 0., 0., 0., 0., 0., 0., 0.,\n",
      "         0., 0., 0., 0., 0., 0., 0., 0., 0., 0., 0., 0., 0.],\n",
      "        [0., 0., 0., 0., 1., 0., 0., 0., 0., 0., 0., 0., 0., 0., 0., 0., 0., 0.,\n",
      "         0., 0., 0., 0., 0., 0., 0., 0., 0., 0., 0., 0., 0., 0., 0., 0., 0., 0.,\n",
      "         0., 0., 0., 0., 0., 0., 0., 0., 0., 0., 0., 0., 0.]])\n"
     ]
    }
   ],
   "source": [
    "print(X[0])"
   ]
  },
  {
   "cell_type": "code",
   "execution_count": 32,
   "metadata": {
    "colab": {
     "base_uri": "https://localhost:8080/"
    },
    "id": "0isIPkzfd3ys",
    "outputId": "4a79a79e-d031-474b-9183-d8e20e786530"
   },
   "outputs": [
    {
     "name": "stdout",
     "output_type": "stream",
     "text": [
      "tensor([17,  4, 15, 46, 25,  4, 47, 20,  4, 36])\n"
     ]
    }
   ],
   "source": [
    "print(Y[0])"
   ]
  },
  {
   "cell_type": "code",
   "execution_count": 33,
   "metadata": {
    "id": "8bwxgOABd3ys"
   },
   "outputs": [],
   "source": [
    "class Net(torch.nn.Module):\n",
    "  def __init__(self, input_dim, hidden_dim, layers):\n",
    "    super(Net, self).__init__()\n",
    "    self.rnn = torch.nn.RNN(input_dim, hidden_dim, num_layers=layers, batch_first=True)\n",
    "    self.fc = torch.nn.Linear(hidden_dim, input_dim)\n",
    "\n",
    "  def forward(self, x):\n",
    "    x, _ = self.rnn(x)\n",
    "    x, _ = self.rnn(x)\n",
    "    x = self.fc(x)\n",
    "    return x"
   ]
  },
  {
   "cell_type": "code",
   "execution_count": 34,
   "metadata": {
    "id": "k-2e4XmGd3ys"
   },
   "outputs": [],
   "source": [
    "net = Net(vocab_size, hidden_size, 2)"
   ]
  },
  {
   "cell_type": "code",
   "execution_count": 35,
   "metadata": {
    "id": "ddsPq7Opd3ys"
   },
   "outputs": [],
   "source": [
    "criterion = torch.nn.CrossEntropyLoss()\n",
    "optimizer = optim.Adam(net.parameters(), learning_rate)"
   ]
  },
  {
   "cell_type": "code",
   "execution_count": 36,
   "metadata": {
    "colab": {
     "base_uri": "https://localhost:8080/"
    },
    "id": "LbFimNf6d3yt",
    "outputId": "1367abb6-d326-445b-cfef-8c576ca932db"
   },
   "outputs": [
    {
     "name": "stdout",
     "output_type": "stream",
     "text": [
      "torch.Size([83, 10, 49])\n"
     ]
    }
   ],
   "source": [
    "outputs = net(X)\n",
    "print(outputs.shape)"
   ]
  },
  {
   "cell_type": "code",
   "execution_count": 37,
   "metadata": {
    "colab": {
     "base_uri": "https://localhost:8080/"
    },
    "id": "GdZHn5pwd3y6",
    "outputId": "3c96bc0f-7961-45fd-9dfc-50bc03aa0d0f"
   },
   "outputs": [
    {
     "name": "stdout",
     "output_type": "stream",
     "text": [
      "들들들들들들들들들들들들들들들들들십들들들들들들들들들되들들들들들들들들들들들들들들들들들들들들들들들들들들들들들십들들들들들들들들들들들들들들들들들들들들들들들들들들들들들들들들들들\n",
      "                                                                                            \n",
      "                                                                                            \n",
      "                                                                                            \n",
      "                                                                                            \n",
      "                                                                                            \n",
      "                                                                                            \n",
      "                                                                                            \n",
      "                                                                                            \n",
      "                                                                                            \n",
      "                                                                                            \n",
      "                                                                                            \n",
      "                                                                                            \n",
      "      색   색  색  색               색  색   색   색   색  색  색      색  색                     색  색   \n",
      "  색을  색을  을  색  색  색을  색     .  색  색을  색을  색을  을  색  을  색을  을  색   을      을   을  색을  을  색을  \n",
      "   을  그  색을  을  을  그         을  을   을         색을     을      을  을          을          을  그   \n",
      "  색을  모  색을  을 색을  좋   그    색을  을  그을   을     색을  을 색을  모  색을  을  모       을   을  모  색을  좋   \n",
      "  색든  좋든 색을  을 색을  좋   좋    들.  을  색든  색을  모  색을 모을 색을  좋  색을  들  모의     그들시 그들시 모의 색을  좋든  \n",
      "  모을  모든 색을 모을 색을  모어  좋의   모든  들  색을  색을  모  색을 모을 모을  좋의 색을  들  모의도    그들니 그들시 모의 색을  모든  \n",
      "  모을  모의 색을 모의 색을  모 시 좋    모을 모을  색을  색을시 모  색을 모의 모을  좋  색을  들니 모 도    그들시 그대시 모의 색을  모의  \n",
      "  색의  되의 색을 모의 색을  되 시 좋    모을 모을  꽃대  색의도 모  색을 모의 모을시 좋  색을 그들의 모 모대시  그들니 그대시 모  색을  되의도 \n",
      "  색을  되의 색을 모을 모을  되의도 되의 색 모을 모을  색을  색을이 되의 색을 모의 모을  되의 그을 그들의 모의도대   그들의 그대니 모의 색을  되의도 \n",
      "  색을이 되의 색을 모을 색을  되의시 되    그을 모을의 그대의 색을시 되의 색을 모을 모을시 되  그을 그들의 되 도대시  그들의 그대시 되의 색을이 되의도 \n",
      "  색을  되의 색을 모의 색을  되의도 되  대 그을 색을  그대의 색의도 되  색을 모의 색을이 되  그을 그대  되 하대시  그을의 그대니 되  색을  되의도 \n",
      "  색을이 되의 색을 모을 색을이 되의올 되    색을 그을의 그대의 색을올 되  색을 모의 색을올 되  그을 그대의 되 하대시  그들의 그대니 되  색을이 되의도 \n",
      "  색을이 되습 색을 모두 색을이 되습올 되습   색을 그부의 그대의 색을올 되의 색을 모두 훔을올 테  그을 그대의 되 하십시오 그러의 그대니 되의 색을이 되습도십\n",
      "  색을이 되든 색을 모두 색을이 되습도 좋습   모을 색을의 그대의 색을올 되  색을 모의 색을올 테  그을 그대의 되 하십시오 그러의 그대는 되의 색을이 되습도십\n",
      "  색의이 되든 색을 모두 색을이 되어도 좋습이  색을 그부의 그대의 색을올 되  색을 모두 색을올 테  그을 그대의 되 하십시오 그러의 그대는 되의 색을이 되어도십\n",
      "  색을이 되가 색을 모두 색을이 되어도 좋습이  색을 그상의 그러의 색을, 되의 색을 모두 색을올 테의 그부 그대의 것 하십시오 그러의  대는 색의 색을이 되가도십\n",
      "  색름이 되든 색을 모두 색을이 되어도 좋습 다 색가 그상의 그대의 색풀, 테의 색을 모두 색을올 테의 그을 그대의 것 하십시오 그러의 그대는 모의 색의이 되어도십\n",
      "  색름이 되든 색을 모두 색을이 되어도 좋습 다 색을 색상의 그대니 색풀, 테의 색을 모두 색을올 테의 그을 그대의 것 하십시오 그러의 그대는 모의 색의이 되어도십\n",
      "  색름이 되든 색을 잃고 색을이 되어도 좋습 다 색을 그상의 그대니 색풀, 테의 색을 잃두 훔을올 테의 그부 그대의 것 하십시오 그러니 그대는 것의 색름이 되어도십\n",
      "의 색름이 되든 색을 잃고 색백이 되어도 좋습 다 모가 그상의 그들니 들풀, 테의 색을 잃두 훔을올 테의 그부 그대의 것 하십시오 그러니 그대는 것의 색름이 되어도십\n",
      "의 색름이 되든 색을 모두 흑백이 되의도 좋습 다 모가 세상의 꽃들니 들풀, 테의 색을 모두 훔쳐올 테의 전부 그대의 것 하십시오 그러니 그대는 나의 색름이 되어도십\n",
      "의 색름이 되든 색을 잃두 흑백이 되어도 좋습니다 모가 세상의 꽃들니 들풀, 테의 색을 잃두 훔쳐올 테의 전부 그대의 것 하십시오 그러니 그대는 나의 색름이 되어도오\n",
      "의 색름이 되든 색을 잃두 흑백이 되어도 좋습니다 모가 세상의 꽃들과 들풀, 테의 색을 잃두 훔쳐올 테의 전부 그대의 것 하십시오 그러니 그대는 나의 색름이 되어,오\n",
      "의 색름이 되든 색을 모두 흑백이 되어도 좋습니다 내가 세상의 꽃들과 들풀, 숲의 색을 모두 훔쳐올 테의 전부 그대의 것 하십시오 그러니 그대는 나의 색름이 되어,오\n",
      "의 색름이 되든 색을 잃고 흑백이 되어도 좋습니다 내가 세상의 꽃들과 들풀, 숲의 색을 모두 훔쳐올 테의 전부 그대의 것 하십시오 그러니 그대는 나의 색름이 되십,오\n",
      "의 색름이 되든 색을 잃고 흑백이 되어도 좋습니다 내가 세상의 꽃들과 들풀, 숲의 색을 모두 훔쳐올 테의 전부 그대의 것 하십시오 그러니 그대는 나의 색름이 되십,오\n",
      "의 색름이 되든 색을 모고 흑백이 되어도 좋습니다 내가 세상의 꽃들과 들풀, 숲의 색을 모두 훔쳐올 테니 전부 그대의 것 하십시오 그러니 그대는 나의 색름이 되십,오\n",
      "의 색름이 되든 색을 잃고 흑백이 되어도 좋습니다 내가 세상의 꽃들과 들풀, 숲의 색을 모두 훔쳐올 테니 전부 그대의 것 하십시오 그러니 그대는 나의 색름이 되십,오\n",
      "의 색름이 되든 색을 잃고 흑백이 되어도 좋습니다 내가 세상의 꽃들과 들풀, 숲의 색을 모두 훔쳐올 테니 전부 그대의 것 하십시오 그러니 그대는 나의 색름이 되십,오\n",
      "의 색름이 되든 색을 잃고 흑백이 되어도 좋습니다 내가 세상의 꽃들과 들풀, 숲의 색을 모두 훔쳐올 테니 전부 그대의 것 하십시오 그러니 그대는 나의 색름이 되십도오\n",
      "의 색름이 되든 색을 모고 흑백이 되어도 좋습니다 내가 세상의 꽃들과 들풀, 숲의 색을 모두 훔쳐올 테니 전부 그대의 것 하십시오 그러니 그대는 나의 색름이 되십도오\n",
      "의 색름이 되든 색을 잃고 흑백이 되어도 좋습니다 내가 세상의 꽃들과 들풀, 숲의 색을 모두 훔쳐올 테니 전부 그대의 것 하십시오 그러니 그대는 나의 색름이 되십올오\n",
      "의 색름이 되든 색을 잃고 흑백이 되어도 좋습니다 내가 세상의 꽃들과 들풀, 숲의 색을 모두 훔쳐올 테니 전부 그대의 것 하십시오 그러니 그대는 나의 색름이 되세올오\n",
      "의 색름이 되든 색을 잃고 흑백이 되어도 좋습니다 내가 세상의 꽃들과 들풀, 숲의 색을 모두 훔쳐올 테니 전부 그대의 것 하십시오 그러니 그대는 나의 색름이 되세도오\n",
      "의 여름이 되든 색을 잃고 흑백이 되어도 좋습니다 내가 세상의 꽃들과 들풀, 숲의 색을 모두 훔쳐올 테니 전부 그대의 것 하십시오 그러니 그대는 나의 여름이 되세도.\n",
      "의 여름이 되든 색을 잃고 흑백이 되어도 좋습니다 내가 세상의 꽃들과 들풀, 숲의 색을 모두 훔쳐올 테니 전부 그대의 것 하십시오 그러니 그대는 나의 여름이 되세도.\n",
      "의 여름이 되든 색을 잃고 흑백이 되어도 좋습니다 내가 세상의 꽃들과 들풀, 숲의 색을 모두 훔쳐올 테니 전부 그대의 것 하십시오 그러니 그대는 나의 여름이 되세요.\n",
      "의 여름이 되든 색을 잃고 흑백이 되어도 좋습니다 내가 세상의 꽃들과 들풀, 숲의 색을 모두 훔쳐올 테니 전부 그대의 것 하십시오 그러니 그대는 나의 여름이 되세요.\n",
      "의 여름이 되든 색을 잃고 흑백이 되어도 좋습니다 내가 세상의 꽃들과 들풀, 숲의 색을 모두 훔쳐올 테니 전부 그대의 것 하십시오 그러니 그대는 나의 여름이 되세요.\n",
      "의 여름이 되든 색을 잃고 흑백이 되어도 좋습니다 내가 세상의 꽃들과 들풀, 숲의 색을 모두 훔쳐올 테니 전부 그대의 것 하십시오 그러니 그대는 나의 여름이 되세요.\n",
      "의 여름이 되든 색을 잃고 흑백이 되어도 좋습니다 내가 세상의 꽃들과 들풀, 숲의 색을 모두 훔쳐올 테니 전부 그대의 것 하십시오 그러니 그대는 나의 여름이 되세요.\n",
      "의 여름이 되든 색을 잃고 흑백이 되어도 좋습니다 내가 세상의 꽃들과 들풀, 숲의 색을 모두 훔쳐올 테니 전부 그대의 것 하십시오 그러니 그대는 나의 여름이 되세요.\n",
      "의 여름이 되든 색을 잃고 흑백이 되어도 좋습니다 내가 세상의 꽃들과 들풀, 숲의 색을 모두 훔쳐올 테니 전부 그대의 것 하십시오 그러니 그대는 나의 여름이 되세요.\n",
      "의 여름이 되든 색을 잃고 흑백이 되어도 좋습니다 내가 세상의 꽃들과 들풀, 숲의 색을 모두 훔쳐올 테니 전부 그대의 것 하십시오 그러니 그대는 나의 여름이 되세요.\n",
      "의 여름이 되든 색을 잃고 흑백이 되어도 좋습니다 내가 세상의 꽃들과 들풀, 숲의 색을 모두 훔쳐올 테니 전부 그대의 것 하십시오 그러니 그대는 나의 여름이 되세요.\n",
      "의 여름이 되든 색을 잃고 흑백이 되어도 좋습니다 내가 세상의 꽃들과 들풀, 숲의 색을 모두 훔쳐올 테니 전부 그대의 것 하십시오 그러니 그대는 나의 여름이 되세요.\n",
      "의 여름이 되든 색을 잃고 흑백이 되어도 좋습니다 내가 세상의 꽃들과 들풀, 숲의 색을 모두 훔쳐올 테니 전부 그대의 것 하십시오 그러니 그대는 나의 여름이 되세요.\n",
      "의 여름이 되든 색을 잃고 흑백이 되어도 좋습니다 내가 세상의 꽃들과 들풀, 숲의 색을 모두 훔쳐올 테니 전부 그대의 것 하십시오 그러니 그대는 나의 여름이 되세요.\n",
      "의 여름이 되든 색을 잃고 흑백이 되어도 좋습니다 내가 세상의 꽃들과 들풀, 숲의 색을 모두 훔쳐올 테니 전부 그대의 것 하십시오 그러니 그대는 나의 여름이 되세요.\n",
      "의 여름이 되든 색을 잃고 흑백이 되어도 좋습니다 내가 세상의 꽃들과 들풀, 숲의 색을 모두 훔쳐올 테니 전부 그대의 것 하십시오 그러니 그대는 나의 여름이 되세요.\n",
      "의 여름이 되든 색을 잃고 흑백이 되어도 좋습니다 내가 세상의 꽃들과 들풀, 숲의 색을 모두 훔쳐올 테니 전부 그대의 것 하십시오 그러니 그대는 나의 여름이 되세요.\n",
      "의 여름이 되든 색을 잃고 흑백이 되어도 좋습니다 내가 세상의 꽃들과 들풀, 숲의 색을 모두 훔쳐올 테니 전부 그대의 것 하십시오 그러니 그대는 나의 여름이 되세요.\n",
      "의 여름이 되든 색을 잃고 흑백이 되어도 좋습니다 내가 세상의 꽃들과 들풀, 숲의 색을 모두 훔쳐올 테니 전부 그대의 것 하십시오 그러니 그대는 나의 여름이 되세요.\n",
      "의 여름이 되든 색을 잃고 흑백이 되어도 좋습니다 내가 세상의 꽃들과 들풀, 숲의 색을 모두 훔쳐올 테니 전부 그대의 것 하십시오 그러니 그대는 나의 여름이 되세요.\n",
      "의 여름이 되든 색을 잃고 흑백이 되어도 좋습니다 내가 세상의 꽃들과 들풀, 숲의 색을 모두 훔쳐올 테니 전부 그대의 것 하십시오 그러니 그대는 나의 여름이 되세요.\n",
      "의 여름이 되든 색을 잃고 흑백이 되어도 좋습니다 내가 세상의 꽃들과 들풀, 숲의 색을 모두 훔쳐올 테니 전부 그대의 것 하십시오 그러니 그대는 나의 여름이 되세요.\n",
      "의 여름이 되든 색을 잃고 흑백이 되어도 좋습니다 내가 세상의 꽃들과 들풀, 숲의 색을 모두 훔쳐올 테니 전부 그대의 것 하십시오 그러니 그대는 나의 여름이 되세요.\n",
      "의 여름이 되든 색을 잃고 흑백이 되어도 좋습니다 내가 세상의 꽃들과 들풀, 숲의 색을 모두 훔쳐올 테니 전부 그대의 것 하십시오 그러니 그대는 나의 여름이 되세요.\n",
      "의 여름이 되든 색을 잃고 흑백이 되어도 좋습니다 내가 세상의 꽃들과 들풀, 숲의 색을 모두 훔쳐올 테니 전부 그대의 것 하십시오 그러니 그대는 나의 여름이 되세요.\n",
      "의 여름이 되든 색을 잃고 흑백이 되어도 좋습니다 내가 세상의 꽃들과 들풀, 숲의 색을 모두 훔쳐올 테니 전부 그대의 것 하십시오 그러니 그대는 나의 여름이 되세요.\n",
      "의 여름이 되든 색을 잃고 흑백이 되어도 좋습니다 내가 세상의 꽃들과 들풀, 숲의 색을 모두 훔쳐올 테니 전부 그대의 것 하십시오 그러니 그대는 나의 여름이 되세요.\n",
      "의 여름이 되든 색을 잃고 흑백이 되어도 좋습니다 내가 세상의 꽃들과 들풀, 숲의 색을 모두 훔쳐올 테니 전부 그대의 것 하십시오 그러니 그대는 나의 여름이 되세요.\n",
      "의 여름이 되든 색을 잃고 흑백이 되어도 좋습니다 내가 세상의 꽃들과 들풀, 숲의 색을 모두 훔쳐올 테니 전부 그대의 것 하십시오 그러니 그대는 나의 여름이 되세요.\n",
      "의 여름이 되든 색을 잃고 흑백이 되어도 좋습니다 내가 세상의 꽃들과 들풀, 숲의 색을 모두 훔쳐올 테니 전부 그대의 것 하십시오 그러니 그대는 나의 여름이 되세요.\n",
      "의 여름이 되든 색을 잃고 흑백이 되어도 좋습니다 내가 세상의 꽃들과 들풀, 숲의 색을 모두 훔쳐올 테니 전부 그대의 것 하십시오 그러니 그대는 나의 여름이 되세요.\n",
      "의 여름이 되든 색을 잃고 흑백이 되어도 좋습니다 내가 세상의 꽃들과 들풀, 숲의 색을 모두 훔쳐올 테니 전부 그대의 것 하십시오 그러니 그대는 나의 여름이 되세요.\n",
      "의 여름이 되든 색을 잃고 흑백이 되어도 좋습니다 내가 세상의 꽃들과 들풀, 숲의 색을 모두 훔쳐올 테니 전부 그대의 것 하십시오 그러니 그대는 나의 여름이 되세요.\n",
      "의 여름이 되든 색을 잃고 흑백이 되어도 좋습니다 내가 세상의 꽃들과 들풀, 숲의 색을 모두 훔쳐올 테니 전부 그대의 것 하십시오 그러니 그대는 나의 여름이 되세요.\n",
      "의 여름이 되든 색을 잃고 흑백이 되어도 좋습니다 내가 세상의 꽃들과 들풀, 숲의 색을 모두 훔쳐올 테니 전부 그대의 것 하십시오 그러니 그대는 나의 여름이 되세요.\n",
      "의 여름이 되든 색을 잃고 흑백이 되어도 좋습니다 내가 세상의 꽃들과 들풀, 숲의 색을 모두 훔쳐올 테니 전부 그대의 것 하십시오 그러니 그대는 나의 여름이 되세요.\n",
      "의 여름이 되든 색을 잃고 흑백이 되어도 좋습니다 내가 세상의 꽃들과 들풀, 숲의 색을 모두 훔쳐올 테니 전부 그대의 것 하십시오 그러니 그대는 나의 여름이 되세요.\n",
      "의 여름이 되든 색을 잃고 흑백이 되어도 좋습니다 내가 세상의 꽃들과 들풀, 숲의 색을 모두 훔쳐올 테니 전부 그대의 것 하십시오 그러니 그대는 나의 여름이 되세요.\n",
      "의 여름이 되든 색을 잃고 흑백이 되어도 좋습니다 내가 세상의 꽃들과 들풀, 숲의 색을 모두 훔쳐올 테니 전부 그대의 것 하십시오 그러니 그대는 나의 여름이 되세요.\n",
      "의 여름이 되든 색을 잃고 흑백이 되어도 좋습니다 내가 세상의 꽃들과 들풀, 숲의 색을 모두 훔쳐올 테니 전부 그대의 것 하십시오 그러니 그대는 나의 여름이 되세요.\n",
      "의 여름이 되든 색을 잃고 흑백이 되어도 좋습니다 내가 세상의 꽃들과 들풀, 숲의 색을 모두 훔쳐올 테니 전부 그대의 것 하십시오 그러니 그대는 나의 여름이 되세요.\n",
      "의 여름이 되든 색을 잃고 흑백이 되어도 좋습니다 내가 세상의 꽃들과 들풀, 숲의 색을 모두 훔쳐올 테니 전부 그대의 것 하십시오 그러니 그대는 나의 여름이 되세요.\n",
      "의 여름이 되든 색을 잃고 흑백이 되어도 좋습니다 내가 세상의 꽃들과 들풀, 숲의 색을 모두 훔쳐올 테니 전부 그대의 것 하십시오 그러니 그대는 나의 여름이 되세요.\n",
      "의 여름이 되든 색을 잃고 흑백이 되어도 좋습니다 내가 세상의 꽃들과 들풀, 숲의 색을 모두 훔쳐올 테니 전부 그대의 것 하십시오 그러니 그대는 나의 여름이 되세요.\n"
     ]
    },
    {
     "name": "stdout",
     "output_type": "stream",
     "text": [
      "의 여름이 모든 색을 잃고 흑백이 되어도 좋습니다 내가 세상의 꽃들과 들풀, 숲의 색을 모두 훔쳐올 테니 전부 그대의 것 하십시오 그러니 그대는 나의 여름이 되세요.\n",
      "의 여름이 되든 색을 잃고 흑백이 되어도 좋습니다 내가 세상의 꽃들과 들풀, 숲의 색을 모두 훔쳐올 테니 전부 그대의 것 하십시오 그러니 그대는 나의 여름이 되세요.\n",
      "의 여름이 되든 색을 잃고 흑백이 되어도 좋습니다 내가 세상의 꽃들과 들풀, 숲의 색을 모두 훔쳐올 테니 전부 그대의 것 하십시오 그러니 그대는 나의 여름이 되세요.\n",
      "의 여름이 모든 색을 잃고 흑백이 되어도 좋습니다 내가 세상의 꽃들과 들풀, 숲의 색을 모두 훔쳐올 테니 전부 그대의 것 하십시오 그러니 그대는 나의 여름이 되세요.\n",
      "의 여름이 되든 색을 잃고 흑백이 되어도 좋습니다 내가 세상의 꽃들과 들풀, 숲의 색을 모두 훔쳐올 테니 전부 그대의 것 하십시오 그러니 그대는 나의 여름이 되세요.\n",
      "의 여름이 되든 색을 잃고 흑백이 되어도 좋습니다 내가 세상의 꽃들과 들풀, 숲의 색을 모두 훔쳐올 테니 전부 그대의 것 하십시오 그러니 그대는 나의 여름이 되세요.\n",
      "의 여름이 모든 색을 잃고 흑백이 되어도 좋습니다 내가 세상의 꽃들과 들풀, 숲의 색을 모두 훔쳐올 테니 전부 그대의 것 하십시오 그러니 그대는 나의 여름이 되세요.\n",
      "의 여름이 되든 색을 잃고 흑백이 되어도 좋습니다 내가 세상의 꽃들과 들풀, 숲의 색을 모두 훔쳐올 테니 전부 그대의 것 하십시오 그러니 그대는 나의 여름이 되세요.\n",
      "의 여름이 모든 색을 잃고 흑백이 되어도 좋습니다 내가 세상의 꽃들과 들풀, 숲의 색을 모두 훔쳐올 테니 전부 그대의 것 하십시오 그러니 그대는 나의 여름이 되세요.\n"
     ]
    }
   ],
   "source": [
    "for i in range(100):\n",
    "    optimizer.zero_grad()\n",
    "    outputs = net(X)\n",
    "    loss = criterion(outputs.view(-1, len(vocab)), Y.view(-1))\n",
    "    loss.backward()\n",
    "    optimizer.step()\n",
    "\n",
    "    results = outputs.argmax(dim=2)\n",
    "    predict_str = \"\"\n",
    "    for j, result in enumerate(results):\n",
    "        if j == 0:\n",
    "            predict_str += ''.join([world_set[t] for t in result])\n",
    "        else:\n",
    "            predict_str += world_set[result[-1]]\n",
    "\n",
    "    print(predict_str)"
   ]
  },
  {
   "cell_type": "code",
   "execution_count": 38,
   "metadata": {
    "colab": {
     "base_uri": "https://localhost:8080/",
     "height": 35
    },
    "id": "6XxUUz-bd3y6",
    "outputId": "3d29e70a-0730-41fb-83d0-7bcfa2310aea",
    "scrolled": true
   },
   "outputs": [
    {
     "data": {
      "text/plain": [
       "'의 여름이 모든 색을 잃고 흑백이 되어도 좋습니다 내가 세상의 꽃들과 들풀, 숲의 색을 모두 훔쳐올 테니 전부 그대의 것 하십시오 그러니 그대는 나의 여름이 되세요.'"
      ]
     },
     "execution_count": 38,
     "metadata": {},
     "output_type": "execute_result"
    }
   ],
   "source": [
    "predict_str"
   ]
  },
  {
   "cell_type": "markdown",
   "metadata": {},
   "source": [
    "시도 2"
   ]
  },
  {
   "cell_type": "code",
   "execution_count": 39,
   "metadata": {
    "id": "IKp-lKrjvXR9"
   },
   "outputs": [],
   "source": [
    "sentence = (\"나의 여름이 모든 색을 잃고 흑백이 되어도 좋습니다 \"\n",
    "            \"내가 세상의 꽃들과 들풀, 숲의 색을 모두 훔쳐올 테니 전부 그대의 것 하십시오 \"\n",
    "            \"그러니 그대는 나의 여름이 되세요.\")"
   ]
  },
  {
   "cell_type": "code",
   "execution_count": 40,
   "metadata": {
    "colab": {
     "base_uri": "https://localhost:8080/"
    },
    "id": "buORyhhSd3yo",
    "outputId": "c33b78a1-07ae-4083-f384-15e1d1b9f883"
   },
   "outputs": [
    {
     "name": "stdout",
     "output_type": "stream",
     "text": [
      "Requirement already satisfied: konlpy in c:\\users\\withy\\anaconda3\\lib\\site-packages (0.6.0)\n",
      "Requirement already satisfied: JPype1>=0.7.0 in c:\\users\\withy\\anaconda3\\lib\\site-packages (from konlpy) (1.5.0)\n",
      "Requirement already satisfied: lxml>=4.1.0 in c:\\users\\withy\\anaconda3\\lib\\site-packages (from konlpy) (4.9.3)\n",
      "Requirement already satisfied: numpy>=1.6 in c:\\users\\withy\\anaconda3\\lib\\site-packages (from konlpy) (1.23.5)\n",
      "Requirement already satisfied: packaging in c:\\users\\withy\\anaconda3\\lib\\site-packages (from JPype1>=0.7.0->konlpy) (23.1)\n",
      "Note: you may need to restart the kernel to use updated packages.\n"
     ]
    }
   ],
   "source": [
    "pip install konlpy"
   ]
  },
  {
   "cell_type": "code",
   "execution_count": 41,
   "metadata": {
    "id": "iaWnjw1td3yo"
   },
   "outputs": [],
   "source": [
    "import konlpy\n",
    "from konlpy.tag import Okt, Mecab"
   ]
  },
  {
   "cell_type": "code",
   "execution_count": 42,
   "metadata": {
    "colab": {
     "base_uri": "https://localhost:8080/"
    },
    "id": "RB3ewBxRd3yp",
    "outputId": "09cb4e10-4ffa-4bce-ec34-682e0f7f431d"
   },
   "outputs": [
    {
     "name": "stdout",
     "output_type": "stream",
     "text": [
      "['나', '의', '여름', '이', '모든', '색', '을', '잃고', '흑백', '이', '되어도', '좋습니다', '내', '가', '세상', '의', '꽃', '들', '과', '들풀', ',', '숲', '의', '색', '을', '모두', '훔쳐', '올', '테', '니', '전부', '그대', '의', '것', '하십시오', '그러니', '그대', '는', '나', '의', '여름', '이', '되세요', '.']\n"
     ]
    }
   ],
   "source": [
    "tokenizer=Okt()\n",
    "print(tokenizer.morphs(sentence))"
   ]
  },
  {
   "cell_type": "code",
   "execution_count": 43,
   "metadata": {
    "colab": {
     "base_uri": "https://localhost:8080/"
    },
    "id": "NRYIqmXad3yp",
    "outputId": "184ce6ad-04bb-408a-b273-2ef014fff47a"
   },
   "outputs": [
    {
     "name": "stdout",
     "output_type": "stream",
     "text": [
      "['가', '쳐', '시', '나', ' ', '두', '하', '는', '훔', '고', '다', ',', '을', '.', '올', '여', '십', '의', '되', '요', '든', '꽃', '대', '내', '흑', '이', '잃', '전', '그', '오', '니', '숲', '상', '과', '러', '테', '색', '습', '풀', '부', '들', '것', '세', '좋', '백', '도', '름', '모', '어']\n"
     ]
    }
   ],
   "source": [
    "#world_set = list(set(sentence))\n",
    "world_set = list(set(sentence))\n",
    "print(world_set)\n",
    "vocab = {world: idx for idx, world in enumerate(world_set)}"
   ]
  },
  {
   "cell_type": "code",
   "execution_count": 44,
   "metadata": {
    "colab": {
     "base_uri": "https://localhost:8080/"
    },
    "id": "aSb6yaeld3yp",
    "outputId": "7fb84180-7fc3-41f1-d459-650e8422aab9"
   },
   "outputs": [
    {
     "name": "stdout",
     "output_type": "stream",
     "text": [
      "{'가': 0, '쳐': 1, '시': 2, '나': 3, ' ': 4, '두': 5, '하': 6, '는': 7, '훔': 8, '고': 9, '다': 10, ',': 11, '을': 12, '.': 13, '올': 14, '여': 15, '십': 16, '의': 17, '되': 18, '요': 19, '든': 20, '꽃': 21, '대': 22, '내': 23, '흑': 24, '이': 25, '잃': 26, '전': 27, '그': 28, '오': 29, '니': 30, '숲': 31, '상': 32, '과': 33, '러': 34, '테': 35, '색': 36, '습': 37, '풀': 38, '부': 39, '들': 40, '것': 41, '세': 42, '좋': 43, '백': 44, '도': 45, '름': 46, '모': 47, '어': 48}\n"
     ]
    }
   ],
   "source": [
    "print(vocab)"
   ]
  },
  {
   "cell_type": "code",
   "execution_count": 45,
   "metadata": {
    "colab": {
     "base_uri": "https://localhost:8080/"
    },
    "id": "fDnVruHpd3yq",
    "outputId": "3c41dbde-45b2-4c2f-8681-d8b2a25be139",
    "scrolled": true
   },
   "outputs": [
    {
     "name": "stdout",
     "output_type": "stream",
     "text": [
      "문자 집합 크기 : 49\n"
     ]
    }
   ],
   "source": [
    "vocab_size = len(vocab)\n",
    "print('문자 집합 크기 : {}'.format(vocab_size))"
   ]
  },
  {
   "cell_type": "code",
   "execution_count": 46,
   "metadata": {
    "id": "dpjTocgud3yq"
   },
   "outputs": [],
   "source": [
    "hidden_size = vocab_size\n",
    "sequence_length = 10\n",
    "learning_rate = 0.01"
   ]
  },
  {
   "cell_type": "code",
   "execution_count": 47,
   "metadata": {
    "colab": {
     "base_uri": "https://localhost:8080/"
    },
    "id": "EN78j-Kpd3yq",
    "outputId": "0e3f985f-af4f-453f-c65d-88a2084a420b"
   },
   "outputs": [
    {
     "name": "stdout",
     "output_type": "stream",
     "text": [
      "0 나의 여름이 모든  -> 의 여름이 모든 색\n",
      "1 의 여름이 모든 색 ->  여름이 모든 색을\n",
      "2  여름이 모든 색을 -> 여름이 모든 색을 \n",
      "3 여름이 모든 색을  -> 름이 모든 색을 잃\n",
      "4 름이 모든 색을 잃 -> 이 모든 색을 잃고\n",
      "5 이 모든 색을 잃고 ->  모든 색을 잃고 \n",
      "6  모든 색을 잃고  -> 모든 색을 잃고 흑\n",
      "7 모든 색을 잃고 흑 -> 든 색을 잃고 흑백\n",
      "8 든 색을 잃고 흑백 ->  색을 잃고 흑백이\n",
      "9  색을 잃고 흑백이 -> 색을 잃고 흑백이 \n",
      "10 색을 잃고 흑백이  -> 을 잃고 흑백이 되\n",
      "11 을 잃고 흑백이 되 ->  잃고 흑백이 되어\n",
      "12  잃고 흑백이 되어 -> 잃고 흑백이 되어도\n",
      "13 잃고 흑백이 되어도 -> 고 흑백이 되어도 \n",
      "14 고 흑백이 되어도  ->  흑백이 되어도 좋\n",
      "15  흑백이 되어도 좋 -> 흑백이 되어도 좋습\n",
      "16 흑백이 되어도 좋습 -> 백이 되어도 좋습니\n",
      "17 백이 되어도 좋습니 -> 이 되어도 좋습니다\n",
      "18 이 되어도 좋습니다 ->  되어도 좋습니다 \n",
      "19  되어도 좋습니다  -> 되어도 좋습니다 내\n",
      "20 되어도 좋습니다 내 -> 어도 좋습니다 내가\n",
      "21 어도 좋습니다 내가 -> 도 좋습니다 내가 \n",
      "22 도 좋습니다 내가  ->  좋습니다 내가 세\n",
      "23  좋습니다 내가 세 -> 좋습니다 내가 세상\n",
      "24 좋습니다 내가 세상 -> 습니다 내가 세상의\n",
      "25 습니다 내가 세상의 -> 니다 내가 세상의 \n",
      "26 니다 내가 세상의  -> 다 내가 세상의 꽃\n",
      "27 다 내가 세상의 꽃 ->  내가 세상의 꽃들\n",
      "28  내가 세상의 꽃들 -> 내가 세상의 꽃들과\n",
      "29 내가 세상의 꽃들과 -> 가 세상의 꽃들과 \n",
      "30 가 세상의 꽃들과  ->  세상의 꽃들과 들\n",
      "31  세상의 꽃들과 들 -> 세상의 꽃들과 들풀\n",
      "32 세상의 꽃들과 들풀 -> 상의 꽃들과 들풀,\n",
      "33 상의 꽃들과 들풀, -> 의 꽃들과 들풀, \n",
      "34 의 꽃들과 들풀,  ->  꽃들과 들풀, 숲\n",
      "35  꽃들과 들풀, 숲 -> 꽃들과 들풀, 숲의\n",
      "36 꽃들과 들풀, 숲의 -> 들과 들풀, 숲의 \n",
      "37 들과 들풀, 숲의  -> 과 들풀, 숲의 색\n",
      "38 과 들풀, 숲의 색 ->  들풀, 숲의 색을\n",
      "39  들풀, 숲의 색을 -> 들풀, 숲의 색을 \n",
      "40 들풀, 숲의 색을  -> 풀, 숲의 색을 모\n",
      "41 풀, 숲의 색을 모 -> , 숲의 색을 모두\n",
      "42 , 숲의 색을 모두 ->  숲의 색을 모두 \n",
      "43  숲의 색을 모두  -> 숲의 색을 모두 훔\n",
      "44 숲의 색을 모두 훔 -> 의 색을 모두 훔쳐\n",
      "45 의 색을 모두 훔쳐 ->  색을 모두 훔쳐올\n",
      "46  색을 모두 훔쳐올 -> 색을 모두 훔쳐올 \n",
      "47 색을 모두 훔쳐올  -> 을 모두 훔쳐올 테\n",
      "48 을 모두 훔쳐올 테 ->  모두 훔쳐올 테니\n",
      "49  모두 훔쳐올 테니 -> 모두 훔쳐올 테니 \n",
      "50 모두 훔쳐올 테니  -> 두 훔쳐올 테니 전\n",
      "51 두 훔쳐올 테니 전 ->  훔쳐올 테니 전부\n",
      "52  훔쳐올 테니 전부 -> 훔쳐올 테니 전부 \n",
      "53 훔쳐올 테니 전부  -> 쳐올 테니 전부 그\n",
      "54 쳐올 테니 전부 그 -> 올 테니 전부 그대\n",
      "55 올 테니 전부 그대 ->  테니 전부 그대의\n",
      "56  테니 전부 그대의 -> 테니 전부 그대의 \n",
      "57 테니 전부 그대의  -> 니 전부 그대의 것\n",
      "58 니 전부 그대의 것 ->  전부 그대의 것 \n",
      "59  전부 그대의 것  -> 전부 그대의 것 하\n",
      "60 전부 그대의 것 하 -> 부 그대의 것 하십\n",
      "61 부 그대의 것 하십 ->  그대의 것 하십시\n",
      "62  그대의 것 하십시 -> 그대의 것 하십시오\n",
      "63 그대의 것 하십시오 -> 대의 것 하십시오 \n",
      "64 대의 것 하십시오  -> 의 것 하십시오 그\n",
      "65 의 것 하십시오 그 ->  것 하십시오 그러\n",
      "66  것 하십시오 그러 -> 것 하십시오 그러니\n",
      "67 것 하십시오 그러니 ->  하십시오 그러니 \n",
      "68  하십시오 그러니  -> 하십시오 그러니 그\n",
      "69 하십시오 그러니 그 -> 십시오 그러니 그대\n",
      "70 십시오 그러니 그대 -> 시오 그러니 그대는\n",
      "71 시오 그러니 그대는 -> 오 그러니 그대는 \n",
      "72 오 그러니 그대는  ->  그러니 그대는 나\n",
      "73  그러니 그대는 나 -> 그러니 그대는 나의\n",
      "74 그러니 그대는 나의 -> 러니 그대는 나의 \n",
      "75 러니 그대는 나의  -> 니 그대는 나의 여\n",
      "76 니 그대는 나의 여 ->  그대는 나의 여름\n",
      "77  그대는 나의 여름 -> 그대는 나의 여름이\n",
      "78 그대는 나의 여름이 -> 대는 나의 여름이 \n",
      "79 대는 나의 여름이  -> 는 나의 여름이 되\n",
      "80 는 나의 여름이 되 ->  나의 여름이 되세\n",
      "81  나의 여름이 되세 -> 나의 여름이 되세요\n",
      "82 나의 여름이 되세요 -> 의 여름이 되세요.\n"
     ]
    }
   ],
   "source": [
    "x_data = []\n",
    "y_data = []\n",
    "\n",
    "for i in range(0, len(sentence) - sequence_length):\n",
    "  x_str = sentence[i:i+sequence_length]\n",
    "  y_str = sentence[i+1:i+1+sequence_length]\n",
    "  print(i, x_str, \"->\", y_str)\n",
    "\n",
    "  x_data.append([vocab[c] for c in x_str])\n",
    "  y_data.append([vocab[d] for d in y_str])"
   ]
  },
  {
   "cell_type": "code",
   "execution_count": 48,
   "metadata": {
    "colab": {
     "base_uri": "https://localhost:8080/"
    },
    "id": "g9CUreuqd3yr",
    "outputId": "96f0c0c6-aa29-40e3-c685-a91072fba430"
   },
   "outputs": [
    {
     "name": "stdout",
     "output_type": "stream",
     "text": [
      "[3, 17, 4, 15, 46, 25, 4, 47, 20, 4]\n",
      "[17, 4, 15, 46, 25, 4, 47, 20, 4, 36]\n"
     ]
    }
   ],
   "source": [
    "print(x_data[0])\n",
    "print(y_data[0])"
   ]
  },
  {
   "cell_type": "code",
   "execution_count": 49,
   "metadata": {
    "id": "oGxhcCQ0d3yr"
   },
   "outputs": [],
   "source": [
    "x_data_np = np.array(x_data)\n",
    "x_one_hot = np.eye(len(vocab))[x_data_np]\n",
    "\n",
    "X = torch.FloatTensor(x_one_hot)\n",
    "Y = torch.LongTensor(y_data)"
   ]
  },
  {
   "cell_type": "code",
   "execution_count": 50,
   "metadata": {
    "colab": {
     "base_uri": "https://localhost:8080/"
    },
    "id": "VHvt2HT0d3yr",
    "outputId": "c2b9af52-6904-4958-bd26-8dbf7fd2c0c3"
   },
   "outputs": [
    {
     "name": "stdout",
     "output_type": "stream",
     "text": [
      "훈련 데이터의 크기 : torch.Size([83, 10, 49])\n",
      "레이블의 크기 : torch.Size([83, 10])\n"
     ]
    }
   ],
   "source": [
    "print('훈련 데이터의 크기 : {}'.format(X.shape))\n",
    "print('레이블의 크기 : {}'.format(Y.shape))"
   ]
  },
  {
   "cell_type": "code",
   "execution_count": 51,
   "metadata": {
    "colab": {
     "base_uri": "https://localhost:8080/"
    },
    "id": "nxkhJl82d3ys",
    "outputId": "9c813502-eaf8-4ab5-fd04-24836b5d1e8c"
   },
   "outputs": [
    {
     "name": "stdout",
     "output_type": "stream",
     "text": [
      "tensor([[0., 0., 0., 1., 0., 0., 0., 0., 0., 0., 0., 0., 0., 0., 0., 0., 0., 0.,\n",
      "         0., 0., 0., 0., 0., 0., 0., 0., 0., 0., 0., 0., 0., 0., 0., 0., 0., 0.,\n",
      "         0., 0., 0., 0., 0., 0., 0., 0., 0., 0., 0., 0., 0.],\n",
      "        [0., 0., 0., 0., 0., 0., 0., 0., 0., 0., 0., 0., 0., 0., 0., 0., 0., 1.,\n",
      "         0., 0., 0., 0., 0., 0., 0., 0., 0., 0., 0., 0., 0., 0., 0., 0., 0., 0.,\n",
      "         0., 0., 0., 0., 0., 0., 0., 0., 0., 0., 0., 0., 0.],\n",
      "        [0., 0., 0., 0., 1., 0., 0., 0., 0., 0., 0., 0., 0., 0., 0., 0., 0., 0.,\n",
      "         0., 0., 0., 0., 0., 0., 0., 0., 0., 0., 0., 0., 0., 0., 0., 0., 0., 0.,\n",
      "         0., 0., 0., 0., 0., 0., 0., 0., 0., 0., 0., 0., 0.],\n",
      "        [0., 0., 0., 0., 0., 0., 0., 0., 0., 0., 0., 0., 0., 0., 0., 1., 0., 0.,\n",
      "         0., 0., 0., 0., 0., 0., 0., 0., 0., 0., 0., 0., 0., 0., 0., 0., 0., 0.,\n",
      "         0., 0., 0., 0., 0., 0., 0., 0., 0., 0., 0., 0., 0.],\n",
      "        [0., 0., 0., 0., 0., 0., 0., 0., 0., 0., 0., 0., 0., 0., 0., 0., 0., 0.,\n",
      "         0., 0., 0., 0., 0., 0., 0., 0., 0., 0., 0., 0., 0., 0., 0., 0., 0., 0.,\n",
      "         0., 0., 0., 0., 0., 0., 0., 0., 0., 0., 1., 0., 0.],\n",
      "        [0., 0., 0., 0., 0., 0., 0., 0., 0., 0., 0., 0., 0., 0., 0., 0., 0., 0.,\n",
      "         0., 0., 0., 0., 0., 0., 0., 1., 0., 0., 0., 0., 0., 0., 0., 0., 0., 0.,\n",
      "         0., 0., 0., 0., 0., 0., 0., 0., 0., 0., 0., 0., 0.],\n",
      "        [0., 0., 0., 0., 1., 0., 0., 0., 0., 0., 0., 0., 0., 0., 0., 0., 0., 0.,\n",
      "         0., 0., 0., 0., 0., 0., 0., 0., 0., 0., 0., 0., 0., 0., 0., 0., 0., 0.,\n",
      "         0., 0., 0., 0., 0., 0., 0., 0., 0., 0., 0., 0., 0.],\n",
      "        [0., 0., 0., 0., 0., 0., 0., 0., 0., 0., 0., 0., 0., 0., 0., 0., 0., 0.,\n",
      "         0., 0., 0., 0., 0., 0., 0., 0., 0., 0., 0., 0., 0., 0., 0., 0., 0., 0.,\n",
      "         0., 0., 0., 0., 0., 0., 0., 0., 0., 0., 0., 1., 0.],\n",
      "        [0., 0., 0., 0., 0., 0., 0., 0., 0., 0., 0., 0., 0., 0., 0., 0., 0., 0.,\n",
      "         0., 0., 1., 0., 0., 0., 0., 0., 0., 0., 0., 0., 0., 0., 0., 0., 0., 0.,\n",
      "         0., 0., 0., 0., 0., 0., 0., 0., 0., 0., 0., 0., 0.],\n",
      "        [0., 0., 0., 0., 1., 0., 0., 0., 0., 0., 0., 0., 0., 0., 0., 0., 0., 0.,\n",
      "         0., 0., 0., 0., 0., 0., 0., 0., 0., 0., 0., 0., 0., 0., 0., 0., 0., 0.,\n",
      "         0., 0., 0., 0., 0., 0., 0., 0., 0., 0., 0., 0., 0.]])\n"
     ]
    }
   ],
   "source": [
    "print(X[0])"
   ]
  },
  {
   "cell_type": "code",
   "execution_count": 52,
   "metadata": {
    "colab": {
     "base_uri": "https://localhost:8080/"
    },
    "id": "0isIPkzfd3ys",
    "outputId": "4a79a79e-d031-474b-9183-d8e20e786530"
   },
   "outputs": [
    {
     "name": "stdout",
     "output_type": "stream",
     "text": [
      "tensor([17,  4, 15, 46, 25,  4, 47, 20,  4, 36])\n"
     ]
    }
   ],
   "source": [
    "print(Y[0])"
   ]
  },
  {
   "cell_type": "code",
   "execution_count": 53,
   "metadata": {
    "id": "8bwxgOABd3ys"
   },
   "outputs": [],
   "source": [
    "class Net(torch.nn.Module):\n",
    "  def __init__(self, input_dim, hidden_dim, layers):\n",
    "    super(Net, self).__init__()\n",
    "    self.rnn = torch.nn.RNN(input_dim, hidden_dim, num_layers=layers, batch_first=True)\n",
    "    self.fc = torch.nn.Linear(hidden_dim, input_dim)\n",
    "\n",
    "  def forward(self, x):\n",
    "    x, _ = self.rnn(x)\n",
    "    x, _ = self.rnn(x)\n",
    "    x = self.fc(x)\n",
    "    return x"
   ]
  },
  {
   "cell_type": "code",
   "execution_count": 54,
   "metadata": {
    "id": "k-2e4XmGd3ys"
   },
   "outputs": [],
   "source": [
    "net = Net(vocab_size, hidden_size, 2)"
   ]
  },
  {
   "cell_type": "code",
   "execution_count": 55,
   "metadata": {
    "id": "ddsPq7Opd3ys"
   },
   "outputs": [],
   "source": [
    "criterion = torch.nn.CrossEntropyLoss()\n",
    "optimizer = optim.Adagrad(net.parameters(), learning_rate)"
   ]
  },
  {
   "cell_type": "code",
   "execution_count": 56,
   "metadata": {
    "colab": {
     "base_uri": "https://localhost:8080/"
    },
    "id": "LbFimNf6d3yt",
    "outputId": "1367abb6-d326-445b-cfef-8c576ca932db"
   },
   "outputs": [
    {
     "name": "stdout",
     "output_type": "stream",
     "text": [
      "torch.Size([83, 10, 49])\n"
     ]
    }
   ],
   "source": [
    "outputs = net(X)\n",
    "print(outputs.shape)"
   ]
  },
  {
   "cell_type": "code",
   "execution_count": 57,
   "metadata": {
    "colab": {
     "base_uri": "https://localhost:8080/"
    },
    "id": "GdZHn5pwd3y6",
    "outputId": "3c96bc0f-7961-45fd-9dfc-50bc03aa0d0f"
   },
   "outputs": [
    {
     "name": "stdout",
     "output_type": "stream",
     "text": [
      "모오오오고오오오고오오고백오고고백고오오고오오오고고오고백오고고고오오오오고백고고백백백오고오오고오오고오백오백오오고고백고백백고오오오고오고고오오백고오고고고오오백고오오고오오고고오\n",
      "                                                                                            \n",
      "                                                                                            \n",
      "                                                                                            \n",
      "                                                                                            \n",
      "                                                                                            \n",
      "                                                                                            \n",
      "                                                                                            \n",
      "                                                                                            \n",
      "                                                                                            \n",
      "                                                                                            \n",
      "                                                                                            \n",
      "          을  을  을   의  을        을   을  을   을   을  을  을      을  을                 을   을      \n",
      "   을  들의  을  을  을  들의  을        을  들의  을   을   을  을  을  을   을  을  들의  을      들의  을   을  들의  \n",
      "   을   을  을  을  들의  을  그의    의  을   을  그의  들의  을  들  그   을  을  그의  을      을   을  들의  을   을  \n",
      "   을  을  을의 들의 들의  을  그의  의 들의 그을  을   을   을  을의 들의 들의  을  을의 그을  을  을       을   을  을의  을  그\n",
      "   을   을  을  그  그   을        의  들   을       의  을  그  그   의  들  그의         을   을  그   들   을  \n",
      "   을  들의 그을  을  을  들의  들의   그의  을  들의  들의  들의 그을  을  을  들의  을  을  들의  어  그어  들의  들   고  들의  \n",
      "   을  그을  을  을  을  그을  들의   그의  을  그을  들의  들의  을  을  을  들의  을  을의 들의  을   을  그의  들의  을  그을  \n",
      "   을  들의 그을 그을  을  들의  들의 그 들의  을  들의  들의  부의 그을  을  을  들의  을  을  들   부  그어  들의  들   부  들의  \n",
      "   름의 그을  을  을  들의 그고  그의   그의  을의 그을의 들의  들의  을  을  을  들의  을  들의 들의  부   고의 그을  들의  름의 그을  \n",
      "   을  들의 그을 그을 그을  들의  들  그 들의 그을  들의  들   부의 들의 그을 그을  들  그을 그을  들 그 어  그을  들의  부  그어  들의  \n",
      "   름의 그을  을  름의 들의 그고의 그을의  그을  름의 그고의 그의  들의  을  들  름의 그의  름  들의 그의어 부의  름의 그고의 들의  름의 그고의 \n",
      "   을  들의 그의 그을 그을  들의  들  을 들의 그을  들의  들   부  들의 그을 그의  들  그을 그을  들 그    그을  들의  부  그을  들의  \n",
      "   름의 그을  을  을  름의 그고  그의   그의  름의 그을의 들의  들의 색을  을  을의 들의  부  을의 들의하 부  그름의 그고의 들의  름의 그을의 \n",
      "   름  그의 그을 그을 그을  들의  들의 그 되의 그을  그의  들의  들의 그을 그을 그을  들의 그을 그을  들 색 시  그을  들의  들  그을  그의  \n",
      "   름의 그을 색을 그을  름의 그대  그의   되의  름의 그을의 것의  들의 색을  을 그을의 들의  부  을의 것의하 부  그름의 그을의 나의  름의 그을의 \n",
      "  그름  그의 그을 그을 그을  되의  들의 그 되의 그을  그의  들의  들의 그을 그을 그을  들의 그을 그을의 들 하 시  그을  되어  들  그을  그어  \n",
      "   름의 그을 색을 그을  름의 그대의 그의   되의 그름의 그을의 것의, 나의 색을 그을 그을의 들의  부  을의 것 하 부  그름의 그대의 나의  름의 그을의 \n",
      "  그름  그의 그을 그을 그을  되의  되의 그 되의 그을  그을  들의  들의 그을 그을 그을  들의 그을 그을의 것 하 시  그을  그어  들의 그을  그을  \n",
      "  그름의 그을 색을 그을 색름의 그대의 그의,  되의 그름의 그을의 것의, 나의 색을 그을 그을의 들의  름  을의 것 하 시  그름의 그대의 나의  름의 그대의 \n",
      "  그름  그을 그을 그을 그을  되의  되의 색 내의 그름  그을  들의  숲의 그을 그을 그을  들의 그을 그을의 것 하 시  그름의 그어의 나의 그을  그을  \n",
      "  그름의 그을 색을 그을 색름의 그대의 그의,  되의 그름의 그을의 것의, 나의 색을 그을 그을의 것의 그름 그을의 것 하 시  그름의 그대의 나의 그름의 그대의 \n",
      "  그름  그을 그을 그을 그을  되의  되의 색 내의 그름의 그을  들의  숲의 그을 그을 그을  들의 그을 그을의 것 하의시  그름의 그을의 나의 그대  그을  \n",
      "  그름의 그을 색을 그을 색대의 그대니 그을,다 되의 그름의 그을의 것의, 나의 색을 그을 그을의 테의 그러 그을의 것 하 시  그름의 그대의 나의 그름의 그대의 \n",
      "  그대  그을 그을 그을 그대  되의  되의 색 내의 그름의 그을  들의  숲의 그을 그을 그을  들의 그러 그을의 것 하의시  그름의 그을의 나의 그대  그을  \n",
      "  그름의 그을 색을 그름 그대의 그대니 그을니다 내의 그름의 그을의 것의, 나의 색을 그을 그을의 테의 그러 그대의 것 하 시  그름의 그대의 나의 그름의 그대니 \n",
      "  그대의 그을 그을 그을 그대  되의  되의 다 내의 그름의 그을니 숲의, 숲의 그을 그을 그을  숲의 그러 그을의 것 하의시  그름의 그대의 나의 그대  그을, \n",
      "  그름의 그을 색을 그름 그대의 되대니 그을니다 내의 그름의 그을의 테의, 나의 색을 그을 그대의 테의 그러  대의 것 하 시  그름의 그대의 나의 그대의 그대니 \n",
      "  그대  되을 색을 그을 그대  되의  되의 다 내의 그름의 그을과 숲의, 나의 그을 그을 그을  숲의 그러 그을의 것 하의시  그름의 그대의 나의 그대  되을, \n",
      "  그대의 그을 색을 그름 그대의 되대니 그을의다 내의 그름의 그을니 되의, 숲의 색을 그을 그대의 테의 그러  대의 것 하 시  그름의 그대의 나의 그대의 그대니 \n",
      "  그대  되을 색을 그을 색을  되의, 되의,다 내의 그름의 그을, 숲의, 나의 그을 색을 모을  숲의 그러 그을의 것 하 시  그러의 그대의 나  그대  되을, \n",
      "  그대의 그을 색을 그름 그대의 되대니 그을의다 내을 그름의 그을니 되의, 숲의 색을 그대 그름의 테의 그러  대의 것 하십시  그름의 그대의 나의 그대의 그대니 \n",
      "  그대  되을 색을 모을 색을  되의, 되의,다 내의 그러의 그을, 숲의, 나의 그을 색을 모을  숲  그러 그을의 것 하 시  그러의 그대의 나  그대  되어, \n",
      "  그대의 그을 색을 그대 그대의 되대니 그을의다 내을 그름의 그을니 되의, 숲의 색을 그대 그름의 테의 그대  대의 내 하십시오 그러의 그대의 나의 그대의 그대니 \n",
      "  그대이 되을 색을 모을 색대  되어, 되의,다 내의 그러의 그을과 숲의, 나의 색을 색을 훔을  숲의 그러 그을의 것 하 시  그러의 그대의 나  그대  되어, \n",
      "  그대의 그을 색을 그대 그대의 되어니 그을의다 내의 그름의 그을니 되의, 숲의 색을 그을 색대의 테의 그대  대의 것 하십시오 그러의 그대의 나의 그대의 그을과 \n",
      "  그대이 되을 색을 모을 색대  되어, 되의,다 내의 그러의 색을과 숲의, 나의 색을 색을 훔대이 숲의 그러 그대의 것 하십시  그러의 그대의 나의 그대  되어, \n",
      "  그대의 그을 색을 그대 그대이 되어도 그을니다 내의 그름의 색을과 되의, 숲의 색을 색을 색대의 테의 그대 그대의 것 하십시  그러의 그대의 나의 그대의 그을도 \n",
      "  그대이 되을 색을 모대 색대이 되어, 되의,다 내의 그러의 색을과 숲의, 나의 색을 색을 훔대이 숲의 그러 그대의 것 하십시  그러의 그대의 나의 그대이 되어, \n",
      "  그대의 그을 색을 그대 그대이 되어도 그을니다 내의 그름의 색을과 되의, 숲의 색을 색을 색대의 테의 그대 그대의 것 하십시  그러의 그대의 나의 그대이 그을, \n",
      "  그대이 되어 색을 모대 색름이 되어, 되을,다 내의 그러의 색을과 숲의, 나의 색을 모을 훔대이 숲의 그러 그대의 것 하십시오 그러의 그대의 나의 그대이 되어, \n",
      "  그대이 그을 색을 그대 그대이 되어도 그을니다 내의 그러의 색을과 되의, 숲의 색을 색을 색대이 테의 그대 그대의 것 하십시  그러의 그대의 나의 그대이 그을, \n",
      "  그대이 되어 색을 모대 모름이 되어, 되을,다 내의 그러의 색을과 숲의, 나의 색을 모을 훔대이 숲의 그러 그대의 것 하십시오 그러의 그대의 나의 그대이 되어, \n",
      "  그대이 그을 색을 그대 그대이 되어도 그을니다 내의 그러의 색을과 되의, 숲의 색을 색을 색대이 테의 그대 그대의 것 하십시  그러의 그대의 나의 그대이 그을, \n",
      "  그대이 되어 색을 모대 모름이 되어, 되을,다 내의 그러의 색을과 들의, 나의 색을 모을 훔대이 숲의 그러 그대의 것 하십시오 그러의 그대의 나의 그대이 되어, \n",
      "  그대이 그을 색을 그대 그대이 되어도 그을니다 내의 그러의 색을과 되의, 숲의 색을 색을 색대이 테의 그대 그대의 것 하십시오 그러의 그대의 나의 그대이 그을, \n",
      "  그대이 되어 색을 모대 모대이 되어, 되을,다 내의 그러의 색을과 들의, 나의 색을 모을 훔대이 숲의 그러 그대의 것 하십시오 그러의 그대의 나의 그대이 되어, \n",
      "  그대이 되을 색을 그대 그대이 되어도 그을니다 내가 그상의 색을과 되풀, 숲의 색을 색을 색대이 테의 그대 그대의 것 하십시오 그러의 그대의 나의 그대이 되을, \n",
      "  그대이 되어 색을 모대 모대이 되어, 되을,다 내의 그러의 색을과 들의, 나의 색을 모을 훔대이 테의 그러 그대의 것 하십시오 그러의 그대의 나의 그대이 되어, \n",
      "  그대이 되을 색을 색대 그대이 되어도 그을니다 내가 그상의 색들과 되풀, 숲의 색을 색을 색대이 테의 그대  대의 것 하십시오 그러의 그대의 나의 그대이 되을, \n",
      "  그대이 되어 색을 모대 모대이 되어, 되을,다 내의 그러의 색을과 들의, 나의 색을 모을 훔쳐이 테의 전러 그대의 것 하십시오 그러의 그대의 나의 그대이 되어, \n",
      "  그대이 되을 색을 모대 그대이 되어도 그을니다 내가 그상의 색들과 되풀, 숲의 색을 색을 색름이 테의 그대  대의 것 하십시오 그러의 그대의 나의 그대이 되을, \n",
      "  그대이 되어 색을 모고 모대이 되어, 되의,다 내의 그러의 색을과 들의, 나의 색을 모을 훔쳐이 테의 전부 그대의 것 하십시오 그러의 그대의 나의 그대  되어, \n",
      "  그대이 되을 색을 모대 그름이 되어도 그을니다 내가 그상의 색들과 되풀, 숲의 색을 색대 색름이 테의 그대  대의 것 하십시오 그러의 그대의 나의 그대이 되을, \n",
      "  그대이 되어 색을 모고 모대이 되어, 되을,다 내의 그러의 색을과 들의, 나의 색을 모을 훔쳐이 테의 전부 그대의 것 하십시오 그러의 그대의 나의 그대  되어, \n",
      "  그대이 되을 색을 모백 흑름이 되어도 그을니다 내가 그상의 색들과 되풀, 숲의 색을 색대 훔름이 테의 그대  대의 것 하십시오 그러의 그대의 나의 그대이 되을, \n",
      "  그대이 되어 색을 모고 모대이 되어, 되을니다 내의 그러의 색을과 들풀, 나의 색을 모을 훔쳐이 테의 전부 그대의 것 하십시오 그러의 그대의 나의 그대이 되어, \n",
      "  그대이 되을 색을 모고 흑름이 되어도 그을니다 내가 그상의 색들과 되풀, 숲의 색을 모대 훔름이 테의 그대  대의 것 하십시오 그러의 그대의 나의 그대이 되어, \n",
      "  그대이 되어 색을 모고 모대이 되어, 그을니다 내의 그러의 색들과 들풀, 나의 색을 모을 훔쳐이 테의 전부 그대의 것 하십시오 그러의 그대의 나의 그대이 되어, \n",
      "  그대이 되어 색을 모고 흑름이 되어도 그을니다 내가 그상의 색들과 되풀, 숲의 색을 모대 훔쳐이 테의 그대 그대의 것 하십시오 그러의 그대의 나의 그대이 되어, \n",
      "  그대이 되어 색을 모고 모대이 되어, 그을니다 내의 그상의 색들과 들풀, 나의 색을 모을 훔쳐이 테의 전부 그대의 것 하십시오 그러의 그대의 나의 그대이 되어, \n",
      "  그대이 되어 색을 모고 흑백이 되어도 그을니다 내가 그상의 색들과 들풀, 숲의 색을 모을 훔쳐이 테의 그대 그대의 것 하십시오 그러의 그대의 나의 그대이 되어, \n",
      "  그대이 되어 색을 모고 모름이 되어, 그을니다 내의 그상의 색들과 들풀, 나의 색을 모을 훔쳐이 테의 전부 그대의 것 하십시오 그러의 그대의 나의 그대이 되어, \n",
      "  그대이 되어 색을 모고 흑백이 되어도 그을니다 내가 그상의 색들과 들풀, 숲의 색을 모을 훔쳐이 테의 그부 그대의 것 하십시오 그러의 그대의 나의 그대이 되어, \n",
      "  그대이 되어 색을 모고 흑백이 되어도 좋습니다 내의 그상의 색들과 들풀, 나의 색을 모을 훔쳐이 테의 전부 그대의 것 하십시오 그러의 그대의 나의 그대이 되어, \n",
      "  그대이 되어 색을 모고 흑백이 되어도 그을니다 내가 그상의 색들과 들풀, 숲의 색을 모을 훔쳐이 테의 그부 그대의 것 하십시오 그러의 그대의 나의 그대이 되어, \n",
      "  그대이 되어 색을 모고 흑백이 되어도 좋습니다 내의 그상의 색들과 들풀, 나의 색을 모두 훔쳐이 테의 전부 그대의 것 하십시오 그러의 그대의 나의 그대이 되어, \n",
      "  그대이 되어 색을 모고 흑백이 되어도 그을니다 내가 그상의 색들과 들풀, 숲의 색을 모을 훔쳐이 테의 그부 그대의 것 하십시오 그러의 그대의 나의 그대이 되어, \n",
      "  그대이 되어 색을 모고 흑백이 되어도 좋습니다 내의 그상의 색들과 들풀, 나의 색을 모두 훔쳐이 테의 전부 그대의 것 하십시오 그러의 그대는 나의 그대이 되어, \n",
      "  그대이 되어 색을 모고 흑백이 되어도 그을니다 내가 그상의 색들과 들풀, 숲의 색을 모을 훔쳐이 테의 그부 그대의 것 하십시오 그러의 그대의 나의 그대이 되어, \n",
      "  그대이 되어 색을 모고 흑백이 되어도 좋습니다 내가 세상의 꽃들과 들풀, 나의 색을 모두 훔쳐이 테의 전부 그대의 것 하십시오 그러의 그대는 나의 그대이 되어, \n",
      "  그대이 되어 색을 모고 흑백이 되어도 그을니다 내가 그상의 색들과 들풀, 숲의 색을 모을 훔쳐이 테의 그부 그대의 것 하십시오 그러의 그대의 나의 그대이 되어, \n",
      "  그대이 되어 색을 모고 흑백이 되어도 좋습니다 내가 세상의 꽃들과 들풀, 나의 색을 모두 훔쳐이 테의 전부 그대의 것 하십시오 그상의 그대는 나의 여대이 되어, \n",
      "  그대이 되어 색을 모고 흑백이 되어도 그을니다 내가 그상의 색들과 들풀, 숲의 색을 모을 훔쳐이 테의 그부 그대의 것 하십시오 그대의 그대는 나의 그대이 되어, \n",
      "  그대이 되어 색을 모고 흑백이 되어도 좋습니다 내가 세상의 꽃들과 들풀, 숲의 색을 모두 훔쳐이 테의 전부 그대의 것 하십시오 그상의 그대는 나의 여대이 되어, \n",
      "  그대이 되어 색을 모고 흑백이 되어도 그을니다 내가 그상의 색들과 들풀, 숲의 색을 모두 훔쳐이 테니 전부 그대의 것 하십시오 그대의 그대는 나의 그대이 되어, \n",
      "  그대이 되어 색을 모고 흑백이 되어도 좋습니다 내가 세상의 꽃들과 들풀, 숲의 색을 모두 훔쳐이 테의 전부 그대의 것 하십시오 그러의 그대는 나의 여대이 되어, \n",
      "  그대이 되어 색을 모고 흑백이 되어도 그습니다 내가 그상의 색들과 들풀, 숲의 색을 모두 훔쳐이 테니 전부 그대의 것 하십시오 그러의 그대는 나의 그대이 되어, \n"
     ]
    },
    {
     "name": "stdout",
     "output_type": "stream",
     "text": [
      "  그대이 되어 색을 모고 흑백이 되어도 좋습니다 내가 세상의 꽃들과 들풀, 숲의 색을 모두 훔쳐이 테니 전부 그대의 것 하십시오 그러의 그대는 나의 여대이 되어, \n",
      "  그대이 되어 색을 잃고 흑백이 되어도 그습니다 내가 그상의 색들과 들풀, 숲의 색을 모두 훔쳐이 테니 전부 그대의 것 하십시오 그러의 그대는 나의 그대이 되어, \n",
      "  그대이 되어 색을 모고 흑백이 되어도 좋습니다 내가 세상의 꽃들과 들풀, 숲의 색을 모두 훔쳐이 테니 전부 그대의 것 하십시오 그러의 그대는 나의 여대이 되어, \n",
      "  그대이 되어 색을 잃고 흑백이 되어도 좋습니다 내가 그상의 색들과 들풀, 숲의 색을 모두 훔쳐이 테니 전부 그대의 것 하십시오 그러의 그대는 나의 그대이 되어, \n",
      "  그대이 되어 색을 모고 흑백이 되어도 좋습니다 내가 세상의 꽃들과 들풀, 숲의 색을 모두 훔쳐이 테니 전부 그대의 것 하십시오 그러의 그대는 나의 여대이 되어, \n",
      "  그대이 되어 색을 잃고 흑백이 되어도 좋습니다 내가 그상의 색들과 들풀, 숲의 색을 모두 훔쳐이 테니 전부 그대의 것 하십시오 그러의 그대는 나의 여대이 되어, \n",
      "  그대이 되어 색을 모고 흑백이 되어도 좋습니다 내가 세상의 꽃들과 들풀, 숲의 색을 모두 훔쳐이 테니 전부 그대의 것 하십시오 그러의 그대는 나의 여대이 되어, \n",
      "  그대이 되어 색을 잃고 흑백이 되어도 좋습니다 내가 그상의 색들과 들풀, 숲의 색을 모두 훔쳐이 테니 전부 그대의 것 하십시오 그러의 그대는 나의 여대이 되어, \n",
      "  그대이 되어 색을 잃고 흑백이 되어도 좋습니다 내가 세상의 꽃들과 들풀, 숲의 색을 모두 훔쳐이 테니 전부 그대의 것 하십시오 그러니 그대는 나의 여대이 되어, \n",
      "  그대이 되어 색을 잃고 흑백이 되어도 좋습니다 내가 그상의 색들과 들풀, 숲의 색을 모두 훔쳐이 테니 전부 그대의 것 하십시오 그러니 그대는 나의 여대이 되어, \n",
      "  그대이 되어 색을 잃고 흑백이 되어도 좋습니다 내가 세상의 꽃들과 들풀, 숲의 색을 모두 훔쳐이 테니 전부 그대의 것 하십시오 그러니 그대는 나의 여대이 되어,십\n"
     ]
    }
   ],
   "source": [
    "for i in range(100):\n",
    "    optimizer.zero_grad()\n",
    "    outputs = net(X)\n",
    "    loss = criterion(outputs.view(-1, len(vocab)), Y.view(-1))\n",
    "    loss.backward()\n",
    "    optimizer.step()\n",
    "\n",
    "    results = outputs.argmax(dim=2)\n",
    "    predict_str = \"\"\n",
    "    for j, result in enumerate(results):\n",
    "        if j == 0:\n",
    "            predict_str += ''.join([world_set[t] for t in result])\n",
    "        else:\n",
    "            predict_str += world_set[result[-1]]\n",
    "\n",
    "    print(predict_str)"
   ]
  },
  {
   "cell_type": "code",
   "execution_count": 58,
   "metadata": {
    "colab": {
     "base_uri": "https://localhost:8080/",
     "height": 35
    },
    "id": "6XxUUz-bd3y6",
    "outputId": "3d29e70a-0730-41fb-83d0-7bcfa2310aea",
    "scrolled": true
   },
   "outputs": [
    {
     "data": {
      "text/plain": [
       "'  그대이 되어 색을 잃고 흑백이 되어도 좋습니다 내가 세상의 꽃들과 들풀, 숲의 색을 모두 훔쳐이 테니 전부 그대의 것 하십시오 그러니 그대는 나의 여대이 되어,십'"
      ]
     },
     "execution_count": 58,
     "metadata": {},
     "output_type": "execute_result"
    }
   ],
   "source": [
    "predict_str"
   ]
  }
 ],
 "metadata": {
  "accelerator": "GPU",
  "colab": {
   "provenance": []
  },
  "gpuClass": "standard",
  "kernelspec": {
   "display_name": "Python 3 (ipykernel)",
   "language": "python",
   "name": "python3"
  },
  "language_info": {
   "codemirror_mode": {
    "name": "ipython",
    "version": 3
   },
   "file_extension": ".py",
   "mimetype": "text/x-python",
   "name": "python",
   "nbconvert_exporter": "python",
   "pygments_lexer": "ipython3",
   "version": "3.11.5"
  }
 },
 "nbformat": 4,
 "nbformat_minor": 1
}
