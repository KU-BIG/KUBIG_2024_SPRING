{
  "nbformat": 4,
  "nbformat_minor": 0,
  "metadata": {
    "colab": {
      "provenance": []
    },
    "kernelspec": {
      "name": "python3",
      "display_name": "Python 3"
    },
    "language_info": {
      "name": "python"
    }
  },
  "cells": [
    {
      "cell_type": "code",
      "execution_count": 1,
      "metadata": {
        "id": "hypfRxEMwoJs"
      },
      "outputs": [],
      "source": [
        "import numpy as np\n",
        "import torch\n",
        "import torch.nn as nn\n",
        "import torch.optim as optim"
      ]
    },
    {
      "cell_type": "code",
      "source": [
        "#1. 생성할 문장 데이터\n",
        "\n",
        "sentence = (\"Brick walls are there for a reason and you must not think \"\n",
        "            \"that the brick walls aren't there to keep us out, but rather \"\n",
        "            \"in this way that the brick walls are there to show us how badly we want things.\")"
      ],
      "metadata": {
        "id": "N_sx9PDhwx9l"
      },
      "execution_count": 2,
      "outputs": []
    },
    {
      "cell_type": "code",
      "source": [
        "#2. 문자 집합 만들기\n",
        "world_set = list(set(sentence))"
      ],
      "metadata": {
        "id": "IKKZhMgrxEsl"
      },
      "execution_count": 3,
      "outputs": []
    },
    {
      "cell_type": "code",
      "source": [
        "vocab = {char : i for i, char in enumerate(world_set)}"
      ],
      "metadata": {
        "id": "HX7zgexlxMiE"
      },
      "execution_count": 4,
      "outputs": []
    },
    {
      "cell_type": "code",
      "source": [
        "print(vocab)"
      ],
      "metadata": {
        "colab": {
          "base_uri": "https://localhost:8080/"
        },
        "id": "FHknfoQAxRAm",
        "outputId": "ff89867c-c0d6-4dbc-855f-2d8d765234ed"
      },
      "execution_count": 5,
      "outputs": [
        {
          "output_type": "stream",
          "name": "stdout",
          "text": [
            "{'c': 0, 't': 1, 's': 2, 'i': 3, 'g': 4, 'o': 5, 'd': 6, 'f': 7, '.': 8, 'k': 9, 'm': 10, 'e': 11, ',': 12, 'a': 13, 'h': 14, 'B': 15, 'n': 16, ' ': 17, 'y': 18, 'b': 19, 'l': 20, 'u': 21, 'w': 22, 'p': 23, 'r': 24, \"'\": 25}\n"
          ]
        }
      ]
    },
    {
      "cell_type": "code",
      "source": [
        "#3. 문자 집합 크기 확인\n",
        "\n",
        "vocab_size = len(vocab)\n",
        "print('문자 집합 크기 : {}'.format(vocab_size))"
      ],
      "metadata": {
        "colab": {
          "base_uri": "https://localhost:8080/"
        },
        "id": "HwVtX3I5xSNk",
        "outputId": "8fe6300a-1d61-4a7d-87d6-ce2191aadd23"
      },
      "execution_count": 6,
      "outputs": [
        {
          "output_type": "stream",
          "name": "stdout",
          "text": [
            "문자 집합 크기 : 26\n"
          ]
        }
      ]
    },
    {
      "cell_type": "code",
      "source": [
        "#4. 하이퍼 파라미터 설정 - 자유롭게\n",
        "\n",
        "hidden_size = vocab_size # 같아야 하는 것 확인!\n",
        "sequence_length = 10  # 너무 길거나 너무 짧게 잡으면 안됩니다!\n",
        "learning_rate = 0.01"
      ],
      "metadata": {
        "id": "yNsfIcEuxXHa"
      },
      "execution_count": 7,
      "outputs": []
    },
    {
      "cell_type": "code",
      "source": [
        "#5. seqence 길이 단위 자르기\n",
        "\n",
        "# 데이터 구성을 위한 리스트\n",
        "x_data = []\n",
        "y_data = []\n",
        "\n",
        "## 문제(2): 반복문 내에서의 인덱싱을 사용하여 sequence_length 값 단위로 샘플을 잘라 데이터 만들기, y_str은 x_str은 한 칸씩 쉬프트된 sequnce\n",
        "\n",
        "for i in range(0, len(sentence) - sequence_length):\n",
        "  x_str = sentence[i:i + sequence_length]\n",
        "  y_str = sentence[i+1 : i+1 + sequence_length]\n",
        "  print(i, x_str, \"->\", y_str)\n",
        "\n",
        "  # x_str과 y_str이 문자집합에 해당하는 인덱스를 각각 x_data, y_data에 append\n",
        "  x_data.append([vocab[c] for c in x_str])\n",
        "  y_data.append([vocab[d] for d in y_str])"
      ],
      "metadata": {
        "colab": {
          "base_uri": "https://localhost:8080/"
        },
        "id": "CYJ5Jas9xc9i",
        "outputId": "bf061d13-919f-4406-98b6-92efcefb42c7"
      },
      "execution_count": 8,
      "outputs": [
        {
          "output_type": "stream",
          "name": "stdout",
          "text": [
            "0 Brick wall -> rick walls\n",
            "1 rick walls -> ick walls \n",
            "2 ick walls  -> ck walls a\n",
            "3 ck walls a -> k walls ar\n",
            "4 k walls ar ->  walls are\n",
            "5  walls are -> walls are \n",
            "6 walls are  -> alls are t\n",
            "7 alls are t -> lls are th\n",
            "8 lls are th -> ls are the\n",
            "9 ls are the -> s are ther\n",
            "10 s are ther ->  are there\n",
            "11  are there -> are there \n",
            "12 are there  -> re there f\n",
            "13 re there f -> e there fo\n",
            "14 e there fo ->  there for\n",
            "15  there for -> there for \n",
            "16 there for  -> here for a\n",
            "17 here for a -> ere for a \n",
            "18 ere for a  -> re for a r\n",
            "19 re for a r -> e for a re\n",
            "20 e for a re ->  for a rea\n",
            "21  for a rea -> for a reas\n",
            "22 for a reas -> or a reaso\n",
            "23 or a reaso -> r a reason\n",
            "24 r a reason ->  a reason \n",
            "25  a reason  -> a reason a\n",
            "26 a reason a ->  reason an\n",
            "27  reason an -> reason and\n",
            "28 reason and -> eason and \n",
            "29 eason and  -> ason and y\n",
            "30 ason and y -> son and yo\n",
            "31 son and yo -> on and you\n",
            "32 on and you -> n and you \n",
            "33 n and you  ->  and you m\n",
            "34  and you m -> and you mu\n",
            "35 and you mu -> nd you mus\n",
            "36 nd you mus -> d you must\n",
            "37 d you must ->  you must \n",
            "38  you must  -> you must n\n",
            "39 you must n -> ou must no\n",
            "40 ou must no -> u must not\n",
            "41 u must not ->  must not \n",
            "42  must not  -> must not t\n",
            "43 must not t -> ust not th\n",
            "44 ust not th -> st not thi\n",
            "45 st not thi -> t not thin\n",
            "46 t not thin ->  not think\n",
            "47  not think -> not think \n",
            "48 not think  -> ot think t\n",
            "49 ot think t -> t think th\n",
            "50 t think th ->  think tha\n",
            "51  think tha -> think that\n",
            "52 think that -> hink that \n",
            "53 hink that  -> ink that t\n",
            "54 ink that t -> nk that th\n",
            "55 nk that th -> k that the\n",
            "56 k that the ->  that the \n",
            "57  that the  -> that the b\n",
            "58 that the b -> hat the br\n",
            "59 hat the br -> at the bri\n",
            "60 at the bri -> t the bric\n",
            "61 t the bric ->  the brick\n",
            "62  the brick -> the brick \n",
            "63 the brick  -> he brick w\n",
            "64 he brick w -> e brick wa\n",
            "65 e brick wa ->  brick wal\n",
            "66  brick wal -> brick wall\n",
            "67 brick wall -> rick walls\n",
            "68 rick walls -> ick walls \n",
            "69 ick walls  -> ck walls a\n",
            "70 ck walls a -> k walls ar\n",
            "71 k walls ar ->  walls are\n",
            "72  walls are -> walls aren\n",
            "73 walls aren -> alls aren'\n",
            "74 alls aren' -> lls aren't\n",
            "75 lls aren't -> ls aren't \n",
            "76 ls aren't  -> s aren't t\n",
            "77 s aren't t ->  aren't th\n",
            "78  aren't th -> aren't the\n",
            "79 aren't the -> ren't ther\n",
            "80 ren't ther -> en't there\n",
            "81 en't there -> n't there \n",
            "82 n't there  -> 't there t\n",
            "83 't there t -> t there to\n",
            "84 t there to ->  there to \n",
            "85  there to  -> there to k\n",
            "86 there to k -> here to ke\n",
            "87 here to ke -> ere to kee\n",
            "88 ere to kee -> re to keep\n",
            "89 re to keep -> e to keep \n",
            "90 e to keep  ->  to keep u\n",
            "91  to keep u -> to keep us\n",
            "92 to keep us -> o keep us \n",
            "93 o keep us  ->  keep us o\n",
            "94  keep us o -> keep us ou\n",
            "95 keep us ou -> eep us out\n",
            "96 eep us out -> ep us out,\n",
            "97 ep us out, -> p us out, \n",
            "98 p us out,  ->  us out, b\n",
            "99  us out, b -> us out, bu\n",
            "100 us out, bu -> s out, but\n",
            "101 s out, but ->  out, but \n",
            "102  out, but  -> out, but r\n",
            "103 out, but r -> ut, but ra\n",
            "104 ut, but ra -> t, but rat\n",
            "105 t, but rat -> , but rath\n",
            "106 , but rath ->  but rathe\n",
            "107  but rathe -> but rather\n",
            "108 but rather -> ut rather \n",
            "109 ut rather  -> t rather i\n",
            "110 t rather i ->  rather in\n",
            "111  rather in -> rather in \n",
            "112 rather in  -> ather in t\n",
            "113 ather in t -> ther in th\n",
            "114 ther in th -> her in thi\n",
            "115 her in thi -> er in this\n",
            "116 er in this -> r in this \n",
            "117 r in this  ->  in this w\n",
            "118  in this w -> in this wa\n",
            "119 in this wa -> n this way\n",
            "120 n this way ->  this way \n",
            "121  this way  -> this way t\n",
            "122 this way t -> his way th\n",
            "123 his way th -> is way tha\n",
            "124 is way tha -> s way that\n",
            "125 s way that ->  way that \n",
            "126  way that  -> way that t\n",
            "127 way that t -> ay that th\n",
            "128 ay that th -> y that the\n",
            "129 y that the ->  that the \n",
            "130  that the  -> that the b\n",
            "131 that the b -> hat the br\n",
            "132 hat the br -> at the bri\n",
            "133 at the bri -> t the bric\n",
            "134 t the bric ->  the brick\n",
            "135  the brick -> the brick \n",
            "136 the brick  -> he brick w\n",
            "137 he brick w -> e brick wa\n",
            "138 e brick wa ->  brick wal\n",
            "139  brick wal -> brick wall\n",
            "140 brick wall -> rick walls\n",
            "141 rick walls -> ick walls \n",
            "142 ick walls  -> ck walls a\n",
            "143 ck walls a -> k walls ar\n",
            "144 k walls ar ->  walls are\n",
            "145  walls are -> walls are \n",
            "146 walls are  -> alls are t\n",
            "147 alls are t -> lls are th\n",
            "148 lls are th -> ls are the\n",
            "149 ls are the -> s are ther\n",
            "150 s are ther ->  are there\n",
            "151  are there -> are there \n",
            "152 are there  -> re there t\n",
            "153 re there t -> e there to\n",
            "154 e there to ->  there to \n",
            "155  there to  -> there to s\n",
            "156 there to s -> here to sh\n",
            "157 here to sh -> ere to sho\n",
            "158 ere to sho -> re to show\n",
            "159 re to show -> e to show \n",
            "160 e to show  ->  to show u\n",
            "161  to show u -> to show us\n",
            "162 to show us -> o show us \n",
            "163 o show us  ->  show us h\n",
            "164  show us h -> show us ho\n",
            "165 show us ho -> how us how\n",
            "166 how us how -> ow us how \n",
            "167 ow us how  -> w us how b\n",
            "168 w us how b ->  us how ba\n",
            "169  us how ba -> us how bad\n",
            "170 us how bad -> s how badl\n",
            "171 s how badl ->  how badly\n",
            "172  how badly -> how badly \n",
            "173 how badly  -> ow badly w\n",
            "174 ow badly w -> w badly we\n",
            "175 w badly we ->  badly we \n",
            "176  badly we  -> badly we w\n",
            "177 badly we w -> adly we wa\n",
            "178 adly we wa -> dly we wan\n",
            "179 dly we wan -> ly we want\n",
            "180 ly we want -> y we want \n",
            "181 y we want  ->  we want t\n",
            "182  we want t -> we want th\n",
            "183 we want th -> e want thi\n",
            "184 e want thi ->  want thin\n",
            "185  want thin -> want thing\n",
            "186 want thing -> ant things\n",
            "187 ant things -> nt things.\n"
          ]
        }
      ]
    },
    {
      "cell_type": "code",
      "source": [
        "# 출력해서 한 칸씩 쉬프트된 것 확인\n",
        "\n",
        "print(x_data[0])\n",
        "print(y_data[0])"
      ],
      "metadata": {
        "colab": {
          "base_uri": "https://localhost:8080/"
        },
        "id": "Q-cTSalzxnM2",
        "outputId": "26c35b4d-9575-4fe7-f03a-d8c5158283d9"
      },
      "execution_count": 9,
      "outputs": [
        {
          "output_type": "stream",
          "name": "stdout",
          "text": [
            "[15, 24, 3, 0, 9, 17, 22, 13, 20, 20]\n",
            "[24, 3, 0, 9, 17, 22, 13, 20, 20, 2]\n"
          ]
        }
      ]
    },
    {
      "cell_type": "code",
      "source": [
        "##6. 입력 시퀀스 원핫인코딩 수행.\n",
        "\n",
        "\n",
        "## 문제(4) : x_data를 원핫인코딩 > numpy의 eye를 쓸 수 있지 않을까?\n",
        "x_one_hot = [np.eye(vocab_size)[x] for x in x_data]\n",
        "\n",
        "##7. 입력 데이터, 레이블데이터 텐서로 변환\n",
        "\n",
        "## 문제(5) : x_one_hot과 y_data 텐서로 변환 : 둘 다 같은 형식의 텐서로 변환하면 될까?? (FloatTensor, LongTesor 중 맞는 것은?)\n",
        "X = torch.FloatTensor(x_one_hot)\n",
        "Y = torch.LongTensor(y_data)"
      ],
      "metadata": {
        "colab": {
          "base_uri": "https://localhost:8080/"
        },
        "id": "PRd3UZKhxtib",
        "outputId": "e247a674-e64d-4cef-94bb-ecf6f0020021"
      },
      "execution_count": 10,
      "outputs": [
        {
          "output_type": "stream",
          "name": "stderr",
          "text": [
            "<ipython-input-10-17bdfe0520bd>:10: UserWarning: Creating a tensor from a list of numpy.ndarrays is extremely slow. Please consider converting the list to a single numpy.ndarray with numpy.array() before converting to a tensor. (Triggered internally at ../torch/csrc/utils/tensor_new.cpp:261.)\n",
            "  X = torch.FloatTensor(x_one_hot)\n"
          ]
        }
      ]
    },
    {
      "cell_type": "code",
      "source": [
        "##8. 크기 확인\n",
        "print('훈련 데이터의 크기 : {}'.format(X.shape))\n",
        "print('레이블의 크기 : {}'.format(Y.shape))\n"
      ],
      "metadata": {
        "colab": {
          "base_uri": "https://localhost:8080/"
        },
        "id": "KzzUkrFsx-xY",
        "outputId": "2b79738e-76f4-43df-8c59-2a5655a276c9"
      },
      "execution_count": 11,
      "outputs": [
        {
          "output_type": "stream",
          "name": "stdout",
          "text": [
            "훈련 데이터의 크기 : torch.Size([188, 10, 26])\n",
            "레이블의 크기 : torch.Size([188, 10])\n"
          ]
        }
      ]
    },
    {
      "cell_type": "code",
      "source": [
        "##9.원핫인코딩 결과 샘플 확인하기\n",
        "print(X[0])"
      ],
      "metadata": {
        "colab": {
          "base_uri": "https://localhost:8080/"
        },
        "id": "F1rs6e2kyBWK",
        "outputId": "1722f3d7-8604-4e51-f393-8963fd6281a6"
      },
      "execution_count": 12,
      "outputs": [
        {
          "output_type": "stream",
          "name": "stdout",
          "text": [
            "tensor([[0., 0., 0., 0., 0., 0., 0., 0., 0., 0., 0., 0., 0., 0., 0., 1., 0., 0.,\n",
            "         0., 0., 0., 0., 0., 0., 0., 0.],\n",
            "        [0., 0., 0., 0., 0., 0., 0., 0., 0., 0., 0., 0., 0., 0., 0., 0., 0., 0.,\n",
            "         0., 0., 0., 0., 0., 0., 1., 0.],\n",
            "        [0., 0., 0., 1., 0., 0., 0., 0., 0., 0., 0., 0., 0., 0., 0., 0., 0., 0.,\n",
            "         0., 0., 0., 0., 0., 0., 0., 0.],\n",
            "        [1., 0., 0., 0., 0., 0., 0., 0., 0., 0., 0., 0., 0., 0., 0., 0., 0., 0.,\n",
            "         0., 0., 0., 0., 0., 0., 0., 0.],\n",
            "        [0., 0., 0., 0., 0., 0., 0., 0., 0., 1., 0., 0., 0., 0., 0., 0., 0., 0.,\n",
            "         0., 0., 0., 0., 0., 0., 0., 0.],\n",
            "        [0., 0., 0., 0., 0., 0., 0., 0., 0., 0., 0., 0., 0., 0., 0., 0., 0., 1.,\n",
            "         0., 0., 0., 0., 0., 0., 0., 0.],\n",
            "        [0., 0., 0., 0., 0., 0., 0., 0., 0., 0., 0., 0., 0., 0., 0., 0., 0., 0.,\n",
            "         0., 0., 0., 0., 1., 0., 0., 0.],\n",
            "        [0., 0., 0., 0., 0., 0., 0., 0., 0., 0., 0., 0., 0., 1., 0., 0., 0., 0.,\n",
            "         0., 0., 0., 0., 0., 0., 0., 0.],\n",
            "        [0., 0., 0., 0., 0., 0., 0., 0., 0., 0., 0., 0., 0., 0., 0., 0., 0., 0.,\n",
            "         0., 0., 1., 0., 0., 0., 0., 0.],\n",
            "        [0., 0., 0., 0., 0., 0., 0., 0., 0., 0., 0., 0., 0., 0., 0., 0., 0., 0.,\n",
            "         0., 0., 1., 0., 0., 0., 0., 0.]])\n"
          ]
        }
      ]
    },
    {
      "cell_type": "code",
      "source": [
        "##10. 레이블 데이터 샘플 확인하기\n",
        "print(Y[0])"
      ],
      "metadata": {
        "colab": {
          "base_uri": "https://localhost:8080/"
        },
        "id": "64XB90tyyQmQ",
        "outputId": "d383e2d0-070a-437a-f3d7-4bc050c53527"
      },
      "execution_count": 13,
      "outputs": [
        {
          "output_type": "stream",
          "name": "stdout",
          "text": [
            "tensor([24,  3,  0,  9, 17, 22, 13, 20, 20,  2])\n"
          ]
        }
      ]
    },
    {
      "cell_type": "code",
      "source": [
        "##11. RNN 모델 구현\n",
        "\n",
        "##문제(6) : 기본 pytorch 인자 넣기 연습 + forward 채우기\n",
        "### 조건 : rnn layer 2개 쌓기 + 마지막은 fc layer\n",
        "### batch_fisrt 설정 필요할까? (유튜브 강의 참고)\n",
        "\n",
        "class Net(torch.nn.Module):\n",
        "  def __init__(self, input_dim, hidden_dim, layers):\n",
        "    super(Net, self).__init__()\n",
        "    self.rnn = torch.nn.RNN(input_dim, hidden_dim, num_layers = layers, batch_first = True)\n",
        "    self.fc = torch.nn.Linear(hidden_dim, vocab_size) #output_dim = 26\n",
        "\n",
        "  def forward(self, x):\n",
        "    x, _ = self.rnn(x)\n",
        "    x = self.fc(x)\n",
        "    return x"
      ],
      "metadata": {
        "id": "apgGQOZxySB4"
      },
      "execution_count": 14,
      "outputs": []
    },
    {
      "cell_type": "code",
      "source": [
        "net = Net(vocab_size, hidden_size, 2)"
      ],
      "metadata": {
        "id": "Lifu-O90zyB_"
      },
      "execution_count": 15,
      "outputs": []
    },
    {
      "cell_type": "code",
      "source": [
        "##12. loss function\n",
        "criterion = torch.nn.CrossEntropyLoss()\n",
        "\n",
        "##13. optimizer\n",
        "optimizer = optim.Adam(net.parameters(), learning_rate)"
      ],
      "metadata": {
        "id": "w9FYDn5Wz0SM"
      },
      "execution_count": 16,
      "outputs": []
    },
    {
      "cell_type": "code",
      "source": [
        "##14. 출력 크기 점검\n",
        "outputs = net(X)\n",
        "print(outputs.shape)"
      ],
      "metadata": {
        "colab": {
          "base_uri": "https://localhost:8080/"
        },
        "id": "kXbDcqIqz1wT",
        "outputId": "8aed52ed-d915-4116-95ba-4f31adae6a34"
      },
      "execution_count": 17,
      "outputs": [
        {
          "output_type": "stream",
          "name": "stdout",
          "text": [
            "torch.Size([188, 10, 26])\n"
          ]
        }
      ]
    },
    {
      "cell_type": "code",
      "source": [
        "##15. Training 시작\n",
        "\n",
        "for i in range(100):\n",
        "    optimizer.zero_grad()\n",
        "    outputs = net(X)\n",
        "    ##문제(7) : outputs, Y 형태 그대로 넣으면 안되죠. view 함수를 이용해 loss값을 계산해봅시다.\n",
        "    loss = criterion(outputs.view(-1, vocab_size), Y.view(-1))\n",
        "    loss.backward()\n",
        "    optimizer.step()\n",
        "\n",
        "    #16. 예측결과 확인\n",
        "    results = outputs.argmax(dim=2)\n",
        "    predict_str = \"\"\n",
        "    for j, result in enumerate(results):\n",
        "        if j == 0: # 처음에는 예측 결과를 전부 가져오기\n",
        "            predict_str += ''.join([world_set[t] for t in result])\n",
        "        else: # 그 다음에는 마지막 글자만 반복 추가\n",
        "            predict_str += world_set[result[-1]]\n",
        "\n",
        "    print(predict_str)"
      ],
      "metadata": {
        "colab": {
          "base_uri": "https://localhost:8080/"
        },
        "id": "x9ntt8Tnz5JE",
        "outputId": "3a2ac905-52c0-4ec3-b61a-4806cbf3d849"
      },
      "execution_count": 18,
      "outputs": [
        {
          "output_type": "stream",
          "name": "stdout",
          "text": [
            "dhdpppdppdddppdppddpdpppddpppdpddpddpdppddppdddpdsdppddpddpdppppddpdpdpppdppdddppdpppppddpdpppdddpdpdddsdpdddppddppddpddpppdddddppppdppppddpdpdpppdppdddppdppddpdpppdddsddddddsdddpddppddpdpppppddpdd\n",
            "aasswaasaawwwwsaswwwswwwwasawss wswaaaaawwawswawawwwawsawasawawswwwassawaasaawwwwsswawawwwswswwwwwwwsswwswwaasswwsaawwwsswswswwwsaasawawswwwassawaasaawwwwsaswwwswswwwawwwawawwwwasasawwswasaswawsaww\n",
            "a              a     a   a    a  aa     a      a   a   a    a   a a   a           a        a  aa   a       a         a  a  a         a   a a   a           a     a  a  aaa     aa     a  a    a   a  \n",
            "a                                                                                                                                                                                                    \n",
            "                                                                                                                                                                                                     \n",
            "                                                                                                                                                                                                     \n",
            "                                                                                                                                                                                                     \n",
            "                                                                                                                                                                                                     \n",
            "                                                                                                                                                                                                     \n",
            "                                                                                                                                                                                                     \n",
            "                                                                                                                                                                                                     \n",
            "                                                                                                                                                                                                     \n",
            "                                                                                                                                                                                                     \n",
            "                                                                                                                                                                                                     \n",
            "                 e e t                               e     e        e                    e t                         e                       e               e e t                                   \n",
            "             e t e e e e t              e e        e e     e    e e e           e      e e e e                       e     e        e    e e e           e t e e e e                            e    \n",
            " e         the e e e e e e        e   e e e        e e   t e    e e e   e     the      e e e e                       e     e        e    e e e   e     the e e e e e            e     e         e    \n",
            " e   w     ahe e e e e e e e      e   e e e      e e e   a e   he e e   a e   ahe     he e e e     t               e e     e        e   he e e   a e   ahe e e e e e     t      e     e         e    \n",
            " e   w e   wre e e e e e e e      e   e e e    a e e e   w e   he e e   w e   wre     he e e e     t                 e     er   e   e   he e e   w e   wre e e e e e     a    e e     e        her   \n",
            " e   wre   wre t e e e e e e      e   t e e    are e er  w en  he e e   wat   wre    ehe e e e     e       wr        e     en  re   en  he e e   wat   wre t e e e e   r ah   e e     wr       hen   \n",
            " er  watl  wre t e e e e t e      e   t e e    are e er  when  he e e   watl  wre    ehe e e e     eh      wr        e h   en  re   en  he e e   watl  wre t e e e e  eaaah  aeae     wr t     hen   \n",
            " er  wasl  wre t ere a e a e     re l t e e    wre e en  when  he a e l wasl  wre t  the e e e   r eh  a   wr        e r  hen  re   en  he a e l wasl  wre t ere a e heaaah  aeae l   wa t    then   \n",
            " erl wasll wre t ere a e ahe  t   e l t e e    wre e en  when  he a enl wasll wre t  the e a e   a wh  a   wa        e r  hen  re  hen  he a enl wasll wre t ere a e h aaah  aeae l l wa t  l then   \n",
            " enl wasll wre t ere a e ahe  s   e l t e e    wre e en  when  he a enl wasll wre t  the e a e   a wh  a h wa  th    ear  hen  ae then  he a enl wasll wre t ere a e h aaah  aaaa l l wa t ll then   \n",
            " enl wasll whe t e e a e ahe  s   e l t e e    whe e en  when  he a enl wasll whe t  the e a e e a wh  a h wa  th    ear  hen  ae then  he a enl wasll whe t e e a e h aaah  aaaa l l wa t ll then   \n",
            " enk wasll whe t e e a e aht  s   e l t e e    whe a en  when  he a enl wasll whe t  the e w e e a wh  a h wa  th h  e r then  al then  he a enl wasll whe t e e a e h aawh  aaaa l l wa t ll then   \n",
            " enk wasll ahe t e e a e ahth s   e l t e ea   ahe a en  when the aaenl wasll ahe t  the e whe e a wh  a h wa  th    e r then wal then the aaenl wasll ahe t e e ahe h aawh  a aaal l wa tall then   \n",
            " enk wasls ahe the e aoe ahth s   t l t e ea   ah  ahen  when the aaenk wasls ahe t  the e whe e a wh  a h wa  ta   re n then wal then the aaenk wasls ahe the e ahe h a w   a aaal l wa tall then   \n",
            " enk walls ahe the e toe asth s   t k t e ea   th  then  when the taenk walls ahe t  the e the e a wh  a h wa  ta   re n then wal then the taenk walls ahe the e the h a w   a  aal l wa tall then   \n",
            " enk walls ahe the e toe tsth s   trk t a ta   th  then  when the taenk walls ahe t  the e th  e r ws  a h wa  ta   rean then wal then the taenk walls ahe the e the h a ws  a  wal l wa tall then s \n",
            " enk walls wre thene toe tst  s r tnk t a tas  th  then  when the taenk walls wre t  the e th  e r ws  a h wa  ta   re n then wal then the taenk walls wre thene th  h a ws  a  bal l wa tall then s \n",
            " enk walls wre thene toe tst  s r tnd t a tas  the then  when the taenk walls wre t  the e th  e r ws  a h wa  ta   re n then wal then the taenk walls wre thene th  h a ws ta  bas l wa tall then s \n",
            " enk walls wre the e toe tst  s r tnd t a tas  the thenk when the taenk walls wre t  the e th  e r ws  a h wa  ta   re n then wal then the taenk walls wre the e th  her ws ta  bas l wa tall thenks \n",
            " enk walls wre there toe aste s r tnd t a tas  the thenk when the taeck walls wre t  the e th  e r ws  a h wa  ta  ere n then wal then the taeck walls wre there th  hew ws ta  basll wa tal  thenks \n",
            " enk walls wre there tor a te s r tnk t a bas  the thenk when the taeck walls wre t  the e th te r ws  a h wa  ta  ere n then wal then the taeck walls wre there th th w ws taw basll wa tal  thenks \n",
            " enk walls are there tor a te s r tnk t a bas  the thenk when the toeck walls are t  the e th te r ws  a h wa  ta  ere n then wal then the toeck walls are there th th w ws taw basll wa tal  thenks \n",
            " enk walls are there tor a te s r ank yoa bas  the thenk when the toeck walls are t  the e th te r ws  a h was tat ere n then wal then the toeck walls are there th thew ws raw basll wa tal  thenkst\n",
            " enk walls are there tor a te s r tnd yoa bas  the thenk when the toeck walls are t  the e th te r ws  a h wal tat ere n then wal then the toeck walls are there th thew bs rew balll wa tal  thenkst\n",
            " enk walls are there tor a tews r bnd yoa bas  toe thenk when the toick walls are tt the e th se r us  a h wal tet ere n then wal thes the toick walls are there th shew bs oew bally wa tals thenkst\n",
            " eck walls are there tor a tews r tnd yoa bas  woe thenk when the toick walls are tt the e th se r us oa h wal ret ere n then wal thes the toick walls are there th shew bs oew bally wa tals thenksl\n",
            " eck walls are there tor a te s r tnd yoa bas  woe thenk when the toick walls are tt there th se r us oa h wal ret ere n then wal thet the toick walls are there th shew bs oew bally wa talt thenksl\n",
            " eck walls are there tor a te t n tnd yoa bus  wo  thenk when the toick walls are tt there th te r us oa h wal ret ere n then wal thet the toick walls are there th thew bs rew bally wa talt thenksl\n",
            "reck walls are there tor a te t n tnd yoa bus  to  thenk when the boick walls are tt there th te r us oa h was ret ere n thes wal thet the boick walls are there th thew bs rew bally wa talt thenksl\n",
            "reck walls are there tor a te t n and yoa bus  to  thenk whet the boick walls are tt there th te r us oa h was rethere n thes wal thet the boick walls are there th thew us rew bally wa talt thenksl\n",
            "reck walls are there tor u te t n bnd yoa bus  tot thenk whet the boick walls are tt there th se r us oa h was rethere n thes wal thet the boick walls are there th shew us raw bally wa talt thenksl\n",
            "reck walls are there tor u be t n bnd yoa bus  wot thenk whet the boick walls are tt there th se r us ou h bas rethere n thes wal thet the boick walls are there th shew us raw bayly wa talt thenksl\n",
            "reck walls are there tor u be t n bnd yoa bust wot thenk thet the brick walls are tt there th se r us ou h bas rathere n thes wal thet the brick walls are there th shew us raw bayly wa tant thenksl\n",
            "reck walls are there tor u te t n bnd yoa bust wot thenk thet the brick walls are tt there th se r us ou h bas rathere n thes wal thet the brick walls are there th shew us raw batly wa talt thenksl\n",
            "reck walls are there tor u te t n bnd yoa bust wot thenk thet the brick walls are tt there th se r us ou h bas ratheretn this wal thet the brick walls are there th shew us raw batly wa walt thenksu\n",
            "reck walls are there tor u te t n bnd yoa bust wot thenk thet the brick walls are tt there th se r us ou h bas ratheretn this wal thet the brick walls are there to shew us raw batly wa walt thenksu\n",
            "rick walls are there tor u teat n and yoa bust wot thenk thet the brick walls are tt there to se p us ou h bas ratherein this wal thet the brick walls are there to shew us raw batly wa walt thenksu\n",
            "rick walls are there tor u beaton and yoa bust wot thenk thet the brick walls are 't there to se p us ou h bas ratherein this wal thet the brick walls are there to shew us raw batly wa walt thenksu\n",
            "rick walls are there tor u weason and yoa bust wot thenk thet the brick walls are 't there to se p us ou , bas ratherein this wan thet the brick walls are there to shew us raw batly wa walt thenksu\n",
            "rick walls are there tor a beason and yow bust wot thenk thet the brick walls are 't there to se p us out, bas ratherein this way thet the brick walls are there to shew us raw batly wa want thenksu\n",
            "rick walls are there tor a beason and yow bust wot thenk thet the brick walls are 't there to se p us out, bas ratherein this way thet the brick walls are there to shew us haw batly wa want thenksu\n",
            "rick walls are there tor a weason and you bust wot thenk thet the brick walls are 't there to se p us out, bas ratherein this way thet the brick walls are there to shew us how batly wa want thenksu\n",
            "rick walls are there tor a reason and you bust wot thenk thet the brick walls are 't there to se p us out, bat ratherein this way thet the brick walls are there to shew us how batly wa want thenksu\n",
            "rick walls are there tor a reason and you must wot thenk thit the brick walls are 't there to se p us out, but ratherein this way thet the brick walls are there to shew us how batly wa want thenksu\n",
            "rick walls are there tor a reason and you must wot thenk thit the brick walls are 't there to se p us out, but ratherein this way thet the brick walls are there to shew us how batly wa want thenksu\n",
            "rick walls are there tor a reason and you must wot thenk thit the brick walls are 't there to se p us out, but ratherein this way thet the brick walls are there to show us how batly wa want thenksu\n",
            "rick walls are there tor a reason and you must wot thenk thit the brick walls are 't there to se p us out, but ratherein this way thet the brick walls are there to show us how batly wa want thenksu\n",
            "rick walls are there tor a reason and you must not thenk thit the brick walls are 't there to se p us out, but ratherein this way thet the brick walls are there to show us how badly wa want thenksn\n",
            "rick walls are there tor a reason and you must not think thit the brick walls are 't there to se p us out, but ratherein this way that the brick walls are there to show us how badly wa want thenksn\n",
            "rick walls are there tor a reason and you must not think thit the brick walls are 't there to se p us out, but ratherein this way that the brick walls are there to show us how badly wa want thenksn\n",
            "rick walls are there tor a reason and you must not think thit the brick walls are 't there to se p us out, but ratherein this way that the brick walls are there to show us how badly wa want thenksn\n",
            "rick walls are there tor a reason and you must not think that the brick walls are 't there to se p us out, but ratherein this way that the brick walls are there to show us how badly wa want thenksn\n",
            "rick walls are there tor a reason and you must not think that the brick walls are 't there to se p us out, but rather in this way that the brick walls are there to show us how badly wa want thenksn\n",
            "rick walls are there tor a reason and you must not think that the brick walls are 't there to seep us out, but rather in this way that the brick walls are there to show us how badly wa want thenksn\n",
            "rick walls are there tor a reason and you must not think that the brick walls are 't there to seep us out, but rather in this way that the brick walls are there to show us how badly wa want thenksn\n",
            "rick walls are there tor a reason and you must not think that the brick walls are 't there to seep us out, but rather in this way that the brick walls are there to show us how badly wa want thenksn\n",
            "rick walls are there tor a reason and you must not think that the brick walls are 't there to seep us out, but rather in this way that the brick walls are there to show us how badly wa want thinksn\n",
            "rick walls are there tor a reason and you must not think that the brick walls are 't there to seep us out, but rather in this way that the brick walls are there to show us how badly wa want thinksn\n",
            "rick walls are there tor a reason and you must not think that the brick walls are 't there to seep us out, but rather in this way that the brick walls are there to show us how badly we want thinksl\n",
            "rick walls are there tor a reason and you must not think that the brick walls are 't there to seep us out, but rather in this way that the brick walls are there to show us how badly we want thinks,\n",
            "rick walls are there tor a reason and you must not think that the brick walls are 't there to seep us out, but rather in this way that the brick walls are there to show us how badly we want thinksu\n",
            "rick walls are there tor a reason and you must not think that the brick walls are 't there to keep us out, but rather in this way that the brick walls are there to khow us how badly we want thinksu\n",
            "rick walls are there tor a reason and you must not think that the brick walls are 't there to keep us out, but rather in this way that the brick walls are there to khow us how badly we want thinksu\n",
            "rick walls are there tor a reason and you must not think that the brick walls are 't there to keep us out, but rather in this way that the brick walls are there to khow us how badly we want thinksu\n",
            "rick walls are there tor a reason and you must not think that the brick walls are 't there to seep us out, but rather in this way that the brick walls are there to show us how badly we want thinksu\n",
            "rick walls are there tor a reason and you must not think that the brick walls are 't there to seep us out, but rather in this way that the brick walls are there to show us how badly we want thinksu\n",
            "rick walls are there tor a reason and you must not think that the brick walls are 't there to seep us out, but rather in this way that the brick walls are there to show us how badly we want thinksu\n",
            "rick walls are there tor a reason and you must not think that the brick walls are 't there to seep us out, but rather in this way that the brick walls are there to show us how badly we want thinksu\n",
            "rick walls are there tor a reason and you must not think that the brick walls are 't there to seep us out, but rather in this way that the brick walls are there to show us how badly we want thinksu\n",
            "rick walls are there tor a reason and you must not think that the brick walls are 't there to seep us out, but rather in this way that the brick walls are there to show us how badly we want thinksu\n",
            "rick walls are there tor a reason and you must not think that the brick walls are 't there to seep us out, but rather in this way that the brick walls are there to show us how badly we want thinksu\n",
            "rick walls are there tor a reason and you must not think that the brick walls are 't there to seep us out, but rather in this way that the brick walls are there to show us how badly we want thinksu\n",
            "rick walls are there tor a reason and you must not think that the brick walls are 't there to seep us out, but rather in this way that the brick walls are there to show us how badly we want thingsu\n",
            "rick walls are there tor a reason and you must not think that the brick walls are 't there to keep us out, but rather in this way that the brick walls are there to khow us how badly we want thingsu\n",
            "rick walls are there tor a reason and you must not think that the brick walls are 't there to keep us out, but rather in this way that the brick walls are there to khow us how badly we want thingsu\n",
            "rick walls are there tor a reason and you must not think that the brick walls are 't there to keep us out, but rather in this way that the brick walls are there to khow us how badly we want thingsu\n",
            "rick walls are there tor a reason and you must not think that the brick walls are 't there to seep us out, but rather in this way that the brick walls are there to show us how badly we want thingsu\n",
            "rick walls are there tor a reason and you must not think that the brick walls are 't there to seep us out, but rather in this way that the brick walls are there to show us how badly we want thingsu\n",
            "rick walls are there tor a reason and you must not think that the brick walls are 't there to seep us out, but rather in this way that the brick walls are there to show us how badly we want thingsu\n",
            "rick walls are there tor a reason and you must not think that the brick walls are 't there to seep us out, but rather in this way that the brick walls are there to show us how badly we want thingsu\n",
            "rick walls are there tor a reason and you must not think that the brick walls are 't there to seep us out, but rather in this way that the brick walls are there to show us how badly we want thingsu\n",
            "rick walls are there tor a reason and you must not think that the brick walls are 't there to seep us out, but rather in this way that the brick walls are there to show us how badly we want thingsu\n",
            "rick walls are there tor a reason and you must not think that the brick walls are 't there to seep us out, but rather in this way that the brick walls are there to show us how badly we want thingsu\n",
            "rick walls are there tor a reason and you must not think that the brick walls are 't there to seep us out, but rather in this way that the brick walls are there to show us how badly we want thingsu\n",
            "rick walls are there tor a reason and you must not think that the brick walls are 't there to seep us out, but rather in this way that the brick walls are there to show us how badly we want thingsu\n",
            "rick walls are there tor a reason and you must not think that the brick walls are 't there to seep us out, but rather in this way that the brick walls are there to show us how badly we want thingsu\n"
          ]
        }
      ]
    },
    {
      "cell_type": "code",
      "source": [
        "predict_str # 끝에가 좀 걸림...."
      ],
      "metadata": {
        "colab": {
          "base_uri": "https://localhost:8080/",
          "height": 54
        },
        "id": "VlKhaNru0NhY",
        "outputId": "e343e4eb-0062-4dd7-9e65-313012acef44"
      },
      "execution_count": 19,
      "outputs": [
        {
          "output_type": "execute_result",
          "data": {
            "text/plain": [
              "\"rick walls are there tor a reason and you must not think that the brick walls are 't there to seep us out, but rather in this way that the brick walls are there to show us how badly we want thingsu\""
            ],
            "application/vnd.google.colaboratory.intrinsic+json": {
              "type": "string"
            }
          },
          "metadata": {},
          "execution_count": 19
        }
      ]
    },
    {
      "cell_type": "code",
      "source": [],
      "metadata": {
        "id": "8c_Bygee0Thc"
      },
      "execution_count": 19,
      "outputs": []
    },
    {
      "cell_type": "code",
      "source": [],
      "metadata": {
        "id": "Ea3Y5k-G22Zm"
      },
      "execution_count": 19,
      "outputs": []
    },
    {
      "cell_type": "code",
      "source": [
        "sentence = (\"Give me a cigarette\"\n",
        "            \"The weather is perfect for dying. \"\n",
        "            \"Jaseong, save me. I don't want to die.\")"
      ],
      "metadata": {
        "id": "vpxe0BO-22bk"
      },
      "execution_count": 28,
      "outputs": []
    },
    {
      "cell_type": "code",
      "source": [
        "world_set = list(set(sentence))"
      ],
      "metadata": {
        "id": "ULXF3XnJ3RmY"
      },
      "execution_count": 29,
      "outputs": []
    },
    {
      "cell_type": "code",
      "source": [
        "vocab = {char: idx for idx, char in enumerate(world_set)}"
      ],
      "metadata": {
        "id": "zdUcAZFY3UXy"
      },
      "execution_count": 30,
      "outputs": []
    },
    {
      "cell_type": "code",
      "source": [
        "print(vocab)"
      ],
      "metadata": {
        "colab": {
          "base_uri": "https://localhost:8080/"
        },
        "id": "4-9ujhq93Vfr",
        "outputId": "28692bc4-5688-4af7-c3ec-a9142200cdb6"
      },
      "execution_count": 31,
      "outputs": [
        {
          "output_type": "stream",
          "name": "stdout",
          "text": [
            "{'c': 0, 't': 1, 'I': 2, 'G': 3, 's': 4, 'i': 5, 'g': 6, 'o': 7, 'd': 8, 'f': 9, '.': 10, 'm': 11, 'e': 12, 'v': 13, ',': 14, 'a': 15, 'h': 16, 'y': 17, 'n': 18, ' ': 19, 'w': 20, 'T': 21, 'J': 22, 'p': 23, 'r': 24, \"'\": 25}\n"
          ]
        }
      ]
    },
    {
      "cell_type": "code",
      "source": [
        "len(vocab)"
      ],
      "metadata": {
        "colab": {
          "base_uri": "https://localhost:8080/"
        },
        "id": "GLzWzysR3WwR",
        "outputId": "6366d72e-d527-4af0-8068-5a3b7669fcd1"
      },
      "execution_count": 32,
      "outputs": [
        {
          "output_type": "execute_result",
          "data": {
            "text/plain": [
              "26"
            ]
          },
          "metadata": {},
          "execution_count": 32
        }
      ]
    },
    {
      "cell_type": "code",
      "source": [
        "hidden_size = vocab_size\n",
        "sequence_length = 15\n",
        "learning_rate = 0.01\n",
        "\n",
        "\n",
        "#5. seqence 길이 단위 자르기\n",
        "# 데이터 구성을 위한 리스트\n",
        "x_data = []\n",
        "y_data = []\n",
        "\n",
        "for i in range(0, len(sentence) - sequence_length):\n",
        "  x_str = sentence[i : i + sequence_length]\n",
        "  y_str = sentence[i+1 : i+1 + sequence_length]\n",
        "  print(i, x_str, \"->\", y_str)\n",
        "  x_data.append([vocab[c] for c in x_str])\n",
        "  y_data.append([vocab[d] for d in y_str])\n",
        "print(x_data[0])\n",
        "print(y_data[0])"
      ],
      "metadata": {
        "colab": {
          "base_uri": "https://localhost:8080/"
        },
        "id": "FHkH-rR7BO_k",
        "outputId": "23ee1210-8278-4329-866c-9cd191a21ca6"
      },
      "execution_count": 33,
      "outputs": [
        {
          "output_type": "stream",
          "name": "stdout",
          "text": [
            "0 Give me a cigar -> ive me a cigare\n",
            "1 ive me a cigare -> ve me a cigaret\n",
            "2 ve me a cigaret -> e me a cigarett\n",
            "3 e me a cigarett ->  me a cigarette\n",
            "4  me a cigarette -> me a cigaretteT\n",
            "5 me a cigaretteT -> e a cigaretteTh\n",
            "6 e a cigaretteTh ->  a cigaretteThe\n",
            "7  a cigaretteThe -> a cigaretteThe \n",
            "8 a cigaretteThe  ->  cigaretteThe w\n",
            "9  cigaretteThe w -> cigaretteThe we\n",
            "10 cigaretteThe we -> igaretteThe wea\n",
            "11 igaretteThe wea -> garetteThe weat\n",
            "12 garetteThe weat -> aretteThe weath\n",
            "13 aretteThe weath -> retteThe weathe\n",
            "14 retteThe weathe -> etteThe weather\n",
            "15 etteThe weather -> tteThe weather \n",
            "16 tteThe weather  -> teThe weather i\n",
            "17 teThe weather i -> eThe weather is\n",
            "18 eThe weather is -> The weather is \n",
            "19 The weather is  -> he weather is p\n",
            "20 he weather is p -> e weather is pe\n",
            "21 e weather is pe ->  weather is per\n",
            "22  weather is per -> weather is perf\n",
            "23 weather is perf -> eather is perfe\n",
            "24 eather is perfe -> ather is perfec\n",
            "25 ather is perfec -> ther is perfect\n",
            "26 ther is perfect -> her is perfect \n",
            "27 her is perfect  -> er is perfect f\n",
            "28 er is perfect f -> r is perfect fo\n",
            "29 r is perfect fo ->  is perfect for\n",
            "30  is perfect for -> is perfect for \n",
            "31 is perfect for  -> s perfect for d\n",
            "32 s perfect for d ->  perfect for dy\n",
            "33  perfect for dy -> perfect for dyi\n",
            "34 perfect for dyi -> erfect for dyin\n",
            "35 erfect for dyin -> rfect for dying\n",
            "36 rfect for dying -> fect for dying.\n",
            "37 fect for dying. -> ect for dying. \n",
            "38 ect for dying.  -> ct for dying. J\n",
            "39 ct for dying. J -> t for dying. Ja\n",
            "40 t for dying. Ja ->  for dying. Jas\n",
            "41  for dying. Jas -> for dying. Jase\n",
            "42 for dying. Jase -> or dying. Jaseo\n",
            "43 or dying. Jaseo -> r dying. Jaseon\n",
            "44 r dying. Jaseon ->  dying. Jaseong\n",
            "45  dying. Jaseong -> dying. Jaseong,\n",
            "46 dying. Jaseong, -> ying. Jaseong, \n",
            "47 ying. Jaseong,  -> ing. Jaseong, s\n",
            "48 ing. Jaseong, s -> ng. Jaseong, sa\n",
            "49 ng. Jaseong, sa -> g. Jaseong, sav\n",
            "50 g. Jaseong, sav -> . Jaseong, save\n",
            "51 . Jaseong, save ->  Jaseong, save \n",
            "52  Jaseong, save  -> Jaseong, save m\n",
            "53 Jaseong, save m -> aseong, save me\n",
            "54 aseong, save me -> seong, save me.\n",
            "55 seong, save me. -> eong, save me. \n",
            "56 eong, save me.  -> ong, save me. I\n",
            "57 ong, save me. I -> ng, save me. I \n",
            "58 ng, save me. I  -> g, save me. I d\n",
            "59 g, save me. I d -> , save me. I do\n",
            "60 , save me. I do ->  save me. I don\n",
            "61  save me. I don -> save me. I don'\n",
            "62 save me. I don' -> ave me. I don't\n",
            "63 ave me. I don't -> ve me. I don't \n",
            "64 ve me. I don't  -> e me. I don't w\n",
            "65 e me. I don't w ->  me. I don't wa\n",
            "66  me. I don't wa -> me. I don't wan\n",
            "67 me. I don't wan -> e. I don't want\n",
            "68 e. I don't want -> . I don't want \n",
            "69 . I don't want  ->  I don't want t\n",
            "70  I don't want t -> I don't want to\n",
            "71 I don't want to ->  don't want to \n",
            "72  don't want to  -> don't want to d\n",
            "73 don't want to d -> on't want to di\n",
            "74 on't want to di -> n't want to die\n",
            "75 n't want to die -> 't want to die.\n",
            "[3, 5, 13, 12, 19, 11, 12, 19, 15, 19, 0, 5, 6, 15, 24]\n",
            "[5, 13, 12, 19, 11, 12, 19, 15, 19, 0, 5, 6, 15, 24, 12]\n"
          ]
        }
      ]
    },
    {
      "cell_type": "code",
      "source": [
        "##6. 입력 시퀀스에 대해 원핫인코딩 수행\n",
        "x_one_hot = [np.eye(vocab_size)[x] for x in x_data]\n",
        "\n",
        "##7. 입력 데이터, 레이블데이터 텐서로 변환\n",
        "x_one_hot = np.array(x_one_hot)\n",
        "X = torch.FloatTensor(x_one_hot)\n",
        "Y = torch.LongTensor(y_data)\n",
        "\n",
        "##8. 크기 확인\n",
        "print('훈련 데이터의 크기 : {}'.format(X.shape))\n",
        "print('레이블의 크기 : {}'.format(Y.shape))"
      ],
      "metadata": {
        "colab": {
          "base_uri": "https://localhost:8080/"
        },
        "id": "atm5EG3nBTxh",
        "outputId": "4df815c3-0bc0-4730-ef85-8fa4dcca5ccb"
      },
      "execution_count": 34,
      "outputs": [
        {
          "output_type": "stream",
          "name": "stdout",
          "text": [
            "훈련 데이터의 크기 : torch.Size([76, 15, 26])\n",
            "레이블의 크기 : torch.Size([76, 15])\n"
          ]
        }
      ]
    },
    {
      "cell_type": "code",
      "source": [
        "class Net(torch.nn.Module):\n",
        "  def __init__(self, input_dim, hidden_dim, layers):\n",
        "    super(Net, self).__init__()\n",
        "    self.rnn = torch.nn.RNN(input_size=input_dim, hidden_size=hidden_dim, num_layers=layers, batch_first=True)\n",
        "    self.fc = torch.nn.Linear(in_features=hidden_dim, out_features=vocab_size)\n",
        "\n",
        "  def forward(self, x):\n",
        "    x, _ = self.rnn(x)\n",
        "    x = self.fc(x)\n",
        "    return x"
      ],
      "metadata": {
        "id": "TvtqQ0XTBX-K"
      },
      "execution_count": 42,
      "outputs": []
    },
    {
      "cell_type": "code",
      "source": [
        "net = Net(vocab_size, hidden_size, 2)\n",
        "criterion = torch.nn.CrossEntropyLoss()\n",
        "optimizer = optim.Adam(net.parameters(), learning_rate)"
      ],
      "metadata": {
        "id": "VEwgacFVBdID"
      },
      "execution_count": 43,
      "outputs": []
    },
    {
      "cell_type": "code",
      "source": [
        "##14. 출력 크기 점검\n",
        "outputs = net(X)\n",
        "print(outputs.shape)"
      ],
      "metadata": {
        "colab": {
          "base_uri": "https://localhost:8080/"
        },
        "id": "q0JmNn69Bnyx",
        "outputId": "bbd0e131-f4be-40d5-fc8e-679dd5fa51ab"
      },
      "execution_count": 44,
      "outputs": [
        {
          "output_type": "stream",
          "name": "stdout",
          "text": [
            "torch.Size([76, 15, 26])\n"
          ]
        }
      ]
    },
    {
      "cell_type": "code",
      "source": [
        "for i in range(100):\n",
        "    optimizer.zero_grad()\n",
        "    outputs = net(X)\n",
        "\n",
        "    loss = criterion(outputs.view(-1, vocab_size), Y.view(-1))\n",
        "    loss.backward()\n",
        "    optimizer.step()\n",
        "\n",
        "    #16. 예측결과 확인\n",
        "    results = outputs.argmax(dim=2)\n",
        "    predict_str = \"\"\n",
        "    for j, result in enumerate(results):\n",
        "        if j == 0: # 처음에는 예측 결과를 전부 가져오기\n",
        "            predict_str += ''.join([world_set[t] for t in result])\n",
        "        else: # 그 다음에는 마지막 글자만 반복 추가\n",
        "            predict_str += world_set[result[-1]]\n",
        "\n",
        "    print(predict_str)"
      ],
      "metadata": {
        "colab": {
          "base_uri": "https://localhost:8080/"
        },
        "id": "nveNDXfvBp5l",
        "outputId": "94d39bce-ea01-45a5-effd-13f5e6c24d58"
      },
      "execution_count": 45,
      "outputs": [
        {
          "output_type": "stream",
          "name": "stdout",
          "text": [
            "occoocooocoooooooccooooooocIoocoooooooooocooooooooooicIoooooooooooocoocccoooiocoooocoococo\n",
            "ooeooeooeoo oeoooeooerooooeeooeoooeooeooooeooooooeeeeeooooooeoooeooeooeoooooooeoooeoeooo o\n",
            "oee  e                 e   e         e    e   e                    e           e          \n",
            "eee  e                                                                                    \n",
            "e    e                                                             e                      \n",
            "e    e                                                             e                      \n",
            "e    e                                                             e                      \n",
            "e                                                                                         \n",
            "e                                                                                         \n",
            "e    e                 e                                           e                      \n",
            "e e  e  e          te  etteet e   e  e   se   e      e       sete te   ete     et     te  \n",
            "e e  ertea    e  erte tetteet es  ertet ese   e te   ete     sete te  eeteet  eet  se te  \n",
            "e e tertea    e terte terteet esetertertesa  eeate  sete te  sete terteeteet  eat  seete t\n",
            "e erterteat   erterte terteet esetertertesa  eeaten eate te  sete terteeteet  ear eserte t\n",
            "e erterteae   erterte terteet eaetertertese  eoaten eate ten sete terteete t  eer  serte t\n",
            "e erterteae n erterte terteet esetertertesor eoaten sate nen sete ter eate t  war  ferte t\n",
            "e erterteae n ertente terteer esatertet eior woanen sate n n sete ter eare t  war  ferte t\n",
            "e erterteae n e tente tenteer esaterten  ior woan n sane n n sene ter eare tt war  wente  \n",
            "e erterteae nte tente tenteer  saterten  ior woan n sane n n sene ter eave tt war  wente  \n",
            "e erterteae nte tente tenteer  saserten  Gor woen n sane n n sane ten eave tt war  weote  \n",
            "e erterteae nte tente tenteer  seserten  Gor doen n sane n n sane ter eave tt war  weote  \n",
            "e ertertece ate tente tenteer  sesertent Gor doen n sane t n save ter eave tt wart weate a\n",
            "e ertertece ate tente tenteer  sesertent sor doin n save t n save ter eade tt wart weate a\n",
            "esertertece ate tente tenteer gsesertest sor dyin . save n , save mer eade tt wart wen'eea\n",
            "esertertece are teste wenteer gsesertest sor dyis . save n , save mer eade tt wart wan'eea\n",
            "ese ter ese are teste wert er gsesertest sor dyis . save n , save mer gadontt wart wan'eea\n",
            "ese ter ece are tecte wert er gsesertect sor dying. save n , save mer eadonrt wart  an'eea\n",
            "ese ter ecegare tecte wert er gsesertect sor dying. save n , save mer eadonrt wart  a 'eea\n",
            "ese ter edogare teTte weat er is sertect sor dying. sase n , save mer eadonrt wart  o deea\n",
            "ese ter edogaretteTte weat er is sertect sor dying. sase n , save me. e don't wart go dega\n",
            "ese te. edogaretteTte weat er is sertect wor dying. sase n , save me. e don't wart go dega\n",
            "ese te. edogarettecte weat er is perfect wor dying. Jase ng, save me. w don't wart go dega\n",
            "epe me.  dogarettecte weat er is perfect for dying. Jase ng, save me. w don't wart go dega\n",
            "epe me. edogarettecte weat er is perfect for dying. Jase ng, save me. w don't want go dega\n",
            "epe me. edogarerteTte weat er is perfect for dying. Jaseong, save me. w don't want go doga\n",
            "eve me. edogarerteThe weat er is perfect for dying. Jaseong, save me. w don't want go dega\n",
            "eve me. edegarerteche weat er is perfect for dying. Jaseong, save me. w don't want go dega\n",
            "eve me. edegaretteche weat er is perfect for dying. Jaseong, save me. w don't want go dega\n",
            "eve me. edegaretteThe weather is perfect for dying. Jaseong, save me. w don't want  o diea\n",
            "eve me.  dhgaretteThe weather is perfect for dying. Jaseong, save me. w don't want  o diea\n",
            "epe me t dhgaretteThe weather is perfect for dying. Jaseong, save me. I don't want  o diea\n",
            "epe me t digaretteThe weather is perfect for dying. Jaseong, save me. I don't want go diea\n",
            "epe me t digaretteThe weather is perfect for dying. Jaseong, save me. I don't want to diea\n",
            "epe me a digaretteThe weather is perfect for dying. Jaseong, save me. I don't want to diea\n",
            "epe me a cigaretteThe weather is perfect for dying. Jaseong, save me. I don't want to diea\n",
            "eve me a cigaretteThe weather is perfect for dying. Jaseong, save me. I don't want to diea\n",
            "ive me a cigaretteThe weather is perfect for dying. Jaseong, save me. I don't want to diea\n",
            "ive me a cigaretteThe weather is perfect for dying. Jaseong, save me. I don't want to diea\n",
            "ive me a cigaretteThe weather is perfect for dying. Jaseong, save me. I don't want to diea\n",
            "ive me a cigaretteThe weather is perfect for dying. Jaseong, save me. I don't want to diea\n",
            "ive me a cigaretteThe weather is perfect for dying. Jaseong, save me. I don't want to diea\n",
            "ive me a cigaretteThe weather is perfect for dying. Jaseong, save me. I don't want to diea\n",
            "ive me a cigaretteThe weather is perfect for dying. Jaseong, save me. I don't want to diea\n",
            "ive me a cigaretteThe weather is perfect for dying. Jaseong, save me. I don't want to die.\n",
            "ive me a cigaretteThe weather is perfect for dying. Jaseong, save me. I don't want to die.\n",
            "ive me a cigaretteThe weather is perfect for dying. Jaseong, save me. I don't want to die.\n",
            "ive me a cigaretteThe weather is perfect for dying. Jaseong, save me. I don't want to die.\n",
            "ive me a cigaretteThe weather is perfect for dying. Jaseong, save me. I don't want to die.\n",
            "ive me a cigaretteThe weather is perfect for dying. Jaseong, save me. I don't want to die.\n",
            "ive me a cigaretteThe weather is perfect for dying. Jaseong, save me. I don't want to die.\n",
            "ive me a cigaretteThe weather is perfect for dying. Jaseong, save me. I don't want to die.\n",
            "ive me a cigaretteThe weather is perfect for dying. Jaseong, save me. I don't want to die.\n",
            "ive me a cigaretteThe weather is perfect for dying. Jaseong, save me. I don't want to die.\n",
            "ive me a cigaretteThe weather is perfect for dying. Jaseong, save me. I don't want to die.\n",
            "ive me a cigaretteThe weather is perfect for dying. Jaseong, save me. I don't want to die.\n",
            "ive me a cigaretteThe weather is perfect for dying. Jaseong, save me. I don't want to die.\n",
            "ive me a cigaretteThe weather is perfect for dying. Jaseong, save me. I don't want to die.\n",
            "ive me a cigaretteThe weather is perfect for dying. Jaseong, save me. I don't want to die.\n",
            "ive me a cigaretteThe weather is perfect for dying. Jaseong, save me. I don't want to die.\n",
            "ive me a cigaretteThe weather is perfect for dying. Jaseong, save me. I don't want to die.\n",
            "ive me a cigaretteThe weather is perfect for dying. Jaseong, save me. I don't want to die.\n",
            "ive me a cigaretteThe weather is perfect for dying. Jaseong, save me. I don't want to die.\n",
            "ive me a cigaretteThe weather is perfect for dying. Jaseong, save me. I don't want to die.\n",
            "ive me a cigaretteThe weather is perfect for dying. Jaseong, save me. I don't want to die.\n",
            "ive me a cigaretteThe weather is perfect for dying. Jaseong, save me. I don't want to die.\n",
            "ive me a cigaretteThe weather is perfect for dying. Jaseong, save me. I don't want to die.\n",
            "ive me a cigaretteThe weather is perfect for dying. Jaseong, save me. I don't want to die.\n",
            "ive me a cigaretteThe weather is perfect for dying. Jaseong, save me. I don't want to die.\n",
            "ive me a cigaretteThe weather is perfect for dying. Jaseong, save me. I don't want to die.\n",
            "ive me a cigaretteThe weather is perfect for dying. Jaseong, save me. I don't want to die.\n",
            "ive me a cigaretteThe weather is perfect for dying. Jaseong, save me. I don't want to die.\n",
            "ive me a cigaretteThe weather is perfect for dying. Jaseong, save me. I don't want to die.\n",
            "ive me a cigaretteThe weather is perfect for dying. Jaseong, save me. I don't want to die.\n",
            "ive me a cigaretteThe weather is perfect for dying. Jaseong, save me. I don't want to die.\n",
            "ive me a cigaretteThe weather is perfect for dying. Jaseong, save me. I don't want to die.\n",
            "ive me a cigaretteThe weather is perfect for dying. Jaseong, save me. I don't want to die.\n",
            "ive me a cigaretteThe weather is perfect for dying. Jaseong, save me. I don't want to die.\n",
            "ive me a cigaretteThe weather is perfect for dying. Jaseong, save me. I don't want to die.\n",
            "ive me a cigaretteThe weather is perfect for dying. Jaseong, save me. I don't want to die.\n",
            "ive me a cigaretteThe weather is perfect for dying. Jaseong, save me. I don't want to die.\n",
            "ive me a cigaretteThe weather is perfect for dying. Jaseong, save me. I don't want to die.\n",
            "ive me a cigaretteThe weather is perfect for dying. Jaseong, save me. I don't want to die.\n",
            "ive me a cigaretteThe weather is perfect for dying. Jaseong, save me. I don't want to die.\n",
            "ive me a cigaretteThe weather is perfect for dying. Jaseong, save me. I don't want to die.\n",
            "ive me a cigaretteThe weather is perfect for dying. Jaseong, save me. I don't want to die.\n",
            "ive me a cigaretteThe weather is perfect for dying. Jaseong, save me. I don't want to die.\n",
            "ive me a cigaretteThe weather is perfect for dying. Jaseong, save me. I don't want to die.\n",
            "ive me a cigaretteThe weather is perfect for dying. Jaseong, save me. I don't want to die.\n",
            "ive me a cigaretteThe weather is perfect for dying. Jaseong, save me. I don't want to die.\n",
            "ive me a cigaretteThe weather is perfect for dying. Jaseong, save me. I don't want to die.\n"
          ]
        }
      ]
    },
    {
      "cell_type": "code",
      "source": [
        "predict_str"
      ],
      "metadata": {
        "colab": {
          "base_uri": "https://localhost:8080/",
          "height": 35
        },
        "id": "txeObsjyBuoz",
        "outputId": "691644f8-9527-436d-c669-b81944904817"
      },
      "execution_count": 46,
      "outputs": [
        {
          "output_type": "execute_result",
          "data": {
            "text/plain": [
              "\"ive me a cigaretteThe weather is perfect for dying. Jaseong, save me. I don't want to die.\""
            ],
            "application/vnd.google.colaboratory.intrinsic+json": {
              "type": "string"
            }
          },
          "metadata": {},
          "execution_count": 46
        }
      ]
    },
    {
      "cell_type": "code",
      "source": [
        "class Net(torch.nn.Module):\n",
        "    def __init__(self, input_dim, hidden_dim, layers):\n",
        "        super(Net, self).__init__()\n",
        "        self.rnn1 = torch.nn.RNN(input_size=input_dim, hidden_size=hidden_dim, num_layers=layers, batch_first=True)\n",
        "        self.rnn2 = torch.nn.RNN(input_size=hidden_dim, hidden_size=hidden_dim, num_layers=layers, batch_first=True)\n",
        "        self.fc = torch.nn.Linear(hidden_dim, vocab_size)\n",
        "\n",
        "    def forward(self, x):\n",
        "        out, _ = self.rnn1(x)\n",
        "        out, _ = self.rnn2(out)\n",
        "        out = self.fc(out)\n",
        "        return out"
      ],
      "metadata": {
        "id": "9y0gmxTjByK1"
      },
      "execution_count": 47,
      "outputs": []
    },
    {
      "cell_type": "code",
      "source": [
        "net = Net(vocab_size, hidden_size, 2)\n",
        "criterion = torch.nn.CrossEntropyLoss()\n",
        "optimizer = optim.Adam(net.parameters(), learning_rate)"
      ],
      "metadata": {
        "id": "kmYL86BkCA33"
      },
      "execution_count": 51,
      "outputs": []
    },
    {
      "cell_type": "code",
      "source": [
        "for i in range(100):\n",
        "    optimizer.zero_grad()\n",
        "    outputs = net(X)\n",
        "\n",
        "    loss = criterion(outputs.view(-1, vocab_size), Y.view(-1))\n",
        "    loss.backward()\n",
        "    optimizer.step()\n",
        "\n",
        "    #16. 예측결과 확인\n",
        "    results = outputs.argmax(dim=2)\n",
        "    predict_str = \"\"\n",
        "    for j, result in enumerate(results):\n",
        "        if j == 0: # 처음에는 예측 결과를 전부 가져오기\n",
        "            predict_str += ''.join([world_set[t] for t in result])\n",
        "        else: # 그 다음에는 마지막 글자만 반복 추가\n",
        "            predict_str += world_set[result[-1]]\n",
        "\n",
        "    print(predict_str)"
      ],
      "metadata": {
        "colab": {
          "base_uri": "https://localhost:8080/"
        },
        "id": "QxDAlxCOCJ-2",
        "outputId": "c191f4c3-ac51-4803-9ca6-f7dcc06ec9f9"
      },
      "execution_count": 52,
      "outputs": [
        {
          "output_type": "stream",
          "name": "stdout",
          "text": [
            "mmm     m    mm     m            m    m       m             m   m     m          m        \n",
            "                                                                                          \n",
            "                                                                                          \n",
            "                                                                                          \n",
            "  e  e  e e  ee  e  e  e  e   e  ee     ee  e e   e ee e  e  e  e  e  e  e  e e  e ee  e  \n",
            "  e  e  e     e  e  e  e  e   e  ee ee  ee  e e   e ee e  e  e  e  e  e  e  e ee e  e  e  \n",
            "  e  e  e  e  e  e  e  e  e  e   ee ee      e e  ee ee e  e  e  e  e  e  e  e ee e  e  e  \n",
            "  e  e  e  e  e  e  e  e  e  e   ee ee e   ee e  ee ee e  e  e  e  e  e  e  e ee e  e  e  \n",
            "  e  e  e  e  e  e  e  e  e  e    e ee e    e e  ee e  e  e  e  e  e  e  e  e ee e  e  e  \n",
            "  e  e  e     e  e  e  e  e  e e ge e  e e  e e  ee ee e  e  e  e  e  e  e  e ee e  e  e  \n",
            "  e  e  e   e e  e  e  e  e    e ge ee   e  e e   e ee e  e  eene  e  e ne  e ge e te  e  \n",
            "  e te  ee ge e te  e  e  ee   e pe  e   e  e ea ge ge e  ge eene te  eene  e ge e te  e  \n",
            "  e te  ee ge e pe re te  ee e e pe te e eo e ea ge pene  ee eene pe  eene re pe e pe re  \n",
            "  e pe  ee ge e pe re pe  eere e pe gere eo   earge pene  ea pene pe  eawe re pe e pe re r\n",
            "  e pe  ee ge e we re tea eer  e pe tere eo  tearge pere  ge peve pe  eawe re pe e eo re  \n",
            " te pe  ee ge e te re teo eer  e pe tere eo  tearge gere  ge weve we  gawe re pe   eo  e  \n",
            " we we  et ga e te ge teo eer  e pe gere eo  teange gareo ge wave we  gape me per  eo  e  \n",
            " we we tet ga e teoge teo e   ee pe ge e wor teange gareo ge wave we  g penme per  to  e  \n",
            " we wertet g  e teoge teo e   ee pe gert to  teange s reo ge wave wer g penme wer  to  e  \n",
            " we wertet gare geohe teo ger ee pe hert to  teange J reo ge w ve wer g penme wort to ne  \n",
            " we wert tagare geohe teo ger te pe hert wo  teange J reo ge weve wer g won'e wort to  e  \n",
            " de wert tegare teohe tea ger  e pe tert wo  teange J reonge Jeve wer g ven'e wert to  te \n",
            " de wert tegare teohe te. ger  e pe tert wor teange J reonga Jeve wer J ven'e wert to  ge \n",
            " de wert tegare teohe we. ger te pe tert wor weang. J reong. Jeve we. I von'e wert to ngi \n",
            " de we.t tegare teohe we. ger te pe tert wor weang. J reong, J ve we. I von'e wert to ngi \n",
            " de we.t tegare teThe we. ger ie pertert for weang. J deong, J ve we. I don'e wart to ngi \n",
            " de we.t wegare teThe we. gertie pertert for wyang. J deong, Jave we. I don'e wart to ngin\n",
            " de we.t wegare teThe we. gertis perfert for wyang. J deong, save me. I don'e wart to ngin\n",
            " de we t wegare teThe we. hertis perfert for wyang. sadeong, save me. I don'e wart to ngin\n",
            " de we t wegare teThe we. hertis perfert for wyang. saseong, save me. I don't sant to ngin\n",
            "ade we t segare teThe wea hertis perfert for wyang. saseong, save me. I don't sant to ngin\n",
            "ave we.t sagaretteThe wea hertis perfert for wying. saseong, save me. I don't sant to pgin\n",
            "ave we.t sagaretteThe wea hertis perfert for dying. saseong, save me. I don't sant to pgin\n",
            "ave me.t sagaretteThe wea hertis perfert for dying, saseong, save me. I don't sant to ptin\n",
            "ave me.t segaretteThe weather is perfert for dying, saseong, save me. I don't sant to ntin\n",
            "ave me.t fegaretteThe weather is perfert for dying, saseong, save me. I don't want to ntin\n",
            "ave me.i figaretteThe weather is perfert for dying. saseong, save me. I don't want to 'tin\n",
            "ave me i figaretteThe weather is perfert for dying. saseong, save me. I don't want to ntin\n",
            "ave me i figaretteThe weather is perfert for dying. saseong, save me. I don't want to ntin\n",
            "ave me i figaretteThe weather is perfert for dying. Jaseong, save me. I don't want to ntin\n",
            "ave me i sigaretteThe weather is perfert for dying. Jaseong, save me. I don't want to ntin\n",
            "ave me.i sigaretteThe weather is perfect for dying. Jaseong, save me. I don't want to ngin\n",
            "ave me.i sigaretteThe weather is perfect for dying. Jaseong, save me. I don't want to dgin\n",
            "ave me.i sigaretteThe weather is perfect for dying. Jaseong, save me. I don't want to dgin\n",
            "ave me.i sigaretteThe weather is perfect for dying. Jaseong, save me. I don't want to dtin\n",
            "ave me.i cigaretteThe weather is perfect for dying. Jaseong, save me. I don't want to dtin\n",
            "ave me.i cigaretteThe weather is perfect for dying. Jaseong, save me. I don't want to dtin\n",
            "ave me.i cigaretteThe weather is perfect for dying. Jaseong, save me. I don't want to dfin\n",
            "ave me i cigaretteThe weather is perfect for dying. Jaseong, save me. I don't want to dfin\n",
            "ave me i cigaretteThe weather is perfect for dying. Jaseong, save me. I don't want to dfin\n",
            "ive me i cigaretteThe weather is perfect for dying. Jaseong, save me. I don't want to dfin\n",
            "eve me i cigaretteThe weather is perfect for dying. Jaseong, save me. I don't want to diin\n",
            "eve me a cigaretteThe weather is perfect for dying. Jaseong, save me. I don't want to diin\n",
            "ive me a cigaretteThe weather is perfect for dying. Jaseong, save me. I don't want to diin\n",
            "ive me a cigaretteThe weather is perfect for dying. Jaseong, save me. I don't want to diin\n",
            "ive me a cigaretteThe weather is perfect for dying. Jaseong, save me. I don't want to diin\n",
            "ive me a cigaretteThe weather is perfect for dying. Jaseong, save me. I don't want to diin\n",
            "ive me a cigaretteThe weather is perfect for dying. Jaseong, save me. I don't want to diin\n",
            "ive me a cigaretteThe weather is perfect for dying. Jaseong, save me. I don't want to diin\n",
            "ive me a cigaretteThe weather is perfect for dying. Jaseong, save me. I don't want to diin\n",
            "ive me a cigaretteThe weather is perfect for dying. Jaseong, save me. I don't want to dien\n",
            "ive me a cigaretteThe weather is perfect for dying. Jaseong, save me. I don't want to dien\n",
            "ive me a cigaretteThe weather is perfect for dying. Jaseong, save me. I don't want to dien\n",
            "ive me a cigaretteThe weather is perfect for dying. Jaseong, save me. I don't want to dien\n",
            "ive me a cigaretteThe weather is perfect for dying. Jaseong, save me. I don't want to dien\n",
            "ive me a cigaretteThe weather is perfect for dying. Jaseong, save me. I don't want to dien\n",
            "ive me a cigaretteThe weather is perfect for dying. Jaseong, save me. I don't want to dien\n",
            "ive me a cigaretteThe weather is perfect for dying. Jaseong, save me. I don't want to dien\n",
            "ive me a cigaretteThe weather is perfect for dying. Jaseong, save me. I don't want to dien\n",
            "ive me a cigaretteThe weather is perfect for dying. Jaseong, save me. I don't want to dien\n",
            "ive me a cigaretteThe weather is perfect for dying. Jaseong, save me. I don't want to dier\n",
            "ive me a cigaretteThe weather is perfect for dying. Jaseong, save me. I don't want to dier\n",
            "ive me a cigaretteThe weather is perfect for dying. Jaseong, save me. I don't want to dier\n",
            "ive me a cigaretteThe weather is perfect for dying. Jaseong, save me. I don't want to die.\n",
            "ive me a cigaretteThe weather is perfect for dying. Jaseong, save me. I don't want to die.\n",
            "ive me a cigaretteThe weather is perfect for dying. Jaseong, save me. I don't want to die.\n",
            "ive me a cigaretteThe weather is perfect for dying. Jaseong, save me. I don't want to die.\n",
            "ive me a cigaretteThe weather is perfect for dying. Jaseong, save me. I don't want to die.\n",
            "ive me a cigaretteThe weather is perfect for dying. Jaseong, save me. I don't want to die.\n",
            "ive me a cigaretteThe weather is perfect for dying. Jaseong, save me. I don't want to die.\n",
            "ive me a cigaretteThe weather is perfect for dying. Jaseong, save me. I don't want to die.\n",
            "ive me a cigaretteThe weather is perfect for dying. Jaseong, save me. I don't want to die.\n",
            "ive me a cigaretteThe weather is perfect for dying. Jaseong, save me. I don't want to die.\n",
            "ive me a cigaretteThe weather is perfect for dying. Jaseong, save me. I don't want to die.\n",
            "ive me a cigaretteThe weather is perfect for dying. Jaseong, save me. I don't want to die.\n",
            "ive me a cigaretteThe weather is perfect for dying. Jaseong, save me. I don't want to die.\n",
            "ive me a cigaretteThe weather is perfect for dying. Jaseong, save me. I don't want to die.\n",
            "ive me a cigaretteThe weather is perfect for dying. Jaseong, save me. I don't want to die.\n",
            "ive me a cigaretteThe weather is perfect for dying. Jaseong, save me. I don't want to die.\n",
            "ive me a cigaretteThe weather is perfect for dying. Jaseong, save me. I don't want to die.\n",
            "ive me a cigaretteThe weather is perfect for dying. Jaseong, save me. I don't want to die.\n",
            "ive me a cigaretteThe weather is perfect for dying. Jaseong, save me. I don't want to die.\n",
            "ive me a cigaretteThe weather is perfect for dying. Jaseong, save me. I don't want to die.\n",
            "ive me a cigaretteThe weather is perfect for dying. Jaseong, save me. I don't want to die.\n",
            "ive me a cigaretteThe weather is perfect for dying. Jaseong, save me. I don't want to die.\n",
            "ive me a cigaretteThe weather is perfect for dying. Jaseong, save me. I don't want to die.\n",
            "ive me a cigaretteThe weather is perfect for dying. Jaseong, save me. I don't want to die.\n",
            "ive me a cigaretteThe weather is perfect for dying. Jaseong, save me. I don't want to die.\n",
            "ive me a cigaretteThe weather is perfect for dying. Jaseong, save me. I don't want to die.\n",
            "ive me a cigaretteThe weather is perfect for dying. Jaseong, save me. I don't want to die.\n"
          ]
        }
      ]
    },
    {
      "cell_type": "code",
      "source": [
        "predict_str"
      ],
      "metadata": {
        "colab": {
          "base_uri": "https://localhost:8080/",
          "height": 35
        },
        "id": "YnnYCVUcCV1e",
        "outputId": "b0631a2b-a8e1-49f0-9bce-07ceb08e8ae1"
      },
      "execution_count": 53,
      "outputs": [
        {
          "output_type": "execute_result",
          "data": {
            "text/plain": [
              "\"ive me a cigaretteThe weather is perfect for dying. Jaseong, save me. I don't want to die.\""
            ],
            "application/vnd.google.colaboratory.intrinsic+json": {
              "type": "string"
            }
          },
          "metadata": {},
          "execution_count": 53
        }
      ]
    },
    {
      "cell_type": "code",
      "source": [],
      "metadata": {
        "id": "8fUFo1x3CY5U"
      },
      "execution_count": 53,
      "outputs": []
    },
    {
      "cell_type": "code",
      "source": [],
      "metadata": {
        "id": "z6f-gIWTDH6O"
      },
      "execution_count": 53,
      "outputs": []
    },
    {
      "cell_type": "code",
      "source": [
        "class Net(torch.nn.Module):\n",
        "  def __init__(self, input_dim, hidden_dim, layers):\n",
        "    super(Net, self).__init__()\n",
        "    self.rnn = torch.nn.RNN(input_size=input_dim, hidden_size=hidden_dim, num_layers=layers, batch_first=True)\n",
        "    self.fc = torch.nn.Linear(in_features=hidden_dim, out_features=vocab_size)\n",
        "\n",
        "  def forward(self, x):\n",
        "    x, _ = self.rnn(x)\n",
        "    x = self.fc(x)\n",
        "    return x"
      ],
      "metadata": {
        "id": "hcEPn-cmDH8O"
      },
      "execution_count": 54,
      "outputs": []
    },
    {
      "cell_type": "code",
      "source": [
        "net = Net(vocab_size, hidden_size, 4)\n",
        "criterion = torch.nn.CrossEntropyLoss()\n",
        "optimizer = optim.Adam(net.parameters(), learning_rate)"
      ],
      "metadata": {
        "id": "KO0TEL4ODIj6"
      },
      "execution_count": 55,
      "outputs": []
    },
    {
      "cell_type": "code",
      "source": [
        "for i in range(100):\n",
        "    optimizer.zero_grad()\n",
        "    outputs = net(X)\n",
        "\n",
        "    loss = criterion(outputs.view(-1, vocab_size), Y.view(-1))\n",
        "    loss.backward()\n",
        "    optimizer.step()\n",
        "\n",
        "    #16. 예측결과 확인\n",
        "    results = outputs.argmax(dim=2)\n",
        "    predict_str = \"\"\n",
        "    for j, result in enumerate(results):\n",
        "        if j == 0: # 처음에는 예측 결과를 전부 가져오기\n",
        "            predict_str += ''.join([world_set[t] for t in result])\n",
        "        else: # 그 다음에는 마지막 글자만 반복 추가\n",
        "            predict_str += world_set[result[-1]]\n",
        "\n",
        "    print(predict_str)"
      ],
      "metadata": {
        "colab": {
          "base_uri": "https://localhost:8080/"
        },
        "id": "DWQgrD8CDKvn",
        "outputId": "d18562f5-43b2-45ef-d7e2-5b0daf0c4e60"
      },
      "execution_count": 56,
      "outputs": [
        {
          "output_type": "stream",
          "name": "stdout",
          "text": [
            "..ha h  a h h    a       h                  h   h              h   h     h h     h     h  \n",
            "a                                                                                         \n",
            "a                                                                                         \n",
            "                                                                                          \n",
            "                                                                                          \n",
            "                                                                                          \n",
            "  e ee  e  e ee e   e ee ee  ee   e ee e  e  e   e  e  e e e e  e ee  e     e e  e e   e  \n",
            " ee ee ee ee ee ee ee ee ee  eee ee ee ee e eee ee  e ee e e e ee ee ee eee e eeee ee ee  \n",
            " ee ee ee  e ee ee ee ee ee  eee ee ee ee e eee ee  e  e e e e ee ee ee eee e ee e ee ee  \n",
            "  e ee ee  e ee ee ee te ee  ee  ee ee ee e  e  ee  e  e e t e  e ee ee te  e te e te  e  \n",
            "  e te  e  e te te  e te te  ee  ee te te e  e  ee  e te t m m te te  e te  e t  e te  e  \n",
            "  e te  e  e  e te  e te  e   ee te te  e e  ee  e  e me t m m ve te  e tee e m se te  e  \n",
            "  e te  e  e  e te  e te tes  ee  e te t  e  ee  e  e  e t m s ve te  e te  e m .e te  e  \n",
            "  e te  e  e  e t   e te tes  ee te te t se  ee  e  e me t m s me te  e t s e m se te  e  \n",
            "  e te  e  e  e m .ee te te.  ee te te t se  ey se  e me t m s me te  e t s e m se te  e  \n",
            " te te  e  e  e me. e te te.  ee te te t se  ee se  e me t m s me te  e m n e m se te  e  \n",
            " te te  e re  e me. e te tey  ee te te.t me  ey se. e se m m s me me  e m   e m ve me te r\n",
            " ee te  eere  e mes e te  eyr ee te te.t me. ey se. e se m sas me me. e man e mame me te r\n",
            " ee te reere  e me.te te teer ee te te.t mer ey se. e se m s s ve me  e se  e s re fe te r\n",
            " se te  eere  e we.te te  eer ey fe te.t fe. ey se. e se m sas se me. e san e sane we te r\n",
            " se te. eeie  e se.ge we  eer ey ne te.t fe. ey se. e se sasasase we. e sanae sase we te r\n",
            " fe te teeie  e we.te we teer ey ne te.t fer ey se. e ne s n sane we. e san'e sane fe te r\n",
            " fe we teeie  e ne.te we teer ey ne te.t fer ey se. s ne we. sane fe. e san'e sane fe te r\n",
            " fe we.reeie re ne.te we teer ey ne te.t fgr ey ne. sane weT sane fe. e san'e sane fe te r\n",
            " fe we.reeie re ne.te we teer ey nerte.t for ey ne. sane ngs sane fe. e san'e sane fe te r\n",
            " fe we.teete re ne.te we teer es nerte.t for ey ne. sane ngT sane we. e nan'e sane fe te r\n",
            " fe we teete re te.te we teer es nerte.t for ey ner sane ne. sane we. e nan'e sane we fe r\n",
            " fe we.teete re te.te we teer es nerte.t for dy ner sane ngT sane we. e nan'e sane we feer\n",
            " fe we.'eete re teTte we teer es nerve.t for dy se. sane ng, sane we. d san'e sane to feer\n",
            " fe we.tecte re teTte we teer es ferve.t for dy se. sane ng, save we. d san'e wane to 'eer\n",
            " fe we.tecte re teTte we teer es ferfe.t for dy se. sane tg, save we. d san'e wane to 'eer\n",
            " fe we tecte re teTte we teer es verfect for dy ser sane tg, save we. e don'e wane to feer\n",
            " fe we tecte re teThe we teer is verfect for dy sgr sane tg, save we. d don'e wani to meer\n",
            " fe we tecte re teThe we teer is verfect for dy sg. sane tg, save we. e don'e wani to deer\n",
            " fe we t ci  re teThe weateer is verfect for dy ne. sane tg, save me. e don'e want to deer\n",
            " fe we t cieareateThe weateer is verfect for dyine. sanerng, save me. e don'e wani to deer\n",
            " fe we t cieareateThe weateer is verfect for dying. sane ng, save me. e don't wani to deer\n",
            " fe we   cieareateThe weateer is verfect for dying. saserng, save me. I don't wani to deer\n",
            " fe we   cigareateThe weateer is verfect for dying. saserng, save me. I don't want to deer\n",
            " fe we   cigareateThe weateer is verfect for dying. saseong, save me. I don't want to deer\n",
            " fe we t cigareateThe weateer is verfect for dying. saseong, save me. I don't want to deer\n",
            " fe we   cigareateThe weateer is verfect for dying. saseong, save me. I don't dant to deer\n",
            " fe we   cigaretteThe weateer is verfect for dying. saseong, save me. I don't dant to deer\n",
            " fe we   cigaretteThe weateer is verfect for dying. saseong, save me. I don't dant to deer\n",
            " fe we   cigaretteThe weateer is verfect for dying. saseong, save me. I don't dant to deer\n",
            " pe we   cigaretteThe weateer is verfect for dying. saseong, save me. I don't want to deer\n",
            " pe we   cigaretteThe weateer is verfect for dying. saseong, save me. I don't want to deer\n",
            " Te we   cigaretteThe weateer is verfect for dying. Jaseong, save me. I don't want to dier\n",
            " Te we   cigaretteThe weateer is perfect for dying. Jaseong, save me. I don't want to diea\n",
            " Te we a cigaretteThe weateer is perfect for dying. Jaseong, save me. I don't want to dier\n",
            " Te we   cigaretteThe weateer is perfect for dying. Jaseong, save me. I don't want to dier\n",
            " Te we a cigaretteThe weateer is perfect for dying. Jaseong, save me. I don't want to dier\n",
            " Te we a cigaretteThe weateer is perfect for dying. Jaseong, save me. I don't want to dier\n",
            " Te me a cigaretteThe weateer is perfect for dying. Jaseong, save me. I don't want to dier\n",
            "ire me a cigaretteThe weateer is perfect for dying. Jaseong, save me. I don't want to dier\n",
            "ire me a cigaretteThe weather is perfect for dying. Jaseong, save me. I don't want to dier\n",
            "ive me a cigaretteThe weather is perfect for dying. Jaseong, save me. I don't want to dier\n",
            "ive me a cigaretteThe weather is perfect for dying. Jaseong, save me. I don't want to diea\n",
            "ive me a cigaretteThe weather is perfect for dying. Jaseong, save me. I don't want to diea\n",
            "ive me a cigaretteThe weather is perfect for dying. Jaseong, save me. I don't want to diea\n",
            "ive me a cigaretteThe weather is perfect for dying. Jaseong, save me. I don't want to die.\n",
            "ive me a cigaretteThe weather is perfect for dying. Jaseong, save me. I don't want to die.\n",
            "ive me a cigaretteThe weather is perfect for dying. Jaseong, save me. I don't want to die.\n",
            "ive me a cigaretteThe weather is perfect for dying. Jaseong, save me. I don't want to die.\n",
            "ive me a cigaretteThe weather is perfect for dying. Jaseong, save me. I don't want to die.\n",
            "ive me a cigaretteThe weather is perfect for dying. Jaseong, save me. I don't want to die.\n",
            "ive me a cigaretteThe weather is perfect for dying. Jaseong, save me. I don't want to die.\n",
            "ive me a cigaretteThe weather is perfect for dying. Jaseong, save me. I don't want to die.\n",
            "ive me a cigaretteThe weather is perfect for dying. Jaseong, save me. I don't want to die.\n",
            "ive me a cigaretteThe weather is perfect for dying. Jaseong, save me. I don't want to die.\n",
            "ive me a cigaretteThe weather is perfect for dying. Jaseong, save me. I don't want to die.\n",
            "ive me a cigaretteThe weather is perfect for dying. Jaseong, save me. I don't want to die.\n",
            "ive me a cigaretteThe weather is perfect for dying. Jaseong, save me. I don't want to die.\n",
            "ive me a cigaretteThe weather is perfect for dying. Jaseong, save me. I don't want to die.\n",
            "ive me a cigaretteThe weather is perfect for dying. Jaseong, save me. I don't want to die.\n",
            "ive me a cigaretteThe weather is perfect for dying. Jaseong, save me. I don't want to die.\n",
            "ive me a cigaretteThe weather is perfect for dying. Jaseong, save me. I don't want to die.\n",
            "ive me a cigaretteThe weather is perfect for dying. Jaseong, save me. I don't want to die.\n",
            "ive me a cigaretteThe weather is perfect for dying. Jaseong, save me. I don't want to die.\n",
            "ive me a cigaretteThe weather is perfect for dying. Jaseong, save me. I don't want to die.\n",
            "ive me a cigaretteThe weather is perfect for dying. Jaseong, save me. I don't want to die.\n",
            "ive me a cigaretteThe weather is perfect for dying. Jaseong, save me. I don't want to die.\n",
            "ive me a cigaretteThe weather is perfect for dying. Jaseong, save me. I don't want to die.\n",
            "ive me a cigaretteThe weather is perfect for dying. Jaseong, save me. I don't want to die.\n",
            "ive me a cigaretteThe weather is perfect for dying. Jaseong, save me. I don't want to die.\n",
            "ive me a cigaretteThe weather is perfect for dying. Jaseong, save me. I don't want to die.\n",
            "ive me a cigaretteThe weather is perfect for dying. Jaseong, save me. I don't want to die.\n",
            "ive me a cigaretteThe weather is perfect for dying. Jaseong, save me. I don't want to die.\n",
            "ive me a cigaretteThe weather is perfect for dying. Jaseong, save me. I don't want to die.\n",
            "ive me a cigaretteThe weather is perfect for dying. Jaseong, save me. I don't want to die.\n",
            "ive me a cigaretteThe weather is perfect for dying. Jaseong, save me. I don't want to die.\n",
            "ive me a cigaretteThe weather is perfect for dying. Jaseong, save me. I don't want to die.\n",
            "ive me a cigaretteThe weather is perfect for dying. Jaseong, save me. I don't want to die.\n",
            "ive me a cigaretteThe weather is perfect for dying. Jaseong, save me. I don't want to die.\n",
            "ive me a cigaretteThe weather is perfect for dying. Jaseong, save me. I don't want to die.\n",
            "ive me a cigaretteThe weather is perfect for dying. Jaseong, save me. I don't want to die.\n",
            "ive me a cigaretteThe weather is perfect for dying. Jaseong, save me. I don't want to die.\n",
            "ive me a cigaretteThe weather is perfect for dying. Jaseong, save me. I don't want to die.\n",
            "ive me a cigaretteThe weather is perfect for dying. Jaseong, save me. I don't want to die.\n",
            "ive me a cigaretteThe weather is perfect for dying. Jaseong, save me. I don't want to die.\n"
          ]
        }
      ]
    },
    {
      "cell_type": "code",
      "source": [
        "print(predict_str)"
      ],
      "metadata": {
        "colab": {
          "base_uri": "https://localhost:8080/"
        },
        "id": "C59uKRp1DMTd",
        "outputId": "4e437402-3c58-4b0b-ca86-23231350a753"
      },
      "execution_count": 57,
      "outputs": [
        {
          "output_type": "stream",
          "name": "stdout",
          "text": [
            "ive me a cigaretteThe weather is perfect for dying. Jaseong, save me. I don't want to die.\n"
          ]
        }
      ]
    },
    {
      "cell_type": "code",
      "source": [
        "hidden_size = vocab_size\n",
        "sequence_length = 10\n",
        "learning_rate = 0.001"
      ],
      "metadata": {
        "id": "rIjvNOIQDPR9"
      },
      "execution_count": 58,
      "outputs": []
    },
    {
      "cell_type": "code",
      "source": [
        "class Net(torch.nn.Module):\n",
        "  def __init__(self, input_dim, hidden_dim, layers):\n",
        "    super(Net, self).__init__()\n",
        "    self.rnn = torch.nn.RNN(input_size=input_dim, hidden_size=hidden_dim, num_layers=layers, batch_first=True)\n",
        "    self.fc = torch.nn.Linear(in_features=hidden_dim, out_features=vocab_size)\n",
        "\n",
        "  def forward(self, x):\n",
        "    x, _ = self.rnn(x)\n",
        "    x = self.fc(x)\n",
        "    return x"
      ],
      "metadata": {
        "id": "Ec0q38cVDbwy"
      },
      "execution_count": 59,
      "outputs": []
    },
    {
      "cell_type": "code",
      "source": [
        "net = Net(vocab_size, hidden_size, 2)\n",
        "criterion = torch.nn.CrossEntropyLoss()\n",
        "optimizer = optim.Adam(net.parameters(), learning_rate)"
      ],
      "metadata": {
        "id": "Jlob8N-UDd1D"
      },
      "execution_count": 60,
      "outputs": []
    },
    {
      "cell_type": "code",
      "source": [
        "for i in range(100):\n",
        "    optimizer.zero_grad()\n",
        "    outputs = net(X)\n",
        "\n",
        "    loss = criterion(outputs.view(-1, vocab_size), Y.view(-1))\n",
        "    loss.backward()\n",
        "    optimizer.step()\n",
        "\n",
        "    #16. 예측결과 확인\n",
        "    results = outputs.argmax(dim=2)\n",
        "    predict_str = \"\"\n",
        "    for j, result in enumerate(results):\n",
        "        if j == 0:\n",
        "            predict_str += ''.join([world_set[t] for t in result])\n",
        "        else:\n",
        "            predict_str += world_set[result[-1]]\n",
        "\n",
        "    print(predict_str)"
      ],
      "metadata": {
        "colab": {
          "base_uri": "https://localhost:8080/"
        },
        "id": "NIzemJ0iDhFz",
        "outputId": "efd62349-9bf2-4a4c-f37b-450947b048bf"
      },
      "execution_count": 62,
      "outputs": [
        {
          "output_type": "stream",
          "name": "stdout",
          "text": [
            "wihimimiwimimiwiiiimiwimiiiiiiiwmiwiiiimiiwimiwiiiwmiwiwiiiwiiwiiwiiiiiwiwiiiiimiiiiwimwii\n",
            "wwhimimiwimwmiwwhiimiwimiiiiiiiwmiwiiiimiiwwmiwiiiwmiwiwiiiwiiwiiwiiiiiwiwiiiiimiwiimimwmi\n",
            "wwhimimiwimwmiwwhiimiwimiiiiimiwmiwiiiimiimwmiwiiiwmiwiwiiiwmiwiiwiihiiwiwwiiiimiwiimimwmi\n",
            "wwmimimiwimwmiwwhiimiwimiwiimmiwmiwmmiimiimwmiwiimwmiwiwwiiwmiwiiwiimiiwiwwmiiimiwhimimwmi\n",
            "wwmimimi imwmimwhiimiwimiwiimmiwmiwmmiimiwmwmiwiimwmiwiwwimwmw ii iimimwiwwmihimiwhi imwmi\n",
            "wwmimimi mmwmwmwhiemi imiwii miwmiwmmimmiwmwmiwiimwmiwiwwimwmw wi iimmmwiwwmihimiwhi imwmi\n",
            "wwmimimi mmwmwm hhemi imimie miwmiwmmimmim wmi emmwmi iwwmmmmw wi iimemwi wmi imiwei imwme\n",
            "wwm mimi mmmmwm heemi eme ie mm mi  m emim wmi em wmi i  mmmmw we mieemwi  me imimei wm me\n",
            "wwe mimi mm m m ee mi eme ee mm  i  m emim wmi em wmi i  memmw  e meeem i  me im  ee wm me\n",
            "wwe me e mm m   ee me em  ee mm  i  m em m  mi em   i e  mem w  e e  em i  ee e   ee  m me\n",
            "wwe me e m      ee me e   ee  m  e  m em m  mi em   i e  m m e  e e   m m  ee e   ee  m e \n",
            "ewe  e e e      ee me e   ee        m  m    m  e    i           e e   e    ee e   ee  m   \n",
            "ewe  e   e      ee    e   ee           m    m  e    e           e e   e    ee e   ee  m   \n",
            "e e  e   e      ee         e           m    m  e    e           e     e    ee e   ee  m   \n",
            "e e  e                     e                   e    e           e           e e    e      \n",
            "e e  e                     e                        e           e           e e    e      \n",
            "e e                                                 e           e           e e           \n",
            "e                                                               e           e e           \n",
            "e                                                               e           e             \n",
            "e                                                               e                         \n",
            "e                                                               e                         \n",
            "e                                                               e                         \n",
            "e                                                               e                         \n",
            "e                                                                                         \n",
            "e                                                                                         \n",
            "e                                                                                         \n",
            "e                                                                                         \n",
            "                                                                                          \n",
            "                                                                                          \n",
            "                                                                                          \n",
            "                                                                                          \n",
            "                                                                                          \n",
            "                                                                                          \n",
            "                                                                                          \n",
            "                                                                e                         \n",
            "                                                                e                         \n",
            "                                                                e                         \n",
            "                                                    e           e             e           \n",
            "     e                                              e        e  e             e           \n",
            "     e              e                               e        e  e             e           \n",
            "     e              e                               e        e  e           e e           \n",
            "     e              e                               e        e  e           e e           \n",
            "     e              e                               e        e  e           e e           \n",
            "     e              e                               e        e  e           e e           \n",
            "     e              e                          e    e        e  e           e e           \n",
            "     e              e      e                 e e    e e      e  e     e     e e           \n",
            "     e              e      e                 e e    e e      e  e     e     e e   e       \n",
            " e   e              e  e   e                 e e    e e      e  e     e     e e e e       \n",
            " e   e              e  e   e  e              e e    e e      e  e  e  e e   e e e e       \n",
            " e   e              e  e  ee  e              e e    e e      e ee  e  e e   e e e e       \n",
            " e   e              e  e  ee  e      e       e e    e e    e e ee  e  e e e e e e e       \n",
            " e   e   e       e  e  e  ee  e      e       e e    e e    e e ee  e  e e e e e e e       \n",
            " e   e   e       e  e  e  ee  e      e     e e e    e e    e e ee  e  e e e e e e e       \n",
            "ee   e   e e     e  e  e  ee  e      e     e e e    e e    e e ee  e  e e e e e e e       \n",
            "ee   e   e e     e  e  e  ee  e      e   e e e e    e e    e e ee  e  e e e e e e e       \n",
            "ee   e   e e     e  e  e  ee  e      e   e e e e    e e    e e ee  e  e e e e e e e       \n",
            "ee   e   e e     e  e  e  ee  e  e   e   e e e e  e e e    e e ee  e  e e e e e e e       \n",
            "ee   e   e e     e  e  e  ee  e  e   e  ee e e e  e e e  t e e et  e  e e e e e e e       \n",
            "ee   e   e e     e  e  e  ee  e  e   e  ee e e e  e e e  t e e et  e  e e e e e e e       \n",
            "ee   e   e e     e  e  e  ee  e  e   e  ee e e e  e e e  t e e et  e  e e e e e e e       \n",
            "ee   e   e e  e  e  e  e  ee  e  e   e  ee e e e  e e et t e e et  e  e e e e e e e    e  \n",
            "ee   e   e e  e  e  e  e  ee  e  e   e  ee e e e  e e et t e e et  e  e e e e e e e  e e  \n",
            "ee   e  ee e  e  e  e  e  ee  e  e   ee ee e e e  e e et t e e et  e  e e e e e e e  e e  \n",
            "ee   e  ee e  e  e  e  e  ee  e  e   ee ee e e e  e e et t e e et  e  e e e e e e e  e e  \n",
            "ee   e  ee e  e  e  e  e  ee  e  e   ee ee e e e  e e et t e e et  e  e e e e e e e  e e  \n",
            "ee   e  ee e  e  e  e  e  ee  e  e   ee ee e e et e e et t e e et  e  e e e e e e e  e e  \n",
            "ee   e  ee e  e  e  e  e  ee  e  e   ee ee e e et e e et t e e ee  e  e e e e e e e  e e  \n",
            "ee   e  ee e  e  e  e  e  ee  e  e   ee ee e e et e e et t e e  e  e  e e e e e e e  e e  \n",
            "ee   e  ee e  e  e  e  e  ee  e  e   ee ee e e et e e et t e e  e  e  e e e e e e e  e e  \n",
            "ee   e  ee e  e  e  e  e  ee  e  e   ee ee e e et e e et t e e  e ee  e e e e e e e  e e  \n",
            "ee   e  ee e  e  e  e  e  ee  e  e   ee ee e e et e e et t e e  e ee  e e e e e e e  e e  \n",
            "ee   e  ee e  e  e  e  e  ee  e  e   ee ee e e et e e et t e e  e ee  e e e e e e e  e e  \n",
            "ee   e  ee e  e  e  e  e  ee  e  e   ee ee e e et e e et t e e  e ee  e e e e e e e  e e  \n",
            "ee   e  ee e  e  e  e  e  ee  e  e   ee ee e e et e e et t e e  e te  e e e e e e e  e e  \n",
            "eee  e  ee e  e  e  e  e  ee  e  e   ee ee e e et e J et t n e  e te  e e e e e e e  e e  \n",
            "eee  e  ee e  e  e  e  e  ee  e  e   ee ee e e et e J et t n e  e te  e e e e e e e  e e  \n",
            "eee  e  ee e  e  e  e  e  ee  e  e   ee ee e e et e J et t n e  e te  e e e e e e e  e e  \n",
            "eee  e  ee e  e  e  e  e  ee  e  e   ee ee e e et e J et t n J  e te  e e e e e e e  e e  \n",
            "eee  e  ee e  e  e  e  e  ee  e  e   ee ee n e et e J et t n J  e te  e e e e e eae  e e  \n",
            "eee  e  ee e  e  e  e  e  ee  e  e   ee ee n e et e J et t n J  e te  e e e e e eae  e e  \n",
            "eee  e  ee e  e  e  e  e  ee  e  e   ee ee n e et e J et t n J  e te  e e e e e eae  e e  \n",
            "eee  e  ee e  e  e  e  e  ee  e  ee  ee ee n e et n J et n n J  e te  e e e e e eaet e e  \n",
            "eee  e  ee e  e  e  e  e  ee  e  ee  ee ee n e et n J st n n J  e te  e n e e J eaet e e  \n",
            "eee  e  ee e  e  e  e  e  ee  e  ee  ee ee n e et n J st n n J  e te  e n e e J ea t e e  \n",
            "eee  e  ee e  e  e  e  e  ee  e  ee  ee ee n e et n J se n n J  e te  e nae e J ea t t e  \n",
            "eee  e  ee e  e  e  e  e  ee  e  ee  ee ee n e et n J se n n J  e te  e nae e J ea e t e  \n",
            "eee  e  ee e  e  e  e  e  ee  e  ee  ee ee n e et n J se n n J  e te  e nae e J ea e t e  \n",
            "eee  e  ee e  e  e  e  e  ee  e  ee  ee ee n e ea n J se n n Ja e te  e nae e J sa t t e  \n",
            "eee  e  ee e  e  e  e  e  ee  ee ee  ee ee n e ea n J se n n Ja e te  e nan e J sa t t e  \n",
            "eee  e  ee e  e  e  e  e  ee  ee ee  ee ee n e ea n J se n n Ja e te  e nan e J sa t t e  \n",
            "eee  e  ee e  e  e  e  e  ee  ee ee  ee ee n e ea n J se n n Ja e te  e nanae J sa t t e  \n",
            "eee  e  ee e  e  e  e  e  ee  ee ee  ee ee n e ea n J se n n Ja e ne  e nanae J sa t t e  \n",
            "eee  e  ee e  e  e  e  e  ee  ee ee  ee ee n e ea n J se n n Ja e ne  e nanae J sa t t e  \n",
            "eee  e  ee e  e  e  e  e  ee  ee ee  ee ee n e ea n J se n n Ja e ne  e nanae J se t t e  \n",
            "eee te  ee e  e  e  e  e  ee  ee ee  ee ee n e ea n J se n n Ja e ne  e nanae J se t t e  \n",
            "eee te  ee e  e  e  e  e  ee  ee ee  ee ee n e ea n J se n n Ja e ne  e nanae J se t t e  \n",
            "eee te  ee e  e  e  e  e  ee  ee ee  ee  e n e ea n J se n n Ja e ne  e nanee J se t t e  \n",
            "eee te  ee e  e  e  e  e  ee  ee ee tee  e n e ea n J se n n Ja e ne  e nanee J se t t e  \n",
            "eee te  ee    e  e  e  e  ee  ee ee tee  e n d sa n J se n n Ja e ne  e nanee J se t t e  \n",
            "eee te  ee    e  e  e  e  ee  ee ne tee  e n d sa n J se n n Ja e ne  e nanee J se t t e  \n"
          ]
        }
      ]
    },
    {
      "cell_type": "code",
      "source": [
        "hidden_size = vocab_size\n",
        "sequence_length = 10\n",
        "learning_rate = 0.1"
      ],
      "metadata": {
        "id": "vFiEDQjkDkwQ"
      },
      "execution_count": 63,
      "outputs": []
    },
    {
      "cell_type": "code",
      "source": [
        "net = Net(vocab_size, hidden_size, 2)\n",
        "criterion = torch.nn.CrossEntropyLoss()\n",
        "optimizer = optim.Adam(net.parameters(), learning_rate)"
      ],
      "metadata": {
        "id": "in0XPIDYDtpP"
      },
      "execution_count": 64,
      "outputs": []
    },
    {
      "cell_type": "code",
      "source": [
        "for i in range(100):\n",
        "    optimizer.zero_grad()\n",
        "    outputs = net(X)\n",
        "\n",
        "    loss = criterion(outputs.view(-1, vocab_size), Y.view(-1))\n",
        "    loss.backward()\n",
        "    optimizer.step()\n",
        "\n",
        "    #16. 예측결과 확인\n",
        "    results = outputs.argmax(dim=2)\n",
        "    predict_str = \"\"\n",
        "    for j, result in enumerate(results):\n",
        "        if j == 0:\n",
        "            predict_str += ''.join([world_set[t] for t in result])\n",
        "        else:\n",
        "            predict_str += world_set[result[-1]]\n",
        "\n",
        "    print(predict_str)"
      ],
      "metadata": {
        "colab": {
          "base_uri": "https://localhost:8080/"
        },
        "id": "CE_7YcygDvgc",
        "outputId": "8e6181c3-1558-4449-a9c9-64abcbb72aac"
      },
      "execution_count": 65,
      "outputs": [
        {
          "output_type": "stream",
          "name": "stdout",
          "text": [
            "vvvvvyvvvvvvyvvvvvvvvvvvvvvvvvvvvvvvvvvvvvvyvyvvvvyvyyvyvvvyvyyvvvvyvvvvvvvvvvvvvvvvyvvvvv\n",
            "        o o         o      o         oo  o       o        o        o  o    oo             \n",
            "eeeeee eeeeeeeeeeeeeeeeeaeee eeaeeeeee  ea  eee eee eneeeege eneeeee eeeeeeet enee eeeeeee\n",
            "agG,cc  gGr g, ggGchgc agG gG ggGragrh'tggG agGrhg, agGrhgGr ggc gg,r gG ngGc hgGrhgg, gGc\n",
            "agg..   anGG.     e     na. .    a           a  c      an...   naa..    sn ..    aa.     a\n",
            "i  aJtr ac dgtra yftc.wcnttt wsncoa  ay  f coacttf  cocotat csacotat wcoco gt coag c  coag\n",
            "i waa  wsr da  dod wf wdot atwsadodJ wa  Jarwdo  dt wad  aat ssi waa wsodoat wIodc dar do \n",
            "i wsa  facadatea   hg wsst gt saiaar dst I  adatngt Iavrongt svirodetwIadatef waar d d at \n",
            "i watehh Iaeateat hh  wIat f  aaeaaefeet f  amaingt Jaisa gt Jaisan t IaIangt waoeoe net  \n",
            "iaeane.hedaeaheioethe weat e  aa mar eetefaeamaing. Jaesa gt Jasrame. eadang. waeete nene.\n",
            "ioe me  esieaneate.he  eather ae mer eet eoe mying. Jaseone. saseome. e done. wanete neset\n",
            "doe me  ecieaneane.he  eother dy ier ect eoe dying, Jaseone, iase mer e done, wane e nfett\n",
            "doe me  ecieaneaneThe  eather dy per ect for dying, Jaseong, iase mer d done, wane eorfet \n",
            "sog me fecieareateThe weather iy per ect for dying, Jaseon', save mer J don', wane eorfet \n",
            "sog me feciearetteThe weather is perfect for dying, Jaseong, save mer I don', wane eo fett\n",
            "sog me.we igaretthThe weather is perfect for dying. Jaseong. save me. I don't want mo ftnt\n",
            "sig me.wecigorettgThe weather is perfect for dying. Jaseong. save me. I dongt want mo fint\n",
            "sig me.wecigarettgThe weather is perfect for dying. Jaseong. save me. I dongt want mo font\n",
            "sigome.fecigaretteThe weather is perfect for dying. Jaseong, save me. I don't want mo fint\n",
            "sigome.fecigaretteThe weather is perfect for dying. Jaseong, sase me. I don't want to fin \n",
            "cveame.wecigaretteThe weather is perfect for dying. Jaseong, save me. I don't want to fin \n",
            "cveame.wecigaretteThe weather is perfect for dying. Jaseong, save me. I don't want to eint\n",
            "cae me.aecigaretteThe weather is perfect for dying. Jaseong, save me. I don't want to ainT\n",
            "caetme.aecigaretteThe weather is perfect for dying. Jaseong, save me. I don't want to eiet\n",
            "iaetme.a cigaretteThe weather is perfect for dying. Jaseong, save me. I don't want to eiet\n",
            "ive me.a cigaretteThe weather is perfect for dying. Jaseong, save me. I don't want to diet\n",
            "ive me a cigaretteThe weather is perfect for dying. Jaseong, save me. I don't want to dieT\n",
            "ive me a cigaretteThe weather is perfect for dying. Jaseong, save me. I don't want to diet\n",
            "ive me a cigaretteThe weather is perfect for dying. Jaseong, save me. I don't want to diet\n",
            "ive me.a cigaretteThe weather is perfect for dying. Jaseong, save me. I don't want to diet\n",
            "ive me.a cigaretteThe weather is perfect for dying. Jaseong, save me. I don't want to diet\n",
            "ive me.a cigaretteThe weather is perfect for dying. Jaseong, save me. I don't want to dieT\n",
            "ive me a cigaretteThe weather is perfect for dying. Jaseong, save me. I don't want to dieT\n",
            "ive me a cigaretteThe weather is perfect for dying. Jaseong, save me. I don't want to dieT\n",
            "ive me a cigaretteThe weather is perfect for dying. Jaseong, save me. I don't want to dieT\n",
            "ive me a cigaretteThe weather is perfect for dying. Jaseong, save me. I don't want to dieT\n",
            "ive me a cigaretteThe weather is perfect for dying. Jaseong, save me. I don't want to dieT\n",
            "ive me a cigaretteThe weather is perfect for dying. Jaseong, save me. I don't want to die.\n",
            "ive me a cigaretteThe weather is perfect for dying. Jaseong, save me. I don't want to die.\n",
            "ive me a cigaretteThe weather is perfect for dying. Jaseong, save me. I don't want to die.\n",
            "ive me a cigaretteThe weather is perfect for dying. Jaseong, save me. I don't want to die.\n",
            "ive me a cigaretteThe weather is perfect for dying. Jaseong, save me. I don't want to die.\n",
            "ive me a cigaretteThe weather is perfect for dying. Jaseong, save me. I don't want to die.\n",
            "ive me a cigaretteThe weather is perfect for dying. Jaseong, save me. I don't want to die.\n",
            "ive me a cigaretteThe weather is perfect for dying. Jaseong, save me. I don't want to die.\n",
            "ive me a cigaretteThe weather is perfect for dying. Jaseong, save me. I don't want to die.\n",
            "ive me a cigaretteThe weather is perfect for dying. Jaseong, save me. I don't want to die.\n",
            "ive me a cigaretteThe weather is perfect for dying. Jaseong, save me. I don't want to die.\n",
            "ive me a cigaretteThe weather is perfect for dying. Jaseong, save me. I don't want to die.\n",
            "ive me a cigaretteThe weather is perfect for dying. Jaseong, save me. I don't want to die.\n",
            "ive me a cigaretteThe weather is perfect for dying. Jaseong, save me. I don't want to die.\n",
            "ive me a cigaretteThe weather is perfect for dying. Jaseong, save me. I don't want to die.\n",
            "ive me a cigaretteThe weather is perfect for dying. Jaseong, save me. I don't want to die.\n",
            "ive me a cigaretteThe weather is perfect for dying. Jaseong, save me. I don't want to die.\n",
            "ive me a cigaretteThe weather is perfect for dying. Jaseong, save me. I don't want to die.\n",
            "ive me a cigaretteThe weather is perfect for dying. Jaseong, save me. I don't want to die.\n",
            "ive me a cigaretteThe weather is perfect for dying. Jaseong, save me. I don't want to die.\n",
            "ive me a cigaretteThe weather is perfect for dying. Jaseong, save me. I don't want to die.\n",
            "ive me a cigaretteThe weather is perfect for dying. Jaseong, save me. I don't want to die.\n",
            "ive me a cigaretteThe weather is perfect for dying. Jaseong, save me. I don't want to die.\n",
            "ive me a cigaretteThe weather is perfect for dying. Jaseong, save me. I don't want to die.\n",
            "ive me a cigaretteThe weather is perfect for dying. Jaseong, save me. I don't want to die.\n",
            "ive me a cigaretteThe weather is perfect for dying. Jaseong, save me. I don't want to die.\n",
            "ive me a cigaretteThe weather is perfect for dying. Jaseong, save me. I don't want to die.\n",
            "ive me a cigaretteThe weather is perfect for dying. Jaseong, save me. I don't want to die.\n",
            "ive me a cigaretteThe weather is perfect for dying. Jaseong, save me. I don't want to die.\n",
            "ive me a cigaretteThe weather is perfect for dying. Jaseong, save me. I don't want to die.\n",
            "ive me a cigaretteThe weather is perfect for dying. Jaseong, save me. I don't want to die.\n",
            "ive me a cigaretteThe weather is perfect for dying. Jaseong, save me. I don't want to die.\n",
            "ive me a cigaretteThe weather is perfect for dying. Jaseong, save me. I don't want to die.\n",
            "ive me a cigaretteThe weather is perfect for dying. Jaseong, save me. I don't want to die.\n",
            "ive me a cigaretteThe weather is perfect for dying. Jaseong, save me. I don't want to die.\n",
            "ive me a cigaretteThe weather is perfect for dying. Jaseong, save me. I don't want to die.\n",
            "ive me a cigaretteThe weather is perfect for dying. Jaseong, save me. I don't want to die.\n",
            "ive me a cigaretteThe weather is perfect for dying. Jaseong, save me. I don't want to die.\n",
            "ive me a cigaretteThe weather is perfect for dying. Jaseong, save me. I don't want to die.\n",
            "ive me a cigaretteThe weather is perfect for dying. Jaseong, save me. I don't want to die.\n",
            "ive me a cigaretteThe weather is perfect for dying. Jaseong, save me. I don't want to die.\n",
            "ive me a cigaretteThe weather is perfect for dying. Jaseong, save me. I don't want to die.\n",
            "ive me a cigaretteThe weather is perfect for dying. Jaseong, save me. I don't want to die.\n",
            "ive me a cigaretteThe weather is perfect for dying. Jaseong, save me. I don't want to die.\n",
            "ive me a cigaretteThe weather is perfect for dying. Jaseong, save me. I don't want to die.\n",
            "ive me a cigaretteThe weather is perfect for dying. Jaseong, save me. I don't want to die.\n",
            "ive me a cigaretteThe weather is perfect for dying. Jaseong, save me. I don't want to die.\n",
            "ive me a cigaretteThe weather is perfect for dying. Jaseong, save me. I don't want to die.\n",
            "ive me a cigaretteThe weather is perfect for dying. Jaseong, save me. I don't want to die.\n",
            "ive me a cigaretteThe weather is perfect for dying. Jaseong, save me. I don't want to die.\n",
            "ive me a cigaretteThe weather is perfect for dying. Jaseong, save me. I don't want to die.\n",
            "ive me a cigaretteThe weather is perfect for dying. Jaseong, save me. I don't want to die.\n",
            "ive me a cigaretteThe weather is perfect for dying. Jaseong, save me. I don't want to die.\n",
            "ive me a cigaretteThe weather is perfect for dying. Jaseong, save me. I don't want to die.\n",
            "ive me a cigaretteThe weather is perfect for dying. Jaseong, save me. I don't want to die.\n",
            "ive me a cigaretteThe weather is perfect for dying. Jaseong, save me. I don't want to die.\n",
            "ive me a cigaretteThe weather is perfect for dying. Jaseong, save me. I don't want to die.\n",
            "ive me a cigaretteThe weather is perfect for dying. Jaseong, save me. I don't want to die.\n",
            "ive me a cigaretteThe weather is perfect for dying. Jaseong, save me. I don't want to die.\n",
            "ive me a cigaretteThe weather is perfect for dying. Jaseong, save me. I don't want to die.\n",
            "ive me a cigaretteThe weather is perfect for dying. Jaseong, save me. I don't want to die.\n",
            "ive me a cigaretteThe weather is perfect for dying. Jaseong, save me. I don't want to die.\n",
            "ive me a cigaretteThe weather is perfect for dying. Jaseong, save me. I don't want to die.\n"
          ]
        }
      ]
    },
    {
      "cell_type": "code",
      "source": [
        "  print(predict_str)"
      ],
      "metadata": {
        "colab": {
          "base_uri": "https://localhost:8080/"
        },
        "id": "V4xpTKZFDxVI",
        "outputId": "95dfff79-c552-47da-c769-400806405451"
      },
      "execution_count": 66,
      "outputs": [
        {
          "output_type": "stream",
          "name": "stdout",
          "text": [
            "ive me a cigaretteThe weather is perfect for dying. Jaseong, save me. I don't want to die.\n"
          ]
        }
      ]
    },
    {
      "cell_type": "code",
      "source": [
        "hidden_size = vocab_size\n",
        "sequence_length = 5\n",
        "learning_rate = 0.01"
      ],
      "metadata": {
        "id": "0PQcB9QYD0ei"
      },
      "execution_count": 67,
      "outputs": []
    },
    {
      "cell_type": "code",
      "source": [
        "net = Net(vocab_size, hidden_size, 2)\n",
        "criterion = torch.nn.CrossEntropyLoss()\n",
        "optimizer = optim.Adam(net.parameters(), learning_rate)"
      ],
      "metadata": {
        "id": "e8FyvCF7EHZo"
      },
      "execution_count": 68,
      "outputs": []
    },
    {
      "cell_type": "code",
      "source": [
        "for i in range(100):\n",
        "    optimizer.zero_grad()\n",
        "    outputs = net(X)\n",
        "\n",
        "    loss = criterion(outputs.view(-1, vocab_size), Y.view(-1))\n",
        "    loss.backward()\n",
        "    optimizer.step()\n",
        "\n",
        "    #16. 예측결과 확인\n",
        "    results = outputs.argmax(dim=2)\n",
        "    predict_str = \"\"\n",
        "    for j, result in enumerate(results):\n",
        "        if j == 0:\n",
        "            predict_str += ''.join([world_set[t] for t in result])\n",
        "        else:\n",
        "            predict_str += world_set[result[-1]]\n",
        "\n",
        "    print(predict_str)"
      ],
      "metadata": {
        "colab": {
          "base_uri": "https://localhost:8080/"
        },
        "id": "VNyh7t1rEJPc",
        "outputId": "76f371cb-33d9-429d-c8b8-736dc2642eec"
      },
      "execution_count": 69,
      "outputs": [
        {
          "output_type": "stream",
          "name": "stdout",
          "text": [
            "ttt tst sttt stttc tt tstttsttttcstt tt t ttttttsttstss t t ststtttst ttIttttcsstttstststt\n",
            "ttttttttttttttttt  tttttttt tttt tttttttttttttttttttttt ttttttttttttttttttttt tttttttttttt\n",
            "t t tttttttt tttt  tt ttttt t tt ttt ttt  tttttt tt ttt ttt  t tt t t ttttttt  tttttttttt \n",
            "                                          t                    t         t      t         \n",
            "                                                                                          \n",
            "                                                                                          \n",
            "     e   e    e     e  e  e       e  e            e        e    e  e    e              e  \n",
            "     e   e    e     e  e  e   e   e  e    e  e    e  e e   e e  e  e    e      e       e  \n",
            "     e  ee    e  e  e  e  e   e   e  e    e  ee   e  e e   e ee e  e   ee   e  e       e  \n",
            "     e  ee    e  e  e  e  e   ee  e  e   ee  ee   e  e e   e ee e  e  eee   e  e    e  e  \n",
            "     e  ee    e  e te  e  e   ee  e  e   ee  ee   e  e e   e ee e  e  eee   e  e    e  e  \n",
            "     e  eet   e  e te  e te r ee  e  e t eor eee  e  e e   e eete  e  eeet  e  e    e  ee \n",
            "    me  eet   er e te te te r ee  e  ert dor eee  e  e e t e eete me  eeeo  e met   e  ee \n",
            "    me teeo   erte te me te r eo  e  ert dor moe  e mere t e eete me  eeeo  e met   ee ee \n",
            "    me teeo   erte te we teer eo  e  ert dor moe  e mere t e eete me teeoo  e met   ee ee \n",
            " t  me teeo   erte te we teer eo me  ert dor moe te metert e eete me teedon e met   ee ee \n",
            " t  me teeot  e te te we teer eo me  ert dor doe te meteot e eete me teedonte met   ee ee \n",
            " t  me teeot  e te te meeteer eo me fert dor doe te meteot e mete me  eedonte met   ee ee \n",
            " t  me teeot te te te meeteer eo pe fert dor doe te meteon e dete me  fedonte met   ee ee \n",
            " t  me t eot te te te meateer eo pe fert dor moe te mateon , deve mea fedonte met   oe eer\n",
            " t  meat eotete teate weateer eo pe fert don foe ge mateon , dave mea fedonte met   oe eer\n",
            " te meat er ete teate weateer eo perfert don foenge m teon , dave mea fedongt men   o  eer\n",
            " te weat er ere teate weateer eo perfert don doenge waseon , dave wea  edongt wen   t weer\n",
            " te weat eo ere teate weateer do perfert don doonge waseong, dave wea   dongt went  t weev\n",
            " re weat eo ere teTte weat er do perfert don doonge waseong, dave we.   don't went  t weev\n",
            " re weat eo ere teTte weat er do perfert don doonge waseong, dave we. w don't wen   t weer\n",
            "are we t et ere teTte weat er do perfert don doonge waseong, dave we. w don't want  t weer\n",
            "are we t ea ere teTte weat er ea perfect don doong. waseong, dave we. w don't want  o weer\n",
            "are we t ea ere teTte weat er ea perfect fon doong. waseong, dave we. w don't want  o weer\n",
            "are wett ea ere teTte weat er da perfect fon doing. waseong, save we. w don't waat  o doer\n",
            "are wett ea ere teTte weat er ea perfect fon doing. waseong, save we. w don't waat  o doer\n",
            "are wett ea ere teThe weat er ea perfect for doing. waseong, save we. w don't waat  o doer\n",
            "are wett ei eretteThe weather es perfect for doing. Jaseong, save we. s don't want  o doer\n",
            "are wett digaretteThe weather is perfect for doing. Jaseong, save we. s don't want  o doer\n",
            "are wett digaretteThe weather is perfect for dying. Jaseong, save we. s don't want  o doer\n",
            "are we.t digaretteThe weather is perfect for dying. Jaseong, save we. J don't want  o dier\n",
            "are me.t digaretteThe weather is perfect for dying. Jaseong, save me. J don't want  o dier\n",
            "ave me.t digaretteThe weather is perfect for dying. Jaseong, save me. J don't want  o dier\n",
            "ave me.t digaretteThe weather is perfect for dying. Jaseong, save me. J don't want  o dier\n",
            "ave me.t digaretteThe weather is perfect for dying. Jaseong, save me. J don't want  o dier\n",
            "ave me.t digaretteThe weather is perfect for dying. Jaseong, save me. I don't want  o dier\n",
            "ave me.t digaretteThe weather is perfect for dying. Jaseong, save me. I don't want  o dier\n",
            "ave me t digaretteThe weather is perfect for dying. Jaseong, save me. I don't want  o dier\n",
            "ave me t digaretteThe weather is perfect for dying. Jaseong, save me. I don't want  o dier\n",
            "ave me t digaretteThe weather is perfect for dying. Jaseong, save me. I don't want  o dier\n",
            "ave me t digaretteThe weather is perfect for dying. Jaseong, save me. I don't want  o dier\n",
            "ave me t cigaretteThe weather is perfect for dying. Jaseong, save me. I don't want  o dieT\n",
            "ave me t cigaretteThe weather is perfect for dying. Jaseong, save me. I don't want  o dieT\n",
            "ave me t cigaretteThe weather is perfect for dying. Jaseong, save me. I don't want  o dieT\n",
            "ave me t cigaretteThe weather is perfect for dying. Jaseong, save me. I don't want  o dier\n",
            "ave me t cigaretteThe weather is perfect for dying. Jaseong, save me. I don't want  o dier\n",
            "ave me a cigaretteThe weather is perfect for dying. Jaseong, save me. I don't want  o dier\n",
            "ave me a cigaretteThe weather is perfect for dying. Jaseong, save me. I don't want  o dier\n",
            "ave me a cigaretteThe weather is perfect for dying. Jaseong, save me. I don't want  o dier\n",
            "ave me a cigaretteThe weather is perfect for dying. Jaseong, save me. I don't want  o dier\n",
            "ave me a cigaretteThe weather is perfect for dying. Jaseong, save me. I don't want  o diea\n",
            "ave me a cigaretteThe weather is perfect for dying. Jaseong, save me. I don't want to diea\n",
            "ive me a cigaretteThe weather is perfect for dying. Jaseong, save me. I don't want to diea\n",
            "ive me a cigaretteThe weather is perfect for dying. Jaseong, save me. I don't want to diea\n",
            "ive me a cigaretteThe weather is perfect for dying. Jaseong, save me. I don't want to diea\n",
            "ive me a cigaretteThe weather is perfect for dying. Jaseong, save me. I don't want to diea\n",
            "ive me a cigaretteThe weather is perfect for dying. Jaseong, save me. I don't want to diea\n",
            "ive me a cigaretteThe weather is perfect for dying. Jaseong, save me. I don't want to diea\n",
            "ive me a cigaretteThe weather is perfect for dying. Jaseong, save me. I don't want to diea\n",
            "ive me a cigaretteThe weather is perfect for dying. Jaseong, save me. I don't want to diea\n",
            "ive me a cigaretteThe weather is perfect for dying. Jaseong, save me. I don't want to diea\n",
            "ive me a cigaretteThe weather is perfect for dying. Jaseong, save me. I don't want to die.\n",
            "ive me a cigaretteThe weather is perfect for dying. Jaseong, save me. I don't want to die.\n",
            "ive me a cigaretteThe weather is perfect for dying. Jaseong, save me. I don't want to die.\n",
            "ive me a cigaretteThe weather is perfect for dying. Jaseong, save me. I don't want to die.\n",
            "ive me a cigaretteThe weather is perfect for dying. Jaseong, save me. I don't want to die.\n",
            "ive me a cigaretteThe weather is perfect for dying. Jaseong, save me. I don't want to die.\n",
            "ive me a cigaretteThe weather is perfect for dying. Jaseong, save me. I don't want to die.\n",
            "ive me a cigaretteThe weather is perfect for dying. Jaseong, save me. I don't want to die.\n",
            "ive me a cigaretteThe weather is perfect for dying. Jaseong, save me. I don't want to die.\n",
            "ive me a cigaretteThe weather is perfect for dying. Jaseong, save me. I don't want to die.\n",
            "ive me a cigaretteThe weather is perfect for dying. Jaseong, save me. I don't want to die.\n",
            "ive me a cigaretteThe weather is perfect for dying. Jaseong, save me. I don't want to die.\n",
            "ive me a cigaretteThe weather is perfect for dying. Jaseong, save me. I don't want to die.\n",
            "ive me a cigaretteThe weather is perfect for dying. Jaseong, save me. I don't want to die.\n",
            "ive me a cigaretteThe weather is perfect for dying. Jaseong, save me. I don't want to die.\n",
            "ive me a cigaretteThe weather is perfect for dying. Jaseong, save me. I don't want to die.\n",
            "ive me a cigaretteThe weather is perfect for dying. Jaseong, save me. I don't want to die.\n",
            "ive me a cigaretteThe weather is perfect for dying. Jaseong, save me. I don't want to die.\n",
            "ive me a cigaretteThe weather is perfect for dying. Jaseong, save me. I don't want to die.\n",
            "ive me a cigaretteThe weather is perfect for dying. Jaseong, save me. I don't want to die.\n",
            "ive me a cigaretteThe weather is perfect for dying. Jaseong, save me. I don't want to die.\n",
            "ive me a cigaretteThe weather is perfect for dying. Jaseong, save me. I don't want to die.\n",
            "ive me a cigaretteThe weather is perfect for dying. Jaseong, save me. I don't want to die.\n",
            "ive me a cigaretteThe weather is perfect for dying. Jaseong, save me. I don't want to die.\n",
            "ive me a cigaretteThe weather is perfect for dying. Jaseong, save me. I don't want to die.\n",
            "ive me a cigaretteThe weather is perfect for dying. Jaseong, save me. I don't want to die.\n",
            "ive me a cigaretteThe weather is perfect for dying. Jaseong, save me. I don't want to die.\n",
            "ive me a cigaretteThe weather is perfect for dying. Jaseong, save me. I don't want to die.\n",
            "ive me a cigaretteThe weather is perfect for dying. Jaseong, save me. I don't want to die.\n",
            "ive me a cigaretteThe weather is perfect for dying. Jaseong, save me. I don't want to die.\n",
            "ive me a cigaretteThe weather is perfect for dying. Jaseong, save me. I don't want to die.\n",
            "ive me a cigaretteThe weather is perfect for dying. Jaseong, save me. I don't want to die.\n",
            "ive me a cigaretteThe weather is perfect for dying. Jaseong, save me. I don't want to die.\n",
            "ive me a cigaretteThe weather is perfect for dying. Jaseong, save me. I don't want to die.\n"
          ]
        }
      ]
    },
    {
      "cell_type": "code",
      "source": [
        "# G 네 이놈....."
      ],
      "metadata": {
        "id": "PcFPrDNoEKrZ"
      },
      "execution_count": 70,
      "outputs": []
    },
    {
      "cell_type": "code",
      "source": [],
      "metadata": {
        "id": "KHgRuuaPEiDP"
      },
      "execution_count": null,
      "outputs": []
    }
  ]
}