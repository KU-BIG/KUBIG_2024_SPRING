{
  "nbformat": 4,
  "nbformat_minor": 0,
  "metadata": {
    "colab": {
      "provenance": [],
      "gpuType": "T4"
    },
    "kernelspec": {
      "name": "python3",
      "display_name": "Python 3"
    },
    "language_info": {
      "name": "python"
    },
    "accelerator": "GPU"
  },
  "cells": [
    {
      "cell_type": "code",
      "execution_count": 10,
      "metadata": {
        "id": "nmQ5F7UAeKB_"
      },
      "outputs": [],
      "source": [
        "import numpy as np\n",
        "import torch\n",
        "import torch.nn as nn\n",
        "import torch.optim as optim"
      ]
    },
    {
      "cell_type": "markdown",
      "source": [
        "## Task1\n",
        "\n",
        "빈 칸을 채워주세요!\n",
        "\n",
        "단계별 output이 github 파일에는 남아있으니 그 output과 동일한 형태인지 확인하면서 진행해주시면 됩니다~"
      ],
      "metadata": {
        "id": "Sgxd6SxmeVcP"
      }
    },
    {
      "cell_type": "code",
      "source": [
        "#1. 생성할 문장 데이터\n",
        "\n",
        "sentence = (\"Brick walls are there for a reason and you must not think \"\n",
        "            \"that the brick walls aren't there to keep us out, but rather \"\n",
        "            \"in this way that the brick walls are there to show us how badly we want things.\")"
      ],
      "metadata": {
        "id": "NDvUeC8BoUb6"
      },
      "execution_count": null,
      "outputs": []
    },
    {
      "cell_type": "code",
      "source": [
        "#2. 문자 집합 만들기\n",
        "world_set = list(set(sentence)) # 중복 문자 제거\n",
        "\n",
        "## 문제(1): 각 문자에 정수 인코딩 (공백도 하나의 원소로 포함)\n",
        "# 코드 시행할 때마다 인덱스 붙는게 계속 달라짐.\n",
        "# world_set을 sorted() 함수를 써서 정렬하면 인덱스가 정해진 순서로 고정됨\n",
        "\n",
        "#vocab = {##}\n",
        "vocab = {char: idx for idx, char in enumerate(world_set)} # 딕셔너리 자료형에 key = 단어, value: 인덱스로 저장"
      ],
      "metadata": {
        "id": "b9lkrKyZf8ie"
      },
      "execution_count": null,
      "outputs": []
    },
    {
      "cell_type": "code",
      "source": [
        "print(vocab)"
      ],
      "metadata": {
        "colab": {
          "base_uri": "https://localhost:8080/"
        },
        "id": "F_0we5Y-gYDq",
        "outputId": "7085ad16-0832-4b0b-913d-c8bfd42128e5"
      },
      "execution_count": null,
      "outputs": [
        {
          "output_type": "stream",
          "name": "stdout",
          "text": [
            "{'a': 0, 'm': 1, 'r': 2, 'e': 3, 'k': 4, 'y': 5, 'o': 6, 'c': 7, 'b': 8, 's': 9, ',': 10, 'B': 11, \"'\": 12, 'g': 13, 'w': 14, 'u': 15, 'p': 16, 'f': 17, 'd': 18, 'h': 19, 'i': 20, ' ': 21, 'l': 22, 'n': 23, 't': 24, '.': 25}\n"
          ]
        }
      ]
    },
    {
      "cell_type": "code",
      "source": [
        "#3. 문자 집합 크기 확인\n",
        "\n",
        "vocab_size = len(vocab)\n",
        "print('문자 집합 크기 : {}'.format(vocab_size))"
      ],
      "metadata": {
        "colab": {
          "base_uri": "https://localhost:8080/"
        },
        "id": "TpKupU6lgpfT",
        "outputId": "1a657612-2e69-4b75-d9bc-40de51272fb7"
      },
      "execution_count": null,
      "outputs": [
        {
          "output_type": "stream",
          "name": "stdout",
          "text": [
            "문자 집합 크기 : 26\n"
          ]
        }
      ]
    },
    {
      "cell_type": "code",
      "source": [
        "#4. 하이퍼 파라미터 설정(자유롭게 수정해보세요!) #일단 그대로 진행\n",
        "\n",
        "hidden_size = vocab_size # 같아야 하는 것 확인!\n",
        "sequence_length = 10  # 너무 길거나 너무 짧게 잡으면 안됩니다!\n",
        "learning_rate = 0.01"
      ],
      "metadata": {
        "id": "wFDZJHSMg9In"
      },
      "execution_count": null,
      "outputs": []
    },
    {
      "cell_type": "code",
      "source": [
        "#5. seqence 길이 단위 자르기\n",
        "\n",
        "# 데이터 구성을 위한 리스트\n",
        "x_data = []\n",
        "y_data = []\n",
        "\n",
        "## 문제(2): 반복문 내에서의 인덱싱을 사용하여 sequence_length 값 단위로 샘플을 잘라 데이터 만들기, y_str은 x_str은 한 칸씩 쉬프트된 sequnce\n",
        "\n",
        "for i in range(0, len(sentence) - sequence_length):\n",
        "  x_str = sentence[i:i+sequence_length]\n",
        "  y_str = sentence[i+1: i+sequence_length + 1 ]\n",
        "  print(i, x_str, \"->\", y_str)\n",
        "\n",
        "  # x_str과 y_str이 문자집합에 해당하는 인덱스를 각각 x_data, y_data에 append\n",
        "  x_data.append([vocab[c] for c in x_str])\n",
        "  y_data.append([vocab[d] for d in y_str])"
      ],
      "metadata": {
        "colab": {
          "base_uri": "https://localhost:8080/"
        },
        "id": "RbDcmJmghN7V",
        "outputId": "3055e99d-e88a-4d5b-93e7-99486c53e068"
      },
      "execution_count": null,
      "outputs": [
        {
          "output_type": "stream",
          "name": "stdout",
          "text": [
            "0 Brick wall -> rick walls\n",
            "1 rick walls -> ick walls \n",
            "2 ick walls  -> ck walls a\n",
            "3 ck walls a -> k walls ar\n",
            "4 k walls ar ->  walls are\n",
            "5  walls are -> walls are \n",
            "6 walls are  -> alls are t\n",
            "7 alls are t -> lls are th\n",
            "8 lls are th -> ls are the\n",
            "9 ls are the -> s are ther\n",
            "10 s are ther ->  are there\n",
            "11  are there -> are there \n",
            "12 are there  -> re there f\n",
            "13 re there f -> e there fo\n",
            "14 e there fo ->  there for\n",
            "15  there for -> there for \n",
            "16 there for  -> here for a\n",
            "17 here for a -> ere for a \n",
            "18 ere for a  -> re for a r\n",
            "19 re for a r -> e for a re\n",
            "20 e for a re ->  for a rea\n",
            "21  for a rea -> for a reas\n",
            "22 for a reas -> or a reaso\n",
            "23 or a reaso -> r a reason\n",
            "24 r a reason ->  a reason \n",
            "25  a reason  -> a reason a\n",
            "26 a reason a ->  reason an\n",
            "27  reason an -> reason and\n",
            "28 reason and -> eason and \n",
            "29 eason and  -> ason and y\n",
            "30 ason and y -> son and yo\n",
            "31 son and yo -> on and you\n",
            "32 on and you -> n and you \n",
            "33 n and you  ->  and you m\n",
            "34  and you m -> and you mu\n",
            "35 and you mu -> nd you mus\n",
            "36 nd you mus -> d you must\n",
            "37 d you must ->  you must \n",
            "38  you must  -> you must n\n",
            "39 you must n -> ou must no\n",
            "40 ou must no -> u must not\n",
            "41 u must not ->  must not \n",
            "42  must not  -> must not t\n",
            "43 must not t -> ust not th\n",
            "44 ust not th -> st not thi\n",
            "45 st not thi -> t not thin\n",
            "46 t not thin ->  not think\n",
            "47  not think -> not think \n",
            "48 not think  -> ot think t\n",
            "49 ot think t -> t think th\n",
            "50 t think th ->  think tha\n",
            "51  think tha -> think that\n",
            "52 think that -> hink that \n",
            "53 hink that  -> ink that t\n",
            "54 ink that t -> nk that th\n",
            "55 nk that th -> k that the\n",
            "56 k that the ->  that the \n",
            "57  that the  -> that the b\n",
            "58 that the b -> hat the br\n",
            "59 hat the br -> at the bri\n",
            "60 at the bri -> t the bric\n",
            "61 t the bric ->  the brick\n",
            "62  the brick -> the brick \n",
            "63 the brick  -> he brick w\n",
            "64 he brick w -> e brick wa\n",
            "65 e brick wa ->  brick wal\n",
            "66  brick wal -> brick wall\n",
            "67 brick wall -> rick walls\n",
            "68 rick walls -> ick walls \n",
            "69 ick walls  -> ck walls a\n",
            "70 ck walls a -> k walls ar\n",
            "71 k walls ar ->  walls are\n",
            "72  walls are -> walls aren\n",
            "73 walls aren -> alls aren'\n",
            "74 alls aren' -> lls aren't\n",
            "75 lls aren't -> ls aren't \n",
            "76 ls aren't  -> s aren't t\n",
            "77 s aren't t ->  aren't th\n",
            "78  aren't th -> aren't the\n",
            "79 aren't the -> ren't ther\n",
            "80 ren't ther -> en't there\n",
            "81 en't there -> n't there \n",
            "82 n't there  -> 't there t\n",
            "83 't there t -> t there to\n",
            "84 t there to ->  there to \n",
            "85  there to  -> there to k\n",
            "86 there to k -> here to ke\n",
            "87 here to ke -> ere to kee\n",
            "88 ere to kee -> re to keep\n",
            "89 re to keep -> e to keep \n",
            "90 e to keep  ->  to keep u\n",
            "91  to keep u -> to keep us\n",
            "92 to keep us -> o keep us \n",
            "93 o keep us  ->  keep us o\n",
            "94  keep us o -> keep us ou\n",
            "95 keep us ou -> eep us out\n",
            "96 eep us out -> ep us out,\n",
            "97 ep us out, -> p us out, \n",
            "98 p us out,  ->  us out, b\n",
            "99  us out, b -> us out, bu\n",
            "100 us out, bu -> s out, but\n",
            "101 s out, but ->  out, but \n",
            "102  out, but  -> out, but r\n",
            "103 out, but r -> ut, but ra\n",
            "104 ut, but ra -> t, but rat\n",
            "105 t, but rat -> , but rath\n",
            "106 , but rath ->  but rathe\n",
            "107  but rathe -> but rather\n",
            "108 but rather -> ut rather \n",
            "109 ut rather  -> t rather i\n",
            "110 t rather i ->  rather in\n",
            "111  rather in -> rather in \n",
            "112 rather in  -> ather in t\n",
            "113 ather in t -> ther in th\n",
            "114 ther in th -> her in thi\n",
            "115 her in thi -> er in this\n",
            "116 er in this -> r in this \n",
            "117 r in this  ->  in this w\n",
            "118  in this w -> in this wa\n",
            "119 in this wa -> n this way\n",
            "120 n this way ->  this way \n",
            "121  this way  -> this way t\n",
            "122 this way t -> his way th\n",
            "123 his way th -> is way tha\n",
            "124 is way tha -> s way that\n",
            "125 s way that ->  way that \n",
            "126  way that  -> way that t\n",
            "127 way that t -> ay that th\n",
            "128 ay that th -> y that the\n",
            "129 y that the ->  that the \n",
            "130  that the  -> that the b\n",
            "131 that the b -> hat the br\n",
            "132 hat the br -> at the bri\n",
            "133 at the bri -> t the bric\n",
            "134 t the bric ->  the brick\n",
            "135  the brick -> the brick \n",
            "136 the brick  -> he brick w\n",
            "137 he brick w -> e brick wa\n",
            "138 e brick wa ->  brick wal\n",
            "139  brick wal -> brick wall\n",
            "140 brick wall -> rick walls\n",
            "141 rick walls -> ick walls \n",
            "142 ick walls  -> ck walls a\n",
            "143 ck walls a -> k walls ar\n",
            "144 k walls ar ->  walls are\n",
            "145  walls are -> walls are \n",
            "146 walls are  -> alls are t\n",
            "147 alls are t -> lls are th\n",
            "148 lls are th -> ls are the\n",
            "149 ls are the -> s are ther\n",
            "150 s are ther ->  are there\n",
            "151  are there -> are there \n",
            "152 are there  -> re there t\n",
            "153 re there t -> e there to\n",
            "154 e there to ->  there to \n",
            "155  there to  -> there to s\n",
            "156 there to s -> here to sh\n",
            "157 here to sh -> ere to sho\n",
            "158 ere to sho -> re to show\n",
            "159 re to show -> e to show \n",
            "160 e to show  ->  to show u\n",
            "161  to show u -> to show us\n",
            "162 to show us -> o show us \n",
            "163 o show us  ->  show us h\n",
            "164  show us h -> show us ho\n",
            "165 show us ho -> how us how\n",
            "166 how us how -> ow us how \n",
            "167 ow us how  -> w us how b\n",
            "168 w us how b ->  us how ba\n",
            "169  us how ba -> us how bad\n",
            "170 us how bad -> s how badl\n",
            "171 s how badl ->  how badly\n",
            "172  how badly -> how badly \n",
            "173 how badly  -> ow badly w\n",
            "174 ow badly w -> w badly we\n",
            "175 w badly we ->  badly we \n",
            "176  badly we  -> badly we w\n",
            "177 badly we w -> adly we wa\n",
            "178 adly we wa -> dly we wan\n",
            "179 dly we wan -> ly we want\n",
            "180 ly we want -> y we want \n",
            "181 y we want  ->  we want t\n",
            "182  we want t -> we want th\n",
            "183 we want th -> e want thi\n",
            "184 e want thi ->  want thin\n",
            "185  want thin -> want thing\n",
            "186 want thing -> ant things\n",
            "187 ant things -> nt things.\n"
          ]
        }
      ]
    },
    {
      "cell_type": "code",
      "source": [
        "# 출력해서 한 칸씩 쉬프트된 것 확인하기!\n",
        "\n",
        "# 코드 시행할 때마다 인덱스 붙는게 계속 달라짐.\n",
        "# 이전 코드에서 world_set을 sorted() 함수를 써서 정렬하면 인덱스가 정해진 순서로 고정됨\n",
        "\n",
        "print(x_data[0])\n",
        "print(y_data[0])"
      ],
      "metadata": {
        "colab": {
          "base_uri": "https://localhost:8080/"
        },
        "id": "XVFlILiOixdc",
        "outputId": "77d0827d-caf2-4734-8207-3c2b9b35dbab"
      },
      "execution_count": null,
      "outputs": [
        {
          "output_type": "stream",
          "name": "stdout",
          "text": [
            "[11, 2, 20, 7, 4, 21, 14, 0, 22, 22]\n",
            "[2, 20, 7, 4, 21, 14, 0, 22, 22, 9]\n"
          ]
        }
      ]
    },
    {
      "cell_type": "code",
      "source": [
        "##6. 입력 시퀀스에 대해 원핫인코딩 수행\n",
        "\n",
        "## 문제(4) : x_data를 원핫인코딩 > numpy의 eye를 쓸 수 있지 않을까?\n",
        "\n",
        "x_data_np = np.array(x_data)\n",
        "x_one_hot = np.eye(len(vocab))[x_data_np] #len(vocab) 크기의 identity matrix 형성. 인덱스별로 대응 -> one hot 인코딩!\n",
        "\n",
        "##7. 입력 데이터, 레이블데이터 텐서로 변환\n",
        "\n",
        "## 문제(5) : x_one_hot과 y_data 텐서로 변환 : 둘 다 같은 형식의 텐서로 변환하면 될까?? (FloatTensor, LongTesor 중 맞는 것은?)\n",
        "X = torch.FloatTensor(x_one_hot)## 신경망의 가중치와 편향이 일반적으로 부동소수점 형태로 저장되어 있음.\n",
        "Y = torch.LongTensor(y_data) # 레이블은 주로 클래스 또는 카테고리를 나타냄, 어느정도 관례!"
      ],
      "metadata": {
        "id": "5lPes1dvjlNb"
      },
      "execution_count": null,
      "outputs": []
    },
    {
      "cell_type": "code",
      "source": [
        "##8. 크기 확인\n",
        "print('훈련 데이터의 크기 : {}'.format(X.shape))\n",
        "print('레이블의 크기 : {}'.format(Y.shape))"
      ],
      "metadata": {
        "colab": {
          "base_uri": "https://localhost:8080/"
        },
        "id": "lMZzZlaymMk8",
        "outputId": "89b80301-a472-445d-f09e-56dc947152c1"
      },
      "execution_count": null,
      "outputs": [
        {
          "output_type": "stream",
          "name": "stdout",
          "text": [
            "훈련 데이터의 크기 : torch.Size([188, 10, 26])\n",
            "레이블의 크기 : torch.Size([188, 10])\n"
          ]
        }
      ]
    },
    {
      "cell_type": "code",
      "source": [
        "##9.원핫인코딩 결과 샘플 확인하기\n",
        "print(X[0])"
      ],
      "metadata": {
        "colab": {
          "base_uri": "https://localhost:8080/"
        },
        "id": "knx1DE_AmSFB",
        "outputId": "945b229e-706e-4f9b-9c66-b0f1efec1279"
      },
      "execution_count": null,
      "outputs": [
        {
          "output_type": "stream",
          "name": "stdout",
          "text": [
            "tensor([[0., 0., 0., 0., 0., 0., 0., 0., 0., 0., 0., 1., 0., 0., 0., 0., 0., 0.,\n",
            "         0., 0., 0., 0., 0., 0., 0., 0.],\n",
            "        [0., 0., 1., 0., 0., 0., 0., 0., 0., 0., 0., 0., 0., 0., 0., 0., 0., 0.,\n",
            "         0., 0., 0., 0., 0., 0., 0., 0.],\n",
            "        [0., 0., 0., 0., 0., 0., 0., 0., 0., 0., 0., 0., 0., 0., 0., 0., 0., 0.,\n",
            "         0., 0., 1., 0., 0., 0., 0., 0.],\n",
            "        [0., 0., 0., 0., 0., 0., 0., 1., 0., 0., 0., 0., 0., 0., 0., 0., 0., 0.,\n",
            "         0., 0., 0., 0., 0., 0., 0., 0.],\n",
            "        [0., 0., 0., 0., 1., 0., 0., 0., 0., 0., 0., 0., 0., 0., 0., 0., 0., 0.,\n",
            "         0., 0., 0., 0., 0., 0., 0., 0.],\n",
            "        [0., 0., 0., 0., 0., 0., 0., 0., 0., 0., 0., 0., 0., 0., 0., 0., 0., 0.,\n",
            "         0., 0., 0., 1., 0., 0., 0., 0.],\n",
            "        [0., 0., 0., 0., 0., 0., 0., 0., 0., 0., 0., 0., 0., 0., 1., 0., 0., 0.,\n",
            "         0., 0., 0., 0., 0., 0., 0., 0.],\n",
            "        [1., 0., 0., 0., 0., 0., 0., 0., 0., 0., 0., 0., 0., 0., 0., 0., 0., 0.,\n",
            "         0., 0., 0., 0., 0., 0., 0., 0.],\n",
            "        [0., 0., 0., 0., 0., 0., 0., 0., 0., 0., 0., 0., 0., 0., 0., 0., 0., 0.,\n",
            "         0., 0., 0., 0., 1., 0., 0., 0.],\n",
            "        [0., 0., 0., 0., 0., 0., 0., 0., 0., 0., 0., 0., 0., 0., 0., 0., 0., 0.,\n",
            "         0., 0., 0., 0., 1., 0., 0., 0.]])\n"
          ]
        }
      ]
    },
    {
      "cell_type": "code",
      "source": [
        "##10. 레이블 데이터 샘플 확인하기\n",
        "print(Y[0])"
      ],
      "metadata": {
        "colab": {
          "base_uri": "https://localhost:8080/"
        },
        "id": "6pWDiH1SmYT_",
        "outputId": "673c3d20-d7f9-46fb-e9a6-0ae86b3fea9d"
      },
      "execution_count": null,
      "outputs": [
        {
          "output_type": "stream",
          "name": "stdout",
          "text": [
            "tensor([ 2, 20,  7,  4, 21, 14,  0, 22, 22,  9])\n"
          ]
        }
      ]
    },
    {
      "cell_type": "code",
      "source": [
        "##11. RNN 모델 구현\n",
        "\n",
        "##문제(6) : 기본 pytorch 인자 넣기 연습 + forward 채우기\n",
        "### 조건 : rnn layer 2개 쌓기 + 마지막은 fc layer\n",
        "### batch_first 설정 필요할까? (유튜브 강의 참고)\n",
        "\n",
        "class Net(torch.nn.Module):\n",
        "  def __init__(self, input_dim, hidden_dim, layers):\n",
        "    super(Net, self).__init__()\n",
        "    self.rnn = torch.nn.RNN(input_dim,\n",
        "                            hidden_dim,\n",
        "                            layers,\n",
        "                            batch_first = True,\n",
        "                            )\n",
        "    self.fc = torch.nn.Linear(hidden_dim, input_dim) # ??? fully conneceted layer 차원 어떻게 구성하는지, 아직 원리 이해 x\n",
        "\n",
        "  def forward(self, x):\n",
        "    # First RNN layer\n",
        "    x, _ = self.rnn(x)\n",
        "\n",
        "    # Second RNN layer\n",
        "    x, _ = self.rnn(x)\n",
        "\n",
        "    # Fully connected layer\n",
        "    x = self.fc(x)\n",
        "\n",
        "    return x"
      ],
      "metadata": {
        "id": "-Ww22xu8mfUc"
      },
      "execution_count": null,
      "outputs": []
    },
    {
      "cell_type": "code",
      "source": [
        "net = Net(vocab_size, hidden_size, 2)"
      ],
      "metadata": {
        "id": "No2GRvTpnLBl"
      },
      "execution_count": null,
      "outputs": []
    },
    {
      "cell_type": "code",
      "source": [
        "##12. loss function\n",
        "criterion = torch.nn.CrossEntropyLoss()\n",
        "\n",
        "##13. optimizer\n",
        "optimizer = optim.Adam(net.parameters(), learning_rate)"
      ],
      "metadata": {
        "id": "9-zuJLeUnQLB"
      },
      "execution_count": null,
      "outputs": []
    },
    {
      "cell_type": "code",
      "source": [
        "##14. 출력 크기 점검\n",
        "outputs = net(X)\n",
        "print(outputs.shape)"
      ],
      "metadata": {
        "colab": {
          "base_uri": "https://localhost:8080/"
        },
        "id": "z-RxRaiHnh9U",
        "outputId": "2f20ebe6-717f-4e67-fcf6-295ee8041b11"
      },
      "execution_count": null,
      "outputs": [
        {
          "output_type": "stream",
          "name": "stdout",
          "text": [
            "torch.Size([188, 10, 26])\n"
          ]
        }
      ]
    },
    {
      "cell_type": "code",
      "source": [
        "##15. Training 시작\n",
        "\n",
        "for i in range(100):\n",
        "    optimizer.zero_grad()\n",
        "    outputs = net(X)\n",
        "    ##문제(7) : outputs, Y 형태 그대로 넣으면 안되죠. view 함수를 이용해 loss값을 계산해봅시다.\n",
        "    #loss = criterion(outputs.view(##, ##), Y.view(##))\n",
        "    loss = criterion(outputs.view(-1, vocab_size), Y.view(-1)) # criterion 손실함수 - 크로스엔트로피\n",
        "    loss.backward()\n",
        "    optimizer.step()\n",
        "\n",
        "    #16. 예측결과 확인\n",
        "    results = outputs.argmax(dim=2)\n",
        "    predict_str = \"\"\n",
        "    for j, result in enumerate(results):\n",
        "        if j == 0: # 처음에는 예측 결과를 전부 가져오기\n",
        "            predict_str += ''.join([world_set[t] for t in result])\n",
        "        else: # 그 다음에는 마지막 글자만 반복 추가\n",
        "            predict_str += world_set[result[-1]]\n",
        "\n",
        "    print(predict_str)"
      ],
      "metadata": {
        "colab": {
          "base_uri": "https://localhost:8080/"
        },
        "id": "uxxrxCd2nwoo",
        "outputId": "1733a709-424e-449c-e781-d45cb2749fc4"
      },
      "execution_count": null,
      "outputs": [
        {
          "output_type": "stream",
          "name": "stdout",
          "text": [
            "wwwwwwwwwwwwwwwwwwwwwwwwwwwwwwwwwwwwwwwwwwwwwwwwwwwwwwwwwwwwwwwwwwwwwwwwwwwwwwwwwwwwwwwwwwwwwwwwwwwwwwwwwwwwwwwwwwwwwwwwwwwwwwwwwwwwwwwwwwwwwwwwwwwwwwwwwwwwwwwwwwwwwwwwwwwwwwwwwwwwwwwwwwwwwwwwwwwww\n",
            "       w w       w                                                    w   w w     w                                                            w   w w       w                w w                w   \n",
            "                                                                                                                                                                                                     \n",
            "                                                                                                                                                                                                     \n",
            "                                                                                                                                                                                                     \n",
            "                                                                                                                                                                                                     \n",
            "                                                                                                                                                                                                     \n",
            "                                                                                                                                                                                                     \n",
            "                                                                                                                                                                                                     \n",
            "                                                                                                                                                                                                     \n",
            "                                                                                                                                                                                                     \n",
            "                                                                                                                                                                                                     \n",
            "                                                                                                                                                                                                     \n",
            "                                                                                                                                                                                                     \n",
            "                                                                                                                                                                                                     \n",
            "                                                                                                                                                                                                     \n",
            "                                                                                                                                                                                                     \n",
            "                                                                                                                                                                                                     \n",
            "                                                                                                                                                                                                     \n",
            "                                                                                                                                                                                                     \n",
            "                                                                                                                                                                                                     \n",
            "                                                                                                                                                                                                     \n",
            "                                                                                                                                                                                                     \n",
            "                                                                                                                                                                                                     \n",
            "                                                                                                                                                                                                     \n",
            "                                                                                                                                                                                               h     \n",
            "                                                h              h                  h   h                                   h             h                                                      h     \n",
            "           a                                    h   h  h ah    h              a   h   h       a  a                        h    a  a     h              a            a  a                       h  h  \n",
            "           a      a  t                t  a    h h h h  h ah    h a            a   h h h a  t  a  a       h        h    t  h    a  a     h a            a      a  t  a  a                       h th  \n",
            "         t a      ah t                t  a    h h h h th th    h t          t a   h h h th t  a  a       h t  h h h t  t  h t  a  ah    h t          t a      ah t  a  a        a              h th  \n",
            "      a  t a   t  a  t   a      t     t  a  a h h h h th th    h t       a  t a   h h h t  t  a  a  a  a h t    h h t  t  h t  a  a     h t       a  t a   t  a  t  a  a a   a  a   t aaaaa    h th  \n",
            " h h ta  t a   t  a  t   a  h h t     t  a  a h h h h t  th    h t    h ta  t a   h h h t  t  a  a  a  a h t    h h t  t  h t  a  ah    h t    h ta  t a   t  a  t  a  a a   a  a   t taaaa    h t   \n",
            " h h ta  t a h s  a  s   a  h   t     s  a  a h h h h t  th t  h t      ta  t a h h h h t  s  a  a  a  a h s    h h t  s  h t  a  a  t  h t      ta  t a h s  a  s  a  aaaa  s aa   t aaaaa    h t  t\n",
            " h h ta  s a h s  a  s   a  h   t ta  s  aa a   h h h s  ah s  h a a    ta  s a h h h h a  s  a  s  a  a h s    h h s  s  h s  a  a  s  h a a    ta  s a h s  a  s  a  aaaa  s aaa  s aaaaa    h s  t\n",
            " h h ta  s aa  s  a  s   a  h s t ts  s  aa a   h h h s  ah s  h aaa    ta  s aa  h h h a  s  a  s  a  s h s    h h s  s  h s  a  ah s  h aaa    ta  s aa  s  a  s  a  saaa  s aaa  s aaaaa    h s  s\n",
            "   h aa  s aa  s  a  s   a  h s t ts  s  aa a   h h h s  ah s  h aaa    aa  s aa  h h h a  s  a  s  a  s h s s    h s  s  h s  a  ah s  h aaa    aa  s aa  s  a  s  a  saaa  s aaa  s aaaaa    h s  s\n",
            "   h aa  s aa  s  s  s t as h s t as  s  aa a  th h h s  ah s  h aaa    aa  s aa  h h h a  s  a  s aa  s h s s th h s  s  h s  a  ah s  h aaa    aa  s aa  s  s  s  a  saaa  s aaa  s aaaaa    h t  s\n",
            "   h aa  s aa  s  t  s t asah s t as  s  aa s  ah h h t  ah s  h taa    aa  s aa  h h h t  s  a  s aa  s h s s th h t  s  h t  a  ah s  h taa    aa  s aa  s  t  s  a  saaa  s aaa  s aaaaa    h t  t\n",
            "   h ta  s aa  s  t  s t a ah s t aa  s ta  s  th h h t  ah s  h taa  h ta  s aa  h h h t  s  t  s aa tsah s s t  h t  s th t ta  th s  h taa  h ta  s aa  s  t  s  t  taaah s aaa  t aaaaa    h t  t\n",
            "   h ta  s aa  s  t  s t aaa  s t aa  s aa  s  th h h t  th t  h taa  h ta  s aa  h h h t  s  t  s ar tsah sas t  h t ts th t ta  th t  h taa  h ta  s aa  s  t  s  t  tarah s ara  t aaaaa   th t  t\n",
            "   h ta  s ar  s  t  s t rra  s t aah s aa  s  th hth t  th t th taa  k ta  s ar  h h h t  s  t  s as trah sas t  h t ts th t ta  t  t th taa  k ta  s ar  s  t  s  t  tarah s ara  t aaraa   th t  t\n",
            "   k aa  s ar ts  t  s t ara  s t arh s uu.unh ah hth t  th t th tra  k ta  s ar th hth t  s  t  s as trrh sa  t  h t ts th t ta  th t th tra  k ta  s ar ts  t  s  t  tarah s ara  t arrar   th t  t\n",
            "   k ar  s ar ts  t  s t asah s t ar  s ar  s  th hth t  th t th tra  k ar  s ar th hth t  s  s  s ts trrh sa  t  h t ts th t ta  th t th tra  k ar  s ar ts  t  s  s  tarahts ara  t arrrr   th t  t\n",
            "   k ar  s ar  s et  s t asah s t ar  s ar  s  th hth t  th t  h tra  k ar  s ar  h hth t  s  s  s as trrh sa  t  h t ts th t ta  ahet  h tra  k ar  s ar  s et  s  s  tarahtsrara  t arrrr   th t  t\n",
            "   k ar  s ar  s et  s t arah s t ar  s ar  s  th hthet  thet  hetra  k ar  s ar  h hth t  s  s  s as trrh sa  t  het ts th t ta  thes  hetra  k ar  s ar  s et  s  s  tarahtsrara  t arrrr   th t  t\n",
            "   k ar  s ar  s et  s t arah s t ar  s ar  s  ah hthet  thes  hetra  k ar  s ar  h hth t  s  s  s as trrh s   t  het  s th t ta  thes  hetra  k ar  s ar  s et  s  s  tarah srara  t arrrr   th t  t\n",
            "   k ar  s ar  s et  s r arah s t ar  s ar  s  ah hthes  thes  hetra  k ar  s ar  k hth t  s  s  s as arrh s s a ahet  s th s aa  thes  hetra  k ar  s ar  s et  s  s  tarah srarak s arrra   th t  t\n",
            "   k ar  s ar  s et  s a arah s t ar  s ar  s  ah hthes  ahes  hetra  k ar  s ar  k hth t  s  s  s as arrh s s a ahet  s thes aa  ahes  hetra  k ar  s ar  s et  s  s  tarah srarak s arrras  thet  t\n",
            "   k ar  s ar  s et  s a arah s t ar  s ar  s  ah hthet  ahes  hetra  k ar  s ar  k hthet  s  s  s as trrhes s t ahet  s thes aa  thes thetra  k ar  s ar  s et  s  s  trrah rrarak s arrras  thet  t\n",
            " e k ar  s ar  s et  s a ara  s t ar  s ar  s  thththet  ahes thetra  k ar  s ar  k hthet  s  s  s as  rrhes s t ahet  s thet aa  ahes thetra  k ar  s ar  s et  s  s  trra  rrara  t arrras  thet  k\n",
            " e k ar  s ar  s et  s a ara  t t ar  s ar  s  thththet  ahet the ta  k ar  s ar  k hthete s es  s as  rrhes k t ahet  s thet aa  thet the ta  k ar  s ar  s et  s es  trra  rtara  t arrras  thet   \n",
            " e k ar  s ar  s ete s a ara  t t ar  s ar  s  thththet  ahet the tae k ar  s ar  k hthere s es  s as  rrhes k traher  s thet ta  thet the tae k ar  s ar  s ete s es  trra  rtara  t arrrar  thet  h\n",
            " e k ar  s ar  shete s a ara  t t ar  s ar  s  thththet  ahet the tae k ar  s ar  k hthere s  s  s as  rrhes s trahere s thet aa  ahet the tae k ar  s ar  shete sh s  arrr  rtarr  t arrrrr  thet  h\n",
            " e k ar  s ar  shete s a ara  t t ar  s arb s  ththther  thet the tae k tr  s ar  k hthere sh s  s as  rrhes k trahere s  hes ar  thet the tae k tr  s ar  shete sh s  arrr  rtarr  t arrrrr  thete h\n",
            " e k ar  s ar  shete s w ara  t t ar  s arb s  ththther  thet the bae k tr  s ar  k hthere sh s  s as  rrh s s trahere s thes arb ahet the bae k tr  s ar  shete sh s  arrr  rtarrk t arrrrr  there h\n",
            " e k tr  s are shere t w ara  t t ar  t wrb s  thththere thet the tue k tr  s are k hthere t  s  s as  rr  s s trthere s thes ar  thet the tue k tr  s are shere th s  trrr  rt sak t arrrrb  there k\n",
            " e k tr  s are shere t w ara  t t ar  t wrbus  thththere thet the bue k tr  s are k hthere t  s  t as  rr  sus t ahere s thes aab whet the bue k tr  s are shere th s  trrr  ab rrk t wrrrrr  there k\n",
            " e k trl s are shere t w ara  t t are t wrbus  thththere thet the bue k trl s are k hthe e th sh t as  rr  sus t t ere s thes aas whet the bue k trl s are shere th sh trrr   t sak t wrarar  there k\n",
            " e k trl s are there t w arae s t are t wrsus  thththere thet the bue k trl s are k  the e th sh t as  rr  sus t t ere s thes was whet the bue k trl s are there th sh trrae  t sak t wraras  ther  k\n",
            " e k trl s are there t w arae s w are t wrsus  ththther  thet the wre k tal s are k  there t  sh t as  rr  tus t t ere sethet was whet the wre k tal s are there th sh trra   t srk s wrarar  thet  k\n",
            " e k trl s are there tow arae s a are towayus  thththere thet the bue k tal s are k  the e t  sh t as  rae tus t t ere sethet was whet the bue k tal s are there th sh tara   t srk y waarash thet  e\n",
            " e k trl s are there tow arae s a are towayus  thththere thet the bue k trlls are k  the e t  sh t as  aae tus t t ere sethet wak whet the bue k trlls are there th sh tara   t srk y waaaash thet  e\n",
            " e k wrlls are there tow arae s a are yowayus  thththere thet the bre k wrlls are k  there th sh t as  ra  tus t t eretsethet was whet the bre k wrlls are there th sh t ra   t wrk y waaaarh thet  e\n",
            " e k wr ls wre there tow arae s a are youayus  thththere thet the bre k wrlls wre k  there th th s as  ra  tus t t eretsethet tak whet the bre k wrlls wre there th th t ra   t srk y waawarh then  e\n",
            " e k walls wre there tow arae s a ar  youabus  tht ther  thet the bre k walls wre k  there t  th s us  rah tus t t eretrethet tak whet the bre k walls wre there th th t wa   t brk y waawarh then  k\n",
            " e k walls wre there tow arae s a tr  yourbus  tht ther  thet the bre k walls wre k  there t  th s us  rah tus a theretrethet tak whet the bre k walls wre there th th w ua   t brk y wa war  then  k\n",
            " e k walls wre there tor arae s a trd yourbus  tht there thet the bue k walls wre '  there t  th s us  uah tus t t eretrethen tak whet the bue k walls wre there th th r ua   t brk y w  bar  there  \n",
            " e k walls wre there tor arae s r tsd yourbus  tht thene thet the bre k walls wre '  there t  th s us  uah tus ratheretsethet tak whet the bre k walls wre there th th w ua   t brk y w  bar  thend k\n",
            " e k walls wre there tor araert r trd yourbus  tht therd thet the bre k walls wre '  there t  th s us  urh tus t theretsethen tak whet the bre k walls wre there to th w ua   t brkls w  bar  thend  \n",
            " eck walls are there tor araert r tsd you bus  tht therd thet the bre k walls are '  there to th s us  urh tus t thereesethen tak whet the bre k walls are there to th w ua  ot brk y w  bare thend  \n",
            " eck walls are there tor ataeat r tsd you bus  tht therd thet the breck walls are 't there to th s us  urh tus rathereesethen tak whet the breck walls are there to th w ua  ot brk y w  bard thend  \n",
            " eck walls are there tor a aert n tsd you bus  tht therd thet the breck walls are 't there to th s us  ush tus rat ereesethen tay whet the breck walls are there to th w ua  ot brdly w  bar  therd  \n",
            "aeck walls are there tor a aeat n tsd you bus  tht there thet the breck walls are 't there to th s us  ush tut ratherees thes tak ahet the breck walls are there to th w ua  ow bakly w  bar  thend  \n",
            "aeck walls are there tor a aeat n tnd you bus  tht there thet the breck walls are 't there to te s us  ush tut natherees thes tal ahet the breck walls are there to th w ua  ow badly w  bar  thend  \n",
            "aeck walls are there tor a ueat n trd you bus  tot there thet the breck walls are 't there to te s us  ush tut n therees thes tal whet the breck walls are there to th w ua  ow badly w  bar  thend  \n",
            "aeck walls are there tor a ueat n tnd you bust tot there thet the breck walls are 't there to te p us  use tus natherees thes tay whet the breck walls are there to th w ua  ow bakly wa bar  thend  \n",
            "aeck walls are there tor a ueat n trd you bust tot there thet the breck walls are 't there to te p us  ush tus natherees then way whet the breck walls are there to th w ua  ow badly wa bar  thend  \n",
            "aeck walls are there tor a ueat n trd you must tot there thet the breck walls are 't there to te p us outh bus nathereer then way whet the breck walls are there to th w ua oow badly wa bar  then t \n",
            "aeck walls are there tor a ueat n trd you must tot therd thtt the breck walls are 't there to te p us outh bus nathereen then way whet the breck walls are there to th w ua oow badly wa war  then n \n",
            "aeck walls are there tor a ueaton trd you must wht third that the breck walls are 't there to te p us outh but nathereen ahen way whet the breck walls are there to th w ua oow badly wa wan  theng  \n",
            "aeck walls are there tor a ueaton trd you must wot thir  that the breck walls are 't there to se p us outh but natherein ahen way whet the breck walls are there to sh w ua oow badly wa wan  thenhrd\n",
            "aeck walls are there tor a reaton trd you must wot thir  that the breck walls are 't there to se p us outh but natherein then way whet the breck walls are there to sh w ua oow badly wa wan  thengn \n",
            "reck walls are there tor a reaton ard you must wot thin  that the breck walls are 't there to se p us outh but natherein thin way whet the breck walls are there to sh w ua oow badly wa wank thengnd\n",
            "aeck walls are there tor a reaton ard you must wot thir  that the breck walls are 't there to te p us outh but natherein thin way whet the breck walls are there to thow ua oow badly we wank thengnd\n",
            "aeck walls are there tor a reason and you must wot thin  that the breck walls are 't there to te p us outh but natherein thin way what the breck walls are there to thow ua oow badly we wank thingrd\n",
            "aeck walls are there tor a reason ard you must not think that the breck walls are 't there to te p us outh but natherein then way thet the breck walls are there to thow ua oow badly we wank thendt \n",
            "aeck walls are there tor a reason and you must not thind that the breck walls are 't there to te p us outh but natherein thin way what the breck walls are there to thow ua oow badly we wank thingr \n",
            "aeck walls are there tor a reason and you must not think that the breck walls are 't there to te p us outh but ratherein thin way that the breck walls are there to thow us oow badly we wank thingn \n",
            "aeck walls are there tor a reason and you must not think that the breck walls are 't there to se p us outh but ratherein thin way thet the breck walls are there to show us oow badly we wank thingr \n",
            "aeck walls are there tor a reason and you must not think that the breck walls are 't there to se p us outh but ratherein thin way that the breck walls are there to show us oow badly we wank thitgn \n",
            "aeck walls are there tor a reason and you must not think that the breck walls are 't there to se p us outh but ratherein thin way that the breck walls are there to show us how badly we want thengnd\n",
            "aeck walls are there tor a reason and you must not think that the breck walls are 't there to se p us outh but rather in thin way that the breck walls are there to show us how badly we want thingsd\n",
            "aeck walls are there tor a reason and you must not think that the breck walls are 't there to se p us outh but rather in this way that the breck walls are there to show us how badly we want thitgsd\n",
            "aeck walls are there tor a reason and you must not think that the breck walls are 't there to se p us outh but rather in thin way that the breck walls are there to show us how badly we want thindsd\n",
            "aeck walls are there tor a reason and you must not think that the breck walls are 't there to se p us outh but rather in this way that the breck walls are there to show us how badly we want thingst\n",
            "aeck walls are there tor a reason and you must not think that the brick walls are 't there to se p us outh but rather in this way that the brick walls are there to show us how badly we want thingst\n",
            "aeck walls are there tor a reason and you must not think that the brick walls are 't there to se p us out, but rather in thin way that the brick walls are there to show us how badly we want thingsd\n",
            "aeck walls are there tor a reason and you must not think that the brick walls are 't there to seep us out, but rather in this way that the brick walls are there to show us how badly we want thingsd\n",
            "aeck walls are there tor a reason and you must not think that the brick walls are 't there to seep us out, but rather in this way that the brick walls are there to show us how badly we want thingsd\n",
            "aeck walls are there tor a reason and you must not think that the brick walls are 't there to seep us out, but rather in this way that the brick walls are there to show us how badly we want thingsl\n"
          ]
        }
      ]
    },
    {
      "cell_type": "code",
      "source": [
        "predict_str"
      ],
      "metadata": {
        "colab": {
          "base_uri": "https://localhost:8080/",
          "height": 72
        },
        "id": "8qUkbiw2t0Il",
        "outputId": "34bf1b7a-e832-4095-a9fd-d0e494208d0a"
      },
      "execution_count": null,
      "outputs": [
        {
          "output_type": "execute_result",
          "data": {
            "text/plain": [
              "\"aeck walls are there tor a reason and you must not think that the brick walls are 't there to seep us out, but rather in this way that the brick walls are there to show us how badly we want thingsl\""
            ],
            "application/vnd.google.colaboratory.intrinsic+json": {
              "type": "string"
            }
          },
          "metadata": {},
          "execution_count": 45
        }
      ]
    },
    {
      "cell_type": "markdown",
      "source": [
        "결과가 어떤가요?? 마지막 에폭의 문장이 그럴싸한가요?"
      ],
      "metadata": {
        "id": "PkIzDTdyvTHz"
      }
    },
    {
      "cell_type": "markdown",
      "source": [
        "## Task2\n",
        "\n",
        "위 sentence는 제가 임의로 생성한 문장들입니다.\n",
        "\n",
        "마음에 드시는 문구 가져오셔서 문장이 어떻게 생성되는지 확인해보세요!\n",
        "\n",
        "영어가 아닌 한국어로 시도해보는 것도 좋겠죠?\n",
        "\n",
        "수정이 많이 필요(토큰화 등) 할 수 있으나 한번 시도해보시는 것 권장드립니다 :)\n",
        "\n",
        "위 베이스라인은 어디든 수정하셔도 좋고 조금 더 자연스러운 문장이 나올 수 있게 다양한 시도를 해보세요!\n",
        "\n",
        "조건 : 문장 3개 이상, 연결성이 있는 문장을 \" \" 으로 구분하여 ( )에 넣기"
      ],
      "metadata": {
        "id": "kN1zL8Dpvane"
      }
    },
    {
      "cell_type": "code",
      "source": [
        "#스터디 참고하여 한국어로 시도!\n",
        "\n",
        "sentence = (\"사람은 누구나 몰입할 수 있는 능력을 가지고 있다.\"\n",
        "            \"위기 상황에서 몰입하기도 하고, 몰입이 주는 즐거움 때문에 번지점프와 같은 가상의 위기 상황을 만들어 일부러 몰입을 추구하기도 한다.\"\n",
        "            \"그런데 이왕이면 업무나 학습 활동에 몰입하여 높은 기량도 쌓고 즐거움도 얻는 게 더 좋을 것이다.\"\n",
        "            \"이것은 삶에서 대단히 중요한 문제이고 이 방법을 터득하면 삶의 행복을 찾을 수 있다.\"\n",
        "            )"
      ],
      "metadata": {
        "id": "IKp-lKrjvXR9"
      },
      "execution_count": 1,
      "outputs": []
    },
    {
      "cell_type": "code",
      "source": [
        "pip install konlpy"
      ],
      "metadata": {
        "colab": {
          "base_uri": "https://localhost:8080/"
        },
        "id": "gZD0nuK9jouL",
        "outputId": "60f9988a-d30d-4236-df7a-c925bd259422"
      },
      "execution_count": 2,
      "outputs": [
        {
          "output_type": "stream",
          "name": "stdout",
          "text": [
            "Collecting konlpy\n",
            "  Downloading konlpy-0.6.0-py2.py3-none-any.whl (19.4 MB)\n",
            "\u001b[2K     \u001b[90m━━━━━━━━━━━━━━━━━━━━━━━━━━━━━━━━━━━━━━━━\u001b[0m \u001b[32m19.4/19.4 MB\u001b[0m \u001b[31m41.4 MB/s\u001b[0m eta \u001b[36m0:00:00\u001b[0m\n",
            "\u001b[?25hCollecting JPype1>=0.7.0 (from konlpy)\n",
            "  Downloading JPype1-1.5.0-cp310-cp310-manylinux_2_17_x86_64.manylinux2014_x86_64.whl (488 kB)\n",
            "\u001b[2K     \u001b[90m━━━━━━━━━━━━━━━━━━━━━━━━━━━━━━━━━━━━━━━━\u001b[0m \u001b[32m488.6/488.6 kB\u001b[0m \u001b[31m45.3 MB/s\u001b[0m eta \u001b[36m0:00:00\u001b[0m\n",
            "\u001b[?25hRequirement already satisfied: lxml>=4.1.0 in /usr/local/lib/python3.10/dist-packages (from konlpy) (4.9.4)\n",
            "Requirement already satisfied: numpy>=1.6 in /usr/local/lib/python3.10/dist-packages (from konlpy) (1.25.2)\n",
            "Requirement already satisfied: packaging in /usr/local/lib/python3.10/dist-packages (from JPype1>=0.7.0->konlpy) (23.2)\n",
            "Installing collected packages: JPype1, konlpy\n",
            "Successfully installed JPype1-1.5.0 konlpy-0.6.0\n"
          ]
        }
      ]
    },
    {
      "cell_type": "code",
      "source": [
        "import konlpy\n",
        "from konlpy.tag import Okt, Mecab"
      ],
      "metadata": {
        "id": "RgBXzANzjuov"
      },
      "execution_count": 3,
      "outputs": []
    },
    {
      "cell_type": "code",
      "source": [
        "tokenizer=Okt()\n",
        "print(tokenizer.morphs(sentence))"
      ],
      "metadata": {
        "id": "oEBDRDfOjxLo",
        "colab": {
          "base_uri": "https://localhost:8080/"
        },
        "outputId": "3298df61-09a8-49a2-e2bd-b011aa8350c1"
      },
      "execution_count": 4,
      "outputs": [
        {
          "output_type": "stream",
          "name": "stdout",
          "text": [
            "['사람', '은', '누구', '나', '몰입', '할', '수', '있는', '능력', '을', '가지', '고', '있다', '.', '위기', '상황', '에서', '몰입', '하기도', '하고', ',', '몰입', '이', '주는', '즐거움', '때문', '에', '번지점프', '와', '같은', '가상', '의', '위기', '상황', '을', '만들어', '일부러', '몰입', '을', '추구', '하기도', '한다', '.', '그런데', '이왕이면', '업무', '나', '학습', '활동', '에', '몰입', '하여', '높은', '기량', '도', '쌓고', '즐거움', '도', '얻는', '게', '더', '좋을', '것', '이다', '.', '이', '것', '은', '삶', '에서', '대단히', '중요한', '문제', '이고', '이', '방법', '을', '터득', '하면', '삶', '의', '행복', '을', '찾을', '수', '있다', '.']\n"
          ]
        }
      ]
    },
    {
      "cell_type": "code",
      "source": [
        "world_set = list(set(sentence)) # 중복 문자 제거\n",
        "\n",
        "## 문제(1): 각 문자에 정수 인코딩 (공백도 하나의 원소로 포함)\n",
        "# 코드 시행할 때마다 인덱스 붙는게 계속 달라짐.\n",
        "# world_set을 sorted() 함수를 써서 정렬하면 인덱스가 정해진 순서로 고정됨\n",
        "\n",
        "#vocab = {##}\n",
        "vocab = {world: idx for idx, world in enumerate(world_set)} # 딕셔너리 자료형에 key = 단어, value: 인덱스로 저장"
      ],
      "metadata": {
        "id": "cqgn-SmX75L_"
      },
      "execution_count": 5,
      "outputs": []
    },
    {
      "cell_type": "code",
      "source": [
        "vocab_size = len(vocab)\n",
        "print('문자 집합 크기 : {}'.format(vocab_size))"
      ],
      "metadata": {
        "colab": {
          "base_uri": "https://localhost:8080/"
        },
        "id": "UCH6VD798FL0",
        "outputId": "a62777c1-88e9-46d3-881f-de4891e7208b"
      },
      "execution_count": 6,
      "outputs": [
        {
          "output_type": "stream",
          "name": "stdout",
          "text": [
            "문자 집합 크기 : 85\n"
          ]
        }
      ]
    },
    {
      "cell_type": "code",
      "source": [
        "hidden_size = vocab_size\n",
        "sequence_length = 15\n",
        "learning_rate = 0.01"
      ],
      "metadata": {
        "id": "ay5C6zr48KOX"
      },
      "execution_count": 7,
      "outputs": []
    },
    {
      "cell_type": "code",
      "source": [
        "#5. seqence 길이 단위 자르기\n",
        "\n",
        "# 데이터 구성을 위한 리스트\n",
        "x_data = []\n",
        "y_data = []\n",
        "\n",
        "## 문제(2): 반복문 내에서의 인덱싱을 사용하여 sequence_length 값 단위로 샘플을 잘라 데이터 만들기, y_str은 x_str은 한 칸씩 쉬프트된 sequnce\n",
        "\n",
        "for i in range(0, len(sentence) - sequence_length):\n",
        "  x_str = sentence[i:i+sequence_length]\n",
        "  y_str = sentence[i+1: i+sequence_length + 1 ]\n",
        "  print(i, x_str, \"->\", y_str)\n",
        "\n",
        "  # x_str과 y_str이 문자집합에 해당하는 인덱스를 각각 x_data, y_data에 append\n",
        "  x_data.append([vocab[c] for c in x_str])\n",
        "  y_data.append([vocab[d] for d in y_str])"
      ],
      "metadata": {
        "colab": {
          "base_uri": "https://localhost:8080/"
        },
        "id": "h64lReEl8RBp",
        "outputId": "7d146c6c-954b-4699-b63e-901533a5985d"
      },
      "execution_count": 8,
      "outputs": [
        {
          "output_type": "stream",
          "name": "stdout",
          "text": [
            "0 사람은 누구나 몰입할 수 있 -> 람은 누구나 몰입할 수 있는\n",
            "1 람은 누구나 몰입할 수 있는 -> 은 누구나 몰입할 수 있는 \n",
            "2 은 누구나 몰입할 수 있는  ->  누구나 몰입할 수 있는 능\n",
            "3  누구나 몰입할 수 있는 능 -> 누구나 몰입할 수 있는 능력\n",
            "4 누구나 몰입할 수 있는 능력 -> 구나 몰입할 수 있는 능력을\n",
            "5 구나 몰입할 수 있는 능력을 -> 나 몰입할 수 있는 능력을 \n",
            "6 나 몰입할 수 있는 능력을  ->  몰입할 수 있는 능력을 가\n",
            "7  몰입할 수 있는 능력을 가 -> 몰입할 수 있는 능력을 가지\n",
            "8 몰입할 수 있는 능력을 가지 -> 입할 수 있는 능력을 가지고\n",
            "9 입할 수 있는 능력을 가지고 -> 할 수 있는 능력을 가지고 \n",
            "10 할 수 있는 능력을 가지고  ->  수 있는 능력을 가지고 있\n",
            "11  수 있는 능력을 가지고 있 -> 수 있는 능력을 가지고 있다\n",
            "12 수 있는 능력을 가지고 있다 ->  있는 능력을 가지고 있다.\n",
            "13  있는 능력을 가지고 있다. -> 있는 능력을 가지고 있다.위\n",
            "14 있는 능력을 가지고 있다.위 -> 는 능력을 가지고 있다.위기\n",
            "15 는 능력을 가지고 있다.위기 ->  능력을 가지고 있다.위기 \n",
            "16  능력을 가지고 있다.위기  -> 능력을 가지고 있다.위기 상\n",
            "17 능력을 가지고 있다.위기 상 -> 력을 가지고 있다.위기 상황\n",
            "18 력을 가지고 있다.위기 상황 -> 을 가지고 있다.위기 상황에\n",
            "19 을 가지고 있다.위기 상황에 ->  가지고 있다.위기 상황에서\n",
            "20  가지고 있다.위기 상황에서 -> 가지고 있다.위기 상황에서 \n",
            "21 가지고 있다.위기 상황에서  -> 지고 있다.위기 상황에서 몰\n",
            "22 지고 있다.위기 상황에서 몰 -> 고 있다.위기 상황에서 몰입\n",
            "23 고 있다.위기 상황에서 몰입 ->  있다.위기 상황에서 몰입하\n",
            "24  있다.위기 상황에서 몰입하 -> 있다.위기 상황에서 몰입하기\n",
            "25 있다.위기 상황에서 몰입하기 -> 다.위기 상황에서 몰입하기도\n",
            "26 다.위기 상황에서 몰입하기도 -> .위기 상황에서 몰입하기도 \n",
            "27 .위기 상황에서 몰입하기도  -> 위기 상황에서 몰입하기도 하\n",
            "28 위기 상황에서 몰입하기도 하 -> 기 상황에서 몰입하기도 하고\n",
            "29 기 상황에서 몰입하기도 하고 ->  상황에서 몰입하기도 하고,\n",
            "30  상황에서 몰입하기도 하고, -> 상황에서 몰입하기도 하고, \n",
            "31 상황에서 몰입하기도 하고,  -> 황에서 몰입하기도 하고, 몰\n",
            "32 황에서 몰입하기도 하고, 몰 -> 에서 몰입하기도 하고, 몰입\n",
            "33 에서 몰입하기도 하고, 몰입 -> 서 몰입하기도 하고, 몰입이\n",
            "34 서 몰입하기도 하고, 몰입이 ->  몰입하기도 하고, 몰입이 \n",
            "35  몰입하기도 하고, 몰입이  -> 몰입하기도 하고, 몰입이 주\n",
            "36 몰입하기도 하고, 몰입이 주 -> 입하기도 하고, 몰입이 주는\n",
            "37 입하기도 하고, 몰입이 주는 -> 하기도 하고, 몰입이 주는 \n",
            "38 하기도 하고, 몰입이 주는  -> 기도 하고, 몰입이 주는 즐\n",
            "39 기도 하고, 몰입이 주는 즐 -> 도 하고, 몰입이 주는 즐거\n",
            "40 도 하고, 몰입이 주는 즐거 ->  하고, 몰입이 주는 즐거움\n",
            "41  하고, 몰입이 주는 즐거움 -> 하고, 몰입이 주는 즐거움 \n",
            "42 하고, 몰입이 주는 즐거움  -> 고, 몰입이 주는 즐거움 때\n",
            "43 고, 몰입이 주는 즐거움 때 -> , 몰입이 주는 즐거움 때문\n",
            "44 , 몰입이 주는 즐거움 때문 ->  몰입이 주는 즐거움 때문에\n",
            "45  몰입이 주는 즐거움 때문에 -> 몰입이 주는 즐거움 때문에 \n",
            "46 몰입이 주는 즐거움 때문에  -> 입이 주는 즐거움 때문에 번\n",
            "47 입이 주는 즐거움 때문에 번 -> 이 주는 즐거움 때문에 번지\n",
            "48 이 주는 즐거움 때문에 번지 ->  주는 즐거움 때문에 번지점\n",
            "49  주는 즐거움 때문에 번지점 -> 주는 즐거움 때문에 번지점프\n",
            "50 주는 즐거움 때문에 번지점프 -> 는 즐거움 때문에 번지점프와\n",
            "51 는 즐거움 때문에 번지점프와 ->  즐거움 때문에 번지점프와 \n",
            "52  즐거움 때문에 번지점프와  -> 즐거움 때문에 번지점프와 같\n",
            "53 즐거움 때문에 번지점프와 같 -> 거움 때문에 번지점프와 같은\n",
            "54 거움 때문에 번지점프와 같은 -> 움 때문에 번지점프와 같은 \n",
            "55 움 때문에 번지점프와 같은  ->  때문에 번지점프와 같은 가\n",
            "56  때문에 번지점프와 같은 가 -> 때문에 번지점프와 같은 가상\n",
            "57 때문에 번지점프와 같은 가상 -> 문에 번지점프와 같은 가상의\n",
            "58 문에 번지점프와 같은 가상의 -> 에 번지점프와 같은 가상의 \n",
            "59 에 번지점프와 같은 가상의  ->  번지점프와 같은 가상의 위\n",
            "60  번지점프와 같은 가상의 위 -> 번지점프와 같은 가상의 위기\n",
            "61 번지점프와 같은 가상의 위기 -> 지점프와 같은 가상의 위기 \n",
            "62 지점프와 같은 가상의 위기  -> 점프와 같은 가상의 위기 상\n",
            "63 점프와 같은 가상의 위기 상 -> 프와 같은 가상의 위기 상황\n",
            "64 프와 같은 가상의 위기 상황 -> 와 같은 가상의 위기 상황을\n",
            "65 와 같은 가상의 위기 상황을 ->  같은 가상의 위기 상황을 \n",
            "66  같은 가상의 위기 상황을  -> 같은 가상의 위기 상황을 만\n",
            "67 같은 가상의 위기 상황을 만 -> 은 가상의 위기 상황을 만들\n",
            "68 은 가상의 위기 상황을 만들 ->  가상의 위기 상황을 만들어\n",
            "69  가상의 위기 상황을 만들어 -> 가상의 위기 상황을 만들어 \n",
            "70 가상의 위기 상황을 만들어  -> 상의 위기 상황을 만들어 일\n",
            "71 상의 위기 상황을 만들어 일 -> 의 위기 상황을 만들어 일부\n",
            "72 의 위기 상황을 만들어 일부 ->  위기 상황을 만들어 일부러\n",
            "73  위기 상황을 만들어 일부러 -> 위기 상황을 만들어 일부러 \n",
            "74 위기 상황을 만들어 일부러  -> 기 상황을 만들어 일부러 몰\n",
            "75 기 상황을 만들어 일부러 몰 ->  상황을 만들어 일부러 몰입\n",
            "76  상황을 만들어 일부러 몰입 -> 상황을 만들어 일부러 몰입을\n",
            "77 상황을 만들어 일부러 몰입을 -> 황을 만들어 일부러 몰입을 \n",
            "78 황을 만들어 일부러 몰입을  -> 을 만들어 일부러 몰입을 추\n",
            "79 을 만들어 일부러 몰입을 추 ->  만들어 일부러 몰입을 추구\n",
            "80  만들어 일부러 몰입을 추구 -> 만들어 일부러 몰입을 추구하\n",
            "81 만들어 일부러 몰입을 추구하 -> 들어 일부러 몰입을 추구하기\n",
            "82 들어 일부러 몰입을 추구하기 -> 어 일부러 몰입을 추구하기도\n",
            "83 어 일부러 몰입을 추구하기도 ->  일부러 몰입을 추구하기도 \n",
            "84  일부러 몰입을 추구하기도  -> 일부러 몰입을 추구하기도 한\n",
            "85 일부러 몰입을 추구하기도 한 -> 부러 몰입을 추구하기도 한다\n",
            "86 부러 몰입을 추구하기도 한다 -> 러 몰입을 추구하기도 한다.\n",
            "87 러 몰입을 추구하기도 한다. ->  몰입을 추구하기도 한다.그\n",
            "88  몰입을 추구하기도 한다.그 -> 몰입을 추구하기도 한다.그런\n",
            "89 몰입을 추구하기도 한다.그런 -> 입을 추구하기도 한다.그런데\n",
            "90 입을 추구하기도 한다.그런데 -> 을 추구하기도 한다.그런데 \n",
            "91 을 추구하기도 한다.그런데  ->  추구하기도 한다.그런데 이\n",
            "92  추구하기도 한다.그런데 이 -> 추구하기도 한다.그런데 이왕\n",
            "93 추구하기도 한다.그런데 이왕 -> 구하기도 한다.그런데 이왕이\n",
            "94 구하기도 한다.그런데 이왕이 -> 하기도 한다.그런데 이왕이면\n",
            "95 하기도 한다.그런데 이왕이면 -> 기도 한다.그런데 이왕이면 \n",
            "96 기도 한다.그런데 이왕이면  -> 도 한다.그런데 이왕이면 업\n",
            "97 도 한다.그런데 이왕이면 업 ->  한다.그런데 이왕이면 업무\n",
            "98  한다.그런데 이왕이면 업무 -> 한다.그런데 이왕이면 업무나\n",
            "99 한다.그런데 이왕이면 업무나 -> 다.그런데 이왕이면 업무나 \n",
            "100 다.그런데 이왕이면 업무나  -> .그런데 이왕이면 업무나 학\n",
            "101 .그런데 이왕이면 업무나 학 -> 그런데 이왕이면 업무나 학습\n",
            "102 그런데 이왕이면 업무나 학습 -> 런데 이왕이면 업무나 학습 \n",
            "103 런데 이왕이면 업무나 학습  -> 데 이왕이면 업무나 학습 활\n",
            "104 데 이왕이면 업무나 학습 활 ->  이왕이면 업무나 학습 활동\n",
            "105  이왕이면 업무나 학습 활동 -> 이왕이면 업무나 학습 활동에\n",
            "106 이왕이면 업무나 학습 활동에 -> 왕이면 업무나 학습 활동에 \n",
            "107 왕이면 업무나 학습 활동에  -> 이면 업무나 학습 활동에 몰\n",
            "108 이면 업무나 학습 활동에 몰 -> 면 업무나 학습 활동에 몰입\n",
            "109 면 업무나 학습 활동에 몰입 ->  업무나 학습 활동에 몰입하\n",
            "110  업무나 학습 활동에 몰입하 -> 업무나 학습 활동에 몰입하여\n",
            "111 업무나 학습 활동에 몰입하여 -> 무나 학습 활동에 몰입하여 \n",
            "112 무나 학습 활동에 몰입하여  -> 나 학습 활동에 몰입하여 높\n",
            "113 나 학습 활동에 몰입하여 높 ->  학습 활동에 몰입하여 높은\n",
            "114  학습 활동에 몰입하여 높은 -> 학습 활동에 몰입하여 높은 \n",
            "115 학습 활동에 몰입하여 높은  -> 습 활동에 몰입하여 높은 기\n",
            "116 습 활동에 몰입하여 높은 기 ->  활동에 몰입하여 높은 기량\n",
            "117  활동에 몰입하여 높은 기량 -> 활동에 몰입하여 높은 기량도\n",
            "118 활동에 몰입하여 높은 기량도 -> 동에 몰입하여 높은 기량도 \n",
            "119 동에 몰입하여 높은 기량도  -> 에 몰입하여 높은 기량도 쌓\n",
            "120 에 몰입하여 높은 기량도 쌓 ->  몰입하여 높은 기량도 쌓고\n",
            "121  몰입하여 높은 기량도 쌓고 -> 몰입하여 높은 기량도 쌓고 \n",
            "122 몰입하여 높은 기량도 쌓고  -> 입하여 높은 기량도 쌓고 즐\n",
            "123 입하여 높은 기량도 쌓고 즐 -> 하여 높은 기량도 쌓고 즐거\n",
            "124 하여 높은 기량도 쌓고 즐거 -> 여 높은 기량도 쌓고 즐거움\n",
            "125 여 높은 기량도 쌓고 즐거움 ->  높은 기량도 쌓고 즐거움도\n",
            "126  높은 기량도 쌓고 즐거움도 -> 높은 기량도 쌓고 즐거움도 \n",
            "127 높은 기량도 쌓고 즐거움도  -> 은 기량도 쌓고 즐거움도 얻\n",
            "128 은 기량도 쌓고 즐거움도 얻 ->  기량도 쌓고 즐거움도 얻는\n",
            "129  기량도 쌓고 즐거움도 얻는 -> 기량도 쌓고 즐거움도 얻는 \n",
            "130 기량도 쌓고 즐거움도 얻는  -> 량도 쌓고 즐거움도 얻는 게\n",
            "131 량도 쌓고 즐거움도 얻는 게 -> 도 쌓고 즐거움도 얻는 게 \n",
            "132 도 쌓고 즐거움도 얻는 게  ->  쌓고 즐거움도 얻는 게 더\n",
            "133  쌓고 즐거움도 얻는 게 더 -> 쌓고 즐거움도 얻는 게 더 \n",
            "134 쌓고 즐거움도 얻는 게 더  -> 고 즐거움도 얻는 게 더 좋\n",
            "135 고 즐거움도 얻는 게 더 좋 ->  즐거움도 얻는 게 더 좋을\n",
            "136  즐거움도 얻는 게 더 좋을 -> 즐거움도 얻는 게 더 좋을 \n",
            "137 즐거움도 얻는 게 더 좋을  -> 거움도 얻는 게 더 좋을 것\n",
            "138 거움도 얻는 게 더 좋을 것 -> 움도 얻는 게 더 좋을 것이\n",
            "139 움도 얻는 게 더 좋을 것이 -> 도 얻는 게 더 좋을 것이다\n",
            "140 도 얻는 게 더 좋을 것이다 ->  얻는 게 더 좋을 것이다.\n",
            "141  얻는 게 더 좋을 것이다. -> 얻는 게 더 좋을 것이다.이\n",
            "142 얻는 게 더 좋을 것이다.이 -> 는 게 더 좋을 것이다.이것\n",
            "143 는 게 더 좋을 것이다.이것 ->  게 더 좋을 것이다.이것은\n",
            "144  게 더 좋을 것이다.이것은 -> 게 더 좋을 것이다.이것은 \n",
            "145 게 더 좋을 것이다.이것은  ->  더 좋을 것이다.이것은 삶\n",
            "146  더 좋을 것이다.이것은 삶 -> 더 좋을 것이다.이것은 삶에\n",
            "147 더 좋을 것이다.이것은 삶에 ->  좋을 것이다.이것은 삶에서\n",
            "148  좋을 것이다.이것은 삶에서 -> 좋을 것이다.이것은 삶에서 \n",
            "149 좋을 것이다.이것은 삶에서  -> 을 것이다.이것은 삶에서 대\n",
            "150 을 것이다.이것은 삶에서 대 ->  것이다.이것은 삶에서 대단\n",
            "151  것이다.이것은 삶에서 대단 -> 것이다.이것은 삶에서 대단히\n",
            "152 것이다.이것은 삶에서 대단히 -> 이다.이것은 삶에서 대단히 \n",
            "153 이다.이것은 삶에서 대단히  -> 다.이것은 삶에서 대단히 중\n",
            "154 다.이것은 삶에서 대단히 중 -> .이것은 삶에서 대단히 중요\n",
            "155 .이것은 삶에서 대단히 중요 -> 이것은 삶에서 대단히 중요한\n",
            "156 이것은 삶에서 대단히 중요한 -> 것은 삶에서 대단히 중요한 \n",
            "157 것은 삶에서 대단히 중요한  -> 은 삶에서 대단히 중요한 문\n",
            "158 은 삶에서 대단히 중요한 문 ->  삶에서 대단히 중요한 문제\n",
            "159  삶에서 대단히 중요한 문제 -> 삶에서 대단히 중요한 문제이\n",
            "160 삶에서 대단히 중요한 문제이 -> 에서 대단히 중요한 문제이고\n",
            "161 에서 대단히 중요한 문제이고 -> 서 대단히 중요한 문제이고 \n",
            "162 서 대단히 중요한 문제이고  ->  대단히 중요한 문제이고 이\n",
            "163  대단히 중요한 문제이고 이 -> 대단히 중요한 문제이고 이 \n",
            "164 대단히 중요한 문제이고 이  -> 단히 중요한 문제이고 이 방\n",
            "165 단히 중요한 문제이고 이 방 -> 히 중요한 문제이고 이 방법\n",
            "166 히 중요한 문제이고 이 방법 ->  중요한 문제이고 이 방법을\n",
            "167  중요한 문제이고 이 방법을 -> 중요한 문제이고 이 방법을 \n",
            "168 중요한 문제이고 이 방법을  -> 요한 문제이고 이 방법을 터\n",
            "169 요한 문제이고 이 방법을 터 -> 한 문제이고 이 방법을 터득\n",
            "170 한 문제이고 이 방법을 터득 ->  문제이고 이 방법을 터득하\n",
            "171  문제이고 이 방법을 터득하 -> 문제이고 이 방법을 터득하면\n",
            "172 문제이고 이 방법을 터득하면 -> 제이고 이 방법을 터득하면 \n",
            "173 제이고 이 방법을 터득하면  -> 이고 이 방법을 터득하면 삶\n",
            "174 이고 이 방법을 터득하면 삶 -> 고 이 방법을 터득하면 삶의\n",
            "175 고 이 방법을 터득하면 삶의 ->  이 방법을 터득하면 삶의 \n",
            "176  이 방법을 터득하면 삶의  -> 이 방법을 터득하면 삶의 행\n",
            "177 이 방법을 터득하면 삶의 행 ->  방법을 터득하면 삶의 행복\n",
            "178  방법을 터득하면 삶의 행복 -> 방법을 터득하면 삶의 행복을\n",
            "179 방법을 터득하면 삶의 행복을 -> 법을 터득하면 삶의 행복을 \n",
            "180 법을 터득하면 삶의 행복을  -> 을 터득하면 삶의 행복을 찾\n",
            "181 을 터득하면 삶의 행복을 찾 ->  터득하면 삶의 행복을 찾을\n",
            "182  터득하면 삶의 행복을 찾을 -> 터득하면 삶의 행복을 찾을 \n",
            "183 터득하면 삶의 행복을 찾을  -> 득하면 삶의 행복을 찾을 수\n",
            "184 득하면 삶의 행복을 찾을 수 -> 하면 삶의 행복을 찾을 수 \n",
            "185 하면 삶의 행복을 찾을 수  -> 면 삶의 행복을 찾을 수 있\n",
            "186 면 삶의 행복을 찾을 수 있 ->  삶의 행복을 찾을 수 있다\n",
            "187  삶의 행복을 찾을 수 있다 -> 삶의 행복을 찾을 수 있다.\n"
          ]
        }
      ]
    },
    {
      "cell_type": "code",
      "source": [
        "x_data_np = np.array(x_data)\n",
        "x_one_hot = np.eye(len(vocab))[x_data_np] #len(vocab) 크기의 identity matrix 형성. 인덱스별로 대응 -> one hot 인코딩!\n",
        "\n",
        "##7. 입력 데이터, 레이블데이터 텐서로 변환\n",
        "\n",
        "## 문제(5) : x_one_hot과 y_data 텐서로 변환 : 둘 다 같은 형식의 텐서로 변환하면 될까?? (FloatTensor, LongTesor 중 맞는 것은?)\n",
        "X = torch.FloatTensor(x_one_hot)## 신경망의 가중치와 편향이 일반적으로 부동소수점 형태로 저장되어 있음.\n",
        "Y = torch.LongTensor(y_data) # 레이블은 주로 클래스 또는 카테고리를 나타냄, 어느정도 관례!"
      ],
      "metadata": {
        "id": "6OQxeacw8U-Q"
      },
      "execution_count": 11,
      "outputs": []
    },
    {
      "cell_type": "code",
      "source": [
        "class Net(torch.nn.Module):\n",
        "  def __init__(self, input_dim, hidden_dim, layers):\n",
        "    super(Net, self).__init__()\n",
        "    self.rnn = torch.nn.RNN(input_dim,\n",
        "                            hidden_dim,\n",
        "                            layers,\n",
        "                            batch_first = True,\n",
        "                            )\n",
        "    self.fc = torch.nn.Linear(hidden_dim, input_dim) # ??? fully conneceted layer 차원 어떻게 구성하는지, 아직 원리 이해 x\n",
        "\n",
        "  def forward(self, x):\n",
        "    # First RNN layer\n",
        "    x, _ = self.rnn(x)\n",
        "\n",
        "    # Second RNN layer\n",
        "    x, _ = self.rnn(x)\n",
        "\n",
        "    # Fully connected layer\n",
        "    x = self.fc(x)\n",
        "\n",
        "    return x"
      ],
      "metadata": {
        "id": "UXlKDc4q8fYM"
      },
      "execution_count": 12,
      "outputs": []
    },
    {
      "cell_type": "code",
      "source": [
        "net = Net(vocab_size, hidden_size, 2)"
      ],
      "metadata": {
        "id": "YVFYVxO68nfp"
      },
      "execution_count": 13,
      "outputs": []
    },
    {
      "cell_type": "code",
      "source": [
        "##12. loss function\n",
        "criterion = torch.nn.CrossEntropyLoss()\n",
        "\n",
        "##13. optimizer\n",
        "optimizer = optim.Adam(net.parameters(), learning_rate)"
      ],
      "metadata": {
        "id": "-JtD3LlJ8r8d"
      },
      "execution_count": 14,
      "outputs": []
    },
    {
      "cell_type": "code",
      "source": [
        "##15. Training 시작\n",
        "\n",
        "for i in range(100):\n",
        "    optimizer.zero_grad()\n",
        "    outputs = net(X)\n",
        "    ##문제(7) : outputs, Y 형태 그대로 넣으면 안되죠. view 함수를 이용해 loss값을 계산해봅시다.\n",
        "    #loss = criterion(outputs.view(##, ##), Y.view(##))\n",
        "    loss = criterion(outputs.view(-1, vocab_size), Y.view(-1)) # criterion 손실함수 - 크로스엔트로피\n",
        "    loss.backward()\n",
        "    optimizer.step()\n",
        "\n",
        "    #16. 예측결과 확인\n",
        "    results = outputs.argmax(dim=2)\n",
        "    predict_str = \"\"\n",
        "    for j, result in enumerate(results):\n",
        "        if j == 0: # 처음에는 예측 결과를 전부 가져오기\n",
        "            predict_str += ''.join([world_set[t] for t in result])\n",
        "        else: # 그 다음에는 마지막 글자만 반복 추가\n",
        "            predict_str += world_set[result[-1]]\n",
        "\n",
        "    print(predict_str)"
      ],
      "metadata": {
        "colab": {
          "base_uri": "https://localhost:8080/"
        },
        "id": "NlY8gd1l8zEv",
        "outputId": "987512a5-8f35-4e86-b9ff-6be5f939b0fd"
      },
      "execution_count": 15,
      "outputs": [
        {
          "output_type": "stream",
          "name": "stdout",
          "text": [
            "런런런런런런런런런런런런런런런런런런런런런런런런런런런런런런런런런런런런런런런런런런런런런런런런런런런런런런런런런런런런런런런런런런런런런런런런런런런런런런런런런런런런런런런런런런런런런런런런런런런런런런런런런런런런런런런런런런런런런런런런런런런런런런런런런런런런런런런런런런런런런런런런런런런런런런런런런런런런런런런런런런런런런런런런런런런런런런런런런런런런런런런런런런런누런런런런런런런런런런런런런런\n",
            "                                                                                                                                                                                                          \n",
            "                                                                                                                                                                                                          \n",
            "                                                                                                                                                                                                          \n",
            "                                                                                                                                                                                                          \n",
            "                                                                                                                                                                                                          \n",
            "                                                                                                                                                                                                          \n",
            "                                                                                                                                                                                                          \n",
            "                                                                                                                                                                                                          \n",
            "                                                                                                                                                                                                          \n",
            "                                                                                                                                                                                                          \n",
            "                                                                                                                                                                                                          \n",
            "                                                                                                                                                                                                          \n",
            "                                                                                                                                                                                                          \n",
            "                                                                                                                                                                                                          \n",
            "                                                                                                                                                                                                          \n",
            "                                                                                                                                                                                                          \n",
            "                                                                                                                                                                                                          \n",
            "                                                                                                                                                                                                          \n",
            "                                                                                                                                                                                                          \n",
            "                                                                                                                                                                                                          \n",
            "                    몰           에                                             하         몰   몰     몰           몰        하             몰            하                    몰        하     몰                   \n",
            "   몰                몰           하  몰     몰   몰          몰         몰           하     몰   몰   몰     몰           몰        하             몰                             몰   몰        하     몰           몰    하  \n",
            "   몰   몰   몰 하   입  몰   몰 하 하 하 하  몰 하   몰   몰   몰      몰 하 몰   하 몰       을 몰 하 몰 하 몰 하 몰 하 몰 하 하 몰   하 하     몰   몰    하 몰       몰   몰  몰 하     몰 하 몰  몰        입  몰 하 몰   몰입   하 하 하 몰 하 하 을 몰   몰    하 하\n",
            "   몰       몰 에사을  을고            을  사입    몰                        몰                         몰     몰                                                                몰   몰              몰                   \n",
            "   몰입을 몰입을 몰입하  몰입하 몰입을 몰입하 하 몰입하  몰입하   몰입하 몰입을 몰입 몰입하 몰입하 몰입하 하 몰입  입  문을 몰입하 몰입하 몰입을 몰입하 몰입하 을 몰입  몰 하 입   몰입  몰입 몰입하 몰입을  몰입 몰입을 몰입 몰입하  몰입 몰입하 몰을 몰입하 몰을  몰입  몰입하 몰입하 몰입   하 하입하 몰입하  몰입 몰입하 몰입 몰입하  \n",
            "   몰입을 몰입을 몰입하  몰입하 몰입을 몰입하 하 하 하  몰입하 을 몰 을 몰입을 몰입 몰입하 몰입을 몰입을 을 몰입을 입  위을 몰입을 몰입하 몰입을 몰입하 몰입하 을 몰 을 하 하 입   몰입을 몰입 몰입하 몰입을  몰입 몰입을 몰입 몰입을  몰입 몰입하 몰입 몰입을 몰입  몰입  몰입하 몰입하 몰입   몰 하 하 몰입하 을몰입 몰입을 몰입 몰입하  \n",
            "   몰입  몰입  몰입하  몰입  몰입  몰입을 을 하 을  몰입    몰   몰입  몰입 즐입  몰입을 몰입    몰입  을  위을 몰 을 몰입을 몰입을 몰입을 몰입하   몰   을 을위을   몰입  몰입   하 몰입을  삶입 몰입  몰  즐입   몰입 몰입하    몰입      몰입  몰입을 몰입  몰입   몰 하   몰입을  삶입  입  몰입 몰입하  \n",
            "   몰입  몰입    하  즐입  몰입  몰   을 하 을  몰입    몰   몰입을    즐입  몰황을 몰입    몰   을  위을 상 을 몰황을 몰 을 몰입을 몰 하   몰      위을   몰입  몰입   을 몰황을  위을     몰   입   높을 즐입하    몰입      몰을  몰입  몰입  몰입   상 하   몰 을  삶을     삶  즐입하  \n",
            "   몰입  몰입  몰입한  몰황하 몰입을 몰은  에 상 하  몰입하 을 몰입  몰입  삶을 몰황하 몰황하 몰입  을 몰입 위에  위을 몰황하 몰입을 몰입  몰입을 몰입하   몰   을  삶을   몰입  몰을 활 하 몰입하  삶은 즐은  몰을 몰입하  얻을 몰입하 몰을 몰입      삶에  몰입  몰입하 몰입   하 하 을 몰 하  삶에 즐입  위을 몰황하  \n",
            "   몰입  몰입을 몰입있  몰입하 몰입  몰고 위에 몰황하  몰입하   몰입  몰입을 몰는 몰입하 몰문을 몰입을 에 몰입 삶에  위을 몰황하 몰입을 몰입을 몰입을 몰입하   몰고  상  삶에   몰입을 몰에 활황하 몰입을  몰입 즐입  몰을 몰입하  얻을 몰입하 삶을 몰입   에  삶에  몰입하 몰입하 몰입   상 몰입  몰입하  삶에 즐입하 삶에 몰입하  \n",
            "   몰입을 몰입을 몰 있  즐입하 몰입  몰고 위을 몰황하  몰입하   몰입하 몰입하 몰는 즐입하 몰문을 몰입하 에 몰입 삶에  삶을 몰황을 몰입을 몰입하 몰입하 몰입하   몰고  에  삶에   몰입하 몰입 즐황하 몰입을  삶을 즐입  몰고 몰입하  얻을 즐입하 몰을 몰입   상  삶에  몰입하 몰입하 몰입을  상 몰입을 몰입하  삶에 즐황하 삶에 즐입하  \n",
            "   몰입  몰입을 몰 상  즐입하 몰입  몰고 위을 상황을  몰입하   몰고  몰입하 몰는 즐입하 활황을 몰입하 을 몰는 삶상  삶을 몰황을 몰황을 몰황하 몰입하 몰황하   몰   을  삶는   몰입을 몰는 즐황을 몰입을  삶는 즐입  몰고 즐입하  몰고 즐입하 좋을 몰입   상  삶에  몰입하 몰입하 몰입을  상 몰입을 몰황하  삶에 즐황을 삶는 즐입하  \n",
            "   몰입  몰입을 상황하  즐입을 몰입  몰는  에 상황을  몰입하   몰고  몰입을 몰입 즐입하 활황을 몰입을 을 몰고 가상  위을 상황을 즐황을 상황을 몰입을 몰황을   몰   에  삶에   몰입이 삶에 활황을 몰입을  삶을 즐입  몰고 즐황을  몰고 즐 하 이을 몰입   상  삶에  몰입하 몰입을 몰입을  상 방황을 몰황하  삶에 즐황을 삶을 즐황하  \n",
            "   몰입  몰입이 상 하  몰입을 몰상  몰  위을 상황을  몰입하   몰고  몰입을 몰는 몰입을 활문을 몰입 위을 몰고 가상  위을 상황을 몰입을 몰입을 몰입을 몰입하   몰   에  삶에   몰입  삶을 활황을 몰입을  삶을 즐입  몰고 몰입을  몰고 즐입하 이을 몰입   상  삶에  몰입하 몰입이 몰입   상 방황을 몰입하  삶에 즐황을 삶을 몰입하  \n",
            "이을 몰입을 몰입을 상 하  즐입을 몰입고 몰다 위에 하황에  몰입하   몰입  몰입을 몰입 즐입을 활문을 몰입하위에 몰다 가상다 위을 상황을 활문을 상황하 몰입을 몰황하 도 있다  에  삶에을  몰입을 학에 활황을 몰입하  삶에 즐거  몰고 즐입을  문에 활 하 이을 몰입   상다 위에  몰입하 몰입을 몰입을  상 하황을 상황하  삶에 활황을 위을 상황하  \n",
            "이  몰입  몰은이 몰 한고 즐입을 문입  몰  위을 상황을  몰입하   몰은  몰입이 위는 몰입하 좋입을 몰입 위와 몰은 가상고 위을 상황을 좋입을 몰입  몰입을 몰입하   몰고  에  삶은이  몰입이 위을 활황을 몰입하  삶은 즐은  몰고 즐입이  문은 즐다이 좋을 몰입   이은 삶에  몰다하 몰다이 문은   하 방입을 몰입하  삶은 가입을 위을 몰입하  \n",
            "이을 몰입하 몰입하 상 하  즐거하 몰입을 몰  위에 상황에  몰입하   몰입나 몰입하 좋  즐입하 활문을 몰입하위와 몰은 가상고 위기 상황에 활황을 몰입하 몰입하 몰입하 도 몰다. 하  삶은을  몰입하 좋기 활황을 몰입하  삶은 즐 도 몰고 즐거하  얻은 활 하 좋기 몰입을  문은 가에  몰입하 몰입하 좋입이  상 하 하 몰입하  삶에 활 을 위을 활 하  \n",
            "이고 몰입을 몰입하 몰 하고 즐입을 몰입고 몰  위을 상황에  몰입하 도 몰입. 몰입을 주는 즐입하 때문을 몰입하위와 몰는 가상고 위기 상황에 때입을 몰입하 몰입을 몰입하 도 몰고. 런  삶에이  몰입하 학에 활황을 몰입하  삶은 즐량도 몰고 즐입하  얻에 즐 하 좋기 몰입을  문은 삶에  몰입하 몰입하 학습이  하 하황하 몰입하  삶에 즐입을 삶을 즐입하  \n",
            "이  몰입  몰입하 몰 한고 즐입을 몰지고 몰는 위기 상황에  몰입하   몰고  몰입을 주는 즐입하 때문을 몰입 위와 몰은 가상고 삶기 상황을 몰입을 몰입나 몰입을 몰입하 도 몰   런  삶에   몰입나 몰을 활황을 몰입하  삶은 즐량  몰고 즐거하  얻는 즐 하 좋기 몰입   상은 삶에  몰입점 몰입하 삶는이  하 하황하 몰입하  삶에 즐입을 삶을 즐거하  \n",
            "이고 몰입을 몰입하 상 하는 즐거을 주지고 즐  위기 상황에  몰입하   몰고. 몰입을 주는 즐 하 때문을 즐입점 와 몰은 가상고 위기 상황을 때들을 몰입하 몰입을 몰거하 도 있는. 런  삶에이  몰입을 학습 활황을 몰입하  삶은 기   몰고 즐거하  얻는 즐 하 좋기 몰입고  것은 삶에  몰입하 몰입하 학입이  상 하황하 상황하  삶에 행 을 위을 즐 하  \n",
            "이고 몰지을 몰입하 상 한고 즐입을 삶지고 몰다.위을 상황에  몰입하 도 있고나 몰입을 몰는 즐거하 때문을 즐입하위기 몰은 삶상고 위기 상황에 즐입을 상입하 몰입을 몰입하 도 있고. 런  삶에이고 몰입나 문에 활황을 몰입하  삶은 즐량  쌓고 즐입하  얻의 즐 한 좋을 몰지고  상은 삶에  몰입하 몰입하 삶지이  상 방입하 있득하  삶에 즐력을 위을 즐 하는.\n",
            "이고 몰입. 몰는나 상 있는 즐거을 학지고 몰   기 상황에  몰입하 도 몰는  몰입나 주는 즐 하 때문을 몰입. 와 몰은 위상고 위기 상황에 때거을 몰 나 몰입하 몰 하 도 있   런  삶은이  몰입. 학기 활동을 몰입하  삶은 기   쌓고 즐 움  얻는 즐 더 좋기 몰지   것은 삶에  몰다히 몰 나 학는이  상 방 하 터 하  삶은 행량을 위기 상 있  \n",
            "이고 몰지고 몰입을 몰 한고 즐황을 학상고 몰다.위런 상황에  몰입하   쌓고. 몰입고 주는 즐황을 때문에 때지을 런 몰은 위상고 위기 상황에 때문을 수입나 몰입을 몰황을 도 한고. 상다 삶에이  몰입나 학에고활황을 몰입하  얻은 활량도 쌓고 즐황을  얻에 활 하 좋을 몰지다  것은 삶상  몰입하 몰입을 학지이  있 방황하 터황하  높에 행문에 위을 활황하  \n",
            "이고 몰입나 몰입하 상 있고 즐거을 몰지고 상 .위런 상황에  몰입하 도 있다점 터입하 몰고 즐거하 수황을 몰입러위와 몰다 삶상고 위기 상황에 때황하 상황하 터입하 몰황하 도 하 히황런 도삶에이기 몰입나 몰의 활황을 몰입하 도삶은 즐량도 한고 즐거하  얻의 즐 하 좋을 몰입다  것은 삶에  몰입하 터득하 몰는이기 하 하황하 하황하 도삶에 즐거을 좋을 상 하 .\n",
            "이고 몰입나 몰입을 상 한고 즐거을 학지고 상다.위기 상황에  몰입하 도 몰고. 몰입을 주는 즐거움 때문을 몰입점위와 몰은 가상고 위기 상황에 때들을 상입나 몰입을 몰거하 도 있는. 을  높은이  몰입나 학은 활동을 몰입하  얻은 기량  쌓고 즐거을  얻는 활 더 좋을 이지다  것은 삶에  몰입히 몰입움 학는이고 상 방법을 몰입하  삶은 즐량을 위을 즐 있고.\n",
            "이고 몰입나 몰입을 수 있고 즐거을 가지고 몰다 위기 기황에  몰입하   몰는. 몰입을 주는 즐거움 때문을 만입점위와 몰은 가상고 위기 상황에 때들을 수입나 몰입을 만거을   몰는. 기  삶은이  몰입나 학습 활동을 몰입을  얻은 기량  쌓고 즐거을  얻는 활 더 좋을 가습다  것은 삶왕  몰입히 몰입하 학는이고 상다방법나 몰입하  가제 행복을 위을 활 있고 \n",
            "이고 몰입나 몰입을 수 있고 즐력을 가지고 몰다.위기 상황에  몰입하 도 있고. 몰입을 주는 즐거움 때문을 몰입점위와 몰은 가상고 위기 상황에 만들을 일입러 몰입을 몰거하 도 한는.위런  삶왕이  몰입나 학습 활동을 몰입하  얻은 기량  쌓고 즐거움  얻는 즐 더 좋을 몰상다. 것은 삶에  몰입히 몰입하 학습이기 있 방입하 터득하  삶에 행복을 위을 수 있고.\n",
            "이고 몰입러 몰입하 상 있고 즐력을 번지고 있 .위기 상황에  몰입하 도 있고. 몰입하 몰는 즐거하 때문을 몰입점위와 몰은 가상의 위기 상황에 만들하 상득러 몰입하 몰거하 도 한 .그런  삶에이  몰입나 학습 활동에 몰입하  삶은 기량  쌓고 즐거하  얻는 즐 더 좋을 몰상다. 것은 삶에  몰요하 터 하 문습이기 있 방법하 터 하 도삶에 행복을 위을 수 있다.\n",
            "이고 몰입하 몰입하 상 있는 즐력을 만지고 몰다.위기 상황에  몰입하 도 한다. 몰입하 몰는 즐거하 때문에 몰입점위와 몰은 가상의 위기 상황에 만들하 상득러 몰입하 몰거하 도 한 .그런데 삶에이  몰입나 학습 활동에 몰입하  삶은 기량도 한고 즐거하  얻는 즐 더 좋을 몰지다. 것은 삶에  몰입하 중득하 문제이고 있 방법하 터득하 도삶에 행복을 위을 수 있다.\n",
            "이고 몰입점 몰입을 상 한는 즐력을 가지고 몰다.위기 상황에  몰입하 도 한는. 몰입을 주는 즐거움 때문에 가지점프와 같은 가상의 위기 상황에 만들을 상득러 몰입을 몰구하기도 한는.그런데 삶에이고 몰입나 학습 활동에 몰입하  삶은 기량도 한고 즐거움  얻는 즐 더 좋을 몰지다  것은 삶에  몰입히 몰요하 문제이고 상 방법을 터득하  삶에  복을 위을 게 있다.\n",
            "이고 몰입점 몰입을 상 한는 즐력을 가지고 있다.위기 상황에서 몰입하 도 한는. 몰입이 찾는 즐거움 때문에 가지점프와 같은 가상의 위기 상황에 만들을 상부러 몰입을 몰구하기도 한는.그런데 삶왕이고 몰입나 학습 활동을 몰입하  삶은 기량  쌓고 즐거움  얻는 즐 더 좋을 몰지다. 것은 삶에  몰는점 몰요이 문제이고 상 방법을 터득하  삶은 행복을 위을 수 있는.\n",
            "이고 즐입나 몰입을 상 한고 즐력을 주지고 상다.위기 상황에서 몰입하기도 쌓는, 몰입을 주는 즐거움 때문에 만지점프와 같은 가상의 위기 상황에 만들을 상부러 몰입을 추구하기도 한는.위런데 삶왕이고 몰입나 학습 활동을 몰입하기 삶은 기량도 쌓고 즐거움  얻는 게 더 좋을 몰이다.위것은 삶에  몰입히 몰요하 문제이고 상 방법을 상득하기 삶은 행량을 위을 수 있는.\n",
            "이고 몰입나 몰입을 상 있고 즐력을 주지고 상다.위기 상황에서 몰입하기도 쌓고, 몰입을 주는 즐거움 때문에 번입점프와 같은 가상의 위기 상황에 만들을 상득러 몰입을 몰구하기도 한다.그런데 높왕이고 몰입나 학습 활동에 몰입하기 높은 기량도 쌓고 즐거움  얻는 게 더 좋을 몰이다.위것은 삶에서 몰입히 몰요하 문제이고 이 방법하 터득하기 삶의 행복을 찾을 상 있다.\n",
            "이고 몰입나 몰입을 수 있고 즐력을 가지고 있다.위기 상황에서 몰입하기도 있고. 몰입이 주는 즐거움 때문에 번입점프와 같은 가상의 위기 상황에 만들을 일득러 몰입을 몰구하기도 한다.그런데 높왕이면 몰입나 학습 활동에 몰입하  높은 기량도 쌓고 즐거움  얻는 즐 더 좋을 몰이다.위것은 삶에서 몰입히 몰요하 학제이고 이 방법하 터득하면 삶의 행복을 학을 일 있다.\n",
            "이고 즐입나 몰입하 수 있고 즐력을 가지고 있다.위기 상황에서 몰입하기도 있고, 몰입이 주는 즐거움 때문에 주지점프와 같은 가상의 위기 상황에 만들을 수부러 몰입을 추구하기도 있다.그런데 높왕이면 몰입나 학습 활동에 몰입하  높은 기량도 쌓고 즐거움  얻는 게 더 좋을 것이다.행것은 삶상서 몰단히 몰요하 학제이고 이 방법하 터득하면 삶의  복을 학을 수 있다.\n",
            "이고 즐무나 몰입을 수 있고 능력을 가지고 있다.위기 상황에서 몰입하기도 한고, 몰입이 주는 즐거움 때문에 주지점프와 같은 가상의 위기 상황에 만들하 일부러 몰입을 추구하기도 한다.그런데 높왕이면 업무나 학습 활동에 몰입하기 높은 기량도 쌓고 즐거움  얻는 게 더 좋을 것이다.행것은 삶에서 몰단히 중요하 학제이고 이 방법을 터득하면 삶의 행복을 위을 수 있다.\n",
            "이은 것무나 몰입하 수 있다 능력을 가지고 있다.위기 상황에서 몰입하기도 한고, 몰입이 주는 즐거움 때문에 가지점프와 같은 가상의 위기 상황에 만들하 일부러 몰입을 추구하기도 한 .그런데 높왕이면 업무나 학습 활동에 몰입하기 높은 기량도 쌓고 즐거움  얻는 게 더 좋을 것이다.위것은 삶에서 몰단히 중요하 문제이고 이 방법을 터득하면도삶의 행량을 위을 수 있다.\n",
            "이의 즐무나 몰입을 수 있는 능력을 가지고 있다.위기 상황에서 몰입하기도 한고, 몰입이 주는 즐거움 때문에 번지점프와 같은 가상의 위기 상황에 만들을 일부러 몰입을 추구하기도 한다.그런데 높왕이면 업무나 학습 활동에 몰입하기 높은 기량도 쌓고 즐거움  얻는 게 더 좋을 것이다.이것은 삶에서 몰단히 중요한 문제이고 이 방법을 터득하면 삶의 행복을 위을 수 있다.\n",
            "이은 즐단나 몰입할 수 있는 즐력을 가지고 있다.위기 상황에서 몰입하기도 한고, 몰입이 주는 즐거움 때문에 번지점프와 같은 가상의 위기 상황에 만들을 수부러 몰입을 추구하기도 한다.그런데 이왕이면 업무나 학습 활동에 몰입하기 높은 기량도 쌓고 즐거움  얻는 게 더 좋을 것이다.이것은 삶에서 몰단히 중요한 문제이고 이 방법을 터득하면 삶의 행복을 위을 수 있는.\n",
            "이은 몰입나 몰입할 수 있는 즐력을 가지고 있다.위기 상황에서 몰입하기도 한고, 몰입이 주는 즐거움 때문에 번지점프와 같은 가상의 위기 상황에 만들에 일부러 몰입을 추구하기도 한다.그런데 이왕이면 몰입나 학습 활동에 몰입하기 높은 기량도 쌓고 즐거움  얻는 게 더 좋을 것이다.이것은 삶에서 몰단히 중요한 문제이고 이 방법을 터득하면 삶의 행복을 위을 수 있는.\n",
            "이은 가은, 몰입할 수 있는 즐력을 가지고 있다.위기 상황에서 몰입하기도 한고, 몰입이 주는 즐거움 때문에 번지점프와 같은 가상의 위기 상황을 만들하 일부러 몰입을 추구하기도 한다.그런데 이왕이면 업무나 학습 활동에 몰입하기 높은 기량도 쌓고 즐거움  얻는 게 더 좋을 것이다.이것은 삶에서 몰단히 중요한 문제이고 이 방법을 터득하면 삶은 행복을 찾을 수 있다.\n",
            "이은 삶무나 몰입할 수 있는 능력을 가지고 있다.위기 상황에서 몰입하기도 한고, 몰입이 주는 즐거움 때문에 번지점프와 같은 가상의 위기 상황을 만들어 수부러 몰입을 추구하기도 한다.그런데 이왕이면 업무나 학습 활동에 몰입하기 높은 기량도 쌓고 즐거움  얻는 게 더 좋을 것이다.이것은 삶에서 몰단히 중요한 문제이고 이 방법을 터득하면 삶의 행복을 찾을 수 있다.\n",
            "이은 삶은, 몰입할 수 있는 능력을 가지고 있다.위기 상황에서 몰입하기도 한고, 몰입이 주는 즐거움 때문에 번지점프와 같은 가상의 위기 상황을 만들어 일부러 몰입을 추구하기도 한다.그런데 이왕이면 업무나 학습 활동에 몰입하여 높은 기량도 쌓고 즐거움  얻는 게 더 좋을 것이다.이것은 삶에서 몰단히 중요한 문제이고 이 방법을 터득하면 삶의 행복을 찾을 수 있다.\n",
            "이은 삶무나 몰입할 수 있는 능력을 가지고 있다.위기 상황에서 몰입하기도 한고, 몰입이 주는 즐거움 때문에 번지점프와 같은 가상의 위기 상황을 만들어 일부러 몰입을 추구하기도 한다.그런데 이왕이면 업무나 학습 활동에 몰입하기 높은 기량도 쌓고 즐거움  얻는 게 더 좋을 것이다.이것은 삶에서 몰단히 중요한 문제이고 이 방법을 터득하면 삶의 행복을 찾을 수 있다.\n",
            "것은 능무나 몰입할 수 있는 능력을 가지고 있다.위기 상황에서 몰입하기도 한고, 몰입이 주는 즐거움 때문에 번지점프와 같은 가상의 위기 상황을 만들어 일부러 몰입을 추구하기도 한다.그런데 이왕이면 업무나 학습 활동에 몰입하기 높은 기량도 쌓고 즐거움  얻는 게 더 좋을 것이다.이것은 삶에서 몰단히 중요한 문제이고 이 방법을 터득하면 삶의 행복을 찾을 수 있는.\n",
            "것은 능구나 몰입할 수 있는 능력을 가지고 있다.위기 상황에서 몰입하기도 한고, 몰입이 주는 즐거움 때문에 번지점프와 같은 가상의 위기 상황을 만들어 일부러 몰입을 추구하기도 한다.그런데 이왕이면 업무나 학습 활동에 몰입하여 높은 기량도 쌓고 즐거움  얻는 게 더 좋을 것이다.이것은 삶에서 몰단히 중요한 문제이고 이 방법을 터득하면 삶의 행복을 찾을 수 있다.\n",
            "것은 능구나 몰입할 수 있는 능력을 가지고 있다.위기 상황에서 몰입하기도 한고, 몰입이 주는 즐거움 때문에 번지점프와 같은 가상의 위기 상황을 만들어 일부러 몰입을 추구하기도 한다.그런데 이왕이면 업무나 학습 활동에 몰입하여 높은 기량도 쌓고 즐거움  얻는 게 더 좋을 것이다.이것은 삶에서 몰단히 중요한 문제이고 이 방법을 터득하면 삶의 행복을 찾을 수 있는.\n",
            "것은 능무나 몰입할 수 있는 능력을 가지고 있다.위기 상황에서 몰입하기도 한고, 몰입이 주는 즐거움 때문에 번지점프와 같은 가상의 위기 상황을 만들어 일부러 몰입을 추구하기도 한다.그런데 이왕이면 업무나 학습 활동에 몰입하여 높은 기량도 쌓고 즐거움  얻는 게 더 좋을 것이다.이것은 삶에서 몰단히 중요한 문제이고 이 방법을 터득하면 삶의 행복을 찾을 수 있는.\n",
            "것은 가구나 몰입할 수 있는 능력을 가지고 있다.위기 상황에서 몰입하기도 한고, 몰입이 주는 즐거움 때문에 번지점프와 같은 가상의 위기 상황을 만들어 일부러 몰입을 추구하기도 한다.그런데 이왕이면 업무나 학습 활동에 몰입하여 높은 기량도 쌓고 즐거움  얻는 게 더 좋을 것이다.이것은 삶에서 몰단히 중요한 문제이고 이 방법을 터득하면 삶의 행복을 찾을 수 있다.\n",
            "것은 업구나 몰입할 수 있는 능력을 가지고 있다.위기 상황에서 몰입하기도 한고, 몰입이 주는 즐거움 때문에 번지점프와 같은 가상의 위기 상황을 만들어 일부러 몰입을 추구하기도 한다.그런데 이왕이면 업무나 학습 활동에 몰입하여 높은 기량도 쌓고 즐거움  얻는 게 더 좋을 것이다.이것은 삶에서 대단히 중요한 문제이고 이 방법을 터득하면 삶의 행복을 찾을 수 있다.\n",
            "것은 업구나 몰입할 수 있는 능력을 가지고 있다.위기 상황에서 몰입하기도 한고, 몰입이 주는 즐거움 때문에 번지점프와 같은 가상의 위기 상황을 만들어 일부러 몰입을 추구하기도 한다.그런데 이왕이면 업무나 학습 활동에 몰입하여 높은 기량도 쌓고 즐거움  얻는 게 더 좋을 것이다.이것은 삶에서 대단히 중요한 문제이고 이 방법을 터득하면 삶의 행복을 찾을 수 있다.\n",
            "람은 누구나 몰입할 수 있는 능력을 가지고 있다.위기 상황에서 몰입하기도 한고, 몰입이 주는 즐거움 때문에 번지점프와 같은 가상의 위기 상황을 만들어 일부러 몰입을 추구하기도 한다.그런데 이왕이면 업무나 학습 활동에 몰입하여 높은 기량도 쌓고 즐거움  얻는 게 더 좋을 것이다.이것은 삶에서 대단히 중요한 문제이고 이 방법을 터득하면 삶의 행복을 찾을 수 있다.\n",
            "람은 누구나 몰입할 수 있는 능력을 가지고 있다.위기 상황에서 몰입하기도 한고, 몰입이 주는 즐거움 때문에 번지점프와 같은 가상의 위기 상황을 만들어 일부러 몰입을 추구하기도 한다.그런데 이왕이면 업무나 학습 활동에 몰입하여 높은 기량도 쌓고 즐거움  얻는 게 더 좋을 것이다.이것은 삶에서 몰단히 중요한 문제이고 이 방법을 터득하면 삶의 행복을 찾을 수 있다.\n",
            "람은 누구나 몰입할 수 있는 능력을 가지고 있다.위기 상황에서 몰입하기도 한고, 몰입이 주는 즐거움 때문에 번지점프와 같은 가상의 위기 상황을 만들어 일부러 몰입을 추구하기도 한다.그런데 이왕이면 업무나 학습 활동에 몰입하여 높은 기량도 쌓고 즐거움  얻는 게 더 좋을 것이다.이것은 삶에서 대단히 중요한 문제이고 이 방법을 터득하면 삶의 행복을 찾을 수 있다.\n",
            "람은 누구나 몰입할 수 있는 능력을 가지고 있다.위기 상황에서 몰입하기도 한고, 몰입이 주는 즐거움 때문에 번지점프와 같은 가상의 위기 상황을 만들어 일부러 몰입을 추구하기도 한다.그런데 이왕이면 업무나 학습 활동에 몰입하여 높은 기량도 쌓고 즐거움  얻는 게 더 좋을 것이다.이것은 삶에서 대단히 중요한 문제이고 이 방법을 터득하면 삶의 행복을 찾을 수 있다.\n",
            "람은 누구나 몰입할 수 있는 능력을 가지고 있다.위기 상황에서 몰입하기도 한고, 몰입이 주는 즐거움 때문에 번지점프와 같은 가상의 위기 상황을 만들어 일부러 몰입을 추구하기도 한다.그런데 이왕이면 업무나 학습 활동에 몰입하여 높은 기량도 쌓고 즐거움  얻는 게 더 좋을 것이다.이것은 삶에서 대단히 중요한 문제이고 이 방법을 터득하면 삶의 행복을 찾을 수 있다.\n",
            "람은 누구나 몰입할 수 있는 능력을 가지고 있다.위기 상황에서 몰입하기도 한고, 몰입이 주는 즐거움 때문에 번지점프와 같은 가상의 위기 상황을 만들어 일부러 몰입을 추구하기도 한다.그런데 이왕이면 업무나 학습 활동에 몰입하여 높은 기량도 쌓고 즐거움도 얻는 게 더 좋을 것이다.이것은 삶에서 대단히 중요한 문제이고 이 방법을 터득하면 삶의 행복을 찾을 수 있다.\n",
            "람은 누구나 몰입할 수 있는 능력을 가지고 있다.위기 상황에서 몰입하기도 한고, 몰입이 주는 즐거움 때문에 번지점프와 같은 가상의 위기 상황을 만들어 일부러 몰입을 추구하기도 한다.그런데 이왕이면 업무나 학습 활동에 몰입하여 높은 기량도 쌓고 즐거움도 얻는 게 더 좋을 것이다.이것은 삶에서 대단히 중요한 문제이고 이 방법을 터득하면 삶의 행복을 찾을 수 있다.\n",
            "람은 누구나 몰입할 수 있는 능력을 가지고 있다.위기 상황에서 몰입하기도 한고, 몰입이 주는 즐거움 때문에 번지점프와 같은 가상의 위기 상황을 만들어 일부러 몰입을 추구하기도 한다.그런데 이왕이면 업무나 학습 활동에 몰입하여 높은 기량도 쌓고 즐거움도 얻는 게 더 좋을 것이다.이것은 삶에서 대단히 중요한 문제이고 이 방법을 터득하면 삶의 행복을 찾을 수 있다.\n",
            "람은 누구나 몰입할 수 있는 능력을 가지고 있다.위기 상황에서 몰입하기도 한고, 몰입이 주는 즐거움 때문에 번지점프와 같은 가상의 위기 상황을 만들어 일부러 몰입을 추구하기도 한다.그런데 이왕이면 업무나 학습 활동에 몰입하여 높은 기량도 쌓고 즐거움도 얻는 게 더 좋을 것이다.이것은 삶에서 대단히 중요한 문제이고 이 방법을 터득하면 삶의 행복을 찾을 수 있다.\n",
            "람은 누구나 몰입할 수 있는 능력을 가지고 있다.위기 상황에서 몰입하기도 한고, 몰입이 주는 즐거움 때문에 번지점프와 같은 가상의 위기 상황을 만들어 일부러 몰입을 추구하기도 한다.그런데 이왕이면 업무나 학습 활동에 몰입하여 높은 기량도 쌓고 즐거움도 얻는 게 더 좋을 것이다.이것은 삶에서 대단히 중요한 문제이고 이 방법을 터득하면 삶의 행복을 찾을 수 있다.\n",
            "람은 누구나 몰입할 수 있는 능력을 가지고 있다.위기 상황에서 몰입하기도 한고, 몰입이 주는 즐거움 때문에 번지점프와 같은 가상의 위기 상황을 만들어 일부러 몰입을 추구하기도 한다.그런데 이왕이면 업무나 학습 활동에 몰입하여 높은 기량도 쌓고 즐거움도 얻는 게 더 좋을 것이다.이것은 삶에서 대단히 중요한 문제이고 이 방법을 터득하면 삶의 행복을 찾을 수 있다.\n",
            "람은 누구나 몰입할 수 있는 능력을 가지고 있다.위기 상황에서 몰입하기도 한고, 몰입이 주는 즐거움 때문에 번지점프와 같은 가상의 위기 상황을 만들어 일부러 몰입을 추구하기도 한다.그런데 이왕이면 업무나 학습 활동에 몰입하여 높은 기량도 쌓고 즐거움도 얻는 게 더 좋을 것이다.이것은 삶에서 대단히 중요한 문제이고 이 방법을 터득하면 삶의 행복을 찾을 수 있다.\n",
            "람은 누구나 몰입할 수 있는 능력을 가지고 있다.위기 상황에서 몰입하기도 한고, 몰입이 주는 즐거움 때문에 번지점프와 같은 가상의 위기 상황을 만들어 일부러 몰입을 추구하기도 한다.그런데 이왕이면 업무나 학습 활동에 몰입하여 높은 기량도 쌓고 즐거움도 얻는 게 더 좋을 것이다.이것은 삶에서 대단히 중요한 문제이고 이 방법을 터득하면 삶의 행복을 찾을 수 있다.\n",
            "람은 누구나 몰입할 수 있는 능력을 가지고 있다.위기 상황에서 몰입하기도 한고, 몰입이 주는 즐거움 때문에 번지점프와 같은 가상의 위기 상황을 만들어 일부러 몰입을 추구하기도 한다.그런데 이왕이면 업무나 학습 활동에 몰입하여 높은 기량도 쌓고 즐거움도 얻는 게 더 좋을 것이다.이것은 삶에서 대단히 중요한 문제이고 이 방법을 터득하면 삶의 행복을 찾을 수 있다.\n",
            "람은 누구나 몰입할 수 있는 능력을 가지고 있다.위기 상황에서 몰입하기도 하고, 몰입이 주는 즐거움 때문에 번지점프와 같은 가상의 위기 상황을 만들어 일부러 몰입을 추구하기도 한다.그런데 이왕이면 업무나 학습 활동에 몰입하여 높은 기량도 쌓고 즐거움도 얻는 게 더 좋을 것이다.이것은 삶에서 대단히 중요한 문제이고 이 방법을 터득하면 삶의 행복을 찾을 수 있다.\n",
            "람은 누구나 몰입할 수 있는 능력을 가지고 있다.위기 상황에서 몰입하기도 하고, 몰입이 주는 즐거움 때문에 번지점프와 같은 가상의 위기 상황을 만들어 일부러 몰입을 추구하기도 한다.그런데 이왕이면 업무나 학습 활동에 몰입하여 높은 기량도 쌓고 즐거움도 얻는 게 더 좋을 것이다.이것은 삶에서 대단히 중요한 문제이고 이 방법을 터득하면 삶의 행복을 찾을 수 있다.\n",
            "람은 누구나 몰입할 수 있는 능력을 가지고 있다.위기 상황에서 몰입하기도 하고, 몰입이 주는 즐거움 때문에 번지점프와 같은 가상의 위기 상황을 만들어 일부러 몰입을 추구하기도 한다.그런데 이왕이면 업무나 학습 활동에 몰입하여 높은 기량도 쌓고 즐거움도 얻는 게 더 좋을 것이다.이것은 삶에서 대단히 중요한 문제이고 이 방법을 터득하면 삶의 행복을 찾을 수 있다.\n",
            "람은 누구나 몰입할 수 있는 능력을 가지고 있다.위기 상황에서 몰입하기도 하고, 몰입이 주는 즐거움 때문에 번지점프와 같은 가상의 위기 상황을 만들어 일부러 몰입을 추구하기도 한다.그런데 이왕이면 업무나 학습 활동에 몰입하여 높은 기량도 쌓고 즐거움도 얻는 게 더 좋을 것이다.이것은 삶에서 대단히 중요한 문제이고 이 방법을 터득하면 삶의 행복을 찾을 수 있다.\n",
            "람은 누구나 몰입할 수 있는 능력을 가지고 있다.위기 상황에서 몰입하기도 하고, 몰입이 주는 즐거움 때문에 번지점프와 같은 가상의 위기 상황을 만들어 일부러 몰입을 추구하기도 한다.그런데 이왕이면 업무나 학습 활동에 몰입하여 높은 기량도 쌓고 즐거움도 얻는 게 더 좋을 것이다.이것은 삶에서 대단히 중요한 문제이고 이 방법을 터득하면 삶의 행복을 찾을 수 있다.\n",
            "람은 누구나 몰입할 수 있는 능력을 가지고 있다.위기 상황에서 몰입하기도 하고, 몰입이 주는 즐거움 때문에 번지점프와 같은 가상의 위기 상황을 만들어 일부러 몰입을 추구하기도 한다.그런데 이왕이면 업무나 학습 활동에 몰입하여 높은 기량도 쌓고 즐거움도 얻는 게 더 좋을 것이다.이것은 삶에서 대단히 중요한 문제이고 이 방법을 터득하면 삶의 행복을 찾을 수 있다.\n",
            "람은 누구나 몰입할 수 있는 능력을 가지고 있다.위기 상황에서 몰입하기도 하고, 몰입이 주는 즐거움 때문에 번지점프와 같은 가상의 위기 상황을 만들어 일부러 몰입을 추구하기도 한다.그런데 이왕이면 업무나 학습 활동에 몰입하여 높은 기량도 쌓고 즐거움도 얻는 게 더 좋을 것이다.이것은 삶에서 대단히 중요한 문제이고 이 방법을 터득하면 삶의 행복을 찾을 수 있다.\n",
            "람은 누구나 몰입할 수 있는 능력을 가지고 있다.위기 상황에서 몰입하기도 하고, 몰입이 주는 즐거움 때문에 번지점프와 같은 가상의 위기 상황을 만들어 일부러 몰입을 추구하기도 한다.그런데 이왕이면 업무나 학습 활동에 몰입하여 높은 기량도 쌓고 즐거움도 얻는 게 더 좋을 것이다.이것은 삶에서 대단히 중요한 문제이고 이 방법을 터득하면 삶의 행복을 찾을 수 있다.\n",
            "람은 누구나 몰입할 수 있는 능력을 가지고 있다.위기 상황에서 몰입하기도 하고, 몰입이 주는 즐거움 때문에 번지점프와 같은 가상의 위기 상황을 만들어 일부러 몰입을 추구하기도 한다.그런데 이왕이면 업무나 학습 활동에 몰입하여 높은 기량도 쌓고 즐거움도 얻는 게 더 좋을 것이다.이것은 삶에서 대단히 중요한 문제이고 이 방법을 터득하면 삶의 행복을 찾을 수 있다.\n",
            "람은 누구나 몰입할 수 있는 능력을 가지고 있다.위기 상황에서 몰입하기도 하고, 몰입이 주는 즐거움 때문에 번지점프와 같은 가상의 위기 상황을 만들어 일부러 몰입을 추구하기도 한다.그런데 이왕이면 업무나 학습 활동에 몰입하여 높은 기량도 쌓고 즐거움도 얻는 게 더 좋을 것이다.이것은 삶에서 대단히 중요한 문제이고 이 방법을 터득하면 삶의 행복을 찾을 수 있다.\n",
            "람은 누구나 몰입할 수 있는 능력을 가지고 있다.위기 상황에서 몰입하기도 하고, 몰입이 주는 즐거움 때문에 번지점프와 같은 가상의 위기 상황을 만들어 일부러 몰입을 추구하기도 한다.그런데 이왕이면 업무나 학습 활동에 몰입하여 높은 기량도 쌓고 즐거움도 얻는 게 더 좋을 것이다.이것은 삶에서 대단히 중요한 문제이고 이 방법을 터득하면 삶의 행복을 찾을 수 있다.\n",
            "람은 누구나 몰입할 수 있는 능력을 가지고 있다.위기 상황에서 몰입하기도 하고, 몰입이 주는 즐거움 때문에 번지점프와 같은 가상의 위기 상황을 만들어 일부러 몰입을 추구하기도 한다.그런데 이왕이면 업무나 학습 활동에 몰입하여 높은 기량도 쌓고 즐거움도 얻는 게 더 좋을 것이다.이것은 삶에서 대단히 중요한 문제이고 이 방법을 터득하면 삶의 행복을 찾을 수 있다.\n",
            "람은 누구나 몰입할 수 있는 능력을 가지고 있다.위기 상황에서 몰입하기도 하고, 몰입이 주는 즐거움 때문에 번지점프와 같은 가상의 위기 상황을 만들어 일부러 몰입을 추구하기도 한다.그런데 이왕이면 업무나 학습 활동에 몰입하여 높은 기량도 쌓고 즐거움도 얻는 게 더 좋을 것이다.이것은 삶에서 대단히 중요한 문제이고 이 방법을 터득하면 삶의 행복을 찾을 수 있다.\n",
            "람은 누구나 몰입할 수 있는 능력을 가지고 있다.위기 상황에서 몰입하기도 하고, 몰입이 주는 즐거움 때문에 번지점프와 같은 가상의 위기 상황을 만들어 일부러 몰입을 추구하기도 한다.그런데 이왕이면 업무나 학습 활동에 몰입하여 높은 기량도 쌓고 즐거움도 얻는 게 더 좋을 것이다.이것은 삶에서 대단히 중요한 문제이고 이 방법을 터득하면 삶의 행복을 찾을 수 있다.\n"
          ]
        }
      ]
    },
    {
      "cell_type": "code",
      "source": [
        "predict_str"
      ],
      "metadata": {
        "colab": {
          "base_uri": "https://localhost:8080/",
          "height": 72
        },
        "id": "dIk7qU_I85HP",
        "outputId": "a0ad67d3-5669-4b5a-c49e-4b30849ece58"
      },
      "execution_count": 16,
      "outputs": [
        {
          "output_type": "execute_result",
          "data": {
            "text/plain": [
              "'람은 누구나 몰입할 수 있는 능력을 가지고 있다.위기 상황에서 몰입하기도 하고, 몰입이 주는 즐거움 때문에 번지점프와 같은 가상의 위기 상황을 만들어 일부러 몰입을 추구하기도 한다.그런데 이왕이면 업무나 학습 활동에 몰입하여 높은 기량도 쌓고 즐거움도 얻는 게 더 좋을 것이다.이것은 삶에서 대단히 중요한 문제이고 이 방법을 터득하면 삶의 행복을 찾을 수 있다.'"
            ],
            "application/vnd.google.colaboratory.intrinsic+json": {
              "type": "string"
            }
          },
          "metadata": {},
          "execution_count": 16
        }
      ]
    }
  ]
}