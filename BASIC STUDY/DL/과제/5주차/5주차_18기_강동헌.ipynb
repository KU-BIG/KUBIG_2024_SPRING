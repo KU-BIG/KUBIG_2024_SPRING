{
  "nbformat": 4,
  "nbformat_minor": 0,
  "metadata": {
    "colab": {
      "provenance": []
    },
    "kernelspec": {
      "name": "python3",
      "display_name": "Python 3"
    },
    "language_info": {
      "name": "python"
    },
    "accelerator": "GPU",
    "gpuClass": "standard"
  },
  "cells": [
    {
      "cell_type": "code",
      "execution_count": null,
      "metadata": {
        "id": "nmQ5F7UAeKB_"
      },
      "outputs": [],
      "source": [
        "import numpy as np\n",
        "import torch\n",
        "import torch.nn as nn\n",
        "import torch.optim as optim"
      ]
    },
    {
      "cell_type": "markdown",
      "source": [
        "## Task1\n",
        "\n",
        "빈 칸을 채워주세요!\n",
        "\n",
        "단계별 output이 github 파일에는 남아있으니 그 output과 동일한 형태인지 확인하면서 진행해주시면 됩니다~"
      ],
      "metadata": {
        "id": "Sgxd6SxmeVcP"
      }
    },
    {
      "cell_type": "code",
      "source": [
        "#1. 생성할 문장 데이터\n",
        "\n",
        "sentence = (\"Brick walls are there for a reason and you must not think \"\n",
        "            \"that the brick walls aren't there to keep us out, but rather \"\n",
        "            \"in this way that the brick walls are there to show us how badly we want things.\")"
      ],
      "metadata": {
        "id": "NDvUeC8BoUb6"
      },
      "execution_count": null,
      "outputs": []
    },
    {
      "cell_type": "code",
      "source": [
        "#2. 문자 집합 만들기\n",
        "world_set = list(set(sentence))\n",
        "\n",
        "## 문제(1): 각 문자에 정수 인코딩 (공백도 하나의 원소로 포함)\n",
        "vocab = {##}"
      ],
      "metadata": {
        "id": "b9lkrKyZf8ie"
      },
      "execution_count": null,
      "outputs": []
    },
    {
      "cell_type": "code",
      "source": [
        "print(vocab)"
      ],
      "metadata": {
        "colab": {
          "base_uri": "https://localhost:8080/"
        },
        "id": "F_0we5Y-gYDq",
        "outputId": "01af8d3e-406c-4be6-d44d-e5c950900e4d"
      },
      "execution_count": null,
      "outputs": [
        {
          "output_type": "stream",
          "name": "stdout",
          "text": [
            "{',': 0, 'r': 1, 'i': 2, 's': 3, \"'\": 4, 'm': 5, 'l': 6, 'a': 7, 'p': 8, 'o': 9, 't': 10, 'h': 11, ' ': 12, 'e': 13, 'y': 14, 'd': 15, 'B': 16, 'n': 17, 'b': 18, '.': 19, 'w': 20, 'k': 21, 'c': 22, 'g': 23, 'f': 24, 'u': 25}\n"
          ]
        }
      ]
    },
    {
      "cell_type": "code",
      "source": [
        "#3. 문자 집합 크기 확인\n",
        "\n",
        "vocab_size = len(vocab)\n",
        "print('문자 집합 크기 : {}'.format(vocab_size))"
      ],
      "metadata": {
        "colab": {
          "base_uri": "https://localhost:8080/"
        },
        "id": "TpKupU6lgpfT",
        "outputId": "8aa615b8-e7e7-4ded-89bd-0a30ea2b7963"
      },
      "execution_count": null,
      "outputs": [
        {
          "output_type": "stream",
          "name": "stdout",
          "text": [
            "문자 집합 크기 : 26\n"
          ]
        }
      ]
    },
    {
      "cell_type": "code",
      "source": [
        "#4. 하이퍼 파라미터 설정(자유롭게 수정해보세요!)\n",
        "\n",
        "hidden_size = vocab_size # 같아야 하는 것 확인!\n",
        "sequence_length = 10  # 너무 길거나 너무 짧게 잡으면 안됩니다!\n",
        "learning_rate = 0.01"
      ],
      "metadata": {
        "id": "wFDZJHSMg9In"
      },
      "execution_count": null,
      "outputs": []
    },
    {
      "cell_type": "code",
      "source": [
        "#5. seqence 길이 단위 자르기\n",
        "\n",
        "# 데이터 구성을 위한 리스트\n",
        "x_data = []\n",
        "y_data = []\n",
        "\n",
        "## 문제(2): 반복문 내에서의 인덱싱을 사용하여 sequence_length 값 단위로 샘플을 잘라 데이터 만들기, y_str은 x_str은 한 칸씩 쉬프트된 sequnce\n",
        "\n",
        "for i in range(0, len(sentence) - sequence_length):\n",
        "  x_str = sentence[##]\n",
        "  y_str = sentence[##]\n",
        "  print(i, x_str, \"->\", y_str)\n",
        "\n",
        "  # x_str과 y_str이 문자집합에 해당하는 인덱스를 각각 x_data, y_data에 append\n",
        "  x_data.append([vocab[c] for c in x_str])\n",
        "  y_data.append([vocab[d] for d in y_str])"
      ],
      "metadata": {
        "colab": {
          "base_uri": "https://localhost:8080/"
        },
        "id": "RbDcmJmghN7V",
        "outputId": "dcfb8e63-be17-440a-d2eb-f4c468c08a8f"
      },
      "execution_count": null,
      "outputs": [
        {
          "output_type": "stream",
          "name": "stdout",
          "text": [
            "0 Brick wall -> rick walls\n",
            "1 rick walls -> ick walls \n",
            "2 ick walls  -> ck walls a\n",
            "3 ck walls a -> k walls ar\n",
            "4 k walls ar ->  walls are\n",
            "5  walls are -> walls are \n",
            "6 walls are  -> alls are t\n",
            "7 alls are t -> lls are th\n",
            "8 lls are th -> ls are the\n",
            "9 ls are the -> s are ther\n",
            "10 s are ther ->  are there\n",
            "11  are there -> are there \n",
            "12 are there  -> re there f\n",
            "13 re there f -> e there fo\n",
            "14 e there fo ->  there for\n",
            "15  there for -> there for \n",
            "16 there for  -> here for a\n",
            "17 here for a -> ere for a \n",
            "18 ere for a  -> re for a r\n",
            "19 re for a r -> e for a re\n",
            "20 e for a re ->  for a rea\n",
            "21  for a rea -> for a reas\n",
            "22 for a reas -> or a reaso\n",
            "23 or a reaso -> r a reason\n",
            "24 r a reason ->  a reason \n",
            "25  a reason  -> a reason a\n",
            "26 a reason a ->  reason an\n",
            "27  reason an -> reason and\n",
            "28 reason and -> eason and \n",
            "29 eason and  -> ason and y\n",
            "30 ason and y -> son and yo\n",
            "31 son and yo -> on and you\n",
            "32 on and you -> n and you \n",
            "33 n and you  ->  and you m\n",
            "34  and you m -> and you mu\n",
            "35 and you mu -> nd you mus\n",
            "36 nd you mus -> d you must\n",
            "37 d you must ->  you must \n",
            "38  you must  -> you must n\n",
            "39 you must n -> ou must no\n",
            "40 ou must no -> u must not\n",
            "41 u must not ->  must not \n",
            "42  must not  -> must not t\n",
            "43 must not t -> ust not th\n",
            "44 ust not th -> st not thi\n",
            "45 st not thi -> t not thin\n",
            "46 t not thin ->  not think\n",
            "47  not think -> not think \n",
            "48 not think  -> ot think t\n",
            "49 ot think t -> t think th\n",
            "50 t think th ->  think tha\n",
            "51  think tha -> think that\n",
            "52 think that -> hink that \n",
            "53 hink that  -> ink that t\n",
            "54 ink that t -> nk that th\n",
            "55 nk that th -> k that the\n",
            "56 k that the ->  that the \n",
            "57  that the  -> that the b\n",
            "58 that the b -> hat the br\n",
            "59 hat the br -> at the bri\n",
            "60 at the bri -> t the bric\n",
            "61 t the bric ->  the brick\n",
            "62  the brick -> the brick \n",
            "63 the brick  -> he brick w\n",
            "64 he brick w -> e brick wa\n",
            "65 e brick wa ->  brick wal\n",
            "66  brick wal -> brick wall\n",
            "67 brick wall -> rick walls\n",
            "68 rick walls -> ick walls \n",
            "69 ick walls  -> ck walls a\n",
            "70 ck walls a -> k walls ar\n",
            "71 k walls ar ->  walls are\n",
            "72  walls are -> walls aren\n",
            "73 walls aren -> alls aren'\n",
            "74 alls aren' -> lls aren't\n",
            "75 lls aren't -> ls aren't \n",
            "76 ls aren't  -> s aren't t\n",
            "77 s aren't t ->  aren't th\n",
            "78  aren't th -> aren't the\n",
            "79 aren't the -> ren't ther\n",
            "80 ren't ther -> en't there\n",
            "81 en't there -> n't there \n",
            "82 n't there  -> 't there t\n",
            "83 't there t -> t there to\n",
            "84 t there to ->  there to \n",
            "85  there to  -> there to k\n",
            "86 there to k -> here to ke\n",
            "87 here to ke -> ere to kee\n",
            "88 ere to kee -> re to keep\n",
            "89 re to keep -> e to keep \n",
            "90 e to keep  ->  to keep u\n",
            "91  to keep u -> to keep us\n",
            "92 to keep us -> o keep us \n",
            "93 o keep us  ->  keep us o\n",
            "94  keep us o -> keep us ou\n",
            "95 keep us ou -> eep us out\n",
            "96 eep us out -> ep us out,\n",
            "97 ep us out, -> p us out, \n",
            "98 p us out,  ->  us out, b\n",
            "99  us out, b -> us out, bu\n",
            "100 us out, bu -> s out, but\n",
            "101 s out, but ->  out, but \n",
            "102  out, but  -> out, but r\n",
            "103 out, but r -> ut, but ra\n",
            "104 ut, but ra -> t, but rat\n",
            "105 t, but rat -> , but rath\n",
            "106 , but rath ->  but rathe\n",
            "107  but rathe -> but rather\n",
            "108 but rather -> ut rather \n",
            "109 ut rather  -> t rather i\n",
            "110 t rather i ->  rather in\n",
            "111  rather in -> rather in \n",
            "112 rather in  -> ather in t\n",
            "113 ather in t -> ther in th\n",
            "114 ther in th -> her in thi\n",
            "115 her in thi -> er in this\n",
            "116 er in this -> r in this \n",
            "117 r in this  ->  in this w\n",
            "118  in this w -> in this wa\n",
            "119 in this wa -> n this way\n",
            "120 n this way ->  this way \n",
            "121  this way  -> this way t\n",
            "122 this way t -> his way th\n",
            "123 his way th -> is way tha\n",
            "124 is way tha -> s way that\n",
            "125 s way that ->  way that \n",
            "126  way that  -> way that t\n",
            "127 way that t -> ay that th\n",
            "128 ay that th -> y that the\n",
            "129 y that the ->  that the \n",
            "130  that the  -> that the b\n",
            "131 that the b -> hat the br\n",
            "132 hat the br -> at the bri\n",
            "133 at the bri -> t the bric\n",
            "134 t the bric ->  the brick\n",
            "135  the brick -> the brick \n",
            "136 the brick  -> he brick w\n",
            "137 he brick w -> e brick wa\n",
            "138 e brick wa ->  brick wal\n",
            "139  brick wal -> brick wall\n",
            "140 brick wall -> rick walls\n",
            "141 rick walls -> ick walls \n",
            "142 ick walls  -> ck walls a\n",
            "143 ck walls a -> k walls ar\n",
            "144 k walls ar ->  walls are\n",
            "145  walls are -> walls are \n",
            "146 walls are  -> alls are t\n",
            "147 alls are t -> lls are th\n",
            "148 lls are th -> ls are the\n",
            "149 ls are the -> s are ther\n",
            "150 s are ther ->  are there\n",
            "151  are there -> are there \n",
            "152 are there  -> re there t\n",
            "153 re there t -> e there to\n",
            "154 e there to ->  there to \n",
            "155  there to  -> there to s\n",
            "156 there to s -> here to sh\n",
            "157 here to sh -> ere to sho\n",
            "158 ere to sho -> re to show\n",
            "159 re to show -> e to show \n",
            "160 e to show  ->  to show u\n",
            "161  to show u -> to show us\n",
            "162 to show us -> o show us \n",
            "163 o show us  ->  show us h\n",
            "164  show us h -> show us ho\n",
            "165 show us ho -> how us how\n",
            "166 how us how -> ow us how \n",
            "167 ow us how  -> w us how b\n",
            "168 w us how b ->  us how ba\n",
            "169  us how ba -> us how bad\n",
            "170 us how bad -> s how badl\n",
            "171 s how badl ->  how badly\n",
            "172  how badly -> how badly \n",
            "173 how badly  -> ow badly w\n",
            "174 ow badly w -> w badly we\n",
            "175 w badly we ->  badly we \n",
            "176  badly we  -> badly we w\n",
            "177 badly we w -> adly we wa\n",
            "178 adly we wa -> dly we wan\n",
            "179 dly we wan -> ly we want\n",
            "180 ly we want -> y we want \n",
            "181 y we want  ->  we want t\n",
            "182  we want t -> we want th\n",
            "183 we want th -> e want thi\n",
            "184 e want thi ->  want thin\n",
            "185  want thin -> want thing\n",
            "186 want thing -> ant things\n",
            "187 ant things -> nt things.\n"
          ]
        }
      ]
    },
    {
      "cell_type": "code",
      "source": [
        "# 출력해서 한 칸씩 쉬프트된 것 확인하기!\n",
        "\n",
        "print(x_data[0])\n",
        "print(y_data[0])"
      ],
      "metadata": {
        "colab": {
          "base_uri": "https://localhost:8080/"
        },
        "id": "XVFlILiOixdc",
        "outputId": "504a1c71-f8f5-446f-f9fb-8fb1e24d41fc"
      },
      "execution_count": null,
      "outputs": [
        {
          "output_type": "stream",
          "name": "stdout",
          "text": [
            "[16, 1, 2, 22, 21, 12, 20, 7, 6, 6]\n",
            "[1, 2, 22, 21, 12, 20, 7, 6, 6, 3]\n"
          ]
        }
      ]
    },
    {
      "cell_type": "code",
      "source": [
        "##6. 입력 시퀀스에 대해 원핫인코딩 수행\n",
        "\n",
        "## 문제(4) : x_data를 원핫인코딩 > numpy의 eye를 쓸 수 있지 않을까?\n",
        "x_one_hot = [##]\n",
        "\n",
        "##7. 입력 데이터, 레이블데이터 텐서로 변환\n",
        "\n",
        "## 문제(5) : x_one_hot과 y_data 텐서로 변환 : 둘 다 같은 형식의 텐서로 변환하면 될까?? (FloatTensor, LongTesor 중 맞는 것은?)\n",
        "X = torch.##\n",
        "Y = torch.##"
      ],
      "metadata": {
        "id": "5lPes1dvjlNb",
        "colab": {
          "base_uri": "https://localhost:8080/"
        },
        "outputId": "0705e61b-779f-4c71-8303-dc6c275bb401"
      },
      "execution_count": null,
      "outputs": [
        {
          "output_type": "stream",
          "name": "stderr",
          "text": [
            "/usr/local/lib/python3.7/dist-packages/ipykernel_launcher.py:9: UserWarning: Creating a tensor from a list of numpy.ndarrays is extremely slow. Please consider converting the list to a single numpy.ndarray with numpy.array() before converting to a tensor. (Triggered internally at  ../torch/csrc/utils/tensor_new.cpp:201.)\n",
            "  if __name__ == '__main__':\n"
          ]
        }
      ]
    },
    {
      "cell_type": "code",
      "source": [
        "##8. 크기 확인\n",
        "print('훈련 데이터의 크기 : {}'.format(X.shape))\n",
        "print('레이블의 크기 : {}'.format(Y.shape))"
      ],
      "metadata": {
        "colab": {
          "base_uri": "https://localhost:8080/"
        },
        "id": "lMZzZlaymMk8",
        "outputId": "9d64e989-9ca6-4c8c-830a-7460a4f3a47b"
      },
      "execution_count": null,
      "outputs": [
        {
          "output_type": "stream",
          "name": "stdout",
          "text": [
            "훈련 데이터의 크기 : torch.Size([188, 10, 26])\n",
            "레이블의 크기 : torch.Size([188, 10])\n"
          ]
        }
      ]
    },
    {
      "cell_type": "code",
      "source": [
        "##9.원핫인코딩 결과 샘플 확인하기\n",
        "print(X[0])"
      ],
      "metadata": {
        "colab": {
          "base_uri": "https://localhost:8080/"
        },
        "id": "knx1DE_AmSFB",
        "outputId": "5e46adcc-8fec-4ea2-ea1f-e5f0766eb161"
      },
      "execution_count": null,
      "outputs": [
        {
          "output_type": "stream",
          "name": "stdout",
          "text": [
            "tensor([[0., 0., 0., 0., 0., 0., 0., 0., 0., 0., 0., 0., 0., 0., 0., 0., 1., 0.,\n",
            "         0., 0., 0., 0., 0., 0., 0., 0.],\n",
            "        [0., 1., 0., 0., 0., 0., 0., 0., 0., 0., 0., 0., 0., 0., 0., 0., 0., 0.,\n",
            "         0., 0., 0., 0., 0., 0., 0., 0.],\n",
            "        [0., 0., 1., 0., 0., 0., 0., 0., 0., 0., 0., 0., 0., 0., 0., 0., 0., 0.,\n",
            "         0., 0., 0., 0., 0., 0., 0., 0.],\n",
            "        [0., 0., 0., 0., 0., 0., 0., 0., 0., 0., 0., 0., 0., 0., 0., 0., 0., 0.,\n",
            "         0., 0., 0., 0., 1., 0., 0., 0.],\n",
            "        [0., 0., 0., 0., 0., 0., 0., 0., 0., 0., 0., 0., 0., 0., 0., 0., 0., 0.,\n",
            "         0., 0., 0., 1., 0., 0., 0., 0.],\n",
            "        [0., 0., 0., 0., 0., 0., 0., 0., 0., 0., 0., 0., 1., 0., 0., 0., 0., 0.,\n",
            "         0., 0., 0., 0., 0., 0., 0., 0.],\n",
            "        [0., 0., 0., 0., 0., 0., 0., 0., 0., 0., 0., 0., 0., 0., 0., 0., 0., 0.,\n",
            "         0., 0., 1., 0., 0., 0., 0., 0.],\n",
            "        [0., 0., 0., 0., 0., 0., 0., 1., 0., 0., 0., 0., 0., 0., 0., 0., 0., 0.,\n",
            "         0., 0., 0., 0., 0., 0., 0., 0.],\n",
            "        [0., 0., 0., 0., 0., 0., 1., 0., 0., 0., 0., 0., 0., 0., 0., 0., 0., 0.,\n",
            "         0., 0., 0., 0., 0., 0., 0., 0.],\n",
            "        [0., 0., 0., 0., 0., 0., 1., 0., 0., 0., 0., 0., 0., 0., 0., 0., 0., 0.,\n",
            "         0., 0., 0., 0., 0., 0., 0., 0.]])\n"
          ]
        }
      ]
    },
    {
      "cell_type": "code",
      "source": [
        "##10. 레이블 데이터 샘플 확인하기\n",
        "print(Y[0])"
      ],
      "metadata": {
        "colab": {
          "base_uri": "https://localhost:8080/"
        },
        "id": "6pWDiH1SmYT_",
        "outputId": "744a60f6-c22b-47e1-8ff5-dee57ac8e706"
      },
      "execution_count": null,
      "outputs": [
        {
          "output_type": "stream",
          "name": "stdout",
          "text": [
            "tensor([ 1,  2, 22, 21, 12, 20,  7,  6,  6,  3])\n"
          ]
        }
      ]
    },
    {
      "cell_type": "code",
      "source": [
        "##11. RNN 모델 구현\n",
        "\n",
        "##문제(6) : 기본 pytorch 인자 넣기 연습 + forward 채우기\n",
        "### 조건 : rnn layer 2개 쌓기 + 마지막은 fc layer\n",
        "### batch_fisrt 설정 필요할까? (유튜브 강의 참고)\n",
        "\n",
        "class Net(torch.nn.Module):\n",
        "  def __init__(self, input_dim, hidden_dim, layers):\n",
        "    super(Net, self).__init__()\n",
        "    self.rnn = torch.nn.RNN(##)\n",
        "    self.fc = torch.nn.Linear(##)\n",
        "  \n",
        "  def forward(self, x):\n",
        "    ##\n",
        "    ##\n",
        "    return x"
      ],
      "metadata": {
        "id": "-Ww22xu8mfUc"
      },
      "execution_count": null,
      "outputs": []
    },
    {
      "cell_type": "code",
      "source": [
        "net = Net(vocab_size, hidden_size, 2)"
      ],
      "metadata": {
        "id": "No2GRvTpnLBl"
      },
      "execution_count": null,
      "outputs": []
    },
    {
      "cell_type": "code",
      "source": [
        "##12. loss function\n",
        "criterion = torch.nn.CrossEntropyLoss()\n",
        "\n",
        "##13. optimizer\n",
        "optimizer = optim.Adam(net.parameters(), learning_rate)"
      ],
      "metadata": {
        "id": "9-zuJLeUnQLB"
      },
      "execution_count": null,
      "outputs": []
    },
    {
      "cell_type": "code",
      "source": [
        "##14. 출력 크기 점검\n",
        "outputs = net(X)\n",
        "print(outputs.shape)"
      ],
      "metadata": {
        "colab": {
          "base_uri": "https://localhost:8080/"
        },
        "id": "z-RxRaiHnh9U",
        "outputId": "91348b4b-28bb-469b-85a0-8b9cc85e0454"
      },
      "execution_count": null,
      "outputs": [
        {
          "output_type": "stream",
          "name": "stdout",
          "text": [
            "torch.Size([188, 10, 26])\n"
          ]
        }
      ]
    },
    {
      "cell_type": "code",
      "source": [
        "##15. Training 시작\n",
        "\n",
        "for i in range(100):\n",
        "    optimizer.zero_grad()\n",
        "    outputs = net(X)\n",
        "    ##문제(7) : outputs, Y 형태 그대로 넣으면 안되죠. view 함수를 이용해 loss값을 계산해봅시다.\n",
        "    loss = criterion(outputs.view(##, ##), Y.view(##))\n",
        "    loss.backward()\n",
        "    optimizer.step()\n",
        "\n",
        "    #16. 예측결과 확인\n",
        "    results = outputs.argmax(dim=2)\n",
        "    predict_str = \"\"\n",
        "    for j, result in enumerate(results):\n",
        "        if j == 0: # 처음에는 예측 결과를 전부 가져오기\n",
        "            predict_str += ''.join([world_set[t] for t in result])\n",
        "        else: # 그 다음에는 마지막 글자만 반복 추가\n",
        "            predict_str += world_set[result[-1]]\n",
        "\n",
        "    print(predict_str)"
      ],
      "metadata": {
        "colab": {
          "base_uri": "https://localhost:8080/"
        },
        "id": "uxxrxCd2nwoo",
        "outputId": "ac865379-a166-45d5-c8ae-18a257116dd3"
      },
      "execution_count": null,
      "outputs": [
        {
          "output_type": "stream",
          "name": "stdout",
          "text": [
            "eeeeedeeeeeeeedeeededeeeedeeedeeeeeeeeeeeeeeeeeeeeeeeeeeeeeeeedeedeeeeeedeeeeeeeedeeedeededeeededdeeeeeeeeddeeedeeeededeeeeeeedeeedeeeedeedeeeeeedeeeeeeeedeeededeeedeeeeeeeeeeeeeeeeedeedeeeeeeeeeee\n",
            "eeeeeeeeeeeeeeeeeeeeeeeeeeeeeeeeeeeeeeeeeeeeeeeeeeeeeeeeeeeeeeeeeeeeeeeeeeeeeeeeeeeeeeeeeeeeeeeeeeeeeeeeeeeeeeeeeeeeeeeeeeeeeeeeeeeeeeeeeeeeeeeeeeeeeeeeeeeeeeeeeeeeeeeeeeeeeeeeeeeeeeeeeeeeeeeeeeeee\n",
            "eee e eeeee e e  e  e e  ee ee e   e   ee  ee  ee  e e    ee    e  eee e eeeee e e     e  e  e ee   ee e ee e   ee e e e  ee e eee ee    e  eee e eeeee e e  e  e  e ee  eee e  ee  ee ee ee  e e   e\n",
            "ee                                                                                                                                                                                                   \n",
            "e                                                                                                                                                                                                    \n",
            "                                                                                                                                                                                                     \n",
            "                                                                                                                                                                                                     \n",
            "                                                                                                                                                                                                     \n",
            "                                                                                                                                                                                                     \n",
            "                                                                                                                                                                                                     \n",
            "                                                                                                                                                                                                     \n",
            "                                                                                                                                                                                                     \n",
            "                                                                                                                                                                                                     \n",
            "      a                                                                                                                                                                                              \n",
            "      a                                                                  a             e                                                          a                                                  \n",
            "      a          e    e                              e     e    e  e     a             e       e    a       e   e  e       e   a    e    e  e     a          e            a  a                  e    \n",
            "      a         ee    e     e          e             e     e    e  e   e a             e       e    a       e   e  e   a   e   a   ee    e  e   e a         ee       ee   a  a         a        e    \n",
            "   t  o     h  tee   te     e          e    e        e    he    e  e   e o     h       e      te    a  h    e   e  e   a  he   a   ee    e  e   e o     h  tee   te teet  a  o   a     h  h     e    \n",
            "   t  o     h  tee   te                o    e       he    he   he  e   e o     h      he   th te    a  o   te   e  e   s  he   a  teet  he  e   e o     h  tee   te te t  a  o   h     h  h    he    \n",
            "   k  o  s  he teet  to   h      t     o   he   h   he   the   he  he keto  s  he t  the   th te    o  o   to   h  e   s  het  h  teet  he  he keto  s  he teet  te te t  h  o   o     o  o    he    \n",
            "  sk to  s  he teet  to   h      t h   o   he  th   het  toet  he  oe keto  s  he t  the   th te    o  o   to   h  et  o  het  o  thet  he  oe keto  s  he teet  th teet  o  o   o     o  o    het   \n",
            " esk to  s  oe thet  to   h e    t h   ot  oe  th   het  toet  het oesk to  s  oe    thete th te    o  o   to   he ete o  het  o   het  het oesk to  s  oe thet  th teet  o  o   o     o  o    het   \n",
            " esk to  s  he thet  to  th e    t h   ot  os  to   het  toet  het oenk to  s  he    thete th te   to  o   to   he ete o  hes  oe  het  het oenk to  s  he thet  th teet  o  ot  o     o  o    het   \n",
            " esk to  s  he thet  to  tr e t  t h   ot  os  to  ahet  toet  het oesk to  s  he    thete th te   to  o   to   he ete s  hes  ol  het  het oesk to  s  he thet  th teet  o  ot to     o  o    het   \n",
            " esk tol s  he thet  to  tr e t  t h   ot  os  th  ahet  thet  het oesk tol s  he    thete th te   to  a   to   ae ete s  hes  al  het  het oesk tol s  he thet  th teet  a  ot tol   to  o    het   \n",
            " esk tol s  re thete to  ar e t  t h   ot  os  th  ahes  whet  het oesk tol s  re t  thete th te   ta  a   to   al ete s  hes  al thet  het oesk tol s  re thete th teet  a  ot tal s to  ol   het   \n",
            " esk talls are thete to  ar e t  tha   ot  os  th  ahes  whet  het oesk talls are t  thete th th t ta  a   to   al et  s  hes  al thes  het oesk talls are thete th thet  a  at aal s to thls  het   \n",
            " esk talls are there to  ar e t  that  at  os  th  ahes  whet  he  oesk talls are t  thete th th t ta aa   to   al e   s  hes  al thes  he  oesk talls are there th thet  a  at aal s ta thls  hesk  \n",
            " esk walls are there to  arte t  that  at  os  th  ahes  whet  he  oesk walls are t  thete th th t ta aa   to   al e   s  hes  al thes  he  oesk walls are there th thet ta wat aalls ta thls  hesk  \n",
            "resk walls are there tot arte t  tha   ot  os  th  ahes  wher  he  aesk walls are t  thete th th t as aa   to  tal e ets  hes  al ther  he  aesk walls are there th thet ta wat ualll wa thls  hesk  \n",
            "resk walls are there tot arte t  tha   ot  os  ta  ahes  wher  he taesk walls are t  the e th th   as aa   ta  tal e ets  hes aal ther  he taesk walls are there th thet ta wat ualll wh tal   hesk  \n",
            "resk walls are there tot arte t  tha  tot bos  ta  ahes  wher  he taesk walls are t  the e th th   as ar   aa  tal e ets  hes aal ther  he taesk walls are there th thet ta wat ualll wh tal  thesk  \n",
            "renk walls are there tot arte t  tha  tot bos  ta  ahes  wher  he taesk walls are t  the e th th   as ar   aa  wal e ets  hes aal ther  he taesk walls are there th thet us wat uarll wh tal  thesk  \n",
            "renk walls are there tot arte t   hn  bor bus  ta  ahesk wher  he taeck walls are t  the e th th   as ar   aa  wal e ets  hes aal ther  he taeck walls are there th toet us war barll wh tal  thesk  \n",
            "reck walls are there tot arte t   hn  bor bus  ta  ahesk wher  he taeck walls are t  the e th th   as ar   aa  wal e ets  hes aal ther  he taeck walls are there th toet us war barll wh tal  thesk  \n",
            "reck walls are there tot arre t   hn  bor bus  ta  ahesk wher  he taeck walls are t  the e th th   as or   au  wal e ets thes aal ther  he taeck walls are there th toet us war barll wh tal  thesk  \n",
            "reck walls are there tot arre t   hr  bor bus  to  ahesk wher the taeck walls are t  the e th to   as or   au  tal e etr thes aal ther  he taeck walls are there th toer us war barll th tal  thesk  \n",
            "reck walls are there tot arre t n or  bor bus  to  thesk wher the taeck walls are t  there thtte   as or   au  tal e ets thes aal ther  he taeck walls are there thttoar us war barll te tal  thesk  \n",
            "reck walls are there tot arre t n or  bor bus  to  thesk wher the taeck walls are t  there thtte r as out  au  tal e ets thes aal ther the taeck walls are there thttoar us war barll te tal  thesk  \n",
            "reck walls are there tot arre t n tr  bor bus  tot thesk wher the taick walls are t  there thtte r as out  uu  tal e e s thes aal ther the taick walls are there thttoar us war barll te tal  thesk  \n",
            "reck walls are there tot arre t n tr  bor bus  tot thesk wher the taick walls are t  there thtte r us out  uut tal e e s thes aal ther the taick walls are there thttoat us wat barll te tal  thesk  \n",
            "reck walls are there tor arre thn trl bor bus  tot thesk wher the trick walls are t  there thtte r us out  uut tat e e n thes aal thet the trick walls are there thttoat us wat badll te tal  thesk  \n",
            "reck walls are there tor arreathn arl bor bus  tot thenk wher the trick walls are t  there thtte r us out  but tat e e n thes aal thet the trick walls are there thttoaw us aat badll te tal  thenkt \n",
            "reck walls are there tor arreaton arl bor bus  tot thenk wher the trick walls are t  there thtte r us out  but tat e e n then aal thet the trick walls are there thttoaw us aat badll we tal  thenkt \n",
            "reck walls are there tor arreaton arl wor bus  tot thenk whet the trick walls are t  there thtte r us out  but tat e e n then wal thet the trick walls are there thttoaw us aat badll we tal  thenkt \n",
            "reck walls are there tor arreat n arl yor bus  tot thenk whet the trick walls are t  there thtte r us out  but tat e e n then wal thet the trick walls are there thttoaw us hat badll we tal  thenktw\n",
            "reck walls are there tor arreat n arl yor bus htot thenk whet the brick walls are t  there thtte r us out  but tat e e n then wal thet the brick walls are there th toaw us hat badll we tal  thenktw\n",
            "reck walls are there tor atreaton ard yor bus htot thenk whet the brick walls are t  there th ke r us out  but tat e e n then wal thet the brick walls are there th koaw us hat badll we tal  thenktw\n",
            "rick walls are there tor atreaton ard yor bus  tot thenk whet the brick walls are tt there th ke r us out  but tat e   n then wal thet the brick walls are there th koaw us haw badly we tal  thenktw\n",
            "rick walls are there tor atreaton ard yor bus  tot thenk thet the brick walls are tt there th ke r us out  but tat e   n then wal that the brick walls are there th koaw us haw badly we tal  thenkt \n",
            "rick walls are there tor atreat n ard you bus  tot thenk thet the brick walls are tt there th keer us out  but tat e   n then wal that the brick walls are there th koaw us haw badly we tal  thenkt \n",
            "rick walls are there tor atreat n and you bus  tot thenk ther the brick walls are tt there th keer us out  but tat e  an then way that the brick walls are there th koaw us haw badly we tal  thenkt \n",
            "rick walls are there tor atreat n and you bus  tot thenk ther the brick walls are tt there th keer us out  but tat e  an then way that the brick walls are there th koaw us haw badly we tal  thenkt \n",
            "rick walls are there tor atreat n and you bus  tot thenk thet the brick walls are tt there th seer us out  but tat e  an then way that the brick walls are there th soaw us haw badly we tal  thenkt \n",
            "rick walls are there tor a reat n and you bus  tot thenk thet the brick walls are tt there th seer us out  but tat e  an then way that the brick walls are there th soaw us haw badly we talt thenkt \n",
            "rick walls are there tor a reat n and you bus  tot thenk thet the brick walls are tt there th seer us out  but tat e  an then way that the brick walls are there th soaw us haw badly we tant thenkt \n",
            "rick walls are there tor a reaton and you bus  tot thenk thet the brick walls are tt there th seer us out  but oather an then way that the brick walls are there th soaw us haw badly we tant thenkt \n",
            "rick walls are there tor a reaton and you bust tot thenk thet the brick walls are tt there th seer us out  but rather an then way that the brick walls are there th soaw us how badly we tant thenkt \n",
            "rick walls are there tor a reaton and you bust tot thenk thet the brick walls are tt there th seep us out  but rather an then way that the brick walls are there th shaw us how badly we tant thenkt \n",
            "rick walls are there tor a reaton and you bust not thenk thit the brick walls are tt there th seep us out  but rather an then way that the brick walls are there th shaw us how badly we tant thenkt \n",
            "rick walls are there tor a reaton and you bust not thenk thit the brick walls are tt there th seep us out, but rather in then way that the brick walls are there th shaw us how badly we tant thenkt \n",
            "rick walls are there tor a reason and you bust not thenk thit the brick walls are tt there th seep us out, but rather in thin way that the brick walls are there th shaw us how badly we tant thenkt \n",
            "rick walls are there tor a reason and you bust not thenk thit the brick walls are tt there th keep us out, but rather in this way that the brick walls are there th khaw us how badly we tant thenkt \n",
            "rick walls are there tor a reason and you bust not thenk thit the brick walls are tt there th keep us out, but rather in this way that the brick walls are there th khow us how badly we tant thenkt \n",
            "rick walls are there tor a reason and you bust not thenk thit the brick walls are tt there th keep us out, but rather in this way that the brick walls are there th khow us how badly we tant thenks \n",
            "rick walls are there tor a reason and you bust not thenk thet the brick walls are tt there to keep us out, but rather in this way that the brick walls are there to khow us how badly we tant thenks \n",
            "rick walls are there tor a reason and you must not thenk thet the brick walls are tt there to keep us out, but rather in this way that the brick walls are there to khow us how badly we tant thenks \n",
            "rick walls are there tor a reason and you must not thenk thet the brick walls are 't there to keep us out, but rather in this way that the brick walls are there to khow us how badly we tant thenks \n",
            "rick walls are there tor a reason and you must not think thet the brick walls are 't there to keep us out, but rather in this way that the brick walls are there to khow us how badly we tant thenks \n",
            "rick walls are there tor a reason and you must not think thet the brick walls are 't there to seep us out, but rather in this way that the brick walls are there to show us how badly we tant thinks \n",
            "rick walls are there tor a reason and you must not think that the brick walls are 't there to seep us out, but rather in this way that the brick walls are there to show us how badly we tant thinks \n",
            "rick walls are there tor a reason and you must not think that the brick walls are 't there to seep us out, but rather in this way that the brick walls are there to show us how badly we want thinksd\n",
            "rick walls are there tor a reason and you must not think that the brick walls are 't there to seep us out, but rather in this way that the brick walls are there to show us how badly we want thinksd\n",
            "rick walls are there tor a reason and you must not think that the brick walls are 't there to seep us out, but rather in this way that the brick walls are there to show us how badly we want thinksd\n",
            "rick walls are there tor a reason and you must not think that the brick walls are 't there to seep us out, but rather in this way that the brick walls are there to show us how badly we want thinksd\n",
            "rick walls are there tor a reason and you must not think that the brick walls are 't there to seep us out, but rather in this way that the brick walls are there to show us how badly we want thinksd\n",
            "rick walls are there tor a reason and you must not think that the brick walls are 't there to seep us out, but rather in this way that the brick walls are there to show us how badly we want thinksd\n",
            "rick walls are there tor a reason and you must not think that the brick walls are 't there to seep us out, but rather in this way that the brick walls are there to show us how badly we want thinksd\n",
            "rick walls are there tor a reason and you must not think that the brick walls are 't there to seep us out, but rather in this way that the brick walls are there to show us how badly we want thinksd\n",
            "rick walls are there tor a reason and you must not think that the brick walls are 't there to seep us out, but rather in this way that the brick walls are there to show us how badly we want thinksd\n",
            "rick walls are there tor a reason and you must not think that the brick walls are 't there to seep us out, but rather in this way that the brick walls are there to show us how badly we want thinksd\n",
            "rick walls are there tor a reason and you must not think that the brick walls are 't there to seep us out, but rather in this way that the brick walls are there to show us how badly we want thinksd\n",
            "rick walls are there tor a reason and you must not think that the brick walls are 't there to seep us out, but rather in this way that the brick walls are there to show us how badly we want thinksd\n",
            "rick walls are there tor a reason and you must not think that the brick walls are 't there to seep us out, but rather in this way that the brick walls are there to show us how badly we want thinksd\n",
            "rick walls are there tor a reason and you must not think that the brick walls are 't there to seep us out, but rather in this way that the brick walls are there to show us how badly we want thinksd\n",
            "rick walls are there tor a reason and you must not think that the brick walls are 't there to seep us out, but rather in this way that the brick walls are there to show us how badly we want thinksd\n",
            "rick walls are there tor a reason and you must not think that the brick walls are 't there to seep us out, but rather in this way that the brick walls are there to show us how badly we want thinksd\n",
            "rick walls are there tor a reason and you must not think that the brick walls are 't there to seep us out, but rather in this way that the brick walls are there to show us how badly we want thinksd\n",
            "rick walls are there tor a reason and you must not think that the brick walls are 't there to seep us out, but rather in this way that the brick walls are there to show us how badly we want thinksd\n",
            "rick walls are there tor a reason and you must not think that the brick walls are 't there to seep us out, but rather in this way that the brick walls are there to show us how badly we want thinksm\n",
            "rick walls are there tor a reason and you must not think that the brick walls are 't there to seep us out, but rather in this way that the brick walls are there to show us how badly we want thinksm\n",
            "rick walls are there tor a reason and you must not think that the brick walls are 't there to seep us out, but rather in this way that the brick walls are there to show us how badly we want thinksm\n",
            "rick walls are there tor a reason and you must not think that the brick walls are 't there to seep us out, but rather in this way that the brick walls are there to show us how badly we want thinksm\n",
            "rick walls are there tor a reason and you must not think that the brick walls are 't there to seep us out, but rather in this way that the brick walls are there to show us how badly we want thinksm\n",
            "rick walls are there tor a reason and you must not think that the brick walls are 't there to seep us out, but rather in this way that the brick walls are there to show us how badly we want thinksm\n",
            "rick walls are there tor a reason and you must not think that the brick walls are 't there to seep us out, but rather in this way that the brick walls are there to show us how badly we want thinksm\n",
            "rick walls are there tor a reason and you must not think that the brick walls are 't there to seep us out, but rather in this way that the brick walls are there to show us how badly we want thinksm\n",
            "rick walls are there tor a reason and you must not think that the brick walls are 't there to seep us out, but rather in this way that the brick walls are there to show us how badly we want thinksm\n",
            "rick walls are there tor a reason and you must not think that the brick walls are 't there to seep us out, but rather in this way that the brick walls are there to show us how badly we want thinksm\n",
            "rick walls are there tor a reason and you must not think that the brick walls are 't there to seep us out, but rather in this way that the brick walls are there to show us how badly we want thinksm\n"
          ]
        }
      ]
    },
    {
      "cell_type": "code",
      "source": [
        "predict_str"
      ],
      "metadata": {
        "colab": {
          "base_uri": "https://localhost:8080/",
          "height": 54
        },
        "id": "8qUkbiw2t0Il",
        "outputId": "60267f5c-c8de-4770-c509-244703d49bc0"
      },
      "execution_count": null,
      "outputs": [
        {
          "output_type": "execute_result",
          "data": {
            "text/plain": [
              "\"rick walls are there tor a reason and you must not think that the brick walls are 't there to seep us out, but rather in this way that the brick walls are there to show us how badly we want things,\""
            ],
            "application/vnd.google.colaboratory.intrinsic+json": {
              "type": "string"
            }
          },
          "metadata": {},
          "execution_count": 97
        }
      ]
    },
    {
      "cell_type": "markdown",
      "source": [
        "결과가 어떤가요?? 마지막 에폭의 문장이 그럴싸한가요?"
      ],
      "metadata": {
        "id": "PkIzDTdyvTHz"
      }
    },
    {
      "cell_type": "markdown",
      "source": [
        "## Task2\n",
        "\n",
        "위 sentence는 제가 임의로 생성한 문장들입니다.\n",
        "\n",
        "마음에 드시는 문구 가져오셔서 문장이 어떻게 생성되는지 확인해보세요! \n",
        "\n",
        "영어가 아닌 한국어로 시도해보는 것도 좋겠죠? \n",
        "\n",
        "수정이 많이 필요(토큰화 등) 할 수 있으나 한번 시도해보시는 것 권장드립니다 :)\n",
        "\n",
        "위 베이스라인은 어디든 수정하셔도 좋고 조금 더 자연스러운 문장이 나올 수 있게 다양한 시도를 해보세요!\n",
        "\n",
        "조건 : 문장 3개 이상, 연결성이 있는 문장을 \" \" 으로 구분하여 ( )에 넣기"
      ],
      "metadata": {
        "id": "kN1zL8Dpvane"
      }
    },
    {
      "cell_type": "code",
      "source": [],
      "metadata": {
        "id": "IKp-lKrjvXR9"
      },
      "execution_count": null,
      "outputs": []
    }
  ]
}