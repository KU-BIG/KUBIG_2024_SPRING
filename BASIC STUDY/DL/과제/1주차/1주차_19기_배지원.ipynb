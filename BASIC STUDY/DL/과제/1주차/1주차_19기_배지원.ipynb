{
 "cells": [
  {
   "cell_type": "markdown",
   "metadata": {
    "id": "YffDGVSIxijw"
   },
   "source": [
    "# 1주차 과제\n",
    "- 파이토치 시작하기 및 간단한 코드 빈칸 채워넣기"
   ]
  },
  {
   "cell_type": "markdown",
   "metadata": {
    "id": "MivAstLj4EpN"
   },
   "source": [
    "## 파이토치 시작하기"
   ]
  },
  {
   "cell_type": "code",
   "execution_count": 2,
   "metadata": {
    "id": "BS39ZJTi4CD0"
   },
   "outputs": [],
   "source": [
    "# !pip install torch\n",
    "\n",
    "import torch"
   ]
  },
  {
   "cell_type": "markdown",
   "metadata": {
    "id": "ixz0WyWH4kSJ"
   },
   "source": [
    "- tensor 개념 파악 (array of numerical values(vector, matrix..))\n",
    "- 4x3 행렬 두 개 만들고 행으로 병합, 열로 병합\n"
   ]
  },
  {
   "cell_type": "code",
   "execution_count": 3,
   "metadata": {
    "id": "OlLUsvmL4kEY"
   },
   "outputs": [
    {
     "name": "stdout",
     "output_type": "stream",
     "text": [
      "tensor([[0.0357, 0.7991, 0.6535],\n",
      "        [0.4562, 0.4124, 0.7308],\n",
      "        [0.5921, 0.3632, 0.1357],\n",
      "        [0.9039, 0.3872, 0.0851],\n",
      "        [0.0994, 0.7587, 0.4267],\n",
      "        [0.2547, 0.0338, 0.4147],\n",
      "        [0.4921, 0.7693, 0.8986],\n",
      "        [0.5167, 0.9592, 0.4312]])\n",
      "tensor([[0.0357, 0.7991, 0.6535, 0.0994, 0.7587, 0.4267],\n",
      "        [0.4562, 0.4124, 0.7308, 0.2547, 0.0338, 0.4147],\n",
      "        [0.5921, 0.3632, 0.1357, 0.4921, 0.7693, 0.8986],\n",
      "        [0.9039, 0.3872, 0.0851, 0.5167, 0.9592, 0.4312]])\n"
     ]
    }
   ],
   "source": [
    "import numpy as np\n",
    "\n",
    "X= torch.rand(4,3)\n",
    "Y= torch.rand(4,3)\n",
    "\n",
    "# 행으로 병합 코드\n",
    "row = torch.cat((X, Y), dim = 0)\n",
    "print(row)\n",
    "\n",
    "# 열로 병합 코드\n",
    "col = torch.cat((X, Y), dim = 1)\n",
    "print(col)"
   ]
  },
  {
   "cell_type": "markdown",
   "metadata": {
    "id": "Gh-1LJliusEc"
   },
   "source": [
    "### Linear Regression Implementation from Scratch\n",
    "- 머신러닝 기초와 비슷한 내용이지만 파이토치로 실행해보며 익숙해지는것이 목표\n"
   ]
  },
  {
   "cell_type": "code",
   "execution_count": 9,
   "metadata": {
    "id": "Ybbbqg8TqAVR"
   },
   "outputs": [
    {
     "name": "stdout",
     "output_type": "stream",
     "text": [
      "Collecting d2l\n",
      "  Obtaining dependency information for d2l from https://files.pythonhosted.org/packages/8b/39/418ef003ed7ec0f2a071e24ec3f58c7b1f179ef44bec5224dcca276876e3/d2l-1.0.3-py3-none-any.whl.metadata\n",
      "  Downloading d2l-1.0.3-py3-none-any.whl.metadata (556 bytes)\n",
      "Requirement already satisfied: jupyter==1.0.0 in /opt/anaconda3/lib/python3.9/site-packages (from d2l) (1.0.0)\n",
      "Collecting numpy==1.23.5 (from d2l)\n",
      "  Downloading numpy-1.23.5-cp39-cp39-macosx_10_9_x86_64.whl (18.1 MB)\n",
      "\u001b[2K     \u001b[90m━━━━━━━━━━━━━━━━━━━━━━━━━━━━━━━━━━━━━━━━\u001b[0m \u001b[32m18.1/18.1 MB\u001b[0m \u001b[31m11.8 MB/s\u001b[0m eta \u001b[36m0:00:00\u001b[0m00:01\u001b[0m00:01\u001b[0m\n",
      "\u001b[?25hCollecting matplotlib==3.7.2 (from d2l)\n",
      "  Obtaining dependency information for matplotlib==3.7.2 from https://files.pythonhosted.org/packages/1d/57/888776de79e1c2e787368ecbe63e3e57dbec984a5c83220e44c15fefe226/matplotlib-3.7.2-cp39-cp39-macosx_10_12_x86_64.whl.metadata\n",
      "  Downloading matplotlib-3.7.2-cp39-cp39-macosx_10_12_x86_64.whl.metadata (5.6 kB)\n",
      "Requirement already satisfied: matplotlib-inline==0.1.6 in /opt/anaconda3/lib/python3.9/site-packages (from d2l) (0.1.6)\n",
      "Collecting requests==2.31.0 (from d2l)\n",
      "  Obtaining dependency information for requests==2.31.0 from https://files.pythonhosted.org/packages/70/8e/0e2d847013cb52cd35b38c009bb167a1a26b2ce6cd6965bf26b47bc0bf44/requests-2.31.0-py3-none-any.whl.metadata\n",
      "  Downloading requests-2.31.0-py3-none-any.whl.metadata (4.6 kB)\n",
      "Collecting pandas==2.0.3 (from d2l)\n",
      "  Obtaining dependency information for pandas==2.0.3 from https://files.pythonhosted.org/packages/f8/c7/cfef920b7b457dff6928e824896cb82367650ea127d048ee0b820026db4f/pandas-2.0.3-cp39-cp39-macosx_10_9_x86_64.whl.metadata\n",
      "  Downloading pandas-2.0.3-cp39-cp39-macosx_10_9_x86_64.whl.metadata (18 kB)\n",
      "Requirement already satisfied: scipy==1.10.1 in /opt/anaconda3/lib/python3.9/site-packages (from d2l) (1.10.1)\n",
      "Requirement already satisfied: notebook in /opt/anaconda3/lib/python3.9/site-packages (from jupyter==1.0.0->d2l) (6.5.4)\n",
      "Requirement already satisfied: qtconsole in /opt/anaconda3/lib/python3.9/site-packages (from jupyter==1.0.0->d2l) (5.4.2)\n",
      "Requirement already satisfied: jupyter-console in /opt/anaconda3/lib/python3.9/site-packages (from jupyter==1.0.0->d2l) (6.6.3)\n",
      "Requirement already satisfied: nbconvert in /opt/anaconda3/lib/python3.9/site-packages (from jupyter==1.0.0->d2l) (6.5.4)\n",
      "Requirement already satisfied: ipykernel in /opt/anaconda3/lib/python3.9/site-packages (from jupyter==1.0.0->d2l) (6.19.2)\n",
      "Requirement already satisfied: ipywidgets in /opt/anaconda3/lib/python3.9/site-packages (from jupyter==1.0.0->d2l) (8.0.4)\n",
      "Requirement already satisfied: contourpy>=1.0.1 in /opt/anaconda3/lib/python3.9/site-packages (from matplotlib==3.7.2->d2l) (1.0.5)\n",
      "Requirement already satisfied: cycler>=0.10 in /opt/anaconda3/lib/python3.9/site-packages (from matplotlib==3.7.2->d2l) (0.11.0)\n",
      "Requirement already satisfied: fonttools>=4.22.0 in /opt/anaconda3/lib/python3.9/site-packages (from matplotlib==3.7.2->d2l) (4.25.0)\n",
      "Requirement already satisfied: kiwisolver>=1.0.1 in /opt/anaconda3/lib/python3.9/site-packages (from matplotlib==3.7.2->d2l) (1.4.4)\n",
      "Requirement already satisfied: packaging>=20.0 in /opt/anaconda3/lib/python3.9/site-packages (from matplotlib==3.7.2->d2l) (23.0)\n",
      "Requirement already satisfied: pillow>=6.2.0 in /opt/anaconda3/lib/python3.9/site-packages (from matplotlib==3.7.2->d2l) (9.4.0)\n",
      "Requirement already satisfied: pyparsing<3.1,>=2.3.1 in /opt/anaconda3/lib/python3.9/site-packages (from matplotlib==3.7.2->d2l) (3.0.9)\n",
      "Requirement already satisfied: python-dateutil>=2.7 in /opt/anaconda3/lib/python3.9/site-packages (from matplotlib==3.7.2->d2l) (2.8.2)\n",
      "Requirement already satisfied: importlib-resources>=3.2.0 in /opt/anaconda3/lib/python3.9/site-packages (from matplotlib==3.7.2->d2l) (5.2.0)\n",
      "Requirement already satisfied: traitlets in /opt/anaconda3/lib/python3.9/site-packages (from matplotlib-inline==0.1.6->d2l) (5.7.1)\n",
      "Requirement already satisfied: pytz>=2020.1 in /opt/anaconda3/lib/python3.9/site-packages (from pandas==2.0.3->d2l) (2022.7)\n",
      "Requirement already satisfied: tzdata>=2022.1 in /opt/anaconda3/lib/python3.9/site-packages (from pandas==2.0.3->d2l) (2023.3)\n",
      "Requirement already satisfied: charset-normalizer<4,>=2 in /opt/anaconda3/lib/python3.9/site-packages (from requests==2.31.0->d2l) (2.0.4)\n",
      "Requirement already satisfied: idna<4,>=2.5 in /opt/anaconda3/lib/python3.9/site-packages (from requests==2.31.0->d2l) (3.4)\n",
      "Requirement already satisfied: urllib3<3,>=1.21.1 in /opt/anaconda3/lib/python3.9/site-packages (from requests==2.31.0->d2l) (1.26.16)\n",
      "Requirement already satisfied: certifi>=2017.4.17 in /opt/anaconda3/lib/python3.9/site-packages (from requests==2.31.0->d2l) (2023.7.22)\n",
      "Requirement already satisfied: zipp>=3.1.0 in /opt/anaconda3/lib/python3.9/site-packages (from importlib-resources>=3.2.0->matplotlib==3.7.2->d2l) (3.11.0)\n",
      "Requirement already satisfied: six>=1.5 in /opt/anaconda3/lib/python3.9/site-packages (from python-dateutil>=2.7->matplotlib==3.7.2->d2l) (1.16.0)\n",
      "Requirement already satisfied: appnope in /opt/anaconda3/lib/python3.9/site-packages (from ipykernel->jupyter==1.0.0->d2l) (0.1.2)\n",
      "Requirement already satisfied: comm>=0.1.1 in /opt/anaconda3/lib/python3.9/site-packages (from ipykernel->jupyter==1.0.0->d2l) (0.1.2)\n",
      "Requirement already satisfied: debugpy>=1.0 in /opt/anaconda3/lib/python3.9/site-packages (from ipykernel->jupyter==1.0.0->d2l) (1.5.1)\n",
      "Requirement already satisfied: ipython>=7.23.1 in /opt/anaconda3/lib/python3.9/site-packages (from ipykernel->jupyter==1.0.0->d2l) (8.12.0)\n",
      "Requirement already satisfied: jupyter-client>=6.1.12 in /opt/anaconda3/lib/python3.9/site-packages (from ipykernel->jupyter==1.0.0->d2l) (8.1.0)\n",
      "Requirement already satisfied: nest-asyncio in /opt/anaconda3/lib/python3.9/site-packages (from ipykernel->jupyter==1.0.0->d2l) (1.5.6)\n",
      "Requirement already satisfied: psutil in /opt/anaconda3/lib/python3.9/site-packages (from ipykernel->jupyter==1.0.0->d2l) (5.9.0)\n",
      "Requirement already satisfied: pyzmq>=17 in /opt/anaconda3/lib/python3.9/site-packages (from ipykernel->jupyter==1.0.0->d2l) (25.1.0)\n",
      "Requirement already satisfied: tornado>=6.1 in /opt/anaconda3/lib/python3.9/site-packages (from ipykernel->jupyter==1.0.0->d2l) (6.2)\n",
      "Requirement already satisfied: widgetsnbextension~=4.0 in /opt/anaconda3/lib/python3.9/site-packages (from ipywidgets->jupyter==1.0.0->d2l) (4.0.5)\n",
      "Requirement already satisfied: jupyterlab-widgets~=3.0 in /opt/anaconda3/lib/python3.9/site-packages (from ipywidgets->jupyter==1.0.0->d2l) (3.0.5)\n",
      "Requirement already satisfied: jupyter-core!=5.0.*,>=4.12 in /opt/anaconda3/lib/python3.9/site-packages (from jupyter-console->jupyter==1.0.0->d2l) (5.3.0)\n",
      "Requirement already satisfied: prompt-toolkit>=3.0.30 in /opt/anaconda3/lib/python3.9/site-packages (from jupyter-console->jupyter==1.0.0->d2l) (3.0.36)\n",
      "Requirement already satisfied: pygments in /opt/anaconda3/lib/python3.9/site-packages (from jupyter-console->jupyter==1.0.0->d2l) (2.15.1)\n",
      "Requirement already satisfied: lxml in /opt/anaconda3/lib/python3.9/site-packages (from nbconvert->jupyter==1.0.0->d2l) (4.9.2)\n",
      "Requirement already satisfied: beautifulsoup4 in /opt/anaconda3/lib/python3.9/site-packages (from nbconvert->jupyter==1.0.0->d2l) (4.12.2)\n",
      "Requirement already satisfied: bleach in /opt/anaconda3/lib/python3.9/site-packages (from nbconvert->jupyter==1.0.0->d2l) (4.1.0)\n",
      "Requirement already satisfied: defusedxml in /opt/anaconda3/lib/python3.9/site-packages (from nbconvert->jupyter==1.0.0->d2l) (0.7.1)\n",
      "Requirement already satisfied: entrypoints>=0.2.2 in /opt/anaconda3/lib/python3.9/site-packages (from nbconvert->jupyter==1.0.0->d2l) (0.4)\n",
      "Requirement already satisfied: jinja2>=3.0 in /opt/anaconda3/lib/python3.9/site-packages (from nbconvert->jupyter==1.0.0->d2l) (3.1.2)\n",
      "Requirement already satisfied: jupyterlab-pygments in /opt/anaconda3/lib/python3.9/site-packages (from nbconvert->jupyter==1.0.0->d2l) (0.1.2)\n",
      "Requirement already satisfied: MarkupSafe>=2.0 in /opt/anaconda3/lib/python3.9/site-packages (from nbconvert->jupyter==1.0.0->d2l) (2.1.1)\n",
      "Requirement already satisfied: mistune<2,>=0.8.1 in /opt/anaconda3/lib/python3.9/site-packages (from nbconvert->jupyter==1.0.0->d2l) (0.8.4)\n",
      "Requirement already satisfied: nbclient>=0.5.0 in /opt/anaconda3/lib/python3.9/site-packages (from nbconvert->jupyter==1.0.0->d2l) (0.5.13)\n",
      "Requirement already satisfied: nbformat>=5.1 in /opt/anaconda3/lib/python3.9/site-packages (from nbconvert->jupyter==1.0.0->d2l) (5.7.0)\n",
      "Requirement already satisfied: pandocfilters>=1.4.1 in /opt/anaconda3/lib/python3.9/site-packages (from nbconvert->jupyter==1.0.0->d2l) (1.5.0)\n",
      "Requirement already satisfied: tinycss2 in /opt/anaconda3/lib/python3.9/site-packages (from nbconvert->jupyter==1.0.0->d2l) (1.2.1)\n"
     ]
    },
    {
     "name": "stdout",
     "output_type": "stream",
     "text": [
      "Requirement already satisfied: argon2-cffi in /opt/anaconda3/lib/python3.9/site-packages (from notebook->jupyter==1.0.0->d2l) (21.3.0)\n",
      "Requirement already satisfied: ipython-genutils in /opt/anaconda3/lib/python3.9/site-packages (from notebook->jupyter==1.0.0->d2l) (0.2.0)\n",
      "Requirement already satisfied: Send2Trash>=1.8.0 in /opt/anaconda3/lib/python3.9/site-packages (from notebook->jupyter==1.0.0->d2l) (1.8.0)\n",
      "Requirement already satisfied: terminado>=0.8.3 in /opt/anaconda3/lib/python3.9/site-packages (from notebook->jupyter==1.0.0->d2l) (0.17.1)\n",
      "Requirement already satisfied: prometheus-client in /opt/anaconda3/lib/python3.9/site-packages (from notebook->jupyter==1.0.0->d2l) (0.14.1)\n",
      "Requirement already satisfied: nbclassic>=0.4.7 in /opt/anaconda3/lib/python3.9/site-packages (from notebook->jupyter==1.0.0->d2l) (0.5.5)\n",
      "Requirement already satisfied: qtpy>=2.0.1 in /opt/anaconda3/lib/python3.9/site-packages (from qtconsole->jupyter==1.0.0->d2l) (2.2.0)\n",
      "Requirement already satisfied: backcall in /opt/anaconda3/lib/python3.9/site-packages (from ipython>=7.23.1->ipykernel->jupyter==1.0.0->d2l) (0.2.0)\n",
      "Requirement already satisfied: decorator in /opt/anaconda3/lib/python3.9/site-packages (from ipython>=7.23.1->ipykernel->jupyter==1.0.0->d2l) (5.1.1)\n",
      "Requirement already satisfied: jedi>=0.16 in /opt/anaconda3/lib/python3.9/site-packages (from ipython>=7.23.1->ipykernel->jupyter==1.0.0->d2l) (0.18.1)\n",
      "Requirement already satisfied: pickleshare in /opt/anaconda3/lib/python3.9/site-packages (from ipython>=7.23.1->ipykernel->jupyter==1.0.0->d2l) (0.7.5)\n",
      "Requirement already satisfied: stack-data in /opt/anaconda3/lib/python3.9/site-packages (from ipython>=7.23.1->ipykernel->jupyter==1.0.0->d2l) (0.2.0)\n",
      "Requirement already satisfied: typing-extensions in /opt/anaconda3/lib/python3.9/site-packages (from ipython>=7.23.1->ipykernel->jupyter==1.0.0->d2l) (4.5.0)\n",
      "Requirement already satisfied: pexpect>4.3 in /opt/anaconda3/lib/python3.9/site-packages (from ipython>=7.23.1->ipykernel->jupyter==1.0.0->d2l) (4.8.0)\n",
      "Requirement already satisfied: importlib-metadata>=4.8.3 in /opt/anaconda3/lib/python3.9/site-packages (from jupyter-client>=6.1.12->ipykernel->jupyter==1.0.0->d2l) (6.0.0)\n",
      "Requirement already satisfied: platformdirs>=2.5 in /opt/anaconda3/lib/python3.9/site-packages (from jupyter-core!=5.0.*,>=4.12->jupyter-console->jupyter==1.0.0->d2l) (2.5.2)\n",
      "Requirement already satisfied: jupyter-server>=1.8 in /opt/anaconda3/lib/python3.9/site-packages (from nbclassic>=0.4.7->notebook->jupyter==1.0.0->d2l) (2.5.0)\n",
      "Requirement already satisfied: notebook-shim>=0.1.0 in /opt/anaconda3/lib/python3.9/site-packages (from nbclassic>=0.4.7->notebook->jupyter==1.0.0->d2l) (0.2.2)\n",
      "Requirement already satisfied: fastjsonschema in /opt/anaconda3/lib/python3.9/site-packages (from nbformat>=5.1->nbconvert->jupyter==1.0.0->d2l) (2.16.2)\n",
      "Requirement already satisfied: jsonschema>=2.6 in /opt/anaconda3/lib/python3.9/site-packages (from nbformat>=5.1->nbconvert->jupyter==1.0.0->d2l) (4.17.3)\n",
      "Requirement already satisfied: wcwidth in /opt/anaconda3/lib/python3.9/site-packages (from prompt-toolkit>=3.0.30->jupyter-console->jupyter==1.0.0->d2l) (0.2.5)\n",
      "Requirement already satisfied: ptyprocess in /opt/anaconda3/lib/python3.9/site-packages (from terminado>=0.8.3->notebook->jupyter==1.0.0->d2l) (0.7.0)\n",
      "Requirement already satisfied: argon2-cffi-bindings in /opt/anaconda3/lib/python3.9/site-packages (from argon2-cffi->notebook->jupyter==1.0.0->d2l) (21.2.0)\n",
      "Requirement already satisfied: soupsieve>1.2 in /opt/anaconda3/lib/python3.9/site-packages (from beautifulsoup4->nbconvert->jupyter==1.0.0->d2l) (2.4)\n",
      "Requirement already satisfied: webencodings in /opt/anaconda3/lib/python3.9/site-packages (from bleach->nbconvert->jupyter==1.0.0->d2l) (0.5.1)\n",
      "Requirement already satisfied: parso<0.9.0,>=0.8.0 in /opt/anaconda3/lib/python3.9/site-packages (from jedi>=0.16->ipython>=7.23.1->ipykernel->jupyter==1.0.0->d2l) (0.8.3)\n",
      "Requirement already satisfied: attrs>=17.4.0 in /opt/anaconda3/lib/python3.9/site-packages (from jsonschema>=2.6->nbformat>=5.1->nbconvert->jupyter==1.0.0->d2l) (22.1.0)\n",
      "Requirement already satisfied: pyrsistent!=0.17.0,!=0.17.1,!=0.17.2,>=0.14.0 in /opt/anaconda3/lib/python3.9/site-packages (from jsonschema>=2.6->nbformat>=5.1->nbconvert->jupyter==1.0.0->d2l) (0.18.0)\n",
      "Requirement already satisfied: anyio>=3.1.0 in /opt/anaconda3/lib/python3.9/site-packages (from jupyter-server>=1.8->nbclassic>=0.4.7->notebook->jupyter==1.0.0->d2l) (3.5.0)\n",
      "Requirement already satisfied: jupyter-events>=0.4.0 in /opt/anaconda3/lib/python3.9/site-packages (from jupyter-server>=1.8->nbclassic>=0.4.7->notebook->jupyter==1.0.0->d2l) (0.6.3)\n",
      "Requirement already satisfied: jupyter-server-terminals in /opt/anaconda3/lib/python3.9/site-packages (from jupyter-server>=1.8->nbclassic>=0.4.7->notebook->jupyter==1.0.0->d2l) (0.4.4)\n",
      "Requirement already satisfied: websocket-client in /opt/anaconda3/lib/python3.9/site-packages (from jupyter-server>=1.8->nbclassic>=0.4.7->notebook->jupyter==1.0.0->d2l) (0.58.0)\n",
      "Requirement already satisfied: cffi>=1.0.1 in /opt/anaconda3/lib/python3.9/site-packages (from argon2-cffi-bindings->argon2-cffi->notebook->jupyter==1.0.0->d2l) (1.15.1)\n",
      "Requirement already satisfied: executing in /opt/anaconda3/lib/python3.9/site-packages (from stack-data->ipython>=7.23.1->ipykernel->jupyter==1.0.0->d2l) (0.8.3)\n",
      "Requirement already satisfied: asttokens in /opt/anaconda3/lib/python3.9/site-packages (from stack-data->ipython>=7.23.1->ipykernel->jupyter==1.0.0->d2l) (2.0.5)\n",
      "Requirement already satisfied: pure-eval in /opt/anaconda3/lib/python3.9/site-packages (from stack-data->ipython>=7.23.1->ipykernel->jupyter==1.0.0->d2l) (0.2.2)\n",
      "Requirement already satisfied: sniffio>=1.1 in /opt/anaconda3/lib/python3.9/site-packages (from anyio>=3.1.0->jupyter-server>=1.8->nbclassic>=0.4.7->notebook->jupyter==1.0.0->d2l) (1.2.0)\n",
      "Requirement already satisfied: pycparser in /opt/anaconda3/lib/python3.9/site-packages (from cffi>=1.0.1->argon2-cffi-bindings->argon2-cffi->notebook->jupyter==1.0.0->d2l) (2.21)\n",
      "Requirement already satisfied: python-json-logger>=2.0.4 in /opt/anaconda3/lib/python3.9/site-packages (from jupyter-events>=0.4.0->jupyter-server>=1.8->nbclassic>=0.4.7->notebook->jupyter==1.0.0->d2l) (2.0.7)\n",
      "Requirement already satisfied: pyyaml>=5.3 in /opt/anaconda3/lib/python3.9/site-packages (from jupyter-events>=0.4.0->jupyter-server>=1.8->nbclassic>=0.4.7->notebook->jupyter==1.0.0->d2l) (6.0)\n",
      "Requirement already satisfied: rfc3339-validator in /opt/anaconda3/lib/python3.9/site-packages (from jupyter-events>=0.4.0->jupyter-server>=1.8->nbclassic>=0.4.7->notebook->jupyter==1.0.0->d2l) (0.1.4)\n",
      "Requirement already satisfied: rfc3986-validator>=0.1.1 in /opt/anaconda3/lib/python3.9/site-packages (from jupyter-events>=0.4.0->jupyter-server>=1.8->nbclassic>=0.4.7->notebook->jupyter==1.0.0->d2l) (0.1.1)\n",
      "Requirement already satisfied: fqdn in /opt/anaconda3/lib/python3.9/site-packages (from jsonschema>=2.6->nbformat>=5.1->nbconvert->jupyter==1.0.0->d2l) (1.5.1)\n",
      "Requirement already satisfied: isoduration in /opt/anaconda3/lib/python3.9/site-packages (from jsonschema>=2.6->nbformat>=5.1->nbconvert->jupyter==1.0.0->d2l) (20.11.0)\n",
      "Requirement already satisfied: jsonpointer>1.13 in /opt/anaconda3/lib/python3.9/site-packages (from jsonschema>=2.6->nbformat>=5.1->nbconvert->jupyter==1.0.0->d2l) (2.1)\n",
      "Requirement already satisfied: uri-template in /opt/anaconda3/lib/python3.9/site-packages (from jsonschema>=2.6->nbformat>=5.1->nbconvert->jupyter==1.0.0->d2l) (1.3.0)\n",
      "Requirement already satisfied: webcolors>=1.11 in /opt/anaconda3/lib/python3.9/site-packages (from jsonschema>=2.6->nbformat>=5.1->nbconvert->jupyter==1.0.0->d2l) (1.13)\n",
      "Requirement already satisfied: arrow>=0.15.0 in /opt/anaconda3/lib/python3.9/site-packages (from isoduration->jsonschema>=2.6->nbformat>=5.1->nbconvert->jupyter==1.0.0->d2l) (1.2.3)\n",
      "Downloading d2l-1.0.3-py3-none-any.whl (111 kB)\n",
      "\u001b[2K   \u001b[90m━━━━━━━━━━━━━━━━━━━━━━━━━━━━━━━━━━━━━━━━\u001b[0m \u001b[32m111.7/111.7 kB\u001b[0m \u001b[31m9.4 MB/s\u001b[0m eta \u001b[36m0:00:00\u001b[0m\n",
      "\u001b[?25hDownloading matplotlib-3.7.2-cp39-cp39-macosx_10_12_x86_64.whl (7.4 MB)\n",
      "\u001b[2K   \u001b[90m━━━━━━━━━━━━━━━━━━━━━━━━━━━━━━━━━━━━━━━━\u001b[0m \u001b[32m7.4/7.4 MB\u001b[0m \u001b[31m7.7 MB/s\u001b[0m eta \u001b[36m0:00:00\u001b[0m00:01\u001b[0m00:01\u001b[0mm\n",
      "\u001b[?25hDownloading pandas-2.0.3-cp39-cp39-macosx_10_9_x86_64.whl (11.8 MB)\n",
      "\u001b[2K   \u001b[90m━━━━━━━━━━━━━━━━━━━━━━━━━━━━━━━━━━━━━━━━\u001b[0m \u001b[32m11.8/11.8 MB\u001b[0m \u001b[31m5.0 MB/s\u001b[0m eta \u001b[36m0:00:00\u001b[0m00:01\u001b[0m00:01\u001b[0m\n",
      "\u001b[?25hDownloading requests-2.31.0-py3-none-any.whl (62 kB)\n",
      "\u001b[2K   \u001b[90m━━━━━━━━━━━━━━━━━━━━━━━━━━━━━━━━━━━━━━━━\u001b[0m \u001b[32m62.6/62.6 kB\u001b[0m \u001b[31m4.1 MB/s\u001b[0m eta \u001b[36m0:00:00\u001b[0m\n",
      "\u001b[?25hInstalling collected packages: requests, numpy, pandas, matplotlib, d2l\n",
      "  Attempting uninstall: requests\n",
      "    Found existing installation: requests 2.29.0\n",
      "    Uninstalling requests-2.29.0:\n",
      "      Successfully uninstalled requests-2.29.0\n",
      "  Attempting uninstall: numpy\n",
      "    Found existing installation: numpy 1.24.3\n",
      "    Uninstalling numpy-1.24.3:\n",
      "      Successfully uninstalled numpy-1.24.3\n",
      "  Attempting uninstall: pandas\n",
      "    Found existing installation: pandas 1.5.3\n",
      "    Uninstalling pandas-1.5.3:\n",
      "      Successfully uninstalled pandas-1.5.3\n",
      "  Attempting uninstall: matplotlib\n",
      "    Found existing installation: matplotlib 3.7.1\n",
      "    Uninstalling matplotlib-3.7.1:\n",
      "      Successfully uninstalled matplotlib-3.7.1\n",
      "\u001b[31mERROR: pip's dependency resolver does not currently take into account all the packages that are installed. This behaviour is the source of the following dependency conflicts.\n",
      "conda-repo-cli 1.0.41 requires requests_mock, which is not installed.\n",
      "gensim 4.3.0 requires FuzzyTM>=0.4.0, which is not installed.\n",
      "spyder 5.4.3 requires pyqt5<5.16, which is not installed.\n",
      "spyder 5.4.3 requires pyqtwebengine<5.16, which is not installed.\n",
      "tables 3.8.0 requires blosc2~=2.0.0, which is not installed.\n",
      "conda-repo-cli 1.0.41 requires clyent==1.2.1, but you have clyent 1.2.2 which is incompatible.\n",
      "conda-repo-cli 1.0.41 requires nbformat==5.4.0, but you have nbformat 5.7.0 which is incompatible.\n",
      "conda-repo-cli 1.0.41 requires requests==2.28.1, but you have requests 2.31.0 which is incompatible.\u001b[0m\u001b[31m\n",
      "\u001b[0mSuccessfully installed d2l-1.0.3 matplotlib-3.7.2 numpy-1.23.5 pandas-2.0.2 requests-2.31.0\n",
      "\n",
      "\u001b[1m[\u001b[0m\u001b[34;49mnotice\u001b[0m\u001b[1;39;49m]\u001b[0m\u001b[39;49m A new release of pip is available: \u001b[0m\u001b[31;49m23.2.1\u001b[0m\u001b[39;49m -> \u001b[0m\u001b[32;49m23.3.2\u001b[0m\n",
      "\u001b[1m[\u001b[0m\u001b[34;49mnotice\u001b[0m\u001b[1;39;49m]\u001b[0m\u001b[39;49m To update, run: \u001b[0m\u001b[32;49mpip install --upgrade pip\u001b[0m\n"
     ]
    }
   ],
   "source": [
    "!pip install d2l # d2l 라이브러리에서 제공하는 기능 사용 위함"
   ]
  },
  {
   "cell_type": "code",
   "execution_count": 12,
   "metadata": {
    "scrolled": true
   },
   "outputs": [
    {
     "name": "stdout",
     "output_type": "stream",
     "text": [
      "Collecting torchvision\n",
      "  Obtaining dependency information for torchvision from https://files.pythonhosted.org/packages/50/5b/fde5d91a5934cd5a5f78fc88b40c3382dd46d28c1c8e6efc8039c8d3e340/torchvision-0.16.2-cp39-cp39-macosx_10_13_x86_64.whl.metadata\n",
      "  Downloading torchvision-0.16.2-cp39-cp39-macosx_10_13_x86_64.whl.metadata (6.6 kB)\n",
      "Requirement already satisfied: numpy in /opt/anaconda3/lib/python3.9/site-packages (from torchvision) (1.23.5)\n",
      "Requirement already satisfied: requests in /opt/anaconda3/lib/python3.9/site-packages (from torchvision) (2.31.0)\n",
      "Requirement already satisfied: torch==2.1.2 in /opt/anaconda3/lib/python3.9/site-packages (from torchvision) (2.1.2)\n",
      "Requirement already satisfied: pillow!=8.3.*,>=5.3.0 in /opt/anaconda3/lib/python3.9/site-packages (from torchvision) (9.4.0)\n",
      "Requirement already satisfied: filelock in /opt/anaconda3/lib/python3.9/site-packages (from torch==2.1.2->torchvision) (3.9.0)\n",
      "Requirement already satisfied: typing-extensions in /opt/anaconda3/lib/python3.9/site-packages (from torch==2.1.2->torchvision) (4.5.0)\n",
      "Requirement already satisfied: sympy in /opt/anaconda3/lib/python3.9/site-packages (from torch==2.1.2->torchvision) (1.11.1)\n",
      "Requirement already satisfied: networkx in /opt/anaconda3/lib/python3.9/site-packages (from torch==2.1.2->torchvision) (2.8.4)\n",
      "Requirement already satisfied: jinja2 in /opt/anaconda3/lib/python3.9/site-packages (from torch==2.1.2->torchvision) (3.1.2)\n",
      "Requirement already satisfied: fsspec in /opt/anaconda3/lib/python3.9/site-packages (from torch==2.1.2->torchvision) (2023.4.0)\n",
      "Requirement already satisfied: charset-normalizer<4,>=2 in /opt/anaconda3/lib/python3.9/site-packages (from requests->torchvision) (2.0.4)\n",
      "Requirement already satisfied: idna<4,>=2.5 in /opt/anaconda3/lib/python3.9/site-packages (from requests->torchvision) (3.4)\n",
      "Requirement already satisfied: urllib3<3,>=1.21.1 in /opt/anaconda3/lib/python3.9/site-packages (from requests->torchvision) (1.26.16)\n",
      "Requirement already satisfied: certifi>=2017.4.17 in /opt/anaconda3/lib/python3.9/site-packages (from requests->torchvision) (2023.7.22)\n",
      "Requirement already satisfied: MarkupSafe>=2.0 in /opt/anaconda3/lib/python3.9/site-packages (from jinja2->torch==2.1.2->torchvision) (2.1.1)\n",
      "Requirement already satisfied: mpmath>=0.19 in /opt/anaconda3/lib/python3.9/site-packages (from sympy->torch==2.1.2->torchvision) (1.2.1)\n",
      "Downloading torchvision-0.16.2-cp39-cp39-macosx_10_13_x86_64.whl (1.6 MB)\n",
      "\u001b[2K   \u001b[90m━━━━━━━━━━━━━━━━━━━━━━━━━━━━━━━━━━━━━━━━\u001b[0m \u001b[32m1.6/1.6 MB\u001b[0m \u001b[31m7.2 MB/s\u001b[0m eta \u001b[36m0:00:00\u001b[0ma \u001b[36m0:00:01\u001b[0mm\n",
      "\u001b[?25hInstalling collected packages: torchvision\n",
      "Successfully installed torchvision-0.16.2\n",
      "\n",
      "\u001b[1m[\u001b[0m\u001b[34;49mnotice\u001b[0m\u001b[1;39;49m]\u001b[0m\u001b[39;49m A new release of pip is available: \u001b[0m\u001b[31;49m23.2.1\u001b[0m\u001b[39;49m -> \u001b[0m\u001b[32;49m23.3.2\u001b[0m\n",
      "\u001b[1m[\u001b[0m\u001b[34;49mnotice\u001b[0m\u001b[1;39;49m]\u001b[0m\u001b[39;49m To update, run: \u001b[0m\u001b[32;49mpip install --upgrade pip\u001b[0m\n"
     ]
    }
   ],
   "source": [
    "!pip install torchvision"
   ]
  },
  {
   "cell_type": "code",
   "execution_count": 5,
   "metadata": {
    "id": "YyWEB6e3FKYY"
   },
   "outputs": [],
   "source": [
    "%matplotlib inline\n",
    "import random\n",
    "import torch\n",
    "from d2l import torch as d2l"
   ]
  },
  {
   "cell_type": "code",
   "execution_count": 6,
   "metadata": {
    "id": "exWjbVn2v3CT"
   },
   "outputs": [],
   "source": [
    "def synthetic_data(w, b, num_examples):\n",
    "    \"\"\"Generate y = Xw + b + noise.\"\"\"\n",
    "    X = torch.normal(0, 1, (num_examples, len(w)))\n",
    "    y = torch.matmul(X, w) + b\n",
    "    y += torch.normal(0, 0.01, y.shape)\n",
    "    return X, y.reshape((-1, 1))\n",
    "\n",
    "true_w = torch.tensor([3, -1.5])\n",
    "true_b = 5.5\n",
    "features, labels = synthetic_data(true_w, true_b, 2000)"
   ]
  },
  {
   "cell_type": "code",
   "execution_count": 7,
   "metadata": {
    "id": "5UcjckXPv6iy"
   },
   "outputs": [
    {
     "name": "stdout",
     "output_type": "stream",
     "text": [
      "features: tensor([-2.0625,  1.2114]) \n",
      "label: tensor([-2.4918])\n"
     ]
    }
   ],
   "source": [
    "print('features:', features[0],'\\nlabel:', labels[0])"
   ]
  },
  {
   "cell_type": "code",
   "execution_count": 43,
   "metadata": {
    "id": "jLY6YR5Zv_gO"
   },
   "outputs": [],
   "source": [
    "def data_iter(batch_size, features, labels):\n",
    "    num_examples = len(features)\n",
    "    indices = list(range(num_examples))\n",
    "    # The examples are read at random, in no particular order\n",
    "    random.shuffle(indices)\n",
    "    for i in range(0, num_examples, batch_size):\n",
    "        batch_indices = torch.tensor(\n",
    "            indices[i: min(i + batch_size, num_examples)])\n",
    "        yield features[batch_indices], labels[batch_indices]"
   ]
  },
  {
   "cell_type": "code",
   "execution_count": 44,
   "metadata": {
    "id": "zuxxEAvdwA7p",
    "scrolled": true
   },
   "outputs": [
    {
     "name": "stdout",
     "output_type": "stream",
     "text": [
      "tensor([[-1.5826, -1.3463],\n",
      "        [-0.0916, -0.2030],\n",
      "        [-0.6591,  0.8396],\n",
      "        [-0.5235,  0.0462],\n",
      "        [-1.1011, -0.4551],\n",
      "        [-0.6339, -1.6250],\n",
      "        [-0.0134, -1.2963],\n",
      "        [ 0.2430,  0.9469],\n",
      "        [ 2.0826, -0.9047],\n",
      "        [ 0.6307,  1.6878],\n",
      "        [-0.7600, -0.0487],\n",
      "        [-0.7623,  0.6149],\n",
      "        [ 0.5309,  0.7065],\n",
      "        [ 0.3297,  0.1588],\n",
      "        [ 0.3341,  0.8474],\n",
      "        [ 0.7394, -0.5341],\n",
      "        [ 0.1152, -0.5442],\n",
      "        [-0.2996, -0.7120],\n",
      "        [ 0.5103, -1.0378],\n",
      "        [-0.7477, -0.9471]]) \n",
      " tensor([[ 2.7791],\n",
      "        [ 5.5385],\n",
      "        [ 2.2861],\n",
      "        [ 3.8603],\n",
      "        [ 2.8787],\n",
      "        [ 6.0417],\n",
      "        [ 7.4183],\n",
      "        [ 4.8098],\n",
      "        [13.1015],\n",
      "        [ 4.8558],\n",
      "        [ 3.2951],\n",
      "        [ 2.2843],\n",
      "        [ 6.0337],\n",
      "        [ 6.2508],\n",
      "        [ 5.2456],\n",
      "        [ 8.5197],\n",
      "        [ 6.6622],\n",
      "        [ 5.6573],\n",
      "        [ 8.5732],\n",
      "        [ 4.6971]])\n"
     ]
    }
   ],
   "source": [
    "batch_size = 20\n",
    "\n",
    "for X, y in data_iter(batch_size, features, labels):\n",
    "    print(X, '\\n', y)\n",
    "    break"
   ]
  },
  {
   "cell_type": "code",
   "execution_count": 45,
   "metadata": {
    "id": "f_yHcVYEwCHq"
   },
   "outputs": [],
   "source": [
    "w = torch.normal(0, 0.01, size=(2,1), requires_grad=True)\n",
    "b = torch.tensor([2.4], requires_grad=True)#원하는 실수를 넣어주세요"
   ]
  },
  {
   "cell_type": "code",
   "execution_count": 46,
   "metadata": {
    "id": "wOT4gBtZwDVA"
   },
   "outputs": [],
   "source": [
    "def linreg(X, w, b):\n",
    "    \"\"\"The linear regression model.\"\"\"\n",
    "    return torch.matmul(X, w) + b"
   ]
  },
  {
   "cell_type": "code",
   "execution_count": 47,
   "metadata": {
    "id": "WFYMJrrSwE5R"
   },
   "outputs": [],
   "source": [
    "def squared_loss(y_hat, y):\n",
    "    \"\"\"Squared loss.\"\"\"\n",
    "    return 0.5 * torch.mean((y_hat-y)**2)"
   ]
  },
  {
   "cell_type": "code",
   "execution_count": 48,
   "metadata": {
    "id": "MXD0qP8PwIn0"
   },
   "outputs": [],
   "source": [
    "def sgd(params, lr, batch_size):\n",
    "    \"\"\"Minibatch stochastic gradient descent.\"\"\"\n",
    "    with torch.no_grad():\n",
    "        for param in params:\n",
    "            param -= lr * param.grad / batch_size\n",
    "            param.grad.zero_()"
   ]
  },
  {
   "cell_type": "code",
   "execution_count": 49,
   "metadata": {
    "id": "pS_hm3J8wJ4z"
   },
   "outputs": [
    {
     "name": "stdout",
     "output_type": "stream",
     "text": [
      "epoch 1, loss 9.613095\n",
      "epoch 2, loss 8.679604\n",
      "epoch 3, loss 7.836768\n",
      "epoch 4, loss 7.075786\n",
      "epoch 5, loss 6.388709\n",
      "epoch 6, loss 5.768351\n",
      "epoch 7, loss 5.208239\n",
      "epoch 8, loss 4.702524\n",
      "epoch 9, loss 4.245917\n",
      "epoch 10, loss 3.833653\n",
      "epoch 11, loss 3.461421\n",
      "epoch 12, loss 3.125339\n",
      "epoch 13, loss 2.821889\n",
      "epoch 14, loss 2.547907\n",
      "epoch 15, loss 2.300530\n",
      "epoch 16, loss 2.077176\n",
      "epoch 17, loss 1.875509\n",
      "epoch 18, loss 1.693422\n",
      "epoch 19, loss 1.529019\n",
      "epoch 20, loss 1.380577\n",
      "epoch 21, loss 1.246549\n",
      "epoch 22, loss 1.125536\n",
      "epoch 23, loss 1.016269\n",
      "epoch 24, loss 0.917610\n",
      "epoch 25, loss 0.828532\n",
      "epoch 26, loss 0.748102\n",
      "epoch 27, loss 0.675481\n",
      "epoch 28, loss 0.609911\n",
      "epoch 29, loss 0.550707\n",
      "epoch 30, loss 0.497252\n",
      "epoch 31, loss 0.448987\n",
      "epoch 32, loss 0.405407\n",
      "epoch 33, loss 0.366058\n",
      "epoch 34, loss 0.330530\n",
      "epoch 35, loss 0.298450\n",
      "epoch 36, loss 0.269485\n",
      "epoch 37, loss 0.243332\n",
      "epoch 38, loss 0.219718\n",
      "epoch 39, loss 0.198396\n",
      "epoch 40, loss 0.179144\n",
      "epoch 41, loss 0.161760\n",
      "epoch 42, loss 0.146065\n",
      "epoch 43, loss 0.131894\n",
      "epoch 44, loss 0.119097\n",
      "epoch 45, loss 0.107543\n",
      "epoch 46, loss 0.097111\n",
      "epoch 47, loss 0.087691\n",
      "epoch 48, loss 0.079185\n",
      "epoch 49, loss 0.071505\n",
      "epoch 50, loss 0.064571\n",
      "epoch 51, loss 0.058310\n",
      "epoch 52, loss 0.052655\n",
      "epoch 53, loss 0.047551\n",
      "epoch 54, loss 0.042941\n",
      "epoch 55, loss 0.038778\n",
      "epoch 56, loss 0.035020\n",
      "epoch 57, loss 0.031626\n",
      "epoch 58, loss 0.028562\n",
      "epoch 59, loss 0.025795\n",
      "epoch 60, loss 0.023297\n",
      "epoch 61, loss 0.021042\n",
      "epoch 62, loss 0.019005\n",
      "epoch 63, loss 0.017165\n",
      "epoch 64, loss 0.015505\n",
      "epoch 65, loss 0.014006\n",
      "epoch 66, loss 0.012651\n",
      "epoch 67, loss 0.011429\n",
      "epoch 68, loss 0.010325\n",
      "epoch 69, loss 0.009328\n",
      "epoch 70, loss 0.008428\n",
      "epoch 71, loss 0.007615\n",
      "epoch 72, loss 0.006881\n",
      "epoch 73, loss 0.006219\n",
      "epoch 74, loss 0.005620\n",
      "epoch 75, loss 0.005080\n",
      "epoch 76, loss 0.004592\n",
      "epoch 77, loss 0.004151\n",
      "epoch 78, loss 0.003753\n",
      "epoch 79, loss 0.003394\n",
      "epoch 80, loss 0.003070\n",
      "epoch 81, loss 0.002777\n",
      "epoch 82, loss 0.002512\n",
      "epoch 83, loss 0.002273\n",
      "epoch 84, loss 0.002058\n",
      "epoch 85, loss 0.001863\n",
      "epoch 86, loss 0.001687\n",
      "epoch 87, loss 0.001528\n",
      "epoch 88, loss 0.001385\n",
      "epoch 89, loss 0.001256\n",
      "epoch 90, loss 0.001139\n",
      "epoch 91, loss 0.001033\n",
      "epoch 92, loss 0.000938\n",
      "epoch 93, loss 0.000852\n",
      "epoch 94, loss 0.000774\n",
      "epoch 95, loss 0.000704\n",
      "epoch 96, loss 0.000640\n",
      "epoch 97, loss 0.000583\n",
      "epoch 98, loss 0.000532\n",
      "epoch 99, loss 0.000485\n",
      "epoch 100, loss 0.000443\n"
     ]
    }
   ],
   "source": [
    "lr = 0.01\n",
    "num_epochs = 100\n",
    "net = linreg\n",
    "loss = squared_loss\n",
    "\n",
    "for epoch in range(num_epochs):\n",
    "    for X, y in data_iter(batch_size, features, labels):\n",
    "        l = loss(net(X, w, b), y)\n",
    "        # Compute gradient on `l` with respect to [`w`, `b`]\n",
    "        l.sum().backward()\n",
    "        sgd([w, b], lr, batch_size)\n",
    "    with torch.no_grad():\n",
    "        train_l = loss(net(features, w, b), labels)\n",
    "        print(f'epoch {epoch + 1}, loss {float(train_l.mean()):f}')"
   ]
  },
  {
   "cell_type": "code",
   "execution_count": 50,
   "metadata": {
    "id": "u_WSAjwNwMEY"
   },
   "outputs": [
    {
     "name": "stdout",
     "output_type": "stream",
     "text": [
      "error in estimating w: tensor([ 0.0171, -0.0089], grad_fn=<SubBackward0>)\n",
      "error in estimating b: tensor([0.0197], grad_fn=<RsubBackward1>)\n"
     ]
    }
   ],
   "source": [
    "print(f'error in estimating w: {true_w - w.reshape(true_w.shape)}')\n",
    "print(f'error in estimating b: {true_b - b}')"
   ]
  },
  {
   "cell_type": "markdown",
   "metadata": {
    "id": "tDSteRKdREC9"
   },
   "source": [
    "\\+ cost graph 그리기 (x축 w, y축 loss)"
   ]
  },
  {
   "cell_type": "code",
   "execution_count": 51,
   "metadata": {
    "id": "13ySyXh7RMcn"
   },
   "outputs": [
    {
     "data": {
      "image/png": "[encoded data removed]",
      "text/plain": [
       "<Figure size 640x480 with 1 Axes>"
      ]
     },
     "metadata": {},
     "output_type": "display_data"
    }
   ],
   "source": [
    "import matplotlib.pyplot as plt\n",
    "\n",
    "losses = []\n",
    "weights = []\n",
    "\n",
    "for epoch in range(num_epochs):\n",
    "    for X, y in data_iter(batch_size, features, labels):\n",
    "        l = loss(net(X, w, b), y)\n",
    "        # Compute gradient on `l` with respect to [`w`, `b`]\n",
    "        l.sum().backward()\n",
    "        sgd([w, b], lr, batch_size)\n",
    "\n",
    "    with torch.no_grad():\n",
    "        train_l = loss(net(features, w, b), labels)\n",
    "        losses.append(float(train_l.mean()))\n",
    "        weights.append(float(w[0]))  \n",
    "        \n",
    "# Plotting the cost graph\n",
    "plt.plot(weights, losses, marker='o', linestyle='-')\n",
    "plt.title('Cost Graph')\n",
    "plt.xlabel('Weight')\n",
    "plt.ylabel('Loss')\n",
    "plt.show()"
   ]
  },
  {
   "cell_type": "markdown",
   "metadata": {
    "id": "WSKKAGx4wNd4"
   },
   "source": [
    "### Concise Implementation of Linear Regression\n",
    "- API 사용해보기"
   ]
  },
  {
   "cell_type": "code",
   "execution_count": 70,
   "metadata": {
    "id": "CWiOlkzKxEkf"
   },
   "outputs": [],
   "source": [
    "import numpy as np\n",
    "import torch\n",
    "from torch.utils import data\n",
    "from d2l import torch as d2l\n",
    "\n",
    "true_w = torch.tensor([3, -1.5])\n",
    "true_b = 5.5\n",
    "features, labels = d2l.synthetic_data(true_w, true_b, 2000)"
   ]
  },
  {
   "cell_type": "code",
   "execution_count": 71,
   "metadata": {
    "id": "F5tRyjkmxGUe"
   },
   "outputs": [],
   "source": [
    "def load_array(data_arrays, batch_size, is_train=True):\n",
    "    \"\"\"Construct a PyTorch data iterator.\"\"\"\n",
    "    dataset = data.TensorDataset(*data_arrays)\n",
    "    return data.DataLoader(dataset, batch_size, shuffle=is_train)\n",
    "\n",
    "batch_size = 20\n",
    "data_iter = load_array((features, labels), batch_size)"
   ]
  },
  {
   "cell_type": "code",
   "execution_count": 72,
   "metadata": {
    "id": "NBaqnZG4xHgP",
    "scrolled": true
   },
   "outputs": [
    {
     "data": {
      "text/plain": [
       "[tensor([[ 1.4547,  1.4260],\n",
       "         [-0.6616,  0.8592],\n",
       "         [ 0.3119, -1.2577],\n",
       "         [-2.0543,  0.1778],\n",
       "         [ 0.8635,  0.7985],\n",
       "         [-0.2547, -0.5399],\n",
       "         [-0.6856, -0.0559],\n",
       "         [-1.1658, -0.0747],\n",
       "         [ 0.4595, -0.6665],\n",
       "         [-1.1172,  2.6198],\n",
       "         [-0.2957, -0.2513],\n",
       "         [ 1.3215, -1.2812],\n",
       "         [-1.5021, -1.5997],\n",
       "         [ 1.7664, -0.6984],\n",
       "         [ 0.3097,  0.5501],\n",
       "         [ 0.3340, -0.0208],\n",
       "         [ 0.5115,  0.8994],\n",
       "         [-0.8845, -0.6324],\n",
       "         [-1.0144,  1.6600],\n",
       "         [ 0.8603,  0.7288]]),\n",
       " tensor([[ 7.7353],\n",
       "         [ 2.2040],\n",
       "         [ 8.3299],\n",
       "         [-0.9247],\n",
       "         [ 6.9109],\n",
       "         [ 5.5376],\n",
       "         [ 3.5365],\n",
       "         [ 2.1105],\n",
       "         [ 7.8791],\n",
       "         [-1.7836],\n",
       "         [ 5.0003],\n",
       "         [11.3785],\n",
       "         [ 3.4006],\n",
       "         [11.8579],\n",
       "         [ 5.5930],\n",
       "         [ 6.5194],\n",
       "         [ 5.6923],\n",
       "         [ 3.8138],\n",
       "         [-0.0172],\n",
       "         [ 6.9944]])]"
      ]
     },
     "execution_count": 72,
     "metadata": {},
     "output_type": "execute_result"
    }
   ],
   "source": [
    "next(iter(data_iter))"
   ]
  },
  {
   "cell_type": "code",
   "execution_count": 73,
   "metadata": {
    "id": "J_83KBFOxJFB"
   },
   "outputs": [],
   "source": [
    "from torch import nn\n",
    "\n",
    "net = nn.Sequential(nn.Linear(2, 1))"
   ]
  },
  {
   "cell_type": "code",
   "execution_count": 74,
   "metadata": {
    "id": "AdJQQgFaxL2H"
   },
   "outputs": [
    {
     "data": {
      "text/plain": [
       "tensor([0.])"
      ]
     },
     "execution_count": 74,
     "metadata": {},
     "output_type": "execute_result"
    }
   ],
   "source": [
    "net[0].weight.data.normal_(0, 0.01)\n",
    "net[0].bias.data.fill_(0)"
   ]
  },
  {
   "cell_type": "code",
   "execution_count": 75,
   "metadata": {
    "id": "vSCAFyfAxNAn"
   },
   "outputs": [],
   "source": [
    "loss = nn.MSELoss()"
   ]
  },
  {
   "cell_type": "code",
   "execution_count": 76,
   "metadata": {
    "id": "_yee2wG1xOYW"
   },
   "outputs": [],
   "source": [
    "trainer = torch.optim.SGD(net.parameters(), lr=0.01)"
   ]
  },
  {
   "cell_type": "code",
   "execution_count": 77,
   "metadata": {
    "id": "5fAmW5bUxP9Z"
   },
   "outputs": [
    {
     "name": "stdout",
     "output_type": "stream",
     "text": [
      "epoch 1, loss 0.677159\n",
      "epoch 2, loss 0.010987\n",
      "epoch 3, loss 0.000277\n"
     ]
    }
   ],
   "source": [
    "num_epochs = 3\n",
    "for epoch in range(num_epochs):\n",
    "    for X, y in data_iter:\n",
    "        l = loss(net(X), y)\n",
    "        trainer.zero_grad()\n",
    "        l.backward()\n",
    "        trainer.step()\n",
    "    l = loss(net(features), labels)\n",
    "    print(f'epoch {epoch + 1}, loss {l:f}')"
   ]
  },
  {
   "cell_type": "code",
   "execution_count": 78,
   "metadata": {
    "id": "JT8VD6GhxR5m"
   },
   "outputs": [
    {
     "name": "stdout",
     "output_type": "stream",
     "text": [
      "error in estimating w: tensor([ 0.0043, -0.0047])\n",
      "error in estimating b: tensor([0.0113])\n"
     ]
    }
   ],
   "source": [
    "w = net[0].weight.data\n",
    "print('error in estimating w:', true_w - w.reshape(true_w.shape))\n",
    "b = net[0].bias.data\n",
    "print('error in estimating b:', true_b - b)"
   ]
  },
  {
   "cell_type": "code",
   "execution_count": null,
   "metadata": {},
   "outputs": [],
   "source": []
  }
 ],
 "metadata": {
  "colab": {
   "provenance": []
  },
  "kernelspec": {
   "display_name": "Python 3 (ipykernel)",
   "language": "python",
   "name": "python3"
  },
  "language_info": {
   "codemirror_mode": {
    "name": "ipython",
    "version": 3
   },
   "file_extension": ".py",
   "mimetype": "text/x-python",
   "name": "python",
   "nbconvert_exporter": "python",
   "pygments_lexer": "ipython3",
   "version": "3.9.13"
  }
 },
 "nbformat": 4,
 "nbformat_minor": 1
}
