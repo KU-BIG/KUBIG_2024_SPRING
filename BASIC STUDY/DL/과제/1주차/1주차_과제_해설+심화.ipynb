{
  "nbformat": 4,
  "nbformat_minor": 0,
  "metadata": {
    "colab": {
      "provenance": []
    },
    "kernelspec": {
      "name": "python3",
      "display_name": "Python 3"
    },
    "language_info": {
      "name": "python"
    },
    "accelerator": "GPU",
    "gpuClass": "standard"
  },
  "cells": [
    {
      "cell_type": "markdown",
      "source": [
        "# < 1주차 과제 >\n",
        "과제 목표 및 의의 <br>\n",
        "- 파이토치의 기본 연산 단위인 텐서 (tensor)에 대해 알아보고, 파이토치와 친숙해진다.\n",
        "- 주어진 데이터셋에 대하여 linear regression을 수행하며  최적의 파라미터값을 탐색한다.\n",
        "- 이를 통해, 차후 배우게 될 deep neural network의 학습 과정에 대해서 전반적인 이해를 얻을 수 있다."
      ],
      "metadata": {
        "id": "YffDGVSIxijw"
      }
    },
    {
      "cell_type": "markdown",
      "source": [
        "##1. 파이토치 시작하기"
      ],
      "metadata": {
        "id": "MivAstLj4EpN"
      }
    },
    {
      "cell_type": "code",
      "execution_count": null,
      "metadata": {
        "id": "BS39ZJTi4CD0"
      },
      "outputs": [],
      "source": [
        "import torch \n",
        "import numpy as np"
      ]
    },
    {
      "cell_type": "markdown",
      "source": [
        "###텐서란 무엇인가?\n",
        "\n",
        "배열(array)은 번호(index)와 각 번호에 대응하는 값들로 이루어진 데이터 형태를 의미한다.numpy의 array 혹은 pandas를 다루어보았다면 리스트나, 행렬 등이 배열의 대표적인 예시가 되겠다. <br>\n",
        "\n",
        "텐서(tensor)는 배열(array)이나 행렬(matrix)과 같이, 다차원 배열의 통칭을 의미한다. 쉽게 말해서, 텐서(tensor)는 PyTorch의 기본적인 data structure이다.<br>\n",
        "\n",
        "1) 텐서 생성 <br>\n",
        "2) 텐서 연산 <br>\n",
        "3) 텐서의 대표적 속성 <br>\n",
        "- GPU 연산\n",
        "- 자동 미분 (requires_grad = True)\n"
      ],
      "metadata": {
        "id": "4Fs0CjKgSaWk"
      }
    },
    {
      "cell_type": "markdown",
      "source": [
        "#### 1) 텐서 생성하기 \n",
        "- 직접 생성하기"
      ],
      "metadata": {
        "id": "i0dvRjPFYjmH"
      }
    },
    {
      "cell_type": "code",
      "source": [
        "data = [[1,2],[3,4]]\n",
        "x_data = torch.tensor(data)\n",
        "x_data"
      ],
      "metadata": {
        "colab": {
          "base_uri": "https://localhost:8080/"
        },
        "id": "tNplVuirYirj",
        "outputId": "a1b768b0-6103-43fa-80a0-cdf4fa7e67be"
      },
      "execution_count": null,
      "outputs": [
        {
          "output_type": "execute_result",
          "data": {
            "text/plain": [
              "tensor([[1, 2],\n",
              "        [3, 4]])"
            ]
          },
          "metadata": {},
          "execution_count": 2
        }
      ]
    },
    {
      "cell_type": "markdown",
      "source": [
        "- numpy 배열로부터 생성하기"
      ],
      "metadata": {
        "id": "DkB9PqhxY1cO"
      }
    },
    {
      "cell_type": "code",
      "source": [
        "np_array = np.array(data)\n",
        "x_np = torch.from_numpy(np_array)\n",
        "x_np"
      ],
      "metadata": {
        "colab": {
          "base_uri": "https://localhost:8080/"
        },
        "id": "lZIEK5d4Yze-",
        "outputId": "a3c975fa-f2d9-4dff-8fde-22e0934ba2df"
      },
      "execution_count": null,
      "outputs": [
        {
          "output_type": "execute_result",
          "data": {
            "text/plain": [
              "tensor([[1, 2],\n",
              "        [3, 4]])"
            ]
          },
          "metadata": {},
          "execution_count": 3
        }
      ]
    },
    {
      "cell_type": "markdown",
      "source": [
        "- 다른 텐서로부터 생성하기"
      ],
      "metadata": {
        "id": "o3_fhJQ_ZBu5"
      }
    },
    {
      "cell_type": "code",
      "source": [
        "x_ones = torch.ones_like(x_data)\n",
        "print(f'Ones Tensor: {x_ones} \\n')\n",
        "x_rand = torch.rand_like(x_data,dtype=torch.float)\n",
        "print(f'Random Tensor: {x_rand}')"
      ],
      "metadata": {
        "colab": {
          "base_uri": "https://localhost:8080/"
        },
        "id": "yh2gov05ZDms",
        "outputId": "982b81f8-5c4e-41c8-99d9-2be4abd57451"
      },
      "execution_count": null,
      "outputs": [
        {
          "output_type": "stream",
          "name": "stdout",
          "text": [
            "Ones Tensor: tensor([[1, 1],\n",
            "        [1, 1]]) \n",
            "\n",
            "Random Tensor: tensor([[0.8342, 0.2986],\n",
            "        [0.7045, 0.3109]])\n"
          ]
        }
      ]
    },
    {
      "cell_type": "markdown",
      "source": [
        "- 무작위 (random) 또는 상수(constant)값을 사용하기 <br><br>\n",
        "shape은 텐서의 차원을 나타내는 튜플로, 아래의 함수에서 출력 텐서의 차원을 결정한다."
      ],
      "metadata": {
        "id": "gHwAorGUZhOr"
      }
    },
    {
      "cell_type": "code",
      "source": [
        "shape = (2,3,)\n",
        "rand_tensor = torch.rand(shape)\n",
        "ones_tensor = torch.ones(shape)\n",
        "zeros_tensor = torch.zeros(shape)\n",
        "\n",
        "print(f'Random Tensor: {rand_tensor} \\n')\n",
        "print(f'Ones Tensor: {ones_tensor} \\n')\n",
        "print(f'Zeros Tensor: {zeros_tensor} \\n')"
      ],
      "metadata": {
        "colab": {
          "base_uri": "https://localhost:8080/"
        },
        "id": "5Eg6eDV1ZlFB",
        "outputId": "7c191f7d-7d51-49b0-f66b-539b507673ab"
      },
      "execution_count": null,
      "outputs": [
        {
          "output_type": "stream",
          "name": "stdout",
          "text": [
            "Random Tensor: tensor([[0.1495, 0.9417, 0.6625],\n",
            "        [0.9853, 0.8580, 0.8566]]) \n",
            "\n",
            "Ones Tensor: tensor([[1., 1., 1.],\n",
            "        [1., 1., 1.]]) \n",
            "\n",
            "Zeros Tensor: tensor([[0., 0., 0.],\n",
            "        [0., 0., 0.]]) \n",
            "\n"
          ]
        }
      ]
    },
    {
      "cell_type": "markdown",
      "source": [
        "#### 2) 텐서 연산하기"
      ],
      "metadata": {
        "id": "kfi_Glj8bezv"
      }
    },
    {
      "cell_type": "markdown",
      "source": [
        "- numpy식의 표준 인덱싱과 슬라이싱"
      ],
      "metadata": {
        "id": "pc4NiP4Abm3V"
      }
    },
    {
      "cell_type": "code",
      "source": [
        "tensor = torch.ones(4,4)\n",
        "tensor[:,1] = 0\n",
        "print(tensor)"
      ],
      "metadata": {
        "colab": {
          "base_uri": "https://localhost:8080/"
        },
        "id": "Z1XRtA53bqzK",
        "outputId": "59efa6d4-63b8-4330-e07c-ff89b0097f14"
      },
      "execution_count": null,
      "outputs": [
        {
          "output_type": "stream",
          "name": "stdout",
          "text": [
            "tensor([[1., 0., 1., 1.],\n",
            "        [1., 0., 1., 1.],\n",
            "        [1., 0., 1., 1.],\n",
            "        [1., 0., 1., 1.]])\n"
          ]
        }
      ]
    },
    {
      "cell_type": "markdown",
      "source": [
        "- 텐서 합치기 (torch.cat)"
      ],
      "metadata": {
        "id": "1qCR55tcbwkJ"
      }
    },
    {
      "cell_type": "code",
      "source": [
        "t1 = torch.cat([tensor,tensor,tensor],dim=1)\n",
        "print(t1)"
      ],
      "metadata": {
        "colab": {
          "base_uri": "https://localhost:8080/"
        },
        "id": "IruRx_THbx4B",
        "outputId": "821dc196-6d00-4a82-d572-fb4e7df9d150"
      },
      "execution_count": null,
      "outputs": [
        {
          "output_type": "stream",
          "name": "stdout",
          "text": [
            "tensor([[1., 0., 1., 1., 1., 0., 1., 1., 1., 0., 1., 1.],\n",
            "        [1., 0., 1., 1., 1., 0., 1., 1., 1., 0., 1., 1.],\n",
            "        [1., 0., 1., 1., 1., 0., 1., 1., 1., 0., 1., 1.],\n",
            "        [1., 0., 1., 1., 1., 0., 1., 1., 1., 0., 1., 1.]])\n"
          ]
        }
      ]
    },
    {
      "cell_type": "code",
      "source": [
        "t3 = torch.cat([tensor,tensor,tensor],dim=0)\n",
        "print(t3)"
      ],
      "metadata": {
        "colab": {
          "base_uri": "https://localhost:8080/"
        },
        "id": "ceZjzqiRcSOd",
        "outputId": "8b19b232-8c3f-4530-89e2-50ba900cfd18"
      },
      "execution_count": null,
      "outputs": [
        {
          "output_type": "stream",
          "name": "stdout",
          "text": [
            "tensor([[1., 0., 1., 1.],\n",
            "        [1., 0., 1., 1.],\n",
            "        [1., 0., 1., 1.],\n",
            "        [1., 0., 1., 1.],\n",
            "        [1., 0., 1., 1.],\n",
            "        [1., 0., 1., 1.],\n",
            "        [1., 0., 1., 1.],\n",
            "        [1., 0., 1., 1.],\n",
            "        [1., 0., 1., 1.],\n",
            "        [1., 0., 1., 1.],\n",
            "        [1., 0., 1., 1.],\n",
            "        [1., 0., 1., 1.]])\n"
          ]
        }
      ]
    },
    {
      "cell_type": "markdown",
      "source": [
        "- 텐서 합치기 (torch.stack)"
      ],
      "metadata": {
        "id": "gwybCAijcFyd"
      }
    },
    {
      "cell_type": "code",
      "source": [
        "t2 = torch.stack([tensor,tensor,tensor],dim=1)\n",
        "print(t2)"
      ],
      "metadata": {
        "colab": {
          "base_uri": "https://localhost:8080/"
        },
        "id": "rsb1EruBcIWv",
        "outputId": "8b938adb-7571-4701-d62e-e80c226d1234"
      },
      "execution_count": null,
      "outputs": [
        {
          "output_type": "stream",
          "name": "stdout",
          "text": [
            "tensor([[[1., 0., 1., 1.],\n",
            "         [1., 0., 1., 1.],\n",
            "         [1., 0., 1., 1.]],\n",
            "\n",
            "        [[1., 0., 1., 1.],\n",
            "         [1., 0., 1., 1.],\n",
            "         [1., 0., 1., 1.]],\n",
            "\n",
            "        [[1., 0., 1., 1.],\n",
            "         [1., 0., 1., 1.],\n",
            "         [1., 0., 1., 1.]],\n",
            "\n",
            "        [[1., 0., 1., 1.],\n",
            "         [1., 0., 1., 1.],\n",
            "         [1., 0., 1., 1.]]])\n"
          ]
        }
      ]
    },
    {
      "cell_type": "code",
      "source": [
        "t4 = torch.stack([tensor,tensor,tensor],dim=1)\n",
        "print(t4)"
      ],
      "metadata": {
        "colab": {
          "base_uri": "https://localhost:8080/"
        },
        "id": "jf16rCZrcWr4",
        "outputId": "174c96e0-4d2e-4d10-f10d-de8b59674adb"
      },
      "execution_count": null,
      "outputs": [
        {
          "output_type": "stream",
          "name": "stdout",
          "text": [
            "tensor([[[1., 0., 1., 1.],\n",
            "         [1., 0., 1., 1.],\n",
            "         [1., 0., 1., 1.]],\n",
            "\n",
            "        [[1., 0., 1., 1.],\n",
            "         [1., 0., 1., 1.],\n",
            "         [1., 0., 1., 1.]],\n",
            "\n",
            "        [[1., 0., 1., 1.],\n",
            "         [1., 0., 1., 1.],\n",
            "         [1., 0., 1., 1.]],\n",
            "\n",
            "        [[1., 0., 1., 1.],\n",
            "         [1., 0., 1., 1.],\n",
            "         [1., 0., 1., 1.]]])\n"
          ]
        }
      ]
    },
    {
      "cell_type": "code",
      "source": [
        "t2.size()"
      ],
      "metadata": {
        "colab": {
          "base_uri": "https://localhost:8080/"
        },
        "id": "zuiaXs2q1ofJ",
        "outputId": "5787a5c0-631e-4afc-c3e4-f07f0b2079c8"
      },
      "execution_count": null,
      "outputs": [
        {
          "output_type": "execute_result",
          "data": {
            "text/plain": [
              "torch.Size([4, 3, 4])"
            ]
          },
          "metadata": {},
          "execution_count": 11
        }
      ]
    },
    {
      "cell_type": "code",
      "source": [
        "t4.size()"
      ],
      "metadata": {
        "colab": {
          "base_uri": "https://localhost:8080/"
        },
        "id": "LrT2Rl2Z1qB2",
        "outputId": "01451641-6fad-4e22-fd73-4fdee781d571"
      },
      "execution_count": null,
      "outputs": [
        {
          "output_type": "execute_result",
          "data": {
            "text/plain": [
              "torch.Size([4, 3, 4])"
            ]
          },
          "metadata": {},
          "execution_count": 12
        }
      ]
    },
    {
      "cell_type": "markdown",
      "source": [
        "torch.cat과 torch.stack은 무엇이 다른가?\n",
        "https://discuss.pytorch.kr/t/torch-cat-torch-stack/26"
      ],
      "metadata": {
        "id": "a4gFnZJI1bqA"
      }
    },
    {
      "cell_type": "markdown",
      "source": [
        "- 텐서 곱하기 (element-wise product)"
      ],
      "metadata": {
        "id": "qRCEqcjF6onD"
      }
    },
    {
      "cell_type": "code",
      "source": [
        "print(f\"tensor.mul(tensor) \\n {tensor.mul(tensor)} \\n\")\n",
        "# 다른 문법:\n",
        "print(f\"tensor * tensor \\n {tensor * tensor}\")"
      ],
      "metadata": {
        "colab": {
          "base_uri": "https://localhost:8080/"
        },
        "id": "w1md7ppW6rI9",
        "outputId": "cbb0618f-45fe-49a1-87c4-53ac5a47989e"
      },
      "execution_count": null,
      "outputs": [
        {
          "output_type": "stream",
          "name": "stdout",
          "text": [
            "tensor.mul(tensor) \n",
            " tensor([[1., 0., 1., 1.],\n",
            "        [1., 0., 1., 1.],\n",
            "        [1., 0., 1., 1.],\n",
            "        [1., 0., 1., 1.]]) \n",
            "\n",
            "tensor * tensor \n",
            " tensor([[1., 0., 1., 1.],\n",
            "        [1., 0., 1., 1.],\n",
            "        [1., 0., 1., 1.],\n",
            "        [1., 0., 1., 1.]])\n"
          ]
        }
      ]
    },
    {
      "cell_type": "markdown",
      "source": [
        "- 텐서 곱하기 (matrix multiplication)"
      ],
      "metadata": {
        "id": "Zm8XDCj_64j8"
      }
    },
    {
      "cell_type": "code",
      "source": [
        "print(f\"tensor.matmul(tensor.T) \\n {tensor.matmul(tensor.T)} \\n\")\n",
        "# 다른 문법:\n",
        "print(f\"tensor @ tensor.T \\n {tensor @ tensor.T}\")"
      ],
      "metadata": {
        "colab": {
          "base_uri": "https://localhost:8080/"
        },
        "id": "_kjUcdOE680k",
        "outputId": "ef27c4df-89f3-49e8-95fb-22b110c989a1"
      },
      "execution_count": null,
      "outputs": [
        {
          "output_type": "stream",
          "name": "stdout",
          "text": [
            "tensor.matmul(tensor.T) \n",
            " tensor([[3., 3., 3., 3.],\n",
            "        [3., 3., 3., 3.],\n",
            "        [3., 3., 3., 3.],\n",
            "        [3., 3., 3., 3.]]) \n",
            "\n",
            "tensor @ tensor.T \n",
            " tensor([[3., 3., 3., 3.],\n",
            "        [3., 3., 3., 3.],\n",
            "        [3., 3., 3., 3.],\n",
            "        [3., 3., 3., 3.]])\n"
          ]
        }
      ]
    },
    {
      "cell_type": "markdown",
      "source": [
        "#### 3) 텐서의 대표적 특성 (3가지)"
      ],
      "metadata": {
        "id": "liQ_yFmL1yX9"
      }
    },
    {
      "cell_type": "markdown",
      "source": [
        "##### a) broadcasting\n",
        "두 개의 행렬을 연산(덧셈,뺄셈)하기 위해서는 크기가 같아야 한다. PyTorch의 텐서(tensor)는 크기가 다른 텐서 간에도 연산이 가능하게 하는데, 자동으로 크기를 맞춰서 연산을 수행하게 만드는 기능을 broadcasting이라고 한다."
      ],
      "metadata": {
        "id": "2DvCT0Up9HP8"
      }
    },
    {
      "cell_type": "code",
      "source": [
        "m1 = torch.FloatTensor([[3, 3]])\n",
        "m2 = torch.FloatTensor([[2, 2]])\n",
        "print(m1 + m2)"
      ],
      "metadata": {
        "colab": {
          "base_uri": "https://localhost:8080/"
        },
        "id": "rsil5HeBNKfg",
        "outputId": "e1a87518-d534-4dc1-915d-886ebd0d20ba"
      },
      "execution_count": null,
      "outputs": [
        {
          "output_type": "stream",
          "name": "stdout",
          "text": [
            "tensor([[5., 5.]])\n"
          ]
        }
      ]
    },
    {
      "cell_type": "code",
      "source": [
        "# Vector + scalar\n",
        "m1 = torch.FloatTensor([[1, 2]])\n",
        "m2 = torch.FloatTensor([3]) # [3] -> [3, 3]\n",
        "print(m1 + m2)"
      ],
      "metadata": {
        "colab": {
          "base_uri": "https://localhost:8080/"
        },
        "id": "yjkVGGJJQVSk",
        "outputId": "733db769-02ad-4dcc-a315-2d8fa1a984d0"
      },
      "execution_count": null,
      "outputs": [
        {
          "output_type": "stream",
          "name": "stdout",
          "text": [
            "tensor([[4., 5.]])\n"
          ]
        }
      ]
    },
    {
      "cell_type": "code",
      "source": [
        "# 2 x 1 Vector + 1 x 2 Vector\n",
        "m1 = torch.FloatTensor([[1, 2]])\n",
        "m2 = torch.FloatTensor([[3], [4]])\n",
        "print(m1 + m2)"
      ],
      "metadata": {
        "colab": {
          "base_uri": "https://localhost:8080/"
        },
        "id": "Lt52gYJIQg8O",
        "outputId": "ce360bdf-8daf-48f7-a5d7-6f32c091090b"
      },
      "execution_count": null,
      "outputs": [
        {
          "output_type": "stream",
          "name": "stdout",
          "text": [
            "tensor([[4., 5.],\n",
            "        [5., 6.]])\n"
          ]
        }
      ]
    },
    {
      "cell_type": "markdown",
      "source": [
        "##### b) PyTorch tensor를 GPU에 올리기 <br>\n",
        "딥러닝의 특성상 계산량이 많아 보통 GPU에서 계산을 하는 경우가 많다. numpy와 다르게, PyTorch의 tensor는 GPU 상에 data structure를 올릴 수 있는데, 이는 빠른 연산이 가능하게 한다."
      ],
      "metadata": {
        "id": "RtJWFLpf1_Qa"
      }
    },
    {
      "cell_type": "markdown",
      "source": [
        "- device : 해당 tensor가 CPU,GPU 중 어디에 있는지 확인할 때 사용 <br>\n",
        "- cuda.is_available() : GPU(cuda)를 사용할 수 있는지 확인할 때 사용<br>\n",
        "- to('cuda') : tensor를 GPU에 올릴 때 사용\n",
        "- to('cpu') : tensor를 다시 CPU에서 계산할 때 사용"
      ],
      "metadata": {
        "id": "tLjCvr5R3m32"
      }
    },
    {
      "cell_type": "code",
      "source": [
        "a = torch.tensor([1,2,3,4])\n",
        "print(a.device)"
      ],
      "metadata": {
        "colab": {
          "base_uri": "https://localhost:8080/"
        },
        "id": "Sq_NW7xC3ly1",
        "outputId": "51b70c02-4e1b-4914-a99a-045d7e82767f"
      },
      "execution_count": null,
      "outputs": [
        {
          "output_type": "stream",
          "name": "stdout",
          "text": [
            "cpu\n"
          ]
        }
      ]
    },
    {
      "cell_type": "code",
      "source": [
        "a = torch.tensor([1,2,3,4],device='cuda:0')\n",
        "print(a.device)"
      ],
      "metadata": {
        "colab": {
          "base_uri": "https://localhost:8080/"
        },
        "id": "Wnl1JBMx4STt",
        "outputId": "68767720-c4be-4b76-e230-783e5762200b"
      },
      "execution_count": null,
      "outputs": [
        {
          "output_type": "stream",
          "name": "stdout",
          "text": [
            "cuda:0\n"
          ]
        }
      ]
    },
    {
      "cell_type": "code",
      "source": [
        "b = a.to('cpu')\n",
        "print(b.device)"
      ],
      "metadata": {
        "colab": {
          "base_uri": "https://localhost:8080/"
        },
        "id": "IBs9KTgG4kJL",
        "outputId": "91cdc381-aaf9-402d-939f-6e9b2f74473c"
      },
      "execution_count": null,
      "outputs": [
        {
          "output_type": "stream",
          "name": "stdout",
          "text": [
            "cpu\n"
          ]
        }
      ]
    },
    {
      "cell_type": "markdown",
      "source": [
        "- 종합하기 예제 1"
      ],
      "metadata": {
        "id": "6XsBcHp44t13"
      }
    },
    {
      "cell_type": "code",
      "source": [
        "a = torch.tensor([1,2,3,4])\n",
        "if torch.cuda.is_available():\n",
        "  device='cuda'\n",
        "else:\n",
        "  device='cpu'\n",
        "a = a.to(device)\n",
        "print(a.device)"
      ],
      "metadata": {
        "colab": {
          "base_uri": "https://localhost:8080/"
        },
        "id": "-sBbSNt34pC1",
        "outputId": "81f5ce18-57d5-4223-91b4-45f836ed8fec"
      },
      "execution_count": null,
      "outputs": [
        {
          "output_type": "stream",
          "name": "stdout",
          "text": [
            "cuda:0\n"
          ]
        }
      ]
    },
    {
      "cell_type": "markdown",
      "source": [
        "- 종합하기 예제 2"
      ],
      "metadata": {
        "id": "oUhHkXKK5HSx"
      }
    },
    {
      "cell_type": "code",
      "source": [
        "a = torch.tensor([1,2,3,4])\n",
        "device = torch.device('cuda' if torch.cuda.is_available() else 'cpu')\n",
        "a = a.to(device)\n",
        "print(a.device)"
      ],
      "metadata": {
        "colab": {
          "base_uri": "https://localhost:8080/"
        },
        "id": "j2zaugQO5C-t",
        "outputId": "24cc20bb-5dee-4620-bd3c-e68198bd5e00"
      },
      "execution_count": null,
      "outputs": [
        {
          "output_type": "stream",
          "name": "stdout",
          "text": [
            "cuda:0\n"
          ]
        }
      ]
    },
    {
      "cell_type": "markdown",
      "source": [
        "##### c) 자동미분 (Autograd)\n",
        "Autograd는 tensor에 대한 미분 계산을 도와주는 pytorch 패키지이다. 다음주에 배우게 될 오차역전파 등 모델 학습시 업데이트 되는 파라미터에 대한 gradient값을 계산하고 저장하는데 사용된다. 가장 핵심적인 패키지임을 알아두자.\n"
      ],
      "metadata": {
        "id": "1-NYTxgD5WrI"
      }
    },
    {
      "cell_type": "markdown",
      "source": [
        "- requires_grad : True로 설정 시 모든 연산들을 기억 (tensor가 감싸고 있는 값들은 int가 아닌 float 자료형이어야 함!)\n",
        "- retain_grad() : 해당 변수에 대한 gradient 연산 기억\n",
        "- backward() : 기억한 연산들에 대해서 gradient 계산\n",
        "- detach() : 계산 정보를 더 이상 기억하지 않음"
      ],
      "metadata": {
        "id": "iFVc9l7z6ND0"
      }
    },
    {
      "cell_type": "code",
      "source": [
        "w = torch.tensor([[1.,2.],[3.,2.]],requires_grad=True)\n",
        "print(w)"
      ],
      "metadata": {
        "colab": {
          "base_uri": "https://localhost:8080/"
        },
        "id": "-MO5lD9tSP06",
        "outputId": "b0d11c97-0114-4fc0-e4e6-4bba3b6e59bd"
      },
      "execution_count": null,
      "outputs": [
        {
          "output_type": "stream",
          "name": "stdout",
          "text": [
            "tensor([[1., 2.],\n",
            "        [3., 2.]], requires_grad=True)\n"
          ]
        }
      ]
    },
    {
      "cell_type": "code",
      "source": [
        "x = w**3\n",
        "print(x)"
      ],
      "metadata": {
        "colab": {
          "base_uri": "https://localhost:8080/"
        },
        "id": "pQIKYeE_Sg6Q",
        "outputId": "48327e72-cd80-48ab-e281-52187849d553"
      },
      "execution_count": null,
      "outputs": [
        {
          "output_type": "stream",
          "name": "stdout",
          "text": [
            "tensor([[ 1.,  8.],\n",
            "        [27.,  8.]], grad_fn=<PowBackward0>)\n"
          ]
        }
      ]
    },
    {
      "cell_type": "markdown",
      "source": [
        "- autograd.Variable은 autograd 패키지의 핵심 클래스입니다. Variable 클래스는 Tensor를 감싸고 있으며, Tensor에 정의된 거의 모든 연산을 지원합니다. 모든 계산을 마친 후에 .backward()를 호출하면, 자동으로 모든 기울기가 계산됩니다.\n",
        "\n",
        "- Variable 객체의 .data 속성으로 Tensor의 실제 데이터에 접근할 수 있습니다. \n",
        "- Variable에 대한 기울기는 .grad 속성에 저장됩니다.\n",
        "- 각 Variable 객체에는 .grad_fn 속성이 있습니다. 이 속성은 해당 Variable 객체를 생성하는 Function 객체를 참조합니다. (예외 상황, Variable을 사용자가 직접 생성한 경우에는 grad_fn이 값은 None입니다.)"
      ],
      "metadata": {
        "id": "GzPmDa58UL__"
      }
    },
    {
      "cell_type": "code",
      "source": [
        "y = x+3\n",
        "print(y)"
      ],
      "metadata": {
        "colab": {
          "base_uri": "https://localhost:8080/"
        },
        "id": "GMvxmRkMSnBN",
        "outputId": "971fda8f-a313-4e04-80ae-fa2f1147c349"
      },
      "execution_count": null,
      "outputs": [
        {
          "output_type": "stream",
          "name": "stdout",
          "text": [
            "tensor([[ 4., 11.],\n",
            "        [30., 11.]], grad_fn=<AddBackward0>)\n"
          ]
        }
      ]
    },
    {
      "cell_type": "code",
      "source": [
        "z = y.mean()\n",
        "print(z)"
      ],
      "metadata": {
        "colab": {
          "base_uri": "https://localhost:8080/"
        },
        "id": "nXElPtZlSqbq",
        "outputId": "d43f0746-10b3-4afd-b307-9584f31ee204"
      },
      "execution_count": null,
      "outputs": [
        {
          "output_type": "stream",
          "name": "stdout",
          "text": [
            "tensor(14., grad_fn=<MeanBackward0>)\n"
          ]
        }
      ]
    },
    {
      "cell_type": "markdown",
      "source": [
        "backward를 호출하면 intermediate variables의 grad는 모두 삭제가 되기 때문에 requires_grad_를 적용해주어도 backward 후에 grad 속성을 보면 None값을 보게 됨. (leaf node인 경우에만 grad 추적이 되도록 default 설정해둠 in torch)"
      ],
      "metadata": {
        "id": "9AcaICViXd5i"
      }
    },
    {
      "cell_type": "code",
      "source": [
        "x.retain_grad()\n",
        "y.retain_grad()"
      ],
      "metadata": {
        "id": "cxF8UHvMSuEN"
      },
      "execution_count": null,
      "outputs": []
    },
    {
      "cell_type": "code",
      "source": [
        "z.backward()\n",
        "print(y.grad)"
      ],
      "metadata": {
        "colab": {
          "base_uri": "https://localhost:8080/"
        },
        "id": "YMJAK99jS0nr",
        "outputId": "d5269dec-3a21-47e8-cfb1-fe4eadce0868"
      },
      "execution_count": null,
      "outputs": [
        {
          "output_type": "stream",
          "name": "stdout",
          "text": [
            "tensor([[0.2500, 0.2500],\n",
            "        [0.2500, 0.2500]])\n"
          ]
        }
      ]
    },
    {
      "cell_type": "code",
      "source": [
        "print(w.grad)"
      ],
      "metadata": {
        "colab": {
          "base_uri": "https://localhost:8080/"
        },
        "id": "bk-Ji8QBS7qW",
        "outputId": "af3681bc-03db-4601-8141-5a9f58583982"
      },
      "execution_count": null,
      "outputs": [
        {
          "output_type": "stream",
          "name": "stdout",
          "text": [
            "tensor([[0.7500, 3.0000],\n",
            "        [6.7500, 3.0000]])\n"
          ]
        }
      ]
    },
    {
      "cell_type": "markdown",
      "source": [
        "- 자동 미분 심화 : https://teamdable.github.io/techblog/PyTorch-Autograd"
      ],
      "metadata": {
        "id": "EV-_6KdJXe-i"
      }
    },
    {
      "cell_type": "markdown",
      "source": [
        "#### 4) 직접해보기 (do-it!)"
      ],
      "metadata": {
        "id": "JkKYEV3YQtEL"
      }
    },
    {
      "cell_type": "markdown",
      "source": [
        "- tensor 개념 파악 (array of numerical values(vector, matrix..))\n",
        "- 4x3 행렬 두개 만들고 행으로 병합, 열로 병합\n"
      ],
      "metadata": {
        "id": "ixz0WyWH4kSJ"
      }
    },
    {
      "cell_type": "code",
      "source": [
        "X=torch.rand(4,3)\n",
        "Y=torch.rand(4,3)\n",
        "print(torch.cat([X,Y],dim=0))\n",
        "print(torch.cat([X,Y],dim=1))"
      ],
      "metadata": {
        "id": "OlLUsvmL4kEY",
        "colab": {
          "base_uri": "https://localhost:8080/"
        },
        "outputId": "e44dd201-509b-4d4a-a5e8-c8f76ef0dcad"
      },
      "execution_count": null,
      "outputs": [
        {
          "output_type": "stream",
          "name": "stdout",
          "text": [
            "tensor([[0.6810, 0.5414, 0.2096],\n",
            "        [0.5656, 0.1758, 0.5661],\n",
            "        [0.6370, 0.1959, 0.4474],\n",
            "        [0.3392, 0.5539, 0.8676],\n",
            "        [0.8691, 0.8893, 0.2378],\n",
            "        [0.8441, 0.2747, 0.4190],\n",
            "        [0.2290, 0.2649, 0.7249],\n",
            "        [0.9113, 0.2926, 0.5488]])\n",
            "tensor([[0.6810, 0.5414, 0.2096, 0.8691, 0.8893, 0.2378],\n",
            "        [0.5656, 0.1758, 0.5661, 0.8441, 0.2747, 0.4190],\n",
            "        [0.6370, 0.1959, 0.4474, 0.2290, 0.2649, 0.7249],\n",
            "        [0.3392, 0.5539, 0.8676, 0.9113, 0.2926, 0.5488]])\n"
          ]
        }
      ]
    },
    {
      "cell_type": "markdown",
      "source": [
        "## 2. linear regression implementation from scratch\n",
        "- 머신러닝 기초와 비슷한 내용이지만 파이토치로 실행해보며 익숙해지는것이 목표\n"
      ],
      "metadata": {
        "id": "Gh-1LJliusEc"
      }
    },
    {
      "cell_type": "code",
      "source": [
        "!pip install d2l"
      ],
      "metadata": {
        "id": "Ybbbqg8TqAVR",
        "colab": {
          "base_uri": "https://localhost:8080/"
        },
        "outputId": "dd86a85e-7e56-4683-a8be-2df5827a723d"
      },
      "execution_count": null,
      "outputs": [
        {
          "output_type": "stream",
          "name": "stdout",
          "text": [
            "Looking in indexes: https://pypi.org/simple, https://us-python.pkg.dev/colab-wheels/public/simple/\n",
            "Requirement already satisfied: d2l in /usr/local/lib/python3.8/dist-packages (0.17.6)\n",
            "Requirement already satisfied: jupyter==1.0.0 in /usr/local/lib/python3.8/dist-packages (from d2l) (1.0.0)\n",
            "Requirement already satisfied: numpy==1.21.5 in /usr/local/lib/python3.8/dist-packages (from d2l) (1.21.5)\n",
            "Requirement already satisfied: pandas==1.2.4 in /usr/local/lib/python3.8/dist-packages (from d2l) (1.2.4)\n",
            "Requirement already satisfied: matplotlib==3.5.1 in /usr/local/lib/python3.8/dist-packages (from d2l) (3.5.1)\n",
            "Requirement already satisfied: requests==2.25.1 in /usr/local/lib/python3.8/dist-packages (from d2l) (2.25.1)\n",
            "Requirement already satisfied: notebook in /usr/local/lib/python3.8/dist-packages (from jupyter==1.0.0->d2l) (5.7.16)\n",
            "Requirement already satisfied: ipywidgets in /usr/local/lib/python3.8/dist-packages (from jupyter==1.0.0->d2l) (7.7.1)\n",
            "Requirement already satisfied: jupyter-console in /usr/local/lib/python3.8/dist-packages (from jupyter==1.0.0->d2l) (6.1.0)\n",
            "Requirement already satisfied: nbconvert in /usr/local/lib/python3.8/dist-packages (from jupyter==1.0.0->d2l) (5.6.1)\n",
            "Requirement already satisfied: qtconsole in /usr/local/lib/python3.8/dist-packages (from jupyter==1.0.0->d2l) (5.4.0)\n",
            "Requirement already satisfied: ipykernel in /usr/local/lib/python3.8/dist-packages (from jupyter==1.0.0->d2l) (5.3.4)\n",
            "Requirement already satisfied: pyparsing>=2.2.1 in /usr/local/lib/python3.8/dist-packages (from matplotlib==3.5.1->d2l) (3.0.9)\n",
            "Requirement already satisfied: cycler>=0.10 in /usr/local/lib/python3.8/dist-packages (from matplotlib==3.5.1->d2l) (0.11.0)\n",
            "Requirement already satisfied: fonttools>=4.22.0 in /usr/local/lib/python3.8/dist-packages (from matplotlib==3.5.1->d2l) (4.38.0)\n",
            "Requirement already satisfied: kiwisolver>=1.0.1 in /usr/local/lib/python3.8/dist-packages (from matplotlib==3.5.1->d2l) (1.4.4)\n",
            "Requirement already satisfied: pillow>=6.2.0 in /usr/local/lib/python3.8/dist-packages (from matplotlib==3.5.1->d2l) (7.1.2)\n",
            "Requirement already satisfied: python-dateutil>=2.7 in /usr/local/lib/python3.8/dist-packages (from matplotlib==3.5.1->d2l) (2.8.2)\n",
            "Requirement already satisfied: packaging>=20.0 in /usr/local/lib/python3.8/dist-packages (from matplotlib==3.5.1->d2l) (21.3)\n",
            "Requirement already satisfied: pytz>=2017.3 in /usr/local/lib/python3.8/dist-packages (from pandas==1.2.4->d2l) (2022.7)\n",
            "Requirement already satisfied: chardet<5,>=3.0.2 in /usr/local/lib/python3.8/dist-packages (from requests==2.25.1->d2l) (4.0.0)\n",
            "Requirement already satisfied: certifi>=2017.4.17 in /usr/local/lib/python3.8/dist-packages (from requests==2.25.1->d2l) (2022.12.7)\n",
            "Requirement already satisfied: urllib3<1.27,>=1.21.1 in /usr/local/lib/python3.8/dist-packages (from requests==2.25.1->d2l) (1.24.3)\n",
            "Requirement already satisfied: idna<3,>=2.5 in /usr/local/lib/python3.8/dist-packages (from requests==2.25.1->d2l) (2.10)\n",
            "Requirement already satisfied: six>=1.5 in /usr/local/lib/python3.8/dist-packages (from python-dateutil>=2.7->matplotlib==3.5.1->d2l) (1.15.0)\n",
            "Requirement already satisfied: tornado>=4.2 in /usr/local/lib/python3.8/dist-packages (from ipykernel->jupyter==1.0.0->d2l) (6.0.4)\n",
            "Requirement already satisfied: ipython>=5.0.0 in /usr/local/lib/python3.8/dist-packages (from ipykernel->jupyter==1.0.0->d2l) (7.9.0)\n",
            "Requirement already satisfied: traitlets>=4.1.0 in /usr/local/lib/python3.8/dist-packages (from ipykernel->jupyter==1.0.0->d2l) (5.7.1)\n",
            "Requirement already satisfied: jupyter-client in /usr/local/lib/python3.8/dist-packages (from ipykernel->jupyter==1.0.0->d2l) (6.1.12)\n",
            "Requirement already satisfied: widgetsnbextension~=3.6.0 in /usr/local/lib/python3.8/dist-packages (from ipywidgets->jupyter==1.0.0->d2l) (3.6.1)\n",
            "Requirement already satisfied: jupyterlab-widgets>=1.0.0 in /usr/local/lib/python3.8/dist-packages (from ipywidgets->jupyter==1.0.0->d2l) (3.0.5)\n",
            "Requirement already satisfied: ipython-genutils~=0.2.0 in /usr/local/lib/python3.8/dist-packages (from ipywidgets->jupyter==1.0.0->d2l) (0.2.0)\n",
            "Requirement already satisfied: prompt-toolkit!=3.0.0,!=3.0.1,<3.1.0,>=2.0.0 in /usr/local/lib/python3.8/dist-packages (from jupyter-console->jupyter==1.0.0->d2l) (2.0.10)\n",
            "Requirement already satisfied: pygments in /usr/local/lib/python3.8/dist-packages (from jupyter-console->jupyter==1.0.0->d2l) (2.6.1)\n",
            "Requirement already satisfied: mistune<2,>=0.8.1 in /usr/local/lib/python3.8/dist-packages (from nbconvert->jupyter==1.0.0->d2l) (0.8.4)\n",
            "Requirement already satisfied: entrypoints>=0.2.2 in /usr/local/lib/python3.8/dist-packages (from nbconvert->jupyter==1.0.0->d2l) (0.4)\n",
            "Requirement already satisfied: bleach in /usr/local/lib/python3.8/dist-packages (from nbconvert->jupyter==1.0.0->d2l) (5.0.1)\n",
            "Requirement already satisfied: defusedxml in /usr/local/lib/python3.8/dist-packages (from nbconvert->jupyter==1.0.0->d2l) (0.7.1)\n",
            "Requirement already satisfied: nbformat>=4.4 in /usr/local/lib/python3.8/dist-packages (from nbconvert->jupyter==1.0.0->d2l) (5.7.1)\n",
            "Requirement already satisfied: testpath in /usr/local/lib/python3.8/dist-packages (from nbconvert->jupyter==1.0.0->d2l) (0.6.0)\n",
            "Requirement already satisfied: jupyter-core in /usr/local/lib/python3.8/dist-packages (from nbconvert->jupyter==1.0.0->d2l) (5.1.2)\n",
            "Requirement already satisfied: jinja2>=2.4 in /usr/local/lib/python3.8/dist-packages (from nbconvert->jupyter==1.0.0->d2l) (2.11.3)\n",
            "Requirement already satisfied: pandocfilters>=1.4.1 in /usr/local/lib/python3.8/dist-packages (from nbconvert->jupyter==1.0.0->d2l) (1.5.0)\n",
            "Requirement already satisfied: pyzmq>=17 in /usr/local/lib/python3.8/dist-packages (from notebook->jupyter==1.0.0->d2l) (23.2.1)\n",
            "Requirement already satisfied: terminado>=0.8.1 in /usr/local/lib/python3.8/dist-packages (from notebook->jupyter==1.0.0->d2l) (0.13.3)\n",
            "Requirement already satisfied: prometheus-client in /usr/local/lib/python3.8/dist-packages (from notebook->jupyter==1.0.0->d2l) (0.15.0)\n",
            "Requirement already satisfied: Send2Trash in /usr/local/lib/python3.8/dist-packages (from notebook->jupyter==1.0.0->d2l) (1.8.0)\n",
            "Requirement already satisfied: qtpy>=2.0.1 in /usr/local/lib/python3.8/dist-packages (from qtconsole->jupyter==1.0.0->d2l) (2.3.0)\n",
            "Requirement already satisfied: pexpect in /usr/local/lib/python3.8/dist-packages (from ipython>=5.0.0->ipykernel->jupyter==1.0.0->d2l) (4.8.0)\n",
            "Requirement already satisfied: decorator in /usr/local/lib/python3.8/dist-packages (from ipython>=5.0.0->ipykernel->jupyter==1.0.0->d2l) (4.4.2)\n",
            "Requirement already satisfied: pickleshare in /usr/local/lib/python3.8/dist-packages (from ipython>=5.0.0->ipykernel->jupyter==1.0.0->d2l) (0.7.5)\n",
            "Requirement already satisfied: jedi>=0.10 in /usr/local/lib/python3.8/dist-packages (from ipython>=5.0.0->ipykernel->jupyter==1.0.0->d2l) (0.18.2)\n",
            "Requirement already satisfied: backcall in /usr/local/lib/python3.8/dist-packages (from ipython>=5.0.0->ipykernel->jupyter==1.0.0->d2l) (0.2.0)\n",
            "Requirement already satisfied: setuptools>=18.5 in /usr/local/lib/python3.8/dist-packages (from ipython>=5.0.0->ipykernel->jupyter==1.0.0->d2l) (57.4.0)\n",
            "Requirement already satisfied: MarkupSafe>=0.23 in /usr/local/lib/python3.8/dist-packages (from jinja2>=2.4->nbconvert->jupyter==1.0.0->d2l) (2.0.1)\n",
            "Requirement already satisfied: platformdirs>=2.5 in /usr/local/lib/python3.8/dist-packages (from jupyter-core->nbconvert->jupyter==1.0.0->d2l) (2.6.2)\n",
            "Requirement already satisfied: jsonschema>=2.6 in /usr/local/lib/python3.8/dist-packages (from nbformat>=4.4->nbconvert->jupyter==1.0.0->d2l) (4.3.3)\n",
            "Requirement already satisfied: fastjsonschema in /usr/local/lib/python3.8/dist-packages (from nbformat>=4.4->nbconvert->jupyter==1.0.0->d2l) (2.16.2)\n",
            "Requirement already satisfied: wcwidth in /usr/local/lib/python3.8/dist-packages (from prompt-toolkit!=3.0.0,!=3.0.1,<3.1.0,>=2.0.0->jupyter-console->jupyter==1.0.0->d2l) (0.2.5)\n",
            "Requirement already satisfied: ptyprocess in /usr/local/lib/python3.8/dist-packages (from terminado>=0.8.1->notebook->jupyter==1.0.0->d2l) (0.7.0)\n",
            "Requirement already satisfied: webencodings in /usr/local/lib/python3.8/dist-packages (from bleach->nbconvert->jupyter==1.0.0->d2l) (0.5.1)\n",
            "Requirement already satisfied: parso<0.9.0,>=0.8.0 in /usr/local/lib/python3.8/dist-packages (from jedi>=0.10->ipython>=5.0.0->ipykernel->jupyter==1.0.0->d2l) (0.8.3)\n",
            "Requirement already satisfied: importlib-resources>=1.4.0 in /usr/local/lib/python3.8/dist-packages (from jsonschema>=2.6->nbformat>=4.4->nbconvert->jupyter==1.0.0->d2l) (5.10.2)\n",
            "Requirement already satisfied: pyrsistent!=0.17.0,!=0.17.1,!=0.17.2,>=0.14.0 in /usr/local/lib/python3.8/dist-packages (from jsonschema>=2.6->nbformat>=4.4->nbconvert->jupyter==1.0.0->d2l) (0.19.3)\n",
            "Requirement already satisfied: attrs>=17.4.0 in /usr/local/lib/python3.8/dist-packages (from jsonschema>=2.6->nbformat>=4.4->nbconvert->jupyter==1.0.0->d2l) (22.2.0)\n",
            "Requirement already satisfied: zipp>=3.1.0 in /usr/local/lib/python3.8/dist-packages (from importlib-resources>=1.4.0->jsonschema>=2.6->nbformat>=4.4->nbconvert->jupyter==1.0.0->d2l) (3.11.0)\n"
          ]
        }
      ]
    },
    {
      "cell_type": "code",
      "source": [
        "!pip install matplotlib_inline"
      ],
      "metadata": {
        "colab": {
          "base_uri": "https://localhost:8080/"
        },
        "id": "9D1AByVxrw0g",
        "outputId": "a76d9a56-d36e-4c42-a318-26b176a2ce1d"
      },
      "execution_count": null,
      "outputs": [
        {
          "output_type": "stream",
          "name": "stdout",
          "text": [
            "Looking in indexes: https://pypi.org/simple, https://us-python.pkg.dev/colab-wheels/public/simple/\n",
            "Collecting matplotlib_inline\n",
            "  Downloading matplotlib_inline-0.1.6-py3-none-any.whl (9.4 kB)\n",
            "Requirement already satisfied: traitlets in /usr/local/lib/python3.8/dist-packages (from matplotlib_inline) (5.7.1)\n",
            "Installing collected packages: matplotlib_inline\n",
            "Successfully installed matplotlib_inline-0.1.6\n"
          ]
        }
      ]
    },
    {
      "cell_type": "code",
      "source": [
        "import random\n",
        "import torch\n",
        "from d2l import torch as d2l\n",
        "import matplotlib.pyplot as plt\n",
        "%matplotlib inline"
      ],
      "metadata": {
        "id": "YyWEB6e3FKYY"
      },
      "execution_count": null,
      "outputs": []
    },
    {
      "cell_type": "code",
      "source": [
        "def synthetic_data(w, b, num_examples):\n",
        "    \"\"\"Generate y = Xw + b + noise.\"\"\"\n",
        "    X = torch.normal(0, 1, size = (num_examples, len(w))) #torch.normal(mean,std,size=(numexaples,len(w)):출력텐서)\n",
        "    y = torch.matmul(X, w) + b #matmul : 인수의 종류에 따라서 자동으로 dot(벡터 내적), mv(행렬과 벡터의 곱), mm(행렬과 행렬의 곱)을 선택\n",
        "    y += torch.normal(0, 0.01, y.shape) #noise에 해당\n",
        "    return X, y.reshape((-1, 1)) \n",
        "  # reshape(정수,정수)는 reshape(정수행, 정수열)의 2차원 배열로 변형해줌. -1의 의미는 열의자리를 1로 만들고 나서 남은 배열의 길이와 남는 차원으로부터 추정하여 자동으로 행의 크기를 지정하라는 의미\n",
        "\n",
        "true_w = torch.tensor([3, -1.5])\n",
        "true_b = 5.5\n",
        "features, labels = synthetic_data(true_w, true_b, 2000)"
      ],
      "metadata": {
        "id": "exWjbVn2v3CT"
      },
      "execution_count": null,
      "outputs": []
    },
    {
      "cell_type": "code",
      "source": [
        "print('features:', features[0],'\\nlabel:', labels[0])"
      ],
      "metadata": {
        "id": "5UcjckXPv6iy",
        "colab": {
          "base_uri": "https://localhost:8080/"
        },
        "outputId": "f00bb2a8-d7ff-45cf-b150-1c6d65d952b8"
      },
      "execution_count": null,
      "outputs": [
        {
          "output_type": "stream",
          "name": "stdout",
          "text": [
            "features: tensor([-1.2783,  1.5687]) \n",
            "label: tensor([-0.7009])\n"
          ]
        }
      ]
    },
    {
      "cell_type": "code",
      "source": [
        "def data_iter(batch_size, features, labels):\n",
        "    num_examples = len(features)\n",
        "    indices = list(range(num_examples))\n",
        "    # The examples are read at random, in no particular order\n",
        "    random.shuffle(indices)\n",
        "    for i in range(0,num_examples,batch_size):\n",
        "        ##이하는 반복문에 대한 조건입니다.\n",
        "        batch_indices = torch.tensor(\n",
        "            indices[i: min(i + batch_size, num_examples)])\n",
        "        yield features[batch_indices], labels[batch_indices]\n",
        "\n",
        "# 사용자 정의 함수에서 return이 아닌 yield를 사용하면 제너레이터(generator)를 반환함\n",
        "# 제너레이터(generator) : 여러개의 데이터를 미리 만들어 놓지 않고 필요할 때마다 즉석에서 하나씩 만들어내는 객체\n",
        "# 메모리 효율 측면에서 yield가 더욱 효율적\n",
        "# return : 모든 결과값을 메모리에 올려놓아야 하는 반면, yield : 결과값을 하나씩 메모리에 올려놓음"
      ],
      "metadata": {
        "id": "jLY6YR5Zv_gO"
      },
      "execution_count": null,
      "outputs": []
    },
    {
      "cell_type": "code",
      "source": [
        "batch_size = 20\n",
        "\n",
        "# 하나의 배치만 출력하기 위해 break 사용\n",
        "\n",
        "for X, y in data_iter(batch_size, features, labels):\n",
        "    print(X, '\\n', y)\n",
        "    break"
      ],
      "metadata": {
        "id": "zuxxEAvdwA7p",
        "colab": {
          "base_uri": "https://localhost:8080/"
        },
        "outputId": "8e3d4c91-862b-41c9-e0ed-e1f0eaa8ee0d"
      },
      "execution_count": null,
      "outputs": [
        {
          "output_type": "stream",
          "name": "stdout",
          "text": [
            "tensor([[-0.0156, -0.3412],\n",
            "        [ 0.5980, -0.2146],\n",
            "        [ 0.8208, -1.6737],\n",
            "        [-1.1846, -0.4930],\n",
            "        [-0.0474, -0.0942],\n",
            "        [-1.0232,  0.3156],\n",
            "        [-0.8673,  0.0394],\n",
            "        [ 0.3286,  0.8745],\n",
            "        [-1.7954,  0.1299],\n",
            "        [-0.0303,  0.4451],\n",
            "        [-1.6694, -0.2106],\n",
            "        [-1.1061, -0.1325],\n",
            "        [-1.2444, -1.0910],\n",
            "        [ 0.6766, -0.6749],\n",
            "        [ 0.2739,  0.2997],\n",
            "        [ 1.5639,  0.1968],\n",
            "        [ 0.7694,  0.5581],\n",
            "        [ 0.7339, -1.1372],\n",
            "        [ 0.4196,  1.0625],\n",
            "        [-0.6626,  1.2645]]) \n",
            " tensor([[ 5.9732],\n",
            "        [ 7.6182],\n",
            "        [10.4720],\n",
            "        [ 2.6920],\n",
            "        [ 5.5053],\n",
            "        [ 1.9624],\n",
            "        [ 2.8280],\n",
            "        [ 5.1553],\n",
            "        [-0.0742],\n",
            "        [ 4.7387],\n",
            "        [ 0.7905],\n",
            "        [ 2.3868],\n",
            "        [ 3.4094],\n",
            "        [ 8.5487],\n",
            "        [ 5.8719],\n",
            "        [ 9.8962],\n",
            "        [ 6.9681],\n",
            "        [ 9.4058],\n",
            "        [ 5.1592],\n",
            "        [ 1.6356]])\n"
          ]
        }
      ]
    },
    {
      "cell_type": "code",
      "source": [
        "w = torch.normal(0, 0.01, size=(2,1), requires_grad=True)\n",
        "b = torch.tensor([5.5])"
      ],
      "metadata": {
        "id": "f_yHcVYEwCHq"
      },
      "execution_count": null,
      "outputs": []
    },
    {
      "cell_type": "code",
      "source": [
        "print(w)"
      ],
      "metadata": {
        "colab": {
          "base_uri": "https://localhost:8080/"
        },
        "id": "3YvQuaObisCT",
        "outputId": "3e9c9157-c5a6-4742-c5b5-bb4c7c3a8a8c"
      },
      "execution_count": null,
      "outputs": [
        {
          "output_type": "stream",
          "name": "stdout",
          "text": [
            "tensor([[0.0095],\n",
            "        [0.0166]], requires_grad=True)\n"
          ]
        }
      ]
    },
    {
      "cell_type": "code",
      "source": [
        "print(b)"
      ],
      "metadata": {
        "colab": {
          "base_uri": "https://localhost:8080/"
        },
        "id": "iFz6Ah86iw5w",
        "outputId": "bd924c3e-5ceb-407b-e46f-a71b370807af"
      },
      "execution_count": null,
      "outputs": [
        {
          "output_type": "stream",
          "name": "stdout",
          "text": [
            "tensor([5.5000])\n"
          ]
        }
      ]
    },
    {
      "cell_type": "code",
      "source": [
        "def linreg(X, w, b):\n",
        "    \"\"\"The linear regression model.\"\"\"\n",
        "    return torch.matmul(X,w) + b"
      ],
      "metadata": {
        "id": "wOT4gBtZwDVA"
      },
      "execution_count": null,
      "outputs": []
    },
    {
      "cell_type": "code",
      "source": [
        "def squared_loss(y_hat, y):  \n",
        "    \"\"\"Squared loss.\"\"\"\n",
        "    return (y_hat - y.reshape(y_hat.shape)) ** 2 / 2"
      ],
      "metadata": {
        "id": "WFYMJrrSwE5R"
      },
      "execution_count": null,
      "outputs": []
    },
    {
      "cell_type": "code",
      "source": [
        "def sgd(params, lr, batch_size):\n",
        "    \"\"\"Minibatch stochastic gradient descent.\"\"\"\n",
        "    with torch.no_grad():\n",
        "        for param in params:\n",
        "          param -= lr * param.grad / batch_size\n",
        "          param.grad.zero_() \n",
        "          \n",
        "          # w = torch.normal(0, 0.01, size=(2,1), requires_grad=True)\n",
        "          # requires_grad = True로 지정할 시, 텐서에 가해진 모든 연산을 추적하기 때문에\n",
        "          # 역전파가 진행될 때 마다 (= 1epoch마다) 텐서의 그래디언트가 .grad 속성에 누적됨.\n",
        "          # 따라서, 각 epoch마다 파라미터를 업데이트하기 위하여 필요한 gradient를 구하기 위해서는 누적된 값을 0으로 초기화 해주는 것이 필요.\n",
        "          "
      ],
      "metadata": {
        "id": "MXD0qP8PwIn0"
      },
      "execution_count": null,
      "outputs": []
    },
    {
      "cell_type": "code",
      "source": [
        "lr = 0.001\n",
        "num_epochs = 30\n",
        "net = linreg\n",
        "loss = squared_loss\n",
        "\n",
        "w0 = []\n",
        "w1 = []\n",
        "b_l = []\n",
        "loss_arr_w0 = []\n",
        "loss_arr_w1 = []\n",
        "\n",
        "for epoch in range(num_epochs):\n",
        "    for X, y in data_iter(batch_size, features, labels):\n",
        "        l = loss(net(X , w, b), y) \n",
        "        # Compute gradient on `l` with respect to [`w`]\n",
        "        l.sum().backward()\n",
        "        sgd([w], lr, batch_size) # update 파라미터에서 b 제외\n",
        "    with torch.no_grad(): \n",
        "        train_l = loss(net(features, w, b), labels)\n",
        "        print(f'epoch {epoch + 1}, loss {float(train_l.mean()):f}')\n",
        "# torch.no_grad() : requires_grad = False로 전환하여 autograd를 끄는 코드\n",
        "# 쉽게 말해서, 더 이상 파라미터에 대한 학습이 진행이 안되며, 학습이 완료된 모델의 성능을 보기 위한 것이다.      \n",
        "        w0.append(w.tolist()[0])\n",
        "        w1.append(w.tolist()[1])\n",
        "        b_l.append(b.tolist())\n",
        "        loss_arr_w0.append(train_l[0].mean())\n",
        "        loss_arr_w1.append(train_l[1].mean())"
      ],
      "metadata": {
        "id": "pS_hm3J8wJ4z",
        "colab": {
          "base_uri": "https://localhost:8080/"
        },
        "outputId": "76ec78db-9445-4c47-cba5-7d81801baf07"
      },
      "execution_count": null,
      "outputs": [
        {
          "output_type": "stream",
          "name": "stdout",
          "text": [
            "epoch 1, loss 4.691210\n",
            "epoch 2, loss 3.821475\n",
            "epoch 3, loss 3.113021\n",
            "epoch 4, loss 2.535930\n",
            "epoch 5, loss 2.065830\n",
            "epoch 6, loss 1.682893\n",
            "epoch 7, loss 1.370947\n",
            "epoch 8, loss 1.116838\n",
            "epoch 9, loss 0.909838\n",
            "epoch 10, loss 0.741208\n",
            "epoch 11, loss 0.603842\n",
            "epoch 12, loss 0.491938\n",
            "epoch 13, loss 0.400776\n",
            "epoch 14, loss 0.326513\n",
            "epoch 15, loss 0.266014\n",
            "epoch 16, loss 0.216729\n",
            "epoch 17, loss 0.176576\n",
            "epoch 18, loss 0.143866\n",
            "epoch 19, loss 0.117219\n",
            "epoch 20, loss 0.095509\n",
            "epoch 21, loss 0.077822\n",
            "epoch 22, loss 0.063413\n",
            "epoch 23, loss 0.051674\n",
            "epoch 24, loss 0.042110\n",
            "epoch 25, loss 0.034317\n",
            "epoch 26, loss 0.027969\n",
            "epoch 27, loss 0.022797\n",
            "epoch 28, loss 0.018584\n",
            "epoch 29, loss 0.015151\n",
            "epoch 30, loss 0.012354\n"
          ]
        }
      ]
    },
    {
      "cell_type": "code",
      "source": [
        "print(f'error in estimating w: {true_w - w.reshape(true_w.shape)}')\n",
        "print(f'error in estimating b: {true_b - b}')"
      ],
      "metadata": {
        "id": "u_WSAjwNwMEY",
        "colab": {
          "base_uri": "https://localhost:8080/"
        },
        "outputId": "e49854dd-3179-479f-cec0-17a3705b7967"
      },
      "execution_count": null,
      "outputs": [
        {
          "output_type": "stream",
          "name": "stdout",
          "text": [
            "error in estimating w: tensor([ 0.1413, -0.0643], grad_fn=<SubBackward0>)\n",
            "error in estimating b: tensor([0.])\n"
          ]
        }
      ]
    },
    {
      "cell_type": "code",
      "source": [
        "print(loss_arr_w0)"
      ],
      "metadata": {
        "colab": {
          "base_uri": "https://localhost:8080/"
        },
        "id": "ypLPU5HKZj7j",
        "outputId": "0f83af9e-c6ad-468d-f13d-dfc0435d9ce8"
      },
      "execution_count": null,
      "outputs": [
        {
          "output_type": "stream",
          "name": "stdout",
          "text": [
            "[tensor(15.7198), tensor(12.7966), tensor(10.4176), tensor(8.4814), tensor(6.9055), tensor(5.6229), tensor(4.5789), tensor(3.7291), tensor(3.0373), tensor(2.4742), tensor(2.0157), tensor(1.6424), tensor(1.3384), tensor(1.0909), tensor(0.8894), tensor(0.7252), tensor(0.5915), tensor(0.4825), tensor(0.3937), tensor(0.3214), tensor(0.2625), tensor(0.2144), tensor(0.1752), tensor(0.1433), tensor(0.1172), tensor(0.0959), tensor(0.0786), tensor(0.0644), tensor(0.0528), tensor(0.0433)]\n"
          ]
        }
      ]
    },
    {
      "cell_type": "code",
      "source": [
        "w0"
      ],
      "metadata": {
        "colab": {
          "base_uri": "https://localhost:8080/"
        },
        "id": "8F9cu41YccFj",
        "outputId": "3859a738-2efa-4048-9f54-bde1844e0dec"
      },
      "execution_count": null,
      "outputs": [
        {
          "output_type": "execute_result",
          "data": {
            "text/plain": [
              "[[0.29897379875183105],\n",
              " [0.5604188442230225],\n",
              " [0.7965394854545593],\n",
              " [1.0098017454147339],\n",
              " [1.2024235725402832],\n",
              " [1.3763984441757202],\n",
              " [1.5335302352905273],\n",
              " [1.6754497289657593],\n",
              " [1.8036285638809204],\n",
              " [1.9194036722183228],\n",
              " [2.023970603942871],\n",
              " [2.1184158325195312],\n",
              " [2.203718900680542],\n",
              " [2.2807652950286865],\n",
              " [2.3503494262695312],\n",
              " [2.413201332092285],\n",
              " [2.469973087310791],\n",
              " [2.521247625350952],\n",
              " [2.5675578117370605],\n",
              " [2.6093873977661133],\n",
              " [2.6471707820892334],\n",
              " [2.681295871734619],\n",
              " [2.7121176719665527],\n",
              " [2.7399566173553467],\n",
              " [2.7651028633117676],\n",
              " [2.787814140319824],\n",
              " [2.808326005935669],\n",
              " [2.8268537521362305],\n",
              " [2.8435890674591064],\n",
              " [2.858703374862671]]"
            ]
          },
          "metadata": {},
          "execution_count": 56
        }
      ]
    },
    {
      "cell_type": "code",
      "source": [
        "loss_arr_w1"
      ],
      "metadata": {
        "colab": {
          "base_uri": "https://localhost:8080/"
        },
        "id": "TOKMYwwPa055",
        "outputId": "64bb72ce-5a03-496c-cf37-ac24122ba593"
      },
      "execution_count": null,
      "outputs": [
        {
          "output_type": "execute_result",
          "data": {
            "text/plain": [
              "[tensor(23.6382),\n",
              " tensor(19.2385),\n",
              " tensor(15.6574),\n",
              " tensor(12.7427),\n",
              " tensor(10.3702),\n",
              " tensor(8.4393),\n",
              " tensor(6.8676),\n",
              " tensor(5.5884),\n",
              " tensor(4.5474),\n",
              " tensor(3.7000),\n",
              " tensor(3.0105),\n",
              " tensor(2.4493),\n",
              " tensor(1.9926),\n",
              " tensor(1.6209),\n",
              " tensor(1.3185),\n",
              " tensor(1.0724),\n",
              " tensor(0.8721),\n",
              " tensor(0.7092),\n",
              " tensor(0.5767),\n",
              " tensor(0.4688),\n",
              " tensor(0.3811),\n",
              " tensor(0.3097),\n",
              " tensor(0.2517),\n",
              " tensor(0.2045),\n",
              " tensor(0.1661),\n",
              " tensor(0.1349),\n",
              " tensor(0.1095),\n",
              " tensor(0.0888),\n",
              " tensor(0.0721),\n",
              " tensor(0.0585)]"
            ]
          },
          "metadata": {},
          "execution_count": 57
        }
      ]
    },
    {
      "cell_type": "code",
      "source": [
        "w1"
      ],
      "metadata": {
        "colab": {
          "base_uri": "https://localhost:8080/"
        },
        "id": "Tk1KrExJewxb",
        "outputId": "4a9e3211-7ea2-49af-a966-3054f960b0c4"
      },
      "execution_count": null,
      "outputs": [
        {
          "output_type": "execute_result",
          "data": {
            "text/plain": [
              "[[-0.1349237561225891],\n",
              " [-0.27129027247428894],\n",
              " [-0.3940569758415222],\n",
              " [-0.504560649394989],\n",
              " [-0.6040279269218445],\n",
              " [-0.693556010723114],\n",
              " [-0.7741518616676331],\n",
              " [-0.8466944098472595],\n",
              " [-0.9119946956634521],\n",
              " [-0.9707707166671753],\n",
              " [-1.0236696004867554],\n",
              " [-1.0712871551513672],\n",
              " [-1.1141481399536133],\n",
              " [-1.152722954750061],\n",
              " [-1.1874518394470215],\n",
              " [-1.2187038660049438],\n",
              " [-1.246835470199585],\n",
              " [-1.2721526622772217],\n",
              " [-1.2949416637420654],\n",
              " [-1.315450668334961],\n",
              " [-1.3339076042175293],\n",
              " [-1.3505220413208008],\n",
              " [-1.3654744625091553],\n",
              " [-1.3789349794387817],\n",
              " [-1.3910483121871948],\n",
              " [-1.4019496440887451],\n",
              " [-1.4117622375488281],\n",
              " [-1.4205918312072754],\n",
              " [-1.42853844165802],\n",
              " [-1.43569016456604]]"
            ]
          },
          "metadata": {},
          "execution_count": 58
        }
      ]
    },
    {
      "cell_type": "code",
      "source": [
        "b_l"
      ],
      "metadata": {
        "colab": {
          "base_uri": "https://localhost:8080/"
        },
        "id": "Ml0itIlRgHJY",
        "outputId": "40804602-23b1-4606-e09b-20764d71fe00"
      },
      "execution_count": null,
      "outputs": [
        {
          "output_type": "execute_result",
          "data": {
            "text/plain": [
              "[[5.5],\n",
              " [5.5],\n",
              " [5.5],\n",
              " [5.5],\n",
              " [5.5],\n",
              " [5.5],\n",
              " [5.5],\n",
              " [5.5],\n",
              " [5.5],\n",
              " [5.5],\n",
              " [5.5],\n",
              " [5.5],\n",
              " [5.5],\n",
              " [5.5],\n",
              " [5.5],\n",
              " [5.5],\n",
              " [5.5],\n",
              " [5.5],\n",
              " [5.5],\n",
              " [5.5],\n",
              " [5.5],\n",
              " [5.5],\n",
              " [5.5],\n",
              " [5.5],\n",
              " [5.5],\n",
              " [5.5],\n",
              " [5.5],\n",
              " [5.5],\n",
              " [5.5],\n",
              " [5.5]]"
            ]
          },
          "metadata": {},
          "execution_count": 59
        }
      ]
    },
    {
      "cell_type": "markdown",
      "source": [
        "+cost graph 그리기 (x축 w, y축 loss)"
      ],
      "metadata": {
        "id": "tDSteRKdREC9"
      }
    },
    {
      "cell_type": "code",
      "source": [
        "!pip install matplotlib==3.1.3\n",
        "import matplotlib.pyplot as plt\n",
        "import warnings\n",
        "warnings.filterwarnings('ignore')"
      ],
      "metadata": {
        "colab": {
          "base_uri": "https://localhost:8080/"
        },
        "id": "EO-AUPS9DBxW",
        "outputId": "ffd1c30c-9173-46c1-8a43-1d067b4e4dc0"
      },
      "execution_count": null,
      "outputs": [
        {
          "output_type": "stream",
          "name": "stdout",
          "text": [
            "Looking in indexes: https://pypi.org/simple, https://us-python.pkg.dev/colab-wheels/public/simple/\n",
            "Collecting matplotlib==3.1.3\n",
            "  Downloading matplotlib-3.1.3-cp38-cp38-manylinux1_x86_64.whl (13.1 MB)\n",
            "\u001b[2K     \u001b[90m━━━━━━━━━━━━━━━━━━━━━━━━━━━━━━━━━━━━━━━━\u001b[0m \u001b[32m13.1/13.1 MB\u001b[0m \u001b[31m45.3 MB/s\u001b[0m eta \u001b[36m0:00:00\u001b[0m\n",
            "\u001b[?25hRequirement already satisfied: python-dateutil>=2.1 in /usr/local/lib/python3.8/dist-packages (from matplotlib==3.1.3) (2.8.2)\n",
            "Requirement already satisfied: kiwisolver>=1.0.1 in /usr/local/lib/python3.8/dist-packages (from matplotlib==3.1.3) (1.4.4)\n",
            "Requirement already satisfied: numpy>=1.11 in /usr/local/lib/python3.8/dist-packages (from matplotlib==3.1.3) (1.21.5)\n",
            "Requirement already satisfied: pyparsing!=2.0.4,!=2.1.2,!=2.1.6,>=2.0.1 in /usr/local/lib/python3.8/dist-packages (from matplotlib==3.1.3) (3.0.9)\n",
            "Requirement already satisfied: cycler>=0.10 in /usr/local/lib/python3.8/dist-packages (from matplotlib==3.1.3) (0.11.0)\n",
            "Requirement already satisfied: six>=1.5 in /usr/local/lib/python3.8/dist-packages (from python-dateutil>=2.1->matplotlib==3.1.3) (1.15.0)\n",
            "Installing collected packages: matplotlib\n",
            "  Attempting uninstall: matplotlib\n",
            "    Found existing installation: matplotlib 3.5.1\n",
            "    Uninstalling matplotlib-3.5.1:\n",
            "      Successfully uninstalled matplotlib-3.5.1\n",
            "\u001b[31mERROR: pip's dependency resolver does not currently take into account all the packages that are installed. This behaviour is the source of the following dependency conflicts.\n",
            "d2l 0.17.6 requires matplotlib==3.5.1, but you have matplotlib 3.1.3 which is incompatible.\u001b[0m\u001b[31m\n",
            "\u001b[0mSuccessfully installed matplotlib-3.1.3\n"
          ]
        }
      ]
    },
    {
      "cell_type": "code",
      "source": [
        "plt.figure(figsize=(20,12))\n",
        "\n",
        "plt.subplot(2,1,1)\n",
        "plt.plot(w0,loss_arr_w0)\n",
        "plt.title('w0 cost graph')\n",
        "plt.xlabel('w0')\n",
        "plt.ylabel('loss')\n",
        "\n",
        "plt.subplot(2,1,2)\n",
        "plt.plot(w1,loss_arr_w1)\n",
        "plt.title('w1 cost graph')\n",
        "plt.xlabel('w1')\n",
        "plt.ylabel('loss')\n"
      ],
      "metadata": {
        "id": "13ySyXh7RMcn",
        "colab": {
          "base_uri": "https://localhost:8080/",
          "height": 747
        },
        "outputId": "235bfadb-bdc1-414a-efbb-7da95c2f5761"
      },
      "execution_count": null,
      "outputs": [
        {
          "output_type": "execute_result",
          "data": {
            "text/plain": [
              "Text(0, 0.5, 'loss')"
            ]
          },
          "metadata": {},
          "execution_count": 61
        },
        {
          "output_type": "display_data",
          "data": {
            "text/plain": [
              "<Figure size 1440x864 with 2 Axes>"
            ],
            "image/png": "[encoded data removed]"
          },
          "metadata": {
            "needs_background": "light"
          }
        }
      ]
    },
    {
      "cell_type": "markdown",
      "source": [
        "## 3. concise implementation of linear regression \n",
        "- api 사용해보기"
      ],
      "metadata": {
        "id": "WSKKAGx4wNd4"
      }
    },
    {
      "cell_type": "code",
      "source": [
        "import numpy as np\n",
        "import torch\n",
        "from torch.utils import data\n",
        "from d2l import torch as d2l\n",
        "\n",
        "\n",
        "true_w = torch.tensor([3, -1.5])\n",
        "true_b = 5.5\n",
        "features, labels = d2l.synthetic_data(true_w, true_b, 2000)"
      ],
      "metadata": {
        "id": "CWiOlkzKxEkf"
      },
      "execution_count": null,
      "outputs": []
    },
    {
      "cell_type": "code",
      "source": [
        "def load_array(data_arrays, batch_size, is_train=True): \n",
        "    \"\"\"Construct a PyTorch data iterator.\"\"\"\n",
        "    dataset = data.TensorDataset(*data_arrays)\n",
        "    return data.DataLoader(dataset, batch_size, shuffle=is_train)\n",
        "\n",
        "batch_size = 20\n",
        "data_iter = load_array((features, labels), batch_size)"
      ],
      "metadata": {
        "id": "F5tRyjkmxGUe"
      },
      "execution_count": null,
      "outputs": []
    },
    {
      "cell_type": "code",
      "source": [
        "next(iter(data_iter))"
      ],
      "metadata": {
        "id": "NBaqnZG4xHgP",
        "colab": {
          "base_uri": "https://localhost:8080/"
        },
        "outputId": "9c81d409-5b8e-4901-cc85-82df74919e52"
      },
      "execution_count": null,
      "outputs": [
        {
          "output_type": "execute_result",
          "data": {
            "text/plain": [
              "[tensor([[-1.2129,  0.1416],\n",
              "         [ 0.4793,  0.4309],\n",
              "         [ 0.6451, -0.5750],\n",
              "         [ 2.3001,  0.8469],\n",
              "         [-0.3072,  0.6027],\n",
              "         [-0.2659,  1.0970],\n",
              "         [-0.2418, -0.5315],\n",
              "         [ 0.3280, -0.2320],\n",
              "         [-1.7030,  0.2996],\n",
              "         [-1.3387,  0.1389],\n",
              "         [-0.5182,  0.4293],\n",
              "         [ 0.3955, -2.6030],\n",
              "         [ 0.7623, -0.9677],\n",
              "         [ 0.5867,  1.0423],\n",
              "         [ 0.0912,  1.1758],\n",
              "         [-1.0786, -0.1452],\n",
              "         [-1.0269,  1.7748],\n",
              "         [-1.8872,  0.2158],\n",
              "         [-1.0624,  0.0465],\n",
              "         [-1.2340,  0.9716]]), tensor([[ 1.6338],\n",
              "         [ 6.2974],\n",
              "         [ 8.2983],\n",
              "         [11.1246],\n",
              "         [ 3.6847],\n",
              "         [ 3.0557],\n",
              "         [ 5.5741],\n",
              "         [ 6.8218],\n",
              "         [-0.0425],\n",
              "         [ 1.2662],\n",
              "         [ 3.3132],\n",
              "         [10.5843],\n",
              "         [ 9.2289],\n",
              "         [ 5.7031],\n",
              "         [ 4.0026],\n",
              "         [ 2.4900],\n",
              "         [-0.2242],\n",
              "         [-0.4781],\n",
              "         [ 2.2433],\n",
              "         [ 0.3174]])]"
            ]
          },
          "metadata": {},
          "execution_count": 64
        }
      ]
    },
    {
      "cell_type": "code",
      "source": [
        "from torch import nn\n",
        "\n",
        "net = nn.Sequential(nn.Linear(2,1))"
      ],
      "metadata": {
        "id": "J_83KBFOxJFB"
      },
      "execution_count": null,
      "outputs": []
    },
    {
      "cell_type": "code",
      "source": [
        "net[0].weight.data.normal_(0, 0.01)\n",
        "net[0].bias.data.fill_(0)"
      ],
      "metadata": {
        "id": "AdJQQgFaxL2H",
        "colab": {
          "base_uri": "https://localhost:8080/"
        },
        "outputId": "0f39dc34-00cb-4de7-8827-13eb625511f7"
      },
      "execution_count": null,
      "outputs": [
        {
          "output_type": "execute_result",
          "data": {
            "text/plain": [
              "tensor([0.])"
            ]
          },
          "metadata": {},
          "execution_count": 66
        }
      ]
    },
    {
      "cell_type": "code",
      "source": [
        "loss = nn.MSELoss() #L1도 가능"
      ],
      "metadata": {
        "id": "vSCAFyfAxNAn"
      },
      "execution_count": null,
      "outputs": []
    },
    {
      "cell_type": "code",
      "source": [
        "import torch.optim as optim\n",
        "trainer = optim.SGD(net.parameters(),lr=0.01)"
      ],
      "metadata": {
        "id": "_yee2wG1xOYW"
      },
      "execution_count": null,
      "outputs": []
    },
    {
      "cell_type": "code",
      "source": [
        "num_epochs = 3\n",
        "for epoch in range(num_epochs):\n",
        "    for X, y in data_iter:\n",
        "      l = loss(net(X),y)\n",
        "      trainer.zero_grad()\n",
        "      l.backward()\n",
        "      trainer.step()\n",
        "    l = loss(net(features), labels)\n",
        "    print(f'epoch {epoch + 1}, loss {l:f}')"
      ],
      "metadata": {
        "id": "5fAmW5bUxP9Z",
        "colab": {
          "base_uri": "https://localhost:8080/"
        },
        "outputId": "097d7635-5c93-4ddf-e91e-e1e9fb6acce8"
      },
      "execution_count": null,
      "outputs": [
        {
          "output_type": "stream",
          "name": "stdout",
          "text": [
            "epoch 1, loss 0.722902\n",
            "epoch 2, loss 0.012629\n",
            "epoch 3, loss 0.000310\n"
          ]
        }
      ]
    },
    {
      "cell_type": "code",
      "source": [
        "w = net[0].weight.data\n",
        "print('error in estimating w:', true_w - w.reshape(true_w.shape))\n",
        "b = net[0].bias.data\n",
        "print('error in estimating b:', true_b - b)"
      ],
      "metadata": {
        "id": "JT8VD6GhxR5m",
        "colab": {
          "base_uri": "https://localhost:8080/"
        },
        "outputId": "cd0f95fd-df74-4b5f-abbc-2662aa83be16"
      },
      "execution_count": null,
      "outputs": [
        {
          "output_type": "stream",
          "name": "stdout",
          "text": [
            "error in estimating w: tensor([ 0.0071, -0.0032])\n",
            "error in estimating b: tensor([0.0125])\n"
          ]
        }
      ]
    },
    {
      "cell_type": "code",
      "source": [],
      "metadata": {
        "id": "wQ4umU-Rr7US"
      },
      "execution_count": null,
      "outputs": []
    }
  ]
}