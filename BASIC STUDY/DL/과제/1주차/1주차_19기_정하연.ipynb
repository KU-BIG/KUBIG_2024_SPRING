{
 "cells": [
  {
   "cell_type": "markdown",
   "metadata": {
    "id": "YffDGVSIxijw"
   },
   "source": [
    "# 1주차 과제\n",
    "- 파이토치 시작하기 및 간단한 코드 빈칸 채워넣기"
   ]
  },
  {
   "cell_type": "markdown",
   "metadata": {
    "id": "MivAstLj4EpN"
   },
   "source": [
    "## 파이토치 시작하기"
   ]
  },
  {
   "cell_type": "code",
   "execution_count": 2,
   "metadata": {
    "id": "BS39ZJTi4CD0"
   },
   "outputs": [],
   "source": [
    "import torch"
   ]
  },
  {
   "cell_type": "markdown",
   "metadata": {
    "id": "ixz0WyWH4kSJ"
   },
   "source": [
    "- tensor 개념 파악 (array of numerical values(vector, matrix..))\n",
    "- 4x3 행렬 두 개 만들고 행으로 병합, 열로 병합"
   ]
  },
  {
   "cell_type": "code",
   "execution_count": 3,
   "metadata": {},
   "outputs": [],
   "source": [
    "#직접 선언\n",
    "X = torch.tensor([[0,1,2],\n",
    "                 [3,4,5],\n",
    "                 [6,7,8],\n",
    "                 [9,10,11]])\n",
    "Y = torch.tensor([[12,13,14],\n",
    "                 [15,16,17],\n",
    "                 [18,19,20],\n",
    "                 [21,22,23]])"
   ]
  },
  {
   "cell_type": "code",
   "execution_count": 4,
   "metadata": {
    "id": "OlLUsvmL4kEY"
   },
   "outputs": [
    {
     "name": "stdout",
     "output_type": "stream",
     "text": [
      "X = tensor([[ 0,  1,  2],\n",
      "        [ 3,  4,  5],\n",
      "        [ 6,  7,  8],\n",
      "        [ 9, 10, 11]])\n",
      "Y = tensor([[12, 13, 14],\n",
      "        [15, 16, 17],\n",
      "        [18, 19, 20],\n",
      "        [21, 22, 23]])\n",
      "\n",
      "행으로 병합하면 tensor([[ 0,  1,  2],\n",
      "        [ 3,  4,  5],\n",
      "        [ 6,  7,  8],\n",
      "        [ 9, 10, 11],\n",
      "        [12, 13, 14],\n",
      "        [15, 16, 17],\n",
      "        [18, 19, 20],\n",
      "        [21, 22, 23]])\n",
      "열로 병합하면 tensor([[ 0,  1,  2, 12, 13, 14],\n",
      "        [ 3,  4,  5, 15, 16, 17],\n",
      "        [ 6,  7,  8, 18, 19, 20],\n",
      "        [ 9, 10, 11, 21, 22, 23]])\n"
     ]
    }
   ],
   "source": [
    "X = torch.arange(12).reshape(4,3)\n",
    "Y = torch.arange(12,24).reshape(4,3)\n",
    "\n",
    "# 행으로 병합 코드\n",
    "rowwise = torch.cat((X,Y),dim=0)\n",
    "# 열로 병합 코드\n",
    "columnwise = torch.cat((X,Y),dim=1)\n",
    "\n",
    "print(\"X =\", X)\n",
    "print(\"Y =\",Y)\n",
    "print(\"\\n행으로 병합하면\", rowwise)\n",
    "print(\"열로 병합하면\", columnwise)"
   ]
  },
  {
   "cell_type": "markdown",
   "metadata": {
    "id": "Gh-1LJliusEc"
   },
   "source": [
    "### Linear Regression Implementation from Scratch\n",
    "- 머신러닝 기초와 비슷한 내용이지만 파이토치로 실행해보며 익숙해지는것이 목표\n"
   ]
  },
  {
   "cell_type": "code",
   "execution_count": 5,
   "metadata": {
    "id": "Ybbbqg8TqAVR"
   },
   "outputs": [
    {
     "name": "stdout",
     "output_type": "stream",
     "text": [
      "Requirement already satisfied: d2l in /Users/hayeon.c/miniconda3/lib/python3.11/site-packages (1.0.3)\n",
      "Requirement already satisfied: jupyter==1.0.0 in /Users/hayeon.c/miniconda3/lib/python3.11/site-packages (from d2l) (1.0.0)\n",
      "Requirement already satisfied: numpy==1.23.5 in /Users/hayeon.c/miniconda3/lib/python3.11/site-packages (from d2l) (1.23.5)\n",
      "Requirement already satisfied: matplotlib==3.7.2 in /Users/hayeon.c/miniconda3/lib/python3.11/site-packages (from d2l) (3.7.2)\n",
      "Requirement already satisfied: matplotlib-inline==0.1.6 in /Users/hayeon.c/miniconda3/lib/python3.11/site-packages (from d2l) (0.1.6)\n",
      "Requirement already satisfied: requests==2.31.0 in /Users/hayeon.c/miniconda3/lib/python3.11/site-packages (from d2l) (2.31.0)\n",
      "Requirement already satisfied: pandas==2.0.3 in /Users/hayeon.c/miniconda3/lib/python3.11/site-packages (from d2l) (2.0.3)\n",
      "Requirement already satisfied: scipy==1.10.1 in /Users/hayeon.c/miniconda3/lib/python3.11/site-packages (from d2l) (1.10.1)\n",
      "Requirement already satisfied: notebook in /Users/hayeon.c/miniconda3/lib/python3.11/site-packages (from jupyter==1.0.0->d2l) (7.0.6)\n",
      "Requirement already satisfied: qtconsole in /Users/hayeon.c/miniconda3/lib/python3.11/site-packages (from jupyter==1.0.0->d2l) (5.5.1)\n",
      "Requirement already satisfied: jupyter-console in /Users/hayeon.c/miniconda3/lib/python3.11/site-packages (from jupyter==1.0.0->d2l) (6.6.3)\n",
      "Requirement already satisfied: nbconvert in /Users/hayeon.c/miniconda3/lib/python3.11/site-packages (from jupyter==1.0.0->d2l) (7.14.1)\n",
      "Requirement already satisfied: ipykernel in /Users/hayeon.c/miniconda3/lib/python3.11/site-packages (from jupyter==1.0.0->d2l) (6.29.0)\n",
      "Requirement already satisfied: ipywidgets in /Users/hayeon.c/miniconda3/lib/python3.11/site-packages (from jupyter==1.0.0->d2l) (8.1.1)\n",
      "Requirement already satisfied: contourpy>=1.0.1 in /Users/hayeon.c/miniconda3/lib/python3.11/site-packages (from matplotlib==3.7.2->d2l) (1.2.0)\n",
      "Requirement already satisfied: cycler>=0.10 in /Users/hayeon.c/miniconda3/lib/python3.11/site-packages (from matplotlib==3.7.2->d2l) (0.12.1)\n",
      "Requirement already satisfied: fonttools>=4.22.0 in /Users/hayeon.c/miniconda3/lib/python3.11/site-packages (from matplotlib==3.7.2->d2l) (4.47.2)\n",
      "Requirement already satisfied: kiwisolver>=1.0.1 in /Users/hayeon.c/miniconda3/lib/python3.11/site-packages (from matplotlib==3.7.2->d2l) (1.4.5)\n",
      "Requirement already satisfied: packaging>=20.0 in /Users/hayeon.c/miniconda3/lib/python3.11/site-packages (from matplotlib==3.7.2->d2l) (23.1)\n",
      "Requirement already satisfied: pillow>=6.2.0 in /Users/hayeon.c/miniconda3/lib/python3.11/site-packages (from matplotlib==3.7.2->d2l) (10.0.1)\n",
      "Requirement already satisfied: pyparsing<3.1,>=2.3.1 in /Users/hayeon.c/miniconda3/lib/python3.11/site-packages (from matplotlib==3.7.2->d2l) (3.0.9)\n",
      "Requirement already satisfied: python-dateutil>=2.7 in /Users/hayeon.c/miniconda3/lib/python3.11/site-packages (from matplotlib==3.7.2->d2l) (2.8.2)\n",
      "Requirement already satisfied: traitlets in /Users/hayeon.c/miniconda3/lib/python3.11/site-packages (from matplotlib-inline==0.1.6->d2l) (5.14.1)\n",
      "Requirement already satisfied: pytz>=2020.1 in /Users/hayeon.c/miniconda3/lib/python3.11/site-packages (from pandas==2.0.3->d2l) (2023.3.post1)\n",
      "Requirement already satisfied: tzdata>=2022.1 in /Users/hayeon.c/miniconda3/lib/python3.11/site-packages (from pandas==2.0.3->d2l) (2023.4)\n",
      "Requirement already satisfied: charset-normalizer<4,>=2 in /Users/hayeon.c/miniconda3/lib/python3.11/site-packages (from requests==2.31.0->d2l) (2.0.4)\n",
      "Requirement already satisfied: idna<4,>=2.5 in /Users/hayeon.c/miniconda3/lib/python3.11/site-packages (from requests==2.31.0->d2l) (3.4)\n",
      "Requirement already satisfied: urllib3<3,>=1.21.1 in /Users/hayeon.c/miniconda3/lib/python3.11/site-packages (from requests==2.31.0->d2l) (1.26.18)\n",
      "Requirement already satisfied: certifi>=2017.4.17 in /Users/hayeon.c/miniconda3/lib/python3.11/site-packages (from requests==2.31.0->d2l) (2023.11.17)\n",
      "Requirement already satisfied: six>=1.5 in /Users/hayeon.c/miniconda3/lib/python3.11/site-packages (from python-dateutil>=2.7->matplotlib==3.7.2->d2l) (1.16.0)\n",
      "Requirement already satisfied: appnope in /Users/hayeon.c/miniconda3/lib/python3.11/site-packages (from ipykernel->jupyter==1.0.0->d2l) (0.1.3)\n",
      "Requirement already satisfied: comm>=0.1.1 in /Users/hayeon.c/miniconda3/lib/python3.11/site-packages (from ipykernel->jupyter==1.0.0->d2l) (0.2.1)\n",
      "Requirement already satisfied: debugpy>=1.6.5 in /Users/hayeon.c/miniconda3/lib/python3.11/site-packages (from ipykernel->jupyter==1.0.0->d2l) (1.8.0)\n",
      "Requirement already satisfied: ipython>=7.23.1 in /Users/hayeon.c/miniconda3/lib/python3.11/site-packages (from ipykernel->jupyter==1.0.0->d2l) (8.20.0)\n",
      "Requirement already satisfied: jupyter-client>=6.1.12 in /Users/hayeon.c/miniconda3/lib/python3.11/site-packages (from ipykernel->jupyter==1.0.0->d2l) (8.6.0)\n",
      "Requirement already satisfied: jupyter-core!=5.0.*,>=4.12 in /Users/hayeon.c/miniconda3/lib/python3.11/site-packages (from ipykernel->jupyter==1.0.0->d2l) (5.7.1)\n",
      "Requirement already satisfied: nest-asyncio in /Users/hayeon.c/miniconda3/lib/python3.11/site-packages (from ipykernel->jupyter==1.0.0->d2l) (1.5.9)\n",
      "Requirement already satisfied: psutil in /Users/hayeon.c/miniconda3/lib/python3.11/site-packages (from ipykernel->jupyter==1.0.0->d2l) (5.9.7)\n",
      "Requirement already satisfied: pyzmq>=24 in /Users/hayeon.c/miniconda3/lib/python3.11/site-packages (from ipykernel->jupyter==1.0.0->d2l) (25.1.2)\n",
      "Requirement already satisfied: tornado>=6.1 in /Users/hayeon.c/miniconda3/lib/python3.11/site-packages (from ipykernel->jupyter==1.0.0->d2l) (6.4)\n",
      "Requirement already satisfied: widgetsnbextension~=4.0.9 in /Users/hayeon.c/miniconda3/lib/python3.11/site-packages (from ipywidgets->jupyter==1.0.0->d2l) (4.0.9)\n",
      "Requirement already satisfied: jupyterlab-widgets~=3.0.9 in /Users/hayeon.c/miniconda3/lib/python3.11/site-packages (from ipywidgets->jupyter==1.0.0->d2l) (3.0.9)\n",
      "Requirement already satisfied: prompt-toolkit>=3.0.30 in /Users/hayeon.c/miniconda3/lib/python3.11/site-packages (from jupyter-console->jupyter==1.0.0->d2l) (3.0.43)\n",
      "Requirement already satisfied: pygments in /Users/hayeon.c/miniconda3/lib/python3.11/site-packages (from jupyter-console->jupyter==1.0.0->d2l) (2.17.2)\n",
      "Requirement already satisfied: beautifulsoup4 in /Users/hayeon.c/miniconda3/lib/python3.11/site-packages (from nbconvert->jupyter==1.0.0->d2l) (4.12.2)\n",
      "Requirement already satisfied: bleach!=5.0.0 in /Users/hayeon.c/miniconda3/lib/python3.11/site-packages (from nbconvert->jupyter==1.0.0->d2l) (6.1.0)\n",
      "Requirement already satisfied: defusedxml in /Users/hayeon.c/miniconda3/lib/python3.11/site-packages (from nbconvert->jupyter==1.0.0->d2l) (0.7.1)\n",
      "Requirement already satisfied: jinja2>=3.0 in /Users/hayeon.c/miniconda3/lib/python3.11/site-packages (from nbconvert->jupyter==1.0.0->d2l) (3.1.2)\n",
      "Requirement already satisfied: jupyterlab-pygments in /Users/hayeon.c/miniconda3/lib/python3.11/site-packages (from nbconvert->jupyter==1.0.0->d2l) (0.3.0)\n",
      "Requirement already satisfied: markupsafe>=2.0 in /Users/hayeon.c/miniconda3/lib/python3.11/site-packages (from nbconvert->jupyter==1.0.0->d2l) (2.1.3)\n",
      "Requirement already satisfied: mistune<4,>=2.0.3 in /Users/hayeon.c/miniconda3/lib/python3.11/site-packages (from nbconvert->jupyter==1.0.0->d2l) (3.0.2)\n",
      "Requirement already satisfied: nbclient>=0.5.0 in /Users/hayeon.c/miniconda3/lib/python3.11/site-packages (from nbconvert->jupyter==1.0.0->d2l) (0.9.0)\n",
      "Requirement already satisfied: nbformat>=5.7 in /Users/hayeon.c/miniconda3/lib/python3.11/site-packages (from nbconvert->jupyter==1.0.0->d2l) (5.9.2)\n",
      "Requirement already satisfied: pandocfilters>=1.4.1 in /Users/hayeon.c/miniconda3/lib/python3.11/site-packages (from nbconvert->jupyter==1.0.0->d2l) (1.5.0)\n",
      "Requirement already satisfied: tinycss2 in /Users/hayeon.c/miniconda3/lib/python3.11/site-packages (from nbconvert->jupyter==1.0.0->d2l) (1.2.1)\n",
      "Requirement already satisfied: jupyter-server<3,>=2.4.0 in /Users/hayeon.c/miniconda3/lib/python3.11/site-packages (from notebook->jupyter==1.0.0->d2l) (2.12.4)\n",
      "Requirement already satisfied: jupyterlab-server<3,>=2.22.1 in /Users/hayeon.c/miniconda3/lib/python3.11/site-packages (from notebook->jupyter==1.0.0->d2l) (2.25.2)\n",
      "Requirement already satisfied: jupyterlab<5,>=4.0.2 in /Users/hayeon.c/miniconda3/lib/python3.11/site-packages (from notebook->jupyter==1.0.0->d2l) (4.0.10)\n",
      "Requirement already satisfied: notebook-shim<0.3,>=0.2 in /Users/hayeon.c/miniconda3/lib/python3.11/site-packages (from notebook->jupyter==1.0.0->d2l) (0.2.3)\n",
      "Requirement already satisfied: qtpy>=2.4.0 in /Users/hayeon.c/miniconda3/lib/python3.11/site-packages (from qtconsole->jupyter==1.0.0->d2l) (2.4.1)\n",
      "Requirement already satisfied: webencodings in /Users/hayeon.c/miniconda3/lib/python3.11/site-packages (from bleach!=5.0.0->nbconvert->jupyter==1.0.0->d2l) (0.5.1)\n",
      "Requirement already satisfied: decorator in /Users/hayeon.c/miniconda3/lib/python3.11/site-packages (from ipython>=7.23.1->ipykernel->jupyter==1.0.0->d2l) (5.1.1)\n",
      "Requirement already satisfied: jedi>=0.16 in /Users/hayeon.c/miniconda3/lib/python3.11/site-packages (from ipython>=7.23.1->ipykernel->jupyter==1.0.0->d2l) (0.19.1)\n",
      "Requirement already satisfied: stack-data in /Users/hayeon.c/miniconda3/lib/python3.11/site-packages (from ipython>=7.23.1->ipykernel->jupyter==1.0.0->d2l) (0.6.3)\n",
      "Requirement already satisfied: pexpect>4.3 in /Users/hayeon.c/miniconda3/lib/python3.11/site-packages (from ipython>=7.23.1->ipykernel->jupyter==1.0.0->d2l) (4.9.0)\n",
      "Requirement already satisfied: platformdirs>=2.5 in /Users/hayeon.c/miniconda3/lib/python3.11/site-packages (from jupyter-core!=5.0.*,>=4.12->ipykernel->jupyter==1.0.0->d2l) (3.10.0)\n",
      "Requirement already satisfied: anyio>=3.1.0 in /Users/hayeon.c/miniconda3/lib/python3.11/site-packages (from jupyter-server<3,>=2.4.0->notebook->jupyter==1.0.0->d2l) (4.2.0)\n",
      "Requirement already satisfied: argon2-cffi in /Users/hayeon.c/miniconda3/lib/python3.11/site-packages (from jupyter-server<3,>=2.4.0->notebook->jupyter==1.0.0->d2l) (23.1.0)\n",
      "Requirement already satisfied: jupyter-events>=0.9.0 in /Users/hayeon.c/miniconda3/lib/python3.11/site-packages (from jupyter-server<3,>=2.4.0->notebook->jupyter==1.0.0->d2l) (0.9.0)\n",
      "Requirement already satisfied: jupyter-server-terminals in /Users/hayeon.c/miniconda3/lib/python3.11/site-packages (from jupyter-server<3,>=2.4.0->notebook->jupyter==1.0.0->d2l) (0.5.1)\n",
      "Requirement already satisfied: overrides in /Users/hayeon.c/miniconda3/lib/python3.11/site-packages (from jupyter-server<3,>=2.4.0->notebook->jupyter==1.0.0->d2l) (7.4.0)\n",
      "Requirement already satisfied: prometheus-client in /Users/hayeon.c/miniconda3/lib/python3.11/site-packages (from jupyter-server<3,>=2.4.0->notebook->jupyter==1.0.0->d2l) (0.19.0)\n",
      "Requirement already satisfied: send2trash>=1.8.2 in /Users/hayeon.c/miniconda3/lib/python3.11/site-packages (from jupyter-server<3,>=2.4.0->notebook->jupyter==1.0.0->d2l) (1.8.2)\n",
      "Requirement already satisfied: terminado>=0.8.3 in /Users/hayeon.c/miniconda3/lib/python3.11/site-packages (from jupyter-server<3,>=2.4.0->notebook->jupyter==1.0.0->d2l) (0.18.0)\n",
      "Requirement already satisfied: websocket-client in /Users/hayeon.c/miniconda3/lib/python3.11/site-packages (from jupyter-server<3,>=2.4.0->notebook->jupyter==1.0.0->d2l) (1.7.0)\n",
      "Requirement already satisfied: async-lru>=1.0.0 in /Users/hayeon.c/miniconda3/lib/python3.11/site-packages (from jupyterlab<5,>=4.0.2->notebook->jupyter==1.0.0->d2l) (2.0.4)\n",
      "Requirement already satisfied: jupyter-lsp>=2.0.0 in /Users/hayeon.c/miniconda3/lib/python3.11/site-packages (from jupyterlab<5,>=4.0.2->notebook->jupyter==1.0.0->d2l) (2.2.1)\n",
      "Requirement already satisfied: babel>=2.10 in /Users/hayeon.c/miniconda3/lib/python3.11/site-packages (from jupyterlab-server<3,>=2.22.1->notebook->jupyter==1.0.0->d2l) (2.14.0)\n",
      "Requirement already satisfied: json5>=0.9.0 in /Users/hayeon.c/miniconda3/lib/python3.11/site-packages (from jupyterlab-server<3,>=2.22.1->notebook->jupyter==1.0.0->d2l) (0.9.14)\n",
      "Requirement already satisfied: jsonschema>=4.18.0 in /Users/hayeon.c/miniconda3/lib/python3.11/site-packages (from jupyterlab-server<3,>=2.22.1->notebook->jupyter==1.0.0->d2l) (4.20.0)\n",
      "Requirement already satisfied: fastjsonschema in /Users/hayeon.c/miniconda3/lib/python3.11/site-packages (from nbformat>=5.7->nbconvert->jupyter==1.0.0->d2l) (2.19.1)\n",
      "Requirement already satisfied: wcwidth in /Users/hayeon.c/miniconda3/lib/python3.11/site-packages (from prompt-toolkit>=3.0.30->jupyter-console->jupyter==1.0.0->d2l) (0.2.13)\n",
      "Requirement already satisfied: soupsieve>1.2 in /Users/hayeon.c/miniconda3/lib/python3.11/site-packages (from beautifulsoup4->nbconvert->jupyter==1.0.0->d2l) (2.5)\n",
      "Requirement already satisfied: sniffio>=1.1 in /Users/hayeon.c/miniconda3/lib/python3.11/site-packages (from anyio>=3.1.0->jupyter-server<3,>=2.4.0->notebook->jupyter==1.0.0->d2l) (1.3.0)\n",
      "Requirement already satisfied: parso<0.9.0,>=0.8.3 in /Users/hayeon.c/miniconda3/lib/python3.11/site-packages (from jedi>=0.16->ipython>=7.23.1->ipykernel->jupyter==1.0.0->d2l) (0.8.3)\n",
      "Requirement already satisfied: attrs>=22.2.0 in /Users/hayeon.c/miniconda3/lib/python3.11/site-packages (from jsonschema>=4.18.0->jupyterlab-server<3,>=2.22.1->notebook->jupyter==1.0.0->d2l) (23.2.0)\n",
      "Requirement already satisfied: jsonschema-specifications>=2023.03.6 in /Users/hayeon.c/miniconda3/lib/python3.11/site-packages (from jsonschema>=4.18.0->jupyterlab-server<3,>=2.22.1->notebook->jupyter==1.0.0->d2l) (2023.12.1)\n",
      "Requirement already satisfied: referencing>=0.28.4 in /Users/hayeon.c/miniconda3/lib/python3.11/site-packages (from jsonschema>=4.18.0->jupyterlab-server<3,>=2.22.1->notebook->jupyter==1.0.0->d2l) (0.32.1)\n",
      "Requirement already satisfied: rpds-py>=0.7.1 in /Users/hayeon.c/miniconda3/lib/python3.11/site-packages (from jsonschema>=4.18.0->jupyterlab-server<3,>=2.22.1->notebook->jupyter==1.0.0->d2l) (0.17.1)\n",
      "Requirement already satisfied: python-json-logger>=2.0.4 in /Users/hayeon.c/miniconda3/lib/python3.11/site-packages (from jupyter-events>=0.9.0->jupyter-server<3,>=2.4.0->notebook->jupyter==1.0.0->d2l) (2.0.7)\n",
      "Requirement already satisfied: pyyaml>=5.3 in /Users/hayeon.c/miniconda3/lib/python3.11/site-packages (from jupyter-events>=0.9.0->jupyter-server<3,>=2.4.0->notebook->jupyter==1.0.0->d2l) (6.0.1)\n",
      "Requirement already satisfied: rfc3339-validator in /Users/hayeon.c/miniconda3/lib/python3.11/site-packages (from jupyter-events>=0.9.0->jupyter-server<3,>=2.4.0->notebook->jupyter==1.0.0->d2l) (0.1.4)\n",
      "Requirement already satisfied: rfc3986-validator>=0.1.1 in /Users/hayeon.c/miniconda3/lib/python3.11/site-packages (from jupyter-events>=0.9.0->jupyter-server<3,>=2.4.0->notebook->jupyter==1.0.0->d2l) (0.1.1)\n",
      "Requirement already satisfied: ptyprocess>=0.5 in /Users/hayeon.c/miniconda3/lib/python3.11/site-packages (from pexpect>4.3->ipython>=7.23.1->ipykernel->jupyter==1.0.0->d2l) (0.7.0)\n",
      "Requirement already satisfied: argon2-cffi-bindings in /Users/hayeon.c/miniconda3/lib/python3.11/site-packages (from argon2-cffi->jupyter-server<3,>=2.4.0->notebook->jupyter==1.0.0->d2l) (21.2.0)\n",
      "Requirement already satisfied: executing>=1.2.0 in /Users/hayeon.c/miniconda3/lib/python3.11/site-packages (from stack-data->ipython>=7.23.1->ipykernel->jupyter==1.0.0->d2l) (2.0.1)\n",
      "Requirement already satisfied: asttokens>=2.1.0 in /Users/hayeon.c/miniconda3/lib/python3.11/site-packages (from stack-data->ipython>=7.23.1->ipykernel->jupyter==1.0.0->d2l) (2.4.1)\n",
      "Requirement already satisfied: pure-eval in /Users/hayeon.c/miniconda3/lib/python3.11/site-packages (from stack-data->ipython>=7.23.1->ipykernel->jupyter==1.0.0->d2l) (0.2.2)\n",
      "Requirement already satisfied: fqdn in /Users/hayeon.c/miniconda3/lib/python3.11/site-packages (from jsonschema[format-nongpl]>=4.18.0->jupyter-events>=0.9.0->jupyter-server<3,>=2.4.0->notebook->jupyter==1.0.0->d2l) (1.5.1)\n",
      "Requirement already satisfied: isoduration in /Users/hayeon.c/miniconda3/lib/python3.11/site-packages (from jsonschema[format-nongpl]>=4.18.0->jupyter-events>=0.9.0->jupyter-server<3,>=2.4.0->notebook->jupyter==1.0.0->d2l) (20.11.0)\n",
      "Requirement already satisfied: jsonpointer>1.13 in /Users/hayeon.c/miniconda3/lib/python3.11/site-packages (from jsonschema[format-nongpl]>=4.18.0->jupyter-events>=0.9.0->jupyter-server<3,>=2.4.0->notebook->jupyter==1.0.0->d2l) (2.1)\n",
      "Requirement already satisfied: uri-template in /Users/hayeon.c/miniconda3/lib/python3.11/site-packages (from jsonschema[format-nongpl]>=4.18.0->jupyter-events>=0.9.0->jupyter-server<3,>=2.4.0->notebook->jupyter==1.0.0->d2l) (1.3.0)\n",
      "Requirement already satisfied: webcolors>=1.11 in /Users/hayeon.c/miniconda3/lib/python3.11/site-packages (from jsonschema[format-nongpl]>=4.18.0->jupyter-events>=0.9.0->jupyter-server<3,>=2.4.0->notebook->jupyter==1.0.0->d2l) (1.13)\n",
      "Requirement already satisfied: cffi>=1.0.1 in /Users/hayeon.c/miniconda3/lib/python3.11/site-packages (from argon2-cffi-bindings->argon2-cffi->jupyter-server<3,>=2.4.0->notebook->jupyter==1.0.0->d2l) (1.16.0)\n",
      "Requirement already satisfied: pycparser in /Users/hayeon.c/miniconda3/lib/python3.11/site-packages (from cffi>=1.0.1->argon2-cffi-bindings->argon2-cffi->jupyter-server<3,>=2.4.0->notebook->jupyter==1.0.0->d2l) (2.21)\n",
      "Requirement already satisfied: arrow>=0.15.0 in /Users/hayeon.c/miniconda3/lib/python3.11/site-packages (from isoduration->jsonschema[format-nongpl]>=4.18.0->jupyter-events>=0.9.0->jupyter-server<3,>=2.4.0->notebook->jupyter==1.0.0->d2l) (1.3.0)\n",
      "Requirement already satisfied: types-python-dateutil>=2.8.10 in /Users/hayeon.c/miniconda3/lib/python3.11/site-packages (from arrow>=0.15.0->isoduration->jsonschema[format-nongpl]>=4.18.0->jupyter-events>=0.9.0->jupyter-server<3,>=2.4.0->notebook->jupyter==1.0.0->d2l) (2.8.19.20240106)\n"
     ]
    }
   ],
   "source": [
    "!pip install d2l # d2l 라이브러리에서 제공하는 기능 사용 위함"
   ]
  },
  {
   "cell_type": "code",
   "execution_count": 7,
   "metadata": {
    "id": "YyWEB6e3FKYY"
   },
   "outputs": [],
   "source": [
    "%matplotlib inline\n",
    "import random\n",
    "import torch\n",
    "from d2l import torch as d2l"
   ]
  },
  {
   "cell_type": "code",
   "execution_count": 8,
   "metadata": {
    "id": "exWjbVn2v3CT"
   },
   "outputs": [],
   "source": [
    "def synthetic_data(w, b, num_examples):\n",
    "    \"\"\"Generate y = Xw + b + noise.\"\"\"\n",
    "    X = torch.normal(0, 1, (num_examples, len(w)))\n",
    "    y = torch.matmul(X, w) + b\n",
    "    y += torch.normal(0, 0.01, y.shape)\n",
    "    return X, y.reshape((-1, 1))\n",
    "\n",
    "true_w = torch.tensor([3, -1.5])\n",
    "true_b = 5.5\n",
    "features, labels = synthetic_data(true_w, true_b, 2000)"
   ]
  },
  {
   "cell_type": "code",
   "execution_count": 9,
   "metadata": {
    "id": "5UcjckXPv6iy",
    "scrolled": true
   },
   "outputs": [
    {
     "name": "stdout",
     "output_type": "stream",
     "text": [
      "features: tensor([-0.1268, -0.4328]) \n",
      "label: tensor([5.7747])\n"
     ]
    }
   ],
   "source": [
    "print('features:', features[0],'\\nlabel:', labels[0])"
   ]
  },
  {
   "cell_type": "code",
   "execution_count": 10,
   "metadata": {
    "id": "jLY6YR5Zv_gO"
   },
   "outputs": [],
   "source": [
    "def data_iter(batch_size, features, labels):\n",
    "    num_examples = len(features)\n",
    "    indices = list(range(num_examples))\n",
    "    # The examples are read at random, in no particular order\n",
    "    random.shuffle(indices)\n",
    "     ###반복문으로 채워넣기:\n",
    "        ##이하는 반복문에 대한 조건입니다.\n",
    "    for i in range(0, num_examples, batch_size):\n",
    "        batch_indices = torch.tensor(\n",
    "            indices[i: min(i + batch_size, num_examples)])\n",
    "        yield features[batch_indices], labels[batch_indices]"
   ]
  },
  {
   "cell_type": "code",
   "execution_count": 11,
   "metadata": {
    "id": "zuxxEAvdwA7p"
   },
   "outputs": [
    {
     "name": "stdout",
     "output_type": "stream",
     "text": [
      "tensor([[-0.3601, -1.0650],\n",
      "        [ 1.3995, -0.7585],\n",
      "        [ 0.2190, -1.0813],\n",
      "        [ 0.5126,  0.0118],\n",
      "        [ 0.6281, -0.9125],\n",
      "        [-1.2184,  0.6945],\n",
      "        [ 1.1377, -1.7759],\n",
      "        [ 1.9926, -2.3128],\n",
      "        [-0.9722, -0.0144],\n",
      "        [ 0.2735,  0.2587],\n",
      "        [ 1.0725,  0.6096],\n",
      "        [ 1.1838, -1.1163],\n",
      "        [-0.1239, -0.2064],\n",
      "        [ 0.5233, -0.5047],\n",
      "        [-0.3310, -0.6808],\n",
      "        [-1.0052, -0.7210],\n",
      "        [ 0.0452,  0.3755],\n",
      "        [ 1.4867,  0.8730],\n",
      "        [-0.0724, -0.2524],\n",
      "        [ 1.4305, -0.4233]]) \n",
      " tensor([[ 6.0116],\n",
      "        [10.8401],\n",
      "        [ 7.7832],\n",
      "        [ 7.0163],\n",
      "        [ 8.7476],\n",
      "        [ 0.8117],\n",
      "        [11.5832],\n",
      "        [14.9296],\n",
      "        [ 2.6199],\n",
      "        [ 5.9250],\n",
      "        [ 7.8095],\n",
      "        [10.7202],\n",
      "        [ 5.4649],\n",
      "        [ 7.8307],\n",
      "        [ 5.5435],\n",
      "        [ 3.5702],\n",
      "        [ 5.0715],\n",
      "        [ 8.6602],\n",
      "        [ 5.6568],\n",
      "        [10.4359]])\n"
     ]
    }
   ],
   "source": [
    "batch_size = 20\n",
    "\n",
    "for X, y in data_iter(batch_size, features, labels):\n",
    "    print(X, '\\n', y)\n",
    "    break"
   ]
  },
  {
   "cell_type": "code",
   "execution_count": 32,
   "metadata": {
    "id": "f_yHcVYEwCHq"
   },
   "outputs": [],
   "source": [
    "w = torch.normal(0, 0.01, size=(2,1), requires_grad=True)\n",
    "b = torch.tensor([4.0], requires_grad = True) #requires grad 중요"
   ]
  },
  {
   "cell_type": "code",
   "execution_count": 33,
   "metadata": {
    "id": "wOT4gBtZwDVA"
   },
   "outputs": [],
   "source": [
    "def linreg(X, w, b):\n",
    "    \"\"\"The linear regression model.\"\"\"\n",
    "    return torch.matmul(X,w) + b "
   ]
  },
  {
   "cell_type": "code",
   "execution_count": 34,
   "metadata": {
    "id": "WFYMJrrSwE5R"
   },
   "outputs": [],
   "source": [
    "def squared_loss(y_hat, y):\n",
    "    \"\"\"Squared loss.\"\"\"\n",
    "    return torch.mean((y_hat-y)**2)"
   ]
  },
  {
   "cell_type": "code",
   "execution_count": 35,
   "metadata": {
    "id": "MXD0qP8PwIn0"
   },
   "outputs": [],
   "source": [
    "def sgd(params, lr, batch_size):\n",
    "    \"\"\"Minibatch stochastic gradient descent.\"\"\"\n",
    "    with torch.no_grad():\n",
    "        for param in params:\n",
    "            if param.grad is not None:\n",
    "                param -= lr * param.grad / batch_size\n",
    "                param.grad.zero_() #grad 초기화"
   ]
  },
  {
   "cell_type": "code",
   "execution_count": 36,
   "metadata": {
    "id": "pS_hm3J8wJ4z",
    "scrolled": true
   },
   "outputs": [
    {
     "name": "stdout",
     "output_type": "stream",
     "text": [
      "epoch 1, loss 10.845457\n",
      "epoch 2, loss 8.900849\n",
      "epoch 3, loss 7.305291\n",
      "epoch 4, loss 5.996089\n",
      "epoch 5, loss 4.921751\n",
      "epoch 6, loss 4.040114\n",
      "epoch 7, loss 3.316575\n",
      "epoch 8, loss 2.722758\n",
      "epoch 9, loss 2.235376\n",
      "epoch 10, loss 1.835348\n",
      "epoch 11, loss 1.506988\n",
      "epoch 12, loss 1.237443\n",
      "epoch 13, loss 1.016163\n",
      "epoch 14, loss 0.834504\n",
      "epoch 15, loss 0.685360\n",
      "epoch 16, loss 0.562902\n",
      "epoch 17, loss 0.462355\n",
      "epoch 18, loss 0.379792\n",
      "epoch 19, loss 0.311991\n",
      "epoch 20, loss 0.256312\n",
      "epoch 21, loss 0.210585\n",
      "epoch 22, loss 0.173028\n",
      "epoch 23, loss 0.142179\n",
      "epoch 24, loss 0.116840\n",
      "epoch 25, loss 0.096026\n",
      "epoch 26, loss 0.078927\n",
      "epoch 27, loss 0.064880\n",
      "epoch 28, loss 0.053339\n",
      "epoch 29, loss 0.043857\n",
      "epoch 30, loss 0.036065\n",
      "epoch 31, loss 0.029663\n",
      "epoch 32, loss 0.024401\n",
      "epoch 33, loss 0.020077\n",
      "epoch 34, loss 0.016524\n",
      "epoch 35, loss 0.013603\n",
      "epoch 36, loss 0.011202\n",
      "epoch 37, loss 0.009229\n",
      "epoch 38, loss 0.007607\n",
      "epoch 39, loss 0.006273\n",
      "epoch 40, loss 0.005177\n",
      "epoch 41, loss 0.004275\n",
      "epoch 42, loss 0.003534\n",
      "epoch 43, loss 0.002925\n",
      "epoch 44, loss 0.002424\n",
      "epoch 45, loss 0.002011\n",
      "epoch 46, loss 0.001672\n",
      "epoch 47, loss 0.001394\n",
      "epoch 48, loss 0.001164\n",
      "epoch 49, loss 0.000976\n",
      "epoch 50, loss 0.000821\n",
      "epoch 51, loss 0.000693\n",
      "epoch 52, loss 0.000588\n",
      "epoch 53, loss 0.000502\n",
      "epoch 54, loss 0.000431\n",
      "epoch 55, loss 0.000372\n",
      "epoch 56, loss 0.000324\n",
      "epoch 57, loss 0.000284\n",
      "epoch 58, loss 0.000252\n",
      "epoch 59, loss 0.000225\n",
      "epoch 60, loss 0.000203\n",
      "epoch 61, loss 0.000185\n",
      "epoch 62, loss 0.000170\n",
      "epoch 63, loss 0.000157\n",
      "epoch 64, loss 0.000147\n",
      "epoch 65, loss 0.000139\n",
      "epoch 66, loss 0.000132\n",
      "epoch 67, loss 0.000126\n",
      "epoch 68, loss 0.000122\n",
      "epoch 69, loss 0.000118\n",
      "epoch 70, loss 0.000115\n",
      "epoch 71, loss 0.000112\n",
      "epoch 72, loss 0.000110\n",
      "epoch 73, loss 0.000108\n",
      "epoch 74, loss 0.000107\n",
      "epoch 75, loss 0.000105\n",
      "epoch 76, loss 0.000105\n",
      "epoch 77, loss 0.000104\n",
      "epoch 78, loss 0.000103\n",
      "epoch 79, loss 0.000102\n",
      "epoch 80, loss 0.000102\n",
      "epoch 81, loss 0.000102\n",
      "epoch 82, loss 0.000101\n",
      "epoch 83, loss 0.000101\n",
      "epoch 84, loss 0.000101\n",
      "epoch 85, loss 0.000101\n",
      "epoch 86, loss 0.000101\n",
      "epoch 87, loss 0.000100\n",
      "epoch 88, loss 0.000100\n",
      "epoch 89, loss 0.000100\n",
      "epoch 90, loss 0.000100\n",
      "epoch 91, loss 0.000100\n",
      "epoch 92, loss 0.000100\n",
      "epoch 93, loss 0.000100\n",
      "epoch 94, loss 0.000100\n",
      "epoch 95, loss 0.000100\n",
      "epoch 96, loss 0.000100\n",
      "epoch 97, loss 0.000100\n",
      "epoch 98, loss 0.000100\n",
      "epoch 99, loss 0.000100\n",
      "epoch 100, loss 0.000100\n",
      "epoch 101, loss 0.000100\n",
      "epoch 102, loss 0.000100\n",
      "epoch 103, loss 0.000100\n",
      "epoch 104, loss 0.000100\n",
      "epoch 105, loss 0.000100\n",
      "epoch 106, loss 0.000100\n",
      "epoch 107, loss 0.000100\n",
      "epoch 108, loss 0.000100\n",
      "epoch 109, loss 0.000100\n",
      "epoch 110, loss 0.000100\n",
      "epoch 111, loss 0.000100\n",
      "epoch 112, loss 0.000100\n",
      "epoch 113, loss 0.000100\n",
      "epoch 114, loss 0.000100\n",
      "epoch 115, loss 0.000100\n",
      "epoch 116, loss 0.000100\n",
      "epoch 117, loss 0.000100\n",
      "epoch 118, loss 0.000100\n",
      "epoch 119, loss 0.000100\n",
      "epoch 120, loss 0.000100\n",
      "epoch 121, loss 0.000100\n",
      "epoch 122, loss 0.000100\n",
      "epoch 123, loss 0.000100\n",
      "epoch 124, loss 0.000100\n",
      "epoch 125, loss 0.000100\n",
      "epoch 126, loss 0.000100\n",
      "epoch 127, loss 0.000100\n",
      "epoch 128, loss 0.000100\n",
      "epoch 129, loss 0.000100\n",
      "epoch 130, loss 0.000100\n",
      "epoch 131, loss 0.000100\n",
      "epoch 132, loss 0.000100\n",
      "epoch 133, loss 0.000100\n",
      "epoch 134, loss 0.000100\n",
      "epoch 135, loss 0.000100\n",
      "epoch 136, loss 0.000100\n",
      "epoch 137, loss 0.000100\n",
      "epoch 138, loss 0.000100\n",
      "epoch 139, loss 0.000100\n",
      "epoch 140, loss 0.000100\n",
      "epoch 141, loss 0.000100\n",
      "epoch 142, loss 0.000100\n",
      "epoch 143, loss 0.000100\n",
      "epoch 144, loss 0.000100\n",
      "epoch 145, loss 0.000100\n",
      "epoch 146, loss 0.000100\n",
      "epoch 147, loss 0.000100\n",
      "epoch 148, loss 0.000100\n",
      "epoch 149, loss 0.000100\n",
      "epoch 150, loss 0.000100\n",
      "epoch 151, loss 0.000100\n",
      "epoch 152, loss 0.000100\n",
      "epoch 153, loss 0.000100\n",
      "epoch 154, loss 0.000100\n",
      "epoch 155, loss 0.000100\n",
      "epoch 156, loss 0.000100\n",
      "epoch 157, loss 0.000100\n",
      "epoch 158, loss 0.000100\n",
      "epoch 159, loss 0.000100\n",
      "epoch 160, loss 0.000100\n",
      "epoch 161, loss 0.000100\n",
      "epoch 162, loss 0.000100\n",
      "epoch 163, loss 0.000100\n",
      "epoch 164, loss 0.000100\n",
      "epoch 165, loss 0.000100\n",
      "epoch 166, loss 0.000100\n",
      "epoch 167, loss 0.000100\n",
      "epoch 168, loss 0.000100\n",
      "epoch 169, loss 0.000100\n",
      "epoch 170, loss 0.000100\n",
      "epoch 171, loss 0.000100\n",
      "epoch 172, loss 0.000100\n",
      "epoch 173, loss 0.000100\n",
      "epoch 174, loss 0.000100\n",
      "epoch 175, loss 0.000100\n",
      "epoch 176, loss 0.000100\n",
      "epoch 177, loss 0.000100\n",
      "epoch 178, loss 0.000100\n",
      "epoch 179, loss 0.000100\n",
      "epoch 180, loss 0.000100\n",
      "epoch 181, loss 0.000100\n",
      "epoch 182, loss 0.000100\n",
      "epoch 183, loss 0.000100\n",
      "epoch 184, loss 0.000100\n",
      "epoch 185, loss 0.000100\n",
      "epoch 186, loss 0.000100\n",
      "epoch 187, loss 0.000100\n",
      "epoch 188, loss 0.000100\n",
      "epoch 189, loss 0.000100\n",
      "epoch 190, loss 0.000100\n",
      "epoch 191, loss 0.000100\n",
      "epoch 192, loss 0.000100\n",
      "epoch 193, loss 0.000100\n",
      "epoch 194, loss 0.000100\n",
      "epoch 195, loss 0.000100\n",
      "epoch 196, loss 0.000100\n",
      "epoch 197, loss 0.000100\n",
      "epoch 198, loss 0.000100\n",
      "epoch 199, loss 0.000100\n",
      "epoch 200, loss 0.000100\n"
     ]
    }
   ],
   "source": [
    "lr = 0.01 \n",
    "num_epochs = 200\n",
    "net = linreg\n",
    "loss = squared_loss\n",
    "\n",
    "w_list = []\n",
    "loss_list = []\n",
    "\n",
    "for epoch in range(num_epochs):\n",
    "    for X, y in data_iter(batch_size, features, labels):\n",
    "        l = loss(net(X, w, b), y)\n",
    "        # Compute gradient on `l` with respect to [`w`, `b`]\n",
    "        l.sum().backward()\n",
    "        sgd([w,b], lr, batch_size)\n",
    "    with torch.no_grad():\n",
    "        train_l = loss(net(features, w, b), labels)\n",
    "        print(f'epoch {epoch + 1}, loss {float(train_l.mean()):f}')\n",
    "        \n",
    "    w_list.append(w.clone().detach().numpy())\n",
    "    loss_list.append(torch.mean(train_l))"
   ]
  },
  {
   "cell_type": "code",
   "execution_count": 37,
   "metadata": {
    "id": "u_WSAjwNwMEY",
    "scrolled": true
   },
   "outputs": [
    {
     "name": "stdout",
     "output_type": "stream",
     "text": [
      "error in estimating w: tensor([-3.7193e-05, -2.3580e-04], grad_fn=<SubBackward0>)\n",
      "error in estimating b: tensor([-0.0002], grad_fn=<RsubBackward1>)\n"
     ]
    }
   ],
   "source": [
    "print(f'error in estimating w: {true_w - w.reshape(true_w.shape)}')\n",
    "print(f'error in estimating b: {true_b - b}')"
   ]
  },
  {
   "cell_type": "markdown",
   "metadata": {
    "id": "tDSteRKdREC9"
   },
   "source": [
    "\\+ cost graph 그리기 (x축 w, y축 loss)"
   ]
  },
  {
   "cell_type": "code",
   "execution_count": 53,
   "metadata": {
    "id": "13ySyXh7RMcn"
   },
   "outputs": [
    {
     "data": {
      "image/png": "[encoded data removed]",
      "text/plain": [
       "<Figure size 640x480 with 1 Axes>"
      ]
     },
     "metadata": {},
     "output_type": "display_data"
    }
   ],
   "source": [
    "import numpy as np\n",
    "import matplotlib.pyplot as plt\n",
    "\n",
    "w_list1 = np.array(w_list)\n",
    "loss_list1 = np.array(loss_list)\n",
    "\n",
    "plt.plot(w_list1[:, 0], loss_list1)\n",
    "plt.title('Cost Graph')\n",
    "plt.ylabel('Loss')\n",
    "plt.xlabel('Weight')\n",
    "plt.show() "
   ]
  },
  {
   "cell_type": "markdown",
   "metadata": {
    "id": "WSKKAGx4wNd4"
   },
   "source": [
    "### Concise Implementation of Linear Regression\n",
    "- API 사용해보기"
   ]
  },
  {
   "cell_type": "code",
   "execution_count": 40,
   "metadata": {
    "id": "CWiOlkzKxEkf"
   },
   "outputs": [],
   "source": [
    "import numpy as np\n",
    "import torch\n",
    "from torch.utils import data\n",
    "from d2l import torch as d2l\n",
    "\n",
    "true_w = torch.tensor([3, -1.5])\n",
    "true_b = 5.5\n",
    "features, labels = d2l.synthetic_data(true_w, true_b, 2000)"
   ]
  },
  {
   "cell_type": "code",
   "execution_count": 41,
   "metadata": {
    "id": "F5tRyjkmxGUe"
   },
   "outputs": [],
   "source": [
    "def load_array(data_arrays, batch_size, is_train=True):\n",
    "    \"\"\"Construct a PyTorch data iterator.\"\"\"\n",
    "    dataset = data.TensorDataset(*data_arrays)\n",
    "    return data.DataLoader(dataset, batch_size, shuffle=is_train)\n",
    "\n",
    "batch_size = 20\n",
    "data_iter = load_array((features, labels), batch_size)"
   ]
  },
  {
   "cell_type": "code",
   "execution_count": 42,
   "metadata": {
    "id": "NBaqnZG4xHgP"
   },
   "outputs": [
    {
     "data": {
      "text/plain": [
       "[tensor([[-0.3147, -0.9991],\n",
       "         [-0.0512,  0.5785],\n",
       "         [ 0.0865, -1.8731],\n",
       "         [ 0.5463, -0.8171],\n",
       "         [-0.1054,  0.5491],\n",
       "         [ 0.4881, -0.0617],\n",
       "         [-1.5883,  0.3409],\n",
       "         [-0.0480, -0.9601],\n",
       "         [-0.9876, -1.3973],\n",
       "         [-0.0871, -0.2098],\n",
       "         [-1.6788, -0.1668],\n",
       "         [ 0.5060, -0.2095],\n",
       "         [-2.0846, -1.3338],\n",
       "         [ 0.0752, -1.5302],\n",
       "         [-0.1247,  0.9708],\n",
       "         [-1.4548,  0.5902],\n",
       "         [-0.3093,  0.0646],\n",
       "         [-1.1384, -0.0076],\n",
       "         [-0.4213, -0.4647],\n",
       "         [ 0.7378, -1.8903]]),\n",
       " tensor([[ 6.0628],\n",
       "         [ 4.4808],\n",
       "         [ 8.5680],\n",
       "         [ 8.3676],\n",
       "         [ 4.3488],\n",
       "         [ 7.0623],\n",
       "         [ 0.2176],\n",
       "         [ 6.7990],\n",
       "         [ 4.6415],\n",
       "         [ 5.5467],\n",
       "         [ 0.7280],\n",
       "         [ 7.3346],\n",
       "         [ 1.2605],\n",
       "         [ 8.0397],\n",
       "         [ 3.6647],\n",
       "         [ 0.2375],\n",
       "         [ 4.4794],\n",
       "         [ 2.1073],\n",
       "         [ 4.9435],\n",
       "         [10.5424]])]"
      ]
     },
     "execution_count": 42,
     "metadata": {},
     "output_type": "execute_result"
    }
   ],
   "source": [
    "next(iter(data_iter))"
   ]
  },
  {
   "cell_type": "code",
   "execution_count": 43,
   "metadata": {
    "id": "J_83KBFOxJFB"
   },
   "outputs": [],
   "source": [
    "from torch import nn\n",
    "\n",
    "net = nn.Sequential(nn.Linear(2,1))"
   ]
  },
  {
   "cell_type": "code",
   "execution_count": 44,
   "metadata": {
    "id": "AdJQQgFaxL2H"
   },
   "outputs": [
    {
     "data": {
      "text/plain": [
       "tensor([0.])"
      ]
     },
     "execution_count": 44,
     "metadata": {},
     "output_type": "execute_result"
    }
   ],
   "source": [
    "net[0].weight.data.normal_(0, 0.01)\n",
    "net[0].bias.data.fill_(0)"
   ]
  },
  {
   "cell_type": "code",
   "execution_count": 45,
   "metadata": {
    "id": "vSCAFyfAxNAn"
   },
   "outputs": [],
   "source": [
    "loss = nn.MSELoss() ###api function으로 직접 설정"
   ]
  },
  {
   "cell_type": "code",
   "execution_count": 49,
   "metadata": {
    "id": "_yee2wG1xOYW"
   },
   "outputs": [],
   "source": [
    "trainer = torch.optim.SGD(net.parameters(), lr=0.01) ###api function으로 직접 설정"
   ]
  },
  {
   "cell_type": "code",
   "execution_count": 50,
   "metadata": {
    "id": "5fAmW5bUxP9Z"
   },
   "outputs": [
    {
     "name": "stdout",
     "output_type": "stream",
     "text": [
      "epoch 1, loss 0.717597\n",
      "epoch 2, loss 0.012650\n",
      "epoch 3, loss 0.000334\n"
     ]
    }
   ],
   "source": [
    "num_epochs = 3\n",
    "for epoch in range(num_epochs):\n",
    "    for X, y in data_iter:\n",
    "        l = loss(net(X),y)\n",
    "        trainer.zero_grad()\n",
    "        l.backward()\n",
    "        trainer.step()\n",
    "    l = loss(net(features), labels)\n",
    "    print(f'epoch {epoch + 1}, loss {l:f}')"
   ]
  },
  {
   "cell_type": "code",
   "execution_count": 51,
   "metadata": {
    "id": "JT8VD6GhxR5m"
   },
   "outputs": [
    {
     "name": "stdout",
     "output_type": "stream",
     "text": [
      "error in estimating w: tensor([ 0.0052, -0.0055])\n",
      "error in estimating b: tensor([0.0134])\n"
     ]
    }
   ],
   "source": [
    "w = net[0].weight.data ##학습결과 w 구하는 식\n",
    "print('error in estimating w:', true_w - w.reshape(true_w.shape))\n",
    "b = net[0].bias.data ###학습결과 b 구하는 식\n",
    "print('error in estimating b:', true_b - b)"
   ]
  }
 ],
 "metadata": {
  "colab": {
   "provenance": []
  },
  "kernelspec": {
   "display_name": "Python 3 (ipykernel)",
   "language": "python",
   "name": "python3"
  },
  "language_info": {
   "codemirror_mode": {
    "name": "ipython",
    "version": 3
   },
   "file_extension": ".py",
   "mimetype": "text/x-python",
   "name": "python",
   "nbconvert_exporter": "python",
   "pygments_lexer": "ipython3",
   "version": "3.11.5"
  }
 },
 "nbformat": 4,
 "nbformat_minor": 4
}
