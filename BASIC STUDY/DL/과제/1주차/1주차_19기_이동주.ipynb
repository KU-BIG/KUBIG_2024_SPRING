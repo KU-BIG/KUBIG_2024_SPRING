{
 "cells": [
  {
   "cell_type": "markdown",
   "metadata": {
    "id": "YffDGVSIxijw"
   },
   "source": [
    "# 1주차 과제\n",
    "- 파이토치 시작하기 및 간단한 코드 빈칸 채워넣기"
   ]
  },
  {
   "cell_type": "markdown",
   "metadata": {
    "id": "MivAstLj4EpN"
   },
   "source": [
    "## 파이토치 시작하기"
   ]
  },
  {
   "cell_type": "code",
   "execution_count": 2,
   "metadata": {},
   "outputs": [],
   "source": [
    "#! pip install torch"
   ]
  },
  {
   "cell_type": "code",
   "execution_count": 3,
   "metadata": {
    "id": "BS39ZJTi4CD0"
   },
   "outputs": [],
   "source": [
    "import torch"
   ]
  },
  {
   "cell_type": "markdown",
   "metadata": {
    "id": "ixz0WyWH4kSJ"
   },
   "source": [
    "- tensor 개념 파악 (array of numerical values(vector, matrix..))\n",
    "- 4x3 행렬 두 개 만들고 행으로 병합, 열로 병합\n"
   ]
  },
  {
   "cell_type": "code",
   "execution_count": 4,
   "metadata": {
    "id": "OlLUsvmL4kEY"
   },
   "outputs": [
    {
     "name": "stdout",
     "output_type": "stream",
     "text": [
      "X \n",
      "tensor([[0.5664, 0.9034, 0.8156],\n",
      "        [0.2493, 0.7528, 0.9798],\n",
      "        [0.6514, 0.6104, 0.6428],\n",
      "        [0.9690, 0.4572, 0.3797]])\n",
      "Y \n",
      "tensor([[0.8123, 0.1550, 0.6578],\n",
      "        [0.5755, 0.7968, 0.5714],\n",
      "        [0.6669, 0.4627, 0.8454],\n",
      "        [0.1101, 0.6544, 0.3038]])\n",
      "Merged by row \n",
      "tensor([[0.5664, 0.9034, 0.8156],\n",
      "        [0.2493, 0.7528, 0.9798],\n",
      "        [0.6514, 0.6104, 0.6428],\n",
      "        [0.9690, 0.4572, 0.3797],\n",
      "        [0.8123, 0.1550, 0.6578],\n",
      "        [0.5755, 0.7968, 0.5714],\n",
      "        [0.6669, 0.4627, 0.8454],\n",
      "        [0.1101, 0.6544, 0.3038]])\n",
      "Merged by column \n",
      " tensor([[0.5664, 0.9034, 0.8156, 0.8123, 0.1550, 0.6578],\n",
      "        [0.2493, 0.7528, 0.9798, 0.5755, 0.7968, 0.5714],\n",
      "        [0.6514, 0.6104, 0.6428, 0.6669, 0.4627, 0.8454],\n",
      "        [0.9690, 0.4572, 0.3797, 0.1101, 0.6544, 0.3038]])\n"
     ]
    }
   ],
   "source": [
    "import random\n",
    "\n",
    "random.seed(42)\n",
    "\n",
    "X=torch.rand(4, 3)\n",
    "Y=torch.rand(4, 3)\n",
    "\n",
    "print(f\"X \\n{X}\")\n",
    "print(f\"Y \\n{Y}\")\n",
    "\n",
    "# 행으로 병합 코드\n",
    "row_merge=torch.cat((X, Y), dim=0)\n",
    "print(f\"Merged by row \\n{row_merge}\")\n",
    "\n",
    "# 열로 병합 코드\n",
    "col_merge=torch.cat((X, Y), dim=1)\n",
    "print(f\"Merged by column \\n {col_merge}\")"
   ]
  },
  {
   "cell_type": "markdown",
   "metadata": {
    "id": "Gh-1LJliusEc"
   },
   "source": [
    "### Linear Regression Implementation from Scratch\n",
    "- 머신러닝 기초와 비슷한 내용이지만 파이토치로 실행해보며 익숙해지는것이 목표\n"
   ]
  },
  {
   "cell_type": "code",
   "execution_count": 5,
   "metadata": {},
   "outputs": [],
   "source": [
    "#! pip install --upgrade pip"
   ]
  },
  {
   "cell_type": "code",
   "execution_count": 6,
   "metadata": {
    "id": "Ybbbqg8TqAVR"
   },
   "outputs": [],
   "source": [
    "#! pip install d2l"
   ]
  },
  {
   "cell_type": "code",
   "execution_count": 7,
   "metadata": {
    "id": "YyWEB6e3FKYY"
   },
   "outputs": [],
   "source": [
    "%matplotlib inline\n",
    "import random\n",
    "import torch\n",
    "from d2l import torch as d2l"
   ]
  },
  {
   "cell_type": "code",
   "execution_count": 8,
   "metadata": {
    "id": "exWjbVn2v3CT"
   },
   "outputs": [],
   "source": [
    "def synthetic_data(w, b, num_examples):\n",
    "    \"\"\"Generate y = Xw + b + noise.\"\"\"\n",
    "    X = torch.normal(0, 1, (num_examples, len(w)))\n",
    "    y = torch.matmul(X, w) + b\n",
    "    y += torch.normal(0, 0.01, y.shape)\n",
    "    return X, y.reshape((-1, 1))\n",
    "\n",
    "true_w = torch.tensor([3, -1.5])\n",
    "true_b = 5.5\n",
    "features, labels = synthetic_data(true_w, true_b, 2000)"
   ]
  },
  {
   "cell_type": "code",
   "execution_count": 9,
   "metadata": {
    "id": "5UcjckXPv6iy"
   },
   "outputs": [
    {
     "name": "stdout",
     "output_type": "stream",
     "text": [
      "features: tensor([-0.3070,  0.3424]) \n",
      "label: tensor([4.0572])\n"
     ]
    }
   ],
   "source": [
    "print('features:', features[0],'\\nlabel:', labels[0])"
   ]
  },
  {
   "cell_type": "code",
   "execution_count": 10,
   "metadata": {
    "id": "jLY6YR5Zv_gO"
   },
   "outputs": [],
   "source": [
    "def data_iter(batch_size, features, labels):\n",
    "    num_examples = len(features)\n",
    "    indices = list(range(num_examples))\n",
    "    # The examples are read at random, in no particular order\n",
    "    random.shuffle(indices)\n",
    "     ###반복문으로 채워넣기:\n",
    "    for i in range(0, num_examples, batch_size):\n",
    "        ##이하는 반복문에 대한 조건입니다.\n",
    "        batch_indices = torch.tensor(\n",
    "            indices[i: min(i + batch_size, num_examples)])\n",
    "        yield features[batch_indices], labels[batch_indices]"
   ]
  },
  {
   "cell_type": "code",
   "execution_count": 11,
   "metadata": {
    "id": "zuxxEAvdwA7p"
   },
   "outputs": [
    {
     "name": "stdout",
     "output_type": "stream",
     "text": [
      "tensor([[-1.0040e+00, -1.1041e+00],\n",
      "        [ 1.7736e-03, -7.8571e-01],\n",
      "        [-2.6284e+00, -1.6668e-02],\n",
      "        [-1.4085e+00, -6.9806e-01],\n",
      "        [-2.4025e-01, -1.8008e+00],\n",
      "        [ 2.1151e-01, -1.3948e+00],\n",
      "        [-1.6040e+00, -5.0209e-01],\n",
      "        [ 7.0501e-01,  1.7417e+00],\n",
      "        [ 2.4600e+00,  9.2965e-01],\n",
      "        [-1.2080e+00, -1.3926e-01],\n",
      "        [ 7.2483e-01, -2.8311e-01],\n",
      "        [-2.7586e-01, -1.5653e-01],\n",
      "        [-4.0325e-01, -1.8808e+00],\n",
      "        [-1.0841e+00,  1.9510e+00],\n",
      "        [ 5.5160e-01,  1.7517e+00],\n",
      "        [-3.9500e-02, -4.3283e-01],\n",
      "        [ 2.8310e-01, -1.4380e+00],\n",
      "        [-1.2721e+00, -1.1788e+00],\n",
      "        [ 1.9981e+00,  1.1008e+00],\n",
      "        [ 1.0983e+00,  7.6666e-01]]) \n",
      " tensor([[ 4.1423],\n",
      "        [ 6.6821],\n",
      "        [-2.3465],\n",
      "        [ 2.3329],\n",
      "        [ 7.4750],\n",
      "        [ 8.2331],\n",
      "        [ 1.4373],\n",
      "        [ 5.0059],\n",
      "        [11.4966],\n",
      "        [ 2.0925],\n",
      "        [ 8.1082],\n",
      "        [ 4.9023],\n",
      "        [ 7.1142],\n",
      "        [-0.6871],\n",
      "        [ 4.5341],\n",
      "        [ 6.0447],\n",
      "        [ 8.5086],\n",
      "        [ 3.4532],\n",
      "        [ 9.8461],\n",
      "        [ 7.6427]])\n"
     ]
    }
   ],
   "source": [
    "batch_size = 20\n",
    "\n",
    "for X, y in data_iter(batch_size, features, labels):\n",
    "    print(X, '\\n', y)\n",
    "    break"
   ]
  },
  {
   "cell_type": "code",
   "execution_count": 12,
   "metadata": {
    "id": "f_yHcVYEwCHq"
   },
   "outputs": [],
   "source": [
    "w = torch.normal(0, 0.01, size=(2,1), requires_grad=True)\n",
    "b = torch.tensor([0])#원하는 실수를 넣어주세요"
   ]
  },
  {
   "cell_type": "code",
   "execution_count": 13,
   "metadata": {
    "id": "wOT4gBtZwDVA"
   },
   "outputs": [],
   "source": [
    "def linreg(X, w, b):\n",
    "    \"\"\"The linear regression model.\"\"\"\n",
    "    return torch.matmul(X, w) + b"
   ]
  },
  {
   "cell_type": "code",
   "execution_count": 14,
   "metadata": {
    "id": "WFYMJrrSwE5R"
   },
   "outputs": [],
   "source": [
    "def squared_loss(y_hat, y):\n",
    "    \"\"\"Squared loss.\"\"\"\n",
    "    return torch.mean((y_hat - y)**2)"
   ]
  },
  {
   "cell_type": "code",
   "execution_count": 15,
   "metadata": {
    "id": "MXD0qP8PwIn0"
   },
   "outputs": [],
   "source": [
    "def sgd(params, lr, batch_size):\n",
    "    \"\"\"Minibatch stochastic gradient descent.\"\"\"\n",
    "    with torch.no_grad():\n",
    "        for param in params:\n",
    "            if param.grad is not None: \n",
    "                param -= lr * param.grad / batch_size\n",
    "                param.grad.zero_()"
   ]
  },
  {
   "cell_type": "code",
   "execution_count": 16,
   "metadata": {
    "id": "pS_hm3J8wJ4z"
   },
   "outputs": [
    {
     "name": "stdout",
     "output_type": "stream",
     "text": [
      "epoch 1, loss 38.720753\n",
      "epoch 2, loss 37.179298\n",
      "epoch 3, loss 35.918709\n",
      "epoch 4, loss 34.887508\n",
      "epoch 5, loss 34.041553\n",
      "epoch 6, loss 33.350891\n",
      "epoch 7, loss 32.787277\n",
      "epoch 8, loss 32.326180\n",
      "epoch 9, loss 31.947897\n",
      "epoch 10, loss 31.637262\n",
      "epoch 11, loss 31.382780\n",
      "epoch 12, loss 31.175211\n",
      "epoch 13, loss 31.004635\n",
      "epoch 14, loss 30.866262\n",
      "epoch 15, loss 30.752981\n",
      "epoch 16, loss 30.660015\n",
      "epoch 17, loss 30.583698\n",
      "epoch 18, loss 30.521025\n",
      "epoch 19, loss 30.470165\n",
      "epoch 20, loss 30.428219\n",
      "epoch 21, loss 30.394011\n",
      "epoch 22, loss 30.366318\n",
      "epoch 23, loss 30.342834\n",
      "epoch 24, loss 30.324003\n",
      "epoch 25, loss 30.307884\n",
      "epoch 26, loss 30.295282\n",
      "epoch 27, loss 30.284864\n",
      "epoch 28, loss 30.276468\n",
      "epoch 29, loss 30.269390\n",
      "epoch 30, loss 30.264000\n",
      "epoch 31, loss 30.259361\n",
      "epoch 32, loss 30.255648\n",
      "epoch 33, loss 30.252510\n",
      "epoch 34, loss 30.250031\n",
      "epoch 35, loss 30.247858\n",
      "epoch 36, loss 30.246111\n",
      "epoch 37, loss 30.244783\n",
      "epoch 38, loss 30.243620\n",
      "epoch 39, loss 30.242632\n",
      "epoch 40, loss 30.241884\n",
      "epoch 41, loss 30.241285\n",
      "epoch 42, loss 30.240791\n",
      "epoch 43, loss 30.240368\n",
      "epoch 44, loss 30.240026\n",
      "epoch 45, loss 30.239689\n",
      "epoch 46, loss 30.239452\n",
      "epoch 47, loss 30.239283\n",
      "epoch 48, loss 30.239117\n",
      "epoch 49, loss 30.238983\n",
      "epoch 50, loss 30.238899\n"
     ]
    }
   ],
   "source": [
    "lr = 0.01\n",
    "num_epochs = 50\n",
    "net = linreg\n",
    "loss = squared_loss\n",
    "\n",
    "w_list=[]\n",
    "l_list=[]\n",
    "\n",
    "for epoch in range(num_epochs):\n",
    "    for X, y in data_iter(batch_size, features, labels):\n",
    "        l = loss(net(X, w, b), y)\n",
    "        # Compute gradient on `l` with respect to [`w`, `b`]\n",
    "        l.sum().backward()\n",
    "        sgd([w, b], lr, batch_size)\n",
    "    with torch.no_grad():\n",
    "        train_l = loss(net(features, w, b), labels)\n",
    "        print(f'epoch {epoch + 1}, loss {float(train_l.mean()):f}')\n",
    "        \n",
    "        w_list.append(w.detach().numpy().copy()) \n",
    "        l_list.append(float(train_l.mean()))"
   ]
  },
  {
   "cell_type": "code",
   "execution_count": 17,
   "metadata": {},
   "outputs": [
    {
     "data": {
      "text/plain": [
       "[array([[ 0.28359205],\n",
       "        [-0.14139944]], dtype=float32),\n",
       " array([[ 0.53290534],\n",
       "        [-0.26395905]], dtype=float32),\n",
       " array([[ 0.75825363],\n",
       "        [-0.37483308]], dtype=float32),\n",
       " array([[ 0.96225977],\n",
       "        [-0.47460428]], dtype=float32),\n",
       " array([[ 1.1469797],\n",
       "        [-0.5656799]], dtype=float32),\n",
       " array([[ 1.3142326 ],\n",
       "        [-0.64680916]], dtype=float32),\n",
       " array([[ 1.4644958],\n",
       "        [-0.7211735]], dtype=float32),\n",
       " array([[ 1.6005327],\n",
       "        [-0.7879993]], dtype=float32),\n",
       " array([[ 1.7242357 ],\n",
       "        [-0.84780276]], dtype=float32),\n",
       " array([[ 1.8360295],\n",
       "        [-0.9030678]], dtype=float32)]"
      ]
     },
     "execution_count": 17,
     "metadata": {},
     "output_type": "execute_result"
    }
   ],
   "source": [
    "w_list[:10]"
   ]
  },
  {
   "cell_type": "code",
   "execution_count": 18,
   "metadata": {},
   "outputs": [
    {
     "data": {
      "text/plain": [
       "[38.72075271606445,\n",
       " 37.179298400878906,\n",
       " 35.91870880126953,\n",
       " 34.887508392333984,\n",
       " 34.04155349731445,\n",
       " 33.35089111328125,\n",
       " 32.78727722167969,\n",
       " 32.32617950439453,\n",
       " 31.94789695739746,\n",
       " 31.63726234436035]"
      ]
     },
     "execution_count": 18,
     "metadata": {},
     "output_type": "execute_result"
    }
   ],
   "source": [
    "l_list[:10]"
   ]
  },
  {
   "cell_type": "code",
   "execution_count": 19,
   "metadata": {
    "id": "u_WSAjwNwMEY"
   },
   "outputs": [
    {
     "name": "stdout",
     "output_type": "stream",
     "text": [
      "error in estimating w: tensor([ 0.1235, -0.0834], grad_fn=<SubBackward0>)\n",
      "error in estimating b: tensor([5.5000])\n"
     ]
    }
   ],
   "source": [
    "print(f'error in estimating w: {true_w - w.reshape(true_w.shape)}')\n",
    "print(f'error in estimating b: {true_b - b}')"
   ]
  },
  {
   "cell_type": "markdown",
   "metadata": {
    "id": "tDSteRKdREC9"
   },
   "source": [
    "\\+ cost graph 그리기 (x축 w, y축 loss)"
   ]
  },
  {
   "cell_type": "code",
   "execution_count": 20,
   "metadata": {
    "id": "13ySyXh7RMcn"
   },
   "outputs": [
    {
     "data": {
      "image/png": "[encoded data removed]",
      "text/plain": [
       "<Figure size 640x480 with 1 Axes>"
      ]
     },
     "metadata": {},
     "output_type": "display_data"
    }
   ],
   "source": [
    "import matplotlib.pyplot as plt\n",
    "import numpy as np\n",
    "\n",
    "w_list_n=np.array(w_list)\n",
    "l_list_n=np.array(l_list)\n",
    "\n",
    "plt.plot(w_list_n[:, 0], l_list_n)\n",
    "plt.xlabel('Weight(w0)')\n",
    "plt.ylabel('Loss')\n",
    "plt.show()"
   ]
  },
  {
   "cell_type": "markdown",
   "metadata": {
    "id": "WSKKAGx4wNd4"
   },
   "source": [
    "### Concise Implementation of Linear Regression\n",
    "- API 사용해보기"
   ]
  },
  {
   "cell_type": "code",
   "execution_count": 21,
   "metadata": {
    "id": "CWiOlkzKxEkf"
   },
   "outputs": [],
   "source": [
    "import torch\n",
    "from torch.utils import data\n",
    "from d2l import torch as d2l\n",
    "\n",
    "true_w = torch.tensor([3, -1.5])\n",
    "true_b = 5.5\n",
    "features, labels = d2l.synthetic_data(true_w, true_b, 2000)"
   ]
  },
  {
   "cell_type": "code",
   "execution_count": 22,
   "metadata": {
    "id": "F5tRyjkmxGUe"
   },
   "outputs": [],
   "source": [
    "def load_array(data_arrays, batch_size, is_train=True):\n",
    "    \"\"\"Construct a PyTorch data iterator.\"\"\"\n",
    "    dataset = data.TensorDataset(*data_arrays)\n",
    "    return data.DataLoader(dataset, batch_size, shuffle=is_train)\n",
    "\n",
    "batch_size = 20\n",
    "data_iter = load_array((features, labels), batch_size)"
   ]
  },
  {
   "cell_type": "code",
   "execution_count": 23,
   "metadata": {
    "id": "NBaqnZG4xHgP"
   },
   "outputs": [
    {
     "data": {
      "text/plain": [
       "[tensor([[ 0.4043,  0.5056],\n",
       "         [-0.1689,  0.8111],\n",
       "         [ 2.2652,  0.8988],\n",
       "         [-1.3034,  1.3515],\n",
       "         [ 0.2084, -0.0411],\n",
       "         [-0.4501, -0.9921],\n",
       "         [-0.6226, -0.4954],\n",
       "         [-1.6069,  1.0765],\n",
       "         [-0.8715, -0.9102],\n",
       "         [ 0.1581, -0.7074],\n",
       "         [ 0.8548,  1.3807],\n",
       "         [ 1.2926,  0.1981],\n",
       "         [-0.8576,  0.9699],\n",
       "         [-0.6992, -0.2044],\n",
       "         [-0.4577,  0.0954],\n",
       "         [ 0.9921, -0.5464],\n",
       "         [-0.5158,  1.5251],\n",
       "         [-0.7038, -0.7649],\n",
       "         [ 0.5437,  0.5139],\n",
       "         [-0.9496,  1.0568]]),\n",
       " tensor([[ 5.9461],\n",
       "         [ 3.7683],\n",
       "         [10.9490],\n",
       "         [-0.4454],\n",
       "         [ 6.1846],\n",
       "         [ 5.6377],\n",
       "         [ 4.3687],\n",
       "         [-0.9410],\n",
       "         [ 4.2424],\n",
       "         [ 7.0372],\n",
       "         [ 5.9904],\n",
       "         [ 9.0718],\n",
       "         [ 1.4587],\n",
       "         [ 3.7134],\n",
       "         [ 3.9957],\n",
       "         [ 9.2878],\n",
       "         [ 1.6609],\n",
       "         [ 4.5353],\n",
       "         [ 6.3739],\n",
       "         [ 1.0678]])]"
      ]
     },
     "execution_count": 23,
     "metadata": {},
     "output_type": "execute_result"
    }
   ],
   "source": [
    "next(iter(data_iter))"
   ]
  },
  {
   "cell_type": "code",
   "execution_count": 24,
   "metadata": {
    "id": "J_83KBFOxJFB"
   },
   "outputs": [],
   "source": [
    "from torch import nn\n",
    "\n",
    "net = nn.Sequential(nn.Linear(2, 1))"
   ]
  },
  {
   "cell_type": "code",
   "execution_count": 25,
   "metadata": {
    "id": "AdJQQgFaxL2H"
   },
   "outputs": [
    {
     "data": {
      "text/plain": [
       "tensor([0.])"
      ]
     },
     "execution_count": 25,
     "metadata": {},
     "output_type": "execute_result"
    }
   ],
   "source": [
    "net[0].weight.data.normal_(0, 0.01)\n",
    "net[0].bias.data.fill_(0)"
   ]
  },
  {
   "cell_type": "code",
   "execution_count": 26,
   "metadata": {
    "id": "vSCAFyfAxNAn"
   },
   "outputs": [],
   "source": [
    "loss = nn.MSELoss()"
   ]
  },
  {
   "cell_type": "code",
   "execution_count": 27,
   "metadata": {
    "id": "_yee2wG1xOYW"
   },
   "outputs": [],
   "source": [
    "trainer = torch.optim.SGD(net.parameters(), lr=0.01)"
   ]
  },
  {
   "cell_type": "code",
   "execution_count": 28,
   "metadata": {
    "id": "5fAmW5bUxP9Z"
   },
   "outputs": [
    {
     "name": "stdout",
     "output_type": "stream",
     "text": [
      "epoch 1, loss 0.755776\n",
      "epoch 2, loss 0.014035\n",
      "epoch 3, loss 0.000351\n"
     ]
    }
   ],
   "source": [
    "num_epochs = 3\n",
    "for epoch in range(num_epochs):\n",
    "    for X, y in data_iter:\n",
    "        l = loss(net(X), y)\n",
    "        trainer.zero_grad()\n",
    "        l.backward()\n",
    "        trainer.step()\n",
    "    l = loss(net(features), labels)\n",
    "    print(f'epoch {epoch + 1}, loss {l:f}')"
   ]
  },
  {
   "cell_type": "code",
   "execution_count": 29,
   "metadata": {
    "id": "JT8VD6GhxR5m"
   },
   "outputs": [
    {
     "name": "stdout",
     "output_type": "stream",
     "text": [
      "error in estimating w: tensor([ 0.0078, -0.0037])\n",
      "error in estimating b: tensor([0.0134])\n"
     ]
    }
   ],
   "source": [
    "w = net[0].weight.data\n",
    "print('error in estimating w:', true_w - w.reshape(true_w.shape))\n",
    "b = net[0].bias.data\n",
    "print('error in estimating b:', true_b - b)"
   ]
  },
  {
   "cell_type": "code",
   "execution_count": null,
   "metadata": {},
   "outputs": [],
   "source": []
  }
 ],
 "metadata": {
  "colab": {
   "provenance": []
  },
  "kernelspec": {
   "display_name": "Python 3 (ipykernel)",
   "language": "python",
   "name": "python3"
  },
  "language_info": {
   "codemirror_mode": {
    "name": "ipython",
    "version": 3
   },
   "file_extension": ".py",
   "mimetype": "text/x-python",
   "name": "python",
   "nbconvert_exporter": "python",
   "pygments_lexer": "ipython3",
   "version": "3.9.12"
  }
 },
 "nbformat": 4,
 "nbformat_minor": 1
}
