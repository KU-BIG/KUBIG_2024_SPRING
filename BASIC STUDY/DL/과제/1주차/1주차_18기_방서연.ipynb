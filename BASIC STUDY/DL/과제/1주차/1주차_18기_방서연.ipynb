{
  "cells": [
    {
      "cell_type": "markdown",
      "metadata": {
        "id": "YffDGVSIxijw"
      },
      "source": [
        "# 1주차 과제\n",
        "- 파이토치 시작하기 및 간단한 코드 빈칸 채워넣기"
      ]
    },
    {
      "cell_type": "markdown",
      "metadata": {
        "id": "MivAstLj4EpN"
      },
      "source": [
        "## 파이토치 시작하기"
      ]
    },
    {
      "cell_type": "code",
      "execution_count": 1,
      "metadata": {
        "id": "BS39ZJTi4CD0"
      },
      "outputs": [],
      "source": [
        "import torch"
      ]
    },
    {
      "cell_type": "markdown",
      "metadata": {
        "id": "ixz0WyWH4kSJ"
      },
      "source": [
        "- tensor 개념 파악 (array of numerical values(vector, matrix..))\n",
        "- 4x3 행렬 두 개 만들고 행으로 병합, 열로 병합\n"
      ]
    },
    {
      "cell_type": "code",
      "execution_count": 2,
      "metadata": {
        "id": "OlLUsvmL4kEY"
      },
      "outputs": [],
      "source": [
        "x=torch.tensor([[0,1,2,3],\n",
        "           [4,5,6,7],\n",
        "           [8,9,10,11]])\n",
        "y=torch.tensor([[12,13,14,15],\n",
        "          [16,17,18,19],\n",
        "          [20,21,22,23]])"
      ]
    },
    {
      "cell_type": "code",
      "source": [
        "# 행으로 병합 코드\n",
        "torch.cat((x,y), dim=0)\n",
        "torch.concat((x,y), dim=0)\n",
        "torch.vstack((x,y))\n",
        "torch.row_stack((x,y))"
      ],
      "metadata": {
        "colab": {
          "base_uri": "https://localhost:8080/"
        },
        "id": "3pfU2RztovPL",
        "outputId": "2af8ce78-e695-4b03-eace-136ea496a3af"
      },
      "execution_count": 3,
      "outputs": [
        {
          "output_type": "execute_result",
          "data": {
            "text/plain": [
              "tensor([[ 0,  1,  2,  3],\n",
              "        [ 4,  5,  6,  7],\n",
              "        [ 8,  9, 10, 11],\n",
              "        [12, 13, 14, 15],\n",
              "        [16, 17, 18, 19],\n",
              "        [20, 21, 22, 23]])"
            ]
          },
          "metadata": {},
          "execution_count": 3
        }
      ]
    },
    {
      "cell_type": "code",
      "source": [
        "# 열로 병합 코드\n",
        "torch.cat((x,y), dim=1)\n",
        "torch.concat((x,y), dim=1)\n",
        "torch.hstack((x,y))\n",
        "torch.column_stack((x,y))"
      ],
      "metadata": {
        "colab": {
          "base_uri": "https://localhost:8080/"
        },
        "id": "vAFAre7RovVf",
        "outputId": "1c003f3f-fc06-4d52-c285-761183294a78"
      },
      "execution_count": 4,
      "outputs": [
        {
          "output_type": "execute_result",
          "data": {
            "text/plain": [
              "tensor([[ 0,  1,  2,  3, 12, 13, 14, 15],\n",
              "        [ 4,  5,  6,  7, 16, 17, 18, 19],\n",
              "        [ 8,  9, 10, 11, 20, 21, 22, 23]])"
            ]
          },
          "metadata": {},
          "execution_count": 4
        }
      ]
    },
    {
      "cell_type": "markdown",
      "source": [
        "참고: https://rfriend.tistory.com/781\n",
        "\n"
      ],
      "metadata": {
        "id": "9sZvYhx1lJo9"
      }
    },
    {
      "cell_type": "markdown",
      "metadata": {
        "id": "Gh-1LJliusEc"
      },
      "source": [
        "### Linear Regression Implementation from Scratch\n",
        "- 머신러닝 기초와 비슷한 내용이지만 파이토치로 실행해보며 익숙해지는것이 목표\n"
      ]
    },
    {
      "cell_type": "code",
      "execution_count": null,
      "metadata": {
        "id": "Ybbbqg8TqAVR"
      },
      "outputs": [],
      "source": [
        "!pip install d2l # d2l 라이브러리에서 제공하는 기능 사용 위함"
      ]
    },
    {
      "cell_type": "code",
      "execution_count": 6,
      "metadata": {
        "id": "YyWEB6e3FKYY"
      },
      "outputs": [],
      "source": [
        "%matplotlib inline\n",
        "import random\n",
        "import torch\n",
        "from d2l import torch as d2l"
      ]
    },
    {
      "cell_type": "code",
      "execution_count": 7,
      "metadata": {
        "id": "exWjbVn2v3CT"
      },
      "outputs": [],
      "source": [
        "def synthetic_data(w, b, num_examples):\n",
        "    \"\"\"Generate y = Xw + b + noise.\"\"\"\n",
        "    X = torch.normal(0, 1, (num_examples, len(w)))\n",
        "    y = torch.matmul(X, w) + b\n",
        "    y += torch.normal(0, 0.01, y.shape)\n",
        "    return X, y.reshape((-1, 1))\n",
        "\n",
        "true_w = torch.tensor([3, -1.5])\n",
        "true_b = 5.5\n",
        "features, labels = synthetic_data(true_w, true_b, 2000)"
      ]
    },
    {
      "cell_type": "code",
      "execution_count": 8,
      "metadata": {
        "id": "5UcjckXPv6iy",
        "colab": {
          "base_uri": "https://localhost:8080/"
        },
        "outputId": "75c26534-2353-4172-8426-c13e1577320e"
      },
      "outputs": [
        {
          "output_type": "stream",
          "name": "stdout",
          "text": [
            "features: tensor([0.5071, 0.0602]) \n",
            "label: tensor([6.9327])\n"
          ]
        }
      ],
      "source": [
        "print('features:', features[0],'\\nlabel:', labels[0])"
      ]
    },
    {
      "cell_type": "code",
      "execution_count": 9,
      "metadata": {
        "id": "jLY6YR5Zv_gO"
      },
      "outputs": [],
      "source": [
        "def data_iter(batch_size, features, labels):\n",
        "    num_examples = len(features)\n",
        "    indices = list(range(num_examples))\n",
        "    # The examples are read at random, in no particular order\n",
        "    random.shuffle(indices)\n",
        "     ###반복문으로 채워넣기:\n",
        "    for i in range(0, num_examples, batch_size):\n",
        "        ##이하는 반복문에 대한 조건입니다.\n",
        "        batch_indices = torch.tensor(\n",
        "            indices[i: min(i + batch_size, num_examples)])\n",
        "        yield features[batch_indices], labels[batch_indices]"
      ]
    },
    {
      "cell_type": "code",
      "execution_count": 10,
      "metadata": {
        "id": "zuxxEAvdwA7p",
        "colab": {
          "base_uri": "https://localhost:8080/"
        },
        "outputId": "1caee8b0-89ff-4b20-cf4b-661afdf014a5"
      },
      "outputs": [
        {
          "output_type": "stream",
          "name": "stdout",
          "text": [
            "tensor([[-1.0407, -0.4409],\n",
            "        [ 0.7022, -0.1188],\n",
            "        [-1.7817,  0.0624],\n",
            "        [ 1.4326, -0.4631],\n",
            "        [-0.8483,  0.1570],\n",
            "        [-1.1318, -0.5722],\n",
            "        [ 0.1579, -0.8677],\n",
            "        [ 1.2163,  0.6299],\n",
            "        [-0.0143,  0.4118],\n",
            "        [ 0.6238,  0.6888],\n",
            "        [ 1.2838,  0.0426],\n",
            "        [-0.3819, -0.3899],\n",
            "        [ 1.3622,  0.4350],\n",
            "        [-0.7465, -0.6004],\n",
            "        [-0.2444,  0.4831],\n",
            "        [ 1.0845,  0.6421],\n",
            "        [ 1.3647,  0.6697],\n",
            "        [-0.7809,  0.6533],\n",
            "        [ 3.2396,  1.4488],\n",
            "        [-1.7378,  2.1311]]) \n",
            " tensor([[ 3.0428],\n",
            "        [ 7.7964],\n",
            "        [ 0.0571],\n",
            "        [10.5025],\n",
            "        [ 2.6922],\n",
            "        [ 2.9575],\n",
            "        [ 7.2604],\n",
            "        [ 8.2124],\n",
            "        [ 4.8254],\n",
            "        [ 6.3291],\n",
            "        [ 9.2984],\n",
            "        [ 4.9394],\n",
            "        [ 8.9311],\n",
            "        [ 4.1718],\n",
            "        [ 4.0521],\n",
            "        [ 7.7980],\n",
            "        [ 8.5943],\n",
            "        [ 2.1789],\n",
            "        [13.0562],\n",
            "        [-2.9125]])\n"
          ]
        }
      ],
      "source": [
        "batch_size = 20\n",
        "\n",
        "for X, y in data_iter(batch_size, features, labels):\n",
        "    print(X, '\\n', y)\n",
        "    break"
      ]
    },
    {
      "cell_type": "code",
      "execution_count": 11,
      "metadata": {
        "id": "f_yHcVYEwCHq"
      },
      "outputs": [],
      "source": [
        "w = torch.normal(0, 0.01, size=(2,1), requires_grad=True)\n",
        "#원하는 실수를 넣어주세요\n",
        "b = torch.tensor([0.5], requires_grad=True) # 옵션 없어도"
      ]
    },
    {
      "cell_type": "code",
      "execution_count": 12,
      "metadata": {
        "id": "wOT4gBtZwDVA"
      },
      "outputs": [],
      "source": [
        "def linreg(X, w, b):\n",
        "    \"\"\"The linear regression model.\"\"\"\n",
        "    return torch.matmul(X,w)+b ###lr func 코드 완성하기"
      ]
    },
    {
      "cell_type": "code",
      "execution_count": 13,
      "metadata": {
        "id": "WFYMJrrSwE5R"
      },
      "outputs": [],
      "source": [
        "def squared_loss(y_hat, y):\n",
        "    \"\"\"Squared loss.\"\"\"\n",
        "    return torch.mean((y_hat-y)**2) ###loss function 직접 짜보기 (y_hat-y)^2?"
      ]
    },
    {
      "cell_type": "code",
      "execution_count": 14,
      "metadata": {
        "id": "MXD0qP8PwIn0"
      },
      "outputs": [],
      "source": [
        "def sgd(params, lr, batch_size):\n",
        "    \"\"\"Minibatch stochastic gradient descent.\"\"\"\n",
        "    with torch.no_grad():\n",
        "        ###반복문으로 채워넣기\n",
        "        for param in params:\n",
        "          # 초기화?\n",
        "            param -= lr * param.grad / batch_size\n",
        "            param.grad.zero_() #check"
      ]
    },
    {
      "cell_type": "code",
      "execution_count": 15,
      "metadata": {
        "id": "pS_hm3J8wJ4z",
        "colab": {
          "base_uri": "https://localhost:8080/"
        },
        "outputId": "882b931f-f40a-4fc1-d60d-e7b0319a1e7c"
      },
      "outputs": [
        {
          "output_type": "stream",
          "name": "stdout",
          "text": [
            "epoch 1, loss 29.582438\n",
            "epoch 2, loss 24.240215\n",
            "epoch 3, loss 19.863668\n",
            "epoch 4, loss 16.278065\n",
            "epoch 5, loss 13.340344\n",
            "epoch 6, loss 10.933336\n",
            "epoch 7, loss 8.961084\n",
            "epoch 8, loss 7.344944\n",
            "epoch 9, loss 6.020584\n",
            "epoch 10, loss 4.935289\n",
            "epoch 11, loss 4.045820\n",
            "epoch 12, loss 3.316848\n",
            "epoch 13, loss 2.719362\n",
            "epoch 14, loss 2.229635\n",
            "epoch 15, loss 1.828197\n",
            "epoch 16, loss 1.499125\n",
            "epoch 17, loss 1.229349\n",
            "epoch 18, loss 1.008185\n",
            "epoch 19, loss 0.826853\n",
            "epoch 20, loss 0.678175\n",
            "epoch 21, loss 0.556268\n",
            "epoch 22, loss 0.456305\n",
            "epoch 23, loss 0.374329\n",
            "epoch 24, loss 0.307102\n",
            "epoch 25, loss 0.251966\n",
            "epoch 26, loss 0.206745\n",
            "epoch 27, loss 0.169654\n",
            "epoch 28, loss 0.139229\n",
            "epoch 29, loss 0.114270\n",
            "epoch 30, loss 0.093793\n",
            "epoch 31, loss 0.076995\n",
            "epoch 32, loss 0.063211\n",
            "epoch 33, loss 0.051902\n",
            "epoch 34, loss 0.042623\n",
            "epoch 35, loss 0.035006\n",
            "epoch 36, loss 0.028757\n",
            "epoch 37, loss 0.023627\n",
            "epoch 38, loss 0.019417\n",
            "epoch 39, loss 0.015961\n",
            "epoch 40, loss 0.013124\n",
            "epoch 41, loss 0.010796\n",
            "epoch 42, loss 0.008884\n",
            "epoch 43, loss 0.007314\n",
            "epoch 44, loss 0.006025\n",
            "epoch 45, loss 0.004967\n",
            "epoch 46, loss 0.004098\n",
            "epoch 47, loss 0.003384\n",
            "epoch 48, loss 0.002798\n",
            "epoch 49, loss 0.002317\n",
            "epoch 50, loss 0.001921\n",
            "epoch 51, loss 0.001597\n",
            "epoch 52, loss 0.001330\n",
            "epoch 53, loss 0.001110\n",
            "epoch 54, loss 0.000930\n",
            "epoch 55, loss 0.000782\n",
            "epoch 56, loss 0.000661\n",
            "epoch 57, loss 0.000561\n",
            "epoch 58, loss 0.000478\n",
            "epoch 59, loss 0.000411\n",
            "epoch 60, loss 0.000355\n",
            "epoch 61, loss 0.000310\n",
            "epoch 62, loss 0.000272\n",
            "epoch 63, loss 0.000242\n",
            "epoch 64, loss 0.000216\n",
            "epoch 65, loss 0.000195\n",
            "epoch 66, loss 0.000178\n",
            "epoch 67, loss 0.000164\n",
            "epoch 68, loss 0.000152\n",
            "epoch 69, loss 0.000143\n",
            "epoch 70, loss 0.000135\n",
            "epoch 71, loss 0.000129\n",
            "epoch 72, loss 0.000123\n",
            "epoch 73, loss 0.000119\n",
            "epoch 74, loss 0.000115\n",
            "epoch 75, loss 0.000112\n",
            "epoch 76, loss 0.000110\n",
            "epoch 77, loss 0.000108\n",
            "epoch 78, loss 0.000106\n",
            "epoch 79, loss 0.000105\n",
            "epoch 80, loss 0.000104\n",
            "epoch 81, loss 0.000103\n",
            "epoch 82, loss 0.000102\n",
            "epoch 83, loss 0.000101\n",
            "epoch 84, loss 0.000101\n",
            "epoch 85, loss 0.000101\n",
            "epoch 86, loss 0.000100\n",
            "epoch 87, loss 0.000100\n",
            "epoch 88, loss 0.000100\n",
            "epoch 89, loss 0.000099\n",
            "epoch 90, loss 0.000099\n",
            "epoch 91, loss 0.000099\n",
            "epoch 92, loss 0.000099\n",
            "epoch 93, loss 0.000099\n",
            "epoch 94, loss 0.000099\n",
            "epoch 95, loss 0.000099\n",
            "epoch 96, loss 0.000099\n",
            "epoch 97, loss 0.000099\n",
            "epoch 98, loss 0.000099\n",
            "epoch 99, loss 0.000099\n",
            "epoch 100, loss 0.000099\n"
          ]
        }
      ],
      "source": [
        "lr = 0.01###직접 설정\n",
        "num_epochs = 100###직접 설정\n",
        "net = linreg###위에서 가져오기\n",
        "loss = squared_loss###위에서 가져오기\n",
        "\n",
        "w_values = []\n",
        "loss_values = []\n",
        "for epoch in range(num_epochs):\n",
        "    for X, y in data_iter(batch_size, features, labels):\n",
        "        l = loss(net(X, w, b), y) ###채우기 완료\n",
        "        # Compute gradient on `l` with respect to [`w`, `b`]\n",
        "        l.sum().backward()\n",
        "        sgd([w, b], lr, batch_size) ###채우기 완료 check\n",
        "    with torch.no_grad():\n",
        "        train_l = loss(net(features, w, b), labels)\n",
        "        w_values.append(w[0].item())\n",
        "        loss_values.append(train_l.item())\n",
        "        print(f'epoch {epoch + 1}, loss {float(train_l.mean()):f}')"
      ]
    },
    {
      "cell_type": "code",
      "execution_count": 16,
      "metadata": {
        "id": "u_WSAjwNwMEY",
        "colab": {
          "base_uri": "https://localhost:8080/"
        },
        "outputId": "82c08c92-b04b-48c2-ad47-cc853f524cbb"
      },
      "outputs": [
        {
          "output_type": "stream",
          "name": "stdout",
          "text": [
            "error in estimating w: tensor([ 0.0004, -0.0003], grad_fn=<SubBackward0>)\n",
            "error in estimating b: tensor([0.0002], grad_fn=<RsubBackward1>)\n"
          ]
        }
      ],
      "source": [
        "print(f'error in estimating w: {true_w - w.reshape(true_w.shape)}')\n",
        "print(f'error in estimating b: {true_b - b}')"
      ]
    },
    {
      "cell_type": "markdown",
      "metadata": {
        "id": "tDSteRKdREC9"
      },
      "source": [
        "\\+ cost graph 그리기 (x축 w, y축 loss)"
      ]
    },
    {
      "cell_type": "code",
      "source": [
        "import matplotlib.pyplot as plt"
      ],
      "metadata": {
        "id": "EjHWpGwWRe-y"
      },
      "execution_count": 17,
      "outputs": []
    },
    {
      "cell_type": "code",
      "execution_count": 18,
      "metadata": {
        "id": "13ySyXh7RMcn",
        "colab": {
          "base_uri": "https://localhost:8080/",
          "height": 449
        },
        "outputId": "719dd48a-f538-409b-8b50-fc123ef709a8"
      },
      "outputs": [
        {
          "output_type": "display_data",
          "data": {
            "text/plain": [
              "<Figure size 640x480 with 1 Axes>"
            ],
            "image/png": "[encoded data removed]"
          },
          "metadata": {}
        }
      ],
      "source": [
        "plt.plot(w_values, loss_values)\n",
        "plt.xlabel('Weight')\n",
        "plt.ylabel('Loss')\n",
        "\n",
        "plt.show()"
      ]
    },
    {
      "cell_type": "markdown",
      "metadata": {
        "id": "WSKKAGx4wNd4"
      },
      "source": [
        "### Concise Implementation of Linear Regression\n",
        "- API 사용해보기"
      ]
    },
    {
      "cell_type": "code",
      "execution_count": 19,
      "metadata": {
        "id": "CWiOlkzKxEkf"
      },
      "outputs": [],
      "source": [
        "import numpy as np\n",
        "import torch\n",
        "from torch.utils import data\n",
        "from d2l import torch as d2l\n",
        "\n",
        "true_w = torch.tensor([3, -1.5])\n",
        "true_b = 5.5\n",
        "features, labels = d2l.synthetic_data(true_w, true_b, 2000)"
      ]
    },
    {
      "cell_type": "code",
      "execution_count": 20,
      "metadata": {
        "id": "F5tRyjkmxGUe"
      },
      "outputs": [],
      "source": [
        "def load_array(data_arrays, batch_size, is_train=True):\n",
        "    \"\"\"Construct a PyTorch data iterator.\"\"\"\n",
        "    dataset = data.TensorDataset(*data_arrays)\n",
        "    return data.DataLoader(dataset, batch_size, shuffle=is_train)\n",
        "\n",
        "batch_size = 20\n",
        "data_iter = load_array((features, labels), batch_size)"
      ]
    },
    {
      "cell_type": "code",
      "execution_count": 21,
      "metadata": {
        "id": "NBaqnZG4xHgP",
        "colab": {
          "base_uri": "https://localhost:8080/"
        },
        "outputId": "4165e04d-98fc-45f7-b723-9970593a5b30"
      },
      "outputs": [
        {
          "output_type": "execute_result",
          "data": {
            "text/plain": [
              "[tensor([[ 0.3722,  1.0795],\n",
              "         [-0.5131, -0.2622],\n",
              "         [-0.0702, -0.3266],\n",
              "         [-0.6738, -1.0053],\n",
              "         [ 2.0101,  0.0981],\n",
              "         [ 0.1968,  1.8071],\n",
              "         [ 0.1285,  0.6966],\n",
              "         [ 2.2340,  0.0559],\n",
              "         [ 1.2946,  1.0453],\n",
              "         [-0.2175, -0.2760],\n",
              "         [-1.5443,  0.3388],\n",
              "         [-1.2621, -0.2413],\n",
              "         [ 0.9968,  1.1080],\n",
              "         [ 0.8457,  1.1176],\n",
              "         [ 0.6195, -1.2468],\n",
              "         [ 0.7027,  1.2293],\n",
              "         [-0.8526,  0.1957],\n",
              "         [ 0.3765,  0.2633],\n",
              "         [-1.6619, -1.9280],\n",
              "         [-0.8016, -0.0535]]),\n",
              " tensor([[ 5.0050],\n",
              "         [ 4.3536],\n",
              "         [ 5.7767],\n",
              "         [ 4.9808],\n",
              "         [11.3954],\n",
              "         [ 3.3825],\n",
              "         [ 4.8360],\n",
              "         [12.1174],\n",
              "         [ 7.8199],\n",
              "         [ 5.2670],\n",
              "         [ 0.3677],\n",
              "         [ 2.0694],\n",
              "         [ 6.8176],\n",
              "         [ 6.3668],\n",
              "         [ 9.2241],\n",
              "         [ 5.7627],\n",
              "         [ 2.6401],\n",
              "         [ 6.2432],\n",
              "         [ 3.4097],\n",
              "         [ 3.1850]])]"
            ]
          },
          "metadata": {},
          "execution_count": 21
        }
      ],
      "source": [
        "next(iter(data_iter))"
      ]
    },
    {
      "cell_type": "code",
      "execution_count": 22,
      "metadata": {
        "id": "J_83KBFOxJFB"
      },
      "outputs": [],
      "source": [
        "from torch import nn as nn"
      ]
    },
    {
      "cell_type": "code",
      "source": [
        "net = nn.Sequential(\n",
        "    nn.Linear(2, 20),\n",
        "    nn.Linear(20,1)\n",
        ") #아래에서 행렬곱 가능하도록 2x20\n",
        "\n",
        "### net = nn.Sequential(nn.Linear(10, 5),nn.ReLU(),nn.Linear(5, 1))"
      ],
      "metadata": {
        "id": "kG3M5E9gSbG5"
      },
      "execution_count": 46,
      "outputs": []
    },
    {
      "cell_type": "code",
      "execution_count": 47,
      "metadata": {
        "id": "AdJQQgFaxL2H",
        "colab": {
          "base_uri": "https://localhost:8080/"
        },
        "outputId": "a633cafb-f33b-418b-e0a6-2f3b52aba7a4"
      },
      "outputs": [
        {
          "output_type": "execute_result",
          "data": {
            "text/plain": [
              "tensor([0., 0., 0., 0., 0., 0., 0., 0., 0., 0., 0., 0., 0., 0., 0., 0., 0., 0., 0., 0.])"
            ]
          },
          "metadata": {},
          "execution_count": 47
        }
      ],
      "source": [
        "net[0].weight.data.normal_(0, 0.01)\n",
        "net[0].bias.data.fill_(0)"
      ]
    },
    {
      "cell_type": "code",
      "source": [
        "loss = nn.MSELoss()###api function으로 직접 설정"
      ],
      "metadata": {
        "id": "OM9v1SfxrrQY"
      },
      "execution_count": 48,
      "outputs": []
    },
    {
      "cell_type": "code",
      "source": [
        "import torch.optim as tr"
      ],
      "metadata": {
        "id": "YoTZZtmisdiF"
      },
      "execution_count": 49,
      "outputs": []
    },
    {
      "cell_type": "code",
      "source": [
        "trainer = tr.SGD(net.parameters(), lr=0.01)"
      ],
      "metadata": {
        "id": "-c-ByGpOsULv"
      },
      "execution_count": 50,
      "outputs": []
    },
    {
      "cell_type": "code",
      "execution_count": 51,
      "metadata": {
        "id": "5fAmW5bUxP9Z",
        "colab": {
          "base_uri": "https://localhost:8080/"
        },
        "outputId": "866eee6b-f790-46a0-cde9-3e9aa96e5631"
      },
      "outputs": [
        {
          "output_type": "stream",
          "name": "stdout",
          "text": [
            "epoch 1, loss 0.000095\n",
            "epoch 2, loss 0.000096\n",
            "epoch 3, loss 0.000095\n"
          ]
        }
      ],
      "source": [
        "num_epochs = 3\n",
        "for epoch in range(num_epochs):\n",
        "    for X, y in data_iter:\n",
        "        ### l = loss(###직접설정)\n",
        "        l = loss(net(X), y) #행렬곱 가능하도록\n",
        "        trainer.zero_grad()\n",
        "        l.backward()\n",
        "        trainer.step()\n",
        "    l = loss(net(features), labels)\n",
        "    print(f'epoch {epoch + 1}, loss {l:f}')"
      ]
    },
    {
      "cell_type": "code",
      "source": [
        "w = net[0].weight.data  ###학습결과 w 구하는 식\n",
        "print(w)\n",
        "b = net[0].bias.data ###학습결과 b 구하는 식\n",
        "print(b)"
      ],
      "metadata": {
        "id": "NtX14vXGsg0X",
        "colab": {
          "base_uri": "https://localhost:8080/"
        },
        "outputId": "7234a45e-e5a8-40fc-ab31-e485cce1a88a"
      },
      "execution_count": 53,
      "outputs": [
        {
          "output_type": "stream",
          "name": "stdout",
          "text": [
            "tensor([[-0.2786,  0.1183],\n",
            "        [-0.0654,  0.0385],\n",
            "        [ 0.4826, -0.2611],\n",
            "        [ 0.3958, -0.1928],\n",
            "        [-0.3375,  0.1628],\n",
            "        [ 0.2154, -0.1082],\n",
            "        [ 0.3323, -0.1769],\n",
            "        [ 0.1938, -0.0822],\n",
            "        [ 0.4050, -0.1977],\n",
            "        [-0.3205,  0.1756],\n",
            "        [ 0.1536, -0.0765],\n",
            "        [-0.2485,  0.1095],\n",
            "        [-0.3395,  0.1699],\n",
            "        [-0.5010,  0.2481],\n",
            "        [ 0.0634, -0.0318],\n",
            "        [-0.1758,  0.0740],\n",
            "        [-0.1130,  0.0697],\n",
            "        [ 0.2548, -0.1192],\n",
            "        [-0.0026,  0.0035],\n",
            "        [ 0.3602, -0.1883]])\n",
            "tensor([-0.3362, -0.0962,  0.6204,  0.5076, -0.4344,  0.2582,  0.4316,  0.2435,\n",
            "         0.5071, -0.3964,  0.1874, -0.3192, -0.4435, -0.6328,  0.0605, -0.2127,\n",
            "        -0.1337,  0.3037, -0.0215,  0.4694])\n"
          ]
        }
      ]
    }
  ],
  "metadata": {
    "colab": {
      "provenance": []
    },
    "kernelspec": {
      "display_name": "Python 3",
      "name": "python3"
    },
    "language_info": {
      "name": "python"
    }
  },
  "nbformat": 4,
  "nbformat_minor": 0
}