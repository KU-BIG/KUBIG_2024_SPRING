{
 "cells": [
  {
   "cell_type": "markdown",
   "metadata": {},
   "source": [
    "$$\n",
    "\\\\\n",
    "$$"
   ]
  },
  {
   "cell_type": "markdown",
   "metadata": {},
   "source": [
    "# 24W DL Basic\n",
    "## 1주차 과제"
   ]
  },
  {
   "cell_type": "markdown",
   "metadata": {},
   "source": [
    "KUBIG 19기 정종락"
   ]
  },
  {
   "cell_type": "markdown",
   "metadata": {},
   "source": [
    "$$\n",
    "\\\\\n",
    "$$"
   ]
  },
  {
   "cell_type": "markdown",
   "metadata": {
    "id": "MivAstLj4EpN"
   },
   "source": [
    "# 1. Beginning PyTorch: manipulating tensors"
   ]
  },
  {
   "cell_type": "code",
   "execution_count": 1,
   "metadata": {
    "id": "BS39ZJTi4CD0"
   },
   "outputs": [],
   "source": [
    "import torch"
   ]
  },
  {
   "cell_type": "markdown",
   "metadata": {},
   "source": [
    "$$\n",
    "\\\\\n",
    "$$"
   ]
  },
  {
   "cell_type": "markdown",
   "metadata": {},
   "source": [
    "## 1.1. Generating matrices(tensors)"
   ]
  },
  {
   "cell_type": "code",
   "execution_count": 2,
   "metadata": {
    "id": "OlLUsvmL4kEY"
   },
   "outputs": [],
   "source": [
    "X = torch.rand(4, 3) \n",
    "Y = torch.rand(4, 3) "
   ]
  },
  {
   "cell_type": "code",
   "execution_count": 3,
   "metadata": {},
   "outputs": [
    {
     "data": {
      "text/plain": [
       "tensor([[0.1702, 0.4234, 0.6539],\n",
       "        [0.6868, 0.2508, 0.4195],\n",
       "        [0.3779, 0.4102, 0.7527],\n",
       "        [0.6041, 0.5650, 0.0169]])"
      ]
     },
     "execution_count": 3,
     "metadata": {},
     "output_type": "execute_result"
    }
   ],
   "source": [
    "X # 4 x 3 matrix(tensor) randomly generated"
   ]
  },
  {
   "cell_type": "code",
   "execution_count": 4,
   "metadata": {},
   "outputs": [
    {
     "data": {
      "text/plain": [
       "tensor([[0.4682, 0.3217, 0.5774],\n",
       "        [0.9628, 0.9153, 0.2239],\n",
       "        [0.8292, 0.6724, 0.0604],\n",
       "        [0.3347, 0.0380, 0.3291]])"
      ]
     },
     "execution_count": 4,
     "metadata": {},
     "output_type": "execute_result"
    }
   ],
   "source": [
    "Y # 4 x 3 matrix(tensor) randomly generated"
   ]
  },
  {
   "cell_type": "markdown",
   "metadata": {},
   "source": [
    "$$\n",
    "\\\\\n",
    "$$"
   ]
  },
  {
   "cell_type": "markdown",
   "metadata": {},
   "source": [
    "## 1.2. Merging tensors"
   ]
  },
  {
   "cell_type": "markdown",
   "metadata": {},
   "source": [
    "### 1) Using `concat()`, `cat()`: \"concatenate\""
   ]
  },
  {
   "cell_type": "code",
   "execution_count": 5,
   "metadata": {
    "id": "OlLUsvmL4kEY"
   },
   "outputs": [
    {
     "data": {
      "text/plain": [
       "tensor([[0.1702, 0.4234, 0.6539],\n",
       "        [0.6868, 0.2508, 0.4195],\n",
       "        [0.3779, 0.4102, 0.7527],\n",
       "        [0.6041, 0.5650, 0.0169],\n",
       "        [0.4682, 0.3217, 0.5774],\n",
       "        [0.9628, 0.9153, 0.2239],\n",
       "        [0.8292, 0.6724, 0.0604],\n",
       "        [0.3347, 0.0380, 0.3291]])"
      ]
     },
     "execution_count": 5,
     "metadata": {},
     "output_type": "execute_result"
    }
   ],
   "source": [
    "# Row-wise 1: 8 x 3\n",
    "torch.cat([X, Y], dim = 0)"
   ]
  },
  {
   "cell_type": "code",
   "execution_count": 6,
   "metadata": {},
   "outputs": [
    {
     "data": {
      "text/plain": [
       "tensor([[0.1702, 0.4234, 0.6539],\n",
       "        [0.6868, 0.2508, 0.4195],\n",
       "        [0.3779, 0.4102, 0.7527],\n",
       "        [0.6041, 0.5650, 0.0169],\n",
       "        [0.4682, 0.3217, 0.5774],\n",
       "        [0.9628, 0.9153, 0.2239],\n",
       "        [0.8292, 0.6724, 0.0604],\n",
       "        [0.3347, 0.0380, 0.3291]])"
      ]
     },
     "execution_count": 6,
     "metadata": {},
     "output_type": "execute_result"
    }
   ],
   "source": [
    "# Row-wise 2: 8 x 3\n",
    "torch.concat([X, Y], dim = 0)"
   ]
  },
  {
   "cell_type": "code",
   "execution_count": 7,
   "metadata": {
    "id": "OlLUsvmL4kEY"
   },
   "outputs": [
    {
     "data": {
      "text/plain": [
       "tensor([[0.1702, 0.4234, 0.6539, 0.4682, 0.3217, 0.5774],\n",
       "        [0.6868, 0.2508, 0.4195, 0.9628, 0.9153, 0.2239],\n",
       "        [0.3779, 0.4102, 0.7527, 0.8292, 0.6724, 0.0604],\n",
       "        [0.6041, 0.5650, 0.0169, 0.3347, 0.0380, 0.3291]])"
      ]
     },
     "execution_count": 7,
     "metadata": {},
     "output_type": "execute_result"
    }
   ],
   "source": [
    "# Column-wise 1: 4 x 6\n",
    "torch.cat([X, Y], dim = 1)"
   ]
  },
  {
   "cell_type": "code",
   "execution_count": 8,
   "metadata": {
    "scrolled": true
   },
   "outputs": [
    {
     "data": {
      "text/plain": [
       "tensor([[0.1702, 0.4234, 0.6539, 0.4682, 0.3217, 0.5774],\n",
       "        [0.6868, 0.2508, 0.4195, 0.9628, 0.9153, 0.2239],\n",
       "        [0.3779, 0.4102, 0.7527, 0.8292, 0.6724, 0.0604],\n",
       "        [0.6041, 0.5650, 0.0169, 0.3347, 0.0380, 0.3291]])"
      ]
     },
     "execution_count": 8,
     "metadata": {},
     "output_type": "execute_result"
    }
   ],
   "source": [
    "# Column-wise 2: 4 x 6\n",
    "torch.concat([X, Y], dim = 1)"
   ]
  },
  {
   "cell_type": "markdown",
   "metadata": {},
   "source": [
    "$$\n",
    "\\\\\n",
    "$$"
   ]
  },
  {
   "cell_type": "markdown",
   "metadata": {},
   "source": [
    "### 2) Using `~stack()`"
   ]
  },
  {
   "cell_type": "code",
   "execution_count": 9,
   "metadata": {
    "id": "OlLUsvmL4kEY"
   },
   "outputs": [
    {
     "data": {
      "text/plain": [
       "tensor([[0.1702, 0.4234, 0.6539],\n",
       "        [0.6868, 0.2508, 0.4195],\n",
       "        [0.3779, 0.4102, 0.7527],\n",
       "        [0.6041, 0.5650, 0.0169],\n",
       "        [0.4682, 0.3217, 0.5774],\n",
       "        [0.9628, 0.9153, 0.2239],\n",
       "        [0.8292, 0.6724, 0.0604],\n",
       "        [0.3347, 0.0380, 0.3291]])"
      ]
     },
     "execution_count": 9,
     "metadata": {},
     "output_type": "execute_result"
    }
   ],
   "source": [
    "# Row-wise 1: 8 x 3\n",
    "torch.vstack([X, Y])"
   ]
  },
  {
   "cell_type": "code",
   "execution_count": 10,
   "metadata": {
    "id": "OlLUsvmL4kEY"
   },
   "outputs": [
    {
     "data": {
      "text/plain": [
       "tensor([[0.1702, 0.4234, 0.6539],\n",
       "        [0.6868, 0.2508, 0.4195],\n",
       "        [0.3779, 0.4102, 0.7527],\n",
       "        [0.6041, 0.5650, 0.0169],\n",
       "        [0.4682, 0.3217, 0.5774],\n",
       "        [0.9628, 0.9153, 0.2239],\n",
       "        [0.8292, 0.6724, 0.0604],\n",
       "        [0.3347, 0.0380, 0.3291]])"
      ]
     },
     "execution_count": 10,
     "metadata": {},
     "output_type": "execute_result"
    }
   ],
   "source": [
    "# Row-wise 2: 8 x 3\n",
    "torch.row_stack([X, Y])"
   ]
  },
  {
   "cell_type": "code",
   "execution_count": 11,
   "metadata": {
    "id": "OlLUsvmL4kEY"
   },
   "outputs": [
    {
     "data": {
      "text/plain": [
       "tensor([[0.1702, 0.4234, 0.6539, 0.4682, 0.3217, 0.5774],\n",
       "        [0.6868, 0.2508, 0.4195, 0.9628, 0.9153, 0.2239],\n",
       "        [0.3779, 0.4102, 0.7527, 0.8292, 0.6724, 0.0604],\n",
       "        [0.6041, 0.5650, 0.0169, 0.3347, 0.0380, 0.3291]])"
      ]
     },
     "execution_count": 11,
     "metadata": {},
     "output_type": "execute_result"
    }
   ],
   "source": [
    "# Column-wise 1: 4 x 6\n",
    "torch.hstack([X, Y])"
   ]
  },
  {
   "cell_type": "code",
   "execution_count": 12,
   "metadata": {
    "id": "OlLUsvmL4kEY",
    "scrolled": true
   },
   "outputs": [
    {
     "data": {
      "text/plain": [
       "tensor([[0.1702, 0.4234, 0.6539, 0.4682, 0.3217, 0.5774],\n",
       "        [0.6868, 0.2508, 0.4195, 0.9628, 0.9153, 0.2239],\n",
       "        [0.3779, 0.4102, 0.7527, 0.8292, 0.6724, 0.0604],\n",
       "        [0.6041, 0.5650, 0.0169, 0.3347, 0.0380, 0.3291]])"
      ]
     },
     "execution_count": 12,
     "metadata": {},
     "output_type": "execute_result"
    }
   ],
   "source": [
    "# Column-wise 2: 4 x 6\n",
    "torch.column_stack([X, Y])"
   ]
  },
  {
   "cell_type": "markdown",
   "metadata": {},
   "source": [
    "$$\n",
    "\\\\\n",
    "$$"
   ]
  },
  {
   "cell_type": "markdown",
   "metadata": {},
   "source": [
    "### cf. Using `stack()`: new dimension"
   ]
  },
  {
   "cell_type": "code",
   "execution_count": 13,
   "metadata": {
    "id": "OlLUsvmL4kEY"
   },
   "outputs": [
    {
     "data": {
      "text/plain": [
       "tensor([[[0.1702, 0.4234, 0.6539],\n",
       "         [0.6868, 0.2508, 0.4195],\n",
       "         [0.3779, 0.4102, 0.7527],\n",
       "         [0.6041, 0.5650, 0.0169]],\n",
       "\n",
       "        [[0.4682, 0.3217, 0.5774],\n",
       "         [0.9628, 0.9153, 0.2239],\n",
       "         [0.8292, 0.6724, 0.0604],\n",
       "         [0.3347, 0.0380, 0.3291]]])"
      ]
     },
     "execution_count": 13,
     "metadata": {},
     "output_type": "execute_result"
    }
   ],
   "source": [
    "# Dimension: 4 x 3 x 2\n",
    "torch.stack([X, Y], dim = 0)"
   ]
  },
  {
   "cell_type": "code",
   "execution_count": 14,
   "metadata": {
    "id": "OlLUsvmL4kEY"
   },
   "outputs": [
    {
     "data": {
      "text/plain": [
       "tensor([[[0.1702, 0.4234, 0.6539],\n",
       "         [0.4682, 0.3217, 0.5774]],\n",
       "\n",
       "        [[0.6868, 0.2508, 0.4195],\n",
       "         [0.9628, 0.9153, 0.2239]],\n",
       "\n",
       "        [[0.3779, 0.4102, 0.7527],\n",
       "         [0.8292, 0.6724, 0.0604]],\n",
       "\n",
       "        [[0.6041, 0.5650, 0.0169],\n",
       "         [0.3347, 0.0380, 0.3291]]])"
      ]
     },
     "execution_count": 14,
     "metadata": {},
     "output_type": "execute_result"
    }
   ],
   "source": [
    "# Dimension: 2 x 3 x 4\n",
    "torch.stack([X, Y], dim = 1)"
   ]
  },
  {
   "cell_type": "code",
   "execution_count": 15,
   "metadata": {
    "id": "OlLUsvmL4kEY",
    "scrolled": true
   },
   "outputs": [
    {
     "data": {
      "text/plain": [
       "tensor([[[0.1702, 0.4682],\n",
       "         [0.4234, 0.3217],\n",
       "         [0.6539, 0.5774]],\n",
       "\n",
       "        [[0.6868, 0.9628],\n",
       "         [0.2508, 0.9153],\n",
       "         [0.4195, 0.2239]],\n",
       "\n",
       "        [[0.3779, 0.8292],\n",
       "         [0.4102, 0.6724],\n",
       "         [0.7527, 0.0604]],\n",
       "\n",
       "        [[0.6041, 0.3347],\n",
       "         [0.5650, 0.0380],\n",
       "         [0.0169, 0.3291]]])"
      ]
     },
     "execution_count": 15,
     "metadata": {},
     "output_type": "execute_result"
    }
   ],
   "source": [
    "# Dimension: 3 x 2 x 4\n",
    "torch.stack([X, Y], dim = 2)"
   ]
  },
  {
   "cell_type": "markdown",
   "metadata": {},
   "source": [
    "$$\n",
    "\\\\\n",
    "$$"
   ]
  },
  {
   "cell_type": "markdown",
   "metadata": {},
   "source": [
    "# 2. Linear Regression in PyTorch way"
   ]
  },
  {
   "cell_type": "markdown",
   "metadata": {},
   "source": [
    "## 2.1. Linear Regression Implementation from Scratch"
   ]
  },
  {
   "cell_type": "code",
   "execution_count": 16,
   "metadata": {
    "id": "YyWEB6e3FKYY"
   },
   "outputs": [],
   "source": [
    "%matplotlib inline\n",
    "import random\n",
    "import torch\n",
    "from d2l import torch as d2l\n",
    "import matplotlib.pyplot as plt"
   ]
  },
  {
   "cell_type": "markdown",
   "metadata": {},
   "source": [
    "$$\n",
    "\\\\\n",
    "$$"
   ]
  },
  {
   "cell_type": "markdown",
   "metadata": {},
   "source": [
    "### 1) Data Generating Process"
   ]
  },
  {
   "cell_type": "code",
   "execution_count": 17,
   "metadata": {
    "id": "exWjbVn2v3CT"
   },
   "outputs": [],
   "source": [
    "def synthetic_data(w, b, num_examples):\n",
    "    \"\"\" Generate y = Xw + b + noise. \"\"\"\n",
    "    X = torch.normal(0, 1, (num_examples, len(w)))\n",
    "    y = torch.matmul(X, w) + b\n",
    "    y += torch.normal(0, 0.01, y.shape)\n",
    "    return X, y.reshape((-1, 1))\n",
    "\n",
    "true_w = torch.tensor([3, -1.5])\n",
    "true_b = 5.5\n",
    "features, labels = synthetic_data(true_w, true_b, 2000)"
   ]
  },
  {
   "cell_type": "code",
   "execution_count": 18,
   "metadata": {
    "id": "5UcjckXPv6iy"
   },
   "outputs": [
    {
     "name": "stdout",
     "output_type": "stream",
     "text": [
      "features: tensor([-0.9028, -0.6982]) \n",
      "label: tensor([3.8214])\n"
     ]
    }
   ],
   "source": [
    "print('features:', features[0],'\\nlabel:', labels[0])"
   ]
  },
  {
   "cell_type": "code",
   "execution_count": 19,
   "metadata": {
    "id": "jLY6YR5Zv_gO"
   },
   "outputs": [],
   "source": [
    "def data_iter(batch_size, features, labels):\n",
    "    num_examples = len(features)\n",
    "    indices = list(range(num_examples))\n",
    "    \"\"\" The examples are read at random, in no particular order \"\"\"\n",
    "    random.shuffle(indices)\n",
    "    for i in range(0, num_examples, batch_size):\n",
    "        batch_indices = torch.tensor(\n",
    "            indices[i: min(i + batch_size, num_examples)])\n",
    "        yield features[batch_indices], labels[batch_indices]"
   ]
  },
  {
   "cell_type": "code",
   "execution_count": 20,
   "metadata": {
    "id": "zuxxEAvdwA7p",
    "scrolled": true
   },
   "outputs": [
    {
     "name": "stdout",
     "output_type": "stream",
     "text": [
      "tensor([[-0.7855, -0.8032],\n",
      "        [-0.5506, -0.7410],\n",
      "        [ 1.3275,  0.2232],\n",
      "        [-0.7095, -1.2789],\n",
      "        [-1.6509, -0.1750],\n",
      "        [ 0.2810, -0.0908],\n",
      "        [ 0.5872,  0.4988],\n",
      "        [-1.2449,  0.2775],\n",
      "        [-1.1866,  0.4711],\n",
      "        [ 2.0629, -0.8795],\n",
      "        [-1.0923, -0.2544],\n",
      "        [-0.8069,  0.0798],\n",
      "        [ 0.3447,  1.3232],\n",
      "        [ 0.3744,  0.7272],\n",
      "        [-0.1216,  0.7995],\n",
      "        [-0.6697, -0.5979],\n",
      "        [ 0.7192, -0.3035],\n",
      "        [ 0.5406, -0.0673],\n",
      "        [ 1.6233, -0.0196],\n",
      "        [-1.2029, -1.5498]]) \n",
      " tensor([[ 4.3435],\n",
      "        [ 4.9663],\n",
      "        [ 9.1555],\n",
      "        [ 5.2774],\n",
      "        [ 0.8251],\n",
      "        [ 6.4808],\n",
      "        [ 6.5254],\n",
      "        [ 1.3523],\n",
      "        [ 1.2477],\n",
      "        [13.0033],\n",
      "        [ 2.6098],\n",
      "        [ 2.9675],\n",
      "        [ 4.5572],\n",
      "        [ 5.5457],\n",
      "        [ 3.9343],\n",
      "        [ 4.3864],\n",
      "        [ 8.1034],\n",
      "        [ 7.2075],\n",
      "        [10.4094],\n",
      "        [ 4.2121]])\n"
     ]
    }
   ],
   "source": [
    "batch_size = 20\n",
    "\n",
    "for X, y in data_iter(batch_size, features, labels):\n",
    "    print(X, '\\n', y)\n",
    "    break"
   ]
  },
  {
   "cell_type": "markdown",
   "metadata": {},
   "source": [
    "$$\n",
    "\\\\\n",
    "$$"
   ]
  },
  {
   "cell_type": "markdown",
   "metadata": {},
   "source": [
    "### 2) Model"
   ]
  },
  {
   "cell_type": "code",
   "execution_count": 21,
   "metadata": {
    "id": "f_yHcVYEwCHq"
   },
   "outputs": [],
   "source": [
    "# Initialize\n",
    "w = torch.normal(0, 0.01, size = (2,1), requires_grad = True)\n",
    "b = torch.tensor([2.0], requires_grad = True)"
   ]
  },
  {
   "cell_type": "code",
   "execution_count": 22,
   "metadata": {
    "id": "wOT4gBtZwDVA"
   },
   "outputs": [],
   "source": [
    "def linreg(X, w, b):\n",
    "    \"\"\" The linear regression model \"\"\"\n",
    "    return torch.matmul(X, w) + b"
   ]
  },
  {
   "cell_type": "code",
   "execution_count": 23,
   "metadata": {
    "id": "WFYMJrrSwE5R"
   },
   "outputs": [],
   "source": [
    "def squared_loss(y_hat, y):\n",
    "    \"\"\" Squared loss \"\"\"\n",
    "    return torch.mean((y_hat - y)**2)"
   ]
  },
  {
   "cell_type": "code",
   "execution_count": 24,
   "metadata": {
    "id": "MXD0qP8PwIn0"
   },
   "outputs": [],
   "source": [
    "def sgd(params, lr, batch_size):\n",
    "    \"\"\" Minibatch stochastic gradient descent \"\"\"\n",
    "    with torch.no_grad():\n",
    "        for param in params: \n",
    "            if param.grad is not None:\n",
    "                param -= lr * param.grad / batch_size\n",
    "                param.grad.zero_()"
   ]
  },
  {
   "cell_type": "markdown",
   "metadata": {},
   "source": [
    "$$\n",
    "\\\\\n",
    "$$"
   ]
  },
  {
   "cell_type": "markdown",
   "metadata": {},
   "source": [
    "### 3) Training Cycle"
   ]
  },
  {
   "cell_type": "code",
   "execution_count": 25,
   "metadata": {
    "id": "pS_hm3J8wJ4z",
    "scrolled": false
   },
   "outputs": [
    {
     "name": "stdout",
     "output_type": "stream",
     "text": [
      "epoch 1, loss 19.630817\n",
      "epoch 2, loss 15.995391\n",
      "epoch 3, loss 13.033445\n",
      "epoch 4, loss 10.620163\n",
      "epoch 5, loss 8.653895\n",
      "epoch 6, loss 7.051817\n",
      "epoch 7, loss 5.746464\n",
      "epoch 8, loss 4.682846\n",
      "epoch 9, loss 3.816166\n",
      "epoch 10, loss 3.109945\n",
      "epoch 11, loss 2.534482\n",
      "epoch 12, loss 2.065548\n",
      "epoch 13, loss 1.683407\n",
      "epoch 14, loss 1.371996\n",
      "epoch 15, loss 1.118219\n",
      "epoch 16, loss 0.911406\n",
      "epoch 17, loss 0.742863\n",
      "epoch 18, loss 0.605506\n",
      "epoch 19, loss 0.493563\n",
      "epoch 20, loss 0.402325\n",
      "epoch 21, loss 0.327963\n",
      "epoch 22, loss 0.267355\n",
      "epoch 23, loss 0.217955\n",
      "epoch 24, loss 0.177690\n",
      "epoch 25, loss 0.144871\n",
      "epoch 26, loss 0.118119\n",
      "epoch 27, loss 0.096312\n",
      "epoch 28, loss 0.078537\n",
      "epoch 29, loss 0.064047\n",
      "epoch 30, loss 0.052235\n",
      "epoch 31, loss 0.042605\n",
      "epoch 32, loss 0.034757\n",
      "epoch 33, loss 0.028357\n",
      "epoch 34, loss 0.023140\n",
      "epoch 35, loss 0.018886\n",
      "epoch 36, loss 0.015418\n",
      "epoch 37, loss 0.012591\n",
      "epoch 38, loss 0.010285\n",
      "epoch 39, loss 0.008405\n",
      "epoch 40, loss 0.006873\n",
      "epoch 41, loss 0.005623\n",
      "epoch 42, loss 0.004603\n",
      "epoch 43, loss 0.003772\n",
      "epoch 44, loss 0.003095\n",
      "epoch 45, loss 0.002542\n",
      "epoch 46, loss 0.002091\n",
      "epoch 47, loss 0.001724\n",
      "epoch 48, loss 0.001424\n",
      "epoch 49, loss 0.001179\n",
      "epoch 50, loss 0.000980\n",
      "epoch 51, loss 0.000817\n",
      "epoch 52, loss 0.000685\n",
      "epoch 53, loss 0.000576\n",
      "epoch 54, loss 0.000488\n",
      "epoch 55, loss 0.000416\n",
      "epoch 56, loss 0.000358\n",
      "epoch 57, loss 0.000310\n",
      "epoch 58, loss 0.000271\n",
      "epoch 59, loss 0.000239\n",
      "epoch 60, loss 0.000213\n",
      "epoch 61, loss 0.000192\n",
      "epoch 62, loss 0.000174\n",
      "epoch 63, loss 0.000160\n",
      "epoch 64, loss 0.000149\n",
      "epoch 65, loss 0.000139\n",
      "epoch 66, loss 0.000132\n",
      "epoch 67, loss 0.000125\n",
      "epoch 68, loss 0.000120\n",
      "epoch 69, loss 0.000116\n",
      "epoch 70, loss 0.000113\n",
      "epoch 71, loss 0.000110\n",
      "epoch 72, loss 0.000108\n",
      "epoch 73, loss 0.000106\n",
      "epoch 74, loss 0.000104\n",
      "epoch 75, loss 0.000103\n",
      "epoch 76, loss 0.000102\n",
      "epoch 77, loss 0.000101\n",
      "epoch 78, loss 0.000100\n",
      "epoch 79, loss 0.000100\n",
      "epoch 80, loss 0.000099\n",
      "epoch 81, loss 0.000099\n",
      "epoch 82, loss 0.000099\n",
      "epoch 83, loss 0.000099\n",
      "epoch 84, loss 0.000098\n",
      "epoch 85, loss 0.000098\n",
      "epoch 86, loss 0.000098\n",
      "epoch 87, loss 0.000098\n",
      "epoch 88, loss 0.000098\n",
      "epoch 89, loss 0.000098\n",
      "epoch 90, loss 0.000098\n",
      "epoch 91, loss 0.000098\n",
      "epoch 92, loss 0.000098\n",
      "epoch 93, loss 0.000098\n",
      "epoch 94, loss 0.000098\n",
      "epoch 95, loss 0.000098\n",
      "epoch 96, loss 0.000098\n",
      "epoch 97, loss 0.000098\n",
      "epoch 98, loss 0.000097\n",
      "epoch 99, loss 0.000097\n",
      "epoch 100, loss 0.000097\n"
     ]
    }
   ],
   "source": [
    "lr = 0.01\n",
    "num_epochs = 100\n",
    "net = linreg\n",
    "loss = squared_loss\n",
    "\n",
    "w_vals = []\n",
    "loss_vals = []\n",
    "\n",
    "for epoch in range(num_epochs):\n",
    "    for X, y in data_iter(batch_size, features, labels):\n",
    "        l = loss(net(X, w, b), y) ###\n",
    "        \"\"\" Compute gradient on `l` with respect to [`w`, `b`] \"\"\"\n",
    "        l.sum().backward()\n",
    "        sgd([w, b], lr, batch_size) ###\n",
    "    with torch.no_grad():\n",
    "        train_l = loss(net(features, w, b), labels)\n",
    "        print(f'epoch {epoch + 1}, loss {float(train_l.mean()):f}')\n",
    "        \n",
    "        \"\"\" Storing the values to check and plot them \"\"\"\n",
    "        w_vals.append(w.clone().detach().numpy()) # w\n",
    "        loss_vals.append(train_l.item()) # loss"
   ]
  },
  {
   "cell_type": "markdown",
   "metadata": {},
   "source": [
    "$$\n",
    "\\\\\n",
    "$$"
   ]
  },
  {
   "cell_type": "markdown",
   "metadata": {},
   "source": [
    "### 4) Training Result"
   ]
  },
  {
   "cell_type": "markdown",
   "metadata": {},
   "source": [
    "**Result of `w`**"
   ]
  },
  {
   "cell_type": "code",
   "execution_count": 26,
   "metadata": {},
   "outputs": [
    {
     "data": {
      "text/plain": [
       "(tensor([ 3.0000, -1.5000]),\n",
       " tensor([[ 3.0002],\n",
       "         [-1.4998]], requires_grad=True))"
      ]
     },
     "execution_count": 26,
     "metadata": {},
     "output_type": "execute_result"
    }
   ],
   "source": [
    "true_w, w"
   ]
  },
  {
   "cell_type": "code",
   "execution_count": 27,
   "metadata": {
    "scrolled": false
   },
   "outputs": [
    {
     "name": "stdout",
     "output_type": "stream",
     "text": [
      "error in estimating w: tensor([-0.0002, -0.0002], grad_fn=<SubBackward0>)\n"
     ]
    }
   ],
   "source": [
    "# Error\n",
    "print(f'error in estimating w: {true_w - w.reshape(true_w.shape)}')"
   ]
  },
  {
   "cell_type": "markdown",
   "metadata": {},
   "source": [
    "$$\n",
    "\\\\\n",
    "$$"
   ]
  },
  {
   "cell_type": "markdown",
   "metadata": {},
   "source": [
    "**Result of `b`**"
   ]
  },
  {
   "cell_type": "code",
   "execution_count": 28,
   "metadata": {},
   "outputs": [
    {
     "data": {
      "text/plain": [
       "(5.5, tensor([5.4998], requires_grad=True))"
      ]
     },
     "execution_count": 28,
     "metadata": {},
     "output_type": "execute_result"
    }
   ],
   "source": [
    "true_b, b"
   ]
  },
  {
   "cell_type": "code",
   "execution_count": 29,
   "metadata": {
    "id": "u_WSAjwNwMEY",
    "scrolled": true
   },
   "outputs": [
    {
     "name": "stdout",
     "output_type": "stream",
     "text": [
      "error in estimating b: tensor([0.0002], grad_fn=<RsubBackward1>)\n"
     ]
    }
   ],
   "source": [
    "# Error\n",
    "print(f'error in estimating b: {true_b - b}')"
   ]
  },
  {
   "cell_type": "markdown",
   "metadata": {},
   "source": [
    "$$\n",
    "\\\\\n",
    "$$"
   ]
  },
  {
   "cell_type": "markdown",
   "metadata": {},
   "source": [
    "**Plot: cost graph**"
   ]
  },
  {
   "cell_type": "code",
   "execution_count": 46,
   "metadata": {
    "scrolled": true
   },
   "outputs": [
    {
     "data": {
      "image/png": "[encoded data removed]",
      "text/plain": [
       "<Figure size 1200x500 with 2 Axes>"
      ]
     },
     "metadata": {},
     "output_type": "display_data"
    }
   ],
   "source": [
    "# Setting\n",
    "plt.figure(figsize = (12, 5))\n",
    "\n",
    "# Weight 1\n",
    "plt.subplot(1, 2, 1)\n",
    "plt.title(\"Cost Graph of w[0]\")\n",
    "w0_val = [i[0].item() for i in w_vals]\n",
    "plt.plot(w0_val, loss_vals)\n",
    "plt.hlines(y = 0, xmin = 0, xmax = 2.9,\n",
    "           color = 'red', linestyle = 'dashed')\n",
    "plt.xlabel('w[0]: Weight 1')\n",
    "plt.ylabel('Loss')\n",
    "\n",
    "# Weight 2\n",
    "plt.subplot(1, 2, 2)\n",
    "plt.title(\"Cost Graph of w[1]\")\n",
    "w1_val = [i[1].item() for i in w_vals]\n",
    "plt.plot(w1_val, loss_vals)\n",
    "plt.hlines(y = 0, xmin = -1.4, xmax = -0.2,\n",
    "           color = 'red', linestyle = 'dashed')\n",
    "plt.xlabel(\"w[1]: Weight 2\")\n",
    "plt.ylabel(\"Loss\")\n",
    "\n",
    "# Display\n",
    "plt.tight_layout()\n",
    "plt.show()"
   ]
  },
  {
   "cell_type": "markdown",
   "metadata": {},
   "source": [
    "$$\n",
    "\\\\\n",
    "$$"
   ]
  },
  {
   "cell_type": "markdown",
   "metadata": {},
   "source": [
    "$$\n",
    "\\\\\n",
    "$$"
   ]
  },
  {
   "cell_type": "markdown",
   "metadata": {
    "id": "WSKKAGx4wNd4"
   },
   "source": [
    "## 2.2. Concise Implementation of Linear Regression: Using API"
   ]
  },
  {
   "cell_type": "code",
   "execution_count": 47,
   "metadata": {
    "id": "CWiOlkzKxEkf"
   },
   "outputs": [],
   "source": [
    "import numpy as np\n",
    "import torch\n",
    "from torch.utils import data\n",
    "from d2l import torch as d2l\n",
    "from torch import nn"
   ]
  },
  {
   "cell_type": "markdown",
   "metadata": {},
   "source": [
    "$$\n",
    "\\\\\n",
    "$$"
   ]
  },
  {
   "cell_type": "markdown",
   "metadata": {},
   "source": [
    "### 1) Data Generating Process"
   ]
  },
  {
   "cell_type": "code",
   "execution_count": 48,
   "metadata": {
    "id": "CWiOlkzKxEkf"
   },
   "outputs": [],
   "source": [
    "# True values\n",
    "true_w = torch.tensor([3, -1.5])\n",
    "true_b = 5.5\n",
    "features, labels = d2l.synthetic_data(true_w, true_b, 2000)"
   ]
  },
  {
   "cell_type": "code",
   "execution_count": 49,
   "metadata": {
    "id": "F5tRyjkmxGUe"
   },
   "outputs": [],
   "source": [
    "def load_array(data_arrays, batch_size, is_train=True):\n",
    "    \"\"\" Construct a PyTorch data iterator \"\"\"\n",
    "    dataset = data.TensorDataset(*data_arrays)\n",
    "    return data.DataLoader(dataset, batch_size, shuffle=is_train)\n",
    "\n",
    "batch_size = 20\n",
    "data_iter = load_array((features, labels), batch_size)"
   ]
  },
  {
   "cell_type": "code",
   "execution_count": 50,
   "metadata": {
    "id": "NBaqnZG4xHgP",
    "scrolled": false
   },
   "outputs": [
    {
     "data": {
      "text/plain": [
       "[tensor([[ 0.1801, -1.2523],\n",
       "         [-0.5310, -0.4854],\n",
       "         [ 1.5670, -0.2638],\n",
       "         [ 0.0097, -0.7920],\n",
       "         [-0.3317,  0.8762],\n",
       "         [-1.3255,  0.9924],\n",
       "         [-0.1685,  0.0842],\n",
       "         [ 0.5102,  0.7651],\n",
       "         [ 0.6992,  1.9117],\n",
       "         [ 0.6791, -1.1340],\n",
       "         [ 0.8055, -0.3575],\n",
       "         [-1.2128,  0.8328],\n",
       "         [-1.5492, -1.1433],\n",
       "         [-2.9052,  1.1013],\n",
       "         [-1.2225, -1.9985],\n",
       "         [ 1.7802,  1.7509],\n",
       "         [ 0.8283,  0.3116],\n",
       "         [ 1.3582,  0.3634],\n",
       "         [ 0.3078,  0.2800],\n",
       "         [-1.8763,  1.4927]]),\n",
       " tensor([[ 7.9313],\n",
       "         [ 4.6372],\n",
       "         [10.5971],\n",
       "         [ 6.7292],\n",
       "         [ 3.2081],\n",
       "         [ 0.0277],\n",
       "         [ 4.8668],\n",
       "         [ 5.8921],\n",
       "         [ 4.7382],\n",
       "         [ 9.2292],\n",
       "         [ 8.4420],\n",
       "         [ 0.6136],\n",
       "         [ 2.5662],\n",
       "         [-4.8914],\n",
       "         [ 4.8309],\n",
       "         [ 8.2253],\n",
       "         [ 7.5154],\n",
       "         [ 9.0241],\n",
       "         [ 6.0136],\n",
       "         [-2.3619]])]"
      ]
     },
     "execution_count": 50,
     "metadata": {},
     "output_type": "execute_result"
    }
   ],
   "source": [
    "next(iter(data_iter))"
   ]
  },
  {
   "cell_type": "markdown",
   "metadata": {},
   "source": [
    "$$\n",
    "\\\\\n",
    "$$"
   ]
  },
  {
   "cell_type": "markdown",
   "metadata": {},
   "source": [
    "### 2) Model"
   ]
  },
  {
   "cell_type": "code",
   "execution_count": 51,
   "metadata": {
    "id": "J_83KBFOxJFB"
   },
   "outputs": [],
   "source": [
    "net = nn.Sequential(nn.Linear(2, 1)) ###"
   ]
  },
  {
   "cell_type": "code",
   "execution_count": 52,
   "metadata": {
    "id": "AdJQQgFaxL2H",
    "scrolled": true
   },
   "outputs": [
    {
     "data": {
      "text/plain": [
       "tensor([0.])"
      ]
     },
     "execution_count": 52,
     "metadata": {},
     "output_type": "execute_result"
    }
   ],
   "source": [
    "net[0].weight.data.normal_(0, 0.01)\n",
    "net[0].bias.data.fill_(0)"
   ]
  },
  {
   "cell_type": "code",
   "execution_count": 53,
   "metadata": {
    "id": "vSCAFyfAxNAn"
   },
   "outputs": [],
   "source": [
    "loss = nn.MSELoss() ### api function: MSE\n",
    "trainer = torch.optim.SGD(net.parameters(), lr = 0.01) ### api function: SGD"
   ]
  },
  {
   "cell_type": "markdown",
   "metadata": {},
   "source": [
    "$$\n",
    "\\\\\n",
    "$$"
   ]
  },
  {
   "cell_type": "markdown",
   "metadata": {},
   "source": [
    "### 3) Training Cycle"
   ]
  },
  {
   "cell_type": "code",
   "execution_count": 54,
   "metadata": {
    "id": "5fAmW5bUxP9Z",
    "scrolled": false
   },
   "outputs": [
    {
     "name": "stdout",
     "output_type": "stream",
     "text": [
      "epoch 1, loss 0.617246\n",
      "epoch 2, loss 0.009168\n",
      "epoch 3, loss 0.000234\n"
     ]
    }
   ],
   "source": [
    "num_epochs = 3\n",
    "for epoch in range(num_epochs):\n",
    "    for X, y in data_iter:\n",
    "        l = loss(net(X),y)\n",
    "        trainer.zero_grad()\n",
    "        l.backward()\n",
    "        trainer.step()\n",
    "    l = loss(net(features), labels)\n",
    "    print(f'epoch {epoch + 1}, loss {l:f}')"
   ]
  },
  {
   "cell_type": "markdown",
   "metadata": {},
   "source": [
    "$$\n",
    "\\\\\n",
    "$$"
   ]
  },
  {
   "cell_type": "markdown",
   "metadata": {},
   "source": [
    "### 4) Training Result"
   ]
  },
  {
   "cell_type": "markdown",
   "metadata": {},
   "source": [
    "**Result of `w`**"
   ]
  },
  {
   "cell_type": "code",
   "execution_count": 55,
   "metadata": {
    "id": "JT8VD6GhxR5m",
    "scrolled": true
   },
   "outputs": [
    {
     "data": {
      "text/plain": [
       "(tensor([ 3.0000, -1.5000]), tensor([[ 2.9962, -1.5008]]))"
      ]
     },
     "execution_count": 55,
     "metadata": {},
     "output_type": "execute_result"
    }
   ],
   "source": [
    "# True w vs. Estimated w\n",
    "w = net[0].weight.data ### Training result: w\n",
    "true_w, w"
   ]
  },
  {
   "cell_type": "code",
   "execution_count": 56,
   "metadata": {
    "id": "JT8VD6GhxR5m",
    "scrolled": true
   },
   "outputs": [
    {
     "name": "stdout",
     "output_type": "stream",
     "text": [
      "error in estimating w: tensor([0.0038, 0.0008])\n"
     ]
    }
   ],
   "source": [
    "# Error\n",
    "print('error in estimating w:', true_w - w.reshape(true_w.shape))"
   ]
  },
  {
   "cell_type": "markdown",
   "metadata": {},
   "source": [
    "$$\n",
    "\\\\\n",
    "$$"
   ]
  },
  {
   "cell_type": "markdown",
   "metadata": {},
   "source": [
    "**Result of `b`**"
   ]
  },
  {
   "cell_type": "code",
   "execution_count": 59,
   "metadata": {
    "id": "JT8VD6GhxR5m"
   },
   "outputs": [
    {
     "data": {
      "text/plain": [
       "(5.5, tensor([5.4892]))"
      ]
     },
     "execution_count": 59,
     "metadata": {},
     "output_type": "execute_result"
    }
   ],
   "source": [
    "# True b vs. Estimated b\n",
    "b = net[0].bias.data ### Training result: b\n",
    "true_b, b"
   ]
  },
  {
   "cell_type": "code",
   "execution_count": 58,
   "metadata": {
    "id": "JT8VD6GhxR5m",
    "scrolled": true
   },
   "outputs": [
    {
     "name": "stdout",
     "output_type": "stream",
     "text": [
      "error in estimating b: tensor([0.0108])\n"
     ]
    }
   ],
   "source": [
    "# Error\n",
    "print('error in estimating b:', true_b - b)"
   ]
  }
 ],
 "metadata": {
  "colab": {
   "provenance": []
  },
  "kernelspec": {
   "display_name": "Python 3 (ipykernel)",
   "language": "python",
   "name": "python3"
  },
  "language_info": {
   "codemirror_mode": {
    "name": "ipython",
    "version": 3
   },
   "file_extension": ".py",
   "mimetype": "text/x-python",
   "name": "python",
   "nbconvert_exporter": "python",
   "pygments_lexer": "ipython3",
   "version": "3.11.4"
  }
 },
 "nbformat": 4,
 "nbformat_minor": 1
}
