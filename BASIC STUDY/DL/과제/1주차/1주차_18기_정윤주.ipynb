{
  "cells": [
    {
      "cell_type": "markdown",
      "metadata": {
        "id": "YffDGVSIxijw"
      },
      "source": [
        "# 1주차 과제\n",
        "- 파이토치 시작하기 및 간단한 코드 빈칸 채워넣기"
      ]
    },
    {
      "cell_type": "markdown",
      "metadata": {
        "id": "MivAstLj4EpN"
      },
      "source": [
        "## 파이토치 시작하기"
      ]
    },
    {
      "cell_type": "code",
      "execution_count": 87,
      "metadata": {
        "id": "BS39ZJTi4CD0"
      },
      "outputs": [],
      "source": [
        "import torch"
      ]
    },
    {
      "cell_type": "markdown",
      "metadata": {
        "id": "ixz0WyWH4kSJ"
      },
      "source": [
        "- tensor 개념 파악 (array of numerical values(vector, matrix..))\n",
        "- 4x3 행렬 두 개 만들고 행으로 병합, 열로 병합\n"
      ]
    },
    {
      "cell_type": "code",
      "execution_count": 89,
      "metadata": {
        "id": "OlLUsvmL4kEY"
      },
      "outputs": [],
      "source": [
        "X=torch.tensor([[1,2,3],[4,5,6],[7,8,9],[10,11,12]])\n",
        "Y=torch.tensor([[0,1,2],[3,4,5],[6,6,6],[7,9,8]])\n",
        "\n",
        "# 행으로 병합 코드\n",
        "row = torch.concat((X,Y),dim=0)\n",
        "\n",
        "# 열로 병합 코드\n",
        "col = torch.concat((X,Y),dim=1)"
      ]
    },
    {
      "cell_type": "code",
      "source": [
        "row"
      ],
      "metadata": {
        "colab": {
          "base_uri": "https://localhost:8080/"
        },
        "id": "Vq1MnIgr_OuQ",
        "outputId": "cc740f4b-d113-439f-dca6-ab4fd33bedbb"
      },
      "execution_count": 90,
      "outputs": [
        {
          "output_type": "execute_result",
          "data": {
            "text/plain": [
              "tensor([[ 1,  2,  3],\n",
              "        [ 4,  5,  6],\n",
              "        [ 7,  8,  9],\n",
              "        [10, 11, 12],\n",
              "        [ 0,  1,  2],\n",
              "        [ 3,  4,  5],\n",
              "        [ 6,  6,  6],\n",
              "        [ 7,  9,  8]])"
            ]
          },
          "metadata": {},
          "execution_count": 90
        }
      ]
    },
    {
      "cell_type": "code",
      "source": [
        "col"
      ],
      "metadata": {
        "colab": {
          "base_uri": "https://localhost:8080/"
        },
        "id": "N_yNFd9IvFGC",
        "outputId": "785ad10a-a563-4cfb-c541-d637e6adc9cf"
      },
      "execution_count": 91,
      "outputs": [
        {
          "output_type": "execute_result",
          "data": {
            "text/plain": [
              "tensor([[ 1,  2,  3,  0,  1,  2],\n",
              "        [ 4,  5,  6,  3,  4,  5],\n",
              "        [ 7,  8,  9,  6,  6,  6],\n",
              "        [10, 11, 12,  7,  9,  8]])"
            ]
          },
          "metadata": {},
          "execution_count": 91
        }
      ]
    },
    {
      "cell_type": "markdown",
      "metadata": {
        "id": "Gh-1LJliusEc"
      },
      "source": [
        "### Linear Regression Implementation from Scratch\n",
        "- 머신러닝 기초와 비슷한 내용이지만 파이토치로 실행해보며 익숙해지는것이 목표\n"
      ]
    },
    {
      "cell_type": "code",
      "execution_count": 92,
      "metadata": {
        "id": "Ybbbqg8TqAVR",
        "colab": {
          "base_uri": "https://localhost:8080/"
        },
        "outputId": "0bea5c22-e7c0-42e5-8f77-8f5c40d7bfa6"
      },
      "outputs": [
        {
          "output_type": "stream",
          "name": "stdout",
          "text": [
            "Requirement already satisfied: d2l in /usr/local/lib/python3.10/dist-packages (1.0.3)\n",
            "Requirement already satisfied: jupyter==1.0.0 in /usr/local/lib/python3.10/dist-packages (from d2l) (1.0.0)\n",
            "Requirement already satisfied: numpy==1.23.5 in /usr/local/lib/python3.10/dist-packages (from d2l) (1.23.5)\n",
            "Requirement already satisfied: matplotlib==3.7.2 in /usr/local/lib/python3.10/dist-packages (from d2l) (3.7.2)\n",
            "Requirement already satisfied: matplotlib-inline==0.1.6 in /usr/local/lib/python3.10/dist-packages (from d2l) (0.1.6)\n",
            "Requirement already satisfied: requests==2.31.0 in /usr/local/lib/python3.10/dist-packages (from d2l) (2.31.0)\n",
            "Requirement already satisfied: pandas==2.0.3 in /usr/local/lib/python3.10/dist-packages (from d2l) (2.0.3)\n",
            "Requirement already satisfied: scipy==1.10.1 in /usr/local/lib/python3.10/dist-packages (from d2l) (1.10.1)\n",
            "Requirement already satisfied: notebook in /usr/local/lib/python3.10/dist-packages (from jupyter==1.0.0->d2l) (6.5.5)\n",
            "Requirement already satisfied: qtconsole in /usr/local/lib/python3.10/dist-packages (from jupyter==1.0.0->d2l) (5.5.1)\n",
            "Requirement already satisfied: jupyter-console in /usr/local/lib/python3.10/dist-packages (from jupyter==1.0.0->d2l) (6.1.0)\n",
            "Requirement already satisfied: nbconvert in /usr/local/lib/python3.10/dist-packages (from jupyter==1.0.0->d2l) (6.5.4)\n",
            "Requirement already satisfied: ipykernel in /usr/local/lib/python3.10/dist-packages (from jupyter==1.0.0->d2l) (5.5.6)\n",
            "Requirement already satisfied: ipywidgets in /usr/local/lib/python3.10/dist-packages (from jupyter==1.0.0->d2l) (7.7.1)\n",
            "Requirement already satisfied: contourpy>=1.0.1 in /usr/local/lib/python3.10/dist-packages (from matplotlib==3.7.2->d2l) (1.2.0)\n",
            "Requirement already satisfied: cycler>=0.10 in /usr/local/lib/python3.10/dist-packages (from matplotlib==3.7.2->d2l) (0.12.1)\n",
            "Requirement already satisfied: fonttools>=4.22.0 in /usr/local/lib/python3.10/dist-packages (from matplotlib==3.7.2->d2l) (4.47.2)\n",
            "Requirement already satisfied: kiwisolver>=1.0.1 in /usr/local/lib/python3.10/dist-packages (from matplotlib==3.7.2->d2l) (1.4.5)\n",
            "Requirement already satisfied: packaging>=20.0 in /usr/local/lib/python3.10/dist-packages (from matplotlib==3.7.2->d2l) (23.2)\n",
            "Requirement already satisfied: pillow>=6.2.0 in /usr/local/lib/python3.10/dist-packages (from matplotlib==3.7.2->d2l) (9.4.0)\n",
            "Requirement already satisfied: pyparsing<3.1,>=2.3.1 in /usr/local/lib/python3.10/dist-packages (from matplotlib==3.7.2->d2l) (3.0.9)\n",
            "Requirement already satisfied: python-dateutil>=2.7 in /usr/local/lib/python3.10/dist-packages (from matplotlib==3.7.2->d2l) (2.8.2)\n",
            "Requirement already satisfied: traitlets in /usr/local/lib/python3.10/dist-packages (from matplotlib-inline==0.1.6->d2l) (5.7.1)\n",
            "Requirement already satisfied: pytz>=2020.1 in /usr/local/lib/python3.10/dist-packages (from pandas==2.0.3->d2l) (2023.3.post1)\n",
            "Requirement already satisfied: tzdata>=2022.1 in /usr/local/lib/python3.10/dist-packages (from pandas==2.0.3->d2l) (2023.4)\n",
            "Requirement already satisfied: charset-normalizer<4,>=2 in /usr/local/lib/python3.10/dist-packages (from requests==2.31.0->d2l) (3.3.2)\n",
            "Requirement already satisfied: idna<4,>=2.5 in /usr/local/lib/python3.10/dist-packages (from requests==2.31.0->d2l) (3.6)\n",
            "Requirement already satisfied: urllib3<3,>=1.21.1 in /usr/local/lib/python3.10/dist-packages (from requests==2.31.0->d2l) (2.0.7)\n",
            "Requirement already satisfied: certifi>=2017.4.17 in /usr/local/lib/python3.10/dist-packages (from requests==2.31.0->d2l) (2023.11.17)\n",
            "Requirement already satisfied: six>=1.5 in /usr/local/lib/python3.10/dist-packages (from python-dateutil>=2.7->matplotlib==3.7.2->d2l) (1.16.0)\n",
            "Requirement already satisfied: ipython-genutils in /usr/local/lib/python3.10/dist-packages (from ipykernel->jupyter==1.0.0->d2l) (0.2.0)\n",
            "Requirement already satisfied: ipython>=5.0.0 in /usr/local/lib/python3.10/dist-packages (from ipykernel->jupyter==1.0.0->d2l) (7.34.0)\n",
            "Requirement already satisfied: jupyter-client in /usr/local/lib/python3.10/dist-packages (from ipykernel->jupyter==1.0.0->d2l) (6.1.12)\n",
            "Requirement already satisfied: tornado>=4.2 in /usr/local/lib/python3.10/dist-packages (from ipykernel->jupyter==1.0.0->d2l) (6.3.2)\n",
            "Requirement already satisfied: widgetsnbextension~=3.6.0 in /usr/local/lib/python3.10/dist-packages (from ipywidgets->jupyter==1.0.0->d2l) (3.6.6)\n",
            "Requirement already satisfied: jupyterlab-widgets>=1.0.0 in /usr/local/lib/python3.10/dist-packages (from ipywidgets->jupyter==1.0.0->d2l) (3.0.9)\n",
            "Requirement already satisfied: prompt-toolkit!=3.0.0,!=3.0.1,<3.1.0,>=2.0.0 in /usr/local/lib/python3.10/dist-packages (from jupyter-console->jupyter==1.0.0->d2l) (3.0.43)\n",
            "Requirement already satisfied: pygments in /usr/local/lib/python3.10/dist-packages (from jupyter-console->jupyter==1.0.0->d2l) (2.16.1)\n",
            "Requirement already satisfied: lxml in /usr/local/lib/python3.10/dist-packages (from nbconvert->jupyter==1.0.0->d2l) (4.9.4)\n",
            "Requirement already satisfied: beautifulsoup4 in /usr/local/lib/python3.10/dist-packages (from nbconvert->jupyter==1.0.0->d2l) (4.11.2)\n",
            "Requirement already satisfied: bleach in /usr/local/lib/python3.10/dist-packages (from nbconvert->jupyter==1.0.0->d2l) (6.1.0)\n",
            "Requirement already satisfied: defusedxml in /usr/local/lib/python3.10/dist-packages (from nbconvert->jupyter==1.0.0->d2l) (0.7.1)\n",
            "Requirement already satisfied: entrypoints>=0.2.2 in /usr/local/lib/python3.10/dist-packages (from nbconvert->jupyter==1.0.0->d2l) (0.4)\n",
            "Requirement already satisfied: jinja2>=3.0 in /usr/local/lib/python3.10/dist-packages (from nbconvert->jupyter==1.0.0->d2l) (3.1.3)\n",
            "Requirement already satisfied: jupyter-core>=4.7 in /usr/local/lib/python3.10/dist-packages (from nbconvert->jupyter==1.0.0->d2l) (5.7.1)\n",
            "Requirement already satisfied: jupyterlab-pygments in /usr/local/lib/python3.10/dist-packages (from nbconvert->jupyter==1.0.0->d2l) (0.3.0)\n",
            "Requirement already satisfied: MarkupSafe>=2.0 in /usr/local/lib/python3.10/dist-packages (from nbconvert->jupyter==1.0.0->d2l) (2.1.3)\n",
            "Requirement already satisfied: mistune<2,>=0.8.1 in /usr/local/lib/python3.10/dist-packages (from nbconvert->jupyter==1.0.0->d2l) (0.8.4)\n",
            "Requirement already satisfied: nbclient>=0.5.0 in /usr/local/lib/python3.10/dist-packages (from nbconvert->jupyter==1.0.0->d2l) (0.9.0)\n",
            "Requirement already satisfied: nbformat>=5.1 in /usr/local/lib/python3.10/dist-packages (from nbconvert->jupyter==1.0.0->d2l) (5.9.2)\n",
            "Requirement already satisfied: pandocfilters>=1.4.1 in /usr/local/lib/python3.10/dist-packages (from nbconvert->jupyter==1.0.0->d2l) (1.5.0)\n",
            "Requirement already satisfied: tinycss2 in /usr/local/lib/python3.10/dist-packages (from nbconvert->jupyter==1.0.0->d2l) (1.2.1)\n",
            "Requirement already satisfied: pyzmq<25,>=17 in /usr/local/lib/python3.10/dist-packages (from notebook->jupyter==1.0.0->d2l) (23.2.1)\n",
            "Requirement already satisfied: argon2-cffi in /usr/local/lib/python3.10/dist-packages (from notebook->jupyter==1.0.0->d2l) (23.1.0)\n",
            "Requirement already satisfied: nest-asyncio>=1.5 in /usr/local/lib/python3.10/dist-packages (from notebook->jupyter==1.0.0->d2l) (1.5.8)\n",
            "Requirement already satisfied: Send2Trash>=1.8.0 in /usr/local/lib/python3.10/dist-packages (from notebook->jupyter==1.0.0->d2l) (1.8.2)\n",
            "Requirement already satisfied: terminado>=0.8.3 in /usr/local/lib/python3.10/dist-packages (from notebook->jupyter==1.0.0->d2l) (0.18.0)\n",
            "Requirement already satisfied: prometheus-client in /usr/local/lib/python3.10/dist-packages (from notebook->jupyter==1.0.0->d2l) (0.19.0)\n",
            "Requirement already satisfied: nbclassic>=0.4.7 in /usr/local/lib/python3.10/dist-packages (from notebook->jupyter==1.0.0->d2l) (1.0.0)\n",
            "Requirement already satisfied: qtpy>=2.4.0 in /usr/local/lib/python3.10/dist-packages (from qtconsole->jupyter==1.0.0->d2l) (2.4.1)\n",
            "Requirement already satisfied: setuptools>=18.5 in /usr/local/lib/python3.10/dist-packages (from ipython>=5.0.0->ipykernel->jupyter==1.0.0->d2l) (67.7.2)\n",
            "Requirement already satisfied: jedi>=0.16 in /usr/local/lib/python3.10/dist-packages (from ipython>=5.0.0->ipykernel->jupyter==1.0.0->d2l) (0.19.1)\n",
            "Requirement already satisfied: decorator in /usr/local/lib/python3.10/dist-packages (from ipython>=5.0.0->ipykernel->jupyter==1.0.0->d2l) (4.4.2)\n",
            "Requirement already satisfied: pickleshare in /usr/local/lib/python3.10/dist-packages (from ipython>=5.0.0->ipykernel->jupyter==1.0.0->d2l) (0.7.5)\n",
            "Requirement already satisfied: backcall in /usr/local/lib/python3.10/dist-packages (from ipython>=5.0.0->ipykernel->jupyter==1.0.0->d2l) (0.2.0)\n",
            "Requirement already satisfied: pexpect>4.3 in /usr/local/lib/python3.10/dist-packages (from ipython>=5.0.0->ipykernel->jupyter==1.0.0->d2l) (4.9.0)\n",
            "Requirement already satisfied: platformdirs>=2.5 in /usr/local/lib/python3.10/dist-packages (from jupyter-core>=4.7->nbconvert->jupyter==1.0.0->d2l) (4.1.0)\n",
            "Requirement already satisfied: jupyter-server>=1.8 in /usr/local/lib/python3.10/dist-packages (from nbclassic>=0.4.7->notebook->jupyter==1.0.0->d2l) (1.24.0)\n",
            "Requirement already satisfied: notebook-shim>=0.2.3 in /usr/local/lib/python3.10/dist-packages (from nbclassic>=0.4.7->notebook->jupyter==1.0.0->d2l) (0.2.3)\n",
            "Requirement already satisfied: fastjsonschema in /usr/local/lib/python3.10/dist-packages (from nbformat>=5.1->nbconvert->jupyter==1.0.0->d2l) (2.19.1)\n",
            "Requirement already satisfied: jsonschema>=2.6 in /usr/local/lib/python3.10/dist-packages (from nbformat>=5.1->nbconvert->jupyter==1.0.0->d2l) (4.19.2)\n",
            "Requirement already satisfied: wcwidth in /usr/local/lib/python3.10/dist-packages (from prompt-toolkit!=3.0.0,!=3.0.1,<3.1.0,>=2.0.0->jupyter-console->jupyter==1.0.0->d2l) (0.2.13)\n",
            "Requirement already satisfied: ptyprocess in /usr/local/lib/python3.10/dist-packages (from terminado>=0.8.3->notebook->jupyter==1.0.0->d2l) (0.7.0)\n",
            "Requirement already satisfied: argon2-cffi-bindings in /usr/local/lib/python3.10/dist-packages (from argon2-cffi->notebook->jupyter==1.0.0->d2l) (21.2.0)\n",
            "Requirement already satisfied: soupsieve>1.2 in /usr/local/lib/python3.10/dist-packages (from beautifulsoup4->nbconvert->jupyter==1.0.0->d2l) (2.5)\n",
            "Requirement already satisfied: webencodings in /usr/local/lib/python3.10/dist-packages (from bleach->nbconvert->jupyter==1.0.0->d2l) (0.5.1)\n",
            "Requirement already satisfied: parso<0.9.0,>=0.8.3 in /usr/local/lib/python3.10/dist-packages (from jedi>=0.16->ipython>=5.0.0->ipykernel->jupyter==1.0.0->d2l) (0.8.3)\n",
            "Requirement already satisfied: attrs>=22.2.0 in /usr/local/lib/python3.10/dist-packages (from jsonschema>=2.6->nbformat>=5.1->nbconvert->jupyter==1.0.0->d2l) (23.2.0)\n",
            "Requirement already satisfied: jsonschema-specifications>=2023.03.6 in /usr/local/lib/python3.10/dist-packages (from jsonschema>=2.6->nbformat>=5.1->nbconvert->jupyter==1.0.0->d2l) (2023.12.1)\n",
            "Requirement already satisfied: referencing>=0.28.4 in /usr/local/lib/python3.10/dist-packages (from jsonschema>=2.6->nbformat>=5.1->nbconvert->jupyter==1.0.0->d2l) (0.32.1)\n",
            "Requirement already satisfied: rpds-py>=0.7.1 in /usr/local/lib/python3.10/dist-packages (from jsonschema>=2.6->nbformat>=5.1->nbconvert->jupyter==1.0.0->d2l) (0.16.2)\n",
            "Requirement already satisfied: anyio<4,>=3.1.0 in /usr/local/lib/python3.10/dist-packages (from jupyter-server>=1.8->nbclassic>=0.4.7->notebook->jupyter==1.0.0->d2l) (3.7.1)\n",
            "Requirement already satisfied: websocket-client in /usr/local/lib/python3.10/dist-packages (from jupyter-server>=1.8->nbclassic>=0.4.7->notebook->jupyter==1.0.0->d2l) (1.7.0)\n",
            "Requirement already satisfied: cffi>=1.0.1 in /usr/local/lib/python3.10/dist-packages (from argon2-cffi-bindings->argon2-cffi->notebook->jupyter==1.0.0->d2l) (1.16.0)\n",
            "Requirement already satisfied: sniffio>=1.1 in /usr/local/lib/python3.10/dist-packages (from anyio<4,>=3.1.0->jupyter-server>=1.8->nbclassic>=0.4.7->notebook->jupyter==1.0.0->d2l) (1.3.0)\n",
            "Requirement already satisfied: exceptiongroup in /usr/local/lib/python3.10/dist-packages (from anyio<4,>=3.1.0->jupyter-server>=1.8->nbclassic>=0.4.7->notebook->jupyter==1.0.0->d2l) (1.2.0)\n",
            "Requirement already satisfied: pycparser in /usr/local/lib/python3.10/dist-packages (from cffi>=1.0.1->argon2-cffi-bindings->argon2-cffi->notebook->jupyter==1.0.0->d2l) (2.21)\n"
          ]
        }
      ],
      "source": [
        "!pip install d2l # d2l 라이브러리에서 제공하는 기능 사용 위함"
      ]
    },
    {
      "cell_type": "code",
      "execution_count": 93,
      "metadata": {
        "id": "YyWEB6e3FKYY"
      },
      "outputs": [],
      "source": [
        "%matplotlib inline\n",
        "import random\n",
        "import torch\n",
        "from d2l import torch as d2l"
      ]
    },
    {
      "cell_type": "code",
      "execution_count": 94,
      "metadata": {
        "id": "exWjbVn2v3CT"
      },
      "outputs": [],
      "source": [
        "def synthetic_data(w, b, num_examples):\n",
        "    \"\"\"Generate y = Xw + b + noise.\"\"\"\n",
        "    X = torch.normal(0, 1, (num_examples, len(w)))\n",
        "    y = torch.matmul(X, w) + b\n",
        "    y += torch.normal(0, 0.01, y.shape)\n",
        "    return X, y.reshape((-1, 1))\n",
        "\n",
        "true_w = torch.tensor([3, -1.5])\n",
        "true_b = 5.5\n",
        "features, labels = synthetic_data(true_w, true_b, 2000)"
      ]
    },
    {
      "cell_type": "code",
      "execution_count": 95,
      "metadata": {
        "id": "5UcjckXPv6iy",
        "colab": {
          "base_uri": "https://localhost:8080/"
        },
        "outputId": "0ddfa202-c26f-48d1-8739-53d9e61db3de"
      },
      "outputs": [
        {
          "output_type": "stream",
          "name": "stdout",
          "text": [
            "features: tensor([2.0151, 0.8653]) \n",
            "label: tensor([10.2376])\n"
          ]
        }
      ],
      "source": [
        "print('features:', features[0],'\\nlabel:', labels[0])"
      ]
    },
    {
      "cell_type": "code",
      "execution_count": 97,
      "metadata": {
        "id": "jLY6YR5Zv_gO"
      },
      "outputs": [],
      "source": [
        "def data_iter(batch_size, features, labels):\n",
        "    num_examples = len(features)\n",
        "    indices = list(range(num_examples))\n",
        "    # The examples are read at random, in no particular order\n",
        "    random.shuffle(indices)\n",
        "     ###반복문으로 채워넣기\n",
        "    for i in range(0,num_examples, batch_size):\n",
        "        ##이하는 반복문에 대한 조건입니다.\n",
        "        batch_indices = torch.tensor(\n",
        "            indices[i: min(i + batch_size, num_examples)])\n",
        "        yield features[batch_indices], labels[batch_indices]"
      ]
    },
    {
      "cell_type": "code",
      "execution_count": 98,
      "metadata": {
        "id": "zuxxEAvdwA7p",
        "colab": {
          "base_uri": "https://localhost:8080/"
        },
        "outputId": "2cb1f5de-a92e-4865-b845-f91b147e4e05"
      },
      "outputs": [
        {
          "output_type": "stream",
          "name": "stdout",
          "text": [
            "tensor([[ 0.4950,  0.2043],\n",
            "        [ 1.1174, -0.1901],\n",
            "        [ 1.7018, -0.9570],\n",
            "        [ 0.2749, -0.1243],\n",
            "        [ 0.9874,  0.6286],\n",
            "        [-0.0534, -0.1289],\n",
            "        [ 0.6082,  0.7226],\n",
            "        [-0.3865,  0.5559],\n",
            "        [-0.4393,  1.1257],\n",
            "        [ 0.3767,  0.0891],\n",
            "        [ 0.5736, -0.8996],\n",
            "        [ 0.7021, -0.0738],\n",
            "        [-0.3869,  1.1315],\n",
            "        [ 0.4912, -0.3637],\n",
            "        [ 0.1799, -0.4314],\n",
            "        [-1.2293, -1.7366],\n",
            "        [-2.0031,  1.0966],\n",
            "        [-0.0534,  1.4170],\n",
            "        [-0.5956, -1.3185],\n",
            "        [ 0.5258, -0.2745]]) \n",
            " tensor([[ 6.6817],\n",
            "        [ 9.1430],\n",
            "        [12.0595],\n",
            "        [ 6.5029],\n",
            "        [ 7.5204],\n",
            "        [ 5.5395],\n",
            "        [ 6.2406],\n",
            "        [ 3.5068],\n",
            "        [ 2.4989],\n",
            "        [ 6.5051],\n",
            "        [ 8.5726],\n",
            "        [ 7.7175],\n",
            "        [ 2.6467],\n",
            "        [ 7.5217],\n",
            "        [ 6.7050],\n",
            "        [ 4.4162],\n",
            "        [-2.1583],\n",
            "        [ 3.2088],\n",
            "        [ 5.6991],\n",
            "        [ 7.4956]])\n"
          ]
        }
      ],
      "source": [
        "batch_size = 20\n",
        "\n",
        "for X, y in data_iter(batch_size, features, labels):\n",
        "    print(X, '\\n', y)\n",
        "    break"
      ]
    },
    {
      "cell_type": "code",
      "execution_count": 106,
      "metadata": {
        "id": "f_yHcVYEwCHq"
      },
      "outputs": [],
      "source": [
        "w = torch.normal(0, 0.01, size=(2,1), requires_grad=True)\n",
        "b = torch.tensor([2.0], requires_grad=True)#원하는 실수를 넣어주세요"
      ]
    },
    {
      "cell_type": "code",
      "execution_count": 111,
      "metadata": {
        "id": "wOT4gBtZwDVA"
      },
      "outputs": [],
      "source": [
        "def linreg(X, w, b):\n",
        "    \"\"\"The linear regression model.\"\"\"\n",
        "    return torch.matmul(X,w) + b ###lr func 코드 완성하기"
      ]
    },
    {
      "cell_type": "code",
      "execution_count": 112,
      "metadata": {
        "id": "WFYMJrrSwE5R"
      },
      "outputs": [],
      "source": [
        "def squared_loss(y_hat, y):\n",
        "    \"\"\"Squared loss.\"\"\"\n",
        "    return torch.mean((y_hat-y)**2)"
      ]
    },
    {
      "cell_type": "code",
      "execution_count": 113,
      "metadata": {
        "id": "MXD0qP8PwIn0"
      },
      "outputs": [],
      "source": [
        "def sgd(params, lr, batch_size):\n",
        "    \"\"\"Minibatch stochastic gradient descent.\"\"\"\n",
        "    with torch.no_grad():\n",
        "      for param in params:\n",
        "        if param.grad is not None:\n",
        "          param -= lr * param.grad / batch_size\n",
        "          param.grad.zero_()#초기화"
      ]
    },
    {
      "cell_type": "code",
      "execution_count": 114,
      "metadata": {
        "id": "pS_hm3J8wJ4z",
        "colab": {
          "base_uri": "https://localhost:8080/"
        },
        "outputId": "9b58c871-804b-4a8a-f790-641fd29a8006"
      },
      "outputs": [
        {
          "output_type": "stream",
          "name": "stdout",
          "text": [
            "epoch 1, loss 18.626040\n",
            "epoch 2, loss 15.379051\n",
            "epoch 3, loss 12.698328\n",
            "epoch 4, loss 10.485079\n",
            "epoch 5, loss 8.657736\n",
            "epoch 6, loss 7.149014\n",
            "epoch 7, loss 5.903314\n",
            "epoch 8, loss 4.874758\n",
            "epoch 9, loss 4.025485\n",
            "epoch 10, loss 3.324229\n",
            "epoch 11, loss 2.745185\n",
            "epoch 12, loss 2.267042\n",
            "epoch 13, loss 1.872209\n",
            "epoch 14, loss 1.546173\n",
            "epoch 15, loss 1.276936\n",
            "epoch 16, loss 1.054601\n",
            "epoch 17, loss 0.870989\n",
            "epoch 18, loss 0.719363\n",
            "epoch 19, loss 0.594140\n",
            "epoch 20, loss 0.490725\n",
            "epoch 21, loss 0.405318\n",
            "epoch 22, loss 0.334782\n",
            "epoch 23, loss 0.276532\n",
            "epoch 24, loss 0.228422\n",
            "epoch 25, loss 0.188686\n",
            "epoch 26, loss 0.155867\n",
            "epoch 27, loss 0.128761\n",
            "epoch 28, loss 0.106372\n",
            "epoch 29, loss 0.087881\n",
            "epoch 30, loss 0.072608\n",
            "epoch 31, loss 0.059992\n",
            "epoch 32, loss 0.049573\n",
            "epoch 33, loss 0.040967\n",
            "epoch 34, loss 0.033858\n",
            "epoch 35, loss 0.027986\n",
            "epoch 36, loss 0.023135\n",
            "epoch 37, loss 0.019129\n",
            "epoch 38, loss 0.015819\n",
            "epoch 39, loss 0.013085\n",
            "epoch 40, loss 0.010826\n",
            "epoch 41, loss 0.008961\n",
            "epoch 42, loss 0.007420\n",
            "epoch 43, loss 0.006147\n",
            "epoch 44, loss 0.005095\n",
            "epoch 45, loss 0.004226\n",
            "epoch 46, loss 0.003508\n",
            "epoch 47, loss 0.002915\n",
            "epoch 48, loss 0.002426\n",
            "epoch 49, loss 0.002021\n",
            "epoch 50, loss 0.001687\n",
            "epoch 51, loss 0.001411\n",
            "epoch 52, loss 0.001182\n",
            "epoch 53, loss 0.000994\n",
            "epoch 54, loss 0.000838\n",
            "epoch 55, loss 0.000709\n",
            "epoch 56, loss 0.000603\n",
            "epoch 57, loss 0.000516\n",
            "epoch 58, loss 0.000443\n",
            "epoch 59, loss 0.000383\n",
            "epoch 60, loss 0.000334\n",
            "epoch 61, loss 0.000293\n",
            "epoch 62, loss 0.000259\n",
            "epoch 63, loss 0.000231\n",
            "epoch 64, loss 0.000208\n",
            "epoch 65, loss 0.000189\n",
            "epoch 66, loss 0.000173\n",
            "epoch 67, loss 0.000160\n",
            "epoch 68, loss 0.000149\n",
            "epoch 69, loss 0.000140\n",
            "epoch 70, loss 0.000133\n",
            "epoch 71, loss 0.000127\n",
            "epoch 72, loss 0.000122\n",
            "epoch 73, loss 0.000118\n",
            "epoch 74, loss 0.000115\n",
            "epoch 75, loss 0.000112\n",
            "epoch 76, loss 0.000109\n",
            "epoch 77, loss 0.000107\n",
            "epoch 78, loss 0.000106\n",
            "epoch 79, loss 0.000105\n",
            "epoch 80, loss 0.000103\n",
            "epoch 81, loss 0.000103\n",
            "epoch 82, loss 0.000102\n",
            "epoch 83, loss 0.000101\n",
            "epoch 84, loss 0.000101\n",
            "epoch 85, loss 0.000100\n",
            "epoch 86, loss 0.000100\n",
            "epoch 87, loss 0.000100\n",
            "epoch 88, loss 0.000099\n",
            "epoch 89, loss 0.000099\n",
            "epoch 90, loss 0.000099\n",
            "epoch 91, loss 0.000099\n",
            "epoch 92, loss 0.000099\n",
            "epoch 93, loss 0.000099\n",
            "epoch 94, loss 0.000099\n",
            "epoch 95, loss 0.000099\n",
            "epoch 96, loss 0.000099\n",
            "epoch 97, loss 0.000098\n",
            "epoch 98, loss 0.000098\n",
            "epoch 99, loss 0.000098\n",
            "epoch 100, loss 0.000098\n",
            "epoch 101, loss 0.000098\n",
            "epoch 102, loss 0.000098\n",
            "epoch 103, loss 0.000098\n",
            "epoch 104, loss 0.000098\n",
            "epoch 105, loss 0.000098\n",
            "epoch 106, loss 0.000098\n",
            "epoch 107, loss 0.000098\n",
            "epoch 108, loss 0.000098\n",
            "epoch 109, loss 0.000098\n",
            "epoch 110, loss 0.000098\n",
            "epoch 111, loss 0.000098\n",
            "epoch 112, loss 0.000098\n",
            "epoch 113, loss 0.000098\n",
            "epoch 114, loss 0.000098\n",
            "epoch 115, loss 0.000098\n",
            "epoch 116, loss 0.000098\n",
            "epoch 117, loss 0.000098\n",
            "epoch 118, loss 0.000098\n",
            "epoch 119, loss 0.000098\n",
            "epoch 120, loss 0.000098\n",
            "epoch 121, loss 0.000098\n",
            "epoch 122, loss 0.000098\n",
            "epoch 123, loss 0.000098\n",
            "epoch 124, loss 0.000098\n",
            "epoch 125, loss 0.000098\n",
            "epoch 126, loss 0.000098\n",
            "epoch 127, loss 0.000098\n",
            "epoch 128, loss 0.000098\n",
            "epoch 129, loss 0.000098\n",
            "epoch 130, loss 0.000098\n",
            "epoch 131, loss 0.000098\n",
            "epoch 132, loss 0.000098\n",
            "epoch 133, loss 0.000098\n",
            "epoch 134, loss 0.000098\n",
            "epoch 135, loss 0.000098\n",
            "epoch 136, loss 0.000098\n",
            "epoch 137, loss 0.000098\n",
            "epoch 138, loss 0.000098\n",
            "epoch 139, loss 0.000098\n",
            "epoch 140, loss 0.000098\n",
            "epoch 141, loss 0.000098\n",
            "epoch 142, loss 0.000098\n",
            "epoch 143, loss 0.000098\n",
            "epoch 144, loss 0.000098\n",
            "epoch 145, loss 0.000098\n",
            "epoch 146, loss 0.000098\n",
            "epoch 147, loss 0.000098\n",
            "epoch 148, loss 0.000098\n",
            "epoch 149, loss 0.000098\n",
            "epoch 150, loss 0.000098\n",
            "epoch 151, loss 0.000098\n",
            "epoch 152, loss 0.000098\n",
            "epoch 153, loss 0.000098\n",
            "epoch 154, loss 0.000098\n",
            "epoch 155, loss 0.000098\n",
            "epoch 156, loss 0.000098\n",
            "epoch 157, loss 0.000098\n",
            "epoch 158, loss 0.000098\n",
            "epoch 159, loss 0.000098\n",
            "epoch 160, loss 0.000098\n",
            "epoch 161, loss 0.000098\n",
            "epoch 162, loss 0.000098\n",
            "epoch 163, loss 0.000098\n",
            "epoch 164, loss 0.000098\n",
            "epoch 165, loss 0.000098\n",
            "epoch 166, loss 0.000098\n",
            "epoch 167, loss 0.000098\n",
            "epoch 168, loss 0.000098\n",
            "epoch 169, loss 0.000098\n",
            "epoch 170, loss 0.000098\n",
            "epoch 171, loss 0.000098\n",
            "epoch 172, loss 0.000098\n",
            "epoch 173, loss 0.000098\n",
            "epoch 174, loss 0.000098\n",
            "epoch 175, loss 0.000098\n",
            "epoch 176, loss 0.000098\n",
            "epoch 177, loss 0.000098\n",
            "epoch 178, loss 0.000098\n",
            "epoch 179, loss 0.000098\n",
            "epoch 180, loss 0.000098\n",
            "epoch 181, loss 0.000098\n",
            "epoch 182, loss 0.000098\n",
            "epoch 183, loss 0.000098\n",
            "epoch 184, loss 0.000098\n",
            "epoch 185, loss 0.000098\n",
            "epoch 186, loss 0.000098\n",
            "epoch 187, loss 0.000098\n",
            "epoch 188, loss 0.000098\n",
            "epoch 189, loss 0.000098\n",
            "epoch 190, loss 0.000098\n",
            "epoch 191, loss 0.000098\n",
            "epoch 192, loss 0.000098\n",
            "epoch 193, loss 0.000098\n",
            "epoch 194, loss 0.000098\n",
            "epoch 195, loss 0.000098\n",
            "epoch 196, loss 0.000098\n",
            "epoch 197, loss 0.000098\n",
            "epoch 198, loss 0.000098\n",
            "epoch 199, loss 0.000098\n",
            "epoch 200, loss 0.000098\n",
            "epoch 201, loss 0.000098\n",
            "epoch 202, loss 0.000098\n",
            "epoch 203, loss 0.000098\n",
            "epoch 204, loss 0.000098\n",
            "epoch 205, loss 0.000098\n",
            "epoch 206, loss 0.000098\n",
            "epoch 207, loss 0.000098\n",
            "epoch 208, loss 0.000098\n",
            "epoch 209, loss 0.000098\n",
            "epoch 210, loss 0.000098\n",
            "epoch 211, loss 0.000098\n",
            "epoch 212, loss 0.000098\n",
            "epoch 213, loss 0.000098\n",
            "epoch 214, loss 0.000098\n",
            "epoch 215, loss 0.000098\n",
            "epoch 216, loss 0.000098\n",
            "epoch 217, loss 0.000098\n",
            "epoch 218, loss 0.000098\n",
            "epoch 219, loss 0.000098\n",
            "epoch 220, loss 0.000098\n",
            "epoch 221, loss 0.000098\n",
            "epoch 222, loss 0.000098\n",
            "epoch 223, loss 0.000098\n",
            "epoch 224, loss 0.000098\n",
            "epoch 225, loss 0.000098\n",
            "epoch 226, loss 0.000098\n",
            "epoch 227, loss 0.000098\n",
            "epoch 228, loss 0.000098\n",
            "epoch 229, loss 0.000098\n",
            "epoch 230, loss 0.000098\n",
            "epoch 231, loss 0.000098\n",
            "epoch 232, loss 0.000098\n",
            "epoch 233, loss 0.000098\n",
            "epoch 234, loss 0.000098\n",
            "epoch 235, loss 0.000098\n",
            "epoch 236, loss 0.000098\n",
            "epoch 237, loss 0.000098\n",
            "epoch 238, loss 0.000098\n",
            "epoch 239, loss 0.000098\n",
            "epoch 240, loss 0.000098\n",
            "epoch 241, loss 0.000098\n",
            "epoch 242, loss 0.000098\n",
            "epoch 243, loss 0.000098\n",
            "epoch 244, loss 0.000098\n",
            "epoch 245, loss 0.000098\n",
            "epoch 246, loss 0.000098\n",
            "epoch 247, loss 0.000098\n",
            "epoch 248, loss 0.000098\n",
            "epoch 249, loss 0.000098\n",
            "epoch 250, loss 0.000098\n",
            "epoch 251, loss 0.000098\n",
            "epoch 252, loss 0.000098\n",
            "epoch 253, loss 0.000098\n",
            "epoch 254, loss 0.000098\n",
            "epoch 255, loss 0.000098\n",
            "epoch 256, loss 0.000098\n",
            "epoch 257, loss 0.000098\n",
            "epoch 258, loss 0.000098\n",
            "epoch 259, loss 0.000098\n",
            "epoch 260, loss 0.000098\n",
            "epoch 261, loss 0.000098\n",
            "epoch 262, loss 0.000098\n",
            "epoch 263, loss 0.000098\n",
            "epoch 264, loss 0.000098\n",
            "epoch 265, loss 0.000098\n",
            "epoch 266, loss 0.000098\n",
            "epoch 267, loss 0.000098\n",
            "epoch 268, loss 0.000098\n",
            "epoch 269, loss 0.000098\n",
            "epoch 270, loss 0.000098\n",
            "epoch 271, loss 0.000098\n",
            "epoch 272, loss 0.000098\n",
            "epoch 273, loss 0.000098\n",
            "epoch 274, loss 0.000098\n",
            "epoch 275, loss 0.000098\n",
            "epoch 276, loss 0.000098\n",
            "epoch 277, loss 0.000098\n",
            "epoch 278, loss 0.000098\n",
            "epoch 279, loss 0.000098\n",
            "epoch 280, loss 0.000098\n",
            "epoch 281, loss 0.000098\n",
            "epoch 282, loss 0.000098\n",
            "epoch 283, loss 0.000098\n",
            "epoch 284, loss 0.000098\n",
            "epoch 285, loss 0.000098\n",
            "epoch 286, loss 0.000098\n",
            "epoch 287, loss 0.000098\n",
            "epoch 288, loss 0.000098\n",
            "epoch 289, loss 0.000098\n",
            "epoch 290, loss 0.000098\n",
            "epoch 291, loss 0.000098\n",
            "epoch 292, loss 0.000098\n",
            "epoch 293, loss 0.000098\n",
            "epoch 294, loss 0.000098\n",
            "epoch 295, loss 0.000098\n",
            "epoch 296, loss 0.000098\n",
            "epoch 297, loss 0.000098\n",
            "epoch 298, loss 0.000098\n",
            "epoch 299, loss 0.000098\n",
            "epoch 300, loss 0.000098\n",
            "epoch 301, loss 0.000098\n",
            "epoch 302, loss 0.000098\n",
            "epoch 303, loss 0.000098\n",
            "epoch 304, loss 0.000098\n",
            "epoch 305, loss 0.000098\n",
            "epoch 306, loss 0.000098\n",
            "epoch 307, loss 0.000098\n",
            "epoch 308, loss 0.000098\n",
            "epoch 309, loss 0.000098\n",
            "epoch 310, loss 0.000098\n",
            "epoch 311, loss 0.000098\n",
            "epoch 312, loss 0.000098\n",
            "epoch 313, loss 0.000098\n",
            "epoch 314, loss 0.000098\n",
            "epoch 315, loss 0.000098\n",
            "epoch 316, loss 0.000098\n",
            "epoch 317, loss 0.000098\n",
            "epoch 318, loss 0.000098\n",
            "epoch 319, loss 0.000098\n",
            "epoch 320, loss 0.000098\n",
            "epoch 321, loss 0.000098\n",
            "epoch 322, loss 0.000098\n",
            "epoch 323, loss 0.000098\n",
            "epoch 324, loss 0.000098\n",
            "epoch 325, loss 0.000098\n",
            "epoch 326, loss 0.000098\n",
            "epoch 327, loss 0.000098\n",
            "epoch 328, loss 0.000098\n",
            "epoch 329, loss 0.000098\n",
            "epoch 330, loss 0.000098\n",
            "epoch 331, loss 0.000098\n",
            "epoch 332, loss 0.000098\n",
            "epoch 333, loss 0.000098\n",
            "epoch 334, loss 0.000098\n",
            "epoch 335, loss 0.000098\n",
            "epoch 336, loss 0.000098\n",
            "epoch 337, loss 0.000098\n",
            "epoch 338, loss 0.000098\n",
            "epoch 339, loss 0.000098\n",
            "epoch 340, loss 0.000098\n",
            "epoch 341, loss 0.000098\n",
            "epoch 342, loss 0.000098\n",
            "epoch 343, loss 0.000098\n",
            "epoch 344, loss 0.000098\n",
            "epoch 345, loss 0.000098\n",
            "epoch 346, loss 0.000098\n",
            "epoch 347, loss 0.000098\n",
            "epoch 348, loss 0.000098\n",
            "epoch 349, loss 0.000098\n",
            "epoch 350, loss 0.000098\n",
            "epoch 351, loss 0.000098\n",
            "epoch 352, loss 0.000098\n",
            "epoch 353, loss 0.000098\n",
            "epoch 354, loss 0.000098\n",
            "epoch 355, loss 0.000098\n",
            "epoch 356, loss 0.000098\n",
            "epoch 357, loss 0.000098\n",
            "epoch 358, loss 0.000098\n",
            "epoch 359, loss 0.000098\n",
            "epoch 360, loss 0.000098\n",
            "epoch 361, loss 0.000098\n",
            "epoch 362, loss 0.000098\n",
            "epoch 363, loss 0.000098\n",
            "epoch 364, loss 0.000098\n",
            "epoch 365, loss 0.000098\n",
            "epoch 366, loss 0.000098\n",
            "epoch 367, loss 0.000098\n",
            "epoch 368, loss 0.000098\n",
            "epoch 369, loss 0.000098\n",
            "epoch 370, loss 0.000098\n",
            "epoch 371, loss 0.000098\n",
            "epoch 372, loss 0.000098\n",
            "epoch 373, loss 0.000098\n",
            "epoch 374, loss 0.000098\n",
            "epoch 375, loss 0.000098\n",
            "epoch 376, loss 0.000098\n",
            "epoch 377, loss 0.000098\n",
            "epoch 378, loss 0.000098\n",
            "epoch 379, loss 0.000098\n",
            "epoch 380, loss 0.000098\n",
            "epoch 381, loss 0.000098\n",
            "epoch 382, loss 0.000098\n",
            "epoch 383, loss 0.000098\n",
            "epoch 384, loss 0.000098\n",
            "epoch 385, loss 0.000098\n",
            "epoch 386, loss 0.000098\n",
            "epoch 387, loss 0.000098\n",
            "epoch 388, loss 0.000098\n",
            "epoch 389, loss 0.000098\n",
            "epoch 390, loss 0.000098\n",
            "epoch 391, loss 0.000098\n",
            "epoch 392, loss 0.000098\n",
            "epoch 393, loss 0.000098\n",
            "epoch 394, loss 0.000098\n",
            "epoch 395, loss 0.000098\n",
            "epoch 396, loss 0.000098\n",
            "epoch 397, loss 0.000098\n",
            "epoch 398, loss 0.000098\n",
            "epoch 399, loss 0.000098\n",
            "epoch 400, loss 0.000098\n",
            "epoch 401, loss 0.000098\n",
            "epoch 402, loss 0.000098\n",
            "epoch 403, loss 0.000098\n",
            "epoch 404, loss 0.000098\n",
            "epoch 405, loss 0.000098\n",
            "epoch 406, loss 0.000098\n",
            "epoch 407, loss 0.000098\n",
            "epoch 408, loss 0.000098\n",
            "epoch 409, loss 0.000098\n",
            "epoch 410, loss 0.000098\n",
            "epoch 411, loss 0.000098\n",
            "epoch 412, loss 0.000098\n",
            "epoch 413, loss 0.000098\n",
            "epoch 414, loss 0.000098\n",
            "epoch 415, loss 0.000098\n",
            "epoch 416, loss 0.000098\n",
            "epoch 417, loss 0.000098\n",
            "epoch 418, loss 0.000098\n",
            "epoch 419, loss 0.000098\n",
            "epoch 420, loss 0.000098\n",
            "epoch 421, loss 0.000098\n",
            "epoch 422, loss 0.000098\n",
            "epoch 423, loss 0.000098\n",
            "epoch 424, loss 0.000098\n",
            "epoch 425, loss 0.000098\n",
            "epoch 426, loss 0.000098\n",
            "epoch 427, loss 0.000098\n",
            "epoch 428, loss 0.000098\n",
            "epoch 429, loss 0.000098\n",
            "epoch 430, loss 0.000098\n",
            "epoch 431, loss 0.000098\n",
            "epoch 432, loss 0.000098\n",
            "epoch 433, loss 0.000098\n",
            "epoch 434, loss 0.000098\n",
            "epoch 435, loss 0.000098\n",
            "epoch 436, loss 0.000098\n",
            "epoch 437, loss 0.000098\n",
            "epoch 438, loss 0.000098\n",
            "epoch 439, loss 0.000098\n",
            "epoch 440, loss 0.000098\n",
            "epoch 441, loss 0.000098\n",
            "epoch 442, loss 0.000098\n",
            "epoch 443, loss 0.000098\n",
            "epoch 444, loss 0.000098\n",
            "epoch 445, loss 0.000098\n",
            "epoch 446, loss 0.000098\n",
            "epoch 447, loss 0.000098\n",
            "epoch 448, loss 0.000098\n",
            "epoch 449, loss 0.000098\n",
            "epoch 450, loss 0.000098\n",
            "epoch 451, loss 0.000098\n",
            "epoch 452, loss 0.000098\n",
            "epoch 453, loss 0.000098\n",
            "epoch 454, loss 0.000098\n",
            "epoch 455, loss 0.000098\n",
            "epoch 456, loss 0.000098\n",
            "epoch 457, loss 0.000098\n",
            "epoch 458, loss 0.000098\n",
            "epoch 459, loss 0.000098\n",
            "epoch 460, loss 0.000098\n",
            "epoch 461, loss 0.000098\n",
            "epoch 462, loss 0.000098\n",
            "epoch 463, loss 0.000098\n",
            "epoch 464, loss 0.000098\n",
            "epoch 465, loss 0.000098\n",
            "epoch 466, loss 0.000098\n",
            "epoch 467, loss 0.000098\n",
            "epoch 468, loss 0.000098\n",
            "epoch 469, loss 0.000098\n",
            "epoch 470, loss 0.000098\n",
            "epoch 471, loss 0.000098\n",
            "epoch 472, loss 0.000098\n",
            "epoch 473, loss 0.000098\n",
            "epoch 474, loss 0.000098\n",
            "epoch 475, loss 0.000098\n",
            "epoch 476, loss 0.000098\n",
            "epoch 477, loss 0.000098\n",
            "epoch 478, loss 0.000098\n",
            "epoch 479, loss 0.000098\n",
            "epoch 480, loss 0.000098\n",
            "epoch 481, loss 0.000098\n",
            "epoch 482, loss 0.000098\n",
            "epoch 483, loss 0.000098\n",
            "epoch 484, loss 0.000098\n",
            "epoch 485, loss 0.000098\n",
            "epoch 486, loss 0.000098\n",
            "epoch 487, loss 0.000098\n",
            "epoch 488, loss 0.000098\n",
            "epoch 489, loss 0.000098\n",
            "epoch 490, loss 0.000098\n",
            "epoch 491, loss 0.000098\n",
            "epoch 492, loss 0.000098\n",
            "epoch 493, loss 0.000098\n",
            "epoch 494, loss 0.000098\n",
            "epoch 495, loss 0.000098\n",
            "epoch 496, loss 0.000098\n",
            "epoch 497, loss 0.000098\n",
            "epoch 498, loss 0.000098\n",
            "epoch 499, loss 0.000098\n",
            "epoch 500, loss 0.000098\n"
          ]
        }
      ],
      "source": [
        "lr = 0.01 ###직접 설정\n",
        "num_epochs = 500 ###직접 설정\n",
        "net = linreg ###위에서 가져오기\n",
        "loss = squared_loss ###위에서 가져오기\n",
        "\n",
        "#cost graph작성을 위해\n",
        "wlist = []\n",
        "losslist = []\n",
        "\n",
        "for epoch in range(num_epochs):\n",
        "    for X, y in data_iter(batch_size, features, labels):\n",
        "        l = loss(net(X,w,b), y)\n",
        "        # Compute gradient on `l` with respect to [`w`, `b`]\n",
        "        l.sum().backward()\n",
        "        sgd([w,b],lr, batch_size)\n",
        "    with torch.no_grad():\n",
        "        train_l = loss(net(features, w, b), labels)\n",
        "        print(f'epoch {epoch + 1}, loss {float(train_l.mean()):f}')\n",
        "\n",
        "    wlist.append(w.clone().detach().numpy()) # 해당 훈련 시점에서 w를 저장하기 위해서 copy본을 append해줘야함\n",
        "    losslist.append(torch.mean(train_l))"
      ]
    },
    {
      "cell_type": "code",
      "execution_count": 115,
      "metadata": {
        "id": "u_WSAjwNwMEY",
        "colab": {
          "base_uri": "https://localhost:8080/"
        },
        "outputId": "746619f7-1271-415f-cb1d-626f62720e5f"
      },
      "outputs": [
        {
          "output_type": "stream",
          "name": "stdout",
          "text": [
            "error in estimating w: tensor([0.0002, 0.0004], grad_fn=<SubBackward0>)\n",
            "error in estimating b: tensor([-0.0001], grad_fn=<RsubBackward1>)\n"
          ]
        }
      ],
      "source": [
        "print(f'error in estimating w: {true_w - w.reshape(true_w.shape)}')\n",
        "print(f'error in estimating b: {true_b - b}')"
      ]
    },
    {
      "cell_type": "markdown",
      "metadata": {
        "id": "tDSteRKdREC9"
      },
      "source": [
        "\\+ cost graph 그리기 (x축 w, y축 loss)"
      ]
    },
    {
      "cell_type": "code",
      "execution_count": 118,
      "metadata": {
        "id": "13ySyXh7RMcn",
        "colab": {
          "base_uri": "https://localhost:8080/",
          "height": 407
        },
        "outputId": "8b46b538-5dcf-4148-ad39-ae1d95eadf72"
      },
      "outputs": [
        {
          "output_type": "display_data",
          "data": {
            "text/plain": [
              "<Figure size 1000x400 with 2 Axes>"
            ],
            "image/png": "[encoded data removed]"
          },
          "metadata": {}
        }
      ],
      "source": [
        "import matplotlib.pyplot as plt\n",
        "\n",
        "plt.figure(figsize=(10,4))\n",
        "\n",
        "plt.subplot(1,2,1)\n",
        "val_w0 = [i[0].item() for i in wlist]\n",
        "plt.plot(val_w0, losslist)\n",
        "plt.xlabel('weight0')\n",
        "plt.ylabel('loss')\n",
        "\n",
        "plt.subplot(1,2,2)\n",
        "val_w1 = [i[1].item() for i in wlist]\n",
        "plt.plot(val_w1, losslist)\n",
        "plt.xlabel(\"weight1\")\n",
        "plt.ylabel(\"loss\")\n",
        "\n",
        "plt.tight_layout()\n",
        "\n",
        "plt.show()"
      ]
    },
    {
      "cell_type": "markdown",
      "metadata": {
        "id": "WSKKAGx4wNd4"
      },
      "source": [
        "### Concise Implementation of Linear Regression\n",
        "- API 사용해보기"
      ]
    },
    {
      "cell_type": "code",
      "execution_count": 119,
      "metadata": {
        "id": "CWiOlkzKxEkf"
      },
      "outputs": [],
      "source": [
        "import numpy as np\n",
        "import torch\n",
        "from torch.utils import data\n",
        "from d2l import torch as d2l\n",
        "\n",
        "true_w = torch.tensor([3, -1.5])\n",
        "true_b = 5.5\n",
        "features, labels = d2l.synthetic_data(true_w, true_b, 2000)"
      ]
    },
    {
      "cell_type": "code",
      "execution_count": 120,
      "metadata": {
        "id": "F5tRyjkmxGUe"
      },
      "outputs": [],
      "source": [
        "def load_array(data_arrays, batch_size, is_train=True):\n",
        "    \"\"\"Construct a PyTorch data iterator.\"\"\"\n",
        "    dataset = data.TensorDataset(*data_arrays)\n",
        "    return data.DataLoader(dataset, batch_size, shuffle=is_train)\n",
        "\n",
        "batch_size = 20\n",
        "data_iter = load_array((features, labels), batch_size)"
      ]
    },
    {
      "cell_type": "code",
      "execution_count": 121,
      "metadata": {
        "id": "NBaqnZG4xHgP",
        "colab": {
          "base_uri": "https://localhost:8080/"
        },
        "outputId": "a0947a2f-9084-4931-aee3-a94c2d744d72"
      },
      "outputs": [
        {
          "output_type": "execute_result",
          "data": {
            "text/plain": [
              "[tensor([[ 1.4698,  1.3770],\n",
              "         [ 0.7563,  1.2379],\n",
              "         [-0.0116,  0.9804],\n",
              "         [ 0.9009, -0.1557],\n",
              "         [-0.8995, -0.6027],\n",
              "         [-0.8115,  0.8739],\n",
              "         [-0.5078, -1.1528],\n",
              "         [ 1.2930,  0.9980],\n",
              "         [-0.6344, -1.2187],\n",
              "         [ 0.2327,  0.5889],\n",
              "         [-0.3886, -0.7806],\n",
              "         [-0.8000,  0.1328],\n",
              "         [-0.4291,  1.1520],\n",
              "         [-0.6353, -0.9217],\n",
              "         [ 0.2953,  2.6387],\n",
              "         [ 2.0157, -0.4393],\n",
              "         [-0.7737, -0.1865],\n",
              "         [ 0.3044,  0.4368],\n",
              "         [-0.7147,  0.2399],\n",
              "         [-2.0801, -0.4621]]),\n",
              " tensor([[ 7.8227],\n",
              "         [ 5.9062],\n",
              "         [ 4.0199],\n",
              "         [ 8.4264],\n",
              "         [ 3.6879],\n",
              "         [ 1.7558],\n",
              "         [ 5.7054],\n",
              "         [ 7.8869],\n",
              "         [ 5.4110],\n",
              "         [ 5.3278],\n",
              "         [ 5.5091],\n",
              "         [ 2.9012],\n",
              "         [ 2.4921],\n",
              "         [ 4.9827],\n",
              "         [ 2.4208],\n",
              "         [12.2121],\n",
              "         [ 3.4510],\n",
              "         [ 5.7580],\n",
              "         [ 3.0050],\n",
              "         [-0.0522]])]"
            ]
          },
          "metadata": {},
          "execution_count": 121
        }
      ],
      "source": [
        "next(iter(data_iter))"
      ]
    },
    {
      "cell_type": "code",
      "execution_count": 124,
      "metadata": {
        "id": "J_83KBFOxJFB"
      },
      "outputs": [],
      "source": [
        "from torch import nn\n",
        "\n",
        "net = nn.Sequential(nn.Linear(2,1))###채워넣기"
      ]
    },
    {
      "cell_type": "code",
      "execution_count": 125,
      "metadata": {
        "id": "AdJQQgFaxL2H",
        "colab": {
          "base_uri": "https://localhost:8080/"
        },
        "outputId": "fb5790b2-d575-434d-da40-68544ba771d0"
      },
      "outputs": [
        {
          "output_type": "execute_result",
          "data": {
            "text/plain": [
              "tensor([0.])"
            ]
          },
          "metadata": {},
          "execution_count": 125
        }
      ],
      "source": [
        "net[0].weight.data.normal_(0, 0.01)\n",
        "net[0].bias.data.fill_(0)"
      ]
    },
    {
      "cell_type": "code",
      "execution_count": 126,
      "metadata": {
        "id": "vSCAFyfAxNAn"
      },
      "outputs": [],
      "source": [
        "loss = nn.MSELoss()###api function으로 직접 설정"
      ]
    },
    {
      "cell_type": "code",
      "execution_count": 127,
      "metadata": {
        "id": "_yee2wG1xOYW"
      },
      "outputs": [],
      "source": [
        "trainer = torch.optim.SGD(net.parameters(),lr=0.01)###api function으로 직접 설정 -> optimizer임"
      ]
    },
    {
      "cell_type": "code",
      "execution_count": 128,
      "metadata": {
        "id": "5fAmW5bUxP9Z",
        "colab": {
          "base_uri": "https://localhost:8080/"
        },
        "outputId": "4d50b5a5-ac5a-4a09-c034-6a8200c340cb"
      },
      "outputs": [
        {
          "output_type": "stream",
          "name": "stdout",
          "text": [
            "epoch 1, loss 0.733394\n",
            "epoch 2, loss 0.013120\n",
            "epoch 3, loss 0.000330\n"
          ]
        }
      ],
      "source": [
        "num_epochs = 3\n",
        "for epoch in range(num_epochs):\n",
        "    for X, y in data_iter:\n",
        "        l = loss(net(X),y)\n",
        "        trainer.zero_grad()\n",
        "        l.backward()\n",
        "        trainer.step()\n",
        "    l = loss(net(features), labels)\n",
        "    print(f'epoch {epoch + 1}, loss {l:f}')"
      ]
    },
    {
      "cell_type": "code",
      "execution_count": 130,
      "metadata": {
        "id": "JT8VD6GhxR5m",
        "colab": {
          "base_uri": "https://localhost:8080/"
        },
        "outputId": "a79ff1c3-5c5c-4db2-9763-304025e460d3"
      },
      "outputs": [
        {
          "output_type": "stream",
          "name": "stdout",
          "text": [
            "error in estimating w: tensor([ 0.0072, -0.0021])\n",
            "error in estimating b: tensor([0.0134])\n"
          ]
        }
      ],
      "source": [
        "w = net[0].weight.data ###학습결과 w 구하는 식\n",
        "print('error in estimating w:', true_w - w.reshape(true_w.shape))\n",
        "b = net[0].bias.data ###학습결과 b 구하는 식\n",
        "print('error in estimating b:', true_b - b)"
      ]
    }
  ],
  "metadata": {
    "colab": {
      "provenance": []
    },
    "kernelspec": {
      "display_name": "Python 3",
      "name": "python3"
    },
    "language_info": {
      "name": "python"
    }
  },
  "nbformat": 4,
  "nbformat_minor": 0
}