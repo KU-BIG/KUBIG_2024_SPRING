{
  "cells": [
    {
      "cell_type": "markdown",
      "metadata": {},
      "source": [
        "##### 학습하는 데에 참고한 코드\n",
        "###### https://github.com/d2l-ai/d2l-ko/blob/master/chapter_linear-networks/image-classification-dataset_origin.md"
      ]
    },
    {
      "cell_type": "code",
      "execution_count": 1,
      "metadata": {},
      "outputs": [
        {
          "name": "stdout",
          "output_type": "stream",
          "text": [
            "Requirement already satisfied: pip in /Users/honey/.pyenv/versions/3.10.6/lib/python3.10/site-packages (23.3.2)\n",
            "Note: you may need to restart the kernel to use updated packages.\n"
          ]
        }
      ],
      "source": [
        "pip install --upgrade pip"
      ]
    },
    {
      "cell_type": "code",
      "execution_count": 2,
      "metadata": {
        "colab": {
          "base_uri": "https://localhost:8080/"
        },
        "id": "jgwktzScmy60",
        "outputId": "7af4393c-b0e7-4693-de29-f1e6b07ee6e8"
      },
      "outputs": [
        {
          "name": "stdout",
          "output_type": "stream",
          "text": [
            "Requirement already satisfied: matplotlib_inline in /Users/honey/.pyenv/versions/3.10.6/lib/python3.10/site-packages (0.1.6)\n",
            "Requirement already satisfied: traitlets in /Users/honey/.pyenv/versions/3.10.6/lib/python3.10/site-packages (from matplotlib_inline) (5.5.0)\n"
          ]
        }
      ],
      "source": [
        "!pip install matplotlib_inline"
      ]
    },
    {
      "cell_type": "code",
      "execution_count": 3,
      "metadata": {
        "colab": {
          "base_uri": "https://localhost:8080/"
        },
        "id": "roeo2LoIStIL",
        "outputId": "02e4dc85-0a1b-44c9-e4d8-852eff2b87a7"
      },
      "outputs": [
        {
          "name": "stdout",
          "output_type": "stream",
          "text": [
            "Requirement already satisfied: d2l in /Users/honey/.pyenv/versions/3.10.6/lib/python3.10/site-packages (1.0.3)\n",
            "Requirement already satisfied: jupyter==1.0.0 in /Users/honey/.pyenv/versions/3.10.6/lib/python3.10/site-packages (from d2l) (1.0.0)\n",
            "Requirement already satisfied: numpy==1.23.5 in /Users/honey/.pyenv/versions/3.10.6/lib/python3.10/site-packages (from d2l) (1.23.5)\n",
            "Requirement already satisfied: matplotlib==3.7.2 in /Users/honey/.pyenv/versions/3.10.6/lib/python3.10/site-packages (from d2l) (3.7.2)\n",
            "Requirement already satisfied: matplotlib-inline==0.1.6 in /Users/honey/.pyenv/versions/3.10.6/lib/python3.10/site-packages (from d2l) (0.1.6)\n",
            "Requirement already satisfied: requests==2.31.0 in /Users/honey/.pyenv/versions/3.10.6/lib/python3.10/site-packages (from d2l) (2.31.0)\n",
            "Requirement already satisfied: pandas==2.0.3 in /Users/honey/.pyenv/versions/3.10.6/lib/python3.10/site-packages (from d2l) (2.0.3)\n",
            "Requirement already satisfied: scipy==1.10.1 in /Users/honey/.pyenv/versions/3.10.6/lib/python3.10/site-packages (from d2l) (1.10.1)\n",
            "Requirement already satisfied: notebook in /Users/honey/.pyenv/versions/3.10.6/lib/python3.10/site-packages (from jupyter==1.0.0->d2l) (6.5.2)\n",
            "Requirement already satisfied: qtconsole in /Users/honey/.pyenv/versions/3.10.6/lib/python3.10/site-packages (from jupyter==1.0.0->d2l) (5.4.0)\n",
            "Requirement already satisfied: jupyter-console in /Users/honey/.pyenv/versions/3.10.6/lib/python3.10/site-packages (from jupyter==1.0.0->d2l) (6.4.4)\n",
            "Requirement already satisfied: nbconvert in /Users/honey/.pyenv/versions/3.10.6/lib/python3.10/site-packages (from jupyter==1.0.0->d2l) (7.2.5)\n",
            "Requirement already satisfied: ipykernel in /Users/honey/.pyenv/versions/3.10.6/lib/python3.10/site-packages (from jupyter==1.0.0->d2l) (6.17.1)\n",
            "Requirement already satisfied: ipywidgets in /Users/honey/.pyenv/versions/3.10.6/lib/python3.10/site-packages (from jupyter==1.0.0->d2l) (8.0.2)\n",
            "Requirement already satisfied: contourpy>=1.0.1 in /Users/honey/.pyenv/versions/3.10.6/lib/python3.10/site-packages (from matplotlib==3.7.2->d2l) (1.0.5)\n",
            "Requirement already satisfied: cycler>=0.10 in /Users/honey/.pyenv/versions/3.10.6/lib/python3.10/site-packages (from matplotlib==3.7.2->d2l) (0.11.0)\n",
            "Requirement already satisfied: fonttools>=4.22.0 in /Users/honey/.pyenv/versions/3.10.6/lib/python3.10/site-packages (from matplotlib==3.7.2->d2l) (4.37.2)\n",
            "Requirement already satisfied: kiwisolver>=1.0.1 in /Users/honey/.pyenv/versions/3.10.6/lib/python3.10/site-packages (from matplotlib==3.7.2->d2l) (1.4.4)\n",
            "Requirement already satisfied: packaging>=20.0 in /Users/honey/.pyenv/versions/3.10.6/lib/python3.10/site-packages (from matplotlib==3.7.2->d2l) (21.3)\n",
            "Requirement already satisfied: pillow>=6.2.0 in /Users/honey/.pyenv/versions/3.10.6/lib/python3.10/site-packages (from matplotlib==3.7.2->d2l) (9.2.0)\n",
            "Requirement already satisfied: pyparsing<3.1,>=2.3.1 in /Users/honey/.pyenv/versions/3.10.6/lib/python3.10/site-packages (from matplotlib==3.7.2->d2l) (3.0.9)\n",
            "Requirement already satisfied: python-dateutil>=2.7 in /Users/honey/.pyenv/versions/3.10.6/lib/python3.10/site-packages (from matplotlib==3.7.2->d2l) (2.8.2)\n",
            "Requirement already satisfied: traitlets in /Users/honey/.pyenv/versions/3.10.6/lib/python3.10/site-packages (from matplotlib-inline==0.1.6->d2l) (5.5.0)\n",
            "Requirement already satisfied: pytz>=2020.1 in /Users/honey/.pyenv/versions/3.10.6/lib/python3.10/site-packages (from pandas==2.0.3->d2l) (2022.6)\n",
            "Requirement already satisfied: tzdata>=2022.1 in /Users/honey/.pyenv/versions/3.10.6/lib/python3.10/site-packages (from pandas==2.0.3->d2l) (2023.4)\n",
            "Requirement already satisfied: charset-normalizer<4,>=2 in /Users/honey/.pyenv/versions/3.10.6/lib/python3.10/site-packages (from requests==2.31.0->d2l) (3.2.0)\n",
            "Requirement already satisfied: idna<4,>=2.5 in /Users/honey/.pyenv/versions/3.10.6/lib/python3.10/site-packages (from requests==2.31.0->d2l) (3.4)\n",
            "Requirement already satisfied: urllib3<3,>=1.21.1 in /Users/honey/.pyenv/versions/3.10.6/lib/python3.10/site-packages (from requests==2.31.0->d2l) (1.26.16)\n",
            "Requirement already satisfied: certifi>=2017.4.17 in /Users/honey/.pyenv/versions/3.10.6/lib/python3.10/site-packages (from requests==2.31.0->d2l) (2023.5.7)\n",
            "Requirement already satisfied: six>=1.5 in /Users/honey/.pyenv/versions/3.10.6/lib/python3.10/site-packages (from python-dateutil>=2.7->matplotlib==3.7.2->d2l) (1.16.0)\n",
            "Requirement already satisfied: appnope in /Users/honey/.pyenv/versions/3.10.6/lib/python3.10/site-packages (from ipykernel->jupyter==1.0.0->d2l) (0.1.3)\n",
            "Requirement already satisfied: debugpy>=1.0 in /Users/honey/.pyenv/versions/3.10.6/lib/python3.10/site-packages (from ipykernel->jupyter==1.0.0->d2l) (1.6.3)\n",
            "Requirement already satisfied: ipython>=7.23.1 in /Users/honey/.pyenv/versions/3.10.6/lib/python3.10/site-packages (from ipykernel->jupyter==1.0.0->d2l) (8.6.0)\n",
            "Requirement already satisfied: jupyter-client>=6.1.12 in /Users/honey/.pyenv/versions/3.10.6/lib/python3.10/site-packages (from ipykernel->jupyter==1.0.0->d2l) (7.4.7)\n",
            "Requirement already satisfied: nest-asyncio in /Users/honey/.pyenv/versions/3.10.6/lib/python3.10/site-packages (from ipykernel->jupyter==1.0.0->d2l) (1.5.6)\n",
            "Requirement already satisfied: psutil in /Users/honey/.pyenv/versions/3.10.6/lib/python3.10/site-packages (from ipykernel->jupyter==1.0.0->d2l) (5.9.4)\n",
            "Requirement already satisfied: pyzmq>=17 in /Users/honey/.pyenv/versions/3.10.6/lib/python3.10/site-packages (from ipykernel->jupyter==1.0.0->d2l) (24.0.1)\n",
            "Requirement already satisfied: tornado>=6.1 in /Users/honey/.pyenv/versions/3.10.6/lib/python3.10/site-packages (from ipykernel->jupyter==1.0.0->d2l) (6.2)\n",
            "Requirement already satisfied: widgetsnbextension~=4.0 in /Users/honey/.pyenv/versions/3.10.6/lib/python3.10/site-packages (from ipywidgets->jupyter==1.0.0->d2l) (4.0.3)\n",
            "Requirement already satisfied: jupyterlab-widgets~=3.0 in /Users/honey/.pyenv/versions/3.10.6/lib/python3.10/site-packages (from ipywidgets->jupyter==1.0.0->d2l) (3.0.3)\n",
            "Requirement already satisfied: prompt-toolkit!=3.0.0,!=3.0.1,<3.1.0,>=2.0.0 in /Users/honey/.pyenv/versions/3.10.6/lib/python3.10/site-packages (from jupyter-console->jupyter==1.0.0->d2l) (3.0.32)\n",
            "Requirement already satisfied: pygments in /Users/honey/.pyenv/versions/3.10.6/lib/python3.10/site-packages (from jupyter-console->jupyter==1.0.0->d2l) (2.13.0)\n",
            "Requirement already satisfied: beautifulsoup4 in /Users/honey/.pyenv/versions/3.10.6/lib/python3.10/site-packages (from nbconvert->jupyter==1.0.0->d2l) (4.11.1)\n",
            "Requirement already satisfied: bleach in /Users/honey/.pyenv/versions/3.10.6/lib/python3.10/site-packages (from nbconvert->jupyter==1.0.0->d2l) (5.0.1)\n",
            "Requirement already satisfied: defusedxml in /Users/honey/.pyenv/versions/3.10.6/lib/python3.10/site-packages (from nbconvert->jupyter==1.0.0->d2l) (0.7.1)\n",
            "Requirement already satisfied: jinja2>=3.0 in /Users/honey/.pyenv/versions/3.10.6/lib/python3.10/site-packages (from nbconvert->jupyter==1.0.0->d2l) (3.1.2)\n",
            "Requirement already satisfied: jupyter-core>=4.7 in /Users/honey/.pyenv/versions/3.10.6/lib/python3.10/site-packages (from nbconvert->jupyter==1.0.0->d2l) (5.0.0)\n",
            "Requirement already satisfied: jupyterlab-pygments in /Users/honey/.pyenv/versions/3.10.6/lib/python3.10/site-packages (from nbconvert->jupyter==1.0.0->d2l) (0.2.2)\n",
            "Requirement already satisfied: markupsafe>=2.0 in /Users/honey/.pyenv/versions/3.10.6/lib/python3.10/site-packages (from nbconvert->jupyter==1.0.0->d2l) (2.1.1)\n",
            "Requirement already satisfied: mistune<3,>=2.0.3 in /Users/honey/.pyenv/versions/3.10.6/lib/python3.10/site-packages (from nbconvert->jupyter==1.0.0->d2l) (2.0.4)\n",
            "Requirement already satisfied: nbclient>=0.5.0 in /Users/honey/.pyenv/versions/3.10.6/lib/python3.10/site-packages (from nbconvert->jupyter==1.0.0->d2l) (0.7.0)\n",
            "Requirement already satisfied: nbformat>=5.1 in /Users/honey/.pyenv/versions/3.10.6/lib/python3.10/site-packages (from nbconvert->jupyter==1.0.0->d2l) (5.7.0)\n",
            "Requirement already satisfied: pandocfilters>=1.4.1 in /Users/honey/.pyenv/versions/3.10.6/lib/python3.10/site-packages (from nbconvert->jupyter==1.0.0->d2l) (1.5.0)\n",
            "Requirement already satisfied: tinycss2 in /Users/honey/.pyenv/versions/3.10.6/lib/python3.10/site-packages (from nbconvert->jupyter==1.0.0->d2l) (1.2.1)\n",
            "Requirement already satisfied: argon2-cffi in /Users/honey/.pyenv/versions/3.10.6/lib/python3.10/site-packages (from notebook->jupyter==1.0.0->d2l) (21.3.0)\n",
            "Requirement already satisfied: ipython-genutils in /Users/honey/.pyenv/versions/3.10.6/lib/python3.10/site-packages (from notebook->jupyter==1.0.0->d2l) (0.2.0)\n",
            "Requirement already satisfied: Send2Trash>=1.8.0 in /Users/honey/.pyenv/versions/3.10.6/lib/python3.10/site-packages (from notebook->jupyter==1.0.0->d2l) (1.8.0)\n",
            "Requirement already satisfied: terminado>=0.8.3 in /Users/honey/.pyenv/versions/3.10.6/lib/python3.10/site-packages (from notebook->jupyter==1.0.0->d2l) (0.17.0)\n",
            "Requirement already satisfied: prometheus-client in /Users/honey/.pyenv/versions/3.10.6/lib/python3.10/site-packages (from notebook->jupyter==1.0.0->d2l) (0.15.0)\n",
            "Requirement already satisfied: nbclassic>=0.4.7 in /Users/honey/.pyenv/versions/3.10.6/lib/python3.10/site-packages (from notebook->jupyter==1.0.0->d2l) (0.4.8)\n",
            "Requirement already satisfied: qtpy>=2.0.1 in /Users/honey/.pyenv/versions/3.10.6/lib/python3.10/site-packages (from qtconsole->jupyter==1.0.0->d2l) (2.3.0)\n",
            "Requirement already satisfied: backcall in /Users/honey/.pyenv/versions/3.10.6/lib/python3.10/site-packages (from ipython>=7.23.1->ipykernel->jupyter==1.0.0->d2l) (0.2.0)\n",
            "Requirement already satisfied: decorator in /Users/honey/.pyenv/versions/3.10.6/lib/python3.10/site-packages (from ipython>=7.23.1->ipykernel->jupyter==1.0.0->d2l) (5.1.1)\n",
            "Requirement already satisfied: jedi>=0.16 in /Users/honey/.pyenv/versions/3.10.6/lib/python3.10/site-packages (from ipython>=7.23.1->ipykernel->jupyter==1.0.0->d2l) (0.18.1)\n",
            "Requirement already satisfied: pickleshare in /Users/honey/.pyenv/versions/3.10.6/lib/python3.10/site-packages (from ipython>=7.23.1->ipykernel->jupyter==1.0.0->d2l) (0.7.5)\n",
            "Requirement already satisfied: stack-data in /Users/honey/.pyenv/versions/3.10.6/lib/python3.10/site-packages (from ipython>=7.23.1->ipykernel->jupyter==1.0.0->d2l) (0.6.1)\n",
            "Requirement already satisfied: pexpect>4.3 in /Users/honey/.pyenv/versions/3.10.6/lib/python3.10/site-packages (from ipython>=7.23.1->ipykernel->jupyter==1.0.0->d2l) (4.8.0)\n",
            "Requirement already satisfied: entrypoints in /Users/honey/.pyenv/versions/3.10.6/lib/python3.10/site-packages (from jupyter-client>=6.1.12->ipykernel->jupyter==1.0.0->d2l) (0.4)\n",
            "Requirement already satisfied: platformdirs in /Users/honey/.pyenv/versions/3.10.6/lib/python3.10/site-packages (from jupyter-core>=4.7->nbconvert->jupyter==1.0.0->d2l) (2.5.4)\n",
            "Requirement already satisfied: jupyter-server>=1.8 in /Users/honey/.pyenv/versions/3.10.6/lib/python3.10/site-packages (from nbclassic>=0.4.7->notebook->jupyter==1.0.0->d2l) (1.23.2)\n",
            "Requirement already satisfied: notebook-shim>=0.1.0 in /Users/honey/.pyenv/versions/3.10.6/lib/python3.10/site-packages (from nbclassic>=0.4.7->notebook->jupyter==1.0.0->d2l) (0.2.2)\n",
            "Requirement already satisfied: fastjsonschema in /Users/honey/.pyenv/versions/3.10.6/lib/python3.10/site-packages (from nbformat>=5.1->nbconvert->jupyter==1.0.0->d2l) (2.16.2)\n",
            "Requirement already satisfied: jsonschema>=2.6 in /Users/honey/.pyenv/versions/3.10.6/lib/python3.10/site-packages (from nbformat>=5.1->nbconvert->jupyter==1.0.0->d2l) (4.17.0)\n",
            "Requirement already satisfied: wcwidth in /Users/honey/.pyenv/versions/3.10.6/lib/python3.10/site-packages (from prompt-toolkit!=3.0.0,!=3.0.1,<3.1.0,>=2.0.0->jupyter-console->jupyter==1.0.0->d2l) (0.2.5)\n",
            "Requirement already satisfied: ptyprocess in /Users/honey/.pyenv/versions/3.10.6/lib/python3.10/site-packages (from terminado>=0.8.3->notebook->jupyter==1.0.0->d2l) (0.7.0)\n",
            "Requirement already satisfied: argon2-cffi-bindings in /Users/honey/.pyenv/versions/3.10.6/lib/python3.10/site-packages (from argon2-cffi->notebook->jupyter==1.0.0->d2l) (21.2.0)\n",
            "Requirement already satisfied: soupsieve>1.2 in /Users/honey/.pyenv/versions/3.10.6/lib/python3.10/site-packages (from beautifulsoup4->nbconvert->jupyter==1.0.0->d2l) (2.3.2.post1)\n",
            "Requirement already satisfied: webencodings in /Users/honey/.pyenv/versions/3.10.6/lib/python3.10/site-packages (from bleach->nbconvert->jupyter==1.0.0->d2l) (0.5.1)\n",
            "Requirement already satisfied: parso<0.9.0,>=0.8.0 in /Users/honey/.pyenv/versions/3.10.6/lib/python3.10/site-packages (from jedi>=0.16->ipython>=7.23.1->ipykernel->jupyter==1.0.0->d2l) (0.8.3)\n",
            "Requirement already satisfied: attrs>=17.4.0 in /Users/honey/.pyenv/versions/3.10.6/lib/python3.10/site-packages (from jsonschema>=2.6->nbformat>=5.1->nbconvert->jupyter==1.0.0->d2l) (22.1.0)\n",
            "Requirement already satisfied: pyrsistent!=0.17.0,!=0.17.1,!=0.17.2,>=0.14.0 in /Users/honey/.pyenv/versions/3.10.6/lib/python3.10/site-packages (from jsonschema>=2.6->nbformat>=5.1->nbconvert->jupyter==1.0.0->d2l) (0.19.2)\n",
            "Requirement already satisfied: anyio<4,>=3.1.0 in /Users/honey/.pyenv/versions/3.10.6/lib/python3.10/site-packages (from jupyter-server>=1.8->nbclassic>=0.4.7->notebook->jupyter==1.0.0->d2l) (3.6.2)\n",
            "Requirement already satisfied: websocket-client in /Users/honey/.pyenv/versions/3.10.6/lib/python3.10/site-packages (from jupyter-server>=1.8->nbclassic>=0.4.7->notebook->jupyter==1.0.0->d2l) (1.4.2)\n",
            "Requirement already satisfied: cffi>=1.0.1 in /Users/honey/.pyenv/versions/3.10.6/lib/python3.10/site-packages (from argon2-cffi-bindings->argon2-cffi->notebook->jupyter==1.0.0->d2l) (1.15.1)\n",
            "Requirement already satisfied: executing>=1.2.0 in /Users/honey/.pyenv/versions/3.10.6/lib/python3.10/site-packages (from stack-data->ipython>=7.23.1->ipykernel->jupyter==1.0.0->d2l) (1.2.0)\n",
            "Requirement already satisfied: asttokens>=2.1.0 in /Users/honey/.pyenv/versions/3.10.6/lib/python3.10/site-packages (from stack-data->ipython>=7.23.1->ipykernel->jupyter==1.0.0->d2l) (2.1.0)\n",
            "Requirement already satisfied: pure-eval in /Users/honey/.pyenv/versions/3.10.6/lib/python3.10/site-packages (from stack-data->ipython>=7.23.1->ipykernel->jupyter==1.0.0->d2l) (0.2.2)\n",
            "Requirement already satisfied: sniffio>=1.1 in /Users/honey/.pyenv/versions/3.10.6/lib/python3.10/site-packages (from anyio<4,>=3.1.0->jupyter-server>=1.8->nbclassic>=0.4.7->notebook->jupyter==1.0.0->d2l) (1.3.0)\n",
            "Requirement already satisfied: pycparser in /Users/honey/.pyenv/versions/3.10.6/lib/python3.10/site-packages (from cffi>=1.0.1->argon2-cffi-bindings->argon2-cffi->notebook->jupyter==1.0.0->d2l) (2.21)\n"
          ]
        }
      ],
      "source": [
        "!pip install d2l"
      ]
    },
    {
      "cell_type": "code",
      "execution_count": 4,
      "metadata": {
        "colab": {
          "base_uri": "https://localhost:8080/"
        },
        "id": "LoVFErxIiXog",
        "outputId": "fc2daf11-b86a-4c0d-9002-6c1cbb22deb4"
      },
      "outputs": [],
      "source": [
        "%matplotlib inline\n",
        "import torch\n",
        "import torchvision\n",
        "from torch.utils import data\n",
        "from torchvision import transforms\n",
        "from d2l import torch as d2l\n",
        "\n",
        "d2l.use_svg_display()"
      ]
    },
    {
      "cell_type": "code",
      "execution_count": 5,
      "metadata": {
        "colab": {
          "base_uri": "https://localhost:8080/",
          "height": 483,
          "referenced_widgets": [
            "f2085a4b4390419f864d503a6b0a1d34",
            "83481902669f411899abbcca7419ac11",
            "64e96e5ac68a44978177bddffd9dbbe3",
            "1fe1bea694f04f7eb098b082ac7db44c",
            "c7ffd3f3dcdf47ae99510d84387584b2",
            "b621110e5f7647f984b3f83976ff3855",
            "05d449267a8e41fc932c7a0d679dfbac",
            "5efd602e44264f39926c449ddaec0db5",
            "14faa392024249c48de703d1d9ea5683",
            "7a2a869ad9d64a2197b6187f26fefdfb",
            "09818dd755d641bebe820df0c89e061e",
            "bfff6c039a1e4b3db21454ffc2e3e61f",
            "dd1f7b5b216a4617b6e1acc6bebe88b4",
            "77747687baf541a0b68b4402c4edb18f",
            "cf8b679334e94c96b7dd47c7c1f29a96",
            "70c48e35d6fa4e64865f1362ee8402ee",
            "c40fb057632649fdb53ab521cd9c467b",
            "4c53c31744de4043bd144e9945d9d8d1",
            "8d67a026766d40de96332318b6c1d543",
            "39af13c3ae9447b2ac296b593e47cab8",
            "4eeca8dd044a4ef18bc50d41fdf60570",
            "8b88ae0605984f97a7ae093af1498424",
            "e28ee90dc0cc463c801ab57cf3533d27",
            "4c44e5017b4b4f5a864501c6ea4fc6b2",
            "10138ab0dcc249e080a105f95e8a09c4",
            "99ee76581e674e0ea27594c12b7af843",
            "617a611d5d2f4df2ae18a9bf8fbe2e4d",
            "1e9dda5bfc5f4c13b731d8fe09f78ce5",
            "53ab9ef92f08494d9f195be0012d3b94",
            "6a3aab710f9248fd871b0a444129f654",
            "7c4fbacb3932459d88ccbf0cd224b7ed",
            "2969695ae5c34df7bdff597e0afd1cdc",
            "78922f851b564c82a0526d8e3311ee01",
            "2bf171ffa0454e598a242daf2c401660",
            "2d0f9883cdb74c719c26f7d5da8e13fa",
            "9d2b16a8aa6643748c74c779f92e57f2",
            "2d97c011ccb74358ba1741310053daf4",
            "ab561858f71741b883f202ba6da47465",
            "5996ab99b9c6474892b73d900b03e342",
            "8c6e2536053c4f8592c232d17aad2527",
            "68219fd12b3a42e698633dbfeac4171b",
            "4dfcaae76a17407889ce9e71c1c6b7e0",
            "28ecd8e64de540929f5c6c306753d629",
            "ee9f41cc760344a9b1d5e7ba982cfad1"
          ]
        },
        "id": "iUnJtgdgmtTi",
        "outputId": "11d65cde-59b2-4883-c5e9-5c56786ca1e8"
      },
      "outputs": [],
      "source": [
        "trans = transforms.ToTensor()\n",
        "\n",
        "## transforms.ToTensor() : PIL 이미지나 NumPy 배열을 PyTorch 텐서로 변환\n",
        "\n",
        "mnist_train = torchvision.datasets.FashionMNIST(\n",
        "    root = \"../data\", train = True, transform=trans, download = True)\n",
        "mnist_test = torchvision.datasets.FashionMNIST(\n",
        "    root = \"../data\", train = False, transform=trans, download = True)\n",
        "\n",
        "    ## train : train/test 데이터셋 여부 설정. True 면, training set, False 이면 test set\n",
        "    ## download : True 면, root 폴더에 데이터셋을 다운로드하여 저장\n",
        "    ## transform : feature를 변환하는 함수 지정. 위 경우에는 tensor로 변환"
      ]
    },
    {
      "cell_type": "code",
      "execution_count": 6,
      "metadata": {
        "colab": {
          "base_uri": "https://localhost:8080/"
        },
        "id": "c5L6xPMUpE9d",
        "outputId": "2eed924b-9824-4b94-a394-b38ca52a67e8"
      },
      "outputs": [
        {
          "data": {
            "text/plain": [
              "(60000, 10000)"
            ]
          },
          "execution_count": 6,
          "metadata": {},
          "output_type": "execute_result"
        }
      ],
      "source": [
        "len(mnist_train), len(mnist_test)"
      ]
    },
    {
      "cell_type": "code",
      "execution_count": 7,
      "metadata": {
        "colab": {
          "base_uri": "https://localhost:8080/"
        },
        "id": "ODptX6l23f7W",
        "outputId": "ef01a6b8-7514-496d-ec89-124e87b42753"
      },
      "outputs": [
        {
          "data": {
            "text/plain": [
              "torch.Size([1, 28, 28])"
            ]
          },
          "execution_count": 7,
          "metadata": {},
          "output_type": "execute_result"
        }
      ],
      "source": [
        "mnist_train[0][0].shape"
      ]
    },
    {
      "cell_type": "code",
      "execution_count": 8,
      "metadata": {
        "id": "i5-RRJoI4Boa"
      },
      "outputs": [],
      "source": [
        "def get_fashion_mnist_labels(labels):\n",
        "  \"\"\"Fashion-MNIST를 위한 텍스트라벨을 리턴\"\"\"\n",
        "  text_labels = ['t-shirt', 'trouser', 'pullover', 'dress', 'coat',\n",
        "                 'sandal', 'shirt', 'sneaker', 'bag', 'ankle boot']\n",
        "  return [text_labels[int(i)] for i in labels]"
      ]
    },
    {
      "cell_type": "code",
      "execution_count": 9,
      "metadata": {
        "id": "g7t8PH2g5GCy"
      },
      "outputs": [],
      "source": [
        "# visualize example\n",
        "\n",
        "def show_images(imgs, num_rows, num_cols, titles=None, scale=1.5):\n",
        "  \"\"\"이미지 리스트 플롯그리기\"\"\"\n",
        "  figsize = (num_cols * scale, num_rows * scale)\n",
        "  _, axes = d2l.plt.subplots(num_rows, num_cols, figsize = figsize)\n",
        "  axes = axes.flatten()\n",
        "  for i, (ax, img) in enumerate(zip(axes, imgs)):\n",
        "    if torch.is_tensor(img):\n",
        "      # Tensor Image\n",
        "      ax.imshow(img.numpy())\n",
        "\n",
        "      ## Note : 파이토치 텐서를 Matplotlib를 통해 시각화를 진행할 때, Matplotlib는 이미지를 넘파이 배열로 받기를 기대하기 때문에 위와 같은 작업 필요.\n",
        "      ## Note : Matplotlib의 imshow 메서드 ~ 이미지를 주어진 축(ax)에 표시\n",
        "\n",
        "    else:\n",
        "      # PIL Image\n",
        "      ax.imshow(img)\n",
        "\n",
        "    ax.axes.get_xaxis().set_visible(False)\n",
        "    ax.axes.get_yaxis().set_visible(False)\n",
        "    if titles:\n",
        "      ax.set_title(titles[i])\n",
        "      ## note : 해당 함수의 title은 리스트 형태여야 함. 결과물에 해당하는 데이터 라벨들을 담는 리스트\n",
        "  return axes\n"
      ]
    },
    {
      "cell_type": "code",
      "execution_count": 10,
      "metadata": {},
      "outputs": [
        {
          "name": "stdout",
          "output_type": "stream",
          "text": [
            "Requirement already satisfied: matplotlib in /Users/honey/.pyenv/versions/3.10.6/lib/python3.10/site-packages (3.7.2)\n",
            "Requirement already satisfied: contourpy>=1.0.1 in /Users/honey/.pyenv/versions/3.10.6/lib/python3.10/site-packages (from matplotlib) (1.0.5)\n",
            "Requirement already satisfied: cycler>=0.10 in /Users/honey/.pyenv/versions/3.10.6/lib/python3.10/site-packages (from matplotlib) (0.11.0)\n",
            "Requirement already satisfied: fonttools>=4.22.0 in /Users/honey/.pyenv/versions/3.10.6/lib/python3.10/site-packages (from matplotlib) (4.37.2)\n",
            "Requirement already satisfied: kiwisolver>=1.0.1 in /Users/honey/.pyenv/versions/3.10.6/lib/python3.10/site-packages (from matplotlib) (1.4.4)\n",
            "Requirement already satisfied: numpy>=1.20 in /Users/honey/.pyenv/versions/3.10.6/lib/python3.10/site-packages (from matplotlib) (1.23.5)\n",
            "Requirement already satisfied: packaging>=20.0 in /Users/honey/.pyenv/versions/3.10.6/lib/python3.10/site-packages (from matplotlib) (21.3)\n",
            "Requirement already satisfied: pillow>=6.2.0 in /Users/honey/.pyenv/versions/3.10.6/lib/python3.10/site-packages (from matplotlib) (9.2.0)\n",
            "Requirement already satisfied: pyparsing<3.1,>=2.3.1 in /Users/honey/.pyenv/versions/3.10.6/lib/python3.10/site-packages (from matplotlib) (3.0.9)\n",
            "Requirement already satisfied: python-dateutil>=2.7 in /Users/honey/.pyenv/versions/3.10.6/lib/python3.10/site-packages (from matplotlib) (2.8.2)\n",
            "Requirement already satisfied: six>=1.5 in /Users/honey/.pyenv/versions/3.10.6/lib/python3.10/site-packages (from python-dateutil>=2.7->matplotlib) (1.16.0)\n"
          ]
        }
      ],
      "source": [
        "# # ERROR: Could not build wheels for matplotlib, which is required to install pyproject.toml-based projects\n",
        "\n",
        "# !pip install --upgrade wheel\n",
        "\n",
        "!pip install matplotlib"
      ]
    },
    {
      "cell_type": "code",
      "execution_count": 11,
      "metadata": {
        "colab": {
          "base_uri": "https://localhost:8080/"
        },
        "id": "_o4sFnBu_Mqe",
        "outputId": "3a651507-fdf9-46a5-df72-7b20e28eace7"
      },
      "outputs": [],
      "source": [
        "# !pip install matplotlib==3.1.3"
      ]
    },
    {
      "cell_type": "code",
      "execution_count": 12,
      "metadata": {
        "colab": {
          "base_uri": "https://localhost:8080/",
          "height": 297
        },
        "id": "OxYdsR7C6mMo",
        "outputId": "0e23cdf6-8f4e-4a6a-cd26-277882383587"
      },
      "outputs": [
        {
          "data": {
            "text/plain": [
              "array([<Axes: title={'center': 'shirt'}>,\n",
              "       <Axes: title={'center': 't-shirt'}>,\n",
              "       <Axes: title={'center': 'bag'}>,\n",
              "       <Axes: title={'center': 'pullover'}>,\n",
              "       <Axes: title={'center': 'shirt'}>,\n",
              "       <Axes: title={'center': 'ankle boot'}>,\n",
              "       <Axes: title={'center': 'coat'}>, <Axes: title={'center': 'bag'}>,\n",
              "       <Axes: title={'center': 'dress'}>,\n",
              "       <Axes: title={'center': 'sneaker'}>,\n",
              "       <Axes: title={'center': 'coat'}>, <Axes: title={'center': 'coat'}>,\n",
              "       <Axes: title={'center': 'pullover'}>,\n",
              "       <Axes: title={'center': 'sneaker'}>,\n",
              "       <Axes: title={'center': 'coat'}>,\n",
              "       <Axes: title={'center': 't-shirt'}>,\n",
              "       <Axes: title={'center': 'bag'}>, <Axes: title={'center': 'shirt'}>],\n",
              "      dtype=object)"
            ]
          },
          "execution_count": 12,
          "metadata": {},
          "output_type": "execute_result"
        },
        {
          "data": {
            "image/svg+xml": "<?xml version=\"1.0\" encoding=\"utf-8\" standalone=\"no\"?>\n<!DOCTYPE svg PUBLIC \"-//W3C//DTD SVG 1.1//EN\"\n  \"http://www.w3.org/Graphics/SVG/1.1/DTD/svg11.dtd\">\n<svg xmlns:xlink=\"http://www.w3.org/1999/xlink\" width=\"767.7pt\" height=\"191.304163pt\" viewBox=\"0 0 767.7 191.304163\" xmlns=\"http://www.w3.org/2000/svg\" version=\"1.1\">\n <metadata>\n  <rdf:RDF xmlns:dc=\"http://purl.org/dc/elements/1.1/\" xmlns:cc=\"http://creativecommons.org/ns#\" xmlns:rdf=\"http://www.w3.org/1999/02/22-rdf-syntax-ns#\">\n   <cc:Work>\n    <dc:type rdf:resource=\"http://purl.org/dc/dcmitype/StillImage\"/>\n    <dc:date>2024-01-23T18:00:27.913132</dc:date>\n    <dc:format>image/svg+xml</dc:format>\n    <dc:creator>\n     <cc:Agent>\n      <dc:title>Matplotlib v3.7.2, https://matplotlib.org/</dc:title>\n     </cc:Agent>\n    </dc:creator>\n   </cc:Work>\n  </rdf:RDF>\n </metadata>\n <defs>\n  <style type=\"text/css\">*{stroke-linejoin: round; stroke-linecap: butt}</style>\n </defs>\n <g id=\"figure_1\">\n  <g id=\"patch_1\">\n   <path d=\"M 0 191.304163 \nL 767.7 191.304163 \nL 767.7 0 \nL 0 0 \nz\n\" style=\"fill: #ffffff\"/>\n  </g>\n  <g id=\"axes_1\">\n   <g id=\"patch_2\">\n    <path d=\"M 7.2 93.384163 \nL 78.266038 93.384163 \nL 78.266038 22.318125 \nL 7.2 22.318125 \nz\n\" style=\"fill: #ffffff\"/>\n   </g>\n   <g clip-path=\"url(#p14000bf113)\">\n    <image xlink:href=\"data:image/png;base64,\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\" id=\"image69b6b860bb\" transform=\"scale(1 -1) translate(0 -71.28)\" x=\"7.2\" y=\"-22.104163\" width=\"71.28\" height=\"71.28\"/>\n   </g>\n   <g id=\"patch_3\">\n    <path d=\"M 7.2 93.384163 \nL 7.2 22.318125 \n\" style=\"fill: none; stroke: #000000; stroke-width: 0.8; stroke-linejoin: miter; stroke-linecap: square\"/>\n   </g>\n   <g id=\"patch_4\">\n    <path d=\"M 78.266038 93.384163 \nL 78.266038 22.318125 \n\" style=\"fill: none; stroke: #000000; stroke-width: 0.8; stroke-linejoin: miter; stroke-linecap: square\"/>\n   </g>\n   <g id=\"patch_5\">\n    <path d=\"M 7.2 93.384163 \nL 78.266038 93.384163 \n\" style=\"fill: none; stroke: #000000; stroke-width: 0.8; stroke-linejoin: miter; stroke-linecap: square\"/>\n   </g>\n   <g id=\"patch_6\">\n    <path d=\"M 7.2 22.318125 \nL 78.266038 22.318125 \n\" style=\"fill: none; stroke: #000000; stroke-width: 0.8; stroke-linejoin: miter; stroke-linecap: square\"/>\n   </g>\n   <g id=\"text_1\">\n    <!-- shirt -->\n    <g transform=\"translate(29.319269 16.318125) scale(0.12 -0.12)\">\n     <defs>\n      <path id=\"DejaVuSans-73\" d=\"M 2834 3397 \nL 2834 2853 \nQ 2591 2978 2328 3040 \nQ 2066 3103 1784 3103 \nQ 1356 3103 1142 2972 \nQ 928 2841 928 2578 \nQ 928 2378 1081 2264 \nQ 1234 2150 1697 2047 \nL 1894 2003 \nQ 2506 1872 2764 1633 \nQ 3022 1394 3022 966 \nQ 3022 478 2636 193 \nQ 2250 -91 1575 -91 \nQ 1294 -91 989 -36 \nQ 684 19 347 128 \nL 347 722 \nQ 666 556 975 473 \nQ 1284 391 1588 391 \nQ 1994 391 2212 530 \nQ 2431 669 2431 922 \nQ 2431 1156 2273 1281 \nQ 2116 1406 1581 1522 \nL 1381 1569 \nQ 847 1681 609 1914 \nQ 372 2147 372 2553 \nQ 372 3047 722 3315 \nQ 1072 3584 1716 3584 \nQ 2034 3584 2315 3537 \nQ 2597 3491 2834 3397 \nz\n\" transform=\"scale(0.015625)\"/>\n      <path id=\"DejaVuSans-68\" d=\"M 3513 2113 \nL 3513 0 \nL 2938 0 \nL 2938 2094 \nQ 2938 2591 2744 2837 \nQ 2550 3084 2163 3084 \nQ 1697 3084 1428 2787 \nQ 1159 2491 1159 1978 \nL 1159 0 \nL 581 0 \nL 581 4863 \nL 1159 4863 \nL 1159 2956 \nQ 1366 3272 1645 3428 \nQ 1925 3584 2291 3584 \nQ 2894 3584 3203 3211 \nQ 3513 2838 3513 2113 \nz\n\" transform=\"scale(0.015625)\"/>\n      <path id=\"DejaVuSans-69\" d=\"M 603 3500 \nL 1178 3500 \nL 1178 0 \nL 603 0 \nL 603 3500 \nz\nM 603 4863 \nL 1178 4863 \nL 1178 4134 \nL 603 4134 \nL 603 4863 \nz\n\" transform=\"scale(0.015625)\"/>\n      <path id=\"DejaVuSans-72\" d=\"M 2631 2963 \nQ 2534 3019 2420 3045 \nQ 2306 3072 2169 3072 \nQ 1681 3072 1420 2755 \nQ 1159 2438 1159 1844 \nL 1159 0 \nL 581 0 \nL 581 3500 \nL 1159 3500 \nL 1159 2956 \nQ 1341 3275 1631 3429 \nQ 1922 3584 2338 3584 \nQ 2397 3584 2469 3576 \nQ 2541 3569 2628 3553 \nL 2631 2963 \nz\n\" transform=\"scale(0.015625)\"/>\n      <path id=\"DejaVuSans-74\" d=\"M 1172 4494 \nL 1172 3500 \nL 2356 3500 \nL 2356 3053 \nL 1172 3053 \nL 1172 1153 \nQ 1172 725 1289 603 \nQ 1406 481 1766 481 \nL 2356 481 \nL 2356 0 \nL 1766 0 \nQ 1100 0 847 248 \nQ 594 497 594 1153 \nL 594 3053 \nL 172 3053 \nL 172 3500 \nL 594 3500 \nL 594 4494 \nL 1172 4494 \nz\n\" transform=\"scale(0.015625)\"/>\n     </defs>\n     <use xlink:href=\"#DejaVuSans-73\"/>\n     <use xlink:href=\"#DejaVuSans-68\" x=\"52.099609\"/>\n     <use xlink:href=\"#DejaVuSans-69\" x=\"115.478516\"/>\n     <use xlink:href=\"#DejaVuSans-72\" x=\"143.261719\"/>\n     <use xlink:href=\"#DejaVuSans-74\" x=\"184.375\"/>\n    </g>\n   </g>\n  </g>\n  <g id=\"axes_2\">\n   <g id=\"patch_7\">\n    <path d=\"M 92.479245 93.384163 \nL 163.545283 93.384163 \nL 163.545283 22.318125 \nL 92.479245 22.318125 \nz\n\" style=\"fill: #ffffff\"/>\n   </g>\n   <g clip-path=\"url(#p84b8365996)\">\n    <image xlink:href=\"data:image/png;base64,\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\" id=\"image4b5c1feade\" transform=\"scale(1 -1) translate(0 -71.28)\" x=\"92.479245\" y=\"-22.104163\" width=\"71.28\" height=\"71.28\"/>\n   </g>\n   <g id=\"patch_8\">\n    <path d=\"M 92.479245 93.384163 \nL 92.479245 22.318125 \n\" style=\"fill: none; stroke: #000000; stroke-width: 0.8; stroke-linejoin: miter; stroke-linecap: square\"/>\n   </g>\n   <g id=\"patch_9\">\n    <path d=\"M 163.545283 93.384163 \nL 163.545283 22.318125 \n\" style=\"fill: none; stroke: #000000; stroke-width: 0.8; stroke-linejoin: miter; stroke-linecap: square\"/>\n   </g>\n   <g id=\"patch_10\">\n    <path d=\"M 92.479245 93.384163 \nL 163.545283 93.384163 \n\" style=\"fill: none; stroke: #000000; stroke-width: 0.8; stroke-linejoin: miter; stroke-linecap: square\"/>\n   </g>\n   <g id=\"patch_11\">\n    <path d=\"M 92.479245 22.318125 \nL 163.545283 22.318125 \n\" style=\"fill: none; stroke: #000000; stroke-width: 0.8; stroke-linejoin: miter; stroke-linecap: square\"/>\n   </g>\n   <g id=\"text_2\">\n    <!-- t-shirt -->\n    <g transform=\"translate(110.081639 16.318125) scale(0.12 -0.12)\">\n     <defs>\n      <path id=\"DejaVuSans-2d\" d=\"M 313 2009 \nL 1997 2009 \nL 1997 1497 \nL 313 1497 \nL 313 2009 \nz\n\" transform=\"scale(0.015625)\"/>\n     </defs>\n     <use xlink:href=\"#DejaVuSans-74\"/>\n     <use xlink:href=\"#DejaVuSans-2d\" x=\"39.208984\"/>\n     <use xlink:href=\"#DejaVuSans-73\" x=\"75.292969\"/>\n     <use xlink:href=\"#DejaVuSans-68\" x=\"127.392578\"/>\n     <use xlink:href=\"#DejaVuSans-69\" x=\"190.771484\"/>\n     <use xlink:href=\"#DejaVuSans-72\" x=\"218.554688\"/>\n     <use xlink:href=\"#DejaVuSans-74\" x=\"259.667969\"/>\n    </g>\n   </g>\n  </g>\n  <g id=\"axes_3\">\n   <g id=\"patch_12\">\n    <path d=\"M 177.758491 93.384163 \nL 248.824528 93.384163 \nL 248.824528 22.318125 \nL 177.758491 22.318125 \nz\n\" style=\"fill: #ffffff\"/>\n   </g>\n   <g clip-path=\"url(#p4955bda9c5)\">\n    <image xlink:href=\"data:image/png;base64,\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\" id=\"image80c7122cad\" transform=\"scale(1 -1) translate(0 -71.28)\" x=\"177.758491\" y=\"-22.104163\" width=\"71.28\" height=\"71.28\"/>\n   </g>\n   <g id=\"patch_13\">\n    <path d=\"M 177.758491 93.384163 \nL 177.758491 22.318125 \n\" style=\"fill: none; stroke: #000000; stroke-width: 0.8; stroke-linejoin: miter; stroke-linecap: square\"/>\n   </g>\n   <g id=\"patch_14\">\n    <path d=\"M 248.824528 93.384163 \nL 248.824528 22.318125 \n\" style=\"fill: none; stroke: #000000; stroke-width: 0.8; stroke-linejoin: miter; stroke-linecap: square\"/>\n   </g>\n   <g id=\"patch_15\">\n    <path d=\"M 177.758491 93.384163 \nL 248.824528 93.384163 \n\" style=\"fill: none; stroke: #000000; stroke-width: 0.8; stroke-linejoin: miter; stroke-linecap: square\"/>\n   </g>\n   <g id=\"patch_16\">\n    <path d=\"M 177.758491 22.318125 \nL 248.824528 22.318125 \n\" style=\"fill: none; stroke: #000000; stroke-width: 0.8; stroke-linejoin: miter; stroke-linecap: square\"/>\n   </g>\n   <g id=\"text_3\">\n    <!-- bag -->\n    <g transform=\"translate(201.996509 16.318125) scale(0.12 -0.12)\">\n     <defs>\n      <path id=\"DejaVuSans-62\" d=\"M 3116 1747 \nQ 3116 2381 2855 2742 \nQ 2594 3103 2138 3103 \nQ 1681 3103 1420 2742 \nQ 1159 2381 1159 1747 \nQ 1159 1113 1420 752 \nQ 1681 391 2138 391 \nQ 2594 391 2855 752 \nQ 3116 1113 3116 1747 \nz\nM 1159 2969 \nQ 1341 3281 1617 3432 \nQ 1894 3584 2278 3584 \nQ 2916 3584 3314 3078 \nQ 3713 2572 3713 1747 \nQ 3713 922 3314 415 \nQ 2916 -91 2278 -91 \nQ 1894 -91 1617 61 \nQ 1341 213 1159 525 \nL 1159 0 \nL 581 0 \nL 581 4863 \nL 1159 4863 \nL 1159 2969 \nz\n\" transform=\"scale(0.015625)\"/>\n      <path id=\"DejaVuSans-61\" d=\"M 2194 1759 \nQ 1497 1759 1228 1600 \nQ 959 1441 959 1056 \nQ 959 750 1161 570 \nQ 1363 391 1709 391 \nQ 2188 391 2477 730 \nQ 2766 1069 2766 1631 \nL 2766 1759 \nL 2194 1759 \nz\nM 3341 1997 \nL 3341 0 \nL 2766 0 \nL 2766 531 \nQ 2569 213 2275 61 \nQ 1981 -91 1556 -91 \nQ 1019 -91 701 211 \nQ 384 513 384 1019 \nQ 384 1609 779 1909 \nQ 1175 2209 1959 2209 \nL 2766 2209 \nL 2766 2266 \nQ 2766 2663 2505 2880 \nQ 2244 3097 1772 3097 \nQ 1472 3097 1187 3025 \nQ 903 2953 641 2809 \nL 641 3341 \nQ 956 3463 1253 3523 \nQ 1550 3584 1831 3584 \nQ 2591 3584 2966 3190 \nQ 3341 2797 3341 1997 \nz\n\" transform=\"scale(0.015625)\"/>\n      <path id=\"DejaVuSans-67\" d=\"M 2906 1791 \nQ 2906 2416 2648 2759 \nQ 2391 3103 1925 3103 \nQ 1463 3103 1205 2759 \nQ 947 2416 947 1791 \nQ 947 1169 1205 825 \nQ 1463 481 1925 481 \nQ 2391 481 2648 825 \nQ 2906 1169 2906 1791 \nz\nM 3481 434 \nQ 3481 -459 3084 -895 \nQ 2688 -1331 1869 -1331 \nQ 1566 -1331 1297 -1286 \nQ 1028 -1241 775 -1147 \nL 775 -588 \nQ 1028 -725 1275 -790 \nQ 1522 -856 1778 -856 \nQ 2344 -856 2625 -561 \nQ 2906 -266 2906 331 \nL 2906 616 \nQ 2728 306 2450 153 \nQ 2172 0 1784 0 \nQ 1141 0 747 490 \nQ 353 981 353 1791 \nQ 353 2603 747 3093 \nQ 1141 3584 1784 3584 \nQ 2172 3584 2450 3431 \nQ 2728 3278 2906 2969 \nL 2906 3500 \nL 3481 3500 \nL 3481 434 \nz\n\" transform=\"scale(0.015625)\"/>\n     </defs>\n     <use xlink:href=\"#DejaVuSans-62\"/>\n     <use xlink:href=\"#DejaVuSans-61\" x=\"63.476562\"/>\n     <use xlink:href=\"#DejaVuSans-67\" x=\"124.755859\"/>\n    </g>\n   </g>\n  </g>\n  <g id=\"axes_4\">\n   <g id=\"patch_17\">\n    <path d=\"M 263.037736 93.384163 \nL 334.103774 93.384163 \nL 334.103774 22.318125 \nL 263.037736 22.318125 \nz\n\" style=\"fill: #ffffff\"/>\n   </g>\n   <g clip-path=\"url(#p3fb054f5ae)\">\n    <image xlink:href=\"data:image/png;base64,\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\" id=\"image9cc9a0b29d\" transform=\"scale(1 -1) translate(0 -71.28)\" x=\"263.037736\" y=\"-22.104163\" width=\"71.28\" height=\"71.28\"/>\n   </g>\n   <g id=\"patch_18\">\n    <path d=\"M 263.037736 93.384163 \nL 263.037736 22.318125 \n\" style=\"fill: none; stroke: #000000; stroke-width: 0.8; stroke-linejoin: miter; stroke-linecap: square\"/>\n   </g>\n   <g id=\"patch_19\">\n    <path d=\"M 334.103774 93.384163 \nL 334.103774 22.318125 \n\" style=\"fill: none; stroke: #000000; stroke-width: 0.8; stroke-linejoin: miter; stroke-linecap: square\"/>\n   </g>\n   <g id=\"patch_20\">\n    <path d=\"M 263.037736 93.384163 \nL 334.103774 93.384163 \n\" style=\"fill: none; stroke: #000000; stroke-width: 0.8; stroke-linejoin: miter; stroke-linecap: square\"/>\n   </g>\n   <g id=\"patch_21\">\n    <path d=\"M 263.037736 22.318125 \nL 334.103774 22.318125 \n\" style=\"fill: none; stroke: #000000; stroke-width: 0.8; stroke-linejoin: miter; stroke-linecap: square\"/>\n   </g>\n   <g id=\"text_4\">\n    <!-- pullover -->\n    <g transform=\"translate(274.244505 16.318125) scale(0.12 -0.12)\">\n     <defs>\n      <path id=\"DejaVuSans-70\" d=\"M 1159 525 \nL 1159 -1331 \nL 581 -1331 \nL 581 3500 \nL 1159 3500 \nL 1159 2969 \nQ 1341 3281 1617 3432 \nQ 1894 3584 2278 3584 \nQ 2916 3584 3314 3078 \nQ 3713 2572 3713 1747 \nQ 3713 922 3314 415 \nQ 2916 -91 2278 -91 \nQ 1894 -91 1617 61 \nQ 1341 213 1159 525 \nz\nM 3116 1747 \nQ 3116 2381 2855 2742 \nQ 2594 3103 2138 3103 \nQ 1681 3103 1420 2742 \nQ 1159 2381 1159 1747 \nQ 1159 1113 1420 752 \nQ 1681 391 2138 391 \nQ 2594 391 2855 752 \nQ 3116 1113 3116 1747 \nz\n\" transform=\"scale(0.015625)\"/>\n      <path id=\"DejaVuSans-75\" d=\"M 544 1381 \nL 544 3500 \nL 1119 3500 \nL 1119 1403 \nQ 1119 906 1312 657 \nQ 1506 409 1894 409 \nQ 2359 409 2629 706 \nQ 2900 1003 2900 1516 \nL 2900 3500 \nL 3475 3500 \nL 3475 0 \nL 2900 0 \nL 2900 538 \nQ 2691 219 2414 64 \nQ 2138 -91 1772 -91 \nQ 1169 -91 856 284 \nQ 544 659 544 1381 \nz\nM 1991 3584 \nL 1991 3584 \nz\n\" transform=\"scale(0.015625)\"/>\n      <path id=\"DejaVuSans-6c\" d=\"M 603 4863 \nL 1178 4863 \nL 1178 0 \nL 603 0 \nL 603 4863 \nz\n\" transform=\"scale(0.015625)\"/>\n      <path id=\"DejaVuSans-6f\" d=\"M 1959 3097 \nQ 1497 3097 1228 2736 \nQ 959 2375 959 1747 \nQ 959 1119 1226 758 \nQ 1494 397 1959 397 \nQ 2419 397 2687 759 \nQ 2956 1122 2956 1747 \nQ 2956 2369 2687 2733 \nQ 2419 3097 1959 3097 \nz\nM 1959 3584 \nQ 2709 3584 3137 3096 \nQ 3566 2609 3566 1747 \nQ 3566 888 3137 398 \nQ 2709 -91 1959 -91 \nQ 1206 -91 779 398 \nQ 353 888 353 1747 \nQ 353 2609 779 3096 \nQ 1206 3584 1959 3584 \nz\n\" transform=\"scale(0.015625)\"/>\n      <path id=\"DejaVuSans-76\" d=\"M 191 3500 \nL 800 3500 \nL 1894 563 \nL 2988 3500 \nL 3597 3500 \nL 2284 0 \nL 1503 0 \nL 191 3500 \nz\n\" transform=\"scale(0.015625)\"/>\n      <path id=\"DejaVuSans-65\" d=\"M 3597 1894 \nL 3597 1613 \nL 953 1613 \nQ 991 1019 1311 708 \nQ 1631 397 2203 397 \nQ 2534 397 2845 478 \nQ 3156 559 3463 722 \nL 3463 178 \nQ 3153 47 2828 -22 \nQ 2503 -91 2169 -91 \nQ 1331 -91 842 396 \nQ 353 884 353 1716 \nQ 353 2575 817 3079 \nQ 1281 3584 2069 3584 \nQ 2775 3584 3186 3129 \nQ 3597 2675 3597 1894 \nz\nM 3022 2063 \nQ 3016 2534 2758 2815 \nQ 2500 3097 2075 3097 \nQ 1594 3097 1305 2825 \nQ 1016 2553 972 2059 \nL 3022 2063 \nz\n\" transform=\"scale(0.015625)\"/>\n     </defs>\n     <use xlink:href=\"#DejaVuSans-70\"/>\n     <use xlink:href=\"#DejaVuSans-75\" x=\"63.476562\"/>\n     <use xlink:href=\"#DejaVuSans-6c\" x=\"126.855469\"/>\n     <use xlink:href=\"#DejaVuSans-6c\" x=\"154.638672\"/>\n     <use xlink:href=\"#DejaVuSans-6f\" x=\"182.421875\"/>\n     <use xlink:href=\"#DejaVuSans-76\" x=\"243.603516\"/>\n     <use xlink:href=\"#DejaVuSans-65\" x=\"302.783203\"/>\n     <use xlink:href=\"#DejaVuSans-72\" x=\"364.306641\"/>\n    </g>\n   </g>\n  </g>\n  <g id=\"axes_5\">\n   <g id=\"patch_22\">\n    <path d=\"M 348.316981 93.384163 \nL 419.383019 93.384163 \nL 419.383019 22.318125 \nL 348.316981 22.318125 \nz\n\" style=\"fill: #ffffff\"/>\n   </g>\n   <g clip-path=\"url(#p518ab85fec)\">\n    <image xlink:href=\"data:image/png;base64,\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\" id=\"imagea4276df747\" transform=\"scale(1 -1) translate(0 -71.28)\" x=\"348.316981\" y=\"-22.104163\" width=\"71.28\" height=\"71.28\"/>\n   </g>\n   <g id=\"patch_23\">\n    <path d=\"M 348.316981 93.384163 \nL 348.316981 22.318125 \n\" style=\"fill: none; stroke: #000000; stroke-width: 0.8; stroke-linejoin: miter; stroke-linecap: square\"/>\n   </g>\n   <g id=\"patch_24\">\n    <path d=\"M 419.383019 93.384163 \nL 419.383019 22.318125 \n\" style=\"fill: none; stroke: #000000; stroke-width: 0.8; stroke-linejoin: miter; stroke-linecap: square\"/>\n   </g>\n   <g id=\"patch_25\">\n    <path d=\"M 348.316981 93.384163 \nL 419.383019 93.384163 \n\" style=\"fill: none; stroke: #000000; stroke-width: 0.8; stroke-linejoin: miter; stroke-linecap: square\"/>\n   </g>\n   <g id=\"patch_26\">\n    <path d=\"M 348.316981 22.318125 \nL 419.383019 22.318125 \n\" style=\"fill: none; stroke: #000000; stroke-width: 0.8; stroke-linejoin: miter; stroke-linecap: square\"/>\n   </g>\n   <g id=\"text_5\">\n    <!-- shirt -->\n    <g transform=\"translate(370.43625 16.318125) scale(0.12 -0.12)\">\n     <use xlink:href=\"#DejaVuSans-73\"/>\n     <use xlink:href=\"#DejaVuSans-68\" x=\"52.099609\"/>\n     <use xlink:href=\"#DejaVuSans-69\" x=\"115.478516\"/>\n     <use xlink:href=\"#DejaVuSans-72\" x=\"143.261719\"/>\n     <use xlink:href=\"#DejaVuSans-74\" x=\"184.375\"/>\n    </g>\n   </g>\n  </g>\n  <g id=\"axes_6\">\n   <g id=\"patch_27\">\n    <path d=\"M 433.596226 93.384163 \nL 504.662264 93.384163 \nL 504.662264 22.318125 \nL 433.596226 22.318125 \nz\n\" style=\"fill: #ffffff\"/>\n   </g>\n   <g clip-path=\"url(#p51fe52d169)\">\n    <image xlink:href=\"data:image/png;base64,\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\" id=\"image1d50cb6496\" transform=\"scale(1 -1) translate(0 -71.28)\" x=\"433.596226\" y=\"-22.104163\" width=\"71.28\" height=\"71.28\"/>\n   </g>\n   <g id=\"patch_28\">\n    <path d=\"M 433.596226 93.384163 \nL 433.596226 22.318125 \n\" style=\"fill: none; stroke: #000000; stroke-width: 0.8; stroke-linejoin: miter; stroke-linecap: square\"/>\n   </g>\n   <g id=\"patch_29\">\n    <path d=\"M 504.662264 93.384163 \nL 504.662264 22.318125 \n\" style=\"fill: none; stroke: #000000; stroke-width: 0.8; stroke-linejoin: miter; stroke-linecap: square\"/>\n   </g>\n   <g id=\"patch_30\">\n    <path d=\"M 433.596226 93.384163 \nL 504.662264 93.384163 \n\" style=\"fill: none; stroke: #000000; stroke-width: 0.8; stroke-linejoin: miter; stroke-linecap: square\"/>\n   </g>\n   <g id=\"patch_31\">\n    <path d=\"M 433.596226 22.318125 \nL 504.662264 22.318125 \n\" style=\"fill: none; stroke: #000000; stroke-width: 0.8; stroke-linejoin: miter; stroke-linecap: square\"/>\n   </g>\n   <g id=\"text_6\">\n    <!-- ankle boot -->\n    <g transform=\"translate(437.40612 16.318125) scale(0.12 -0.12)\">\n     <defs>\n      <path id=\"DejaVuSans-6e\" d=\"M 3513 2113 \nL 3513 0 \nL 2938 0 \nL 2938 2094 \nQ 2938 2591 2744 2837 \nQ 2550 3084 2163 3084 \nQ 1697 3084 1428 2787 \nQ 1159 2491 1159 1978 \nL 1159 0 \nL 581 0 \nL 581 3500 \nL 1159 3500 \nL 1159 2956 \nQ 1366 3272 1645 3428 \nQ 1925 3584 2291 3584 \nQ 2894 3584 3203 3211 \nQ 3513 2838 3513 2113 \nz\n\" transform=\"scale(0.015625)\"/>\n      <path id=\"DejaVuSans-6b\" d=\"M 581 4863 \nL 1159 4863 \nL 1159 1991 \nL 2875 3500 \nL 3609 3500 \nL 1753 1863 \nL 3688 0 \nL 2938 0 \nL 1159 1709 \nL 1159 0 \nL 581 0 \nL 581 4863 \nz\n\" transform=\"scale(0.015625)\"/>\n      <path id=\"DejaVuSans-20\" transform=\"scale(0.015625)\"/>\n     </defs>\n     <use xlink:href=\"#DejaVuSans-61\"/>\n     <use xlink:href=\"#DejaVuSans-6e\" x=\"61.279297\"/>\n     <use xlink:href=\"#DejaVuSans-6b\" x=\"124.658203\"/>\n     <use xlink:href=\"#DejaVuSans-6c\" x=\"182.568359\"/>\n     <use xlink:href=\"#DejaVuSans-65\" x=\"210.351562\"/>\n     <use xlink:href=\"#DejaVuSans-20\" x=\"271.875\"/>\n     <use xlink:href=\"#DejaVuSans-62\" x=\"303.662109\"/>\n     <use xlink:href=\"#DejaVuSans-6f\" x=\"367.138672\"/>\n     <use xlink:href=\"#DejaVuSans-6f\" x=\"428.320312\"/>\n     <use xlink:href=\"#DejaVuSans-74\" x=\"489.501953\"/>\n    </g>\n   </g>\n  </g>\n  <g id=\"axes_7\">\n   <g id=\"patch_32\">\n    <path d=\"M 518.875472 93.384163 \nL 589.941509 93.384163 \nL 589.941509 22.318125 \nL 518.875472 22.318125 \nz\n\" style=\"fill: #ffffff\"/>\n   </g>\n   <g clip-path=\"url(#paa486dcca8)\">\n    <image xlink:href=\"data:image/png;base64,\niVBORw0KGgoAAAANSUhEUgAAAGMAAABjCAYAAACPO76VAAAJTUlEQVR4nO1dTYwcRxWunu6e6fnb2dnZXe/aHrxe7KwhQQE7iBBFAgkEXFA4IC6RcskFEUS4ww0JIc4ICQkJOEXi5woiAoGURbGSKMSYYMnOj1de787+eGd2/md6uptbv/e9qAdvazYqovpO1Xo1XdXzqr73+tWrauvL1jcjNQtYFpWjKFE2+toTINq/5sbl3BH+bP7dcVxuPJkFWXGb2vBaIchCx4Jrt0/y9scckGXbdB9L9Lu0Te3bf39TJcKykmXyv5iCzEPXNDh1GGVoBKMMjeD87yoJEDxpOcT9kT8GGbcTkxcf4H02V+JiiGZBBXkaK9YEZb1z1H5pB23GYBEfa+LZcdlrYt3RHN1nWMOxufc03WdjE+8ZTUSHQJjODJuZoRGMMjRCepoSiCZ+oizbItraem8RZPY80ca4ir9zBkQvQQGnfsh6PqzZIBssI4XaQyofr2IbFrAWtmH5dJ8oCFQSLBvbn0phU2BmhkYwytAIRhkaIb3NOIH7Zg/InuSXkXtHA3KJ5+d7IGtPanF5UsHfWQHx+SSPY2pcEdxfpLp+fQSyaER8b2XR7S3P91nF5OdNayMkzMzQCEYZGmFmri2H5WYTZaOhC9dhj65bVhHvYxM1uE10H31OW8guKjNKjqJyWlJKKTWhulYP+9bul+Pyiog42AvkhwcPRLg5JczM0AhGGRrBKEMjpLYZje8/BdcZFg3hq2dKKbXxnbfj8rtbayALs8ThUYC87NTJtcy8XQLZpER1+6v4u/wBtt9eZ32roGvr7+XjstvGsRluUPu3f3kNZEuvoH3hsEfU/txL1xPrSZiZoRGMMjRCappyBkgFPqONwjsYwb25f5bq9dHtze7QdPcOkW4mxCDKF2/VkUvXYRZlkwLeJyiRG5x/Demu2KPfDjGgrDIO+cxhUyQydEjWqaO7nGupVDAzQyMYZWgEowyNkNpmjCvIy7068XLooF14bHE/Lt+8vgCyubvEvYGIomTbVG4j1UMIpLCDov5ZtCEOc1lr/8ZkidAlWeV9jKtsXaYORQsYmW1dIlkovNzytojPPCTMzNAIRhkaITVNLd7A6T6s0Vzl1KOUUq+9dTku5xUiYl7hB/KmskSFThdlfplk1TvYl14db5R7wBILMsJ9LtB4DB0cm84O1bWH+LvV64O43PgsPtXcf5r0DOrhYWaGRjDK0AhGGRohtc0o3D6A6+zVc3F5IgyDt5usc76XQoZYODK+WGkbcK5HmXQ1c8fsvmIRMGQ2i9sopdBOeIeJXVNuVyRADMcJNafDzAyNYJShEVLTVORgpHJUI3e2XxdvoB5dF+6g2xlNGQ6cXvoif7a4TdeHj4tIcBMulTNg/ZmS7pXtyjdnesbjKyLfq0pcLKPGyje5tv/3MMrQCEYZGiF9ElurA5fF+7QdrHNRRE0L5Or1LyL359gKWv4IOdtmXO/Pob/qMLezu44c7bTRnk0Ok5PavCP6bXsN25iwhITCjQK2QdEQNVjGe07ubSe2Nw1mZmgEowyNkJqmggN8A/eLFJmNhKvnsIX9qIVNdlhO07CGsnGVfuf0QQTbyJZeRVp68Glsv3uejzlsA97APZHI0MxRv8Ww5dECtzPlhIQTwMwMjWCUoRGMMjTCzPZnuGwH2MBFFzWTIX7l24AlZKJawPZgeAfodvplqlt+A6OknbUcXEdsnwdPtlNKqfYnKeFuSZyCMGCJDP11TMzLH1JdG9N3U8PMDI1glKERjDI0wsxshtNnJ5rZyP12hiWqiT0YgUd1eRaH7J4tFs84g4+q+BjSLvFjMAoNtGftT1H7zlC8H/VorPrLKBsusL2AJ0kBmQIzMzSCUYZGmBlN5Q9p+h9nk+dtRtBNwJIXLHnOJF+gE8OG09v+EyL5TCS8RYz9MqJrpSrbqhaUUcj6U1rAeMy4TK720j/T5dZKmJmhEYwyNIJRhkaYmc3INWnFzPMwdBCEyTrnbmEoTpJwuixhWcjy+3TP7hqu9Mk9faubdN36OPbFYgZlXEruZyWP/nLDm4vLxfsDWT0VzMzQCEYZGmF2NLXdisuujRHW4ZiuHen1MvdxXBVv7gOikIw4j7K4w96cu/gYvTrep7BDNNKpY2LB2R9TG42nkN6yLOeicTQHsjDH2t/aB1nao8DMzNAIRhkawShDI8zuJLYGZYvkXMzqau0S37rCLvg1YlhrhGOD77+zhHvM92BU3keD0l3Dx7r7dYq5eOIo9qBIN2pfQoO2cIO1ueNh3woUApnsNtQsYGaGRjDK0Agzo6mgTccZ9EbnsRGW+yrfpBVbiLLEwhPfOjaqIYVENo0jtyfOIheLW6UttkiEZ1Kqd56j37oHODZ5UtusFpCmwcwMjWCUoRGMMjTCqRwy3G1iyME6Q1le9h4mmNksEVraE79KRP3olXsgaw7JXd29MA+yjEii69jklnp7OP68LdoPODqDhsFrks04viJDNbMfx2ZmaASjDI1gzewLlgyZMi7st3+3FJf3ZPTTp/Fw+TxGPw/7RHf9IdJb1mXbvxrYnj2HWQ/PPvp6XD4YY90//euxuGwJF9npU9/yV1ogO/8iZT1MtpBC08LMDI1glKERjDI0wqnYjGm490M8Q/3MF+7H5eM/nAUZP2FN5tMerxO/r3wVOXvvj3W4Pvdn+r7F7efnQRZVKeL79MYdkL25S/e58AKGe2cVqeUwM0MjGGVohFOhKcuZ8lFa8bmcuz96Mi6v/gOX8nsvHMfl16/+FmSXXvp2XP7ZM78CWSBO+Pruy8/F5fXf41t28xF6A5e5vou/eFUlYtrH6FPCzAyNYJShEYwyNEJ6myG4H3hzisxZXQHRrZ+QO1tdwI0V/Dxg/2X8uEXnIovMLuLeX0tEhisb5NpeXb4Psjd+83hcXvn1WyAL+7Qn4wN2cMpXkM3H2T8CMMrQCB/Kh3Y55Jur7RJtnSkhTR0NWNRWJBLY7CuVlb9hTpPEkU2fifjiI38F2V+ufSIuL/9cHN3DMPVjupKWU8LMDI1glKERjDI0wqkkJJzEnpQ2yS7cra6h8DOUGPeNb22C6L0+ubrtz6HN+F4d7cIPbj0Tl3966yvYhj+D8WjCIR89GGVohA99cekkcC7Q4s7+lzB/9/Dz5GpWbopvNIgnWn2lFZetXfz2QrCHSRCAU4jMToOZGRrBKEMjGGVohP8Ctlq7zjRaScIAAAAASUVORK5CYII=\" id=\"image7ffeaae770\" transform=\"scale(1 -1) translate(0 -71.28)\" x=\"518.875472\" y=\"-22.104163\" width=\"71.28\" height=\"71.28\"/>\n   </g>\n   <g id=\"patch_33\">\n    <path d=\"M 518.875472 93.384163 \nL 518.875472 22.318125 \n\" style=\"fill: none; stroke: #000000; stroke-width: 0.8; stroke-linejoin: miter; stroke-linecap: square\"/>\n   </g>\n   <g id=\"patch_34\">\n    <path d=\"M 589.941509 93.384163 \nL 589.941509 22.318125 \n\" style=\"fill: none; stroke: #000000; stroke-width: 0.8; stroke-linejoin: miter; stroke-linecap: square\"/>\n   </g>\n   <g id=\"patch_35\">\n    <path d=\"M 518.875472 93.384163 \nL 589.941509 93.384163 \n\" style=\"fill: none; stroke: #000000; stroke-width: 0.8; stroke-linejoin: miter; stroke-linecap: square\"/>\n   </g>\n   <g id=\"patch_36\">\n    <path d=\"M 518.875472 22.318125 \nL 589.941509 22.318125 \n\" style=\"fill: none; stroke: #000000; stroke-width: 0.8; stroke-linejoin: miter; stroke-linecap: square\"/>\n   </g>\n   <g id=\"text_7\">\n    <!-- coat -->\n    <g transform=\"translate(541.409116 16.318125) scale(0.12 -0.12)\">\n     <defs>\n      <path id=\"DejaVuSans-63\" d=\"M 3122 3366 \nL 3122 2828 \nQ 2878 2963 2633 3030 \nQ 2388 3097 2138 3097 \nQ 1578 3097 1268 2742 \nQ 959 2388 959 1747 \nQ 959 1106 1268 751 \nQ 1578 397 2138 397 \nQ 2388 397 2633 464 \nQ 2878 531 3122 666 \nL 3122 134 \nQ 2881 22 2623 -34 \nQ 2366 -91 2075 -91 \nQ 1284 -91 818 406 \nQ 353 903 353 1747 \nQ 353 2603 823 3093 \nQ 1294 3584 2113 3584 \nQ 2378 3584 2631 3529 \nQ 2884 3475 3122 3366 \nz\n\" transform=\"scale(0.015625)\"/>\n     </defs>\n     <use xlink:href=\"#DejaVuSans-63\"/>\n     <use xlink:href=\"#DejaVuSans-6f\" x=\"54.980469\"/>\n     <use xlink:href=\"#DejaVuSans-61\" x=\"116.162109\"/>\n     <use xlink:href=\"#DejaVuSans-74\" x=\"177.441406\"/>\n    </g>\n   </g>\n  </g>\n  <g id=\"axes_8\">\n   <g id=\"patch_37\">\n    <path d=\"M 604.154717 93.384163 \nL 675.220755 93.384163 \nL 675.220755 22.318125 \nL 604.154717 22.318125 \nz\n\" style=\"fill: #ffffff\"/>\n   </g>\n   <g clip-path=\"url(#pae6fa8c11e)\">\n    <image xlink:href=\"data:image/png;base64,\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\" id=\"image75cc328001\" transform=\"scale(1 -1) translate(0 -71.28)\" x=\"604.154717\" y=\"-22.104163\" width=\"71.28\" height=\"71.28\"/>\n   </g>\n   <g id=\"patch_38\">\n    <path d=\"M 604.154717 93.384163 \nL 604.154717 22.318125 \n\" style=\"fill: none; stroke: #000000; stroke-width: 0.8; stroke-linejoin: miter; stroke-linecap: square\"/>\n   </g>\n   <g id=\"patch_39\">\n    <path d=\"M 675.220755 93.384163 \nL 675.220755 22.318125 \n\" style=\"fill: none; stroke: #000000; stroke-width: 0.8; stroke-linejoin: miter; stroke-linecap: square\"/>\n   </g>\n   <g id=\"patch_40\">\n    <path d=\"M 604.154717 93.384163 \nL 675.220755 93.384163 \n\" style=\"fill: none; stroke: #000000; stroke-width: 0.8; stroke-linejoin: miter; stroke-linecap: square\"/>\n   </g>\n   <g id=\"patch_41\">\n    <path d=\"M 604.154717 22.318125 \nL 675.220755 22.318125 \n\" style=\"fill: none; stroke: #000000; stroke-width: 0.8; stroke-linejoin: miter; stroke-linecap: square\"/>\n   </g>\n   <g id=\"text_8\">\n    <!-- bag -->\n    <g transform=\"translate(628.392736 16.318125) scale(0.12 -0.12)\">\n     <use xlink:href=\"#DejaVuSans-62\"/>\n     <use xlink:href=\"#DejaVuSans-61\" x=\"63.476562\"/>\n     <use xlink:href=\"#DejaVuSans-67\" x=\"124.755859\"/>\n    </g>\n   </g>\n  </g>\n  <g id=\"axes_9\">\n   <g id=\"patch_42\">\n    <path d=\"M 689.433962 93.384163 \nL 760.5 93.384163 \nL 760.5 22.318125 \nL 689.433962 22.318125 \nz\n\" style=\"fill: #ffffff\"/>\n   </g>\n   <g clip-path=\"url(#pf6d21111e0)\">\n    <image xlink:href=\"data:image/png;base64,\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\" id=\"imagedf6e951fd6\" transform=\"scale(1 -1) translate(0 -71.28)\" x=\"689.433962\" y=\"-22.104163\" width=\"71.28\" height=\"71.28\"/>\n   </g>\n   <g id=\"patch_43\">\n    <path d=\"M 689.433962 93.384163 \nL 689.433962 22.318125 \n\" style=\"fill: none; stroke: #000000; stroke-width: 0.8; stroke-linejoin: miter; stroke-linecap: square\"/>\n   </g>\n   <g id=\"patch_44\">\n    <path d=\"M 760.5 93.384163 \nL 760.5 22.318125 \n\" style=\"fill: none; stroke: #000000; stroke-width: 0.8; stroke-linejoin: miter; stroke-linecap: square\"/>\n   </g>\n   <g id=\"patch_45\">\n    <path d=\"M 689.433962 93.384163 \nL 760.5 93.384163 \n\" style=\"fill: none; stroke: #000000; stroke-width: 0.8; stroke-linejoin: miter; stroke-linecap: square\"/>\n   </g>\n   <g id=\"patch_46\">\n    <path d=\"M 689.433962 22.318125 \nL 760.5 22.318125 \n\" style=\"fill: none; stroke: #000000; stroke-width: 0.8; stroke-linejoin: miter; stroke-linecap: square\"/>\n   </g>\n   <g id=\"text_9\">\n    <!-- dress -->\n    <g transform=\"translate(708.883231 16.318125) scale(0.12 -0.12)\">\n     <defs>\n      <path id=\"DejaVuSans-64\" d=\"M 2906 2969 \nL 2906 4863 \nL 3481 4863 \nL 3481 0 \nL 2906 0 \nL 2906 525 \nQ 2725 213 2448 61 \nQ 2172 -91 1784 -91 \nQ 1150 -91 751 415 \nQ 353 922 353 1747 \nQ 353 2572 751 3078 \nQ 1150 3584 1784 3584 \nQ 2172 3584 2448 3432 \nQ 2725 3281 2906 2969 \nz\nM 947 1747 \nQ 947 1113 1208 752 \nQ 1469 391 1925 391 \nQ 2381 391 2643 752 \nQ 2906 1113 2906 1747 \nQ 2906 2381 2643 2742 \nQ 2381 3103 1925 3103 \nQ 1469 3103 1208 2742 \nQ 947 2381 947 1747 \nz\n\" transform=\"scale(0.015625)\"/>\n     </defs>\n     <use xlink:href=\"#DejaVuSans-64\"/>\n     <use xlink:href=\"#DejaVuSans-72\" x=\"63.476562\"/>\n     <use xlink:href=\"#DejaVuSans-65\" x=\"102.339844\"/>\n     <use xlink:href=\"#DejaVuSans-73\" x=\"163.863281\"/>\n     <use xlink:href=\"#DejaVuSans-73\" x=\"215.962891\"/>\n    </g>\n   </g>\n  </g>\n  <g id=\"axes_10\">\n   <g id=\"patch_47\">\n    <path d=\"M 7.2 184.104163 \nL 78.266038 184.104163 \nL 78.266038 113.038125 \nL 7.2 113.038125 \nz\n\" style=\"fill: #ffffff\"/>\n   </g>\n   <g clip-path=\"url(#pea80524333)\">\n    <image xlink:href=\"data:image/png;base64,\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\" id=\"imagee83346c2bd\" transform=\"scale(1 -1) translate(0 -71.28)\" x=\"7.2\" y=\"-112.824163\" width=\"71.28\" height=\"71.28\"/>\n   </g>\n   <g id=\"patch_48\">\n    <path d=\"M 7.2 184.104163 \nL 7.2 113.038125 \n\" style=\"fill: none; stroke: #000000; stroke-width: 0.8; stroke-linejoin: miter; stroke-linecap: square\"/>\n   </g>\n   <g id=\"patch_49\">\n    <path d=\"M 78.266038 184.104163 \nL 78.266038 113.038125 \n\" style=\"fill: none; stroke: #000000; stroke-width: 0.8; stroke-linejoin: miter; stroke-linecap: square\"/>\n   </g>\n   <g id=\"patch_50\">\n    <path d=\"M 7.2 184.104163 \nL 78.266038 184.104163 \n\" style=\"fill: none; stroke: #000000; stroke-width: 0.8; stroke-linejoin: miter; stroke-linecap: square\"/>\n   </g>\n   <g id=\"patch_51\">\n    <path d=\"M 7.2 113.038125 \nL 78.266038 113.038125 \n\" style=\"fill: none; stroke: #000000; stroke-width: 0.8; stroke-linejoin: miter; stroke-linecap: square\"/>\n   </g>\n   <g id=\"text_10\">\n    <!-- sneaker -->\n    <g transform=\"translate(19.020831 107.038125) scale(0.12 -0.12)\">\n     <use xlink:href=\"#DejaVuSans-73\"/>\n     <use xlink:href=\"#DejaVuSans-6e\" x=\"52.099609\"/>\n     <use xlink:href=\"#DejaVuSans-65\" x=\"115.478516\"/>\n     <use xlink:href=\"#DejaVuSans-61\" x=\"177.001953\"/>\n     <use xlink:href=\"#DejaVuSans-6b\" x=\"238.28125\"/>\n     <use xlink:href=\"#DejaVuSans-65\" x=\"292.566406\"/>\n     <use xlink:href=\"#DejaVuSans-72\" x=\"354.089844\"/>\n    </g>\n   </g>\n  </g>\n  <g id=\"axes_11\">\n   <g id=\"patch_52\">\n    <path d=\"M 92.479245 184.104163 \nL 163.545283 184.104163 \nL 163.545283 113.038125 \nL 92.479245 113.038125 \nz\n\" style=\"fill: #ffffff\"/>\n   </g>\n   <g clip-path=\"url(#p657372dde7)\">\n    <image xlink:href=\"data:image/png;base64,\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\" id=\"image0596cc8849\" transform=\"scale(1 -1) translate(0 -71.28)\" x=\"92.479245\" y=\"-112.824163\" width=\"71.28\" height=\"71.28\"/>\n   </g>\n   <g id=\"patch_53\">\n    <path d=\"M 92.479245 184.104163 \nL 92.479245 113.038125 \n\" style=\"fill: none; stroke: #000000; stroke-width: 0.8; stroke-linejoin: miter; stroke-linecap: square\"/>\n   </g>\n   <g id=\"patch_54\">\n    <path d=\"M 163.545283 184.104163 \nL 163.545283 113.038125 \n\" style=\"fill: none; stroke: #000000; stroke-width: 0.8; stroke-linejoin: miter; stroke-linecap: square\"/>\n   </g>\n   <g id=\"patch_55\">\n    <path d=\"M 92.479245 184.104163 \nL 163.545283 184.104163 \n\" style=\"fill: none; stroke: #000000; stroke-width: 0.8; stroke-linejoin: miter; stroke-linecap: square\"/>\n   </g>\n   <g id=\"patch_56\">\n    <path d=\"M 92.479245 113.038125 \nL 163.545283 113.038125 \n\" style=\"fill: none; stroke: #000000; stroke-width: 0.8; stroke-linejoin: miter; stroke-linecap: square\"/>\n   </g>\n   <g id=\"text_11\">\n    <!-- coat -->\n    <g transform=\"translate(115.012889 107.038125) scale(0.12 -0.12)\">\n     <use xlink:href=\"#DejaVuSans-63\"/>\n     <use xlink:href=\"#DejaVuSans-6f\" x=\"54.980469\"/>\n     <use xlink:href=\"#DejaVuSans-61\" x=\"116.162109\"/>\n     <use xlink:href=\"#DejaVuSans-74\" x=\"177.441406\"/>\n    </g>\n   </g>\n  </g>\n  <g id=\"axes_12\">\n   <g id=\"patch_57\">\n    <path d=\"M 177.758491 184.104163 \nL 248.824528 184.104163 \nL 248.824528 113.038125 \nL 177.758491 113.038125 \nz\n\" style=\"fill: #ffffff\"/>\n   </g>\n   <g clip-path=\"url(#p9c38d321ed)\">\n    <image xlink:href=\"data:image/png;base64,\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\" id=\"imageb1420a4ff7\" transform=\"scale(1 -1) translate(0 -71.28)\" x=\"177.758491\" y=\"-112.824163\" width=\"71.28\" height=\"71.28\"/>\n   </g>\n   <g id=\"patch_58\">\n    <path d=\"M 177.758491 184.104163 \nL 177.758491 113.038125 \n\" style=\"fill: none; stroke: #000000; stroke-width: 0.8; stroke-linejoin: miter; stroke-linecap: square\"/>\n   </g>\n   <g id=\"patch_59\">\n    <path d=\"M 248.824528 184.104163 \nL 248.824528 113.038125 \n\" style=\"fill: none; stroke: #000000; stroke-width: 0.8; stroke-linejoin: miter; stroke-linecap: square\"/>\n   </g>\n   <g id=\"patch_60\">\n    <path d=\"M 177.758491 184.104163 \nL 248.824528 184.104163 \n\" style=\"fill: none; stroke: #000000; stroke-width: 0.8; stroke-linejoin: miter; stroke-linecap: square\"/>\n   </g>\n   <g id=\"patch_61\">\n    <path d=\"M 177.758491 113.038125 \nL 248.824528 113.038125 \n\" style=\"fill: none; stroke: #000000; stroke-width: 0.8; stroke-linejoin: miter; stroke-linecap: square\"/>\n   </g>\n   <g id=\"text_12\">\n    <!-- coat -->\n    <g transform=\"translate(200.292134 107.038125) scale(0.12 -0.12)\">\n     <use xlink:href=\"#DejaVuSans-63\"/>\n     <use xlink:href=\"#DejaVuSans-6f\" x=\"54.980469\"/>\n     <use xlink:href=\"#DejaVuSans-61\" x=\"116.162109\"/>\n     <use xlink:href=\"#DejaVuSans-74\" x=\"177.441406\"/>\n    </g>\n   </g>\n  </g>\n  <g id=\"axes_13\">\n   <g id=\"patch_62\">\n    <path d=\"M 263.037736 184.104163 \nL 334.103774 184.104163 \nL 334.103774 113.038125 \nL 263.037736 113.038125 \nz\n\" style=\"fill: #ffffff\"/>\n   </g>\n   <g clip-path=\"url(#pb9a40d4253)\">\n    <image xlink:href=\"data:image/png;base64,\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\" id=\"imaged44956553a\" transform=\"scale(1 -1) translate(0 -71.28)\" x=\"263.037736\" y=\"-112.824163\" width=\"71.28\" height=\"71.28\"/>\n   </g>\n   <g id=\"patch_63\">\n    <path d=\"M 263.037736 184.104163 \nL 263.037736 113.038125 \n\" style=\"fill: none; stroke: #000000; stroke-width: 0.8; stroke-linejoin: miter; stroke-linecap: square\"/>\n   </g>\n   <g id=\"patch_64\">\n    <path d=\"M 334.103774 184.104163 \nL 334.103774 113.038125 \n\" style=\"fill: none; stroke: #000000; stroke-width: 0.8; stroke-linejoin: miter; stroke-linecap: square\"/>\n   </g>\n   <g id=\"patch_65\">\n    <path d=\"M 263.037736 184.104163 \nL 334.103774 184.104163 \n\" style=\"fill: none; stroke: #000000; stroke-width: 0.8; stroke-linejoin: miter; stroke-linecap: square\"/>\n   </g>\n   <g id=\"patch_66\">\n    <path d=\"M 263.037736 113.038125 \nL 334.103774 113.038125 \n\" style=\"fill: none; stroke: #000000; stroke-width: 0.8; stroke-linejoin: miter; stroke-linecap: square\"/>\n   </g>\n   <g id=\"text_13\">\n    <!-- pullover -->\n    <g transform=\"translate(274.244505 107.038125) scale(0.12 -0.12)\">\n     <use xlink:href=\"#DejaVuSans-70\"/>\n     <use xlink:href=\"#DejaVuSans-75\" x=\"63.476562\"/>\n     <use xlink:href=\"#DejaVuSans-6c\" x=\"126.855469\"/>\n     <use xlink:href=\"#DejaVuSans-6c\" x=\"154.638672\"/>\n     <use xlink:href=\"#DejaVuSans-6f\" x=\"182.421875\"/>\n     <use xlink:href=\"#DejaVuSans-76\" x=\"243.603516\"/>\n     <use xlink:href=\"#DejaVuSans-65\" x=\"302.783203\"/>\n     <use xlink:href=\"#DejaVuSans-72\" x=\"364.306641\"/>\n    </g>\n   </g>\n  </g>\n  <g id=\"axes_14\">\n   <g id=\"patch_67\">\n    <path d=\"M 348.316981 184.104163 \nL 419.383019 184.104163 \nL 419.383019 113.038125 \nL 348.316981 113.038125 \nz\n\" style=\"fill: #ffffff\"/>\n   </g>\n   <g clip-path=\"url(#p2aec4eed2a)\">\n    <image xlink:href=\"data:image/png;base64,\niVBORw0KGgoAAAANSUhEUgAAAGMAAABjCAYAAACPO76VAAAFEUlEQVR4nO2czW8bVRTF33zY4484TuyYNkmdNlBCQEFUqiikgGiBRSpWVFSiC8QCJMSW/4EVG2CDVAkhIaEK+DMQQipUggWiQpFLUGnjJrETx078MR6ze++dgYmgEulFnN/qvpzxm5mcefdePztxXnJeHSkiAvd+XwAx0AxB0AxB0AxB0AxB0AxB0AxB0AxB0AxB0AxB0AxB0AxB0AxB0AxB0AxB0AxB0AxB0AxB0AxB0AxB0AxB0AxB0AxB0AxB0AxB0AxB0AxB+P/GpI6fPK07lk9+YSodm8fT8SgcopbL6Lh/Ygq0yMdnLEqZ8WAs+fmLfAfG+Ts9Hbv7IWhhAa816XzuIErUsquboHFlCIJmCIJmCOLAmuE9+jCM949P6Lh1HF+6O2/iwXg8v5txcbKTeL7WbhbGUTtlDfDY7G1zfn8PtVHsroIt8yco+TpemxsarTfhgbZ2wdSlws3YnDvmdWGAtcYm3cELt88XFXKoJc5CDh2aIQg/fPE0/KB22Sy5mWMN0GbHajo+V7gDWsk36acRYvu6FyW3gTm3n6x5prXMONha5txe/HBNPqZ1okDHFb8F2kY4ruMPPr0IWmDdfnMZ5wx+DVQS9umju/i8pzsmTY1SqHFlCIJmCIJmCMKvXcJ2buroto7vNsZBW98s6vi6mgMtm0vO/WFobQEEA7wAz7R+YwHm5Uq2rePJNPavgWtqSDmF7fLtXhHGM8GOjk9n1kBbTG/o+KsV1DY/N/fYDrF9TVmlJ72Df73dKzt/GSulVL9oxm7I1lYsNEMQ/smrmDY2l8wO6FjsYLtj7ZVwaXamPJWE41vvchv4Ltvpm2XbKGGq61tzdrMp0E7ktxLPd754A8aL6XVznSOc5+P6OR0/Mfk7aF8uT+u49B2+bvu5fR271/Cepr8xKXUU2wl2rHfg3Qq2/FwZgqAZgqAZgnDi/1XHzZl2K1p6CA7eWTBFw8XdCdXPO4maOxwlas1F8zyUnl4H7dkjNZXEQsYcG9/iKHttGH/ReErH367Pg7ZVm9Rx/hbWvcgazn34A2p7Vl145hTOuWRqyMQq1sFgzeyxjDK4pcKVIQiaIQiaIYg/1Yy//cLYN0C8WdOTD46VQWvNZ1QS3ZJ5Hnol1OxP8IaxXXj707wwh7eQbmJvX7xptlwKNdw6caxvb2ycwe2fzCt1Hb9WvQ7aRz+e1/HJt34Bza4nzTeWQRtavwqvCxJXhiRohiDuOU39E+x2efQItpb1s2aHNfYBocrWzaW1q5h67BTWfQBvwW/jsZ7VXY6/gO3z1cc+0/GcjxtAb98yKWatjTn00rRJW28Wcc6VGy/ruHWlitfWNWmxW8RWmitDEDRDEDRDEIdSMw7CXVrU8frzmJftGmLXD6WU6syYulD+GfdY9sqYi8++872JC6ugvffJZR1Xr/wE2nB7R90L/vRRHf/2+oOgtRdMAat8jdvyXBmCoBmCuO9p6iD6K0/quHME3/Hb32HNbuDO6Oa7+zAeDE3amr2IqejQOfO4Dv36NkhcGYKgGYKgGYIQXTNs7HZRKaWi8oSOm6cmQNut4jNWff+ajkdh7KPGQ8arVBI1rgxB0AxB/GfS1P8BrgxB0AxB0AxB0AxB0AxB0AxB0AxB0AxB0AxB0AxB0AxB0AxB0AxB0AxB0AxB0AxB0AxB0AxB0AxB0AxB0AxB0AxB0AxB0AxB0AxB0AxB0AxB0AxB0AxB0AxB0AxB/AGpKS2KSoPj/gAAAABJRU5ErkJggg==\" id=\"image53c258d764\" transform=\"scale(1 -1) translate(0 -71.28)\" x=\"348.316981\" y=\"-112.824163\" width=\"71.28\" height=\"71.28\"/>\n   </g>\n   <g id=\"patch_68\">\n    <path d=\"M 348.316981 184.104163 \nL 348.316981 113.038125 \n\" style=\"fill: none; stroke: #000000; stroke-width: 0.8; stroke-linejoin: miter; stroke-linecap: square\"/>\n   </g>\n   <g id=\"patch_69\">\n    <path d=\"M 419.383019 184.104163 \nL 419.383019 113.038125 \n\" style=\"fill: none; stroke: #000000; stroke-width: 0.8; stroke-linejoin: miter; stroke-linecap: square\"/>\n   </g>\n   <g id=\"patch_70\">\n    <path d=\"M 348.316981 184.104163 \nL 419.383019 184.104163 \n\" style=\"fill: none; stroke: #000000; stroke-width: 0.8; stroke-linejoin: miter; stroke-linecap: square\"/>\n   </g>\n   <g id=\"patch_71\">\n    <path d=\"M 348.316981 113.038125 \nL 419.383019 113.038125 \n\" style=\"fill: none; stroke: #000000; stroke-width: 0.8; stroke-linejoin: miter; stroke-linecap: square\"/>\n   </g>\n   <g id=\"text_14\">\n    <!-- sneaker -->\n    <g transform=\"translate(360.137812 107.038125) scale(0.12 -0.12)\">\n     <use xlink:href=\"#DejaVuSans-73\"/>\n     <use xlink:href=\"#DejaVuSans-6e\" x=\"52.099609\"/>\n     <use xlink:href=\"#DejaVuSans-65\" x=\"115.478516\"/>\n     <use xlink:href=\"#DejaVuSans-61\" x=\"177.001953\"/>\n     <use xlink:href=\"#DejaVuSans-6b\" x=\"238.28125\"/>\n     <use xlink:href=\"#DejaVuSans-65\" x=\"292.566406\"/>\n     <use xlink:href=\"#DejaVuSans-72\" x=\"354.089844\"/>\n    </g>\n   </g>\n  </g>\n  <g id=\"axes_15\">\n   <g id=\"patch_72\">\n    <path d=\"M 433.596226 184.104163 \nL 504.662264 184.104163 \nL 504.662264 113.038125 \nL 433.596226 113.038125 \nz\n\" style=\"fill: #ffffff\"/>\n   </g>\n   <g clip-path=\"url(#p4007f5502a)\">\n    <image xlink:href=\"data:image/png;base64,\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\" id=\"imageb70546f9cf\" transform=\"scale(1 -1) translate(0 -71.28)\" x=\"433.596226\" y=\"-112.824163\" width=\"71.28\" height=\"71.28\"/>\n   </g>\n   <g id=\"patch_73\">\n    <path d=\"M 433.596226 184.104163 \nL 433.596226 113.038125 \n\" style=\"fill: none; stroke: #000000; stroke-width: 0.8; stroke-linejoin: miter; stroke-linecap: square\"/>\n   </g>\n   <g id=\"patch_74\">\n    <path d=\"M 504.662264 184.104163 \nL 504.662264 113.038125 \n\" style=\"fill: none; stroke: #000000; stroke-width: 0.8; stroke-linejoin: miter; stroke-linecap: square\"/>\n   </g>\n   <g id=\"patch_75\">\n    <path d=\"M 433.596226 184.104163 \nL 504.662264 184.104163 \n\" style=\"fill: none; stroke: #000000; stroke-width: 0.8; stroke-linejoin: miter; stroke-linecap: square\"/>\n   </g>\n   <g id=\"patch_76\">\n    <path d=\"M 433.596226 113.038125 \nL 504.662264 113.038125 \n\" style=\"fill: none; stroke: #000000; stroke-width: 0.8; stroke-linejoin: miter; stroke-linecap: square\"/>\n   </g>\n   <g id=\"text_15\">\n    <!-- coat -->\n    <g transform=\"translate(456.12987 107.038125) scale(0.12 -0.12)\">\n     <use xlink:href=\"#DejaVuSans-63\"/>\n     <use xlink:href=\"#DejaVuSans-6f\" x=\"54.980469\"/>\n     <use xlink:href=\"#DejaVuSans-61\" x=\"116.162109\"/>\n     <use xlink:href=\"#DejaVuSans-74\" x=\"177.441406\"/>\n    </g>\n   </g>\n  </g>\n  <g id=\"axes_16\">\n   <g id=\"patch_77\">\n    <path d=\"M 518.875472 184.104163 \nL 589.941509 184.104163 \nL 589.941509 113.038125 \nL 518.875472 113.038125 \nz\n\" style=\"fill: #ffffff\"/>\n   </g>\n   <g clip-path=\"url(#p7756671fd4)\">\n    <image xlink:href=\"data:image/png;base64,\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\" id=\"image77de658956\" transform=\"scale(1 -1) translate(0 -71.28)\" x=\"518.875472\" y=\"-112.824163\" width=\"71.28\" height=\"71.28\"/>\n   </g>\n   <g id=\"patch_78\">\n    <path d=\"M 518.875472 184.104163 \nL 518.875472 113.038125 \n\" style=\"fill: none; stroke: #000000; stroke-width: 0.8; stroke-linejoin: miter; stroke-linecap: square\"/>\n   </g>\n   <g id=\"patch_79\">\n    <path d=\"M 589.941509 184.104163 \nL 589.941509 113.038125 \n\" style=\"fill: none; stroke: #000000; stroke-width: 0.8; stroke-linejoin: miter; stroke-linecap: square\"/>\n   </g>\n   <g id=\"patch_80\">\n    <path d=\"M 518.875472 184.104163 \nL 589.941509 184.104163 \n\" style=\"fill: none; stroke: #000000; stroke-width: 0.8; stroke-linejoin: miter; stroke-linecap: square\"/>\n   </g>\n   <g id=\"patch_81\">\n    <path d=\"M 518.875472 113.038125 \nL 589.941509 113.038125 \n\" style=\"fill: none; stroke: #000000; stroke-width: 0.8; stroke-linejoin: miter; stroke-linecap: square\"/>\n   </g>\n   <g id=\"text_16\">\n    <!-- t-shirt -->\n    <g transform=\"translate(536.477866 107.038125) scale(0.12 -0.12)\">\n     <use xlink:href=\"#DejaVuSans-74\"/>\n     <use xlink:href=\"#DejaVuSans-2d\" x=\"39.208984\"/>\n     <use xlink:href=\"#DejaVuSans-73\" x=\"75.292969\"/>\n     <use xlink:href=\"#DejaVuSans-68\" x=\"127.392578\"/>\n     <use xlink:href=\"#DejaVuSans-69\" x=\"190.771484\"/>\n     <use xlink:href=\"#DejaVuSans-72\" x=\"218.554688\"/>\n     <use xlink:href=\"#DejaVuSans-74\" x=\"259.667969\"/>\n    </g>\n   </g>\n  </g>\n  <g id=\"axes_17\">\n   <g id=\"patch_82\">\n    <path d=\"M 604.154717 184.104163 \nL 675.220755 184.104163 \nL 675.220755 113.038125 \nL 604.154717 113.038125 \nz\n\" style=\"fill: #ffffff\"/>\n   </g>\n   <g clip-path=\"url(#p80fbc3f903)\">\n    <image xlink:href=\"data:image/png;base64,\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\" id=\"imagec4f101c58a\" transform=\"scale(1 -1) translate(0 -71.28)\" x=\"604.154717\" y=\"-112.824163\" width=\"71.28\" height=\"71.28\"/>\n   </g>\n   <g id=\"patch_83\">\n    <path d=\"M 604.154717 184.104163 \nL 604.154717 113.038125 \n\" style=\"fill: none; stroke: #000000; stroke-width: 0.8; stroke-linejoin: miter; stroke-linecap: square\"/>\n   </g>\n   <g id=\"patch_84\">\n    <path d=\"M 675.220755 184.104163 \nL 675.220755 113.038125 \n\" style=\"fill: none; stroke: #000000; stroke-width: 0.8; stroke-linejoin: miter; stroke-linecap: square\"/>\n   </g>\n   <g id=\"patch_85\">\n    <path d=\"M 604.154717 184.104163 \nL 675.220755 184.104163 \n\" style=\"fill: none; stroke: #000000; stroke-width: 0.8; stroke-linejoin: miter; stroke-linecap: square\"/>\n   </g>\n   <g id=\"patch_86\">\n    <path d=\"M 604.154717 113.038125 \nL 675.220755 113.038125 \n\" style=\"fill: none; stroke: #000000; stroke-width: 0.8; stroke-linejoin: miter; stroke-linecap: square\"/>\n   </g>\n   <g id=\"text_17\">\n    <!-- bag -->\n    <g transform=\"translate(628.392736 107.038125) scale(0.12 -0.12)\">\n     <use xlink:href=\"#DejaVuSans-62\"/>\n     <use xlink:href=\"#DejaVuSans-61\" x=\"63.476562\"/>\n     <use xlink:href=\"#DejaVuSans-67\" x=\"124.755859\"/>\n    </g>\n   </g>\n  </g>\n  <g id=\"axes_18\">\n   <g id=\"patch_87\">\n    <path d=\"M 689.433962 184.104163 \nL 760.5 184.104163 \nL 760.5 113.038125 \nL 689.433962 113.038125 \nz\n\" style=\"fill: #ffffff\"/>\n   </g>\n   <g clip-path=\"url(#p80faf33a55)\">\n    <image xlink:href=\"data:image/png;base64,\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\" id=\"imagebe9314494e\" transform=\"scale(1 -1) translate(0 -71.28)\" x=\"689.433962\" y=\"-112.824163\" width=\"71.28\" height=\"71.28\"/>\n   </g>\n   <g id=\"patch_88\">\n    <path d=\"M 689.433962 184.104163 \nL 689.433962 113.038125 \n\" style=\"fill: none; stroke: #000000; stroke-width: 0.8; stroke-linejoin: miter; stroke-linecap: square\"/>\n   </g>\n   <g id=\"patch_89\">\n    <path d=\"M 760.5 184.104163 \nL 760.5 113.038125 \n\" style=\"fill: none; stroke: #000000; stroke-width: 0.8; stroke-linejoin: miter; stroke-linecap: square\"/>\n   </g>\n   <g id=\"patch_90\">\n    <path d=\"M 689.433962 184.104163 \nL 760.5 184.104163 \n\" style=\"fill: none; stroke: #000000; stroke-width: 0.8; stroke-linejoin: miter; stroke-linecap: square\"/>\n   </g>\n   <g id=\"patch_91\">\n    <path d=\"M 689.433962 113.038125 \nL 760.5 113.038125 \n\" style=\"fill: none; stroke: #000000; stroke-width: 0.8; stroke-linejoin: miter; stroke-linecap: square\"/>\n   </g>\n   <g id=\"text_18\">\n    <!-- shirt -->\n    <g transform=\"translate(711.553231 107.038125) scale(0.12 -0.12)\">\n     <use xlink:href=\"#DejaVuSans-73\"/>\n     <use xlink:href=\"#DejaVuSans-68\" x=\"52.099609\"/>\n     <use xlink:href=\"#DejaVuSans-69\" x=\"115.478516\"/>\n     <use xlink:href=\"#DejaVuSans-72\" x=\"143.261719\"/>\n     <use xlink:href=\"#DejaVuSans-74\" x=\"184.375\"/>\n    </g>\n   </g>\n  </g>\n </g>\n <defs>\n  <clipPath id=\"p14000bf113\">\n   <rect x=\"7.2\" y=\"22.318125\" width=\"71.066038\" height=\"71.066038\"/>\n  </clipPath>\n  <clipPath id=\"p84b8365996\">\n   <rect x=\"92.479245\" y=\"22.318125\" width=\"71.066038\" height=\"71.066038\"/>\n  </clipPath>\n  <clipPath id=\"p4955bda9c5\">\n   <rect x=\"177.758491\" y=\"22.318125\" width=\"71.066038\" height=\"71.066038\"/>\n  </clipPath>\n  <clipPath id=\"p3fb054f5ae\">\n   <rect x=\"263.037736\" y=\"22.318125\" width=\"71.066038\" height=\"71.066038\"/>\n  </clipPath>\n  <clipPath id=\"p518ab85fec\">\n   <rect x=\"348.316981\" y=\"22.318125\" width=\"71.066038\" height=\"71.066038\"/>\n  </clipPath>\n  <clipPath id=\"p51fe52d169\">\n   <rect x=\"433.596226\" y=\"22.318125\" width=\"71.066038\" height=\"71.066038\"/>\n  </clipPath>\n  <clipPath id=\"paa486dcca8\">\n   <rect x=\"518.875472\" y=\"22.318125\" width=\"71.066038\" height=\"71.066038\"/>\n  </clipPath>\n  <clipPath id=\"pae6fa8c11e\">\n   <rect x=\"604.154717\" y=\"22.318125\" width=\"71.066038\" height=\"71.066038\"/>\n  </clipPath>\n  <clipPath id=\"pf6d21111e0\">\n   <rect x=\"689.433962\" y=\"22.318125\" width=\"71.066038\" height=\"71.066038\"/>\n  </clipPath>\n  <clipPath id=\"pea80524333\">\n   <rect x=\"7.2\" y=\"113.038125\" width=\"71.066038\" height=\"71.066038\"/>\n  </clipPath>\n  <clipPath id=\"p657372dde7\">\n   <rect x=\"92.479245\" y=\"113.038125\" width=\"71.066038\" height=\"71.066038\"/>\n  </clipPath>\n  <clipPath id=\"p9c38d321ed\">\n   <rect x=\"177.758491\" y=\"113.038125\" width=\"71.066038\" height=\"71.066038\"/>\n  </clipPath>\n  <clipPath id=\"pb9a40d4253\">\n   <rect x=\"263.037736\" y=\"113.038125\" width=\"71.066038\" height=\"71.066038\"/>\n  </clipPath>\n  <clipPath id=\"p2aec4eed2a\">\n   <rect x=\"348.316981\" y=\"113.038125\" width=\"71.066038\" height=\"71.066038\"/>\n  </clipPath>\n  <clipPath id=\"p4007f5502a\">\n   <rect x=\"433.596226\" y=\"113.038125\" width=\"71.066038\" height=\"71.066038\"/>\n  </clipPath>\n  <clipPath id=\"p7756671fd4\">\n   <rect x=\"518.875472\" y=\"113.038125\" width=\"71.066038\" height=\"71.066038\"/>\n  </clipPath>\n  <clipPath id=\"p80fbc3f903\">\n   <rect x=\"604.154717\" y=\"113.038125\" width=\"71.066038\" height=\"71.066038\"/>\n  </clipPath>\n  <clipPath id=\"p80faf33a55\">\n   <rect x=\"689.433962\" y=\"113.038125\" width=\"71.066038\" height=\"71.066038\"/>\n  </clipPath>\n </defs>\n</svg>\n",
            "text/plain": [
              "<Figure size 1350x300 with 18 Axes>"
            ]
          },
          "metadata": {},
          "output_type": "display_data"
        }
      ],
      "source": [
        "## 1차 시도\n",
        "# from torch.utils.data import DataLoader\n",
        "\n",
        "# train_loader = DataLoader(dataset=mnist_train, batch_size=64, shuffle=True)\n",
        "# X, y = next(iter(## 빈칸을 채워주세요. ## ))\n",
        "# show_images(X.reshape(18,28,28), 2, 9, titles = get_fashion_mnist_labels(y));\n",
        "\n",
        "## 2차 시도\n",
        "# training dataset 가져오기\n",
        "X, y = next(iter(data.DataLoader(dataset=mnist_train, batch_size=18, shuffle=True)))\n",
        "## note : \n",
        "##   batch_size를 18로 설정 ~ 한번의 이터레이터를 돌 때 가져오는 배치 크기가 18\n",
        "##   따라서 아래에 reshape의 첫번째 인수가 18이 되는 것 ~ 18개 이미지 데이터에 대해 28 * 28 크기로 재정의\n",
        "\n",
        "show_images(X.reshape(18,28,28), 2, 9, titles = get_fashion_mnist_labels(y))"
      ]
    },
    {
      "cell_type": "code",
      "execution_count": 13,
      "metadata": {
        "colab": {
          "base_uri": "https://localhost:8080/"
        },
        "id": "6iuH76QZACsP",
        "outputId": "4052d75c-7311-4469-cf74-e6c691f56833"
      },
      "outputs": [],
      "source": [
        "# Reading a Minibatch\n",
        "batch_size = 256\n",
        "\n",
        "def get_dataloader_workers():\n",
        "  \"\"\"Use 4 processes to read the data.\"\"\"\n",
        "  return 4\n",
        "\n",
        "train_iter = data.DataLoader(mnist_train, batch_size, shuffle=True,\n",
        "                             num_workers = get_dataloader_workers())"
      ]
    },
    {
      "cell_type": "code",
      "execution_count": 14,
      "metadata": {
        "colab": {
          "base_uri": "https://localhost:8080/",
          "height": 35
        },
        "id": "IV1Jtny0BiPt",
        "outputId": "78e6c697-62cd-4c3f-9a08-4aa861e9acfb"
      },
      "outputs": [
        {
          "data": {
            "text/plain": [
              "'2.26.sec'"
            ]
          },
          "execution_count": 14,
          "metadata": {},
          "output_type": "execute_result"
        }
      ],
      "source": [
        "# training data 읽는 시간 체크\n",
        "\n",
        "timer = d2l.Timer()\n",
        "for X, y in train_iter:\n",
        "  continue\n",
        "f'{timer.stop():.2f}.sec'"
      ]
    },
    {
      "cell_type": "code",
      "execution_count": 15,
      "metadata": {
        "id": "BtPsiyJsCA7_"
      },
      "outputs": [],
      "source": [
        "# Putting All Things Together\n",
        "\n",
        "\n",
        "def load_data_fashion_mnist(batch_size, resize=None):\n",
        "  \"\"\"Fashion-MNIST dataset 을 다운로드하고 memory로 로드\"\"\"\n",
        "  trans = [transforms.ToTensor()]\n",
        "  if resize:\n",
        "    trans.insert(0, transforms.Resize(resize))\n",
        "  trans = transforms.Compose(trans)\n",
        "\n",
        "    ## note : transforms 과정\n",
        "    ## trans = [transforms.Resize((256, 256)),\n",
        "    ##          transforms.ToTensor(),\n",
        "    ##          transforms.Normalize(mean=[0.5], std=[0.5])\n",
        "    ##          ]\n",
        "\n",
        "    ## composed_transform = transforms.Compose(trans)\n",
        "\n",
        "    ## 이미지 크기 조정, 텐서 변환, 정규화 등 여러 단계의 변환을 적용하고 싶을 때, 각각의 변환을 리스트로 묶어 transforms.Compose로 조합하여 사용\n",
        "    ## 위 과정은 이미지 크기를 함수의 인자로 전달한 resize 부분에서 정의해준 값으로 재조정해준 뒤, 이를 텐서 변환 해주는 과정을 담고 있음\n",
        "\n",
        "  mnist_train = torchvision.datasets.FashionMNIST(\n",
        "      root = \"../data\", train=True, transform=trans, download=True)\n",
        "  mnist_test = torchvision.datasets.FashionMNIST(\n",
        "      root=\"../data\", train=False, transform=trans, download=True)\n",
        "  return(data.DataLoader(mnist_train, batch_size, shuffle=True,\n",
        "                         num_workers=get_dataloader_workers()),\n",
        "         data.DataLoader(mnist_test, batch_size, shuffle=True,\n",
        "                         num_workers=get_dataloader_workers()))\n"
      ]
    },
    {
      "cell_type": "code",
      "execution_count": 16,
      "metadata": {
        "colab": {
          "base_uri": "https://localhost:8080/"
        },
        "id": "3rUSM8gTEjZk",
        "outputId": "ce2ebaaf-a35c-4dff-c059-a8c6be668397"
      },
      "outputs": [
        {
          "name": "stdout",
          "output_type": "stream",
          "text": [
            "torch.Size([32, 1, 64, 64]) torch.float32 torch.Size([32]) torch.int64\n"
          ]
        }
      ],
      "source": [
        "train_iter, test_iter = load_data_fashion_mnist(32, resize=64)\n",
        "for X, y in train_iter:\n",
        "  print(X.shape, X.dtype, y.shape, y.dtype)\n",
        "  break"
      ]
    },
    {
      "cell_type": "markdown",
      "metadata": {
        "id": "ulaJ94h0Y8fW"
      },
      "source": [
        "## 3.6 Implementation of Softmax Regression from Scratch"
      ]
    },
    {
      "cell_type": "markdown",
      "metadata": {
        "id": "uYpKFOrTgwXg"
      },
      "source": [
        "**코드 한 줄 한 줄이 어떤 이유로 쓰였는지 씹어보며 공부해보세요! 😀**"
      ]
    },
    {
      "cell_type": "code",
      "execution_count": 17,
      "metadata": {
        "id": "89Lubu51ZCCZ"
      },
      "outputs": [],
      "source": [
        "import torch\n",
        "from IPython import display\n",
        "from d2l import torch as d2l"
      ]
    },
    {
      "cell_type": "code",
      "execution_count": 18,
      "metadata": {
        "id": "gbIoU3lAZR5N"
      },
      "outputs": [],
      "source": [
        "batch_size = 256\n",
        "train_iter, test_iter = d2l.load_data_fashion_mnist(batch_size)"
      ]
    },
    {
      "cell_type": "code",
      "execution_count": 19,
      "metadata": {
        "id": "sFu5stt3ZaKD"
      },
      "outputs": [],
      "source": [
        "# image flatten to vectors of length 784.\n",
        "# 각 pixel 위치를 feature로 봄\n",
        "# class 가 10개니까 아웃풋 dimension이 10\n",
        "# Gaussian 노이즈로 W 초기값 설정\n",
        "# 0으로 b 초기값 설정\n",
        "\n",
        "num_inputs = 784\n",
        "num_outputs = 10\n",
        "W = torch.normal(0, 0.01, size = (num_inputs, num_outputs), requires_grad=True )\n",
        "\n",
        "## note : \n",
        "##      torch.normal ~ 평균 0, 표준편차 0.01의 정규분포를 따르는 난수 생성\n",
        "##      required_grad ~ 기울기를 계산할지 말지를 결정하는 boolean\n",
        "\n",
        "b = torch.zeros(num_outputs, requires_grad=True)"
      ]
    },
    {
      "cell_type": "code",
      "execution_count": 20,
      "metadata": {
        "colab": {
          "base_uri": "https://localhost:8080/"
        },
        "id": "ZQ3SVtmha6BU",
        "outputId": "bc1ef17c-0121-4c31-fef9-449ccd5a34bb"
      },
      "outputs": [
        {
          "data": {
            "text/plain": [
              "(tensor([[5., 7., 9.]]),\n",
              " tensor([[ 6.],\n",
              "         [15.]]))"
            ]
          },
          "execution_count": 20,
          "metadata": {},
          "output_type": "execute_result"
        }
      ],
      "source": [
        "X = torch.tensor([[1.0, 2.0, 3.0], [4.0, 5.0, 6.0]])\n",
        "X.sum(0, keepdim=True), X.sum(1, keepdim=True)\n",
        "\n",
        "## note : 0이면 열방향, 1이면 행방향으로 합을 구하며, keepdim 옵션은 input의 차원 값을 유지할지 결정"
      ]
    },
    {
      "cell_type": "code",
      "execution_count": 22,
      "metadata": {
        "id": "hl0dOMLncRQN"
      },
      "outputs": [],
      "source": [
        "# softmax 함수를 구현해보세요.\n",
        "\n",
        "def softmax(X):\n",
        "  X_exp =  torch.exp(X)\n",
        "  ## note : 입력값으로 들어온 tensor 값을 지수화\n",
        "\n",
        "  partition =  torch.sum(X_exp, dim=1, keepdim=True)\n",
        "  ## note : 위의 코드랑 문법이 살짝 다른데, X_exp 에 대하셔 행연산을 실시하라는 의미\n",
        "  return X_exp / partition\n",
        "\n",
        "  ## note : \n",
        "  ##    tensor의 크기(shape)가 같다면 element-wise의 연산이 가능함\n",
        "  ##    각 tensor 값들은 총합 1인 확률 값으로 재정의되어 반환\n"
      ]
    },
    {
      "cell_type": "code",
      "execution_count": 23,
      "metadata": {
        "colab": {
          "base_uri": "https://localhost:8080/"
        },
        "id": "r9SqT8GUSUuv",
        "outputId": "879e8995-5116-4d39-ec70-bbb8b1f71a5f"
      },
      "outputs": [
        {
          "data": {
            "text/plain": [
              "(tensor([[0.4180, 0.0346, 0.1145, 0.3218, 0.1111],\n",
              "         [0.1953, 0.3745, 0.2720, 0.1256, 0.0326]]),\n",
              " tensor([1.0000, 1.0000]))"
            ]
          },
          "execution_count": 23,
          "metadata": {},
          "output_type": "execute_result"
        }
      ],
      "source": [
        "X = torch.normal(0, 1, (2,5))\n",
        "X_prob = softmax(X)\n",
        "X_prob, X_prob.sum(1)"
      ]
    },
    {
      "cell_type": "code",
      "execution_count": 24,
      "metadata": {
        "id": "rvNT7pIlSlab"
      },
      "outputs": [],
      "source": [
        "def net(X):\n",
        "  return softmax(torch.matmul(X.reshape((-1, W.shape[0])), W) + b)\n",
        "\n",
        "  ## note :\n",
        "  ##    matmul : tensor 간 행렬 곱을 진행\n",
        "  ##    reshape를 저렇게 해주는 이유는, W의 shape [size = (num_inputs, num_outputs)] 을 고려해 행렬곱이 수행될 수 있도록 맞춰주는 것"
      ]
    },
    {
      "cell_type": "code",
      "execution_count": 25,
      "metadata": {
        "colab": {
          "base_uri": "https://localhost:8080/"
        },
        "id": "et2FD5OVTq-A",
        "outputId": "9bf760b1-b71c-4340-bc74-5a0be4fe69d2"
      },
      "outputs": [
        {
          "data": {
            "text/plain": [
              "tensor([0.1000, 0.5000])"
            ]
          },
          "execution_count": 25,
          "metadata": {},
          "output_type": "execute_result"
        }
      ],
      "source": [
        "y = torch.tensor([0,2])\n",
        "y_hat = torch.tensor([[0.1, 0.3, 0.6], [0.3, 0.2, 0.5]])\n",
        "y_hat[[0,1], y]\n",
        "\n",
        "## note : y_hat[0], y_hat[1]에 대해 y 번째 인덱스 값을 선택"
      ]
    },
    {
      "cell_type": "code",
      "execution_count": 26,
      "metadata": {
        "colab": {
          "base_uri": "https://localhost:8080/"
        },
        "id": "LxEgwZlyUynl",
        "outputId": "cae84383-02b7-40fe-ceb3-7edd64b75475"
      },
      "outputs": [
        {
          "data": {
            "text/plain": [
              "tensor(1.1466)"
            ]
          },
          "execution_count": 26,
          "metadata": {},
          "output_type": "execute_result"
        }
      ],
      "source": [
        "# cross-entropy loss function을 구현해보세요.\n",
        "\n",
        "## question : 이해가 잘 안감. 실제 값과 예측 값 사이의 간극에 초점을 맞춰야할 것 같은데 왜 이런식으로 계산이 진행될까\n",
        "\n",
        "def cross_entropy(y_hat, y):\n",
        "    N = len(y)\n",
        "    loss = 0.0\n",
        "\n",
        "    for i in range(N):\n",
        "        log_prob = torch.log(\n",
        "            torch.exp(y_hat[i, y[i]]) / torch.sum(torch.exp(y_hat[i])))\n",
        "        loss += -log_prob\n",
        "\n",
        "    return loss / N\n",
        "\n",
        "\n",
        "cross_entropy(y_hat, y)\n"
      ]
    },
    {
      "cell_type": "code",
      "execution_count": 32,
      "metadata": {},
      "outputs": [
        {
          "name": "stdout",
          "output_type": "stream",
          "text": [
            "tensor(4.2771)\n",
            "tensor([1.1052, 1.3499, 1.8221])\n",
            "tensor(1.8221)\n",
            "tensor(4.2200)\n"
          ]
        }
      ],
      "source": [
        "## test : 출력 결과 테스트\n",
        "\n",
        "print(torch.sum(torch.exp(y_hat[0])))\n",
        "print(torch.exp(y_hat[0]))\n",
        "print(torch.exp(y_hat[0, y[1]]))"
      ]
    },
    {
      "cell_type": "code",
      "execution_count": 33,
      "metadata": {
        "id": "QVfSBJuxVJqJ"
      },
      "outputs": [],
      "source": [
        "def accuracy(y_hat, y):\n",
        "  \"\"\"correct prediction 수를 계산\"\"\"\n",
        "  if len(y_hat.shape) > 1 and y_hat.shape[1] > 1:\n",
        "    y_hat = y_hat.argmax(axis = 1)\n",
        "  cmp = y_hat.type(y.dtype) == y\n",
        "  return float(cmp.type(y.dtype).sum())"
      ]
    },
    {
      "cell_type": "code",
      "execution_count": 35,
      "metadata": {},
      "outputs": [
        {
          "name": "stdout",
          "output_type": "stream",
          "text": [
            "torch.Size([2, 3])\n",
            "2\n"
          ]
        }
      ],
      "source": [
        "## test : 출력 결과 테스트\n",
        "\n",
        "print(y_hat.shape)\n",
        "print(len(y_hat.shape))\n",
        "print(y_hat.shape[1])"
      ]
    },
    {
      "cell_type": "code",
      "execution_count": null,
      "metadata": {
        "colab": {
          "base_uri": "https://localhost:8080/"
        },
        "id": "q8ZcA1mhU_3f",
        "outputId": "2acba3d9-91b5-4c4b-91c1-793475a68453"
      },
      "outputs": [
        {
          "data": {
            "text/plain": [
              "0.5"
            ]
          },
          "execution_count": 26,
          "metadata": {},
          "output_type": "execute_result"
        }
      ],
      "source": [
        "accuracy(y_hat, y) / len(y)"
      ]
    },
    {
      "cell_type": "code",
      "execution_count": null,
      "metadata": {
        "id": "9CUt5mryVFAg"
      },
      "outputs": [],
      "source": [
        "def evaluate_accuracy(net, data_iter):\n",
        "    \"\"\"모델 정확도 계산\"\"\"\n",
        "    if isinstance(net, torch.nn.Module):\n",
        "        net.eval()\n",
        "    metric = Accumulator(2)\n",
        "\n",
        "    ## 무엇이 들어가야할까요? ##\n",
        "        for X, y in data_iter:\n",
        "            metric.add(accuracy(net(X), y), y.numel())\n",
        "    return metric[0] / metric[1]"
      ]
    },
    {
      "cell_type": "code",
      "execution_count": null,
      "metadata": {
        "id": "QmLz-HNoXgig"
      },
      "outputs": [],
      "source": [
        "class Accumulator:\n",
        "    \"\"\"n 개 변수 합 축적\"\"\"\n",
        "    def __init__(self, n):\n",
        "        self.data = [0.0] * n\n",
        "\n",
        "    def add(self, *args):\n",
        "        self.data = [a + float(b) for a, b in zip(self.data, args)]\n",
        "\n",
        "    def reset(self):\n",
        "        self.data = [0.0] * len(self.data)\n",
        "\n",
        "    def __getitem__(self, idx):\n",
        "        return self.data[idx]"
      ]
    },
    {
      "cell_type": "code",
      "execution_count": null,
      "metadata": {
        "colab": {
          "base_uri": "https://localhost:8080/"
        },
        "id": "wbI98ltDWQuG",
        "outputId": "99e83563-b9c1-4bf0-af04-492782304aaf"
      },
      "outputs": [
        {
          "data": {
            "text/plain": [
              "0.0912"
            ]
          },
          "execution_count": 32,
          "metadata": {},
          "output_type": "execute_result"
        }
      ],
      "source": [
        "evaluate_accuracy(net, test_iter)"
      ]
    },
    {
      "cell_type": "code",
      "execution_count": null,
      "metadata": {
        "id": "0zitI4zDWZBB"
      },
      "outputs": [],
      "source": [
        "def train_epoch(net, train_iter, loss, updater):\n",
        "    \"\"\"training loop\"\"\"\n",
        "    # Set the model to training model\n",
        "    if isinstance(net, torch.nn.Module):\n",
        "        net.train()\n",
        "    # Sum of training loss, sum of training accuracy, number of examples\n",
        "    metric = Accumulator(3)\n",
        "    for X, y in train_iter:\n",
        "        # Compute gradients and update parameters\n",
        "        y_hat = net(X)\n",
        "        l = loss(y_hat, y)\n",
        "        if isinstance(updater, torch.optim.Optimizer):\n",
        "            # Using PyTorch in-built optimizer & loss criterion\n",
        "            updater.zero_grad()\n",
        "            l.mean().## 빈칸을 채워주세요. ##\n",
        "            updater.step()\n",
        "        else:\n",
        "            # Using custom built optimizer & loss criterion\n",
        "            l.sum().## 빈칸을 채워주세요. ##\n",
        "            updater(X.shape[0])\n",
        "        metric.add(float(l.sum()), accuracy(y_hat, y), y.numel())\n",
        "    # Return training loss and training accuracy\n",
        "    return metric[0] / metric[2], metric[1] / metric[2]"
      ]
    },
    {
      "cell_type": "code",
      "execution_count": null,
      "metadata": {
        "id": "Y7b5AmvyaKJu"
      },
      "outputs": [],
      "source": [
        "class Animator:\n",
        "    \"\"\"애니메이션으로 데이터 플롯팅\"\"\"\n",
        "    def __init__(self, xlabel=None, ylabel=None, legend=None, xlim=None,\n",
        "                 ylim=None, xscale='linear', yscale='linear',\n",
        "                 fmts=('-', 'm--', 'g-.', 'r:'), nrows=1, ncols=1,\n",
        "                 figsize=(3.5, 2.5)):\n",
        "        # Incrementally plot multiple lines\n",
        "        if legend is None:\n",
        "            legend = []\n",
        "        d2l.use_svg_display()\n",
        "        self.fig, self.axes = d2l.plt.subplots(nrows, ncols, figsize=figsize)\n",
        "        if nrows * ncols == 1:\n",
        "            self.axes = [self.axes, ]\n",
        "        # Use a lambda function to capture arguments\n",
        "        self.config_axes = lambda: d2l.set_axes(\n",
        "            self.axes[0], xlabel, ylabel, xlim, ylim, xscale, yscale, legend)\n",
        "        self.X, self.Y, self.fmts = None, None, fmts\n",
        "\n",
        "    def add(self, x, y):\n",
        "        # Add multiple data points into the figure\n",
        "        if not hasattr(y, \"__len__\"):\n",
        "            y = [y]\n",
        "        n = len(y)\n",
        "        if not hasattr(x, \"__len__\"):\n",
        "            x = [x] * n\n",
        "        if not self.X:\n",
        "            self.X = [[] for _ in range(n)]\n",
        "        if not self.Y:\n",
        "            self.Y = [[] for _ in range(n)]\n",
        "        for i, (a, b) in enumerate(zip(x, y)):\n",
        "            if a is not None and b is not None:\n",
        "                self.X[i].append(a)\n",
        "                self.Y[i].append(b)\n",
        "        self.axes[0].cla()\n",
        "        for x, y, fmt in zip(self.X, self.Y, self.fmts):\n",
        "            self.axes[0].plot(x, y, fmt)\n",
        "        self.config_axes()\n",
        "        display.display(self.fig)\n",
        "        display.clear_output(wait=True)\n"
      ]
    },
    {
      "cell_type": "code",
      "execution_count": null,
      "metadata": {
        "id": "8fCzuNB1cSts"
      },
      "outputs": [],
      "source": [
        "def train(net, train_iter, test_iter, loss, num_epochs, updater):\n",
        "    \"\"\"모델 학습\"\"\"\n",
        "    animator = Animator(xlabel='epoch', xlim=[1, num_epochs], ylim=[0.3, 0.9],\n",
        "                        legend=['train loss', 'train acc', 'test acc'])\n",
        "    for epoch in range(num_epochs):\n",
        "        train_metrics = train_epoch(net, train_iter, loss, updater)\n",
        "        test_acc = evaluate_accuracy(net, test_iter)\n",
        "        animator.add(epoch + 1, train_metrics + (test_acc,))\n",
        "    train_loss, train_acc = train_metrics\n",
        "    assert train_loss < 0.5, train_loss\n",
        "    assert train_acc <= 1 and train_acc > 0.7, train_acc\n",
        "    assert test_acc <= 1 and test_acc > 0.7, test_acc\n"
      ]
    },
    {
      "cell_type": "code",
      "execution_count": null,
      "metadata": {
        "id": "FLTyQ3mxeVOP"
      },
      "outputs": [],
      "source": [
        "lr = 0.1\n",
        "\n",
        "def updater(batch_size):\n",
        "  return d2l.sgd([W, b], lr, batch_size)"
      ]
    },
    {
      "cell_type": "code",
      "execution_count": null,
      "metadata": {
        "colab": {
          "base_uri": "https://localhost:8080/",
          "height": 261
        },
        "id": "UcyYl51refkY",
        "outputId": "17a5dafc-50b6-4ce8-9eff-79966fcb4bef"
      },
      "outputs": [
        {
          "data": {
            "image/svg+xml": "<?xml version=\"1.0\" encoding=\"utf-8\" standalone=\"no\"?>\n<!DOCTYPE svg PUBLIC \"-//W3C//DTD SVG 1.1//EN\"\n  \"http://www.w3.org/Graphics/SVG/1.1/DTD/svg11.dtd\">\n<!-- Created with matplotlib (https://matplotlib.org/) -->\n<svg height=\"180.65625pt\" version=\"1.1\" viewBox=\"0 0 238.965625 180.65625\" width=\"238.965625pt\" xmlns=\"http://www.w3.org/2000/svg\" xmlns:xlink=\"http://www.w3.org/1999/xlink\">\n <defs>\n  <style type=\"text/css\">\n*{stroke-linecap:butt;stroke-linejoin:round;}\n  </style>\n </defs>\n <g id=\"figure_1\">\n  <g id=\"patch_1\">\n   <path d=\"M 0 180.65625 \nL 238.965625 180.65625 \nL 238.965625 0 \nL 0 0 \nz\n\" style=\"fill:none;\"/>\n  </g>\n  <g id=\"axes_1\">\n   <g id=\"patch_2\">\n    <path d=\"M 30.103125 143.1 \nL 225.403125 143.1 \nL 225.403125 7.2 \nL 30.103125 7.2 \nz\n\" style=\"fill:#ffffff;\"/>\n   </g>\n   <g id=\"matplotlib.axis_1\">\n    <g id=\"xtick_1\">\n     <g id=\"line2d_1\">\n      <path clip-path=\"url(#p402da9e0d3)\" d=\"M 51.803125 143.1 \nL 51.803125 7.2 \n\" style=\"fill:none;stroke:#b0b0b0;stroke-linecap:square;stroke-width:0.8;\"/>\n     </g>\n     <g id=\"line2d_2\">\n      <defs>\n       <path d=\"M 0 0 \nL 0 3.5 \n\" id=\"mbe01a30fb6\" style=\"stroke:#000000;stroke-width:0.8;\"/>\n      </defs>\n      <g>\n       <use style=\"stroke:#000000;stroke-width:0.8;\" x=\"51.803125\" xlink:href=\"#mbe01a30fb6\" y=\"143.1\"/>\n      </g>\n     </g>\n     <g id=\"text_1\">\n      <!-- 2 -->\n      <defs>\n       <path d=\"M 19.1875 8.296875 \nL 53.609375 8.296875 \nL 53.609375 0 \nL 7.328125 0 \nL 7.328125 8.296875 \nQ 12.9375 14.109375 22.625 23.890625 \nQ 32.328125 33.6875 34.8125 36.53125 \nQ 39.546875 41.84375 41.421875 45.53125 \nQ 43.3125 49.21875 43.3125 52.78125 \nQ 43.3125 58.59375 39.234375 62.25 \nQ 35.15625 65.921875 28.609375 65.921875 \nQ 23.96875 65.921875 18.8125 64.3125 \nQ 13.671875 62.703125 7.8125 59.421875 \nL 7.8125 69.390625 \nQ 13.765625 71.78125 18.9375 73 \nQ 24.125 74.21875 28.421875 74.21875 \nQ 39.75 74.21875 46.484375 68.546875 \nQ 53.21875 62.890625 53.21875 53.421875 \nQ 53.21875 48.921875 51.53125 44.890625 \nQ 49.859375 40.875 45.40625 35.40625 \nQ 44.1875 33.984375 37.640625 27.21875 \nQ 31.109375 20.453125 19.1875 8.296875 \nz\n\" id=\"DejaVuSans-50\"/>\n      </defs>\n      <g transform=\"translate(48.621875 157.698438)scale(0.1 -0.1)\">\n       <use xlink:href=\"#DejaVuSans-50\"/>\n      </g>\n     </g>\n    </g>\n    <g id=\"xtick_2\">\n     <g id=\"line2d_3\">\n      <path clip-path=\"url(#p402da9e0d3)\" d=\"M 95.203125 143.1 \nL 95.203125 7.2 \n\" style=\"fill:none;stroke:#b0b0b0;stroke-linecap:square;stroke-width:0.8;\"/>\n     </g>\n     <g id=\"line2d_4\">\n      <g>\n       <use style=\"stroke:#000000;stroke-width:0.8;\" x=\"95.203125\" xlink:href=\"#mbe01a30fb6\" y=\"143.1\"/>\n      </g>\n     </g>\n     <g id=\"text_2\">\n      <!-- 4 -->\n      <defs>\n       <path d=\"M 37.796875 64.3125 \nL 12.890625 25.390625 \nL 37.796875 25.390625 \nz\nM 35.203125 72.90625 \nL 47.609375 72.90625 \nL 47.609375 25.390625 \nL 58.015625 25.390625 \nL 58.015625 17.1875 \nL 47.609375 17.1875 \nL 47.609375 0 \nL 37.796875 0 \nL 37.796875 17.1875 \nL 4.890625 17.1875 \nL 4.890625 26.703125 \nz\n\" id=\"DejaVuSans-52\"/>\n      </defs>\n      <g transform=\"translate(92.021875 157.698438)scale(0.1 -0.1)\">\n       <use xlink:href=\"#DejaVuSans-52\"/>\n      </g>\n     </g>\n    </g>\n    <g id=\"xtick_3\">\n     <g id=\"line2d_5\">\n      <path clip-path=\"url(#p402da9e0d3)\" d=\"M 138.603125 143.1 \nL 138.603125 7.2 \n\" style=\"fill:none;stroke:#b0b0b0;stroke-linecap:square;stroke-width:0.8;\"/>\n     </g>\n     <g id=\"line2d_6\">\n      <g>\n       <use style=\"stroke:#000000;stroke-width:0.8;\" x=\"138.603125\" xlink:href=\"#mbe01a30fb6\" y=\"143.1\"/>\n      </g>\n     </g>\n     <g id=\"text_3\">\n      <!-- 6 -->\n      <defs>\n       <path d=\"M 33.015625 40.375 \nQ 26.375 40.375 22.484375 35.828125 \nQ 18.609375 31.296875 18.609375 23.390625 \nQ 18.609375 15.53125 22.484375 10.953125 \nQ 26.375 6.390625 33.015625 6.390625 \nQ 39.65625 6.390625 43.53125 10.953125 \nQ 47.40625 15.53125 47.40625 23.390625 \nQ 47.40625 31.296875 43.53125 35.828125 \nQ 39.65625 40.375 33.015625 40.375 \nz\nM 52.59375 71.296875 \nL 52.59375 62.3125 \nQ 48.875 64.0625 45.09375 64.984375 \nQ 41.3125 65.921875 37.59375 65.921875 \nQ 27.828125 65.921875 22.671875 59.328125 \nQ 17.53125 52.734375 16.796875 39.40625 \nQ 19.671875 43.65625 24.015625 45.921875 \nQ 28.375 48.1875 33.59375 48.1875 \nQ 44.578125 48.1875 50.953125 41.515625 \nQ 57.328125 34.859375 57.328125 23.390625 \nQ 57.328125 12.15625 50.6875 5.359375 \nQ 44.046875 -1.421875 33.015625 -1.421875 \nQ 20.359375 -1.421875 13.671875 8.265625 \nQ 6.984375 17.96875 6.984375 36.375 \nQ 6.984375 53.65625 15.1875 63.9375 \nQ 23.390625 74.21875 37.203125 74.21875 \nQ 40.921875 74.21875 44.703125 73.484375 \nQ 48.484375 72.75 52.59375 71.296875 \nz\n\" id=\"DejaVuSans-54\"/>\n      </defs>\n      <g transform=\"translate(135.421875 157.698438)scale(0.1 -0.1)\">\n       <use xlink:href=\"#DejaVuSans-54\"/>\n      </g>\n     </g>\n    </g>\n    <g id=\"xtick_4\">\n     <g id=\"line2d_7\">\n      <path clip-path=\"url(#p402da9e0d3)\" d=\"M 182.003125 143.1 \nL 182.003125 7.2 \n\" style=\"fill:none;stroke:#b0b0b0;stroke-linecap:square;stroke-width:0.8;\"/>\n     </g>\n     <g id=\"line2d_8\">\n      <g>\n       <use style=\"stroke:#000000;stroke-width:0.8;\" x=\"182.003125\" xlink:href=\"#mbe01a30fb6\" y=\"143.1\"/>\n      </g>\n     </g>\n     <g id=\"text_4\">\n      <!-- 8 -->\n      <defs>\n       <path d=\"M 31.78125 34.625 \nQ 24.75 34.625 20.71875 30.859375 \nQ 16.703125 27.09375 16.703125 20.515625 \nQ 16.703125 13.921875 20.71875 10.15625 \nQ 24.75 6.390625 31.78125 6.390625 \nQ 38.8125 6.390625 42.859375 10.171875 \nQ 46.921875 13.96875 46.921875 20.515625 \nQ 46.921875 27.09375 42.890625 30.859375 \nQ 38.875 34.625 31.78125 34.625 \nz\nM 21.921875 38.8125 \nQ 15.578125 40.375 12.03125 44.71875 \nQ 8.5 49.078125 8.5 55.328125 \nQ 8.5 64.0625 14.71875 69.140625 \nQ 20.953125 74.21875 31.78125 74.21875 \nQ 42.671875 74.21875 48.875 69.140625 \nQ 55.078125 64.0625 55.078125 55.328125 \nQ 55.078125 49.078125 51.53125 44.71875 \nQ 48 40.375 41.703125 38.8125 \nQ 48.828125 37.15625 52.796875 32.3125 \nQ 56.78125 27.484375 56.78125 20.515625 \nQ 56.78125 9.90625 50.3125 4.234375 \nQ 43.84375 -1.421875 31.78125 -1.421875 \nQ 19.734375 -1.421875 13.25 4.234375 \nQ 6.78125 9.90625 6.78125 20.515625 \nQ 6.78125 27.484375 10.78125 32.3125 \nQ 14.796875 37.15625 21.921875 38.8125 \nz\nM 18.3125 54.390625 \nQ 18.3125 48.734375 21.84375 45.5625 \nQ 25.390625 42.390625 31.78125 42.390625 \nQ 38.140625 42.390625 41.71875 45.5625 \nQ 45.3125 48.734375 45.3125 54.390625 \nQ 45.3125 60.0625 41.71875 63.234375 \nQ 38.140625 66.40625 31.78125 66.40625 \nQ 25.390625 66.40625 21.84375 63.234375 \nQ 18.3125 60.0625 18.3125 54.390625 \nz\n\" id=\"DejaVuSans-56\"/>\n      </defs>\n      <g transform=\"translate(178.821875 157.698438)scale(0.1 -0.1)\">\n       <use xlink:href=\"#DejaVuSans-56\"/>\n      </g>\n     </g>\n    </g>\n    <g id=\"xtick_5\">\n     <g id=\"line2d_9\">\n      <path clip-path=\"url(#p402da9e0d3)\" d=\"M 225.403125 143.1 \nL 225.403125 7.2 \n\" style=\"fill:none;stroke:#b0b0b0;stroke-linecap:square;stroke-width:0.8;\"/>\n     </g>\n     <g id=\"line2d_10\">\n      <g>\n       <use style=\"stroke:#000000;stroke-width:0.8;\" x=\"225.403125\" xlink:href=\"#mbe01a30fb6\" y=\"143.1\"/>\n      </g>\n     </g>\n     <g id=\"text_5\">\n      <!-- 10 -->\n      <defs>\n       <path d=\"M 12.40625 8.296875 \nL 28.515625 8.296875 \nL 28.515625 63.921875 \nL 10.984375 60.40625 \nL 10.984375 69.390625 \nL 28.421875 72.90625 \nL 38.28125 72.90625 \nL 38.28125 8.296875 \nL 54.390625 8.296875 \nL 54.390625 0 \nL 12.40625 0 \nz\n\" id=\"DejaVuSans-49\"/>\n       <path d=\"M 31.78125 66.40625 \nQ 24.171875 66.40625 20.328125 58.90625 \nQ 16.5 51.421875 16.5 36.375 \nQ 16.5 21.390625 20.328125 13.890625 \nQ 24.171875 6.390625 31.78125 6.390625 \nQ 39.453125 6.390625 43.28125 13.890625 \nQ 47.125 21.390625 47.125 36.375 \nQ 47.125 51.421875 43.28125 58.90625 \nQ 39.453125 66.40625 31.78125 66.40625 \nz\nM 31.78125 74.21875 \nQ 44.046875 74.21875 50.515625 64.515625 \nQ 56.984375 54.828125 56.984375 36.375 \nQ 56.984375 17.96875 50.515625 8.265625 \nQ 44.046875 -1.421875 31.78125 -1.421875 \nQ 19.53125 -1.421875 13.0625 8.265625 \nQ 6.59375 17.96875 6.59375 36.375 \nQ 6.59375 54.828125 13.0625 64.515625 \nQ 19.53125 74.21875 31.78125 74.21875 \nz\n\" id=\"DejaVuSans-48\"/>\n      </defs>\n      <g transform=\"translate(219.040625 157.698438)scale(0.1 -0.1)\">\n       <use xlink:href=\"#DejaVuSans-49\"/>\n       <use x=\"63.623047\" xlink:href=\"#DejaVuSans-48\"/>\n      </g>\n     </g>\n    </g>\n    <g id=\"text_6\">\n     <!-- epoch -->\n     <defs>\n      <path d=\"M 56.203125 29.59375 \nL 56.203125 25.203125 \nL 14.890625 25.203125 \nQ 15.484375 15.921875 20.484375 11.0625 \nQ 25.484375 6.203125 34.421875 6.203125 \nQ 39.59375 6.203125 44.453125 7.46875 \nQ 49.3125 8.734375 54.109375 11.28125 \nL 54.109375 2.78125 \nQ 49.265625 0.734375 44.1875 -0.34375 \nQ 39.109375 -1.421875 33.890625 -1.421875 \nQ 20.796875 -1.421875 13.15625 6.1875 \nQ 5.515625 13.8125 5.515625 26.8125 \nQ 5.515625 40.234375 12.765625 48.109375 \nQ 20.015625 56 32.328125 56 \nQ 43.359375 56 49.78125 48.890625 \nQ 56.203125 41.796875 56.203125 29.59375 \nz\nM 47.21875 32.234375 \nQ 47.125 39.59375 43.09375 43.984375 \nQ 39.0625 48.390625 32.421875 48.390625 \nQ 24.90625 48.390625 20.390625 44.140625 \nQ 15.875 39.890625 15.1875 32.171875 \nz\n\" id=\"DejaVuSans-101\"/>\n      <path d=\"M 18.109375 8.203125 \nL 18.109375 -20.796875 \nL 9.078125 -20.796875 \nL 9.078125 54.6875 \nL 18.109375 54.6875 \nL 18.109375 46.390625 \nQ 20.953125 51.265625 25.265625 53.625 \nQ 29.59375 56 35.59375 56 \nQ 45.5625 56 51.78125 48.09375 \nQ 58.015625 40.1875 58.015625 27.296875 \nQ 58.015625 14.40625 51.78125 6.484375 \nQ 45.5625 -1.421875 35.59375 -1.421875 \nQ 29.59375 -1.421875 25.265625 0.953125 \nQ 20.953125 3.328125 18.109375 8.203125 \nz\nM 48.6875 27.296875 \nQ 48.6875 37.203125 44.609375 42.84375 \nQ 40.53125 48.484375 33.40625 48.484375 \nQ 26.265625 48.484375 22.1875 42.84375 \nQ 18.109375 37.203125 18.109375 27.296875 \nQ 18.109375 17.390625 22.1875 11.75 \nQ 26.265625 6.109375 33.40625 6.109375 \nQ 40.53125 6.109375 44.609375 11.75 \nQ 48.6875 17.390625 48.6875 27.296875 \nz\n\" id=\"DejaVuSans-112\"/>\n      <path d=\"M 30.609375 48.390625 \nQ 23.390625 48.390625 19.1875 42.75 \nQ 14.984375 37.109375 14.984375 27.296875 \nQ 14.984375 17.484375 19.15625 11.84375 \nQ 23.34375 6.203125 30.609375 6.203125 \nQ 37.796875 6.203125 41.984375 11.859375 \nQ 46.1875 17.53125 46.1875 27.296875 \nQ 46.1875 37.015625 41.984375 42.703125 \nQ 37.796875 48.390625 30.609375 48.390625 \nz\nM 30.609375 56 \nQ 42.328125 56 49.015625 48.375 \nQ 55.71875 40.765625 55.71875 27.296875 \nQ 55.71875 13.875 49.015625 6.21875 \nQ 42.328125 -1.421875 30.609375 -1.421875 \nQ 18.84375 -1.421875 12.171875 6.21875 \nQ 5.515625 13.875 5.515625 27.296875 \nQ 5.515625 40.765625 12.171875 48.375 \nQ 18.84375 56 30.609375 56 \nz\n\" id=\"DejaVuSans-111\"/>\n      <path d=\"M 48.78125 52.59375 \nL 48.78125 44.1875 \nQ 44.96875 46.296875 41.140625 47.34375 \nQ 37.3125 48.390625 33.40625 48.390625 \nQ 24.65625 48.390625 19.8125 42.84375 \nQ 14.984375 37.3125 14.984375 27.296875 \nQ 14.984375 17.28125 19.8125 11.734375 \nQ 24.65625 6.203125 33.40625 6.203125 \nQ 37.3125 6.203125 41.140625 7.25 \nQ 44.96875 8.296875 48.78125 10.40625 \nL 48.78125 2.09375 \nQ 45.015625 0.34375 40.984375 -0.53125 \nQ 36.96875 -1.421875 32.421875 -1.421875 \nQ 20.0625 -1.421875 12.78125 6.34375 \nQ 5.515625 14.109375 5.515625 27.296875 \nQ 5.515625 40.671875 12.859375 48.328125 \nQ 20.21875 56 33.015625 56 \nQ 37.15625 56 41.109375 55.140625 \nQ 45.0625 54.296875 48.78125 52.59375 \nz\n\" id=\"DejaVuSans-99\"/>\n      <path d=\"M 54.890625 33.015625 \nL 54.890625 0 \nL 45.90625 0 \nL 45.90625 32.71875 \nQ 45.90625 40.484375 42.875 44.328125 \nQ 39.84375 48.1875 33.796875 48.1875 \nQ 26.515625 48.1875 22.3125 43.546875 \nQ 18.109375 38.921875 18.109375 30.90625 \nL 18.109375 0 \nL 9.078125 0 \nL 9.078125 75.984375 \nL 18.109375 75.984375 \nL 18.109375 46.1875 \nQ 21.34375 51.125 25.703125 53.5625 \nQ 30.078125 56 35.796875 56 \nQ 45.21875 56 50.046875 50.171875 \nQ 54.890625 44.34375 54.890625 33.015625 \nz\n\" id=\"DejaVuSans-104\"/>\n     </defs>\n     <g transform=\"translate(112.525 171.376563)scale(0.1 -0.1)\">\n      <use xlink:href=\"#DejaVuSans-101\"/>\n      <use x=\"61.523438\" xlink:href=\"#DejaVuSans-112\"/>\n      <use x=\"125\" xlink:href=\"#DejaVuSans-111\"/>\n      <use x=\"186.181641\" xlink:href=\"#DejaVuSans-99\"/>\n      <use x=\"241.162109\" xlink:href=\"#DejaVuSans-104\"/>\n     </g>\n    </g>\n   </g>\n   <g id=\"matplotlib.axis_2\">\n    <g id=\"ytick_1\">\n     <g id=\"line2d_11\">\n      <path clip-path=\"url(#p402da9e0d3)\" d=\"M 30.103125 120.45 \nL 225.403125 120.45 \n\" style=\"fill:none;stroke:#b0b0b0;stroke-linecap:square;stroke-width:0.8;\"/>\n     </g>\n     <g id=\"line2d_12\">\n      <defs>\n       <path d=\"M 0 0 \nL -3.5 0 \n\" id=\"m628d22f8a9\" style=\"stroke:#000000;stroke-width:0.8;\"/>\n      </defs>\n      <g>\n       <use style=\"stroke:#000000;stroke-width:0.8;\" x=\"30.103125\" xlink:href=\"#m628d22f8a9\" y=\"120.45\"/>\n      </g>\n     </g>\n     <g id=\"text_7\">\n      <!-- 0.4 -->\n      <defs>\n       <path d=\"M 10.6875 12.40625 \nL 21 12.40625 \nL 21 0 \nL 10.6875 0 \nz\n\" id=\"DejaVuSans-46\"/>\n      </defs>\n      <g transform=\"translate(7.2 124.249219)scale(0.1 -0.1)\">\n       <use xlink:href=\"#DejaVuSans-48\"/>\n       <use x=\"63.623047\" xlink:href=\"#DejaVuSans-46\"/>\n       <use x=\"95.410156\" xlink:href=\"#DejaVuSans-52\"/>\n      </g>\n     </g>\n    </g>\n    <g id=\"ytick_2\">\n     <g id=\"line2d_13\">\n      <path clip-path=\"url(#p402da9e0d3)\" d=\"M 30.103125 75.15 \nL 225.403125 75.15 \n\" style=\"fill:none;stroke:#b0b0b0;stroke-linecap:square;stroke-width:0.8;\"/>\n     </g>\n     <g id=\"line2d_14\">\n      <g>\n       <use style=\"stroke:#000000;stroke-width:0.8;\" x=\"30.103125\" xlink:href=\"#m628d22f8a9\" y=\"75.15\"/>\n      </g>\n     </g>\n     <g id=\"text_8\">\n      <!-- 0.6 -->\n      <g transform=\"translate(7.2 78.949219)scale(0.1 -0.1)\">\n       <use xlink:href=\"#DejaVuSans-48\"/>\n       <use x=\"63.623047\" xlink:href=\"#DejaVuSans-46\"/>\n       <use x=\"95.410156\" xlink:href=\"#DejaVuSans-54\"/>\n      </g>\n     </g>\n    </g>\n    <g id=\"ytick_3\">\n     <g id=\"line2d_15\">\n      <path clip-path=\"url(#p402da9e0d3)\" d=\"M 30.103125 29.85 \nL 225.403125 29.85 \n\" style=\"fill:none;stroke:#b0b0b0;stroke-linecap:square;stroke-width:0.8;\"/>\n     </g>\n     <g id=\"line2d_16\">\n      <g>\n       <use style=\"stroke:#000000;stroke-width:0.8;\" x=\"30.103125\" xlink:href=\"#m628d22f8a9\" y=\"29.85\"/>\n      </g>\n     </g>\n     <g id=\"text_9\">\n      <!-- 0.8 -->\n      <g transform=\"translate(7.2 33.649219)scale(0.1 -0.1)\">\n       <use xlink:href=\"#DejaVuSans-48\"/>\n       <use x=\"63.623047\" xlink:href=\"#DejaVuSans-46\"/>\n       <use x=\"95.410156\" xlink:href=\"#DejaVuSans-56\"/>\n      </g>\n     </g>\n    </g>\n   </g>\n   <g id=\"line2d_17\">\n    <path clip-path=\"url(#p402da9e0d3)\" d=\"M 30.103125 33.155245 \nL 51.803125 81.958717 \nL 73.503125 92.108611 \nL 95.203125 97.745568 \nL 116.903125 101.178482 \nL 138.603125 103.723183 \nL 160.303125 105.870758 \nL 182.003125 107.261364 \nL 203.703125 108.716441 \nL 225.403125 109.719923 \n\" style=\"fill:none;stroke:#1f77b4;stroke-linecap:square;stroke-width:1.5;\"/>\n   </g>\n   <g id=\"line2d_18\">\n    <path clip-path=\"url(#p402da9e0d3)\" d=\"M 30.103125 41.390175 \nL 51.803125 27.03385 \nL 73.503125 24.198825 \nL 95.203125 22.620875 \nL 116.903125 21.73375 \nL 138.603125 20.7749 \nL 160.303125 20.0199 \nL 182.003125 19.72545 \nL 203.703125 19.3253 \nL 225.403125 18.9629 \n\" style=\"fill:none;stroke:#bf00bf;stroke-dasharray:5.55,2.4;stroke-dashoffset:0;stroke-width:1.5;\"/>\n   </g>\n   <g id=\"line2d_19\">\n    <path clip-path=\"url(#p402da9e0d3)\" d=\"M 30.103125 34.53855 \nL 51.803125 29.3517 \nL 73.503125 29.2158 \nL 95.203125 26.679 \nL 116.903125 24.11955 \nL 138.603125 23.7798 \nL 160.303125 23.57595 \nL 182.003125 22.80585 \nL 203.703125 22.8738 \nL 225.403125 22.3302 \n\" style=\"fill:none;stroke:#008000;stroke-dasharray:9.6,2.4,1.5,2.4;stroke-dashoffset:0;stroke-width:1.5;\"/>\n   </g>\n   <g id=\"patch_3\">\n    <path d=\"M 30.103125 143.1 \nL 30.103125 7.2 \n\" style=\"fill:none;stroke:#000000;stroke-linecap:square;stroke-linejoin:miter;stroke-width:0.8;\"/>\n   </g>\n   <g id=\"patch_4\">\n    <path d=\"M 225.403125 143.1 \nL 225.403125 7.2 \n\" style=\"fill:none;stroke:#000000;stroke-linecap:square;stroke-linejoin:miter;stroke-width:0.8;\"/>\n   </g>\n   <g id=\"patch_5\">\n    <path d=\"M 30.103125 143.1 \nL 225.403125 143.1 \n\" style=\"fill:none;stroke:#000000;stroke-linecap:square;stroke-linejoin:miter;stroke-width:0.8;\"/>\n   </g>\n   <g id=\"patch_6\">\n    <path d=\"M 30.103125 7.2 \nL 225.403125 7.2 \n\" style=\"fill:none;stroke:#000000;stroke-linecap:square;stroke-linejoin:miter;stroke-width:0.8;\"/>\n   </g>\n   <g id=\"legend_1\">\n    <g id=\"patch_7\">\n     <path d=\"M 140.634375 98.667187 \nL 218.403125 98.667187 \nQ 220.403125 98.667187 220.403125 96.667187 \nL 220.403125 53.632812 \nQ 220.403125 51.632812 218.403125 51.632812 \nL 140.634375 51.632812 \nQ 138.634375 51.632812 138.634375 53.632812 \nL 138.634375 96.667187 \nQ 138.634375 98.667187 140.634375 98.667187 \nz\n\" style=\"fill:#ffffff;opacity:0.8;stroke:#cccccc;stroke-linejoin:miter;\"/>\n    </g>\n    <g id=\"line2d_20\">\n     <path d=\"M 142.634375 59.73125 \nL 162.634375 59.73125 \n\" style=\"fill:none;stroke:#1f77b4;stroke-linecap:square;stroke-width:1.5;\"/>\n    </g>\n    <g id=\"line2d_21\"/>\n    <g id=\"text_10\">\n     <!-- train loss -->\n     <defs>\n      <path d=\"M 18.3125 70.21875 \nL 18.3125 54.6875 \nL 36.8125 54.6875 \nL 36.8125 47.703125 \nL 18.3125 47.703125 \nL 18.3125 18.015625 \nQ 18.3125 11.328125 20.140625 9.421875 \nQ 21.96875 7.515625 27.59375 7.515625 \nL 36.8125 7.515625 \nL 36.8125 0 \nL 27.59375 0 \nQ 17.1875 0 13.234375 3.875 \nQ 9.28125 7.765625 9.28125 18.015625 \nL 9.28125 47.703125 \nL 2.6875 47.703125 \nL 2.6875 54.6875 \nL 9.28125 54.6875 \nL 9.28125 70.21875 \nz\n\" id=\"DejaVuSans-116\"/>\n      <path d=\"M 41.109375 46.296875 \nQ 39.59375 47.171875 37.8125 47.578125 \nQ 36.03125 48 33.890625 48 \nQ 26.265625 48 22.1875 43.046875 \nQ 18.109375 38.09375 18.109375 28.8125 \nL 18.109375 0 \nL 9.078125 0 \nL 9.078125 54.6875 \nL 18.109375 54.6875 \nL 18.109375 46.1875 \nQ 20.953125 51.171875 25.484375 53.578125 \nQ 30.03125 56 36.53125 56 \nQ 37.453125 56 38.578125 55.875 \nQ 39.703125 55.765625 41.0625 55.515625 \nz\n\" id=\"DejaVuSans-114\"/>\n      <path d=\"M 34.28125 27.484375 \nQ 23.390625 27.484375 19.1875 25 \nQ 14.984375 22.515625 14.984375 16.5 \nQ 14.984375 11.71875 18.140625 8.90625 \nQ 21.296875 6.109375 26.703125 6.109375 \nQ 34.1875 6.109375 38.703125 11.40625 \nQ 43.21875 16.703125 43.21875 25.484375 \nL 43.21875 27.484375 \nz\nM 52.203125 31.203125 \nL 52.203125 0 \nL 43.21875 0 \nL 43.21875 8.296875 \nQ 40.140625 3.328125 35.546875 0.953125 \nQ 30.953125 -1.421875 24.3125 -1.421875 \nQ 15.921875 -1.421875 10.953125 3.296875 \nQ 6 8.015625 6 15.921875 \nQ 6 25.140625 12.171875 29.828125 \nQ 18.359375 34.515625 30.609375 34.515625 \nL 43.21875 34.515625 \nL 43.21875 35.40625 \nQ 43.21875 41.609375 39.140625 45 \nQ 35.0625 48.390625 27.6875 48.390625 \nQ 23 48.390625 18.546875 47.265625 \nQ 14.109375 46.140625 10.015625 43.890625 \nL 10.015625 52.203125 \nQ 14.9375 54.109375 19.578125 55.046875 \nQ 24.21875 56 28.609375 56 \nQ 40.484375 56 46.34375 49.84375 \nQ 52.203125 43.703125 52.203125 31.203125 \nz\n\" id=\"DejaVuSans-97\"/>\n      <path d=\"M 9.421875 54.6875 \nL 18.40625 54.6875 \nL 18.40625 0 \nL 9.421875 0 \nz\nM 9.421875 75.984375 \nL 18.40625 75.984375 \nL 18.40625 64.59375 \nL 9.421875 64.59375 \nz\n\" id=\"DejaVuSans-105\"/>\n      <path d=\"M 54.890625 33.015625 \nL 54.890625 0 \nL 45.90625 0 \nL 45.90625 32.71875 \nQ 45.90625 40.484375 42.875 44.328125 \nQ 39.84375 48.1875 33.796875 48.1875 \nQ 26.515625 48.1875 22.3125 43.546875 \nQ 18.109375 38.921875 18.109375 30.90625 \nL 18.109375 0 \nL 9.078125 0 \nL 9.078125 54.6875 \nL 18.109375 54.6875 \nL 18.109375 46.1875 \nQ 21.34375 51.125 25.703125 53.5625 \nQ 30.078125 56 35.796875 56 \nQ 45.21875 56 50.046875 50.171875 \nQ 54.890625 44.34375 54.890625 33.015625 \nz\n\" id=\"DejaVuSans-110\"/>\n      <path id=\"DejaVuSans-32\"/>\n      <path d=\"M 9.421875 75.984375 \nL 18.40625 75.984375 \nL 18.40625 0 \nL 9.421875 0 \nz\n\" id=\"DejaVuSans-108\"/>\n      <path d=\"M 44.28125 53.078125 \nL 44.28125 44.578125 \nQ 40.484375 46.53125 36.375 47.5 \nQ 32.28125 48.484375 27.875 48.484375 \nQ 21.1875 48.484375 17.84375 46.4375 \nQ 14.5 44.390625 14.5 40.28125 \nQ 14.5 37.15625 16.890625 35.375 \nQ 19.28125 33.59375 26.515625 31.984375 \nL 29.59375 31.296875 \nQ 39.15625 29.25 43.1875 25.515625 \nQ 47.21875 21.78125 47.21875 15.09375 \nQ 47.21875 7.46875 41.1875 3.015625 \nQ 35.15625 -1.421875 24.609375 -1.421875 \nQ 20.21875 -1.421875 15.453125 -0.5625 \nQ 10.6875 0.296875 5.421875 2 \nL 5.421875 11.28125 \nQ 10.40625 8.6875 15.234375 7.390625 \nQ 20.0625 6.109375 24.8125 6.109375 \nQ 31.15625 6.109375 34.5625 8.28125 \nQ 37.984375 10.453125 37.984375 14.40625 \nQ 37.984375 18.0625 35.515625 20.015625 \nQ 33.0625 21.96875 24.703125 23.78125 \nL 21.578125 24.515625 \nQ 13.234375 26.265625 9.515625 29.90625 \nQ 5.8125 33.546875 5.8125 39.890625 \nQ 5.8125 47.609375 11.28125 51.796875 \nQ 16.75 56 26.8125 56 \nQ 31.78125 56 36.171875 55.265625 \nQ 40.578125 54.546875 44.28125 53.078125 \nz\n\" id=\"DejaVuSans-115\"/>\n     </defs>\n     <g transform=\"translate(170.634375 63.23125)scale(0.1 -0.1)\">\n      <use xlink:href=\"#DejaVuSans-116\"/>\n      <use x=\"39.208984\" xlink:href=\"#DejaVuSans-114\"/>\n      <use x=\"80.322266\" xlink:href=\"#DejaVuSans-97\"/>\n      <use x=\"141.601562\" xlink:href=\"#DejaVuSans-105\"/>\n      <use x=\"169.384766\" xlink:href=\"#DejaVuSans-110\"/>\n      <use x=\"232.763672\" xlink:href=\"#DejaVuSans-32\"/>\n      <use x=\"264.550781\" xlink:href=\"#DejaVuSans-108\"/>\n      <use x=\"292.333984\" xlink:href=\"#DejaVuSans-111\"/>\n      <use x=\"353.515625\" xlink:href=\"#DejaVuSans-115\"/>\n      <use x=\"405.615234\" xlink:href=\"#DejaVuSans-115\"/>\n     </g>\n    </g>\n    <g id=\"line2d_22\">\n     <path d=\"M 142.634375 74.409375 \nL 162.634375 74.409375 \n\" style=\"fill:none;stroke:#bf00bf;stroke-dasharray:5.55,2.4;stroke-dashoffset:0;stroke-width:1.5;\"/>\n    </g>\n    <g id=\"line2d_23\"/>\n    <g id=\"text_11\">\n     <!-- train acc -->\n     <g transform=\"translate(170.634375 77.909375)scale(0.1 -0.1)\">\n      <use xlink:href=\"#DejaVuSans-116\"/>\n      <use x=\"39.208984\" xlink:href=\"#DejaVuSans-114\"/>\n      <use x=\"80.322266\" xlink:href=\"#DejaVuSans-97\"/>\n      <use x=\"141.601562\" xlink:href=\"#DejaVuSans-105\"/>\n      <use x=\"169.384766\" xlink:href=\"#DejaVuSans-110\"/>\n      <use x=\"232.763672\" xlink:href=\"#DejaVuSans-32\"/>\n      <use x=\"264.550781\" xlink:href=\"#DejaVuSans-97\"/>\n      <use x=\"325.830078\" xlink:href=\"#DejaVuSans-99\"/>\n      <use x=\"380.810547\" xlink:href=\"#DejaVuSans-99\"/>\n     </g>\n    </g>\n    <g id=\"line2d_24\">\n     <path d=\"M 142.634375 89.0875 \nL 162.634375 89.0875 \n\" style=\"fill:none;stroke:#008000;stroke-dasharray:9.6,2.4,1.5,2.4;stroke-dashoffset:0;stroke-width:1.5;\"/>\n    </g>\n    <g id=\"line2d_25\"/>\n    <g id=\"text_12\">\n     <!-- test acc -->\n     <g transform=\"translate(170.634375 92.5875)scale(0.1 -0.1)\">\n      <use xlink:href=\"#DejaVuSans-116\"/>\n      <use x=\"39.208984\" xlink:href=\"#DejaVuSans-101\"/>\n      <use x=\"100.732422\" xlink:href=\"#DejaVuSans-115\"/>\n      <use x=\"152.832031\" xlink:href=\"#DejaVuSans-116\"/>\n      <use x=\"192.041016\" xlink:href=\"#DejaVuSans-32\"/>\n      <use x=\"223.828125\" xlink:href=\"#DejaVuSans-97\"/>\n      <use x=\"285.107422\" xlink:href=\"#DejaVuSans-99\"/>\n      <use x=\"340.087891\" xlink:href=\"#DejaVuSans-99\"/>\n     </g>\n    </g>\n   </g>\n  </g>\n </g>\n <defs>\n  <clipPath id=\"p402da9e0d3\">\n   <rect height=\"135.9\" width=\"195.3\" x=\"30.103125\" y=\"7.2\"/>\n  </clipPath>\n </defs>\n</svg>\n",
            "text/plain": [
              "<Figure size 252x180 with 1 Axes>"
            ]
          },
          "metadata": {
            "needs_background": "light"
          },
          "output_type": "display_data"
        }
      ],
      "source": [
        "num_epochs = 10\n",
        "train(net, train_iter, test_iter, cross_entropy, num_epochs, updater)"
      ]
    },
    {
      "cell_type": "code",
      "execution_count": null,
      "metadata": {
        "colab": {
          "base_uri": "https://localhost:8080/",
          "height": 198
        },
        "id": "hkU0DahPepAA",
        "outputId": "a36a44cf-ae41-4fb7-b35f-07a8850cd45d"
      },
      "outputs": [
        {
          "data": {
            "image/svg+xml": "<?xml version=\"1.0\" encoding=\"utf-8\" standalone=\"no\"?>\n<!DOCTYPE svg PUBLIC \"-//W3C//DTD SVG 1.1//EN\"\n  \"http://www.w3.org/Graphics/SVG/1.1/DTD/svg11.dtd\">\n<!-- Created with matplotlib (https://matplotlib.org/) -->\n<svg height=\"118.198357pt\" version=\"1.1\" viewBox=\"0 0 520.1 118.198357\" width=\"520.1pt\" xmlns=\"http://www.w3.org/2000/svg\" xmlns:xlink=\"http://www.w3.org/1999/xlink\">\n <defs>\n  <style type=\"text/css\">\n*{stroke-linecap:butt;stroke-linejoin:round;}\n  </style>\n </defs>\n <g id=\"figure_1\">\n  <g id=\"patch_1\">\n   <path d=\"M 0 118.198357 \nL 520.1 118.198357 \nL 520.1 0 \nL 0 0 \nz\n\" style=\"fill:none;\"/>\n  </g>\n  <g id=\"axes_1\">\n   <g id=\"patch_2\">\n    <path d=\"M 10.7 107.498357 \nL 82.442857 107.498357 \nL 82.442857 35.7555 \nL 10.7 35.7555 \nz\n\" style=\"fill:#ffffff;\"/>\n   </g>\n   <g clip-path=\"url(#pd72efacc08)\">\n    <image height=\"72\" id=\"imagea71b416ebe\" transform=\"scale(1 -1)translate(0 -72)\" width=\"72\" x=\"10.7\" xlink:href=\"data:image/png;base64,\niVBORw0KGgoAAAANSUhEUgAAAEgAAABICAYAAABV7bNHAAAABHNCSVQICAgIfAhkiAAAD4RJREFUeJztm2uPZMlRhp+IzHNOVd9mumd2xt7FYFuWvVg2/oyQkEBI/AH+AP8T8QUJCfEBJJDBCK/W4xnveqZ3Ll1dVeeSGcGHzLr0bO/Wgm9j1CGVzulT55ZvRrzxRmS1/JX8jXNnX2j6u36Bd93uADpgdwAdsDuADtgdQAfsDqADdgfQAbsD6IDdAXTA7gA6YHcAHbA7gA7YHUAHLH7lMzUgKmVfCq4SFLRiLLJ37v8Bd7OydQcz3B1yLodyLscPmDQt0sTyLvvvsLn35v4H3sFTwlMCDgGkAWki0rboew+wsyNsFpnOWiwK/XlgPBU8CLkDV/BYtwoeyvbWwWze00EnkFy2zbWjE8xfZWYvRrSfCE+eY6/fFKAsfyE405//kMsfdFgDeVaeLwnCVJ+TAAPNIKm8gNjufSSXc85/vEB//BGe85cDJCGgXQfzGeP79+kfdYwnyupRAWT9QeLo8ZKuSTw+XtGFxEkzcK9Z04hxFtcchfHWe2dXDCG78mI84dV4xKvhiCeX50zrhuZpy+nHc7qrGfcWPbJcFjy/CKC24fJPOk7++lPudT3fOX3BWex5MZ7w2XDMaJHF2DHmQD9F+rHBXTArHzfFsmB9RNMJ5z/tkJyJEgtGeu8MuXeGB4W2waPibWSaRaxVrt9vGe4LeQ7DfccakKNMGzNBnWSKErimK/vivJ7mNFoGpDgqjnkJRRVH6/SNFolizOPE8XxgrU7/ILAcI8N9QfJDZu/fAwGvYa5DRrIj2ZDJyPPI6mvOD89ectEu+fb8Bafacy+uuN+ckky5SnMGC/S54XrqyKasU8NkSsqBMQXWTcN0dIycHENKRD09haAMP/omlz/sSHMYLhw7MrwxZJbRYDTtNTFmRJwTNUScoGXQ2ZTL62PMhGkK5CngLvioYAICBN+LK9BotLNECMbF8YpHRwtaTXz7/DPMBXukpD9Wphx41c9ZpsDDkyUfnj3HEH7y5hGX18f0Q8O4mIPAn374n/zt43/gWEYuQs9MnMmh90BGMBcywuSBpbdMHvl4fMhlOmWVW16nIy6HY/7t/e8x/cEDNBmRtkFiZDiPrL7u5GOje7zi/smKo2bivFuhewMzF5IFkivLqWU9NWQTxjGSs5L7CL0iWQi9ohlcwIMXoKh/N05/FJDG6JqJNAtEzZw2A60mzmLPeVzdCKMfzH/OX85fAvD39y/4j/4Dno+n/GTxGHPhz87/m+81b2hFOJJAI4F8CylPjEze07szk4lnoWdpHZfTKVEy/3rk5HnEsxHtDx/jQVg+CqSLCWmMcYi8mE7BhY/9QY19gS2xlpH6pJAEMalbiJMguZBf2QqujgfZXIY42CRkwIPyyk5ZLGeE4DRNIqpx1E6cdT1RrYan8XQ452fjJ6gYl9Mp17njOnfMwoS58Hw645/69wlizGRC2WUvQ+m9Ides0Uhi8sgvpnNepmMGi1znjsvhhNALYchgTrz+oyNchfVjOH3vGnfh+vIYWSthrTRL2RsshQfqQDWX41vM9jI91Awm4CJ4qN97+WgEyQoKvgi4tEzqDE0Jx1ezzKfzEtIhZlSdn8aH/Ev3AUGch/MlZ+0agFkoKfnT4Yw36bsVgJtkPnlgMc2YXOk0cxwHAJapY7BAssBogTfjHB1Ah4QkI4be8eCEXlktZ7iDDIoOik41BVulj40HbVK3le+24PgeSLJL8R74HEAefAvg9l4Ikh1c8KRYNkQLkF5DZUlLVGMRu3qZkKw8aLTAOkwEcbS+bMmUhRauU8lis5BYN832mk1SuTm5AlGJJ//6DIIShq/xcjXHI1jVMpoKQAC5A2vqgKoXiRVttQVoj2MQsNYLOAIefet5W9CaEgIyKTrKjsTrRtS3+tMdpjEy9A0isOpbQjBSCkzrBneYnw6cn6w284PDjZSepoC50DSZWTsh4sRgqDjH7cjXj66gXfPkyJnO2kIZ6ekzEGF+POfs6JzUCeOZkGY1tGwvVOIOnEIkUoTp/rENQAq5rZ4SgOi4+A0PI27Us0Dan769fXHcBYGiWcZQPGNSUMeHgF4HxGENhLCnmoGhb5j6WLJpFjAht8Y0C6g4scmEYAQ1VIxWM95AngXEvApFd+RqydHTDusi4/2GNKsKuZGtN+VWQMECRc7XwVqoynUDZNiNUbyoWVJxq31v81hvkHeuJV4BdvCkBdRNUtgMUhyio9GKyGu1hKhAzoqI36h8dhNS4lvbTNumG+ftZ+ft+bJXaqRffIpefoY2De2Dc7xrsbM5w0VXgJopFqWA0cq2rLAAuROsLSHooYRTeaoguXiijtVTxLce5kEKJYUqAzaAGkiqOsrLfbb8Vj8anLZNTEBKBThR3wIUgiECvpc6Q2uoGk2bOJ4VhT+lwJSLbhstMFqsHFlQ2pUalrE+IynhyxmSDQ1K7ALeKJIdj4JFQZPgKoWrgqDZyfMSZ9bs1PJ2Imq6L25QPc8dvMy6VcDK9+wIZHsNiAuO74HkqDqiVkUoiHitRaUCU0F/25vYAZe90EQ2ZbRIMi3ZuiaTeONqdzxnfLHAVytktaJ9MytPiKGGleCbfS1Vs7WR6WJG7pTpWBlPFGtgOqlFbCiEvQFI6uA3CYDWcZOtgPR9sKjeJgUIaQxRJ8aMqtF1TqxclrMW3B1S2lXJ2lhpEmTBciAnZejbCp4j4qyAF+GYlANxKTTXuXCQhICbg+/aDdb3Zb8WiIdMmpbu4j7SttiDM8YHc/JMWT6OTMelfstdmXnJ1SOschOgIhgOG+7aRIVJ4aDooI5EIzSGqBGjlXQeMqGCvxpaxiGWMqdORvE0w6p08CyFyzZVfGdINJgCy6ElpUAcIPRVKLr9Gn7c4QbjhJujVysaEWJXRpvmynSkxGvBI6Sjkt1gp5PEQSfBNxnTSsvJjeI9W4/aefs0BaYpEILRxFwK4RqSsiH26h2ijlrFxDcPrGSv9Xt1olqhjAnCmx4xI97aX7ktaKH47lshCaXBlN9clYba1RXyaUBEOGpbUEFOT8jnp+Tjhlcfzll9rZJ8V67XQQipACEmVURK7ScJWaySuWwHP64jjAqNk+YTon6jFyZaXETr4E32OFAdQglVjYW4YyzlzZAcXzn87Bk+Tf+LjuIhs1xmPKWdjKkhquNEcEfHI2I/Q1PJhh53onKj1EsHZEew5d4C5jf1URYkKS6Gmd6ou2A3jyIbntkTolJEKDVfqBZPg/KYkMCWK7Avaph9WVvyxjS95WmbuHjreu8H/M0VrHrO/z1w8mxG/6DhzTdDUegtpGMvcmAq/CBZKmBOXAmugSQgJ3UwStVIYElw1ZrJKiAUz9mIwFxBcXUkGNrYVijGmJmmyCcv7mGryAeLHdi/Hg8S3far3SqJ7IHk00h+XTuLl5cE4OzD79CfP2S4L6QTZ7qXkUlprkCr7tEEIIXMBfKsaBzVvd7ShnwFJFgJH5VtdlI1Yqg0svHWbRZ0uibRxEy/buFFR3cttItpm7R+NYA2nOSG2w6kr+KBsh6YvTQkVQHaluaaBzBxdBKkygDZ1H656JftY5VtybMl3iKattwjVDVym7res5yVZqE0CwjrHS//6h60AcPzVincalpqqE1SsE+fc+8fR5jPuPrRY958u4Tb8MCw1mleK+3VTkG7QBpKwRmCFW+ZgSeBSYsniSGxgNHETAylHRzU2CbrDQ3VUNyYXTecfeTMP8s0v7zaNtp+fST9ZbY/dUX/Y32PffIp0rTMvnHO6tGs9I20iEWk6CTxXY0nudRjrlJXngy3UFS67SVZKa3gTUu4fA68YhK6K6N7NSLrYXv8twOQO+xnmQoSgOdM8+w1F9xn/bAlnQRGKBrqaJfdtp40KtkhNEYzy6TgpE0GbG1bgJoL2UpxjWnZf+uV3EsvySZBe6F7PRIvr/H1envebwagW7TSditSsp1Qws0y+aMnhJ894+xb3+D6g8dYrfI3AElt2rkAo+IuhPnE0WxgagJ9XS1R2Yk+B8xKo03qwsLuVaQu+YB7KMXtWmherOD5Z9hq1wv/7XjQbbZPWJZxy8h6oL1ycldquDwrA1UEMiXMTHDzbbEpQIi2LYY3vLKZos3qi1kl6c8VtWWrWZCc8XGEveriNwPQoSzmeVv47p9vr9/w8J+PSWczXn7/iNff97o66luFTRZElJwCY4pENU7mAyJOP0WmKaJaNI6q0QRjFhODGsvQYqE802qb1q3UZvOhZFYbhrKC+xsF6KvY22ULRb3qx0+Js47uG98tLdvoSKjisSptz8UBrXLMvJnq+pyQUrhx26BGE3IJwVp3FaEuda4Ez2V5ipS3a/Ib+90BtG97I/KUoIfu5cTR047cQTpxclf7RxlAsFqsbghZZRd2+w68GloWfYeZYlkL/dWVEndhqg0yvsDpf7cAbUay98sRH0d8SsyevOZhe8F4Fnj1XcVa33YaxcBGJcXSzsouaCXeDUjmgriwXHVMi7Z0IedlJTc2ma5Jpc06BbyWNbfZu+FB1UpfqnCUDCPN1YSroJOWcqN2I/d71kkCr6+PEHHGoSEPAcQZmtJyzYuGsAigTs6CNUbutBJ1KVMwKSF2C3e+GwDVUmU/s9nL17Qp09w/ZfXeBeLKdOxM9614Q6/IdaB93XL2sRF7R1P5uCgeinLX0QnDiEdhPA3kNtI/aFl9fYaFCoBDs/DP8Q+8MwDVzLZntlhgiwWhv2D+6h55FrBGGJvS5ArLSFwKpz93Lv7uI/Ivn3/pIyRGZg8ukFnH8K33kNSVxYaurAPGtd1I7xt7NwD6MpsSzVVmVldVppPiGfPnQvvamb9IMAwHblLDdxhwoHm15uSTSJory8dKmpVm3G32bgF0iwK3YaB78pL25Zz2zTGaImJw/l897c9fIcs1+for9M4tk6+uEV0ii2tOns6Q0xOmv/iA/hHkBm4r2N4tgPZtU6/ljCxLbdQsWtpFQAyal+tSFqR0Q9h9qdWup6cEqxVhSsTh/bJ+9/uQxW7LIp4zdr1E+oF2Spxfn4I7+suX5GEovCG1SfcF99halRNuXsBKiZNnA64dx59MsO4/d8m7BdBt5o4tFmX/1St4stE5bxe/NQvudQpumAgSQvllbjbcSt3VPnnJ/esT9GqN3cJl7z5Ab9vbg3ffVaa3ff/WcffdGqCbQz+g103pAf1eZrGvYl/wy9e3zVPt4W5AtEx++Qq5WhQu23y/Z/8/APqqdhvHDQP+JTLh7l8RDtgdQAfsDqADdgfQAbsD6IDdAXTA7gA6YHcAHbA7gA7YHUAH7A6gA3YH0AG7A+iA3QF0wO4AOmB3AB2w/wHKgtmU9P/PygAAAABJRU5ErkJggg==\" y=\"-35.498357\"/>\n   </g>\n   <g id=\"patch_3\">\n    <path d=\"M 10.7 107.498357 \nL 10.7 35.7555 \n\" style=\"fill:none;stroke:#000000;stroke-linecap:square;stroke-linejoin:miter;stroke-width:0.8;\"/>\n   </g>\n   <g id=\"patch_4\">\n    <path d=\"M 82.442857 107.498357 \nL 82.442857 35.7555 \n\" style=\"fill:none;stroke:#000000;stroke-linecap:square;stroke-linejoin:miter;stroke-width:0.8;\"/>\n   </g>\n   <g id=\"patch_5\">\n    <path d=\"M 10.7 107.498357 \nL 82.442857 107.498357 \n\" style=\"fill:none;stroke:#000000;stroke-linecap:square;stroke-linejoin:miter;stroke-width:0.8;\"/>\n   </g>\n   <g id=\"patch_6\">\n    <path d=\"M 10.7 35.7555 \nL 82.442857 35.7555 \n\" style=\"fill:none;stroke:#000000;stroke-linecap:square;stroke-linejoin:miter;stroke-width:0.8;\"/>\n   </g>\n   <g id=\"text_1\">\n    <!-- ankle boot -->\n    <defs>\n     <path d=\"M 34.28125 27.484375 \nQ 23.390625 27.484375 19.1875 25 \nQ 14.984375 22.515625 14.984375 16.5 \nQ 14.984375 11.71875 18.140625 8.90625 \nQ 21.296875 6.109375 26.703125 6.109375 \nQ 34.1875 6.109375 38.703125 11.40625 \nQ 43.21875 16.703125 43.21875 25.484375 \nL 43.21875 27.484375 \nz\nM 52.203125 31.203125 \nL 52.203125 0 \nL 43.21875 0 \nL 43.21875 8.296875 \nQ 40.140625 3.328125 35.546875 0.953125 \nQ 30.953125 -1.421875 24.3125 -1.421875 \nQ 15.921875 -1.421875 10.953125 3.296875 \nQ 6 8.015625 6 15.921875 \nQ 6 25.140625 12.171875 29.828125 \nQ 18.359375 34.515625 30.609375 34.515625 \nL 43.21875 34.515625 \nL 43.21875 35.40625 \nQ 43.21875 41.609375 39.140625 45 \nQ 35.0625 48.390625 27.6875 48.390625 \nQ 23 48.390625 18.546875 47.265625 \nQ 14.109375 46.140625 10.015625 43.890625 \nL 10.015625 52.203125 \nQ 14.9375 54.109375 19.578125 55.046875 \nQ 24.21875 56 28.609375 56 \nQ 40.484375 56 46.34375 49.84375 \nQ 52.203125 43.703125 52.203125 31.203125 \nz\n\" id=\"DejaVuSans-97\"/>\n     <path d=\"M 54.890625 33.015625 \nL 54.890625 0 \nL 45.90625 0 \nL 45.90625 32.71875 \nQ 45.90625 40.484375 42.875 44.328125 \nQ 39.84375 48.1875 33.796875 48.1875 \nQ 26.515625 48.1875 22.3125 43.546875 \nQ 18.109375 38.921875 18.109375 30.90625 \nL 18.109375 0 \nL 9.078125 0 \nL 9.078125 54.6875 \nL 18.109375 54.6875 \nL 18.109375 46.1875 \nQ 21.34375 51.125 25.703125 53.5625 \nQ 30.078125 56 35.796875 56 \nQ 45.21875 56 50.046875 50.171875 \nQ 54.890625 44.34375 54.890625 33.015625 \nz\n\" id=\"DejaVuSans-110\"/>\n     <path d=\"M 9.078125 75.984375 \nL 18.109375 75.984375 \nL 18.109375 31.109375 \nL 44.921875 54.6875 \nL 56.390625 54.6875 \nL 27.390625 29.109375 \nL 57.625 0 \nL 45.90625 0 \nL 18.109375 26.703125 \nL 18.109375 0 \nL 9.078125 0 \nz\n\" id=\"DejaVuSans-107\"/>\n     <path d=\"M 9.421875 75.984375 \nL 18.40625 75.984375 \nL 18.40625 0 \nL 9.421875 0 \nz\n\" id=\"DejaVuSans-108\"/>\n     <path d=\"M 56.203125 29.59375 \nL 56.203125 25.203125 \nL 14.890625 25.203125 \nQ 15.484375 15.921875 20.484375 11.0625 \nQ 25.484375 6.203125 34.421875 6.203125 \nQ 39.59375 6.203125 44.453125 7.46875 \nQ 49.3125 8.734375 54.109375 11.28125 \nL 54.109375 2.78125 \nQ 49.265625 0.734375 44.1875 -0.34375 \nQ 39.109375 -1.421875 33.890625 -1.421875 \nQ 20.796875 -1.421875 13.15625 6.1875 \nQ 5.515625 13.8125 5.515625 26.8125 \nQ 5.515625 40.234375 12.765625 48.109375 \nQ 20.015625 56 32.328125 56 \nQ 43.359375 56 49.78125 48.890625 \nQ 56.203125 41.796875 56.203125 29.59375 \nz\nM 47.21875 32.234375 \nQ 47.125 39.59375 43.09375 43.984375 \nQ 39.0625 48.390625 32.421875 48.390625 \nQ 24.90625 48.390625 20.390625 44.140625 \nQ 15.875 39.890625 15.1875 32.171875 \nz\n\" id=\"DejaVuSans-101\"/>\n     <path id=\"DejaVuSans-32\"/>\n     <path d=\"M 48.6875 27.296875 \nQ 48.6875 37.203125 44.609375 42.84375 \nQ 40.53125 48.484375 33.40625 48.484375 \nQ 26.265625 48.484375 22.1875 42.84375 \nQ 18.109375 37.203125 18.109375 27.296875 \nQ 18.109375 17.390625 22.1875 11.75 \nQ 26.265625 6.109375 33.40625 6.109375 \nQ 40.53125 6.109375 44.609375 11.75 \nQ 48.6875 17.390625 48.6875 27.296875 \nz\nM 18.109375 46.390625 \nQ 20.953125 51.265625 25.265625 53.625 \nQ 29.59375 56 35.59375 56 \nQ 45.5625 56 51.78125 48.09375 \nQ 58.015625 40.1875 58.015625 27.296875 \nQ 58.015625 14.40625 51.78125 6.484375 \nQ 45.5625 -1.421875 35.59375 -1.421875 \nQ 29.59375 -1.421875 25.265625 0.953125 \nQ 20.953125 3.328125 18.109375 8.203125 \nL 18.109375 0 \nL 9.078125 0 \nL 9.078125 75.984375 \nL 18.109375 75.984375 \nz\n\" id=\"DejaVuSans-98\"/>\n     <path d=\"M 30.609375 48.390625 \nQ 23.390625 48.390625 19.1875 42.75 \nQ 14.984375 37.109375 14.984375 27.296875 \nQ 14.984375 17.484375 19.15625 11.84375 \nQ 23.34375 6.203125 30.609375 6.203125 \nQ 37.796875 6.203125 41.984375 11.859375 \nQ 46.1875 17.53125 46.1875 27.296875 \nQ 46.1875 37.015625 41.984375 42.703125 \nQ 37.796875 48.390625 30.609375 48.390625 \nz\nM 30.609375 56 \nQ 42.328125 56 49.015625 48.375 \nQ 55.71875 40.765625 55.71875 27.296875 \nQ 55.71875 13.875 49.015625 6.21875 \nQ 42.328125 -1.421875 30.609375 -1.421875 \nQ 18.84375 -1.421875 12.171875 6.21875 \nQ 5.515625 13.875 5.515625 27.296875 \nQ 5.515625 40.765625 12.171875 48.375 \nQ 18.84375 56 30.609375 56 \nz\n\" id=\"DejaVuSans-111\"/>\n     <path d=\"M 18.3125 70.21875 \nL 18.3125 54.6875 \nL 36.8125 54.6875 \nL 36.8125 47.703125 \nL 18.3125 47.703125 \nL 18.3125 18.015625 \nQ 18.3125 11.328125 20.140625 9.421875 \nQ 21.96875 7.515625 27.59375 7.515625 \nL 36.8125 7.515625 \nL 36.8125 0 \nL 27.59375 0 \nQ 17.1875 0 13.234375 3.875 \nQ 9.28125 7.765625 9.28125 18.015625 \nL 9.28125 47.703125 \nL 2.6875 47.703125 \nL 2.6875 54.6875 \nL 9.28125 54.6875 \nL 9.28125 70.21875 \nz\n\" id=\"DejaVuSans-116\"/>\n    </defs>\n    <g transform=\"translate(14.848304 16.318125)scale(0.12 -0.12)\">\n     <use xlink:href=\"#DejaVuSans-97\"/>\n     <use x=\"61.279297\" xlink:href=\"#DejaVuSans-110\"/>\n     <use x=\"124.658203\" xlink:href=\"#DejaVuSans-107\"/>\n     <use x=\"182.568359\" xlink:href=\"#DejaVuSans-108\"/>\n     <use x=\"210.351562\" xlink:href=\"#DejaVuSans-101\"/>\n     <use x=\"271.875\" xlink:href=\"#DejaVuSans-32\"/>\n     <use x=\"303.662109\" xlink:href=\"#DejaVuSans-98\"/>\n     <use x=\"367.138672\" xlink:href=\"#DejaVuSans-111\"/>\n     <use x=\"428.320312\" xlink:href=\"#DejaVuSans-111\"/>\n     <use x=\"489.501953\" xlink:href=\"#DejaVuSans-116\"/>\n    </g>\n    <!-- ankle boot -->\n    <g transform=\"translate(14.848304 29.7555)scale(0.12 -0.12)\">\n     <use xlink:href=\"#DejaVuSans-97\"/>\n     <use x=\"61.279297\" xlink:href=\"#DejaVuSans-110\"/>\n     <use x=\"124.658203\" xlink:href=\"#DejaVuSans-107\"/>\n     <use x=\"182.568359\" xlink:href=\"#DejaVuSans-108\"/>\n     <use x=\"210.351562\" xlink:href=\"#DejaVuSans-101\"/>\n     <use x=\"271.875\" xlink:href=\"#DejaVuSans-32\"/>\n     <use x=\"303.662109\" xlink:href=\"#DejaVuSans-98\"/>\n     <use x=\"367.138672\" xlink:href=\"#DejaVuSans-111\"/>\n     <use x=\"428.320312\" xlink:href=\"#DejaVuSans-111\"/>\n     <use x=\"489.501953\" xlink:href=\"#DejaVuSans-116\"/>\n    </g>\n   </g>\n  </g>\n  <g id=\"axes_2\">\n   <g id=\"patch_7\">\n    <path d=\"M 96.791429 107.498357 \nL 168.534286 107.498357 \nL 168.534286 35.7555 \nL 96.791429 35.7555 \nz\n\" style=\"fill:#ffffff;\"/>\n   </g>\n   <g clip-path=\"url(#p828c69c19d)\">\n    <image height=\"72\" id=\"image7d8ee63039\" transform=\"scale(1 -1)translate(0 -72)\" width=\"72\" x=\"96.791429\" xlink:href=\"data:image/png;base64,\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\" y=\"-35.498357\"/>\n   </g>\n   <g id=\"patch_8\">\n    <path d=\"M 96.791429 107.498357 \nL 96.791429 35.7555 \n\" style=\"fill:none;stroke:#000000;stroke-linecap:square;stroke-linejoin:miter;stroke-width:0.8;\"/>\n   </g>\n   <g id=\"patch_9\">\n    <path d=\"M 168.534286 107.498357 \nL 168.534286 35.7555 \n\" style=\"fill:none;stroke:#000000;stroke-linecap:square;stroke-linejoin:miter;stroke-width:0.8;\"/>\n   </g>\n   <g id=\"patch_10\">\n    <path d=\"M 96.791429 107.498357 \nL 168.534286 107.498357 \n\" style=\"fill:none;stroke:#000000;stroke-linecap:square;stroke-linejoin:miter;stroke-width:0.8;\"/>\n   </g>\n   <g id=\"patch_11\">\n    <path d=\"M 96.791429 35.7555 \nL 168.534286 35.7555 \n\" style=\"fill:none;stroke:#000000;stroke-linecap:square;stroke-linejoin:miter;stroke-width:0.8;\"/>\n   </g>\n   <g id=\"text_2\">\n    <!-- pullover -->\n    <defs>\n     <path d=\"M 18.109375 8.203125 \nL 18.109375 -20.796875 \nL 9.078125 -20.796875 \nL 9.078125 54.6875 \nL 18.109375 54.6875 \nL 18.109375 46.390625 \nQ 20.953125 51.265625 25.265625 53.625 \nQ 29.59375 56 35.59375 56 \nQ 45.5625 56 51.78125 48.09375 \nQ 58.015625 40.1875 58.015625 27.296875 \nQ 58.015625 14.40625 51.78125 6.484375 \nQ 45.5625 -1.421875 35.59375 -1.421875 \nQ 29.59375 -1.421875 25.265625 0.953125 \nQ 20.953125 3.328125 18.109375 8.203125 \nz\nM 48.6875 27.296875 \nQ 48.6875 37.203125 44.609375 42.84375 \nQ 40.53125 48.484375 33.40625 48.484375 \nQ 26.265625 48.484375 22.1875 42.84375 \nQ 18.109375 37.203125 18.109375 27.296875 \nQ 18.109375 17.390625 22.1875 11.75 \nQ 26.265625 6.109375 33.40625 6.109375 \nQ 40.53125 6.109375 44.609375 11.75 \nQ 48.6875 17.390625 48.6875 27.296875 \nz\n\" id=\"DejaVuSans-112\"/>\n     <path d=\"M 8.5 21.578125 \nL 8.5 54.6875 \nL 17.484375 54.6875 \nL 17.484375 21.921875 \nQ 17.484375 14.15625 20.5 10.265625 \nQ 23.53125 6.390625 29.59375 6.390625 \nQ 36.859375 6.390625 41.078125 11.03125 \nQ 45.3125 15.671875 45.3125 23.6875 \nL 45.3125 54.6875 \nL 54.296875 54.6875 \nL 54.296875 0 \nL 45.3125 0 \nL 45.3125 8.40625 \nQ 42.046875 3.421875 37.71875 1 \nQ 33.40625 -1.421875 27.6875 -1.421875 \nQ 18.265625 -1.421875 13.375 4.4375 \nQ 8.5 10.296875 8.5 21.578125 \nz\nM 31.109375 56 \nz\n\" id=\"DejaVuSans-117\"/>\n     <path d=\"M 2.984375 54.6875 \nL 12.5 54.6875 \nL 29.59375 8.796875 \nL 46.6875 54.6875 \nL 56.203125 54.6875 \nL 35.6875 0 \nL 23.484375 0 \nz\n\" id=\"DejaVuSans-118\"/>\n     <path d=\"M 41.109375 46.296875 \nQ 39.59375 47.171875 37.8125 47.578125 \nQ 36.03125 48 33.890625 48 \nQ 26.265625 48 22.1875 43.046875 \nQ 18.109375 38.09375 18.109375 28.8125 \nL 18.109375 0 \nL 9.078125 0 \nL 9.078125 54.6875 \nL 18.109375 54.6875 \nL 18.109375 46.1875 \nQ 20.953125 51.171875 25.484375 53.578125 \nQ 30.03125 56 36.53125 56 \nQ 37.453125 56 38.578125 55.875 \nQ 39.703125 55.765625 41.0625 55.515625 \nz\n\" id=\"DejaVuSans-114\"/>\n    </defs>\n    <g transform=\"translate(108.336607 16.318125)scale(0.12 -0.12)\">\n     <use xlink:href=\"#DejaVuSans-112\"/>\n     <use x=\"63.476562\" xlink:href=\"#DejaVuSans-117\"/>\n     <use x=\"126.855469\" xlink:href=\"#DejaVuSans-108\"/>\n     <use x=\"154.638672\" xlink:href=\"#DejaVuSans-108\"/>\n     <use x=\"182.421875\" xlink:href=\"#DejaVuSans-111\"/>\n     <use x=\"243.603516\" xlink:href=\"#DejaVuSans-118\"/>\n     <use x=\"302.783203\" xlink:href=\"#DejaVuSans-101\"/>\n     <use x=\"364.306641\" xlink:href=\"#DejaVuSans-114\"/>\n    </g>\n    <!-- pullover -->\n    <g transform=\"translate(108.336607 29.7555)scale(0.12 -0.12)\">\n     <use xlink:href=\"#DejaVuSans-112\"/>\n     <use x=\"63.476562\" xlink:href=\"#DejaVuSans-117\"/>\n     <use x=\"126.855469\" xlink:href=\"#DejaVuSans-108\"/>\n     <use x=\"154.638672\" xlink:href=\"#DejaVuSans-108\"/>\n     <use x=\"182.421875\" xlink:href=\"#DejaVuSans-111\"/>\n     <use x=\"243.603516\" xlink:href=\"#DejaVuSans-118\"/>\n     <use x=\"302.783203\" xlink:href=\"#DejaVuSans-101\"/>\n     <use x=\"364.306641\" xlink:href=\"#DejaVuSans-114\"/>\n    </g>\n   </g>\n  </g>\n  <g id=\"axes_3\">\n   <g id=\"patch_12\">\n    <path d=\"M 182.882857 107.498357 \nL 254.625714 107.498357 \nL 254.625714 35.7555 \nL 182.882857 35.7555 \nz\n\" style=\"fill:#ffffff;\"/>\n   </g>\n   <g clip-path=\"url(#p0142092a39)\">\n    <image height=\"72\" id=\"imagecbacfe87d3\" transform=\"scale(1 -1)translate(0 -72)\" width=\"72\" x=\"182.882857\" xlink:href=\"data:image/png;base64,\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\" y=\"-35.498357\"/>\n   </g>\n   <g id=\"patch_13\">\n    <path d=\"M 182.882857 107.498357 \nL 182.882857 35.7555 \n\" style=\"fill:none;stroke:#000000;stroke-linecap:square;stroke-linejoin:miter;stroke-width:0.8;\"/>\n   </g>\n   <g id=\"patch_14\">\n    <path d=\"M 254.625714 107.498357 \nL 254.625714 35.7555 \n\" style=\"fill:none;stroke:#000000;stroke-linecap:square;stroke-linejoin:miter;stroke-width:0.8;\"/>\n   </g>\n   <g id=\"patch_15\">\n    <path d=\"M 182.882857 107.498357 \nL 254.625714 107.498357 \n\" style=\"fill:none;stroke:#000000;stroke-linecap:square;stroke-linejoin:miter;stroke-width:0.8;\"/>\n   </g>\n   <g id=\"patch_16\">\n    <path d=\"M 182.882857 35.7555 \nL 254.625714 35.7555 \n\" style=\"fill:none;stroke:#000000;stroke-linecap:square;stroke-linejoin:miter;stroke-width:0.8;\"/>\n   </g>\n   <g id=\"text_3\">\n    <!-- trouser -->\n    <defs>\n     <path d=\"M 44.28125 53.078125 \nL 44.28125 44.578125 \nQ 40.484375 46.53125 36.375 47.5 \nQ 32.28125 48.484375 27.875 48.484375 \nQ 21.1875 48.484375 17.84375 46.4375 \nQ 14.5 44.390625 14.5 40.28125 \nQ 14.5 37.15625 16.890625 35.375 \nQ 19.28125 33.59375 26.515625 31.984375 \nL 29.59375 31.296875 \nQ 39.15625 29.25 43.1875 25.515625 \nQ 47.21875 21.78125 47.21875 15.09375 \nQ 47.21875 7.46875 41.1875 3.015625 \nQ 35.15625 -1.421875 24.609375 -1.421875 \nQ 20.21875 -1.421875 15.453125 -0.5625 \nQ 10.6875 0.296875 5.421875 2 \nL 5.421875 11.28125 \nQ 10.40625 8.6875 15.234375 7.390625 \nQ 20.0625 6.109375 24.8125 6.109375 \nQ 31.15625 6.109375 34.5625 8.28125 \nQ 37.984375 10.453125 37.984375 14.40625 \nQ 37.984375 18.0625 35.515625 20.015625 \nQ 33.0625 21.96875 24.703125 23.78125 \nL 21.578125 24.515625 \nQ 13.234375 26.265625 9.515625 29.90625 \nQ 5.8125 33.546875 5.8125 39.890625 \nQ 5.8125 47.609375 11.28125 51.796875 \nQ 16.75 56 26.8125 56 \nQ 31.78125 56 36.171875 55.265625 \nQ 40.578125 54.546875 44.28125 53.078125 \nz\n\" id=\"DejaVuSans-115\"/>\n    </defs>\n    <g transform=\"translate(197.312723 16.318125)scale(0.12 -0.12)\">\n     <use xlink:href=\"#DejaVuSans-116\"/>\n     <use x=\"39.208984\" xlink:href=\"#DejaVuSans-114\"/>\n     <use x=\"78.072266\" xlink:href=\"#DejaVuSans-111\"/>\n     <use x=\"139.253906\" xlink:href=\"#DejaVuSans-117\"/>\n     <use x=\"202.632812\" xlink:href=\"#DejaVuSans-115\"/>\n     <use x=\"254.732422\" xlink:href=\"#DejaVuSans-101\"/>\n     <use x=\"316.255859\" xlink:href=\"#DejaVuSans-114\"/>\n    </g>\n    <!-- trouser -->\n    <g transform=\"translate(197.312723 29.7555)scale(0.12 -0.12)\">\n     <use xlink:href=\"#DejaVuSans-116\"/>\n     <use x=\"39.208984\" xlink:href=\"#DejaVuSans-114\"/>\n     <use x=\"78.072266\" xlink:href=\"#DejaVuSans-111\"/>\n     <use x=\"139.253906\" xlink:href=\"#DejaVuSans-117\"/>\n     <use x=\"202.632812\" xlink:href=\"#DejaVuSans-115\"/>\n     <use x=\"254.732422\" xlink:href=\"#DejaVuSans-101\"/>\n     <use x=\"316.255859\" xlink:href=\"#DejaVuSans-114\"/>\n    </g>\n   </g>\n  </g>\n  <g id=\"axes_4\">\n   <g id=\"patch_17\">\n    <path d=\"M 268.974286 107.498357 \nL 340.717143 107.498357 \nL 340.717143 35.7555 \nL 268.974286 35.7555 \nz\n\" style=\"fill:#ffffff;\"/>\n   </g>\n   <g clip-path=\"url(#p7daee26179)\">\n    <image height=\"72\" id=\"imageec7c8104a1\" transform=\"scale(1 -1)translate(0 -72)\" width=\"72\" x=\"268.974286\" xlink:href=\"data:image/png;base64,\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\" y=\"-35.498357\"/>\n   </g>\n   <g id=\"patch_18\">\n    <path d=\"M 268.974286 107.498357 \nL 268.974286 35.7555 \n\" style=\"fill:none;stroke:#000000;stroke-linecap:square;stroke-linejoin:miter;stroke-width:0.8;\"/>\n   </g>\n   <g id=\"patch_19\">\n    <path d=\"M 340.717143 107.498357 \nL 340.717143 35.7555 \n\" style=\"fill:none;stroke:#000000;stroke-linecap:square;stroke-linejoin:miter;stroke-width:0.8;\"/>\n   </g>\n   <g id=\"patch_20\">\n    <path d=\"M 268.974286 107.498357 \nL 340.717143 107.498357 \n\" style=\"fill:none;stroke:#000000;stroke-linecap:square;stroke-linejoin:miter;stroke-width:0.8;\"/>\n   </g>\n   <g id=\"patch_21\">\n    <path d=\"M 268.974286 35.7555 \nL 340.717143 35.7555 \n\" style=\"fill:none;stroke:#000000;stroke-linecap:square;stroke-linejoin:miter;stroke-width:0.8;\"/>\n   </g>\n   <g id=\"text_4\">\n    <!-- trouser -->\n    <g transform=\"translate(283.404152 16.318125)scale(0.12 -0.12)\">\n     <use xlink:href=\"#DejaVuSans-116\"/>\n     <use x=\"39.208984\" xlink:href=\"#DejaVuSans-114\"/>\n     <use x=\"78.072266\" xlink:href=\"#DejaVuSans-111\"/>\n     <use x=\"139.253906\" xlink:href=\"#DejaVuSans-117\"/>\n     <use x=\"202.632812\" xlink:href=\"#DejaVuSans-115\"/>\n     <use x=\"254.732422\" xlink:href=\"#DejaVuSans-101\"/>\n     <use x=\"316.255859\" xlink:href=\"#DejaVuSans-114\"/>\n    </g>\n    <!-- trouser -->\n    <g transform=\"translate(283.404152 29.7555)scale(0.12 -0.12)\">\n     <use xlink:href=\"#DejaVuSans-116\"/>\n     <use x=\"39.208984\" xlink:href=\"#DejaVuSans-114\"/>\n     <use x=\"78.072266\" xlink:href=\"#DejaVuSans-111\"/>\n     <use x=\"139.253906\" xlink:href=\"#DejaVuSans-117\"/>\n     <use x=\"202.632812\" xlink:href=\"#DejaVuSans-115\"/>\n     <use x=\"254.732422\" xlink:href=\"#DejaVuSans-101\"/>\n     <use x=\"316.255859\" xlink:href=\"#DejaVuSans-114\"/>\n    </g>\n   </g>\n  </g>\n  <g id=\"axes_5\">\n   <g id=\"patch_22\">\n    <path d=\"M 355.065714 107.498357 \nL 426.808571 107.498357 \nL 426.808571 35.7555 \nL 355.065714 35.7555 \nz\n\" style=\"fill:#ffffff;\"/>\n   </g>\n   <g clip-path=\"url(#p67b1c4ab15)\">\n    <image height=\"72\" id=\"imagebc21565c6a\" transform=\"scale(1 -1)translate(0 -72)\" width=\"72\" x=\"355.065714\" xlink:href=\"data:image/png;base64,\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\" y=\"-35.498357\"/>\n   </g>\n   <g id=\"patch_23\">\n    <path d=\"M 355.065714 107.498357 \nL 355.065714 35.7555 \n\" style=\"fill:none;stroke:#000000;stroke-linecap:square;stroke-linejoin:miter;stroke-width:0.8;\"/>\n   </g>\n   <g id=\"patch_24\">\n    <path d=\"M 426.808571 107.498357 \nL 426.808571 35.7555 \n\" style=\"fill:none;stroke:#000000;stroke-linecap:square;stroke-linejoin:miter;stroke-width:0.8;\"/>\n   </g>\n   <g id=\"patch_25\">\n    <path d=\"M 355.065714 107.498357 \nL 426.808571 107.498357 \n\" style=\"fill:none;stroke:#000000;stroke-linecap:square;stroke-linejoin:miter;stroke-width:0.8;\"/>\n   </g>\n   <g id=\"patch_26\">\n    <path d=\"M 355.065714 35.7555 \nL 426.808571 35.7555 \n\" style=\"fill:none;stroke:#000000;stroke-linecap:square;stroke-linejoin:miter;stroke-width:0.8;\"/>\n   </g>\n   <g id=\"text_5\">\n    <!-- shirt -->\n    <defs>\n     <path d=\"M 54.890625 33.015625 \nL 54.890625 0 \nL 45.90625 0 \nL 45.90625 32.71875 \nQ 45.90625 40.484375 42.875 44.328125 \nQ 39.84375 48.1875 33.796875 48.1875 \nQ 26.515625 48.1875 22.3125 43.546875 \nQ 18.109375 38.921875 18.109375 30.90625 \nL 18.109375 0 \nL 9.078125 0 \nL 9.078125 75.984375 \nL 18.109375 75.984375 \nL 18.109375 46.1875 \nQ 21.34375 51.125 25.703125 53.5625 \nQ 30.078125 56 35.796875 56 \nQ 45.21875 56 50.046875 50.171875 \nQ 54.890625 44.34375 54.890625 33.015625 \nz\n\" id=\"DejaVuSans-104\"/>\n     <path d=\"M 9.421875 54.6875 \nL 18.40625 54.6875 \nL 18.40625 0 \nL 9.421875 0 \nz\nM 9.421875 75.984375 \nL 18.40625 75.984375 \nL 18.40625 64.59375 \nL 9.421875 64.59375 \nz\n\" id=\"DejaVuSans-105\"/>\n    </defs>\n    <g transform=\"translate(377.523393 16.318125)scale(0.12 -0.12)\">\n     <use xlink:href=\"#DejaVuSans-115\"/>\n     <use x=\"52.099609\" xlink:href=\"#DejaVuSans-104\"/>\n     <use x=\"115.478516\" xlink:href=\"#DejaVuSans-105\"/>\n     <use x=\"143.261719\" xlink:href=\"#DejaVuSans-114\"/>\n     <use x=\"184.375\" xlink:href=\"#DejaVuSans-116\"/>\n    </g>\n    <!-- shirt -->\n    <g transform=\"translate(377.523393 29.7555)scale(0.12 -0.12)\">\n     <use xlink:href=\"#DejaVuSans-115\"/>\n     <use x=\"52.099609\" xlink:href=\"#DejaVuSans-104\"/>\n     <use x=\"115.478516\" xlink:href=\"#DejaVuSans-105\"/>\n     <use x=\"143.261719\" xlink:href=\"#DejaVuSans-114\"/>\n     <use x=\"184.375\" xlink:href=\"#DejaVuSans-116\"/>\n    </g>\n   </g>\n  </g>\n  <g id=\"axes_6\">\n   <g id=\"patch_27\">\n    <path d=\"M 441.157143 107.498357 \nL 512.9 107.498357 \nL 512.9 35.7555 \nL 441.157143 35.7555 \nz\n\" style=\"fill:#ffffff;\"/>\n   </g>\n   <g clip-path=\"url(#p4338a37223)\">\n    <image height=\"72\" id=\"image7e122ff1f0\" transform=\"scale(1 -1)translate(0 -72)\" width=\"72\" x=\"441.157143\" xlink:href=\"data:image/png;base64,\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\" y=\"-35.498357\"/>\n   </g>\n   <g id=\"patch_28\">\n    <path d=\"M 441.157143 107.498357 \nL 441.157143 35.7555 \n\" style=\"fill:none;stroke:#000000;stroke-linecap:square;stroke-linejoin:miter;stroke-width:0.8;\"/>\n   </g>\n   <g id=\"patch_29\">\n    <path d=\"M 512.9 107.498357 \nL 512.9 35.7555 \n\" style=\"fill:none;stroke:#000000;stroke-linecap:square;stroke-linejoin:miter;stroke-width:0.8;\"/>\n   </g>\n   <g id=\"patch_30\">\n    <path d=\"M 441.157143 107.498357 \nL 512.9 107.498357 \n\" style=\"fill:none;stroke:#000000;stroke-linecap:square;stroke-linejoin:miter;stroke-width:0.8;\"/>\n   </g>\n   <g id=\"patch_31\">\n    <path d=\"M 441.157143 35.7555 \nL 512.9 35.7555 \n\" style=\"fill:none;stroke:#000000;stroke-linecap:square;stroke-linejoin:miter;stroke-width:0.8;\"/>\n   </g>\n   <g id=\"text_6\">\n    <!-- trouser -->\n    <g transform=\"translate(455.587009 16.318125)scale(0.12 -0.12)\">\n     <use xlink:href=\"#DejaVuSans-116\"/>\n     <use x=\"39.208984\" xlink:href=\"#DejaVuSans-114\"/>\n     <use x=\"78.072266\" xlink:href=\"#DejaVuSans-111\"/>\n     <use x=\"139.253906\" xlink:href=\"#DejaVuSans-117\"/>\n     <use x=\"202.632812\" xlink:href=\"#DejaVuSans-115\"/>\n     <use x=\"254.732422\" xlink:href=\"#DejaVuSans-101\"/>\n     <use x=\"316.255859\" xlink:href=\"#DejaVuSans-114\"/>\n    </g>\n    <!-- trouser -->\n    <g transform=\"translate(455.587009 29.7555)scale(0.12 -0.12)\">\n     <use xlink:href=\"#DejaVuSans-116\"/>\n     <use x=\"39.208984\" xlink:href=\"#DejaVuSans-114\"/>\n     <use x=\"78.072266\" xlink:href=\"#DejaVuSans-111\"/>\n     <use x=\"139.253906\" xlink:href=\"#DejaVuSans-117\"/>\n     <use x=\"202.632812\" xlink:href=\"#DejaVuSans-115\"/>\n     <use x=\"254.732422\" xlink:href=\"#DejaVuSans-101\"/>\n     <use x=\"316.255859\" xlink:href=\"#DejaVuSans-114\"/>\n    </g>\n   </g>\n  </g>\n </g>\n <defs>\n  <clipPath id=\"pd72efacc08\">\n   <rect height=\"71.742857\" width=\"71.742857\" x=\"10.7\" y=\"35.7555\"/>\n  </clipPath>\n  <clipPath id=\"p828c69c19d\">\n   <rect height=\"71.742857\" width=\"71.742857\" x=\"96.791429\" y=\"35.7555\"/>\n  </clipPath>\n  <clipPath id=\"p0142092a39\">\n   <rect height=\"71.742857\" width=\"71.742857\" x=\"182.882857\" y=\"35.7555\"/>\n  </clipPath>\n  <clipPath id=\"p7daee26179\">\n   <rect height=\"71.742857\" width=\"71.742857\" x=\"268.974286\" y=\"35.7555\"/>\n  </clipPath>\n  <clipPath id=\"p67b1c4ab15\">\n   <rect height=\"71.742857\" width=\"71.742857\" x=\"355.065714\" y=\"35.7555\"/>\n  </clipPath>\n  <clipPath id=\"p4338a37223\">\n   <rect height=\"71.742857\" width=\"71.742857\" x=\"441.157143\" y=\"35.7555\"/>\n  </clipPath>\n </defs>\n</svg>\n",
            "text/plain": [
              "<Figure size 648x108 with 6 Axes>"
            ]
          },
          "metadata": {
            "needs_background": "light"
          },
          "output_type": "display_data"
        }
      ],
      "source": [
        "def predict(net, test_iter, n=6):\n",
        "  for X, y in test_iter:\n",
        "    break\n",
        "  trues = d2l.get_fashion_mnist_labels(y)\n",
        "  preds = d2l.get_fashion_mnist_labels(net(X).argmax(axis = 1))\n",
        "  titles = [true + '\\n' + pred for true, pred in zip(trues, preds)]\n",
        "  d2l.show_images(\n",
        "      X[0:n].reshape((n, 28, 28)), 1 , n, titles = titles[0:n])\n",
        "predict(net, test_iter)"
      ]
    },
    {
      "cell_type": "code",
      "execution_count": null,
      "metadata": {
        "id": "jwQryqM1iKxx"
      },
      "outputs": [],
      "source": [
        "import torch\n",
        "from torch import nn\n",
        "from d2l import torch as d2l"
      ]
    },
    {
      "cell_type": "code",
      "execution_count": null,
      "metadata": {
        "id": "nKPv6tCAiuki"
      },
      "outputs": [],
      "source": [
        "batch_size = 256\n",
        "train_iter, test_iter = d2l.load_data_fashion_mnist(batch_size)"
      ]
    },
    {
      "cell_type": "code",
      "execution_count": null,
      "metadata": {
        "colab": {
          "base_uri": "https://localhost:8080/"
        },
        "id": "EDPRRiSui4oh",
        "outputId": "435b624b-d714-44f5-8b5d-2d0a2ad96257"
      },
      "outputs": [
        {
          "data": {
            "text/plain": [
              "Sequential(\n",
              "  (0): Flatten(start_dim=1, end_dim=-1)\n",
              "  (1): Linear(in_features=784, out_features=10, bias=True)\n",
              ")"
            ]
          },
          "execution_count": 58,
          "metadata": {},
          "output_type": "execute_result"
        }
      ],
      "source": [
        "net = nn.Sequential(nn.Flatten(), nn.Linear(784, 10))\n",
        "\n",
        "def init_weights(m):\n",
        "  if type(m) == nn.Linear:\n",
        "    nn.init.normal_(m.weight, std = 0.01)\n",
        "\n",
        "net.apply(init_weights)"
      ]
    },
    {
      "cell_type": "code",
      "execution_count": null,
      "metadata": {
        "id": "OyhPnQL4jYQc"
      },
      "outputs": [],
      "source": [
        "loss = nn.CrossEntropyLoss(reduction = 'none')"
      ]
    },
    {
      "cell_type": "code",
      "execution_count": null,
      "metadata": {
        "id": "ZNcmSoOqjil4"
      },
      "outputs": [],
      "source": [
        "trainer = torch.optim.SGD(net.parameters(), lr = 0.1)"
      ]
    },
    {
      "cell_type": "code",
      "execution_count": null,
      "metadata": {
        "colab": {
          "base_uri": "https://localhost:8080/",
          "height": 261
        },
        "id": "ge2s_Tbwjoyv",
        "outputId": "b2591df4-4325-4981-92ab-502767427d6c"
      },
      "outputs": [
        {
          "data": {
            "image/svg+xml": "<?xml version=\"1.0\" encoding=\"utf-8\" standalone=\"no\"?>\n<!DOCTYPE svg PUBLIC \"-//W3C//DTD SVG 1.1//EN\"\n  \"http://www.w3.org/Graphics/SVG/1.1/DTD/svg11.dtd\">\n<!-- Created with matplotlib (https://matplotlib.org/) -->\n<svg height=\"180.65625pt\" version=\"1.1\" viewBox=\"0 0 238.965625 180.65625\" width=\"238.965625pt\" xmlns=\"http://www.w3.org/2000/svg\" xmlns:xlink=\"http://www.w3.org/1999/xlink\">\n <defs>\n  <style type=\"text/css\">\n*{stroke-linecap:butt;stroke-linejoin:round;}\n  </style>\n </defs>\n <g id=\"figure_1\">\n  <g id=\"patch_1\">\n   <path d=\"M 0 180.65625 \nL 238.965625 180.65625 \nL 238.965625 0 \nL 0 0 \nz\n\" style=\"fill:none;\"/>\n  </g>\n  <g id=\"axes_1\">\n   <g id=\"patch_2\">\n    <path d=\"M 30.103125 143.1 \nL 225.403125 143.1 \nL 225.403125 7.2 \nL 30.103125 7.2 \nz\n\" style=\"fill:#ffffff;\"/>\n   </g>\n   <g id=\"matplotlib.axis_1\">\n    <g id=\"xtick_1\">\n     <g id=\"line2d_1\">\n      <path clip-path=\"url(#p8c66be9e37)\" d=\"M 51.803125 143.1 \nL 51.803125 7.2 \n\" style=\"fill:none;stroke:#b0b0b0;stroke-linecap:square;stroke-width:0.8;\"/>\n     </g>\n     <g id=\"line2d_2\">\n      <defs>\n       <path d=\"M 0 0 \nL 0 3.5 \n\" id=\"m96b8e8b0a9\" style=\"stroke:#000000;stroke-width:0.8;\"/>\n      </defs>\n      <g>\n       <use style=\"stroke:#000000;stroke-width:0.8;\" x=\"51.803125\" xlink:href=\"#m96b8e8b0a9\" y=\"143.1\"/>\n      </g>\n     </g>\n     <g id=\"text_1\">\n      <!-- 2 -->\n      <defs>\n       <path d=\"M 19.1875 8.296875 \nL 53.609375 8.296875 \nL 53.609375 0 \nL 7.328125 0 \nL 7.328125 8.296875 \nQ 12.9375 14.109375 22.625 23.890625 \nQ 32.328125 33.6875 34.8125 36.53125 \nQ 39.546875 41.84375 41.421875 45.53125 \nQ 43.3125 49.21875 43.3125 52.78125 \nQ 43.3125 58.59375 39.234375 62.25 \nQ 35.15625 65.921875 28.609375 65.921875 \nQ 23.96875 65.921875 18.8125 64.3125 \nQ 13.671875 62.703125 7.8125 59.421875 \nL 7.8125 69.390625 \nQ 13.765625 71.78125 18.9375 73 \nQ 24.125 74.21875 28.421875 74.21875 \nQ 39.75 74.21875 46.484375 68.546875 \nQ 53.21875 62.890625 53.21875 53.421875 \nQ 53.21875 48.921875 51.53125 44.890625 \nQ 49.859375 40.875 45.40625 35.40625 \nQ 44.1875 33.984375 37.640625 27.21875 \nQ 31.109375 20.453125 19.1875 8.296875 \nz\n\" id=\"DejaVuSans-50\"/>\n      </defs>\n      <g transform=\"translate(48.621875 157.698438)scale(0.1 -0.1)\">\n       <use xlink:href=\"#DejaVuSans-50\"/>\n      </g>\n     </g>\n    </g>\n    <g id=\"xtick_2\">\n     <g id=\"line2d_3\">\n      <path clip-path=\"url(#p8c66be9e37)\" d=\"M 95.203125 143.1 \nL 95.203125 7.2 \n\" style=\"fill:none;stroke:#b0b0b0;stroke-linecap:square;stroke-width:0.8;\"/>\n     </g>\n     <g id=\"line2d_4\">\n      <g>\n       <use style=\"stroke:#000000;stroke-width:0.8;\" x=\"95.203125\" xlink:href=\"#m96b8e8b0a9\" y=\"143.1\"/>\n      </g>\n     </g>\n     <g id=\"text_2\">\n      <!-- 4 -->\n      <defs>\n       <path d=\"M 37.796875 64.3125 \nL 12.890625 25.390625 \nL 37.796875 25.390625 \nz\nM 35.203125 72.90625 \nL 47.609375 72.90625 \nL 47.609375 25.390625 \nL 58.015625 25.390625 \nL 58.015625 17.1875 \nL 47.609375 17.1875 \nL 47.609375 0 \nL 37.796875 0 \nL 37.796875 17.1875 \nL 4.890625 17.1875 \nL 4.890625 26.703125 \nz\n\" id=\"DejaVuSans-52\"/>\n      </defs>\n      <g transform=\"translate(92.021875 157.698438)scale(0.1 -0.1)\">\n       <use xlink:href=\"#DejaVuSans-52\"/>\n      </g>\n     </g>\n    </g>\n    <g id=\"xtick_3\">\n     <g id=\"line2d_5\">\n      <path clip-path=\"url(#p8c66be9e37)\" d=\"M 138.603125 143.1 \nL 138.603125 7.2 \n\" style=\"fill:none;stroke:#b0b0b0;stroke-linecap:square;stroke-width:0.8;\"/>\n     </g>\n     <g id=\"line2d_6\">\n      <g>\n       <use style=\"stroke:#000000;stroke-width:0.8;\" x=\"138.603125\" xlink:href=\"#m96b8e8b0a9\" y=\"143.1\"/>\n      </g>\n     </g>\n     <g id=\"text_3\">\n      <!-- 6 -->\n      <defs>\n       <path d=\"M 33.015625 40.375 \nQ 26.375 40.375 22.484375 35.828125 \nQ 18.609375 31.296875 18.609375 23.390625 \nQ 18.609375 15.53125 22.484375 10.953125 \nQ 26.375 6.390625 33.015625 6.390625 \nQ 39.65625 6.390625 43.53125 10.953125 \nQ 47.40625 15.53125 47.40625 23.390625 \nQ 47.40625 31.296875 43.53125 35.828125 \nQ 39.65625 40.375 33.015625 40.375 \nz\nM 52.59375 71.296875 \nL 52.59375 62.3125 \nQ 48.875 64.0625 45.09375 64.984375 \nQ 41.3125 65.921875 37.59375 65.921875 \nQ 27.828125 65.921875 22.671875 59.328125 \nQ 17.53125 52.734375 16.796875 39.40625 \nQ 19.671875 43.65625 24.015625 45.921875 \nQ 28.375 48.1875 33.59375 48.1875 \nQ 44.578125 48.1875 50.953125 41.515625 \nQ 57.328125 34.859375 57.328125 23.390625 \nQ 57.328125 12.15625 50.6875 5.359375 \nQ 44.046875 -1.421875 33.015625 -1.421875 \nQ 20.359375 -1.421875 13.671875 8.265625 \nQ 6.984375 17.96875 6.984375 36.375 \nQ 6.984375 53.65625 15.1875 63.9375 \nQ 23.390625 74.21875 37.203125 74.21875 \nQ 40.921875 74.21875 44.703125 73.484375 \nQ 48.484375 72.75 52.59375 71.296875 \nz\n\" id=\"DejaVuSans-54\"/>\n      </defs>\n      <g transform=\"translate(135.421875 157.698438)scale(0.1 -0.1)\">\n       <use xlink:href=\"#DejaVuSans-54\"/>\n      </g>\n     </g>\n    </g>\n    <g id=\"xtick_4\">\n     <g id=\"line2d_7\">\n      <path clip-path=\"url(#p8c66be9e37)\" d=\"M 182.003125 143.1 \nL 182.003125 7.2 \n\" style=\"fill:none;stroke:#b0b0b0;stroke-linecap:square;stroke-width:0.8;\"/>\n     </g>\n     <g id=\"line2d_8\">\n      <g>\n       <use style=\"stroke:#000000;stroke-width:0.8;\" x=\"182.003125\" xlink:href=\"#m96b8e8b0a9\" y=\"143.1\"/>\n      </g>\n     </g>\n     <g id=\"text_4\">\n      <!-- 8 -->\n      <defs>\n       <path d=\"M 31.78125 34.625 \nQ 24.75 34.625 20.71875 30.859375 \nQ 16.703125 27.09375 16.703125 20.515625 \nQ 16.703125 13.921875 20.71875 10.15625 \nQ 24.75 6.390625 31.78125 6.390625 \nQ 38.8125 6.390625 42.859375 10.171875 \nQ 46.921875 13.96875 46.921875 20.515625 \nQ 46.921875 27.09375 42.890625 30.859375 \nQ 38.875 34.625 31.78125 34.625 \nz\nM 21.921875 38.8125 \nQ 15.578125 40.375 12.03125 44.71875 \nQ 8.5 49.078125 8.5 55.328125 \nQ 8.5 64.0625 14.71875 69.140625 \nQ 20.953125 74.21875 31.78125 74.21875 \nQ 42.671875 74.21875 48.875 69.140625 \nQ 55.078125 64.0625 55.078125 55.328125 \nQ 55.078125 49.078125 51.53125 44.71875 \nQ 48 40.375 41.703125 38.8125 \nQ 48.828125 37.15625 52.796875 32.3125 \nQ 56.78125 27.484375 56.78125 20.515625 \nQ 56.78125 9.90625 50.3125 4.234375 \nQ 43.84375 -1.421875 31.78125 -1.421875 \nQ 19.734375 -1.421875 13.25 4.234375 \nQ 6.78125 9.90625 6.78125 20.515625 \nQ 6.78125 27.484375 10.78125 32.3125 \nQ 14.796875 37.15625 21.921875 38.8125 \nz\nM 18.3125 54.390625 \nQ 18.3125 48.734375 21.84375 45.5625 \nQ 25.390625 42.390625 31.78125 42.390625 \nQ 38.140625 42.390625 41.71875 45.5625 \nQ 45.3125 48.734375 45.3125 54.390625 \nQ 45.3125 60.0625 41.71875 63.234375 \nQ 38.140625 66.40625 31.78125 66.40625 \nQ 25.390625 66.40625 21.84375 63.234375 \nQ 18.3125 60.0625 18.3125 54.390625 \nz\n\" id=\"DejaVuSans-56\"/>\n      </defs>\n      <g transform=\"translate(178.821875 157.698438)scale(0.1 -0.1)\">\n       <use xlink:href=\"#DejaVuSans-56\"/>\n      </g>\n     </g>\n    </g>\n    <g id=\"xtick_5\">\n     <g id=\"line2d_9\">\n      <path clip-path=\"url(#p8c66be9e37)\" d=\"M 225.403125 143.1 \nL 225.403125 7.2 \n\" style=\"fill:none;stroke:#b0b0b0;stroke-linecap:square;stroke-width:0.8;\"/>\n     </g>\n     <g id=\"line2d_10\">\n      <g>\n       <use style=\"stroke:#000000;stroke-width:0.8;\" x=\"225.403125\" xlink:href=\"#m96b8e8b0a9\" y=\"143.1\"/>\n      </g>\n     </g>\n     <g id=\"text_5\">\n      <!-- 10 -->\n      <defs>\n       <path d=\"M 12.40625 8.296875 \nL 28.515625 8.296875 \nL 28.515625 63.921875 \nL 10.984375 60.40625 \nL 10.984375 69.390625 \nL 28.421875 72.90625 \nL 38.28125 72.90625 \nL 38.28125 8.296875 \nL 54.390625 8.296875 \nL 54.390625 0 \nL 12.40625 0 \nz\n\" id=\"DejaVuSans-49\"/>\n       <path d=\"M 31.78125 66.40625 \nQ 24.171875 66.40625 20.328125 58.90625 \nQ 16.5 51.421875 16.5 36.375 \nQ 16.5 21.390625 20.328125 13.890625 \nQ 24.171875 6.390625 31.78125 6.390625 \nQ 39.453125 6.390625 43.28125 13.890625 \nQ 47.125 21.390625 47.125 36.375 \nQ 47.125 51.421875 43.28125 58.90625 \nQ 39.453125 66.40625 31.78125 66.40625 \nz\nM 31.78125 74.21875 \nQ 44.046875 74.21875 50.515625 64.515625 \nQ 56.984375 54.828125 56.984375 36.375 \nQ 56.984375 17.96875 50.515625 8.265625 \nQ 44.046875 -1.421875 31.78125 -1.421875 \nQ 19.53125 -1.421875 13.0625 8.265625 \nQ 6.59375 17.96875 6.59375 36.375 \nQ 6.59375 54.828125 13.0625 64.515625 \nQ 19.53125 74.21875 31.78125 74.21875 \nz\n\" id=\"DejaVuSans-48\"/>\n      </defs>\n      <g transform=\"translate(219.040625 157.698438)scale(0.1 -0.1)\">\n       <use xlink:href=\"#DejaVuSans-49\"/>\n       <use x=\"63.623047\" xlink:href=\"#DejaVuSans-48\"/>\n      </g>\n     </g>\n    </g>\n    <g id=\"text_6\">\n     <!-- epoch -->\n     <defs>\n      <path d=\"M 56.203125 29.59375 \nL 56.203125 25.203125 \nL 14.890625 25.203125 \nQ 15.484375 15.921875 20.484375 11.0625 \nQ 25.484375 6.203125 34.421875 6.203125 \nQ 39.59375 6.203125 44.453125 7.46875 \nQ 49.3125 8.734375 54.109375 11.28125 \nL 54.109375 2.78125 \nQ 49.265625 0.734375 44.1875 -0.34375 \nQ 39.109375 -1.421875 33.890625 -1.421875 \nQ 20.796875 -1.421875 13.15625 6.1875 \nQ 5.515625 13.8125 5.515625 26.8125 \nQ 5.515625 40.234375 12.765625 48.109375 \nQ 20.015625 56 32.328125 56 \nQ 43.359375 56 49.78125 48.890625 \nQ 56.203125 41.796875 56.203125 29.59375 \nz\nM 47.21875 32.234375 \nQ 47.125 39.59375 43.09375 43.984375 \nQ 39.0625 48.390625 32.421875 48.390625 \nQ 24.90625 48.390625 20.390625 44.140625 \nQ 15.875 39.890625 15.1875 32.171875 \nz\n\" id=\"DejaVuSans-101\"/>\n      <path d=\"M 18.109375 8.203125 \nL 18.109375 -20.796875 \nL 9.078125 -20.796875 \nL 9.078125 54.6875 \nL 18.109375 54.6875 \nL 18.109375 46.390625 \nQ 20.953125 51.265625 25.265625 53.625 \nQ 29.59375 56 35.59375 56 \nQ 45.5625 56 51.78125 48.09375 \nQ 58.015625 40.1875 58.015625 27.296875 \nQ 58.015625 14.40625 51.78125 6.484375 \nQ 45.5625 -1.421875 35.59375 -1.421875 \nQ 29.59375 -1.421875 25.265625 0.953125 \nQ 20.953125 3.328125 18.109375 8.203125 \nz\nM 48.6875 27.296875 \nQ 48.6875 37.203125 44.609375 42.84375 \nQ 40.53125 48.484375 33.40625 48.484375 \nQ 26.265625 48.484375 22.1875 42.84375 \nQ 18.109375 37.203125 18.109375 27.296875 \nQ 18.109375 17.390625 22.1875 11.75 \nQ 26.265625 6.109375 33.40625 6.109375 \nQ 40.53125 6.109375 44.609375 11.75 \nQ 48.6875 17.390625 48.6875 27.296875 \nz\n\" id=\"DejaVuSans-112\"/>\n      <path d=\"M 30.609375 48.390625 \nQ 23.390625 48.390625 19.1875 42.75 \nQ 14.984375 37.109375 14.984375 27.296875 \nQ 14.984375 17.484375 19.15625 11.84375 \nQ 23.34375 6.203125 30.609375 6.203125 \nQ 37.796875 6.203125 41.984375 11.859375 \nQ 46.1875 17.53125 46.1875 27.296875 \nQ 46.1875 37.015625 41.984375 42.703125 \nQ 37.796875 48.390625 30.609375 48.390625 \nz\nM 30.609375 56 \nQ 42.328125 56 49.015625 48.375 \nQ 55.71875 40.765625 55.71875 27.296875 \nQ 55.71875 13.875 49.015625 6.21875 \nQ 42.328125 -1.421875 30.609375 -1.421875 \nQ 18.84375 -1.421875 12.171875 6.21875 \nQ 5.515625 13.875 5.515625 27.296875 \nQ 5.515625 40.765625 12.171875 48.375 \nQ 18.84375 56 30.609375 56 \nz\n\" id=\"DejaVuSans-111\"/>\n      <path d=\"M 48.78125 52.59375 \nL 48.78125 44.1875 \nQ 44.96875 46.296875 41.140625 47.34375 \nQ 37.3125 48.390625 33.40625 48.390625 \nQ 24.65625 48.390625 19.8125 42.84375 \nQ 14.984375 37.3125 14.984375 27.296875 \nQ 14.984375 17.28125 19.8125 11.734375 \nQ 24.65625 6.203125 33.40625 6.203125 \nQ 37.3125 6.203125 41.140625 7.25 \nQ 44.96875 8.296875 48.78125 10.40625 \nL 48.78125 2.09375 \nQ 45.015625 0.34375 40.984375 -0.53125 \nQ 36.96875 -1.421875 32.421875 -1.421875 \nQ 20.0625 -1.421875 12.78125 6.34375 \nQ 5.515625 14.109375 5.515625 27.296875 \nQ 5.515625 40.671875 12.859375 48.328125 \nQ 20.21875 56 33.015625 56 \nQ 37.15625 56 41.109375 55.140625 \nQ 45.0625 54.296875 48.78125 52.59375 \nz\n\" id=\"DejaVuSans-99\"/>\n      <path d=\"M 54.890625 33.015625 \nL 54.890625 0 \nL 45.90625 0 \nL 45.90625 32.71875 \nQ 45.90625 40.484375 42.875 44.328125 \nQ 39.84375 48.1875 33.796875 48.1875 \nQ 26.515625 48.1875 22.3125 43.546875 \nQ 18.109375 38.921875 18.109375 30.90625 \nL 18.109375 0 \nL 9.078125 0 \nL 9.078125 75.984375 \nL 18.109375 75.984375 \nL 18.109375 46.1875 \nQ 21.34375 51.125 25.703125 53.5625 \nQ 30.078125 56 35.796875 56 \nQ 45.21875 56 50.046875 50.171875 \nQ 54.890625 44.34375 54.890625 33.015625 \nz\n\" id=\"DejaVuSans-104\"/>\n     </defs>\n     <g transform=\"translate(112.525 171.376563)scale(0.1 -0.1)\">\n      <use xlink:href=\"#DejaVuSans-101\"/>\n      <use x=\"61.523438\" xlink:href=\"#DejaVuSans-112\"/>\n      <use x=\"125\" xlink:href=\"#DejaVuSans-111\"/>\n      <use x=\"186.181641\" xlink:href=\"#DejaVuSans-99\"/>\n      <use x=\"241.162109\" xlink:href=\"#DejaVuSans-104\"/>\n     </g>\n    </g>\n   </g>\n   <g id=\"matplotlib.axis_2\">\n    <g id=\"ytick_1\">\n     <g id=\"line2d_11\">\n      <path clip-path=\"url(#p8c66be9e37)\" d=\"M 30.103125 120.45 \nL 225.403125 120.45 \n\" style=\"fill:none;stroke:#b0b0b0;stroke-linecap:square;stroke-width:0.8;\"/>\n     </g>\n     <g id=\"line2d_12\">\n      <defs>\n       <path d=\"M 0 0 \nL -3.5 0 \n\" id=\"md55ffd7ac7\" style=\"stroke:#000000;stroke-width:0.8;\"/>\n      </defs>\n      <g>\n       <use style=\"stroke:#000000;stroke-width:0.8;\" x=\"30.103125\" xlink:href=\"#md55ffd7ac7\" y=\"120.45\"/>\n      </g>\n     </g>\n     <g id=\"text_7\">\n      <!-- 0.4 -->\n      <defs>\n       <path d=\"M 10.6875 12.40625 \nL 21 12.40625 \nL 21 0 \nL 10.6875 0 \nz\n\" id=\"DejaVuSans-46\"/>\n      </defs>\n      <g transform=\"translate(7.2 124.249219)scale(0.1 -0.1)\">\n       <use xlink:href=\"#DejaVuSans-48\"/>\n       <use x=\"63.623047\" xlink:href=\"#DejaVuSans-46\"/>\n       <use x=\"95.410156\" xlink:href=\"#DejaVuSans-52\"/>\n      </g>\n     </g>\n    </g>\n    <g id=\"ytick_2\">\n     <g id=\"line2d_13\">\n      <path clip-path=\"url(#p8c66be9e37)\" d=\"M 30.103125 75.15 \nL 225.403125 75.15 \n\" style=\"fill:none;stroke:#b0b0b0;stroke-linecap:square;stroke-width:0.8;\"/>\n     </g>\n     <g id=\"line2d_14\">\n      <g>\n       <use style=\"stroke:#000000;stroke-width:0.8;\" x=\"30.103125\" xlink:href=\"#md55ffd7ac7\" y=\"75.15\"/>\n      </g>\n     </g>\n     <g id=\"text_8\">\n      <!-- 0.6 -->\n      <g transform=\"translate(7.2 78.949219)scale(0.1 -0.1)\">\n       <use xlink:href=\"#DejaVuSans-48\"/>\n       <use x=\"63.623047\" xlink:href=\"#DejaVuSans-46\"/>\n       <use x=\"95.410156\" xlink:href=\"#DejaVuSans-54\"/>\n      </g>\n     </g>\n    </g>\n    <g id=\"ytick_3\">\n     <g id=\"line2d_15\">\n      <path clip-path=\"url(#p8c66be9e37)\" d=\"M 30.103125 29.85 \nL 225.403125 29.85 \n\" style=\"fill:none;stroke:#b0b0b0;stroke-linecap:square;stroke-width:0.8;\"/>\n     </g>\n     <g id=\"line2d_16\">\n      <g>\n       <use style=\"stroke:#000000;stroke-width:0.8;\" x=\"30.103125\" xlink:href=\"#md55ffd7ac7\" y=\"29.85\"/>\n      </g>\n     </g>\n     <g id=\"text_9\">\n      <!-- 0.8 -->\n      <g transform=\"translate(7.2 33.649219)scale(0.1 -0.1)\">\n       <use xlink:href=\"#DejaVuSans-48\"/>\n       <use x=\"63.623047\" xlink:href=\"#DejaVuSans-46\"/>\n       <use x=\"95.410156\" xlink:href=\"#DejaVuSans-56\"/>\n      </g>\n     </g>\n    </g>\n   </g>\n   <g id=\"line2d_17\">\n    <path clip-path=\"url(#p8c66be9e37)\" d=\"M 30.103125 33.635431 \nL 51.803125 81.759356 \nL 73.503125 91.971816 \nL 95.203125 97.717503 \nL 116.903125 100.94043 \nL 138.603125 103.747254 \nL 160.303125 105.863509 \nL 182.003125 107.23133 \nL 203.703125 108.657364 \nL 225.403125 109.942596 \n\" style=\"fill:none;stroke:#1f77b4;stroke-linecap:square;stroke-width:1.5;\"/>\n   </g>\n   <g id=\"line2d_18\">\n    <path clip-path=\"url(#p8c66be9e37)\" d=\"M 30.103125 40.94095 \nL 51.803125 27.037625 \nL 73.503125 24.0516 \nL 95.203125 22.235825 \nL 116.903125 21.541225 \nL 138.603125 20.54085 \nL 160.303125 20.10295 \nL 182.003125 19.6273 \nL 203.703125 19.0535 \nL 225.403125 18.8723 \n\" style=\"fill:none;stroke:#bf00bf;stroke-dasharray:5.55,2.4;stroke-dashoffset:0;stroke-width:1.5;\"/>\n   </g>\n   <g id=\"line2d_19\">\n    <path clip-path=\"url(#p8c66be9e37)\" d=\"M 30.103125 33.08895 \nL 51.803125 29.6688 \nL 73.503125 27.10935 \nL 95.203125 24.61785 \nL 116.903125 24.5952 \nL 138.603125 25.8183 \nL 160.303125 25.25205 \nL 182.003125 23.48535 \nL 203.703125 22.98705 \nL 225.403125 22.2396 \n\" style=\"fill:none;stroke:#008000;stroke-dasharray:9.6,2.4,1.5,2.4;stroke-dashoffset:0;stroke-width:1.5;\"/>\n   </g>\n   <g id=\"patch_3\">\n    <path d=\"M 30.103125 143.1 \nL 30.103125 7.2 \n\" style=\"fill:none;stroke:#000000;stroke-linecap:square;stroke-linejoin:miter;stroke-width:0.8;\"/>\n   </g>\n   <g id=\"patch_4\">\n    <path d=\"M 225.403125 143.1 \nL 225.403125 7.2 \n\" style=\"fill:none;stroke:#000000;stroke-linecap:square;stroke-linejoin:miter;stroke-width:0.8;\"/>\n   </g>\n   <g id=\"patch_5\">\n    <path d=\"M 30.103125 143.1 \nL 225.403125 143.1 \n\" style=\"fill:none;stroke:#000000;stroke-linecap:square;stroke-linejoin:miter;stroke-width:0.8;\"/>\n   </g>\n   <g id=\"patch_6\">\n    <path d=\"M 30.103125 7.2 \nL 225.403125 7.2 \n\" style=\"fill:none;stroke:#000000;stroke-linecap:square;stroke-linejoin:miter;stroke-width:0.8;\"/>\n   </g>\n   <g id=\"legend_1\">\n    <g id=\"patch_7\">\n     <path d=\"M 140.634375 98.667187 \nL 218.403125 98.667187 \nQ 220.403125 98.667187 220.403125 96.667187 \nL 220.403125 53.632812 \nQ 220.403125 51.632812 218.403125 51.632812 \nL 140.634375 51.632812 \nQ 138.634375 51.632812 138.634375 53.632812 \nL 138.634375 96.667187 \nQ 138.634375 98.667187 140.634375 98.667187 \nz\n\" style=\"fill:#ffffff;opacity:0.8;stroke:#cccccc;stroke-linejoin:miter;\"/>\n    </g>\n    <g id=\"line2d_20\">\n     <path d=\"M 142.634375 59.73125 \nL 162.634375 59.73125 \n\" style=\"fill:none;stroke:#1f77b4;stroke-linecap:square;stroke-width:1.5;\"/>\n    </g>\n    <g id=\"line2d_21\"/>\n    <g id=\"text_10\">\n     <!-- train loss -->\n     <defs>\n      <path d=\"M 18.3125 70.21875 \nL 18.3125 54.6875 \nL 36.8125 54.6875 \nL 36.8125 47.703125 \nL 18.3125 47.703125 \nL 18.3125 18.015625 \nQ 18.3125 11.328125 20.140625 9.421875 \nQ 21.96875 7.515625 27.59375 7.515625 \nL 36.8125 7.515625 \nL 36.8125 0 \nL 27.59375 0 \nQ 17.1875 0 13.234375 3.875 \nQ 9.28125 7.765625 9.28125 18.015625 \nL 9.28125 47.703125 \nL 2.6875 47.703125 \nL 2.6875 54.6875 \nL 9.28125 54.6875 \nL 9.28125 70.21875 \nz\n\" id=\"DejaVuSans-116\"/>\n      <path d=\"M 41.109375 46.296875 \nQ 39.59375 47.171875 37.8125 47.578125 \nQ 36.03125 48 33.890625 48 \nQ 26.265625 48 22.1875 43.046875 \nQ 18.109375 38.09375 18.109375 28.8125 \nL 18.109375 0 \nL 9.078125 0 \nL 9.078125 54.6875 \nL 18.109375 54.6875 \nL 18.109375 46.1875 \nQ 20.953125 51.171875 25.484375 53.578125 \nQ 30.03125 56 36.53125 56 \nQ 37.453125 56 38.578125 55.875 \nQ 39.703125 55.765625 41.0625 55.515625 \nz\n\" id=\"DejaVuSans-114\"/>\n      <path d=\"M 34.28125 27.484375 \nQ 23.390625 27.484375 19.1875 25 \nQ 14.984375 22.515625 14.984375 16.5 \nQ 14.984375 11.71875 18.140625 8.90625 \nQ 21.296875 6.109375 26.703125 6.109375 \nQ 34.1875 6.109375 38.703125 11.40625 \nQ 43.21875 16.703125 43.21875 25.484375 \nL 43.21875 27.484375 \nz\nM 52.203125 31.203125 \nL 52.203125 0 \nL 43.21875 0 \nL 43.21875 8.296875 \nQ 40.140625 3.328125 35.546875 0.953125 \nQ 30.953125 -1.421875 24.3125 -1.421875 \nQ 15.921875 -1.421875 10.953125 3.296875 \nQ 6 8.015625 6 15.921875 \nQ 6 25.140625 12.171875 29.828125 \nQ 18.359375 34.515625 30.609375 34.515625 \nL 43.21875 34.515625 \nL 43.21875 35.40625 \nQ 43.21875 41.609375 39.140625 45 \nQ 35.0625 48.390625 27.6875 48.390625 \nQ 23 48.390625 18.546875 47.265625 \nQ 14.109375 46.140625 10.015625 43.890625 \nL 10.015625 52.203125 \nQ 14.9375 54.109375 19.578125 55.046875 \nQ 24.21875 56 28.609375 56 \nQ 40.484375 56 46.34375 49.84375 \nQ 52.203125 43.703125 52.203125 31.203125 \nz\n\" id=\"DejaVuSans-97\"/>\n      <path d=\"M 9.421875 54.6875 \nL 18.40625 54.6875 \nL 18.40625 0 \nL 9.421875 0 \nz\nM 9.421875 75.984375 \nL 18.40625 75.984375 \nL 18.40625 64.59375 \nL 9.421875 64.59375 \nz\n\" id=\"DejaVuSans-105\"/>\n      <path d=\"M 54.890625 33.015625 \nL 54.890625 0 \nL 45.90625 0 \nL 45.90625 32.71875 \nQ 45.90625 40.484375 42.875 44.328125 \nQ 39.84375 48.1875 33.796875 48.1875 \nQ 26.515625 48.1875 22.3125 43.546875 \nQ 18.109375 38.921875 18.109375 30.90625 \nL 18.109375 0 \nL 9.078125 0 \nL 9.078125 54.6875 \nL 18.109375 54.6875 \nL 18.109375 46.1875 \nQ 21.34375 51.125 25.703125 53.5625 \nQ 30.078125 56 35.796875 56 \nQ 45.21875 56 50.046875 50.171875 \nQ 54.890625 44.34375 54.890625 33.015625 \nz\n\" id=\"DejaVuSans-110\"/>\n      <path id=\"DejaVuSans-32\"/>\n      <path d=\"M 9.421875 75.984375 \nL 18.40625 75.984375 \nL 18.40625 0 \nL 9.421875 0 \nz\n\" id=\"DejaVuSans-108\"/>\n      <path d=\"M 44.28125 53.078125 \nL 44.28125 44.578125 \nQ 40.484375 46.53125 36.375 47.5 \nQ 32.28125 48.484375 27.875 48.484375 \nQ 21.1875 48.484375 17.84375 46.4375 \nQ 14.5 44.390625 14.5 40.28125 \nQ 14.5 37.15625 16.890625 35.375 \nQ 19.28125 33.59375 26.515625 31.984375 \nL 29.59375 31.296875 \nQ 39.15625 29.25 43.1875 25.515625 \nQ 47.21875 21.78125 47.21875 15.09375 \nQ 47.21875 7.46875 41.1875 3.015625 \nQ 35.15625 -1.421875 24.609375 -1.421875 \nQ 20.21875 -1.421875 15.453125 -0.5625 \nQ 10.6875 0.296875 5.421875 2 \nL 5.421875 11.28125 \nQ 10.40625 8.6875 15.234375 7.390625 \nQ 20.0625 6.109375 24.8125 6.109375 \nQ 31.15625 6.109375 34.5625 8.28125 \nQ 37.984375 10.453125 37.984375 14.40625 \nQ 37.984375 18.0625 35.515625 20.015625 \nQ 33.0625 21.96875 24.703125 23.78125 \nL 21.578125 24.515625 \nQ 13.234375 26.265625 9.515625 29.90625 \nQ 5.8125 33.546875 5.8125 39.890625 \nQ 5.8125 47.609375 11.28125 51.796875 \nQ 16.75 56 26.8125 56 \nQ 31.78125 56 36.171875 55.265625 \nQ 40.578125 54.546875 44.28125 53.078125 \nz\n\" id=\"DejaVuSans-115\"/>\n     </defs>\n     <g transform=\"translate(170.634375 63.23125)scale(0.1 -0.1)\">\n      <use xlink:href=\"#DejaVuSans-116\"/>\n      <use x=\"39.208984\" xlink:href=\"#DejaVuSans-114\"/>\n      <use x=\"80.322266\" xlink:href=\"#DejaVuSans-97\"/>\n      <use x=\"141.601562\" xlink:href=\"#DejaVuSans-105\"/>\n      <use x=\"169.384766\" xlink:href=\"#DejaVuSans-110\"/>\n      <use x=\"232.763672\" xlink:href=\"#DejaVuSans-32\"/>\n      <use x=\"264.550781\" xlink:href=\"#DejaVuSans-108\"/>\n      <use x=\"292.333984\" xlink:href=\"#DejaVuSans-111\"/>\n      <use x=\"353.515625\" xlink:href=\"#DejaVuSans-115\"/>\n      <use x=\"405.615234\" xlink:href=\"#DejaVuSans-115\"/>\n     </g>\n    </g>\n    <g id=\"line2d_22\">\n     <path d=\"M 142.634375 74.409375 \nL 162.634375 74.409375 \n\" style=\"fill:none;stroke:#bf00bf;stroke-dasharray:5.55,2.4;stroke-dashoffset:0;stroke-width:1.5;\"/>\n    </g>\n    <g id=\"line2d_23\"/>\n    <g id=\"text_11\">\n     <!-- train acc -->\n     <g transform=\"translate(170.634375 77.909375)scale(0.1 -0.1)\">\n      <use xlink:href=\"#DejaVuSans-116\"/>\n      <use x=\"39.208984\" xlink:href=\"#DejaVuSans-114\"/>\n      <use x=\"80.322266\" xlink:href=\"#DejaVuSans-97\"/>\n      <use x=\"141.601562\" xlink:href=\"#DejaVuSans-105\"/>\n      <use x=\"169.384766\" xlink:href=\"#DejaVuSans-110\"/>\n      <use x=\"232.763672\" xlink:href=\"#DejaVuSans-32\"/>\n      <use x=\"264.550781\" xlink:href=\"#DejaVuSans-97\"/>\n      <use x=\"325.830078\" xlink:href=\"#DejaVuSans-99\"/>\n      <use x=\"380.810547\" xlink:href=\"#DejaVuSans-99\"/>\n     </g>\n    </g>\n    <g id=\"line2d_24\">\n     <path d=\"M 142.634375 89.0875 \nL 162.634375 89.0875 \n\" style=\"fill:none;stroke:#008000;stroke-dasharray:9.6,2.4,1.5,2.4;stroke-dashoffset:0;stroke-width:1.5;\"/>\n    </g>\n    <g id=\"line2d_25\"/>\n    <g id=\"text_12\">\n     <!-- test acc -->\n     <g transform=\"translate(170.634375 92.5875)scale(0.1 -0.1)\">\n      <use xlink:href=\"#DejaVuSans-116\"/>\n      <use x=\"39.208984\" xlink:href=\"#DejaVuSans-101\"/>\n      <use x=\"100.732422\" xlink:href=\"#DejaVuSans-115\"/>\n      <use x=\"152.832031\" xlink:href=\"#DejaVuSans-116\"/>\n      <use x=\"192.041016\" xlink:href=\"#DejaVuSans-32\"/>\n      <use x=\"223.828125\" xlink:href=\"#DejaVuSans-97\"/>\n      <use x=\"285.107422\" xlink:href=\"#DejaVuSans-99\"/>\n      <use x=\"340.087891\" xlink:href=\"#DejaVuSans-99\"/>\n     </g>\n    </g>\n   </g>\n  </g>\n </g>\n <defs>\n  <clipPath id=\"p8c66be9e37\">\n   <rect height=\"135.9\" width=\"195.3\" x=\"30.103125\" y=\"7.2\"/>\n  </clipPath>\n </defs>\n</svg>\n",
            "text/plain": [
              "<Figure size 252x180 with 1 Axes>"
            ]
          },
          "metadata": {
            "needs_background": "light"
          },
          "output_type": "display_data"
        }
      ],
      "source": [
        "num_epochs = 10\n",
        "d2l.train_ch3(net, train_iter, test_iter, loss, num_epochs, trainer)"
      ]
    },
    {
      "cell_type": "markdown",
      "metadata": {
        "id": "-ISBy2jOoEZ-"
      },
      "source": [
        "## 세션 때 배운 코드를 복습해봐요 😀\n",
        "\n",
        "**강의자료 보지않고 빈 칸 채워보기!**"
      ]
    },
    {
      "cell_type": "markdown",
      "metadata": {
        "id": "z-OCeRwE501A"
      },
      "source": [
        "# Numpy"
      ]
    },
    {
      "cell_type": "markdown",
      "metadata": {
        "id": "LInG3TtLpd5f"
      },
      "source": [
        "### data generation"
      ]
    },
    {
      "cell_type": "code",
      "execution_count": null,
      "metadata": {
        "id": "HJFKULjNo1q6"
      },
      "outputs": [],
      "source": [
        "import numpy as np\n",
        "\n",
        "true_b = 1\n",
        "true_w = 2\n",
        "\n",
        "N = 100\n",
        "\n",
        "np.random.seed(42)\n",
        "x = np.random.rand(N,1)  # Uniform\n",
        "epsilon = (0.1 * np.random.randn(N,1))  # standard normal dist  # noise\n",
        "y = ## 빈칸을 채워주세요. ##"
      ]
    },
    {
      "cell_type": "markdown",
      "metadata": {
        "id": "xEh5L8Fwp3w7"
      },
      "source": [
        "### Train-Validation Split"
      ]
    },
    {
      "cell_type": "code",
      "execution_count": null,
      "metadata": {
        "id": "UJHEKRqspwmj"
      },
      "outputs": [],
      "source": [
        "# Shuffles the indices\n",
        "idx = np.arange(N)\n",
        "split_index = int(N * 0.8)\n",
        "\n",
        "train_idx = idx[## 빈칸을 채워주세요. ##]\n",
        "val_idx = idx[## 빈칸을 채워주세요. ##]\n",
        "\n",
        "# Generates train and validation sets\n",
        "x_train, y_train = x[train_idx], y[train_idx]\n",
        "x_val, y_val = x[val_idx], y[val_idx]"
      ]
    },
    {
      "cell_type": "markdown",
      "metadata": {
        "id": "PoIr7k6ox4AG"
      },
      "source": [
        "### Gradient Descent for Linear Regression"
      ]
    },
    {
      "cell_type": "code",
      "execution_count": null,
      "metadata": {
        "id": "aCBAfjBstQuf"
      },
      "outputs": [],
      "source": [
        "# 실행시간을 측정해주는 Decorator 입니다.\n",
        "\n",
        "import time\n",
        "def timer(func):\n",
        "  def wrapper(*args, **kwargs):\n",
        "    start_time = time.time()\n",
        "    result = func(*args, **kwargs)\n",
        "    end_time = time.time()\n",
        "    computation_time = end_time - start_time\n",
        "    print(f\"Execution time of {func.__name__}: {computation_time} seconds\")\n",
        "    return result\n",
        "  return wrapper"
      ]
    },
    {
      "cell_type": "code",
      "execution_count": null,
      "metadata": {
        "id": "Xp67TxhNx3Sb"
      },
      "outputs": [],
      "source": [
        "@timer\n",
        "def train_model_numpy(lr = 0.1, epochs = 1000):\n",
        "  # Initialize parameters\n",
        "  b = np.random.randn(1)\n",
        "  w = np.random.randn(1)\n",
        "\n",
        "  for epoch in range(epochs):\n",
        "    # Loss computation\n",
        "    y_hat = b + w * x_train\n",
        "    error = (y_hat - y_train)\n",
        "    mse_loss = ## 빈칸을 채워주세요. ##\n",
        "\n",
        "    # Gradient computation\n",
        "    b_grad = ## 빈칸을 채워주세요. ## 미분 어떻게 했었죠?ㅎㅎ\n",
        "    w_grad = ## 빈칸을 채워주세요. ##\n",
        "    b = b - lr * b_grad\n",
        "    w = w - lr * w_grad\n",
        "  return b, w\n"
      ]
    },
    {
      "cell_type": "code",
      "execution_count": null,
      "metadata": {
        "colab": {
          "base_uri": "https://localhost:8080/"
        },
        "id": "eHhjWAi94Qkb",
        "outputId": "abba390f-a447-4883-a19d-e078d6a6901f"
      },
      "outputs": [
        {
          "name": "stdout",
          "output_type": "stream",
          "text": [
            "Execution time of train_model_numpy: 0.031105756759643555 seconds\n",
            "b_estimate:[1.02341376], w_estimate:[1.93680725]\n"
          ]
        }
      ],
      "source": [
        "b, w = train_model_numpy()\n",
        "print(\"b_estimate:{}, w_estimate:{}\".format(b,w))"
      ]
    },
    {
      "cell_type": "markdown",
      "metadata": {
        "id": "Cztmazj1534o"
      },
      "source": [
        "# Pytorch"
      ]
    },
    {
      "cell_type": "markdown",
      "metadata": {
        "id": "gBaXz1OL6LPP"
      },
      "source": [
        "### Data Generation"
      ]
    },
    {
      "cell_type": "code",
      "execution_count": null,
      "metadata": {
        "id": "rtyfd4_95zzv"
      },
      "outputs": [],
      "source": [
        "import torch\n",
        "\n",
        "# create tensor at CPU:\n",
        "x_train_tensor = torch.as_tensor(x_train)\n",
        "y_train_tensor = torch.as_tensor(y_train)\n",
        "\n",
        "# create tensor ar GPU:\n",
        "## 빈칸을 채워주세요. ##  # GPU가 현재 연결이 되어있다면 cuda를 콜하겠다. 아니면 cpu 쓰겠다! 하는 코드\n",
        "x_train_tensor = torch.as_tensor(x_train).to(device)\n",
        "y_train_tensor = torch.as_tensor(y_train).to(device)\n"
      ]
    },
    {
      "cell_type": "markdown",
      "metadata": {
        "id": "AO0Yof1p8FUW"
      },
      "source": [
        "### Gradient Descent"
      ]
    },
    {
      "cell_type": "code",
      "execution_count": null,
      "metadata": {
        "id": "rX-WAf4b7ljU"
      },
      "outputs": [],
      "source": [
        "@timer\n",
        "def train_model_torch(lr = 0.1, epochs=1000):\n",
        "  # Initialize parameters\n",
        "  b = torch.randn(1, ## 빈칸을 채워주세요. ##)\n",
        "  w = torch.randn(1, ## 빈칸을 채워주세요. ##)\n",
        "\n",
        "  for epoch in range(epochs):\n",
        "    # Loss computation\n",
        "    y_hat = b + w * x_train_tensor\n",
        "    error = (y_hat - y_train_tensor)\n",
        "    mse_loss = ## 빈칸을 채워주세요. ##\n",
        "    # Gradient computation and descent\n",
        "    mse_loss.backward()\n",
        "    ## 빈칸을 채워주세요. ## # 경사 하강법 할 땐 auto grad 끄고 하는 게 좋죠!\n",
        "      b ## 빈칸을 채워주세요. ##  # in-place operation 써줘야합니다!\n",
        "      w ## 빈칸을 채워주세요. ##\n",
        "    b.## 빈칸을 채워주세요. ## # gradient 초기화 시켜줘야해요. 안 하면 누적합으로 계산하기 때문에!\n",
        "    w.## 빈칸을 채워주세요. ##\n",
        "  return b, w"
      ]
    },
    {
      "cell_type": "code",
      "execution_count": null,
      "metadata": {
        "colab": {
          "base_uri": "https://localhost:8080/"
        },
        "id": "7JfprsWdBAFg",
        "outputId": "bf316a37-a530-4487-ae72-3b3d8d20ddac"
      },
      "outputs": [
        {
          "name": "stdout",
          "output_type": "stream",
          "text": [
            "Execution time of train_model_torch: 0.5386159420013428 seconds\n",
            "b_estimate:tensor([1.0234], device='cuda:0', requires_grad=True), w_estimate:tensor([1.9368], device='cuda:0', requires_grad=True)\n"
          ]
        }
      ],
      "source": [
        "b, w = train_model_torch()\n",
        "print(\"b_estimate:{}, w_estimate:{}\".format(b,w))"
      ]
    },
    {
      "cell_type": "markdown",
      "metadata": {
        "id": "Ju4y0iMOraU6"
      },
      "source": [
        "**optimizer 를 사용해서 gradient descent 를 하는 방법도 있어요!**"
      ]
    },
    {
      "cell_type": "code",
      "execution_count": null,
      "metadata": {
        "id": "dslxhYqC_-f4"
      },
      "outputs": [],
      "source": [
        "import torch.optim as optim\n",
        "import torch.nn as nn\n",
        "\n",
        "@timer\n",
        "def train_model_torch(lr = 0.1, epochs=1000):\n",
        "  # Initialize parameters\n",
        "  b = torch.randn(1, requires_grad = True, dtype = torch.float, device = device)\n",
        "  w = torch.randn(1, requires_grad = True, dtype = torch.float, device = device)\n",
        "  parameters = [b, w]\n",
        "  optimizer = optim.SGD(parameters, lr = lr)\n",
        "  mse_loss = nn.MSELoss()\n",
        "\n",
        "  for epoch in range(epochs):\n",
        "    # Loss computation\n",
        "    y_hat = b + w * x_train_tensor\n",
        "    loss = mse_loss(y_hat, y_train_tensor)\n",
        "    # Gradient computation and descent\n",
        "    loss.backward()\n",
        "    optimizer.step() # 경사하강법 연산, step 한 번을 밟는다!\n",
        "    optimizer.zero_grad()\n",
        "  return b, w"
      ]
    },
    {
      "cell_type": "code",
      "execution_count": null,
      "metadata": {
        "colab": {
          "base_uri": "https://localhost:8080/"
        },
        "id": "7Z8B2wvuFgq2",
        "outputId": "2ce9fe7c-375b-448f-8e39-c9f8f031cc83"
      },
      "outputs": [
        {
          "name": "stdout",
          "output_type": "stream",
          "text": [
            "Execution time of train_model_torch: 0.6350758075714111 seconds\n",
            "b_estimate:tensor([1.0234], device='cuda:0', requires_grad=True), w_estimate:tensor([1.9368], device='cuda:0', requires_grad=True)\n"
          ]
        }
      ],
      "source": [
        "b, w = train_model_torch()\n",
        "print(\"b_estimate:{}, w_estimate:{}\".format(b,w))"
      ]
    }
  ],
  "metadata": {
    "colab": {
      "provenance": []
    },
    "kernelspec": {
      "display_name": "Python 3.10.6 64-bit ('3.10.6')",
      "language": "python",
      "name": "python3"
    },
    "language_info": {
      "codemirror_mode": {
        "name": "ipython",
        "version": 3
      },
      "file_extension": ".py",
      "mimetype": "text/x-python",
      "name": "python",
      "nbconvert_exporter": "python",
      "pygments_lexer": "ipython3",
      "version": "3.10.6"
    },
    "vscode": {
      "interpreter": {
        "hash": "a6bbcf36dc5df263ca68502d6771d4ac689cc117f1ed616cc5072a0f313fc5b7"
      }
    },
    "widgets": {
      "application/vnd.jupyter.widget-state+json": {
        "05d449267a8e41fc932c7a0d679dfbac": {
          "model_module": "@jupyter-widgets/controls",
          "model_module_version": "1.5.0",
          "model_name": "DescriptionStyleModel",
          "state": {
            "_model_module": "@jupyter-widgets/controls",
            "_model_module_version": "1.5.0",
            "_model_name": "DescriptionStyleModel",
            "_view_count": null,
            "_view_module": "@jupyter-widgets/base",
            "_view_module_version": "1.2.0",
            "_view_name": "StyleView",
            "description_width": ""
          }
        },
        "09818dd755d641bebe820df0c89e061e": {
          "model_module": "@jupyter-widgets/controls",
          "model_module_version": "1.5.0",
          "model_name": "DescriptionStyleModel",
          "state": {
            "_model_module": "@jupyter-widgets/controls",
            "_model_module_version": "1.5.0",
            "_model_name": "DescriptionStyleModel",
            "_view_count": null,
            "_view_module": "@jupyter-widgets/base",
            "_view_module_version": "1.2.0",
            "_view_name": "StyleView",
            "description_width": ""
          }
        },
        "10138ab0dcc249e080a105f95e8a09c4": {
          "model_module": "@jupyter-widgets/controls",
          "model_module_version": "1.5.0",
          "model_name": "FloatProgressModel",
          "state": {
            "_dom_classes": [],
            "_model_module": "@jupyter-widgets/controls",
            "_model_module_version": "1.5.0",
            "_model_name": "FloatProgressModel",
            "_view_count": null,
            "_view_module": "@jupyter-widgets/controls",
            "_view_module_version": "1.5.0",
            "_view_name": "ProgressView",
            "bar_style": "success",
            "description": "",
            "description_tooltip": null,
            "layout": "IPY_MODEL_6a3aab710f9248fd871b0a444129f654",
            "max": 4422102,
            "min": 0,
            "orientation": "horizontal",
            "style": "IPY_MODEL_7c4fbacb3932459d88ccbf0cd224b7ed",
            "value": 4422102
          }
        },
        "14faa392024249c48de703d1d9ea5683": {
          "model_module": "@jupyter-widgets/controls",
          "model_module_version": "1.5.0",
          "model_name": "ProgressStyleModel",
          "state": {
            "_model_module": "@jupyter-widgets/controls",
            "_model_module_version": "1.5.0",
            "_model_name": "ProgressStyleModel",
            "_view_count": null,
            "_view_module": "@jupyter-widgets/base",
            "_view_module_version": "1.2.0",
            "_view_name": "StyleView",
            "bar_color": null,
            "description_width": ""
          }
        },
        "1e9dda5bfc5f4c13b731d8fe09f78ce5": {
          "model_module": "@jupyter-widgets/base",
          "model_module_version": "1.2.0",
          "model_name": "LayoutModel",
          "state": {
            "_model_module": "@jupyter-widgets/base",
            "_model_module_version": "1.2.0",
            "_model_name": "LayoutModel",
            "_view_count": null,
            "_view_module": "@jupyter-widgets/base",
            "_view_module_version": "1.2.0",
            "_view_name": "LayoutView",
            "align_content": null,
            "align_items": null,
            "align_self": null,
            "border": null,
            "bottom": null,
            "display": null,
            "flex": null,
            "flex_flow": null,
            "grid_area": null,
            "grid_auto_columns": null,
            "grid_auto_flow": null,
            "grid_auto_rows": null,
            "grid_column": null,
            "grid_gap": null,
            "grid_row": null,
            "grid_template_areas": null,
            "grid_template_columns": null,
            "grid_template_rows": null,
            "height": null,
            "justify_content": null,
            "justify_items": null,
            "left": null,
            "margin": null,
            "max_height": null,
            "max_width": null,
            "min_height": null,
            "min_width": null,
            "object_fit": null,
            "object_position": null,
            "order": null,
            "overflow": null,
            "overflow_x": null,
            "overflow_y": null,
            "padding": null,
            "right": null,
            "top": null,
            "visibility": null,
            "width": null
          }
        },
        "1fe1bea694f04f7eb098b082ac7db44c": {
          "model_module": "@jupyter-widgets/controls",
          "model_module_version": "1.5.0",
          "model_name": "HTMLModel",
          "state": {
            "_dom_classes": [],
            "_model_module": "@jupyter-widgets/controls",
            "_model_module_version": "1.5.0",
            "_model_name": "HTMLModel",
            "_view_count": null,
            "_view_module": "@jupyter-widgets/controls",
            "_view_module_version": "1.5.0",
            "_view_name": "HTMLView",
            "description": "",
            "description_tooltip": null,
            "layout": "IPY_MODEL_7a2a869ad9d64a2197b6187f26fefdfb",
            "placeholder": "​",
            "style": "IPY_MODEL_09818dd755d641bebe820df0c89e061e",
            "value": " 26421880/26421880 [00:01&lt;00:00, 26099792.73it/s]"
          }
        },
        "28ecd8e64de540929f5c6c306753d629": {
          "model_module": "@jupyter-widgets/base",
          "model_module_version": "1.2.0",
          "model_name": "LayoutModel",
          "state": {
            "_model_module": "@jupyter-widgets/base",
            "_model_module_version": "1.2.0",
            "_model_name": "LayoutModel",
            "_view_count": null,
            "_view_module": "@jupyter-widgets/base",
            "_view_module_version": "1.2.0",
            "_view_name": "LayoutView",
            "align_content": null,
            "align_items": null,
            "align_self": null,
            "border": null,
            "bottom": null,
            "display": null,
            "flex": null,
            "flex_flow": null,
            "grid_area": null,
            "grid_auto_columns": null,
            "grid_auto_flow": null,
            "grid_auto_rows": null,
            "grid_column": null,
            "grid_gap": null,
            "grid_row": null,
            "grid_template_areas": null,
            "grid_template_columns": null,
            "grid_template_rows": null,
            "height": null,
            "justify_content": null,
            "justify_items": null,
            "left": null,
            "margin": null,
            "max_height": null,
            "max_width": null,
            "min_height": null,
            "min_width": null,
            "object_fit": null,
            "object_position": null,
            "order": null,
            "overflow": null,
            "overflow_x": null,
            "overflow_y": null,
            "padding": null,
            "right": null,
            "top": null,
            "visibility": null,
            "width": null
          }
        },
        "2969695ae5c34df7bdff597e0afd1cdc": {
          "model_module": "@jupyter-widgets/base",
          "model_module_version": "1.2.0",
          "model_name": "LayoutModel",
          "state": {
            "_model_module": "@jupyter-widgets/base",
            "_model_module_version": "1.2.0",
            "_model_name": "LayoutModel",
            "_view_count": null,
            "_view_module": "@jupyter-widgets/base",
            "_view_module_version": "1.2.0",
            "_view_name": "LayoutView",
            "align_content": null,
            "align_items": null,
            "align_self": null,
            "border": null,
            "bottom": null,
            "display": null,
            "flex": null,
            "flex_flow": null,
            "grid_area": null,
            "grid_auto_columns": null,
            "grid_auto_flow": null,
            "grid_auto_rows": null,
            "grid_column": null,
            "grid_gap": null,
            "grid_row": null,
            "grid_template_areas": null,
            "grid_template_columns": null,
            "grid_template_rows": null,
            "height": null,
            "justify_content": null,
            "justify_items": null,
            "left": null,
            "margin": null,
            "max_height": null,
            "max_width": null,
            "min_height": null,
            "min_width": null,
            "object_fit": null,
            "object_position": null,
            "order": null,
            "overflow": null,
            "overflow_x": null,
            "overflow_y": null,
            "padding": null,
            "right": null,
            "top": null,
            "visibility": null,
            "width": null
          }
        },
        "2bf171ffa0454e598a242daf2c401660": {
          "model_module": "@jupyter-widgets/controls",
          "model_module_version": "1.5.0",
          "model_name": "HBoxModel",
          "state": {
            "_dom_classes": [],
            "_model_module": "@jupyter-widgets/controls",
            "_model_module_version": "1.5.0",
            "_model_name": "HBoxModel",
            "_view_count": null,
            "_view_module": "@jupyter-widgets/controls",
            "_view_module_version": "1.5.0",
            "_view_name": "HBoxView",
            "box_style": "",
            "children": [
              "IPY_MODEL_2d0f9883cdb74c719c26f7d5da8e13fa",
              "IPY_MODEL_9d2b16a8aa6643748c74c779f92e57f2",
              "IPY_MODEL_2d97c011ccb74358ba1741310053daf4"
            ],
            "layout": "IPY_MODEL_ab561858f71741b883f202ba6da47465"
          }
        },
        "2d0f9883cdb74c719c26f7d5da8e13fa": {
          "model_module": "@jupyter-widgets/controls",
          "model_module_version": "1.5.0",
          "model_name": "HTMLModel",
          "state": {
            "_dom_classes": [],
            "_model_module": "@jupyter-widgets/controls",
            "_model_module_version": "1.5.0",
            "_model_name": "HTMLModel",
            "_view_count": null,
            "_view_module": "@jupyter-widgets/controls",
            "_view_module_version": "1.5.0",
            "_view_name": "HTMLView",
            "description": "",
            "description_tooltip": null,
            "layout": "IPY_MODEL_5996ab99b9c6474892b73d900b03e342",
            "placeholder": "​",
            "style": "IPY_MODEL_8c6e2536053c4f8592c232d17aad2527",
            "value": "100%"
          }
        },
        "2d97c011ccb74358ba1741310053daf4": {
          "model_module": "@jupyter-widgets/controls",
          "model_module_version": "1.5.0",
          "model_name": "HTMLModel",
          "state": {
            "_dom_classes": [],
            "_model_module": "@jupyter-widgets/controls",
            "_model_module_version": "1.5.0",
            "_model_name": "HTMLModel",
            "_view_count": null,
            "_view_module": "@jupyter-widgets/controls",
            "_view_module_version": "1.5.0",
            "_view_name": "HTMLView",
            "description": "",
            "description_tooltip": null,
            "layout": "IPY_MODEL_28ecd8e64de540929f5c6c306753d629",
            "placeholder": "​",
            "style": "IPY_MODEL_ee9f41cc760344a9b1d5e7ba982cfad1",
            "value": " 5148/5148 [00:00&lt;00:00, 258779.19it/s]"
          }
        },
        "39af13c3ae9447b2ac296b593e47cab8": {
          "model_module": "@jupyter-widgets/controls",
          "model_module_version": "1.5.0",
          "model_name": "ProgressStyleModel",
          "state": {
            "_model_module": "@jupyter-widgets/controls",
            "_model_module_version": "1.5.0",
            "_model_name": "ProgressStyleModel",
            "_view_count": null,
            "_view_module": "@jupyter-widgets/base",
            "_view_module_version": "1.2.0",
            "_view_name": "StyleView",
            "bar_color": null,
            "description_width": ""
          }
        },
        "4c44e5017b4b4f5a864501c6ea4fc6b2": {
          "model_module": "@jupyter-widgets/controls",
          "model_module_version": "1.5.0",
          "model_name": "HTMLModel",
          "state": {
            "_dom_classes": [],
            "_model_module": "@jupyter-widgets/controls",
            "_model_module_version": "1.5.0",
            "_model_name": "HTMLModel",
            "_view_count": null,
            "_view_module": "@jupyter-widgets/controls",
            "_view_module_version": "1.5.0",
            "_view_name": "HTMLView",
            "description": "",
            "description_tooltip": null,
            "layout": "IPY_MODEL_1e9dda5bfc5f4c13b731d8fe09f78ce5",
            "placeholder": "​",
            "style": "IPY_MODEL_53ab9ef92f08494d9f195be0012d3b94",
            "value": "100%"
          }
        },
        "4c53c31744de4043bd144e9945d9d8d1": {
          "model_module": "@jupyter-widgets/controls",
          "model_module_version": "1.5.0",
          "model_name": "DescriptionStyleModel",
          "state": {
            "_model_module": "@jupyter-widgets/controls",
            "_model_module_version": "1.5.0",
            "_model_name": "DescriptionStyleModel",
            "_view_count": null,
            "_view_module": "@jupyter-widgets/base",
            "_view_module_version": "1.2.0",
            "_view_name": "StyleView",
            "description_width": ""
          }
        },
        "4dfcaae76a17407889ce9e71c1c6b7e0": {
          "model_module": "@jupyter-widgets/controls",
          "model_module_version": "1.5.0",
          "model_name": "ProgressStyleModel",
          "state": {
            "_model_module": "@jupyter-widgets/controls",
            "_model_module_version": "1.5.0",
            "_model_name": "ProgressStyleModel",
            "_view_count": null,
            "_view_module": "@jupyter-widgets/base",
            "_view_module_version": "1.2.0",
            "_view_name": "StyleView",
            "bar_color": null,
            "description_width": ""
          }
        },
        "4eeca8dd044a4ef18bc50d41fdf60570": {
          "model_module": "@jupyter-widgets/base",
          "model_module_version": "1.2.0",
          "model_name": "LayoutModel",
          "state": {
            "_model_module": "@jupyter-widgets/base",
            "_model_module_version": "1.2.0",
            "_model_name": "LayoutModel",
            "_view_count": null,
            "_view_module": "@jupyter-widgets/base",
            "_view_module_version": "1.2.0",
            "_view_name": "LayoutView",
            "align_content": null,
            "align_items": null,
            "align_self": null,
            "border": null,
            "bottom": null,
            "display": null,
            "flex": null,
            "flex_flow": null,
            "grid_area": null,
            "grid_auto_columns": null,
            "grid_auto_flow": null,
            "grid_auto_rows": null,
            "grid_column": null,
            "grid_gap": null,
            "grid_row": null,
            "grid_template_areas": null,
            "grid_template_columns": null,
            "grid_template_rows": null,
            "height": null,
            "justify_content": null,
            "justify_items": null,
            "left": null,
            "margin": null,
            "max_height": null,
            "max_width": null,
            "min_height": null,
            "min_width": null,
            "object_fit": null,
            "object_position": null,
            "order": null,
            "overflow": null,
            "overflow_x": null,
            "overflow_y": null,
            "padding": null,
            "right": null,
            "top": null,
            "visibility": null,
            "width": null
          }
        },
        "53ab9ef92f08494d9f195be0012d3b94": {
          "model_module": "@jupyter-widgets/controls",
          "model_module_version": "1.5.0",
          "model_name": "DescriptionStyleModel",
          "state": {
            "_model_module": "@jupyter-widgets/controls",
            "_model_module_version": "1.5.0",
            "_model_name": "DescriptionStyleModel",
            "_view_count": null,
            "_view_module": "@jupyter-widgets/base",
            "_view_module_version": "1.2.0",
            "_view_name": "StyleView",
            "description_width": ""
          }
        },
        "5996ab99b9c6474892b73d900b03e342": {
          "model_module": "@jupyter-widgets/base",
          "model_module_version": "1.2.0",
          "model_name": "LayoutModel",
          "state": {
            "_model_module": "@jupyter-widgets/base",
            "_model_module_version": "1.2.0",
            "_model_name": "LayoutModel",
            "_view_count": null,
            "_view_module": "@jupyter-widgets/base",
            "_view_module_version": "1.2.0",
            "_view_name": "LayoutView",
            "align_content": null,
            "align_items": null,
            "align_self": null,
            "border": null,
            "bottom": null,
            "display": null,
            "flex": null,
            "flex_flow": null,
            "grid_area": null,
            "grid_auto_columns": null,
            "grid_auto_flow": null,
            "grid_auto_rows": null,
            "grid_column": null,
            "grid_gap": null,
            "grid_row": null,
            "grid_template_areas": null,
            "grid_template_columns": null,
            "grid_template_rows": null,
            "height": null,
            "justify_content": null,
            "justify_items": null,
            "left": null,
            "margin": null,
            "max_height": null,
            "max_width": null,
            "min_height": null,
            "min_width": null,
            "object_fit": null,
            "object_position": null,
            "order": null,
            "overflow": null,
            "overflow_x": null,
            "overflow_y": null,
            "padding": null,
            "right": null,
            "top": null,
            "visibility": null,
            "width": null
          }
        },
        "5efd602e44264f39926c449ddaec0db5": {
          "model_module": "@jupyter-widgets/base",
          "model_module_version": "1.2.0",
          "model_name": "LayoutModel",
          "state": {
            "_model_module": "@jupyter-widgets/base",
            "_model_module_version": "1.2.0",
            "_model_name": "LayoutModel",
            "_view_count": null,
            "_view_module": "@jupyter-widgets/base",
            "_view_module_version": "1.2.0",
            "_view_name": "LayoutView",
            "align_content": null,
            "align_items": null,
            "align_self": null,
            "border": null,
            "bottom": null,
            "display": null,
            "flex": null,
            "flex_flow": null,
            "grid_area": null,
            "grid_auto_columns": null,
            "grid_auto_flow": null,
            "grid_auto_rows": null,
            "grid_column": null,
            "grid_gap": null,
            "grid_row": null,
            "grid_template_areas": null,
            "grid_template_columns": null,
            "grid_template_rows": null,
            "height": null,
            "justify_content": null,
            "justify_items": null,
            "left": null,
            "margin": null,
            "max_height": null,
            "max_width": null,
            "min_height": null,
            "min_width": null,
            "object_fit": null,
            "object_position": null,
            "order": null,
            "overflow": null,
            "overflow_x": null,
            "overflow_y": null,
            "padding": null,
            "right": null,
            "top": null,
            "visibility": null,
            "width": null
          }
        },
        "617a611d5d2f4df2ae18a9bf8fbe2e4d": {
          "model_module": "@jupyter-widgets/base",
          "model_module_version": "1.2.0",
          "model_name": "LayoutModel",
          "state": {
            "_model_module": "@jupyter-widgets/base",
            "_model_module_version": "1.2.0",
            "_model_name": "LayoutModel",
            "_view_count": null,
            "_view_module": "@jupyter-widgets/base",
            "_view_module_version": "1.2.0",
            "_view_name": "LayoutView",
            "align_content": null,
            "align_items": null,
            "align_self": null,
            "border": null,
            "bottom": null,
            "display": null,
            "flex": null,
            "flex_flow": null,
            "grid_area": null,
            "grid_auto_columns": null,
            "grid_auto_flow": null,
            "grid_auto_rows": null,
            "grid_column": null,
            "grid_gap": null,
            "grid_row": null,
            "grid_template_areas": null,
            "grid_template_columns": null,
            "grid_template_rows": null,
            "height": null,
            "justify_content": null,
            "justify_items": null,
            "left": null,
            "margin": null,
            "max_height": null,
            "max_width": null,
            "min_height": null,
            "min_width": null,
            "object_fit": null,
            "object_position": null,
            "order": null,
            "overflow": null,
            "overflow_x": null,
            "overflow_y": null,
            "padding": null,
            "right": null,
            "top": null,
            "visibility": null,
            "width": null
          }
        },
        "64e96e5ac68a44978177bddffd9dbbe3": {
          "model_module": "@jupyter-widgets/controls",
          "model_module_version": "1.5.0",
          "model_name": "FloatProgressModel",
          "state": {
            "_dom_classes": [],
            "_model_module": "@jupyter-widgets/controls",
            "_model_module_version": "1.5.0",
            "_model_name": "FloatProgressModel",
            "_view_count": null,
            "_view_module": "@jupyter-widgets/controls",
            "_view_module_version": "1.5.0",
            "_view_name": "ProgressView",
            "bar_style": "success",
            "description": "",
            "description_tooltip": null,
            "layout": "IPY_MODEL_5efd602e44264f39926c449ddaec0db5",
            "max": 26421880,
            "min": 0,
            "orientation": "horizontal",
            "style": "IPY_MODEL_14faa392024249c48de703d1d9ea5683",
            "value": 26421880
          }
        },
        "68219fd12b3a42e698633dbfeac4171b": {
          "model_module": "@jupyter-widgets/base",
          "model_module_version": "1.2.0",
          "model_name": "LayoutModel",
          "state": {
            "_model_module": "@jupyter-widgets/base",
            "_model_module_version": "1.2.0",
            "_model_name": "LayoutModel",
            "_view_count": null,
            "_view_module": "@jupyter-widgets/base",
            "_view_module_version": "1.2.0",
            "_view_name": "LayoutView",
            "align_content": null,
            "align_items": null,
            "align_self": null,
            "border": null,
            "bottom": null,
            "display": null,
            "flex": null,
            "flex_flow": null,
            "grid_area": null,
            "grid_auto_columns": null,
            "grid_auto_flow": null,
            "grid_auto_rows": null,
            "grid_column": null,
            "grid_gap": null,
            "grid_row": null,
            "grid_template_areas": null,
            "grid_template_columns": null,
            "grid_template_rows": null,
            "height": null,
            "justify_content": null,
            "justify_items": null,
            "left": null,
            "margin": null,
            "max_height": null,
            "max_width": null,
            "min_height": null,
            "min_width": null,
            "object_fit": null,
            "object_position": null,
            "order": null,
            "overflow": null,
            "overflow_x": null,
            "overflow_y": null,
            "padding": null,
            "right": null,
            "top": null,
            "visibility": null,
            "width": null
          }
        },
        "6a3aab710f9248fd871b0a444129f654": {
          "model_module": "@jupyter-widgets/base",
          "model_module_version": "1.2.0",
          "model_name": "LayoutModel",
          "state": {
            "_model_module": "@jupyter-widgets/base",
            "_model_module_version": "1.2.0",
            "_model_name": "LayoutModel",
            "_view_count": null,
            "_view_module": "@jupyter-widgets/base",
            "_view_module_version": "1.2.0",
            "_view_name": "LayoutView",
            "align_content": null,
            "align_items": null,
            "align_self": null,
            "border": null,
            "bottom": null,
            "display": null,
            "flex": null,
            "flex_flow": null,
            "grid_area": null,
            "grid_auto_columns": null,
            "grid_auto_flow": null,
            "grid_auto_rows": null,
            "grid_column": null,
            "grid_gap": null,
            "grid_row": null,
            "grid_template_areas": null,
            "grid_template_columns": null,
            "grid_template_rows": null,
            "height": null,
            "justify_content": null,
            "justify_items": null,
            "left": null,
            "margin": null,
            "max_height": null,
            "max_width": null,
            "min_height": null,
            "min_width": null,
            "object_fit": null,
            "object_position": null,
            "order": null,
            "overflow": null,
            "overflow_x": null,
            "overflow_y": null,
            "padding": null,
            "right": null,
            "top": null,
            "visibility": null,
            "width": null
          }
        },
        "70c48e35d6fa4e64865f1362ee8402ee": {
          "model_module": "@jupyter-widgets/base",
          "model_module_version": "1.2.0",
          "model_name": "LayoutModel",
          "state": {
            "_model_module": "@jupyter-widgets/base",
            "_model_module_version": "1.2.0",
            "_model_name": "LayoutModel",
            "_view_count": null,
            "_view_module": "@jupyter-widgets/base",
            "_view_module_version": "1.2.0",
            "_view_name": "LayoutView",
            "align_content": null,
            "align_items": null,
            "align_self": null,
            "border": null,
            "bottom": null,
            "display": null,
            "flex": null,
            "flex_flow": null,
            "grid_area": null,
            "grid_auto_columns": null,
            "grid_auto_flow": null,
            "grid_auto_rows": null,
            "grid_column": null,
            "grid_gap": null,
            "grid_row": null,
            "grid_template_areas": null,
            "grid_template_columns": null,
            "grid_template_rows": null,
            "height": null,
            "justify_content": null,
            "justify_items": null,
            "left": null,
            "margin": null,
            "max_height": null,
            "max_width": null,
            "min_height": null,
            "min_width": null,
            "object_fit": null,
            "object_position": null,
            "order": null,
            "overflow": null,
            "overflow_x": null,
            "overflow_y": null,
            "padding": null,
            "right": null,
            "top": null,
            "visibility": null,
            "width": null
          }
        },
        "77747687baf541a0b68b4402c4edb18f": {
          "model_module": "@jupyter-widgets/controls",
          "model_module_version": "1.5.0",
          "model_name": "FloatProgressModel",
          "state": {
            "_dom_classes": [],
            "_model_module": "@jupyter-widgets/controls",
            "_model_module_version": "1.5.0",
            "_model_name": "FloatProgressModel",
            "_view_count": null,
            "_view_module": "@jupyter-widgets/controls",
            "_view_module_version": "1.5.0",
            "_view_name": "ProgressView",
            "bar_style": "success",
            "description": "",
            "description_tooltip": null,
            "layout": "IPY_MODEL_8d67a026766d40de96332318b6c1d543",
            "max": 29515,
            "min": 0,
            "orientation": "horizontal",
            "style": "IPY_MODEL_39af13c3ae9447b2ac296b593e47cab8",
            "value": 29515
          }
        },
        "78922f851b564c82a0526d8e3311ee01": {
          "model_module": "@jupyter-widgets/controls",
          "model_module_version": "1.5.0",
          "model_name": "DescriptionStyleModel",
          "state": {
            "_model_module": "@jupyter-widgets/controls",
            "_model_module_version": "1.5.0",
            "_model_name": "DescriptionStyleModel",
            "_view_count": null,
            "_view_module": "@jupyter-widgets/base",
            "_view_module_version": "1.2.0",
            "_view_name": "StyleView",
            "description_width": ""
          }
        },
        "7a2a869ad9d64a2197b6187f26fefdfb": {
          "model_module": "@jupyter-widgets/base",
          "model_module_version": "1.2.0",
          "model_name": "LayoutModel",
          "state": {
            "_model_module": "@jupyter-widgets/base",
            "_model_module_version": "1.2.0",
            "_model_name": "LayoutModel",
            "_view_count": null,
            "_view_module": "@jupyter-widgets/base",
            "_view_module_version": "1.2.0",
            "_view_name": "LayoutView",
            "align_content": null,
            "align_items": null,
            "align_self": null,
            "border": null,
            "bottom": null,
            "display": null,
            "flex": null,
            "flex_flow": null,
            "grid_area": null,
            "grid_auto_columns": null,
            "grid_auto_flow": null,
            "grid_auto_rows": null,
            "grid_column": null,
            "grid_gap": null,
            "grid_row": null,
            "grid_template_areas": null,
            "grid_template_columns": null,
            "grid_template_rows": null,
            "height": null,
            "justify_content": null,
            "justify_items": null,
            "left": null,
            "margin": null,
            "max_height": null,
            "max_width": null,
            "min_height": null,
            "min_width": null,
            "object_fit": null,
            "object_position": null,
            "order": null,
            "overflow": null,
            "overflow_x": null,
            "overflow_y": null,
            "padding": null,
            "right": null,
            "top": null,
            "visibility": null,
            "width": null
          }
        },
        "7c4fbacb3932459d88ccbf0cd224b7ed": {
          "model_module": "@jupyter-widgets/controls",
          "model_module_version": "1.5.0",
          "model_name": "ProgressStyleModel",
          "state": {
            "_model_module": "@jupyter-widgets/controls",
            "_model_module_version": "1.5.0",
            "_model_name": "ProgressStyleModel",
            "_view_count": null,
            "_view_module": "@jupyter-widgets/base",
            "_view_module_version": "1.2.0",
            "_view_name": "StyleView",
            "bar_color": null,
            "description_width": ""
          }
        },
        "83481902669f411899abbcca7419ac11": {
          "model_module": "@jupyter-widgets/controls",
          "model_module_version": "1.5.0",
          "model_name": "HTMLModel",
          "state": {
            "_dom_classes": [],
            "_model_module": "@jupyter-widgets/controls",
            "_model_module_version": "1.5.0",
            "_model_name": "HTMLModel",
            "_view_count": null,
            "_view_module": "@jupyter-widgets/controls",
            "_view_module_version": "1.5.0",
            "_view_name": "HTMLView",
            "description": "",
            "description_tooltip": null,
            "layout": "IPY_MODEL_b621110e5f7647f984b3f83976ff3855",
            "placeholder": "​",
            "style": "IPY_MODEL_05d449267a8e41fc932c7a0d679dfbac",
            "value": "100%"
          }
        },
        "8b88ae0605984f97a7ae093af1498424": {
          "model_module": "@jupyter-widgets/controls",
          "model_module_version": "1.5.0",
          "model_name": "DescriptionStyleModel",
          "state": {
            "_model_module": "@jupyter-widgets/controls",
            "_model_module_version": "1.5.0",
            "_model_name": "DescriptionStyleModel",
            "_view_count": null,
            "_view_module": "@jupyter-widgets/base",
            "_view_module_version": "1.2.0",
            "_view_name": "StyleView",
            "description_width": ""
          }
        },
        "8c6e2536053c4f8592c232d17aad2527": {
          "model_module": "@jupyter-widgets/controls",
          "model_module_version": "1.5.0",
          "model_name": "DescriptionStyleModel",
          "state": {
            "_model_module": "@jupyter-widgets/controls",
            "_model_module_version": "1.5.0",
            "_model_name": "DescriptionStyleModel",
            "_view_count": null,
            "_view_module": "@jupyter-widgets/base",
            "_view_module_version": "1.2.0",
            "_view_name": "StyleView",
            "description_width": ""
          }
        },
        "8d67a026766d40de96332318b6c1d543": {
          "model_module": "@jupyter-widgets/base",
          "model_module_version": "1.2.0",
          "model_name": "LayoutModel",
          "state": {
            "_model_module": "@jupyter-widgets/base",
            "_model_module_version": "1.2.0",
            "_model_name": "LayoutModel",
            "_view_count": null,
            "_view_module": "@jupyter-widgets/base",
            "_view_module_version": "1.2.0",
            "_view_name": "LayoutView",
            "align_content": null,
            "align_items": null,
            "align_self": null,
            "border": null,
            "bottom": null,
            "display": null,
            "flex": null,
            "flex_flow": null,
            "grid_area": null,
            "grid_auto_columns": null,
            "grid_auto_flow": null,
            "grid_auto_rows": null,
            "grid_column": null,
            "grid_gap": null,
            "grid_row": null,
            "grid_template_areas": null,
            "grid_template_columns": null,
            "grid_template_rows": null,
            "height": null,
            "justify_content": null,
            "justify_items": null,
            "left": null,
            "margin": null,
            "max_height": null,
            "max_width": null,
            "min_height": null,
            "min_width": null,
            "object_fit": null,
            "object_position": null,
            "order": null,
            "overflow": null,
            "overflow_x": null,
            "overflow_y": null,
            "padding": null,
            "right": null,
            "top": null,
            "visibility": null,
            "width": null
          }
        },
        "99ee76581e674e0ea27594c12b7af843": {
          "model_module": "@jupyter-widgets/controls",
          "model_module_version": "1.5.0",
          "model_name": "HTMLModel",
          "state": {
            "_dom_classes": [],
            "_model_module": "@jupyter-widgets/controls",
            "_model_module_version": "1.5.0",
            "_model_name": "HTMLModel",
            "_view_count": null,
            "_view_module": "@jupyter-widgets/controls",
            "_view_module_version": "1.5.0",
            "_view_name": "HTMLView",
            "description": "",
            "description_tooltip": null,
            "layout": "IPY_MODEL_2969695ae5c34df7bdff597e0afd1cdc",
            "placeholder": "​",
            "style": "IPY_MODEL_78922f851b564c82a0526d8e3311ee01",
            "value": " 4422102/4422102 [00:00&lt;00:00, 6241822.25it/s]"
          }
        },
        "9d2b16a8aa6643748c74c779f92e57f2": {
          "model_module": "@jupyter-widgets/controls",
          "model_module_version": "1.5.0",
          "model_name": "FloatProgressModel",
          "state": {
            "_dom_classes": [],
            "_model_module": "@jupyter-widgets/controls",
            "_model_module_version": "1.5.0",
            "_model_name": "FloatProgressModel",
            "_view_count": null,
            "_view_module": "@jupyter-widgets/controls",
            "_view_module_version": "1.5.0",
            "_view_name": "ProgressView",
            "bar_style": "success",
            "description": "",
            "description_tooltip": null,
            "layout": "IPY_MODEL_68219fd12b3a42e698633dbfeac4171b",
            "max": 5148,
            "min": 0,
            "orientation": "horizontal",
            "style": "IPY_MODEL_4dfcaae76a17407889ce9e71c1c6b7e0",
            "value": 5148
          }
        },
        "ab561858f71741b883f202ba6da47465": {
          "model_module": "@jupyter-widgets/base",
          "model_module_version": "1.2.0",
          "model_name": "LayoutModel",
          "state": {
            "_model_module": "@jupyter-widgets/base",
            "_model_module_version": "1.2.0",
            "_model_name": "LayoutModel",
            "_view_count": null,
            "_view_module": "@jupyter-widgets/base",
            "_view_module_version": "1.2.0",
            "_view_name": "LayoutView",
            "align_content": null,
            "align_items": null,
            "align_self": null,
            "border": null,
            "bottom": null,
            "display": null,
            "flex": null,
            "flex_flow": null,
            "grid_area": null,
            "grid_auto_columns": null,
            "grid_auto_flow": null,
            "grid_auto_rows": null,
            "grid_column": null,
            "grid_gap": null,
            "grid_row": null,
            "grid_template_areas": null,
            "grid_template_columns": null,
            "grid_template_rows": null,
            "height": null,
            "justify_content": null,
            "justify_items": null,
            "left": null,
            "margin": null,
            "max_height": null,
            "max_width": null,
            "min_height": null,
            "min_width": null,
            "object_fit": null,
            "object_position": null,
            "order": null,
            "overflow": null,
            "overflow_x": null,
            "overflow_y": null,
            "padding": null,
            "right": null,
            "top": null,
            "visibility": null,
            "width": null
          }
        },
        "b621110e5f7647f984b3f83976ff3855": {
          "model_module": "@jupyter-widgets/base",
          "model_module_version": "1.2.0",
          "model_name": "LayoutModel",
          "state": {
            "_model_module": "@jupyter-widgets/base",
            "_model_module_version": "1.2.0",
            "_model_name": "LayoutModel",
            "_view_count": null,
            "_view_module": "@jupyter-widgets/base",
            "_view_module_version": "1.2.0",
            "_view_name": "LayoutView",
            "align_content": null,
            "align_items": null,
            "align_self": null,
            "border": null,
            "bottom": null,
            "display": null,
            "flex": null,
            "flex_flow": null,
            "grid_area": null,
            "grid_auto_columns": null,
            "grid_auto_flow": null,
            "grid_auto_rows": null,
            "grid_column": null,
            "grid_gap": null,
            "grid_row": null,
            "grid_template_areas": null,
            "grid_template_columns": null,
            "grid_template_rows": null,
            "height": null,
            "justify_content": null,
            "justify_items": null,
            "left": null,
            "margin": null,
            "max_height": null,
            "max_width": null,
            "min_height": null,
            "min_width": null,
            "object_fit": null,
            "object_position": null,
            "order": null,
            "overflow": null,
            "overflow_x": null,
            "overflow_y": null,
            "padding": null,
            "right": null,
            "top": null,
            "visibility": null,
            "width": null
          }
        },
        "bfff6c039a1e4b3db21454ffc2e3e61f": {
          "model_module": "@jupyter-widgets/controls",
          "model_module_version": "1.5.0",
          "model_name": "HBoxModel",
          "state": {
            "_dom_classes": [],
            "_model_module": "@jupyter-widgets/controls",
            "_model_module_version": "1.5.0",
            "_model_name": "HBoxModel",
            "_view_count": null,
            "_view_module": "@jupyter-widgets/controls",
            "_view_module_version": "1.5.0",
            "_view_name": "HBoxView",
            "box_style": "",
            "children": [
              "IPY_MODEL_dd1f7b5b216a4617b6e1acc6bebe88b4",
              "IPY_MODEL_77747687baf541a0b68b4402c4edb18f",
              "IPY_MODEL_cf8b679334e94c96b7dd47c7c1f29a96"
            ],
            "layout": "IPY_MODEL_70c48e35d6fa4e64865f1362ee8402ee"
          }
        },
        "c40fb057632649fdb53ab521cd9c467b": {
          "model_module": "@jupyter-widgets/base",
          "model_module_version": "1.2.0",
          "model_name": "LayoutModel",
          "state": {
            "_model_module": "@jupyter-widgets/base",
            "_model_module_version": "1.2.0",
            "_model_name": "LayoutModel",
            "_view_count": null,
            "_view_module": "@jupyter-widgets/base",
            "_view_module_version": "1.2.0",
            "_view_name": "LayoutView",
            "align_content": null,
            "align_items": null,
            "align_self": null,
            "border": null,
            "bottom": null,
            "display": null,
            "flex": null,
            "flex_flow": null,
            "grid_area": null,
            "grid_auto_columns": null,
            "grid_auto_flow": null,
            "grid_auto_rows": null,
            "grid_column": null,
            "grid_gap": null,
            "grid_row": null,
            "grid_template_areas": null,
            "grid_template_columns": null,
            "grid_template_rows": null,
            "height": null,
            "justify_content": null,
            "justify_items": null,
            "left": null,
            "margin": null,
            "max_height": null,
            "max_width": null,
            "min_height": null,
            "min_width": null,
            "object_fit": null,
            "object_position": null,
            "order": null,
            "overflow": null,
            "overflow_x": null,
            "overflow_y": null,
            "padding": null,
            "right": null,
            "top": null,
            "visibility": null,
            "width": null
          }
        },
        "c7ffd3f3dcdf47ae99510d84387584b2": {
          "model_module": "@jupyter-widgets/base",
          "model_module_version": "1.2.0",
          "model_name": "LayoutModel",
          "state": {
            "_model_module": "@jupyter-widgets/base",
            "_model_module_version": "1.2.0",
            "_model_name": "LayoutModel",
            "_view_count": null,
            "_view_module": "@jupyter-widgets/base",
            "_view_module_version": "1.2.0",
            "_view_name": "LayoutView",
            "align_content": null,
            "align_items": null,
            "align_self": null,
            "border": null,
            "bottom": null,
            "display": null,
            "flex": null,
            "flex_flow": null,
            "grid_area": null,
            "grid_auto_columns": null,
            "grid_auto_flow": null,
            "grid_auto_rows": null,
            "grid_column": null,
            "grid_gap": null,
            "grid_row": null,
            "grid_template_areas": null,
            "grid_template_columns": null,
            "grid_template_rows": null,
            "height": null,
            "justify_content": null,
            "justify_items": null,
            "left": null,
            "margin": null,
            "max_height": null,
            "max_width": null,
            "min_height": null,
            "min_width": null,
            "object_fit": null,
            "object_position": null,
            "order": null,
            "overflow": null,
            "overflow_x": null,
            "overflow_y": null,
            "padding": null,
            "right": null,
            "top": null,
            "visibility": null,
            "width": null
          }
        },
        "cf8b679334e94c96b7dd47c7c1f29a96": {
          "model_module": "@jupyter-widgets/controls",
          "model_module_version": "1.5.0",
          "model_name": "HTMLModel",
          "state": {
            "_dom_classes": [],
            "_model_module": "@jupyter-widgets/controls",
            "_model_module_version": "1.5.0",
            "_model_name": "HTMLModel",
            "_view_count": null,
            "_view_module": "@jupyter-widgets/controls",
            "_view_module_version": "1.5.0",
            "_view_name": "HTMLView",
            "description": "",
            "description_tooltip": null,
            "layout": "IPY_MODEL_4eeca8dd044a4ef18bc50d41fdf60570",
            "placeholder": "​",
            "style": "IPY_MODEL_8b88ae0605984f97a7ae093af1498424",
            "value": " 29515/29515 [00:00&lt;00:00, 283875.27it/s]"
          }
        },
        "dd1f7b5b216a4617b6e1acc6bebe88b4": {
          "model_module": "@jupyter-widgets/controls",
          "model_module_version": "1.5.0",
          "model_name": "HTMLModel",
          "state": {
            "_dom_classes": [],
            "_model_module": "@jupyter-widgets/controls",
            "_model_module_version": "1.5.0",
            "_model_name": "HTMLModel",
            "_view_count": null,
            "_view_module": "@jupyter-widgets/controls",
            "_view_module_version": "1.5.0",
            "_view_name": "HTMLView",
            "description": "",
            "description_tooltip": null,
            "layout": "IPY_MODEL_c40fb057632649fdb53ab521cd9c467b",
            "placeholder": "​",
            "style": "IPY_MODEL_4c53c31744de4043bd144e9945d9d8d1",
            "value": "100%"
          }
        },
        "e28ee90dc0cc463c801ab57cf3533d27": {
          "model_module": "@jupyter-widgets/controls",
          "model_module_version": "1.5.0",
          "model_name": "HBoxModel",
          "state": {
            "_dom_classes": [],
            "_model_module": "@jupyter-widgets/controls",
            "_model_module_version": "1.5.0",
            "_model_name": "HBoxModel",
            "_view_count": null,
            "_view_module": "@jupyter-widgets/controls",
            "_view_module_version": "1.5.0",
            "_view_name": "HBoxView",
            "box_style": "",
            "children": [
              "IPY_MODEL_4c44e5017b4b4f5a864501c6ea4fc6b2",
              "IPY_MODEL_10138ab0dcc249e080a105f95e8a09c4",
              "IPY_MODEL_99ee76581e674e0ea27594c12b7af843"
            ],
            "layout": "IPY_MODEL_617a611d5d2f4df2ae18a9bf8fbe2e4d"
          }
        },
        "ee9f41cc760344a9b1d5e7ba982cfad1": {
          "model_module": "@jupyter-widgets/controls",
          "model_module_version": "1.5.0",
          "model_name": "DescriptionStyleModel",
          "state": {
            "_model_module": "@jupyter-widgets/controls",
            "_model_module_version": "1.5.0",
            "_model_name": "DescriptionStyleModel",
            "_view_count": null,
            "_view_module": "@jupyter-widgets/base",
            "_view_module_version": "1.2.0",
            "_view_name": "StyleView",
            "description_width": ""
          }
        },
        "f2085a4b4390419f864d503a6b0a1d34": {
          "model_module": "@jupyter-widgets/controls",
          "model_module_version": "1.5.0",
          "model_name": "HBoxModel",
          "state": {
            "_dom_classes": [],
            "_model_module": "@jupyter-widgets/controls",
            "_model_module_version": "1.5.0",
            "_model_name": "HBoxModel",
            "_view_count": null,
            "_view_module": "@jupyter-widgets/controls",
            "_view_module_version": "1.5.0",
            "_view_name": "HBoxView",
            "box_style": "",
            "children": [
              "IPY_MODEL_83481902669f411899abbcca7419ac11",
              "IPY_MODEL_64e96e5ac68a44978177bddffd9dbbe3",
              "IPY_MODEL_1fe1bea694f04f7eb098b082ac7db44c"
            ],
            "layout": "IPY_MODEL_c7ffd3f3dcdf47ae99510d84387584b2"
          }
        }
      }
    }
  },
  "nbformat": 4,
  "nbformat_minor": 0
}
