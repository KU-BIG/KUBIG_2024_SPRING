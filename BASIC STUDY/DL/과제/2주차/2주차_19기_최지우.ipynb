{
  "nbformat": 4,
  "nbformat_minor": 0,
  "metadata": {
    "colab": {
      "provenance": []
    },
    "kernelspec": {
      "name": "python3",
      "display_name": "Python 3"
    },
    "language_info": {
      "name": "python"
    }
  },
  "cells": [
    {
      "cell_type": "markdown",
      "source": [
        "'24.01.22. 12:24 기준 ----->\n",
        "마지막 d2l.train_ch3  제외하고는 모두 잘 작동되는 코드입니다!"
      ],
      "metadata": {
        "id": "KGtV1Bennwl3"
      }
    },
    {
      "cell_type": "code",
      "source": [
        "!pip install matplotlib_inline"
      ],
      "metadata": {
        "colab": {
          "base_uri": "https://localhost:8080/"
        },
        "id": "jgwktzScmy60",
        "outputId": "4b23400e-0aa5-4d83-c32a-4f8948dc1873"
      },
      "execution_count": null,
      "outputs": [
        {
          "output_type": "stream",
          "name": "stdout",
          "text": [
            "Requirement already satisfied: matplotlib_inline in /usr/local/lib/python3.10/dist-packages (0.1.6)\n",
            "Requirement already satisfied: traitlets in /usr/local/lib/python3.10/dist-packages (from matplotlib_inline) (5.7.1)\n"
          ]
        }
      ]
    },
    {
      "cell_type": "code",
      "source": [
        "!pip install d2l"
      ],
      "metadata": {
        "colab": {
          "base_uri": "https://localhost:8080/",
          "height": 1000
        },
        "id": "roeo2LoIStIL",
        "outputId": "a9430460-93eb-4d5e-e460-f16d1f662767"
      },
      "execution_count": null,
      "outputs": [
        {
          "output_type": "stream",
          "name": "stdout",
          "text": [
            "Collecting d2l\n",
            "  Downloading d2l-1.0.3-py3-none-any.whl (111 kB)\n",
            "\u001b[2K     \u001b[90m━━━━━━━━━━━━━━━━━━━━━━━━━━━━━━━━━━━━━━━━\u001b[0m \u001b[32m111.7/111.7 kB\u001b[0m \u001b[31m1.7 MB/s\u001b[0m eta \u001b[36m0:00:00\u001b[0m\n",
            "\u001b[?25hCollecting jupyter==1.0.0 (from d2l)\n",
            "  Downloading jupyter-1.0.0-py2.py3-none-any.whl (2.7 kB)\n",
            "Requirement already satisfied: numpy==1.23.5 in /usr/local/lib/python3.10/dist-packages (from d2l) (1.23.5)\n",
            "Collecting matplotlib==3.7.2 (from d2l)\n",
            "  Downloading matplotlib-3.7.2-cp310-cp310-manylinux_2_17_x86_64.manylinux2014_x86_64.whl (11.6 MB)\n",
            "\u001b[2K     \u001b[90m━━━━━━━━━━━━━━━━━━━━━━━━━━━━━━━━━━━━━━━━\u001b[0m \u001b[32m11.6/11.6 MB\u001b[0m \u001b[31m8.2 MB/s\u001b[0m eta \u001b[36m0:00:00\u001b[0m\n",
            "\u001b[?25hRequirement already satisfied: matplotlib-inline==0.1.6 in /usr/local/lib/python3.10/dist-packages (from d2l) (0.1.6)\n",
            "Requirement already satisfied: requests==2.31.0 in /usr/local/lib/python3.10/dist-packages (from d2l) (2.31.0)\n",
            "Collecting pandas==2.0.3 (from d2l)\n",
            "  Downloading pandas-2.0.3-cp310-cp310-manylinux_2_17_x86_64.manylinux2014_x86_64.whl (12.3 MB)\n",
            "\u001b[2K     \u001b[90m━━━━━━━━━━━━━━━━━━━━━━━━━━━━━━━━━━━━━━━━\u001b[0m \u001b[32m12.3/12.3 MB\u001b[0m \u001b[31m10.5 MB/s\u001b[0m eta \u001b[36m0:00:00\u001b[0m\n",
            "\u001b[?25hCollecting scipy==1.10.1 (from d2l)\n",
            "  Downloading scipy-1.10.1-cp310-cp310-manylinux_2_17_x86_64.manylinux2014_x86_64.whl (34.4 MB)\n",
            "\u001b[2K     \u001b[90m━━━━━━━━━━━━━━━━━━━━━━━━━━━━━━━━━━━━━━━━\u001b[0m \u001b[32m34.4/34.4 MB\u001b[0m \u001b[31m12.0 MB/s\u001b[0m eta \u001b[36m0:00:00\u001b[0m\n",
            "\u001b[?25hRequirement already satisfied: notebook in /usr/local/lib/python3.10/dist-packages (from jupyter==1.0.0->d2l) (6.5.5)\n",
            "Collecting qtconsole (from jupyter==1.0.0->d2l)\n",
            "  Downloading qtconsole-5.5.1-py3-none-any.whl (123 kB)\n",
            "\u001b[2K     \u001b[90m━━━━━━━━━━━━━━━━━━━━━━━━━━━━━━━━━━━━━━━━\u001b[0m \u001b[32m123.4/123.4 kB\u001b[0m \u001b[31m13.7 MB/s\u001b[0m eta \u001b[36m0:00:00\u001b[0m\n",
            "\u001b[?25hRequirement already satisfied: jupyter-console in /usr/local/lib/python3.10/dist-packages (from jupyter==1.0.0->d2l) (6.1.0)\n",
            "Requirement already satisfied: nbconvert in /usr/local/lib/python3.10/dist-packages (from jupyter==1.0.0->d2l) (6.5.4)\n",
            "Requirement already satisfied: ipykernel in /usr/local/lib/python3.10/dist-packages (from jupyter==1.0.0->d2l) (5.5.6)\n",
            "Requirement already satisfied: ipywidgets in /usr/local/lib/python3.10/dist-packages (from jupyter==1.0.0->d2l) (7.7.1)\n",
            "Requirement already satisfied: contourpy>=1.0.1 in /usr/local/lib/python3.10/dist-packages (from matplotlib==3.7.2->d2l) (1.2.0)\n",
            "Requirement already satisfied: cycler>=0.10 in /usr/local/lib/python3.10/dist-packages (from matplotlib==3.7.2->d2l) (0.12.1)\n",
            "Requirement already satisfied: fonttools>=4.22.0 in /usr/local/lib/python3.10/dist-packages (from matplotlib==3.7.2->d2l) (4.47.2)\n",
            "Requirement already satisfied: kiwisolver>=1.0.1 in /usr/local/lib/python3.10/dist-packages (from matplotlib==3.7.2->d2l) (1.4.5)\n",
            "Requirement already satisfied: packaging>=20.0 in /usr/local/lib/python3.10/dist-packages (from matplotlib==3.7.2->d2l) (23.2)\n",
            "Requirement already satisfied: pillow>=6.2.0 in /usr/local/lib/python3.10/dist-packages (from matplotlib==3.7.2->d2l) (9.4.0)\n",
            "Collecting pyparsing<3.1,>=2.3.1 (from matplotlib==3.7.2->d2l)\n",
            "  Downloading pyparsing-3.0.9-py3-none-any.whl (98 kB)\n",
            "\u001b[2K     \u001b[90m━━━━━━━━━━━━━━━━━━━━━━━━━━━━━━━━━━━━━━━━\u001b[0m \u001b[32m98.3/98.3 kB\u001b[0m \u001b[31m11.8 MB/s\u001b[0m eta \u001b[36m0:00:00\u001b[0m\n",
            "\u001b[?25hRequirement already satisfied: python-dateutil>=2.7 in /usr/local/lib/python3.10/dist-packages (from matplotlib==3.7.2->d2l) (2.8.2)\n",
            "Requirement already satisfied: traitlets in /usr/local/lib/python3.10/dist-packages (from matplotlib-inline==0.1.6->d2l) (5.7.1)\n",
            "Requirement already satisfied: pytz>=2020.1 in /usr/local/lib/python3.10/dist-packages (from pandas==2.0.3->d2l) (2023.3.post1)\n",
            "Collecting tzdata>=2022.1 (from pandas==2.0.3->d2l)\n",
            "  Downloading tzdata-2023.4-py2.py3-none-any.whl (346 kB)\n",
            "\u001b[2K     \u001b[90m━━━━━━━━━━━━━━━━━━━━━━━━━━━━━━━━━━━━━━━━\u001b[0m \u001b[32m346.6/346.6 kB\u001b[0m \u001b[31m28.1 MB/s\u001b[0m eta \u001b[36m0:00:00\u001b[0m\n",
            "\u001b[?25hRequirement already satisfied: charset-normalizer<4,>=2 in /usr/local/lib/python3.10/dist-packages (from requests==2.31.0->d2l) (3.3.2)\n",
            "Requirement already satisfied: idna<4,>=2.5 in /usr/local/lib/python3.10/dist-packages (from requests==2.31.0->d2l) (3.6)\n",
            "Requirement already satisfied: urllib3<3,>=1.21.1 in /usr/local/lib/python3.10/dist-packages (from requests==2.31.0->d2l) (2.0.7)\n",
            "Requirement already satisfied: certifi>=2017.4.17 in /usr/local/lib/python3.10/dist-packages (from requests==2.31.0->d2l) (2023.11.17)\n",
            "Requirement already satisfied: six>=1.5 in /usr/local/lib/python3.10/dist-packages (from python-dateutil>=2.7->matplotlib==3.7.2->d2l) (1.16.0)\n",
            "Requirement already satisfied: ipython-genutils in /usr/local/lib/python3.10/dist-packages (from ipykernel->jupyter==1.0.0->d2l) (0.2.0)\n",
            "Requirement already satisfied: ipython>=5.0.0 in /usr/local/lib/python3.10/dist-packages (from ipykernel->jupyter==1.0.0->d2l) (7.34.0)\n",
            "Requirement already satisfied: jupyter-client in /usr/local/lib/python3.10/dist-packages (from ipykernel->jupyter==1.0.0->d2l) (6.1.12)\n",
            "Requirement already satisfied: tornado>=4.2 in /usr/local/lib/python3.10/dist-packages (from ipykernel->jupyter==1.0.0->d2l) (6.3.2)\n",
            "Requirement already satisfied: widgetsnbextension~=3.6.0 in /usr/local/lib/python3.10/dist-packages (from ipywidgets->jupyter==1.0.0->d2l) (3.6.6)\n",
            "Requirement already satisfied: jupyterlab-widgets>=1.0.0 in /usr/local/lib/python3.10/dist-packages (from ipywidgets->jupyter==1.0.0->d2l) (3.0.9)\n",
            "Requirement already satisfied: prompt-toolkit!=3.0.0,!=3.0.1,<3.1.0,>=2.0.0 in /usr/local/lib/python3.10/dist-packages (from jupyter-console->jupyter==1.0.0->d2l) (3.0.43)\n",
            "Requirement already satisfied: pygments in /usr/local/lib/python3.10/dist-packages (from jupyter-console->jupyter==1.0.0->d2l) (2.16.1)\n",
            "Requirement already satisfied: lxml in /usr/local/lib/python3.10/dist-packages (from nbconvert->jupyter==1.0.0->d2l) (4.9.4)\n",
            "Requirement already satisfied: beautifulsoup4 in /usr/local/lib/python3.10/dist-packages (from nbconvert->jupyter==1.0.0->d2l) (4.11.2)\n",
            "Requirement already satisfied: bleach in /usr/local/lib/python3.10/dist-packages (from nbconvert->jupyter==1.0.0->d2l) (6.1.0)\n",
            "Requirement already satisfied: defusedxml in /usr/local/lib/python3.10/dist-packages (from nbconvert->jupyter==1.0.0->d2l) (0.7.1)\n",
            "Requirement already satisfied: entrypoints>=0.2.2 in /usr/local/lib/python3.10/dist-packages (from nbconvert->jupyter==1.0.0->d2l) (0.4)\n",
            "Requirement already satisfied: jinja2>=3.0 in /usr/local/lib/python3.10/dist-packages (from nbconvert->jupyter==1.0.0->d2l) (3.1.3)\n",
            "Requirement already satisfied: jupyter-core>=4.7 in /usr/local/lib/python3.10/dist-packages (from nbconvert->jupyter==1.0.0->d2l) (5.7.1)\n",
            "Requirement already satisfied: jupyterlab-pygments in /usr/local/lib/python3.10/dist-packages (from nbconvert->jupyter==1.0.0->d2l) (0.3.0)\n",
            "Requirement already satisfied: MarkupSafe>=2.0 in /usr/local/lib/python3.10/dist-packages (from nbconvert->jupyter==1.0.0->d2l) (2.1.3)\n",
            "Requirement already satisfied: mistune<2,>=0.8.1 in /usr/local/lib/python3.10/dist-packages (from nbconvert->jupyter==1.0.0->d2l) (0.8.4)\n",
            "Requirement already satisfied: nbclient>=0.5.0 in /usr/local/lib/python3.10/dist-packages (from nbconvert->jupyter==1.0.0->d2l) (0.9.0)\n",
            "Requirement already satisfied: nbformat>=5.1 in /usr/local/lib/python3.10/dist-packages (from nbconvert->jupyter==1.0.0->d2l) (5.9.2)\n",
            "Requirement already satisfied: pandocfilters>=1.4.1 in /usr/local/lib/python3.10/dist-packages (from nbconvert->jupyter==1.0.0->d2l) (1.5.0)\n",
            "Requirement already satisfied: tinycss2 in /usr/local/lib/python3.10/dist-packages (from nbconvert->jupyter==1.0.0->d2l) (1.2.1)\n",
            "Requirement already satisfied: pyzmq<25,>=17 in /usr/local/lib/python3.10/dist-packages (from notebook->jupyter==1.0.0->d2l) (23.2.1)\n",
            "Requirement already satisfied: argon2-cffi in /usr/local/lib/python3.10/dist-packages (from notebook->jupyter==1.0.0->d2l) (23.1.0)\n",
            "Requirement already satisfied: nest-asyncio>=1.5 in /usr/local/lib/python3.10/dist-packages (from notebook->jupyter==1.0.0->d2l) (1.5.9)\n",
            "Requirement already satisfied: Send2Trash>=1.8.0 in /usr/local/lib/python3.10/dist-packages (from notebook->jupyter==1.0.0->d2l) (1.8.2)\n",
            "Requirement already satisfied: terminado>=0.8.3 in /usr/local/lib/python3.10/dist-packages (from notebook->jupyter==1.0.0->d2l) (0.18.0)\n",
            "Requirement already satisfied: prometheus-client in /usr/local/lib/python3.10/dist-packages (from notebook->jupyter==1.0.0->d2l) (0.19.0)\n",
            "Requirement already satisfied: nbclassic>=0.4.7 in /usr/local/lib/python3.10/dist-packages (from notebook->jupyter==1.0.0->d2l) (1.0.0)\n",
            "Collecting qtpy>=2.4.0 (from qtconsole->jupyter==1.0.0->d2l)\n",
            "  Downloading QtPy-2.4.1-py3-none-any.whl (93 kB)\n",
            "\u001b[2K     \u001b[90m━━━━━━━━━━━━━━━━━━━━━━━━━━━━━━━━━━━━━━━━\u001b[0m \u001b[32m93.5/93.5 kB\u001b[0m \u001b[31m7.4 MB/s\u001b[0m eta \u001b[36m0:00:00\u001b[0m\n",
            "\u001b[?25hRequirement already satisfied: setuptools>=18.5 in /usr/local/lib/python3.10/dist-packages (from ipython>=5.0.0->ipykernel->jupyter==1.0.0->d2l) (67.7.2)\n",
            "Collecting jedi>=0.16 (from ipython>=5.0.0->ipykernel->jupyter==1.0.0->d2l)\n",
            "  Downloading jedi-0.19.1-py2.py3-none-any.whl (1.6 MB)\n",
            "\u001b[2K     \u001b[90m━━━━━━━━━━━━━━━━━━━━━━━━━━━━━━━━━━━━━━━━\u001b[0m \u001b[32m1.6/1.6 MB\u001b[0m \u001b[31m21.4 MB/s\u001b[0m eta \u001b[36m0:00:00\u001b[0m\n",
            "\u001b[?25hRequirement already satisfied: decorator in /usr/local/lib/python3.10/dist-packages (from ipython>=5.0.0->ipykernel->jupyter==1.0.0->d2l) (4.4.2)\n",
            "Requirement already satisfied: pickleshare in /usr/local/lib/python3.10/dist-packages (from ipython>=5.0.0->ipykernel->jupyter==1.0.0->d2l) (0.7.5)\n",
            "Requirement already satisfied: backcall in /usr/local/lib/python3.10/dist-packages (from ipython>=5.0.0->ipykernel->jupyter==1.0.0->d2l) (0.2.0)\n",
            "Requirement already satisfied: pexpect>4.3 in /usr/local/lib/python3.10/dist-packages (from ipython>=5.0.0->ipykernel->jupyter==1.0.0->d2l) (4.9.0)\n",
            "Requirement already satisfied: platformdirs>=2.5 in /usr/local/lib/python3.10/dist-packages (from jupyter-core>=4.7->nbconvert->jupyter==1.0.0->d2l) (4.1.0)\n",
            "Requirement already satisfied: jupyter-server>=1.8 in /usr/local/lib/python3.10/dist-packages (from nbclassic>=0.4.7->notebook->jupyter==1.0.0->d2l) (1.24.0)\n",
            "Requirement already satisfied: notebook-shim>=0.2.3 in /usr/local/lib/python3.10/dist-packages (from nbclassic>=0.4.7->notebook->jupyter==1.0.0->d2l) (0.2.3)\n",
            "Requirement already satisfied: fastjsonschema in /usr/local/lib/python3.10/dist-packages (from nbformat>=5.1->nbconvert->jupyter==1.0.0->d2l) (2.19.1)\n",
            "Requirement already satisfied: jsonschema>=2.6 in /usr/local/lib/python3.10/dist-packages (from nbformat>=5.1->nbconvert->jupyter==1.0.0->d2l) (4.19.2)\n",
            "Requirement already satisfied: wcwidth in /usr/local/lib/python3.10/dist-packages (from prompt-toolkit!=3.0.0,!=3.0.1,<3.1.0,>=2.0.0->jupyter-console->jupyter==1.0.0->d2l) (0.2.13)\n",
            "Requirement already satisfied: ptyprocess in /usr/local/lib/python3.10/dist-packages (from terminado>=0.8.3->notebook->jupyter==1.0.0->d2l) (0.7.0)\n",
            "Requirement already satisfied: argon2-cffi-bindings in /usr/local/lib/python3.10/dist-packages (from argon2-cffi->notebook->jupyter==1.0.0->d2l) (21.2.0)\n",
            "Requirement already satisfied: soupsieve>1.2 in /usr/local/lib/python3.10/dist-packages (from beautifulsoup4->nbconvert->jupyter==1.0.0->d2l) (2.5)\n",
            "Requirement already satisfied: webencodings in /usr/local/lib/python3.10/dist-packages (from bleach->nbconvert->jupyter==1.0.0->d2l) (0.5.1)\n",
            "Requirement already satisfied: parso<0.9.0,>=0.8.3 in /usr/local/lib/python3.10/dist-packages (from jedi>=0.16->ipython>=5.0.0->ipykernel->jupyter==1.0.0->d2l) (0.8.3)\n",
            "Requirement already satisfied: attrs>=22.2.0 in /usr/local/lib/python3.10/dist-packages (from jsonschema>=2.6->nbformat>=5.1->nbconvert->jupyter==1.0.0->d2l) (23.2.0)\n",
            "Requirement already satisfied: jsonschema-specifications>=2023.03.6 in /usr/local/lib/python3.10/dist-packages (from jsonschema>=2.6->nbformat>=5.1->nbconvert->jupyter==1.0.0->d2l) (2023.12.1)\n",
            "Requirement already satisfied: referencing>=0.28.4 in /usr/local/lib/python3.10/dist-packages (from jsonschema>=2.6->nbformat>=5.1->nbconvert->jupyter==1.0.0->d2l) (0.32.1)\n",
            "Requirement already satisfied: rpds-py>=0.7.1 in /usr/local/lib/python3.10/dist-packages (from jsonschema>=2.6->nbformat>=5.1->nbconvert->jupyter==1.0.0->d2l) (0.17.1)\n",
            "Requirement already satisfied: anyio<4,>=3.1.0 in /usr/local/lib/python3.10/dist-packages (from jupyter-server>=1.8->nbclassic>=0.4.7->notebook->jupyter==1.0.0->d2l) (3.7.1)\n",
            "Requirement already satisfied: websocket-client in /usr/local/lib/python3.10/dist-packages (from jupyter-server>=1.8->nbclassic>=0.4.7->notebook->jupyter==1.0.0->d2l) (1.7.0)\n",
            "Requirement already satisfied: cffi>=1.0.1 in /usr/local/lib/python3.10/dist-packages (from argon2-cffi-bindings->argon2-cffi->notebook->jupyter==1.0.0->d2l) (1.16.0)\n",
            "Requirement already satisfied: sniffio>=1.1 in /usr/local/lib/python3.10/dist-packages (from anyio<4,>=3.1.0->jupyter-server>=1.8->nbclassic>=0.4.7->notebook->jupyter==1.0.0->d2l) (1.3.0)\n",
            "Requirement already satisfied: exceptiongroup in /usr/local/lib/python3.10/dist-packages (from anyio<4,>=3.1.0->jupyter-server>=1.8->nbclassic>=0.4.7->notebook->jupyter==1.0.0->d2l) (1.2.0)\n",
            "Requirement already satisfied: pycparser in /usr/local/lib/python3.10/dist-packages (from cffi>=1.0.1->argon2-cffi-bindings->argon2-cffi->notebook->jupyter==1.0.0->d2l) (2.21)\n",
            "Installing collected packages: tzdata, scipy, qtpy, pyparsing, jedi, pandas, matplotlib, qtconsole, jupyter, d2l\n",
            "  Attempting uninstall: scipy\n",
            "    Found existing installation: scipy 1.11.4\n",
            "    Uninstalling scipy-1.11.4:\n",
            "      Successfully uninstalled scipy-1.11.4\n",
            "  Attempting uninstall: pyparsing\n",
            "    Found existing installation: pyparsing 3.1.1\n",
            "    Uninstalling pyparsing-3.1.1:\n",
            "      Successfully uninstalled pyparsing-3.1.1\n",
            "  Attempting uninstall: pandas\n",
            "    Found existing installation: pandas 1.5.3\n",
            "    Uninstalling pandas-1.5.3:\n",
            "      Successfully uninstalled pandas-1.5.3\n",
            "  Attempting uninstall: matplotlib\n",
            "    Found existing installation: matplotlib 3.7.1\n",
            "    Uninstalling matplotlib-3.7.1:\n",
            "      Successfully uninstalled matplotlib-3.7.1\n",
            "\u001b[31mERROR: pip's dependency resolver does not currently take into account all the packages that are installed. This behaviour is the source of the following dependency conflicts.\n",
            "lida 0.0.10 requires fastapi, which is not installed.\n",
            "lida 0.0.10 requires kaleido, which is not installed.\n",
            "lida 0.0.10 requires python-multipart, which is not installed.\n",
            "lida 0.0.10 requires uvicorn, which is not installed.\n",
            "google-colab 1.0.0 requires pandas==1.5.3, but you have pandas 2.0.3 which is incompatible.\u001b[0m\u001b[31m\n",
            "\u001b[0mSuccessfully installed d2l-1.0.3 jedi-0.19.1 jupyter-1.0.0 matplotlib-3.7.2 pandas-2.0.3 pyparsing-3.0.9 qtconsole-5.5.1 qtpy-2.4.1 scipy-1.10.1 tzdata-2023.4\n"
          ]
        },
        {
          "output_type": "display_data",
          "data": {
            "application/vnd.colab-display-data+json": {
              "pip_warning": {
                "packages": [
                  "matplotlib",
                  "mpl_toolkits"
                ]
              }
            }
          },
          "metadata": {}
        }
      ]
    },
    {
      "cell_type": "code",
      "execution_count": null,
      "metadata": {
        "id": "LoVFErxIiXog"
      },
      "outputs": [],
      "source": [
        "%matplotlib inline\n",
        "import torch\n",
        "import torchvision\n",
        "from torch.utils import data\n",
        "from torchvision import transforms\n",
        "from d2l import torch as d2l\n",
        "\n",
        "d2l.use_svg_display()"
      ]
    },
    {
      "cell_type": "code",
      "source": [
        "trans = transforms.ToTensor()\n",
        "mnist_train = torchvision.datasets.FashionMNIST(\n",
        "    root = \"../data\", train = True, transform=trans, download = True)\n",
        "mnist_test = torchvision.datasets.FashionMNIST(\n",
        "    root = \"../data\", train = False, transform=trans, download=True)"
      ],
      "metadata": {
        "colab": {
          "base_uri": "https://localhost:8080/"
        },
        "id": "iUnJtgdgmtTi",
        "outputId": "accde364-6161-4ed1-f447-31be717c873c"
      },
      "execution_count": null,
      "outputs": [
        {
          "output_type": "stream",
          "name": "stdout",
          "text": [
            "Downloading http://fashion-mnist.s3-website.eu-central-1.amazonaws.com/train-images-idx3-ubyte.gz\n",
            "Downloading http://fashion-mnist.s3-website.eu-central-1.amazonaws.com/train-images-idx3-ubyte.gz to ../data/FashionMNIST/raw/train-images-idx3-ubyte.gz\n"
          ]
        },
        {
          "output_type": "stream",
          "name": "stderr",
          "text": [
            "100%|██████████| 26421880/26421880 [00:13<00:00, 1894676.74it/s]\n"
          ]
        },
        {
          "output_type": "stream",
          "name": "stdout",
          "text": [
            "Extracting ../data/FashionMNIST/raw/train-images-idx3-ubyte.gz to ../data/FashionMNIST/raw\n",
            "\n",
            "Downloading http://fashion-mnist.s3-website.eu-central-1.amazonaws.com/train-labels-idx1-ubyte.gz\n",
            "Downloading http://fashion-mnist.s3-website.eu-central-1.amazonaws.com/train-labels-idx1-ubyte.gz to ../data/FashionMNIST/raw/train-labels-idx1-ubyte.gz\n"
          ]
        },
        {
          "output_type": "stream",
          "name": "stderr",
          "text": [
            "100%|██████████| 29515/29515 [00:00<00:00, 136171.21it/s]\n"
          ]
        },
        {
          "output_type": "stream",
          "name": "stdout",
          "text": [
            "Extracting ../data/FashionMNIST/raw/train-labels-idx1-ubyte.gz to ../data/FashionMNIST/raw\n",
            "\n",
            "Downloading http://fashion-mnist.s3-website.eu-central-1.amazonaws.com/t10k-images-idx3-ubyte.gz\n",
            "Downloading http://fashion-mnist.s3-website.eu-central-1.amazonaws.com/t10k-images-idx3-ubyte.gz to ../data/FashionMNIST/raw/t10k-images-idx3-ubyte.gz\n"
          ]
        },
        {
          "output_type": "stream",
          "name": "stderr",
          "text": [
            "100%|██████████| 4422102/4422102 [00:01<00:00, 2574384.56it/s]\n"
          ]
        },
        {
          "output_type": "stream",
          "name": "stdout",
          "text": [
            "Extracting ../data/FashionMNIST/raw/t10k-images-idx3-ubyte.gz to ../data/FashionMNIST/raw\n",
            "\n",
            "Downloading http://fashion-mnist.s3-website.eu-central-1.amazonaws.com/t10k-labels-idx1-ubyte.gz\n",
            "Downloading http://fashion-mnist.s3-website.eu-central-1.amazonaws.com/t10k-labels-idx1-ubyte.gz to ../data/FashionMNIST/raw/t10k-labels-idx1-ubyte.gz\n"
          ]
        },
        {
          "output_type": "stream",
          "name": "stderr",
          "text": [
            "100%|██████████| 5148/5148 [00:00<00:00, 24044851.88it/s]"
          ]
        },
        {
          "output_type": "stream",
          "name": "stdout",
          "text": [
            "Extracting ../data/FashionMNIST/raw/t10k-labels-idx1-ubyte.gz to ../data/FashionMNIST/raw\n",
            "\n"
          ]
        },
        {
          "output_type": "stream",
          "name": "stderr",
          "text": [
            "\n"
          ]
        }
      ]
    },
    {
      "cell_type": "code",
      "source": [
        "#from matplotlib_inline import backend_inline\n",
        "#backend_inline.set_matplotlib_formats('png')\n"
      ],
      "metadata": {
        "id": "jwiJzeFjiEYJ"
      },
      "execution_count": null,
      "outputs": []
    },
    {
      "cell_type": "code",
      "source": [
        "len(mnist_train), len(mnist_test)"
      ],
      "metadata": {
        "colab": {
          "base_uri": "https://localhost:8080/"
        },
        "id": "c5L6xPMUpE9d",
        "outputId": "188117b0-83c9-4d7b-eec5-436e55a58c8b"
      },
      "execution_count": null,
      "outputs": [
        {
          "output_type": "execute_result",
          "data": {
            "text/plain": [
              "(60000, 10000)"
            ]
          },
          "metadata": {},
          "execution_count": 5
        }
      ]
    },
    {
      "cell_type": "code",
      "source": [
        "mnist_train[0][0].shape"
      ],
      "metadata": {
        "colab": {
          "base_uri": "https://localhost:8080/"
        },
        "id": "ODptX6l23f7W",
        "outputId": "e1b72533-803c-4876-c719-52384f36fc17"
      },
      "execution_count": null,
      "outputs": [
        {
          "output_type": "execute_result",
          "data": {
            "text/plain": [
              "torch.Size([1, 28, 28])"
            ]
          },
          "metadata": {},
          "execution_count": 6
        }
      ]
    },
    {
      "cell_type": "code",
      "source": [
        "def get_fashion_mnist_labels(labels):\n",
        "  \"\"\"Fashion-MNIST를 위한 텍스트라벨을 리턴\"\"\"\n",
        "  text_labels = ['t-shirt', 'trouser', 'pullover', 'dress', 'coat',\n",
        "                 'sandal', 'shirt', 'sneaker', 'bag', 'ankle boot']\n",
        "  return [text_labels[int(i)] for i in labels]"
      ],
      "metadata": {
        "id": "i5-RRJoI4Boa"
      },
      "execution_count": null,
      "outputs": []
    },
    {
      "cell_type": "code",
      "source": [
        "# visualize example\n",
        "\n",
        "def show_images(imgs, num_rows, num_cols, titles=None, scale=1.5):\n",
        "  \"\"\"이미지 리스트 플롯그리기\"\"\"\n",
        "  figsize = (num_cols * scale, num_rows * scale)\n",
        "  _, axes = d2l.plt.subplots(num_rows, num_cols, figsize = figsize)\n",
        "  axes = axes.flatten()\n",
        "  for i, (ax, img) in enumerate(zip(axes, imgs)):\n",
        "    if torch.is_tensor(img):\n",
        "      # Tensor Image\n",
        "      ## 빈칸을 채워주세요. ##\n",
        "\n",
        "      ax.imshow(img.squeeze()) # squeeze 함수가 차원이 1인 축을 제거해 배열을 압축한다고 합니다. numpy에서 제공\n",
        "      ax.imshow(img)\n",
        "    else:\n",
        "      # PIL Image\n",
        "      ## 빈칸을 채워주세요. ##\n",
        "\n",
        "      ax.imshow(img)\n",
        "\n",
        "    ax.axes.get_xaxis().set_visible(False)\n",
        "    ax.axes.get_yaxis().set_visible(False)\n",
        "    if titles:\n",
        "      ax.set_title(titles[i])\n",
        "  return axes\n"
      ],
      "metadata": {
        "id": "g7t8PH2g5GCy"
      },
      "execution_count": null,
      "outputs": []
    },
    {
      "cell_type": "code",
      "source": [
        "!pip install matplotlib==3.7.2"
      ],
      "metadata": {
        "colab": {
          "base_uri": "https://localhost:8080/"
        },
        "id": "_o4sFnBu_Mqe",
        "outputId": "ae158a06-b813-45f2-dc76-cc196d1ae00b"
      },
      "execution_count": null,
      "outputs": [
        {
          "output_type": "stream",
          "name": "stdout",
          "text": [
            "Requirement already satisfied: matplotlib==3.7.2 in /usr/local/lib/python3.10/dist-packages (3.7.2)\n",
            "Requirement already satisfied: contourpy>=1.0.1 in /usr/local/lib/python3.10/dist-packages (from matplotlib==3.7.2) (1.2.0)\n",
            "Requirement already satisfied: cycler>=0.10 in /usr/local/lib/python3.10/dist-packages (from matplotlib==3.7.2) (0.12.1)\n",
            "Requirement already satisfied: fonttools>=4.22.0 in /usr/local/lib/python3.10/dist-packages (from matplotlib==3.7.2) (4.47.2)\n",
            "Requirement already satisfied: kiwisolver>=1.0.1 in /usr/local/lib/python3.10/dist-packages (from matplotlib==3.7.2) (1.4.5)\n",
            "Requirement already satisfied: numpy>=1.20 in /usr/local/lib/python3.10/dist-packages (from matplotlib==3.7.2) (1.23.5)\n",
            "Requirement already satisfied: packaging>=20.0 in /usr/local/lib/python3.10/dist-packages (from matplotlib==3.7.2) (23.2)\n",
            "Requirement already satisfied: pillow>=6.2.0 in /usr/local/lib/python3.10/dist-packages (from matplotlib==3.7.2) (9.4.0)\n",
            "Requirement already satisfied: pyparsing<3.1,>=2.3.1 in /usr/local/lib/python3.10/dist-packages (from matplotlib==3.7.2) (3.0.9)\n",
            "Requirement already satisfied: python-dateutil>=2.7 in /usr/local/lib/python3.10/dist-packages (from matplotlib==3.7.2) (2.8.2)\n",
            "Requirement already satisfied: six>=1.5 in /usr/local/lib/python3.10/dist-packages (from python-dateutil>=2.7->matplotlib==3.7.2) (1.16.0)\n"
          ]
        }
      ]
    },
    {
      "cell_type": "code",
      "source": [
        "# training dataset 가져오기\n",
        "\n",
        "\n",
        "# DataLoader 생성\n",
        "train_data_loader = torch.utils.data.DataLoader(mnist_train, batch_size=18, shuffle=True)\n",
        "\n",
        "# 학습 데이터셋에서 배치 가져오기\n",
        "X, y = next(iter(train_data_loader))\n",
        "show_images(X.reshape(18,28,28), 2, 9, titles = get_fashion_mnist_labels(y));"
      ],
      "metadata": {
        "colab": {
          "base_uri": "https://localhost:8080/",
          "height": 275
        },
        "id": "OxYdsR7C6mMo",
        "outputId": "ff1d6fa2-816b-4bef-d0fd-a0a43347215c"
      },
      "execution_count": null,
      "outputs": [
        {
          "output_type": "display_data",
          "data": {
            "text/plain": [
              "<Figure size 1350x300 with 18 Axes>"
            ],
            "image/svg+xml": "<?xml version=\"1.0\" encoding=\"utf-8\" standalone=\"no\"?>\n<!DOCTYPE svg PUBLIC \"-//W3C//DTD SVG 1.1//EN\"\n  \"http://www.w3.org/Graphics/SVG/1.1/DTD/svg11.dtd\">\n<svg xmlns:xlink=\"http://www.w3.org/1999/xlink\" width=\"767.7pt\" height=\"191.304163pt\" viewBox=\"0 0 767.7 191.304163\" xmlns=\"http://www.w3.org/2000/svg\" version=\"1.1\">\n <metadata>\n  <rdf:RDF xmlns:dc=\"http://purl.org/dc/elements/1.1/\" xmlns:cc=\"http://creativecommons.org/ns#\" xmlns:rdf=\"http://www.w3.org/1999/02/22-rdf-syntax-ns#\">\n   <cc:Work>\n    <dc:type rdf:resource=\"http://purl.org/dc/dcmitype/StillImage\"/>\n    <dc:date>2024-01-21T15:11:53.401016</dc:date>\n    <dc:format>image/svg+xml</dc:format>\n    <dc:creator>\n     <cc:Agent>\n      <dc:title>Matplotlib v3.7.1, https://matplotlib.org/</dc:title>\n     </cc:Agent>\n    </dc:creator>\n   </cc:Work>\n  </rdf:RDF>\n </metadata>\n <defs>\n  <style type=\"text/css\">*{stroke-linejoin: round; stroke-linecap: butt}</style>\n </defs>\n <g id=\"figure_1\">\n  <g id=\"patch_1\">\n   <path d=\"M 0 191.304163 \nL 767.7 191.304163 \nL 767.7 0 \nL 0 0 \nz\n\" style=\"fill: #ffffff\"/>\n  </g>\n  <g id=\"axes_1\">\n   <g id=\"patch_2\">\n    <path d=\"M 7.2 93.384163 \nL 78.266038 93.384163 \nL 78.266038 22.318125 \nL 7.2 22.318125 \nz\n\" style=\"fill: #ffffff\"/>\n   </g>\n   <g clip-path=\"url(#p294583924f)\">\n    <image xlink:href=\"data:image/png;base64,\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\" id=\"imagea0642ca929\" transform=\"scale(1 -1) translate(0 -71.28)\" x=\"7\" y=\"-22.024163\" width=\"71.28\" height=\"71.28\"/>\n   </g>\n   <g id=\"patch_3\">\n    <path d=\"M 7.2 93.384163 \nL 7.2 22.318125 \n\" style=\"fill: none; stroke: #000000; stroke-width: 0.8; stroke-linejoin: miter; stroke-linecap: square\"/>\n   </g>\n   <g id=\"patch_4\">\n    <path d=\"M 78.266038 93.384163 \nL 78.266038 22.318125 \n\" style=\"fill: none; stroke: #000000; stroke-width: 0.8; stroke-linejoin: miter; stroke-linecap: square\"/>\n   </g>\n   <g id=\"patch_5\">\n    <path d=\"M 7.2 93.384163 \nL 78.266038 93.384163 \n\" style=\"fill: none; stroke: #000000; stroke-width: 0.8; stroke-linejoin: miter; stroke-linecap: square\"/>\n   </g>\n   <g id=\"patch_6\">\n    <path d=\"M 7.2 22.318125 \nL 78.266038 22.318125 \n\" style=\"fill: none; stroke: #000000; stroke-width: 0.8; stroke-linejoin: miter; stroke-linecap: square\"/>\n   </g>\n   <g id=\"text_1\">\n    <!-- shirt -->\n    <g transform=\"translate(29.319269 16.318125) scale(0.12 -0.12)\">\n     <defs>\n      <path id=\"DejaVuSans-73\" d=\"M 2834 3397 \nL 2834 2853 \nQ 2591 2978 2328 3040 \nQ 2066 3103 1784 3103 \nQ 1356 3103 1142 2972 \nQ 928 2841 928 2578 \nQ 928 2378 1081 2264 \nQ 1234 2150 1697 2047 \nL 1894 2003 \nQ 2506 1872 2764 1633 \nQ 3022 1394 3022 966 \nQ 3022 478 2636 193 \nQ 2250 -91 1575 -91 \nQ 1294 -91 989 -36 \nQ 684 19 347 128 \nL 347 722 \nQ 666 556 975 473 \nQ 1284 391 1588 391 \nQ 1994 391 2212 530 \nQ 2431 669 2431 922 \nQ 2431 1156 2273 1281 \nQ 2116 1406 1581 1522 \nL 1381 1569 \nQ 847 1681 609 1914 \nQ 372 2147 372 2553 \nQ 372 3047 722 3315 \nQ 1072 3584 1716 3584 \nQ 2034 3584 2315 3537 \nQ 2597 3491 2834 3397 \nz\n\" transform=\"scale(0.015625)\"/>\n      <path id=\"DejaVuSans-68\" d=\"M 3513 2113 \nL 3513 0 \nL 2938 0 \nL 2938 2094 \nQ 2938 2591 2744 2837 \nQ 2550 3084 2163 3084 \nQ 1697 3084 1428 2787 \nQ 1159 2491 1159 1978 \nL 1159 0 \nL 581 0 \nL 581 4863 \nL 1159 4863 \nL 1159 2956 \nQ 1366 3272 1645 3428 \nQ 1925 3584 2291 3584 \nQ 2894 3584 3203 3211 \nQ 3513 2838 3513 2113 \nz\n\" transform=\"scale(0.015625)\"/>\n      <path id=\"DejaVuSans-69\" d=\"M 603 3500 \nL 1178 3500 \nL 1178 0 \nL 603 0 \nL 603 3500 \nz\nM 603 4863 \nL 1178 4863 \nL 1178 4134 \nL 603 4134 \nL 603 4863 \nz\n\" transform=\"scale(0.015625)\"/>\n      <path id=\"DejaVuSans-72\" d=\"M 2631 2963 \nQ 2534 3019 2420 3045 \nQ 2306 3072 2169 3072 \nQ 1681 3072 1420 2755 \nQ 1159 2438 1159 1844 \nL 1159 0 \nL 581 0 \nL 581 3500 \nL 1159 3500 \nL 1159 2956 \nQ 1341 3275 1631 3429 \nQ 1922 3584 2338 3584 \nQ 2397 3584 2469 3576 \nQ 2541 3569 2628 3553 \nL 2631 2963 \nz\n\" transform=\"scale(0.015625)\"/>\n      <path id=\"DejaVuSans-74\" d=\"M 1172 4494 \nL 1172 3500 \nL 2356 3500 \nL 2356 3053 \nL 1172 3053 \nL 1172 1153 \nQ 1172 725 1289 603 \nQ 1406 481 1766 481 \nL 2356 481 \nL 2356 0 \nL 1766 0 \nQ 1100 0 847 248 \nQ 594 497 594 1153 \nL 594 3053 \nL 172 3053 \nL 172 3500 \nL 594 3500 \nL 594 4494 \nL 1172 4494 \nz\n\" transform=\"scale(0.015625)\"/>\n     </defs>\n     <use xlink:href=\"#DejaVuSans-73\"/>\n     <use xlink:href=\"#DejaVuSans-68\" x=\"52.099609\"/>\n     <use xlink:href=\"#DejaVuSans-69\" x=\"115.478516\"/>\n     <use xlink:href=\"#DejaVuSans-72\" x=\"143.261719\"/>\n     <use xlink:href=\"#DejaVuSans-74\" x=\"184.375\"/>\n    </g>\n   </g>\n  </g>\n  <g id=\"axes_2\">\n   <g id=\"patch_7\">\n    <path d=\"M 92.479245 93.384163 \nL 163.545283 93.384163 \nL 163.545283 22.318125 \nL 92.479245 22.318125 \nz\n\" style=\"fill: #ffffff\"/>\n   </g>\n   <g clip-path=\"url(#pa6f128c09e)\">\n    <image xlink:href=\"data:image/png;base64,\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\" id=\"image2c331fa3a0\" transform=\"scale(1 -1) translate(0 -71.28)\" x=\"92\" y=\"-22.024163\" width=\"71.28\" height=\"71.28\"/>\n   </g>\n   <g id=\"patch_8\">\n    <path d=\"M 92.479245 93.384163 \nL 92.479245 22.318125 \n\" style=\"fill: none; stroke: #000000; stroke-width: 0.8; stroke-linejoin: miter; stroke-linecap: square\"/>\n   </g>\n   <g id=\"patch_9\">\n    <path d=\"M 163.545283 93.384163 \nL 163.545283 22.318125 \n\" style=\"fill: none; stroke: #000000; stroke-width: 0.8; stroke-linejoin: miter; stroke-linecap: square\"/>\n   </g>\n   <g id=\"patch_10\">\n    <path d=\"M 92.479245 93.384163 \nL 163.545283 93.384163 \n\" style=\"fill: none; stroke: #000000; stroke-width: 0.8; stroke-linejoin: miter; stroke-linecap: square\"/>\n   </g>\n   <g id=\"patch_11\">\n    <path d=\"M 92.479245 22.318125 \nL 163.545283 22.318125 \n\" style=\"fill: none; stroke: #000000; stroke-width: 0.8; stroke-linejoin: miter; stroke-linecap: square\"/>\n   </g>\n   <g id=\"text_2\">\n    <!-- trouser -->\n    <g transform=\"translate(106.570702 16.318125) scale(0.12 -0.12)\">\n     <defs>\n      <path id=\"DejaVuSans-6f\" d=\"M 1959 3097 \nQ 1497 3097 1228 2736 \nQ 959 2375 959 1747 \nQ 959 1119 1226 758 \nQ 1494 397 1959 397 \nQ 2419 397 2687 759 \nQ 2956 1122 2956 1747 \nQ 2956 2369 2687 2733 \nQ 2419 3097 1959 3097 \nz\nM 1959 3584 \nQ 2709 3584 3137 3096 \nQ 3566 2609 3566 1747 \nQ 3566 888 3137 398 \nQ 2709 -91 1959 -91 \nQ 1206 -91 779 398 \nQ 353 888 353 1747 \nQ 353 2609 779 3096 \nQ 1206 3584 1959 3584 \nz\n\" transform=\"scale(0.015625)\"/>\n      <path id=\"DejaVuSans-75\" d=\"M 544 1381 \nL 544 3500 \nL 1119 3500 \nL 1119 1403 \nQ 1119 906 1312 657 \nQ 1506 409 1894 409 \nQ 2359 409 2629 706 \nQ 2900 1003 2900 1516 \nL 2900 3500 \nL 3475 3500 \nL 3475 0 \nL 2900 0 \nL 2900 538 \nQ 2691 219 2414 64 \nQ 2138 -91 1772 -91 \nQ 1169 -91 856 284 \nQ 544 659 544 1381 \nz\nM 1991 3584 \nL 1991 3584 \nz\n\" transform=\"scale(0.015625)\"/>\n      <path id=\"DejaVuSans-65\" d=\"M 3597 1894 \nL 3597 1613 \nL 953 1613 \nQ 991 1019 1311 708 \nQ 1631 397 2203 397 \nQ 2534 397 2845 478 \nQ 3156 559 3463 722 \nL 3463 178 \nQ 3153 47 2828 -22 \nQ 2503 -91 2169 -91 \nQ 1331 -91 842 396 \nQ 353 884 353 1716 \nQ 353 2575 817 3079 \nQ 1281 3584 2069 3584 \nQ 2775 3584 3186 3129 \nQ 3597 2675 3597 1894 \nz\nM 3022 2063 \nQ 3016 2534 2758 2815 \nQ 2500 3097 2075 3097 \nQ 1594 3097 1305 2825 \nQ 1016 2553 972 2059 \nL 3022 2063 \nz\n\" transform=\"scale(0.015625)\"/>\n     </defs>\n     <use xlink:href=\"#DejaVuSans-74\"/>\n     <use xlink:href=\"#DejaVuSans-72\" x=\"39.208984\"/>\n     <use xlink:href=\"#DejaVuSans-6f\" x=\"78.072266\"/>\n     <use xlink:href=\"#DejaVuSans-75\" x=\"139.253906\"/>\n     <use xlink:href=\"#DejaVuSans-73\" x=\"202.632812\"/>\n     <use xlink:href=\"#DejaVuSans-65\" x=\"254.732422\"/>\n     <use xlink:href=\"#DejaVuSans-72\" x=\"316.255859\"/>\n    </g>\n   </g>\n  </g>\n  <g id=\"axes_3\">\n   <g id=\"patch_12\">\n    <path d=\"M 177.758491 93.384163 \nL 248.824528 93.384163 \nL 248.824528 22.318125 \nL 177.758491 22.318125 \nz\n\" style=\"fill: #ffffff\"/>\n   </g>\n   <g clip-path=\"url(#p06ce7a1043)\">\n    <image xlink:href=\"data:image/png;base64,\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\" id=\"image44ab57ccfa\" transform=\"scale(1 -1) translate(0 -71.28)\" x=\"178\" y=\"-22.024163\" width=\"71.28\" height=\"71.28\"/>\n   </g>\n   <g id=\"patch_13\">\n    <path d=\"M 177.758491 93.384163 \nL 177.758491 22.318125 \n\" style=\"fill: none; stroke: #000000; stroke-width: 0.8; stroke-linejoin: miter; stroke-linecap: square\"/>\n   </g>\n   <g id=\"patch_14\">\n    <path d=\"M 248.824528 93.384163 \nL 248.824528 22.318125 \n\" style=\"fill: none; stroke: #000000; stroke-width: 0.8; stroke-linejoin: miter; stroke-linecap: square\"/>\n   </g>\n   <g id=\"patch_15\">\n    <path d=\"M 177.758491 93.384163 \nL 248.824528 93.384163 \n\" style=\"fill: none; stroke: #000000; stroke-width: 0.8; stroke-linejoin: miter; stroke-linecap: square\"/>\n   </g>\n   <g id=\"patch_16\">\n    <path d=\"M 177.758491 22.318125 \nL 248.824528 22.318125 \n\" style=\"fill: none; stroke: #000000; stroke-width: 0.8; stroke-linejoin: miter; stroke-linecap: square\"/>\n   </g>\n   <g id=\"text_3\">\n    <!-- shirt -->\n    <g transform=\"translate(199.877759 16.318125) scale(0.12 -0.12)\">\n     <use xlink:href=\"#DejaVuSans-73\"/>\n     <use xlink:href=\"#DejaVuSans-68\" x=\"52.099609\"/>\n     <use xlink:href=\"#DejaVuSans-69\" x=\"115.478516\"/>\n     <use xlink:href=\"#DejaVuSans-72\" x=\"143.261719\"/>\n     <use xlink:href=\"#DejaVuSans-74\" x=\"184.375\"/>\n    </g>\n   </g>\n  </g>\n  <g id=\"axes_4\">\n   <g id=\"patch_17\">\n    <path d=\"M 263.037736 93.384163 \nL 334.103774 93.384163 \nL 334.103774 22.318125 \nL 263.037736 22.318125 \nz\n\" style=\"fill: #ffffff\"/>\n   </g>\n   <g clip-path=\"url(#p20f24635f2)\">\n    <image xlink:href=\"data:image/png;base64,\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\" id=\"image32809b23a3\" transform=\"scale(1 -1) translate(0 -71.28)\" x=\"263\" y=\"-22.024163\" width=\"71.28\" height=\"71.28\"/>\n   </g>\n   <g id=\"patch_18\">\n    <path d=\"M 263.037736 93.384163 \nL 263.037736 22.318125 \n\" style=\"fill: none; stroke: #000000; stroke-width: 0.8; stroke-linejoin: miter; stroke-linecap: square\"/>\n   </g>\n   <g id=\"patch_19\">\n    <path d=\"M 334.103774 93.384163 \nL 334.103774 22.318125 \n\" style=\"fill: none; stroke: #000000; stroke-width: 0.8; stroke-linejoin: miter; stroke-linecap: square\"/>\n   </g>\n   <g id=\"patch_20\">\n    <path d=\"M 263.037736 93.384163 \nL 334.103774 93.384163 \n\" style=\"fill: none; stroke: #000000; stroke-width: 0.8; stroke-linejoin: miter; stroke-linecap: square\"/>\n   </g>\n   <g id=\"patch_21\">\n    <path d=\"M 263.037736 22.318125 \nL 334.103774 22.318125 \n\" style=\"fill: none; stroke: #000000; stroke-width: 0.8; stroke-linejoin: miter; stroke-linecap: square\"/>\n   </g>\n   <g id=\"text_4\">\n    <!-- bag -->\n    <g transform=\"translate(287.275755 16.318125) scale(0.12 -0.12)\">\n     <defs>\n      <path id=\"DejaVuSans-62\" d=\"M 3116 1747 \nQ 3116 2381 2855 2742 \nQ 2594 3103 2138 3103 \nQ 1681 3103 1420 2742 \nQ 1159 2381 1159 1747 \nQ 1159 1113 1420 752 \nQ 1681 391 2138 391 \nQ 2594 391 2855 752 \nQ 3116 1113 3116 1747 \nz\nM 1159 2969 \nQ 1341 3281 1617 3432 \nQ 1894 3584 2278 3584 \nQ 2916 3584 3314 3078 \nQ 3713 2572 3713 1747 \nQ 3713 922 3314 415 \nQ 2916 -91 2278 -91 \nQ 1894 -91 1617 61 \nQ 1341 213 1159 525 \nL 1159 0 \nL 581 0 \nL 581 4863 \nL 1159 4863 \nL 1159 2969 \nz\n\" transform=\"scale(0.015625)\"/>\n      <path id=\"DejaVuSans-61\" d=\"M 2194 1759 \nQ 1497 1759 1228 1600 \nQ 959 1441 959 1056 \nQ 959 750 1161 570 \nQ 1363 391 1709 391 \nQ 2188 391 2477 730 \nQ 2766 1069 2766 1631 \nL 2766 1759 \nL 2194 1759 \nz\nM 3341 1997 \nL 3341 0 \nL 2766 0 \nL 2766 531 \nQ 2569 213 2275 61 \nQ 1981 -91 1556 -91 \nQ 1019 -91 701 211 \nQ 384 513 384 1019 \nQ 384 1609 779 1909 \nQ 1175 2209 1959 2209 \nL 2766 2209 \nL 2766 2266 \nQ 2766 2663 2505 2880 \nQ 2244 3097 1772 3097 \nQ 1472 3097 1187 3025 \nQ 903 2953 641 2809 \nL 641 3341 \nQ 956 3463 1253 3523 \nQ 1550 3584 1831 3584 \nQ 2591 3584 2966 3190 \nQ 3341 2797 3341 1997 \nz\n\" transform=\"scale(0.015625)\"/>\n      <path id=\"DejaVuSans-67\" d=\"M 2906 1791 \nQ 2906 2416 2648 2759 \nQ 2391 3103 1925 3103 \nQ 1463 3103 1205 2759 \nQ 947 2416 947 1791 \nQ 947 1169 1205 825 \nQ 1463 481 1925 481 \nQ 2391 481 2648 825 \nQ 2906 1169 2906 1791 \nz\nM 3481 434 \nQ 3481 -459 3084 -895 \nQ 2688 -1331 1869 -1331 \nQ 1566 -1331 1297 -1286 \nQ 1028 -1241 775 -1147 \nL 775 -588 \nQ 1028 -725 1275 -790 \nQ 1522 -856 1778 -856 \nQ 2344 -856 2625 -561 \nQ 2906 -266 2906 331 \nL 2906 616 \nQ 2728 306 2450 153 \nQ 2172 0 1784 0 \nQ 1141 0 747 490 \nQ 353 981 353 1791 \nQ 353 2603 747 3093 \nQ 1141 3584 1784 3584 \nQ 2172 3584 2450 3431 \nQ 2728 3278 2906 2969 \nL 2906 3500 \nL 3481 3500 \nL 3481 434 \nz\n\" transform=\"scale(0.015625)\"/>\n     </defs>\n     <use xlink:href=\"#DejaVuSans-62\"/>\n     <use xlink:href=\"#DejaVuSans-61\" x=\"63.476562\"/>\n     <use xlink:href=\"#DejaVuSans-67\" x=\"124.755859\"/>\n    </g>\n   </g>\n  </g>\n  <g id=\"axes_5\">\n   <g id=\"patch_22\">\n    <path d=\"M 348.316981 93.384163 \nL 419.383019 93.384163 \nL 419.383019 22.318125 \nL 348.316981 22.318125 \nz\n\" style=\"fill: #ffffff\"/>\n   </g>\n   <g clip-path=\"url(#pb1dc88318a)\">\n    <image xlink:href=\"data:image/png;base64,\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\" id=\"image2b2228b508\" transform=\"scale(1 -1) translate(0 -71.28)\" x=\"348\" y=\"-22.024163\" width=\"71.28\" height=\"71.28\"/>\n   </g>\n   <g id=\"patch_23\">\n    <path d=\"M 348.316981 93.384163 \nL 348.316981 22.318125 \n\" style=\"fill: none; stroke: #000000; stroke-width: 0.8; stroke-linejoin: miter; stroke-linecap: square\"/>\n   </g>\n   <g id=\"patch_24\">\n    <path d=\"M 419.383019 93.384163 \nL 419.383019 22.318125 \n\" style=\"fill: none; stroke: #000000; stroke-width: 0.8; stroke-linejoin: miter; stroke-linecap: square\"/>\n   </g>\n   <g id=\"patch_25\">\n    <path d=\"M 348.316981 93.384163 \nL 419.383019 93.384163 \n\" style=\"fill: none; stroke: #000000; stroke-width: 0.8; stroke-linejoin: miter; stroke-linecap: square\"/>\n   </g>\n   <g id=\"patch_26\">\n    <path d=\"M 348.316981 22.318125 \nL 419.383019 22.318125 \n\" style=\"fill: none; stroke: #000000; stroke-width: 0.8; stroke-linejoin: miter; stroke-linecap: square\"/>\n   </g>\n   <g id=\"text_5\">\n    <!-- dress -->\n    <g transform=\"translate(367.76625 16.318125) scale(0.12 -0.12)\">\n     <defs>\n      <path id=\"DejaVuSans-64\" d=\"M 2906 2969 \nL 2906 4863 \nL 3481 4863 \nL 3481 0 \nL 2906 0 \nL 2906 525 \nQ 2725 213 2448 61 \nQ 2172 -91 1784 -91 \nQ 1150 -91 751 415 \nQ 353 922 353 1747 \nQ 353 2572 751 3078 \nQ 1150 3584 1784 3584 \nQ 2172 3584 2448 3432 \nQ 2725 3281 2906 2969 \nz\nM 947 1747 \nQ 947 1113 1208 752 \nQ 1469 391 1925 391 \nQ 2381 391 2643 752 \nQ 2906 1113 2906 1747 \nQ 2906 2381 2643 2742 \nQ 2381 3103 1925 3103 \nQ 1469 3103 1208 2742 \nQ 947 2381 947 1747 \nz\n\" transform=\"scale(0.015625)\"/>\n     </defs>\n     <use xlink:href=\"#DejaVuSans-64\"/>\n     <use xlink:href=\"#DejaVuSans-72\" x=\"63.476562\"/>\n     <use xlink:href=\"#DejaVuSans-65\" x=\"102.339844\"/>\n     <use xlink:href=\"#DejaVuSans-73\" x=\"163.863281\"/>\n     <use xlink:href=\"#DejaVuSans-73\" x=\"215.962891\"/>\n    </g>\n   </g>\n  </g>\n  <g id=\"axes_6\">\n   <g id=\"patch_27\">\n    <path d=\"M 433.596226 93.384163 \nL 504.662264 93.384163 \nL 504.662264 22.318125 \nL 433.596226 22.318125 \nz\n\" style=\"fill: #ffffff\"/>\n   </g>\n   <g clip-path=\"url(#pa6457da9f1)\">\n    <image xlink:href=\"data:image/png;base64,\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\" id=\"image032b220d91\" transform=\"scale(1 -1) translate(0 -71.28)\" x=\"434\" y=\"-22.024163\" width=\"71.28\" height=\"71.28\"/>\n   </g>\n   <g id=\"patch_28\">\n    <path d=\"M 433.596226 93.384163 \nL 433.596226 22.318125 \n\" style=\"fill: none; stroke: #000000; stroke-width: 0.8; stroke-linejoin: miter; stroke-linecap: square\"/>\n   </g>\n   <g id=\"patch_29\">\n    <path d=\"M 504.662264 93.384163 \nL 504.662264 22.318125 \n\" style=\"fill: none; stroke: #000000; stroke-width: 0.8; stroke-linejoin: miter; stroke-linecap: square\"/>\n   </g>\n   <g id=\"patch_30\">\n    <path d=\"M 433.596226 93.384163 \nL 504.662264 93.384163 \n\" style=\"fill: none; stroke: #000000; stroke-width: 0.8; stroke-linejoin: miter; stroke-linecap: square\"/>\n   </g>\n   <g id=\"patch_31\">\n    <path d=\"M 433.596226 22.318125 \nL 504.662264 22.318125 \n\" style=\"fill: none; stroke: #000000; stroke-width: 0.8; stroke-linejoin: miter; stroke-linecap: square\"/>\n   </g>\n   <g id=\"text_6\">\n    <!-- ankle boot -->\n    <g transform=\"translate(437.40612 16.318125) scale(0.12 -0.12)\">\n     <defs>\n      <path id=\"DejaVuSans-6e\" d=\"M 3513 2113 \nL 3513 0 \nL 2938 0 \nL 2938 2094 \nQ 2938 2591 2744 2837 \nQ 2550 3084 2163 3084 \nQ 1697 3084 1428 2787 \nQ 1159 2491 1159 1978 \nL 1159 0 \nL 581 0 \nL 581 3500 \nL 1159 3500 \nL 1159 2956 \nQ 1366 3272 1645 3428 \nQ 1925 3584 2291 3584 \nQ 2894 3584 3203 3211 \nQ 3513 2838 3513 2113 \nz\n\" transform=\"scale(0.015625)\"/>\n      <path id=\"DejaVuSans-6b\" d=\"M 581 4863 \nL 1159 4863 \nL 1159 1991 \nL 2875 3500 \nL 3609 3500 \nL 1753 1863 \nL 3688 0 \nL 2938 0 \nL 1159 1709 \nL 1159 0 \nL 581 0 \nL 581 4863 \nz\n\" transform=\"scale(0.015625)\"/>\n      <path id=\"DejaVuSans-6c\" d=\"M 603 4863 \nL 1178 4863 \nL 1178 0 \nL 603 0 \nL 603 4863 \nz\n\" transform=\"scale(0.015625)\"/>\n      <path id=\"DejaVuSans-20\" transform=\"scale(0.015625)\"/>\n     </defs>\n     <use xlink:href=\"#DejaVuSans-61\"/>\n     <use xlink:href=\"#DejaVuSans-6e\" x=\"61.279297\"/>\n     <use xlink:href=\"#DejaVuSans-6b\" x=\"124.658203\"/>\n     <use xlink:href=\"#DejaVuSans-6c\" x=\"182.568359\"/>\n     <use xlink:href=\"#DejaVuSans-65\" x=\"210.351562\"/>\n     <use xlink:href=\"#DejaVuSans-20\" x=\"271.875\"/>\n     <use xlink:href=\"#DejaVuSans-62\" x=\"303.662109\"/>\n     <use xlink:href=\"#DejaVuSans-6f\" x=\"367.138672\"/>\n     <use xlink:href=\"#DejaVuSans-6f\" x=\"428.320312\"/>\n     <use xlink:href=\"#DejaVuSans-74\" x=\"489.501953\"/>\n    </g>\n   </g>\n  </g>\n  <g id=\"axes_7\">\n   <g id=\"patch_32\">\n    <path d=\"M 518.875472 93.384163 \nL 589.941509 93.384163 \nL 589.941509 22.318125 \nL 518.875472 22.318125 \nz\n\" style=\"fill: #ffffff\"/>\n   </g>\n   <g clip-path=\"url(#p26a31cb81a)\">\n    <image xlink:href=\"data:image/png;base64,\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\" id=\"image17b0b76dbf\" transform=\"scale(1 -1) translate(0 -71.28)\" x=\"519\" y=\"-22.024163\" width=\"71.28\" height=\"71.28\"/>\n   </g>\n   <g id=\"patch_33\">\n    <path d=\"M 518.875472 93.384163 \nL 518.875472 22.318125 \n\" style=\"fill: none; stroke: #000000; stroke-width: 0.8; stroke-linejoin: miter; stroke-linecap: square\"/>\n   </g>\n   <g id=\"patch_34\">\n    <path d=\"M 589.941509 93.384163 \nL 589.941509 22.318125 \n\" style=\"fill: none; stroke: #000000; stroke-width: 0.8; stroke-linejoin: miter; stroke-linecap: square\"/>\n   </g>\n   <g id=\"patch_35\">\n    <path d=\"M 518.875472 93.384163 \nL 589.941509 93.384163 \n\" style=\"fill: none; stroke: #000000; stroke-width: 0.8; stroke-linejoin: miter; stroke-linecap: square\"/>\n   </g>\n   <g id=\"patch_36\">\n    <path d=\"M 518.875472 22.318125 \nL 589.941509 22.318125 \n\" style=\"fill: none; stroke: #000000; stroke-width: 0.8; stroke-linejoin: miter; stroke-linecap: square\"/>\n   </g>\n   <g id=\"text_7\">\n    <!-- coat -->\n    <g transform=\"translate(541.409116 16.318125) scale(0.12 -0.12)\">\n     <defs>\n      <path id=\"DejaVuSans-63\" d=\"M 3122 3366 \nL 3122 2828 \nQ 2878 2963 2633 3030 \nQ 2388 3097 2138 3097 \nQ 1578 3097 1268 2742 \nQ 959 2388 959 1747 \nQ 959 1106 1268 751 \nQ 1578 397 2138 397 \nQ 2388 397 2633 464 \nQ 2878 531 3122 666 \nL 3122 134 \nQ 2881 22 2623 -34 \nQ 2366 -91 2075 -91 \nQ 1284 -91 818 406 \nQ 353 903 353 1747 \nQ 353 2603 823 3093 \nQ 1294 3584 2113 3584 \nQ 2378 3584 2631 3529 \nQ 2884 3475 3122 3366 \nz\n\" transform=\"scale(0.015625)\"/>\n     </defs>\n     <use xlink:href=\"#DejaVuSans-63\"/>\n     <use xlink:href=\"#DejaVuSans-6f\" x=\"54.980469\"/>\n     <use xlink:href=\"#DejaVuSans-61\" x=\"116.162109\"/>\n     <use xlink:href=\"#DejaVuSans-74\" x=\"177.441406\"/>\n    </g>\n   </g>\n  </g>\n  <g id=\"axes_8\">\n   <g id=\"patch_37\">\n    <path d=\"M 604.154717 93.384163 \nL 675.220755 93.384163 \nL 675.220755 22.318125 \nL 604.154717 22.318125 \nz\n\" style=\"fill: #ffffff\"/>\n   </g>\n   <g clip-path=\"url(#p0b95842136)\">\n    <image xlink:href=\"data:image/png;base64,\niVBORw0KGgoAAAANSUhEUgAAAGMAAABjCAYAAACPO76VAAAH+UlEQVR4nO1dSW8cVRDu7tln4oz3OHFMNpywKuyIAGJJDlxyQTkicUPiByAuXPIPkBC/AXFBijiQCFCAiEVEJFJEIhITG2clXuJl7PEsvXDrqu+ZbuzJm6iI6ju9Vr153Xb1+6pevarX7hH3WORYQGb/vrjdGq2i7KMZujh8w8bt7jsmPnkRrrf95Mbtvt9mQRZcudrRPbyOfqXoClQZgqDKEISsrYEaD/XG7YVHCiB7tXonbl+2dcP7jNeevwTXZ5qPx22/NAyyfrUZ/3+oMgTBGk1FWdJrdaoNsnNzY3G74kwmjuEVi3AdNhqWni4Zbpb+BZHvJ/abWByC6/It+ntL88m/2wx0ZgiCKkMQVBmCYM9mZNig9QBkHx/4LG5/6GBYAcZI4ex7AbcLneL4+Am4/uDEe3G7fG0VZJ3Gl3RmCIIqQxCs0VRumSgms9IC2dX2kNn9X9EtmrIx7s+r4zhmhqK2YQn/ja7TGXRmCIIqQxBUGYJgz2bMk3vXHqiA7Hx914bGyAyhbXGzmYSejuOUWOhkrZEscxynNdpHz3lnGWRRMRe3vSV0Uf3p63F7ptWDzxaQA+u1Qxwz+alToTNDEFQZgmCNphyfVt3N/hyIzs4TTQVv4EbMzNNEKbWHDRe0SNPfXUXKyq7Qe9QzhT+rj6BzGTxK9BPeRCrMNHjfPpCNfUt9z80t4ph59jsfaapT6MwQBFWGIKgyBMGezWBol1HHJdYuTN8FWe9WsiEDl9ApzK6SHYqyyMtek2Smaxnm8P7RabrOrNSwLwtlNIYwkaIwSclpjw3+DbLvnRH2oHbeaZ0ZgqDKEARrNOXWyH0sLPcn9otquMotzjbpYRbXQBZWiDZa1TzKysmP7gVId67Prg1K8dbInS7fMlbSdVrZF7zuRJThWbp+B8WGocoQBFWGINhzbfMUAgmzGI44wHJt/3R6QRZl6H3gNsKEaQdCttOWrafzOb+H22wbMgqzBEX8d2R6KPr8VOUcyL4JXqILDYc8eFBlCEJXVuCej5QynKdV70QtZcPImO7eKrmWuSZGgv0qrevNFbgJLnWNe3CayjQMumObVl/OHQRRtm6l+g6gM0MQVBmCoMoQBHs2g3FvfgGT2Boh8b2ZUOZX6BHM5DcOk+t5X89wV9f9loVA3AVMSHBGBhJ/FzHXdrgwD7LrK8khlk6hM0MQVBmCYLGMjLmIK02QFT2ikchH15aXEqzLWQ2I3kyawnsbm0kZvIcbsBIFI6cq2ELR4KCA4+TZPbl77jiOk1+mMc2Ve6dvuM4MQVBlCIIqQxDsubYpebHctTXhMjrn0VXHQTvhNtDtBXfVDHEU8H4uC6uEW9BmRCzC7FfwbyjeIltX8NB9TrNhnUJnhiCoMgRBlSEI1mxGyHjaXC80Q35tJqpReMT08znzR0XMDuFriXvhb75jaIKvX5qG3eMy9z92GjcKnRmCoMoQBHtJbDzkYAy7uzgXty84GCXlrmVo0JQZ5uj42VjtSFgoJ/bLNJFCm8MUtd2eWwQZp9ewgC5xyl5mKnRmCIIqQxBUGYJgzWbwsl1vBUuBF3zi3uze3fgArAbCf2LESUJayCMKjDCKmaiWTU5U43aqOIPPfeMwlhtz8EwSbxW3DAKz8wahM0MQVBmCYC9q2+LUgDTxy909cXvm9e0gG/7uNv3KiJry8jN3FWs3+FtkusBpK3I3MErOmGvtLdVB1jpI43468RrIRljfsJrsLm8GOjMEQZUhCKoMQbBnM1jWhVm3N3F7R9xuv4CO3/BX5E62S8YxE1uoXiPVDmwiatvqw+gvD4GEFdwFfGuczj8/+fVzIPMHyWZk51ZApq7tAwBVhiDY21yapVxUr78XZMEdclL3P4mf+Wnv2Ra3c2sYNfWhvLgEMl4yjBHj9QkJHK7BIbllSnSYPoqfJzq542zcfnYKaQoitbN46kOn0JkhCKoMQVBlCII9m1GjxGB3DEMeuSXS+Y1F5OUxxv3V35F7eQgkKqBLmoZ1EV4WLilfwQTmoEoR5dEzGLV95dDbcTtfSz4Cg//t9wKdGYKgyhAEewkJ7LMIfi+6oYMXyJ/0J3DDJiwRFa0rB8t0uLXvo//KExIcww3OGGfZcqx9QW53qYXUx8vfPEtnuOvMEARVhiCoMgTBXk0f402zzqI0QyGHxXGMjHKYu3ncnXWbRlky31ksmTUXybYmqqA9g1LkAbRnOXYkRbZhlD43O43NJkNnhiCoMgShK6fqmJv+nLZ6riHd5G6yVbdZMuynUAE7bMx0V80oLoxrjBmxazMhoTRH9Geu6l1fT9V5oKHKEARVhiB0xWasKyFmNqR08Tb2bbA8VfNLk9xdNkIOaZFSr8f4JA/7mnLqp4OME3fKV8ie1Pcb392YpwivLeuhM0MQVBmC0BWaMr/4VR+ns9G9X+dA5pbYinjNOAs95ePs0SE6wLG9FTee8ifPYmdGaSaFOe3kg8Midv+1Q1iuUPzxGvVLHGFz0JkhCKoMQVBlCIJ7xD1mf11vYOFdOje8tgvzaXeeJjuRv7kAssl3KEd335v4/bf3d56O23+10O3kZWuOg1+fvHoUS58DdmBkbRztydJeeld3nloCWXT+omMbOjMEQZUhCPeFpjiyu8bg+u6h0bhdH8Z3o/kyuaSDn2Op1tYfJuN2ZKzGg2cOwHX7+GLcnv4DXdTqZVqRV6fQzS2eOk/36NKH4zl0ZgiCKkMQVBmC8A+35WqsS26MpwAAAABJRU5ErkJggg==\" id=\"image011f834f06\" transform=\"scale(1 -1) translate(0 -71.28)\" x=\"604\" y=\"-22.024163\" width=\"71.28\" height=\"71.28\"/>\n   </g>\n   <g id=\"patch_38\">\n    <path d=\"M 604.154717 93.384163 \nL 604.154717 22.318125 \n\" style=\"fill: none; stroke: #000000; stroke-width: 0.8; stroke-linejoin: miter; stroke-linecap: square\"/>\n   </g>\n   <g id=\"patch_39\">\n    <path d=\"M 675.220755 93.384163 \nL 675.220755 22.318125 \n\" style=\"fill: none; stroke: #000000; stroke-width: 0.8; stroke-linejoin: miter; stroke-linecap: square\"/>\n   </g>\n   <g id=\"patch_40\">\n    <path d=\"M 604.154717 93.384163 \nL 675.220755 93.384163 \n\" style=\"fill: none; stroke: #000000; stroke-width: 0.8; stroke-linejoin: miter; stroke-linecap: square\"/>\n   </g>\n   <g id=\"patch_41\">\n    <path d=\"M 604.154717 22.318125 \nL 675.220755 22.318125 \n\" style=\"fill: none; stroke: #000000; stroke-width: 0.8; stroke-linejoin: miter; stroke-linecap: square\"/>\n   </g>\n   <g id=\"text_8\">\n    <!-- pullover -->\n    <g transform=\"translate(615.361486 16.318125) scale(0.12 -0.12)\">\n     <defs>\n      <path id=\"DejaVuSans-70\" d=\"M 1159 525 \nL 1159 -1331 \nL 581 -1331 \nL 581 3500 \nL 1159 3500 \nL 1159 2969 \nQ 1341 3281 1617 3432 \nQ 1894 3584 2278 3584 \nQ 2916 3584 3314 3078 \nQ 3713 2572 3713 1747 \nQ 3713 922 3314 415 \nQ 2916 -91 2278 -91 \nQ 1894 -91 1617 61 \nQ 1341 213 1159 525 \nz\nM 3116 1747 \nQ 3116 2381 2855 2742 \nQ 2594 3103 2138 3103 \nQ 1681 3103 1420 2742 \nQ 1159 2381 1159 1747 \nQ 1159 1113 1420 752 \nQ 1681 391 2138 391 \nQ 2594 391 2855 752 \nQ 3116 1113 3116 1747 \nz\n\" transform=\"scale(0.015625)\"/>\n      <path id=\"DejaVuSans-76\" d=\"M 191 3500 \nL 800 3500 \nL 1894 563 \nL 2988 3500 \nL 3597 3500 \nL 2284 0 \nL 1503 0 \nL 191 3500 \nz\n\" transform=\"scale(0.015625)\"/>\n     </defs>\n     <use xlink:href=\"#DejaVuSans-70\"/>\n     <use xlink:href=\"#DejaVuSans-75\" x=\"63.476562\"/>\n     <use xlink:href=\"#DejaVuSans-6c\" x=\"126.855469\"/>\n     <use xlink:href=\"#DejaVuSans-6c\" x=\"154.638672\"/>\n     <use xlink:href=\"#DejaVuSans-6f\" x=\"182.421875\"/>\n     <use xlink:href=\"#DejaVuSans-76\" x=\"243.603516\"/>\n     <use xlink:href=\"#DejaVuSans-65\" x=\"302.783203\"/>\n     <use xlink:href=\"#DejaVuSans-72\" x=\"364.306641\"/>\n    </g>\n   </g>\n  </g>\n  <g id=\"axes_9\">\n   <g id=\"patch_42\">\n    <path d=\"M 689.433962 93.384163 \nL 760.5 93.384163 \nL 760.5 22.318125 \nL 689.433962 22.318125 \nz\n\" style=\"fill: #ffffff\"/>\n   </g>\n   <g clip-path=\"url(#pe5b5af2cae)\">\n    <image xlink:href=\"data:image/png;base64,\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\" id=\"imageaa568bf9ba\" transform=\"scale(1 -1) translate(0 -71.28)\" x=\"689\" y=\"-22.024163\" width=\"71.28\" height=\"71.28\"/>\n   </g>\n   <g id=\"patch_43\">\n    <path d=\"M 689.433962 93.384163 \nL 689.433962 22.318125 \n\" style=\"fill: none; stroke: #000000; stroke-width: 0.8; stroke-linejoin: miter; stroke-linecap: square\"/>\n   </g>\n   <g id=\"patch_44\">\n    <path d=\"M 760.5 93.384163 \nL 760.5 22.318125 \n\" style=\"fill: none; stroke: #000000; stroke-width: 0.8; stroke-linejoin: miter; stroke-linecap: square\"/>\n   </g>\n   <g id=\"patch_45\">\n    <path d=\"M 689.433962 93.384163 \nL 760.5 93.384163 \n\" style=\"fill: none; stroke: #000000; stroke-width: 0.8; stroke-linejoin: miter; stroke-linecap: square\"/>\n   </g>\n   <g id=\"patch_46\">\n    <path d=\"M 689.433962 22.318125 \nL 760.5 22.318125 \n\" style=\"fill: none; stroke: #000000; stroke-width: 0.8; stroke-linejoin: miter; stroke-linecap: square\"/>\n   </g>\n   <g id=\"text_9\">\n    <!-- dress -->\n    <g transform=\"translate(708.883231 16.318125) scale(0.12 -0.12)\">\n     <use xlink:href=\"#DejaVuSans-64\"/>\n     <use xlink:href=\"#DejaVuSans-72\" x=\"63.476562\"/>\n     <use xlink:href=\"#DejaVuSans-65\" x=\"102.339844\"/>\n     <use xlink:href=\"#DejaVuSans-73\" x=\"163.863281\"/>\n     <use xlink:href=\"#DejaVuSans-73\" x=\"215.962891\"/>\n    </g>\n   </g>\n  </g>\n  <g id=\"axes_10\">\n   <g id=\"patch_47\">\n    <path d=\"M 7.2 184.104163 \nL 78.266038 184.104163 \nL 78.266038 113.038125 \nL 7.2 113.038125 \nz\n\" style=\"fill: #ffffff\"/>\n   </g>\n   <g clip-path=\"url(#p3eba8ff2d8)\">\n    <image xlink:href=\"data:image/png;base64,\niVBORw0KGgoAAAANSUhEUgAAAGMAAABjCAYAAACPO76VAAAFZklEQVR4nO2dTW8bRRjHZ3f9srHr2Gle2gRRggoUClVAIKFWICSEhIQEp0rtjTPwCfgKHDnDEU4gcUJCwJFGiBTRHjjw1pYesGrquLHjrF9ml0s18zxTxnUh9v4Pz+80o2d3vcp/n5ednZkErwXnMwXK8OtHTPujJz5htncuvmfawfaVidd55nJo2qcqTWb7/Km1/3OLh0p4/0OEeSFiACFiAFHI+wYmceGhHdM+WTzCbDfeqJj25jY/L4xj1n9/7VvTjlTAbF+cfsm09c+//Od7PQzEM4AQMYCADlPFQHttw1W/7eDVM6w/yr4x7TiMuO2oDXd5P5l5/75AEDGAEDGAAM8ZY69tYaXvtbWfLLL+esGWxf10yGxZAed5xLkTQcRAAjpMVcOh17be2PPaBkv+geiR4iVxWrBv5JF78JwRzwBCxABCxAACOmesFvx54bHFlmlfd2zDY/6SOM14PpHSVvhXRAwgoMMUxX1zXi31TPu6U5QurvVYv5cmph0G/OMSLW3zRjwDCBEDCBEDCKic4U4kiIORabvDGPUCHbWtMdvDjY73N9zSFgnxDCBEDCCgwlQQl1k/JhMS3PByNNonPR6mNqtt1tfKH5oyoL+AeAYQIgYQIgYQQBFTqaBRZ/0amZCgnTmytejAe523ln5k/X5qc0/ipI+45f+aOG/EM4AQMYCAClN3Xlhn/UfJMoA/x3wkdjnifcqLMf8oNchsiCs6ZW7UG5h2Ov2tzgTxDCBEDCBEDCCgckay5H82koyXthtR13tsPVxg/d9HPWLj1+k8bcvpxckrmGeOeAYQIgYQUGHq9jn+NjzK7JtzP+W3ulHwz41yaWkbtuphwmzNl21Bu/jp1JecCeIZQIgYQIgYQEDljDfPXGV9mjOGznOjH2BiQZIVSZuP9m6dvmHa/nHg+SCeAYSIAYSIAQRUznh7+TvWb7PJznzmSBRMP2GZLmHuO8MqzzVumvYlVZr6mrNAPAMIEQMIqDD1fJmHiZ8GtnyNnC90RTJBoXD82MTravLMdVO+e8L5+mXTvqTOTn+zM0A8AwgRAwgRA4jcc0ZQ8N/CPhnG0M5zUyFf7PrPnpj4GwnJE6WQr/Nw81SeiGcAIWIAkXuYGr2yRXo73EYWTwwzvry4rcnS4wuTp5+VyDqPTlpxrHYSW1jj6zzSrn/SwywQzwBCxABCxAAi95zR2ip7bTS+h8605Jvannft9Y+ZbVfzzSQ1WfPXHPM1IErdMq3k3ClmKX21o+aJeAYQIgYQuYep3kn/nub0zdndCKyb2t0UdjUvQX8d85FZWiLrzP/87W3y81a8R84G8QwgRAwgRAwgcs8Z5TX/nuZ0CKSb8jUXlcAOY5QDZ1J0NGD9P4b237/RXONysJLvrmziGUCIGEDkHqaiyD/iGgV2EoL77xva2i5LvjbmZW9T87fsPRLi3IkNlGTDX2bPA/EMIEQMIEQMIHLPGcOB/xYaZLe1auCs9wvteS1dZTa3DD5RvG3a947aWrJYcoZwFxEDiNzDlG4u3P8gpVQlHHj7dJmYUkrVQr4gjO6P2wncCQmW0l9Fr20eiGcAIWIAIWIAkXvOKHb9I6X7qZ10MOkLHc0JSt1b2o7I6G9Huzlj17QWbsmorXAXEQOI3MPUylX/qO0i2QHH3dc2Se1Ufre0bY+PsH5IRn/jkIc0SuM3v20eiGcAIWIAIWIAkXvOqH72ve18yG1n445pu5tAKpUoP3e8FnezYqVsfil/+cOEa84e8QwgRAwgcg9TlK0P3mX97uP2Y0/pb76MLItsuVra42Wvs1eLCkj1fHCcl9LLV+zBDbX9QPd72IhnACFiACFiAPEP8DFBNstS7BcAAAAASUVORK5CYII=\" id=\"image620f083dea\" transform=\"scale(1 -1) translate(0 -71.28)\" x=\"7\" y=\"-113.024163\" width=\"71.28\" height=\"71.28\"/>\n   </g>\n   <g id=\"patch_48\">\n    <path d=\"M 7.2 184.104163 \nL 7.2 113.038125 \n\" style=\"fill: none; stroke: #000000; stroke-width: 0.8; stroke-linejoin: miter; stroke-linecap: square\"/>\n   </g>\n   <g id=\"patch_49\">\n    <path d=\"M 78.266038 184.104163 \nL 78.266038 113.038125 \n\" style=\"fill: none; stroke: #000000; stroke-width: 0.8; stroke-linejoin: miter; stroke-linecap: square\"/>\n   </g>\n   <g id=\"patch_50\">\n    <path d=\"M 7.2 184.104163 \nL 78.266038 184.104163 \n\" style=\"fill: none; stroke: #000000; stroke-width: 0.8; stroke-linejoin: miter; stroke-linecap: square\"/>\n   </g>\n   <g id=\"patch_51\">\n    <path d=\"M 7.2 113.038125 \nL 78.266038 113.038125 \n\" style=\"fill: none; stroke: #000000; stroke-width: 0.8; stroke-linejoin: miter; stroke-linecap: square\"/>\n   </g>\n   <g id=\"text_10\">\n    <!-- trouser -->\n    <g transform=\"translate(21.291456 107.038125) scale(0.12 -0.12)\">\n     <use xlink:href=\"#DejaVuSans-74\"/>\n     <use xlink:href=\"#DejaVuSans-72\" x=\"39.208984\"/>\n     <use xlink:href=\"#DejaVuSans-6f\" x=\"78.072266\"/>\n     <use xlink:href=\"#DejaVuSans-75\" x=\"139.253906\"/>\n     <use xlink:href=\"#DejaVuSans-73\" x=\"202.632812\"/>\n     <use xlink:href=\"#DejaVuSans-65\" x=\"254.732422\"/>\n     <use xlink:href=\"#DejaVuSans-72\" x=\"316.255859\"/>\n    </g>\n   </g>\n  </g>\n  <g id=\"axes_11\">\n   <g id=\"patch_52\">\n    <path d=\"M 92.479245 184.104163 \nL 163.545283 184.104163 \nL 163.545283 113.038125 \nL 92.479245 113.038125 \nz\n\" style=\"fill: #ffffff\"/>\n   </g>\n   <g clip-path=\"url(#pcf1a912dce)\">\n    <image xlink:href=\"data:image/png;base64,\niVBORw0KGgoAAAANSUhEUgAAAGMAAABjCAYAAACPO76VAAAIKklEQVR4nO2dXWxUVRCA78/e7bZlyxZaKJCmCIWSEBMqiuAPijbyYKImEuHFEElM1OCTMSHqizH4ZGJ8MAYCL8YQCaGJLwQQ/0ICajVBfqWkBYXWltI/tuz/vde3c2am3s12PZtMyHxPczP3r5175syZM+es3WNvCy0DTO7cpOTsS9NI1/pFg5K9k7/hC21by6GRV6ke+C6Whd6n2LMeqUbeyCt54aFGpGvo/aWqxztVXSXUBDEGI8QYjIgZu9Mrd5R4ofsIUq1I71LyqpP4MqeuTsmhHyBdWCqCg9r3J059PToOMhkl33gB/6sGHzuo5E2NL+Mb9Vb5/OouE2qBGIMRxtzU2FBKH3QTZdqLvC7I5Uy9wv8GuiWKl8bfbTH0lTw+jUPbpiqfLy2DEWIMRogxGGGsz4jfjr5V6AWROrerU8kDr7YindM1o+Qty68hXb1T0NfN4Ov2tB9Dxx/ffF7JE9kGpIMB8+TpNqRr33tGyX4Ch9ae7WpdybVMIC2DEWIMRpgbgdvRqtiEfgzNfp74Uo9kJ30cWhaBEymUG4FjL2XlyamfLD+q5FyIXYpnaRe6+sEE0q1P71ayQ28KcG8mInVzQVoGI8QYjBBjMMJYn1Gqj/apfqP2y+O7cb9wx7+n5J+yS5Au6WSVnHCKSJcLdIolIN9Ug5Ov+Ny7gfb308EEfu8tU0oujs7DulD/TXbJMoK0DEaIMRhhzE0FDdGj7NDTLsz+vhnpWjbojGcjcS/w2LN9pIOfURDibypu4XMDW+t9C79nk6OzxhsTOOwtnk/p9+7A7+aCe7qFMnH9HJCWwQgxBiPEGIwwlw5xdb+QD3EYunzlqD7t8MLIW/hlciq0X4DHuRDPJHok1iyAFAgNbUdK88HRbaRL9ev+JfboJNJlAp01DjwzxRLSMhghxmCEOTcV0016zMdh4Icrv1Hy3h/WRd4i6eDihGIIXo+4HujSCiQT65NvrGiBiSDi7uAzqXtd0Dem5D0f4WKoGXCuH7eMIC2DEWIMRogxGGGuzyhqu9JJsc1gImwvuexKQWdx15AQ8UJBl4M55LuBvt+1cYoDZmkpNAyG6ZCzuTqk8/sHlLyZTOYNFEGKx1AZsLQMRogxGGHMTTkzOny8F1Z+2/f/flHJvZ3fIh10RTRrC0fSRfI8l/gNqJ/ycV3s1oYRJT/9+2tIt8j6M/K9C+DdZHLpPkSMwQgxBiOM9RmxrE5PBGHlM1/n+1bqA9JnwH7BtaJnEimzChJ8Hc7GiYOf7+ilY6XTCyp+BkRm+u5DxBiMMOam7JJuqg4JLWFtlNuCJ5fmX62sidNMrAPcFh1xZ2w8ki43Ioe0niNFB2u7lJwP+5BuOgDPqNyDlkVaBiPEGIwQYzDCWJ9Rfzta54JZuaAdL9WaN+zT0/8TWpBAM7UQWtjgwHPLZFjrr46i4+kNy5RcZ+N+Z8QHtbdmIltpGZwQYzBCjMEIY33GwkvR2044YIezTAdOYccylQXpDukjfFARci/A44qkm0XHcZB+H/Xxzjnonv+MoOPhZ3SfQdcbWpbuM9y8ZQRpGYwQYzDCmJuqu64LvjIk/RCEuh0PP4nt33EsOrSd8vVuBgm7GHkeTZW4JH6FV1IXBglLOKO7Zf2lyHPhErd5Q2byIdIyGCHGYIQYgxHm1vSNjSt5PMDhazrU/vWpxy8i3a0jKyLvSfsCCOwX6Cwg7V9gemTW2kCIgwuoH2m6ruRhH+c84DOaz5Ely9FPKIu0DEaIMRhhzk2BzRbHS3g3ganYlJLfW3Ic6XZ8oPe8hUuzLMuy2sB1FDginzULSEbrCRDcLovh5WC/5rWuf99DSLc9+ZmSLxdxse1UoMPu8MatyPecC9IyGCHGYIQYgxHm1mcABvKL0fHquJ5Ba43hlMPP3V8r+XgWb8+bC6IXy8HlxRlyHq0GgWsyMiTDCzO+p577FOn68nprjUXuDNJdKOgql3KbE88FaRmMEGMwoiZuapF3Fx13enriadTHo9zTOe0KaNEBdC+0fhY6onLXWRZ2TXSZMuTwNN7Mcmlch8FxMnIvlx2oFmkZjBBjMEKMwYia9BnXsji0TTTpfcwvFbAO+nOaUYX9xKxd2mydOlnq4RRHysWhJlznUSB9FgyRF8Rw+DpWSip5Xd1NpNvf/4SS26wrlgmkZTBCjMGImripU391oeO3W35U8gTJ6EJSHnYvcAKHhrZQ1xbDv5iZIrvzwNDXIRNR0E3ScXTG17qpANdb2d81W6aRlsEIMQYjxBiMqEmf0boP+9fkAT2ZT/c0T4PaV5ptTcZ0IUOTjfsM6MNpioP+RsZikHGlazfSQXTtbWdCZ5uHSriPWHpIb2VRbQECRVoGI8QYjKiJm4qfwD/AvrH3HSXvfhb/0u7DDYNKpvVPdLccCBw50yxtOiA7dZX55GDNLOXoqC5QGDrQiXSp8bPRN60SaRmMEGMwQozBCLvH3mZoI28QTgaVB3vp7RuVHNuFl/4eWPOVkqdI0UECZHgHiy1I1+rimUZYlwuLzyzLst48uVPJa/bjrG1w7nLZdzeNtAxGiDEYYc5NobuSLQPK/fpkGXouppW8LfkH0g2Cn1oYKaWQrt0bR8fLwaRRz5m3kO6BHecrehe7DtdbhXlDS1wB0jIYIcZghBiDETVJh5TtI0h/4gBfHOTwDN3Bo1uV/O7rA0jn2Xp2b5WHZ/qSNv7Gml09u9jxeXQRm5PAaZQA9Au16CNmPb/mTxAqRozBiNqEtjXA7l5b8bmhR3ZMSGv351+5Rk9ng7QMRogxGCHGYMS/5Jtpuw+Zf8YAAAAASUVORK5CYII=\" id=\"image1a15ca38c5\" transform=\"scale(1 -1) translate(0 -71.28)\" x=\"92\" y=\"-113.024163\" width=\"71.28\" height=\"71.28\"/>\n   </g>\n   <g id=\"patch_53\">\n    <path d=\"M 92.479245 184.104163 \nL 92.479245 113.038125 \n\" style=\"fill: none; stroke: #000000; stroke-width: 0.8; stroke-linejoin: miter; stroke-linecap: square\"/>\n   </g>\n   <g id=\"patch_54\">\n    <path d=\"M 163.545283 184.104163 \nL 163.545283 113.038125 \n\" style=\"fill: none; stroke: #000000; stroke-width: 0.8; stroke-linejoin: miter; stroke-linecap: square\"/>\n   </g>\n   <g id=\"patch_55\">\n    <path d=\"M 92.479245 184.104163 \nL 163.545283 184.104163 \n\" style=\"fill: none; stroke: #000000; stroke-width: 0.8; stroke-linejoin: miter; stroke-linecap: square\"/>\n   </g>\n   <g id=\"patch_56\">\n    <path d=\"M 92.479245 113.038125 \nL 163.545283 113.038125 \n\" style=\"fill: none; stroke: #000000; stroke-width: 0.8; stroke-linejoin: miter; stroke-linecap: square\"/>\n   </g>\n   <g id=\"text_11\">\n    <!-- coat -->\n    <g transform=\"translate(115.012889 107.038125) scale(0.12 -0.12)\">\n     <use xlink:href=\"#DejaVuSans-63\"/>\n     <use xlink:href=\"#DejaVuSans-6f\" x=\"54.980469\"/>\n     <use xlink:href=\"#DejaVuSans-61\" x=\"116.162109\"/>\n     <use xlink:href=\"#DejaVuSans-74\" x=\"177.441406\"/>\n    </g>\n   </g>\n  </g>\n  <g id=\"axes_12\">\n   <g id=\"patch_57\">\n    <path d=\"M 177.758491 184.104163 \nL 248.824528 184.104163 \nL 248.824528 113.038125 \nL 177.758491 113.038125 \nz\n\" style=\"fill: #ffffff\"/>\n   </g>\n   <g clip-path=\"url(#p7c0dd6d952)\">\n    <image xlink:href=\"data:image/png;base64,\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\" id=\"image70b3868d31\" transform=\"scale(1 -1) translate(0 -71.28)\" x=\"178\" y=\"-113.024163\" width=\"71.28\" height=\"71.28\"/>\n   </g>\n   <g id=\"patch_58\">\n    <path d=\"M 177.758491 184.104163 \nL 177.758491 113.038125 \n\" style=\"fill: none; stroke: #000000; stroke-width: 0.8; stroke-linejoin: miter; stroke-linecap: square\"/>\n   </g>\n   <g id=\"patch_59\">\n    <path d=\"M 248.824528 184.104163 \nL 248.824528 113.038125 \n\" style=\"fill: none; stroke: #000000; stroke-width: 0.8; stroke-linejoin: miter; stroke-linecap: square\"/>\n   </g>\n   <g id=\"patch_60\">\n    <path d=\"M 177.758491 184.104163 \nL 248.824528 184.104163 \n\" style=\"fill: none; stroke: #000000; stroke-width: 0.8; stroke-linejoin: miter; stroke-linecap: square\"/>\n   </g>\n   <g id=\"patch_61\">\n    <path d=\"M 177.758491 113.038125 \nL 248.824528 113.038125 \n\" style=\"fill: none; stroke: #000000; stroke-width: 0.8; stroke-linejoin: miter; stroke-linecap: square\"/>\n   </g>\n   <g id=\"text_12\">\n    <!-- sandal -->\n    <g transform=\"translate(193.533697 107.038125) scale(0.12 -0.12)\">\n     <use xlink:href=\"#DejaVuSans-73\"/>\n     <use xlink:href=\"#DejaVuSans-61\" x=\"52.099609\"/>\n     <use xlink:href=\"#DejaVuSans-6e\" x=\"113.378906\"/>\n     <use xlink:href=\"#DejaVuSans-64\" x=\"176.757812\"/>\n     <use xlink:href=\"#DejaVuSans-61\" x=\"240.234375\"/>\n     <use xlink:href=\"#DejaVuSans-6c\" x=\"301.513672\"/>\n    </g>\n   </g>\n  </g>\n  <g id=\"axes_13\">\n   <g id=\"patch_62\">\n    <path d=\"M 263.037736 184.104163 \nL 334.103774 184.104163 \nL 334.103774 113.038125 \nL 263.037736 113.038125 \nz\n\" style=\"fill: #ffffff\"/>\n   </g>\n   <g clip-path=\"url(#p268af9595c)\">\n    <image xlink:href=\"data:image/png;base64,\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\" id=\"imagedb5be7009b\" transform=\"scale(1 -1) translate(0 -71.28)\" x=\"263\" y=\"-113.024163\" width=\"71.28\" height=\"71.28\"/>\n   </g>\n   <g id=\"patch_63\">\n    <path d=\"M 263.037736 184.104163 \nL 263.037736 113.038125 \n\" style=\"fill: none; stroke: #000000; stroke-width: 0.8; stroke-linejoin: miter; stroke-linecap: square\"/>\n   </g>\n   <g id=\"patch_64\">\n    <path d=\"M 334.103774 184.104163 \nL 334.103774 113.038125 \n\" style=\"fill: none; stroke: #000000; stroke-width: 0.8; stroke-linejoin: miter; stroke-linecap: square\"/>\n   </g>\n   <g id=\"patch_65\">\n    <path d=\"M 263.037736 184.104163 \nL 334.103774 184.104163 \n\" style=\"fill: none; stroke: #000000; stroke-width: 0.8; stroke-linejoin: miter; stroke-linecap: square\"/>\n   </g>\n   <g id=\"patch_66\">\n    <path d=\"M 263.037736 113.038125 \nL 334.103774 113.038125 \n\" style=\"fill: none; stroke: #000000; stroke-width: 0.8; stroke-linejoin: miter; stroke-linecap: square\"/>\n   </g>\n   <g id=\"text_13\">\n    <!-- t-shirt -->\n    <g transform=\"translate(280.64013 107.038125) scale(0.12 -0.12)\">\n     <defs>\n      <path id=\"DejaVuSans-2d\" d=\"M 313 2009 \nL 1997 2009 \nL 1997 1497 \nL 313 1497 \nL 313 2009 \nz\n\" transform=\"scale(0.015625)\"/>\n     </defs>\n     <use xlink:href=\"#DejaVuSans-74\"/>\n     <use xlink:href=\"#DejaVuSans-2d\" x=\"39.208984\"/>\n     <use xlink:href=\"#DejaVuSans-73\" x=\"75.292969\"/>\n     <use xlink:href=\"#DejaVuSans-68\" x=\"127.392578\"/>\n     <use xlink:href=\"#DejaVuSans-69\" x=\"190.771484\"/>\n     <use xlink:href=\"#DejaVuSans-72\" x=\"218.554688\"/>\n     <use xlink:href=\"#DejaVuSans-74\" x=\"259.667969\"/>\n    </g>\n   </g>\n  </g>\n  <g id=\"axes_14\">\n   <g id=\"patch_67\">\n    <path d=\"M 348.316981 184.104163 \nL 419.383019 184.104163 \nL 419.383019 113.038125 \nL 348.316981 113.038125 \nz\n\" style=\"fill: #ffffff\"/>\n   </g>\n   <g clip-path=\"url(#p096d7d69ba)\">\n    <image xlink:href=\"data:image/png;base64,\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\" id=\"image3eb37de996\" transform=\"scale(1 -1) translate(0 -71.28)\" x=\"348\" y=\"-113.024163\" width=\"71.28\" height=\"71.28\"/>\n   </g>\n   <g id=\"patch_68\">\n    <path d=\"M 348.316981 184.104163 \nL 348.316981 113.038125 \n\" style=\"fill: none; stroke: #000000; stroke-width: 0.8; stroke-linejoin: miter; stroke-linecap: square\"/>\n   </g>\n   <g id=\"patch_69\">\n    <path d=\"M 419.383019 184.104163 \nL 419.383019 113.038125 \n\" style=\"fill: none; stroke: #000000; stroke-width: 0.8; stroke-linejoin: miter; stroke-linecap: square\"/>\n   </g>\n   <g id=\"patch_70\">\n    <path d=\"M 348.316981 184.104163 \nL 419.383019 184.104163 \n\" style=\"fill: none; stroke: #000000; stroke-width: 0.8; stroke-linejoin: miter; stroke-linecap: square\"/>\n   </g>\n   <g id=\"patch_71\">\n    <path d=\"M 348.316981 113.038125 \nL 419.383019 113.038125 \n\" style=\"fill: none; stroke: #000000; stroke-width: 0.8; stroke-linejoin: miter; stroke-linecap: square\"/>\n   </g>\n   <g id=\"text_14\">\n    <!-- pullover -->\n    <g transform=\"translate(359.52375 107.038125) scale(0.12 -0.12)\">\n     <use xlink:href=\"#DejaVuSans-70\"/>\n     <use xlink:href=\"#DejaVuSans-75\" x=\"63.476562\"/>\n     <use xlink:href=\"#DejaVuSans-6c\" x=\"126.855469\"/>\n     <use xlink:href=\"#DejaVuSans-6c\" x=\"154.638672\"/>\n     <use xlink:href=\"#DejaVuSans-6f\" x=\"182.421875\"/>\n     <use xlink:href=\"#DejaVuSans-76\" x=\"243.603516\"/>\n     <use xlink:href=\"#DejaVuSans-65\" x=\"302.783203\"/>\n     <use xlink:href=\"#DejaVuSans-72\" x=\"364.306641\"/>\n    </g>\n   </g>\n  </g>\n  <g id=\"axes_15\">\n   <g id=\"patch_72\">\n    <path d=\"M 433.596226 184.104163 \nL 504.662264 184.104163 \nL 504.662264 113.038125 \nL 433.596226 113.038125 \nz\n\" style=\"fill: #ffffff\"/>\n   </g>\n   <g clip-path=\"url(#p7cb0e61ed0)\">\n    <image xlink:href=\"data:image/png;base64,\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\" id=\"image2dd2a623d9\" transform=\"scale(1 -1) translate(0 -71.28)\" x=\"434\" y=\"-113.024163\" width=\"71.28\" height=\"71.28\"/>\n   </g>\n   <g id=\"patch_73\">\n    <path d=\"M 433.596226 184.104163 \nL 433.596226 113.038125 \n\" style=\"fill: none; stroke: #000000; stroke-width: 0.8; stroke-linejoin: miter; stroke-linecap: square\"/>\n   </g>\n   <g id=\"patch_74\">\n    <path d=\"M 504.662264 184.104163 \nL 504.662264 113.038125 \n\" style=\"fill: none; stroke: #000000; stroke-width: 0.8; stroke-linejoin: miter; stroke-linecap: square\"/>\n   </g>\n   <g id=\"patch_75\">\n    <path d=\"M 433.596226 184.104163 \nL 504.662264 184.104163 \n\" style=\"fill: none; stroke: #000000; stroke-width: 0.8; stroke-linejoin: miter; stroke-linecap: square\"/>\n   </g>\n   <g id=\"patch_76\">\n    <path d=\"M 433.596226 113.038125 \nL 504.662264 113.038125 \n\" style=\"fill: none; stroke: #000000; stroke-width: 0.8; stroke-linejoin: miter; stroke-linecap: square\"/>\n   </g>\n   <g id=\"text_15\">\n    <!-- sneaker -->\n    <g transform=\"translate(445.417058 107.038125) scale(0.12 -0.12)\">\n     <use xlink:href=\"#DejaVuSans-73\"/>\n     <use xlink:href=\"#DejaVuSans-6e\" x=\"52.099609\"/>\n     <use xlink:href=\"#DejaVuSans-65\" x=\"115.478516\"/>\n     <use xlink:href=\"#DejaVuSans-61\" x=\"177.001953\"/>\n     <use xlink:href=\"#DejaVuSans-6b\" x=\"238.28125\"/>\n     <use xlink:href=\"#DejaVuSans-65\" x=\"292.566406\"/>\n     <use xlink:href=\"#DejaVuSans-72\" x=\"354.089844\"/>\n    </g>\n   </g>\n  </g>\n  <g id=\"axes_16\">\n   <g id=\"patch_77\">\n    <path d=\"M 518.875472 184.104163 \nL 589.941509 184.104163 \nL 589.941509 113.038125 \nL 518.875472 113.038125 \nz\n\" style=\"fill: #ffffff\"/>\n   </g>\n   <g clip-path=\"url(#p2bfd3b6b88)\">\n    <image xlink:href=\"data:image/png;base64,\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\" id=\"image180d841140\" transform=\"scale(1 -1) translate(0 -71.28)\" x=\"519\" y=\"-113.024163\" width=\"71.28\" height=\"71.28\"/>\n   </g>\n   <g id=\"patch_78\">\n    <path d=\"M 518.875472 184.104163 \nL 518.875472 113.038125 \n\" style=\"fill: none; stroke: #000000; stroke-width: 0.8; stroke-linejoin: miter; stroke-linecap: square\"/>\n   </g>\n   <g id=\"patch_79\">\n    <path d=\"M 589.941509 184.104163 \nL 589.941509 113.038125 \n\" style=\"fill: none; stroke: #000000; stroke-width: 0.8; stroke-linejoin: miter; stroke-linecap: square\"/>\n   </g>\n   <g id=\"patch_80\">\n    <path d=\"M 518.875472 184.104163 \nL 589.941509 184.104163 \n\" style=\"fill: none; stroke: #000000; stroke-width: 0.8; stroke-linejoin: miter; stroke-linecap: square\"/>\n   </g>\n   <g id=\"patch_81\">\n    <path d=\"M 518.875472 113.038125 \nL 589.941509 113.038125 \n\" style=\"fill: none; stroke: #000000; stroke-width: 0.8; stroke-linejoin: miter; stroke-linecap: square\"/>\n   </g>\n   <g id=\"text_16\">\n    <!-- bag -->\n    <g transform=\"translate(543.113491 107.038125) scale(0.12 -0.12)\">\n     <use xlink:href=\"#DejaVuSans-62\"/>\n     <use xlink:href=\"#DejaVuSans-61\" x=\"63.476562\"/>\n     <use xlink:href=\"#DejaVuSans-67\" x=\"124.755859\"/>\n    </g>\n   </g>\n  </g>\n  <g id=\"axes_17\">\n   <g id=\"patch_82\">\n    <path d=\"M 604.154717 184.104163 \nL 675.220755 184.104163 \nL 675.220755 113.038125 \nL 604.154717 113.038125 \nz\n\" style=\"fill: #ffffff\"/>\n   </g>\n   <g clip-path=\"url(#p3ad7474243)\">\n    <image xlink:href=\"data:image/png;base64,\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\" id=\"imagec0548cb303\" transform=\"scale(1 -1) translate(0 -71.28)\" x=\"604\" y=\"-113.024163\" width=\"71.28\" height=\"71.28\"/>\n   </g>\n   <g id=\"patch_83\">\n    <path d=\"M 604.154717 184.104163 \nL 604.154717 113.038125 \n\" style=\"fill: none; stroke: #000000; stroke-width: 0.8; stroke-linejoin: miter; stroke-linecap: square\"/>\n   </g>\n   <g id=\"patch_84\">\n    <path d=\"M 675.220755 184.104163 \nL 675.220755 113.038125 \n\" style=\"fill: none; stroke: #000000; stroke-width: 0.8; stroke-linejoin: miter; stroke-linecap: square\"/>\n   </g>\n   <g id=\"patch_85\">\n    <path d=\"M 604.154717 184.104163 \nL 675.220755 184.104163 \n\" style=\"fill: none; stroke: #000000; stroke-width: 0.8; stroke-linejoin: miter; stroke-linecap: square\"/>\n   </g>\n   <g id=\"patch_86\">\n    <path d=\"M 604.154717 113.038125 \nL 675.220755 113.038125 \n\" style=\"fill: none; stroke: #000000; stroke-width: 0.8; stroke-linejoin: miter; stroke-linecap: square\"/>\n   </g>\n   <g id=\"text_17\">\n    <!-- bag -->\n    <g transform=\"translate(628.392736 107.038125) scale(0.12 -0.12)\">\n     <use xlink:href=\"#DejaVuSans-62\"/>\n     <use xlink:href=\"#DejaVuSans-61\" x=\"63.476562\"/>\n     <use xlink:href=\"#DejaVuSans-67\" x=\"124.755859\"/>\n    </g>\n   </g>\n  </g>\n  <g id=\"axes_18\">\n   <g id=\"patch_87\">\n    <path d=\"M 689.433962 184.104163 \nL 760.5 184.104163 \nL 760.5 113.038125 \nL 689.433962 113.038125 \nz\n\" style=\"fill: #ffffff\"/>\n   </g>\n   <g clip-path=\"url(#pdec93f1bfc)\">\n    <image xlink:href=\"data:image/png;base64,\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\" id=\"image2ed26b8f17\" transform=\"scale(1 -1) translate(0 -71.28)\" x=\"689\" y=\"-113.024163\" width=\"71.28\" height=\"71.28\"/>\n   </g>\n   <g id=\"patch_88\">\n    <path d=\"M 689.433962 184.104163 \nL 689.433962 113.038125 \n\" style=\"fill: none; stroke: #000000; stroke-width: 0.8; stroke-linejoin: miter; stroke-linecap: square\"/>\n   </g>\n   <g id=\"patch_89\">\n    <path d=\"M 760.5 184.104163 \nL 760.5 113.038125 \n\" style=\"fill: none; stroke: #000000; stroke-width: 0.8; stroke-linejoin: miter; stroke-linecap: square\"/>\n   </g>\n   <g id=\"patch_90\">\n    <path d=\"M 689.433962 184.104163 \nL 760.5 184.104163 \n\" style=\"fill: none; stroke: #000000; stroke-width: 0.8; stroke-linejoin: miter; stroke-linecap: square\"/>\n   </g>\n   <g id=\"patch_91\">\n    <path d=\"M 689.433962 113.038125 \nL 760.5 113.038125 \n\" style=\"fill: none; stroke: #000000; stroke-width: 0.8; stroke-linejoin: miter; stroke-linecap: square\"/>\n   </g>\n   <g id=\"text_18\">\n    <!-- sandal -->\n    <g transform=\"translate(705.209169 107.038125) scale(0.12 -0.12)\">\n     <use xlink:href=\"#DejaVuSans-73\"/>\n     <use xlink:href=\"#DejaVuSans-61\" x=\"52.099609\"/>\n     <use xlink:href=\"#DejaVuSans-6e\" x=\"113.378906\"/>\n     <use xlink:href=\"#DejaVuSans-64\" x=\"176.757812\"/>\n     <use xlink:href=\"#DejaVuSans-61\" x=\"240.234375\"/>\n     <use xlink:href=\"#DejaVuSans-6c\" x=\"301.513672\"/>\n    </g>\n   </g>\n  </g>\n </g>\n <defs>\n  <clipPath id=\"p294583924f\">\n   <rect x=\"7.2\" y=\"22.318125\" width=\"71.066038\" height=\"71.066038\"/>\n  </clipPath>\n  <clipPath id=\"pa6f128c09e\">\n   <rect x=\"92.479245\" y=\"22.318125\" width=\"71.066038\" height=\"71.066038\"/>\n  </clipPath>\n  <clipPath id=\"p06ce7a1043\">\n   <rect x=\"177.758491\" y=\"22.318125\" width=\"71.066038\" height=\"71.066038\"/>\n  </clipPath>\n  <clipPath id=\"p20f24635f2\">\n   <rect x=\"263.037736\" y=\"22.318125\" width=\"71.066038\" height=\"71.066038\"/>\n  </clipPath>\n  <clipPath id=\"pb1dc88318a\">\n   <rect x=\"348.316981\" y=\"22.318125\" width=\"71.066038\" height=\"71.066038\"/>\n  </clipPath>\n  <clipPath id=\"pa6457da9f1\">\n   <rect x=\"433.596226\" y=\"22.318125\" width=\"71.066038\" height=\"71.066038\"/>\n  </clipPath>\n  <clipPath id=\"p26a31cb81a\">\n   <rect x=\"518.875472\" y=\"22.318125\" width=\"71.066038\" height=\"71.066038\"/>\n  </clipPath>\n  <clipPath id=\"p0b95842136\">\n   <rect x=\"604.154717\" y=\"22.318125\" width=\"71.066038\" height=\"71.066038\"/>\n  </clipPath>\n  <clipPath id=\"pe5b5af2cae\">\n   <rect x=\"689.433962\" y=\"22.318125\" width=\"71.066038\" height=\"71.066038\"/>\n  </clipPath>\n  <clipPath id=\"p3eba8ff2d8\">\n   <rect x=\"7.2\" y=\"113.038125\" width=\"71.066038\" height=\"71.066038\"/>\n  </clipPath>\n  <clipPath id=\"pcf1a912dce\">\n   <rect x=\"92.479245\" y=\"113.038125\" width=\"71.066038\" height=\"71.066038\"/>\n  </clipPath>\n  <clipPath id=\"p7c0dd6d952\">\n   <rect x=\"177.758491\" y=\"113.038125\" width=\"71.066038\" height=\"71.066038\"/>\n  </clipPath>\n  <clipPath id=\"p268af9595c\">\n   <rect x=\"263.037736\" y=\"113.038125\" width=\"71.066038\" height=\"71.066038\"/>\n  </clipPath>\n  <clipPath id=\"p096d7d69ba\">\n   <rect x=\"348.316981\" y=\"113.038125\" width=\"71.066038\" height=\"71.066038\"/>\n  </clipPath>\n  <clipPath id=\"p7cb0e61ed0\">\n   <rect x=\"433.596226\" y=\"113.038125\" width=\"71.066038\" height=\"71.066038\"/>\n  </clipPath>\n  <clipPath id=\"p2bfd3b6b88\">\n   <rect x=\"518.875472\" y=\"113.038125\" width=\"71.066038\" height=\"71.066038\"/>\n  </clipPath>\n  <clipPath id=\"p3ad7474243\">\n   <rect x=\"604.154717\" y=\"113.038125\" width=\"71.066038\" height=\"71.066038\"/>\n  </clipPath>\n  <clipPath id=\"pdec93f1bfc\">\n   <rect x=\"689.433962\" y=\"113.038125\" width=\"71.066038\" height=\"71.066038\"/>\n  </clipPath>\n </defs>\n</svg>\n"
          },
          "metadata": {}
        }
      ]
    },
    {
      "cell_type": "code",
      "source": [
        "X, y = next(iter(data.DataLoader(mnist_train, shuffle = True, batch_size = 18)))\n",
        "show_images (X.reshape(18, 28, 28), 2, 9, titles = get_fashion_mnist_labels(y));"
      ],
      "metadata": {
        "colab": {
          "base_uri": "https://localhost:8080/",
          "height": 333
        },
        "id": "r-Zn62IkjSlS",
        "outputId": "095b8ce8-376f-421a-9e7a-c11c16e4623d"
      },
      "execution_count": null,
      "outputs": [
        {
          "output_type": "error",
          "ename": "ValueError",
          "evalue": "'svg' is not a valid value for output; supported values are 'path', 'agg', 'macosx'",
          "traceback": [
            "\u001b[0;31m---------------------------------------------------------------------------\u001b[0m",
            "\u001b[0;31mValueError\u001b[0m                                Traceback (most recent call last)",
            "\u001b[0;32m/usr/local/lib/python3.10/dist-packages/IPython/core/formatters.py\u001b[0m in \u001b[0;36m__call__\u001b[0;34m(self, obj)\u001b[0m\n\u001b[1;32m    339\u001b[0m                 \u001b[0;32mpass\u001b[0m\u001b[0;34m\u001b[0m\u001b[0;34m\u001b[0m\u001b[0m\n\u001b[1;32m    340\u001b[0m             \u001b[0;32melse\u001b[0m\u001b[0;34m:\u001b[0m\u001b[0;34m\u001b[0m\u001b[0;34m\u001b[0m\u001b[0m\n\u001b[0;32m--> 341\u001b[0;31m                 \u001b[0;32mreturn\u001b[0m \u001b[0mprinter\u001b[0m\u001b[0;34m(\u001b[0m\u001b[0mobj\u001b[0m\u001b[0;34m)\u001b[0m\u001b[0;34m\u001b[0m\u001b[0;34m\u001b[0m\u001b[0m\n\u001b[0m\u001b[1;32m    342\u001b[0m             \u001b[0;31m# Finally look for special method names\u001b[0m\u001b[0;34m\u001b[0m\u001b[0;34m\u001b[0m\u001b[0m\n\u001b[1;32m    343\u001b[0m             \u001b[0mmethod\u001b[0m \u001b[0;34m=\u001b[0m \u001b[0mget_real_method\u001b[0m\u001b[0;34m(\u001b[0m\u001b[0mobj\u001b[0m\u001b[0;34m,\u001b[0m \u001b[0mself\u001b[0m\u001b[0;34m.\u001b[0m\u001b[0mprint_method\u001b[0m\u001b[0;34m)\u001b[0m\u001b[0;34m\u001b[0m\u001b[0;34m\u001b[0m\u001b[0m\n",
            "\u001b[0;32m/usr/local/lib/python3.10/dist-packages/IPython/core/pylabtools.py\u001b[0m in \u001b[0;36mprint_figure\u001b[0;34m(fig, fmt, bbox_inches, base64, **kwargs)\u001b[0m\n\u001b[1;32m    149\u001b[0m         \u001b[0mFigureCanvasBase\u001b[0m\u001b[0;34m(\u001b[0m\u001b[0mfig\u001b[0m\u001b[0;34m)\u001b[0m\u001b[0;34m\u001b[0m\u001b[0;34m\u001b[0m\u001b[0m\n\u001b[1;32m    150\u001b[0m \u001b[0;34m\u001b[0m\u001b[0m\n\u001b[0;32m--> 151\u001b[0;31m     \u001b[0mfig\u001b[0m\u001b[0;34m.\u001b[0m\u001b[0mcanvas\u001b[0m\u001b[0;34m.\u001b[0m\u001b[0mprint_figure\u001b[0m\u001b[0;34m(\u001b[0m\u001b[0mbytes_io\u001b[0m\u001b[0;34m,\u001b[0m \u001b[0;34m**\u001b[0m\u001b[0mkw\u001b[0m\u001b[0;34m)\u001b[0m\u001b[0;34m\u001b[0m\u001b[0;34m\u001b[0m\u001b[0m\n\u001b[0m\u001b[1;32m    152\u001b[0m     \u001b[0mdata\u001b[0m \u001b[0;34m=\u001b[0m \u001b[0mbytes_io\u001b[0m\u001b[0;34m.\u001b[0m\u001b[0mgetvalue\u001b[0m\u001b[0;34m(\u001b[0m\u001b[0;34m)\u001b[0m\u001b[0;34m\u001b[0m\u001b[0;34m\u001b[0m\u001b[0m\n\u001b[1;32m    153\u001b[0m     \u001b[0;32mif\u001b[0m \u001b[0mfmt\u001b[0m \u001b[0;34m==\u001b[0m \u001b[0;34m'svg'\u001b[0m\u001b[0;34m:\u001b[0m\u001b[0;34m\u001b[0m\u001b[0;34m\u001b[0m\u001b[0m\n",
            "\u001b[0;32m/usr/local/lib/python3.10/dist-packages/matplotlib/backend_bases.py\u001b[0m in \u001b[0;36mprint_figure\u001b[0;34m(self, filename, dpi, facecolor, edgecolor, orientation, format, bbox_inches, pad_inches, bbox_extra_artists, backend, **kwargs)\u001b[0m\n\u001b[1;32m   2334\u001b[0m             \u001b[0mtoolbar\u001b[0m\u001b[0;34m.\u001b[0m\u001b[0mback\u001b[0m\u001b[0;34m(\u001b[0m\u001b[0;34m)\u001b[0m\u001b[0;34m\u001b[0m\u001b[0;34m\u001b[0m\u001b[0m\n\u001b[1;32m   2335\u001b[0m         \u001b[0;31m# (default key for forward: 'right' and 'v')\u001b[0m\u001b[0;34m\u001b[0m\u001b[0;34m\u001b[0m\u001b[0m\n\u001b[0;32m-> 2336\u001b[0;31m         \u001b[0;32melif\u001b[0m \u001b[0mevent\u001b[0m\u001b[0;34m.\u001b[0m\u001b[0mkey\u001b[0m \u001b[0;32min\u001b[0m \u001b[0mforward_keys\u001b[0m\u001b[0;34m:\u001b[0m\u001b[0;34m\u001b[0m\u001b[0;34m\u001b[0m\u001b[0m\n\u001b[0m\u001b[1;32m   2337\u001b[0m             \u001b[0mtoolbar\u001b[0m\u001b[0;34m.\u001b[0m\u001b[0mforward\u001b[0m\u001b[0;34m(\u001b[0m\u001b[0;34m)\u001b[0m\u001b[0;34m\u001b[0m\u001b[0;34m\u001b[0m\u001b[0m\n\u001b[1;32m   2338\u001b[0m         \u001b[0;31m# pan mnemonic (default key 'p')\u001b[0m\u001b[0;34m\u001b[0m\u001b[0;34m\u001b[0m\u001b[0m\n",
            "\u001b[0;32m/usr/local/lib/python3.10/dist-packages/matplotlib/backend_bases.py\u001b[0m in \u001b[0;36m_get_renderer\u001b[0;34m(figure, print_method)\u001b[0m\n\u001b[1;32m   1596\u001b[0m         \u001b[0mself\u001b[0m\u001b[0;34m.\u001b[0m\u001b[0m_fix_ipython_backend2gui\u001b[0m\u001b[0;34m(\u001b[0m\u001b[0;34m)\u001b[0m\u001b[0;34m\u001b[0m\u001b[0;34m\u001b[0m\u001b[0m\n\u001b[1;32m   1597\u001b[0m         \u001b[0mself\u001b[0m\u001b[0;34m.\u001b[0m\u001b[0m_is_idle_drawing\u001b[0m \u001b[0;34m=\u001b[0m \u001b[0;32mTrue\u001b[0m\u001b[0;34m\u001b[0m\u001b[0;34m\u001b[0m\u001b[0m\n\u001b[0;32m-> 1598\u001b[0;31m         \u001b[0mself\u001b[0m\u001b[0;34m.\u001b[0m\u001b[0m_is_saving\u001b[0m \u001b[0;34m=\u001b[0m \u001b[0;32mFalse\u001b[0m\u001b[0;34m\u001b[0m\u001b[0;34m\u001b[0m\u001b[0m\n\u001b[0m\u001b[1;32m   1599\u001b[0m         \u001b[0mfigure\u001b[0m\u001b[0;34m.\u001b[0m\u001b[0mset_canvas\u001b[0m\u001b[0;34m(\u001b[0m\u001b[0mself\u001b[0m\u001b[0;34m)\u001b[0m\u001b[0;34m\u001b[0m\u001b[0;34m\u001b[0m\u001b[0m\n\u001b[1;32m   1600\u001b[0m         \u001b[0mself\u001b[0m\u001b[0;34m.\u001b[0m\u001b[0mfigure\u001b[0m \u001b[0;34m=\u001b[0m \u001b[0mfigure\u001b[0m\u001b[0;34m\u001b[0m\u001b[0;34m\u001b[0m\u001b[0m\n",
            "\u001b[0;32m/usr/local/lib/python3.10/dist-packages/matplotlib/backend_bases.py\u001b[0m in \u001b[0;36m<lambda>\u001b[0;34m(*args, **kwargs)\u001b[0m\n\u001b[1;32m   2230\u001b[0m \u001b[0;34m\u001b[0m\u001b[0m\n\u001b[1;32m   2231\u001b[0m         \u001b[0mExamples\u001b[0m\u001b[0;34m\u001b[0m\u001b[0;34m\u001b[0m\u001b[0m\n\u001b[0;32m-> 2232\u001b[0;31m         \u001b[0;34m-\u001b[0m\u001b[0;34m-\u001b[0m\u001b[0;34m-\u001b[0m\u001b[0;34m-\u001b[0m\u001b[0;34m-\u001b[0m\u001b[0;34m-\u001b[0m\u001b[0;34m-\u001b[0m\u001b[0;34m-\u001b[0m\u001b[0;34m\u001b[0m\u001b[0;34m\u001b[0m\u001b[0m\n\u001b[0m\u001b[1;32m   2233\u001b[0m \u001b[0;34m\u001b[0m\u001b[0m\n\u001b[1;32m   2234\u001b[0m         \u001b[0;34m>>\u001b[0m\u001b[0;34m>\u001b[0m \u001b[0mtimer\u001b[0m \u001b[0;34m=\u001b[0m \u001b[0mfig\u001b[0m\u001b[0;34m.\u001b[0m\u001b[0mcanvas\u001b[0m\u001b[0;34m.\u001b[0m\u001b[0mnew_timer\u001b[0m\u001b[0;34m(\u001b[0m\u001b[0mcallbacks\u001b[0m\u001b[0;34m=\u001b[0m\u001b[0;34m[\u001b[0m\u001b[0;34m(\u001b[0m\u001b[0mf1\u001b[0m\u001b[0;34m,\u001b[0m \u001b[0;34m(\u001b[0m\u001b[0;36m1\u001b[0m\u001b[0;34m,\u001b[0m \u001b[0;34m)\u001b[0m\u001b[0;34m,\u001b[0m \u001b[0;34m{\u001b[0m\u001b[0;34m'a'\u001b[0m\u001b[0;34m:\u001b[0m \u001b[0;36m3\u001b[0m\u001b[0;34m}\u001b[0m\u001b[0;34m)\u001b[0m\u001b[0;34m,\u001b[0m\u001b[0;34m]\u001b[0m\u001b[0;34m)\u001b[0m\u001b[0;34m\u001b[0m\u001b[0;34m\u001b[0m\u001b[0m\n",
            "\u001b[0;32m/usr/local/lib/python3.10/dist-packages/matplotlib/backends/backend_svg.py\u001b[0m in \u001b[0;36mprint_svg\u001b[0;34m(self, filename, *args, **kwargs)\u001b[0m\n\u001b[1;32m   1200\u001b[0m                 \u001b[0mdetach\u001b[0m \u001b[0;34m=\u001b[0m \u001b[0;32mTrue\u001b[0m\u001b[0;34m\u001b[0m\u001b[0;34m\u001b[0m\u001b[0m\n\u001b[1;32m   1201\u001b[0m \u001b[0;34m\u001b[0m\u001b[0m\n\u001b[0;32m-> 1202\u001b[0;31m             \u001b[0mresult\u001b[0m \u001b[0;34m=\u001b[0m \u001b[0mself\u001b[0m\u001b[0;34m.\u001b[0m\u001b[0m_print_svg\u001b[0m\u001b[0;34m(\u001b[0m\u001b[0mfilename\u001b[0m\u001b[0;34m,\u001b[0m \u001b[0mfh\u001b[0m\u001b[0;34m,\u001b[0m \u001b[0;34m**\u001b[0m\u001b[0mkwargs\u001b[0m\u001b[0;34m)\u001b[0m\u001b[0;34m\u001b[0m\u001b[0;34m\u001b[0m\u001b[0m\n\u001b[0m\u001b[1;32m   1203\u001b[0m \u001b[0;34m\u001b[0m\u001b[0m\n\u001b[1;32m   1204\u001b[0m             \u001b[0;31m# Detach underlying stream from wrapper so that it remains open in\u001b[0m\u001b[0;34m\u001b[0m\u001b[0;34m\u001b[0m\u001b[0m\n",
            "\u001b[0;32m/usr/local/lib/python3.10/dist-packages/matplotlib/backends/backend_svg.py\u001b[0m in \u001b[0;36m_print_svg\u001b[0;34m(self, filename, fh, dpi, bbox_inches_restore, **kwargs)\u001b[0m\n\u001b[1;32m   1222\u001b[0m         renderer = MixedModeRenderer(\n\u001b[1;32m   1223\u001b[0m             \u001b[0mself\u001b[0m\u001b[0;34m.\u001b[0m\u001b[0mfigure\u001b[0m\u001b[0;34m,\u001b[0m \u001b[0mwidth\u001b[0m\u001b[0;34m,\u001b[0m \u001b[0mheight\u001b[0m\u001b[0;34m,\u001b[0m \u001b[0mdpi\u001b[0m\u001b[0;34m,\u001b[0m\u001b[0;34m\u001b[0m\u001b[0;34m\u001b[0m\u001b[0m\n\u001b[0;32m-> 1224\u001b[0;31m             \u001b[0mRendererSVG\u001b[0m\u001b[0;34m(\u001b[0m\u001b[0mw\u001b[0m\u001b[0;34m,\u001b[0m \u001b[0mh\u001b[0m\u001b[0;34m,\u001b[0m \u001b[0mfh\u001b[0m\u001b[0;34m,\u001b[0m \u001b[0mfilename\u001b[0m\u001b[0;34m,\u001b[0m \u001b[0mdpi\u001b[0m\u001b[0;34m)\u001b[0m\u001b[0;34m,\u001b[0m\u001b[0;34m\u001b[0m\u001b[0;34m\u001b[0m\u001b[0m\n\u001b[0m\u001b[1;32m   1225\u001b[0m             bbox_inches_restore=bbox_inches_restore)\n\u001b[1;32m   1226\u001b[0m \u001b[0;34m\u001b[0m\u001b[0m\n",
            "\u001b[0;32m/usr/local/lib/python3.10/dist-packages/matplotlib/backends/backend_svg.py\u001b[0m in \u001b[0;36m__init__\u001b[0;34m(self, width, height, svgwriter, basename, image_dpi)\u001b[0m\n\u001b[1;32m    291\u001b[0m         \u001b[0mself\u001b[0m\u001b[0;34m.\u001b[0m\u001b[0m_n_gradients\u001b[0m \u001b[0;34m=\u001b[0m \u001b[0;36m0\u001b[0m\u001b[0;34m\u001b[0m\u001b[0;34m\u001b[0m\u001b[0m\n\u001b[1;32m    292\u001b[0m         \u001b[0mself\u001b[0m\u001b[0;34m.\u001b[0m\u001b[0m_fonts\u001b[0m \u001b[0;34m=\u001b[0m \u001b[0mOrderedDict\u001b[0m\u001b[0;34m(\u001b[0m\u001b[0;34m)\u001b[0m\u001b[0;34m\u001b[0m\u001b[0;34m\u001b[0m\u001b[0m\n\u001b[0;32m--> 293\u001b[0;31m         \u001b[0mself\u001b[0m\u001b[0;34m.\u001b[0m\u001b[0mmathtext_parser\u001b[0m \u001b[0;34m=\u001b[0m \u001b[0mMathTextParser\u001b[0m\u001b[0;34m(\u001b[0m\u001b[0;34m'SVG'\u001b[0m\u001b[0;34m)\u001b[0m\u001b[0;34m\u001b[0m\u001b[0;34m\u001b[0m\u001b[0m\n\u001b[0m\u001b[1;32m    294\u001b[0m \u001b[0;34m\u001b[0m\u001b[0m\n\u001b[1;32m    295\u001b[0m         \u001b[0mRendererBase\u001b[0m\u001b[0;34m.\u001b[0m\u001b[0m__init__\u001b[0m\u001b[0;34m(\u001b[0m\u001b[0mself\u001b[0m\u001b[0;34m)\u001b[0m\u001b[0;34m\u001b[0m\u001b[0;34m\u001b[0m\u001b[0m\n",
            "\u001b[0;32m/usr/local/lib/python3.10/dist-packages/matplotlib/mathtext.py\u001b[0m in \u001b[0;36m__init__\u001b[0;34m(self, output)\u001b[0m\n\u001b[1;32m    204\u001b[0m                   \u001b[0mself\u001b[0m\u001b[0;34m.\u001b[0m\u001b[0mwidth\u001b[0m\u001b[0;34m,\u001b[0m\u001b[0;34m\u001b[0m\u001b[0;34m\u001b[0m\u001b[0m\n\u001b[1;32m    205\u001b[0m                   \u001b[0mself\u001b[0m\u001b[0;34m.\u001b[0m\u001b[0mheight\u001b[0m \u001b[0;34m+\u001b[0m \u001b[0mself\u001b[0m\u001b[0;34m.\u001b[0m\u001b[0mdepth\u001b[0m\u001b[0;34m,\u001b[0m\u001b[0;34m\u001b[0m\u001b[0;34m\u001b[0m\u001b[0m\n\u001b[0;32m--> 206\u001b[0;31m                   \u001b[0mself\u001b[0m\u001b[0;34m.\u001b[0m\u001b[0mdepth\u001b[0m\u001b[0;34m,\u001b[0m\u001b[0;34m\u001b[0m\u001b[0;34m\u001b[0m\u001b[0m\n\u001b[0m\u001b[1;32m    207\u001b[0m                   \u001b[0mself\u001b[0m\u001b[0;34m.\u001b[0m\u001b[0mimage\u001b[0m\u001b[0;34m,\u001b[0m\u001b[0;34m\u001b[0m\u001b[0;34m\u001b[0m\u001b[0m\n\u001b[1;32m    208\u001b[0m                   used_characters)\n",
            "\u001b[0;32m/usr/local/lib/python3.10/dist-packages/matplotlib/_api/__init__.py\u001b[0m in \u001b[0;36mcheck_getitem\u001b[0;34m(_mapping, **kwargs)\u001b[0m\n",
            "\u001b[0;31mValueError\u001b[0m: 'svg' is not a valid value for output; supported values are 'path', 'agg', 'macosx'"
          ]
        },
        {
          "output_type": "display_data",
          "data": {
            "text/plain": [
              "<Figure size 1350x300 with 18 Axes>"
            ]
          },
          "metadata": {}
        }
      ]
    },
    {
      "cell_type": "code",
      "source": [
        "# Reading a Minibatch\n",
        "batch_size = 256\n",
        "\n",
        "def get_dataloader_workers():\n",
        "  \"\"\"Use 4 processes to read the data.\"\"\"\n",
        "  return 4\n",
        "\n",
        "train_iter = data.DataLoader(mnist_train, batch_size, shuffle=True,\n",
        "                             num_workers = get_dataloader_workers())"
      ],
      "metadata": {
        "id": "6iuH76QZACsP",
        "colab": {
          "base_uri": "https://localhost:8080/"
        },
        "outputId": "6ff44fab-2494-4c70-f727-a3287782f706"
      },
      "execution_count": null,
      "outputs": [
        {
          "output_type": "stream",
          "name": "stderr",
          "text": [
            "/usr/local/lib/python3.10/dist-packages/torch/utils/data/dataloader.py:557: UserWarning: This DataLoader will create 4 worker processes in total. Our suggested max number of worker in current system is 2, which is smaller than what this DataLoader is going to create. Please be aware that excessive worker creation might get DataLoader running slow or even freeze, lower the worker number to avoid potential slowness/freeze if necessary.\n",
            "  warnings.warn(_create_warning_msg(\n"
          ]
        }
      ]
    },
    {
      "cell_type": "code",
      "source": [
        "# training data 읽는 시간 체크\n",
        "\n",
        "timer = d2l.Timer()\n",
        "for X, y in train_iter:\n",
        "  continue\n",
        "f'{timer.stop():.2f}.sec'"
      ],
      "metadata": {
        "colab": {
          "base_uri": "https://localhost:8080/",
          "height": 35
        },
        "id": "IV1Jtny0BiPt",
        "outputId": "1368d351-51bd-412e-feae-9fd358b964b8"
      },
      "execution_count": null,
      "outputs": [
        {
          "output_type": "execute_result",
          "data": {
            "text/plain": [
              "'9.16.sec'"
            ],
            "application/vnd.google.colaboratory.intrinsic+json": {
              "type": "string"
            }
          },
          "metadata": {},
          "execution_count": 12
        }
      ]
    },
    {
      "cell_type": "code",
      "source": [
        "# Putting All Things Together\n",
        "\n",
        "def load_data_fashion_mnist(batch_size, resize=None):\n",
        "  \"\"\"Fashion-MNIST dataset 을 다운로드하고 memory로 로드\"\"\"\n",
        "  trans = [transforms.ToTensor()]\n",
        "  if resize:\n",
        "    trans.insert(0, transforms.Resize(resize))\n",
        "  trans = transforms.Compose(trans)\n",
        "  mnist_train = torchvision.datasets.FashionMNIST(\n",
        "      root = \"../data\", train=True, transform=trans, download=True)\n",
        "  mnist_test = torchvision.datasets.FashionMNIST(\n",
        "      root=\"../data\", train=False, transform=trans, download=True)\n",
        "  return(data.DataLoader(mnist_train, batch_size, shuffle=True,\n",
        "                         num_workers= 4),\n",
        "         data.DataLoader(mnist_test, batch_size, shuffle=True,\n",
        "                         num_workers=4 ))\n"
      ],
      "metadata": {
        "id": "BtPsiyJsCA7_"
      },
      "execution_count": null,
      "outputs": []
    },
    {
      "cell_type": "code",
      "source": [
        "train_iter, test_iter = load_data_fashion_mnist(32, resize=64)\n",
        "for X, y in train_iter:\n",
        "  print(X.shape, X.dtype, y.shape, y.dtype)\n",
        "  break"
      ],
      "metadata": {
        "colab": {
          "base_uri": "https://localhost:8080/"
        },
        "id": "3rUSM8gTEjZk",
        "outputId": "e2c575e0-9246-4ecf-a320-ffd458d880e5"
      },
      "execution_count": null,
      "outputs": [
        {
          "output_type": "stream",
          "name": "stderr",
          "text": [
            "/usr/local/lib/python3.10/dist-packages/torch/utils/data/dataloader.py:557: UserWarning: This DataLoader will create 4 worker processes in total. Our suggested max number of worker in current system is 2, which is smaller than what this DataLoader is going to create. Please be aware that excessive worker creation might get DataLoader running slow or even freeze, lower the worker number to avoid potential slowness/freeze if necessary.\n",
            "  warnings.warn(_create_warning_msg(\n"
          ]
        },
        {
          "output_type": "stream",
          "name": "stdout",
          "text": [
            "torch.Size([32, 1, 64, 64]) torch.float32 torch.Size([32]) torch.int64\n"
          ]
        }
      ]
    },
    {
      "cell_type": "markdown",
      "source": [
        "## 3.6 Implementation of Softmax Regression from Scratch"
      ],
      "metadata": {
        "id": "ulaJ94h0Y8fW"
      }
    },
    {
      "cell_type": "markdown",
      "source": [
        "**코드 한 줄 한 줄이 어떤 이유로 쓰였는지 씹어보며 공부해보세요! 😀**"
      ],
      "metadata": {
        "id": "uYpKFOrTgwXg"
      }
    },
    {
      "cell_type": "code",
      "source": [
        "import torch\n",
        "from IPython import display\n",
        "from d2l import torch as d2l"
      ],
      "metadata": {
        "id": "89Lubu51ZCCZ"
      },
      "execution_count": null,
      "outputs": []
    },
    {
      "cell_type": "code",
      "source": [
        "batch_size = 256\n",
        "train_iter, test_iter = d2l.load_data_fashion_mnist(batch_size)"
      ],
      "metadata": {
        "id": "gbIoU3lAZR5N"
      },
      "execution_count": null,
      "outputs": []
    },
    {
      "cell_type": "code",
      "source": [
        "# image flatten to vectors of length 784.\n",
        "# 각 pixel 위치를 feature로 봄\n",
        "# class 가 10개니까 아웃풋 dimension이 10\n",
        "# Gaussian 노이즈로 W 초기값 설정\n",
        "# 0으로 b 초기값 설정\n",
        "\n",
        "num_inputs = 784\n",
        "num_outputs = 10\n",
        "W = torch.normal(0, 0.01, size = (num_inputs, num_outputs), requires_grad= True)## 빈칸을 채워주세요. ## )\n",
        "b = torch.zeros(num_outputs, requires_grad = True)## 빈칸을 채워주세요. ## )"
      ],
      "metadata": {
        "id": "sFu5stt3ZaKD"
      },
      "execution_count": null,
      "outputs": []
    },
    {
      "cell_type": "code",
      "source": [
        "X = torch.tensor([[1.0, 2.0, 3.0], [4.0,5.0,6.0]])\n",
        "X.sum(0, keepdim = True), X.sum(1, keepdim=True)"
      ],
      "metadata": {
        "colab": {
          "base_uri": "https://localhost:8080/"
        },
        "id": "ZQ3SVtmha6BU",
        "outputId": "9b07a98c-dc9b-4e88-b023-1984a4a7592d"
      },
      "execution_count": null,
      "outputs": [
        {
          "output_type": "execute_result",
          "data": {
            "text/plain": [
              "(tensor([[5., 7., 9.]]),\n",
              " tensor([[ 6.],\n",
              "         [15.]]))"
            ]
          },
          "metadata": {},
          "execution_count": 20
        }
      ]
    },
    {
      "cell_type": "code",
      "source": [
        "# softmax 함수를 구현해보세요.\n",
        "\n",
        "def softmax(X):\n",
        "  X_exp = torch.exp(X)\n",
        "  partition = X_exp.sum(1, keepdims = True)   # 열 방향으로 합산\n",
        "  return X_exp / partition"
      ],
      "metadata": {
        "id": "hl0dOMLncRQN"
      },
      "execution_count": null,
      "outputs": []
    },
    {
      "cell_type": "code",
      "source": [
        "''' 오버플로우를 방지하는 소프트맥스 코드\n",
        "\n",
        "import torch\n",
        "\n",
        "def safe_softmax(X):\n",
        "    # 입력에서 최댓값 찾기\n",
        "    max_vals, _ = torch.max(X, dim=1, keepdim=True)\n",
        "\n",
        "    # 입력에서 최댓값을 빼서 안정성 향상\n",
        "    X_exp = torch.exp(X - max_vals)\n",
        "\n",
        "    # 각 행에 대해 지수의 합 계산\n",
        "    partition = X_exp.sum(1, keepdim=True)\n",
        "\n",
        "    # 안전한 소프트맥스 함수 계산\n",
        "    softmax_output = X_exp / partition\n",
        "\n",
        "    return softmax_output\n",
        "\n",
        "'''\n",
        "'''\n",
        "numpy 구현\n",
        "\n",
        "import numpy as np\n",
        "\n",
        "def safe_softmax(x):\n",
        "  c = np.max(a)\n",
        "  exp_a = np.exp(a-c)\n",
        "  sum_exp_a = np.sum(exp_a)\n",
        "  y = exp_a / sum_exp_a\n",
        "\n",
        "  return y\n",
        "\n",
        "'''"
      ],
      "metadata": {
        "id": "tKMf1NAElvSU"
      },
      "execution_count": null,
      "outputs": []
    },
    {
      "cell_type": "code",
      "source": [
        "X = torch.normal(0, 1, (2,5))\n",
        "X_prob = softmax(X)\n",
        "X_prob, X_prob.sum(1)"
      ],
      "metadata": {
        "colab": {
          "base_uri": "https://localhost:8080/"
        },
        "id": "r9SqT8GUSUuv",
        "outputId": "910262a9-dd8c-419c-9836-2306ffc22972"
      },
      "execution_count": null,
      "outputs": [
        {
          "output_type": "execute_result",
          "data": {
            "text/plain": [
              "(tensor([[0.0952, 0.5025, 0.1560, 0.2180, 0.0282],\n",
              "         [0.1646, 0.0180, 0.2319, 0.3100, 0.2755]]),\n",
              " tensor([1., 1.]))"
            ]
          },
          "metadata": {},
          "execution_count": 22
        }
      ]
    },
    {
      "cell_type": "code",
      "source": [
        "def net(X):\n",
        "  return softmax(torch.matmul(X.reshape((-1, W.shape[0])), W) + b)"
      ],
      "metadata": {
        "id": "rvNT7pIlSlab"
      },
      "execution_count": null,
      "outputs": []
    },
    {
      "cell_type": "code",
      "source": [
        "y = torch.tensor([0,2])\n",
        "y_hat = torch.tensor([[0.1, 0.3, 0.6], [0.3, 0.2, 0.5]])\n",
        "y_hat[[0,1], y]"
      ],
      "metadata": {
        "colab": {
          "base_uri": "https://localhost:8080/"
        },
        "id": "et2FD5OVTq-A",
        "outputId": "c45c52fa-776b-42cb-c2c0-d815a0311e3d"
      },
      "execution_count": null,
      "outputs": [
        {
          "output_type": "execute_result",
          "data": {
            "text/plain": [
              "tensor([0.1000, 0.5000])"
            ]
          },
          "metadata": {},
          "execution_count": 24
        }
      ]
    },
    {
      "cell_type": "code",
      "source": [
        "# cross-entropy loss function을 구현해보세요.\n",
        "\n",
        "def cross_entropy(y_hat, y):\n",
        "  ## 빈칸을 채워주세요. ##\n",
        "  return -torch.log(y_hat[list(range(len(y_hat))), y])  # d2l 142p\n",
        "\n",
        "cross_entropy(y_hat, y)"
      ],
      "metadata": {
        "colab": {
          "base_uri": "https://localhost:8080/"
        },
        "id": "LxEgwZlyUynl",
        "outputId": "c4e1fab1-19e6-4aac-a105-7d0decc5cd9b"
      },
      "execution_count": null,
      "outputs": [
        {
          "output_type": "execute_result",
          "data": {
            "text/plain": [
              "tensor([2.3026, 0.6931])"
            ]
          },
          "metadata": {},
          "execution_count": 25
        }
      ]
    },
    {
      "cell_type": "code",
      "source": [
        "def accuracy(y_hat, y):\n",
        "  \"\"\"correct prediction 수를 계산\"\"\"\n",
        "  if len(y_hat.shape) > 1 and y_hat.shape[1] > 1: # 차원이 1보다 크고 열 개수가 1보다 크면, 즉 y_hat이 확률값을 담고 있을 때 동작\n",
        "    y_hat = y_hat.argmax(axis = 1) # 각 행에 대해 확률이 가장 높은 클래스의 인덱스를 y_hat에 저장\n",
        "  cmp = y_hat.type(y.dtype) == y #y_hat과 y를 비교한 결과 저장\n",
        "  return float(cmp.type(y.dtype).sum())  # True의 개수를 세서 부동소수점 형태로 저장"
      ],
      "metadata": {
        "id": "QVfSBJuxVJqJ"
      },
      "execution_count": null,
      "outputs": []
    },
    {
      "cell_type": "code",
      "source": [
        "accuracy(y_hat, y) / len(y)"
      ],
      "metadata": {
        "colab": {
          "base_uri": "https://localhost:8080/"
        },
        "id": "q8ZcA1mhU_3f",
        "outputId": "46729b3e-f112-45ae-c686-7676bfd2b33e"
      },
      "execution_count": null,
      "outputs": [
        {
          "output_type": "execute_result",
          "data": {
            "text/plain": [
              "0.5"
            ]
          },
          "metadata": {},
          "execution_count": 27
        }
      ]
    },
    {
      "cell_type": "code",
      "source": [
        "def evaluate_accuracy(net, data_iter):\n",
        "    \"\"\"모델 정확도 계산\"\"\"\n",
        "    if isinstance(net, torch.nn.Module):\n",
        "        net.eval()\n",
        "    metric = Accumulator(2)\n",
        "\n",
        "    ## 무엇이 들어가야할까요? ##\n",
        "    with torch.no_grad():\n",
        "        for X, y in data_iter:\n",
        "            metric.add(accuracy(net(X), y), y.numel())\n",
        "    return metric[0] / metric[1]"
      ],
      "metadata": {
        "id": "9CUt5mryVFAg"
      },
      "execution_count": null,
      "outputs": []
    },
    {
      "cell_type": "code",
      "source": [
        "class Accumulator:\n",
        "    \"\"\"n 개 변수 합 축적\"\"\"\n",
        "    def __init__(self, n):\n",
        "        self.data = [0.0] * n\n",
        "\n",
        "    def add(self, *args):\n",
        "        self.data = [a + float(b) for a, b in zip(self.data, args)]\n",
        "\n",
        "    def reset(self):\n",
        "        self.data = [0.0] * len(self.data)\n",
        "\n",
        "    def __getitem__(self, idx):\n",
        "        return self.data[idx]"
      ],
      "metadata": {
        "id": "QmLz-HNoXgig"
      },
      "execution_count": null,
      "outputs": []
    },
    {
      "cell_type": "code",
      "source": [
        "evaluate_accuracy(net, test_iter)"
      ],
      "metadata": {
        "colab": {
          "base_uri": "https://localhost:8080/"
        },
        "id": "wbI98ltDWQuG",
        "outputId": "e7cfca43-cc34-4628-fb70-7d29eec0ea1e"
      },
      "execution_count": null,
      "outputs": [
        {
          "output_type": "stream",
          "name": "stderr",
          "text": [
            "/usr/local/lib/python3.10/dist-packages/torch/utils/data/dataloader.py:557: UserWarning: This DataLoader will create 4 worker processes in total. Our suggested max number of worker in current system is 2, which is smaller than what this DataLoader is going to create. Please be aware that excessive worker creation might get DataLoader running slow or even freeze, lower the worker number to avoid potential slowness/freeze if necessary.\n",
            "  warnings.warn(_create_warning_msg(\n"
          ]
        },
        {
          "output_type": "execute_result",
          "data": {
            "text/plain": [
              "0.1057"
            ]
          },
          "metadata": {},
          "execution_count": 30
        }
      ]
    },
    {
      "cell_type": "code",
      "source": [
        "def train_epoch(net, train_iter, loss, updater):\n",
        "    \"\"\"training loop\"\"\"\n",
        "    # Set the model to training model\n",
        "    if isinstance(net, torch.nn.Module):\n",
        "        net.train()\n",
        "    # Sum of training loss, sum of training accuracy, number of examples\n",
        "    metric = Accumulator(3)\n",
        "    for X, y in train_iter:\n",
        "        # Compute gradients and update parameters\n",
        "        y_hat = net(X)\n",
        "        l = loss(y_hat, y)\n",
        "        if isinstance(updater, torch.optim.Optimizer):\n",
        "            # Using PyTorch in-built optimizer & loss criterion\n",
        "            updater.zero_grad()\n",
        "            l.mean().backward()## 빈칸을 채워주세요. ##\n",
        "            updater.step()\n",
        "        else:\n",
        "            # Using custom built optimizer & loss criterion\n",
        "            l.sum().backward()## 빈칸을 채워주세요. ##\n",
        "            updater(X.shape[0])\n",
        "        metric.add(float(l.sum()), accuracy(y_hat, y), y.numel())\n",
        "    # Return training loss and training accuracy\n",
        "    return metric[0] / metric[2], metric[1] / metric[2]"
      ],
      "metadata": {
        "id": "0zitI4zDWZBB"
      },
      "execution_count": null,
      "outputs": []
    },
    {
      "cell_type": "code",
      "source": [
        "class Animator:\n",
        "    \"\"\"애니메이션으로 데이터 플롯팅\"\"\"\n",
        "    def __init__(self, xlabel=None, ylabel=None, legend=None, xlim=None,\n",
        "                 ylim=None, xscale='linear', yscale='linear',\n",
        "                 fmts=('-', 'm--', 'g-.', 'r:'), nrows=1, ncols=1,\n",
        "                 figsize=(3.5, 2.5)):\n",
        "        # Incrementally plot multiple lines\n",
        "        if legend is None:\n",
        "            legend = []\n",
        "        d2l.use_svg_display()\n",
        "        self.fig, self.axes = d2l.plt.subplots(nrows, ncols, figsize=figsize)\n",
        "        if nrows * ncols == 1:\n",
        "            self.axes = [self.axes, ]\n",
        "        # Use a lambda function to capture arguments\n",
        "        self.config_axes = lambda: d2l.set_axes(\n",
        "            self.axes[0], xlabel, ylabel, xlim, ylim, xscale, yscale, legend)\n",
        "        self.X, self.Y, self.fmts = None, None, fmts\n",
        "\n",
        "    def add(self, x, y):\n",
        "        # Add multiple data points into the figure\n",
        "        if not hasattr(y, \"__len__\"):\n",
        "            y = [y]\n",
        "        n = len(y)\n",
        "        if not hasattr(x, \"__len__\"):\n",
        "            x = [x] * n\n",
        "        if not self.X:\n",
        "            self.X = [[] for _ in range(n)]\n",
        "        if not self.Y:\n",
        "            self.Y = [[] for _ in range(n)]\n",
        "        for i, (a, b) in enumerate(zip(x, y)):\n",
        "            if a is not None and b is not None:\n",
        "                self.X[i].append(a)\n",
        "                self.Y[i].append(b)\n",
        "        self.axes[0].cla()\n",
        "        for x, y, fmt in zip(self.X, self.Y, self.fmts):\n",
        "            self.axes[0].plot(x, y, fmt)\n",
        "        self.config_axes()\n",
        "        display.display(self.fig)\n",
        "        display.clear_output(wait=True)\n"
      ],
      "metadata": {
        "id": "Y7b5AmvyaKJu"
      },
      "execution_count": null,
      "outputs": []
    },
    {
      "cell_type": "code",
      "source": [
        "def train(net, train_iter, test_iter, loss, num_epochs, updater):\n",
        "    \"\"\"모델 학습\"\"\"\n",
        "    animator = Animator(xlabel='epoch', xlim=[1, num_epochs], ylim=[0.3, 0.9],\n",
        "                        legend=['train loss', 'train acc', 'test acc'])\n",
        "    for epoch in range(num_epochs):\n",
        "        train_metrics = train_epoch(net, train_iter, loss, updater)\n",
        "        test_acc = evaluate_accuracy(net, test_iter)\n",
        "        animator.add(epoch + 1, train_metrics + (test_acc,))\n",
        "    train_loss, train_acc = train_metrics\n",
        "    assert train_loss < 0.5, train_loss\n",
        "    assert train_acc <= 1 and train_acc > 0.7, train_acc\n",
        "    assert test_acc <= 1 and test_acc > 0.7, test_acc\n"
      ],
      "metadata": {
        "id": "8fCzuNB1cSts"
      },
      "execution_count": null,
      "outputs": []
    },
    {
      "cell_type": "code",
      "source": [
        "lr = 0.1\n",
        "\n",
        "def updater(batch_size):\n",
        "  return d2l.sgd([W, b], lr, batch_size)"
      ],
      "metadata": {
        "id": "FLTyQ3mxeVOP"
      },
      "execution_count": null,
      "outputs": []
    },
    {
      "cell_type": "code",
      "source": [
        "num_epochs = 10\n",
        "train(net, train_iter, test_iter, cross_entropy, num_epochs, updater)"
      ],
      "metadata": {
        "colab": {
          "base_uri": "https://localhost:8080/",
          "height": 264
        },
        "id": "UcyYl51refkY",
        "outputId": "719448a2-7260-4a1f-a38d-879f9eda3bcd"
      },
      "execution_count": null,
      "outputs": [
        {
          "output_type": "display_data",
          "data": {
            "text/plain": [
              "<Figure size 350x250 with 1 Axes>"
            ],
            "image/svg+xml": "<?xml version=\"1.0\" encoding=\"utf-8\" standalone=\"no\"?>\n<!DOCTYPE svg PUBLIC \"-//W3C//DTD SVG 1.1//EN\"\n  \"http://www.w3.org/Graphics/SVG/1.1/DTD/svg11.dtd\">\n<svg xmlns:xlink=\"http://www.w3.org/1999/xlink\" width=\"238.965625pt\" height=\"183.35625pt\" viewBox=\"0 0 238.965625 183.35625\" xmlns=\"http://www.w3.org/2000/svg\" version=\"1.1\">\n <metadata>\n  <rdf:RDF xmlns:dc=\"http://purl.org/dc/elements/1.1/\" xmlns:cc=\"http://creativecommons.org/ns#\" xmlns:rdf=\"http://www.w3.org/1999/02/22-rdf-syntax-ns#\">\n   <cc:Work>\n    <dc:type rdf:resource=\"http://purl.org/dc/dcmitype/StillImage\"/>\n    <dc:date>2024-01-21T15:19:16.599842</dc:date>\n    <dc:format>image/svg+xml</dc:format>\n    <dc:creator>\n     <cc:Agent>\n      <dc:title>Matplotlib v3.7.1, https://matplotlib.org/</dc:title>\n     </cc:Agent>\n    </dc:creator>\n   </cc:Work>\n  </rdf:RDF>\n </metadata>\n <defs>\n  <style type=\"text/css\">*{stroke-linejoin: round; stroke-linecap: butt}</style>\n </defs>\n <g id=\"figure_1\">\n  <g id=\"patch_1\">\n   <path d=\"M 0 183.35625 \nL 238.965625 183.35625 \nL 238.965625 0 \nL 0 0 \nz\n\" style=\"fill: #ffffff\"/>\n  </g>\n  <g id=\"axes_1\">\n   <g id=\"patch_2\">\n    <path d=\"M 30.103125 145.8 \nL 225.403125 145.8 \nL 225.403125 7.2 \nL 30.103125 7.2 \nz\n\" style=\"fill: #ffffff\"/>\n   </g>\n   <g id=\"matplotlib.axis_1\">\n    <g id=\"xtick_1\">\n     <g id=\"line2d_1\">\n      <path d=\"M 51.803125 145.8 \nL 51.803125 7.2 \n\" clip-path=\"url(#p25c5d1fb61)\" style=\"fill: none; stroke: #b0b0b0; stroke-width: 0.8; stroke-linecap: square\"/>\n     </g>\n     <g id=\"line2d_2\">\n      <defs>\n       <path id=\"m02b8f4bdd9\" d=\"M 0 0 \nL 0 3.5 \n\" style=\"stroke: #000000; stroke-width: 0.8\"/>\n      </defs>\n      <g>\n       <use xlink:href=\"#m02b8f4bdd9\" x=\"51.803125\" y=\"145.8\" style=\"stroke: #000000; stroke-width: 0.8\"/>\n      </g>\n     </g>\n     <g id=\"text_1\">\n      <!-- 2 -->\n      <g transform=\"translate(48.621875 160.398438) scale(0.1 -0.1)\">\n       <defs>\n        <path id=\"DejaVuSans-32\" d=\"M 1228 531 \nL 3431 531 \nL 3431 0 \nL 469 0 \nL 469 531 \nQ 828 903 1448 1529 \nQ 2069 2156 2228 2338 \nQ 2531 2678 2651 2914 \nQ 2772 3150 2772 3378 \nQ 2772 3750 2511 3984 \nQ 2250 4219 1831 4219 \nQ 1534 4219 1204 4116 \nQ 875 4013 500 3803 \nL 500 4441 \nQ 881 4594 1212 4672 \nQ 1544 4750 1819 4750 \nQ 2544 4750 2975 4387 \nQ 3406 4025 3406 3419 \nQ 3406 3131 3298 2873 \nQ 3191 2616 2906 2266 \nQ 2828 2175 2409 1742 \nQ 1991 1309 1228 531 \nz\n\" transform=\"scale(0.015625)\"/>\n       </defs>\n       <use xlink:href=\"#DejaVuSans-32\"/>\n      </g>\n     </g>\n    </g>\n    <g id=\"xtick_2\">\n     <g id=\"line2d_3\">\n      <path d=\"M 95.203125 145.8 \nL 95.203125 7.2 \n\" clip-path=\"url(#p25c5d1fb61)\" style=\"fill: none; stroke: #b0b0b0; stroke-width: 0.8; stroke-linecap: square\"/>\n     </g>\n     <g id=\"line2d_4\">\n      <g>\n       <use xlink:href=\"#m02b8f4bdd9\" x=\"95.203125\" y=\"145.8\" style=\"stroke: #000000; stroke-width: 0.8\"/>\n      </g>\n     </g>\n     <g id=\"text_2\">\n      <!-- 4 -->\n      <g transform=\"translate(92.021875 160.398438) scale(0.1 -0.1)\">\n       <defs>\n        <path id=\"DejaVuSans-34\" d=\"M 2419 4116 \nL 825 1625 \nL 2419 1625 \nL 2419 4116 \nz\nM 2253 4666 \nL 3047 4666 \nL 3047 1625 \nL 3713 1625 \nL 3713 1100 \nL 3047 1100 \nL 3047 0 \nL 2419 0 \nL 2419 1100 \nL 313 1100 \nL 313 1709 \nL 2253 4666 \nz\n\" transform=\"scale(0.015625)\"/>\n       </defs>\n       <use xlink:href=\"#DejaVuSans-34\"/>\n      </g>\n     </g>\n    </g>\n    <g id=\"xtick_3\">\n     <g id=\"line2d_5\">\n      <path d=\"M 138.603125 145.8 \nL 138.603125 7.2 \n\" clip-path=\"url(#p25c5d1fb61)\" style=\"fill: none; stroke: #b0b0b0; stroke-width: 0.8; stroke-linecap: square\"/>\n     </g>\n     <g id=\"line2d_6\">\n      <g>\n       <use xlink:href=\"#m02b8f4bdd9\" x=\"138.603125\" y=\"145.8\" style=\"stroke: #000000; stroke-width: 0.8\"/>\n      </g>\n     </g>\n     <g id=\"text_3\">\n      <!-- 6 -->\n      <g transform=\"translate(135.421875 160.398438) scale(0.1 -0.1)\">\n       <defs>\n        <path id=\"DejaVuSans-36\" d=\"M 2113 2584 \nQ 1688 2584 1439 2293 \nQ 1191 2003 1191 1497 \nQ 1191 994 1439 701 \nQ 1688 409 2113 409 \nQ 2538 409 2786 701 \nQ 3034 994 3034 1497 \nQ 3034 2003 2786 2293 \nQ 2538 2584 2113 2584 \nz\nM 3366 4563 \nL 3366 3988 \nQ 3128 4100 2886 4159 \nQ 2644 4219 2406 4219 \nQ 1781 4219 1451 3797 \nQ 1122 3375 1075 2522 \nQ 1259 2794 1537 2939 \nQ 1816 3084 2150 3084 \nQ 2853 3084 3261 2657 \nQ 3669 2231 3669 1497 \nQ 3669 778 3244 343 \nQ 2819 -91 2113 -91 \nQ 1303 -91 875 529 \nQ 447 1150 447 2328 \nQ 447 3434 972 4092 \nQ 1497 4750 2381 4750 \nQ 2619 4750 2861 4703 \nQ 3103 4656 3366 4563 \nz\n\" transform=\"scale(0.015625)\"/>\n       </defs>\n       <use xlink:href=\"#DejaVuSans-36\"/>\n      </g>\n     </g>\n    </g>\n    <g id=\"xtick_4\">\n     <g id=\"line2d_7\">\n      <path d=\"M 182.003125 145.8 \nL 182.003125 7.2 \n\" clip-path=\"url(#p25c5d1fb61)\" style=\"fill: none; stroke: #b0b0b0; stroke-width: 0.8; stroke-linecap: square\"/>\n     </g>\n     <g id=\"line2d_8\">\n      <g>\n       <use xlink:href=\"#m02b8f4bdd9\" x=\"182.003125\" y=\"145.8\" style=\"stroke: #000000; stroke-width: 0.8\"/>\n      </g>\n     </g>\n     <g id=\"text_4\">\n      <!-- 8 -->\n      <g transform=\"translate(178.821875 160.398438) scale(0.1 -0.1)\">\n       <defs>\n        <path id=\"DejaVuSans-38\" d=\"M 2034 2216 \nQ 1584 2216 1326 1975 \nQ 1069 1734 1069 1313 \nQ 1069 891 1326 650 \nQ 1584 409 2034 409 \nQ 2484 409 2743 651 \nQ 3003 894 3003 1313 \nQ 3003 1734 2745 1975 \nQ 2488 2216 2034 2216 \nz\nM 1403 2484 \nQ 997 2584 770 2862 \nQ 544 3141 544 3541 \nQ 544 4100 942 4425 \nQ 1341 4750 2034 4750 \nQ 2731 4750 3128 4425 \nQ 3525 4100 3525 3541 \nQ 3525 3141 3298 2862 \nQ 3072 2584 2669 2484 \nQ 3125 2378 3379 2068 \nQ 3634 1759 3634 1313 \nQ 3634 634 3220 271 \nQ 2806 -91 2034 -91 \nQ 1263 -91 848 271 \nQ 434 634 434 1313 \nQ 434 1759 690 2068 \nQ 947 2378 1403 2484 \nz\nM 1172 3481 \nQ 1172 3119 1398 2916 \nQ 1625 2713 2034 2713 \nQ 2441 2713 2670 2916 \nQ 2900 3119 2900 3481 \nQ 2900 3844 2670 4047 \nQ 2441 4250 2034 4250 \nQ 1625 4250 1398 4047 \nQ 1172 3844 1172 3481 \nz\n\" transform=\"scale(0.015625)\"/>\n       </defs>\n       <use xlink:href=\"#DejaVuSans-38\"/>\n      </g>\n     </g>\n    </g>\n    <g id=\"xtick_5\">\n     <g id=\"line2d_9\">\n      <path d=\"M 225.403125 145.8 \nL 225.403125 7.2 \n\" clip-path=\"url(#p25c5d1fb61)\" style=\"fill: none; stroke: #b0b0b0; stroke-width: 0.8; stroke-linecap: square\"/>\n     </g>\n     <g id=\"line2d_10\">\n      <g>\n       <use xlink:href=\"#m02b8f4bdd9\" x=\"225.403125\" y=\"145.8\" style=\"stroke: #000000; stroke-width: 0.8\"/>\n      </g>\n     </g>\n     <g id=\"text_5\">\n      <!-- 10 -->\n      <g transform=\"translate(219.040625 160.398438) scale(0.1 -0.1)\">\n       <defs>\n        <path id=\"DejaVuSans-31\" d=\"M 794 531 \nL 1825 531 \nL 1825 4091 \nL 703 3866 \nL 703 4441 \nL 1819 4666 \nL 2450 4666 \nL 2450 531 \nL 3481 531 \nL 3481 0 \nL 794 0 \nL 794 531 \nz\n\" transform=\"scale(0.015625)\"/>\n        <path id=\"DejaVuSans-30\" d=\"M 2034 4250 \nQ 1547 4250 1301 3770 \nQ 1056 3291 1056 2328 \nQ 1056 1369 1301 889 \nQ 1547 409 2034 409 \nQ 2525 409 2770 889 \nQ 3016 1369 3016 2328 \nQ 3016 3291 2770 3770 \nQ 2525 4250 2034 4250 \nz\nM 2034 4750 \nQ 2819 4750 3233 4129 \nQ 3647 3509 3647 2328 \nQ 3647 1150 3233 529 \nQ 2819 -91 2034 -91 \nQ 1250 -91 836 529 \nQ 422 1150 422 2328 \nQ 422 3509 836 4129 \nQ 1250 4750 2034 4750 \nz\n\" transform=\"scale(0.015625)\"/>\n       </defs>\n       <use xlink:href=\"#DejaVuSans-31\"/>\n       <use xlink:href=\"#DejaVuSans-30\" x=\"63.623047\"/>\n      </g>\n     </g>\n    </g>\n    <g id=\"text_6\">\n     <!-- epoch -->\n     <g transform=\"translate(112.525 174.076563) scale(0.1 -0.1)\">\n      <defs>\n       <path id=\"DejaVuSans-65\" d=\"M 3597 1894 \nL 3597 1613 \nL 953 1613 \nQ 991 1019 1311 708 \nQ 1631 397 2203 397 \nQ 2534 397 2845 478 \nQ 3156 559 3463 722 \nL 3463 178 \nQ 3153 47 2828 -22 \nQ 2503 -91 2169 -91 \nQ 1331 -91 842 396 \nQ 353 884 353 1716 \nQ 353 2575 817 3079 \nQ 1281 3584 2069 3584 \nQ 2775 3584 3186 3129 \nQ 3597 2675 3597 1894 \nz\nM 3022 2063 \nQ 3016 2534 2758 2815 \nQ 2500 3097 2075 3097 \nQ 1594 3097 1305 2825 \nQ 1016 2553 972 2059 \nL 3022 2063 \nz\n\" transform=\"scale(0.015625)\"/>\n       <path id=\"DejaVuSans-70\" d=\"M 1159 525 \nL 1159 -1331 \nL 581 -1331 \nL 581 3500 \nL 1159 3500 \nL 1159 2969 \nQ 1341 3281 1617 3432 \nQ 1894 3584 2278 3584 \nQ 2916 3584 3314 3078 \nQ 3713 2572 3713 1747 \nQ 3713 922 3314 415 \nQ 2916 -91 2278 -91 \nQ 1894 -91 1617 61 \nQ 1341 213 1159 525 \nz\nM 3116 1747 \nQ 3116 2381 2855 2742 \nQ 2594 3103 2138 3103 \nQ 1681 3103 1420 2742 \nQ 1159 2381 1159 1747 \nQ 1159 1113 1420 752 \nQ 1681 391 2138 391 \nQ 2594 391 2855 752 \nQ 3116 1113 3116 1747 \nz\n\" transform=\"scale(0.015625)\"/>\n       <path id=\"DejaVuSans-6f\" d=\"M 1959 3097 \nQ 1497 3097 1228 2736 \nQ 959 2375 959 1747 \nQ 959 1119 1226 758 \nQ 1494 397 1959 397 \nQ 2419 397 2687 759 \nQ 2956 1122 2956 1747 \nQ 2956 2369 2687 2733 \nQ 2419 3097 1959 3097 \nz\nM 1959 3584 \nQ 2709 3584 3137 3096 \nQ 3566 2609 3566 1747 \nQ 3566 888 3137 398 \nQ 2709 -91 1959 -91 \nQ 1206 -91 779 398 \nQ 353 888 353 1747 \nQ 353 2609 779 3096 \nQ 1206 3584 1959 3584 \nz\n\" transform=\"scale(0.015625)\"/>\n       <path id=\"DejaVuSans-63\" d=\"M 3122 3366 \nL 3122 2828 \nQ 2878 2963 2633 3030 \nQ 2388 3097 2138 3097 \nQ 1578 3097 1268 2742 \nQ 959 2388 959 1747 \nQ 959 1106 1268 751 \nQ 1578 397 2138 397 \nQ 2388 397 2633 464 \nQ 2878 531 3122 666 \nL 3122 134 \nQ 2881 22 2623 -34 \nQ 2366 -91 2075 -91 \nQ 1284 -91 818 406 \nQ 353 903 353 1747 \nQ 353 2603 823 3093 \nQ 1294 3584 2113 3584 \nQ 2378 3584 2631 3529 \nQ 2884 3475 3122 3366 \nz\n\" transform=\"scale(0.015625)\"/>\n       <path id=\"DejaVuSans-68\" d=\"M 3513 2113 \nL 3513 0 \nL 2938 0 \nL 2938 2094 \nQ 2938 2591 2744 2837 \nQ 2550 3084 2163 3084 \nQ 1697 3084 1428 2787 \nQ 1159 2491 1159 1978 \nL 1159 0 \nL 581 0 \nL 581 4863 \nL 1159 4863 \nL 1159 2956 \nQ 1366 3272 1645 3428 \nQ 1925 3584 2291 3584 \nQ 2894 3584 3203 3211 \nQ 3513 2838 3513 2113 \nz\n\" transform=\"scale(0.015625)\"/>\n      </defs>\n      <use xlink:href=\"#DejaVuSans-65\"/>\n      <use xlink:href=\"#DejaVuSans-70\" x=\"61.523438\"/>\n      <use xlink:href=\"#DejaVuSans-6f\" x=\"125\"/>\n      <use xlink:href=\"#DejaVuSans-63\" x=\"186.181641\"/>\n      <use xlink:href=\"#DejaVuSans-68\" x=\"241.162109\"/>\n     </g>\n    </g>\n   </g>\n   <g id=\"matplotlib.axis_2\">\n    <g id=\"ytick_1\">\n     <g id=\"line2d_11\">\n      <path d=\"M 30.103125 122.7 \nL 225.403125 122.7 \n\" clip-path=\"url(#p25c5d1fb61)\" style=\"fill: none; stroke: #b0b0b0; stroke-width: 0.8; stroke-linecap: square\"/>\n     </g>\n     <g id=\"line2d_12\">\n      <defs>\n       <path id=\"m3d0a061f55\" d=\"M 0 0 \nL -3.5 0 \n\" style=\"stroke: #000000; stroke-width: 0.8\"/>\n      </defs>\n      <g>\n       <use xlink:href=\"#m3d0a061f55\" x=\"30.103125\" y=\"122.7\" style=\"stroke: #000000; stroke-width: 0.8\"/>\n      </g>\n     </g>\n     <g id=\"text_7\">\n      <!-- 0.4 -->\n      <g transform=\"translate(7.2 126.499219) scale(0.1 -0.1)\">\n       <defs>\n        <path id=\"DejaVuSans-2e\" d=\"M 684 794 \nL 1344 794 \nL 1344 0 \nL 684 0 \nL 684 794 \nz\n\" transform=\"scale(0.015625)\"/>\n       </defs>\n       <use xlink:href=\"#DejaVuSans-30\"/>\n       <use xlink:href=\"#DejaVuSans-2e\" x=\"63.623047\"/>\n       <use xlink:href=\"#DejaVuSans-34\" x=\"95.410156\"/>\n      </g>\n     </g>\n    </g>\n    <g id=\"ytick_2\">\n     <g id=\"line2d_13\">\n      <path d=\"M 30.103125 76.5 \nL 225.403125 76.5 \n\" clip-path=\"url(#p25c5d1fb61)\" style=\"fill: none; stroke: #b0b0b0; stroke-width: 0.8; stroke-linecap: square\"/>\n     </g>\n     <g id=\"line2d_14\">\n      <g>\n       <use xlink:href=\"#m3d0a061f55\" x=\"30.103125\" y=\"76.5\" style=\"stroke: #000000; stroke-width: 0.8\"/>\n      </g>\n     </g>\n     <g id=\"text_8\">\n      <!-- 0.6 -->\n      <g transform=\"translate(7.2 80.299219) scale(0.1 -0.1)\">\n       <use xlink:href=\"#DejaVuSans-30\"/>\n       <use xlink:href=\"#DejaVuSans-2e\" x=\"63.623047\"/>\n       <use xlink:href=\"#DejaVuSans-36\" x=\"95.410156\"/>\n      </g>\n     </g>\n    </g>\n    <g id=\"ytick_3\">\n     <g id=\"line2d_15\">\n      <path d=\"M 30.103125 30.3 \nL 225.403125 30.3 \n\" clip-path=\"url(#p25c5d1fb61)\" style=\"fill: none; stroke: #b0b0b0; stroke-width: 0.8; stroke-linecap: square\"/>\n     </g>\n     <g id=\"line2d_16\">\n      <g>\n       <use xlink:href=\"#m3d0a061f55\" x=\"30.103125\" y=\"30.3\" style=\"stroke: #000000; stroke-width: 0.8\"/>\n      </g>\n     </g>\n     <g id=\"text_9\">\n      <!-- 0.8 -->\n      <g transform=\"translate(7.2 34.099219) scale(0.1 -0.1)\">\n       <use xlink:href=\"#DejaVuSans-30\"/>\n       <use xlink:href=\"#DejaVuSans-2e\" x=\"63.623047\"/>\n       <use xlink:href=\"#DejaVuSans-38\" x=\"95.410156\"/>\n      </g>\n     </g>\n    </g>\n   </g>\n   <g id=\"line2d_17\">\n    <path d=\"M 30.103125 33.819836 \nL 51.803125 83.256049 \nL 73.503125 93.675001 \nL 95.203125 99.486844 \nL 116.903125 102.902148 \nL 138.603125 105.852067 \nL 160.303125 107.541116 \nL 182.003125 109.403349 \nL 203.703125 110.563743 \nL 225.403125 111.737903 \n\" clip-path=\"url(#p25c5d1fb61)\" style=\"fill: none; stroke: #1f77b4; stroke-width: 1.5; stroke-linecap: square\"/>\n   </g>\n   <g id=\"line2d_18\">\n    <path d=\"M 30.103125 41.94625 \nL 51.803125 27.2123 \nL 73.503125 24.23625 \nL 95.203125 22.9311 \nL 116.903125 21.7684 \nL 138.603125 21.0369 \nL 160.303125 20.56335 \nL 182.003125 19.78565 \nL 203.703125 19.3968 \nL 225.403125 19.2582 \n\" clip-path=\"url(#p25c5d1fb61)\" style=\"fill: none; stroke-dasharray: 5.55,2.4; stroke-dashoffset: 0; stroke: #bf00bf; stroke-width: 1.5\"/>\n   </g>\n   <g id=\"line2d_19\">\n    <path d=\"M 30.103125 31.8477 \nL 51.803125 29.2836 \nL 73.503125 26.2113 \nL 95.203125 26.373 \nL 116.903125 26.2575 \nL 138.603125 24.2478 \nL 160.303125 23.5086 \nL 182.003125 29.2605 \nL 203.703125 24.6174 \nL 225.403125 25.4721 \n\" clip-path=\"url(#p25c5d1fb61)\" style=\"fill: none; stroke-dasharray: 9.6,2.4,1.5,2.4; stroke-dashoffset: 0; stroke: #008000; stroke-width: 1.5\"/>\n   </g>\n   <g id=\"patch_3\">\n    <path d=\"M 30.103125 145.8 \nL 30.103125 7.2 \n\" style=\"fill: none; stroke: #000000; stroke-width: 0.8; stroke-linejoin: miter; stroke-linecap: square\"/>\n   </g>\n   <g id=\"patch_4\">\n    <path d=\"M 225.403125 145.8 \nL 225.403125 7.2 \n\" style=\"fill: none; stroke: #000000; stroke-width: 0.8; stroke-linejoin: miter; stroke-linecap: square\"/>\n   </g>\n   <g id=\"patch_5\">\n    <path d=\"M 30.103125 145.8 \nL 225.403125 145.8 \n\" style=\"fill: none; stroke: #000000; stroke-width: 0.8; stroke-linejoin: miter; stroke-linecap: square\"/>\n   </g>\n   <g id=\"patch_6\">\n    <path d=\"M 30.103125 7.2 \nL 225.403125 7.2 \n\" style=\"fill: none; stroke: #000000; stroke-width: 0.8; stroke-linejoin: miter; stroke-linecap: square\"/>\n   </g>\n   <g id=\"legend_1\">\n    <g id=\"patch_7\">\n     <path d=\"M 140.634375 100.017188 \nL 218.403125 100.017188 \nQ 220.403125 100.017188 220.403125 98.017188 \nL 220.403125 54.982812 \nQ 220.403125 52.982812 218.403125 52.982812 \nL 140.634375 52.982812 \nQ 138.634375 52.982812 138.634375 54.982812 \nL 138.634375 98.017188 \nQ 138.634375 100.017188 140.634375 100.017188 \nz\n\" style=\"fill: #ffffff; opacity: 0.8; stroke: #cccccc; stroke-linejoin: miter\"/>\n    </g>\n    <g id=\"line2d_20\">\n     <path d=\"M 142.634375 61.08125 \nL 152.634375 61.08125 \nL 162.634375 61.08125 \n\" style=\"fill: none; stroke: #1f77b4; stroke-width: 1.5; stroke-linecap: square\"/>\n    </g>\n    <g id=\"text_10\">\n     <!-- train loss -->\n     <g transform=\"translate(170.634375 64.58125) scale(0.1 -0.1)\">\n      <defs>\n       <path id=\"DejaVuSans-74\" d=\"M 1172 4494 \nL 1172 3500 \nL 2356 3500 \nL 2356 3053 \nL 1172 3053 \nL 1172 1153 \nQ 1172 725 1289 603 \nQ 1406 481 1766 481 \nL 2356 481 \nL 2356 0 \nL 1766 0 \nQ 1100 0 847 248 \nQ 594 497 594 1153 \nL 594 3053 \nL 172 3053 \nL 172 3500 \nL 594 3500 \nL 594 4494 \nL 1172 4494 \nz\n\" transform=\"scale(0.015625)\"/>\n       <path id=\"DejaVuSans-72\" d=\"M 2631 2963 \nQ 2534 3019 2420 3045 \nQ 2306 3072 2169 3072 \nQ 1681 3072 1420 2755 \nQ 1159 2438 1159 1844 \nL 1159 0 \nL 581 0 \nL 581 3500 \nL 1159 3500 \nL 1159 2956 \nQ 1341 3275 1631 3429 \nQ 1922 3584 2338 3584 \nQ 2397 3584 2469 3576 \nQ 2541 3569 2628 3553 \nL 2631 2963 \nz\n\" transform=\"scale(0.015625)\"/>\n       <path id=\"DejaVuSans-61\" d=\"M 2194 1759 \nQ 1497 1759 1228 1600 \nQ 959 1441 959 1056 \nQ 959 750 1161 570 \nQ 1363 391 1709 391 \nQ 2188 391 2477 730 \nQ 2766 1069 2766 1631 \nL 2766 1759 \nL 2194 1759 \nz\nM 3341 1997 \nL 3341 0 \nL 2766 0 \nL 2766 531 \nQ 2569 213 2275 61 \nQ 1981 -91 1556 -91 \nQ 1019 -91 701 211 \nQ 384 513 384 1019 \nQ 384 1609 779 1909 \nQ 1175 2209 1959 2209 \nL 2766 2209 \nL 2766 2266 \nQ 2766 2663 2505 2880 \nQ 2244 3097 1772 3097 \nQ 1472 3097 1187 3025 \nQ 903 2953 641 2809 \nL 641 3341 \nQ 956 3463 1253 3523 \nQ 1550 3584 1831 3584 \nQ 2591 3584 2966 3190 \nQ 3341 2797 3341 1997 \nz\n\" transform=\"scale(0.015625)\"/>\n       <path id=\"DejaVuSans-69\" d=\"M 603 3500 \nL 1178 3500 \nL 1178 0 \nL 603 0 \nL 603 3500 \nz\nM 603 4863 \nL 1178 4863 \nL 1178 4134 \nL 603 4134 \nL 603 4863 \nz\n\" transform=\"scale(0.015625)\"/>\n       <path id=\"DejaVuSans-6e\" d=\"M 3513 2113 \nL 3513 0 \nL 2938 0 \nL 2938 2094 \nQ 2938 2591 2744 2837 \nQ 2550 3084 2163 3084 \nQ 1697 3084 1428 2787 \nQ 1159 2491 1159 1978 \nL 1159 0 \nL 581 0 \nL 581 3500 \nL 1159 3500 \nL 1159 2956 \nQ 1366 3272 1645 3428 \nQ 1925 3584 2291 3584 \nQ 2894 3584 3203 3211 \nQ 3513 2838 3513 2113 \nz\n\" transform=\"scale(0.015625)\"/>\n       <path id=\"DejaVuSans-20\" transform=\"scale(0.015625)\"/>\n       <path id=\"DejaVuSans-6c\" d=\"M 603 4863 \nL 1178 4863 \nL 1178 0 \nL 603 0 \nL 603 4863 \nz\n\" transform=\"scale(0.015625)\"/>\n       <path id=\"DejaVuSans-73\" d=\"M 2834 3397 \nL 2834 2853 \nQ 2591 2978 2328 3040 \nQ 2066 3103 1784 3103 \nQ 1356 3103 1142 2972 \nQ 928 2841 928 2578 \nQ 928 2378 1081 2264 \nQ 1234 2150 1697 2047 \nL 1894 2003 \nQ 2506 1872 2764 1633 \nQ 3022 1394 3022 966 \nQ 3022 478 2636 193 \nQ 2250 -91 1575 -91 \nQ 1294 -91 989 -36 \nQ 684 19 347 128 \nL 347 722 \nQ 666 556 975 473 \nQ 1284 391 1588 391 \nQ 1994 391 2212 530 \nQ 2431 669 2431 922 \nQ 2431 1156 2273 1281 \nQ 2116 1406 1581 1522 \nL 1381 1569 \nQ 847 1681 609 1914 \nQ 372 2147 372 2553 \nQ 372 3047 722 3315 \nQ 1072 3584 1716 3584 \nQ 2034 3584 2315 3537 \nQ 2597 3491 2834 3397 \nz\n\" transform=\"scale(0.015625)\"/>\n      </defs>\n      <use xlink:href=\"#DejaVuSans-74\"/>\n      <use xlink:href=\"#DejaVuSans-72\" x=\"39.208984\"/>\n      <use xlink:href=\"#DejaVuSans-61\" x=\"80.322266\"/>\n      <use xlink:href=\"#DejaVuSans-69\" x=\"141.601562\"/>\n      <use xlink:href=\"#DejaVuSans-6e\" x=\"169.384766\"/>\n      <use xlink:href=\"#DejaVuSans-20\" x=\"232.763672\"/>\n      <use xlink:href=\"#DejaVuSans-6c\" x=\"264.550781\"/>\n      <use xlink:href=\"#DejaVuSans-6f\" x=\"292.333984\"/>\n      <use xlink:href=\"#DejaVuSans-73\" x=\"353.515625\"/>\n      <use xlink:href=\"#DejaVuSans-73\" x=\"405.615234\"/>\n     </g>\n    </g>\n    <g id=\"line2d_21\">\n     <path d=\"M 142.634375 75.759375 \nL 152.634375 75.759375 \nL 162.634375 75.759375 \n\" style=\"fill: none; stroke-dasharray: 5.55,2.4; stroke-dashoffset: 0; stroke: #bf00bf; stroke-width: 1.5\"/>\n    </g>\n    <g id=\"text_11\">\n     <!-- train acc -->\n     <g transform=\"translate(170.634375 79.259375) scale(0.1 -0.1)\">\n      <use xlink:href=\"#DejaVuSans-74\"/>\n      <use xlink:href=\"#DejaVuSans-72\" x=\"39.208984\"/>\n      <use xlink:href=\"#DejaVuSans-61\" x=\"80.322266\"/>\n      <use xlink:href=\"#DejaVuSans-69\" x=\"141.601562\"/>\n      <use xlink:href=\"#DejaVuSans-6e\" x=\"169.384766\"/>\n      <use xlink:href=\"#DejaVuSans-20\" x=\"232.763672\"/>\n      <use xlink:href=\"#DejaVuSans-61\" x=\"264.550781\"/>\n      <use xlink:href=\"#DejaVuSans-63\" x=\"325.830078\"/>\n      <use xlink:href=\"#DejaVuSans-63\" x=\"380.810547\"/>\n     </g>\n    </g>\n    <g id=\"line2d_22\">\n     <path d=\"M 142.634375 90.4375 \nL 152.634375 90.4375 \nL 162.634375 90.4375 \n\" style=\"fill: none; stroke-dasharray: 9.6,2.4,1.5,2.4; stroke-dashoffset: 0; stroke: #008000; stroke-width: 1.5\"/>\n    </g>\n    <g id=\"text_12\">\n     <!-- test acc -->\n     <g transform=\"translate(170.634375 93.9375) scale(0.1 -0.1)\">\n      <use xlink:href=\"#DejaVuSans-74\"/>\n      <use xlink:href=\"#DejaVuSans-65\" x=\"39.208984\"/>\n      <use xlink:href=\"#DejaVuSans-73\" x=\"100.732422\"/>\n      <use xlink:href=\"#DejaVuSans-74\" x=\"152.832031\"/>\n      <use xlink:href=\"#DejaVuSans-20\" x=\"192.041016\"/>\n      <use xlink:href=\"#DejaVuSans-61\" x=\"223.828125\"/>\n      <use xlink:href=\"#DejaVuSans-63\" x=\"285.107422\"/>\n      <use xlink:href=\"#DejaVuSans-63\" x=\"340.087891\"/>\n     </g>\n    </g>\n   </g>\n  </g>\n </g>\n <defs>\n  <clipPath id=\"p25c5d1fb61\">\n   <rect x=\"30.103125\" y=\"7.2\" width=\"195.3\" height=\"138.6\"/>\n  </clipPath>\n </defs>\n</svg>\n"
          },
          "metadata": {}
        }
      ]
    },
    {
      "cell_type": "code",
      "source": [
        "def predict(net, test_iter, n=6):\n",
        "  for X, y in test_iter:\n",
        "    break\n",
        "  trues = d2l.get_fashion_mnist_labels(y)\n",
        "  preds = d2l.get_fashion_mnist_labels(net(X).argmax(axis = 1))\n",
        "  titles = [true + '\\n' + pred for true, pred in zip(trues, preds)]\n",
        "  d2l.show_images(\n",
        "      X[0:n].reshape((n, 28, 28)), 1 , n, titles = titles[0:n])\n",
        "predict(net, test_iter)"
      ],
      "metadata": {
        "colab": {
          "base_uri": "https://localhost:8080/",
          "height": 173
        },
        "id": "hkU0DahPepAA",
        "outputId": "2e7520cb-6db3-4672-86e1-54ee7ac7a6b4"
      },
      "execution_count": null,
      "outputs": [
        {
          "output_type": "display_data",
          "data": {
            "text/plain": [
              "<Figure size 900x150 with 6 Axes>"
            ],
            "image/svg+xml": "<?xml version=\"1.0\" encoding=\"utf-8\" standalone=\"no\"?>\n<!DOCTYPE svg PUBLIC \"-//W3C//DTD SVG 1.1//EN\"\n  \"http://www.w3.org/Graphics/SVG/1.1/DTD/svg11.dtd\">\n<svg xmlns:xlink=\"http://www.w3.org/1999/xlink\" width=\"516.6pt\" height=\"114.698357pt\" viewBox=\"0 0 516.6 114.698357\" xmlns=\"http://www.w3.org/2000/svg\" version=\"1.1\">\n <metadata>\n  <rdf:RDF xmlns:dc=\"http://purl.org/dc/elements/1.1/\" xmlns:cc=\"http://creativecommons.org/ns#\" xmlns:rdf=\"http://www.w3.org/1999/02/22-rdf-syntax-ns#\">\n   <cc:Work>\n    <dc:type rdf:resource=\"http://purl.org/dc/dcmitype/StillImage\"/>\n    <dc:date>2024-01-21T15:19:26.929994</dc:date>\n    <dc:format>image/svg+xml</dc:format>\n    <dc:creator>\n     <cc:Agent>\n      <dc:title>Matplotlib v3.7.1, https://matplotlib.org/</dc:title>\n     </cc:Agent>\n    </dc:creator>\n   </cc:Work>\n  </rdf:RDF>\n </metadata>\n <defs>\n  <style type=\"text/css\">*{stroke-linejoin: round; stroke-linecap: butt}</style>\n </defs>\n <g id=\"figure_1\">\n  <g id=\"patch_1\">\n   <path d=\"M 0 114.698357 \nL 516.6 114.698357 \nL 516.6 0 \nL 0 0 \nz\n\" style=\"fill: #ffffff\"/>\n  </g>\n  <g id=\"axes_1\">\n   <g id=\"patch_2\">\n    <path d=\"M 7.2 107.498357 \nL 78.942857 107.498357 \nL 78.942857 35.7555 \nL 7.2 35.7555 \nz\n\" style=\"fill: #ffffff\"/>\n   </g>\n   <g clip-path=\"url(#p1aac44dea9)\">\n    <image xlink:href=\"data:image/png;base64,\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\" id=\"imagebf5a7714c3\" transform=\"scale(1 -1) translate(0 -72)\" x=\"7.2\" y=\"-35.498357\" width=\"72\" height=\"72\"/>\n   </g>\n   <g id=\"patch_3\">\n    <path d=\"M 7.2 107.498357 \nL 7.2 35.7555 \n\" style=\"fill: none; stroke: #000000; stroke-width: 0.8; stroke-linejoin: miter; stroke-linecap: square\"/>\n   </g>\n   <g id=\"patch_4\">\n    <path d=\"M 78.942857 107.498357 \nL 78.942857 35.7555 \n\" style=\"fill: none; stroke: #000000; stroke-width: 0.8; stroke-linejoin: miter; stroke-linecap: square\"/>\n   </g>\n   <g id=\"patch_5\">\n    <path d=\"M 7.2 107.498357 \nL 78.942857 107.498357 \n\" style=\"fill: none; stroke: #000000; stroke-width: 0.8; stroke-linejoin: miter; stroke-linecap: square\"/>\n   </g>\n   <g id=\"patch_6\">\n    <path d=\"M 7.2 35.7555 \nL 78.942857 35.7555 \n\" style=\"fill: none; stroke: #000000; stroke-width: 0.8; stroke-linejoin: miter; stroke-linecap: square\"/>\n   </g>\n   <g id=\"text_1\">\n    <!-- ankle boot -->\n    <g transform=\"translate(11.348304 16.318125) scale(0.12 -0.12)\">\n     <defs>\n      <path id=\"DejaVuSans-61\" d=\"M 2194 1759 \nQ 1497 1759 1228 1600 \nQ 959 1441 959 1056 \nQ 959 750 1161 570 \nQ 1363 391 1709 391 \nQ 2188 391 2477 730 \nQ 2766 1069 2766 1631 \nL 2766 1759 \nL 2194 1759 \nz\nM 3341 1997 \nL 3341 0 \nL 2766 0 \nL 2766 531 \nQ 2569 213 2275 61 \nQ 1981 -91 1556 -91 \nQ 1019 -91 701 211 \nQ 384 513 384 1019 \nQ 384 1609 779 1909 \nQ 1175 2209 1959 2209 \nL 2766 2209 \nL 2766 2266 \nQ 2766 2663 2505 2880 \nQ 2244 3097 1772 3097 \nQ 1472 3097 1187 3025 \nQ 903 2953 641 2809 \nL 641 3341 \nQ 956 3463 1253 3523 \nQ 1550 3584 1831 3584 \nQ 2591 3584 2966 3190 \nQ 3341 2797 3341 1997 \nz\n\" transform=\"scale(0.015625)\"/>\n      <path id=\"DejaVuSans-6e\" d=\"M 3513 2113 \nL 3513 0 \nL 2938 0 \nL 2938 2094 \nQ 2938 2591 2744 2837 \nQ 2550 3084 2163 3084 \nQ 1697 3084 1428 2787 \nQ 1159 2491 1159 1978 \nL 1159 0 \nL 581 0 \nL 581 3500 \nL 1159 3500 \nL 1159 2956 \nQ 1366 3272 1645 3428 \nQ 1925 3584 2291 3584 \nQ 2894 3584 3203 3211 \nQ 3513 2838 3513 2113 \nz\n\" transform=\"scale(0.015625)\"/>\n      <path id=\"DejaVuSans-6b\" d=\"M 581 4863 \nL 1159 4863 \nL 1159 1991 \nL 2875 3500 \nL 3609 3500 \nL 1753 1863 \nL 3688 0 \nL 2938 0 \nL 1159 1709 \nL 1159 0 \nL 581 0 \nL 581 4863 \nz\n\" transform=\"scale(0.015625)\"/>\n      <path id=\"DejaVuSans-6c\" d=\"M 603 4863 \nL 1178 4863 \nL 1178 0 \nL 603 0 \nL 603 4863 \nz\n\" transform=\"scale(0.015625)\"/>\n      <path id=\"DejaVuSans-65\" d=\"M 3597 1894 \nL 3597 1613 \nL 953 1613 \nQ 991 1019 1311 708 \nQ 1631 397 2203 397 \nQ 2534 397 2845 478 \nQ 3156 559 3463 722 \nL 3463 178 \nQ 3153 47 2828 -22 \nQ 2503 -91 2169 -91 \nQ 1331 -91 842 396 \nQ 353 884 353 1716 \nQ 353 2575 817 3079 \nQ 1281 3584 2069 3584 \nQ 2775 3584 3186 3129 \nQ 3597 2675 3597 1894 \nz\nM 3022 2063 \nQ 3016 2534 2758 2815 \nQ 2500 3097 2075 3097 \nQ 1594 3097 1305 2825 \nQ 1016 2553 972 2059 \nL 3022 2063 \nz\n\" transform=\"scale(0.015625)\"/>\n      <path id=\"DejaVuSans-20\" transform=\"scale(0.015625)\"/>\n      <path id=\"DejaVuSans-62\" d=\"M 3116 1747 \nQ 3116 2381 2855 2742 \nQ 2594 3103 2138 3103 \nQ 1681 3103 1420 2742 \nQ 1159 2381 1159 1747 \nQ 1159 1113 1420 752 \nQ 1681 391 2138 391 \nQ 2594 391 2855 752 \nQ 3116 1113 3116 1747 \nz\nM 1159 2969 \nQ 1341 3281 1617 3432 \nQ 1894 3584 2278 3584 \nQ 2916 3584 3314 3078 \nQ 3713 2572 3713 1747 \nQ 3713 922 3314 415 \nQ 2916 -91 2278 -91 \nQ 1894 -91 1617 61 \nQ 1341 213 1159 525 \nL 1159 0 \nL 581 0 \nL 581 4863 \nL 1159 4863 \nL 1159 2969 \nz\n\" transform=\"scale(0.015625)\"/>\n      <path id=\"DejaVuSans-6f\" d=\"M 1959 3097 \nQ 1497 3097 1228 2736 \nQ 959 2375 959 1747 \nQ 959 1119 1226 758 \nQ 1494 397 1959 397 \nQ 2419 397 2687 759 \nQ 2956 1122 2956 1747 \nQ 2956 2369 2687 2733 \nQ 2419 3097 1959 3097 \nz\nM 1959 3584 \nQ 2709 3584 3137 3096 \nQ 3566 2609 3566 1747 \nQ 3566 888 3137 398 \nQ 2709 -91 1959 -91 \nQ 1206 -91 779 398 \nQ 353 888 353 1747 \nQ 353 2609 779 3096 \nQ 1206 3584 1959 3584 \nz\n\" transform=\"scale(0.015625)\"/>\n      <path id=\"DejaVuSans-74\" d=\"M 1172 4494 \nL 1172 3500 \nL 2356 3500 \nL 2356 3053 \nL 1172 3053 \nL 1172 1153 \nQ 1172 725 1289 603 \nQ 1406 481 1766 481 \nL 2356 481 \nL 2356 0 \nL 1766 0 \nQ 1100 0 847 248 \nQ 594 497 594 1153 \nL 594 3053 \nL 172 3053 \nL 172 3500 \nL 594 3500 \nL 594 4494 \nL 1172 4494 \nz\n\" transform=\"scale(0.015625)\"/>\n     </defs>\n     <use xlink:href=\"#DejaVuSans-61\"/>\n     <use xlink:href=\"#DejaVuSans-6e\" x=\"61.279297\"/>\n     <use xlink:href=\"#DejaVuSans-6b\" x=\"124.658203\"/>\n     <use xlink:href=\"#DejaVuSans-6c\" x=\"182.568359\"/>\n     <use xlink:href=\"#DejaVuSans-65\" x=\"210.351562\"/>\n     <use xlink:href=\"#DejaVuSans-20\" x=\"271.875\"/>\n     <use xlink:href=\"#DejaVuSans-62\" x=\"303.662109\"/>\n     <use xlink:href=\"#DejaVuSans-6f\" x=\"367.138672\"/>\n     <use xlink:href=\"#DejaVuSans-6f\" x=\"428.320312\"/>\n     <use xlink:href=\"#DejaVuSans-74\" x=\"489.501953\"/>\n    </g>\n    <!-- ankle boot -->\n    <g transform=\"translate(11.348304 29.7555) scale(0.12 -0.12)\">\n     <use xlink:href=\"#DejaVuSans-61\"/>\n     <use xlink:href=\"#DejaVuSans-6e\" x=\"61.279297\"/>\n     <use xlink:href=\"#DejaVuSans-6b\" x=\"124.658203\"/>\n     <use xlink:href=\"#DejaVuSans-6c\" x=\"182.568359\"/>\n     <use xlink:href=\"#DejaVuSans-65\" x=\"210.351562\"/>\n     <use xlink:href=\"#DejaVuSans-20\" x=\"271.875\"/>\n     <use xlink:href=\"#DejaVuSans-62\" x=\"303.662109\"/>\n     <use xlink:href=\"#DejaVuSans-6f\" x=\"367.138672\"/>\n     <use xlink:href=\"#DejaVuSans-6f\" x=\"428.320312\"/>\n     <use xlink:href=\"#DejaVuSans-74\" x=\"489.501953\"/>\n    </g>\n   </g>\n  </g>\n  <g id=\"axes_2\">\n   <g id=\"patch_7\">\n    <path d=\"M 93.291429 107.498357 \nL 165.034286 107.498357 \nL 165.034286 35.7555 \nL 93.291429 35.7555 \nz\n\" style=\"fill: #ffffff\"/>\n   </g>\n   <g clip-path=\"url(#p6cd04d3c28)\">\n    <image xlink:href=\"data:image/png;base64,\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\" id=\"image6dfc7c70fc\" transform=\"scale(1 -1) translate(0 -72)\" x=\"93.291429\" y=\"-35.498357\" width=\"72\" height=\"72\"/>\n   </g>\n   <g id=\"patch_8\">\n    <path d=\"M 93.291429 107.498357 \nL 93.291429 35.7555 \n\" style=\"fill: none; stroke: #000000; stroke-width: 0.8; stroke-linejoin: miter; stroke-linecap: square\"/>\n   </g>\n   <g id=\"patch_9\">\n    <path d=\"M 165.034286 107.498357 \nL 165.034286 35.7555 \n\" style=\"fill: none; stroke: #000000; stroke-width: 0.8; stroke-linejoin: miter; stroke-linecap: square\"/>\n   </g>\n   <g id=\"patch_10\">\n    <path d=\"M 93.291429 107.498357 \nL 165.034286 107.498357 \n\" style=\"fill: none; stroke: #000000; stroke-width: 0.8; stroke-linejoin: miter; stroke-linecap: square\"/>\n   </g>\n   <g id=\"patch_11\">\n    <path d=\"M 93.291429 35.7555 \nL 165.034286 35.7555 \n\" style=\"fill: none; stroke: #000000; stroke-width: 0.8; stroke-linejoin: miter; stroke-linecap: square\"/>\n   </g>\n   <g id=\"text_2\">\n    <!-- pullover -->\n    <g transform=\"translate(104.836607 16.318125) scale(0.12 -0.12)\">\n     <defs>\n      <path id=\"DejaVuSans-70\" d=\"M 1159 525 \nL 1159 -1331 \nL 581 -1331 \nL 581 3500 \nL 1159 3500 \nL 1159 2969 \nQ 1341 3281 1617 3432 \nQ 1894 3584 2278 3584 \nQ 2916 3584 3314 3078 \nQ 3713 2572 3713 1747 \nQ 3713 922 3314 415 \nQ 2916 -91 2278 -91 \nQ 1894 -91 1617 61 \nQ 1341 213 1159 525 \nz\nM 3116 1747 \nQ 3116 2381 2855 2742 \nQ 2594 3103 2138 3103 \nQ 1681 3103 1420 2742 \nQ 1159 2381 1159 1747 \nQ 1159 1113 1420 752 \nQ 1681 391 2138 391 \nQ 2594 391 2855 752 \nQ 3116 1113 3116 1747 \nz\n\" transform=\"scale(0.015625)\"/>\n      <path id=\"DejaVuSans-75\" d=\"M 544 1381 \nL 544 3500 \nL 1119 3500 \nL 1119 1403 \nQ 1119 906 1312 657 \nQ 1506 409 1894 409 \nQ 2359 409 2629 706 \nQ 2900 1003 2900 1516 \nL 2900 3500 \nL 3475 3500 \nL 3475 0 \nL 2900 0 \nL 2900 538 \nQ 2691 219 2414 64 \nQ 2138 -91 1772 -91 \nQ 1169 -91 856 284 \nQ 544 659 544 1381 \nz\nM 1991 3584 \nL 1991 3584 \nz\n\" transform=\"scale(0.015625)\"/>\n      <path id=\"DejaVuSans-76\" d=\"M 191 3500 \nL 800 3500 \nL 1894 563 \nL 2988 3500 \nL 3597 3500 \nL 2284 0 \nL 1503 0 \nL 191 3500 \nz\n\" transform=\"scale(0.015625)\"/>\n      <path id=\"DejaVuSans-72\" d=\"M 2631 2963 \nQ 2534 3019 2420 3045 \nQ 2306 3072 2169 3072 \nQ 1681 3072 1420 2755 \nQ 1159 2438 1159 1844 \nL 1159 0 \nL 581 0 \nL 581 3500 \nL 1159 3500 \nL 1159 2956 \nQ 1341 3275 1631 3429 \nQ 1922 3584 2338 3584 \nQ 2397 3584 2469 3576 \nQ 2541 3569 2628 3553 \nL 2631 2963 \nz\n\" transform=\"scale(0.015625)\"/>\n     </defs>\n     <use xlink:href=\"#DejaVuSans-70\"/>\n     <use xlink:href=\"#DejaVuSans-75\" x=\"63.476562\"/>\n     <use xlink:href=\"#DejaVuSans-6c\" x=\"126.855469\"/>\n     <use xlink:href=\"#DejaVuSans-6c\" x=\"154.638672\"/>\n     <use xlink:href=\"#DejaVuSans-6f\" x=\"182.421875\"/>\n     <use xlink:href=\"#DejaVuSans-76\" x=\"243.603516\"/>\n     <use xlink:href=\"#DejaVuSans-65\" x=\"302.783203\"/>\n     <use xlink:href=\"#DejaVuSans-72\" x=\"364.306641\"/>\n    </g>\n    <!-- pullover -->\n    <g transform=\"translate(104.836607 29.7555) scale(0.12 -0.12)\">\n     <use xlink:href=\"#DejaVuSans-70\"/>\n     <use xlink:href=\"#DejaVuSans-75\" x=\"63.476562\"/>\n     <use xlink:href=\"#DejaVuSans-6c\" x=\"126.855469\"/>\n     <use xlink:href=\"#DejaVuSans-6c\" x=\"154.638672\"/>\n     <use xlink:href=\"#DejaVuSans-6f\" x=\"182.421875\"/>\n     <use xlink:href=\"#DejaVuSans-76\" x=\"243.603516\"/>\n     <use xlink:href=\"#DejaVuSans-65\" x=\"302.783203\"/>\n     <use xlink:href=\"#DejaVuSans-72\" x=\"364.306641\"/>\n    </g>\n   </g>\n  </g>\n  <g id=\"axes_3\">\n   <g id=\"patch_12\">\n    <path d=\"M 179.382857 107.498357 \nL 251.125714 107.498357 \nL 251.125714 35.7555 \nL 179.382857 35.7555 \nz\n\" style=\"fill: #ffffff\"/>\n   </g>\n   <g clip-path=\"url(#pf90013d02a)\">\n    <image xlink:href=\"data:image/png;base64,\niVBORw0KGgoAAAANSUhEUgAAAGQAAABkCAYAAABw4pVUAAAF80lEQVR4nO2dTWhcVRTH33uT92YyyUy+S5ooQVs/sCbGUki1glpCUfBjk4IWwV1xJYLu3YlLFepCcCfUhUXcBIsbFSx+RCu1qFGL00idhGamyUwmeZOZ9567e+//4h0nkpl7Fue3OpcT3pvwv+ecO/dr3Hl3IXGIUnz1YWg3H6oIe/CjfvDlPvza+Jyt03PQDs6uCrtcy4Jv6D353PTid+1/2H3C6/obmZawIMRgQYjRY+WtrivtxFzCTp75FtpvHVwS9vpcDXwLlVegreb/zee3wHf1yCfCricN8E3/8rKw71g0frSOwRFCDBaEGFZSltvjCztp7Br/7unBy9D+sV4X9sWtWfC1GqJGEfa79UimuzXNly65jk04QojBghCDBSGGlRqSRJHRVzlzXNjTwVfgq8ZyiOy75mfoPHP4J2iXY2lHDtaMvmLs2IQjhBgsCDHsfFNPzGnh5lOhsGsxfovPKtnl3GenwHfYMc/27kQ+tFNO8q+24zhOlOZhL6PAghCDBSGGpRpinuH94Pj7wt6MMff7KTkzO36p/YXOyfSG0acPe+tDXEMYBRaEGHZSVgtKcZ+wRzxchCorw+D88ib4Wn2/frz/Z2iHSUrYM0EGfHuYAOgIHCHEYEGIwYIQw3oNSd13N7Tv8uUM71/NPPhKTVlf4iu/tv2OnIsbGWLHPLTlGsIALAgxWBBiWK8hxcdGoT3myfxednFHytGgKux39vCOO32cgllumAuFa3fBkCOEGiwIMaynrOqJHWiHympizsOU9frao0oLh7KtSLuYssIWE8WJ5S7KEUIMFoQYLAgxrNeQ544sQXsjln1k2MPh6eLy/cI+5OBG7L1QjtTziXXwRen//dh9gSOEGCwIMaynrEf6f4N2Q+kjobahrueP3raf62UyRl/GNQ+Ze7bbfkVH4AghBgtCDBaEGNZryBNZHHZ+viOvuhj2K+Crj7c/XeIGgdEXJupUCr5fWZS0AkcIMVgQYlhPWTq7yiY2fa1oYqrU9nO2T9wj7M34Ivgq8YDS0lIWXg7UdThCiMGCEIMFIQa5GtLnyZxe1s4GvjglzxFecA60fM7Kk7KvZV0cAjcScv+2gCOEGCwIMVgQYpBLpuq58UqCy3cv5ArC/q8akpmQh30aCa48ploe77ELRwgxWBBikEtZKtUYV/2ySvfxsjjHEW/jUt+xyRVh15Mm+KIW/bCR59uAGAUWhBgsCDGs15BiEy859pVpjlqs71qTVzdtPDsDnvx5vJ7p7ds+lT4Pa1GoXdmhEg23vyrZCThCiMGCEMN6yroUTkD73mBN2PptbyrV01Vo58+jfyglh8XqBcyO4ziDqRa74XZSZl8X4AghBgtCDBaEGNZryHJ4ENpH038L23dxymNFGSK/Mf0x+M45eEWHSqitEGY88w8AeLt2+yhHCDFYEGJYT1kXrj8A7bOzPwg70K7mKTTlUbSTvWXwffE99q1bkRza7jo4M6xuctiOMX0lQ+Z01g04QojBghCDBSGG9RpSuzwCbf9B2UduNIbAN5uRq4DXmzit8trYl9D+po7PVfGUTQ7FCGvG1ET7G7o7AUcIMVgQYrAgxLBeQ0av4C6PAU+eRR/rwTOG6sX5pRjPrBeauCqoTt172sa42JErhiVtVXKsV07P4N3Z3YEjhBgsCDGsp6yBpaLRl/dCaKsb5/q0CzL16zLUDRKBdm+yuslhxMPVxGu35HB51On+EJgjhBgsCDFYEGJYryHNworRl9NqSC1p97oMRF959JTbkg/5/eArr+eEjVc8dweOEGKwIMSwnrJ01I0Mvosf7/dwXNi3+zgk1dPbalNen1FuYFrSv7mrBDfMabEbcIQQgwUhBgtCDDs1xFM2NMe4s+TNtXlhvzuJZz5mglXjI6818JzJsUBOrWQ9rAt4JgXry+Cy8RVdgSOEGCwIMdx5d6H9n13et7cq06/aL0fXFuaEnX4JZ4ILV+VZEu8ADnO9P3HBqtknn5sM4kxw0pD9cGrqJvjSpwotPnjn4QghBgtCDBaEGP8AMRR0yNoJQhkAAAAASUVORK5CYII=\" id=\"image7ba92b61ad\" transform=\"scale(1 -1) translate(0 -72)\" x=\"179.382857\" y=\"-35.498357\" width=\"72\" height=\"72\"/>\n   </g>\n   <g id=\"patch_13\">\n    <path d=\"M 179.382857 107.498357 \nL 179.382857 35.7555 \n\" style=\"fill: none; stroke: #000000; stroke-width: 0.8; stroke-linejoin: miter; stroke-linecap: square\"/>\n   </g>\n   <g id=\"patch_14\">\n    <path d=\"M 251.125714 107.498357 \nL 251.125714 35.7555 \n\" style=\"fill: none; stroke: #000000; stroke-width: 0.8; stroke-linejoin: miter; stroke-linecap: square\"/>\n   </g>\n   <g id=\"patch_15\">\n    <path d=\"M 179.382857 107.498357 \nL 251.125714 107.498357 \n\" style=\"fill: none; stroke: #000000; stroke-width: 0.8; stroke-linejoin: miter; stroke-linecap: square\"/>\n   </g>\n   <g id=\"patch_16\">\n    <path d=\"M 179.382857 35.7555 \nL 251.125714 35.7555 \n\" style=\"fill: none; stroke: #000000; stroke-width: 0.8; stroke-linejoin: miter; stroke-linecap: square\"/>\n   </g>\n   <g id=\"text_3\">\n    <!-- trouser -->\n    <g transform=\"translate(193.812723 16.318125) scale(0.12 -0.12)\">\n     <defs>\n      <path id=\"DejaVuSans-73\" d=\"M 2834 3397 \nL 2834 2853 \nQ 2591 2978 2328 3040 \nQ 2066 3103 1784 3103 \nQ 1356 3103 1142 2972 \nQ 928 2841 928 2578 \nQ 928 2378 1081 2264 \nQ 1234 2150 1697 2047 \nL 1894 2003 \nQ 2506 1872 2764 1633 \nQ 3022 1394 3022 966 \nQ 3022 478 2636 193 \nQ 2250 -91 1575 -91 \nQ 1294 -91 989 -36 \nQ 684 19 347 128 \nL 347 722 \nQ 666 556 975 473 \nQ 1284 391 1588 391 \nQ 1994 391 2212 530 \nQ 2431 669 2431 922 \nQ 2431 1156 2273 1281 \nQ 2116 1406 1581 1522 \nL 1381 1569 \nQ 847 1681 609 1914 \nQ 372 2147 372 2553 \nQ 372 3047 722 3315 \nQ 1072 3584 1716 3584 \nQ 2034 3584 2315 3537 \nQ 2597 3491 2834 3397 \nz\n\" transform=\"scale(0.015625)\"/>\n     </defs>\n     <use xlink:href=\"#DejaVuSans-74\"/>\n     <use xlink:href=\"#DejaVuSans-72\" x=\"39.208984\"/>\n     <use xlink:href=\"#DejaVuSans-6f\" x=\"78.072266\"/>\n     <use xlink:href=\"#DejaVuSans-75\" x=\"139.253906\"/>\n     <use xlink:href=\"#DejaVuSans-73\" x=\"202.632812\"/>\n     <use xlink:href=\"#DejaVuSans-65\" x=\"254.732422\"/>\n     <use xlink:href=\"#DejaVuSans-72\" x=\"316.255859\"/>\n    </g>\n    <!-- trouser -->\n    <g transform=\"translate(193.812723 29.7555) scale(0.12 -0.12)\">\n     <use xlink:href=\"#DejaVuSans-74\"/>\n     <use xlink:href=\"#DejaVuSans-72\" x=\"39.208984\"/>\n     <use xlink:href=\"#DejaVuSans-6f\" x=\"78.072266\"/>\n     <use xlink:href=\"#DejaVuSans-75\" x=\"139.253906\"/>\n     <use xlink:href=\"#DejaVuSans-73\" x=\"202.632812\"/>\n     <use xlink:href=\"#DejaVuSans-65\" x=\"254.732422\"/>\n     <use xlink:href=\"#DejaVuSans-72\" x=\"316.255859\"/>\n    </g>\n   </g>\n  </g>\n  <g id=\"axes_4\">\n   <g id=\"patch_17\">\n    <path d=\"M 265.474286 107.498357 \nL 337.217143 107.498357 \nL 337.217143 35.7555 \nL 265.474286 35.7555 \nz\n\" style=\"fill: #ffffff\"/>\n   </g>\n   <g clip-path=\"url(#pb2c7927091)\">\n    <image xlink:href=\"data:image/png;base64,\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\" id=\"image3ac56ce5f0\" transform=\"scale(1 -1) translate(0 -72)\" x=\"265.474286\" y=\"-35.498357\" width=\"72\" height=\"72\"/>\n   </g>\n   <g id=\"patch_18\">\n    <path d=\"M 265.474286 107.498357 \nL 265.474286 35.7555 \n\" style=\"fill: none; stroke: #000000; stroke-width: 0.8; stroke-linejoin: miter; stroke-linecap: square\"/>\n   </g>\n   <g id=\"patch_19\">\n    <path d=\"M 337.217143 107.498357 \nL 337.217143 35.7555 \n\" style=\"fill: none; stroke: #000000; stroke-width: 0.8; stroke-linejoin: miter; stroke-linecap: square\"/>\n   </g>\n   <g id=\"patch_20\">\n    <path d=\"M 265.474286 107.498357 \nL 337.217143 107.498357 \n\" style=\"fill: none; stroke: #000000; stroke-width: 0.8; stroke-linejoin: miter; stroke-linecap: square\"/>\n   </g>\n   <g id=\"patch_21\">\n    <path d=\"M 265.474286 35.7555 \nL 337.217143 35.7555 \n\" style=\"fill: none; stroke: #000000; stroke-width: 0.8; stroke-linejoin: miter; stroke-linecap: square\"/>\n   </g>\n   <g id=\"text_4\">\n    <!-- trouser -->\n    <g transform=\"translate(279.904152 16.318125) scale(0.12 -0.12)\">\n     <use xlink:href=\"#DejaVuSans-74\"/>\n     <use xlink:href=\"#DejaVuSans-72\" x=\"39.208984\"/>\n     <use xlink:href=\"#DejaVuSans-6f\" x=\"78.072266\"/>\n     <use xlink:href=\"#DejaVuSans-75\" x=\"139.253906\"/>\n     <use xlink:href=\"#DejaVuSans-73\" x=\"202.632812\"/>\n     <use xlink:href=\"#DejaVuSans-65\" x=\"254.732422\"/>\n     <use xlink:href=\"#DejaVuSans-72\" x=\"316.255859\"/>\n    </g>\n    <!-- trouser -->\n    <g transform=\"translate(279.904152 29.7555) scale(0.12 -0.12)\">\n     <use xlink:href=\"#DejaVuSans-74\"/>\n     <use xlink:href=\"#DejaVuSans-72\" x=\"39.208984\"/>\n     <use xlink:href=\"#DejaVuSans-6f\" x=\"78.072266\"/>\n     <use xlink:href=\"#DejaVuSans-75\" x=\"139.253906\"/>\n     <use xlink:href=\"#DejaVuSans-73\" x=\"202.632812\"/>\n     <use xlink:href=\"#DejaVuSans-65\" x=\"254.732422\"/>\n     <use xlink:href=\"#DejaVuSans-72\" x=\"316.255859\"/>\n    </g>\n   </g>\n  </g>\n  <g id=\"axes_5\">\n   <g id=\"patch_22\">\n    <path d=\"M 351.565714 107.498357 \nL 423.308571 107.498357 \nL 423.308571 35.7555 \nL 351.565714 35.7555 \nz\n\" style=\"fill: #ffffff\"/>\n   </g>\n   <g clip-path=\"url(#pba366b573a)\">\n    <image xlink:href=\"data:image/png;base64,\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\" id=\"imagea6b2693d27\" transform=\"scale(1 -1) translate(0 -72)\" x=\"351.565714\" y=\"-35.498357\" width=\"72\" height=\"72\"/>\n   </g>\n   <g id=\"patch_23\">\n    <path d=\"M 351.565714 107.498357 \nL 351.565714 35.7555 \n\" style=\"fill: none; stroke: #000000; stroke-width: 0.8; stroke-linejoin: miter; stroke-linecap: square\"/>\n   </g>\n   <g id=\"patch_24\">\n    <path d=\"M 423.308571 107.498357 \nL 423.308571 35.7555 \n\" style=\"fill: none; stroke: #000000; stroke-width: 0.8; stroke-linejoin: miter; stroke-linecap: square\"/>\n   </g>\n   <g id=\"patch_25\">\n    <path d=\"M 351.565714 107.498357 \nL 423.308571 107.498357 \n\" style=\"fill: none; stroke: #000000; stroke-width: 0.8; stroke-linejoin: miter; stroke-linecap: square\"/>\n   </g>\n   <g id=\"patch_26\">\n    <path d=\"M 351.565714 35.7555 \nL 423.308571 35.7555 \n\" style=\"fill: none; stroke: #000000; stroke-width: 0.8; stroke-linejoin: miter; stroke-linecap: square\"/>\n   </g>\n   <g id=\"text_5\">\n    <!-- shirt -->\n    <g transform=\"translate(374.023393 16.318125) scale(0.12 -0.12)\">\n     <defs>\n      <path id=\"DejaVuSans-68\" d=\"M 3513 2113 \nL 3513 0 \nL 2938 0 \nL 2938 2094 \nQ 2938 2591 2744 2837 \nQ 2550 3084 2163 3084 \nQ 1697 3084 1428 2787 \nQ 1159 2491 1159 1978 \nL 1159 0 \nL 581 0 \nL 581 4863 \nL 1159 4863 \nL 1159 2956 \nQ 1366 3272 1645 3428 \nQ 1925 3584 2291 3584 \nQ 2894 3584 3203 3211 \nQ 3513 2838 3513 2113 \nz\n\" transform=\"scale(0.015625)\"/>\n      <path id=\"DejaVuSans-69\" d=\"M 603 3500 \nL 1178 3500 \nL 1178 0 \nL 603 0 \nL 603 3500 \nz\nM 603 4863 \nL 1178 4863 \nL 1178 4134 \nL 603 4134 \nL 603 4863 \nz\n\" transform=\"scale(0.015625)\"/>\n     </defs>\n     <use xlink:href=\"#DejaVuSans-73\"/>\n     <use xlink:href=\"#DejaVuSans-68\" x=\"52.099609\"/>\n     <use xlink:href=\"#DejaVuSans-69\" x=\"115.478516\"/>\n     <use xlink:href=\"#DejaVuSans-72\" x=\"143.261719\"/>\n     <use xlink:href=\"#DejaVuSans-74\" x=\"184.375\"/>\n    </g>\n    <!-- shirt -->\n    <g transform=\"translate(374.023393 29.7555) scale(0.12 -0.12)\">\n     <use xlink:href=\"#DejaVuSans-73\"/>\n     <use xlink:href=\"#DejaVuSans-68\" x=\"52.099609\"/>\n     <use xlink:href=\"#DejaVuSans-69\" x=\"115.478516\"/>\n     <use xlink:href=\"#DejaVuSans-72\" x=\"143.261719\"/>\n     <use xlink:href=\"#DejaVuSans-74\" x=\"184.375\"/>\n    </g>\n   </g>\n  </g>\n  <g id=\"axes_6\">\n   <g id=\"patch_27\">\n    <path d=\"M 437.657143 107.498357 \nL 509.4 107.498357 \nL 509.4 35.7555 \nL 437.657143 35.7555 \nz\n\" style=\"fill: #ffffff\"/>\n   </g>\n   <g clip-path=\"url(#pbe0a1476f1)\">\n    <image xlink:href=\"data:image/png;base64,\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\" id=\"imagea855468eec\" transform=\"scale(1 -1) translate(0 -72)\" x=\"437.657143\" y=\"-35.498357\" width=\"72\" height=\"72\"/>\n   </g>\n   <g id=\"patch_28\">\n    <path d=\"M 437.657143 107.498357 \nL 437.657143 35.7555 \n\" style=\"fill: none; stroke: #000000; stroke-width: 0.8; stroke-linejoin: miter; stroke-linecap: square\"/>\n   </g>\n   <g id=\"patch_29\">\n    <path d=\"M 509.4 107.498357 \nL 509.4 35.7555 \n\" style=\"fill: none; stroke: #000000; stroke-width: 0.8; stroke-linejoin: miter; stroke-linecap: square\"/>\n   </g>\n   <g id=\"patch_30\">\n    <path d=\"M 437.657143 107.498357 \nL 509.4 107.498357 \n\" style=\"fill: none; stroke: #000000; stroke-width: 0.8; stroke-linejoin: miter; stroke-linecap: square\"/>\n   </g>\n   <g id=\"patch_31\">\n    <path d=\"M 437.657143 35.7555 \nL 509.4 35.7555 \n\" style=\"fill: none; stroke: #000000; stroke-width: 0.8; stroke-linejoin: miter; stroke-linecap: square\"/>\n   </g>\n   <g id=\"text_6\">\n    <!-- trouser -->\n    <g transform=\"translate(452.087009 16.318125) scale(0.12 -0.12)\">\n     <use xlink:href=\"#DejaVuSans-74\"/>\n     <use xlink:href=\"#DejaVuSans-72\" x=\"39.208984\"/>\n     <use xlink:href=\"#DejaVuSans-6f\" x=\"78.072266\"/>\n     <use xlink:href=\"#DejaVuSans-75\" x=\"139.253906\"/>\n     <use xlink:href=\"#DejaVuSans-73\" x=\"202.632812\"/>\n     <use xlink:href=\"#DejaVuSans-65\" x=\"254.732422\"/>\n     <use xlink:href=\"#DejaVuSans-72\" x=\"316.255859\"/>\n    </g>\n    <!-- trouser -->\n    <g transform=\"translate(452.087009 29.7555) scale(0.12 -0.12)\">\n     <use xlink:href=\"#DejaVuSans-74\"/>\n     <use xlink:href=\"#DejaVuSans-72\" x=\"39.208984\"/>\n     <use xlink:href=\"#DejaVuSans-6f\" x=\"78.072266\"/>\n     <use xlink:href=\"#DejaVuSans-75\" x=\"139.253906\"/>\n     <use xlink:href=\"#DejaVuSans-73\" x=\"202.632812\"/>\n     <use xlink:href=\"#DejaVuSans-65\" x=\"254.732422\"/>\n     <use xlink:href=\"#DejaVuSans-72\" x=\"316.255859\"/>\n    </g>\n   </g>\n  </g>\n </g>\n <defs>\n  <clipPath id=\"p1aac44dea9\">\n   <rect x=\"7.2\" y=\"35.7555\" width=\"71.742857\" height=\"71.742857\"/>\n  </clipPath>\n  <clipPath id=\"p6cd04d3c28\">\n   <rect x=\"93.291429\" y=\"35.7555\" width=\"71.742857\" height=\"71.742857\"/>\n  </clipPath>\n  <clipPath id=\"pf90013d02a\">\n   <rect x=\"179.382857\" y=\"35.7555\" width=\"71.742857\" height=\"71.742857\"/>\n  </clipPath>\n  <clipPath id=\"pb2c7927091\">\n   <rect x=\"265.474286\" y=\"35.7555\" width=\"71.742857\" height=\"71.742857\"/>\n  </clipPath>\n  <clipPath id=\"pba366b573a\">\n   <rect x=\"351.565714\" y=\"35.7555\" width=\"71.742857\" height=\"71.742857\"/>\n  </clipPath>\n  <clipPath id=\"pbe0a1476f1\">\n   <rect x=\"437.657143\" y=\"35.7555\" width=\"71.742857\" height=\"71.742857\"/>\n  </clipPath>\n </defs>\n</svg>\n"
          },
          "metadata": {}
        }
      ]
    },
    {
      "cell_type": "code",
      "source": [
        "import torch\n",
        "from torch import nn\n",
        "from d2l import torch as d2l"
      ],
      "metadata": {
        "id": "jwQryqM1iKxx"
      },
      "execution_count": null,
      "outputs": []
    },
    {
      "cell_type": "code",
      "source": [
        "batch_size = 256\n",
        "train_iter, test_iter = d2l.load_data_fashion_mnist(batch_size)"
      ],
      "metadata": {
        "id": "nKPv6tCAiuki"
      },
      "execution_count": null,
      "outputs": []
    },
    {
      "cell_type": "code",
      "source": [
        "net = nn.Sequential(nn.Flatten(), nn.Linear(784, 10))\n",
        "\n",
        "def init_weights(m):\n",
        "  if type(m) == nn.Linear:\n",
        "    nn.init.normal_(m.weight, std = 0.01)\n",
        "\n",
        "net.apply(init_weights)"
      ],
      "metadata": {
        "colab": {
          "base_uri": "https://localhost:8080/"
        },
        "id": "EDPRRiSui4oh",
        "outputId": "e4501b0e-d45e-4ad2-ea5b-14662c8c5b80"
      },
      "execution_count": null,
      "outputs": [
        {
          "output_type": "execute_result",
          "data": {
            "text/plain": [
              "Sequential(\n",
              "  (0): Flatten(start_dim=1, end_dim=-1)\n",
              "  (1): Linear(in_features=784, out_features=10, bias=True)\n",
              ")"
            ]
          },
          "metadata": {},
          "execution_count": 39
        }
      ]
    },
    {
      "cell_type": "code",
      "source": [
        "loss = nn.CrossEntropyLoss(reduction = 'none')"
      ],
      "metadata": {
        "id": "OyhPnQL4jYQc"
      },
      "execution_count": null,
      "outputs": []
    },
    {
      "cell_type": "code",
      "source": [
        "trainer = torch.optim.SGD(net.parameters(), lr = 0.1)"
      ],
      "metadata": {
        "id": "ZNcmSoOqjil4"
      },
      "execution_count": null,
      "outputs": []
    },
    {
      "cell_type": "code",
      "source": [
        "num_epochs = 10\n",
        "d2l.train_ch3(net, train_iter, test_iter, loss, num_epochs, trainer)"
      ],
      "metadata": {
        "colab": {
          "base_uri": "https://localhost:8080/",
          "height": 200
        },
        "id": "ge2s_Tbwjoyv",
        "outputId": "bfc8341e-1475-43e6-dd67-715e768c7fa4"
      },
      "execution_count": null,
      "outputs": [
        {
          "output_type": "error",
          "ename": "AttributeError",
          "evalue": "module 'd2l.torch' has no attribute 'train_ch3'",
          "traceback": [
            "\u001b[0;31m---------------------------------------------------------------------------\u001b[0m",
            "\u001b[0;31mAttributeError\u001b[0m                            Traceback (most recent call last)",
            "\u001b[0;32m<ipython-input-42-335a12f1ccf6>\u001b[0m in \u001b[0;36m<cell line: 2>\u001b[0;34m()\u001b[0m\n\u001b[1;32m      1\u001b[0m \u001b[0mnum_epochs\u001b[0m \u001b[0;34m=\u001b[0m \u001b[0;36m10\u001b[0m\u001b[0;34m\u001b[0m\u001b[0;34m\u001b[0m\u001b[0m\n\u001b[0;32m----> 2\u001b[0;31m \u001b[0md2l\u001b[0m\u001b[0;34m.\u001b[0m\u001b[0mtrain_ch3\u001b[0m\u001b[0;34m(\u001b[0m\u001b[0mnet\u001b[0m\u001b[0;34m,\u001b[0m \u001b[0mtrain_iter\u001b[0m\u001b[0;34m,\u001b[0m \u001b[0mtest_iter\u001b[0m\u001b[0;34m,\u001b[0m \u001b[0mloss\u001b[0m\u001b[0;34m,\u001b[0m \u001b[0mnum_epochs\u001b[0m\u001b[0;34m,\u001b[0m \u001b[0mtrainer\u001b[0m\u001b[0;34m)\u001b[0m\u001b[0;34m\u001b[0m\u001b[0;34m\u001b[0m\u001b[0m\n\u001b[0m",
            "\u001b[0;31mAttributeError\u001b[0m: module 'd2l.torch' has no attribute 'train_ch3'"
          ]
        }
      ]
    },
    {
      "cell_type": "markdown",
      "source": [
        "## 세션 때 배운 코드를 복습해봐요 😀\n",
        "\n",
        "**강의자료 보지않고 빈 칸 채워보기!**"
      ],
      "metadata": {
        "id": "-ISBy2jOoEZ-"
      }
    },
    {
      "cell_type": "markdown",
      "source": [
        "# Numpy"
      ],
      "metadata": {
        "id": "z-OCeRwE501A"
      }
    },
    {
      "cell_type": "markdown",
      "source": [
        "### data generation"
      ],
      "metadata": {
        "id": "LInG3TtLpd5f"
      }
    },
    {
      "cell_type": "code",
      "execution_count": null,
      "metadata": {
        "id": "HJFKULjNo1q6"
      },
      "outputs": [],
      "source": [
        "import numpy as np\n",
        "\n",
        "true_b = 1\n",
        "true_w = 2\n",
        "\n",
        "N = 100\n",
        "\n",
        "np.random.seed(42)\n",
        "x = np.random.rand(N,1)  # Uniform\n",
        "epsilon = (0.1 * np.random.randn(N,1))  # standard normal dist  # noise\n",
        "y = true_w * x + true_b + epsilon ## 빈칸을 채워주세요. ##"
      ]
    },
    {
      "cell_type": "markdown",
      "source": [
        "### Train-Validation Split"
      ],
      "metadata": {
        "id": "xEh5L8Fwp3w7"
      }
    },
    {
      "cell_type": "code",
      "source": [
        "# Shuffles the indices\n",
        "idx = np.arange(N)\n",
        "split_index = int(N * 0.8)\n",
        "\n",
        "train_idx = idx[split_index:]## 빈칸을 채워주세요. ##]\n",
        "val_idx = idx[:split_index]## 빈칸을 채워주세요. ##]\n",
        "\n",
        "# Generates train and validation sets\n",
        "x_train, y_train = x[train_idx], y[train_idx]\n",
        "x_val, y_val = x[val_idx], y[val_idx]"
      ],
      "metadata": {
        "id": "UJHEKRqspwmj"
      },
      "execution_count": null,
      "outputs": []
    },
    {
      "cell_type": "markdown",
      "source": [
        "### Gradient Descent for Linear Regression"
      ],
      "metadata": {
        "id": "PoIr7k6ox4AG"
      }
    },
    {
      "cell_type": "code",
      "source": [
        "# 실행시간을 측정해주는 Decorator 입니다.\n",
        "\n",
        "import time\n",
        "def timer(func):\n",
        "  def wrapper(*args, **kwargs):\n",
        "    start_time = time.time()\n",
        "    result = func(*args, **kwargs)\n",
        "    end_time = time.time()\n",
        "    computation_time = end_time - start_time\n",
        "    print(f\"Execution time of {func.__name__}: {computation_time} seconds\")\n",
        "    return result\n",
        "  return wrapper"
      ],
      "metadata": {
        "id": "aCBAfjBstQuf"
      },
      "execution_count": null,
      "outputs": []
    },
    {
      "cell_type": "code",
      "source": [
        "@timer\n",
        "def train_model_numpy(lr = 0.1, epochs = 1000):\n",
        "  # Initialize parameters\n",
        "  b = np.random.randn(1)\n",
        "  w = np.random.randn(1)\n",
        "\n",
        "  for epoch in range(epochs):\n",
        "    # Loss computation\n",
        "    y_hat = b + w * x_train\n",
        "    error = (y_hat - y_train)\n",
        "    mse_loss = np.mean(error ** 2) ## 빈칸을 채워주세요. ##\n",
        "\n",
        "    # Gradient computation\n",
        "    b_grad = 2 * np.mean(error)## 빈칸을 채워주세요. ## 미분 어떻게 했었죠?ㅎㅎ\n",
        "    w_grad = 2 * np.mean(x_train * error)## 빈칸을 채워주세요. ##\n",
        "    b = b - lr * b_grad\n",
        "    w = w - lr * w_grad\n",
        "  return b, w\n"
      ],
      "metadata": {
        "id": "Xp67TxhNx3Sb"
      },
      "execution_count": null,
      "outputs": []
    },
    {
      "cell_type": "code",
      "source": [
        "b, w = train_model_numpy()\n",
        "print(\"b_estimate:{}, w_estimate:{}\".format(b,w))"
      ],
      "metadata": {
        "colab": {
          "base_uri": "https://localhost:8080/"
        },
        "id": "eHhjWAi94Qkb",
        "outputId": "57d46f59-d5f5-4a9b-a435-f79a7e7a05e0"
      },
      "execution_count": null,
      "outputs": [
        {
          "output_type": "stream",
          "name": "stdout",
          "text": [
            "Execution time of train_model_numpy: 0.035188913345336914 seconds\n",
            "b_estimate:[1.00455151], w_estimate:[2.03902139]\n"
          ]
        }
      ]
    },
    {
      "cell_type": "markdown",
      "source": [
        "# Pytorch"
      ],
      "metadata": {
        "id": "Cztmazj1534o"
      }
    },
    {
      "cell_type": "markdown",
      "source": [
        "### Data Generation"
      ],
      "metadata": {
        "id": "gBaXz1OL6LPP"
      }
    },
    {
      "cell_type": "code",
      "source": [
        "import torch\n",
        "\n",
        "# create tensor at CPU:\n",
        "x_train_tensor = torch.as_tensor(x_train)\n",
        "y_train_tensor = torch.as_tensor(y_train)\n",
        "\n",
        "# create tensor ar GPU:\n",
        "## 빈칸을 채워주세요. ##  # GPU가 현재 연결이 되어있다면 cuda를 콜하겠다. 아니면 cpu 쓰겠다! 하는 코드\n",
        "device = 'cuda' if torch.cuda.is_available() else 'cpu'\n",
        "x_train_tensor = torch.as_tensor(x_train).to(device)\n",
        "y_train_tensor = torch.as_tensor(y_train).to(device)\n"
      ],
      "metadata": {
        "id": "rtyfd4_95zzv"
      },
      "execution_count": null,
      "outputs": []
    },
    {
      "cell_type": "markdown",
      "source": [
        "### Gradient Descent"
      ],
      "metadata": {
        "id": "AO0Yof1p8FUW"
      }
    },
    {
      "cell_type": "code",
      "source": [
        "@timer\n",
        "def train_model_torch(lr = 0.1, epochs=1000):\n",
        "  # Initialize parameters\n",
        "  b = torch.randn(1, requires_grad = True, dtype = torch.float, device = device)## 빈칸을 채워주세요. ##)\n",
        "  w = torch.randn(1, requires_grad = True, dtype = torch.float, device = device)\n",
        "\n",
        "  for epoch in range(epochs):\n",
        "    # Loss computation\n",
        "    y_hat = b + w * x_train_tensor\n",
        "    error = (y_hat - y_train_tensor)\n",
        "    mse_loss = torch.mean(error ** 2)## 빈칸을 채워주세요. ##\n",
        "    # Gradient computation and descent\n",
        "    mse_loss.backward()\n",
        "    with torch.no_grad(): ## # 경사 하강법 할 땐 auto grad 끄고 하는 게 좋죠!\n",
        "      b -= lr * b.grad ## 빈칸을 채워주세요. ##  # in-place operation 써줘야합니다!\n",
        "      w -= lr * w.grad## 빈칸을 채워주세요. ##\n",
        "    b.grad.zero_()## 빈칸을 채워주세요. ## # gradient 초기화 시켜줘야해요. 안 하면 누적합으로 계산하기 때문에!\n",
        "    w.grad.zero_()## 빈칸을 채워주세요. ##\n",
        "  return b, w"
      ],
      "metadata": {
        "id": "rX-WAf4b7ljU"
      },
      "execution_count": null,
      "outputs": []
    },
    {
      "cell_type": "code",
      "source": [
        "b, w = train_model_torch()\n",
        "print(\"b_estimate:{}, w_estimate:{}\".format(b,w))"
      ],
      "metadata": {
        "colab": {
          "base_uri": "https://localhost:8080/"
        },
        "id": "7JfprsWdBAFg",
        "outputId": "416472fb-a137-4423-fd5f-7f66d0d1e97b"
      },
      "execution_count": null,
      "outputs": [
        {
          "output_type": "stream",
          "name": "stdout",
          "text": [
            "Execution time of train_model_torch: 0.24092960357666016 seconds\n",
            "b_estimate:tensor([1.0046], requires_grad=True), w_estimate:tensor([2.0390], requires_grad=True)\n"
          ]
        }
      ]
    },
    {
      "cell_type": "markdown",
      "source": [
        "**optimizer 를 사용해서 gradient descent 를 하는 방법도 있어요!**"
      ],
      "metadata": {
        "id": "Ju4y0iMOraU6"
      }
    },
    {
      "cell_type": "code",
      "source": [
        "import torch.optim as optim\n",
        "import torch.nn as nn\n",
        "\n",
        "@timer\n",
        "def train_model_torch(lr = 0.1, epochs=1000):\n",
        "  # Initialize parameters\n",
        "  b = torch.randn(1, requires_grad = True, dtype = torch.float, device = device)\n",
        "  w = torch.randn(1, requires_grad = True, dtype = torch.float, device = device)\n",
        "  parameters = [b, w]\n",
        "  optimizer = optim.SGD(parameters, lr = lr)\n",
        "  mse_loss = nn.MSELoss()\n",
        "\n",
        "  for epoch in range(epochs):\n",
        "    # Loss computation\n",
        "    y_hat = b + w * x_train_tensor\n",
        "    loss = mse_loss(y_hat, y_train_tensor)\n",
        "    # Gradient computation and descent\n",
        "    loss.backward()\n",
        "    optimizer.step() # 경사하강법 연산, step 한 번을 밟는다!\n",
        "    optimizer.zero_grad()\n",
        "  return b, w"
      ],
      "metadata": {
        "id": "dslxhYqC_-f4"
      },
      "execution_count": null,
      "outputs": []
    },
    {
      "cell_type": "code",
      "source": [
        "b, w = train_model_torch()\n",
        "print(\"b_estimate:{}, w_estimate:{}\".format(b,w))"
      ],
      "metadata": {
        "colab": {
          "base_uri": "https://localhost:8080/"
        },
        "id": "7Z8B2wvuFgq2",
        "outputId": "74c8e548-da08-4f5d-97ef-c798a8dbf33d"
      },
      "execution_count": null,
      "outputs": [
        {
          "output_type": "stream",
          "name": "stdout",
          "text": [
            "Execution time of train_model_torch: 0.3850131034851074 seconds\n",
            "b_estimate:tensor([1.0046], requires_grad=True), w_estimate:tensor([2.0390], requires_grad=True)\n"
          ]
        }
      ]
    }
  ]
}