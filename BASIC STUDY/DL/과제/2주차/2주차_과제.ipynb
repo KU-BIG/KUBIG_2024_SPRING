{
  "nbformat": 4,
  "nbformat_minor": 0,
  "metadata": {
    "colab": {
      "provenance": []
    },
    "kernelspec": {
      "name": "python3",
      "display_name": "Python 3"
    },
    "language_info": {
      "name": "python"
    },
    "widgets": {
      "application/vnd.jupyter.widget-state+json": {
        "f2085a4b4390419f864d503a6b0a1d34": {
          "model_module": "@jupyter-widgets/controls",
          "model_name": "HBoxModel",
          "model_module_version": "1.5.0",
          "state": {
            "_dom_classes": [],
            "_model_module": "@jupyter-widgets/controls",
            "_model_module_version": "1.5.0",
            "_model_name": "HBoxModel",
            "_view_count": null,
            "_view_module": "@jupyter-widgets/controls",
            "_view_module_version": "1.5.0",
            "_view_name": "HBoxView",
            "box_style": "",
            "children": [
              "IPY_MODEL_83481902669f411899abbcca7419ac11",
              "IPY_MODEL_64e96e5ac68a44978177bddffd9dbbe3",
              "IPY_MODEL_1fe1bea694f04f7eb098b082ac7db44c"
            ],
            "layout": "IPY_MODEL_c7ffd3f3dcdf47ae99510d84387584b2"
          }
        },
        "83481902669f411899abbcca7419ac11": {
          "model_module": "@jupyter-widgets/controls",
          "model_name": "HTMLModel",
          "model_module_version": "1.5.0",
          "state": {
            "_dom_classes": [],
            "_model_module": "@jupyter-widgets/controls",
            "_model_module_version": "1.5.0",
            "_model_name": "HTMLModel",
            "_view_count": null,
            "_view_module": "@jupyter-widgets/controls",
            "_view_module_version": "1.5.0",
            "_view_name": "HTMLView",
            "description": "",
            "description_tooltip": null,
            "layout": "IPY_MODEL_b621110e5f7647f984b3f83976ff3855",
            "placeholder": "​",
            "style": "IPY_MODEL_05d449267a8e41fc932c7a0d679dfbac",
            "value": "100%"
          }
        },
        "64e96e5ac68a44978177bddffd9dbbe3": {
          "model_module": "@jupyter-widgets/controls",
          "model_name": "FloatProgressModel",
          "model_module_version": "1.5.0",
          "state": {
            "_dom_classes": [],
            "_model_module": "@jupyter-widgets/controls",
            "_model_module_version": "1.5.0",
            "_model_name": "FloatProgressModel",
            "_view_count": null,
            "_view_module": "@jupyter-widgets/controls",
            "_view_module_version": "1.5.0",
            "_view_name": "ProgressView",
            "bar_style": "success",
            "description": "",
            "description_tooltip": null,
            "layout": "IPY_MODEL_5efd602e44264f39926c449ddaec0db5",
            "max": 26421880,
            "min": 0,
            "orientation": "horizontal",
            "style": "IPY_MODEL_14faa392024249c48de703d1d9ea5683",
            "value": 26421880
          }
        },
        "1fe1bea694f04f7eb098b082ac7db44c": {
          "model_module": "@jupyter-widgets/controls",
          "model_name": "HTMLModel",
          "model_module_version": "1.5.0",
          "state": {
            "_dom_classes": [],
            "_model_module": "@jupyter-widgets/controls",
            "_model_module_version": "1.5.0",
            "_model_name": "HTMLModel",
            "_view_count": null,
            "_view_module": "@jupyter-widgets/controls",
            "_view_module_version": "1.5.0",
            "_view_name": "HTMLView",
            "description": "",
            "description_tooltip": null,
            "layout": "IPY_MODEL_7a2a869ad9d64a2197b6187f26fefdfb",
            "placeholder": "​",
            "style": "IPY_MODEL_09818dd755d641bebe820df0c89e061e",
            "value": " 26421880/26421880 [00:01&lt;00:00, 26099792.73it/s]"
          }
        },
        "c7ffd3f3dcdf47ae99510d84387584b2": {
          "model_module": "@jupyter-widgets/base",
          "model_name": "LayoutModel",
          "model_module_version": "1.2.0",
          "state": {
            "_model_module": "@jupyter-widgets/base",
            "_model_module_version": "1.2.0",
            "_model_name": "LayoutModel",
            "_view_count": null,
            "_view_module": "@jupyter-widgets/base",
            "_view_module_version": "1.2.0",
            "_view_name": "LayoutView",
            "align_content": null,
            "align_items": null,
            "align_self": null,
            "border": null,
            "bottom": null,
            "display": null,
            "flex": null,
            "flex_flow": null,
            "grid_area": null,
            "grid_auto_columns": null,
            "grid_auto_flow": null,
            "grid_auto_rows": null,
            "grid_column": null,
            "grid_gap": null,
            "grid_row": null,
            "grid_template_areas": null,
            "grid_template_columns": null,
            "grid_template_rows": null,
            "height": null,
            "justify_content": null,
            "justify_items": null,
            "left": null,
            "margin": null,
            "max_height": null,
            "max_width": null,
            "min_height": null,
            "min_width": null,
            "object_fit": null,
            "object_position": null,
            "order": null,
            "overflow": null,
            "overflow_x": null,
            "overflow_y": null,
            "padding": null,
            "right": null,
            "top": null,
            "visibility": null,
            "width": null
          }
        },
        "b621110e5f7647f984b3f83976ff3855": {
          "model_module": "@jupyter-widgets/base",
          "model_name": "LayoutModel",
          "model_module_version": "1.2.0",
          "state": {
            "_model_module": "@jupyter-widgets/base",
            "_model_module_version": "1.2.0",
            "_model_name": "LayoutModel",
            "_view_count": null,
            "_view_module": "@jupyter-widgets/base",
            "_view_module_version": "1.2.0",
            "_view_name": "LayoutView",
            "align_content": null,
            "align_items": null,
            "align_self": null,
            "border": null,
            "bottom": null,
            "display": null,
            "flex": null,
            "flex_flow": null,
            "grid_area": null,
            "grid_auto_columns": null,
            "grid_auto_flow": null,
            "grid_auto_rows": null,
            "grid_column": null,
            "grid_gap": null,
            "grid_row": null,
            "grid_template_areas": null,
            "grid_template_columns": null,
            "grid_template_rows": null,
            "height": null,
            "justify_content": null,
            "justify_items": null,
            "left": null,
            "margin": null,
            "max_height": null,
            "max_width": null,
            "min_height": null,
            "min_width": null,
            "object_fit": null,
            "object_position": null,
            "order": null,
            "overflow": null,
            "overflow_x": null,
            "overflow_y": null,
            "padding": null,
            "right": null,
            "top": null,
            "visibility": null,
            "width": null
          }
        },
        "05d449267a8e41fc932c7a0d679dfbac": {
          "model_module": "@jupyter-widgets/controls",
          "model_name": "DescriptionStyleModel",
          "model_module_version": "1.5.0",
          "state": {
            "_model_module": "@jupyter-widgets/controls",
            "_model_module_version": "1.5.0",
            "_model_name": "DescriptionStyleModel",
            "_view_count": null,
            "_view_module": "@jupyter-widgets/base",
            "_view_module_version": "1.2.0",
            "_view_name": "StyleView",
            "description_width": ""
          }
        },
        "5efd602e44264f39926c449ddaec0db5": {
          "model_module": "@jupyter-widgets/base",
          "model_name": "LayoutModel",
          "model_module_version": "1.2.0",
          "state": {
            "_model_module": "@jupyter-widgets/base",
            "_model_module_version": "1.2.0",
            "_model_name": "LayoutModel",
            "_view_count": null,
            "_view_module": "@jupyter-widgets/base",
            "_view_module_version": "1.2.0",
            "_view_name": "LayoutView",
            "align_content": null,
            "align_items": null,
            "align_self": null,
            "border": null,
            "bottom": null,
            "display": null,
            "flex": null,
            "flex_flow": null,
            "grid_area": null,
            "grid_auto_columns": null,
            "grid_auto_flow": null,
            "grid_auto_rows": null,
            "grid_column": null,
            "grid_gap": null,
            "grid_row": null,
            "grid_template_areas": null,
            "grid_template_columns": null,
            "grid_template_rows": null,
            "height": null,
            "justify_content": null,
            "justify_items": null,
            "left": null,
            "margin": null,
            "max_height": null,
            "max_width": null,
            "min_height": null,
            "min_width": null,
            "object_fit": null,
            "object_position": null,
            "order": null,
            "overflow": null,
            "overflow_x": null,
            "overflow_y": null,
            "padding": null,
            "right": null,
            "top": null,
            "visibility": null,
            "width": null
          }
        },
        "14faa392024249c48de703d1d9ea5683": {
          "model_module": "@jupyter-widgets/controls",
          "model_name": "ProgressStyleModel",
          "model_module_version": "1.5.0",
          "state": {
            "_model_module": "@jupyter-widgets/controls",
            "_model_module_version": "1.5.0",
            "_model_name": "ProgressStyleModel",
            "_view_count": null,
            "_view_module": "@jupyter-widgets/base",
            "_view_module_version": "1.2.0",
            "_view_name": "StyleView",
            "bar_color": null,
            "description_width": ""
          }
        },
        "7a2a869ad9d64a2197b6187f26fefdfb": {
          "model_module": "@jupyter-widgets/base",
          "model_name": "LayoutModel",
          "model_module_version": "1.2.0",
          "state": {
            "_model_module": "@jupyter-widgets/base",
            "_model_module_version": "1.2.0",
            "_model_name": "LayoutModel",
            "_view_count": null,
            "_view_module": "@jupyter-widgets/base",
            "_view_module_version": "1.2.0",
            "_view_name": "LayoutView",
            "align_content": null,
            "align_items": null,
            "align_self": null,
            "border": null,
            "bottom": null,
            "display": null,
            "flex": null,
            "flex_flow": null,
            "grid_area": null,
            "grid_auto_columns": null,
            "grid_auto_flow": null,
            "grid_auto_rows": null,
            "grid_column": null,
            "grid_gap": null,
            "grid_row": null,
            "grid_template_areas": null,
            "grid_template_columns": null,
            "grid_template_rows": null,
            "height": null,
            "justify_content": null,
            "justify_items": null,
            "left": null,
            "margin": null,
            "max_height": null,
            "max_width": null,
            "min_height": null,
            "min_width": null,
            "object_fit": null,
            "object_position": null,
            "order": null,
            "overflow": null,
            "overflow_x": null,
            "overflow_y": null,
            "padding": null,
            "right": null,
            "top": null,
            "visibility": null,
            "width": null
          }
        },
        "09818dd755d641bebe820df0c89e061e": {
          "model_module": "@jupyter-widgets/controls",
          "model_name": "DescriptionStyleModel",
          "model_module_version": "1.5.0",
          "state": {
            "_model_module": "@jupyter-widgets/controls",
            "_model_module_version": "1.5.0",
            "_model_name": "DescriptionStyleModel",
            "_view_count": null,
            "_view_module": "@jupyter-widgets/base",
            "_view_module_version": "1.2.0",
            "_view_name": "StyleView",
            "description_width": ""
          }
        },
        "bfff6c039a1e4b3db21454ffc2e3e61f": {
          "model_module": "@jupyter-widgets/controls",
          "model_name": "HBoxModel",
          "model_module_version": "1.5.0",
          "state": {
            "_dom_classes": [],
            "_model_module": "@jupyter-widgets/controls",
            "_model_module_version": "1.5.0",
            "_model_name": "HBoxModel",
            "_view_count": null,
            "_view_module": "@jupyter-widgets/controls",
            "_view_module_version": "1.5.0",
            "_view_name": "HBoxView",
            "box_style": "",
            "children": [
              "IPY_MODEL_dd1f7b5b216a4617b6e1acc6bebe88b4",
              "IPY_MODEL_77747687baf541a0b68b4402c4edb18f",
              "IPY_MODEL_cf8b679334e94c96b7dd47c7c1f29a96"
            ],
            "layout": "IPY_MODEL_70c48e35d6fa4e64865f1362ee8402ee"
          }
        },
        "dd1f7b5b216a4617b6e1acc6bebe88b4": {
          "model_module": "@jupyter-widgets/controls",
          "model_name": "HTMLModel",
          "model_module_version": "1.5.0",
          "state": {
            "_dom_classes": [],
            "_model_module": "@jupyter-widgets/controls",
            "_model_module_version": "1.5.0",
            "_model_name": "HTMLModel",
            "_view_count": null,
            "_view_module": "@jupyter-widgets/controls",
            "_view_module_version": "1.5.0",
            "_view_name": "HTMLView",
            "description": "",
            "description_tooltip": null,
            "layout": "IPY_MODEL_c40fb057632649fdb53ab521cd9c467b",
            "placeholder": "​",
            "style": "IPY_MODEL_4c53c31744de4043bd144e9945d9d8d1",
            "value": "100%"
          }
        },
        "77747687baf541a0b68b4402c4edb18f": {
          "model_module": "@jupyter-widgets/controls",
          "model_name": "FloatProgressModel",
          "model_module_version": "1.5.0",
          "state": {
            "_dom_classes": [],
            "_model_module": "@jupyter-widgets/controls",
            "_model_module_version": "1.5.0",
            "_model_name": "FloatProgressModel",
            "_view_count": null,
            "_view_module": "@jupyter-widgets/controls",
            "_view_module_version": "1.5.0",
            "_view_name": "ProgressView",
            "bar_style": "success",
            "description": "",
            "description_tooltip": null,
            "layout": "IPY_MODEL_8d67a026766d40de96332318b6c1d543",
            "max": 29515,
            "min": 0,
            "orientation": "horizontal",
            "style": "IPY_MODEL_39af13c3ae9447b2ac296b593e47cab8",
            "value": 29515
          }
        },
        "cf8b679334e94c96b7dd47c7c1f29a96": {
          "model_module": "@jupyter-widgets/controls",
          "model_name": "HTMLModel",
          "model_module_version": "1.5.0",
          "state": {
            "_dom_classes": [],
            "_model_module": "@jupyter-widgets/controls",
            "_model_module_version": "1.5.0",
            "_model_name": "HTMLModel",
            "_view_count": null,
            "_view_module": "@jupyter-widgets/controls",
            "_view_module_version": "1.5.0",
            "_view_name": "HTMLView",
            "description": "",
            "description_tooltip": null,
            "layout": "IPY_MODEL_4eeca8dd044a4ef18bc50d41fdf60570",
            "placeholder": "​",
            "style": "IPY_MODEL_8b88ae0605984f97a7ae093af1498424",
            "value": " 29515/29515 [00:00&lt;00:00, 283875.27it/s]"
          }
        },
        "70c48e35d6fa4e64865f1362ee8402ee": {
          "model_module": "@jupyter-widgets/base",
          "model_name": "LayoutModel",
          "model_module_version": "1.2.0",
          "state": {
            "_model_module": "@jupyter-widgets/base",
            "_model_module_version": "1.2.0",
            "_model_name": "LayoutModel",
            "_view_count": null,
            "_view_module": "@jupyter-widgets/base",
            "_view_module_version": "1.2.0",
            "_view_name": "LayoutView",
            "align_content": null,
            "align_items": null,
            "align_self": null,
            "border": null,
            "bottom": null,
            "display": null,
            "flex": null,
            "flex_flow": null,
            "grid_area": null,
            "grid_auto_columns": null,
            "grid_auto_flow": null,
            "grid_auto_rows": null,
            "grid_column": null,
            "grid_gap": null,
            "grid_row": null,
            "grid_template_areas": null,
            "grid_template_columns": null,
            "grid_template_rows": null,
            "height": null,
            "justify_content": null,
            "justify_items": null,
            "left": null,
            "margin": null,
            "max_height": null,
            "max_width": null,
            "min_height": null,
            "min_width": null,
            "object_fit": null,
            "object_position": null,
            "order": null,
            "overflow": null,
            "overflow_x": null,
            "overflow_y": null,
            "padding": null,
            "right": null,
            "top": null,
            "visibility": null,
            "width": null
          }
        },
        "c40fb057632649fdb53ab521cd9c467b": {
          "model_module": "@jupyter-widgets/base",
          "model_name": "LayoutModel",
          "model_module_version": "1.2.0",
          "state": {
            "_model_module": "@jupyter-widgets/base",
            "_model_module_version": "1.2.0",
            "_model_name": "LayoutModel",
            "_view_count": null,
            "_view_module": "@jupyter-widgets/base",
            "_view_module_version": "1.2.0",
            "_view_name": "LayoutView",
            "align_content": null,
            "align_items": null,
            "align_self": null,
            "border": null,
            "bottom": null,
            "display": null,
            "flex": null,
            "flex_flow": null,
            "grid_area": null,
            "grid_auto_columns": null,
            "grid_auto_flow": null,
            "grid_auto_rows": null,
            "grid_column": null,
            "grid_gap": null,
            "grid_row": null,
            "grid_template_areas": null,
            "grid_template_columns": null,
            "grid_template_rows": null,
            "height": null,
            "justify_content": null,
            "justify_items": null,
            "left": null,
            "margin": null,
            "max_height": null,
            "max_width": null,
            "min_height": null,
            "min_width": null,
            "object_fit": null,
            "object_position": null,
            "order": null,
            "overflow": null,
            "overflow_x": null,
            "overflow_y": null,
            "padding": null,
            "right": null,
            "top": null,
            "visibility": null,
            "width": null
          }
        },
        "4c53c31744de4043bd144e9945d9d8d1": {
          "model_module": "@jupyter-widgets/controls",
          "model_name": "DescriptionStyleModel",
          "model_module_version": "1.5.0",
          "state": {
            "_model_module": "@jupyter-widgets/controls",
            "_model_module_version": "1.5.0",
            "_model_name": "DescriptionStyleModel",
            "_view_count": null,
            "_view_module": "@jupyter-widgets/base",
            "_view_module_version": "1.2.0",
            "_view_name": "StyleView",
            "description_width": ""
          }
        },
        "8d67a026766d40de96332318b6c1d543": {
          "model_module": "@jupyter-widgets/base",
          "model_name": "LayoutModel",
          "model_module_version": "1.2.0",
          "state": {
            "_model_module": "@jupyter-widgets/base",
            "_model_module_version": "1.2.0",
            "_model_name": "LayoutModel",
            "_view_count": null,
            "_view_module": "@jupyter-widgets/base",
            "_view_module_version": "1.2.0",
            "_view_name": "LayoutView",
            "align_content": null,
            "align_items": null,
            "align_self": null,
            "border": null,
            "bottom": null,
            "display": null,
            "flex": null,
            "flex_flow": null,
            "grid_area": null,
            "grid_auto_columns": null,
            "grid_auto_flow": null,
            "grid_auto_rows": null,
            "grid_column": null,
            "grid_gap": null,
            "grid_row": null,
            "grid_template_areas": null,
            "grid_template_columns": null,
            "grid_template_rows": null,
            "height": null,
            "justify_content": null,
            "justify_items": null,
            "left": null,
            "margin": null,
            "max_height": null,
            "max_width": null,
            "min_height": null,
            "min_width": null,
            "object_fit": null,
            "object_position": null,
            "order": null,
            "overflow": null,
            "overflow_x": null,
            "overflow_y": null,
            "padding": null,
            "right": null,
            "top": null,
            "visibility": null,
            "width": null
          }
        },
        "39af13c3ae9447b2ac296b593e47cab8": {
          "model_module": "@jupyter-widgets/controls",
          "model_name": "ProgressStyleModel",
          "model_module_version": "1.5.0",
          "state": {
            "_model_module": "@jupyter-widgets/controls",
            "_model_module_version": "1.5.0",
            "_model_name": "ProgressStyleModel",
            "_view_count": null,
            "_view_module": "@jupyter-widgets/base",
            "_view_module_version": "1.2.0",
            "_view_name": "StyleView",
            "bar_color": null,
            "description_width": ""
          }
        },
        "4eeca8dd044a4ef18bc50d41fdf60570": {
          "model_module": "@jupyter-widgets/base",
          "model_name": "LayoutModel",
          "model_module_version": "1.2.0",
          "state": {
            "_model_module": "@jupyter-widgets/base",
            "_model_module_version": "1.2.0",
            "_model_name": "LayoutModel",
            "_view_count": null,
            "_view_module": "@jupyter-widgets/base",
            "_view_module_version": "1.2.0",
            "_view_name": "LayoutView",
            "align_content": null,
            "align_items": null,
            "align_self": null,
            "border": null,
            "bottom": null,
            "display": null,
            "flex": null,
            "flex_flow": null,
            "grid_area": null,
            "grid_auto_columns": null,
            "grid_auto_flow": null,
            "grid_auto_rows": null,
            "grid_column": null,
            "grid_gap": null,
            "grid_row": null,
            "grid_template_areas": null,
            "grid_template_columns": null,
            "grid_template_rows": null,
            "height": null,
            "justify_content": null,
            "justify_items": null,
            "left": null,
            "margin": null,
            "max_height": null,
            "max_width": null,
            "min_height": null,
            "min_width": null,
            "object_fit": null,
            "object_position": null,
            "order": null,
            "overflow": null,
            "overflow_x": null,
            "overflow_y": null,
            "padding": null,
            "right": null,
            "top": null,
            "visibility": null,
            "width": null
          }
        },
        "8b88ae0605984f97a7ae093af1498424": {
          "model_module": "@jupyter-widgets/controls",
          "model_name": "DescriptionStyleModel",
          "model_module_version": "1.5.0",
          "state": {
            "_model_module": "@jupyter-widgets/controls",
            "_model_module_version": "1.5.0",
            "_model_name": "DescriptionStyleModel",
            "_view_count": null,
            "_view_module": "@jupyter-widgets/base",
            "_view_module_version": "1.2.0",
            "_view_name": "StyleView",
            "description_width": ""
          }
        },
        "e28ee90dc0cc463c801ab57cf3533d27": {
          "model_module": "@jupyter-widgets/controls",
          "model_name": "HBoxModel",
          "model_module_version": "1.5.0",
          "state": {
            "_dom_classes": [],
            "_model_module": "@jupyter-widgets/controls",
            "_model_module_version": "1.5.0",
            "_model_name": "HBoxModel",
            "_view_count": null,
            "_view_module": "@jupyter-widgets/controls",
            "_view_module_version": "1.5.0",
            "_view_name": "HBoxView",
            "box_style": "",
            "children": [
              "IPY_MODEL_4c44e5017b4b4f5a864501c6ea4fc6b2",
              "IPY_MODEL_10138ab0dcc249e080a105f95e8a09c4",
              "IPY_MODEL_99ee76581e674e0ea27594c12b7af843"
            ],
            "layout": "IPY_MODEL_617a611d5d2f4df2ae18a9bf8fbe2e4d"
          }
        },
        "4c44e5017b4b4f5a864501c6ea4fc6b2": {
          "model_module": "@jupyter-widgets/controls",
          "model_name": "HTMLModel",
          "model_module_version": "1.5.0",
          "state": {
            "_dom_classes": [],
            "_model_module": "@jupyter-widgets/controls",
            "_model_module_version": "1.5.0",
            "_model_name": "HTMLModel",
            "_view_count": null,
            "_view_module": "@jupyter-widgets/controls",
            "_view_module_version": "1.5.0",
            "_view_name": "HTMLView",
            "description": "",
            "description_tooltip": null,
            "layout": "IPY_MODEL_1e9dda5bfc5f4c13b731d8fe09f78ce5",
            "placeholder": "​",
            "style": "IPY_MODEL_53ab9ef92f08494d9f195be0012d3b94",
            "value": "100%"
          }
        },
        "10138ab0dcc249e080a105f95e8a09c4": {
          "model_module": "@jupyter-widgets/controls",
          "model_name": "FloatProgressModel",
          "model_module_version": "1.5.0",
          "state": {
            "_dom_classes": [],
            "_model_module": "@jupyter-widgets/controls",
            "_model_module_version": "1.5.0",
            "_model_name": "FloatProgressModel",
            "_view_count": null,
            "_view_module": "@jupyter-widgets/controls",
            "_view_module_version": "1.5.0",
            "_view_name": "ProgressView",
            "bar_style": "success",
            "description": "",
            "description_tooltip": null,
            "layout": "IPY_MODEL_6a3aab710f9248fd871b0a444129f654",
            "max": 4422102,
            "min": 0,
            "orientation": "horizontal",
            "style": "IPY_MODEL_7c4fbacb3932459d88ccbf0cd224b7ed",
            "value": 4422102
          }
        },
        "99ee76581e674e0ea27594c12b7af843": {
          "model_module": "@jupyter-widgets/controls",
          "model_name": "HTMLModel",
          "model_module_version": "1.5.0",
          "state": {
            "_dom_classes": [],
            "_model_module": "@jupyter-widgets/controls",
            "_model_module_version": "1.5.0",
            "_model_name": "HTMLModel",
            "_view_count": null,
            "_view_module": "@jupyter-widgets/controls",
            "_view_module_version": "1.5.0",
            "_view_name": "HTMLView",
            "description": "",
            "description_tooltip": null,
            "layout": "IPY_MODEL_2969695ae5c34df7bdff597e0afd1cdc",
            "placeholder": "​",
            "style": "IPY_MODEL_78922f851b564c82a0526d8e3311ee01",
            "value": " 4422102/4422102 [00:00&lt;00:00, 6241822.25it/s]"
          }
        },
        "617a611d5d2f4df2ae18a9bf8fbe2e4d": {
          "model_module": "@jupyter-widgets/base",
          "model_name": "LayoutModel",
          "model_module_version": "1.2.0",
          "state": {
            "_model_module": "@jupyter-widgets/base",
            "_model_module_version": "1.2.0",
            "_model_name": "LayoutModel",
            "_view_count": null,
            "_view_module": "@jupyter-widgets/base",
            "_view_module_version": "1.2.0",
            "_view_name": "LayoutView",
            "align_content": null,
            "align_items": null,
            "align_self": null,
            "border": null,
            "bottom": null,
            "display": null,
            "flex": null,
            "flex_flow": null,
            "grid_area": null,
            "grid_auto_columns": null,
            "grid_auto_flow": null,
            "grid_auto_rows": null,
            "grid_column": null,
            "grid_gap": null,
            "grid_row": null,
            "grid_template_areas": null,
            "grid_template_columns": null,
            "grid_template_rows": null,
            "height": null,
            "justify_content": null,
            "justify_items": null,
            "left": null,
            "margin": null,
            "max_height": null,
            "max_width": null,
            "min_height": null,
            "min_width": null,
            "object_fit": null,
            "object_position": null,
            "order": null,
            "overflow": null,
            "overflow_x": null,
            "overflow_y": null,
            "padding": null,
            "right": null,
            "top": null,
            "visibility": null,
            "width": null
          }
        },
        "1e9dda5bfc5f4c13b731d8fe09f78ce5": {
          "model_module": "@jupyter-widgets/base",
          "model_name": "LayoutModel",
          "model_module_version": "1.2.0",
          "state": {
            "_model_module": "@jupyter-widgets/base",
            "_model_module_version": "1.2.0",
            "_model_name": "LayoutModel",
            "_view_count": null,
            "_view_module": "@jupyter-widgets/base",
            "_view_module_version": "1.2.0",
            "_view_name": "LayoutView",
            "align_content": null,
            "align_items": null,
            "align_self": null,
            "border": null,
            "bottom": null,
            "display": null,
            "flex": null,
            "flex_flow": null,
            "grid_area": null,
            "grid_auto_columns": null,
            "grid_auto_flow": null,
            "grid_auto_rows": null,
            "grid_column": null,
            "grid_gap": null,
            "grid_row": null,
            "grid_template_areas": null,
            "grid_template_columns": null,
            "grid_template_rows": null,
            "height": null,
            "justify_content": null,
            "justify_items": null,
            "left": null,
            "margin": null,
            "max_height": null,
            "max_width": null,
            "min_height": null,
            "min_width": null,
            "object_fit": null,
            "object_position": null,
            "order": null,
            "overflow": null,
            "overflow_x": null,
            "overflow_y": null,
            "padding": null,
            "right": null,
            "top": null,
            "visibility": null,
            "width": null
          }
        },
        "53ab9ef92f08494d9f195be0012d3b94": {
          "model_module": "@jupyter-widgets/controls",
          "model_name": "DescriptionStyleModel",
          "model_module_version": "1.5.0",
          "state": {
            "_model_module": "@jupyter-widgets/controls",
            "_model_module_version": "1.5.0",
            "_model_name": "DescriptionStyleModel",
            "_view_count": null,
            "_view_module": "@jupyter-widgets/base",
            "_view_module_version": "1.2.0",
            "_view_name": "StyleView",
            "description_width": ""
          }
        },
        "6a3aab710f9248fd871b0a444129f654": {
          "model_module": "@jupyter-widgets/base",
          "model_name": "LayoutModel",
          "model_module_version": "1.2.0",
          "state": {
            "_model_module": "@jupyter-widgets/base",
            "_model_module_version": "1.2.0",
            "_model_name": "LayoutModel",
            "_view_count": null,
            "_view_module": "@jupyter-widgets/base",
            "_view_module_version": "1.2.0",
            "_view_name": "LayoutView",
            "align_content": null,
            "align_items": null,
            "align_self": null,
            "border": null,
            "bottom": null,
            "display": null,
            "flex": null,
            "flex_flow": null,
            "grid_area": null,
            "grid_auto_columns": null,
            "grid_auto_flow": null,
            "grid_auto_rows": null,
            "grid_column": null,
            "grid_gap": null,
            "grid_row": null,
            "grid_template_areas": null,
            "grid_template_columns": null,
            "grid_template_rows": null,
            "height": null,
            "justify_content": null,
            "justify_items": null,
            "left": null,
            "margin": null,
            "max_height": null,
            "max_width": null,
            "min_height": null,
            "min_width": null,
            "object_fit": null,
            "object_position": null,
            "order": null,
            "overflow": null,
            "overflow_x": null,
            "overflow_y": null,
            "padding": null,
            "right": null,
            "top": null,
            "visibility": null,
            "width": null
          }
        },
        "7c4fbacb3932459d88ccbf0cd224b7ed": {
          "model_module": "@jupyter-widgets/controls",
          "model_name": "ProgressStyleModel",
          "model_module_version": "1.5.0",
          "state": {
            "_model_module": "@jupyter-widgets/controls",
            "_model_module_version": "1.5.0",
            "_model_name": "ProgressStyleModel",
            "_view_count": null,
            "_view_module": "@jupyter-widgets/base",
            "_view_module_version": "1.2.0",
            "_view_name": "StyleView",
            "bar_color": null,
            "description_width": ""
          }
        },
        "2969695ae5c34df7bdff597e0afd1cdc": {
          "model_module": "@jupyter-widgets/base",
          "model_name": "LayoutModel",
          "model_module_version": "1.2.0",
          "state": {
            "_model_module": "@jupyter-widgets/base",
            "_model_module_version": "1.2.0",
            "_model_name": "LayoutModel",
            "_view_count": null,
            "_view_module": "@jupyter-widgets/base",
            "_view_module_version": "1.2.0",
            "_view_name": "LayoutView",
            "align_content": null,
            "align_items": null,
            "align_self": null,
            "border": null,
            "bottom": null,
            "display": null,
            "flex": null,
            "flex_flow": null,
            "grid_area": null,
            "grid_auto_columns": null,
            "grid_auto_flow": null,
            "grid_auto_rows": null,
            "grid_column": null,
            "grid_gap": null,
            "grid_row": null,
            "grid_template_areas": null,
            "grid_template_columns": null,
            "grid_template_rows": null,
            "height": null,
            "justify_content": null,
            "justify_items": null,
            "left": null,
            "margin": null,
            "max_height": null,
            "max_width": null,
            "min_height": null,
            "min_width": null,
            "object_fit": null,
            "object_position": null,
            "order": null,
            "overflow": null,
            "overflow_x": null,
            "overflow_y": null,
            "padding": null,
            "right": null,
            "top": null,
            "visibility": null,
            "width": null
          }
        },
        "78922f851b564c82a0526d8e3311ee01": {
          "model_module": "@jupyter-widgets/controls",
          "model_name": "DescriptionStyleModel",
          "model_module_version": "1.5.0",
          "state": {
            "_model_module": "@jupyter-widgets/controls",
            "_model_module_version": "1.5.0",
            "_model_name": "DescriptionStyleModel",
            "_view_count": null,
            "_view_module": "@jupyter-widgets/base",
            "_view_module_version": "1.2.0",
            "_view_name": "StyleView",
            "description_width": ""
          }
        },
        "2bf171ffa0454e598a242daf2c401660": {
          "model_module": "@jupyter-widgets/controls",
          "model_name": "HBoxModel",
          "model_module_version": "1.5.0",
          "state": {
            "_dom_classes": [],
            "_model_module": "@jupyter-widgets/controls",
            "_model_module_version": "1.5.0",
            "_model_name": "HBoxModel",
            "_view_count": null,
            "_view_module": "@jupyter-widgets/controls",
            "_view_module_version": "1.5.0",
            "_view_name": "HBoxView",
            "box_style": "",
            "children": [
              "IPY_MODEL_2d0f9883cdb74c719c26f7d5da8e13fa",
              "IPY_MODEL_9d2b16a8aa6643748c74c779f92e57f2",
              "IPY_MODEL_2d97c011ccb74358ba1741310053daf4"
            ],
            "layout": "IPY_MODEL_ab561858f71741b883f202ba6da47465"
          }
        },
        "2d0f9883cdb74c719c26f7d5da8e13fa": {
          "model_module": "@jupyter-widgets/controls",
          "model_name": "HTMLModel",
          "model_module_version": "1.5.0",
          "state": {
            "_dom_classes": [],
            "_model_module": "@jupyter-widgets/controls",
            "_model_module_version": "1.5.0",
            "_model_name": "HTMLModel",
            "_view_count": null,
            "_view_module": "@jupyter-widgets/controls",
            "_view_module_version": "1.5.0",
            "_view_name": "HTMLView",
            "description": "",
            "description_tooltip": null,
            "layout": "IPY_MODEL_5996ab99b9c6474892b73d900b03e342",
            "placeholder": "​",
            "style": "IPY_MODEL_8c6e2536053c4f8592c232d17aad2527",
            "value": "100%"
          }
        },
        "9d2b16a8aa6643748c74c779f92e57f2": {
          "model_module": "@jupyter-widgets/controls",
          "model_name": "FloatProgressModel",
          "model_module_version": "1.5.0",
          "state": {
            "_dom_classes": [],
            "_model_module": "@jupyter-widgets/controls",
            "_model_module_version": "1.5.0",
            "_model_name": "FloatProgressModel",
            "_view_count": null,
            "_view_module": "@jupyter-widgets/controls",
            "_view_module_version": "1.5.0",
            "_view_name": "ProgressView",
            "bar_style": "success",
            "description": "",
            "description_tooltip": null,
            "layout": "IPY_MODEL_68219fd12b3a42e698633dbfeac4171b",
            "max": 5148,
            "min": 0,
            "orientation": "horizontal",
            "style": "IPY_MODEL_4dfcaae76a17407889ce9e71c1c6b7e0",
            "value": 5148
          }
        },
        "2d97c011ccb74358ba1741310053daf4": {
          "model_module": "@jupyter-widgets/controls",
          "model_name": "HTMLModel",
          "model_module_version": "1.5.0",
          "state": {
            "_dom_classes": [],
            "_model_module": "@jupyter-widgets/controls",
            "_model_module_version": "1.5.0",
            "_model_name": "HTMLModel",
            "_view_count": null,
            "_view_module": "@jupyter-widgets/controls",
            "_view_module_version": "1.5.0",
            "_view_name": "HTMLView",
            "description": "",
            "description_tooltip": null,
            "layout": "IPY_MODEL_28ecd8e64de540929f5c6c306753d629",
            "placeholder": "​",
            "style": "IPY_MODEL_ee9f41cc760344a9b1d5e7ba982cfad1",
            "value": " 5148/5148 [00:00&lt;00:00, 258779.19it/s]"
          }
        },
        "ab561858f71741b883f202ba6da47465": {
          "model_module": "@jupyter-widgets/base",
          "model_name": "LayoutModel",
          "model_module_version": "1.2.0",
          "state": {
            "_model_module": "@jupyter-widgets/base",
            "_model_module_version": "1.2.0",
            "_model_name": "LayoutModel",
            "_view_count": null,
            "_view_module": "@jupyter-widgets/base",
            "_view_module_version": "1.2.0",
            "_view_name": "LayoutView",
            "align_content": null,
            "align_items": null,
            "align_self": null,
            "border": null,
            "bottom": null,
            "display": null,
            "flex": null,
            "flex_flow": null,
            "grid_area": null,
            "grid_auto_columns": null,
            "grid_auto_flow": null,
            "grid_auto_rows": null,
            "grid_column": null,
            "grid_gap": null,
            "grid_row": null,
            "grid_template_areas": null,
            "grid_template_columns": null,
            "grid_template_rows": null,
            "height": null,
            "justify_content": null,
            "justify_items": null,
            "left": null,
            "margin": null,
            "max_height": null,
            "max_width": null,
            "min_height": null,
            "min_width": null,
            "object_fit": null,
            "object_position": null,
            "order": null,
            "overflow": null,
            "overflow_x": null,
            "overflow_y": null,
            "padding": null,
            "right": null,
            "top": null,
            "visibility": null,
            "width": null
          }
        },
        "5996ab99b9c6474892b73d900b03e342": {
          "model_module": "@jupyter-widgets/base",
          "model_name": "LayoutModel",
          "model_module_version": "1.2.0",
          "state": {
            "_model_module": "@jupyter-widgets/base",
            "_model_module_version": "1.2.0",
            "_model_name": "LayoutModel",
            "_view_count": null,
            "_view_module": "@jupyter-widgets/base",
            "_view_module_version": "1.2.0",
            "_view_name": "LayoutView",
            "align_content": null,
            "align_items": null,
            "align_self": null,
            "border": null,
            "bottom": null,
            "display": null,
            "flex": null,
            "flex_flow": null,
            "grid_area": null,
            "grid_auto_columns": null,
            "grid_auto_flow": null,
            "grid_auto_rows": null,
            "grid_column": null,
            "grid_gap": null,
            "grid_row": null,
            "grid_template_areas": null,
            "grid_template_columns": null,
            "grid_template_rows": null,
            "height": null,
            "justify_content": null,
            "justify_items": null,
            "left": null,
            "margin": null,
            "max_height": null,
            "max_width": null,
            "min_height": null,
            "min_width": null,
            "object_fit": null,
            "object_position": null,
            "order": null,
            "overflow": null,
            "overflow_x": null,
            "overflow_y": null,
            "padding": null,
            "right": null,
            "top": null,
            "visibility": null,
            "width": null
          }
        },
        "8c6e2536053c4f8592c232d17aad2527": {
          "model_module": "@jupyter-widgets/controls",
          "model_name": "DescriptionStyleModel",
          "model_module_version": "1.5.0",
          "state": {
            "_model_module": "@jupyter-widgets/controls",
            "_model_module_version": "1.5.0",
            "_model_name": "DescriptionStyleModel",
            "_view_count": null,
            "_view_module": "@jupyter-widgets/base",
            "_view_module_version": "1.2.0",
            "_view_name": "StyleView",
            "description_width": ""
          }
        },
        "68219fd12b3a42e698633dbfeac4171b": {
          "model_module": "@jupyter-widgets/base",
          "model_name": "LayoutModel",
          "model_module_version": "1.2.0",
          "state": {
            "_model_module": "@jupyter-widgets/base",
            "_model_module_version": "1.2.0",
            "_model_name": "LayoutModel",
            "_view_count": null,
            "_view_module": "@jupyter-widgets/base",
            "_view_module_version": "1.2.0",
            "_view_name": "LayoutView",
            "align_content": null,
            "align_items": null,
            "align_self": null,
            "border": null,
            "bottom": null,
            "display": null,
            "flex": null,
            "flex_flow": null,
            "grid_area": null,
            "grid_auto_columns": null,
            "grid_auto_flow": null,
            "grid_auto_rows": null,
            "grid_column": null,
            "grid_gap": null,
            "grid_row": null,
            "grid_template_areas": null,
            "grid_template_columns": null,
            "grid_template_rows": null,
            "height": null,
            "justify_content": null,
            "justify_items": null,
            "left": null,
            "margin": null,
            "max_height": null,
            "max_width": null,
            "min_height": null,
            "min_width": null,
            "object_fit": null,
            "object_position": null,
            "order": null,
            "overflow": null,
            "overflow_x": null,
            "overflow_y": null,
            "padding": null,
            "right": null,
            "top": null,
            "visibility": null,
            "width": null
          }
        },
        "4dfcaae76a17407889ce9e71c1c6b7e0": {
          "model_module": "@jupyter-widgets/controls",
          "model_name": "ProgressStyleModel",
          "model_module_version": "1.5.0",
          "state": {
            "_model_module": "@jupyter-widgets/controls",
            "_model_module_version": "1.5.0",
            "_model_name": "ProgressStyleModel",
            "_view_count": null,
            "_view_module": "@jupyter-widgets/base",
            "_view_module_version": "1.2.0",
            "_view_name": "StyleView",
            "bar_color": null,
            "description_width": ""
          }
        },
        "28ecd8e64de540929f5c6c306753d629": {
          "model_module": "@jupyter-widgets/base",
          "model_name": "LayoutModel",
          "model_module_version": "1.2.0",
          "state": {
            "_model_module": "@jupyter-widgets/base",
            "_model_module_version": "1.2.0",
            "_model_name": "LayoutModel",
            "_view_count": null,
            "_view_module": "@jupyter-widgets/base",
            "_view_module_version": "1.2.0",
            "_view_name": "LayoutView",
            "align_content": null,
            "align_items": null,
            "align_self": null,
            "border": null,
            "bottom": null,
            "display": null,
            "flex": null,
            "flex_flow": null,
            "grid_area": null,
            "grid_auto_columns": null,
            "grid_auto_flow": null,
            "grid_auto_rows": null,
            "grid_column": null,
            "grid_gap": null,
            "grid_row": null,
            "grid_template_areas": null,
            "grid_template_columns": null,
            "grid_template_rows": null,
            "height": null,
            "justify_content": null,
            "justify_items": null,
            "left": null,
            "margin": null,
            "max_height": null,
            "max_width": null,
            "min_height": null,
            "min_width": null,
            "object_fit": null,
            "object_position": null,
            "order": null,
            "overflow": null,
            "overflow_x": null,
            "overflow_y": null,
            "padding": null,
            "right": null,
            "top": null,
            "visibility": null,
            "width": null
          }
        },
        "ee9f41cc760344a9b1d5e7ba982cfad1": {
          "model_module": "@jupyter-widgets/controls",
          "model_name": "DescriptionStyleModel",
          "model_module_version": "1.5.0",
          "state": {
            "_model_module": "@jupyter-widgets/controls",
            "_model_module_version": "1.5.0",
            "_model_name": "DescriptionStyleModel",
            "_view_count": null,
            "_view_module": "@jupyter-widgets/base",
            "_view_module_version": "1.2.0",
            "_view_name": "StyleView",
            "description_width": ""
          }
        }
      }
    }
  },
  "cells": [
    {
      "cell_type": "code",
      "source": [
        "!pip install matplotlib_inline"
      ],
      "metadata": {
        "colab": {
          "base_uri": "https://localhost:8080/"
        },
        "id": "jgwktzScmy60",
        "outputId": "7af4393c-b0e7-4693-de29-f1e6b07ee6e8"
      },
      "execution_count": null,
      "outputs": [
        {
          "output_type": "stream",
          "name": "stdout",
          "text": [
            "Looking in indexes: https://pypi.org/simple, https://us-python.pkg.dev/colab-wheels/public/simple/\n",
            "Collecting matplotlib_inline\n",
            "  Downloading matplotlib_inline-0.1.6-py3-none-any.whl (9.4 kB)\n",
            "Requirement already satisfied: traitlets in /usr/local/lib/python3.8/dist-packages (from matplotlib_inline) (5.7.1)\n",
            "Installing collected packages: matplotlib_inline\n",
            "Successfully installed matplotlib_inline-0.1.6\n"
          ]
        }
      ]
    },
    {
      "cell_type": "code",
      "source": [
        "!pip install d2l"
      ],
      "metadata": {
        "colab": {
          "base_uri": "https://localhost:8080/"
        },
        "id": "roeo2LoIStIL",
        "outputId": "02e4dc85-0a1b-44c9-e4d8-852eff2b87a7"
      },
      "execution_count": null,
      "outputs": [
        {
          "output_type": "stream",
          "name": "stdout",
          "text": [
            "Looking in indexes: https://pypi.org/simple, https://us-python.pkg.dev/colab-wheels/public/simple/\n",
            "Collecting d2l\n",
            "  Downloading d2l-0.17.6-py3-none-any.whl (112 kB)\n",
            "\u001b[2K     \u001b[90m━━━━━━━━━━━━━━━━━━━━━━━━━━━━━━━━━━━━━━━\u001b[0m \u001b[32m112.6/112.6 KB\u001b[0m \u001b[31m4.2 MB/s\u001b[0m eta \u001b[36m0:00:00\u001b[0m\n",
            "\u001b[?25hCollecting pandas==1.2.4\n",
            "  Downloading pandas-1.2.4-cp38-cp38-manylinux1_x86_64.whl (9.7 MB)\n",
            "\u001b[2K     \u001b[90m━━━━━━━━━━━━━━━━━━━━━━━━━━━━━━━━━━━━━━━━\u001b[0m \u001b[32m9.7/9.7 MB\u001b[0m \u001b[31m47.0 MB/s\u001b[0m eta \u001b[36m0:00:00\u001b[0m\n",
            "\u001b[?25hRequirement already satisfied: requests==2.25.1 in /usr/local/lib/python3.8/dist-packages (from d2l) (2.25.1)\n",
            "Collecting matplotlib==3.5.1\n",
            "  Downloading matplotlib-3.5.1-cp38-cp38-manylinux_2_5_x86_64.manylinux1_x86_64.whl (11.3 MB)\n",
            "\u001b[2K     \u001b[90m━━━━━━━━━━━━━━━━━━━━━━━━━━━━━━━━━━━━━━━━\u001b[0m \u001b[32m11.3/11.3 MB\u001b[0m \u001b[31m46.1 MB/s\u001b[0m eta \u001b[36m0:00:00\u001b[0m\n",
            "\u001b[?25hCollecting jupyter==1.0.0\n",
            "  Downloading jupyter-1.0.0-py2.py3-none-any.whl (2.7 kB)\n",
            "Collecting numpy==1.21.5\n",
            "  Downloading numpy-1.21.5-cp38-cp38-manylinux_2_12_x86_64.manylinux2010_x86_64.whl (15.7 MB)\n",
            "\u001b[2K     \u001b[90m━━━━━━━━━━━━━━━━━━━━━━━━━━━━━━━━━━━━━━━━\u001b[0m \u001b[32m15.7/15.7 MB\u001b[0m \u001b[31m16.6 MB/s\u001b[0m eta \u001b[36m0:00:00\u001b[0m\n",
            "\u001b[?25hRequirement already satisfied: notebook in /usr/local/lib/python3.8/dist-packages (from jupyter==1.0.0->d2l) (5.7.16)\n",
            "Requirement already satisfied: ipywidgets in /usr/local/lib/python3.8/dist-packages (from jupyter==1.0.0->d2l) (7.7.1)\n",
            "Requirement already satisfied: ipykernel in /usr/local/lib/python3.8/dist-packages (from jupyter==1.0.0->d2l) (5.3.4)\n",
            "Collecting qtconsole\n",
            "  Downloading qtconsole-5.4.0-py3-none-any.whl (121 kB)\n",
            "\u001b[2K     \u001b[90m━━━━━━━━━━━━━━━━━━━━━━━━━━━━━━━━━━━━━━\u001b[0m \u001b[32m121.0/121.0 KB\u001b[0m \u001b[31m11.7 MB/s\u001b[0m eta \u001b[36m0:00:00\u001b[0m\n",
            "\u001b[?25hRequirement already satisfied: nbconvert in /usr/local/lib/python3.8/dist-packages (from jupyter==1.0.0->d2l) (5.6.1)\n",
            "Requirement already satisfied: jupyter-console in /usr/local/lib/python3.8/dist-packages (from jupyter==1.0.0->d2l) (6.1.0)\n",
            "Requirement already satisfied: pyparsing>=2.2.1 in /usr/local/lib/python3.8/dist-packages (from matplotlib==3.5.1->d2l) (3.0.9)\n",
            "Requirement already satisfied: packaging>=20.0 in /usr/local/lib/python3.8/dist-packages (from matplotlib==3.5.1->d2l) (21.3)\n",
            "Collecting fonttools>=4.22.0\n",
            "  Downloading fonttools-4.38.0-py3-none-any.whl (965 kB)\n",
            "\u001b[2K     \u001b[90m━━━━━━━━━━━━━━━━━━━━━━━━━━━━━━━━━━━━━━\u001b[0m \u001b[32m965.4/965.4 KB\u001b[0m \u001b[31m37.7 MB/s\u001b[0m eta \u001b[36m0:00:00\u001b[0m\n",
            "\u001b[?25hRequirement already satisfied: python-dateutil>=2.7 in /usr/local/lib/python3.8/dist-packages (from matplotlib==3.5.1->d2l) (2.8.2)\n",
            "Requirement already satisfied: pillow>=6.2.0 in /usr/local/lib/python3.8/dist-packages (from matplotlib==3.5.1->d2l) (7.1.2)\n",
            "Requirement already satisfied: cycler>=0.10 in /usr/local/lib/python3.8/dist-packages (from matplotlib==3.5.1->d2l) (0.11.0)\n",
            "Requirement already satisfied: kiwisolver>=1.0.1 in /usr/local/lib/python3.8/dist-packages (from matplotlib==3.5.1->d2l) (1.4.4)\n",
            "Requirement already satisfied: pytz>=2017.3 in /usr/local/lib/python3.8/dist-packages (from pandas==1.2.4->d2l) (2022.7)\n",
            "Requirement already satisfied: certifi>=2017.4.17 in /usr/local/lib/python3.8/dist-packages (from requests==2.25.1->d2l) (2022.12.7)\n",
            "Requirement already satisfied: idna<3,>=2.5 in /usr/local/lib/python3.8/dist-packages (from requests==2.25.1->d2l) (2.10)\n",
            "Requirement already satisfied: chardet<5,>=3.0.2 in /usr/local/lib/python3.8/dist-packages (from requests==2.25.1->d2l) (4.0.0)\n",
            "Requirement already satisfied: urllib3<1.27,>=1.21.1 in /usr/local/lib/python3.8/dist-packages (from requests==2.25.1->d2l) (1.24.3)\n",
            "Requirement already satisfied: six>=1.5 in /usr/local/lib/python3.8/dist-packages (from python-dateutil>=2.7->matplotlib==3.5.1->d2l) (1.15.0)\n",
            "Requirement already satisfied: tornado>=4.2 in /usr/local/lib/python3.8/dist-packages (from ipykernel->jupyter==1.0.0->d2l) (6.0.4)\n",
            "Requirement already satisfied: jupyter-client in /usr/local/lib/python3.8/dist-packages (from ipykernel->jupyter==1.0.0->d2l) (6.1.12)\n",
            "Requirement already satisfied: ipython>=5.0.0 in /usr/local/lib/python3.8/dist-packages (from ipykernel->jupyter==1.0.0->d2l) (7.9.0)\n",
            "Requirement already satisfied: traitlets>=4.1.0 in /usr/local/lib/python3.8/dist-packages (from ipykernel->jupyter==1.0.0->d2l) (5.7.1)\n",
            "Requirement already satisfied: widgetsnbextension~=3.6.0 in /usr/local/lib/python3.8/dist-packages (from ipywidgets->jupyter==1.0.0->d2l) (3.6.1)\n",
            "Requirement already satisfied: ipython-genutils~=0.2.0 in /usr/local/lib/python3.8/dist-packages (from ipywidgets->jupyter==1.0.0->d2l) (0.2.0)\n",
            "Requirement already satisfied: jupyterlab-widgets>=1.0.0 in /usr/local/lib/python3.8/dist-packages (from ipywidgets->jupyter==1.0.0->d2l) (3.0.5)\n",
            "Requirement already satisfied: prompt-toolkit!=3.0.0,!=3.0.1,<3.1.0,>=2.0.0 in /usr/local/lib/python3.8/dist-packages (from jupyter-console->jupyter==1.0.0->d2l) (2.0.10)\n",
            "Requirement already satisfied: pygments in /usr/local/lib/python3.8/dist-packages (from jupyter-console->jupyter==1.0.0->d2l) (2.6.1)\n",
            "Requirement already satisfied: testpath in /usr/local/lib/python3.8/dist-packages (from nbconvert->jupyter==1.0.0->d2l) (0.6.0)\n",
            "Requirement already satisfied: pandocfilters>=1.4.1 in /usr/local/lib/python3.8/dist-packages (from nbconvert->jupyter==1.0.0->d2l) (1.5.0)\n",
            "Requirement already satisfied: defusedxml in /usr/local/lib/python3.8/dist-packages (from nbconvert->jupyter==1.0.0->d2l) (0.7.1)\n",
            "Requirement already satisfied: jupyter-core in /usr/local/lib/python3.8/dist-packages (from nbconvert->jupyter==1.0.0->d2l) (5.1.3)\n",
            "Requirement already satisfied: nbformat>=4.4 in /usr/local/lib/python3.8/dist-packages (from nbconvert->jupyter==1.0.0->d2l) (5.7.1)\n",
            "Requirement already satisfied: jinja2>=2.4 in /usr/local/lib/python3.8/dist-packages (from nbconvert->jupyter==1.0.0->d2l) (2.11.3)\n",
            "Requirement already satisfied: bleach in /usr/local/lib/python3.8/dist-packages (from nbconvert->jupyter==1.0.0->d2l) (5.0.1)\n",
            "Requirement already satisfied: mistune<2,>=0.8.1 in /usr/local/lib/python3.8/dist-packages (from nbconvert->jupyter==1.0.0->d2l) (0.8.4)\n",
            "Requirement already satisfied: entrypoints>=0.2.2 in /usr/local/lib/python3.8/dist-packages (from nbconvert->jupyter==1.0.0->d2l) (0.4)\n",
            "Requirement already satisfied: Send2Trash in /usr/local/lib/python3.8/dist-packages (from notebook->jupyter==1.0.0->d2l) (1.8.0)\n",
            "Requirement already satisfied: pyzmq>=17 in /usr/local/lib/python3.8/dist-packages (from notebook->jupyter==1.0.0->d2l) (23.2.1)\n",
            "Requirement already satisfied: prometheus-client in /usr/local/lib/python3.8/dist-packages (from notebook->jupyter==1.0.0->d2l) (0.15.0)\n",
            "Requirement already satisfied: terminado>=0.8.1 in /usr/local/lib/python3.8/dist-packages (from notebook->jupyter==1.0.0->d2l) (0.13.3)\n",
            "Collecting qtpy>=2.0.1\n",
            "  Downloading QtPy-2.3.0-py3-none-any.whl (83 kB)\n",
            "\u001b[2K     \u001b[90m━━━━━━━━━━━━━━━━━━━━━━━━━━━━━━━━━━━━━━━━\u001b[0m \u001b[32m83.6/83.6 KB\u001b[0m \u001b[31m7.1 MB/s\u001b[0m eta \u001b[36m0:00:00\u001b[0m\n",
            "\u001b[?25hRequirement already satisfied: setuptools>=18.5 in /usr/local/lib/python3.8/dist-packages (from ipython>=5.0.0->ipykernel->jupyter==1.0.0->d2l) (57.4.0)\n",
            "Requirement already satisfied: decorator in /usr/local/lib/python3.8/dist-packages (from ipython>=5.0.0->ipykernel->jupyter==1.0.0->d2l) (4.4.2)\n",
            "Requirement already satisfied: pexpect in /usr/local/lib/python3.8/dist-packages (from ipython>=5.0.0->ipykernel->jupyter==1.0.0->d2l) (4.8.0)\n",
            "Collecting jedi>=0.10\n",
            "  Downloading jedi-0.18.2-py2.py3-none-any.whl (1.6 MB)\n",
            "\u001b[2K     \u001b[90m━━━━━━━━━━━━━━━━━━━━━━━━━━━━━━━━━━━━━━━━\u001b[0m \u001b[32m1.6/1.6 MB\u001b[0m \u001b[31m52.9 MB/s\u001b[0m eta \u001b[36m0:00:00\u001b[0m\n",
            "\u001b[?25hRequirement already satisfied: backcall in /usr/local/lib/python3.8/dist-packages (from ipython>=5.0.0->ipykernel->jupyter==1.0.0->d2l) (0.2.0)\n",
            "Requirement already satisfied: pickleshare in /usr/local/lib/python3.8/dist-packages (from ipython>=5.0.0->ipykernel->jupyter==1.0.0->d2l) (0.7.5)\n",
            "Requirement already satisfied: MarkupSafe>=0.23 in /usr/local/lib/python3.8/dist-packages (from jinja2>=2.4->nbconvert->jupyter==1.0.0->d2l) (2.0.1)\n",
            "Requirement already satisfied: platformdirs>=2.5 in /usr/local/lib/python3.8/dist-packages (from jupyter-core->nbconvert->jupyter==1.0.0->d2l) (2.6.2)\n",
            "Requirement already satisfied: jsonschema>=2.6 in /usr/local/lib/python3.8/dist-packages (from nbformat>=4.4->nbconvert->jupyter==1.0.0->d2l) (4.3.3)\n",
            "Requirement already satisfied: fastjsonschema in /usr/local/lib/python3.8/dist-packages (from nbformat>=4.4->nbconvert->jupyter==1.0.0->d2l) (2.16.2)\n",
            "Requirement already satisfied: wcwidth in /usr/local/lib/python3.8/dist-packages (from prompt-toolkit!=3.0.0,!=3.0.1,<3.1.0,>=2.0.0->jupyter-console->jupyter==1.0.0->d2l) (0.2.5)\n",
            "Requirement already satisfied: ptyprocess in /usr/local/lib/python3.8/dist-packages (from terminado>=0.8.1->notebook->jupyter==1.0.0->d2l) (0.7.0)\n",
            "Requirement already satisfied: webencodings in /usr/local/lib/python3.8/dist-packages (from bleach->nbconvert->jupyter==1.0.0->d2l) (0.5.1)\n",
            "Requirement already satisfied: parso<0.9.0,>=0.8.0 in /usr/local/lib/python3.8/dist-packages (from jedi>=0.10->ipython>=5.0.0->ipykernel->jupyter==1.0.0->d2l) (0.8.3)\n",
            "Requirement already satisfied: attrs>=17.4.0 in /usr/local/lib/python3.8/dist-packages (from jsonschema>=2.6->nbformat>=4.4->nbconvert->jupyter==1.0.0->d2l) (22.2.0)\n",
            "Requirement already satisfied: pyrsistent!=0.17.0,!=0.17.1,!=0.17.2,>=0.14.0 in /usr/local/lib/python3.8/dist-packages (from jsonschema>=2.6->nbformat>=4.4->nbconvert->jupyter==1.0.0->d2l) (0.19.3)\n",
            "Requirement already satisfied: importlib-resources>=1.4.0 in /usr/local/lib/python3.8/dist-packages (from jsonschema>=2.6->nbformat>=4.4->nbconvert->jupyter==1.0.0->d2l) (5.10.2)\n",
            "Requirement already satisfied: zipp>=3.1.0 in /usr/local/lib/python3.8/dist-packages (from importlib-resources>=1.4.0->jsonschema>=2.6->nbformat>=4.4->nbconvert->jupyter==1.0.0->d2l) (3.11.0)\n",
            "Installing collected packages: numpy, jedi, fonttools, qtpy, pandas, matplotlib, qtconsole, jupyter, d2l\n",
            "  Attempting uninstall: numpy\n",
            "    Found existing installation: numpy 1.21.6\n",
            "    Uninstalling numpy-1.21.6:\n",
            "      Successfully uninstalled numpy-1.21.6\n",
            "  Attempting uninstall: pandas\n",
            "    Found existing installation: pandas 1.3.5\n",
            "    Uninstalling pandas-1.3.5:\n",
            "      Successfully uninstalled pandas-1.3.5\n",
            "  Attempting uninstall: matplotlib\n",
            "    Found existing installation: matplotlib 3.2.2\n",
            "    Uninstalling matplotlib-3.2.2:\n",
            "      Successfully uninstalled matplotlib-3.2.2\n",
            "\u001b[31mERROR: pip's dependency resolver does not currently take into account all the packages that are installed. This behaviour is the source of the following dependency conflicts.\n",
            "xarray 2022.12.0 requires pandas>=1.3, but you have pandas 1.2.4 which is incompatible.\u001b[0m\u001b[31m\n",
            "\u001b[0mSuccessfully installed d2l-0.17.6 fonttools-4.38.0 jedi-0.18.2 jupyter-1.0.0 matplotlib-3.5.1 numpy-1.21.5 pandas-1.2.4 qtconsole-5.4.0 qtpy-2.3.0\n"
          ]
        }
      ]
    },
    {
      "cell_type": "code",
      "execution_count": null,
      "metadata": {
        "colab": {
          "base_uri": "https://localhost:8080/"
        },
        "id": "LoVFErxIiXog",
        "outputId": "fc2daf11-b86a-4c0d-9002-6c1cbb22deb4"
      },
      "outputs": [
        {
          "output_type": "stream",
          "name": "stderr",
          "text": [
            "/usr/local/lib/python3.8/dist-packages/torch/cuda/__init__.py:497: UserWarning: Can't initialize NVML\n",
            "  warnings.warn(\"Can't initialize NVML\")\n"
          ]
        }
      ],
      "source": [
        "%matplotlib inline\n",
        "import torch\n",
        "import torchvision\n",
        "from torch.utils import data\n",
        "from torchvision import transforms\n",
        "from d2l import torch as d2l\n",
        "\n",
        "d2l.use_svg_display()"
      ]
    },
    {
      "cell_type": "code",
      "source": [
        "trans = transforms.ToTensor()\n",
        "mnist_train = torchvision.datasets.FashionMNIST(\n",
        "    root = \"../data\", train = ## 빈칸을 채워주세요.## , transform=trans, download = True)\n",
        "mnist_test = torchvision.datasets.FashionMNIST(\n",
        "    root = \"../data\", train = ## 빈칸을 채워주세요.## , transform=trans, download=True)"
      ],
      "metadata": {
        "colab": {
          "base_uri": "https://localhost:8080/",
          "height": 483,
          "referenced_widgets": [
            "f2085a4b4390419f864d503a6b0a1d34",
            "83481902669f411899abbcca7419ac11",
            "64e96e5ac68a44978177bddffd9dbbe3",
            "1fe1bea694f04f7eb098b082ac7db44c",
            "c7ffd3f3dcdf47ae99510d84387584b2",
            "b621110e5f7647f984b3f83976ff3855",
            "05d449267a8e41fc932c7a0d679dfbac",
            "5efd602e44264f39926c449ddaec0db5",
            "14faa392024249c48de703d1d9ea5683",
            "7a2a869ad9d64a2197b6187f26fefdfb",
            "09818dd755d641bebe820df0c89e061e",
            "bfff6c039a1e4b3db21454ffc2e3e61f",
            "dd1f7b5b216a4617b6e1acc6bebe88b4",
            "77747687baf541a0b68b4402c4edb18f",
            "cf8b679334e94c96b7dd47c7c1f29a96",
            "70c48e35d6fa4e64865f1362ee8402ee",
            "c40fb057632649fdb53ab521cd9c467b",
            "4c53c31744de4043bd144e9945d9d8d1",
            "8d67a026766d40de96332318b6c1d543",
            "39af13c3ae9447b2ac296b593e47cab8",
            "4eeca8dd044a4ef18bc50d41fdf60570",
            "8b88ae0605984f97a7ae093af1498424",
            "e28ee90dc0cc463c801ab57cf3533d27",
            "4c44e5017b4b4f5a864501c6ea4fc6b2",
            "10138ab0dcc249e080a105f95e8a09c4",
            "99ee76581e674e0ea27594c12b7af843",
            "617a611d5d2f4df2ae18a9bf8fbe2e4d",
            "1e9dda5bfc5f4c13b731d8fe09f78ce5",
            "53ab9ef92f08494d9f195be0012d3b94",
            "6a3aab710f9248fd871b0a444129f654",
            "7c4fbacb3932459d88ccbf0cd224b7ed",
            "2969695ae5c34df7bdff597e0afd1cdc",
            "78922f851b564c82a0526d8e3311ee01",
            "2bf171ffa0454e598a242daf2c401660",
            "2d0f9883cdb74c719c26f7d5da8e13fa",
            "9d2b16a8aa6643748c74c779f92e57f2",
            "2d97c011ccb74358ba1741310053daf4",
            "ab561858f71741b883f202ba6da47465",
            "5996ab99b9c6474892b73d900b03e342",
            "8c6e2536053c4f8592c232d17aad2527",
            "68219fd12b3a42e698633dbfeac4171b",
            "4dfcaae76a17407889ce9e71c1c6b7e0",
            "28ecd8e64de540929f5c6c306753d629",
            "ee9f41cc760344a9b1d5e7ba982cfad1"
          ]
        },
        "id": "iUnJtgdgmtTi",
        "outputId": "11d65cde-59b2-4883-c5e9-5c56786ca1e8"
      },
      "execution_count": null,
      "outputs": [
        {
          "output_type": "stream",
          "name": "stdout",
          "text": [
            "Downloading http://fashion-mnist.s3-website.eu-central-1.amazonaws.com/train-images-idx3-ubyte.gz\n",
            "Downloading http://fashion-mnist.s3-website.eu-central-1.amazonaws.com/train-images-idx3-ubyte.gz to ../data/FashionMNIST/raw/train-images-idx3-ubyte.gz\n"
          ]
        },
        {
          "output_type": "display_data",
          "data": {
            "text/plain": [
              "  0%|          | 0/26421880 [00:00<?, ?it/s]"
            ],
            "application/vnd.jupyter.widget-view+json": {
              "version_major": 2,
              "version_minor": 0,
              "model_id": "f2085a4b4390419f864d503a6b0a1d34"
            }
          },
          "metadata": {}
        },
        {
          "output_type": "stream",
          "name": "stdout",
          "text": [
            "Extracting ../data/FashionMNIST/raw/train-images-idx3-ubyte.gz to ../data/FashionMNIST/raw\n",
            "\n",
            "Downloading http://fashion-mnist.s3-website.eu-central-1.amazonaws.com/train-labels-idx1-ubyte.gz\n",
            "Downloading http://fashion-mnist.s3-website.eu-central-1.amazonaws.com/train-labels-idx1-ubyte.gz to ../data/FashionMNIST/raw/train-labels-idx1-ubyte.gz\n"
          ]
        },
        {
          "output_type": "display_data",
          "data": {
            "text/plain": [
              "  0%|          | 0/29515 [00:00<?, ?it/s]"
            ],
            "application/vnd.jupyter.widget-view+json": {
              "version_major": 2,
              "version_minor": 0,
              "model_id": "bfff6c039a1e4b3db21454ffc2e3e61f"
            }
          },
          "metadata": {}
        },
        {
          "output_type": "stream",
          "name": "stdout",
          "text": [
            "Extracting ../data/FashionMNIST/raw/train-labels-idx1-ubyte.gz to ../data/FashionMNIST/raw\n",
            "\n",
            "Downloading http://fashion-mnist.s3-website.eu-central-1.amazonaws.com/t10k-images-idx3-ubyte.gz\n",
            "Downloading http://fashion-mnist.s3-website.eu-central-1.amazonaws.com/t10k-images-idx3-ubyte.gz to ../data/FashionMNIST/raw/t10k-images-idx3-ubyte.gz\n"
          ]
        },
        {
          "output_type": "display_data",
          "data": {
            "text/plain": [
              "  0%|          | 0/4422102 [00:00<?, ?it/s]"
            ],
            "application/vnd.jupyter.widget-view+json": {
              "version_major": 2,
              "version_minor": 0,
              "model_id": "e28ee90dc0cc463c801ab57cf3533d27"
            }
          },
          "metadata": {}
        },
        {
          "output_type": "stream",
          "name": "stdout",
          "text": [
            "Extracting ../data/FashionMNIST/raw/t10k-images-idx3-ubyte.gz to ../data/FashionMNIST/raw\n",
            "\n",
            "Downloading http://fashion-mnist.s3-website.eu-central-1.amazonaws.com/t10k-labels-idx1-ubyte.gz\n",
            "Downloading http://fashion-mnist.s3-website.eu-central-1.amazonaws.com/t10k-labels-idx1-ubyte.gz to ../data/FashionMNIST/raw/t10k-labels-idx1-ubyte.gz\n"
          ]
        },
        {
          "output_type": "display_data",
          "data": {
            "text/plain": [
              "  0%|          | 0/5148 [00:00<?, ?it/s]"
            ],
            "application/vnd.jupyter.widget-view+json": {
              "version_major": 2,
              "version_minor": 0,
              "model_id": "2bf171ffa0454e598a242daf2c401660"
            }
          },
          "metadata": {}
        },
        {
          "output_type": "stream",
          "name": "stdout",
          "text": [
            "Extracting ../data/FashionMNIST/raw/t10k-labels-idx1-ubyte.gz to ../data/FashionMNIST/raw\n",
            "\n"
          ]
        }
      ]
    },
    {
      "cell_type": "code",
      "source": [
        "len(mnist_train), len(mnist_test)"
      ],
      "metadata": {
        "colab": {
          "base_uri": "https://localhost:8080/"
        },
        "id": "c5L6xPMUpE9d",
        "outputId": "2eed924b-9824-4b94-a394-b38ca52a67e8"
      },
      "execution_count": null,
      "outputs": [
        {
          "output_type": "execute_result",
          "data": {
            "text/plain": [
              "(60000, 10000)"
            ]
          },
          "metadata": {},
          "execution_count": 5
        }
      ]
    },
    {
      "cell_type": "code",
      "source": [
        "mnist_train[0][0].shape"
      ],
      "metadata": {
        "colab": {
          "base_uri": "https://localhost:8080/"
        },
        "id": "ODptX6l23f7W",
        "outputId": "ef01a6b8-7514-496d-ec89-124e87b42753"
      },
      "execution_count": null,
      "outputs": [
        {
          "output_type": "execute_result",
          "data": {
            "text/plain": [
              "torch.Size([1, 28, 28])"
            ]
          },
          "metadata": {},
          "execution_count": 6
        }
      ]
    },
    {
      "cell_type": "code",
      "source": [
        "def get_fashion_mnist_labels(labels):\n",
        "  \"\"\"Fashion-MNIST를 위한 텍스트라벨을 리턴\"\"\"\n",
        "  text_labels = ['t-shirt', 'trouser', 'pullover', 'dress', 'coat',\n",
        "                 'sandal', 'shirt', 'sneaker', 'bag', 'ankle boot']\n",
        "  return ## 빈칸을 채워주세요.##"
      ],
      "metadata": {
        "id": "i5-RRJoI4Boa"
      },
      "execution_count": null,
      "outputs": []
    },
    {
      "cell_type": "code",
      "source": [
        "# visualize example\n",
        "\n",
        "def show_images(imgs, num_rows, num_cols, titles=None, scale=1.5):\n",
        "  \"\"\"이미지 리스트 플롯그리기\"\"\"\n",
        "  figsize = (num_cols * scale, num_rows * scale)\n",
        "  _, axes = d2l.plt.subplots(num_rows, num_cols, figsize = figsize)\n",
        "  axes = axes.flatten()\n",
        "  for i, (ax, img) in enumerate(zip(axes, imgs)):\n",
        "    if torch.is_tensor(img):\n",
        "      # Tensor Image\n",
        "      ## 빈칸을 채워주세요. ##\n",
        "    else:\n",
        "      # PIL Image\n",
        "      ## 빈칸을 채워주세요. ##\n",
        "    ax.axes.get_xaxis().set_visible(False)\n",
        "    ax.axes.get_yaxis().set_visible(False)\n",
        "    if titles:\n",
        "      ax.set_title(titles[i])\n",
        "  return axes\n"
      ],
      "metadata": {
        "id": "g7t8PH2g5GCy"
      },
      "execution_count": null,
      "outputs": []
    },
    {
      "cell_type": "code",
      "source": [
        "!pip install matplotlib==3.1.3"
      ],
      "metadata": {
        "colab": {
          "base_uri": "https://localhost:8080/"
        },
        "id": "_o4sFnBu_Mqe",
        "outputId": "3a651507-fdf9-46a5-df72-7b20e28eace7"
      },
      "execution_count": null,
      "outputs": [
        {
          "output_type": "stream",
          "name": "stdout",
          "text": [
            "Looking in indexes: https://pypi.org/simple, https://us-python.pkg.dev/colab-wheels/public/simple/\n",
            "Collecting matplotlib==3.1.3\n",
            "  Downloading matplotlib-3.1.3-cp38-cp38-manylinux1_x86_64.whl (13.1 MB)\n",
            "\u001b[2K     \u001b[90m━━━━━━━━━━━━━━━━━━━━━━━━━━━━━━━━━━━━━━━━\u001b[0m \u001b[32m13.1/13.1 MB\u001b[0m \u001b[31m72.5 MB/s\u001b[0m eta \u001b[36m0:00:00\u001b[0m\n",
            "\u001b[?25hRequirement already satisfied: python-dateutil>=2.1 in /usr/local/lib/python3.8/dist-packages (from matplotlib==3.1.3) (2.8.2)\n",
            "Requirement already satisfied: kiwisolver>=1.0.1 in /usr/local/lib/python3.8/dist-packages (from matplotlib==3.1.3) (1.4.4)\n",
            "Requirement already satisfied: numpy>=1.11 in /usr/local/lib/python3.8/dist-packages (from matplotlib==3.1.3) (1.21.5)\n",
            "Requirement already satisfied: pyparsing!=2.0.4,!=2.1.2,!=2.1.6,>=2.0.1 in /usr/local/lib/python3.8/dist-packages (from matplotlib==3.1.3) (3.0.9)\n",
            "Requirement already satisfied: cycler>=0.10 in /usr/local/lib/python3.8/dist-packages (from matplotlib==3.1.3) (0.11.0)\n",
            "Requirement already satisfied: six>=1.5 in /usr/local/lib/python3.8/dist-packages (from python-dateutil>=2.1->matplotlib==3.1.3) (1.15.0)\n",
            "Installing collected packages: matplotlib\n",
            "  Attempting uninstall: matplotlib\n",
            "    Found existing installation: matplotlib 3.0.0\n",
            "    Uninstalling matplotlib-3.0.0:\n",
            "      Successfully uninstalled matplotlib-3.0.0\n",
            "\u001b[31mERROR: pip's dependency resolver does not currently take into account all the packages that are installed. This behaviour is the source of the following dependency conflicts.\n",
            "d2l 0.17.6 requires matplotlib==3.5.1, but you have matplotlib 3.1.3 which is incompatible.\u001b[0m\u001b[31m\n",
            "\u001b[0mSuccessfully installed matplotlib-3.1.3\n"
          ]
        }
      ]
    },
    {
      "cell_type": "code",
      "source": [
        "# training dataset 가져오기\n",
        "X, y = next(iter(## 빈칸을 채워주세요. ## ))\n",
        "show_images(X.reshape(18,28,28), 2, 9, titles = get_fashion_mnist_labels(y));"
      ],
      "metadata": {
        "colab": {
          "base_uri": "https://localhost:8080/",
          "height": 297
        },
        "id": "OxYdsR7C6mMo",
        "outputId": "0e23cdf6-8f4e-4a6a-cd26-277882383587"
      },
      "execution_count": null,
      "outputs": [
        {
          "output_type": "display_data",
          "data": {
            "text/plain": [
              "<Figure size 972x216 with 18 Axes>"
            ],
            "image/svg+xml": "<?xml version=\"1.0\" encoding=\"utf-8\" standalone=\"no\"?>\n<!DOCTYPE svg PUBLIC \"-//W3C//DTD SVG 1.1//EN\"\n  \"http://www.w3.org/Graphics/SVG/1.1/DTD/svg11.dtd\">\n<!-- Created with matplotlib (https://matplotlib.org/) -->\n<svg height=\"193.03689pt\" version=\"1.1\" viewBox=\"0 0 771.2 193.03689\" width=\"771.2pt\" xmlns=\"http://www.w3.org/2000/svg\" xmlns:xlink=\"http://www.w3.org/1999/xlink\">\n <defs>\n  <style type=\"text/css\">\n*{stroke-linecap:butt;stroke-linejoin:round;}\n  </style>\n </defs>\n <g id=\"figure_1\">\n  <g id=\"patch_1\">\n   <path d=\"M 0 193.03689 \nL 771.2 193.03689 \nL 771.2 -0 \nL 0 -0 \nz\n\" style=\"fill:none;\"/>\n  </g>\n  <g id=\"axes_1\">\n   <g id=\"patch_2\">\n    <path d=\"M 10.7 93.384163 \nL 81.766038 93.384163 \nL 81.766038 22.318125 \nL 10.7 22.318125 \nz\n\" style=\"fill:#ffffff;\"/>\n   </g>\n   <g clip-path=\"url(#pb7c1420eb3)\">\n    <image height=\"72\" id=\"image0d2a963a28\" transform=\"scale(1 -1)translate(0 -72)\" width=\"72\" x=\"10.7\" xlink:href=\"data:image/png;base64,\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\" y=\"-21.384163\"/>\n   </g>\n   <g id=\"patch_3\">\n    <path d=\"M 10.7 93.384163 \nL 10.7 22.318125 \n\" style=\"fill:none;stroke:#000000;stroke-linecap:square;stroke-linejoin:miter;stroke-width:0.8;\"/>\n   </g>\n   <g id=\"patch_4\">\n    <path d=\"M 81.766038 93.384163 \nL 81.766038 22.318125 \n\" style=\"fill:none;stroke:#000000;stroke-linecap:square;stroke-linejoin:miter;stroke-width:0.8;\"/>\n   </g>\n   <g id=\"patch_5\">\n    <path d=\"M 10.7 93.384163 \nL 81.766038 93.384163 \n\" style=\"fill:none;stroke:#000000;stroke-linecap:square;stroke-linejoin:miter;stroke-width:0.8;\"/>\n   </g>\n   <g id=\"patch_6\">\n    <path d=\"M 10.7 22.318125 \nL 81.766038 22.318125 \n\" style=\"fill:none;stroke:#000000;stroke-linecap:square;stroke-linejoin:miter;stroke-width:0.8;\"/>\n   </g>\n   <g id=\"text_1\">\n    <!-- ankle boot -->\n    <defs>\n     <path d=\"M 34.28125 27.484375 \nQ 23.390625 27.484375 19.1875 25 \nQ 14.984375 22.515625 14.984375 16.5 \nQ 14.984375 11.71875 18.140625 8.90625 \nQ 21.296875 6.109375 26.703125 6.109375 \nQ 34.1875 6.109375 38.703125 11.40625 \nQ 43.21875 16.703125 43.21875 25.484375 \nL 43.21875 27.484375 \nz\nM 52.203125 31.203125 \nL 52.203125 0 \nL 43.21875 0 \nL 43.21875 8.296875 \nQ 40.140625 3.328125 35.546875 0.953125 \nQ 30.953125 -1.421875 24.3125 -1.421875 \nQ 15.921875 -1.421875 10.953125 3.296875 \nQ 6 8.015625 6 15.921875 \nQ 6 25.140625 12.171875 29.828125 \nQ 18.359375 34.515625 30.609375 34.515625 \nL 43.21875 34.515625 \nL 43.21875 35.40625 \nQ 43.21875 41.609375 39.140625 45 \nQ 35.0625 48.390625 27.6875 48.390625 \nQ 23 48.390625 18.546875 47.265625 \nQ 14.109375 46.140625 10.015625 43.890625 \nL 10.015625 52.203125 \nQ 14.9375 54.109375 19.578125 55.046875 \nQ 24.21875 56 28.609375 56 \nQ 40.484375 56 46.34375 49.84375 \nQ 52.203125 43.703125 52.203125 31.203125 \nz\n\" id=\"DejaVuSans-97\"/>\n     <path d=\"M 54.890625 33.015625 \nL 54.890625 0 \nL 45.90625 0 \nL 45.90625 32.71875 \nQ 45.90625 40.484375 42.875 44.328125 \nQ 39.84375 48.1875 33.796875 48.1875 \nQ 26.515625 48.1875 22.3125 43.546875 \nQ 18.109375 38.921875 18.109375 30.90625 \nL 18.109375 0 \nL 9.078125 0 \nL 9.078125 54.6875 \nL 18.109375 54.6875 \nL 18.109375 46.1875 \nQ 21.34375 51.125 25.703125 53.5625 \nQ 30.078125 56 35.796875 56 \nQ 45.21875 56 50.046875 50.171875 \nQ 54.890625 44.34375 54.890625 33.015625 \nz\n\" id=\"DejaVuSans-110\"/>\n     <path d=\"M 9.078125 75.984375 \nL 18.109375 75.984375 \nL 18.109375 31.109375 \nL 44.921875 54.6875 \nL 56.390625 54.6875 \nL 27.390625 29.109375 \nL 57.625 0 \nL 45.90625 0 \nL 18.109375 26.703125 \nL 18.109375 0 \nL 9.078125 0 \nz\n\" id=\"DejaVuSans-107\"/>\n     <path d=\"M 9.421875 75.984375 \nL 18.40625 75.984375 \nL 18.40625 0 \nL 9.421875 0 \nz\n\" id=\"DejaVuSans-108\"/>\n     <path d=\"M 56.203125 29.59375 \nL 56.203125 25.203125 \nL 14.890625 25.203125 \nQ 15.484375 15.921875 20.484375 11.0625 \nQ 25.484375 6.203125 34.421875 6.203125 \nQ 39.59375 6.203125 44.453125 7.46875 \nQ 49.3125 8.734375 54.109375 11.28125 \nL 54.109375 2.78125 \nQ 49.265625 0.734375 44.1875 -0.34375 \nQ 39.109375 -1.421875 33.890625 -1.421875 \nQ 20.796875 -1.421875 13.15625 6.1875 \nQ 5.515625 13.8125 5.515625 26.8125 \nQ 5.515625 40.234375 12.765625 48.109375 \nQ 20.015625 56 32.328125 56 \nQ 43.359375 56 49.78125 48.890625 \nQ 56.203125 41.796875 56.203125 29.59375 \nz\nM 47.21875 32.234375 \nQ 47.125 39.59375 43.09375 43.984375 \nQ 39.0625 48.390625 32.421875 48.390625 \nQ 24.90625 48.390625 20.390625 44.140625 \nQ 15.875 39.890625 15.1875 32.171875 \nz\n\" id=\"DejaVuSans-101\"/>\n     <path id=\"DejaVuSans-32\"/>\n     <path d=\"M 48.6875 27.296875 \nQ 48.6875 37.203125 44.609375 42.84375 \nQ 40.53125 48.484375 33.40625 48.484375 \nQ 26.265625 48.484375 22.1875 42.84375 \nQ 18.109375 37.203125 18.109375 27.296875 \nQ 18.109375 17.390625 22.1875 11.75 \nQ 26.265625 6.109375 33.40625 6.109375 \nQ 40.53125 6.109375 44.609375 11.75 \nQ 48.6875 17.390625 48.6875 27.296875 \nz\nM 18.109375 46.390625 \nQ 20.953125 51.265625 25.265625 53.625 \nQ 29.59375 56 35.59375 56 \nQ 45.5625 56 51.78125 48.09375 \nQ 58.015625 40.1875 58.015625 27.296875 \nQ 58.015625 14.40625 51.78125 6.484375 \nQ 45.5625 -1.421875 35.59375 -1.421875 \nQ 29.59375 -1.421875 25.265625 0.953125 \nQ 20.953125 3.328125 18.109375 8.203125 \nL 18.109375 0 \nL 9.078125 0 \nL 9.078125 75.984375 \nL 18.109375 75.984375 \nz\n\" id=\"DejaVuSans-98\"/>\n     <path d=\"M 30.609375 48.390625 \nQ 23.390625 48.390625 19.1875 42.75 \nQ 14.984375 37.109375 14.984375 27.296875 \nQ 14.984375 17.484375 19.15625 11.84375 \nQ 23.34375 6.203125 30.609375 6.203125 \nQ 37.796875 6.203125 41.984375 11.859375 \nQ 46.1875 17.53125 46.1875 27.296875 \nQ 46.1875 37.015625 41.984375 42.703125 \nQ 37.796875 48.390625 30.609375 48.390625 \nz\nM 30.609375 56 \nQ 42.328125 56 49.015625 48.375 \nQ 55.71875 40.765625 55.71875 27.296875 \nQ 55.71875 13.875 49.015625 6.21875 \nQ 42.328125 -1.421875 30.609375 -1.421875 \nQ 18.84375 -1.421875 12.171875 6.21875 \nQ 5.515625 13.875 5.515625 27.296875 \nQ 5.515625 40.765625 12.171875 48.375 \nQ 18.84375 56 30.609375 56 \nz\n\" id=\"DejaVuSans-111\"/>\n     <path d=\"M 18.3125 70.21875 \nL 18.3125 54.6875 \nL 36.8125 54.6875 \nL 36.8125 47.703125 \nL 18.3125 47.703125 \nL 18.3125 18.015625 \nQ 18.3125 11.328125 20.140625 9.421875 \nQ 21.96875 7.515625 27.59375 7.515625 \nL 36.8125 7.515625 \nL 36.8125 0 \nL 27.59375 0 \nQ 17.1875 0 13.234375 3.875 \nQ 9.28125 7.765625 9.28125 18.015625 \nL 9.28125 47.703125 \nL 2.6875 47.703125 \nL 2.6875 54.6875 \nL 9.28125 54.6875 \nL 9.28125 70.21875 \nz\n\" id=\"DejaVuSans-116\"/>\n    </defs>\n    <g transform=\"translate(14.509894 16.318125)scale(0.12 -0.12)\">\n     <use xlink:href=\"#DejaVuSans-97\"/>\n     <use x=\"61.279297\" xlink:href=\"#DejaVuSans-110\"/>\n     <use x=\"124.658203\" xlink:href=\"#DejaVuSans-107\"/>\n     <use x=\"182.568359\" xlink:href=\"#DejaVuSans-108\"/>\n     <use x=\"210.351562\" xlink:href=\"#DejaVuSans-101\"/>\n     <use x=\"271.875\" xlink:href=\"#DejaVuSans-32\"/>\n     <use x=\"303.662109\" xlink:href=\"#DejaVuSans-98\"/>\n     <use x=\"367.138672\" xlink:href=\"#DejaVuSans-111\"/>\n     <use x=\"428.320312\" xlink:href=\"#DejaVuSans-111\"/>\n     <use x=\"489.501953\" xlink:href=\"#DejaVuSans-116\"/>\n    </g>\n   </g>\n  </g>\n  <g id=\"axes_2\">\n   <g id=\"patch_7\">\n    <path d=\"M 95.979245 93.384163 \nL 167.045283 93.384163 \nL 167.045283 22.318125 \nL 95.979245 22.318125 \nz\n\" style=\"fill:#ffffff;\"/>\n   </g>\n   <g clip-path=\"url(#p7ce564a380)\">\n    <image height=\"72\" id=\"image7bf5737127\" transform=\"scale(1 -1)translate(0 -72)\" width=\"72\" x=\"95.979245\" xlink:href=\"data:image/png;base64,\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\" y=\"-21.384163\"/>\n   </g>\n   <g id=\"patch_8\">\n    <path d=\"M 95.979245 93.384163 \nL 95.979245 22.318125 \n\" style=\"fill:none;stroke:#000000;stroke-linecap:square;stroke-linejoin:miter;stroke-width:0.8;\"/>\n   </g>\n   <g id=\"patch_9\">\n    <path d=\"M 167.045283 93.384163 \nL 167.045283 22.318125 \n\" style=\"fill:none;stroke:#000000;stroke-linecap:square;stroke-linejoin:miter;stroke-width:0.8;\"/>\n   </g>\n   <g id=\"patch_10\">\n    <path d=\"M 95.979245 93.384163 \nL 167.045283 93.384163 \n\" style=\"fill:none;stroke:#000000;stroke-linecap:square;stroke-linejoin:miter;stroke-width:0.8;\"/>\n   </g>\n   <g id=\"patch_11\">\n    <path d=\"M 95.979245 22.318125 \nL 167.045283 22.318125 \n\" style=\"fill:none;stroke:#000000;stroke-linecap:square;stroke-linejoin:miter;stroke-width:0.8;\"/>\n   </g>\n   <g id=\"text_2\">\n    <!-- t-shirt -->\n    <defs>\n     <path d=\"M 4.890625 31.390625 \nL 31.203125 31.390625 \nL 31.203125 23.390625 \nL 4.890625 23.390625 \nz\n\" id=\"DejaVuSans-45\"/>\n     <path d=\"M 44.28125 53.078125 \nL 44.28125 44.578125 \nQ 40.484375 46.53125 36.375 47.5 \nQ 32.28125 48.484375 27.875 48.484375 \nQ 21.1875 48.484375 17.84375 46.4375 \nQ 14.5 44.390625 14.5 40.28125 \nQ 14.5 37.15625 16.890625 35.375 \nQ 19.28125 33.59375 26.515625 31.984375 \nL 29.59375 31.296875 \nQ 39.15625 29.25 43.1875 25.515625 \nQ 47.21875 21.78125 47.21875 15.09375 \nQ 47.21875 7.46875 41.1875 3.015625 \nQ 35.15625 -1.421875 24.609375 -1.421875 \nQ 20.21875 -1.421875 15.453125 -0.5625 \nQ 10.6875 0.296875 5.421875 2 \nL 5.421875 11.28125 \nQ 10.40625 8.6875 15.234375 7.390625 \nQ 20.0625 6.109375 24.8125 6.109375 \nQ 31.15625 6.109375 34.5625 8.28125 \nQ 37.984375 10.453125 37.984375 14.40625 \nQ 37.984375 18.0625 35.515625 20.015625 \nQ 33.0625 21.96875 24.703125 23.78125 \nL 21.578125 24.515625 \nQ 13.234375 26.265625 9.515625 29.90625 \nQ 5.8125 33.546875 5.8125 39.890625 \nQ 5.8125 47.609375 11.28125 51.796875 \nQ 16.75 56 26.8125 56 \nQ 31.78125 56 36.171875 55.265625 \nQ 40.578125 54.546875 44.28125 53.078125 \nz\n\" id=\"DejaVuSans-115\"/>\n     <path d=\"M 54.890625 33.015625 \nL 54.890625 0 \nL 45.90625 0 \nL 45.90625 32.71875 \nQ 45.90625 40.484375 42.875 44.328125 \nQ 39.84375 48.1875 33.796875 48.1875 \nQ 26.515625 48.1875 22.3125 43.546875 \nQ 18.109375 38.921875 18.109375 30.90625 \nL 18.109375 0 \nL 9.078125 0 \nL 9.078125 75.984375 \nL 18.109375 75.984375 \nL 18.109375 46.1875 \nQ 21.34375 51.125 25.703125 53.5625 \nQ 30.078125 56 35.796875 56 \nQ 45.21875 56 50.046875 50.171875 \nQ 54.890625 44.34375 54.890625 33.015625 \nz\n\" id=\"DejaVuSans-104\"/>\n     <path d=\"M 9.421875 54.6875 \nL 18.40625 54.6875 \nL 18.40625 0 \nL 9.421875 0 \nz\nM 9.421875 75.984375 \nL 18.40625 75.984375 \nL 18.40625 64.59375 \nL 9.421875 64.59375 \nz\n\" id=\"DejaVuSans-105\"/>\n     <path d=\"M 41.109375 46.296875 \nQ 39.59375 47.171875 37.8125 47.578125 \nQ 36.03125 48 33.890625 48 \nQ 26.265625 48 22.1875 43.046875 \nQ 18.109375 38.09375 18.109375 28.8125 \nL 18.109375 0 \nL 9.078125 0 \nL 9.078125 54.6875 \nL 18.109375 54.6875 \nL 18.109375 46.1875 \nQ 20.953125 51.171875 25.484375 53.578125 \nQ 30.03125 56 36.53125 56 \nQ 37.453125 56 38.578125 55.875 \nQ 39.703125 55.765625 41.0625 55.515625 \nz\n\" id=\"DejaVuSans-114\"/>\n    </defs>\n    <g transform=\"translate(113.581639 16.318125)scale(0.12 -0.12)\">\n     <use xlink:href=\"#DejaVuSans-116\"/>\n     <use x=\"39.208984\" xlink:href=\"#DejaVuSans-45\"/>\n     <use x=\"75.292969\" xlink:href=\"#DejaVuSans-115\"/>\n     <use x=\"127.392578\" xlink:href=\"#DejaVuSans-104\"/>\n     <use x=\"190.771484\" xlink:href=\"#DejaVuSans-105\"/>\n     <use x=\"218.554688\" xlink:href=\"#DejaVuSans-114\"/>\n     <use x=\"259.667969\" xlink:href=\"#DejaVuSans-116\"/>\n    </g>\n   </g>\n  </g>\n  <g id=\"axes_3\">\n   <g id=\"patch_12\">\n    <path d=\"M 181.258491 93.384163 \nL 252.324528 93.384163 \nL 252.324528 22.318125 \nL 181.258491 22.318125 \nz\n\" style=\"fill:#ffffff;\"/>\n   </g>\n   <g clip-path=\"url(#pe092bbf4eb)\">\n    <image height=\"72\" id=\"image0cb73c85df\" transform=\"scale(1 -1)translate(0 -72)\" width=\"72\" x=\"181.258491\" xlink:href=\"data:image/png;base64,\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\" y=\"-21.384163\"/>\n   </g>\n   <g id=\"patch_13\">\n    <path d=\"M 181.258491 93.384163 \nL 181.258491 22.318125 \n\" style=\"fill:none;stroke:#000000;stroke-linecap:square;stroke-linejoin:miter;stroke-width:0.8;\"/>\n   </g>\n   <g id=\"patch_14\">\n    <path d=\"M 252.324528 93.384163 \nL 252.324528 22.318125 \n\" style=\"fill:none;stroke:#000000;stroke-linecap:square;stroke-linejoin:miter;stroke-width:0.8;\"/>\n   </g>\n   <g id=\"patch_15\">\n    <path d=\"M 181.258491 93.384163 \nL 252.324528 93.384163 \n\" style=\"fill:none;stroke:#000000;stroke-linecap:square;stroke-linejoin:miter;stroke-width:0.8;\"/>\n   </g>\n   <g id=\"patch_16\">\n    <path d=\"M 181.258491 22.318125 \nL 252.324528 22.318125 \n\" style=\"fill:none;stroke:#000000;stroke-linecap:square;stroke-linejoin:miter;stroke-width:0.8;\"/>\n   </g>\n   <g id=\"text_3\">\n    <!-- t-shirt -->\n    <g transform=\"translate(198.860884 16.318125)scale(0.12 -0.12)\">\n     <use xlink:href=\"#DejaVuSans-116\"/>\n     <use x=\"39.208984\" xlink:href=\"#DejaVuSans-45\"/>\n     <use x=\"75.292969\" xlink:href=\"#DejaVuSans-115\"/>\n     <use x=\"127.392578\" xlink:href=\"#DejaVuSans-104\"/>\n     <use x=\"190.771484\" xlink:href=\"#DejaVuSans-105\"/>\n     <use x=\"218.554688\" xlink:href=\"#DejaVuSans-114\"/>\n     <use x=\"259.667969\" xlink:href=\"#DejaVuSans-116\"/>\n    </g>\n   </g>\n  </g>\n  <g id=\"axes_4\">\n   <g id=\"patch_17\">\n    <path d=\"M 266.537736 93.384163 \nL 337.603774 93.384163 \nL 337.603774 22.318125 \nL 266.537736 22.318125 \nz\n\" style=\"fill:#ffffff;\"/>\n   </g>\n   <g clip-path=\"url(#pc735d63f98)\">\n    <image height=\"72\" id=\"imagec30fb8f72a\" transform=\"scale(1 -1)translate(0 -72)\" width=\"72\" x=\"266.537736\" xlink:href=\"data:image/png;base64,\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\" y=\"-21.384163\"/>\n   </g>\n   <g id=\"patch_18\">\n    <path d=\"M 266.537736 93.384163 \nL 266.537736 22.318125 \n\" style=\"fill:none;stroke:#000000;stroke-linecap:square;stroke-linejoin:miter;stroke-width:0.8;\"/>\n   </g>\n   <g id=\"patch_19\">\n    <path d=\"M 337.603774 93.384163 \nL 337.603774 22.318125 \n\" style=\"fill:none;stroke:#000000;stroke-linecap:square;stroke-linejoin:miter;stroke-width:0.8;\"/>\n   </g>\n   <g id=\"patch_20\">\n    <path d=\"M 266.537736 93.384163 \nL 337.603774 93.384163 \n\" style=\"fill:none;stroke:#000000;stroke-linecap:square;stroke-linejoin:miter;stroke-width:0.8;\"/>\n   </g>\n   <g id=\"patch_21\">\n    <path d=\"M 266.537736 22.318125 \nL 337.603774 22.318125 \n\" style=\"fill:none;stroke:#000000;stroke-linecap:square;stroke-linejoin:miter;stroke-width:0.8;\"/>\n   </g>\n   <g id=\"text_4\">\n    <!-- dress -->\n    <defs>\n     <path d=\"M 45.40625 46.390625 \nL 45.40625 75.984375 \nL 54.390625 75.984375 \nL 54.390625 0 \nL 45.40625 0 \nL 45.40625 8.203125 \nQ 42.578125 3.328125 38.25 0.953125 \nQ 33.9375 -1.421875 27.875 -1.421875 \nQ 17.96875 -1.421875 11.734375 6.484375 \nQ 5.515625 14.40625 5.515625 27.296875 \nQ 5.515625 40.1875 11.734375 48.09375 \nQ 17.96875 56 27.875 56 \nQ 33.9375 56 38.25 53.625 \nQ 42.578125 51.265625 45.40625 46.390625 \nz\nM 14.796875 27.296875 \nQ 14.796875 17.390625 18.875 11.75 \nQ 22.953125 6.109375 30.078125 6.109375 \nQ 37.203125 6.109375 41.296875 11.75 \nQ 45.40625 17.390625 45.40625 27.296875 \nQ 45.40625 37.203125 41.296875 42.84375 \nQ 37.203125 48.484375 30.078125 48.484375 \nQ 22.953125 48.484375 18.875 42.84375 \nQ 14.796875 37.203125 14.796875 27.296875 \nz\n\" id=\"DejaVuSans-100\"/>\n    </defs>\n    <g transform=\"translate(285.987005 16.318125)scale(0.12 -0.12)\">\n     <use xlink:href=\"#DejaVuSans-100\"/>\n     <use x=\"63.476562\" xlink:href=\"#DejaVuSans-114\"/>\n     <use x=\"102.339844\" xlink:href=\"#DejaVuSans-101\"/>\n     <use x=\"163.863281\" xlink:href=\"#DejaVuSans-115\"/>\n     <use x=\"215.962891\" xlink:href=\"#DejaVuSans-115\"/>\n    </g>\n   </g>\n  </g>\n  <g id=\"axes_5\">\n   <g id=\"patch_22\">\n    <path d=\"M 351.816981 93.384163 \nL 422.883019 93.384163 \nL 422.883019 22.318125 \nL 351.816981 22.318125 \nz\n\" style=\"fill:#ffffff;\"/>\n   </g>\n   <g clip-path=\"url(#pd3031af450)\">\n    <image height=\"72\" id=\"image014f98fb16\" transform=\"scale(1 -1)translate(0 -72)\" width=\"72\" x=\"351.816981\" xlink:href=\"data:image/png;base64,\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\" y=\"-21.384163\"/>\n   </g>\n   <g id=\"patch_23\">\n    <path d=\"M 351.816981 93.384163 \nL 351.816981 22.318125 \n\" style=\"fill:none;stroke:#000000;stroke-linecap:square;stroke-linejoin:miter;stroke-width:0.8;\"/>\n   </g>\n   <g id=\"patch_24\">\n    <path d=\"M 422.883019 93.384163 \nL 422.883019 22.318125 \n\" style=\"fill:none;stroke:#000000;stroke-linecap:square;stroke-linejoin:miter;stroke-width:0.8;\"/>\n   </g>\n   <g id=\"patch_25\">\n    <path d=\"M 351.816981 93.384163 \nL 422.883019 93.384163 \n\" style=\"fill:none;stroke:#000000;stroke-linecap:square;stroke-linejoin:miter;stroke-width:0.8;\"/>\n   </g>\n   <g id=\"patch_26\">\n    <path d=\"M 351.816981 22.318125 \nL 422.883019 22.318125 \n\" style=\"fill:none;stroke:#000000;stroke-linecap:square;stroke-linejoin:miter;stroke-width:0.8;\"/>\n   </g>\n   <g id=\"text_5\">\n    <!-- t-shirt -->\n    <g transform=\"translate(369.419375 16.318125)scale(0.12 -0.12)\">\n     <use xlink:href=\"#DejaVuSans-116\"/>\n     <use x=\"39.208984\" xlink:href=\"#DejaVuSans-45\"/>\n     <use x=\"75.292969\" xlink:href=\"#DejaVuSans-115\"/>\n     <use x=\"127.392578\" xlink:href=\"#DejaVuSans-104\"/>\n     <use x=\"190.771484\" xlink:href=\"#DejaVuSans-105\"/>\n     <use x=\"218.554688\" xlink:href=\"#DejaVuSans-114\"/>\n     <use x=\"259.667969\" xlink:href=\"#DejaVuSans-116\"/>\n    </g>\n   </g>\n  </g>\n  <g id=\"axes_6\">\n   <g id=\"patch_27\">\n    <path d=\"M 437.096226 93.384163 \nL 508.162264 93.384163 \nL 508.162264 22.318125 \nL 437.096226 22.318125 \nz\n\" style=\"fill:#ffffff;\"/>\n   </g>\n   <g clip-path=\"url(#p2e02c97e7e)\">\n    <image height=\"72\" id=\"image179ec06875\" transform=\"scale(1 -1)translate(0 -72)\" width=\"72\" x=\"437.096226\" xlink:href=\"data:image/png;base64,\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\" y=\"-21.384163\"/>\n   </g>\n   <g id=\"patch_28\">\n    <path d=\"M 437.096226 93.384163 \nL 437.096226 22.318125 \n\" style=\"fill:none;stroke:#000000;stroke-linecap:square;stroke-linejoin:miter;stroke-width:0.8;\"/>\n   </g>\n   <g id=\"patch_29\">\n    <path d=\"M 508.162264 93.384163 \nL 508.162264 22.318125 \n\" style=\"fill:none;stroke:#000000;stroke-linecap:square;stroke-linejoin:miter;stroke-width:0.8;\"/>\n   </g>\n   <g id=\"patch_30\">\n    <path d=\"M 437.096226 93.384163 \nL 508.162264 93.384163 \n\" style=\"fill:none;stroke:#000000;stroke-linecap:square;stroke-linejoin:miter;stroke-width:0.8;\"/>\n   </g>\n   <g id=\"patch_31\">\n    <path d=\"M 437.096226 22.318125 \nL 508.162264 22.318125 \n\" style=\"fill:none;stroke:#000000;stroke-linecap:square;stroke-linejoin:miter;stroke-width:0.8;\"/>\n   </g>\n   <g id=\"text_6\">\n    <!-- pullover -->\n    <defs>\n     <path d=\"M 18.109375 8.203125 \nL 18.109375 -20.796875 \nL 9.078125 -20.796875 \nL 9.078125 54.6875 \nL 18.109375 54.6875 \nL 18.109375 46.390625 \nQ 20.953125 51.265625 25.265625 53.625 \nQ 29.59375 56 35.59375 56 \nQ 45.5625 56 51.78125 48.09375 \nQ 58.015625 40.1875 58.015625 27.296875 \nQ 58.015625 14.40625 51.78125 6.484375 \nQ 45.5625 -1.421875 35.59375 -1.421875 \nQ 29.59375 -1.421875 25.265625 0.953125 \nQ 20.953125 3.328125 18.109375 8.203125 \nz\nM 48.6875 27.296875 \nQ 48.6875 37.203125 44.609375 42.84375 \nQ 40.53125 48.484375 33.40625 48.484375 \nQ 26.265625 48.484375 22.1875 42.84375 \nQ 18.109375 37.203125 18.109375 27.296875 \nQ 18.109375 17.390625 22.1875 11.75 \nQ 26.265625 6.109375 33.40625 6.109375 \nQ 40.53125 6.109375 44.609375 11.75 \nQ 48.6875 17.390625 48.6875 27.296875 \nz\n\" id=\"DejaVuSans-112\"/>\n     <path d=\"M 8.5 21.578125 \nL 8.5 54.6875 \nL 17.484375 54.6875 \nL 17.484375 21.921875 \nQ 17.484375 14.15625 20.5 10.265625 \nQ 23.53125 6.390625 29.59375 6.390625 \nQ 36.859375 6.390625 41.078125 11.03125 \nQ 45.3125 15.671875 45.3125 23.6875 \nL 45.3125 54.6875 \nL 54.296875 54.6875 \nL 54.296875 0 \nL 45.3125 0 \nL 45.3125 8.40625 \nQ 42.046875 3.421875 37.71875 1 \nQ 33.40625 -1.421875 27.6875 -1.421875 \nQ 18.265625 -1.421875 13.375 4.4375 \nQ 8.5 10.296875 8.5 21.578125 \nz\nM 31.109375 56 \nz\n\" id=\"DejaVuSans-117\"/>\n     <path d=\"M 2.984375 54.6875 \nL 12.5 54.6875 \nL 29.59375 8.796875 \nL 46.6875 54.6875 \nL 56.203125 54.6875 \nL 35.6875 0 \nL 23.484375 0 \nz\n\" id=\"DejaVuSans-118\"/>\n    </defs>\n    <g transform=\"translate(448.302995 16.318125)scale(0.12 -0.12)\">\n     <use xlink:href=\"#DejaVuSans-112\"/>\n     <use x=\"63.476562\" xlink:href=\"#DejaVuSans-117\"/>\n     <use x=\"126.855469\" xlink:href=\"#DejaVuSans-108\"/>\n     <use x=\"154.638672\" xlink:href=\"#DejaVuSans-108\"/>\n     <use x=\"182.421875\" xlink:href=\"#DejaVuSans-111\"/>\n     <use x=\"243.603516\" xlink:href=\"#DejaVuSans-118\"/>\n     <use x=\"302.783203\" xlink:href=\"#DejaVuSans-101\"/>\n     <use x=\"364.306641\" xlink:href=\"#DejaVuSans-114\"/>\n    </g>\n   </g>\n  </g>\n  <g id=\"axes_7\">\n   <g id=\"patch_32\">\n    <path d=\"M 522.375472 93.384163 \nL 593.441509 93.384163 \nL 593.441509 22.318125 \nL 522.375472 22.318125 \nz\n\" style=\"fill:#ffffff;\"/>\n   </g>\n   <g clip-path=\"url(#p41b057bc88)\">\n    <image height=\"72\" id=\"image5cebc6f77f\" transform=\"scale(1 -1)translate(0 -72)\" width=\"72\" x=\"522.375472\" xlink:href=\"data:image/png;base64,\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\" y=\"-21.384163\"/>\n   </g>\n   <g id=\"patch_33\">\n    <path d=\"M 522.375472 93.384163 \nL 522.375472 22.318125 \n\" style=\"fill:none;stroke:#000000;stroke-linecap:square;stroke-linejoin:miter;stroke-width:0.8;\"/>\n   </g>\n   <g id=\"patch_34\">\n    <path d=\"M 593.441509 93.384163 \nL 593.441509 22.318125 \n\" style=\"fill:none;stroke:#000000;stroke-linecap:square;stroke-linejoin:miter;stroke-width:0.8;\"/>\n   </g>\n   <g id=\"patch_35\">\n    <path d=\"M 522.375472 93.384163 \nL 593.441509 93.384163 \n\" style=\"fill:none;stroke:#000000;stroke-linecap:square;stroke-linejoin:miter;stroke-width:0.8;\"/>\n   </g>\n   <g id=\"patch_36\">\n    <path d=\"M 522.375472 22.318125 \nL 593.441509 22.318125 \n\" style=\"fill:none;stroke:#000000;stroke-linecap:square;stroke-linejoin:miter;stroke-width:0.8;\"/>\n   </g>\n   <g id=\"text_7\">\n    <!-- sneaker -->\n    <g transform=\"translate(534.196303 16.318125)scale(0.12 -0.12)\">\n     <use xlink:href=\"#DejaVuSans-115\"/>\n     <use x=\"52.099609\" xlink:href=\"#DejaVuSans-110\"/>\n     <use x=\"115.478516\" xlink:href=\"#DejaVuSans-101\"/>\n     <use x=\"177.001953\" xlink:href=\"#DejaVuSans-97\"/>\n     <use x=\"238.28125\" xlink:href=\"#DejaVuSans-107\"/>\n     <use x=\"292.566406\" xlink:href=\"#DejaVuSans-101\"/>\n     <use x=\"354.089844\" xlink:href=\"#DejaVuSans-114\"/>\n    </g>\n   </g>\n  </g>\n  <g id=\"axes_8\">\n   <g id=\"patch_37\">\n    <path d=\"M 607.654717 93.384163 \nL 678.720755 93.384163 \nL 678.720755 22.318125 \nL 607.654717 22.318125 \nz\n\" style=\"fill:#ffffff;\"/>\n   </g>\n   <g clip-path=\"url(#p0f337a0ffe)\">\n    <image height=\"72\" id=\"imagec507fa73c1\" transform=\"scale(1 -1)translate(0 -72)\" width=\"72\" x=\"607.654717\" xlink:href=\"data:image/png;base64,\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\" y=\"-21.384163\"/>\n   </g>\n   <g id=\"patch_38\">\n    <path d=\"M 607.654717 93.384163 \nL 607.654717 22.318125 \n\" style=\"fill:none;stroke:#000000;stroke-linecap:square;stroke-linejoin:miter;stroke-width:0.8;\"/>\n   </g>\n   <g id=\"patch_39\">\n    <path d=\"M 678.720755 93.384163 \nL 678.720755 22.318125 \n\" style=\"fill:none;stroke:#000000;stroke-linecap:square;stroke-linejoin:miter;stroke-width:0.8;\"/>\n   </g>\n   <g id=\"patch_40\">\n    <path d=\"M 607.654717 93.384163 \nL 678.720755 93.384163 \n\" style=\"fill:none;stroke:#000000;stroke-linecap:square;stroke-linejoin:miter;stroke-width:0.8;\"/>\n   </g>\n   <g id=\"patch_41\">\n    <path d=\"M 607.654717 22.318125 \nL 678.720755 22.318125 \n\" style=\"fill:none;stroke:#000000;stroke-linecap:square;stroke-linejoin:miter;stroke-width:0.8;\"/>\n   </g>\n   <g id=\"text_8\">\n    <!-- pullover -->\n    <g transform=\"translate(618.861486 16.318125)scale(0.12 -0.12)\">\n     <use xlink:href=\"#DejaVuSans-112\"/>\n     <use x=\"63.476562\" xlink:href=\"#DejaVuSans-117\"/>\n     <use x=\"126.855469\" xlink:href=\"#DejaVuSans-108\"/>\n     <use x=\"154.638672\" xlink:href=\"#DejaVuSans-108\"/>\n     <use x=\"182.421875\" xlink:href=\"#DejaVuSans-111\"/>\n     <use x=\"243.603516\" xlink:href=\"#DejaVuSans-118\"/>\n     <use x=\"302.783203\" xlink:href=\"#DejaVuSans-101\"/>\n     <use x=\"364.306641\" xlink:href=\"#DejaVuSans-114\"/>\n    </g>\n   </g>\n  </g>\n  <g id=\"axes_9\">\n   <g id=\"patch_42\">\n    <path d=\"M 692.933962 93.384163 \nL 764 93.384163 \nL 764 22.318125 \nL 692.933962 22.318125 \nz\n\" style=\"fill:#ffffff;\"/>\n   </g>\n   <g clip-path=\"url(#pc703e1e98f)\">\n    <image height=\"72\" id=\"imagefadc093bc6\" transform=\"scale(1 -1)translate(0 -72)\" width=\"72\" x=\"692.933962\" xlink:href=\"data:image/png;base64,\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\" y=\"-21.384163\"/>\n   </g>\n   <g id=\"patch_43\">\n    <path d=\"M 692.933962 93.384163 \nL 692.933962 22.318125 \n\" style=\"fill:none;stroke:#000000;stroke-linecap:square;stroke-linejoin:miter;stroke-width:0.8;\"/>\n   </g>\n   <g id=\"patch_44\">\n    <path d=\"M 764 93.384163 \nL 764 22.318125 \n\" style=\"fill:none;stroke:#000000;stroke-linecap:square;stroke-linejoin:miter;stroke-width:0.8;\"/>\n   </g>\n   <g id=\"patch_45\">\n    <path d=\"M 692.933962 93.384163 \nL 764 93.384163 \n\" style=\"fill:none;stroke:#000000;stroke-linecap:square;stroke-linejoin:miter;stroke-width:0.8;\"/>\n   </g>\n   <g id=\"patch_46\">\n    <path d=\"M 692.933962 22.318125 \nL 764 22.318125 \n\" style=\"fill:none;stroke:#000000;stroke-linecap:square;stroke-linejoin:miter;stroke-width:0.8;\"/>\n   </g>\n   <g id=\"text_9\">\n    <!-- sandal -->\n    <g transform=\"translate(708.709169 16.318125)scale(0.12 -0.12)\">\n     <use xlink:href=\"#DejaVuSans-115\"/>\n     <use x=\"52.099609\" xlink:href=\"#DejaVuSans-97\"/>\n     <use x=\"113.378906\" xlink:href=\"#DejaVuSans-110\"/>\n     <use x=\"176.757812\" xlink:href=\"#DejaVuSans-100\"/>\n     <use x=\"240.234375\" xlink:href=\"#DejaVuSans-97\"/>\n     <use x=\"301.513672\" xlink:href=\"#DejaVuSans-108\"/>\n    </g>\n   </g>\n  </g>\n  <g id=\"axes_10\">\n   <g id=\"patch_47\">\n    <path d=\"M 10.7 182.33689 \nL 81.766038 182.33689 \nL 81.766038 111.270852 \nL 10.7 111.270852 \nz\n\" style=\"fill:#ffffff;\"/>\n   </g>\n   <g clip-path=\"url(#p18dd0299ed)\">\n    <image height=\"72\" id=\"imagebc8ff64a5a\" transform=\"scale(1 -1)translate(0 -72)\" width=\"72\" x=\"10.7\" xlink:href=\"data:image/png;base64,\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\" y=\"-110.33689\"/>\n   </g>\n   <g id=\"patch_48\">\n    <path d=\"M 10.7 182.33689 \nL 10.7 111.270852 \n\" style=\"fill:none;stroke:#000000;stroke-linecap:square;stroke-linejoin:miter;stroke-width:0.8;\"/>\n   </g>\n   <g id=\"patch_49\">\n    <path d=\"M 81.766038 182.33689 \nL 81.766038 111.270852 \n\" style=\"fill:none;stroke:#000000;stroke-linecap:square;stroke-linejoin:miter;stroke-width:0.8;\"/>\n   </g>\n   <g id=\"patch_50\">\n    <path d=\"M 10.7 182.33689 \nL 81.766038 182.33689 \n\" style=\"fill:none;stroke:#000000;stroke-linecap:square;stroke-linejoin:miter;stroke-width:0.8;\"/>\n   </g>\n   <g id=\"patch_51\">\n    <path d=\"M 10.7 111.270852 \nL 81.766038 111.270852 \n\" style=\"fill:none;stroke:#000000;stroke-linecap:square;stroke-linejoin:miter;stroke-width:0.8;\"/>\n   </g>\n   <g id=\"text_10\">\n    <!-- sandal -->\n    <g transform=\"translate(26.475206 105.270852)scale(0.12 -0.12)\">\n     <use xlink:href=\"#DejaVuSans-115\"/>\n     <use x=\"52.099609\" xlink:href=\"#DejaVuSans-97\"/>\n     <use x=\"113.378906\" xlink:href=\"#DejaVuSans-110\"/>\n     <use x=\"176.757812\" xlink:href=\"#DejaVuSans-100\"/>\n     <use x=\"240.234375\" xlink:href=\"#DejaVuSans-97\"/>\n     <use x=\"301.513672\" xlink:href=\"#DejaVuSans-108\"/>\n    </g>\n   </g>\n  </g>\n  <g id=\"axes_11\">\n   <g id=\"patch_52\">\n    <path d=\"M 95.979245 182.33689 \nL 167.045283 182.33689 \nL 167.045283 111.270852 \nL 95.979245 111.270852 \nz\n\" style=\"fill:#ffffff;\"/>\n   </g>\n   <g clip-path=\"url(#p9d43414c57)\">\n    <image height=\"72\" id=\"image36aa4d26f3\" transform=\"scale(1 -1)translate(0 -72)\" width=\"72\" x=\"95.979245\" xlink:href=\"data:image/png;base64,\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\" y=\"-110.33689\"/>\n   </g>\n   <g id=\"patch_53\">\n    <path d=\"M 95.979245 182.33689 \nL 95.979245 111.270852 \n\" style=\"fill:none;stroke:#000000;stroke-linecap:square;stroke-linejoin:miter;stroke-width:0.8;\"/>\n   </g>\n   <g id=\"patch_54\">\n    <path d=\"M 167.045283 182.33689 \nL 167.045283 111.270852 \n\" style=\"fill:none;stroke:#000000;stroke-linecap:square;stroke-linejoin:miter;stroke-width:0.8;\"/>\n   </g>\n   <g id=\"patch_55\">\n    <path d=\"M 95.979245 182.33689 \nL 167.045283 182.33689 \n\" style=\"fill:none;stroke:#000000;stroke-linecap:square;stroke-linejoin:miter;stroke-width:0.8;\"/>\n   </g>\n   <g id=\"patch_56\">\n    <path d=\"M 95.979245 111.270852 \nL 167.045283 111.270852 \n\" style=\"fill:none;stroke:#000000;stroke-linecap:square;stroke-linejoin:miter;stroke-width:0.8;\"/>\n   </g>\n   <g id=\"text_11\">\n    <!-- t-shirt -->\n    <g transform=\"translate(113.581639 105.270852)scale(0.12 -0.12)\">\n     <use xlink:href=\"#DejaVuSans-116\"/>\n     <use x=\"39.208984\" xlink:href=\"#DejaVuSans-45\"/>\n     <use x=\"75.292969\" xlink:href=\"#DejaVuSans-115\"/>\n     <use x=\"127.392578\" xlink:href=\"#DejaVuSans-104\"/>\n     <use x=\"190.771484\" xlink:href=\"#DejaVuSans-105\"/>\n     <use x=\"218.554688\" xlink:href=\"#DejaVuSans-114\"/>\n     <use x=\"259.667969\" xlink:href=\"#DejaVuSans-116\"/>\n    </g>\n   </g>\n  </g>\n  <g id=\"axes_12\">\n   <g id=\"patch_57\">\n    <path d=\"M 181.258491 182.33689 \nL 252.324528 182.33689 \nL 252.324528 111.270852 \nL 181.258491 111.270852 \nz\n\" style=\"fill:#ffffff;\"/>\n   </g>\n   <g clip-path=\"url(#p8db8252fe0)\">\n    <image height=\"72\" id=\"image74f145be82\" transform=\"scale(1 -1)translate(0 -72)\" width=\"72\" x=\"181.258491\" xlink:href=\"data:image/png;base64,\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\" y=\"-110.33689\"/>\n   </g>\n   <g id=\"patch_58\">\n    <path d=\"M 181.258491 182.33689 \nL 181.258491 111.270852 \n\" style=\"fill:none;stroke:#000000;stroke-linecap:square;stroke-linejoin:miter;stroke-width:0.8;\"/>\n   </g>\n   <g id=\"patch_59\">\n    <path d=\"M 252.324528 182.33689 \nL 252.324528 111.270852 \n\" style=\"fill:none;stroke:#000000;stroke-linecap:square;stroke-linejoin:miter;stroke-width:0.8;\"/>\n   </g>\n   <g id=\"patch_60\">\n    <path d=\"M 181.258491 182.33689 \nL 252.324528 182.33689 \n\" style=\"fill:none;stroke:#000000;stroke-linecap:square;stroke-linejoin:miter;stroke-width:0.8;\"/>\n   </g>\n   <g id=\"patch_61\">\n    <path d=\"M 181.258491 111.270852 \nL 252.324528 111.270852 \n\" style=\"fill:none;stroke:#000000;stroke-linecap:square;stroke-linejoin:miter;stroke-width:0.8;\"/>\n   </g>\n   <g id=\"text_12\">\n    <!-- ankle boot -->\n    <g transform=\"translate(185.068384 105.270852)scale(0.12 -0.12)\">\n     <use xlink:href=\"#DejaVuSans-97\"/>\n     <use x=\"61.279297\" xlink:href=\"#DejaVuSans-110\"/>\n     <use x=\"124.658203\" xlink:href=\"#DejaVuSans-107\"/>\n     <use x=\"182.568359\" xlink:href=\"#DejaVuSans-108\"/>\n     <use x=\"210.351562\" xlink:href=\"#DejaVuSans-101\"/>\n     <use x=\"271.875\" xlink:href=\"#DejaVuSans-32\"/>\n     <use x=\"303.662109\" xlink:href=\"#DejaVuSans-98\"/>\n     <use x=\"367.138672\" xlink:href=\"#DejaVuSans-111\"/>\n     <use x=\"428.320312\" xlink:href=\"#DejaVuSans-111\"/>\n     <use x=\"489.501953\" xlink:href=\"#DejaVuSans-116\"/>\n    </g>\n   </g>\n  </g>\n  <g id=\"axes_13\">\n   <g id=\"patch_62\">\n    <path d=\"M 266.537736 182.33689 \nL 337.603774 182.33689 \nL 337.603774 111.270852 \nL 266.537736 111.270852 \nz\n\" style=\"fill:#ffffff;\"/>\n   </g>\n   <g clip-path=\"url(#pacb4ef75a2)\">\n    <image height=\"72\" id=\"image54dcf7b40a\" transform=\"scale(1 -1)translate(0 -72)\" width=\"72\" x=\"266.537736\" xlink:href=\"data:image/png;base64,\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\" y=\"-110.33689\"/>\n   </g>\n   <g id=\"patch_63\">\n    <path d=\"M 266.537736 182.33689 \nL 266.537736 111.270852 \n\" style=\"fill:none;stroke:#000000;stroke-linecap:square;stroke-linejoin:miter;stroke-width:0.8;\"/>\n   </g>\n   <g id=\"patch_64\">\n    <path d=\"M 337.603774 182.33689 \nL 337.603774 111.270852 \n\" style=\"fill:none;stroke:#000000;stroke-linecap:square;stroke-linejoin:miter;stroke-width:0.8;\"/>\n   </g>\n   <g id=\"patch_65\">\n    <path d=\"M 266.537736 182.33689 \nL 337.603774 182.33689 \n\" style=\"fill:none;stroke:#000000;stroke-linecap:square;stroke-linejoin:miter;stroke-width:0.8;\"/>\n   </g>\n   <g id=\"patch_66\">\n    <path d=\"M 266.537736 111.270852 \nL 337.603774 111.270852 \n\" style=\"fill:none;stroke:#000000;stroke-linecap:square;stroke-linejoin:miter;stroke-width:0.8;\"/>\n   </g>\n   <g id=\"text_13\">\n    <!-- sandal -->\n    <g transform=\"translate(282.312942 105.270852)scale(0.12 -0.12)\">\n     <use xlink:href=\"#DejaVuSans-115\"/>\n     <use x=\"52.099609\" xlink:href=\"#DejaVuSans-97\"/>\n     <use x=\"113.378906\" xlink:href=\"#DejaVuSans-110\"/>\n     <use x=\"176.757812\" xlink:href=\"#DejaVuSans-100\"/>\n     <use x=\"240.234375\" xlink:href=\"#DejaVuSans-97\"/>\n     <use x=\"301.513672\" xlink:href=\"#DejaVuSans-108\"/>\n    </g>\n   </g>\n  </g>\n  <g id=\"axes_14\">\n   <g id=\"patch_67\">\n    <path d=\"M 351.816981 182.33689 \nL 422.883019 182.33689 \nL 422.883019 111.270852 \nL 351.816981 111.270852 \nz\n\" style=\"fill:#ffffff;\"/>\n   </g>\n   <g clip-path=\"url(#p489b5dad2a)\">\n    <image height=\"72\" id=\"image22b59e0b8b\" transform=\"scale(1 -1)translate(0 -72)\" width=\"72\" x=\"351.816981\" xlink:href=\"data:image/png;base64,\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\" y=\"-110.33689\"/>\n   </g>\n   <g id=\"patch_68\">\n    <path d=\"M 351.816981 182.33689 \nL 351.816981 111.270852 \n\" style=\"fill:none;stroke:#000000;stroke-linecap:square;stroke-linejoin:miter;stroke-width:0.8;\"/>\n   </g>\n   <g id=\"patch_69\">\n    <path d=\"M 422.883019 182.33689 \nL 422.883019 111.270852 \n\" style=\"fill:none;stroke:#000000;stroke-linecap:square;stroke-linejoin:miter;stroke-width:0.8;\"/>\n   </g>\n   <g id=\"patch_70\">\n    <path d=\"M 351.816981 182.33689 \nL 422.883019 182.33689 \n\" style=\"fill:none;stroke:#000000;stroke-linecap:square;stroke-linejoin:miter;stroke-width:0.8;\"/>\n   </g>\n   <g id=\"patch_71\">\n    <path d=\"M 351.816981 111.270852 \nL 422.883019 111.270852 \n\" style=\"fill:none;stroke:#000000;stroke-linecap:square;stroke-linejoin:miter;stroke-width:0.8;\"/>\n   </g>\n   <g id=\"text_14\">\n    <!-- sandal -->\n    <g transform=\"translate(367.592188 105.270852)scale(0.12 -0.12)\">\n     <use xlink:href=\"#DejaVuSans-115\"/>\n     <use x=\"52.099609\" xlink:href=\"#DejaVuSans-97\"/>\n     <use x=\"113.378906\" xlink:href=\"#DejaVuSans-110\"/>\n     <use x=\"176.757812\" xlink:href=\"#DejaVuSans-100\"/>\n     <use x=\"240.234375\" xlink:href=\"#DejaVuSans-97\"/>\n     <use x=\"301.513672\" xlink:href=\"#DejaVuSans-108\"/>\n    </g>\n   </g>\n  </g>\n  <g id=\"axes_15\">\n   <g id=\"patch_72\">\n    <path d=\"M 437.096226 182.33689 \nL 508.162264 182.33689 \nL 508.162264 111.270852 \nL 437.096226 111.270852 \nz\n\" style=\"fill:#ffffff;\"/>\n   </g>\n   <g clip-path=\"url(#p4cec2371ee)\">\n    <image height=\"72\" id=\"imageb7d813a7c1\" transform=\"scale(1 -1)translate(0 -72)\" width=\"72\" x=\"437.096226\" xlink:href=\"data:image/png;base64,\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\" y=\"-110.33689\"/>\n   </g>\n   <g id=\"patch_73\">\n    <path d=\"M 437.096226 182.33689 \nL 437.096226 111.270852 \n\" style=\"fill:none;stroke:#000000;stroke-linecap:square;stroke-linejoin:miter;stroke-width:0.8;\"/>\n   </g>\n   <g id=\"patch_74\">\n    <path d=\"M 508.162264 182.33689 \nL 508.162264 111.270852 \n\" style=\"fill:none;stroke:#000000;stroke-linecap:square;stroke-linejoin:miter;stroke-width:0.8;\"/>\n   </g>\n   <g id=\"patch_75\">\n    <path d=\"M 437.096226 182.33689 \nL 508.162264 182.33689 \n\" style=\"fill:none;stroke:#000000;stroke-linecap:square;stroke-linejoin:miter;stroke-width:0.8;\"/>\n   </g>\n   <g id=\"patch_76\">\n    <path d=\"M 437.096226 111.270852 \nL 508.162264 111.270852 \n\" style=\"fill:none;stroke:#000000;stroke-linecap:square;stroke-linejoin:miter;stroke-width:0.8;\"/>\n   </g>\n   <g id=\"text_15\">\n    <!-- sneaker -->\n    <g transform=\"translate(448.917058 105.270852)scale(0.12 -0.12)\">\n     <use xlink:href=\"#DejaVuSans-115\"/>\n     <use x=\"52.099609\" xlink:href=\"#DejaVuSans-110\"/>\n     <use x=\"115.478516\" xlink:href=\"#DejaVuSans-101\"/>\n     <use x=\"177.001953\" xlink:href=\"#DejaVuSans-97\"/>\n     <use x=\"238.28125\" xlink:href=\"#DejaVuSans-107\"/>\n     <use x=\"292.566406\" xlink:href=\"#DejaVuSans-101\"/>\n     <use x=\"354.089844\" xlink:href=\"#DejaVuSans-114\"/>\n    </g>\n   </g>\n  </g>\n  <g id=\"axes_16\">\n   <g id=\"patch_77\">\n    <path d=\"M 522.375472 182.33689 \nL 593.441509 182.33689 \nL 593.441509 111.270852 \nL 522.375472 111.270852 \nz\n\" style=\"fill:#ffffff;\"/>\n   </g>\n   <g clip-path=\"url(#p5895fc384f)\">\n    <image height=\"72\" id=\"image44c696fea1\" transform=\"scale(1 -1)translate(0 -72)\" width=\"72\" x=\"522.375472\" xlink:href=\"data:image/png;base64,\niVBORw0KGgoAAAANSUhEUgAAAEgAAABICAYAAABV7bNHAAAABHNCSVQICAgIfAhkiAAAFRhJREFUeJztm8uPJNeV3n/n3nhkRmZWZdaj2U+KLVLkUCJFSwNTM6MRBA8My55ZDWBg4J033njlxfwP3towvLFhzMZeSPDOizEwsAEP5IEFzYiyJfPd7G72o6q6XpmVr3jchxc3IiqrH6yWORK5qAMkoioqMu6NL875znfPuSV/X/6x58KeaeqLnsCX3S4AOscuADrHLgA6xy4AOscuADrHLgA6xy4AOseiz/NliSLQGhGBOA5HrUEJND9DOC/y5A180Ki+qqAyeGtxyxyc/TzTAhFUmobx/WM62Ll66Pq8q4/e4Y154lZnAWoe4vGbPs2URl+7gr00xHQi8u0EkwrlQKgGgovAZOASj1fhyCpGDsSBWKG7J2SPHJ0jS/bTO9j9/eeBIcz3KXPVwyHVN75CtR4jFsQ4xIM4Dz78roxDrEdKg1QWmS+xD/fwVfkZAP0KJkpwowHzGxllTzG7Lpi+p9ywdLaWJLHhpeGYjXTOWlSwmcyI5dQzKq9Z2IS5Tflvn7zK8naPbCem914Gz4OPCIgC3BMgSS9j+lKH5aZCGVCVDwAZEB9+16VHWYgWDlU6kkON7B8+J0C1J+mNEVzaxCcR1aiL6Wm8ElwsuEiYXVUsL3lc6rEbJVFqGfZyLvVnpJHhSnfCWpSTKkOmSpQ4NOFhLEKmSvq64OVLB9zRjpNRl53iKt3Dy3SODMnBAskr/MM93HR6do7eB3CeYr7XZfqiYnnVIpWgSkHqy8WBOEGsQhzopUaXEC0T0lfXiHJP78Mj7Ee3wbvHAKrfhEQRiMJ99Rp73xlQrEPx+pJXruwwSHKudif0dcGL6SEvJQdYBOsD31c+ovK6BqE5p8ldDEAsFi2OWCwdqYjF8P3++wxeyhm7Lu9/7yoH1YAfffwt/DsjOoeey/8d+OAxgFbm+7iZrT6d3z3gn978G46rHodVD+cVzgsOIRJHV5cYr3mU95mWHdLIsJnOOS4y7v7oZS7fe4i39hQgiaIAjFJImoJWLDdSlttQjixfu7LPD154l63ohFeTPTJVcVlbRqpD5S0TV5J7mPqIsesEUHxM5SNyF1NKGKoBJxZDR5XEWG5EJ1yPUqxf8mbyPlPn+ejKJf7qYR9EYzZ6RGtreGsDkTqPN9UzAXKx4spgyre7d9iP19g3a1gE5xUWoSOGgV5iveJ+ssGJ6bAZz3mts8Oh7fOv114OBN8CJIK88SrHb6xhusJySzA9T7ltuPqVXdbTnNfXdonFUvmIB2ZELIZ7JoSMRZjaLhaF9YJDYb2i8hpLOBa1B62GmZIQIg/NiKFehHN12LyUHXL0xj2OlhkfXdsgGn+D7r6wftsSzyzd93Yx9+4/FSBVWu6Nh/x49Br75YDdfIDzZ7OokjAH4zQOYZzO6KiKie2iS/Blia9MA5Bi+vKAvd93RGsl33npDm8OHjCK5lyLjwAY2x5TGzxj16zjvGLhEqa2g/NC4SIsikyVpCqkS1eH3uOTgxB2ldft35xXpKpiFC+IxXIz3eft67cAyF+JcV7xZ/e/y+2f3iA90Fw7GsKzAKoc00mXX5xc5WDZ53Ce4b0gNSjOCdaG8E8TQxJZChMxiHPmJkWVgLXgLFH01ZfwkWZ+WdPZnDLsL9hKZ6SqQuPIXYIWd4ZXnD/Vl7FYXE3qFkWsbDiH4OrvNH8LQEh7XAXHIa23KXwbohofPmLZ7s74cLvCJhGH3xywPvg2qnSovAqpfJ4jy4LlKAUcsyqlcqdz9fV4zfFxadbMSVYiN7r3x1fxCpZ/Z8k/+63/RaZKbC1YJjZjYrMWCCXuDDiZKslUWQNQZ76VLLWwKRU6fFwYPAAsKPGtm4dUHe5rvaJCc2T6TGyGEkemSmKxvLV2jxe/fUThIsa/lzG3CfenQx7sjJBFRO/uiP49x3JLgeQcLnpYFzxHxOOcwnsQ8URROJdEliQyiHiM1yxtDKsALa44vIIb28d8q3sHLY475TYTm53JPpku6GDOgBGLRdeckTbuW4OAV2hxwZM4+6oCyO5UF4lqBW2ASyh8hHWqHsPjRLEdTXkt3SERy7aeMlAVP8uv8597v83ufI2HdhtVaKq1AEJpggdr8a23NqF25lOPW9V8hAdfTyjyClBgnGLqumhxTF2Hqe20E9a15+Q1ZTl/SsIOQeHpqKol4IZ8lThScSjnUdrjECqnsersElB5j1bhOw03NXKgeSEKYWwz5i5F4zjUfXqq4MR1udk7ZDOdk37d8OhGn25keHVtQj8uWJiYhUmonGZRxRirsU6wdehZJ5RochMzqTqclB2UOX1bUXjZHuvDBLQ4JiZjZlNisWS6bCeO14F0a/I9MR3mJiVSlrUoJxZLqswTYMXatim2kqj9fsNrDsGKask+oHaqmZxXFF6Ru5iZTXFe6Oqqnl/BN7IHdKTin2z+hG09J/eae2aDuUu5X25wL99gaWP2iz5LE7OsYhZljPeCsRpTO/JxkTErE9TKkiyKTwSvhHmRtBPW4lp+aATgaphUTp8ha7fysDGnywmLQA3M00yLw3oV+IiG2OWU0OvvB7z8mcynnMeJoMUFGlBQriQFhUPXYZyqCofQ0dWZjOo5TRqdyLCeLFF4DmIQrfHeEV39cYXTwr3+OpOXM9Z1SLMDnbdvbNWclxYMJY5eVOC8wjiNIYRGrG1L0o23PMtOhaMNGazmC4tiYZN6nEazqFa3OKtYAmOTcXe5CUAvKujrgo6qWNdLYgmusBbldH1FJJbCRWjxRGJR4tuxR/Gcryb77JsB/2bzRVSviy8jou6Hj/CRJnn7CrmLyVTUkmclZ7VK4y2NN0X1za14Shdh6+uUhKwUBOLZ1Uxzb7WSSxW+zZJNFrOe9kU0WaVZKlgvrTJe2piTKmixRBki5RhEBTezA/o6xyKnoaolrAt1WQNoyVRBLIZL0ZTX4kP24xTT8xBFCBD52RyJIvr3PP/x/77NoL/k61t7XOuOA7LRAl2n2lRVFC7myPRwXsh0OOe8akWkEs/EZDiEpY3bc5oQthaFxq2ArkCowTkNkTNeVmdKLWeBBYiVbcGLlCUWR6pNy3GFi8ld3Hq+8yFR5BK3DhCLZU3nxAI9MVQDh7txGakskT0aI0rYfGcLXQ5YbmW8872I+JrlUjrlenJEpgpejI/Y0AuObMaH5WUKF7Ou5wz1gspHHNo+ldccVAP2y0H7pp0P4jFRBnx4UIde4bgGBI/j6WurxuOUeLpSBY7EtwK2p4tWWzXXujrEFy4J2mblPo97NcBAL+mIoJVFbRWcvDpAWU+Es3gv6NmS7kGGF+HRUcat/hbHnYxlL6arK6auy3Z0wtj22CmH9TrrNPQ0DoSWFC2BL6o6hB5/2Me943FbDesGnIYvgDMyIFWmvb7x0PAinp4cmutWx1rlySiyVJkgTmph4z3sH5JVhu6nHbqH6xTrL7ATCfeTr+I1mJ5gUzDdsLr3iSdeLxiuLRh1lvzdzbtcSca80tnl9/sTKq/5qLjMkQmetXAJzkvNNeFhO6qqAXBthircabmkuXag85ajVpU6QCqngnPhEiqrQRQxAUylPJkqcQi5izG1/mmOkQrftyimzuOA0WDB+MYAcSsFMzuewHgSBn0XzuQupdHra0jWxV7Z4PjrA8qBsHxBs7+VcjTs8fLaAVvxlGvRMW+nnsLnWP+IWCxT16GqQvaJlW2FZVNEa7hiFaRYbDv5hv9WLfCJCqDV2arhmiAbApCZLsLasBa3Ts5KCeU9WoIXLeoXM+os2du20HrQeeYdvixBCepkSbbXIZlqoqUiPY6o+hF/PnuTv+j/Fi9e+ibf2bxDpktG0ZyOVAxUziDNsShmtsPCJS2JqjobxWI/Uw6smnvGdbFYujoA2fAUNPx2qu+UeFRdS2q8VImnWr2vAMo/L0Aet1jAMkdmc7qPDkBr1uIYogi0wndSfBwxe/UK/+WV6+Qbnjd/72P+aPsX3IgPeTM5xgJ/lV/j4/wyEEICIFUVHTFY9WzOaIBpQqv92St0HWIdVREr03pLA44Sh6rTvRXVaq/HrazFrxKPjzy4X6Vo7z14iy8stiiefo0IffUaNhmiCsX96ZCd4ZChXqBljAYSse1DVPVCuHkI/TzdFE49SK+QfwPCKmCrHtlc23jWauJwK6CH4+mLOh+gp/WzVm31obxH9o5YB/r3OhzNtvjhxh8wv2H5yuu7vJBN+Z3hJ7zV+ZSp6/KwGlF5XXtQBQrWo+UZ3VIRCL7RKyF7nb59teINGkdFIPl2rbeSJFNVEfuzZL9wSTtepsJSxDqFWqqzJP2Z4MgzuMG7J3pTdu8RPNpHgK2fhIxivvsG9//eNe5sG278zjF/Mvgle3bG3CVMXbct3gP0dU6qqlBLskHY5S6IuoasV6WBEk9H6gU1oaqpkJbwAXDBc1JVocW01YYmFBtd1BELAqXT6EJ+hRDz7jNAekpYNB3TulMZj3OynRRVRvyPnVe4lJyQqZJNPeNyFCRB+QwV/bhyfpq5OiOtaptVC+R8thTT6LbVMeKazHMToRfyHB50Jnw+Rzv41j2uTOa4QZf93S3+w4s/wH5twb99+z/xZnLMJybjTrVNVa+/qvqNNrXtRhBCzRMrUW9Xprhawm2sAafppDTLnvBMp/eOxdJTgvWeybxLb8cj9nP25p/X3HSKm05RWcZo1EWXHQ7WO2hxbOiUh/ZsT3xVAa+C05ZeVgAIZeBTFd0S7RmV/3Tl3ugljQuZDQGBqoyIZ/45POjzmAiiAwd5a4OWqgzxwwnDwlKM+vz73e/z7vAWG9GMoZ4zpcv9coOZTUmVeSIVN2CFcHFPhF9MFR6w5p+mXLxwSagnKd2WcNOakDNdECvDQOVYPHPnMeOEtdsLxDzeWf3bxqjZ/WEVrqzC7o3bnyK3YTN7i5+8+TK3rmzxB9c+5I/X/wZbt5LGVcYwXpBFZbsgtbVqbsKleetw6lmxGBKxlHVHRIlrF6wAHV89Vh52DFSOFsdALam8Z+oj0gON+j8f48vy1wuQ9x7x/nSriXf4ut4bLSqiwx6H8YCj7R4dMXU2szUQ/kx4wVmdos9RH23qXw1Br6CpOXkNAh0JEsOhOHKaXTNAlRIah8b8GgHyPgzSZD9/9mGj+4dc/XGH5VbCz7eucf2qIZUJW/H0TK0JCOm+bUIGkm5Ku6u1bQgZTRE8wqHaNZ5ri3keFDgrpKpiU8/Y0DOObJ+/Xtzk7nKTZLIyz18bQNCq76eZm5zQ+7BDetTnzqzDQCVUvmg7s6mq2kUmNG//6cO0C0/C/p/GM5SEUDKubg7UIFVOgyJ0W8TRURW5ibm12ObOdINo6U/bPn+LcPxqVlXIdE4UR1TLPnu2YO4UiRgyXaDrIv1qxnIIuY/QdZtoNUWvZjI85MQoHzoiUV11TJU5U02IxZLUfDa2GbcmW+yNB4yWq22fL8hcnuP29tFVhZqM+KRaA6jDIw+7Qnx0ZuFZeY21p4vN2IeiWSP6Sh/VdetA0hA8r1mxZ7pslyuNh8Zi0HgOqgH390bIQUI6OaWDL86DIOxFNAaVC7fKS3RUReWjwBOeVjCuaprVVhAEABpPSsS04dZw1KKWC43mUa2qbj7BW5Y2xi818VJQlWs584sFCPBlxfot+Jfv/ENGawt+cP09bqb7LFzCsVndF+BbMJpQsy6UMGIsiRi2oxM21Ty0o8Sg8HxUbfEBV9pQrVxErG2bJS1C7mN28nXS3Zhs15NMTrfhffEAWUv/oWH5y4zDyyn7l/rcTPepvGZu00C8Omy0WgWpchFOFE5UaFsLDNWC61Eovq+rDrFoCn/Mw2pE7mMKF9fNyVC3VoSUX6I5qTqkR9A9cOhp0bY/v3CAcJ5kXJHtRrhEY5ymp4pWxzThFSp+uq0lx7ElU6FauR2dkIjl0PbZt4HL2oKZOK7Gx1Q+Yt8MWLgUJa7e/aZJxIKCpYnRhSdaeqhMuw79zQO0Wl/yYStdfGuH7eN1dLFB8Q8iLkcTDm1/pREZivwzm3JQ9ImVZRQvGOoFl6MJbyWHaBF+ePJ1/uLgdeZVwv6shzGaf3TzXf50+y8B+EU5YtesM3Vdjk0PCFmv9JqTvEM68aTHJbI8LQh+MR4k6lQ4eo+bLxDvSeZDSqfbksTTzHgFjnYTqMJRAbnzfFpscG88ZFnEFOMOWOH2pU2mW1LXpVWb1lcXvg6FdUJiPFLZdrM5fBlCDPB5Ac4RzSwPZ+u8m19jpxyytDG6bvQ13diwQ7XiK8kBb6UP+PPZG/yLn/8Jy3GH7t2E3n3PuoEod4iDT977Gn9440+x64bvvvERvzu8hcZxJRmjcQz1goFast7NmWcK00+IktNG4xcHkKhWZfuqxFcl0dywO8u4lV/ixHQoXYTCY7SmIGq7tKky3IgPeT3J+FeLF8j+64Art0vSuzu4O/daFQyw1u8hgz7lKy/w03/+Yrv38nI0piMVayqnI4b1JGfSBdtV+PgUli8OIP9kGCnjKJYx95YjFJ5IXNt7h7B7Yxgv6KiKB2bE/8yP+WD8Ap2xIx7nyHz5xP9buKJAaU00KbCfrvOj7FtcWzvhW8N7ZCq0pnqqYHc+IJl54plBytMe3G8eoM9Yn8myQj3o87PoBpc3TvjmxsN2mQBwM93ne9nH5F7z7/a/z88e3WD8y01eef8Y+fThU7stvixx1qLuOF75oaLcWOPT17b45W9fI8lKet2CXlKx/8EWX/tgjvp0Dzedtd//UnBQY2It0ULIpwnLQUxUh9PpFuOCq9ozdiUPFkMOdtfoHwpqPMWcnDz9pt7jjcFOTlDvfkIniRnqV5lfTygGmrIXM00NybFCHc9wR+NQ4KvtywVQUdE5ApdGjPsZk60uCs/Oco1FlfDzw+v8mXhO8pT5O5tsfwK9nRI/m51/c+/xlQHnyO5OuPTXI2yqMGmKj1L6Dw2MT9rqZ2NfKoAoSrJHYfPVeJQwKTsYr7l7NCJfJMijlP5dRTz13HxnAh/ewVuLLcvz702TDID3b7H2SZ2p6g2l7X0e69J8qQDyZUU8s6QxpAea9/Yu45xQHnbQC0XnQNE9cCRTh5rMMYvF/99AzuLy5+vSfKkAcicn9P73A3ppwvD9HuVfhq3IOi9RxqGWFepkAZXBHY9/I3P6UgHkiwLz4GH7e/zY3x3P+g+xX59d/FPvOXYB0Dl2AdA5dgHQOXYB0Dl2AdA5dgHQOXYB0Dl2AdA5dgHQOXYB0Dn2/wBPdAaa06+LXAAAAABJRU5ErkJggg==\" y=\"-110.33689\"/>\n   </g>\n   <g id=\"patch_78\">\n    <path d=\"M 522.375472 182.33689 \nL 522.375472 111.270852 \n\" style=\"fill:none;stroke:#000000;stroke-linecap:square;stroke-linejoin:miter;stroke-width:0.8;\"/>\n   </g>\n   <g id=\"patch_79\">\n    <path d=\"M 593.441509 182.33689 \nL 593.441509 111.270852 \n\" style=\"fill:none;stroke:#000000;stroke-linecap:square;stroke-linejoin:miter;stroke-width:0.8;\"/>\n   </g>\n   <g id=\"patch_80\">\n    <path d=\"M 522.375472 182.33689 \nL 593.441509 182.33689 \n\" style=\"fill:none;stroke:#000000;stroke-linecap:square;stroke-linejoin:miter;stroke-width:0.8;\"/>\n   </g>\n   <g id=\"patch_81\">\n    <path d=\"M 522.375472 111.270852 \nL 593.441509 111.270852 \n\" style=\"fill:none;stroke:#000000;stroke-linecap:square;stroke-linejoin:miter;stroke-width:0.8;\"/>\n   </g>\n   <g id=\"text_16\">\n    <!-- ankle boot -->\n    <g transform=\"translate(526.185366 105.270852)scale(0.12 -0.12)\">\n     <use xlink:href=\"#DejaVuSans-97\"/>\n     <use x=\"61.279297\" xlink:href=\"#DejaVuSans-110\"/>\n     <use x=\"124.658203\" xlink:href=\"#DejaVuSans-107\"/>\n     <use x=\"182.568359\" xlink:href=\"#DejaVuSans-108\"/>\n     <use x=\"210.351562\" xlink:href=\"#DejaVuSans-101\"/>\n     <use x=\"271.875\" xlink:href=\"#DejaVuSans-32\"/>\n     <use x=\"303.662109\" xlink:href=\"#DejaVuSans-98\"/>\n     <use x=\"367.138672\" xlink:href=\"#DejaVuSans-111\"/>\n     <use x=\"428.320312\" xlink:href=\"#DejaVuSans-111\"/>\n     <use x=\"489.501953\" xlink:href=\"#DejaVuSans-116\"/>\n    </g>\n   </g>\n  </g>\n  <g id=\"axes_17\">\n   <g id=\"patch_82\">\n    <path d=\"M 607.654717 182.33689 \nL 678.720755 182.33689 \nL 678.720755 111.270852 \nL 607.654717 111.270852 \nz\n\" style=\"fill:#ffffff;\"/>\n   </g>\n   <g clip-path=\"url(#p19c1285b40)\">\n    <image height=\"72\" id=\"imageeaac79c56d\" transform=\"scale(1 -1)translate(0 -72)\" width=\"72\" x=\"607.654717\" xlink:href=\"data:image/png;base64,\niVBORw0KGgoAAAANSUhEUgAAAEgAAABICAYAAABV7bNHAAAABHNCSVQICAgIfAhkiAAAEUJJREFUeJzVnEuPI8lxx38RmVlVJJvDee2OtLJegA3DkA8CfPPBJ9s3n+xP60/gi6GbYQmCBFsr78PaeXXzUZWZET5kkc2Z2REWXlKYDaBBNpudrIyKxz/+EUn5e/kX54ISf/xDph89ZdokvvpZZHzsuALqWAQeTSxvRna/v+HpvyvDi8rNfz6n/vLXbQEN7dEN3EEE6TokRu7+8a/59J8qw3rkZjGySJk+Fh71O4opv/j1j1n8tmP5ufPsXz+l/NfvvvV+9Fuv8LaIzI/txxUQx6U9yvyDML/2TZaUt36/v6fK2f2Vi95rAOJFVxPBVwv2H3ccHiq7H1S6ZzusKmaKivPx49d8tNjyyxLYfrKmLCKLz5dNse6INmW4KXgFUWS1RIaBaa0sN3c8udmRQiWKsUojT/st1YXFemR8nAh7xdNltnZZBQF13bP7WDk8Fh7++CV/8+xTXuWBF+MSxfnLzRf8cHiOivGLHy4o68D4254ezqxPgdqehoDcrPDVgnEjfPLwNd9fvmKyyFQDj7o9n/QvAXi2ueW/94lpO8CFFHR5FwPOrV7FUHEUJ6iRpJKk0oUK0bDwDa5CBFcFaS4V3uNKOrvuN3HbbyoXtyA9FNIW6gB324HP9hvGEtnmjqjGXe25qwPFFILj0XGVZjVWcXNErQVpABVQhai4wGSBfU0cSqK4sq+JXe1QcXY5YWNAJwG7TDy6uIIwI0yOTkLJgW3uyDVQrIXTySLZA+aCqONhznJn4m9tzlXw2f2qKcWU4vePFaV6+xtVkErLgBeQ67gYNHeIxipN9LEcX6LTwlInhlDQ6BB40yWOlnNcRgS6hC0iliCoEbW5LXB6PD0Pjgfu49m3lKsqqOsKT/oti5hPqbnXwibsWKcDIdbZgs42436PgQBCwJYd5SZhHXTaspfibygn0BQn0fDgzTUvIJdXkN3DEREnihGl3n+gtI2FIx7SGSOdi7/rYhYE17ZmC/w2b8BJUk/rnvDVheTiMUjcEfOmKIGk9Y07bS7YvIMYjTFZy1DvE1U8Kh4Fj9CFSq+VgxrRjT4UNnFHksoyTYRoeORiLnb5IO2O2KwocaK8qSCAip7SvrztYl+3pAoWBde2Xjpzs04Laz2QpLa4FgwTPmAFQcNBs06OynEXKlA8kL3VW12saLR3sti5iAielNoLFnlH2XCv8GvI5RVUDS2zFUmLDwC5Kiow1shoCYBVN7EfEhYX718vBMoyMN0I1nvLYHOAVjHMdYYNiiGnOu9ScjULkq+xIMPJrtTZZFKoBP3jFoQKlgRLMBveO2KuMAdtuTCSvkIWmy2oQlRjE/YMIQNNSZNF7moPwKbbsx7GRoO89woD00oZHwo2GObCaBFzecfdolRUDVc/ActvKxdXkFRDiiEGMRjrcKDX5mbuwlQDd7XHEDbpwMNh37LO+9YLSl4Jee3I0NYpZyZ3TPftuaN6WRe7HlA8foC8iYyLB8rsK1ErnZaGb8J7/EcED829JDQEHY8YaLagijQ3o8W9DxoHncuxelexlsVcGEvkdR5YhMzDtGPqIrUTJEVww0t5a5FA7YW6qnR9YREyvRZKUKjt8kdLKI65ENXabb/Qrb+qBak4gXsLaoFaKK6YS6M9tLSrCKFV9F8TOzyARycEa/jnrVKjzhns9P7vigWZCxWlWCDXQK3KPid2saPTgorTa8ESyHKBiFDvamMSjxKU2oEsCkOXTy67r4m70lNcWYRMwJgs4i4XZV6vqiCfy4rsSs4Bq8pYIvuSWMZIkkqvhZpAVo12lf0BtzMFiVAH6JeZVZdPZNmudLweB6Ya6LQQxNmX1MqY74qCjmKuuMmssDf/puKg4DEgMb5bhYvg0elSIaiRLVBFONTIWANBjWIB5kyp3wmg+JZMFig54FUwezfsWXJsPaC0bHauQ4+BsnR+sr4lhcqLaUGxwPP9krt9TxkCm25PN2slhoaDLiV/IgsSvArU+0reziKpB7Auoim+G6RF8M7Z9HuKKbvSkS1wyJE8RcZYKR6IfkTSR176Ay1WXeXkJtWUnfXc5R4OAalCLo1+PSLiYi0ITw+7dkFvdyNE8Ghs0oFXeWCcImOJmGnrsZ299esK2W8rV7Egn0mrqQRu68CrcSC+DojDNEVyDUwWGY/89NLYfxRBIabuzcVUkN74qLtlWzq2U8eYI2YCM0l2nvIvHYOu11mlJZPRItW0pV4DXHDuIQCAB6f2UDtFgr67njY4oOJUU+rsniL3XVa7JPg5k6vFIDE4HBKfjZt2x6Mj1jaRazhZEYAMlcOTiGaFlN5aSAjReBy3DRKYnNwrhBZ3DjU2ADq77iXT/NWQtDjUHHg1DVTTFojjjHxNmCy0lO1C6Cp57eSVwNsWBIRYWYc9fShU0+ZegGpjLasrUw3tc44KulDb5zqU68woujV6Q6Q1CPHmEjZvpPHTgRArpQPraE1CaKAxBDwFVB2dS5a296M7Oe5yRqA1GrfhhQ80i4k5UhwtjhdlX5rL+GDgLYgWU7K1rqiK03eFcVPIrxMeW1UvXYf2PXWIhFDopLaCdLagtn/BoxDU6LSSQ20NygvioMu7mHsj7B2we9xDaC2e9hZprjKnm6CGdIYlP7mYiECKeNATvXr2EWdWdL6Z+9bPB2tB7eo5BUr3VmJggAllCrjLXCIoMRhPVjtEnBevHuPp3oJksaAOrZz42o85ayEd5dJY6LIKmgOjnMWh08smYIJnpZiQu0CxgMaJJ8OWdTrw/MH6pCBSxBc9tVfCmcu0AawW3+A9Ces7UYvNlmQnC7pPv0frP7pNFEODI+qnP0rXUR8sKEslhnq2rLyToKop9jVWdgm5josd28/WOOhSFKnNzTw16jTM9GkSQ7WxjiHZEf3hjzfc/fSGu08Cz7pxbu+0AO0zDgIwUyYLUBpXLR+0i70tswVxjEEOyJE4vC8PWqe0ImonNtCGyHSj5FVrD51Q9/wGdzkp48hUXkOuTtoDZ+CtlQ2qRhA/kWmdFh6lHV1XW6ErSl12HB4L+YGzjBPQWMRpjJRDxGZmQMS56UYe9Tv6UP74hfw/5LoWJGdZ5UiFqhOioTPRZa70Wnga7+hTxjUiQFlFxidOflRZxxGAQ03YPkIWDNC57/+43/Igjo0hqJfd0p/EghpH46exX1VDpcWMY48rSXkjW1kUagekFquOU2ltQRBtPbAYaotjYt8RumPOQkdlRDU0WCs1cGI0uliRcw55CQ/Drg12zv+fV0p9kllu9qgYL+uyUavRACUtMqvFyINhPCnGZgB6SbmOix1roeOEq/rJVjUYcc5gud43C5NU4hykVVsvPi0nVsNEEGe01IYT5rnGlCrLLrOI952O0+zRB1/NGyfQ+HVmf8w+db7jo0W21pGPvBFQO2G9OrAZDtyVjt+PD9mXhARHotHFQh9LaxTSGgPnU2aXkuvgoKPIEfm+iYRPDb/ZHbal51VdcciR1fz/ZRB+unnBpjvwahp4Pq64mzpCbKBx0WVWaToNRpzXdZeU6wbpOYu9r248csrFlZ11lBruy5MAy5hZzAooszJTqqRUCTPVepR6XpNdMFhfLUgjAsHpQ+tnId7o1jlOpFBZpkwQY1s6frV9xnY7oKWAKB7haX/HTRhPtMgQCk8Wu1M2myygYuxrOuGqKDYPcn6o1Ty0RqC0kmII+R2zdxcE6EOh08KhJnalo+4DlAYKLcAm7tmEPS/DkupCr60TawhfHm64y32bFrFAocWhD3/CzB1qq+ZFnS7UN/CNe6Ncq8spi3VaiMGQZBCOlSwsdWKpI71mksxHD/KC4srtNLDNHYuUuYn3qb66wgXD0HVmFKeKVEeCs44jXSztrno75lRMkRK4k45Uje+tRr43vCYNBY+KaBvYfJZesdYDX8QN2QNfjmv+527DVAO7KVFK4GYx8mTYniwr1zCjdr9Itr8Oo2jzECetEH3jpAFzcTl3IGzmlJNUYqzURUQfPMA6GCQz6ESYcU6xRs5PJVBKYwmqtf+PZ1jogx5e8Cmju4kwtsnVTmescuLZhVr1NG2fZq7HXPjpk+f8xz//iPgPf87jn3/J43BHJvD5uOG/d4/Y5u4EDUIwRJwhFR52exY6cRt7tqH7wGNQnpD9SBgNp53NOGUxGtll1pqHKdTTJH5F+dnmM/72737DoJk/677iSdjyeX3AH6YVn9+tT9MhIm0c2EQYYmEdDyx14nnIzZIuOMR5eQuqhuTSYhCthEhakej4sXUzp/tqStVWsE7W5oUGzSx1pJPK0TnXcWQzHFoff3bN1gcTktbTIb1rDJNfwcUm/PUtYfcYUeFx3PK439GvJnIOCGBVqbXFE2jDUPGtadXJA7c2APBXq8941r9uU2W1Z7LI/x5u2OaOB92BdWgWdE+tcLEgfYUsVvFpauPAEug104dCjLW5V9V7npoWe04H41w4D+nHgfNNaIdVdqEjFmu1W2kH9bqTBZU2eX9hZvEKLjYfxs2VWjpelSXQaqeoRp0z2M0w8qMHL1jHkXU6sIn7dmJHJwJG9sittUA/aD5lshwCSRKbdEDFedrf8Ul6QZLaBqt2C+QQwC4Dhq4CFL0UNFfqpLyqbZPrfqQmPR3N/Gix5ecPPmUTd6x1z0onKsLOeqorB0tkCSjGoJmVjihGpU3HWicswsQP+hf8MH1FwDGE2+1A3AtSPlQFnYu1ISloZUUVpQ+t8r5JI8swstLxNJhp8zmO42mgihIwBvIbyx7Zw14LSSoBP9VkZYqkzAc8vHCUapCVP4w3qBjfX7w+barXzKO046N4yyCZWxt4Xm6aBc3HFBRn0HyKL0Edm3FtwFnqdHJJgOyBz7cP0C87+heCjPmPXd03lqtakNQ2jbqME+vUDr1t4p6lTtyEw8ltJo/c1gFD2NWOijJoBoOqwhqlvhV8kxaCG520TkZF2U4dcavEnX/AMego7sgk3E4DNlfiR8xylE7K6fd1OHDwyK52jVt2xaSdwThYQjG21jNaIntoMcpblpxo3ZGpBHQCzTQLvoBcb8KsGmEUnu+XjDWi4nTzLPNokUNIp4C71IlN2JKs5wUrsgeS11Oa31lP9sjOOm7rQPbAbRnY18SgmeyhDVHlSDpAHL8rFlThkCMxVA61zQntazqNqYyWMNF2ZkP01D0F3nouMB/lzN6mZMca2zcwWCLP56lqUYYRwsR3QEGlkl4Ld18t2S/bZGoXK5v+wCqNDKEw9q28eKULklayhUa9WmhYSAJGK26DGLd14GVeMFnkq3HFNneswsR21VMR8ouezW8y3YsJ3+8vso3rKciMuAO9jdQq3IkTU211lAUWMRO1HfFWsXe+sKRypEPCqXG4r4nbPDBZ4Hbq2U4dt0NP9sDkgfg6sPj9S/R2jx3Gi2zjqgoSo32PhsCwmOhj46H7UFjGicfdjl7LKZ0rzjKMnB9GqMj9oV0X9rEjWmAXG/XRaRtsyB7RDLI9wP6Af+hBGkCzo1mo0fnkwWtu0j01+rTf8heLL1jrngfh0NC0THwS9wwivDR4XgcOnviq3rC1rmEfrRzmU9OdVh6kA9kDO+tJW8E/+xIbx1PJ8633cJFVvk7mIC0F8NaCPmYxm08ftqPc9+BPxRhE6EVJZ1bUgnN8AwsFcaI2qzuib6ng49hOLX7oSNrHiZvPC0jklsRvHz6mT4UxR0oJhGD8W/zJ3Jo2wkzwP11sGWLmUNJ85Cny1XbJNEX6rrAeRqIa4ewbYH4Vv8fLvCBcJuy8IddT0DQxfLFH80DtOl5+vGTfG74L6KTUAiVLO+4+E44W4bPl/Uw1gGShe6XEEfYPndfPJkJnLJYjq37CXPidPuJ1Hgijv/PdQ99Wrjxh5mBtLJh5tlDOhqlOyrH2XNTnaVhOB0+PgV7q/evn3mPzdNm1zmr8Hz91zwJmNaxPAAAAAElFTkSuQmCC\" y=\"-110.33689\"/>\n   </g>\n   <g id=\"patch_83\">\n    <path d=\"M 607.654717 182.33689 \nL 607.654717 111.270852 \n\" style=\"fill:none;stroke:#000000;stroke-linecap:square;stroke-linejoin:miter;stroke-width:0.8;\"/>\n   </g>\n   <g id=\"patch_84\">\n    <path d=\"M 678.720755 182.33689 \nL 678.720755 111.270852 \n\" style=\"fill:none;stroke:#000000;stroke-linecap:square;stroke-linejoin:miter;stroke-width:0.8;\"/>\n   </g>\n   <g id=\"patch_85\">\n    <path d=\"M 607.654717 182.33689 \nL 678.720755 182.33689 \n\" style=\"fill:none;stroke:#000000;stroke-linecap:square;stroke-linejoin:miter;stroke-width:0.8;\"/>\n   </g>\n   <g id=\"patch_86\">\n    <path d=\"M 607.654717 111.270852 \nL 678.720755 111.270852 \n\" style=\"fill:none;stroke:#000000;stroke-linecap:square;stroke-linejoin:miter;stroke-width:0.8;\"/>\n   </g>\n   <g id=\"text_17\">\n    <!-- trouser -->\n    <g transform=\"translate(621.746173 105.270852)scale(0.12 -0.12)\">\n     <use xlink:href=\"#DejaVuSans-116\"/>\n     <use x=\"39.208984\" xlink:href=\"#DejaVuSans-114\"/>\n     <use x=\"78.072266\" xlink:href=\"#DejaVuSans-111\"/>\n     <use x=\"139.253906\" xlink:href=\"#DejaVuSans-117\"/>\n     <use x=\"202.632812\" xlink:href=\"#DejaVuSans-115\"/>\n     <use x=\"254.732422\" xlink:href=\"#DejaVuSans-101\"/>\n     <use x=\"316.255859\" xlink:href=\"#DejaVuSans-114\"/>\n    </g>\n   </g>\n  </g>\n  <g id=\"axes_18\">\n   <g id=\"patch_87\">\n    <path d=\"M 692.933962 182.33689 \nL 764 182.33689 \nL 764 111.270852 \nL 692.933962 111.270852 \nz\n\" style=\"fill:#ffffff;\"/>\n   </g>\n   <g clip-path=\"url(#pf23f3cb647)\">\n    <image height=\"72\" id=\"image6047f166e3\" transform=\"scale(1 -1)translate(0 -72)\" width=\"72\" x=\"692.933962\" xlink:href=\"data:image/png;base64,\niVBORw0KGgoAAAANSUhEUgAAAEgAAABICAYAAABV7bNHAAAABHNCSVQICAgIfAhkiAAAE79JREFUeJzNnN+PJNd13z/33PrVPT0/dna5y6UoSiJDSZCjBPKDgcRC8mIDfnCAPPgPsP89I68BAiQPeRAcIEASKY5sGJTMFSlyOZzd+dUz3V1V957jh1vVXd0zs5yd7Y15gN6ara6uqvut8/N7zy33J+4vjC1K9u4T9MkhOspZPKoIYyFUjnYM5h2agXmwDGIBJqClpf0CiGFu46QC5kBakMYhAfKpI5uDi4Y0IAFGJ5HitCG7bOC3n6PT6fUbdA7s7kPO7o3ETRdyDrzHMsHEJSCk+3jXbQf7ZDV4E8BZt+3OZ+lvE+u2rtsOfm8ugSqgmUvX9g5xmyjfT+4HkPjuDwUzZDxG3n2MTipO/uUBJz9xaAFxpFiuuCpS7jSIKGYOM4eIUmUR54wii2SiiDNyHxFnqDnUHOKMzCnOGYuQc9UURHUsmpxZEGLr0ascFxyudbhQMv6q4v15izwLWBuwtkm3ew/QXh8g53A+AWQx/ePGI+b/4hGLw4yvfq785R//gv1sBoDHeJKf8cP8a8QZJ3HMhVZ4p+TEdIxTPIY4pSAiTmnNExEAKtfiMa6s4CyOUQRBAfgqHPD/rr7DPBYcFlccZlf89bOfMf/1PqPjU5jNVgANxnBXM7u/ia1dsDMpATLjSX7OgZ/RmEcRdqQmd2lA4nQJSA9OL2oCLqIm3ffpO48tjx9KOo+Su0iQiEeR/nxmYHqDG5C0/45yf4DE0SkAaMTXEd8IREdEWFjOSZgw04Kjdp9P5F3UhJOwwzzmZKKMpVkDSDC8S4PMXSR3cQmAd8pZHPOi3aU1j3ae/CJUPJ/v00RPtHdQc5w83+fR6QKdXkKMN9z83eWePui6LbtgSDCcOtSEaMI0VlzGEjXXDUo4a0csYkYhkZ2sWT1xwDtDOlMrJTD2zQo0jPM44kU9oTUhqEdxzELBRV3RqjBvcuo2w194ZNaidX1vYHrZjomp4aIirXUa5Jb+o5fkeCGXSDAhk0guERmYjrjkqHutKV0AWGmVRjKJoKBOkhPHcM7wzijzQOaVeWXg/zmj2KbEiDQRqRUXPLXm5C6irN+kOCVzSiGBUiKFBHJ33QTEGWPfMPbrGpC7yMi3NM5ol3E+HY8o47yh8JHj8T6WybXz3ke2cxYAM5yCe0VwEGedk+62XHeWMjjBbc5ZbtjX/7aQ8OqbeE25nwaprfkhM8PVyVG7UBBNUkRiMOCNyKEmtOaTj0GXxwVNv4vSbXHUmhNNqDUjqKftzq/mUFK+ZF3epOa4norfX+5vYjp4Sqq4GHFtxBkoyQ/10g9eN248gahr7mLTdwG05gefzkEPADFzBJUOpO0ZBWzLxMwgRFyruAix155bTCH2T3p4Ixtm0YM8HLB2ACgrzRmeR3EEEwYp1BvLVpy0xYjMa0QEaVchHcCjRJI5pG33cYbiEBI4vVPvU4LYmSB0GqQpsw4mxE5jgvk1kLTbj34bTGwoahBCSspueXI9SJuaAwmglDDK0sT0FeZy+36XtHeL/MT9ADJNKfvg/9a2uLrlhqg98BeyNAMZOO0+7+lNUy0B1WtQvAEQHfid3jyjClFTNu/MtoLT/TXIdBmZTA1rWsga3CtsX3FL/zOMctJl0N5pZ2JCUFlGshvP1UUxAOcMAVoV2uhx4fU4n1fJdkwMQBViF8VsPYL1zlqwtYH1+/twnf5+FSjuVgev3fchdj7oNoBeo1CFbQFkmjRIJEUxhIhLGtE53lLC0mSCeoKs32g0odVVGMevKv1aM1rzBPPpt52pQtKe3EXMHFdaULcZ0nKzLzT7/8gobl7YNGnRpgaxMqH+u80SJCJdWO980A21XC83hfdeg8wcMQpOkw/ahmzNxEwtJYvdfalJAqXTotb8srQIKsuMuZfYZ8ZdGF/7rk8TBvszpyDpXHXMOge9vfC+vM7WzqQRs+xmDerKCXVJe6LKht9xtPj1aDdMAG09t+prugwICHXIlrnRtmV7AEGiPazzQX2i2GmQOPvG/KQ3tbV9A7CG5cWm2HDfq67zmqb3+gCZYXr7RVyEaVsxloaJr1d0xuDhBktZ8DLkc33AwTyzWAAsHXQf/m+KdM5ZqsXUfUsSRbj+NCw56XZQJohTcpIm9FHpNi3YlFX2LR2Yskw214k2W/kncwnub5uTBsAJmsOTcsrj4gLf5T0AlbSg6wVsP+DoDCEO9rs1nzL0VaEzuUx0LY/qtUfNIf/sGvQKiSX8ePSch9klX7X7TLUid5HKtcmxSlxxPyaICRlx6aNiZ3JBPdEPK/lUqNYx67QvUEgCNVrn+FWw6FI2vyUN2r7bd5C7QN7xycPIs8kOxhsi1lB6U9wM+0MZOueUjrmtUR3wFjQIg5mWFDEy05KZFuQuUrgAAqVEso6cT+D0c1+9f9pMAWTJIkJH4HffhQH4zhkxeGzh8bWDuB2U7qdBZreqsFNYWM7CcmZasNCc1vxyjkuc4of+44YIdo15ZKVpPRj9cUpyyuIMVYdrBAl8S510Jz3h1ecw0YSF5kQE76ybh9ekAbpeoA7NKpi/du5rzGN3bNTt8kC9bB0gp9BqxkLyJY9cW8ZMyyVPXUjyT030BCfUPluG9NBFtqCJRQSWPqinRmA9aQzR0wSf/M92Ofu3o0FDk+g1KDUjrAa64oSu+4oh53yT9L8HOqL+rSgP8JacdJ8klhKWVflMi2X5UUik6aaOdYNX7uW2DBtSgdqq77ZCiB5VwYmhWd9j9G2aWR2Is5Q1Rxy5i4ylQXFLZw1p+nmtvrqFLIt2ff/SrDr2sI0dwJ15kSmWsTWAtp8HGcxjTq053imVtAiW6ildTQcNzeQmlnBThlomXd0Vuwy6F+fSiLY5NbZdgEyRFo7qPV60E0ppeZRNqaRlHnPmWiAYO1lN3mXBffHZTwqmm1ovR0L3UXPLHKpVoW6z5JzNJV7aR3wZ0dzAb2doW9cgF2EWcmrN8FjSIKepGte+gLUNEO6uPcN9UdenJkUMEd3qqLbugyQa07ZiGirEadddFtfMaJU1d0UmrpsEXB9Z6ABdN69VJq295gz4beeg9Xx7fZALcL6oOG8qAHZlnmZNTVYm5FY+qA/nq+mgdee94qDTb/sqvm8GNXP4rj8o80qeBywz7FsbxRRCFBpdP/UmhQo9j9PvW2cT78oZLa/bgWTWRbMtPfq3YGJw1eRcNiW15te+b02QLvfpp5zVHLX69ULVhNBZTj8HLzhko8bqTUwceEl13nluN5vYcN8da7Xtm5gaIaQELt5YiMot2iLLMgNW2fhmg8KNg3CdBomSi2L+FoBgNWV+RxPcfh7UXbu/fDTBo5Q+LFuB226ScCjXZku7Zs7NaLfeNNXv70uOjoW8TTn6+bv+7zvI1gEy10WWvqhEEGfs+JqdLPUcNpotuRxY+Z/1yUAlk8RApmNWWfXwuES1pjmxqIm7dq+cer6dqrlJ3sgHyc4OblSB97gsgyKn2XXkeST3MXXPc70X8VUM4atEzaW5tY3fu44jsq6yN2eEvYr8yeNOvVJDuc0XaWlCjKB365++N0CuLJn/+59w/K9zwo7RPA7IOHB48IIfPXjBYTHjUXZB4SKR1F84j8XSzwwj2XLw30CtKinzjn3JIolbKro1H9N5RVNnMIo8+/MKX3+EtA5pIbuCh39XUxxd4c+mhC+/uhNI9wcoyzj9OGfn58d8sHfKXz39BR9mJ/xD+5hfzT6gkpY9v1g2itedWd2mPTcBtNnb2NdfQ6pVJJkikILDLMePAt/52XP2ygUXdcX5vOL8fEy2KNlzUALu6BjbGkDOIeMxrirh4QNmHx3S7HmmH0V+MLng/fEZBzJjV5R3/AU/KL8GoDHPcdjjMlZrBNhQezYZwhVgQlBbpgPaTwxy/bdrU85duTEpah6WV1S+ZZynlUYXPygJo5LqSc7uwU/w8xb57Gvi8fGbAeS8xz19TDyccPyHE0b/8YifHj7nT8sLHmWXPMnP+DCb8ciP2JWaD7NnnKnwN/MP+X1zyGkYM4/5mmOGxCz2AGxKMEm9Pv2Niqamh7gqTjOvqMG8yZdli+RKWQY+2Dnl/fKUvGtWPz8c87cH7/FiPuGrs12+PhqTn4/44L/kyJsChPfYuKQ9KKkPHX/25Df8u91/YGE5jXke+ksqJ+TOM6Ygl0hLQ2uey1guwbkJjNs0CL5Z05wzMIexmv5xYt0as0glLWOpu09DPcl4XF2S+8inwdNKSaz8K0P5nQCSsuT8R/uc/tAz/35LKSGt+cIoXIpWC1MudcHMIldqHGvJSZhwESrmMV/6mH6B3G1sYT/tfxMo0hH+ao5xtzVztF23yMLnNMGT+chXiz1qzdjLFjzIZrTmOQtjLkPB0XQCX4wYnTryy/krx343DSpyLr7nif/qku8eTMldZBpH7Po5O92M6cIADUzNcRJHvNQdzuOIq1AutWdt4N1yywTKev5zG+PVlybesVyhOCTvU8Ga4UV5udjhoqk4LGe0VepMu2grFjHj6rJifOQoTw0/rXmVq74bQCFQvTTmn4/5MnhO3xlzmF3SWkZjHtGcE1eQO2WmOVdWsNBiY+A3mFbXld8PdLXVa9THGri3yHDOrA4ZrfPXks1MFAtCMTXKqUHTvnLodwJIL694/N8+59H/mvD1v3nAJ+8/5lF+2fUBORThWfvOqgBFmWlJrVlaZumUzN084GVZ4FYDSOe5/lyD+sH3HenmVhroRcl9pI2e83mFquOyLjgtRhQ+8mQ8ZTersbln/7cN5Ys5nJ6/OUAWAuHz38PnMPneHzFty8HaidRgeRImtOY7x9iwsGxNC/JBo8Fw/5CbHmoS3FCfOUXNX2Mkh7KsAaMQQrcgRoVR0S7vwwVHcd4gZ5do3dx4ntcC6DZZNXxnS8DQVKDWlk7tNwbT5zRDadWvaVI693qmLc4IKojZtbUara6WaGaiRHN43835+1Wmfdmm1Y9+JsjFHJteYs1bBAhYTgi25qk1oyZbYwuzwWLeoaz5GGHFV3dIhUHw7Yn61LSZllA1HSjRhHmbeKes44Nyc+Q+gZL7SNYtNb9sSuYhJ7tycHZBPDn9xsL1tat5F4wXlzv8dvYOJ2FnOdhNxjARXB1l0S2i6z83AXb9xuyWUN8Dvmov7iPatXslcUX9AzufV3w9nZAtSOtK7lDVv7YGVcdz6l894L8/3+XDj7/iPzz9v2salLu4vPlM4tqaDOjag7uVPpCi1ZDQH5rUUpsGD6DwEYjddJFDRfCd447LHsaOr+6u6Z0xqwsu/vGA4lQ4/DRi3+B77g2QXNWMnxvSZBw/3VkxgJ3zHbbTeTYWvaQj06abfU0a4Vc11sYi3+H5+ySzO7C75qqNpg7rwNgA9KBCeSKMnxvVy3Dn5eKvDZC7uGL/032qs4zn35/w4nsTcolMspoJdbecYMUW9lzQZuf8sMGh0YwmphCe+7QSutaMRZeBz0JBVCH3kcqv8pa1PIuOciUmbrrTxDILjLKW09mI7CXsf9pQHl2ibXg7AIXnR1Rn54z3djn94Yd89geHHBZXfL96ycQvOA07nISdV4br3qx6or6JnlkoqHxgP18w8g11kzELBW30XDQlTfBUeWC3kJX/2YiQvS/KnDIeNWnpedcX+cXFHpPPAsX/+Ht0+D6PbQOERvTqCoD8Ej6bPmAxzni3uGDS8T+9aS2ZRLdq6W3xgOJx5E5RZxRegLSku+yq75FvWfiMzCmNptwnl5WDzjrnf5NzFmdLNuAiZixixsV0zIOrgM5mrzXce4d5a1oe/58FL+unHL33LuHnnj968AyAia/xTtn3s2Ujeb9A7jTsLBvEJU+11YPsikOfSpeTuEOrGR+OjnnoLwG40pSYHrX7PJs/pFXPTlYz8i2eFWFWSUvuIr+bP+Rvfv995pclxe9K9n8DTy8i5SdfcDfD2gZAoaX8+y94erTP+R884LOfHvDx7piJr9nPEjDvZFN2pE5vYrCUUPavrcg7OqKUlh+XX/Jxfs6ZZvxy8T5THfHj8kt+WlwsPZcC/7tO3FKjGQfZLHXydxqXu8iO1FSu5UU7YXYyJj/OeOeXys5//iVW168NzhsBBGB1g7uaMzqecPzrQ/7Tyz/EeUMyJcsi7x5MOSjnPChnfKc6Wz7hXb+glJYDP6NyLQcyp3JppeGn9WOOmj3UhMp9uvZmhoXlfFCesNB8uYLo06tH/N3pE+ZNThs9MQrz84qd3+SUp0b1df1GLzh5gyWZRjy/wF1eUZye8/Fnh1iZd5Nijrhbcvqjp5weOn791Kg+Pmd/tOCPn/wjPxv/jgM/47vZGZWL7ItjVwo+Mc8vXnzEF6f7PHt4yNGDvdShT4pS7xWn/NvxJ0Qcf7v4Lp/VD/mfzz9A/usDxsfK4XFD/nKGa89xl3NoW/Rqhob76M6bAgRpCZRGYtvAxcXaV/5gn73RR8znBZoJlw/HtLue5/t7fFBOiAi7MqdygcYCU6151n6Po+mE+XnFF9k+e8Vi6Yx9l1y+l50C8CLsclTvcTmteO95ZPzlnOzzF4QvvnyjIW2K2/ZL3pYnLkv8e++iOyPCwxGzJyWhcsweO9pd0vvKHKvy24GfOSZfGPnMaMeOduLWjoklhFH6O5uDr2F0rDz41Qnu4go9v9jKi92G8la6XIHkFD/9XZoRASZOcN7z8GAfN66gabGrWZrEixHrO+NN0+rFG95RBKwy88GK63jTm6Zgff79niC9NYCW0t+URcw0vYAgRKxtsabBQjfTuXHzr7k4+a3JPwHVq940kOJ+VgAAAABJRU5ErkJggg==\" y=\"-110.33689\"/>\n   </g>\n   <g id=\"patch_88\">\n    <path d=\"M 692.933962 182.33689 \nL 692.933962 111.270852 \n\" style=\"fill:none;stroke:#000000;stroke-linecap:square;stroke-linejoin:miter;stroke-width:0.8;\"/>\n   </g>\n   <g id=\"patch_89\">\n    <path d=\"M 764 182.33689 \nL 764 111.270852 \n\" style=\"fill:none;stroke:#000000;stroke-linecap:square;stroke-linejoin:miter;stroke-width:0.8;\"/>\n   </g>\n   <g id=\"patch_90\">\n    <path d=\"M 692.933962 182.33689 \nL 764 182.33689 \n\" style=\"fill:none;stroke:#000000;stroke-linecap:square;stroke-linejoin:miter;stroke-width:0.8;\"/>\n   </g>\n   <g id=\"patch_91\">\n    <path d=\"M 692.933962 111.270852 \nL 764 111.270852 \n\" style=\"fill:none;stroke:#000000;stroke-linecap:square;stroke-linejoin:miter;stroke-width:0.8;\"/>\n   </g>\n   <g id=\"text_18\">\n    <!-- t-shirt -->\n    <g transform=\"translate(710.536356 105.270852)scale(0.12 -0.12)\">\n     <use xlink:href=\"#DejaVuSans-116\"/>\n     <use x=\"39.208984\" xlink:href=\"#DejaVuSans-45\"/>\n     <use x=\"75.292969\" xlink:href=\"#DejaVuSans-115\"/>\n     <use x=\"127.392578\" xlink:href=\"#DejaVuSans-104\"/>\n     <use x=\"190.771484\" xlink:href=\"#DejaVuSans-105\"/>\n     <use x=\"218.554688\" xlink:href=\"#DejaVuSans-114\"/>\n     <use x=\"259.667969\" xlink:href=\"#DejaVuSans-116\"/>\n    </g>\n   </g>\n  </g>\n </g>\n <defs>\n  <clipPath id=\"pb7c1420eb3\">\n   <rect height=\"71.066038\" width=\"71.066038\" x=\"10.7\" y=\"22.318125\"/>\n  </clipPath>\n  <clipPath id=\"p7ce564a380\">\n   <rect height=\"71.066038\" width=\"71.066038\" x=\"95.979245\" y=\"22.318125\"/>\n  </clipPath>\n  <clipPath id=\"pe092bbf4eb\">\n   <rect height=\"71.066038\" width=\"71.066038\" x=\"181.258491\" y=\"22.318125\"/>\n  </clipPath>\n  <clipPath id=\"pc735d63f98\">\n   <rect height=\"71.066038\" width=\"71.066038\" x=\"266.537736\" y=\"22.318125\"/>\n  </clipPath>\n  <clipPath id=\"pd3031af450\">\n   <rect height=\"71.066038\" width=\"71.066038\" x=\"351.816981\" y=\"22.318125\"/>\n  </clipPath>\n  <clipPath id=\"p2e02c97e7e\">\n   <rect height=\"71.066038\" width=\"71.066038\" x=\"437.096226\" y=\"22.318125\"/>\n  </clipPath>\n  <clipPath id=\"p41b057bc88\">\n   <rect height=\"71.066038\" width=\"71.066038\" x=\"522.375472\" y=\"22.318125\"/>\n  </clipPath>\n  <clipPath id=\"p0f337a0ffe\">\n   <rect height=\"71.066038\" width=\"71.066038\" x=\"607.654717\" y=\"22.318125\"/>\n  </clipPath>\n  <clipPath id=\"pc703e1e98f\">\n   <rect height=\"71.066038\" width=\"71.066038\" x=\"692.933962\" y=\"22.318125\"/>\n  </clipPath>\n  <clipPath id=\"p18dd0299ed\">\n   <rect height=\"71.066038\" width=\"71.066038\" x=\"10.7\" y=\"111.270852\"/>\n  </clipPath>\n  <clipPath id=\"p9d43414c57\">\n   <rect height=\"71.066038\" width=\"71.066038\" x=\"95.979245\" y=\"111.270852\"/>\n  </clipPath>\n  <clipPath id=\"p8db8252fe0\">\n   <rect height=\"71.066038\" width=\"71.066038\" x=\"181.258491\" y=\"111.270852\"/>\n  </clipPath>\n  <clipPath id=\"pacb4ef75a2\">\n   <rect height=\"71.066038\" width=\"71.066038\" x=\"266.537736\" y=\"111.270852\"/>\n  </clipPath>\n  <clipPath id=\"p489b5dad2a\">\n   <rect height=\"71.066038\" width=\"71.066038\" x=\"351.816981\" y=\"111.270852\"/>\n  </clipPath>\n  <clipPath id=\"p4cec2371ee\">\n   <rect height=\"71.066038\" width=\"71.066038\" x=\"437.096226\" y=\"111.270852\"/>\n  </clipPath>\n  <clipPath id=\"p5895fc384f\">\n   <rect height=\"71.066038\" width=\"71.066038\" x=\"522.375472\" y=\"111.270852\"/>\n  </clipPath>\n  <clipPath id=\"p19c1285b40\">\n   <rect height=\"71.066038\" width=\"71.066038\" x=\"607.654717\" y=\"111.270852\"/>\n  </clipPath>\n  <clipPath id=\"pf23f3cb647\">\n   <rect height=\"71.066038\" width=\"71.066038\" x=\"692.933962\" y=\"111.270852\"/>\n  </clipPath>\n </defs>\n</svg>\n"
          },
          "metadata": {
            "needs_background": "light"
          }
        }
      ]
    },
    {
      "cell_type": "code",
      "source": [
        "# Reading a Minibatch\n",
        "batch_size = 256\n",
        "\n",
        "def get_dataloader_workers():\n",
        "  \"\"\"Use 4 processes to read the data.\"\"\"\n",
        "  return 4\n",
        "\n",
        "train_iter = data.DataLoader(mnist_train, batch_size, shuffle=True,\n",
        "                             num_workers = get_dataloader_workers())"
      ],
      "metadata": {
        "id": "6iuH76QZACsP",
        "colab": {
          "base_uri": "https://localhost:8080/"
        },
        "outputId": "4052d75c-7311-4469-cf74-e6c691f56833"
      },
      "execution_count": null,
      "outputs": [
        {
          "output_type": "stream",
          "name": "stderr",
          "text": [
            "/usr/local/lib/python3.8/dist-packages/torch/utils/data/dataloader.py:554: UserWarning: This DataLoader will create 4 worker processes in total. Our suggested max number of worker in current system is 2, which is smaller than what this DataLoader is going to create. Please be aware that excessive worker creation might get DataLoader running slow or even freeze, lower the worker number to avoid potential slowness/freeze if necessary.\n",
            "  warnings.warn(_create_warning_msg(\n"
          ]
        }
      ]
    },
    {
      "cell_type": "code",
      "source": [
        "# training data 읽는 시간 체크\n",
        "\n",
        "timer = d2l.Timer()\n",
        "for X, y in train_iter:\n",
        "  continue\n",
        "f'{timer.stop():.2f}.sec'"
      ],
      "metadata": {
        "colab": {
          "base_uri": "https://localhost:8080/",
          "height": 35
        },
        "id": "IV1Jtny0BiPt",
        "outputId": "78e6c697-62cd-4c3f-9a08-4aa861e9acfb"
      },
      "execution_count": null,
      "outputs": [
        {
          "output_type": "execute_result",
          "data": {
            "text/plain": [
              "'9.26.sec'"
            ],
            "application/vnd.google.colaboratory.intrinsic+json": {
              "type": "string"
            }
          },
          "metadata": {},
          "execution_count": 13
        }
      ]
    },
    {
      "cell_type": "code",
      "source": [
        "# Putting All Things Together\n",
        "\n",
        "def load_data_fashion_mnist(batch_size, resize=None):\n",
        "  \"\"\"Fashion-MNIST dataset 을 다운로드하고 memory로 로드\"\"\"\n",
        "  trans = [transforms.ToTensor()]\n",
        "  if resize:\n",
        "    trans.insert(0, transforms.Resize(resize))\n",
        "  trans = transforms.Compose(trans)\n",
        "  mnist_train = torchvision.datasets.FashionMNIST(\n",
        "      root = \"../data\", train=## 빈칸을 채워주세요. ## , transform=trans, download=True)\n",
        "  mnist_test = torchvision.datasets.FashionMNIST(\n",
        "      root=\"../data\", train=## 빈칸을 채워주세요. ## , transform=trans, download=True)\n",
        "  return(data.DataLoader(mnist_train, batch_size, shuffle=## 빈칸을 채워주세요. ## ,\n",
        "                         num_workers=## 빈칸을 채워주세요. ## ),\n",
        "         data.DataLoader(mnist_test, batch_size, shuffle=## 빈칸을 채워주세요. ## ,\n",
        "                         num_workers=## 빈칸을 채워주세요. ## ))\n"
      ],
      "metadata": {
        "id": "BtPsiyJsCA7_"
      },
      "execution_count": null,
      "outputs": []
    },
    {
      "cell_type": "code",
      "source": [
        "train_iter, test_iter = load_data_fashion_mnist(32, resize=64)\n",
        "for X, y in train_iter:\n",
        "  print(X.shape, X.dtype, y.shape, y.dtype)\n",
        "  break"
      ],
      "metadata": {
        "colab": {
          "base_uri": "https://localhost:8080/"
        },
        "id": "3rUSM8gTEjZk",
        "outputId": "ce2ebaaf-a35c-4dff-c059-a8c6be668397"
      },
      "execution_count": null,
      "outputs": [
        {
          "output_type": "stream",
          "name": "stdout",
          "text": [
            "torch.Size([32, 1, 64, 64]) torch.float32 torch.Size([32]) torch.int64\n"
          ]
        }
      ]
    },
    {
      "cell_type": "markdown",
      "source": [
        "## 3.6 Implementation of Softmax Regression from Scratch"
      ],
      "metadata": {
        "id": "ulaJ94h0Y8fW"
      }
    },
    {
      "cell_type": "markdown",
      "source": [
        "**코드 한 줄 한 줄이 어떤 이유로 쓰였는지 씹어보며 공부해보세요! 😀**"
      ],
      "metadata": {
        "id": "uYpKFOrTgwXg"
      }
    },
    {
      "cell_type": "code",
      "source": [
        "import torch\n",
        "from IPython import display\n",
        "from d2l import torch as d2l"
      ],
      "metadata": {
        "id": "89Lubu51ZCCZ"
      },
      "execution_count": null,
      "outputs": []
    },
    {
      "cell_type": "code",
      "source": [
        "batch_size = 256\n",
        "train_iter, test_iter = d2l.load_data_fashion_mnist(batch_size)"
      ],
      "metadata": {
        "id": "gbIoU3lAZR5N"
      },
      "execution_count": null,
      "outputs": []
    },
    {
      "cell_type": "code",
      "source": [
        "# image flatten to vectors of length 784.\n",
        "# 각 pixel 위치를 feature로 봄\n",
        "# class 가 10개니까 아웃풋 dimension이 10\n",
        "# Gaussian 노이즈로 W 초기값 설정\n",
        "# 0으로 b 초기값 설정\n",
        "\n",
        "num_inputs = 784\n",
        "num_outputs = 10\n",
        "W = torch.normal(0, 0.01, size = (num_inputs, num_outputs), requires_grad=## 빈칸을 채워주세요. ## )\n",
        "b = torch.zeros(num_outputs, requires_grad = ## 빈칸을 채워주세요. ## )"
      ],
      "metadata": {
        "id": "sFu5stt3ZaKD"
      },
      "execution_count": null,
      "outputs": []
    },
    {
      "cell_type": "code",
      "source": [
        "X = torch.tensor([[1.0, 2.0, 3.0], [4.0,5.0,6.0]])\n",
        "X.sum(0, keepdim = True), X.sum(1, keepdim=True)"
      ],
      "metadata": {
        "colab": {
          "base_uri": "https://localhost:8080/"
        },
        "id": "ZQ3SVtmha6BU",
        "outputId": "bc1ef17c-0121-4c31-fef9-449ccd5a34bb"
      },
      "execution_count": null,
      "outputs": [
        {
          "output_type": "execute_result",
          "data": {
            "text/plain": [
              "(tensor([[5., 7., 9.]]), tensor([[ 6.],\n",
              "         [15.]]))"
            ]
          },
          "metadata": {},
          "execution_count": 19
        }
      ]
    },
    {
      "cell_type": "code",
      "source": [
        "# softmax 함수를 구현해보세요.\n",
        "\n",
        "def softmax(X):\n",
        "  X_exp = ## 빈칸을 채워주세요. ##\n",
        "  partition = ## 빈칸을 채워주세요. ##\n",
        "  return X_exp / partition"
      ],
      "metadata": {
        "id": "hl0dOMLncRQN"
      },
      "execution_count": 1,
      "outputs": []
    },
    {
      "cell_type": "code",
      "source": [
        "X = torch.normal(0, 1, (2,5))\n",
        "X_prob = softmax(X)\n",
        "X_prob, X_prob.sum(1)"
      ],
      "metadata": {
        "colab": {
          "base_uri": "https://localhost:8080/"
        },
        "id": "r9SqT8GUSUuv",
        "outputId": "879e8995-5116-4d39-ec70-bbb8b1f71a5f"
      },
      "execution_count": null,
      "outputs": [
        {
          "output_type": "execute_result",
          "data": {
            "text/plain": [
              "(tensor([[0.1416, 0.0795, 0.6927, 0.0385, 0.0477],\n",
              "         [0.1609, 0.0790, 0.1994, 0.0979, 0.4628]]), tensor([1., 1.]))"
            ]
          },
          "metadata": {},
          "execution_count": 21
        }
      ]
    },
    {
      "cell_type": "code",
      "source": [
        "def net(X):\n",
        "  return softmax(torch.matmul(X.reshape((-1, W.shape[0])), W) + b)"
      ],
      "metadata": {
        "id": "rvNT7pIlSlab"
      },
      "execution_count": null,
      "outputs": []
    },
    {
      "cell_type": "code",
      "source": [
        "y = torch.tensor([0,2])\n",
        "y_hat = torch.tensor([[0.1, 0.3, 0.6], [0.3, 0.2, 0.5]])\n",
        "y_hat[[0,1], y]"
      ],
      "metadata": {
        "colab": {
          "base_uri": "https://localhost:8080/"
        },
        "id": "et2FD5OVTq-A",
        "outputId": "9bf760b1-b71c-4340-bc74-5a0be4fe69d2"
      },
      "execution_count": null,
      "outputs": [
        {
          "output_type": "execute_result",
          "data": {
            "text/plain": [
              "tensor([0.1000, 0.5000])"
            ]
          },
          "metadata": {},
          "execution_count": 23
        }
      ]
    },
    {
      "cell_type": "code",
      "source": [
        "# cross-entropy loss function을 구현해보세요.\n",
        "\n",
        "def cross_entropy(y_hat, y):\n",
        "  ## 빈칸을 채워주세요. ##\n",
        "\n",
        "cross_entropy(y_hat, y)"
      ],
      "metadata": {
        "colab": {
          "base_uri": "https://localhost:8080/"
        },
        "id": "LxEgwZlyUynl",
        "outputId": "cae84383-02b7-40fe-ceb3-7edd64b75475"
      },
      "execution_count": null,
      "outputs": [
        {
          "output_type": "execute_result",
          "data": {
            "text/plain": [
              "tensor([2.3026, 0.6931])"
            ]
          },
          "metadata": {},
          "execution_count": 24
        }
      ]
    },
    {
      "cell_type": "code",
      "source": [
        "def accuracy(y_hat, y):\n",
        "  \"\"\"correct prediction 수를 계산\"\"\"\n",
        "  if len(y_hat.shape) > 1 and y_hat.shape[1] > 1:\n",
        "    y_hat = y_hat.argmax(axis = 1)\n",
        "  cmp = y_hat.type(y.dtype) == y\n",
        "  return float(cmp.type(y.dtype).sum())"
      ],
      "metadata": {
        "id": "QVfSBJuxVJqJ"
      },
      "execution_count": null,
      "outputs": []
    },
    {
      "cell_type": "code",
      "source": [
        "accuracy(y_hat, y) / len(y)"
      ],
      "metadata": {
        "colab": {
          "base_uri": "https://localhost:8080/"
        },
        "id": "q8ZcA1mhU_3f",
        "outputId": "2acba3d9-91b5-4c4b-91c1-793475a68453"
      },
      "execution_count": null,
      "outputs": [
        {
          "output_type": "execute_result",
          "data": {
            "text/plain": [
              "0.5"
            ]
          },
          "metadata": {},
          "execution_count": 26
        }
      ]
    },
    {
      "cell_type": "code",
      "source": [
        "def evaluate_accuracy(net, data_iter):\n",
        "    \"\"\"모델 정확도 계산\"\"\"\n",
        "    if isinstance(net, torch.nn.Module):\n",
        "        net.eval()\n",
        "    metric = Accumulator(2)\n",
        "\n",
        "    ## 무엇이 들어가야할까요? ##\n",
        "        for X, y in data_iter:\n",
        "            metric.add(accuracy(net(X), y), y.numel())\n",
        "    return metric[0] / metric[1]"
      ],
      "metadata": {
        "id": "9CUt5mryVFAg"
      },
      "execution_count": null,
      "outputs": []
    },
    {
      "cell_type": "code",
      "source": [
        "class Accumulator:\n",
        "    \"\"\"n 개 변수 합 축적\"\"\"\n",
        "    def __init__(self, n):\n",
        "        self.data = [0.0] * n\n",
        "\n",
        "    def add(self, *args):\n",
        "        self.data = [a + float(b) for a, b in zip(self.data, args)]\n",
        "\n",
        "    def reset(self):\n",
        "        self.data = [0.0] * len(self.data)\n",
        "\n",
        "    def __getitem__(self, idx):\n",
        "        return self.data[idx]"
      ],
      "metadata": {
        "id": "QmLz-HNoXgig"
      },
      "execution_count": null,
      "outputs": []
    },
    {
      "cell_type": "code",
      "source": [
        "evaluate_accuracy(net, test_iter)"
      ],
      "metadata": {
        "colab": {
          "base_uri": "https://localhost:8080/"
        },
        "id": "wbI98ltDWQuG",
        "outputId": "99e83563-b9c1-4bf0-af04-492782304aaf"
      },
      "execution_count": null,
      "outputs": [
        {
          "output_type": "execute_result",
          "data": {
            "text/plain": [
              "0.0912"
            ]
          },
          "metadata": {},
          "execution_count": 32
        }
      ]
    },
    {
      "cell_type": "code",
      "source": [
        "def train_epoch(net, train_iter, loss, updater):\n",
        "    \"\"\"training loop\"\"\"\n",
        "    # Set the model to training model\n",
        "    if isinstance(net, torch.nn.Module):\n",
        "        net.train()\n",
        "    # Sum of training loss, sum of training accuracy, number of examples\n",
        "    metric = Accumulator(3)\n",
        "    for X, y in train_iter:\n",
        "        # Compute gradients and update parameters\n",
        "        y_hat = net(X)\n",
        "        l = loss(y_hat, y)\n",
        "        if isinstance(updater, torch.optim.Optimizer):\n",
        "            # Using PyTorch in-built optimizer & loss criterion\n",
        "            updater.zero_grad()\n",
        "            l.mean().## 빈칸을 채워주세요. ##\n",
        "            updater.step()\n",
        "        else:\n",
        "            # Using custom built optimizer & loss criterion\n",
        "            l.sum().## 빈칸을 채워주세요. ##\n",
        "            updater(X.shape[0])\n",
        "        metric.add(float(l.sum()), accuracy(y_hat, y), y.numel())\n",
        "    # Return training loss and training accuracy\n",
        "    return metric[0] / metric[2], metric[1] / metric[2]"
      ],
      "metadata": {
        "id": "0zitI4zDWZBB"
      },
      "execution_count": null,
      "outputs": []
    },
    {
      "cell_type": "code",
      "source": [
        "class Animator:\n",
        "    \"\"\"애니메이션으로 데이터 플롯팅\"\"\"\n",
        "    def __init__(self, xlabel=None, ylabel=None, legend=None, xlim=None,\n",
        "                 ylim=None, xscale='linear', yscale='linear',\n",
        "                 fmts=('-', 'm--', 'g-.', 'r:'), nrows=1, ncols=1,\n",
        "                 figsize=(3.5, 2.5)):\n",
        "        # Incrementally plot multiple lines\n",
        "        if legend is None:\n",
        "            legend = []\n",
        "        d2l.use_svg_display()\n",
        "        self.fig, self.axes = d2l.plt.subplots(nrows, ncols, figsize=figsize)\n",
        "        if nrows * ncols == 1:\n",
        "            self.axes = [self.axes, ]\n",
        "        # Use a lambda function to capture arguments\n",
        "        self.config_axes = lambda: d2l.set_axes(\n",
        "            self.axes[0], xlabel, ylabel, xlim, ylim, xscale, yscale, legend)\n",
        "        self.X, self.Y, self.fmts = None, None, fmts\n",
        "\n",
        "    def add(self, x, y):\n",
        "        # Add multiple data points into the figure\n",
        "        if not hasattr(y, \"__len__\"):\n",
        "            y = [y]\n",
        "        n = len(y)\n",
        "        if not hasattr(x, \"__len__\"):\n",
        "            x = [x] * n\n",
        "        if not self.X:\n",
        "            self.X = [[] for _ in range(n)]\n",
        "        if not self.Y:\n",
        "            self.Y = [[] for _ in range(n)]\n",
        "        for i, (a, b) in enumerate(zip(x, y)):\n",
        "            if a is not None and b is not None:\n",
        "                self.X[i].append(a)\n",
        "                self.Y[i].append(b)\n",
        "        self.axes[0].cla()\n",
        "        for x, y, fmt in zip(self.X, self.Y, self.fmts):\n",
        "            self.axes[0].plot(x, y, fmt)\n",
        "        self.config_axes()\n",
        "        display.display(self.fig)\n",
        "        display.clear_output(wait=True)\n"
      ],
      "metadata": {
        "id": "Y7b5AmvyaKJu"
      },
      "execution_count": null,
      "outputs": []
    },
    {
      "cell_type": "code",
      "source": [
        "def train(net, train_iter, test_iter, loss, num_epochs, updater):\n",
        "    \"\"\"모델 학습\"\"\"\n",
        "    animator = Animator(xlabel='epoch', xlim=[1, num_epochs], ylim=[0.3, 0.9],\n",
        "                        legend=['train loss', 'train acc', 'test acc'])\n",
        "    for epoch in range(num_epochs):\n",
        "        train_metrics = train_epoch(net, train_iter, loss, updater)\n",
        "        test_acc = evaluate_accuracy(net, test_iter)\n",
        "        animator.add(epoch + 1, train_metrics + (test_acc,))\n",
        "    train_loss, train_acc = train_metrics\n",
        "    assert train_loss < 0.5, train_loss\n",
        "    assert train_acc <= 1 and train_acc > 0.7, train_acc\n",
        "    assert test_acc <= 1 and test_acc > 0.7, test_acc\n"
      ],
      "metadata": {
        "id": "8fCzuNB1cSts"
      },
      "execution_count": null,
      "outputs": []
    },
    {
      "cell_type": "code",
      "source": [
        "lr = 0.1\n",
        "\n",
        "def updater(batch_size):\n",
        "  return d2l.sgd([W, b], lr, batch_size)"
      ],
      "metadata": {
        "id": "FLTyQ3mxeVOP"
      },
      "execution_count": null,
      "outputs": []
    },
    {
      "cell_type": "code",
      "source": [
        "num_epochs = 10\n",
        "train(net, train_iter, test_iter, cross_entropy, num_epochs, updater)"
      ],
      "metadata": {
        "colab": {
          "base_uri": "https://localhost:8080/",
          "height": 261
        },
        "id": "UcyYl51refkY",
        "outputId": "17a5dafc-50b6-4ce8-9eff-79966fcb4bef"
      },
      "execution_count": null,
      "outputs": [
        {
          "output_type": "display_data",
          "data": {
            "text/plain": [
              "<Figure size 252x180 with 1 Axes>"
            ],
            "image/svg+xml": "<?xml version=\"1.0\" encoding=\"utf-8\" standalone=\"no\"?>\n<!DOCTYPE svg PUBLIC \"-//W3C//DTD SVG 1.1//EN\"\n  \"http://www.w3.org/Graphics/SVG/1.1/DTD/svg11.dtd\">\n<!-- Created with matplotlib (https://matplotlib.org/) -->\n<svg height=\"180.65625pt\" version=\"1.1\" viewBox=\"0 0 238.965625 180.65625\" width=\"238.965625pt\" xmlns=\"http://www.w3.org/2000/svg\" xmlns:xlink=\"http://www.w3.org/1999/xlink\">\n <defs>\n  <style type=\"text/css\">\n*{stroke-linecap:butt;stroke-linejoin:round;}\n  </style>\n </defs>\n <g id=\"figure_1\">\n  <g id=\"patch_1\">\n   <path d=\"M 0 180.65625 \nL 238.965625 180.65625 \nL 238.965625 0 \nL 0 0 \nz\n\" style=\"fill:none;\"/>\n  </g>\n  <g id=\"axes_1\">\n   <g id=\"patch_2\">\n    <path d=\"M 30.103125 143.1 \nL 225.403125 143.1 \nL 225.403125 7.2 \nL 30.103125 7.2 \nz\n\" style=\"fill:#ffffff;\"/>\n   </g>\n   <g id=\"matplotlib.axis_1\">\n    <g id=\"xtick_1\">\n     <g id=\"line2d_1\">\n      <path clip-path=\"url(#p402da9e0d3)\" d=\"M 51.803125 143.1 \nL 51.803125 7.2 \n\" style=\"fill:none;stroke:#b0b0b0;stroke-linecap:square;stroke-width:0.8;\"/>\n     </g>\n     <g id=\"line2d_2\">\n      <defs>\n       <path d=\"M 0 0 \nL 0 3.5 \n\" id=\"mbe01a30fb6\" style=\"stroke:#000000;stroke-width:0.8;\"/>\n      </defs>\n      <g>\n       <use style=\"stroke:#000000;stroke-width:0.8;\" x=\"51.803125\" xlink:href=\"#mbe01a30fb6\" y=\"143.1\"/>\n      </g>\n     </g>\n     <g id=\"text_1\">\n      <!-- 2 -->\n      <defs>\n       <path d=\"M 19.1875 8.296875 \nL 53.609375 8.296875 \nL 53.609375 0 \nL 7.328125 0 \nL 7.328125 8.296875 \nQ 12.9375 14.109375 22.625 23.890625 \nQ 32.328125 33.6875 34.8125 36.53125 \nQ 39.546875 41.84375 41.421875 45.53125 \nQ 43.3125 49.21875 43.3125 52.78125 \nQ 43.3125 58.59375 39.234375 62.25 \nQ 35.15625 65.921875 28.609375 65.921875 \nQ 23.96875 65.921875 18.8125 64.3125 \nQ 13.671875 62.703125 7.8125 59.421875 \nL 7.8125 69.390625 \nQ 13.765625 71.78125 18.9375 73 \nQ 24.125 74.21875 28.421875 74.21875 \nQ 39.75 74.21875 46.484375 68.546875 \nQ 53.21875 62.890625 53.21875 53.421875 \nQ 53.21875 48.921875 51.53125 44.890625 \nQ 49.859375 40.875 45.40625 35.40625 \nQ 44.1875 33.984375 37.640625 27.21875 \nQ 31.109375 20.453125 19.1875 8.296875 \nz\n\" id=\"DejaVuSans-50\"/>\n      </defs>\n      <g transform=\"translate(48.621875 157.698438)scale(0.1 -0.1)\">\n       <use xlink:href=\"#DejaVuSans-50\"/>\n      </g>\n     </g>\n    </g>\n    <g id=\"xtick_2\">\n     <g id=\"line2d_3\">\n      <path clip-path=\"url(#p402da9e0d3)\" d=\"M 95.203125 143.1 \nL 95.203125 7.2 \n\" style=\"fill:none;stroke:#b0b0b0;stroke-linecap:square;stroke-width:0.8;\"/>\n     </g>\n     <g id=\"line2d_4\">\n      <g>\n       <use style=\"stroke:#000000;stroke-width:0.8;\" x=\"95.203125\" xlink:href=\"#mbe01a30fb6\" y=\"143.1\"/>\n      </g>\n     </g>\n     <g id=\"text_2\">\n      <!-- 4 -->\n      <defs>\n       <path d=\"M 37.796875 64.3125 \nL 12.890625 25.390625 \nL 37.796875 25.390625 \nz\nM 35.203125 72.90625 \nL 47.609375 72.90625 \nL 47.609375 25.390625 \nL 58.015625 25.390625 \nL 58.015625 17.1875 \nL 47.609375 17.1875 \nL 47.609375 0 \nL 37.796875 0 \nL 37.796875 17.1875 \nL 4.890625 17.1875 \nL 4.890625 26.703125 \nz\n\" id=\"DejaVuSans-52\"/>\n      </defs>\n      <g transform=\"translate(92.021875 157.698438)scale(0.1 -0.1)\">\n       <use xlink:href=\"#DejaVuSans-52\"/>\n      </g>\n     </g>\n    </g>\n    <g id=\"xtick_3\">\n     <g id=\"line2d_5\">\n      <path clip-path=\"url(#p402da9e0d3)\" d=\"M 138.603125 143.1 \nL 138.603125 7.2 \n\" style=\"fill:none;stroke:#b0b0b0;stroke-linecap:square;stroke-width:0.8;\"/>\n     </g>\n     <g id=\"line2d_6\">\n      <g>\n       <use style=\"stroke:#000000;stroke-width:0.8;\" x=\"138.603125\" xlink:href=\"#mbe01a30fb6\" y=\"143.1\"/>\n      </g>\n     </g>\n     <g id=\"text_3\">\n      <!-- 6 -->\n      <defs>\n       <path d=\"M 33.015625 40.375 \nQ 26.375 40.375 22.484375 35.828125 \nQ 18.609375 31.296875 18.609375 23.390625 \nQ 18.609375 15.53125 22.484375 10.953125 \nQ 26.375 6.390625 33.015625 6.390625 \nQ 39.65625 6.390625 43.53125 10.953125 \nQ 47.40625 15.53125 47.40625 23.390625 \nQ 47.40625 31.296875 43.53125 35.828125 \nQ 39.65625 40.375 33.015625 40.375 \nz\nM 52.59375 71.296875 \nL 52.59375 62.3125 \nQ 48.875 64.0625 45.09375 64.984375 \nQ 41.3125 65.921875 37.59375 65.921875 \nQ 27.828125 65.921875 22.671875 59.328125 \nQ 17.53125 52.734375 16.796875 39.40625 \nQ 19.671875 43.65625 24.015625 45.921875 \nQ 28.375 48.1875 33.59375 48.1875 \nQ 44.578125 48.1875 50.953125 41.515625 \nQ 57.328125 34.859375 57.328125 23.390625 \nQ 57.328125 12.15625 50.6875 5.359375 \nQ 44.046875 -1.421875 33.015625 -1.421875 \nQ 20.359375 -1.421875 13.671875 8.265625 \nQ 6.984375 17.96875 6.984375 36.375 \nQ 6.984375 53.65625 15.1875 63.9375 \nQ 23.390625 74.21875 37.203125 74.21875 \nQ 40.921875 74.21875 44.703125 73.484375 \nQ 48.484375 72.75 52.59375 71.296875 \nz\n\" id=\"DejaVuSans-54\"/>\n      </defs>\n      <g transform=\"translate(135.421875 157.698438)scale(0.1 -0.1)\">\n       <use xlink:href=\"#DejaVuSans-54\"/>\n      </g>\n     </g>\n    </g>\n    <g id=\"xtick_4\">\n     <g id=\"line2d_7\">\n      <path clip-path=\"url(#p402da9e0d3)\" d=\"M 182.003125 143.1 \nL 182.003125 7.2 \n\" style=\"fill:none;stroke:#b0b0b0;stroke-linecap:square;stroke-width:0.8;\"/>\n     </g>\n     <g id=\"line2d_8\">\n      <g>\n       <use style=\"stroke:#000000;stroke-width:0.8;\" x=\"182.003125\" xlink:href=\"#mbe01a30fb6\" y=\"143.1\"/>\n      </g>\n     </g>\n     <g id=\"text_4\">\n      <!-- 8 -->\n      <defs>\n       <path d=\"M 31.78125 34.625 \nQ 24.75 34.625 20.71875 30.859375 \nQ 16.703125 27.09375 16.703125 20.515625 \nQ 16.703125 13.921875 20.71875 10.15625 \nQ 24.75 6.390625 31.78125 6.390625 \nQ 38.8125 6.390625 42.859375 10.171875 \nQ 46.921875 13.96875 46.921875 20.515625 \nQ 46.921875 27.09375 42.890625 30.859375 \nQ 38.875 34.625 31.78125 34.625 \nz\nM 21.921875 38.8125 \nQ 15.578125 40.375 12.03125 44.71875 \nQ 8.5 49.078125 8.5 55.328125 \nQ 8.5 64.0625 14.71875 69.140625 \nQ 20.953125 74.21875 31.78125 74.21875 \nQ 42.671875 74.21875 48.875 69.140625 \nQ 55.078125 64.0625 55.078125 55.328125 \nQ 55.078125 49.078125 51.53125 44.71875 \nQ 48 40.375 41.703125 38.8125 \nQ 48.828125 37.15625 52.796875 32.3125 \nQ 56.78125 27.484375 56.78125 20.515625 \nQ 56.78125 9.90625 50.3125 4.234375 \nQ 43.84375 -1.421875 31.78125 -1.421875 \nQ 19.734375 -1.421875 13.25 4.234375 \nQ 6.78125 9.90625 6.78125 20.515625 \nQ 6.78125 27.484375 10.78125 32.3125 \nQ 14.796875 37.15625 21.921875 38.8125 \nz\nM 18.3125 54.390625 \nQ 18.3125 48.734375 21.84375 45.5625 \nQ 25.390625 42.390625 31.78125 42.390625 \nQ 38.140625 42.390625 41.71875 45.5625 \nQ 45.3125 48.734375 45.3125 54.390625 \nQ 45.3125 60.0625 41.71875 63.234375 \nQ 38.140625 66.40625 31.78125 66.40625 \nQ 25.390625 66.40625 21.84375 63.234375 \nQ 18.3125 60.0625 18.3125 54.390625 \nz\n\" id=\"DejaVuSans-56\"/>\n      </defs>\n      <g transform=\"translate(178.821875 157.698438)scale(0.1 -0.1)\">\n       <use xlink:href=\"#DejaVuSans-56\"/>\n      </g>\n     </g>\n    </g>\n    <g id=\"xtick_5\">\n     <g id=\"line2d_9\">\n      <path clip-path=\"url(#p402da9e0d3)\" d=\"M 225.403125 143.1 \nL 225.403125 7.2 \n\" style=\"fill:none;stroke:#b0b0b0;stroke-linecap:square;stroke-width:0.8;\"/>\n     </g>\n     <g id=\"line2d_10\">\n      <g>\n       <use style=\"stroke:#000000;stroke-width:0.8;\" x=\"225.403125\" xlink:href=\"#mbe01a30fb6\" y=\"143.1\"/>\n      </g>\n     </g>\n     <g id=\"text_5\">\n      <!-- 10 -->\n      <defs>\n       <path d=\"M 12.40625 8.296875 \nL 28.515625 8.296875 \nL 28.515625 63.921875 \nL 10.984375 60.40625 \nL 10.984375 69.390625 \nL 28.421875 72.90625 \nL 38.28125 72.90625 \nL 38.28125 8.296875 \nL 54.390625 8.296875 \nL 54.390625 0 \nL 12.40625 0 \nz\n\" id=\"DejaVuSans-49\"/>\n       <path d=\"M 31.78125 66.40625 \nQ 24.171875 66.40625 20.328125 58.90625 \nQ 16.5 51.421875 16.5 36.375 \nQ 16.5 21.390625 20.328125 13.890625 \nQ 24.171875 6.390625 31.78125 6.390625 \nQ 39.453125 6.390625 43.28125 13.890625 \nQ 47.125 21.390625 47.125 36.375 \nQ 47.125 51.421875 43.28125 58.90625 \nQ 39.453125 66.40625 31.78125 66.40625 \nz\nM 31.78125 74.21875 \nQ 44.046875 74.21875 50.515625 64.515625 \nQ 56.984375 54.828125 56.984375 36.375 \nQ 56.984375 17.96875 50.515625 8.265625 \nQ 44.046875 -1.421875 31.78125 -1.421875 \nQ 19.53125 -1.421875 13.0625 8.265625 \nQ 6.59375 17.96875 6.59375 36.375 \nQ 6.59375 54.828125 13.0625 64.515625 \nQ 19.53125 74.21875 31.78125 74.21875 \nz\n\" id=\"DejaVuSans-48\"/>\n      </defs>\n      <g transform=\"translate(219.040625 157.698438)scale(0.1 -0.1)\">\n       <use xlink:href=\"#DejaVuSans-49\"/>\n       <use x=\"63.623047\" xlink:href=\"#DejaVuSans-48\"/>\n      </g>\n     </g>\n    </g>\n    <g id=\"text_6\">\n     <!-- epoch -->\n     <defs>\n      <path d=\"M 56.203125 29.59375 \nL 56.203125 25.203125 \nL 14.890625 25.203125 \nQ 15.484375 15.921875 20.484375 11.0625 \nQ 25.484375 6.203125 34.421875 6.203125 \nQ 39.59375 6.203125 44.453125 7.46875 \nQ 49.3125 8.734375 54.109375 11.28125 \nL 54.109375 2.78125 \nQ 49.265625 0.734375 44.1875 -0.34375 \nQ 39.109375 -1.421875 33.890625 -1.421875 \nQ 20.796875 -1.421875 13.15625 6.1875 \nQ 5.515625 13.8125 5.515625 26.8125 \nQ 5.515625 40.234375 12.765625 48.109375 \nQ 20.015625 56 32.328125 56 \nQ 43.359375 56 49.78125 48.890625 \nQ 56.203125 41.796875 56.203125 29.59375 \nz\nM 47.21875 32.234375 \nQ 47.125 39.59375 43.09375 43.984375 \nQ 39.0625 48.390625 32.421875 48.390625 \nQ 24.90625 48.390625 20.390625 44.140625 \nQ 15.875 39.890625 15.1875 32.171875 \nz\n\" id=\"DejaVuSans-101\"/>\n      <path d=\"M 18.109375 8.203125 \nL 18.109375 -20.796875 \nL 9.078125 -20.796875 \nL 9.078125 54.6875 \nL 18.109375 54.6875 \nL 18.109375 46.390625 \nQ 20.953125 51.265625 25.265625 53.625 \nQ 29.59375 56 35.59375 56 \nQ 45.5625 56 51.78125 48.09375 \nQ 58.015625 40.1875 58.015625 27.296875 \nQ 58.015625 14.40625 51.78125 6.484375 \nQ 45.5625 -1.421875 35.59375 -1.421875 \nQ 29.59375 -1.421875 25.265625 0.953125 \nQ 20.953125 3.328125 18.109375 8.203125 \nz\nM 48.6875 27.296875 \nQ 48.6875 37.203125 44.609375 42.84375 \nQ 40.53125 48.484375 33.40625 48.484375 \nQ 26.265625 48.484375 22.1875 42.84375 \nQ 18.109375 37.203125 18.109375 27.296875 \nQ 18.109375 17.390625 22.1875 11.75 \nQ 26.265625 6.109375 33.40625 6.109375 \nQ 40.53125 6.109375 44.609375 11.75 \nQ 48.6875 17.390625 48.6875 27.296875 \nz\n\" id=\"DejaVuSans-112\"/>\n      <path d=\"M 30.609375 48.390625 \nQ 23.390625 48.390625 19.1875 42.75 \nQ 14.984375 37.109375 14.984375 27.296875 \nQ 14.984375 17.484375 19.15625 11.84375 \nQ 23.34375 6.203125 30.609375 6.203125 \nQ 37.796875 6.203125 41.984375 11.859375 \nQ 46.1875 17.53125 46.1875 27.296875 \nQ 46.1875 37.015625 41.984375 42.703125 \nQ 37.796875 48.390625 30.609375 48.390625 \nz\nM 30.609375 56 \nQ 42.328125 56 49.015625 48.375 \nQ 55.71875 40.765625 55.71875 27.296875 \nQ 55.71875 13.875 49.015625 6.21875 \nQ 42.328125 -1.421875 30.609375 -1.421875 \nQ 18.84375 -1.421875 12.171875 6.21875 \nQ 5.515625 13.875 5.515625 27.296875 \nQ 5.515625 40.765625 12.171875 48.375 \nQ 18.84375 56 30.609375 56 \nz\n\" id=\"DejaVuSans-111\"/>\n      <path d=\"M 48.78125 52.59375 \nL 48.78125 44.1875 \nQ 44.96875 46.296875 41.140625 47.34375 \nQ 37.3125 48.390625 33.40625 48.390625 \nQ 24.65625 48.390625 19.8125 42.84375 \nQ 14.984375 37.3125 14.984375 27.296875 \nQ 14.984375 17.28125 19.8125 11.734375 \nQ 24.65625 6.203125 33.40625 6.203125 \nQ 37.3125 6.203125 41.140625 7.25 \nQ 44.96875 8.296875 48.78125 10.40625 \nL 48.78125 2.09375 \nQ 45.015625 0.34375 40.984375 -0.53125 \nQ 36.96875 -1.421875 32.421875 -1.421875 \nQ 20.0625 -1.421875 12.78125 6.34375 \nQ 5.515625 14.109375 5.515625 27.296875 \nQ 5.515625 40.671875 12.859375 48.328125 \nQ 20.21875 56 33.015625 56 \nQ 37.15625 56 41.109375 55.140625 \nQ 45.0625 54.296875 48.78125 52.59375 \nz\n\" id=\"DejaVuSans-99\"/>\n      <path d=\"M 54.890625 33.015625 \nL 54.890625 0 \nL 45.90625 0 \nL 45.90625 32.71875 \nQ 45.90625 40.484375 42.875 44.328125 \nQ 39.84375 48.1875 33.796875 48.1875 \nQ 26.515625 48.1875 22.3125 43.546875 \nQ 18.109375 38.921875 18.109375 30.90625 \nL 18.109375 0 \nL 9.078125 0 \nL 9.078125 75.984375 \nL 18.109375 75.984375 \nL 18.109375 46.1875 \nQ 21.34375 51.125 25.703125 53.5625 \nQ 30.078125 56 35.796875 56 \nQ 45.21875 56 50.046875 50.171875 \nQ 54.890625 44.34375 54.890625 33.015625 \nz\n\" id=\"DejaVuSans-104\"/>\n     </defs>\n     <g transform=\"translate(112.525 171.376563)scale(0.1 -0.1)\">\n      <use xlink:href=\"#DejaVuSans-101\"/>\n      <use x=\"61.523438\" xlink:href=\"#DejaVuSans-112\"/>\n      <use x=\"125\" xlink:href=\"#DejaVuSans-111\"/>\n      <use x=\"186.181641\" xlink:href=\"#DejaVuSans-99\"/>\n      <use x=\"241.162109\" xlink:href=\"#DejaVuSans-104\"/>\n     </g>\n    </g>\n   </g>\n   <g id=\"matplotlib.axis_2\">\n    <g id=\"ytick_1\">\n     <g id=\"line2d_11\">\n      <path clip-path=\"url(#p402da9e0d3)\" d=\"M 30.103125 120.45 \nL 225.403125 120.45 \n\" style=\"fill:none;stroke:#b0b0b0;stroke-linecap:square;stroke-width:0.8;\"/>\n     </g>\n     <g id=\"line2d_12\">\n      <defs>\n       <path d=\"M 0 0 \nL -3.5 0 \n\" id=\"m628d22f8a9\" style=\"stroke:#000000;stroke-width:0.8;\"/>\n      </defs>\n      <g>\n       <use style=\"stroke:#000000;stroke-width:0.8;\" x=\"30.103125\" xlink:href=\"#m628d22f8a9\" y=\"120.45\"/>\n      </g>\n     </g>\n     <g id=\"text_7\">\n      <!-- 0.4 -->\n      <defs>\n       <path d=\"M 10.6875 12.40625 \nL 21 12.40625 \nL 21 0 \nL 10.6875 0 \nz\n\" id=\"DejaVuSans-46\"/>\n      </defs>\n      <g transform=\"translate(7.2 124.249219)scale(0.1 -0.1)\">\n       <use xlink:href=\"#DejaVuSans-48\"/>\n       <use x=\"63.623047\" xlink:href=\"#DejaVuSans-46\"/>\n       <use x=\"95.410156\" xlink:href=\"#DejaVuSans-52\"/>\n      </g>\n     </g>\n    </g>\n    <g id=\"ytick_2\">\n     <g id=\"line2d_13\">\n      <path clip-path=\"url(#p402da9e0d3)\" d=\"M 30.103125 75.15 \nL 225.403125 75.15 \n\" style=\"fill:none;stroke:#b0b0b0;stroke-linecap:square;stroke-width:0.8;\"/>\n     </g>\n     <g id=\"line2d_14\">\n      <g>\n       <use style=\"stroke:#000000;stroke-width:0.8;\" x=\"30.103125\" xlink:href=\"#m628d22f8a9\" y=\"75.15\"/>\n      </g>\n     </g>\n     <g id=\"text_8\">\n      <!-- 0.6 -->\n      <g transform=\"translate(7.2 78.949219)scale(0.1 -0.1)\">\n       <use xlink:href=\"#DejaVuSans-48\"/>\n       <use x=\"63.623047\" xlink:href=\"#DejaVuSans-46\"/>\n       <use x=\"95.410156\" xlink:href=\"#DejaVuSans-54\"/>\n      </g>\n     </g>\n    </g>\n    <g id=\"ytick_3\">\n     <g id=\"line2d_15\">\n      <path clip-path=\"url(#p402da9e0d3)\" d=\"M 30.103125 29.85 \nL 225.403125 29.85 \n\" style=\"fill:none;stroke:#b0b0b0;stroke-linecap:square;stroke-width:0.8;\"/>\n     </g>\n     <g id=\"line2d_16\">\n      <g>\n       <use style=\"stroke:#000000;stroke-width:0.8;\" x=\"30.103125\" xlink:href=\"#m628d22f8a9\" y=\"29.85\"/>\n      </g>\n     </g>\n     <g id=\"text_9\">\n      <!-- 0.8 -->\n      <g transform=\"translate(7.2 33.649219)scale(0.1 -0.1)\">\n       <use xlink:href=\"#DejaVuSans-48\"/>\n       <use x=\"63.623047\" xlink:href=\"#DejaVuSans-46\"/>\n       <use x=\"95.410156\" xlink:href=\"#DejaVuSans-56\"/>\n      </g>\n     </g>\n    </g>\n   </g>\n   <g id=\"line2d_17\">\n    <path clip-path=\"url(#p402da9e0d3)\" d=\"M 30.103125 33.155245 \nL 51.803125 81.958717 \nL 73.503125 92.108611 \nL 95.203125 97.745568 \nL 116.903125 101.178482 \nL 138.603125 103.723183 \nL 160.303125 105.870758 \nL 182.003125 107.261364 \nL 203.703125 108.716441 \nL 225.403125 109.719923 \n\" style=\"fill:none;stroke:#1f77b4;stroke-linecap:square;stroke-width:1.5;\"/>\n   </g>\n   <g id=\"line2d_18\">\n    <path clip-path=\"url(#p402da9e0d3)\" d=\"M 30.103125 41.390175 \nL 51.803125 27.03385 \nL 73.503125 24.198825 \nL 95.203125 22.620875 \nL 116.903125 21.73375 \nL 138.603125 20.7749 \nL 160.303125 20.0199 \nL 182.003125 19.72545 \nL 203.703125 19.3253 \nL 225.403125 18.9629 \n\" style=\"fill:none;stroke:#bf00bf;stroke-dasharray:5.55,2.4;stroke-dashoffset:0;stroke-width:1.5;\"/>\n   </g>\n   <g id=\"line2d_19\">\n    <path clip-path=\"url(#p402da9e0d3)\" d=\"M 30.103125 34.53855 \nL 51.803125 29.3517 \nL 73.503125 29.2158 \nL 95.203125 26.679 \nL 116.903125 24.11955 \nL 138.603125 23.7798 \nL 160.303125 23.57595 \nL 182.003125 22.80585 \nL 203.703125 22.8738 \nL 225.403125 22.3302 \n\" style=\"fill:none;stroke:#008000;stroke-dasharray:9.6,2.4,1.5,2.4;stroke-dashoffset:0;stroke-width:1.5;\"/>\n   </g>\n   <g id=\"patch_3\">\n    <path d=\"M 30.103125 143.1 \nL 30.103125 7.2 \n\" style=\"fill:none;stroke:#000000;stroke-linecap:square;stroke-linejoin:miter;stroke-width:0.8;\"/>\n   </g>\n   <g id=\"patch_4\">\n    <path d=\"M 225.403125 143.1 \nL 225.403125 7.2 \n\" style=\"fill:none;stroke:#000000;stroke-linecap:square;stroke-linejoin:miter;stroke-width:0.8;\"/>\n   </g>\n   <g id=\"patch_5\">\n    <path d=\"M 30.103125 143.1 \nL 225.403125 143.1 \n\" style=\"fill:none;stroke:#000000;stroke-linecap:square;stroke-linejoin:miter;stroke-width:0.8;\"/>\n   </g>\n   <g id=\"patch_6\">\n    <path d=\"M 30.103125 7.2 \nL 225.403125 7.2 \n\" style=\"fill:none;stroke:#000000;stroke-linecap:square;stroke-linejoin:miter;stroke-width:0.8;\"/>\n   </g>\n   <g id=\"legend_1\">\n    <g id=\"patch_7\">\n     <path d=\"M 140.634375 98.667187 \nL 218.403125 98.667187 \nQ 220.403125 98.667187 220.403125 96.667187 \nL 220.403125 53.632812 \nQ 220.403125 51.632812 218.403125 51.632812 \nL 140.634375 51.632812 \nQ 138.634375 51.632812 138.634375 53.632812 \nL 138.634375 96.667187 \nQ 138.634375 98.667187 140.634375 98.667187 \nz\n\" style=\"fill:#ffffff;opacity:0.8;stroke:#cccccc;stroke-linejoin:miter;\"/>\n    </g>\n    <g id=\"line2d_20\">\n     <path d=\"M 142.634375 59.73125 \nL 162.634375 59.73125 \n\" style=\"fill:none;stroke:#1f77b4;stroke-linecap:square;stroke-width:1.5;\"/>\n    </g>\n    <g id=\"line2d_21\"/>\n    <g id=\"text_10\">\n     <!-- train loss -->\n     <defs>\n      <path d=\"M 18.3125 70.21875 \nL 18.3125 54.6875 \nL 36.8125 54.6875 \nL 36.8125 47.703125 \nL 18.3125 47.703125 \nL 18.3125 18.015625 \nQ 18.3125 11.328125 20.140625 9.421875 \nQ 21.96875 7.515625 27.59375 7.515625 \nL 36.8125 7.515625 \nL 36.8125 0 \nL 27.59375 0 \nQ 17.1875 0 13.234375 3.875 \nQ 9.28125 7.765625 9.28125 18.015625 \nL 9.28125 47.703125 \nL 2.6875 47.703125 \nL 2.6875 54.6875 \nL 9.28125 54.6875 \nL 9.28125 70.21875 \nz\n\" id=\"DejaVuSans-116\"/>\n      <path d=\"M 41.109375 46.296875 \nQ 39.59375 47.171875 37.8125 47.578125 \nQ 36.03125 48 33.890625 48 \nQ 26.265625 48 22.1875 43.046875 \nQ 18.109375 38.09375 18.109375 28.8125 \nL 18.109375 0 \nL 9.078125 0 \nL 9.078125 54.6875 \nL 18.109375 54.6875 \nL 18.109375 46.1875 \nQ 20.953125 51.171875 25.484375 53.578125 \nQ 30.03125 56 36.53125 56 \nQ 37.453125 56 38.578125 55.875 \nQ 39.703125 55.765625 41.0625 55.515625 \nz\n\" id=\"DejaVuSans-114\"/>\n      <path d=\"M 34.28125 27.484375 \nQ 23.390625 27.484375 19.1875 25 \nQ 14.984375 22.515625 14.984375 16.5 \nQ 14.984375 11.71875 18.140625 8.90625 \nQ 21.296875 6.109375 26.703125 6.109375 \nQ 34.1875 6.109375 38.703125 11.40625 \nQ 43.21875 16.703125 43.21875 25.484375 \nL 43.21875 27.484375 \nz\nM 52.203125 31.203125 \nL 52.203125 0 \nL 43.21875 0 \nL 43.21875 8.296875 \nQ 40.140625 3.328125 35.546875 0.953125 \nQ 30.953125 -1.421875 24.3125 -1.421875 \nQ 15.921875 -1.421875 10.953125 3.296875 \nQ 6 8.015625 6 15.921875 \nQ 6 25.140625 12.171875 29.828125 \nQ 18.359375 34.515625 30.609375 34.515625 \nL 43.21875 34.515625 \nL 43.21875 35.40625 \nQ 43.21875 41.609375 39.140625 45 \nQ 35.0625 48.390625 27.6875 48.390625 \nQ 23 48.390625 18.546875 47.265625 \nQ 14.109375 46.140625 10.015625 43.890625 \nL 10.015625 52.203125 \nQ 14.9375 54.109375 19.578125 55.046875 \nQ 24.21875 56 28.609375 56 \nQ 40.484375 56 46.34375 49.84375 \nQ 52.203125 43.703125 52.203125 31.203125 \nz\n\" id=\"DejaVuSans-97\"/>\n      <path d=\"M 9.421875 54.6875 \nL 18.40625 54.6875 \nL 18.40625 0 \nL 9.421875 0 \nz\nM 9.421875 75.984375 \nL 18.40625 75.984375 \nL 18.40625 64.59375 \nL 9.421875 64.59375 \nz\n\" id=\"DejaVuSans-105\"/>\n      <path d=\"M 54.890625 33.015625 \nL 54.890625 0 \nL 45.90625 0 \nL 45.90625 32.71875 \nQ 45.90625 40.484375 42.875 44.328125 \nQ 39.84375 48.1875 33.796875 48.1875 \nQ 26.515625 48.1875 22.3125 43.546875 \nQ 18.109375 38.921875 18.109375 30.90625 \nL 18.109375 0 \nL 9.078125 0 \nL 9.078125 54.6875 \nL 18.109375 54.6875 \nL 18.109375 46.1875 \nQ 21.34375 51.125 25.703125 53.5625 \nQ 30.078125 56 35.796875 56 \nQ 45.21875 56 50.046875 50.171875 \nQ 54.890625 44.34375 54.890625 33.015625 \nz\n\" id=\"DejaVuSans-110\"/>\n      <path id=\"DejaVuSans-32\"/>\n      <path d=\"M 9.421875 75.984375 \nL 18.40625 75.984375 \nL 18.40625 0 \nL 9.421875 0 \nz\n\" id=\"DejaVuSans-108\"/>\n      <path d=\"M 44.28125 53.078125 \nL 44.28125 44.578125 \nQ 40.484375 46.53125 36.375 47.5 \nQ 32.28125 48.484375 27.875 48.484375 \nQ 21.1875 48.484375 17.84375 46.4375 \nQ 14.5 44.390625 14.5 40.28125 \nQ 14.5 37.15625 16.890625 35.375 \nQ 19.28125 33.59375 26.515625 31.984375 \nL 29.59375 31.296875 \nQ 39.15625 29.25 43.1875 25.515625 \nQ 47.21875 21.78125 47.21875 15.09375 \nQ 47.21875 7.46875 41.1875 3.015625 \nQ 35.15625 -1.421875 24.609375 -1.421875 \nQ 20.21875 -1.421875 15.453125 -0.5625 \nQ 10.6875 0.296875 5.421875 2 \nL 5.421875 11.28125 \nQ 10.40625 8.6875 15.234375 7.390625 \nQ 20.0625 6.109375 24.8125 6.109375 \nQ 31.15625 6.109375 34.5625 8.28125 \nQ 37.984375 10.453125 37.984375 14.40625 \nQ 37.984375 18.0625 35.515625 20.015625 \nQ 33.0625 21.96875 24.703125 23.78125 \nL 21.578125 24.515625 \nQ 13.234375 26.265625 9.515625 29.90625 \nQ 5.8125 33.546875 5.8125 39.890625 \nQ 5.8125 47.609375 11.28125 51.796875 \nQ 16.75 56 26.8125 56 \nQ 31.78125 56 36.171875 55.265625 \nQ 40.578125 54.546875 44.28125 53.078125 \nz\n\" id=\"DejaVuSans-115\"/>\n     </defs>\n     <g transform=\"translate(170.634375 63.23125)scale(0.1 -0.1)\">\n      <use xlink:href=\"#DejaVuSans-116\"/>\n      <use x=\"39.208984\" xlink:href=\"#DejaVuSans-114\"/>\n      <use x=\"80.322266\" xlink:href=\"#DejaVuSans-97\"/>\n      <use x=\"141.601562\" xlink:href=\"#DejaVuSans-105\"/>\n      <use x=\"169.384766\" xlink:href=\"#DejaVuSans-110\"/>\n      <use x=\"232.763672\" xlink:href=\"#DejaVuSans-32\"/>\n      <use x=\"264.550781\" xlink:href=\"#DejaVuSans-108\"/>\n      <use x=\"292.333984\" xlink:href=\"#DejaVuSans-111\"/>\n      <use x=\"353.515625\" xlink:href=\"#DejaVuSans-115\"/>\n      <use x=\"405.615234\" xlink:href=\"#DejaVuSans-115\"/>\n     </g>\n    </g>\n    <g id=\"line2d_22\">\n     <path d=\"M 142.634375 74.409375 \nL 162.634375 74.409375 \n\" style=\"fill:none;stroke:#bf00bf;stroke-dasharray:5.55,2.4;stroke-dashoffset:0;stroke-width:1.5;\"/>\n    </g>\n    <g id=\"line2d_23\"/>\n    <g id=\"text_11\">\n     <!-- train acc -->\n     <g transform=\"translate(170.634375 77.909375)scale(0.1 -0.1)\">\n      <use xlink:href=\"#DejaVuSans-116\"/>\n      <use x=\"39.208984\" xlink:href=\"#DejaVuSans-114\"/>\n      <use x=\"80.322266\" xlink:href=\"#DejaVuSans-97\"/>\n      <use x=\"141.601562\" xlink:href=\"#DejaVuSans-105\"/>\n      <use x=\"169.384766\" xlink:href=\"#DejaVuSans-110\"/>\n      <use x=\"232.763672\" xlink:href=\"#DejaVuSans-32\"/>\n      <use x=\"264.550781\" xlink:href=\"#DejaVuSans-97\"/>\n      <use x=\"325.830078\" xlink:href=\"#DejaVuSans-99\"/>\n      <use x=\"380.810547\" xlink:href=\"#DejaVuSans-99\"/>\n     </g>\n    </g>\n    <g id=\"line2d_24\">\n     <path d=\"M 142.634375 89.0875 \nL 162.634375 89.0875 \n\" style=\"fill:none;stroke:#008000;stroke-dasharray:9.6,2.4,1.5,2.4;stroke-dashoffset:0;stroke-width:1.5;\"/>\n    </g>\n    <g id=\"line2d_25\"/>\n    <g id=\"text_12\">\n     <!-- test acc -->\n     <g transform=\"translate(170.634375 92.5875)scale(0.1 -0.1)\">\n      <use xlink:href=\"#DejaVuSans-116\"/>\n      <use x=\"39.208984\" xlink:href=\"#DejaVuSans-101\"/>\n      <use x=\"100.732422\" xlink:href=\"#DejaVuSans-115\"/>\n      <use x=\"152.832031\" xlink:href=\"#DejaVuSans-116\"/>\n      <use x=\"192.041016\" xlink:href=\"#DejaVuSans-32\"/>\n      <use x=\"223.828125\" xlink:href=\"#DejaVuSans-97\"/>\n      <use x=\"285.107422\" xlink:href=\"#DejaVuSans-99\"/>\n      <use x=\"340.087891\" xlink:href=\"#DejaVuSans-99\"/>\n     </g>\n    </g>\n   </g>\n  </g>\n </g>\n <defs>\n  <clipPath id=\"p402da9e0d3\">\n   <rect height=\"135.9\" width=\"195.3\" x=\"30.103125\" y=\"7.2\"/>\n  </clipPath>\n </defs>\n</svg>\n"
          },
          "metadata": {
            "needs_background": "light"
          }
        }
      ]
    },
    {
      "cell_type": "code",
      "source": [
        "def predict(net, test_iter, n=6):\n",
        "  for X, y in test_iter:\n",
        "    break\n",
        "  trues = d2l.get_fashion_mnist_labels(y)\n",
        "  preds = d2l.get_fashion_mnist_labels(net(X).argmax(axis = 1))\n",
        "  titles = [true + '\\n' + pred for true, pred in zip(trues, preds)]\n",
        "  d2l.show_images(\n",
        "      X[0:n].reshape((n, 28, 28)), 1 , n, titles = titles[0:n])\n",
        "predict(net, test_iter)"
      ],
      "metadata": {
        "colab": {
          "base_uri": "https://localhost:8080/",
          "height": 198
        },
        "id": "hkU0DahPepAA",
        "outputId": "a36a44cf-ae41-4fb7-b35f-07a8850cd45d"
      },
      "execution_count": null,
      "outputs": [
        {
          "output_type": "display_data",
          "data": {
            "text/plain": [
              "<Figure size 648x108 with 6 Axes>"
            ],
            "image/svg+xml": "<?xml version=\"1.0\" encoding=\"utf-8\" standalone=\"no\"?>\n<!DOCTYPE svg PUBLIC \"-//W3C//DTD SVG 1.1//EN\"\n  \"http://www.w3.org/Graphics/SVG/1.1/DTD/svg11.dtd\">\n<!-- Created with matplotlib (https://matplotlib.org/) -->\n<svg height=\"118.198357pt\" version=\"1.1\" viewBox=\"0 0 520.1 118.198357\" width=\"520.1pt\" xmlns=\"http://www.w3.org/2000/svg\" xmlns:xlink=\"http://www.w3.org/1999/xlink\">\n <defs>\n  <style type=\"text/css\">\n*{stroke-linecap:butt;stroke-linejoin:round;}\n  </style>\n </defs>\n <g id=\"figure_1\">\n  <g id=\"patch_1\">\n   <path d=\"M 0 118.198357 \nL 520.1 118.198357 \nL 520.1 0 \nL 0 0 \nz\n\" style=\"fill:none;\"/>\n  </g>\n  <g id=\"axes_1\">\n   <g id=\"patch_2\">\n    <path d=\"M 10.7 107.498357 \nL 82.442857 107.498357 \nL 82.442857 35.7555 \nL 10.7 35.7555 \nz\n\" style=\"fill:#ffffff;\"/>\n   </g>\n   <g clip-path=\"url(#pd72efacc08)\">\n    <image height=\"72\" id=\"imagea71b416ebe\" transform=\"scale(1 -1)translate(0 -72)\" width=\"72\" x=\"10.7\" xlink:href=\"data:image/png;base64,\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\" y=\"-35.498357\"/>\n   </g>\n   <g id=\"patch_3\">\n    <path d=\"M 10.7 107.498357 \nL 10.7 35.7555 \n\" style=\"fill:none;stroke:#000000;stroke-linecap:square;stroke-linejoin:miter;stroke-width:0.8;\"/>\n   </g>\n   <g id=\"patch_4\">\n    <path d=\"M 82.442857 107.498357 \nL 82.442857 35.7555 \n\" style=\"fill:none;stroke:#000000;stroke-linecap:square;stroke-linejoin:miter;stroke-width:0.8;\"/>\n   </g>\n   <g id=\"patch_5\">\n    <path d=\"M 10.7 107.498357 \nL 82.442857 107.498357 \n\" style=\"fill:none;stroke:#000000;stroke-linecap:square;stroke-linejoin:miter;stroke-width:0.8;\"/>\n   </g>\n   <g id=\"patch_6\">\n    <path d=\"M 10.7 35.7555 \nL 82.442857 35.7555 \n\" style=\"fill:none;stroke:#000000;stroke-linecap:square;stroke-linejoin:miter;stroke-width:0.8;\"/>\n   </g>\n   <g id=\"text_1\">\n    <!-- ankle boot -->\n    <defs>\n     <path d=\"M 34.28125 27.484375 \nQ 23.390625 27.484375 19.1875 25 \nQ 14.984375 22.515625 14.984375 16.5 \nQ 14.984375 11.71875 18.140625 8.90625 \nQ 21.296875 6.109375 26.703125 6.109375 \nQ 34.1875 6.109375 38.703125 11.40625 \nQ 43.21875 16.703125 43.21875 25.484375 \nL 43.21875 27.484375 \nz\nM 52.203125 31.203125 \nL 52.203125 0 \nL 43.21875 0 \nL 43.21875 8.296875 \nQ 40.140625 3.328125 35.546875 0.953125 \nQ 30.953125 -1.421875 24.3125 -1.421875 \nQ 15.921875 -1.421875 10.953125 3.296875 \nQ 6 8.015625 6 15.921875 \nQ 6 25.140625 12.171875 29.828125 \nQ 18.359375 34.515625 30.609375 34.515625 \nL 43.21875 34.515625 \nL 43.21875 35.40625 \nQ 43.21875 41.609375 39.140625 45 \nQ 35.0625 48.390625 27.6875 48.390625 \nQ 23 48.390625 18.546875 47.265625 \nQ 14.109375 46.140625 10.015625 43.890625 \nL 10.015625 52.203125 \nQ 14.9375 54.109375 19.578125 55.046875 \nQ 24.21875 56 28.609375 56 \nQ 40.484375 56 46.34375 49.84375 \nQ 52.203125 43.703125 52.203125 31.203125 \nz\n\" id=\"DejaVuSans-97\"/>\n     <path d=\"M 54.890625 33.015625 \nL 54.890625 0 \nL 45.90625 0 \nL 45.90625 32.71875 \nQ 45.90625 40.484375 42.875 44.328125 \nQ 39.84375 48.1875 33.796875 48.1875 \nQ 26.515625 48.1875 22.3125 43.546875 \nQ 18.109375 38.921875 18.109375 30.90625 \nL 18.109375 0 \nL 9.078125 0 \nL 9.078125 54.6875 \nL 18.109375 54.6875 \nL 18.109375 46.1875 \nQ 21.34375 51.125 25.703125 53.5625 \nQ 30.078125 56 35.796875 56 \nQ 45.21875 56 50.046875 50.171875 \nQ 54.890625 44.34375 54.890625 33.015625 \nz\n\" id=\"DejaVuSans-110\"/>\n     <path d=\"M 9.078125 75.984375 \nL 18.109375 75.984375 \nL 18.109375 31.109375 \nL 44.921875 54.6875 \nL 56.390625 54.6875 \nL 27.390625 29.109375 \nL 57.625 0 \nL 45.90625 0 \nL 18.109375 26.703125 \nL 18.109375 0 \nL 9.078125 0 \nz\n\" id=\"DejaVuSans-107\"/>\n     <path d=\"M 9.421875 75.984375 \nL 18.40625 75.984375 \nL 18.40625 0 \nL 9.421875 0 \nz\n\" id=\"DejaVuSans-108\"/>\n     <path d=\"M 56.203125 29.59375 \nL 56.203125 25.203125 \nL 14.890625 25.203125 \nQ 15.484375 15.921875 20.484375 11.0625 \nQ 25.484375 6.203125 34.421875 6.203125 \nQ 39.59375 6.203125 44.453125 7.46875 \nQ 49.3125 8.734375 54.109375 11.28125 \nL 54.109375 2.78125 \nQ 49.265625 0.734375 44.1875 -0.34375 \nQ 39.109375 -1.421875 33.890625 -1.421875 \nQ 20.796875 -1.421875 13.15625 6.1875 \nQ 5.515625 13.8125 5.515625 26.8125 \nQ 5.515625 40.234375 12.765625 48.109375 \nQ 20.015625 56 32.328125 56 \nQ 43.359375 56 49.78125 48.890625 \nQ 56.203125 41.796875 56.203125 29.59375 \nz\nM 47.21875 32.234375 \nQ 47.125 39.59375 43.09375 43.984375 \nQ 39.0625 48.390625 32.421875 48.390625 \nQ 24.90625 48.390625 20.390625 44.140625 \nQ 15.875 39.890625 15.1875 32.171875 \nz\n\" id=\"DejaVuSans-101\"/>\n     <path id=\"DejaVuSans-32\"/>\n     <path d=\"M 48.6875 27.296875 \nQ 48.6875 37.203125 44.609375 42.84375 \nQ 40.53125 48.484375 33.40625 48.484375 \nQ 26.265625 48.484375 22.1875 42.84375 \nQ 18.109375 37.203125 18.109375 27.296875 \nQ 18.109375 17.390625 22.1875 11.75 \nQ 26.265625 6.109375 33.40625 6.109375 \nQ 40.53125 6.109375 44.609375 11.75 \nQ 48.6875 17.390625 48.6875 27.296875 \nz\nM 18.109375 46.390625 \nQ 20.953125 51.265625 25.265625 53.625 \nQ 29.59375 56 35.59375 56 \nQ 45.5625 56 51.78125 48.09375 \nQ 58.015625 40.1875 58.015625 27.296875 \nQ 58.015625 14.40625 51.78125 6.484375 \nQ 45.5625 -1.421875 35.59375 -1.421875 \nQ 29.59375 -1.421875 25.265625 0.953125 \nQ 20.953125 3.328125 18.109375 8.203125 \nL 18.109375 0 \nL 9.078125 0 \nL 9.078125 75.984375 \nL 18.109375 75.984375 \nz\n\" id=\"DejaVuSans-98\"/>\n     <path d=\"M 30.609375 48.390625 \nQ 23.390625 48.390625 19.1875 42.75 \nQ 14.984375 37.109375 14.984375 27.296875 \nQ 14.984375 17.484375 19.15625 11.84375 \nQ 23.34375 6.203125 30.609375 6.203125 \nQ 37.796875 6.203125 41.984375 11.859375 \nQ 46.1875 17.53125 46.1875 27.296875 \nQ 46.1875 37.015625 41.984375 42.703125 \nQ 37.796875 48.390625 30.609375 48.390625 \nz\nM 30.609375 56 \nQ 42.328125 56 49.015625 48.375 \nQ 55.71875 40.765625 55.71875 27.296875 \nQ 55.71875 13.875 49.015625 6.21875 \nQ 42.328125 -1.421875 30.609375 -1.421875 \nQ 18.84375 -1.421875 12.171875 6.21875 \nQ 5.515625 13.875 5.515625 27.296875 \nQ 5.515625 40.765625 12.171875 48.375 \nQ 18.84375 56 30.609375 56 \nz\n\" id=\"DejaVuSans-111\"/>\n     <path d=\"M 18.3125 70.21875 \nL 18.3125 54.6875 \nL 36.8125 54.6875 \nL 36.8125 47.703125 \nL 18.3125 47.703125 \nL 18.3125 18.015625 \nQ 18.3125 11.328125 20.140625 9.421875 \nQ 21.96875 7.515625 27.59375 7.515625 \nL 36.8125 7.515625 \nL 36.8125 0 \nL 27.59375 0 \nQ 17.1875 0 13.234375 3.875 \nQ 9.28125 7.765625 9.28125 18.015625 \nL 9.28125 47.703125 \nL 2.6875 47.703125 \nL 2.6875 54.6875 \nL 9.28125 54.6875 \nL 9.28125 70.21875 \nz\n\" id=\"DejaVuSans-116\"/>\n    </defs>\n    <g transform=\"translate(14.848304 16.318125)scale(0.12 -0.12)\">\n     <use xlink:href=\"#DejaVuSans-97\"/>\n     <use x=\"61.279297\" xlink:href=\"#DejaVuSans-110\"/>\n     <use x=\"124.658203\" xlink:href=\"#DejaVuSans-107\"/>\n     <use x=\"182.568359\" xlink:href=\"#DejaVuSans-108\"/>\n     <use x=\"210.351562\" xlink:href=\"#DejaVuSans-101\"/>\n     <use x=\"271.875\" xlink:href=\"#DejaVuSans-32\"/>\n     <use x=\"303.662109\" xlink:href=\"#DejaVuSans-98\"/>\n     <use x=\"367.138672\" xlink:href=\"#DejaVuSans-111\"/>\n     <use x=\"428.320312\" xlink:href=\"#DejaVuSans-111\"/>\n     <use x=\"489.501953\" xlink:href=\"#DejaVuSans-116\"/>\n    </g>\n    <!-- ankle boot -->\n    <g transform=\"translate(14.848304 29.7555)scale(0.12 -0.12)\">\n     <use xlink:href=\"#DejaVuSans-97\"/>\n     <use x=\"61.279297\" xlink:href=\"#DejaVuSans-110\"/>\n     <use x=\"124.658203\" xlink:href=\"#DejaVuSans-107\"/>\n     <use x=\"182.568359\" xlink:href=\"#DejaVuSans-108\"/>\n     <use x=\"210.351562\" xlink:href=\"#DejaVuSans-101\"/>\n     <use x=\"271.875\" xlink:href=\"#DejaVuSans-32\"/>\n     <use x=\"303.662109\" xlink:href=\"#DejaVuSans-98\"/>\n     <use x=\"367.138672\" xlink:href=\"#DejaVuSans-111\"/>\n     <use x=\"428.320312\" xlink:href=\"#DejaVuSans-111\"/>\n     <use x=\"489.501953\" xlink:href=\"#DejaVuSans-116\"/>\n    </g>\n   </g>\n  </g>\n  <g id=\"axes_2\">\n   <g id=\"patch_7\">\n    <path d=\"M 96.791429 107.498357 \nL 168.534286 107.498357 \nL 168.534286 35.7555 \nL 96.791429 35.7555 \nz\n\" style=\"fill:#ffffff;\"/>\n   </g>\n   <g clip-path=\"url(#p828c69c19d)\">\n    <image height=\"72\" id=\"image7d8ee63039\" transform=\"scale(1 -1)translate(0 -72)\" width=\"72\" x=\"96.791429\" xlink:href=\"data:image/png;base64,\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\" y=\"-35.498357\"/>\n   </g>\n   <g id=\"patch_8\">\n    <path d=\"M 96.791429 107.498357 \nL 96.791429 35.7555 \n\" style=\"fill:none;stroke:#000000;stroke-linecap:square;stroke-linejoin:miter;stroke-width:0.8;\"/>\n   </g>\n   <g id=\"patch_9\">\n    <path d=\"M 168.534286 107.498357 \nL 168.534286 35.7555 \n\" style=\"fill:none;stroke:#000000;stroke-linecap:square;stroke-linejoin:miter;stroke-width:0.8;\"/>\n   </g>\n   <g id=\"patch_10\">\n    <path d=\"M 96.791429 107.498357 \nL 168.534286 107.498357 \n\" style=\"fill:none;stroke:#000000;stroke-linecap:square;stroke-linejoin:miter;stroke-width:0.8;\"/>\n   </g>\n   <g id=\"patch_11\">\n    <path d=\"M 96.791429 35.7555 \nL 168.534286 35.7555 \n\" style=\"fill:none;stroke:#000000;stroke-linecap:square;stroke-linejoin:miter;stroke-width:0.8;\"/>\n   </g>\n   <g id=\"text_2\">\n    <!-- pullover -->\n    <defs>\n     <path d=\"M 18.109375 8.203125 \nL 18.109375 -20.796875 \nL 9.078125 -20.796875 \nL 9.078125 54.6875 \nL 18.109375 54.6875 \nL 18.109375 46.390625 \nQ 20.953125 51.265625 25.265625 53.625 \nQ 29.59375 56 35.59375 56 \nQ 45.5625 56 51.78125 48.09375 \nQ 58.015625 40.1875 58.015625 27.296875 \nQ 58.015625 14.40625 51.78125 6.484375 \nQ 45.5625 -1.421875 35.59375 -1.421875 \nQ 29.59375 -1.421875 25.265625 0.953125 \nQ 20.953125 3.328125 18.109375 8.203125 \nz\nM 48.6875 27.296875 \nQ 48.6875 37.203125 44.609375 42.84375 \nQ 40.53125 48.484375 33.40625 48.484375 \nQ 26.265625 48.484375 22.1875 42.84375 \nQ 18.109375 37.203125 18.109375 27.296875 \nQ 18.109375 17.390625 22.1875 11.75 \nQ 26.265625 6.109375 33.40625 6.109375 \nQ 40.53125 6.109375 44.609375 11.75 \nQ 48.6875 17.390625 48.6875 27.296875 \nz\n\" id=\"DejaVuSans-112\"/>\n     <path d=\"M 8.5 21.578125 \nL 8.5 54.6875 \nL 17.484375 54.6875 \nL 17.484375 21.921875 \nQ 17.484375 14.15625 20.5 10.265625 \nQ 23.53125 6.390625 29.59375 6.390625 \nQ 36.859375 6.390625 41.078125 11.03125 \nQ 45.3125 15.671875 45.3125 23.6875 \nL 45.3125 54.6875 \nL 54.296875 54.6875 \nL 54.296875 0 \nL 45.3125 0 \nL 45.3125 8.40625 \nQ 42.046875 3.421875 37.71875 1 \nQ 33.40625 -1.421875 27.6875 -1.421875 \nQ 18.265625 -1.421875 13.375 4.4375 \nQ 8.5 10.296875 8.5 21.578125 \nz\nM 31.109375 56 \nz\n\" id=\"DejaVuSans-117\"/>\n     <path d=\"M 2.984375 54.6875 \nL 12.5 54.6875 \nL 29.59375 8.796875 \nL 46.6875 54.6875 \nL 56.203125 54.6875 \nL 35.6875 0 \nL 23.484375 0 \nz\n\" id=\"DejaVuSans-118\"/>\n     <path d=\"M 41.109375 46.296875 \nQ 39.59375 47.171875 37.8125 47.578125 \nQ 36.03125 48 33.890625 48 \nQ 26.265625 48 22.1875 43.046875 \nQ 18.109375 38.09375 18.109375 28.8125 \nL 18.109375 0 \nL 9.078125 0 \nL 9.078125 54.6875 \nL 18.109375 54.6875 \nL 18.109375 46.1875 \nQ 20.953125 51.171875 25.484375 53.578125 \nQ 30.03125 56 36.53125 56 \nQ 37.453125 56 38.578125 55.875 \nQ 39.703125 55.765625 41.0625 55.515625 \nz\n\" id=\"DejaVuSans-114\"/>\n    </defs>\n    <g transform=\"translate(108.336607 16.318125)scale(0.12 -0.12)\">\n     <use xlink:href=\"#DejaVuSans-112\"/>\n     <use x=\"63.476562\" xlink:href=\"#DejaVuSans-117\"/>\n     <use x=\"126.855469\" xlink:href=\"#DejaVuSans-108\"/>\n     <use x=\"154.638672\" xlink:href=\"#DejaVuSans-108\"/>\n     <use x=\"182.421875\" xlink:href=\"#DejaVuSans-111\"/>\n     <use x=\"243.603516\" xlink:href=\"#DejaVuSans-118\"/>\n     <use x=\"302.783203\" xlink:href=\"#DejaVuSans-101\"/>\n     <use x=\"364.306641\" xlink:href=\"#DejaVuSans-114\"/>\n    </g>\n    <!-- pullover -->\n    <g transform=\"translate(108.336607 29.7555)scale(0.12 -0.12)\">\n     <use xlink:href=\"#DejaVuSans-112\"/>\n     <use x=\"63.476562\" xlink:href=\"#DejaVuSans-117\"/>\n     <use x=\"126.855469\" xlink:href=\"#DejaVuSans-108\"/>\n     <use x=\"154.638672\" xlink:href=\"#DejaVuSans-108\"/>\n     <use x=\"182.421875\" xlink:href=\"#DejaVuSans-111\"/>\n     <use x=\"243.603516\" xlink:href=\"#DejaVuSans-118\"/>\n     <use x=\"302.783203\" xlink:href=\"#DejaVuSans-101\"/>\n     <use x=\"364.306641\" xlink:href=\"#DejaVuSans-114\"/>\n    </g>\n   </g>\n  </g>\n  <g id=\"axes_3\">\n   <g id=\"patch_12\">\n    <path d=\"M 182.882857 107.498357 \nL 254.625714 107.498357 \nL 254.625714 35.7555 \nL 182.882857 35.7555 \nz\n\" style=\"fill:#ffffff;\"/>\n   </g>\n   <g clip-path=\"url(#p0142092a39)\">\n    <image height=\"72\" id=\"imagecbacfe87d3\" transform=\"scale(1 -1)translate(0 -72)\" width=\"72\" x=\"182.882857\" xlink:href=\"data:image/png;base64,\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\" y=\"-35.498357\"/>\n   </g>\n   <g id=\"patch_13\">\n    <path d=\"M 182.882857 107.498357 \nL 182.882857 35.7555 \n\" style=\"fill:none;stroke:#000000;stroke-linecap:square;stroke-linejoin:miter;stroke-width:0.8;\"/>\n   </g>\n   <g id=\"patch_14\">\n    <path d=\"M 254.625714 107.498357 \nL 254.625714 35.7555 \n\" style=\"fill:none;stroke:#000000;stroke-linecap:square;stroke-linejoin:miter;stroke-width:0.8;\"/>\n   </g>\n   <g id=\"patch_15\">\n    <path d=\"M 182.882857 107.498357 \nL 254.625714 107.498357 \n\" style=\"fill:none;stroke:#000000;stroke-linecap:square;stroke-linejoin:miter;stroke-width:0.8;\"/>\n   </g>\n   <g id=\"patch_16\">\n    <path d=\"M 182.882857 35.7555 \nL 254.625714 35.7555 \n\" style=\"fill:none;stroke:#000000;stroke-linecap:square;stroke-linejoin:miter;stroke-width:0.8;\"/>\n   </g>\n   <g id=\"text_3\">\n    <!-- trouser -->\n    <defs>\n     <path d=\"M 44.28125 53.078125 \nL 44.28125 44.578125 \nQ 40.484375 46.53125 36.375 47.5 \nQ 32.28125 48.484375 27.875 48.484375 \nQ 21.1875 48.484375 17.84375 46.4375 \nQ 14.5 44.390625 14.5 40.28125 \nQ 14.5 37.15625 16.890625 35.375 \nQ 19.28125 33.59375 26.515625 31.984375 \nL 29.59375 31.296875 \nQ 39.15625 29.25 43.1875 25.515625 \nQ 47.21875 21.78125 47.21875 15.09375 \nQ 47.21875 7.46875 41.1875 3.015625 \nQ 35.15625 -1.421875 24.609375 -1.421875 \nQ 20.21875 -1.421875 15.453125 -0.5625 \nQ 10.6875 0.296875 5.421875 2 \nL 5.421875 11.28125 \nQ 10.40625 8.6875 15.234375 7.390625 \nQ 20.0625 6.109375 24.8125 6.109375 \nQ 31.15625 6.109375 34.5625 8.28125 \nQ 37.984375 10.453125 37.984375 14.40625 \nQ 37.984375 18.0625 35.515625 20.015625 \nQ 33.0625 21.96875 24.703125 23.78125 \nL 21.578125 24.515625 \nQ 13.234375 26.265625 9.515625 29.90625 \nQ 5.8125 33.546875 5.8125 39.890625 \nQ 5.8125 47.609375 11.28125 51.796875 \nQ 16.75 56 26.8125 56 \nQ 31.78125 56 36.171875 55.265625 \nQ 40.578125 54.546875 44.28125 53.078125 \nz\n\" id=\"DejaVuSans-115\"/>\n    </defs>\n    <g transform=\"translate(197.312723 16.318125)scale(0.12 -0.12)\">\n     <use xlink:href=\"#DejaVuSans-116\"/>\n     <use x=\"39.208984\" xlink:href=\"#DejaVuSans-114\"/>\n     <use x=\"78.072266\" xlink:href=\"#DejaVuSans-111\"/>\n     <use x=\"139.253906\" xlink:href=\"#DejaVuSans-117\"/>\n     <use x=\"202.632812\" xlink:href=\"#DejaVuSans-115\"/>\n     <use x=\"254.732422\" xlink:href=\"#DejaVuSans-101\"/>\n     <use x=\"316.255859\" xlink:href=\"#DejaVuSans-114\"/>\n    </g>\n    <!-- trouser -->\n    <g transform=\"translate(197.312723 29.7555)scale(0.12 -0.12)\">\n     <use xlink:href=\"#DejaVuSans-116\"/>\n     <use x=\"39.208984\" xlink:href=\"#DejaVuSans-114\"/>\n     <use x=\"78.072266\" xlink:href=\"#DejaVuSans-111\"/>\n     <use x=\"139.253906\" xlink:href=\"#DejaVuSans-117\"/>\n     <use x=\"202.632812\" xlink:href=\"#DejaVuSans-115\"/>\n     <use x=\"254.732422\" xlink:href=\"#DejaVuSans-101\"/>\n     <use x=\"316.255859\" xlink:href=\"#DejaVuSans-114\"/>\n    </g>\n   </g>\n  </g>\n  <g id=\"axes_4\">\n   <g id=\"patch_17\">\n    <path d=\"M 268.974286 107.498357 \nL 340.717143 107.498357 \nL 340.717143 35.7555 \nL 268.974286 35.7555 \nz\n\" style=\"fill:#ffffff;\"/>\n   </g>\n   <g clip-path=\"url(#p7daee26179)\">\n    <image height=\"72\" id=\"imageec7c8104a1\" transform=\"scale(1 -1)translate(0 -72)\" width=\"72\" x=\"268.974286\" xlink:href=\"data:image/png;base64,\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\" y=\"-35.498357\"/>\n   </g>\n   <g id=\"patch_18\">\n    <path d=\"M 268.974286 107.498357 \nL 268.974286 35.7555 \n\" style=\"fill:none;stroke:#000000;stroke-linecap:square;stroke-linejoin:miter;stroke-width:0.8;\"/>\n   </g>\n   <g id=\"patch_19\">\n    <path d=\"M 340.717143 107.498357 \nL 340.717143 35.7555 \n\" style=\"fill:none;stroke:#000000;stroke-linecap:square;stroke-linejoin:miter;stroke-width:0.8;\"/>\n   </g>\n   <g id=\"patch_20\">\n    <path d=\"M 268.974286 107.498357 \nL 340.717143 107.498357 \n\" style=\"fill:none;stroke:#000000;stroke-linecap:square;stroke-linejoin:miter;stroke-width:0.8;\"/>\n   </g>\n   <g id=\"patch_21\">\n    <path d=\"M 268.974286 35.7555 \nL 340.717143 35.7555 \n\" style=\"fill:none;stroke:#000000;stroke-linecap:square;stroke-linejoin:miter;stroke-width:0.8;\"/>\n   </g>\n   <g id=\"text_4\">\n    <!-- trouser -->\n    <g transform=\"translate(283.404152 16.318125)scale(0.12 -0.12)\">\n     <use xlink:href=\"#DejaVuSans-116\"/>\n     <use x=\"39.208984\" xlink:href=\"#DejaVuSans-114\"/>\n     <use x=\"78.072266\" xlink:href=\"#DejaVuSans-111\"/>\n     <use x=\"139.253906\" xlink:href=\"#DejaVuSans-117\"/>\n     <use x=\"202.632812\" xlink:href=\"#DejaVuSans-115\"/>\n     <use x=\"254.732422\" xlink:href=\"#DejaVuSans-101\"/>\n     <use x=\"316.255859\" xlink:href=\"#DejaVuSans-114\"/>\n    </g>\n    <!-- trouser -->\n    <g transform=\"translate(283.404152 29.7555)scale(0.12 -0.12)\">\n     <use xlink:href=\"#DejaVuSans-116\"/>\n     <use x=\"39.208984\" xlink:href=\"#DejaVuSans-114\"/>\n     <use x=\"78.072266\" xlink:href=\"#DejaVuSans-111\"/>\n     <use x=\"139.253906\" xlink:href=\"#DejaVuSans-117\"/>\n     <use x=\"202.632812\" xlink:href=\"#DejaVuSans-115\"/>\n     <use x=\"254.732422\" xlink:href=\"#DejaVuSans-101\"/>\n     <use x=\"316.255859\" xlink:href=\"#DejaVuSans-114\"/>\n    </g>\n   </g>\n  </g>\n  <g id=\"axes_5\">\n   <g id=\"patch_22\">\n    <path d=\"M 355.065714 107.498357 \nL 426.808571 107.498357 \nL 426.808571 35.7555 \nL 355.065714 35.7555 \nz\n\" style=\"fill:#ffffff;\"/>\n   </g>\n   <g clip-path=\"url(#p67b1c4ab15)\">\n    <image height=\"72\" id=\"imagebc21565c6a\" transform=\"scale(1 -1)translate(0 -72)\" width=\"72\" x=\"355.065714\" xlink:href=\"data:image/png;base64,\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\" y=\"-35.498357\"/>\n   </g>\n   <g id=\"patch_23\">\n    <path d=\"M 355.065714 107.498357 \nL 355.065714 35.7555 \n\" style=\"fill:none;stroke:#000000;stroke-linecap:square;stroke-linejoin:miter;stroke-width:0.8;\"/>\n   </g>\n   <g id=\"patch_24\">\n    <path d=\"M 426.808571 107.498357 \nL 426.808571 35.7555 \n\" style=\"fill:none;stroke:#000000;stroke-linecap:square;stroke-linejoin:miter;stroke-width:0.8;\"/>\n   </g>\n   <g id=\"patch_25\">\n    <path d=\"M 355.065714 107.498357 \nL 426.808571 107.498357 \n\" style=\"fill:none;stroke:#000000;stroke-linecap:square;stroke-linejoin:miter;stroke-width:0.8;\"/>\n   </g>\n   <g id=\"patch_26\">\n    <path d=\"M 355.065714 35.7555 \nL 426.808571 35.7555 \n\" style=\"fill:none;stroke:#000000;stroke-linecap:square;stroke-linejoin:miter;stroke-width:0.8;\"/>\n   </g>\n   <g id=\"text_5\">\n    <!-- shirt -->\n    <defs>\n     <path d=\"M 54.890625 33.015625 \nL 54.890625 0 \nL 45.90625 0 \nL 45.90625 32.71875 \nQ 45.90625 40.484375 42.875 44.328125 \nQ 39.84375 48.1875 33.796875 48.1875 \nQ 26.515625 48.1875 22.3125 43.546875 \nQ 18.109375 38.921875 18.109375 30.90625 \nL 18.109375 0 \nL 9.078125 0 \nL 9.078125 75.984375 \nL 18.109375 75.984375 \nL 18.109375 46.1875 \nQ 21.34375 51.125 25.703125 53.5625 \nQ 30.078125 56 35.796875 56 \nQ 45.21875 56 50.046875 50.171875 \nQ 54.890625 44.34375 54.890625 33.015625 \nz\n\" id=\"DejaVuSans-104\"/>\n     <path d=\"M 9.421875 54.6875 \nL 18.40625 54.6875 \nL 18.40625 0 \nL 9.421875 0 \nz\nM 9.421875 75.984375 \nL 18.40625 75.984375 \nL 18.40625 64.59375 \nL 9.421875 64.59375 \nz\n\" id=\"DejaVuSans-105\"/>\n    </defs>\n    <g transform=\"translate(377.523393 16.318125)scale(0.12 -0.12)\">\n     <use xlink:href=\"#DejaVuSans-115\"/>\n     <use x=\"52.099609\" xlink:href=\"#DejaVuSans-104\"/>\n     <use x=\"115.478516\" xlink:href=\"#DejaVuSans-105\"/>\n     <use x=\"143.261719\" xlink:href=\"#DejaVuSans-114\"/>\n     <use x=\"184.375\" xlink:href=\"#DejaVuSans-116\"/>\n    </g>\n    <!-- shirt -->\n    <g transform=\"translate(377.523393 29.7555)scale(0.12 -0.12)\">\n     <use xlink:href=\"#DejaVuSans-115\"/>\n     <use x=\"52.099609\" xlink:href=\"#DejaVuSans-104\"/>\n     <use x=\"115.478516\" xlink:href=\"#DejaVuSans-105\"/>\n     <use x=\"143.261719\" xlink:href=\"#DejaVuSans-114\"/>\n     <use x=\"184.375\" xlink:href=\"#DejaVuSans-116\"/>\n    </g>\n   </g>\n  </g>\n  <g id=\"axes_6\">\n   <g id=\"patch_27\">\n    <path d=\"M 441.157143 107.498357 \nL 512.9 107.498357 \nL 512.9 35.7555 \nL 441.157143 35.7555 \nz\n\" style=\"fill:#ffffff;\"/>\n   </g>\n   <g clip-path=\"url(#p4338a37223)\">\n    <image height=\"72\" id=\"image7e122ff1f0\" transform=\"scale(1 -1)translate(0 -72)\" width=\"72\" x=\"441.157143\" xlink:href=\"data:image/png;base64,\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\" y=\"-35.498357\"/>\n   </g>\n   <g id=\"patch_28\">\n    <path d=\"M 441.157143 107.498357 \nL 441.157143 35.7555 \n\" style=\"fill:none;stroke:#000000;stroke-linecap:square;stroke-linejoin:miter;stroke-width:0.8;\"/>\n   </g>\n   <g id=\"patch_29\">\n    <path d=\"M 512.9 107.498357 \nL 512.9 35.7555 \n\" style=\"fill:none;stroke:#000000;stroke-linecap:square;stroke-linejoin:miter;stroke-width:0.8;\"/>\n   </g>\n   <g id=\"patch_30\">\n    <path d=\"M 441.157143 107.498357 \nL 512.9 107.498357 \n\" style=\"fill:none;stroke:#000000;stroke-linecap:square;stroke-linejoin:miter;stroke-width:0.8;\"/>\n   </g>\n   <g id=\"patch_31\">\n    <path d=\"M 441.157143 35.7555 \nL 512.9 35.7555 \n\" style=\"fill:none;stroke:#000000;stroke-linecap:square;stroke-linejoin:miter;stroke-width:0.8;\"/>\n   </g>\n   <g id=\"text_6\">\n    <!-- trouser -->\n    <g transform=\"translate(455.587009 16.318125)scale(0.12 -0.12)\">\n     <use xlink:href=\"#DejaVuSans-116\"/>\n     <use x=\"39.208984\" xlink:href=\"#DejaVuSans-114\"/>\n     <use x=\"78.072266\" xlink:href=\"#DejaVuSans-111\"/>\n     <use x=\"139.253906\" xlink:href=\"#DejaVuSans-117\"/>\n     <use x=\"202.632812\" xlink:href=\"#DejaVuSans-115\"/>\n     <use x=\"254.732422\" xlink:href=\"#DejaVuSans-101\"/>\n     <use x=\"316.255859\" xlink:href=\"#DejaVuSans-114\"/>\n    </g>\n    <!-- trouser -->\n    <g transform=\"translate(455.587009 29.7555)scale(0.12 -0.12)\">\n     <use xlink:href=\"#DejaVuSans-116\"/>\n     <use x=\"39.208984\" xlink:href=\"#DejaVuSans-114\"/>\n     <use x=\"78.072266\" xlink:href=\"#DejaVuSans-111\"/>\n     <use x=\"139.253906\" xlink:href=\"#DejaVuSans-117\"/>\n     <use x=\"202.632812\" xlink:href=\"#DejaVuSans-115\"/>\n     <use x=\"254.732422\" xlink:href=\"#DejaVuSans-101\"/>\n     <use x=\"316.255859\" xlink:href=\"#DejaVuSans-114\"/>\n    </g>\n   </g>\n  </g>\n </g>\n <defs>\n  <clipPath id=\"pd72efacc08\">\n   <rect height=\"71.742857\" width=\"71.742857\" x=\"10.7\" y=\"35.7555\"/>\n  </clipPath>\n  <clipPath id=\"p828c69c19d\">\n   <rect height=\"71.742857\" width=\"71.742857\" x=\"96.791429\" y=\"35.7555\"/>\n  </clipPath>\n  <clipPath id=\"p0142092a39\">\n   <rect height=\"71.742857\" width=\"71.742857\" x=\"182.882857\" y=\"35.7555\"/>\n  </clipPath>\n  <clipPath id=\"p7daee26179\">\n   <rect height=\"71.742857\" width=\"71.742857\" x=\"268.974286\" y=\"35.7555\"/>\n  </clipPath>\n  <clipPath id=\"p67b1c4ab15\">\n   <rect height=\"71.742857\" width=\"71.742857\" x=\"355.065714\" y=\"35.7555\"/>\n  </clipPath>\n  <clipPath id=\"p4338a37223\">\n   <rect height=\"71.742857\" width=\"71.742857\" x=\"441.157143\" y=\"35.7555\"/>\n  </clipPath>\n </defs>\n</svg>\n"
          },
          "metadata": {
            "needs_background": "light"
          }
        }
      ]
    },
    {
      "cell_type": "code",
      "source": [
        "import torch\n",
        "from torch import nn\n",
        "from d2l import torch as d2l"
      ],
      "metadata": {
        "id": "jwQryqM1iKxx"
      },
      "execution_count": null,
      "outputs": []
    },
    {
      "cell_type": "code",
      "source": [
        "batch_size = 256\n",
        "train_iter, test_iter = d2l.load_data_fashion_mnist(batch_size)"
      ],
      "metadata": {
        "id": "nKPv6tCAiuki"
      },
      "execution_count": null,
      "outputs": []
    },
    {
      "cell_type": "code",
      "source": [
        "net = nn.Sequential(nn.Flatten(), nn.Linear(784, 10))\n",
        "\n",
        "def init_weights(m):\n",
        "  if type(m) == nn.Linear:\n",
        "    nn.init.normal_(m.weight, std = 0.01)\n",
        "\n",
        "net.apply(init_weights)"
      ],
      "metadata": {
        "colab": {
          "base_uri": "https://localhost:8080/"
        },
        "id": "EDPRRiSui4oh",
        "outputId": "435b624b-d714-44f5-8b5d-2d0a2ad96257"
      },
      "execution_count": null,
      "outputs": [
        {
          "output_type": "execute_result",
          "data": {
            "text/plain": [
              "Sequential(\n",
              "  (0): Flatten(start_dim=1, end_dim=-1)\n",
              "  (1): Linear(in_features=784, out_features=10, bias=True)\n",
              ")"
            ]
          },
          "metadata": {},
          "execution_count": 58
        }
      ]
    },
    {
      "cell_type": "code",
      "source": [
        "loss = nn.CrossEntropyLoss(reduction = 'none')"
      ],
      "metadata": {
        "id": "OyhPnQL4jYQc"
      },
      "execution_count": null,
      "outputs": []
    },
    {
      "cell_type": "code",
      "source": [
        "trainer = torch.optim.SGD(net.parameters(), lr = 0.1)"
      ],
      "metadata": {
        "id": "ZNcmSoOqjil4"
      },
      "execution_count": null,
      "outputs": []
    },
    {
      "cell_type": "code",
      "source": [
        "num_epochs = 10\n",
        "d2l.train_ch3(net, train_iter, test_iter, loss, num_epochs, trainer)"
      ],
      "metadata": {
        "colab": {
          "base_uri": "https://localhost:8080/",
          "height": 261
        },
        "id": "ge2s_Tbwjoyv",
        "outputId": "b2591df4-4325-4981-92ab-502767427d6c"
      },
      "execution_count": null,
      "outputs": [
        {
          "output_type": "display_data",
          "data": {
            "text/plain": [
              "<Figure size 252x180 with 1 Axes>"
            ],
            "image/svg+xml": "<?xml version=\"1.0\" encoding=\"utf-8\" standalone=\"no\"?>\n<!DOCTYPE svg PUBLIC \"-//W3C//DTD SVG 1.1//EN\"\n  \"http://www.w3.org/Graphics/SVG/1.1/DTD/svg11.dtd\">\n<!-- Created with matplotlib (https://matplotlib.org/) -->\n<svg height=\"180.65625pt\" version=\"1.1\" viewBox=\"0 0 238.965625 180.65625\" width=\"238.965625pt\" xmlns=\"http://www.w3.org/2000/svg\" xmlns:xlink=\"http://www.w3.org/1999/xlink\">\n <defs>\n  <style type=\"text/css\">\n*{stroke-linecap:butt;stroke-linejoin:round;}\n  </style>\n </defs>\n <g id=\"figure_1\">\n  <g id=\"patch_1\">\n   <path d=\"M 0 180.65625 \nL 238.965625 180.65625 \nL 238.965625 0 \nL 0 0 \nz\n\" style=\"fill:none;\"/>\n  </g>\n  <g id=\"axes_1\">\n   <g id=\"patch_2\">\n    <path d=\"M 30.103125 143.1 \nL 225.403125 143.1 \nL 225.403125 7.2 \nL 30.103125 7.2 \nz\n\" style=\"fill:#ffffff;\"/>\n   </g>\n   <g id=\"matplotlib.axis_1\">\n    <g id=\"xtick_1\">\n     <g id=\"line2d_1\">\n      <path clip-path=\"url(#p8c66be9e37)\" d=\"M 51.803125 143.1 \nL 51.803125 7.2 \n\" style=\"fill:none;stroke:#b0b0b0;stroke-linecap:square;stroke-width:0.8;\"/>\n     </g>\n     <g id=\"line2d_2\">\n      <defs>\n       <path d=\"M 0 0 \nL 0 3.5 \n\" id=\"m96b8e8b0a9\" style=\"stroke:#000000;stroke-width:0.8;\"/>\n      </defs>\n      <g>\n       <use style=\"stroke:#000000;stroke-width:0.8;\" x=\"51.803125\" xlink:href=\"#m96b8e8b0a9\" y=\"143.1\"/>\n      </g>\n     </g>\n     <g id=\"text_1\">\n      <!-- 2 -->\n      <defs>\n       <path d=\"M 19.1875 8.296875 \nL 53.609375 8.296875 \nL 53.609375 0 \nL 7.328125 0 \nL 7.328125 8.296875 \nQ 12.9375 14.109375 22.625 23.890625 \nQ 32.328125 33.6875 34.8125 36.53125 \nQ 39.546875 41.84375 41.421875 45.53125 \nQ 43.3125 49.21875 43.3125 52.78125 \nQ 43.3125 58.59375 39.234375 62.25 \nQ 35.15625 65.921875 28.609375 65.921875 \nQ 23.96875 65.921875 18.8125 64.3125 \nQ 13.671875 62.703125 7.8125 59.421875 \nL 7.8125 69.390625 \nQ 13.765625 71.78125 18.9375 73 \nQ 24.125 74.21875 28.421875 74.21875 \nQ 39.75 74.21875 46.484375 68.546875 \nQ 53.21875 62.890625 53.21875 53.421875 \nQ 53.21875 48.921875 51.53125 44.890625 \nQ 49.859375 40.875 45.40625 35.40625 \nQ 44.1875 33.984375 37.640625 27.21875 \nQ 31.109375 20.453125 19.1875 8.296875 \nz\n\" id=\"DejaVuSans-50\"/>\n      </defs>\n      <g transform=\"translate(48.621875 157.698438)scale(0.1 -0.1)\">\n       <use xlink:href=\"#DejaVuSans-50\"/>\n      </g>\n     </g>\n    </g>\n    <g id=\"xtick_2\">\n     <g id=\"line2d_3\">\n      <path clip-path=\"url(#p8c66be9e37)\" d=\"M 95.203125 143.1 \nL 95.203125 7.2 \n\" style=\"fill:none;stroke:#b0b0b0;stroke-linecap:square;stroke-width:0.8;\"/>\n     </g>\n     <g id=\"line2d_4\">\n      <g>\n       <use style=\"stroke:#000000;stroke-width:0.8;\" x=\"95.203125\" xlink:href=\"#m96b8e8b0a9\" y=\"143.1\"/>\n      </g>\n     </g>\n     <g id=\"text_2\">\n      <!-- 4 -->\n      <defs>\n       <path d=\"M 37.796875 64.3125 \nL 12.890625 25.390625 \nL 37.796875 25.390625 \nz\nM 35.203125 72.90625 \nL 47.609375 72.90625 \nL 47.609375 25.390625 \nL 58.015625 25.390625 \nL 58.015625 17.1875 \nL 47.609375 17.1875 \nL 47.609375 0 \nL 37.796875 0 \nL 37.796875 17.1875 \nL 4.890625 17.1875 \nL 4.890625 26.703125 \nz\n\" id=\"DejaVuSans-52\"/>\n      </defs>\n      <g transform=\"translate(92.021875 157.698438)scale(0.1 -0.1)\">\n       <use xlink:href=\"#DejaVuSans-52\"/>\n      </g>\n     </g>\n    </g>\n    <g id=\"xtick_3\">\n     <g id=\"line2d_5\">\n      <path clip-path=\"url(#p8c66be9e37)\" d=\"M 138.603125 143.1 \nL 138.603125 7.2 \n\" style=\"fill:none;stroke:#b0b0b0;stroke-linecap:square;stroke-width:0.8;\"/>\n     </g>\n     <g id=\"line2d_6\">\n      <g>\n       <use style=\"stroke:#000000;stroke-width:0.8;\" x=\"138.603125\" xlink:href=\"#m96b8e8b0a9\" y=\"143.1\"/>\n      </g>\n     </g>\n     <g id=\"text_3\">\n      <!-- 6 -->\n      <defs>\n       <path d=\"M 33.015625 40.375 \nQ 26.375 40.375 22.484375 35.828125 \nQ 18.609375 31.296875 18.609375 23.390625 \nQ 18.609375 15.53125 22.484375 10.953125 \nQ 26.375 6.390625 33.015625 6.390625 \nQ 39.65625 6.390625 43.53125 10.953125 \nQ 47.40625 15.53125 47.40625 23.390625 \nQ 47.40625 31.296875 43.53125 35.828125 \nQ 39.65625 40.375 33.015625 40.375 \nz\nM 52.59375 71.296875 \nL 52.59375 62.3125 \nQ 48.875 64.0625 45.09375 64.984375 \nQ 41.3125 65.921875 37.59375 65.921875 \nQ 27.828125 65.921875 22.671875 59.328125 \nQ 17.53125 52.734375 16.796875 39.40625 \nQ 19.671875 43.65625 24.015625 45.921875 \nQ 28.375 48.1875 33.59375 48.1875 \nQ 44.578125 48.1875 50.953125 41.515625 \nQ 57.328125 34.859375 57.328125 23.390625 \nQ 57.328125 12.15625 50.6875 5.359375 \nQ 44.046875 -1.421875 33.015625 -1.421875 \nQ 20.359375 -1.421875 13.671875 8.265625 \nQ 6.984375 17.96875 6.984375 36.375 \nQ 6.984375 53.65625 15.1875 63.9375 \nQ 23.390625 74.21875 37.203125 74.21875 \nQ 40.921875 74.21875 44.703125 73.484375 \nQ 48.484375 72.75 52.59375 71.296875 \nz\n\" id=\"DejaVuSans-54\"/>\n      </defs>\n      <g transform=\"translate(135.421875 157.698438)scale(0.1 -0.1)\">\n       <use xlink:href=\"#DejaVuSans-54\"/>\n      </g>\n     </g>\n    </g>\n    <g id=\"xtick_4\">\n     <g id=\"line2d_7\">\n      <path clip-path=\"url(#p8c66be9e37)\" d=\"M 182.003125 143.1 \nL 182.003125 7.2 \n\" style=\"fill:none;stroke:#b0b0b0;stroke-linecap:square;stroke-width:0.8;\"/>\n     </g>\n     <g id=\"line2d_8\">\n      <g>\n       <use style=\"stroke:#000000;stroke-width:0.8;\" x=\"182.003125\" xlink:href=\"#m96b8e8b0a9\" y=\"143.1\"/>\n      </g>\n     </g>\n     <g id=\"text_4\">\n      <!-- 8 -->\n      <defs>\n       <path d=\"M 31.78125 34.625 \nQ 24.75 34.625 20.71875 30.859375 \nQ 16.703125 27.09375 16.703125 20.515625 \nQ 16.703125 13.921875 20.71875 10.15625 \nQ 24.75 6.390625 31.78125 6.390625 \nQ 38.8125 6.390625 42.859375 10.171875 \nQ 46.921875 13.96875 46.921875 20.515625 \nQ 46.921875 27.09375 42.890625 30.859375 \nQ 38.875 34.625 31.78125 34.625 \nz\nM 21.921875 38.8125 \nQ 15.578125 40.375 12.03125 44.71875 \nQ 8.5 49.078125 8.5 55.328125 \nQ 8.5 64.0625 14.71875 69.140625 \nQ 20.953125 74.21875 31.78125 74.21875 \nQ 42.671875 74.21875 48.875 69.140625 \nQ 55.078125 64.0625 55.078125 55.328125 \nQ 55.078125 49.078125 51.53125 44.71875 \nQ 48 40.375 41.703125 38.8125 \nQ 48.828125 37.15625 52.796875 32.3125 \nQ 56.78125 27.484375 56.78125 20.515625 \nQ 56.78125 9.90625 50.3125 4.234375 \nQ 43.84375 -1.421875 31.78125 -1.421875 \nQ 19.734375 -1.421875 13.25 4.234375 \nQ 6.78125 9.90625 6.78125 20.515625 \nQ 6.78125 27.484375 10.78125 32.3125 \nQ 14.796875 37.15625 21.921875 38.8125 \nz\nM 18.3125 54.390625 \nQ 18.3125 48.734375 21.84375 45.5625 \nQ 25.390625 42.390625 31.78125 42.390625 \nQ 38.140625 42.390625 41.71875 45.5625 \nQ 45.3125 48.734375 45.3125 54.390625 \nQ 45.3125 60.0625 41.71875 63.234375 \nQ 38.140625 66.40625 31.78125 66.40625 \nQ 25.390625 66.40625 21.84375 63.234375 \nQ 18.3125 60.0625 18.3125 54.390625 \nz\n\" id=\"DejaVuSans-56\"/>\n      </defs>\n      <g transform=\"translate(178.821875 157.698438)scale(0.1 -0.1)\">\n       <use xlink:href=\"#DejaVuSans-56\"/>\n      </g>\n     </g>\n    </g>\n    <g id=\"xtick_5\">\n     <g id=\"line2d_9\">\n      <path clip-path=\"url(#p8c66be9e37)\" d=\"M 225.403125 143.1 \nL 225.403125 7.2 \n\" style=\"fill:none;stroke:#b0b0b0;stroke-linecap:square;stroke-width:0.8;\"/>\n     </g>\n     <g id=\"line2d_10\">\n      <g>\n       <use style=\"stroke:#000000;stroke-width:0.8;\" x=\"225.403125\" xlink:href=\"#m96b8e8b0a9\" y=\"143.1\"/>\n      </g>\n     </g>\n     <g id=\"text_5\">\n      <!-- 10 -->\n      <defs>\n       <path d=\"M 12.40625 8.296875 \nL 28.515625 8.296875 \nL 28.515625 63.921875 \nL 10.984375 60.40625 \nL 10.984375 69.390625 \nL 28.421875 72.90625 \nL 38.28125 72.90625 \nL 38.28125 8.296875 \nL 54.390625 8.296875 \nL 54.390625 0 \nL 12.40625 0 \nz\n\" id=\"DejaVuSans-49\"/>\n       <path d=\"M 31.78125 66.40625 \nQ 24.171875 66.40625 20.328125 58.90625 \nQ 16.5 51.421875 16.5 36.375 \nQ 16.5 21.390625 20.328125 13.890625 \nQ 24.171875 6.390625 31.78125 6.390625 \nQ 39.453125 6.390625 43.28125 13.890625 \nQ 47.125 21.390625 47.125 36.375 \nQ 47.125 51.421875 43.28125 58.90625 \nQ 39.453125 66.40625 31.78125 66.40625 \nz\nM 31.78125 74.21875 \nQ 44.046875 74.21875 50.515625 64.515625 \nQ 56.984375 54.828125 56.984375 36.375 \nQ 56.984375 17.96875 50.515625 8.265625 \nQ 44.046875 -1.421875 31.78125 -1.421875 \nQ 19.53125 -1.421875 13.0625 8.265625 \nQ 6.59375 17.96875 6.59375 36.375 \nQ 6.59375 54.828125 13.0625 64.515625 \nQ 19.53125 74.21875 31.78125 74.21875 \nz\n\" id=\"DejaVuSans-48\"/>\n      </defs>\n      <g transform=\"translate(219.040625 157.698438)scale(0.1 -0.1)\">\n       <use xlink:href=\"#DejaVuSans-49\"/>\n       <use x=\"63.623047\" xlink:href=\"#DejaVuSans-48\"/>\n      </g>\n     </g>\n    </g>\n    <g id=\"text_6\">\n     <!-- epoch -->\n     <defs>\n      <path d=\"M 56.203125 29.59375 \nL 56.203125 25.203125 \nL 14.890625 25.203125 \nQ 15.484375 15.921875 20.484375 11.0625 \nQ 25.484375 6.203125 34.421875 6.203125 \nQ 39.59375 6.203125 44.453125 7.46875 \nQ 49.3125 8.734375 54.109375 11.28125 \nL 54.109375 2.78125 \nQ 49.265625 0.734375 44.1875 -0.34375 \nQ 39.109375 -1.421875 33.890625 -1.421875 \nQ 20.796875 -1.421875 13.15625 6.1875 \nQ 5.515625 13.8125 5.515625 26.8125 \nQ 5.515625 40.234375 12.765625 48.109375 \nQ 20.015625 56 32.328125 56 \nQ 43.359375 56 49.78125 48.890625 \nQ 56.203125 41.796875 56.203125 29.59375 \nz\nM 47.21875 32.234375 \nQ 47.125 39.59375 43.09375 43.984375 \nQ 39.0625 48.390625 32.421875 48.390625 \nQ 24.90625 48.390625 20.390625 44.140625 \nQ 15.875 39.890625 15.1875 32.171875 \nz\n\" id=\"DejaVuSans-101\"/>\n      <path d=\"M 18.109375 8.203125 \nL 18.109375 -20.796875 \nL 9.078125 -20.796875 \nL 9.078125 54.6875 \nL 18.109375 54.6875 \nL 18.109375 46.390625 \nQ 20.953125 51.265625 25.265625 53.625 \nQ 29.59375 56 35.59375 56 \nQ 45.5625 56 51.78125 48.09375 \nQ 58.015625 40.1875 58.015625 27.296875 \nQ 58.015625 14.40625 51.78125 6.484375 \nQ 45.5625 -1.421875 35.59375 -1.421875 \nQ 29.59375 -1.421875 25.265625 0.953125 \nQ 20.953125 3.328125 18.109375 8.203125 \nz\nM 48.6875 27.296875 \nQ 48.6875 37.203125 44.609375 42.84375 \nQ 40.53125 48.484375 33.40625 48.484375 \nQ 26.265625 48.484375 22.1875 42.84375 \nQ 18.109375 37.203125 18.109375 27.296875 \nQ 18.109375 17.390625 22.1875 11.75 \nQ 26.265625 6.109375 33.40625 6.109375 \nQ 40.53125 6.109375 44.609375 11.75 \nQ 48.6875 17.390625 48.6875 27.296875 \nz\n\" id=\"DejaVuSans-112\"/>\n      <path d=\"M 30.609375 48.390625 \nQ 23.390625 48.390625 19.1875 42.75 \nQ 14.984375 37.109375 14.984375 27.296875 \nQ 14.984375 17.484375 19.15625 11.84375 \nQ 23.34375 6.203125 30.609375 6.203125 \nQ 37.796875 6.203125 41.984375 11.859375 \nQ 46.1875 17.53125 46.1875 27.296875 \nQ 46.1875 37.015625 41.984375 42.703125 \nQ 37.796875 48.390625 30.609375 48.390625 \nz\nM 30.609375 56 \nQ 42.328125 56 49.015625 48.375 \nQ 55.71875 40.765625 55.71875 27.296875 \nQ 55.71875 13.875 49.015625 6.21875 \nQ 42.328125 -1.421875 30.609375 -1.421875 \nQ 18.84375 -1.421875 12.171875 6.21875 \nQ 5.515625 13.875 5.515625 27.296875 \nQ 5.515625 40.765625 12.171875 48.375 \nQ 18.84375 56 30.609375 56 \nz\n\" id=\"DejaVuSans-111\"/>\n      <path d=\"M 48.78125 52.59375 \nL 48.78125 44.1875 \nQ 44.96875 46.296875 41.140625 47.34375 \nQ 37.3125 48.390625 33.40625 48.390625 \nQ 24.65625 48.390625 19.8125 42.84375 \nQ 14.984375 37.3125 14.984375 27.296875 \nQ 14.984375 17.28125 19.8125 11.734375 \nQ 24.65625 6.203125 33.40625 6.203125 \nQ 37.3125 6.203125 41.140625 7.25 \nQ 44.96875 8.296875 48.78125 10.40625 \nL 48.78125 2.09375 \nQ 45.015625 0.34375 40.984375 -0.53125 \nQ 36.96875 -1.421875 32.421875 -1.421875 \nQ 20.0625 -1.421875 12.78125 6.34375 \nQ 5.515625 14.109375 5.515625 27.296875 \nQ 5.515625 40.671875 12.859375 48.328125 \nQ 20.21875 56 33.015625 56 \nQ 37.15625 56 41.109375 55.140625 \nQ 45.0625 54.296875 48.78125 52.59375 \nz\n\" id=\"DejaVuSans-99\"/>\n      <path d=\"M 54.890625 33.015625 \nL 54.890625 0 \nL 45.90625 0 \nL 45.90625 32.71875 \nQ 45.90625 40.484375 42.875 44.328125 \nQ 39.84375 48.1875 33.796875 48.1875 \nQ 26.515625 48.1875 22.3125 43.546875 \nQ 18.109375 38.921875 18.109375 30.90625 \nL 18.109375 0 \nL 9.078125 0 \nL 9.078125 75.984375 \nL 18.109375 75.984375 \nL 18.109375 46.1875 \nQ 21.34375 51.125 25.703125 53.5625 \nQ 30.078125 56 35.796875 56 \nQ 45.21875 56 50.046875 50.171875 \nQ 54.890625 44.34375 54.890625 33.015625 \nz\n\" id=\"DejaVuSans-104\"/>\n     </defs>\n     <g transform=\"translate(112.525 171.376563)scale(0.1 -0.1)\">\n      <use xlink:href=\"#DejaVuSans-101\"/>\n      <use x=\"61.523438\" xlink:href=\"#DejaVuSans-112\"/>\n      <use x=\"125\" xlink:href=\"#DejaVuSans-111\"/>\n      <use x=\"186.181641\" xlink:href=\"#DejaVuSans-99\"/>\n      <use x=\"241.162109\" xlink:href=\"#DejaVuSans-104\"/>\n     </g>\n    </g>\n   </g>\n   <g id=\"matplotlib.axis_2\">\n    <g id=\"ytick_1\">\n     <g id=\"line2d_11\">\n      <path clip-path=\"url(#p8c66be9e37)\" d=\"M 30.103125 120.45 \nL 225.403125 120.45 \n\" style=\"fill:none;stroke:#b0b0b0;stroke-linecap:square;stroke-width:0.8;\"/>\n     </g>\n     <g id=\"line2d_12\">\n      <defs>\n       <path d=\"M 0 0 \nL -3.5 0 \n\" id=\"md55ffd7ac7\" style=\"stroke:#000000;stroke-width:0.8;\"/>\n      </defs>\n      <g>\n       <use style=\"stroke:#000000;stroke-width:0.8;\" x=\"30.103125\" xlink:href=\"#md55ffd7ac7\" y=\"120.45\"/>\n      </g>\n     </g>\n     <g id=\"text_7\">\n      <!-- 0.4 -->\n      <defs>\n       <path d=\"M 10.6875 12.40625 \nL 21 12.40625 \nL 21 0 \nL 10.6875 0 \nz\n\" id=\"DejaVuSans-46\"/>\n      </defs>\n      <g transform=\"translate(7.2 124.249219)scale(0.1 -0.1)\">\n       <use xlink:href=\"#DejaVuSans-48\"/>\n       <use x=\"63.623047\" xlink:href=\"#DejaVuSans-46\"/>\n       <use x=\"95.410156\" xlink:href=\"#DejaVuSans-52\"/>\n      </g>\n     </g>\n    </g>\n    <g id=\"ytick_2\">\n     <g id=\"line2d_13\">\n      <path clip-path=\"url(#p8c66be9e37)\" d=\"M 30.103125 75.15 \nL 225.403125 75.15 \n\" style=\"fill:none;stroke:#b0b0b0;stroke-linecap:square;stroke-width:0.8;\"/>\n     </g>\n     <g id=\"line2d_14\">\n      <g>\n       <use style=\"stroke:#000000;stroke-width:0.8;\" x=\"30.103125\" xlink:href=\"#md55ffd7ac7\" y=\"75.15\"/>\n      </g>\n     </g>\n     <g id=\"text_8\">\n      <!-- 0.6 -->\n      <g transform=\"translate(7.2 78.949219)scale(0.1 -0.1)\">\n       <use xlink:href=\"#DejaVuSans-48\"/>\n       <use x=\"63.623047\" xlink:href=\"#DejaVuSans-46\"/>\n       <use x=\"95.410156\" xlink:href=\"#DejaVuSans-54\"/>\n      </g>\n     </g>\n    </g>\n    <g id=\"ytick_3\">\n     <g id=\"line2d_15\">\n      <path clip-path=\"url(#p8c66be9e37)\" d=\"M 30.103125 29.85 \nL 225.403125 29.85 \n\" style=\"fill:none;stroke:#b0b0b0;stroke-linecap:square;stroke-width:0.8;\"/>\n     </g>\n     <g id=\"line2d_16\">\n      <g>\n       <use style=\"stroke:#000000;stroke-width:0.8;\" x=\"30.103125\" xlink:href=\"#md55ffd7ac7\" y=\"29.85\"/>\n      </g>\n     </g>\n     <g id=\"text_9\">\n      <!-- 0.8 -->\n      <g transform=\"translate(7.2 33.649219)scale(0.1 -0.1)\">\n       <use xlink:href=\"#DejaVuSans-48\"/>\n       <use x=\"63.623047\" xlink:href=\"#DejaVuSans-46\"/>\n       <use x=\"95.410156\" xlink:href=\"#DejaVuSans-56\"/>\n      </g>\n     </g>\n    </g>\n   </g>\n   <g id=\"line2d_17\">\n    <path clip-path=\"url(#p8c66be9e37)\" d=\"M 30.103125 33.635431 \nL 51.803125 81.759356 \nL 73.503125 91.971816 \nL 95.203125 97.717503 \nL 116.903125 100.94043 \nL 138.603125 103.747254 \nL 160.303125 105.863509 \nL 182.003125 107.23133 \nL 203.703125 108.657364 \nL 225.403125 109.942596 \n\" style=\"fill:none;stroke:#1f77b4;stroke-linecap:square;stroke-width:1.5;\"/>\n   </g>\n   <g id=\"line2d_18\">\n    <path clip-path=\"url(#p8c66be9e37)\" d=\"M 30.103125 40.94095 \nL 51.803125 27.037625 \nL 73.503125 24.0516 \nL 95.203125 22.235825 \nL 116.903125 21.541225 \nL 138.603125 20.54085 \nL 160.303125 20.10295 \nL 182.003125 19.6273 \nL 203.703125 19.0535 \nL 225.403125 18.8723 \n\" style=\"fill:none;stroke:#bf00bf;stroke-dasharray:5.55,2.4;stroke-dashoffset:0;stroke-width:1.5;\"/>\n   </g>\n   <g id=\"line2d_19\">\n    <path clip-path=\"url(#p8c66be9e37)\" d=\"M 30.103125 33.08895 \nL 51.803125 29.6688 \nL 73.503125 27.10935 \nL 95.203125 24.61785 \nL 116.903125 24.5952 \nL 138.603125 25.8183 \nL 160.303125 25.25205 \nL 182.003125 23.48535 \nL 203.703125 22.98705 \nL 225.403125 22.2396 \n\" style=\"fill:none;stroke:#008000;stroke-dasharray:9.6,2.4,1.5,2.4;stroke-dashoffset:0;stroke-width:1.5;\"/>\n   </g>\n   <g id=\"patch_3\">\n    <path d=\"M 30.103125 143.1 \nL 30.103125 7.2 \n\" style=\"fill:none;stroke:#000000;stroke-linecap:square;stroke-linejoin:miter;stroke-width:0.8;\"/>\n   </g>\n   <g id=\"patch_4\">\n    <path d=\"M 225.403125 143.1 \nL 225.403125 7.2 \n\" style=\"fill:none;stroke:#000000;stroke-linecap:square;stroke-linejoin:miter;stroke-width:0.8;\"/>\n   </g>\n   <g id=\"patch_5\">\n    <path d=\"M 30.103125 143.1 \nL 225.403125 143.1 \n\" style=\"fill:none;stroke:#000000;stroke-linecap:square;stroke-linejoin:miter;stroke-width:0.8;\"/>\n   </g>\n   <g id=\"patch_6\">\n    <path d=\"M 30.103125 7.2 \nL 225.403125 7.2 \n\" style=\"fill:none;stroke:#000000;stroke-linecap:square;stroke-linejoin:miter;stroke-width:0.8;\"/>\n   </g>\n   <g id=\"legend_1\">\n    <g id=\"patch_7\">\n     <path d=\"M 140.634375 98.667187 \nL 218.403125 98.667187 \nQ 220.403125 98.667187 220.403125 96.667187 \nL 220.403125 53.632812 \nQ 220.403125 51.632812 218.403125 51.632812 \nL 140.634375 51.632812 \nQ 138.634375 51.632812 138.634375 53.632812 \nL 138.634375 96.667187 \nQ 138.634375 98.667187 140.634375 98.667187 \nz\n\" style=\"fill:#ffffff;opacity:0.8;stroke:#cccccc;stroke-linejoin:miter;\"/>\n    </g>\n    <g id=\"line2d_20\">\n     <path d=\"M 142.634375 59.73125 \nL 162.634375 59.73125 \n\" style=\"fill:none;stroke:#1f77b4;stroke-linecap:square;stroke-width:1.5;\"/>\n    </g>\n    <g id=\"line2d_21\"/>\n    <g id=\"text_10\">\n     <!-- train loss -->\n     <defs>\n      <path d=\"M 18.3125 70.21875 \nL 18.3125 54.6875 \nL 36.8125 54.6875 \nL 36.8125 47.703125 \nL 18.3125 47.703125 \nL 18.3125 18.015625 \nQ 18.3125 11.328125 20.140625 9.421875 \nQ 21.96875 7.515625 27.59375 7.515625 \nL 36.8125 7.515625 \nL 36.8125 0 \nL 27.59375 0 \nQ 17.1875 0 13.234375 3.875 \nQ 9.28125 7.765625 9.28125 18.015625 \nL 9.28125 47.703125 \nL 2.6875 47.703125 \nL 2.6875 54.6875 \nL 9.28125 54.6875 \nL 9.28125 70.21875 \nz\n\" id=\"DejaVuSans-116\"/>\n      <path d=\"M 41.109375 46.296875 \nQ 39.59375 47.171875 37.8125 47.578125 \nQ 36.03125 48 33.890625 48 \nQ 26.265625 48 22.1875 43.046875 \nQ 18.109375 38.09375 18.109375 28.8125 \nL 18.109375 0 \nL 9.078125 0 \nL 9.078125 54.6875 \nL 18.109375 54.6875 \nL 18.109375 46.1875 \nQ 20.953125 51.171875 25.484375 53.578125 \nQ 30.03125 56 36.53125 56 \nQ 37.453125 56 38.578125 55.875 \nQ 39.703125 55.765625 41.0625 55.515625 \nz\n\" id=\"DejaVuSans-114\"/>\n      <path d=\"M 34.28125 27.484375 \nQ 23.390625 27.484375 19.1875 25 \nQ 14.984375 22.515625 14.984375 16.5 \nQ 14.984375 11.71875 18.140625 8.90625 \nQ 21.296875 6.109375 26.703125 6.109375 \nQ 34.1875 6.109375 38.703125 11.40625 \nQ 43.21875 16.703125 43.21875 25.484375 \nL 43.21875 27.484375 \nz\nM 52.203125 31.203125 \nL 52.203125 0 \nL 43.21875 0 \nL 43.21875 8.296875 \nQ 40.140625 3.328125 35.546875 0.953125 \nQ 30.953125 -1.421875 24.3125 -1.421875 \nQ 15.921875 -1.421875 10.953125 3.296875 \nQ 6 8.015625 6 15.921875 \nQ 6 25.140625 12.171875 29.828125 \nQ 18.359375 34.515625 30.609375 34.515625 \nL 43.21875 34.515625 \nL 43.21875 35.40625 \nQ 43.21875 41.609375 39.140625 45 \nQ 35.0625 48.390625 27.6875 48.390625 \nQ 23 48.390625 18.546875 47.265625 \nQ 14.109375 46.140625 10.015625 43.890625 \nL 10.015625 52.203125 \nQ 14.9375 54.109375 19.578125 55.046875 \nQ 24.21875 56 28.609375 56 \nQ 40.484375 56 46.34375 49.84375 \nQ 52.203125 43.703125 52.203125 31.203125 \nz\n\" id=\"DejaVuSans-97\"/>\n      <path d=\"M 9.421875 54.6875 \nL 18.40625 54.6875 \nL 18.40625 0 \nL 9.421875 0 \nz\nM 9.421875 75.984375 \nL 18.40625 75.984375 \nL 18.40625 64.59375 \nL 9.421875 64.59375 \nz\n\" id=\"DejaVuSans-105\"/>\n      <path d=\"M 54.890625 33.015625 \nL 54.890625 0 \nL 45.90625 0 \nL 45.90625 32.71875 \nQ 45.90625 40.484375 42.875 44.328125 \nQ 39.84375 48.1875 33.796875 48.1875 \nQ 26.515625 48.1875 22.3125 43.546875 \nQ 18.109375 38.921875 18.109375 30.90625 \nL 18.109375 0 \nL 9.078125 0 \nL 9.078125 54.6875 \nL 18.109375 54.6875 \nL 18.109375 46.1875 \nQ 21.34375 51.125 25.703125 53.5625 \nQ 30.078125 56 35.796875 56 \nQ 45.21875 56 50.046875 50.171875 \nQ 54.890625 44.34375 54.890625 33.015625 \nz\n\" id=\"DejaVuSans-110\"/>\n      <path id=\"DejaVuSans-32\"/>\n      <path d=\"M 9.421875 75.984375 \nL 18.40625 75.984375 \nL 18.40625 0 \nL 9.421875 0 \nz\n\" id=\"DejaVuSans-108\"/>\n      <path d=\"M 44.28125 53.078125 \nL 44.28125 44.578125 \nQ 40.484375 46.53125 36.375 47.5 \nQ 32.28125 48.484375 27.875 48.484375 \nQ 21.1875 48.484375 17.84375 46.4375 \nQ 14.5 44.390625 14.5 40.28125 \nQ 14.5 37.15625 16.890625 35.375 \nQ 19.28125 33.59375 26.515625 31.984375 \nL 29.59375 31.296875 \nQ 39.15625 29.25 43.1875 25.515625 \nQ 47.21875 21.78125 47.21875 15.09375 \nQ 47.21875 7.46875 41.1875 3.015625 \nQ 35.15625 -1.421875 24.609375 -1.421875 \nQ 20.21875 -1.421875 15.453125 -0.5625 \nQ 10.6875 0.296875 5.421875 2 \nL 5.421875 11.28125 \nQ 10.40625 8.6875 15.234375 7.390625 \nQ 20.0625 6.109375 24.8125 6.109375 \nQ 31.15625 6.109375 34.5625 8.28125 \nQ 37.984375 10.453125 37.984375 14.40625 \nQ 37.984375 18.0625 35.515625 20.015625 \nQ 33.0625 21.96875 24.703125 23.78125 \nL 21.578125 24.515625 \nQ 13.234375 26.265625 9.515625 29.90625 \nQ 5.8125 33.546875 5.8125 39.890625 \nQ 5.8125 47.609375 11.28125 51.796875 \nQ 16.75 56 26.8125 56 \nQ 31.78125 56 36.171875 55.265625 \nQ 40.578125 54.546875 44.28125 53.078125 \nz\n\" id=\"DejaVuSans-115\"/>\n     </defs>\n     <g transform=\"translate(170.634375 63.23125)scale(0.1 -0.1)\">\n      <use xlink:href=\"#DejaVuSans-116\"/>\n      <use x=\"39.208984\" xlink:href=\"#DejaVuSans-114\"/>\n      <use x=\"80.322266\" xlink:href=\"#DejaVuSans-97\"/>\n      <use x=\"141.601562\" xlink:href=\"#DejaVuSans-105\"/>\n      <use x=\"169.384766\" xlink:href=\"#DejaVuSans-110\"/>\n      <use x=\"232.763672\" xlink:href=\"#DejaVuSans-32\"/>\n      <use x=\"264.550781\" xlink:href=\"#DejaVuSans-108\"/>\n      <use x=\"292.333984\" xlink:href=\"#DejaVuSans-111\"/>\n      <use x=\"353.515625\" xlink:href=\"#DejaVuSans-115\"/>\n      <use x=\"405.615234\" xlink:href=\"#DejaVuSans-115\"/>\n     </g>\n    </g>\n    <g id=\"line2d_22\">\n     <path d=\"M 142.634375 74.409375 \nL 162.634375 74.409375 \n\" style=\"fill:none;stroke:#bf00bf;stroke-dasharray:5.55,2.4;stroke-dashoffset:0;stroke-width:1.5;\"/>\n    </g>\n    <g id=\"line2d_23\"/>\n    <g id=\"text_11\">\n     <!-- train acc -->\n     <g transform=\"translate(170.634375 77.909375)scale(0.1 -0.1)\">\n      <use xlink:href=\"#DejaVuSans-116\"/>\n      <use x=\"39.208984\" xlink:href=\"#DejaVuSans-114\"/>\n      <use x=\"80.322266\" xlink:href=\"#DejaVuSans-97\"/>\n      <use x=\"141.601562\" xlink:href=\"#DejaVuSans-105\"/>\n      <use x=\"169.384766\" xlink:href=\"#DejaVuSans-110\"/>\n      <use x=\"232.763672\" xlink:href=\"#DejaVuSans-32\"/>\n      <use x=\"264.550781\" xlink:href=\"#DejaVuSans-97\"/>\n      <use x=\"325.830078\" xlink:href=\"#DejaVuSans-99\"/>\n      <use x=\"380.810547\" xlink:href=\"#DejaVuSans-99\"/>\n     </g>\n    </g>\n    <g id=\"line2d_24\">\n     <path d=\"M 142.634375 89.0875 \nL 162.634375 89.0875 \n\" style=\"fill:none;stroke:#008000;stroke-dasharray:9.6,2.4,1.5,2.4;stroke-dashoffset:0;stroke-width:1.5;\"/>\n    </g>\n    <g id=\"line2d_25\"/>\n    <g id=\"text_12\">\n     <!-- test acc -->\n     <g transform=\"translate(170.634375 92.5875)scale(0.1 -0.1)\">\n      <use xlink:href=\"#DejaVuSans-116\"/>\n      <use x=\"39.208984\" xlink:href=\"#DejaVuSans-101\"/>\n      <use x=\"100.732422\" xlink:href=\"#DejaVuSans-115\"/>\n      <use x=\"152.832031\" xlink:href=\"#DejaVuSans-116\"/>\n      <use x=\"192.041016\" xlink:href=\"#DejaVuSans-32\"/>\n      <use x=\"223.828125\" xlink:href=\"#DejaVuSans-97\"/>\n      <use x=\"285.107422\" xlink:href=\"#DejaVuSans-99\"/>\n      <use x=\"340.087891\" xlink:href=\"#DejaVuSans-99\"/>\n     </g>\n    </g>\n   </g>\n  </g>\n </g>\n <defs>\n  <clipPath id=\"p8c66be9e37\">\n   <rect height=\"135.9\" width=\"195.3\" x=\"30.103125\" y=\"7.2\"/>\n  </clipPath>\n </defs>\n</svg>\n"
          },
          "metadata": {
            "needs_background": "light"
          }
        }
      ]
    },
    {
      "cell_type": "markdown",
      "source": [
        "## 세션 때 배운 코드를 복습해봐요 😀\n",
        "\n",
        "**강의자료 보지않고 빈 칸 채워보기!**"
      ],
      "metadata": {
        "id": "-ISBy2jOoEZ-"
      }
    },
    {
      "cell_type": "markdown",
      "source": [
        "# Numpy"
      ],
      "metadata": {
        "id": "z-OCeRwE501A"
      }
    },
    {
      "cell_type": "markdown",
      "source": [
        "### data generation"
      ],
      "metadata": {
        "id": "LInG3TtLpd5f"
      }
    },
    {
      "cell_type": "code",
      "execution_count": null,
      "metadata": {
        "id": "HJFKULjNo1q6"
      },
      "outputs": [],
      "source": [
        "import numpy as np\n",
        "\n",
        "true_b = 1\n",
        "true_w = 2\n",
        "\n",
        "N = 100\n",
        "\n",
        "np.random.seed(42)\n",
        "x = np.random.rand(N,1)  # Uniform\n",
        "epsilon = (0.1 * np.random.randn(N,1))  # standard normal dist  # noise\n",
        "y = ## 빈칸을 채워주세요. ##"
      ]
    },
    {
      "cell_type": "markdown",
      "source": [
        "### Train-Validation Split"
      ],
      "metadata": {
        "id": "xEh5L8Fwp3w7"
      }
    },
    {
      "cell_type": "code",
      "source": [
        "# Shuffles the indices\n",
        "idx = np.arange(N)\n",
        "split_index = int(N * 0.8)\n",
        "\n",
        "train_idx = idx[## 빈칸을 채워주세요. ##]\n",
        "val_idx = idx[## 빈칸을 채워주세요. ##]\n",
        "\n",
        "# Generates train and validation sets\n",
        "x_train, y_train = x[train_idx], y[train_idx]\n",
        "x_val, y_val = x[val_idx], y[val_idx]"
      ],
      "metadata": {
        "id": "UJHEKRqspwmj"
      },
      "execution_count": null,
      "outputs": []
    },
    {
      "cell_type": "markdown",
      "source": [
        "### Gradient Descent for Linear Regression"
      ],
      "metadata": {
        "id": "PoIr7k6ox4AG"
      }
    },
    {
      "cell_type": "code",
      "source": [
        "# 실행시간을 측정해주는 Decorator 입니다.\n",
        "\n",
        "import time\n",
        "def timer(func):\n",
        "  def wrapper(*args, **kwargs):\n",
        "    start_time = time.time()\n",
        "    result = func(*args, **kwargs)\n",
        "    end_time = time.time()\n",
        "    computation_time = end_time - start_time\n",
        "    print(f\"Execution time of {func.__name__}: {computation_time} seconds\")\n",
        "    return result\n",
        "  return wrapper"
      ],
      "metadata": {
        "id": "aCBAfjBstQuf"
      },
      "execution_count": null,
      "outputs": []
    },
    {
      "cell_type": "code",
      "source": [
        "@timer\n",
        "def train_model_numpy(lr = 0.1, epochs = 1000):\n",
        "  # Initialize parameters\n",
        "  b = np.random.randn(1)\n",
        "  w = np.random.randn(1)\n",
        "\n",
        "  for epoch in range(epochs):\n",
        "    # Loss computation\n",
        "    y_hat = b + w * x_train\n",
        "    error = (y_hat - y_train)\n",
        "    mse_loss = ## 빈칸을 채워주세요. ##\n",
        "\n",
        "    # Gradient computation\n",
        "    b_grad = ## 빈칸을 채워주세요. ## 미분 어떻게 했었죠?ㅎㅎ\n",
        "    w_grad = ## 빈칸을 채워주세요. ##\n",
        "    b = b - lr * b_grad\n",
        "    w = w - lr * w_grad\n",
        "  return b, w\n"
      ],
      "metadata": {
        "id": "Xp67TxhNx3Sb"
      },
      "execution_count": null,
      "outputs": []
    },
    {
      "cell_type": "code",
      "source": [
        "b, w = train_model_numpy()\n",
        "print(\"b_estimate:{}, w_estimate:{}\".format(b,w))"
      ],
      "metadata": {
        "colab": {
          "base_uri": "https://localhost:8080/"
        },
        "id": "eHhjWAi94Qkb",
        "outputId": "abba390f-a447-4883-a19d-e078d6a6901f"
      },
      "execution_count": null,
      "outputs": [
        {
          "output_type": "stream",
          "name": "stdout",
          "text": [
            "Execution time of train_model_numpy: 0.031105756759643555 seconds\n",
            "b_estimate:[1.02341376], w_estimate:[1.93680725]\n"
          ]
        }
      ]
    },
    {
      "cell_type": "markdown",
      "source": [
        "# Pytorch"
      ],
      "metadata": {
        "id": "Cztmazj1534o"
      }
    },
    {
      "cell_type": "markdown",
      "source": [
        "### Data Generation"
      ],
      "metadata": {
        "id": "gBaXz1OL6LPP"
      }
    },
    {
      "cell_type": "code",
      "source": [
        "import torch\n",
        "\n",
        "# create tensor at CPU:\n",
        "x_train_tensor = torch.as_tensor(x_train)\n",
        "y_train_tensor = torch.as_tensor(y_train)\n",
        "\n",
        "# create tensor ar GPU:\n",
        "## 빈칸을 채워주세요. ##  # GPU가 현재 연결이 되어있다면 cuda를 콜하겠다. 아니면 cpu 쓰겠다! 하는 코드\n",
        "x_train_tensor = torch.as_tensor(x_train).to(device)\n",
        "y_train_tensor = torch.as_tensor(y_train).to(device)\n"
      ],
      "metadata": {
        "id": "rtyfd4_95zzv"
      },
      "execution_count": null,
      "outputs": []
    },
    {
      "cell_type": "markdown",
      "source": [
        "### Gradient Descent"
      ],
      "metadata": {
        "id": "AO0Yof1p8FUW"
      }
    },
    {
      "cell_type": "code",
      "source": [
        "@timer\n",
        "def train_model_torch(lr = 0.1, epochs=1000):\n",
        "  # Initialize parameters\n",
        "  b = torch.randn(1, ## 빈칸을 채워주세요. ##)\n",
        "  w = torch.randn(1, ## 빈칸을 채워주세요. ##)\n",
        "\n",
        "  for epoch in range(epochs):\n",
        "    # Loss computation\n",
        "    y_hat = b + w * x_train_tensor\n",
        "    error = (y_hat - y_train_tensor)\n",
        "    mse_loss = ## 빈칸을 채워주세요. ##\n",
        "    # Gradient computation and descent\n",
        "    mse_loss.backward()\n",
        "    ## 빈칸을 채워주세요. ## # 경사 하강법 할 땐 auto grad 끄고 하는 게 좋죠!\n",
        "      b ## 빈칸을 채워주세요. ##  # in-place operation 써줘야합니다!\n",
        "      w ## 빈칸을 채워주세요. ##\n",
        "    b.## 빈칸을 채워주세요. ## # gradient 초기화 시켜줘야해요. 안 하면 누적합으로 계산하기 때문에!\n",
        "    w.## 빈칸을 채워주세요. ##\n",
        "  return b, w"
      ],
      "metadata": {
        "id": "rX-WAf4b7ljU"
      },
      "execution_count": null,
      "outputs": []
    },
    {
      "cell_type": "code",
      "source": [
        "b, w = train_model_torch()\n",
        "print(\"b_estimate:{}, w_estimate:{}\".format(b,w))"
      ],
      "metadata": {
        "colab": {
          "base_uri": "https://localhost:8080/"
        },
        "id": "7JfprsWdBAFg",
        "outputId": "bf316a37-a530-4487-ae72-3b3d8d20ddac"
      },
      "execution_count": null,
      "outputs": [
        {
          "output_type": "stream",
          "name": "stdout",
          "text": [
            "Execution time of train_model_torch: 0.5386159420013428 seconds\n",
            "b_estimate:tensor([1.0234], device='cuda:0', requires_grad=True), w_estimate:tensor([1.9368], device='cuda:0', requires_grad=True)\n"
          ]
        }
      ]
    },
    {
      "cell_type": "markdown",
      "source": [
        "**optimizer 를 사용해서 gradient descent 를 하는 방법도 있어요!**"
      ],
      "metadata": {
        "id": "Ju4y0iMOraU6"
      }
    },
    {
      "cell_type": "code",
      "source": [
        "import torch.optim as optim\n",
        "import torch.nn as nn\n",
        "\n",
        "@timer\n",
        "def train_model_torch(lr = 0.1, epochs=1000):\n",
        "  # Initialize parameters\n",
        "  b = torch.randn(1, requires_grad = True, dtype = torch.float, device = device)\n",
        "  w = torch.randn(1, requires_grad = True, dtype = torch.float, device = device)\n",
        "  parameters = [b, w]\n",
        "  optimizer = optim.SGD(parameters, lr = lr)\n",
        "  mse_loss = nn.MSELoss()\n",
        "\n",
        "  for epoch in range(epochs):\n",
        "    # Loss computation\n",
        "    y_hat = b + w * x_train_tensor\n",
        "    loss = mse_loss(y_hat, y_train_tensor)\n",
        "    # Gradient computation and descent\n",
        "    loss.backward()\n",
        "    optimizer.step() # 경사하강법 연산, step 한 번을 밟는다!\n",
        "    optimizer.zero_grad()\n",
        "  return b, w"
      ],
      "metadata": {
        "id": "dslxhYqC_-f4"
      },
      "execution_count": null,
      "outputs": []
    },
    {
      "cell_type": "code",
      "source": [
        "b, w = train_model_torch()\n",
        "print(\"b_estimate:{}, w_estimate:{}\".format(b,w))"
      ],
      "metadata": {
        "colab": {
          "base_uri": "https://localhost:8080/"
        },
        "id": "7Z8B2wvuFgq2",
        "outputId": "2ce9fe7c-375b-448f-8e39-c9f8f031cc83"
      },
      "execution_count": null,
      "outputs": [
        {
          "output_type": "stream",
          "name": "stdout",
          "text": [
            "Execution time of train_model_torch: 0.6350758075714111 seconds\n",
            "b_estimate:tensor([1.0234], device='cuda:0', requires_grad=True), w_estimate:tensor([1.9368], device='cuda:0', requires_grad=True)\n"
          ]
        }
      ]
    }
  ]
}