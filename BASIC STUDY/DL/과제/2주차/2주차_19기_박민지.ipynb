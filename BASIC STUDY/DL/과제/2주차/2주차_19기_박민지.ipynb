{
  "nbformat": 4,
  "nbformat_minor": 0,
  "metadata": {
    "colab": {
      "provenance": []
    },
    "kernelspec": {
      "name": "python3",
      "display_name": "Python 3"
    },
    "language_info": {
      "name": "python"
    }
  },
  "cells": [
    {
      "cell_type": "code",
      "source": [
        "!pip install matplotlib_inline"
      ],
      "metadata": {
        "colab": {
          "base_uri": "https://localhost:8080/"
        },
        "id": "jgwktzScmy60",
        "outputId": "4ee447a8-7f1c-419c-c03e-9494c88268b0"
      },
      "execution_count": 1,
      "outputs": [
        {
          "output_type": "stream",
          "name": "stdout",
          "text": [
            "Requirement already satisfied: matplotlib_inline in /usr/local/lib/python3.10/dist-packages (0.1.6)\n",
            "Requirement already satisfied: traitlets in /usr/local/lib/python3.10/dist-packages (from matplotlib_inline) (5.7.1)\n"
          ]
        }
      ]
    },
    {
      "cell_type": "code",
      "source": [
        "!pip install d2l"
      ],
      "metadata": {
        "colab": {
          "base_uri": "https://localhost:8080/",
          "height": 1000
        },
        "id": "roeo2LoIStIL",
        "outputId": "2ee2bca4-da0e-4b54-96bb-ec509defc25b"
      },
      "execution_count": 2,
      "outputs": [
        {
          "output_type": "stream",
          "name": "stdout",
          "text": [
            "Collecting d2l\n",
            "  Downloading d2l-1.0.3-py3-none-any.whl (111 kB)\n",
            "\u001b[2K     \u001b[90m━━━━━━━━━━━━━━━━━━━━━━━━━━━━━━━━━━━━━━━━\u001b[0m \u001b[32m111.7/111.7 kB\u001b[0m \u001b[31m1.8 MB/s\u001b[0m eta \u001b[36m0:00:00\u001b[0m\n",
            "\u001b[?25hCollecting jupyter==1.0.0 (from d2l)\n",
            "  Downloading jupyter-1.0.0-py2.py3-none-any.whl (2.7 kB)\n",
            "Requirement already satisfied: numpy==1.23.5 in /usr/local/lib/python3.10/dist-packages (from d2l) (1.23.5)\n",
            "Collecting matplotlib==3.7.2 (from d2l)\n",
            "  Downloading matplotlib-3.7.2-cp310-cp310-manylinux_2_17_x86_64.manylinux2014_x86_64.whl (11.6 MB)\n",
            "\u001b[2K     \u001b[90m━━━━━━━━━━━━━━━━━━━━━━━━━━━━━━━━━━━━━━━━\u001b[0m \u001b[32m11.6/11.6 MB\u001b[0m \u001b[31m16.7 MB/s\u001b[0m eta \u001b[36m0:00:00\u001b[0m\n",
            "\u001b[?25hRequirement already satisfied: matplotlib-inline==0.1.6 in /usr/local/lib/python3.10/dist-packages (from d2l) (0.1.6)\n",
            "Requirement already satisfied: requests==2.31.0 in /usr/local/lib/python3.10/dist-packages (from d2l) (2.31.0)\n",
            "Collecting pandas==2.0.3 (from d2l)\n",
            "  Downloading pandas-2.0.3-cp310-cp310-manylinux_2_17_x86_64.manylinux2014_x86_64.whl (12.3 MB)\n",
            "\u001b[2K     \u001b[90m━━━━━━━━━━━━━━━━━━━━━━━━━━━━━━━━━━━━━━━━\u001b[0m \u001b[32m12.3/12.3 MB\u001b[0m \u001b[31m21.4 MB/s\u001b[0m eta \u001b[36m0:00:00\u001b[0m\n",
            "\u001b[?25hCollecting scipy==1.10.1 (from d2l)\n",
            "  Downloading scipy-1.10.1-cp310-cp310-manylinux_2_17_x86_64.manylinux2014_x86_64.whl (34.4 MB)\n",
            "\u001b[2K     \u001b[90m━━━━━━━━━━━━━━━━━━━━━━━━━━━━━━━━━━━━━━━━\u001b[0m \u001b[32m34.4/34.4 MB\u001b[0m \u001b[31m10.8 MB/s\u001b[0m eta \u001b[36m0:00:00\u001b[0m\n",
            "\u001b[?25hRequirement already satisfied: notebook in /usr/local/lib/python3.10/dist-packages (from jupyter==1.0.0->d2l) (6.5.5)\n",
            "Collecting qtconsole (from jupyter==1.0.0->d2l)\n",
            "  Downloading qtconsole-5.5.1-py3-none-any.whl (123 kB)\n",
            "\u001b[2K     \u001b[90m━━━━━━━━━━━━━━━━━━━━━━━━━━━━━━━━━━━━━━━━\u001b[0m \u001b[32m123.4/123.4 kB\u001b[0m \u001b[31m6.1 MB/s\u001b[0m eta \u001b[36m0:00:00\u001b[0m\n",
            "\u001b[?25hRequirement already satisfied: jupyter-console in /usr/local/lib/python3.10/dist-packages (from jupyter==1.0.0->d2l) (6.1.0)\n",
            "Requirement already satisfied: nbconvert in /usr/local/lib/python3.10/dist-packages (from jupyter==1.0.0->d2l) (6.5.4)\n",
            "Requirement already satisfied: ipykernel in /usr/local/lib/python3.10/dist-packages (from jupyter==1.0.0->d2l) (5.5.6)\n",
            "Requirement already satisfied: ipywidgets in /usr/local/lib/python3.10/dist-packages (from jupyter==1.0.0->d2l) (7.7.1)\n",
            "Requirement already satisfied: contourpy>=1.0.1 in /usr/local/lib/python3.10/dist-packages (from matplotlib==3.7.2->d2l) (1.2.0)\n",
            "Requirement already satisfied: cycler>=0.10 in /usr/local/lib/python3.10/dist-packages (from matplotlib==3.7.2->d2l) (0.12.1)\n",
            "Requirement already satisfied: fonttools>=4.22.0 in /usr/local/lib/python3.10/dist-packages (from matplotlib==3.7.2->d2l) (4.47.2)\n",
            "Requirement already satisfied: kiwisolver>=1.0.1 in /usr/local/lib/python3.10/dist-packages (from matplotlib==3.7.2->d2l) (1.4.5)\n",
            "Requirement already satisfied: packaging>=20.0 in /usr/local/lib/python3.10/dist-packages (from matplotlib==3.7.2->d2l) (23.2)\n",
            "Requirement already satisfied: pillow>=6.2.0 in /usr/local/lib/python3.10/dist-packages (from matplotlib==3.7.2->d2l) (9.4.0)\n",
            "Collecting pyparsing<3.1,>=2.3.1 (from matplotlib==3.7.2->d2l)\n",
            "  Downloading pyparsing-3.0.9-py3-none-any.whl (98 kB)\n",
            "\u001b[2K     \u001b[90m━━━━━━━━━━━━━━━━━━━━━━━━━━━━━━━━━━━━━━━━\u001b[0m \u001b[32m98.3/98.3 kB\u001b[0m \u001b[31m5.2 MB/s\u001b[0m eta \u001b[36m0:00:00\u001b[0m\n",
            "\u001b[?25hRequirement already satisfied: python-dateutil>=2.7 in /usr/local/lib/python3.10/dist-packages (from matplotlib==3.7.2->d2l) (2.8.2)\n",
            "Requirement already satisfied: traitlets in /usr/local/lib/python3.10/dist-packages (from matplotlib-inline==0.1.6->d2l) (5.7.1)\n",
            "Requirement already satisfied: pytz>=2020.1 in /usr/local/lib/python3.10/dist-packages (from pandas==2.0.3->d2l) (2023.3.post1)\n",
            "Collecting tzdata>=2022.1 (from pandas==2.0.3->d2l)\n",
            "  Downloading tzdata-2023.4-py2.py3-none-any.whl (346 kB)\n",
            "\u001b[2K     \u001b[90m━━━━━━━━━━━━━━━━━━━━━━━━━━━━━━━━━━━━━━━━\u001b[0m \u001b[32m346.6/346.6 kB\u001b[0m \u001b[31m24.0 MB/s\u001b[0m eta \u001b[36m0:00:00\u001b[0m\n",
            "\u001b[?25hRequirement already satisfied: charset-normalizer<4,>=2 in /usr/local/lib/python3.10/dist-packages (from requests==2.31.0->d2l) (3.3.2)\n",
            "Requirement already satisfied: idna<4,>=2.5 in /usr/local/lib/python3.10/dist-packages (from requests==2.31.0->d2l) (3.6)\n",
            "Requirement already satisfied: urllib3<3,>=1.21.1 in /usr/local/lib/python3.10/dist-packages (from requests==2.31.0->d2l) (2.0.7)\n",
            "Requirement already satisfied: certifi>=2017.4.17 in /usr/local/lib/python3.10/dist-packages (from requests==2.31.0->d2l) (2023.11.17)\n",
            "Requirement already satisfied: six>=1.5 in /usr/local/lib/python3.10/dist-packages (from python-dateutil>=2.7->matplotlib==3.7.2->d2l) (1.16.0)\n",
            "Requirement already satisfied: ipython-genutils in /usr/local/lib/python3.10/dist-packages (from ipykernel->jupyter==1.0.0->d2l) (0.2.0)\n",
            "Requirement already satisfied: ipython>=5.0.0 in /usr/local/lib/python3.10/dist-packages (from ipykernel->jupyter==1.0.0->d2l) (7.34.0)\n",
            "Requirement already satisfied: jupyter-client in /usr/local/lib/python3.10/dist-packages (from ipykernel->jupyter==1.0.0->d2l) (6.1.12)\n",
            "Requirement already satisfied: tornado>=4.2 in /usr/local/lib/python3.10/dist-packages (from ipykernel->jupyter==1.0.0->d2l) (6.3.2)\n",
            "Requirement already satisfied: widgetsnbextension~=3.6.0 in /usr/local/lib/python3.10/dist-packages (from ipywidgets->jupyter==1.0.0->d2l) (3.6.6)\n",
            "Requirement already satisfied: jupyterlab-widgets>=1.0.0 in /usr/local/lib/python3.10/dist-packages (from ipywidgets->jupyter==1.0.0->d2l) (3.0.9)\n",
            "Requirement already satisfied: prompt-toolkit!=3.0.0,!=3.0.1,<3.1.0,>=2.0.0 in /usr/local/lib/python3.10/dist-packages (from jupyter-console->jupyter==1.0.0->d2l) (3.0.43)\n",
            "Requirement already satisfied: pygments in /usr/local/lib/python3.10/dist-packages (from jupyter-console->jupyter==1.0.0->d2l) (2.16.1)\n",
            "Requirement already satisfied: lxml in /usr/local/lib/python3.10/dist-packages (from nbconvert->jupyter==1.0.0->d2l) (4.9.4)\n",
            "Requirement already satisfied: beautifulsoup4 in /usr/local/lib/python3.10/dist-packages (from nbconvert->jupyter==1.0.0->d2l) (4.11.2)\n",
            "Requirement already satisfied: bleach in /usr/local/lib/python3.10/dist-packages (from nbconvert->jupyter==1.0.0->d2l) (6.1.0)\n",
            "Requirement already satisfied: defusedxml in /usr/local/lib/python3.10/dist-packages (from nbconvert->jupyter==1.0.0->d2l) (0.7.1)\n",
            "Requirement already satisfied: entrypoints>=0.2.2 in /usr/local/lib/python3.10/dist-packages (from nbconvert->jupyter==1.0.0->d2l) (0.4)\n",
            "Requirement already satisfied: jinja2>=3.0 in /usr/local/lib/python3.10/dist-packages (from nbconvert->jupyter==1.0.0->d2l) (3.1.3)\n",
            "Requirement already satisfied: jupyter-core>=4.7 in /usr/local/lib/python3.10/dist-packages (from nbconvert->jupyter==1.0.0->d2l) (5.7.1)\n",
            "Requirement already satisfied: jupyterlab-pygments in /usr/local/lib/python3.10/dist-packages (from nbconvert->jupyter==1.0.0->d2l) (0.3.0)\n",
            "Requirement already satisfied: MarkupSafe>=2.0 in /usr/local/lib/python3.10/dist-packages (from nbconvert->jupyter==1.0.0->d2l) (2.1.3)\n",
            "Requirement already satisfied: mistune<2,>=0.8.1 in /usr/local/lib/python3.10/dist-packages (from nbconvert->jupyter==1.0.0->d2l) (0.8.4)\n",
            "Requirement already satisfied: nbclient>=0.5.0 in /usr/local/lib/python3.10/dist-packages (from nbconvert->jupyter==1.0.0->d2l) (0.9.0)\n",
            "Requirement already satisfied: nbformat>=5.1 in /usr/local/lib/python3.10/dist-packages (from nbconvert->jupyter==1.0.0->d2l) (5.9.2)\n",
            "Requirement already satisfied: pandocfilters>=1.4.1 in /usr/local/lib/python3.10/dist-packages (from nbconvert->jupyter==1.0.0->d2l) (1.5.0)\n",
            "Requirement already satisfied: tinycss2 in /usr/local/lib/python3.10/dist-packages (from nbconvert->jupyter==1.0.0->d2l) (1.2.1)\n",
            "Requirement already satisfied: pyzmq<25,>=17 in /usr/local/lib/python3.10/dist-packages (from notebook->jupyter==1.0.0->d2l) (23.2.1)\n",
            "Requirement already satisfied: argon2-cffi in /usr/local/lib/python3.10/dist-packages (from notebook->jupyter==1.0.0->d2l) (23.1.0)\n",
            "Requirement already satisfied: nest-asyncio>=1.5 in /usr/local/lib/python3.10/dist-packages (from notebook->jupyter==1.0.0->d2l) (1.5.9)\n",
            "Requirement already satisfied: Send2Trash>=1.8.0 in /usr/local/lib/python3.10/dist-packages (from notebook->jupyter==1.0.0->d2l) (1.8.2)\n",
            "Requirement already satisfied: terminado>=0.8.3 in /usr/local/lib/python3.10/dist-packages (from notebook->jupyter==1.0.0->d2l) (0.18.0)\n",
            "Requirement already satisfied: prometheus-client in /usr/local/lib/python3.10/dist-packages (from notebook->jupyter==1.0.0->d2l) (0.19.0)\n",
            "Requirement already satisfied: nbclassic>=0.4.7 in /usr/local/lib/python3.10/dist-packages (from notebook->jupyter==1.0.0->d2l) (1.0.0)\n",
            "Collecting qtpy>=2.4.0 (from qtconsole->jupyter==1.0.0->d2l)\n",
            "  Downloading QtPy-2.4.1-py3-none-any.whl (93 kB)\n",
            "\u001b[2K     \u001b[90m━━━━━━━━━━━━━━━━━━━━━━━━━━━━━━━━━━━━━━━━\u001b[0m \u001b[32m93.5/93.5 kB\u001b[0m \u001b[31m6.2 MB/s\u001b[0m eta \u001b[36m0:00:00\u001b[0m\n",
            "\u001b[?25hRequirement already satisfied: setuptools>=18.5 in /usr/local/lib/python3.10/dist-packages (from ipython>=5.0.0->ipykernel->jupyter==1.0.0->d2l) (67.7.2)\n",
            "Collecting jedi>=0.16 (from ipython>=5.0.0->ipykernel->jupyter==1.0.0->d2l)\n",
            "  Downloading jedi-0.19.1-py2.py3-none-any.whl (1.6 MB)\n",
            "\u001b[2K     \u001b[90m━━━━━━━━━━━━━━━━━━━━━━━━━━━━━━━━━━━━━━━━\u001b[0m \u001b[32m1.6/1.6 MB\u001b[0m \u001b[31m38.1 MB/s\u001b[0m eta \u001b[36m0:00:00\u001b[0m\n",
            "\u001b[?25hRequirement already satisfied: decorator in /usr/local/lib/python3.10/dist-packages (from ipython>=5.0.0->ipykernel->jupyter==1.0.0->d2l) (4.4.2)\n",
            "Requirement already satisfied: pickleshare in /usr/local/lib/python3.10/dist-packages (from ipython>=5.0.0->ipykernel->jupyter==1.0.0->d2l) (0.7.5)\n",
            "Requirement already satisfied: backcall in /usr/local/lib/python3.10/dist-packages (from ipython>=5.0.0->ipykernel->jupyter==1.0.0->d2l) (0.2.0)\n",
            "Requirement already satisfied: pexpect>4.3 in /usr/local/lib/python3.10/dist-packages (from ipython>=5.0.0->ipykernel->jupyter==1.0.0->d2l) (4.9.0)\n",
            "Requirement already satisfied: platformdirs>=2.5 in /usr/local/lib/python3.10/dist-packages (from jupyter-core>=4.7->nbconvert->jupyter==1.0.0->d2l) (4.1.0)\n",
            "Requirement already satisfied: jupyter-server>=1.8 in /usr/local/lib/python3.10/dist-packages (from nbclassic>=0.4.7->notebook->jupyter==1.0.0->d2l) (1.24.0)\n",
            "Requirement already satisfied: notebook-shim>=0.2.3 in /usr/local/lib/python3.10/dist-packages (from nbclassic>=0.4.7->notebook->jupyter==1.0.0->d2l) (0.2.3)\n",
            "Requirement already satisfied: fastjsonschema in /usr/local/lib/python3.10/dist-packages (from nbformat>=5.1->nbconvert->jupyter==1.0.0->d2l) (2.19.1)\n",
            "Requirement already satisfied: jsonschema>=2.6 in /usr/local/lib/python3.10/dist-packages (from nbformat>=5.1->nbconvert->jupyter==1.0.0->d2l) (4.19.2)\n",
            "Requirement already satisfied: wcwidth in /usr/local/lib/python3.10/dist-packages (from prompt-toolkit!=3.0.0,!=3.0.1,<3.1.0,>=2.0.0->jupyter-console->jupyter==1.0.0->d2l) (0.2.13)\n",
            "Requirement already satisfied: ptyprocess in /usr/local/lib/python3.10/dist-packages (from terminado>=0.8.3->notebook->jupyter==1.0.0->d2l) (0.7.0)\n",
            "Requirement already satisfied: argon2-cffi-bindings in /usr/local/lib/python3.10/dist-packages (from argon2-cffi->notebook->jupyter==1.0.0->d2l) (21.2.0)\n",
            "Requirement already satisfied: soupsieve>1.2 in /usr/local/lib/python3.10/dist-packages (from beautifulsoup4->nbconvert->jupyter==1.0.0->d2l) (2.5)\n",
            "Requirement already satisfied: webencodings in /usr/local/lib/python3.10/dist-packages (from bleach->nbconvert->jupyter==1.0.0->d2l) (0.5.1)\n",
            "Requirement already satisfied: parso<0.9.0,>=0.8.3 in /usr/local/lib/python3.10/dist-packages (from jedi>=0.16->ipython>=5.0.0->ipykernel->jupyter==1.0.0->d2l) (0.8.3)\n",
            "Requirement already satisfied: attrs>=22.2.0 in /usr/local/lib/python3.10/dist-packages (from jsonschema>=2.6->nbformat>=5.1->nbconvert->jupyter==1.0.0->d2l) (23.2.0)\n",
            "Requirement already satisfied: jsonschema-specifications>=2023.03.6 in /usr/local/lib/python3.10/dist-packages (from jsonschema>=2.6->nbformat>=5.1->nbconvert->jupyter==1.0.0->d2l) (2023.12.1)\n",
            "Requirement already satisfied: referencing>=0.28.4 in /usr/local/lib/python3.10/dist-packages (from jsonschema>=2.6->nbformat>=5.1->nbconvert->jupyter==1.0.0->d2l) (0.32.1)\n",
            "Requirement already satisfied: rpds-py>=0.7.1 in /usr/local/lib/python3.10/dist-packages (from jsonschema>=2.6->nbformat>=5.1->nbconvert->jupyter==1.0.0->d2l) (0.17.1)\n",
            "Requirement already satisfied: anyio<4,>=3.1.0 in /usr/local/lib/python3.10/dist-packages (from jupyter-server>=1.8->nbclassic>=0.4.7->notebook->jupyter==1.0.0->d2l) (3.7.1)\n",
            "Requirement already satisfied: websocket-client in /usr/local/lib/python3.10/dist-packages (from jupyter-server>=1.8->nbclassic>=0.4.7->notebook->jupyter==1.0.0->d2l) (1.7.0)\n",
            "Requirement already satisfied: cffi>=1.0.1 in /usr/local/lib/python3.10/dist-packages (from argon2-cffi-bindings->argon2-cffi->notebook->jupyter==1.0.0->d2l) (1.16.0)\n",
            "Requirement already satisfied: sniffio>=1.1 in /usr/local/lib/python3.10/dist-packages (from anyio<4,>=3.1.0->jupyter-server>=1.8->nbclassic>=0.4.7->notebook->jupyter==1.0.0->d2l) (1.3.0)\n",
            "Requirement already satisfied: exceptiongroup in /usr/local/lib/python3.10/dist-packages (from anyio<4,>=3.1.0->jupyter-server>=1.8->nbclassic>=0.4.7->notebook->jupyter==1.0.0->d2l) (1.2.0)\n",
            "Requirement already satisfied: pycparser in /usr/local/lib/python3.10/dist-packages (from cffi>=1.0.1->argon2-cffi-bindings->argon2-cffi->notebook->jupyter==1.0.0->d2l) (2.21)\n",
            "Installing collected packages: tzdata, scipy, qtpy, pyparsing, jedi, pandas, matplotlib, qtconsole, jupyter, d2l\n",
            "  Attempting uninstall: scipy\n",
            "    Found existing installation: scipy 1.11.4\n",
            "    Uninstalling scipy-1.11.4:\n",
            "      Successfully uninstalled scipy-1.11.4\n",
            "  Attempting uninstall: pyparsing\n",
            "    Found existing installation: pyparsing 3.1.1\n",
            "    Uninstalling pyparsing-3.1.1:\n",
            "      Successfully uninstalled pyparsing-3.1.1\n",
            "  Attempting uninstall: pandas\n",
            "    Found existing installation: pandas 1.5.3\n",
            "    Uninstalling pandas-1.5.3:\n",
            "      Successfully uninstalled pandas-1.5.3\n",
            "  Attempting uninstall: matplotlib\n",
            "    Found existing installation: matplotlib 3.7.1\n",
            "    Uninstalling matplotlib-3.7.1:\n",
            "      Successfully uninstalled matplotlib-3.7.1\n",
            "\u001b[31mERROR: pip's dependency resolver does not currently take into account all the packages that are installed. This behaviour is the source of the following dependency conflicts.\n",
            "lida 0.0.10 requires fastapi, which is not installed.\n",
            "lida 0.0.10 requires kaleido, which is not installed.\n",
            "lida 0.0.10 requires python-multipart, which is not installed.\n",
            "lida 0.0.10 requires uvicorn, which is not installed.\n",
            "google-colab 1.0.0 requires pandas==1.5.3, but you have pandas 2.0.3 which is incompatible.\u001b[0m\u001b[31m\n",
            "\u001b[0mSuccessfully installed d2l-1.0.3 jedi-0.19.1 jupyter-1.0.0 matplotlib-3.7.2 pandas-2.0.3 pyparsing-3.0.9 qtconsole-5.5.1 qtpy-2.4.1 scipy-1.10.1 tzdata-2023.4\n"
          ]
        },
        {
          "output_type": "display_data",
          "data": {
            "application/vnd.colab-display-data+json": {
              "pip_warning": {
                "packages": [
                  "matplotlib",
                  "mpl_toolkits"
                ]
              }
            }
          },
          "metadata": {}
        }
      ]
    },
    {
      "cell_type": "code",
      "execution_count": 1,
      "metadata": {
        "id": "LoVFErxIiXog"
      },
      "outputs": [],
      "source": [
        "%matplotlib inline\n",
        "import torch\n",
        "import torchvision\n",
        "from torch.utils import data\n",
        "from torchvision import transforms\n",
        "from d2l import torch as d2l\n",
        "\n",
        "d2l.use_svg_display()"
      ]
    },
    {
      "cell_type": "code",
      "source": [
        "trans = transforms.ToTensor()\n",
        "mnist_train = torchvision.datasets.FashionMNIST(\n",
        "    root = \"../data\", train = True , transform=trans, download = True) ## train = 빈칸을 채워주세요.##\n",
        "mnist_test = torchvision.datasets.FashionMNIST(\n",
        "    root = \"../data\", train = False, transform=trans, download=True)## train =  빈칸을 채워주세요.##"
      ],
      "metadata": {
        "colab": {
          "base_uri": "https://localhost:8080/"
        },
        "id": "iUnJtgdgmtTi",
        "outputId": "e532636a-39dc-4994-dd3d-fb16d2efc4a6"
      },
      "execution_count": 2,
      "outputs": [
        {
          "output_type": "stream",
          "name": "stdout",
          "text": [
            "Downloading http://fashion-mnist.s3-website.eu-central-1.amazonaws.com/train-images-idx3-ubyte.gz\n",
            "Downloading http://fashion-mnist.s3-website.eu-central-1.amazonaws.com/train-images-idx3-ubyte.gz to ../data/FashionMNIST/raw/train-images-idx3-ubyte.gz\n"
          ]
        },
        {
          "output_type": "stream",
          "name": "stderr",
          "text": [
            "100%|██████████| 26421880/26421880 [00:01<00:00, 15696892.74it/s]\n"
          ]
        },
        {
          "output_type": "stream",
          "name": "stdout",
          "text": [
            "Extracting ../data/FashionMNIST/raw/train-images-idx3-ubyte.gz to ../data/FashionMNIST/raw\n",
            "\n",
            "Downloading http://fashion-mnist.s3-website.eu-central-1.amazonaws.com/train-labels-idx1-ubyte.gz\n",
            "Downloading http://fashion-mnist.s3-website.eu-central-1.amazonaws.com/train-labels-idx1-ubyte.gz to ../data/FashionMNIST/raw/train-labels-idx1-ubyte.gz\n"
          ]
        },
        {
          "output_type": "stream",
          "name": "stderr",
          "text": [
            "100%|██████████| 29515/29515 [00:00<00:00, 307248.14it/s]\n"
          ]
        },
        {
          "output_type": "stream",
          "name": "stdout",
          "text": [
            "Extracting ../data/FashionMNIST/raw/train-labels-idx1-ubyte.gz to ../data/FashionMNIST/raw\n",
            "\n",
            "Downloading http://fashion-mnist.s3-website.eu-central-1.amazonaws.com/t10k-images-idx3-ubyte.gz\n",
            "Downloading http://fashion-mnist.s3-website.eu-central-1.amazonaws.com/t10k-images-idx3-ubyte.gz to ../data/FashionMNIST/raw/t10k-images-idx3-ubyte.gz\n"
          ]
        },
        {
          "output_type": "stream",
          "name": "stderr",
          "text": [
            "100%|██████████| 4422102/4422102 [00:00<00:00, 5611333.52it/s]\n"
          ]
        },
        {
          "output_type": "stream",
          "name": "stdout",
          "text": [
            "Extracting ../data/FashionMNIST/raw/t10k-images-idx3-ubyte.gz to ../data/FashionMNIST/raw\n",
            "\n",
            "Downloading http://fashion-mnist.s3-website.eu-central-1.amazonaws.com/t10k-labels-idx1-ubyte.gz\n",
            "Downloading http://fashion-mnist.s3-website.eu-central-1.amazonaws.com/t10k-labels-idx1-ubyte.gz to ../data/FashionMNIST/raw/t10k-labels-idx1-ubyte.gz\n"
          ]
        },
        {
          "output_type": "stream",
          "name": "stderr",
          "text": [
            "100%|██████████| 5148/5148 [00:00<00:00, 21336242.09it/s]"
          ]
        },
        {
          "output_type": "stream",
          "name": "stdout",
          "text": [
            "Extracting ../data/FashionMNIST/raw/t10k-labels-idx1-ubyte.gz to ../data/FashionMNIST/raw\n",
            "\n"
          ]
        },
        {
          "output_type": "stream",
          "name": "stderr",
          "text": [
            "\n"
          ]
        }
      ]
    },
    {
      "cell_type": "code",
      "source": [
        "len(mnist_train), len(mnist_test)"
      ],
      "metadata": {
        "colab": {
          "base_uri": "https://localhost:8080/"
        },
        "id": "c5L6xPMUpE9d",
        "outputId": "320a9807-dc19-4dc9-cba7-83f36b15485a"
      },
      "execution_count": 7,
      "outputs": [
        {
          "output_type": "execute_result",
          "data": {
            "text/plain": [
              "(60000, 10000)"
            ]
          },
          "metadata": {},
          "execution_count": 7
        }
      ]
    },
    {
      "cell_type": "code",
      "source": [
        "mnist_train[0][0].shape"
      ],
      "metadata": {
        "colab": {
          "base_uri": "https://localhost:8080/"
        },
        "id": "ODptX6l23f7W",
        "outputId": "3977d183-9693-48ee-e59a-6b8631f108bf"
      },
      "execution_count": 8,
      "outputs": [
        {
          "output_type": "execute_result",
          "data": {
            "text/plain": [
              "torch.Size([1, 28, 28])"
            ]
          },
          "metadata": {},
          "execution_count": 8
        }
      ]
    },
    {
      "cell_type": "code",
      "source": [
        "def get_fashion_mnist_labels(labels):\n",
        "  \"\"\"Fashion-MNIST를 위한 텍스트라벨을 리턴\"\"\"\n",
        "  text_labels = ['t-shirt', 'trouser', 'pullover', 'dress', 'coat',\n",
        "                 'sandal', 'shirt', 'sneaker', 'bag', 'ankle boot']\n",
        "  return [text_labels[int(i)] for i in labels] ## 빈칸을 채워주세요.##"
      ],
      "metadata": {
        "id": "i5-RRJoI4Boa"
      },
      "execution_count": 9,
      "outputs": []
    },
    {
      "cell_type": "code",
      "source": [
        "# visualize example\n",
        "\n",
        "def show_images(imgs, num_rows, num_cols, titles=None, scale=1.5):\n",
        "  \"\"\"이미지 리스트 플롯그리기\"\"\"\n",
        "  figsize = (num_cols * scale, num_rows * scale)\n",
        "  _, axes = d2l.plt.subplots(num_rows, num_cols, figsize = figsize)\n",
        "  axes = axes.flatten()\n",
        "  for i, (ax, img) in enumerate(zip(axes, imgs)):\n",
        "    if torch.is_tensor(img):\n",
        "      # Tensor Image\n",
        "      img = img.numpy()\n",
        "      ax.imshow(img)\n",
        "      ## 빈칸을 채워주세요. ##\n",
        "    else:\n",
        "      # PIL Image\n",
        "       ax.imshow(img)\n",
        "      ## 빈칸을 채워주세요. ##\n",
        "    ax.axes.get_xaxis().set_visible(False)\n",
        "    ax.axes.get_yaxis().set_visible(False)\n",
        "    if titles:\n",
        "      ax.set_title(titles[i])\n",
        "  return axes\n"
      ],
      "metadata": {
        "id": "g7t8PH2g5GCy"
      },
      "execution_count": 10,
      "outputs": []
    },
    {
      "cell_type": "code",
      "source": [
        "!pip install matplotlib==3.1.3"
      ],
      "metadata": {
        "colab": {
          "base_uri": "https://localhost:8080/",
          "height": 683
        },
        "id": "_o4sFnBu_Mqe",
        "outputId": "1e806073-8fbc-442e-ce06-65c8d4a10529"
      },
      "execution_count": 3,
      "outputs": [
        {
          "output_type": "stream",
          "name": "stdout",
          "text": [
            "Collecting matplotlib==3.1.3\n",
            "  Downloading matplotlib-3.1.3.tar.gz (40.9 MB)\n",
            "\u001b[2K     \u001b[90m━━━━━━━━━━━━━━━━━━━━━━━━━━━━━━━━━━━━━━━━\u001b[0m \u001b[32m40.9/40.9 MB\u001b[0m \u001b[31m15.8 MB/s\u001b[0m eta \u001b[36m0:00:00\u001b[0m\n",
            "\u001b[?25h  Preparing metadata (setup.py) ... \u001b[?25l\u001b[?25hdone\n",
            "Requirement already satisfied: cycler>=0.10 in /usr/local/lib/python3.10/dist-packages (from matplotlib==3.1.3) (0.12.1)\n",
            "Requirement already satisfied: kiwisolver>=1.0.1 in /usr/local/lib/python3.10/dist-packages (from matplotlib==3.1.3) (1.4.5)\n",
            "Requirement already satisfied: pyparsing!=2.0.4,!=2.1.2,!=2.1.6,>=2.0.1 in /usr/local/lib/python3.10/dist-packages (from matplotlib==3.1.3) (3.0.9)\n",
            "Requirement already satisfied: python-dateutil>=2.1 in /usr/local/lib/python3.10/dist-packages (from matplotlib==3.1.3) (2.8.2)\n",
            "Requirement already satisfied: numpy>=1.11 in /usr/local/lib/python3.10/dist-packages (from matplotlib==3.1.3) (1.23.5)\n",
            "Requirement already satisfied: six>=1.5 in /usr/local/lib/python3.10/dist-packages (from python-dateutil>=2.1->matplotlib==3.1.3) (1.16.0)\n",
            "Building wheels for collected packages: matplotlib\n",
            "  Building wheel for matplotlib (setup.py) ... \u001b[?25l\u001b[?25hdone\n",
            "  Created wheel for matplotlib: filename=matplotlib-3.1.3-cp310-cp310-linux_x86_64.whl size=11756941 sha256=0a02ea0d5e1d6180569bf88ebe56c10708805f12f6bb9b435e9c17aec12a7171\n",
            "  Stored in directory: /root/.cache/pip/wheels/a7/83/5a/c704868d367ace343ac89b928f3d937313a5b5fb5731483705\n",
            "Successfully built matplotlib\n",
            "Installing collected packages: matplotlib\n",
            "  Attempting uninstall: matplotlib\n",
            "    Found existing installation: matplotlib 3.7.2\n",
            "    Uninstalling matplotlib-3.7.2:\n",
            "      Successfully uninstalled matplotlib-3.7.2\n",
            "\u001b[31mERROR: pip's dependency resolver does not currently take into account all the packages that are installed. This behaviour is the source of the following dependency conflicts.\n",
            "lida 0.0.10 requires fastapi, which is not installed.\n",
            "lida 0.0.10 requires kaleido, which is not installed.\n",
            "lida 0.0.10 requires python-multipart, which is not installed.\n",
            "lida 0.0.10 requires uvicorn, which is not installed.\n",
            "arviz 0.15.1 requires matplotlib>=3.2, but you have matplotlib 3.1.3 which is incompatible.\n",
            "d2l 1.0.3 requires matplotlib==3.7.2, but you have matplotlib 3.1.3 which is incompatible.\n",
            "mizani 0.9.3 requires matplotlib>=3.5.0, but you have matplotlib 3.1.3 which is incompatible.\n",
            "plotnine 0.12.4 requires matplotlib>=3.6.0, but you have matplotlib 3.1.3 which is incompatible.\n",
            "seaborn 0.13.1 requires matplotlib!=3.6.1,>=3.4, but you have matplotlib 3.1.3 which is incompatible.\u001b[0m\u001b[31m\n",
            "\u001b[0mSuccessfully installed matplotlib-3.1.3\n"
          ]
        },
        {
          "output_type": "display_data",
          "data": {
            "application/vnd.colab-display-data+json": {
              "pip_warning": {
                "packages": [
                  "matplotlib",
                  "mpl_toolkits"
                ]
              }
            }
          },
          "metadata": {}
        }
      ]
    },
    {
      "cell_type": "code",
      "source": [
        "# training dataset 가져오기\n",
        "X, y = next(iter(data.DataLoader(mnist_train, batch_size=18)))## 빈칸을 채워주세요. ##\n",
        "show_images(X.reshape(18,28,28), 2, 9, titles = get_fashion_mnist_labels(y));\n"
      ],
      "metadata": {
        "colab": {
          "base_uri": "https://localhost:8080/",
          "height": 280
        },
        "id": "OxYdsR7C6mMo",
        "outputId": "1bd08a67-4c26-4da0-8cd0-69159c8211a5"
      },
      "execution_count": 11,
      "outputs": [
        {
          "output_type": "display_data",
          "data": {
            "text/plain": [
              "<Figure size 1350x300 with 18 Axes>"
            ],
            "image/svg+xml": "<?xml version=\"1.0\" encoding=\"utf-8\" standalone=\"no\"?>\n<!DOCTYPE svg PUBLIC \"-//W3C//DTD SVG 1.1//EN\"\n  \"http://www.w3.org/Graphics/SVG/1.1/DTD/svg11.dtd\">\n<!-- Created with matplotlib (https://matplotlib.org/) -->\n<svg height=\"194.804163pt\" version=\"1.1\" viewBox=\"0 0 771.2 194.804163\" width=\"771.2pt\" xmlns=\"http://www.w3.org/2000/svg\" xmlns:xlink=\"http://www.w3.org/1999/xlink\">\n <defs>\n  <style type=\"text/css\">\n*{stroke-linecap:butt;stroke-linejoin:round;}\n  </style>\n </defs>\n <g id=\"figure_1\">\n  <g id=\"patch_1\">\n   <path d=\"M 0 194.804163 \nL 771.2 194.804163 \nL 771.2 0 \nL 0 0 \nz\n\" style=\"fill:#ffffff;\"/>\n  </g>\n  <g id=\"axes_1\">\n   <g id=\"patch_2\">\n    <path d=\"M 10.7 93.384163 \nL 81.766038 93.384163 \nL 81.766038 22.318125 \nL 10.7 22.318125 \nz\n\" style=\"fill:#ffffff;\"/>\n   </g>\n   <g clip-path=\"url(#pa02556d014)\">\n    <image height=\"71.28\" id=\"imaged282e12b86\" transform=\"scale(1 -1)translate(0 -71.28)\" width=\"71.28\" x=\"10.7\" xlink:href=\"data:image/png;base64,\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\" y=\"-22.104163\"/>\n   </g>\n   <g id=\"patch_3\">\n    <path d=\"M 10.7 93.384163 \nL 10.7 22.318125 \n\" style=\"fill:none;stroke:#000000;stroke-linecap:square;stroke-linejoin:miter;stroke-width:0.8;\"/>\n   </g>\n   <g id=\"patch_4\">\n    <path d=\"M 81.766038 93.384163 \nL 81.766038 22.318125 \n\" style=\"fill:none;stroke:#000000;stroke-linecap:square;stroke-linejoin:miter;stroke-width:0.8;\"/>\n   </g>\n   <g id=\"patch_5\">\n    <path d=\"M 10.7 93.384163 \nL 81.766038 93.384163 \n\" style=\"fill:none;stroke:#000000;stroke-linecap:square;stroke-linejoin:miter;stroke-width:0.8;\"/>\n   </g>\n   <g id=\"patch_6\">\n    <path d=\"M 10.7 22.318125 \nL 81.766038 22.318125 \n\" style=\"fill:none;stroke:#000000;stroke-linecap:square;stroke-linejoin:miter;stroke-width:0.8;\"/>\n   </g>\n   <g id=\"text_1\">\n    <!-- ankle boot -->\n    <defs>\n     <path d=\"M 34.28125 27.484375 \nQ 23.390625 27.484375 19.1875 25 \nQ 14.984375 22.515625 14.984375 16.5 \nQ 14.984375 11.71875 18.140625 8.90625 \nQ 21.296875 6.109375 26.703125 6.109375 \nQ 34.1875 6.109375 38.703125 11.40625 \nQ 43.21875 16.703125 43.21875 25.484375 \nL 43.21875 27.484375 \nz\nM 52.203125 31.203125 \nL 52.203125 0 \nL 43.21875 0 \nL 43.21875 8.296875 \nQ 40.140625 3.328125 35.546875 0.953125 \nQ 30.953125 -1.421875 24.3125 -1.421875 \nQ 15.921875 -1.421875 10.953125 3.296875 \nQ 6 8.015625 6 15.921875 \nQ 6 25.140625 12.171875 29.828125 \nQ 18.359375 34.515625 30.609375 34.515625 \nL 43.21875 34.515625 \nL 43.21875 35.40625 \nQ 43.21875 41.609375 39.140625 45 \nQ 35.0625 48.390625 27.6875 48.390625 \nQ 23 48.390625 18.546875 47.265625 \nQ 14.109375 46.140625 10.015625 43.890625 \nL 10.015625 52.203125 \nQ 14.9375 54.109375 19.578125 55.046875 \nQ 24.21875 56 28.609375 56 \nQ 40.484375 56 46.34375 49.84375 \nQ 52.203125 43.703125 52.203125 31.203125 \nz\n\" id=\"DejaVuSans-97\"/>\n     <path d=\"M 54.890625 33.015625 \nL 54.890625 0 \nL 45.90625 0 \nL 45.90625 32.71875 \nQ 45.90625 40.484375 42.875 44.328125 \nQ 39.84375 48.1875 33.796875 48.1875 \nQ 26.515625 48.1875 22.3125 43.546875 \nQ 18.109375 38.921875 18.109375 30.90625 \nL 18.109375 0 \nL 9.078125 0 \nL 9.078125 54.6875 \nL 18.109375 54.6875 \nL 18.109375 46.1875 \nQ 21.34375 51.125 25.703125 53.5625 \nQ 30.078125 56 35.796875 56 \nQ 45.21875 56 50.046875 50.171875 \nQ 54.890625 44.34375 54.890625 33.015625 \nz\n\" id=\"DejaVuSans-110\"/>\n     <path d=\"M 9.078125 75.984375 \nL 18.109375 75.984375 \nL 18.109375 31.109375 \nL 44.921875 54.6875 \nL 56.390625 54.6875 \nL 27.390625 29.109375 \nL 57.625 0 \nL 45.90625 0 \nL 18.109375 26.703125 \nL 18.109375 0 \nL 9.078125 0 \nz\n\" id=\"DejaVuSans-107\"/>\n     <path d=\"M 9.421875 75.984375 \nL 18.40625 75.984375 \nL 18.40625 0 \nL 9.421875 0 \nz\n\" id=\"DejaVuSans-108\"/>\n     <path d=\"M 56.203125 29.59375 \nL 56.203125 25.203125 \nL 14.890625 25.203125 \nQ 15.484375 15.921875 20.484375 11.0625 \nQ 25.484375 6.203125 34.421875 6.203125 \nQ 39.59375 6.203125 44.453125 7.46875 \nQ 49.3125 8.734375 54.109375 11.28125 \nL 54.109375 2.78125 \nQ 49.265625 0.734375 44.1875 -0.34375 \nQ 39.109375 -1.421875 33.890625 -1.421875 \nQ 20.796875 -1.421875 13.15625 6.1875 \nQ 5.515625 13.8125 5.515625 26.8125 \nQ 5.515625 40.234375 12.765625 48.109375 \nQ 20.015625 56 32.328125 56 \nQ 43.359375 56 49.78125 48.890625 \nQ 56.203125 41.796875 56.203125 29.59375 \nz\nM 47.21875 32.234375 \nQ 47.125 39.59375 43.09375 43.984375 \nQ 39.0625 48.390625 32.421875 48.390625 \nQ 24.90625 48.390625 20.390625 44.140625 \nQ 15.875 39.890625 15.1875 32.171875 \nz\n\" id=\"DejaVuSans-101\"/>\n     <path id=\"DejaVuSans-32\"/>\n     <path d=\"M 48.6875 27.296875 \nQ 48.6875 37.203125 44.609375 42.84375 \nQ 40.53125 48.484375 33.40625 48.484375 \nQ 26.265625 48.484375 22.1875 42.84375 \nQ 18.109375 37.203125 18.109375 27.296875 \nQ 18.109375 17.390625 22.1875 11.75 \nQ 26.265625 6.109375 33.40625 6.109375 \nQ 40.53125 6.109375 44.609375 11.75 \nQ 48.6875 17.390625 48.6875 27.296875 \nz\nM 18.109375 46.390625 \nQ 20.953125 51.265625 25.265625 53.625 \nQ 29.59375 56 35.59375 56 \nQ 45.5625 56 51.78125 48.09375 \nQ 58.015625 40.1875 58.015625 27.296875 \nQ 58.015625 14.40625 51.78125 6.484375 \nQ 45.5625 -1.421875 35.59375 -1.421875 \nQ 29.59375 -1.421875 25.265625 0.953125 \nQ 20.953125 3.328125 18.109375 8.203125 \nL 18.109375 0 \nL 9.078125 0 \nL 9.078125 75.984375 \nL 18.109375 75.984375 \nz\n\" id=\"DejaVuSans-98\"/>\n     <path d=\"M 30.609375 48.390625 \nQ 23.390625 48.390625 19.1875 42.75 \nQ 14.984375 37.109375 14.984375 27.296875 \nQ 14.984375 17.484375 19.15625 11.84375 \nQ 23.34375 6.203125 30.609375 6.203125 \nQ 37.796875 6.203125 41.984375 11.859375 \nQ 46.1875 17.53125 46.1875 27.296875 \nQ 46.1875 37.015625 41.984375 42.703125 \nQ 37.796875 48.390625 30.609375 48.390625 \nz\nM 30.609375 56 \nQ 42.328125 56 49.015625 48.375 \nQ 55.71875 40.765625 55.71875 27.296875 \nQ 55.71875 13.875 49.015625 6.21875 \nQ 42.328125 -1.421875 30.609375 -1.421875 \nQ 18.84375 -1.421875 12.171875 6.21875 \nQ 5.515625 13.875 5.515625 27.296875 \nQ 5.515625 40.765625 12.171875 48.375 \nQ 18.84375 56 30.609375 56 \nz\n\" id=\"DejaVuSans-111\"/>\n     <path d=\"M 18.3125 70.21875 \nL 18.3125 54.6875 \nL 36.8125 54.6875 \nL 36.8125 47.703125 \nL 18.3125 47.703125 \nL 18.3125 18.015625 \nQ 18.3125 11.328125 20.140625 9.421875 \nQ 21.96875 7.515625 27.59375 7.515625 \nL 36.8125 7.515625 \nL 36.8125 0 \nL 27.59375 0 \nQ 17.1875 0 13.234375 3.875 \nQ 9.28125 7.765625 9.28125 18.015625 \nL 9.28125 47.703125 \nL 2.6875 47.703125 \nL 2.6875 54.6875 \nL 9.28125 54.6875 \nL 9.28125 70.21875 \nz\n\" id=\"DejaVuSans-116\"/>\n    </defs>\n    <g transform=\"translate(14.509894 16.318125)scale(0.12 -0.12)\">\n     <use xlink:href=\"#DejaVuSans-97\"/>\n     <use x=\"61.279297\" xlink:href=\"#DejaVuSans-110\"/>\n     <use x=\"124.658203\" xlink:href=\"#DejaVuSans-107\"/>\n     <use x=\"182.568359\" xlink:href=\"#DejaVuSans-108\"/>\n     <use x=\"210.351562\" xlink:href=\"#DejaVuSans-101\"/>\n     <use x=\"271.875\" xlink:href=\"#DejaVuSans-32\"/>\n     <use x=\"303.662109\" xlink:href=\"#DejaVuSans-98\"/>\n     <use x=\"367.138672\" xlink:href=\"#DejaVuSans-111\"/>\n     <use x=\"428.320312\" xlink:href=\"#DejaVuSans-111\"/>\n     <use x=\"489.501953\" xlink:href=\"#DejaVuSans-116\"/>\n    </g>\n   </g>\n  </g>\n  <g id=\"axes_2\">\n   <g id=\"patch_7\">\n    <path d=\"M 95.979245 93.384163 \nL 167.045283 93.384163 \nL 167.045283 22.318125 \nL 95.979245 22.318125 \nz\n\" style=\"fill:#ffffff;\"/>\n   </g>\n   <g clip-path=\"url(#pcec760a5ee)\">\n    <image height=\"71.28\" id=\"image855ed6bf89\" transform=\"scale(1 -1)translate(0 -71.28)\" width=\"71.28\" x=\"95.979245\" xlink:href=\"data:image/png;base64,\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\" y=\"-22.104163\"/>\n   </g>\n   <g id=\"patch_8\">\n    <path d=\"M 95.979245 93.384163 \nL 95.979245 22.318125 \n\" style=\"fill:none;stroke:#000000;stroke-linecap:square;stroke-linejoin:miter;stroke-width:0.8;\"/>\n   </g>\n   <g id=\"patch_9\">\n    <path d=\"M 167.045283 93.384163 \nL 167.045283 22.318125 \n\" style=\"fill:none;stroke:#000000;stroke-linecap:square;stroke-linejoin:miter;stroke-width:0.8;\"/>\n   </g>\n   <g id=\"patch_10\">\n    <path d=\"M 95.979245 93.384163 \nL 167.045283 93.384163 \n\" style=\"fill:none;stroke:#000000;stroke-linecap:square;stroke-linejoin:miter;stroke-width:0.8;\"/>\n   </g>\n   <g id=\"patch_11\">\n    <path d=\"M 95.979245 22.318125 \nL 167.045283 22.318125 \n\" style=\"fill:none;stroke:#000000;stroke-linecap:square;stroke-linejoin:miter;stroke-width:0.8;\"/>\n   </g>\n   <g id=\"text_2\">\n    <!-- t-shirt -->\n    <defs>\n     <path d=\"M 4.890625 31.390625 \nL 31.203125 31.390625 \nL 31.203125 23.390625 \nL 4.890625 23.390625 \nz\n\" id=\"DejaVuSans-45\"/>\n     <path d=\"M 44.28125 53.078125 \nL 44.28125 44.578125 \nQ 40.484375 46.53125 36.375 47.5 \nQ 32.28125 48.484375 27.875 48.484375 \nQ 21.1875 48.484375 17.84375 46.4375 \nQ 14.5 44.390625 14.5 40.28125 \nQ 14.5 37.15625 16.890625 35.375 \nQ 19.28125 33.59375 26.515625 31.984375 \nL 29.59375 31.296875 \nQ 39.15625 29.25 43.1875 25.515625 \nQ 47.21875 21.78125 47.21875 15.09375 \nQ 47.21875 7.46875 41.1875 3.015625 \nQ 35.15625 -1.421875 24.609375 -1.421875 \nQ 20.21875 -1.421875 15.453125 -0.5625 \nQ 10.6875 0.296875 5.421875 2 \nL 5.421875 11.28125 \nQ 10.40625 8.6875 15.234375 7.390625 \nQ 20.0625 6.109375 24.8125 6.109375 \nQ 31.15625 6.109375 34.5625 8.28125 \nQ 37.984375 10.453125 37.984375 14.40625 \nQ 37.984375 18.0625 35.515625 20.015625 \nQ 33.0625 21.96875 24.703125 23.78125 \nL 21.578125 24.515625 \nQ 13.234375 26.265625 9.515625 29.90625 \nQ 5.8125 33.546875 5.8125 39.890625 \nQ 5.8125 47.609375 11.28125 51.796875 \nQ 16.75 56 26.8125 56 \nQ 31.78125 56 36.171875 55.265625 \nQ 40.578125 54.546875 44.28125 53.078125 \nz\n\" id=\"DejaVuSans-115\"/>\n     <path d=\"M 54.890625 33.015625 \nL 54.890625 0 \nL 45.90625 0 \nL 45.90625 32.71875 \nQ 45.90625 40.484375 42.875 44.328125 \nQ 39.84375 48.1875 33.796875 48.1875 \nQ 26.515625 48.1875 22.3125 43.546875 \nQ 18.109375 38.921875 18.109375 30.90625 \nL 18.109375 0 \nL 9.078125 0 \nL 9.078125 75.984375 \nL 18.109375 75.984375 \nL 18.109375 46.1875 \nQ 21.34375 51.125 25.703125 53.5625 \nQ 30.078125 56 35.796875 56 \nQ 45.21875 56 50.046875 50.171875 \nQ 54.890625 44.34375 54.890625 33.015625 \nz\n\" id=\"DejaVuSans-104\"/>\n     <path d=\"M 9.421875 54.6875 \nL 18.40625 54.6875 \nL 18.40625 0 \nL 9.421875 0 \nz\nM 9.421875 75.984375 \nL 18.40625 75.984375 \nL 18.40625 64.59375 \nL 9.421875 64.59375 \nz\n\" id=\"DejaVuSans-105\"/>\n     <path d=\"M 41.109375 46.296875 \nQ 39.59375 47.171875 37.8125 47.578125 \nQ 36.03125 48 33.890625 48 \nQ 26.265625 48 22.1875 43.046875 \nQ 18.109375 38.09375 18.109375 28.8125 \nL 18.109375 0 \nL 9.078125 0 \nL 9.078125 54.6875 \nL 18.109375 54.6875 \nL 18.109375 46.1875 \nQ 20.953125 51.171875 25.484375 53.578125 \nQ 30.03125 56 36.53125 56 \nQ 37.453125 56 38.578125 55.875 \nQ 39.703125 55.765625 41.0625 55.515625 \nz\n\" id=\"DejaVuSans-114\"/>\n    </defs>\n    <g transform=\"translate(113.581639 16.318125)scale(0.12 -0.12)\">\n     <use xlink:href=\"#DejaVuSans-116\"/>\n     <use x=\"39.208984\" xlink:href=\"#DejaVuSans-45\"/>\n     <use x=\"75.292969\" xlink:href=\"#DejaVuSans-115\"/>\n     <use x=\"127.392578\" xlink:href=\"#DejaVuSans-104\"/>\n     <use x=\"190.771484\" xlink:href=\"#DejaVuSans-105\"/>\n     <use x=\"218.554688\" xlink:href=\"#DejaVuSans-114\"/>\n     <use x=\"259.667969\" xlink:href=\"#DejaVuSans-116\"/>\n    </g>\n   </g>\n  </g>\n  <g id=\"axes_3\">\n   <g id=\"patch_12\">\n    <path d=\"M 181.258491 93.384163 \nL 252.324528 93.384163 \nL 252.324528 22.318125 \nL 181.258491 22.318125 \nz\n\" style=\"fill:#ffffff;\"/>\n   </g>\n   <g clip-path=\"url(#p436e302fab)\">\n    <image height=\"71.28\" id=\"image602c4cacda\" transform=\"scale(1 -1)translate(0 -71.28)\" width=\"71.28\" x=\"181.258491\" xlink:href=\"data:image/png;base64,\niVBORw0KGgoAAAANSUhEUgAAAGMAAABjCAYAAACPO76VAAAABHNCSVQICAgIfAhkiAAABU5JREFUeJztnb+PG0UUx3fXds7xORf5LjmCIDqkiAIISkKFhKIUXE9BKCmgQVQUVHT8EzQgRREtHUJU9EgpKCjyQxQELoGA7pSTE/ts73qXBu2877M8vkvWs0+676eaydvd2cvX783b2ZnZeDu+XkQhiWOsF4drvvniOahnW5tledxbwSbUJU/u9F1z9x+ALR8M5jcq7/WQ9/k8JEtvgRwaimEIimGIZvAWVexNVlfL8v57b4Lt4Iz7raSrYIoK8TNKpguafGujLMfTDbB1H+Zlef3722Cb9vtRSOgZhqAYhohDp7aNtTWo//npRXczOR7bPPBcSBybZPgn6NQWTmtgfXTGpa+6/a2v75Xl6e6e52aqgZ5hCIphCIphiOCp7ZN3X4O6jNMr+xjsIb6rUZRYpLOF6gd0l5Fk8++n88gdnXaxkdHlV8py6yf2GccKimGI4GEqa2MoSFJXLlQokk/W2gahaUFyPm3J9BUPlk/yradoy7qukZa/iUqgZxiCYhiCYhgieJ/R3RlBffhCpyzr4QiZzhb6Z3OEQRzdT4BNmHL1vzE86/qMk4dv7pmhZxiCYhgieJhqjNWbIBGKdJiYCVsV4Ltm3sL8ef3uaM6Ry4GeYQiKYQiKYYjgfUY8Tj1GrM6ks0tADrPkasyj+WTsjlv+rdAzLEExDBE+TKUqtRX+H2uTemk077yjkDcxFsZiHpcOU9ESUmsf9AxDUAxDUAxD1J7ayuEJPfmsmFupjqIh+hD9pnHoUtsF03krgZ5hCIphiNqXBMj0VU86gLRXpZnwdK7P05cRy8Fi3T68wVIn7j32X7hi6BmGoBiGoBiGCN9nZBUliQv6CThU9BOFXvosU2t9axPPCPMSoGcYgmIYovbUFtJXbfKFInnsEUKWBlNdvFAxDfHc7aBnGIJiGIJiGCJ4n1EMhvgPcjTCMxzim5ww84bQd6wa84BUV2e9B5zEdmyhGIagGIYI32dk89cBP+uktZnzPH2PRq7dgLd+URRFOZ8zji0UwxDhJySoUdOZkdIlo0dtm6Ow+2X6oGcYgmIYgmIYInyf0cFFvFOxP3CiX6z5wrkM/fo4VZczS3QaLLfEmKzN38zSuxlxRdAzDEExDBF+V51H/0A9nl5wFe+TMta9azcUMjTpSWxZ25WbA0x7Q4QmCT3DEBTDEBTDEOFnhyh820fItFNvDuy7hm/0V28eKXeGa+/VOzRCzzAExTCEqTCVdTC1lPvc6imycsKbd7JbFHknuXlHAAJDzzAExTAExTBE/X2GSDVjnb561vRBXZ/nSZd1/yKvs+hzQcuGnmEIimGI2sPUCbH/eKoegOEJXJ3n2wvd95kfX7hrhJ1aOwM9wxAUwxAUwxC19xkw1zXG30bemB/82/su2OtPw6WdRNU9W1IIk75OaOgZhqAYhqg9TOkNHCWdXZfb6s8u9M+7W5dfoYyiKFq7j/nrqQfuMX94Fv9keCJ/jiXMVUDPMATFMATFMETtfYb8amTnX4z1/S13e9sf/wy2NzoPy/J64ynY7oxegvrNu2+X5c1vca7vuCf+C2peqkHPMATFMETtYSqZuNiQrWBuee2jW2X56ql7YLva3i3LvUYHbBdav0L94pWdsvx58QHYNr5z50669f426RmGoBiGoBiGCP9puF4P6pPTrp/48LMfwfY4c8u4bv79Dti+St3ss0F6AmznVvtQP91yr/C+vPQD2L7ov1+W12+xzyD/QzEMEW/H12t97mxunS/Lv33yMthe/eavspz9/kcl7eXXrkB973W3jmzzxi9gK8bjKCT0DENQDENQDEP8B12WUj8ALCgEAAAAAElFTkSuQmCC\" y=\"-22.104163\"/>\n   </g>\n   <g id=\"patch_13\">\n    <path d=\"M 181.258491 93.384163 \nL 181.258491 22.318125 \n\" style=\"fill:none;stroke:#000000;stroke-linecap:square;stroke-linejoin:miter;stroke-width:0.8;\"/>\n   </g>\n   <g id=\"patch_14\">\n    <path d=\"M 252.324528 93.384163 \nL 252.324528 22.318125 \n\" style=\"fill:none;stroke:#000000;stroke-linecap:square;stroke-linejoin:miter;stroke-width:0.8;\"/>\n   </g>\n   <g id=\"patch_15\">\n    <path d=\"M 181.258491 93.384163 \nL 252.324528 93.384163 \n\" style=\"fill:none;stroke:#000000;stroke-linecap:square;stroke-linejoin:miter;stroke-width:0.8;\"/>\n   </g>\n   <g id=\"patch_16\">\n    <path d=\"M 181.258491 22.318125 \nL 252.324528 22.318125 \n\" style=\"fill:none;stroke:#000000;stroke-linecap:square;stroke-linejoin:miter;stroke-width:0.8;\"/>\n   </g>\n   <g id=\"text_3\">\n    <!-- t-shirt -->\n    <g transform=\"translate(198.860884 16.318125)scale(0.12 -0.12)\">\n     <use xlink:href=\"#DejaVuSans-116\"/>\n     <use x=\"39.208984\" xlink:href=\"#DejaVuSans-45\"/>\n     <use x=\"75.292969\" xlink:href=\"#DejaVuSans-115\"/>\n     <use x=\"127.392578\" xlink:href=\"#DejaVuSans-104\"/>\n     <use x=\"190.771484\" xlink:href=\"#DejaVuSans-105\"/>\n     <use x=\"218.554688\" xlink:href=\"#DejaVuSans-114\"/>\n     <use x=\"259.667969\" xlink:href=\"#DejaVuSans-116\"/>\n    </g>\n   </g>\n  </g>\n  <g id=\"axes_4\">\n   <g id=\"patch_17\">\n    <path d=\"M 266.537736 93.384163 \nL 337.603774 93.384163 \nL 337.603774 22.318125 \nL 266.537736 22.318125 \nz\n\" style=\"fill:#ffffff;\"/>\n   </g>\n   <g clip-path=\"url(#p1f358e4df9)\">\n    <image height=\"71.28\" id=\"image8f63c84e95\" transform=\"scale(1 -1)translate(0 -71.28)\" width=\"71.28\" x=\"266.537736\" xlink:href=\"data:image/png;base64,\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\" y=\"-22.104163\"/>\n   </g>\n   <g id=\"patch_18\">\n    <path d=\"M 266.537736 93.384163 \nL 266.537736 22.318125 \n\" style=\"fill:none;stroke:#000000;stroke-linecap:square;stroke-linejoin:miter;stroke-width:0.8;\"/>\n   </g>\n   <g id=\"patch_19\">\n    <path d=\"M 337.603774 93.384163 \nL 337.603774 22.318125 \n\" style=\"fill:none;stroke:#000000;stroke-linecap:square;stroke-linejoin:miter;stroke-width:0.8;\"/>\n   </g>\n   <g id=\"patch_20\">\n    <path d=\"M 266.537736 93.384163 \nL 337.603774 93.384163 \n\" style=\"fill:none;stroke:#000000;stroke-linecap:square;stroke-linejoin:miter;stroke-width:0.8;\"/>\n   </g>\n   <g id=\"patch_21\">\n    <path d=\"M 266.537736 22.318125 \nL 337.603774 22.318125 \n\" style=\"fill:none;stroke:#000000;stroke-linecap:square;stroke-linejoin:miter;stroke-width:0.8;\"/>\n   </g>\n   <g id=\"text_4\">\n    <!-- dress -->\n    <defs>\n     <path d=\"M 45.40625 46.390625 \nL 45.40625 75.984375 \nL 54.390625 75.984375 \nL 54.390625 0 \nL 45.40625 0 \nL 45.40625 8.203125 \nQ 42.578125 3.328125 38.25 0.953125 \nQ 33.9375 -1.421875 27.875 -1.421875 \nQ 17.96875 -1.421875 11.734375 6.484375 \nQ 5.515625 14.40625 5.515625 27.296875 \nQ 5.515625 40.1875 11.734375 48.09375 \nQ 17.96875 56 27.875 56 \nQ 33.9375 56 38.25 53.625 \nQ 42.578125 51.265625 45.40625 46.390625 \nz\nM 14.796875 27.296875 \nQ 14.796875 17.390625 18.875 11.75 \nQ 22.953125 6.109375 30.078125 6.109375 \nQ 37.203125 6.109375 41.296875 11.75 \nQ 45.40625 17.390625 45.40625 27.296875 \nQ 45.40625 37.203125 41.296875 42.84375 \nQ 37.203125 48.484375 30.078125 48.484375 \nQ 22.953125 48.484375 18.875 42.84375 \nQ 14.796875 37.203125 14.796875 27.296875 \nz\n\" id=\"DejaVuSans-100\"/>\n    </defs>\n    <g transform=\"translate(285.85388 16.318125)scale(0.12 -0.12)\">\n     <use xlink:href=\"#DejaVuSans-100\"/>\n     <use x=\"63.476562\" xlink:href=\"#DejaVuSans-114\"/>\n     <use x=\"104.558594\" xlink:href=\"#DejaVuSans-101\"/>\n     <use x=\"166.082031\" xlink:href=\"#DejaVuSans-115\"/>\n     <use x=\"218.181641\" xlink:href=\"#DejaVuSans-115\"/>\n    </g>\n   </g>\n  </g>\n  <g id=\"axes_5\">\n   <g id=\"patch_22\">\n    <path d=\"M 351.816981 93.384163 \nL 422.883019 93.384163 \nL 422.883019 22.318125 \nL 351.816981 22.318125 \nz\n\" style=\"fill:#ffffff;\"/>\n   </g>\n   <g clip-path=\"url(#p46f2c6462a)\">\n    <image height=\"71.28\" id=\"image2351a4d076\" transform=\"scale(1 -1)translate(0 -71.28)\" width=\"71.28\" x=\"351.816981\" xlink:href=\"data:image/png;base64,\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\" y=\"-22.104163\"/>\n   </g>\n   <g id=\"patch_23\">\n    <path d=\"M 351.816981 93.384163 \nL 351.816981 22.318125 \n\" style=\"fill:none;stroke:#000000;stroke-linecap:square;stroke-linejoin:miter;stroke-width:0.8;\"/>\n   </g>\n   <g id=\"patch_24\">\n    <path d=\"M 422.883019 93.384163 \nL 422.883019 22.318125 \n\" style=\"fill:none;stroke:#000000;stroke-linecap:square;stroke-linejoin:miter;stroke-width:0.8;\"/>\n   </g>\n   <g id=\"patch_25\">\n    <path d=\"M 351.816981 93.384163 \nL 422.883019 93.384163 \n\" style=\"fill:none;stroke:#000000;stroke-linecap:square;stroke-linejoin:miter;stroke-width:0.8;\"/>\n   </g>\n   <g id=\"patch_26\">\n    <path d=\"M 351.816981 22.318125 \nL 422.883019 22.318125 \n\" style=\"fill:none;stroke:#000000;stroke-linecap:square;stroke-linejoin:miter;stroke-width:0.8;\"/>\n   </g>\n   <g id=\"text_5\">\n    <!-- t-shirt -->\n    <g transform=\"translate(369.419375 16.318125)scale(0.12 -0.12)\">\n     <use xlink:href=\"#DejaVuSans-116\"/>\n     <use x=\"39.208984\" xlink:href=\"#DejaVuSans-45\"/>\n     <use x=\"75.292969\" xlink:href=\"#DejaVuSans-115\"/>\n     <use x=\"127.392578\" xlink:href=\"#DejaVuSans-104\"/>\n     <use x=\"190.771484\" xlink:href=\"#DejaVuSans-105\"/>\n     <use x=\"218.554688\" xlink:href=\"#DejaVuSans-114\"/>\n     <use x=\"259.667969\" xlink:href=\"#DejaVuSans-116\"/>\n    </g>\n   </g>\n  </g>\n  <g id=\"axes_6\">\n   <g id=\"patch_27\">\n    <path d=\"M 437.096226 93.384163 \nL 508.162264 93.384163 \nL 508.162264 22.318125 \nL 437.096226 22.318125 \nz\n\" style=\"fill:#ffffff;\"/>\n   </g>\n   <g clip-path=\"url(#pec698d1a07)\">\n    <image height=\"71.28\" id=\"image1077ae0883\" transform=\"scale(1 -1)translate(0 -71.28)\" width=\"71.28\" x=\"437.096226\" xlink:href=\"data:image/png;base64,\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\" y=\"-22.104163\"/>\n   </g>\n   <g id=\"patch_28\">\n    <path d=\"M 437.096226 93.384163 \nL 437.096226 22.318125 \n\" style=\"fill:none;stroke:#000000;stroke-linecap:square;stroke-linejoin:miter;stroke-width:0.8;\"/>\n   </g>\n   <g id=\"patch_29\">\n    <path d=\"M 508.162264 93.384163 \nL 508.162264 22.318125 \n\" style=\"fill:none;stroke:#000000;stroke-linecap:square;stroke-linejoin:miter;stroke-width:0.8;\"/>\n   </g>\n   <g id=\"patch_30\">\n    <path d=\"M 437.096226 93.384163 \nL 508.162264 93.384163 \n\" style=\"fill:none;stroke:#000000;stroke-linecap:square;stroke-linejoin:miter;stroke-width:0.8;\"/>\n   </g>\n   <g id=\"patch_31\">\n    <path d=\"M 437.096226 22.318125 \nL 508.162264 22.318125 \n\" style=\"fill:none;stroke:#000000;stroke-linecap:square;stroke-linejoin:miter;stroke-width:0.8;\"/>\n   </g>\n   <g id=\"text_6\">\n    <!-- pullover -->\n    <defs>\n     <path d=\"M 18.109375 8.203125 \nL 18.109375 -20.796875 \nL 9.078125 -20.796875 \nL 9.078125 54.6875 \nL 18.109375 54.6875 \nL 18.109375 46.390625 \nQ 20.953125 51.265625 25.265625 53.625 \nQ 29.59375 56 35.59375 56 \nQ 45.5625 56 51.78125 48.09375 \nQ 58.015625 40.1875 58.015625 27.296875 \nQ 58.015625 14.40625 51.78125 6.484375 \nQ 45.5625 -1.421875 35.59375 -1.421875 \nQ 29.59375 -1.421875 25.265625 0.953125 \nQ 20.953125 3.328125 18.109375 8.203125 \nz\nM 48.6875 27.296875 \nQ 48.6875 37.203125 44.609375 42.84375 \nQ 40.53125 48.484375 33.40625 48.484375 \nQ 26.265625 48.484375 22.1875 42.84375 \nQ 18.109375 37.203125 18.109375 27.296875 \nQ 18.109375 17.390625 22.1875 11.75 \nQ 26.265625 6.109375 33.40625 6.109375 \nQ 40.53125 6.109375 44.609375 11.75 \nQ 48.6875 17.390625 48.6875 27.296875 \nz\n\" id=\"DejaVuSans-112\"/>\n     <path d=\"M 8.5 21.578125 \nL 8.5 54.6875 \nL 17.484375 54.6875 \nL 17.484375 21.921875 \nQ 17.484375 14.15625 20.5 10.265625 \nQ 23.53125 6.390625 29.59375 6.390625 \nQ 36.859375 6.390625 41.078125 11.03125 \nQ 45.3125 15.671875 45.3125 23.6875 \nL 45.3125 54.6875 \nL 54.296875 54.6875 \nL 54.296875 0 \nL 45.3125 0 \nL 45.3125 8.40625 \nQ 42.046875 3.421875 37.71875 1 \nQ 33.40625 -1.421875 27.6875 -1.421875 \nQ 18.265625 -1.421875 13.375 4.4375 \nQ 8.5 10.296875 8.5 21.578125 \nz\nM 31.109375 56 \nz\n\" id=\"DejaVuSans-117\"/>\n     <path d=\"M 2.984375 54.6875 \nL 12.5 54.6875 \nL 29.59375 8.796875 \nL 46.6875 54.6875 \nL 56.203125 54.6875 \nL 35.6875 0 \nL 23.484375 0 \nz\n\" id=\"DejaVuSans-118\"/>\n    </defs>\n    <g transform=\"translate(448.302995 16.318125)scale(0.12 -0.12)\">\n     <use xlink:href=\"#DejaVuSans-112\"/>\n     <use x=\"63.476562\" xlink:href=\"#DejaVuSans-117\"/>\n     <use x=\"126.855469\" xlink:href=\"#DejaVuSans-108\"/>\n     <use x=\"154.638672\" xlink:href=\"#DejaVuSans-108\"/>\n     <use x=\"182.421875\" xlink:href=\"#DejaVuSans-111\"/>\n     <use x=\"243.603516\" xlink:href=\"#DejaVuSans-118\"/>\n     <use x=\"302.783203\" xlink:href=\"#DejaVuSans-101\"/>\n     <use x=\"364.306641\" xlink:href=\"#DejaVuSans-114\"/>\n    </g>\n   </g>\n  </g>\n  <g id=\"axes_7\">\n   <g id=\"patch_32\">\n    <path d=\"M 522.375472 93.384163 \nL 593.441509 93.384163 \nL 593.441509 22.318125 \nL 522.375472 22.318125 \nz\n\" style=\"fill:#ffffff;\"/>\n   </g>\n   <g clip-path=\"url(#pa47b8f23d9)\">\n    <image height=\"71.28\" id=\"imagef4fcc27510\" transform=\"scale(1 -1)translate(0 -71.28)\" width=\"71.28\" x=\"522.375472\" xlink:href=\"data:image/png;base64,\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\" y=\"-22.104163\"/>\n   </g>\n   <g id=\"patch_33\">\n    <path d=\"M 522.375472 93.384163 \nL 522.375472 22.318125 \n\" style=\"fill:none;stroke:#000000;stroke-linecap:square;stroke-linejoin:miter;stroke-width:0.8;\"/>\n   </g>\n   <g id=\"patch_34\">\n    <path d=\"M 593.441509 93.384163 \nL 593.441509 22.318125 \n\" style=\"fill:none;stroke:#000000;stroke-linecap:square;stroke-linejoin:miter;stroke-width:0.8;\"/>\n   </g>\n   <g id=\"patch_35\">\n    <path d=\"M 522.375472 93.384163 \nL 593.441509 93.384163 \n\" style=\"fill:none;stroke:#000000;stroke-linecap:square;stroke-linejoin:miter;stroke-width:0.8;\"/>\n   </g>\n   <g id=\"patch_36\">\n    <path d=\"M 522.375472 22.318125 \nL 593.441509 22.318125 \n\" style=\"fill:none;stroke:#000000;stroke-linecap:square;stroke-linejoin:miter;stroke-width:0.8;\"/>\n   </g>\n   <g id=\"text_7\">\n    <!-- sneaker -->\n    <g transform=\"translate(533.981616 16.318125)scale(0.12 -0.12)\">\n     <use xlink:href=\"#DejaVuSans-115\"/>\n     <use x=\"52.099609\" xlink:href=\"#DejaVuSans-110\"/>\n     <use x=\"115.478516\" xlink:href=\"#DejaVuSans-101\"/>\n     <use x=\"177.001953\" xlink:href=\"#DejaVuSans-97\"/>\n     <use x=\"238.28125\" xlink:href=\"#DejaVuSans-107\"/>\n     <use x=\"296.144531\" xlink:href=\"#DejaVuSans-101\"/>\n     <use x=\"357.667969\" xlink:href=\"#DejaVuSans-114\"/>\n    </g>\n   </g>\n  </g>\n  <g id=\"axes_8\">\n   <g id=\"patch_37\">\n    <path d=\"M 607.654717 93.384163 \nL 678.720755 93.384163 \nL 678.720755 22.318125 \nL 607.654717 22.318125 \nz\n\" style=\"fill:#ffffff;\"/>\n   </g>\n   <g clip-path=\"url(#p1fb5032b5f)\">\n    <image height=\"71.28\" id=\"imagefdd8e7ebf9\" transform=\"scale(1 -1)translate(0 -71.28)\" width=\"71.28\" x=\"607.654717\" xlink:href=\"data:image/png;base64,\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\" y=\"-22.104163\"/>\n   </g>\n   <g id=\"patch_38\">\n    <path d=\"M 607.654717 93.384163 \nL 607.654717 22.318125 \n\" style=\"fill:none;stroke:#000000;stroke-linecap:square;stroke-linejoin:miter;stroke-width:0.8;\"/>\n   </g>\n   <g id=\"patch_39\">\n    <path d=\"M 678.720755 93.384163 \nL 678.720755 22.318125 \n\" style=\"fill:none;stroke:#000000;stroke-linecap:square;stroke-linejoin:miter;stroke-width:0.8;\"/>\n   </g>\n   <g id=\"patch_40\">\n    <path d=\"M 607.654717 93.384163 \nL 678.720755 93.384163 \n\" style=\"fill:none;stroke:#000000;stroke-linecap:square;stroke-linejoin:miter;stroke-width:0.8;\"/>\n   </g>\n   <g id=\"patch_41\">\n    <path d=\"M 607.654717 22.318125 \nL 678.720755 22.318125 \n\" style=\"fill:none;stroke:#000000;stroke-linecap:square;stroke-linejoin:miter;stroke-width:0.8;\"/>\n   </g>\n   <g id=\"text_8\">\n    <!-- pullover -->\n    <g transform=\"translate(618.861486 16.318125)scale(0.12 -0.12)\">\n     <use xlink:href=\"#DejaVuSans-112\"/>\n     <use x=\"63.476562\" xlink:href=\"#DejaVuSans-117\"/>\n     <use x=\"126.855469\" xlink:href=\"#DejaVuSans-108\"/>\n     <use x=\"154.638672\" xlink:href=\"#DejaVuSans-108\"/>\n     <use x=\"182.421875\" xlink:href=\"#DejaVuSans-111\"/>\n     <use x=\"243.603516\" xlink:href=\"#DejaVuSans-118\"/>\n     <use x=\"302.783203\" xlink:href=\"#DejaVuSans-101\"/>\n     <use x=\"364.306641\" xlink:href=\"#DejaVuSans-114\"/>\n    </g>\n   </g>\n  </g>\n  <g id=\"axes_9\">\n   <g id=\"patch_42\">\n    <path d=\"M 692.933962 93.384163 \nL 764 93.384163 \nL 764 22.318125 \nL 692.933962 22.318125 \nz\n\" style=\"fill:#ffffff;\"/>\n   </g>\n   <g clip-path=\"url(#pa4d8c9bcd5)\">\n    <image height=\"71.28\" id=\"image650b783cfc\" transform=\"scale(1 -1)translate(0 -71.28)\" width=\"71.28\" x=\"692.933962\" xlink:href=\"data:image/png;base64,\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\" y=\"-22.104163\"/>\n   </g>\n   <g id=\"patch_43\">\n    <path d=\"M 692.933962 93.384163 \nL 692.933962 22.318125 \n\" style=\"fill:none;stroke:#000000;stroke-linecap:square;stroke-linejoin:miter;stroke-width:0.8;\"/>\n   </g>\n   <g id=\"patch_44\">\n    <path d=\"M 764 93.384163 \nL 764 22.318125 \n\" style=\"fill:none;stroke:#000000;stroke-linecap:square;stroke-linejoin:miter;stroke-width:0.8;\"/>\n   </g>\n   <g id=\"patch_45\">\n    <path d=\"M 692.933962 93.384163 \nL 764 93.384163 \n\" style=\"fill:none;stroke:#000000;stroke-linecap:square;stroke-linejoin:miter;stroke-width:0.8;\"/>\n   </g>\n   <g id=\"patch_46\">\n    <path d=\"M 692.933962 22.318125 \nL 764 22.318125 \n\" style=\"fill:none;stroke:#000000;stroke-linecap:square;stroke-linejoin:miter;stroke-width:0.8;\"/>\n   </g>\n   <g id=\"text_9\">\n    <!-- sandal -->\n    <g transform=\"translate(708.709169 16.318125)scale(0.12 -0.12)\">\n     <use xlink:href=\"#DejaVuSans-115\"/>\n     <use x=\"52.099609\" xlink:href=\"#DejaVuSans-97\"/>\n     <use x=\"113.378906\" xlink:href=\"#DejaVuSans-110\"/>\n     <use x=\"176.757812\" xlink:href=\"#DejaVuSans-100\"/>\n     <use x=\"240.234375\" xlink:href=\"#DejaVuSans-97\"/>\n     <use x=\"301.513672\" xlink:href=\"#DejaVuSans-108\"/>\n    </g>\n   </g>\n  </g>\n  <g id=\"axes_10\">\n   <g id=\"patch_47\">\n    <path d=\"M 10.7 184.104163 \nL 81.766038 184.104163 \nL 81.766038 113.038125 \nL 10.7 113.038125 \nz\n\" style=\"fill:#ffffff;\"/>\n   </g>\n   <g clip-path=\"url(#pef6f9ff54b)\">\n    <image height=\"71.28\" id=\"image4cc9d3936d\" transform=\"scale(1 -1)translate(0 -71.28)\" width=\"71.28\" x=\"10.7\" xlink:href=\"data:image/png;base64,\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\" y=\"-112.824163\"/>\n   </g>\n   <g id=\"patch_48\">\n    <path d=\"M 10.7 184.104163 \nL 10.7 113.038125 \n\" style=\"fill:none;stroke:#000000;stroke-linecap:square;stroke-linejoin:miter;stroke-width:0.8;\"/>\n   </g>\n   <g id=\"patch_49\">\n    <path d=\"M 81.766038 184.104163 \nL 81.766038 113.038125 \n\" style=\"fill:none;stroke:#000000;stroke-linecap:square;stroke-linejoin:miter;stroke-width:0.8;\"/>\n   </g>\n   <g id=\"patch_50\">\n    <path d=\"M 10.7 184.104163 \nL 81.766038 184.104163 \n\" style=\"fill:none;stroke:#000000;stroke-linecap:square;stroke-linejoin:miter;stroke-width:0.8;\"/>\n   </g>\n   <g id=\"patch_51\">\n    <path d=\"M 10.7 113.038125 \nL 81.766038 113.038125 \n\" style=\"fill:none;stroke:#000000;stroke-linecap:square;stroke-linejoin:miter;stroke-width:0.8;\"/>\n   </g>\n   <g id=\"text_10\">\n    <!-- sandal -->\n    <g transform=\"translate(26.475206 107.038125)scale(0.12 -0.12)\">\n     <use xlink:href=\"#DejaVuSans-115\"/>\n     <use x=\"52.099609\" xlink:href=\"#DejaVuSans-97\"/>\n     <use x=\"113.378906\" xlink:href=\"#DejaVuSans-110\"/>\n     <use x=\"176.757812\" xlink:href=\"#DejaVuSans-100\"/>\n     <use x=\"240.234375\" xlink:href=\"#DejaVuSans-97\"/>\n     <use x=\"301.513672\" xlink:href=\"#DejaVuSans-108\"/>\n    </g>\n   </g>\n  </g>\n  <g id=\"axes_11\">\n   <g id=\"patch_52\">\n    <path d=\"M 95.979245 184.104163 \nL 167.045283 184.104163 \nL 167.045283 113.038125 \nL 95.979245 113.038125 \nz\n\" style=\"fill:#ffffff;\"/>\n   </g>\n   <g clip-path=\"url(#p05aaaefb5d)\">\n    <image height=\"71.28\" id=\"image65477b955a\" transform=\"scale(1 -1)translate(0 -71.28)\" width=\"71.28\" x=\"95.979245\" xlink:href=\"data:image/png;base64,\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\" y=\"-112.824163\"/>\n   </g>\n   <g id=\"patch_53\">\n    <path d=\"M 95.979245 184.104163 \nL 95.979245 113.038125 \n\" style=\"fill:none;stroke:#000000;stroke-linecap:square;stroke-linejoin:miter;stroke-width:0.8;\"/>\n   </g>\n   <g id=\"patch_54\">\n    <path d=\"M 167.045283 184.104163 \nL 167.045283 113.038125 \n\" style=\"fill:none;stroke:#000000;stroke-linecap:square;stroke-linejoin:miter;stroke-width:0.8;\"/>\n   </g>\n   <g id=\"patch_55\">\n    <path d=\"M 95.979245 184.104163 \nL 167.045283 184.104163 \n\" style=\"fill:none;stroke:#000000;stroke-linecap:square;stroke-linejoin:miter;stroke-width:0.8;\"/>\n   </g>\n   <g id=\"patch_56\">\n    <path d=\"M 95.979245 113.038125 \nL 167.045283 113.038125 \n\" style=\"fill:none;stroke:#000000;stroke-linecap:square;stroke-linejoin:miter;stroke-width:0.8;\"/>\n   </g>\n   <g id=\"text_11\">\n    <!-- t-shirt -->\n    <g transform=\"translate(113.581639 107.038125)scale(0.12 -0.12)\">\n     <use xlink:href=\"#DejaVuSans-116\"/>\n     <use x=\"39.208984\" xlink:href=\"#DejaVuSans-45\"/>\n     <use x=\"75.292969\" xlink:href=\"#DejaVuSans-115\"/>\n     <use x=\"127.392578\" xlink:href=\"#DejaVuSans-104\"/>\n     <use x=\"190.771484\" xlink:href=\"#DejaVuSans-105\"/>\n     <use x=\"218.554688\" xlink:href=\"#DejaVuSans-114\"/>\n     <use x=\"259.667969\" xlink:href=\"#DejaVuSans-116\"/>\n    </g>\n   </g>\n  </g>\n  <g id=\"axes_12\">\n   <g id=\"patch_57\">\n    <path d=\"M 181.258491 184.104163 \nL 252.324528 184.104163 \nL 252.324528 113.038125 \nL 181.258491 113.038125 \nz\n\" style=\"fill:#ffffff;\"/>\n   </g>\n   <g clip-path=\"url(#p1a6b198f56)\">\n    <image height=\"71.28\" id=\"image9458b0fae0\" transform=\"scale(1 -1)translate(0 -71.28)\" width=\"71.28\" x=\"181.258491\" xlink:href=\"data:image/png;base64,\niVBORw0KGgoAAAANSUhEUgAAAGMAAABjCAYAAACPO76VAAAABHNCSVQICAgIfAhkiAAACZ5JREFUeJztXWlsFdcVvjNvf35+eN9qgmNim5oaNQkJDSJRA6itYqktAalRkzY4KmlIugmhJqJpJKTSjbS0Im6UoqoK0NIgNRCyCKVVQg2FOIQlQFkCGFOz1Au2H8aPt81M/91zv/s0E+w4cJHu9+tcf+OZee+8e86Zc889Y8w3FjnsU4Zx53QuJxoLgUsVm1yODNrAxU+McNk58J+JuRe/H8ZOLud6bHLBLC5HL14Fzt+b4HLuzNkJuTfz4w/RuF7QylAIWhkKwf/xhxB8jVO5fPI7FcC1ztvL5ZWVO4GbZB4cz70BLuauwPjBp5dzOb7pvU98fsYY6151D4xPtL3oev13rk7h8l/nzgIud/4Cl41AEDgnm3G9vp4ZCkErQyHkmSmzkELPSdsDwC2p2srlen8CODEoTWCEynqtUS4nbbxkwKCDw4YFXLWPpni/9H8dz7dzeW7qSeCiWzrZeODUJ125o9lJMH648BKXX5pZC1wEzJQUSmszdXNAK0MhaGUohDyf0fNUC5dfqP01cDuSt3HZclCPQcHel/tGgRN9gegjGGOsxkfZmFEpMbNxpI7LL5/9AnDL6v/J5Z3tLwH35S2fZ24wglKoKaRD/AFLPpyj0EzBOGnTzWZi+F1ExPNn3dMtMvTMUAhaGQohz0xN2Uxh2cHHaoCbHenicq8VA84UzM8lOwJc2MhyudRMA2cxg8srzj8A3KKyD7i8qmErcPeExfNgCD66vR7GBV+h+7aT7uFrPJpy5YatKP4hIITrlfibxiD42qFnhkLQylAIWhkKIc9n5Lq6ufyL1Q8D9+pPV3O52TcCXIWvgMuWg+Hr6Zx7CuBHPa1cbpOyva8N3cHl5RXvAtcvRKEJG8PHXTNehfFdbUu5XPLnPa73EglkXbmwiZzPIF+X8XIS0nfhBT0zFIJWhkLwXFwqXYdTesm6OVyWF/aNafR0fvyHWHRwpnUdl793HhdimmMXubz23HzgVtzyBpfDgllgjLFhYfYXmvjk3CFFqHtX0SLRLGspcEXr6TNmLB+7VpjC7zhd5W7eHMv9qT7/nBrKQCtDIWhlKIR8nyHYZjMUAspOkTGWi7+cI8e53LgET9m0iuz0jm+tBm7pmYVcXlP3d+CSDtnwnhymPMRMcFRaIQwy2U7TeTp/+SIwLRW0SpgexqIDr3PawtpmIO4eujPn2msE9cxQCFoZCsEYU62tSdPd8GEYCCGc7R7Ole8ugvHvJr/J5VPZMHAZwbzcEcR4NWLQItGQjXWwfxSe3GXMiZ2A8YhN1zyQrAPu8eJ9XJbNZL2fzPSCY98ELvSlbtfre0HPDIWglaEQtDIUwphqbUVf4Hj4BdG3yP934bmpQBW/TKuCphSilhu0mvdWshq4bQO3czlj4/UmR4ZgvLJyN5e7pPqAvwxQfe2amn/hbQs+Sy6kiJkU9t8avwTcBTY+6JmhELQyFMLYQttPAfceopD1s2Gc4Jt67+by/NJjwJX7aXFrYeyy5zX+lKjicl2wH7gvhinjmnbQhg3a9GSddDBr3BigxbSfDUwDbucMDNEBYvZZejrXM0MhaGUoBK0MhTC20NYLHrbQC68/fz+Xn5Uyqs3BbVyukqLlqEnpiUMZDInb++6HcdxPfmlaCP3So2fncnlqAfqTFWW0/e1Ixv0zDWRj0l886ms9vhs9MxSCVoZCmDgz5WWaxCdy6cldLAjY/hwuZk32Uzb2gvTAfzpFxUr7krcC90zlP2BcYJIJ3XkVn+TFp3c5tPYLT+BhA2uERTxUjNvWHn2ljct13zjk+n8y9MxQCFoZCkErQyFMnM/wgleGV8CTby2Gcdci2h62ehCzvQEhw/t06QHgfAb6nl0pSk/IqZO13VRwV+Rz37thMvSJYseElBMH7ue3016SH29YCFz8PcpSV7TvBk7PDIWglaEQtDIUwvXxGQK8OqE1PXMYuDcfIFs/kMVi6sdLdnFZTm8nLLTvliPux3P3XwED0xg54digtNJX7acUSGca9/v5hGPL3sZ0etEG9BMi9MxQCFoZCuG6mymvBo3ytuBlf6O0wr7Fa4DbeLmJy3XBAeCi0vbmLPPBSERTUS+XT2cqgZsVoi3LUwOYmW3e/QiXj87eCNz0PbT9rnaD+7Y1GXpmKAStDIWglaEQrrvPyINHev2W7ZRCjz0mhYhC6qJc2gYt48M0NXccCmGVyX2TPuLyqRT6jJhJ19w2iuFr3Qqh2HoHXq924fgaIuuZoRC0MhTCDTdThrAKJzcTMHdRQcDmK9iGoMRHWdOsg9UKNX7cr/FInEzTsI0XmR2mPubnMiWu99ne0AjjvqfIpM07+lXg/Oy/rufxgp4ZCkErQyFoZSiEG+4zvNIjIn7ywQIY77mXmgyvHbwbuJSN+++qg8NcvmJhiDwjQvb98Mhn8KKlJ7nY+4PZQCVaKK1SMd/DR0htNnQR200CrQyFcMPNFMBjStdswn602TnEyWZpRrQHxi2h81w+nEZT1BLs4/I7IfcOCeVfw3NWzutxOZKNu+5YzwyFoJWhELQyFIJSPsPwo+0X3zURfv194Dp/S/v0xOIExvJX5Q6myYaL/oMxxvanqZHyYAYzs+svl3H5kpS1Lc+//U8MPTMUglaGQlDKTDk598aLMjb33cXloirsbPD7/jthfC5JnXy+XoF1ubbwe1w/pQO4lf3NXN4/8xXg6l/4Lpen/QE7MlhHP2LjgZ4ZCkErQyFoZSgEpXzGWFIH7++hIrYnHsQ+6c1R3Jv3m2p6w6XNcKXvQ6HXY5+FjR+fLTvC5WMZ7ARnZClc7nqoFLiK/ZRFjmzFkFysNZYz1npmKAStDIWglpmSsrZiX12xpy5jjJVTL0d2H/ZrZIzhU/apLNXeFppopsIGfQV702huWoXX/tQHMDvQNm8HlzuewP7ugYu0mCUvnTm2Xly6KaCVoRC0MhSCWj5DCm0dy/0VOUVbqMDt3K9whS7I8NV0aaHIrVAKbUdsWkHszmAudihEDYnl4rdlJdSG4t+X8Y2ZuTNUGGdGMdvr9Wo6PTMUglaGQlDLTEnwekWOGOpuGZkOXEPofzAuMsk0HMlgN4PmIPWkbSg8Dlyx8Ia1gIGhddQk83ZieQFwDYuFgW8srw7SUAZaGQpBK0MhKO0zrvXtj50J7MS2oBa3cRUY9JsrzrPhVLzQ2PFtPE8Tha9ivS5jjK09QE0pm76PK3viXTtXca+IF/TMUAhaGQrhhvdCnwgYMz8H47OtGL6GhHoBXwo/buW71CHBOtnFJgS61vbmh1aGQtDKUAj/BwghsuRxEFWxAAAAAElFTkSuQmCC\" y=\"-112.824163\"/>\n   </g>\n   <g id=\"patch_58\">\n    <path d=\"M 181.258491 184.104163 \nL 181.258491 113.038125 \n\" style=\"fill:none;stroke:#000000;stroke-linecap:square;stroke-linejoin:miter;stroke-width:0.8;\"/>\n   </g>\n   <g id=\"patch_59\">\n    <path d=\"M 252.324528 184.104163 \nL 252.324528 113.038125 \n\" style=\"fill:none;stroke:#000000;stroke-linecap:square;stroke-linejoin:miter;stroke-width:0.8;\"/>\n   </g>\n   <g id=\"patch_60\">\n    <path d=\"M 181.258491 184.104163 \nL 252.324528 184.104163 \n\" style=\"fill:none;stroke:#000000;stroke-linecap:square;stroke-linejoin:miter;stroke-width:0.8;\"/>\n   </g>\n   <g id=\"patch_61\">\n    <path d=\"M 181.258491 113.038125 \nL 252.324528 113.038125 \n\" style=\"fill:none;stroke:#000000;stroke-linecap:square;stroke-linejoin:miter;stroke-width:0.8;\"/>\n   </g>\n   <g id=\"text_12\">\n    <!-- ankle boot -->\n    <g transform=\"translate(185.068384 107.038125)scale(0.12 -0.12)\">\n     <use xlink:href=\"#DejaVuSans-97\"/>\n     <use x=\"61.279297\" xlink:href=\"#DejaVuSans-110\"/>\n     <use x=\"124.658203\" xlink:href=\"#DejaVuSans-107\"/>\n     <use x=\"182.568359\" xlink:href=\"#DejaVuSans-108\"/>\n     <use x=\"210.351562\" xlink:href=\"#DejaVuSans-101\"/>\n     <use x=\"271.875\" xlink:href=\"#DejaVuSans-32\"/>\n     <use x=\"303.662109\" xlink:href=\"#DejaVuSans-98\"/>\n     <use x=\"367.138672\" xlink:href=\"#DejaVuSans-111\"/>\n     <use x=\"428.320312\" xlink:href=\"#DejaVuSans-111\"/>\n     <use x=\"489.501953\" xlink:href=\"#DejaVuSans-116\"/>\n    </g>\n   </g>\n  </g>\n  <g id=\"axes_13\">\n   <g id=\"patch_62\">\n    <path d=\"M 266.537736 184.104163 \nL 337.603774 184.104163 \nL 337.603774 113.038125 \nL 266.537736 113.038125 \nz\n\" style=\"fill:#ffffff;\"/>\n   </g>\n   <g clip-path=\"url(#p44994651d3)\">\n    <image height=\"71.28\" id=\"image0fcb66e4b1\" transform=\"scale(1 -1)translate(0 -71.28)\" width=\"71.28\" x=\"266.537736\" xlink:href=\"data:image/png;base64,\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\" y=\"-112.824163\"/>\n   </g>\n   <g id=\"patch_63\">\n    <path d=\"M 266.537736 184.104163 \nL 266.537736 113.038125 \n\" style=\"fill:none;stroke:#000000;stroke-linecap:square;stroke-linejoin:miter;stroke-width:0.8;\"/>\n   </g>\n   <g id=\"patch_64\">\n    <path d=\"M 337.603774 184.104163 \nL 337.603774 113.038125 \n\" style=\"fill:none;stroke:#000000;stroke-linecap:square;stroke-linejoin:miter;stroke-width:0.8;\"/>\n   </g>\n   <g id=\"patch_65\">\n    <path d=\"M 266.537736 184.104163 \nL 337.603774 184.104163 \n\" style=\"fill:none;stroke:#000000;stroke-linecap:square;stroke-linejoin:miter;stroke-width:0.8;\"/>\n   </g>\n   <g id=\"patch_66\">\n    <path d=\"M 266.537736 113.038125 \nL 337.603774 113.038125 \n\" style=\"fill:none;stroke:#000000;stroke-linecap:square;stroke-linejoin:miter;stroke-width:0.8;\"/>\n   </g>\n   <g id=\"text_13\">\n    <!-- sandal -->\n    <g transform=\"translate(282.312942 107.038125)scale(0.12 -0.12)\">\n     <use xlink:href=\"#DejaVuSans-115\"/>\n     <use x=\"52.099609\" xlink:href=\"#DejaVuSans-97\"/>\n     <use x=\"113.378906\" xlink:href=\"#DejaVuSans-110\"/>\n     <use x=\"176.757812\" xlink:href=\"#DejaVuSans-100\"/>\n     <use x=\"240.234375\" xlink:href=\"#DejaVuSans-97\"/>\n     <use x=\"301.513672\" xlink:href=\"#DejaVuSans-108\"/>\n    </g>\n   </g>\n  </g>\n  <g id=\"axes_14\">\n   <g id=\"patch_67\">\n    <path d=\"M 351.816981 184.104163 \nL 422.883019 184.104163 \nL 422.883019 113.038125 \nL 351.816981 113.038125 \nz\n\" style=\"fill:#ffffff;\"/>\n   </g>\n   <g clip-path=\"url(#p8aa02ec2a4)\">\n    <image height=\"71.28\" id=\"image067da88918\" transform=\"scale(1 -1)translate(0 -71.28)\" width=\"71.28\" x=\"351.816981\" xlink:href=\"data:image/png;base64,\niVBORw0KGgoAAAANSUhEUgAAAGMAAABjCAYAAACPO76VAAAABHNCSVQICAgIfAhkiAAABdtJREFUeJztm0tsG1UUhufO+BHbsZ04pHm1pEmalBaBBAIRIoqEhCqQqkIl6GOFBGwKW9aIBRKwQQgkYMGGBY9KiBUSrEAs2qI0VEVUrZI4aeo2TZQ0bW3Zjh/zYHfP/ac4IlZFz+J8qzP+Z+be+Pe998yZG/W8eiWwBBbY97sDAiFmMELMYISYwQgxgxFiBiPEDEaIGYwQMxghZjBCzGCEmMEIMYMRYgYjxAxGiBmMEDMYIWYwQsxghJjBCDGDEWIGI8QMRogZjBAzGCFmMELMYESk3QtVBC+1O1OkZTOg+dmUcSL63+zuIKnm4XVxh+4Z4JbgWi6m4yD0k+osVLFv1QadG3VAczvpPvWeGGh+ROnYaWD7jTQ1qrDbVrxIH0TKTdBiC6vU9soqaDIyGCFmMELMYETE6dsBH6weGdNxdRBP9o0ptWNdgaZ8it0OkKxmmubbZi48wdJxLInzsm3TfPvc7nnQTi+P6DibqIHmRVw8Nu9pYRuOouN3dv0G2mx9QMf5Kn5PvrFQpSJ1qxU/5/fD8b5+ai94cxQ0GRmMEDMYoQ4c+gjG7dWXKY6tYfoaK9LUVMvhcHd7aGqwEzhNJFM0jLuTm6B5gZE+KrxncZPmu+SpLGhm2mm7eF0z1XoKtbFrkLIqD+9jXlfP4u+2kaY2/Cje0zy2MbO1ag9QGxNfXAdNRgYjxAxGiBmMUO3+6/H8p0/hB13Nfz/Rsqy+3qKOK3UsOZSvUekk3o9ljKldV3R8fbLc8v4qive0Rx+EYzdH5ZjycAK0hrG+VAdwrUmu0FeTXWqAFrtJfbVL2G+rQd9FUMO0W6U7qV9LBey3JbBBzGBE21Xb3hn0MblG1VAz7bQsy1JejuIsVk0TMTq34xZOIb8eoqfXCWu6ZV+CJk4h3mwe2zfi9NmWt7Fixyfh+MzHX+r48PwLoB3rP6fjCxWcFn0jXb94B8sYt4x0vedIaHpt3TXh/0bMYISYwYiIZeMcbgVGDSBonfWWh3BdWJui48xlXIrMEsD4gSXU3qPK6PKzoXJvhNYCO5kEya9SOhl+6xh4ocqw+Xco1VJLf/8HSBMvvabj0b6boJ1afVLHO5N3QBtJrOu41InrYKkR17G9Zxg0GRmMEDMYIWYwImL5Xmt1i/l15wdnQGoefELHtZwPWv9hKhXnfx8BbWx2UcdDCnPyo5//ouMfHjuIXTt9wTgI/aaCUJ0ctP9e/dn9GcX5t0Nv+prU5qXoAGjDxtvTVBSfgepNWt82h3EXjYwMRogZjGi7antXSmxOdyFNPb5Px8HMRdD2ztBrsdm3HgLNTVO5wKni1KPO/rWt7ur7bLEB4/ajOGX3Dt/WcamCaXf2J6q+Zq5iZbYyQOlr+XgRtEwHvfWMftIDmowMRogZjBAzGNH+mhFOe430UtmoBW7rVLN0gsrWAycXQFv+ao+OGxm8Z3Gc0ufwDgyvO9Se8Rc6ydAGtzKtWdENLKs4dWqzPoLrQvwKrSEj3+AGZuVR3+be7wLNLKs4J+OgychghJjBiLbf9N31JBtQWhj4oXPNVDf0xJ/5jiqllYVHQNs4Rm3Yg/jSPygbb8mKmEpH13FXmVOj6Ua5+HbNS1Ab0RJOhfVuY1+sj5pr7AvOv9EH2ti3lBIHy1i1vZGgp+7BuUugychghJjBCDGDEe2vGdthi8qwuQEtmP4btDFjQ0j5Vdw01zV9Q8duATcQb7yOuzw2Jin3VTX8/Y3vX9bxXAHn/ux5Sj37fsTqqzX9pw6dh/eCdO1Fo8wxhGtdpYCVWhMZGYwQMxjR/hP4PeuBkTJu48VP4d0pHe84j0/ViZUKHK88Q//bkVzHvLv73JqOvflF616z+OHT2N5lI/4ad9TJyGCEmMEIMYMR93/NEDQyMhghZjBCzGCEmMEIMYMRYgYjxAxGiBmMEDMYIWYwQsxghJjBCDGDEWIGI8QMRogZjBAzGCFmMELMYISYwQgxgxFiBiPEDEaIGYwQMxghZjBCzGDEP5FTe3UflGpkAAAAAElFTkSuQmCC\" y=\"-112.824163\"/>\n   </g>\n   <g id=\"patch_68\">\n    <path d=\"M 351.816981 184.104163 \nL 351.816981 113.038125 \n\" style=\"fill:none;stroke:#000000;stroke-linecap:square;stroke-linejoin:miter;stroke-width:0.8;\"/>\n   </g>\n   <g id=\"patch_69\">\n    <path d=\"M 422.883019 184.104163 \nL 422.883019 113.038125 \n\" style=\"fill:none;stroke:#000000;stroke-linecap:square;stroke-linejoin:miter;stroke-width:0.8;\"/>\n   </g>\n   <g id=\"patch_70\">\n    <path d=\"M 351.816981 184.104163 \nL 422.883019 184.104163 \n\" style=\"fill:none;stroke:#000000;stroke-linecap:square;stroke-linejoin:miter;stroke-width:0.8;\"/>\n   </g>\n   <g id=\"patch_71\">\n    <path d=\"M 351.816981 113.038125 \nL 422.883019 113.038125 \n\" style=\"fill:none;stroke:#000000;stroke-linecap:square;stroke-linejoin:miter;stroke-width:0.8;\"/>\n   </g>\n   <g id=\"text_14\">\n    <!-- sandal -->\n    <g transform=\"translate(367.592188 107.038125)scale(0.12 -0.12)\">\n     <use xlink:href=\"#DejaVuSans-115\"/>\n     <use x=\"52.099609\" xlink:href=\"#DejaVuSans-97\"/>\n     <use x=\"113.378906\" xlink:href=\"#DejaVuSans-110\"/>\n     <use x=\"176.757812\" xlink:href=\"#DejaVuSans-100\"/>\n     <use x=\"240.234375\" xlink:href=\"#DejaVuSans-97\"/>\n     <use x=\"301.513672\" xlink:href=\"#DejaVuSans-108\"/>\n    </g>\n   </g>\n  </g>\n  <g id=\"axes_15\">\n   <g id=\"patch_72\">\n    <path d=\"M 437.096226 184.104163 \nL 508.162264 184.104163 \nL 508.162264 113.038125 \nL 437.096226 113.038125 \nz\n\" style=\"fill:#ffffff;\"/>\n   </g>\n   <g clip-path=\"url(#pe8993afb70)\">\n    <image height=\"71.28\" id=\"imageb866ae3bc4\" transform=\"scale(1 -1)translate(0 -71.28)\" width=\"71.28\" x=\"437.096226\" xlink:href=\"data:image/png;base64,\niVBORw0KGgoAAAANSUhEUgAAAGMAAABjCAYAAACPO76VAAAABHNCSVQICAgIfAhkiAAABLNJREFUeJztnE1vVFUYx++9M7fTeaHQl6m0RcCYlooGExHFlxWyYMXCSPwAbsSNiVsTXRGC8QOYuHThBzBdycYYBV8WaoykNiGmZEiM0Gmn43Sm9+W4IDnPeU65E0Sof83/t3ruPPeec4dfz3POPbclPB2+ZgICQfRv3wARKAMIygCCMoCgDCAoAwjKAIIygKAMICgDCMoAgjKAoAwgKAMIygCCMoCgDCAoAwjKAIIygKAMICgDCMoAgjKAoAwgKAMIygCCMoCgDCAoAwjKAKLsf1CampSDiX3e2SWJ00ylwiS1sXHPC4Ig9M5VGPnzEFOt6Ot6/cL+gmjIz1EU6uMwvPt5Xs6UvDadPkx1RKVMLN8xTPPC5k1J951X5J88bq3p7orvkuw2lAFEWZWlIAiyW7flwI0fEGFFl6Igk/IT1Wo6NRjIdV6pCRv14k7SVB2avrSTO23eSf7zv6L7Oy2438JMTqgcRwYQlAEEZQBR9mv4H+dfsHH7GV175x69tzlkvVdVx41RqdOnZn5VuW4m/Y/Huv2ZeN3G++MNlRsNk7vGQRAER+KObqfcsPHA6HN7uRzXoljlrieSu5HuVbnfkqaNE6OX8i4bqZ4HX24s2/idC+dVjiMDCMoAotx69bD64IO3P7bxm0tvqNzaV/ttHG96DW3JAq/irfXCrnyw1JwuvG4w4T0pO+2Mr+gn8KTqPjnr64zXTNKQDzJvZZ06FTX3b9whG/Wum3LKXeJ1mMtxZXJLpX6em7Xx9BVdljkygKAMICgDiHDH/6oTOcu0555Uqc5jskzrT2iP22MSpzXdZNx167u+gWRMzq3d1LV384TUW9PWu6b1VWlo/uyKyh2oravjLz45ERThrjxL3k7JtrOaLfe86+py3/58Em/I9xjx5tbOcdmJXrzUVTmODCAoAwjKAGLHm74gd9bzV39SqbGrThzp4l9y3gqa2abKdR+X4rvlzTXJHok3FvX2y/jXUozbx/RzRr8pNfvpvS2VW/lTP8v0ZoufHyLncaE3r7dKglCuS0f027xs4L719J5z5pzvUdFtHp2SZ4v8pp6IODKAoAwgwtPROT2GQ8eP8V60P4C3Yj6lJ+Zt3Lqoq2Ypkv7bLb1rGq9Lmai0dZmIN/V9mjNtG3c6ekc570ufI7/r/itr0m7kVbDOgpTN+gG9fu3ekreQn77ykcp92Vuw8eWn9qgcRwYQlAEEZQBR3jEPmCG/cDaMYb8oNmSuya7JVsbM63p/Ozt51Mads/rnJj8o2wr5wrbKVet62/r2N7L1b/bpefDgZTke/exK4X36POLE6anjKnfmw+9tfKis7+Wt68/auBksqxxHBhCUAcTOXduH3qP/Nu/+uo+OLdp49X29G9Bf1UvGl07+YuNvP9c70Yfeu/fSdD/cePdFdTz9g6yRK0vfqRxHBhCUAQRlALH7c8Zu4M1L3XPP23hsWf8yXP7jtcLrHsb2zzA4MoCgDCD+n2XqPwpHBhCUAQRlAEEZQFAGEJQBBGUAQRlAUAYQlAEEZQBBGUBQBhCUAQRlAEEZQFAGEJQBBGUAQRlAUAYQlAEEZQBBGUBQBhCUAQRlAEEZQFAGEJQBBGUA8ReLNxrHX04ZpAAAAABJRU5ErkJggg==\" y=\"-112.824163\"/>\n   </g>\n   <g id=\"patch_73\">\n    <path d=\"M 437.096226 184.104163 \nL 437.096226 113.038125 \n\" style=\"fill:none;stroke:#000000;stroke-linecap:square;stroke-linejoin:miter;stroke-width:0.8;\"/>\n   </g>\n   <g id=\"patch_74\">\n    <path d=\"M 508.162264 184.104163 \nL 508.162264 113.038125 \n\" style=\"fill:none;stroke:#000000;stroke-linecap:square;stroke-linejoin:miter;stroke-width:0.8;\"/>\n   </g>\n   <g id=\"patch_75\">\n    <path d=\"M 437.096226 184.104163 \nL 508.162264 184.104163 \n\" style=\"fill:none;stroke:#000000;stroke-linecap:square;stroke-linejoin:miter;stroke-width:0.8;\"/>\n   </g>\n   <g id=\"patch_76\">\n    <path d=\"M 437.096226 113.038125 \nL 508.162264 113.038125 \n\" style=\"fill:none;stroke:#000000;stroke-linecap:square;stroke-linejoin:miter;stroke-width:0.8;\"/>\n   </g>\n   <g id=\"text_15\">\n    <!-- sneaker -->\n    <g transform=\"translate(448.70237 107.038125)scale(0.12 -0.12)\">\n     <use xlink:href=\"#DejaVuSans-115\"/>\n     <use x=\"52.099609\" xlink:href=\"#DejaVuSans-110\"/>\n     <use x=\"115.478516\" xlink:href=\"#DejaVuSans-101\"/>\n     <use x=\"177.001953\" xlink:href=\"#DejaVuSans-97\"/>\n     <use x=\"238.28125\" xlink:href=\"#DejaVuSans-107\"/>\n     <use x=\"296.144531\" xlink:href=\"#DejaVuSans-101\"/>\n     <use x=\"357.667969\" xlink:href=\"#DejaVuSans-114\"/>\n    </g>\n   </g>\n  </g>\n  <g id=\"axes_16\">\n   <g id=\"patch_77\">\n    <path d=\"M 522.375472 184.104163 \nL 593.441509 184.104163 \nL 593.441509 113.038125 \nL 522.375472 113.038125 \nz\n\" style=\"fill:#ffffff;\"/>\n   </g>\n   <g clip-path=\"url(#p82881e717d)\">\n    <image height=\"71.28\" id=\"imagef20fe3f611\" transform=\"scale(1 -1)translate(0 -71.28)\" width=\"71.28\" x=\"522.375472\" xlink:href=\"data:image/png;base64,\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\" y=\"-112.824163\"/>\n   </g>\n   <g id=\"patch_78\">\n    <path d=\"M 522.375472 184.104163 \nL 522.375472 113.038125 \n\" style=\"fill:none;stroke:#000000;stroke-linecap:square;stroke-linejoin:miter;stroke-width:0.8;\"/>\n   </g>\n   <g id=\"patch_79\">\n    <path d=\"M 593.441509 184.104163 \nL 593.441509 113.038125 \n\" style=\"fill:none;stroke:#000000;stroke-linecap:square;stroke-linejoin:miter;stroke-width:0.8;\"/>\n   </g>\n   <g id=\"patch_80\">\n    <path d=\"M 522.375472 184.104163 \nL 593.441509 184.104163 \n\" style=\"fill:none;stroke:#000000;stroke-linecap:square;stroke-linejoin:miter;stroke-width:0.8;\"/>\n   </g>\n   <g id=\"patch_81\">\n    <path d=\"M 522.375472 113.038125 \nL 593.441509 113.038125 \n\" style=\"fill:none;stroke:#000000;stroke-linecap:square;stroke-linejoin:miter;stroke-width:0.8;\"/>\n   </g>\n   <g id=\"text_16\">\n    <!-- ankle boot -->\n    <g transform=\"translate(526.185366 107.038125)scale(0.12 -0.12)\">\n     <use xlink:href=\"#DejaVuSans-97\"/>\n     <use x=\"61.279297\" xlink:href=\"#DejaVuSans-110\"/>\n     <use x=\"124.658203\" xlink:href=\"#DejaVuSans-107\"/>\n     <use x=\"182.568359\" xlink:href=\"#DejaVuSans-108\"/>\n     <use x=\"210.351562\" xlink:href=\"#DejaVuSans-101\"/>\n     <use x=\"271.875\" xlink:href=\"#DejaVuSans-32\"/>\n     <use x=\"303.662109\" xlink:href=\"#DejaVuSans-98\"/>\n     <use x=\"367.138672\" xlink:href=\"#DejaVuSans-111\"/>\n     <use x=\"428.320312\" xlink:href=\"#DejaVuSans-111\"/>\n     <use x=\"489.501953\" xlink:href=\"#DejaVuSans-116\"/>\n    </g>\n   </g>\n  </g>\n  <g id=\"axes_17\">\n   <g id=\"patch_82\">\n    <path d=\"M 607.654717 184.104163 \nL 678.720755 184.104163 \nL 678.720755 113.038125 \nL 607.654717 113.038125 \nz\n\" style=\"fill:#ffffff;\"/>\n   </g>\n   <g clip-path=\"url(#p7942943e6f)\">\n    <image height=\"71.28\" id=\"imagee6b5606084\" transform=\"scale(1 -1)translate(0 -71.28)\" width=\"71.28\" x=\"607.654717\" xlink:href=\"data:image/png;base64,\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\" y=\"-112.824163\"/>\n   </g>\n   <g id=\"patch_83\">\n    <path d=\"M 607.654717 184.104163 \nL 607.654717 113.038125 \n\" style=\"fill:none;stroke:#000000;stroke-linecap:square;stroke-linejoin:miter;stroke-width:0.8;\"/>\n   </g>\n   <g id=\"patch_84\">\n    <path d=\"M 678.720755 184.104163 \nL 678.720755 113.038125 \n\" style=\"fill:none;stroke:#000000;stroke-linecap:square;stroke-linejoin:miter;stroke-width:0.8;\"/>\n   </g>\n   <g id=\"patch_85\">\n    <path d=\"M 607.654717 184.104163 \nL 678.720755 184.104163 \n\" style=\"fill:none;stroke:#000000;stroke-linecap:square;stroke-linejoin:miter;stroke-width:0.8;\"/>\n   </g>\n   <g id=\"patch_86\">\n    <path d=\"M 607.654717 113.038125 \nL 678.720755 113.038125 \n\" style=\"fill:none;stroke:#000000;stroke-linecap:square;stroke-linejoin:miter;stroke-width:0.8;\"/>\n   </g>\n   <g id=\"text_17\">\n    <!-- trouser -->\n    <g transform=\"translate(621.613048 107.038125)scale(0.12 -0.12)\">\n     <use xlink:href=\"#DejaVuSans-116\"/>\n     <use x=\"39.208984\" xlink:href=\"#DejaVuSans-114\"/>\n     <use x=\"80.291016\" xlink:href=\"#DejaVuSans-111\"/>\n     <use x=\"141.472656\" xlink:href=\"#DejaVuSans-117\"/>\n     <use x=\"204.851562\" xlink:href=\"#DejaVuSans-115\"/>\n     <use x=\"256.951172\" xlink:href=\"#DejaVuSans-101\"/>\n     <use x=\"318.474609\" xlink:href=\"#DejaVuSans-114\"/>\n    </g>\n   </g>\n  </g>\n  <g id=\"axes_18\">\n   <g id=\"patch_87\">\n    <path d=\"M 692.933962 184.104163 \nL 764 184.104163 \nL 764 113.038125 \nL 692.933962 113.038125 \nz\n\" style=\"fill:#ffffff;\"/>\n   </g>\n   <g clip-path=\"url(#p3dc1ad9956)\">\n    <image height=\"71.28\" id=\"imagedfcd5bea91\" transform=\"scale(1 -1)translate(0 -71.28)\" width=\"71.28\" x=\"692.933962\" xlink:href=\"data:image/png;base64,\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\" y=\"-112.824163\"/>\n   </g>\n   <g id=\"patch_88\">\n    <path d=\"M 692.933962 184.104163 \nL 692.933962 113.038125 \n\" style=\"fill:none;stroke:#000000;stroke-linecap:square;stroke-linejoin:miter;stroke-width:0.8;\"/>\n   </g>\n   <g id=\"patch_89\">\n    <path d=\"M 764 184.104163 \nL 764 113.038125 \n\" style=\"fill:none;stroke:#000000;stroke-linecap:square;stroke-linejoin:miter;stroke-width:0.8;\"/>\n   </g>\n   <g id=\"patch_90\">\n    <path d=\"M 692.933962 184.104163 \nL 764 184.104163 \n\" style=\"fill:none;stroke:#000000;stroke-linecap:square;stroke-linejoin:miter;stroke-width:0.8;\"/>\n   </g>\n   <g id=\"patch_91\">\n    <path d=\"M 692.933962 113.038125 \nL 764 113.038125 \n\" style=\"fill:none;stroke:#000000;stroke-linecap:square;stroke-linejoin:miter;stroke-width:0.8;\"/>\n   </g>\n   <g id=\"text_18\">\n    <!-- t-shirt -->\n    <g transform=\"translate(710.536356 107.038125)scale(0.12 -0.12)\">\n     <use xlink:href=\"#DejaVuSans-116\"/>\n     <use x=\"39.208984\" xlink:href=\"#DejaVuSans-45\"/>\n     <use x=\"75.292969\" xlink:href=\"#DejaVuSans-115\"/>\n     <use x=\"127.392578\" xlink:href=\"#DejaVuSans-104\"/>\n     <use x=\"190.771484\" xlink:href=\"#DejaVuSans-105\"/>\n     <use x=\"218.554688\" xlink:href=\"#DejaVuSans-114\"/>\n     <use x=\"259.667969\" xlink:href=\"#DejaVuSans-116\"/>\n    </g>\n   </g>\n  </g>\n </g>\n <defs>\n  <clipPath id=\"pa02556d014\">\n   <rect height=\"71.066038\" width=\"71.066038\" x=\"10.7\" y=\"22.318125\"/>\n  </clipPath>\n  <clipPath id=\"pcec760a5ee\">\n   <rect height=\"71.066038\" width=\"71.066038\" x=\"95.979245\" y=\"22.318125\"/>\n  </clipPath>\n  <clipPath id=\"p436e302fab\">\n   <rect height=\"71.066038\" width=\"71.066038\" x=\"181.258491\" y=\"22.318125\"/>\n  </clipPath>\n  <clipPath id=\"p1f358e4df9\">\n   <rect height=\"71.066038\" width=\"71.066038\" x=\"266.537736\" y=\"22.318125\"/>\n  </clipPath>\n  <clipPath id=\"p46f2c6462a\">\n   <rect height=\"71.066038\" width=\"71.066038\" x=\"351.816981\" y=\"22.318125\"/>\n  </clipPath>\n  <clipPath id=\"pec698d1a07\">\n   <rect height=\"71.066038\" width=\"71.066038\" x=\"437.096226\" y=\"22.318125\"/>\n  </clipPath>\n  <clipPath id=\"pa47b8f23d9\">\n   <rect height=\"71.066038\" width=\"71.066038\" x=\"522.375472\" y=\"22.318125\"/>\n  </clipPath>\n  <clipPath id=\"p1fb5032b5f\">\n   <rect height=\"71.066038\" width=\"71.066038\" x=\"607.654717\" y=\"22.318125\"/>\n  </clipPath>\n  <clipPath id=\"pa4d8c9bcd5\">\n   <rect height=\"71.066038\" width=\"71.066038\" x=\"692.933962\" y=\"22.318125\"/>\n  </clipPath>\n  <clipPath id=\"pef6f9ff54b\">\n   <rect height=\"71.066038\" width=\"71.066038\" x=\"10.7\" y=\"113.038125\"/>\n  </clipPath>\n  <clipPath id=\"p05aaaefb5d\">\n   <rect height=\"71.066038\" width=\"71.066038\" x=\"95.979245\" y=\"113.038125\"/>\n  </clipPath>\n  <clipPath id=\"p1a6b198f56\">\n   <rect height=\"71.066038\" width=\"71.066038\" x=\"181.258491\" y=\"113.038125\"/>\n  </clipPath>\n  <clipPath id=\"p44994651d3\">\n   <rect height=\"71.066038\" width=\"71.066038\" x=\"266.537736\" y=\"113.038125\"/>\n  </clipPath>\n  <clipPath id=\"p8aa02ec2a4\">\n   <rect height=\"71.066038\" width=\"71.066038\" x=\"351.816981\" y=\"113.038125\"/>\n  </clipPath>\n  <clipPath id=\"pe8993afb70\">\n   <rect height=\"71.066038\" width=\"71.066038\" x=\"437.096226\" y=\"113.038125\"/>\n  </clipPath>\n  <clipPath id=\"p82881e717d\">\n   <rect height=\"71.066038\" width=\"71.066038\" x=\"522.375472\" y=\"113.038125\"/>\n  </clipPath>\n  <clipPath id=\"p7942943e6f\">\n   <rect height=\"71.066038\" width=\"71.066038\" x=\"607.654717\" y=\"113.038125\"/>\n  </clipPath>\n  <clipPath id=\"p3dc1ad9956\">\n   <rect height=\"71.066038\" width=\"71.066038\" x=\"692.933962\" y=\"113.038125\"/>\n  </clipPath>\n </defs>\n</svg>\n"
          },
          "metadata": {}
        }
      ]
    },
    {
      "cell_type": "code",
      "source": [
        "# Reading a Minibatch\n",
        "batch_size = 256\n",
        "\n",
        "def get_dataloader_workers():\n",
        "  \"\"\"Use 4 processes to read the data.\"\"\"\n",
        "  return 4\n",
        "\n",
        "train_iter = data.DataLoader(mnist_train, batch_size, shuffle=True,\n",
        "                             num_workers = get_dataloader_workers())"
      ],
      "metadata": {
        "id": "6iuH76QZACsP",
        "colab": {
          "base_uri": "https://localhost:8080/"
        },
        "outputId": "dc890228-7c87-4901-e729-54c937ff31c8"
      },
      "execution_count": 12,
      "outputs": [
        {
          "output_type": "stream",
          "name": "stderr",
          "text": [
            "/usr/local/lib/python3.10/dist-packages/torch/utils/data/dataloader.py:557: UserWarning: This DataLoader will create 4 worker processes in total. Our suggested max number of worker in current system is 2, which is smaller than what this DataLoader is going to create. Please be aware that excessive worker creation might get DataLoader running slow or even freeze, lower the worker number to avoid potential slowness/freeze if necessary.\n",
            "  warnings.warn(_create_warning_msg(\n"
          ]
        }
      ]
    },
    {
      "cell_type": "code",
      "source": [
        "# training data 읽는 시간 체크\n",
        "\n",
        "timer = d2l.Timer()\n",
        "for X, y in train_iter:\n",
        "  continue\n",
        "f'{timer.stop():.2f}.sec'"
      ],
      "metadata": {
        "colab": {
          "base_uri": "https://localhost:8080/",
          "height": 35
        },
        "id": "IV1Jtny0BiPt",
        "outputId": "68669424-588c-4211-f66b-4451ce9eaa39"
      },
      "execution_count": 13,
      "outputs": [
        {
          "output_type": "execute_result",
          "data": {
            "text/plain": [
              "'6.68.sec'"
            ],
            "application/vnd.google.colaboratory.intrinsic+json": {
              "type": "string"
            }
          },
          "metadata": {},
          "execution_count": 13
        }
      ]
    },
    {
      "cell_type": "code",
      "source": [
        "# Putting All Things Together\n",
        "\n",
        "def load_data_fashion_mnist(batch_size, resize=None):\n",
        "  \"\"\"Fashion-MNIST dataset 을 다운로드하고 memory로 로드\"\"\"\n",
        "  trans = [transforms.ToTensor()]\n",
        "  if resize:\n",
        "    trans.insert(0, transforms.Resize(resize))\n",
        "  trans = transforms.Compose(trans)\n",
        "  mnist_train = torchvision.datasets.FashionMNIST(\n",
        "      root = \"../data\", train=True , transform=trans, download=True)## train= 빈칸을 채워주세요. ##\n",
        "  mnist_test = torchvision.datasets.FashionMNIST(\n",
        "      root=\"../data\", train=False , transform=trans, download=True)## train= 빈칸을 채워주세요. ##\n",
        "  return(data.DataLoader(mnist_train, batch_size, shuffle=True,##  shuffle= 빈칸을 채워주세요. ##\n",
        "                         num_workers=get_dataloader_workers()),## 빈칸을 채워주세요. ##\n",
        "         data.DataLoader(mnist_test, batch_size, shuffle=False ,## 빈칸을 채워주세요. ##\n",
        "                         num_workers=get_dataloader_workers()))## 빈칸을 채워주세요. ##"
      ],
      "metadata": {
        "id": "BtPsiyJsCA7_"
      },
      "execution_count": 14,
      "outputs": []
    },
    {
      "cell_type": "code",
      "source": [
        "train_iter, test_iter = load_data_fashion_mnist(32, resize=64)\n",
        "for X, y in train_iter:\n",
        "  print(X.shape, X.dtype, y.shape, y.dtype)\n",
        "  break"
      ],
      "metadata": {
        "colab": {
          "base_uri": "https://localhost:8080/"
        },
        "id": "3rUSM8gTEjZk",
        "outputId": "cd7f31c8-ee44-447f-cbd3-f680c62662c8"
      },
      "execution_count": 15,
      "outputs": [
        {
          "output_type": "stream",
          "name": "stdout",
          "text": [
            "torch.Size([32, 1, 64, 64]) torch.float32 torch.Size([32]) torch.int64\n"
          ]
        }
      ]
    },
    {
      "cell_type": "markdown",
      "source": [
        "## 3.6 Implementation of Softmax Regression from Scratch"
      ],
      "metadata": {
        "id": "ulaJ94h0Y8fW"
      }
    },
    {
      "cell_type": "markdown",
      "source": [
        "**코드 한 줄 한 줄이 어떤 이유로 쓰였는지 씹어보며 공부해보세요! 😀**"
      ],
      "metadata": {
        "id": "uYpKFOrTgwXg"
      }
    },
    {
      "cell_type": "code",
      "source": [
        "import torch\n",
        "from IPython import display\n",
        "from d2l import torch as d2l"
      ],
      "metadata": {
        "id": "89Lubu51ZCCZ"
      },
      "execution_count": 16,
      "outputs": []
    },
    {
      "cell_type": "code",
      "source": [
        "batch_size = 256\n",
        "train_iter, test_iter = d2l.load_data_fashion_mnist(batch_size)"
      ],
      "metadata": {
        "id": "gbIoU3lAZR5N"
      },
      "execution_count": 17,
      "outputs": []
    },
    {
      "cell_type": "code",
      "source": [
        "# image flatten to vectors of length 784.\n",
        "# 각 pixel 위치를 feature로 봄\n",
        "# class 가 10개니까 아웃풋 dimension이 10\n",
        "# Gaussian 노이즈로 W 초기값 설정\n",
        "# 0으로 b 초기값 설정\n",
        "\n",
        "num_inputs = 784\n",
        "num_outputs = 10\n",
        "W = torch.normal(0, 0.01, size = (num_inputs, num_outputs), requires_grad=True)## 빈칸을 채워주세요. ## )\n",
        "b = torch.zeros(num_outputs, requires_grad =True) ## 빈칸을 채워주세요. ## )\n",
        "\n"
      ],
      "metadata": {
        "id": "sFu5stt3ZaKD"
      },
      "execution_count": 18,
      "outputs": []
    },
    {
      "cell_type": "code",
      "source": [
        "X = torch.tensor([[1.0, 2.0, 3.0], [4.0,5.0,6.0]])\n",
        "X.sum(0, keepdim = True), X.sum(1, keepdim=True)"
      ],
      "metadata": {
        "colab": {
          "base_uri": "https://localhost:8080/"
        },
        "id": "ZQ3SVtmha6BU",
        "outputId": "517ab1bb-777d-46c5-edd0-b527f666276a"
      },
      "execution_count": 19,
      "outputs": [
        {
          "output_type": "execute_result",
          "data": {
            "text/plain": [
              "(tensor([[5., 7., 9.]]),\n",
              " tensor([[ 6.],\n",
              "         [15.]]))"
            ]
          },
          "metadata": {},
          "execution_count": 19
        }
      ]
    },
    {
      "cell_type": "markdown",
      "source": [
        "![image.png](data:image/png;base64,iVBORw0KGgoAAAANSUhEUgAAAbIAAACbCAIAAACIxYkBAAAgAElEQVR4AeS9h1dW17Y+fP+FO8a541wbgooFexeJgDUCijFqsKDEWKOJ/Wg0xqiJJWrUqDEixpporLELVmyIiooFUBFRkd7hpRc/P57feca8a+29eUFzzv193x4OnGuuZz5zrrLXXnvttff7H8XiKLE8ACytOkpKSoSdlahTAg2GoqKi4uLikpKS0tJSaCzwMqu4uLio6oCSEUiMEqSSZX+S5AjVHkN7TFgPhnFKBvpFLSkBSB5SKRgk0Xb4q1gRT7/UsHWkRpcNCaVHMxOWTgeYaWQ9MGDZH3RDdjC6QxfSkYrGsFwK5r0kWRApKMwyCwUxC89MrxAyqTAzSQCFmjLT0EJAWxQWFmJAKC4uRs+BCYOhYEHFLAX87NmzixcvhoSEhJwJPhdy9mxwiMW//2Ac7C5mp4FSHfSq6BlWtQIZ6FHGQHPClFzplxhaQaBesVVg1slakOgm1gEY4qXSwhwwFkFJUq8IZjAzvWKuJ80MZf9WrMxMJAwYa6Q9mP9bhkVZdkOZhTXMpdK6xgijQFqLngZwTZnpwh6BYehXPnvMJYZUUMbGxtZgWKSxndVBvIygdrKdVIBhLmAWpBkV9WaG9kROEnvAZhiQWOfqGLrWs6ypzHKpt5+QJu9XYNGsaQmrNmA7AbInSNksjGppzQxrqjd0xOl2Tdn+OrxhnLV2hyYoLS0tqzp49SJhrd3BkE1cs2GR7nn/ZRYH3ZgBJBVlC7BFFs0Z1f8/h0UWn5Uva8ZQtqhVklAwZHgvSj0MRWNnDIQp5jUNUvLUyPY9+rWO4R0dsVDvi4eEivB++clmdgEAgKObEgxPEDM9Df8Vw6IehJmGxVYADFfR60nWi2IimYlRzKlXbBWYRdKQodZs0pGMX+oNZYZhmCuVZrRkkII0fL+y9CJleKHm/Tq1YJMea9R8MLRgts6i32oF8JjBrL3I3HcMWFIZyu+dXykyltTk2osE6CHJXCkDybau2bCoE+mO6YA+zDD26w2p5IICqRAhkxCgLCoqkkmd0/7SKfxMGjLojoi3XzAsF811F9Z4aajb8qIqi2MII897EaQ7SUi9VNovG/YTa3NZe1K2tmK9VQurKYA1QAEMTCqCIf9f14L0rvtFlq6vtYaPT+UDWPuHRfhlwBSoh1CzYbHWj1xqXQsyXPZvNDCTktysGaReqQvD3izxkt9a1plBbqeVdce1yDWL1kzPeBSAYfyG9QMGxZy0ZoJhEaikd2pq50X3LpmlrCPpkVnEU2MhAGwBqF0WY6BgyMNcpQItWtCQp6Z4+tXZmGUo6Hh7NDqVHApkrhmbxEAGkvVWs2FR0pm5pAP6UJClpaWSR8oKks0DKhSexZB1QUNrNhmbDI+cCg+Tdgr0LvHSkdRTphWRejwEGwq8XCm51fIoAEZiJ48h3rBdQMgCSn6pVOJROoC0MpQZj8Kj6Jk0JIFTueGBExMzPPWKX+rfUWDAFEDIJTalzvUwaChr2yIqncECzGbSMdKvLut4aw2CZ6nhl3eBehhmpTCLhJVTs2FRqX2Wwcw9AWaCEh9h74vQjN/CEU30WqaGGNYjmkrqLWR6NxPMbHU8kLoeZ7VFrmJCj4oeRdaV0NBKEWRFmdkqDEjKHi9JFH49qbARoOiR5F8FBj0u23IoxI0b25rmtRYkFYpsTaVgDMPWq0ty0gSCzKLMyudprlgxCV+sIuC5f5DmSkh0RL3UUCabHqquoRUERigFiZF6Xeb04unTpxcuXMC+RYsdi8j6D+lAynAgNfbIeli0YhY1dgo1jQR4dgi2N59lyx6sN6fiDlb6XxZHwctCySwFz6TEQ5ZW9ucqhaKhNRthFPSSKho4ktVLWwjWRVPYmKRVtYK1F7PyktbaXCmL/Umz+reHgbHpJDJLybXIkk7Nxl/dnBqaKx6hJ0zJlXrI5CkpKZENLR+q6EhppXukFyWL/IpAfGxsbA2GRbOwzPR60Ep8jENnYJYZyXvRwwuvEpKTN/tSCbzsPYxTaXhpRRlgJilIEnt4FEMmKZg5AsAsV68HWVKSVyvI+QKvJfJmhwyGkbA2CFMEAqoVYEiYwmOWVPBK0szKfr3exHRhKIBZz1I8KgCZa5ElYfbLJKSJXiiZpeTCnKMSksSb9R86pUATQ4EwRTAEU1lcXCxvoqufLUp2srDfS421LHko6yYWWTq4dhq4kCe/8qjLsDlls8kg2cyKoMQmTZhFpeKRAEUAXlGyLcxygTfLZQw6raGGeEVg8VkW1DCTZJORKCSyIUgIQZZCt5IaHUnXFgIZFHMLkxplgV8h5zWJ3ikozapXo0Il+avNYuR0Z8ZPpIyHSppTQ6HaeBRbNjcjYf8hUuekOwoKmEnyKwINMSyePXs25Ezwv3NYZECKYE/hFRPZZqwIMx7oWTtKM4BZktAXldSg5Qz/EqMQKvpqkxyOde+0ZRbLwiwLAVYESBILHsPCUgk2ObopXgigoPgllSIwTgqGzIY9gSb2CGa09thaYFhMGaH1sGjBJrPIrLSaUhAJI1IqJacu00TGr8jSSvFOJJuVYCChh1LvPzWKU7qmIf0qAsPAO9EYFqt/J1r6IAULKTXWMuOT9Qsea0M7cyW/lHVz5HK4AQBK3vTpDLoG9Sv1UpbNLF3o8VhrGCfJzfAAmOXqegVPfkWvGCowJnmGS7zhogQBtKXAfkUNBVpVK9BECtVaEQArJt+XwGAsykiMco5UGwMNJVIpCDFSL5XSVpdlSLRiWQzx0oRIvsOndGzr/kOPCqf9fiWDlMnAYfFscEj1wyLNFAHUipKFl47NkLC1zjXj1/X2a+BRmS3yGiKjMoxNUdLQTGBgMFTMmWsmKL2n2m6h81h4lCFR1hmkxqyY1KMPyOo1jJnuKMALeRRBxmAtk1AKNIGSSV2oFqCbSI10aigTbL8j8qBuySAFnU3RkETRSxILWTYiqazx0oQjg6GJ8kRbny3qVoxB8aIjoVG6E5Mw59ri2bP/77dz/nXDIuLQgza8SugwamrXqDRn81hXq54r49dzJT9k1juzYMXy2t+cYKBTEtop0NDQI8cvBMaHgHaSG8KkR8g6TGL0XF1jxmOGlPyy4NRLQ1x78JeOeEGSyGpl8psJ1TIoAEMeBcNeLfUsCJQKj0TaI6MOWUXsLWa2indGiP7GYAzNmUtBhzELgg6wU0Meri3WYFikMXsYBemeMKlkjTBXChxupNJQBqdhlgyGAJ7w0DAkAhS9Nb9ixSRpayGQRL95V9iIZEmlpkaydTEVvzqYADg1S7LRCaDGMFoJs0AqMAUpc80uSyUlJWVlZeXl5WVlZTi3KyoqsEEE5pWVlW/evMHtvyS0lqstlOEgy0UGpTLhq6ys7M2bN2VlZYWFheXl5RUVFegn+FtcXFxZWVleXp6Xl6fUgwwGVLpG15thrJHSSspmVhxY0ZNlkuawxV8COJ6a7c+FubS1R+YJ9ezZs0sXLp4N/j/fWzwfHHLe/JOL/2ffIiMmCwXpmzCphMwsRSBS0etJIDnYKQJ5DLuIzIUMfjO97t1MozPYr5GcPG2kkpUslTJ+qZeyHgNypV7iKUsAZeYyHlaygmGSAENbPVca6rkkUWAKUs+VGkmCgvBMKywsLCsrwyhDTgiSwUwmsyKY4RU9rKSyuLi4rKysoOrAOF5aWookhvLS0tLCwkLceyJ4xTWToGVStiBLKnMpy3iskTSRgu4XuVJPF9JQiVDiLRgYITkVQXEhk0DGxsa+h2FR8cok/VEDQdEzSUHB60kgdb2FxoK8FmwWjuzP0lsdkXDWzAaWEbIgNNc11jHQUMIkiXQnMYbxKABipB6EOI0VcmWWJGNTkJLQUAbefis54SorK4NrLGZlZmbeu3fv0KFDR44cefToUX5+Pq9Vumvp10zWrezRIJiEhITQ0ND9+/efOXPm6dOneXl5mB4WFhaWlpZi5lhQUABCizgBkBGaxSAxskV0Bok0Y6OeYGr03kIMBAskbe1B6jyKI0ny7xwWLQKVWYYyyqBMEpk0NGEl6rmyRvTcv05jj19gJNJC846hSmb9ZAC5xJi5k9HqVtXmklZHMstQMIvNjAcTMQyOpaWlRUVF+MRpdnb29evXly5d6uPjM3bs2JMnT2ZnZ5eVlRk6Zb+S3nXZzNZaX1RUVFhYGB4evnz58sGDB/v5+W3YsOHBgwd5eXkIGEUoKSkpLCzkHaU1p4zNDCkxek9Qcpk0Y7PQ67bUQJC2ZhozvbSVsuJCJgGr2bBYO/cyIMhmPLpet5UMXDNSBGsrvRbs92vGXDu9mV9GaEjLXL2/KniJlLICY1JizMglhoaKAIxUSis9VyL1UUbJtUhKLxJGvVTCUXl5OWZkhVUHbldjYmJ+/PHH/v37d+3adfr06WFhYfn5+cArDHq09KUIuqE9GgyLcXFx27dv9/f3d3d3Hzly5O7du+Pj43m/rPyqiVnDMVTpF0FKDWTr4JVcJnUea430LkkoK2WReBmnlHWMdQwyl+7+8mFRemXD0L3MNVRKgJRlxemyRFLWYTXySJ73KJg1Ide56Mv6tpowRTAssplTHaywISlhhgC2ssyFldlNtETSnI6UXIskTZSWhV43xAyLUZWXl5eWlr58+XLHjh2DBg3q2LHjZ599duzYsYyMDNgqtFRa+9W926MheVFRUU5Ozp07dzZv3jx06NBOnTr5+/sfPHgwISGhrKwMd9ByNUAvJjU18stC0ZwCsxSBAEUwrDc0NJGkUjoAAdSbachg5k4aGso0fM/DIiIzdMlS0bcZTNfLAksXyiSRScmg20qNIZJKibRHpuE7CvRlyMNcs5okAOZMKoIkV7KQlADKCpJ6CgRQI5veMFciJRh6mlBQ8NLEAqNbYUAsKioqKytD50lISDh48ODo0aM7d+788ccf79y588WLF+Xl5bw/Veoc7nRmPXKJ0a2ooUA8NNnZ2Xfu3Fm9erW3t7erq+u0adPOnDmTlJSEsPG8hasBtFUEM3LAkCv/KuaG9WyNl8yGbFSSR/FCAPVmGjIobSTxkCVSkQH4NwyLaDw9VjONviRfbbFJxTJj/gU9lUiiY7HSkStPA+KrFej3vQuMSo9T8SWDVLKYJAYaJhWBeClUiyFAt9I1AEu9LCD0JKSg4KWJBUa3wmMWDIuFhYUZGRmhoaHTpk3r1q1b796916xZ8+DBg/z8/MrKSs4olb5nGD86j9JvpXfdimFTkPiSkpLy8nKEt3DhQldX1w8++GDBggU3b97Mzs7mqihiUyKUPGZ+gaFrCtLWsJKJ1JmlLWFSCUJqsJTBIpiZKGHQ3EIvMZBJrgsAvOuwqLvUNdK3nvuv1MhILHpPrUNS+JmsNaFiCEJFWYtk7XjwOEL2P6z0Y4NIUVFReXk51sLwMBRDCUYHDD1mofLKJAEcVqRSyqxeCjIXsiEzi4CAGfm9e/eWLl3q4eHRrl27adOmXbt2LTs7G0OS3lvo1FDQIzHUwNYwi0rOB4uLi1++fPnHH3+MGjWqc+fOgwYNCgwMfPbsWUFBASocxam23sj8joIs+DtSsUXsqRDdr/LwXQL0hrMIleCa7Vu0J2jdq4xSz/0Xa/5XBVPTsteu/u30wj6h4zmrwv44bCfmiINHtBgEsbEODCDkWV1QUCArX8q6R1pZRKVbSU5rQ9Ykz6i0tLRDhw4NHz68RYsW3t7emzZtev78OV2YsZFHntjVWkmAGTMxuPZgF7fNZouIiFi8eLG7u3uHDh1mzJhx6dKlrKys8vJyNA0epktbyDJOPbd2GlnbtWOQVpINra//BV4iJQNlAqixU2Bb1Gy2aMbOOBQBeKk0Y6idnsWQ5oZKCfjrZFlSKdfUo7SVck157MfDixneZrNxIwhvJ6HEA1yOYjiH5ZIF5ol4e0SWxVBmACT8i1oT3rEbEa+OPH36dOXKlW5ubm3btp0yZcqFCxfy8vLwEAZl5wDKICmYZbGMRCoCAIpST1ZWVgJZWFj48uXLvXv3Dh8+vHXr1v369fvll1/i4uJQBDxB0s2rDUM3gYYDkwLQw9Y1iolhkoEprSz1UpbXHup1ZossgAEwNITy/QyL3DCoCDIIs1D04OzX6Jy6xn62d0eyGymCGTOitf+vGc+766utN77Aj6Xh8qoDb87h5hprQ9jvQrm8vLygoAC7jpWuL2OWNWCmN8NIvJ3VzrMLc6vS0tK0tLTg4OCAgIAWLVp4enquXbs2NjYWFwC8F4i/0peUqx0WGby0YhhUmrUC74uLi4uzs7PDwsLmz5/frVs33OxfunQpNzcXtlhnJCEFM2YCDAXUJ7NYCp1N19DKQpCEEqa0I5MSL2VpC9ksHmmldEhUMszfz7CoOGNShmgWqF6kajXk1zl1TbVs7xGgXBWYNHOhFKTapBlPTfU1rSWMblzDgrvi4mJo3rx5g4cSmBiCHHPJiooKDBlmA4d15NVWiAKQbDJL6hk854ClpaWxsbGbNm3q1atXy5Yt/f39jx07hlXF4uLi8vJylMWeR4XSKc46XSODQS41BFMDQS5QFBcXP3/+PDAwcMCAAc2bNx8wYMD27dtfv37Nsxq9TmFWCGuRBKEZee3csbzKCMUTRxEkXsr2F0daKU5ZgSUlJe9nWLQOS4ZijbQnV7JRhqGStIcNV2w7kf8yGAuiCO8rANDWiA3vlvEZBb6UV1JSkp6enpKSkpiYmJqaig3GFRUV+LwCX9TlZ/WU4jBpFgkBFBQk9RCUs4hJxYrTNMytCgoKrl27NnPmzA4dOnTv3n3hwoXh4eG8IS0vL8debmzT0amkhvEYKpXzkGEQbGiOZz5cYSwsLExPTz916tSECRNat27drVu3ZcuWRUVFgY1F5kjKx+K1uzIhNgYmBYatF0RmWchmbGYmxAOgJM2sdD0MDfVQvuuwaOZAumT0ereQMDtlyWYm20lV6+Y043/3eMyYzfTwaJZrpq9pQ+ChCv7iyUlRUVFGRkZMTMyRI0d27NgRGBi4Z8+eCxcu3L59+8WLFzk5Obi/xspjcXExBLN47Nfzfsri/s4eNtZbUVFRSkrKjh07vLy8nJycPD09169f/+TJEwwrmP/ir+GwCB4lGD1IdgwlNoZhqJdWdFRcXJyfn3/jxo358+d37dq1bdu206ZNCw0NxdjN34cyY1YcvUuS4dW0Oxk6lWxycJeyXihdY0hup5IFeT/DoiySlBGNrrEzSkOYZDOTDQ0xCMosmNtzcySt/lfJKMK7h1Qtj5x95ObmRkRE/Prrr7NmzfLx8fH29u7fv7+Xl9fw4cMnTJjwww8/nD9//tWrV6jw0tJSfLkLc0bDv+yOcmojBxeplwzKeMQsLH3yr14/KC8mUM+fP1+2bFnHjh0dHBwGDRp08ODB9PR03P5jQMRmb447YAMDeWS0DAOGvPrKYkoShsfiSHJa4UqDLVDR0dHr1q1zd3dv1qzZyJEjDxw4kJGRUVF1yJYis975ZZb9MiOUhWKE9vPoSKXIFklpC5jUSNk6VyIhsyC1GRZlxDo1HdCH1JgFquiVpD1epImU0X76NUcJz9AFehjYJKe0Za4hg1J2ieFNDRkkrURSlkglHsUWuYxfYaBr6iHo/NBg2QXzxJycnLt3727atOnTTz/94IMPunTp8sEHHwwePNjT07Nbt25t27b18fFZtGhRSEhIUlJSQUEBPlkIHjyQwdmLsQPjXUlJCVYn8UlB7vLBSYjHwVBiaCgpKcnLy8vNzU2rOnJzc202G8hxX5yWlpaSkpKXl4eHKiwFcuU7ISUlJQ8ePJg3b16rVq0aNmw4atSoEydO2Gw2uGat4tpZUVEBL7zFxkIBhr+ioiKbzYZVhczMTG60xr5ITjbJiTqHI/zltypkwJBLSkrwNB81lpCQEBQU1KdPH0dHRx8fn19//TUxMZFLHDSBC+u/SjywtZ+hpng9GEMGKomnRgmYAAg6TGogKyY0pJ6fobXrJ65oT08kUgQAMBjJUND8ClhPShM9lxoJU2RieFnjGAGk/CvBUpac1MulWZJbN5UyDNE1OJm0JpG+aCIZGKGC1PVSY49cWVmJIuTm5t65c2fNmjU+Pj4tWrRwcXGZMGHCkiVLAgMDFy9ePGzYsJYtWzo6Onbr1m3atGkhISGZmZk2my0hISEqKioyMvLu3bt37tyBcPfu3cjIyHv37kVHR6empubm5sbFxT169Oju3bv3799/8ODB/fv3IyMj79+/HxUV9fz586SkpFevXj18+DA8PPzy5cvnz58/fvz44cOHT58+fe/evVevXsXHxz9+/PjKlSsnT548cuTIwYMHT548GR4e/uzZs6ysLDwut9lsWCRFsqysLD8/PzQ0dMKECc7Ozs2aNfviiy+uX7+OR0myoTEsYhDEsxouLJSXl+fk5Lx48SIiIuL8+fNHjhz57bff9u7de+TIkevXr8fFxeE7YPigg3Vts4vyxAEekfDTZ6WlpSkpKfv27Rs+fHizZs169uz5ww8/PHr0iOu/1l6UXKXXsWspesWKyZriaUjBkIFKCaNsIdCQ8UsNZENzia/NsGhIWq1SBlct2E6ALKQiKwwyl1kMiZpqBTuHdYXHbFjUo9I1CpWSZBHYqABQb4hXlNUmscmmqKgoOjr6559/HjBgQKNGjVq3bj1x4sTr16/HxMQkJSXFxMTs3bt38uTJ7dq1a9CgQffu3ZcvXx4dHZ2UlHT69OklS5Z8XnV88cUX06ZNmzp16pdVx6xZs1atWhUeHv706dOjR48uXrx46tSp06ZNmzFjxsyZM2fNmjV16tSZM2du3rw5JCTkzz//XLp06aeffjq06hgwYMDHH388ceLEVatW7d27NygoaMGCBZ999pmfn9/QoUN9fHx8fX2nTJmyatWqs2fPxsfH22w2PBTCazm4eKSkpBw+fNjPz8/Z2blz586LFi2KjIwkjLUKAYMpp4pFRUX5+fkvXrwICQnZuHHjjBkz/P39hw4dOnjw4EGDBg0bNmzy5MkbNmy4evXq69evlef4hnXO1lfuvrk9iPFkZmYGBwdPmTIFT13mzZt3/fr1nJwcTIQNyQ2V7CcUDGGKkmDGowCUpMRLGTBdI6/rpLLwRQaCDYVqGRjPXzss4gqJayCXh3DRswjRsEiGSlQHC2PNaZ1ryG+oVMY4Q4yilO97MgtTACUqWSIiLQR2CDt5JF4xsfaCh84HDx4cM2ZMs2bNGjdu/Mknn+zcuZPzr7KyshcvXuzcuRPPLpo0aTJ06NBDhw5FR0fv3Llz8ODB7dq1a9OmTcuWLVu0aNGsWTMXFxdnZ+f27dt/+umnhw8fDgsLW7duXf/+/V1cXFpVHe3atWvbtm3Lli27d+8+d+7c/fv3b926NSAgoH379o0aNWrQoEGdOnUcHR3btWvXp0+fj6uOnj17enl5DRo0qH///h07dmzcuLGLi4u7u/vnn3++ffv2R48e5eXlYebLPTfx8fHbtm3z8fFp0qSJh4fH6tWrHz16hCVFOVvkfTduw3Ffn5aWduPGjQ0bNowbN87T07Njx46urq79+vUbMmSIj49P9+7dW7Vq1bNnzzlz5pw8eTI5ORm2Sj0rLQJHGBbRbbB6wIkqhoycnJxr16794x//6Fh1TJky5ezZs5mZmWZtativdNdm5hYxK1mGSUNH9CVzaU6l1FBWBILJqQCskzQHTP7EVQ1uoq19yFy0LsYRtDEWjBGHRNZOljxSNmNTys+R2gz/vvR/9bCIOFk6i84hMUqNWQz3lZWVNpvt7t2733777QcffFCvXr0OHTosXLjw9u3bb6qO8vJyvIlx7dq1qVOntm7dumHDhq6urmvWrImIiDh37tyKFSumT5/u7+/fu3dvFxcXBwcHR0fH+vXrd+7cecGCBdevX3/8+HFQUNDHH3/csmXLBg0a1K9fv1WrVr179/bz85s1a9auXbuuX79+9uzZDRs2fPHFFx9++CFI6tat27BhQ2dn5zZt2vj6+s6ePXvjxo179uzZsmXLggULBg4c6OLigont8OHDg4KCYmJibDYbqgud8+nTp2vXrnV3d2/YsGGfPn02b96MjdwY+Pg4DqMVagyzxeTk5HPnzi1ZsqR///4tW7bs0KHDiBEjvvvuu23bth05cmT79u2zZs1yc3Nr0qRJly5d5syZc+HChfT09IKCAtx9600GctyO8GRBU/JnCdBjCwsLc3Jybt269XYN19XVtX379gEBAUePHk1NTcUDLr3fKm0tp2PI4l/dVtcQbNHTdCszjSEblbSy8EWwBYY8iqDb/uXDou5Siekdk+AHiZQlrYxBysRYDAeGzLWoesWFDENhMysFo1UEiZe0CuzdT4Pk5OQ///xzzJgxLi4udevW7d27d1BQUGJiIsYL/LRIYWFhZGTkypUre/To4eTk1KpVq3nz5t24cSMxMfHp06e3bt0KDg5euXLloEGDmjVr1qBBA0dHx379+v3888/Pnz/PzMw8ceLE1KlTu3bt2rRpUw8Pj+nTp2/cuPHEiRM3btx48uRJUlJSSkrKs2fPzp8/v2zZMi8vLxcXl3r16jVq1Khr165+fn4bN24MDw9/+fJlenp6QkLCzZs3169fP3DgwCZNmtSpU8fFxeXTTz89ePAgHpHjAUhRUdHDhw+/++67bt26NWzY0Nvbe/v27c+fP8cubjm5QzH50CMjI+P8+fNz587t0aOHs7Nzly5dJk+efODAgSdPnqSmpubl5SUmJp44cWL8+PFt2rRxcHDo1avXmjVroqOjCwoK+OxFbxSMevn5+ampqSkpKTk5OdzYxAEa7/lhkXfx4sVubm7t27cfNWrUwYMHU1JS7FzkkV1FkfWeo2ukiZ5bU40hG5VkU84U6AmjQLw9Aq0gkLM2N9GSi0SGQctGghXWks0iNiQxVOp+ZcHIL0OVPGZ6GkpBMlMmA5GSn0oIZsMickllwaAjGQl9WfDILF0mg5lQXFz8+vXrLVu29O3b1zpqsgIAACAASURBVMnJqW7duu7u7t99993p06cvXLhw6dKl0NDQK1euhIaG7tu3b+7cua6urvXr12/YsOGECROuXr2KUSY/Pz8vL+/WrVs//vijt7e3s7Ozg4NDjx49lixZ8vDhw8TExKNHj06aNMnNza1fv37ffPNNSEjIs2fPMjMz8UAZz3PfvHmTlJSEzcwdO3Zs1KhRmzZtAgICtm3bFhUVxV/Fw2OQmzdvLlmyxN3d3cHBoX79+l26dFmwYEFYWBi++F9YWIgp8DfffNOlS5dGjRr5+vr+9ttvL1684LCIW1eMX2jEgoICvH733XffeXp6NmjQoFWrVtOmTTt+/DgMef/76NGjZcuWAdOiRYuJEyeGhobm5uZyEUlv7sLCwpSUlPDw8AMHDhw+fPju3bsZGRkYEAHG0x5sXYyMjFy2bJm7u3ubNm2GDh36+++/4/OLHEAtWlPpAxIps6TeTK4pXucxZKCSeKW6CFAE4nnVkRopK4bkx2zx0oWL50LO1uAmWtLBDTTSpdSb5Uo8OaWSJLqSWbIwlGUumXHB5wjF+xSuoNvjBXXNGpcepaxQMQapl5EYAiQYMmEUJIZKPRKZpcsk0bOgKS0tffXq1bJly9q3b+/o6IiZoLe39+jRoydMmDB27NhPP/30s88+CwgIGD16tJeXV4cOHZpUHePHjw8PD0c8uHnMzMy8fv36V1995erq6uDg0KxZMz8/v6CgoJMnTy5fvtzb29vT03P+/PkXL15MS0vDGV5UVFRZWYlRrLKyMisrKzQ0dOrUqe3bt8ct6tdffx0eHp6VlcUv/aCB5EdxEPbQoUMPHDiQlJTEL83cvXv3q6++at++fcOGDX19ff/444/Xr19jWMSLJQgefysqKnJzc6OiolavXt23b9/GjRs7OzsPGTJkx44dr1+/xoMa/OxBWVlZQkLC9u3bBw4c6Ojo6ODg8NFHHx0+fDglJcWw86AJ8BXutWvXjhw58rPPPtu1a9eLFy/kVza46FlQUPDw4cP169f37t27RYsW/fv3DwoKevXqFbaIotXYrIqgtLJFrpJlmJRshgBZXglmL5VKMlApNVImQBGIoV+pkbKZYS2HRUltJkuXOkbmQtYxLBWGM0OAPUrdF9sD5oYAs6jM9JLKMCp6kblUGgo6UmqkrJQIWeSUSCWLGAhmyJKSkocPH37zzTetWrWqW7euk5OTi4tL7969fX19hw0bhgevQ4YM8fX1HTx4MB7FfvTRR4MHD160aNGdO3eU8DIyMk6ePDlx4sQ2bdo4Ojq2b9/ez89v0qRJPj4+7u7u06ZNO3r0aEJCAp/UyQ5QWlqak5Nz8eLFWbNmderUycnJyd3dffny5Xfu3MnPz8f3tXhHkpeXd+fOnW+//bZHjx4I28PDY8WKFQ8ePMAKY0FBwd27d+fOnduqVSsnJyc/P78jR47g2QjuoLG5khfO8vLyxMTEHTt2vB1eXVxc/uu//qtz585Lly59+PAhxkRca7HAl5ycvH///hEjRmAVdeDAgVu3bn316lVBQYH8rT4uNZaXl2dnZ586dWratGnu7u7e3t4///xzfHw8v8SBNsKDoMLCwujo6I0bN/bp06d58+ZYFQVYPimSJxFlvZXNNLJ7SIzUy56j6601klPKkhN6Qx5kcXohGaSVrpcayUw9vrd4LuTs2eAQ/D1b7e9E09hCMHRGvMyFzCxdUE4qHWCtqZEva6pqO5b0JalwovI8x9oCTjxmSUGvE0WjJ6U7yAxGz5K+pKwjQVJYWPjw4cPFixe3a9eufv36TZo06dWr1/z58wMDA3fv3r1nz57du3f//vvvu3fv3rVrFzS7du3as2fP+fPnMflCI/KMjYuL+/XXX4cNG9asWTMnJ6fWrVu3a9euU6dOI0eO/PXXXx8/fiw/umP/sIgG4kBTWFgYFxe3ZcsWLy8vPMZp167drFmzrl+/np+fX1ZWhpvo+fPnt2nTxsnJ6ZNPPuGEznBYzMnJuXHjxty5c/FKjJOTE6afGElRV5jhlpWVvX79eu/evUOGDHF0dKxbty5WUePj47Hrm4VirygpKSkoKLh9+/ZPP/00Y8aMtzfgoaGhGRkZpIWAUaC4uPjx48cbN27s27dv8+bNe/XqtXHjRn4gUp4ysJIavZXZIRWBtoq51EMGp+xLUtbx0kqPR881ZNANa6GRzDTnsBhyJrj2w6Kk1otEZxxWFLwEvBdZ8ktCpXVllp2y/aWThMoFDSQWa0CGcVKpl45Z0qmhUgLskRlqdHT00qVL27dvX6dOHScnpyFDhuzbt+/ly5epqakZGRlpVQeE9PT07OzstLS01NTU7OxsFBPBVFRUYGdMQUEBt0A2bdoUt5n9+/dfv379/fv3sUTIquYIgicSOTk5ly5dwmyxUaNGmC1GRETw5Ty8iIJ9Lenp6W9/6Hno0KFYEnV2dg4ICAgJCcGwWFBQcP/+/UWLFnXo0AGFOnDgQHJyMhzxs2OYLWKBde/evR9//LGDg0OdOnXat28/a9assLAwIDEDZbXHxsZu2LABL6LUq1eP30aUL71wYwbGI7wk8+jRo7CwsKioqMzMzIKCApvNhiEGpw8uLdhDum7duj59+ri4uPTp0+fnn39+8eIFB002LnsLNbpAjCIoSCVXJhXkOyZZh5LnL3JnSIuX/2q2tihjhSypIeuYmiLNGCSPGUbGY4apnV4y6zKu/HoN8MrJ9sZpQL0iWMSmO8XZopvQl56luGNSR8JdWVnZ8+fP16xZ4+rq2qDq8PX13b9/f25uLr7vUlFRUVZWhlf3Kisr8YoeXknG3A3PCvAhA9wV4nsHs2bNateunUPVMXjw4C1btuAOl8XkWIDYcBP99ssIs2fP7ty5szIsckDEQFZZWZmTk3Py5Mnhw4c3atQI89wRI0acPn2aQ1hUVNSyZcu6devWqFGjjz766LfffktISMBAzPVHsOGx9ffff+/m5la/fv0GDRr06dNn48aNcXFxCFI+ZS4oKLhz5w72FTo6OmLhEuSobeyQx0/3YTNQWVlZZdVRXFycl5eH0bC0tBQ7n/hCJOrQZrPdv39/5cqVPXv2bNWqlbe397Zt216/fo1XuWXTy5o0a19lksikjoeGnBSgZ0dSBDOemurhTlrpGpmryzqeRZCVJt+Jtrh9RtZ/6G6gkdS6Y2llP1JaKTJJFD2TBMiiMvddBMlsLUsv6GfQ8FGPxWxR2iqy7rQWw6LCaZGEu7KysuTk5B07dmDbc/369bGY9fr1a5wAfB8Z758VFRUlJiZGRETcvXs3PT0dN6R8+w07VDBT+/bbb93c3LD61q1bt7cPUo4dO5aSksJfOKh2WPTw8JBri2hxhIFh8cSJExgW69Wr17hxYz8/v5MnT3Jq+fjx4zVr1ri7uzdp0mTgwIE7duzAA2XEjJrB+FhUVHTr1q0vvviibdu29evXr1u37kcffXTkyJHs7GwMoxj6schos9kuX748duzYFi1aYCuSn5/fiRMnMjMzOehQKCoqys7OTklJef78eWxsbGJiIl6JwVyST8NRbwgMy6bfffedu7t769atfX19d+zYgdei+Y4ggmeHMWxl5CqjGJPWtpIQSJZIESTyXWR4kQy6Rubqso6HRtH/m4dFPW57NCyJGZiAv2hYNPNrpucsUgJwNyRDpUwYNExCIIyloyCRhkqdQWdTSMCDfYVjxoxp3rz53//+9+7duy9ZsiQmJgYvjZSWlmIkwtCQlJR08eLFLVu27Nu3D7ujMdnhW3clJSUZGRkhISGTJ0/u1KkTbqIbN27cp0+f1atXR0ZG4tNkcK3fRMvZIp6i4JELIuecsaysTN5E16lTp3Hjxv7+/mfOnMnLy8MbdfgAbd++fZ2dnb28vLZu3Yp9i3Jw4bB47do1jnQNGjQYOXLk+fPn8cozPtOAT/OWl5dnZWUdO3bs7b4ZZ2fnOnXqNGvWbPLkyfj8Fzfo8PceCgoKnj17dvny5aNHjx4+fPjixYvPnz/Pzc3lgAgBHQa3ydjqtGTJEjc3t1atWn388ce7d+9OSEjA7b9seravbFY7Zd0W451uTqShoOPfi4a+as1GBgjkqdlNtMLCJOkoMEu2kJLLJAVlDY56yWZISKQuSFvmGiqZayHA0AJgmMWLJ+Y+vBpTrwggsQhSCcOwTsyUGGUUj0jqwdNRfn7+nTt3MD2pV69ey5YtR48efejQIT4xwC0ktqc8efLk22+/9fT0nDJlytvtONjvAgBW1mw2GzYV9unTp3Pnzl27dsW2ZxcXF39//+3btz958oSzYIthsXHjxhwWeV+M23bMqvAh67f7tB0cHOrVq9emTZvp06dfuXIFv9NSVFQUHx+/ffv2AQMGODs79+7de+PGjbGxsQiYFYixvqio6OzZs6NGjcL9eMuWLadNm4btRwBwhltYWPj48eN169b16tWrYcOGDg4OvXv3Xrdu3aNHj8CJvY3YTJOenh4WFrZ169avv/46oOqYMWPG9u3bo6Ki8FMzKAgMuUEnJycnLCzs66+/RtX5+/sfOnQoKSkJMEaOOmQj6u0LDTukIpjhdT1cGHYqs5NaJ7FfA3f8a78hkDSUFSVJavbIRdJJWTLa4xi2uhWrVcmSvlASs9NYMZTdQlaBQmiWNGPT9dAwfouuIH2Z8UBfI6ROJcvLXHAyWa3AGEpLS1NTU48cOfLZZ581b94cu6Nnz54dHx+fm5uLgr9586aoqOj169e//fbbsGHDunfv/u233z58+JDbABlSTEzM2rVrvby8PDw8Jk2aNH/+/BEjRuC1v/bt20+ePPn06dN4hQYtyPpU1hY5LN69exffFsOtOsYpm80WGRmJ3zitX7++k5NTjx49vvvuu3v37tlsNoyer1+//v333wcPHtykSRN3d/cff/wxJiaGAaN+OCxeunTp7XZCJyenOnXqdOrUacGCBREREcDguTaWTbOysi5evIidlfXq1WvevPn48ePPnDmTmpqKrTnYEVlSUpKdnX358uXvv/9+woQJEydO/PLLL/38/Hr37j1u3Ljjx49nZGQoxcewWFJSkpWVdfny5Tlz5nSoOiZNmhQcHMw7dNaz7P+U9UZnKyuCjjTT1LRfmfFAz+aWMHnK2xmnWVTSXLqgzGHxnTbomLnRw5IaWmHmj7rgZ/jQF9F3Ge67CNKdBQ9hhn1Lxq+TyJbTc3WNNZuOf3dNTT0Cj2cC+fn5sbGxO3bs+Oijjxo1auTo6Ojq6rpp06bTp08/efIkMTExKSnp8ePHf/7558SJE93c3EaPHn38+PHU1FTui8bq2PPnz3ft2uXn59e1a9cJEyYcPHgwLCwMH+bBBmk3N7evvvoqLCwMn4PNrzp4C5mXl3f58uVZs2Z17dq1SZMm3bp1W7x4cURERHZ2Nu9P0W1SUlKOHDkyduxYvBndpEmTIUOG7N27NyEhAbelxcXFqampJ0+eHDVqlLOzc8eOHefPn3/37t2ioiIM8XwGjRvzsLCwadOmYbkQb3NjWMSYiAfoBQUFjx49WrNmTZ8+fRo1atSkSRNfX9/AwMCnT59itMXiY0FBQVFRUWRk5KpVqwICAhYvXrxv377Dhw/PmTOnZ8+ePj4+mzdvfvHiBSbjuIuHIfpYWlra6dOnJ02a1Lx5827dun399dc3b97EgikqSu8qsj/rudSgxe0E08pM0Psb+SlIW0MlALUISfcufekyXTx79uzixYshISF2bdAxC5p68rIkFhpaAcx+DwG5RUVFvDchvlrBsMC00nOlhjAZuVRKvTT8/6SMguPkLC0tzc/Pj4yMXLt27YABA1q0aNG4ceOePXuOHDly0aJFmzZt+vnnn7/55psRI0a4u7uPHDly+/btsbGxhYWF+JwEJnqPHz9++ybJ+PHjO3bs2K9fv82bN8fFxeHDB4sXL/bw8HBycsKnVVevXo2XiLE7urKyEvOd7OzsCxcuzJ49u2vXrk5OTu3bt58yZcqxY8ewQZJ30Dab7fbt23j5z8nJycHBoUuXLnPnzr18+XJubi5/ab6goCA8PHzq1KlNq47PP//88uXLWNnEHSW7JfbErFixws3NrUGDBm3btp0zZw5uonFTjMfx8fHxv//+u7+/f7NmzRwcHLp37/7999/fu3cPv5mFDefoKklJSbt27Zo8efLs2bNPnz4dFxeHgD08PPr27bthw4b4+Hg+zOGyLFrk9evX+/fvx9qlp6fnypUrHz9+jDAshkUMqfpf2XXBLzXvV1ZOJeVsYq7utEaLPzCvaVkYDN6JrvGwSHvpXg/CWqNXAS6h4MTJgHmK3pDWGsM61d3pMN5oyMhpSMHQ8F+gZABK/f91ruGRP2qKjYePHj3aunXrpEmTPvjgg/r16+NbCX369OnXr5+Hh8cHH3wwevTorVu3xsTEoEGzsrISEhIePHhw9uzZn376acyYMR06dGjWrNno0aNPnz6dl5dXUlKSkJDw+++/jx49um3btg0aNGjTps2QIUM2bdoUFhaWkJCQnZ1tqzrwXe7Lly9j70uDBg3wQbB58+YFBwcnJibiniMzMzMmJiYoKOjtnht8KqJFixb8VERpaSluZjF9i42NXbJkCd7/8/PzO3z4cE5ODh4l4VTEZK20tDQpKengwYMjR450cnJq2LDhiBEjDh06xJv93NzcJ0+e7N27d+zYse3bt2/atGn37t3nzJlz9epVfokWLYVqiY2N/eWXX77++us9e/bEx8cnJCQEBwdPmzatW7dub+fju3fvxpuC2LHAwQ6rBM+ePQsMDPT09GzUqJGPj09gYCB254DfsHvIzqPI7D/UU0OBWYbk9AsYrXRB8uhgXSMZdFt78JLBWmbRaj8s2hOiHrTUkIGxcrCjBuOUshJcbVKaKyMdS65gmGRUQMokZYLfuwAXZrQMwBpGczthxOsCPfJhOn6vKj4+/uLFi5s3bx43btyYMWOGDh36ySefjBo16ssvv1y5ciVuqzHnSktLO3/+PCaSY8aM8fDwcHZ2xnDm6+sbFBQUGxubk5MTFRW1efPmIUOGtGrVql69enXr1m3evPnAgQPnzJnz448/7tmz5+rVq7j5zcvLe/uayuzZszt06IBH2E5OTm5ublOmTNmzZ094ePj9+/fPnj27adOmUaNGtWnTpmnTpu3atRs1atTOnTufPXuG+2KUFONdQkJCYGBg//79Gzdu7O3t/euvvyYlJWHmhQfogOFT3vfv3//hhx88PDwcHBw6deo0a9asgwcPRkRE3LlzJzg4GK8zt2zZ0tnZuVevXm/nv5cuXcrIyMjPz+fmR3TywsLCV69eXbhw4cyZM9HR0Xl5eY8fP961a9fIkSO7dOkyevTow4cPp6amYjsX2wVP/LFmunz5cldX16ZNm779BuWxY8cyMjK4JGfYye2ZbbG56REC9dY9ijDFXCaJoaDnSo2UOT4ogsRI2TpaiYTMeqvZsMhzg4wsGwVmcTzSNUq4tMUlUY56DFSS1FQmPwyZpCAJqaRrqYEs8e9XtuZXIqnWtTUbzUlLDQVksRdiTQNDRlZWVnJy8q1bt0JDQ48dO3bq1Kng4OBbt27Fx8djKx92ekdHRy9ZsqRnz54uLi7NmjVzdHRs0KABPmnTtm3befPmhYeHp6SkvP2Fgy+//LJjx47Y/Ozo6Ni0adMmTZq0bNmyVatW/fr1W7FixZ07d3Krjrc/GD9z5kx8gqxZs2bt2rXr1q2bp6fnoEGDJk6cOGPGjLFjx/bs2dPZ2RnvC3/11VcHDhx49uwZ3kfmL1yjdOnp6ceOHQsICHB2dv7ggw/WrFkTGRmJp8AoAmCYtWVmZl68eHHBggXgb9++/aBBg+bMmTN79uyRI0e6ubm1bt0a49rbZ0o3b97Mycl58+YNxsSKigpQoQILCwszMzPT0tIwX46Kilq/fr2vr6+bm9vMmTPPnz+P31pA5cMQe7nxVvj06dM7d+7cvn37hQsX3rt3D6ul/FQEW5CC3DArTzHun4ULdnsa8kS2AEiwNZ4kdKRrFDYmlbCZJEARwKwoLZIM6X/XsIhW510DnuvhfodVYI+gl1xWkGwGqYeVzCWPoZK5FAij5r0LdMEm5Byhdr50QsmDXLjgecVvneI9FpzeeVUH9t9wqlVaWhodHb1q1arBgwf36tWrf//+g6oOb2/vPn36+Pr6vv1y4s2bN9PT08+fP79gwQJfX9++fft6eXl5e3v7VB39+/fHx2jXrVsXGRmZm5ubn5//drfgrFmzXF1dGzdu3LFjx7Fjx86fP3/mzJnDhg378MMPe/Xq5eHh0a1bN3d39/Hjx2/atOnWrVspKSkoC4ckzAFLSkpsNtvbH4aeO3eui4tLy5Ytp0+fjvVHPjXGbABnO35H5fLly+vWrfP39+/Ro4erq2vv3r379u3r4eHh6ek5atSolStX4mcS8AwEa45oL1z4MUri2714L8Vms127dm3u3Lnu7u69evVatWoVn+DzRh4BI4A//vhj1KhRrVu37tOnz7Zt2xITE7ENU36wVrYjglc0SpI9gXpqFIEAM8ECL7NgrmvMaGuqB7P9VjynajYsGrqRpSKvLLAMS4KphxKdD3/xPBrnocJJqxoJMnIZg9SDUObWyIVykayprf14RggTnGlUSsEeTms8c3HFkneg+B4qXvXDI2C+GcLnAyUlJZmZmQ8ePAgJCTl9+nRwcPDZs2dDQkJOnTp18uTJs2fPRkZGpqWl2Wy2V69e3bhx43TVAcyZqiM4ODgkJOTChQv379/H163z8vIuXbqEl/8cHR3d3NyWLl0aHBwcFhZ2/PjxLVu2rKw61q9f/9tvv127dg0vjWAER+/iTQkHC2xv7Nu3b9OmTX18fPbu3ZuUlFRRUcFf3cAVGoM+Fljj4+NDQ0N37dq1du3ahQsXfvfddxs3bvzjjz9CQ0OfPn2alZVVWFgIBlRaYWEhdrzTO3/vobi4OCMj48iRIxMnTnR1dfX19f31119xv8/651lgs9kePnz4ww8/9O7du3379pMmTbpw4UJ2djYe5hQXF+Otc73peVXTJxYAw5c01L3LXENZmlCWSCpZIl1DPLKY1COHRjLoMs2rFRhSLYdFTOzhRolD+lZKZTZwsMGSqr7AnJWVxVcmeKGWtLWTWWYlYOr14tTUkWS2x1avH2srTgylYY2GRWloT3mB5xwQdYVbad7cYZ92cXEx7haxt46fe0CSAwoY8LwYMm5p+UunuG/FOIsHbhiRS0tL37x5g8fZbx8Wz5gxA1917Nmz5/LlyyMiIgqqjrS0tPj4+NjY2NevX+fm5mIbA19BYV1xPotdL3i6PXny5FatWnXs2PGbb755+8Ex3JYSyTMQoaII2dnZcPfs2bPU1FS+4IirBZcmUXy+IonNZ5h0V1RUFBQUxMfHb9myZejQoZ07d/b39z9+/Dimt2DA94RQitTU1HPnzn3xxRetW7fu2bPnqlWrHj9+jI+qYV7JsV7pS2hKw7/yxJRWBFMpT3wqKRBPgVkUmMXzTtcoYCUp8fbINK9WYEg1Gxar5VUAMmhm8Y6MP32LheSoqKj9+/f//PPP58+fx/eXcD5wJyPORnQUvuTEkoAfHunLTkHGKWUzc2svZIA5xzLJBgyvfpKQpy55KEgG+2WaK3VlzUAra5g8owz5ySOX/NGmOMcs/mJYxPNiVCOGRcwWu3Tpgoct33///dvvMmDdkL0L7riTUYZBmRsqCwsL4+PjAwMD+/Xr16JFi+HDh+NTOhyLMeODISoE80c5msuCAIPHUxwEAUajl5eX43k0vgRx+/btb775pnfv3q6urtOmTbt06RImgFxQQnFsNhu+J9a/f/9WrVqNGjXq1KlT6enpYObGRr0hZOQsvoRRiTOL8UsMewLBSi6vHEQqAg2BVHLZlygo/BZ4JQuOFKVFkoEBU7N9ixa81ln0CgFzQJQZF9inT5/++uuvn3zySa9evWbPnh0cHMwt/tgdIq+ErH298IpGSVoHqefKji5lHSk1cMoWxTAnAbLVCX7HUBV+mZQupN5atj8enV82ELyg9nROaUuZgfGrixhfMEZkZWWdP3/+yy+/7NSpk7Ozs7u7+4oVK+7du4cHF8BwmonBi8yKwHtq3OyfOXNm3LhxrVq1woMX3Mai+8lnL2xZ+RoCY1YEjpsYBLkuhJkjKspms924cWPWrFldunTp3bs3Rnm8tY2AMectKyvLzs6+evXqjBkzunTp0qNHj0WLFuGLargYYFiUJ5cMhmHLSiCASguNnkVOZIGEMPZzCvSiIyUDqoV3ijz1JLPE63ozjbVfFuevnS3K4GSNYBqI2WJhYSFeexg6dGjTpk3/9re/tWvXbsaMGWfOnMFCMlas0N1x8cfaMwl1L9QYYphbrUBzRbDHkBg5+6MShExCoBdFX+skCRWhWkLirZGASYyZxoKQWbpgs9lwSuC8wjOK3Nzcy5cvf/nllx06dMDvW3377be3bt3KysrCWMMrKM4r3O3KICljHsf5UVxc3KZNm/r27evi4jJy5MgTJ07ghxPwswFywqiHyjMK5ATgHhznOR1hlspBPysr6+TJk5988omLi8ugQYO2bt369OlTLE2g85SXl2OZ8smTJ/j51o4dO44fP/7tC0XYSyTd8QUeFlMRCJYxU8n4zYZXZYxTyGUSnOSR7iRMyjBRbrDII5GQkaXroWHnkWDDMMDDrH/PsIjlYXxBJDY29u0HmYcPH45fEG7Tpk3z5s07dOjw9ofYjx49mpiYiKVrPmJDp+d2XJZElpzVxNJaVx/xisDLlCIoMHYUXQ8NewYBZvGY6WlYI0EpPpPVktiJ1KOFhk8q0DqoPYvhySwevgKMS2NOTk5ycnJUVNTbH6L69NNP8ZsHnTp1mjFjxokTJ2JjY1NSUrAwzfj1CBVffFKBbYnXr1//+uuvPTw8OnfuPGfOnGvXruXl5eFFQIWTSbY+NRQwGmKejuUaWAAAIABJREFUiGc+8I4PahQXF2MJ8uXLl0FBQR9++GHr1q0DAgIOHz6ML7ZhdMDnxQoKChISEo4cOTJ58mRXV9chQ4Zs27bt8ePH+IVVTBqwvsQJqXJqsOAMTwKkEjI6La2kIMG63lojcylLQj5pkAEoA5yhIZW1EBgAbP+SYZE+pCBjxYXXZrPFxsbu3Lnz448/xp3L1KlTv//++7eXwbZt27Zr127ChAl8iwDPPdmQ8iUqMy96f5Ux2CNzMq8Iui1i0PXQmA2L1lZmbPbrZc1I2ZqBSGsYq1fC0KcxReIyH2qPsxjyU5AMUsbJgGe4iYmJly9fDgoKWrhwId6nbtiwYZ06dZo2bdqzZ89PP/100aJFQUFBV65cwVvYvJKxz0hmynx6jsttampqSEjIlClTOnfu3KdPn7Vr18bExOCSzGVKaQsvLIgiYNMMnh/iqsBdQSDB+5QRERH44FDXrl1nz54dGhqak5PDmyQMi4mJiaGhoV9//bWnp2f//v1XrVp17949fAYYvYvhwRCRMFQpyCCpl0rIHGqJgaAgZa7ez5GrDGpkMCOUeGWUpC0EySAjkXrZASSzxJMWyvc/LNKBvGopkWER/cWLF3g9C3tuly1bFh4e/vz587ffAsHO3pYtW44aNerPP//k505xG8K7D6Xw0gtPWhmPrIh/pcwY6JQaCNS/X0HxwqS1FzthOgkNpaDD2DTMknhFxnqLzWaLjo4ODAz09/dv165dixYtsNm7cePGTZs2bdy4saOjI98XfPLkCZdZ5H0r3VHAacz1R9yxJiUl/fHHHwEBAZ06dRo4cGBgYOCLFy/kmA5znGD4q8TMJIYq8vPuPj8/P63qwGbPy5cvT548uWPHjh4eHsuWLYuMjMQ0mRt6cnNzz58/v2jRog8//NDDw2PhwoXXr1/HLx1yL5QcghEAi6kIDE+eL1QCjJNXMWTDESwZ0FKoUsVQDka05bBLDQTwUCaVXIyiCXMNBQXGJtPBCvKvHRbpTKm+N2/eFBcX37179x//+EfXrl29vLzWrVv38OFDLDNnZGRcvHhx3rx5PauOZcuW4RN4YONdD8tm5kXqIdPETkGZJDJpp7nsRoqJEo8SqgJ+x6Qkt4dKic3ChGtA0gVOfiULVSdPD9BaDyv4SDXOkxcvXhw7dmzp0qUBAQF+fn6jRo0a+8/D399/6NChI0aMmDt37v79+58/f45RDHevFjfviArf9eE6I7+NNnz48E6dOo0ePTokJISbkJSeLCtHVgL13NsEAeRXr179/fffjx079vTp04SEBPwSVqdOnd7+TODOnTvxHVyUGjdJDx48WLlypbe3d8+ePWfOnHnhwgU8kFSKxgffhi3IyA3jpJKRE0+N7M863mw4szBHFueDDFuOX8zlVJSuDSOU7uyXyQmTv3ZYlGHRMQpTWFj44sWL7du3z5s37+0z6Ojo6Pz8fGxMq6ioyM/Pv3r16k8//bRgwYL9+/e/fPkSIyl/TBJ3FuBXmOlU6iEzSxF0pD0ahcQwaeZX0SOJs9Sw+RW8oS8zJWztZCDYjE3qOcwpdwYk0TuuzGJIPA04mMILFs5wNtpstpSUlNjYWPwWQkRERGRk5N27dyMiIu7du3fnzp27d+9GRUUlJibyQQ1qEqOeDFvKGA1tNhs2WmI8LSoqiouL27VrV0BAwIgRI/bu3YuP7ijBs71AKHPpgsujWCLPyMi4cuXK3Llzvby8Jk6ceOjQoVOnTs2cObNLly6YBl64cCE9PR2Ro1rS09OvXLmyePHi4cOHz5o168SJEykpKVy9leuJWLtgrTIGDmcWcTJ46/k1YRQUL0qSMEUATFlmAUYyMHLFnEkFzCQA7J/QW1gpWe80LCpcjIkC573YpoAkJs/l5eU5OTlxcXHR0dEvX77kflSWJy8v7/nz59HR0a9evUL/YyHBBiRakecV6pEBWAgMXgroZLgIYwHUkEGaKDJPFdwBcSMxYODHBky+ISsZ4I5gQ+9UylJTaShIF/pQRRMFpieJhKCMYtXi0To450llFo/U4z4U7Y7n0fg1KP6tqDrwRjA3YEsXemwWGux0SUpKunTpUnBwMK7ZMh4yUyAbNOyreOiM9b6KioqUlJRdu3Z5e3s7OTl5eHjMmzdv5syZnp6eXbt2/fLLL48ePcpf70NZsEf99evXYWFhZ86ciYiISEtLoy8IjIGDiFnHUAyR5M0seCSG7Ssd6UpldOMpwBqTnFKWPUHWmF4iUMkwJMZMlr5k6czw1PMztCFngmvzE1f2BIo+kZeXx3dXcK1D/0aBsQeCVypWKPaL8W1Q/MYutnGxDLUTZJVxdzFnPTgP2cCKQI/sf2xUCLwMEIAbHJxveA2W1wwZCZgNa1XCZP3g5kWJEEnFhElDsHJ6sIxSYHEgkNBCUMyZRA3zjJL9nmwEK4IShpLk6EAetK/+V6FlEoTl5eX8UiROYBIaCkqdo11QQLZ4YmLi/v37334Nt2nTps2bN/f09MQH2d4upp84ceL58+f4RAV7OHo+hsiKioo3b95gEamoqEhuxpDxyHaUei5uKNVl2A9hyJqURUMt8Uxhw9GvdMoqNRSUYZEYRsjrqB4Awcq5QD2DVwBKUuIp12xYtIeR1AgLScUQS9H4NUh0Vryxz86He2R8Fw9rydz/hUpHG/CkYq1xYJVhsIIUJZMwp3f2CTaPIhCvmCCJXPQ2PB1CGdmTkMRvjzA2diZGpQjVAhS8ZNazrDWsAcCU5qMtQ6LALEOBMEkoZboDEu1LKmluKCvmxJBBEQhQBLyCkpeXh26GhrMYPhRzJFH/WByEXFJSkpOTc+fOnY0bN06ePHnYsGF+fn5TpkxZu3bt2/f58GUwFhnuMCzir1xJ5LvPZq6Vkhom7bSVMPJQCQ2SPE0IsxZgpWN4WsksVIjUsIcrSibN+AkwE2o8LOqd2Iyaa8YoJNYNuUnVZrNlZ2fjB8IxVQQzxhFcCXEbi64JjHy3lJGwhahRQiJA0TPJzRB4TRX9T459imxGyL0RcrEfzckeg92auAwwABJCoN5CICFvMC1mQxJsD17xK8OTWUqF04vESFny0FbOYiSYCxqgZRYNqalWUJqPSSUeJnkxgwZz/2q96AB0J9wIc96Xm5v76tWr8PDws1VHREREYmIittrwjhv7GRknTgGsvWAXB77Ko3vUNWwUZVhXyGko8Ryjmcs1Kw70SutIZLUyqleHSU5ckxCtgmR7KXomzfgJMBNq88t/Zly6Hl0BewjwElV+fj6+nHzu3Lk///zz2LFjV69ejY+PxydL+c0SLh5nZWXFxcXFxMS8fv06Ozsbt+F85qVfVcwqwkyPmPkmFu/sIGDFSv+rD0DQ4P1WLBoWFRVVVlaSGT2eq5YooOx21hEiTmDsQUq83i5mGuWUYNIMbxaP1EuZJxWZ5QnAiz8LqOQSYBYPAXRqgbTOAgMaCGs+3BhIcgqgYpICruIotZzr4arPx4YYBFFY3gZhIOBYxqrDlzUw1MKRLAhd61lkYOXTkFbUAEy9Ish6pgnHL0PXhEnB7ArHIZsAvScYxiDJCVCUelKWDrk1+51oRqlTG2rwDQj0LcwTk5OTT506tXDhwsGDB3t5efn6+gYEBGzYsAGv+uOhId9CzcjIuHTp0o8//rhw4cI9e/ZER0fjxhOjIdfU2N72V4QSbXFxcX5+flbVkZmZmZ6enpGRkZ2dnWFyZJoc2dnZaWlpubm5IAFDTk5OSUlJZWUlxnScEpxCKpGYJXnOyB4jm9NQBljJ4rVE0dciyWAMHSmEZhi2Gs+raiOkX8UFknquWa0ammP2ihjw1h2v62RWBPIoel7FcZXFOMjS4VIquzH6P2F4MYbvsYANr3tLR/QuK5BeZK4+IKJm7GFTMEySX9GY1bk9ejldYPdAiRRzeFeUTFrnAsb4pVCzYZH+KFg75ktOWDPOzMw8efLkl19+6erqih0JrVu3btKkyaBBg4KCgvAGNFodfeXBgwfLli3r1atX27Ztp0yZEhoaii7CLWYsCeORRVWUcvRUsmw225MnT86dO3f48OEDVcf+/fsPHDiw3+T4QxwKZN++fYcOHfrjjz8OHDgA1I0bN9LT07HBCHdA2AVi9qRb6RMMW043ED97uZmgwJCUN62KoeFlz1BpyAwlA5bkyJI9W7YdkQoDkxSAZBICzfVcXaPYGibRXYuKivLz89HlMOtXHJklycmqgwA8Zp0YRLBQIFucMlfeccvFWuUcE8tKegz0bpFFTO0EBsmowPO+PMoRli7kxFmGzUqWSsiyjzFXwRMjhXcaFklEl4qATVuIw2azhYWFffXVV56enr6+vosWLfrhhx/69+9fp06d5s2bf/HFFxERERzvSkpKMjIyTp06FRAQgJ8T8vf3DwkJweeOuTNWLzwuywiMwVi3VnFxcUpKytGjR6dPn+7j48OvQ+Mb0d5Gh5KF70j7+PhA7+Xl1bdvX19f3w8//HDgwIHLli178OABKgEVwqUrRkgBofIKCT0Kxe0pmETIW3tozP4SibNd4ZFWRJoJEoyZlEQyVyorKiqkXtlSU1lZ+ebNm8rKSphIpDSkHoLCX1FRAVrqJb5GPGBAhaOAqDR+SZsu7BRgiHiwqILNFZBZh0iWlZWhNuAUYeDpM92xxmjLrGoFWS1SpqFUWsjAA2BmK7dJcaBQBHZ7RZAwmUW9VFrIcsoMGBikCTml8E7DItmtnaGCHj9+vHnzZm9vby8vrzVr1kRHR1+5cmXs2LF169Z1dHQcM2bM2bNn8Qvo6BOvXr3avHlzv379nJycWrZsOXXq1KtXr+LLwxhi+PlSeMfFJD8/PyMjA7cbfPWKL0jpcaIIaWlpx48fx7CIsWzgwIH8bj5HPUNhgDh8fX0HDBjg6+vr7e09aNAgb2/vjz766Pvvv79//z53JuPBOoogr7qsTIyJyMK2nqyqX01JSUlJTk5O+eeR/M8D+n+m7Pr/nxz/53/apJocBCiCwlNtJKmpqTCRPNVaSTDkJJODSN0Ls6SgxM8sxmkGILKmgnVgsipQRPIrkUhkjTBKFzKsSBIa5iqBSXBqampiYmJycnJa1cHPdqBvy3FHnomQi8QhzwUpk0EqLWRlPkSk9E4lzjsk8ST6bLB9vxMtKaSsu4EGYZWXl+fn5587d27SpEnu7u6zZ88OCwtLSUk5efKkn59f3bp1GzRogMkgh7OSkpKoqKjFixd36tSpfv36bm5uixcvjoyMlDeeuBnkxConJ+fRo0f43n1MTAx+lhe3qxxi9DhRCnzc7MqVKydOnPhTHEdrchw7dgwPkY4fP37kyJFTp06dPn361KlTd+/eTUlJQVUgfsYj61DKjBPvil28eHHXrl1bt27dvHnzL7/8smXLll9++WVz1fFL1bHF5ECu/leBEwBO+//SECExaSbYCaN5oMlBgJmAAprlUm9WD6xeWRWoeQsT0lIgWNoGBgZSbyjQvFpBMTfEowgyi1ZQbt68mRoIrHVppcvSSuZu3rz5559/3r59+8WLF1+9esUFVvRq+Zd9HmcHFlv1xSLCDG2Za7/A80uaSKWcLZ4LOWu9o/s/JIuUJSP01OAakJSUtHv3bh8fn169em3bti05Ofnp06crVqzo3r37f//3fzdu3Pjzzz+/du0arPBmyPXr1ydNmtSkSZP69et7e3sHBgbGx8djmMNyA/7itrSoqCgmJuann34aOXLkuHHjdu/ejS/WYe0GfzFBk2FTxkyzoKAgLy8vOzs7KysrOzs7Ly8vx+TA78/hL972x18sRdlsNuxdLygoyM/P57NFTFr5NpjZWglLh/WsBw8erF69esiQIZ6enh5Vh2fVARk/qwSN/peYagX3qsMMpjNDQzwB1BgKhLEshjAEY/HX0MrDw8Pd3V3PqhEPwErprCvZ09PTzIUejM4sMdbVotceNSRBJEwqgqenJ74zwL9gsD9+ENKvLvTq1cvd3b1bt24DBw5ctWoVfqyRJxpOcP7FI379xCSAhhCoNxQUMCdMOtgCiax3evmP7HDMJAPC26lFRUX379///vvv+/btGxAQcPHixby8vKtXr44dO9bZ2dnBwcHV1XXFihUxMTG47S0vL8/Kyjp27Ngnn3zi4ODg5OTk5+d39OjRjIwMOcTAS2FhYWVlZXZ29sWLFydOnNi8efMePXqsW7fu0aNHeIG6vLwcYcjwFBmjbVlZGRZuuClMr1C9pHJJmIZ4pMi5bWlpqc1mw2UQK+h49iL5ZUiYToIkKipqw4YN/v7+WOT08fEZMGCAT9WB2/wBAwYYrX/WRudlcgwwOczWGcx8I2ylCCDRTby8vIi3U9BJoBlochjivby8WMPwy9Ib4s0qwcfHB0tGslLNGKBnMRUY9RaCYsKkhQmzWEBFIEARSK4L6I39+vUbOXLkhg0b8GON7Nuyw+O5OU8oJPEROQmjLUcVmavIEmyIVwBIShJo3s+waMaOUaykpOTZs2cHDx786aefDh8+/Pz585SUlL1793744Yd///vfmzRpMmzYsP3796elpWECVVpaGhcXt2XLlg8//LBevXqNGzeeOHHitWvX9DERU9GKioqMjIwbN24sX77c39//q6++CgkJSU1N5a5J7JW1mJzjwXehOAoKCvjFAczw5V+lcpnFzRZ82ggBnzjFPQIeK3FwZJMonFxpSUtLu3PnzqlTp44ePXr48OEj/zwOVx1IQdb//mly/JND/d8E/qfOLDUqi91pktCv3aZWQLL9+eefwB0yOcxYGBgFIJUkldKjlAmgIQSztRkZD3mk0lqmieKOVibVcIgACqBiUhHAI71Ac7DqQC89derUnTt3kpOT+TYXezj7fGnVgfOCK0vMhUArw2FOgiUSss6gYKS5BP+1wyK+hYOdzLm5uVlZWTabLScn5/79+0uWLOnUqdN//ud/tmzZcubMmWFhYZxbFRcX37p1a+HChd26datbt66Li8tXX311//59VBz/8mqDnYBpaWl37949e/ZsREREcnIyRihMyvhASqkUJtEwyjcI8Eyw0ujg0zc+AwUK+jdv3kgBH2HmmM77eouo+EwJ66eFhYV5eXm4N8//58Gb938q/sf/tqpD3uxL+X9ARYKcNRIEQc1EejEzkzHbI5vx0JEuGJooMGJQq/pfBc8kDRWBAF1QkNbJ3NxcMgCJ2KjMy8uzZkBujjjepZ7z8/NzcnKwgpSfny8fkPJcg4AxSD8FMFBytFKsZJIY/R5cwixkyUAZ+L92WMRqGp69wl9FRUVOTs65c+fGjh3bqlWr+vXr9+zZc/369c+ePUONYAd4SEjIZ5991qxZMwcHhx49eqxduxYADC6YcLEk3L9SWFiYk5OTn5+PERaVjufaGCX1OgJJUVFRTk5OWtWRnp6elpaWnJycVPXrrCnVHaniSEtLS01NzcjIwPM+8KCXcDRHDHw4roeEqyJfg4GAInPjiMzFmM6/FvsqmEUwBNY8AXYKCk+NknSqC+SRlx8pE6AIpIKeSbPiEKDwKEkz82r1Cg9bzcyQ8UAgXueBRsEzaYg3c6pvYGJVG/JAqbNhoyW7KLoxQjIcuXjXjJu0oqrDEGl4jlgrOTgYCvrEE2z0/tcOi/zFMnwXBHWUmpq6bdu2Hj16ODg4NG7ceOjQoX/88Ud6ejq+MlJSUpKXl3f48OG3e7zr1avn5OTk6+u7Z8+e5ORkPILAAMebU7xcjMsjX7jmzThfI+UcTalN1FpeXt69e/f27du3fv361atXr1mzZu3atevXr19jx/Hj/zxWrFixdu1akKxevXrdunUnT55MTEzEkxaEzc06SjBMYvRnR8H4zg+RsQkRPO/ciWdXgEb/S0cUaFIjgeYUrM0BswdjD9KMh8Gw90uNlMEgNZBljUmM7lGvc4nRmRmShCmyoVW1SkliBpblso4cA4Tk1GXpBbl4hIJxE4MdyyvBlIEkhqMSAYqAAURRysV9ZinRKgVXcumXwvscFhmTFDCRRskxNsXExKxatapz585/+9vfWrRoMWvWrBs3bkhYQkICxk2sPAYEBHBLIz7fjVVC7OlLTU0NDQ39/fffd+/efeLEiadPnwKDFmIknGbiGoWBhhWampp6+PDhsWPHurm5de/e3d3d3a3q+OCfB5L42717d5mUco8ePVxdXUHSo0ePzp07e3h4LFiw4NatW/ikGG7qsaGXsUkBDcbLPrOoRwNj7oky8pOOBEPAtUFRyiRIlE6Jnsos5MqVUL58JqnslCWt9IvS2UmiGBpaKf2eGOqpgUC9Hgmz6FextSdJEghoGnz4Fu/S4JLP9w7xwgJ6OC+HComdSXvCM8MoowlgHDsYAGEEMAsCOhVguHvDiYBPq+B04D4N7sRQorLoPETCnUxSpsD4qYEgbd/P70TzNFYEfFUJ5UE0BQUFN2/enD17touLS506dbp06bJy5cqnT59iBo4POkVERCxdurRr165///vfmzVrNn369PDwcHlmFhQUVFZW5uXl3b59e+PGjdOmTQsICPjkk0/Gjx+/ZcuWqKgofBIKHtEFISutheooLS1NT0+/dOnSihUrJk+ePH78+HHjxn322WfjjY4JlsfEiRPHjx8/adKkcePGTZw4cdy4cZMnT96wYUNMTIx84Q9vuWCktmgbJYvTZFwV+PoEXo3g9Bn3RBzdIOh/cRPE2zSwgZmLEhAqq15BAT+vLujieoQ11ci+aL+tbEf7rTiumZ0YhlT0RXNDmLWSJBCwRwKzBLzDh/V3fHGH9zpc+VHMa5S0Dsw6l/dnGMv0x8RKJGBTlPgGGu+WUNLU1NSYmJjw8PCIiIi4uLjs7GxcCXANsI5K90I8XMskZQqGrc+YAXs/s0WSKgJWFeXAlJ2d/fYx8eeff+7s7Fy3bt0ePXoEBgampKRgEldSUlJQUBASEjJu3Lg2bdrUr1+/c+fOy5cvf/z4McZWEGKIjIyMXLly5fDhwydMmPDFF18MGjTI3d19zJgxhw4dev36NTsxY+DVRgaJWiguLk5NTY2KirpVddysOm7fvh3+zwMa5N66dQtJs78RERFhYWE3b968ffv2rVu34uLiMjIyMKzgSsi5AJuKgoyN7ceLDVYJioqKMqqOzMzM1NTUpKQkvJWRmpqaXnVgtTMjIyM1NTXtfx7ISklJSUtLy8jISE9P5xsdyEqv+kxGRkZGWlpaSkpKUlJSYmIisvDNC36EjTH/ewVZY9VGQjCQ7BIWhjABQMoWJnoW/ULApQtfn+OkoaCgAE8+uNcVPAQoJOzhil5J6sHYr7HZbJmZmVlZWbiQYzLLt/vhSGdTAuDWC3b+zMzM69ev//TTTzOrjl9++eX+/ft5eXk01Dl1DcE8TVghOrhaDdmAfD/DooVX+fSjrKwsMzPz2LFj48ePd3Z2btiwYb9+/fbu3YvzDQNHTk7O/v37fXx8GlcdPj4+QUFBCQkJmMhgQCwrK4uLi9uwYcPIkSOnTZt27NixM2fOLFy4sF+/ft7e3uvXr3/y5AnrCJ+rgDnjVGoB3+zh9I3PuImHwOGJ5orACR2f9vBmAaXjHSjmCLJF4UInlDGA9sWLF+fPn9+3b9/27duDgoK2bdvGv4GBgb9UHYGBgUFBQVtNDmC2iCMwMHDr1q1BQUHbt2/ftm0bzHfu3Llr165f/x/y3sOrymvrF77/wb3vSU6MSpdeBFEQBKVbsAR7792osQZLjDXGGGPFaNRo1Nix5qjYUFEEY8UIiiDSpIN0RCwfr7/v/Mb81rP3ZoPm3HeMbw8HzjXXbKvN1dfz66/btm3bu3dvTExMbm4uxomo69K2jwsjH4yRKXOsQXoSN0hJAllGxltFdgDUCwD7ihhAAYPvnR4/fvzixYvJyckVFRWssfTdUoiUL/EKLMmaAOMjtEePHo2NjcUHZKre/6BFCpQYxQbpFnGIOCEhYdWqVf7+/o6Ojra2tj169NixY8fTp0+xOcn1BK0crUapl01ekhkJUxfoP45bRFPR/uUYEB6nrq6upKTk7NmzY8aMsbW1tbS0DA0NPXjw4IsXL/AQd21t7YMHD1asWNG+ffuWLVva2dmNGTPm5MmT/M4ZPgVXXl5+6tSp8ePHjx079siRI/n5+bdv3164cKGPj0/nzp3XrVv36NEj1Gb0bw1uccg5Jnwf55iMok80AKBEwYIUgRiLCVhexC4QHKhSqCgS2Q6JIWVVVVVcXNw333zTrVs3Hx8fX19fPz+/jh074o4HMX5+flji5NJnh3//vL29O3Xq5OvrCwQJvL29O3To4PX+5+PjgxsjHTt29PX19fHx6dq164IFC65cuVJcXMyGamSdawIZ09sgLyu0FtDykkaJIh6AEsug4ViSEaBYYgBgRQV7jFVVVTk5OUePHp04cWK/fv2+//77+Ph4PD+KaZY8uKZPID1CYy1UDFOCaIw9evSYPHnyv/71L36AWyGDUvTZ2toL29hqCgsLo6KiJk2a5OTk1Lx58xYtWri7u8+dOzc+Pr6iogINlslUAKlXRhEPJIPGA5QGlo/jFvWpR/tB6SJ3ysrK4uPjZ82a5ejo+Omnn3bo0GHbtm3YZa6pqXny5ElERESvXr0wxXZ0dAwPD//zzz8x3cDeQm1tbVZW1t69e+fOnbtly5anT59WVVVduHBh/PjxrVu37tmz56+//opPSlIvpgD6jOTYHllDD65UNa3T12LwegUqPaWht+QmHbsKpSSkedLvkAxAdXV1XFzctGnTbG1tP/300+bNmzdr1qxFixatW7fu3LnzwIEDh73/DR06dPDgwcP/vz9EDRs2bODAgQPe//r379+nT5/Q0NBOnTp5enpaWVl9+umn//t//+/PPvusWbNm/+f//J9//OMfJiYmzZs3Nzc3Dw0N3b59e2ZmJp5N5V1Xafl/HlbyR2eQVjGWGADEA5BISSljJV4fTLEKATpOLNgVFRWdOnVq1KhR7dq169ZmEmLRAAAgAElEQVSt26ZNm548eYIvEcKV0C2yQirSGNSnjgSNBZ4/f75jx47OnTs7OTmNHj369OnTWA5S5KBKG3CLWKSG/UVFRWfOnJkwYULr1q3/8Y9/fP75556enosXL05ISGDDUeTrDDKx0hE3toAomdKA+ThuUesggKFblK7n2bNnuMHy+eef29nZTZ069eTJk3fv3o2Ojl6xYkX37t3t7Oxatmxpamrq4eGxdu3aZ8+eIUMhpLa2NicnJy4uLioq6sGDB1j+OHjw4MCBA9u2bVtfvf71r38VFBTw6jESLB0N84IAd8Qw1UUB67zlQhadAIeo6PRIg2t8tB/VvcFaDnYWGIs/IyNj586dvXv3dnBwsLCwMDExsbW1DQwMxFeSr1+/fuPGjdjY2Pj4+GviF/P+d/X97/L735UrVy5fvnzhwoWTJ0/+/vvv27dvX7t27fz580ePHt2zZ09PT08LC4vmzZubmpqam5ubmZl5enp+88039+7dQ+pkc2VKGws0rR5r80SnXpIxVovRF6WTEkiyNAjoFAIuLAeVlpbGxMRMnTq1ffv2PXr0WLdu3Z9//olTGfARrDM6dbEiIdaAOp3sDSKrq6sfPXq0bt26gICANm3aTJ8+/fLly9geQRuhBKpmLWWUbLzYU71z586yZcsCAgLs7OycnZ2HDRsWGRmJKxj6DtJJaYB1agRSH7EWTwylAfMxn4qgaAkg+9Bd1NTUvHv3rqysLDY2Njw8vH379qampo6Ojt27dx87dmyvXr1cXV1bvv/htbHAwMA9e/YUFhYis+Dp8OWz6upqvtT99OnT9evXBwcHe3h4zJw5s36nGye64YzooQx4RnhDGokFQWWNgzloAMCRCzhZVlk5L+CxIS5f6qtGzEOpDuPfly9fJiYmrlixolOnTlZWViYmJpaWlm3atJk4cSL6cw6TMSrBX9qDlsYvEcKkmpoa3KUpLCx89OjRqVOncJPS29vb2tra1NSUaxpnz54tKiriSSNpXoOwUgRMI4AG2UkgGYlEumQyZRRgMiKo2CPpFUrJLskMwzqF0M7q6uo///xzwYIF7du3DwgI+P777//888/CwkKsKqJOGr7OryRWnzrDRhqIxf2xO3fuLFy40N3dvW3btosWLbp58ybX4pXaCwO0AlEh8bempubFixc3btxYv379jBkz5syZ89tvvyUnJ5eXl6OZy8uCSgKlZCZW2qDPAH14CqQ0YBrnFhVmCgUgY5Ee7ALDL8A/4iBIRUVFbGzsypUrQ0NDkd1ubm5eXl7t2rVr3bp1q1atTE1N7ezshg8ffvr0aZxDZJ5ikgs5+PbLzZs3Fy5ciCOG33333aNHjxTDGgzKnCWxRDJpQCpBySKjCBsmYDthKwUjuQi8fPkSJxhevHgRExMzffp0d3d3CwsLU1NTKyurjh07fvvtt/Hx8WVlZWha8roCDn/gTVPtFQWJefXqVVlZWXZ2Ns4/DRgwoHXr1nizIyQkZMOGDVijYOokQJ9LJI1vAoAMUXKD5cJYZeRijCJFZoMsjaWHQHQ22GfD4Fpmy19//bV69erg4GB3d/cZM2ZER0fjdiy6MfRbTet+oJ26GgQMJB+bJFFRUePHj3d2dvb19f3hhx8eP34sN4Vw8JCzB7R96dFQQDADDbmsrCwvLy8tLS07O7uoqAiukG2cRdzgjAoyDdivM8pAhoC+ce8t6jNCH542YU6NU3JlZWX45smTJ0/OnTu3bdu2VatWrVy5cuPGjevWrevfv7+trW3Lli09PDwWLVp069YtukVKkwBecqzfmWnTpk337t23bdv27NmzBu2REjjIN4BUBCKoIBV2bVBy0b1qyQxUBa4MvH79Ojc398CBA8OHD7e3tzc3NzcxMbG2tg4NDV27di2WaTDckMNSKOXwULv0AaeGZ5+xgJienn7hwoU5c+b4+vqamZm1bt16+vTpsbGx2Pti9WXSPq5bVDKH7Y3qGlzVUiTIII2XSH1wY8uacnjeloco8FBASkrKzp07w8LCnJyc+vTps2/fvuzsbEyckUwWHEU1FpC51DT74dbfvHnz/PnzPXv29OjRw8nJaeDAgZGRkVlZWTyqhZEKO3V289JgtH0IhBvlyAZRIGbayWvYcsOxFGIkwCrRlNGiVgeNYxfB+orMQlMsLy9PSko6c+bMnj17Ll26lJGRUV1dXVxcnJaW9vTp09TU1EOHDg0cOBCzts6dO//222/Pnz+X9UPKx1ZGcXHxoUOHUGAjRow4fvx4Tk4O7GEiWU7EawGdidIiaQCjpCgitYAkk4ZpKdFnGqDBjjZOKW3ZsqVr166tWrUyMTFp2bKlk5PT0KFDDx48mJWVxTEUunEe+EAl1urF5jjnR7W1te/evcOZqpiYmIULF3bo0MHOzq5///4nT54sKSlRJCCBQMrEKmRNCKIK0YnLnMG6h2xXTZBvDItMnTH0oFHGs6g8WF+7fPnyjBkzXN7/FixYcO/ePV5dRYVHpdXXZxtvw4dIePPmDa26ffs2DMYS8507d+DjWDqsYFrbMF9kxcbEhZd9kV7ZW8si1ua8rF3aWK124zHU2xS3SGaOa4hBHil4mF5WVnb37t1169YNHTq0S5cukyZNOnToEL799O7du5qamgcPHnzzzTfe3t7m5uaOjo5jx469fPlyRUUFv5IKLVJFXV1dRkbGzz//HBAQ4O7uPnPmzCtXrmhbLPNFm6HEkIYAo5g6ulfSyJRKMkmg0EAsCNhsFKQMSlFoV7hsgKPvcXFx3377rbe3t5WVFd45d3d3nz59+rlz57ACyM+34y1Iwx6ENy5Qg9GrwzNevXp1zpw5np6eISEhmzdvTk1NxfCHxYFkwlpmnTS+CTAdujSbrYsZjvmmXJNqgi7DLPpKpEEuWgsAruT58+fbt2/v1auXi4tLWFjY77//np2dDRePtHBoacDXGFb9UWJhDHbMMzMzt27dGhISYmdnN2DAgMOHD+fk5MBpcq3MgFIObrhEUFlZyT4YRQkadueQps151i4CBvQ2Koo1qolukQYBYNsgXrGmpqYmLS1tx44dvXr1Mjc3b9mypZeX1/Llyx8+fFhZWfn27dv8/PwDBw707dvX0tLSzMysW7duP//8c0ZGBqeNOp1LRUXFvXv3Fi9e7Onp6evru3LlSnxMShnT0SoDgGKwVp2WABgp0xga0INScYssFUkjZSI32FTevHmTl5d35syZ8ePHt23b1tTU1MzMzMrKys/Pb/ny5bdu3SotLcWpJhym4WRH2qzAeN0D86PKykqwvHz5sqio6NixYwMHDvTw8MB3dbRukZkmbf4QGC0EuQSHgjEFbGYsbo7Sp3+IRn28+kpEHz3w3G2TZOXl5Tdv3gwPD2/bti2O7N24caOkpAQlpTgFyUiYRUaMkQAZFYDsxAOD0sfaaGlp6eXLl+tHMw4ODp6engsWLMAqtqzDlKMA2L2EE+QomB9SVySwS4YQmCQF0kgCMtYYmIxaAOwfwS2ieaBJYKaD5o3koXOorKy8c+fOokWLPDw8Pv/88xYtWnTq1GnTpk24voKnxiZPnmxvb9+sWTNPT88lS5bcu3ePKxGwlR0OchaHwy9evDhx4kRnZ+cuXbpgYZFjOmQ326o2CyRGm5tUR2+lpVGE6ySg8QbUKVEIaqVxVRt6UdvS09N37tw5dOhQNze3Vq1amZub29nZ9e7de/PmzU+ePMEuDUTB5XFGg85D/uWOPG/jIO3IiuTk5Pr3lsPCwsaPH3/p0qX/gFtUKhVOyGNqj76BvvKjlJE2w4nRVyIk0AnIsw1Y83n9+nVeXl5kZOTw4cOdnZ2Dg4O3bNmSkZGBHoj9FnsCNCgpXKkqMqpBWPJKGIxazNu3b+W9g5SUlLVr1/r7+9vZ2fXt2/fw4cP5+fngwrxYnwGgQcNks5Jr3/QbrG8URV4Fo7WWBA0CkleBwds4t6joo0TildqJ0Q2e7L9///6yZct8fHwsLCycnJxGjRr1xx9/5OTkpKennzp1avLkyc7Ozubm5r6+vgsWLIiJiSkrK0P/KTsTyOeKUkFBwb59+3CyZ+TIkVxYpD1GAorZ4NKmjtIYpZORZAoguXQyGkOAh9Rwvh0traqqKjExcevWrYMHD3ZwcECv4+zsPHTo0P379z979gxVli5PsUoGcQOHwlmPYVhpaen9+/d/e/9LTEzkIXmazU5CyjQGpgQtAHZ0rnhlAC+nwt3jxV9OVLXsOjHGmKTQ6JRDpELMIL0bRt+YbOLqiJ+fn7u7+8SJE8+ePYtNRVYJWeGb5hZhGM1oEJAaZaJwSZHn1UpKSo4dO4Zq5uvr++OPPz5+/Bibb2iSVKQYgDE+6iGyAptLHBqDXZqhTxTxABRFSmxjgyyCprhF7RRVJg9pYz8PAJ/W27x5c0hIiLm5uaur64QJE/bu3Xv48OFVq1b169fPwcHBxsama9euS5YsuX79emlpKQebcjijqM7Kylq7dq2vr6+Xl9f8+fOvXLlSWFgozxsyXxRG4gEwOyReyXGmi41fIVDwiJU0EiNhKgUSmanPJHQVPMgJgOu2ISEhtra2FhYWLVu2dHd3nzp16vnz53G4Hflp2INgCY82I8gFvqqqKpyryM7OxhtFsh7DYPIyUcYAMjckzGnBy5cvi4uLnzx5cv36dXxS8caNGykpKcXFxTz2bCD/pcyPa2GD0lCaOABYW1tbXFx8/vx5TEW9vb2XL18eFxeHj2qwilIma77MQ5kWiZcwJUikAVgpR7IDjwaFd79jY2NnzZrl4uLi6uo6c+bMa9eucaGGUxmthVzJ4cwSxrC+cbTInpjW0hhiJGA4VlIaA7PRNc4tygRLgyQM9cQgwTgKd+3atdmzZ7dp06ZVq1Zt27bFx+ZxhLtt27bDhw+vP7Jw//59Xo3kE2zV1dXYt6qoqMh9/8O3VhISEr755htXV9dOnTpt3Ljx4cOHBvZb2GxkBmlTJDGSUkkXpUl6CWt5dWIkC2CdZFrtCqa0tPTatWvh4eEdOnTA6q2lpaWvr+/SpUtxxxYtE8eDMZHhLJhlJI2RZhCPWqs0YMayVkleCUtKBcYgApI5DkWzycvLi4uL27Fjx+zZs4cNG9anT59+/foNHz48PDx8y5Yt586dwwMW79694w4ALGFPxskpCBCLYQ6WC9hb8NV0WEKnhm0H/OX8ncMonAZFF8VtVqznYskCQ/U3b95kZWXt27evZ8+elpaWfn5+ERERaWlpSK90DXV1dXAlmFzjUj/cEw/x4EDCu3fvOBvAy0yY9iLtdEOQQO+McSuyBQKV4mAQtrFkk5OTV65ciXuiffv2PXbsWGlpKWIVObLcAVMmpRGQxERq6VmgMurjwrCkce8tai2QCVbSxuRVv//V1tbm5+efO3du1apVw4cP/+KLL0JCQjp37tyzZ89x48Zt2LDh4sWLeMUaKxqQhnqJaV1ubm50dPSGDRu2bt2KD7YcPXp06NChTk5OgwYNOnz4cEZGBuq6tETCsF+LQY3U/pWUWlibGxKjpddiJL2EtZTAgEbGAvP27duqqqr09PQjR46MGjXKxcXF3Nzc0tLSzs7uiy++iIiISExMrKysxJltNBUwsvGghdAGqYKuUCK5QkQWAJLGeBgmcVgqgadPn0ZGRn755Zfe3t6Ojo6urq7t27fv0KGDi4uLtbW1u7v7iBEj6hdS7t69m5+fj+Rwfv327dt3//69fv0azguuAU97cbESOfNv2v8+loTf2/c/uOzy8nJ8OwVLtBD++vXrsrKy4uJifNkR656s8PQ+yK7Xr1+npKREREQEBARYWVn16NFjz549OE8GV4smA2JkO3pfHCeAF8Z8E6sH+NhGYWEhroggFbg7yNbHkoJrZg+B8kIyDZQUygJcOPixefNmPz8/c3Pz4ODgHTt28OX5/4BbpJ1KrdMXJL0C6KNnpjXuTrRWHPQBL3UDw51T1Pu6urrS0tL09PTbt29HRUUdOnTo+PHjV65cefDgQVZWVmlpKQ6RyGqBThufSI2JiZk7d66Pj0/fvn1//vnnU6dOhYeH427MkiVLbt++zXe5tXYSI42k8VpkozDMTQNadAoEvYzSYpRYGQTMixBVVVWpqam//PJLr169bG1tzczMTE1NnZ2dx44dGxkZiVPuuDpJ94FWh76HXbFWBUpB4tnYmGRpuYJkUEqQMN2i3LplcoYMGQInGBQU9OWXX65bt27jxo1TpkzBsSRHR8cBAwasWbPm9u3bmOZnZ2enpqY+fvw4MTExKSnp4cOHT548SUpKSk5OfvLkyfPnz0tLS6urqzMzM1NTU5OSklLe/56+/z18+DA1NTUvLw/3fJKSkm7fvn3t2rXLly+fOnUqMjIyPj4+KysrLy/v6dOn9+7di46OPn78+OHDh8+cORMXF/fkyRM5X4E/xRIwMuH+/ftLly718vJycHDA/X3Q0z3BP8IZoTkgcyoqKnCStLa2trS0NDMz88GDBxcvXjx69OiBAwciIyMvXbqUlJTEm7IoWc5pMBxme2R3iAGHLAsJw34s6dbW1r5586awsPDQoUNffPGFpaWlp6fnd999h8MkPKNjoKwZJduLVAdYxpJFISPeMKBwNRik6r/dLcpJBPqct2/foo/Nz8/H2tCbN2/QUfPTK5jawEqUZW5u7qFDh3r16mViYuLp6Tlq1KgJEyYEBgZ26NBh4sSJZ86cycvLwyxG6bVkxunLF0mjhfVxfTge/kjKYZcgkQ3CfP6+tLT07t27y5cv79Spk5mZGa6Wd+zYcc6cOefPny8qKsKES0kjBiZ8z0KrDnay0pBAkUMCLR4YMioAGMkFSzIyMvbv39+3b19ra2tbW9uwsLB169Zdvnw5Ozv72bNnly5dWrp0aZcuXczNza2srHr16rV9+/aUlJTHjx8fOHBg9uzZo9//Jk2aNHnyZDy6PmHChK+++uqXX365ffv2w4cPd+7cOWPGjNGjR0+ZMmXq1Klffvnl+PHjR4wYER4evmfPngsXLkRERIwaNar7+889f/HFF0FBQWFhYYsXL8ZLl+Hh4YMHD+7Zs2fXrl0DAgKCg4OHDBmyePHikydPpqen8xYQJqFv377F8mh0dPTMmTM9PDzatm07a9asK1eulJWVsVviIQFkCJwXx85v374tLS1NTEw8derU8uXLx4wZ0717967vf4GBgV988cWMGTN27dqVmJhYVlZGP8guDetO8HE44wkXbKDcIYQLC2/evCkrK4uKiho9erSDg0ObNm3mzJkTGxuLhwFZfPrKWhKgArDCyPpApJaeZDLKAEx6IwGq/nvdInayMKrn8ip6MO4mo5xQZjCLcz2OHaqrq4uKis6ePTtu3Dg3NzcXFxfMpDp37jx79uzTp09jdQns3PjX5pe+3EHV0f41XoI+yYbxH8st4isOWAQoKSm5cOHCV1991aZNGywy2tjYBAQELF++/M6dO3jxl1YhgTqnyaSRRzQkUufoUptjEiPZtTBqCNJSVlZ28eLFSZMmubq6WllZBQUFrVy58vbt24WFhSimsrKyy5cvz5w5093dvVWrVp6entOmTYuKioqJiVm2bJm3tzeuirdq1cre3t7Ozq5Vq1bW1taenp7h4eHR0dExMTFff/1169atcS7C0dHR2tra0tLSysoqMDBw1apVhw8fDg8Pd3V1/eyzzz755JPmzZt//vnnFhYW3t7ePXr06Ny5c/v3v4CAgK5du7Zt2xZPnLi7uw8bNmzLli137tzBEjk2YbFQmJmZiVWOtm3bdujQ4dtvv42Li8Nb3Ox4WCV4JxpDtoqKiszMzNOnT69YsaJ///6urq52dnZubm5BQUGhoaFeXl6Ojo729vZdu3b94Ycfbt269eLFC3SxbA4YNHCJGYVOddriIAYjQbCXl5dfuXLlq6++cnNzc3V1nTx58oULF/gEp76yZjWjTFISQ4C+iRidACUYAHQyGkBS9d/rFqVf42Ed9H4cxqPe4EIFCwnn0eA6gayurn769OmRI0eWLl06efLkCRMmzJs3b8eOHXFxcYWFhRghKhMHbX4xRxClBLX0+jBk/EBAMYNTngbFKoxcF6+rq6usrExLSzt06NDQoUMdHR1btGhhZWXl6OgYGhq6ZcsWnKjg5oCcC2Msb6RqlpRCry/HFIMVLlQGTCSRlidPnuBVJDMzM3t7+wkTJuC9OB4JrqurS05OXr9+fefOna2trW1sbMLCwnbs2BEfH3/8+PFly5ZNmzatT58+np6euCBgYmJib2/fs2fPn3/++eHDhwkJCStWrMAaWcuWLXE6IjQ0FKPFU6dO3b1798iRI/PmzRs8eLCHh4epqamJiYmpqWnz5s0tLS39/f2nTp26efPmQ4cOHT58uP7l4/qbws7OznhnqFevXmvWrHn48CHGjJgFv3r1KiMjY9euXfU7Fa1bt+7UqdN3332HiT9yQ861WRPq6urevn1bUVFx9+7dnTt3jhkzxsPDw8bGpn379uPHj1+/fv3BgwePHTu2adOm8ePHu7m5WVlZdenS5aeffrp//z4WHDE0wRQYzR5/sbqKF0KV4mAQlHCs6I3Ky8vx/JW7u7uTk9PIkSP/9a9/FRcXc22UFYBCmBYthm5IiZJBAzB16QMM8OqMoj1/r1uUn62RqxhsJMhrZByXdRFkb8b5SE1NTUFBQUpKyr179+7cuZOWllZUVAQubNhhzA+3qzPZQMpMBEY7TgRGUmphAyqMjNLKBMYwu+QCJcaJmEpXvf8kyKNHjzZv3hwaGspBkIODw8iRI48cOZKTk4NMQ3axKmjdIhVJe+BJDbtFSW8kDM+IbC8tLT1//nz9i9Dt2rUzMTFp06bNkiVLHjx4gMU1bozk5+efPHly9OjRjo6OJiYmgYGBq1evfvjwYUFBARb+jhw5MmvWLA8PDzyl4erqOm7cuDNnzpSWlpaUlBw+fHjgwIF4Jb5Lly7h4eEHDhyIjY1NTEzMy8srLy8vKCh48uRJ/VttU6dOdXV1NTMzs7CwsLe379Gjx+rVq2/cuJGXl1daWlpUVJSamnrw4MExY8Y4ODiYmJjY2dnBR+OpIcxSX79+jftz3bt3d3R0DAgIWLNmzf3799ENyOSjXDBQePXqVXl5+aNHjzZs2DBo0CBXV1dra+vOnTsvW7bs8uXLz58/x6eAnz59umfPnt69e1tbW1tZWfXr12/fvn0ZGRkYWGDKXFVVhW3r6urqsrKykpKS0tJSDFb0lREqAOzBWL6ysvLWrVu4l+Ho6IhnIwoKCmA/KwwrFSQDL7WQUiJJrEXqxFCIPkAnF920Ti6w/L1uEeN/7rdIfycnbmhjGKuzraL/qamp4bAfC44YGPKOGmUyC8DIoBaQ2aGN1WIkvYS1lKgcWrwBjBQI2AAxoiQLMBhnYTMUh0hKS0tjY2MXLVrk4+OD1xItLCw6dOgwZ86c6Ojo8vJyrsBi5KjNNKkFBSQxKD6tqYaTICUoMD8S+e7du7y8vL179/bt29fKysrc3Nzd3X3atGnY7rh161ZsbOy1a9fi4+MvX768ZcuWgQMHOjo6NmvWzNXVdcmSJYmJiSiF6urqgoKCqKgo3BSwsLCwsbHp16/fgQMHnj9/npOTc+DAgT59+ri4uHTv3n3nzp2JiYkFBQV8qRMb9+/evXvy5MnKlSu9vLxatmxpYmISHBz8008/PXz4kNsX2BTOzs6un7t06dLFzs6uRYsW9vb2U6dOvXLlCjYSkdv4AFHnzp0dHByCg4M3btz4119/yV6cLhJd1Js3b8rLy9PS0nbv3t2nTx97e/tWrVr5+/uvXLnyxo0bxcXFcJ14NCA6OnrKlCkeHh74MNz3339///59EEBFfn7+nTt3oqOjT506dfjw4UOHDkVHRz979ow710qJMIgmxrH8vXv3sGvk5OTUt2/fffv2YTNdcTeybkCUFqN4TxDoREpewrTwIwIQ3ji3SINkFkikAktzZZQ+vKQBTEpGSQzHLBzuwTC6JxJLgKIIyFgJk8BIQPJqYSOFGCDTygQGLFh5wMZ0TU1NYWHhmTNnJk+e7O7ujl3pVq1aBQUFfffdd3fv3uVxM3DhiA+zUQEgn0iWPscReAUSzQ9+GbNdFoQsF5kKuFfuY4I+MzPz559/DgkJsbKyatmyJS7hBgcH9+vXr0+fPl988UVYWFjfvn3DwsICAwPbtWtnbm7evHlzd3f3BQsWwNGwDT9//vzIkSNDhw51cXExNTX19PScOHHiiRMnoqKiZs2a1b59+86dO2/cuPHZs2dwSfwoM6rWmzdvsrOzcaTGzMzM1tZ26NChmDbCcq7flZaW3rp1C2udZu9/3bp127FjR2pqKmhqa2tTU1PXr18fFBRkZ2fXrVu3LVu2pKSk4PghchjzaPgp5G1WVlb9KYKRI0c6OzubmZl5eXl99dVXly5dKi4uxhQBTqSysvLBgwerVq3y8/MzNTV1cnKaNm1abGwsVGN0cu/evZUrV/bv3z84OLhz585hYWHLli3Dp4ahV+5zsrywDobEoqo8evTo+++/9/HxsbW1DQ0N3bVr1/PnzzGWNFB1GcXSJ8Z4gLyy2rOHlrEsHSKlFiIlIAngFs+fP3/ubNT5qHOG//0vpWGgYLSTLyrQp1UfnowS4PYc2gwncVKvvh5GKiIshQNmQhRAS2kYQxU6AcO8xsTqFMtWh4bElazq6uqcnJx9+/bhTcbPP//cxMTE2dl5wIAB+/fvz8zMpEYsU0gXxigJKKWPtoSmwpN62LUEJUf3MImimAoFw6qcmpq6du3ajh07csuobdu2nTp1CgoKCgwMDAoKCg4ODggI8Pf3DwoK6v7+17Vr1wEDBtS/14kTmlAB+Y8fP96xY0fv3r3xlEbHjh2HDx8+ePDgDh06oJO4c+cO9nmwiIaJiE63aGdnN2LEiLNnz7548YLWQldVVVVaWtqmTZt69OiBLxHxPQVkb21t7TFEuP8AACAASURBVOPHj3/88UfcKcYnLfElIvogvHmBc+CvX79+8eLF1atXw8PDMQa0srKqT8Wvv/6KlwTg7FDza2pqHj9+DJ/bokWLVq1ajRkz5syZM1h2x+3b5OTktWvXDh061N3d3dTU1M3NbcGCBX/++SfWXvA2O3eo6eboFrHzBkXr1q3z9/e3sbEJDg7eunUrZusG6o9Sc9jKWAGMBFhzZPlKXhIAyaDiHyReiQKjdIsXzp1vwC2iriiCOO1VlClk2liFAJVDJpIweRUaxVFCoCweMgLQZpbEU12TARa/AnxcLVrzUC6oyqhzHC4lJCRs2rSpZ8+eDg4OpqamrVq16tq16+bNm3FXGjNBsMhLk0q+6bSf+2mwB0NFTMaxjYZGjlh4HK3l5GWp4UtnP/74Y4cOHfDquLe399SpU7dv3x4ZGXn8+PFjx46dOHHi6NGjx44dO/z+d+TIkcjIyKioqD///LO4uBjDVfSa7969q6ys/Ouvv9asWRMcHIzTPPb29jY2Nh4eHtOmTbt69WppaSlfuKI7kG5x8+bNgYGBZmZmOGx4/vx5nIBRamNJScmpU6dGjBhha2vbvHlze3v74cOHYykTPQTdoq2tbc+ePXfu3Ik5LIsPxcGpdFpa2vbt27t06WJlZWVhYdGuXbvp06fX76GDAJmMUqiurk5MTPzpp58CAwNbtmxpY2MzYsSIkydP4uNx+LJzSUnJ3bt3d+zYMWTIEEdHx6CgoF9++SUtLa22tpZPQuD8ljx7wFJG7/vy5cvk5OQNGzYEBgZaW1v7+/vXH2NKT09nS9RZVfT5DX31oUG8Ti2GuXRWacUFIfjy5Uu6xfNR5xp2i2jtUC9HbUaqJJm+BOhLLb0MKiJ7G7YlnZKJVMQqeJkQSgagz059eK1kidFyyVgJaykNY7iGy/xBol69evXixYtr164tWLDA19cX2xczZsw4e/Ysdg+xHMnrYtIGnbDWDMzZsf6LHTY87l1VVYXdAKzWyZamTwgaT21t7dOnTzds2NCpUyf48U6dOv3000/4enJNTU15eXllZSWWR+HOXr58CV30FCw+5ExFRcXVq1cXLFiAPWXsFw8ZMuTIkSN5eXlcV8X1GD7ChuDz58/hFs3NzR0cHEaPHn3x4sXy8nI6AgwbMSK7du3axIkTbWxsWrZsia2P48ePI6v5cfPOnTtj32bHjh1paWnyWSNezayrq8MnjxYtWtSuXTtTU1MHB4fQ0NA1a9YkJSWhaDharKurq6iouHHjRnh4uKenp5mZGT748ccff+AwLx6+rampKS4uPnPmzJgxYxwdHcPCwo4fP44DTzgMBEtQheAgUCJUBL3JycmrV6/u1KmTtbV1UFDQ1q1bMXpFnrPayFL+EL8h5SiwTl2gQZSkJ7EEJAET3mi3SK9BL4sES00Sllr14bU0EgNY5jgw1MsgAGiRsMRo8dpY0Hzcv/q0AK/921jtBtxiVVXV3bt3v/vuu+DgYFdX1xEjRhw9ejQ7Oxs7LZxxcyyg01RaqBgmueAdCgoK7t27d/ny5dOnTx95/7t8+XJGRoYcdChCEMT1GwjJzMzctm1bcHAwpr2enp6rVq3CI2nY38AdOwzBcBcAt/Sw04ragk1Y1PW6urq0tLSDBw8OHz68devWJiYmcHAXLlzAd29gnhysIcl4r//nn38OCgoyNze3t7cfNWoUuNiK2Km8evXq3r17X331lZ2dncn7X48ePQ4fPgzXU1dXl56ejjtITk5O3bp1i4iISE5Oxm1lqGP3j49S1N9nHT16tJOTU8uWLV1dXUePHn306FF4OhjMtd3S0tKzZ8+OGjUKqu3t7fGKM8+KYyyfnZ29e/funj172tvbjx49+sqVK+Xl5TgmjCrE809w+uyoONyrqalJTEzEyVC87fLrr7/m5ORgx4xk9A8o3A/xGzprC5D6qqUsGrKTWLGNBORqtFvk6EyaJfNC6lbUyyhpioRBIzGwVeqlHOpldw1i4kmpFcgow4DC2GCQxa8A0NIge5MJkGTtJLqmpiYlJWXXrl1Dhgzx8fEZNGjQrl270tPT0Uik45B1QjGDiyQKniy4mwQnFR8fv3z58r59+4aGhgYGBvbq1WvZsmW3bt2Cx9GXD2jk2Hx49eoVbjT16dMHjdzNzW3RokU4y1JbW4tj0njbGX9fvHiR9f6XmZlZUVEBSzhCwWCwpKTk6tWr06ZNa926Nc4eBgYG/vjjj0lJSXztHPvFeJQEpr558yYnJ2fLli10iyNHjjx37hxPxbP+oIreunVr6tSp+KJvy5YtAwMD9+/fj8tFtbW1+JJt//79XVxcgoOD16xZ89dff/H1Cu6VIa8yMzPrL+T06NHD2tra3Nzcy8trzpw5169f54hSMubm5h48eDAsLAxXm1xcXGbNmnXnzh20Qb4lkZKS8sMPP3Ts2BEfHkhISIAueeECVRe9JsuL6/hVVVV4+NnLy8vOzq5Xr1641o1FEuaGUlVk+5XVRiFrMMgyJSUtJAaAFk/bFL8kGRHVaLfI1s7s1hqqqKE1Eq8P1loMdp16mb9aaVQKgARKkHj20gpAAgVQ5DOosDOoT68itslB1Frtlktubu6RI0dGjhzp5eXVs2fPDRs24J1E7JOg6stsZEK0BaHTNjlmwem8+Pj47777rnfv3q6urs2bN8cnNO/cucPzQDolQy/W/mtra1+8eBEbGzt79mxPT098BXvixInnzp3DJTN4T/QEGGPev39/27Zty5Yt27Nnz5MnTzCVRhq5L4TH4Xv27Inv3pibm+NC4c6dOzMyMurq6t69e4fvQIAFA2G6xeDgYAsLC5z9jIqKwsN3cLigxwHD8+fPjxo1ClsulpaW3bt3P3LkCE7S1NbWPn/+fN++fUOHDnV1dQ0ICFi5ciXei5ILrzje++rVq7S0tPXr1/v7+5u//3Xp0gX0UAfVKPHy8vKHDx+uXbvWz88PR9Ox7PD48WNmOw5137t3b/r06c7Ozv7+/mvXrk1NTcVTPRhlQzLKkX4Q5c5ZBZ4Wx3KEo6Nj//79Dx48mJubi6qus5JgNI0mbKTf0CeHDYoE+lqWrMlaGq0ctAKK5driubNRDa8tSmUUYQDQR6/0HkZK0CYPjNTCYSMxksXAqMeAATqjFPkMMrsVQJqhU+BHQdIR4KpZYWHhiRMnpk2b5uPjgxPICQkJdIIwiSNrjB9Zd5kiGGagvOAZIbaurq6wsPDu3bvbtm3DXeaQkJAtW7akpqaiaBSxTDUdOizHJy4iIiK6devWqlUrCwuLrl27rlmz5s6dO9hRwRjn7du3oNy5c+fgwYMDAwO//fbbe/fuYXCEHSQY9vz586NHj44YMcLLy8vX19fHx8fFxcXS0tLZ2XnEiBF//PEHL0phRgk/hTOzOTk5W7duhVt0dHSs72PgFuFQIB/5U1xcfPz48SFDhuDTlTY2NqNGjTp79mxJSQkMLioqioyMHDVqlKurq7+//4oVK+7evYu7KPA78BoY7SYnJ//www/Yd2rVqtWQIUN27NiRkpJC21hYxcXFV65cmTNnDt7os7e3HzZs2IkTJ/Ly8qAX5pWVlUVHRw8fPtzJyal///4HDhzIy8vDi3+pqalXr179448/4uLicnJyUBlYOvBr2MTDedg5c+a0adPGyclp2LBhx48fx3Fuw5VEX9FLLQ3CbFakhFgGAVCXBCQN5dBmRY50i4a3oc9HnftfOrt6paVJ9YoyUkoaBWZKiNenlNLIoo+SBJT5NwFUpACG1WkLSdIromQaEcWOHSeQsXxeXFx84cKF2bNn+/r6hoaGrlixIiYmBi2QOwxaLcDo1Ij1eLRJjkHQ6ngOH8H8/Hx4BzxtD6eDzVB8boVDD/hxJB+8L1++rKysfPPmDb6wPnfuXBy6dHFx6dOnz88//1w/3ikpKcHg7u3bt3l5eVFRUVOmTPH19Q0LC9u2bVt2djbGO0xmQUHBpUuXpk+f7uPj06tXr8WLF69cubJfv37Ozs4WFhYeHh6zZ8+uH5xibs7sBfDu3bucnBxsuVhZWdna2o4dOxY70XLjHgeqnz59GhER0b17d0tLy+bNm3t5eS1cuBCX8DAQKygoqH8dsv5lE09PTw8PjwULFuBONDIcPQc6qlevXqWmpv7000+dOnVq2bKls7Pz8OHDd+3ahY1jSIOF5eXlqampERERvNHUqVOn1atXJyUlIUVc+szOzv7999979erl6Og4bty469evFxcXP3v27Pz582vXrv3666+HDBkyffr0P/74o6CggI0LtQuO8u3bt5WVlfWPPX/55Zdubm7Ozs4TJkw4f/58cXExckDWKAlra7jOOiZZPgrMjKU0BUMz0MeQDG7x3LlzRp1bJBsByiXAKOasFiOzScJkYe0ERkqQMJUSkLGEGUsAUUqQ9ApAMgIKwd8apFICUh2QeDeQU1psYn7zzTd+fn6dOnWaN2/e1atXi4qK+GyflKCFqYgAVi0RxKgB65IsJng6NOyMjIzffvstLCwMn2+8efMm2yent2z8KH3MWPlECFb3cnNz6x8BmThxYps2bUxMTGxsbHr37r169eqrV68+evQoJSXl0aNHUVFRixcvDgoKCgkJWbJkyY0bN+D6MR9/9+4dlhTnzZvn//63YsWKuLi4+/fvc8ppZmbm7++/evXq5ORk+FMe1sFiH9cWcZwbH9vgciHqZ01NTUVFxfXr1ydPnowhm6WlZbdu3bZv346D4livKCsri4uLmzdvXvv27Z2dnb/88ssLFy6UlJSg4DBSRnHgAvWWLVtCQ0Pt7OywQ/L7778/ffoUojApxrfhTp06Vb8b4+Li0qJFC1dX12nTpp09e7aoqIgjdLT5x48ff//99/7+/u7u7vDXDx482LFjx6RJk4YNG9a1a1dXV1dfX9/Vq1enpaXJBVY4VhhZUlJy4sSJ4cOHW1tbu7m5LVy48O7duzyupK1L+jCsWgT0UX4IHsKlBImhagKk/CC3qBUn/ZqRsSRDG2OQJrLtUTijiAGXxEuYMjlnJAYNUhJLWJJJWNJIWNJIWNJIGDTGYAxIQxLgrWpqal68eHHv3r3Vq1d37dq1U6dOX3311ZkzZ9D/49A1Gr9UqsBSF2DulmJdj0+q4PA2UwHvmZiYuGTJEl9fXw8Pj6+//johIQFeG28TvHv3Dqfk5BoZX/SDZDrZgoKC+u8oTZ48GZ+otrOz8/T0HDp0aHh4+DfffDNnzpwBAwYEBAR07959wYIFZ8+ezc/Px9wWHUBubu7Vq1cXL17s6+vbtm3byZMn1++6FBcXV1RU3Lx5Exd7cQaofrMCi4w1NTXv3v9w3aWuri43N/eXX37BmccWLVqEhIRs2rQpOTmZF7SRrtTU1E2bNgUHB7dq1QpfjJg5c2ZsbCxWIemhHj169NNPP/n6+rZq1WrQoEFHjx4tKChgDceBRBRHYWHh8ePH679Q5Orqamtr269fP9yKefP+h1d1y8vL4+Pjly5d6u3tjZ5j0KBBhw4dwrft2eVgl/nWrVtYrkU3EBUVtWnTplmzZs2dO3fp0qV9+/a1ff+bO3duUlISSoQFAfvr6uqKior27NnTrVu3Fi1aeHp6rl27FmeMuE4N41kllKolY5VqppPyA5HMWClH8TPSDJLJSXTDa4tkI6BNv1SjL1aOECUs3ZxUAVhKZixZJEaBJaNOWKFnUCexzrwGi0yLhClQAYyRr6VRhCCISWhlZWViYmJERERYWJiPjw8uuuXk5IAGUyEK1CmHsQqA5HD5HJlQV1fHY3cYW718+fLmzZvYjQ0JCdm6dSsWFjH6wJ4vJ9EwAP4R29mcsvHF/+fPn1+5cgW31tq2bWtpaeng4NCuXbsO738eHh79+vXbtGnTjRs3MjIyqqur8VmL//4Wx/sb09OmTfP19bWysmrXrt28efPu3r2LoWtqauq2bdtCQ0NxUtrNzW3IkCH1ry0kJCTk5OSUlJTguCU+OYu1RSsrKzznM2jQoL179z59+hQDqMrKypycnEOHDg0bNsze3t7U1NTGxqZ///779+/HQSg52srKytq1a1ePHj1atWrVrVu3X3/9NTMzE4sSSDv7aez5Ll261MfHx8rKytvb++uvv8aoH8ksKCiIjY397rvvunbtam1tbWdnN3DgwF9//TU5ORk5zAOYr1+/rqiouHjxYv/+/Z2dnbt167ZkyZIff/xx+vTpy5cvj4qK2r9/f/0H0WxtbT08PFauXJmSksI1DSz7wi3W1tZmZ2evX7/ex8cH18O3b9+elZWFfGC7kDXH+Dqmk/JvQkoLabbU1Ti3CHGSXwsrKhWtiMWoXvuXPk5yEZaSpV6tVZKS7JLlb4K1KQJGnzrFTgYlPZEEZCxgbMjW1NQ8e/Zs3759gwcP9vLyGjRo0J49e7AaRaeGk70URQByGJQAmgRGmjk5OX/++eetW7eeP3+OkSMHOGiKeKZ02LBhtra2AwYMiIyMzM3NxZMHjx49On/+/JkzZ27cuIGX7pE5XPZGEFNpKMX58Kqqqr/++uvo0aMbN26cP3/+lClTxo4dO2HChK+//nrNmjUnTpxITk7GJnVVVdWjR4927949f/78YcOG+fv74yq0iYmJo6PjkCFDIiMj8fL2tWvX5s+f7+fnhwOGFhYWzs7Offv2nTZt2qJFi7Zs2YKlt7dv33ISbWFhYWlp+fnnn9vZ2fXr12/NmjXnzp2Li4uLjo7etGnTqFGj3NzczM3N3dzchg4d+uuvv6akpFRUVPBIqVx4HTVqlIODQ8eOHVevXo3bihho8244GkJRUdGJEyfGjh3r5OSEs9Ph4eH79++Pj4+/evXqjh07pk+f3qFDBysrK7j13377DbcJse6JMT7KJS8v78CBA7169XJycmrfvn337t3HjRu3bt26mzdvvnjx4sGDB2vWrJk4ceLy5cuvXr2Ktxp5zolbeeXl5QkJCQsXLmzXrp2tre3w4cOPHz+O2Tpcv7YWSQxg2caVaqYlIObjAlKv9A+AG31Ah+IMWEkaApIYSIlRYC0XbWWUFCKRFCWRMtkkoJsg5v8KoNjJII0hRguQBk/p1dbW5ubmHj16dOzYse3bt+/duzfmXBwyYCsGCddK04eBFsS+ePHiwoUL8+fPX7JkSf3XytjmOaCora3NysrauXNnSEiIo6PjpEmTrl+/XlFR8ezZs2PHjq1YsWLixInDhg2bP3/+xYsX+dgBfAEWAaAIRsJdolXjHktxcfHTp0/j4+OvX7+OF8DwBQL6U3xXb9y4cfb29i1atGjZsmWLFi2aNWv22WefmZiYdOzY8YcffkhKSkpPT8e7hxYWFp9++mmzZs2aN2+OB3KaN29ubW2NcW5WVtbr16+zs7O3bt2KL1biWUYfHx8vLy8fH5+wsLDhw4cPGDAAl2fMzMyCgoLmz59fv9iHE+yoe9zYff36dWlpaf2HLWfMmOHm5ubp6Tlv3rwbN27g278ghvfkqkJqaur+/fvhc01NTXFpb9SoUej5rKysHBwcunfvvmjRolOnTqWnpyO76It59CclJWXDhg0BAQHoBmxtbYcMGXLs2LHCwsI3b94UFxfjAwwJCQn86IJSVfDhkEuXLk2ZMsXJyalt27YLFy68ffs2igzLUzpdHpCyuuojI42sjUR+CACBlCDlS/9APEeLRl3+U6TrVEMkE6/FoB5r/5JFp6002gAAXQoBDZBiDSMZqwD6cgBkil4GFSFKkGQ0T4vRKV/Kyc3NrT8LMn369I4dO3bv3n3t2rUJCQn4bCnmOMpIRKowAEMFluoePnz43XffhYSEjB079uLFi3LqhGFdTU1NQkICXp1ydXVdvHhxampqWlra5s2bx48f369fv+DgYAcHB39/f1zKZnoxf8TeMe/z0SHCPOK5JcJFUl6xKCkpiY2NXbp0af/+/Xv37j1gwIB+/fr17t07LCysV69eEyZM2LlzZ1paGvbKZ8+eHRoa2qNHj7CwsP79+w8cODAsLKx79+59+/adOnVqZGRkTk7O69evnz9/Xj94xAEde3v7wYMHr1ixYtGiRYMHD+7cubO/vz9cZMeOHQcNGrRx48Zbt27xuA9yj7Nj2InLc35+fq1bt8alI94SQUp5XOnVq1cVFRXp6emnT59euHBh3759AwMDfXx8cMbI19e3Z8+ec+fOPXToUGJiIu8jollBFA2oP1EfHh7u7e1tZmaGGXdQUNDcuXOPHz+enp6Oqz54tJQ7P1zQQLlgU37Pnj39+vVzdHTs3r37nj17sO9vwCdKM2R1BYxYLY0+vFaCVo6W1zCGsdL50C0adW5Rp1mUC0DS6MMoLAxKyyiHscYAOrOpQVEkUAB9GhWyDwxKLRClxWjx9Cm1tbWFhYUxMTELFy709/cPCAhYvHhxfHw8v7Ch5dVipEYJg/LVq1eZmZm///57v379vL2958yZc/PmTT4Mg0nWu3fvqqurY2Nj8WhrcHDwpk2boqOjN2/ePGnSpNmzZ8+dOzcsLMza2trZ2RkPI7LhyQf64W3h8gCjnWPvG8MfDGTQgJEPmDDW1tbm5eU9ePAg/v0vLi7uxo0b8fHxf/7557Vr1+7evZuamopRanZ2dkJCQnx8/LVr12JiYkgPDL65Vl5ejjNAERERnTp1srS0tLGxGT169LFjxxISEmJiYg4ePLhly5a1a9dGREQcPXr0+vXrz549w+YDB30Y93HFEIN6fCXK1tY2MDCw/n3Zx48fY6cIacF+PZwjttSLi4sTExMvX768f//+TZs2/fTTTxEREZGRkZcvX37w4AG+2MEDSSgyBOGwKioqzp8/P2LECHw3cejQoQMHDgwKCnJ3d+/bt+/27dux9YwBO47awINjSw27T69evXr06NHy5cvbt2/fpk2biRMnxsTE4LYPFlJktVFgmKT9K8lkrD68pJGwpJcwaAxjZCzhj+AWpX06YSojoJOMaWDnQ4wBetJIN8EOk4xQrQRpjwRIoxNQ5Cg0+uTow0t2hYZBSQNHwOtf2OUoLi6Ojo5evnx5r169QkJCZs6cefbsWZzU1SkEy3Zc0ZPyMfmC08EbU/g2E468jR071sPDIygoaNOmTSkpKXjiFM0PllRUVJw4cWLAgAEODg49evRYtmzZqlWr5s2bt3LlymPHju3evbt+79XFxSUwMHDr1q34EqEsNWkJLCdGCRKvBUAJT431UP5lrWC2VOn5USxuufz888+BgYEWFhY4zn369GncNc7NzU1LS3vy5Elqampubi5WFeDO4NAph1bBhvqXEOfNm+fj44PPodSfBCwsLMSiKnoI5i2CyOTy8vKcnJyUlJTk5OT09PTc3FwkTWkvcMRYXsQh0IqKioMHD4aGhrq4uAwbNuyXX345dOjQnDlzPD09HR0dp0yZEh0dXVhY+OLFi7S0tJycHFnBuAJQXFx8+vTpkSNHOjo6hoSEbNiwISkpCbcG+dgtM1ZfsTJD9AFSQoOwPiHEczVGH0BKBZBuseHj3I2VDmXa5ClGyCCJiTQmi8ElWdA/o8YoEqiCXBJDIToBshiI1dIYI1/SoPGwujPbSQOnhif5bty4sXjx4m7duvn5+c2aNeuPP/7IyckBC+kVa5khlMxxOnaWMTTDB+mfPn26b9++UaNGOTo6WllZDRo06Ny5czz8TF9TV1eXn5+PhUVLS0tvb++BAweOHTv2hx9+iIuLy8vLu3r16qpVq2bOnLlq1aqYmBh8F4leQGshjaRtCo2+IFNtAACvPgI4ODwFlJ2dDbeIpb1x48bh/SHwYqsE2YUHzYDnSVKdKnJzc3fv3o0vVXXp0gVvRnBnA04QQzA8TcSz9BxC8kS3TvmoHnDNOAK5adOmDh06tGnTZsGCBbdu3crKyjp69OigQYNwr/nw4cPPnj2Li4vbvn37H3/8kZ2djXThED4qyZMnT1avXu3n5+fk5DRhwoQzZ87g8CZGlFwooD2ydGRRSrwWBrsWDwyFGy9QnyjDeOkWGz6gI82SsGEdkhKwAXoSk4YYA3mhFQu3yJemeMJASqNAFDw0ggCtnTYQUBTpDCpI8kr5Whpg8FcZygFJLwk5aCH37t378ccfu3Xrho/EHj9+HIdCMPFRVNMJ0u2y25CzPBzEq6qqys3NjYmJqf8w1qBBg9zc3MzMzNzc3PDsMxiZS2gbiYmJK1eu9Pb2xjUPGxubAQMG7N27F1PLvLy8W7duxcTEJCQkFBQUULWSWJlLtF+bXYwyDDDJWjJGaQEQw/VkZWXBLZqZmdnY2IwZM+bcuXPl5eX4iDNWbOG4lVylN2c1ow3V1dXx8fELFy708fFp3br1pEmT8Owj3StuZ2MUxnKnnZTMrJOVhweewF5ZWXn37t1vv/22TZs2HTt2jIiIwIMaFy9eHDFihJ2dXZ8+fQ4fPvzw4cNff/118uTJv/zyS3p6Os6W4oI23qy8dOnSmDFjnJ2dfXx81q1b9+jRI9QZ5IB8t0KbXprHHEBamM8kaHJBU7IEFLEMGqBB3tItGrXlwoJRAKlGC9MaAloaYhQaBgmQUgKI1WLY9uAWKYQAWBjUlihl6lMh8cbLkVxaG9jAaA8yHEEkqrq6+smTJ1u3bu3fv7+/v//o0aPrx3Tp6emY17x58+bt27c4+iv/8gEuHKsGGQ4wv3v3DjOvsrKytLS0K1eu7NixY8aMGd26dXNycjIzM8NRu3Xr1iUlJbGtohHW1dWVlpZevnx5+vTp7dq1s7GxcXBwwGxr4cKF9QOTx48fv3jxorKysrS0FI88cp8EgyPms8wNIrXZxSgDgLaWSjn0KVoJHAG9e/cOJ/X8/PysrKz4jmFZWRmeV4AKTGYxOsMKnTywolM+jg2MGDHCzc2ta9euEREROESN3o4byihxmIrhJHJeJg3yZd3D2A0Zi2ugkyZNcnFx6dq16759+woKCsrLy+EWnZ2dR44cefTo0bNnzy5cuHDKlCnHjh3LY9VTRQAAGEVJREFUy8vjkXss8j58+HDNmjUBAQFeXl7123qXLl0qLCysqalBUWLtRWc5Stu0+SBjpf36KBuLlzIbBTfOLbK5KoA+c2GKvlgtnl6A/SEwMklaLhIzio2WGClBwiDgVAiikDqeyKN8aZ5EEq+VTAMI6KOReFR6sHA1AK0CA4qXL19mZWXhFK6np2efPn1++OGHa9eupaen5+Xl5b//5en/FRQU5Ofn5+bm5uTkZGdnZ2RkpKWlpaSkPHjw4Nq1a5GRkT/99NOkSZO6dOni6uqKDy7jEsWwYcNOnjxZWFiI5GMZC08zFBcXHzt2bODAga1bt+7YseP48eNHjRoVGBjo7e09dOjQ3bt3YzERiUIq0JxwhIj5w1QzV5nVCo3xQbgVmcPaeiVjq6urX7x4kZ2d/eTJk/opM54jMzU1tba27tGjx7p162JiYpKSkrKyssrLy7GuiioEk6TPkkXJhOCc6ePHjzdu3BgWFoarO5GRkRkZGZgvY/CFnkMeIUC+wfNKjSwOGIAFQWRvbm7unj17QkNDHRwcBg0adPbsWew4x8fHz549u127dt26dfv222/nz58/bty4VatW4Ts/MBsj4qysrN9//33w4MHt2rUbNmzYsWPH8PFI5Bi9oSwv44uGeSLzXx/cKLEGiPXJJ75xbtGAJp1RUKMzSidS5ixNlBmnk4sEjKVbZKXkJJFipW3wgxLDmg2Z5KIKYgjQDCmH9ARILxOr8MJ+hQBDGAz3cBxnypQpeMikT58+CxYs2Lx5886dO/fu3bt79+6d73+7xA8Y/N3+/rdt27YtW7Zs3Lhx9erVS5YsWbBgwaxZs8aOHdu7d29/f39XV1dLS0s8BGtmZmZlZdWmTZvZs2fHx8fDF8A87My8efOmqKho165dwcHBzs7Oo0eP3rt3b2RkJO7/uri44LX94uLi/Pz8tLS0jIwMPoz4t7pFWRYy5yWeRUOgoqIiMTFx586dM2bMGDhwoK+vr7W1tZmZWbNmzZycnLp06YLTl8eOHcvMzEQ+QKAc0HFri8NSaUB1dTU+LvrDDz8EBwd7eHjUf7v19OnTz58/5wIIB61QgTqJmozxKQ1WADhEVKqcnJzt27eHhob6+fktXrwYjzDW1NQkJyfv3LlzwIAB/v7+PXr0GDRo0Lx583BPlNWvrq6uuLj43Llz48aN8/DwCAsL++WXX1JTU/lWCFw2tmgUG4wPymwxDBsv0zClAS3ItMa5RbgP7V99RkC9vlgtXjoCmq4l02IURUqQTgeMlEwyiZHCtRVapwTJTljKIVImUBLQQlBKpyxHizj8UVJSgg/XeXl5mZiYWFlZtW3bNiAgoPO/fyEhIV26dOnWrVsX8ft35H//D3Tnzp2Dg4P9/f29vb3hXm1tbfENUjMzMzzzh48jm5iYWFpa+vn5rV+/Pi0t7fXr12/fvsWQBHdd8KWBVatWeb7/ffvttwkJCXl5eUePHv3iiy9cXFxGjBhx+PDhp0+fRkdH792798KFC/n5+cheDjdkhiAfiFGCxDcWkAVhoCyqqqri4+Ph021sbGxtbVu9/zk4ONjb29va2trY2AQGBq5ZswZLbPSAcgSnUz4MwEz57du3/DJBSEhIUFDQggULsJWB+oC/7DZoPKoBniNScgA0GI0ie4uLiy9fvvzj+9+5c+dwRvLNmzelpaVJSUm7d+9evHjx119//eOPP547dy4zM5NHUPGaEa4DeXt7BwQErF279q+//sLTv3ACmC5gKq1Y0rQg7DeGl7mhM58NS2iQl27RqHOLUpyE9RkBGn2xWjxSiOKkfC2ZFqMo0ufOwEjJBOjoaYB0TNJn6ZNAUQSkkUQaKEJ9NBKPy61JSUnff/+9l5dX8+bNP/nkk2bNmn3++efNmjX75z//+dlnn+Fv8+bN//nPfzb7//4+E79//vOfn376KYg/++yzTz/99B//+Md//dd/ffrpp5988sl//dd/ffLJJ6D55JNPPv30Uysrq/oJ8rFjx3AuBA0PaXz9+nVZWdnNmzdnzJjh4uISFBS0bds2jAdxD9fR0XHYsGH/+te/bt++vWHDhmnTpu3evRuvAWLMKPMKMFJNvBIkXifAsgOgk8YwsqKiIiUl5dChQ99+++3s2bO//vrr+fPnL168eOHCheHh4XPnzp09e/ayZctOnDiB0SJrLMdZkM+y06pDlXv16lVRUVF0dPTChQv9/Py6du26bNmyu3fvYjiG+0uKEAa1dYk9KGbf3MV+8eLFk/e/oqIijGdfvnyJs0k5OTmPHj26f/8+ripyoQbnJVNSUlauXBkYGBgQELBo0aL6Ii4tLcXCJZ0y0o6jY2x3SnppM/H6igaUJNMHUKCR9Iocsit4BqVbbPiADtn0AdJKdIlaShRng5ZpGYkhr2GA9PRrLDbFTkkpYTYwIKlO0uiEjZSvk9cA8s2bN3hBYP369SNHjvziiy969+7dp0+fXkb/vnj/IzmC+PJyWFgYLoSE/fvX+9+/Xr16jRw5ctOmTQ8ePMDBaaVaY1KPq9D1L/odPnwYb6+ePn16wIABLi4ukydPPnny5B9//DFz5syvvvoqKioKxzt4O01nqmU26iTQiWQxaR2HQi8pJYwPaeXn52dkZDx9/0tLS3v27FlaWtrTp09xdScrK6uwsBD3iCBWSuDJB0UjgnJH5dWrV9gVWb58+dSpUyMiIu7cuYMrKxSoFYIoLV4fxkh6pVj/+uuvjRs3TpgwYeXKlTdu3OBnYPVpAV7bagzTf3iszoLWidTq0kn2N7pFTgQUU9inoWvlBIQ+S6HXBlldOMpTACWppIcoBhUyrSKdGGO4jKyFOuUbQEJscXHx48eP4+PjY9//cEEYsOG/N/79A9m/Q//9f9z7HzGxsbGEcVckLi7u8ePHeByQbR57r9iuxcKig4PDpEmTYmJi8AJNTEzM9OnT27dv37dv3+XLl8+ePXvSpEm4mMhHGDH60JnqpmXjB5avrJC4fIKD1nz7FucTUV2lHzFeL/ZMwAvhRUVFSUlJt27dSkpKysvL47tE7NF15o/xyKblZElJCaxKSUkpKyvD9jon9VrtihZmiJby42J0NkmdSEWvTgvlUxFGPUOrJFvRoS1CnZYpFwDIZaB5KIp0JkahkUGFnkGd5ulkVBIuJUiYvAo98R8IYKGdxy/YPqUNEmbeGkbSKklGmDcusAjI+R2Bd+/epaenR0REBAUF+fn5ff/993/99RdORGdmZu7evXvAgAF+fn6dO3ceMmTI0qVLo6Oji4qK0DviLw1QANigII0JGsnINDYIoN+Vx2BhhrRfCmnQSAhkJmCLWX65EAuIyHMjk9Og0sYSwPXTSHYY+uTIHCBsfLvWJ7ZBvM6GTAO0AAQawDdutEhBiqEc6IGAsfrM5eCOBLLXJbtOgDagtChKAgqjZNEJK/QM6iQ2gNSXDxT4sQCkna2U05YPBLBjQCEY1OBRRbRSLIyAANUdc+qioqKLFy+uWbNm/fr1MTEx+fn5jE1KStq1a9eSJUvmzZu3efPm6Ojo3NxclrvhDEFWG6b5kFimVAHevn2LZ7VY1lKLckqGW0YkNiZ1KDtUmOrqagwP2Y1JB6SsV0pLpEYJSxoJSxpjYBY61hwhitvQxkgwTCNt+xBYZ4YbUA1dWgLim+IWtQnQ5w70mYtaSCPo0WCoVr7EyMQotZlBSU8tklGBtfQKhvQwlUEF0JcPijQGwc5ggwAeIGCLBb2B7oEZqw+AAYyVQSVptI1jB3gHPhOQn5+PRTe8TIXDJVjaz87Ofvz48cOHD9PS0rA+BWlwsjorCZNmIJYmNRlgwhWAm62UjFRzo5ndEsbvkkzmG/E6AVAiijkv0wuYlUoKkVq0sKSUsJbSMAZroLj1BJctrdXySl0S1lICI2k+BJaZRjn6lJJYSwDeRk+iqVIfoKSWFkh6tisllo1EwSu82sRoMZJFwlpKxWBJzBU0IEGJ9qOVozAaFktiyiHGMICOmg9Zo5UaWOsxLI29CBse7VHsBwGn8Hjai5++Q8EhFgMfDBXxF068srISi1MsZU7JQabTVMUMnTR/B1KuekO+zpxBBnK0qKXUZxv6EvQccvAFgWggrH4sHSntP5MziveHl8QFGGmMPpgVTB/Bx8Lr9BhKkckg9EqMzM+P4BalODkFoGJtynmDHeWNrFfcjZaLAmVimO8KoFils2LpU2EAL1UT1kmvGKCThtmls1B1suAmFudccIsG2PWZwWZPLUyOvuKAO8NwFbCyiYxi5XMJSB1cHvKfEoiEribYT7M/EJCplrB0T5jt0kk1qFHK0UeMw57oMDDolhUYbQGZBlinnP9AvqGIUVtgp76nPXRaKJcC9BE0Ci/zVoG1cgzkD4kphBjU28ZNoll4lAK5OoNoBowioJhLyyRAYqU6ShpFjmSRVtHmJjhHKUcrXxoALaSRjAb0MjlkVNIr8Yhim8FNBgNDLbpdRQj2ExXPKA1W6GE/zqlhmIO7DVICRkz89DtYpB/EQAMmIa+YEPh6RSmCBqzSSU+kUhzEGwnIpDEbdRaWViDJZPVQyJA/cgLOlGq7OlxUNyBNEU6DtXh9GJ1VFINZuja6bwOWyLSTTKdwfZYYxivyZVDLSAO0URKjJfug0aI+myTeGFgxUSeLpJEwiLUYNDkpCjQSI2F9JSdpJCw1GoA58pK8gKU9Wgmkl2QKUstlPAZVgR0GGpJhD2uMcAMWMoqqdbZeksmES9UgkJiPC3+4fCaBY2EpU8LGW67l0mIgTR+esex3aR4LQssLjBavz3JJbzysT5oWr8gEAccHioNTiGVQtnfi0RciiNHiuSZ8J5rijLdGshCWiSeSgIzVwiCTeDLCKhk0AEsJEtbHImkMwGCX2S0FsjoqEhQaxOpEyihFCKO0eFleFKslawKG0gjQDGKgHfUSSKmIZJJRSyAxHxfWmtRY+UwCAUrQYhhlGNBapcVAgj48Y6lIGkNY1g3WT61MLQZiMRzR/pXytTBNIqCYQTwARQLtlGR0+gqxNqhwgSAlJeXSpUvGukUpVIqTsKTRB+ujl6M80BieDUG+VpoWo88SiZdcHwumhVKRhBVFBqIUSgQlPWBJZhgjB7McREj2xsI0RpYjkQQoVmueUsV1Ng+dSMr8QECnSZSpjWWiCJBYJ6CVoJNMQeoUrjMfSKkvlpJJyTzX2kYaRRrxkCanHZT/IYAiX07kIZYEABRdQGL2o1AyinjyYs0H+P9ZbpG2ymKQI16mQeaOREKCFiMlG4Ylb2NhrXYpQatXxiq1U+aAQsYgBSpuSEsADOkBSK7/pFtk0mAGEq7PZuL/MwBN0qlOGwuM/CsZtfQy1nhYn3ytBEnJfCaZxJBSqXgkbhAvKQGjRmn/aikVjJJRSlAhVgyTiSIlU6cAJCCgECD4P8st0lYjAaRBEmsTaTjWML3kNQaW0rT0MhawQqMQKLEyqFBKBydrCcnAyyDpFZky2ASY8gHok0AyEBgO6hMi8YoEGWUYJiMBY+glDRkJyFgln5s8qqJwAFKFAktKJQpBEjCWGK1wGUV6LUAyJlABtCwKRqtaIUCQihR6JUheSU8kx55SJksKLP+z3CJyUyZAX4JlkrT0+rJD4rWwlNM0WJGpCFFiETRAo0QxqFMOkSRjp6rFyEMn+pb5JJeRsE4btLwKmb6g1r9rRTGNEKKTwACSqgkYIKYuSUNGAjKWjQ1IOgtJYyRM+TJbtLwg0+KJoRwtRstLYm0U2ZktCrEMSuIPgaVM5oOc/Erh+vCSRp/xjXOLUqI0UR9e0uiDJW/TYCkZEiQG2adglKA+vQoZg0bSSzLyApB2SjKlnBhFLn1ySCkBVh0FSWkS/+GwtE2RJjVyORw05CKLgmHQcHJ0xlKmTkBKBqyYpBDoFKIgFRYpVilcLaUiSglKeiWKQUWdFk8hSpQWTwIAJJCAQkO/rwCSRcIKO/NHiydGsrPEFSTx5FIASS+jiP+f5RZpFmxl5krTtTC5lOyQePbbEklYKxMYEiiAPnqWK+l1yiG7QqbFI0Uk0wJkaRQgR4iQ+XHXFrV2Iv9h5P9/3KIsFORJ0+oh840ZKyVLGATahgM86idPZWqrgdKCtJK1qeCctME9ABpPQMoHzCgAJFBSpI9M4vl6G4Vom6eSXrI33S0qOtiumB4OYg2bJS2jWUQiO3RKkEjC1A4MBWqrI1mUhEjVijRSEiAxpVGjAYw2SpFjQC95jQFojJGAMTI/Fo006cNlSmlaGPIl/sM1/s+R8OHpggTjU9RYeq1k4yV8SOqM1wIL2QxTU1Ojo6NxQEfnB1EvRp27GHUOL9T+L5qopJPi6C+oRkYxlnKUWIUAQthRsHODjzPm+DEVNcEt0hiZWAikAbCfFpJFpos2SDkyf0AgY43BSPomwLRKAkyIAjRWvtZ+CJRypF6Jbxqs1aiV83E1SvlKdjEoaT4ElpZLGDK1mMbqggTjuZpAb7xwhfJDUtdkO+Vx7qa4RdQADsvpF2TatAlr0FzpVnBZTcvSqEH7x3WLimrYppyTYg4w+cQQYJSSXhIAkGSGKRVGw0FFbINBw9JkLEQRo9NNSHWkbDKgaNQpp8kayahTLOs8yQjoo28snhmoAJBDdQbqBmgaq/dj0TdWuzEpMsa2JuiF2AbdovySwf87WlQMwuUbmRKleGSUwttgELyoDSDmIWTeHtEKkRr1wZJLoWEU8AyyASijRS6vkEDmgFYIBUq9RGoBSWZAmpaxQYwiWWl1DJKsQYGNIviIYo3JFqqTpdOgwcZwMaMUoEHhRhKwvikA2LUW6uy2JZkCG2lGk8mgznh2aZ7xXFrKJuiFkMa5RSW7pRegk9LWuSYnkoysDRSO+qcv2WQ0AMhMlGQSD1gbC+2MpXkyQyiHNhNDRq1kwzSgV2g+PEgzmBAF+Jv0frjllMAk6ARI1gRAK1ArRMkuBrWUHxejLRdglHaqTYKC+bhWGSNNa7nkkuZJfNNgKa1BvVDRaLcoc1yrT7oAwpJMX8L0mQu8VErXY2BtUWo0ANMY0hAjAcYyRewDJBmMJDGjyEUMk0BinTRaMinh48Kw5GPJ5KCJAj+ufIolIHNSC5OsacBHF9hYM+hnFUCbq1oMdOnDN9aSj0Vv2B7EGqYx3hIpzbBMNsPGuUXFFOqTDVjZkqYm8GrNohCFUtKzNoBG2+oUw4wJSr2EdTIylhZKA+SkXskHJkErVsoEbJhGG0vhWlHE6OPSiZcJYYYD0NLrsxmUcjQNjGF6rfzGYv5u+TIVrAY0UskuBlkQCkBGBVDIGFTIGAQBg6x+EtM0mKp1AlqZWku0NApGm40KAYLSAJ0EDSKlhAZhSEtJSbl8Kfp81LlGfydaWiMHSo1yi1orpVjACo2WQGJALDH6YEWsAUZJqZWmxDJISp3FTzICpCfAKEqQ7hhkksZ4mCoUQJ8EfXoV9v+LQVj+dxvA/JGKeBCNsQ0Ckl3C+hgljYRBbxgjY42H9Vmi1QiZ+vDGxBq2SlpimFJfrJTQIAwhjXOLSndkOC/0WUm/SQLpVXXarUyiwagTyShtS6Y6LaAd3WhpgDE+yZRJp6ZPpsSTSyLllo6CNxzUZ63OTDaAZGYqea4EYYw+pBSiwPpSoc0NGKmcfNC5piFlKuoYlDQSZhKkAURKyqbBrBKygIjUyqTBCqBQMhZ4BhsFoI1TAoMUwtpIDAGdSZCv8ZMSAO2XdY/IBgFK0+eXFC0UKBmJ/G+g5mVd7avqyqrUJykxV64aO1rMzMzM0PwyMzPTG/nLyMiQHAg+e/ZMIiUMnYYx2lhaKqMAKwL1UWZqfgqjVjIxpJTpUhJOYmmVlkafeQq7NghGTSKaUl60QZrHNFK1JCNMA4hRALIrAMkk/tmzZxkZGZmZmVnvfxSelZUlySRMOQogaSTMKg16RMmES+ImwIrxTIg+UYrZDCr0Cp7BRgHp6f9PZdeWgzAMw+5/HR5rkgaOAByhGxwEQSTLStfB+uW6dhq3Y1+TaHhiI3JMUaS1BpxA9MNkz/Aq7o5fLDj8lK6fcineiHFokhfGxD/n5bU8lzY/bverX7TIX/8TrarSDVW1naPWambJqKp1c/AmEDIJvL1qZiH4qf985k4D0WHcANiCY0bwkWvUNviRnQWM0TCF+EDW7MKp8/AyGQz2BYgGRntxBcbQg0QQvkQ+YSgZoE4CrGHs7jF1dzyro8NnI+O9evYmnNrGdCQDD2U0w1PGfJjxw4wjRfYoiETsXcX+HatLTOI28ZyIyM/bXE3HZXsMC4KEJvHlPGmRS3WZyulwlKmYqFvlrxR7/AbRYpkqMjxP9gAAAABJRU5ErkJggg==)"
      ],
      "metadata": {
        "id": "ntZTMc1liR6n"
      }
    },
    {
      "cell_type": "code",
      "source": [
        "# softmax 함수를 구현해보세요.\n",
        "\n",
        "def softmax(X):\n",
        "  X_exp = torch.exp(X) ## 빈칸을 채워주세요. ##\n",
        "  partition =  X_exp.sum(1, keepdim = True)## 빈칸을 채워주세요. ##\n",
        "  return X_exp / partition"
      ],
      "metadata": {
        "id": "hl0dOMLncRQN"
      },
      "execution_count": 20,
      "outputs": []
    },
    {
      "cell_type": "code",
      "source": [
        "X = torch.normal(0, 1, (2,5))\n",
        "X_prob = softmax(X)\n",
        "X_prob, X_prob.sum(1)"
      ],
      "metadata": {
        "colab": {
          "base_uri": "https://localhost:8080/"
        },
        "id": "r9SqT8GUSUuv",
        "outputId": "789febc6-ff65-4867-98e3-ab8fc3fdf4e6"
      },
      "execution_count": 21,
      "outputs": [
        {
          "output_type": "execute_result",
          "data": {
            "text/plain": [
              "(tensor([[0.1052, 0.2026, 0.2069, 0.0440, 0.4413],\n",
              "         [0.2189, 0.0645, 0.2696, 0.3070, 0.1399]]),\n",
              " tensor([1., 1.]))"
            ]
          },
          "metadata": {},
          "execution_count": 21
        }
      ]
    },
    {
      "cell_type": "code",
      "source": [
        "def net(X):\n",
        "  return softmax(torch.matmul(X.reshape((-1, W.shape[0])), W) + b)"
      ],
      "metadata": {
        "id": "rvNT7pIlSlab"
      },
      "execution_count": 22,
      "outputs": []
    },
    {
      "cell_type": "code",
      "source": [
        "y = torch.tensor([0,2])\n",
        "y_hat = torch.tensor([[0.1, 0.3, 0.6], [0.3, 0.2, 0.5]])\n",
        "y_hat[[0,1], y]"
      ],
      "metadata": {
        "colab": {
          "base_uri": "https://localhost:8080/"
        },
        "id": "et2FD5OVTq-A",
        "outputId": "c5bbc728-b0ef-47d5-bf52-a0c7c391c085"
      },
      "execution_count": 23,
      "outputs": [
        {
          "output_type": "execute_result",
          "data": {
            "text/plain": [
              "tensor([0.1000, 0.5000])"
            ]
          },
          "metadata": {},
          "execution_count": 23
        }
      ]
    },
    {
      "cell_type": "code",
      "source": [
        "# cross-entropy loss function을 구현해보세요.\n",
        "\n",
        "def cross_entropy(y_hat, y):\n",
        "  return -torch.log(y_hat[range(len(y)), y]).mean()\n",
        "  ## 빈칸을 채워주세요. ##\n",
        "\n",
        "cross_entropy(y_hat, y)"
      ],
      "metadata": {
        "colab": {
          "base_uri": "https://localhost:8080/"
        },
        "id": "LxEgwZlyUynl",
        "outputId": "0266761f-043f-477b-9d98-45291a29266b"
      },
      "execution_count": 24,
      "outputs": [
        {
          "output_type": "execute_result",
          "data": {
            "text/plain": [
              "tensor(1.4979)"
            ]
          },
          "metadata": {},
          "execution_count": 24
        }
      ]
    },
    {
      "cell_type": "code",
      "source": [
        "def accuracy(y_hat, y):\n",
        "  \"\"\"correct prediction 수를 계산\"\"\"\n",
        "  if len(y_hat.shape) > 1 and y_hat.shape[1] > 1:\n",
        "    y_hat = y_hat.argmax(axis = 1)\n",
        "  cmp = y_hat.type(y.dtype) == y\n",
        "  return float(cmp.type(y.dtype).sum())"
      ],
      "metadata": {
        "id": "QVfSBJuxVJqJ"
      },
      "execution_count": 25,
      "outputs": []
    },
    {
      "cell_type": "code",
      "source": [
        "accuracy(y_hat, y) / len(y)"
      ],
      "metadata": {
        "colab": {
          "base_uri": "https://localhost:8080/"
        },
        "id": "q8ZcA1mhU_3f",
        "outputId": "7d569ce6-6f6f-4300-f93f-e75f48a4a2ba"
      },
      "execution_count": 26,
      "outputs": [
        {
          "output_type": "execute_result",
          "data": {
            "text/plain": [
              "0.5"
            ]
          },
          "metadata": {},
          "execution_count": 26
        }
      ]
    },
    {
      "cell_type": "code",
      "source": [
        "def evaluate_accuracy(net, data_iter):\n",
        "    \"\"\"모델 정확도 계산\"\"\"\n",
        "    if isinstance(net, torch.nn.Module):\n",
        "        net.eval()\n",
        "    metric = Accumulator(2)\n",
        "\n",
        "    ## 무엇이 들어가야할까요? ##\n",
        "    with torch.no_grad():\n",
        "        for X, y in data_iter:\n",
        "            metric.add(accuracy(net(X), y), y.numel())\n",
        "    return metric[0] / metric[1]"
      ],
      "metadata": {
        "id": "9CUt5mryVFAg"
      },
      "execution_count": 27,
      "outputs": []
    },
    {
      "cell_type": "code",
      "source": [
        "class Accumulator:\n",
        "    \"\"\"n 개 변수 합 축적\"\"\"\n",
        "    def __init__(self, n):\n",
        "        self.data = [0.0] * n\n",
        "\n",
        "    def add(self, *args):\n",
        "        self.data = [a + float(b) for a, b in zip(self.data, args)]\n",
        "\n",
        "    def reset(self):\n",
        "        self.data = [0.0] * len(self.data)\n",
        "\n",
        "    def __getitem__(self, idx):\n",
        "        return self.data[idx]"
      ],
      "metadata": {
        "id": "QmLz-HNoXgig"
      },
      "execution_count": 28,
      "outputs": []
    },
    {
      "cell_type": "code",
      "source": [
        "evaluate_accuracy(net, test_iter)"
      ],
      "metadata": {
        "colab": {
          "base_uri": "https://localhost:8080/"
        },
        "id": "wbI98ltDWQuG",
        "outputId": "8ef85468-9c55-449d-f500-dba985ba27aa"
      },
      "execution_count": 29,
      "outputs": [
        {
          "output_type": "execute_result",
          "data": {
            "text/plain": [
              "0.0452"
            ]
          },
          "metadata": {},
          "execution_count": 29
        }
      ]
    },
    {
      "cell_type": "code",
      "source": [
        "def train_epoch(net, train_iter, loss, updater):\n",
        "    \"\"\"training loop\"\"\"\n",
        "    # Set the model to training model\n",
        "    if isinstance(net, torch.nn.Module):\n",
        "        net.train()\n",
        "    # Sum of training loss, sum of training accuracy, number of examples\n",
        "    metric = Accumulator(3)\n",
        "    for X, y in train_iter:\n",
        "        # Compute gradients and update parameters\n",
        "        y_hat = net(X)\n",
        "        l = loss(y_hat, y)\n",
        "        if isinstance(updater, torch.optim.Optimizer):\n",
        "            # Using PyTorch in-built optimizer & loss criterion\n",
        "            updater.zero_grad()\n",
        "            l.mean().backward()## 빈칸을 채워주세요. ##\n",
        "            updater.step()\n",
        "        else:\n",
        "            # Using custom built optimizer & loss criterion\n",
        "            l.sum().backward()## 빈칸을 채워주세요. ##\n",
        "            updater(X.shape[0])\n",
        "        metric.add(float(l.sum()), accuracy(y_hat, y), y.numel())\n",
        "    # Return training loss and training accuracy\n",
        "    return metric[0] / metric[2], metric[1] / metric[2]"
      ],
      "metadata": {
        "id": "0zitI4zDWZBB"
      },
      "execution_count": 30,
      "outputs": []
    },
    {
      "cell_type": "code",
      "source": [
        "class Animator:\n",
        "    \"\"\"애니메이션으로 데이터 플롯팅\"\"\"\n",
        "    def __init__(self, xlabel=None, ylabel=None, legend=None, xlim=None,\n",
        "                 ylim=None, xscale='linear', yscale='linear',\n",
        "                 fmts=('-', 'm--', 'g-.', 'r:'), nrows=1, ncols=1,\n",
        "                 figsize=(3.5, 2.5)):\n",
        "        # Incrementally plot multiple lines\n",
        "        if legend is None:\n",
        "            legend = []\n",
        "        d2l.use_svg_display()\n",
        "        self.fig, self.axes = d2l.plt.subplots(nrows, ncols, figsize=figsize)\n",
        "        if nrows * ncols == 1:\n",
        "            self.axes = [self.axes, ]\n",
        "        # Use a lambda function to capture arguments\n",
        "        self.config_axes = lambda: d2l.set_axes(\n",
        "            self.axes[0], xlabel, ylabel, xlim, ylim, xscale, yscale, legend)\n",
        "        self.X, self.Y, self.fmts = None, None, fmts\n",
        "\n",
        "    def add(self, x, y):\n",
        "        # Add multiple data points into the figure\n",
        "        if not hasattr(y, \"__len__\"):\n",
        "            y = [y]\n",
        "        n = len(y)\n",
        "        if not hasattr(x, \"__len__\"):\n",
        "            x = [x] * n\n",
        "        if not self.X:\n",
        "            self.X = [[] for _ in range(n)]\n",
        "        if not self.Y:\n",
        "            self.Y = [[] for _ in range(n)]\n",
        "        for i, (a, b) in enumerate(zip(x, y)):\n",
        "            if a is not None and b is not None:\n",
        "                self.X[i].append(a)\n",
        "                self.Y[i].append(b)\n",
        "        self.axes[0].cla()\n",
        "        for x, y, fmt in zip(self.X, self.Y, self.fmts):\n",
        "            self.axes[0].plot(x, y, fmt)\n",
        "        self.config_axes()\n",
        "        display.display(self.fig)\n",
        "        display.clear_output(wait=True)\n"
      ],
      "metadata": {
        "id": "Y7b5AmvyaKJu"
      },
      "execution_count": 31,
      "outputs": []
    },
    {
      "cell_type": "code",
      "source": [
        "def train(net, train_iter, test_iter, loss, num_epochs, updater):\n",
        "    \"\"\"모델 학습\"\"\"\n",
        "    animator = Animator(xlabel='epoch', xlim=[1, num_epochs], ylim=[0.3, 0.9],\n",
        "                        legend=['train loss', 'train acc', 'test acc'])\n",
        "    for epoch in range(num_epochs):\n",
        "        train_metrics = train_epoch(net, train_iter, loss, updater)\n",
        "        test_acc = evaluate_accuracy(net, test_iter)\n",
        "        animator.add(epoch + 1, train_metrics + (test_acc,))\n",
        "    train_loss, train_acc = train_metrics\n",
        "    assert train_loss < 0.5, train_loss\n",
        "    assert train_acc <= 1 and train_acc > 0.7, train_acc\n",
        "    assert test_acc <= 1 and test_acc > 0.7, test_acc\n"
      ],
      "metadata": {
        "id": "8fCzuNB1cSts"
      },
      "execution_count": 32,
      "outputs": []
    },
    {
      "cell_type": "code",
      "source": [
        "lr = 0.1\n",
        "\n",
        "def updater(batch_size):\n",
        "  return d2l.sgd([W, b], lr, batch_size)"
      ],
      "metadata": {
        "id": "FLTyQ3mxeVOP"
      },
      "execution_count": 33,
      "outputs": []
    },
    {
      "cell_type": "code",
      "source": [
        "num_epochs = 10\n",
        "train(net, train_iter, test_iter, cross_entropy, num_epochs, updater)"
      ],
      "metadata": {
        "colab": {
          "base_uri": "https://localhost:8080/",
          "height": 558
        },
        "id": "UcyYl51refkY",
        "outputId": "b075e22b-fd4f-40d3-c90c-6145204b8309"
      },
      "execution_count": 34,
      "outputs": [
        {
          "output_type": "error",
          "ename": "AssertionError",
          "evalue": "0.6679",
          "traceback": [
            "\u001b[0;31m---------------------------------------------------------------------------\u001b[0m",
            "\u001b[0;31mAssertionError\u001b[0m                            Traceback (most recent call last)",
            "\u001b[0;32m<ipython-input-34-45bb2f8faa47>\u001b[0m in \u001b[0;36m<cell line: 2>\u001b[0;34m()\u001b[0m\n\u001b[1;32m      1\u001b[0m \u001b[0mnum_epochs\u001b[0m \u001b[0;34m=\u001b[0m \u001b[0;36m10\u001b[0m\u001b[0;34m\u001b[0m\u001b[0;34m\u001b[0m\u001b[0m\n\u001b[0;32m----> 2\u001b[0;31m \u001b[0mtrain\u001b[0m\u001b[0;34m(\u001b[0m\u001b[0mnet\u001b[0m\u001b[0;34m,\u001b[0m \u001b[0mtrain_iter\u001b[0m\u001b[0;34m,\u001b[0m \u001b[0mtest_iter\u001b[0m\u001b[0;34m,\u001b[0m \u001b[0mcross_entropy\u001b[0m\u001b[0;34m,\u001b[0m \u001b[0mnum_epochs\u001b[0m\u001b[0;34m,\u001b[0m \u001b[0mupdater\u001b[0m\u001b[0;34m)\u001b[0m\u001b[0;34m\u001b[0m\u001b[0;34m\u001b[0m\u001b[0m\n\u001b[0m",
            "\u001b[0;32m<ipython-input-32-6bcef1ede93a>\u001b[0m in \u001b[0;36mtrain\u001b[0;34m(net, train_iter, test_iter, loss, num_epochs, updater)\u001b[0m\n\u001b[1;32m      9\u001b[0m     \u001b[0mtrain_loss\u001b[0m\u001b[0;34m,\u001b[0m \u001b[0mtrain_acc\u001b[0m \u001b[0;34m=\u001b[0m \u001b[0mtrain_metrics\u001b[0m\u001b[0;34m\u001b[0m\u001b[0;34m\u001b[0m\u001b[0m\n\u001b[1;32m     10\u001b[0m     \u001b[0;32massert\u001b[0m \u001b[0mtrain_loss\u001b[0m \u001b[0;34m<\u001b[0m \u001b[0;36m0.5\u001b[0m\u001b[0;34m,\u001b[0m \u001b[0mtrain_loss\u001b[0m\u001b[0;34m\u001b[0m\u001b[0;34m\u001b[0m\u001b[0m\n\u001b[0;32m---> 11\u001b[0;31m     \u001b[0;32massert\u001b[0m \u001b[0mtrain_acc\u001b[0m \u001b[0;34m<=\u001b[0m \u001b[0;36m1\u001b[0m \u001b[0;32mand\u001b[0m \u001b[0mtrain_acc\u001b[0m \u001b[0;34m>\u001b[0m \u001b[0;36m0.7\u001b[0m\u001b[0;34m,\u001b[0m \u001b[0mtrain_acc\u001b[0m\u001b[0;34m\u001b[0m\u001b[0;34m\u001b[0m\u001b[0m\n\u001b[0m\u001b[1;32m     12\u001b[0m     \u001b[0;32massert\u001b[0m \u001b[0mtest_acc\u001b[0m \u001b[0;34m<=\u001b[0m \u001b[0;36m1\u001b[0m \u001b[0;32mand\u001b[0m \u001b[0mtest_acc\u001b[0m \u001b[0;34m>\u001b[0m \u001b[0;36m0.7\u001b[0m\u001b[0;34m,\u001b[0m \u001b[0mtest_acc\u001b[0m\u001b[0;34m\u001b[0m\u001b[0;34m\u001b[0m\u001b[0m\n",
            "\u001b[0;31mAssertionError\u001b[0m: 0.6679"
          ]
        },
        {
          "output_type": "display_data",
          "data": {
            "text/plain": [
              "<Figure size 350x250 with 1 Axes>"
            ],
            "image/svg+xml": "<?xml version=\"1.0\" encoding=\"utf-8\" standalone=\"no\"?>\n<!DOCTYPE svg PUBLIC \"-//W3C//DTD SVG 1.1//EN\"\n  \"http://www.w3.org/Graphics/SVG/1.1/DTD/svg11.dtd\">\n<!-- Created with matplotlib (https://matplotlib.org/) -->\n<svg height=\"183.35625pt\" version=\"1.1\" viewBox=\"0 0 238.965625 183.35625\" width=\"238.965625pt\" xmlns=\"http://www.w3.org/2000/svg\" xmlns:xlink=\"http://www.w3.org/1999/xlink\">\n <defs>\n  <style type=\"text/css\">\n*{stroke-linecap:butt;stroke-linejoin:round;}\n  </style>\n </defs>\n <g id=\"figure_1\">\n  <g id=\"patch_1\">\n   <path d=\"M 0 183.35625 \nL 238.965625 183.35625 \nL 238.965625 0 \nL 0 0 \nz\n\" style=\"fill:#ffffff;\"/>\n  </g>\n  <g id=\"axes_1\">\n   <g id=\"patch_2\">\n    <path d=\"M 30.103125 145.8 \nL 225.403125 145.8 \nL 225.403125 7.2 \nL 30.103125 7.2 \nz\n\" style=\"fill:#ffffff;\"/>\n   </g>\n   <g id=\"matplotlib.axis_1\">\n    <g id=\"xtick_1\">\n     <g id=\"line2d_1\">\n      <path clip-path=\"url(#pfd90947c28)\" d=\"M 51.803125 145.8 \nL 51.803125 7.2 \n\" style=\"fill:none;stroke:#b0b0b0;stroke-linecap:square;stroke-width:0.8;\"/>\n     </g>\n     <g id=\"line2d_2\">\n      <defs>\n       <path d=\"M 0 0 \nL 0 3.5 \n\" id=\"maf6033c12d\" style=\"stroke:#000000;stroke-width:0.8;\"/>\n      </defs>\n      <g>\n       <use style=\"stroke:#000000;stroke-width:0.8;\" x=\"51.803125\" xlink:href=\"#maf6033c12d\" y=\"145.8\"/>\n      </g>\n     </g>\n     <g id=\"text_1\">\n      <!-- 2 -->\n      <defs>\n       <path d=\"M 19.1875 8.296875 \nL 53.609375 8.296875 \nL 53.609375 0 \nL 7.328125 0 \nL 7.328125 8.296875 \nQ 12.9375 14.109375 22.625 23.890625 \nQ 32.328125 33.6875 34.8125 36.53125 \nQ 39.546875 41.84375 41.421875 45.53125 \nQ 43.3125 49.21875 43.3125 52.78125 \nQ 43.3125 58.59375 39.234375 62.25 \nQ 35.15625 65.921875 28.609375 65.921875 \nQ 23.96875 65.921875 18.8125 64.3125 \nQ 13.671875 62.703125 7.8125 59.421875 \nL 7.8125 69.390625 \nQ 13.765625 71.78125 18.9375 73 \nQ 24.125 74.21875 28.421875 74.21875 \nQ 39.75 74.21875 46.484375 68.546875 \nQ 53.21875 62.890625 53.21875 53.421875 \nQ 53.21875 48.921875 51.53125 44.890625 \nQ 49.859375 40.875 45.40625 35.40625 \nQ 44.1875 33.984375 37.640625 27.21875 \nQ 31.109375 20.453125 19.1875 8.296875 \nz\n\" id=\"DejaVuSans-50\"/>\n      </defs>\n      <g transform=\"translate(48.621875 160.398438)scale(0.1 -0.1)\">\n       <use xlink:href=\"#DejaVuSans-50\"/>\n      </g>\n     </g>\n    </g>\n    <g id=\"xtick_2\">\n     <g id=\"line2d_3\">\n      <path clip-path=\"url(#pfd90947c28)\" d=\"M 95.203125 145.8 \nL 95.203125 7.2 \n\" style=\"fill:none;stroke:#b0b0b0;stroke-linecap:square;stroke-width:0.8;\"/>\n     </g>\n     <g id=\"line2d_4\">\n      <g>\n       <use style=\"stroke:#000000;stroke-width:0.8;\" x=\"95.203125\" xlink:href=\"#maf6033c12d\" y=\"145.8\"/>\n      </g>\n     </g>\n     <g id=\"text_2\">\n      <!-- 4 -->\n      <defs>\n       <path d=\"M 37.796875 64.3125 \nL 12.890625 25.390625 \nL 37.796875 25.390625 \nz\nM 35.203125 72.90625 \nL 47.609375 72.90625 \nL 47.609375 25.390625 \nL 58.015625 25.390625 \nL 58.015625 17.1875 \nL 47.609375 17.1875 \nL 47.609375 0 \nL 37.796875 0 \nL 37.796875 17.1875 \nL 4.890625 17.1875 \nL 4.890625 26.703125 \nz\n\" id=\"DejaVuSans-52\"/>\n      </defs>\n      <g transform=\"translate(92.021875 160.398438)scale(0.1 -0.1)\">\n       <use xlink:href=\"#DejaVuSans-52\"/>\n      </g>\n     </g>\n    </g>\n    <g id=\"xtick_3\">\n     <g id=\"line2d_5\">\n      <path clip-path=\"url(#pfd90947c28)\" d=\"M 138.603125 145.8 \nL 138.603125 7.2 \n\" style=\"fill:none;stroke:#b0b0b0;stroke-linecap:square;stroke-width:0.8;\"/>\n     </g>\n     <g id=\"line2d_6\">\n      <g>\n       <use style=\"stroke:#000000;stroke-width:0.8;\" x=\"138.603125\" xlink:href=\"#maf6033c12d\" y=\"145.8\"/>\n      </g>\n     </g>\n     <g id=\"text_3\">\n      <!-- 6 -->\n      <defs>\n       <path d=\"M 33.015625 40.375 \nQ 26.375 40.375 22.484375 35.828125 \nQ 18.609375 31.296875 18.609375 23.390625 \nQ 18.609375 15.53125 22.484375 10.953125 \nQ 26.375 6.390625 33.015625 6.390625 \nQ 39.65625 6.390625 43.53125 10.953125 \nQ 47.40625 15.53125 47.40625 23.390625 \nQ 47.40625 31.296875 43.53125 35.828125 \nQ 39.65625 40.375 33.015625 40.375 \nz\nM 52.59375 71.296875 \nL 52.59375 62.3125 \nQ 48.875 64.0625 45.09375 64.984375 \nQ 41.3125 65.921875 37.59375 65.921875 \nQ 27.828125 65.921875 22.671875 59.328125 \nQ 17.53125 52.734375 16.796875 39.40625 \nQ 19.671875 43.65625 24.015625 45.921875 \nQ 28.375 48.1875 33.59375 48.1875 \nQ 44.578125 48.1875 50.953125 41.515625 \nQ 57.328125 34.859375 57.328125 23.390625 \nQ 57.328125 12.15625 50.6875 5.359375 \nQ 44.046875 -1.421875 33.015625 -1.421875 \nQ 20.359375 -1.421875 13.671875 8.265625 \nQ 6.984375 17.96875 6.984375 36.375 \nQ 6.984375 53.65625 15.1875 63.9375 \nQ 23.390625 74.21875 37.203125 74.21875 \nQ 40.921875 74.21875 44.703125 73.484375 \nQ 48.484375 72.75 52.59375 71.296875 \nz\n\" id=\"DejaVuSans-54\"/>\n      </defs>\n      <g transform=\"translate(135.421875 160.398438)scale(0.1 -0.1)\">\n       <use xlink:href=\"#DejaVuSans-54\"/>\n      </g>\n     </g>\n    </g>\n    <g id=\"xtick_4\">\n     <g id=\"line2d_7\">\n      <path clip-path=\"url(#pfd90947c28)\" d=\"M 182.003125 145.8 \nL 182.003125 7.2 \n\" style=\"fill:none;stroke:#b0b0b0;stroke-linecap:square;stroke-width:0.8;\"/>\n     </g>\n     <g id=\"line2d_8\">\n      <g>\n       <use style=\"stroke:#000000;stroke-width:0.8;\" x=\"182.003125\" xlink:href=\"#maf6033c12d\" y=\"145.8\"/>\n      </g>\n     </g>\n     <g id=\"text_4\">\n      <!-- 8 -->\n      <defs>\n       <path d=\"M 31.78125 34.625 \nQ 24.75 34.625 20.71875 30.859375 \nQ 16.703125 27.09375 16.703125 20.515625 \nQ 16.703125 13.921875 20.71875 10.15625 \nQ 24.75 6.390625 31.78125 6.390625 \nQ 38.8125 6.390625 42.859375 10.171875 \nQ 46.921875 13.96875 46.921875 20.515625 \nQ 46.921875 27.09375 42.890625 30.859375 \nQ 38.875 34.625 31.78125 34.625 \nz\nM 21.921875 38.8125 \nQ 15.578125 40.375 12.03125 44.71875 \nQ 8.5 49.078125 8.5 55.328125 \nQ 8.5 64.0625 14.71875 69.140625 \nQ 20.953125 74.21875 31.78125 74.21875 \nQ 42.671875 74.21875 48.875 69.140625 \nQ 55.078125 64.0625 55.078125 55.328125 \nQ 55.078125 49.078125 51.53125 44.71875 \nQ 48 40.375 41.703125 38.8125 \nQ 48.828125 37.15625 52.796875 32.3125 \nQ 56.78125 27.484375 56.78125 20.515625 \nQ 56.78125 9.90625 50.3125 4.234375 \nQ 43.84375 -1.421875 31.78125 -1.421875 \nQ 19.734375 -1.421875 13.25 4.234375 \nQ 6.78125 9.90625 6.78125 20.515625 \nQ 6.78125 27.484375 10.78125 32.3125 \nQ 14.796875 37.15625 21.921875 38.8125 \nz\nM 18.3125 54.390625 \nQ 18.3125 48.734375 21.84375 45.5625 \nQ 25.390625 42.390625 31.78125 42.390625 \nQ 38.140625 42.390625 41.71875 45.5625 \nQ 45.3125 48.734375 45.3125 54.390625 \nQ 45.3125 60.0625 41.71875 63.234375 \nQ 38.140625 66.40625 31.78125 66.40625 \nQ 25.390625 66.40625 21.84375 63.234375 \nQ 18.3125 60.0625 18.3125 54.390625 \nz\n\" id=\"DejaVuSans-56\"/>\n      </defs>\n      <g transform=\"translate(178.821875 160.398438)scale(0.1 -0.1)\">\n       <use xlink:href=\"#DejaVuSans-56\"/>\n      </g>\n     </g>\n    </g>\n    <g id=\"xtick_5\">\n     <g id=\"line2d_9\">\n      <path clip-path=\"url(#pfd90947c28)\" d=\"M 225.403125 145.8 \nL 225.403125 7.2 \n\" style=\"fill:none;stroke:#b0b0b0;stroke-linecap:square;stroke-width:0.8;\"/>\n     </g>\n     <g id=\"line2d_10\">\n      <g>\n       <use style=\"stroke:#000000;stroke-width:0.8;\" x=\"225.403125\" xlink:href=\"#maf6033c12d\" y=\"145.8\"/>\n      </g>\n     </g>\n     <g id=\"text_5\">\n      <!-- 10 -->\n      <defs>\n       <path d=\"M 12.40625 8.296875 \nL 28.515625 8.296875 \nL 28.515625 63.921875 \nL 10.984375 60.40625 \nL 10.984375 69.390625 \nL 28.421875 72.90625 \nL 38.28125 72.90625 \nL 38.28125 8.296875 \nL 54.390625 8.296875 \nL 54.390625 0 \nL 12.40625 0 \nz\n\" id=\"DejaVuSans-49\"/>\n       <path d=\"M 31.78125 66.40625 \nQ 24.171875 66.40625 20.328125 58.90625 \nQ 16.5 51.421875 16.5 36.375 \nQ 16.5 21.390625 20.328125 13.890625 \nQ 24.171875 6.390625 31.78125 6.390625 \nQ 39.453125 6.390625 43.28125 13.890625 \nQ 47.125 21.390625 47.125 36.375 \nQ 47.125 51.421875 43.28125 58.90625 \nQ 39.453125 66.40625 31.78125 66.40625 \nz\nM 31.78125 74.21875 \nQ 44.046875 74.21875 50.515625 64.515625 \nQ 56.984375 54.828125 56.984375 36.375 \nQ 56.984375 17.96875 50.515625 8.265625 \nQ 44.046875 -1.421875 31.78125 -1.421875 \nQ 19.53125 -1.421875 13.0625 8.265625 \nQ 6.59375 17.96875 6.59375 36.375 \nQ 6.59375 54.828125 13.0625 64.515625 \nQ 19.53125 74.21875 31.78125 74.21875 \nz\n\" id=\"DejaVuSans-48\"/>\n      </defs>\n      <g transform=\"translate(219.040625 160.398438)scale(0.1 -0.1)\">\n       <use xlink:href=\"#DejaVuSans-49\"/>\n       <use x=\"63.623047\" xlink:href=\"#DejaVuSans-48\"/>\n      </g>\n     </g>\n    </g>\n    <g id=\"text_6\">\n     <!-- epoch -->\n     <defs>\n      <path d=\"M 56.203125 29.59375 \nL 56.203125 25.203125 \nL 14.890625 25.203125 \nQ 15.484375 15.921875 20.484375 11.0625 \nQ 25.484375 6.203125 34.421875 6.203125 \nQ 39.59375 6.203125 44.453125 7.46875 \nQ 49.3125 8.734375 54.109375 11.28125 \nL 54.109375 2.78125 \nQ 49.265625 0.734375 44.1875 -0.34375 \nQ 39.109375 -1.421875 33.890625 -1.421875 \nQ 20.796875 -1.421875 13.15625 6.1875 \nQ 5.515625 13.8125 5.515625 26.8125 \nQ 5.515625 40.234375 12.765625 48.109375 \nQ 20.015625 56 32.328125 56 \nQ 43.359375 56 49.78125 48.890625 \nQ 56.203125 41.796875 56.203125 29.59375 \nz\nM 47.21875 32.234375 \nQ 47.125 39.59375 43.09375 43.984375 \nQ 39.0625 48.390625 32.421875 48.390625 \nQ 24.90625 48.390625 20.390625 44.140625 \nQ 15.875 39.890625 15.1875 32.171875 \nz\n\" id=\"DejaVuSans-101\"/>\n      <path d=\"M 18.109375 8.203125 \nL 18.109375 -20.796875 \nL 9.078125 -20.796875 \nL 9.078125 54.6875 \nL 18.109375 54.6875 \nL 18.109375 46.390625 \nQ 20.953125 51.265625 25.265625 53.625 \nQ 29.59375 56 35.59375 56 \nQ 45.5625 56 51.78125 48.09375 \nQ 58.015625 40.1875 58.015625 27.296875 \nQ 58.015625 14.40625 51.78125 6.484375 \nQ 45.5625 -1.421875 35.59375 -1.421875 \nQ 29.59375 -1.421875 25.265625 0.953125 \nQ 20.953125 3.328125 18.109375 8.203125 \nz\nM 48.6875 27.296875 \nQ 48.6875 37.203125 44.609375 42.84375 \nQ 40.53125 48.484375 33.40625 48.484375 \nQ 26.265625 48.484375 22.1875 42.84375 \nQ 18.109375 37.203125 18.109375 27.296875 \nQ 18.109375 17.390625 22.1875 11.75 \nQ 26.265625 6.109375 33.40625 6.109375 \nQ 40.53125 6.109375 44.609375 11.75 \nQ 48.6875 17.390625 48.6875 27.296875 \nz\n\" id=\"DejaVuSans-112\"/>\n      <path d=\"M 30.609375 48.390625 \nQ 23.390625 48.390625 19.1875 42.75 \nQ 14.984375 37.109375 14.984375 27.296875 \nQ 14.984375 17.484375 19.15625 11.84375 \nQ 23.34375 6.203125 30.609375 6.203125 \nQ 37.796875 6.203125 41.984375 11.859375 \nQ 46.1875 17.53125 46.1875 27.296875 \nQ 46.1875 37.015625 41.984375 42.703125 \nQ 37.796875 48.390625 30.609375 48.390625 \nz\nM 30.609375 56 \nQ 42.328125 56 49.015625 48.375 \nQ 55.71875 40.765625 55.71875 27.296875 \nQ 55.71875 13.875 49.015625 6.21875 \nQ 42.328125 -1.421875 30.609375 -1.421875 \nQ 18.84375 -1.421875 12.171875 6.21875 \nQ 5.515625 13.875 5.515625 27.296875 \nQ 5.515625 40.765625 12.171875 48.375 \nQ 18.84375 56 30.609375 56 \nz\n\" id=\"DejaVuSans-111\"/>\n      <path d=\"M 48.78125 52.59375 \nL 48.78125 44.1875 \nQ 44.96875 46.296875 41.140625 47.34375 \nQ 37.3125 48.390625 33.40625 48.390625 \nQ 24.65625 48.390625 19.8125 42.84375 \nQ 14.984375 37.3125 14.984375 27.296875 \nQ 14.984375 17.28125 19.8125 11.734375 \nQ 24.65625 6.203125 33.40625 6.203125 \nQ 37.3125 6.203125 41.140625 7.25 \nQ 44.96875 8.296875 48.78125 10.40625 \nL 48.78125 2.09375 \nQ 45.015625 0.34375 40.984375 -0.53125 \nQ 36.96875 -1.421875 32.421875 -1.421875 \nQ 20.0625 -1.421875 12.78125 6.34375 \nQ 5.515625 14.109375 5.515625 27.296875 \nQ 5.515625 40.671875 12.859375 48.328125 \nQ 20.21875 56 33.015625 56 \nQ 37.15625 56 41.109375 55.140625 \nQ 45.0625 54.296875 48.78125 52.59375 \nz\n\" id=\"DejaVuSans-99\"/>\n      <path d=\"M 54.890625 33.015625 \nL 54.890625 0 \nL 45.90625 0 \nL 45.90625 32.71875 \nQ 45.90625 40.484375 42.875 44.328125 \nQ 39.84375 48.1875 33.796875 48.1875 \nQ 26.515625 48.1875 22.3125 43.546875 \nQ 18.109375 38.921875 18.109375 30.90625 \nL 18.109375 0 \nL 9.078125 0 \nL 9.078125 75.984375 \nL 18.109375 75.984375 \nL 18.109375 46.1875 \nQ 21.34375 51.125 25.703125 53.5625 \nQ 30.078125 56 35.796875 56 \nQ 45.21875 56 50.046875 50.171875 \nQ 54.890625 44.34375 54.890625 33.015625 \nz\n\" id=\"DejaVuSans-104\"/>\n     </defs>\n     <g transform=\"translate(112.525 174.076563)scale(0.1 -0.1)\">\n      <use xlink:href=\"#DejaVuSans-101\"/>\n      <use x=\"61.523438\" xlink:href=\"#DejaVuSans-112\"/>\n      <use x=\"125\" xlink:href=\"#DejaVuSans-111\"/>\n      <use x=\"186.181641\" xlink:href=\"#DejaVuSans-99\"/>\n      <use x=\"241.162109\" xlink:href=\"#DejaVuSans-104\"/>\n     </g>\n    </g>\n   </g>\n   <g id=\"matplotlib.axis_2\">\n    <g id=\"ytick_1\">\n     <g id=\"line2d_11\">\n      <path clip-path=\"url(#pfd90947c28)\" d=\"M 30.103125 122.7 \nL 225.403125 122.7 \n\" style=\"fill:none;stroke:#b0b0b0;stroke-linecap:square;stroke-width:0.8;\"/>\n     </g>\n     <g id=\"line2d_12\">\n      <defs>\n       <path d=\"M 0 0 \nL -3.5 0 \n\" id=\"m2f397599c6\" style=\"stroke:#000000;stroke-width:0.8;\"/>\n      </defs>\n      <g>\n       <use style=\"stroke:#000000;stroke-width:0.8;\" x=\"30.103125\" xlink:href=\"#m2f397599c6\" y=\"122.7\"/>\n      </g>\n     </g>\n     <g id=\"text_7\">\n      <!-- 0.4 -->\n      <defs>\n       <path d=\"M 10.6875 12.40625 \nL 21 12.40625 \nL 21 0 \nL 10.6875 0 \nz\n\" id=\"DejaVuSans-46\"/>\n      </defs>\n      <g transform=\"translate(7.2 126.499219)scale(0.1 -0.1)\">\n       <use xlink:href=\"#DejaVuSans-48\"/>\n       <use x=\"63.623047\" xlink:href=\"#DejaVuSans-46\"/>\n       <use x=\"95.410156\" xlink:href=\"#DejaVuSans-52\"/>\n      </g>\n     </g>\n    </g>\n    <g id=\"ytick_2\">\n     <g id=\"line2d_13\">\n      <path clip-path=\"url(#pfd90947c28)\" d=\"M 30.103125 76.5 \nL 225.403125 76.5 \n\" style=\"fill:none;stroke:#b0b0b0;stroke-linecap:square;stroke-width:0.8;\"/>\n     </g>\n     <g id=\"line2d_14\">\n      <g>\n       <use style=\"stroke:#000000;stroke-width:0.8;\" x=\"30.103125\" xlink:href=\"#m2f397599c6\" y=\"76.5\"/>\n      </g>\n     </g>\n     <g id=\"text_8\">\n      <!-- 0.6 -->\n      <g transform=\"translate(7.2 80.299219)scale(0.1 -0.1)\">\n       <use xlink:href=\"#DejaVuSans-48\"/>\n       <use x=\"63.623047\" xlink:href=\"#DejaVuSans-46\"/>\n       <use x=\"95.410156\" xlink:href=\"#DejaVuSans-54\"/>\n      </g>\n     </g>\n    </g>\n    <g id=\"ytick_3\">\n     <g id=\"line2d_15\">\n      <path clip-path=\"url(#pfd90947c28)\" d=\"M 30.103125 30.3 \nL 225.403125 30.3 \n\" style=\"fill:none;stroke:#b0b0b0;stroke-linecap:square;stroke-width:0.8;\"/>\n     </g>\n     <g id=\"line2d_16\">\n      <g>\n       <use style=\"stroke:#000000;stroke-width:0.8;\" x=\"30.103125\" xlink:href=\"#m2f397599c6\" y=\"30.3\"/>\n      </g>\n     </g>\n     <g id=\"text_9\">\n      <!-- 0.8 -->\n      <g transform=\"translate(7.2 34.099219)scale(0.1 -0.1)\">\n       <use xlink:href=\"#DejaVuSans-48\"/>\n       <use x=\"63.623047\" xlink:href=\"#DejaVuSans-46\"/>\n       <use x=\"95.410156\" xlink:href=\"#DejaVuSans-56\"/>\n      </g>\n     </g>\n    </g>\n   </g>\n   <g id=\"line2d_17\">\n    <path clip-path=\"url(#pfd90947c28)\" style=\"fill:none;stroke:#1f77b4;stroke-linecap:square;stroke-width:1.5;\"/>\n   </g>\n   <g id=\"line2d_18\">\n    <path clip-path=\"url(#pfd90947c28)\" d=\"M 30.103125 146.3313 \nL 51.803125 86.47535 \nL 73.503125 69.26585 \nL 95.203125 64.85375 \nL 116.903125 63.102 \nL 138.603125 62.5553 \nL 160.303125 61.94315 \nL 182.003125 61.73525 \nL 203.703125 61.3541 \nL 225.403125 60.8151 \n\" style=\"fill:none;stroke:#bf00bf;stroke-dasharray:5.55,2.4;stroke-dashoffset:0;stroke-width:1.5;\"/>\n   </g>\n   <g id=\"line2d_19\">\n    <path clip-path=\"url(#pfd90947c28)\" d=\"M 30.103125 106.1142 \nL 51.803125 76.0842 \nL 73.503125 68.6229 \nL 95.203125 66.2436 \nL 116.903125 65.2965 \nL 138.603125 63.795 \nL 160.303125 64.1646 \nL 182.003125 63.3792 \nL 203.703125 62.8479 \nL 225.403125 62.7786 \n\" style=\"fill:none;stroke:#008000;stroke-dasharray:9.6,2.4,1.5,2.4;stroke-dashoffset:0;stroke-width:1.5;\"/>\n   </g>\n   <g id=\"patch_3\">\n    <path d=\"M 30.103125 145.8 \nL 30.103125 7.2 \n\" style=\"fill:none;stroke:#000000;stroke-linecap:square;stroke-linejoin:miter;stroke-width:0.8;\"/>\n   </g>\n   <g id=\"patch_4\">\n    <path d=\"M 225.403125 145.8 \nL 225.403125 7.2 \n\" style=\"fill:none;stroke:#000000;stroke-linecap:square;stroke-linejoin:miter;stroke-width:0.8;\"/>\n   </g>\n   <g id=\"patch_5\">\n    <path d=\"M 30.103125 145.8 \nL 225.403125 145.8 \n\" style=\"fill:none;stroke:#000000;stroke-linecap:square;stroke-linejoin:miter;stroke-width:0.8;\"/>\n   </g>\n   <g id=\"patch_6\">\n    <path d=\"M 30.103125 7.2 \nL 225.403125 7.2 \n\" style=\"fill:none;stroke:#000000;stroke-linecap:square;stroke-linejoin:miter;stroke-width:0.8;\"/>\n   </g>\n   <g id=\"legend_1\">\n    <g id=\"patch_7\">\n     <path d=\"M 140.634375 59.234375 \nL 218.403125 59.234375 \nQ 220.403125 59.234375 220.403125 57.234375 \nL 220.403125 14.2 \nQ 220.403125 12.2 218.403125 12.2 \nL 140.634375 12.2 \nQ 138.634375 12.2 138.634375 14.2 \nL 138.634375 57.234375 \nQ 138.634375 59.234375 140.634375 59.234375 \nz\n\" style=\"fill:#ffffff;opacity:0.8;stroke:#cccccc;stroke-linejoin:miter;\"/>\n    </g>\n    <g id=\"line2d_20\">\n     <path d=\"M 142.634375 20.298438 \nL 162.634375 20.298438 \n\" style=\"fill:none;stroke:#1f77b4;stroke-linecap:square;stroke-width:1.5;\"/>\n    </g>\n    <g id=\"line2d_21\"/>\n    <g id=\"text_10\">\n     <!-- train loss -->\n     <defs>\n      <path d=\"M 18.3125 70.21875 \nL 18.3125 54.6875 \nL 36.8125 54.6875 \nL 36.8125 47.703125 \nL 18.3125 47.703125 \nL 18.3125 18.015625 \nQ 18.3125 11.328125 20.140625 9.421875 \nQ 21.96875 7.515625 27.59375 7.515625 \nL 36.8125 7.515625 \nL 36.8125 0 \nL 27.59375 0 \nQ 17.1875 0 13.234375 3.875 \nQ 9.28125 7.765625 9.28125 18.015625 \nL 9.28125 47.703125 \nL 2.6875 47.703125 \nL 2.6875 54.6875 \nL 9.28125 54.6875 \nL 9.28125 70.21875 \nz\n\" id=\"DejaVuSans-116\"/>\n      <path d=\"M 41.109375 46.296875 \nQ 39.59375 47.171875 37.8125 47.578125 \nQ 36.03125 48 33.890625 48 \nQ 26.265625 48 22.1875 43.046875 \nQ 18.109375 38.09375 18.109375 28.8125 \nL 18.109375 0 \nL 9.078125 0 \nL 9.078125 54.6875 \nL 18.109375 54.6875 \nL 18.109375 46.1875 \nQ 20.953125 51.171875 25.484375 53.578125 \nQ 30.03125 56 36.53125 56 \nQ 37.453125 56 38.578125 55.875 \nQ 39.703125 55.765625 41.0625 55.515625 \nz\n\" id=\"DejaVuSans-114\"/>\n      <path d=\"M 34.28125 27.484375 \nQ 23.390625 27.484375 19.1875 25 \nQ 14.984375 22.515625 14.984375 16.5 \nQ 14.984375 11.71875 18.140625 8.90625 \nQ 21.296875 6.109375 26.703125 6.109375 \nQ 34.1875 6.109375 38.703125 11.40625 \nQ 43.21875 16.703125 43.21875 25.484375 \nL 43.21875 27.484375 \nz\nM 52.203125 31.203125 \nL 52.203125 0 \nL 43.21875 0 \nL 43.21875 8.296875 \nQ 40.140625 3.328125 35.546875 0.953125 \nQ 30.953125 -1.421875 24.3125 -1.421875 \nQ 15.921875 -1.421875 10.953125 3.296875 \nQ 6 8.015625 6 15.921875 \nQ 6 25.140625 12.171875 29.828125 \nQ 18.359375 34.515625 30.609375 34.515625 \nL 43.21875 34.515625 \nL 43.21875 35.40625 \nQ 43.21875 41.609375 39.140625 45 \nQ 35.0625 48.390625 27.6875 48.390625 \nQ 23 48.390625 18.546875 47.265625 \nQ 14.109375 46.140625 10.015625 43.890625 \nL 10.015625 52.203125 \nQ 14.9375 54.109375 19.578125 55.046875 \nQ 24.21875 56 28.609375 56 \nQ 40.484375 56 46.34375 49.84375 \nQ 52.203125 43.703125 52.203125 31.203125 \nz\n\" id=\"DejaVuSans-97\"/>\n      <path d=\"M 9.421875 54.6875 \nL 18.40625 54.6875 \nL 18.40625 0 \nL 9.421875 0 \nz\nM 9.421875 75.984375 \nL 18.40625 75.984375 \nL 18.40625 64.59375 \nL 9.421875 64.59375 \nz\n\" id=\"DejaVuSans-105\"/>\n      <path d=\"M 54.890625 33.015625 \nL 54.890625 0 \nL 45.90625 0 \nL 45.90625 32.71875 \nQ 45.90625 40.484375 42.875 44.328125 \nQ 39.84375 48.1875 33.796875 48.1875 \nQ 26.515625 48.1875 22.3125 43.546875 \nQ 18.109375 38.921875 18.109375 30.90625 \nL 18.109375 0 \nL 9.078125 0 \nL 9.078125 54.6875 \nL 18.109375 54.6875 \nL 18.109375 46.1875 \nQ 21.34375 51.125 25.703125 53.5625 \nQ 30.078125 56 35.796875 56 \nQ 45.21875 56 50.046875 50.171875 \nQ 54.890625 44.34375 54.890625 33.015625 \nz\n\" id=\"DejaVuSans-110\"/>\n      <path id=\"DejaVuSans-32\"/>\n      <path d=\"M 9.421875 75.984375 \nL 18.40625 75.984375 \nL 18.40625 0 \nL 9.421875 0 \nz\n\" id=\"DejaVuSans-108\"/>\n      <path d=\"M 44.28125 53.078125 \nL 44.28125 44.578125 \nQ 40.484375 46.53125 36.375 47.5 \nQ 32.28125 48.484375 27.875 48.484375 \nQ 21.1875 48.484375 17.84375 46.4375 \nQ 14.5 44.390625 14.5 40.28125 \nQ 14.5 37.15625 16.890625 35.375 \nQ 19.28125 33.59375 26.515625 31.984375 \nL 29.59375 31.296875 \nQ 39.15625 29.25 43.1875 25.515625 \nQ 47.21875 21.78125 47.21875 15.09375 \nQ 47.21875 7.46875 41.1875 3.015625 \nQ 35.15625 -1.421875 24.609375 -1.421875 \nQ 20.21875 -1.421875 15.453125 -0.5625 \nQ 10.6875 0.296875 5.421875 2 \nL 5.421875 11.28125 \nQ 10.40625 8.6875 15.234375 7.390625 \nQ 20.0625 6.109375 24.8125 6.109375 \nQ 31.15625 6.109375 34.5625 8.28125 \nQ 37.984375 10.453125 37.984375 14.40625 \nQ 37.984375 18.0625 35.515625 20.015625 \nQ 33.0625 21.96875 24.703125 23.78125 \nL 21.578125 24.515625 \nQ 13.234375 26.265625 9.515625 29.90625 \nQ 5.8125 33.546875 5.8125 39.890625 \nQ 5.8125 47.609375 11.28125 51.796875 \nQ 16.75 56 26.8125 56 \nQ 31.78125 56 36.171875 55.265625 \nQ 40.578125 54.546875 44.28125 53.078125 \nz\n\" id=\"DejaVuSans-115\"/>\n     </defs>\n     <g transform=\"translate(170.634375 23.798438)scale(0.1 -0.1)\">\n      <use xlink:href=\"#DejaVuSans-116\"/>\n      <use x=\"39.208984\" xlink:href=\"#DejaVuSans-114\"/>\n      <use x=\"80.322266\" xlink:href=\"#DejaVuSans-97\"/>\n      <use x=\"141.601562\" xlink:href=\"#DejaVuSans-105\"/>\n      <use x=\"169.384766\" xlink:href=\"#DejaVuSans-110\"/>\n      <use x=\"232.763672\" xlink:href=\"#DejaVuSans-32\"/>\n      <use x=\"264.550781\" xlink:href=\"#DejaVuSans-108\"/>\n      <use x=\"292.333984\" xlink:href=\"#DejaVuSans-111\"/>\n      <use x=\"353.515625\" xlink:href=\"#DejaVuSans-115\"/>\n      <use x=\"405.615234\" xlink:href=\"#DejaVuSans-115\"/>\n     </g>\n    </g>\n    <g id=\"line2d_22\">\n     <path d=\"M 142.634375 34.976563 \nL 162.634375 34.976563 \n\" style=\"fill:none;stroke:#bf00bf;stroke-dasharray:5.55,2.4;stroke-dashoffset:0;stroke-width:1.5;\"/>\n    </g>\n    <g id=\"line2d_23\"/>\n    <g id=\"text_11\">\n     <!-- train acc -->\n     <g transform=\"translate(170.634375 38.476563)scale(0.1 -0.1)\">\n      <use xlink:href=\"#DejaVuSans-116\"/>\n      <use x=\"39.208984\" xlink:href=\"#DejaVuSans-114\"/>\n      <use x=\"80.322266\" xlink:href=\"#DejaVuSans-97\"/>\n      <use x=\"141.601562\" xlink:href=\"#DejaVuSans-105\"/>\n      <use x=\"169.384766\" xlink:href=\"#DejaVuSans-110\"/>\n      <use x=\"232.763672\" xlink:href=\"#DejaVuSans-32\"/>\n      <use x=\"264.550781\" xlink:href=\"#DejaVuSans-97\"/>\n      <use x=\"325.830078\" xlink:href=\"#DejaVuSans-99\"/>\n      <use x=\"380.810547\" xlink:href=\"#DejaVuSans-99\"/>\n     </g>\n    </g>\n    <g id=\"line2d_24\">\n     <path d=\"M 142.634375 49.654688 \nL 162.634375 49.654688 \n\" style=\"fill:none;stroke:#008000;stroke-dasharray:9.6,2.4,1.5,2.4;stroke-dashoffset:0;stroke-width:1.5;\"/>\n    </g>\n    <g id=\"line2d_25\"/>\n    <g id=\"text_12\">\n     <!-- test acc -->\n     <g transform=\"translate(170.634375 53.154688)scale(0.1 -0.1)\">\n      <use xlink:href=\"#DejaVuSans-116\"/>\n      <use x=\"39.208984\" xlink:href=\"#DejaVuSans-101\"/>\n      <use x=\"100.732422\" xlink:href=\"#DejaVuSans-115\"/>\n      <use x=\"152.832031\" xlink:href=\"#DejaVuSans-116\"/>\n      <use x=\"192.041016\" xlink:href=\"#DejaVuSans-32\"/>\n      <use x=\"223.828125\" xlink:href=\"#DejaVuSans-97\"/>\n      <use x=\"285.107422\" xlink:href=\"#DejaVuSans-99\"/>\n      <use x=\"340.087891\" xlink:href=\"#DejaVuSans-99\"/>\n     </g>\n    </g>\n   </g>\n  </g>\n </g>\n <defs>\n  <clipPath id=\"pfd90947c28\">\n   <rect height=\"138.6\" width=\"195.3\" x=\"30.103125\" y=\"7.2\"/>\n  </clipPath>\n </defs>\n</svg>\n"
          },
          "metadata": {}
        }
      ]
    },
    {
      "cell_type": "code",
      "source": [
        "def predict(net, test_iter, n=6):\n",
        "  for X, y in test_iter:\n",
        "    break\n",
        "  trues = d2l.get_fashion_mnist_labels(y)\n",
        "  preds = d2l.get_fashion_mnist_labels(net(X).argmax(axis = 1))\n",
        "  titles = [true + '\\n' + pred for true, pred in zip(trues, preds)]\n",
        "  d2l.show_images(\n",
        "      X[0:n].reshape((n, 28, 28)), 1 , n, titles = titles[0:n])\n",
        "predict(net, test_iter)"
      ],
      "metadata": {
        "id": "hkU0DahPepAA"
      },
      "execution_count": null,
      "outputs": []
    },
    {
      "cell_type": "code",
      "source": [
        "import torch\n",
        "from torch import nn\n",
        "from d2l import torch as d2l"
      ],
      "metadata": {
        "id": "jwQryqM1iKxx"
      },
      "execution_count": 35,
      "outputs": []
    },
    {
      "cell_type": "code",
      "source": [
        "batch_size = 256\n",
        "train_iter, test_iter = d2l.load_data_fashion_mnist(batch_size)"
      ],
      "metadata": {
        "id": "nKPv6tCAiuki",
        "colab": {
          "base_uri": "https://localhost:8080/"
        },
        "outputId": "4f761117-7e1c-489b-8444-605311c0f33a"
      },
      "execution_count": 36,
      "outputs": [
        {
          "output_type": "stream",
          "name": "stderr",
          "text": [
            "/usr/local/lib/python3.10/dist-packages/torch/utils/data/dataloader.py:557: UserWarning: This DataLoader will create 4 worker processes in total. Our suggested max number of worker in current system is 2, which is smaller than what this DataLoader is going to create. Please be aware that excessive worker creation might get DataLoader running slow or even freeze, lower the worker number to avoid potential slowness/freeze if necessary.\n",
            "  warnings.warn(_create_warning_msg(\n"
          ]
        }
      ]
    },
    {
      "cell_type": "code",
      "source": [
        "net = nn.Sequential(nn.Flatten(), nn.Linear(784, 10))\n",
        "\n",
        "def init_weights(m):\n",
        "  if type(m) == nn.Linear:\n",
        "    nn.init.normal_(m.weight, std = 0.01)\n",
        "\n",
        "net.apply(init_weights)"
      ],
      "metadata": {
        "colab": {
          "base_uri": "https://localhost:8080/"
        },
        "id": "EDPRRiSui4oh",
        "outputId": "0cb4151d-b4f1-4ab2-9368-ed4ce4034269"
      },
      "execution_count": 37,
      "outputs": [
        {
          "output_type": "execute_result",
          "data": {
            "text/plain": [
              "Sequential(\n",
              "  (0): Flatten(start_dim=1, end_dim=-1)\n",
              "  (1): Linear(in_features=784, out_features=10, bias=True)\n",
              ")"
            ]
          },
          "metadata": {},
          "execution_count": 37
        }
      ]
    },
    {
      "cell_type": "code",
      "source": [
        "loss = nn.CrossEntropyLoss(reduction = 'none')"
      ],
      "metadata": {
        "id": "OyhPnQL4jYQc"
      },
      "execution_count": 38,
      "outputs": []
    },
    {
      "cell_type": "code",
      "source": [
        "trainer = torch.optim.SGD(net.parameters(), lr = 0.1)"
      ],
      "metadata": {
        "id": "ZNcmSoOqjil4"
      },
      "execution_count": 39,
      "outputs": []
    },
    {
      "cell_type": "code",
      "source": [
        "num_epochs = 10\n",
        "d2l.train_ch3(net, train_iter, test_iter, loss, num_epochs, trainer)"
      ],
      "metadata": {
        "colab": {
          "base_uri": "https://localhost:8080/",
          "height": 201
        },
        "id": "ge2s_Tbwjoyv",
        "outputId": "255b6d28-7e7b-41f5-b455-4fe7efbfbeff"
      },
      "execution_count": 40,
      "outputs": [
        {
          "output_type": "error",
          "ename": "AttributeError",
          "evalue": "module 'd2l.torch' has no attribute 'train_ch3'",
          "traceback": [
            "\u001b[0;31m---------------------------------------------------------------------------\u001b[0m",
            "\u001b[0;31mAttributeError\u001b[0m                            Traceback (most recent call last)",
            "\u001b[0;32m<ipython-input-40-335a12f1ccf6>\u001b[0m in \u001b[0;36m<cell line: 2>\u001b[0;34m()\u001b[0m\n\u001b[1;32m      1\u001b[0m \u001b[0mnum_epochs\u001b[0m \u001b[0;34m=\u001b[0m \u001b[0;36m10\u001b[0m\u001b[0;34m\u001b[0m\u001b[0;34m\u001b[0m\u001b[0m\n\u001b[0;32m----> 2\u001b[0;31m \u001b[0md2l\u001b[0m\u001b[0;34m.\u001b[0m\u001b[0mtrain_ch3\u001b[0m\u001b[0;34m(\u001b[0m\u001b[0mnet\u001b[0m\u001b[0;34m,\u001b[0m \u001b[0mtrain_iter\u001b[0m\u001b[0;34m,\u001b[0m \u001b[0mtest_iter\u001b[0m\u001b[0;34m,\u001b[0m \u001b[0mloss\u001b[0m\u001b[0;34m,\u001b[0m \u001b[0mnum_epochs\u001b[0m\u001b[0;34m,\u001b[0m \u001b[0mtrainer\u001b[0m\u001b[0;34m)\u001b[0m\u001b[0;34m\u001b[0m\u001b[0;34m\u001b[0m\u001b[0m\n\u001b[0m",
            "\u001b[0;31mAttributeError\u001b[0m: module 'd2l.torch' has no attribute 'train_ch3'"
          ]
        }
      ]
    },
    {
      "cell_type": "markdown",
      "source": [
        "## 세션 때 배운 코드를 복습해봐요 😀\n",
        "\n",
        "**강의자료 보지않고 빈 칸 채워보기!**"
      ],
      "metadata": {
        "id": "-ISBy2jOoEZ-"
      }
    },
    {
      "cell_type": "markdown",
      "source": [
        "# Numpy"
      ],
      "metadata": {
        "id": "z-OCeRwE501A"
      }
    },
    {
      "cell_type": "markdown",
      "source": [
        "### data generation"
      ],
      "metadata": {
        "id": "LInG3TtLpd5f"
      }
    },
    {
      "cell_type": "code",
      "execution_count": 41,
      "metadata": {
        "id": "HJFKULjNo1q6"
      },
      "outputs": [],
      "source": [
        "import numpy as np\n",
        "\n",
        "true_b = 1\n",
        "true_w = 2\n",
        "\n",
        "N = 100\n",
        "\n",
        "np.random.seed(42)\n",
        "x = np.random.rand(N,1)  # Uniform\n",
        "epsilon = (0.1 * np.random.randn(N,1))  # standard normal dist  # noise\n",
        "y =  true_w * x + true_b + epsilon## 빈칸을 채워주세요. ##"
      ]
    },
    {
      "cell_type": "markdown",
      "source": [
        "### Train-Validation Split"
      ],
      "metadata": {
        "id": "xEh5L8Fwp3w7"
      }
    },
    {
      "cell_type": "code",
      "source": [
        "# Shuffles the indices\n",
        "idx = np.arange(N)\n",
        "split_index = int(N * 0.8) #80\n",
        "\n",
        "train_idx = idx[ : split_index]## 빈칸을 채워주세요. ##]\n",
        "val_idx = idx[split_index : ]## 빈칸을 채워주세요. ##]\n",
        "\n",
        "# Generates train and validation sets\n",
        "x_train, y_train = x[train_idx], y[train_idx]\n",
        "x_val, y_val = x[val_idx], y[val_idx]"
      ],
      "metadata": {
        "id": "UJHEKRqspwmj"
      },
      "execution_count": 42,
      "outputs": []
    },
    {
      "cell_type": "markdown",
      "source": [
        "### Gradient Descent for Linear Regression"
      ],
      "metadata": {
        "id": "PoIr7k6ox4AG"
      }
    },
    {
      "cell_type": "code",
      "source": [
        "# 실행시간을 측정해주는 Decorator 입니다.\n",
        "\n",
        "import time\n",
        "def timer(func):\n",
        "  def wrapper(*args, **kwargs):\n",
        "    start_time = time.time()\n",
        "    result = func(*args, **kwargs)\n",
        "    end_time = time.time()\n",
        "    computation_time = end_time - start_time\n",
        "    print(f\"Execution time of {func.__name__}: {computation_time} seconds\")\n",
        "    return result\n",
        "  return wrapper"
      ],
      "metadata": {
        "id": "aCBAfjBstQuf"
      },
      "execution_count": 43,
      "outputs": []
    },
    {
      "cell_type": "code",
      "source": [
        "@timer\n",
        "def train_model_numpy(lr = 0.1, epochs = 1000):\n",
        "  # Initialize parameters\n",
        "  b = np.random.randn(1)\n",
        "  w = np.random.randn(1)\n",
        "\n",
        "  for epoch in range(epochs):\n",
        "    # Loss computation\n",
        "    y_hat = b + w * x_train\n",
        "    error = (y_hat - y_train)\n",
        "    mse_loss = np.mean(error ** 2)##빈칸을 채워주세요. ##\n",
        "\n",
        "    # Gradient computation\n",
        "    b_grad = np.mean(error)  ## 빈칸을 채워주세요. ## 미분 어떻게 했었죠?ㅎㅎ\n",
        "    w_grad = np.mean(error * x_train) ## 빈칸을 채워주세요. ##\n",
        "    b = b - lr * b_grad\n",
        "    w = w - lr * w_grad\n",
        "  return b, w\n"
      ],
      "metadata": {
        "id": "Xp67TxhNx3Sb"
      },
      "execution_count": 44,
      "outputs": []
    },
    {
      "cell_type": "code",
      "source": [
        "b, w = train_model_numpy()\n",
        "print(\"b_estimate:{}, w_estimate:{}\".format(b,w))"
      ],
      "metadata": {
        "colab": {
          "base_uri": "https://localhost:8080/"
        },
        "id": "eHhjWAi94Qkb",
        "outputId": "ba6a3cd8-77ec-4e84-fd36-7ed9da72b906"
      },
      "execution_count": 45,
      "outputs": [
        {
          "output_type": "stream",
          "name": "stdout",
          "text": [
            "Execution time of train_model_numpy: 0.05156970024108887 seconds\n",
            "b_estimate:[1.02340811], w_estimate:[1.93681847]\n"
          ]
        }
      ]
    },
    {
      "cell_type": "markdown",
      "source": [
        "# Pytorch"
      ],
      "metadata": {
        "id": "Cztmazj1534o"
      }
    },
    {
      "cell_type": "markdown",
      "source": [
        "### Data Generation"
      ],
      "metadata": {
        "id": "gBaXz1OL6LPP"
      }
    },
    {
      "cell_type": "code",
      "source": [
        "import torch\n",
        "\n",
        "# create tensor at CPU:\n",
        "x_train_tensor = torch.as_tensor(x_train)\n",
        "y_train_tensor = torch.as_tensor(y_train)\n",
        "\n",
        "# create tensor ar GPU:\n",
        "device = 'cuda' if torch.cuda.is_available() else 'cpu'\n",
        "## 빈칸을 채워주세요. ##  # GPU가 현재 연결이 되어있다면 cuda를 콜하겠다. 아니면 cpu 쓰겠다! 하는 코드\n",
        "x_train_tensor = torch.as_tensor(x_train).to(device)\n",
        "y_train_tensor = torch.as_tensor(y_train).to(device)\n"
      ],
      "metadata": {
        "id": "rtyfd4_95zzv"
      },
      "execution_count": 46,
      "outputs": []
    },
    {
      "cell_type": "markdown",
      "source": [
        "### Gradient Descent"
      ],
      "metadata": {
        "id": "AO0Yof1p8FUW"
      }
    },
    {
      "cell_type": "code",
      "source": [
        "@timer\n",
        "def train_model_torch(lr = 0.1, epochs=1000):\n",
        "  # Initialize parameters\n",
        "  b = torch.randn(1, requires_grad= True, dtype = torch.float, device = device) ##  빈칸을 채워주세요. ##)\n",
        "  w = torch.randn(1, requires_grad= True, dtype = torch.float, device = device) ## 빈칸을 채워주세요. ##)\n",
        "\n",
        "  for epoch in range(epochs):\n",
        "    # Loss computation\n",
        "    y_hat = b + w * x_train_tensor\n",
        "    error = (y_hat - y_train_tensor)\n",
        "    mse_loss = torch.mean(error**2)##  빈칸을 채워주세요. ##\n",
        "    # Gradient computation and descent\n",
        "    mse_loss.backward()\n",
        "    with torch.no_grad() :\n",
        "    ## 빈칸을 채워주세요. ## # 경사 하강법 할 땐 auto grad 끄고 하는 게 좋죠!\n",
        "      b -= lr * b.grad## 빈칸을 채워주세요. ##  # in-place operation 써줘야합니다!\n",
        "      w -= lr * w.grad## 빈칸을 채워주세요. ##\n",
        "    b.grad.zero_()## 빈칸을 채워주세요. ## # gradient 초기화 시켜줘야해요. 안 하면 누적합으로 계산하기 때문에!\n",
        "    w.grad.zero_()## 빈칸을 채워주세요. ##\n",
        "  return b, w"
      ],
      "metadata": {
        "id": "rX-WAf4b7ljU"
      },
      "execution_count": 47,
      "outputs": []
    },
    {
      "cell_type": "code",
      "source": [
        "b, w = train_model_torch()\n",
        "print(\"b_estimate:{}, w_estimate:{}\".format(b,w))"
      ],
      "metadata": {
        "colab": {
          "base_uri": "https://localhost:8080/"
        },
        "id": "7JfprsWdBAFg",
        "outputId": "17cf6381-9eff-4d6c-da42-e4d9f87cc6b9"
      },
      "execution_count": 48,
      "outputs": [
        {
          "output_type": "stream",
          "name": "stdout",
          "text": [
            "Execution time of train_model_torch: 0.2272958755493164 seconds\n",
            "b_estimate:tensor([1.0234], requires_grad=True), w_estimate:tensor([1.9368], requires_grad=True)\n"
          ]
        }
      ]
    },
    {
      "cell_type": "markdown",
      "source": [
        "**optimizer 를 사용해서 gradient descent 를 하는 방법도 있어요!**"
      ],
      "metadata": {
        "id": "Ju4y0iMOraU6"
      }
    },
    {
      "cell_type": "code",
      "source": [
        "import torch.optim as optim\n",
        "import torch.nn as nn\n",
        "\n",
        "@timer\n",
        "def train_model_torch(lr = 0.1, epochs=1000):\n",
        "  # Initialize parameters\n",
        "  b = torch.randn(1, requires_grad = True, dtype = torch.float, device = device)\n",
        "  w = torch.randn(1, requires_grad = True, dtype = torch.float, device = device)\n",
        "  parameters = [b, w]\n",
        "  optimizer = optim.SGD(parameters, lr = lr)\n",
        "  mse_loss = nn.MSELoss()\n",
        "\n",
        "  for epoch in range(epochs):\n",
        "    # Loss computation\n",
        "    y_hat = b + w * x_train_tensor\n",
        "    loss = mse_loss(y_hat, y_train_tensor)\n",
        "    # Gradient computation and descent\n",
        "    loss.backward()\n",
        "    optimizer.step() # 경사하강법 연산, step 한 번을 밟는다!\n",
        "    optimizer.zero_grad()\n",
        "  return b, w"
      ],
      "metadata": {
        "id": "dslxhYqC_-f4"
      },
      "execution_count": 49,
      "outputs": []
    },
    {
      "cell_type": "code",
      "source": [
        "b, w = train_model_torch()\n",
        "print(\"b_estimate:{}, w_estimate:{}\".format(b,w))"
      ],
      "metadata": {
        "colab": {
          "base_uri": "https://localhost:8080/"
        },
        "id": "7Z8B2wvuFgq2",
        "outputId": "f920fbd7-0b3f-4afa-f4d2-688cc718e5ad"
      },
      "execution_count": 50,
      "outputs": [
        {
          "output_type": "stream",
          "name": "stdout",
          "text": [
            "Execution time of train_model_torch: 0.8745355606079102 seconds\n",
            "b_estimate:tensor([1.0234], requires_grad=True), w_estimate:tensor([1.9368], requires_grad=True)\n"
          ]
        }
      ]
    },
    {
      "cell_type": "code",
      "source": [],
      "metadata": {
        "id": "i9Iy3QYX-hLi"
      },
      "execution_count": 50,
      "outputs": []
    }
  ]
}