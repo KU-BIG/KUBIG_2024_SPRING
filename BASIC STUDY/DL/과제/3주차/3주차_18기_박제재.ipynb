{
  "nbformat": 4,
  "nbformat_minor": 0,
  "metadata": {
    "colab": {
      "provenance": [],
      "machine_shape": "hm",
      "gpuType": "V100"
    },
    "kernelspec": {
      "name": "python3",
      "display_name": "Python 3"
    },
    "language_info": {
      "name": "python"
    },
    "accelerator": "GPU"
  },
  "cells": [
    {
      "cell_type": "markdown",
      "source": [
        "# 3주차"
      ],
      "metadata": {
        "id": "55qN7v3M-zfO"
      }
    },
    {
      "cell_type": "code",
      "execution_count": null,
      "metadata": {
        "id": "CDKSJfIP-gJC"
      },
      "outputs": [],
      "source": [
        "import torch\n",
        "from torch import nn, optim\n",
        "from sklearn.datasets import load_breast_cancer\n",
        "from torch.utils.data import  TensorDataset, DataLoader\n",
        "from sklearn.model_selection import train_test_split\n",
        "from sklearn.metrics import accuracy_score\n",
        "import numpy as np\n",
        "from sklearn.preprocessing import StandardScaler\n",
        "import matplotlib.pyplot as plt"
      ]
    },
    {
      "cell_type": "markdown",
      "source": [
        "## breast cancer"
      ],
      "metadata": {
        "id": "PiDlHUnf_8h-"
      }
    },
    {
      "cell_type": "code",
      "source": [
        "data = load_breast_cancer()"
      ],
      "metadata": {
        "id": "5yHpS0Zr-6hS"
      },
      "execution_count": null,
      "outputs": []
    },
    {
      "cell_type": "code",
      "source": [
        "input = data.data\n",
        "output = data.target"
      ],
      "metadata": {
        "id": "XbLOqzPSACdN"
      },
      "execution_count": null,
      "outputs": []
    },
    {
      "cell_type": "code",
      "source": [
        "print(input.shape, output.shape)"
      ],
      "metadata": {
        "colab": {
          "base_uri": "https://localhost:8080/"
        },
        "id": "7ywovMo0AEf2",
        "outputId": "624a690a-9710-4814-d062-6a1d1a6e3b23"
      },
      "execution_count": null,
      "outputs": [
        {
          "output_type": "stream",
          "name": "stdout",
          "text": [
            "(569, 30) (569,)\n"
          ]
        }
      ]
    },
    {
      "cell_type": "code",
      "source": [
        "device = 'cuda' if torch.cuda.is_available() else 'cpu'\n",
        "\n",
        "torch.manual_seed(777)\n",
        "if device == \"cuda\":\n",
        "  torch.cuda.manual_seed_all(777)"
      ],
      "metadata": {
        "id": "gs9gEacIAFrO"
      },
      "execution_count": null,
      "outputs": []
    },
    {
      "cell_type": "code",
      "source": [
        "x_train, x_test, y_train, y_test = train_test_split(input, output, test_size = 0.3, random_state = 42, stratify= data.target, shuffle = True)\n",
        "\n",
        "x_train = torch.FloatTensor(x_train).to(device)\n",
        "y_train = torch.LongTensor(y_train).to(device)\n",
        "x_test = torch.FloatTensor(x_test)\n",
        "y_test = torch.LongTensor(y_test)\n",
        "\n",
        "# 데이터를 tensor로 바꿔주고 gpu 연산이 가능해지도록 gpu에 옮김\n",
        "# label 값을 왜 long 에 옮겨놓는가? loss function이 다르기 때문"
      ],
      "metadata": {
        "id": "14MG9XnxAHrV"
      },
      "execution_count": null,
      "outputs": []
    },
    {
      "cell_type": "code",
      "source": [
        "x_train.shape"
      ],
      "metadata": {
        "colab": {
          "base_uri": "https://localhost:8080/"
        },
        "id": "50ZyGvCVAMFn",
        "outputId": "734f4b70-85f1-40fd-9bd1-eefbfa2831aa"
      },
      "execution_count": null,
      "outputs": [
        {
          "output_type": "execute_result",
          "data": {
            "text/plain": [
              "torch.Size([398, 30])"
            ]
          },
          "metadata": {},
          "execution_count": 7
        }
      ]
    },
    {
      "cell_type": "code",
      "source": [
        "y_train"
      ],
      "metadata": {
        "colab": {
          "base_uri": "https://localhost:8080/"
        },
        "id": "p9hg1vcqAR9l",
        "outputId": "45a4648a-4cfa-41be-8e57-de69740b6ede"
      },
      "execution_count": null,
      "outputs": [
        {
          "output_type": "execute_result",
          "data": {
            "text/plain": [
              "tensor([1, 1, 1, 1, 1, 1, 1, 0, 1, 1, 0, 0, 0, 1, 1, 0, 0, 1, 1, 1, 0, 1, 1, 1,\n",
              "        1, 0, 1, 1, 1, 1, 1, 1, 0, 0, 1, 1, 1, 1, 1, 1, 1, 1, 1, 0, 1, 1, 1, 0,\n",
              "        0, 0, 1, 1, 1, 0, 0, 1, 0, 1, 1, 0, 0, 0, 1, 1, 1, 1, 0, 1, 1, 1, 0, 0,\n",
              "        0, 1, 1, 1, 0, 0, 1, 0, 0, 1, 0, 1, 1, 0, 1, 1, 1, 1, 1, 1, 1, 1, 0, 0,\n",
              "        0, 0, 1, 1, 0, 1, 1, 1, 1, 0, 0, 0, 1, 0, 0, 0, 0, 1, 1, 1, 0, 1, 1, 1,\n",
              "        1, 1, 1, 1, 1, 0, 0, 1, 1, 0, 1, 0, 0, 0, 0, 1, 0, 0, 0, 1, 1, 1, 1, 1,\n",
              "        1, 1, 1, 0, 1, 1, 1, 0, 1, 1, 1, 0, 0, 1, 0, 0, 1, 0, 1, 1, 1, 1, 1, 1,\n",
              "        1, 0, 0, 0, 1, 1, 1, 1, 0, 0, 0, 1, 1, 0, 1, 1, 1, 0, 1, 0, 1, 1, 1, 0,\n",
              "        1, 1, 1, 0, 0, 1, 1, 1, 0, 1, 1, 0, 1, 0, 0, 0, 1, 1, 1, 1, 0, 1, 1, 1,\n",
              "        1, 1, 1, 0, 0, 1, 0, 1, 1, 1, 1, 0, 0, 0, 0, 0, 1, 0, 1, 1, 0, 1, 1, 0,\n",
              "        1, 0, 1, 0, 0, 1, 0, 1, 1, 1, 1, 1, 0, 1, 0, 0, 1, 1, 0, 0, 0, 0, 1, 1,\n",
              "        0, 1, 1, 1, 1, 0, 0, 1, 1, 1, 0, 1, 1, 0, 1, 0, 0, 1, 1, 1, 1, 1, 1, 1,\n",
              "        0, 1, 0, 1, 1, 1, 0, 1, 1, 0, 1, 1, 1, 0, 1, 1, 0, 1, 0, 0, 1, 1, 0, 0,\n",
              "        0, 1, 1, 1, 1, 1, 1, 0, 1, 1, 1, 1, 1, 1, 0, 1, 0, 0, 1, 1, 1, 0, 1, 0,\n",
              "        0, 1, 1, 1, 1, 1, 0, 1, 0, 1, 0, 1, 1, 1, 1, 0, 1, 0, 1, 1, 1, 0, 1, 1,\n",
              "        0, 1, 1, 0, 0, 1, 1, 1, 1, 1, 0, 1, 0, 1, 1, 0, 0, 0, 1, 0, 1, 1, 1, 1,\n",
              "        1, 0, 0, 1, 1, 0, 1, 0, 0, 0, 0, 1, 0, 1], device='cuda:0')"
            ]
          },
          "metadata": {},
          "execution_count": 8
        }
      ]
    },
    {
      "cell_type": "code",
      "source": [
        "print(x_train[0])\n",
        "print(y_train[0])"
      ],
      "metadata": {
        "colab": {
          "base_uri": "https://localhost:8080/"
        },
        "id": "-YZ9YI6sATUR",
        "outputId": "203ba4b6-5521-43ba-d278-2b044dfdae55"
      },
      "execution_count": null,
      "outputs": [
        {
          "output_type": "stream",
          "name": "stdout",
          "text": [
            "tensor([1.1620e+01, 1.8180e+01, 7.6380e+01, 4.0880e+02, 1.1750e-01, 1.4830e-01,\n",
            "        1.0200e-01, 5.5640e-02, 1.9570e-01, 7.2550e-02, 4.1010e-01, 1.7400e+00,\n",
            "        3.0270e+00, 2.7850e+01, 1.4590e-02, 3.2060e-02, 4.9610e-02, 1.8410e-02,\n",
            "        1.8070e-02, 5.2170e-03, 1.3360e+01, 2.5400e+01, 8.8140e+01, 5.2810e+02,\n",
            "        1.7800e-01, 2.8780e-01, 3.1860e-01, 1.4160e-01, 2.6600e-01, 9.2700e-02],\n",
            "       device='cuda:0')\n",
            "tensor(1, device='cuda:0')\n"
          ]
        }
      ]
    },
    {
      "cell_type": "code",
      "source": [
        "x_test.shape"
      ],
      "metadata": {
        "colab": {
          "base_uri": "https://localhost:8080/"
        },
        "id": "iq99Eem5AUqJ",
        "outputId": "4aa169ca-5269-4737-b53f-5593b19ffb18"
      },
      "execution_count": null,
      "outputs": [
        {
          "output_type": "execute_result",
          "data": {
            "text/plain": [
              "torch.Size([171, 30])"
            ]
          },
          "metadata": {},
          "execution_count": 10
        }
      ]
    },
    {
      "cell_type": "code",
      "source": [
        "y_test.shape"
      ],
      "metadata": {
        "colab": {
          "base_uri": "https://localhost:8080/"
        },
        "id": "FBUBoy5tAjmO",
        "outputId": "6b11546c-385b-4c84-979b-f31d80d4c1cf"
      },
      "execution_count": null,
      "outputs": [
        {
          "output_type": "execute_result",
          "data": {
            "text/plain": [
              "torch.Size([171])"
            ]
          },
          "metadata": {},
          "execution_count": 11
        }
      ]
    },
    {
      "cell_type": "code",
      "source": [
        "from torch.utils.data import Dataset\n",
        "class CustomDataset(Dataset):\n",
        "  def __init__(self):\n",
        "    self.x_data = x_train\n",
        "    self.y_data = [[y] for y in y_train]\n",
        "#  데이터셋의 전처리를 해주는 부분\n",
        "\n",
        "  def __len__(self):\n",
        "    return len(self.x_data)\n",
        "#  데이터셋의 길이. 즉, 총 샘플의 수를 적어주는 부분\n",
        "\n",
        "  def __getitem__(self, idx):\n",
        "    x = torch.FloatTensor(self.x_data[idx]).to(device)\n",
        "    y = torch.LongTensor(self.y_data[idx]).to(device)\n",
        "#  데이터셋에서 특정 1개의 샘플을 가져오는 함수\n",
        "\n",
        "    return x,y"
      ],
      "metadata": {
        "id": "Yu_cTYh2Ak2J"
      },
      "execution_count": null,
      "outputs": []
    },
    {
      "cell_type": "code",
      "source": [
        "batch_size = 8\n",
        "\n",
        "dataset = CustomDataset()\n",
        "dataloader = DataLoader(dataset, batch_size=batch_size)"
      ],
      "metadata": {
        "id": "eh8k1aSpArLY"
      },
      "execution_count": null,
      "outputs": []
    },
    {
      "cell_type": "code",
      "source": [
        "# input_layer와 hidden_layer의 노드 개수를 어떻게 바꿔줘야할까?\n",
        "# hidden layer/neuron 수를 바꾸기\n",
        "\n",
        "# nn.Sequential을 사용하여 레이어를 연결\n",
        "\n",
        "model = nn.Sequential(\n",
        "          nn.Linear(30,398, bias=True),\n",
        "          nn.Sigmoid(),\n",
        "          nn.Linear(398,15, bias=True),\n",
        "          nn.Sigmoid(),\n",
        "          nn.Linear(15,2, bias=True),\n",
        "          nn.Softmax(),\n",
        "          ).to(device) # softmax dim default = None"
      ],
      "metadata": {
        "id": "9pWY-seKA02y"
      },
      "execution_count": null,
      "outputs": []
    },
    {
      "cell_type": "code",
      "source": [
        "class Model(torch.nn.Module):\n",
        "\n",
        "  def __init__(self):\n",
        "    super(Model, self).__init__()\n",
        "    self.layer1 = nn.Sequential(\n",
        "          nn.Linear(30,398, bias=True), # input_layer = 30, hidden_layer1 = 398\n",
        "          nn.Sigmoid(),\n",
        "        nn.BatchNorm1d(398)\n",
        "    )\n",
        "  # activation function 이용\n",
        "  #   nn.ReLU()\n",
        "  #   nn.tanH()\n",
        "  #   https://pytorch.org/docs/stable/nn.html 그 외에도 여기서 확인 가능함\n",
        "  #   파라미터가 필요하지 않다는 것이 특징\n",
        "\n",
        "  # relu = nn.ReLU()\n",
        "  # output = relu(x)\n",
        "  # def relu(x):\n",
        "  #   return np.maximum(0,x)\n",
        "  # def relu(x):\n",
        "  #   return torch.max(torch.zeros_like(x),x)\n",
        "  # def tanh(x):\n",
        "  #   return torch.tanh(x)\n",
        "  # import math\n",
        "  # def tanh(x):\n",
        "  #   return (2 / (1 + math.exp(-2 * x))) -1\n",
        "\n",
        "  # or\n",
        "\n",
        "  # def tanh(x):\n",
        "  #   return (math.exp(x) - math.exp(-x)) / (math.exp(x) + math.exp(-x))\n",
        "\n",
        "  # batch normazliation 1d, 파라미터 값으로 vector의 길이를 전해줌\n",
        "  # 추후에 이미지를 다루게 된다면, 그때는 batch normalization 2d를 이용하게 됨\n",
        "  # 그때는 파라미터 값으로 채널, 가로, 세로 길이를 전달해주게 됨\n",
        "\n",
        "    self.layer2 = nn.Sequential(\n",
        "          nn.Linear(398,15, bias=True), # hidden_layer1 = 398, hidden_layer2 = 15\n",
        "        nn.Sigmoid()\n",
        "    )\n",
        "    self.layer3 = nn.Sequential(\n",
        "          nn.Linear(15,10, bias=True), # hidden_layer1 = 15, hidden_layer2 = 10\n",
        "        nn.Sigmoid()\n",
        "    )\n",
        "    self.layer4 = nn.Sequential(\n",
        "        nn.Linear(10, 2, bias=True), # hidden_layer3 = 10, output_layer = 2\n",
        "        nn.Softmax()\n",
        "    )\n",
        "\n",
        "  def forward(self,x):\n",
        "    output = self.layer1(x)\n",
        "    output = self.layer2(output)\n",
        "    output = self.layer3(output)\n",
        "    output = self.layer4(output)\n",
        "    return output"
      ],
      "metadata": {
        "id": "4EqeqncBA8dG"
      },
      "execution_count": null,
      "outputs": []
    },
    {
      "cell_type": "code",
      "source": [
        "def init_weights(layer):\n",
        "    if isinstance(layer, nn.Linear):\n",
        "        torch.nn.init.xavier_uniform(layer.weight)\n",
        "        layer.bias.data.fill_(0.01)\n",
        "\n",
        "        #xavier사용\n",
        "        # Layer의 weight를 어떤 분포를 가지도록 초기화시켜줌+global minimum찾기 위해서"
      ],
      "metadata": {
        "id": "K7vFu9vPBpuy"
      },
      "execution_count": null,
      "outputs": []
    },
    {
      "cell_type": "code",
      "source": [
        "model = Model().to(device)\n",
        "model.apply(init_weights)"
      ],
      "metadata": {
        "colab": {
          "base_uri": "https://localhost:8080/"
        },
        "id": "FIorLQpABuK-",
        "outputId": "1d8bc6b9-91a8-4fb7-d10b-06531527c287"
      },
      "execution_count": null,
      "outputs": [
        {
          "output_type": "stream",
          "name": "stderr",
          "text": [
            "<ipython-input-20-6196a47a4462>:3: UserWarning: nn.init.xavier_uniform is now deprecated in favor of nn.init.xavier_uniform_.\n",
            "  torch.nn.init.xavier_uniform(layer.weight)\n"
          ]
        },
        {
          "output_type": "execute_result",
          "data": {
            "text/plain": [
              "Model(\n",
              "  (layer1): Sequential(\n",
              "    (0): Linear(in_features=30, out_features=398, bias=True)\n",
              "    (1): Sigmoid()\n",
              "    (2): BatchNorm1d(398, eps=1e-05, momentum=0.1, affine=True, track_running_stats=True)\n",
              "  )\n",
              "  (layer2): Sequential(\n",
              "    (0): Linear(in_features=398, out_features=15, bias=True)\n",
              "    (1): Sigmoid()\n",
              "  )\n",
              "  (layer3): Sequential(\n",
              "    (0): Linear(in_features=15, out_features=10, bias=True)\n",
              "    (1): Sigmoid()\n",
              "  )\n",
              "  (layer4): Sequential(\n",
              "    (0): Linear(in_features=10, out_features=2, bias=True)\n",
              "    (1): Softmax(dim=None)\n",
              "  )\n",
              ")"
            ]
          },
          "metadata": {},
          "execution_count": 21
        }
      ]
    },
    {
      "cell_type": "code",
      "source": [
        "print(model)"
      ],
      "metadata": {
        "colab": {
          "base_uri": "https://localhost:8080/"
        },
        "id": "ZvrSUtQXByc6",
        "outputId": "d9fd00c5-cefa-4f28-e0c1-e6ae4b13e65b"
      },
      "execution_count": null,
      "outputs": [
        {
          "output_type": "stream",
          "name": "stdout",
          "text": [
            "Model(\n",
            "  (layer1): Sequential(\n",
            "    (0): Linear(in_features=30, out_features=398, bias=True)\n",
            "    (1): Sigmoid()\n",
            "    (2): BatchNorm1d(398, eps=1e-05, momentum=0.1, affine=True, track_running_stats=True)\n",
            "  )\n",
            "  (layer2): Sequential(\n",
            "    (0): Linear(in_features=398, out_features=15, bias=True)\n",
            "    (1): Sigmoid()\n",
            "  )\n",
            "  (layer3): Sequential(\n",
            "    (0): Linear(in_features=15, out_features=10, bias=True)\n",
            "    (1): Sigmoid()\n",
            "  )\n",
            "  (layer4): Sequential(\n",
            "    (0): Linear(in_features=10, out_features=2, bias=True)\n",
            "    (1): Softmax(dim=None)\n",
            "  )\n",
            ")\n"
          ]
        }
      ]
    },
    {
      "cell_type": "code",
      "source": [
        "loss_fn  = nn.CrossEntropyLoss().to(device)\n",
        "\n",
        "# 여러가지 optimizer 시도해보기\n",
        "# lr 바꿔보기\n",
        "\n",
        "\n",
        "optimizer = optim.Adam(model.parameters(), lr= 0.01)\n",
        "\n",
        "\n",
        "# optimizer_adam = optim.Adam(model.parameters(), lr= 0.01)\n",
        "# optimizer_sgd_1 = optim.SGD(model.parameters(), lr=0.01)\n",
        "# optimizer_sgd_2 = optim.SGD(model.parameters(), lr=0.1)\n",
        "# optimizer_adagrad = optim.Adagrad(model.parameters(), lr=0.01)\n",
        "# optimizer_adadelta = optim.Adadelta(model.parameters(), lr=0.1)\n",
        "# optimizer_rmsprop = optim.RMSprop(model.parameters(), lr=0.01)\n",
        "\n",
        "\n",
        "# https://pytorch.org/docs/stable/optim.html#module-torch.optim 페이지 참조\n",
        "# optimizer = optim.SGD(model.parameters(), lr=0.1, momentum=0.9)\n",
        "# sgd 등등"
      ],
      "metadata": {
        "id": "WSg7SnHQB1EM"
      },
      "execution_count": null,
      "outputs": []
    },
    {
      "cell_type": "code",
      "source": [
        "losses = []\n",
        "for epoch in range(100):\n",
        "\n",
        "  optimizer.zero_grad()\n",
        "  hypothesis = model(x_train)\n",
        "\n",
        "  # 비용 함수\n",
        "  cost = loss_fn(hypothesis, y_train)\n",
        "  cost.backward()\n",
        "  optimizer.step()\n",
        "  losses.append(cost.item())\n",
        "\n",
        "  if epoch % 10 == 0:   # 10 에폭마다 출력\n",
        "    print(epoch, cost.item())"
      ],
      "metadata": {
        "colab": {
          "base_uri": "https://localhost:8080/"
        },
        "id": "vEaFkI2kCpKx",
        "outputId": "704f4d70-6b7d-423e-d56b-5b0210b1f970"
      },
      "execution_count": null,
      "outputs": [
        {
          "output_type": "stream",
          "name": "stderr",
          "text": [
            "/usr/local/lib/python3.10/dist-packages/torch/nn/modules/module.py:1518: UserWarning: Implicit dimension choice for softmax has been deprecated. Change the call to include dim=X as an argument.\n",
            "  return self._call_impl(*args, **kwargs)\n"
          ]
        },
        {
          "output_type": "stream",
          "name": "stdout",
          "text": [
            "0 0.7273460030555725\n",
            "10 0.5359485149383545\n",
            "20 0.45676928758621216\n",
            "30 0.425161749124527\n",
            "40 0.39671677350997925\n",
            "50 0.4025011658668518\n",
            "60 0.39178261160850525\n",
            "70 0.3826488256454468\n",
            "80 0.3798086941242218\n",
            "90 0.383084237575531\n"
          ]
        }
      ]
    },
    {
      "cell_type": "code",
      "source": [
        "plt.plot(losses)\n",
        "plt.show()"
      ],
      "metadata": {
        "colab": {
          "base_uri": "https://localhost:8080/",
          "height": 430
        },
        "id": "oFqCH_TIC2ye",
        "outputId": "2b84874a-127b-48bc-ac00-35e28b78ab0b"
      },
      "execution_count": null,
      "outputs": [
        {
          "output_type": "display_data",
          "data": {
            "text/plain": [
              "<Figure size 640x480 with 1 Axes>"
            ],
            "image/png": "[encoded data removed]"
          },
          "metadata": {}
        }
      ]
    },
    {
      "cell_type": "code",
      "source": [
        "with torch.no_grad():\n",
        "  model = model.to('cpu')\n",
        "  y_pred = model(x_test)\n",
        "  y_pred = y_pred.detach().numpy()\n",
        "  predicted = np.argmax(y_pred, axis =1)\n",
        "  accuracy = (accuracy_score(predicted, y_test))"
      ],
      "metadata": {
        "id": "DfgN7a28C5I4"
      },
      "execution_count": null,
      "outputs": []
    },
    {
      "cell_type": "code",
      "source": [
        "print(f'model의 output은 :  {y_pred[0]}')\n",
        "print(f'argmax를 한 후의 output은 {predicted[0]}')\n",
        "print(f'accuracy는 {accuracy}')"
      ],
      "metadata": {
        "colab": {
          "base_uri": "https://localhost:8080/"
        },
        "id": "yPD6iIMeDSpv",
        "outputId": "a8c8be3c-68e6-45c1-e647-9500ddeb5e83"
      },
      "execution_count": null,
      "outputs": [
        {
          "output_type": "stream",
          "name": "stdout",
          "text": [
            "model의 output은 :  [0.00845658 0.9915434 ]\n",
            "argmax를 한 후의 output은 1\n",
            "accuracy는 0.9122807017543859\n"
          ]
        }
      ]
    },
    {
      "cell_type": "markdown",
      "source": [
        "# Wine"
      ],
      "metadata": {
        "id": "ZD-3g6zJDmN2"
      }
    },
    {
      "cell_type": "code",
      "source": [
        "from sklearn.datasets import load_wine\n",
        "data = load_wine()"
      ],
      "metadata": {
        "id": "XvObrrMaDTe5"
      },
      "execution_count": null,
      "outputs": []
    },
    {
      "cell_type": "code",
      "source": [
        "input = data.data\n",
        "output = data.target"
      ],
      "metadata": {
        "id": "GdxQ5mXHD9ZS"
      },
      "execution_count": null,
      "outputs": []
    },
    {
      "cell_type": "code",
      "source": [
        "print(input.shape, output.shape)"
      ],
      "metadata": {
        "colab": {
          "base_uri": "https://localhost:8080/"
        },
        "id": "CJekOqgKD-sg",
        "outputId": "bd5e94d7-dc22-4dc8-d31d-05d291a26471"
      },
      "execution_count": null,
      "outputs": [
        {
          "output_type": "stream",
          "name": "stdout",
          "text": [
            "(178, 13) (178,)\n"
          ]
        }
      ]
    },
    {
      "cell_type": "code",
      "source": [
        "output"
      ],
      "metadata": {
        "colab": {
          "base_uri": "https://localhost:8080/"
        },
        "id": "qgyic-dVD_WR",
        "outputId": "c8cdfb4d-5fa4-4a1d-af91-3ecf396a7611"
      },
      "execution_count": null,
      "outputs": [
        {
          "output_type": "execute_result",
          "data": {
            "text/plain": [
              "array([0, 0, 0, 0, 0, 0, 0, 0, 0, 0, 0, 0, 0, 0, 0, 0, 0, 0, 0, 0, 0, 0,\n",
              "       0, 0, 0, 0, 0, 0, 0, 0, 0, 0, 0, 0, 0, 0, 0, 0, 0, 0, 0, 0, 0, 0,\n",
              "       0, 0, 0, 0, 0, 0, 0, 0, 0, 0, 0, 0, 0, 0, 0, 1, 1, 1, 1, 1, 1, 1,\n",
              "       1, 1, 1, 1, 1, 1, 1, 1, 1, 1, 1, 1, 1, 1, 1, 1, 1, 1, 1, 1, 1, 1,\n",
              "       1, 1, 1, 1, 1, 1, 1, 1, 1, 1, 1, 1, 1, 1, 1, 1, 1, 1, 1, 1, 1, 1,\n",
              "       1, 1, 1, 1, 1, 1, 1, 1, 1, 1, 1, 1, 1, 1, 1, 1, 1, 1, 1, 1, 2, 2,\n",
              "       2, 2, 2, 2, 2, 2, 2, 2, 2, 2, 2, 2, 2, 2, 2, 2, 2, 2, 2, 2, 2, 2,\n",
              "       2, 2, 2, 2, 2, 2, 2, 2, 2, 2, 2, 2, 2, 2, 2, 2, 2, 2, 2, 2, 2, 2,\n",
              "       2, 2])"
            ]
          },
          "metadata": {},
          "execution_count": 32
        }
      ]
    },
    {
      "cell_type": "code",
      "source": [
        "device = 'cuda' if torch.cuda.is_available() else 'cpu'\n",
        "\n",
        "torch.manual_seed(777)\n",
        "if device == \"cuda\":\n",
        "  torch.cuda.manual_seed_all(777)"
      ],
      "metadata": {
        "id": "MfzctI9xEDir"
      },
      "execution_count": null,
      "outputs": []
    },
    {
      "cell_type": "code",
      "source": [
        "x_train, x_test, y_train, y_test = train_test_split(input, output, test_size = 0.3, random_state = 40, stratify= data.target, shuffle = True)\n",
        "\n",
        "x_train = torch.FloatTensor(x_train).to(device)\n",
        "y_train = torch.LongTensor(y_train).to(device)\n",
        "x_test = torch.FloatTensor(x_test)\n",
        "y_test = torch.LongTensor(y_test)"
      ],
      "metadata": {
        "id": "2RtFmE47ELeg"
      },
      "execution_count": null,
      "outputs": []
    },
    {
      "cell_type": "code",
      "source": [
        "print(x_train.shape, y_train.shape)"
      ],
      "metadata": {
        "colab": {
          "base_uri": "https://localhost:8080/"
        },
        "id": "8mN1NWeSEQEx",
        "outputId": "fdf0568f-c909-4d7f-aea9-3d9991c5a4e5"
      },
      "execution_count": null,
      "outputs": [
        {
          "output_type": "stream",
          "name": "stdout",
          "text": [
            "torch.Size([124, 13]) torch.Size([124])\n"
          ]
        }
      ]
    },
    {
      "cell_type": "code",
      "source": [
        "from torch.utils.data import Dataset\n",
        "class CustomDataset(Dataset):\n",
        "  def __init__(self):\n",
        "    self.x_data = x_train\n",
        "    self.y_data = [[y] for y in y_train]\n",
        "\n",
        "  def __len__(self):\n",
        "    return len(self.x_data)\n",
        "\n",
        "  def __getitem__(self, idx):\n",
        "    x = torch.FloatTensor(self.x_data[idx]).to(device)\n",
        "    y = torch.LongTensor(self.y_data[idx]).to(device)\n",
        "\n",
        "    return x,y"
      ],
      "metadata": {
        "id": "nCiMhXDyEQ6c"
      },
      "execution_count": null,
      "outputs": []
    },
    {
      "cell_type": "code",
      "source": [
        "batch_size = 8\n",
        "\n",
        "dataset = CustomDataset()\n",
        "dataloader = DataLoader(dataset, batch_size=batch_size)"
      ],
      "metadata": {
        "id": "mGjaVIHTEWdC"
      },
      "execution_count": null,
      "outputs": []
    },
    {
      "cell_type": "code",
      "source": [
        "model = nn.Sequential(\n",
        "          nn.Linear(13,160, bias=True),\n",
        "          nn.Sigmoid(),\n",
        "          nn.Linear(160,70, bias=True),\n",
        "          nn.Sigmoid(),\n",
        "          nn.Linear(70,15, bias=True),\n",
        "          nn.Sigmoid(),\n",
        "          nn.Linear(15,3, bias=True),\n",
        "          nn.Softmax()\n",
        "          ).to(device)"
      ],
      "metadata": {
        "id": "R7FRVKZcEYgr"
      },
      "execution_count": null,
      "outputs": []
    },
    {
      "cell_type": "code",
      "source": [
        "# 활성화 함수로 relu 사용, 1번 3번 layer에 추가\n",
        "\n",
        "class Model(torch.nn.Module):\n",
        "\n",
        "    def __init__(self):\n",
        "        super(Model, self).__init__()\n",
        "        self.layer1 = nn.Sequential(\n",
        "            nn.Linear(13, 160, bias=True),\n",
        "            nn.ReLU(),  # ReLU 활성화 함수 사용\n",
        "            nn.BatchNorm1d(160)\n",
        "        )\n",
        "        self.layer2 = nn.Sequential(\n",
        "            nn.Linear(160, 70, bias=True),\n",
        "        )\n",
        "        self.layer3 = nn.Sequential(\n",
        "            nn.Linear(70, 15, bias=True),\n",
        "            nn.ReLU()\n",
        "        )\n",
        "        self.layer4 = nn.Sequential(\n",
        "            nn.Linear(15, 3, bias=True),\n",
        "            nn.Softmax()\n",
        "        )\n",
        "\n",
        "    def forward(self, x):\n",
        "        output = self.layer1(x)\n",
        "        output = self.layer2(output)\n",
        "        output = self.layer3(output)\n",
        "        output = self.layer4(output)\n",
        "        return output\n"
      ],
      "metadata": {
        "id": "xRc-wthBEl8d"
      },
      "execution_count": null,
      "outputs": []
    },
    {
      "cell_type": "code",
      "source": [
        "def init_weights(layer):\n",
        "    if isinstance(layer, nn.Linear):\n",
        "        torch.nn.init.xavier_uniform(layer.weight)\n",
        "        layer.bias.data.fill_(0.01)"
      ],
      "metadata": {
        "id": "isNbK1pNE6gj"
      },
      "execution_count": null,
      "outputs": []
    },
    {
      "cell_type": "code",
      "source": [
        "model = Model().to(device)\n",
        "model.apply(init_weights)"
      ],
      "metadata": {
        "colab": {
          "base_uri": "https://localhost:8080/"
        },
        "id": "2RqZrOQ_FV3t",
        "outputId": "53629f8a-d9f1-4993-cb37-13d3483b6c83"
      },
      "execution_count": null,
      "outputs": [
        {
          "output_type": "stream",
          "name": "stderr",
          "text": [
            "<ipython-input-40-6dcf2c5a1d5c>:3: UserWarning: nn.init.xavier_uniform is now deprecated in favor of nn.init.xavier_uniform_.\n",
            "  torch.nn.init.xavier_uniform(layer.weight)\n"
          ]
        },
        {
          "output_type": "execute_result",
          "data": {
            "text/plain": [
              "Model(\n",
              "  (layer1): Sequential(\n",
              "    (0): Linear(in_features=13, out_features=160, bias=True)\n",
              "    (1): ReLU()\n",
              "    (2): BatchNorm1d(160, eps=1e-05, momentum=0.1, affine=True, track_running_stats=True)\n",
              "  )\n",
              "  (layer2): Sequential(\n",
              "    (0): Linear(in_features=160, out_features=70, bias=True)\n",
              "  )\n",
              "  (layer3): Sequential(\n",
              "    (0): Linear(in_features=70, out_features=15, bias=True)\n",
              "    (1): ReLU()\n",
              "  )\n",
              "  (layer4): Sequential(\n",
              "    (0): Linear(in_features=15, out_features=3, bias=True)\n",
              "    (1): Softmax(dim=None)\n",
              "  )\n",
              ")"
            ]
          },
          "metadata": {},
          "execution_count": 41
        }
      ]
    },
    {
      "cell_type": "code",
      "source": [
        "print(model)"
      ],
      "metadata": {
        "colab": {
          "base_uri": "https://localhost:8080/"
        },
        "id": "69HqXIZRFWmj",
        "outputId": "6593c299-6f6f-49e4-d75a-045fb8f3b384"
      },
      "execution_count": null,
      "outputs": [
        {
          "output_type": "stream",
          "name": "stdout",
          "text": [
            "Model(\n",
            "  (layer1): Sequential(\n",
            "    (0): Linear(in_features=13, out_features=160, bias=True)\n",
            "    (1): ReLU()\n",
            "    (2): BatchNorm1d(160, eps=1e-05, momentum=0.1, affine=True, track_running_stats=True)\n",
            "  )\n",
            "  (layer2): Sequential(\n",
            "    (0): Linear(in_features=160, out_features=70, bias=True)\n",
            "  )\n",
            "  (layer3): Sequential(\n",
            "    (0): Linear(in_features=70, out_features=15, bias=True)\n",
            "    (1): ReLU()\n",
            "  )\n",
            "  (layer4): Sequential(\n",
            "    (0): Linear(in_features=15, out_features=3, bias=True)\n",
            "    (1): Softmax(dim=None)\n",
            "  )\n",
            ")\n"
          ]
        }
      ]
    },
    {
      "cell_type": "code",
      "source": [
        "loss_fn  = nn.CrossEntropyLoss().to(device)\n",
        "\n",
        "optimizer = optim.Adam(model.parameters(), lr= 0.01)"
      ],
      "metadata": {
        "id": "Ch6g-eNhFYEt"
      },
      "execution_count": null,
      "outputs": []
    },
    {
      "cell_type": "code",
      "source": [
        "# losses = []\n",
        "# for epoch in range(100):\n",
        "\n",
        "#   optimizer.zero_grad()\n",
        "#   hypothesis = model(x_train)\n",
        "\n",
        "#   # 비용 함수\n",
        "#   cost = loss_fn(hypothesis, y_train)\n",
        "#   cost.backward()\n",
        "#   optimizer.step()\n",
        "#   losses.append(cost.item())\n",
        "\n",
        "#   if epoch % 10 == 0:\n",
        "#     print(epoch, cost.item())\n",
        "\n",
        "# 돌리고나서 중복실행해서 나온 결과..."
      ],
      "metadata": {
        "colab": {
          "base_uri": "https://localhost:8080/"
        },
        "id": "JnmkBrrSFfSN",
        "outputId": "b8889d60-15eb-4b21-d520-f05c9b0461c1"
      },
      "execution_count": null,
      "outputs": [
        {
          "output_type": "stream",
          "name": "stdout",
          "text": [
            "0 1.220799446105957\n",
            "10 1.220799446105957\n",
            "20 1.220799446105957\n",
            "30 1.220799446105957\n",
            "40 1.220799446105957\n",
            "50 1.220799446105957\n",
            "60 1.220799446105957\n",
            "70 1.220799446105957\n",
            "80 1.220799446105957\n",
            "90 1.220799446105957\n"
          ]
        }
      ]
    },
    {
      "cell_type": "code",
      "source": [],
      "metadata": {
        "id": "GYbaOFkXFin1"
      },
      "execution_count": null,
      "outputs": []
    },
    {
      "cell_type": "code",
      "source": [
        "#  tanh, SGD\n",
        "\n",
        "class Model(torch.nn.Module):\n",
        "\n",
        "    def __init__(self):\n",
        "        super(Model, self).__init__()\n",
        "        self.layer1 = nn.Sequential(\n",
        "            nn.Linear(13, 160, bias=True),\n",
        "            nn.Tanh(),\n",
        "            nn.BatchNorm1d(160)\n",
        "        )\n",
        "        self.layer2 = nn.Sequential(\n",
        "            nn.Linear(160, 70, bias=True),\n",
        "            nn.Tanh()\n",
        "        )\n",
        "        self.layer3 = nn.Sequential(\n",
        "            nn.Linear(70, 15, bias=True),\n",
        "            nn.Tanh()\n",
        "        )\n",
        "        self.layer4 = nn.Sequential(\n",
        "            nn.Linear(15, 3, bias=True),\n",
        "            nn.Softmax()\n",
        "        )\n",
        "\n",
        "    def forward(self, x):\n",
        "        output = self.layer1(x)\n",
        "        output = self.layer2(output)\n",
        "        output = self.layer3(output)\n",
        "        output = self.layer4(output)\n",
        "        return output"
      ],
      "metadata": {
        "id": "Kwgjd5WPGWCo"
      },
      "execution_count": null,
      "outputs": []
    },
    {
      "cell_type": "code",
      "source": [
        "def init_weights(layer):\n",
        "    if isinstance(layer, nn.Linear):\n",
        "        torch.nn.init.xavier_uniform(layer.weight)\n",
        "        layer.bias.data.fill_(0.01)"
      ],
      "metadata": {
        "id": "IhAHXUpvGWE1"
      },
      "execution_count": null,
      "outputs": []
    },
    {
      "cell_type": "code",
      "source": [
        "model = Model().to(device)\n",
        "model.apply(init_weights)"
      ],
      "metadata": {
        "colab": {
          "base_uri": "https://localhost:8080/"
        },
        "id": "nJl_nEs5GWI0",
        "outputId": "c565864d-3b43-452c-f836-33880bbb656b"
      },
      "execution_count": null,
      "outputs": [
        {
          "output_type": "stream",
          "name": "stderr",
          "text": [
            "<ipython-input-63-6dcf2c5a1d5c>:3: UserWarning: nn.init.xavier_uniform is now deprecated in favor of nn.init.xavier_uniform_.\n",
            "  torch.nn.init.xavier_uniform(layer.weight)\n"
          ]
        },
        {
          "output_type": "execute_result",
          "data": {
            "text/plain": [
              "Model(\n",
              "  (layer1): Sequential(\n",
              "    (0): Linear(in_features=13, out_features=160, bias=True)\n",
              "    (1): Tanh()\n",
              "    (2): BatchNorm1d(160, eps=1e-05, momentum=0.1, affine=True, track_running_stats=True)\n",
              "  )\n",
              "  (layer2): Sequential(\n",
              "    (0): Linear(in_features=160, out_features=70, bias=True)\n",
              "    (1): Tanh()\n",
              "  )\n",
              "  (layer3): Sequential(\n",
              "    (0): Linear(in_features=70, out_features=15, bias=True)\n",
              "    (1): Tanh()\n",
              "  )\n",
              "  (layer4): Sequential(\n",
              "    (0): Linear(in_features=15, out_features=3, bias=True)\n",
              "    (1): Softmax(dim=None)\n",
              "  )\n",
              ")"
            ]
          },
          "metadata": {},
          "execution_count": 64
        }
      ]
    },
    {
      "cell_type": "code",
      "source": [
        "loss_fn  = nn.CrossEntropyLoss().to(device)\n",
        "optimizer = optim.SGD(model.parameters(), lr=0.01)\n",
        "# optimizer_sgd_1 = optim.SGD(model.parameters(), lr=0.01)"
      ],
      "metadata": {
        "id": "FETkqjziGWKi"
      },
      "execution_count": null,
      "outputs": []
    },
    {
      "cell_type": "code",
      "source": [
        "losses = []\n",
        "for epoch in range(100):\n",
        "\n",
        "  optimizer.zero_grad()\n",
        "  hypothesis = model(x_train)\n",
        "\n",
        "  # 비용 함수\n",
        "  cost = loss_fn(hypothesis, y_train)\n",
        "  cost.backward()\n",
        "  optimizer.step()\n",
        "  losses.append(cost.item())\n",
        "\n",
        "  if epoch % 10 == 0:\n",
        "    print(epoch, cost.item())"
      ],
      "metadata": {
        "colab": {
          "base_uri": "https://localhost:8080/"
        },
        "id": "LlfnZyTAGWMc",
        "outputId": "797c42f1-760c-42a8-9869-3b40b8620043"
      },
      "execution_count": null,
      "outputs": [
        {
          "output_type": "stream",
          "name": "stderr",
          "text": [
            "/usr/local/lib/python3.10/dist-packages/torch/nn/modules/module.py:1518: UserWarning: Implicit dimension choice for softmax has been deprecated. Change the call to include dim=X as an argument.\n",
            "  return self._call_impl(*args, **kwargs)\n"
          ]
        },
        {
          "output_type": "stream",
          "name": "stdout",
          "text": [
            "0 1.173649549484253\n",
            "10 1.0848422050476074\n",
            "20 1.0424833297729492\n",
            "30 1.081160306930542\n",
            "40 1.080559253692627\n",
            "50 1.0877026319503784\n",
            "60 1.0863946676254272\n",
            "70 1.0840466022491455\n",
            "80 1.0755935907363892\n",
            "90 1.0563621520996094\n"
          ]
        }
      ]
    },
    {
      "cell_type": "code",
      "source": [
        "plt.plot(losses)\n",
        "plt.show()"
      ],
      "metadata": {
        "colab": {
          "base_uri": "https://localhost:8080/",
          "height": 435
        },
        "id": "TSHK8N7GGWOs",
        "outputId": "c6c5d494-cc7f-45c2-b804-30aae6506ff6"
      },
      "execution_count": null,
      "outputs": [
        {
          "output_type": "display_data",
          "data": {
            "text/plain": [
              "<Figure size 640x480 with 1 Axes>"
            ],
            "image/png": "[encoded data removed]"
          },
          "metadata": {}
        }
      ]
    },
    {
      "cell_type": "code",
      "source": [
        "with torch.no_grad():\n",
        "  model = model.to('cpu')\n",
        "  y_pred = model(x_test)\n",
        "  y_pred = y_pred.detach().numpy()\n",
        "  predicted = np.argmax(y_pred, axis =1)\n",
        "  accuracy = (accuracy_score(predicted, y_test))\n",
        "\n",
        "print(f'model의 output은 :  {y_pred[0]}')\n",
        "print(f'argmax를 한 후의 output은 {predicted[0]}')\n",
        "print(f'accuracy는 {accuracy}')"
      ],
      "metadata": {
        "colab": {
          "base_uri": "https://localhost:8080/"
        },
        "id": "T_6xJHEtGWQK",
        "outputId": "bf7235ca-3035-45d7-e70e-6ebd54ddc4dc"
      },
      "execution_count": null,
      "outputs": [
        {
          "output_type": "stream",
          "name": "stdout",
          "text": [
            "model의 output은 :  [0.36768594 0.3381559  0.29415813]\n",
            "argmax를 한 후의 output은 0\n",
            "accuracy는 0.5\n"
          ]
        }
      ]
    },
    {
      "cell_type": "code",
      "source": [
        "# relu, # optimizer_adadelta = optim.Adadelta(model.parameters(), lr=0.1)\n",
        "\n",
        "class Model(torch.nn.Module):\n",
        "\n",
        "    def __init__(self):\n",
        "        super(Model, self).__init__()\n",
        "        self.layer1 = nn.Sequential(\n",
        "            nn.Linear(13, 160, bias=True),\n",
        "            nn.ReLU(),\n",
        "            nn.BatchNorm1d(160)\n",
        "        )\n",
        "        self.layer2 = nn.Sequential(\n",
        "            nn.Linear(160, 70, bias=True),\n",
        "            nn.ReLU()\n",
        "        )\n",
        "        self.layer3 = nn.Sequential(\n",
        "            nn.Linear(70, 15, bias=True),\n",
        "            nn.ReLU()\n",
        "        )\n",
        "        self.layer4 = nn.Sequential(\n",
        "            nn.Linear(15, 3, bias=True),\n",
        "            nn.Softmax()\n",
        "        )\n",
        "\n",
        "    def forward(self, x):\n",
        "        output = self.layer1(x)\n",
        "        output = self.layer2(output)\n",
        "        output = self.layer3(output)\n",
        "        output = self.layer4(output)\n",
        "        return output"
      ],
      "metadata": {
        "id": "fN5YBDASGWSK"
      },
      "execution_count": null,
      "outputs": []
    },
    {
      "cell_type": "code",
      "source": [
        "def init_weights(layer):\n",
        "    if isinstance(layer, nn.Linear):\n",
        "        torch.nn.init.xavier_uniform(layer.weight)\n",
        "        layer.bias.data.fill_(0.01)\n",
        "\n",
        "model = Model().to(device)\n",
        "model.apply(init_weights)\n",
        "\n",
        "print(model)"
      ],
      "metadata": {
        "colab": {
          "base_uri": "https://localhost:8080/"
        },
        "id": "zcxvJ6G4GWVW",
        "outputId": "49a79ed2-28d2-4366-8f53-93823b015bb9"
      },
      "execution_count": null,
      "outputs": [
        {
          "output_type": "stream",
          "name": "stdout",
          "text": [
            "Model(\n",
            "  (layer1): Sequential(\n",
            "    (0): Linear(in_features=13, out_features=160, bias=True)\n",
            "    (1): ReLU()\n",
            "    (2): BatchNorm1d(160, eps=1e-05, momentum=0.1, affine=True, track_running_stats=True)\n",
            "  )\n",
            "  (layer2): Sequential(\n",
            "    (0): Linear(in_features=160, out_features=70, bias=True)\n",
            "    (1): ReLU()\n",
            "  )\n",
            "  (layer3): Sequential(\n",
            "    (0): Linear(in_features=70, out_features=15, bias=True)\n",
            "    (1): ReLU()\n",
            "  )\n",
            "  (layer4): Sequential(\n",
            "    (0): Linear(in_features=15, out_features=3, bias=True)\n",
            "    (1): Softmax(dim=None)\n",
            "  )\n",
            ")\n"
          ]
        },
        {
          "output_type": "stream",
          "name": "stderr",
          "text": [
            "<ipython-input-71-62bfd79df0ff>:3: UserWarning: nn.init.xavier_uniform is now deprecated in favor of nn.init.xavier_uniform_.\n",
            "  torch.nn.init.xavier_uniform(layer.weight)\n"
          ]
        }
      ]
    },
    {
      "cell_type": "code",
      "source": [
        "loss_fn  = nn.CrossEntropyLoss().to(device)\n",
        "optimizer_sgd = optim.Adadelta(model.parameters(), lr=0.1)"
      ],
      "metadata": {
        "id": "LL6m2nB0GWXg"
      },
      "execution_count": null,
      "outputs": []
    },
    {
      "cell_type": "code",
      "source": [
        "losses = []\n",
        "for epoch in range(100):\n",
        "\n",
        "  optimizer_sgd.zero_grad()\n",
        "  hypothesis = model(x_train)\n",
        "\n",
        "  # 비용 함수\n",
        "  cost = loss_fn(hypothesis, y_train)\n",
        "  cost.backward()\n",
        "  optimizer_sgd.step()\n",
        "  losses.append(cost.item())\n",
        "\n",
        "  if epoch % 10 == 0:\n",
        "    print(epoch, cost.item())"
      ],
      "metadata": {
        "colab": {
          "base_uri": "https://localhost:8080/"
        },
        "id": "rDHtqcn0GWZl",
        "outputId": "4641018c-0ffd-436a-b887-6d5787097e63"
      },
      "execution_count": null,
      "outputs": [
        {
          "output_type": "stream",
          "name": "stderr",
          "text": [
            "/usr/local/lib/python3.10/dist-packages/torch/nn/modules/module.py:1518: UserWarning: Implicit dimension choice for softmax has been deprecated. Change the call to include dim=X as an argument.\n",
            "  return self._call_impl(*args, **kwargs)\n"
          ]
        },
        {
          "output_type": "stream",
          "name": "stdout",
          "text": [
            "0 1.1606053113937378\n",
            "10 1.0487098693847656\n",
            "20 0.9717825651168823\n",
            "30 0.9136146306991577\n",
            "40 0.8785364031791687\n",
            "50 0.8510856628417969\n",
            "60 0.8294205665588379\n",
            "70 0.8070135712623596\n",
            "80 0.7821521759033203\n",
            "90 0.7457965612411499\n"
          ]
        }
      ]
    },
    {
      "cell_type": "code",
      "source": [
        "plt.plot(losses)\n",
        "plt.show()"
      ],
      "metadata": {
        "colab": {
          "base_uri": "https://localhost:8080/",
          "height": 430
        },
        "id": "5_UHZjSXGWfT",
        "outputId": "e3f2d55f-78af-492e-d69d-833c33aa07a6"
      },
      "execution_count": null,
      "outputs": [
        {
          "output_type": "display_data",
          "data": {
            "text/plain": [
              "<Figure size 640x480 with 1 Axes>"
            ],
            "image/png": "[encoded data removed]"
          },
          "metadata": {}
        }
      ]
    },
    {
      "cell_type": "code",
      "source": [
        "with torch.no_grad():\n",
        "  model = model.to('cpu')\n",
        "  y_pred = model(x_test)\n",
        "  y_pred = y_pred.detach().numpy()\n",
        "  predicted = np.argmax(y_pred, axis =1)\n",
        "  accuracy = (accuracy_score(predicted, y_test))"
      ],
      "metadata": {
        "id": "_illKsYsNvrF"
      },
      "execution_count": null,
      "outputs": []
    },
    {
      "cell_type": "code",
      "source": [
        "print(f'model의 output은 :  {y_pred[0]}')\n",
        "print(f'argmax를 한 후의 output은 {predicted[0]}')\n",
        "print(f'accuracy는 {accuracy}')"
      ],
      "metadata": {
        "colab": {
          "base_uri": "https://localhost:8080/"
        },
        "id": "ew-zQ4IaNyQg",
        "outputId": "4d8b3f77-d27c-488d-991a-f536ceb26c62"
      },
      "execution_count": null,
      "outputs": [
        {
          "output_type": "stream",
          "name": "stdout",
          "text": [
            "model의 output은 :  [0.906409   0.03785494 0.05573596]\n",
            "argmax를 한 후의 output은 0\n",
            "accuracy는 0.8333333333333334\n"
          ]
        }
      ]
    },
    {
      "cell_type": "markdown",
      "source": [],
      "metadata": {
        "id": "4po7UWeyNx-5"
      }
    },
    {
      "cell_type": "markdown",
      "source": [
        "# CNN 찍먹"
      ],
      "metadata": {
        "id": "KkWPLFofGXeZ"
      }
    },
    {
      "cell_type": "code",
      "source": [
        "from __future__ import print_function\n",
        "import argparse\n",
        "import torch\n",
        "import torch.nn as nn\n",
        "import torch.nn.functional as F\n",
        "import torch.optim as optim\n",
        "from torchvision import datasets, transforms\n",
        "from torch.autograd import Variable"
      ],
      "metadata": {
        "id": "rOyoKVH_GZBL"
      },
      "execution_count": null,
      "outputs": []
    },
    {
      "cell_type": "code",
      "source": [
        "# Training settings\n",
        "\n",
        "batch_size = 64\n",
        "\n",
        "# MNIST Dataset\n",
        "train_dataset = datasets.MNIST(root='./data/',\n",
        "                               train=True,\n",
        "                               transform=transforms.ToTensor(),\n",
        "                               download=True)\n",
        "\n",
        "test_dataset = datasets.MNIST(root='./data/',\n",
        "                              train=False,\n",
        "                              transform=transforms.ToTensor())\n",
        "\n",
        "# Data Loader (Input Pipeline)\n",
        "train_loader = torch.utils.data.DataLoader(dataset=train_dataset,\n",
        "                                           batch_size=batch_size,\n",
        "                                           shuffle=True)\n",
        "\n",
        "test_loader = torch.utils.data.DataLoader(dataset=test_dataset,\n",
        "                                          batch_size=batch_size,\n",
        "                                          shuffle=False)"
      ],
      "metadata": {
        "colab": {
          "base_uri": "https://localhost:8080/"
        },
        "id": "pYCDc6ABGZEz",
        "outputId": "4f211b35-6d91-4fe8-e1ef-534ecd84d596"
      },
      "execution_count": null,
      "outputs": [
        {
          "output_type": "stream",
          "name": "stdout",
          "text": [
            "Downloading http://yann.lecun.com/exdb/mnist/train-images-idx3-ubyte.gz\n",
            "Downloading http://yann.lecun.com/exdb/mnist/train-images-idx3-ubyte.gz to ./data/MNIST/raw/train-images-idx3-ubyte.gz\n"
          ]
        },
        {
          "output_type": "stream",
          "name": "stderr",
          "text": [
            "100%|██████████| 9912422/9912422 [00:00<00:00, 103681887.82it/s]\n"
          ]
        },
        {
          "output_type": "stream",
          "name": "stdout",
          "text": [
            "Extracting ./data/MNIST/raw/train-images-idx3-ubyte.gz to ./data/MNIST/raw\n",
            "\n",
            "Downloading http://yann.lecun.com/exdb/mnist/train-labels-idx1-ubyte.gz\n",
            "Downloading http://yann.lecun.com/exdb/mnist/train-labels-idx1-ubyte.gz to ./data/MNIST/raw/train-labels-idx1-ubyte.gz\n"
          ]
        },
        {
          "output_type": "stream",
          "name": "stderr",
          "text": [
            "100%|██████████| 28881/28881 [00:00<00:00, 24716525.98it/s]\n"
          ]
        },
        {
          "output_type": "stream",
          "name": "stdout",
          "text": [
            "Extracting ./data/MNIST/raw/train-labels-idx1-ubyte.gz to ./data/MNIST/raw\n",
            "\n",
            "Downloading http://yann.lecun.com/exdb/mnist/t10k-images-idx3-ubyte.gz\n",
            "Downloading http://yann.lecun.com/exdb/mnist/t10k-images-idx3-ubyte.gz to ./data/MNIST/raw/t10k-images-idx3-ubyte.gz\n"
          ]
        },
        {
          "output_type": "stream",
          "name": "stderr",
          "text": [
            "100%|██████████| 1648877/1648877 [00:00<00:00, 33392197.40it/s]\n"
          ]
        },
        {
          "output_type": "stream",
          "name": "stdout",
          "text": [
            "Extracting ./data/MNIST/raw/t10k-images-idx3-ubyte.gz to ./data/MNIST/raw\n",
            "\n",
            "Downloading http://yann.lecun.com/exdb/mnist/t10k-labels-idx1-ubyte.gz\n",
            "Downloading http://yann.lecun.com/exdb/mnist/t10k-labels-idx1-ubyte.gz to ./data/MNIST/raw/t10k-labels-idx1-ubyte.gz\n"
          ]
        },
        {
          "output_type": "stream",
          "name": "stderr",
          "text": [
            "100%|██████████| 4542/4542 [00:00<00:00, 3796438.57it/s]\n"
          ]
        },
        {
          "output_type": "stream",
          "name": "stdout",
          "text": [
            "Extracting ./data/MNIST/raw/t10k-labels-idx1-ubyte.gz to ./data/MNIST/raw\n",
            "\n"
          ]
        }
      ]
    },
    {
      "cell_type": "code",
      "source": [
        "class Net(nn.Module):\n",
        "  def __init__(self):\n",
        "    super(Net, self).__init__()\n",
        "    self.conv1 = nn.Conv2d(1, 10, kernel_size = 5)\n",
        "    self.conv2 = nn.Conv2d(10, 20, kernel_size = 5)\n",
        "    self.mp = nn.MaxPool2d(2)\n",
        "    self.fc = nn.Linear(320 , 10) ### : 알맞는 input은? 320\n",
        "\n",
        "  def forward(self, x):\n",
        "    in_size = x.size(0)\n",
        "    x = F.relu(self.mp(self.conv1(x)))\n",
        "    x = F.relu(self.mp(self.conv2(x)))\n",
        "    x = x.view(in_size, -1)\n",
        "    x = self.fc(x)\n",
        "    return F.log_softmax(x)"
      ],
      "metadata": {
        "id": "8404tiS2GZG9"
      },
      "execution_count": null,
      "outputs": []
    },
    {
      "cell_type": "code",
      "source": [
        "model = Net()\n",
        "optimizer = optim.SGD(model.parameters(), lr = 0.01, momentum = 0.5)"
      ],
      "metadata": {
        "id": "121VpNYYGZIp"
      },
      "execution_count": null,
      "outputs": []
    },
    {
      "cell_type": "code",
      "source": [
        "def train(epoch):\n",
        "  model.train()\n",
        "  for batch_idx, (data, target) in enumerate(train_loader):\n",
        "    data, target = Variable(data), Variable(target)\n",
        "    optimizer.zero_grad()\n",
        "    output = model(data)\n",
        "    loss = F.nll_loss(output, target)\n",
        "    loss.backward()\n",
        "    optimizer.step()\n",
        "    if batch_idx % 10 == 0:\n",
        "      print('Train Epoch: {} [{}/{} ({:.0f}%)]\\tLoss: {:.6f}'.format(\n",
        "          epoch, batch_idx * len(data), len(train_loader.dataset),\n",
        "          100. * batch_idx / len(train_loader), loss.item()))"
      ],
      "metadata": {
        "id": "SAb0huhQGZKV"
      },
      "execution_count": null,
      "outputs": []
    },
    {
      "cell_type": "code",
      "source": [
        "def test():\n",
        "    model.eval() #model.eval() 의 기능은?\n",
        "    test_loss = 0\n",
        "    correct = 0\n",
        "    for data, target in test_loader:\n",
        "        data, target = Variable(data, volatile=True), Variable(target)\n",
        "        output = model(data)\n",
        "        test_loss += F.nll_loss(output, target, size_average=False).data # nll_loss?? / cross entropy loss와의 관계 확인!\n",
        "        pred = output.data.max(1, keepdim=True)[1]\n",
        "        correct += pred.eq(target.data.view_as(pred)).cpu().sum()\n",
        "\n",
        "    test_loss /= len(test_loader.dataset)\n",
        "    print('\\nTest set: Average loss: {:.4f}, Accuracy: {}/{} ({:.0f}%)\\n'.format(\n",
        "        test_loss, correct, len(test_loader.dataset),\n",
        "        100. * correct / len(test_loader.dataset)))"
      ],
      "metadata": {
        "id": "5picJq7wGWg6"
      },
      "execution_count": null,
      "outputs": []
    },
    {
      "cell_type": "code",
      "source": [
        "for epoch in range(1, 10):\n",
        "    train(epoch)\n",
        "    test()"
      ],
      "metadata": {
        "colab": {
          "base_uri": "https://localhost:8080/"
        },
        "id": "Vwr8BsG2HCXo",
        "outputId": "7cfc2e8e-7a6c-42b8-bdc0-9e67fac7348f"
      },
      "execution_count": null,
      "outputs": [
        {
          "output_type": "stream",
          "name": "stderr",
          "text": [
            "<ipython-input-57-006ecbc6c563>:15: UserWarning: Implicit dimension choice for log_softmax has been deprecated. Change the call to include dim=X as an argument.\n",
            "  return F.log_softmax(x)\n"
          ]
        },
        {
          "output_type": "stream",
          "name": "stdout",
          "text": [
            "Train Epoch: 1 [0/60000 (0%)]\tLoss: 2.301135\n",
            "Train Epoch: 1 [640/60000 (1%)]\tLoss: 2.290469\n",
            "Train Epoch: 1 [1280/60000 (2%)]\tLoss: 2.247846\n",
            "Train Epoch: 1 [1920/60000 (3%)]\tLoss: 2.250249\n",
            "Train Epoch: 1 [2560/60000 (4%)]\tLoss: 2.232824\n",
            "Train Epoch: 1 [3200/60000 (5%)]\tLoss: 2.184454\n",
            "Train Epoch: 1 [3840/60000 (6%)]\tLoss: 2.166368\n",
            "Train Epoch: 1 [4480/60000 (7%)]\tLoss: 2.150559\n",
            "Train Epoch: 1 [5120/60000 (9%)]\tLoss: 2.042047\n",
            "Train Epoch: 1 [5760/60000 (10%)]\tLoss: 1.865286\n",
            "Train Epoch: 1 [6400/60000 (11%)]\tLoss: 1.717680\n",
            "Train Epoch: 1 [7040/60000 (12%)]\tLoss: 1.556233\n",
            "Train Epoch: 1 [7680/60000 (13%)]\tLoss: 1.111711\n",
            "Train Epoch: 1 [8320/60000 (14%)]\tLoss: 1.122616\n",
            "Train Epoch: 1 [8960/60000 (15%)]\tLoss: 0.913562\n",
            "Train Epoch: 1 [9600/60000 (16%)]\tLoss: 0.678018\n",
            "Train Epoch: 1 [10240/60000 (17%)]\tLoss: 0.608513\n",
            "Train Epoch: 1 [10880/60000 (18%)]\tLoss: 0.515161\n",
            "Train Epoch: 1 [11520/60000 (19%)]\tLoss: 0.537868\n",
            "Train Epoch: 1 [12160/60000 (20%)]\tLoss: 0.837011\n",
            "Train Epoch: 1 [12800/60000 (21%)]\tLoss: 0.666399\n",
            "Train Epoch: 1 [13440/60000 (22%)]\tLoss: 0.415621\n",
            "Train Epoch: 1 [14080/60000 (23%)]\tLoss: 0.272825\n",
            "Train Epoch: 1 [14720/60000 (25%)]\tLoss: 0.473342\n",
            "Train Epoch: 1 [15360/60000 (26%)]\tLoss: 0.467909\n",
            "Train Epoch: 1 [16000/60000 (27%)]\tLoss: 0.441779\n",
            "Train Epoch: 1 [16640/60000 (28%)]\tLoss: 0.469627\n",
            "Train Epoch: 1 [17280/60000 (29%)]\tLoss: 0.429139\n",
            "Train Epoch: 1 [17920/60000 (30%)]\tLoss: 0.337914\n",
            "Train Epoch: 1 [18560/60000 (31%)]\tLoss: 0.253430\n",
            "Train Epoch: 1 [19200/60000 (32%)]\tLoss: 0.565606\n",
            "Train Epoch: 1 [19840/60000 (33%)]\tLoss: 0.340392\n",
            "Train Epoch: 1 [20480/60000 (34%)]\tLoss: 0.485349\n",
            "Train Epoch: 1 [21120/60000 (35%)]\tLoss: 0.254620\n",
            "Train Epoch: 1 [21760/60000 (36%)]\tLoss: 0.365012\n",
            "Train Epoch: 1 [22400/60000 (37%)]\tLoss: 0.353973\n",
            "Train Epoch: 1 [23040/60000 (38%)]\tLoss: 0.553667\n",
            "Train Epoch: 1 [23680/60000 (39%)]\tLoss: 0.244764\n",
            "Train Epoch: 1 [24320/60000 (41%)]\tLoss: 0.348096\n",
            "Train Epoch: 1 [24960/60000 (42%)]\tLoss: 0.367056\n",
            "Train Epoch: 1 [25600/60000 (43%)]\tLoss: 0.201137\n",
            "Train Epoch: 1 [26240/60000 (44%)]\tLoss: 0.353682\n",
            "Train Epoch: 1 [26880/60000 (45%)]\tLoss: 0.356288\n",
            "Train Epoch: 1 [27520/60000 (46%)]\tLoss: 0.284757\n",
            "Train Epoch: 1 [28160/60000 (47%)]\tLoss: 0.308624\n",
            "Train Epoch: 1 [28800/60000 (48%)]\tLoss: 0.198151\n",
            "Train Epoch: 1 [29440/60000 (49%)]\tLoss: 0.258237\n",
            "Train Epoch: 1 [30080/60000 (50%)]\tLoss: 0.273536\n",
            "Train Epoch: 1 [30720/60000 (51%)]\tLoss: 0.430560\n",
            "Train Epoch: 1 [31360/60000 (52%)]\tLoss: 0.207517\n",
            "Train Epoch: 1 [32000/60000 (53%)]\tLoss: 0.276579\n",
            "Train Epoch: 1 [32640/60000 (54%)]\tLoss: 0.326152\n",
            "Train Epoch: 1 [33280/60000 (55%)]\tLoss: 0.417907\n",
            "Train Epoch: 1 [33920/60000 (57%)]\tLoss: 0.113151\n",
            "Train Epoch: 1 [34560/60000 (58%)]\tLoss: 0.233026\n",
            "Train Epoch: 1 [35200/60000 (59%)]\tLoss: 0.448030\n",
            "Train Epoch: 1 [35840/60000 (60%)]\tLoss: 0.192228\n",
            "Train Epoch: 1 [36480/60000 (61%)]\tLoss: 0.251246\n",
            "Train Epoch: 1 [37120/60000 (62%)]\tLoss: 0.240284\n",
            "Train Epoch: 1 [37760/60000 (63%)]\tLoss: 0.269662\n",
            "Train Epoch: 1 [38400/60000 (64%)]\tLoss: 0.183460\n",
            "Train Epoch: 1 [39040/60000 (65%)]\tLoss: 0.141796\n",
            "Train Epoch: 1 [39680/60000 (66%)]\tLoss: 0.189077\n",
            "Train Epoch: 1 [40320/60000 (67%)]\tLoss: 0.227899\n",
            "Train Epoch: 1 [40960/60000 (68%)]\tLoss: 0.175027\n",
            "Train Epoch: 1 [41600/60000 (69%)]\tLoss: 0.212127\n",
            "Train Epoch: 1 [42240/60000 (70%)]\tLoss: 0.237313\n",
            "Train Epoch: 1 [42880/60000 (71%)]\tLoss: 0.104954\n",
            "Train Epoch: 1 [43520/60000 (72%)]\tLoss: 0.267567\n",
            "Train Epoch: 1 [44160/60000 (74%)]\tLoss: 0.206483\n",
            "Train Epoch: 1 [44800/60000 (75%)]\tLoss: 0.306450\n",
            "Train Epoch: 1 [45440/60000 (76%)]\tLoss: 0.210076\n",
            "Train Epoch: 1 [46080/60000 (77%)]\tLoss: 0.220316\n",
            "Train Epoch: 1 [46720/60000 (78%)]\tLoss: 0.194707\n",
            "Train Epoch: 1 [47360/60000 (79%)]\tLoss: 0.261092\n",
            "Train Epoch: 1 [48000/60000 (80%)]\tLoss: 0.247201\n",
            "Train Epoch: 1 [48640/60000 (81%)]\tLoss: 0.237173\n",
            "Train Epoch: 1 [49280/60000 (82%)]\tLoss: 0.342553\n",
            "Train Epoch: 1 [49920/60000 (83%)]\tLoss: 0.079360\n",
            "Train Epoch: 1 [50560/60000 (84%)]\tLoss: 0.177679\n",
            "Train Epoch: 1 [51200/60000 (85%)]\tLoss: 0.154792\n",
            "Train Epoch: 1 [51840/60000 (86%)]\tLoss: 0.340513\n",
            "Train Epoch: 1 [52480/60000 (87%)]\tLoss: 0.139649\n",
            "Train Epoch: 1 [53120/60000 (88%)]\tLoss: 0.150208\n",
            "Train Epoch: 1 [53760/60000 (90%)]\tLoss: 0.190620\n",
            "Train Epoch: 1 [54400/60000 (91%)]\tLoss: 0.211009\n",
            "Train Epoch: 1 [55040/60000 (92%)]\tLoss: 0.258491\n",
            "Train Epoch: 1 [55680/60000 (93%)]\tLoss: 0.071491\n",
            "Train Epoch: 1 [56320/60000 (94%)]\tLoss: 0.235698\n",
            "Train Epoch: 1 [56960/60000 (95%)]\tLoss: 0.059313\n",
            "Train Epoch: 1 [57600/60000 (96%)]\tLoss: 0.215324\n",
            "Train Epoch: 1 [58240/60000 (97%)]\tLoss: 0.119981\n",
            "Train Epoch: 1 [58880/60000 (98%)]\tLoss: 0.091837\n",
            "Train Epoch: 1 [59520/60000 (99%)]\tLoss: 0.254507\n"
          ]
        },
        {
          "output_type": "stream",
          "name": "stderr",
          "text": [
            "<ipython-input-60-f52337105c2a>:6: UserWarning: volatile was removed and now has no effect. Use `with torch.no_grad():` instead.\n",
            "  data, target = Variable(data, volatile=True), Variable(target)\n",
            "/usr/local/lib/python3.10/dist-packages/torch/nn/_reduction.py:42: UserWarning: size_average and reduce args will be deprecated, please use reduction='sum' instead.\n",
            "  warnings.warn(warning.format(ret))\n"
          ]
        },
        {
          "output_type": "stream",
          "name": "stdout",
          "text": [
            "\n",
            "Test set: Average loss: 0.1748, Accuracy: 9475/10000 (95%)\n",
            "\n",
            "Train Epoch: 2 [0/60000 (0%)]\tLoss: 0.144985\n",
            "Train Epoch: 2 [640/60000 (1%)]\tLoss: 0.163473\n",
            "Train Epoch: 2 [1280/60000 (2%)]\tLoss: 0.118351\n",
            "Train Epoch: 2 [1920/60000 (3%)]\tLoss: 0.199261\n",
            "Train Epoch: 2 [2560/60000 (4%)]\tLoss: 0.316892\n",
            "Train Epoch: 2 [3200/60000 (5%)]\tLoss: 0.137561\n",
            "Train Epoch: 2 [3840/60000 (6%)]\tLoss: 0.167569\n",
            "Train Epoch: 2 [4480/60000 (7%)]\tLoss: 0.106071\n",
            "Train Epoch: 2 [5120/60000 (9%)]\tLoss: 0.061539\n",
            "Train Epoch: 2 [5760/60000 (10%)]\tLoss: 0.041570\n",
            "Train Epoch: 2 [6400/60000 (11%)]\tLoss: 0.213852\n",
            "Train Epoch: 2 [7040/60000 (12%)]\tLoss: 0.121816\n",
            "Train Epoch: 2 [7680/60000 (13%)]\tLoss: 0.070251\n",
            "Train Epoch: 2 [8320/60000 (14%)]\tLoss: 0.112583\n",
            "Train Epoch: 2 [8960/60000 (15%)]\tLoss: 0.190938\n",
            "Train Epoch: 2 [9600/60000 (16%)]\tLoss: 0.107586\n",
            "Train Epoch: 2 [10240/60000 (17%)]\tLoss: 0.097048\n",
            "Train Epoch: 2 [10880/60000 (18%)]\tLoss: 0.185709\n",
            "Train Epoch: 2 [11520/60000 (19%)]\tLoss: 0.147158\n",
            "Train Epoch: 2 [12160/60000 (20%)]\tLoss: 0.132472\n",
            "Train Epoch: 2 [12800/60000 (21%)]\tLoss: 0.194884\n",
            "Train Epoch: 2 [13440/60000 (22%)]\tLoss: 0.134782\n",
            "Train Epoch: 2 [14080/60000 (23%)]\tLoss: 0.322496\n",
            "Train Epoch: 2 [14720/60000 (25%)]\tLoss: 0.188304\n",
            "Train Epoch: 2 [15360/60000 (26%)]\tLoss: 0.091541\n",
            "Train Epoch: 2 [16000/60000 (27%)]\tLoss: 0.062788\n",
            "Train Epoch: 2 [16640/60000 (28%)]\tLoss: 0.104498\n",
            "Train Epoch: 2 [17280/60000 (29%)]\tLoss: 0.173027\n",
            "Train Epoch: 2 [17920/60000 (30%)]\tLoss: 0.210151\n",
            "Train Epoch: 2 [18560/60000 (31%)]\tLoss: 0.065891\n",
            "Train Epoch: 2 [19200/60000 (32%)]\tLoss: 0.160107\n",
            "Train Epoch: 2 [19840/60000 (33%)]\tLoss: 0.115118\n",
            "Train Epoch: 2 [20480/60000 (34%)]\tLoss: 0.205804\n",
            "Train Epoch: 2 [21120/60000 (35%)]\tLoss: 0.083583\n",
            "Train Epoch: 2 [21760/60000 (36%)]\tLoss: 0.109347\n",
            "Train Epoch: 2 [22400/60000 (37%)]\tLoss: 0.060498\n",
            "Train Epoch: 2 [23040/60000 (38%)]\tLoss: 0.162931\n",
            "Train Epoch: 2 [23680/60000 (39%)]\tLoss: 0.055592\n",
            "Train Epoch: 2 [24320/60000 (41%)]\tLoss: 0.134702\n",
            "Train Epoch: 2 [24960/60000 (42%)]\tLoss: 0.312161\n",
            "Train Epoch: 2 [25600/60000 (43%)]\tLoss: 0.209625\n",
            "Train Epoch: 2 [26240/60000 (44%)]\tLoss: 0.149003\n",
            "Train Epoch: 2 [26880/60000 (45%)]\tLoss: 0.117220\n",
            "Train Epoch: 2 [27520/60000 (46%)]\tLoss: 0.099928\n",
            "Train Epoch: 2 [28160/60000 (47%)]\tLoss: 0.198535\n",
            "Train Epoch: 2 [28800/60000 (48%)]\tLoss: 0.179605\n",
            "Train Epoch: 2 [29440/60000 (49%)]\tLoss: 0.089877\n",
            "Train Epoch: 2 [30080/60000 (50%)]\tLoss: 0.093996\n",
            "Train Epoch: 2 [30720/60000 (51%)]\tLoss: 0.128981\n",
            "Train Epoch: 2 [31360/60000 (52%)]\tLoss: 0.103918\n",
            "Train Epoch: 2 [32000/60000 (53%)]\tLoss: 0.144754\n",
            "Train Epoch: 2 [32640/60000 (54%)]\tLoss: 0.131401\n",
            "Train Epoch: 2 [33280/60000 (55%)]\tLoss: 0.132763\n",
            "Train Epoch: 2 [33920/60000 (57%)]\tLoss: 0.187526\n",
            "Train Epoch: 2 [34560/60000 (58%)]\tLoss: 0.121318\n",
            "Train Epoch: 2 [35200/60000 (59%)]\tLoss: 0.275508\n",
            "Train Epoch: 2 [35840/60000 (60%)]\tLoss: 0.187353\n",
            "Train Epoch: 2 [36480/60000 (61%)]\tLoss: 0.132267\n",
            "Train Epoch: 2 [37120/60000 (62%)]\tLoss: 0.159104\n",
            "Train Epoch: 2 [37760/60000 (63%)]\tLoss: 0.096070\n",
            "Train Epoch: 2 [38400/60000 (64%)]\tLoss: 0.147887\n",
            "Train Epoch: 2 [39040/60000 (65%)]\tLoss: 0.145883\n",
            "Train Epoch: 2 [39680/60000 (66%)]\tLoss: 0.048302\n",
            "Train Epoch: 2 [40320/60000 (67%)]\tLoss: 0.179554\n",
            "Train Epoch: 2 [40960/60000 (68%)]\tLoss: 0.125178\n",
            "Train Epoch: 2 [41600/60000 (69%)]\tLoss: 0.063459\n",
            "Train Epoch: 2 [42240/60000 (70%)]\tLoss: 0.106842\n",
            "Train Epoch: 2 [42880/60000 (71%)]\tLoss: 0.100033\n",
            "Train Epoch: 2 [43520/60000 (72%)]\tLoss: 0.203278\n",
            "Train Epoch: 2 [44160/60000 (74%)]\tLoss: 0.135889\n",
            "Train Epoch: 2 [44800/60000 (75%)]\tLoss: 0.044867\n",
            "Train Epoch: 2 [45440/60000 (76%)]\tLoss: 0.096051\n",
            "Train Epoch: 2 [46080/60000 (77%)]\tLoss: 0.129703\n",
            "Train Epoch: 2 [46720/60000 (78%)]\tLoss: 0.214122\n",
            "Train Epoch: 2 [47360/60000 (79%)]\tLoss: 0.064408\n",
            "Train Epoch: 2 [48000/60000 (80%)]\tLoss: 0.099408\n",
            "Train Epoch: 2 [48640/60000 (81%)]\tLoss: 0.074920\n",
            "Train Epoch: 2 [49280/60000 (82%)]\tLoss: 0.123317\n",
            "Train Epoch: 2 [49920/60000 (83%)]\tLoss: 0.219312\n",
            "Train Epoch: 2 [50560/60000 (84%)]\tLoss: 0.089546\n",
            "Train Epoch: 2 [51200/60000 (85%)]\tLoss: 0.218090\n",
            "Train Epoch: 2 [51840/60000 (86%)]\tLoss: 0.089074\n",
            "Train Epoch: 2 [52480/60000 (87%)]\tLoss: 0.182976\n",
            "Train Epoch: 2 [53120/60000 (88%)]\tLoss: 0.102888\n",
            "Train Epoch: 2 [53760/60000 (90%)]\tLoss: 0.187540\n",
            "Train Epoch: 2 [54400/60000 (91%)]\tLoss: 0.050489\n",
            "Train Epoch: 2 [55040/60000 (92%)]\tLoss: 0.114809\n",
            "Train Epoch: 2 [55680/60000 (93%)]\tLoss: 0.246051\n",
            "Train Epoch: 2 [56320/60000 (94%)]\tLoss: 0.114211\n",
            "Train Epoch: 2 [56960/60000 (95%)]\tLoss: 0.053425\n",
            "Train Epoch: 2 [57600/60000 (96%)]\tLoss: 0.218996\n",
            "Train Epoch: 2 [58240/60000 (97%)]\tLoss: 0.041738\n",
            "Train Epoch: 2 [58880/60000 (98%)]\tLoss: 0.222851\n",
            "Train Epoch: 2 [59520/60000 (99%)]\tLoss: 0.078481\n",
            "\n",
            "Test set: Average loss: 0.1152, Accuracy: 9642/10000 (96%)\n",
            "\n",
            "Train Epoch: 3 [0/60000 (0%)]\tLoss: 0.166780\n",
            "Train Epoch: 3 [640/60000 (1%)]\tLoss: 0.072872\n",
            "Train Epoch: 3 [1280/60000 (2%)]\tLoss: 0.066934\n",
            "Train Epoch: 3 [1920/60000 (3%)]\tLoss: 0.143993\n",
            "Train Epoch: 3 [2560/60000 (4%)]\tLoss: 0.124699\n",
            "Train Epoch: 3 [3200/60000 (5%)]\tLoss: 0.167740\n",
            "Train Epoch: 3 [3840/60000 (6%)]\tLoss: 0.104639\n",
            "Train Epoch: 3 [4480/60000 (7%)]\tLoss: 0.278089\n",
            "Train Epoch: 3 [5120/60000 (9%)]\tLoss: 0.212881\n",
            "Train Epoch: 3 [5760/60000 (10%)]\tLoss: 0.234971\n",
            "Train Epoch: 3 [6400/60000 (11%)]\tLoss: 0.104774\n",
            "Train Epoch: 3 [7040/60000 (12%)]\tLoss: 0.154547\n",
            "Train Epoch: 3 [7680/60000 (13%)]\tLoss: 0.088539\n",
            "Train Epoch: 3 [8320/60000 (14%)]\tLoss: 0.056635\n",
            "Train Epoch: 3 [8960/60000 (15%)]\tLoss: 0.083626\n",
            "Train Epoch: 3 [9600/60000 (16%)]\tLoss: 0.049845\n",
            "Train Epoch: 3 [10240/60000 (17%)]\tLoss: 0.124059\n",
            "Train Epoch: 3 [10880/60000 (18%)]\tLoss: 0.122255\n",
            "Train Epoch: 3 [11520/60000 (19%)]\tLoss: 0.169126\n",
            "Train Epoch: 3 [12160/60000 (20%)]\tLoss: 0.057868\n",
            "Train Epoch: 3 [12800/60000 (21%)]\tLoss: 0.069967\n",
            "Train Epoch: 3 [13440/60000 (22%)]\tLoss: 0.038711\n",
            "Train Epoch: 3 [14080/60000 (23%)]\tLoss: 0.051208\n",
            "Train Epoch: 3 [14720/60000 (25%)]\tLoss: 0.076830\n",
            "Train Epoch: 3 [15360/60000 (26%)]\tLoss: 0.052263\n",
            "Train Epoch: 3 [16000/60000 (27%)]\tLoss: 0.242731\n",
            "Train Epoch: 3 [16640/60000 (28%)]\tLoss: 0.234018\n",
            "Train Epoch: 3 [17280/60000 (29%)]\tLoss: 0.079673\n",
            "Train Epoch: 3 [17920/60000 (30%)]\tLoss: 0.297267\n",
            "Train Epoch: 3 [18560/60000 (31%)]\tLoss: 0.106629\n",
            "Train Epoch: 3 [19200/60000 (32%)]\tLoss: 0.130409\n",
            "Train Epoch: 3 [19840/60000 (33%)]\tLoss: 0.084933\n",
            "Train Epoch: 3 [20480/60000 (34%)]\tLoss: 0.088515\n",
            "Train Epoch: 3 [21120/60000 (35%)]\tLoss: 0.076866\n",
            "Train Epoch: 3 [21760/60000 (36%)]\tLoss: 0.039256\n",
            "Train Epoch: 3 [22400/60000 (37%)]\tLoss: 0.177814\n",
            "Train Epoch: 3 [23040/60000 (38%)]\tLoss: 0.211594\n",
            "Train Epoch: 3 [23680/60000 (39%)]\tLoss: 0.058224\n",
            "Train Epoch: 3 [24320/60000 (41%)]\tLoss: 0.225555\n",
            "Train Epoch: 3 [24960/60000 (42%)]\tLoss: 0.141939\n",
            "Train Epoch: 3 [25600/60000 (43%)]\tLoss: 0.020197\n",
            "Train Epoch: 3 [26240/60000 (44%)]\tLoss: 0.166133\n",
            "Train Epoch: 3 [26880/60000 (45%)]\tLoss: 0.055778\n",
            "Train Epoch: 3 [27520/60000 (46%)]\tLoss: 0.131754\n",
            "Train Epoch: 3 [28160/60000 (47%)]\tLoss: 0.194795\n",
            "Train Epoch: 3 [28800/60000 (48%)]\tLoss: 0.271432\n",
            "Train Epoch: 3 [29440/60000 (49%)]\tLoss: 0.139434\n",
            "Train Epoch: 3 [30080/60000 (50%)]\tLoss: 0.091543\n",
            "Train Epoch: 3 [30720/60000 (51%)]\tLoss: 0.070944\n",
            "Train Epoch: 3 [31360/60000 (52%)]\tLoss: 0.040045\n",
            "Train Epoch: 3 [32000/60000 (53%)]\tLoss: 0.110830\n",
            "Train Epoch: 3 [32640/60000 (54%)]\tLoss: 0.069363\n",
            "Train Epoch: 3 [33280/60000 (55%)]\tLoss: 0.081746\n",
            "Train Epoch: 3 [33920/60000 (57%)]\tLoss: 0.156736\n",
            "Train Epoch: 3 [34560/60000 (58%)]\tLoss: 0.126842\n",
            "Train Epoch: 3 [35200/60000 (59%)]\tLoss: 0.082838\n",
            "Train Epoch: 3 [35840/60000 (60%)]\tLoss: 0.103633\n",
            "Train Epoch: 3 [36480/60000 (61%)]\tLoss: 0.164922\n",
            "Train Epoch: 3 [37120/60000 (62%)]\tLoss: 0.037688\n",
            "Train Epoch: 3 [37760/60000 (63%)]\tLoss: 0.049421\n",
            "Train Epoch: 3 [38400/60000 (64%)]\tLoss: 0.109245\n",
            "Train Epoch: 3 [39040/60000 (65%)]\tLoss: 0.116098\n",
            "Train Epoch: 3 [39680/60000 (66%)]\tLoss: 0.139439\n",
            "Train Epoch: 3 [40320/60000 (67%)]\tLoss: 0.018087\n",
            "Train Epoch: 3 [40960/60000 (68%)]\tLoss: 0.058022\n",
            "Train Epoch: 3 [41600/60000 (69%)]\tLoss: 0.116490\n",
            "Train Epoch: 3 [42240/60000 (70%)]\tLoss: 0.095901\n",
            "Train Epoch: 3 [42880/60000 (71%)]\tLoss: 0.139615\n",
            "Train Epoch: 3 [43520/60000 (72%)]\tLoss: 0.114120\n",
            "Train Epoch: 3 [44160/60000 (74%)]\tLoss: 0.159484\n",
            "Train Epoch: 3 [44800/60000 (75%)]\tLoss: 0.154550\n",
            "Train Epoch: 3 [45440/60000 (76%)]\tLoss: 0.023183\n",
            "Train Epoch: 3 [46080/60000 (77%)]\tLoss: 0.111193\n",
            "Train Epoch: 3 [46720/60000 (78%)]\tLoss: 0.035913\n",
            "Train Epoch: 3 [47360/60000 (79%)]\tLoss: 0.125188\n",
            "Train Epoch: 3 [48000/60000 (80%)]\tLoss: 0.124348\n",
            "Train Epoch: 3 [48640/60000 (81%)]\tLoss: 0.152345\n",
            "Train Epoch: 3 [49280/60000 (82%)]\tLoss: 0.145806\n",
            "Train Epoch: 3 [49920/60000 (83%)]\tLoss: 0.099967\n",
            "Train Epoch: 3 [50560/60000 (84%)]\tLoss: 0.139749\n",
            "Train Epoch: 3 [51200/60000 (85%)]\tLoss: 0.028055\n",
            "Train Epoch: 3 [51840/60000 (86%)]\tLoss: 0.198065\n",
            "Train Epoch: 3 [52480/60000 (87%)]\tLoss: 0.058073\n",
            "Train Epoch: 3 [53120/60000 (88%)]\tLoss: 0.035271\n",
            "Train Epoch: 3 [53760/60000 (90%)]\tLoss: 0.022273\n",
            "Train Epoch: 3 [54400/60000 (91%)]\tLoss: 0.171353\n",
            "Train Epoch: 3 [55040/60000 (92%)]\tLoss: 0.042178\n",
            "Train Epoch: 3 [55680/60000 (93%)]\tLoss: 0.172383\n",
            "Train Epoch: 3 [56320/60000 (94%)]\tLoss: 0.069284\n",
            "Train Epoch: 3 [56960/60000 (95%)]\tLoss: 0.095618\n",
            "Train Epoch: 3 [57600/60000 (96%)]\tLoss: 0.081757\n",
            "Train Epoch: 3 [58240/60000 (97%)]\tLoss: 0.156759\n",
            "Train Epoch: 3 [58880/60000 (98%)]\tLoss: 0.028007\n",
            "Train Epoch: 3 [59520/60000 (99%)]\tLoss: 0.118419\n",
            "\n",
            "Test set: Average loss: 0.0934, Accuracy: 9722/10000 (97%)\n",
            "\n",
            "Train Epoch: 4 [0/60000 (0%)]\tLoss: 0.139148\n",
            "Train Epoch: 4 [640/60000 (1%)]\tLoss: 0.122338\n",
            "Train Epoch: 4 [1280/60000 (2%)]\tLoss: 0.043285\n",
            "Train Epoch: 4 [1920/60000 (3%)]\tLoss: 0.043547\n",
            "Train Epoch: 4 [2560/60000 (4%)]\tLoss: 0.047009\n",
            "Train Epoch: 4 [3200/60000 (5%)]\tLoss: 0.135047\n",
            "Train Epoch: 4 [3840/60000 (6%)]\tLoss: 0.044537\n",
            "Train Epoch: 4 [4480/60000 (7%)]\tLoss: 0.064259\n",
            "Train Epoch: 4 [5120/60000 (9%)]\tLoss: 0.029976\n",
            "Train Epoch: 4 [5760/60000 (10%)]\tLoss: 0.073608\n",
            "Train Epoch: 4 [6400/60000 (11%)]\tLoss: 0.293325\n",
            "Train Epoch: 4 [7040/60000 (12%)]\tLoss: 0.063298\n",
            "Train Epoch: 4 [7680/60000 (13%)]\tLoss: 0.064223\n",
            "Train Epoch: 4 [8320/60000 (14%)]\tLoss: 0.129585\n",
            "Train Epoch: 4 [8960/60000 (15%)]\tLoss: 0.058794\n",
            "Train Epoch: 4 [9600/60000 (16%)]\tLoss: 0.105278\n",
            "Train Epoch: 4 [10240/60000 (17%)]\tLoss: 0.049883\n",
            "Train Epoch: 4 [10880/60000 (18%)]\tLoss: 0.029481\n",
            "Train Epoch: 4 [11520/60000 (19%)]\tLoss: 0.081407\n",
            "Train Epoch: 4 [12160/60000 (20%)]\tLoss: 0.093214\n",
            "Train Epoch: 4 [12800/60000 (21%)]\tLoss: 0.113627\n",
            "Train Epoch: 4 [13440/60000 (22%)]\tLoss: 0.099952\n",
            "Train Epoch: 4 [14080/60000 (23%)]\tLoss: 0.169618\n",
            "Train Epoch: 4 [14720/60000 (25%)]\tLoss: 0.194618\n",
            "Train Epoch: 4 [15360/60000 (26%)]\tLoss: 0.091423\n",
            "Train Epoch: 4 [16000/60000 (27%)]\tLoss: 0.084492\n",
            "Train Epoch: 4 [16640/60000 (28%)]\tLoss: 0.040889\n",
            "Train Epoch: 4 [17280/60000 (29%)]\tLoss: 0.048035\n",
            "Train Epoch: 4 [17920/60000 (30%)]\tLoss: 0.187422\n",
            "Train Epoch: 4 [18560/60000 (31%)]\tLoss: 0.155837\n",
            "Train Epoch: 4 [19200/60000 (32%)]\tLoss: 0.180202\n",
            "Train Epoch: 4 [19840/60000 (33%)]\tLoss: 0.115364\n",
            "Train Epoch: 4 [20480/60000 (34%)]\tLoss: 0.092337\n",
            "Train Epoch: 4 [21120/60000 (35%)]\tLoss: 0.077168\n",
            "Train Epoch: 4 [21760/60000 (36%)]\tLoss: 0.040563\n",
            "Train Epoch: 4 [22400/60000 (37%)]\tLoss: 0.189669\n",
            "Train Epoch: 4 [23040/60000 (38%)]\tLoss: 0.046996\n",
            "Train Epoch: 4 [23680/60000 (39%)]\tLoss: 0.200550\n",
            "Train Epoch: 4 [24320/60000 (41%)]\tLoss: 0.104786\n",
            "Train Epoch: 4 [24960/60000 (42%)]\tLoss: 0.053026\n",
            "Train Epoch: 4 [25600/60000 (43%)]\tLoss: 0.074422\n",
            "Train Epoch: 4 [26240/60000 (44%)]\tLoss: 0.139101\n",
            "Train Epoch: 4 [26880/60000 (45%)]\tLoss: 0.056368\n",
            "Train Epoch: 4 [27520/60000 (46%)]\tLoss: 0.066246\n",
            "Train Epoch: 4 [28160/60000 (47%)]\tLoss: 0.092316\n",
            "Train Epoch: 4 [28800/60000 (48%)]\tLoss: 0.041231\n",
            "Train Epoch: 4 [29440/60000 (49%)]\tLoss: 0.228669\n",
            "Train Epoch: 4 [30080/60000 (50%)]\tLoss: 0.132528\n",
            "Train Epoch: 4 [30720/60000 (51%)]\tLoss: 0.135218\n",
            "Train Epoch: 4 [31360/60000 (52%)]\tLoss: 0.308428\n",
            "Train Epoch: 4 [32000/60000 (53%)]\tLoss: 0.060210\n",
            "Train Epoch: 4 [32640/60000 (54%)]\tLoss: 0.093058\n",
            "Train Epoch: 4 [33280/60000 (55%)]\tLoss: 0.054227\n",
            "Train Epoch: 4 [33920/60000 (57%)]\tLoss: 0.152072\n",
            "Train Epoch: 4 [34560/60000 (58%)]\tLoss: 0.174603\n",
            "Train Epoch: 4 [35200/60000 (59%)]\tLoss: 0.040248\n",
            "Train Epoch: 4 [35840/60000 (60%)]\tLoss: 0.060091\n",
            "Train Epoch: 4 [36480/60000 (61%)]\tLoss: 0.021721\n",
            "Train Epoch: 4 [37120/60000 (62%)]\tLoss: 0.061566\n",
            "Train Epoch: 4 [37760/60000 (63%)]\tLoss: 0.062458\n",
            "Train Epoch: 4 [38400/60000 (64%)]\tLoss: 0.074721\n",
            "Train Epoch: 4 [39040/60000 (65%)]\tLoss: 0.029986\n",
            "Train Epoch: 4 [39680/60000 (66%)]\tLoss: 0.086752\n",
            "Train Epoch: 4 [40320/60000 (67%)]\tLoss: 0.086040\n",
            "Train Epoch: 4 [40960/60000 (68%)]\tLoss: 0.105903\n",
            "Train Epoch: 4 [41600/60000 (69%)]\tLoss: 0.025563\n",
            "Train Epoch: 4 [42240/60000 (70%)]\tLoss: 0.045800\n",
            "Train Epoch: 4 [42880/60000 (71%)]\tLoss: 0.142093\n",
            "Train Epoch: 4 [43520/60000 (72%)]\tLoss: 0.053649\n",
            "Train Epoch: 4 [44160/60000 (74%)]\tLoss: 0.026475\n",
            "Train Epoch: 4 [44800/60000 (75%)]\tLoss: 0.176084\n",
            "Train Epoch: 4 [45440/60000 (76%)]\tLoss: 0.128284\n",
            "Train Epoch: 4 [46080/60000 (77%)]\tLoss: 0.061833\n",
            "Train Epoch: 4 [46720/60000 (78%)]\tLoss: 0.110526\n",
            "Train Epoch: 4 [47360/60000 (79%)]\tLoss: 0.049538\n",
            "Train Epoch: 4 [48000/60000 (80%)]\tLoss: 0.128889\n",
            "Train Epoch: 4 [48640/60000 (81%)]\tLoss: 0.047846\n",
            "Train Epoch: 4 [49280/60000 (82%)]\tLoss: 0.110388\n",
            "Train Epoch: 4 [49920/60000 (83%)]\tLoss: 0.084663\n",
            "Train Epoch: 4 [50560/60000 (84%)]\tLoss: 0.082273\n",
            "Train Epoch: 4 [51200/60000 (85%)]\tLoss: 0.008800\n",
            "Train Epoch: 4 [51840/60000 (86%)]\tLoss: 0.086919\n",
            "Train Epoch: 4 [52480/60000 (87%)]\tLoss: 0.084639\n",
            "Train Epoch: 4 [53120/60000 (88%)]\tLoss: 0.052422\n",
            "Train Epoch: 4 [53760/60000 (90%)]\tLoss: 0.046996\n",
            "Train Epoch: 4 [54400/60000 (91%)]\tLoss: 0.154461\n",
            "Train Epoch: 4 [55040/60000 (92%)]\tLoss: 0.025708\n",
            "Train Epoch: 4 [55680/60000 (93%)]\tLoss: 0.183686\n",
            "Train Epoch: 4 [56320/60000 (94%)]\tLoss: 0.176976\n",
            "Train Epoch: 4 [56960/60000 (95%)]\tLoss: 0.080720\n",
            "Train Epoch: 4 [57600/60000 (96%)]\tLoss: 0.092650\n",
            "Train Epoch: 4 [58240/60000 (97%)]\tLoss: 0.044977\n",
            "Train Epoch: 4 [58880/60000 (98%)]\tLoss: 0.084141\n",
            "Train Epoch: 4 [59520/60000 (99%)]\tLoss: 0.114969\n",
            "\n",
            "Test set: Average loss: 0.0709, Accuracy: 9778/10000 (98%)\n",
            "\n",
            "Train Epoch: 5 [0/60000 (0%)]\tLoss: 0.092962\n",
            "Train Epoch: 5 [640/60000 (1%)]\tLoss: 0.137532\n",
            "Train Epoch: 5 [1280/60000 (2%)]\tLoss: 0.082471\n",
            "Train Epoch: 5 [1920/60000 (3%)]\tLoss: 0.039107\n",
            "Train Epoch: 5 [2560/60000 (4%)]\tLoss: 0.015466\n",
            "Train Epoch: 5 [3200/60000 (5%)]\tLoss: 0.090404\n",
            "Train Epoch: 5 [3840/60000 (6%)]\tLoss: 0.020126\n",
            "Train Epoch: 5 [4480/60000 (7%)]\tLoss: 0.081945\n",
            "Train Epoch: 5 [5120/60000 (9%)]\tLoss: 0.055936\n",
            "Train Epoch: 5 [5760/60000 (10%)]\tLoss: 0.078238\n",
            "Train Epoch: 5 [6400/60000 (11%)]\tLoss: 0.095909\n",
            "Train Epoch: 5 [7040/60000 (12%)]\tLoss: 0.122046\n",
            "Train Epoch: 5 [7680/60000 (13%)]\tLoss: 0.129822\n",
            "Train Epoch: 5 [8320/60000 (14%)]\tLoss: 0.021467\n",
            "Train Epoch: 5 [8960/60000 (15%)]\tLoss: 0.157419\n",
            "Train Epoch: 5 [9600/60000 (16%)]\tLoss: 0.080195\n",
            "Train Epoch: 5 [10240/60000 (17%)]\tLoss: 0.053232\n",
            "Train Epoch: 5 [10880/60000 (18%)]\tLoss: 0.017884\n",
            "Train Epoch: 5 [11520/60000 (19%)]\tLoss: 0.148615\n",
            "Train Epoch: 5 [12160/60000 (20%)]\tLoss: 0.082075\n",
            "Train Epoch: 5 [12800/60000 (21%)]\tLoss: 0.195493\n",
            "Train Epoch: 5 [13440/60000 (22%)]\tLoss: 0.079107\n",
            "Train Epoch: 5 [14080/60000 (23%)]\tLoss: 0.044818\n",
            "Train Epoch: 5 [14720/60000 (25%)]\tLoss: 0.051343\n",
            "Train Epoch: 5 [15360/60000 (26%)]\tLoss: 0.126685\n",
            "Train Epoch: 5 [16000/60000 (27%)]\tLoss: 0.125449\n",
            "Train Epoch: 5 [16640/60000 (28%)]\tLoss: 0.160092\n",
            "Train Epoch: 5 [17280/60000 (29%)]\tLoss: 0.094600\n",
            "Train Epoch: 5 [17920/60000 (30%)]\tLoss: 0.089086\n",
            "Train Epoch: 5 [18560/60000 (31%)]\tLoss: 0.016870\n",
            "Train Epoch: 5 [19200/60000 (32%)]\tLoss: 0.119467\n",
            "Train Epoch: 5 [19840/60000 (33%)]\tLoss: 0.063510\n",
            "Train Epoch: 5 [20480/60000 (34%)]\tLoss: 0.102040\n",
            "Train Epoch: 5 [21120/60000 (35%)]\tLoss: 0.095687\n",
            "Train Epoch: 5 [21760/60000 (36%)]\tLoss: 0.081017\n",
            "Train Epoch: 5 [22400/60000 (37%)]\tLoss: 0.061310\n",
            "Train Epoch: 5 [23040/60000 (38%)]\tLoss: 0.130667\n",
            "Train Epoch: 5 [23680/60000 (39%)]\tLoss: 0.040986\n",
            "Train Epoch: 5 [24320/60000 (41%)]\tLoss: 0.035493\n",
            "Train Epoch: 5 [24960/60000 (42%)]\tLoss: 0.013018\n",
            "Train Epoch: 5 [25600/60000 (43%)]\tLoss: 0.065788\n",
            "Train Epoch: 5 [26240/60000 (44%)]\tLoss: 0.073637\n",
            "Train Epoch: 5 [26880/60000 (45%)]\tLoss: 0.045898\n",
            "Train Epoch: 5 [27520/60000 (46%)]\tLoss: 0.125095\n",
            "Train Epoch: 5 [28160/60000 (47%)]\tLoss: 0.071075\n",
            "Train Epoch: 5 [28800/60000 (48%)]\tLoss: 0.009355\n",
            "Train Epoch: 5 [29440/60000 (49%)]\tLoss: 0.019464\n",
            "Train Epoch: 5 [30080/60000 (50%)]\tLoss: 0.164121\n",
            "Train Epoch: 5 [30720/60000 (51%)]\tLoss: 0.072619\n",
            "Train Epoch: 5 [31360/60000 (52%)]\tLoss: 0.126466\n",
            "Train Epoch: 5 [32000/60000 (53%)]\tLoss: 0.123387\n",
            "Train Epoch: 5 [32640/60000 (54%)]\tLoss: 0.100590\n",
            "Train Epoch: 5 [33280/60000 (55%)]\tLoss: 0.086502\n",
            "Train Epoch: 5 [33920/60000 (57%)]\tLoss: 0.074769\n",
            "Train Epoch: 5 [34560/60000 (58%)]\tLoss: 0.045407\n",
            "Train Epoch: 5 [35200/60000 (59%)]\tLoss: 0.065076\n",
            "Train Epoch: 5 [35840/60000 (60%)]\tLoss: 0.045032\n",
            "Train Epoch: 5 [36480/60000 (61%)]\tLoss: 0.090864\n",
            "Train Epoch: 5 [37120/60000 (62%)]\tLoss: 0.057958\n",
            "Train Epoch: 5 [37760/60000 (63%)]\tLoss: 0.064943\n",
            "Train Epoch: 5 [38400/60000 (64%)]\tLoss: 0.209580\n",
            "Train Epoch: 5 [39040/60000 (65%)]\tLoss: 0.011029\n",
            "Train Epoch: 5 [39680/60000 (66%)]\tLoss: 0.081459\n",
            "Train Epoch: 5 [40320/60000 (67%)]\tLoss: 0.084480\n",
            "Train Epoch: 5 [40960/60000 (68%)]\tLoss: 0.017045\n",
            "Train Epoch: 5 [41600/60000 (69%)]\tLoss: 0.167358\n",
            "Train Epoch: 5 [42240/60000 (70%)]\tLoss: 0.491249\n",
            "Train Epoch: 5 [42880/60000 (71%)]\tLoss: 0.138597\n",
            "Train Epoch: 5 [43520/60000 (72%)]\tLoss: 0.026875\n",
            "Train Epoch: 5 [44160/60000 (74%)]\tLoss: 0.039131\n",
            "Train Epoch: 5 [44800/60000 (75%)]\tLoss: 0.155370\n",
            "Train Epoch: 5 [45440/60000 (76%)]\tLoss: 0.084407\n",
            "Train Epoch: 5 [46080/60000 (77%)]\tLoss: 0.023377\n",
            "Train Epoch: 5 [46720/60000 (78%)]\tLoss: 0.062885\n",
            "Train Epoch: 5 [47360/60000 (79%)]\tLoss: 0.065190\n",
            "Train Epoch: 5 [48000/60000 (80%)]\tLoss: 0.140938\n",
            "Train Epoch: 5 [48640/60000 (81%)]\tLoss: 0.048550\n",
            "Train Epoch: 5 [49280/60000 (82%)]\tLoss: 0.072724\n",
            "Train Epoch: 5 [49920/60000 (83%)]\tLoss: 0.120220\n",
            "Train Epoch: 5 [50560/60000 (84%)]\tLoss: 0.033316\n",
            "Train Epoch: 5 [51200/60000 (85%)]\tLoss: 0.029144\n",
            "Train Epoch: 5 [51840/60000 (86%)]\tLoss: 0.150517\n",
            "Train Epoch: 5 [52480/60000 (87%)]\tLoss: 0.053948\n",
            "Train Epoch: 5 [53120/60000 (88%)]\tLoss: 0.034424\n",
            "Train Epoch: 5 [53760/60000 (90%)]\tLoss: 0.074357\n",
            "Train Epoch: 5 [54400/60000 (91%)]\tLoss: 0.029174\n",
            "Train Epoch: 5 [55040/60000 (92%)]\tLoss: 0.045164\n",
            "Train Epoch: 5 [55680/60000 (93%)]\tLoss: 0.045440\n",
            "Train Epoch: 5 [56320/60000 (94%)]\tLoss: 0.032754\n",
            "Train Epoch: 5 [56960/60000 (95%)]\tLoss: 0.022255\n",
            "Train Epoch: 5 [57600/60000 (96%)]\tLoss: 0.112306\n",
            "Train Epoch: 5 [58240/60000 (97%)]\tLoss: 0.010372\n",
            "Train Epoch: 5 [58880/60000 (98%)]\tLoss: 0.047022\n",
            "Train Epoch: 5 [59520/60000 (99%)]\tLoss: 0.192160\n",
            "\n",
            "Test set: Average loss: 0.0648, Accuracy: 9800/10000 (98%)\n",
            "\n",
            "Train Epoch: 6 [0/60000 (0%)]\tLoss: 0.040314\n",
            "Train Epoch: 6 [640/60000 (1%)]\tLoss: 0.038277\n",
            "Train Epoch: 6 [1280/60000 (2%)]\tLoss: 0.086078\n",
            "Train Epoch: 6 [1920/60000 (3%)]\tLoss: 0.099939\n",
            "Train Epoch: 6 [2560/60000 (4%)]\tLoss: 0.041839\n",
            "Train Epoch: 6 [3200/60000 (5%)]\tLoss: 0.041115\n",
            "Train Epoch: 6 [3840/60000 (6%)]\tLoss: 0.070130\n",
            "Train Epoch: 6 [4480/60000 (7%)]\tLoss: 0.138682\n",
            "Train Epoch: 6 [5120/60000 (9%)]\tLoss: 0.035085\n",
            "Train Epoch: 6 [5760/60000 (10%)]\tLoss: 0.064722\n",
            "Train Epoch: 6 [6400/60000 (11%)]\tLoss: 0.145602\n",
            "Train Epoch: 6 [7040/60000 (12%)]\tLoss: 0.064772\n",
            "Train Epoch: 6 [7680/60000 (13%)]\tLoss: 0.067660\n",
            "Train Epoch: 6 [8320/60000 (14%)]\tLoss: 0.075275\n",
            "Train Epoch: 6 [8960/60000 (15%)]\tLoss: 0.094470\n",
            "Train Epoch: 6 [9600/60000 (16%)]\tLoss: 0.027726\n",
            "Train Epoch: 6 [10240/60000 (17%)]\tLoss: 0.086687\n",
            "Train Epoch: 6 [10880/60000 (18%)]\tLoss: 0.079310\n",
            "Train Epoch: 6 [11520/60000 (19%)]\tLoss: 0.154440\n",
            "Train Epoch: 6 [12160/60000 (20%)]\tLoss: 0.086143\n",
            "Train Epoch: 6 [12800/60000 (21%)]\tLoss: 0.033991\n",
            "Train Epoch: 6 [13440/60000 (22%)]\tLoss: 0.020060\n",
            "Train Epoch: 6 [14080/60000 (23%)]\tLoss: 0.014563\n",
            "Train Epoch: 6 [14720/60000 (25%)]\tLoss: 0.073025\n",
            "Train Epoch: 6 [15360/60000 (26%)]\tLoss: 0.061476\n",
            "Train Epoch: 6 [16000/60000 (27%)]\tLoss: 0.045503\n",
            "Train Epoch: 6 [16640/60000 (28%)]\tLoss: 0.029112\n",
            "Train Epoch: 6 [17280/60000 (29%)]\tLoss: 0.014734\n",
            "Train Epoch: 6 [17920/60000 (30%)]\tLoss: 0.189566\n",
            "Train Epoch: 6 [18560/60000 (31%)]\tLoss: 0.040436\n",
            "Train Epoch: 6 [19200/60000 (32%)]\tLoss: 0.080080\n",
            "Train Epoch: 6 [19840/60000 (33%)]\tLoss: 0.041040\n",
            "Train Epoch: 6 [20480/60000 (34%)]\tLoss: 0.027199\n",
            "Train Epoch: 6 [21120/60000 (35%)]\tLoss: 0.057441\n",
            "Train Epoch: 6 [21760/60000 (36%)]\tLoss: 0.022012\n",
            "Train Epoch: 6 [22400/60000 (37%)]\tLoss: 0.044198\n",
            "Train Epoch: 6 [23040/60000 (38%)]\tLoss: 0.169520\n",
            "Train Epoch: 6 [23680/60000 (39%)]\tLoss: 0.045844\n",
            "Train Epoch: 6 [24320/60000 (41%)]\tLoss: 0.039897\n",
            "Train Epoch: 6 [24960/60000 (42%)]\tLoss: 0.031045\n",
            "Train Epoch: 6 [25600/60000 (43%)]\tLoss: 0.052978\n",
            "Train Epoch: 6 [26240/60000 (44%)]\tLoss: 0.087042\n",
            "Train Epoch: 6 [26880/60000 (45%)]\tLoss: 0.067304\n",
            "Train Epoch: 6 [27520/60000 (46%)]\tLoss: 0.230351\n",
            "Train Epoch: 6 [28160/60000 (47%)]\tLoss: 0.098272\n",
            "Train Epoch: 6 [28800/60000 (48%)]\tLoss: 0.076325\n",
            "Train Epoch: 6 [29440/60000 (49%)]\tLoss: 0.064696\n",
            "Train Epoch: 6 [30080/60000 (50%)]\tLoss: 0.110109\n",
            "Train Epoch: 6 [30720/60000 (51%)]\tLoss: 0.081020\n",
            "Train Epoch: 6 [31360/60000 (52%)]\tLoss: 0.028046\n",
            "Train Epoch: 6 [32000/60000 (53%)]\tLoss: 0.121975\n",
            "Train Epoch: 6 [32640/60000 (54%)]\tLoss: 0.022629\n",
            "Train Epoch: 6 [33280/60000 (55%)]\tLoss: 0.011024\n",
            "Train Epoch: 6 [33920/60000 (57%)]\tLoss: 0.023008\n",
            "Train Epoch: 6 [34560/60000 (58%)]\tLoss: 0.022633\n",
            "Train Epoch: 6 [35200/60000 (59%)]\tLoss: 0.020391\n",
            "Train Epoch: 6 [35840/60000 (60%)]\tLoss: 0.032957\n",
            "Train Epoch: 6 [36480/60000 (61%)]\tLoss: 0.140976\n",
            "Train Epoch: 6 [37120/60000 (62%)]\tLoss: 0.119718\n",
            "Train Epoch: 6 [37760/60000 (63%)]\tLoss: 0.028963\n",
            "Train Epoch: 6 [38400/60000 (64%)]\tLoss: 0.079868\n",
            "Train Epoch: 6 [39040/60000 (65%)]\tLoss: 0.049574\n",
            "Train Epoch: 6 [39680/60000 (66%)]\tLoss: 0.077226\n",
            "Train Epoch: 6 [40320/60000 (67%)]\tLoss: 0.060525\n",
            "Train Epoch: 6 [40960/60000 (68%)]\tLoss: 0.161119\n",
            "Train Epoch: 6 [41600/60000 (69%)]\tLoss: 0.137275\n",
            "Train Epoch: 6 [42240/60000 (70%)]\tLoss: 0.013068\n",
            "Train Epoch: 6 [42880/60000 (71%)]\tLoss: 0.123259\n",
            "Train Epoch: 6 [43520/60000 (72%)]\tLoss: 0.056051\n",
            "Train Epoch: 6 [44160/60000 (74%)]\tLoss: 0.137530\n",
            "Train Epoch: 6 [44800/60000 (75%)]\tLoss: 0.177076\n",
            "Train Epoch: 6 [45440/60000 (76%)]\tLoss: 0.047142\n",
            "Train Epoch: 6 [46080/60000 (77%)]\tLoss: 0.083628\n",
            "Train Epoch: 6 [46720/60000 (78%)]\tLoss: 0.091848\n",
            "Train Epoch: 6 [47360/60000 (79%)]\tLoss: 0.043516\n",
            "Train Epoch: 6 [48000/60000 (80%)]\tLoss: 0.147130\n",
            "Train Epoch: 6 [48640/60000 (81%)]\tLoss: 0.144389\n",
            "Train Epoch: 6 [49280/60000 (82%)]\tLoss: 0.091212\n",
            "Train Epoch: 6 [49920/60000 (83%)]\tLoss: 0.029185\n",
            "Train Epoch: 6 [50560/60000 (84%)]\tLoss: 0.093185\n",
            "Train Epoch: 6 [51200/60000 (85%)]\tLoss: 0.105962\n",
            "Train Epoch: 6 [51840/60000 (86%)]\tLoss: 0.071225\n",
            "Train Epoch: 6 [52480/60000 (87%)]\tLoss: 0.049892\n",
            "Train Epoch: 6 [53120/60000 (88%)]\tLoss: 0.018863\n",
            "Train Epoch: 6 [53760/60000 (90%)]\tLoss: 0.118095\n",
            "Train Epoch: 6 [54400/60000 (91%)]\tLoss: 0.107129\n",
            "Train Epoch: 6 [55040/60000 (92%)]\tLoss: 0.029723\n",
            "Train Epoch: 6 [55680/60000 (93%)]\tLoss: 0.030352\n",
            "Train Epoch: 6 [56320/60000 (94%)]\tLoss: 0.035462\n",
            "Train Epoch: 6 [56960/60000 (95%)]\tLoss: 0.022024\n",
            "Train Epoch: 6 [57600/60000 (96%)]\tLoss: 0.083775\n",
            "Train Epoch: 6 [58240/60000 (97%)]\tLoss: 0.086797\n",
            "Train Epoch: 6 [58880/60000 (98%)]\tLoss: 0.035853\n",
            "Train Epoch: 6 [59520/60000 (99%)]\tLoss: 0.064507\n",
            "\n",
            "Test set: Average loss: 0.0569, Accuracy: 9808/10000 (98%)\n",
            "\n",
            "Train Epoch: 7 [0/60000 (0%)]\tLoss: 0.019721\n",
            "Train Epoch: 7 [640/60000 (1%)]\tLoss: 0.029775\n",
            "Train Epoch: 7 [1280/60000 (2%)]\tLoss: 0.013063\n",
            "Train Epoch: 7 [1920/60000 (3%)]\tLoss: 0.066362\n",
            "Train Epoch: 7 [2560/60000 (4%)]\tLoss: 0.115022\n",
            "Train Epoch: 7 [3200/60000 (5%)]\tLoss: 0.100363\n",
            "Train Epoch: 7 [3840/60000 (6%)]\tLoss: 0.126058\n",
            "Train Epoch: 7 [4480/60000 (7%)]\tLoss: 0.035119\n",
            "Train Epoch: 7 [5120/60000 (9%)]\tLoss: 0.057125\n",
            "Train Epoch: 7 [5760/60000 (10%)]\tLoss: 0.081679\n",
            "Train Epoch: 7 [6400/60000 (11%)]\tLoss: 0.025952\n",
            "Train Epoch: 7 [7040/60000 (12%)]\tLoss: 0.045229\n",
            "Train Epoch: 7 [7680/60000 (13%)]\tLoss: 0.104543\n",
            "Train Epoch: 7 [8320/60000 (14%)]\tLoss: 0.052039\n",
            "Train Epoch: 7 [8960/60000 (15%)]\tLoss: 0.039293\n",
            "Train Epoch: 7 [9600/60000 (16%)]\tLoss: 0.062272\n",
            "Train Epoch: 7 [10240/60000 (17%)]\tLoss: 0.135282\n",
            "Train Epoch: 7 [10880/60000 (18%)]\tLoss: 0.100078\n",
            "Train Epoch: 7 [11520/60000 (19%)]\tLoss: 0.045390\n",
            "Train Epoch: 7 [12160/60000 (20%)]\tLoss: 0.092556\n",
            "Train Epoch: 7 [12800/60000 (21%)]\tLoss: 0.049462\n",
            "Train Epoch: 7 [13440/60000 (22%)]\tLoss: 0.040888\n",
            "Train Epoch: 7 [14080/60000 (23%)]\tLoss: 0.142157\n",
            "Train Epoch: 7 [14720/60000 (25%)]\tLoss: 0.047102\n",
            "Train Epoch: 7 [15360/60000 (26%)]\tLoss: 0.077063\n",
            "Train Epoch: 7 [16000/60000 (27%)]\tLoss: 0.128591\n",
            "Train Epoch: 7 [16640/60000 (28%)]\tLoss: 0.071341\n",
            "Train Epoch: 7 [17280/60000 (29%)]\tLoss: 0.042047\n",
            "Train Epoch: 7 [17920/60000 (30%)]\tLoss: 0.035811\n",
            "Train Epoch: 7 [18560/60000 (31%)]\tLoss: 0.082631\n",
            "Train Epoch: 7 [19200/60000 (32%)]\tLoss: 0.094225\n",
            "Train Epoch: 7 [19840/60000 (33%)]\tLoss: 0.016980\n",
            "Train Epoch: 7 [20480/60000 (34%)]\tLoss: 0.020688\n",
            "Train Epoch: 7 [21120/60000 (35%)]\tLoss: 0.108025\n",
            "Train Epoch: 7 [21760/60000 (36%)]\tLoss: 0.177497\n",
            "Train Epoch: 7 [22400/60000 (37%)]\tLoss: 0.064934\n",
            "Train Epoch: 7 [23040/60000 (38%)]\tLoss: 0.030423\n",
            "Train Epoch: 7 [23680/60000 (39%)]\tLoss: 0.033400\n",
            "Train Epoch: 7 [24320/60000 (41%)]\tLoss: 0.100392\n",
            "Train Epoch: 7 [24960/60000 (42%)]\tLoss: 0.143920\n",
            "Train Epoch: 7 [25600/60000 (43%)]\tLoss: 0.054986\n",
            "Train Epoch: 7 [26240/60000 (44%)]\tLoss: 0.007518\n",
            "Train Epoch: 7 [26880/60000 (45%)]\tLoss: 0.037779\n",
            "Train Epoch: 7 [27520/60000 (46%)]\tLoss: 0.031306\n",
            "Train Epoch: 7 [28160/60000 (47%)]\tLoss: 0.020323\n",
            "Train Epoch: 7 [28800/60000 (48%)]\tLoss: 0.088795\n",
            "Train Epoch: 7 [29440/60000 (49%)]\tLoss: 0.011125\n",
            "Train Epoch: 7 [30080/60000 (50%)]\tLoss: 0.029785\n",
            "Train Epoch: 7 [30720/60000 (51%)]\tLoss: 0.145733\n",
            "Train Epoch: 7 [31360/60000 (52%)]\tLoss: 0.018963\n",
            "Train Epoch: 7 [32000/60000 (53%)]\tLoss: 0.009592\n",
            "Train Epoch: 7 [32640/60000 (54%)]\tLoss: 0.062232\n",
            "Train Epoch: 7 [33280/60000 (55%)]\tLoss: 0.018425\n",
            "Train Epoch: 7 [33920/60000 (57%)]\tLoss: 0.225466\n",
            "Train Epoch: 7 [34560/60000 (58%)]\tLoss: 0.022501\n",
            "Train Epoch: 7 [35200/60000 (59%)]\tLoss: 0.230082\n",
            "Train Epoch: 7 [35840/60000 (60%)]\tLoss: 0.051971\n",
            "Train Epoch: 7 [36480/60000 (61%)]\tLoss: 0.022430\n",
            "Train Epoch: 7 [37120/60000 (62%)]\tLoss: 0.141639\n",
            "Train Epoch: 7 [37760/60000 (63%)]\tLoss: 0.013494\n",
            "Train Epoch: 7 [38400/60000 (64%)]\tLoss: 0.277973\n",
            "Train Epoch: 7 [39040/60000 (65%)]\tLoss: 0.040345\n",
            "Train Epoch: 7 [39680/60000 (66%)]\tLoss: 0.051617\n",
            "Train Epoch: 7 [40320/60000 (67%)]\tLoss: 0.025853\n",
            "Train Epoch: 7 [40960/60000 (68%)]\tLoss: 0.007049\n",
            "Train Epoch: 7 [41600/60000 (69%)]\tLoss: 0.064183\n",
            "Train Epoch: 7 [42240/60000 (70%)]\tLoss: 0.016139\n",
            "Train Epoch: 7 [42880/60000 (71%)]\tLoss: 0.047063\n",
            "Train Epoch: 7 [43520/60000 (72%)]\tLoss: 0.072497\n",
            "Train Epoch: 7 [44160/60000 (74%)]\tLoss: 0.104384\n",
            "Train Epoch: 7 [44800/60000 (75%)]\tLoss: 0.192262\n",
            "Train Epoch: 7 [45440/60000 (76%)]\tLoss: 0.038856\n",
            "Train Epoch: 7 [46080/60000 (77%)]\tLoss: 0.075642\n",
            "Train Epoch: 7 [46720/60000 (78%)]\tLoss: 0.055787\n",
            "Train Epoch: 7 [47360/60000 (79%)]\tLoss: 0.067538\n",
            "Train Epoch: 7 [48000/60000 (80%)]\tLoss: 0.083306\n",
            "Train Epoch: 7 [48640/60000 (81%)]\tLoss: 0.120289\n",
            "Train Epoch: 7 [49280/60000 (82%)]\tLoss: 0.018282\n",
            "Train Epoch: 7 [49920/60000 (83%)]\tLoss: 0.050214\n",
            "Train Epoch: 7 [50560/60000 (84%)]\tLoss: 0.045852\n",
            "Train Epoch: 7 [51200/60000 (85%)]\tLoss: 0.009814\n",
            "Train Epoch: 7 [51840/60000 (86%)]\tLoss: 0.070226\n",
            "Train Epoch: 7 [52480/60000 (87%)]\tLoss: 0.028454\n",
            "Train Epoch: 7 [53120/60000 (88%)]\tLoss: 0.232045\n",
            "Train Epoch: 7 [53760/60000 (90%)]\tLoss: 0.035339\n",
            "Train Epoch: 7 [54400/60000 (91%)]\tLoss: 0.050770\n",
            "Train Epoch: 7 [55040/60000 (92%)]\tLoss: 0.041967\n",
            "Train Epoch: 7 [55680/60000 (93%)]\tLoss: 0.112477\n",
            "Train Epoch: 7 [56320/60000 (94%)]\tLoss: 0.148585\n",
            "Train Epoch: 7 [56960/60000 (95%)]\tLoss: 0.007488\n",
            "Train Epoch: 7 [57600/60000 (96%)]\tLoss: 0.043890\n",
            "Train Epoch: 7 [58240/60000 (97%)]\tLoss: 0.119416\n",
            "Train Epoch: 7 [58880/60000 (98%)]\tLoss: 0.025649\n",
            "Train Epoch: 7 [59520/60000 (99%)]\tLoss: 0.013447\n",
            "\n",
            "Test set: Average loss: 0.0547, Accuracy: 9819/10000 (98%)\n",
            "\n",
            "Train Epoch: 8 [0/60000 (0%)]\tLoss: 0.007831\n",
            "Train Epoch: 8 [640/60000 (1%)]\tLoss: 0.186380\n",
            "Train Epoch: 8 [1280/60000 (2%)]\tLoss: 0.044453\n",
            "Train Epoch: 8 [1920/60000 (3%)]\tLoss: 0.077887\n",
            "Train Epoch: 8 [2560/60000 (4%)]\tLoss: 0.011007\n",
            "Train Epoch: 8 [3200/60000 (5%)]\tLoss: 0.055762\n",
            "Train Epoch: 8 [3840/60000 (6%)]\tLoss: 0.031518\n",
            "Train Epoch: 8 [4480/60000 (7%)]\tLoss: 0.017116\n",
            "Train Epoch: 8 [5120/60000 (9%)]\tLoss: 0.020164\n",
            "Train Epoch: 8 [5760/60000 (10%)]\tLoss: 0.020949\n",
            "Train Epoch: 8 [6400/60000 (11%)]\tLoss: 0.061280\n",
            "Train Epoch: 8 [7040/60000 (12%)]\tLoss: 0.043841\n",
            "Train Epoch: 8 [7680/60000 (13%)]\tLoss: 0.018896\n",
            "Train Epoch: 8 [8320/60000 (14%)]\tLoss: 0.019559\n",
            "Train Epoch: 8 [8960/60000 (15%)]\tLoss: 0.023840\n",
            "Train Epoch: 8 [9600/60000 (16%)]\tLoss: 0.044740\n",
            "Train Epoch: 8 [10240/60000 (17%)]\tLoss: 0.100514\n",
            "Train Epoch: 8 [10880/60000 (18%)]\tLoss: 0.103069\n",
            "Train Epoch: 8 [11520/60000 (19%)]\tLoss: 0.051345\n",
            "Train Epoch: 8 [12160/60000 (20%)]\tLoss: 0.044512\n",
            "Train Epoch: 8 [12800/60000 (21%)]\tLoss: 0.042187\n",
            "Train Epoch: 8 [13440/60000 (22%)]\tLoss: 0.063271\n",
            "Train Epoch: 8 [14080/60000 (23%)]\tLoss: 0.053105\n",
            "Train Epoch: 8 [14720/60000 (25%)]\tLoss: 0.019705\n",
            "Train Epoch: 8 [15360/60000 (26%)]\tLoss: 0.115818\n",
            "Train Epoch: 8 [16000/60000 (27%)]\tLoss: 0.131458\n",
            "Train Epoch: 8 [16640/60000 (28%)]\tLoss: 0.078951\n",
            "Train Epoch: 8 [17280/60000 (29%)]\tLoss: 0.071349\n",
            "Train Epoch: 8 [17920/60000 (30%)]\tLoss: 0.030722\n",
            "Train Epoch: 8 [18560/60000 (31%)]\tLoss: 0.040977\n",
            "Train Epoch: 8 [19200/60000 (32%)]\tLoss: 0.031732\n",
            "Train Epoch: 8 [19840/60000 (33%)]\tLoss: 0.318102\n",
            "Train Epoch: 8 [20480/60000 (34%)]\tLoss: 0.024396\n",
            "Train Epoch: 8 [21120/60000 (35%)]\tLoss: 0.147361\n",
            "Train Epoch: 8 [21760/60000 (36%)]\tLoss: 0.054615\n",
            "Train Epoch: 8 [22400/60000 (37%)]\tLoss: 0.039384\n",
            "Train Epoch: 8 [23040/60000 (38%)]\tLoss: 0.091089\n",
            "Train Epoch: 8 [23680/60000 (39%)]\tLoss: 0.009032\n",
            "Train Epoch: 8 [24320/60000 (41%)]\tLoss: 0.028525\n",
            "Train Epoch: 8 [24960/60000 (42%)]\tLoss: 0.175917\n",
            "Train Epoch: 8 [25600/60000 (43%)]\tLoss: 0.031391\n",
            "Train Epoch: 8 [26240/60000 (44%)]\tLoss: 0.089897\n",
            "Train Epoch: 8 [26880/60000 (45%)]\tLoss: 0.047558\n",
            "Train Epoch: 8 [27520/60000 (46%)]\tLoss: 0.035676\n",
            "Train Epoch: 8 [28160/60000 (47%)]\tLoss: 0.019293\n",
            "Train Epoch: 8 [28800/60000 (48%)]\tLoss: 0.041357\n",
            "Train Epoch: 8 [29440/60000 (49%)]\tLoss: 0.038819\n",
            "Train Epoch: 8 [30080/60000 (50%)]\tLoss: 0.044103\n",
            "Train Epoch: 8 [30720/60000 (51%)]\tLoss: 0.082798\n",
            "Train Epoch: 8 [31360/60000 (52%)]\tLoss: 0.036012\n",
            "Train Epoch: 8 [32000/60000 (53%)]\tLoss: 0.094984\n",
            "Train Epoch: 8 [32640/60000 (54%)]\tLoss: 0.013566\n",
            "Train Epoch: 8 [33280/60000 (55%)]\tLoss: 0.031140\n",
            "Train Epoch: 8 [33920/60000 (57%)]\tLoss: 0.031290\n",
            "Train Epoch: 8 [34560/60000 (58%)]\tLoss: 0.050945\n",
            "Train Epoch: 8 [35200/60000 (59%)]\tLoss: 0.113737\n",
            "Train Epoch: 8 [35840/60000 (60%)]\tLoss: 0.014436\n",
            "Train Epoch: 8 [36480/60000 (61%)]\tLoss: 0.025929\n",
            "Train Epoch: 8 [37120/60000 (62%)]\tLoss: 0.073248\n",
            "Train Epoch: 8 [37760/60000 (63%)]\tLoss: 0.013785\n",
            "Train Epoch: 8 [38400/60000 (64%)]\tLoss: 0.067208\n",
            "Train Epoch: 8 [39040/60000 (65%)]\tLoss: 0.014650\n",
            "Train Epoch: 8 [39680/60000 (66%)]\tLoss: 0.057258\n",
            "Train Epoch: 8 [40320/60000 (67%)]\tLoss: 0.114772\n",
            "Train Epoch: 8 [40960/60000 (68%)]\tLoss: 0.054752\n",
            "Train Epoch: 8 [41600/60000 (69%)]\tLoss: 0.040770\n",
            "Train Epoch: 8 [42240/60000 (70%)]\tLoss: 0.028218\n",
            "Train Epoch: 8 [42880/60000 (71%)]\tLoss: 0.022123\n",
            "Train Epoch: 8 [43520/60000 (72%)]\tLoss: 0.120273\n",
            "Train Epoch: 8 [44160/60000 (74%)]\tLoss: 0.080981\n",
            "Train Epoch: 8 [44800/60000 (75%)]\tLoss: 0.157956\n",
            "Train Epoch: 8 [45440/60000 (76%)]\tLoss: 0.065662\n",
            "Train Epoch: 8 [46080/60000 (77%)]\tLoss: 0.034126\n",
            "Train Epoch: 8 [46720/60000 (78%)]\tLoss: 0.118758\n",
            "Train Epoch: 8 [47360/60000 (79%)]\tLoss: 0.094915\n",
            "Train Epoch: 8 [48000/60000 (80%)]\tLoss: 0.032948\n",
            "Train Epoch: 8 [48640/60000 (81%)]\tLoss: 0.024328\n",
            "Train Epoch: 8 [49280/60000 (82%)]\tLoss: 0.075788\n",
            "Train Epoch: 8 [49920/60000 (83%)]\tLoss: 0.019590\n",
            "Train Epoch: 8 [50560/60000 (84%)]\tLoss: 0.102112\n",
            "Train Epoch: 8 [51200/60000 (85%)]\tLoss: 0.055701\n",
            "Train Epoch: 8 [51840/60000 (86%)]\tLoss: 0.207177\n",
            "Train Epoch: 8 [52480/60000 (87%)]\tLoss: 0.050453\n",
            "Train Epoch: 8 [53120/60000 (88%)]\tLoss: 0.028639\n",
            "Train Epoch: 8 [53760/60000 (90%)]\tLoss: 0.005781\n",
            "Train Epoch: 8 [54400/60000 (91%)]\tLoss: 0.160685\n",
            "Train Epoch: 8 [55040/60000 (92%)]\tLoss: 0.044113\n",
            "Train Epoch: 8 [55680/60000 (93%)]\tLoss: 0.062514\n",
            "Train Epoch: 8 [56320/60000 (94%)]\tLoss: 0.018692\n",
            "Train Epoch: 8 [56960/60000 (95%)]\tLoss: 0.033835\n",
            "Train Epoch: 8 [57600/60000 (96%)]\tLoss: 0.108772\n",
            "Train Epoch: 8 [58240/60000 (97%)]\tLoss: 0.153702\n",
            "Train Epoch: 8 [58880/60000 (98%)]\tLoss: 0.046734\n",
            "Train Epoch: 8 [59520/60000 (99%)]\tLoss: 0.052810\n",
            "\n",
            "Test set: Average loss: 0.0606, Accuracy: 9789/10000 (98%)\n",
            "\n",
            "Train Epoch: 9 [0/60000 (0%)]\tLoss: 0.107366\n",
            "Train Epoch: 9 [640/60000 (1%)]\tLoss: 0.045832\n",
            "Train Epoch: 9 [1280/60000 (2%)]\tLoss: 0.007029\n",
            "Train Epoch: 9 [1920/60000 (3%)]\tLoss: 0.076300\n",
            "Train Epoch: 9 [2560/60000 (4%)]\tLoss: 0.044095\n",
            "Train Epoch: 9 [3200/60000 (5%)]\tLoss: 0.241325\n",
            "Train Epoch: 9 [3840/60000 (6%)]\tLoss: 0.054629\n",
            "Train Epoch: 9 [4480/60000 (7%)]\tLoss: 0.076918\n",
            "Train Epoch: 9 [5120/60000 (9%)]\tLoss: 0.063803\n",
            "Train Epoch: 9 [5760/60000 (10%)]\tLoss: 0.005594\n",
            "Train Epoch: 9 [6400/60000 (11%)]\tLoss: 0.060141\n",
            "Train Epoch: 9 [7040/60000 (12%)]\tLoss: 0.058155\n",
            "Train Epoch: 9 [7680/60000 (13%)]\tLoss: 0.056047\n",
            "Train Epoch: 9 [8320/60000 (14%)]\tLoss: 0.013675\n",
            "Train Epoch: 9 [8960/60000 (15%)]\tLoss: 0.047485\n",
            "Train Epoch: 9 [9600/60000 (16%)]\tLoss: 0.087367\n",
            "Train Epoch: 9 [10240/60000 (17%)]\tLoss: 0.021797\n",
            "Train Epoch: 9 [10880/60000 (18%)]\tLoss: 0.062156\n",
            "Train Epoch: 9 [11520/60000 (19%)]\tLoss: 0.008480\n",
            "Train Epoch: 9 [12160/60000 (20%)]\tLoss: 0.055665\n",
            "Train Epoch: 9 [12800/60000 (21%)]\tLoss: 0.038791\n",
            "Train Epoch: 9 [13440/60000 (22%)]\tLoss: 0.067324\n",
            "Train Epoch: 9 [14080/60000 (23%)]\tLoss: 0.024425\n",
            "Train Epoch: 9 [14720/60000 (25%)]\tLoss: 0.048810\n",
            "Train Epoch: 9 [15360/60000 (26%)]\tLoss: 0.084326\n",
            "Train Epoch: 9 [16000/60000 (27%)]\tLoss: 0.040978\n",
            "Train Epoch: 9 [16640/60000 (28%)]\tLoss: 0.022881\n",
            "Train Epoch: 9 [17280/60000 (29%)]\tLoss: 0.048537\n",
            "Train Epoch: 9 [17920/60000 (30%)]\tLoss: 0.039545\n",
            "Train Epoch: 9 [18560/60000 (31%)]\tLoss: 0.021327\n",
            "Train Epoch: 9 [19200/60000 (32%)]\tLoss: 0.031066\n",
            "Train Epoch: 9 [19840/60000 (33%)]\tLoss: 0.054217\n",
            "Train Epoch: 9 [20480/60000 (34%)]\tLoss: 0.054803\n",
            "Train Epoch: 9 [21120/60000 (35%)]\tLoss: 0.098437\n",
            "Train Epoch: 9 [21760/60000 (36%)]\tLoss: 0.131761\n",
            "Train Epoch: 9 [22400/60000 (37%)]\tLoss: 0.208422\n",
            "Train Epoch: 9 [23040/60000 (38%)]\tLoss: 0.064342\n",
            "Train Epoch: 9 [23680/60000 (39%)]\tLoss: 0.016384\n",
            "Train Epoch: 9 [24320/60000 (41%)]\tLoss: 0.014777\n",
            "Train Epoch: 9 [24960/60000 (42%)]\tLoss: 0.064366\n",
            "Train Epoch: 9 [25600/60000 (43%)]\tLoss: 0.221629\n",
            "Train Epoch: 9 [26240/60000 (44%)]\tLoss: 0.130445\n",
            "Train Epoch: 9 [26880/60000 (45%)]\tLoss: 0.013002\n",
            "Train Epoch: 9 [27520/60000 (46%)]\tLoss: 0.008922\n",
            "Train Epoch: 9 [28160/60000 (47%)]\tLoss: 0.108206\n",
            "Train Epoch: 9 [28800/60000 (48%)]\tLoss: 0.086737\n",
            "Train Epoch: 9 [29440/60000 (49%)]\tLoss: 0.043351\n",
            "Train Epoch: 9 [30080/60000 (50%)]\tLoss: 0.020150\n",
            "Train Epoch: 9 [30720/60000 (51%)]\tLoss: 0.092055\n",
            "Train Epoch: 9 [31360/60000 (52%)]\tLoss: 0.076006\n",
            "Train Epoch: 9 [32000/60000 (53%)]\tLoss: 0.016136\n",
            "Train Epoch: 9 [32640/60000 (54%)]\tLoss: 0.050233\n",
            "Train Epoch: 9 [33280/60000 (55%)]\tLoss: 0.057301\n",
            "Train Epoch: 9 [33920/60000 (57%)]\tLoss: 0.026566\n",
            "Train Epoch: 9 [34560/60000 (58%)]\tLoss: 0.020200\n",
            "Train Epoch: 9 [35200/60000 (59%)]\tLoss: 0.019909\n",
            "Train Epoch: 9 [35840/60000 (60%)]\tLoss: 0.004206\n",
            "Train Epoch: 9 [36480/60000 (61%)]\tLoss: 0.011860\n",
            "Train Epoch: 9 [37120/60000 (62%)]\tLoss: 0.048684\n",
            "Train Epoch: 9 [37760/60000 (63%)]\tLoss: 0.016020\n",
            "Train Epoch: 9 [38400/60000 (64%)]\tLoss: 0.036737\n",
            "Train Epoch: 9 [39040/60000 (65%)]\tLoss: 0.026389\n",
            "Train Epoch: 9 [39680/60000 (66%)]\tLoss: 0.022345\n",
            "Train Epoch: 9 [40320/60000 (67%)]\tLoss: 0.020872\n",
            "Train Epoch: 9 [40960/60000 (68%)]\tLoss: 0.022533\n",
            "Train Epoch: 9 [41600/60000 (69%)]\tLoss: 0.103715\n",
            "Train Epoch: 9 [42240/60000 (70%)]\tLoss: 0.014576\n",
            "Train Epoch: 9 [42880/60000 (71%)]\tLoss: 0.030182\n",
            "Train Epoch: 9 [43520/60000 (72%)]\tLoss: 0.077183\n",
            "Train Epoch: 9 [44160/60000 (74%)]\tLoss: 0.086721\n",
            "Train Epoch: 9 [44800/60000 (75%)]\tLoss: 0.070451\n",
            "Train Epoch: 9 [45440/60000 (76%)]\tLoss: 0.136282\n",
            "Train Epoch: 9 [46080/60000 (77%)]\tLoss: 0.064910\n",
            "Train Epoch: 9 [46720/60000 (78%)]\tLoss: 0.009019\n",
            "Train Epoch: 9 [47360/60000 (79%)]\tLoss: 0.137218\n",
            "Train Epoch: 9 [48000/60000 (80%)]\tLoss: 0.044387\n",
            "Train Epoch: 9 [48640/60000 (81%)]\tLoss: 0.024223\n",
            "Train Epoch: 9 [49280/60000 (82%)]\tLoss: 0.070631\n",
            "Train Epoch: 9 [49920/60000 (83%)]\tLoss: 0.030061\n",
            "Train Epoch: 9 [50560/60000 (84%)]\tLoss: 0.095966\n",
            "Train Epoch: 9 [51200/60000 (85%)]\tLoss: 0.024302\n",
            "Train Epoch: 9 [51840/60000 (86%)]\tLoss: 0.046091\n",
            "Train Epoch: 9 [52480/60000 (87%)]\tLoss: 0.157498\n",
            "Train Epoch: 9 [53120/60000 (88%)]\tLoss: 0.063624\n",
            "Train Epoch: 9 [53760/60000 (90%)]\tLoss: 0.101764\n",
            "Train Epoch: 9 [54400/60000 (91%)]\tLoss: 0.047467\n",
            "Train Epoch: 9 [55040/60000 (92%)]\tLoss: 0.112037\n",
            "Train Epoch: 9 [55680/60000 (93%)]\tLoss: 0.076307\n",
            "Train Epoch: 9 [56320/60000 (94%)]\tLoss: 0.044115\n",
            "Train Epoch: 9 [56960/60000 (95%)]\tLoss: 0.032697\n",
            "Train Epoch: 9 [57600/60000 (96%)]\tLoss: 0.046686\n",
            "Train Epoch: 9 [58240/60000 (97%)]\tLoss: 0.104493\n",
            "Train Epoch: 9 [58880/60000 (98%)]\tLoss: 0.018222\n",
            "Train Epoch: 9 [59520/60000 (99%)]\tLoss: 0.006805\n",
            "\n",
            "Test set: Average loss: 0.0469, Accuracy: 9853/10000 (99%)\n",
            "\n"
          ]
        }
      ]
    },
    {
      "cell_type": "code",
      "source": [],
      "metadata": {
        "id": "Pax-EluRHGck"
      },
      "execution_count": null,
      "outputs": []
    }
  ]
}