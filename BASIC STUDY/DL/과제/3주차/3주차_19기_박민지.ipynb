{
  "nbformat": 4,
  "nbformat_minor": 0,
  "metadata": {
    "colab": {
      "provenance": [],
      "machine_shape": "hm",
      "toc_visible": true
    },
    "kernelspec": {
      "name": "python3",
      "display_name": "Python 3"
    },
    "language_info": {
      "name": "python"
    },
    "accelerator": "GPU"
  },
  "cells": [
    {
      "cell_type": "markdown",
      "source": [
        "# < 3주차 과제 1 : MLP 마음대로 다뤄보기>\n",
        "- dataset을 임의로 선정해서 직접 분석 해보기(제공한 코드를 활용해서 해보기)\n",
        "- activation functions 중 relu사용시 함수 직접 정의\n",
        "- lr, optimizer 등 바꿔보기\n",
        "- hidden layer/neuron 수를 바꾸기\n",
        "- 전처리도 추가\n",
        "- 모든 시도를 올려주세요!\n",
        "- 제일 높은 acc를 보인 시도를 명시해주세요!\n"
      ],
      "metadata": {
        "id": "sgAYo4nrw2F4"
      }
    },
    {
      "cell_type": "code",
      "execution_count": 1,
      "metadata": {
        "id": "fX437IL6qbI-"
      },
      "outputs": [],
      "source": [
        "import torch\n",
        "from torch import nn, optim\n",
        "from sklearn.datasets import load_breast_cancer\n",
        "from torch.utils.data import  TensorDataset, DataLoader\n",
        "from sklearn.model_selection import train_test_split\n",
        "from sklearn.metrics import accuracy_score\n",
        "import numpy as np\n",
        "from sklearn.preprocessing import StandardScaler\n",
        "import matplotlib.pyplot as plt"
      ]
    },
    {
      "cell_type": "markdown",
      "source": [
        "## 아래 데이터셋 중 원하는 데이터셋 하나를 선택하여, 코드 과제 진행하기!\n",
        "- 1) load_digits() <br>\n",
        "- 2) load_wine()"
      ],
      "metadata": {
        "id": "oxkFzBDNmWNk"
      }
    },
    {
      "cell_type": "code",
      "source": [
        "from sklearn import datasets\n",
        "\n",
        "# 데이터셋 종류 :  load_digits()\n",
        "# data = load_breast_cancer()\n",
        "data = datasets.load_digits()"
      ],
      "metadata": {
        "id": "FywYbfsKtjcR"
      },
      "execution_count": 2,
      "outputs": []
    },
    {
      "cell_type": "markdown",
      "source": [
        "#### 데이터셋 확인"
      ],
      "metadata": {
        "id": "EkLQebbBzlIp"
      }
    },
    {
      "cell_type": "code",
      "source": [
        "input = data.data\n",
        "output = data.target"
      ],
      "metadata": {
        "id": "C2P0hqZ9yBGm"
      },
      "execution_count": 3,
      "outputs": []
    },
    {
      "cell_type": "code",
      "source": [
        "print(input.shape) #(1797, 64)\n",
        "print(output.shape) #(1797,)\n",
        "print(data.images.shape)"
      ],
      "metadata": {
        "colab": {
          "base_uri": "https://localhost:8080/"
        },
        "id": "tlQ5yNH9z56_",
        "outputId": "ffc5b2bb-de16-46cf-afc7-3994b6e2fa61"
      },
      "execution_count": 4,
      "outputs": [
        {
          "output_type": "stream",
          "name": "stdout",
          "text": [
            "(1797, 64)\n",
            "(1797,)\n",
            "(1797, 8, 8)\n"
          ]
        }
      ]
    },
    {
      "cell_type": "code",
      "source": [
        "#이미지확인\n",
        "plt.imshow(input[0].reshape(8, 8), cmap='gray')\n",
        "plt.axis('off')\n",
        "plt.show()"
      ],
      "metadata": {
        "colab": {
          "base_uri": "https://localhost:8080/",
          "height": 406
        },
        "id": "lTbiv1Hq7qYD",
        "outputId": "1adc44b3-3c49-4315-b4d1-5766225230a4"
      },
      "execution_count": 6,
      "outputs": [
        {
          "output_type": "display_data",
          "data": {
            "text/plain": [
              "<Figure size 640x480 with 1 Axes>"
            ],
            "image/png": "[encoded data removed]"
          },
          "metadata": {}
        }
      ]
    },
    {
      "cell_type": "code",
      "source": [
        "device = 'cuda' if torch.cuda.is_available() else 'cpu'\n",
        "\n",
        "torch.manual_seed(777)\n",
        "if device == \"cuda\":\n",
        "  torch.cuda.manual_seed_all(777)"
      ],
      "metadata": {
        "id": "SggpQfSPt85C"
      },
      "execution_count": 7,
      "outputs": []
    },
    {
      "cell_type": "code",
      "source": [
        "x_train, x_test, y_train, y_test = train_test_split(input, output, test_size = 0.3, random_state = 42, stratify= data.target, shuffle = True)\n",
        "\n",
        "x_train = torch.FloatTensor(x_train).to(device)\n",
        "y_train = torch.LongTensor(y_train).to(device)\n",
        "x_test = torch.FloatTensor(x_test)\n",
        "y_test = torch.LongTensor(y_test)\n",
        "\n",
        "# 데이터를 tensor로 바꿔주고 gpu 연산이 가능해지도록 gpu에 옮김\n",
        "# label 값을 왜 long 에 옮겨놓는가? loss function이 다르기 때문"
      ],
      "metadata": {
        "id": "bLMzf-2ntYeX"
      },
      "execution_count": 8,
      "outputs": []
    },
    {
      "cell_type": "code",
      "source": [
        "print(x_train[0]) # 첫번째 이미지의 feature\n",
        "print(y_train[0]) # 첫번째 이미지 레이블 : 0"
      ],
      "metadata": {
        "colab": {
          "base_uri": "https://localhost:8080/"
        },
        "id": "umEdiTZkrVqS",
        "outputId": "527c7ad1-b248-40cd-a6a9-20e7717f79a9"
      },
      "execution_count": 9,
      "outputs": [
        {
          "output_type": "stream",
          "name": "stdout",
          "text": [
            "tensor([ 0.,  0.,  0., 16., 12.,  1.,  0.,  0.,  0.,  0.,  6., 16., 14.,  7.,\n",
            "         0.,  0.,  0.,  0., 14., 15.,  1., 11.,  0.,  0.,  0.,  0., 16., 15.,\n",
            "         0., 14.,  1.,  0.,  0.,  1., 16., 10.,  0., 14.,  2.,  0.,  0.,  0.,\n",
            "        15., 13.,  3., 15.,  3.,  0.,  0.,  0.,  9., 16., 16., 15.,  0.,  0.,\n",
            "         0.,  0.,  0., 13., 16.,  8.,  0.,  0.])\n",
            "tensor(0)\n"
          ]
        }
      ]
    },
    {
      "cell_type": "markdown",
      "source": [
        "**파이토치에서는** 데이터셋을 좀 더 쉽게 다룰 수 있도록 유용한 도구로서 torch.utils.data.Dataset과 torch.utils.data.DataLoader를 제공합니다. 이를 사용하면 미니 배치 학습, 데이터 셔플(shuffle), 병렬 처리까지 간단히 수행할 수 있습니다. 기본적인 사용 방법은 Dataset을 정의하고, 이를 DataLoader에 전달하는 것\n",
        "- init : class 에서 객체가 생성되면 바로 실행되는 함수\n",
        "- len : observation 수를 정의하는 함수\n",
        "- getitem : iteration 마다 해당하는 데이터를 돌려주는 함수"
      ],
      "metadata": {
        "id": "combmxzmYFyn"
      }
    },
    {
      "cell_type": "code",
      "source": [
        "from torch.utils.data import Dataset\n",
        "class CustomDataset(Dataset):\n",
        "  def __init__(self):\n",
        "    self.x_data = x_train\n",
        "    self.y_data = [[y] for y in y_train]\n",
        "#  데이터셋의 전처리를 해주는 부분\n",
        "\n",
        "  def __len__(self):\n",
        "    return len(self.x_data)\n",
        "#  데이터셋의 길이. 즉, 총 샘플의 수를 적어주는 부분\n",
        "\n",
        "  def __getitem__(self, idx):\n",
        "    x = torch.FloatTensor(self.x_data[idx]).to(device)\n",
        "    y = torch.LongTensor(self.y_data[idx]).to(device)\n",
        "#  데이터셋에서 특정 1개의 샘플을 가져오는 함수\n",
        "\n",
        "    return x,y"
      ],
      "metadata": {
        "id": "y38TlgXoqV5Z"
      },
      "execution_count": 10,
      "outputs": []
    },
    {
      "cell_type": "code",
      "source": [
        "batch_size = 256\n",
        "dataset = CustomDataset()\n",
        "dataloader = DataLoader(dataset, batch_size=batch_size)"
      ],
      "metadata": {
        "id": "x8VHwnuFqino"
      },
      "execution_count": 11,
      "outputs": []
    },
    {
      "cell_type": "code",
      "source": [
        "# input_layer와 hidden_layer의 노드 개수를 어떻게 바꿔줘야할까?\n",
        "# hidden layer/neuron 수를 바꾸기\n",
        "\n",
        "model = nn.Sequential(\n",
        "          nn.Linear(64,128, bias=True),\n",
        "          nn.Sigmoid(),\n",
        "          nn.Linear(128,15, bias=True),\n",
        "          nn.Sigmoid(),\n",
        "          nn.Linear(15,10, bias=True),\n",
        "          nn.Softmax()\n",
        "          ).to(device)\n",
        "\n",
        "#model = nn.Sequential(\n",
        "         # nn.Linear(입력 데이터의 특성(feature)의 수, 첫_은닉층_노드수, bias=True),  # 입력층 노드 수를 64로 설정\n",
        "         # nn.Sigmoid(),\n",
        "         # nn.Linear(첫_은닉층_노드수, 두_번째_은닉층_노드수, bias=True),\n",
        "         # nn.Sigmoid(),\n",
        "         # nn.Linear(두_번째_은닉층_노드수, 출력_노드수, bias=True),\n",
        "         # nn.Softmax(dim=1)  # 클래스 확률을 계산하기 위해 차원 지정\n",
        "         # ).to(device)"
      ],
      "metadata": {
        "id": "C6V7a4tyq6Jc"
      },
      "execution_count": 12,
      "outputs": []
    },
    {
      "cell_type": "markdown",
      "source": [
        "# 1.첫번째 모델\n",
        "##### 1) Activation function : relu\n",
        "##### 2) Optimizier : Adam\n",
        "##### 3) layer 수 : 4개\n",
        "##### 4) lr : 0.01"
      ],
      "metadata": {
        "id": "0ACVLYAD1Mmu"
      }
    },
    {
      "cell_type": "markdown",
      "source": [
        "## 2.1모델 정의"
      ],
      "metadata": {
        "id": "Ok0CLtZYsIDy"
      }
    },
    {
      "cell_type": "markdown",
      "source": [
        "class로 구현 가능\n",
        "- init : 초기 생성 함수\n",
        "- foward : 순전파(입력값 => 예측값 의 과정)"
      ],
      "metadata": {
        "id": "07uV8RY7Yr_5"
      }
    },
    {
      "cell_type": "code",
      "source": [
        "#ReLU\n",
        "class ReLU(torch.nn.ReLU):\n",
        "  def forward(self, x):\n",
        "    return torch.max(torch.zeros_like(x), x)"
      ],
      "metadata": {
        "id": "C5l9ogVfUQRI"
      },
      "execution_count": 31,
      "outputs": []
    },
    {
      "cell_type": "code",
      "source": [
        "class Model(torch.nn.Module):\n",
        "\n",
        "  def __init__(self):\n",
        "    super(Model, self).__init__()\n",
        "    self.layer1 = nn.Sequential(\n",
        "          nn.Linear(64,300, bias=True), # input_layer = 64, hidden_layer1 = 300\n",
        "          #nn.Sigmoid(),\n",
        "          ReLU(),\n",
        "          nn.BatchNorm1d(300)\n",
        "    )\n",
        "  # activation function 이용\n",
        "  #   nn.ReLU()\n",
        "  #   nn.tanH()\n",
        "  #   https://pytorch.org/docs/stable/nn.html 그 외에도 여기서 확인 가능함\n",
        "  #   파라미터가 필요하지 않다는 것이 특징\n",
        "\n",
        "  # batch normazliation 1d, 파라미터 값으로 vector의 길이를 전해줌\n",
        "  # 추후에 이미지를 다루게 된다면, 그때는 batch normalization 2d를 이용하게 됨\n",
        "  # 그때는 파라미터 값으로 채널, 가로, 세로 길이를 전달해주게 됨\n",
        "\n",
        "    self.layer2 = nn.Sequential(\n",
        "          nn.Linear(300,200, bias=True), # hidden_layer1 = 398, hidden_layer2 = 200\n",
        "        #nn.Sigmoid()\n",
        "        ReLU()\n",
        "    )\n",
        "    self.layer3 = nn.Sequential(\n",
        "          nn.Linear(200,50, bias=True), # hidden_layer1 = 200, hidden_layer2 = 50\n",
        "        #nn.Sigmoid()\n",
        "        ReLU()\n",
        "    )\n",
        "    self.layer4 = nn.Sequential(\n",
        "        nn.Linear(50, 10, bias=True), # hidden_layer3 = 50, output_layer = 10\n",
        "        nn.Softmax()\n",
        "    )\n",
        "\n",
        "  def forward(self,x):\n",
        "    output = self.layer1(x)\n",
        "    output = self.layer2(output)\n",
        "    output = self.layer3(output)\n",
        "    output = self.layer4(output)\n",
        "    return output"
      ],
      "metadata": {
        "id": "a0zLstbMqxEZ"
      },
      "execution_count": 22,
      "outputs": []
    },
    {
      "cell_type": "code",
      "source": [
        "def init_weights(layer):\n",
        "    if isinstance(layer, nn.Linear):\n",
        "        torch.nn.init.xavier_uniform_(layer.weight)\n",
        "        layer.bias.data.fill_(0.01)\n",
        "\n",
        "        #xavier사용\n",
        "        # Layer의 weight를 어떤 분포를 가지도록 초기화시켜줌+global minimum찾기 위해서"
      ],
      "metadata": {
        "id": "kqcqqkECrSGK"
      },
      "execution_count": 23,
      "outputs": []
    },
    {
      "cell_type": "code",
      "source": [
        "model = Model().to(device)\n",
        "model.apply(init_weights)"
      ],
      "metadata": {
        "colab": {
          "base_uri": "https://localhost:8080/"
        },
        "id": "oMDUBFg6rUpw",
        "outputId": "f7b72de4-8710-4044-c9e6-5fdb8aae1940"
      },
      "execution_count": 24,
      "outputs": [
        {
          "output_type": "execute_result",
          "data": {
            "text/plain": [
              "Model(\n",
              "  (layer1): Sequential(\n",
              "    (0): Linear(in_features=64, out_features=300, bias=True)\n",
              "    (1): Sigmoid()\n",
              "    (2): BatchNorm1d(300, eps=1e-05, momentum=0.1, affine=True, track_running_stats=True)\n",
              "  )\n",
              "  (layer2): Sequential(\n",
              "    (0): Linear(in_features=300, out_features=200, bias=True)\n",
              "    (1): Sigmoid()\n",
              "  )\n",
              "  (layer3): Sequential(\n",
              "    (0): Linear(in_features=200, out_features=50, bias=True)\n",
              "    (1): Sigmoid()\n",
              "  )\n",
              "  (layer4): Sequential(\n",
              "    (0): Linear(in_features=50, out_features=10, bias=True)\n",
              "    (1): Softmax(dim=None)\n",
              "  )\n",
              ")"
            ]
          },
          "metadata": {},
          "execution_count": 24
        }
      ]
    },
    {
      "cell_type": "code",
      "source": [
        "print(model)"
      ],
      "metadata": {
        "colab": {
          "base_uri": "https://localhost:8080/"
        },
        "id": "OwZt5CetrYFb",
        "outputId": "e24f15c1-f711-4cf4-b691-3d3401d970da"
      },
      "execution_count": 25,
      "outputs": [
        {
          "output_type": "stream",
          "name": "stdout",
          "text": [
            "Model(\n",
            "  (layer1): Sequential(\n",
            "    (0): Linear(in_features=64, out_features=300, bias=True)\n",
            "    (1): Sigmoid()\n",
            "    (2): BatchNorm1d(300, eps=1e-05, momentum=0.1, affine=True, track_running_stats=True)\n",
            "  )\n",
            "  (layer2): Sequential(\n",
            "    (0): Linear(in_features=300, out_features=200, bias=True)\n",
            "    (1): Sigmoid()\n",
            "  )\n",
            "  (layer3): Sequential(\n",
            "    (0): Linear(in_features=200, out_features=50, bias=True)\n",
            "    (1): Sigmoid()\n",
            "  )\n",
            "  (layer4): Sequential(\n",
            "    (0): Linear(in_features=50, out_features=10, bias=True)\n",
            "    (1): Softmax(dim=None)\n",
            "  )\n",
            ")\n"
          ]
        }
      ]
    },
    {
      "cell_type": "markdown",
      "source": [
        "## 3.1모델 훈련"
      ],
      "metadata": {
        "id": "psHcpVLegOro"
      }
    },
    {
      "cell_type": "code",
      "source": [
        "loss_fn  = nn.CrossEntropyLoss().to(device)\n",
        "\n",
        "# 여러가지 optimizer 시도해보기\n",
        "# lr 바꿔보기\n",
        "\n",
        "\n",
        "optimizer = optim.Adam(model.parameters(), lr= 0.01)\n",
        "\n",
        "# https://pytorch.org/docs/stable/optim.html#module-torch.optim 페이지 참조\n",
        "# optimizer = optim.SGD(model.parameters(), lr=0.1, momentum=0.9)\n",
        "# sgd 등등"
      ],
      "metadata": {
        "id": "AYFp-eTErh7b"
      },
      "execution_count": 26,
      "outputs": []
    },
    {
      "cell_type": "code",
      "source": [
        "losses = []\n",
        "for epoch in range(100):\n",
        "\n",
        "  optimizer.zero_grad()\n",
        "  hypothesis = model(x_train)\n",
        "\n",
        "  # 비용 함수\n",
        "  cost = loss_fn(hypothesis, y_train)\n",
        "  cost.backward()\n",
        "  optimizer.step()\n",
        "  losses.append(cost.item())\n",
        "\n",
        "  if epoch % 10 == 0:\n",
        "    print(epoch, cost.item())"
      ],
      "metadata": {
        "colab": {
          "base_uri": "https://localhost:8080/"
        },
        "id": "90QxHvlIrjS7",
        "outputId": "64a5ab08-bc87-43ed-eb37-20847e72c3d0"
      },
      "execution_count": 27,
      "outputs": [
        {
          "output_type": "stream",
          "name": "stderr",
          "text": [
            "/usr/local/lib/python3.10/dist-packages/torch/nn/modules/module.py:1518: UserWarning: Implicit dimension choice for softmax has been deprecated. Change the call to include dim=X as an argument.\n",
            "  return self._call_impl(*args, **kwargs)\n"
          ]
        },
        {
          "output_type": "stream",
          "name": "stdout",
          "text": [
            "0 2.3054139614105225\n",
            "10 1.6414518356323242\n",
            "20 1.5602022409439087\n",
            "30 1.477461338043213\n",
            "40 1.46550452709198\n",
            "50 1.4635175466537476\n",
            "60 1.4624345302581787\n",
            "70 1.4621706008911133\n",
            "80 1.462023377418518\n",
            "90 1.4619293212890625\n"
          ]
        }
      ]
    },
    {
      "cell_type": "code",
      "source": [
        "plt.plot(losses)\n",
        "plt.show()"
      ],
      "metadata": {
        "colab": {
          "base_uri": "https://localhost:8080/",
          "height": 430
        },
        "id": "81ASYrW7roFM",
        "outputId": "2a29f9a9-e5e4-437d-a9e6-aa15d601bac9"
      },
      "execution_count": 28,
      "outputs": [
        {
          "output_type": "display_data",
          "data": {
            "text/plain": [
              "<Figure size 640x480 with 1 Axes>"
            ],
            "image/png": "[encoded data removed]"
          },
          "metadata": {}
        }
      ]
    },
    {
      "cell_type": "code",
      "source": [
        "with torch.no_grad():\n",
        "  model = model.to('cpu')\n",
        "  y_pred = model(x_test)\n",
        "  y_pred = y_pred.detach().numpy()\n",
        "  predicted = np.argmax(y_pred, axis =1)\n",
        "  accuracy = (accuracy_score(predicted, y_test))"
      ],
      "metadata": {
        "id": "h4kJzpLErqhZ"
      },
      "execution_count": 29,
      "outputs": []
    },
    {
      "cell_type": "code",
      "source": [
        "print(f'model의 output은 :  {y_pred[0]}')\n",
        "print(f'argmax를 한 후의 output은 {predicted[0]}')\n",
        "print(f'accuracy는 {accuracy}')"
      ],
      "metadata": {
        "colab": {
          "base_uri": "https://localhost:8080/"
        },
        "id": "vyIKhs3Nr6Ay",
        "outputId": "6d73d644-c68b-4a84-defc-6f57192ef91a"
      },
      "execution_count": null,
      "outputs": [
        {
          "output_type": "stream",
          "name": "stdout",
          "text": [
            "model의 output은 :  [4.3696738e-03 9.9337065e-01 1.5067915e-03 2.7046577e-04 4.8240164e-04]\n",
            "argmax를 한 후의 output은 1\n",
            "accuracy는 0.9239766081871345\n"
          ]
        }
      ]
    },
    {
      "cell_type": "markdown",
      "source": [
        "# 2.두번째 모델\n",
        "##### 1) Activation function : relu\n",
        "##### 2) Optimizier : SGD\n",
        "##### 3) layer 수 : 4개\n",
        "##### 4) lr : 0.1"
      ],
      "metadata": {
        "id": "8sQ2joYhVPyo"
      }
    },
    {
      "cell_type": "markdown",
      "source": [
        "## 2.2모델 정의"
      ],
      "metadata": {
        "id": "owk6xe8pVPyw"
      }
    },
    {
      "cell_type": "markdown",
      "source": [
        "class로 구현 가능\n",
        "- init : 초기 생성 함수\n",
        "- foward : 순전파(입력값 => 예측값 의 과정)"
      ],
      "metadata": {
        "id": "Wz8R9Ll8VPyw"
      }
    },
    {
      "cell_type": "code",
      "source": [
        "#ReLU\n",
        "class ReLU(torch.nn.ReLU):\n",
        "  def forward(self, x):\n",
        "    return torch.max(torch.zeros_like(x), x)"
      ],
      "metadata": {
        "id": "CYCrVrj0VPyw"
      },
      "execution_count": 40,
      "outputs": []
    },
    {
      "cell_type": "code",
      "source": [
        "class Model(torch.nn.Module):\n",
        "\n",
        "  def __init__(self):\n",
        "    super(Model, self).__init__()\n",
        "    self.layer1 = nn.Sequential(\n",
        "          nn.Linear(64,300, bias=True), # input_layer = 64, hidden_layer1 = 300\n",
        "          #nn.Sigmoid(),\n",
        "          ReLU(),\n",
        "          nn.BatchNorm1d(300)\n",
        "    )\n",
        "  # activation function 이용\n",
        "  #   nn.ReLU()\n",
        "  #   nn.tanH()\n",
        "  #   https://pytorch.org/docs/stable/nn.html 그 외에도 여기서 확인 가능함\n",
        "  #   파라미터가 필요하지 않다는 것이 특징\n",
        "\n",
        "  # batch normazliation 1d, 파라미터 값으로 vector의 길이를 전해줌\n",
        "  # 추후에 이미지를 다루게 된다면, 그때는 batch normalization 2d를 이용하게 됨\n",
        "  # 그때는 파라미터 값으로 채널, 가로, 세로 길이를 전달해주게 됨\n",
        "\n",
        "    self.layer2 = nn.Sequential(\n",
        "          nn.Linear(300,200, bias=True), # hidden_layer1 = 398, hidden_layer2 = 200\n",
        "        #nn.Sigmoid()\n",
        "        ReLU()\n",
        "    )\n",
        "    self.layer3 = nn.Sequential(\n",
        "          nn.Linear(200,50, bias=True), # hidden_layer1 = 200, hidden_layer2 = 50\n",
        "        #nn.Sigmoid()\n",
        "        ReLU()\n",
        "    )\n",
        "    self.layer4 = nn.Sequential(\n",
        "        nn.Linear(50, 10, bias=True), # hidden_layer3 = 50, output_layer = 10\n",
        "        nn.Softmax()\n",
        "    )\n",
        "\n",
        "  def forward(self,x):\n",
        "    output = self.layer1(x)\n",
        "    output = self.layer2(output)\n",
        "    output = self.layer3(output)\n",
        "    output = self.layer4(output)\n",
        "    return output"
      ],
      "metadata": {
        "id": "7SGdO0L_VPyx"
      },
      "execution_count": 41,
      "outputs": []
    },
    {
      "cell_type": "code",
      "source": [
        "def init_weights(layer):\n",
        "    if isinstance(layer, nn.Linear):\n",
        "        torch.nn.init.xavier_uniform_(layer.weight)\n",
        "        layer.bias.data.fill_(0.01)\n",
        "\n",
        "        #xavier사용\n",
        "        # Layer의 weight를 어떤 분포를 가지도록 초기화시켜줌+global minimum찾기 위해서"
      ],
      "metadata": {
        "id": "KcGVjEtvVPyx"
      },
      "execution_count": 42,
      "outputs": []
    },
    {
      "cell_type": "code",
      "source": [
        "model = Model().to(device)\n",
        "model.apply(init_weights)"
      ],
      "metadata": {
        "colab": {
          "base_uri": "https://localhost:8080/"
        },
        "outputId": "6609eae2-a1e0-48cf-b950-82ef666a1f08",
        "id": "CD_hX3c-VPyx"
      },
      "execution_count": 43,
      "outputs": [
        {
          "output_type": "execute_result",
          "data": {
            "text/plain": [
              "Model(\n",
              "  (layer1): Sequential(\n",
              "    (0): Linear(in_features=64, out_features=300, bias=True)\n",
              "    (1): ReLU()\n",
              "    (2): BatchNorm1d(300, eps=1e-05, momentum=0.1, affine=True, track_running_stats=True)\n",
              "  )\n",
              "  (layer2): Sequential(\n",
              "    (0): Linear(in_features=300, out_features=200, bias=True)\n",
              "    (1): ReLU()\n",
              "  )\n",
              "  (layer3): Sequential(\n",
              "    (0): Linear(in_features=200, out_features=50, bias=True)\n",
              "    (1): ReLU()\n",
              "  )\n",
              "  (layer4): Sequential(\n",
              "    (0): Linear(in_features=50, out_features=10, bias=True)\n",
              "    (1): Softmax(dim=None)\n",
              "  )\n",
              ")"
            ]
          },
          "metadata": {},
          "execution_count": 43
        }
      ]
    },
    {
      "cell_type": "code",
      "source": [
        "print(model)"
      ],
      "metadata": {
        "colab": {
          "base_uri": "https://localhost:8080/"
        },
        "outputId": "a4373498-59e5-42d2-ab94-2613469ee4e2",
        "id": "rOu17KMkVPyx"
      },
      "execution_count": 44,
      "outputs": [
        {
          "output_type": "stream",
          "name": "stdout",
          "text": [
            "Model(\n",
            "  (layer1): Sequential(\n",
            "    (0): Linear(in_features=64, out_features=300, bias=True)\n",
            "    (1): ReLU()\n",
            "    (2): BatchNorm1d(300, eps=1e-05, momentum=0.1, affine=True, track_running_stats=True)\n",
            "  )\n",
            "  (layer2): Sequential(\n",
            "    (0): Linear(in_features=300, out_features=200, bias=True)\n",
            "    (1): ReLU()\n",
            "  )\n",
            "  (layer3): Sequential(\n",
            "    (0): Linear(in_features=200, out_features=50, bias=True)\n",
            "    (1): ReLU()\n",
            "  )\n",
            "  (layer4): Sequential(\n",
            "    (0): Linear(in_features=50, out_features=10, bias=True)\n",
            "    (1): Softmax(dim=None)\n",
            "  )\n",
            ")\n"
          ]
        }
      ]
    },
    {
      "cell_type": "markdown",
      "source": [
        "## 3.2모델 훈련"
      ],
      "metadata": {
        "id": "Ni0EpAJ7VPyy"
      }
    },
    {
      "cell_type": "code",
      "source": [
        "loss_fn  = nn.CrossEntropyLoss().to(device)\n",
        "\n",
        "# 여러가지 optimizer 시도해보기\n",
        "# lr 바꿔보기\n",
        "\n",
        "\n",
        "#optimizer = optim.Adam(model.parameters(), lr= 0.01)\n",
        "\n",
        "# https://pytorch.org/docs/stable/optim.html#module-torch.optim 페이지 참조\n",
        "optimizer = optim.SGD(model.parameters(), lr=0.1, momentum=0.9)\n",
        "# sgd 등등"
      ],
      "metadata": {
        "id": "Ih7iE-N_VPyy"
      },
      "execution_count": 45,
      "outputs": []
    },
    {
      "cell_type": "code",
      "source": [
        "losses = []\n",
        "for epoch in range(100):\n",
        "\n",
        "  optimizer.zero_grad()\n",
        "  hypothesis = model(x_train)\n",
        "\n",
        "  # 비용 함수\n",
        "  cost = loss_fn(hypothesis, y_train)\n",
        "  cost.backward()\n",
        "  optimizer.step()\n",
        "  losses.append(cost.item())\n",
        "\n",
        "  if epoch % 10 == 0:\n",
        "    print(epoch, cost.item())"
      ],
      "metadata": {
        "colab": {
          "base_uri": "https://localhost:8080/"
        },
        "outputId": "a05eb896-1a5e-400a-e83d-cf27162afb49",
        "id": "ThZ35BVSVPyy"
      },
      "execution_count": 46,
      "outputs": [
        {
          "output_type": "stream",
          "name": "stderr",
          "text": [
            "/usr/local/lib/python3.10/dist-packages/torch/nn/modules/module.py:1518: UserWarning: Implicit dimension choice for softmax has been deprecated. Change the call to include dim=X as an argument.\n",
            "  return self._call_impl(*args, **kwargs)\n"
          ]
        },
        {
          "output_type": "stream",
          "name": "stdout",
          "text": [
            "0 2.322160243988037\n",
            "10 1.8344483375549316\n",
            "20 1.5800814628601074\n",
            "30 1.5044708251953125\n",
            "40 1.4812170267105103\n",
            "50 1.4729200601577759\n",
            "60 1.4694788455963135\n",
            "70 1.4675347805023193\n",
            "80 1.4664713144302368\n",
            "90 1.4657554626464844\n"
          ]
        }
      ]
    },
    {
      "cell_type": "code",
      "source": [
        "plt.plot(losses)\n",
        "plt.show()"
      ],
      "metadata": {
        "colab": {
          "base_uri": "https://localhost:8080/",
          "height": 430
        },
        "outputId": "4bf5df5a-75ec-486a-b1fb-6e417bb8275f",
        "id": "nWtp2zFlVPyy"
      },
      "execution_count": 47,
      "outputs": [
        {
          "output_type": "display_data",
          "data": {
            "text/plain": [
              "<Figure size 640x480 with 1 Axes>"
            ],
            "image/png": "[encoded data removed]"
          },
          "metadata": {}
        }
      ]
    },
    {
      "cell_type": "code",
      "source": [
        "with torch.no_grad():\n",
        "  model = model.to('cpu')\n",
        "  y_pred = model(x_test)\n",
        "  y_pred = y_pred.detach().numpy()\n",
        "  predicted = np.argmax(y_pred, axis =1)\n",
        "  accuracy = (accuracy_score(predicted, y_test))"
      ],
      "metadata": {
        "id": "3w4alJMPVPyz"
      },
      "execution_count": 48,
      "outputs": []
    },
    {
      "cell_type": "code",
      "source": [
        "print(f'model의 output은 :  {y_pred[0]}')\n",
        "print(f'argmax를 한 후의 output은 {predicted[0]}')\n",
        "print(f'accuracy는 {accuracy}')"
      ],
      "metadata": {
        "colab": {
          "base_uri": "https://localhost:8080/"
        },
        "outputId": "8dea2015-a441-4138-8985-eda9ce98b29c",
        "id": "5i8mNGOdVPyz"
      },
      "execution_count": 49,
      "outputs": [
        {
          "output_type": "stream",
          "name": "stdout",
          "text": [
            "model의 output은 :  [4.0917487e-09 9.9883479e-01 6.9145399e-06 5.9836989e-06 3.0534504e-06\n",
            " 1.5437616e-05 8.8067063e-06 1.7407635e-09 1.1250229e-03 5.6536479e-08]\n",
            "argmax를 한 후의 output은 1\n",
            "accuracy는 0.975925925925926\n"
          ]
        }
      ]
    },
    {
      "cell_type": "markdown",
      "source": [
        "# 3.세번째 모델\n",
        "##### 1) Activation function : Sigmoid\n",
        "##### 2) Optimizier : Adam\n",
        "##### 3) layer 수 : 5개\n",
        "##### 4) lr : 0.05"
      ],
      "metadata": {
        "id": "GAti8Bo-WrzX"
      }
    },
    {
      "cell_type": "markdown",
      "source": [
        "## 2.3모델 정의"
      ],
      "metadata": {
        "id": "XgsigUS6Wrzg"
      }
    },
    {
      "cell_type": "markdown",
      "source": [
        "class로 구현 가능\n",
        "- init : 초기 생성 함수\n",
        "- foward : 순전파(입력값 => 예측값 의 과정)"
      ],
      "metadata": {
        "id": "L_uRWq9TWrzg"
      }
    },
    {
      "cell_type": "code",
      "source": [
        "class Model(torch.nn.Module):\n",
        "\n",
        "  def __init__(self):\n",
        "    super(Model, self).__init__()\n",
        "    self.layer1 = nn.Sequential(\n",
        "          nn.Linear(64,300, bias=True), # input_layer = 64, hidden_layer1 = 300\n",
        "          nn.Sigmoid(),\n",
        "          #ReLU(),\n",
        "          nn.BatchNorm1d(300)\n",
        "    )\n",
        "  # activation function 이용\n",
        "  #   nn.ReLU()\n",
        "  #   nn.tanH()\n",
        "  #   https://pytorch.org/docs/stable/nn.html 그 외에도 여기서 확인 가능함\n",
        "  #   파라미터가 필요하지 않다는 것이 특징\n",
        "\n",
        "  # batch normazliation 1d, 파라미터 값으로 vector의 길이를 전해줌\n",
        "  # 추후에 이미지를 다루게 된다면, 그때는 batch normalization 2d를 이용하게 됨\n",
        "  # 그때는 파라미터 값으로 채널, 가로, 세로 길이를 전달해주게 됨\n",
        "\n",
        "    self.layer2 = nn.Sequential(\n",
        "          nn.Linear(300,200, bias=True), # hidden_layer1 = 398, hidden_layer2 = 200\n",
        "        nn.Sigmoid()\n",
        "        #ReLU()\n",
        "    )\n",
        "    self.layer3 = nn.Sequential(\n",
        "          nn.Linear(200,100, bias=True), # hidden_layer2 = 200, hidden_layer2 = 50\n",
        "        nn.Sigmoid()\n",
        "        #ReLU()\n",
        "    )\n",
        "    self.layer4 = nn.Sequential(\n",
        "          nn.Linear(100,50, bias=True), # hidden_layer3 = 100, hidden_layer4 = 50\n",
        "        nn.Sigmoid()\n",
        "        #ReLU()\n",
        "    )\n",
        "    self.layer5 = nn.Sequential(\n",
        "        nn.Linear(50, 10, bias=True), # hidden_layer4 = 50, output_layer = 10\n",
        "        nn.Softmax()\n",
        "    )\n",
        "\n",
        "  def forward(self,x):\n",
        "    output = self.layer1(x)\n",
        "    output = self.layer2(output)\n",
        "    output = self.layer3(output)\n",
        "    output = self.layer4(output)\n",
        "    output = self.layer5(output)\n",
        "    return output"
      ],
      "metadata": {
        "id": "vpyFIn3qWrzg"
      },
      "execution_count": 50,
      "outputs": []
    },
    {
      "cell_type": "code",
      "source": [
        "def init_weights(layer):\n",
        "    if isinstance(layer, nn.Linear):\n",
        "        torch.nn.init.xavier_uniform_(layer.weight)\n",
        "        layer.bias.data.fill_(0.01)\n",
        "\n",
        "        #xavier사용\n",
        "        # Layer의 weight를 어떤 분포를 가지도록 초기화시켜줌+global minimum찾기 위해서"
      ],
      "metadata": {
        "id": "210R_6TjWrzg"
      },
      "execution_count": 51,
      "outputs": []
    },
    {
      "cell_type": "code",
      "source": [
        "model = Model().to(device)\n",
        "model.apply(init_weights)"
      ],
      "metadata": {
        "colab": {
          "base_uri": "https://localhost:8080/"
        },
        "outputId": "4a61ca5e-eec4-4b88-9d32-3fdcff2dc3c6",
        "id": "U8AhEWa3Wrzh"
      },
      "execution_count": 52,
      "outputs": [
        {
          "output_type": "execute_result",
          "data": {
            "text/plain": [
              "Model(\n",
              "  (layer1): Sequential(\n",
              "    (0): Linear(in_features=64, out_features=300, bias=True)\n",
              "    (1): Sigmoid()\n",
              "    (2): BatchNorm1d(300, eps=1e-05, momentum=0.1, affine=True, track_running_stats=True)\n",
              "  )\n",
              "  (layer2): Sequential(\n",
              "    (0): Linear(in_features=300, out_features=200, bias=True)\n",
              "    (1): Sigmoid()\n",
              "  )\n",
              "  (layer3): Sequential(\n",
              "    (0): Linear(in_features=200, out_features=100, bias=True)\n",
              "    (1): Sigmoid()\n",
              "  )\n",
              "  (layer4): Sequential(\n",
              "    (0): Linear(in_features=100, out_features=50, bias=True)\n",
              "    (1): Sigmoid()\n",
              "  )\n",
              "  (layer5): Sequential(\n",
              "    (0): Linear(in_features=50, out_features=10, bias=True)\n",
              "    (1): Softmax(dim=None)\n",
              "  )\n",
              ")"
            ]
          },
          "metadata": {},
          "execution_count": 52
        }
      ]
    },
    {
      "cell_type": "markdown",
      "source": [
        "## 3.3모델 훈련"
      ],
      "metadata": {
        "id": "DNYG-6hsWrzh"
      }
    },
    {
      "cell_type": "code",
      "source": [
        "loss_fn  = nn.CrossEntropyLoss().to(device)\n",
        "\n",
        "# 여러가지 optimizer 시도해보기\n",
        "# lr 바꿔보기\n",
        "\n",
        "\n",
        "optimizer = optim.Adam(model.parameters(), lr= 0.05)\n",
        "\n",
        "# https://pytorch.org/docs/stable/optim.html#module-torch.optim 페이지 참조\n",
        "#optimizer = optim.SGD(model.parameters(), lr=0.1, momentum=0.9)\n",
        "# sgd 등등"
      ],
      "metadata": {
        "id": "ILZ2AKy9Wrzh"
      },
      "execution_count": 53,
      "outputs": []
    },
    {
      "cell_type": "code",
      "source": [
        "losses = []\n",
        "for epoch in range(100):\n",
        "\n",
        "  optimizer.zero_grad()\n",
        "  hypothesis = model(x_train)\n",
        "\n",
        "  # 비용 함수\n",
        "  cost = loss_fn(hypothesis, y_train)\n",
        "  cost.backward()\n",
        "  optimizer.step()\n",
        "  losses.append(cost.item())\n",
        "\n",
        "  if epoch % 10 == 0:\n",
        "    print(epoch, cost.item())"
      ],
      "metadata": {
        "colab": {
          "base_uri": "https://localhost:8080/"
        },
        "outputId": "e4893607-3b96-48b2-da80-19ac7e492cf5",
        "id": "ZHEvG7g3Wrzh"
      },
      "execution_count": 54,
      "outputs": [
        {
          "output_type": "stream",
          "name": "stderr",
          "text": [
            "/usr/local/lib/python3.10/dist-packages/torch/nn/modules/module.py:1518: UserWarning: Implicit dimension choice for softmax has been deprecated. Change the call to include dim=X as an argument.\n",
            "  return self._call_impl(*args, **kwargs)\n"
          ]
        },
        {
          "output_type": "stream",
          "name": "stdout",
          "text": [
            "0 2.304457426071167\n",
            "10 1.8552782535552979\n",
            "20 1.7323659658432007\n",
            "30 1.5780961513519287\n",
            "40 1.5665569305419922\n",
            "50 1.5630398988723755\n",
            "60 1.5633296966552734\n",
            "70 1.5618292093276978\n",
            "80 1.561964988708496\n",
            "90 1.5621623992919922\n"
          ]
        }
      ]
    },
    {
      "cell_type": "code",
      "source": [
        "plt.plot(losses)\n",
        "plt.show()"
      ],
      "metadata": {
        "colab": {
          "base_uri": "https://localhost:8080/",
          "height": 430
        },
        "outputId": "c992e449-2e37-42f9-d158-54bb7f4cbe49",
        "id": "jNzptuqYWrzh"
      },
      "execution_count": 55,
      "outputs": [
        {
          "output_type": "display_data",
          "data": {
            "text/plain": [
              "<Figure size 640x480 with 1 Axes>"
            ],
            "image/png": "[encoded data removed]"
          },
          "metadata": {}
        }
      ]
    },
    {
      "cell_type": "code",
      "source": [
        "with torch.no_grad():\n",
        "  model = model.to('cpu')\n",
        "  y_pred = model(x_test)\n",
        "  y_pred = y_pred.detach().numpy()\n",
        "  predicted = np.argmax(y_pred, axis =1)\n",
        "  accuracy = (accuracy_score(predicted, y_test))"
      ],
      "metadata": {
        "id": "_otZpU5zWrzi"
      },
      "execution_count": 56,
      "outputs": []
    },
    {
      "cell_type": "code",
      "source": [
        "print(f'model의 output은 :  {y_pred[0]}')\n",
        "print(f'argmax를 한 후의 output은 {predicted[0]}')\n",
        "print(f'accuracy는 {accuracy}')"
      ],
      "metadata": {
        "colab": {
          "base_uri": "https://localhost:8080/"
        },
        "outputId": "2dbe7b34-e0fd-4759-c913-d738469bac59",
        "id": "6CuI9GPpWrzi"
      },
      "execution_count": 57,
      "outputs": [
        {
          "output_type": "stream",
          "name": "stdout",
          "text": [
            "model의 output은 :  [2.8432281e-09 9.9991214e-01 4.4956041e-06 2.9786650e-06 7.3196927e-05\n",
            " 7.5175313e-07 6.0896564e-06 3.2383107e-07 8.9383292e-09 1.0477003e-09]\n",
            "argmax를 한 후의 output은 1\n",
            "accuracy는 0.8814814814814815\n"
          ]
        }
      ]
    },
    {
      "cell_type": "markdown",
      "source": [
        "# 3.네번째 모델\n",
        "##### 1) Activation function : Sigmoid\n",
        "##### 2) Optimizier : SGD\n",
        "##### 3) layer 수 : 4개\n",
        "##### 4) lr : 0.2"
      ],
      "metadata": {
        "id": "7Iso_5KmXkpt"
      }
    },
    {
      "cell_type": "markdown",
      "source": [
        "## 2.3모델 정의"
      ],
      "metadata": {
        "id": "k98l4s0wXkp1"
      }
    },
    {
      "cell_type": "markdown",
      "source": [
        "class로 구현 가능\n",
        "- init : 초기 생성 함수\n",
        "- foward : 순전파(입력값 => 예측값 의 과정)"
      ],
      "metadata": {
        "id": "ZMEC3ZVCXkp1"
      }
    },
    {
      "cell_type": "code",
      "source": [
        "class Model(torch.nn.Module):\n",
        "\n",
        "  def __init__(self):\n",
        "    super(Model, self).__init__()\n",
        "    self.layer1 = nn.Sequential(\n",
        "          nn.Linear(64,300, bias=True), # input_layer = 64, hidden_layer1 = 300\n",
        "          nn.Sigmoid(),\n",
        "          #ReLU(),\n",
        "          nn.BatchNorm1d(300)\n",
        "    )\n",
        "  # activation function 이용\n",
        "  #   nn.ReLU()\n",
        "  #   nn.tanH()\n",
        "  #   https://pytorch.org/docs/stable/nn.html 그 외에도 여기서 확인 가능함\n",
        "  #   파라미터가 필요하지 않다는 것이 특징\n",
        "\n",
        "  # batch normazliation 1d, 파라미터 값으로 vector의 길이를 전해줌\n",
        "  # 추후에 이미지를 다루게 된다면, 그때는 batch normalization 2d를 이용하게 됨\n",
        "  # 그때는 파라미터 값으로 채널, 가로, 세로 길이를 전달해주게 됨\n",
        "\n",
        "    self.layer2 = nn.Sequential(\n",
        "          nn.Linear(300,200, bias=True), # hidden_layer1 = 398, hidden_layer2 = 200\n",
        "        nn.Sigmoid()\n",
        "        #ReLU()\n",
        "    )\n",
        "    self.layer3 = nn.Sequential(\n",
        "          nn.Linear(200,100, bias=True), # hidden_layer2 = 200, hidden_layer2 = 50\n",
        "        nn.Sigmoid()\n",
        "        #ReLU()\n",
        "    )\n",
        "\n",
        "    self.layer4 = nn.Sequential(\n",
        "        nn.Linear(100, 10, bias=True), # hidden_layer4 = 50, output_layer = 10\n",
        "        nn.Softmax()\n",
        "    )\n",
        "\n",
        "  def forward(self,x):\n",
        "    output = self.layer1(x)\n",
        "    output = self.layer2(output)\n",
        "    output = self.layer3(output)\n",
        "    output = self.layer4(output)\n",
        "    return output"
      ],
      "metadata": {
        "id": "D71rev6CXkp2"
      },
      "execution_count": 72,
      "outputs": []
    },
    {
      "cell_type": "code",
      "source": [
        "def init_weights(layer):\n",
        "    if isinstance(layer, nn.Linear):\n",
        "        torch.nn.init.xavier_uniform_(layer.weight)\n",
        "        layer.bias.data.fill_(0.01)\n",
        "\n",
        "        #xavier사용\n",
        "        # Layer의 weight를 어떤 분포를 가지도록 초기화시켜줌+global minimum찾기 위해서"
      ],
      "metadata": {
        "id": "A5G13PTZXkp2"
      },
      "execution_count": 73,
      "outputs": []
    },
    {
      "cell_type": "code",
      "source": [
        "model = Model().to(device)\n",
        "model.apply(init_weights)"
      ],
      "metadata": {
        "colab": {
          "base_uri": "https://localhost:8080/"
        },
        "outputId": "3a9f5dfd-e26d-443a-efb6-1f684086476e",
        "id": "deG0kJ3DXkp2"
      },
      "execution_count": 74,
      "outputs": [
        {
          "output_type": "execute_result",
          "data": {
            "text/plain": [
              "Model(\n",
              "  (layer1): Sequential(\n",
              "    (0): Linear(in_features=64, out_features=300, bias=True)\n",
              "    (1): Sigmoid()\n",
              "    (2): BatchNorm1d(300, eps=1e-05, momentum=0.1, affine=True, track_running_stats=True)\n",
              "  )\n",
              "  (layer2): Sequential(\n",
              "    (0): Linear(in_features=300, out_features=200, bias=True)\n",
              "    (1): Sigmoid()\n",
              "  )\n",
              "  (layer3): Sequential(\n",
              "    (0): Linear(in_features=200, out_features=100, bias=True)\n",
              "    (1): Sigmoid()\n",
              "  )\n",
              "  (layer4): Sequential(\n",
              "    (0): Linear(in_features=100, out_features=10, bias=True)\n",
              "    (1): Softmax(dim=None)\n",
              "  )\n",
              ")"
            ]
          },
          "metadata": {},
          "execution_count": 74
        }
      ]
    },
    {
      "cell_type": "markdown",
      "source": [
        "## 3.3모델 훈련"
      ],
      "metadata": {
        "id": "678IdqelXkp3"
      }
    },
    {
      "cell_type": "code",
      "source": [
        "loss_fn  = nn.CrossEntropyLoss().to(device)\n",
        "\n",
        "# 여러가지 optimizer 시도해보기\n",
        "# lr 바꿔보기\n",
        "\n",
        "\n",
        "#optimizer = optim.Adam(model.parameters(), lr= 0.05)\n",
        "\n",
        "# https://pytorch.org/docs/stable/optim.html#module-torch.optim 페이지 참조\n",
        "optimizer = optim.SGD(model.parameters(), lr=0.2, momentum=0.9)\n",
        "# sgd 등등"
      ],
      "metadata": {
        "id": "Al1meAXpXkp3"
      },
      "execution_count": 90,
      "outputs": []
    },
    {
      "cell_type": "code",
      "source": [
        "losses = []\n",
        "for epoch in range(100):\n",
        "\n",
        "  optimizer.zero_grad()\n",
        "  hypothesis = model(x_train)\n",
        "\n",
        "  # 비용 함수\n",
        "  cost = loss_fn(hypothesis, y_train)\n",
        "  cost.backward()\n",
        "  optimizer.step()\n",
        "  losses.append(cost.item())\n",
        "\n",
        "  if epoch % 10 == 0:\n",
        "    print(epoch, cost.item())"
      ],
      "metadata": {
        "colab": {
          "base_uri": "https://localhost:8080/"
        },
        "outputId": "b3d5cd9d-f0e6-492b-b85a-a0ef34f7fa95",
        "id": "21UyJV_dXkp3"
      },
      "execution_count": 91,
      "outputs": [
        {
          "output_type": "stream",
          "name": "stderr",
          "text": [
            "/usr/local/lib/python3.10/dist-packages/torch/nn/modules/module.py:1518: UserWarning: Implicit dimension choice for softmax has been deprecated. Change the call to include dim=X as an argument.\n",
            "  return self._call_impl(*args, **kwargs)\n"
          ]
        },
        {
          "output_type": "stream",
          "name": "stdout",
          "text": [
            "0 1.579978346824646\n",
            "10 1.5494998693466187\n",
            "20 1.5143201351165771\n",
            "30 1.4942295551300049\n",
            "40 1.4836945533752441\n",
            "50 1.4774929285049438\n",
            "60 1.4738132953643799\n",
            "70 1.4714299440383911\n",
            "80 1.469846248626709\n",
            "90 1.4685195684432983\n"
          ]
        }
      ]
    },
    {
      "cell_type": "code",
      "source": [
        "plt.plot(losses)\n",
        "plt.show()"
      ],
      "metadata": {
        "colab": {
          "base_uri": "https://localhost:8080/",
          "height": 430
        },
        "outputId": "c18f4026-94f8-44ad-ba62-93a4de8aa0a2",
        "id": "GADX_xwwXkp3"
      },
      "execution_count": 92,
      "outputs": [
        {
          "output_type": "display_data",
          "data": {
            "text/plain": [
              "<Figure size 640x480 with 1 Axes>"
            ],
            "image/png": "[encoded data removed]"
          },
          "metadata": {}
        }
      ]
    },
    {
      "cell_type": "code",
      "source": [
        "with torch.no_grad():\n",
        "  model = model.to('cpu')\n",
        "  y_pred = model(x_test)\n",
        "  y_pred = y_pred.detach().numpy()\n",
        "  predicted = np.argmax(y_pred, axis =1)\n",
        "  accuracy = (accuracy_score(predicted, y_test))"
      ],
      "metadata": {
        "id": "RLV0k5NVXkp3"
      },
      "execution_count": 93,
      "outputs": []
    },
    {
      "cell_type": "code",
      "source": [
        "print(f'model의 output은 :  {y_pred[0]}')\n",
        "print(f'argmax를 한 후의 output은 {predicted[0]}')\n",
        "print(f'accuracy는 {accuracy}')"
      ],
      "metadata": {
        "colab": {
          "base_uri": "https://localhost:8080/"
        },
        "outputId": "1ba68bc3-77a1-4e7e-b72c-1ba31cac74b1",
        "id": "K2keWngxXkp3"
      },
      "execution_count": 94,
      "outputs": [
        {
          "output_type": "stream",
          "name": "stdout",
          "text": [
            "model의 output은 :  [1.3947553e-06 9.9753714e-01 7.4281459e-05 1.7567746e-06 3.9705930e-05\n",
            " 1.5317857e-05 1.0099827e-03 7.2198382e-06 1.3116567e-03 1.5901923e-06]\n",
            "argmax를 한 후의 output은 1\n",
            "accuracy는 0.9777777777777777\n"
          ]
        }
      ]
    },
    {
      "cell_type": "markdown",
      "source": [
        "# 최종 결과\n",
        "모델1[RELU + ADAM]\n",
        "\n",
        "accuracy는 0.9239766081871345\n",
        "\n",
        "----\n",
        "모델2[RELU + SGD]\n",
        "\n",
        "accuracy는 0.975925925925926\n",
        "\n",
        "----\n",
        "\n",
        "모델3[Sigmoid + ADAM]\n",
        "\n",
        "accuracy는 0.8814814814814815\n",
        "\n",
        "----\n",
        "\n",
        "모델4[Sigmoid + SGD]\n",
        "\n",
        "accuracy는 0.9777777777777777"
      ],
      "metadata": {
        "id": "7HK0yQTvVqwQ"
      }
    },
    {
      "cell_type": "markdown",
      "source": [
        "# < 3주차 과제 2 : CNN 맛보기>"
      ],
      "metadata": {
        "id": "3RzRM7xThZV_"
      }
    },
    {
      "cell_type": "code",
      "source": [
        "from __future__ import print_function\n",
        "import argparse\n",
        "import torch\n",
        "import torch.nn as nn\n",
        "import torch.nn.functional as F\n",
        "import torch.optim as optim\n",
        "from torchvision import datasets, transforms\n",
        "from torch.autograd import Variable"
      ],
      "metadata": {
        "id": "56xqgtLxhZw6"
      },
      "execution_count": 1,
      "outputs": []
    },
    {
      "cell_type": "code",
      "source": [
        "# Training settings\n",
        "\n",
        "batch_size = 64\n",
        "\n",
        "# MNIST Dataset\n",
        "train_dataset = datasets.MNIST(root='./data/',\n",
        "                               train=True,\n",
        "                               transform=transforms.ToTensor(),\n",
        "                               download=True)\n",
        "\n",
        "test_dataset = datasets.MNIST(root='./data/',\n",
        "                              train=False,\n",
        "                              transform=transforms.ToTensor())\n",
        "\n",
        "# Data Loader (Input Pipeline)\n",
        "train_loader = torch.utils.data.DataLoader(dataset=train_dataset,\n",
        "                                           batch_size=batch_size,\n",
        "                                           shuffle=True)\n",
        "\n",
        "test_loader = torch.utils.data.DataLoader(dataset=test_dataset,\n",
        "                                          batch_size=batch_size,\n",
        "                                          shuffle=False)"
      ],
      "metadata": {
        "id": "TzkF2bFNhcQ2",
        "colab": {
          "base_uri": "https://localhost:8080/"
        },
        "outputId": "ebbf3070-e389-4556-fcd6-986cee80a328"
      },
      "execution_count": 2,
      "outputs": [
        {
          "output_type": "stream",
          "name": "stdout",
          "text": [
            "Downloading http://yann.lecun.com/exdb/mnist/train-images-idx3-ubyte.gz\n",
            "Downloading http://yann.lecun.com/exdb/mnist/train-images-idx3-ubyte.gz to ./data/MNIST/raw/train-images-idx3-ubyte.gz\n"
          ]
        },
        {
          "output_type": "stream",
          "name": "stderr",
          "text": [
            "100%|██████████| 9912422/9912422 [00:00<00:00, 175753460.03it/s]"
          ]
        },
        {
          "output_type": "stream",
          "name": "stdout",
          "text": [
            "Extracting ./data/MNIST/raw/train-images-idx3-ubyte.gz to ./data/MNIST/raw\n"
          ]
        },
        {
          "output_type": "stream",
          "name": "stderr",
          "text": [
            "\n"
          ]
        },
        {
          "output_type": "stream",
          "name": "stdout",
          "text": [
            "\n",
            "Downloading http://yann.lecun.com/exdb/mnist/train-labels-idx1-ubyte.gz\n",
            "Downloading http://yann.lecun.com/exdb/mnist/train-labels-idx1-ubyte.gz to ./data/MNIST/raw/train-labels-idx1-ubyte.gz\n"
          ]
        },
        {
          "output_type": "stream",
          "name": "stderr",
          "text": [
            "100%|██████████| 28881/28881 [00:00<00:00, 45849997.66it/s]\n"
          ]
        },
        {
          "output_type": "stream",
          "name": "stdout",
          "text": [
            "Extracting ./data/MNIST/raw/train-labels-idx1-ubyte.gz to ./data/MNIST/raw\n",
            "\n",
            "Downloading http://yann.lecun.com/exdb/mnist/t10k-images-idx3-ubyte.gz\n",
            "Downloading http://yann.lecun.com/exdb/mnist/t10k-images-idx3-ubyte.gz to ./data/MNIST/raw/t10k-images-idx3-ubyte.gz\n"
          ]
        },
        {
          "output_type": "stream",
          "name": "stderr",
          "text": [
            "100%|██████████| 1648877/1648877 [00:00<00:00, 47140519.92it/s]"
          ]
        },
        {
          "output_type": "stream",
          "name": "stdout",
          "text": [
            "Extracting ./data/MNIST/raw/t10k-images-idx3-ubyte.gz to ./data/MNIST/raw\n"
          ]
        },
        {
          "output_type": "stream",
          "name": "stderr",
          "text": [
            "\n"
          ]
        },
        {
          "output_type": "stream",
          "name": "stdout",
          "text": [
            "\n",
            "Downloading http://yann.lecun.com/exdb/mnist/t10k-labels-idx1-ubyte.gz\n",
            "Downloading http://yann.lecun.com/exdb/mnist/t10k-labels-idx1-ubyte.gz to ./data/MNIST/raw/t10k-labels-idx1-ubyte.gz\n"
          ]
        },
        {
          "output_type": "stream",
          "name": "stderr",
          "text": [
            "100%|██████████| 4542/4542 [00:00<00:00, 20528587.03it/s]"
          ]
        },
        {
          "output_type": "stream",
          "name": "stdout",
          "text": [
            "Extracting ./data/MNIST/raw/t10k-labels-idx1-ubyte.gz to ./data/MNIST/raw\n",
            "\n"
          ]
        },
        {
          "output_type": "stream",
          "name": "stderr",
          "text": [
            "\n"
          ]
        }
      ]
    },
    {
      "cell_type": "code",
      "source": [
        "class Net(nn.Module):\n",
        "  def __init__(self):\n",
        "    super(Net, self).__init__()\n",
        "    self.conv1 = nn.Conv2d(1, 10, kernel_size = 5)\n",
        "    self.conv2 = nn.Conv2d(10, 20, kernel_size = 5)\n",
        "    self.mp = nn.MaxPool2d(2)\n",
        "    self.fc = nn.Linear(320 , 10)\n",
        "\n",
        "  def forward(self, x):\n",
        "    in_size = x.size(0)\n",
        "    x = F.relu(self.mp(self.conv1(x)))\n",
        "    x = F.relu(self.mp(self.conv2(x)))\n",
        "    x = x.view(in_size, -1)\n",
        "    x = self.fc(x)\n",
        "    return F.log_softmax(x)"
      ],
      "metadata": {
        "id": "tLCSvgganBrH"
      },
      "execution_count": 7,
      "outputs": []
    },
    {
      "cell_type": "code",
      "source": [
        "model = Net()\n",
        "optimizer = optim.SGD(model.parameters(), lr = 0.01, momentum = 0.5)"
      ],
      "metadata": {
        "id": "lkYZ4pUdnUHc"
      },
      "execution_count": 8,
      "outputs": []
    },
    {
      "cell_type": "code",
      "source": [
        "def train(epoch):\n",
        "  model.train()\n",
        "  for batch_idx, (data, target) in enumerate(train_loader):\n",
        "    data, target = Variable(data), Variable(target)\n",
        "    optimizer.zero_grad()\n",
        "    output = model(data)\n",
        "    loss = F.nll_loss(output, target)\n",
        "    loss.backward()\n",
        "    optimizer.step()\n",
        "    if batch_idx % 10 == 0:\n",
        "      print('Train Epoch: {} [{}/{} ({:.0f}%)]\\tLoss: {:.6f}'.format(\n",
        "          epoch, batch_idx * len(data), len(train_loader.dataset),\n",
        "          100. * batch_idx / len(train_loader), loss.item()))"
      ],
      "metadata": {
        "id": "IzUrEM3EnXJb"
      },
      "execution_count": 9,
      "outputs": []
    },
    {
      "cell_type": "code",
      "source": [
        "def test():\n",
        "    model.eval() #model.eval() 의 기능은?\n",
        "    test_loss = 0\n",
        "    correct = 0\n",
        "    for data, target in test_loader:\n",
        "        data, target = Variable(data, volatile=True), Variable(target)\n",
        "        output = model(data)\n",
        "        test_loss += F.nll_loss(output, target, size_average=False).data # nll_loss?? / cross entropy loss와의 관계 확인!\n",
        "        pred = output.data.max(1, keepdim=True)[1]\n",
        "        correct += pred.eq(target.data.view_as(pred)).cpu().sum()\n",
        "\n",
        "    test_loss /= len(test_loader.dataset)\n",
        "    print('\\nTest set: Average loss: {:.4f}, Accuracy: {}/{} ({:.0f}%)\\n'.format(\n",
        "        test_loss, correct, len(test_loader.dataset),\n",
        "        100. * correct / len(test_loader.dataset)))"
      ],
      "metadata": {
        "id": "EFi0gYJGn2aa"
      },
      "execution_count": 10,
      "outputs": []
    },
    {
      "cell_type": "code",
      "source": [
        "for epoch in range(1, 10):\n",
        "    train(epoch)\n",
        "    test()"
      ],
      "metadata": {
        "id": "zSvSZb_Bn4Nx",
        "colab": {
          "base_uri": "https://localhost:8080/"
        },
        "outputId": "92f6ed71-84aa-47b1-f52a-e06fbc1e3f07"
      },
      "execution_count": 11,
      "outputs": [
        {
          "output_type": "stream",
          "name": "stderr",
          "text": [
            "<ipython-input-7-006ecbc6c563>:15: UserWarning: Implicit dimension choice for log_softmax has been deprecated. Change the call to include dim=X as an argument.\n",
            "  return F.log_softmax(x)\n"
          ]
        },
        {
          "output_type": "stream",
          "name": "stdout",
          "text": [
            "Train Epoch: 1 [0/60000 (0%)]\tLoss: 2.302332\n",
            "Train Epoch: 1 [640/60000 (1%)]\tLoss: 2.298229\n",
            "Train Epoch: 1 [1280/60000 (2%)]\tLoss: 2.301676\n",
            "Train Epoch: 1 [1920/60000 (3%)]\tLoss: 2.262216\n",
            "Train Epoch: 1 [2560/60000 (4%)]\tLoss: 2.265425\n",
            "Train Epoch: 1 [3200/60000 (5%)]\tLoss: 2.208381\n",
            "Train Epoch: 1 [3840/60000 (6%)]\tLoss: 2.187509\n",
            "Train Epoch: 1 [4480/60000 (7%)]\tLoss: 2.167179\n",
            "Train Epoch: 1 [5120/60000 (9%)]\tLoss: 2.114434\n",
            "Train Epoch: 1 [5760/60000 (10%)]\tLoss: 2.051374\n",
            "Train Epoch: 1 [6400/60000 (11%)]\tLoss: 1.918115\n",
            "Train Epoch: 1 [7040/60000 (12%)]\tLoss: 1.760977\n",
            "Train Epoch: 1 [7680/60000 (13%)]\tLoss: 1.562535\n",
            "Train Epoch: 1 [8320/60000 (14%)]\tLoss: 1.353705\n",
            "Train Epoch: 1 [8960/60000 (15%)]\tLoss: 1.031303\n",
            "Train Epoch: 1 [9600/60000 (16%)]\tLoss: 0.982493\n",
            "Train Epoch: 1 [10240/60000 (17%)]\tLoss: 0.683455\n",
            "Train Epoch: 1 [10880/60000 (18%)]\tLoss: 0.646926\n",
            "Train Epoch: 1 [11520/60000 (19%)]\tLoss: 0.673146\n",
            "Train Epoch: 1 [12160/60000 (20%)]\tLoss: 0.734329\n",
            "Train Epoch: 1 [12800/60000 (21%)]\tLoss: 0.445926\n",
            "Train Epoch: 1 [13440/60000 (22%)]\tLoss: 0.507036\n",
            "Train Epoch: 1 [14080/60000 (23%)]\tLoss: 0.466528\n",
            "Train Epoch: 1 [14720/60000 (25%)]\tLoss: 0.476599\n",
            "Train Epoch: 1 [15360/60000 (26%)]\tLoss: 0.613837\n",
            "Train Epoch: 1 [16000/60000 (27%)]\tLoss: 0.311390\n",
            "Train Epoch: 1 [16640/60000 (28%)]\tLoss: 0.455175\n",
            "Train Epoch: 1 [17280/60000 (29%)]\tLoss: 0.482060\n",
            "Train Epoch: 1 [17920/60000 (30%)]\tLoss: 0.467303\n",
            "Train Epoch: 1 [18560/60000 (31%)]\tLoss: 0.554587\n",
            "Train Epoch: 1 [19200/60000 (32%)]\tLoss: 0.427109\n",
            "Train Epoch: 1 [19840/60000 (33%)]\tLoss: 0.272963\n",
            "Train Epoch: 1 [20480/60000 (34%)]\tLoss: 0.296342\n",
            "Train Epoch: 1 [21120/60000 (35%)]\tLoss: 0.403911\n",
            "Train Epoch: 1 [21760/60000 (36%)]\tLoss: 0.381528\n",
            "Train Epoch: 1 [22400/60000 (37%)]\tLoss: 0.291131\n",
            "Train Epoch: 1 [23040/60000 (38%)]\tLoss: 0.215068\n",
            "Train Epoch: 1 [23680/60000 (39%)]\tLoss: 0.363191\n",
            "Train Epoch: 1 [24320/60000 (41%)]\tLoss: 0.319822\n",
            "Train Epoch: 1 [24960/60000 (42%)]\tLoss: 0.270424\n",
            "Train Epoch: 1 [25600/60000 (43%)]\tLoss: 0.503828\n",
            "Train Epoch: 1 [26240/60000 (44%)]\tLoss: 0.412424\n",
            "Train Epoch: 1 [26880/60000 (45%)]\tLoss: 0.260332\n",
            "Train Epoch: 1 [27520/60000 (46%)]\tLoss: 0.436771\n",
            "Train Epoch: 1 [28160/60000 (47%)]\tLoss: 0.305672\n",
            "Train Epoch: 1 [28800/60000 (48%)]\tLoss: 0.177745\n",
            "Train Epoch: 1 [29440/60000 (49%)]\tLoss: 0.160495\n",
            "Train Epoch: 1 [30080/60000 (50%)]\tLoss: 0.304626\n",
            "Train Epoch: 1 [30720/60000 (51%)]\tLoss: 0.250503\n",
            "Train Epoch: 1 [31360/60000 (52%)]\tLoss: 0.095222\n",
            "Train Epoch: 1 [32000/60000 (53%)]\tLoss: 0.337812\n",
            "Train Epoch: 1 [32640/60000 (54%)]\tLoss: 0.203387\n",
            "Train Epoch: 1 [33280/60000 (55%)]\tLoss: 0.216131\n",
            "Train Epoch: 1 [33920/60000 (57%)]\tLoss: 0.208711\n",
            "Train Epoch: 1 [34560/60000 (58%)]\tLoss: 0.419756\n",
            "Train Epoch: 1 [35200/60000 (59%)]\tLoss: 0.144232\n",
            "Train Epoch: 1 [35840/60000 (60%)]\tLoss: 0.213816\n",
            "Train Epoch: 1 [36480/60000 (61%)]\tLoss: 0.128845\n",
            "Train Epoch: 1 [37120/60000 (62%)]\tLoss: 0.133732\n",
            "Train Epoch: 1 [37760/60000 (63%)]\tLoss: 0.146163\n",
            "Train Epoch: 1 [38400/60000 (64%)]\tLoss: 0.195010\n",
            "Train Epoch: 1 [39040/60000 (65%)]\tLoss: 0.146514\n",
            "Train Epoch: 1 [39680/60000 (66%)]\tLoss: 0.127239\n",
            "Train Epoch: 1 [40320/60000 (67%)]\tLoss: 0.126332\n",
            "Train Epoch: 1 [40960/60000 (68%)]\tLoss: 0.083662\n",
            "Train Epoch: 1 [41600/60000 (69%)]\tLoss: 0.334653\n",
            "Train Epoch: 1 [42240/60000 (70%)]\tLoss: 0.200982\n",
            "Train Epoch: 1 [42880/60000 (71%)]\tLoss: 0.205119\n",
            "Train Epoch: 1 [43520/60000 (72%)]\tLoss: 0.153895\n",
            "Train Epoch: 1 [44160/60000 (74%)]\tLoss: 0.126913\n",
            "Train Epoch: 1 [44800/60000 (75%)]\tLoss: 0.163321\n",
            "Train Epoch: 1 [45440/60000 (76%)]\tLoss: 0.180999\n",
            "Train Epoch: 1 [46080/60000 (77%)]\tLoss: 0.256524\n",
            "Train Epoch: 1 [46720/60000 (78%)]\tLoss: 0.131576\n",
            "Train Epoch: 1 [47360/60000 (79%)]\tLoss: 0.230732\n",
            "Train Epoch: 1 [48000/60000 (80%)]\tLoss: 0.403513\n",
            "Train Epoch: 1 [48640/60000 (81%)]\tLoss: 0.146778\n",
            "Train Epoch: 1 [49280/60000 (82%)]\tLoss: 0.122118\n",
            "Train Epoch: 1 [49920/60000 (83%)]\tLoss: 0.256554\n",
            "Train Epoch: 1 [50560/60000 (84%)]\tLoss: 0.271236\n",
            "Train Epoch: 1 [51200/60000 (85%)]\tLoss: 0.240420\n",
            "Train Epoch: 1 [51840/60000 (86%)]\tLoss: 0.265123\n",
            "Train Epoch: 1 [52480/60000 (87%)]\tLoss: 0.152717\n",
            "Train Epoch: 1 [53120/60000 (88%)]\tLoss: 0.436251\n",
            "Train Epoch: 1 [53760/60000 (90%)]\tLoss: 0.190447\n",
            "Train Epoch: 1 [54400/60000 (91%)]\tLoss: 0.232781\n",
            "Train Epoch: 1 [55040/60000 (92%)]\tLoss: 0.128786\n",
            "Train Epoch: 1 [55680/60000 (93%)]\tLoss: 0.176770\n",
            "Train Epoch: 1 [56320/60000 (94%)]\tLoss: 0.175832\n",
            "Train Epoch: 1 [56960/60000 (95%)]\tLoss: 0.138598\n",
            "Train Epoch: 1 [57600/60000 (96%)]\tLoss: 0.071361\n",
            "Train Epoch: 1 [58240/60000 (97%)]\tLoss: 0.142993\n",
            "Train Epoch: 1 [58880/60000 (98%)]\tLoss: 0.234366\n",
            "Train Epoch: 1 [59520/60000 (99%)]\tLoss: 0.209756\n"
          ]
        },
        {
          "output_type": "stream",
          "name": "stderr",
          "text": [
            "<ipython-input-10-f52337105c2a>:6: UserWarning: volatile was removed and now has no effect. Use `with torch.no_grad():` instead.\n",
            "  data, target = Variable(data, volatile=True), Variable(target)\n",
            "/usr/local/lib/python3.10/dist-packages/torch/nn/_reduction.py:42: UserWarning: size_average and reduce args will be deprecated, please use reduction='sum' instead.\n",
            "  warnings.warn(warning.format(ret))\n"
          ]
        },
        {
          "output_type": "stream",
          "name": "stdout",
          "text": [
            "\n",
            "Test set: Average loss: 0.1864, Accuracy: 9447/10000 (94%)\n",
            "\n",
            "Train Epoch: 2 [0/60000 (0%)]\tLoss: 0.173064\n",
            "Train Epoch: 2 [640/60000 (1%)]\tLoss: 0.030447\n",
            "Train Epoch: 2 [1280/60000 (2%)]\tLoss: 0.113774\n",
            "Train Epoch: 2 [1920/60000 (3%)]\tLoss: 0.104233\n",
            "Train Epoch: 2 [2560/60000 (4%)]\tLoss: 0.156383\n",
            "Train Epoch: 2 [3200/60000 (5%)]\tLoss: 0.134238\n",
            "Train Epoch: 2 [3840/60000 (6%)]\tLoss: 0.162788\n",
            "Train Epoch: 2 [4480/60000 (7%)]\tLoss: 0.289906\n",
            "Train Epoch: 2 [5120/60000 (9%)]\tLoss: 0.164436\n",
            "Train Epoch: 2 [5760/60000 (10%)]\tLoss: 0.126052\n",
            "Train Epoch: 2 [6400/60000 (11%)]\tLoss: 0.145450\n",
            "Train Epoch: 2 [7040/60000 (12%)]\tLoss: 0.173237\n",
            "Train Epoch: 2 [7680/60000 (13%)]\tLoss: 0.173301\n",
            "Train Epoch: 2 [8320/60000 (14%)]\tLoss: 0.256671\n",
            "Train Epoch: 2 [8960/60000 (15%)]\tLoss: 0.125322\n",
            "Train Epoch: 2 [9600/60000 (16%)]\tLoss: 0.111044\n",
            "Train Epoch: 2 [10240/60000 (17%)]\tLoss: 0.146597\n",
            "Train Epoch: 2 [10880/60000 (18%)]\tLoss: 0.178909\n",
            "Train Epoch: 2 [11520/60000 (19%)]\tLoss: 0.192429\n",
            "Train Epoch: 2 [12160/60000 (20%)]\tLoss: 0.226078\n",
            "Train Epoch: 2 [12800/60000 (21%)]\tLoss: 0.222415\n",
            "Train Epoch: 2 [13440/60000 (22%)]\tLoss: 0.295885\n",
            "Train Epoch: 2 [14080/60000 (23%)]\tLoss: 0.136700\n",
            "Train Epoch: 2 [14720/60000 (25%)]\tLoss: 0.157140\n",
            "Train Epoch: 2 [15360/60000 (26%)]\tLoss: 0.077989\n",
            "Train Epoch: 2 [16000/60000 (27%)]\tLoss: 0.136002\n",
            "Train Epoch: 2 [16640/60000 (28%)]\tLoss: 0.275008\n",
            "Train Epoch: 2 [17280/60000 (29%)]\tLoss: 0.282741\n",
            "Train Epoch: 2 [17920/60000 (30%)]\tLoss: 0.112671\n",
            "Train Epoch: 2 [18560/60000 (31%)]\tLoss: 0.117363\n",
            "Train Epoch: 2 [19200/60000 (32%)]\tLoss: 0.135170\n",
            "Train Epoch: 2 [19840/60000 (33%)]\tLoss: 0.267277\n",
            "Train Epoch: 2 [20480/60000 (34%)]\tLoss: 0.209524\n",
            "Train Epoch: 2 [21120/60000 (35%)]\tLoss: 0.101900\n",
            "Train Epoch: 2 [21760/60000 (36%)]\tLoss: 0.074099\n",
            "Train Epoch: 2 [22400/60000 (37%)]\tLoss: 0.182266\n",
            "Train Epoch: 2 [23040/60000 (38%)]\tLoss: 0.192082\n",
            "Train Epoch: 2 [23680/60000 (39%)]\tLoss: 0.114172\n",
            "Train Epoch: 2 [24320/60000 (41%)]\tLoss: 0.092134\n",
            "Train Epoch: 2 [24960/60000 (42%)]\tLoss: 0.137204\n",
            "Train Epoch: 2 [25600/60000 (43%)]\tLoss: 0.076882\n",
            "Train Epoch: 2 [26240/60000 (44%)]\tLoss: 0.165739\n",
            "Train Epoch: 2 [26880/60000 (45%)]\tLoss: 0.192528\n",
            "Train Epoch: 2 [27520/60000 (46%)]\tLoss: 0.028776\n",
            "Train Epoch: 2 [28160/60000 (47%)]\tLoss: 0.152591\n",
            "Train Epoch: 2 [28800/60000 (48%)]\tLoss: 0.093463\n",
            "Train Epoch: 2 [29440/60000 (49%)]\tLoss: 0.083424\n",
            "Train Epoch: 2 [30080/60000 (50%)]\tLoss: 0.139215\n",
            "Train Epoch: 2 [30720/60000 (51%)]\tLoss: 0.127336\n",
            "Train Epoch: 2 [31360/60000 (52%)]\tLoss: 0.054709\n",
            "Train Epoch: 2 [32000/60000 (53%)]\tLoss: 0.168695\n",
            "Train Epoch: 2 [32640/60000 (54%)]\tLoss: 0.242910\n",
            "Train Epoch: 2 [33280/60000 (55%)]\tLoss: 0.233712\n",
            "Train Epoch: 2 [33920/60000 (57%)]\tLoss: 0.058918\n",
            "Train Epoch: 2 [34560/60000 (58%)]\tLoss: 0.347066\n",
            "Train Epoch: 2 [35200/60000 (59%)]\tLoss: 0.111013\n",
            "Train Epoch: 2 [35840/60000 (60%)]\tLoss: 0.220711\n",
            "Train Epoch: 2 [36480/60000 (61%)]\tLoss: 0.193008\n",
            "Train Epoch: 2 [37120/60000 (62%)]\tLoss: 0.186006\n",
            "Train Epoch: 2 [37760/60000 (63%)]\tLoss: 0.369755\n",
            "Train Epoch: 2 [38400/60000 (64%)]\tLoss: 0.054476\n",
            "Train Epoch: 2 [39040/60000 (65%)]\tLoss: 0.074395\n",
            "Train Epoch: 2 [39680/60000 (66%)]\tLoss: 0.174371\n",
            "Train Epoch: 2 [40320/60000 (67%)]\tLoss: 0.038786\n",
            "Train Epoch: 2 [40960/60000 (68%)]\tLoss: 0.172752\n",
            "Train Epoch: 2 [41600/60000 (69%)]\tLoss: 0.238927\n",
            "Train Epoch: 2 [42240/60000 (70%)]\tLoss: 0.082962\n",
            "Train Epoch: 2 [42880/60000 (71%)]\tLoss: 0.032855\n",
            "Train Epoch: 2 [43520/60000 (72%)]\tLoss: 0.247954\n",
            "Train Epoch: 2 [44160/60000 (74%)]\tLoss: 0.038067\n",
            "Train Epoch: 2 [44800/60000 (75%)]\tLoss: 0.224274\n",
            "Train Epoch: 2 [45440/60000 (76%)]\tLoss: 0.078602\n",
            "Train Epoch: 2 [46080/60000 (77%)]\tLoss: 0.103118\n",
            "Train Epoch: 2 [46720/60000 (78%)]\tLoss: 0.098607\n",
            "Train Epoch: 2 [47360/60000 (79%)]\tLoss: 0.120065\n",
            "Train Epoch: 2 [48000/60000 (80%)]\tLoss: 0.183571\n",
            "Train Epoch: 2 [48640/60000 (81%)]\tLoss: 0.181581\n",
            "Train Epoch: 2 [49280/60000 (82%)]\tLoss: 0.133141\n",
            "Train Epoch: 2 [49920/60000 (83%)]\tLoss: 0.044648\n",
            "Train Epoch: 2 [50560/60000 (84%)]\tLoss: 0.152483\n",
            "Train Epoch: 2 [51200/60000 (85%)]\tLoss: 0.255512\n",
            "Train Epoch: 2 [51840/60000 (86%)]\tLoss: 0.088418\n",
            "Train Epoch: 2 [52480/60000 (87%)]\tLoss: 0.045880\n",
            "Train Epoch: 2 [53120/60000 (88%)]\tLoss: 0.111811\n",
            "Train Epoch: 2 [53760/60000 (90%)]\tLoss: 0.157050\n",
            "Train Epoch: 2 [54400/60000 (91%)]\tLoss: 0.115328\n",
            "Train Epoch: 2 [55040/60000 (92%)]\tLoss: 0.074696\n",
            "Train Epoch: 2 [55680/60000 (93%)]\tLoss: 0.203757\n",
            "Train Epoch: 2 [56320/60000 (94%)]\tLoss: 0.155952\n",
            "Train Epoch: 2 [56960/60000 (95%)]\tLoss: 0.098613\n",
            "Train Epoch: 2 [57600/60000 (96%)]\tLoss: 0.159689\n",
            "Train Epoch: 2 [58240/60000 (97%)]\tLoss: 0.049768\n",
            "Train Epoch: 2 [58880/60000 (98%)]\tLoss: 0.103592\n",
            "Train Epoch: 2 [59520/60000 (99%)]\tLoss: 0.172219\n",
            "\n",
            "Test set: Average loss: 0.1378, Accuracy: 9570/10000 (96%)\n",
            "\n",
            "Train Epoch: 3 [0/60000 (0%)]\tLoss: 0.157498\n",
            "Train Epoch: 3 [640/60000 (1%)]\tLoss: 0.044778\n",
            "Train Epoch: 3 [1280/60000 (2%)]\tLoss: 0.028091\n",
            "Train Epoch: 3 [1920/60000 (3%)]\tLoss: 0.089566\n",
            "Train Epoch: 3 [2560/60000 (4%)]\tLoss: 0.097561\n",
            "Train Epoch: 3 [3200/60000 (5%)]\tLoss: 0.225639\n",
            "Train Epoch: 3 [3840/60000 (6%)]\tLoss: 0.450939\n",
            "Train Epoch: 3 [4480/60000 (7%)]\tLoss: 0.103176\n",
            "Train Epoch: 3 [5120/60000 (9%)]\tLoss: 0.110261\n",
            "Train Epoch: 3 [5760/60000 (10%)]\tLoss: 0.084612\n",
            "Train Epoch: 3 [6400/60000 (11%)]\tLoss: 0.082899\n",
            "Train Epoch: 3 [7040/60000 (12%)]\tLoss: 0.086912\n",
            "Train Epoch: 3 [7680/60000 (13%)]\tLoss: 0.045637\n",
            "Train Epoch: 3 [8320/60000 (14%)]\tLoss: 0.128868\n",
            "Train Epoch: 3 [8960/60000 (15%)]\tLoss: 0.088176\n",
            "Train Epoch: 3 [9600/60000 (16%)]\tLoss: 0.075170\n",
            "Train Epoch: 3 [10240/60000 (17%)]\tLoss: 0.152497\n",
            "Train Epoch: 3 [10880/60000 (18%)]\tLoss: 0.216820\n",
            "Train Epoch: 3 [11520/60000 (19%)]\tLoss: 0.101185\n",
            "Train Epoch: 3 [12160/60000 (20%)]\tLoss: 0.056714\n",
            "Train Epoch: 3 [12800/60000 (21%)]\tLoss: 0.035382\n",
            "Train Epoch: 3 [13440/60000 (22%)]\tLoss: 0.110359\n",
            "Train Epoch: 3 [14080/60000 (23%)]\tLoss: 0.032515\n",
            "Train Epoch: 3 [14720/60000 (25%)]\tLoss: 0.060686\n",
            "Train Epoch: 3 [15360/60000 (26%)]\tLoss: 0.086435\n",
            "Train Epoch: 3 [16000/60000 (27%)]\tLoss: 0.187767\n",
            "Train Epoch: 3 [16640/60000 (28%)]\tLoss: 0.070730\n",
            "Train Epoch: 3 [17280/60000 (29%)]\tLoss: 0.081541\n",
            "Train Epoch: 3 [17920/60000 (30%)]\tLoss: 0.105333\n",
            "Train Epoch: 3 [18560/60000 (31%)]\tLoss: 0.046767\n",
            "Train Epoch: 3 [19200/60000 (32%)]\tLoss: 0.079598\n",
            "Train Epoch: 3 [19840/60000 (33%)]\tLoss: 0.152373\n",
            "Train Epoch: 3 [20480/60000 (34%)]\tLoss: 0.086455\n",
            "Train Epoch: 3 [21120/60000 (35%)]\tLoss: 0.156253\n",
            "Train Epoch: 3 [21760/60000 (36%)]\tLoss: 0.114759\n",
            "Train Epoch: 3 [22400/60000 (37%)]\tLoss: 0.026383\n",
            "Train Epoch: 3 [23040/60000 (38%)]\tLoss: 0.093027\n",
            "Train Epoch: 3 [23680/60000 (39%)]\tLoss: 0.086208\n",
            "Train Epoch: 3 [24320/60000 (41%)]\tLoss: 0.111208\n",
            "Train Epoch: 3 [24960/60000 (42%)]\tLoss: 0.084877\n",
            "Train Epoch: 3 [25600/60000 (43%)]\tLoss: 0.435258\n",
            "Train Epoch: 3 [26240/60000 (44%)]\tLoss: 0.118636\n",
            "Train Epoch: 3 [26880/60000 (45%)]\tLoss: 0.090411\n",
            "Train Epoch: 3 [27520/60000 (46%)]\tLoss: 0.157764\n",
            "Train Epoch: 3 [28160/60000 (47%)]\tLoss: 0.106150\n",
            "Train Epoch: 3 [28800/60000 (48%)]\tLoss: 0.148992\n",
            "Train Epoch: 3 [29440/60000 (49%)]\tLoss: 0.072556\n",
            "Train Epoch: 3 [30080/60000 (50%)]\tLoss: 0.209984\n",
            "Train Epoch: 3 [30720/60000 (51%)]\tLoss: 0.099591\n",
            "Train Epoch: 3 [31360/60000 (52%)]\tLoss: 0.178176\n",
            "Train Epoch: 3 [32000/60000 (53%)]\tLoss: 0.126514\n",
            "Train Epoch: 3 [32640/60000 (54%)]\tLoss: 0.230703\n",
            "Train Epoch: 3 [33280/60000 (55%)]\tLoss: 0.269098\n",
            "Train Epoch: 3 [33920/60000 (57%)]\tLoss: 0.117059\n",
            "Train Epoch: 3 [34560/60000 (58%)]\tLoss: 0.098362\n",
            "Train Epoch: 3 [35200/60000 (59%)]\tLoss: 0.250059\n",
            "Train Epoch: 3 [35840/60000 (60%)]\tLoss: 0.023378\n",
            "Train Epoch: 3 [36480/60000 (61%)]\tLoss: 0.058081\n",
            "Train Epoch: 3 [37120/60000 (62%)]\tLoss: 0.108954\n",
            "Train Epoch: 3 [37760/60000 (63%)]\tLoss: 0.066411\n",
            "Train Epoch: 3 [38400/60000 (64%)]\tLoss: 0.035049\n",
            "Train Epoch: 3 [39040/60000 (65%)]\tLoss: 0.213279\n",
            "Train Epoch: 3 [39680/60000 (66%)]\tLoss: 0.063532\n",
            "Train Epoch: 3 [40320/60000 (67%)]\tLoss: 0.068824\n",
            "Train Epoch: 3 [40960/60000 (68%)]\tLoss: 0.102634\n",
            "Train Epoch: 3 [41600/60000 (69%)]\tLoss: 0.115198\n",
            "Train Epoch: 3 [42240/60000 (70%)]\tLoss: 0.201856\n",
            "Train Epoch: 3 [42880/60000 (71%)]\tLoss: 0.110897\n",
            "Train Epoch: 3 [43520/60000 (72%)]\tLoss: 0.180842\n",
            "Train Epoch: 3 [44160/60000 (74%)]\tLoss: 0.023275\n",
            "Train Epoch: 3 [44800/60000 (75%)]\tLoss: 0.059975\n",
            "Train Epoch: 3 [45440/60000 (76%)]\tLoss: 0.160721\n",
            "Train Epoch: 3 [46080/60000 (77%)]\tLoss: 0.040384\n",
            "Train Epoch: 3 [46720/60000 (78%)]\tLoss: 0.114300\n",
            "Train Epoch: 3 [47360/60000 (79%)]\tLoss: 0.182975\n",
            "Train Epoch: 3 [48000/60000 (80%)]\tLoss: 0.057114\n",
            "Train Epoch: 3 [48640/60000 (81%)]\tLoss: 0.055122\n",
            "Train Epoch: 3 [49280/60000 (82%)]\tLoss: 0.141467\n",
            "Train Epoch: 3 [49920/60000 (83%)]\tLoss: 0.131566\n",
            "Train Epoch: 3 [50560/60000 (84%)]\tLoss: 0.084983\n",
            "Train Epoch: 3 [51200/60000 (85%)]\tLoss: 0.219999\n",
            "Train Epoch: 3 [51840/60000 (86%)]\tLoss: 0.067123\n",
            "Train Epoch: 3 [52480/60000 (87%)]\tLoss: 0.053354\n",
            "Train Epoch: 3 [53120/60000 (88%)]\tLoss: 0.036950\n",
            "Train Epoch: 3 [53760/60000 (90%)]\tLoss: 0.074767\n",
            "Train Epoch: 3 [54400/60000 (91%)]\tLoss: 0.185587\n",
            "Train Epoch: 3 [55040/60000 (92%)]\tLoss: 0.107849\n",
            "Train Epoch: 3 [55680/60000 (93%)]\tLoss: 0.027876\n",
            "Train Epoch: 3 [56320/60000 (94%)]\tLoss: 0.020682\n",
            "Train Epoch: 3 [56960/60000 (95%)]\tLoss: 0.233103\n",
            "Train Epoch: 3 [57600/60000 (96%)]\tLoss: 0.138719\n",
            "Train Epoch: 3 [58240/60000 (97%)]\tLoss: 0.159390\n",
            "Train Epoch: 3 [58880/60000 (98%)]\tLoss: 0.048767\n",
            "Train Epoch: 3 [59520/60000 (99%)]\tLoss: 0.162387\n",
            "\n",
            "Test set: Average loss: 0.0860, Accuracy: 9727/10000 (97%)\n",
            "\n",
            "Train Epoch: 4 [0/60000 (0%)]\tLoss: 0.168822\n",
            "Train Epoch: 4 [640/60000 (1%)]\tLoss: 0.037730\n",
            "Train Epoch: 4 [1280/60000 (2%)]\tLoss: 0.115246\n",
            "Train Epoch: 4 [1920/60000 (3%)]\tLoss: 0.095509\n",
            "Train Epoch: 4 [2560/60000 (4%)]\tLoss: 0.059558\n",
            "Train Epoch: 4 [3200/60000 (5%)]\tLoss: 0.112372\n",
            "Train Epoch: 4 [3840/60000 (6%)]\tLoss: 0.047415\n",
            "Train Epoch: 4 [4480/60000 (7%)]\tLoss: 0.040645\n",
            "Train Epoch: 4 [5120/60000 (9%)]\tLoss: 0.108824\n",
            "Train Epoch: 4 [5760/60000 (10%)]\tLoss: 0.151617\n",
            "Train Epoch: 4 [6400/60000 (11%)]\tLoss: 0.057594\n",
            "Train Epoch: 4 [7040/60000 (12%)]\tLoss: 0.054908\n",
            "Train Epoch: 4 [7680/60000 (13%)]\tLoss: 0.145963\n",
            "Train Epoch: 4 [8320/60000 (14%)]\tLoss: 0.066243\n",
            "Train Epoch: 4 [8960/60000 (15%)]\tLoss: 0.071303\n",
            "Train Epoch: 4 [9600/60000 (16%)]\tLoss: 0.175025\n",
            "Train Epoch: 4 [10240/60000 (17%)]\tLoss: 0.041600\n",
            "Train Epoch: 4 [10880/60000 (18%)]\tLoss: 0.042556\n",
            "Train Epoch: 4 [11520/60000 (19%)]\tLoss: 0.092095\n",
            "Train Epoch: 4 [12160/60000 (20%)]\tLoss: 0.043289\n",
            "Train Epoch: 4 [12800/60000 (21%)]\tLoss: 0.043951\n",
            "Train Epoch: 4 [13440/60000 (22%)]\tLoss: 0.029840\n",
            "Train Epoch: 4 [14080/60000 (23%)]\tLoss: 0.129716\n",
            "Train Epoch: 4 [14720/60000 (25%)]\tLoss: 0.089756\n",
            "Train Epoch: 4 [15360/60000 (26%)]\tLoss: 0.116983\n",
            "Train Epoch: 4 [16000/60000 (27%)]\tLoss: 0.090115\n",
            "Train Epoch: 4 [16640/60000 (28%)]\tLoss: 0.027893\n",
            "Train Epoch: 4 [17280/60000 (29%)]\tLoss: 0.118236\n",
            "Train Epoch: 4 [17920/60000 (30%)]\tLoss: 0.161083\n",
            "Train Epoch: 4 [18560/60000 (31%)]\tLoss: 0.088651\n",
            "Train Epoch: 4 [19200/60000 (32%)]\tLoss: 0.124257\n",
            "Train Epoch: 4 [19840/60000 (33%)]\tLoss: 0.112528\n",
            "Train Epoch: 4 [20480/60000 (34%)]\tLoss: 0.111446\n",
            "Train Epoch: 4 [21120/60000 (35%)]\tLoss: 0.092414\n",
            "Train Epoch: 4 [21760/60000 (36%)]\tLoss: 0.051345\n",
            "Train Epoch: 4 [22400/60000 (37%)]\tLoss: 0.062554\n",
            "Train Epoch: 4 [23040/60000 (38%)]\tLoss: 0.157890\n",
            "Train Epoch: 4 [23680/60000 (39%)]\tLoss: 0.020484\n",
            "Train Epoch: 4 [24320/60000 (41%)]\tLoss: 0.041001\n",
            "Train Epoch: 4 [24960/60000 (42%)]\tLoss: 0.067049\n",
            "Train Epoch: 4 [25600/60000 (43%)]\tLoss: 0.033089\n",
            "Train Epoch: 4 [26240/60000 (44%)]\tLoss: 0.086715\n",
            "Train Epoch: 4 [26880/60000 (45%)]\tLoss: 0.059131\n",
            "Train Epoch: 4 [27520/60000 (46%)]\tLoss: 0.057669\n",
            "Train Epoch: 4 [28160/60000 (47%)]\tLoss: 0.028164\n",
            "Train Epoch: 4 [28800/60000 (48%)]\tLoss: 0.082729\n",
            "Train Epoch: 4 [29440/60000 (49%)]\tLoss: 0.036622\n",
            "Train Epoch: 4 [30080/60000 (50%)]\tLoss: 0.099328\n",
            "Train Epoch: 4 [30720/60000 (51%)]\tLoss: 0.052347\n",
            "Train Epoch: 4 [31360/60000 (52%)]\tLoss: 0.196634\n",
            "Train Epoch: 4 [32000/60000 (53%)]\tLoss: 0.093056\n",
            "Train Epoch: 4 [32640/60000 (54%)]\tLoss: 0.046766\n",
            "Train Epoch: 4 [33280/60000 (55%)]\tLoss: 0.184466\n",
            "Train Epoch: 4 [33920/60000 (57%)]\tLoss: 0.039319\n",
            "Train Epoch: 4 [34560/60000 (58%)]\tLoss: 0.057328\n",
            "Train Epoch: 4 [35200/60000 (59%)]\tLoss: 0.125174\n",
            "Train Epoch: 4 [35840/60000 (60%)]\tLoss: 0.064746\n",
            "Train Epoch: 4 [36480/60000 (61%)]\tLoss: 0.033867\n",
            "Train Epoch: 4 [37120/60000 (62%)]\tLoss: 0.032354\n",
            "Train Epoch: 4 [37760/60000 (63%)]\tLoss: 0.046937\n",
            "Train Epoch: 4 [38400/60000 (64%)]\tLoss: 0.067161\n",
            "Train Epoch: 4 [39040/60000 (65%)]\tLoss: 0.030291\n",
            "Train Epoch: 4 [39680/60000 (66%)]\tLoss: 0.137378\n",
            "Train Epoch: 4 [40320/60000 (67%)]\tLoss: 0.134861\n",
            "Train Epoch: 4 [40960/60000 (68%)]\tLoss: 0.040241\n",
            "Train Epoch: 4 [41600/60000 (69%)]\tLoss: 0.024585\n",
            "Train Epoch: 4 [42240/60000 (70%)]\tLoss: 0.029211\n",
            "Train Epoch: 4 [42880/60000 (71%)]\tLoss: 0.036657\n",
            "Train Epoch: 4 [43520/60000 (72%)]\tLoss: 0.085964\n",
            "Train Epoch: 4 [44160/60000 (74%)]\tLoss: 0.104920\n",
            "Train Epoch: 4 [44800/60000 (75%)]\tLoss: 0.121007\n",
            "Train Epoch: 4 [45440/60000 (76%)]\tLoss: 0.211392\n",
            "Train Epoch: 4 [46080/60000 (77%)]\tLoss: 0.053144\n",
            "Train Epoch: 4 [46720/60000 (78%)]\tLoss: 0.068158\n",
            "Train Epoch: 4 [47360/60000 (79%)]\tLoss: 0.056298\n",
            "Train Epoch: 4 [48000/60000 (80%)]\tLoss: 0.019314\n",
            "Train Epoch: 4 [48640/60000 (81%)]\tLoss: 0.088635\n",
            "Train Epoch: 4 [49280/60000 (82%)]\tLoss: 0.092620\n",
            "Train Epoch: 4 [49920/60000 (83%)]\tLoss: 0.082750\n",
            "Train Epoch: 4 [50560/60000 (84%)]\tLoss: 0.017809\n",
            "Train Epoch: 4 [51200/60000 (85%)]\tLoss: 0.045012\n",
            "Train Epoch: 4 [51840/60000 (86%)]\tLoss: 0.039570\n",
            "Train Epoch: 4 [52480/60000 (87%)]\tLoss: 0.135402\n",
            "Train Epoch: 4 [53120/60000 (88%)]\tLoss: 0.079316\n",
            "Train Epoch: 4 [53760/60000 (90%)]\tLoss: 0.089507\n",
            "Train Epoch: 4 [54400/60000 (91%)]\tLoss: 0.130325\n",
            "Train Epoch: 4 [55040/60000 (92%)]\tLoss: 0.068390\n",
            "Train Epoch: 4 [55680/60000 (93%)]\tLoss: 0.098264\n",
            "Train Epoch: 4 [56320/60000 (94%)]\tLoss: 0.064248\n",
            "Train Epoch: 4 [56960/60000 (95%)]\tLoss: 0.008748\n",
            "Train Epoch: 4 [57600/60000 (96%)]\tLoss: 0.083343\n",
            "Train Epoch: 4 [58240/60000 (97%)]\tLoss: 0.168952\n",
            "Train Epoch: 4 [58880/60000 (98%)]\tLoss: 0.093992\n",
            "Train Epoch: 4 [59520/60000 (99%)]\tLoss: 0.039406\n",
            "\n",
            "Test set: Average loss: 0.0718, Accuracy: 9769/10000 (98%)\n",
            "\n",
            "Train Epoch: 5 [0/60000 (0%)]\tLoss: 0.238422\n",
            "Train Epoch: 5 [640/60000 (1%)]\tLoss: 0.055056\n",
            "Train Epoch: 5 [1280/60000 (2%)]\tLoss: 0.029730\n",
            "Train Epoch: 5 [1920/60000 (3%)]\tLoss: 0.031657\n",
            "Train Epoch: 5 [2560/60000 (4%)]\tLoss: 0.028101\n",
            "Train Epoch: 5 [3200/60000 (5%)]\tLoss: 0.120028\n",
            "Train Epoch: 5 [3840/60000 (6%)]\tLoss: 0.047707\n",
            "Train Epoch: 5 [4480/60000 (7%)]\tLoss: 0.048971\n",
            "Train Epoch: 5 [5120/60000 (9%)]\tLoss: 0.096373\n",
            "Train Epoch: 5 [5760/60000 (10%)]\tLoss: 0.068513\n",
            "Train Epoch: 5 [6400/60000 (11%)]\tLoss: 0.076657\n",
            "Train Epoch: 5 [7040/60000 (12%)]\tLoss: 0.060082\n",
            "Train Epoch: 5 [7680/60000 (13%)]\tLoss: 0.133058\n",
            "Train Epoch: 5 [8320/60000 (14%)]\tLoss: 0.157767\n",
            "Train Epoch: 5 [8960/60000 (15%)]\tLoss: 0.191749\n",
            "Train Epoch: 5 [9600/60000 (16%)]\tLoss: 0.110351\n",
            "Train Epoch: 5 [10240/60000 (17%)]\tLoss: 0.006066\n",
            "Train Epoch: 5 [10880/60000 (18%)]\tLoss: 0.068007\n",
            "Train Epoch: 5 [11520/60000 (19%)]\tLoss: 0.035553\n",
            "Train Epoch: 5 [12160/60000 (20%)]\tLoss: 0.025609\n",
            "Train Epoch: 5 [12800/60000 (21%)]\tLoss: 0.053128\n",
            "Train Epoch: 5 [13440/60000 (22%)]\tLoss: 0.181377\n",
            "Train Epoch: 5 [14080/60000 (23%)]\tLoss: 0.006243\n",
            "Train Epoch: 5 [14720/60000 (25%)]\tLoss: 0.214228\n",
            "Train Epoch: 5 [15360/60000 (26%)]\tLoss: 0.038991\n",
            "Train Epoch: 5 [16000/60000 (27%)]\tLoss: 0.040370\n",
            "Train Epoch: 5 [16640/60000 (28%)]\tLoss: 0.043049\n",
            "Train Epoch: 5 [17280/60000 (29%)]\tLoss: 0.036772\n",
            "Train Epoch: 5 [17920/60000 (30%)]\tLoss: 0.119471\n",
            "Train Epoch: 5 [18560/60000 (31%)]\tLoss: 0.040490\n",
            "Train Epoch: 5 [19200/60000 (32%)]\tLoss: 0.110692\n",
            "Train Epoch: 5 [19840/60000 (33%)]\tLoss: 0.050987\n",
            "Train Epoch: 5 [20480/60000 (34%)]\tLoss: 0.191326\n",
            "Train Epoch: 5 [21120/60000 (35%)]\tLoss: 0.040237\n",
            "Train Epoch: 5 [21760/60000 (36%)]\tLoss: 0.014197\n",
            "Train Epoch: 5 [22400/60000 (37%)]\tLoss: 0.064567\n",
            "Train Epoch: 5 [23040/60000 (38%)]\tLoss: 0.099611\n",
            "Train Epoch: 5 [23680/60000 (39%)]\tLoss: 0.029665\n",
            "Train Epoch: 5 [24320/60000 (41%)]\tLoss: 0.232540\n",
            "Train Epoch: 5 [24960/60000 (42%)]\tLoss: 0.121470\n",
            "Train Epoch: 5 [25600/60000 (43%)]\tLoss: 0.022110\n",
            "Train Epoch: 5 [26240/60000 (44%)]\tLoss: 0.094517\n",
            "Train Epoch: 5 [26880/60000 (45%)]\tLoss: 0.012508\n",
            "Train Epoch: 5 [27520/60000 (46%)]\tLoss: 0.038658\n",
            "Train Epoch: 5 [28160/60000 (47%)]\tLoss: 0.038520\n",
            "Train Epoch: 5 [28800/60000 (48%)]\tLoss: 0.085433\n",
            "Train Epoch: 5 [29440/60000 (49%)]\tLoss: 0.200251\n",
            "Train Epoch: 5 [30080/60000 (50%)]\tLoss: 0.017882\n",
            "Train Epoch: 5 [30720/60000 (51%)]\tLoss: 0.041936\n",
            "Train Epoch: 5 [31360/60000 (52%)]\tLoss: 0.186652\n",
            "Train Epoch: 5 [32000/60000 (53%)]\tLoss: 0.013951\n",
            "Train Epoch: 5 [32640/60000 (54%)]\tLoss: 0.104655\n",
            "Train Epoch: 5 [33280/60000 (55%)]\tLoss: 0.106097\n",
            "Train Epoch: 5 [33920/60000 (57%)]\tLoss: 0.007380\n",
            "Train Epoch: 5 [34560/60000 (58%)]\tLoss: 0.071253\n",
            "Train Epoch: 5 [35200/60000 (59%)]\tLoss: 0.129781\n",
            "Train Epoch: 5 [35840/60000 (60%)]\tLoss: 0.023799\n",
            "Train Epoch: 5 [36480/60000 (61%)]\tLoss: 0.143555\n",
            "Train Epoch: 5 [37120/60000 (62%)]\tLoss: 0.050657\n",
            "Train Epoch: 5 [37760/60000 (63%)]\tLoss: 0.229986\n",
            "Train Epoch: 5 [38400/60000 (64%)]\tLoss: 0.027627\n",
            "Train Epoch: 5 [39040/60000 (65%)]\tLoss: 0.098478\n",
            "Train Epoch: 5 [39680/60000 (66%)]\tLoss: 0.076560\n",
            "Train Epoch: 5 [40320/60000 (67%)]\tLoss: 0.021429\n",
            "Train Epoch: 5 [40960/60000 (68%)]\tLoss: 0.061354\n",
            "Train Epoch: 5 [41600/60000 (69%)]\tLoss: 0.115106\n",
            "Train Epoch: 5 [42240/60000 (70%)]\tLoss: 0.028895\n",
            "Train Epoch: 5 [42880/60000 (71%)]\tLoss: 0.066856\n",
            "Train Epoch: 5 [43520/60000 (72%)]\tLoss: 0.016275\n",
            "Train Epoch: 5 [44160/60000 (74%)]\tLoss: 0.049521\n",
            "Train Epoch: 5 [44800/60000 (75%)]\tLoss: 0.021296\n",
            "Train Epoch: 5 [45440/60000 (76%)]\tLoss: 0.069881\n",
            "Train Epoch: 5 [46080/60000 (77%)]\tLoss: 0.205745\n",
            "Train Epoch: 5 [46720/60000 (78%)]\tLoss: 0.032572\n",
            "Train Epoch: 5 [47360/60000 (79%)]\tLoss: 0.075084\n",
            "Train Epoch: 5 [48000/60000 (80%)]\tLoss: 0.081455\n",
            "Train Epoch: 5 [48640/60000 (81%)]\tLoss: 0.043303\n",
            "Train Epoch: 5 [49280/60000 (82%)]\tLoss: 0.046441\n",
            "Train Epoch: 5 [49920/60000 (83%)]\tLoss: 0.095083\n",
            "Train Epoch: 5 [50560/60000 (84%)]\tLoss: 0.021958\n",
            "Train Epoch: 5 [51200/60000 (85%)]\tLoss: 0.069338\n",
            "Train Epoch: 5 [51840/60000 (86%)]\tLoss: 0.039502\n",
            "Train Epoch: 5 [52480/60000 (87%)]\tLoss: 0.064674\n",
            "Train Epoch: 5 [53120/60000 (88%)]\tLoss: 0.031895\n",
            "Train Epoch: 5 [53760/60000 (90%)]\tLoss: 0.040372\n",
            "Train Epoch: 5 [54400/60000 (91%)]\tLoss: 0.182619\n",
            "Train Epoch: 5 [55040/60000 (92%)]\tLoss: 0.131138\n",
            "Train Epoch: 5 [55680/60000 (93%)]\tLoss: 0.080242\n",
            "Train Epoch: 5 [56320/60000 (94%)]\tLoss: 0.111009\n",
            "Train Epoch: 5 [56960/60000 (95%)]\tLoss: 0.466931\n",
            "Train Epoch: 5 [57600/60000 (96%)]\tLoss: 0.124308\n",
            "Train Epoch: 5 [58240/60000 (97%)]\tLoss: 0.029636\n",
            "Train Epoch: 5 [58880/60000 (98%)]\tLoss: 0.080842\n",
            "Train Epoch: 5 [59520/60000 (99%)]\tLoss: 0.052449\n",
            "\n",
            "Test set: Average loss: 0.0734, Accuracy: 9765/10000 (98%)\n",
            "\n",
            "Train Epoch: 6 [0/60000 (0%)]\tLoss: 0.030772\n",
            "Train Epoch: 6 [640/60000 (1%)]\tLoss: 0.047118\n",
            "Train Epoch: 6 [1280/60000 (2%)]\tLoss: 0.072002\n",
            "Train Epoch: 6 [1920/60000 (3%)]\tLoss: 0.056024\n",
            "Train Epoch: 6 [2560/60000 (4%)]\tLoss: 0.053212\n",
            "Train Epoch: 6 [3200/60000 (5%)]\tLoss: 0.005098\n",
            "Train Epoch: 6 [3840/60000 (6%)]\tLoss: 0.104589\n",
            "Train Epoch: 6 [4480/60000 (7%)]\tLoss: 0.046894\n",
            "Train Epoch: 6 [5120/60000 (9%)]\tLoss: 0.035612\n",
            "Train Epoch: 6 [5760/60000 (10%)]\tLoss: 0.075183\n",
            "Train Epoch: 6 [6400/60000 (11%)]\tLoss: 0.037276\n",
            "Train Epoch: 6 [7040/60000 (12%)]\tLoss: 0.079748\n",
            "Train Epoch: 6 [7680/60000 (13%)]\tLoss: 0.129053\n",
            "Train Epoch: 6 [8320/60000 (14%)]\tLoss: 0.036853\n",
            "Train Epoch: 6 [8960/60000 (15%)]\tLoss: 0.029565\n",
            "Train Epoch: 6 [9600/60000 (16%)]\tLoss: 0.057272\n",
            "Train Epoch: 6 [10240/60000 (17%)]\tLoss: 0.097789\n",
            "Train Epoch: 6 [10880/60000 (18%)]\tLoss: 0.035155\n",
            "Train Epoch: 6 [11520/60000 (19%)]\tLoss: 0.073086\n",
            "Train Epoch: 6 [12160/60000 (20%)]\tLoss: 0.210404\n",
            "Train Epoch: 6 [12800/60000 (21%)]\tLoss: 0.093650\n",
            "Train Epoch: 6 [13440/60000 (22%)]\tLoss: 0.024862\n",
            "Train Epoch: 6 [14080/60000 (23%)]\tLoss: 0.128671\n",
            "Train Epoch: 6 [14720/60000 (25%)]\tLoss: 0.082851\n",
            "Train Epoch: 6 [15360/60000 (26%)]\tLoss: 0.067613\n",
            "Train Epoch: 6 [16000/60000 (27%)]\tLoss: 0.048973\n",
            "Train Epoch: 6 [16640/60000 (28%)]\tLoss: 0.033667\n",
            "Train Epoch: 6 [17280/60000 (29%)]\tLoss: 0.010809\n",
            "Train Epoch: 6 [17920/60000 (30%)]\tLoss: 0.092140\n",
            "Train Epoch: 6 [18560/60000 (31%)]\tLoss: 0.049465\n",
            "Train Epoch: 6 [19200/60000 (32%)]\tLoss: 0.030409\n",
            "Train Epoch: 6 [19840/60000 (33%)]\tLoss: 0.036655\n",
            "Train Epoch: 6 [20480/60000 (34%)]\tLoss: 0.070272\n",
            "Train Epoch: 6 [21120/60000 (35%)]\tLoss: 0.042107\n",
            "Train Epoch: 6 [21760/60000 (36%)]\tLoss: 0.062887\n",
            "Train Epoch: 6 [22400/60000 (37%)]\tLoss: 0.028675\n",
            "Train Epoch: 6 [23040/60000 (38%)]\tLoss: 0.042676\n",
            "Train Epoch: 6 [23680/60000 (39%)]\tLoss: 0.024633\n",
            "Train Epoch: 6 [24320/60000 (41%)]\tLoss: 0.034643\n",
            "Train Epoch: 6 [24960/60000 (42%)]\tLoss: 0.068753\n",
            "Train Epoch: 6 [25600/60000 (43%)]\tLoss: 0.033153\n",
            "Train Epoch: 6 [26240/60000 (44%)]\tLoss: 0.031244\n",
            "Train Epoch: 6 [26880/60000 (45%)]\tLoss: 0.018485\n",
            "Train Epoch: 6 [27520/60000 (46%)]\tLoss: 0.026355\n",
            "Train Epoch: 6 [28160/60000 (47%)]\tLoss: 0.039915\n",
            "Train Epoch: 6 [28800/60000 (48%)]\tLoss: 0.019634\n",
            "Train Epoch: 6 [29440/60000 (49%)]\tLoss: 0.181608\n",
            "Train Epoch: 6 [30080/60000 (50%)]\tLoss: 0.250092\n",
            "Train Epoch: 6 [30720/60000 (51%)]\tLoss: 0.123417\n",
            "Train Epoch: 6 [31360/60000 (52%)]\tLoss: 0.089790\n",
            "Train Epoch: 6 [32000/60000 (53%)]\tLoss: 0.039473\n",
            "Train Epoch: 6 [32640/60000 (54%)]\tLoss: 0.155136\n",
            "Train Epoch: 6 [33280/60000 (55%)]\tLoss: 0.131392\n",
            "Train Epoch: 6 [33920/60000 (57%)]\tLoss: 0.010330\n",
            "Train Epoch: 6 [34560/60000 (58%)]\tLoss: 0.061474\n",
            "Train Epoch: 6 [35200/60000 (59%)]\tLoss: 0.009180\n",
            "Train Epoch: 6 [35840/60000 (60%)]\tLoss: 0.119389\n",
            "Train Epoch: 6 [36480/60000 (61%)]\tLoss: 0.141153\n",
            "Train Epoch: 6 [37120/60000 (62%)]\tLoss: 0.019424\n",
            "Train Epoch: 6 [37760/60000 (63%)]\tLoss: 0.036496\n",
            "Train Epoch: 6 [38400/60000 (64%)]\tLoss: 0.023134\n",
            "Train Epoch: 6 [39040/60000 (65%)]\tLoss: 0.047308\n",
            "Train Epoch: 6 [39680/60000 (66%)]\tLoss: 0.046240\n",
            "Train Epoch: 6 [40320/60000 (67%)]\tLoss: 0.055766\n",
            "Train Epoch: 6 [40960/60000 (68%)]\tLoss: 0.154195\n",
            "Train Epoch: 6 [41600/60000 (69%)]\tLoss: 0.092611\n",
            "Train Epoch: 6 [42240/60000 (70%)]\tLoss: 0.125797\n",
            "Train Epoch: 6 [42880/60000 (71%)]\tLoss: 0.030806\n",
            "Train Epoch: 6 [43520/60000 (72%)]\tLoss: 0.090459\n",
            "Train Epoch: 6 [44160/60000 (74%)]\tLoss: 0.034829\n",
            "Train Epoch: 6 [44800/60000 (75%)]\tLoss: 0.140489\n",
            "Train Epoch: 6 [45440/60000 (76%)]\tLoss: 0.099459\n",
            "Train Epoch: 6 [46080/60000 (77%)]\tLoss: 0.079793\n",
            "Train Epoch: 6 [46720/60000 (78%)]\tLoss: 0.019237\n",
            "Train Epoch: 6 [47360/60000 (79%)]\tLoss: 0.079816\n",
            "Train Epoch: 6 [48000/60000 (80%)]\tLoss: 0.040622\n",
            "Train Epoch: 6 [48640/60000 (81%)]\tLoss: 0.057045\n",
            "Train Epoch: 6 [49280/60000 (82%)]\tLoss: 0.147157\n",
            "Train Epoch: 6 [49920/60000 (83%)]\tLoss: 0.096699\n",
            "Train Epoch: 6 [50560/60000 (84%)]\tLoss: 0.137361\n",
            "Train Epoch: 6 [51200/60000 (85%)]\tLoss: 0.094584\n",
            "Train Epoch: 6 [51840/60000 (86%)]\tLoss: 0.063779\n",
            "Train Epoch: 6 [52480/60000 (87%)]\tLoss: 0.021110\n",
            "Train Epoch: 6 [53120/60000 (88%)]\tLoss: 0.057804\n",
            "Train Epoch: 6 [53760/60000 (90%)]\tLoss: 0.049202\n",
            "Train Epoch: 6 [54400/60000 (91%)]\tLoss: 0.233846\n",
            "Train Epoch: 6 [55040/60000 (92%)]\tLoss: 0.114240\n",
            "Train Epoch: 6 [55680/60000 (93%)]\tLoss: 0.026268\n",
            "Train Epoch: 6 [56320/60000 (94%)]\tLoss: 0.049192\n",
            "Train Epoch: 6 [56960/60000 (95%)]\tLoss: 0.020381\n",
            "Train Epoch: 6 [57600/60000 (96%)]\tLoss: 0.031941\n",
            "Train Epoch: 6 [58240/60000 (97%)]\tLoss: 0.012854\n",
            "Train Epoch: 6 [58880/60000 (98%)]\tLoss: 0.084447\n",
            "Train Epoch: 6 [59520/60000 (99%)]\tLoss: 0.064615\n",
            "\n",
            "Test set: Average loss: 0.0648, Accuracy: 9793/10000 (98%)\n",
            "\n",
            "Train Epoch: 7 [0/60000 (0%)]\tLoss: 0.032704\n",
            "Train Epoch: 7 [640/60000 (1%)]\tLoss: 0.041778\n",
            "Train Epoch: 7 [1280/60000 (2%)]\tLoss: 0.055231\n",
            "Train Epoch: 7 [1920/60000 (3%)]\tLoss: 0.080751\n",
            "Train Epoch: 7 [2560/60000 (4%)]\tLoss: 0.011508\n",
            "Train Epoch: 7 [3200/60000 (5%)]\tLoss: 0.101958\n",
            "Train Epoch: 7 [3840/60000 (6%)]\tLoss: 0.048289\n",
            "Train Epoch: 7 [4480/60000 (7%)]\tLoss: 0.026528\n",
            "Train Epoch: 7 [5120/60000 (9%)]\tLoss: 0.041576\n",
            "Train Epoch: 7 [5760/60000 (10%)]\tLoss: 0.048789\n",
            "Train Epoch: 7 [6400/60000 (11%)]\tLoss: 0.007448\n",
            "Train Epoch: 7 [7040/60000 (12%)]\tLoss: 0.037675\n",
            "Train Epoch: 7 [7680/60000 (13%)]\tLoss: 0.110061\n",
            "Train Epoch: 7 [8320/60000 (14%)]\tLoss: 0.033682\n",
            "Train Epoch: 7 [8960/60000 (15%)]\tLoss: 0.059127\n",
            "Train Epoch: 7 [9600/60000 (16%)]\tLoss: 0.037317\n",
            "Train Epoch: 7 [10240/60000 (17%)]\tLoss: 0.091056\n",
            "Train Epoch: 7 [10880/60000 (18%)]\tLoss: 0.032086\n",
            "Train Epoch: 7 [11520/60000 (19%)]\tLoss: 0.091500\n",
            "Train Epoch: 7 [12160/60000 (20%)]\tLoss: 0.055792\n",
            "Train Epoch: 7 [12800/60000 (21%)]\tLoss: 0.049369\n",
            "Train Epoch: 7 [13440/60000 (22%)]\tLoss: 0.034150\n",
            "Train Epoch: 7 [14080/60000 (23%)]\tLoss: 0.086959\n",
            "Train Epoch: 7 [14720/60000 (25%)]\tLoss: 0.014754\n",
            "Train Epoch: 7 [15360/60000 (26%)]\tLoss: 0.141089\n",
            "Train Epoch: 7 [16000/60000 (27%)]\tLoss: 0.022201\n",
            "Train Epoch: 7 [16640/60000 (28%)]\tLoss: 0.033259\n",
            "Train Epoch: 7 [17280/60000 (29%)]\tLoss: 0.085190\n",
            "Train Epoch: 7 [17920/60000 (30%)]\tLoss: 0.080035\n",
            "Train Epoch: 7 [18560/60000 (31%)]\tLoss: 0.356058\n",
            "Train Epoch: 7 [19200/60000 (32%)]\tLoss: 0.025688\n",
            "Train Epoch: 7 [19840/60000 (33%)]\tLoss: 0.115132\n",
            "Train Epoch: 7 [20480/60000 (34%)]\tLoss: 0.093419\n",
            "Train Epoch: 7 [21120/60000 (35%)]\tLoss: 0.050892\n",
            "Train Epoch: 7 [21760/60000 (36%)]\tLoss: 0.055937\n",
            "Train Epoch: 7 [22400/60000 (37%)]\tLoss: 0.040263\n",
            "Train Epoch: 7 [23040/60000 (38%)]\tLoss: 0.058996\n",
            "Train Epoch: 7 [23680/60000 (39%)]\tLoss: 0.067616\n",
            "Train Epoch: 7 [24320/60000 (41%)]\tLoss: 0.060851\n",
            "Train Epoch: 7 [24960/60000 (42%)]\tLoss: 0.088541\n",
            "Train Epoch: 7 [25600/60000 (43%)]\tLoss: 0.070896\n",
            "Train Epoch: 7 [26240/60000 (44%)]\tLoss: 0.028837\n",
            "Train Epoch: 7 [26880/60000 (45%)]\tLoss: 0.112802\n",
            "Train Epoch: 7 [27520/60000 (46%)]\tLoss: 0.132585\n",
            "Train Epoch: 7 [28160/60000 (47%)]\tLoss: 0.048404\n",
            "Train Epoch: 7 [28800/60000 (48%)]\tLoss: 0.158516\n",
            "Train Epoch: 7 [29440/60000 (49%)]\tLoss: 0.027469\n",
            "Train Epoch: 7 [30080/60000 (50%)]\tLoss: 0.082446\n",
            "Train Epoch: 7 [30720/60000 (51%)]\tLoss: 0.021720\n",
            "Train Epoch: 7 [31360/60000 (52%)]\tLoss: 0.097069\n",
            "Train Epoch: 7 [32000/60000 (53%)]\tLoss: 0.040246\n",
            "Train Epoch: 7 [32640/60000 (54%)]\tLoss: 0.082269\n",
            "Train Epoch: 7 [33280/60000 (55%)]\tLoss: 0.047769\n",
            "Train Epoch: 7 [33920/60000 (57%)]\tLoss: 0.045597\n",
            "Train Epoch: 7 [34560/60000 (58%)]\tLoss: 0.058399\n",
            "Train Epoch: 7 [35200/60000 (59%)]\tLoss: 0.049094\n",
            "Train Epoch: 7 [35840/60000 (60%)]\tLoss: 0.012884\n",
            "Train Epoch: 7 [36480/60000 (61%)]\tLoss: 0.120557\n",
            "Train Epoch: 7 [37120/60000 (62%)]\tLoss: 0.113745\n",
            "Train Epoch: 7 [37760/60000 (63%)]\tLoss: 0.094940\n",
            "Train Epoch: 7 [38400/60000 (64%)]\tLoss: 0.133492\n",
            "Train Epoch: 7 [39040/60000 (65%)]\tLoss: 0.097987\n",
            "Train Epoch: 7 [39680/60000 (66%)]\tLoss: 0.021823\n",
            "Train Epoch: 7 [40320/60000 (67%)]\tLoss: 0.029201\n",
            "Train Epoch: 7 [40960/60000 (68%)]\tLoss: 0.034635\n",
            "Train Epoch: 7 [41600/60000 (69%)]\tLoss: 0.042779\n",
            "Train Epoch: 7 [42240/60000 (70%)]\tLoss: 0.035880\n",
            "Train Epoch: 7 [42880/60000 (71%)]\tLoss: 0.056221\n",
            "Train Epoch: 7 [43520/60000 (72%)]\tLoss: 0.019982\n",
            "Train Epoch: 7 [44160/60000 (74%)]\tLoss: 0.108458\n",
            "Train Epoch: 7 [44800/60000 (75%)]\tLoss: 0.060489\n",
            "Train Epoch: 7 [45440/60000 (76%)]\tLoss: 0.133887\n",
            "Train Epoch: 7 [46080/60000 (77%)]\tLoss: 0.029248\n",
            "Train Epoch: 7 [46720/60000 (78%)]\tLoss: 0.059048\n",
            "Train Epoch: 7 [47360/60000 (79%)]\tLoss: 0.031227\n",
            "Train Epoch: 7 [48000/60000 (80%)]\tLoss: 0.023410\n",
            "Train Epoch: 7 [48640/60000 (81%)]\tLoss: 0.015869\n",
            "Train Epoch: 7 [49280/60000 (82%)]\tLoss: 0.053054\n",
            "Train Epoch: 7 [49920/60000 (83%)]\tLoss: 0.052791\n",
            "Train Epoch: 7 [50560/60000 (84%)]\tLoss: 0.040692\n",
            "Train Epoch: 7 [51200/60000 (85%)]\tLoss: 0.008709\n",
            "Train Epoch: 7 [51840/60000 (86%)]\tLoss: 0.046884\n",
            "Train Epoch: 7 [52480/60000 (87%)]\tLoss: 0.053231\n",
            "Train Epoch: 7 [53120/60000 (88%)]\tLoss: 0.024348\n",
            "Train Epoch: 7 [53760/60000 (90%)]\tLoss: 0.077478\n",
            "Train Epoch: 7 [54400/60000 (91%)]\tLoss: 0.114323\n",
            "Train Epoch: 7 [55040/60000 (92%)]\tLoss: 0.037816\n",
            "Train Epoch: 7 [55680/60000 (93%)]\tLoss: 0.152172\n",
            "Train Epoch: 7 [56320/60000 (94%)]\tLoss: 0.051951\n",
            "Train Epoch: 7 [56960/60000 (95%)]\tLoss: 0.011282\n",
            "Train Epoch: 7 [57600/60000 (96%)]\tLoss: 0.048542\n",
            "Train Epoch: 7 [58240/60000 (97%)]\tLoss: 0.061363\n",
            "Train Epoch: 7 [58880/60000 (98%)]\tLoss: 0.068004\n",
            "Train Epoch: 7 [59520/60000 (99%)]\tLoss: 0.006632\n",
            "\n",
            "Test set: Average loss: 0.0687, Accuracy: 9782/10000 (98%)\n",
            "\n",
            "Train Epoch: 8 [0/60000 (0%)]\tLoss: 0.016794\n",
            "Train Epoch: 8 [640/60000 (1%)]\tLoss: 0.094861\n",
            "Train Epoch: 8 [1280/60000 (2%)]\tLoss: 0.021087\n",
            "Train Epoch: 8 [1920/60000 (3%)]\tLoss: 0.163609\n",
            "Train Epoch: 8 [2560/60000 (4%)]\tLoss: 0.022120\n",
            "Train Epoch: 8 [3200/60000 (5%)]\tLoss: 0.196318\n",
            "Train Epoch: 8 [3840/60000 (6%)]\tLoss: 0.067735\n",
            "Train Epoch: 8 [4480/60000 (7%)]\tLoss: 0.064410\n",
            "Train Epoch: 8 [5120/60000 (9%)]\tLoss: 0.011829\n",
            "Train Epoch: 8 [5760/60000 (10%)]\tLoss: 0.140687\n",
            "Train Epoch: 8 [6400/60000 (11%)]\tLoss: 0.131492\n",
            "Train Epoch: 8 [7040/60000 (12%)]\tLoss: 0.035306\n",
            "Train Epoch: 8 [7680/60000 (13%)]\tLoss: 0.047945\n",
            "Train Epoch: 8 [8320/60000 (14%)]\tLoss: 0.028245\n",
            "Train Epoch: 8 [8960/60000 (15%)]\tLoss: 0.194767\n",
            "Train Epoch: 8 [9600/60000 (16%)]\tLoss: 0.057992\n",
            "Train Epoch: 8 [10240/60000 (17%)]\tLoss: 0.095854\n",
            "Train Epoch: 8 [10880/60000 (18%)]\tLoss: 0.091323\n",
            "Train Epoch: 8 [11520/60000 (19%)]\tLoss: 0.082287\n",
            "Train Epoch: 8 [12160/60000 (20%)]\tLoss: 0.026467\n",
            "Train Epoch: 8 [12800/60000 (21%)]\tLoss: 0.166079\n",
            "Train Epoch: 8 [13440/60000 (22%)]\tLoss: 0.058783\n",
            "Train Epoch: 8 [14080/60000 (23%)]\tLoss: 0.050196\n",
            "Train Epoch: 8 [14720/60000 (25%)]\tLoss: 0.052853\n",
            "Train Epoch: 8 [15360/60000 (26%)]\tLoss: 0.026463\n",
            "Train Epoch: 8 [16000/60000 (27%)]\tLoss: 0.007266\n",
            "Train Epoch: 8 [16640/60000 (28%)]\tLoss: 0.047057\n",
            "Train Epoch: 8 [17280/60000 (29%)]\tLoss: 0.082907\n",
            "Train Epoch: 8 [17920/60000 (30%)]\tLoss: 0.014460\n",
            "Train Epoch: 8 [18560/60000 (31%)]\tLoss: 0.094930\n",
            "Train Epoch: 8 [19200/60000 (32%)]\tLoss: 0.071342\n",
            "Train Epoch: 8 [19840/60000 (33%)]\tLoss: 0.144675\n",
            "Train Epoch: 8 [20480/60000 (34%)]\tLoss: 0.136438\n",
            "Train Epoch: 8 [21120/60000 (35%)]\tLoss: 0.012929\n",
            "Train Epoch: 8 [21760/60000 (36%)]\tLoss: 0.032332\n",
            "Train Epoch: 8 [22400/60000 (37%)]\tLoss: 0.105628\n",
            "Train Epoch: 8 [23040/60000 (38%)]\tLoss: 0.033102\n",
            "Train Epoch: 8 [23680/60000 (39%)]\tLoss: 0.092660\n",
            "Train Epoch: 8 [24320/60000 (41%)]\tLoss: 0.011204\n",
            "Train Epoch: 8 [24960/60000 (42%)]\tLoss: 0.051930\n",
            "Train Epoch: 8 [25600/60000 (43%)]\tLoss: 0.054716\n",
            "Train Epoch: 8 [26240/60000 (44%)]\tLoss: 0.120004\n",
            "Train Epoch: 8 [26880/60000 (45%)]\tLoss: 0.091254\n",
            "Train Epoch: 8 [27520/60000 (46%)]\tLoss: 0.081527\n",
            "Train Epoch: 8 [28160/60000 (47%)]\tLoss: 0.102887\n",
            "Train Epoch: 8 [28800/60000 (48%)]\tLoss: 0.029285\n",
            "Train Epoch: 8 [29440/60000 (49%)]\tLoss: 0.059323\n",
            "Train Epoch: 8 [30080/60000 (50%)]\tLoss: 0.040456\n",
            "Train Epoch: 8 [30720/60000 (51%)]\tLoss: 0.035098\n",
            "Train Epoch: 8 [31360/60000 (52%)]\tLoss: 0.072148\n",
            "Train Epoch: 8 [32000/60000 (53%)]\tLoss: 0.058653\n",
            "Train Epoch: 8 [32640/60000 (54%)]\tLoss: 0.010502\n",
            "Train Epoch: 8 [33280/60000 (55%)]\tLoss: 0.031941\n",
            "Train Epoch: 8 [33920/60000 (57%)]\tLoss: 0.097893\n",
            "Train Epoch: 8 [34560/60000 (58%)]\tLoss: 0.021788\n",
            "Train Epoch: 8 [35200/60000 (59%)]\tLoss: 0.045006\n",
            "Train Epoch: 8 [35840/60000 (60%)]\tLoss: 0.144693\n",
            "Train Epoch: 8 [36480/60000 (61%)]\tLoss: 0.020092\n",
            "Train Epoch: 8 [37120/60000 (62%)]\tLoss: 0.011054\n",
            "Train Epoch: 8 [37760/60000 (63%)]\tLoss: 0.013661\n",
            "Train Epoch: 8 [38400/60000 (64%)]\tLoss: 0.020483\n",
            "Train Epoch: 8 [39040/60000 (65%)]\tLoss: 0.082993\n",
            "Train Epoch: 8 [39680/60000 (66%)]\tLoss: 0.069746\n",
            "Train Epoch: 8 [40320/60000 (67%)]\tLoss: 0.029159\n",
            "Train Epoch: 8 [40960/60000 (68%)]\tLoss: 0.063597\n",
            "Train Epoch: 8 [41600/60000 (69%)]\tLoss: 0.009078\n",
            "Train Epoch: 8 [42240/60000 (70%)]\tLoss: 0.055658\n",
            "Train Epoch: 8 [42880/60000 (71%)]\tLoss: 0.018294\n",
            "Train Epoch: 8 [43520/60000 (72%)]\tLoss: 0.018857\n",
            "Train Epoch: 8 [44160/60000 (74%)]\tLoss: 0.216415\n",
            "Train Epoch: 8 [44800/60000 (75%)]\tLoss: 0.031886\n",
            "Train Epoch: 8 [45440/60000 (76%)]\tLoss: 0.073854\n",
            "Train Epoch: 8 [46080/60000 (77%)]\tLoss: 0.042900\n",
            "Train Epoch: 8 [46720/60000 (78%)]\tLoss: 0.041821\n",
            "Train Epoch: 8 [47360/60000 (79%)]\tLoss: 0.049712\n",
            "Train Epoch: 8 [48000/60000 (80%)]\tLoss: 0.092966\n",
            "Train Epoch: 8 [48640/60000 (81%)]\tLoss: 0.039979\n",
            "Train Epoch: 8 [49280/60000 (82%)]\tLoss: 0.049257\n",
            "Train Epoch: 8 [49920/60000 (83%)]\tLoss: 0.139388\n",
            "Train Epoch: 8 [50560/60000 (84%)]\tLoss: 0.139659\n",
            "Train Epoch: 8 [51200/60000 (85%)]\tLoss: 0.048042\n",
            "Train Epoch: 8 [51840/60000 (86%)]\tLoss: 0.090934\n",
            "Train Epoch: 8 [52480/60000 (87%)]\tLoss: 0.059411\n",
            "Train Epoch: 8 [53120/60000 (88%)]\tLoss: 0.039280\n",
            "Train Epoch: 8 [53760/60000 (90%)]\tLoss: 0.009059\n",
            "Train Epoch: 8 [54400/60000 (91%)]\tLoss: 0.047928\n",
            "Train Epoch: 8 [55040/60000 (92%)]\tLoss: 0.033041\n",
            "Train Epoch: 8 [55680/60000 (93%)]\tLoss: 0.004757\n",
            "Train Epoch: 8 [56320/60000 (94%)]\tLoss: 0.017648\n",
            "Train Epoch: 8 [56960/60000 (95%)]\tLoss: 0.019795\n",
            "Train Epoch: 8 [57600/60000 (96%)]\tLoss: 0.066640\n",
            "Train Epoch: 8 [58240/60000 (97%)]\tLoss: 0.043510\n",
            "Train Epoch: 8 [58880/60000 (98%)]\tLoss: 0.079562\n",
            "Train Epoch: 8 [59520/60000 (99%)]\tLoss: 0.069945\n",
            "\n",
            "Test set: Average loss: 0.0567, Accuracy: 9820/10000 (98%)\n",
            "\n",
            "Train Epoch: 9 [0/60000 (0%)]\tLoss: 0.030601\n",
            "Train Epoch: 9 [640/60000 (1%)]\tLoss: 0.097770\n",
            "Train Epoch: 9 [1280/60000 (2%)]\tLoss: 0.054204\n",
            "Train Epoch: 9 [1920/60000 (3%)]\tLoss: 0.051038\n",
            "Train Epoch: 9 [2560/60000 (4%)]\tLoss: 0.020012\n",
            "Train Epoch: 9 [3200/60000 (5%)]\tLoss: 0.070380\n",
            "Train Epoch: 9 [3840/60000 (6%)]\tLoss: 0.022992\n",
            "Train Epoch: 9 [4480/60000 (7%)]\tLoss: 0.095636\n",
            "Train Epoch: 9 [5120/60000 (9%)]\tLoss: 0.122260\n",
            "Train Epoch: 9 [5760/60000 (10%)]\tLoss: 0.079070\n",
            "Train Epoch: 9 [6400/60000 (11%)]\tLoss: 0.027502\n",
            "Train Epoch: 9 [7040/60000 (12%)]\tLoss: 0.041376\n",
            "Train Epoch: 9 [7680/60000 (13%)]\tLoss: 0.042485\n",
            "Train Epoch: 9 [8320/60000 (14%)]\tLoss: 0.044824\n",
            "Train Epoch: 9 [8960/60000 (15%)]\tLoss: 0.030561\n",
            "Train Epoch: 9 [9600/60000 (16%)]\tLoss: 0.006989\n",
            "Train Epoch: 9 [10240/60000 (17%)]\tLoss: 0.019085\n",
            "Train Epoch: 9 [10880/60000 (18%)]\tLoss: 0.141832\n",
            "Train Epoch: 9 [11520/60000 (19%)]\tLoss: 0.015358\n",
            "Train Epoch: 9 [12160/60000 (20%)]\tLoss: 0.051371\n",
            "Train Epoch: 9 [12800/60000 (21%)]\tLoss: 0.036944\n",
            "Train Epoch: 9 [13440/60000 (22%)]\tLoss: 0.092487\n",
            "Train Epoch: 9 [14080/60000 (23%)]\tLoss: 0.094229\n",
            "Train Epoch: 9 [14720/60000 (25%)]\tLoss: 0.038335\n",
            "Train Epoch: 9 [15360/60000 (26%)]\tLoss: 0.043873\n",
            "Train Epoch: 9 [16000/60000 (27%)]\tLoss: 0.019065\n",
            "Train Epoch: 9 [16640/60000 (28%)]\tLoss: 0.020044\n",
            "Train Epoch: 9 [17280/60000 (29%)]\tLoss: 0.043743\n",
            "Train Epoch: 9 [17920/60000 (30%)]\tLoss: 0.018020\n",
            "Train Epoch: 9 [18560/60000 (31%)]\tLoss: 0.061998\n",
            "Train Epoch: 9 [19200/60000 (32%)]\tLoss: 0.122298\n",
            "Train Epoch: 9 [19840/60000 (33%)]\tLoss: 0.052997\n",
            "Train Epoch: 9 [20480/60000 (34%)]\tLoss: 0.034222\n",
            "Train Epoch: 9 [21120/60000 (35%)]\tLoss: 0.050330\n",
            "Train Epoch: 9 [21760/60000 (36%)]\tLoss: 0.007260\n",
            "Train Epoch: 9 [22400/60000 (37%)]\tLoss: 0.020566\n",
            "Train Epoch: 9 [23040/60000 (38%)]\tLoss: 0.019989\n",
            "Train Epoch: 9 [23680/60000 (39%)]\tLoss: 0.122053\n",
            "Train Epoch: 9 [24320/60000 (41%)]\tLoss: 0.028519\n",
            "Train Epoch: 9 [24960/60000 (42%)]\tLoss: 0.023926\n",
            "Train Epoch: 9 [25600/60000 (43%)]\tLoss: 0.013563\n",
            "Train Epoch: 9 [26240/60000 (44%)]\tLoss: 0.013637\n",
            "Train Epoch: 9 [26880/60000 (45%)]\tLoss: 0.036845\n",
            "Train Epoch: 9 [27520/60000 (46%)]\tLoss: 0.009838\n",
            "Train Epoch: 9 [28160/60000 (47%)]\tLoss: 0.016975\n",
            "Train Epoch: 9 [28800/60000 (48%)]\tLoss: 0.018467\n",
            "Train Epoch: 9 [29440/60000 (49%)]\tLoss: 0.165981\n",
            "Train Epoch: 9 [30080/60000 (50%)]\tLoss: 0.063433\n",
            "Train Epoch: 9 [30720/60000 (51%)]\tLoss: 0.056773\n",
            "Train Epoch: 9 [31360/60000 (52%)]\tLoss: 0.015553\n",
            "Train Epoch: 9 [32000/60000 (53%)]\tLoss: 0.104743\n",
            "Train Epoch: 9 [32640/60000 (54%)]\tLoss: 0.117250\n",
            "Train Epoch: 9 [33280/60000 (55%)]\tLoss: 0.057803\n",
            "Train Epoch: 9 [33920/60000 (57%)]\tLoss: 0.041570\n",
            "Train Epoch: 9 [34560/60000 (58%)]\tLoss: 0.038963\n",
            "Train Epoch: 9 [35200/60000 (59%)]\tLoss: 0.008817\n",
            "Train Epoch: 9 [35840/60000 (60%)]\tLoss: 0.022109\n",
            "Train Epoch: 9 [36480/60000 (61%)]\tLoss: 0.033438\n",
            "Train Epoch: 9 [37120/60000 (62%)]\tLoss: 0.021197\n",
            "Train Epoch: 9 [37760/60000 (63%)]\tLoss: 0.035909\n",
            "Train Epoch: 9 [38400/60000 (64%)]\tLoss: 0.039373\n",
            "Train Epoch: 9 [39040/60000 (65%)]\tLoss: 0.033333\n",
            "Train Epoch: 9 [39680/60000 (66%)]\tLoss: 0.006818\n",
            "Train Epoch: 9 [40320/60000 (67%)]\tLoss: 0.140222\n",
            "Train Epoch: 9 [40960/60000 (68%)]\tLoss: 0.013779\n",
            "Train Epoch: 9 [41600/60000 (69%)]\tLoss: 0.040981\n",
            "Train Epoch: 9 [42240/60000 (70%)]\tLoss: 0.023075\n",
            "Train Epoch: 9 [42880/60000 (71%)]\tLoss: 0.032732\n",
            "Train Epoch: 9 [43520/60000 (72%)]\tLoss: 0.117002\n",
            "Train Epoch: 9 [44160/60000 (74%)]\tLoss: 0.004057\n",
            "Train Epoch: 9 [44800/60000 (75%)]\tLoss: 0.008150\n",
            "Train Epoch: 9 [45440/60000 (76%)]\tLoss: 0.063277\n",
            "Train Epoch: 9 [46080/60000 (77%)]\tLoss: 0.032353\n",
            "Train Epoch: 9 [46720/60000 (78%)]\tLoss: 0.012359\n",
            "Train Epoch: 9 [47360/60000 (79%)]\tLoss: 0.070694\n",
            "Train Epoch: 9 [48000/60000 (80%)]\tLoss: 0.050242\n",
            "Train Epoch: 9 [48640/60000 (81%)]\tLoss: 0.068368\n",
            "Train Epoch: 9 [49280/60000 (82%)]\tLoss: 0.052743\n",
            "Train Epoch: 9 [49920/60000 (83%)]\tLoss: 0.024226\n",
            "Train Epoch: 9 [50560/60000 (84%)]\tLoss: 0.102990\n",
            "Train Epoch: 9 [51200/60000 (85%)]\tLoss: 0.235192\n",
            "Train Epoch: 9 [51840/60000 (86%)]\tLoss: 0.055315\n",
            "Train Epoch: 9 [52480/60000 (87%)]\tLoss: 0.154739\n",
            "Train Epoch: 9 [53120/60000 (88%)]\tLoss: 0.050985\n",
            "Train Epoch: 9 [53760/60000 (90%)]\tLoss: 0.048231\n",
            "Train Epoch: 9 [54400/60000 (91%)]\tLoss: 0.581440\n",
            "Train Epoch: 9 [55040/60000 (92%)]\tLoss: 0.094402\n",
            "Train Epoch: 9 [55680/60000 (93%)]\tLoss: 0.046928\n",
            "Train Epoch: 9 [56320/60000 (94%)]\tLoss: 0.073964\n",
            "Train Epoch: 9 [56960/60000 (95%)]\tLoss: 0.077274\n",
            "Train Epoch: 9 [57600/60000 (96%)]\tLoss: 0.021262\n",
            "Train Epoch: 9 [58240/60000 (97%)]\tLoss: 0.109298\n",
            "Train Epoch: 9 [58880/60000 (98%)]\tLoss: 0.039363\n",
            "Train Epoch: 9 [59520/60000 (99%)]\tLoss: 0.048133\n",
            "\n",
            "Test set: Average loss: 0.0708, Accuracy: 9764/10000 (98%)\n",
            "\n"
          ]
        }
      ]
    }
  ]
}