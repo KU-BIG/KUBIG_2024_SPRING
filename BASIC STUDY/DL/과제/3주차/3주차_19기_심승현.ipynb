{
  "cells": [
    {
      "cell_type": "markdown",
      "metadata": {
        "id": "sgAYo4nrw2F4"
      },
      "source": [
        "# < 3주차 과제 1 : MLP 마음대로 다뤄보기>\n",
        "- dataset을 임의로 선정해서 직접 분석 해보기(제공한 코드를 활용해서 해보기)\n",
        "- activation functions 중 relu사용시 함수 직접 정의\n",
        "- lr, optimizer 등 바꿔보기\n",
        "- hidden layer/neuron 수를 바꾸기\n",
        "- 전처리도 추가\n",
        "- 모든 시도를 올려주세요!\n",
        "- 제일 높은 acc를 보인 시도를 명시해주세요!\n"
      ]
    },
    {
      "cell_type": "code",
      "execution_count": 1,
      "metadata": {
        "id": "fX437IL6qbI-"
      },
      "outputs": [],
      "source": [
        "import torch\n",
        "from torch import nn, optim\n",
        "from sklearn.datasets import load_breast_cancer\n",
        "from torch.utils.data import  TensorDataset, DataLoader\n",
        "from sklearn.model_selection import train_test_split\n",
        "from sklearn.metrics import accuracy_score\n",
        "import numpy as np\n",
        "from sklearn.preprocessing import StandardScaler\n",
        "import matplotlib.pyplot as plt"
      ]
    },
    {
      "cell_type": "markdown",
      "metadata": {
        "id": "oxkFzBDNmWNk"
      },
      "source": [
        "## 아래 데이터셋 중 원하는 데이터셋 하나를 선택하여, 코드 과제 진행하기!\n",
        "- 1) load_digits() <br>\n",
        "- 2) load_wine()\n",
        "\n",
        "#1. breast_cancer dataset (기본 코드 돌려보기)"
      ]
    },
    {
      "cell_type": "code",
      "execution_count": 25,
      "metadata": {
        "id": "FywYbfsKtjcR"
      },
      "outputs": [],
      "source": [
        "# 데이터셋 종류 :\n",
        "data = load_breast_cancer()"
      ]
    },
    {
      "cell_type": "code",
      "execution_count": 26,
      "metadata": {
        "id": "C2P0hqZ9yBGm"
      },
      "outputs": [],
      "source": [
        "input = data.data\n",
        "output = data.target"
      ]
    },
    {
      "cell_type": "code",
      "execution_count": 27,
      "metadata": {
        "colab": {
          "base_uri": "https://localhost:8080/"
        },
        "id": "EaCnflPNngTT",
        "outputId": "a1699b3a-31bf-458c-f21f-ba8534cd7a30"
      },
      "outputs": [
        {
          "name": "stdout",
          "output_type": "stream",
          "text": [
            "(569, 30) (569,)\n"
          ]
        }
      ],
      "source": [
        "print(input.shape, output.shape)"
      ]
    },
    {
      "cell_type": "code",
      "execution_count": 28,
      "metadata": {
        "id": "SggpQfSPt85C"
      },
      "outputs": [],
      "source": [
        "device = 'cuda' if torch.cuda.is_available() else 'cpu'\n",
        "\n",
        "torch.manual_seed(777)\n",
        "if device == \"cuda\":\n",
        "  torch.cuda.manual_seed_all(777)"
      ]
    },
    {
      "cell_type": "code",
      "execution_count": 29,
      "metadata": {
        "id": "bLMzf-2ntYeX"
      },
      "outputs": [],
      "source": [
        "x_train, x_test, y_train, y_test = train_test_split(input, output, test_size = 0.3, random_state = 42, stratify= data.target, shuffle = True)\n",
        "\n",
        "x_train = torch.FloatTensor(x_train).to(device)\n",
        "y_train = torch.LongTensor(y_train).to(device)\n",
        "x_test = torch.FloatTensor(x_test)\n",
        "y_test = torch.LongTensor(y_test)\n",
        "\n",
        "# 데이터를 tensor로 바꿔주고 gpu 연산이 가능해지도록 gpu에 옮김\n",
        "# label 값을 왜 long 에 옮겨놓는가? loss function이 다르기 때문"
      ]
    },
    {
      "cell_type": "code",
      "execution_count": 30,
      "metadata": {
        "colab": {
          "base_uri": "https://localhost:8080/"
        },
        "id": "m20CbKhUCPXg",
        "outputId": "1dc15843-ff31-482e-affa-ee8637c980c7"
      },
      "outputs": [
        {
          "data": {
            "text/plain": [
              "torch.Size([398, 30])"
            ]
          },
          "execution_count": 30,
          "metadata": {},
          "output_type": "execute_result"
        }
      ],
      "source": [
        "x_train.shape"
      ]
    },
    {
      "cell_type": "code",
      "execution_count": 31,
      "metadata": {
        "colab": {
          "base_uri": "https://localhost:8080/"
        },
        "id": "R0X0nljFAQI7",
        "outputId": "c52592ee-b443-486e-fd5f-59c358bf4d79"
      },
      "outputs": [
        {
          "data": {
            "text/plain": [
              "tensor([1, 1, 1, 1, 1, 1, 1, 0, 1, 1, 0, 0, 0, 1, 1, 0, 0, 1, 1, 1, 0, 1, 1, 1,\n",
              "        1, 0, 1, 1, 1, 1, 1, 1, 0, 0, 1, 1, 1, 1, 1, 1, 1, 1, 1, 0, 1, 1, 1, 0,\n",
              "        0, 0, 1, 1, 1, 0, 0, 1, 0, 1, 1, 0, 0, 0, 1, 1, 1, 1, 0, 1, 1, 1, 0, 0,\n",
              "        0, 1, 1, 1, 0, 0, 1, 0, 0, 1, 0, 1, 1, 0, 1, 1, 1, 1, 1, 1, 1, 1, 0, 0,\n",
              "        0, 0, 1, 1, 0, 1, 1, 1, 1, 0, 0, 0, 1, 0, 0, 0, 0, 1, 1, 1, 0, 1, 1, 1,\n",
              "        1, 1, 1, 1, 1, 0, 0, 1, 1, 0, 1, 0, 0, 0, 0, 1, 0, 0, 0, 1, 1, 1, 1, 1,\n",
              "        1, 1, 1, 0, 1, 1, 1, 0, 1, 1, 1, 0, 0, 1, 0, 0, 1, 0, 1, 1, 1, 1, 1, 1,\n",
              "        1, 0, 0, 0, 1, 1, 1, 1, 0, 0, 0, 1, 1, 0, 1, 1, 1, 0, 1, 0, 1, 1, 1, 0,\n",
              "        1, 1, 1, 0, 0, 1, 1, 1, 0, 1, 1, 0, 1, 0, 0, 0, 1, 1, 1, 1, 0, 1, 1, 1,\n",
              "        1, 1, 1, 0, 0, 1, 0, 1, 1, 1, 1, 0, 0, 0, 0, 0, 1, 0, 1, 1, 0, 1, 1, 0,\n",
              "        1, 0, 1, 0, 0, 1, 0, 1, 1, 1, 1, 1, 0, 1, 0, 0, 1, 1, 0, 0, 0, 0, 1, 1,\n",
              "        0, 1, 1, 1, 1, 0, 0, 1, 1, 1, 0, 1, 1, 0, 1, 0, 0, 1, 1, 1, 1, 1, 1, 1,\n",
              "        0, 1, 0, 1, 1, 1, 0, 1, 1, 0, 1, 1, 1, 0, 1, 1, 0, 1, 0, 0, 1, 1, 0, 0,\n",
              "        0, 1, 1, 1, 1, 1, 1, 0, 1, 1, 1, 1, 1, 1, 0, 1, 0, 0, 1, 1, 1, 0, 1, 0,\n",
              "        0, 1, 1, 1, 1, 1, 0, 1, 0, 1, 0, 1, 1, 1, 1, 0, 1, 0, 1, 1, 1, 0, 1, 1,\n",
              "        0, 1, 1, 0, 0, 1, 1, 1, 1, 1, 0, 1, 0, 1, 1, 0, 0, 0, 1, 0, 1, 1, 1, 1,\n",
              "        1, 0, 0, 1, 1, 0, 1, 0, 0, 0, 0, 1, 0, 1], device='cuda:0')"
            ]
          },
          "execution_count": 31,
          "metadata": {},
          "output_type": "execute_result"
        }
      ],
      "source": [
        "y_train"
      ]
    },
    {
      "cell_type": "code",
      "execution_count": 32,
      "metadata": {
        "colab": {
          "base_uri": "https://localhost:8080/"
        },
        "id": "umEdiTZkrVqS",
        "outputId": "124c0682-5eb6-4146-8ec0-5c019a37e9f6"
      },
      "outputs": [
        {
          "name": "stdout",
          "output_type": "stream",
          "text": [
            "tensor([1.1620e+01, 1.8180e+01, 7.6380e+01, 4.0880e+02, 1.1750e-01, 1.4830e-01,\n",
            "        1.0200e-01, 5.5640e-02, 1.9570e-01, 7.2550e-02, 4.1010e-01, 1.7400e+00,\n",
            "        3.0270e+00, 2.7850e+01, 1.4590e-02, 3.2060e-02, 4.9610e-02, 1.8410e-02,\n",
            "        1.8070e-02, 5.2170e-03, 1.3360e+01, 2.5400e+01, 8.8140e+01, 5.2810e+02,\n",
            "        1.7800e-01, 2.8780e-01, 3.1860e-01, 1.4160e-01, 2.6600e-01, 9.2700e-02],\n",
            "       device='cuda:0')\n",
            "tensor(1, device='cuda:0')\n"
          ]
        }
      ],
      "source": [
        "print(x_train[0])\n",
        "print(y_train[0])\n",
        "\n",
        "#input 30개 (속성이 30개)\n",
        "#y의 class는 2개 (양성과 음성)"
      ]
    },
    {
      "cell_type": "markdown",
      "metadata": {
        "id": "combmxzmYFyn"
      },
      "source": [
        "파이토치에서는 데이터셋을 좀 더 쉽게 다룰 수 있도록 유용한 도구로서 torch.utils.data.Dataset과 torch.utils.data.DataLoader를 제공합니다. 이를 사용하면 미니 배치 학습, 데이터 셔플(shuffle), 병렬 처리까지 간단히 수행할 수 있습니다. 기본적인 사용 방법은 Dataset을 정의하고, 이를 DataLoader에 전달하는 것\n",
        "- init : class 에서 객체가 생성되면 바로 실행되는 함수\n",
        "- len : observation 수를 정의하는 함수\n",
        "- getitem : iteration 마다 해당하는 데이터를 돌려주는 함수"
      ]
    },
    {
      "cell_type": "code",
      "execution_count": 33,
      "metadata": {
        "id": "y38TlgXoqV5Z"
      },
      "outputs": [],
      "source": [
        "from torch.utils.data import Dataset\n",
        "class CustomDataset(Dataset):\n",
        "  def __init__(self):\n",
        "    self.x_data = x_train\n",
        "    self.y_data = [[y] for y in y_train] # 리스트 element를 리스트에 넣기 (2차원)\n",
        "#  데이터셋의 전처리를 해주는 부분\n",
        "\n",
        "  def __len__(self):\n",
        "    return len(self.x_data)\n",
        "#  데이터셋의 길이. 즉, 총 샘플의 수를 적어주는 부분\n",
        "\n",
        "  def __getitem__(self, idx):\n",
        "    x = torch.FloatTensor(self.x_data[idx]).to(device)\n",
        "    y = torch.LongTensor(self.y_data[idx]).to(device)\n",
        "#  데이터셋에서 특정 1개의 샘플을 가져오는 함수\n",
        "\n",
        "    return x,y"
      ]
    },
    {
      "cell_type": "code",
      "execution_count": 34,
      "metadata": {
        "id": "x8VHwnuFqino"
      },
      "outputs": [],
      "source": [
        "batch_size = 8\n",
        "\n",
        "dataset = CustomDataset()\n",
        "dataloader = DataLoader(dataset, batch_size=batch_size)"
      ]
    },
    {
      "cell_type": "code",
      "execution_count": 35,
      "metadata": {
        "id": "C6V7a4tyq6Jc"
      },
      "outputs": [],
      "source": [
        "# input_layer와 hidden_layer의 노드 개수를 어떻게 바꿔줘야할까?\n",
        "# hidden layer/neuron 수를 바꾸기\n",
        "\n",
        "# nn.Sequential을 사용하여 레이어를 연결\n",
        "\n",
        "model = nn.Sequential(\n",
        "          nn.Linear(30,398, bias=True),\n",
        "          nn.Sigmoid(),\n",
        "          nn.Linear(398,15, bias=True),\n",
        "          nn.Sigmoid(),\n",
        "          nn.Linear(15,2, bias=True),\n",
        "          nn.Softmax()\n",
        "          ).to(device)"
      ]
    },
    {
      "cell_type": "markdown",
      "metadata": {
        "id": "07uV8RY7Yr_5"
      },
      "source": [
        "class로 구현 가능\n",
        "- init : 초기 생성 함수\n",
        "- foward : 순전파(입력값 => 예측값 의 과정)"
      ]
    },
    {
      "cell_type": "code",
      "execution_count": 36,
      "metadata": {
        "id": "a0zLstbMqxEZ"
      },
      "outputs": [],
      "source": [
        "# nn.Module 클래스로 레이어 개별 호출\n",
        "\n",
        "class Model(torch.nn.Module):\n",
        "\n",
        "  def __init__(self):\n",
        "    super(Model, self).__init__()\n",
        "    self.layer1 = nn.Sequential(\n",
        "          nn.Linear(30,398, bias=True), # input_layer = 30, hidden_layer1 = 398\n",
        "          nn.Sigmoid(),\n",
        "        nn.BatchNorm1d(398)\n",
        "    )\n",
        "  # activation function 이용\n",
        "  #   nn.ReLU()\n",
        "  #   nn.tanH()\n",
        "  #   https://pytorch.org/docs/stable/nn.html 그 외에도 여기서 확인 가능함\n",
        "  #   파라미터가 필요하지 않다는 것이 특징\n",
        "\n",
        "  # batch normazliation 1d, 파라미터 값으로 vector의 길이를 전해줌\n",
        "  # 추후에 이미지를 다루게 된다면, 그때는 batch normalization 2d를 이용하게 됨\n",
        "  # 그때는 파라미터 값으로 채널, 가로, 세로 길이를 전달해주게 됨\n",
        "\n",
        "    self.layer2 = nn.Sequential(\n",
        "          nn.Linear(398,15, bias=True), # hidden_layer1 = 398, hidden_layer2 = 15\n",
        "        nn.Sigmoid()\n",
        "    )\n",
        "    self.layer3 = nn.Sequential(\n",
        "          nn.Linear(15,10, bias=True), # hidden_layer1 = 15, hidden_layer2 = 10\n",
        "        nn.Sigmoid()\n",
        "    )\n",
        "    self.layer4 = nn.Sequential(\n",
        "        nn.Linear(10, 2, bias=True), # hidden_layer3 = 10, output_layer = 2\n",
        "        nn.Softmax()\n",
        "    )\n",
        "\n",
        "  def forward(self,x):\n",
        "    output = self.layer1(x)\n",
        "    output = self.layer2(output)\n",
        "    output = self.layer3(output)\n",
        "    output = self.layer4(output)\n",
        "    return output"
      ]
    },
    {
      "cell_type": "code",
      "execution_count": 37,
      "metadata": {
        "id": "kqcqqkECrSGK"
      },
      "outputs": [],
      "source": [
        "def init_weights(layer):\n",
        "    if isinstance(layer, nn.Linear):\n",
        "        torch.nn.init.xavier_uniform(layer.weight) #Xavier(분포) 초기화: 가중치 초기화 방식\n",
        "        layer.bias.data.fill_(0.01) # bias 모두 0.01로 설정\n",
        "\n",
        "        # 레이어가 선형인 경우 해당 레이어의 가중치를 Xavier uniform 분포로 초기화, 편향을 0.01로 설정\n",
        "\n",
        "        #xavier사용\n",
        "        # Layer의 weight를 어떤 분포를 가지도록 초기화시켜줌+global minimum찾기 위해서"
      ]
    },
    {
      "cell_type": "code",
      "execution_count": 38,
      "metadata": {
        "colab": {
          "base_uri": "https://localhost:8080/"
        },
        "id": "oMDUBFg6rUpw",
        "outputId": "1f426d16-a86e-4969-ee79-d08b954bf0c9"
      },
      "outputs": [
        {
          "name": "stderr",
          "output_type": "stream",
          "text": [
            "<ipython-input-37-43ede08f5ba9>:3: UserWarning: nn.init.xavier_uniform is now deprecated in favor of nn.init.xavier_uniform_.\n",
            "  torch.nn.init.xavier_uniform(layer.weight) #Xavier(분포) 초기화: 가중치 초기화 방식\n"
          ]
        },
        {
          "data": {
            "text/plain": [
              "Model(\n",
              "  (layer1): Sequential(\n",
              "    (0): Linear(in_features=30, out_features=398, bias=True)\n",
              "    (1): Sigmoid()\n",
              "    (2): BatchNorm1d(398, eps=1e-05, momentum=0.1, affine=True, track_running_stats=True)\n",
              "  )\n",
              "  (layer2): Sequential(\n",
              "    (0): Linear(in_features=398, out_features=15, bias=True)\n",
              "    (1): Sigmoid()\n",
              "  )\n",
              "  (layer3): Sequential(\n",
              "    (0): Linear(in_features=15, out_features=10, bias=True)\n",
              "    (1): Sigmoid()\n",
              "  )\n",
              "  (layer4): Sequential(\n",
              "    (0): Linear(in_features=10, out_features=2, bias=True)\n",
              "    (1): Softmax(dim=None)\n",
              "  )\n",
              ")"
            ]
          },
          "execution_count": 38,
          "metadata": {},
          "output_type": "execute_result"
        }
      ],
      "source": [
        "model = Model().to(device)\n",
        "model.apply(init_weights)"
      ]
    },
    {
      "cell_type": "code",
      "execution_count": 39,
      "metadata": {
        "colab": {
          "base_uri": "https://localhost:8080/"
        },
        "id": "OwZt5CetrYFb",
        "outputId": "7e95ebd0-bbf4-4812-82d6-4caadecdd685"
      },
      "outputs": [
        {
          "name": "stdout",
          "output_type": "stream",
          "text": [
            "Model(\n",
            "  (layer1): Sequential(\n",
            "    (0): Linear(in_features=30, out_features=398, bias=True)\n",
            "    (1): Sigmoid()\n",
            "    (2): BatchNorm1d(398, eps=1e-05, momentum=0.1, affine=True, track_running_stats=True)\n",
            "  )\n",
            "  (layer2): Sequential(\n",
            "    (0): Linear(in_features=398, out_features=15, bias=True)\n",
            "    (1): Sigmoid()\n",
            "  )\n",
            "  (layer3): Sequential(\n",
            "    (0): Linear(in_features=15, out_features=10, bias=True)\n",
            "    (1): Sigmoid()\n",
            "  )\n",
            "  (layer4): Sequential(\n",
            "    (0): Linear(in_features=10, out_features=2, bias=True)\n",
            "    (1): Softmax(dim=None)\n",
            "  )\n",
            ")\n"
          ]
        }
      ],
      "source": [
        "print(model)"
      ]
    },
    {
      "cell_type": "code",
      "execution_count": 40,
      "metadata": {
        "id": "AYFp-eTErh7b"
      },
      "outputs": [],
      "source": [
        "loss_fn  = nn.CrossEntropyLoss().to(device)\n",
        "\n",
        "# 여러가지 optimizer 시도해보기\n",
        "# lr 바꿔보기\n",
        "\n",
        "\n",
        "optimizer = optim.Adam(model.parameters(), lr= 0.01)\n",
        "\n",
        "# https://pytorch.org/docs/stable/optim.html#module-torch.optim 페이지 참조\n",
        "# optimizer = optim.SGD(model.parameters(), lr=0.1, momentum=0.9)\n",
        "# sgd 등등"
      ]
    },
    {
      "cell_type": "code",
      "execution_count": 41,
      "metadata": {
        "colab": {
          "base_uri": "https://localhost:8080/"
        },
        "id": "90QxHvlIrjS7",
        "outputId": "a7e239ff-77b6-4161-b5e1-832272191b65"
      },
      "outputs": [
        {
          "name": "stderr",
          "output_type": "stream",
          "text": [
            "/usr/local/lib/python3.10/dist-packages/torch/nn/modules/module.py:1518: UserWarning: Implicit dimension choice for softmax has been deprecated. Change the call to include dim=X as an argument.\n",
            "  return self._call_impl(*args, **kwargs)\n"
          ]
        },
        {
          "name": "stdout",
          "output_type": "stream",
          "text": [
            "0 0.7273460030555725\n",
            "10 0.5359482765197754\n",
            "20 0.4567549526691437\n",
            "30 0.41432684659957886\n",
            "40 0.40345442295074463\n",
            "50 0.40749630331993103\n",
            "60 0.385957807302475\n",
            "70 0.39281052350997925\n",
            "80 0.39470788836479187\n",
            "90 0.39987218379974365\n"
          ]
        }
      ],
      "source": [
        "losses = []\n",
        "for epoch in range(100):\n",
        "\n",
        "  optimizer.zero_grad()\n",
        "  hypothesis = model(x_train)\n",
        "\n",
        "  # 비용 함수\n",
        "  cost = loss_fn(hypothesis, y_train)\n",
        "  cost.backward()\n",
        "  optimizer.step()\n",
        "  losses.append(cost.item())\n",
        "\n",
        "  if epoch % 10 == 0:   # 10 에폭마다 출력\n",
        "    print(epoch, cost.item())"
      ]
    },
    {
      "cell_type": "code",
      "execution_count": 42,
      "metadata": {
        "colab": {
          "base_uri": "https://localhost:8080/",
          "height": 430
        },
        "id": "81ASYrW7roFM",
        "outputId": "9365706e-256f-4222-cc01-7b117934e17f"
      },
      "outputs": [
        {
          "data": {
            "image/png": "[encoded data removed]",
            "text/plain": [
              "<Figure size 640x480 with 1 Axes>"
            ]
          },
          "metadata": {},
          "output_type": "display_data"
        }
      ],
      "source": [
        "plt.plot(losses)\n",
        "plt.show()\n",
        "\n",
        "# 로스값이 좀 튐,,,"
      ]
    },
    {
      "cell_type": "code",
      "execution_count": 43,
      "metadata": {
        "id": "h4kJzpLErqhZ"
      },
      "outputs": [],
      "source": [
        "with torch.no_grad():\n",
        "  model = model.to('cpu')\n",
        "  y_pred = model(x_test) # x_test로 예측값\n",
        "  y_pred = y_pred.detach().numpy()\n",
        "  predicted = np.argmax(y_pred, axis =1) # 예측값에서 각 샘플에 대한 클래스(가장 높은 확률을 갖는 클래스)를 추출\n",
        "  accuracy = (accuracy_score(predicted, y_test)) # 예측값과 실제 레이블(y_test)을 비교"
      ]
    },
    {
      "cell_type": "code",
      "execution_count": 44,
      "metadata": {
        "colab": {
          "base_uri": "https://localhost:8080/"
        },
        "id": "vyIKhs3Nr6Ay",
        "outputId": "b868cd32-c22c-4679-bdeb-f58996bcd4b0"
      },
      "outputs": [
        {
          "name": "stdout",
          "output_type": "stream",
          "text": [
            "model의 output은 :  [0.00430986 0.99569017]\n",
            "argmax를 한 후의 output은 1\n",
            "accuracy는 0.9064327485380117\n"
          ]
        }
      ],
      "source": [
        "print(f'model의 output은 :  {y_pred[0]}') # 1 값의 확률이 99.6%\n",
        "print(f'argmax를 한 후의 output은 {predicted[0]}') # 따라서 argmax 출력이 1\n",
        "print(f'accuracy는 {accuracy}')"
      ]
    },
    {
      "cell_type": "markdown",
      "metadata": {
        "id": "j25bQnUkTwFI"
      },
      "source": [
        "# 2. wine dataset\n",
        "1) activation function: `relu`\n",
        "\n",
        "optimizer: `adam`\n",
        "\n",
        "*   `lr = 0.01`\n",
        "\n",
        "accuracy는 0.9814814814814815 ⭐️️️️️️️️️️️️"
      ]
    },
    {
      "cell_type": "code",
      "execution_count": 96,
      "metadata": {
        "id": "DFv5aYdLTGJL"
      },
      "outputs": [],
      "source": [
        "# 데이터셋 종류 : load_wine\n",
        "from sklearn.datasets import load_wine\n",
        "data = load_wine()"
      ]
    },
    {
      "cell_type": "code",
      "execution_count": 97,
      "metadata": {
        "id": "9KprhMroT2MA"
      },
      "outputs": [],
      "source": [
        "input = data.data\n",
        "output = data.target"
      ]
    },
    {
      "cell_type": "code",
      "execution_count": 98,
      "metadata": {
        "colab": {
          "base_uri": "https://localhost:8080/"
        },
        "id": "8lB8tG7zT7Um",
        "outputId": "dc6141d7-48e0-4c0a-abc9-383eac8a158c"
      },
      "outputs": [
        {
          "name": "stdout",
          "output_type": "stream",
          "text": [
            "(178, 13) (178,)\n"
          ]
        }
      ],
      "source": [
        "print(input.shape, output.shape)"
      ]
    },
    {
      "cell_type": "code",
      "execution_count": 99,
      "metadata": {
        "colab": {
          "base_uri": "https://localhost:8080/"
        },
        "id": "sY0x-JZTUAGJ",
        "outputId": "263e8258-3a01-4848-8151-39006f2c898f"
      },
      "outputs": [
        {
          "name": "stdout",
          "output_type": "stream",
          "text": [
            "[1.316e+01 2.360e+00 2.670e+00 1.860e+01 1.010e+02 2.800e+00 3.240e+00\n",
            " 3.000e-01 2.810e+00 5.680e+00 1.030e+00 3.170e+00 1.185e+03] 0\n"
          ]
        }
      ],
      "source": [
        "print(input[2], output[2])"
      ]
    },
    {
      "cell_type": "code",
      "execution_count": 100,
      "metadata": {
        "colab": {
          "base_uri": "https://localhost:8080/"
        },
        "id": "qhBzcIMCUJD4",
        "outputId": "1b810167-0d6d-46f6-be2a-ddf780d62ba4"
      },
      "outputs": [
        {
          "data": {
            "text/plain": [
              "array([0, 0, 0, 0, 0, 0, 0, 0, 0, 0, 0, 0, 0, 0, 0, 0, 0, 0, 0, 0, 0, 0,\n",
              "       0, 0, 0, 0, 0, 0, 0, 0, 0, 0, 0, 0, 0, 0, 0, 0, 0, 0, 0, 0, 0, 0,\n",
              "       0, 0, 0, 0, 0, 0, 0, 0, 0, 0, 0, 0, 0, 0, 0, 1, 1, 1, 1, 1, 1, 1,\n",
              "       1, 1, 1, 1, 1, 1, 1, 1, 1, 1, 1, 1, 1, 1, 1, 1, 1, 1, 1, 1, 1, 1,\n",
              "       1, 1, 1, 1, 1, 1, 1, 1, 1, 1, 1, 1, 1, 1, 1, 1, 1, 1, 1, 1, 1, 1,\n",
              "       1, 1, 1, 1, 1, 1, 1, 1, 1, 1, 1, 1, 1, 1, 1, 1, 1, 1, 1, 1, 2, 2,\n",
              "       2, 2, 2, 2, 2, 2, 2, 2, 2, 2, 2, 2, 2, 2, 2, 2, 2, 2, 2, 2, 2, 2,\n",
              "       2, 2, 2, 2, 2, 2, 2, 2, 2, 2, 2, 2, 2, 2, 2, 2, 2, 2, 2, 2, 2, 2,\n",
              "       2, 2])"
            ]
          },
          "execution_count": 100,
          "metadata": {},
          "output_type": "execute_result"
        }
      ],
      "source": [
        "output # 클래스 0, 1, 2 (3개)"
      ]
    },
    {
      "cell_type": "code",
      "execution_count": 101,
      "metadata": {
        "id": "xQhPA3fIT6O3"
      },
      "outputs": [],
      "source": [
        "device = 'cuda' if torch.cuda.is_available() else 'cpu'\n",
        "\n",
        "torch.manual_seed(777)\n",
        "if device == \"cuda\":\n",
        "  torch.cuda.manual_seed_all(777)"
      ]
    },
    {
      "cell_type": "code",
      "execution_count": 102,
      "metadata": {
        "id": "YoL5A7WtT6Qs"
      },
      "outputs": [],
      "source": [
        "x_train, x_test, y_train, y_test = train_test_split(input, output, test_size = 0.3, random_state = 42, stratify= data.target, shuffle = True)\n",
        "\n",
        "x_train = torch.FloatTensor(x_train).to(device)\n",
        "y_train = torch.LongTensor(y_train).to(device)\n",
        "x_test = torch.FloatTensor(x_test)\n",
        "y_test = torch.LongTensor(y_test)\n",
        "\n",
        "# 데이터를 tensor로 바꿔주고 gpu 연산이 가능해지도록 gpu에 옮김\n",
        "# label 값을 왜 long 에 옮겨놓는가? loss function이 다르기 때문"
      ]
    },
    {
      "cell_type": "code",
      "execution_count": 103,
      "metadata": {
        "colab": {
          "base_uri": "https://localhost:8080/"
        },
        "id": "Lyoq5mLpJzRq",
        "outputId": "20a7d3db-324e-4c9f-b725-bfc7eb67969b"
      },
      "outputs": [
        {
          "name": "stdout",
          "output_type": "stream",
          "text": [
            "torch.Size([124, 13]) torch.Size([124])\n"
          ]
        }
      ],
      "source": [
        "print(x_train.shape, y_train.shape)"
      ]
    },
    {
      "cell_type": "code",
      "execution_count": 104,
      "metadata": {
        "id": "mzY7V2LtT6TB"
      },
      "outputs": [],
      "source": [
        "from torch.utils.data import Dataset\n",
        "class CustomDataset(Dataset):\n",
        "  def __init__(self):\n",
        "    self.x_data = x_train\n",
        "    self.y_data = [[y] for y in y_train]\n",
        "#  데이터셋의 전처리를 해주는 부분\n",
        "\n",
        "  def __len__(self):\n",
        "    return len(self.x_data)\n",
        "#  데이터셋의 길이. 즉, 총 샘플의 수를 적어주는 부분\n",
        "\n",
        "  def __getitem__(self, idx):\n",
        "    x = torch.FloatTensor(self.x_data[idx]).to(device)\n",
        "    y = torch.LongTensor(self.y_data[idx]).to(device)\n",
        "#  데이터셋에서 특정 1개의 샘플을 가져오는 함수\n",
        "\n",
        "    return x,y"
      ]
    },
    {
      "cell_type": "code",
      "execution_count": 105,
      "metadata": {
        "id": "HNLU7E7wT6Vp"
      },
      "outputs": [],
      "source": [
        "batch_size = 8\n",
        "\n",
        "dataset = CustomDataset()\n",
        "dataloader = DataLoader(dataset, batch_size=batch_size)"
      ]
    },
    {
      "cell_type": "code",
      "execution_count": 106,
      "metadata": {
        "colab": {
          "base_uri": "https://localhost:8080/",
          "height": 35
        },
        "id": "Z3j1xgdvNIe_",
        "outputId": "52d20cc7-6df7-4cd9-aa15-1648b3cdefb7"
      },
      "outputs": [
        {
          "data": {
            "application/vnd.google.colaboratory.intrinsic+json": {
              "type": "string"
            },
            "text/plain": [
              "'\\n지금까지 기본코드\\n'"
            ]
          },
          "execution_count": 106,
          "metadata": {},
          "output_type": "execute_result"
        }
      ],
      "source": [
        "'''\n",
        "지금까지 기본코드\n",
        "'''"
      ]
    },
    {
      "cell_type": "code",
      "execution_count": 55,
      "metadata": {
        "id": "Qtq4vX9uT6YO"
      },
      "outputs": [],
      "source": [
        "# input_layer와 hidden_layer의 노드 개수를 어떻게 바꿔줘야할까?\n",
        "# hidden layer/neuron 수를 바꾸기\n",
        "\n",
        "model = nn.Sequential(\n",
        "          nn.Linear(13,124, bias=True),\n",
        "          nn.Sigmoid(),\n",
        "          nn.Linear(124,60, bias=True),\n",
        "          nn.Sigmoid(),\n",
        "          nn.Linear(60,15, bias=True),\n",
        "          nn.Sigmoid(),\n",
        "          nn.Linear(15,3, bias=True),\n",
        "          nn.Softmax()\n",
        "          ).to(device)"
      ]
    },
    {
      "cell_type": "code",
      "execution_count": 56,
      "metadata": {
        "id": "ElhQXs3uUjBJ"
      },
      "outputs": [],
      "source": [
        "# 활성화 함수로 relu 사용, 1번 3번 layer에 추가\n",
        "\n",
        "class Model(torch.nn.Module):\n",
        "\n",
        "    def __init__(self):\n",
        "        super(Model, self).__init__()\n",
        "        self.layer1 = nn.Sequential(\n",
        "            nn.Linear(13, 124, bias=True),\n",
        "            nn.ReLU(),  # ReLU 활성화 함수 사용\n",
        "            nn.BatchNorm1d(124)\n",
        "        )\n",
        "        self.layer2 = nn.Sequential(\n",
        "            nn.Linear(124, 60, bias=True),\n",
        "        )\n",
        "        self.layer3 = nn.Sequential(\n",
        "            nn.Linear(60, 15, bias=True),\n",
        "            nn.ReLU()\n",
        "        )\n",
        "        self.layer4 = nn.Sequential(\n",
        "            nn.Linear(15, 3, bias=True),\n",
        "            nn.Softmax()\n",
        "        )\n",
        "\n",
        "    def forward(self, x):\n",
        "        output = self.layer1(x)\n",
        "        output = self.layer2(output)\n",
        "        output = self.layer3(output)\n",
        "        output = self.layer4(output)\n",
        "        return output\n"
      ]
    },
    {
      "cell_type": "code",
      "execution_count": null,
      "metadata": {
        "id": "YEjd3W3MRIkW"
      },
      "outputs": [],
      "source": [
        "# relu 직접 정의\n",
        "'''\n",
        "import torch.nn.functional as F\n",
        "\n",
        "# relu 함수 정의\n",
        "def relu(x):\n",
        "    return torch.maximum(torch.tensor(0, dtype=torch.float), x)\n",
        "\n",
        "class Model(torch.nn.Module):\n",
        "\n",
        "    def __init__(self):\n",
        "        super(Model, self).__init__()\n",
        "        self.layer1 = nn.Sequential(\n",
        "            nn.Linear(13, 124, bias=True),\n",
        "            nn.BatchNorm1d(124)\n",
        "        )\n",
        "        self.layer2 = nn.Sequential(\n",
        "            nn.Linear(124, 60, bias=True)\n",
        "        )\n",
        "        self.layer3 = nn.Sequential(\n",
        "            nn.Linear(60, 15, bias=True)\n",
        "        )\n",
        "        self.layer4 = nn.Sequential(\n",
        "            nn.Linear(15, 3, bias=True),\n",
        "            nn.Softmax()\n",
        "        )\n",
        "\n",
        "    def forward(self, x):\n",
        "        output = relu(self.layer1(x))\n",
        "        output = self.layer2(output)\n",
        "        output = relu(self.layer3(output))\n",
        "        output = self.layer4(output)\n",
        "        return output\n",
        "\n",
        "'''"
      ]
    },
    {
      "cell_type": "code",
      "execution_count": 58,
      "metadata": {
        "id": "v_DA9bwaUjDA"
      },
      "outputs": [],
      "source": [
        "def init_weights(layer):\n",
        "    if isinstance(layer, nn.Linear):\n",
        "        torch.nn.init.xavier_uniform(layer.weight)\n",
        "        layer.bias.data.fill_(0.01)\n",
        "\n",
        "        #xavier사용\n",
        "        # Layer의 weight를 어떤 분포를 가지도록 초기화시켜줌+global minimum찾기 위해서"
      ]
    },
    {
      "cell_type": "code",
      "execution_count": 59,
      "metadata": {
        "colab": {
          "base_uri": "https://localhost:8080/"
        },
        "id": "yGhCPVAfVK4T",
        "outputId": "795bd9d1-188d-41d5-b96f-c17469bed372"
      },
      "outputs": [
        {
          "name": "stderr",
          "output_type": "stream",
          "text": [
            "<ipython-input-58-6196a47a4462>:3: UserWarning: nn.init.xavier_uniform is now deprecated in favor of nn.init.xavier_uniform_.\n",
            "  torch.nn.init.xavier_uniform(layer.weight)\n"
          ]
        },
        {
          "data": {
            "text/plain": [
              "Model(\n",
              "  (layer1): Sequential(\n",
              "    (0): Linear(in_features=13, out_features=124, bias=True)\n",
              "    (1): ReLU()\n",
              "    (2): BatchNorm1d(124, eps=1e-05, momentum=0.1, affine=True, track_running_stats=True)\n",
              "  )\n",
              "  (layer2): Sequential(\n",
              "    (0): Linear(in_features=124, out_features=60, bias=True)\n",
              "  )\n",
              "  (layer3): Sequential(\n",
              "    (0): Linear(in_features=60, out_features=15, bias=True)\n",
              "    (1): ReLU()\n",
              "  )\n",
              "  (layer4): Sequential(\n",
              "    (0): Linear(in_features=15, out_features=3, bias=True)\n",
              "    (1): Softmax(dim=None)\n",
              "  )\n",
              ")"
            ]
          },
          "execution_count": 59,
          "metadata": {},
          "output_type": "execute_result"
        }
      ],
      "source": [
        "model = Model().to(device)\n",
        "model.apply(init_weights)"
      ]
    },
    {
      "cell_type": "code",
      "execution_count": 60,
      "metadata": {
        "colab": {
          "base_uri": "https://localhost:8080/"
        },
        "id": "xfZ63n9bVK6z",
        "outputId": "36d4c9ee-5d96-404e-b872-6bf84e94ca45"
      },
      "outputs": [
        {
          "name": "stdout",
          "output_type": "stream",
          "text": [
            "Model(\n",
            "  (layer1): Sequential(\n",
            "    (0): Linear(in_features=13, out_features=124, bias=True)\n",
            "    (1): ReLU()\n",
            "    (2): BatchNorm1d(124, eps=1e-05, momentum=0.1, affine=True, track_running_stats=True)\n",
            "  )\n",
            "  (layer2): Sequential(\n",
            "    (0): Linear(in_features=124, out_features=60, bias=True)\n",
            "  )\n",
            "  (layer3): Sequential(\n",
            "    (0): Linear(in_features=60, out_features=15, bias=True)\n",
            "    (1): ReLU()\n",
            "  )\n",
            "  (layer4): Sequential(\n",
            "    (0): Linear(in_features=15, out_features=3, bias=True)\n",
            "    (1): Softmax(dim=None)\n",
            "  )\n",
            ")\n"
          ]
        }
      ],
      "source": [
        "print(model)"
      ]
    },
    {
      "cell_type": "code",
      "execution_count": 61,
      "metadata": {
        "id": "hifNfgY3VK8y"
      },
      "outputs": [],
      "source": [
        "loss_fn  = nn.CrossEntropyLoss().to(device)\n",
        "\n",
        "# 여러가지 optimizer 시도해보기\n",
        "# lr 바꿔보기\n",
        "\n",
        "\n",
        "optimizer = optim.Adam(model.parameters(), lr= 0.01)\n",
        "\n",
        "# https://pytorch.org/docs/stable/optim.html#module-torch.optim 페이지 참조\n",
        "# optimizer = optim.SGD(model.parameters(), lr=0.1, momentum=0.9)\n",
        "# AdamW, Adagrad, RMSprop"
      ]
    },
    {
      "cell_type": "code",
      "execution_count": 62,
      "metadata": {
        "colab": {
          "base_uri": "https://localhost:8080/"
        },
        "id": "hUNamh0ZVK-2",
        "outputId": "dade1936-30a2-4b54-f038-6a7b0eb6b153"
      },
      "outputs": [
        {
          "name": "stderr",
          "output_type": "stream",
          "text": [
            "/usr/local/lib/python3.10/dist-packages/torch/nn/modules/module.py:1518: UserWarning: Implicit dimension choice for softmax has been deprecated. Change the call to include dim=X as an argument.\n",
            "  return self._call_impl(*args, **kwargs)\n"
          ]
        },
        {
          "name": "stdout",
          "output_type": "stream",
          "text": [
            "0 1.085267424583435\n",
            "10 0.801482081413269\n",
            "20 0.6523782014846802\n",
            "30 0.6064810752868652\n",
            "40 0.6000143885612488\n",
            "50 0.5978390574455261\n",
            "60 0.5906633734703064\n",
            "70 0.5862557291984558\n",
            "80 0.5811596512794495\n",
            "90 0.5629099011421204\n"
          ]
        }
      ],
      "source": [
        "losses = []\n",
        "for epoch in range(100):\n",
        "\n",
        "  optimizer.zero_grad()\n",
        "  hypothesis = model(x_train)\n",
        "\n",
        "  # 비용 함수\n",
        "  cost = loss_fn(hypothesis, y_train)\n",
        "  cost.backward()\n",
        "  optimizer.step()\n",
        "  losses.append(cost.item())\n",
        "\n",
        "  if epoch % 10 == 0:\n",
        "    print(epoch, cost.item())"
      ]
    },
    {
      "cell_type": "code",
      "execution_count": 63,
      "metadata": {
        "colab": {
          "base_uri": "https://localhost:8080/",
          "height": 430
        },
        "id": "Ay9B_x08VLBQ",
        "outputId": "b6eaaab9-dfb5-4791-be5b-c9535032e7c0"
      },
      "outputs": [
        {
          "data": {
            "image/png": "[encoded data removed]",
            "text/plain": [
              "<Figure size 640x480 with 1 Axes>"
            ]
          },
          "metadata": {},
          "output_type": "display_data"
        }
      ],
      "source": [
        "plt.plot(losses)\n",
        "plt.show()\n"
      ]
    },
    {
      "cell_type": "code",
      "execution_count": 64,
      "metadata": {
        "id": "Rq1T2-KHUjFD"
      },
      "outputs": [],
      "source": [
        "with torch.no_grad():\n",
        "  model = model.to('cpu')\n",
        "  y_pred = model(x_test)\n",
        "  y_pred = y_pred.detach().numpy()\n",
        "  predicted = np.argmax(y_pred, axis =1)\n",
        "  accuracy = (accuracy_score(predicted, y_test))"
      ]
    },
    {
      "cell_type": "code",
      "execution_count": 65,
      "metadata": {
        "colab": {
          "base_uri": "https://localhost:8080/"
        },
        "id": "JOS8iVTmVewu",
        "outputId": "3a39c73d-fb7f-4de8-c2c7-08259aca1164"
      },
      "outputs": [
        {
          "name": "stdout",
          "output_type": "stream",
          "text": [
            "model의 output은 :  [1.0000000e+00 7.2151563e-17 4.2131884e-10]\n",
            "argmax를 한 후의 output은 0\n",
            "accuracy는 0.9814814814814815\n"
          ]
        }
      ],
      "source": [
        "print(f'model의 output은 :  {y_pred[0]}')\n",
        "print(f'argmax를 한 후의 output은 {predicted[0]}')\n",
        "print(f'accuracy는 {accuracy}')"
      ]
    },
    {
      "cell_type": "markdown",
      "metadata": {
        "id": "7j3pB3fmMHcD"
      },
      "source": [
        "# 2. wine dataset\n",
        "2) activation function: `relu`\n",
        "\n",
        "optimizer: `adam`\n",
        "\n",
        "*   `lr = 0.05`\n",
        "\n",
        "accuracy는 0.7222222222222222"
      ]
    },
    {
      "cell_type": "code",
      "execution_count": 76,
      "metadata": {
        "id": "bVhg5_D1MJcE"
      },
      "outputs": [],
      "source": [
        "# 활성화 함수로 relu 사용, 1번 3번 layer에 추가\n",
        "\n",
        "class Model(torch.nn.Module):\n",
        "\n",
        "    def __init__(self):\n",
        "        super(Model, self).__init__()\n",
        "        self.layer1 = nn.Sequential(\n",
        "            nn.Linear(13, 124, bias=True),\n",
        "            nn.ReLU(),  # ReLU 활성화 함수 사용\n",
        "            nn.BatchNorm1d(124)\n",
        "        )\n",
        "        self.layer2 = nn.Sequential(\n",
        "            nn.Linear(124, 60, bias=True),\n",
        "        )\n",
        "        self.layer3 = nn.Sequential(\n",
        "            nn.Linear(60, 15, bias=True),\n",
        "            nn.ReLU()\n",
        "        )\n",
        "        self.layer4 = nn.Sequential(\n",
        "            nn.Linear(15, 3, bias=True),\n",
        "            nn.Softmax()\n",
        "        )\n",
        "\n",
        "    def forward(self, x):\n",
        "        output = self.layer1(x)\n",
        "        output = self.layer2(output)\n",
        "        output = self.layer3(output)\n",
        "        output = self.layer4(output)\n",
        "        return output\n"
      ]
    },
    {
      "cell_type": "code",
      "execution_count": 77,
      "metadata": {
        "id": "ZYd12EgjMWxO"
      },
      "outputs": [],
      "source": [
        "def init_weights(layer):\n",
        "    if isinstance(layer, nn.Linear):\n",
        "        torch.nn.init.xavier_uniform(layer.weight)\n",
        "        layer.bias.data.fill_(0.01)\n",
        "\n",
        "        #xavier사용\n",
        "        # Layer의 weight를 어떤 분포를 가지도록 초기화시켜줌+global minimum찾기 위해서"
      ]
    },
    {
      "cell_type": "code",
      "execution_count": 78,
      "metadata": {
        "colab": {
          "base_uri": "https://localhost:8080/"
        },
        "id": "pu_HsgoCMZ11",
        "outputId": "3e15d27b-6605-4849-a4ca-169546059285"
      },
      "outputs": [
        {
          "name": "stderr",
          "output_type": "stream",
          "text": [
            "<ipython-input-77-6196a47a4462>:3: UserWarning: nn.init.xavier_uniform is now deprecated in favor of nn.init.xavier_uniform_.\n",
            "  torch.nn.init.xavier_uniform(layer.weight)\n"
          ]
        },
        {
          "data": {
            "text/plain": [
              "Model(\n",
              "  (layer1): Sequential(\n",
              "    (0): Linear(in_features=13, out_features=124, bias=True)\n",
              "    (1): ReLU()\n",
              "    (2): BatchNorm1d(124, eps=1e-05, momentum=0.1, affine=True, track_running_stats=True)\n",
              "  )\n",
              "  (layer2): Sequential(\n",
              "    (0): Linear(in_features=124, out_features=60, bias=True)\n",
              "  )\n",
              "  (layer3): Sequential(\n",
              "    (0): Linear(in_features=60, out_features=15, bias=True)\n",
              "    (1): ReLU()\n",
              "  )\n",
              "  (layer4): Sequential(\n",
              "    (0): Linear(in_features=15, out_features=3, bias=True)\n",
              "    (1): Softmax(dim=None)\n",
              "  )\n",
              ")"
            ]
          },
          "execution_count": 78,
          "metadata": {},
          "output_type": "execute_result"
        }
      ],
      "source": [
        "model = Model().to(device)\n",
        "model.apply(init_weights)"
      ]
    },
    {
      "cell_type": "code",
      "execution_count": 79,
      "metadata": {
        "colab": {
          "base_uri": "https://localhost:8080/"
        },
        "id": "Euj_JNRFMZ4n",
        "outputId": "5dc71d75-eacf-46e3-bc10-406beac9ce43"
      },
      "outputs": [
        {
          "name": "stdout",
          "output_type": "stream",
          "text": [
            "Model(\n",
            "  (layer1): Sequential(\n",
            "    (0): Linear(in_features=13, out_features=124, bias=True)\n",
            "    (1): ReLU()\n",
            "    (2): BatchNorm1d(124, eps=1e-05, momentum=0.1, affine=True, track_running_stats=True)\n",
            "  )\n",
            "  (layer2): Sequential(\n",
            "    (0): Linear(in_features=124, out_features=60, bias=True)\n",
            "  )\n",
            "  (layer3): Sequential(\n",
            "    (0): Linear(in_features=60, out_features=15, bias=True)\n",
            "    (1): ReLU()\n",
            "  )\n",
            "  (layer4): Sequential(\n",
            "    (0): Linear(in_features=15, out_features=3, bias=True)\n",
            "    (1): Softmax(dim=None)\n",
            "  )\n",
            ")\n"
          ]
        }
      ],
      "source": [
        "print(model)"
      ]
    },
    {
      "cell_type": "code",
      "execution_count": 80,
      "metadata": {
        "id": "UH9z8TGKMZ7g"
      },
      "outputs": [],
      "source": [
        "loss_fn  = nn.CrossEntropyLoss().to(device)\n",
        "\n",
        "# 여러가지 optimizer 시도해보기\n",
        "# lr 바꿔보기\n",
        "\n",
        "\n",
        "optimizer = optim.Adam(model.parameters(), lr= 0.05)\n",
        "\n",
        "# https://pytorch.org/docs/stable/optim.html#module-torch.optim 페이지 참조\n",
        "# optimizer = optim.SGD(model.parameters(), lr=0.1, momentum=0.9)\n",
        "# AdamW, Adagrad, RMSprop"
      ]
    },
    {
      "cell_type": "code",
      "execution_count": 81,
      "metadata": {
        "colab": {
          "base_uri": "https://localhost:8080/"
        },
        "id": "0J4XX6N8MZ-T",
        "outputId": "ddb29471-5123-43e7-8a63-9a634bb45b72"
      },
      "outputs": [
        {
          "name": "stdout",
          "output_type": "stream",
          "text": [
            "0 1.085267424583435\n",
            "10 0.8597623705863953\n",
            "20 0.8581475019454956\n",
            "30 0.8577426075935364\n",
            "40 0.8503654599189758\n",
            "50 0.8489353656768799\n",
            "60 0.8534808158874512\n",
            "70 0.8572056889533997\n",
            "80 0.8465803265571594\n",
            "90 0.8498089909553528\n"
          ]
        },
        {
          "name": "stderr",
          "output_type": "stream",
          "text": [
            "/usr/local/lib/python3.10/dist-packages/torch/nn/modules/module.py:1518: UserWarning: Implicit dimension choice for softmax has been deprecated. Change the call to include dim=X as an argument.\n",
            "  return self._call_impl(*args, **kwargs)\n"
          ]
        }
      ],
      "source": [
        "losses = []\n",
        "for epoch in range(100):\n",
        "\n",
        "  optimizer.zero_grad()\n",
        "  hypothesis = model(x_train)\n",
        "\n",
        "  # 비용 함수\n",
        "  cost = loss_fn(hypothesis, y_train)\n",
        "  cost.backward()\n",
        "  optimizer.step()\n",
        "  losses.append(cost.item())\n",
        "\n",
        "  if epoch % 10 == 0:\n",
        "    print(epoch, cost.item())"
      ]
    },
    {
      "cell_type": "code",
      "execution_count": 82,
      "metadata": {
        "colab": {
          "base_uri": "https://localhost:8080/",
          "height": 430
        },
        "id": "roQRc3zYMaBC",
        "outputId": "27bd9e3d-0a38-423a-a028-ce5fe5a73e7b"
      },
      "outputs": [
        {
          "data": {
            "image/png": "[encoded data removed]",
            "text/plain": [
              "<Figure size 640x480 with 1 Axes>"
            ]
          },
          "metadata": {},
          "output_type": "display_data"
        }
      ],
      "source": [
        "plt.plot(losses)\n",
        "plt.show()"
      ]
    },
    {
      "cell_type": "code",
      "execution_count": 83,
      "metadata": {
        "id": "4lcWmmxoMaDh"
      },
      "outputs": [],
      "source": [
        "with torch.no_grad():\n",
        "  model = model.to('cpu')\n",
        "  y_pred = model(x_test)\n",
        "  y_pred = y_pred.detach().numpy()\n",
        "  predicted = np.argmax(y_pred, axis =1)\n",
        "  accuracy = (accuracy_score(predicted, y_test))"
      ]
    },
    {
      "cell_type": "code",
      "execution_count": 84,
      "metadata": {
        "colab": {
          "base_uri": "https://localhost:8080/"
        },
        "id": "wKmlH0fKMaGU",
        "outputId": "775804c1-eadc-4947-fd3f-c32e7cd6e3f6"
      },
      "outputs": [
        {
          "name": "stdout",
          "output_type": "stream",
          "text": [
            "model의 output은 :  [1. 0. 0.]\n",
            "argmax를 한 후의 output은 0\n",
            "accuracy는 0.7222222222222222\n"
          ]
        }
      ],
      "source": [
        "print(f'model의 output은 :  {y_pred[0]}')\n",
        "print(f'argmax를 한 후의 output은 {predicted[0]}')\n",
        "print(f'accuracy는 {accuracy}')"
      ]
    },
    {
      "cell_type": "markdown",
      "metadata": {
        "id": "Id5rLJSrOxTt"
      },
      "source": [
        "# 2. wine dataset\n",
        "3) activation function: `relu`\n",
        "\n",
        "optimizer: `adam`\n",
        "\n",
        "*   `lr = 0.1`\n",
        "\n",
        "accuracy는 0.2777777777777778"
      ]
    },
    {
      "cell_type": "code",
      "execution_count": 107,
      "metadata": {
        "id": "pVfkYlb4MaJC"
      },
      "outputs": [],
      "source": [
        "# 활성화 함수로 relu 사용, 1번 3번 layer에 추가\n",
        "\n",
        "class Model(torch.nn.Module):\n",
        "\n",
        "    def __init__(self):\n",
        "        super(Model, self).__init__()\n",
        "        self.layer1 = nn.Sequential(\n",
        "            nn.Linear(13, 124, bias=True),\n",
        "            nn.ReLU(),  # ReLU 활성화 함수 사용\n",
        "            nn.BatchNorm1d(124)\n",
        "        )\n",
        "        self.layer2 = nn.Sequential(\n",
        "            nn.Linear(124, 60, bias=True),\n",
        "        )\n",
        "        self.layer3 = nn.Sequential(\n",
        "            nn.Linear(60, 15, bias=True),\n",
        "            nn.ReLU()\n",
        "        )\n",
        "        self.layer4 = nn.Sequential(\n",
        "            nn.Linear(15, 3, bias=True),\n",
        "            nn.Softmax()\n",
        "        )\n",
        "\n",
        "    def forward(self, x):\n",
        "        output = self.layer1(x)\n",
        "        output = self.layer2(output)\n",
        "        output = self.layer3(output)\n",
        "        output = self.layer4(output)\n",
        "        return output\n"
      ]
    },
    {
      "cell_type": "code",
      "execution_count": 108,
      "metadata": {
        "id": "_51D1YQIOb89"
      },
      "outputs": [],
      "source": [
        "def init_weights(layer):\n",
        "    if isinstance(layer, nn.Linear):\n",
        "        torch.nn.init.xavier_uniform(layer.weight)\n",
        "        layer.bias.data.fill_(0.01)\n",
        "\n",
        "        #xavier사용\n",
        "        # Layer의 weight를 어떤 분포를 가지도록 초기화시켜줌+global minimum찾기 위해서"
      ]
    },
    {
      "cell_type": "code",
      "execution_count": 109,
      "metadata": {
        "colab": {
          "base_uri": "https://localhost:8080/"
        },
        "id": "sY7vsBPBOb_c",
        "outputId": "a7a2a9db-dfc9-4a65-b276-49202f946f9c"
      },
      "outputs": [
        {
          "name": "stderr",
          "output_type": "stream",
          "text": [
            "<ipython-input-108-6196a47a4462>:3: UserWarning: nn.init.xavier_uniform is now deprecated in favor of nn.init.xavier_uniform_.\n",
            "  torch.nn.init.xavier_uniform(layer.weight)\n"
          ]
        },
        {
          "data": {
            "text/plain": [
              "Model(\n",
              "  (layer1): Sequential(\n",
              "    (0): Linear(in_features=13, out_features=124, bias=True)\n",
              "    (1): ReLU()\n",
              "    (2): BatchNorm1d(124, eps=1e-05, momentum=0.1, affine=True, track_running_stats=True)\n",
              "  )\n",
              "  (layer2): Sequential(\n",
              "    (0): Linear(in_features=124, out_features=60, bias=True)\n",
              "  )\n",
              "  (layer3): Sequential(\n",
              "    (0): Linear(in_features=60, out_features=15, bias=True)\n",
              "    (1): ReLU()\n",
              "  )\n",
              "  (layer4): Sequential(\n",
              "    (0): Linear(in_features=15, out_features=3, bias=True)\n",
              "    (1): Softmax(dim=None)\n",
              "  )\n",
              ")"
            ]
          },
          "execution_count": 109,
          "metadata": {},
          "output_type": "execute_result"
        }
      ],
      "source": [
        "model = Model().to(device)\n",
        "model.apply(init_weights)"
      ]
    },
    {
      "cell_type": "code",
      "execution_count": null,
      "metadata": {
        "id": "KEO74dxPOcB7"
      },
      "outputs": [],
      "source": [
        "print(model)"
      ]
    },
    {
      "cell_type": "code",
      "execution_count": 111,
      "metadata": {
        "id": "ARpMJlTyOcIW"
      },
      "outputs": [],
      "source": [
        "loss_fn  = nn.CrossEntropyLoss().to(device)\n",
        "optimizer = optim.Adam(model.parameters(), lr= 0.1)"
      ]
    },
    {
      "cell_type": "code",
      "execution_count": 112,
      "metadata": {
        "colab": {
          "base_uri": "https://localhost:8080/"
        },
        "id": "tZRg379yOcMK",
        "outputId": "cbfbd464-16b7-4d73-decb-2e83f14865cb"
      },
      "outputs": [
        {
          "name": "stdout",
          "output_type": "stream",
          "text": [
            "0 1.085267424583435\n",
            "10 0.8518590331077576\n",
            "20 1.035315990447998\n",
            "30 1.0514448881149292\n",
            "40 1.0350674390792847\n",
            "50 0.9890546202659607\n",
            "60 1.253057599067688\n",
            "70 1.2853156328201294\n",
            "80 1.2853156328201294\n"
          ]
        },
        {
          "name": "stderr",
          "output_type": "stream",
          "text": [
            "/usr/local/lib/python3.10/dist-packages/torch/nn/modules/module.py:1518: UserWarning: Implicit dimension choice for softmax has been deprecated. Change the call to include dim=X as an argument.\n",
            "  return self._call_impl(*args, **kwargs)\n"
          ]
        },
        {
          "name": "stdout",
          "output_type": "stream",
          "text": [
            "90 1.2853156328201294\n"
          ]
        }
      ],
      "source": [
        "losses = []\n",
        "for epoch in range(100):\n",
        "\n",
        "  optimizer.zero_grad()\n",
        "  hypothesis = model(x_train)\n",
        "\n",
        "  # 비용 함수\n",
        "  cost = loss_fn(hypothesis, y_train)\n",
        "  cost.backward()\n",
        "  optimizer.step()\n",
        "  losses.append(cost.item())\n",
        "\n",
        "  if epoch % 10 == 0:\n",
        "    print(epoch, cost.item())"
      ]
    },
    {
      "cell_type": "code",
      "execution_count": 113,
      "metadata": {
        "colab": {
          "base_uri": "https://localhost:8080/",
          "height": 430
        },
        "id": "3lz2Oai5OcQ9",
        "outputId": "5a0ca3fd-6aec-48e3-870a-486a965c49a0"
      },
      "outputs": [
        {
          "data": {
            "image/png": "[encoded data removed]",
            "text/plain": [
              "<Figure size 640x480 with 1 Axes>"
            ]
          },
          "metadata": {},
          "output_type": "display_data"
        }
      ],
      "source": [
        "plt.plot(losses)\n",
        "plt.show()"
      ]
    },
    {
      "cell_type": "code",
      "execution_count": 114,
      "metadata": {
        "id": "MIf4M4nKOcTs"
      },
      "outputs": [],
      "source": [
        "with torch.no_grad():\n",
        "  model = model.to('cpu')\n",
        "  y_pred = model(x_test)\n",
        "  y_pred = y_pred.detach().numpy()\n",
        "  predicted = np.argmax(y_pred, axis =1)\n",
        "  accuracy = (accuracy_score(predicted, y_test))"
      ]
    },
    {
      "cell_type": "code",
      "execution_count": 115,
      "metadata": {
        "colab": {
          "base_uri": "https://localhost:8080/"
        },
        "id": "xPPubIL6OcWX",
        "outputId": "593f385e-693f-4f5a-cf0c-1d36048316dc"
      },
      "outputs": [
        {
          "name": "stdout",
          "output_type": "stream",
          "text": [
            "model의 output은 :  [0. 0. 1.]\n",
            "argmax를 한 후의 output은 2\n",
            "accuracy는 0.2777777777777778\n"
          ]
        }
      ],
      "source": [
        "print(f'model의 output은 :  {y_pred[3]}')\n",
        "print(f'argmax를 한 후의 output은 {predicted[3]}')\n",
        "print(f'accuracy는 {accuracy}')"
      ]
    },
    {
      "cell_type": "markdown",
      "metadata": {
        "id": "jaKXPhrXR6vg"
      },
      "source": [
        "# 2. wine dataset\n",
        "4) activation function: `relu`\n",
        "\n",
        "optimizer: `sgd`\n",
        "\n",
        "*   `lr = 0.01`\n",
        "\n",
        "accuracy는 0.7037037037037037"
      ]
    },
    {
      "cell_type": "code",
      "execution_count": 117,
      "metadata": {
        "id": "sS-j9J1TRWvY"
      },
      "outputs": [],
      "source": [
        "# 활성화 함수로 relu 사용, 1번 3번 layer에 추가\n",
        "\n",
        "class Model(torch.nn.Module):\n",
        "\n",
        "    def __init__(self):\n",
        "        super(Model, self).__init__()\n",
        "        self.layer1 = nn.Sequential(\n",
        "            nn.Linear(13, 124, bias=True),\n",
        "            nn.ReLU(),  # ReLU 활성화 함수 사용\n",
        "            nn.BatchNorm1d(124)\n",
        "        )\n",
        "        self.layer2 = nn.Sequential(\n",
        "            nn.Linear(124, 60, bias=True),\n",
        "        )\n",
        "        self.layer3 = nn.Sequential(\n",
        "            nn.Linear(60, 15, bias=True),\n",
        "            nn.ReLU()\n",
        "        )\n",
        "        self.layer4 = nn.Sequential(\n",
        "            nn.Linear(15, 3, bias=True),\n",
        "            nn.Softmax()\n",
        "        )\n",
        "\n",
        "    def forward(self, x):\n",
        "        output = self.layer1(x)\n",
        "        output = self.layer2(output)\n",
        "        output = self.layer3(output)\n",
        "        output = self.layer4(output)\n",
        "        return output\n"
      ]
    },
    {
      "cell_type": "code",
      "execution_count": 118,
      "metadata": {
        "id": "tYE5IGjxRdjR"
      },
      "outputs": [],
      "source": [
        "def init_weights(layer):\n",
        "    if isinstance(layer, nn.Linear):\n",
        "        torch.nn.init.xavier_uniform(layer.weight)\n",
        "        layer.bias.data.fill_(0.01)\n",
        "\n",
        "        #xavier사용\n",
        "        # Layer의 weight를 어떤 분포를 가지도록 초기화시켜줌+global minimum찾기 위해서"
      ]
    },
    {
      "cell_type": "code",
      "execution_count": 119,
      "metadata": {
        "colab": {
          "base_uri": "https://localhost:8080/"
        },
        "id": "IbPPDT0YRdmG",
        "outputId": "2cf2683e-e4de-4105-a844-72bfc78651ea"
      },
      "outputs": [
        {
          "name": "stderr",
          "output_type": "stream",
          "text": [
            "<ipython-input-118-6196a47a4462>:3: UserWarning: nn.init.xavier_uniform is now deprecated in favor of nn.init.xavier_uniform_.\n",
            "  torch.nn.init.xavier_uniform(layer.weight)\n"
          ]
        },
        {
          "data": {
            "text/plain": [
              "Model(\n",
              "  (layer1): Sequential(\n",
              "    (0): Linear(in_features=13, out_features=124, bias=True)\n",
              "    (1): ReLU()\n",
              "    (2): BatchNorm1d(124, eps=1e-05, momentum=0.1, affine=True, track_running_stats=True)\n",
              "  )\n",
              "  (layer2): Sequential(\n",
              "    (0): Linear(in_features=124, out_features=60, bias=True)\n",
              "  )\n",
              "  (layer3): Sequential(\n",
              "    (0): Linear(in_features=60, out_features=15, bias=True)\n",
              "    (1): ReLU()\n",
              "  )\n",
              "  (layer4): Sequential(\n",
              "    (0): Linear(in_features=15, out_features=3, bias=True)\n",
              "    (1): Softmax(dim=None)\n",
              "  )\n",
              ")"
            ]
          },
          "execution_count": 119,
          "metadata": {},
          "output_type": "execute_result"
        }
      ],
      "source": [
        "model = Model().to(device)\n",
        "model.apply(init_weights)"
      ]
    },
    {
      "cell_type": "code",
      "execution_count": 120,
      "metadata": {
        "colab": {
          "base_uri": "https://localhost:8080/"
        },
        "id": "KYfqmMbORdpC",
        "outputId": "ffa7ab5b-9de9-43d2-cb2f-ca943246bde3"
      },
      "outputs": [
        {
          "name": "stdout",
          "output_type": "stream",
          "text": [
            "Model(\n",
            "  (layer1): Sequential(\n",
            "    (0): Linear(in_features=13, out_features=124, bias=True)\n",
            "    (1): ReLU()\n",
            "    (2): BatchNorm1d(124, eps=1e-05, momentum=0.1, affine=True, track_running_stats=True)\n",
            "  )\n",
            "  (layer2): Sequential(\n",
            "    (0): Linear(in_features=124, out_features=60, bias=True)\n",
            "  )\n",
            "  (layer3): Sequential(\n",
            "    (0): Linear(in_features=60, out_features=15, bias=True)\n",
            "    (1): ReLU()\n",
            "  )\n",
            "  (layer4): Sequential(\n",
            "    (0): Linear(in_features=15, out_features=3, bias=True)\n",
            "    (1): Softmax(dim=None)\n",
            "  )\n",
            ")\n"
          ]
        }
      ],
      "source": [
        "print(model)"
      ]
    },
    {
      "cell_type": "code",
      "execution_count": 121,
      "metadata": {
        "id": "jCYWOOJaRdrm"
      },
      "outputs": [],
      "source": [
        "loss_fn  = nn.CrossEntropyLoss().to(device)\n",
        "optimizer = optim.SGD(model.parameters(), lr=0.01)"
      ]
    },
    {
      "cell_type": "code",
      "execution_count": 122,
      "metadata": {
        "colab": {
          "base_uri": "https://localhost:8080/"
        },
        "id": "Dsa0QO9ZRdwC",
        "outputId": "8f036da2-0f8a-4145-d675-3ec6ab15d818"
      },
      "outputs": [
        {
          "name": "stderr",
          "output_type": "stream",
          "text": [
            "/usr/local/lib/python3.10/dist-packages/torch/nn/modules/module.py:1518: UserWarning: Implicit dimension choice for softmax has been deprecated. Change the call to include dim=X as an argument.\n",
            "  return self._call_impl(*args, **kwargs)\n"
          ]
        },
        {
          "name": "stdout",
          "output_type": "stream",
          "text": [
            "0 1.1658638715744019\n",
            "10 0.9905550479888916\n",
            "20 0.8852957487106323\n",
            "30 0.8714236617088318\n",
            "40 0.8602120876312256\n",
            "50 0.8544826507568359\n",
            "60 0.850588858127594\n",
            "70 0.8476703763008118\n",
            "80 0.8448569774627686\n",
            "90 0.8423047065734863\n"
          ]
        }
      ],
      "source": [
        "losses = []\n",
        "for epoch in range(100):\n",
        "\n",
        "  optimizer.zero_grad()\n",
        "  hypothesis = model(x_train)\n",
        "\n",
        "  # 비용 함수\n",
        "  cost = loss_fn(hypothesis, y_train)\n",
        "  cost.backward()\n",
        "  optimizer.step()\n",
        "  losses.append(cost.item())\n",
        "\n",
        "  if epoch % 10 == 0:\n",
        "    print(epoch, cost.item())"
      ]
    },
    {
      "cell_type": "code",
      "execution_count": 123,
      "metadata": {
        "colab": {
          "base_uri": "https://localhost:8080/",
          "height": 430
        },
        "id": "lqNziUF5Rdy0",
        "outputId": "e1eac715-21d1-4abe-bf36-ecf6d5534b5d"
      },
      "outputs": [
        {
          "data": {
            "image/png": "[encoded data removed]",
            "text/plain": [
              "<Figure size 640x480 with 1 Axes>"
            ]
          },
          "metadata": {},
          "output_type": "display_data"
        }
      ],
      "source": [
        "plt.plot(losses)\n",
        "plt.show()"
      ]
    },
    {
      "cell_type": "code",
      "execution_count": 124,
      "metadata": {
        "id": "CAo72_kHRd1m"
      },
      "outputs": [],
      "source": [
        "with torch.no_grad():\n",
        "  model = model.to('cpu')\n",
        "  y_pred = model(x_test)\n",
        "  y_pred = y_pred.detach().numpy()\n",
        "  predicted = np.argmax(y_pred, axis =1)\n",
        "  accuracy = (accuracy_score(predicted, y_test))"
      ]
    },
    {
      "cell_type": "code",
      "execution_count": 127,
      "metadata": {
        "colab": {
          "base_uri": "https://localhost:8080/"
        },
        "id": "MJ3PMimXRd4U",
        "outputId": "b9ec8d8d-105a-44d0-f8fe-758e4603ea2d"
      },
      "outputs": [
        {
          "name": "stdout",
          "output_type": "stream",
          "text": [
            "model의 output은 :  [0.9832708  0.00552113 0.011208  ]\n",
            "argmax를 한 후의 output은 0\n",
            "accuracy는 0.7037037037037037\n"
          ]
        }
      ],
      "source": [
        "print(f'model의 output은 :  {y_pred[0]}')\n",
        "print(f'argmax를 한 후의 output은 {predicted[0]}')\n",
        "print(f'accuracy는 {accuracy}')"
      ]
    },
    {
      "cell_type": "markdown",
      "metadata": {
        "id": "BAjgVV71ScT6"
      },
      "source": [
        "# 2. wine dataset\n",
        "5) activation function: `relu`\n",
        "\n",
        "optimizer: `sgd`\n",
        "\n",
        "*   `lr = 0.05`\n",
        "\n",
        "accuracy는 0.6851851851851852"
      ]
    },
    {
      "cell_type": "code",
      "execution_count": 131,
      "metadata": {
        "id": "l8VnbxrsS9_L"
      },
      "outputs": [],
      "source": [
        "# 활성화 함수로 relu 사용, 1번 3번 layer에 추가\n",
        "\n",
        "class Model(torch.nn.Module):\n",
        "\n",
        "    def __init__(self):\n",
        "        super(Model, self).__init__()\n",
        "        self.layer1 = nn.Sequential(\n",
        "            nn.Linear(13, 124, bias=True),\n",
        "            nn.ReLU(),  # ReLU 활성화 함수 사용\n",
        "            nn.BatchNorm1d(124)\n",
        "        )\n",
        "        self.layer2 = nn.Sequential(\n",
        "            nn.Linear(124, 60, bias=True),\n",
        "        )\n",
        "        self.layer3 = nn.Sequential(\n",
        "            nn.Linear(60, 15, bias=True),\n",
        "            nn.ReLU()\n",
        "        )\n",
        "        self.layer4 = nn.Sequential(\n",
        "            nn.Linear(15, 3, bias=True),\n",
        "            nn.Softmax()\n",
        "        )\n",
        "\n",
        "    def forward(self, x):\n",
        "        output = self.layer1(x)\n",
        "        output = self.layer2(output)\n",
        "        output = self.layer3(output)\n",
        "        output = self.layer4(output)\n",
        "        return output"
      ]
    },
    {
      "cell_type": "code",
      "execution_count": 132,
      "metadata": {
        "id": "poVfahHJTA65"
      },
      "outputs": [],
      "source": [
        "def init_weights(layer):\n",
        "    if isinstance(layer, nn.Linear):\n",
        "        torch.nn.init.xavier_uniform(layer.weight)\n",
        "        layer.bias.data.fill_(0.01)\n",
        "\n",
        "        #xavier사용\n",
        "        # Layer의 weight를 어떤 분포를 가지도록 초기화시켜줌+global minimum찾기 위해서"
      ]
    },
    {
      "cell_type": "code",
      "execution_count": 133,
      "metadata": {
        "colab": {
          "base_uri": "https://localhost:8080/"
        },
        "id": "2k1AYpe-TA-V",
        "outputId": "f46e63e7-c34d-4313-b08a-b6d429f2b58b"
      },
      "outputs": [
        {
          "name": "stderr",
          "output_type": "stream",
          "text": [
            "<ipython-input-132-6196a47a4462>:3: UserWarning: nn.init.xavier_uniform is now deprecated in favor of nn.init.xavier_uniform_.\n",
            "  torch.nn.init.xavier_uniform(layer.weight)\n"
          ]
        },
        {
          "data": {
            "text/plain": [
              "Model(\n",
              "  (layer1): Sequential(\n",
              "    (0): Linear(in_features=13, out_features=124, bias=True)\n",
              "    (1): ReLU()\n",
              "    (2): BatchNorm1d(124, eps=1e-05, momentum=0.1, affine=True, track_running_stats=True)\n",
              "  )\n",
              "  (layer2): Sequential(\n",
              "    (0): Linear(in_features=124, out_features=60, bias=True)\n",
              "  )\n",
              "  (layer3): Sequential(\n",
              "    (0): Linear(in_features=60, out_features=15, bias=True)\n",
              "    (1): ReLU()\n",
              "  )\n",
              "  (layer4): Sequential(\n",
              "    (0): Linear(in_features=15, out_features=3, bias=True)\n",
              "    (1): Softmax(dim=None)\n",
              "  )\n",
              ")"
            ]
          },
          "execution_count": 133,
          "metadata": {},
          "output_type": "execute_result"
        }
      ],
      "source": [
        "model = Model().to(device)\n",
        "model.apply(init_weights)"
      ]
    },
    {
      "cell_type": "code",
      "execution_count": 134,
      "metadata": {
        "id": "IdnM0lGcSgBO"
      },
      "outputs": [],
      "source": [
        "loss_fn  = nn.CrossEntropyLoss().to(device)\n",
        "optimizer = optim.SGD(model.parameters(), lr=0.05)"
      ]
    },
    {
      "cell_type": "code",
      "execution_count": 135,
      "metadata": {
        "colab": {
          "base_uri": "https://localhost:8080/"
        },
        "id": "-pv2zZbWSvTi",
        "outputId": "5be814fe-6281-44a7-9c6e-ba342155c2e6"
      },
      "outputs": [
        {
          "name": "stdout",
          "output_type": "stream",
          "text": [
            "0 1.2041184902191162\n",
            "10 0.9571771025657654\n",
            "20 0.8872349262237549\n",
            "30 0.8511684536933899\n",
            "40 0.8479246497154236\n",
            "50 0.8440778255462646\n",
            "60 0.8400231003761292\n",
            "70 0.8370481133460999\n",
            "80 0.8345801830291748\n",
            "90 0.8322960734367371\n"
          ]
        },
        {
          "name": "stderr",
          "output_type": "stream",
          "text": [
            "/usr/local/lib/python3.10/dist-packages/torch/nn/modules/module.py:1518: UserWarning: Implicit dimension choice for softmax has been deprecated. Change the call to include dim=X as an argument.\n",
            "  return self._call_impl(*args, **kwargs)\n"
          ]
        }
      ],
      "source": [
        "losses = []\n",
        "for epoch in range(100):\n",
        "\n",
        "  optimizer.zero_grad()\n",
        "  hypothesis = model(x_train)\n",
        "\n",
        "  # 비용 함수\n",
        "  cost = loss_fn(hypothesis, y_train)\n",
        "  cost.backward()\n",
        "  optimizer.step()\n",
        "  losses.append(cost.item())\n",
        "\n",
        "  if epoch % 10 == 0:\n",
        "    print(epoch, cost.item())"
      ]
    },
    {
      "cell_type": "code",
      "execution_count": 136,
      "metadata": {
        "colab": {
          "base_uri": "https://localhost:8080/",
          "height": 430
        },
        "id": "tiwVcQXiSvWi",
        "outputId": "b2e56aca-656b-4d93-da30-d0ef800fcde2"
      },
      "outputs": [
        {
          "data": {
            "image/png": "[encoded data removed]",
            "text/plain": [
              "<Figure size 640x480 with 1 Axes>"
            ]
          },
          "metadata": {},
          "output_type": "display_data"
        }
      ],
      "source": [
        "plt.plot(losses)\n",
        "plt.show()"
      ]
    },
    {
      "cell_type": "code",
      "execution_count": 137,
      "metadata": {
        "colab": {
          "base_uri": "https://localhost:8080/"
        },
        "id": "EzGEHj9kSvZg",
        "outputId": "fb5977f7-3425-4fcb-bfa1-71799a0412ca"
      },
      "outputs": [
        {
          "name": "stdout",
          "output_type": "stream",
          "text": [
            "model의 output은 :  [0.9931298  0.00224632 0.00462389]\n",
            "argmax를 한 후의 output은 0\n",
            "accuracy는 0.6851851851851852\n"
          ]
        }
      ],
      "source": [
        "with torch.no_grad():\n",
        "  model = model.to('cpu')\n",
        "  y_pred = model(x_test)\n",
        "  y_pred = y_pred.detach().numpy()\n",
        "  predicted = np.argmax(y_pred, axis =1)\n",
        "  accuracy = (accuracy_score(predicted, y_test))\n",
        "\n",
        "print(f'model의 output은 :  {y_pred[0]}')\n",
        "print(f'argmax를 한 후의 output은 {predicted[0]}')\n",
        "print(f'accuracy는 {accuracy}')"
      ]
    },
    {
      "cell_type": "markdown",
      "metadata": {
        "id": "Cpn5GhJbT3m3"
      },
      "source": [
        "# 2. wine dataset\n",
        "6) activation function: `tanh`\n",
        "\n",
        "optimizer: `adam`\n",
        "\n",
        "*   `lr = 0.01`\n",
        "\n",
        "accuracy는 0.8518518518518519"
      ]
    },
    {
      "cell_type": "code",
      "execution_count": 138,
      "metadata": {
        "id": "pu_UsjY8TwkY"
      },
      "outputs": [],
      "source": [
        "# Tanh 활성화 함수 사용\n",
        "\n",
        "class Model(torch.nn.Module):\n",
        "\n",
        "    def __init__(self):\n",
        "        super(Model, self).__init__()\n",
        "        self.layer1 = nn.Sequential(\n",
        "            nn.Linear(13, 124, bias=True),\n",
        "            nn.Tanh(),  # Tanh 활성화 함수 사용\n",
        "            nn.BatchNorm1d(124)\n",
        "        )\n",
        "        self.layer2 = nn.Sequential(\n",
        "            nn.Linear(124, 60, bias=True)\n",
        "        )\n",
        "        self.layer3 = nn.Sequential(\n",
        "            nn.Linear(60, 15, bias=True),\n",
        "            nn.Tanh()  # Tanh 활성화 함수 사용\n",
        "        )\n",
        "        self.layer4 = nn.Sequential(\n",
        "            nn.Linear(15, 3, bias=True),\n",
        "            nn.Softmax()\n",
        "        )\n",
        "\n",
        "    def forward(self, x):\n",
        "        output = self.layer1(x)\n",
        "        output = self.layer2(output)\n",
        "        output = self.layer3(output)\n",
        "        output = self.layer4(output)\n",
        "        return output\n"
      ]
    },
    {
      "cell_type": "code",
      "execution_count": 139,
      "metadata": {
        "id": "P4i3oOJRUBHw"
      },
      "outputs": [],
      "source": [
        "def init_weights(layer):\n",
        "    if isinstance(layer, nn.Linear):\n",
        "        torch.nn.init.xavier_uniform(layer.weight)\n",
        "        layer.bias.data.fill_(0.01)\n",
        "\n",
        "        #xavier사용\n",
        "        # Layer의 weight를 어떤 분포를 가지도록 초기화시켜줌+global minimum찾기 위해서"
      ]
    },
    {
      "cell_type": "code",
      "execution_count": 140,
      "metadata": {
        "colab": {
          "base_uri": "https://localhost:8080/"
        },
        "id": "0-McN-acUBKp",
        "outputId": "7da6b022-f274-4ed5-f979-2c9867d2de60"
      },
      "outputs": [
        {
          "name": "stderr",
          "output_type": "stream",
          "text": [
            "<ipython-input-139-6196a47a4462>:3: UserWarning: nn.init.xavier_uniform is now deprecated in favor of nn.init.xavier_uniform_.\n",
            "  torch.nn.init.xavier_uniform(layer.weight)\n"
          ]
        },
        {
          "data": {
            "text/plain": [
              "Model(\n",
              "  (layer1): Sequential(\n",
              "    (0): Linear(in_features=13, out_features=124, bias=True)\n",
              "    (1): Tanh()\n",
              "    (2): BatchNorm1d(124, eps=1e-05, momentum=0.1, affine=True, track_running_stats=True)\n",
              "  )\n",
              "  (layer2): Sequential(\n",
              "    (0): Linear(in_features=124, out_features=60, bias=True)\n",
              "  )\n",
              "  (layer3): Sequential(\n",
              "    (0): Linear(in_features=60, out_features=15, bias=True)\n",
              "    (1): Tanh()\n",
              "  )\n",
              "  (layer4): Sequential(\n",
              "    (0): Linear(in_features=15, out_features=3, bias=True)\n",
              "    (1): Softmax(dim=None)\n",
              "  )\n",
              ")"
            ]
          },
          "execution_count": 140,
          "metadata": {},
          "output_type": "execute_result"
        }
      ],
      "source": [
        "model = Model().to(device)\n",
        "model.apply(init_weights)"
      ]
    },
    {
      "cell_type": "code",
      "execution_count": 141,
      "metadata": {
        "id": "zBW3Zm4mUBNf"
      },
      "outputs": [],
      "source": [
        "loss_fn  = nn.CrossEntropyLoss().to(device)\n",
        "\n",
        "optimizer = optim.Adam(model.parameters(), lr= 0.01)"
      ]
    },
    {
      "cell_type": "code",
      "execution_count": 142,
      "metadata": {
        "colab": {
          "base_uri": "https://localhost:8080/"
        },
        "id": "rH43QL-FUBQF",
        "outputId": "62ed57dc-bc6b-4d7c-dbfb-627661f96d7e"
      },
      "outputs": [
        {
          "name": "stdout",
          "output_type": "stream",
          "text": [
            "0 1.126857876777649\n",
            "10 0.8241126537322998\n",
            "20 0.6663126349449158\n",
            "30 0.6810927391052246\n",
            "40 0.6522443890571594\n",
            "50 0.6373974680900574\n",
            "60 0.6660875678062439\n",
            "70 0.6396560668945312\n",
            "80 0.63236004114151\n",
            "90 0.665524959564209\n"
          ]
        },
        {
          "name": "stderr",
          "output_type": "stream",
          "text": [
            "/usr/local/lib/python3.10/dist-packages/torch/nn/modules/module.py:1518: UserWarning: Implicit dimension choice for softmax has been deprecated. Change the call to include dim=X as an argument.\n",
            "  return self._call_impl(*args, **kwargs)\n"
          ]
        }
      ],
      "source": [
        "losses = []\n",
        "for epoch in range(100):\n",
        "\n",
        "  optimizer.zero_grad()\n",
        "  hypothesis = model(x_train)\n",
        "\n",
        "  # 비용 함수\n",
        "  cost = loss_fn(hypothesis, y_train)\n",
        "  cost.backward()\n",
        "  optimizer.step()\n",
        "  losses.append(cost.item())\n",
        "\n",
        "  if epoch % 10 == 0:\n",
        "    print(epoch, cost.item())"
      ]
    },
    {
      "cell_type": "code",
      "execution_count": 143,
      "metadata": {
        "colab": {
          "base_uri": "https://localhost:8080/",
          "height": 430
        },
        "id": "EEw_WqywUBVL",
        "outputId": "1153988f-2794-48fb-fc9d-e69b06112cbb"
      },
      "outputs": [
        {
          "data": {
            "image/png": "[encoded data removed]",
            "text/plain": [
              "<Figure size 640x480 with 1 Axes>"
            ]
          },
          "metadata": {},
          "output_type": "display_data"
        }
      ],
      "source": [
        "plt.plot(losses)\n",
        "plt.show()"
      ]
    },
    {
      "cell_type": "code",
      "execution_count": 144,
      "metadata": {
        "colab": {
          "base_uri": "https://localhost:8080/"
        },
        "id": "0pUc3RY_UBZM",
        "outputId": "46f30555-119c-4613-fe57-9e4f6b85c41b"
      },
      "outputs": [
        {
          "name": "stdout",
          "output_type": "stream",
          "text": [
            "model의 output은 :  [9.9817312e-01 1.7217286e-03 1.0516067e-04]\n",
            "argmax를 한 후의 output은 0\n",
            "accuracy는 0.8518518518518519\n"
          ]
        }
      ],
      "source": [
        "with torch.no_grad():\n",
        "  model = model.to('cpu')\n",
        "  y_pred = model(x_test)\n",
        "  y_pred = y_pred.detach().numpy()\n",
        "  predicted = np.argmax(y_pred, axis =1)\n",
        "  accuracy = (accuracy_score(predicted, y_test))\n",
        "\n",
        "print(f'model의 output은 :  {y_pred[0]}')\n",
        "print(f'argmax를 한 후의 output은 {predicted[0]}')\n",
        "print(f'accuracy는 {accuracy}')"
      ]
    },
    {
      "cell_type": "markdown",
      "metadata": {
        "id": "gmApIPa0Ues8"
      },
      "source": [
        "# 2. wine dataset\n",
        "7) activation function: `tanh`\n",
        "\n",
        "optimizer: `adagrad`\n",
        "\n",
        "*   `lr = 0.01`\n",
        "\n",
        "accuracy는 0.9444444444444444 ⭐️"
      ]
    },
    {
      "cell_type": "code",
      "execution_count": 145,
      "metadata": {
        "id": "GxrIaFBcUsLy"
      },
      "outputs": [],
      "source": [
        "# Tanh 활성화 함수 사용\n",
        "\n",
        "class Model(torch.nn.Module):\n",
        "\n",
        "    def __init__(self):\n",
        "        super(Model, self).__init__()\n",
        "        self.layer1 = nn.Sequential(\n",
        "            nn.Linear(13, 124, bias=True),\n",
        "            nn.Tanh(),  # Tanh 활성화 함수 사용\n",
        "            nn.BatchNorm1d(124)\n",
        "        )\n",
        "        self.layer2 = nn.Sequential(\n",
        "            nn.Linear(124, 60, bias=True)\n",
        "        )\n",
        "        self.layer3 = nn.Sequential(\n",
        "            nn.Linear(60, 15, bias=True),\n",
        "            nn.Tanh()  # Tanh 활성화 함수 사용\n",
        "        )\n",
        "        self.layer4 = nn.Sequential(\n",
        "            nn.Linear(15, 3, bias=True),\n",
        "            nn.Softmax()\n",
        "        )\n",
        "\n",
        "    def forward(self, x):\n",
        "        output = self.layer1(x)\n",
        "        output = self.layer2(output)\n",
        "        output = self.layer3(output)\n",
        "        output = self.layer4(output)\n",
        "        return output"
      ]
    },
    {
      "cell_type": "code",
      "execution_count": 146,
      "metadata": {
        "id": "q4f9IBrRUsPH"
      },
      "outputs": [],
      "source": [
        "def init_weights(layer):\n",
        "    if isinstance(layer, nn.Linear):\n",
        "        torch.nn.init.xavier_uniform(layer.weight)\n",
        "        layer.bias.data.fill_(0.01)"
      ]
    },
    {
      "cell_type": "code",
      "execution_count": 147,
      "metadata": {
        "colab": {
          "base_uri": "https://localhost:8080/"
        },
        "id": "WgtmIsRcUsSB",
        "outputId": "7933576a-a780-4231-d951-7536cb80ef76"
      },
      "outputs": [
        {
          "name": "stderr",
          "output_type": "stream",
          "text": [
            "<ipython-input-146-6dcf2c5a1d5c>:3: UserWarning: nn.init.xavier_uniform is now deprecated in favor of nn.init.xavier_uniform_.\n",
            "  torch.nn.init.xavier_uniform(layer.weight)\n"
          ]
        },
        {
          "data": {
            "text/plain": [
              "Model(\n",
              "  (layer1): Sequential(\n",
              "    (0): Linear(in_features=13, out_features=124, bias=True)\n",
              "    (1): Tanh()\n",
              "    (2): BatchNorm1d(124, eps=1e-05, momentum=0.1, affine=True, track_running_stats=True)\n",
              "  )\n",
              "  (layer2): Sequential(\n",
              "    (0): Linear(in_features=124, out_features=60, bias=True)\n",
              "  )\n",
              "  (layer3): Sequential(\n",
              "    (0): Linear(in_features=60, out_features=15, bias=True)\n",
              "    (1): Tanh()\n",
              "  )\n",
              "  (layer4): Sequential(\n",
              "    (0): Linear(in_features=15, out_features=3, bias=True)\n",
              "    (1): Softmax(dim=None)\n",
              "  )\n",
              ")"
            ]
          },
          "execution_count": 147,
          "metadata": {},
          "output_type": "execute_result"
        }
      ],
      "source": [
        "model = Model().to(device)\n",
        "model.apply(init_weights)"
      ]
    },
    {
      "cell_type": "code",
      "execution_count": 148,
      "metadata": {
        "id": "hIqJf02YUsVN"
      },
      "outputs": [],
      "source": [
        "loss_fn  = nn.CrossEntropyLoss().to(device)\n",
        "\n",
        "optimizer = optim.Adagrad(model.parameters(), lr=0.01)"
      ]
    },
    {
      "cell_type": "code",
      "execution_count": 149,
      "metadata": {
        "colab": {
          "base_uri": "https://localhost:8080/"
        },
        "id": "nBTdZk2FUsby",
        "outputId": "719f56bb-f469-4d95-fd7e-19a1893f7f3b"
      },
      "outputs": [
        {
          "name": "stdout",
          "output_type": "stream",
          "text": [
            "0 1.0990465879440308\n",
            "10 0.846467912197113\n",
            "20 0.8332355618476868\n",
            "30 0.7757136225700378\n",
            "40 0.7412880659103394\n",
            "50 0.7241376042366028\n",
            "60 0.6812735199928284\n",
            "70 0.6544704437255859\n",
            "80 0.6434462070465088\n",
            "90 0.6478731036186218\n"
          ]
        },
        {
          "name": "stderr",
          "output_type": "stream",
          "text": [
            "/usr/local/lib/python3.10/dist-packages/torch/nn/modules/module.py:1518: UserWarning: Implicit dimension choice for softmax has been deprecated. Change the call to include dim=X as an argument.\n",
            "  return self._call_impl(*args, **kwargs)\n"
          ]
        }
      ],
      "source": [
        "losses = []\n",
        "for epoch in range(100):\n",
        "\n",
        "  optimizer.zero_grad()\n",
        "  hypothesis = model(x_train)\n",
        "\n",
        "  # 비용 함수\n",
        "  cost = loss_fn(hypothesis, y_train)\n",
        "  cost.backward()\n",
        "  optimizer.step()\n",
        "  losses.append(cost.item())\n",
        "\n",
        "  if epoch % 10 == 0:\n",
        "    print(epoch, cost.item())"
      ]
    },
    {
      "cell_type": "code",
      "execution_count": 150,
      "metadata": {
        "colab": {
          "base_uri": "https://localhost:8080/",
          "height": 430
        },
        "id": "vi6PqcOZUse0",
        "outputId": "d90f6a7f-0683-4f4f-fbd2-2dd6ecfe274b"
      },
      "outputs": [
        {
          "data": {
            "image/png": "[encoded data removed]",
            "text/plain": [
              "<Figure size 640x480 with 1 Axes>"
            ]
          },
          "metadata": {},
          "output_type": "display_data"
        }
      ],
      "source": [
        "plt.plot(losses)\n",
        "plt.show()"
      ]
    },
    {
      "cell_type": "code",
      "execution_count": 151,
      "metadata": {
        "colab": {
          "base_uri": "https://localhost:8080/"
        },
        "id": "ky8_G7t_UshW",
        "outputId": "177f968e-2912-41df-c25c-d139ef05cb47"
      },
      "outputs": [
        {
          "name": "stdout",
          "output_type": "stream",
          "text": [
            "model의 output은 :  [0.99055743 0.00629062 0.00315184]\n",
            "argmax를 한 후의 output은 0\n",
            "accuracy는 0.9444444444444444\n"
          ]
        }
      ],
      "source": [
        "with torch.no_grad():\n",
        "  model = model.to('cpu')\n",
        "  y_pred = model(x_test)\n",
        "  y_pred = y_pred.detach().numpy()\n",
        "  predicted = np.argmax(y_pred, axis =1)\n",
        "  accuracy = (accuracy_score(predicted, y_test))\n",
        "\n",
        "print(f'model의 output은 :  {y_pred[0]}')\n",
        "print(f'argmax를 한 후의 output은 {predicted[0]}')\n",
        "print(f'accuracy는 {accuracy}')"
      ]
    },
    {
      "cell_type": "markdown",
      "metadata": {
        "id": "YXn50gZyWKCI"
      },
      "source": [
        "# 2. wine dataset\n",
        "8) activation function: `tanh`\n",
        "\n",
        "optimizer: `RMSprop`\n",
        "(Adagrad의 단점을 개선하기 위해 제안된 알고리즘)\n",
        "\n",
        "*   `lr = 0.01`\n",
        "\n",
        "accuracy는 0.3888888888888889"
      ]
    },
    {
      "cell_type": "code",
      "execution_count": 152,
      "metadata": {
        "id": "4_8aNfcAWVPI"
      },
      "outputs": [],
      "source": [
        "# Tanh 활성화 함수 사용\n",
        "\n",
        "class Model(torch.nn.Module):\n",
        "\n",
        "    def __init__(self):\n",
        "        super(Model, self).__init__()\n",
        "        self.layer1 = nn.Sequential(\n",
        "            nn.Linear(13, 124, bias=True),\n",
        "            nn.Tanh(),  # Tanh 활성화 함수 사용\n",
        "            nn.BatchNorm1d(124)\n",
        "        )\n",
        "        self.layer2 = nn.Sequential(\n",
        "            nn.Linear(124, 60, bias=True)\n",
        "        )\n",
        "        self.layer3 = nn.Sequential(\n",
        "            nn.Linear(60, 15, bias=True),\n",
        "            nn.Tanh()  # Tanh 활성화 함수 사용\n",
        "        )\n",
        "        self.layer4 = nn.Sequential(\n",
        "            nn.Linear(15, 3, bias=True),\n",
        "            nn.Softmax()\n",
        "        )\n",
        "\n",
        "    def forward(self, x):\n",
        "        output = self.layer1(x)\n",
        "        output = self.layer2(output)\n",
        "        output = self.layer3(output)\n",
        "        output = self.layer4(output)\n",
        "        return output"
      ]
    },
    {
      "cell_type": "code",
      "execution_count": 153,
      "metadata": {
        "id": "nOGhzrZbWVbe"
      },
      "outputs": [],
      "source": [
        "def init_weights(layer):\n",
        "    if isinstance(layer, nn.Linear):\n",
        "        torch.nn.init.xavier_uniform(layer.weight)\n",
        "        layer.bias.data.fill_(0.01)"
      ]
    },
    {
      "cell_type": "code",
      "execution_count": 154,
      "metadata": {
        "colab": {
          "base_uri": "https://localhost:8080/"
        },
        "id": "9iPnWukqWVgE",
        "outputId": "422856c3-f5b7-4da9-af73-6d43b9b8876b"
      },
      "outputs": [
        {
          "name": "stderr",
          "output_type": "stream",
          "text": [
            "<ipython-input-153-6dcf2c5a1d5c>:3: UserWarning: nn.init.xavier_uniform is now deprecated in favor of nn.init.xavier_uniform_.\n",
            "  torch.nn.init.xavier_uniform(layer.weight)\n"
          ]
        },
        {
          "data": {
            "text/plain": [
              "Model(\n",
              "  (layer1): Sequential(\n",
              "    (0): Linear(in_features=13, out_features=124, bias=True)\n",
              "    (1): Tanh()\n",
              "    (2): BatchNorm1d(124, eps=1e-05, momentum=0.1, affine=True, track_running_stats=True)\n",
              "  )\n",
              "  (layer2): Sequential(\n",
              "    (0): Linear(in_features=124, out_features=60, bias=True)\n",
              "  )\n",
              "  (layer3): Sequential(\n",
              "    (0): Linear(in_features=60, out_features=15, bias=True)\n",
              "    (1): Tanh()\n",
              "  )\n",
              "  (layer4): Sequential(\n",
              "    (0): Linear(in_features=15, out_features=3, bias=True)\n",
              "    (1): Softmax(dim=None)\n",
              "  )\n",
              ")"
            ]
          },
          "execution_count": 154,
          "metadata": {},
          "output_type": "execute_result"
        }
      ],
      "source": [
        "model = Model().to(device)\n",
        "model.apply(init_weights)"
      ]
    },
    {
      "cell_type": "code",
      "execution_count": 155,
      "metadata": {
        "id": "ZIdmTbnHWVjm"
      },
      "outputs": [],
      "source": [
        "loss_fn  = nn.CrossEntropyLoss().to(device)\n",
        "optimizer = optim.RMSprop(model.parameters(), lr=0.01)"
      ]
    },
    {
      "cell_type": "code",
      "execution_count": 156,
      "metadata": {
        "colab": {
          "base_uri": "https://localhost:8080/"
        },
        "id": "fhmCV7OcWVnh",
        "outputId": "05022405-8647-4c86-bec4-84be3872a380"
      },
      "outputs": [
        {
          "name": "stdout",
          "output_type": "stream",
          "text": [
            "0 1.1168107986450195\n",
            "10 1.1332098245620728\n",
            "20 1.0846620798110962\n",
            "30 1.0848256349563599\n",
            "40 1.0849988460540771\n",
            "50 1.0848100185394287\n",
            "60 1.0847539901733398\n",
            "70 1.0848305225372314\n",
            "80 1.08489990234375\n",
            "90 1.0848655700683594\n"
          ]
        },
        {
          "name": "stderr",
          "output_type": "stream",
          "text": [
            "/usr/local/lib/python3.10/dist-packages/torch/nn/modules/module.py:1518: UserWarning: Implicit dimension choice for softmax has been deprecated. Change the call to include dim=X as an argument.\n",
            "  return self._call_impl(*args, **kwargs)\n"
          ]
        }
      ],
      "source": [
        "losses = []\n",
        "for epoch in range(100):\n",
        "\n",
        "  optimizer.zero_grad()\n",
        "  hypothesis = model(x_train)\n",
        "\n",
        "  # 비용 함수\n",
        "  cost = loss_fn(hypothesis, y_train)\n",
        "  cost.backward()\n",
        "  optimizer.step()\n",
        "  losses.append(cost.item())\n",
        "\n",
        "  if epoch % 10 == 0:\n",
        "    print(epoch, cost.item())"
      ]
    },
    {
      "cell_type": "code",
      "execution_count": 157,
      "metadata": {
        "colab": {
          "base_uri": "https://localhost:8080/",
          "height": 430
        },
        "id": "4VQQ22AEWVqQ",
        "outputId": "9e62d62f-679f-43ed-f8a5-f9bb434e588a"
      },
      "outputs": [
        {
          "data": {
            "image/png": "[encoded data removed]",
            "text/plain": [
              "<Figure size 640x480 with 1 Axes>"
            ]
          },
          "metadata": {},
          "output_type": "display_data"
        }
      ],
      "source": [
        "plt.plot(losses)\n",
        "plt.show()"
      ]
    },
    {
      "cell_type": "code",
      "execution_count": 158,
      "metadata": {
        "colab": {
          "base_uri": "https://localhost:8080/"
        },
        "id": "FPIOiOT2WVtS",
        "outputId": "b024875f-12ef-41bb-a9eb-43d37a412ca1"
      },
      "outputs": [
        {
          "name": "stdout",
          "output_type": "stream",
          "text": [
            "model의 output은 :  [0.30847275 0.57135516 0.12017208]\n",
            "argmax를 한 후의 output은 1\n",
            "accuracy는 0.3888888888888889\n"
          ]
        }
      ],
      "source": [
        "with torch.no_grad():\n",
        "  model = model.to('cpu')\n",
        "  y_pred = model(x_test)\n",
        "  y_pred = y_pred.detach().numpy()\n",
        "  predicted = np.argmax(y_pred, axis =1)\n",
        "  accuracy = (accuracy_score(predicted, y_test))\n",
        "\n",
        "print(f'model의 output은 :  {y_pred[0]}')\n",
        "print(f'argmax를 한 후의 output은 {predicted[0]}')\n",
        "print(f'accuracy는 {accuracy}')"
      ]
    },
    {
      "cell_type": "markdown",
      "metadata": {
        "id": "XqEIN_rmXW75"
      },
      "source": [
        "# 2. wine dataset\n",
        "9) activation function: `tanh`\n",
        "\n",
        "optimizer: `SGD`\n",
        "*   `lr = 0.01`\n",
        "\n",
        "accuracy는 0.3888888888888889"
      ]
    },
    {
      "cell_type": "code",
      "execution_count": 159,
      "metadata": {
        "id": "NQvGKWwsXcaY"
      },
      "outputs": [],
      "source": [
        "# Tanh 활성화 함수 사용\n",
        "\n",
        "class Model(torch.nn.Module):\n",
        "\n",
        "    def __init__(self):\n",
        "        super(Model, self).__init__()\n",
        "        self.layer1 = nn.Sequential(\n",
        "            nn.Linear(13, 124, bias=True),\n",
        "            nn.Tanh(),  # Tanh 활성화 함수 사용\n",
        "            nn.BatchNorm1d(124)\n",
        "        )\n",
        "        self.layer2 = nn.Sequential(\n",
        "            nn.Linear(124, 60, bias=True)\n",
        "        )\n",
        "        self.layer3 = nn.Sequential(\n",
        "            nn.Linear(60, 15, bias=True),\n",
        "            nn.Tanh()  # Tanh 활성화 함수 사용\n",
        "        )\n",
        "        self.layer4 = nn.Sequential(\n",
        "            nn.Linear(15, 3, bias=True),\n",
        "            nn.Softmax()\n",
        "        )\n",
        "\n",
        "    def forward(self, x):\n",
        "        output = self.layer1(x)\n",
        "        output = self.layer2(output)\n",
        "        output = self.layer3(output)\n",
        "        output = self.layer4(output)\n",
        "        return output"
      ]
    },
    {
      "cell_type": "code",
      "execution_count": 160,
      "metadata": {
        "id": "5sI329THXgJ-"
      },
      "outputs": [],
      "source": [
        "def init_weights(layer):\n",
        "    if isinstance(layer, nn.Linear):\n",
        "        torch.nn.init.xavier_uniform(layer.weight)\n",
        "        layer.bias.data.fill_(0.01)"
      ]
    },
    {
      "cell_type": "code",
      "execution_count": 161,
      "metadata": {
        "colab": {
          "base_uri": "https://localhost:8080/"
        },
        "id": "6TKRIaLKXgNG",
        "outputId": "4392761d-8320-41d0-ec03-e499999d04b6"
      },
      "outputs": [
        {
          "name": "stderr",
          "output_type": "stream",
          "text": [
            "<ipython-input-160-6dcf2c5a1d5c>:3: UserWarning: nn.init.xavier_uniform is now deprecated in favor of nn.init.xavier_uniform_.\n",
            "  torch.nn.init.xavier_uniform(layer.weight)\n"
          ]
        },
        {
          "data": {
            "text/plain": [
              "Model(\n",
              "  (layer1): Sequential(\n",
              "    (0): Linear(in_features=13, out_features=124, bias=True)\n",
              "    (1): Tanh()\n",
              "    (2): BatchNorm1d(124, eps=1e-05, momentum=0.1, affine=True, track_running_stats=True)\n",
              "  )\n",
              "  (layer2): Sequential(\n",
              "    (0): Linear(in_features=124, out_features=60, bias=True)\n",
              "  )\n",
              "  (layer3): Sequential(\n",
              "    (0): Linear(in_features=60, out_features=15, bias=True)\n",
              "    (1): Tanh()\n",
              "  )\n",
              "  (layer4): Sequential(\n",
              "    (0): Linear(in_features=15, out_features=3, bias=True)\n",
              "    (1): Softmax(dim=None)\n",
              "  )\n",
              ")"
            ]
          },
          "execution_count": 161,
          "metadata": {},
          "output_type": "execute_result"
        }
      ],
      "source": [
        "model = Model().to(device)\n",
        "model.apply(init_weights)"
      ]
    },
    {
      "cell_type": "code",
      "execution_count": 163,
      "metadata": {
        "id": "AnoxaqhWXgQD"
      },
      "outputs": [],
      "source": [
        "loss_fn  = nn.CrossEntropyLoss().to(device)\n",
        "optimizer = optim.SGD(model.parameters(), lr= 0.01)"
      ]
    },
    {
      "cell_type": "code",
      "execution_count": 164,
      "metadata": {
        "colab": {
          "base_uri": "https://localhost:8080/"
        },
        "id": "cGwx0RSvXgTC",
        "outputId": "d5e13314-8075-4e76-fc31-f5c931cf0906"
      },
      "outputs": [
        {
          "name": "stdout",
          "output_type": "stream",
          "text": [
            "0 1.131584644317627\n",
            "10 1.0987054109573364\n",
            "20 1.0975509881973267\n",
            "30 1.0967158079147339\n",
            "40 1.081608772277832\n",
            "50 1.0896897315979004\n",
            "60 1.0703717470169067\n",
            "70 1.0873247385025024\n",
            "80 1.0864084959030151\n",
            "90 1.0855774879455566\n"
          ]
        },
        {
          "name": "stderr",
          "output_type": "stream",
          "text": [
            "/usr/local/lib/python3.10/dist-packages/torch/nn/modules/module.py:1518: UserWarning: Implicit dimension choice for softmax has been deprecated. Change the call to include dim=X as an argument.\n",
            "  return self._call_impl(*args, **kwargs)\n"
          ]
        }
      ],
      "source": [
        "losses = []\n",
        "for epoch in range(100):\n",
        "\n",
        "  optimizer.zero_grad()\n",
        "  hypothesis = model(x_train)\n",
        "\n",
        "  # 비용 함수\n",
        "  cost = loss_fn(hypothesis, y_train)\n",
        "  cost.backward()\n",
        "  optimizer.step()\n",
        "  losses.append(cost.item())\n",
        "\n",
        "  if epoch % 10 == 0:\n",
        "    print(epoch, cost.item())"
      ]
    },
    {
      "cell_type": "code",
      "execution_count": 165,
      "metadata": {
        "colab": {
          "base_uri": "https://localhost:8080/",
          "height": 430
        },
        "id": "EkFu5POlXgYv",
        "outputId": "8c0af8d8-1f87-4d61-dcf0-0ec277dff3b2"
      },
      "outputs": [
        {
          "data": {
            "image/png": "[encoded data removed]",
            "text/plain": [
              "<Figure size 640x480 with 1 Axes>"
            ]
          },
          "metadata": {},
          "output_type": "display_data"
        }
      ],
      "source": [
        "plt.plot(losses)\n",
        "plt.show()"
      ]
    },
    {
      "cell_type": "code",
      "execution_count": 166,
      "metadata": {
        "colab": {
          "base_uri": "https://localhost:8080/"
        },
        "id": "mgVzjyb1Xgbt",
        "outputId": "f0756bda-e534-47dc-af77-c7eee157900b"
      },
      "outputs": [
        {
          "name": "stdout",
          "output_type": "stream",
          "text": [
            "model의 output은 :  [0.33492443 0.35247105 0.31260452]\n",
            "argmax를 한 후의 output은 1\n",
            "accuracy는 0.3888888888888889\n"
          ]
        }
      ],
      "source": [
        "with torch.no_grad():\n",
        "  model = model.to('cpu')\n",
        "  y_pred = model(x_test)\n",
        "  y_pred = y_pred.detach().numpy()\n",
        "  predicted = np.argmax(y_pred, axis =1)\n",
        "  accuracy = (accuracy_score(predicted, y_test))\n",
        "\n",
        "print(f'model의 output은 :  {y_pred[0]}')\n",
        "print(f'argmax를 한 후의 output은 {predicted[0]}')\n",
        "print(f'accuracy는 {accuracy}')"
      ]
    },
    {
      "cell_type": "markdown",
      "metadata": {
        "id": "otTYWt9uVkWl"
      },
      "source": [
        "#lr = 0.01일 때 가장 높은 정확도\n",
        "activatin function에 따른 최적화된 옵티마이저 조합은 relu-adam, tanh-adagrad"
      ]
    },
    {
      "cell_type": "markdown",
      "metadata": {
        "id": "3RzRM7xThZV_"
      },
      "source": [
        "# < 3주차 과제 2 : CNN 맛보기>"
      ]
    },
    {
      "cell_type": "code",
      "execution_count": 31,
      "metadata": {
        "id": "56xqgtLxhZw6"
      },
      "outputs": [],
      "source": [
        "from __future__ import print_function\n",
        "import argparse\n",
        "import torch\n",
        "import torch.nn as nn\n",
        "import torch.nn.functional as F\n",
        "import torch.optim as optim\n",
        "from torchvision import datasets, transforms\n",
        "from torch.autograd import Variable"
      ]
    },
    {
      "cell_type": "code",
      "execution_count": 32,
      "metadata": {
        "colab": {
          "base_uri": "https://localhost:8080/"
        },
        "id": "TzkF2bFNhcQ2",
        "outputId": "e339f421-76d9-4d62-d503-aeda5cbdc2a1"
      },
      "outputs": [
        {
          "name": "stdout",
          "output_type": "stream",
          "text": [
            "Downloading http://yann.lecun.com/exdb/mnist/train-images-idx3-ubyte.gz\n",
            "Downloading http://yann.lecun.com/exdb/mnist/train-images-idx3-ubyte.gz to ./data/MNIST/raw/train-images-idx3-ubyte.gz\n"
          ]
        },
        {
          "name": "stderr",
          "output_type": "stream",
          "text": [
            "100%|██████████| 9912422/9912422 [00:00<00:00, 251617168.65it/s]"
          ]
        },
        {
          "name": "stdout",
          "output_type": "stream",
          "text": [
            "Extracting ./data/MNIST/raw/train-images-idx3-ubyte.gz to ./data/MNIST/raw\n"
          ]
        },
        {
          "name": "stderr",
          "output_type": "stream",
          "text": [
            "\n"
          ]
        },
        {
          "name": "stdout",
          "output_type": "stream",
          "text": [
            "\n",
            "Downloading http://yann.lecun.com/exdb/mnist/train-labels-idx1-ubyte.gz\n",
            "Downloading http://yann.lecun.com/exdb/mnist/train-labels-idx1-ubyte.gz to ./data/MNIST/raw/train-labels-idx1-ubyte.gz\n"
          ]
        },
        {
          "name": "stderr",
          "output_type": "stream",
          "text": [
            "100%|██████████| 28881/28881 [00:00<00:00, 39126516.09it/s]\n"
          ]
        },
        {
          "name": "stdout",
          "output_type": "stream",
          "text": [
            "Extracting ./data/MNIST/raw/train-labels-idx1-ubyte.gz to ./data/MNIST/raw\n",
            "\n",
            "Downloading http://yann.lecun.com/exdb/mnist/t10k-images-idx3-ubyte.gz\n",
            "Downloading http://yann.lecun.com/exdb/mnist/t10k-images-idx3-ubyte.gz to ./data/MNIST/raw/t10k-images-idx3-ubyte.gz\n"
          ]
        },
        {
          "name": "stderr",
          "output_type": "stream",
          "text": [
            "100%|██████████| 1648877/1648877 [00:00<00:00, 79294313.06it/s]"
          ]
        },
        {
          "name": "stdout",
          "output_type": "stream",
          "text": [
            "Extracting ./data/MNIST/raw/t10k-images-idx3-ubyte.gz to ./data/MNIST/raw\n"
          ]
        },
        {
          "name": "stderr",
          "output_type": "stream",
          "text": [
            "\n"
          ]
        },
        {
          "name": "stdout",
          "output_type": "stream",
          "text": [
            "\n",
            "Downloading http://yann.lecun.com/exdb/mnist/t10k-labels-idx1-ubyte.gz\n",
            "Downloading http://yann.lecun.com/exdb/mnist/t10k-labels-idx1-ubyte.gz to ./data/MNIST/raw/t10k-labels-idx1-ubyte.gz\n"
          ]
        },
        {
          "name": "stderr",
          "output_type": "stream",
          "text": [
            "100%|██████████| 4542/4542 [00:00<00:00, 7497256.50it/s]\n"
          ]
        },
        {
          "name": "stdout",
          "output_type": "stream",
          "text": [
            "Extracting ./data/MNIST/raw/t10k-labels-idx1-ubyte.gz to ./data/MNIST/raw\n",
            "\n"
          ]
        }
      ],
      "source": [
        "# Training settings\n",
        "batch_size = 64\n",
        "\n",
        "# MNIST Dataset\n",
        "train_dataset = datasets.MNIST(root='./data/',\n",
        "                               train=True,\n",
        "                               transform=transforms.ToTensor(),\n",
        "                               download=True)\n",
        "\n",
        "test_dataset = datasets.MNIST(root='./data/',\n",
        "                              train=False,\n",
        "                              transform=transforms.ToTensor())\n",
        "\n",
        "# Data Loader (Input Pipeline)\n",
        "train_loader = torch.utils.data.DataLoader(dataset=train_dataset,\n",
        "                                           batch_size=batch_size,\n",
        "                                           shuffle=True)\n",
        "\n",
        "test_loader = torch.utils.data.DataLoader(dataset=test_dataset,\n",
        "                                          batch_size=batch_size,\n",
        "                                          shuffle=False)"
      ]
    },
    {
      "cell_type": "code",
      "execution_count": 33,
      "metadata": {
        "id": "tLCSvgganBrH"
      },
      "outputs": [],
      "source": [
        "class Net(nn.Module):\n",
        "  def __init__(self):\n",
        "    super(Net, self).__init__()\n",
        "    self.conv1 = nn.Conv2d(1, 10, kernel_size = 5)\n",
        "    self.conv2 = nn.Conv2d(10, 20, kernel_size = 5)\n",
        "    self.mp = nn.MaxPool2d(2)\n",
        "    self.fc = nn.Linear(320 , 10) ### : 알맞는 input은?\n",
        "\n",
        "  def forward(self, x):\n",
        "    in_size = x.size(0)\n",
        "    x = F.relu(self.mp(self.conv1(x)))\n",
        "    x = F.relu(self.mp(self.conv2(x)))\n",
        "    x = x.view(in_size, -1)\n",
        "    x = self.fc(x)\n",
        "    return F.log_softmax(x)"
      ]
    },
    {
      "cell_type": "code",
      "execution_count": 37,
      "metadata": {
        "id": "lkYZ4pUdnUHc"
      },
      "outputs": [],
      "source": [
        "model = Net()\n",
        "optimizer = optim.SGD(model.parameters(), lr = 0.01, momentum = 0.5)"
      ]
    },
    {
      "cell_type": "code",
      "execution_count": 38,
      "metadata": {
        "id": "IzUrEM3EnXJb"
      },
      "outputs": [],
      "source": [
        "def train(epoch):\n",
        "  model.train()\n",
        "  for batch_idx, (data, target) in enumerate(train_loader):\n",
        "    data, target = Variable(data), Variable(target)\n",
        "    optimizer.zero_grad()\n",
        "    output = model(data)\n",
        "    loss = F.nll_loss(output, target)\n",
        "    loss.backward()\n",
        "    optimizer.step()\n",
        "    if batch_idx % 10 == 0:\n",
        "      print('Train Epoch: {} [{}/{} ({:.0f}%)]\\tLoss: {:.6f}'.format(\n",
        "          epoch, batch_idx * len(data), len(train_loader.dataset),\n",
        "          100. * batch_idx / len(train_loader), loss.item()))"
      ]
    },
    {
      "cell_type": "code",
      "execution_count": 39,
      "metadata": {
        "id": "EFi0gYJGn2aa"
      },
      "outputs": [],
      "source": [
        "def test():\n",
        "    model.eval() #model.eval() 의 기능은?\n",
        "    test_loss = 0\n",
        "    correct = 0\n",
        "    for data, target in test_loader:\n",
        "        data, target = Variable(data, volatile=True), Variable(target)\n",
        "        output = model(data)\n",
        "        test_loss += F.nll_loss(output, target, size_average=False).data # nll_loss?? / cross entropy loss와의 관계 확인!\n",
        "        pred = output.data.max(1, keepdim=True)[1]\n",
        "        correct += pred.eq(target.data.view_as(pred)).cpu().sum()\n",
        "\n",
        "    test_loss /= len(test_loader.dataset)\n",
        "    print('\\nTest set: Average loss: {:.4f}, Accuracy: {}/{} ({:.0f}%)\\n'.format(\n",
        "        test_loss, correct, len(test_loader.dataset),\n",
        "        100. * correct / len(test_loader.dataset)))"
      ]
    },
    {
      "cell_type": "code",
      "execution_count": 40,
      "metadata": {
        "colab": {
          "base_uri": "https://localhost:8080/"
        },
        "id": "zSvSZb_Bn4Nx",
        "outputId": "f790e451-a26d-45bd-e0f0-2dff46f61942"
      },
      "outputs": [
        {
          "name": "stderr",
          "output_type": "stream",
          "text": [
            "<ipython-input-36-006ecbc6c563>:15: UserWarning: Implicit dimension choice for log_softmax has been deprecated. Change the call to include dim=X as an argument.\n",
            "  return F.log_softmax(x)\n"
          ]
        },
        {
          "name": "stdout",
          "output_type": "stream",
          "text": [
            "Train Epoch: 1 [0/60000 (0%)]\tLoss: 2.311519\n",
            "Train Epoch: 1 [640/60000 (1%)]\tLoss: 2.287934\n",
            "Train Epoch: 1 [1280/60000 (2%)]\tLoss: 2.273714\n",
            "Train Epoch: 1 [1920/60000 (3%)]\tLoss: 2.254556\n",
            "Train Epoch: 1 [2560/60000 (4%)]\tLoss: 2.241865\n",
            "Train Epoch: 1 [3200/60000 (5%)]\tLoss: 2.207538\n",
            "Train Epoch: 1 [3840/60000 (6%)]\tLoss: 2.159414\n",
            "Train Epoch: 1 [4480/60000 (7%)]\tLoss: 2.155801\n",
            "Train Epoch: 1 [5120/60000 (9%)]\tLoss: 2.069215\n",
            "Train Epoch: 1 [5760/60000 (10%)]\tLoss: 1.910758\n",
            "Train Epoch: 1 [6400/60000 (11%)]\tLoss: 1.767062\n",
            "Train Epoch: 1 [7040/60000 (12%)]\tLoss: 1.586539\n",
            "Train Epoch: 1 [7680/60000 (13%)]\tLoss: 1.415338\n",
            "Train Epoch: 1 [8320/60000 (14%)]\tLoss: 1.077908\n",
            "Train Epoch: 1 [8960/60000 (15%)]\tLoss: 0.860058\n",
            "Train Epoch: 1 [9600/60000 (16%)]\tLoss: 0.776644\n",
            "Train Epoch: 1 [10240/60000 (17%)]\tLoss: 0.821930\n",
            "Train Epoch: 1 [10880/60000 (18%)]\tLoss: 0.611289\n",
            "Train Epoch: 1 [11520/60000 (19%)]\tLoss: 0.624427\n",
            "Train Epoch: 1 [12160/60000 (20%)]\tLoss: 0.913928\n",
            "Train Epoch: 1 [12800/60000 (21%)]\tLoss: 0.637853\n",
            "Train Epoch: 1 [13440/60000 (22%)]\tLoss: 0.354628\n",
            "Train Epoch: 1 [14080/60000 (23%)]\tLoss: 0.400904\n",
            "Train Epoch: 1 [14720/60000 (25%)]\tLoss: 0.405804\n",
            "Train Epoch: 1 [15360/60000 (26%)]\tLoss: 0.310119\n",
            "Train Epoch: 1 [16000/60000 (27%)]\tLoss: 0.320459\n",
            "Train Epoch: 1 [16640/60000 (28%)]\tLoss: 0.456224\n",
            "Train Epoch: 1 [17280/60000 (29%)]\tLoss: 0.409553\n",
            "Train Epoch: 1 [17920/60000 (30%)]\tLoss: 0.271277\n",
            "Train Epoch: 1 [18560/60000 (31%)]\tLoss: 0.332450\n",
            "Train Epoch: 1 [19200/60000 (32%)]\tLoss: 0.318879\n",
            "Train Epoch: 1 [19840/60000 (33%)]\tLoss: 0.273674\n",
            "Train Epoch: 1 [20480/60000 (34%)]\tLoss: 0.354289\n",
            "Train Epoch: 1 [21120/60000 (35%)]\tLoss: 0.296812\n",
            "Train Epoch: 1 [21760/60000 (36%)]\tLoss: 0.162554\n",
            "Train Epoch: 1 [22400/60000 (37%)]\tLoss: 0.394342\n",
            "Train Epoch: 1 [23040/60000 (38%)]\tLoss: 0.359460\n",
            "Train Epoch: 1 [23680/60000 (39%)]\tLoss: 0.447518\n",
            "Train Epoch: 1 [24320/60000 (41%)]\tLoss: 0.375571\n",
            "Train Epoch: 1 [24960/60000 (42%)]\tLoss: 0.197414\n",
            "Train Epoch: 1 [25600/60000 (43%)]\tLoss: 0.371730\n",
            "Train Epoch: 1 [26240/60000 (44%)]\tLoss: 0.360820\n",
            "Train Epoch: 1 [26880/60000 (45%)]\tLoss: 0.248543\n",
            "Train Epoch: 1 [27520/60000 (46%)]\tLoss: 0.226333\n",
            "Train Epoch: 1 [28160/60000 (47%)]\tLoss: 0.235683\n",
            "Train Epoch: 1 [28800/60000 (48%)]\tLoss: 0.341047\n",
            "Train Epoch: 1 [29440/60000 (49%)]\tLoss: 0.169090\n",
            "Train Epoch: 1 [30080/60000 (50%)]\tLoss: 0.258641\n",
            "Train Epoch: 1 [30720/60000 (51%)]\tLoss: 0.247302\n",
            "Train Epoch: 1 [31360/60000 (52%)]\tLoss: 0.374315\n",
            "Train Epoch: 1 [32000/60000 (53%)]\tLoss: 0.452841\n",
            "Train Epoch: 1 [32640/60000 (54%)]\tLoss: 0.176452\n",
            "Train Epoch: 1 [33280/60000 (55%)]\tLoss: 0.339819\n",
            "Train Epoch: 1 [33920/60000 (57%)]\tLoss: 0.209804\n",
            "Train Epoch: 1 [34560/60000 (58%)]\tLoss: 0.337645\n",
            "Train Epoch: 1 [35200/60000 (59%)]\tLoss: 0.169025\n",
            "Train Epoch: 1 [35840/60000 (60%)]\tLoss: 0.158672\n",
            "Train Epoch: 1 [36480/60000 (61%)]\tLoss: 0.396191\n",
            "Train Epoch: 1 [37120/60000 (62%)]\tLoss: 0.308579\n",
            "Train Epoch: 1 [37760/60000 (63%)]\tLoss: 0.152227\n",
            "Train Epoch: 1 [38400/60000 (64%)]\tLoss: 0.423649\n",
            "Train Epoch: 1 [39040/60000 (65%)]\tLoss: 0.283939\n",
            "Train Epoch: 1 [39680/60000 (66%)]\tLoss: 0.269527\n",
            "Train Epoch: 1 [40320/60000 (67%)]\tLoss: 0.237769\n",
            "Train Epoch: 1 [40960/60000 (68%)]\tLoss: 0.208429\n",
            "Train Epoch: 1 [41600/60000 (69%)]\tLoss: 0.160244\n",
            "Train Epoch: 1 [42240/60000 (70%)]\tLoss: 0.169524\n",
            "Train Epoch: 1 [42880/60000 (71%)]\tLoss: 0.208897\n",
            "Train Epoch: 1 [43520/60000 (72%)]\tLoss: 0.165209\n",
            "Train Epoch: 1 [44160/60000 (74%)]\tLoss: 0.214400\n",
            "Train Epoch: 1 [44800/60000 (75%)]\tLoss: 0.156578\n",
            "Train Epoch: 1 [45440/60000 (76%)]\tLoss: 0.187648\n",
            "Train Epoch: 1 [46080/60000 (77%)]\tLoss: 0.134149\n",
            "Train Epoch: 1 [46720/60000 (78%)]\tLoss: 0.227182\n",
            "Train Epoch: 1 [47360/60000 (79%)]\tLoss: 0.165539\n",
            "Train Epoch: 1 [48000/60000 (80%)]\tLoss: 0.392212\n",
            "Train Epoch: 1 [48640/60000 (81%)]\tLoss: 0.255180\n",
            "Train Epoch: 1 [49280/60000 (82%)]\tLoss: 0.219913\n",
            "Train Epoch: 1 [49920/60000 (83%)]\tLoss: 0.101254\n",
            "Train Epoch: 1 [50560/60000 (84%)]\tLoss: 0.243712\n",
            "Train Epoch: 1 [51200/60000 (85%)]\tLoss: 0.353282\n",
            "Train Epoch: 1 [51840/60000 (86%)]\tLoss: 0.286170\n",
            "Train Epoch: 1 [52480/60000 (87%)]\tLoss: 0.189271\n",
            "Train Epoch: 1 [53120/60000 (88%)]\tLoss: 0.156548\n",
            "Train Epoch: 1 [53760/60000 (90%)]\tLoss: 0.164962\n",
            "Train Epoch: 1 [54400/60000 (91%)]\tLoss: 0.417270\n",
            "Train Epoch: 1 [55040/60000 (92%)]\tLoss: 0.213263\n",
            "Train Epoch: 1 [55680/60000 (93%)]\tLoss: 0.136439\n",
            "Train Epoch: 1 [56320/60000 (94%)]\tLoss: 0.096324\n",
            "Train Epoch: 1 [56960/60000 (95%)]\tLoss: 0.270717\n",
            "Train Epoch: 1 [57600/60000 (96%)]\tLoss: 0.177665\n",
            "Train Epoch: 1 [58240/60000 (97%)]\tLoss: 0.146435\n",
            "Train Epoch: 1 [58880/60000 (98%)]\tLoss: 0.140282\n",
            "Train Epoch: 1 [59520/60000 (99%)]\tLoss: 0.086007\n"
          ]
        },
        {
          "name": "stderr",
          "output_type": "stream",
          "text": [
            "<ipython-input-39-f52337105c2a>:6: UserWarning: volatile was removed and now has no effect. Use `with torch.no_grad():` instead.\n",
            "  data, target = Variable(data, volatile=True), Variable(target)\n",
            "/usr/local/lib/python3.10/dist-packages/torch/nn/_reduction.py:42: UserWarning: size_average and reduce args will be deprecated, please use reduction='sum' instead.\n",
            "  warnings.warn(warning.format(ret))\n"
          ]
        },
        {
          "name": "stdout",
          "output_type": "stream",
          "text": [
            "\n",
            "Test set: Average loss: 0.1660, Accuracy: 9516/10000 (95%)\n",
            "\n",
            "Train Epoch: 2 [0/60000 (0%)]\tLoss: 0.126898\n",
            "Train Epoch: 2 [640/60000 (1%)]\tLoss: 0.093021\n",
            "Train Epoch: 2 [1280/60000 (2%)]\tLoss: 0.084606\n",
            "Train Epoch: 2 [1920/60000 (3%)]\tLoss: 0.130588\n",
            "Train Epoch: 2 [2560/60000 (4%)]\tLoss: 0.189685\n",
            "Train Epoch: 2 [3200/60000 (5%)]\tLoss: 0.083588\n",
            "Train Epoch: 2 [3840/60000 (6%)]\tLoss: 0.119133\n",
            "Train Epoch: 2 [4480/60000 (7%)]\tLoss: 0.201479\n",
            "Train Epoch: 2 [5120/60000 (9%)]\tLoss: 0.211834\n",
            "Train Epoch: 2 [5760/60000 (10%)]\tLoss: 0.130028\n",
            "Train Epoch: 2 [6400/60000 (11%)]\tLoss: 0.128413\n",
            "Train Epoch: 2 [7040/60000 (12%)]\tLoss: 0.250810\n",
            "Train Epoch: 2 [7680/60000 (13%)]\tLoss: 0.212908\n",
            "Train Epoch: 2 [8320/60000 (14%)]\tLoss: 0.118573\n",
            "Train Epoch: 2 [8960/60000 (15%)]\tLoss: 0.085949\n",
            "Train Epoch: 2 [9600/60000 (16%)]\tLoss: 0.122269\n",
            "Train Epoch: 2 [10240/60000 (17%)]\tLoss: 0.138801\n",
            "Train Epoch: 2 [10880/60000 (18%)]\tLoss: 0.234220\n",
            "Train Epoch: 2 [11520/60000 (19%)]\tLoss: 0.112637\n",
            "Train Epoch: 2 [12160/60000 (20%)]\tLoss: 0.080638\n",
            "Train Epoch: 2 [12800/60000 (21%)]\tLoss: 0.092941\n",
            "Train Epoch: 2 [13440/60000 (22%)]\tLoss: 0.297479\n",
            "Train Epoch: 2 [14080/60000 (23%)]\tLoss: 0.068861\n",
            "Train Epoch: 2 [14720/60000 (25%)]\tLoss: 0.217523\n",
            "Train Epoch: 2 [15360/60000 (26%)]\tLoss: 0.277131\n",
            "Train Epoch: 2 [16000/60000 (27%)]\tLoss: 0.177497\n",
            "Train Epoch: 2 [16640/60000 (28%)]\tLoss: 0.237311\n",
            "Train Epoch: 2 [17280/60000 (29%)]\tLoss: 0.273082\n",
            "Train Epoch: 2 [17920/60000 (30%)]\tLoss: 0.116767\n",
            "Train Epoch: 2 [18560/60000 (31%)]\tLoss: 0.114468\n",
            "Train Epoch: 2 [19200/60000 (32%)]\tLoss: 0.086864\n",
            "Train Epoch: 2 [19840/60000 (33%)]\tLoss: 0.108325\n",
            "Train Epoch: 2 [20480/60000 (34%)]\tLoss: 0.114677\n",
            "Train Epoch: 2 [21120/60000 (35%)]\tLoss: 0.137598\n",
            "Train Epoch: 2 [21760/60000 (36%)]\tLoss: 0.152471\n",
            "Train Epoch: 2 [22400/60000 (37%)]\tLoss: 0.097366\n",
            "Train Epoch: 2 [23040/60000 (38%)]\tLoss: 0.326086\n",
            "Train Epoch: 2 [23680/60000 (39%)]\tLoss: 0.384726\n",
            "Train Epoch: 2 [24320/60000 (41%)]\tLoss: 0.173497\n",
            "Train Epoch: 2 [24960/60000 (42%)]\tLoss: 0.206272\n",
            "Train Epoch: 2 [25600/60000 (43%)]\tLoss: 0.148856\n",
            "Train Epoch: 2 [26240/60000 (44%)]\tLoss: 0.149634\n",
            "Train Epoch: 2 [26880/60000 (45%)]\tLoss: 0.112800\n",
            "Train Epoch: 2 [27520/60000 (46%)]\tLoss: 0.157090\n",
            "Train Epoch: 2 [28160/60000 (47%)]\tLoss: 0.094543\n",
            "Train Epoch: 2 [28800/60000 (48%)]\tLoss: 0.167981\n",
            "Train Epoch: 2 [29440/60000 (49%)]\tLoss: 0.026411\n",
            "Train Epoch: 2 [30080/60000 (50%)]\tLoss: 0.273637\n",
            "Train Epoch: 2 [30720/60000 (51%)]\tLoss: 0.128035\n",
            "Train Epoch: 2 [31360/60000 (52%)]\tLoss: 0.178976\n",
            "Train Epoch: 2 [32000/60000 (53%)]\tLoss: 0.119705\n",
            "Train Epoch: 2 [32640/60000 (54%)]\tLoss: 0.079710\n",
            "Train Epoch: 2 [33280/60000 (55%)]\tLoss: 0.174490\n",
            "Train Epoch: 2 [33920/60000 (57%)]\tLoss: 0.302969\n",
            "Train Epoch: 2 [34560/60000 (58%)]\tLoss: 0.111383\n",
            "Train Epoch: 2 [35200/60000 (59%)]\tLoss: 0.156106\n",
            "Train Epoch: 2 [35840/60000 (60%)]\tLoss: 0.112441\n",
            "Train Epoch: 2 [36480/60000 (61%)]\tLoss: 0.153920\n",
            "Train Epoch: 2 [37120/60000 (62%)]\tLoss: 0.075080\n",
            "Train Epoch: 2 [37760/60000 (63%)]\tLoss: 0.047753\n",
            "Train Epoch: 2 [38400/60000 (64%)]\tLoss: 0.267725\n",
            "Train Epoch: 2 [39040/60000 (65%)]\tLoss: 0.089102\n",
            "Train Epoch: 2 [39680/60000 (66%)]\tLoss: 0.068722\n",
            "Train Epoch: 2 [40320/60000 (67%)]\tLoss: 0.272397\n",
            "Train Epoch: 2 [40960/60000 (68%)]\tLoss: 0.349509\n",
            "Train Epoch: 2 [41600/60000 (69%)]\tLoss: 0.101074\n",
            "Train Epoch: 2 [42240/60000 (70%)]\tLoss: 0.204115\n",
            "Train Epoch: 2 [42880/60000 (71%)]\tLoss: 0.141813\n",
            "Train Epoch: 2 [43520/60000 (72%)]\tLoss: 0.107505\n",
            "Train Epoch: 2 [44160/60000 (74%)]\tLoss: 0.141491\n",
            "Train Epoch: 2 [44800/60000 (75%)]\tLoss: 0.257240\n",
            "Train Epoch: 2 [45440/60000 (76%)]\tLoss: 0.105188\n",
            "Train Epoch: 2 [46080/60000 (77%)]\tLoss: 0.168173\n",
            "Train Epoch: 2 [46720/60000 (78%)]\tLoss: 0.095536\n",
            "Train Epoch: 2 [47360/60000 (79%)]\tLoss: 0.120974\n",
            "Train Epoch: 2 [48000/60000 (80%)]\tLoss: 0.175251\n",
            "Train Epoch: 2 [48640/60000 (81%)]\tLoss: 0.080474\n",
            "Train Epoch: 2 [49280/60000 (82%)]\tLoss: 0.055998\n",
            "Train Epoch: 2 [49920/60000 (83%)]\tLoss: 0.134458\n",
            "Train Epoch: 2 [50560/60000 (84%)]\tLoss: 0.045467\n",
            "Train Epoch: 2 [51200/60000 (85%)]\tLoss: 0.040344\n",
            "Train Epoch: 2 [51840/60000 (86%)]\tLoss: 0.122147\n",
            "Train Epoch: 2 [52480/60000 (87%)]\tLoss: 0.193096\n",
            "Train Epoch: 2 [53120/60000 (88%)]\tLoss: 0.020193\n",
            "Train Epoch: 2 [53760/60000 (90%)]\tLoss: 0.051514\n",
            "Train Epoch: 2 [54400/60000 (91%)]\tLoss: 0.038170\n",
            "Train Epoch: 2 [55040/60000 (92%)]\tLoss: 0.150524\n",
            "Train Epoch: 2 [55680/60000 (93%)]\tLoss: 0.155609\n",
            "Train Epoch: 2 [56320/60000 (94%)]\tLoss: 0.209055\n",
            "Train Epoch: 2 [56960/60000 (95%)]\tLoss: 0.184442\n",
            "Train Epoch: 2 [57600/60000 (96%)]\tLoss: 0.155451\n",
            "Train Epoch: 2 [58240/60000 (97%)]\tLoss: 0.132282\n",
            "Train Epoch: 2 [58880/60000 (98%)]\tLoss: 0.079193\n",
            "Train Epoch: 2 [59520/60000 (99%)]\tLoss: 0.146201\n",
            "\n",
            "Test set: Average loss: 0.1032, Accuracy: 9699/10000 (97%)\n",
            "\n",
            "Train Epoch: 3 [0/60000 (0%)]\tLoss: 0.060392\n",
            "Train Epoch: 3 [640/60000 (1%)]\tLoss: 0.267492\n",
            "Train Epoch: 3 [1280/60000 (2%)]\tLoss: 0.044308\n",
            "Train Epoch: 3 [1920/60000 (3%)]\tLoss: 0.050436\n",
            "Train Epoch: 3 [2560/60000 (4%)]\tLoss: 0.083509\n",
            "Train Epoch: 3 [3200/60000 (5%)]\tLoss: 0.052872\n",
            "Train Epoch: 3 [3840/60000 (6%)]\tLoss: 0.215943\n",
            "Train Epoch: 3 [4480/60000 (7%)]\tLoss: 0.039610\n",
            "Train Epoch: 3 [5120/60000 (9%)]\tLoss: 0.112945\n",
            "Train Epoch: 3 [5760/60000 (10%)]\tLoss: 0.070444\n",
            "Train Epoch: 3 [6400/60000 (11%)]\tLoss: 0.132303\n",
            "Train Epoch: 3 [7040/60000 (12%)]\tLoss: 0.330952\n",
            "Train Epoch: 3 [7680/60000 (13%)]\tLoss: 0.048887\n",
            "Train Epoch: 3 [8320/60000 (14%)]\tLoss: 0.147956\n",
            "Train Epoch: 3 [8960/60000 (15%)]\tLoss: 0.091901\n",
            "Train Epoch: 3 [9600/60000 (16%)]\tLoss: 0.112095\n",
            "Train Epoch: 3 [10240/60000 (17%)]\tLoss: 0.195817\n",
            "Train Epoch: 3 [10880/60000 (18%)]\tLoss: 0.110146\n",
            "Train Epoch: 3 [11520/60000 (19%)]\tLoss: 0.111810\n",
            "Train Epoch: 3 [12160/60000 (20%)]\tLoss: 0.084355\n",
            "Train Epoch: 3 [12800/60000 (21%)]\tLoss: 0.168290\n",
            "Train Epoch: 3 [13440/60000 (22%)]\tLoss: 0.061418\n",
            "Train Epoch: 3 [14080/60000 (23%)]\tLoss: 0.091210\n",
            "Train Epoch: 3 [14720/60000 (25%)]\tLoss: 0.074201\n",
            "Train Epoch: 3 [15360/60000 (26%)]\tLoss: 0.061045\n",
            "Train Epoch: 3 [16000/60000 (27%)]\tLoss: 0.192713\n",
            "Train Epoch: 3 [16640/60000 (28%)]\tLoss: 0.128157\n",
            "Train Epoch: 3 [17280/60000 (29%)]\tLoss: 0.081902\n",
            "Train Epoch: 3 [17920/60000 (30%)]\tLoss: 0.070053\n",
            "Train Epoch: 3 [18560/60000 (31%)]\tLoss: 0.167455\n",
            "Train Epoch: 3 [19200/60000 (32%)]\tLoss: 0.078192\n",
            "Train Epoch: 3 [19840/60000 (33%)]\tLoss: 0.061662\n",
            "Train Epoch: 3 [20480/60000 (34%)]\tLoss: 0.072689\n",
            "Train Epoch: 3 [21120/60000 (35%)]\tLoss: 0.055202\n",
            "Train Epoch: 3 [21760/60000 (36%)]\tLoss: 0.050900\n",
            "Train Epoch: 3 [22400/60000 (37%)]\tLoss: 0.073282\n",
            "Train Epoch: 3 [23040/60000 (38%)]\tLoss: 0.141743\n",
            "Train Epoch: 3 [23680/60000 (39%)]\tLoss: 0.049013\n",
            "Train Epoch: 3 [24320/60000 (41%)]\tLoss: 0.065047\n",
            "Train Epoch: 3 [24960/60000 (42%)]\tLoss: 0.073460\n",
            "Train Epoch: 3 [25600/60000 (43%)]\tLoss: 0.241393\n",
            "Train Epoch: 3 [26240/60000 (44%)]\tLoss: 0.092035\n",
            "Train Epoch: 3 [26880/60000 (45%)]\tLoss: 0.144114\n",
            "Train Epoch: 3 [27520/60000 (46%)]\tLoss: 0.150524\n",
            "Train Epoch: 3 [28160/60000 (47%)]\tLoss: 0.158641\n",
            "Train Epoch: 3 [28800/60000 (48%)]\tLoss: 0.078591\n",
            "Train Epoch: 3 [29440/60000 (49%)]\tLoss: 0.118152\n",
            "Train Epoch: 3 [30080/60000 (50%)]\tLoss: 0.156292\n",
            "Train Epoch: 3 [30720/60000 (51%)]\tLoss: 0.026627\n",
            "Train Epoch: 3 [31360/60000 (52%)]\tLoss: 0.081000\n",
            "Train Epoch: 3 [32000/60000 (53%)]\tLoss: 0.151681\n",
            "Train Epoch: 3 [32640/60000 (54%)]\tLoss: 0.200501\n",
            "Train Epoch: 3 [33280/60000 (55%)]\tLoss: 0.058205\n",
            "Train Epoch: 3 [33920/60000 (57%)]\tLoss: 0.355860\n",
            "Train Epoch: 3 [34560/60000 (58%)]\tLoss: 0.114817\n",
            "Train Epoch: 3 [35200/60000 (59%)]\tLoss: 0.169539\n",
            "Train Epoch: 3 [35840/60000 (60%)]\tLoss: 0.134951\n",
            "Train Epoch: 3 [36480/60000 (61%)]\tLoss: 0.033888\n",
            "Train Epoch: 3 [37120/60000 (62%)]\tLoss: 0.187758\n",
            "Train Epoch: 3 [37760/60000 (63%)]\tLoss: 0.022822\n",
            "Train Epoch: 3 [38400/60000 (64%)]\tLoss: 0.076582\n",
            "Train Epoch: 3 [39040/60000 (65%)]\tLoss: 0.214040\n",
            "Train Epoch: 3 [39680/60000 (66%)]\tLoss: 0.221964\n",
            "Train Epoch: 3 [40320/60000 (67%)]\tLoss: 0.102149\n",
            "Train Epoch: 3 [40960/60000 (68%)]\tLoss: 0.289768\n",
            "Train Epoch: 3 [41600/60000 (69%)]\tLoss: 0.050935\n",
            "Train Epoch: 3 [42240/60000 (70%)]\tLoss: 0.131652\n",
            "Train Epoch: 3 [42880/60000 (71%)]\tLoss: 0.094222\n",
            "Train Epoch: 3 [43520/60000 (72%)]\tLoss: 0.130839\n",
            "Train Epoch: 3 [44160/60000 (74%)]\tLoss: 0.042614\n",
            "Train Epoch: 3 [44800/60000 (75%)]\tLoss: 0.134401\n",
            "Train Epoch: 3 [45440/60000 (76%)]\tLoss: 0.047115\n",
            "Train Epoch: 3 [46080/60000 (77%)]\tLoss: 0.104647\n",
            "Train Epoch: 3 [46720/60000 (78%)]\tLoss: 0.234527\n",
            "Train Epoch: 3 [47360/60000 (79%)]\tLoss: 0.110779\n",
            "Train Epoch: 3 [48000/60000 (80%)]\tLoss: 0.111057\n",
            "Train Epoch: 3 [48640/60000 (81%)]\tLoss: 0.053374\n",
            "Train Epoch: 3 [49280/60000 (82%)]\tLoss: 0.090472\n",
            "Train Epoch: 3 [49920/60000 (83%)]\tLoss: 0.155478\n",
            "Train Epoch: 3 [50560/60000 (84%)]\tLoss: 0.104063\n",
            "Train Epoch: 3 [51200/60000 (85%)]\tLoss: 0.053607\n",
            "Train Epoch: 3 [51840/60000 (86%)]\tLoss: 0.171612\n",
            "Train Epoch: 3 [52480/60000 (87%)]\tLoss: 0.284268\n",
            "Train Epoch: 3 [53120/60000 (88%)]\tLoss: 0.074802\n",
            "Train Epoch: 3 [53760/60000 (90%)]\tLoss: 0.173623\n",
            "Train Epoch: 3 [54400/60000 (91%)]\tLoss: 0.132211\n",
            "Train Epoch: 3 [55040/60000 (92%)]\tLoss: 0.065998\n",
            "Train Epoch: 3 [55680/60000 (93%)]\tLoss: 0.146290\n",
            "Train Epoch: 3 [56320/60000 (94%)]\tLoss: 0.038032\n",
            "Train Epoch: 3 [56960/60000 (95%)]\tLoss: 0.080025\n",
            "Train Epoch: 3 [57600/60000 (96%)]\tLoss: 0.087225\n",
            "Train Epoch: 3 [58240/60000 (97%)]\tLoss: 0.047445\n",
            "Train Epoch: 3 [58880/60000 (98%)]\tLoss: 0.071518\n",
            "Train Epoch: 3 [59520/60000 (99%)]\tLoss: 0.090651\n",
            "\n",
            "Test set: Average loss: 0.0843, Accuracy: 9738/10000 (97%)\n",
            "\n",
            "Train Epoch: 4 [0/60000 (0%)]\tLoss: 0.023749\n",
            "Train Epoch: 4 [640/60000 (1%)]\tLoss: 0.081359\n",
            "Train Epoch: 4 [1280/60000 (2%)]\tLoss: 0.048586\n",
            "Train Epoch: 4 [1920/60000 (3%)]\tLoss: 0.022104\n",
            "Train Epoch: 4 [2560/60000 (4%)]\tLoss: 0.062173\n",
            "Train Epoch: 4 [3200/60000 (5%)]\tLoss: 0.062533\n",
            "Train Epoch: 4 [3840/60000 (6%)]\tLoss: 0.240037\n",
            "Train Epoch: 4 [4480/60000 (7%)]\tLoss: 0.243900\n",
            "Train Epoch: 4 [5120/60000 (9%)]\tLoss: 0.095293\n",
            "Train Epoch: 4 [5760/60000 (10%)]\tLoss: 0.122945\n",
            "Train Epoch: 4 [6400/60000 (11%)]\tLoss: 0.059662\n",
            "Train Epoch: 4 [7040/60000 (12%)]\tLoss: 0.072400\n",
            "Train Epoch: 4 [7680/60000 (13%)]\tLoss: 0.112556\n",
            "Train Epoch: 4 [8320/60000 (14%)]\tLoss: 0.146067\n",
            "Train Epoch: 4 [8960/60000 (15%)]\tLoss: 0.035245\n",
            "Train Epoch: 4 [9600/60000 (16%)]\tLoss: 0.075623\n",
            "Train Epoch: 4 [10240/60000 (17%)]\tLoss: 0.123519\n",
            "Train Epoch: 4 [10880/60000 (18%)]\tLoss: 0.047583\n",
            "Train Epoch: 4 [11520/60000 (19%)]\tLoss: 0.094711\n",
            "Train Epoch: 4 [12160/60000 (20%)]\tLoss: 0.160628\n",
            "Train Epoch: 4 [12800/60000 (21%)]\tLoss: 0.045260\n",
            "Train Epoch: 4 [13440/60000 (22%)]\tLoss: 0.085351\n",
            "Train Epoch: 4 [14080/60000 (23%)]\tLoss: 0.052065\n",
            "Train Epoch: 4 [14720/60000 (25%)]\tLoss: 0.055503\n",
            "Train Epoch: 4 [15360/60000 (26%)]\tLoss: 0.075638\n",
            "Train Epoch: 4 [16000/60000 (27%)]\tLoss: 0.147987\n",
            "Train Epoch: 4 [16640/60000 (28%)]\tLoss: 0.140496\n",
            "Train Epoch: 4 [17280/60000 (29%)]\tLoss: 0.097797\n",
            "Train Epoch: 4 [17920/60000 (30%)]\tLoss: 0.292996\n",
            "Train Epoch: 4 [18560/60000 (31%)]\tLoss: 0.098895\n",
            "Train Epoch: 4 [19200/60000 (32%)]\tLoss: 0.115609\n",
            "Train Epoch: 4 [19840/60000 (33%)]\tLoss: 0.095732\n",
            "Train Epoch: 4 [20480/60000 (34%)]\tLoss: 0.091101\n",
            "Train Epoch: 4 [21120/60000 (35%)]\tLoss: 0.146379\n",
            "Train Epoch: 4 [21760/60000 (36%)]\tLoss: 0.141155\n",
            "Train Epoch: 4 [22400/60000 (37%)]\tLoss: 0.026095\n",
            "Train Epoch: 4 [23040/60000 (38%)]\tLoss: 0.050388\n",
            "Train Epoch: 4 [23680/60000 (39%)]\tLoss: 0.101946\n",
            "Train Epoch: 4 [24320/60000 (41%)]\tLoss: 0.044747\n",
            "Train Epoch: 4 [24960/60000 (42%)]\tLoss: 0.023161\n",
            "Train Epoch: 4 [25600/60000 (43%)]\tLoss: 0.039846\n",
            "Train Epoch: 4 [26240/60000 (44%)]\tLoss: 0.044567\n",
            "Train Epoch: 4 [26880/60000 (45%)]\tLoss: 0.057959\n",
            "Train Epoch: 4 [27520/60000 (46%)]\tLoss: 0.236788\n",
            "Train Epoch: 4 [28160/60000 (47%)]\tLoss: 0.026089\n",
            "Train Epoch: 4 [28800/60000 (48%)]\tLoss: 0.044788\n",
            "Train Epoch: 4 [29440/60000 (49%)]\tLoss: 0.053831\n",
            "Train Epoch: 4 [30080/60000 (50%)]\tLoss: 0.016648\n",
            "Train Epoch: 4 [30720/60000 (51%)]\tLoss: 0.021143\n",
            "Train Epoch: 4 [31360/60000 (52%)]\tLoss: 0.094261\n",
            "Train Epoch: 4 [32000/60000 (53%)]\tLoss: 0.020885\n",
            "Train Epoch: 4 [32640/60000 (54%)]\tLoss: 0.063367\n",
            "Train Epoch: 4 [33280/60000 (55%)]\tLoss: 0.042951\n",
            "Train Epoch: 4 [33920/60000 (57%)]\tLoss: 0.051536\n",
            "Train Epoch: 4 [34560/60000 (58%)]\tLoss: 0.213649\n",
            "Train Epoch: 4 [35200/60000 (59%)]\tLoss: 0.094096\n",
            "Train Epoch: 4 [35840/60000 (60%)]\tLoss: 0.019370\n",
            "Train Epoch: 4 [36480/60000 (61%)]\tLoss: 0.075059\n",
            "Train Epoch: 4 [37120/60000 (62%)]\tLoss: 0.061684\n",
            "Train Epoch: 4 [37760/60000 (63%)]\tLoss: 0.097137\n",
            "Train Epoch: 4 [38400/60000 (64%)]\tLoss: 0.121238\n",
            "Train Epoch: 4 [39040/60000 (65%)]\tLoss: 0.093594\n",
            "Train Epoch: 4 [39680/60000 (66%)]\tLoss: 0.055078\n",
            "Train Epoch: 4 [40320/60000 (67%)]\tLoss: 0.056743\n",
            "Train Epoch: 4 [40960/60000 (68%)]\tLoss: 0.065208\n",
            "Train Epoch: 4 [41600/60000 (69%)]\tLoss: 0.024935\n",
            "Train Epoch: 4 [42240/60000 (70%)]\tLoss: 0.037075\n",
            "Train Epoch: 4 [42880/60000 (71%)]\tLoss: 0.126183\n",
            "Train Epoch: 4 [43520/60000 (72%)]\tLoss: 0.119156\n",
            "Train Epoch: 4 [44160/60000 (74%)]\tLoss: 0.024578\n",
            "Train Epoch: 4 [44800/60000 (75%)]\tLoss: 0.054539\n",
            "Train Epoch: 4 [45440/60000 (76%)]\tLoss: 0.047142\n",
            "Train Epoch: 4 [46080/60000 (77%)]\tLoss: 0.036006\n",
            "Train Epoch: 4 [46720/60000 (78%)]\tLoss: 0.134277\n",
            "Train Epoch: 4 [47360/60000 (79%)]\tLoss: 0.055499\n",
            "Train Epoch: 4 [48000/60000 (80%)]\tLoss: 0.031824\n",
            "Train Epoch: 4 [48640/60000 (81%)]\tLoss: 0.036124\n",
            "Train Epoch: 4 [49280/60000 (82%)]\tLoss: 0.155059\n",
            "Train Epoch: 4 [49920/60000 (83%)]\tLoss: 0.052100\n",
            "Train Epoch: 4 [50560/60000 (84%)]\tLoss: 0.063589\n",
            "Train Epoch: 4 [51200/60000 (85%)]\tLoss: 0.072304\n",
            "Train Epoch: 4 [51840/60000 (86%)]\tLoss: 0.061409\n",
            "Train Epoch: 4 [52480/60000 (87%)]\tLoss: 0.047626\n",
            "Train Epoch: 4 [53120/60000 (88%)]\tLoss: 0.081702\n",
            "Train Epoch: 4 [53760/60000 (90%)]\tLoss: 0.025256\n",
            "Train Epoch: 4 [54400/60000 (91%)]\tLoss: 0.037486\n",
            "Train Epoch: 4 [55040/60000 (92%)]\tLoss: 0.083646\n",
            "Train Epoch: 4 [55680/60000 (93%)]\tLoss: 0.036013\n",
            "Train Epoch: 4 [56320/60000 (94%)]\tLoss: 0.028718\n",
            "Train Epoch: 4 [56960/60000 (95%)]\tLoss: 0.098400\n",
            "Train Epoch: 4 [57600/60000 (96%)]\tLoss: 0.330378\n",
            "Train Epoch: 4 [58240/60000 (97%)]\tLoss: 0.017071\n",
            "Train Epoch: 4 [58880/60000 (98%)]\tLoss: 0.113150\n",
            "Train Epoch: 4 [59520/60000 (99%)]\tLoss: 0.093548\n",
            "\n",
            "Test set: Average loss: 0.0709, Accuracy: 9778/10000 (98%)\n",
            "\n",
            "Train Epoch: 5 [0/60000 (0%)]\tLoss: 0.030505\n",
            "Train Epoch: 5 [640/60000 (1%)]\tLoss: 0.043983\n",
            "Train Epoch: 5 [1280/60000 (2%)]\tLoss: 0.054081\n",
            "Train Epoch: 5 [1920/60000 (3%)]\tLoss: 0.124630\n",
            "Train Epoch: 5 [2560/60000 (4%)]\tLoss: 0.026530\n",
            "Train Epoch: 5 [3200/60000 (5%)]\tLoss: 0.023833\n",
            "Train Epoch: 5 [3840/60000 (6%)]\tLoss: 0.050395\n",
            "Train Epoch: 5 [4480/60000 (7%)]\tLoss: 0.039547\n",
            "Train Epoch: 5 [5120/60000 (9%)]\tLoss: 0.076899\n",
            "Train Epoch: 5 [5760/60000 (10%)]\tLoss: 0.103830\n",
            "Train Epoch: 5 [6400/60000 (11%)]\tLoss: 0.070972\n",
            "Train Epoch: 5 [7040/60000 (12%)]\tLoss: 0.075412\n",
            "Train Epoch: 5 [7680/60000 (13%)]\tLoss: 0.045590\n",
            "Train Epoch: 5 [8320/60000 (14%)]\tLoss: 0.041012\n",
            "Train Epoch: 5 [8960/60000 (15%)]\tLoss: 0.019206\n",
            "Train Epoch: 5 [9600/60000 (16%)]\tLoss: 0.075008\n",
            "Train Epoch: 5 [10240/60000 (17%)]\tLoss: 0.042823\n",
            "Train Epoch: 5 [10880/60000 (18%)]\tLoss: 0.105213\n",
            "Train Epoch: 5 [11520/60000 (19%)]\tLoss: 0.045730\n",
            "Train Epoch: 5 [12160/60000 (20%)]\tLoss: 0.067981\n",
            "Train Epoch: 5 [12800/60000 (21%)]\tLoss: 0.058835\n",
            "Train Epoch: 5 [13440/60000 (22%)]\tLoss: 0.065445\n",
            "Train Epoch: 5 [14080/60000 (23%)]\tLoss: 0.018830\n",
            "Train Epoch: 5 [14720/60000 (25%)]\tLoss: 0.121190\n",
            "Train Epoch: 5 [15360/60000 (26%)]\tLoss: 0.020450\n",
            "Train Epoch: 5 [16000/60000 (27%)]\tLoss: 0.051177\n",
            "Train Epoch: 5 [16640/60000 (28%)]\tLoss: 0.067320\n",
            "Train Epoch: 5 [17280/60000 (29%)]\tLoss: 0.231389\n",
            "Train Epoch: 5 [17920/60000 (30%)]\tLoss: 0.121206\n",
            "Train Epoch: 5 [18560/60000 (31%)]\tLoss: 0.060749\n",
            "Train Epoch: 5 [19200/60000 (32%)]\tLoss: 0.135161\n",
            "Train Epoch: 5 [19840/60000 (33%)]\tLoss: 0.057008\n",
            "Train Epoch: 5 [20480/60000 (34%)]\tLoss: 0.030435\n",
            "Train Epoch: 5 [21120/60000 (35%)]\tLoss: 0.085092\n",
            "Train Epoch: 5 [21760/60000 (36%)]\tLoss: 0.033208\n",
            "Train Epoch: 5 [22400/60000 (37%)]\tLoss: 0.079387\n",
            "Train Epoch: 5 [23040/60000 (38%)]\tLoss: 0.056386\n",
            "Train Epoch: 5 [23680/60000 (39%)]\tLoss: 0.111433\n",
            "Train Epoch: 5 [24320/60000 (41%)]\tLoss: 0.124672\n",
            "Train Epoch: 5 [24960/60000 (42%)]\tLoss: 0.040779\n",
            "Train Epoch: 5 [25600/60000 (43%)]\tLoss: 0.156733\n",
            "Train Epoch: 5 [26240/60000 (44%)]\tLoss: 0.082238\n",
            "Train Epoch: 5 [26880/60000 (45%)]\tLoss: 0.053639\n",
            "Train Epoch: 5 [27520/60000 (46%)]\tLoss: 0.028628\n",
            "Train Epoch: 5 [28160/60000 (47%)]\tLoss: 0.063749\n",
            "Train Epoch: 5 [28800/60000 (48%)]\tLoss: 0.027288\n",
            "Train Epoch: 5 [29440/60000 (49%)]\tLoss: 0.021138\n",
            "Train Epoch: 5 [30080/60000 (50%)]\tLoss: 0.039283\n",
            "Train Epoch: 5 [30720/60000 (51%)]\tLoss: 0.039972\n",
            "Train Epoch: 5 [31360/60000 (52%)]\tLoss: 0.060673\n",
            "Train Epoch: 5 [32000/60000 (53%)]\tLoss: 0.064084\n",
            "Train Epoch: 5 [32640/60000 (54%)]\tLoss: 0.327071\n",
            "Train Epoch: 5 [33280/60000 (55%)]\tLoss: 0.051382\n",
            "Train Epoch: 5 [33920/60000 (57%)]\tLoss: 0.119209\n",
            "Train Epoch: 5 [34560/60000 (58%)]\tLoss: 0.046791\n",
            "Train Epoch: 5 [35200/60000 (59%)]\tLoss: 0.045808\n",
            "Train Epoch: 5 [35840/60000 (60%)]\tLoss: 0.063524\n",
            "Train Epoch: 5 [36480/60000 (61%)]\tLoss: 0.114349\n",
            "Train Epoch: 5 [37120/60000 (62%)]\tLoss: 0.109736\n",
            "Train Epoch: 5 [37760/60000 (63%)]\tLoss: 0.042478\n",
            "Train Epoch: 5 [38400/60000 (64%)]\tLoss: 0.048297\n",
            "Train Epoch: 5 [39040/60000 (65%)]\tLoss: 0.080769\n",
            "Train Epoch: 5 [39680/60000 (66%)]\tLoss: 0.092130\n",
            "Train Epoch: 5 [40320/60000 (67%)]\tLoss: 0.094016\n",
            "Train Epoch: 5 [40960/60000 (68%)]\tLoss: 0.076375\n",
            "Train Epoch: 5 [41600/60000 (69%)]\tLoss: 0.028592\n",
            "Train Epoch: 5 [42240/60000 (70%)]\tLoss: 0.080114\n",
            "Train Epoch: 5 [42880/60000 (71%)]\tLoss: 0.095939\n",
            "Train Epoch: 5 [43520/60000 (72%)]\tLoss: 0.032732\n",
            "Train Epoch: 5 [44160/60000 (74%)]\tLoss: 0.008726\n",
            "Train Epoch: 5 [44800/60000 (75%)]\tLoss: 0.057796\n",
            "Train Epoch: 5 [45440/60000 (76%)]\tLoss: 0.009646\n",
            "Train Epoch: 5 [46080/60000 (77%)]\tLoss: 0.055900\n",
            "Train Epoch: 5 [46720/60000 (78%)]\tLoss: 0.045750\n",
            "Train Epoch: 5 [47360/60000 (79%)]\tLoss: 0.035819\n",
            "Train Epoch: 5 [48000/60000 (80%)]\tLoss: 0.061182\n",
            "Train Epoch: 5 [48640/60000 (81%)]\tLoss: 0.054900\n",
            "Train Epoch: 5 [49280/60000 (82%)]\tLoss: 0.066500\n",
            "Train Epoch: 5 [49920/60000 (83%)]\tLoss: 0.084168\n",
            "Train Epoch: 5 [50560/60000 (84%)]\tLoss: 0.085760\n",
            "Train Epoch: 5 [51200/60000 (85%)]\tLoss: 0.035522\n",
            "Train Epoch: 5 [51840/60000 (86%)]\tLoss: 0.060750\n",
            "Train Epoch: 5 [52480/60000 (87%)]\tLoss: 0.073481\n",
            "Train Epoch: 5 [53120/60000 (88%)]\tLoss: 0.185579\n",
            "Train Epoch: 5 [53760/60000 (90%)]\tLoss: 0.027651\n",
            "Train Epoch: 5 [54400/60000 (91%)]\tLoss: 0.045066\n",
            "Train Epoch: 5 [55040/60000 (92%)]\tLoss: 0.034529\n",
            "Train Epoch: 5 [55680/60000 (93%)]\tLoss: 0.164339\n",
            "Train Epoch: 5 [56320/60000 (94%)]\tLoss: 0.103863\n",
            "Train Epoch: 5 [56960/60000 (95%)]\tLoss: 0.017935\n",
            "Train Epoch: 5 [57600/60000 (96%)]\tLoss: 0.063898\n",
            "Train Epoch: 5 [58240/60000 (97%)]\tLoss: 0.055167\n",
            "Train Epoch: 5 [58880/60000 (98%)]\tLoss: 0.114972\n",
            "Train Epoch: 5 [59520/60000 (99%)]\tLoss: 0.043451\n",
            "\n",
            "Test set: Average loss: 0.0632, Accuracy: 9797/10000 (98%)\n",
            "\n",
            "Train Epoch: 6 [0/60000 (0%)]\tLoss: 0.130084\n",
            "Train Epoch: 6 [640/60000 (1%)]\tLoss: 0.029465\n",
            "Train Epoch: 6 [1280/60000 (2%)]\tLoss: 0.053332\n",
            "Train Epoch: 6 [1920/60000 (3%)]\tLoss: 0.070084\n",
            "Train Epoch: 6 [2560/60000 (4%)]\tLoss: 0.029158\n",
            "Train Epoch: 6 [3200/60000 (5%)]\tLoss: 0.041672\n",
            "Train Epoch: 6 [3840/60000 (6%)]\tLoss: 0.108200\n",
            "Train Epoch: 6 [4480/60000 (7%)]\tLoss: 0.018817\n",
            "Train Epoch: 6 [5120/60000 (9%)]\tLoss: 0.187396\n",
            "Train Epoch: 6 [5760/60000 (10%)]\tLoss: 0.026621\n",
            "Train Epoch: 6 [6400/60000 (11%)]\tLoss: 0.203459\n",
            "Train Epoch: 6 [7040/60000 (12%)]\tLoss: 0.051152\n",
            "Train Epoch: 6 [7680/60000 (13%)]\tLoss: 0.078153\n",
            "Train Epoch: 6 [8320/60000 (14%)]\tLoss: 0.118586\n",
            "Train Epoch: 6 [8960/60000 (15%)]\tLoss: 0.115144\n",
            "Train Epoch: 6 [9600/60000 (16%)]\tLoss: 0.015965\n",
            "Train Epoch: 6 [10240/60000 (17%)]\tLoss: 0.083108\n",
            "Train Epoch: 6 [10880/60000 (18%)]\tLoss: 0.059076\n",
            "Train Epoch: 6 [11520/60000 (19%)]\tLoss: 0.211298\n",
            "Train Epoch: 6 [12160/60000 (20%)]\tLoss: 0.054748\n",
            "Train Epoch: 6 [12800/60000 (21%)]\tLoss: 0.080785\n",
            "Train Epoch: 6 [13440/60000 (22%)]\tLoss: 0.097014\n",
            "Train Epoch: 6 [14080/60000 (23%)]\tLoss: 0.022979\n",
            "Train Epoch: 6 [14720/60000 (25%)]\tLoss: 0.128595\n",
            "Train Epoch: 6 [15360/60000 (26%)]\tLoss: 0.038131\n",
            "Train Epoch: 6 [16000/60000 (27%)]\tLoss: 0.214477\n",
            "Train Epoch: 6 [16640/60000 (28%)]\tLoss: 0.040223\n",
            "Train Epoch: 6 [17280/60000 (29%)]\tLoss: 0.086721\n",
            "Train Epoch: 6 [17920/60000 (30%)]\tLoss: 0.098172\n",
            "Train Epoch: 6 [18560/60000 (31%)]\tLoss: 0.247341\n",
            "Train Epoch: 6 [19200/60000 (32%)]\tLoss: 0.131792\n",
            "Train Epoch: 6 [19840/60000 (33%)]\tLoss: 0.061954\n",
            "Train Epoch: 6 [20480/60000 (34%)]\tLoss: 0.047357\n",
            "Train Epoch: 6 [21120/60000 (35%)]\tLoss: 0.080667\n",
            "Train Epoch: 6 [21760/60000 (36%)]\tLoss: 0.446864\n",
            "Train Epoch: 6 [22400/60000 (37%)]\tLoss: 0.117239\n",
            "Train Epoch: 6 [23040/60000 (38%)]\tLoss: 0.051706\n",
            "Train Epoch: 6 [23680/60000 (39%)]\tLoss: 0.017385\n",
            "Train Epoch: 6 [24320/60000 (41%)]\tLoss: 0.040045\n",
            "Train Epoch: 6 [24960/60000 (42%)]\tLoss: 0.012806\n",
            "Train Epoch: 6 [25600/60000 (43%)]\tLoss: 0.054225\n",
            "Train Epoch: 6 [26240/60000 (44%)]\tLoss: 0.086486\n",
            "Train Epoch: 6 [26880/60000 (45%)]\tLoss: 0.011601\n",
            "Train Epoch: 6 [27520/60000 (46%)]\tLoss: 0.074176\n",
            "Train Epoch: 6 [28160/60000 (47%)]\tLoss: 0.163881\n",
            "Train Epoch: 6 [28800/60000 (48%)]\tLoss: 0.146150\n",
            "Train Epoch: 6 [29440/60000 (49%)]\tLoss: 0.024164\n",
            "Train Epoch: 6 [30080/60000 (50%)]\tLoss: 0.204433\n",
            "Train Epoch: 6 [30720/60000 (51%)]\tLoss: 0.034572\n",
            "Train Epoch: 6 [31360/60000 (52%)]\tLoss: 0.050207\n",
            "Train Epoch: 6 [32000/60000 (53%)]\tLoss: 0.030096\n",
            "Train Epoch: 6 [32640/60000 (54%)]\tLoss: 0.103925\n",
            "Train Epoch: 6 [33280/60000 (55%)]\tLoss: 0.068614\n",
            "Train Epoch: 6 [33920/60000 (57%)]\tLoss: 0.127697\n",
            "Train Epoch: 6 [34560/60000 (58%)]\tLoss: 0.011199\n",
            "Train Epoch: 6 [35200/60000 (59%)]\tLoss: 0.056698\n",
            "Train Epoch: 6 [35840/60000 (60%)]\tLoss: 0.015318\n",
            "Train Epoch: 6 [36480/60000 (61%)]\tLoss: 0.046011\n",
            "Train Epoch: 6 [37120/60000 (62%)]\tLoss: 0.037610\n",
            "Train Epoch: 6 [37760/60000 (63%)]\tLoss: 0.103305\n",
            "Train Epoch: 6 [38400/60000 (64%)]\tLoss: 0.028349\n",
            "Train Epoch: 6 [39040/60000 (65%)]\tLoss: 0.106393\n",
            "Train Epoch: 6 [39680/60000 (66%)]\tLoss: 0.042837\n",
            "Train Epoch: 6 [40320/60000 (67%)]\tLoss: 0.047579\n",
            "Train Epoch: 6 [40960/60000 (68%)]\tLoss: 0.083685\n",
            "Train Epoch: 6 [41600/60000 (69%)]\tLoss: 0.057432\n",
            "Train Epoch: 6 [42240/60000 (70%)]\tLoss: 0.076490\n",
            "Train Epoch: 6 [42880/60000 (71%)]\tLoss: 0.091436\n",
            "Train Epoch: 6 [43520/60000 (72%)]\tLoss: 0.090041\n",
            "Train Epoch: 6 [44160/60000 (74%)]\tLoss: 0.025794\n",
            "Train Epoch: 6 [44800/60000 (75%)]\tLoss: 0.078663\n",
            "Train Epoch: 6 [45440/60000 (76%)]\tLoss: 0.013702\n",
            "Train Epoch: 6 [46080/60000 (77%)]\tLoss: 0.042756\n",
            "Train Epoch: 6 [46720/60000 (78%)]\tLoss: 0.058586\n",
            "Train Epoch: 6 [47360/60000 (79%)]\tLoss: 0.136969\n",
            "Train Epoch: 6 [48000/60000 (80%)]\tLoss: 0.094383\n",
            "Train Epoch: 6 [48640/60000 (81%)]\tLoss: 0.098443\n",
            "Train Epoch: 6 [49280/60000 (82%)]\tLoss: 0.148965\n",
            "Train Epoch: 6 [49920/60000 (83%)]\tLoss: 0.067727\n",
            "Train Epoch: 6 [50560/60000 (84%)]\tLoss: 0.080827\n",
            "Train Epoch: 6 [51200/60000 (85%)]\tLoss: 0.025737\n",
            "Train Epoch: 6 [51840/60000 (86%)]\tLoss: 0.053329\n",
            "Train Epoch: 6 [52480/60000 (87%)]\tLoss: 0.131435\n",
            "Train Epoch: 6 [53120/60000 (88%)]\tLoss: 0.077893\n",
            "Train Epoch: 6 [53760/60000 (90%)]\tLoss: 0.042524\n",
            "Train Epoch: 6 [54400/60000 (91%)]\tLoss: 0.078190\n",
            "Train Epoch: 6 [55040/60000 (92%)]\tLoss: 0.101621\n",
            "Train Epoch: 6 [55680/60000 (93%)]\tLoss: 0.044556\n",
            "Train Epoch: 6 [56320/60000 (94%)]\tLoss: 0.029172\n",
            "Train Epoch: 6 [56960/60000 (95%)]\tLoss: 0.036660\n",
            "Train Epoch: 6 [57600/60000 (96%)]\tLoss: 0.041794\n",
            "Train Epoch: 6 [58240/60000 (97%)]\tLoss: 0.052588\n",
            "Train Epoch: 6 [58880/60000 (98%)]\tLoss: 0.011658\n",
            "Train Epoch: 6 [59520/60000 (99%)]\tLoss: 0.013841\n",
            "\n",
            "Test set: Average loss: 0.0594, Accuracy: 9815/10000 (98%)\n",
            "\n",
            "Train Epoch: 7 [0/60000 (0%)]\tLoss: 0.127020\n",
            "Train Epoch: 7 [640/60000 (1%)]\tLoss: 0.009544\n",
            "Train Epoch: 7 [1280/60000 (2%)]\tLoss: 0.009816\n",
            "Train Epoch: 7 [1920/60000 (3%)]\tLoss: 0.018051\n",
            "Train Epoch: 7 [2560/60000 (4%)]\tLoss: 0.123465\n",
            "Train Epoch: 7 [3200/60000 (5%)]\tLoss: 0.032809\n",
            "Train Epoch: 7 [3840/60000 (6%)]\tLoss: 0.129879\n",
            "Train Epoch: 7 [4480/60000 (7%)]\tLoss: 0.023064\n",
            "Train Epoch: 7 [5120/60000 (9%)]\tLoss: 0.022519\n",
            "Train Epoch: 7 [5760/60000 (10%)]\tLoss: 0.019972\n",
            "Train Epoch: 7 [6400/60000 (11%)]\tLoss: 0.021675\n",
            "Train Epoch: 7 [7040/60000 (12%)]\tLoss: 0.037497\n",
            "Train Epoch: 7 [7680/60000 (13%)]\tLoss: 0.021105\n",
            "Train Epoch: 7 [8320/60000 (14%)]\tLoss: 0.082680\n",
            "Train Epoch: 7 [8960/60000 (15%)]\tLoss: 0.053625\n",
            "Train Epoch: 7 [9600/60000 (16%)]\tLoss: 0.021637\n",
            "Train Epoch: 7 [10240/60000 (17%)]\tLoss: 0.057711\n",
            "Train Epoch: 7 [10880/60000 (18%)]\tLoss: 0.075899\n",
            "Train Epoch: 7 [11520/60000 (19%)]\tLoss: 0.023840\n",
            "Train Epoch: 7 [12160/60000 (20%)]\tLoss: 0.019752\n",
            "Train Epoch: 7 [12800/60000 (21%)]\tLoss: 0.039780\n",
            "Train Epoch: 7 [13440/60000 (22%)]\tLoss: 0.048761\n",
            "Train Epoch: 7 [14080/60000 (23%)]\tLoss: 0.034482\n",
            "Train Epoch: 7 [14720/60000 (25%)]\tLoss: 0.026638\n",
            "Train Epoch: 7 [15360/60000 (26%)]\tLoss: 0.028846\n",
            "Train Epoch: 7 [16000/60000 (27%)]\tLoss: 0.036765\n",
            "Train Epoch: 7 [16640/60000 (28%)]\tLoss: 0.033642\n",
            "Train Epoch: 7 [17280/60000 (29%)]\tLoss: 0.022660\n",
            "Train Epoch: 7 [17920/60000 (30%)]\tLoss: 0.191811\n",
            "Train Epoch: 7 [18560/60000 (31%)]\tLoss: 0.078875\n",
            "Train Epoch: 7 [19200/60000 (32%)]\tLoss: 0.012788\n",
            "Train Epoch: 7 [19840/60000 (33%)]\tLoss: 0.030711\n",
            "Train Epoch: 7 [20480/60000 (34%)]\tLoss: 0.019555\n",
            "Train Epoch: 7 [21120/60000 (35%)]\tLoss: 0.016516\n",
            "Train Epoch: 7 [21760/60000 (36%)]\tLoss: 0.127818\n",
            "Train Epoch: 7 [22400/60000 (37%)]\tLoss: 0.035773\n",
            "Train Epoch: 7 [23040/60000 (38%)]\tLoss: 0.123639\n",
            "Train Epoch: 7 [23680/60000 (39%)]\tLoss: 0.059038\n",
            "Train Epoch: 7 [24320/60000 (41%)]\tLoss: 0.083964\n",
            "Train Epoch: 7 [24960/60000 (42%)]\tLoss: 0.043097\n",
            "Train Epoch: 7 [25600/60000 (43%)]\tLoss: 0.152033\n",
            "Train Epoch: 7 [26240/60000 (44%)]\tLoss: 0.152382\n",
            "Train Epoch: 7 [26880/60000 (45%)]\tLoss: 0.126366\n",
            "Train Epoch: 7 [27520/60000 (46%)]\tLoss: 0.098781\n",
            "Train Epoch: 7 [28160/60000 (47%)]\tLoss: 0.053045\n",
            "Train Epoch: 7 [28800/60000 (48%)]\tLoss: 0.010584\n",
            "Train Epoch: 7 [29440/60000 (49%)]\tLoss: 0.031067\n",
            "Train Epoch: 7 [30080/60000 (50%)]\tLoss: 0.111841\n",
            "Train Epoch: 7 [30720/60000 (51%)]\tLoss: 0.076703\n",
            "Train Epoch: 7 [31360/60000 (52%)]\tLoss: 0.104033\n",
            "Train Epoch: 7 [32000/60000 (53%)]\tLoss: 0.022482\n",
            "Train Epoch: 7 [32640/60000 (54%)]\tLoss: 0.092593\n",
            "Train Epoch: 7 [33280/60000 (55%)]\tLoss: 0.103171\n",
            "Train Epoch: 7 [33920/60000 (57%)]\tLoss: 0.072267\n",
            "Train Epoch: 7 [34560/60000 (58%)]\tLoss: 0.049837\n",
            "Train Epoch: 7 [35200/60000 (59%)]\tLoss: 0.030052\n",
            "Train Epoch: 7 [35840/60000 (60%)]\tLoss: 0.045845\n",
            "Train Epoch: 7 [36480/60000 (61%)]\tLoss: 0.054355\n",
            "Train Epoch: 7 [37120/60000 (62%)]\tLoss: 0.052202\n",
            "Train Epoch: 7 [37760/60000 (63%)]\tLoss: 0.065477\n",
            "Train Epoch: 7 [38400/60000 (64%)]\tLoss: 0.044235\n",
            "Train Epoch: 7 [39040/60000 (65%)]\tLoss: 0.042449\n",
            "Train Epoch: 7 [39680/60000 (66%)]\tLoss: 0.036188\n",
            "Train Epoch: 7 [40320/60000 (67%)]\tLoss: 0.040785\n",
            "Train Epoch: 7 [40960/60000 (68%)]\tLoss: 0.088770\n",
            "Train Epoch: 7 [41600/60000 (69%)]\tLoss: 0.044766\n",
            "Train Epoch: 7 [42240/60000 (70%)]\tLoss: 0.159641\n",
            "Train Epoch: 7 [42880/60000 (71%)]\tLoss: 0.091409\n",
            "Train Epoch: 7 [43520/60000 (72%)]\tLoss: 0.029515\n",
            "Train Epoch: 7 [44160/60000 (74%)]\tLoss: 0.140766\n",
            "Train Epoch: 7 [44800/60000 (75%)]\tLoss: 0.030573\n",
            "Train Epoch: 7 [45440/60000 (76%)]\tLoss: 0.051666\n",
            "Train Epoch: 7 [46080/60000 (77%)]\tLoss: 0.028719\n",
            "Train Epoch: 7 [46720/60000 (78%)]\tLoss: 0.013395\n",
            "Train Epoch: 7 [47360/60000 (79%)]\tLoss: 0.011529\n",
            "Train Epoch: 7 [48000/60000 (80%)]\tLoss: 0.034644\n",
            "Train Epoch: 7 [48640/60000 (81%)]\tLoss: 0.068346\n",
            "Train Epoch: 7 [49280/60000 (82%)]\tLoss: 0.068704\n",
            "Train Epoch: 7 [49920/60000 (83%)]\tLoss: 0.066402\n",
            "Train Epoch: 7 [50560/60000 (84%)]\tLoss: 0.159774\n",
            "Train Epoch: 7 [51200/60000 (85%)]\tLoss: 0.040658\n",
            "Train Epoch: 7 [51840/60000 (86%)]\tLoss: 0.033041\n",
            "Train Epoch: 7 [52480/60000 (87%)]\tLoss: 0.047178\n",
            "Train Epoch: 7 [53120/60000 (88%)]\tLoss: 0.081488\n",
            "Train Epoch: 7 [53760/60000 (90%)]\tLoss: 0.066163\n",
            "Train Epoch: 7 [54400/60000 (91%)]\tLoss: 0.120178\n",
            "Train Epoch: 7 [55040/60000 (92%)]\tLoss: 0.035490\n",
            "Train Epoch: 7 [55680/60000 (93%)]\tLoss: 0.109657\n",
            "Train Epoch: 7 [56320/60000 (94%)]\tLoss: 0.020335\n",
            "Train Epoch: 7 [56960/60000 (95%)]\tLoss: 0.036061\n",
            "Train Epoch: 7 [57600/60000 (96%)]\tLoss: 0.116196\n",
            "Train Epoch: 7 [58240/60000 (97%)]\tLoss: 0.091137\n",
            "Train Epoch: 7 [58880/60000 (98%)]\tLoss: 0.043160\n",
            "Train Epoch: 7 [59520/60000 (99%)]\tLoss: 0.059443\n",
            "\n",
            "Test set: Average loss: 0.0596, Accuracy: 9810/10000 (98%)\n",
            "\n",
            "Train Epoch: 8 [0/60000 (0%)]\tLoss: 0.032723\n",
            "Train Epoch: 8 [640/60000 (1%)]\tLoss: 0.059588\n",
            "Train Epoch: 8 [1280/60000 (2%)]\tLoss: 0.105666\n",
            "Train Epoch: 8 [1920/60000 (3%)]\tLoss: 0.122159\n",
            "Train Epoch: 8 [2560/60000 (4%)]\tLoss: 0.005427\n",
            "Train Epoch: 8 [3200/60000 (5%)]\tLoss: 0.034399\n",
            "Train Epoch: 8 [3840/60000 (6%)]\tLoss: 0.068346\n",
            "Train Epoch: 8 [4480/60000 (7%)]\tLoss: 0.064452\n",
            "Train Epoch: 8 [5120/60000 (9%)]\tLoss: 0.028273\n",
            "Train Epoch: 8 [5760/60000 (10%)]\tLoss: 0.019201\n",
            "Train Epoch: 8 [6400/60000 (11%)]\tLoss: 0.042641\n",
            "Train Epoch: 8 [7040/60000 (12%)]\tLoss: 0.014208\n",
            "Train Epoch: 8 [7680/60000 (13%)]\tLoss: 0.035373\n",
            "Train Epoch: 8 [8320/60000 (14%)]\tLoss: 0.023106\n",
            "Train Epoch: 8 [8960/60000 (15%)]\tLoss: 0.046576\n",
            "Train Epoch: 8 [9600/60000 (16%)]\tLoss: 0.065889\n",
            "Train Epoch: 8 [10240/60000 (17%)]\tLoss: 0.082737\n",
            "Train Epoch: 8 [10880/60000 (18%)]\tLoss: 0.062966\n",
            "Train Epoch: 8 [11520/60000 (19%)]\tLoss: 0.061784\n",
            "Train Epoch: 8 [12160/60000 (20%)]\tLoss: 0.242445\n",
            "Train Epoch: 8 [12800/60000 (21%)]\tLoss: 0.045816\n",
            "Train Epoch: 8 [13440/60000 (22%)]\tLoss: 0.136735\n",
            "Train Epoch: 8 [14080/60000 (23%)]\tLoss: 0.009763\n",
            "Train Epoch: 8 [14720/60000 (25%)]\tLoss: 0.011025\n",
            "Train Epoch: 8 [15360/60000 (26%)]\tLoss: 0.102601\n",
            "Train Epoch: 8 [16000/60000 (27%)]\tLoss: 0.089898\n",
            "Train Epoch: 8 [16640/60000 (28%)]\tLoss: 0.039546\n",
            "Train Epoch: 8 [17280/60000 (29%)]\tLoss: 0.038687\n",
            "Train Epoch: 8 [17920/60000 (30%)]\tLoss: 0.110712\n",
            "Train Epoch: 8 [18560/60000 (31%)]\tLoss: 0.030871\n",
            "Train Epoch: 8 [19200/60000 (32%)]\tLoss: 0.039731\n",
            "Train Epoch: 8 [19840/60000 (33%)]\tLoss: 0.022823\n",
            "Train Epoch: 8 [20480/60000 (34%)]\tLoss: 0.012891\n",
            "Train Epoch: 8 [21120/60000 (35%)]\tLoss: 0.039121\n",
            "Train Epoch: 8 [21760/60000 (36%)]\tLoss: 0.089916\n",
            "Train Epoch: 8 [22400/60000 (37%)]\tLoss: 0.033693\n",
            "Train Epoch: 8 [23040/60000 (38%)]\tLoss: 0.022610\n",
            "Train Epoch: 8 [23680/60000 (39%)]\tLoss: 0.058835\n",
            "Train Epoch: 8 [24320/60000 (41%)]\tLoss: 0.019573\n",
            "Train Epoch: 8 [24960/60000 (42%)]\tLoss: 0.024341\n",
            "Train Epoch: 8 [25600/60000 (43%)]\tLoss: 0.023453\n",
            "Train Epoch: 8 [26240/60000 (44%)]\tLoss: 0.069959\n",
            "Train Epoch: 8 [26880/60000 (45%)]\tLoss: 0.076478\n",
            "Train Epoch: 8 [27520/60000 (46%)]\tLoss: 0.035062\n",
            "Train Epoch: 8 [28160/60000 (47%)]\tLoss: 0.015537\n",
            "Train Epoch: 8 [28800/60000 (48%)]\tLoss: 0.019690\n",
            "Train Epoch: 8 [29440/60000 (49%)]\tLoss: 0.139857\n",
            "Train Epoch: 8 [30080/60000 (50%)]\tLoss: 0.051327\n",
            "Train Epoch: 8 [30720/60000 (51%)]\tLoss: 0.021785\n",
            "Train Epoch: 8 [31360/60000 (52%)]\tLoss: 0.011572\n",
            "Train Epoch: 8 [32000/60000 (53%)]\tLoss: 0.075003\n",
            "Train Epoch: 8 [32640/60000 (54%)]\tLoss: 0.030271\n",
            "Train Epoch: 8 [33280/60000 (55%)]\tLoss: 0.084538\n",
            "Train Epoch: 8 [33920/60000 (57%)]\tLoss: 0.050242\n",
            "Train Epoch: 8 [34560/60000 (58%)]\tLoss: 0.030678\n",
            "Train Epoch: 8 [35200/60000 (59%)]\tLoss: 0.102883\n",
            "Train Epoch: 8 [35840/60000 (60%)]\tLoss: 0.015059\n",
            "Train Epoch: 8 [36480/60000 (61%)]\tLoss: 0.006361\n",
            "Train Epoch: 8 [37120/60000 (62%)]\tLoss: 0.037965\n",
            "Train Epoch: 8 [37760/60000 (63%)]\tLoss: 0.066673\n",
            "Train Epoch: 8 [38400/60000 (64%)]\tLoss: 0.033373\n",
            "Train Epoch: 8 [39040/60000 (65%)]\tLoss: 0.050892\n",
            "Train Epoch: 8 [39680/60000 (66%)]\tLoss: 0.044495\n",
            "Train Epoch: 8 [40320/60000 (67%)]\tLoss: 0.125137\n",
            "Train Epoch: 8 [40960/60000 (68%)]\tLoss: 0.045604\n",
            "Train Epoch: 8 [41600/60000 (69%)]\tLoss: 0.051510\n",
            "Train Epoch: 8 [42240/60000 (70%)]\tLoss: 0.048299\n",
            "Train Epoch: 8 [42880/60000 (71%)]\tLoss: 0.169038\n",
            "Train Epoch: 8 [43520/60000 (72%)]\tLoss: 0.148088\n",
            "Train Epoch: 8 [44160/60000 (74%)]\tLoss: 0.028412\n",
            "Train Epoch: 8 [44800/60000 (75%)]\tLoss: 0.057511\n",
            "Train Epoch: 8 [45440/60000 (76%)]\tLoss: 0.011424\n",
            "Train Epoch: 8 [46080/60000 (77%)]\tLoss: 0.125692\n",
            "Train Epoch: 8 [46720/60000 (78%)]\tLoss: 0.075150\n",
            "Train Epoch: 8 [47360/60000 (79%)]\tLoss: 0.083462\n",
            "Train Epoch: 8 [48000/60000 (80%)]\tLoss: 0.073608\n",
            "Train Epoch: 8 [48640/60000 (81%)]\tLoss: 0.108115\n",
            "Train Epoch: 8 [49280/60000 (82%)]\tLoss: 0.016064\n",
            "Train Epoch: 8 [49920/60000 (83%)]\tLoss: 0.091180\n",
            "Train Epoch: 8 [50560/60000 (84%)]\tLoss: 0.020067\n",
            "Train Epoch: 8 [51200/60000 (85%)]\tLoss: 0.032926\n",
            "Train Epoch: 8 [51840/60000 (86%)]\tLoss: 0.016679\n",
            "Train Epoch: 8 [52480/60000 (87%)]\tLoss: 0.077985\n",
            "Train Epoch: 8 [53120/60000 (88%)]\tLoss: 0.016542\n",
            "Train Epoch: 8 [53760/60000 (90%)]\tLoss: 0.033551\n",
            "Train Epoch: 8 [54400/60000 (91%)]\tLoss: 0.016133\n",
            "Train Epoch: 8 [55040/60000 (92%)]\tLoss: 0.004786\n",
            "Train Epoch: 8 [55680/60000 (93%)]\tLoss: 0.041955\n",
            "Train Epoch: 8 [56320/60000 (94%)]\tLoss: 0.041434\n",
            "Train Epoch: 8 [56960/60000 (95%)]\tLoss: 0.105975\n",
            "Train Epoch: 8 [57600/60000 (96%)]\tLoss: 0.089985\n",
            "Train Epoch: 8 [58240/60000 (97%)]\tLoss: 0.059087\n",
            "Train Epoch: 8 [58880/60000 (98%)]\tLoss: 0.006845\n",
            "Train Epoch: 8 [59520/60000 (99%)]\tLoss: 0.100154\n",
            "\n",
            "Test set: Average loss: 0.0528, Accuracy: 9837/10000 (98%)\n",
            "\n",
            "Train Epoch: 9 [0/60000 (0%)]\tLoss: 0.117722\n",
            "Train Epoch: 9 [640/60000 (1%)]\tLoss: 0.048712\n",
            "Train Epoch: 9 [1280/60000 (2%)]\tLoss: 0.050213\n",
            "Train Epoch: 9 [1920/60000 (3%)]\tLoss: 0.067507\n",
            "Train Epoch: 9 [2560/60000 (4%)]\tLoss: 0.080992\n",
            "Train Epoch: 9 [3200/60000 (5%)]\tLoss: 0.043017\n",
            "Train Epoch: 9 [3840/60000 (6%)]\tLoss: 0.058597\n",
            "Train Epoch: 9 [4480/60000 (7%)]\tLoss: 0.035781\n",
            "Train Epoch: 9 [5120/60000 (9%)]\tLoss: 0.082631\n",
            "Train Epoch: 9 [5760/60000 (10%)]\tLoss: 0.022673\n",
            "Train Epoch: 9 [6400/60000 (11%)]\tLoss: 0.035101\n",
            "Train Epoch: 9 [7040/60000 (12%)]\tLoss: 0.049124\n",
            "Train Epoch: 9 [7680/60000 (13%)]\tLoss: 0.044002\n",
            "Train Epoch: 9 [8320/60000 (14%)]\tLoss: 0.004869\n",
            "Train Epoch: 9 [8960/60000 (15%)]\tLoss: 0.009743\n",
            "Train Epoch: 9 [9600/60000 (16%)]\tLoss: 0.012126\n",
            "Train Epoch: 9 [10240/60000 (17%)]\tLoss: 0.031184\n",
            "Train Epoch: 9 [10880/60000 (18%)]\tLoss: 0.030798\n",
            "Train Epoch: 9 [11520/60000 (19%)]\tLoss: 0.028096\n",
            "Train Epoch: 9 [12160/60000 (20%)]\tLoss: 0.012192\n",
            "Train Epoch: 9 [12800/60000 (21%)]\tLoss: 0.117146\n",
            "Train Epoch: 9 [13440/60000 (22%)]\tLoss: 0.050042\n",
            "Train Epoch: 9 [14080/60000 (23%)]\tLoss: 0.011856\n",
            "Train Epoch: 9 [14720/60000 (25%)]\tLoss: 0.009840\n",
            "Train Epoch: 9 [15360/60000 (26%)]\tLoss: 0.047491\n",
            "Train Epoch: 9 [16000/60000 (27%)]\tLoss: 0.066275\n",
            "Train Epoch: 9 [16640/60000 (28%)]\tLoss: 0.018098\n",
            "Train Epoch: 9 [17280/60000 (29%)]\tLoss: 0.103416\n",
            "Train Epoch: 9 [17920/60000 (30%)]\tLoss: 0.040292\n",
            "Train Epoch: 9 [18560/60000 (31%)]\tLoss: 0.063515\n",
            "Train Epoch: 9 [19200/60000 (32%)]\tLoss: 0.031856\n",
            "Train Epoch: 9 [19840/60000 (33%)]\tLoss: 0.043099\n",
            "Train Epoch: 9 [20480/60000 (34%)]\tLoss: 0.021888\n",
            "Train Epoch: 9 [21120/60000 (35%)]\tLoss: 0.044438\n",
            "Train Epoch: 9 [21760/60000 (36%)]\tLoss: 0.072959\n",
            "Train Epoch: 9 [22400/60000 (37%)]\tLoss: 0.062591\n",
            "Train Epoch: 9 [23040/60000 (38%)]\tLoss: 0.014092\n",
            "Train Epoch: 9 [23680/60000 (39%)]\tLoss: 0.013454\n",
            "Train Epoch: 9 [24320/60000 (41%)]\tLoss: 0.240120\n",
            "Train Epoch: 9 [24960/60000 (42%)]\tLoss: 0.054617\n",
            "Train Epoch: 9 [25600/60000 (43%)]\tLoss: 0.130896\n",
            "Train Epoch: 9 [26240/60000 (44%)]\tLoss: 0.079333\n",
            "Train Epoch: 9 [26880/60000 (45%)]\tLoss: 0.094292\n",
            "Train Epoch: 9 [27520/60000 (46%)]\tLoss: 0.035670\n",
            "Train Epoch: 9 [28160/60000 (47%)]\tLoss: 0.020412\n",
            "Train Epoch: 9 [28800/60000 (48%)]\tLoss: 0.008602\n",
            "Train Epoch: 9 [29440/60000 (49%)]\tLoss: 0.052393\n",
            "Train Epoch: 9 [30080/60000 (50%)]\tLoss: 0.025248\n",
            "Train Epoch: 9 [30720/60000 (51%)]\tLoss: 0.010033\n",
            "Train Epoch: 9 [31360/60000 (52%)]\tLoss: 0.012357\n",
            "Train Epoch: 9 [32000/60000 (53%)]\tLoss: 0.024444\n",
            "Train Epoch: 9 [32640/60000 (54%)]\tLoss: 0.012634\n",
            "Train Epoch: 9 [33280/60000 (55%)]\tLoss: 0.127500\n",
            "Train Epoch: 9 [33920/60000 (57%)]\tLoss: 0.187986\n",
            "Train Epoch: 9 [34560/60000 (58%)]\tLoss: 0.033514\n",
            "Train Epoch: 9 [35200/60000 (59%)]\tLoss: 0.036965\n",
            "Train Epoch: 9 [35840/60000 (60%)]\tLoss: 0.376211\n",
            "Train Epoch: 9 [36480/60000 (61%)]\tLoss: 0.061184\n",
            "Train Epoch: 9 [37120/60000 (62%)]\tLoss: 0.065141\n",
            "Train Epoch: 9 [37760/60000 (63%)]\tLoss: 0.020395\n",
            "Train Epoch: 9 [38400/60000 (64%)]\tLoss: 0.019312\n",
            "Train Epoch: 9 [39040/60000 (65%)]\tLoss: 0.020747\n",
            "Train Epoch: 9 [39680/60000 (66%)]\tLoss: 0.021977\n",
            "Train Epoch: 9 [40320/60000 (67%)]\tLoss: 0.015950\n",
            "Train Epoch: 9 [40960/60000 (68%)]\tLoss: 0.017709\n",
            "Train Epoch: 9 [41600/60000 (69%)]\tLoss: 0.041580\n",
            "Train Epoch: 9 [42240/60000 (70%)]\tLoss: 0.068504\n",
            "Train Epoch: 9 [42880/60000 (71%)]\tLoss: 0.023874\n",
            "Train Epoch: 9 [43520/60000 (72%)]\tLoss: 0.023349\n",
            "Train Epoch: 9 [44160/60000 (74%)]\tLoss: 0.007393\n",
            "Train Epoch: 9 [44800/60000 (75%)]\tLoss: 0.036112\n",
            "Train Epoch: 9 [45440/60000 (76%)]\tLoss: 0.010830\n",
            "Train Epoch: 9 [46080/60000 (77%)]\tLoss: 0.033795\n",
            "Train Epoch: 9 [46720/60000 (78%)]\tLoss: 0.016052\n",
            "Train Epoch: 9 [47360/60000 (79%)]\tLoss: 0.018542\n",
            "Train Epoch: 9 [48000/60000 (80%)]\tLoss: 0.122250\n",
            "Train Epoch: 9 [48640/60000 (81%)]\tLoss: 0.049721\n",
            "Train Epoch: 9 [49280/60000 (82%)]\tLoss: 0.014306\n",
            "Train Epoch: 9 [49920/60000 (83%)]\tLoss: 0.060949\n",
            "Train Epoch: 9 [50560/60000 (84%)]\tLoss: 0.042062\n",
            "Train Epoch: 9 [51200/60000 (85%)]\tLoss: 0.042803\n",
            "Train Epoch: 9 [51840/60000 (86%)]\tLoss: 0.036851\n",
            "Train Epoch: 9 [52480/60000 (87%)]\tLoss: 0.056165\n",
            "Train Epoch: 9 [53120/60000 (88%)]\tLoss: 0.064889\n",
            "Train Epoch: 9 [53760/60000 (90%)]\tLoss: 0.056575\n",
            "Train Epoch: 9 [54400/60000 (91%)]\tLoss: 0.115149\n",
            "Train Epoch: 9 [55040/60000 (92%)]\tLoss: 0.015086\n",
            "Train Epoch: 9 [55680/60000 (93%)]\tLoss: 0.027859\n",
            "Train Epoch: 9 [56320/60000 (94%)]\tLoss: 0.042109\n",
            "Train Epoch: 9 [56960/60000 (95%)]\tLoss: 0.033225\n",
            "Train Epoch: 9 [57600/60000 (96%)]\tLoss: 0.006974\n",
            "Train Epoch: 9 [58240/60000 (97%)]\tLoss: 0.027328\n",
            "Train Epoch: 9 [58880/60000 (98%)]\tLoss: 0.014991\n",
            "Train Epoch: 9 [59520/60000 (99%)]\tLoss: 0.031500\n",
            "\n",
            "Test set: Average loss: 0.0629, Accuracy: 9795/10000 (98%)\n",
            "\n"
          ]
        }
      ],
      "source": [
        "for epoch in range(1, 10):\n",
        "    train(epoch)\n",
        "    test()"
      ]
    }
  ],
  "metadata": {
    "accelerator": "GPU",
    "colab": {
      "collapsed_sections": [
        "oxkFzBDNmWNk",
        "j25bQnUkTwFI",
        "7j3pB3fmMHcD",
        "Id5rLJSrOxTt",
        "jaKXPhrXR6vg",
        "BAjgVV71ScT6",
        "Cpn5GhJbT3m3",
        "gmApIPa0Ues8",
        "YXn50gZyWKCI",
        "XqEIN_rmXW75",
        "3RzRM7xThZV_"
      ],
      "machine_shape": "hm",
      "provenance": []
    },
    "kernelspec": {
      "display_name": "Python 3",
      "name": "python3"
    },
    "language_info": {
      "name": "python"
    }
  },
  "nbformat": 4,
  "nbformat_minor": 0
}
