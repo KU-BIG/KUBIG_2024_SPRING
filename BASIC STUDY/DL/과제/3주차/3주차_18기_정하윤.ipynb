{
  "nbformat": 4,
  "nbformat_minor": 0,
  "metadata": {
    "colab": {
      "provenance": [],
      "machine_shape": "hm"
    },
    "kernelspec": {
      "name": "python3",
      "display_name": "Python 3"
    },
    "language_info": {
      "name": "python"
    },
    "accelerator": "GPU"
  },
  "cells": [
    {
      "cell_type": "markdown",
      "source": [
        "# < 3주차 과제 1 : MLP 마음대로 다뤄보기>\n",
        "- dataset을 임의로 선정해서 직접 분석 해보기(제공한 코드를 활용해서 해보기)\n",
        "- activation functions 중 relu사용시 함수 직접 정의\n",
        "- lr, optimizer 등 바꿔보기\n",
        "- hidden layer/neuron 수를 바꾸기\n",
        "- 전처리도 추가\n",
        "- 모든 시도를 올려주세요!\n",
        "- 제일 높은 acc를 보인 시도를 명시해주세요!\n"
      ],
      "metadata": {
        "id": "sgAYo4nrw2F4"
      }
    },
    {
      "cell_type": "code",
      "execution_count": null,
      "metadata": {
        "id": "fX437IL6qbI-"
      },
      "outputs": [],
      "source": [
        "import torch\n",
        "from torch import nn, optim\n",
        "from sklearn.datasets import load_wine\n",
        "from torch.utils.data import  TensorDataset, DataLoader\n",
        "from sklearn.model_selection import train_test_split\n",
        "from sklearn.metrics import accuracy_score\n",
        "import numpy as np\n",
        "from sklearn.preprocessing import StandardScaler\n",
        "import matplotlib.pyplot as plt\n",
        "import pandas as pd"
      ]
    },
    {
      "cell_type": "markdown",
      "source": [
        "## 아래 데이터셋 중 원하는 데이터셋 하나를 선택하여, 코드 과제 진행하기!\n",
        "- 1) load_digits() <br>\n",
        "- 2) load_wine()"
      ],
      "metadata": {
        "id": "oxkFzBDNmWNk"
      }
    },
    {
      "cell_type": "code",
      "source": [
        "# 데이터셋 종류 :\n",
        "wine = load_wine()"
      ],
      "metadata": {
        "id": "FywYbfsKtjcR"
      },
      "execution_count": null,
      "outputs": []
    },
    {
      "cell_type": "code",
      "source": [
        "input = wine.data\n",
        "output = wine.target"
      ],
      "metadata": {
        "id": "C2P0hqZ9yBGm"
      },
      "execution_count": null,
      "outputs": []
    },
    {
      "cell_type": "code",
      "source": [
        "device = 'cuda' if torch.cuda.is_available() else 'cpu'\n",
        "\n",
        "torch.manual_seed(777)\n",
        "if device == \"cuda\":\n",
        "  torch.cuda.manual_seed_all(777)"
      ],
      "metadata": {
        "id": "SggpQfSPt85C"
      },
      "execution_count": null,
      "outputs": []
    },
    {
      "cell_type": "code",
      "source": [
        "input"
      ],
      "metadata": {
        "colab": {
          "base_uri": "https://localhost:8080/"
        },
        "id": "-W5onxatM9S3",
        "outputId": "4be10d2f-baa3-4b15-c1b5-508f4ac91334"
      },
      "execution_count": null,
      "outputs": [
        {
          "output_type": "execute_result",
          "data": {
            "text/plain": [
              "array([[1.423e+01, 1.710e+00, 2.430e+00, ..., 1.040e+00, 3.920e+00,\n",
              "        1.065e+03],\n",
              "       [1.320e+01, 1.780e+00, 2.140e+00, ..., 1.050e+00, 3.400e+00,\n",
              "        1.050e+03],\n",
              "       [1.316e+01, 2.360e+00, 2.670e+00, ..., 1.030e+00, 3.170e+00,\n",
              "        1.185e+03],\n",
              "       ...,\n",
              "       [1.327e+01, 4.280e+00, 2.260e+00, ..., 5.900e-01, 1.560e+00,\n",
              "        8.350e+02],\n",
              "       [1.317e+01, 2.590e+00, 2.370e+00, ..., 6.000e-01, 1.620e+00,\n",
              "        8.400e+02],\n",
              "       [1.413e+01, 4.100e+00, 2.740e+00, ..., 6.100e-01, 1.600e+00,\n",
              "        5.600e+02]])"
            ]
          },
          "metadata": {},
          "execution_count": 5
        }
      ]
    },
    {
      "cell_type": "code",
      "source": [
        "output"
      ],
      "metadata": {
        "colab": {
          "base_uri": "https://localhost:8080/"
        },
        "id": "Q-x9bkc2NBC7",
        "outputId": "8a50e23e-ff0e-4b56-822a-efa3600b016c"
      },
      "execution_count": null,
      "outputs": [
        {
          "output_type": "execute_result",
          "data": {
            "text/plain": [
              "array([0, 0, 0, 0, 0, 0, 0, 0, 0, 0, 0, 0, 0, 0, 0, 0, 0, 0, 0, 0, 0, 0,\n",
              "       0, 0, 0, 0, 0, 0, 0, 0, 0, 0, 0, 0, 0, 0, 0, 0, 0, 0, 0, 0, 0, 0,\n",
              "       0, 0, 0, 0, 0, 0, 0, 0, 0, 0, 0, 0, 0, 0, 0, 1, 1, 1, 1, 1, 1, 1,\n",
              "       1, 1, 1, 1, 1, 1, 1, 1, 1, 1, 1, 1, 1, 1, 1, 1, 1, 1, 1, 1, 1, 1,\n",
              "       1, 1, 1, 1, 1, 1, 1, 1, 1, 1, 1, 1, 1, 1, 1, 1, 1, 1, 1, 1, 1, 1,\n",
              "       1, 1, 1, 1, 1, 1, 1, 1, 1, 1, 1, 1, 1, 1, 1, 1, 1, 1, 1, 1, 2, 2,\n",
              "       2, 2, 2, 2, 2, 2, 2, 2, 2, 2, 2, 2, 2, 2, 2, 2, 2, 2, 2, 2, 2, 2,\n",
              "       2, 2, 2, 2, 2, 2, 2, 2, 2, 2, 2, 2, 2, 2, 2, 2, 2, 2, 2, 2, 2, 2,\n",
              "       2, 2])"
            ]
          },
          "metadata": {},
          "execution_count": 6
        }
      ]
    },
    {
      "cell_type": "code",
      "source": [
        "#데이터 칼럼\n",
        "wine['feature_names']"
      ],
      "metadata": {
        "colab": {
          "base_uri": "https://localhost:8080/"
        },
        "id": "wlhST0vZM68w",
        "outputId": "60d8989f-386b-4166-ce9d-7357444972f4"
      },
      "execution_count": null,
      "outputs": [
        {
          "output_type": "execute_result",
          "data": {
            "text/plain": [
              "['alcohol',\n",
              " 'malic_acid',\n",
              " 'ash',\n",
              " 'alcalinity_of_ash',\n",
              " 'magnesium',\n",
              " 'total_phenols',\n",
              " 'flavanoids',\n",
              " 'nonflavanoid_phenols',\n",
              " 'proanthocyanins',\n",
              " 'color_intensity',\n",
              " 'hue',\n",
              " 'od280/od315_of_diluted_wines',\n",
              " 'proline']"
            ]
          },
          "metadata": {},
          "execution_count": 7
        }
      ]
    },
    {
      "cell_type": "code",
      "source": [
        "#샘플 수 178개, class는 0,1,2"
      ],
      "metadata": {
        "id": "rvWDIphhCyZP"
      },
      "execution_count": null,
      "outputs": []
    },
    {
      "cell_type": "code",
      "source": [
        "# #y를 카테고리화\n",
        "# output = pd.get_dummies(output)\n",
        "# output"
      ],
      "metadata": {
        "id": "g5fwnrQxNXsr"
      },
      "execution_count": null,
      "outputs": []
    },
    {
      "cell_type": "code",
      "source": [
        "# import torch.nn.functional as F\n",
        "\n",
        "# #원핫 인코딩\n",
        "# output=F.one_hot(output,num_classes=3)\n",
        "# output\n",
        "###케라스에서는 라벨 원핫 인코딩을 하는데 파이토치도 하는 건지,,"
      ],
      "metadata": {
        "id": "bnkzrkB9OYpI"
      },
      "execution_count": null,
      "outputs": []
    },
    {
      "cell_type": "code",
      "source": [
        "x_train, x_test, y_train, y_test = train_test_split(input, output, test_size = 0.3, random_state = 42, stratify= wine.target, shuffle = True)\n",
        "\n",
        "x_train = torch.FloatTensor(x_train).to(device)\n",
        "y_train = torch.LongTensor(y_train).to(device)\n",
        "x_test = torch.FloatTensor(x_test)\n",
        "y_test = torch.LongTensor(y_test)\n",
        "\n",
        "# 데이터를 tensor로 바꿔주고 gpu 연산이 가능해지도록 gpu에 옮김\n",
        "# label 값을 왜 long 에 옮겨놓는가? loss function이 다르기 때문"
      ],
      "metadata": {
        "id": "bLMzf-2ntYeX"
      },
      "execution_count": null,
      "outputs": []
    },
    {
      "cell_type": "code",
      "source": [
        "print(x_train[0])"
      ],
      "metadata": {
        "colab": {
          "base_uri": "https://localhost:8080/"
        },
        "id": "9HyYM8kvCMkD",
        "outputId": "f82a8c00-c865-419f-d613-617fdde770e0"
      },
      "execution_count": null,
      "outputs": [
        {
          "output_type": "stream",
          "name": "stdout",
          "text": [
            "tensor([1.3750e+01, 1.7300e+00, 2.4100e+00, 1.6000e+01, 8.9000e+01, 2.6000e+00,\n",
            "        2.7600e+00, 2.9000e-01, 1.8100e+00, 5.6000e+00, 1.1500e+00, 2.9000e+00,\n",
            "        1.3200e+03])\n"
          ]
        }
      ]
    },
    {
      "cell_type": "code",
      "source": [
        "print(y_train.unique())"
      ],
      "metadata": {
        "colab": {
          "base_uri": "https://localhost:8080/"
        },
        "id": "umEdiTZkrVqS",
        "outputId": "3b006cbd-9a5b-4bab-e468-4387c412ed51"
      },
      "execution_count": null,
      "outputs": [
        {
          "output_type": "stream",
          "name": "stdout",
          "text": [
            "tensor([0, 1, 2])\n"
          ]
        }
      ]
    },
    {
      "cell_type": "markdown",
      "source": [
        "파이토치에서는 데이터셋을 좀 더 쉽게 다룰 수 있도록 유용한 도구로서 torch.utils.data.Dataset과 torch.utils.data.DataLoader를 제공합니다. 이를 사용하면 미니 배치 학습, 데이터 셔플(shuffle), 병렬 처리까지 간단히 수행할 수 있습니다. 기본적인 사용 방법은 Dataset을 정의하고, 이를 DataLoader에 전달하는 것\n",
        "- init : class 에서 객체가 생성되면 바로 실행되는 함수\n",
        "- len : observation 수를 정의하는 함수\n",
        "- getitem : iteration 마다 해당하는 데이터를 돌려주는 함수"
      ],
      "metadata": {
        "id": "combmxzmYFyn"
      }
    },
    {
      "cell_type": "code",
      "source": [
        "from torch.utils.data import Dataset\n",
        "class CustomDataset(Dataset):\n",
        "  def __init__(self):\n",
        "    self.x_data = x_train\n",
        "    self.y_data = [[y] for y in y_train]\n",
        "    self.device = device\n",
        "#  데이터셋의 전처리를 해주는 부분\n",
        "    self.x_data = self.standardize(self.x_data)\n",
        "\n",
        "  def standardize(self, data):\n",
        "          #각 feature의 평균과 표준편차를 이용하여 표준화하는 함수\n",
        "          mean = torch.mean(data, dim=0)\n",
        "          std = torch.std(data, dim=0)\n",
        "          standardized_data = (data - mean) / std\n",
        "          return standardized_data\n",
        "\n",
        "  def __len__(self):\n",
        "    return len(self.x_data)\n",
        "#  데이터셋의 길이. 즉, 총 샘플의 수를 적어주는 부분\n",
        "\n",
        "  def __getitem__(self, idx):\n",
        "    x = torch.FloatTensor(self.x_data[idx]).to(self.device)\n",
        "    y = torch.LongTensor(self.y_data[idx]).to(self.device)\n",
        "#  데이터셋에서 특정 1개의 샘플을 가져오는 함수\n",
        "\n",
        "    return x,y"
      ],
      "metadata": {
        "id": "y38TlgXoqV5Z"
      },
      "execution_count": null,
      "outputs": []
    },
    {
      "cell_type": "code",
      "source": [
        "batch_size = 8\n",
        "\n",
        "dataset = CustomDataset()\n",
        "dataloader = DataLoader(dataset, batch_size=batch_size)"
      ],
      "metadata": {
        "id": "x8VHwnuFqino"
      },
      "execution_count": null,
      "outputs": []
    },
    {
      "cell_type": "code",
      "source": [
        "# input_layer와 hidden_layer의 노드 개수를 어떻게 바꿔줘야할까?\n",
        "# hidden layer/neuron 수를 바꾸기\n",
        "\n",
        "model = nn.Sequential(\n",
        "          nn.Linear(13,398, bias=True),\n",
        "          nn.ReLU(),\n",
        "          nn.Linear(398,15, bias=True),\n",
        "          nn.ReLU(),\n",
        "          nn.Linear(15,3, bias=True),\n",
        "          nn.Softmax(dim=1)\n",
        "          ).to(device)"
      ],
      "metadata": {
        "id": "C6V7a4tyq6Jc"
      },
      "execution_count": null,
      "outputs": []
    },
    {
      "cell_type": "markdown",
      "source": [
        "class로 구현 가능\n",
        "- init : 초기 생성 함수\n",
        "- foward : 순전파(입력값 => 예측값 의 과정)"
      ],
      "metadata": {
        "id": "07uV8RY7Yr_5"
      }
    },
    {
      "cell_type": "code",
      "source": [
        "#relu 구현\n",
        "class Relu(torch.nn.Module):\n",
        "    def forward(self, x):\n",
        "        return torch.max(torch.tensor(0.0), x)\n",
        "\n",
        "class Model(torch.nn.Module):\n",
        "    def __init__(self):\n",
        "        super(Model, self).__init__()\n",
        "        self.layer1 = nn.Sequential(\n",
        "            nn.Linear(13, 398, bias=True), # input_layer = 13, hidden_layer1 = 398\n",
        "            Relu(),\n",
        "            nn.BatchNorm1d(398)\n",
        "        )\n",
        "        self.layer2 = nn.Sequential(\n",
        "            nn.Linear(398, 15, bias=True),\n",
        "            Relu()\n",
        "        )\n",
        "        self.layer3 = nn.Sequential(\n",
        "            nn.Linear(15, 10, bias=True),\n",
        "            Relu()\n",
        "        )\n",
        "        self.layer4 = nn.Sequential(\n",
        "            nn.Linear(10, 3, bias=True),\n",
        "            nn.Softmax()\n",
        "        )\n",
        "\n",
        " # activation function 이용\n",
        "  #   nn.ReLU()\n",
        "  #   nn.tanH()\n",
        "  #   https://pytorch.org/docs/stable/nn.html 그 외에도 여기서 확인 가능함\n",
        "  #   파라미터가 필요하지 않다는 것이 특징\n",
        "\n",
        "  # batch normazliation 1d, 파라미터 값으로 vector의 길이를 전해줌\n",
        "  # 추후에 이미지를 다루게 된다면, 그때는 batch normalization 2d를 이용하게 됨\n",
        "  # 그때는 파라미터 값으로 채널, 가로, 세로 길이를 전달해주게 됨\n",
        "\n",
        "\n",
        "    def forward(self, x):\n",
        "        output = self.layer1(x)\n",
        "        output = self.layer2(output)\n",
        "        output = self.layer3(output)\n",
        "        output = self.layer4(output)\n",
        "        return output"
      ],
      "metadata": {
        "id": "5xBCfMbVLQUb"
      },
      "execution_count": null,
      "outputs": []
    },
    {
      "cell_type": "code",
      "source": [
        "def init_weights(layer):\n",
        "    if isinstance(layer, nn.Linear):\n",
        "        torch.nn.init.xavier_uniform(layer.weight)\n",
        "        layer.bias.data.fill_(0.01)\n",
        "\n",
        "        #xavier사용\n",
        "        # Layer의 weight를 어떤 분포를 가지도록 초기화시켜줌+global minimum찾기 위해서"
      ],
      "metadata": {
        "id": "kqcqqkECrSGK"
      },
      "execution_count": null,
      "outputs": []
    },
    {
      "cell_type": "code",
      "source": [
        "model = Model().to(device)\n",
        "model.apply(init_weights)"
      ],
      "metadata": {
        "colab": {
          "base_uri": "https://localhost:8080/"
        },
        "id": "oMDUBFg6rUpw",
        "outputId": "df939fc6-369a-4582-bc03-fdfe71298e72"
      },
      "execution_count": null,
      "outputs": [
        {
          "output_type": "stream",
          "name": "stderr",
          "text": [
            "<ipython-input-22-6196a47a4462>:3: UserWarning: nn.init.xavier_uniform is now deprecated in favor of nn.init.xavier_uniform_.\n",
            "  torch.nn.init.xavier_uniform(layer.weight)\n"
          ]
        },
        {
          "output_type": "execute_result",
          "data": {
            "text/plain": [
              "Model(\n",
              "  (layer1): Sequential(\n",
              "    (0): Linear(in_features=13, out_features=398, bias=True)\n",
              "    (1): Relu()\n",
              "    (2): BatchNorm1d(398, eps=1e-05, momentum=0.1, affine=True, track_running_stats=True)\n",
              "  )\n",
              "  (layer2): Sequential(\n",
              "    (0): Linear(in_features=398, out_features=15, bias=True)\n",
              "    (1): Relu()\n",
              "  )\n",
              "  (layer3): Sequential(\n",
              "    (0): Linear(in_features=15, out_features=10, bias=True)\n",
              "    (1): Relu()\n",
              "  )\n",
              "  (layer4): Sequential(\n",
              "    (0): Linear(in_features=10, out_features=3, bias=True)\n",
              "    (1): Softmax(dim=None)\n",
              "  )\n",
              ")"
            ]
          },
          "metadata": {},
          "execution_count": 23
        }
      ]
    },
    {
      "cell_type": "code",
      "source": [
        "print(model)"
      ],
      "metadata": {
        "colab": {
          "base_uri": "https://localhost:8080/"
        },
        "id": "OwZt5CetrYFb",
        "outputId": "4c07a0fb-b571-4c37-dc5f-592bc8a67f62"
      },
      "execution_count": null,
      "outputs": [
        {
          "output_type": "stream",
          "name": "stdout",
          "text": [
            "Model(\n",
            "  (layer1): Sequential(\n",
            "    (0): Linear(in_features=13, out_features=398, bias=True)\n",
            "    (1): Relu()\n",
            "    (2): BatchNorm1d(398, eps=1e-05, momentum=0.1, affine=True, track_running_stats=True)\n",
            "  )\n",
            "  (layer2): Sequential(\n",
            "    (0): Linear(in_features=398, out_features=15, bias=True)\n",
            "    (1): Relu()\n",
            "  )\n",
            "  (layer3): Sequential(\n",
            "    (0): Linear(in_features=15, out_features=10, bias=True)\n",
            "    (1): Relu()\n",
            "  )\n",
            "  (layer4): Sequential(\n",
            "    (0): Linear(in_features=10, out_features=3, bias=True)\n",
            "    (1): Softmax(dim=None)\n",
            "  )\n",
            ")\n"
          ]
        }
      ]
    },
    {
      "cell_type": "code",
      "source": [
        "loss_fn  = nn.CrossEntropyLoss().to(device)\n",
        "\n",
        "# 여러가지 optimizer 시도해보기\n",
        "# lr 바꿔보기\n",
        "\n",
        "optimizer = optim.Adagrad(model.parameters(), lr= 0.01)\n",
        "#optimizer = optim.Adam(model.parameters(), lr= 0.01)\n",
        "#optimizer = optim.SGD(model.parameters(), lr=0.01, momentum=0.9)\n",
        "#optimizer = optim.Adadelta(model.parameters(), lr=0.03)\n",
        "\n",
        "# https://pytorch.org/docs/stable/optim.html#module-torch.optim 페이지 참조\n",
        "# optimizer = optim.SGD(model.parameters(), lr=0.1, momentum=0.9)\n",
        "# sgd 등등"
      ],
      "metadata": {
        "id": "AYFp-eTErh7b"
      },
      "execution_count": null,
      "outputs": []
    },
    {
      "cell_type": "code",
      "source": [
        "losses = []\n",
        "for epoch in range(100):\n",
        "\n",
        "  optimizer.zero_grad()\n",
        "  hypothesis = model(x_train)\n",
        "\n",
        "  # 비용 함수\n",
        "  cost = loss_fn(hypothesis, y_train)\n",
        "  cost.backward()\n",
        "  optimizer.step()\n",
        "  losses.append(cost.item())\n",
        "\n",
        "  if epoch % 10 == 0:\n",
        "    print(epoch, cost.item())"
      ],
      "metadata": {
        "colab": {
          "base_uri": "https://localhost:8080/"
        },
        "id": "90QxHvlIrjS7",
        "outputId": "bd13a4c1-38ac-4039-9079-4bd61b139037"
      },
      "execution_count": null,
      "outputs": [
        {
          "output_type": "stream",
          "name": "stderr",
          "text": [
            "/usr/local/lib/python3.10/dist-packages/torch/nn/modules/module.py:1518: UserWarning: Implicit dimension choice for softmax has been deprecated. Change the call to include dim=X as an argument.\n",
            "  return self._call_impl(*args, **kwargs)\n"
          ]
        },
        {
          "output_type": "stream",
          "name": "stdout",
          "text": [
            "0 0.9692224860191345\n",
            "10 0.79714035987854\n",
            "20 0.7350306510925293\n",
            "30 0.6505707502365112\n",
            "40 0.6190946698188782\n",
            "50 0.5871148705482483\n",
            "60 0.5762291550636292\n",
            "70 0.5930455327033997\n",
            "80 0.5880704522132874\n",
            "90 0.5721447467803955\n"
          ]
        }
      ]
    },
    {
      "cell_type": "code",
      "source": [
        "plt.plot(losses)\n",
        "plt.show()"
      ],
      "metadata": {
        "colab": {
          "base_uri": "https://localhost:8080/",
          "height": 430
        },
        "id": "81ASYrW7roFM",
        "outputId": "964d3f5d-fe42-4324-fcbc-2671105e28f3"
      },
      "execution_count": null,
      "outputs": [
        {
          "output_type": "display_data",
          "data": {
            "text/plain": [
              "<Figure size 640x480 with 1 Axes>"
            ],
            "image/png": "[encoded data removed]"
          },
          "metadata": {}
        }
      ]
    },
    {
      "cell_type": "code",
      "source": [
        "with torch.no_grad():\n",
        "  model = model.to('cpu')\n",
        "  y_pred = model(x_test)\n",
        "  y_pred = y_pred.detach().cpu().numpy()\n",
        "  predicted = np.argmax(y_pred, axis =1)\n",
        "  accuracy = (accuracy_score(predicted, y_test))"
      ],
      "metadata": {
        "id": "h4kJzpLErqhZ"
      },
      "execution_count": null,
      "outputs": []
    },
    {
      "cell_type": "code",
      "source": [
        "print(f'model의 output은 :  {y_pred[0]}')\n",
        "print(f'argmax를 한 후의 output은 {predicted[0]}')\n",
        "print(f'accuracy는 {accuracy}')"
      ],
      "metadata": {
        "colab": {
          "base_uri": "https://localhost:8080/"
        },
        "id": "vyIKhs3Nr6Ay",
        "outputId": "9682a753-d44c-4627-e8b3-0c241a870d39"
      },
      "execution_count": null,
      "outputs": [
        {
          "output_type": "stream",
          "name": "stdout",
          "text": [
            "model의 output은 :  [0.99676466 0.00221027 0.00102507]\n",
            "argmax를 한 후의 output은 0\n",
            "accuracy는 0.9444444444444444\n"
          ]
        }
      ]
    },
    {
      "cell_type": "markdown",
      "source": [
        "# < 3주차 과제 2 : CNN 맛보기>"
      ],
      "metadata": {
        "id": "3RzRM7xThZV_"
      }
    },
    {
      "cell_type": "code",
      "source": [
        "from __future__ import print_function\n",
        "import argparse\n",
        "import torch\n",
        "import torch.nn as nn # 신경망들이 포함됨\n",
        "import torch.nn.functional as F\n",
        "import torch.optim as optim # 최적화 알고리즘들이 포함됨\n",
        "from torchvision import datasets, transforms # 이미지 데이터셋 집합, 이미지 변환 툴\n",
        "from torch.autograd import Variable"
      ],
      "metadata": {
        "id": "56xqgtLxhZw6"
      },
      "execution_count": 31,
      "outputs": []
    },
    {
      "cell_type": "code",
      "source": [
        "# Training settings\n",
        "batch_size = 64\n",
        "\n",
        "# MNIST Dataset\n",
        "train_dataset = datasets.MNIST(root='./data/',\n",
        "                               train=True,\n",
        "                               transform=transforms.ToTensor(),\n",
        "                               download=True)\n",
        "\n",
        "test_dataset = datasets.MNIST(root='./data/',\n",
        "                              train=False,\n",
        "                              transform=transforms.ToTensor())\n",
        "\n",
        "# Data Loader (Input Pipeline)\n",
        "#앞서 정의한 데이터셋을 DataLoader에 넣으면 정의한 조건(배치 사이즈 등)에 따라 모델을 학습하고 추론할 때 데이터를 load 해줌\n",
        "train_loader = torch.utils.data.DataLoader(dataset=train_dataset,\n",
        "                                           batch_size=batch_size,\n",
        "                                           shuffle=True)\n",
        "\n",
        "test_loader = torch.utils.data.DataLoader(dataset=test_dataset,\n",
        "                                          batch_size=batch_size,\n",
        "                                          shuffle=False)"
      ],
      "metadata": {
        "id": "TzkF2bFNhcQ2",
        "colab": {
          "base_uri": "https://localhost:8080/"
        },
        "outputId": "de2d1fdb-3fd4-498f-dd05-7c0deae97ae3"
      },
      "execution_count": 32,
      "outputs": [
        {
          "output_type": "stream",
          "name": "stdout",
          "text": [
            "Downloading http://yann.lecun.com/exdb/mnist/train-images-idx3-ubyte.gz\n",
            "Downloading http://yann.lecun.com/exdb/mnist/train-images-idx3-ubyte.gz to ./data/MNIST/raw/train-images-idx3-ubyte.gz\n"
          ]
        },
        {
          "output_type": "stream",
          "name": "stderr",
          "text": [
            "100%|██████████| 9912422/9912422 [00:00<00:00, 98109373.84it/s]\n"
          ]
        },
        {
          "output_type": "stream",
          "name": "stdout",
          "text": [
            "Extracting ./data/MNIST/raw/train-images-idx3-ubyte.gz to ./data/MNIST/raw\n",
            "\n",
            "Downloading http://yann.lecun.com/exdb/mnist/train-labels-idx1-ubyte.gz\n",
            "Downloading http://yann.lecun.com/exdb/mnist/train-labels-idx1-ubyte.gz to ./data/MNIST/raw/train-labels-idx1-ubyte.gz\n"
          ]
        },
        {
          "output_type": "stream",
          "name": "stderr",
          "text": [
            "100%|██████████| 28881/28881 [00:00<00:00, 74545042.35it/s]"
          ]
        },
        {
          "output_type": "stream",
          "name": "stdout",
          "text": [
            "Extracting ./data/MNIST/raw/train-labels-idx1-ubyte.gz to ./data/MNIST/raw\n",
            "\n",
            "Downloading http://yann.lecun.com/exdb/mnist/t10k-images-idx3-ubyte.gz\n",
            "Downloading http://yann.lecun.com/exdb/mnist/t10k-images-idx3-ubyte.gz to ./data/MNIST/raw/t10k-images-idx3-ubyte.gz\n"
          ]
        },
        {
          "output_type": "stream",
          "name": "stderr",
          "text": [
            "\n",
            "100%|██████████| 1648877/1648877 [00:00<00:00, 27945705.43it/s]\n"
          ]
        },
        {
          "output_type": "stream",
          "name": "stdout",
          "text": [
            "Extracting ./data/MNIST/raw/t10k-images-idx3-ubyte.gz to ./data/MNIST/raw\n",
            "\n",
            "Downloading http://yann.lecun.com/exdb/mnist/t10k-labels-idx1-ubyte.gz\n",
            "Downloading http://yann.lecun.com/exdb/mnist/t10k-labels-idx1-ubyte.gz to ./data/MNIST/raw/t10k-labels-idx1-ubyte.gz\n"
          ]
        },
        {
          "output_type": "stream",
          "name": "stderr",
          "text": [
            "100%|██████████| 4542/4542 [00:00<00:00, 10220240.76it/s]"
          ]
        },
        {
          "output_type": "stream",
          "name": "stdout",
          "text": [
            "Extracting ./data/MNIST/raw/t10k-labels-idx1-ubyte.gz to ./data/MNIST/raw\n",
            "\n"
          ]
        },
        {
          "output_type": "stream",
          "name": "stderr",
          "text": [
            "\n"
          ]
        }
      ]
    },
    {
      "cell_type": "code",
      "source": [
        "# 첫번째 이미지만 가져오기\n",
        "img , label = next(iter(train_loader))"
      ],
      "metadata": {
        "id": "D1Mvg6FpQYji"
      },
      "execution_count": 33,
      "outputs": []
    },
    {
      "cell_type": "code",
      "source": [
        "img.shape"
      ],
      "metadata": {
        "colab": {
          "base_uri": "https://localhost:8080/"
        },
        "id": "DyspnHTDD24C",
        "outputId": "eb2ef22b-2543-4c09-ccc3-5f92f7d1fca1"
      },
      "execution_count": 34,
      "outputs": [
        {
          "output_type": "execute_result",
          "data": {
            "text/plain": [
              "torch.Size([64, 1, 28, 28])"
            ]
          },
          "metadata": {},
          "execution_count": 34
        }
      ]
    },
    {
      "cell_type": "code",
      "source": [
        "#배치 크기 × 채널 × 높이(height) × 너비(widht)\n",
        "#총 64개의 샘플, 흑백이므로 채널 1, 가로 세로 28픽셀"
      ],
      "metadata": {
        "id": "52NoQZj0T_lo"
      },
      "execution_count": 35,
      "outputs": []
    },
    {
      "cell_type": "code",
      "source": [
        "#한 개의 이미지만 출력해보기\n",
        "img_show = img[0, 0, :, :]    #배치 크기, 채널 0으로 만듦\n",
        "img_show.shape\n",
        "\n",
        "plt.imshow(img_show, cmap='Greys')\n",
        "plt.show()"
      ],
      "metadata": {
        "colab": {
          "base_uri": "https://localhost:8080/",
          "height": 430
        },
        "id": "5zSU9StsTpNO",
        "outputId": "101209bc-83d3-4dda-8967-878d442ea1a2"
      },
      "execution_count": 36,
      "outputs": [
        {
          "output_type": "display_data",
          "data": {
            "text/plain": [
              "<Figure size 640x480 with 1 Axes>"
            ],
            "image/png": "[encoded data removed]"
          },
          "metadata": {}
        }
      ]
    },
    {
      "cell_type": "markdown",
      "source": [
        "Conv2d(in_channels, out_channels, kernel_size, stride=1, padding=0)의 파라미터\n",
        "\n",
        "*   in_channels: 입력 채널 수. 흑백 이미지일 경우 1, RGB 값을 가진 이미지일 경우 3 을 가진 경우가 많음\n",
        "*   out_channels: 출력 채널 수\n",
        "*   kernel_size: 커널 사이즈(필터 사이즈)\n",
        "*   stride: kernel을 적용하는 간격. 간격이 커질수록 출력 데이터 배열의 크기는 작아짐. 기본 값은 1\n",
        "*   padding: 출력 데이터 배열의 크기를 조정하기 위해서 이미지의 주변을 채워줌. 패딩 사이즈 기본 값은 0\n",
        "\n"
      ],
      "metadata": {
        "id": "MsE2s_f6UX7z"
      }
    },
    {
      "cell_type": "code",
      "source": [
        "#가로 28x세로 28 = 784 픽셀로 이루어진 이미지\n",
        "#각 픽셀은 밝기 정도에 따라 0부터 255까지 등급을 매김\n",
        "#흰 배경이 0, 글씨가 있는 곳은 1~255 숫자 중 하나로 채워져, 긴 행렬로 이루어진 하나의 집합으로 변환됨"
      ],
      "metadata": {
        "id": "er8ccA1Pwfuw"
      },
      "execution_count": 37,
      "outputs": []
    },
    {
      "cell_type": "markdown",
      "source": [
        "**output size 계산**\n",
        "\n",
        "*   {input size - kernel size + (2*padding)} / stride +1\n",
        "*   우리가 가진 데이터에서 입력 이미지는 28x28 픽셀, conv1(1, 10, 5)일 때 output layer\n",
        "   *  ((28 - 5) + (2*0)) / 1 + 1 = 24\n",
        "   *  output size는 24x24\n",
        "\n"
      ],
      "metadata": {
        "id": "nmzoYHlaVbV-"
      }
    },
    {
      "cell_type": "code",
      "source": [
        "#CNN class 정의\n",
        "class Net(nn.Module):\n",
        "  def __init__(self):\n",
        "    super(Net, self).__init__()   # super함수는 CNN class의 부모 class인 nn.Module을 초기화\n",
        "    self.conv1 = nn.Conv2d(in_channels=1, out_channels=10, kernel_size = 5)\n",
        "        #합성곱 레이어1 : 입력 크기는 28x28x1 -> 출력 크기는 24x24x10 =>맥스 풀링(/2)을 거쳐 12x12x10로 변환\n",
        "    self.conv2 = nn.Conv2d(in_channels=10, out_channels=20, kernel_size = 5)\n",
        "        #합성곱 레이어2 : 입력 크기는 12x12x10 -> 출력 크기는 8x8x20 =>맥스 풀링을 거쳐 4x4x20\n",
        "    self.mp = nn.MaxPool2d(kernel_size=2, stride=2, padding=0)\n",
        "        #맥스풀링 레이어 : 픽셀값을 절반으로 나눠줌\n",
        "    self.fc = nn.Linear(4*4*20, 10) ### : 알맞는 input\n",
        "        #입력 크기 320, 출력 클래스 수는 10(0~9까지 숫자 맞히기)\n",
        "        #입력층과 출력층 사이에 선형 변환 수행(입력 벡터를 받아서 가중치 행렬과의 행렬 곱 계산, bias 더해줌)\n",
        "\n",
        "  def forward(self, x):\n",
        "    in_size = x.size(0)\n",
        "    x = F.relu(self.mp(self.conv1(x)))\n",
        "      #첫 번째 합성곱 계층을 통과한 후 ReLU 활성화 함수를 적용하고, 그 결과를 최대 풀링 계층에 통과시킴\n",
        "    x = F.relu(self.mp(self.conv2(x)))\n",
        "      #두 번째 합성곱 계층을 통과...\n",
        "    x = x.view(in_size, -1)       #출력을 1차원으로 평탄화\n",
        "    x = self.fc(x)    #평탄화된 출력에 완전 연결 계층을 적용하여 클래스에 대한 로그 확률을 계산\n",
        "    return F.log_softmax(x)   #로그 소프트맥스 함수를 적용하여 각 클래스에 대한 예측값을 확률 값으로 반환\n",
        "\n",
        "    ##https://kh-kim.github.io/nlp_with_deep_learning_blog/docs/1-13-deep_neural_networks_ii/05-softmax_and_cross_entropy/\n",
        "    ##지수함수를 사용하는 소프트맥스의 특성상, 로그소프트맥스가 좀 더 빠른 연산 속도를 제공할 수 있기 때문에 후자가 좀 더 선호되는 편이라고,,\n",
        "    ##로그 소프트맥스 사용할 때는 NLL 손실 함수 사용해줘야 함"
      ],
      "metadata": {
        "id": "tLCSvgganBrH"
      },
      "execution_count": 39,
      "outputs": []
    },
    {
      "cell_type": "markdown",
      "source": [
        "**완전연결 계층**\n",
        "\n",
        "*   Fully conneted layer, Dense layer\n",
        "*   '완전 연결되었다' : 한 layer의 모든 뉴런이 다음 layer의 모든 뉴런과 연결된 상태. 1차원 배열의 형태로 평탄화된 행렬을 통해 이미지를 분류하는 데 사용되는 계층\n",
        "*   2차월 벡터의 행렬을 1차원 배열로 평탄화, relu 함수로 활성화, softmax 함수로 이미지 분류하는 것까지가 fully connected layer라고 함\n",
        "\n"
      ],
      "metadata": {
        "id": "rHLc3psLjx_y"
      }
    },
    {
      "cell_type": "markdown",
      "source": [
        "**pooling**\n",
        "\n",
        "*   컨볼루션 층을 통해 이미지 특징을 요약하여도, 그 결과가 여전히 크고 복잡하면 이를 다시 한번 축소함 (pooling/sub sampling)\n",
        "*   정해진 구역 안에서 최댓값을 뽑아내는 max pooling, 평균값을 뽑아내는 average pooling 등\n"
      ],
      "metadata": {
        "id": "Pq324AChdSvB"
      }
    },
    {
      "cell_type": "markdown",
      "source": [
        "**drop out**\n",
        "\n",
        "*   은닉층에 배치된 노드 중 일부를 임의로 꺼주는 것. 특정 노드에 지나치게 치우쳐서 학습되는 과적합 방지\n",
        "*   매 학습이 일어날 때마다 일정한 수의 다른 노드가 랜덤하게 학습에서 배제됨"
      ],
      "metadata": {
        "id": "66h4TfnKd1m_"
      }
    },
    {
      "cell_type": "code",
      "source": [
        "model = Net()\n",
        "optimizer = optim.SGD(model.parameters(), lr = 0.01, momentum = 0.5)"
      ],
      "metadata": {
        "id": "lkYZ4pUdnUHc"
      },
      "execution_count": 40,
      "outputs": []
    },
    {
      "cell_type": "code",
      "source": [
        "def train(epoch):\n",
        "  model.train()\n",
        "  for batch_idx, (data, target) in enumerate(train_loader):\n",
        "    data, target = Variable(data), Variable(target)   #데이터와 타겟을 Variable로 변환하여 GPU에서 연산할 수 있도록 함\n",
        "    optimizer.zero_grad()   #기울기를 초기화\n",
        "    output = model(data)    #모델에 데이터를 입력\n",
        "    loss = F.nll_loss(output, target)     #예측값과 실제값 사이의 손실 계산\n",
        "    loss.backward()         #역전파를 통해 파라미터 기울기 계산\n",
        "    optimizer.step()        #옵티마이저로 파라미터 업데이트\n",
        "    if batch_idx % 10 == 0:   #현재 미니배치의 인덱스가 10의 배수일 때마다 아래 코드 블록을 실행\n",
        "      print('Train Epoch: {} [{}/{} ({:.0f}%)]\\tLoss: {:.6f}'.format(\n",
        "          epoch, batch_idx * len(data), len(train_loader.dataset),\n",
        "          100. * batch_idx / len(train_loader), loss.item()))\n",
        "          #에포크, 미니배치 인덱스, 전체 데이터셋 크기, 현재 미니배치의 손실을 출력"
      ],
      "metadata": {
        "id": "IzUrEM3EnXJb"
      },
      "execution_count": 41,
      "outputs": []
    },
    {
      "cell_type": "markdown",
      "source": [
        "**model.eval()**\n",
        "\n",
        "*   모델의 모든 레이어가 evalutaion mode에 들어가도록 해줌 -> 학습할 때만 필요했던 drop out, batch norm 등의 기능을 추론할 때는 비활성화시킴\n",
        "    * 메모리와는 관련이 없다고\n",
        "*   torch.no_grad() : gradient 계산을 비활성화 함으로써 gradient를 더이상 트래킹하지 않음. 메모리가 줄어들고 연산 속도가 증가함"
      ],
      "metadata": {
        "id": "r_jvGggceda7"
      }
    },
    {
      "cell_type": "code",
      "source": [
        "def test():\n",
        "    model.eval() #model.eval() 의 기능은?\n",
        "    test_loss = 0\n",
        "    correct = 0\n",
        "    for data, target in test_loader:\n",
        "        data, target = Variable(data, volatile=True), Variable(target)\n",
        "        #역전파 단계에서 그래디언트가 계산되지 않음, 메모리 절약하기 위해 사용 -> 최신 버전 파이토치에서는 with torch.no_grad()를 사용한다고..\n",
        "        output = model(data)\n",
        "        test_loss += F.nll_loss(output, target, size_average=False).data # nll_loss?? / cross entropy loss와의 관계 확인!\n",
        "        #size_average=False로 설정하여 각 배치의 손실 합을 구함\n",
        "        pred = output.data.max(1, keepdim=True)[1]\n",
        "        #각 입력 샘플에 대한 예측 저장\n",
        "        correct += pred.eq(target.data.view_as(pred)).cpu().sum()\n",
        "        #예측값과 실제 타겟을 비교하여 올바른 예측수 계산\n",
        "\n",
        "    test_loss /= len(test_loader.dataset)\n",
        "      #테스트 손실을 전체 테스트 데이터셋의 크기로 나누어 평균 손실을 계산\n",
        "    print('\\nTest set: Average loss: {:.4f}, Accuracy: {}/{} ({:.0f}%)\\n'.format(\n",
        "        test_loss, correct, len(test_loader.dataset),\n",
        "        100. * correct / len(test_loader.dataset)))   #평균 손실과 정확도 출력함"
      ],
      "metadata": {
        "id": "EFi0gYJGn2aa"
      },
      "execution_count": 42,
      "outputs": []
    },
    {
      "cell_type": "markdown",
      "source": [
        "**null_loss**\n",
        "\n",
        "\n",
        "*   음의 로그 우도(Negative Log Likelihood) 손실을 계산하는 손실 함수. 로그 소프트맥스(log softmax) 출력을 사용\n",
        "*   torch.nn.CrossEntropyLoss : nn.LogSoftmax와 nn.NLLLoss의 연산의 조합\n",
        "\n",
        "\n",
        "https://supermemi.tistory.com/entry/Loss-Cross-Entropy-Negative-Log-Likelihood-%EB%82%B4%EC%9A%A9-%EC%A0%95%EB%A6%AC-Pytorch-Code\n",
        "1.    NLLLoss 안에서는 softmax나 log함수가 이뤄지지 않습니다. 그래서 모델 output(raw data)을 input으로 그대로 사용하는 것이 아니라 LogSoftmax 함수를 적용한 후 input으로 사용해야합니다.\n",
        "2.   CrossEntropyLoss 안에서 LogSoftmax와 Negative Log-likelihood 가 진행되기 때문에 softmax나 log 함수가 적용되지 않은 모델 output(raw data)을 input으로 주어야 합니다.\n",
        "\n",
        "\n",
        "\n"
      ],
      "metadata": {
        "id": "F9ayvAdIgUxa"
      }
    },
    {
      "cell_type": "code",
      "source": [
        "for epoch in range(1, 10):\n",
        "    train(epoch)\n",
        "    test()"
      ],
      "metadata": {
        "id": "zSvSZb_Bn4Nx",
        "colab": {
          "base_uri": "https://localhost:8080/"
        },
        "outputId": "e5f60908-674a-461c-90b7-579661de83c7"
      },
      "execution_count": 43,
      "outputs": [
        {
          "output_type": "stream",
          "name": "stderr",
          "text": [
            "<ipython-input-39-59477b7fa2b5>:23: UserWarning: Implicit dimension choice for log_softmax has been deprecated. Change the call to include dim=X as an argument.\n",
            "  return F.log_softmax(x)   #로그 소프트맥스 함수를 적용하여 각 클래스에 대한 예측값을 확률 값으로 반환\n"
          ]
        },
        {
          "output_type": "stream",
          "name": "stdout",
          "text": [
            "Train Epoch: 1 [0/60000 (0%)]\tLoss: 2.300726\n",
            "Train Epoch: 1 [640/60000 (1%)]\tLoss: 2.273365\n",
            "Train Epoch: 1 [1280/60000 (2%)]\tLoss: 2.251930\n",
            "Train Epoch: 1 [1920/60000 (3%)]\tLoss: 2.232374\n",
            "Train Epoch: 1 [2560/60000 (4%)]\tLoss: 2.176073\n",
            "Train Epoch: 1 [3200/60000 (5%)]\tLoss: 2.193516\n",
            "Train Epoch: 1 [3840/60000 (6%)]\tLoss: 2.114929\n",
            "Train Epoch: 1 [4480/60000 (7%)]\tLoss: 1.945692\n",
            "Train Epoch: 1 [5120/60000 (9%)]\tLoss: 1.896105\n",
            "Train Epoch: 1 [5760/60000 (10%)]\tLoss: 1.576200\n",
            "Train Epoch: 1 [6400/60000 (11%)]\tLoss: 1.396972\n",
            "Train Epoch: 1 [7040/60000 (12%)]\tLoss: 1.091363\n",
            "Train Epoch: 1 [7680/60000 (13%)]\tLoss: 0.931685\n",
            "Train Epoch: 1 [8320/60000 (14%)]\tLoss: 0.834722\n",
            "Train Epoch: 1 [8960/60000 (15%)]\tLoss: 0.689583\n",
            "Train Epoch: 1 [9600/60000 (16%)]\tLoss: 0.619575\n",
            "Train Epoch: 1 [10240/60000 (17%)]\tLoss: 0.486502\n",
            "Train Epoch: 1 [10880/60000 (18%)]\tLoss: 0.568944\n",
            "Train Epoch: 1 [11520/60000 (19%)]\tLoss: 0.434625\n",
            "Train Epoch: 1 [12160/60000 (20%)]\tLoss: 0.421943\n",
            "Train Epoch: 1 [12800/60000 (21%)]\tLoss: 0.438076\n",
            "Train Epoch: 1 [13440/60000 (22%)]\tLoss: 0.320853\n",
            "Train Epoch: 1 [14080/60000 (23%)]\tLoss: 0.427527\n",
            "Train Epoch: 1 [14720/60000 (25%)]\tLoss: 0.832622\n",
            "Train Epoch: 1 [15360/60000 (26%)]\tLoss: 0.639795\n",
            "Train Epoch: 1 [16000/60000 (27%)]\tLoss: 0.575998\n",
            "Train Epoch: 1 [16640/60000 (28%)]\tLoss: 0.588662\n",
            "Train Epoch: 1 [17280/60000 (29%)]\tLoss: 0.367149\n",
            "Train Epoch: 1 [17920/60000 (30%)]\tLoss: 0.347469\n",
            "Train Epoch: 1 [18560/60000 (31%)]\tLoss: 0.492447\n",
            "Train Epoch: 1 [19200/60000 (32%)]\tLoss: 0.559437\n",
            "Train Epoch: 1 [19840/60000 (33%)]\tLoss: 0.599654\n",
            "Train Epoch: 1 [20480/60000 (34%)]\tLoss: 0.429873\n",
            "Train Epoch: 1 [21120/60000 (35%)]\tLoss: 0.512625\n",
            "Train Epoch: 1 [21760/60000 (36%)]\tLoss: 0.350651\n",
            "Train Epoch: 1 [22400/60000 (37%)]\tLoss: 0.291412\n",
            "Train Epoch: 1 [23040/60000 (38%)]\tLoss: 0.224245\n",
            "Train Epoch: 1 [23680/60000 (39%)]\tLoss: 0.509261\n",
            "Train Epoch: 1 [24320/60000 (41%)]\tLoss: 0.679937\n",
            "Train Epoch: 1 [24960/60000 (42%)]\tLoss: 0.338788\n",
            "Train Epoch: 1 [25600/60000 (43%)]\tLoss: 0.155449\n",
            "Train Epoch: 1 [26240/60000 (44%)]\tLoss: 0.307878\n",
            "Train Epoch: 1 [26880/60000 (45%)]\tLoss: 0.229660\n",
            "Train Epoch: 1 [27520/60000 (46%)]\tLoss: 0.254997\n",
            "Train Epoch: 1 [28160/60000 (47%)]\tLoss: 0.326377\n",
            "Train Epoch: 1 [28800/60000 (48%)]\tLoss: 0.236076\n",
            "Train Epoch: 1 [29440/60000 (49%)]\tLoss: 0.351522\n",
            "Train Epoch: 1 [30080/60000 (50%)]\tLoss: 0.389913\n",
            "Train Epoch: 1 [30720/60000 (51%)]\tLoss: 0.408065\n",
            "Train Epoch: 1 [31360/60000 (52%)]\tLoss: 0.291603\n",
            "Train Epoch: 1 [32000/60000 (53%)]\tLoss: 0.312974\n",
            "Train Epoch: 1 [32640/60000 (54%)]\tLoss: 0.340250\n",
            "Train Epoch: 1 [33280/60000 (55%)]\tLoss: 0.281253\n",
            "Train Epoch: 1 [33920/60000 (57%)]\tLoss: 0.450093\n",
            "Train Epoch: 1 [34560/60000 (58%)]\tLoss: 0.330775\n",
            "Train Epoch: 1 [35200/60000 (59%)]\tLoss: 0.276068\n",
            "Train Epoch: 1 [35840/60000 (60%)]\tLoss: 0.406866\n",
            "Train Epoch: 1 [36480/60000 (61%)]\tLoss: 0.155488\n",
            "Train Epoch: 1 [37120/60000 (62%)]\tLoss: 0.235486\n",
            "Train Epoch: 1 [37760/60000 (63%)]\tLoss: 0.333458\n",
            "Train Epoch: 1 [38400/60000 (64%)]\tLoss: 0.472020\n",
            "Train Epoch: 1 [39040/60000 (65%)]\tLoss: 0.778466\n",
            "Train Epoch: 1 [39680/60000 (66%)]\tLoss: 0.240473\n",
            "Train Epoch: 1 [40320/60000 (67%)]\tLoss: 0.390749\n",
            "Train Epoch: 1 [40960/60000 (68%)]\tLoss: 0.148269\n",
            "Train Epoch: 1 [41600/60000 (69%)]\tLoss: 0.425933\n",
            "Train Epoch: 1 [42240/60000 (70%)]\tLoss: 0.267877\n",
            "Train Epoch: 1 [42880/60000 (71%)]\tLoss: 0.235197\n",
            "Train Epoch: 1 [43520/60000 (72%)]\tLoss: 0.276291\n",
            "Train Epoch: 1 [44160/60000 (74%)]\tLoss: 0.132488\n",
            "Train Epoch: 1 [44800/60000 (75%)]\tLoss: 0.242890\n",
            "Train Epoch: 1 [45440/60000 (76%)]\tLoss: 0.164905\n",
            "Train Epoch: 1 [46080/60000 (77%)]\tLoss: 0.082670\n",
            "Train Epoch: 1 [46720/60000 (78%)]\tLoss: 0.404764\n",
            "Train Epoch: 1 [47360/60000 (79%)]\tLoss: 0.277576\n",
            "Train Epoch: 1 [48000/60000 (80%)]\tLoss: 0.221470\n",
            "Train Epoch: 1 [48640/60000 (81%)]\tLoss: 0.217390\n",
            "Train Epoch: 1 [49280/60000 (82%)]\tLoss: 0.348762\n",
            "Train Epoch: 1 [49920/60000 (83%)]\tLoss: 0.256285\n",
            "Train Epoch: 1 [50560/60000 (84%)]\tLoss: 0.313704\n",
            "Train Epoch: 1 [51200/60000 (85%)]\tLoss: 0.291751\n",
            "Train Epoch: 1 [51840/60000 (86%)]\tLoss: 0.223153\n",
            "Train Epoch: 1 [52480/60000 (87%)]\tLoss: 0.187136\n",
            "Train Epoch: 1 [53120/60000 (88%)]\tLoss: 0.238349\n",
            "Train Epoch: 1 [53760/60000 (90%)]\tLoss: 0.140114\n",
            "Train Epoch: 1 [54400/60000 (91%)]\tLoss: 0.324673\n",
            "Train Epoch: 1 [55040/60000 (92%)]\tLoss: 0.262730\n",
            "Train Epoch: 1 [55680/60000 (93%)]\tLoss: 0.102914\n",
            "Train Epoch: 1 [56320/60000 (94%)]\tLoss: 0.146324\n",
            "Train Epoch: 1 [56960/60000 (95%)]\tLoss: 0.145617\n",
            "Train Epoch: 1 [57600/60000 (96%)]\tLoss: 0.235527\n",
            "Train Epoch: 1 [58240/60000 (97%)]\tLoss: 0.109058\n",
            "Train Epoch: 1 [58880/60000 (98%)]\tLoss: 0.239963\n",
            "Train Epoch: 1 [59520/60000 (99%)]\tLoss: 0.188166\n"
          ]
        },
        {
          "output_type": "stream",
          "name": "stderr",
          "text": [
            "<ipython-input-42-daccfb86f72c>:6: UserWarning: volatile was removed and now has no effect. Use `with torch.no_grad():` instead.\n",
            "  data, target = Variable(data, volatile=True), Variable(target)\n",
            "/usr/local/lib/python3.10/dist-packages/torch/nn/_reduction.py:42: UserWarning: size_average and reduce args will be deprecated, please use reduction='sum' instead.\n",
            "  warnings.warn(warning.format(ret))\n"
          ]
        },
        {
          "output_type": "stream",
          "name": "stdout",
          "text": [
            "\n",
            "Test set: Average loss: 0.1807, Accuracy: 9458/10000 (95%)\n",
            "\n",
            "Train Epoch: 2 [0/60000 (0%)]\tLoss: 0.149874\n",
            "Train Epoch: 2 [640/60000 (1%)]\tLoss: 0.158970\n",
            "Train Epoch: 2 [1280/60000 (2%)]\tLoss: 0.120138\n",
            "Train Epoch: 2 [1920/60000 (3%)]\tLoss: 0.218476\n",
            "Train Epoch: 2 [2560/60000 (4%)]\tLoss: 0.229115\n",
            "Train Epoch: 2 [3200/60000 (5%)]\tLoss: 0.405875\n",
            "Train Epoch: 2 [3840/60000 (6%)]\tLoss: 0.221780\n",
            "Train Epoch: 2 [4480/60000 (7%)]\tLoss: 0.304464\n",
            "Train Epoch: 2 [5120/60000 (9%)]\tLoss: 0.265579\n",
            "Train Epoch: 2 [5760/60000 (10%)]\tLoss: 0.258661\n",
            "Train Epoch: 2 [6400/60000 (11%)]\tLoss: 0.254684\n",
            "Train Epoch: 2 [7040/60000 (12%)]\tLoss: 0.198440\n",
            "Train Epoch: 2 [7680/60000 (13%)]\tLoss: 0.116211\n",
            "Train Epoch: 2 [8320/60000 (14%)]\tLoss: 0.292966\n",
            "Train Epoch: 2 [8960/60000 (15%)]\tLoss: 0.243772\n",
            "Train Epoch: 2 [9600/60000 (16%)]\tLoss: 0.154295\n",
            "Train Epoch: 2 [10240/60000 (17%)]\tLoss: 0.173079\n",
            "Train Epoch: 2 [10880/60000 (18%)]\tLoss: 0.122388\n",
            "Train Epoch: 2 [11520/60000 (19%)]\tLoss: 0.289004\n",
            "Train Epoch: 2 [12160/60000 (20%)]\tLoss: 0.113864\n",
            "Train Epoch: 2 [12800/60000 (21%)]\tLoss: 0.263954\n",
            "Train Epoch: 2 [13440/60000 (22%)]\tLoss: 0.092774\n",
            "Train Epoch: 2 [14080/60000 (23%)]\tLoss: 0.128801\n",
            "Train Epoch: 2 [14720/60000 (25%)]\tLoss: 0.195315\n",
            "Train Epoch: 2 [15360/60000 (26%)]\tLoss: 0.248380\n",
            "Train Epoch: 2 [16000/60000 (27%)]\tLoss: 0.148746\n",
            "Train Epoch: 2 [16640/60000 (28%)]\tLoss: 0.106729\n",
            "Train Epoch: 2 [17280/60000 (29%)]\tLoss: 0.091693\n",
            "Train Epoch: 2 [17920/60000 (30%)]\tLoss: 0.110465\n",
            "Train Epoch: 2 [18560/60000 (31%)]\tLoss: 0.252077\n",
            "Train Epoch: 2 [19200/60000 (32%)]\tLoss: 0.231072\n",
            "Train Epoch: 2 [19840/60000 (33%)]\tLoss: 0.213869\n",
            "Train Epoch: 2 [20480/60000 (34%)]\tLoss: 0.074441\n",
            "Train Epoch: 2 [21120/60000 (35%)]\tLoss: 0.354207\n",
            "Train Epoch: 2 [21760/60000 (36%)]\tLoss: 0.149927\n",
            "Train Epoch: 2 [22400/60000 (37%)]\tLoss: 0.152499\n",
            "Train Epoch: 2 [23040/60000 (38%)]\tLoss: 0.133417\n",
            "Train Epoch: 2 [23680/60000 (39%)]\tLoss: 0.129887\n",
            "Train Epoch: 2 [24320/60000 (41%)]\tLoss: 0.157020\n",
            "Train Epoch: 2 [24960/60000 (42%)]\tLoss: 0.116066\n",
            "Train Epoch: 2 [25600/60000 (43%)]\tLoss: 0.102502\n",
            "Train Epoch: 2 [26240/60000 (44%)]\tLoss: 0.067189\n",
            "Train Epoch: 2 [26880/60000 (45%)]\tLoss: 0.154113\n",
            "Train Epoch: 2 [27520/60000 (46%)]\tLoss: 0.114417\n",
            "Train Epoch: 2 [28160/60000 (47%)]\tLoss: 0.190176\n",
            "Train Epoch: 2 [28800/60000 (48%)]\tLoss: 0.096115\n",
            "Train Epoch: 2 [29440/60000 (49%)]\tLoss: 0.162662\n",
            "Train Epoch: 2 [30080/60000 (50%)]\tLoss: 0.159428\n",
            "Train Epoch: 2 [30720/60000 (51%)]\tLoss: 0.373205\n",
            "Train Epoch: 2 [31360/60000 (52%)]\tLoss: 0.381781\n",
            "Train Epoch: 2 [32000/60000 (53%)]\tLoss: 0.426097\n",
            "Train Epoch: 2 [32640/60000 (54%)]\tLoss: 0.107775\n",
            "Train Epoch: 2 [33280/60000 (55%)]\tLoss: 0.182523\n",
            "Train Epoch: 2 [33920/60000 (57%)]\tLoss: 0.203940\n",
            "Train Epoch: 2 [34560/60000 (58%)]\tLoss: 0.198450\n",
            "Train Epoch: 2 [35200/60000 (59%)]\tLoss: 0.077414\n",
            "Train Epoch: 2 [35840/60000 (60%)]\tLoss: 0.164213\n",
            "Train Epoch: 2 [36480/60000 (61%)]\tLoss: 0.156557\n",
            "Train Epoch: 2 [37120/60000 (62%)]\tLoss: 0.129338\n",
            "Train Epoch: 2 [37760/60000 (63%)]\tLoss: 0.236483\n",
            "Train Epoch: 2 [38400/60000 (64%)]\tLoss: 0.094693\n",
            "Train Epoch: 2 [39040/60000 (65%)]\tLoss: 0.051886\n",
            "Train Epoch: 2 [39680/60000 (66%)]\tLoss: 0.257329\n",
            "Train Epoch: 2 [40320/60000 (67%)]\tLoss: 0.108642\n",
            "Train Epoch: 2 [40960/60000 (68%)]\tLoss: 0.158318\n",
            "Train Epoch: 2 [41600/60000 (69%)]\tLoss: 0.132915\n",
            "Train Epoch: 2 [42240/60000 (70%)]\tLoss: 0.257270\n",
            "Train Epoch: 2 [42880/60000 (71%)]\tLoss: 0.172143\n",
            "Train Epoch: 2 [43520/60000 (72%)]\tLoss: 0.059917\n",
            "Train Epoch: 2 [44160/60000 (74%)]\tLoss: 0.096935\n",
            "Train Epoch: 2 [44800/60000 (75%)]\tLoss: 0.074897\n",
            "Train Epoch: 2 [45440/60000 (76%)]\tLoss: 0.129938\n",
            "Train Epoch: 2 [46080/60000 (77%)]\tLoss: 0.054574\n",
            "Train Epoch: 2 [46720/60000 (78%)]\tLoss: 0.328267\n",
            "Train Epoch: 2 [47360/60000 (79%)]\tLoss: 0.225704\n",
            "Train Epoch: 2 [48000/60000 (80%)]\tLoss: 0.098598\n",
            "Train Epoch: 2 [48640/60000 (81%)]\tLoss: 0.202536\n",
            "Train Epoch: 2 [49280/60000 (82%)]\tLoss: 0.087242\n",
            "Train Epoch: 2 [49920/60000 (83%)]\tLoss: 0.095711\n",
            "Train Epoch: 2 [50560/60000 (84%)]\tLoss: 0.055581\n",
            "Train Epoch: 2 [51200/60000 (85%)]\tLoss: 0.144857\n",
            "Train Epoch: 2 [51840/60000 (86%)]\tLoss: 0.179419\n",
            "Train Epoch: 2 [52480/60000 (87%)]\tLoss: 0.304270\n",
            "Train Epoch: 2 [53120/60000 (88%)]\tLoss: 0.093400\n",
            "Train Epoch: 2 [53760/60000 (90%)]\tLoss: 0.246601\n",
            "Train Epoch: 2 [54400/60000 (91%)]\tLoss: 0.155573\n",
            "Train Epoch: 2 [55040/60000 (92%)]\tLoss: 0.080742\n",
            "Train Epoch: 2 [55680/60000 (93%)]\tLoss: 0.235053\n",
            "Train Epoch: 2 [56320/60000 (94%)]\tLoss: 0.093610\n",
            "Train Epoch: 2 [56960/60000 (95%)]\tLoss: 0.075802\n",
            "Train Epoch: 2 [57600/60000 (96%)]\tLoss: 0.202854\n",
            "Train Epoch: 2 [58240/60000 (97%)]\tLoss: 0.165178\n",
            "Train Epoch: 2 [58880/60000 (98%)]\tLoss: 0.116279\n",
            "Train Epoch: 2 [59520/60000 (99%)]\tLoss: 0.055084\n",
            "\n",
            "Test set: Average loss: 0.1217, Accuracy: 9624/10000 (96%)\n",
            "\n",
            "Train Epoch: 3 [0/60000 (0%)]\tLoss: 0.120190\n",
            "Train Epoch: 3 [640/60000 (1%)]\tLoss: 0.132310\n",
            "Train Epoch: 3 [1280/60000 (2%)]\tLoss: 0.114838\n",
            "Train Epoch: 3 [1920/60000 (3%)]\tLoss: 0.150421\n",
            "Train Epoch: 3 [2560/60000 (4%)]\tLoss: 0.116574\n",
            "Train Epoch: 3 [3200/60000 (5%)]\tLoss: 0.097587\n",
            "Train Epoch: 3 [3840/60000 (6%)]\tLoss: 0.220477\n",
            "Train Epoch: 3 [4480/60000 (7%)]\tLoss: 0.038178\n",
            "Train Epoch: 3 [5120/60000 (9%)]\tLoss: 0.217885\n",
            "Train Epoch: 3 [5760/60000 (10%)]\tLoss: 0.090492\n",
            "Train Epoch: 3 [6400/60000 (11%)]\tLoss: 0.077313\n",
            "Train Epoch: 3 [7040/60000 (12%)]\tLoss: 0.135848\n",
            "Train Epoch: 3 [7680/60000 (13%)]\tLoss: 0.118677\n",
            "Train Epoch: 3 [8320/60000 (14%)]\tLoss: 0.079084\n",
            "Train Epoch: 3 [8960/60000 (15%)]\tLoss: 0.163817\n",
            "Train Epoch: 3 [9600/60000 (16%)]\tLoss: 0.167662\n",
            "Train Epoch: 3 [10240/60000 (17%)]\tLoss: 0.142983\n",
            "Train Epoch: 3 [10880/60000 (18%)]\tLoss: 0.104271\n",
            "Train Epoch: 3 [11520/60000 (19%)]\tLoss: 0.082800\n",
            "Train Epoch: 3 [12160/60000 (20%)]\tLoss: 0.094549\n",
            "Train Epoch: 3 [12800/60000 (21%)]\tLoss: 0.082078\n",
            "Train Epoch: 3 [13440/60000 (22%)]\tLoss: 0.105443\n",
            "Train Epoch: 3 [14080/60000 (23%)]\tLoss: 0.075593\n",
            "Train Epoch: 3 [14720/60000 (25%)]\tLoss: 0.142881\n",
            "Train Epoch: 3 [15360/60000 (26%)]\tLoss: 0.123371\n",
            "Train Epoch: 3 [16000/60000 (27%)]\tLoss: 0.136324\n",
            "Train Epoch: 3 [16640/60000 (28%)]\tLoss: 0.244984\n",
            "Train Epoch: 3 [17280/60000 (29%)]\tLoss: 0.083320\n",
            "Train Epoch: 3 [17920/60000 (30%)]\tLoss: 0.198517\n",
            "Train Epoch: 3 [18560/60000 (31%)]\tLoss: 0.126209\n",
            "Train Epoch: 3 [19200/60000 (32%)]\tLoss: 0.107062\n",
            "Train Epoch: 3 [19840/60000 (33%)]\tLoss: 0.089619\n",
            "Train Epoch: 3 [20480/60000 (34%)]\tLoss: 0.111606\n",
            "Train Epoch: 3 [21120/60000 (35%)]\tLoss: 0.046573\n",
            "Train Epoch: 3 [21760/60000 (36%)]\tLoss: 0.164044\n",
            "Train Epoch: 3 [22400/60000 (37%)]\tLoss: 0.084545\n",
            "Train Epoch: 3 [23040/60000 (38%)]\tLoss: 0.129546\n",
            "Train Epoch: 3 [23680/60000 (39%)]\tLoss: 0.124459\n",
            "Train Epoch: 3 [24320/60000 (41%)]\tLoss: 0.141500\n",
            "Train Epoch: 3 [24960/60000 (42%)]\tLoss: 0.032457\n",
            "Train Epoch: 3 [25600/60000 (43%)]\tLoss: 0.133937\n",
            "Train Epoch: 3 [26240/60000 (44%)]\tLoss: 0.441490\n",
            "Train Epoch: 3 [26880/60000 (45%)]\tLoss: 0.440069\n",
            "Train Epoch: 3 [27520/60000 (46%)]\tLoss: 0.038778\n",
            "Train Epoch: 3 [28160/60000 (47%)]\tLoss: 0.039024\n",
            "Train Epoch: 3 [28800/60000 (48%)]\tLoss: 0.081971\n",
            "Train Epoch: 3 [29440/60000 (49%)]\tLoss: 0.144739\n",
            "Train Epoch: 3 [30080/60000 (50%)]\tLoss: 0.085295\n",
            "Train Epoch: 3 [30720/60000 (51%)]\tLoss: 0.213181\n",
            "Train Epoch: 3 [31360/60000 (52%)]\tLoss: 0.103697\n",
            "Train Epoch: 3 [32000/60000 (53%)]\tLoss: 0.052871\n",
            "Train Epoch: 3 [32640/60000 (54%)]\tLoss: 0.161083\n",
            "Train Epoch: 3 [33280/60000 (55%)]\tLoss: 0.080056\n",
            "Train Epoch: 3 [33920/60000 (57%)]\tLoss: 0.124691\n",
            "Train Epoch: 3 [34560/60000 (58%)]\tLoss: 0.111552\n",
            "Train Epoch: 3 [35200/60000 (59%)]\tLoss: 0.055628\n",
            "Train Epoch: 3 [35840/60000 (60%)]\tLoss: 0.133994\n",
            "Train Epoch: 3 [36480/60000 (61%)]\tLoss: 0.212637\n",
            "Train Epoch: 3 [37120/60000 (62%)]\tLoss: 0.275012\n",
            "Train Epoch: 3 [37760/60000 (63%)]\tLoss: 0.102614\n",
            "Train Epoch: 3 [38400/60000 (64%)]\tLoss: 0.021724\n",
            "Train Epoch: 3 [39040/60000 (65%)]\tLoss: 0.114158\n",
            "Train Epoch: 3 [39680/60000 (66%)]\tLoss: 0.023831\n",
            "Train Epoch: 3 [40320/60000 (67%)]\tLoss: 0.114643\n",
            "Train Epoch: 3 [40960/60000 (68%)]\tLoss: 0.161981\n",
            "Train Epoch: 3 [41600/60000 (69%)]\tLoss: 0.181158\n",
            "Train Epoch: 3 [42240/60000 (70%)]\tLoss: 0.044115\n",
            "Train Epoch: 3 [42880/60000 (71%)]\tLoss: 0.148147\n",
            "Train Epoch: 3 [43520/60000 (72%)]\tLoss: 0.027279\n",
            "Train Epoch: 3 [44160/60000 (74%)]\tLoss: 0.133533\n",
            "Train Epoch: 3 [44800/60000 (75%)]\tLoss: 0.108650\n",
            "Train Epoch: 3 [45440/60000 (76%)]\tLoss: 0.246227\n",
            "Train Epoch: 3 [46080/60000 (77%)]\tLoss: 0.100263\n",
            "Train Epoch: 3 [46720/60000 (78%)]\tLoss: 0.079839\n",
            "Train Epoch: 3 [47360/60000 (79%)]\tLoss: 0.158232\n",
            "Train Epoch: 3 [48000/60000 (80%)]\tLoss: 0.123271\n",
            "Train Epoch: 3 [48640/60000 (81%)]\tLoss: 0.234599\n",
            "Train Epoch: 3 [49280/60000 (82%)]\tLoss: 0.044660\n",
            "Train Epoch: 3 [49920/60000 (83%)]\tLoss: 0.037594\n",
            "Train Epoch: 3 [50560/60000 (84%)]\tLoss: 0.037255\n",
            "Train Epoch: 3 [51200/60000 (85%)]\tLoss: 0.104903\n",
            "Train Epoch: 3 [51840/60000 (86%)]\tLoss: 0.024206\n",
            "Train Epoch: 3 [52480/60000 (87%)]\tLoss: 0.043266\n",
            "Train Epoch: 3 [53120/60000 (88%)]\tLoss: 0.170208\n",
            "Train Epoch: 3 [53760/60000 (90%)]\tLoss: 0.051444\n",
            "Train Epoch: 3 [54400/60000 (91%)]\tLoss: 0.056640\n",
            "Train Epoch: 3 [55040/60000 (92%)]\tLoss: 0.049967\n",
            "Train Epoch: 3 [55680/60000 (93%)]\tLoss: 0.107331\n",
            "Train Epoch: 3 [56320/60000 (94%)]\tLoss: 0.121086\n",
            "Train Epoch: 3 [56960/60000 (95%)]\tLoss: 0.079495\n",
            "Train Epoch: 3 [57600/60000 (96%)]\tLoss: 0.026889\n",
            "Train Epoch: 3 [58240/60000 (97%)]\tLoss: 0.175260\n",
            "Train Epoch: 3 [58880/60000 (98%)]\tLoss: 0.033061\n",
            "Train Epoch: 3 [59520/60000 (99%)]\tLoss: 0.156329\n",
            "\n",
            "Test set: Average loss: 0.0937, Accuracy: 9710/10000 (97%)\n",
            "\n",
            "Train Epoch: 4 [0/60000 (0%)]\tLoss: 0.037529\n",
            "Train Epoch: 4 [640/60000 (1%)]\tLoss: 0.039688\n",
            "Train Epoch: 4 [1280/60000 (2%)]\tLoss: 0.095977\n",
            "Train Epoch: 4 [1920/60000 (3%)]\tLoss: 0.124998\n",
            "Train Epoch: 4 [2560/60000 (4%)]\tLoss: 0.052884\n",
            "Train Epoch: 4 [3200/60000 (5%)]\tLoss: 0.076721\n",
            "Train Epoch: 4 [3840/60000 (6%)]\tLoss: 0.057710\n",
            "Train Epoch: 4 [4480/60000 (7%)]\tLoss: 0.094879\n",
            "Train Epoch: 4 [5120/60000 (9%)]\tLoss: 0.118066\n",
            "Train Epoch: 4 [5760/60000 (10%)]\tLoss: 0.315378\n",
            "Train Epoch: 4 [6400/60000 (11%)]\tLoss: 0.081013\n",
            "Train Epoch: 4 [7040/60000 (12%)]\tLoss: 0.064233\n",
            "Train Epoch: 4 [7680/60000 (13%)]\tLoss: 0.261245\n",
            "Train Epoch: 4 [8320/60000 (14%)]\tLoss: 0.167292\n",
            "Train Epoch: 4 [8960/60000 (15%)]\tLoss: 0.155960\n",
            "Train Epoch: 4 [9600/60000 (16%)]\tLoss: 0.095859\n",
            "Train Epoch: 4 [10240/60000 (17%)]\tLoss: 0.075860\n",
            "Train Epoch: 4 [10880/60000 (18%)]\tLoss: 0.117770\n",
            "Train Epoch: 4 [11520/60000 (19%)]\tLoss: 0.098164\n",
            "Train Epoch: 4 [12160/60000 (20%)]\tLoss: 0.195782\n",
            "Train Epoch: 4 [12800/60000 (21%)]\tLoss: 0.108160\n",
            "Train Epoch: 4 [13440/60000 (22%)]\tLoss: 0.080111\n",
            "Train Epoch: 4 [14080/60000 (23%)]\tLoss: 0.057782\n",
            "Train Epoch: 4 [14720/60000 (25%)]\tLoss: 0.090325\n",
            "Train Epoch: 4 [15360/60000 (26%)]\tLoss: 0.157072\n",
            "Train Epoch: 4 [16000/60000 (27%)]\tLoss: 0.220844\n",
            "Train Epoch: 4 [16640/60000 (28%)]\tLoss: 0.088337\n",
            "Train Epoch: 4 [17280/60000 (29%)]\tLoss: 0.044254\n",
            "Train Epoch: 4 [17920/60000 (30%)]\tLoss: 0.072379\n",
            "Train Epoch: 4 [18560/60000 (31%)]\tLoss: 0.070499\n",
            "Train Epoch: 4 [19200/60000 (32%)]\tLoss: 0.046186\n",
            "Train Epoch: 4 [19840/60000 (33%)]\tLoss: 0.119564\n",
            "Train Epoch: 4 [20480/60000 (34%)]\tLoss: 0.082062\n",
            "Train Epoch: 4 [21120/60000 (35%)]\tLoss: 0.114535\n",
            "Train Epoch: 4 [21760/60000 (36%)]\tLoss: 0.045164\n",
            "Train Epoch: 4 [22400/60000 (37%)]\tLoss: 0.068349\n",
            "Train Epoch: 4 [23040/60000 (38%)]\tLoss: 0.195178\n",
            "Train Epoch: 4 [23680/60000 (39%)]\tLoss: 0.078817\n",
            "Train Epoch: 4 [24320/60000 (41%)]\tLoss: 0.073790\n",
            "Train Epoch: 4 [24960/60000 (42%)]\tLoss: 0.044709\n",
            "Train Epoch: 4 [25600/60000 (43%)]\tLoss: 0.084969\n",
            "Train Epoch: 4 [26240/60000 (44%)]\tLoss: 0.068384\n",
            "Train Epoch: 4 [26880/60000 (45%)]\tLoss: 0.032342\n",
            "Train Epoch: 4 [27520/60000 (46%)]\tLoss: 0.087894\n",
            "Train Epoch: 4 [28160/60000 (47%)]\tLoss: 0.103449\n",
            "Train Epoch: 4 [28800/60000 (48%)]\tLoss: 0.128744\n",
            "Train Epoch: 4 [29440/60000 (49%)]\tLoss: 0.100656\n",
            "Train Epoch: 4 [30080/60000 (50%)]\tLoss: 0.018045\n",
            "Train Epoch: 4 [30720/60000 (51%)]\tLoss: 0.091937\n",
            "Train Epoch: 4 [31360/60000 (52%)]\tLoss: 0.113897\n",
            "Train Epoch: 4 [32000/60000 (53%)]\tLoss: 0.035718\n",
            "Train Epoch: 4 [32640/60000 (54%)]\tLoss: 0.108710\n",
            "Train Epoch: 4 [33280/60000 (55%)]\tLoss: 0.062445\n",
            "Train Epoch: 4 [33920/60000 (57%)]\tLoss: 0.046720\n",
            "Train Epoch: 4 [34560/60000 (58%)]\tLoss: 0.102303\n",
            "Train Epoch: 4 [35200/60000 (59%)]\tLoss: 0.046244\n",
            "Train Epoch: 4 [35840/60000 (60%)]\tLoss: 0.136095\n",
            "Train Epoch: 4 [36480/60000 (61%)]\tLoss: 0.040687\n",
            "Train Epoch: 4 [37120/60000 (62%)]\tLoss: 0.050171\n",
            "Train Epoch: 4 [37760/60000 (63%)]\tLoss: 0.140984\n",
            "Train Epoch: 4 [38400/60000 (64%)]\tLoss: 0.087226\n",
            "Train Epoch: 4 [39040/60000 (65%)]\tLoss: 0.097325\n",
            "Train Epoch: 4 [39680/60000 (66%)]\tLoss: 0.139788\n",
            "Train Epoch: 4 [40320/60000 (67%)]\tLoss: 0.136493\n",
            "Train Epoch: 4 [40960/60000 (68%)]\tLoss: 0.016179\n",
            "Train Epoch: 4 [41600/60000 (69%)]\tLoss: 0.033884\n",
            "Train Epoch: 4 [42240/60000 (70%)]\tLoss: 0.376362\n",
            "Train Epoch: 4 [42880/60000 (71%)]\tLoss: 0.115889\n",
            "Train Epoch: 4 [43520/60000 (72%)]\tLoss: 0.088208\n",
            "Train Epoch: 4 [44160/60000 (74%)]\tLoss: 0.095337\n",
            "Train Epoch: 4 [44800/60000 (75%)]\tLoss: 0.102778\n",
            "Train Epoch: 4 [45440/60000 (76%)]\tLoss: 0.075815\n",
            "Train Epoch: 4 [46080/60000 (77%)]\tLoss: 0.110356\n",
            "Train Epoch: 4 [46720/60000 (78%)]\tLoss: 0.064212\n",
            "Train Epoch: 4 [47360/60000 (79%)]\tLoss: 0.026303\n",
            "Train Epoch: 4 [48000/60000 (80%)]\tLoss: 0.207425\n",
            "Train Epoch: 4 [48640/60000 (81%)]\tLoss: 0.175018\n",
            "Train Epoch: 4 [49280/60000 (82%)]\tLoss: 0.074429\n",
            "Train Epoch: 4 [49920/60000 (83%)]\tLoss: 0.070064\n",
            "Train Epoch: 4 [50560/60000 (84%)]\tLoss: 0.051600\n",
            "Train Epoch: 4 [51200/60000 (85%)]\tLoss: 0.213642\n",
            "Train Epoch: 4 [51840/60000 (86%)]\tLoss: 0.089209\n",
            "Train Epoch: 4 [52480/60000 (87%)]\tLoss: 0.060028\n",
            "Train Epoch: 4 [53120/60000 (88%)]\tLoss: 0.209485\n",
            "Train Epoch: 4 [53760/60000 (90%)]\tLoss: 0.207455\n",
            "Train Epoch: 4 [54400/60000 (91%)]\tLoss: 0.136669\n",
            "Train Epoch: 4 [55040/60000 (92%)]\tLoss: 0.079682\n",
            "Train Epoch: 4 [55680/60000 (93%)]\tLoss: 0.074339\n",
            "Train Epoch: 4 [56320/60000 (94%)]\tLoss: 0.204184\n",
            "Train Epoch: 4 [56960/60000 (95%)]\tLoss: 0.022853\n",
            "Train Epoch: 4 [57600/60000 (96%)]\tLoss: 0.031260\n",
            "Train Epoch: 4 [58240/60000 (97%)]\tLoss: 0.092441\n",
            "Train Epoch: 4 [58880/60000 (98%)]\tLoss: 0.035896\n",
            "Train Epoch: 4 [59520/60000 (99%)]\tLoss: 0.046379\n",
            "\n",
            "Test set: Average loss: 0.0848, Accuracy: 9733/10000 (97%)\n",
            "\n",
            "Train Epoch: 5 [0/60000 (0%)]\tLoss: 0.142908\n",
            "Train Epoch: 5 [640/60000 (1%)]\tLoss: 0.042599\n",
            "Train Epoch: 5 [1280/60000 (2%)]\tLoss: 0.021846\n",
            "Train Epoch: 5 [1920/60000 (3%)]\tLoss: 0.156329\n",
            "Train Epoch: 5 [2560/60000 (4%)]\tLoss: 0.098627\n",
            "Train Epoch: 5 [3200/60000 (5%)]\tLoss: 0.124385\n",
            "Train Epoch: 5 [3840/60000 (6%)]\tLoss: 0.113111\n",
            "Train Epoch: 5 [4480/60000 (7%)]\tLoss: 0.106470\n",
            "Train Epoch: 5 [5120/60000 (9%)]\tLoss: 0.062189\n",
            "Train Epoch: 5 [5760/60000 (10%)]\tLoss: 0.081231\n",
            "Train Epoch: 5 [6400/60000 (11%)]\tLoss: 0.278867\n",
            "Train Epoch: 5 [7040/60000 (12%)]\tLoss: 0.101383\n",
            "Train Epoch: 5 [7680/60000 (13%)]\tLoss: 0.029324\n",
            "Train Epoch: 5 [8320/60000 (14%)]\tLoss: 0.206682\n",
            "Train Epoch: 5 [8960/60000 (15%)]\tLoss: 0.033444\n",
            "Train Epoch: 5 [9600/60000 (16%)]\tLoss: 0.090031\n",
            "Train Epoch: 5 [10240/60000 (17%)]\tLoss: 0.015831\n",
            "Train Epoch: 5 [10880/60000 (18%)]\tLoss: 0.050284\n",
            "Train Epoch: 5 [11520/60000 (19%)]\tLoss: 0.070783\n",
            "Train Epoch: 5 [12160/60000 (20%)]\tLoss: 0.106393\n",
            "Train Epoch: 5 [12800/60000 (21%)]\tLoss: 0.071437\n",
            "Train Epoch: 5 [13440/60000 (22%)]\tLoss: 0.149155\n",
            "Train Epoch: 5 [14080/60000 (23%)]\tLoss: 0.020889\n",
            "Train Epoch: 5 [14720/60000 (25%)]\tLoss: 0.023237\n",
            "Train Epoch: 5 [15360/60000 (26%)]\tLoss: 0.057012\n",
            "Train Epoch: 5 [16000/60000 (27%)]\tLoss: 0.053208\n",
            "Train Epoch: 5 [16640/60000 (28%)]\tLoss: 0.041010\n",
            "Train Epoch: 5 [17280/60000 (29%)]\tLoss: 0.040565\n",
            "Train Epoch: 5 [17920/60000 (30%)]\tLoss: 0.039568\n",
            "Train Epoch: 5 [18560/60000 (31%)]\tLoss: 0.065866\n",
            "Train Epoch: 5 [19200/60000 (32%)]\tLoss: 0.073325\n",
            "Train Epoch: 5 [19840/60000 (33%)]\tLoss: 0.053294\n",
            "Train Epoch: 5 [20480/60000 (34%)]\tLoss: 0.092849\n",
            "Train Epoch: 5 [21120/60000 (35%)]\tLoss: 0.209344\n",
            "Train Epoch: 5 [21760/60000 (36%)]\tLoss: 0.095956\n",
            "Train Epoch: 5 [22400/60000 (37%)]\tLoss: 0.140005\n",
            "Train Epoch: 5 [23040/60000 (38%)]\tLoss: 0.118912\n",
            "Train Epoch: 5 [23680/60000 (39%)]\tLoss: 0.017808\n",
            "Train Epoch: 5 [24320/60000 (41%)]\tLoss: 0.080394\n",
            "Train Epoch: 5 [24960/60000 (42%)]\tLoss: 0.078870\n",
            "Train Epoch: 5 [25600/60000 (43%)]\tLoss: 0.091033\n",
            "Train Epoch: 5 [26240/60000 (44%)]\tLoss: 0.033629\n",
            "Train Epoch: 5 [26880/60000 (45%)]\tLoss: 0.026156\n",
            "Train Epoch: 5 [27520/60000 (46%)]\tLoss: 0.119663\n",
            "Train Epoch: 5 [28160/60000 (47%)]\tLoss: 0.064650\n",
            "Train Epoch: 5 [28800/60000 (48%)]\tLoss: 0.196662\n",
            "Train Epoch: 5 [29440/60000 (49%)]\tLoss: 0.175980\n",
            "Train Epoch: 5 [30080/60000 (50%)]\tLoss: 0.207752\n",
            "Train Epoch: 5 [30720/60000 (51%)]\tLoss: 0.132085\n",
            "Train Epoch: 5 [31360/60000 (52%)]\tLoss: 0.137000\n",
            "Train Epoch: 5 [32000/60000 (53%)]\tLoss: 0.016246\n",
            "Train Epoch: 5 [32640/60000 (54%)]\tLoss: 0.084918\n",
            "Train Epoch: 5 [33280/60000 (55%)]\tLoss: 0.053254\n",
            "Train Epoch: 5 [33920/60000 (57%)]\tLoss: 0.109442\n",
            "Train Epoch: 5 [34560/60000 (58%)]\tLoss: 0.094773\n",
            "Train Epoch: 5 [35200/60000 (59%)]\tLoss: 0.169293\n",
            "Train Epoch: 5 [35840/60000 (60%)]\tLoss: 0.081905\n",
            "Train Epoch: 5 [36480/60000 (61%)]\tLoss: 0.159844\n",
            "Train Epoch: 5 [37120/60000 (62%)]\tLoss: 0.068052\n",
            "Train Epoch: 5 [37760/60000 (63%)]\tLoss: 0.011265\n",
            "Train Epoch: 5 [38400/60000 (64%)]\tLoss: 0.062358\n",
            "Train Epoch: 5 [39040/60000 (65%)]\tLoss: 0.085107\n",
            "Train Epoch: 5 [39680/60000 (66%)]\tLoss: 0.144456\n",
            "Train Epoch: 5 [40320/60000 (67%)]\tLoss: 0.017849\n",
            "Train Epoch: 5 [40960/60000 (68%)]\tLoss: 0.084205\n",
            "Train Epoch: 5 [41600/60000 (69%)]\tLoss: 0.014043\n",
            "Train Epoch: 5 [42240/60000 (70%)]\tLoss: 0.049282\n",
            "Train Epoch: 5 [42880/60000 (71%)]\tLoss: 0.057640\n",
            "Train Epoch: 5 [43520/60000 (72%)]\tLoss: 0.122245\n",
            "Train Epoch: 5 [44160/60000 (74%)]\tLoss: 0.214348\n",
            "Train Epoch: 5 [44800/60000 (75%)]\tLoss: 0.056699\n",
            "Train Epoch: 5 [45440/60000 (76%)]\tLoss: 0.164150\n",
            "Train Epoch: 5 [46080/60000 (77%)]\tLoss: 0.059653\n",
            "Train Epoch: 5 [46720/60000 (78%)]\tLoss: 0.116666\n",
            "Train Epoch: 5 [47360/60000 (79%)]\tLoss: 0.114179\n",
            "Train Epoch: 5 [48000/60000 (80%)]\tLoss: 0.106592\n",
            "Train Epoch: 5 [48640/60000 (81%)]\tLoss: 0.071296\n",
            "Train Epoch: 5 [49280/60000 (82%)]\tLoss: 0.081750\n",
            "Train Epoch: 5 [49920/60000 (83%)]\tLoss: 0.042631\n",
            "Train Epoch: 5 [50560/60000 (84%)]\tLoss: 0.037262\n",
            "Train Epoch: 5 [51200/60000 (85%)]\tLoss: 0.049774\n",
            "Train Epoch: 5 [51840/60000 (86%)]\tLoss: 0.030694\n",
            "Train Epoch: 5 [52480/60000 (87%)]\tLoss: 0.021194\n",
            "Train Epoch: 5 [53120/60000 (88%)]\tLoss: 0.152023\n",
            "Train Epoch: 5 [53760/60000 (90%)]\tLoss: 0.032446\n",
            "Train Epoch: 5 [54400/60000 (91%)]\tLoss: 0.054004\n",
            "Train Epoch: 5 [55040/60000 (92%)]\tLoss: 0.143291\n",
            "Train Epoch: 5 [55680/60000 (93%)]\tLoss: 0.033178\n",
            "Train Epoch: 5 [56320/60000 (94%)]\tLoss: 0.084006\n",
            "Train Epoch: 5 [56960/60000 (95%)]\tLoss: 0.197744\n",
            "Train Epoch: 5 [57600/60000 (96%)]\tLoss: 0.120134\n",
            "Train Epoch: 5 [58240/60000 (97%)]\tLoss: 0.165462\n",
            "Train Epoch: 5 [58880/60000 (98%)]\tLoss: 0.115116\n",
            "Train Epoch: 5 [59520/60000 (99%)]\tLoss: 0.062650\n",
            "\n",
            "Test set: Average loss: 0.0736, Accuracy: 9781/10000 (98%)\n",
            "\n",
            "Train Epoch: 6 [0/60000 (0%)]\tLoss: 0.008718\n",
            "Train Epoch: 6 [640/60000 (1%)]\tLoss: 0.057303\n",
            "Train Epoch: 6 [1280/60000 (2%)]\tLoss: 0.061969\n",
            "Train Epoch: 6 [1920/60000 (3%)]\tLoss: 0.025291\n",
            "Train Epoch: 6 [2560/60000 (4%)]\tLoss: 0.029646\n",
            "Train Epoch: 6 [3200/60000 (5%)]\tLoss: 0.122976\n",
            "Train Epoch: 6 [3840/60000 (6%)]\tLoss: 0.058141\n",
            "Train Epoch: 6 [4480/60000 (7%)]\tLoss: 0.070638\n",
            "Train Epoch: 6 [5120/60000 (9%)]\tLoss: 0.029778\n",
            "Train Epoch: 6 [5760/60000 (10%)]\tLoss: 0.037523\n",
            "Train Epoch: 6 [6400/60000 (11%)]\tLoss: 0.068734\n",
            "Train Epoch: 6 [7040/60000 (12%)]\tLoss: 0.044177\n",
            "Train Epoch: 6 [7680/60000 (13%)]\tLoss: 0.110053\n",
            "Train Epoch: 6 [8320/60000 (14%)]\tLoss: 0.105979\n",
            "Train Epoch: 6 [8960/60000 (15%)]\tLoss: 0.056749\n",
            "Train Epoch: 6 [9600/60000 (16%)]\tLoss: 0.042641\n",
            "Train Epoch: 6 [10240/60000 (17%)]\tLoss: 0.022762\n",
            "Train Epoch: 6 [10880/60000 (18%)]\tLoss: 0.023308\n",
            "Train Epoch: 6 [11520/60000 (19%)]\tLoss: 0.128611\n",
            "Train Epoch: 6 [12160/60000 (20%)]\tLoss: 0.028049\n",
            "Train Epoch: 6 [12800/60000 (21%)]\tLoss: 0.071296\n",
            "Train Epoch: 6 [13440/60000 (22%)]\tLoss: 0.055174\n",
            "Train Epoch: 6 [14080/60000 (23%)]\tLoss: 0.159949\n",
            "Train Epoch: 6 [14720/60000 (25%)]\tLoss: 0.045196\n",
            "Train Epoch: 6 [15360/60000 (26%)]\tLoss: 0.044528\n",
            "Train Epoch: 6 [16000/60000 (27%)]\tLoss: 0.032339\n",
            "Train Epoch: 6 [16640/60000 (28%)]\tLoss: 0.164148\n",
            "Train Epoch: 6 [17280/60000 (29%)]\tLoss: 0.109787\n",
            "Train Epoch: 6 [17920/60000 (30%)]\tLoss: 0.024148\n",
            "Train Epoch: 6 [18560/60000 (31%)]\tLoss: 0.131544\n",
            "Train Epoch: 6 [19200/60000 (32%)]\tLoss: 0.176994\n",
            "Train Epoch: 6 [19840/60000 (33%)]\tLoss: 0.029637\n",
            "Train Epoch: 6 [20480/60000 (34%)]\tLoss: 0.050131\n",
            "Train Epoch: 6 [21120/60000 (35%)]\tLoss: 0.056632\n",
            "Train Epoch: 6 [21760/60000 (36%)]\tLoss: 0.018863\n",
            "Train Epoch: 6 [22400/60000 (37%)]\tLoss: 0.083041\n",
            "Train Epoch: 6 [23040/60000 (38%)]\tLoss: 0.036832\n",
            "Train Epoch: 6 [23680/60000 (39%)]\tLoss: 0.055308\n",
            "Train Epoch: 6 [24320/60000 (41%)]\tLoss: 0.082922\n",
            "Train Epoch: 6 [24960/60000 (42%)]\tLoss: 0.050604\n",
            "Train Epoch: 6 [25600/60000 (43%)]\tLoss: 0.291061\n",
            "Train Epoch: 6 [26240/60000 (44%)]\tLoss: 0.031204\n",
            "Train Epoch: 6 [26880/60000 (45%)]\tLoss: 0.110191\n",
            "Train Epoch: 6 [27520/60000 (46%)]\tLoss: 0.030055\n",
            "Train Epoch: 6 [28160/60000 (47%)]\tLoss: 0.037800\n",
            "Train Epoch: 6 [28800/60000 (48%)]\tLoss: 0.033322\n",
            "Train Epoch: 6 [29440/60000 (49%)]\tLoss: 0.182885\n",
            "Train Epoch: 6 [30080/60000 (50%)]\tLoss: 0.050483\n",
            "Train Epoch: 6 [30720/60000 (51%)]\tLoss: 0.059053\n",
            "Train Epoch: 6 [31360/60000 (52%)]\tLoss: 0.049448\n",
            "Train Epoch: 6 [32000/60000 (53%)]\tLoss: 0.130973\n",
            "Train Epoch: 6 [32640/60000 (54%)]\tLoss: 0.047181\n",
            "Train Epoch: 6 [33280/60000 (55%)]\tLoss: 0.056502\n",
            "Train Epoch: 6 [33920/60000 (57%)]\tLoss: 0.044866\n",
            "Train Epoch: 6 [34560/60000 (58%)]\tLoss: 0.099093\n",
            "Train Epoch: 6 [35200/60000 (59%)]\tLoss: 0.098822\n",
            "Train Epoch: 6 [35840/60000 (60%)]\tLoss: 0.035418\n",
            "Train Epoch: 6 [36480/60000 (61%)]\tLoss: 0.028571\n",
            "Train Epoch: 6 [37120/60000 (62%)]\tLoss: 0.096092\n",
            "Train Epoch: 6 [37760/60000 (63%)]\tLoss: 0.212995\n",
            "Train Epoch: 6 [38400/60000 (64%)]\tLoss: 0.069873\n",
            "Train Epoch: 6 [39040/60000 (65%)]\tLoss: 0.059435\n",
            "Train Epoch: 6 [39680/60000 (66%)]\tLoss: 0.093961\n",
            "Train Epoch: 6 [40320/60000 (67%)]\tLoss: 0.025470\n",
            "Train Epoch: 6 [40960/60000 (68%)]\tLoss: 0.105814\n",
            "Train Epoch: 6 [41600/60000 (69%)]\tLoss: 0.045585\n",
            "Train Epoch: 6 [42240/60000 (70%)]\tLoss: 0.070530\n",
            "Train Epoch: 6 [42880/60000 (71%)]\tLoss: 0.049272\n",
            "Train Epoch: 6 [43520/60000 (72%)]\tLoss: 0.018651\n",
            "Train Epoch: 6 [44160/60000 (74%)]\tLoss: 0.115405\n",
            "Train Epoch: 6 [44800/60000 (75%)]\tLoss: 0.120217\n",
            "Train Epoch: 6 [45440/60000 (76%)]\tLoss: 0.042395\n",
            "Train Epoch: 6 [46080/60000 (77%)]\tLoss: 0.050082\n",
            "Train Epoch: 6 [46720/60000 (78%)]\tLoss: 0.029750\n",
            "Train Epoch: 6 [47360/60000 (79%)]\tLoss: 0.080436\n",
            "Train Epoch: 6 [48000/60000 (80%)]\tLoss: 0.070132\n",
            "Train Epoch: 6 [48640/60000 (81%)]\tLoss: 0.014790\n",
            "Train Epoch: 6 [49280/60000 (82%)]\tLoss: 0.054561\n",
            "Train Epoch: 6 [49920/60000 (83%)]\tLoss: 0.100629\n",
            "Train Epoch: 6 [50560/60000 (84%)]\tLoss: 0.065215\n",
            "Train Epoch: 6 [51200/60000 (85%)]\tLoss: 0.010388\n",
            "Train Epoch: 6 [51840/60000 (86%)]\tLoss: 0.055727\n",
            "Train Epoch: 6 [52480/60000 (87%)]\tLoss: 0.021320\n",
            "Train Epoch: 6 [53120/60000 (88%)]\tLoss: 0.085586\n",
            "Train Epoch: 6 [53760/60000 (90%)]\tLoss: 0.050005\n",
            "Train Epoch: 6 [54400/60000 (91%)]\tLoss: 0.116438\n",
            "Train Epoch: 6 [55040/60000 (92%)]\tLoss: 0.081446\n",
            "Train Epoch: 6 [55680/60000 (93%)]\tLoss: 0.102302\n",
            "Train Epoch: 6 [56320/60000 (94%)]\tLoss: 0.041469\n",
            "Train Epoch: 6 [56960/60000 (95%)]\tLoss: 0.055823\n",
            "Train Epoch: 6 [57600/60000 (96%)]\tLoss: 0.034828\n",
            "Train Epoch: 6 [58240/60000 (97%)]\tLoss: 0.069517\n",
            "Train Epoch: 6 [58880/60000 (98%)]\tLoss: 0.121551\n",
            "Train Epoch: 6 [59520/60000 (99%)]\tLoss: 0.165930\n",
            "\n",
            "Test set: Average loss: 0.0628, Accuracy: 9801/10000 (98%)\n",
            "\n",
            "Train Epoch: 7 [0/60000 (0%)]\tLoss: 0.087295\n",
            "Train Epoch: 7 [640/60000 (1%)]\tLoss: 0.094826\n",
            "Train Epoch: 7 [1280/60000 (2%)]\tLoss: 0.255690\n",
            "Train Epoch: 7 [1920/60000 (3%)]\tLoss: 0.026215\n",
            "Train Epoch: 7 [2560/60000 (4%)]\tLoss: 0.012925\n",
            "Train Epoch: 7 [3200/60000 (5%)]\tLoss: 0.171594\n",
            "Train Epoch: 7 [3840/60000 (6%)]\tLoss: 0.166477\n",
            "Train Epoch: 7 [4480/60000 (7%)]\tLoss: 0.021704\n",
            "Train Epoch: 7 [5120/60000 (9%)]\tLoss: 0.034220\n",
            "Train Epoch: 7 [5760/60000 (10%)]\tLoss: 0.104643\n",
            "Train Epoch: 7 [6400/60000 (11%)]\tLoss: 0.057638\n",
            "Train Epoch: 7 [7040/60000 (12%)]\tLoss: 0.016654\n",
            "Train Epoch: 7 [7680/60000 (13%)]\tLoss: 0.050024\n",
            "Train Epoch: 7 [8320/60000 (14%)]\tLoss: 0.054301\n",
            "Train Epoch: 7 [8960/60000 (15%)]\tLoss: 0.069126\n",
            "Train Epoch: 7 [9600/60000 (16%)]\tLoss: 0.073252\n",
            "Train Epoch: 7 [10240/60000 (17%)]\tLoss: 0.033142\n",
            "Train Epoch: 7 [10880/60000 (18%)]\tLoss: 0.038502\n",
            "Train Epoch: 7 [11520/60000 (19%)]\tLoss: 0.026645\n",
            "Train Epoch: 7 [12160/60000 (20%)]\tLoss: 0.052171\n",
            "Train Epoch: 7 [12800/60000 (21%)]\tLoss: 0.032000\n",
            "Train Epoch: 7 [13440/60000 (22%)]\tLoss: 0.080877\n",
            "Train Epoch: 7 [14080/60000 (23%)]\tLoss: 0.017235\n",
            "Train Epoch: 7 [14720/60000 (25%)]\tLoss: 0.080741\n",
            "Train Epoch: 7 [15360/60000 (26%)]\tLoss: 0.049885\n",
            "Train Epoch: 7 [16000/60000 (27%)]\tLoss: 0.135253\n",
            "Train Epoch: 7 [16640/60000 (28%)]\tLoss: 0.266553\n",
            "Train Epoch: 7 [17280/60000 (29%)]\tLoss: 0.013211\n",
            "Train Epoch: 7 [17920/60000 (30%)]\tLoss: 0.018869\n",
            "Train Epoch: 7 [18560/60000 (31%)]\tLoss: 0.094202\n",
            "Train Epoch: 7 [19200/60000 (32%)]\tLoss: 0.082385\n",
            "Train Epoch: 7 [19840/60000 (33%)]\tLoss: 0.031780\n",
            "Train Epoch: 7 [20480/60000 (34%)]\tLoss: 0.058972\n",
            "Train Epoch: 7 [21120/60000 (35%)]\tLoss: 0.075422\n",
            "Train Epoch: 7 [21760/60000 (36%)]\tLoss: 0.062928\n",
            "Train Epoch: 7 [22400/60000 (37%)]\tLoss: 0.065876\n",
            "Train Epoch: 7 [23040/60000 (38%)]\tLoss: 0.036315\n",
            "Train Epoch: 7 [23680/60000 (39%)]\tLoss: 0.121280\n",
            "Train Epoch: 7 [24320/60000 (41%)]\tLoss: 0.023430\n",
            "Train Epoch: 7 [24960/60000 (42%)]\tLoss: 0.017001\n",
            "Train Epoch: 7 [25600/60000 (43%)]\tLoss: 0.026787\n",
            "Train Epoch: 7 [26240/60000 (44%)]\tLoss: 0.036444\n",
            "Train Epoch: 7 [26880/60000 (45%)]\tLoss: 0.060989\n",
            "Train Epoch: 7 [27520/60000 (46%)]\tLoss: 0.064794\n",
            "Train Epoch: 7 [28160/60000 (47%)]\tLoss: 0.100286\n",
            "Train Epoch: 7 [28800/60000 (48%)]\tLoss: 0.066925\n",
            "Train Epoch: 7 [29440/60000 (49%)]\tLoss: 0.034773\n",
            "Train Epoch: 7 [30080/60000 (50%)]\tLoss: 0.194185\n",
            "Train Epoch: 7 [30720/60000 (51%)]\tLoss: 0.010417\n",
            "Train Epoch: 7 [31360/60000 (52%)]\tLoss: 0.043938\n",
            "Train Epoch: 7 [32000/60000 (53%)]\tLoss: 0.119767\n",
            "Train Epoch: 7 [32640/60000 (54%)]\tLoss: 0.096852\n",
            "Train Epoch: 7 [33280/60000 (55%)]\tLoss: 0.034274\n",
            "Train Epoch: 7 [33920/60000 (57%)]\tLoss: 0.027228\n",
            "Train Epoch: 7 [34560/60000 (58%)]\tLoss: 0.058516\n",
            "Train Epoch: 7 [35200/60000 (59%)]\tLoss: 0.036983\n",
            "Train Epoch: 7 [35840/60000 (60%)]\tLoss: 0.028086\n",
            "Train Epoch: 7 [36480/60000 (61%)]\tLoss: 0.050482\n",
            "Train Epoch: 7 [37120/60000 (62%)]\tLoss: 0.151522\n",
            "Train Epoch: 7 [37760/60000 (63%)]\tLoss: 0.035690\n",
            "Train Epoch: 7 [38400/60000 (64%)]\tLoss: 0.026388\n",
            "Train Epoch: 7 [39040/60000 (65%)]\tLoss: 0.034667\n",
            "Train Epoch: 7 [39680/60000 (66%)]\tLoss: 0.032654\n",
            "Train Epoch: 7 [40320/60000 (67%)]\tLoss: 0.036481\n",
            "Train Epoch: 7 [40960/60000 (68%)]\tLoss: 0.027869\n",
            "Train Epoch: 7 [41600/60000 (69%)]\tLoss: 0.118876\n",
            "Train Epoch: 7 [42240/60000 (70%)]\tLoss: 0.107858\n",
            "Train Epoch: 7 [42880/60000 (71%)]\tLoss: 0.028597\n",
            "Train Epoch: 7 [43520/60000 (72%)]\tLoss: 0.135187\n",
            "Train Epoch: 7 [44160/60000 (74%)]\tLoss: 0.025305\n",
            "Train Epoch: 7 [44800/60000 (75%)]\tLoss: 0.137149\n",
            "Train Epoch: 7 [45440/60000 (76%)]\tLoss: 0.042093\n",
            "Train Epoch: 7 [46080/60000 (77%)]\tLoss: 0.054694\n",
            "Train Epoch: 7 [46720/60000 (78%)]\tLoss: 0.053567\n",
            "Train Epoch: 7 [47360/60000 (79%)]\tLoss: 0.022690\n",
            "Train Epoch: 7 [48000/60000 (80%)]\tLoss: 0.078900\n",
            "Train Epoch: 7 [48640/60000 (81%)]\tLoss: 0.095038\n",
            "Train Epoch: 7 [49280/60000 (82%)]\tLoss: 0.016434\n",
            "Train Epoch: 7 [49920/60000 (83%)]\tLoss: 0.115640\n",
            "Train Epoch: 7 [50560/60000 (84%)]\tLoss: 0.123462\n",
            "Train Epoch: 7 [51200/60000 (85%)]\tLoss: 0.093181\n",
            "Train Epoch: 7 [51840/60000 (86%)]\tLoss: 0.040616\n",
            "Train Epoch: 7 [52480/60000 (87%)]\tLoss: 0.036655\n",
            "Train Epoch: 7 [53120/60000 (88%)]\tLoss: 0.100396\n",
            "Train Epoch: 7 [53760/60000 (90%)]\tLoss: 0.012508\n",
            "Train Epoch: 7 [54400/60000 (91%)]\tLoss: 0.061342\n",
            "Train Epoch: 7 [55040/60000 (92%)]\tLoss: 0.097533\n",
            "Train Epoch: 7 [55680/60000 (93%)]\tLoss: 0.090349\n",
            "Train Epoch: 7 [56320/60000 (94%)]\tLoss: 0.033177\n",
            "Train Epoch: 7 [56960/60000 (95%)]\tLoss: 0.046334\n",
            "Train Epoch: 7 [57600/60000 (96%)]\tLoss: 0.080872\n",
            "Train Epoch: 7 [58240/60000 (97%)]\tLoss: 0.208647\n",
            "Train Epoch: 7 [58880/60000 (98%)]\tLoss: 0.091071\n",
            "Train Epoch: 7 [59520/60000 (99%)]\tLoss: 0.075420\n",
            "\n",
            "Test set: Average loss: 0.0695, Accuracy: 9771/10000 (98%)\n",
            "\n",
            "Train Epoch: 8 [0/60000 (0%)]\tLoss: 0.018913\n",
            "Train Epoch: 8 [640/60000 (1%)]\tLoss: 0.068610\n",
            "Train Epoch: 8 [1280/60000 (2%)]\tLoss: 0.069969\n",
            "Train Epoch: 8 [1920/60000 (3%)]\tLoss: 0.120444\n",
            "Train Epoch: 8 [2560/60000 (4%)]\tLoss: 0.026333\n",
            "Train Epoch: 8 [3200/60000 (5%)]\tLoss: 0.130576\n",
            "Train Epoch: 8 [3840/60000 (6%)]\tLoss: 0.049688\n",
            "Train Epoch: 8 [4480/60000 (7%)]\tLoss: 0.060558\n",
            "Train Epoch: 8 [5120/60000 (9%)]\tLoss: 0.102404\n",
            "Train Epoch: 8 [5760/60000 (10%)]\tLoss: 0.098608\n",
            "Train Epoch: 8 [6400/60000 (11%)]\tLoss: 0.047928\n",
            "Train Epoch: 8 [7040/60000 (12%)]\tLoss: 0.121657\n",
            "Train Epoch: 8 [7680/60000 (13%)]\tLoss: 0.015373\n",
            "Train Epoch: 8 [8320/60000 (14%)]\tLoss: 0.163497\n",
            "Train Epoch: 8 [8960/60000 (15%)]\tLoss: 0.069652\n",
            "Train Epoch: 8 [9600/60000 (16%)]\tLoss: 0.047733\n",
            "Train Epoch: 8 [10240/60000 (17%)]\tLoss: 0.044543\n",
            "Train Epoch: 8 [10880/60000 (18%)]\tLoss: 0.022499\n",
            "Train Epoch: 8 [11520/60000 (19%)]\tLoss: 0.051926\n",
            "Train Epoch: 8 [12160/60000 (20%)]\tLoss: 0.300355\n",
            "Train Epoch: 8 [12800/60000 (21%)]\tLoss: 0.053058\n",
            "Train Epoch: 8 [13440/60000 (22%)]\tLoss: 0.107002\n",
            "Train Epoch: 8 [14080/60000 (23%)]\tLoss: 0.107672\n",
            "Train Epoch: 8 [14720/60000 (25%)]\tLoss: 0.133562\n",
            "Train Epoch: 8 [15360/60000 (26%)]\tLoss: 0.040042\n",
            "Train Epoch: 8 [16000/60000 (27%)]\tLoss: 0.081180\n",
            "Train Epoch: 8 [16640/60000 (28%)]\tLoss: 0.048616\n",
            "Train Epoch: 8 [17280/60000 (29%)]\tLoss: 0.019081\n",
            "Train Epoch: 8 [17920/60000 (30%)]\tLoss: 0.034390\n",
            "Train Epoch: 8 [18560/60000 (31%)]\tLoss: 0.033583\n",
            "Train Epoch: 8 [19200/60000 (32%)]\tLoss: 0.024755\n",
            "Train Epoch: 8 [19840/60000 (33%)]\tLoss: 0.029656\n",
            "Train Epoch: 8 [20480/60000 (34%)]\tLoss: 0.098061\n",
            "Train Epoch: 8 [21120/60000 (35%)]\tLoss: 0.064213\n",
            "Train Epoch: 8 [21760/60000 (36%)]\tLoss: 0.032348\n",
            "Train Epoch: 8 [22400/60000 (37%)]\tLoss: 0.022737\n",
            "Train Epoch: 8 [23040/60000 (38%)]\tLoss: 0.012954\n",
            "Train Epoch: 8 [23680/60000 (39%)]\tLoss: 0.022264\n",
            "Train Epoch: 8 [24320/60000 (41%)]\tLoss: 0.021430\n",
            "Train Epoch: 8 [24960/60000 (42%)]\tLoss: 0.050645\n",
            "Train Epoch: 8 [25600/60000 (43%)]\tLoss: 0.030557\n",
            "Train Epoch: 8 [26240/60000 (44%)]\tLoss: 0.006586\n",
            "Train Epoch: 8 [26880/60000 (45%)]\tLoss: 0.063185\n",
            "Train Epoch: 8 [27520/60000 (46%)]\tLoss: 0.036986\n",
            "Train Epoch: 8 [28160/60000 (47%)]\tLoss: 0.108580\n",
            "Train Epoch: 8 [28800/60000 (48%)]\tLoss: 0.028581\n",
            "Train Epoch: 8 [29440/60000 (49%)]\tLoss: 0.080168\n",
            "Train Epoch: 8 [30080/60000 (50%)]\tLoss: 0.098311\n",
            "Train Epoch: 8 [30720/60000 (51%)]\tLoss: 0.034590\n",
            "Train Epoch: 8 [31360/60000 (52%)]\tLoss: 0.034991\n",
            "Train Epoch: 8 [32000/60000 (53%)]\tLoss: 0.096389\n",
            "Train Epoch: 8 [32640/60000 (54%)]\tLoss: 0.050675\n",
            "Train Epoch: 8 [33280/60000 (55%)]\tLoss: 0.036206\n",
            "Train Epoch: 8 [33920/60000 (57%)]\tLoss: 0.003082\n",
            "Train Epoch: 8 [34560/60000 (58%)]\tLoss: 0.038033\n",
            "Train Epoch: 8 [35200/60000 (59%)]\tLoss: 0.138927\n",
            "Train Epoch: 8 [35840/60000 (60%)]\tLoss: 0.071722\n",
            "Train Epoch: 8 [36480/60000 (61%)]\tLoss: 0.029298\n",
            "Train Epoch: 8 [37120/60000 (62%)]\tLoss: 0.061052\n",
            "Train Epoch: 8 [37760/60000 (63%)]\tLoss: 0.030173\n",
            "Train Epoch: 8 [38400/60000 (64%)]\tLoss: 0.013680\n",
            "Train Epoch: 8 [39040/60000 (65%)]\tLoss: 0.041961\n",
            "Train Epoch: 8 [39680/60000 (66%)]\tLoss: 0.092608\n",
            "Train Epoch: 8 [40320/60000 (67%)]\tLoss: 0.035365\n",
            "Train Epoch: 8 [40960/60000 (68%)]\tLoss: 0.025891\n",
            "Train Epoch: 8 [41600/60000 (69%)]\tLoss: 0.016855\n",
            "Train Epoch: 8 [42240/60000 (70%)]\tLoss: 0.034119\n",
            "Train Epoch: 8 [42880/60000 (71%)]\tLoss: 0.122436\n",
            "Train Epoch: 8 [43520/60000 (72%)]\tLoss: 0.021077\n",
            "Train Epoch: 8 [44160/60000 (74%)]\tLoss: 0.025824\n",
            "Train Epoch: 8 [44800/60000 (75%)]\tLoss: 0.023188\n",
            "Train Epoch: 8 [45440/60000 (76%)]\tLoss: 0.032643\n",
            "Train Epoch: 8 [46080/60000 (77%)]\tLoss: 0.014730\n",
            "Train Epoch: 8 [46720/60000 (78%)]\tLoss: 0.053428\n",
            "Train Epoch: 8 [47360/60000 (79%)]\tLoss: 0.014871\n",
            "Train Epoch: 8 [48000/60000 (80%)]\tLoss: 0.035404\n",
            "Train Epoch: 8 [48640/60000 (81%)]\tLoss: 0.014874\n",
            "Train Epoch: 8 [49280/60000 (82%)]\tLoss: 0.034518\n",
            "Train Epoch: 8 [49920/60000 (83%)]\tLoss: 0.013815\n",
            "Train Epoch: 8 [50560/60000 (84%)]\tLoss: 0.077663\n",
            "Train Epoch: 8 [51200/60000 (85%)]\tLoss: 0.046242\n",
            "Train Epoch: 8 [51840/60000 (86%)]\tLoss: 0.048329\n",
            "Train Epoch: 8 [52480/60000 (87%)]\tLoss: 0.057460\n",
            "Train Epoch: 8 [53120/60000 (88%)]\tLoss: 0.067061\n",
            "Train Epoch: 8 [53760/60000 (90%)]\tLoss: 0.040669\n",
            "Train Epoch: 8 [54400/60000 (91%)]\tLoss: 0.099371\n",
            "Train Epoch: 8 [55040/60000 (92%)]\tLoss: 0.039547\n",
            "Train Epoch: 8 [55680/60000 (93%)]\tLoss: 0.106096\n",
            "Train Epoch: 8 [56320/60000 (94%)]\tLoss: 0.019881\n",
            "Train Epoch: 8 [56960/60000 (95%)]\tLoss: 0.070306\n",
            "Train Epoch: 8 [57600/60000 (96%)]\tLoss: 0.048428\n",
            "Train Epoch: 8 [58240/60000 (97%)]\tLoss: 0.084325\n",
            "Train Epoch: 8 [58880/60000 (98%)]\tLoss: 0.028345\n",
            "Train Epoch: 8 [59520/60000 (99%)]\tLoss: 0.032636\n",
            "\n",
            "Test set: Average loss: 0.0601, Accuracy: 9811/10000 (98%)\n",
            "\n",
            "Train Epoch: 9 [0/60000 (0%)]\tLoss: 0.104150\n",
            "Train Epoch: 9 [640/60000 (1%)]\tLoss: 0.018952\n",
            "Train Epoch: 9 [1280/60000 (2%)]\tLoss: 0.048283\n",
            "Train Epoch: 9 [1920/60000 (3%)]\tLoss: 0.032619\n",
            "Train Epoch: 9 [2560/60000 (4%)]\tLoss: 0.013782\n",
            "Train Epoch: 9 [3200/60000 (5%)]\tLoss: 0.042770\n",
            "Train Epoch: 9 [3840/60000 (6%)]\tLoss: 0.042477\n",
            "Train Epoch: 9 [4480/60000 (7%)]\tLoss: 0.026397\n",
            "Train Epoch: 9 [5120/60000 (9%)]\tLoss: 0.015210\n",
            "Train Epoch: 9 [5760/60000 (10%)]\tLoss: 0.123172\n",
            "Train Epoch: 9 [6400/60000 (11%)]\tLoss: 0.140739\n",
            "Train Epoch: 9 [7040/60000 (12%)]\tLoss: 0.028440\n",
            "Train Epoch: 9 [7680/60000 (13%)]\tLoss: 0.083448\n",
            "Train Epoch: 9 [8320/60000 (14%)]\tLoss: 0.060091\n",
            "Train Epoch: 9 [8960/60000 (15%)]\tLoss: 0.053045\n",
            "Train Epoch: 9 [9600/60000 (16%)]\tLoss: 0.086726\n",
            "Train Epoch: 9 [10240/60000 (17%)]\tLoss: 0.051040\n",
            "Train Epoch: 9 [10880/60000 (18%)]\tLoss: 0.043382\n",
            "Train Epoch: 9 [11520/60000 (19%)]\tLoss: 0.019457\n",
            "Train Epoch: 9 [12160/60000 (20%)]\tLoss: 0.191461\n",
            "Train Epoch: 9 [12800/60000 (21%)]\tLoss: 0.029178\n",
            "Train Epoch: 9 [13440/60000 (22%)]\tLoss: 0.069380\n",
            "Train Epoch: 9 [14080/60000 (23%)]\tLoss: 0.058398\n",
            "Train Epoch: 9 [14720/60000 (25%)]\tLoss: 0.021446\n",
            "Train Epoch: 9 [15360/60000 (26%)]\tLoss: 0.147355\n",
            "Train Epoch: 9 [16000/60000 (27%)]\tLoss: 0.026448\n",
            "Train Epoch: 9 [16640/60000 (28%)]\tLoss: 0.146443\n",
            "Train Epoch: 9 [17280/60000 (29%)]\tLoss: 0.025464\n",
            "Train Epoch: 9 [17920/60000 (30%)]\tLoss: 0.022403\n",
            "Train Epoch: 9 [18560/60000 (31%)]\tLoss: 0.079687\n",
            "Train Epoch: 9 [19200/60000 (32%)]\tLoss: 0.017150\n",
            "Train Epoch: 9 [19840/60000 (33%)]\tLoss: 0.018950\n",
            "Train Epoch: 9 [20480/60000 (34%)]\tLoss: 0.021772\n",
            "Train Epoch: 9 [21120/60000 (35%)]\tLoss: 0.129326\n",
            "Train Epoch: 9 [21760/60000 (36%)]\tLoss: 0.038898\n",
            "Train Epoch: 9 [22400/60000 (37%)]\tLoss: 0.013073\n",
            "Train Epoch: 9 [23040/60000 (38%)]\tLoss: 0.060807\n",
            "Train Epoch: 9 [23680/60000 (39%)]\tLoss: 0.046604\n",
            "Train Epoch: 9 [24320/60000 (41%)]\tLoss: 0.007410\n",
            "Train Epoch: 9 [24960/60000 (42%)]\tLoss: 0.128120\n",
            "Train Epoch: 9 [25600/60000 (43%)]\tLoss: 0.120062\n",
            "Train Epoch: 9 [26240/60000 (44%)]\tLoss: 0.029310\n",
            "Train Epoch: 9 [26880/60000 (45%)]\tLoss: 0.074293\n",
            "Train Epoch: 9 [27520/60000 (46%)]\tLoss: 0.012049\n",
            "Train Epoch: 9 [28160/60000 (47%)]\tLoss: 0.054573\n",
            "Train Epoch: 9 [28800/60000 (48%)]\tLoss: 0.038645\n",
            "Train Epoch: 9 [29440/60000 (49%)]\tLoss: 0.078981\n",
            "Train Epoch: 9 [30080/60000 (50%)]\tLoss: 0.059561\n",
            "Train Epoch: 9 [30720/60000 (51%)]\tLoss: 0.077012\n",
            "Train Epoch: 9 [31360/60000 (52%)]\tLoss: 0.123519\n",
            "Train Epoch: 9 [32000/60000 (53%)]\tLoss: 0.032844\n",
            "Train Epoch: 9 [32640/60000 (54%)]\tLoss: 0.176298\n",
            "Train Epoch: 9 [33280/60000 (55%)]\tLoss: 0.081549\n",
            "Train Epoch: 9 [33920/60000 (57%)]\tLoss: 0.073428\n",
            "Train Epoch: 9 [34560/60000 (58%)]\tLoss: 0.213657\n",
            "Train Epoch: 9 [35200/60000 (59%)]\tLoss: 0.113573\n",
            "Train Epoch: 9 [35840/60000 (60%)]\tLoss: 0.016625\n",
            "Train Epoch: 9 [36480/60000 (61%)]\tLoss: 0.131346\n",
            "Train Epoch: 9 [37120/60000 (62%)]\tLoss: 0.009454\n",
            "Train Epoch: 9 [37760/60000 (63%)]\tLoss: 0.034931\n",
            "Train Epoch: 9 [38400/60000 (64%)]\tLoss: 0.116806\n",
            "Train Epoch: 9 [39040/60000 (65%)]\tLoss: 0.024779\n",
            "Train Epoch: 9 [39680/60000 (66%)]\tLoss: 0.049414\n",
            "Train Epoch: 9 [40320/60000 (67%)]\tLoss: 0.034587\n",
            "Train Epoch: 9 [40960/60000 (68%)]\tLoss: 0.031494\n",
            "Train Epoch: 9 [41600/60000 (69%)]\tLoss: 0.057331\n",
            "Train Epoch: 9 [42240/60000 (70%)]\tLoss: 0.016894\n",
            "Train Epoch: 9 [42880/60000 (71%)]\tLoss: 0.102090\n",
            "Train Epoch: 9 [43520/60000 (72%)]\tLoss: 0.033418\n",
            "Train Epoch: 9 [44160/60000 (74%)]\tLoss: 0.025512\n",
            "Train Epoch: 9 [44800/60000 (75%)]\tLoss: 0.026991\n",
            "Train Epoch: 9 [45440/60000 (76%)]\tLoss: 0.102733\n",
            "Train Epoch: 9 [46080/60000 (77%)]\tLoss: 0.178183\n",
            "Train Epoch: 9 [46720/60000 (78%)]\tLoss: 0.091310\n",
            "Train Epoch: 9 [47360/60000 (79%)]\tLoss: 0.055511\n",
            "Train Epoch: 9 [48000/60000 (80%)]\tLoss: 0.066244\n",
            "Train Epoch: 9 [48640/60000 (81%)]\tLoss: 0.094302\n",
            "Train Epoch: 9 [49280/60000 (82%)]\tLoss: 0.038120\n",
            "Train Epoch: 9 [49920/60000 (83%)]\tLoss: 0.008766\n",
            "Train Epoch: 9 [50560/60000 (84%)]\tLoss: 0.039125\n",
            "Train Epoch: 9 [51200/60000 (85%)]\tLoss: 0.154917\n",
            "Train Epoch: 9 [51840/60000 (86%)]\tLoss: 0.031794\n",
            "Train Epoch: 9 [52480/60000 (87%)]\tLoss: 0.123965\n",
            "Train Epoch: 9 [53120/60000 (88%)]\tLoss: 0.045971\n",
            "Train Epoch: 9 [53760/60000 (90%)]\tLoss: 0.046477\n",
            "Train Epoch: 9 [54400/60000 (91%)]\tLoss: 0.111884\n",
            "Train Epoch: 9 [55040/60000 (92%)]\tLoss: 0.038221\n",
            "Train Epoch: 9 [55680/60000 (93%)]\tLoss: 0.014608\n",
            "Train Epoch: 9 [56320/60000 (94%)]\tLoss: 0.074806\n",
            "Train Epoch: 9 [56960/60000 (95%)]\tLoss: 0.036033\n",
            "Train Epoch: 9 [57600/60000 (96%)]\tLoss: 0.007158\n",
            "Train Epoch: 9 [58240/60000 (97%)]\tLoss: 0.011612\n",
            "Train Epoch: 9 [58880/60000 (98%)]\tLoss: 0.042291\n",
            "Train Epoch: 9 [59520/60000 (99%)]\tLoss: 0.096893\n",
            "\n",
            "Test set: Average loss: 0.0548, Accuracy: 9829/10000 (98%)\n",
            "\n"
          ]
        }
      ]
    },
    {
      "cell_type": "code",
      "source": [],
      "metadata": {
        "id": "MstdPhXOYtIg"
      },
      "execution_count": null,
      "outputs": []
    }
  ]
}