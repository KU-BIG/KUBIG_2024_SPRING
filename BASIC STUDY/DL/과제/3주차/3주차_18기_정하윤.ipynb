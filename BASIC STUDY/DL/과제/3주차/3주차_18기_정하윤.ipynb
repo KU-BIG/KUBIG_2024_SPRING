{
  "nbformat": 4,
  "nbformat_minor": 0,
  "metadata": {
    "colab": {
      "provenance": [],
      "machine_shape": "hm"
    },
    "kernelspec": {
      "name": "python3",
      "display_name": "Python 3"
    },
    "language_info": {
      "name": "python"
    },
    "accelerator": "GPU"
  },
  "cells": [
    {
      "cell_type": "markdown",
      "source": [
        "# < 3주차 과제 1 : MLP 마음대로 다뤄보기>\n",
        "- dataset을 임의로 선정해서 직접 분석 해보기(제공한 코드를 활용해서 해보기)\n",
        "- activation functions 중 relu사용시 함수 직접 정의\n",
        "- lr, optimizer 등 바꿔보기\n",
        "- hidden layer/neuron 수를 바꾸기\n",
        "- 전처리도 추가\n",
        "- 모든 시도를 올려주세요!\n",
        "- 제일 높은 acc를 보인 시도를 명시해주세요!\n"
      ],
      "metadata": {
        "id": "sgAYo4nrw2F4"
      }
    },
    {
      "cell_type": "code",
      "execution_count": 1,
      "metadata": {
        "id": "fX437IL6qbI-"
      },
      "outputs": [],
      "source": [
        "import torch\n",
        "from torch import nn, optim\n",
        "from sklearn.datasets import load_wine\n",
        "from torch.utils.data import  TensorDataset, DataLoader\n",
        "from sklearn.model_selection import train_test_split\n",
        "from sklearn.metrics import accuracy_score\n",
        "import numpy as np\n",
        "from sklearn.preprocessing import StandardScaler\n",
        "import matplotlib.pyplot as plt\n",
        "import pandas as pd"
      ]
    },
    {
      "cell_type": "markdown",
      "source": [
        "## 아래 데이터셋 중 원하는 데이터셋 하나를 선택하여, 코드 과제 진행하기!\n",
        "- 1) load_digits() <br>\n",
        "- 2) load_wine()"
      ],
      "metadata": {
        "id": "oxkFzBDNmWNk"
      }
    },
    {
      "cell_type": "code",
      "source": [
        "# 데이터셋 종류 :\n",
        "wine = load_wine()"
      ],
      "metadata": {
        "id": "FywYbfsKtjcR"
      },
      "execution_count": 2,
      "outputs": []
    },
    {
      "cell_type": "code",
      "source": [
        "input = wine.data\n",
        "output = wine.target"
      ],
      "metadata": {
        "id": "C2P0hqZ9yBGm"
      },
      "execution_count": 3,
      "outputs": []
    },
    {
      "cell_type": "code",
      "source": [
        "device = 'cuda' if torch.cuda.is_available() else 'cpu'\n",
        "\n",
        "torch.manual_seed(777)\n",
        "if device == \"cuda\":\n",
        "  torch.cuda.manual_seed_all(777)"
      ],
      "metadata": {
        "id": "SggpQfSPt85C"
      },
      "execution_count": 4,
      "outputs": []
    },
    {
      "cell_type": "code",
      "source": [
        "input"
      ],
      "metadata": {
        "colab": {
          "base_uri": "https://localhost:8080/"
        },
        "id": "-W5onxatM9S3",
        "outputId": "4be10d2f-baa3-4b15-c1b5-508f4ac91334"
      },
      "execution_count": 5,
      "outputs": [
        {
          "output_type": "execute_result",
          "data": {
            "text/plain": [
              "array([[1.423e+01, 1.710e+00, 2.430e+00, ..., 1.040e+00, 3.920e+00,\n",
              "        1.065e+03],\n",
              "       [1.320e+01, 1.780e+00, 2.140e+00, ..., 1.050e+00, 3.400e+00,\n",
              "        1.050e+03],\n",
              "       [1.316e+01, 2.360e+00, 2.670e+00, ..., 1.030e+00, 3.170e+00,\n",
              "        1.185e+03],\n",
              "       ...,\n",
              "       [1.327e+01, 4.280e+00, 2.260e+00, ..., 5.900e-01, 1.560e+00,\n",
              "        8.350e+02],\n",
              "       [1.317e+01, 2.590e+00, 2.370e+00, ..., 6.000e-01, 1.620e+00,\n",
              "        8.400e+02],\n",
              "       [1.413e+01, 4.100e+00, 2.740e+00, ..., 6.100e-01, 1.600e+00,\n",
              "        5.600e+02]])"
            ]
          },
          "metadata": {},
          "execution_count": 5
        }
      ]
    },
    {
      "cell_type": "code",
      "source": [
        "output"
      ],
      "metadata": {
        "colab": {
          "base_uri": "https://localhost:8080/"
        },
        "id": "Q-x9bkc2NBC7",
        "outputId": "8a50e23e-ff0e-4b56-822a-efa3600b016c"
      },
      "execution_count": 6,
      "outputs": [
        {
          "output_type": "execute_result",
          "data": {
            "text/plain": [
              "array([0, 0, 0, 0, 0, 0, 0, 0, 0, 0, 0, 0, 0, 0, 0, 0, 0, 0, 0, 0, 0, 0,\n",
              "       0, 0, 0, 0, 0, 0, 0, 0, 0, 0, 0, 0, 0, 0, 0, 0, 0, 0, 0, 0, 0, 0,\n",
              "       0, 0, 0, 0, 0, 0, 0, 0, 0, 0, 0, 0, 0, 0, 0, 1, 1, 1, 1, 1, 1, 1,\n",
              "       1, 1, 1, 1, 1, 1, 1, 1, 1, 1, 1, 1, 1, 1, 1, 1, 1, 1, 1, 1, 1, 1,\n",
              "       1, 1, 1, 1, 1, 1, 1, 1, 1, 1, 1, 1, 1, 1, 1, 1, 1, 1, 1, 1, 1, 1,\n",
              "       1, 1, 1, 1, 1, 1, 1, 1, 1, 1, 1, 1, 1, 1, 1, 1, 1, 1, 1, 1, 2, 2,\n",
              "       2, 2, 2, 2, 2, 2, 2, 2, 2, 2, 2, 2, 2, 2, 2, 2, 2, 2, 2, 2, 2, 2,\n",
              "       2, 2, 2, 2, 2, 2, 2, 2, 2, 2, 2, 2, 2, 2, 2, 2, 2, 2, 2, 2, 2, 2,\n",
              "       2, 2])"
            ]
          },
          "metadata": {},
          "execution_count": 6
        }
      ]
    },
    {
      "cell_type": "code",
      "source": [
        "#데이터 칼럼\n",
        "wine['feature_names']"
      ],
      "metadata": {
        "colab": {
          "base_uri": "https://localhost:8080/"
        },
        "id": "wlhST0vZM68w",
        "outputId": "60d8989f-386b-4166-ce9d-7357444972f4"
      },
      "execution_count": 7,
      "outputs": [
        {
          "output_type": "execute_result",
          "data": {
            "text/plain": [
              "['alcohol',\n",
              " 'malic_acid',\n",
              " 'ash',\n",
              " 'alcalinity_of_ash',\n",
              " 'magnesium',\n",
              " 'total_phenols',\n",
              " 'flavanoids',\n",
              " 'nonflavanoid_phenols',\n",
              " 'proanthocyanins',\n",
              " 'color_intensity',\n",
              " 'hue',\n",
              " 'od280/od315_of_diluted_wines',\n",
              " 'proline']"
            ]
          },
          "metadata": {},
          "execution_count": 7
        }
      ]
    },
    {
      "cell_type": "code",
      "source": [
        "#샘플 수 178개, class는 0,1,2"
      ],
      "metadata": {
        "id": "rvWDIphhCyZP"
      },
      "execution_count": 8,
      "outputs": []
    },
    {
      "cell_type": "code",
      "source": [
        "# #y를 카테고리화\n",
        "# output = pd.get_dummies(output)\n",
        "# output"
      ],
      "metadata": {
        "id": "g5fwnrQxNXsr"
      },
      "execution_count": 9,
      "outputs": []
    },
    {
      "cell_type": "code",
      "source": [
        "# import torch.nn.functional as F\n",
        "\n",
        "# #원핫 인코딩\n",
        "# output=F.one_hot(output,num_classes=3)\n",
        "# output\n",
        "###케라스에서는 라벨 원핫 인코딩을 하는데 파이토치도 하는 건지,,"
      ],
      "metadata": {
        "id": "bnkzrkB9OYpI"
      },
      "execution_count": 10,
      "outputs": []
    },
    {
      "cell_type": "code",
      "source": [
        "x_train, x_test, y_train, y_test = train_test_split(input, output, test_size = 0.3, random_state = 42, stratify= wine.target, shuffle = True)\n",
        "\n",
        "x_train = torch.FloatTensor(x_train).to(device)\n",
        "y_train = torch.LongTensor(y_train).to(device)\n",
        "x_test = torch.FloatTensor(x_test)\n",
        "y_test = torch.LongTensor(y_test)\n",
        "\n",
        "# 데이터를 tensor로 바꿔주고 gpu 연산이 가능해지도록 gpu에 옮김\n",
        "# label 값을 왜 long 에 옮겨놓는가? loss function이 다르기 때문"
      ],
      "metadata": {
        "id": "bLMzf-2ntYeX"
      },
      "execution_count": 11,
      "outputs": []
    },
    {
      "cell_type": "code",
      "source": [
        "print(x_train[0])"
      ],
      "metadata": {
        "colab": {
          "base_uri": "https://localhost:8080/"
        },
        "id": "9HyYM8kvCMkD",
        "outputId": "f82a8c00-c865-419f-d613-617fdde770e0"
      },
      "execution_count": 12,
      "outputs": [
        {
          "output_type": "stream",
          "name": "stdout",
          "text": [
            "tensor([1.3750e+01, 1.7300e+00, 2.4100e+00, 1.6000e+01, 8.9000e+01, 2.6000e+00,\n",
            "        2.7600e+00, 2.9000e-01, 1.8100e+00, 5.6000e+00, 1.1500e+00, 2.9000e+00,\n",
            "        1.3200e+03])\n"
          ]
        }
      ]
    },
    {
      "cell_type": "code",
      "source": [
        "print(y_train.unique())"
      ],
      "metadata": {
        "colab": {
          "base_uri": "https://localhost:8080/"
        },
        "id": "umEdiTZkrVqS",
        "outputId": "3b006cbd-9a5b-4bab-e468-4387c412ed51"
      },
      "execution_count": 13,
      "outputs": [
        {
          "output_type": "stream",
          "name": "stdout",
          "text": [
            "tensor([0, 1, 2])\n"
          ]
        }
      ]
    },
    {
      "cell_type": "markdown",
      "source": [
        "파이토치에서는 데이터셋을 좀 더 쉽게 다룰 수 있도록 유용한 도구로서 torch.utils.data.Dataset과 torch.utils.data.DataLoader를 제공합니다. 이를 사용하면 미니 배치 학습, 데이터 셔플(shuffle), 병렬 처리까지 간단히 수행할 수 있습니다. 기본적인 사용 방법은 Dataset을 정의하고, 이를 DataLoader에 전달하는 것\n",
        "- init : class 에서 객체가 생성되면 바로 실행되는 함수\n",
        "- len : observation 수를 정의하는 함수\n",
        "- getitem : iteration 마다 해당하는 데이터를 돌려주는 함수"
      ],
      "metadata": {
        "id": "combmxzmYFyn"
      }
    },
    {
      "cell_type": "code",
      "source": [
        "from torch.utils.data import Dataset\n",
        "class CustomDataset(Dataset):\n",
        "  def __init__(self):\n",
        "    self.x_data = x_train\n",
        "    self.y_data = [[y] for y in y_train]\n",
        "    self.device = device\n",
        "#  데이터셋의 전처리를 해주는 부분\n",
        "    self.x_data = self.standardize(self.x_data)\n",
        "\n",
        "  def standardize(self, data):\n",
        "          #각 feature의 평균과 표준편차를 이용하여 표준화하는 함수\n",
        "          mean = torch.mean(data, dim=0)\n",
        "          std = torch.std(data, dim=0)\n",
        "          standardized_data = (data - mean) / std\n",
        "          return standardized_data\n",
        "\n",
        "  def __len__(self):\n",
        "    return len(self.x_data)\n",
        "#  데이터셋의 길이. 즉, 총 샘플의 수를 적어주는 부분\n",
        "\n",
        "  def __getitem__(self, idx):\n",
        "    x = torch.FloatTensor(self.x_data[idx]).to(self.device)\n",
        "    y = torch.LongTensor(self.y_data[idx]).to(self.device)\n",
        "#  데이터셋에서 특정 1개의 샘플을 가져오는 함수\n",
        "\n",
        "    return x,y"
      ],
      "metadata": {
        "id": "y38TlgXoqV5Z"
      },
      "execution_count": 18,
      "outputs": []
    },
    {
      "cell_type": "code",
      "source": [
        "batch_size = 8\n",
        "\n",
        "dataset = CustomDataset()\n",
        "dataloader = DataLoader(dataset, batch_size=batch_size)"
      ],
      "metadata": {
        "id": "x8VHwnuFqino"
      },
      "execution_count": 19,
      "outputs": []
    },
    {
      "cell_type": "code",
      "source": [
        "# input_layer와 hidden_layer의 노드 개수를 어떻게 바꿔줘야할까?\n",
        "# hidden layer/neuron 수를 바꾸기\n",
        "\n",
        "model = nn.Sequential(\n",
        "          nn.Linear(13,398, bias=True),\n",
        "          nn.ReLU(),\n",
        "          nn.Linear(398,15, bias=True),\n",
        "          nn.ReLU(),\n",
        "          nn.Linear(15,3, bias=True),\n",
        "          nn.Softmax(dim=1)\n",
        "          ).to(device)"
      ],
      "metadata": {
        "id": "C6V7a4tyq6Jc"
      },
      "execution_count": 20,
      "outputs": []
    },
    {
      "cell_type": "markdown",
      "source": [
        "class로 구현 가능\n",
        "- init : 초기 생성 함수\n",
        "- foward : 순전파(입력값 => 예측값 의 과정)"
      ],
      "metadata": {
        "id": "07uV8RY7Yr_5"
      }
    },
    {
      "cell_type": "code",
      "source": [
        "#relu 구현\n",
        "class Relu(torch.nn.Module):\n",
        "    def forward(self, x):\n",
        "        return torch.max(torch.tensor(0.0), x)\n",
        "\n",
        "class Model(torch.nn.Module):\n",
        "    def __init__(self):\n",
        "        super(Model, self).__init__()\n",
        "        self.layer1 = nn.Sequential(\n",
        "            nn.Linear(13, 398, bias=True), # input_layer = 13, hidden_layer1 = 398\n",
        "            Relu(),\n",
        "            nn.BatchNorm1d(398)\n",
        "        )\n",
        "        self.layer2 = nn.Sequential(\n",
        "            nn.Linear(398, 15, bias=True),\n",
        "            Relu()\n",
        "        )\n",
        "        self.layer3 = nn.Sequential(\n",
        "            nn.Linear(15, 10, bias=True),\n",
        "            Relu()\n",
        "        )\n",
        "        self.layer4 = nn.Sequential(\n",
        "            nn.Linear(10, 3, bias=True),\n",
        "            nn.Softmax()\n",
        "        )\n",
        "\n",
        " # activation function 이용\n",
        "  #   nn.ReLU()\n",
        "  #   nn.tanH()\n",
        "  #   https://pytorch.org/docs/stable/nn.html 그 외에도 여기서 확인 가능함\n",
        "  #   파라미터가 필요하지 않다는 것이 특징\n",
        "\n",
        "  # batch normazliation 1d, 파라미터 값으로 vector의 길이를 전해줌\n",
        "  # 추후에 이미지를 다루게 된다면, 그때는 batch normalization 2d를 이용하게 됨\n",
        "  # 그때는 파라미터 값으로 채널, 가로, 세로 길이를 전달해주게 됨\n",
        "\n",
        "\n",
        "    def forward(self, x):\n",
        "        output = self.layer1(x)\n",
        "        output = self.layer2(output)\n",
        "        output = self.layer3(output)\n",
        "        output = self.layer4(output)\n",
        "        return output"
      ],
      "metadata": {
        "id": "5xBCfMbVLQUb"
      },
      "execution_count": 21,
      "outputs": []
    },
    {
      "cell_type": "code",
      "source": [
        "def init_weights(layer):\n",
        "    if isinstance(layer, nn.Linear):\n",
        "        torch.nn.init.xavier_uniform(layer.weight)\n",
        "        layer.bias.data.fill_(0.01)\n",
        "\n",
        "        #xavier사용\n",
        "        # Layer의 weight를 어떤 분포를 가지도록 초기화시켜줌+global minimum찾기 위해서"
      ],
      "metadata": {
        "id": "kqcqqkECrSGK"
      },
      "execution_count": 22,
      "outputs": []
    },
    {
      "cell_type": "code",
      "source": [
        "model = Model().to(device)\n",
        "model.apply(init_weights)"
      ],
      "metadata": {
        "colab": {
          "base_uri": "https://localhost:8080/"
        },
        "id": "oMDUBFg6rUpw",
        "outputId": "df939fc6-369a-4582-bc03-fdfe71298e72"
      },
      "execution_count": 23,
      "outputs": [
        {
          "output_type": "stream",
          "name": "stderr",
          "text": [
            "<ipython-input-22-6196a47a4462>:3: UserWarning: nn.init.xavier_uniform is now deprecated in favor of nn.init.xavier_uniform_.\n",
            "  torch.nn.init.xavier_uniform(layer.weight)\n"
          ]
        },
        {
          "output_type": "execute_result",
          "data": {
            "text/plain": [
              "Model(\n",
              "  (layer1): Sequential(\n",
              "    (0): Linear(in_features=13, out_features=398, bias=True)\n",
              "    (1): Relu()\n",
              "    (2): BatchNorm1d(398, eps=1e-05, momentum=0.1, affine=True, track_running_stats=True)\n",
              "  )\n",
              "  (layer2): Sequential(\n",
              "    (0): Linear(in_features=398, out_features=15, bias=True)\n",
              "    (1): Relu()\n",
              "  )\n",
              "  (layer3): Sequential(\n",
              "    (0): Linear(in_features=15, out_features=10, bias=True)\n",
              "    (1): Relu()\n",
              "  )\n",
              "  (layer4): Sequential(\n",
              "    (0): Linear(in_features=10, out_features=3, bias=True)\n",
              "    (1): Softmax(dim=None)\n",
              "  )\n",
              ")"
            ]
          },
          "metadata": {},
          "execution_count": 23
        }
      ]
    },
    {
      "cell_type": "code",
      "source": [
        "print(model)"
      ],
      "metadata": {
        "colab": {
          "base_uri": "https://localhost:8080/"
        },
        "id": "OwZt5CetrYFb",
        "outputId": "4c07a0fb-b571-4c37-dc5f-592bc8a67f62"
      },
      "execution_count": 24,
      "outputs": [
        {
          "output_type": "stream",
          "name": "stdout",
          "text": [
            "Model(\n",
            "  (layer1): Sequential(\n",
            "    (0): Linear(in_features=13, out_features=398, bias=True)\n",
            "    (1): Relu()\n",
            "    (2): BatchNorm1d(398, eps=1e-05, momentum=0.1, affine=True, track_running_stats=True)\n",
            "  )\n",
            "  (layer2): Sequential(\n",
            "    (0): Linear(in_features=398, out_features=15, bias=True)\n",
            "    (1): Relu()\n",
            "  )\n",
            "  (layer3): Sequential(\n",
            "    (0): Linear(in_features=15, out_features=10, bias=True)\n",
            "    (1): Relu()\n",
            "  )\n",
            "  (layer4): Sequential(\n",
            "    (0): Linear(in_features=10, out_features=3, bias=True)\n",
            "    (1): Softmax(dim=None)\n",
            "  )\n",
            ")\n"
          ]
        }
      ]
    },
    {
      "cell_type": "code",
      "source": [
        "loss_fn  = nn.CrossEntropyLoss().to(device)\n",
        "\n",
        "# 여러가지 optimizer 시도해보기\n",
        "# lr 바꿔보기\n",
        "\n",
        "optimizer = optim.Adagrad(model.parameters(), lr= 0.01)\n",
        "#optimizer = optim.Adam(model.parameters(), lr= 0.01)\n",
        "#optimizer = optim.SGD(model.parameters(), lr=0.01, momentum=0.9)\n",
        "#optimizer = optim.Adadelta(model.parameters(), lr=0.03)\n",
        "\n",
        "# https://pytorch.org/docs/stable/optim.html#module-torch.optim 페이지 참조\n",
        "# optimizer = optim.SGD(model.parameters(), lr=0.1, momentum=0.9)\n",
        "# sgd 등등"
      ],
      "metadata": {
        "id": "AYFp-eTErh7b"
      },
      "execution_count": 26,
      "outputs": []
    },
    {
      "cell_type": "code",
      "source": [
        "losses = []\n",
        "for epoch in range(100):\n",
        "\n",
        "  optimizer.zero_grad()\n",
        "  hypothesis = model(x_train)\n",
        "\n",
        "  # 비용 함수\n",
        "  cost = loss_fn(hypothesis, y_train)\n",
        "  cost.backward()\n",
        "  optimizer.step()\n",
        "  losses.append(cost.item())\n",
        "\n",
        "  if epoch % 10 == 0:\n",
        "    print(epoch, cost.item())"
      ],
      "metadata": {
        "colab": {
          "base_uri": "https://localhost:8080/"
        },
        "id": "90QxHvlIrjS7",
        "outputId": "bd13a4c1-38ac-4039-9079-4bd61b139037"
      },
      "execution_count": 27,
      "outputs": [
        {
          "output_type": "stream",
          "name": "stderr",
          "text": [
            "/usr/local/lib/python3.10/dist-packages/torch/nn/modules/module.py:1518: UserWarning: Implicit dimension choice for softmax has been deprecated. Change the call to include dim=X as an argument.\n",
            "  return self._call_impl(*args, **kwargs)\n"
          ]
        },
        {
          "output_type": "stream",
          "name": "stdout",
          "text": [
            "0 0.9692224860191345\n",
            "10 0.79714035987854\n",
            "20 0.7350306510925293\n",
            "30 0.6505707502365112\n",
            "40 0.6190946698188782\n",
            "50 0.5871148705482483\n",
            "60 0.5762291550636292\n",
            "70 0.5930455327033997\n",
            "80 0.5880704522132874\n",
            "90 0.5721447467803955\n"
          ]
        }
      ]
    },
    {
      "cell_type": "code",
      "source": [
        "plt.plot(losses)\n",
        "plt.show()"
      ],
      "metadata": {
        "colab": {
          "base_uri": "https://localhost:8080/",
          "height": 430
        },
        "id": "81ASYrW7roFM",
        "outputId": "964d3f5d-fe42-4324-fcbc-2671105e28f3"
      },
      "execution_count": 28,
      "outputs": [
        {
          "output_type": "display_data",
          "data": {
            "text/plain": [
              "<Figure size 640x480 with 1 Axes>"
            ],
            "image/png": "[encoded data removed]"
          },
          "metadata": {}
        }
      ]
    },
    {
      "cell_type": "code",
      "source": [
        "with torch.no_grad():\n",
        "  model = model.to('cpu')\n",
        "  y_pred = model(x_test)\n",
        "  y_pred = y_pred.detach().cpu().numpy()\n",
        "  predicted = np.argmax(y_pred, axis =1)\n",
        "  accuracy = (accuracy_score(predicted, y_test))"
      ],
      "metadata": {
        "id": "h4kJzpLErqhZ"
      },
      "execution_count": 29,
      "outputs": []
    },
    {
      "cell_type": "code",
      "source": [
        "print(f'model의 output은 :  {y_pred[0]}')\n",
        "print(f'argmax를 한 후의 output은 {predicted[0]}')\n",
        "print(f'accuracy는 {accuracy}')"
      ],
      "metadata": {
        "colab": {
          "base_uri": "https://localhost:8080/"
        },
        "id": "vyIKhs3Nr6Ay",
        "outputId": "9682a753-d44c-4627-e8b3-0c241a870d39"
      },
      "execution_count": 30,
      "outputs": [
        {
          "output_type": "stream",
          "name": "stdout",
          "text": [
            "model의 output은 :  [0.99676466 0.00221027 0.00102507]\n",
            "argmax를 한 후의 output은 0\n",
            "accuracy는 0.9444444444444444\n"
          ]
        }
      ]
    },
    {
      "cell_type": "markdown",
      "source": [
        "# < 3주차 과제 2 : CNN 맛보기>"
      ],
      "metadata": {
        "id": "3RzRM7xThZV_"
      }
    },
    {
      "cell_type": "code",
      "source": [
        "from __future__ import print_function\n",
        "import argparse\n",
        "import torch\n",
        "import torch.nn as nn # 신경망들이 포함됨\n",
        "import torch.nn.functional as F\n",
        "import torch.optim as optim # 최적화 알고리즘들이 포함됨\n",
        "from torchvision import datasets, transforms # 이미지 데이터셋 집합, 이미지 변환 툴\n",
        "from torch.autograd import Variable"
      ],
      "metadata": {
        "id": "56xqgtLxhZw6"
      },
      "execution_count": null,
      "outputs": []
    },
    {
      "cell_type": "code",
      "source": [
        "# Training settings\n",
        "batch_size = 64\n",
        "\n",
        "# MNIST Dataset\n",
        "train_dataset = datasets.MNIST(root='./data/',\n",
        "                               train=True,\n",
        "                               transform=transforms.ToTensor(),\n",
        "                               download=True)\n",
        "\n",
        "test_dataset = datasets.MNIST(root='./data/',\n",
        "                              train=False,\n",
        "                              transform=transforms.ToTensor())\n",
        "\n",
        "# Data Loader (Input Pipeline)\n",
        "#앞서 정의한 데이터셋을 DataLoader에 넣으면 정의한 조건(배치 사이즈 등)에 따라 모델을 학습하고 추론할 때 데이터를 load 해줌\n",
        "train_loader = torch.utils.data.DataLoader(dataset=train_dataset,\n",
        "                                           batch_size=batch_size,\n",
        "                                           shuffle=True)\n",
        "\n",
        "test_loader = torch.utils.data.DataLoader(dataset=test_dataset,\n",
        "                                          batch_size=batch_size,\n",
        "                                          shuffle=False)"
      ],
      "metadata": {
        "id": "TzkF2bFNhcQ2"
      },
      "execution_count": null,
      "outputs": []
    },
    {
      "cell_type": "code",
      "source": [
        "# 첫번째 이미지만 가져오기\n",
        "img , label = next(iter(train_loader))"
      ],
      "metadata": {
        "id": "D1Mvg6FpQYji"
      },
      "execution_count": null,
      "outputs": []
    },
    {
      "cell_type": "code",
      "source": [
        "img.shape"
      ],
      "metadata": {
        "colab": {
          "base_uri": "https://localhost:8080/"
        },
        "id": "DyspnHTDD24C",
        "outputId": "fdc82db6-30ac-404c-e27b-f8fe123cfda8"
      },
      "execution_count": null,
      "outputs": [
        {
          "output_type": "execute_result",
          "data": {
            "text/plain": [
              "torch.Size([64, 1, 28, 28])"
            ]
          },
          "metadata": {},
          "execution_count": 64
        }
      ]
    },
    {
      "cell_type": "code",
      "source": [
        "#배치 크기 × 채널 × 높이(height) × 너비(widht)\n",
        "#총 64개의 샘플, 흑백이므로 채널 1, 가로 세로 28픽셀"
      ],
      "metadata": {
        "id": "52NoQZj0T_lo"
      },
      "execution_count": null,
      "outputs": []
    },
    {
      "cell_type": "code",
      "source": [
        "#한 개의 이미지만 출력해보기\n",
        "img_show = img[0, 0, :, :]    #배치 크기, 채널 0으로 만듦\n",
        "img_show.shape\n",
        "\n",
        "plt.imshow(img_show, cmap='Greys')\n",
        "plt.show()"
      ],
      "metadata": {
        "colab": {
          "base_uri": "https://localhost:8080/",
          "height": 430
        },
        "id": "5zSU9StsTpNO",
        "outputId": "5c0661ee-d95c-43cb-ac2b-a701b4955622"
      },
      "execution_count": null,
      "outputs": [
        {
          "output_type": "display_data",
          "data": {
            "text/plain": [
              "<Figure size 640x480 with 1 Axes>"
            ],
            "image/png": "[encoded data removed]"
          },
          "metadata": {}
        }
      ]
    },
    {
      "cell_type": "markdown",
      "source": [
        "Conv2d(in_channels, out_channels, kernel_size, stride=1, padding=0)의 파라미터\n",
        "\n",
        "*   in_channels: 입력 채널 수. 흑백 이미지일 경우 1, RGB 값을 가진 이미지일 경우 3 을 가진 경우가 많음\n",
        "*   out_channels: 출력 채널 수\n",
        "*   kernel_size: 커널 사이즈(필터 사이즈)\n",
        "*   stride: kernel을 적용하는 간격. 간격이 커질수록 출력 데이터 배열의 크기는 작아짐. 기본 값은 1\n",
        "*   padding: 출력 데이터 배열의 크기를 조정하기 위해서 이미지의 주변을 채워줌. 패딩 사이즈 기본 값은 0\n",
        "\n"
      ],
      "metadata": {
        "id": "MsE2s_f6UX7z"
      }
    },
    {
      "cell_type": "code",
      "source": [
        "#가로 28x세로 28 = 784 픽셀로 이루어진 이미지\n",
        "#각 픽셀은 밝기 정도에 따라 0부터 255까지 등급을 매김\n",
        "#흰 배경이 0, 글씨가 있는 곳은 1~255 숫자 중 하나로 채워져, 긴 행렬로 이루어진 하나의 집합으로 변환됨"
      ],
      "metadata": {
        "id": "er8ccA1Pwfuw"
      },
      "execution_count": null,
      "outputs": []
    },
    {
      "cell_type": "markdown",
      "source": [
        "**output size 계산**\n",
        "\n",
        "*   {input size - kernel size + (2*padding)} / stride +1\n",
        "*   우리가 가진 데이터에서 입력 이미지는 28x28 픽셀, conv1(1, 10, 5)일 때 output layer\n",
        "   *  ((28 - 5) + (2*0)) / 1 + 1 = 24\n",
        "   *  output size는 24x24\n",
        "\n"
      ],
      "metadata": {
        "id": "nmzoYHlaVbV-"
      }
    },
    {
      "cell_type": "code",
      "source": [
        "#CNN class 정의\n",
        "class Net(nn.Module):\n",
        "  def __init__(self):\n",
        "    super(Net, self).__init__()   # super함수는 CNN class의 부모 class인 nn.Module을 초기화\n",
        "    self.conv1 = nn.Conv2d(in_channels=1, out_channels=10, kernel_size = 5)\n",
        "        #합성곱 레이어1 : 입력 크기는 28x28x1 -> 출력 크기는 24x24x10\n",
        "    self.conv2 = nn.Conv2d(in_channels=10, out_channels=20, kernel_size = 5)\n",
        "        #합성곱 레이어2 : 입력 크기는 24x24x10 -> 출력 크기는 20x20x20\n",
        "    self.mp = nn.MaxPool2d(kernel_size=2, stride=2, padding=0)\n",
        "        #맥스풀링 레이어 : 20/2 = 10 -> 출력 크기는 10x10x20\n",
        "    self.fc = nn.Linear(320, 10) ### : 알맞는 input <- 왜 2000이 아닌지..\n",
        "        #입력 크기 320, 출력 클래스 수는 10(0~9까지 숫자 맞히기)\n",
        "        #입력층과 출력층 사이에 선형 변환 수행(입력 벡터를 받아서 가중치 행렬과의 행렬 곱 계산, bias 더해줌)\n",
        "\n",
        "  def forward(self, x):\n",
        "    in_size = x.size(0)\n",
        "    x = F.relu(self.mp(self.conv1(x)))\n",
        "      #첫 번째 합성곱 계층을 통과한 후 ReLU 활성화 함수를 적용하고, 그 결과를 최대 풀링 계층에 통과시킴\n",
        "    x = F.relu(self.mp(self.conv2(x)))\n",
        "      #두 번째 합성곱 계층을 통과...\n",
        "    x = x.view(in_size, -1)       #출력을 1차원으로 평탄화\n",
        "    x = self.fc(x)    #평탄화된 출력에 완전 연결 계층을 적용하여 클래스에 대한 로그 확률을 계산\n",
        "    return F.log_softmax(x)   #로그 소프트맥스 함수를 적용하여 각 클래스에 대한 예측값을 확률 값으로 반환\n",
        "\n",
        "    ##https://kh-kim.github.io/nlp_with_deep_learning_blog/docs/1-13-deep_neural_networks_ii/05-softmax_and_cross_entropy/\n",
        "    ##지수함수를 사용하는 소프트맥스의 특성상, 로그소프트맥스가 좀 더 빠른 연산 속도를 제공할 수 있기 때문에 후자가 좀 더 선호되는 편이라고,,\n",
        "    ##로그 소프트맥스 사용할 때는 NLL 손실 함수 사용해줘야 함"
      ],
      "metadata": {
        "id": "tLCSvgganBrH"
      },
      "execution_count": null,
      "outputs": []
    },
    {
      "cell_type": "markdown",
      "source": [
        "**완전연결 계층**\n",
        "\n",
        "*   Fully conneted layer, Dense layer\n",
        "*   '완전 연결되었다' : 한 layer의 모든 뉴런이 다음 layer의 모든 뉴런과 연결된 상태. 1차원 배열의 형태로 평탄화된 행렬을 통해 이미지를 분류하는 데 사용되는 계층\n",
        "*   2차월 벡터의 행렬을 1차원 배열로 평탄화, relu 함수로 활성화, softmax 함수로 이미지 분류하는 것까지가 fully connected layer라고 함\n",
        "\n"
      ],
      "metadata": {
        "id": "rHLc3psLjx_y"
      }
    },
    {
      "cell_type": "markdown",
      "source": [
        "**pooling**\n",
        "\n",
        "*   컨볼루션 층을 통해 이미지 특징을 요약하여도, 그 결과가 여전히 크고 복잡하면 이를 다시 한번 축소함 (pooling/sub sampling)\n",
        "*   정해진 구역 안에서 최댓값을 뽑아내는 max pooling, 평균값을 뽑아내는 average pooling 등\n"
      ],
      "metadata": {
        "id": "Pq324AChdSvB"
      }
    },
    {
      "cell_type": "markdown",
      "source": [
        "**drop out**\n",
        "\n",
        "*   은닉층에 배치된 노드 중 일부를 임의로 꺼주는 것. 특정 노드에 지나치게 치우쳐서 학습되는 과적합 방지\n",
        "*   매 학습이 일어날 때마다 일정한 수의 다른 노드가 랜덤하게 학습에서 배제됨"
      ],
      "metadata": {
        "id": "66h4TfnKd1m_"
      }
    },
    {
      "cell_type": "code",
      "source": [
        "model = Net()\n",
        "optimizer = optim.SGD(model.parameters(), lr = 0.01, momentum = 0.5)"
      ],
      "metadata": {
        "id": "lkYZ4pUdnUHc"
      },
      "execution_count": null,
      "outputs": []
    },
    {
      "cell_type": "code",
      "source": [
        "def train(epoch):\n",
        "  model.train()\n",
        "  for batch_idx, (data, target) in enumerate(train_loader):\n",
        "    data, target = Variable(data), Variable(target)   #데이터와 타겟을 Variable로 변환하여 GPU에서 연산할 수 있도록 함\n",
        "    optimizer.zero_grad()   #기울기를 초기화\n",
        "    output = model(data)    #모델에 데이터를 입력\n",
        "    loss = F.nll_loss(output, target)     #예측값과 실제값 사이의 손실 계산\n",
        "    loss.backward()         #역전파를 통해 파라미터 기울기 계산\n",
        "    optimizer.step()        #옵티마이저로 파라미터 업데이트\n",
        "    if batch_idx % 10 == 0:   #현재 미니배치의 인덱스가 10의 배수일 때마다 아래 코드 블록을 실행\n",
        "      print('Train Epoch: {} [{}/{} ({:.0f}%)]\\tLoss: {:.6f}'.format(\n",
        "          epoch, batch_idx * len(data), len(train_loader.dataset),\n",
        "          100. * batch_idx / len(train_loader), loss.item()))\n",
        "          #에포크, 미니배치 인덱스, 전체 데이터셋 크기, 현재 미니배치의 손실을 출력"
      ],
      "metadata": {
        "id": "IzUrEM3EnXJb"
      },
      "execution_count": null,
      "outputs": []
    },
    {
      "cell_type": "markdown",
      "source": [
        "**model.eval()**\n",
        "\n",
        "*   모델의 모든 레이어가 evalutaion mode에 들어가도록 해줌 -> 학습할 때만 필요했던 drop out, batch norm 등의 기능을 추론할 때는 비활성화시킴\n",
        "    * 메모리와는 관련이 없다고\n",
        "*   torch.no_grad() : gradient 계산을 비활성화 함으로써 gradient를 더이상 트래킹하지 않음. 메모리가 줄어들고 연산 속도가 증가함"
      ],
      "metadata": {
        "id": "r_jvGggceda7"
      }
    },
    {
      "cell_type": "code",
      "source": [
        "def test():\n",
        "    model.eval() #model.eval() 의 기능은?\n",
        "    test_loss = 0\n",
        "    correct = 0\n",
        "    for data, target in test_loader:\n",
        "        data, target = Variable(data, volatile=True), Variable(target)\n",
        "        #역전파 단계에서 그래디언트가 계산되지 않음, 메모리 절약하기 위해 사용 -> 최신 버전 파이토치에서는 with torch.no_grad()를 사용한다고..\n",
        "        output = model(data)\n",
        "        test_loss += F.nll_loss(output, target, size_average=False).data # nll_loss?? / cross entropy loss와의 관계 확인!\n",
        "        #size_average=False로 설정하여 각 배치의 손실 합을 구함\n",
        "        pred = output.data.max(1, keepdim=True)[1]\n",
        "        #각 입력 샘플에 대한 예측 저장\n",
        "        correct += pred.eq(target.data.view_as(pred)).cpu().sum()\n",
        "        #예측값과 실제 타겟을 비교하여 올바른 예측수 계산\n",
        "\n",
        "    test_loss /= len(test_loader.dataset)\n",
        "      #테스트 손실을 전체 테스트 데이터셋의 크기로 나누어 평균 손실을 계산\n",
        "    print('\\nTest set: Average loss: {:.4f}, Accuracy: {}/{} ({:.0f}%)\\n'.format(\n",
        "        test_loss, correct, len(test_loader.dataset),\n",
        "        100. * correct / len(test_loader.dataset)))   #평균 손실과 정확도 출력함"
      ],
      "metadata": {
        "id": "EFi0gYJGn2aa"
      },
      "execution_count": null,
      "outputs": []
    },
    {
      "cell_type": "markdown",
      "source": [
        "**null_loss**\n",
        "\n",
        "\n",
        "*   음의 로그 우도(Negative Log Likelihood) 손실을 계산하는 손실 함수. 로그 소프트맥스(log softmax) 출력을 사용\n",
        "*   torch.nn.CrossEntropyLoss : nn.LogSoftmax와 nn.NLLLoss의 연산의 조합\n",
        "\n",
        "\n",
        "https://supermemi.tistory.com/entry/Loss-Cross-Entropy-Negative-Log-Likelihood-%EB%82%B4%EC%9A%A9-%EC%A0%95%EB%A6%AC-Pytorch-Code\n",
        "1.    NLLLoss 안에서는 softmax나 log함수가 이뤄지지 않습니다. 그래서 모델 output(raw data)을 input으로 그대로 사용하는 것이 아니라 LogSoftmax 함수를 적용한 후 input으로 사용해야합니다.\n",
        "2.   CrossEntropyLoss 안에서 LogSoftmax와 Negative Log-likelihood 가 진행되기 때문에 softmax나 log 함수가 적용되지 않은 모델 output(raw data)을 input으로 주어야 합니다.\n",
        "\n",
        "\n",
        "\n"
      ],
      "metadata": {
        "id": "F9ayvAdIgUxa"
      }
    },
    {
      "cell_type": "code",
      "source": [
        "for epoch in range(1, 10):\n",
        "    train(epoch)\n",
        "    test()"
      ],
      "metadata": {
        "id": "zSvSZb_Bn4Nx",
        "colab": {
          "base_uri": "https://localhost:8080/"
        },
        "outputId": "de2646f9-9ca6-4a71-e7a9-9c09d2dd51cf"
      },
      "execution_count": null,
      "outputs": [
        {
          "output_type": "stream",
          "name": "stderr",
          "text": [
            "<ipython-input-53-32ddd7666038>:19: UserWarning: Implicit dimension choice for log_softmax has been deprecated. Change the call to include dim=X as an argument.\n",
            "  return F.log_softmax(x)\n"
          ]
        },
        {
          "output_type": "stream",
          "name": "stdout",
          "text": [
            "Train Epoch: 1 [0/60000 (0%)]\tLoss: 2.314939\n",
            "Train Epoch: 1 [640/60000 (1%)]\tLoss: 2.308357\n",
            "Train Epoch: 1 [1280/60000 (2%)]\tLoss: 2.294630\n",
            "Train Epoch: 1 [1920/60000 (3%)]\tLoss: 2.284297\n",
            "Train Epoch: 1 [2560/60000 (4%)]\tLoss: 2.269377\n",
            "Train Epoch: 1 [3200/60000 (5%)]\tLoss: 2.260186\n",
            "Train Epoch: 1 [3840/60000 (6%)]\tLoss: 2.240463\n",
            "Train Epoch: 1 [4480/60000 (7%)]\tLoss: 2.235462\n",
            "Train Epoch: 1 [5120/60000 (9%)]\tLoss: 2.184722\n",
            "Train Epoch: 1 [5760/60000 (10%)]\tLoss: 2.187236\n",
            "Train Epoch: 1 [6400/60000 (11%)]\tLoss: 2.130372\n",
            "Train Epoch: 1 [7040/60000 (12%)]\tLoss: 2.055032\n",
            "Train Epoch: 1 [7680/60000 (13%)]\tLoss: 1.918186\n",
            "Train Epoch: 1 [8320/60000 (14%)]\tLoss: 1.743867\n",
            "Train Epoch: 1 [8960/60000 (15%)]\tLoss: 1.606936\n",
            "Train Epoch: 1 [9600/60000 (16%)]\tLoss: 1.281215\n",
            "Train Epoch: 1 [10240/60000 (17%)]\tLoss: 0.943631\n",
            "Train Epoch: 1 [10880/60000 (18%)]\tLoss: 0.916305\n",
            "Train Epoch: 1 [11520/60000 (19%)]\tLoss: 0.836914\n",
            "Train Epoch: 1 [12160/60000 (20%)]\tLoss: 0.698134\n",
            "Train Epoch: 1 [12800/60000 (21%)]\tLoss: 0.526870\n",
            "Train Epoch: 1 [13440/60000 (22%)]\tLoss: 0.410949\n",
            "Train Epoch: 1 [14080/60000 (23%)]\tLoss: 0.480098\n",
            "Train Epoch: 1 [14720/60000 (25%)]\tLoss: 0.568562\n",
            "Train Epoch: 1 [15360/60000 (26%)]\tLoss: 0.440513\n",
            "Train Epoch: 1 [16000/60000 (27%)]\tLoss: 0.495628\n",
            "Train Epoch: 1 [16640/60000 (28%)]\tLoss: 0.501208\n",
            "Train Epoch: 1 [17280/60000 (29%)]\tLoss: 0.649012\n",
            "Train Epoch: 1 [17920/60000 (30%)]\tLoss: 0.529313\n",
            "Train Epoch: 1 [18560/60000 (31%)]\tLoss: 0.505722\n",
            "Train Epoch: 1 [19200/60000 (32%)]\tLoss: 0.377594\n",
            "Train Epoch: 1 [19840/60000 (33%)]\tLoss: 0.340932\n",
            "Train Epoch: 1 [20480/60000 (34%)]\tLoss: 0.496550\n",
            "Train Epoch: 1 [21120/60000 (35%)]\tLoss: 0.415831\n",
            "Train Epoch: 1 [21760/60000 (36%)]\tLoss: 0.311891\n",
            "Train Epoch: 1 [22400/60000 (37%)]\tLoss: 0.323030\n",
            "Train Epoch: 1 [23040/60000 (38%)]\tLoss: 0.429853\n",
            "Train Epoch: 1 [23680/60000 (39%)]\tLoss: 0.292380\n",
            "Train Epoch: 1 [24320/60000 (41%)]\tLoss: 0.280003\n",
            "Train Epoch: 1 [24960/60000 (42%)]\tLoss: 0.162464\n",
            "Train Epoch: 1 [25600/60000 (43%)]\tLoss: 0.319672\n",
            "Train Epoch: 1 [26240/60000 (44%)]\tLoss: 0.302224\n",
            "Train Epoch: 1 [26880/60000 (45%)]\tLoss: 0.295872\n",
            "Train Epoch: 1 [27520/60000 (46%)]\tLoss: 0.428969\n",
            "Train Epoch: 1 [28160/60000 (47%)]\tLoss: 0.270879\n",
            "Train Epoch: 1 [28800/60000 (48%)]\tLoss: 0.339737\n",
            "Train Epoch: 1 [29440/60000 (49%)]\tLoss: 0.460038\n",
            "Train Epoch: 1 [30080/60000 (50%)]\tLoss: 0.255416\n",
            "Train Epoch: 1 [30720/60000 (51%)]\tLoss: 0.444240\n",
            "Train Epoch: 1 [31360/60000 (52%)]\tLoss: 0.178954\n",
            "Train Epoch: 1 [32000/60000 (53%)]\tLoss: 0.280241\n",
            "Train Epoch: 1 [32640/60000 (54%)]\tLoss: 0.214268\n",
            "Train Epoch: 1 [33280/60000 (55%)]\tLoss: 0.358350\n",
            "Train Epoch: 1 [33920/60000 (57%)]\tLoss: 0.318665\n",
            "Train Epoch: 1 [34560/60000 (58%)]\tLoss: 0.267087\n",
            "Train Epoch: 1 [35200/60000 (59%)]\tLoss: 0.221802\n",
            "Train Epoch: 1 [35840/60000 (60%)]\tLoss: 0.231229\n",
            "Train Epoch: 1 [36480/60000 (61%)]\tLoss: 0.363856\n",
            "Train Epoch: 1 [37120/60000 (62%)]\tLoss: 0.417221\n",
            "Train Epoch: 1 [37760/60000 (63%)]\tLoss: 0.232280\n",
            "Train Epoch: 1 [38400/60000 (64%)]\tLoss: 0.187379\n",
            "Train Epoch: 1 [39040/60000 (65%)]\tLoss: 0.487812\n",
            "Train Epoch: 1 [39680/60000 (66%)]\tLoss: 0.306292\n",
            "Train Epoch: 1 [40320/60000 (67%)]\tLoss: 0.217648\n",
            "Train Epoch: 1 [40960/60000 (68%)]\tLoss: 0.316468\n",
            "Train Epoch: 1 [41600/60000 (69%)]\tLoss: 0.257041\n",
            "Train Epoch: 1 [42240/60000 (70%)]\tLoss: 0.264451\n",
            "Train Epoch: 1 [42880/60000 (71%)]\tLoss: 0.154645\n",
            "Train Epoch: 1 [43520/60000 (72%)]\tLoss: 0.262038\n",
            "Train Epoch: 1 [44160/60000 (74%)]\tLoss: 0.327255\n",
            "Train Epoch: 1 [44800/60000 (75%)]\tLoss: 0.398172\n",
            "Train Epoch: 1 [45440/60000 (76%)]\tLoss: 0.166379\n",
            "Train Epoch: 1 [46080/60000 (77%)]\tLoss: 0.291810\n",
            "Train Epoch: 1 [46720/60000 (78%)]\tLoss: 0.252554\n",
            "Train Epoch: 1 [47360/60000 (79%)]\tLoss: 0.163389\n",
            "Train Epoch: 1 [48000/60000 (80%)]\tLoss: 0.319800\n",
            "Train Epoch: 1 [48640/60000 (81%)]\tLoss: 0.418160\n",
            "Train Epoch: 1 [49280/60000 (82%)]\tLoss: 0.138487\n",
            "Train Epoch: 1 [49920/60000 (83%)]\tLoss: 0.364128\n",
            "Train Epoch: 1 [50560/60000 (84%)]\tLoss: 0.136895\n",
            "Train Epoch: 1 [51200/60000 (85%)]\tLoss: 0.159574\n",
            "Train Epoch: 1 [51840/60000 (86%)]\tLoss: 0.374641\n",
            "Train Epoch: 1 [52480/60000 (87%)]\tLoss: 0.205457\n",
            "Train Epoch: 1 [53120/60000 (88%)]\tLoss: 0.182104\n",
            "Train Epoch: 1 [53760/60000 (90%)]\tLoss: 0.251896\n",
            "Train Epoch: 1 [54400/60000 (91%)]\tLoss: 0.153657\n",
            "Train Epoch: 1 [55040/60000 (92%)]\tLoss: 0.185743\n",
            "Train Epoch: 1 [55680/60000 (93%)]\tLoss: 0.153076\n",
            "Train Epoch: 1 [56320/60000 (94%)]\tLoss: 0.110022\n",
            "Train Epoch: 1 [56960/60000 (95%)]\tLoss: 0.231037\n",
            "Train Epoch: 1 [57600/60000 (96%)]\tLoss: 0.051838\n",
            "Train Epoch: 1 [58240/60000 (97%)]\tLoss: 0.066364\n",
            "Train Epoch: 1 [58880/60000 (98%)]\tLoss: 0.307823\n",
            "Train Epoch: 1 [59520/60000 (99%)]\tLoss: 0.363777\n"
          ]
        },
        {
          "output_type": "stream",
          "name": "stderr",
          "text": [
            "<ipython-input-56-f52337105c2a>:6: UserWarning: volatile was removed and now has no effect. Use `with torch.no_grad():` instead.\n",
            "  data, target = Variable(data, volatile=True), Variable(target)\n",
            "/usr/local/lib/python3.10/dist-packages/torch/nn/_reduction.py:42: UserWarning: size_average and reduce args will be deprecated, please use reduction='sum' instead.\n",
            "  warnings.warn(warning.format(ret))\n"
          ]
        },
        {
          "output_type": "stream",
          "name": "stdout",
          "text": [
            "\n",
            "Test set: Average loss: 0.1646, Accuracy: 9504/10000 (95%)\n",
            "\n",
            "Train Epoch: 2 [0/60000 (0%)]\tLoss: 0.201864\n",
            "Train Epoch: 2 [640/60000 (1%)]\tLoss: 0.075613\n",
            "Train Epoch: 2 [1280/60000 (2%)]\tLoss: 0.154274\n",
            "Train Epoch: 2 [1920/60000 (3%)]\tLoss: 0.200834\n",
            "Train Epoch: 2 [2560/60000 (4%)]\tLoss: 0.259817\n",
            "Train Epoch: 2 [3200/60000 (5%)]\tLoss: 0.266904\n",
            "Train Epoch: 2 [3840/60000 (6%)]\tLoss: 0.070891\n",
            "Train Epoch: 2 [4480/60000 (7%)]\tLoss: 0.153136\n",
            "Train Epoch: 2 [5120/60000 (9%)]\tLoss: 0.222462\n",
            "Train Epoch: 2 [5760/60000 (10%)]\tLoss: 0.054175\n",
            "Train Epoch: 2 [6400/60000 (11%)]\tLoss: 0.323388\n",
            "Train Epoch: 2 [7040/60000 (12%)]\tLoss: 0.103200\n",
            "Train Epoch: 2 [7680/60000 (13%)]\tLoss: 0.098906\n",
            "Train Epoch: 2 [8320/60000 (14%)]\tLoss: 0.266934\n",
            "Train Epoch: 2 [8960/60000 (15%)]\tLoss: 0.156470\n",
            "Train Epoch: 2 [9600/60000 (16%)]\tLoss: 0.246581\n",
            "Train Epoch: 2 [10240/60000 (17%)]\tLoss: 0.164587\n",
            "Train Epoch: 2 [10880/60000 (18%)]\tLoss: 0.244762\n",
            "Train Epoch: 2 [11520/60000 (19%)]\tLoss: 0.181817\n",
            "Train Epoch: 2 [12160/60000 (20%)]\tLoss: 0.089310\n",
            "Train Epoch: 2 [12800/60000 (21%)]\tLoss: 0.085543\n",
            "Train Epoch: 2 [13440/60000 (22%)]\tLoss: 0.131681\n",
            "Train Epoch: 2 [14080/60000 (23%)]\tLoss: 0.225507\n",
            "Train Epoch: 2 [14720/60000 (25%)]\tLoss: 0.077062\n",
            "Train Epoch: 2 [15360/60000 (26%)]\tLoss: 0.162379\n",
            "Train Epoch: 2 [16000/60000 (27%)]\tLoss: 0.239600\n",
            "Train Epoch: 2 [16640/60000 (28%)]\tLoss: 0.153677\n",
            "Train Epoch: 2 [17280/60000 (29%)]\tLoss: 0.112976\n",
            "Train Epoch: 2 [17920/60000 (30%)]\tLoss: 0.407342\n",
            "Train Epoch: 2 [18560/60000 (31%)]\tLoss: 0.097452\n",
            "Train Epoch: 2 [19200/60000 (32%)]\tLoss: 0.168803\n",
            "Train Epoch: 2 [19840/60000 (33%)]\tLoss: 0.238437\n",
            "Train Epoch: 2 [20480/60000 (34%)]\tLoss: 0.089953\n",
            "Train Epoch: 2 [21120/60000 (35%)]\tLoss: 0.076942\n",
            "Train Epoch: 2 [21760/60000 (36%)]\tLoss: 0.218127\n",
            "Train Epoch: 2 [22400/60000 (37%)]\tLoss: 0.106049\n",
            "Train Epoch: 2 [23040/60000 (38%)]\tLoss: 0.166475\n",
            "Train Epoch: 2 [23680/60000 (39%)]\tLoss: 0.105140\n",
            "Train Epoch: 2 [24320/60000 (41%)]\tLoss: 0.218152\n",
            "Train Epoch: 2 [24960/60000 (42%)]\tLoss: 0.230383\n",
            "Train Epoch: 2 [25600/60000 (43%)]\tLoss: 0.078685\n",
            "Train Epoch: 2 [26240/60000 (44%)]\tLoss: 0.131399\n",
            "Train Epoch: 2 [26880/60000 (45%)]\tLoss: 0.210346\n",
            "Train Epoch: 2 [27520/60000 (46%)]\tLoss: 0.135414\n",
            "Train Epoch: 2 [28160/60000 (47%)]\tLoss: 0.128563\n",
            "Train Epoch: 2 [28800/60000 (48%)]\tLoss: 0.116791\n",
            "Train Epoch: 2 [29440/60000 (49%)]\tLoss: 0.061852\n",
            "Train Epoch: 2 [30080/60000 (50%)]\tLoss: 0.073884\n",
            "Train Epoch: 2 [30720/60000 (51%)]\tLoss: 0.052092\n",
            "Train Epoch: 2 [31360/60000 (52%)]\tLoss: 0.102455\n",
            "Train Epoch: 2 [32000/60000 (53%)]\tLoss: 0.056015\n",
            "Train Epoch: 2 [32640/60000 (54%)]\tLoss: 0.182831\n",
            "Train Epoch: 2 [33280/60000 (55%)]\tLoss: 0.176110\n",
            "Train Epoch: 2 [33920/60000 (57%)]\tLoss: 0.237974\n",
            "Train Epoch: 2 [34560/60000 (58%)]\tLoss: 0.081260\n",
            "Train Epoch: 2 [35200/60000 (59%)]\tLoss: 0.030758\n",
            "Train Epoch: 2 [35840/60000 (60%)]\tLoss: 0.094665\n",
            "Train Epoch: 2 [36480/60000 (61%)]\tLoss: 0.084123\n",
            "Train Epoch: 2 [37120/60000 (62%)]\tLoss: 0.063712\n",
            "Train Epoch: 2 [37760/60000 (63%)]\tLoss: 0.063024\n",
            "Train Epoch: 2 [38400/60000 (64%)]\tLoss: 0.114328\n",
            "Train Epoch: 2 [39040/60000 (65%)]\tLoss: 0.244359\n",
            "Train Epoch: 2 [39680/60000 (66%)]\tLoss: 0.260734\n",
            "Train Epoch: 2 [40320/60000 (67%)]\tLoss: 0.137302\n",
            "Train Epoch: 2 [40960/60000 (68%)]\tLoss: 0.129305\n",
            "Train Epoch: 2 [41600/60000 (69%)]\tLoss: 0.088332\n",
            "Train Epoch: 2 [42240/60000 (70%)]\tLoss: 0.103455\n",
            "Train Epoch: 2 [42880/60000 (71%)]\tLoss: 0.139182\n",
            "Train Epoch: 2 [43520/60000 (72%)]\tLoss: 0.112156\n",
            "Train Epoch: 2 [44160/60000 (74%)]\tLoss: 0.215405\n",
            "Train Epoch: 2 [44800/60000 (75%)]\tLoss: 0.162673\n",
            "Train Epoch: 2 [45440/60000 (76%)]\tLoss: 0.139971\n",
            "Train Epoch: 2 [46080/60000 (77%)]\tLoss: 0.246534\n",
            "Train Epoch: 2 [46720/60000 (78%)]\tLoss: 0.255697\n",
            "Train Epoch: 2 [47360/60000 (79%)]\tLoss: 0.200296\n",
            "Train Epoch: 2 [48000/60000 (80%)]\tLoss: 0.323837\n",
            "Train Epoch: 2 [48640/60000 (81%)]\tLoss: 0.174747\n",
            "Train Epoch: 2 [49280/60000 (82%)]\tLoss: 0.125006\n",
            "Train Epoch: 2 [49920/60000 (83%)]\tLoss: 0.139354\n",
            "Train Epoch: 2 [50560/60000 (84%)]\tLoss: 0.234191\n",
            "Train Epoch: 2 [51200/60000 (85%)]\tLoss: 0.044477\n",
            "Train Epoch: 2 [51840/60000 (86%)]\tLoss: 0.136089\n",
            "Train Epoch: 2 [52480/60000 (87%)]\tLoss: 0.212957\n",
            "Train Epoch: 2 [53120/60000 (88%)]\tLoss: 0.120977\n",
            "Train Epoch: 2 [53760/60000 (90%)]\tLoss: 0.233583\n",
            "Train Epoch: 2 [54400/60000 (91%)]\tLoss: 0.276114\n",
            "Train Epoch: 2 [55040/60000 (92%)]\tLoss: 0.086157\n",
            "Train Epoch: 2 [55680/60000 (93%)]\tLoss: 0.070020\n",
            "Train Epoch: 2 [56320/60000 (94%)]\tLoss: 0.152499\n",
            "Train Epoch: 2 [56960/60000 (95%)]\tLoss: 0.283784\n",
            "Train Epoch: 2 [57600/60000 (96%)]\tLoss: 0.151876\n",
            "Train Epoch: 2 [58240/60000 (97%)]\tLoss: 0.167558\n",
            "Train Epoch: 2 [58880/60000 (98%)]\tLoss: 0.161919\n",
            "Train Epoch: 2 [59520/60000 (99%)]\tLoss: 0.078947\n",
            "\n",
            "Test set: Average loss: 0.1142, Accuracy: 9675/10000 (97%)\n",
            "\n",
            "Train Epoch: 3 [0/60000 (0%)]\tLoss: 0.134595\n",
            "Train Epoch: 3 [640/60000 (1%)]\tLoss: 0.090193\n",
            "Train Epoch: 3 [1280/60000 (2%)]\tLoss: 0.182638\n",
            "Train Epoch: 3 [1920/60000 (3%)]\tLoss: 0.088030\n",
            "Train Epoch: 3 [2560/60000 (4%)]\tLoss: 0.163274\n",
            "Train Epoch: 3 [3200/60000 (5%)]\tLoss: 0.221890\n",
            "Train Epoch: 3 [3840/60000 (6%)]\tLoss: 0.190609\n",
            "Train Epoch: 3 [4480/60000 (7%)]\tLoss: 0.037326\n",
            "Train Epoch: 3 [5120/60000 (9%)]\tLoss: 0.134987\n",
            "Train Epoch: 3 [5760/60000 (10%)]\tLoss: 0.127169\n",
            "Train Epoch: 3 [6400/60000 (11%)]\tLoss: 0.071643\n",
            "Train Epoch: 3 [7040/60000 (12%)]\tLoss: 0.042128\n",
            "Train Epoch: 3 [7680/60000 (13%)]\tLoss: 0.129434\n",
            "Train Epoch: 3 [8320/60000 (14%)]\tLoss: 0.113733\n",
            "Train Epoch: 3 [8960/60000 (15%)]\tLoss: 0.253405\n",
            "Train Epoch: 3 [9600/60000 (16%)]\tLoss: 0.119743\n",
            "Train Epoch: 3 [10240/60000 (17%)]\tLoss: 0.141451\n",
            "Train Epoch: 3 [10880/60000 (18%)]\tLoss: 0.168042\n",
            "Train Epoch: 3 [11520/60000 (19%)]\tLoss: 0.160579\n",
            "Train Epoch: 3 [12160/60000 (20%)]\tLoss: 0.137183\n",
            "Train Epoch: 3 [12800/60000 (21%)]\tLoss: 0.048699\n",
            "Train Epoch: 3 [13440/60000 (22%)]\tLoss: 0.158978\n",
            "Train Epoch: 3 [14080/60000 (23%)]\tLoss: 0.102776\n",
            "Train Epoch: 3 [14720/60000 (25%)]\tLoss: 0.149317\n",
            "Train Epoch: 3 [15360/60000 (26%)]\tLoss: 0.185924\n",
            "Train Epoch: 3 [16000/60000 (27%)]\tLoss: 0.206779\n",
            "Train Epoch: 3 [16640/60000 (28%)]\tLoss: 0.186892\n",
            "Train Epoch: 3 [17280/60000 (29%)]\tLoss: 0.035960\n",
            "Train Epoch: 3 [17920/60000 (30%)]\tLoss: 0.085995\n",
            "Train Epoch: 3 [18560/60000 (31%)]\tLoss: 0.025815\n",
            "Train Epoch: 3 [19200/60000 (32%)]\tLoss: 0.219605\n",
            "Train Epoch: 3 [19840/60000 (33%)]\tLoss: 0.110810\n",
            "Train Epoch: 3 [20480/60000 (34%)]\tLoss: 0.045209\n",
            "Train Epoch: 3 [21120/60000 (35%)]\tLoss: 0.080433\n",
            "Train Epoch: 3 [21760/60000 (36%)]\tLoss: 0.250600\n",
            "Train Epoch: 3 [22400/60000 (37%)]\tLoss: 0.195346\n",
            "Train Epoch: 3 [23040/60000 (38%)]\tLoss: 0.103971\n",
            "Train Epoch: 3 [23680/60000 (39%)]\tLoss: 0.058464\n",
            "Train Epoch: 3 [24320/60000 (41%)]\tLoss: 0.127045\n",
            "Train Epoch: 3 [24960/60000 (42%)]\tLoss: 0.032214\n",
            "Train Epoch: 3 [25600/60000 (43%)]\tLoss: 0.019299\n",
            "Train Epoch: 3 [26240/60000 (44%)]\tLoss: 0.170423\n",
            "Train Epoch: 3 [26880/60000 (45%)]\tLoss: 0.154171\n",
            "Train Epoch: 3 [27520/60000 (46%)]\tLoss: 0.143852\n",
            "Train Epoch: 3 [28160/60000 (47%)]\tLoss: 0.090635\n",
            "Train Epoch: 3 [28800/60000 (48%)]\tLoss: 0.041948\n",
            "Train Epoch: 3 [29440/60000 (49%)]\tLoss: 0.109477\n",
            "Train Epoch: 3 [30080/60000 (50%)]\tLoss: 0.047707\n",
            "Train Epoch: 3 [30720/60000 (51%)]\tLoss: 0.056658\n",
            "Train Epoch: 3 [31360/60000 (52%)]\tLoss: 0.084368\n",
            "Train Epoch: 3 [32000/60000 (53%)]\tLoss: 0.075001\n",
            "Train Epoch: 3 [32640/60000 (54%)]\tLoss: 0.057743\n",
            "Train Epoch: 3 [33280/60000 (55%)]\tLoss: 0.152974\n",
            "Train Epoch: 3 [33920/60000 (57%)]\tLoss: 0.246028\n",
            "Train Epoch: 3 [34560/60000 (58%)]\tLoss: 0.176165\n",
            "Train Epoch: 3 [35200/60000 (59%)]\tLoss: 0.111203\n",
            "Train Epoch: 3 [35840/60000 (60%)]\tLoss: 0.210260\n",
            "Train Epoch: 3 [36480/60000 (61%)]\tLoss: 0.148579\n",
            "Train Epoch: 3 [37120/60000 (62%)]\tLoss: 0.074542\n",
            "Train Epoch: 3 [37760/60000 (63%)]\tLoss: 0.021354\n",
            "Train Epoch: 3 [38400/60000 (64%)]\tLoss: 0.092004\n",
            "Train Epoch: 3 [39040/60000 (65%)]\tLoss: 0.067834\n",
            "Train Epoch: 3 [39680/60000 (66%)]\tLoss: 0.122958\n",
            "Train Epoch: 3 [40320/60000 (67%)]\tLoss: 0.274352\n",
            "Train Epoch: 3 [40960/60000 (68%)]\tLoss: 0.091293\n",
            "Train Epoch: 3 [41600/60000 (69%)]\tLoss: 0.028007\n",
            "Train Epoch: 3 [42240/60000 (70%)]\tLoss: 0.077207\n",
            "Train Epoch: 3 [42880/60000 (71%)]\tLoss: 0.110104\n",
            "Train Epoch: 3 [43520/60000 (72%)]\tLoss: 0.176522\n",
            "Train Epoch: 3 [44160/60000 (74%)]\tLoss: 0.121319\n",
            "Train Epoch: 3 [44800/60000 (75%)]\tLoss: 0.307402\n",
            "Train Epoch: 3 [45440/60000 (76%)]\tLoss: 0.049296\n",
            "Train Epoch: 3 [46080/60000 (77%)]\tLoss: 0.032730\n",
            "Train Epoch: 3 [46720/60000 (78%)]\tLoss: 0.182389\n",
            "Train Epoch: 3 [47360/60000 (79%)]\tLoss: 0.018852\n",
            "Train Epoch: 3 [48000/60000 (80%)]\tLoss: 0.193430\n",
            "Train Epoch: 3 [48640/60000 (81%)]\tLoss: 0.236819\n",
            "Train Epoch: 3 [49280/60000 (82%)]\tLoss: 0.145790\n",
            "Train Epoch: 3 [49920/60000 (83%)]\tLoss: 0.223472\n",
            "Train Epoch: 3 [50560/60000 (84%)]\tLoss: 0.118085\n",
            "Train Epoch: 3 [51200/60000 (85%)]\tLoss: 0.173218\n",
            "Train Epoch: 3 [51840/60000 (86%)]\tLoss: 0.065847\n",
            "Train Epoch: 3 [52480/60000 (87%)]\tLoss: 0.091887\n",
            "Train Epoch: 3 [53120/60000 (88%)]\tLoss: 0.059544\n",
            "Train Epoch: 3 [53760/60000 (90%)]\tLoss: 0.116552\n",
            "Train Epoch: 3 [54400/60000 (91%)]\tLoss: 0.034339\n",
            "Train Epoch: 3 [55040/60000 (92%)]\tLoss: 0.164468\n",
            "Train Epoch: 3 [55680/60000 (93%)]\tLoss: 0.075676\n",
            "Train Epoch: 3 [56320/60000 (94%)]\tLoss: 0.094449\n",
            "Train Epoch: 3 [56960/60000 (95%)]\tLoss: 0.166851\n",
            "Train Epoch: 3 [57600/60000 (96%)]\tLoss: 0.048000\n",
            "Train Epoch: 3 [58240/60000 (97%)]\tLoss: 0.128367\n",
            "Train Epoch: 3 [58880/60000 (98%)]\tLoss: 0.197781\n",
            "Train Epoch: 3 [59520/60000 (99%)]\tLoss: 0.260894\n",
            "\n",
            "Test set: Average loss: 0.0849, Accuracy: 9743/10000 (97%)\n",
            "\n",
            "Train Epoch: 4 [0/60000 (0%)]\tLoss: 0.122657\n",
            "Train Epoch: 4 [640/60000 (1%)]\tLoss: 0.252797\n",
            "Train Epoch: 4 [1280/60000 (2%)]\tLoss: 0.120497\n",
            "Train Epoch: 4 [1920/60000 (3%)]\tLoss: 0.126474\n",
            "Train Epoch: 4 [2560/60000 (4%)]\tLoss: 0.096165\n",
            "Train Epoch: 4 [3200/60000 (5%)]\tLoss: 0.217247\n",
            "Train Epoch: 4 [3840/60000 (6%)]\tLoss: 0.014054\n",
            "Train Epoch: 4 [4480/60000 (7%)]\tLoss: 0.050371\n",
            "Train Epoch: 4 [5120/60000 (9%)]\tLoss: 0.098433\n",
            "Train Epoch: 4 [5760/60000 (10%)]\tLoss: 0.041971\n",
            "Train Epoch: 4 [6400/60000 (11%)]\tLoss: 0.065980\n",
            "Train Epoch: 4 [7040/60000 (12%)]\tLoss: 0.140196\n",
            "Train Epoch: 4 [7680/60000 (13%)]\tLoss: 0.071811\n",
            "Train Epoch: 4 [8320/60000 (14%)]\tLoss: 0.150250\n",
            "Train Epoch: 4 [8960/60000 (15%)]\tLoss: 0.038571\n",
            "Train Epoch: 4 [9600/60000 (16%)]\tLoss: 0.132591\n",
            "Train Epoch: 4 [10240/60000 (17%)]\tLoss: 0.019596\n",
            "Train Epoch: 4 [10880/60000 (18%)]\tLoss: 0.215486\n",
            "Train Epoch: 4 [11520/60000 (19%)]\tLoss: 0.143717\n",
            "Train Epoch: 4 [12160/60000 (20%)]\tLoss: 0.230199\n",
            "Train Epoch: 4 [12800/60000 (21%)]\tLoss: 0.026811\n",
            "Train Epoch: 4 [13440/60000 (22%)]\tLoss: 0.060521\n",
            "Train Epoch: 4 [14080/60000 (23%)]\tLoss: 0.076222\n",
            "Train Epoch: 4 [14720/60000 (25%)]\tLoss: 0.063711\n",
            "Train Epoch: 4 [15360/60000 (26%)]\tLoss: 0.058094\n",
            "Train Epoch: 4 [16000/60000 (27%)]\tLoss: 0.177111\n",
            "Train Epoch: 4 [16640/60000 (28%)]\tLoss: 0.103993\n",
            "Train Epoch: 4 [17280/60000 (29%)]\tLoss: 0.177493\n",
            "Train Epoch: 4 [17920/60000 (30%)]\tLoss: 0.024038\n",
            "Train Epoch: 4 [18560/60000 (31%)]\tLoss: 0.078577\n",
            "Train Epoch: 4 [19200/60000 (32%)]\tLoss: 0.051365\n",
            "Train Epoch: 4 [19840/60000 (33%)]\tLoss: 0.028963\n",
            "Train Epoch: 4 [20480/60000 (34%)]\tLoss: 0.216742\n",
            "Train Epoch: 4 [21120/60000 (35%)]\tLoss: 0.062623\n",
            "Train Epoch: 4 [21760/60000 (36%)]\tLoss: 0.017927\n",
            "Train Epoch: 4 [22400/60000 (37%)]\tLoss: 0.288666\n",
            "Train Epoch: 4 [23040/60000 (38%)]\tLoss: 0.030649\n",
            "Train Epoch: 4 [23680/60000 (39%)]\tLoss: 0.099449\n",
            "Train Epoch: 4 [24320/60000 (41%)]\tLoss: 0.084457\n",
            "Train Epoch: 4 [24960/60000 (42%)]\tLoss: 0.020662\n",
            "Train Epoch: 4 [25600/60000 (43%)]\tLoss: 0.041448\n",
            "Train Epoch: 4 [26240/60000 (44%)]\tLoss: 0.185407\n",
            "Train Epoch: 4 [26880/60000 (45%)]\tLoss: 0.084934\n",
            "Train Epoch: 4 [27520/60000 (46%)]\tLoss: 0.114341\n",
            "Train Epoch: 4 [28160/60000 (47%)]\tLoss: 0.059362\n",
            "Train Epoch: 4 [28800/60000 (48%)]\tLoss: 0.098138\n",
            "Train Epoch: 4 [29440/60000 (49%)]\tLoss: 0.135689\n",
            "Train Epoch: 4 [30080/60000 (50%)]\tLoss: 0.057433\n",
            "Train Epoch: 4 [30720/60000 (51%)]\tLoss: 0.278697\n",
            "Train Epoch: 4 [31360/60000 (52%)]\tLoss: 0.124026\n",
            "Train Epoch: 4 [32000/60000 (53%)]\tLoss: 0.172906\n",
            "Train Epoch: 4 [32640/60000 (54%)]\tLoss: 0.059666\n",
            "Train Epoch: 4 [33280/60000 (55%)]\tLoss: 0.119114\n",
            "Train Epoch: 4 [33920/60000 (57%)]\tLoss: 0.071996\n",
            "Train Epoch: 4 [34560/60000 (58%)]\tLoss: 0.073322\n",
            "Train Epoch: 4 [35200/60000 (59%)]\tLoss: 0.087608\n",
            "Train Epoch: 4 [35840/60000 (60%)]\tLoss: 0.090454\n",
            "Train Epoch: 4 [36480/60000 (61%)]\tLoss: 0.029372\n",
            "Train Epoch: 4 [37120/60000 (62%)]\tLoss: 0.066414\n",
            "Train Epoch: 4 [37760/60000 (63%)]\tLoss: 0.030128\n",
            "Train Epoch: 4 [38400/60000 (64%)]\tLoss: 0.061899\n",
            "Train Epoch: 4 [39040/60000 (65%)]\tLoss: 0.203461\n",
            "Train Epoch: 4 [39680/60000 (66%)]\tLoss: 0.078375\n",
            "Train Epoch: 4 [40320/60000 (67%)]\tLoss: 0.019102\n",
            "Train Epoch: 4 [40960/60000 (68%)]\tLoss: 0.127985\n",
            "Train Epoch: 4 [41600/60000 (69%)]\tLoss: 0.078032\n",
            "Train Epoch: 4 [42240/60000 (70%)]\tLoss: 0.056710\n",
            "Train Epoch: 4 [42880/60000 (71%)]\tLoss: 0.124231\n",
            "Train Epoch: 4 [43520/60000 (72%)]\tLoss: 0.032722\n",
            "Train Epoch: 4 [44160/60000 (74%)]\tLoss: 0.396111\n",
            "Train Epoch: 4 [44800/60000 (75%)]\tLoss: 0.273297\n",
            "Train Epoch: 4 [45440/60000 (76%)]\tLoss: 0.052131\n",
            "Train Epoch: 4 [46080/60000 (77%)]\tLoss: 0.044879\n",
            "Train Epoch: 4 [46720/60000 (78%)]\tLoss: 0.062187\n",
            "Train Epoch: 4 [47360/60000 (79%)]\tLoss: 0.049979\n",
            "Train Epoch: 4 [48000/60000 (80%)]\tLoss: 0.027491\n",
            "Train Epoch: 4 [48640/60000 (81%)]\tLoss: 0.141539\n",
            "Train Epoch: 4 [49280/60000 (82%)]\tLoss: 0.050638\n",
            "Train Epoch: 4 [49920/60000 (83%)]\tLoss: 0.171425\n",
            "Train Epoch: 4 [50560/60000 (84%)]\tLoss: 0.086883\n",
            "Train Epoch: 4 [51200/60000 (85%)]\tLoss: 0.133808\n",
            "Train Epoch: 4 [51840/60000 (86%)]\tLoss: 0.084961\n",
            "Train Epoch: 4 [52480/60000 (87%)]\tLoss: 0.083546\n",
            "Train Epoch: 4 [53120/60000 (88%)]\tLoss: 0.102997\n",
            "Train Epoch: 4 [53760/60000 (90%)]\tLoss: 0.170527\n",
            "Train Epoch: 4 [54400/60000 (91%)]\tLoss: 0.019667\n",
            "Train Epoch: 4 [55040/60000 (92%)]\tLoss: 0.043238\n",
            "Train Epoch: 4 [55680/60000 (93%)]\tLoss: 0.255112\n",
            "Train Epoch: 4 [56320/60000 (94%)]\tLoss: 0.144106\n",
            "Train Epoch: 4 [56960/60000 (95%)]\tLoss: 0.065065\n",
            "Train Epoch: 4 [57600/60000 (96%)]\tLoss: 0.033967\n",
            "Train Epoch: 4 [58240/60000 (97%)]\tLoss: 0.097290\n",
            "Train Epoch: 4 [58880/60000 (98%)]\tLoss: 0.137351\n",
            "Train Epoch: 4 [59520/60000 (99%)]\tLoss: 0.124303\n",
            "\n",
            "Test set: Average loss: 0.0752, Accuracy: 9764/10000 (98%)\n",
            "\n",
            "Train Epoch: 5 [0/60000 (0%)]\tLoss: 0.100871\n",
            "Train Epoch: 5 [640/60000 (1%)]\tLoss: 0.078859\n",
            "Train Epoch: 5 [1280/60000 (2%)]\tLoss: 0.024567\n",
            "Train Epoch: 5 [1920/60000 (3%)]\tLoss: 0.021121\n",
            "Train Epoch: 5 [2560/60000 (4%)]\tLoss: 0.102720\n",
            "Train Epoch: 5 [3200/60000 (5%)]\tLoss: 0.189849\n",
            "Train Epoch: 5 [3840/60000 (6%)]\tLoss: 0.078919\n",
            "Train Epoch: 5 [4480/60000 (7%)]\tLoss: 0.123580\n",
            "Train Epoch: 5 [5120/60000 (9%)]\tLoss: 0.083616\n",
            "Train Epoch: 5 [5760/60000 (10%)]\tLoss: 0.031619\n",
            "Train Epoch: 5 [6400/60000 (11%)]\tLoss: 0.031194\n",
            "Train Epoch: 5 [7040/60000 (12%)]\tLoss: 0.021839\n",
            "Train Epoch: 5 [7680/60000 (13%)]\tLoss: 0.032418\n",
            "Train Epoch: 5 [8320/60000 (14%)]\tLoss: 0.047667\n",
            "Train Epoch: 5 [8960/60000 (15%)]\tLoss: 0.062781\n",
            "Train Epoch: 5 [9600/60000 (16%)]\tLoss: 0.128983\n",
            "Train Epoch: 5 [10240/60000 (17%)]\tLoss: 0.027791\n",
            "Train Epoch: 5 [10880/60000 (18%)]\tLoss: 0.032424\n",
            "Train Epoch: 5 [11520/60000 (19%)]\tLoss: 0.040882\n",
            "Train Epoch: 5 [12160/60000 (20%)]\tLoss: 0.146135\n",
            "Train Epoch: 5 [12800/60000 (21%)]\tLoss: 0.017218\n",
            "Train Epoch: 5 [13440/60000 (22%)]\tLoss: 0.171511\n",
            "Train Epoch: 5 [14080/60000 (23%)]\tLoss: 0.045425\n",
            "Train Epoch: 5 [14720/60000 (25%)]\tLoss: 0.017622\n",
            "Train Epoch: 5 [15360/60000 (26%)]\tLoss: 0.077327\n",
            "Train Epoch: 5 [16000/60000 (27%)]\tLoss: 0.107998\n",
            "Train Epoch: 5 [16640/60000 (28%)]\tLoss: 0.102621\n",
            "Train Epoch: 5 [17280/60000 (29%)]\tLoss: 0.048390\n",
            "Train Epoch: 5 [17920/60000 (30%)]\tLoss: 0.060573\n",
            "Train Epoch: 5 [18560/60000 (31%)]\tLoss: 0.125652\n",
            "Train Epoch: 5 [19200/60000 (32%)]\tLoss: 0.047726\n",
            "Train Epoch: 5 [19840/60000 (33%)]\tLoss: 0.006047\n",
            "Train Epoch: 5 [20480/60000 (34%)]\tLoss: 0.088660\n",
            "Train Epoch: 5 [21120/60000 (35%)]\tLoss: 0.031537\n",
            "Train Epoch: 5 [21760/60000 (36%)]\tLoss: 0.067748\n",
            "Train Epoch: 5 [22400/60000 (37%)]\tLoss: 0.076766\n",
            "Train Epoch: 5 [23040/60000 (38%)]\tLoss: 0.038226\n",
            "Train Epoch: 5 [23680/60000 (39%)]\tLoss: 0.022796\n",
            "Train Epoch: 5 [24320/60000 (41%)]\tLoss: 0.088520\n",
            "Train Epoch: 5 [24960/60000 (42%)]\tLoss: 0.149578\n",
            "Train Epoch: 5 [25600/60000 (43%)]\tLoss: 0.138460\n",
            "Train Epoch: 5 [26240/60000 (44%)]\tLoss: 0.078757\n",
            "Train Epoch: 5 [26880/60000 (45%)]\tLoss: 0.281445\n",
            "Train Epoch: 5 [27520/60000 (46%)]\tLoss: 0.092381\n",
            "Train Epoch: 5 [28160/60000 (47%)]\tLoss: 0.092739\n",
            "Train Epoch: 5 [28800/60000 (48%)]\tLoss: 0.031021\n",
            "Train Epoch: 5 [29440/60000 (49%)]\tLoss: 0.039529\n",
            "Train Epoch: 5 [30080/60000 (50%)]\tLoss: 0.088245\n",
            "Train Epoch: 5 [30720/60000 (51%)]\tLoss: 0.073942\n",
            "Train Epoch: 5 [31360/60000 (52%)]\tLoss: 0.105121\n",
            "Train Epoch: 5 [32000/60000 (53%)]\tLoss: 0.172627\n",
            "Train Epoch: 5 [32640/60000 (54%)]\tLoss: 0.070041\n",
            "Train Epoch: 5 [33280/60000 (55%)]\tLoss: 0.052050\n",
            "Train Epoch: 5 [33920/60000 (57%)]\tLoss: 0.071721\n",
            "Train Epoch: 5 [34560/60000 (58%)]\tLoss: 0.061239\n",
            "Train Epoch: 5 [35200/60000 (59%)]\tLoss: 0.130294\n",
            "Train Epoch: 5 [35840/60000 (60%)]\tLoss: 0.008503\n",
            "Train Epoch: 5 [36480/60000 (61%)]\tLoss: 0.095634\n",
            "Train Epoch: 5 [37120/60000 (62%)]\tLoss: 0.284784\n",
            "Train Epoch: 5 [37760/60000 (63%)]\tLoss: 0.055112\n",
            "Train Epoch: 5 [38400/60000 (64%)]\tLoss: 0.110535\n",
            "Train Epoch: 5 [39040/60000 (65%)]\tLoss: 0.026413\n",
            "Train Epoch: 5 [39680/60000 (66%)]\tLoss: 0.062970\n",
            "Train Epoch: 5 [40320/60000 (67%)]\tLoss: 0.089603\n",
            "Train Epoch: 5 [40960/60000 (68%)]\tLoss: 0.185267\n",
            "Train Epoch: 5 [41600/60000 (69%)]\tLoss: 0.183403\n",
            "Train Epoch: 5 [42240/60000 (70%)]\tLoss: 0.127347\n",
            "Train Epoch: 5 [42880/60000 (71%)]\tLoss: 0.130974\n",
            "Train Epoch: 5 [43520/60000 (72%)]\tLoss: 0.049231\n",
            "Train Epoch: 5 [44160/60000 (74%)]\tLoss: 0.044775\n",
            "Train Epoch: 5 [44800/60000 (75%)]\tLoss: 0.075300\n",
            "Train Epoch: 5 [45440/60000 (76%)]\tLoss: 0.192296\n",
            "Train Epoch: 5 [46080/60000 (77%)]\tLoss: 0.031233\n",
            "Train Epoch: 5 [46720/60000 (78%)]\tLoss: 0.091359\n",
            "Train Epoch: 5 [47360/60000 (79%)]\tLoss: 0.015885\n",
            "Train Epoch: 5 [48000/60000 (80%)]\tLoss: 0.024274\n",
            "Train Epoch: 5 [48640/60000 (81%)]\tLoss: 0.083316\n",
            "Train Epoch: 5 [49280/60000 (82%)]\tLoss: 0.057929\n",
            "Train Epoch: 5 [49920/60000 (83%)]\tLoss: 0.007398\n",
            "Train Epoch: 5 [50560/60000 (84%)]\tLoss: 0.040918\n",
            "Train Epoch: 5 [51200/60000 (85%)]\tLoss: 0.073262\n",
            "Train Epoch: 5 [51840/60000 (86%)]\tLoss: 0.137811\n",
            "Train Epoch: 5 [52480/60000 (87%)]\tLoss: 0.064175\n",
            "Train Epoch: 5 [53120/60000 (88%)]\tLoss: 0.111859\n",
            "Train Epoch: 5 [53760/60000 (90%)]\tLoss: 0.015231\n",
            "Train Epoch: 5 [54400/60000 (91%)]\tLoss: 0.032147\n",
            "Train Epoch: 5 [55040/60000 (92%)]\tLoss: 0.029257\n",
            "Train Epoch: 5 [55680/60000 (93%)]\tLoss: 0.069802\n",
            "Train Epoch: 5 [56320/60000 (94%)]\tLoss: 0.046398\n",
            "Train Epoch: 5 [56960/60000 (95%)]\tLoss: 0.027755\n",
            "Train Epoch: 5 [57600/60000 (96%)]\tLoss: 0.198999\n",
            "Train Epoch: 5 [58240/60000 (97%)]\tLoss: 0.189255\n",
            "Train Epoch: 5 [58880/60000 (98%)]\tLoss: 0.042614\n",
            "Train Epoch: 5 [59520/60000 (99%)]\tLoss: 0.050658\n",
            "\n",
            "Test set: Average loss: 0.0651, Accuracy: 9796/10000 (98%)\n",
            "\n",
            "Train Epoch: 6 [0/60000 (0%)]\tLoss: 0.042471\n",
            "Train Epoch: 6 [640/60000 (1%)]\tLoss: 0.098668\n",
            "Train Epoch: 6 [1280/60000 (2%)]\tLoss: 0.032321\n",
            "Train Epoch: 6 [1920/60000 (3%)]\tLoss: 0.060394\n",
            "Train Epoch: 6 [2560/60000 (4%)]\tLoss: 0.038476\n",
            "Train Epoch: 6 [3200/60000 (5%)]\tLoss: 0.016241\n",
            "Train Epoch: 6 [3840/60000 (6%)]\tLoss: 0.032927\n",
            "Train Epoch: 6 [4480/60000 (7%)]\tLoss: 0.014091\n",
            "Train Epoch: 6 [5120/60000 (9%)]\tLoss: 0.086501\n",
            "Train Epoch: 6 [5760/60000 (10%)]\tLoss: 0.080012\n",
            "Train Epoch: 6 [6400/60000 (11%)]\tLoss: 0.022216\n",
            "Train Epoch: 6 [7040/60000 (12%)]\tLoss: 0.273740\n",
            "Train Epoch: 6 [7680/60000 (13%)]\tLoss: 0.032101\n",
            "Train Epoch: 6 [8320/60000 (14%)]\tLoss: 0.081491\n",
            "Train Epoch: 6 [8960/60000 (15%)]\tLoss: 0.017051\n",
            "Train Epoch: 6 [9600/60000 (16%)]\tLoss: 0.027214\n",
            "Train Epoch: 6 [10240/60000 (17%)]\tLoss: 0.039932\n",
            "Train Epoch: 6 [10880/60000 (18%)]\tLoss: 0.055075\n",
            "Train Epoch: 6 [11520/60000 (19%)]\tLoss: 0.050578\n",
            "Train Epoch: 6 [12160/60000 (20%)]\tLoss: 0.112167\n",
            "Train Epoch: 6 [12800/60000 (21%)]\tLoss: 0.023674\n",
            "Train Epoch: 6 [13440/60000 (22%)]\tLoss: 0.088531\n",
            "Train Epoch: 6 [14080/60000 (23%)]\tLoss: 0.024051\n",
            "Train Epoch: 6 [14720/60000 (25%)]\tLoss: 0.092902\n",
            "Train Epoch: 6 [15360/60000 (26%)]\tLoss: 0.078109\n",
            "Train Epoch: 6 [16000/60000 (27%)]\tLoss: 0.148607\n",
            "Train Epoch: 6 [16640/60000 (28%)]\tLoss: 0.100220\n",
            "Train Epoch: 6 [17280/60000 (29%)]\tLoss: 0.061159\n",
            "Train Epoch: 6 [17920/60000 (30%)]\tLoss: 0.028563\n",
            "Train Epoch: 6 [18560/60000 (31%)]\tLoss: 0.092933\n",
            "Train Epoch: 6 [19200/60000 (32%)]\tLoss: 0.040408\n",
            "Train Epoch: 6 [19840/60000 (33%)]\tLoss: 0.018007\n",
            "Train Epoch: 6 [20480/60000 (34%)]\tLoss: 0.118520\n",
            "Train Epoch: 6 [21120/60000 (35%)]\tLoss: 0.051180\n",
            "Train Epoch: 6 [21760/60000 (36%)]\tLoss: 0.047383\n",
            "Train Epoch: 6 [22400/60000 (37%)]\tLoss: 0.017456\n",
            "Train Epoch: 6 [23040/60000 (38%)]\tLoss: 0.022237\n",
            "Train Epoch: 6 [23680/60000 (39%)]\tLoss: 0.112481\n",
            "Train Epoch: 6 [24320/60000 (41%)]\tLoss: 0.026667\n",
            "Train Epoch: 6 [24960/60000 (42%)]\tLoss: 0.041321\n",
            "Train Epoch: 6 [25600/60000 (43%)]\tLoss: 0.025281\n",
            "Train Epoch: 6 [26240/60000 (44%)]\tLoss: 0.040850\n",
            "Train Epoch: 6 [26880/60000 (45%)]\tLoss: 0.113968\n",
            "Train Epoch: 6 [27520/60000 (46%)]\tLoss: 0.068516\n",
            "Train Epoch: 6 [28160/60000 (47%)]\tLoss: 0.133371\n",
            "Train Epoch: 6 [28800/60000 (48%)]\tLoss: 0.022620\n",
            "Train Epoch: 6 [29440/60000 (49%)]\tLoss: 0.042235\n",
            "Train Epoch: 6 [30080/60000 (50%)]\tLoss: 0.112809\n",
            "Train Epoch: 6 [30720/60000 (51%)]\tLoss: 0.037453\n",
            "Train Epoch: 6 [31360/60000 (52%)]\tLoss: 0.222726\n",
            "Train Epoch: 6 [32000/60000 (53%)]\tLoss: 0.093125\n",
            "Train Epoch: 6 [32640/60000 (54%)]\tLoss: 0.197257\n",
            "Train Epoch: 6 [33280/60000 (55%)]\tLoss: 0.022521\n",
            "Train Epoch: 6 [33920/60000 (57%)]\tLoss: 0.066581\n",
            "Train Epoch: 6 [34560/60000 (58%)]\tLoss: 0.175012\n",
            "Train Epoch: 6 [35200/60000 (59%)]\tLoss: 0.135964\n",
            "Train Epoch: 6 [35840/60000 (60%)]\tLoss: 0.113020\n",
            "Train Epoch: 6 [36480/60000 (61%)]\tLoss: 0.034923\n",
            "Train Epoch: 6 [37120/60000 (62%)]\tLoss: 0.063117\n",
            "Train Epoch: 6 [37760/60000 (63%)]\tLoss: 0.105159\n",
            "Train Epoch: 6 [38400/60000 (64%)]\tLoss: 0.024090\n",
            "Train Epoch: 6 [39040/60000 (65%)]\tLoss: 0.083993\n",
            "Train Epoch: 6 [39680/60000 (66%)]\tLoss: 0.116810\n",
            "Train Epoch: 6 [40320/60000 (67%)]\tLoss: 0.100066\n",
            "Train Epoch: 6 [40960/60000 (68%)]\tLoss: 0.129956\n",
            "Train Epoch: 6 [41600/60000 (69%)]\tLoss: 0.292261\n",
            "Train Epoch: 6 [42240/60000 (70%)]\tLoss: 0.045525\n",
            "Train Epoch: 6 [42880/60000 (71%)]\tLoss: 0.019226\n",
            "Train Epoch: 6 [43520/60000 (72%)]\tLoss: 0.014528\n",
            "Train Epoch: 6 [44160/60000 (74%)]\tLoss: 0.015109\n",
            "Train Epoch: 6 [44800/60000 (75%)]\tLoss: 0.034160\n",
            "Train Epoch: 6 [45440/60000 (76%)]\tLoss: 0.035825\n",
            "Train Epoch: 6 [46080/60000 (77%)]\tLoss: 0.092461\n",
            "Train Epoch: 6 [46720/60000 (78%)]\tLoss: 0.096032\n",
            "Train Epoch: 6 [47360/60000 (79%)]\tLoss: 0.009393\n",
            "Train Epoch: 6 [48000/60000 (80%)]\tLoss: 0.054078\n",
            "Train Epoch: 6 [48640/60000 (81%)]\tLoss: 0.029475\n",
            "Train Epoch: 6 [49280/60000 (82%)]\tLoss: 0.067678\n",
            "Train Epoch: 6 [49920/60000 (83%)]\tLoss: 0.030224\n",
            "Train Epoch: 6 [50560/60000 (84%)]\tLoss: 0.009993\n",
            "Train Epoch: 6 [51200/60000 (85%)]\tLoss: 0.058474\n",
            "Train Epoch: 6 [51840/60000 (86%)]\tLoss: 0.036630\n",
            "Train Epoch: 6 [52480/60000 (87%)]\tLoss: 0.132441\n",
            "Train Epoch: 6 [53120/60000 (88%)]\tLoss: 0.116155\n",
            "Train Epoch: 6 [53760/60000 (90%)]\tLoss: 0.043001\n",
            "Train Epoch: 6 [54400/60000 (91%)]\tLoss: 0.288444\n",
            "Train Epoch: 6 [55040/60000 (92%)]\tLoss: 0.076333\n",
            "Train Epoch: 6 [55680/60000 (93%)]\tLoss: 0.040280\n",
            "Train Epoch: 6 [56320/60000 (94%)]\tLoss: 0.040181\n",
            "Train Epoch: 6 [56960/60000 (95%)]\tLoss: 0.070288\n",
            "Train Epoch: 6 [57600/60000 (96%)]\tLoss: 0.115086\n",
            "Train Epoch: 6 [58240/60000 (97%)]\tLoss: 0.269692\n",
            "Train Epoch: 6 [58880/60000 (98%)]\tLoss: 0.009461\n",
            "Train Epoch: 6 [59520/60000 (99%)]\tLoss: 0.091115\n",
            "\n",
            "Test set: Average loss: 0.0632, Accuracy: 9798/10000 (98%)\n",
            "\n",
            "Train Epoch: 7 [0/60000 (0%)]\tLoss: 0.047764\n",
            "Train Epoch: 7 [640/60000 (1%)]\tLoss: 0.060102\n",
            "Train Epoch: 7 [1280/60000 (2%)]\tLoss: 0.067484\n",
            "Train Epoch: 7 [1920/60000 (3%)]\tLoss: 0.057946\n",
            "Train Epoch: 7 [2560/60000 (4%)]\tLoss: 0.026861\n",
            "Train Epoch: 7 [3200/60000 (5%)]\tLoss: 0.037234\n",
            "Train Epoch: 7 [3840/60000 (6%)]\tLoss: 0.059976\n",
            "Train Epoch: 7 [4480/60000 (7%)]\tLoss: 0.014505\n",
            "Train Epoch: 7 [5120/60000 (9%)]\tLoss: 0.075181\n",
            "Train Epoch: 7 [5760/60000 (10%)]\tLoss: 0.190521\n",
            "Train Epoch: 7 [6400/60000 (11%)]\tLoss: 0.112156\n",
            "Train Epoch: 7 [7040/60000 (12%)]\tLoss: 0.084477\n",
            "Train Epoch: 7 [7680/60000 (13%)]\tLoss: 0.043780\n",
            "Train Epoch: 7 [8320/60000 (14%)]\tLoss: 0.039471\n",
            "Train Epoch: 7 [8960/60000 (15%)]\tLoss: 0.027936\n",
            "Train Epoch: 7 [9600/60000 (16%)]\tLoss: 0.066389\n",
            "Train Epoch: 7 [10240/60000 (17%)]\tLoss: 0.082795\n",
            "Train Epoch: 7 [10880/60000 (18%)]\tLoss: 0.030713\n",
            "Train Epoch: 7 [11520/60000 (19%)]\tLoss: 0.039820\n",
            "Train Epoch: 7 [12160/60000 (20%)]\tLoss: 0.086264\n",
            "Train Epoch: 7 [12800/60000 (21%)]\tLoss: 0.115567\n",
            "Train Epoch: 7 [13440/60000 (22%)]\tLoss: 0.021740\n",
            "Train Epoch: 7 [14080/60000 (23%)]\tLoss: 0.015193\n",
            "Train Epoch: 7 [14720/60000 (25%)]\tLoss: 0.022530\n",
            "Train Epoch: 7 [15360/60000 (26%)]\tLoss: 0.073231\n",
            "Train Epoch: 7 [16000/60000 (27%)]\tLoss: 0.028805\n",
            "Train Epoch: 7 [16640/60000 (28%)]\tLoss: 0.054346\n",
            "Train Epoch: 7 [17280/60000 (29%)]\tLoss: 0.033124\n",
            "Train Epoch: 7 [17920/60000 (30%)]\tLoss: 0.036131\n",
            "Train Epoch: 7 [18560/60000 (31%)]\tLoss: 0.070942\n",
            "Train Epoch: 7 [19200/60000 (32%)]\tLoss: 0.080474\n",
            "Train Epoch: 7 [19840/60000 (33%)]\tLoss: 0.053109\n",
            "Train Epoch: 7 [20480/60000 (34%)]\tLoss: 0.112317\n",
            "Train Epoch: 7 [21120/60000 (35%)]\tLoss: 0.085756\n",
            "Train Epoch: 7 [21760/60000 (36%)]\tLoss: 0.024981\n",
            "Train Epoch: 7 [22400/60000 (37%)]\tLoss: 0.046077\n",
            "Train Epoch: 7 [23040/60000 (38%)]\tLoss: 0.048448\n",
            "Train Epoch: 7 [23680/60000 (39%)]\tLoss: 0.094705\n",
            "Train Epoch: 7 [24320/60000 (41%)]\tLoss: 0.058377\n",
            "Train Epoch: 7 [24960/60000 (42%)]\tLoss: 0.102865\n",
            "Train Epoch: 7 [25600/60000 (43%)]\tLoss: 0.038411\n",
            "Train Epoch: 7 [26240/60000 (44%)]\tLoss: 0.055892\n",
            "Train Epoch: 7 [26880/60000 (45%)]\tLoss: 0.110627\n",
            "Train Epoch: 7 [27520/60000 (46%)]\tLoss: 0.191828\n",
            "Train Epoch: 7 [28160/60000 (47%)]\tLoss: 0.154462\n",
            "Train Epoch: 7 [28800/60000 (48%)]\tLoss: 0.035550\n",
            "Train Epoch: 7 [29440/60000 (49%)]\tLoss: 0.008954\n",
            "Train Epoch: 7 [30080/60000 (50%)]\tLoss: 0.067663\n",
            "Train Epoch: 7 [30720/60000 (51%)]\tLoss: 0.014070\n",
            "Train Epoch: 7 [31360/60000 (52%)]\tLoss: 0.048648\n",
            "Train Epoch: 7 [32000/60000 (53%)]\tLoss: 0.024598\n",
            "Train Epoch: 7 [32640/60000 (54%)]\tLoss: 0.073455\n",
            "Train Epoch: 7 [33280/60000 (55%)]\tLoss: 0.035231\n",
            "Train Epoch: 7 [33920/60000 (57%)]\tLoss: 0.063552\n",
            "Train Epoch: 7 [34560/60000 (58%)]\tLoss: 0.041463\n",
            "Train Epoch: 7 [35200/60000 (59%)]\tLoss: 0.012546\n",
            "Train Epoch: 7 [35840/60000 (60%)]\tLoss: 0.024106\n",
            "Train Epoch: 7 [36480/60000 (61%)]\tLoss: 0.013428\n",
            "Train Epoch: 7 [37120/60000 (62%)]\tLoss: 0.103298\n",
            "Train Epoch: 7 [37760/60000 (63%)]\tLoss: 0.058462\n",
            "Train Epoch: 7 [38400/60000 (64%)]\tLoss: 0.143410\n",
            "Train Epoch: 7 [39040/60000 (65%)]\tLoss: 0.008315\n",
            "Train Epoch: 7 [39680/60000 (66%)]\tLoss: 0.040618\n",
            "Train Epoch: 7 [40320/60000 (67%)]\tLoss: 0.010531\n",
            "Train Epoch: 7 [40960/60000 (68%)]\tLoss: 0.056805\n",
            "Train Epoch: 7 [41600/60000 (69%)]\tLoss: 0.124885\n",
            "Train Epoch: 7 [42240/60000 (70%)]\tLoss: 0.048703\n",
            "Train Epoch: 7 [42880/60000 (71%)]\tLoss: 0.034030\n",
            "Train Epoch: 7 [43520/60000 (72%)]\tLoss: 0.034960\n",
            "Train Epoch: 7 [44160/60000 (74%)]\tLoss: 0.078179\n",
            "Train Epoch: 7 [44800/60000 (75%)]\tLoss: 0.058196\n",
            "Train Epoch: 7 [45440/60000 (76%)]\tLoss: 0.043603\n",
            "Train Epoch: 7 [46080/60000 (77%)]\tLoss: 0.062340\n",
            "Train Epoch: 7 [46720/60000 (78%)]\tLoss: 0.033960\n",
            "Train Epoch: 7 [47360/60000 (79%)]\tLoss: 0.101149\n",
            "Train Epoch: 7 [48000/60000 (80%)]\tLoss: 0.029706\n",
            "Train Epoch: 7 [48640/60000 (81%)]\tLoss: 0.052719\n",
            "Train Epoch: 7 [49280/60000 (82%)]\tLoss: 0.024070\n",
            "Train Epoch: 7 [49920/60000 (83%)]\tLoss: 0.044765\n",
            "Train Epoch: 7 [50560/60000 (84%)]\tLoss: 0.101158\n",
            "Train Epoch: 7 [51200/60000 (85%)]\tLoss: 0.026525\n",
            "Train Epoch: 7 [51840/60000 (86%)]\tLoss: 0.013954\n",
            "Train Epoch: 7 [52480/60000 (87%)]\tLoss: 0.065753\n",
            "Train Epoch: 7 [53120/60000 (88%)]\tLoss: 0.109335\n",
            "Train Epoch: 7 [53760/60000 (90%)]\tLoss: 0.081642\n",
            "Train Epoch: 7 [54400/60000 (91%)]\tLoss: 0.070914\n",
            "Train Epoch: 7 [55040/60000 (92%)]\tLoss: 0.097769\n",
            "Train Epoch: 7 [55680/60000 (93%)]\tLoss: 0.120957\n",
            "Train Epoch: 7 [56320/60000 (94%)]\tLoss: 0.021854\n",
            "Train Epoch: 7 [56960/60000 (95%)]\tLoss: 0.029164\n",
            "Train Epoch: 7 [57600/60000 (96%)]\tLoss: 0.095628\n",
            "Train Epoch: 7 [58240/60000 (97%)]\tLoss: 0.035528\n",
            "Train Epoch: 7 [58880/60000 (98%)]\tLoss: 0.042767\n",
            "Train Epoch: 7 [59520/60000 (99%)]\tLoss: 0.017950\n",
            "\n",
            "Test set: Average loss: 0.0566, Accuracy: 9822/10000 (98%)\n",
            "\n",
            "Train Epoch: 8 [0/60000 (0%)]\tLoss: 0.054169\n",
            "Train Epoch: 8 [640/60000 (1%)]\tLoss: 0.033415\n",
            "Train Epoch: 8 [1280/60000 (2%)]\tLoss: 0.070563\n",
            "Train Epoch: 8 [1920/60000 (3%)]\tLoss: 0.054414\n",
            "Train Epoch: 8 [2560/60000 (4%)]\tLoss: 0.180855\n",
            "Train Epoch: 8 [3200/60000 (5%)]\tLoss: 0.042587\n",
            "Train Epoch: 8 [3840/60000 (6%)]\tLoss: 0.006810\n",
            "Train Epoch: 8 [4480/60000 (7%)]\tLoss: 0.098430\n",
            "Train Epoch: 8 [5120/60000 (9%)]\tLoss: 0.031624\n",
            "Train Epoch: 8 [5760/60000 (10%)]\tLoss: 0.034145\n",
            "Train Epoch: 8 [6400/60000 (11%)]\tLoss: 0.037381\n",
            "Train Epoch: 8 [7040/60000 (12%)]\tLoss: 0.034627\n",
            "Train Epoch: 8 [7680/60000 (13%)]\tLoss: 0.054003\n",
            "Train Epoch: 8 [8320/60000 (14%)]\tLoss: 0.091935\n",
            "Train Epoch: 8 [8960/60000 (15%)]\tLoss: 0.073672\n",
            "Train Epoch: 8 [9600/60000 (16%)]\tLoss: 0.025720\n",
            "Train Epoch: 8 [10240/60000 (17%)]\tLoss: 0.094540\n",
            "Train Epoch: 8 [10880/60000 (18%)]\tLoss: 0.185793\n",
            "Train Epoch: 8 [11520/60000 (19%)]\tLoss: 0.021757\n",
            "Train Epoch: 8 [12160/60000 (20%)]\tLoss: 0.083799\n",
            "Train Epoch: 8 [12800/60000 (21%)]\tLoss: 0.014801\n",
            "Train Epoch: 8 [13440/60000 (22%)]\tLoss: 0.024962\n",
            "Train Epoch: 8 [14080/60000 (23%)]\tLoss: 0.024963\n",
            "Train Epoch: 8 [14720/60000 (25%)]\tLoss: 0.033077\n",
            "Train Epoch: 8 [15360/60000 (26%)]\tLoss: 0.018838\n",
            "Train Epoch: 8 [16000/60000 (27%)]\tLoss: 0.089948\n",
            "Train Epoch: 8 [16640/60000 (28%)]\tLoss: 0.124512\n",
            "Train Epoch: 8 [17280/60000 (29%)]\tLoss: 0.011722\n",
            "Train Epoch: 8 [17920/60000 (30%)]\tLoss: 0.042812\n",
            "Train Epoch: 8 [18560/60000 (31%)]\tLoss: 0.157020\n",
            "Train Epoch: 8 [19200/60000 (32%)]\tLoss: 0.073639\n",
            "Train Epoch: 8 [19840/60000 (33%)]\tLoss: 0.017353\n",
            "Train Epoch: 8 [20480/60000 (34%)]\tLoss: 0.018937\n",
            "Train Epoch: 8 [21120/60000 (35%)]\tLoss: 0.075740\n",
            "Train Epoch: 8 [21760/60000 (36%)]\tLoss: 0.060934\n",
            "Train Epoch: 8 [22400/60000 (37%)]\tLoss: 0.074384\n",
            "Train Epoch: 8 [23040/60000 (38%)]\tLoss: 0.109669\n",
            "Train Epoch: 8 [23680/60000 (39%)]\tLoss: 0.065160\n",
            "Train Epoch: 8 [24320/60000 (41%)]\tLoss: 0.130178\n",
            "Train Epoch: 8 [24960/60000 (42%)]\tLoss: 0.121435\n",
            "Train Epoch: 8 [25600/60000 (43%)]\tLoss: 0.045143\n",
            "Train Epoch: 8 [26240/60000 (44%)]\tLoss: 0.016144\n",
            "Train Epoch: 8 [26880/60000 (45%)]\tLoss: 0.030561\n",
            "Train Epoch: 8 [27520/60000 (46%)]\tLoss: 0.166854\n",
            "Train Epoch: 8 [28160/60000 (47%)]\tLoss: 0.022786\n",
            "Train Epoch: 8 [28800/60000 (48%)]\tLoss: 0.099005\n",
            "Train Epoch: 8 [29440/60000 (49%)]\tLoss: 0.055255\n",
            "Train Epoch: 8 [30080/60000 (50%)]\tLoss: 0.032918\n",
            "Train Epoch: 8 [30720/60000 (51%)]\tLoss: 0.144337\n",
            "Train Epoch: 8 [31360/60000 (52%)]\tLoss: 0.016118\n",
            "Train Epoch: 8 [32000/60000 (53%)]\tLoss: 0.027028\n",
            "Train Epoch: 8 [32640/60000 (54%)]\tLoss: 0.045851\n",
            "Train Epoch: 8 [33280/60000 (55%)]\tLoss: 0.048905\n",
            "Train Epoch: 8 [33920/60000 (57%)]\tLoss: 0.066046\n",
            "Train Epoch: 8 [34560/60000 (58%)]\tLoss: 0.059808\n",
            "Train Epoch: 8 [35200/60000 (59%)]\tLoss: 0.110321\n",
            "Train Epoch: 8 [35840/60000 (60%)]\tLoss: 0.082171\n",
            "Train Epoch: 8 [36480/60000 (61%)]\tLoss: 0.042900\n",
            "Train Epoch: 8 [37120/60000 (62%)]\tLoss: 0.022048\n",
            "Train Epoch: 8 [37760/60000 (63%)]\tLoss: 0.019251\n",
            "Train Epoch: 8 [38400/60000 (64%)]\tLoss: 0.055170\n",
            "Train Epoch: 8 [39040/60000 (65%)]\tLoss: 0.020844\n",
            "Train Epoch: 8 [39680/60000 (66%)]\tLoss: 0.035255\n",
            "Train Epoch: 8 [40320/60000 (67%)]\tLoss: 0.081918\n",
            "Train Epoch: 8 [40960/60000 (68%)]\tLoss: 0.089255\n",
            "Train Epoch: 8 [41600/60000 (69%)]\tLoss: 0.144127\n",
            "Train Epoch: 8 [42240/60000 (70%)]\tLoss: 0.045325\n",
            "Train Epoch: 8 [42880/60000 (71%)]\tLoss: 0.032203\n",
            "Train Epoch: 8 [43520/60000 (72%)]\tLoss: 0.116933\n",
            "Train Epoch: 8 [44160/60000 (74%)]\tLoss: 0.092849\n",
            "Train Epoch: 8 [44800/60000 (75%)]\tLoss: 0.160111\n",
            "Train Epoch: 8 [45440/60000 (76%)]\tLoss: 0.027483\n",
            "Train Epoch: 8 [46080/60000 (77%)]\tLoss: 0.069903\n",
            "Train Epoch: 8 [46720/60000 (78%)]\tLoss: 0.057290\n",
            "Train Epoch: 8 [47360/60000 (79%)]\tLoss: 0.121278\n",
            "Train Epoch: 8 [48000/60000 (80%)]\tLoss: 0.013645\n",
            "Train Epoch: 8 [48640/60000 (81%)]\tLoss: 0.112152\n",
            "Train Epoch: 8 [49280/60000 (82%)]\tLoss: 0.167304\n",
            "Train Epoch: 8 [49920/60000 (83%)]\tLoss: 0.035434\n",
            "Train Epoch: 8 [50560/60000 (84%)]\tLoss: 0.077201\n",
            "Train Epoch: 8 [51200/60000 (85%)]\tLoss: 0.059686\n",
            "Train Epoch: 8 [51840/60000 (86%)]\tLoss: 0.065387\n",
            "Train Epoch: 8 [52480/60000 (87%)]\tLoss: 0.054985\n",
            "Train Epoch: 8 [53120/60000 (88%)]\tLoss: 0.029944\n",
            "Train Epoch: 8 [53760/60000 (90%)]\tLoss: 0.171540\n",
            "Train Epoch: 8 [54400/60000 (91%)]\tLoss: 0.022899\n",
            "Train Epoch: 8 [55040/60000 (92%)]\tLoss: 0.037241\n",
            "Train Epoch: 8 [55680/60000 (93%)]\tLoss: 0.066757\n",
            "Train Epoch: 8 [56320/60000 (94%)]\tLoss: 0.013722\n",
            "Train Epoch: 8 [56960/60000 (95%)]\tLoss: 0.086803\n",
            "Train Epoch: 8 [57600/60000 (96%)]\tLoss: 0.125336\n",
            "Train Epoch: 8 [58240/60000 (97%)]\tLoss: 0.013315\n",
            "Train Epoch: 8 [58880/60000 (98%)]\tLoss: 0.089002\n",
            "Train Epoch: 8 [59520/60000 (99%)]\tLoss: 0.104848\n",
            "\n",
            "Test set: Average loss: 0.0501, Accuracy: 9830/10000 (98%)\n",
            "\n",
            "Train Epoch: 9 [0/60000 (0%)]\tLoss: 0.039336\n",
            "Train Epoch: 9 [640/60000 (1%)]\tLoss: 0.017452\n",
            "Train Epoch: 9 [1280/60000 (2%)]\tLoss: 0.030770\n",
            "Train Epoch: 9 [1920/60000 (3%)]\tLoss: 0.040520\n",
            "Train Epoch: 9 [2560/60000 (4%)]\tLoss: 0.085023\n",
            "Train Epoch: 9 [3200/60000 (5%)]\tLoss: 0.008787\n",
            "Train Epoch: 9 [3840/60000 (6%)]\tLoss: 0.016978\n",
            "Train Epoch: 9 [4480/60000 (7%)]\tLoss: 0.016317\n",
            "Train Epoch: 9 [5120/60000 (9%)]\tLoss: 0.163067\n",
            "Train Epoch: 9 [5760/60000 (10%)]\tLoss: 0.033200\n",
            "Train Epoch: 9 [6400/60000 (11%)]\tLoss: 0.040266\n",
            "Train Epoch: 9 [7040/60000 (12%)]\tLoss: 0.015635\n",
            "Train Epoch: 9 [7680/60000 (13%)]\tLoss: 0.094692\n",
            "Train Epoch: 9 [8320/60000 (14%)]\tLoss: 0.041800\n",
            "Train Epoch: 9 [8960/60000 (15%)]\tLoss: 0.055655\n",
            "Train Epoch: 9 [9600/60000 (16%)]\tLoss: 0.044281\n",
            "Train Epoch: 9 [10240/60000 (17%)]\tLoss: 0.104607\n",
            "Train Epoch: 9 [10880/60000 (18%)]\tLoss: 0.028472\n",
            "Train Epoch: 9 [11520/60000 (19%)]\tLoss: 0.075396\n",
            "Train Epoch: 9 [12160/60000 (20%)]\tLoss: 0.019240\n",
            "Train Epoch: 9 [12800/60000 (21%)]\tLoss: 0.029778\n",
            "Train Epoch: 9 [13440/60000 (22%)]\tLoss: 0.025602\n",
            "Train Epoch: 9 [14080/60000 (23%)]\tLoss: 0.028412\n",
            "Train Epoch: 9 [14720/60000 (25%)]\tLoss: 0.017637\n",
            "Train Epoch: 9 [15360/60000 (26%)]\tLoss: 0.031281\n",
            "Train Epoch: 9 [16000/60000 (27%)]\tLoss: 0.084481\n",
            "Train Epoch: 9 [16640/60000 (28%)]\tLoss: 0.007890\n",
            "Train Epoch: 9 [17280/60000 (29%)]\tLoss: 0.037575\n",
            "Train Epoch: 9 [17920/60000 (30%)]\tLoss: 0.021466\n",
            "Train Epoch: 9 [18560/60000 (31%)]\tLoss: 0.015641\n",
            "Train Epoch: 9 [19200/60000 (32%)]\tLoss: 0.046711\n",
            "Train Epoch: 9 [19840/60000 (33%)]\tLoss: 0.094873\n",
            "Train Epoch: 9 [20480/60000 (34%)]\tLoss: 0.076975\n",
            "Train Epoch: 9 [21120/60000 (35%)]\tLoss: 0.030273\n",
            "Train Epoch: 9 [21760/60000 (36%)]\tLoss: 0.015134\n",
            "Train Epoch: 9 [22400/60000 (37%)]\tLoss: 0.019964\n",
            "Train Epoch: 9 [23040/60000 (38%)]\tLoss: 0.074737\n",
            "Train Epoch: 9 [23680/60000 (39%)]\tLoss: 0.050900\n",
            "Train Epoch: 9 [24320/60000 (41%)]\tLoss: 0.046657\n",
            "Train Epoch: 9 [24960/60000 (42%)]\tLoss: 0.028200\n",
            "Train Epoch: 9 [25600/60000 (43%)]\tLoss: 0.102996\n",
            "Train Epoch: 9 [26240/60000 (44%)]\tLoss: 0.132638\n",
            "Train Epoch: 9 [26880/60000 (45%)]\tLoss: 0.058367\n",
            "Train Epoch: 9 [27520/60000 (46%)]\tLoss: 0.007400\n",
            "Train Epoch: 9 [28160/60000 (47%)]\tLoss: 0.063573\n",
            "Train Epoch: 9 [28800/60000 (48%)]\tLoss: 0.046079\n",
            "Train Epoch: 9 [29440/60000 (49%)]\tLoss: 0.036826\n",
            "Train Epoch: 9 [30080/60000 (50%)]\tLoss: 0.058948\n",
            "Train Epoch: 9 [30720/60000 (51%)]\tLoss: 0.069850\n",
            "Train Epoch: 9 [31360/60000 (52%)]\tLoss: 0.048964\n",
            "Train Epoch: 9 [32000/60000 (53%)]\tLoss: 0.010035\n",
            "Train Epoch: 9 [32640/60000 (54%)]\tLoss: 0.207901\n",
            "Train Epoch: 9 [33280/60000 (55%)]\tLoss: 0.074425\n",
            "Train Epoch: 9 [33920/60000 (57%)]\tLoss: 0.126084\n",
            "Train Epoch: 9 [34560/60000 (58%)]\tLoss: 0.055252\n",
            "Train Epoch: 9 [35200/60000 (59%)]\tLoss: 0.013235\n",
            "Train Epoch: 9 [35840/60000 (60%)]\tLoss: 0.018350\n",
            "Train Epoch: 9 [36480/60000 (61%)]\tLoss: 0.113075\n",
            "Train Epoch: 9 [37120/60000 (62%)]\tLoss: 0.081475\n",
            "Train Epoch: 9 [37760/60000 (63%)]\tLoss: 0.054294\n",
            "Train Epoch: 9 [38400/60000 (64%)]\tLoss: 0.110283\n",
            "Train Epoch: 9 [39040/60000 (65%)]\tLoss: 0.014928\n",
            "Train Epoch: 9 [39680/60000 (66%)]\tLoss: 0.105036\n",
            "Train Epoch: 9 [40320/60000 (67%)]\tLoss: 0.014472\n",
            "Train Epoch: 9 [40960/60000 (68%)]\tLoss: 0.216056\n",
            "Train Epoch: 9 [41600/60000 (69%)]\tLoss: 0.009564\n",
            "Train Epoch: 9 [42240/60000 (70%)]\tLoss: 0.071708\n",
            "Train Epoch: 9 [42880/60000 (71%)]\tLoss: 0.055342\n",
            "Train Epoch: 9 [43520/60000 (72%)]\tLoss: 0.027623\n",
            "Train Epoch: 9 [44160/60000 (74%)]\tLoss: 0.112558\n",
            "Train Epoch: 9 [44800/60000 (75%)]\tLoss: 0.038202\n",
            "Train Epoch: 9 [45440/60000 (76%)]\tLoss: 0.013059\n",
            "Train Epoch: 9 [46080/60000 (77%)]\tLoss: 0.065771\n",
            "Train Epoch: 9 [46720/60000 (78%)]\tLoss: 0.011325\n",
            "Train Epoch: 9 [47360/60000 (79%)]\tLoss: 0.042295\n",
            "Train Epoch: 9 [48000/60000 (80%)]\tLoss: 0.012334\n",
            "Train Epoch: 9 [48640/60000 (81%)]\tLoss: 0.080964\n",
            "Train Epoch: 9 [49280/60000 (82%)]\tLoss: 0.064506\n",
            "Train Epoch: 9 [49920/60000 (83%)]\tLoss: 0.057896\n",
            "Train Epoch: 9 [50560/60000 (84%)]\tLoss: 0.104973\n",
            "Train Epoch: 9 [51200/60000 (85%)]\tLoss: 0.061634\n",
            "Train Epoch: 9 [51840/60000 (86%)]\tLoss: 0.009187\n",
            "Train Epoch: 9 [52480/60000 (87%)]\tLoss: 0.164268\n",
            "Train Epoch: 9 [53120/60000 (88%)]\tLoss: 0.097050\n",
            "Train Epoch: 9 [53760/60000 (90%)]\tLoss: 0.060276\n",
            "Train Epoch: 9 [54400/60000 (91%)]\tLoss: 0.044544\n",
            "Train Epoch: 9 [55040/60000 (92%)]\tLoss: 0.017982\n",
            "Train Epoch: 9 [55680/60000 (93%)]\tLoss: 0.036109\n",
            "Train Epoch: 9 [56320/60000 (94%)]\tLoss: 0.061766\n",
            "Train Epoch: 9 [56960/60000 (95%)]\tLoss: 0.017922\n",
            "Train Epoch: 9 [57600/60000 (96%)]\tLoss: 0.091588\n",
            "Train Epoch: 9 [58240/60000 (97%)]\tLoss: 0.051261\n",
            "Train Epoch: 9 [58880/60000 (98%)]\tLoss: 0.020022\n",
            "Train Epoch: 9 [59520/60000 (99%)]\tLoss: 0.045657\n",
            "\n",
            "Test set: Average loss: 0.0485, Accuracy: 9838/10000 (98%)\n",
            "\n"
          ]
        }
      ]
    },
    {
      "cell_type": "code",
      "source": [],
      "metadata": {
        "id": "MstdPhXOYtIg"
      },
      "execution_count": null,
      "outputs": []
    }
  ]
}