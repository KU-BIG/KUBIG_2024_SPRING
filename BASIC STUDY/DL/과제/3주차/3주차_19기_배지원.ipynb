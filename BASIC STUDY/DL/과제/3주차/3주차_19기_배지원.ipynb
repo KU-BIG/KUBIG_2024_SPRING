{
 "cells": [
  {
   "cell_type": "markdown",
   "metadata": {
    "id": "sgAYo4nrw2F4"
   },
   "source": [
    "# < 3주차 과제 1 : MLP 마음대로 다뤄보기>\n",
    "- dataset을 임의로 선정해서 직접 분석 해보기(제공한 코드를 활용해서 해보기)\n",
    "- activation functions 중 relu사용시 함수 직접 정의\n",
    "- lr, optimizer 등 바꿔보기\n",
    "- hidden layer/neuron 수를 바꾸기\n",
    "- 전처리도 추가\n",
    "- 모든 시도를 올려주세요!\n",
    "- 제일 높은 acc를 보인 시도를 명시해주세요!\n"
   ]
  },
  {
   "cell_type": "code",
   "execution_count": 2,
   "metadata": {
    "id": "fX437IL6qbI-"
   },
   "outputs": [],
   "source": [
    "import torch\n",
    "from torch import nn, optim\n",
    "from sklearn.datasets import load_breast_cancer\n",
    "from sklearn.datasets import load_wine\n",
    "from torch.utils.data import  TensorDataset, DataLoader\n",
    "from sklearn.model_selection import train_test_split\n",
    "from sklearn.metrics import accuracy_score\n",
    "import numpy as np\n",
    "from sklearn.preprocessing import StandardScaler\n",
    "import matplotlib.pyplot as plt"
   ]
  },
  {
   "cell_type": "markdown",
   "metadata": {
    "id": "oxkFzBDNmWNk"
   },
   "source": [
    "## 아래 데이터셋 중 원하는 데이터셋 하나를 선택하여, 코드 과제 진행하기!\n",
    "- 1) load_digits() <br>\n",
    "- 2) load_wine()"
   ]
  },
  {
   "cell_type": "code",
   "execution_count": 3,
   "metadata": {
    "id": "FywYbfsKtjcR"
   },
   "outputs": [],
   "source": [
    "# 데이터셋 종류 : \n",
    "data = load_wine()"
   ]
  },
  {
   "cell_type": "code",
   "execution_count": 4,
   "metadata": {
    "id": "C2P0hqZ9yBGm"
   },
   "outputs": [],
   "source": [
    "input = data.data\n",
    "output = data.target"
   ]
  },
  {
   "cell_type": "code",
   "execution_count": 5,
   "metadata": {
    "id": "SggpQfSPt85C"
   },
   "outputs": [],
   "source": [
    "device = 'cuda' if torch.cuda.is_available() else 'cpu'\n",
    "\n",
    "torch.manual_seed(777)\n",
    "if device == \"cuda\":\n",
    "  torch.cuda.manual_seed_all(777)"
   ]
  },
  {
   "cell_type": "code",
   "execution_count": 55,
   "metadata": {
    "id": "bLMzf-2ntYeX"
   },
   "outputs": [],
   "source": [
    "x_train, x_test, y_train, y_test = train_test_split(input, output, test_size = 0.3, random_state = 42, stratify= data.target, shuffle = True)\n",
    "\n",
    "x_train = torch.FloatTensor(x_train).to(device)\n",
    "y_train = torch.LongTensor(y_train).to(device)\n",
    "x_test = torch.FloatTensor(x_test)\n",
    "y_test = torch.LongTensor(y_test)\n",
    "\n",
    "# 데이터를 tensor로 바꿔주고 gpu 연산이 가능해지도록 gpu에 옮김\n",
    "# label 값을 왜 long 에 옮겨놓는가? loss function이 다르기 때문 "
   ]
  },
  {
   "cell_type": "code",
   "execution_count": 33,
   "metadata": {
    "colab": {
     "base_uri": "https://localhost:8080/"
    },
    "id": "umEdiTZkrVqS",
    "outputId": "335674e0-2dd8-449e-b295-90b42c49c21c"
   },
   "outputs": [
    {
     "name": "stdout",
     "output_type": "stream",
     "text": [
      "tensor([1.3750e+01, 1.7300e+00, 2.4100e+00, 1.6000e+01, 8.9000e+01, 2.6000e+00,\n",
      "        2.7600e+00, 2.9000e-01, 1.8100e+00, 5.6000e+00, 1.1500e+00, 2.9000e+00,\n",
      "        1.3200e+03])\n",
      "tensor(0)\n"
     ]
    }
   ],
   "source": [
    "print(x_train[0])\n",
    "print(y_train[0])\n",
    "\n",
    "# input 13개 (속성이 13개)\n",
    "# y의 class는 3개"
   ]
  },
  {
   "cell_type": "code",
   "execution_count": 34,
   "metadata": {},
   "outputs": [
    {
     "name": "stdout",
     "output_type": "stream",
     "text": [
      "torch.Size([124, 13])\n",
      "torch.Size([124])\n"
     ]
    }
   ],
   "source": [
    "print(x_train.shape)\n",
    "print(y_train.shape)"
   ]
  },
  {
   "cell_type": "markdown",
   "metadata": {
    "id": "combmxzmYFyn"
   },
   "source": [
    "파이토치에서는 데이터셋을 좀 더 쉽게 다룰 수 있도록 유용한 도구로서 torch.utils.data.Dataset과 torch.utils.data.DataLoader를 제공합니다. 이를 사용하면 미니 배치 학습, 데이터 셔플(shuffle), 병렬 처리까지 간단히 수행할 수 있습니다. 기본적인 사용 방법은 Dataset을 정의하고, 이를 DataLoader에 전달하는 것\n",
    "- init : class 에서 객체가 생성되면 바로 실행되는 함수\n",
    "- len : observation 수를 정의하는 함수\n",
    "- getitem : iteration 마다 해당하는 데이터를 돌려주는 함수"
   ]
  },
  {
   "cell_type": "code",
   "execution_count": 19,
   "metadata": {
    "id": "y38TlgXoqV5Z"
   },
   "outputs": [],
   "source": [
    "from torch.utils.data import Dataset\n",
    "class CustomDataset(Dataset):\n",
    "  def __init__(self):\n",
    "    self.x_data = x_train\n",
    "    self.y_data = [[y] for y in y_train] # 정답\n",
    "    # 데이터셋의 전처리를 해주는 부분\n",
    "\n",
    "  def __len__(self):\n",
    "    return len(self.x_data)\n",
    "    # 데이터셋의 길이. 즉, 총 샘플의 수를 적어주는 부분\n",
    "\n",
    "  def __getitem__(self, idx):\n",
    "    x = torch.FloatTensor(self.x_data[idx]).to(device)\n",
    "    y = torch.LongTensor(self.y_data[idx]).to(device)\n",
    "    # 데이터셋에서 특정 1개의 샘플을 가져오는 함수\n",
    "\n",
    "    return x,y"
   ]
  },
  {
   "cell_type": "code",
   "execution_count": 56,
   "metadata": {
    "id": "x8VHwnuFqino"
   },
   "outputs": [],
   "source": [
    "batch_size = 8\n",
    "\n",
    "dataset = CustomDataset()\n",
    "dataloader = DataLoader(dataset, batch_size=batch_size) "
   ]
  },
  {
   "cell_type": "code",
   "execution_count": 21,
   "metadata": {
    "id": "C6V7a4tyq6Jc"
   },
   "outputs": [],
   "source": [
    "# input_layer와 hidden_layer의 노드 개수를 어떻게 바꿔줘야할까? \n",
    "# hidden layer/neuron 수를 바꾸기\n",
    "\n",
    "model = nn.Sequential(\n",
    "          nn.Linear(13,398, bias=True), \n",
    "          nn.Sigmoid(),\n",
    "          nn.Linear(398,15, bias=True),\n",
    "          nn.Sigmoid(),\n",
    "          nn.Linear(15,3, bias=True), \n",
    "          nn.Softmax(dim = 1)\n",
    "          ).to(device)\n",
    "\n",
    "# 한 번에 output으로 줄이는 것이 아니라 hidden layer 추가"
   ]
  },
  {
   "cell_type": "code",
   "execution_count": 22,
   "metadata": {},
   "outputs": [
    {
     "name": "stdout",
     "output_type": "stream",
     "text": [
      "Sequential(\n",
      "  (0): Linear(in_features=13, out_features=398, bias=True)\n",
      "  (1): Sigmoid()\n",
      "  (2): Linear(in_features=398, out_features=15, bias=True)\n",
      "  (3): Sigmoid()\n",
      "  (4): Linear(in_features=15, out_features=3, bias=True)\n",
      "  (5): Softmax(dim=1)\n",
      ")\n"
     ]
    }
   ],
   "source": [
    "print(model)"
   ]
  },
  {
   "cell_type": "markdown",
   "metadata": {
    "id": "07uV8RY7Yr_5"
   },
   "source": [
    "class로 구현 가능\n",
    "- init : 초기 생성 함수\n",
    "- foward : 순전파(입력값 => 예측값 의 과정)"
   ]
  },
  {
   "cell_type": "code",
   "execution_count": 23,
   "metadata": {},
   "outputs": [],
   "source": [
    "class Model(torch.nn.Module):\n",
    "\n",
    "  def __init__(self):\n",
    "    super(Model, self).__init__()\n",
    "    self.layer1 = nn.Sequential(\n",
    "          nn.Linear(13,398, bias=True), # input_layer = 13, hidden_layer1 = 398 \n",
    "          nn.Sigmoid(),\n",
    "        nn.BatchNorm1d(398)\n",
    "    )\n",
    "  # activation function 이용 \n",
    "  #   nn.ReLU()\n",
    "  #   nn.tanH()\n",
    "  #   https://pytorch.org/docs/stable/nn.html 그 외에도 여기서 확인 가능함 \n",
    "  #   파라미터가 필요하지 않다는 것이 특징\n",
    "\n",
    "  # batch normazliation 1d, 파라미터 값으로 vector의 길이를 전해줌\n",
    "  # 추후에 이미지를 다루게 된다면, 그때는 batch normalization 2d를 이용하게 됨 \n",
    "  # 그때는 파라미터 값으로 채널, 가로, 세로 길이를 전달해주게 됨 \n",
    "\n",
    "    self.layer2 = nn.Sequential(\n",
    "          nn.Linear(398,15, bias=True), # hidden_layer1 = 398, hidden_layer2 = 15\n",
    "        nn.Sigmoid()\n",
    "    )\n",
    "    self.layer3 = nn.Sequential(\n",
    "          nn.Linear(15,10, bias=True), # hidden_layer1 = 15, hidden_layer2 = 10\n",
    "        nn.Sigmoid()\n",
    "    )\n",
    "    self.layer4 = nn.Sequential(\n",
    "        nn.Linear(10, 3, bias=True), # hidden_layer3 = 10, output_layer = 3\n",
    "        nn.Softmax(dim = 1)\n",
    "        # dim = 1 보통 classification에 쓰임\n",
    "        # 각 sample 마다 softmax 함수\n",
    "    )\n",
    "\n",
    "  def forward(self,x):\n",
    "    output = self.layer1(x)\n",
    "    output = self.layer2(output)\n",
    "    output = self.layer3(output)\n",
    "    output = self.layer4(output)\n",
    "    return output"
   ]
  },
  {
   "cell_type": "code",
   "execution_count": 24,
   "metadata": {
    "id": "kqcqqkECrSGK"
   },
   "outputs": [],
   "source": [
    "def init_weights(layer):\n",
    "    if isinstance(layer, nn.Linear):\n",
    "        torch.nn.init.xavier_uniform(layer.weight)\n",
    "        layer.bias.data.fill_(0.01)\n",
    "\n",
    "        # xavier사용\n",
    "        # Layer의 weight를 어떤 분포를 가지도록 초기화시켜줌 + global minimum찾기 위해서"
   ]
  },
  {
   "cell_type": "code",
   "execution_count": 51,
   "metadata": {
    "colab": {
     "base_uri": "https://localhost:8080/"
    },
    "id": "oMDUBFg6rUpw",
    "outputId": "d77885a4-8bfa-4af9-bfaa-36c76dba40ee"
   },
   "outputs": [
    {
     "name": "stderr",
     "output_type": "stream",
     "text": [
      "/var/folders/1w/94w03vcn7rv_gpwvy1gmzjhw0000gn/T/ipykernel_51434/3402539847.py:3: UserWarning: nn.init.xavier_uniform is now deprecated in favor of nn.init.xavier_uniform_.\n",
      "  torch.nn.init.xavier_uniform(layer.weight)\n"
     ]
    },
    {
     "data": {
      "text/plain": [
       "Model(\n",
       "  (layer1): Sequential(\n",
       "    (0): Linear(in_features=13, out_features=398, bias=True)\n",
       "    (1): Sigmoid()\n",
       "    (2): BatchNorm1d(398, eps=1e-05, momentum=0.1, affine=True, track_running_stats=True)\n",
       "  )\n",
       "  (layer2): Sequential(\n",
       "    (0): Linear(in_features=398, out_features=15, bias=True)\n",
       "    (1): Sigmoid()\n",
       "  )\n",
       "  (layer3): Sequential(\n",
       "    (0): Linear(in_features=15, out_features=10, bias=True)\n",
       "    (1): Sigmoid()\n",
       "  )\n",
       "  (layer4): Sequential(\n",
       "    (0): Linear(in_features=10, out_features=3, bias=True)\n",
       "    (1): Softmax(dim=1)\n",
       "  )\n",
       ")"
      ]
     },
     "execution_count": 51,
     "metadata": {},
     "output_type": "execute_result"
    }
   ],
   "source": [
    "model = Model().to(device)\n",
    "model.apply(init_weights)"
   ]
  },
  {
   "cell_type": "code",
   "execution_count": 37,
   "metadata": {
    "colab": {
     "base_uri": "https://localhost:8080/"
    },
    "id": "OwZt5CetrYFb",
    "outputId": "fe01a0ba-90b9-4120-8f48-2f6710ed17c8"
   },
   "outputs": [
    {
     "name": "stdout",
     "output_type": "stream",
     "text": [
      "Model(\n",
      "  (layer1): Sequential(\n",
      "    (0): Linear(in_features=13, out_features=398, bias=True)\n",
      "    (1): Sigmoid()\n",
      "    (2): BatchNorm1d(398, eps=1e-05, momentum=0.1, affine=True, track_running_stats=True)\n",
      "  )\n",
      "  (layer2): Sequential(\n",
      "    (0): Linear(in_features=398, out_features=15, bias=True)\n",
      "    (1): Sigmoid()\n",
      "  )\n",
      "  (layer3): Sequential(\n",
      "    (0): Linear(in_features=15, out_features=10, bias=True)\n",
      "    (1): Sigmoid()\n",
      "  )\n",
      "  (layer4): Sequential(\n",
      "    (0): Linear(in_features=10, out_features=3, bias=True)\n",
      "    (1): Softmax(dim=1)\n",
      "  )\n",
      ")\n"
     ]
    }
   ],
   "source": [
    "print(model)"
   ]
  },
  {
   "cell_type": "code",
   "execution_count": 52,
   "metadata": {
    "id": "AYFp-eTErh7b"
   },
   "outputs": [],
   "source": [
    "loss_fn  = nn.CrossEntropyLoss().to(device)\n",
    "\n",
    "# https://pytorch.org/docs/stable/optim.html#module-torch.optim 페이지 참조"
   ]
  },
  {
   "cell_type": "code",
   "execution_count": 28,
   "metadata": {
    "colab": {
     "base_uri": "https://localhost:8080/"
    },
    "id": "90QxHvlIrjS7",
    "outputId": "9325edf8-d0c9-4dd9-c674-eae81a6405c7"
   },
   "outputs": [
    {
     "name": "stdout",
     "output_type": "stream",
     "text": [
      "0 1.0932259559631348\n",
      "10 0.9515987634658813\n",
      "20 0.8548331260681152\n",
      "30 0.7939021587371826\n",
      "40 0.7404029965400696\n",
      "50 0.6667525172233582\n",
      "60 0.6203221678733826\n",
      "70 0.5986315608024597\n",
      "80 0.5750282406806946\n",
      "90 0.610567569732666\n"
     ]
    }
   ],
   "source": [
    "# Adam Optimizer, lr = 0.01 -> 큰 학습율\n",
    "\n",
    "optimizer_adam = optim.Adam(model.parameters(), lr= 0.01)\n",
    "\n",
    "losses = []\n",
    "for epoch in range(100):\n",
    "\n",
    "  optimizer_adam.zero_grad()\n",
    "  hypothesis = model(x_train) # 예측값\n",
    "\n",
    "  # 비용 함수\n",
    "  cost = loss_fn(hypothesis, y_train)\n",
    "  cost.backward()\n",
    "  optimizer_adam.step()\n",
    "  losses.append(cost.item())\n",
    "\n",
    "  # 마지막 10개의 loss 출력\n",
    "  if epoch % 10 == 0:\n",
    "    print(epoch, cost.item())"
   ]
  },
  {
   "cell_type": "code",
   "execution_count": 29,
   "metadata": {
    "colab": {
     "base_uri": "https://localhost:8080/",
     "height": 265
    },
    "id": "81ASYrW7roFM",
    "outputId": "330a40ca-8185-4c2d-d248-257a5c44b16f"
   },
   "outputs": [
    {
     "data": {
      "image/png": "[encoded data removed]",
      "text/plain": [
       "<Figure size 640x480 with 1 Axes>"
      ]
     },
     "metadata": {},
     "output_type": "display_data"
    }
   ],
   "source": [
    "plt.plot(losses)\n",
    "plt.show()"
   ]
  },
  {
   "cell_type": "code",
   "execution_count": 30,
   "metadata": {
    "colab": {
     "base_uri": "https://localhost:8080/"
    },
    "id": "h4kJzpLErqhZ",
    "outputId": "9b336fde-36f4-470d-9a2f-dc21055e0353"
   },
   "outputs": [],
   "source": [
    "with torch.no_grad():\n",
    "  model = model.to('cpu') # move a PyTorch model to the CPU\n",
    "  y_pred = model(x_test) # 예측값\n",
    "  y_pred = y_pred.detach().numpy() # numpy 형식\n",
    "  predicted = np.argmax(y_pred, axis =1)\n",
    "  accuracy = (accuracy_score(predicted, y_test))"
   ]
  },
  {
   "cell_type": "code",
   "execution_count": 31,
   "metadata": {
    "colab": {
     "base_uri": "https://localhost:8080/"
    },
    "id": "vyIKhs3Nr6Ay",
    "outputId": "6d73d644-c68b-4a84-defc-6f57192ef91a"
   },
   "outputs": [
    {
     "name": "stdout",
     "output_type": "stream",
     "text": [
      "model의 output은 :  [0.9755086  0.02275743 0.00173402]\n",
      "argmax를 한 후의 output은 0\n",
      "accuracy는 0.9259259259259259\n"
     ]
    }
   ],
   "source": [
    "print(f'model의 output은 :  {y_pred[0]}')\n",
    "print(f'argmax를 한 후의 output은 {predicted[0]}')\n",
    "print(f'accuracy는 {accuracy}')"
   ]
  },
  {
   "cell_type": "code",
   "execution_count": 39,
   "metadata": {},
   "outputs": [
    {
     "name": "stdout",
     "output_type": "stream",
     "text": [
      "0 1.167346477508545\n",
      "10 1.1322615146636963\n",
      "20 1.1051421165466309\n",
      "30 1.0777397155761719\n",
      "40 1.0509898662567139\n",
      "50 1.0239697694778442\n",
      "60 0.9992327690124512\n",
      "70 0.9766460657119751\n",
      "80 0.9553103446960449\n",
      "90 0.9337450265884399\n"
     ]
    },
    {
     "data": {
      "image/png": "[encoded data removed]",
      "text/plain": [
       "<Figure size 640x480 with 1 Axes>"
      ]
     },
     "metadata": {},
     "output_type": "display_data"
    }
   ],
   "source": [
    "# Adam Optimizer, lr = 0.001 -> 작은 학습율\n",
    "\n",
    "optimizer_adam_s = optim.Adam(model.parameters(), lr= 0.001)\n",
    "\n",
    "losses_adam_s = []\n",
    "for epoch in range(100):\n",
    "\n",
    "  optimizer_adam_s.zero_grad()\n",
    "  hypothesis = model(x_train) # 예측값\n",
    "\n",
    "  # 비용 함수\n",
    "  cost = loss_fn(hypothesis, y_train)\n",
    "  cost.backward()\n",
    "  optimizer_adam_s.step()\n",
    "  losses_adam_s.append(cost.item())\n",
    "\n",
    "  # 마지막 10개의 loss 출력\n",
    "  if epoch % 10 == 0:\n",
    "    print(epoch, cost.item())\n",
    "    \n",
    "plt.plot(losses_adam_s)\n",
    "plt.show()"
   ]
  },
  {
   "cell_type": "code",
   "execution_count": 40,
   "metadata": {},
   "outputs": [
    {
     "name": "stdout",
     "output_type": "stream",
     "text": [
      "model의 output은 :  [0.61855567 0.13213283 0.24931154]\n",
      "argmax를 한 후의 output은 0\n",
      "accuracy는 0.9629629629629629\n"
     ]
    }
   ],
   "source": [
    "with torch.no_grad():\n",
    "  model = model.to('cpu') # move a PyTorch model to the CPU\n",
    "  y_pred = model(x_test) # 예측값\n",
    "  y_pred = y_pred.detach().numpy() # numpy 형식\n",
    "  predicted = np.argmax(y_pred, axis =1)\n",
    "  accuracy = (accuracy_score(predicted, y_test))\n",
    "\n",
    "print(f'model의 output은 :  {y_pred[0]}')\n",
    "print(f'argmax를 한 후의 output은 {predicted[0]}')\n",
    "print(f'accuracy는 {accuracy}')"
   ]
  },
  {
   "cell_type": "code",
   "execution_count": 45,
   "metadata": {},
   "outputs": [
    {
     "name": "stdout",
     "output_type": "stream",
     "text": [
      "0 1.131546974182129\n",
      "10 1.0945905447006226\n",
      "20 1.0650978088378906\n",
      "30 1.0450592041015625\n",
      "40 1.0699470043182373\n",
      "50 1.0868010520935059\n",
      "60 1.0827842950820923\n",
      "70 1.0846446752548218\n",
      "80 1.0840117931365967\n",
      "90 1.0842244625091553\n"
     ]
    },
    {
     "data": {
      "image/png": "[encoded data removed]",
      "text/plain": [
       "<Figure size 640x480 with 1 Axes>"
      ]
     },
     "metadata": {},
     "output_type": "display_data"
    }
   ],
   "source": [
    "# SDG Optimizer, lr = 0.1 -> 큰 학습율\n",
    "\n",
    "optimizer_sdg = optim.SGD(model.parameters(), lr=0.1, momentum=0.9)\n",
    "\n",
    "losses_sdg = []\n",
    "for epoch in range(100):\n",
    "\n",
    "  optimizer_sdg.zero_grad()\n",
    "  hypothesis = model(x_train) # 예측값\n",
    "\n",
    "  # 비용 함수\n",
    "  cost = loss_fn(hypothesis, y_train)\n",
    "  cost.backward()\n",
    "  optimizer_sdg.step()\n",
    "  losses_sdg.append(cost.item())\n",
    "\n",
    "  # 마지막 10개의 loss 출력\n",
    "  if epoch % 10 == 0:\n",
    "    print(epoch, cost.item())\n",
    "    \n",
    "plt.plot(losses_sdg)\n",
    "plt.show()"
   ]
  },
  {
   "cell_type": "code",
   "execution_count": 46,
   "metadata": {},
   "outputs": [
    {
     "name": "stdout",
     "output_type": "stream",
     "text": [
      "model의 output은 :  [0.3541377  0.53848636 0.10737588]\n",
      "argmax를 한 후의 output은 1\n",
      "accuracy는 0.3888888888888889\n"
     ]
    }
   ],
   "source": [
    "with torch.no_grad():\n",
    "  model = model.to('cpu') # move a PyTorch model to the CPU\n",
    "  y_pred = model(x_test) # 예측값\n",
    "  y_pred = y_pred.detach().numpy() # numpy 형식\n",
    "  predicted = np.argmax(y_pred, axis =1)\n",
    "  accuracy = (accuracy_score(predicted, y_test))\n",
    "\n",
    "print(f'model의 output은 :  {y_pred[0]}')\n",
    "print(f'argmax를 한 후의 output은 {predicted[0]}')\n",
    "print(f'accuracy는 {accuracy}')"
   ]
  },
  {
   "cell_type": "code",
   "execution_count": 53,
   "metadata": {},
   "outputs": [
    {
     "name": "stdout",
     "output_type": "stream",
     "text": [
      "0 1.107074499130249\n",
      "10 1.0980359315872192\n",
      "20 1.0939496755599976\n",
      "30 1.0885504484176636\n",
      "40 1.0835999250411987\n",
      "50 1.0795440673828125\n",
      "60 1.075195074081421\n",
      "70 1.0711445808410645\n",
      "80 1.067637324333191\n",
      "90 1.0633234977722168\n"
     ]
    },
    {
     "data": {
      "image/png": "[encoded data removed]",
      "text/plain": [
       "<Figure size 640x480 with 1 Axes>"
      ]
     },
     "metadata": {},
     "output_type": "display_data"
    }
   ],
   "source": [
    "# SDG Optimizer, lr = 0.01 -> 작은 학습율\n",
    "\n",
    "optimizer_sdg_s = optim.SGD(model.parameters(), lr=0.01, momentum=0.9)\n",
    "\n",
    "losses_sdg_s = []\n",
    "for epoch in range(100):\n",
    "\n",
    "  optimizer_sdg_s.zero_grad()\n",
    "  hypothesis = model(x_train) # 예측값\n",
    "\n",
    "  # 비용 함수\n",
    "  cost = loss_fn(hypothesis, y_train)\n",
    "  cost.backward()\n",
    "  optimizer_sdg_s.step()\n",
    "  losses_sdg_s.append(cost.item())\n",
    "\n",
    "  # 마지막 10개의 loss 출력\n",
    "  if epoch % 10 == 0:\n",
    "    print(epoch, cost.item())\n",
    "    \n",
    "plt.plot(losses_sdg_s)\n",
    "plt.show()"
   ]
  },
  {
   "cell_type": "code",
   "execution_count": 54,
   "metadata": {},
   "outputs": [
    {
     "name": "stdout",
     "output_type": "stream",
     "text": [
      "model의 output은 :  [0.20995088 0.50331974 0.28672928]\n",
      "argmax를 한 후의 output은 1\n",
      "accuracy는 0.3888888888888889\n"
     ]
    }
   ],
   "source": [
    "with torch.no_grad():\n",
    "  model = model.to('cpu') # move a PyTorch model to the CPU\n",
    "  y_pred = model(x_test) # 예측값\n",
    "  y_pred = y_pred.detach().numpy() # numpy 형식\n",
    "  predicted = np.argmax(y_pred, axis =1)\n",
    "  accuracy = (accuracy_score(predicted, y_test))\n",
    "\n",
    "print(f'model의 output은 :  {y_pred[0]}')\n",
    "print(f'argmax를 한 후의 output은 {predicted[0]}')\n",
    "print(f'accuracy는 {accuracy}')"
   ]
  },
  {
   "cell_type": "code",
   "execution_count": 57,
   "metadata": {},
   "outputs": [],
   "source": [
    "# Using nn.ReLU() as an activation function\n",
    "# nn.ReLU() : 범위는 (0, +∞), 매우 효과적이고 계산이 빠른 활성화 함수로, 은닉층에서 주로 사용\n",
    "\n",
    "class Model(torch.nn.Module):\n",
    "\n",
    "  def __init__(self):\n",
    "    super(Model, self).__init__()\n",
    "    self.layer1 = nn.Sequential(\n",
    "          nn.Linear(13,398, bias=True), # input_layer = 13, hidden_layer1 = 398 \n",
    "          nn.ReLU(),\n",
    "        nn.BatchNorm1d(398)\n",
    "    )\n",
    "\n",
    "    # batch normazliation 1d, 파라미터 값으로 vector의 길이를 전해줌\n",
    "    # 추후에 이미지를 다루게 된다면, 그때는 batch normalization 2d를 이용하게 됨 \n",
    "    # 그때는 파라미터 값으로 채널, 가로, 세로 길이를 전달해주게 됨 \n",
    "\n",
    "    self.layer2 = nn.Sequential(\n",
    "          nn.Linear(398,15, bias=True), # hidden_layer1 = 398, hidden_layer2 = 15\n",
    "        nn.ReLU(),\n",
    "    )\n",
    "    self.layer3 = nn.Sequential(\n",
    "          nn.Linear(15,10, bias=True), # hidden_layer1 = 15, hidden_layer2 = 10\n",
    "        nn.ReLU(),\n",
    "    )\n",
    "    self.layer4 = nn.Sequential(\n",
    "        nn.Linear(10, 3, bias=True), # hidden_layer3 = 10, output_layer = 3\n",
    "        nn.Softmax(dim = 1) # 그래도 마지막에 Softmax함수를 쓰는 이유는 output이 이진분류이기 때문\n",
    "                            # Softmax 함수는 출력 범위가 (0,1)로 모델 출력을 확률로 해석 가능\n",
    "    )\n",
    "\n",
    "  def forward(self,x):\n",
    "    output = self.layer1(x)\n",
    "    output = self.layer2(output)\n",
    "    output = self.layer3(output)\n",
    "    output = self.layer4(output)\n",
    "    return output"
   ]
  },
  {
   "cell_type": "code",
   "execution_count": 58,
   "metadata": {},
   "outputs": [
    {
     "name": "stdout",
     "output_type": "stream",
     "text": [
      "Model(\n",
      "  (layer1): Sequential(\n",
      "    (0): Linear(in_features=13, out_features=398, bias=True)\n",
      "    (1): ReLU()\n",
      "    (2): BatchNorm1d(398, eps=1e-05, momentum=0.1, affine=True, track_running_stats=True)\n",
      "  )\n",
      "  (layer2): Sequential(\n",
      "    (0): Linear(in_features=398, out_features=15, bias=True)\n",
      "    (1): ReLU()\n",
      "  )\n",
      "  (layer3): Sequential(\n",
      "    (0): Linear(in_features=15, out_features=10, bias=True)\n",
      "    (1): ReLU()\n",
      "  )\n",
      "  (layer4): Sequential(\n",
      "    (0): Linear(in_features=10, out_features=3, bias=True)\n",
      "    (1): Softmax(dim=1)\n",
      "  )\n",
      ")\n"
     ]
    },
    {
     "name": "stderr",
     "output_type": "stream",
     "text": [
      "/var/folders/1w/94w03vcn7rv_gpwvy1gmzjhw0000gn/T/ipykernel_51434/3402539847.py:3: UserWarning: nn.init.xavier_uniform is now deprecated in favor of nn.init.xavier_uniform_.\n",
      "  torch.nn.init.xavier_uniform(layer.weight)\n"
     ]
    }
   ],
   "source": [
    "model = Model().to(device)\n",
    "model.apply(init_weights)\n",
    "\n",
    "print(model)"
   ]
  },
  {
   "cell_type": "code",
   "execution_count": 59,
   "metadata": {},
   "outputs": [
    {
     "name": "stdout",
     "output_type": "stream",
     "text": [
      "0 1.1483900547027588\n",
      "10 0.7496241331100464\n",
      "20 0.6189386248588562\n",
      "30 0.5982171297073364\n",
      "40 0.5921940803527832\n",
      "50 0.5905695557594299\n",
      "60 0.5861404538154602\n",
      "70 0.5728455781936646\n",
      "80 0.5735688805580139\n",
      "90 0.5681279301643372\n"
     ]
    },
    {
     "data": {
      "image/png": "[encoded data removed]",
      "text/plain": [
       "<Figure size 640x480 with 1 Axes>"
      ]
     },
     "metadata": {},
     "output_type": "display_data"
    }
   ],
   "source": [
    "loss_fn  = nn.CrossEntropyLoss().to(device)\n",
    "\n",
    "# Adam Optimizer, lr = 0.01 -> 큰 학습율\n",
    "\n",
    "optimizer_adam = optim.Adam(model.parameters(), lr= 0.01)\n",
    "\n",
    "losses = []\n",
    "for epoch in range(100):\n",
    "\n",
    "  optimizer_adam.zero_grad()\n",
    "  hypothesis = model(x_train) # 예측값\n",
    "\n",
    "  # 비용 함수\n",
    "  cost = loss_fn(hypothesis, y_train)\n",
    "  cost.backward()\n",
    "  optimizer_adam.step()\n",
    "  losses.append(cost.item())\n",
    "\n",
    "  # 마지막 10개의 loss 출력\n",
    "  if epoch % 10 == 0:\n",
    "    print(epoch, cost.item())\n",
    "\n",
    "plt.plot(losses)\n",
    "plt.show()"
   ]
  },
  {
   "cell_type": "code",
   "execution_count": 60,
   "metadata": {},
   "outputs": [
    {
     "name": "stdout",
     "output_type": "stream",
     "text": [
      "model의 output은 :  [9.9997818e-01 7.8783222e-07 2.1012656e-05]\n",
      "argmax를 한 후의 output은 0\n",
      "accuracy는 0.9629629629629629\n"
     ]
    }
   ],
   "source": [
    "with torch.no_grad():\n",
    "  model = model.to('cpu') # move a PyTorch model to the CPU\n",
    "  y_pred = model(x_test) # 예측값\n",
    "  y_pred = y_pred.detach().numpy() # numpy 형식\n",
    "  predicted = np.argmax(y_pred, axis =1)\n",
    "  accuracy = (accuracy_score(predicted, y_test))\n",
    "\n",
    "print(f'model의 output은 :  {y_pred[0]}')\n",
    "print(f'argmax를 한 후의 output은 {predicted[0]}')\n",
    "print(f'accuracy는 {accuracy}')"
   ]
  },
  {
   "cell_type": "markdown",
   "metadata": {
    "id": "3RzRM7xThZV_"
   },
   "source": [
    "# < 3주차 과제 2 : CNN 맛보기>"
   ]
  },
  {
   "cell_type": "code",
   "execution_count": 59,
   "metadata": {
    "id": "56xqgtLxhZw6"
   },
   "outputs": [],
   "source": [
    "from __future__ import print_function\n",
    "import argparse\n",
    "import torch\n",
    "import torch.nn as nn\n",
    "import torch.nn.functional as F\n",
    "import torch.optim as optim\n",
    "from torchvision import datasets, transforms\n",
    "from torch.autograd import Variable"
   ]
  },
  {
   "cell_type": "code",
   "execution_count": 60,
   "metadata": {
    "id": "TzkF2bFNhcQ2",
    "scrolled": true
   },
   "outputs": [
    {
     "name": "stdout",
     "output_type": "stream",
     "text": [
      "Downloading http://yann.lecun.com/exdb/mnist/train-images-idx3-ubyte.gz\n",
      "Downloading http://yann.lecun.com/exdb/mnist/train-images-idx3-ubyte.gz to ./data/MNIST/raw/train-images-idx3-ubyte.gz\n"
     ]
    },
    {
     "name": "stderr",
     "output_type": "stream",
     "text": [
      "100%|████████████████████████████| 9912422/9912422 [00:01<00:00, 4964917.32it/s]\n"
     ]
    },
    {
     "name": "stdout",
     "output_type": "stream",
     "text": [
      "Extracting ./data/MNIST/raw/train-images-idx3-ubyte.gz to ./data/MNIST/raw\n",
      "\n",
      "Downloading http://yann.lecun.com/exdb/mnist/train-labels-idx1-ubyte.gz\n",
      "Downloading http://yann.lecun.com/exdb/mnist/train-labels-idx1-ubyte.gz to ./data/MNIST/raw/train-labels-idx1-ubyte.gz\n"
     ]
    },
    {
     "name": "stderr",
     "output_type": "stream",
     "text": [
      "100%|███████████████████████████████| 28881/28881 [00:00<00:00, 11735680.47it/s]\n"
     ]
    },
    {
     "name": "stdout",
     "output_type": "stream",
     "text": [
      "Extracting ./data/MNIST/raw/train-labels-idx1-ubyte.gz to ./data/MNIST/raw\n",
      "\n",
      "Downloading http://yann.lecun.com/exdb/mnist/t10k-images-idx3-ubyte.gz\n",
      "Downloading http://yann.lecun.com/exdb/mnist/t10k-images-idx3-ubyte.gz to ./data/MNIST/raw/t10k-images-idx3-ubyte.gz\n"
     ]
    },
    {
     "name": "stderr",
     "output_type": "stream",
     "text": [
      "100%|████████████████████████████| 1648877/1648877 [00:00<00:00, 9390658.61it/s]\n"
     ]
    },
    {
     "name": "stdout",
     "output_type": "stream",
     "text": [
      "Extracting ./data/MNIST/raw/t10k-images-idx3-ubyte.gz to ./data/MNIST/raw\n",
      "\n",
      "Downloading http://yann.lecun.com/exdb/mnist/t10k-labels-idx1-ubyte.gz\n",
      "Downloading http://yann.lecun.com/exdb/mnist/t10k-labels-idx1-ubyte.gz to ./data/MNIST/raw/t10k-labels-idx1-ubyte.gz\n"
     ]
    },
    {
     "name": "stderr",
     "output_type": "stream",
     "text": [
      "100%|██████████████████████████████████| 4542/4542 [00:00<00:00, 1844908.85it/s]"
     ]
    },
    {
     "name": "stdout",
     "output_type": "stream",
     "text": [
      "Extracting ./data/MNIST/raw/t10k-labels-idx1-ubyte.gz to ./data/MNIST/raw\n",
      "\n"
     ]
    },
    {
     "name": "stderr",
     "output_type": "stream",
     "text": [
      "\n"
     ]
    }
   ],
   "source": [
    "# Training settings\n",
    "\n",
    "batch_size = 64\n",
    "\n",
    "# MNIST Dataset\n",
    "train_dataset = datasets.MNIST(root='./data/',\n",
    "                               train=True,\n",
    "                               transform=transforms.ToTensor(),\n",
    "                               download=True)\n",
    "\n",
    "test_dataset = datasets.MNIST(root='./data/',\n",
    "                              train=False,\n",
    "                              transform=transforms.ToTensor())\n",
    "\n",
    "# Data Loader (Input Pipeline)\n",
    "train_loader = torch.utils.data.DataLoader(dataset=train_dataset,\n",
    "                                           batch_size=batch_size,\n",
    "                                           shuffle=True)\n",
    "\n",
    "test_loader = torch.utils.data.DataLoader(dataset=test_dataset,\n",
    "                                          batch_size=batch_size,\n",
    "                                          shuffle=False)"
   ]
  },
  {
   "cell_type": "code",
   "execution_count": 61,
   "metadata": {
    "id": "tLCSvgganBrH"
   },
   "outputs": [],
   "source": [
    "class Net(nn.Module):\n",
    "  def __init__(self):\n",
    "    super(Net, self).__init__()\n",
    "    self.conv1 = nn.Conv2d(1, 10, kernel_size = 5)\n",
    "    self.conv2 = nn.Conv2d(10, 20, kernel_size = 5)\n",
    "    self.mp = nn.MaxPool2d(2)\n",
    "    self.fc = nn.Linear(20 * 4 * 4, 10) \n",
    "    # Assuming the spatial dimensions after the second max pooling are 4x4\n",
    "    # Default padding 0, stride 1\n",
    "\n",
    "\n",
    "  def forward(self, x):\n",
    "    in_size = x.size(0)\n",
    "    x = F.relu(self.mp(self.conv1(x)))\n",
    "    x = F.relu(self.mp(self.conv2(x)))\n",
    "    x = x.view(in_size, -1)\n",
    "    x = self.fc(x)\n",
    "    return F.log_softmax(x)"
   ]
  },
  {
   "attachments": {
    "image.png": {
     "image/png": "[encoded data removed]"
    }
   },
   "cell_type": "markdown",
   "metadata": {},
   "source": [
    "![image.png](attachment:image.png)"
   ]
  },
  {
   "cell_type": "code",
   "execution_count": 62,
   "metadata": {
    "id": "lkYZ4pUdnUHc"
   },
   "outputs": [],
   "source": [
    "model = Net()\n",
    "optimizer = optim.SGD(model.parameters(), lr = 0.01, momentum = 0.5)"
   ]
  },
  {
   "cell_type": "code",
   "execution_count": 63,
   "metadata": {
    "id": "IzUrEM3EnXJb"
   },
   "outputs": [],
   "source": [
    "def train(epoch):\n",
    "  model.train()\n",
    "  for batch_idx, (data, target) in enumerate(train_loader):\n",
    "    data, target = Variable(data), Variable(target)\n",
    "    optimizer.zero_grad()\n",
    "    output = model(data)\n",
    "    loss = F.nll_loss(output, target)\n",
    "    loss.backward()\n",
    "    optimizer.step()\n",
    "    if batch_idx % 10 == 0:\n",
    "      print('Train Epoch: {} [{}/{} ({:.0f}%)]\\tLoss: {:.6f}'.format(\n",
    "          epoch, batch_idx * len(data), len(train_loader.dataset),\n",
    "          100. * batch_idx / len(train_loader), loss.item()))"
   ]
  },
  {
   "cell_type": "code",
   "execution_count": 64,
   "metadata": {
    "id": "EFi0gYJGn2aa"
   },
   "outputs": [],
   "source": [
    "def test():\n",
    "    model.eval() \n",
    "    # model.eval() 의 기능은?\n",
    "    # PyTorch 모델을 평가 모드로 설정하는 메서드\n",
    "    # 모델을 평가 모드로 설정하면 모델 내부의 일부 층들이 학습 중에 사용되는 \n",
    "    # 드롭아웃(dropout)이나 배치 정규화(batch normalization)와 같은 특정 동작을 평가 모드에 맞게 조정\n",
    "    \n",
    "    test_loss = 0\n",
    "    correct = 0\n",
    "    for data, target in test_loader:\n",
    "        data, target = Variable(data, volatile=True), Variable(target)\n",
    "        output = model(data)\n",
    "        test_loss += F.nll_loss(output, target, size_average=False).data # nll_loss?? / cross entropy loss와의 관계 확인!\n",
    "        pred = output.data.max(1, keepdim=True)[1]\n",
    "        correct += pred.eq(target.data.view_as(pred)).cpu().sum()\n",
    "\n",
    "    test_loss /= len(test_loader.dataset)\n",
    "    print('\\nTest set: Average loss: {:.4f}, Accuracy: {}/{} ({:.0f}%)\\n'.format(\n",
    "        test_loss, correct, len(test_loader.dataset),\n",
    "        100. * correct / len(test_loader.dataset)))"
   ]
  },
  {
   "cell_type": "code",
   "execution_count": 65,
   "metadata": {
    "id": "zSvSZb_Bn4Nx"
   },
   "outputs": [
    {
     "name": "stderr",
     "output_type": "stream",
     "text": [
      "/var/folders/1w/94w03vcn7rv_gpwvy1gmzjhw0000gn/T/ipykernel_50550/3450331345.py:17: UserWarning: Implicit dimension choice for log_softmax has been deprecated. Change the call to include dim=X as an argument.\n",
      "  return F.log_softmax(x)\n"
     ]
    },
    {
     "name": "stdout",
     "output_type": "stream",
     "text": [
      "Train Epoch: 1 [0/60000 (0%)]\tLoss: 2.301644\n",
      "Train Epoch: 1 [640/60000 (1%)]\tLoss: 2.314152\n",
      "Train Epoch: 1 [1280/60000 (2%)]\tLoss: 2.292846\n",
      "Train Epoch: 1 [1920/60000 (3%)]\tLoss: 2.283323\n",
      "Train Epoch: 1 [2560/60000 (4%)]\tLoss: 2.284157\n",
      "Train Epoch: 1 [3200/60000 (5%)]\tLoss: 2.277850\n",
      "Train Epoch: 1 [3840/60000 (6%)]\tLoss: 2.261839\n",
      "Train Epoch: 1 [4480/60000 (7%)]\tLoss: 2.249530\n",
      "Train Epoch: 1 [5120/60000 (9%)]\tLoss: 2.244027\n",
      "Train Epoch: 1 [5760/60000 (10%)]\tLoss: 2.230111\n",
      "Train Epoch: 1 [6400/60000 (11%)]\tLoss: 2.195687\n",
      "Train Epoch: 1 [7040/60000 (12%)]\tLoss: 2.169042\n",
      "Train Epoch: 1 [7680/60000 (13%)]\tLoss: 2.131698\n",
      "Train Epoch: 1 [8320/60000 (14%)]\tLoss: 2.025305\n",
      "Train Epoch: 1 [8960/60000 (15%)]\tLoss: 1.959995\n",
      "Train Epoch: 1 [9600/60000 (16%)]\tLoss: 1.814789\n",
      "Train Epoch: 1 [10240/60000 (17%)]\tLoss: 1.558455\n",
      "Train Epoch: 1 [10880/60000 (18%)]\tLoss: 1.359700\n",
      "Train Epoch: 1 [11520/60000 (19%)]\tLoss: 1.049719\n",
      "Train Epoch: 1 [12160/60000 (20%)]\tLoss: 0.998806\n",
      "Train Epoch: 1 [12800/60000 (21%)]\tLoss: 0.815188\n",
      "Train Epoch: 1 [13440/60000 (22%)]\tLoss: 0.757222\n",
      "Train Epoch: 1 [14080/60000 (23%)]\tLoss: 0.686862\n",
      "Train Epoch: 1 [14720/60000 (25%)]\tLoss: 0.648882\n",
      "Train Epoch: 1 [15360/60000 (26%)]\tLoss: 0.677837\n",
      "Train Epoch: 1 [16000/60000 (27%)]\tLoss: 0.633025\n",
      "Train Epoch: 1 [16640/60000 (28%)]\tLoss: 0.459859\n",
      "Train Epoch: 1 [17280/60000 (29%)]\tLoss: 0.468543\n",
      "Train Epoch: 1 [17920/60000 (30%)]\tLoss: 0.483679\n",
      "Train Epoch: 1 [18560/60000 (31%)]\tLoss: 0.579166\n",
      "Train Epoch: 1 [19200/60000 (32%)]\tLoss: 0.453113\n",
      "Train Epoch: 1 [19840/60000 (33%)]\tLoss: 0.329334\n",
      "Train Epoch: 1 [20480/60000 (34%)]\tLoss: 0.292594\n",
      "Train Epoch: 1 [21120/60000 (35%)]\tLoss: 0.377365\n",
      "Train Epoch: 1 [21760/60000 (36%)]\tLoss: 0.318695\n",
      "Train Epoch: 1 [22400/60000 (37%)]\tLoss: 0.457073\n",
      "Train Epoch: 1 [23040/60000 (38%)]\tLoss: 0.322994\n",
      "Train Epoch: 1 [23680/60000 (39%)]\tLoss: 0.446901\n",
      "Train Epoch: 1 [24320/60000 (41%)]\tLoss: 0.344412\n",
      "Train Epoch: 1 [24960/60000 (42%)]\tLoss: 0.448175\n",
      "Train Epoch: 1 [25600/60000 (43%)]\tLoss: 0.313988\n",
      "Train Epoch: 1 [26240/60000 (44%)]\tLoss: 0.453616\n",
      "Train Epoch: 1 [26880/60000 (45%)]\tLoss: 0.361656\n",
      "Train Epoch: 1 [27520/60000 (46%)]\tLoss: 0.399164\n",
      "Train Epoch: 1 [28160/60000 (47%)]\tLoss: 0.249977\n",
      "Train Epoch: 1 [28800/60000 (48%)]\tLoss: 0.438626\n",
      "Train Epoch: 1 [29440/60000 (49%)]\tLoss: 0.341843\n",
      "Train Epoch: 1 [30080/60000 (50%)]\tLoss: 0.327626\n",
      "Train Epoch: 1 [30720/60000 (51%)]\tLoss: 0.223428\n",
      "Train Epoch: 1 [31360/60000 (52%)]\tLoss: 0.327341\n",
      "Train Epoch: 1 [32000/60000 (53%)]\tLoss: 0.400578\n",
      "Train Epoch: 1 [32640/60000 (54%)]\tLoss: 0.225504\n",
      "Train Epoch: 1 [33280/60000 (55%)]\tLoss: 0.497355\n",
      "Train Epoch: 1 [33920/60000 (57%)]\tLoss: 0.533376\n",
      "Train Epoch: 1 [34560/60000 (58%)]\tLoss: 0.153079\n",
      "Train Epoch: 1 [35200/60000 (59%)]\tLoss: 0.299538\n",
      "Train Epoch: 1 [35840/60000 (60%)]\tLoss: 0.362583\n",
      "Train Epoch: 1 [36480/60000 (61%)]\tLoss: 0.184572\n",
      "Train Epoch: 1 [37120/60000 (62%)]\tLoss: 0.333241\n",
      "Train Epoch: 1 [37760/60000 (63%)]\tLoss: 0.360822\n",
      "Train Epoch: 1 [38400/60000 (64%)]\tLoss: 0.229955\n",
      "Train Epoch: 1 [39040/60000 (65%)]\tLoss: 0.300334\n",
      "Train Epoch: 1 [39680/60000 (66%)]\tLoss: 0.368015\n",
      "Train Epoch: 1 [40320/60000 (67%)]\tLoss: 0.316362\n",
      "Train Epoch: 1 [40960/60000 (68%)]\tLoss: 0.292012\n",
      "Train Epoch: 1 [41600/60000 (69%)]\tLoss: 0.245066\n",
      "Train Epoch: 1 [42240/60000 (70%)]\tLoss: 0.376203\n",
      "Train Epoch: 1 [42880/60000 (71%)]\tLoss: 0.220463\n",
      "Train Epoch: 1 [43520/60000 (72%)]\tLoss: 0.090957\n",
      "Train Epoch: 1 [44160/60000 (74%)]\tLoss: 0.350894\n",
      "Train Epoch: 1 [44800/60000 (75%)]\tLoss: 0.228491\n",
      "Train Epoch: 1 [45440/60000 (76%)]\tLoss: 0.102901\n",
      "Train Epoch: 1 [46080/60000 (77%)]\tLoss: 0.196659\n",
      "Train Epoch: 1 [46720/60000 (78%)]\tLoss: 0.139284\n",
      "Train Epoch: 1 [47360/60000 (79%)]\tLoss: 0.205665\n",
      "Train Epoch: 1 [48000/60000 (80%)]\tLoss: 0.128721\n",
      "Train Epoch: 1 [48640/60000 (81%)]\tLoss: 0.146879\n",
      "Train Epoch: 1 [49280/60000 (82%)]\tLoss: 0.157069\n",
      "Train Epoch: 1 [49920/60000 (83%)]\tLoss: 0.293343\n",
      "Train Epoch: 1 [50560/60000 (84%)]\tLoss: 0.194754\n",
      "Train Epoch: 1 [51200/60000 (85%)]\tLoss: 0.207138\n",
      "Train Epoch: 1 [51840/60000 (86%)]\tLoss: 0.137219\n",
      "Train Epoch: 1 [52480/60000 (87%)]\tLoss: 0.186895\n",
      "Train Epoch: 1 [53120/60000 (88%)]\tLoss: 0.364205\n",
      "Train Epoch: 1 [53760/60000 (90%)]\tLoss: 0.171678\n",
      "Train Epoch: 1 [54400/60000 (91%)]\tLoss: 0.336453\n",
      "Train Epoch: 1 [55040/60000 (92%)]\tLoss: 0.243226\n",
      "Train Epoch: 1 [55680/60000 (93%)]\tLoss: 0.218171\n",
      "Train Epoch: 1 [56320/60000 (94%)]\tLoss: 0.308252\n",
      "Train Epoch: 1 [56960/60000 (95%)]\tLoss: 0.210018\n",
      "Train Epoch: 1 [57600/60000 (96%)]\tLoss: 0.205479\n",
      "Train Epoch: 1 [58240/60000 (97%)]\tLoss: 0.163488\n",
      "Train Epoch: 1 [58880/60000 (98%)]\tLoss: 0.243913\n",
      "Train Epoch: 1 [59520/60000 (99%)]\tLoss: 0.191082\n"
     ]
    },
    {
     "name": "stderr",
     "output_type": "stream",
     "text": [
      "/var/folders/1w/94w03vcn7rv_gpwvy1gmzjhw0000gn/T/ipykernel_50550/2324877592.py:6: UserWarning: volatile was removed and now has no effect. Use `with torch.no_grad():` instead.\n",
      "  data, target = Variable(data, volatile=True), Variable(target)\n",
      "/opt/anaconda3/lib/python3.9/site-packages/torch/nn/_reduction.py:42: UserWarning: size_average and reduce args will be deprecated, please use reduction='sum' instead.\n",
      "  warnings.warn(warning.format(ret))\n"
     ]
    },
    {
     "name": "stdout",
     "output_type": "stream",
     "text": [
      "\n",
      "Test set: Average loss: 0.1987, Accuracy: 9419/10000 (94%)\n",
      "\n",
      "Train Epoch: 2 [0/60000 (0%)]\tLoss: 0.129440\n",
      "Train Epoch: 2 [640/60000 (1%)]\tLoss: 0.326835\n",
      "Train Epoch: 2 [1280/60000 (2%)]\tLoss: 0.250106\n",
      "Train Epoch: 2 [1920/60000 (3%)]\tLoss: 0.129902\n",
      "Train Epoch: 2 [2560/60000 (4%)]\tLoss: 0.120616\n",
      "Train Epoch: 2 [3200/60000 (5%)]\tLoss: 0.241876\n",
      "Train Epoch: 2 [3840/60000 (6%)]\tLoss: 0.120047\n",
      "Train Epoch: 2 [4480/60000 (7%)]\tLoss: 0.304248\n",
      "Train Epoch: 2 [5120/60000 (9%)]\tLoss: 0.209310\n",
      "Train Epoch: 2 [5760/60000 (10%)]\tLoss: 0.259439\n",
      "Train Epoch: 2 [6400/60000 (11%)]\tLoss: 0.250681\n",
      "Train Epoch: 2 [7040/60000 (12%)]\tLoss: 0.233188\n",
      "Train Epoch: 2 [7680/60000 (13%)]\tLoss: 0.121874\n",
      "Train Epoch: 2 [8320/60000 (14%)]\tLoss: 0.182673\n",
      "Train Epoch: 2 [8960/60000 (15%)]\tLoss: 0.147631\n",
      "Train Epoch: 2 [9600/60000 (16%)]\tLoss: 0.127460\n",
      "Train Epoch: 2 [10240/60000 (17%)]\tLoss: 0.242004\n",
      "Train Epoch: 2 [10880/60000 (18%)]\tLoss: 0.097707\n",
      "Train Epoch: 2 [11520/60000 (19%)]\tLoss: 0.178627\n",
      "Train Epoch: 2 [12160/60000 (20%)]\tLoss: 0.161262\n",
      "Train Epoch: 2 [12800/60000 (21%)]\tLoss: 0.359443\n",
      "Train Epoch: 2 [13440/60000 (22%)]\tLoss: 0.238137\n",
      "Train Epoch: 2 [14080/60000 (23%)]\tLoss: 0.116962\n",
      "Train Epoch: 2 [14720/60000 (25%)]\tLoss: 0.108669\n",
      "Train Epoch: 2 [15360/60000 (26%)]\tLoss: 0.075969\n",
      "Train Epoch: 2 [16000/60000 (27%)]\tLoss: 0.204193\n",
      "Train Epoch: 2 [16640/60000 (28%)]\tLoss: 0.164893\n",
      "Train Epoch: 2 [17280/60000 (29%)]\tLoss: 0.196488\n",
      "Train Epoch: 2 [17920/60000 (30%)]\tLoss: 0.140207\n",
      "Train Epoch: 2 [18560/60000 (31%)]\tLoss: 0.177301\n",
      "Train Epoch: 2 [19200/60000 (32%)]\tLoss: 0.234245\n",
      "Train Epoch: 2 [19840/60000 (33%)]\tLoss: 0.264869\n",
      "Train Epoch: 2 [20480/60000 (34%)]\tLoss: 0.118524\n",
      "Train Epoch: 2 [21120/60000 (35%)]\tLoss: 0.168909\n",
      "Train Epoch: 2 [21760/60000 (36%)]\tLoss: 0.175355\n",
      "Train Epoch: 2 [22400/60000 (37%)]\tLoss: 0.098366\n",
      "Train Epoch: 2 [23040/60000 (38%)]\tLoss: 0.132861\n",
      "Train Epoch: 2 [23680/60000 (39%)]\tLoss: 0.126317\n",
      "Train Epoch: 2 [24320/60000 (41%)]\tLoss: 0.094440\n",
      "Train Epoch: 2 [24960/60000 (42%)]\tLoss: 0.078375\n",
      "Train Epoch: 2 [25600/60000 (43%)]\tLoss: 0.175671\n",
      "Train Epoch: 2 [26240/60000 (44%)]\tLoss: 0.311615\n",
      "Train Epoch: 2 [26880/60000 (45%)]\tLoss: 0.184802\n",
      "Train Epoch: 2 [27520/60000 (46%)]\tLoss: 0.074547\n",
      "Train Epoch: 2 [28160/60000 (47%)]\tLoss: 0.137128\n",
      "Train Epoch: 2 [28800/60000 (48%)]\tLoss: 0.195937\n",
      "Train Epoch: 2 [29440/60000 (49%)]\tLoss: 0.119206\n",
      "Train Epoch: 2 [30080/60000 (50%)]\tLoss: 0.123452\n",
      "Train Epoch: 2 [30720/60000 (51%)]\tLoss: 0.092616\n",
      "Train Epoch: 2 [31360/60000 (52%)]\tLoss: 0.212036\n",
      "Train Epoch: 2 [32000/60000 (53%)]\tLoss: 0.131856\n",
      "Train Epoch: 2 [32640/60000 (54%)]\tLoss: 0.274997\n",
      "Train Epoch: 2 [33280/60000 (55%)]\tLoss: 0.103385\n",
      "Train Epoch: 2 [33920/60000 (57%)]\tLoss: 0.099097\n",
      "Train Epoch: 2 [34560/60000 (58%)]\tLoss: 0.132657\n",
      "Train Epoch: 2 [35200/60000 (59%)]\tLoss: 0.081059\n",
      "Train Epoch: 2 [35840/60000 (60%)]\tLoss: 0.110176\n",
      "Train Epoch: 2 [36480/60000 (61%)]\tLoss: 0.149405\n",
      "Train Epoch: 2 [37120/60000 (62%)]\tLoss: 0.153492\n",
      "Train Epoch: 2 [37760/60000 (63%)]\tLoss: 0.142791\n",
      "Train Epoch: 2 [38400/60000 (64%)]\tLoss: 0.181106\n",
      "Train Epoch: 2 [39040/60000 (65%)]\tLoss: 0.084275\n",
      "Train Epoch: 2 [39680/60000 (66%)]\tLoss: 0.120670\n",
      "Train Epoch: 2 [40320/60000 (67%)]\tLoss: 0.248815\n",
      "Train Epoch: 2 [40960/60000 (68%)]\tLoss: 0.171591\n",
      "Train Epoch: 2 [41600/60000 (69%)]\tLoss: 0.238306\n",
      "Train Epoch: 2 [42240/60000 (70%)]\tLoss: 0.105857\n",
      "Train Epoch: 2 [42880/60000 (71%)]\tLoss: 0.192517\n",
      "Train Epoch: 2 [43520/60000 (72%)]\tLoss: 0.140577\n",
      "Train Epoch: 2 [44160/60000 (74%)]\tLoss: 0.310348\n",
      "Train Epoch: 2 [44800/60000 (75%)]\tLoss: 0.222807\n",
      "Train Epoch: 2 [45440/60000 (76%)]\tLoss: 0.485130\n",
      "Train Epoch: 2 [46080/60000 (77%)]\tLoss: 0.063138\n",
      "Train Epoch: 2 [46720/60000 (78%)]\tLoss: 0.187277\n",
      "Train Epoch: 2 [47360/60000 (79%)]\tLoss: 0.172370\n",
      "Train Epoch: 2 [48000/60000 (80%)]\tLoss: 0.083795\n",
      "Train Epoch: 2 [48640/60000 (81%)]\tLoss: 0.113618\n",
      "Train Epoch: 2 [49280/60000 (82%)]\tLoss: 0.148231\n",
      "Train Epoch: 2 [49920/60000 (83%)]\tLoss: 0.101463\n",
      "Train Epoch: 2 [50560/60000 (84%)]\tLoss: 0.116480\n",
      "Train Epoch: 2 [51200/60000 (85%)]\tLoss: 0.123200\n",
      "Train Epoch: 2 [51840/60000 (86%)]\tLoss: 0.291183\n",
      "Train Epoch: 2 [52480/60000 (87%)]\tLoss: 0.249409\n",
      "Train Epoch: 2 [53120/60000 (88%)]\tLoss: 0.148792\n",
      "Train Epoch: 2 [53760/60000 (90%)]\tLoss: 0.140377\n",
      "Train Epoch: 2 [54400/60000 (91%)]\tLoss: 0.067866\n",
      "Train Epoch: 2 [55040/60000 (92%)]\tLoss: 0.286587\n",
      "Train Epoch: 2 [55680/60000 (93%)]\tLoss: 0.130415\n",
      "Train Epoch: 2 [56320/60000 (94%)]\tLoss: 0.217501\n",
      "Train Epoch: 2 [56960/60000 (95%)]\tLoss: 0.070335\n",
      "Train Epoch: 2 [57600/60000 (96%)]\tLoss: 0.147139\n",
      "Train Epoch: 2 [58240/60000 (97%)]\tLoss: 0.081890\n",
      "Train Epoch: 2 [58880/60000 (98%)]\tLoss: 0.103012\n",
      "Train Epoch: 2 [59520/60000 (99%)]\tLoss: 0.118814\n",
      "\n",
      "Test set: Average loss: 0.1271, Accuracy: 9623/10000 (96%)\n",
      "\n",
      "Train Epoch: 3 [0/60000 (0%)]\tLoss: 0.048888\n",
      "Train Epoch: 3 [640/60000 (1%)]\tLoss: 0.088274\n",
      "Train Epoch: 3 [1280/60000 (2%)]\tLoss: 0.249964\n",
      "Train Epoch: 3 [1920/60000 (3%)]\tLoss: 0.063777\n",
      "Train Epoch: 3 [2560/60000 (4%)]\tLoss: 0.130750\n",
      "Train Epoch: 3 [3200/60000 (5%)]\tLoss: 0.103967\n",
      "Train Epoch: 3 [3840/60000 (6%)]\tLoss: 0.155873\n",
      "Train Epoch: 3 [4480/60000 (7%)]\tLoss: 0.063659\n",
      "Train Epoch: 3 [5120/60000 (9%)]\tLoss: 0.209259\n",
      "Train Epoch: 3 [5760/60000 (10%)]\tLoss: 0.157825\n",
      "Train Epoch: 3 [6400/60000 (11%)]\tLoss: 0.111646\n",
      "Train Epoch: 3 [7040/60000 (12%)]\tLoss: 0.235175\n",
      "Train Epoch: 3 [7680/60000 (13%)]\tLoss: 0.075163\n",
      "Train Epoch: 3 [8320/60000 (14%)]\tLoss: 0.153196\n",
      "Train Epoch: 3 [8960/60000 (15%)]\tLoss: 0.107840\n",
      "Train Epoch: 3 [9600/60000 (16%)]\tLoss: 0.123872\n",
      "Train Epoch: 3 [10240/60000 (17%)]\tLoss: 0.094849\n",
      "Train Epoch: 3 [10880/60000 (18%)]\tLoss: 0.208739\n",
      "Train Epoch: 3 [11520/60000 (19%)]\tLoss: 0.150984\n",
      "Train Epoch: 3 [12160/60000 (20%)]\tLoss: 0.032321\n",
      "Train Epoch: 3 [12800/60000 (21%)]\tLoss: 0.152955\n",
      "Train Epoch: 3 [13440/60000 (22%)]\tLoss: 0.091126\n",
      "Train Epoch: 3 [14080/60000 (23%)]\tLoss: 0.051297\n",
      "Train Epoch: 3 [14720/60000 (25%)]\tLoss: 0.065074\n",
      "Train Epoch: 3 [15360/60000 (26%)]\tLoss: 0.120996\n",
      "Train Epoch: 3 [16000/60000 (27%)]\tLoss: 0.292741\n",
      "Train Epoch: 3 [16640/60000 (28%)]\tLoss: 0.117478\n",
      "Train Epoch: 3 [17280/60000 (29%)]\tLoss: 0.136629\n",
      "Train Epoch: 3 [17920/60000 (30%)]\tLoss: 0.123396\n",
      "Train Epoch: 3 [18560/60000 (31%)]\tLoss: 0.217867\n",
      "Train Epoch: 3 [19200/60000 (32%)]\tLoss: 0.121957\n",
      "Train Epoch: 3 [19840/60000 (33%)]\tLoss: 0.156105\n",
      "Train Epoch: 3 [20480/60000 (34%)]\tLoss: 0.065697\n",
      "Train Epoch: 3 [21120/60000 (35%)]\tLoss: 0.049265\n",
      "Train Epoch: 3 [21760/60000 (36%)]\tLoss: 0.190276\n",
      "Train Epoch: 3 [22400/60000 (37%)]\tLoss: 0.023443\n",
      "Train Epoch: 3 [23040/60000 (38%)]\tLoss: 0.077990\n",
      "Train Epoch: 3 [23680/60000 (39%)]\tLoss: 0.063847\n",
      "Train Epoch: 3 [24320/60000 (41%)]\tLoss: 0.244611\n",
      "Train Epoch: 3 [24960/60000 (42%)]\tLoss: 0.171406\n",
      "Train Epoch: 3 [25600/60000 (43%)]\tLoss: 0.119390\n",
      "Train Epoch: 3 [26240/60000 (44%)]\tLoss: 0.045023\n",
      "Train Epoch: 3 [26880/60000 (45%)]\tLoss: 0.033108\n",
      "Train Epoch: 3 [27520/60000 (46%)]\tLoss: 0.162907\n",
      "Train Epoch: 3 [28160/60000 (47%)]\tLoss: 0.102537\n",
      "Train Epoch: 3 [28800/60000 (48%)]\tLoss: 0.209216\n",
      "Train Epoch: 3 [29440/60000 (49%)]\tLoss: 0.070737\n",
      "Train Epoch: 3 [30080/60000 (50%)]\tLoss: 0.107354\n",
      "Train Epoch: 3 [30720/60000 (51%)]\tLoss: 0.203379\n",
      "Train Epoch: 3 [31360/60000 (52%)]\tLoss: 0.071619\n",
      "Train Epoch: 3 [32000/60000 (53%)]\tLoss: 0.052312\n",
      "Train Epoch: 3 [32640/60000 (54%)]\tLoss: 0.105052\n",
      "Train Epoch: 3 [33280/60000 (55%)]\tLoss: 0.052932\n",
      "Train Epoch: 3 [33920/60000 (57%)]\tLoss: 0.088318\n",
      "Train Epoch: 3 [34560/60000 (58%)]\tLoss: 0.059385\n",
      "Train Epoch: 3 [35200/60000 (59%)]\tLoss: 0.149851\n",
      "Train Epoch: 3 [35840/60000 (60%)]\tLoss: 0.076941\n",
      "Train Epoch: 3 [36480/60000 (61%)]\tLoss: 0.080221\n",
      "Train Epoch: 3 [37120/60000 (62%)]\tLoss: 0.131193\n",
      "Train Epoch: 3 [37760/60000 (63%)]\tLoss: 0.274702\n",
      "Train Epoch: 3 [38400/60000 (64%)]\tLoss: 0.060202\n",
      "Train Epoch: 3 [39040/60000 (65%)]\tLoss: 0.165024\n",
      "Train Epoch: 3 [39680/60000 (66%)]\tLoss: 0.079018\n",
      "Train Epoch: 3 [40320/60000 (67%)]\tLoss: 0.100559\n",
      "Train Epoch: 3 [40960/60000 (68%)]\tLoss: 0.066706\n",
      "Train Epoch: 3 [41600/60000 (69%)]\tLoss: 0.156033\n",
      "Train Epoch: 3 [42240/60000 (70%)]\tLoss: 0.107390\n",
      "Train Epoch: 3 [42880/60000 (71%)]\tLoss: 0.119030\n",
      "Train Epoch: 3 [43520/60000 (72%)]\tLoss: 0.129534\n"
     ]
    },
    {
     "name": "stdout",
     "output_type": "stream",
     "text": [
      "Train Epoch: 3 [44160/60000 (74%)]\tLoss: 0.040933\n",
      "Train Epoch: 3 [44800/60000 (75%)]\tLoss: 0.112658\n",
      "Train Epoch: 3 [45440/60000 (76%)]\tLoss: 0.236489\n",
      "Train Epoch: 3 [46080/60000 (77%)]\tLoss: 0.140244\n",
      "Train Epoch: 3 [46720/60000 (78%)]\tLoss: 0.105092\n",
      "Train Epoch: 3 [47360/60000 (79%)]\tLoss: 0.052786\n",
      "Train Epoch: 3 [48000/60000 (80%)]\tLoss: 0.131564\n",
      "Train Epoch: 3 [48640/60000 (81%)]\tLoss: 0.253395\n",
      "Train Epoch: 3 [49280/60000 (82%)]\tLoss: 0.060012\n",
      "Train Epoch: 3 [49920/60000 (83%)]\tLoss: 0.043195\n",
      "Train Epoch: 3 [50560/60000 (84%)]\tLoss: 0.116907\n",
      "Train Epoch: 3 [51200/60000 (85%)]\tLoss: 0.095486\n",
      "Train Epoch: 3 [51840/60000 (86%)]\tLoss: 0.098915\n",
      "Train Epoch: 3 [52480/60000 (87%)]\tLoss: 0.121493\n",
      "Train Epoch: 3 [53120/60000 (88%)]\tLoss: 0.117559\n",
      "Train Epoch: 3 [53760/60000 (90%)]\tLoss: 0.071881\n",
      "Train Epoch: 3 [54400/60000 (91%)]\tLoss: 0.135397\n",
      "Train Epoch: 3 [55040/60000 (92%)]\tLoss: 0.123207\n",
      "Train Epoch: 3 [55680/60000 (93%)]\tLoss: 0.102790\n",
      "Train Epoch: 3 [56320/60000 (94%)]\tLoss: 0.054161\n",
      "Train Epoch: 3 [56960/60000 (95%)]\tLoss: 0.133422\n",
      "Train Epoch: 3 [57600/60000 (96%)]\tLoss: 0.084269\n",
      "Train Epoch: 3 [58240/60000 (97%)]\tLoss: 0.090974\n",
      "Train Epoch: 3 [58880/60000 (98%)]\tLoss: 0.092176\n",
      "Train Epoch: 3 [59520/60000 (99%)]\tLoss: 0.128415\n",
      "\n",
      "Test set: Average loss: 0.0943, Accuracy: 9718/10000 (97%)\n",
      "\n",
      "Train Epoch: 4 [0/60000 (0%)]\tLoss: 0.078386\n",
      "Train Epoch: 4 [640/60000 (1%)]\tLoss: 0.192671\n",
      "Train Epoch: 4 [1280/60000 (2%)]\tLoss: 0.108444\n",
      "Train Epoch: 4 [1920/60000 (3%)]\tLoss: 0.149230\n",
      "Train Epoch: 4 [2560/60000 (4%)]\tLoss: 0.078038\n",
      "Train Epoch: 4 [3200/60000 (5%)]\tLoss: 0.085442\n",
      "Train Epoch: 4 [3840/60000 (6%)]\tLoss: 0.039701\n",
      "Train Epoch: 4 [4480/60000 (7%)]\tLoss: 0.075029\n",
      "Train Epoch: 4 [5120/60000 (9%)]\tLoss: 0.063463\n",
      "Train Epoch: 4 [5760/60000 (10%)]\tLoss: 0.038727\n",
      "Train Epoch: 4 [6400/60000 (11%)]\tLoss: 0.095460\n",
      "Train Epoch: 4 [7040/60000 (12%)]\tLoss: 0.133863\n",
      "Train Epoch: 4 [7680/60000 (13%)]\tLoss: 0.102187\n",
      "Train Epoch: 4 [8320/60000 (14%)]\tLoss: 0.116209\n",
      "Train Epoch: 4 [8960/60000 (15%)]\tLoss: 0.056214\n",
      "Train Epoch: 4 [9600/60000 (16%)]\tLoss: 0.208622\n",
      "Train Epoch: 4 [10240/60000 (17%)]\tLoss: 0.088639\n",
      "Train Epoch: 4 [10880/60000 (18%)]\tLoss: 0.085521\n",
      "Train Epoch: 4 [11520/60000 (19%)]\tLoss: 0.137192\n",
      "Train Epoch: 4 [12160/60000 (20%)]\tLoss: 0.181649\n",
      "Train Epoch: 4 [12800/60000 (21%)]\tLoss: 0.133725\n",
      "Train Epoch: 4 [13440/60000 (22%)]\tLoss: 0.095166\n",
      "Train Epoch: 4 [14080/60000 (23%)]\tLoss: 0.102847\n",
      "Train Epoch: 4 [14720/60000 (25%)]\tLoss: 0.103836\n",
      "Train Epoch: 4 [15360/60000 (26%)]\tLoss: 0.397118\n",
      "Train Epoch: 4 [16000/60000 (27%)]\tLoss: 0.205371\n",
      "Train Epoch: 4 [16640/60000 (28%)]\tLoss: 0.084797\n",
      "Train Epoch: 4 [17280/60000 (29%)]\tLoss: 0.027202\n",
      "Train Epoch: 4 [17920/60000 (30%)]\tLoss: 0.087038\n",
      "Train Epoch: 4 [18560/60000 (31%)]\tLoss: 0.098664\n",
      "Train Epoch: 4 [19200/60000 (32%)]\tLoss: 0.063684\n",
      "Train Epoch: 4 [19840/60000 (33%)]\tLoss: 0.082528\n",
      "Train Epoch: 4 [20480/60000 (34%)]\tLoss: 0.103832\n",
      "Train Epoch: 4 [21120/60000 (35%)]\tLoss: 0.042258\n",
      "Train Epoch: 4 [21760/60000 (36%)]\tLoss: 0.073816\n",
      "Train Epoch: 4 [22400/60000 (37%)]\tLoss: 0.022426\n",
      "Train Epoch: 4 [23040/60000 (38%)]\tLoss: 0.285618\n",
      "Train Epoch: 4 [23680/60000 (39%)]\tLoss: 0.072523\n",
      "Train Epoch: 4 [24320/60000 (41%)]\tLoss: 0.052623\n",
      "Train Epoch: 4 [24960/60000 (42%)]\tLoss: 0.172222\n",
      "Train Epoch: 4 [25600/60000 (43%)]\tLoss: 0.107477\n",
      "Train Epoch: 4 [26240/60000 (44%)]\tLoss: 0.052161\n",
      "Train Epoch: 4 [26880/60000 (45%)]\tLoss: 0.102886\n",
      "Train Epoch: 4 [27520/60000 (46%)]\tLoss: 0.071288\n",
      "Train Epoch: 4 [28160/60000 (47%)]\tLoss: 0.045125\n",
      "Train Epoch: 4 [28800/60000 (48%)]\tLoss: 0.120878\n",
      "Train Epoch: 4 [29440/60000 (49%)]\tLoss: 0.041389\n",
      "Train Epoch: 4 [30080/60000 (50%)]\tLoss: 0.198110\n",
      "Train Epoch: 4 [30720/60000 (51%)]\tLoss: 0.166535\n",
      "Train Epoch: 4 [31360/60000 (52%)]\tLoss: 0.074723\n",
      "Train Epoch: 4 [32000/60000 (53%)]\tLoss: 0.048206\n",
      "Train Epoch: 4 [32640/60000 (54%)]\tLoss: 0.073225\n",
      "Train Epoch: 4 [33280/60000 (55%)]\tLoss: 0.219176\n",
      "Train Epoch: 4 [33920/60000 (57%)]\tLoss: 0.109775\n",
      "Train Epoch: 4 [34560/60000 (58%)]\tLoss: 0.106051\n",
      "Train Epoch: 4 [35200/60000 (59%)]\tLoss: 0.177553\n",
      "Train Epoch: 4 [35840/60000 (60%)]\tLoss: 0.038894\n",
      "Train Epoch: 4 [36480/60000 (61%)]\tLoss: 0.074675\n",
      "Train Epoch: 4 [37120/60000 (62%)]\tLoss: 0.024904\n",
      "Train Epoch: 4 [37760/60000 (63%)]\tLoss: 0.130394\n",
      "Train Epoch: 4 [38400/60000 (64%)]\tLoss: 0.025142\n",
      "Train Epoch: 4 [39040/60000 (65%)]\tLoss: 0.075315\n",
      "Train Epoch: 4 [39680/60000 (66%)]\tLoss: 0.148165\n",
      "Train Epoch: 4 [40320/60000 (67%)]\tLoss: 0.051988\n",
      "Train Epoch: 4 [40960/60000 (68%)]\tLoss: 0.083243\n",
      "Train Epoch: 4 [41600/60000 (69%)]\tLoss: 0.071062\n",
      "Train Epoch: 4 [42240/60000 (70%)]\tLoss: 0.100627\n",
      "Train Epoch: 4 [42880/60000 (71%)]\tLoss: 0.103743\n",
      "Train Epoch: 4 [43520/60000 (72%)]\tLoss: 0.164877\n",
      "Train Epoch: 4 [44160/60000 (74%)]\tLoss: 0.155128\n",
      "Train Epoch: 4 [44800/60000 (75%)]\tLoss: 0.057891\n",
      "Train Epoch: 4 [45440/60000 (76%)]\tLoss: 0.043024\n",
      "Train Epoch: 4 [46080/60000 (77%)]\tLoss: 0.125904\n",
      "Train Epoch: 4 [46720/60000 (78%)]\tLoss: 0.041794\n",
      "Train Epoch: 4 [47360/60000 (79%)]\tLoss: 0.047994\n",
      "Train Epoch: 4 [48000/60000 (80%)]\tLoss: 0.097295\n",
      "Train Epoch: 4 [48640/60000 (81%)]\tLoss: 0.104190\n",
      "Train Epoch: 4 [49280/60000 (82%)]\tLoss: 0.025933\n",
      "Train Epoch: 4 [49920/60000 (83%)]\tLoss: 0.122071\n",
      "Train Epoch: 4 [50560/60000 (84%)]\tLoss: 0.102139\n",
      "Train Epoch: 4 [51200/60000 (85%)]\tLoss: 0.031585\n",
      "Train Epoch: 4 [51840/60000 (86%)]\tLoss: 0.101497\n",
      "Train Epoch: 4 [52480/60000 (87%)]\tLoss: 0.164689\n",
      "Train Epoch: 4 [53120/60000 (88%)]\tLoss: 0.093407\n",
      "Train Epoch: 4 [53760/60000 (90%)]\tLoss: 0.039976\n",
      "Train Epoch: 4 [54400/60000 (91%)]\tLoss: 0.105384\n",
      "Train Epoch: 4 [55040/60000 (92%)]\tLoss: 0.124783\n",
      "Train Epoch: 4 [55680/60000 (93%)]\tLoss: 0.029894\n",
      "Train Epoch: 4 [56320/60000 (94%)]\tLoss: 0.091350\n",
      "Train Epoch: 4 [56960/60000 (95%)]\tLoss: 0.052096\n",
      "Train Epoch: 4 [57600/60000 (96%)]\tLoss: 0.098655\n",
      "Train Epoch: 4 [58240/60000 (97%)]\tLoss: 0.078835\n",
      "Train Epoch: 4 [58880/60000 (98%)]\tLoss: 0.098729\n",
      "Train Epoch: 4 [59520/60000 (99%)]\tLoss: 0.219641\n",
      "\n",
      "Test set: Average loss: 0.0798, Accuracy: 9761/10000 (98%)\n",
      "\n",
      "Train Epoch: 5 [0/60000 (0%)]\tLoss: 0.320772\n",
      "Train Epoch: 5 [640/60000 (1%)]\tLoss: 0.172914\n",
      "Train Epoch: 5 [1280/60000 (2%)]\tLoss: 0.039478\n",
      "Train Epoch: 5 [1920/60000 (3%)]\tLoss: 0.037053\n",
      "Train Epoch: 5 [2560/60000 (4%)]\tLoss: 0.023684\n",
      "Train Epoch: 5 [3200/60000 (5%)]\tLoss: 0.088514\n",
      "Train Epoch: 5 [3840/60000 (6%)]\tLoss: 0.179424\n",
      "Train Epoch: 5 [4480/60000 (7%)]\tLoss: 0.081786\n",
      "Train Epoch: 5 [5120/60000 (9%)]\tLoss: 0.040600\n",
      "Train Epoch: 5 [5760/60000 (10%)]\tLoss: 0.106675\n",
      "Train Epoch: 5 [6400/60000 (11%)]\tLoss: 0.276930\n",
      "Train Epoch: 5 [7040/60000 (12%)]\tLoss: 0.102180\n",
      "Train Epoch: 5 [7680/60000 (13%)]\tLoss: 0.092093\n",
      "Train Epoch: 5 [8320/60000 (14%)]\tLoss: 0.071484\n",
      "Train Epoch: 5 [8960/60000 (15%)]\tLoss: 0.192093\n",
      "Train Epoch: 5 [9600/60000 (16%)]\tLoss: 0.068324\n",
      "Train Epoch: 5 [10240/60000 (17%)]\tLoss: 0.065026\n",
      "Train Epoch: 5 [10880/60000 (18%)]\tLoss: 0.031801\n",
      "Train Epoch: 5 [11520/60000 (19%)]\tLoss: 0.031762\n",
      "Train Epoch: 5 [12160/60000 (20%)]\tLoss: 0.037470\n",
      "Train Epoch: 5 [12800/60000 (21%)]\tLoss: 0.052729\n",
      "Train Epoch: 5 [13440/60000 (22%)]\tLoss: 0.058716\n",
      "Train Epoch: 5 [14080/60000 (23%)]\tLoss: 0.022536\n",
      "Train Epoch: 5 [14720/60000 (25%)]\tLoss: 0.097958\n",
      "Train Epoch: 5 [15360/60000 (26%)]\tLoss: 0.032891\n",
      "Train Epoch: 5 [16000/60000 (27%)]\tLoss: 0.225911\n",
      "Train Epoch: 5 [16640/60000 (28%)]\tLoss: 0.098027\n",
      "Train Epoch: 5 [17280/60000 (29%)]\tLoss: 0.479138\n",
      "Train Epoch: 5 [17920/60000 (30%)]\tLoss: 0.097126\n",
      "Train Epoch: 5 [18560/60000 (31%)]\tLoss: 0.077742\n",
      "Train Epoch: 5 [19200/60000 (32%)]\tLoss: 0.159968\n",
      "Train Epoch: 5 [19840/60000 (33%)]\tLoss: 0.266888\n",
      "Train Epoch: 5 [20480/60000 (34%)]\tLoss: 0.060997\n",
      "Train Epoch: 5 [21120/60000 (35%)]\tLoss: 0.026565\n",
      "Train Epoch: 5 [21760/60000 (36%)]\tLoss: 0.033475\n",
      "Train Epoch: 5 [22400/60000 (37%)]\tLoss: 0.068156\n",
      "Train Epoch: 5 [23040/60000 (38%)]\tLoss: 0.039516\n",
      "Train Epoch: 5 [23680/60000 (39%)]\tLoss: 0.126456\n",
      "Train Epoch: 5 [24320/60000 (41%)]\tLoss: 0.093051\n",
      "Train Epoch: 5 [24960/60000 (42%)]\tLoss: 0.055003\n",
      "Train Epoch: 5 [25600/60000 (43%)]\tLoss: 0.194780\n",
      "Train Epoch: 5 [26240/60000 (44%)]\tLoss: 0.051259\n",
      "Train Epoch: 5 [26880/60000 (45%)]\tLoss: 0.021246\n",
      "Train Epoch: 5 [27520/60000 (46%)]\tLoss: 0.094177\n",
      "Train Epoch: 5 [28160/60000 (47%)]\tLoss: 0.069346\n"
     ]
    },
    {
     "name": "stdout",
     "output_type": "stream",
     "text": [
      "Train Epoch: 5 [28800/60000 (48%)]\tLoss: 0.238998\n",
      "Train Epoch: 5 [29440/60000 (49%)]\tLoss: 0.030756\n",
      "Train Epoch: 5 [30080/60000 (50%)]\tLoss: 0.093468\n",
      "Train Epoch: 5 [30720/60000 (51%)]\tLoss: 0.018541\n",
      "Train Epoch: 5 [31360/60000 (52%)]\tLoss: 0.084840\n",
      "Train Epoch: 5 [32000/60000 (53%)]\tLoss: 0.106691\n",
      "Train Epoch: 5 [32640/60000 (54%)]\tLoss: 0.074824\n",
      "Train Epoch: 5 [33280/60000 (55%)]\tLoss: 0.082403\n",
      "Train Epoch: 5 [33920/60000 (57%)]\tLoss: 0.031333\n",
      "Train Epoch: 5 [34560/60000 (58%)]\tLoss: 0.021207\n",
      "Train Epoch: 5 [35200/60000 (59%)]\tLoss: 0.209203\n",
      "Train Epoch: 5 [35840/60000 (60%)]\tLoss: 0.093194\n",
      "Train Epoch: 5 [36480/60000 (61%)]\tLoss: 0.098152\n",
      "Train Epoch: 5 [37120/60000 (62%)]\tLoss: 0.128899\n",
      "Train Epoch: 5 [37760/60000 (63%)]\tLoss: 0.016358\n",
      "Train Epoch: 5 [38400/60000 (64%)]\tLoss: 0.037436\n",
      "Train Epoch: 5 [39040/60000 (65%)]\tLoss: 0.081590\n",
      "Train Epoch: 5 [39680/60000 (66%)]\tLoss: 0.054320\n",
      "Train Epoch: 5 [40320/60000 (67%)]\tLoss: 0.047237\n",
      "Train Epoch: 5 [40960/60000 (68%)]\tLoss: 0.036767\n",
      "Train Epoch: 5 [41600/60000 (69%)]\tLoss: 0.036811\n",
      "Train Epoch: 5 [42240/60000 (70%)]\tLoss: 0.047169\n",
      "Train Epoch: 5 [42880/60000 (71%)]\tLoss: 0.024810\n",
      "Train Epoch: 5 [43520/60000 (72%)]\tLoss: 0.019651\n",
      "Train Epoch: 5 [44160/60000 (74%)]\tLoss: 0.023924\n",
      "Train Epoch: 5 [44800/60000 (75%)]\tLoss: 0.112958\n",
      "Train Epoch: 5 [45440/60000 (76%)]\tLoss: 0.143814\n",
      "Train Epoch: 5 [46080/60000 (77%)]\tLoss: 0.074727\n",
      "Train Epoch: 5 [46720/60000 (78%)]\tLoss: 0.062681\n",
      "Train Epoch: 5 [47360/60000 (79%)]\tLoss: 0.048306\n",
      "Train Epoch: 5 [48000/60000 (80%)]\tLoss: 0.053320\n",
      "Train Epoch: 5 [48640/60000 (81%)]\tLoss: 0.256416\n",
      "Train Epoch: 5 [49280/60000 (82%)]\tLoss: 0.049907\n",
      "Train Epoch: 5 [49920/60000 (83%)]\tLoss: 0.094767\n",
      "Train Epoch: 5 [50560/60000 (84%)]\tLoss: 0.164166\n",
      "Train Epoch: 5 [51200/60000 (85%)]\tLoss: 0.184018\n",
      "Train Epoch: 5 [51840/60000 (86%)]\tLoss: 0.048972\n",
      "Train Epoch: 5 [52480/60000 (87%)]\tLoss: 0.100311\n",
      "Train Epoch: 5 [53120/60000 (88%)]\tLoss: 0.032724\n",
      "Train Epoch: 5 [53760/60000 (90%)]\tLoss: 0.059455\n",
      "Train Epoch: 5 [54400/60000 (91%)]\tLoss: 0.118796\n",
      "Train Epoch: 5 [55040/60000 (92%)]\tLoss: 0.084158\n",
      "Train Epoch: 5 [55680/60000 (93%)]\tLoss: 0.123890\n",
      "Train Epoch: 5 [56320/60000 (94%)]\tLoss: 0.021465\n",
      "Train Epoch: 5 [56960/60000 (95%)]\tLoss: 0.053475\n",
      "Train Epoch: 5 [57600/60000 (96%)]\tLoss: 0.264583\n",
      "Train Epoch: 5 [58240/60000 (97%)]\tLoss: 0.027950\n",
      "Train Epoch: 5 [58880/60000 (98%)]\tLoss: 0.088539\n",
      "Train Epoch: 5 [59520/60000 (99%)]\tLoss: 0.135278\n",
      "\n",
      "Test set: Average loss: 0.0724, Accuracy: 9777/10000 (98%)\n",
      "\n",
      "Train Epoch: 6 [0/60000 (0%)]\tLoss: 0.063301\n",
      "Train Epoch: 6 [640/60000 (1%)]\tLoss: 0.022032\n",
      "Train Epoch: 6 [1280/60000 (2%)]\tLoss: 0.058804\n",
      "Train Epoch: 6 [1920/60000 (3%)]\tLoss: 0.054895\n",
      "Train Epoch: 6 [2560/60000 (4%)]\tLoss: 0.120868\n",
      "Train Epoch: 6 [3200/60000 (5%)]\tLoss: 0.192748\n",
      "Train Epoch: 6 [3840/60000 (6%)]\tLoss: 0.084962\n",
      "Train Epoch: 6 [4480/60000 (7%)]\tLoss: 0.068303\n",
      "Train Epoch: 6 [5120/60000 (9%)]\tLoss: 0.102498\n",
      "Train Epoch: 6 [5760/60000 (10%)]\tLoss: 0.017356\n",
      "Train Epoch: 6 [6400/60000 (11%)]\tLoss: 0.030109\n",
      "Train Epoch: 6 [7040/60000 (12%)]\tLoss: 0.106446\n",
      "Train Epoch: 6 [7680/60000 (13%)]\tLoss: 0.137011\n",
      "Train Epoch: 6 [8320/60000 (14%)]\tLoss: 0.065276\n",
      "Train Epoch: 6 [8960/60000 (15%)]\tLoss: 0.050824\n",
      "Train Epoch: 6 [9600/60000 (16%)]\tLoss: 0.048490\n",
      "Train Epoch: 6 [10240/60000 (17%)]\tLoss: 0.026714\n",
      "Train Epoch: 6 [10880/60000 (18%)]\tLoss: 0.117705\n",
      "Train Epoch: 6 [11520/60000 (19%)]\tLoss: 0.070769\n",
      "Train Epoch: 6 [12160/60000 (20%)]\tLoss: 0.138795\n",
      "Train Epoch: 6 [12800/60000 (21%)]\tLoss: 0.051317\n",
      "Train Epoch: 6 [13440/60000 (22%)]\tLoss: 0.048223\n",
      "Train Epoch: 6 [14080/60000 (23%)]\tLoss: 0.060093\n",
      "Train Epoch: 6 [14720/60000 (25%)]\tLoss: 0.099799\n",
      "Train Epoch: 6 [15360/60000 (26%)]\tLoss: 0.089148\n",
      "Train Epoch: 6 [16000/60000 (27%)]\tLoss: 0.139373\n",
      "Train Epoch: 6 [16640/60000 (28%)]\tLoss: 0.125088\n",
      "Train Epoch: 6 [17280/60000 (29%)]\tLoss: 0.042497\n",
      "Train Epoch: 6 [17920/60000 (30%)]\tLoss: 0.038720\n",
      "Train Epoch: 6 [18560/60000 (31%)]\tLoss: 0.041000\n",
      "Train Epoch: 6 [19200/60000 (32%)]\tLoss: 0.053607\n",
      "Train Epoch: 6 [19840/60000 (33%)]\tLoss: 0.139908\n",
      "Train Epoch: 6 [20480/60000 (34%)]\tLoss: 0.068481\n",
      "Train Epoch: 6 [21120/60000 (35%)]\tLoss: 0.045959\n",
      "Train Epoch: 6 [21760/60000 (36%)]\tLoss: 0.034258\n",
      "Train Epoch: 6 [22400/60000 (37%)]\tLoss: 0.050167\n",
      "Train Epoch: 6 [23040/60000 (38%)]\tLoss: 0.103631\n",
      "Train Epoch: 6 [23680/60000 (39%)]\tLoss: 0.074520\n",
      "Train Epoch: 6 [24320/60000 (41%)]\tLoss: 0.012884\n",
      "Train Epoch: 6 [24960/60000 (42%)]\tLoss: 0.220054\n",
      "Train Epoch: 6 [25600/60000 (43%)]\tLoss: 0.016016\n",
      "Train Epoch: 6 [26240/60000 (44%)]\tLoss: 0.102501\n",
      "Train Epoch: 6 [26880/60000 (45%)]\tLoss: 0.044737\n",
      "Train Epoch: 6 [27520/60000 (46%)]\tLoss: 0.056077\n",
      "Train Epoch: 6 [28160/60000 (47%)]\tLoss: 0.115180\n",
      "Train Epoch: 6 [28800/60000 (48%)]\tLoss: 0.066502\n",
      "Train Epoch: 6 [29440/60000 (49%)]\tLoss: 0.072171\n",
      "Train Epoch: 6 [30080/60000 (50%)]\tLoss: 0.046077\n",
      "Train Epoch: 6 [30720/60000 (51%)]\tLoss: 0.014318\n",
      "Train Epoch: 6 [31360/60000 (52%)]\tLoss: 0.045736\n",
      "Train Epoch: 6 [32000/60000 (53%)]\tLoss: 0.188660\n",
      "Train Epoch: 6 [32640/60000 (54%)]\tLoss: 0.065739\n",
      "Train Epoch: 6 [33280/60000 (55%)]\tLoss: 0.073277\n",
      "Train Epoch: 6 [33920/60000 (57%)]\tLoss: 0.052139\n",
      "Train Epoch: 6 [34560/60000 (58%)]\tLoss: 0.037707\n",
      "Train Epoch: 6 [35200/60000 (59%)]\tLoss: 0.306071\n",
      "Train Epoch: 6 [35840/60000 (60%)]\tLoss: 0.025658\n",
      "Train Epoch: 6 [36480/60000 (61%)]\tLoss: 0.040999\n",
      "Train Epoch: 6 [37120/60000 (62%)]\tLoss: 0.107854\n",
      "Train Epoch: 6 [37760/60000 (63%)]\tLoss: 0.009111\n",
      "Train Epoch: 6 [38400/60000 (64%)]\tLoss: 0.056072\n",
      "Train Epoch: 6 [39040/60000 (65%)]\tLoss: 0.069590\n",
      "Train Epoch: 6 [39680/60000 (66%)]\tLoss: 0.027545\n",
      "Train Epoch: 6 [40320/60000 (67%)]\tLoss: 0.069321\n",
      "Train Epoch: 6 [40960/60000 (68%)]\tLoss: 0.185585\n",
      "Train Epoch: 6 [41600/60000 (69%)]\tLoss: 0.060567\n",
      "Train Epoch: 6 [42240/60000 (70%)]\tLoss: 0.196310\n",
      "Train Epoch: 6 [42880/60000 (71%)]\tLoss: 0.047969\n",
      "Train Epoch: 6 [43520/60000 (72%)]\tLoss: 0.086989\n",
      "Train Epoch: 6 [44160/60000 (74%)]\tLoss: 0.056909\n",
      "Train Epoch: 6 [44800/60000 (75%)]\tLoss: 0.020629\n",
      "Train Epoch: 6 [45440/60000 (76%)]\tLoss: 0.030331\n",
      "Train Epoch: 6 [46080/60000 (77%)]\tLoss: 0.042819\n",
      "Train Epoch: 6 [46720/60000 (78%)]\tLoss: 0.046040\n",
      "Train Epoch: 6 [47360/60000 (79%)]\tLoss: 0.118271\n",
      "Train Epoch: 6 [48000/60000 (80%)]\tLoss: 0.077616\n",
      "Train Epoch: 6 [48640/60000 (81%)]\tLoss: 0.049375\n",
      "Train Epoch: 6 [49280/60000 (82%)]\tLoss: 0.166488\n",
      "Train Epoch: 6 [49920/60000 (83%)]\tLoss: 0.025280\n",
      "Train Epoch: 6 [50560/60000 (84%)]\tLoss: 0.147471\n",
      "Train Epoch: 6 [51200/60000 (85%)]\tLoss: 0.061729\n",
      "Train Epoch: 6 [51840/60000 (86%)]\tLoss: 0.077295\n",
      "Train Epoch: 6 [52480/60000 (87%)]\tLoss: 0.036986\n",
      "Train Epoch: 6 [53120/60000 (88%)]\tLoss: 0.118653\n",
      "Train Epoch: 6 [53760/60000 (90%)]\tLoss: 0.075432\n",
      "Train Epoch: 6 [54400/60000 (91%)]\tLoss: 0.082557\n",
      "Train Epoch: 6 [55040/60000 (92%)]\tLoss: 0.063124\n",
      "Train Epoch: 6 [55680/60000 (93%)]\tLoss: 0.030510\n",
      "Train Epoch: 6 [56320/60000 (94%)]\tLoss: 0.018886\n",
      "Train Epoch: 6 [56960/60000 (95%)]\tLoss: 0.013634\n",
      "Train Epoch: 6 [57600/60000 (96%)]\tLoss: 0.077243\n",
      "Train Epoch: 6 [58240/60000 (97%)]\tLoss: 0.134112\n",
      "Train Epoch: 6 [58880/60000 (98%)]\tLoss: 0.022684\n",
      "Train Epoch: 6 [59520/60000 (99%)]\tLoss: 0.080242\n",
      "\n",
      "Test set: Average loss: 0.0712, Accuracy: 9782/10000 (98%)\n",
      "\n",
      "Train Epoch: 7 [0/60000 (0%)]\tLoss: 0.075622\n",
      "Train Epoch: 7 [640/60000 (1%)]\tLoss: 0.031186\n",
      "Train Epoch: 7 [1280/60000 (2%)]\tLoss: 0.011598\n",
      "Train Epoch: 7 [1920/60000 (3%)]\tLoss: 0.126692\n",
      "Train Epoch: 7 [2560/60000 (4%)]\tLoss: 0.012870\n",
      "Train Epoch: 7 [3200/60000 (5%)]\tLoss: 0.056994\n",
      "Train Epoch: 7 [3840/60000 (6%)]\tLoss: 0.077827\n",
      "Train Epoch: 7 [4480/60000 (7%)]\tLoss: 0.118519\n",
      "Train Epoch: 7 [5120/60000 (9%)]\tLoss: 0.025915\n",
      "Train Epoch: 7 [5760/60000 (10%)]\tLoss: 0.016424\n",
      "Train Epoch: 7 [6400/60000 (11%)]\tLoss: 0.062602\n",
      "Train Epoch: 7 [7040/60000 (12%)]\tLoss: 0.093335\n",
      "Train Epoch: 7 [7680/60000 (13%)]\tLoss: 0.204941\n",
      "Train Epoch: 7 [8320/60000 (14%)]\tLoss: 0.082815\n",
      "Train Epoch: 7 [8960/60000 (15%)]\tLoss: 0.027190\n",
      "Train Epoch: 7 [9600/60000 (16%)]\tLoss: 0.085587\n",
      "Train Epoch: 7 [10240/60000 (17%)]\tLoss: 0.060482\n",
      "Train Epoch: 7 [10880/60000 (18%)]\tLoss: 0.104592\n",
      "Train Epoch: 7 [11520/60000 (19%)]\tLoss: 0.102385\n",
      "Train Epoch: 7 [12160/60000 (20%)]\tLoss: 0.042493\n"
     ]
    },
    {
     "name": "stdout",
     "output_type": "stream",
     "text": [
      "Train Epoch: 7 [12800/60000 (21%)]\tLoss: 0.018864\n",
      "Train Epoch: 7 [13440/60000 (22%)]\tLoss: 0.025121\n",
      "Train Epoch: 7 [14080/60000 (23%)]\tLoss: 0.031458\n",
      "Train Epoch: 7 [14720/60000 (25%)]\tLoss: 0.147075\n",
      "Train Epoch: 7 [15360/60000 (26%)]\tLoss: 0.173508\n",
      "Train Epoch: 7 [16000/60000 (27%)]\tLoss: 0.021653\n",
      "Train Epoch: 7 [16640/60000 (28%)]\tLoss: 0.137276\n",
      "Train Epoch: 7 [17280/60000 (29%)]\tLoss: 0.019559\n",
      "Train Epoch: 7 [17920/60000 (30%)]\tLoss: 0.009488\n",
      "Train Epoch: 7 [18560/60000 (31%)]\tLoss: 0.092218\n",
      "Train Epoch: 7 [19200/60000 (32%)]\tLoss: 0.065182\n",
      "Train Epoch: 7 [19840/60000 (33%)]\tLoss: 0.038902\n",
      "Train Epoch: 7 [20480/60000 (34%)]\tLoss: 0.072134\n",
      "Train Epoch: 7 [21120/60000 (35%)]\tLoss: 0.027349\n",
      "Train Epoch: 7 [21760/60000 (36%)]\tLoss: 0.040722\n",
      "Train Epoch: 7 [22400/60000 (37%)]\tLoss: 0.030596\n",
      "Train Epoch: 7 [23040/60000 (38%)]\tLoss: 0.142083\n",
      "Train Epoch: 7 [23680/60000 (39%)]\tLoss: 0.039274\n",
      "Train Epoch: 7 [24320/60000 (41%)]\tLoss: 0.049161\n",
      "Train Epoch: 7 [24960/60000 (42%)]\tLoss: 0.034217\n",
      "Train Epoch: 7 [25600/60000 (43%)]\tLoss: 0.088311\n",
      "Train Epoch: 7 [26240/60000 (44%)]\tLoss: 0.127822\n",
      "Train Epoch: 7 [26880/60000 (45%)]\tLoss: 0.085818\n",
      "Train Epoch: 7 [27520/60000 (46%)]\tLoss: 0.093846\n",
      "Train Epoch: 7 [28160/60000 (47%)]\tLoss: 0.052455\n",
      "Train Epoch: 7 [28800/60000 (48%)]\tLoss: 0.017930\n",
      "Train Epoch: 7 [29440/60000 (49%)]\tLoss: 0.018154\n",
      "Train Epoch: 7 [30080/60000 (50%)]\tLoss: 0.025594\n",
      "Train Epoch: 7 [30720/60000 (51%)]\tLoss: 0.018821\n",
      "Train Epoch: 7 [31360/60000 (52%)]\tLoss: 0.105687\n",
      "Train Epoch: 7 [32000/60000 (53%)]\tLoss: 0.055727\n",
      "Train Epoch: 7 [32640/60000 (54%)]\tLoss: 0.028984\n",
      "Train Epoch: 7 [33280/60000 (55%)]\tLoss: 0.100189\n",
      "Train Epoch: 7 [33920/60000 (57%)]\tLoss: 0.110753\n",
      "Train Epoch: 7 [34560/60000 (58%)]\tLoss: 0.063005\n",
      "Train Epoch: 7 [35200/60000 (59%)]\tLoss: 0.097606\n",
      "Train Epoch: 7 [35840/60000 (60%)]\tLoss: 0.049867\n",
      "Train Epoch: 7 [36480/60000 (61%)]\tLoss: 0.140335\n",
      "Train Epoch: 7 [37120/60000 (62%)]\tLoss: 0.063888\n",
      "Train Epoch: 7 [37760/60000 (63%)]\tLoss: 0.090244\n",
      "Train Epoch: 7 [38400/60000 (64%)]\tLoss: 0.038037\n",
      "Train Epoch: 7 [39040/60000 (65%)]\tLoss: 0.040574\n",
      "Train Epoch: 7 [39680/60000 (66%)]\tLoss: 0.136856\n",
      "Train Epoch: 7 [40320/60000 (67%)]\tLoss: 0.032309\n",
      "Train Epoch: 7 [40960/60000 (68%)]\tLoss: 0.182271\n",
      "Train Epoch: 7 [41600/60000 (69%)]\tLoss: 0.179518\n",
      "Train Epoch: 7 [42240/60000 (70%)]\tLoss: 0.016587\n",
      "Train Epoch: 7 [42880/60000 (71%)]\tLoss: 0.078677\n",
      "Train Epoch: 7 [43520/60000 (72%)]\tLoss: 0.023508\n",
      "Train Epoch: 7 [44160/60000 (74%)]\tLoss: 0.052791\n",
      "Train Epoch: 7 [44800/60000 (75%)]\tLoss: 0.054246\n",
      "Train Epoch: 7 [45440/60000 (76%)]\tLoss: 0.105478\n",
      "Train Epoch: 7 [46080/60000 (77%)]\tLoss: 0.086396\n",
      "Train Epoch: 7 [46720/60000 (78%)]\tLoss: 0.132312\n",
      "Train Epoch: 7 [47360/60000 (79%)]\tLoss: 0.047271\n",
      "Train Epoch: 7 [48000/60000 (80%)]\tLoss: 0.078010\n",
      "Train Epoch: 7 [48640/60000 (81%)]\tLoss: 0.034828\n",
      "Train Epoch: 7 [49280/60000 (82%)]\tLoss: 0.035222\n",
      "Train Epoch: 7 [49920/60000 (83%)]\tLoss: 0.037647\n",
      "Train Epoch: 7 [50560/60000 (84%)]\tLoss: 0.201846\n",
      "Train Epoch: 7 [51200/60000 (85%)]\tLoss: 0.067616\n",
      "Train Epoch: 7 [51840/60000 (86%)]\tLoss: 0.174313\n",
      "Train Epoch: 7 [52480/60000 (87%)]\tLoss: 0.143433\n",
      "Train Epoch: 7 [53120/60000 (88%)]\tLoss: 0.193987\n",
      "Train Epoch: 7 [53760/60000 (90%)]\tLoss: 0.095839\n",
      "Train Epoch: 7 [54400/60000 (91%)]\tLoss: 0.037345\n",
      "Train Epoch: 7 [55040/60000 (92%)]\tLoss: 0.017135\n",
      "Train Epoch: 7 [55680/60000 (93%)]\tLoss: 0.108617\n",
      "Train Epoch: 7 [56320/60000 (94%)]\tLoss: 0.027960\n",
      "Train Epoch: 7 [56960/60000 (95%)]\tLoss: 0.054259\n",
      "Train Epoch: 7 [57600/60000 (96%)]\tLoss: 0.104702\n",
      "Train Epoch: 7 [58240/60000 (97%)]\tLoss: 0.089974\n",
      "Train Epoch: 7 [58880/60000 (98%)]\tLoss: 0.033875\n",
      "Train Epoch: 7 [59520/60000 (99%)]\tLoss: 0.072874\n",
      "\n",
      "Test set: Average loss: 0.0686, Accuracy: 9775/10000 (98%)\n",
      "\n",
      "Train Epoch: 8 [0/60000 (0%)]\tLoss: 0.033339\n",
      "Train Epoch: 8 [640/60000 (1%)]\tLoss: 0.137305\n",
      "Train Epoch: 8 [1280/60000 (2%)]\tLoss: 0.099204\n",
      "Train Epoch: 8 [1920/60000 (3%)]\tLoss: 0.036494\n",
      "Train Epoch: 8 [2560/60000 (4%)]\tLoss: 0.126252\n",
      "Train Epoch: 8 [3200/60000 (5%)]\tLoss: 0.052364\n",
      "Train Epoch: 8 [3840/60000 (6%)]\tLoss: 0.028543\n",
      "Train Epoch: 8 [4480/60000 (7%)]\tLoss: 0.089127\n",
      "Train Epoch: 8 [5120/60000 (9%)]\tLoss: 0.041439\n",
      "Train Epoch: 8 [5760/60000 (10%)]\tLoss: 0.073017\n",
      "Train Epoch: 8 [6400/60000 (11%)]\tLoss: 0.023223\n",
      "Train Epoch: 8 [7040/60000 (12%)]\tLoss: 0.111465\n",
      "Train Epoch: 8 [7680/60000 (13%)]\tLoss: 0.024407\n",
      "Train Epoch: 8 [8320/60000 (14%)]\tLoss: 0.045501\n",
      "Train Epoch: 8 [8960/60000 (15%)]\tLoss: 0.065803\n",
      "Train Epoch: 8 [9600/60000 (16%)]\tLoss: 0.122090\n",
      "Train Epoch: 8 [10240/60000 (17%)]\tLoss: 0.029998\n",
      "Train Epoch: 8 [10880/60000 (18%)]\tLoss: 0.023371\n",
      "Train Epoch: 8 [11520/60000 (19%)]\tLoss: 0.048926\n",
      "Train Epoch: 8 [12160/60000 (20%)]\tLoss: 0.045087\n",
      "Train Epoch: 8 [12800/60000 (21%)]\tLoss: 0.121904\n",
      "Train Epoch: 8 [13440/60000 (22%)]\tLoss: 0.059756\n",
      "Train Epoch: 8 [14080/60000 (23%)]\tLoss: 0.124042\n",
      "Train Epoch: 8 [14720/60000 (25%)]\tLoss: 0.036085\n",
      "Train Epoch: 8 [15360/60000 (26%)]\tLoss: 0.013112\n",
      "Train Epoch: 8 [16000/60000 (27%)]\tLoss: 0.038054\n",
      "Train Epoch: 8 [16640/60000 (28%)]\tLoss: 0.136675\n",
      "Train Epoch: 8 [17280/60000 (29%)]\tLoss: 0.031792\n",
      "Train Epoch: 8 [17920/60000 (30%)]\tLoss: 0.085775\n",
      "Train Epoch: 8 [18560/60000 (31%)]\tLoss: 0.163699\n",
      "Train Epoch: 8 [19200/60000 (32%)]\tLoss: 0.098459\n",
      "Train Epoch: 8 [19840/60000 (33%)]\tLoss: 0.140920\n",
      "Train Epoch: 8 [20480/60000 (34%)]\tLoss: 0.033231\n",
      "Train Epoch: 8 [21120/60000 (35%)]\tLoss: 0.058796\n",
      "Train Epoch: 8 [21760/60000 (36%)]\tLoss: 0.066670\n",
      "Train Epoch: 8 [22400/60000 (37%)]\tLoss: 0.056498\n",
      "Train Epoch: 8 [23040/60000 (38%)]\tLoss: 0.101457\n",
      "Train Epoch: 8 [23680/60000 (39%)]\tLoss: 0.086399\n",
      "Train Epoch: 8 [24320/60000 (41%)]\tLoss: 0.011352\n",
      "Train Epoch: 8 [24960/60000 (42%)]\tLoss: 0.117143\n",
      "Train Epoch: 8 [25600/60000 (43%)]\tLoss: 0.128230\n",
      "Train Epoch: 8 [26240/60000 (44%)]\tLoss: 0.016068\n",
      "Train Epoch: 8 [26880/60000 (45%)]\tLoss: 0.118442\n",
      "Train Epoch: 8 [27520/60000 (46%)]\tLoss: 0.024086\n",
      "Train Epoch: 8 [28160/60000 (47%)]\tLoss: 0.170749\n",
      "Train Epoch: 8 [28800/60000 (48%)]\tLoss: 0.060239\n",
      "Train Epoch: 8 [29440/60000 (49%)]\tLoss: 0.093186\n",
      "Train Epoch: 8 [30080/60000 (50%)]\tLoss: 0.008309\n",
      "Train Epoch: 8 [30720/60000 (51%)]\tLoss: 0.010969\n",
      "Train Epoch: 8 [31360/60000 (52%)]\tLoss: 0.031866\n",
      "Train Epoch: 8 [32000/60000 (53%)]\tLoss: 0.116991\n",
      "Train Epoch: 8 [32640/60000 (54%)]\tLoss: 0.048033\n",
      "Train Epoch: 8 [33280/60000 (55%)]\tLoss: 0.012805\n",
      "Train Epoch: 8 [33920/60000 (57%)]\tLoss: 0.031894\n",
      "Train Epoch: 8 [34560/60000 (58%)]\tLoss: 0.073113\n",
      "Train Epoch: 8 [35200/60000 (59%)]\tLoss: 0.121630\n",
      "Train Epoch: 8 [35840/60000 (60%)]\tLoss: 0.103537\n",
      "Train Epoch: 8 [36480/60000 (61%)]\tLoss: 0.142757\n",
      "Train Epoch: 8 [37120/60000 (62%)]\tLoss: 0.014300\n",
      "Train Epoch: 8 [37760/60000 (63%)]\tLoss: 0.096021\n",
      "Train Epoch: 8 [38400/60000 (64%)]\tLoss: 0.193198\n",
      "Train Epoch: 8 [39040/60000 (65%)]\tLoss: 0.031374\n",
      "Train Epoch: 8 [39680/60000 (66%)]\tLoss: 0.048748\n",
      "Train Epoch: 8 [40320/60000 (67%)]\tLoss: 0.010088\n",
      "Train Epoch: 8 [40960/60000 (68%)]\tLoss: 0.030739\n",
      "Train Epoch: 8 [41600/60000 (69%)]\tLoss: 0.075784\n",
      "Train Epoch: 8 [42240/60000 (70%)]\tLoss: 0.038598\n",
      "Train Epoch: 8 [42880/60000 (71%)]\tLoss: 0.041424\n",
      "Train Epoch: 8 [43520/60000 (72%)]\tLoss: 0.022960\n",
      "Train Epoch: 8 [44160/60000 (74%)]\tLoss: 0.229759\n",
      "Train Epoch: 8 [44800/60000 (75%)]\tLoss: 0.059592\n",
      "Train Epoch: 8 [45440/60000 (76%)]\tLoss: 0.128659\n",
      "Train Epoch: 8 [46080/60000 (77%)]\tLoss: 0.054792\n",
      "Train Epoch: 8 [46720/60000 (78%)]\tLoss: 0.059531\n",
      "Train Epoch: 8 [47360/60000 (79%)]\tLoss: 0.025176\n",
      "Train Epoch: 8 [48000/60000 (80%)]\tLoss: 0.043115\n",
      "Train Epoch: 8 [48640/60000 (81%)]\tLoss: 0.044184\n",
      "Train Epoch: 8 [49280/60000 (82%)]\tLoss: 0.091194\n",
      "Train Epoch: 8 [49920/60000 (83%)]\tLoss: 0.037556\n",
      "Train Epoch: 8 [50560/60000 (84%)]\tLoss: 0.036017\n",
      "Train Epoch: 8 [51200/60000 (85%)]\tLoss: 0.172487\n",
      "Train Epoch: 8 [51840/60000 (86%)]\tLoss: 0.022708\n",
      "Train Epoch: 8 [52480/60000 (87%)]\tLoss: 0.043285\n",
      "Train Epoch: 8 [53120/60000 (88%)]\tLoss: 0.047086\n",
      "Train Epoch: 8 [53760/60000 (90%)]\tLoss: 0.045732\n",
      "Train Epoch: 8 [54400/60000 (91%)]\tLoss: 0.022999\n",
      "Train Epoch: 8 [55040/60000 (92%)]\tLoss: 0.070312\n",
      "Train Epoch: 8 [55680/60000 (93%)]\tLoss: 0.053495\n",
      "Train Epoch: 8 [56320/60000 (94%)]\tLoss: 0.050680\n",
      "Train Epoch: 8 [56960/60000 (95%)]\tLoss: 0.066456\n",
      "Train Epoch: 8 [57600/60000 (96%)]\tLoss: 0.088355\n"
     ]
    },
    {
     "name": "stdout",
     "output_type": "stream",
     "text": [
      "Train Epoch: 8 [58240/60000 (97%)]\tLoss: 0.014324\n",
      "Train Epoch: 8 [58880/60000 (98%)]\tLoss: 0.044083\n",
      "Train Epoch: 8 [59520/60000 (99%)]\tLoss: 0.097463\n",
      "\n",
      "Test set: Average loss: 0.0566, Accuracy: 9830/10000 (98%)\n",
      "\n",
      "Train Epoch: 9 [0/60000 (0%)]\tLoss: 0.110283\n",
      "Train Epoch: 9 [640/60000 (1%)]\tLoss: 0.041107\n",
      "Train Epoch: 9 [1280/60000 (2%)]\tLoss: 0.029374\n",
      "Train Epoch: 9 [1920/60000 (3%)]\tLoss: 0.114733\n",
      "Train Epoch: 9 [2560/60000 (4%)]\tLoss: 0.060480\n",
      "Train Epoch: 9 [3200/60000 (5%)]\tLoss: 0.192293\n",
      "Train Epoch: 9 [3840/60000 (6%)]\tLoss: 0.029661\n",
      "Train Epoch: 9 [4480/60000 (7%)]\tLoss: 0.069208\n",
      "Train Epoch: 9 [5120/60000 (9%)]\tLoss: 0.206947\n",
      "Train Epoch: 9 [5760/60000 (10%)]\tLoss: 0.044904\n",
      "Train Epoch: 9 [6400/60000 (11%)]\tLoss: 0.169393\n",
      "Train Epoch: 9 [7040/60000 (12%)]\tLoss: 0.013829\n",
      "Train Epoch: 9 [7680/60000 (13%)]\tLoss: 0.027804\n",
      "Train Epoch: 9 [8320/60000 (14%)]\tLoss: 0.223909\n",
      "Train Epoch: 9 [8960/60000 (15%)]\tLoss: 0.069183\n",
      "Train Epoch: 9 [9600/60000 (16%)]\tLoss: 0.022075\n",
      "Train Epoch: 9 [10240/60000 (17%)]\tLoss: 0.063497\n",
      "Train Epoch: 9 [10880/60000 (18%)]\tLoss: 0.220400\n",
      "Train Epoch: 9 [11520/60000 (19%)]\tLoss: 0.010647\n",
      "Train Epoch: 9 [12160/60000 (20%)]\tLoss: 0.055023\n",
      "Train Epoch: 9 [12800/60000 (21%)]\tLoss: 0.051868\n",
      "Train Epoch: 9 [13440/60000 (22%)]\tLoss: 0.135799\n",
      "Train Epoch: 9 [14080/60000 (23%)]\tLoss: 0.192609\n",
      "Train Epoch: 9 [14720/60000 (25%)]\tLoss: 0.008349\n",
      "Train Epoch: 9 [15360/60000 (26%)]\tLoss: 0.030518\n",
      "Train Epoch: 9 [16000/60000 (27%)]\tLoss: 0.029388\n",
      "Train Epoch: 9 [16640/60000 (28%)]\tLoss: 0.017711\n",
      "Train Epoch: 9 [17280/60000 (29%)]\tLoss: 0.079656\n",
      "Train Epoch: 9 [17920/60000 (30%)]\tLoss: 0.103071\n",
      "Train Epoch: 9 [18560/60000 (31%)]\tLoss: 0.130195\n",
      "Train Epoch: 9 [19200/60000 (32%)]\tLoss: 0.006674\n",
      "Train Epoch: 9 [19840/60000 (33%)]\tLoss: 0.023714\n",
      "Train Epoch: 9 [20480/60000 (34%)]\tLoss: 0.078322\n",
      "Train Epoch: 9 [21120/60000 (35%)]\tLoss: 0.033777\n",
      "Train Epoch: 9 [21760/60000 (36%)]\tLoss: 0.054578\n",
      "Train Epoch: 9 [22400/60000 (37%)]\tLoss: 0.039631\n",
      "Train Epoch: 9 [23040/60000 (38%)]\tLoss: 0.046214\n",
      "Train Epoch: 9 [23680/60000 (39%)]\tLoss: 0.077049\n",
      "Train Epoch: 9 [24320/60000 (41%)]\tLoss: 0.027863\n",
      "Train Epoch: 9 [24960/60000 (42%)]\tLoss: 0.062518\n",
      "Train Epoch: 9 [25600/60000 (43%)]\tLoss: 0.024366\n",
      "Train Epoch: 9 [26240/60000 (44%)]\tLoss: 0.049673\n",
      "Train Epoch: 9 [26880/60000 (45%)]\tLoss: 0.058458\n",
      "Train Epoch: 9 [27520/60000 (46%)]\tLoss: 0.014338\n",
      "Train Epoch: 9 [28160/60000 (47%)]\tLoss: 0.122346\n",
      "Train Epoch: 9 [28800/60000 (48%)]\tLoss: 0.138547\n",
      "Train Epoch: 9 [29440/60000 (49%)]\tLoss: 0.061269\n",
      "Train Epoch: 9 [30080/60000 (50%)]\tLoss: 0.057829\n",
      "Train Epoch: 9 [30720/60000 (51%)]\tLoss: 0.039657\n",
      "Train Epoch: 9 [31360/60000 (52%)]\tLoss: 0.006432\n",
      "Train Epoch: 9 [32000/60000 (53%)]\tLoss: 0.058324\n",
      "Train Epoch: 9 [32640/60000 (54%)]\tLoss: 0.041870\n",
      "Train Epoch: 9 [33280/60000 (55%)]\tLoss: 0.080388\n",
      "Train Epoch: 9 [33920/60000 (57%)]\tLoss: 0.057679\n",
      "Train Epoch: 9 [34560/60000 (58%)]\tLoss: 0.036677\n",
      "Train Epoch: 9 [35200/60000 (59%)]\tLoss: 0.024929\n",
      "Train Epoch: 9 [35840/60000 (60%)]\tLoss: 0.056103\n",
      "Train Epoch: 9 [36480/60000 (61%)]\tLoss: 0.303771\n",
      "Train Epoch: 9 [37120/60000 (62%)]\tLoss: 0.042577\n",
      "Train Epoch: 9 [37760/60000 (63%)]\tLoss: 0.081650\n",
      "Train Epoch: 9 [38400/60000 (64%)]\tLoss: 0.076239\n",
      "Train Epoch: 9 [39040/60000 (65%)]\tLoss: 0.129166\n",
      "Train Epoch: 9 [39680/60000 (66%)]\tLoss: 0.058431\n",
      "Train Epoch: 9 [40320/60000 (67%)]\tLoss: 0.083941\n",
      "Train Epoch: 9 [40960/60000 (68%)]\tLoss: 0.075318\n",
      "Train Epoch: 9 [41600/60000 (69%)]\tLoss: 0.090162\n",
      "Train Epoch: 9 [42240/60000 (70%)]\tLoss: 0.123709\n",
      "Train Epoch: 9 [42880/60000 (71%)]\tLoss: 0.035633\n",
      "Train Epoch: 9 [43520/60000 (72%)]\tLoss: 0.106855\n",
      "Train Epoch: 9 [44160/60000 (74%)]\tLoss: 0.022850\n",
      "Train Epoch: 9 [44800/60000 (75%)]\tLoss: 0.018733\n",
      "Train Epoch: 9 [45440/60000 (76%)]\tLoss: 0.053031\n",
      "Train Epoch: 9 [46080/60000 (77%)]\tLoss: 0.030144\n",
      "Train Epoch: 9 [46720/60000 (78%)]\tLoss: 0.073501\n",
      "Train Epoch: 9 [47360/60000 (79%)]\tLoss: 0.027302\n",
      "Train Epoch: 9 [48000/60000 (80%)]\tLoss: 0.005565\n",
      "Train Epoch: 9 [48640/60000 (81%)]\tLoss: 0.150448\n",
      "Train Epoch: 9 [49280/60000 (82%)]\tLoss: 0.029691\n",
      "Train Epoch: 9 [49920/60000 (83%)]\tLoss: 0.046043\n",
      "Train Epoch: 9 [50560/60000 (84%)]\tLoss: 0.029221\n",
      "Train Epoch: 9 [51200/60000 (85%)]\tLoss: 0.080806\n",
      "Train Epoch: 9 [51840/60000 (86%)]\tLoss: 0.053945\n",
      "Train Epoch: 9 [52480/60000 (87%)]\tLoss: 0.040394\n",
      "Train Epoch: 9 [53120/60000 (88%)]\tLoss: 0.053242\n",
      "Train Epoch: 9 [53760/60000 (90%)]\tLoss: 0.026890\n",
      "Train Epoch: 9 [54400/60000 (91%)]\tLoss: 0.020755\n",
      "Train Epoch: 9 [55040/60000 (92%)]\tLoss: 0.060004\n",
      "Train Epoch: 9 [55680/60000 (93%)]\tLoss: 0.142638\n",
      "Train Epoch: 9 [56320/60000 (94%)]\tLoss: 0.011557\n",
      "Train Epoch: 9 [56960/60000 (95%)]\tLoss: 0.044303\n",
      "Train Epoch: 9 [57600/60000 (96%)]\tLoss: 0.036752\n",
      "Train Epoch: 9 [58240/60000 (97%)]\tLoss: 0.155132\n",
      "Train Epoch: 9 [58880/60000 (98%)]\tLoss: 0.110144\n",
      "Train Epoch: 9 [59520/60000 (99%)]\tLoss: 0.017522\n",
      "\n",
      "Test set: Average loss: 0.0607, Accuracy: 9808/10000 (98%)\n",
      "\n"
     ]
    }
   ],
   "source": [
    "for epoch in range(1, 10):\n",
    "    train(epoch)\n",
    "    test()"
   ]
  },
  {
   "cell_type": "code",
   "execution_count": null,
   "metadata": {},
   "outputs": [],
   "source": []
  }
 ],
 "metadata": {
  "accelerator": "GPU",
  "colab": {
   "machine_shape": "hm",
   "provenance": []
  },
  "kernelspec": {
   "display_name": "Python 3 (ipykernel)",
   "language": "python",
   "name": "python3"
  },
  "language_info": {
   "codemirror_mode": {
    "name": "ipython",
    "version": 3
   },
   "file_extension": ".py",
   "mimetype": "text/x-python",
   "name": "python",
   "nbconvert_exporter": "python",
   "pygments_lexer": "ipython3",
   "version": "3.9.13"
  }
 },
 "nbformat": 4,
 "nbformat_minor": 1
}
