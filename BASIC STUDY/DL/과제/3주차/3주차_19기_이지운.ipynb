{
 "cells": [
  {
   "cell_type": "markdown",
   "metadata": {
    "id": "sgAYo4nrw2F4"
   },
   "source": [
    "# < 3주차 과제 1 : MLP 마음대로 다뤄보기>\n",
    "- dataset을 임의로 선정해서 직접 분석 해보기(제공한 코드를 활용해서 해보기)\n",
    "- activation functions 중 relu사용시 함수 직접 정의\n",
    "- lr, optimizer 등 바꿔보기\n",
    "- hidden layer/neuron 수를 바꾸기\n",
    "- 전처리도 추가\n",
    "- 모든 시도를 올려주세요!\n",
    "- 제일 높은 acc를 보인 시도를 명시해주세요!\n"
   ]
  },
  {
   "cell_type": "code",
   "execution_count": 1,
   "metadata": {
    "id": "fX437IL6qbI-"
   },
   "outputs": [],
   "source": [
    "import torch\n",
    "from torch import nn, optim\n",
    "from sklearn.datasets import load_breast_cancer\n",
    "from torch.utils.data import  TensorDataset, DataLoader\n",
    "from sklearn.model_selection import train_test_split\n",
    "from sklearn.metrics import accuracy_score\n",
    "import numpy as np\n",
    "from sklearn.preprocessing import StandardScaler\n",
    "import matplotlib.pyplot as plt"
   ]
  },
  {
   "cell_type": "markdown",
   "metadata": {
    "id": "oxkFzBDNmWNk"
   },
   "source": [
    "## 아래 데이터셋 중 원하는 데이터셋 하나를 선택하여, 코드 과제 진행하기!\n",
    "- 1) load_digits() <br>\n",
    "- 2) load_wine()"
   ]
  },
  {
   "cell_type": "code",
   "execution_count": 2,
   "metadata": {
    "id": "FywYbfsKtjcR"
   },
   "outputs": [],
   "source": [
    "\n",
    "# 데이터셋 종류 :\n",
    "data = load_breast_cancer() #유방암 데이터를 불러옴"
   ]
  },
  {
   "cell_type": "code",
   "execution_count": 3,
   "metadata": {
    "id": "C2P0hqZ9yBGm"
   },
   "outputs": [],
   "source": [
    "input = data.data # 입력 데이터를 나타냄\n",
    "output = data.target # 출력 데이터, 유방암 양성/음성 여부를 나타내는 클래스 레이블"
   ]
  },
  {
   "cell_type": "code",
   "execution_count": 4,
   "metadata": {
    "id": "SggpQfSPt85C"
   },
   "outputs": [],
   "source": [
    "device = 'cuda' if torch.cuda.is_available() else 'cpu'\n",
    "\n",
    "torch.manual_seed(777)\n",
    "if device == \"cuda\":\n",
    "  torch.cuda.manual_seed_all(777)"
   ]
  },
  {
   "cell_type": "code",
   "execution_count": 5,
   "metadata": {
    "id": "bLMzf-2ntYeX"
   },
   "outputs": [],
   "source": [
    "x_train, x_test, y_train, y_test = train_test_split(input, output, test_size = 0.3, random_state = 42, stratify= data.target, shuffle = True)\n",
    "\n",
    "x_train = torch.FloatTensor(x_train).to(device)\n",
    "y_train = torch.LongTensor(y_train).to(device)\n",
    "x_test = torch.FloatTensor(x_test)\n",
    "y_test = torch.LongTensor(y_test)\n",
    "\n",
    "# 데이터를 tensor로 바꿔주고 gpu 연산이 가능해지도록 gpu에 옮김\n",
    "# label 값을 왜 long 에 옮겨놓는가? loss function이 다르기 때문"
   ]
  },
  {
   "cell_type": "code",
   "execution_count": 6,
   "metadata": {
    "colab": {
     "base_uri": "https://localhost:8080/"
    },
    "id": "umEdiTZkrVqS",
    "outputId": "3d6d1c9f-c94f-4717-e06b-724d9223e6a8"
   },
   "outputs": [
    {
     "name": "stdout",
     "output_type": "stream",
     "text": [
      "tensor([1.1620e+01, 1.8180e+01, 7.6380e+01, 4.0880e+02, 1.1750e-01, 1.4830e-01,\n",
      "        1.0200e-01, 5.5640e-02, 1.9570e-01, 7.2550e-02, 4.1010e-01, 1.7400e+00,\n",
      "        3.0270e+00, 2.7850e+01, 1.4590e-02, 3.2060e-02, 4.9610e-02, 1.8410e-02,\n",
      "        1.8070e-02, 5.2170e-03, 1.3360e+01, 2.5400e+01, 8.8140e+01, 5.2810e+02,\n",
      "        1.7800e-01, 2.8780e-01, 3.1860e-01, 1.4160e-01, 2.6600e-01, 9.2700e-02])\n",
      "tensor(1)\n"
     ]
    }
   ],
   "source": [
    "print(x_train[0])\n",
    "print(y_train[0])\n",
    "\n",
    "#input 30개 (속성이 30개)\n",
    "#y의 class는 2개 (양성과 음성)"
   ]
  },
  {
   "cell_type": "markdown",
   "metadata": {
    "id": "combmxzmYFyn"
   },
   "source": [
    "파이토치에서는 데이터셋을 좀 더 쉽게 다룰 수 있도록 유용한 도구로서 torch.utils.data.Dataset과 torch.utils.data.DataLoader를 제공합니다. 이를 사용하면 미니 배치 학습, 데이터 셔플(shuffle), 병렬 처리까지 간단히 수행할 수 있습니다. 기본적인 사용 방법은 Dataset을 정의하고, 이를 DataLoader에 전달하는 것\n",
    "- init : class 에서 객체가 생성되면 바로 실행되는 함수\n",
    "- len : observation 수를 정의하는 함수\n",
    "- getitem : iteration 마다 해당하는 데이터를 돌려주는 함수"
   ]
  },
  {
   "cell_type": "code",
   "execution_count": 7,
   "metadata": {
    "id": "y38TlgXoqV5Z"
   },
   "outputs": [],
   "source": [
    "from torch.utils.data import Dataset\n",
    "class CustomDataset(Dataset):\n",
    "  def __init__(self): # 데이터셋의 입력 데이터/ 출력 데이터 초기화\n",
    "    self.x_data = x_train\n",
    "    self.y_data = [[y] for y in y_train]\n",
    "#  데이터셋의 전처리를 해주는 부분\n",
    "\n",
    "  def __len__(self):\n",
    "    return len(self.x_data)\n",
    "#  데이터셋의 길이. 즉, 총 샘플의 수를 적어주는 부분\n",
    "\n",
    "  def __getitem__(self, idx): # 특정 인덱스에 해당하는\n",
    "    x = torch.FloatTensor(self.x_data[idx]).to(device)\n",
    "    y = torch.LongTensor(self.y_data[idx]).to(device)\n",
    "#  데이터셋에서 특정 1개의 샘플을 가져오는 함수\n",
    "\n",
    "    return x,y"
   ]
  },
  {
   "cell_type": "code",
   "execution_count": 8,
   "metadata": {
    "id": "x8VHwnuFqino"
   },
   "outputs": [],
   "source": [
    "batch_size = 8\n",
    "\n",
    "dataset = CustomDataset() # 객체를 생성해서 커스텀데이터셋 만듬\n",
    "dataloader = DataLoader(dataset, batch_size=batch_size) # 데이터셋, 배치 크기 전달"
   ]
  },
  {
   "cell_type": "code",
   "execution_count": 9,
   "metadata": {
    "id": "C6V7a4tyq6Jc"
   },
   "outputs": [],
   "source": [
    "# input_layer와 hidden_layer의 노드 개수를 어떻게 바꿔줘야할까?\n",
    "# hidden layer/neuron 수를 바꾸기\n",
    "\n",
    "model = nn.Sequential(\n",
    "          nn.Linear(30,398, bias=True),\n",
    "          nn.Sigmoid(),\n",
    "          nn.Linear(398,15, bias=True),\n",
    "          nn.Sigmoid(),\n",
    "          nn.Linear(15,5, bias=True),\n",
    "          nn.Softmax()\n",
    "          ).to(device)"
   ]
  },
  {
   "cell_type": "markdown",
   "metadata": {
    "id": "07uV8RY7Yr_5"
   },
   "source": [
    "class로 구현 가능\n",
    "- init : 초기 생성 함수\n",
    "- foward : 순전파(입력값 => 예측값 의 과정)"
   ]
  },
  {
   "cell_type": "code",
   "execution_count": 10,
   "metadata": {
    "id": "a0zLstbMqxEZ"
   },
   "outputs": [],
   "source": [
    "class Model(torch.nn.Module):\n",
    "\n",
    "  def __init__(self):\n",
    "    super(Model, self).__init__()\n",
    "    self.layer1 = nn.Sequential(\n",
    "          nn.Linear(30,398, bias=True), # input_layer = 30, hidden_layer1 = 398\n",
    "          nn.Sigmoid(),\n",
    "        nn.BatchNorm1d(398)\n",
    "    )\n",
    "  # activation function 이용\n",
    "  #   nn.ReLU()\n",
    "  #   nn.tanH()\n",
    "  #   https://pytorch.org/docs/stable/nn.html 그 외에도 여기서 확인 가능함\n",
    "  #   파라미터가 필요하지 않다는 것이 특징\n",
    "\n",
    "  # batch normazliation 1d, 파라미터 값으로 vector의 길이를 전해줌\n",
    "  # 추후에 이미지를 다루게 된다면, 그때는 batch normalization 2d를 이용하게 됨\n",
    "  # 그때는 파라미터 값으로 채널, 가로, 세로 길이를 전달해주게 됨\n",
    "\n",
    "    self.layer2 = nn.Sequential(\n",
    "          nn.Linear(398,15, bias=True), # hidden_layer1 = 398, hidden_layer2 = 15\n",
    "        nn.Sigmoid()\n",
    "    )\n",
    "    self.layer3 = nn.Sequential(\n",
    "          nn.Linear(15,10, bias=True), # hidden_layer1 = 15, hidden_layer2 = 10\n",
    "        nn.Sigmoid()\n",
    "    )\n",
    "    self.layer4 = nn.Sequential(\n",
    "        nn.Linear(10, 5, bias=True), # hidden_layer3 = 10, output_layer = 5\n",
    "        nn.Softmax()\n",
    "    )\n",
    "\n",
    "  def forward(self,x):\n",
    "    output = self.layer1(x)\n",
    "    output = self.layer2(output)\n",
    "    output = self.layer3(output)\n",
    "    output = self.layer4(output)\n",
    "    return output"
   ]
  },
  {
   "cell_type": "code",
   "execution_count": 11,
   "metadata": {
    "id": "kqcqqkECrSGK"
   },
   "outputs": [],
   "source": [
    "def init_weights(layer):\n",
    "    if isinstance(layer, nn.Linear):\n",
    "        torch.nn.init.xavier_uniform(layer.weight)\n",
    "        layer.bias.data.fill_(0.01)\n",
    "\n",
    "        #xavier사용\n",
    "        # Layer의 weight를 어떤 분포를 가지도록 초기화시켜줌+global minimum찾기 위해서"
   ]
  },
  {
   "cell_type": "code",
   "execution_count": 12,
   "metadata": {
    "colab": {
     "base_uri": "https://localhost:8080/"
    },
    "id": "oMDUBFg6rUpw",
    "outputId": "d7dd78fa-9cb8-4d5a-92b4-441de2f81e14"
   },
   "outputs": [
    {
     "name": "stderr",
     "output_type": "stream",
     "text": [
      "C:\\Users\\withy\\AppData\\Local\\Temp\\ipykernel_8516\\2101624760.py:3: UserWarning: nn.init.xavier_uniform is now deprecated in favor of nn.init.xavier_uniform_.\n",
      "  torch.nn.init.xavier_uniform(layer.weight)\n"
     ]
    },
    {
     "data": {
      "text/plain": [
       "Model(\n",
       "  (layer1): Sequential(\n",
       "    (0): Linear(in_features=30, out_features=398, bias=True)\n",
       "    (1): Sigmoid()\n",
       "    (2): BatchNorm1d(398, eps=1e-05, momentum=0.1, affine=True, track_running_stats=True)\n",
       "  )\n",
       "  (layer2): Sequential(\n",
       "    (0): Linear(in_features=398, out_features=15, bias=True)\n",
       "    (1): Sigmoid()\n",
       "  )\n",
       "  (layer3): Sequential(\n",
       "    (0): Linear(in_features=15, out_features=10, bias=True)\n",
       "    (1): Sigmoid()\n",
       "  )\n",
       "  (layer4): Sequential(\n",
       "    (0): Linear(in_features=10, out_features=5, bias=True)\n",
       "    (1): Softmax(dim=None)\n",
       "  )\n",
       ")"
      ]
     },
     "execution_count": 12,
     "metadata": {},
     "output_type": "execute_result"
    }
   ],
   "source": [
    "model = Model().to(device)\n",
    "model.apply(init_weights)"
   ]
  },
  {
   "cell_type": "code",
   "execution_count": 13,
   "metadata": {
    "colab": {
     "base_uri": "https://localhost:8080/"
    },
    "id": "OwZt5CetrYFb",
    "outputId": "4054321d-8094-4a87-f6d1-7c9c35168492"
   },
   "outputs": [
    {
     "name": "stdout",
     "output_type": "stream",
     "text": [
      "Model(\n",
      "  (layer1): Sequential(\n",
      "    (0): Linear(in_features=30, out_features=398, bias=True)\n",
      "    (1): Sigmoid()\n",
      "    (2): BatchNorm1d(398, eps=1e-05, momentum=0.1, affine=True, track_running_stats=True)\n",
      "  )\n",
      "  (layer2): Sequential(\n",
      "    (0): Linear(in_features=398, out_features=15, bias=True)\n",
      "    (1): Sigmoid()\n",
      "  )\n",
      "  (layer3): Sequential(\n",
      "    (0): Linear(in_features=15, out_features=10, bias=True)\n",
      "    (1): Sigmoid()\n",
      "  )\n",
      "  (layer4): Sequential(\n",
      "    (0): Linear(in_features=10, out_features=5, bias=True)\n",
      "    (1): Softmax(dim=None)\n",
      "  )\n",
      ")\n"
     ]
    }
   ],
   "source": [
    "print(model)"
   ]
  },
  {
   "cell_type": "code",
   "execution_count": 14,
   "metadata": {
    "id": "AYFp-eTErh7b"
   },
   "outputs": [],
   "source": [
    "loss_fn  = nn.CrossEntropyLoss().to(device)\n",
    "\n",
    "# 여러가지 optimizer 시도해보기\n",
    "# lr 바꿔보기\n",
    "\n",
    "\n",
    "optimizer = optim.Adam(model.parameters(), lr= 0.01)\n",
    "\n",
    "# https://pytorch.org/docs/stable/optim.html#module-torch.optim 페이지 참조\n",
    "# optimizer = optim.SGD(model.parameters(), lr=0.1, momentum=0.9)\n",
    "# sgd 등등"
   ]
  },
  {
   "cell_type": "code",
   "execution_count": 15,
   "metadata": {
    "colab": {
     "base_uri": "https://localhost:8080/"
    },
    "id": "90QxHvlIrjS7",
    "outputId": "cc5d7e29-55d3-42a6-d3a1-c9222491f79e"
   },
   "outputs": [
    {
     "name": "stderr",
     "output_type": "stream",
     "text": [
      "C:\\Users\\withy\\anaconda3\\Lib\\site-packages\\torch\\nn\\modules\\module.py:1518: UserWarning: Implicit dimension choice for softmax has been deprecated. Change the call to include dim=X as an argument.\n",
      "  return self._call_impl(*args, **kwargs)\n"
     ]
    },
    {
     "name": "stdout",
     "output_type": "stream",
     "text": [
      "0 1.6726161241531372\n",
      "10 1.3783493041992188\n",
      "20 1.1654633283615112\n",
      "30 1.0707520246505737\n",
      "40 1.0233969688415527\n",
      "50 0.998358428478241\n",
      "60 1.0109995603561401\n",
      "70 0.9915383458137512\n",
      "80 1.0449525117874146\n",
      "90 0.9944688081741333\n"
     ]
    }
   ],
   "source": [
    "losses = []\n",
    "for epoch in range(100):\n",
    "\n",
    "  optimizer.zero_grad()\n",
    "  hypothesis = model(x_train)\n",
    "\n",
    "  # 비용 함수\n",
    "  cost = loss_fn(hypothesis, y_train)\n",
    "  cost.backward()\n",
    "  optimizer.step()\n",
    "  losses.append(cost.item())\n",
    "\n",
    "  if epoch % 10 == 0:\n",
    "    print(epoch, cost.item())"
   ]
  },
  {
   "cell_type": "code",
   "execution_count": 16,
   "metadata": {
    "colab": {
     "base_uri": "https://localhost:8080/",
     "height": 430
    },
    "id": "81ASYrW7roFM",
    "outputId": "d80d49b4-64fa-469e-89d5-c21633e5fba8"
   },
   "outputs": [
    {
     "data": {
      "image/png": "[encoded data removed]",
      "text/plain": [
       "<Figure size 640x480 with 1 Axes>"
      ]
     },
     "metadata": {},
     "output_type": "display_data"
    }
   ],
   "source": [
    "plt.plot(losses)\n",
    "plt.show()"
   ]
  },
  {
   "cell_type": "code",
   "execution_count": 17,
   "metadata": {
    "id": "h4kJzpLErqhZ"
   },
   "outputs": [],
   "source": [
    "with torch.no_grad():\n",
    "  model = model.to('cpu')\n",
    "  y_pred = model(x_test)\n",
    "  y_pred = y_pred.detach().numpy()\n",
    "  predicted = np.argmax(y_pred, axis =1)\n",
    "  accuracy = (accuracy_score(predicted, y_test))"
   ]
  },
  {
   "cell_type": "code",
   "execution_count": 18,
   "metadata": {
    "colab": {
     "base_uri": "https://localhost:8080/"
    },
    "id": "vyIKhs3Nr6Ay",
    "outputId": "179354f4-7538-4bff-a193-21d9c5b3c537"
   },
   "outputs": [
    {
     "name": "stdout",
     "output_type": "stream",
     "text": [
      "model의 output은 :  [0.01058868 0.9798797  0.00325224 0.00299292 0.0032865 ]\n",
      "argmax를 한 후의 output은 1\n",
      "accuracy는 0.9181286549707602\n"
     ]
    }
   ],
   "source": [
    "print(f'model의 output은 :  {y_pred[0]}')\n",
    "print(f'argmax를 한 후의 output은 {predicted[0]}')\n",
    "print(f'accuracy는 {accuracy}')"
   ]
  },
  {
   "cell_type": "markdown",
   "metadata": {
    "id": "z0_UaE4ShfHA"
   },
   "source": [
    "### load_digits() 데이터셋 선택"
   ]
  },
  {
   "cell_type": "markdown",
   "metadata": {},
   "source": [
    "활성화함수 : sigmoid/ReLU/Tanh 사용 \\\n",
    "옵티마이저 : Adam/ Adagrad/RMSprop/SGD 사용\\\n",
    "가장 정확도 높았던 시도1(Sigmoid/Adam), 시도9(Sigmoid/Adagrad)만 Ir 변화시켜봄\\\n",
    "시도 1은 Ir = 0.01, 0.03일 때 정확도 0.9833\\\n",
    "시도 9는 Ir = 0.03일 때 정확도 0.9814 \n",
    "\n",
    "\n",
    "최고 정확도 : 0.9833"
   ]
  },
  {
   "cell_type": "markdown",
   "metadata": {
    "id": "UPXWWskii-Sf"
   },
   "source": [
    "시도1\\\n",
    "활성화함수 : sigmoid \\\n",
    "optimizer : adam 사용 lr= 0.03\\\n",
    "accuracy : 0.9833"
   ]
  },
  {
   "cell_type": "code",
   "execution_count": 19,
   "metadata": {
    "id": "pWz1xrxfhbys"
   },
   "outputs": [],
   "source": [
    "from sklearn.datasets import load_digits\n",
    "data=load_digits()"
   ]
  },
  {
   "cell_type": "code",
   "execution_count": 20,
   "metadata": {
    "colab": {
     "base_uri": "https://localhost:8080/"
    },
    "id": "xotMguliknle",
    "outputId": "5d422448-5b3d-41e2-d0a3-1c0d1a015d3e",
    "scrolled": true
   },
   "outputs": [
    {
     "name": "stdout",
     "output_type": "stream",
     "text": [
      "(1797, 64) (1797,)\n"
     ]
    }
   ],
   "source": [
    "input = data.data # 입력 데이터를 나타냄\n",
    "output = data.target # 출력 데이터, 유방암 양성/음성 여부를 나타내는 클래스 레이블\n",
    "print(input.shape, output.shape)"
   ]
  },
  {
   "cell_type": "code",
   "execution_count": 21,
   "metadata": {
    "id": "am_BHq20knlg"
   },
   "outputs": [],
   "source": [
    "device = 'cuda' if torch.cuda.is_available() else 'cpu'\n",
    "\n",
    "torch.manual_seed(777)\n",
    "if device == \"cuda\":\n",
    "  torch.cuda.manual_seed_all(777)"
   ]
  },
  {
   "cell_type": "code",
   "execution_count": 22,
   "metadata": {
    "colab": {
     "base_uri": "https://localhost:8080/"
    },
    "id": "DTR0WNjNknlh",
    "outputId": "97df75bd-0c98-466b-ae70-6abc8ac4ff69"
   },
   "outputs": [
    {
     "name": "stdout",
     "output_type": "stream",
     "text": [
      "torch.Size([1257, 64]) torch.Size([1257])\n",
      "tensor([0, 1, 2, 3, 4, 5, 6, 7, 8, 9])\n"
     ]
    }
   ],
   "source": [
    "x_train, x_test, y_train, y_test = train_test_split(input, output, test_size = 0.3, random_state = 42, stratify= data.target, shuffle = True)\n",
    "\n",
    "x_train = torch.FloatTensor(x_train).to(device)\n",
    "y_train = torch.LongTensor(y_train).to(device)\n",
    "x_test = torch.FloatTensor(x_test)\n",
    "y_test = torch.LongTensor(y_test)\n",
    "print(x_train.shape, y_train.shape)\n",
    "print(torch.unique(y_train))\n",
    "# 데이터를 tensor로 바꿔주고 gpu 연산이 가능해지도록 gpu에 옮김\n",
    "# label 값을 왜 long 에 옮겨놓는가? loss function이 다르기 때문"
   ]
  },
  {
   "cell_type": "code",
   "execution_count": 23,
   "metadata": {
    "colab": {
     "base_uri": "https://localhost:8080/"
    },
    "id": "GV69fvZBknli",
    "outputId": "4427e12e-7ac2-454b-a3d0-ea62e903e0ea"
   },
   "outputs": [
    {
     "name": "stdout",
     "output_type": "stream",
     "text": [
      "tensor([ 0.,  0.,  0., 16., 12.,  1.,  0.,  0.,  0.,  0.,  6., 16., 14.,  7.,\n",
      "         0.,  0.,  0.,  0., 14., 15.,  1., 11.,  0.,  0.,  0.,  0., 16., 15.,\n",
      "         0., 14.,  1.,  0.,  0.,  1., 16., 10.,  0., 14.,  2.,  0.,  0.,  0.,\n",
      "        15., 13.,  3., 15.,  3.,  0.,  0.,  0.,  9., 16., 16., 15.,  0.,  0.,\n",
      "         0.,  0.,  0., 13., 16.,  8.,  0.,  0.])\n",
      "tensor(0)\n"
     ]
    }
   ],
   "source": [
    "print(x_train[0])\n",
    "print(y_train[0])\n",
    "\n",
    "#input 30개 (속성이 30개)\n",
    "#y의 class는 2개 (양성과 음성)"
   ]
  },
  {
   "cell_type": "code",
   "execution_count": 24,
   "metadata": {
    "id": "Ag7LJBdCknlj"
   },
   "outputs": [],
   "source": [
    "from torch.utils.data import Dataset\n",
    "class CustomDataset(Dataset):\n",
    "  def __init__(self): # 데이터셋의 입력 데이터/ 출력 데이터 초기화\n",
    "    self.x_data = x_train\n",
    "    self.y_data = [[y] for y in y_train]\n",
    "#  데이터셋의 전처리를 해주는 부분\n",
    "\n",
    "  def __len__(self):\n",
    "    return len(self.x_data)\n",
    "#  데이터셋의 길이. 즉, 총 샘플의 수를 적어주는 부분\n",
    "\n",
    "  def __getitem__(self, idx): # 특정 인덱스에 해당하는\n",
    "    x = torch.FloatTensor(self.x_data[idx]).to(device)\n",
    "    y = torch.LongTensor(self.y_data[idx]).to(device)\n",
    "#  데이터셋에서 특정 1개의 샘플을 가져오는 함수\n",
    "\n",
    "    return x,y"
   ]
  },
  {
   "cell_type": "code",
   "execution_count": 25,
   "metadata": {
    "id": "BesDr853knlk"
   },
   "outputs": [],
   "source": [
    "batch_size = 8\n",
    "\n",
    "dataset = CustomDataset() # 객체를 생성해서 커스텀데이터셋 만듬\n",
    "dataloader = DataLoader(dataset, batch_size=batch_size) # 데이터셋, 배치 크기 전달"
   ]
  },
  {
   "cell_type": "code",
   "execution_count": 26,
   "metadata": {
    "id": "v1NyY_Ifknll"
   },
   "outputs": [],
   "source": [
    "# input_layer와 hidden_layer의 노드 개수를 어떻게 바꿔줘야할까?\n",
    "# hidden layer/neuron 수를 바꾸기\n",
    "\n",
    "model = nn.Sequential(\n",
    "          nn.Linear(64,1257, bias=True),\n",
    "          nn.Sigmoid(),\n",
    "          nn.Linear(1257,30, bias=True),\n",
    "          nn.Sigmoid(),\n",
    "          nn.Linear(30,15, bias=True),\n",
    "          nn.Sigmoid(),\n",
    "          nn.Linear(15,10, bias=True),\n",
    "\n",
    "          nn.Softmax()\n",
    "          ).to(device)"
   ]
  },
  {
   "cell_type": "code",
   "execution_count": 27,
   "metadata": {
    "id": "Q4Lz69-_knlm"
   },
   "outputs": [],
   "source": [
    "class Model(torch.nn.Module):\n",
    "\n",
    "  def __init__(self):\n",
    "    super(Model, self).__init__()\n",
    "    self.layer1 = nn.Sequential(\n",
    "          nn.Linear(64,1257, bias=True), # input_layer = 30, hidden_layer1 = 398\n",
    "          nn.Sigmoid(),\n",
    "        nn.BatchNorm1d(1257)\n",
    "    )\n",
    "  # activation function 이용\n",
    "  #   nn.ReLU()\n",
    "  #   nn.tanH()\n",
    "  #   https://pytorch.org/docs/stable/nn.html 그 외에도 여기서 확인 가능함\n",
    "  #   파라미터가 필요하지 않다는 것이 특징\n",
    "\n",
    "  # batch normazliation 1d, 파라미터 값으로 vector의 길이를 전해줌\n",
    "  # 추후에 이미지를 다루게 된다면, 그때는 batch normalization 2d를 이용하게 됨\n",
    "  # 그때는 파라미터 값으로 채널, 가로, 세로 길이를 전달해주게 됨\n",
    "\n",
    "    self.layer2 = nn.Sequential(\n",
    "          nn.Linear(1257,30, bias=True), # hidden_layer1 = 398, hidden_layer2 = 30\n",
    "        nn.Sigmoid()\n",
    "    )\n",
    "    self.layer3 = nn.Sequential(\n",
    "          nn.Linear(30,15, bias=True), # hidden_layer1 = 30, hidden_layer2 = 15\n",
    "\n",
    "        nn.Sigmoid()\n",
    "    )\n",
    "\n",
    "    self.layer4 = nn.Sequential(\n",
    "          nn.Linear(15, 10, bias=True), # hidden_layer3 = 15, output_layer = 10\n",
    "\n",
    "        nn.Softmax()\n",
    "    )\n",
    "\n",
    "  def forward(self,x):\n",
    "    output = self.layer1(x)\n",
    "    output = self.layer2(output)\n",
    "    output = self.layer3(output)\n",
    "    output = self.layer4(output)\n",
    "    return output"
   ]
  },
  {
   "cell_type": "code",
   "execution_count": 28,
   "metadata": {
    "id": "tljsaOO9knln"
   },
   "outputs": [],
   "source": [
    "def init_weights(layer):\n",
    "    if isinstance(layer, nn.Linear):\n",
    "        torch.nn.init.xavier_uniform(layer.weight)\n",
    "        layer.bias.data.fill_(0.01)\n",
    "\n",
    "        #xavier사용\n",
    "        # Layer의 weight를 어떤 분포를 가지도록 초기화시켜줌+global minimum찾기 위해서"
   ]
  },
  {
   "cell_type": "code",
   "execution_count": 29,
   "metadata": {
    "colab": {
     "base_uri": "https://localhost:8080/"
    },
    "id": "TAzXoOo7knln",
    "outputId": "f4ce1d8d-17be-4495-cf45-9c04ad8720c9",
    "scrolled": true
   },
   "outputs": [
    {
     "name": "stderr",
     "output_type": "stream",
     "text": [
      "C:\\Users\\withy\\AppData\\Local\\Temp\\ipykernel_8516\\2101624760.py:3: UserWarning: nn.init.xavier_uniform is now deprecated in favor of nn.init.xavier_uniform_.\n",
      "  torch.nn.init.xavier_uniform(layer.weight)\n"
     ]
    },
    {
     "data": {
      "text/plain": [
       "Model(\n",
       "  (layer1): Sequential(\n",
       "    (0): Linear(in_features=64, out_features=1257, bias=True)\n",
       "    (1): Sigmoid()\n",
       "    (2): BatchNorm1d(1257, eps=1e-05, momentum=0.1, affine=True, track_running_stats=True)\n",
       "  )\n",
       "  (layer2): Sequential(\n",
       "    (0): Linear(in_features=1257, out_features=30, bias=True)\n",
       "    (1): Sigmoid()\n",
       "  )\n",
       "  (layer3): Sequential(\n",
       "    (0): Linear(in_features=30, out_features=15, bias=True)\n",
       "    (1): Sigmoid()\n",
       "  )\n",
       "  (layer4): Sequential(\n",
       "    (0): Linear(in_features=15, out_features=10, bias=True)\n",
       "    (1): Softmax(dim=None)\n",
       "  )\n",
       ")"
      ]
     },
     "execution_count": 29,
     "metadata": {},
     "output_type": "execute_result"
    }
   ],
   "source": [
    "model = Model().to(device)\n",
    "model.apply(init_weights)"
   ]
  },
  {
   "cell_type": "code",
   "execution_count": 30,
   "metadata": {
    "colab": {
     "base_uri": "https://localhost:8080/"
    },
    "id": "0xGxTfOmknlo",
    "outputId": "046038aa-e779-4a25-de12-bf88204a8cba",
    "scrolled": false
   },
   "outputs": [
    {
     "name": "stdout",
     "output_type": "stream",
     "text": [
      "Model(\n",
      "  (layer1): Sequential(\n",
      "    (0): Linear(in_features=64, out_features=1257, bias=True)\n",
      "    (1): Sigmoid()\n",
      "    (2): BatchNorm1d(1257, eps=1e-05, momentum=0.1, affine=True, track_running_stats=True)\n",
      "  )\n",
      "  (layer2): Sequential(\n",
      "    (0): Linear(in_features=1257, out_features=30, bias=True)\n",
      "    (1): Sigmoid()\n",
      "  )\n",
      "  (layer3): Sequential(\n",
      "    (0): Linear(in_features=30, out_features=15, bias=True)\n",
      "    (1): Sigmoid()\n",
      "  )\n",
      "  (layer4): Sequential(\n",
      "    (0): Linear(in_features=15, out_features=10, bias=True)\n",
      "    (1): Softmax(dim=None)\n",
      "  )\n",
      ")\n"
     ]
    }
   ],
   "source": [
    "print(model)"
   ]
  },
  {
   "cell_type": "code",
   "execution_count": 31,
   "metadata": {
    "id": "KRrAWkZtknlp"
   },
   "outputs": [],
   "source": [
    "loss_fn  = nn.CrossEntropyLoss().to(device)\n",
    "\n",
    "# 여러가지 optimizer 시도해보기\n",
    "# lr 바꿔보기\n",
    "\n",
    "optimizer = optim.Adam(model.parameters(), lr= 0.03)\n",
    "\n",
    "# https://pytorch.org/docs/stable/optim.html#module-torch.optim 페이지 참조\n",
    "# optimizer = optim.SGD(model.parameters(), lr=0.1, momentum=0.9)\n",
    "# sgd 등등"
   ]
  },
  {
   "cell_type": "code",
   "execution_count": 32,
   "metadata": {
    "colab": {
     "base_uri": "https://localhost:8080/",
     "height": 535
    },
    "id": "svdRvp0cknlq",
    "outputId": "8741ab20-71a2-4fe4-a4c6-bf2887270acd",
    "scrolled": true
   },
   "outputs": [
    {
     "name": "stderr",
     "output_type": "stream",
     "text": [
      "C:\\Users\\withy\\anaconda3\\Lib\\site-packages\\torch\\nn\\modules\\module.py:1518: UserWarning: Implicit dimension choice for softmax has been deprecated. Change the call to include dim=X as an argument.\n",
      "  return self._call_impl(*args, **kwargs)\n"
     ]
    },
    {
     "name": "stdout",
     "output_type": "stream",
     "text": [
      "0 2.3041915893554688\n",
      "10 1.9845832586288452\n",
      "20 1.683902621269226\n",
      "30 1.5699156522750854\n",
      "40 1.4893544912338257\n",
      "50 1.4695602655410767\n",
      "60 1.4656072854995728\n",
      "70 1.464250087738037\n",
      "80 1.4635578393936157\n",
      "90 1.4631884098052979\n"
     ]
    }
   ],
   "source": [
    "losses = []\n",
    "for epoch in range(100):\n",
    "\n",
    "  optimizer.zero_grad()\n",
    "  hypothesis = model(x_train)\n",
    "\n",
    "  # 비용 함수\n",
    "  cost = loss_fn(hypothesis, y_train)\n",
    "  cost.backward()\n",
    "  optimizer.step()\n",
    "  losses.append(cost.item())\n",
    "\n",
    "  if epoch % 10 == 0:\n",
    "    print(epoch, cost.item())"
   ]
  },
  {
   "cell_type": "code",
   "execution_count": 33,
   "metadata": {
    "id": "Eg0WnBx-knlr",
    "scrolled": true
   },
   "outputs": [
    {
     "data": {
      "image/png": "[encoded data removed]",
      "text/plain": [
       "<Figure size 640x480 with 1 Axes>"
      ]
     },
     "metadata": {},
     "output_type": "display_data"
    }
   ],
   "source": [
    "plt.plot(losses)\n",
    "plt.show()"
   ]
  },
  {
   "cell_type": "code",
   "execution_count": 34,
   "metadata": {
    "id": "2Qvsoi55knlr"
   },
   "outputs": [],
   "source": [
    "with torch.no_grad():\n",
    "  model = model.to('cpu')\n",
    "  y_pred = model(x_test)\n",
    "  y_pred = y_pred.detach().numpy()\n",
    "  predicted = np.argmax(y_pred, axis =1)\n",
    "  accuracy = (accuracy_score(predicted, y_test))"
   ]
  },
  {
   "cell_type": "code",
   "execution_count": 35,
   "metadata": {
    "id": "54n5gswmknls",
    "scrolled": false
   },
   "outputs": [
    {
     "name": "stdout",
     "output_type": "stream",
     "text": [
      "model의 output은 :  [8.0366078e-04 9.9807441e-01 7.4196095e-04 6.9685055e-05 2.4225743e-05\n",
      " 6.4306805e-05 1.9146932e-05 1.2339980e-04 7.6950862e-05 2.2658458e-06]\n",
      "argmax를 한 후의 output은 1\n",
      "accuracy는 0.9833333333333333\n"
     ]
    }
   ],
   "source": [
    "print(f'model의 output은 :  {y_pred[0]}')\n",
    "print(f'argmax를 한 후의 output은 {predicted[0]}')\n",
    "print(f'accuracy는 {accuracy}')"
   ]
  },
  {
   "cell_type": "markdown",
   "metadata": {
    "id": "UPXWWskii-Sf"
   },
   "source": [
    "시도1-1\\\n",
    "활성화함수 : sigmoid \\\n",
    "optimizer : adam 사용 lr= 0.01\\\n",
    "accuracy : 0.9833 -> Ir 줄였지만 정확도는 동일"
   ]
  },
  {
   "cell_type": "code",
   "execution_count": 36,
   "metadata": {
    "id": "pWz1xrxfhbys"
   },
   "outputs": [],
   "source": [
    "from sklearn.datasets import load_digits\n",
    "data=load_digits()"
   ]
  },
  {
   "cell_type": "code",
   "execution_count": 37,
   "metadata": {
    "colab": {
     "base_uri": "https://localhost:8080/"
    },
    "id": "xotMguliknle",
    "outputId": "5d422448-5b3d-41e2-d0a3-1c0d1a015d3e",
    "scrolled": true
   },
   "outputs": [
    {
     "name": "stdout",
     "output_type": "stream",
     "text": [
      "(1797, 64) (1797,)\n"
     ]
    }
   ],
   "source": [
    "input = data.data # 입력 데이터를 나타냄\n",
    "output = data.target # 출력 데이터, 유방암 양성/음성 여부를 나타내는 클래스 레이블\n",
    "print(input.shape, output.shape)"
   ]
  },
  {
   "cell_type": "code",
   "execution_count": 38,
   "metadata": {
    "id": "am_BHq20knlg"
   },
   "outputs": [],
   "source": [
    "device = 'cuda' if torch.cuda.is_available() else 'cpu'\n",
    "\n",
    "torch.manual_seed(777)\n",
    "if device == \"cuda\":\n",
    "  torch.cuda.manual_seed_all(777)"
   ]
  },
  {
   "cell_type": "code",
   "execution_count": 39,
   "metadata": {
    "colab": {
     "base_uri": "https://localhost:8080/"
    },
    "id": "DTR0WNjNknlh",
    "outputId": "97df75bd-0c98-466b-ae70-6abc8ac4ff69"
   },
   "outputs": [
    {
     "name": "stdout",
     "output_type": "stream",
     "text": [
      "torch.Size([1257, 64]) torch.Size([1257])\n",
      "tensor([0, 1, 2, 3, 4, 5, 6, 7, 8, 9])\n"
     ]
    }
   ],
   "source": [
    "x_train, x_test, y_train, y_test = train_test_split(input, output, test_size = 0.3, random_state = 42, stratify= data.target, shuffle = True)\n",
    "\n",
    "x_train = torch.FloatTensor(x_train).to(device)\n",
    "y_train = torch.LongTensor(y_train).to(device)\n",
    "x_test = torch.FloatTensor(x_test)\n",
    "y_test = torch.LongTensor(y_test)\n",
    "print(x_train.shape, y_train.shape)\n",
    "print(torch.unique(y_train))\n",
    "# 데이터를 tensor로 바꿔주고 gpu 연산이 가능해지도록 gpu에 옮김\n",
    "# label 값을 왜 long 에 옮겨놓는가? loss function이 다르기 때문"
   ]
  },
  {
   "cell_type": "code",
   "execution_count": 40,
   "metadata": {
    "colab": {
     "base_uri": "https://localhost:8080/"
    },
    "id": "GV69fvZBknli",
    "outputId": "4427e12e-7ac2-454b-a3d0-ea62e903e0ea"
   },
   "outputs": [
    {
     "name": "stdout",
     "output_type": "stream",
     "text": [
      "tensor([ 0.,  0.,  0., 16., 12.,  1.,  0.,  0.,  0.,  0.,  6., 16., 14.,  7.,\n",
      "         0.,  0.,  0.,  0., 14., 15.,  1., 11.,  0.,  0.,  0.,  0., 16., 15.,\n",
      "         0., 14.,  1.,  0.,  0.,  1., 16., 10.,  0., 14.,  2.,  0.,  0.,  0.,\n",
      "        15., 13.,  3., 15.,  3.,  0.,  0.,  0.,  9., 16., 16., 15.,  0.,  0.,\n",
      "         0.,  0.,  0., 13., 16.,  8.,  0.,  0.])\n",
      "tensor(0)\n"
     ]
    }
   ],
   "source": [
    "print(x_train[0])\n",
    "print(y_train[0])\n",
    "\n",
    "#input 30개 (속성이 30개)\n",
    "#y의 class는 2개 (양성과 음성)"
   ]
  },
  {
   "cell_type": "code",
   "execution_count": 41,
   "metadata": {
    "id": "Ag7LJBdCknlj"
   },
   "outputs": [],
   "source": [
    "from torch.utils.data import Dataset\n",
    "class CustomDataset(Dataset):\n",
    "  def __init__(self): # 데이터셋의 입력 데이터/ 출력 데이터 초기화\n",
    "    self.x_data = x_train\n",
    "    self.y_data = [[y] for y in y_train]\n",
    "#  데이터셋의 전처리를 해주는 부분\n",
    "\n",
    "  def __len__(self):\n",
    "    return len(self.x_data)\n",
    "#  데이터셋의 길이. 즉, 총 샘플의 수를 적어주는 부분\n",
    "\n",
    "  def __getitem__(self, idx): # 특정 인덱스에 해당하는\n",
    "    x = torch.FloatTensor(self.x_data[idx]).to(device)\n",
    "    y = torch.LongTensor(self.y_data[idx]).to(device)\n",
    "#  데이터셋에서 특정 1개의 샘플을 가져오는 함수\n",
    "\n",
    "    return x,y"
   ]
  },
  {
   "cell_type": "code",
   "execution_count": 42,
   "metadata": {
    "id": "BesDr853knlk"
   },
   "outputs": [],
   "source": [
    "batch_size = 8\n",
    "\n",
    "dataset = CustomDataset() # 객체를 생성해서 커스텀데이터셋 만듬\n",
    "dataloader = DataLoader(dataset, batch_size=batch_size) # 데이터셋, 배치 크기 전달"
   ]
  },
  {
   "cell_type": "code",
   "execution_count": 43,
   "metadata": {
    "id": "v1NyY_Ifknll"
   },
   "outputs": [],
   "source": [
    "# input_layer와 hidden_layer의 노드 개수를 어떻게 바꿔줘야할까?\n",
    "# hidden layer/neuron 수를 바꾸기\n",
    "\n",
    "model = nn.Sequential(\n",
    "          nn.Linear(64,1257, bias=True),\n",
    "          nn.Sigmoid(),\n",
    "          nn.Linear(1257,30, bias=True),\n",
    "          nn.Sigmoid(),\n",
    "          nn.Linear(30,15, bias=True),\n",
    "          nn.Sigmoid(),\n",
    "          nn.Linear(15,10, bias=True),\n",
    "\n",
    "          nn.Softmax()\n",
    "          ).to(device)"
   ]
  },
  {
   "cell_type": "code",
   "execution_count": 44,
   "metadata": {
    "id": "Q4Lz69-_knlm"
   },
   "outputs": [],
   "source": [
    "class Model(torch.nn.Module):\n",
    "\n",
    "  def __init__(self):\n",
    "    super(Model, self).__init__()\n",
    "    self.layer1 = nn.Sequential(\n",
    "          nn.Linear(64,1257, bias=True), # input_layer = 30, hidden_layer1 = 398\n",
    "          nn.Sigmoid(),\n",
    "        nn.BatchNorm1d(1257)\n",
    "    )\n",
    "  # activation function 이용\n",
    "  #   nn.ReLU()\n",
    "  #   nn.tanH()\n",
    "  #   https://pytorch.org/docs/stable/nn.html 그 외에도 여기서 확인 가능함\n",
    "  #   파라미터가 필요하지 않다는 것이 특징\n",
    "\n",
    "  # batch normazliation 1d, 파라미터 값으로 vector의 길이를 전해줌\n",
    "  # 추후에 이미지를 다루게 된다면, 그때는 batch normalization 2d를 이용하게 됨\n",
    "  # 그때는 파라미터 값으로 채널, 가로, 세로 길이를 전달해주게 됨\n",
    "\n",
    "    self.layer2 = nn.Sequential(\n",
    "          nn.Linear(1257,30, bias=True), # hidden_layer1 = 398, hidden_layer2 = 30\n",
    "        nn.Sigmoid()\n",
    "    )\n",
    "    self.layer3 = nn.Sequential(\n",
    "          nn.Linear(30,15, bias=True), # hidden_layer1 = 30, hidden_layer2 = 15\n",
    "\n",
    "        nn.Sigmoid()\n",
    "    )\n",
    "\n",
    "    self.layer4 = nn.Sequential(\n",
    "          nn.Linear(15, 10, bias=True), # hidden_layer3 = 15, output_layer = 10\n",
    "\n",
    "        nn.Softmax()\n",
    "    )\n",
    "\n",
    "  def forward(self,x):\n",
    "    output = self.layer1(x)\n",
    "    output = self.layer2(output)\n",
    "    output = self.layer3(output)\n",
    "    output = self.layer4(output)\n",
    "    return output"
   ]
  },
  {
   "cell_type": "code",
   "execution_count": 45,
   "metadata": {
    "id": "tljsaOO9knln"
   },
   "outputs": [],
   "source": [
    "def init_weights(layer):\n",
    "    if isinstance(layer, nn.Linear):\n",
    "        torch.nn.init.xavier_uniform(layer.weight)\n",
    "        layer.bias.data.fill_(0.01)\n",
    "\n",
    "        #xavier사용\n",
    "        # Layer의 weight를 어떤 분포를 가지도록 초기화시켜줌+global minimum찾기 위해서"
   ]
  },
  {
   "cell_type": "code",
   "execution_count": 46,
   "metadata": {
    "colab": {
     "base_uri": "https://localhost:8080/"
    },
    "id": "TAzXoOo7knln",
    "outputId": "f4ce1d8d-17be-4495-cf45-9c04ad8720c9",
    "scrolled": true
   },
   "outputs": [
    {
     "name": "stderr",
     "output_type": "stream",
     "text": [
      "C:\\Users\\withy\\AppData\\Local\\Temp\\ipykernel_8516\\2101624760.py:3: UserWarning: nn.init.xavier_uniform is now deprecated in favor of nn.init.xavier_uniform_.\n",
      "  torch.nn.init.xavier_uniform(layer.weight)\n"
     ]
    },
    {
     "data": {
      "text/plain": [
       "Model(\n",
       "  (layer1): Sequential(\n",
       "    (0): Linear(in_features=64, out_features=1257, bias=True)\n",
       "    (1): Sigmoid()\n",
       "    (2): BatchNorm1d(1257, eps=1e-05, momentum=0.1, affine=True, track_running_stats=True)\n",
       "  )\n",
       "  (layer2): Sequential(\n",
       "    (0): Linear(in_features=1257, out_features=30, bias=True)\n",
       "    (1): Sigmoid()\n",
       "  )\n",
       "  (layer3): Sequential(\n",
       "    (0): Linear(in_features=30, out_features=15, bias=True)\n",
       "    (1): Sigmoid()\n",
       "  )\n",
       "  (layer4): Sequential(\n",
       "    (0): Linear(in_features=15, out_features=10, bias=True)\n",
       "    (1): Softmax(dim=None)\n",
       "  )\n",
       ")"
      ]
     },
     "execution_count": 46,
     "metadata": {},
     "output_type": "execute_result"
    }
   ],
   "source": [
    "model = Model().to(device)\n",
    "model.apply(init_weights)"
   ]
  },
  {
   "cell_type": "code",
   "execution_count": 47,
   "metadata": {
    "colab": {
     "base_uri": "https://localhost:8080/"
    },
    "id": "0xGxTfOmknlo",
    "outputId": "046038aa-e779-4a25-de12-bf88204a8cba",
    "scrolled": false
   },
   "outputs": [
    {
     "name": "stdout",
     "output_type": "stream",
     "text": [
      "Model(\n",
      "  (layer1): Sequential(\n",
      "    (0): Linear(in_features=64, out_features=1257, bias=True)\n",
      "    (1): Sigmoid()\n",
      "    (2): BatchNorm1d(1257, eps=1e-05, momentum=0.1, affine=True, track_running_stats=True)\n",
      "  )\n",
      "  (layer2): Sequential(\n",
      "    (0): Linear(in_features=1257, out_features=30, bias=True)\n",
      "    (1): Sigmoid()\n",
      "  )\n",
      "  (layer3): Sequential(\n",
      "    (0): Linear(in_features=30, out_features=15, bias=True)\n",
      "    (1): Sigmoid()\n",
      "  )\n",
      "  (layer4): Sequential(\n",
      "    (0): Linear(in_features=15, out_features=10, bias=True)\n",
      "    (1): Softmax(dim=None)\n",
      "  )\n",
      ")\n"
     ]
    }
   ],
   "source": [
    "print(model)"
   ]
  },
  {
   "cell_type": "code",
   "execution_count": 48,
   "metadata": {
    "id": "KRrAWkZtknlp"
   },
   "outputs": [],
   "source": [
    "loss_fn  = nn.CrossEntropyLoss().to(device)\n",
    "\n",
    "# 여러가지 optimizer 시도해보기\n",
    "# lr 바꿔보기\n",
    "\n",
    "optimizer = optim.Adam(model.parameters(), lr= 0.01)\n",
    "\n",
    "# https://pytorch.org/docs/stable/optim.html#module-torch.optim 페이지 참조\n",
    "# optimizer = optim.SGD(model.parameters(), lr=0.1, momentum=0.9)\n",
    "# sgd 등등"
   ]
  },
  {
   "cell_type": "code",
   "execution_count": 49,
   "metadata": {
    "colab": {
     "base_uri": "https://localhost:8080/",
     "height": 535
    },
    "id": "svdRvp0cknlq",
    "outputId": "8741ab20-71a2-4fe4-a4c6-bf2887270acd",
    "scrolled": true
   },
   "outputs": [
    {
     "name": "stdout",
     "output_type": "stream",
     "text": [
      "0 2.3041915893554688\n"
     ]
    },
    {
     "name": "stderr",
     "output_type": "stream",
     "text": [
      "C:\\Users\\withy\\anaconda3\\Lib\\site-packages\\torch\\nn\\modules\\module.py:1518: UserWarning: Implicit dimension choice for softmax has been deprecated. Change the call to include dim=X as an argument.\n",
      "  return self._call_impl(*args, **kwargs)\n"
     ]
    },
    {
     "name": "stdout",
     "output_type": "stream",
     "text": [
      "10 2.1673614978790283\n",
      "20 2.0322039127349854\n",
      "30 1.8888057470321655\n",
      "40 1.7664422988891602\n",
      "50 1.6712431907653809\n",
      "60 1.599353313446045\n",
      "70 1.5367558002471924\n",
      "80 1.5053565502166748\n",
      "90 1.4897820949554443\n"
     ]
    }
   ],
   "source": [
    "losses = []\n",
    "for epoch in range(100):\n",
    "\n",
    "  optimizer.zero_grad()\n",
    "  hypothesis = model(x_train)\n",
    "\n",
    "  # 비용 함수\n",
    "  cost = loss_fn(hypothesis, y_train)\n",
    "  cost.backward()\n",
    "  optimizer.step()\n",
    "  losses.append(cost.item())\n",
    "\n",
    "  if epoch % 10 == 0:\n",
    "    print(epoch, cost.item())"
   ]
  },
  {
   "cell_type": "code",
   "execution_count": 50,
   "metadata": {
    "id": "Eg0WnBx-knlr",
    "scrolled": true
   },
   "outputs": [
    {
     "data": {
      "image/png": "[encoded data removed]",
      "text/plain": [
       "<Figure size 640x480 with 1 Axes>"
      ]
     },
     "metadata": {},
     "output_type": "display_data"
    }
   ],
   "source": [
    "plt.plot(losses)\n",
    "plt.show()"
   ]
  },
  {
   "cell_type": "code",
   "execution_count": 51,
   "metadata": {
    "id": "2Qvsoi55knlr"
   },
   "outputs": [],
   "source": [
    "with torch.no_grad():\n",
    "  model = model.to('cpu')\n",
    "  y_pred = model(x_test)\n",
    "  y_pred = y_pred.detach().numpy()\n",
    "  predicted = np.argmax(y_pred, axis =1)\n",
    "  accuracy = (accuracy_score(predicted, y_test))"
   ]
  },
  {
   "cell_type": "code",
   "execution_count": 52,
   "metadata": {
    "id": "54n5gswmknls",
    "scrolled": false
   },
   "outputs": [
    {
     "name": "stdout",
     "output_type": "stream",
     "text": [
      "model의 output은 :  [4.5020129e-03 9.8336005e-01 4.6892571e-03 1.1774487e-03 8.1090420e-04\n",
      " 1.6380138e-04 8.2885311e-04 1.7962443e-03 2.6457943e-03 2.5671810e-05]\n",
      "argmax를 한 후의 output은 1\n",
      "accuracy는 0.9833333333333333\n"
     ]
    }
   ],
   "source": [
    "print(f'model의 output은 :  {y_pred[0]}')\n",
    "print(f'argmax를 한 후의 output은 {predicted[0]}')\n",
    "print(f'accuracy는 {accuracy}')"
   ]
  },
  {
   "cell_type": "markdown",
   "metadata": {
    "id": "UPXWWskii-Sf"
   },
   "source": [
    "시도1-2\\\n",
    "활성화함수 : sigmoid \\\n",
    "optimizer : adam 사용 lr= 0.05\\\n",
    "accuracy : 0.9685 -> 감소"
   ]
  },
  {
   "cell_type": "code",
   "execution_count": 53,
   "metadata": {
    "id": "pWz1xrxfhbys"
   },
   "outputs": [],
   "source": [
    "from sklearn.datasets import load_digits\n",
    "data=load_digits()"
   ]
  },
  {
   "cell_type": "code",
   "execution_count": 54,
   "metadata": {
    "colab": {
     "base_uri": "https://localhost:8080/"
    },
    "id": "xotMguliknle",
    "outputId": "5d422448-5b3d-41e2-d0a3-1c0d1a015d3e",
    "scrolled": true
   },
   "outputs": [
    {
     "name": "stdout",
     "output_type": "stream",
     "text": [
      "(1797, 64) (1797,)\n"
     ]
    }
   ],
   "source": [
    "input = data.data # 입력 데이터를 나타냄\n",
    "output = data.target # 출력 데이터, 유방암 양성/음성 여부를 나타내는 클래스 레이블\n",
    "print(input.shape, output.shape)"
   ]
  },
  {
   "cell_type": "code",
   "execution_count": 55,
   "metadata": {
    "id": "am_BHq20knlg"
   },
   "outputs": [],
   "source": [
    "device = 'cuda' if torch.cuda.is_available() else 'cpu'\n",
    "\n",
    "torch.manual_seed(777)\n",
    "if device == \"cuda\":\n",
    "  torch.cuda.manual_seed_all(777)"
   ]
  },
  {
   "cell_type": "code",
   "execution_count": 56,
   "metadata": {
    "colab": {
     "base_uri": "https://localhost:8080/"
    },
    "id": "DTR0WNjNknlh",
    "outputId": "97df75bd-0c98-466b-ae70-6abc8ac4ff69"
   },
   "outputs": [
    {
     "name": "stdout",
     "output_type": "stream",
     "text": [
      "torch.Size([1257, 64]) torch.Size([1257])\n",
      "tensor([0, 1, 2, 3, 4, 5, 6, 7, 8, 9])\n"
     ]
    }
   ],
   "source": [
    "x_train, x_test, y_train, y_test = train_test_split(input, output, test_size = 0.3, random_state = 42, stratify= data.target, shuffle = True)\n",
    "\n",
    "x_train = torch.FloatTensor(x_train).to(device)\n",
    "y_train = torch.LongTensor(y_train).to(device)\n",
    "x_test = torch.FloatTensor(x_test)\n",
    "y_test = torch.LongTensor(y_test)\n",
    "print(x_train.shape, y_train.shape)\n",
    "print(torch.unique(y_train))\n",
    "# 데이터를 tensor로 바꿔주고 gpu 연산이 가능해지도록 gpu에 옮김\n",
    "# label 값을 왜 long 에 옮겨놓는가? loss function이 다르기 때문"
   ]
  },
  {
   "cell_type": "code",
   "execution_count": 57,
   "metadata": {
    "colab": {
     "base_uri": "https://localhost:8080/"
    },
    "id": "GV69fvZBknli",
    "outputId": "4427e12e-7ac2-454b-a3d0-ea62e903e0ea"
   },
   "outputs": [
    {
     "name": "stdout",
     "output_type": "stream",
     "text": [
      "tensor([ 0.,  0.,  0., 16., 12.,  1.,  0.,  0.,  0.,  0.,  6., 16., 14.,  7.,\n",
      "         0.,  0.,  0.,  0., 14., 15.,  1., 11.,  0.,  0.,  0.,  0., 16., 15.,\n",
      "         0., 14.,  1.,  0.,  0.,  1., 16., 10.,  0., 14.,  2.,  0.,  0.,  0.,\n",
      "        15., 13.,  3., 15.,  3.,  0.,  0.,  0.,  9., 16., 16., 15.,  0.,  0.,\n",
      "         0.,  0.,  0., 13., 16.,  8.,  0.,  0.])\n",
      "tensor(0)\n"
     ]
    }
   ],
   "source": [
    "print(x_train[0])\n",
    "print(y_train[0])\n",
    "\n",
    "#input 30개 (속성이 30개)\n",
    "#y의 class는 2개 (양성과 음성)"
   ]
  },
  {
   "cell_type": "code",
   "execution_count": 58,
   "metadata": {
    "id": "Ag7LJBdCknlj"
   },
   "outputs": [],
   "source": [
    "from torch.utils.data import Dataset\n",
    "class CustomDataset(Dataset):\n",
    "  def __init__(self): # 데이터셋의 입력 데이터/ 출력 데이터 초기화\n",
    "    self.x_data = x_train\n",
    "    self.y_data = [[y] for y in y_train]\n",
    "#  데이터셋의 전처리를 해주는 부분\n",
    "\n",
    "  def __len__(self):\n",
    "    return len(self.x_data)\n",
    "#  데이터셋의 길이. 즉, 총 샘플의 수를 적어주는 부분\n",
    "\n",
    "  def __getitem__(self, idx): # 특정 인덱스에 해당하는\n",
    "    x = torch.FloatTensor(self.x_data[idx]).to(device)\n",
    "    y = torch.LongTensor(self.y_data[idx]).to(device)\n",
    "#  데이터셋에서 특정 1개의 샘플을 가져오는 함수\n",
    "\n",
    "    return x,y"
   ]
  },
  {
   "cell_type": "code",
   "execution_count": 59,
   "metadata": {
    "id": "BesDr853knlk"
   },
   "outputs": [],
   "source": [
    "batch_size = 8\n",
    "\n",
    "dataset = CustomDataset() # 객체를 생성해서 커스텀데이터셋 만듬\n",
    "dataloader = DataLoader(dataset, batch_size=batch_size) # 데이터셋, 배치 크기 전달"
   ]
  },
  {
   "cell_type": "code",
   "execution_count": 60,
   "metadata": {
    "id": "v1NyY_Ifknll"
   },
   "outputs": [],
   "source": [
    "# input_layer와 hidden_layer의 노드 개수를 어떻게 바꿔줘야할까?\n",
    "# hidden layer/neuron 수를 바꾸기\n",
    "\n",
    "model = nn.Sequential(\n",
    "          nn.Linear(64,1257, bias=True),\n",
    "          nn.Sigmoid(),\n",
    "          nn.Linear(1257,30, bias=True),\n",
    "          nn.Sigmoid(),\n",
    "          nn.Linear(30,15, bias=True),\n",
    "          nn.Sigmoid(),\n",
    "          nn.Linear(15,10, bias=True),\n",
    "\n",
    "          nn.Softmax()\n",
    "          ).to(device)"
   ]
  },
  {
   "cell_type": "code",
   "execution_count": 61,
   "metadata": {
    "id": "Q4Lz69-_knlm"
   },
   "outputs": [],
   "source": [
    "class Model(torch.nn.Module):\n",
    "\n",
    "  def __init__(self):\n",
    "    super(Model, self).__init__()\n",
    "    self.layer1 = nn.Sequential(\n",
    "          nn.Linear(64,1257, bias=True), # input_layer = 30, hidden_layer1 = 398\n",
    "          nn.Sigmoid(),\n",
    "        nn.BatchNorm1d(1257)\n",
    "    )\n",
    "  # activation function 이용\n",
    "  #   nn.ReLU()\n",
    "  #   nn.tanH()\n",
    "  #   https://pytorch.org/docs/stable/nn.html 그 외에도 여기서 확인 가능함\n",
    "  #   파라미터가 필요하지 않다는 것이 특징\n",
    "\n",
    "  # batch normazliation 1d, 파라미터 값으로 vector의 길이를 전해줌\n",
    "  # 추후에 이미지를 다루게 된다면, 그때는 batch normalization 2d를 이용하게 됨\n",
    "  # 그때는 파라미터 값으로 채널, 가로, 세로 길이를 전달해주게 됨\n",
    "\n",
    "    self.layer2 = nn.Sequential(\n",
    "          nn.Linear(1257,30, bias=True), # hidden_layer1 = 398, hidden_layer2 = 30\n",
    "        nn.Sigmoid()\n",
    "    )\n",
    "    self.layer3 = nn.Sequential(\n",
    "          nn.Linear(30,15, bias=True), # hidden_layer1 = 30, hidden_layer2 = 15\n",
    "\n",
    "        nn.Sigmoid()\n",
    "    )\n",
    "\n",
    "    self.layer4 = nn.Sequential(\n",
    "          nn.Linear(15, 10, bias=True), # hidden_layer3 = 15, output_layer = 10\n",
    "\n",
    "        nn.Softmax()\n",
    "    )\n",
    "\n",
    "  def forward(self,x):\n",
    "    output = self.layer1(x)\n",
    "    output = self.layer2(output)\n",
    "    output = self.layer3(output)\n",
    "    output = self.layer4(output)\n",
    "    return output"
   ]
  },
  {
   "cell_type": "code",
   "execution_count": 62,
   "metadata": {
    "id": "tljsaOO9knln"
   },
   "outputs": [],
   "source": [
    "def init_weights(layer):\n",
    "    if isinstance(layer, nn.Linear):\n",
    "        torch.nn.init.xavier_uniform(layer.weight)\n",
    "        layer.bias.data.fill_(0.01)\n",
    "\n",
    "        #xavier사용\n",
    "        # Layer의 weight를 어떤 분포를 가지도록 초기화시켜줌+global minimum찾기 위해서"
   ]
  },
  {
   "cell_type": "code",
   "execution_count": 63,
   "metadata": {
    "colab": {
     "base_uri": "https://localhost:8080/"
    },
    "id": "TAzXoOo7knln",
    "outputId": "f4ce1d8d-17be-4495-cf45-9c04ad8720c9",
    "scrolled": true
   },
   "outputs": [
    {
     "name": "stderr",
     "output_type": "stream",
     "text": [
      "C:\\Users\\withy\\AppData\\Local\\Temp\\ipykernel_8516\\2101624760.py:3: UserWarning: nn.init.xavier_uniform is now deprecated in favor of nn.init.xavier_uniform_.\n",
      "  torch.nn.init.xavier_uniform(layer.weight)\n"
     ]
    },
    {
     "data": {
      "text/plain": [
       "Model(\n",
       "  (layer1): Sequential(\n",
       "    (0): Linear(in_features=64, out_features=1257, bias=True)\n",
       "    (1): Sigmoid()\n",
       "    (2): BatchNorm1d(1257, eps=1e-05, momentum=0.1, affine=True, track_running_stats=True)\n",
       "  )\n",
       "  (layer2): Sequential(\n",
       "    (0): Linear(in_features=1257, out_features=30, bias=True)\n",
       "    (1): Sigmoid()\n",
       "  )\n",
       "  (layer3): Sequential(\n",
       "    (0): Linear(in_features=30, out_features=15, bias=True)\n",
       "    (1): Sigmoid()\n",
       "  )\n",
       "  (layer4): Sequential(\n",
       "    (0): Linear(in_features=15, out_features=10, bias=True)\n",
       "    (1): Softmax(dim=None)\n",
       "  )\n",
       ")"
      ]
     },
     "execution_count": 63,
     "metadata": {},
     "output_type": "execute_result"
    }
   ],
   "source": [
    "model = Model().to(device)\n",
    "model.apply(init_weights)"
   ]
  },
  {
   "cell_type": "code",
   "execution_count": 64,
   "metadata": {
    "colab": {
     "base_uri": "https://localhost:8080/"
    },
    "id": "0xGxTfOmknlo",
    "outputId": "046038aa-e779-4a25-de12-bf88204a8cba",
    "scrolled": false
   },
   "outputs": [
    {
     "name": "stdout",
     "output_type": "stream",
     "text": [
      "Model(\n",
      "  (layer1): Sequential(\n",
      "    (0): Linear(in_features=64, out_features=1257, bias=True)\n",
      "    (1): Sigmoid()\n",
      "    (2): BatchNorm1d(1257, eps=1e-05, momentum=0.1, affine=True, track_running_stats=True)\n",
      "  )\n",
      "  (layer2): Sequential(\n",
      "    (0): Linear(in_features=1257, out_features=30, bias=True)\n",
      "    (1): Sigmoid()\n",
      "  )\n",
      "  (layer3): Sequential(\n",
      "    (0): Linear(in_features=30, out_features=15, bias=True)\n",
      "    (1): Sigmoid()\n",
      "  )\n",
      "  (layer4): Sequential(\n",
      "    (0): Linear(in_features=15, out_features=10, bias=True)\n",
      "    (1): Softmax(dim=None)\n",
      "  )\n",
      ")\n"
     ]
    }
   ],
   "source": [
    "print(model)"
   ]
  },
  {
   "cell_type": "code",
   "execution_count": 65,
   "metadata": {
    "id": "KRrAWkZtknlp"
   },
   "outputs": [],
   "source": [
    "loss_fn  = nn.CrossEntropyLoss().to(device)\n",
    "\n",
    "# 여러가지 optimizer 시도해보기\n",
    "# lr 바꿔보기\n",
    "\n",
    "optimizer = optim.Adam(model.parameters(), lr= 0.05)\n",
    "\n",
    "# https://pytorch.org/docs/stable/optim.html#module-torch.optim 페이지 참조\n",
    "# optimizer = optim.SGD(model.parameters(), lr=0.1, momentum=0.9)\n",
    "# sgd 등등"
   ]
  },
  {
   "cell_type": "code",
   "execution_count": 66,
   "metadata": {
    "colab": {
     "base_uri": "https://localhost:8080/",
     "height": 535
    },
    "id": "svdRvp0cknlq",
    "outputId": "8741ab20-71a2-4fe4-a4c6-bf2887270acd",
    "scrolled": true
   },
   "outputs": [
    {
     "name": "stdout",
     "output_type": "stream",
     "text": [
      "0 2.3041915893554688\n"
     ]
    },
    {
     "name": "stderr",
     "output_type": "stream",
     "text": [
      "C:\\Users\\withy\\anaconda3\\Lib\\site-packages\\torch\\nn\\modules\\module.py:1518: UserWarning: Implicit dimension choice for softmax has been deprecated. Change the call to include dim=X as an argument.\n",
      "  return self._call_impl(*args, **kwargs)\n"
     ]
    },
    {
     "name": "stdout",
     "output_type": "stream",
     "text": [
      "10 1.867556095123291\n",
      "20 1.58851158618927\n",
      "30 1.5563104152679443\n",
      "40 1.4934300184249878\n",
      "50 1.4710553884506226\n",
      "60 1.466712236404419\n",
      "70 1.4663283824920654\n",
      "80 1.4670255184173584\n",
      "90 1.4656919240951538\n"
     ]
    }
   ],
   "source": [
    "losses = []\n",
    "for epoch in range(100):\n",
    "\n",
    "  optimizer.zero_grad()\n",
    "  hypothesis = model(x_train)\n",
    "\n",
    "  # 비용 함수\n",
    "  cost = loss_fn(hypothesis, y_train)\n",
    "  cost.backward()\n",
    "  optimizer.step()\n",
    "  losses.append(cost.item())\n",
    "\n",
    "  if epoch % 10 == 0:\n",
    "    print(epoch, cost.item())"
   ]
  },
  {
   "cell_type": "code",
   "execution_count": 67,
   "metadata": {
    "id": "Eg0WnBx-knlr",
    "scrolled": true
   },
   "outputs": [
    {
     "data": {
      "image/png": "[encoded data removed]",
      "text/plain": [
       "<Figure size 640x480 with 1 Axes>"
      ]
     },
     "metadata": {},
     "output_type": "display_data"
    }
   ],
   "source": [
    "plt.plot(losses)\n",
    "plt.show()"
   ]
  },
  {
   "cell_type": "code",
   "execution_count": 68,
   "metadata": {
    "id": "2Qvsoi55knlr"
   },
   "outputs": [],
   "source": [
    "with torch.no_grad():\n",
    "  model = model.to('cpu')\n",
    "  y_pred = model(x_test)\n",
    "  y_pred = y_pred.detach().numpy()\n",
    "  predicted = np.argmax(y_pred, axis =1)\n",
    "  accuracy = (accuracy_score(predicted, y_test))"
   ]
  },
  {
   "cell_type": "code",
   "execution_count": 69,
   "metadata": {
    "id": "54n5gswmknls",
    "scrolled": false
   },
   "outputs": [
    {
     "name": "stdout",
     "output_type": "stream",
     "text": [
      "model의 output은 :  [1.5456062e-05 9.9954492e-01 3.5182835e-04 6.6821408e-06 1.8054095e-06\n",
      " 1.3956799e-05 1.3327536e-06 7.4764380e-06 5.6550110e-05 3.9176644e-09]\n",
      "argmax를 한 후의 output은 1\n",
      "accuracy는 0.9685185185185186\n"
     ]
    }
   ],
   "source": [
    "print(f'model의 output은 :  {y_pred[0]}')\n",
    "print(f'argmax를 한 후의 output은 {predicted[0]}')\n",
    "print(f'accuracy는 {accuracy}')"
   ]
  },
  {
   "cell_type": "markdown",
   "metadata": {
    "id": "UPXWWskii-Sf"
   },
   "source": [
    "시도1-3\\\n",
    "활성화함수 : sigmoid \\\n",
    "optimizer : adam 사용 lr= 0.02\\\n",
    "accuracy : 0.9814 ->감소"
   ]
  },
  {
   "cell_type": "code",
   "execution_count": 70,
   "metadata": {
    "id": "pWz1xrxfhbys"
   },
   "outputs": [],
   "source": [
    "from sklearn.datasets import load_digits\n",
    "data=load_digits()"
   ]
  },
  {
   "cell_type": "code",
   "execution_count": 71,
   "metadata": {
    "colab": {
     "base_uri": "https://localhost:8080/"
    },
    "id": "xotMguliknle",
    "outputId": "5d422448-5b3d-41e2-d0a3-1c0d1a015d3e",
    "scrolled": true
   },
   "outputs": [
    {
     "name": "stdout",
     "output_type": "stream",
     "text": [
      "(1797, 64) (1797,)\n"
     ]
    }
   ],
   "source": [
    "input = data.data # 입력 데이터를 나타냄\n",
    "output = data.target # 출력 데이터, 유방암 양성/음성 여부를 나타내는 클래스 레이블\n",
    "print(input.shape, output.shape)"
   ]
  },
  {
   "cell_type": "code",
   "execution_count": 72,
   "metadata": {
    "id": "am_BHq20knlg"
   },
   "outputs": [],
   "source": [
    "device = 'cuda' if torch.cuda.is_available() else 'cpu'\n",
    "\n",
    "torch.manual_seed(777)\n",
    "if device == \"cuda\":\n",
    "  torch.cuda.manual_seed_all(777)"
   ]
  },
  {
   "cell_type": "code",
   "execution_count": 73,
   "metadata": {
    "colab": {
     "base_uri": "https://localhost:8080/"
    },
    "id": "DTR0WNjNknlh",
    "outputId": "97df75bd-0c98-466b-ae70-6abc8ac4ff69"
   },
   "outputs": [
    {
     "name": "stdout",
     "output_type": "stream",
     "text": [
      "torch.Size([1257, 64]) torch.Size([1257])\n",
      "tensor([0, 1, 2, 3, 4, 5, 6, 7, 8, 9])\n"
     ]
    }
   ],
   "source": [
    "x_train, x_test, y_train, y_test = train_test_split(input, output, test_size = 0.3, random_state = 42, stratify= data.target, shuffle = True)\n",
    "\n",
    "x_train = torch.FloatTensor(x_train).to(device)\n",
    "y_train = torch.LongTensor(y_train).to(device)\n",
    "x_test = torch.FloatTensor(x_test)\n",
    "y_test = torch.LongTensor(y_test)\n",
    "print(x_train.shape, y_train.shape)\n",
    "print(torch.unique(y_train))\n",
    "# 데이터를 tensor로 바꿔주고 gpu 연산이 가능해지도록 gpu에 옮김\n",
    "# label 값을 왜 long 에 옮겨놓는가? loss function이 다르기 때문"
   ]
  },
  {
   "cell_type": "code",
   "execution_count": 74,
   "metadata": {
    "colab": {
     "base_uri": "https://localhost:8080/"
    },
    "id": "GV69fvZBknli",
    "outputId": "4427e12e-7ac2-454b-a3d0-ea62e903e0ea"
   },
   "outputs": [
    {
     "name": "stdout",
     "output_type": "stream",
     "text": [
      "tensor([ 0.,  0.,  0., 16., 12.,  1.,  0.,  0.,  0.,  0.,  6., 16., 14.,  7.,\n",
      "         0.,  0.,  0.,  0., 14., 15.,  1., 11.,  0.,  0.,  0.,  0., 16., 15.,\n",
      "         0., 14.,  1.,  0.,  0.,  1., 16., 10.,  0., 14.,  2.,  0.,  0.,  0.,\n",
      "        15., 13.,  3., 15.,  3.,  0.,  0.,  0.,  9., 16., 16., 15.,  0.,  0.,\n",
      "         0.,  0.,  0., 13., 16.,  8.,  0.,  0.])\n",
      "tensor(0)\n"
     ]
    }
   ],
   "source": [
    "print(x_train[0])\n",
    "print(y_train[0])\n",
    "\n",
    "#input 30개 (속성이 30개)\n",
    "#y의 class는 2개 (양성과 음성)"
   ]
  },
  {
   "cell_type": "code",
   "execution_count": 75,
   "metadata": {
    "id": "Ag7LJBdCknlj"
   },
   "outputs": [],
   "source": [
    "from torch.utils.data import Dataset\n",
    "class CustomDataset(Dataset):\n",
    "  def __init__(self): # 데이터셋의 입력 데이터/ 출력 데이터 초기화\n",
    "    self.x_data = x_train\n",
    "    self.y_data = [[y] for y in y_train]\n",
    "#  데이터셋의 전처리를 해주는 부분\n",
    "\n",
    "  def __len__(self):\n",
    "    return len(self.x_data)\n",
    "#  데이터셋의 길이. 즉, 총 샘플의 수를 적어주는 부분\n",
    "\n",
    "  def __getitem__(self, idx): # 특정 인덱스에 해당하는\n",
    "    x = torch.FloatTensor(self.x_data[idx]).to(device)\n",
    "    y = torch.LongTensor(self.y_data[idx]).to(device)\n",
    "#  데이터셋에서 특정 1개의 샘플을 가져오는 함수\n",
    "\n",
    "    return x,y"
   ]
  },
  {
   "cell_type": "code",
   "execution_count": 76,
   "metadata": {
    "id": "BesDr853knlk"
   },
   "outputs": [],
   "source": [
    "batch_size = 8\n",
    "\n",
    "dataset = CustomDataset() # 객체를 생성해서 커스텀데이터셋 만듬\n",
    "dataloader = DataLoader(dataset, batch_size=batch_size) # 데이터셋, 배치 크기 전달"
   ]
  },
  {
   "cell_type": "code",
   "execution_count": 77,
   "metadata": {
    "id": "v1NyY_Ifknll"
   },
   "outputs": [],
   "source": [
    "# input_layer와 hidden_layer의 노드 개수를 어떻게 바꿔줘야할까?\n",
    "# hidden layer/neuron 수를 바꾸기\n",
    "\n",
    "model = nn.Sequential(\n",
    "          nn.Linear(64,1257, bias=True),\n",
    "          nn.Sigmoid(),\n",
    "          nn.Linear(1257,30, bias=True),\n",
    "          nn.Sigmoid(),\n",
    "          nn.Linear(30,15, bias=True),\n",
    "          nn.Sigmoid(),\n",
    "          nn.Linear(15,10, bias=True),\n",
    "\n",
    "          nn.Softmax()\n",
    "          ).to(device)"
   ]
  },
  {
   "cell_type": "code",
   "execution_count": 78,
   "metadata": {
    "id": "Q4Lz69-_knlm"
   },
   "outputs": [],
   "source": [
    "class Model(torch.nn.Module):\n",
    "\n",
    "  def __init__(self):\n",
    "    super(Model, self).__init__()\n",
    "    self.layer1 = nn.Sequential(\n",
    "          nn.Linear(64,1257, bias=True), # input_layer = 30, hidden_layer1 = 398\n",
    "          nn.Sigmoid(),\n",
    "        nn.BatchNorm1d(1257)\n",
    "    )\n",
    "  # activation function 이용\n",
    "  #   nn.ReLU()\n",
    "  #   nn.tanH()\n",
    "  #   https://pytorch.org/docs/stable/nn.html 그 외에도 여기서 확인 가능함\n",
    "  #   파라미터가 필요하지 않다는 것이 특징\n",
    "\n",
    "  # batch normazliation 1d, 파라미터 값으로 vector의 길이를 전해줌\n",
    "  # 추후에 이미지를 다루게 된다면, 그때는 batch normalization 2d를 이용하게 됨\n",
    "  # 그때는 파라미터 값으로 채널, 가로, 세로 길이를 전달해주게 됨\n",
    "\n",
    "    self.layer2 = nn.Sequential(\n",
    "          nn.Linear(1257,30, bias=True), # hidden_layer1 = 398, hidden_layer2 = 30\n",
    "        nn.Sigmoid()\n",
    "    )\n",
    "    self.layer3 = nn.Sequential(\n",
    "          nn.Linear(30,15, bias=True), # hidden_layer1 = 30, hidden_layer2 = 15\n",
    "\n",
    "        nn.Sigmoid()\n",
    "    )\n",
    "\n",
    "    self.layer4 = nn.Sequential(\n",
    "          nn.Linear(15, 10, bias=True), # hidden_layer3 = 15, output_layer = 10\n",
    "\n",
    "        nn.Softmax()\n",
    "    )\n",
    "\n",
    "  def forward(self,x):\n",
    "    output = self.layer1(x)\n",
    "    output = self.layer2(output)\n",
    "    output = self.layer3(output)\n",
    "    output = self.layer4(output)\n",
    "    return output"
   ]
  },
  {
   "cell_type": "code",
   "execution_count": 79,
   "metadata": {
    "id": "tljsaOO9knln"
   },
   "outputs": [],
   "source": [
    "def init_weights(layer):\n",
    "    if isinstance(layer, nn.Linear):\n",
    "        torch.nn.init.xavier_uniform(layer.weight)\n",
    "        layer.bias.data.fill_(0.01)\n",
    "\n",
    "        #xavier사용\n",
    "        # Layer의 weight를 어떤 분포를 가지도록 초기화시켜줌+global minimum찾기 위해서"
   ]
  },
  {
   "cell_type": "code",
   "execution_count": 80,
   "metadata": {
    "colab": {
     "base_uri": "https://localhost:8080/"
    },
    "id": "TAzXoOo7knln",
    "outputId": "f4ce1d8d-17be-4495-cf45-9c04ad8720c9",
    "scrolled": true
   },
   "outputs": [
    {
     "name": "stderr",
     "output_type": "stream",
     "text": [
      "C:\\Users\\withy\\AppData\\Local\\Temp\\ipykernel_8516\\2101624760.py:3: UserWarning: nn.init.xavier_uniform is now deprecated in favor of nn.init.xavier_uniform_.\n",
      "  torch.nn.init.xavier_uniform(layer.weight)\n"
     ]
    },
    {
     "data": {
      "text/plain": [
       "Model(\n",
       "  (layer1): Sequential(\n",
       "    (0): Linear(in_features=64, out_features=1257, bias=True)\n",
       "    (1): Sigmoid()\n",
       "    (2): BatchNorm1d(1257, eps=1e-05, momentum=0.1, affine=True, track_running_stats=True)\n",
       "  )\n",
       "  (layer2): Sequential(\n",
       "    (0): Linear(in_features=1257, out_features=30, bias=True)\n",
       "    (1): Sigmoid()\n",
       "  )\n",
       "  (layer3): Sequential(\n",
       "    (0): Linear(in_features=30, out_features=15, bias=True)\n",
       "    (1): Sigmoid()\n",
       "  )\n",
       "  (layer4): Sequential(\n",
       "    (0): Linear(in_features=15, out_features=10, bias=True)\n",
       "    (1): Softmax(dim=None)\n",
       "  )\n",
       ")"
      ]
     },
     "execution_count": 80,
     "metadata": {},
     "output_type": "execute_result"
    }
   ],
   "source": [
    "model = Model().to(device)\n",
    "model.apply(init_weights)"
   ]
  },
  {
   "cell_type": "code",
   "execution_count": 81,
   "metadata": {
    "colab": {
     "base_uri": "https://localhost:8080/"
    },
    "id": "0xGxTfOmknlo",
    "outputId": "046038aa-e779-4a25-de12-bf88204a8cba",
    "scrolled": false
   },
   "outputs": [
    {
     "name": "stdout",
     "output_type": "stream",
     "text": [
      "Model(\n",
      "  (layer1): Sequential(\n",
      "    (0): Linear(in_features=64, out_features=1257, bias=True)\n",
      "    (1): Sigmoid()\n",
      "    (2): BatchNorm1d(1257, eps=1e-05, momentum=0.1, affine=True, track_running_stats=True)\n",
      "  )\n",
      "  (layer2): Sequential(\n",
      "    (0): Linear(in_features=1257, out_features=30, bias=True)\n",
      "    (1): Sigmoid()\n",
      "  )\n",
      "  (layer3): Sequential(\n",
      "    (0): Linear(in_features=30, out_features=15, bias=True)\n",
      "    (1): Sigmoid()\n",
      "  )\n",
      "  (layer4): Sequential(\n",
      "    (0): Linear(in_features=15, out_features=10, bias=True)\n",
      "    (1): Softmax(dim=None)\n",
      "  )\n",
      ")\n"
     ]
    }
   ],
   "source": [
    "print(model)"
   ]
  },
  {
   "cell_type": "code",
   "execution_count": 82,
   "metadata": {
    "id": "KRrAWkZtknlp"
   },
   "outputs": [],
   "source": [
    "loss_fn  = nn.CrossEntropyLoss().to(device)\n",
    "\n",
    "# 여러가지 optimizer 시도해보기\n",
    "# lr 바꿔보기\n",
    "\n",
    "optimizer = optim.Adam(model.parameters(), lr= 0.02)\n",
    "\n",
    "# https://pytorch.org/docs/stable/optim.html#module-torch.optim 페이지 참조\n",
    "# optimizer = optim.SGD(model.parameters(), lr=0.1, momentum=0.9)\n",
    "# sgd 등등"
   ]
  },
  {
   "cell_type": "code",
   "execution_count": 83,
   "metadata": {
    "colab": {
     "base_uri": "https://localhost:8080/",
     "height": 535
    },
    "id": "svdRvp0cknlq",
    "outputId": "8741ab20-71a2-4fe4-a4c6-bf2887270acd",
    "scrolled": true
   },
   "outputs": [
    {
     "name": "stdout",
     "output_type": "stream",
     "text": [
      "0 2.3041915893554688\n"
     ]
    },
    {
     "name": "stderr",
     "output_type": "stream",
     "text": [
      "C:\\Users\\withy\\anaconda3\\Lib\\site-packages\\torch\\nn\\modules\\module.py:1518: UserWarning: Implicit dimension choice for softmax has been deprecated. Change the call to include dim=X as an argument.\n",
      "  return self._call_impl(*args, **kwargs)\n"
     ]
    },
    {
     "name": "stdout",
     "output_type": "stream",
     "text": [
      "10 2.071523666381836\n",
      "20 1.8292443752288818\n",
      "30 1.6505166292190552\n",
      "40 1.5686091184616089\n",
      "50 1.495755672454834\n",
      "60 1.4763022661209106\n",
      "70 1.4697680473327637\n",
      "80 1.4674079418182373\n",
      "90 1.466125726699829\n"
     ]
    }
   ],
   "source": [
    "losses = []\n",
    "for epoch in range(100):\n",
    "\n",
    "  optimizer.zero_grad()\n",
    "  hypothesis = model(x_train)\n",
    "\n",
    "  # 비용 함수\n",
    "  cost = loss_fn(hypothesis, y_train)\n",
    "  cost.backward()\n",
    "  optimizer.step()\n",
    "  losses.append(cost.item())\n",
    "\n",
    "  if epoch % 10 == 0:\n",
    "    print(epoch, cost.item())"
   ]
  },
  {
   "cell_type": "code",
   "execution_count": 84,
   "metadata": {
    "id": "Eg0WnBx-knlr",
    "scrolled": true
   },
   "outputs": [
    {
     "data": {
      "image/png": "[encoded data removed]",
      "text/plain": [
       "<Figure size 640x480 with 1 Axes>"
      ]
     },
     "metadata": {},
     "output_type": "display_data"
    }
   ],
   "source": [
    "plt.plot(losses)\n",
    "plt.show()"
   ]
  },
  {
   "cell_type": "code",
   "execution_count": 85,
   "metadata": {
    "id": "2Qvsoi55knlr"
   },
   "outputs": [],
   "source": [
    "with torch.no_grad():\n",
    "  model = model.to('cpu')\n",
    "  y_pred = model(x_test)\n",
    "  y_pred = y_pred.detach().numpy()\n",
    "  predicted = np.argmax(y_pred, axis =1)\n",
    "  accuracy = (accuracy_score(predicted, y_test))"
   ]
  },
  {
   "cell_type": "code",
   "execution_count": 86,
   "metadata": {
    "id": "54n5gswmknls",
    "scrolled": false
   },
   "outputs": [
    {
     "name": "stdout",
     "output_type": "stream",
     "text": [
      "model의 output은 :  [6.3983654e-04 9.9625278e-01 1.1827556e-03 1.7054076e-04 1.8748664e-04\n",
      " 2.0752325e-04 8.1629085e-05 5.2934274e-04 7.4616872e-04 2.0728135e-06]\n",
      "argmax를 한 후의 output은 1\n",
      "accuracy는 0.9814814814814815\n"
     ]
    }
   ],
   "source": [
    "print(f'model의 output은 :  {y_pred[0]}')\n",
    "print(f'argmax를 한 후의 output은 {predicted[0]}')\n",
    "print(f'accuracy는 {accuracy}')"
   ]
  },
  {
   "cell_type": "markdown",
   "metadata": {},
   "source": [
    "시도2\\\n",
    "활성화함수 : ReLu \\\n",
    "optimizer : adam 사용 lr= 0.03 \\\n",
    "accuracy : 0.9666"
   ]
  },
  {
   "cell_type": "code",
   "execution_count": 87,
   "metadata": {
    "id": "pWz1xrxfhbys"
   },
   "outputs": [],
   "source": [
    "from sklearn.datasets import load_digits\n",
    "data=load_digits()"
   ]
  },
  {
   "cell_type": "code",
   "execution_count": 88,
   "metadata": {
    "colab": {
     "base_uri": "https://localhost:8080/"
    },
    "id": "xotMguliknle",
    "outputId": "5d422448-5b3d-41e2-d0a3-1c0d1a015d3e",
    "scrolled": true
   },
   "outputs": [],
   "source": [
    "input = data.data \n",
    "output = data.target "
   ]
  },
  {
   "cell_type": "code",
   "execution_count": 89,
   "metadata": {
    "id": "am_BHq20knlg"
   },
   "outputs": [],
   "source": [
    "device = 'cuda' if torch.cuda.is_available() else 'cpu'\n",
    "\n",
    "torch.manual_seed(777)\n",
    "if device == \"cuda\":\n",
    "  torch.cuda.manual_seed_all(777)"
   ]
  },
  {
   "cell_type": "code",
   "execution_count": 90,
   "metadata": {
    "colab": {
     "base_uri": "https://localhost:8080/"
    },
    "id": "DTR0WNjNknlh",
    "outputId": "97df75bd-0c98-466b-ae70-6abc8ac4ff69"
   },
   "outputs": [],
   "source": [
    "x_train, x_test, y_train, y_test = train_test_split(input, output, test_size = 0.3, random_state = 42, stratify= data.target, shuffle = True)\n",
    "\n",
    "x_train = torch.FloatTensor(x_train).to(device)\n",
    "y_train = torch.LongTensor(y_train).to(device)\n",
    "x_test = torch.FloatTensor(x_test)\n",
    "y_test = torch.LongTensor(y_test)"
   ]
  },
  {
   "cell_type": "code",
   "execution_count": 91,
   "metadata": {
    "id": "Ag7LJBdCknlj"
   },
   "outputs": [],
   "source": [
    "from torch.utils.data import Dataset\n",
    "class CustomDataset(Dataset):\n",
    "  def __init__(self): # 데이터셋의 입력 데이터/ 출력 데이터 초기화\n",
    "    self.x_data = x_train\n",
    "    self.y_data = [[y] for y in y_train]\n",
    "#  데이터셋의 전처리를 해주는 부분\n",
    "\n",
    "  def __len__(self):\n",
    "    return len(self.x_data)\n",
    "#  데이터셋의 길이. 즉, 총 샘플의 수를 적어주는 부분\n",
    "\n",
    "  def __getitem__(self, idx): # 특정 인덱스에 해당하는\n",
    "    x = torch.FloatTensor(self.x_data[idx]).to(device)\n",
    "    y = torch.LongTensor(self.y_data[idx]).to(device)\n",
    "#  데이터셋에서 특정 1개의 샘플을 가져오는 함수\n",
    "\n",
    "    return x,y"
   ]
  },
  {
   "cell_type": "code",
   "execution_count": 92,
   "metadata": {
    "id": "BesDr853knlk"
   },
   "outputs": [],
   "source": [
    "batch_size = 8\n",
    "\n",
    "dataset = CustomDataset() # 객체를 생성해서 커스텀데이터셋 만듬\n",
    "dataloader = DataLoader(dataset, batch_size=batch_size) # 데이터셋, 배치 크기 전달"
   ]
  },
  {
   "cell_type": "code",
   "execution_count": 93,
   "metadata": {
    "id": "v1NyY_Ifknll"
   },
   "outputs": [],
   "source": [
    "# input_layer와 hidden_layer의 노드 개수를 어떻게 바꿔줘야할까?\n",
    "# hidden layer/neuron 수를 바꾸기\n",
    "\n",
    "model = nn.Sequential(\n",
    "          nn.Linear(64,1257, bias=True),\n",
    "          nn.ReLU(),\n",
    "          nn.Linear(1257,30, bias=True),\n",
    "          nn.ReLU(),\n",
    "          nn.Linear(30,15, bias=True),\n",
    "          nn.ReLU(),\n",
    "          nn.Linear(15,10, bias=True),\n",
    "\n",
    "          nn.Softmax()\n",
    "          ).to(device)"
   ]
  },
  {
   "cell_type": "code",
   "execution_count": 94,
   "metadata": {
    "id": "Q4Lz69-_knlm"
   },
   "outputs": [],
   "source": [
    "class Model(torch.nn.Module):\n",
    "\n",
    "  def __init__(self):\n",
    "    super(Model, self).__init__()\n",
    "    self.layer1 = nn.Sequential(\n",
    "          nn.Linear(64,1257, bias=True), # input_layer = 30, hidden_layer1 = 398\n",
    "          nn.ReLU(),\n",
    "        nn.BatchNorm1d(1257)\n",
    "    )\n",
    "  # activation function 이용\n",
    "  #   nn.ReLU()\n",
    "  #   nn.tanH()\n",
    "  #   https://pytorch.org/docs/stable/nn.html 그 외에도 여기서 확인 가능함\n",
    "  #   파라미터가 필요하지 않다는 것이 특징\n",
    "\n",
    "  # batch normazliation 1d, 파라미터 값으로 vector의 길이를 전해줌\n",
    "  # 추후에 이미지를 다루게 된다면, 그때는 batch normalization 2d를 이용하게 됨\n",
    "  # 그때는 파라미터 값으로 채널, 가로, 세로 길이를 전달해주게 됨\n",
    "\n",
    "    self.layer2 = nn.Sequential(\n",
    "          nn.Linear(1257,30, bias=True), # hidden_layer1 = 398, hidden_layer2 = 30\n",
    "        nn.ReLU()\n",
    "    )\n",
    "    self.layer3 = nn.Sequential(\n",
    "          nn.Linear(30,15, bias=True), # hidden_layer1 = 30, hidden_layer2 = 15\n",
    "\n",
    "        nn.ReLU()\n",
    "    )\n",
    "\n",
    "    self.layer4 = nn.Sequential(\n",
    "          nn.Linear(15, 10, bias=True), # hidden_layer3 = 15, output_layer = 10\n",
    "\n",
    "        nn.Softmax()\n",
    "    )\n",
    "\n",
    "  def forward(self,x):\n",
    "    output = self.layer1(x)\n",
    "    output = self.layer2(output)\n",
    "    output = self.layer3(output)\n",
    "    output = self.layer4(output)\n",
    "    return output"
   ]
  },
  {
   "cell_type": "code",
   "execution_count": 95,
   "metadata": {
    "id": "tljsaOO9knln"
   },
   "outputs": [],
   "source": [
    "def init_weights(layer):\n",
    "    if isinstance(layer, nn.Linear):\n",
    "        torch.nn.init.xavier_uniform(layer.weight)\n",
    "        layer.bias.data.fill_(0.01)\n",
    "\n",
    "        #xavier사용\n",
    "        # Layer의 weight를 어떤 분포를 가지도록 초기화시켜줌+global minimum찾기 위해서"
   ]
  },
  {
   "cell_type": "code",
   "execution_count": 96,
   "metadata": {
    "colab": {
     "base_uri": "https://localhost:8080/"
    },
    "id": "TAzXoOo7knln",
    "outputId": "f4ce1d8d-17be-4495-cf45-9c04ad8720c9",
    "scrolled": true
   },
   "outputs": [
    {
     "name": "stderr",
     "output_type": "stream",
     "text": [
      "C:\\Users\\withy\\AppData\\Local\\Temp\\ipykernel_8516\\2101624760.py:3: UserWarning: nn.init.xavier_uniform is now deprecated in favor of nn.init.xavier_uniform_.\n",
      "  torch.nn.init.xavier_uniform(layer.weight)\n"
     ]
    },
    {
     "data": {
      "text/plain": [
       "Model(\n",
       "  (layer1): Sequential(\n",
       "    (0): Linear(in_features=64, out_features=1257, bias=True)\n",
       "    (1): ReLU()\n",
       "    (2): BatchNorm1d(1257, eps=1e-05, momentum=0.1, affine=True, track_running_stats=True)\n",
       "  )\n",
       "  (layer2): Sequential(\n",
       "    (0): Linear(in_features=1257, out_features=30, bias=True)\n",
       "    (1): ReLU()\n",
       "  )\n",
       "  (layer3): Sequential(\n",
       "    (0): Linear(in_features=30, out_features=15, bias=True)\n",
       "    (1): ReLU()\n",
       "  )\n",
       "  (layer4): Sequential(\n",
       "    (0): Linear(in_features=15, out_features=10, bias=True)\n",
       "    (1): Softmax(dim=None)\n",
       "  )\n",
       ")"
      ]
     },
     "execution_count": 96,
     "metadata": {},
     "output_type": "execute_result"
    }
   ],
   "source": [
    "model = Model().to(device)\n",
    "model.apply(init_weights)"
   ]
  },
  {
   "cell_type": "code",
   "execution_count": 97,
   "metadata": {
    "colab": {
     "base_uri": "https://localhost:8080/"
    },
    "id": "0xGxTfOmknlo",
    "outputId": "046038aa-e779-4a25-de12-bf88204a8cba",
    "scrolled": false
   },
   "outputs": [
    {
     "name": "stdout",
     "output_type": "stream",
     "text": [
      "Model(\n",
      "  (layer1): Sequential(\n",
      "    (0): Linear(in_features=64, out_features=1257, bias=True)\n",
      "    (1): ReLU()\n",
      "    (2): BatchNorm1d(1257, eps=1e-05, momentum=0.1, affine=True, track_running_stats=True)\n",
      "  )\n",
      "  (layer2): Sequential(\n",
      "    (0): Linear(in_features=1257, out_features=30, bias=True)\n",
      "    (1): ReLU()\n",
      "  )\n",
      "  (layer3): Sequential(\n",
      "    (0): Linear(in_features=30, out_features=15, bias=True)\n",
      "    (1): ReLU()\n",
      "  )\n",
      "  (layer4): Sequential(\n",
      "    (0): Linear(in_features=15, out_features=10, bias=True)\n",
      "    (1): Softmax(dim=None)\n",
      "  )\n",
      ")\n"
     ]
    }
   ],
   "source": [
    "print(model)"
   ]
  },
  {
   "cell_type": "code",
   "execution_count": 98,
   "metadata": {
    "id": "KRrAWkZtknlp"
   },
   "outputs": [],
   "source": [
    "loss_fn  = nn.CrossEntropyLoss().to(device)\n",
    "\n",
    "# 여러가지 optimizer 시도해보기\n",
    "# lr 바꿔보기\n",
    "\n",
    "optimizer = optim.Adam(model.parameters(), lr= 0.03)\n",
    "\n",
    "# https://pytorch.org/docs/stable/optim.html#module-torch.optim 페이지 참조\n",
    "# optimizer = optim.SGD(model.parameters(), lr=0.1, momentum=0.9)\n",
    "# sgd 등등"
   ]
  },
  {
   "cell_type": "code",
   "execution_count": 99,
   "metadata": {
    "colab": {
     "base_uri": "https://localhost:8080/",
     "height": 535
    },
    "id": "svdRvp0cknlq",
    "outputId": "8741ab20-71a2-4fe4-a4c6-bf2887270acd",
    "scrolled": true
   },
   "outputs": [
    {
     "name": "stderr",
     "output_type": "stream",
     "text": [
      "C:\\Users\\withy\\anaconda3\\Lib\\site-packages\\torch\\nn\\modules\\module.py:1518: UserWarning: Implicit dimension choice for softmax has been deprecated. Change the call to include dim=X as an argument.\n",
      "  return self._call_impl(*args, **kwargs)\n"
     ]
    },
    {
     "name": "stdout",
     "output_type": "stream",
     "text": [
      "0 2.3077392578125\n",
      "10 1.6148600578308105\n",
      "20 1.490696668624878\n",
      "30 1.4754106998443604\n",
      "40 1.4746551513671875\n",
      "50 1.4738378524780273\n",
      "60 1.4738256931304932\n",
      "70 1.4737954139709473\n",
      "80 1.4737673997879028\n",
      "90 1.4737907648086548\n"
     ]
    }
   ],
   "source": [
    "losses = []\n",
    "for epoch in range(100):\n",
    "\n",
    "  optimizer.zero_grad()\n",
    "  hypothesis = model(x_train)\n",
    "\n",
    "  # 비용 함수\n",
    "  cost = loss_fn(hypothesis, y_train)\n",
    "  cost.backward()\n",
    "  optimizer.step()\n",
    "  losses.append(cost.item())\n",
    "\n",
    "  if epoch % 10 == 0:\n",
    "    print(epoch, cost.item())"
   ]
  },
  {
   "cell_type": "code",
   "execution_count": 100,
   "metadata": {
    "id": "Eg0WnBx-knlr",
    "scrolled": true
   },
   "outputs": [
    {
     "data": {
      "image/png": "[encoded data removed]",
      "text/plain": [
       "<Figure size 640x480 with 1 Axes>"
      ]
     },
     "metadata": {},
     "output_type": "display_data"
    }
   ],
   "source": [
    "plt.plot(losses)\n",
    "plt.show()"
   ]
  },
  {
   "cell_type": "code",
   "execution_count": 101,
   "metadata": {
    "id": "2Qvsoi55knlr"
   },
   "outputs": [],
   "source": [
    "with torch.no_grad():\n",
    "  model = model.to('cpu')\n",
    "  y_pred = model(x_test)\n",
    "  y_pred = y_pred.detach().numpy()\n",
    "  predicted = np.argmax(y_pred, axis =1)\n",
    "  accuracy = (accuracy_score(predicted, y_test))"
   ]
  },
  {
   "cell_type": "code",
   "execution_count": 102,
   "metadata": {
    "id": "54n5gswmknls",
    "scrolled": true
   },
   "outputs": [
    {
     "name": "stdout",
     "output_type": "stream",
     "text": [
      "model의 output은 :  [0.0000000e+00 1.0000000e+00 0.0000000e+00 0.0000000e+00 3.6337767e-36\n",
      " 0.0000000e+00 0.0000000e+00 0.0000000e+00 0.0000000e+00 0.0000000e+00]\n",
      "argmax를 한 후의 output은 1\n",
      "accuracy는 0.9666666666666667\n"
     ]
    }
   ],
   "source": [
    "print(f'model의 output은 :  {y_pred[0]}')\n",
    "print(f'argmax를 한 후의 output은 {predicted[0]}')\n",
    "print(f'accuracy는 {accuracy}')"
   ]
  },
  {
   "cell_type": "markdown",
   "metadata": {},
   "source": [
    "시도3\\\n",
    "활성화함수 : ReLu \\\n",
    "optimizer : RMSprop 사용 lr= 0.03 \\\n",
    "accuracy : 0.196 ??"
   ]
  },
  {
   "cell_type": "code",
   "execution_count": 103,
   "metadata": {
    "id": "pWz1xrxfhbys"
   },
   "outputs": [],
   "source": [
    "from sklearn.datasets import load_digits\n",
    "data=load_digits()"
   ]
  },
  {
   "cell_type": "code",
   "execution_count": 104,
   "metadata": {
    "colab": {
     "base_uri": "https://localhost:8080/"
    },
    "id": "xotMguliknle",
    "outputId": "5d422448-5b3d-41e2-d0a3-1c0d1a015d3e",
    "scrolled": true
   },
   "outputs": [],
   "source": [
    "input = data.data \n",
    "output = data.target "
   ]
  },
  {
   "cell_type": "code",
   "execution_count": 105,
   "metadata": {
    "id": "am_BHq20knlg"
   },
   "outputs": [],
   "source": [
    "device = 'cuda' if torch.cuda.is_available() else 'cpu'\n",
    "\n",
    "torch.manual_seed(777)\n",
    "if device == \"cuda\":\n",
    "  torch.cuda.manual_seed_all(777)"
   ]
  },
  {
   "cell_type": "code",
   "execution_count": 106,
   "metadata": {
    "colab": {
     "base_uri": "https://localhost:8080/"
    },
    "id": "DTR0WNjNknlh",
    "outputId": "97df75bd-0c98-466b-ae70-6abc8ac4ff69"
   },
   "outputs": [],
   "source": [
    "x_train, x_test, y_train, y_test = train_test_split(input, output, test_size = 0.3, random_state = 42, stratify= data.target, shuffle = True)\n",
    "\n",
    "x_train = torch.FloatTensor(x_train).to(device)\n",
    "y_train = torch.LongTensor(y_train).to(device)\n",
    "x_test = torch.FloatTensor(x_test)\n",
    "y_test = torch.LongTensor(y_test)"
   ]
  },
  {
   "cell_type": "code",
   "execution_count": 107,
   "metadata": {
    "id": "Ag7LJBdCknlj"
   },
   "outputs": [],
   "source": [
    "from torch.utils.data import Dataset\n",
    "class CustomDataset(Dataset):\n",
    "  def __init__(self): # 데이터셋의 입력 데이터/ 출력 데이터 초기화\n",
    "    self.x_data = x_train\n",
    "    self.y_data = [[y] for y in y_train]\n",
    "#  데이터셋의 전처리를 해주는 부분\n",
    "\n",
    "  def __len__(self):\n",
    "    return len(self.x_data)\n",
    "#  데이터셋의 길이. 즉, 총 샘플의 수를 적어주는 부분\n",
    "\n",
    "  def __getitem__(self, idx): # 특정 인덱스에 해당하는\n",
    "    x = torch.FloatTensor(self.x_data[idx]).to(device)\n",
    "    y = torch.LongTensor(self.y_data[idx]).to(device)\n",
    "#  데이터셋에서 특정 1개의 샘플을 가져오는 함수\n",
    "\n",
    "    return x,y"
   ]
  },
  {
   "cell_type": "code",
   "execution_count": 108,
   "metadata": {
    "id": "BesDr853knlk"
   },
   "outputs": [],
   "source": [
    "batch_size = 8\n",
    "\n",
    "dataset = CustomDataset() # 객체를 생성해서 커스텀데이터셋 만듬\n",
    "dataloader = DataLoader(dataset, batch_size=batch_size) # 데이터셋, 배치 크기 전달"
   ]
  },
  {
   "cell_type": "code",
   "execution_count": 109,
   "metadata": {
    "id": "v1NyY_Ifknll"
   },
   "outputs": [],
   "source": [
    "# input_layer와 hidden_layer의 노드 개수를 어떻게 바꿔줘야할까?\n",
    "# hidden layer/neuron 수를 바꾸기\n",
    "\n",
    "model = nn.Sequential(\n",
    "          nn.Linear(64,1257, bias=True),\n",
    "          nn.ReLU(),\n",
    "          nn.Linear(1257,30, bias=True),\n",
    "          nn.ReLU(),\n",
    "          nn.Linear(30,15, bias=True),\n",
    "          nn.ReLU(),\n",
    "          nn.Linear(15,10, bias=True),\n",
    "\n",
    "          nn.Softmax()\n",
    "          ).to(device)"
   ]
  },
  {
   "cell_type": "code",
   "execution_count": 110,
   "metadata": {
    "id": "Q4Lz69-_knlm"
   },
   "outputs": [],
   "source": [
    "class Model(torch.nn.Module):\n",
    "\n",
    "  def __init__(self):\n",
    "    super(Model, self).__init__()\n",
    "    self.layer1 = nn.Sequential(\n",
    "          nn.Linear(64,1257, bias=True), # input_layer = 30, hidden_layer1 = 398\n",
    "          nn.ReLU(),\n",
    "        nn.BatchNorm1d(1257)\n",
    "    )\n",
    "  # activation function 이용\n",
    "  #   nn.ReLU()\n",
    "  #   nn.tanH()\n",
    "  #   https://pytorch.org/docs/stable/nn.html 그 외에도 여기서 확인 가능함\n",
    "  #   파라미터가 필요하지 않다는 것이 특징\n",
    "\n",
    "  # batch normazliation 1d, 파라미터 값으로 vector의 길이를 전해줌\n",
    "  # 추후에 이미지를 다루게 된다면, 그때는 batch normalization 2d를 이용하게 됨\n",
    "  # 그때는 파라미터 값으로 채널, 가로, 세로 길이를 전달해주게 됨\n",
    "\n",
    "    self.layer2 = nn.Sequential(\n",
    "          nn.Linear(1257,30, bias=True), # hidden_layer1 = 398, hidden_layer2 = 30\n",
    "        nn.ReLU()\n",
    "    )\n",
    "    self.layer3 = nn.Sequential(\n",
    "          nn.Linear(30,15, bias=True), # hidden_layer1 = 30, hidden_layer2 = 15\n",
    "\n",
    "        nn.ReLU()\n",
    "    )\n",
    "\n",
    "    self.layer4 = nn.Sequential(\n",
    "          nn.Linear(15, 10, bias=True), # hidden_layer3 = 15, output_layer = 10\n",
    "\n",
    "        nn.Softmax()\n",
    "    )\n",
    "\n",
    "  def forward(self,x):\n",
    "    output = self.layer1(x)\n",
    "    output = self.layer2(output)\n",
    "    output = self.layer3(output)\n",
    "    output = self.layer4(output)\n",
    "    return output"
   ]
  },
  {
   "cell_type": "code",
   "execution_count": 111,
   "metadata": {
    "id": "tljsaOO9knln"
   },
   "outputs": [],
   "source": [
    "def init_weights(layer):\n",
    "    if isinstance(layer, nn.Linear):\n",
    "        torch.nn.init.xavier_uniform(layer.weight)\n",
    "        layer.bias.data.fill_(0.01)\n",
    "\n",
    "        #xavier사용\n",
    "        # Layer의 weight를 어떤 분포를 가지도록 초기화시켜줌+global minimum찾기 위해서"
   ]
  },
  {
   "cell_type": "code",
   "execution_count": 112,
   "metadata": {
    "colab": {
     "base_uri": "https://localhost:8080/"
    },
    "id": "TAzXoOo7knln",
    "outputId": "f4ce1d8d-17be-4495-cf45-9c04ad8720c9",
    "scrolled": true
   },
   "outputs": [
    {
     "name": "stderr",
     "output_type": "stream",
     "text": [
      "C:\\Users\\withy\\AppData\\Local\\Temp\\ipykernel_8516\\2101624760.py:3: UserWarning: nn.init.xavier_uniform is now deprecated in favor of nn.init.xavier_uniform_.\n",
      "  torch.nn.init.xavier_uniform(layer.weight)\n"
     ]
    },
    {
     "data": {
      "text/plain": [
       "Model(\n",
       "  (layer1): Sequential(\n",
       "    (0): Linear(in_features=64, out_features=1257, bias=True)\n",
       "    (1): ReLU()\n",
       "    (2): BatchNorm1d(1257, eps=1e-05, momentum=0.1, affine=True, track_running_stats=True)\n",
       "  )\n",
       "  (layer2): Sequential(\n",
       "    (0): Linear(in_features=1257, out_features=30, bias=True)\n",
       "    (1): ReLU()\n",
       "  )\n",
       "  (layer3): Sequential(\n",
       "    (0): Linear(in_features=30, out_features=15, bias=True)\n",
       "    (1): ReLU()\n",
       "  )\n",
       "  (layer4): Sequential(\n",
       "    (0): Linear(in_features=15, out_features=10, bias=True)\n",
       "    (1): Softmax(dim=None)\n",
       "  )\n",
       ")"
      ]
     },
     "execution_count": 112,
     "metadata": {},
     "output_type": "execute_result"
    }
   ],
   "source": [
    "model = Model().to(device)\n",
    "model.apply(init_weights)"
   ]
  },
  {
   "cell_type": "code",
   "execution_count": 113,
   "metadata": {
    "colab": {
     "base_uri": "https://localhost:8080/"
    },
    "id": "0xGxTfOmknlo",
    "outputId": "046038aa-e779-4a25-de12-bf88204a8cba",
    "scrolled": false
   },
   "outputs": [
    {
     "name": "stdout",
     "output_type": "stream",
     "text": [
      "Model(\n",
      "  (layer1): Sequential(\n",
      "    (0): Linear(in_features=64, out_features=1257, bias=True)\n",
      "    (1): ReLU()\n",
      "    (2): BatchNorm1d(1257, eps=1e-05, momentum=0.1, affine=True, track_running_stats=True)\n",
      "  )\n",
      "  (layer2): Sequential(\n",
      "    (0): Linear(in_features=1257, out_features=30, bias=True)\n",
      "    (1): ReLU()\n",
      "  )\n",
      "  (layer3): Sequential(\n",
      "    (0): Linear(in_features=30, out_features=15, bias=True)\n",
      "    (1): ReLU()\n",
      "  )\n",
      "  (layer4): Sequential(\n",
      "    (0): Linear(in_features=15, out_features=10, bias=True)\n",
      "    (1): Softmax(dim=None)\n",
      "  )\n",
      ")\n"
     ]
    }
   ],
   "source": [
    "print(model)"
   ]
  },
  {
   "cell_type": "code",
   "execution_count": 114,
   "metadata": {
    "id": "KRrAWkZtknlp"
   },
   "outputs": [],
   "source": [
    "loss_fn  = nn.CrossEntropyLoss().to(device)\n",
    "\n",
    "# 여러가지 optimizer 시도해보기\n",
    "# lr 바꿔보기\n",
    "\n",
    "optimizer = optim.RMSprop(model.parameters(), lr= 0.03)\n",
    "\n",
    "# https://pytorch.org/docs/stable/optim.html#module-torch.optim 페이지 참조\n",
    "# optimizer = optim.SGD(model.parameters(), lr=0.1, momentum=0.9)\n",
    "# sgd 등등"
   ]
  },
  {
   "cell_type": "code",
   "execution_count": 115,
   "metadata": {
    "colab": {
     "base_uri": "https://localhost:8080/",
     "height": 535
    },
    "id": "svdRvp0cknlq",
    "outputId": "8741ab20-71a2-4fe4-a4c6-bf2887270acd",
    "scrolled": true
   },
   "outputs": [
    {
     "name": "stderr",
     "output_type": "stream",
     "text": [
      "C:\\Users\\withy\\anaconda3\\Lib\\site-packages\\torch\\nn\\modules\\module.py:1518: UserWarning: Implicit dimension choice for softmax has been deprecated. Change the call to include dim=X as an argument.\n",
      "  return self._call_impl(*args, **kwargs)\n"
     ]
    },
    {
     "name": "stdout",
     "output_type": "stream",
     "text": [
      "0 2.3077392578125\n",
      "10 2.2756917476654053\n",
      "20 2.266242504119873\n",
      "30 2.2645950317382812\n",
      "40 2.2638556957244873\n",
      "50 2.2638556957244873\n",
      "60 2.2638556957244873\n",
      "70 2.2638556957244873\n",
      "80 2.2638556957244873\n",
      "90 2.2638556957244873\n"
     ]
    }
   ],
   "source": [
    "losses = []\n",
    "for epoch in range(100):\n",
    "\n",
    "  optimizer.zero_grad()\n",
    "  hypothesis = model(x_train)\n",
    "\n",
    "  # 비용 함수\n",
    "  cost = loss_fn(hypothesis, y_train)\n",
    "  cost.backward()\n",
    "  optimizer.step()\n",
    "  losses.append(cost.item())\n",
    "\n",
    "  if epoch % 10 == 0:\n",
    "    print(epoch, cost.item())"
   ]
  },
  {
   "cell_type": "code",
   "execution_count": 116,
   "metadata": {
    "id": "Eg0WnBx-knlr",
    "scrolled": true
   },
   "outputs": [
    {
     "data": {
      "image/png": "[encoded data removed]",
      "text/plain": [
       "<Figure size 640x480 with 1 Axes>"
      ]
     },
     "metadata": {},
     "output_type": "display_data"
    }
   ],
   "source": [
    "plt.plot(losses)\n",
    "plt.show()"
   ]
  },
  {
   "cell_type": "code",
   "execution_count": 117,
   "metadata": {
    "id": "2Qvsoi55knlr"
   },
   "outputs": [],
   "source": [
    "with torch.no_grad():\n",
    "  model = model.to('cpu')\n",
    "  y_pred = model(x_test)\n",
    "  y_pred = y_pred.detach().numpy()\n",
    "  predicted = np.argmax(y_pred, axis =1)\n",
    "  accuracy = (accuracy_score(predicted, y_test))"
   ]
  },
  {
   "cell_type": "code",
   "execution_count": 118,
   "metadata": {
    "id": "54n5gswmknls",
    "scrolled": true
   },
   "outputs": [
    {
     "name": "stdout",
     "output_type": "stream",
     "text": [
      "model의 output은 :  [0. 0. 1. 0. 0. 0. 0. 0. 0. 0.]\n",
      "argmax를 한 후의 output은 2\n",
      "accuracy는 0.1962962962962963\n"
     ]
    }
   ],
   "source": [
    "print(f'model의 output은 :  {y_pred[0]}')\n",
    "print(f'argmax를 한 후의 output은 {predicted[0]}')\n",
    "print(f'accuracy는 {accuracy}')"
   ]
  },
  {
   "cell_type": "markdown",
   "metadata": {},
   "source": [
    "시도4\\\n",
    "활성화함수 : Sigmoid \\\n",
    "optimizer : RMSprop 사용 lr= 0.03 \\\n",
    "accuracy : 0.866 Loss값이 좀 튄다"
   ]
  },
  {
   "cell_type": "code",
   "execution_count": 119,
   "metadata": {
    "id": "pWz1xrxfhbys"
   },
   "outputs": [],
   "source": [
    "from sklearn.datasets import load_digits\n",
    "data=load_digits()"
   ]
  },
  {
   "cell_type": "code",
   "execution_count": 120,
   "metadata": {
    "colab": {
     "base_uri": "https://localhost:8080/"
    },
    "id": "xotMguliknle",
    "outputId": "5d422448-5b3d-41e2-d0a3-1c0d1a015d3e",
    "scrolled": true
   },
   "outputs": [],
   "source": [
    "input = data.data \n",
    "output = data.target "
   ]
  },
  {
   "cell_type": "code",
   "execution_count": 121,
   "metadata": {
    "id": "am_BHq20knlg"
   },
   "outputs": [],
   "source": [
    "device = 'cuda' if torch.cuda.is_available() else 'cpu'\n",
    "\n",
    "torch.manual_seed(777)\n",
    "if device == \"cuda\":\n",
    "  torch.cuda.manual_seed_all(777)"
   ]
  },
  {
   "cell_type": "code",
   "execution_count": 122,
   "metadata": {
    "colab": {
     "base_uri": "https://localhost:8080/"
    },
    "id": "DTR0WNjNknlh",
    "outputId": "97df75bd-0c98-466b-ae70-6abc8ac4ff69"
   },
   "outputs": [],
   "source": [
    "x_train, x_test, y_train, y_test = train_test_split(input, output, test_size = 0.3, random_state = 42, stratify= data.target, shuffle = True)\n",
    "\n",
    "x_train = torch.FloatTensor(x_train).to(device)\n",
    "y_train = torch.LongTensor(y_train).to(device)\n",
    "x_test = torch.FloatTensor(x_test)\n",
    "y_test = torch.LongTensor(y_test)"
   ]
  },
  {
   "cell_type": "code",
   "execution_count": 123,
   "metadata": {
    "id": "Ag7LJBdCknlj"
   },
   "outputs": [],
   "source": [
    "from torch.utils.data import Dataset\n",
    "class CustomDataset(Dataset):\n",
    "  def __init__(self): # 데이터셋의 입력 데이터/ 출력 데이터 초기화\n",
    "    self.x_data = x_train\n",
    "    self.y_data = [[y] for y in y_train]\n",
    "#  데이터셋의 전처리를 해주는 부분\n",
    "\n",
    "  def __len__(self):\n",
    "    return len(self.x_data)\n",
    "#  데이터셋의 길이. 즉, 총 샘플의 수를 적어주는 부분\n",
    "\n",
    "  def __getitem__(self, idx): # 특정 인덱스에 해당하는\n",
    "    x = torch.FloatTensor(self.x_data[idx]).to(device)\n",
    "    y = torch.LongTensor(self.y_data[idx]).to(device)\n",
    "#  데이터셋에서 특정 1개의 샘플을 가져오는 함수\n",
    "\n",
    "    return x,y"
   ]
  },
  {
   "cell_type": "code",
   "execution_count": 124,
   "metadata": {
    "id": "BesDr853knlk"
   },
   "outputs": [],
   "source": [
    "batch_size = 8\n",
    "\n",
    "dataset = CustomDataset() # 객체를 생성해서 커스텀데이터셋 만듬\n",
    "dataloader = DataLoader(dataset, batch_size=batch_size) # 데이터셋, 배치 크기 전달"
   ]
  },
  {
   "cell_type": "code",
   "execution_count": 125,
   "metadata": {
    "id": "v1NyY_Ifknll"
   },
   "outputs": [],
   "source": [
    "# input_layer와 hidden_layer의 노드 개수를 어떻게 바꿔줘야할까?\n",
    "# hidden layer/neuron 수를 바꾸기\n",
    "\n",
    "model = nn.Sequential(\n",
    "          nn.Linear(64,1257, bias=True),\n",
    "          nn.Sigmoid(),\n",
    "          nn.Linear(1257,30, bias=True),\n",
    "          nn.Sigmoid(),\n",
    "          nn.Linear(30,15, bias=True),\n",
    "          nn.Sigmoid(),\n",
    "          nn.Linear(15,10, bias=True),\n",
    "\n",
    "          nn.Softmax()\n",
    "          ).to(device)"
   ]
  },
  {
   "cell_type": "code",
   "execution_count": 126,
   "metadata": {
    "id": "Q4Lz69-_knlm"
   },
   "outputs": [],
   "source": [
    "class Model(torch.nn.Module):\n",
    "\n",
    "  def __init__(self):\n",
    "    super(Model, self).__init__()\n",
    "    self.layer1 = nn.Sequential(\n",
    "          nn.Linear(64,1257, bias=True), # input_layer = 30, hidden_layer1 = 398\n",
    "          nn.Sigmoid(),\n",
    "        nn.BatchNorm1d(1257)\n",
    "    )\n",
    "  # activation function 이용\n",
    "  #   nn.ReLU()\n",
    "  #   nn.tanH()\n",
    "  #   https://pytorch.org/docs/stable/nn.html 그 외에도 여기서 확인 가능함\n",
    "  #   파라미터가 필요하지 않다는 것이 특징\n",
    "\n",
    "  # batch normazliation 1d, 파라미터 값으로 vector의 길이를 전해줌\n",
    "  # 추후에 이미지를 다루게 된다면, 그때는 batch normalization 2d를 이용하게 됨\n",
    "  # 그때는 파라미터 값으로 채널, 가로, 세로 길이를 전달해주게 됨\n",
    "\n",
    "    self.layer2 = nn.Sequential(\n",
    "          nn.Linear(1257,30, bias=True), # hidden_layer1 = 398, hidden_layer2 = 30\n",
    "        nn.Sigmoid()\n",
    "    )\n",
    "    self.layer3 = nn.Sequential(\n",
    "          nn.Linear(30,15, bias=True), # hidden_layer1 = 30, hidden_layer2 = 15\n",
    "\n",
    "        nn.Sigmoid()\n",
    "    )\n",
    "\n",
    "    self.layer4 = nn.Sequential(\n",
    "          nn.Linear(15, 10, bias=True), # hidden_layer3 = 15, output_layer = 10\n",
    "\n",
    "        nn.Softmax()\n",
    "    )\n",
    "\n",
    "  def forward(self,x):\n",
    "    output = self.layer1(x)\n",
    "    output = self.layer2(output)\n",
    "    output = self.layer3(output)\n",
    "    output = self.layer4(output)\n",
    "    return output"
   ]
  },
  {
   "cell_type": "code",
   "execution_count": 127,
   "metadata": {
    "id": "tljsaOO9knln"
   },
   "outputs": [],
   "source": [
    "def init_weights(layer):\n",
    "    if isinstance(layer, nn.Linear):\n",
    "        torch.nn.init.xavier_uniform(layer.weight)\n",
    "        layer.bias.data.fill_(0.01)\n",
    "\n",
    "        #xavier사용\n",
    "        # Layer의 weight를 어떤 분포를 가지도록 초기화시켜줌+global minimum찾기 위해서"
   ]
  },
  {
   "cell_type": "code",
   "execution_count": 128,
   "metadata": {
    "colab": {
     "base_uri": "https://localhost:8080/"
    },
    "id": "TAzXoOo7knln",
    "outputId": "f4ce1d8d-17be-4495-cf45-9c04ad8720c9",
    "scrolled": true
   },
   "outputs": [
    {
     "name": "stderr",
     "output_type": "stream",
     "text": [
      "C:\\Users\\withy\\AppData\\Local\\Temp\\ipykernel_8516\\2101624760.py:3: UserWarning: nn.init.xavier_uniform is now deprecated in favor of nn.init.xavier_uniform_.\n",
      "  torch.nn.init.xavier_uniform(layer.weight)\n"
     ]
    },
    {
     "data": {
      "text/plain": [
       "Model(\n",
       "  (layer1): Sequential(\n",
       "    (0): Linear(in_features=64, out_features=1257, bias=True)\n",
       "    (1): Sigmoid()\n",
       "    (2): BatchNorm1d(1257, eps=1e-05, momentum=0.1, affine=True, track_running_stats=True)\n",
       "  )\n",
       "  (layer2): Sequential(\n",
       "    (0): Linear(in_features=1257, out_features=30, bias=True)\n",
       "    (1): Sigmoid()\n",
       "  )\n",
       "  (layer3): Sequential(\n",
       "    (0): Linear(in_features=30, out_features=15, bias=True)\n",
       "    (1): Sigmoid()\n",
       "  )\n",
       "  (layer4): Sequential(\n",
       "    (0): Linear(in_features=15, out_features=10, bias=True)\n",
       "    (1): Softmax(dim=None)\n",
       "  )\n",
       ")"
      ]
     },
     "execution_count": 128,
     "metadata": {},
     "output_type": "execute_result"
    }
   ],
   "source": [
    "model = Model().to(device)\n",
    "model.apply(init_weights)"
   ]
  },
  {
   "cell_type": "code",
   "execution_count": 129,
   "metadata": {
    "colab": {
     "base_uri": "https://localhost:8080/"
    },
    "id": "0xGxTfOmknlo",
    "outputId": "046038aa-e779-4a25-de12-bf88204a8cba",
    "scrolled": false
   },
   "outputs": [
    {
     "name": "stdout",
     "output_type": "stream",
     "text": [
      "Model(\n",
      "  (layer1): Sequential(\n",
      "    (0): Linear(in_features=64, out_features=1257, bias=True)\n",
      "    (1): Sigmoid()\n",
      "    (2): BatchNorm1d(1257, eps=1e-05, momentum=0.1, affine=True, track_running_stats=True)\n",
      "  )\n",
      "  (layer2): Sequential(\n",
      "    (0): Linear(in_features=1257, out_features=30, bias=True)\n",
      "    (1): Sigmoid()\n",
      "  )\n",
      "  (layer3): Sequential(\n",
      "    (0): Linear(in_features=30, out_features=15, bias=True)\n",
      "    (1): Sigmoid()\n",
      "  )\n",
      "  (layer4): Sequential(\n",
      "    (0): Linear(in_features=15, out_features=10, bias=True)\n",
      "    (1): Softmax(dim=None)\n",
      "  )\n",
      ")\n"
     ]
    }
   ],
   "source": [
    "print(model)"
   ]
  },
  {
   "cell_type": "code",
   "execution_count": 130,
   "metadata": {
    "id": "KRrAWkZtknlp"
   },
   "outputs": [],
   "source": [
    "loss_fn  = nn.CrossEntropyLoss().to(device)\n",
    "\n",
    "# 여러가지 optimizer 시도해보기\n",
    "# lr 바꿔보기\n",
    "\n",
    "optimizer = optim.RMSprop(model.parameters(), lr= 0.03)\n",
    "\n",
    "# https://pytorch.org/docs/stable/optim.html#module-torch.optim 페이지 참조\n",
    "# optimizer = optim.SGD(model.parameters(), lr=0.1, momentum=0.9)\n",
    "# sgd 등등"
   ]
  },
  {
   "cell_type": "code",
   "execution_count": 131,
   "metadata": {
    "colab": {
     "base_uri": "https://localhost:8080/",
     "height": 535
    },
    "id": "svdRvp0cknlq",
    "outputId": "8741ab20-71a2-4fe4-a4c6-bf2887270acd",
    "scrolled": true
   },
   "outputs": [
    {
     "name": "stderr",
     "output_type": "stream",
     "text": [
      "C:\\Users\\withy\\anaconda3\\Lib\\site-packages\\torch\\nn\\modules\\module.py:1518: UserWarning: Implicit dimension choice for softmax has been deprecated. Change the call to include dim=X as an argument.\n",
      "  return self._call_impl(*args, **kwargs)\n"
     ]
    },
    {
     "name": "stdout",
     "output_type": "stream",
     "text": [
      "0 2.3041915893554688\n",
      "10 2.1282780170440674\n",
      "20 1.8243850469589233\n",
      "30 1.728922724723816\n",
      "40 1.6757092475891113\n",
      "50 1.6694341897964478\n",
      "60 1.6750253438949585\n",
      "70 1.6200743913650513\n",
      "80 1.599284052848816\n",
      "90 1.579537034034729\n"
     ]
    }
   ],
   "source": [
    "losses = []\n",
    "for epoch in range(100):\n",
    "\n",
    "  optimizer.zero_grad()\n",
    "  hypothesis = model(x_train)\n",
    "\n",
    "  # 비용 함수\n",
    "  cost = loss_fn(hypothesis, y_train)\n",
    "  cost.backward()\n",
    "  optimizer.step()\n",
    "  losses.append(cost.item())\n",
    "\n",
    "  if epoch % 10 == 0:\n",
    "    print(epoch, cost.item())"
   ]
  },
  {
   "cell_type": "code",
   "execution_count": 132,
   "metadata": {
    "id": "Eg0WnBx-knlr",
    "scrolled": true
   },
   "outputs": [
    {
     "data": {
      "image/png": "[encoded data removed]",
      "text/plain": [
       "<Figure size 640x480 with 1 Axes>"
      ]
     },
     "metadata": {},
     "output_type": "display_data"
    }
   ],
   "source": [
    "plt.plot(losses)\n",
    "plt.show()"
   ]
  },
  {
   "cell_type": "code",
   "execution_count": 133,
   "metadata": {
    "id": "2Qvsoi55knlr"
   },
   "outputs": [],
   "source": [
    "with torch.no_grad():\n",
    "  model = model.to('cpu')\n",
    "  y_pred = model(x_test)\n",
    "  y_pred = y_pred.detach().numpy()\n",
    "  predicted = np.argmax(y_pred, axis =1)\n",
    "  accuracy = (accuracy_score(predicted, y_test))"
   ]
  },
  {
   "cell_type": "code",
   "execution_count": 134,
   "metadata": {
    "id": "54n5gswmknls",
    "scrolled": true
   },
   "outputs": [
    {
     "name": "stdout",
     "output_type": "stream",
     "text": [
      "model의 output은 :  [3.6251240e-05 9.8866510e-01 6.6554928e-03 3.0747404e-05 2.3599899e-04\n",
      " 1.3907398e-05 3.4659267e-03 1.1151651e-06 7.1138924e-04 1.8411988e-04]\n",
      "argmax를 한 후의 output은 1\n",
      "accuracy는 0.8666666666666667\n"
     ]
    }
   ],
   "source": [
    "print(f'model의 output은 :  {y_pred[0]}')\n",
    "print(f'argmax를 한 후의 output은 {predicted[0]}')\n",
    "print(f'accuracy는 {accuracy}')"
   ]
  },
  {
   "cell_type": "markdown",
   "metadata": {},
   "source": [
    "시도5\\\n",
    "활성화함수 : tanh \\\n",
    "optimizer : Adagrad 사용 lr= 0.03 \\\n",
    "accuracy : 0.9796"
   ]
  },
  {
   "cell_type": "code",
   "execution_count": 135,
   "metadata": {
    "id": "pWz1xrxfhbys"
   },
   "outputs": [],
   "source": [
    "from sklearn.datasets import load_digits\n",
    "data=load_digits()"
   ]
  },
  {
   "cell_type": "code",
   "execution_count": 136,
   "metadata": {
    "colab": {
     "base_uri": "https://localhost:8080/"
    },
    "id": "xotMguliknle",
    "outputId": "5d422448-5b3d-41e2-d0a3-1c0d1a015d3e",
    "scrolled": true
   },
   "outputs": [],
   "source": [
    "input = data.data \n",
    "output = data.target "
   ]
  },
  {
   "cell_type": "code",
   "execution_count": 137,
   "metadata": {
    "id": "am_BHq20knlg"
   },
   "outputs": [],
   "source": [
    "device = 'cuda' if torch.cuda.is_available() else 'cpu'\n",
    "\n",
    "torch.manual_seed(777)\n",
    "if device == \"cuda\":\n",
    "  torch.cuda.manual_seed_all(777)"
   ]
  },
  {
   "cell_type": "code",
   "execution_count": 138,
   "metadata": {
    "colab": {
     "base_uri": "https://localhost:8080/"
    },
    "id": "DTR0WNjNknlh",
    "outputId": "97df75bd-0c98-466b-ae70-6abc8ac4ff69"
   },
   "outputs": [],
   "source": [
    "x_train, x_test, y_train, y_test = train_test_split(input, output, test_size = 0.3, random_state = 42, stratify= data.target, shuffle = True)\n",
    "\n",
    "x_train = torch.FloatTensor(x_train).to(device)\n",
    "y_train = torch.LongTensor(y_train).to(device)\n",
    "x_test = torch.FloatTensor(x_test)\n",
    "y_test = torch.LongTensor(y_test)"
   ]
  },
  {
   "cell_type": "code",
   "execution_count": 139,
   "metadata": {
    "id": "Ag7LJBdCknlj"
   },
   "outputs": [],
   "source": [
    "from torch.utils.data import Dataset\n",
    "class CustomDataset(Dataset):\n",
    "  def __init__(self): # 데이터셋의 입력 데이터/ 출력 데이터 초기화\n",
    "    self.x_data = x_train\n",
    "    self.y_data = [[y] for y in y_train]\n",
    "#  데이터셋의 전처리를 해주는 부분\n",
    "\n",
    "  def __len__(self):\n",
    "    return len(self.x_data)\n",
    "#  데이터셋의 길이. 즉, 총 샘플의 수를 적어주는 부분\n",
    "\n",
    "  def __getitem__(self, idx): # 특정 인덱스에 해당하는\n",
    "    x = torch.FloatTensor(self.x_data[idx]).to(device)\n",
    "    y = torch.LongTensor(self.y_data[idx]).to(device)\n",
    "#  데이터셋에서 특정 1개의 샘플을 가져오는 함수\n",
    "\n",
    "    return x,y"
   ]
  },
  {
   "cell_type": "code",
   "execution_count": 140,
   "metadata": {
    "id": "BesDr853knlk"
   },
   "outputs": [],
   "source": [
    "batch_size = 8\n",
    "\n",
    "dataset = CustomDataset() # 객체를 생성해서 커스텀데이터셋 만듬\n",
    "dataloader = DataLoader(dataset, batch_size=batch_size) # 데이터셋, 배치 크기 전달"
   ]
  },
  {
   "cell_type": "code",
   "execution_count": 141,
   "metadata": {
    "id": "v1NyY_Ifknll"
   },
   "outputs": [],
   "source": [
    "# input_layer와 hidden_layer의 노드 개수를 어떻게 바꿔줘야할까?\n",
    "# hidden layer/neuron 수를 바꾸기\n",
    "\n",
    "model = nn.Sequential(\n",
    "          nn.Linear(64,1257, bias=True),\n",
    "          nn.Tanh(),\n",
    "          nn.Linear(1257,30, bias=True),\n",
    "          nn.Tanh(),\n",
    "          nn.Linear(30,15, bias=True),\n",
    "          nn.Tanh(),\n",
    "          nn.Linear(15,10, bias=True),\n",
    "\n",
    "          nn.Softmax()\n",
    "          ).to(device)"
   ]
  },
  {
   "cell_type": "code",
   "execution_count": 142,
   "metadata": {
    "id": "Q4Lz69-_knlm"
   },
   "outputs": [],
   "source": [
    "class Model(torch.nn.Module):\n",
    "\n",
    "  def __init__(self):\n",
    "    super(Model, self).__init__()\n",
    "    self.layer1 = nn.Sequential(\n",
    "          nn.Linear(64,1257, bias=True), # input_layer = 30, hidden_layer1 = 398\n",
    "          nn.Tanh(),\n",
    "        nn.BatchNorm1d(1257)\n",
    "    )\n",
    "  # activation function 이용\n",
    "  #   nn.ReLU()\n",
    "  #   nn.tanH()\n",
    "  #   https://pytorch.org/docs/stable/nn.html 그 외에도 여기서 확인 가능함\n",
    "  #   파라미터가 필요하지 않다는 것이 특징\n",
    "\n",
    "  # batch normazliation 1d, 파라미터 값으로 vector의 길이를 전해줌\n",
    "  # 추후에 이미지를 다루게 된다면, 그때는 batch normalization 2d를 이용하게 됨\n",
    "  # 그때는 파라미터 값으로 채널, 가로, 세로 길이를 전달해주게 됨\n",
    "\n",
    "    self.layer2 = nn.Sequential(\n",
    "          nn.Linear(1257,30, bias=True), # hidden_layer1 = 398, hidden_layer2 = 30\n",
    "        nn.Tanh()\n",
    "    )\n",
    "    self.layer3 = nn.Sequential(\n",
    "          nn.Linear(30,15, bias=True), # hidden_layer1 = 30, hidden_layer2 = 15\n",
    "\n",
    "        nn.Tanh()\n",
    "    )\n",
    "\n",
    "    self.layer4 = nn.Sequential(\n",
    "          nn.Linear(15, 10, bias=True), # hidden_layer3 = 15, output_layer = 10\n",
    "\n",
    "        nn.Softmax()\n",
    "    )\n",
    "\n",
    "  def forward(self,x):\n",
    "    output = self.layer1(x)\n",
    "    output = self.layer2(output)\n",
    "    output = self.layer3(output)\n",
    "    output = self.layer4(output)\n",
    "    return output"
   ]
  },
  {
   "cell_type": "code",
   "execution_count": 143,
   "metadata": {
    "id": "tljsaOO9knln"
   },
   "outputs": [],
   "source": [
    "def init_weights(layer):\n",
    "    if isinstance(layer, nn.Linear):\n",
    "        torch.nn.init.xavier_uniform(layer.weight)\n",
    "        layer.bias.data.fill_(0.01)\n",
    "\n",
    "        #xavier사용\n",
    "        # Layer의 weight를 어떤 분포를 가지도록 초기화시켜줌+global minimum찾기 위해서"
   ]
  },
  {
   "cell_type": "code",
   "execution_count": 144,
   "metadata": {
    "colab": {
     "base_uri": "https://localhost:8080/"
    },
    "id": "TAzXoOo7knln",
    "outputId": "f4ce1d8d-17be-4495-cf45-9c04ad8720c9",
    "scrolled": true
   },
   "outputs": [
    {
     "name": "stderr",
     "output_type": "stream",
     "text": [
      "C:\\Users\\withy\\AppData\\Local\\Temp\\ipykernel_8516\\2101624760.py:3: UserWarning: nn.init.xavier_uniform is now deprecated in favor of nn.init.xavier_uniform_.\n",
      "  torch.nn.init.xavier_uniform(layer.weight)\n"
     ]
    },
    {
     "data": {
      "text/plain": [
       "Model(\n",
       "  (layer1): Sequential(\n",
       "    (0): Linear(in_features=64, out_features=1257, bias=True)\n",
       "    (1): Tanh()\n",
       "    (2): BatchNorm1d(1257, eps=1e-05, momentum=0.1, affine=True, track_running_stats=True)\n",
       "  )\n",
       "  (layer2): Sequential(\n",
       "    (0): Linear(in_features=1257, out_features=30, bias=True)\n",
       "    (1): Tanh()\n",
       "  )\n",
       "  (layer3): Sequential(\n",
       "    (0): Linear(in_features=30, out_features=15, bias=True)\n",
       "    (1): Tanh()\n",
       "  )\n",
       "  (layer4): Sequential(\n",
       "    (0): Linear(in_features=15, out_features=10, bias=True)\n",
       "    (1): Softmax(dim=None)\n",
       "  )\n",
       ")"
      ]
     },
     "execution_count": 144,
     "metadata": {},
     "output_type": "execute_result"
    }
   ],
   "source": [
    "model = Model().to(device)\n",
    "model.apply(init_weights)"
   ]
  },
  {
   "cell_type": "code",
   "execution_count": 145,
   "metadata": {
    "colab": {
     "base_uri": "https://localhost:8080/"
    },
    "id": "0xGxTfOmknlo",
    "outputId": "046038aa-e779-4a25-de12-bf88204a8cba",
    "scrolled": false
   },
   "outputs": [
    {
     "name": "stdout",
     "output_type": "stream",
     "text": [
      "Model(\n",
      "  (layer1): Sequential(\n",
      "    (0): Linear(in_features=64, out_features=1257, bias=True)\n",
      "    (1): Tanh()\n",
      "    (2): BatchNorm1d(1257, eps=1e-05, momentum=0.1, affine=True, track_running_stats=True)\n",
      "  )\n",
      "  (layer2): Sequential(\n",
      "    (0): Linear(in_features=1257, out_features=30, bias=True)\n",
      "    (1): Tanh()\n",
      "  )\n",
      "  (layer3): Sequential(\n",
      "    (0): Linear(in_features=30, out_features=15, bias=True)\n",
      "    (1): Tanh()\n",
      "  )\n",
      "  (layer4): Sequential(\n",
      "    (0): Linear(in_features=15, out_features=10, bias=True)\n",
      "    (1): Softmax(dim=None)\n",
      "  )\n",
      ")\n"
     ]
    }
   ],
   "source": [
    "print(model)"
   ]
  },
  {
   "cell_type": "code",
   "execution_count": 146,
   "metadata": {
    "id": "KRrAWkZtknlp"
   },
   "outputs": [],
   "source": [
    "loss_fn  = nn.CrossEntropyLoss().to(device)\n",
    "\n",
    "# 여러가지 optimizer 시도해보기\n",
    "# lr 바꿔보기\n",
    "\n",
    "optimizer = optim.Adagrad(model.parameters(), lr= 0.03)\n",
    "\n",
    "# https://pytorch.org/docs/stable/optim.html#module-torch.optim 페이지 참조\n",
    "# optimizer = optim.SGD(model.parameters(), lr=0.1, momentum=0.9)\n",
    "# sgd 등등"
   ]
  },
  {
   "cell_type": "code",
   "execution_count": 147,
   "metadata": {
    "colab": {
     "base_uri": "https://localhost:8080/",
     "height": 535
    },
    "id": "svdRvp0cknlq",
    "outputId": "8741ab20-71a2-4fe4-a4c6-bf2887270acd",
    "scrolled": true
   },
   "outputs": [
    {
     "name": "stderr",
     "output_type": "stream",
     "text": [
      "C:\\Users\\withy\\anaconda3\\Lib\\site-packages\\torch\\nn\\modules\\module.py:1518: UserWarning: Implicit dimension choice for softmax has been deprecated. Change the call to include dim=X as an argument.\n",
      "  return self._call_impl(*args, **kwargs)\n"
     ]
    },
    {
     "name": "stdout",
     "output_type": "stream",
     "text": [
      "0 2.3084206581115723\n",
      "10 1.6198829412460327\n",
      "20 1.5161141157150269\n",
      "30 1.4959362745285034\n",
      "40 1.4866430759429932\n",
      "50 1.4813218116760254\n",
      "60 1.4778348207473755\n",
      "70 1.4753636121749878\n",
      "80 1.473528265953064\n",
      "90 1.472108006477356\n"
     ]
    }
   ],
   "source": [
    "losses = []\n",
    "for epoch in range(100):\n",
    "\n",
    "  optimizer.zero_grad()\n",
    "  hypothesis = model(x_train)\n",
    "\n",
    "  # 비용 함수\n",
    "  cost = loss_fn(hypothesis, y_train)\n",
    "  cost.backward()\n",
    "  optimizer.step()\n",
    "  losses.append(cost.item())\n",
    "\n",
    "  if epoch % 10 == 0:\n",
    "    print(epoch, cost.item())"
   ]
  },
  {
   "cell_type": "code",
   "execution_count": 148,
   "metadata": {
    "id": "Eg0WnBx-knlr",
    "scrolled": true
   },
   "outputs": [
    {
     "data": {
      "image/png": "[encoded data removed]",
      "text/plain": [
       "<Figure size 640x480 with 1 Axes>"
      ]
     },
     "metadata": {},
     "output_type": "display_data"
    }
   ],
   "source": [
    "plt.plot(losses)\n",
    "plt.show()"
   ]
  },
  {
   "cell_type": "code",
   "execution_count": 149,
   "metadata": {
    "id": "2Qvsoi55knlr"
   },
   "outputs": [],
   "source": [
    "with torch.no_grad():\n",
    "  model = model.to('cpu')\n",
    "  y_pred = model(x_test)\n",
    "  y_pred = y_pred.detach().numpy()\n",
    "  predicted = np.argmax(y_pred, axis =1)\n",
    "  accuracy = (accuracy_score(predicted, y_test))"
   ]
  },
  {
   "cell_type": "code",
   "execution_count": 150,
   "metadata": {
    "id": "54n5gswmknls",
    "scrolled": true
   },
   "outputs": [
    {
     "name": "stdout",
     "output_type": "stream",
     "text": [
      "model의 output은 :  [9.3279715e-04 9.9340457e-01 9.2128722e-04 2.4011221e-03 8.7871117e-04\n",
      " 1.7373363e-04 8.6927845e-05 3.6987464e-04 7.9419889e-04 3.6861420e-05]\n",
      "argmax를 한 후의 output은 1\n",
      "accuracy는 0.9796296296296296\n"
     ]
    }
   ],
   "source": [
    "print(f'model의 output은 :  {y_pred[0]}')\n",
    "print(f'argmax를 한 후의 output은 {predicted[0]}')\n",
    "print(f'accuracy는 {accuracy}')"
   ]
  },
  {
   "cell_type": "markdown",
   "metadata": {},
   "source": [
    "시도6\\\n",
    "활성화함수 : tanh \\\n",
    "optimizer : Adam 사용 lr= 0.03 \\\n",
    "accuracy : 0.9759"
   ]
  },
  {
   "cell_type": "code",
   "execution_count": 151,
   "metadata": {
    "id": "pWz1xrxfhbys"
   },
   "outputs": [],
   "source": [
    "from sklearn.datasets import load_digits\n",
    "data=load_digits()"
   ]
  },
  {
   "cell_type": "code",
   "execution_count": 152,
   "metadata": {
    "colab": {
     "base_uri": "https://localhost:8080/"
    },
    "id": "xotMguliknle",
    "outputId": "5d422448-5b3d-41e2-d0a3-1c0d1a015d3e",
    "scrolled": true
   },
   "outputs": [],
   "source": [
    "input = data.data \n",
    "output = data.target "
   ]
  },
  {
   "cell_type": "code",
   "execution_count": 153,
   "metadata": {
    "id": "am_BHq20knlg"
   },
   "outputs": [],
   "source": [
    "device = 'cuda' if torch.cuda.is_available() else 'cpu'\n",
    "\n",
    "torch.manual_seed(777)\n",
    "if device == \"cuda\":\n",
    "  torch.cuda.manual_seed_all(777)"
   ]
  },
  {
   "cell_type": "code",
   "execution_count": 154,
   "metadata": {
    "colab": {
     "base_uri": "https://localhost:8080/"
    },
    "id": "DTR0WNjNknlh",
    "outputId": "97df75bd-0c98-466b-ae70-6abc8ac4ff69"
   },
   "outputs": [],
   "source": [
    "x_train, x_test, y_train, y_test = train_test_split(input, output, test_size = 0.3, random_state = 42, stratify= data.target, shuffle = True)\n",
    "\n",
    "x_train = torch.FloatTensor(x_train).to(device)\n",
    "y_train = torch.LongTensor(y_train).to(device)\n",
    "x_test = torch.FloatTensor(x_test)\n",
    "y_test = torch.LongTensor(y_test)"
   ]
  },
  {
   "cell_type": "code",
   "execution_count": 155,
   "metadata": {
    "id": "Ag7LJBdCknlj"
   },
   "outputs": [],
   "source": [
    "from torch.utils.data import Dataset\n",
    "class CustomDataset(Dataset):\n",
    "  def __init__(self): # 데이터셋의 입력 데이터/ 출력 데이터 초기화\n",
    "    self.x_data = x_train\n",
    "    self.y_data = [[y] for y in y_train]\n",
    "#  데이터셋의 전처리를 해주는 부분\n",
    "\n",
    "  def __len__(self):\n",
    "    return len(self.x_data)\n",
    "#  데이터셋의 길이. 즉, 총 샘플의 수를 적어주는 부분\n",
    "\n",
    "  def __getitem__(self, idx): # 특정 인덱스에 해당하는\n",
    "    x = torch.FloatTensor(self.x_data[idx]).to(device)\n",
    "    y = torch.LongTensor(self.y_data[idx]).to(device)\n",
    "#  데이터셋에서 특정 1개의 샘플을 가져오는 함수\n",
    "\n",
    "    return x,y"
   ]
  },
  {
   "cell_type": "code",
   "execution_count": 156,
   "metadata": {
    "id": "BesDr853knlk"
   },
   "outputs": [],
   "source": [
    "batch_size = 8\n",
    "\n",
    "dataset = CustomDataset() # 객체를 생성해서 커스텀데이터셋 만듬\n",
    "dataloader = DataLoader(dataset, batch_size=batch_size) # 데이터셋, 배치 크기 전달"
   ]
  },
  {
   "cell_type": "code",
   "execution_count": 157,
   "metadata": {
    "id": "v1NyY_Ifknll"
   },
   "outputs": [],
   "source": [
    "# input_layer와 hidden_layer의 노드 개수를 어떻게 바꿔줘야할까?\n",
    "# hidden layer/neuron 수를 바꾸기\n",
    "\n",
    "model = nn.Sequential(\n",
    "          nn.Linear(64,1257, bias=True),\n",
    "          nn.Tanh(),\n",
    "          nn.Linear(1257,30, bias=True),\n",
    "          nn.Tanh(),\n",
    "          nn.Linear(30,15, bias=True),\n",
    "          nn.Tanh(),\n",
    "          nn.Linear(15,10, bias=True),\n",
    "\n",
    "          nn.Softmax()\n",
    "          ).to(device)"
   ]
  },
  {
   "cell_type": "code",
   "execution_count": 158,
   "metadata": {
    "id": "Q4Lz69-_knlm"
   },
   "outputs": [],
   "source": [
    "class Model(torch.nn.Module):\n",
    "\n",
    "  def __init__(self):\n",
    "    super(Model, self).__init__()\n",
    "    self.layer1 = nn.Sequential(\n",
    "          nn.Linear(64,1257, bias=True), # input_layer = 30, hidden_layer1 = 398\n",
    "          nn.Tanh(),\n",
    "        nn.BatchNorm1d(1257)\n",
    "    )\n",
    "  # activation function 이용\n",
    "  #   nn.ReLU()\n",
    "  #   nn.tanH()\n",
    "  #   https://pytorch.org/docs/stable/nn.html 그 외에도 여기서 확인 가능함\n",
    "  #   파라미터가 필요하지 않다는 것이 특징\n",
    "\n",
    "  # batch normazliation 1d, 파라미터 값으로 vector의 길이를 전해줌\n",
    "  # 추후에 이미지를 다루게 된다면, 그때는 batch normalization 2d를 이용하게 됨\n",
    "  # 그때는 파라미터 값으로 채널, 가로, 세로 길이를 전달해주게 됨\n",
    "\n",
    "    self.layer2 = nn.Sequential(\n",
    "          nn.Linear(1257,30, bias=True), # hidden_layer1 = 398, hidden_layer2 = 30\n",
    "        nn.Tanh()\n",
    "    )\n",
    "    self.layer3 = nn.Sequential(\n",
    "          nn.Linear(30,15, bias=True), # hidden_layer1 = 30, hidden_layer2 = 15\n",
    "\n",
    "        nn.Tanh()\n",
    "    )\n",
    "\n",
    "    self.layer4 = nn.Sequential(\n",
    "          nn.Linear(15, 10, bias=True), # hidden_layer3 = 15, output_layer = 10\n",
    "\n",
    "        nn.Softmax()\n",
    "    )\n",
    "\n",
    "  def forward(self,x):\n",
    "    output = self.layer1(x)\n",
    "    output = self.layer2(output)\n",
    "    output = self.layer3(output)\n",
    "    output = self.layer4(output)\n",
    "    return output"
   ]
  },
  {
   "cell_type": "code",
   "execution_count": 159,
   "metadata": {
    "id": "tljsaOO9knln"
   },
   "outputs": [],
   "source": [
    "def init_weights(layer):\n",
    "    if isinstance(layer, nn.Linear):\n",
    "        torch.nn.init.xavier_uniform(layer.weight)\n",
    "        layer.bias.data.fill_(0.01)\n",
    "\n",
    "        #xavier사용\n",
    "        # Layer의 weight를 어떤 분포를 가지도록 초기화시켜줌+global minimum찾기 위해서"
   ]
  },
  {
   "cell_type": "code",
   "execution_count": 160,
   "metadata": {
    "colab": {
     "base_uri": "https://localhost:8080/"
    },
    "id": "TAzXoOo7knln",
    "outputId": "f4ce1d8d-17be-4495-cf45-9c04ad8720c9",
    "scrolled": true
   },
   "outputs": [
    {
     "name": "stderr",
     "output_type": "stream",
     "text": [
      "C:\\Users\\withy\\AppData\\Local\\Temp\\ipykernel_8516\\2101624760.py:3: UserWarning: nn.init.xavier_uniform is now deprecated in favor of nn.init.xavier_uniform_.\n",
      "  torch.nn.init.xavier_uniform(layer.weight)\n"
     ]
    },
    {
     "data": {
      "text/plain": [
       "Model(\n",
       "  (layer1): Sequential(\n",
       "    (0): Linear(in_features=64, out_features=1257, bias=True)\n",
       "    (1): Tanh()\n",
       "    (2): BatchNorm1d(1257, eps=1e-05, momentum=0.1, affine=True, track_running_stats=True)\n",
       "  )\n",
       "  (layer2): Sequential(\n",
       "    (0): Linear(in_features=1257, out_features=30, bias=True)\n",
       "    (1): Tanh()\n",
       "  )\n",
       "  (layer3): Sequential(\n",
       "    (0): Linear(in_features=30, out_features=15, bias=True)\n",
       "    (1): Tanh()\n",
       "  )\n",
       "  (layer4): Sequential(\n",
       "    (0): Linear(in_features=15, out_features=10, bias=True)\n",
       "    (1): Softmax(dim=None)\n",
       "  )\n",
       ")"
      ]
     },
     "execution_count": 160,
     "metadata": {},
     "output_type": "execute_result"
    }
   ],
   "source": [
    "model = Model().to(device)\n",
    "model.apply(init_weights)"
   ]
  },
  {
   "cell_type": "code",
   "execution_count": 161,
   "metadata": {
    "colab": {
     "base_uri": "https://localhost:8080/"
    },
    "id": "0xGxTfOmknlo",
    "outputId": "046038aa-e779-4a25-de12-bf88204a8cba",
    "scrolled": false
   },
   "outputs": [
    {
     "name": "stdout",
     "output_type": "stream",
     "text": [
      "Model(\n",
      "  (layer1): Sequential(\n",
      "    (0): Linear(in_features=64, out_features=1257, bias=True)\n",
      "    (1): Tanh()\n",
      "    (2): BatchNorm1d(1257, eps=1e-05, momentum=0.1, affine=True, track_running_stats=True)\n",
      "  )\n",
      "  (layer2): Sequential(\n",
      "    (0): Linear(in_features=1257, out_features=30, bias=True)\n",
      "    (1): Tanh()\n",
      "  )\n",
      "  (layer3): Sequential(\n",
      "    (0): Linear(in_features=30, out_features=15, bias=True)\n",
      "    (1): Tanh()\n",
      "  )\n",
      "  (layer4): Sequential(\n",
      "    (0): Linear(in_features=15, out_features=10, bias=True)\n",
      "    (1): Softmax(dim=None)\n",
      "  )\n",
      ")\n"
     ]
    }
   ],
   "source": [
    "print(model)"
   ]
  },
  {
   "cell_type": "code",
   "execution_count": 162,
   "metadata": {
    "id": "KRrAWkZtknlp"
   },
   "outputs": [],
   "source": [
    "loss_fn  = nn.CrossEntropyLoss().to(device)\n",
    "\n",
    "# 여러가지 optimizer 시도해보기\n",
    "# lr 바꿔보기\n",
    "\n",
    "optimizer = optim.Adam(model.parameters(), lr= 0.03)\n",
    "\n",
    "# https://pytorch.org/docs/stable/optim.html#module-torch.optim 페이지 참조\n",
    "# optimizer = optim.SGD(model.parameters(), lr=0.1, momentum=0.9)\n",
    "# sgd 등등"
   ]
  },
  {
   "cell_type": "code",
   "execution_count": 163,
   "metadata": {
    "colab": {
     "base_uri": "https://localhost:8080/",
     "height": 535
    },
    "id": "svdRvp0cknlq",
    "outputId": "8741ab20-71a2-4fe4-a4c6-bf2887270acd",
    "scrolled": true
   },
   "outputs": [
    {
     "name": "stderr",
     "output_type": "stream",
     "text": [
      "C:\\Users\\withy\\anaconda3\\Lib\\site-packages\\torch\\nn\\modules\\module.py:1518: UserWarning: Implicit dimension choice for softmax has been deprecated. Change the call to include dim=X as an argument.\n",
      "  return self._call_impl(*args, **kwargs)\n"
     ]
    },
    {
     "name": "stdout",
     "output_type": "stream",
     "text": [
      "0 2.3084206581115723\n",
      "10 1.5291314125061035\n",
      "20 1.4714449644088745\n",
      "30 1.4653611183166504\n",
      "40 1.4642572402954102\n",
      "50 1.4635111093521118\n",
      "60 1.4633351564407349\n",
      "70 1.4632506370544434\n",
      "80 1.462520956993103\n",
      "90 1.4624052047729492\n"
     ]
    }
   ],
   "source": [
    "losses = []\n",
    "for epoch in range(100):\n",
    "\n",
    "  optimizer.zero_grad()\n",
    "  hypothesis = model(x_train)\n",
    "\n",
    "  # 비용 함수\n",
    "  cost = loss_fn(hypothesis, y_train)\n",
    "  cost.backward()\n",
    "  optimizer.step()\n",
    "  losses.append(cost.item())\n",
    "\n",
    "  if epoch % 10 == 0:\n",
    "    print(epoch, cost.item())"
   ]
  },
  {
   "cell_type": "code",
   "execution_count": 164,
   "metadata": {
    "id": "Eg0WnBx-knlr",
    "scrolled": true
   },
   "outputs": [
    {
     "data": {
      "image/png": "[encoded data removed]",
      "text/plain": [
       "<Figure size 640x480 with 1 Axes>"
      ]
     },
     "metadata": {},
     "output_type": "display_data"
    }
   ],
   "source": [
    "plt.plot(losses)\n",
    "plt.show()"
   ]
  },
  {
   "cell_type": "code",
   "execution_count": 165,
   "metadata": {
    "id": "2Qvsoi55knlr"
   },
   "outputs": [],
   "source": [
    "with torch.no_grad():\n",
    "  model = model.to('cpu')\n",
    "  y_pred = model(x_test)\n",
    "  y_pred = y_pred.detach().numpy()\n",
    "  predicted = np.argmax(y_pred, axis =1)\n",
    "  accuracy = (accuracy_score(predicted, y_test))"
   ]
  },
  {
   "cell_type": "code",
   "execution_count": 166,
   "metadata": {
    "id": "54n5gswmknls",
    "scrolled": true
   },
   "outputs": [
    {
     "name": "stdout",
     "output_type": "stream",
     "text": [
      "model의 output은 :  [3.9023773e-05 9.9967301e-01 9.7897246e-05 1.3140001e-04 2.7589418e-05\n",
      " 3.8759211e-07 1.4143217e-06 5.9066851e-06 2.3223514e-05 1.4468668e-07]\n",
      "argmax를 한 후의 output은 1\n",
      "accuracy는 0.9740740740740741\n"
     ]
    }
   ],
   "source": [
    "print(f'model의 output은 :  {y_pred[0]}')\n",
    "print(f'argmax를 한 후의 output은 {predicted[0]}')\n",
    "print(f'accuracy는 {accuracy}')"
   ]
  },
  {
   "cell_type": "markdown",
   "metadata": {},
   "source": [
    "시도7\\\n",
    "활성화함수 : tanh \\\n",
    "optimizer : SGD 사용 lr= 0.03 \\\n",
    "accuracy : 0.8722"
   ]
  },
  {
   "cell_type": "code",
   "execution_count": 167,
   "metadata": {
    "id": "pWz1xrxfhbys"
   },
   "outputs": [],
   "source": [
    "from sklearn.datasets import load_digits\n",
    "data=load_digits()"
   ]
  },
  {
   "cell_type": "code",
   "execution_count": 168,
   "metadata": {
    "colab": {
     "base_uri": "https://localhost:8080/"
    },
    "id": "xotMguliknle",
    "outputId": "5d422448-5b3d-41e2-d0a3-1c0d1a015d3e",
    "scrolled": true
   },
   "outputs": [],
   "source": [
    "input = data.data \n",
    "output = data.target "
   ]
  },
  {
   "cell_type": "code",
   "execution_count": 169,
   "metadata": {
    "id": "am_BHq20knlg"
   },
   "outputs": [],
   "source": [
    "device = 'cuda' if torch.cuda.is_available() else 'cpu'\n",
    "\n",
    "torch.manual_seed(777)\n",
    "if device == \"cuda\":\n",
    "  torch.cuda.manual_seed_all(777)"
   ]
  },
  {
   "cell_type": "code",
   "execution_count": 170,
   "metadata": {
    "colab": {
     "base_uri": "https://localhost:8080/"
    },
    "id": "DTR0WNjNknlh",
    "outputId": "97df75bd-0c98-466b-ae70-6abc8ac4ff69"
   },
   "outputs": [],
   "source": [
    "x_train, x_test, y_train, y_test = train_test_split(input, output, test_size = 0.3, random_state = 42, stratify= data.target, shuffle = True)\n",
    "\n",
    "x_train = torch.FloatTensor(x_train).to(device)\n",
    "y_train = torch.LongTensor(y_train).to(device)\n",
    "x_test = torch.FloatTensor(x_test)\n",
    "y_test = torch.LongTensor(y_test)"
   ]
  },
  {
   "cell_type": "code",
   "execution_count": 171,
   "metadata": {
    "id": "Ag7LJBdCknlj"
   },
   "outputs": [],
   "source": [
    "from torch.utils.data import Dataset\n",
    "class CustomDataset(Dataset):\n",
    "  def __init__(self): # 데이터셋의 입력 데이터/ 출력 데이터 초기화\n",
    "    self.x_data = x_train\n",
    "    self.y_data = [[y] for y in y_train]\n",
    "#  데이터셋의 전처리를 해주는 부분\n",
    "\n",
    "  def __len__(self):\n",
    "    return len(self.x_data)\n",
    "#  데이터셋의 길이. 즉, 총 샘플의 수를 적어주는 부분\n",
    "\n",
    "  def __getitem__(self, idx): # 특정 인덱스에 해당하는\n",
    "    x = torch.FloatTensor(self.x_data[idx]).to(device)\n",
    "    y = torch.LongTensor(self.y_data[idx]).to(device)\n",
    "#  데이터셋에서 특정 1개의 샘플을 가져오는 함수\n",
    "\n",
    "    return x,y"
   ]
  },
  {
   "cell_type": "code",
   "execution_count": 172,
   "metadata": {
    "id": "BesDr853knlk"
   },
   "outputs": [],
   "source": [
    "batch_size = 8\n",
    "\n",
    "dataset = CustomDataset() # 객체를 생성해서 커스텀데이터셋 만듬\n",
    "dataloader = DataLoader(dataset, batch_size=batch_size) # 데이터셋, 배치 크기 전달"
   ]
  },
  {
   "cell_type": "code",
   "execution_count": 173,
   "metadata": {
    "id": "v1NyY_Ifknll"
   },
   "outputs": [],
   "source": [
    "# input_layer와 hidden_layer의 노드 개수를 어떻게 바꿔줘야할까?\n",
    "# hidden layer/neuron 수를 바꾸기\n",
    "\n",
    "model = nn.Sequential(\n",
    "          nn.Linear(64,1257, bias=True),\n",
    "          nn.Tanh(),\n",
    "          nn.Linear(1257,30, bias=True),\n",
    "          nn.Tanh(),\n",
    "          nn.Linear(30,15, bias=True),\n",
    "          nn.Tanh(),\n",
    "          nn.Linear(15,10, bias=True),\n",
    "\n",
    "          nn.Softmax()\n",
    "          ).to(device)"
   ]
  },
  {
   "cell_type": "code",
   "execution_count": 174,
   "metadata": {
    "id": "Q4Lz69-_knlm"
   },
   "outputs": [],
   "source": [
    "class Model(torch.nn.Module):\n",
    "\n",
    "  def __init__(self):\n",
    "    super(Model, self).__init__()\n",
    "    self.layer1 = nn.Sequential(\n",
    "          nn.Linear(64,1257, bias=True), # input_layer = 30, hidden_layer1 = 398\n",
    "          nn.Tanh(),\n",
    "        nn.BatchNorm1d(1257)\n",
    "    )\n",
    "  # activation function 이용\n",
    "  #   nn.ReLU()\n",
    "  #   nn.tanH()\n",
    "  #   https://pytorch.org/docs/stable/nn.html 그 외에도 여기서 확인 가능함\n",
    "  #   파라미터가 필요하지 않다는 것이 특징\n",
    "\n",
    "  # batch normazliation 1d, 파라미터 값으로 vector의 길이를 전해줌\n",
    "  # 추후에 이미지를 다루게 된다면, 그때는 batch normalization 2d를 이용하게 됨\n",
    "  # 그때는 파라미터 값으로 채널, 가로, 세로 길이를 전달해주게 됨\n",
    "\n",
    "    self.layer2 = nn.Sequential(\n",
    "          nn.Linear(1257,30, bias=True), # hidden_layer1 = 398, hidden_layer2 = 30\n",
    "        nn.Tanh()\n",
    "    )\n",
    "    self.layer3 = nn.Sequential(\n",
    "          nn.Linear(30,15, bias=True), # hidden_layer1 = 30, hidden_layer2 = 15\n",
    "\n",
    "        nn.Tanh()\n",
    "    )\n",
    "\n",
    "    self.layer4 = nn.Sequential(\n",
    "          nn.Linear(15, 10, bias=True), # hidden_layer3 = 15, output_layer = 10\n",
    "\n",
    "        nn.Softmax()\n",
    "    )\n",
    "\n",
    "  def forward(self,x):\n",
    "    output = self.layer1(x)\n",
    "    output = self.layer2(output)\n",
    "    output = self.layer3(output)\n",
    "    output = self.layer4(output)\n",
    "    return output"
   ]
  },
  {
   "cell_type": "code",
   "execution_count": 175,
   "metadata": {
    "id": "tljsaOO9knln"
   },
   "outputs": [],
   "source": [
    "def init_weights(layer):\n",
    "    if isinstance(layer, nn.Linear):\n",
    "        torch.nn.init.xavier_uniform(layer.weight)\n",
    "        layer.bias.data.fill_(0.01)\n",
    "\n",
    "        #xavier사용\n",
    "        # Layer의 weight를 어떤 분포를 가지도록 초기화시켜줌+global minimum찾기 위해서"
   ]
  },
  {
   "cell_type": "code",
   "execution_count": 176,
   "metadata": {
    "colab": {
     "base_uri": "https://localhost:8080/"
    },
    "id": "TAzXoOo7knln",
    "outputId": "f4ce1d8d-17be-4495-cf45-9c04ad8720c9",
    "scrolled": true
   },
   "outputs": [
    {
     "name": "stderr",
     "output_type": "stream",
     "text": [
      "C:\\Users\\withy\\AppData\\Local\\Temp\\ipykernel_8516\\2101624760.py:3: UserWarning: nn.init.xavier_uniform is now deprecated in favor of nn.init.xavier_uniform_.\n",
      "  torch.nn.init.xavier_uniform(layer.weight)\n"
     ]
    },
    {
     "data": {
      "text/plain": [
       "Model(\n",
       "  (layer1): Sequential(\n",
       "    (0): Linear(in_features=64, out_features=1257, bias=True)\n",
       "    (1): Tanh()\n",
       "    (2): BatchNorm1d(1257, eps=1e-05, momentum=0.1, affine=True, track_running_stats=True)\n",
       "  )\n",
       "  (layer2): Sequential(\n",
       "    (0): Linear(in_features=1257, out_features=30, bias=True)\n",
       "    (1): Tanh()\n",
       "  )\n",
       "  (layer3): Sequential(\n",
       "    (0): Linear(in_features=30, out_features=15, bias=True)\n",
       "    (1): Tanh()\n",
       "  )\n",
       "  (layer4): Sequential(\n",
       "    (0): Linear(in_features=15, out_features=10, bias=True)\n",
       "    (1): Softmax(dim=None)\n",
       "  )\n",
       ")"
      ]
     },
     "execution_count": 176,
     "metadata": {},
     "output_type": "execute_result"
    }
   ],
   "source": [
    "model = Model().to(device)\n",
    "model.apply(init_weights)"
   ]
  },
  {
   "cell_type": "code",
   "execution_count": 177,
   "metadata": {
    "colab": {
     "base_uri": "https://localhost:8080/"
    },
    "id": "0xGxTfOmknlo",
    "outputId": "046038aa-e779-4a25-de12-bf88204a8cba",
    "scrolled": false
   },
   "outputs": [
    {
     "name": "stdout",
     "output_type": "stream",
     "text": [
      "Model(\n",
      "  (layer1): Sequential(\n",
      "    (0): Linear(in_features=64, out_features=1257, bias=True)\n",
      "    (1): Tanh()\n",
      "    (2): BatchNorm1d(1257, eps=1e-05, momentum=0.1, affine=True, track_running_stats=True)\n",
      "  )\n",
      "  (layer2): Sequential(\n",
      "    (0): Linear(in_features=1257, out_features=30, bias=True)\n",
      "    (1): Tanh()\n",
      "  )\n",
      "  (layer3): Sequential(\n",
      "    (0): Linear(in_features=30, out_features=15, bias=True)\n",
      "    (1): Tanh()\n",
      "  )\n",
      "  (layer4): Sequential(\n",
      "    (0): Linear(in_features=15, out_features=10, bias=True)\n",
      "    (1): Softmax(dim=None)\n",
      "  )\n",
      ")\n"
     ]
    }
   ],
   "source": [
    "print(model)"
   ]
  },
  {
   "cell_type": "code",
   "execution_count": 178,
   "metadata": {
    "id": "KRrAWkZtknlp"
   },
   "outputs": [],
   "source": [
    "loss_fn  = nn.CrossEntropyLoss().to(device)\n",
    "\n",
    "# 여러가지 optimizer 시도해보기\n",
    "# lr 바꿔보기\n",
    "\n",
    "optimizer = optim.SGD(model.parameters(), lr= 0.03)\n",
    "\n",
    "# https://pytorch.org/docs/stable/optim.html#module-torch.optim 페이지 참조\n",
    "# optimizer = optim.SGD(model.parameters(), lr=0.1, momentum=0.9)\n",
    "# sgd 등등"
   ]
  },
  {
   "cell_type": "code",
   "execution_count": 179,
   "metadata": {
    "colab": {
     "base_uri": "https://localhost:8080/",
     "height": 535
    },
    "id": "svdRvp0cknlq",
    "outputId": "8741ab20-71a2-4fe4-a4c6-bf2887270acd",
    "scrolled": true
   },
   "outputs": [
    {
     "name": "stderr",
     "output_type": "stream",
     "text": [
      "C:\\Users\\withy\\anaconda3\\Lib\\site-packages\\torch\\nn\\modules\\module.py:1518: UserWarning: Implicit dimension choice for softmax has been deprecated. Change the call to include dim=X as an argument.\n",
      "  return self._call_impl(*args, **kwargs)\n"
     ]
    },
    {
     "name": "stdout",
     "output_type": "stream",
     "text": [
      "0 2.3084206581115723\n",
      "10 2.2139651775360107\n",
      "20 2.1122078895568848\n",
      "30 2.055302381515503\n",
      "40 2.016390323638916\n",
      "50 1.985312581062317\n",
      "60 1.9586917161941528\n",
      "70 1.934801459312439\n",
      "80 1.9128446578979492\n",
      "90 1.8924846649169922\n"
     ]
    }
   ],
   "source": [
    "losses = []\n",
    "for epoch in range(100):\n",
    "\n",
    "  optimizer.zero_grad()\n",
    "  hypothesis = model(x_train)\n",
    "\n",
    "  # 비용 함수\n",
    "  cost = loss_fn(hypothesis, y_train)\n",
    "  cost.backward()\n",
    "  optimizer.step()\n",
    "  losses.append(cost.item())\n",
    "\n",
    "  if epoch % 10 == 0:\n",
    "    print(epoch, cost.item())"
   ]
  },
  {
   "cell_type": "code",
   "execution_count": 180,
   "metadata": {
    "id": "Eg0WnBx-knlr",
    "scrolled": true
   },
   "outputs": [
    {
     "data": {
      "image/png": "[encoded data removed]",
      "text/plain": [
       "<Figure size 640x480 with 1 Axes>"
      ]
     },
     "metadata": {},
     "output_type": "display_data"
    }
   ],
   "source": [
    "plt.plot(losses)\n",
    "plt.show()"
   ]
  },
  {
   "cell_type": "code",
   "execution_count": 181,
   "metadata": {
    "id": "2Qvsoi55knlr"
   },
   "outputs": [],
   "source": [
    "with torch.no_grad():\n",
    "  model = model.to('cpu')\n",
    "  y_pred = model(x_test)\n",
    "  y_pred = y_pred.detach().numpy()\n",
    "  predicted = np.argmax(y_pred, axis =1)\n",
    "  accuracy = (accuracy_score(predicted, y_test))"
   ]
  },
  {
   "cell_type": "code",
   "execution_count": 182,
   "metadata": {
    "id": "54n5gswmknls",
    "scrolled": true
   },
   "outputs": [
    {
     "name": "stdout",
     "output_type": "stream",
     "text": [
      "model의 output은 :  [0.05748468 0.60773253 0.10230715 0.0294139  0.03951782 0.01819618\n",
      " 0.06125912 0.01315766 0.05495014 0.01598091]\n",
      "argmax를 한 후의 output은 1\n",
      "accuracy는 0.8722222222222222\n"
     ]
    }
   ],
   "source": [
    "print(f'model의 output은 :  {y_pred[0]}')\n",
    "print(f'argmax를 한 후의 output은 {predicted[0]}')\n",
    "print(f'accuracy는 {accuracy}')"
   ]
  },
  {
   "cell_type": "markdown",
   "metadata": {},
   "source": [
    "시도8\\\n",
    "활성화함수 : Sigmoid \\\n",
    "optimizer : SGD 사용 lr= 0.03 \\\n",
    "accuracy : 0.1018 ???"
   ]
  },
  {
   "cell_type": "code",
   "execution_count": 183,
   "metadata": {
    "id": "pWz1xrxfhbys"
   },
   "outputs": [],
   "source": [
    "from sklearn.datasets import load_digits\n",
    "data=load_digits()"
   ]
  },
  {
   "cell_type": "code",
   "execution_count": 184,
   "metadata": {
    "colab": {
     "base_uri": "https://localhost:8080/"
    },
    "id": "xotMguliknle",
    "outputId": "5d422448-5b3d-41e2-d0a3-1c0d1a015d3e",
    "scrolled": true
   },
   "outputs": [],
   "source": [
    "input = data.data \n",
    "output = data.target "
   ]
  },
  {
   "cell_type": "code",
   "execution_count": 185,
   "metadata": {
    "id": "am_BHq20knlg"
   },
   "outputs": [],
   "source": [
    "device = 'cuda' if torch.cuda.is_available() else 'cpu'\n",
    "\n",
    "torch.manual_seed(777)\n",
    "if device == \"cuda\":\n",
    "  torch.cuda.manual_seed_all(777)"
   ]
  },
  {
   "cell_type": "code",
   "execution_count": 186,
   "metadata": {
    "colab": {
     "base_uri": "https://localhost:8080/"
    },
    "id": "DTR0WNjNknlh",
    "outputId": "97df75bd-0c98-466b-ae70-6abc8ac4ff69"
   },
   "outputs": [],
   "source": [
    "x_train, x_test, y_train, y_test = train_test_split(input, output, test_size = 0.3, random_state = 42, stratify= data.target, shuffle = True)\n",
    "\n",
    "x_train = torch.FloatTensor(x_train).to(device)\n",
    "y_train = torch.LongTensor(y_train).to(device)\n",
    "x_test = torch.FloatTensor(x_test)\n",
    "y_test = torch.LongTensor(y_test)"
   ]
  },
  {
   "cell_type": "code",
   "execution_count": 187,
   "metadata": {
    "id": "Ag7LJBdCknlj"
   },
   "outputs": [],
   "source": [
    "from torch.utils.data import Dataset\n",
    "class CustomDataset(Dataset):\n",
    "  def __init__(self): # 데이터셋의 입력 데이터/ 출력 데이터 초기화\n",
    "    self.x_data = x_train\n",
    "    self.y_data = [[y] for y in y_train]\n",
    "#  데이터셋의 전처리를 해주는 부분\n",
    "\n",
    "  def __len__(self):\n",
    "    return len(self.x_data)\n",
    "#  데이터셋의 길이. 즉, 총 샘플의 수를 적어주는 부분\n",
    "\n",
    "  def __getitem__(self, idx): # 특정 인덱스에 해당하는\n",
    "    x = torch.FloatTensor(self.x_data[idx]).to(device)\n",
    "    y = torch.LongTensor(self.y_data[idx]).to(device)\n",
    "#  데이터셋에서 특정 1개의 샘플을 가져오는 함수\n",
    "\n",
    "    return x,y"
   ]
  },
  {
   "cell_type": "code",
   "execution_count": 188,
   "metadata": {
    "id": "BesDr853knlk"
   },
   "outputs": [],
   "source": [
    "batch_size = 8\n",
    "\n",
    "dataset = CustomDataset() # 객체를 생성해서 커스텀데이터셋 만듬\n",
    "dataloader = DataLoader(dataset, batch_size=batch_size) # 데이터셋, 배치 크기 전달"
   ]
  },
  {
   "cell_type": "code",
   "execution_count": 189,
   "metadata": {
    "id": "v1NyY_Ifknll"
   },
   "outputs": [],
   "source": [
    "# input_layer와 hidden_layer의 노드 개수를 어떻게 바꿔줘야할까?\n",
    "# hidden layer/neuron 수를 바꾸기\n",
    "\n",
    "model = nn.Sequential(\n",
    "          nn.Linear(64,1257, bias=True),\n",
    "          nn.Sigmoid(),\n",
    "          nn.Linear(1257,30, bias=True),\n",
    "          nn.Sigmoid(),\n",
    "          nn.Linear(30,15, bias=True),\n",
    "          nn.Sigmoid(),\n",
    "          nn.Linear(15,10, bias=True),\n",
    "\n",
    "          nn.Softmax()\n",
    "          ).to(device)"
   ]
  },
  {
   "cell_type": "code",
   "execution_count": 190,
   "metadata": {
    "id": "Q4Lz69-_knlm"
   },
   "outputs": [],
   "source": [
    "class Model(torch.nn.Module):\n",
    "\n",
    "  def __init__(self):\n",
    "    super(Model, self).__init__()\n",
    "    self.layer1 = nn.Sequential(\n",
    "          nn.Linear(64,1257, bias=True), # input_layer = 30, hidden_layer1 = 398\n",
    "          nn.Sigmoid(),\n",
    "        nn.BatchNorm1d(1257)\n",
    "    )\n",
    "  # activation function 이용\n",
    "  #   nn.ReLU()\n",
    "  #   nn.tanH()\n",
    "  #   https://pytorch.org/docs/stable/nn.html 그 외에도 여기서 확인 가능함\n",
    "  #   파라미터가 필요하지 않다는 것이 특징\n",
    "\n",
    "  # batch normazliation 1d, 파라미터 값으로 vector의 길이를 전해줌\n",
    "  # 추후에 이미지를 다루게 된다면, 그때는 batch normalization 2d를 이용하게 됨\n",
    "  # 그때는 파라미터 값으로 채널, 가로, 세로 길이를 전달해주게 됨\n",
    "\n",
    "    self.layer2 = nn.Sequential(\n",
    "          nn.Linear(1257,30, bias=True), # hidden_layer1 = 398, hidden_layer2 = 30\n",
    "        nn.Sigmoid()\n",
    "    )\n",
    "    self.layer3 = nn.Sequential(\n",
    "          nn.Linear(30,15, bias=True), # hidden_layer1 = 30, hidden_layer2 = 15\n",
    "\n",
    "        nn.Sigmoid()\n",
    "    )\n",
    "\n",
    "    self.layer4 = nn.Sequential(\n",
    "          nn.Linear(15, 10, bias=True), # hidden_layer3 = 15, output_layer = 10\n",
    "\n",
    "        nn.Softmax()\n",
    "    )\n",
    "\n",
    "  def forward(self,x):\n",
    "    output = self.layer1(x)\n",
    "    output = self.layer2(output)\n",
    "    output = self.layer3(output)\n",
    "    output = self.layer4(output)\n",
    "    return output"
   ]
  },
  {
   "cell_type": "code",
   "execution_count": 191,
   "metadata": {
    "id": "tljsaOO9knln"
   },
   "outputs": [],
   "source": [
    "def init_weights(layer):\n",
    "    if isinstance(layer, nn.Linear):\n",
    "        torch.nn.init.xavier_uniform(layer.weight)\n",
    "        layer.bias.data.fill_(0.01)\n",
    "\n",
    "        #xavier사용\n",
    "        # Layer의 weight를 어떤 분포를 가지도록 초기화시켜줌+global minimum찾기 위해서"
   ]
  },
  {
   "cell_type": "code",
   "execution_count": 192,
   "metadata": {
    "colab": {
     "base_uri": "https://localhost:8080/"
    },
    "id": "TAzXoOo7knln",
    "outputId": "f4ce1d8d-17be-4495-cf45-9c04ad8720c9",
    "scrolled": true
   },
   "outputs": [
    {
     "name": "stderr",
     "output_type": "stream",
     "text": [
      "C:\\Users\\withy\\AppData\\Local\\Temp\\ipykernel_8516\\2101624760.py:3: UserWarning: nn.init.xavier_uniform is now deprecated in favor of nn.init.xavier_uniform_.\n",
      "  torch.nn.init.xavier_uniform(layer.weight)\n"
     ]
    },
    {
     "data": {
      "text/plain": [
       "Model(\n",
       "  (layer1): Sequential(\n",
       "    (0): Linear(in_features=64, out_features=1257, bias=True)\n",
       "    (1): Sigmoid()\n",
       "    (2): BatchNorm1d(1257, eps=1e-05, momentum=0.1, affine=True, track_running_stats=True)\n",
       "  )\n",
       "  (layer2): Sequential(\n",
       "    (0): Linear(in_features=1257, out_features=30, bias=True)\n",
       "    (1): Sigmoid()\n",
       "  )\n",
       "  (layer3): Sequential(\n",
       "    (0): Linear(in_features=30, out_features=15, bias=True)\n",
       "    (1): Sigmoid()\n",
       "  )\n",
       "  (layer4): Sequential(\n",
       "    (0): Linear(in_features=15, out_features=10, bias=True)\n",
       "    (1): Softmax(dim=None)\n",
       "  )\n",
       ")"
      ]
     },
     "execution_count": 192,
     "metadata": {},
     "output_type": "execute_result"
    }
   ],
   "source": [
    "model = Model().to(device)\n",
    "model.apply(init_weights)"
   ]
  },
  {
   "cell_type": "code",
   "execution_count": 193,
   "metadata": {
    "colab": {
     "base_uri": "https://localhost:8080/"
    },
    "id": "0xGxTfOmknlo",
    "outputId": "046038aa-e779-4a25-de12-bf88204a8cba",
    "scrolled": false
   },
   "outputs": [
    {
     "name": "stdout",
     "output_type": "stream",
     "text": [
      "Model(\n",
      "  (layer1): Sequential(\n",
      "    (0): Linear(in_features=64, out_features=1257, bias=True)\n",
      "    (1): Sigmoid()\n",
      "    (2): BatchNorm1d(1257, eps=1e-05, momentum=0.1, affine=True, track_running_stats=True)\n",
      "  )\n",
      "  (layer2): Sequential(\n",
      "    (0): Linear(in_features=1257, out_features=30, bias=True)\n",
      "    (1): Sigmoid()\n",
      "  )\n",
      "  (layer3): Sequential(\n",
      "    (0): Linear(in_features=30, out_features=15, bias=True)\n",
      "    (1): Sigmoid()\n",
      "  )\n",
      "  (layer4): Sequential(\n",
      "    (0): Linear(in_features=15, out_features=10, bias=True)\n",
      "    (1): Softmax(dim=None)\n",
      "  )\n",
      ")\n"
     ]
    }
   ],
   "source": [
    "print(model)"
   ]
  },
  {
   "cell_type": "code",
   "execution_count": 194,
   "metadata": {
    "id": "KRrAWkZtknlp"
   },
   "outputs": [],
   "source": [
    "loss_fn  = nn.CrossEntropyLoss().to(device)\n",
    "\n",
    "# 여러가지 optimizer 시도해보기\n",
    "# lr 바꿔보기\n",
    "\n",
    "optimizer = optim.SGD(model.parameters(), lr= 0.03)\n",
    "\n",
    "# https://pytorch.org/docs/stable/optim.html#module-torch.optim 페이지 참조\n",
    "# optimizer = optim.SGD(model.parameters(), lr=0.1, momentum=0.9)\n",
    "# sgd 등등"
   ]
  },
  {
   "cell_type": "code",
   "execution_count": 195,
   "metadata": {
    "colab": {
     "base_uri": "https://localhost:8080/",
     "height": 535
    },
    "id": "svdRvp0cknlq",
    "outputId": "8741ab20-71a2-4fe4-a4c6-bf2887270acd",
    "scrolled": true
   },
   "outputs": [
    {
     "name": "stderr",
     "output_type": "stream",
     "text": [
      "C:\\Users\\withy\\anaconda3\\Lib\\site-packages\\torch\\nn\\modules\\module.py:1518: UserWarning: Implicit dimension choice for softmax has been deprecated. Change the call to include dim=X as an argument.\n",
      "  return self._call_impl(*args, **kwargs)\n"
     ]
    },
    {
     "name": "stdout",
     "output_type": "stream",
     "text": [
      "0 2.3041915893554688\n",
      "10 2.3032777309417725\n",
      "20 2.302344560623169\n",
      "30 2.3013899326324463\n",
      "40 2.3004140853881836\n",
      "50 2.299417018890381\n",
      "60 2.298398733139038\n",
      "70 2.29736065864563\n",
      "80 2.2963078022003174\n",
      "90 2.2952466011047363\n"
     ]
    }
   ],
   "source": [
    "losses = []\n",
    "for epoch in range(100):\n",
    "\n",
    "  optimizer.zero_grad()\n",
    "  hypothesis = model(x_train)\n",
    "\n",
    "  # 비용 함수\n",
    "  cost = loss_fn(hypothesis, y_train)\n",
    "  cost.backward()\n",
    "  optimizer.step()\n",
    "  losses.append(cost.item())\n",
    "\n",
    "  if epoch % 10 == 0:\n",
    "    print(epoch, cost.item())"
   ]
  },
  {
   "cell_type": "code",
   "execution_count": 196,
   "metadata": {
    "id": "Eg0WnBx-knlr",
    "scrolled": true
   },
   "outputs": [
    {
     "data": {
      "image/png": "[encoded data removed]",
      "text/plain": [
       "<Figure size 640x480 with 1 Axes>"
      ]
     },
     "metadata": {},
     "output_type": "display_data"
    }
   ],
   "source": [
    "plt.plot(losses)\n",
    "plt.show()"
   ]
  },
  {
   "cell_type": "code",
   "execution_count": 197,
   "metadata": {
    "id": "2Qvsoi55knlr"
   },
   "outputs": [],
   "source": [
    "with torch.no_grad():\n",
    "  model = model.to('cpu')\n",
    "  y_pred = model(x_test)\n",
    "  y_pred = y_pred.detach().numpy()\n",
    "  predicted = np.argmax(y_pred, axis =1)\n",
    "  accuracy = (accuracy_score(predicted, y_test))"
   ]
  },
  {
   "cell_type": "code",
   "execution_count": 198,
   "metadata": {
    "id": "54n5gswmknls",
    "scrolled": true
   },
   "outputs": [
    {
     "name": "stdout",
     "output_type": "stream",
     "text": [
      "model의 output은 :  [0.06043788 0.1107979  0.08877682 0.04458142 0.08100642 0.18553166\n",
      " 0.1346074  0.13478224 0.08354851 0.07592972]\n",
      "argmax를 한 후의 output은 5\n",
      "accuracy는 0.10185185185185185\n"
     ]
    }
   ],
   "source": [
    "print(f'model의 output은 :  {y_pred[0]}')\n",
    "print(f'argmax를 한 후의 output은 {predicted[0]}')\n",
    "print(f'accuracy는 {accuracy}')"
   ]
  },
  {
   "cell_type": "markdown",
   "metadata": {},
   "source": [
    "시도9\\\n",
    "활성화함수 : Sigmoid \\\n",
    "optimizer : Adagrad 사용 lr= 0.03 \\\n",
    "accuracy : 0.9814"
   ]
  },
  {
   "cell_type": "code",
   "execution_count": 199,
   "metadata": {
    "id": "pWz1xrxfhbys"
   },
   "outputs": [],
   "source": [
    "from sklearn.datasets import load_digits\n",
    "data=load_digits()"
   ]
  },
  {
   "cell_type": "code",
   "execution_count": 200,
   "metadata": {
    "colab": {
     "base_uri": "https://localhost:8080/"
    },
    "id": "xotMguliknle",
    "outputId": "5d422448-5b3d-41e2-d0a3-1c0d1a015d3e",
    "scrolled": true
   },
   "outputs": [],
   "source": [
    "input = data.data \n",
    "output = data.target "
   ]
  },
  {
   "cell_type": "code",
   "execution_count": 201,
   "metadata": {
    "id": "am_BHq20knlg"
   },
   "outputs": [],
   "source": [
    "device = 'cuda' if torch.cuda.is_available() else 'cpu'\n",
    "\n",
    "torch.manual_seed(777)\n",
    "if device == \"cuda\":\n",
    "  torch.cuda.manual_seed_all(777)"
   ]
  },
  {
   "cell_type": "code",
   "execution_count": 202,
   "metadata": {
    "colab": {
     "base_uri": "https://localhost:8080/"
    },
    "id": "DTR0WNjNknlh",
    "outputId": "97df75bd-0c98-466b-ae70-6abc8ac4ff69"
   },
   "outputs": [],
   "source": [
    "x_train, x_test, y_train, y_test = train_test_split(input, output, test_size = 0.3, random_state = 42, stratify= data.target, shuffle = True)\n",
    "\n",
    "x_train = torch.FloatTensor(x_train).to(device)\n",
    "y_train = torch.LongTensor(y_train).to(device)\n",
    "x_test = torch.FloatTensor(x_test)\n",
    "y_test = torch.LongTensor(y_test)"
   ]
  },
  {
   "cell_type": "code",
   "execution_count": 203,
   "metadata": {
    "id": "Ag7LJBdCknlj"
   },
   "outputs": [],
   "source": [
    "from torch.utils.data import Dataset\n",
    "class CustomDataset(Dataset):\n",
    "  def __init__(self): # 데이터셋의 입력 데이터/ 출력 데이터 초기화\n",
    "    self.x_data = x_train\n",
    "    self.y_data = [[y] for y in y_train]\n",
    "#  데이터셋의 전처리를 해주는 부분\n",
    "\n",
    "  def __len__(self):\n",
    "    return len(self.x_data)\n",
    "#  데이터셋의 길이. 즉, 총 샘플의 수를 적어주는 부분\n",
    "\n",
    "  def __getitem__(self, idx): # 특정 인덱스에 해당하는\n",
    "    x = torch.FloatTensor(self.x_data[idx]).to(device)\n",
    "    y = torch.LongTensor(self.y_data[idx]).to(device)\n",
    "#  데이터셋에서 특정 1개의 샘플을 가져오는 함수\n",
    "\n",
    "    return x,y"
   ]
  },
  {
   "cell_type": "code",
   "execution_count": 204,
   "metadata": {
    "id": "BesDr853knlk"
   },
   "outputs": [],
   "source": [
    "batch_size = 8\n",
    "\n",
    "dataset = CustomDataset() # 객체를 생성해서 커스텀데이터셋 만듬\n",
    "dataloader = DataLoader(dataset, batch_size=batch_size) # 데이터셋, 배치 크기 전달"
   ]
  },
  {
   "cell_type": "code",
   "execution_count": 205,
   "metadata": {
    "id": "v1NyY_Ifknll"
   },
   "outputs": [],
   "source": [
    "# input_layer와 hidden_layer의 노드 개수를 어떻게 바꿔줘야할까?\n",
    "# hidden layer/neuron 수를 바꾸기\n",
    "\n",
    "model = nn.Sequential(\n",
    "          nn.Linear(64,1257, bias=True),\n",
    "          nn.Sigmoid(),\n",
    "          nn.Linear(1257,30, bias=True),\n",
    "          nn.Sigmoid(),\n",
    "          nn.Linear(30,15, bias=True),\n",
    "          nn.Sigmoid(),\n",
    "          nn.Linear(15,10, bias=True),\n",
    "\n",
    "          nn.Softmax()\n",
    "          ).to(device)"
   ]
  },
  {
   "cell_type": "code",
   "execution_count": 206,
   "metadata": {
    "id": "Q4Lz69-_knlm"
   },
   "outputs": [],
   "source": [
    "class Model(torch.nn.Module):\n",
    "\n",
    "  def __init__(self):\n",
    "    super(Model, self).__init__()\n",
    "    self.layer1 = nn.Sequential(\n",
    "          nn.Linear(64,1257, bias=True), # input_layer = 30, hidden_layer1 = 398\n",
    "          nn.Sigmoid(),\n",
    "        nn.BatchNorm1d(1257)\n",
    "    )\n",
    "  # activation function 이용\n",
    "  #   nn.ReLU()\n",
    "  #   nn.tanH()\n",
    "  #   https://pytorch.org/docs/stable/nn.html 그 외에도 여기서 확인 가능함\n",
    "  #   파라미터가 필요하지 않다는 것이 특징\n",
    "\n",
    "  # batch normazliation 1d, 파라미터 값으로 vector의 길이를 전해줌\n",
    "  # 추후에 이미지를 다루게 된다면, 그때는 batch normalization 2d를 이용하게 됨\n",
    "  # 그때는 파라미터 값으로 채널, 가로, 세로 길이를 전달해주게 됨\n",
    "\n",
    "    self.layer2 = nn.Sequential(\n",
    "          nn.Linear(1257,30, bias=True), # hidden_layer1 = 398, hidden_layer2 = 30\n",
    "        nn.Sigmoid()\n",
    "    )\n",
    "    self.layer3 = nn.Sequential(\n",
    "          nn.Linear(30,15, bias=True), # hidden_layer1 = 30, hidden_layer2 = 15\n",
    "\n",
    "        nn.Sigmoid()\n",
    "    )\n",
    "\n",
    "    self.layer4 = nn.Sequential(\n",
    "          nn.Linear(15, 10, bias=True), # hidden_layer3 = 15, output_layer = 10\n",
    "\n",
    "        nn.Softmax()\n",
    "    )\n",
    "\n",
    "  def forward(self,x):\n",
    "    output = self.layer1(x)\n",
    "    output = self.layer2(output)\n",
    "    output = self.layer3(output)\n",
    "    output = self.layer4(output)\n",
    "    return output"
   ]
  },
  {
   "cell_type": "code",
   "execution_count": 207,
   "metadata": {
    "id": "tljsaOO9knln"
   },
   "outputs": [],
   "source": [
    "def init_weights(layer):\n",
    "    if isinstance(layer, nn.Linear):\n",
    "        torch.nn.init.xavier_uniform(layer.weight)\n",
    "        layer.bias.data.fill_(0.01)\n",
    "\n",
    "        #xavier사용\n",
    "        # Layer의 weight를 어떤 분포를 가지도록 초기화시켜줌+global minimum찾기 위해서"
   ]
  },
  {
   "cell_type": "code",
   "execution_count": 208,
   "metadata": {
    "colab": {
     "base_uri": "https://localhost:8080/"
    },
    "id": "TAzXoOo7knln",
    "outputId": "f4ce1d8d-17be-4495-cf45-9c04ad8720c9",
    "scrolled": true
   },
   "outputs": [
    {
     "name": "stderr",
     "output_type": "stream",
     "text": [
      "C:\\Users\\withy\\AppData\\Local\\Temp\\ipykernel_8516\\2101624760.py:3: UserWarning: nn.init.xavier_uniform is now deprecated in favor of nn.init.xavier_uniform_.\n",
      "  torch.nn.init.xavier_uniform(layer.weight)\n"
     ]
    },
    {
     "data": {
      "text/plain": [
       "Model(\n",
       "  (layer1): Sequential(\n",
       "    (0): Linear(in_features=64, out_features=1257, bias=True)\n",
       "    (1): Sigmoid()\n",
       "    (2): BatchNorm1d(1257, eps=1e-05, momentum=0.1, affine=True, track_running_stats=True)\n",
       "  )\n",
       "  (layer2): Sequential(\n",
       "    (0): Linear(in_features=1257, out_features=30, bias=True)\n",
       "    (1): Sigmoid()\n",
       "  )\n",
       "  (layer3): Sequential(\n",
       "    (0): Linear(in_features=30, out_features=15, bias=True)\n",
       "    (1): Sigmoid()\n",
       "  )\n",
       "  (layer4): Sequential(\n",
       "    (0): Linear(in_features=15, out_features=10, bias=True)\n",
       "    (1): Softmax(dim=None)\n",
       "  )\n",
       ")"
      ]
     },
     "execution_count": 208,
     "metadata": {},
     "output_type": "execute_result"
    }
   ],
   "source": [
    "model = Model().to(device)\n",
    "model.apply(init_weights)"
   ]
  },
  {
   "cell_type": "code",
   "execution_count": 209,
   "metadata": {
    "colab": {
     "base_uri": "https://localhost:8080/"
    },
    "id": "0xGxTfOmknlo",
    "outputId": "046038aa-e779-4a25-de12-bf88204a8cba",
    "scrolled": false
   },
   "outputs": [
    {
     "name": "stdout",
     "output_type": "stream",
     "text": [
      "Model(\n",
      "  (layer1): Sequential(\n",
      "    (0): Linear(in_features=64, out_features=1257, bias=True)\n",
      "    (1): Sigmoid()\n",
      "    (2): BatchNorm1d(1257, eps=1e-05, momentum=0.1, affine=True, track_running_stats=True)\n",
      "  )\n",
      "  (layer2): Sequential(\n",
      "    (0): Linear(in_features=1257, out_features=30, bias=True)\n",
      "    (1): Sigmoid()\n",
      "  )\n",
      "  (layer3): Sequential(\n",
      "    (0): Linear(in_features=30, out_features=15, bias=True)\n",
      "    (1): Sigmoid()\n",
      "  )\n",
      "  (layer4): Sequential(\n",
      "    (0): Linear(in_features=15, out_features=10, bias=True)\n",
      "    (1): Softmax(dim=None)\n",
      "  )\n",
      ")\n"
     ]
    }
   ],
   "source": [
    "print(model)"
   ]
  },
  {
   "cell_type": "code",
   "execution_count": 210,
   "metadata": {
    "id": "KRrAWkZtknlp"
   },
   "outputs": [],
   "source": [
    "loss_fn  = nn.CrossEntropyLoss().to(device)\n",
    "\n",
    "# 여러가지 optimizer 시도해보기\n",
    "# lr 바꿔보기\n",
    "\n",
    "optimizer = optim.Adagrad(model.parameters(), lr= 0.03)\n",
    "\n",
    "# https://pytorch.org/docs/stable/optim.html#module-torch.optim 페이지 참조\n",
    "# optimizer = optim.SGD(model.parameters(), lr=0.1, momentum=0.9)\n",
    "# sgd 등등"
   ]
  },
  {
   "cell_type": "code",
   "execution_count": 211,
   "metadata": {
    "colab": {
     "base_uri": "https://localhost:8080/",
     "height": 535
    },
    "id": "svdRvp0cknlq",
    "outputId": "8741ab20-71a2-4fe4-a4c6-bf2887270acd",
    "scrolled": true
   },
   "outputs": [
    {
     "name": "stderr",
     "output_type": "stream",
     "text": [
      "C:\\Users\\withy\\anaconda3\\Lib\\site-packages\\torch\\nn\\modules\\module.py:1518: UserWarning: Implicit dimension choice for softmax has been deprecated. Change the call to include dim=X as an argument.\n",
      "  return self._call_impl(*args, **kwargs)\n"
     ]
    },
    {
     "name": "stdout",
     "output_type": "stream",
     "text": [
      "0 2.3041915893554688\n",
      "10 2.0832858085632324\n",
      "20 1.9182037115097046\n",
      "30 1.8148518800735474\n",
      "40 1.7434285879135132\n",
      "50 1.6961183547973633\n",
      "60 1.6633251905441284\n",
      "70 1.6334000825881958\n",
      "80 1.5975643396377563\n",
      "90 1.5693556070327759\n"
     ]
    }
   ],
   "source": [
    "losses = []\n",
    "for epoch in range(100):\n",
    "\n",
    "  optimizer.zero_grad()\n",
    "  hypothesis = model(x_train)\n",
    "\n",
    "  # 비용 함수\n",
    "  cost = loss_fn(hypothesis, y_train)\n",
    "  cost.backward()\n",
    "  optimizer.step()\n",
    "  losses.append(cost.item())\n",
    "\n",
    "  if epoch % 10 == 0:\n",
    "    print(epoch, cost.item())"
   ]
  },
  {
   "cell_type": "code",
   "execution_count": 212,
   "metadata": {
    "id": "Eg0WnBx-knlr",
    "scrolled": true
   },
   "outputs": [
    {
     "data": {
      "image/png": "[encoded data removed]",
      "text/plain": [
       "<Figure size 640x480 with 1 Axes>"
      ]
     },
     "metadata": {},
     "output_type": "display_data"
    }
   ],
   "source": [
    "plt.plot(losses)\n",
    "plt.show()"
   ]
  },
  {
   "cell_type": "code",
   "execution_count": 213,
   "metadata": {
    "id": "2Qvsoi55knlr"
   },
   "outputs": [],
   "source": [
    "with torch.no_grad():\n",
    "  model = model.to('cpu')\n",
    "  y_pred = model(x_test)\n",
    "  y_pred = y_pred.detach().numpy()\n",
    "  predicted = np.argmax(y_pred, axis =1)\n",
    "  accuracy = (accuracy_score(predicted, y_test))"
   ]
  },
  {
   "cell_type": "code",
   "execution_count": 214,
   "metadata": {
    "id": "54n5gswmknls",
    "scrolled": true
   },
   "outputs": [
    {
     "name": "stdout",
     "output_type": "stream",
     "text": [
      "model의 output은 :  [1.2902717e-02 9.4418424e-01 9.3341991e-03 6.7041302e-03 3.7883215e-03\n",
      " 3.5213935e-03 3.8744695e-03 7.2605931e-03 8.1189023e-03 3.1087067e-04]\n",
      "argmax를 한 후의 output은 1\n",
      "accuracy는 0.9814814814814815\n"
     ]
    }
   ],
   "source": [
    "print(f'model의 output은 :  {y_pred[0]}')\n",
    "print(f'argmax를 한 후의 output은 {predicted[0]}')\n",
    "print(f'accuracy는 {accuracy}')"
   ]
  },
  {
   "cell_type": "markdown",
   "metadata": {},
   "source": [
    "시도9-1\\\n",
    "활성화함수 : Sigmoid \\\n",
    "optimizer : Adagrad 사용 lr= 0.01 \\\n",
    "accuracy : 0.8926 -> 오히려 감소"
   ]
  },
  {
   "cell_type": "code",
   "execution_count": 215,
   "metadata": {
    "id": "pWz1xrxfhbys"
   },
   "outputs": [],
   "source": [
    "from sklearn.datasets import load_digits\n",
    "data=load_digits()"
   ]
  },
  {
   "cell_type": "code",
   "execution_count": 216,
   "metadata": {
    "colab": {
     "base_uri": "https://localhost:8080/"
    },
    "id": "xotMguliknle",
    "outputId": "5d422448-5b3d-41e2-d0a3-1c0d1a015d3e",
    "scrolled": true
   },
   "outputs": [],
   "source": [
    "input = data.data \n",
    "output = data.target "
   ]
  },
  {
   "cell_type": "code",
   "execution_count": 217,
   "metadata": {
    "id": "am_BHq20knlg"
   },
   "outputs": [],
   "source": [
    "device = 'cuda' if torch.cuda.is_available() else 'cpu'\n",
    "\n",
    "torch.manual_seed(777)\n",
    "if device == \"cuda\":\n",
    "  torch.cuda.manual_seed_all(777)"
   ]
  },
  {
   "cell_type": "code",
   "execution_count": 218,
   "metadata": {
    "colab": {
     "base_uri": "https://localhost:8080/"
    },
    "id": "DTR0WNjNknlh",
    "outputId": "97df75bd-0c98-466b-ae70-6abc8ac4ff69"
   },
   "outputs": [],
   "source": [
    "x_train, x_test, y_train, y_test = train_test_split(input, output, test_size = 0.3, random_state = 42, stratify= data.target, shuffle = True)\n",
    "\n",
    "x_train = torch.FloatTensor(x_train).to(device)\n",
    "y_train = torch.LongTensor(y_train).to(device)\n",
    "x_test = torch.FloatTensor(x_test)\n",
    "y_test = torch.LongTensor(y_test)"
   ]
  },
  {
   "cell_type": "code",
   "execution_count": 219,
   "metadata": {
    "id": "Ag7LJBdCknlj"
   },
   "outputs": [],
   "source": [
    "from torch.utils.data import Dataset\n",
    "class CustomDataset(Dataset):\n",
    "  def __init__(self): # 데이터셋의 입력 데이터/ 출력 데이터 초기화\n",
    "    self.x_data = x_train\n",
    "    self.y_data = [[y] for y in y_train]\n",
    "#  데이터셋의 전처리를 해주는 부분\n",
    "\n",
    "  def __len__(self):\n",
    "    return len(self.x_data)\n",
    "#  데이터셋의 길이. 즉, 총 샘플의 수를 적어주는 부분\n",
    "\n",
    "  def __getitem__(self, idx): # 특정 인덱스에 해당하는\n",
    "    x = torch.FloatTensor(self.x_data[idx]).to(device)\n",
    "    y = torch.LongTensor(self.y_data[idx]).to(device)\n",
    "#  데이터셋에서 특정 1개의 샘플을 가져오는 함수\n",
    "\n",
    "    return x,y"
   ]
  },
  {
   "cell_type": "code",
   "execution_count": 220,
   "metadata": {
    "id": "BesDr853knlk"
   },
   "outputs": [],
   "source": [
    "batch_size = 8\n",
    "\n",
    "dataset = CustomDataset() # 객체를 생성해서 커스텀데이터셋 만듬\n",
    "dataloader = DataLoader(dataset, batch_size=batch_size) # 데이터셋, 배치 크기 전달"
   ]
  },
  {
   "cell_type": "code",
   "execution_count": 221,
   "metadata": {
    "id": "v1NyY_Ifknll"
   },
   "outputs": [],
   "source": [
    "# input_layer와 hidden_layer의 노드 개수를 어떻게 바꿔줘야할까?\n",
    "# hidden layer/neuron 수를 바꾸기\n",
    "\n",
    "model = nn.Sequential(\n",
    "          nn.Linear(64,1257, bias=True),\n",
    "          nn.Sigmoid(),\n",
    "          nn.Linear(1257,30, bias=True),\n",
    "          nn.Sigmoid(),\n",
    "          nn.Linear(30,15, bias=True),\n",
    "          nn.Sigmoid(),\n",
    "          nn.Linear(15,10, bias=True),\n",
    "\n",
    "          nn.Softmax()\n",
    "          ).to(device)"
   ]
  },
  {
   "cell_type": "code",
   "execution_count": 222,
   "metadata": {
    "id": "Q4Lz69-_knlm"
   },
   "outputs": [],
   "source": [
    "class Model(torch.nn.Module):\n",
    "\n",
    "  def __init__(self):\n",
    "    super(Model, self).__init__()\n",
    "    self.layer1 = nn.Sequential(\n",
    "          nn.Linear(64,1257, bias=True), # input_layer = 30, hidden_layer1 = 398\n",
    "          nn.Sigmoid(),\n",
    "        nn.BatchNorm1d(1257)\n",
    "    )\n",
    "  # activation function 이용\n",
    "  #   nn.ReLU()\n",
    "  #   nn.tanH()\n",
    "  #   https://pytorch.org/docs/stable/nn.html 그 외에도 여기서 확인 가능함\n",
    "  #   파라미터가 필요하지 않다는 것이 특징\n",
    "\n",
    "  # batch normazliation 1d, 파라미터 값으로 vector의 길이를 전해줌\n",
    "  # 추후에 이미지를 다루게 된다면, 그때는 batch normalization 2d를 이용하게 됨\n",
    "  # 그때는 파라미터 값으로 채널, 가로, 세로 길이를 전달해주게 됨\n",
    "\n",
    "    self.layer2 = nn.Sequential(\n",
    "          nn.Linear(1257,30, bias=True), # hidden_layer1 = 398, hidden_layer2 = 30\n",
    "        nn.Sigmoid()\n",
    "    )\n",
    "    self.layer3 = nn.Sequential(\n",
    "          nn.Linear(30,15, bias=True), # hidden_layer1 = 30, hidden_layer2 = 15\n",
    "\n",
    "        nn.Sigmoid()\n",
    "    )\n",
    "\n",
    "    self.layer4 = nn.Sequential(\n",
    "          nn.Linear(15, 10, bias=True), # hidden_layer3 = 15, output_layer = 10\n",
    "\n",
    "        nn.Softmax()\n",
    "    )\n",
    "\n",
    "  def forward(self,x):\n",
    "    output = self.layer1(x)\n",
    "    output = self.layer2(output)\n",
    "    output = self.layer3(output)\n",
    "    output = self.layer4(output)\n",
    "    return output"
   ]
  },
  {
   "cell_type": "code",
   "execution_count": 223,
   "metadata": {
    "id": "tljsaOO9knln"
   },
   "outputs": [],
   "source": [
    "def init_weights(layer):\n",
    "    if isinstance(layer, nn.Linear):\n",
    "        torch.nn.init.xavier_uniform(layer.weight)\n",
    "        layer.bias.data.fill_(0.01)\n",
    "\n",
    "        #xavier사용\n",
    "        # Layer의 weight를 어떤 분포를 가지도록 초기화시켜줌+global minimum찾기 위해서"
   ]
  },
  {
   "cell_type": "code",
   "execution_count": 224,
   "metadata": {
    "colab": {
     "base_uri": "https://localhost:8080/"
    },
    "id": "TAzXoOo7knln",
    "outputId": "f4ce1d8d-17be-4495-cf45-9c04ad8720c9",
    "scrolled": true
   },
   "outputs": [
    {
     "name": "stderr",
     "output_type": "stream",
     "text": [
      "C:\\Users\\withy\\AppData\\Local\\Temp\\ipykernel_8516\\2101624760.py:3: UserWarning: nn.init.xavier_uniform is now deprecated in favor of nn.init.xavier_uniform_.\n",
      "  torch.nn.init.xavier_uniform(layer.weight)\n"
     ]
    },
    {
     "data": {
      "text/plain": [
       "Model(\n",
       "  (layer1): Sequential(\n",
       "    (0): Linear(in_features=64, out_features=1257, bias=True)\n",
       "    (1): Sigmoid()\n",
       "    (2): BatchNorm1d(1257, eps=1e-05, momentum=0.1, affine=True, track_running_stats=True)\n",
       "  )\n",
       "  (layer2): Sequential(\n",
       "    (0): Linear(in_features=1257, out_features=30, bias=True)\n",
       "    (1): Sigmoid()\n",
       "  )\n",
       "  (layer3): Sequential(\n",
       "    (0): Linear(in_features=30, out_features=15, bias=True)\n",
       "    (1): Sigmoid()\n",
       "  )\n",
       "  (layer4): Sequential(\n",
       "    (0): Linear(in_features=15, out_features=10, bias=True)\n",
       "    (1): Softmax(dim=None)\n",
       "  )\n",
       ")"
      ]
     },
     "execution_count": 224,
     "metadata": {},
     "output_type": "execute_result"
    }
   ],
   "source": [
    "model = Model().to(device)\n",
    "model.apply(init_weights)"
   ]
  },
  {
   "cell_type": "code",
   "execution_count": 225,
   "metadata": {
    "colab": {
     "base_uri": "https://localhost:8080/"
    },
    "id": "0xGxTfOmknlo",
    "outputId": "046038aa-e779-4a25-de12-bf88204a8cba",
    "scrolled": false
   },
   "outputs": [
    {
     "name": "stdout",
     "output_type": "stream",
     "text": [
      "Model(\n",
      "  (layer1): Sequential(\n",
      "    (0): Linear(in_features=64, out_features=1257, bias=True)\n",
      "    (1): Sigmoid()\n",
      "    (2): BatchNorm1d(1257, eps=1e-05, momentum=0.1, affine=True, track_running_stats=True)\n",
      "  )\n",
      "  (layer2): Sequential(\n",
      "    (0): Linear(in_features=1257, out_features=30, bias=True)\n",
      "    (1): Sigmoid()\n",
      "  )\n",
      "  (layer3): Sequential(\n",
      "    (0): Linear(in_features=30, out_features=15, bias=True)\n",
      "    (1): Sigmoid()\n",
      "  )\n",
      "  (layer4): Sequential(\n",
      "    (0): Linear(in_features=15, out_features=10, bias=True)\n",
      "    (1): Softmax(dim=None)\n",
      "  )\n",
      ")\n"
     ]
    }
   ],
   "source": [
    "print(model)"
   ]
  },
  {
   "cell_type": "code",
   "execution_count": 226,
   "metadata": {
    "id": "KRrAWkZtknlp"
   },
   "outputs": [],
   "source": [
    "loss_fn  = nn.CrossEntropyLoss().to(device)\n",
    "\n",
    "# 여러가지 optimizer 시도해보기\n",
    "# lr 바꿔보기\n",
    "\n",
    "optimizer = optim.Adagrad(model.parameters(), lr= 0.01)\n",
    "\n",
    "# https://pytorch.org/docs/stable/optim.html#module-torch.optim 페이지 참조\n",
    "# optimizer = optim.SGD(model.parameters(), lr=0.1, momentum=0.9)\n",
    "# sgd 등등"
   ]
  },
  {
   "cell_type": "code",
   "execution_count": 227,
   "metadata": {
    "colab": {
     "base_uri": "https://localhost:8080/",
     "height": 535
    },
    "id": "svdRvp0cknlq",
    "outputId": "8741ab20-71a2-4fe4-a4c6-bf2887270acd",
    "scrolled": true
   },
   "outputs": [
    {
     "name": "stderr",
     "output_type": "stream",
     "text": [
      "C:\\Users\\withy\\anaconda3\\Lib\\site-packages\\torch\\nn\\modules\\module.py:1518: UserWarning: Implicit dimension choice for softmax has been deprecated. Change the call to include dim=X as an argument.\n",
      "  return self._call_impl(*args, **kwargs)\n"
     ]
    },
    {
     "name": "stdout",
     "output_type": "stream",
     "text": [
      "0 2.3041915893554688\n",
      "10 2.199411153793335\n",
      "20 2.157423973083496\n",
      "30 2.123063325881958\n",
      "40 2.0922927856445312\n",
      "50 2.0644357204437256\n",
      "60 2.039278268814087\n",
      "70 2.015904188156128\n",
      "80 1.9940942525863647\n",
      "90 1.9729084968566895\n"
     ]
    }
   ],
   "source": [
    "losses = []\n",
    "for epoch in range(100):\n",
    "\n",
    "  optimizer.zero_grad()\n",
    "  hypothesis = model(x_train)\n",
    "\n",
    "  # 비용 함수\n",
    "  cost = loss_fn(hypothesis, y_train)\n",
    "  cost.backward()\n",
    "  optimizer.step()\n",
    "  losses.append(cost.item())\n",
    "\n",
    "  if epoch % 10 == 0:\n",
    "    print(epoch, cost.item())"
   ]
  },
  {
   "cell_type": "code",
   "execution_count": 228,
   "metadata": {
    "id": "Eg0WnBx-knlr",
    "scrolled": true
   },
   "outputs": [
    {
     "data": {
      "image/png": "[encoded data removed]",
      "text/plain": [
       "<Figure size 640x480 with 1 Axes>"
      ]
     },
     "metadata": {},
     "output_type": "display_data"
    }
   ],
   "source": [
    "plt.plot(losses)\n",
    "plt.show()"
   ]
  },
  {
   "cell_type": "code",
   "execution_count": 229,
   "metadata": {
    "id": "2Qvsoi55knlr"
   },
   "outputs": [],
   "source": [
    "with torch.no_grad():\n",
    "  model = model.to('cpu')\n",
    "  y_pred = model(x_test)\n",
    "  y_pred = y_pred.detach().numpy()\n",
    "  predicted = np.argmax(y_pred, axis =1)\n",
    "  accuracy = (accuracy_score(predicted, y_test))"
   ]
  },
  {
   "cell_type": "code",
   "execution_count": 230,
   "metadata": {
    "id": "54n5gswmknls",
    "scrolled": true
   },
   "outputs": [
    {
     "name": "stdout",
     "output_type": "stream",
     "text": [
      "model의 output은 :  [0.02651779 0.7035912  0.03098915 0.05626294 0.03709421 0.03487038\n",
      " 0.0447927  0.04228492 0.0136702  0.00992649]\n",
      "argmax를 한 후의 output은 1\n",
      "accuracy는 0.8925925925925926\n"
     ]
    }
   ],
   "source": [
    "print(f'model의 output은 :  {y_pred[0]}')\n",
    "print(f'argmax를 한 후의 output은 {predicted[0]}')\n",
    "print(f'accuracy는 {accuracy}')"
   ]
  },
  {
   "cell_type": "markdown",
   "metadata": {},
   "source": [
    "시도9-2\\\n",
    "활성화함수 : Sigmoid \\\n",
    "optimizer : Adagrad 사용 lr= 0.1 \\\n",
    "accuracy : 0.9777 -> 감소"
   ]
  },
  {
   "cell_type": "code",
   "execution_count": 231,
   "metadata": {
    "id": "pWz1xrxfhbys"
   },
   "outputs": [],
   "source": [
    "from sklearn.datasets import load_digits\n",
    "data=load_digits()"
   ]
  },
  {
   "cell_type": "code",
   "execution_count": 232,
   "metadata": {
    "colab": {
     "base_uri": "https://localhost:8080/"
    },
    "id": "xotMguliknle",
    "outputId": "5d422448-5b3d-41e2-d0a3-1c0d1a015d3e",
    "scrolled": true
   },
   "outputs": [],
   "source": [
    "input = data.data \n",
    "output = data.target "
   ]
  },
  {
   "cell_type": "code",
   "execution_count": 233,
   "metadata": {
    "id": "am_BHq20knlg"
   },
   "outputs": [],
   "source": [
    "device = 'cuda' if torch.cuda.is_available() else 'cpu'\n",
    "\n",
    "torch.manual_seed(777)\n",
    "if device == \"cuda\":\n",
    "  torch.cuda.manual_seed_all(777)"
   ]
  },
  {
   "cell_type": "code",
   "execution_count": 234,
   "metadata": {
    "colab": {
     "base_uri": "https://localhost:8080/"
    },
    "id": "DTR0WNjNknlh",
    "outputId": "97df75bd-0c98-466b-ae70-6abc8ac4ff69"
   },
   "outputs": [],
   "source": [
    "x_train, x_test, y_train, y_test = train_test_split(input, output, test_size = 0.3, random_state = 42, stratify= data.target, shuffle = True)\n",
    "\n",
    "x_train = torch.FloatTensor(x_train).to(device)\n",
    "y_train = torch.LongTensor(y_train).to(device)\n",
    "x_test = torch.FloatTensor(x_test)\n",
    "y_test = torch.LongTensor(y_test)"
   ]
  },
  {
   "cell_type": "code",
   "execution_count": 235,
   "metadata": {
    "id": "Ag7LJBdCknlj"
   },
   "outputs": [],
   "source": [
    "from torch.utils.data import Dataset\n",
    "class CustomDataset(Dataset):\n",
    "  def __init__(self): # 데이터셋의 입력 데이터/ 출력 데이터 초기화\n",
    "    self.x_data = x_train\n",
    "    self.y_data = [[y] for y in y_train]\n",
    "#  데이터셋의 전처리를 해주는 부분\n",
    "\n",
    "  def __len__(self):\n",
    "    return len(self.x_data)\n",
    "#  데이터셋의 길이. 즉, 총 샘플의 수를 적어주는 부분\n",
    "\n",
    "  def __getitem__(self, idx): # 특정 인덱스에 해당하는\n",
    "    x = torch.FloatTensor(self.x_data[idx]).to(device)\n",
    "    y = torch.LongTensor(self.y_data[idx]).to(device)\n",
    "#  데이터셋에서 특정 1개의 샘플을 가져오는 함수\n",
    "\n",
    "    return x,y"
   ]
  },
  {
   "cell_type": "code",
   "execution_count": 236,
   "metadata": {
    "id": "BesDr853knlk"
   },
   "outputs": [],
   "source": [
    "batch_size = 8\n",
    "\n",
    "dataset = CustomDataset() # 객체를 생성해서 커스텀데이터셋 만듬\n",
    "dataloader = DataLoader(dataset, batch_size=batch_size) # 데이터셋, 배치 크기 전달"
   ]
  },
  {
   "cell_type": "code",
   "execution_count": 237,
   "metadata": {
    "id": "v1NyY_Ifknll"
   },
   "outputs": [],
   "source": [
    "# input_layer와 hidden_layer의 노드 개수를 어떻게 바꿔줘야할까?\n",
    "# hidden layer/neuron 수를 바꾸기\n",
    "\n",
    "model = nn.Sequential(\n",
    "          nn.Linear(64,1257, bias=True),\n",
    "          nn.Sigmoid(),\n",
    "          nn.Linear(1257,30, bias=True),\n",
    "          nn.Sigmoid(),\n",
    "          nn.Linear(30,15, bias=True),\n",
    "          nn.Sigmoid(),\n",
    "          nn.Linear(15,10, bias=True),\n",
    "\n",
    "          nn.Softmax()\n",
    "          ).to(device)"
   ]
  },
  {
   "cell_type": "code",
   "execution_count": 238,
   "metadata": {
    "id": "Q4Lz69-_knlm"
   },
   "outputs": [],
   "source": [
    "class Model(torch.nn.Module):\n",
    "\n",
    "  def __init__(self):\n",
    "    super(Model, self).__init__()\n",
    "    self.layer1 = nn.Sequential(\n",
    "          nn.Linear(64,1257, bias=True), # input_layer = 30, hidden_layer1 = 398\n",
    "          nn.Sigmoid(),\n",
    "        nn.BatchNorm1d(1257)\n",
    "    )\n",
    "  # activation function 이용\n",
    "  #   nn.ReLU()\n",
    "  #   nn.tanH()\n",
    "  #   https://pytorch.org/docs/stable/nn.html 그 외에도 여기서 확인 가능함\n",
    "  #   파라미터가 필요하지 않다는 것이 특징\n",
    "\n",
    "  # batch normazliation 1d, 파라미터 값으로 vector의 길이를 전해줌\n",
    "  # 추후에 이미지를 다루게 된다면, 그때는 batch normalization 2d를 이용하게 됨\n",
    "  # 그때는 파라미터 값으로 채널, 가로, 세로 길이를 전달해주게 됨\n",
    "\n",
    "    self.layer2 = nn.Sequential(\n",
    "          nn.Linear(1257,30, bias=True), # hidden_layer1 = 398, hidden_layer2 = 30\n",
    "        nn.Sigmoid()\n",
    "    )\n",
    "    self.layer3 = nn.Sequential(\n",
    "          nn.Linear(30,15, bias=True), # hidden_layer1 = 30, hidden_layer2 = 15\n",
    "\n",
    "        nn.Sigmoid()\n",
    "    )\n",
    "\n",
    "    self.layer4 = nn.Sequential(\n",
    "          nn.Linear(15, 10, bias=True), # hidden_layer3 = 15, output_layer = 10\n",
    "\n",
    "        nn.Softmax()\n",
    "    )\n",
    "\n",
    "  def forward(self,x):\n",
    "    output = self.layer1(x)\n",
    "    output = self.layer2(output)\n",
    "    output = self.layer3(output)\n",
    "    output = self.layer4(output)\n",
    "    return output"
   ]
  },
  {
   "cell_type": "code",
   "execution_count": 239,
   "metadata": {
    "id": "tljsaOO9knln"
   },
   "outputs": [],
   "source": [
    "def init_weights(layer):\n",
    "    if isinstance(layer, nn.Linear):\n",
    "        torch.nn.init.xavier_uniform(layer.weight)\n",
    "        layer.bias.data.fill_(0.01)\n",
    "\n",
    "        #xavier사용\n",
    "        # Layer의 weight를 어떤 분포를 가지도록 초기화시켜줌+global minimum찾기 위해서"
   ]
  },
  {
   "cell_type": "code",
   "execution_count": 240,
   "metadata": {
    "colab": {
     "base_uri": "https://localhost:8080/"
    },
    "id": "TAzXoOo7knln",
    "outputId": "f4ce1d8d-17be-4495-cf45-9c04ad8720c9",
    "scrolled": true
   },
   "outputs": [
    {
     "name": "stderr",
     "output_type": "stream",
     "text": [
      "C:\\Users\\withy\\AppData\\Local\\Temp\\ipykernel_8516\\2101624760.py:3: UserWarning: nn.init.xavier_uniform is now deprecated in favor of nn.init.xavier_uniform_.\n",
      "  torch.nn.init.xavier_uniform(layer.weight)\n"
     ]
    },
    {
     "data": {
      "text/plain": [
       "Model(\n",
       "  (layer1): Sequential(\n",
       "    (0): Linear(in_features=64, out_features=1257, bias=True)\n",
       "    (1): Sigmoid()\n",
       "    (2): BatchNorm1d(1257, eps=1e-05, momentum=0.1, affine=True, track_running_stats=True)\n",
       "  )\n",
       "  (layer2): Sequential(\n",
       "    (0): Linear(in_features=1257, out_features=30, bias=True)\n",
       "    (1): Sigmoid()\n",
       "  )\n",
       "  (layer3): Sequential(\n",
       "    (0): Linear(in_features=30, out_features=15, bias=True)\n",
       "    (1): Sigmoid()\n",
       "  )\n",
       "  (layer4): Sequential(\n",
       "    (0): Linear(in_features=15, out_features=10, bias=True)\n",
       "    (1): Softmax(dim=None)\n",
       "  )\n",
       ")"
      ]
     },
     "execution_count": 240,
     "metadata": {},
     "output_type": "execute_result"
    }
   ],
   "source": [
    "model = Model().to(device)\n",
    "model.apply(init_weights)"
   ]
  },
  {
   "cell_type": "code",
   "execution_count": 241,
   "metadata": {
    "colab": {
     "base_uri": "https://localhost:8080/"
    },
    "id": "0xGxTfOmknlo",
    "outputId": "046038aa-e779-4a25-de12-bf88204a8cba",
    "scrolled": false
   },
   "outputs": [
    {
     "name": "stdout",
     "output_type": "stream",
     "text": [
      "Model(\n",
      "  (layer1): Sequential(\n",
      "    (0): Linear(in_features=64, out_features=1257, bias=True)\n",
      "    (1): Sigmoid()\n",
      "    (2): BatchNorm1d(1257, eps=1e-05, momentum=0.1, affine=True, track_running_stats=True)\n",
      "  )\n",
      "  (layer2): Sequential(\n",
      "    (0): Linear(in_features=1257, out_features=30, bias=True)\n",
      "    (1): Sigmoid()\n",
      "  )\n",
      "  (layer3): Sequential(\n",
      "    (0): Linear(in_features=30, out_features=15, bias=True)\n",
      "    (1): Sigmoid()\n",
      "  )\n",
      "  (layer4): Sequential(\n",
      "    (0): Linear(in_features=15, out_features=10, bias=True)\n",
      "    (1): Softmax(dim=None)\n",
      "  )\n",
      ")\n"
     ]
    }
   ],
   "source": [
    "print(model)"
   ]
  },
  {
   "cell_type": "code",
   "execution_count": 242,
   "metadata": {
    "id": "KRrAWkZtknlp"
   },
   "outputs": [],
   "source": [
    "loss_fn  = nn.CrossEntropyLoss().to(device)\n",
    "\n",
    "# 여러가지 optimizer 시도해보기\n",
    "# lr 바꿔보기\n",
    "\n",
    "optimizer = optim.Adagrad(model.parameters(), lr= 0.1)\n",
    "\n",
    "# https://pytorch.org/docs/stable/optim.html#module-torch.optim 페이지 참조\n",
    "# optimizer = optim.SGD(model.parameters(), lr=0.1, momentum=0.9)\n",
    "# sgd 등등"
   ]
  },
  {
   "cell_type": "code",
   "execution_count": 243,
   "metadata": {
    "colab": {
     "base_uri": "https://localhost:8080/",
     "height": 535
    },
    "id": "svdRvp0cknlq",
    "outputId": "8741ab20-71a2-4fe4-a4c6-bf2887270acd",
    "scrolled": true
   },
   "outputs": [
    {
     "name": "stderr",
     "output_type": "stream",
     "text": [
      "C:\\Users\\withy\\anaconda3\\Lib\\site-packages\\torch\\nn\\modules\\module.py:1518: UserWarning: Implicit dimension choice for softmax has been deprecated. Change the call to include dim=X as an argument.\n",
      "  return self._call_impl(*args, **kwargs)\n"
     ]
    },
    {
     "name": "stdout",
     "output_type": "stream",
     "text": [
      "0 2.3041915893554688\n",
      "10 1.9468687772750854\n",
      "20 1.7307251691818237\n",
      "30 1.6032243967056274\n",
      "40 1.582695484161377\n",
      "50 1.5735349655151367\n",
      "60 1.5568381547927856\n",
      "70 1.5046509504318237\n",
      "80 1.4832044839859009\n",
      "90 1.4770547151565552\n"
     ]
    }
   ],
   "source": [
    "losses = []\n",
    "for epoch in range(100):\n",
    "\n",
    "  optimizer.zero_grad()\n",
    "  hypothesis = model(x_train)\n",
    "\n",
    "  # 비용 함수\n",
    "  cost = loss_fn(hypothesis, y_train)\n",
    "  cost.backward()\n",
    "  optimizer.step()\n",
    "  losses.append(cost.item())\n",
    "\n",
    "  if epoch % 10 == 0:\n",
    "    print(epoch, cost.item())"
   ]
  },
  {
   "cell_type": "code",
   "execution_count": 244,
   "metadata": {
    "id": "Eg0WnBx-knlr",
    "scrolled": true
   },
   "outputs": [
    {
     "data": {
      "image/png": "[encoded data removed]",
      "text/plain": [
       "<Figure size 640x480 with 1 Axes>"
      ]
     },
     "metadata": {},
     "output_type": "display_data"
    }
   ],
   "source": [
    "plt.plot(losses)\n",
    "plt.show()"
   ]
  },
  {
   "cell_type": "code",
   "execution_count": 245,
   "metadata": {
    "id": "2Qvsoi55knlr"
   },
   "outputs": [],
   "source": [
    "with torch.no_grad():\n",
    "  model = model.to('cpu')\n",
    "  y_pred = model(x_test)\n",
    "  y_pred = y_pred.detach().numpy()\n",
    "  predicted = np.argmax(y_pred, axis =1)\n",
    "  accuracy = (accuracy_score(predicted, y_test))"
   ]
  },
  {
   "cell_type": "code",
   "execution_count": 246,
   "metadata": {
    "id": "54n5gswmknls",
    "scrolled": true
   },
   "outputs": [
    {
     "name": "stdout",
     "output_type": "stream",
     "text": [
      "model의 output은 :  [1.2094492e-05 9.8333687e-01 3.8921928e-03 2.1177130e-04 1.5923980e-03\n",
      " 5.8742025e-05 2.5611967e-04 8.2719862e-04 9.6238758e-03 1.8871577e-04]\n",
      "argmax를 한 후의 output은 1\n",
      "accuracy는 0.9777777777777777\n"
     ]
    }
   ],
   "source": [
    "print(f'model의 output은 :  {y_pred[0]}')\n",
    "print(f'argmax를 한 후의 output은 {predicted[0]}')\n",
    "print(f'accuracy는 {accuracy}')"
   ]
  },
  {
   "cell_type": "markdown",
   "metadata": {},
   "source": [
    "시도9-3\\\n",
    "활성화함수 : Sigmoid \\\n",
    "optimizer : Adagrad 사용 lr= 0.05 \\\n",
    "accuracy : 0.9796 ->살짝 감소"
   ]
  },
  {
   "cell_type": "code",
   "execution_count": 247,
   "metadata": {
    "id": "pWz1xrxfhbys"
   },
   "outputs": [],
   "source": [
    "from sklearn.datasets import load_digits\n",
    "data=load_digits()"
   ]
  },
  {
   "cell_type": "code",
   "execution_count": 248,
   "metadata": {
    "colab": {
     "base_uri": "https://localhost:8080/"
    },
    "id": "xotMguliknle",
    "outputId": "5d422448-5b3d-41e2-d0a3-1c0d1a015d3e",
    "scrolled": true
   },
   "outputs": [],
   "source": [
    "input = data.data \n",
    "output = data.target "
   ]
  },
  {
   "cell_type": "code",
   "execution_count": 249,
   "metadata": {
    "id": "am_BHq20knlg"
   },
   "outputs": [],
   "source": [
    "device = 'cuda' if torch.cuda.is_available() else 'cpu'\n",
    "\n",
    "torch.manual_seed(777)\n",
    "if device == \"cuda\":\n",
    "  torch.cuda.manual_seed_all(777)"
   ]
  },
  {
   "cell_type": "code",
   "execution_count": 250,
   "metadata": {
    "colab": {
     "base_uri": "https://localhost:8080/"
    },
    "id": "DTR0WNjNknlh",
    "outputId": "97df75bd-0c98-466b-ae70-6abc8ac4ff69"
   },
   "outputs": [],
   "source": [
    "x_train, x_test, y_train, y_test = train_test_split(input, output, test_size = 0.3, random_state = 42, stratify= data.target, shuffle = True)\n",
    "\n",
    "x_train = torch.FloatTensor(x_train).to(device)\n",
    "y_train = torch.LongTensor(y_train).to(device)\n",
    "x_test = torch.FloatTensor(x_test)\n",
    "y_test = torch.LongTensor(y_test)"
   ]
  },
  {
   "cell_type": "code",
   "execution_count": 251,
   "metadata": {
    "id": "Ag7LJBdCknlj"
   },
   "outputs": [],
   "source": [
    "from torch.utils.data import Dataset\n",
    "class CustomDataset(Dataset):\n",
    "  def __init__(self): # 데이터셋의 입력 데이터/ 출력 데이터 초기화\n",
    "    self.x_data = x_train\n",
    "    self.y_data = [[y] for y in y_train]\n",
    "#  데이터셋의 전처리를 해주는 부분\n",
    "\n",
    "  def __len__(self):\n",
    "    return len(self.x_data)\n",
    "#  데이터셋의 길이. 즉, 총 샘플의 수를 적어주는 부분\n",
    "\n",
    "  def __getitem__(self, idx): # 특정 인덱스에 해당하는\n",
    "    x = torch.FloatTensor(self.x_data[idx]).to(device)\n",
    "    y = torch.LongTensor(self.y_data[idx]).to(device)\n",
    "#  데이터셋에서 특정 1개의 샘플을 가져오는 함수\n",
    "\n",
    "    return x,y"
   ]
  },
  {
   "cell_type": "code",
   "execution_count": 252,
   "metadata": {
    "id": "BesDr853knlk"
   },
   "outputs": [],
   "source": [
    "batch_size = 8\n",
    "\n",
    "dataset = CustomDataset() # 객체를 생성해서 커스텀데이터셋 만듬\n",
    "dataloader = DataLoader(dataset, batch_size=batch_size) # 데이터셋, 배치 크기 전달"
   ]
  },
  {
   "cell_type": "code",
   "execution_count": 253,
   "metadata": {
    "id": "v1NyY_Ifknll"
   },
   "outputs": [],
   "source": [
    "# input_layer와 hidden_layer의 노드 개수를 어떻게 바꿔줘야할까?\n",
    "# hidden layer/neuron 수를 바꾸기\n",
    "\n",
    "model = nn.Sequential(\n",
    "          nn.Linear(64,1257, bias=True),\n",
    "          nn.Sigmoid(),\n",
    "          nn.Linear(1257,30, bias=True),\n",
    "          nn.Sigmoid(),\n",
    "          nn.Linear(30,15, bias=True),\n",
    "          nn.Sigmoid(),\n",
    "          nn.Linear(15,10, bias=True),\n",
    "\n",
    "          nn.Softmax()\n",
    "          ).to(device)"
   ]
  },
  {
   "cell_type": "code",
   "execution_count": 254,
   "metadata": {
    "id": "Q4Lz69-_knlm"
   },
   "outputs": [],
   "source": [
    "class Model(torch.nn.Module):\n",
    "\n",
    "  def __init__(self):\n",
    "    super(Model, self).__init__()\n",
    "    self.layer1 = nn.Sequential(\n",
    "          nn.Linear(64,1257, bias=True), # input_layer = 30, hidden_layer1 = 398\n",
    "          nn.Sigmoid(),\n",
    "        nn.BatchNorm1d(1257)\n",
    "    )\n",
    "  # activation function 이용\n",
    "  #   nn.ReLU()\n",
    "  #   nn.tanH()\n",
    "  #   https://pytorch.org/docs/stable/nn.html 그 외에도 여기서 확인 가능함\n",
    "  #   파라미터가 필요하지 않다는 것이 특징\n",
    "\n",
    "  # batch normazliation 1d, 파라미터 값으로 vector의 길이를 전해줌\n",
    "  # 추후에 이미지를 다루게 된다면, 그때는 batch normalization 2d를 이용하게 됨\n",
    "  # 그때는 파라미터 값으로 채널, 가로, 세로 길이를 전달해주게 됨\n",
    "\n",
    "    self.layer2 = nn.Sequential(\n",
    "          nn.Linear(1257,30, bias=True), # hidden_layer1 = 398, hidden_layer2 = 30\n",
    "        nn.Sigmoid()\n",
    "    )\n",
    "    self.layer3 = nn.Sequential(\n",
    "          nn.Linear(30,15, bias=True), # hidden_layer1 = 30, hidden_layer2 = 15\n",
    "\n",
    "        nn.Sigmoid()\n",
    "    )\n",
    "\n",
    "    self.layer4 = nn.Sequential(\n",
    "          nn.Linear(15, 10, bias=True), # hidden_layer3 = 15, output_layer = 10\n",
    "\n",
    "        nn.Softmax()\n",
    "    )\n",
    "\n",
    "  def forward(self,x):\n",
    "    output = self.layer1(x)\n",
    "    output = self.layer2(output)\n",
    "    output = self.layer3(output)\n",
    "    output = self.layer4(output)\n",
    "    return output"
   ]
  },
  {
   "cell_type": "code",
   "execution_count": 255,
   "metadata": {
    "id": "tljsaOO9knln"
   },
   "outputs": [],
   "source": [
    "def init_weights(layer):\n",
    "    if isinstance(layer, nn.Linear):\n",
    "        torch.nn.init.xavier_uniform(layer.weight)\n",
    "        layer.bias.data.fill_(0.01)\n",
    "\n",
    "        #xavier사용\n",
    "        # Layer의 weight를 어떤 분포를 가지도록 초기화시켜줌+global minimum찾기 위해서"
   ]
  },
  {
   "cell_type": "code",
   "execution_count": 256,
   "metadata": {
    "colab": {
     "base_uri": "https://localhost:8080/"
    },
    "id": "TAzXoOo7knln",
    "outputId": "f4ce1d8d-17be-4495-cf45-9c04ad8720c9",
    "scrolled": true
   },
   "outputs": [
    {
     "name": "stderr",
     "output_type": "stream",
     "text": [
      "C:\\Users\\withy\\AppData\\Local\\Temp\\ipykernel_8516\\2101624760.py:3: UserWarning: nn.init.xavier_uniform is now deprecated in favor of nn.init.xavier_uniform_.\n",
      "  torch.nn.init.xavier_uniform(layer.weight)\n"
     ]
    },
    {
     "data": {
      "text/plain": [
       "Model(\n",
       "  (layer1): Sequential(\n",
       "    (0): Linear(in_features=64, out_features=1257, bias=True)\n",
       "    (1): Sigmoid()\n",
       "    (2): BatchNorm1d(1257, eps=1e-05, momentum=0.1, affine=True, track_running_stats=True)\n",
       "  )\n",
       "  (layer2): Sequential(\n",
       "    (0): Linear(in_features=1257, out_features=30, bias=True)\n",
       "    (1): Sigmoid()\n",
       "  )\n",
       "  (layer3): Sequential(\n",
       "    (0): Linear(in_features=30, out_features=15, bias=True)\n",
       "    (1): Sigmoid()\n",
       "  )\n",
       "  (layer4): Sequential(\n",
       "    (0): Linear(in_features=15, out_features=10, bias=True)\n",
       "    (1): Softmax(dim=None)\n",
       "  )\n",
       ")"
      ]
     },
     "execution_count": 256,
     "metadata": {},
     "output_type": "execute_result"
    }
   ],
   "source": [
    "model = Model().to(device)\n",
    "model.apply(init_weights)"
   ]
  },
  {
   "cell_type": "code",
   "execution_count": 257,
   "metadata": {
    "colab": {
     "base_uri": "https://localhost:8080/"
    },
    "id": "0xGxTfOmknlo",
    "outputId": "046038aa-e779-4a25-de12-bf88204a8cba",
    "scrolled": false
   },
   "outputs": [
    {
     "name": "stdout",
     "output_type": "stream",
     "text": [
      "Model(\n",
      "  (layer1): Sequential(\n",
      "    (0): Linear(in_features=64, out_features=1257, bias=True)\n",
      "    (1): Sigmoid()\n",
      "    (2): BatchNorm1d(1257, eps=1e-05, momentum=0.1, affine=True, track_running_stats=True)\n",
      "  )\n",
      "  (layer2): Sequential(\n",
      "    (0): Linear(in_features=1257, out_features=30, bias=True)\n",
      "    (1): Sigmoid()\n",
      "  )\n",
      "  (layer3): Sequential(\n",
      "    (0): Linear(in_features=30, out_features=15, bias=True)\n",
      "    (1): Sigmoid()\n",
      "  )\n",
      "  (layer4): Sequential(\n",
      "    (0): Linear(in_features=15, out_features=10, bias=True)\n",
      "    (1): Softmax(dim=None)\n",
      "  )\n",
      ")\n"
     ]
    }
   ],
   "source": [
    "print(model)"
   ]
  },
  {
   "cell_type": "code",
   "execution_count": 258,
   "metadata": {
    "id": "KRrAWkZtknlp"
   },
   "outputs": [],
   "source": [
    "loss_fn  = nn.CrossEntropyLoss().to(device)\n",
    "\n",
    "# 여러가지 optimizer 시도해보기\n",
    "# lr 바꿔보기\n",
    "\n",
    "optimizer = optim.Adagrad(model.parameters(), lr= 0.05)\n",
    "\n",
    "# https://pytorch.org/docs/stable/optim.html#module-torch.optim 페이지 참조\n",
    "# optimizer = optim.SGD(model.parameters(), lr=0.1, momentum=0.9)\n",
    "# sgd 등등"
   ]
  },
  {
   "cell_type": "code",
   "execution_count": 259,
   "metadata": {
    "colab": {
     "base_uri": "https://localhost:8080/",
     "height": 535
    },
    "id": "svdRvp0cknlq",
    "outputId": "8741ab20-71a2-4fe4-a4c6-bf2887270acd",
    "scrolled": true
   },
   "outputs": [
    {
     "name": "stderr",
     "output_type": "stream",
     "text": [
      "C:\\Users\\withy\\anaconda3\\Lib\\site-packages\\torch\\nn\\modules\\module.py:1518: UserWarning: Implicit dimension choice for softmax has been deprecated. Change the call to include dim=X as an argument.\n",
      "  return self._call_impl(*args, **kwargs)\n"
     ]
    },
    {
     "name": "stdout",
     "output_type": "stream",
     "text": [
      "0 2.3041915893554688\n",
      "10 1.9925057888031006\n",
      "20 1.7599518299102783\n",
      "30 1.664503574371338\n",
      "40 1.616753339767456\n",
      "50 1.6838716268539429\n",
      "60 1.523766279220581\n",
      "70 1.5083805322647095\n",
      "80 1.4994213581085205\n",
      "90 1.493310809135437\n"
     ]
    }
   ],
   "source": [
    "losses = []\n",
    "for epoch in range(100):\n",
    "\n",
    "  optimizer.zero_grad()\n",
    "  hypothesis = model(x_train)\n",
    "\n",
    "  # 비용 함수\n",
    "  cost = loss_fn(hypothesis, y_train)\n",
    "  cost.backward()\n",
    "  optimizer.step()\n",
    "  losses.append(cost.item())\n",
    "\n",
    "  if epoch % 10 == 0:\n",
    "    print(epoch, cost.item())"
   ]
  },
  {
   "cell_type": "code",
   "execution_count": 260,
   "metadata": {
    "id": "Eg0WnBx-knlr",
    "scrolled": true
   },
   "outputs": [
    {
     "data": {
      "image/png": "[encoded data removed]",
      "text/plain": [
       "<Figure size 640x480 with 1 Axes>"
      ]
     },
     "metadata": {},
     "output_type": "display_data"
    }
   ],
   "source": [
    "plt.plot(losses)\n",
    "plt.show()"
   ]
  },
  {
   "cell_type": "code",
   "execution_count": 261,
   "metadata": {
    "id": "2Qvsoi55knlr"
   },
   "outputs": [],
   "source": [
    "with torch.no_grad():\n",
    "  model = model.to('cpu')\n",
    "  y_pred = model(x_test)\n",
    "  y_pred = y_pred.detach().numpy()\n",
    "  predicted = np.argmax(y_pred, axis =1)\n",
    "  accuracy = (accuracy_score(predicted, y_test))"
   ]
  },
  {
   "cell_type": "code",
   "execution_count": 262,
   "metadata": {
    "id": "54n5gswmknls",
    "scrolled": true
   },
   "outputs": [
    {
     "name": "stdout",
     "output_type": "stream",
     "text": [
      "model의 output은 :  [2.6433063e-03 9.7372615e-01 1.1463869e-02 1.4015806e-03 1.4922851e-03\n",
      " 1.5284357e-03 9.6408126e-04 1.8179093e-03 4.9431026e-03 1.9095773e-05]\n",
      "argmax를 한 후의 output은 1\n",
      "accuracy는 0.9796296296296296\n"
     ]
    }
   ],
   "source": [
    "print(f'model의 output은 :  {y_pred[0]}')\n",
    "print(f'argmax를 한 후의 output은 {predicted[0]}')\n",
    "print(f'accuracy는 {accuracy}')"
   ]
  },
  {
   "cell_type": "markdown",
   "metadata": {
    "id": "3RzRM7xThZV_"
   },
   "source": [
    "# < 3주차 과제 2 : CNN 맛보기>"
   ]
  },
  {
   "cell_type": "code",
   "execution_count": 263,
   "metadata": {
    "id": "56xqgtLxhZw6"
   },
   "outputs": [],
   "source": [
    "from __future__ import print_function\n",
    "import argparse\n",
    "import torch\n",
    "import torch.nn as nn\n",
    "import torch.nn.functional as F\n",
    "import torch.optim as optim\n",
    "from torchvision import datasets, transforms\n",
    "from torch.autograd import Variable"
   ]
  },
  {
   "cell_type": "code",
   "execution_count": 264,
   "metadata": {
    "id": "TzkF2bFNhcQ2"
   },
   "outputs": [],
   "source": [
    "# Training settings\n",
    "\n",
    "batch_size = 64\n",
    "\n",
    "# MNIST Dataset\n",
    "train_dataset = datasets.MNIST(root='./data/',\n",
    "                               train=True,\n",
    "                               transform=transforms.ToTensor(),\n",
    "                               download=True)\n",
    "\n",
    "test_dataset = datasets.MNIST(root='./data/',\n",
    "                              train=False,\n",
    "                              transform=transforms.ToTensor())\n",
    "\n",
    "# Data Loader (Input Pipeline)\n",
    "train_loader = torch.utils.data.DataLoader(dataset=train_dataset,\n",
    "                                           batch_size=batch_size,\n",
    "                                           shuffle=True)\n",
    "\n",
    "test_loader = torch.utils.data.DataLoader(dataset=test_dataset,\n",
    "                                          batch_size=batch_size,\n",
    "                                          shuffle=False)"
   ]
  },
  {
   "cell_type": "code",
   "execution_count": 265,
   "metadata": {
    "id": "tLCSvgganBrH"
   },
   "outputs": [],
   "source": [
    "class Net(nn.Module):\n",
    "  def __init__(self):\n",
    "    super(Net, self).__init__()\n",
    "    self.conv1 = nn.Conv2d(1, 10, kernel_size = 5) #2차원 컨볼루션 층. 출력 특성 맵 크기는 (28-5+1)**2\n",
    "    self.conv2 = nn.Conv2d(10, 20, kernel_size = 5) # 2차원 컨볼루션 층 (24-5+1)**2\n",
    "    self.mp = nn.MaxPool2d(2) # 2차원 맥스풀링 층\n",
    "    self.fc = nn.Linear(320 , 10) ### : 알맞는 input은?\n",
    "\n",
    "  def forward(self, x):\n",
    "    in_size = x.size(0)\n",
    "    x = F.relu(self.mp(self.conv1(x))) # 활성화 하수 적용하고 mp층 통과\n",
    "    x = F.relu(self.mp(self.conv2(x)))\n",
    "    x = x.view(in_size, -1)\n",
    "    x = self.fc(x)\n",
    "    return F.log_softmax(x) # 소프트맥스 함수 적용해서 확률값을 얻음"
   ]
  },
  {
   "cell_type": "code",
   "execution_count": 266,
   "metadata": {
    "id": "lkYZ4pUdnUHc"
   },
   "outputs": [],
   "source": [
    "model = Net()\n",
    "optimizer = optim.SGD(model.parameters(), lr = 0.01, momentum = 0.5) # 모델의 매개변수 업데이트"
   ]
  },
  {
   "cell_type": "code",
   "execution_count": 267,
   "metadata": {
    "id": "IzUrEM3EnXJb"
   },
   "outputs": [],
   "source": [
    "def train(epoch):\n",
    "  model.train()\n",
    "  for batch_idx, (data, target) in enumerate(train_loader):\n",
    "    data, target = Variable(data), Variable(target)\n",
    "    optimizer.zero_grad()\n",
    "    output = model(data)\n",
    "    loss = F.nll_loss(output, target)\n",
    "    loss.backward()\n",
    "    optimizer.step()\n",
    "    if batch_idx % 10 == 0:\n",
    "      print('Train Epoch: {} [{}/{} ({:.0f}%)]\\tLoss: {:.6f}'.format(\n",
    "          epoch, batch_idx * len(data), len(train_loader.dataset),\n",
    "          100. * batch_idx / len(train_loader), loss.item()))"
   ]
  },
  {
   "cell_type": "code",
   "execution_count": 268,
   "metadata": {
    "id": "EFi0gYJGn2aa"
   },
   "outputs": [],
   "source": [
    "def test():\n",
    "    model.eval() #model.eval() 의 기능은?\n",
    "    test_loss = 0\n",
    "    correct = 0\n",
    "    for data, target in test_loader:\n",
    "        data, target = Variable(data, volatile=True), Variable(target)\n",
    "        output = model(data)\n",
    "        test_loss += F.nll_loss(output, target, size_average=False).data # nll_loss?? / cross entropy loss와의 관계 확인!\n",
    "        pred = output.data.max(1, keepdim=True)[1]\n",
    "        correct += pred.eq(target.data.view_as(pred)).cpu().sum()\n",
    "\n",
    "    test_loss /= len(test_loader.dataset)\n",
    "    print('\\nTest set: Average loss: {:.4f}, Accuracy: {}/{} ({:.0f}%)\\n'.format(\n",
    "        test_loss, correct, len(test_loader.dataset),\n",
    "        100. * correct / len(test_loader.dataset)))"
   ]
  },
  {
   "cell_type": "code",
   "execution_count": 269,
   "metadata": {
    "id": "zSvSZb_Bn4Nx"
   },
   "outputs": [
    {
     "name": "stderr",
     "output_type": "stream",
     "text": [
      "C:\\Users\\withy\\AppData\\Local\\Temp\\ipykernel_8516\\3132182234.py:15: UserWarning: Implicit dimension choice for log_softmax has been deprecated. Change the call to include dim=X as an argument.\n",
      "  return F.log_softmax(x) # 소프트맥스 함수 적용해서 확률값을 얻음\n"
     ]
    },
    {
     "name": "stdout",
     "output_type": "stream",
     "text": [
      "Train Epoch: 1 [0/60000 (0%)]\tLoss: 2.297009\n",
      "Train Epoch: 1 [640/60000 (1%)]\tLoss: 2.281682\n",
      "Train Epoch: 1 [1280/60000 (2%)]\tLoss: 2.268403\n",
      "Train Epoch: 1 [1920/60000 (3%)]\tLoss: 2.253052\n",
      "Train Epoch: 1 [2560/60000 (4%)]\tLoss: 2.227583\n",
      "Train Epoch: 1 [3200/60000 (5%)]\tLoss: 2.179734\n",
      "Train Epoch: 1 [3840/60000 (6%)]\tLoss: 2.153206\n",
      "Train Epoch: 1 [4480/60000 (7%)]\tLoss: 2.110325\n",
      "Train Epoch: 1 [5120/60000 (9%)]\tLoss: 1.948063\n",
      "Train Epoch: 1 [5760/60000 (10%)]\tLoss: 1.698967\n",
      "Train Epoch: 1 [6400/60000 (11%)]\tLoss: 1.592418\n",
      "Train Epoch: 1 [7040/60000 (12%)]\tLoss: 1.262719\n",
      "Train Epoch: 1 [7680/60000 (13%)]\tLoss: 0.972404\n",
      "Train Epoch: 1 [8320/60000 (14%)]\tLoss: 0.802533\n",
      "Train Epoch: 1 [8960/60000 (15%)]\tLoss: 0.695400\n",
      "Train Epoch: 1 [9600/60000 (16%)]\tLoss: 0.603826\n",
      "Train Epoch: 1 [10240/60000 (17%)]\tLoss: 0.710427\n",
      "Train Epoch: 1 [10880/60000 (18%)]\tLoss: 0.596674\n",
      "Train Epoch: 1 [11520/60000 (19%)]\tLoss: 0.458078\n",
      "Train Epoch: 1 [12160/60000 (20%)]\tLoss: 0.662337\n",
      "Train Epoch: 1 [12800/60000 (21%)]\tLoss: 0.395050\n",
      "Train Epoch: 1 [13440/60000 (22%)]\tLoss: 0.363374\n",
      "Train Epoch: 1 [14080/60000 (23%)]\tLoss: 0.465649\n",
      "Train Epoch: 1 [14720/60000 (25%)]\tLoss: 0.313248\n",
      "Train Epoch: 1 [15360/60000 (26%)]\tLoss: 0.318865\n",
      "Train Epoch: 1 [16000/60000 (27%)]\tLoss: 0.351893\n",
      "Train Epoch: 1 [16640/60000 (28%)]\tLoss: 0.538750\n",
      "Train Epoch: 1 [17280/60000 (29%)]\tLoss: 0.365101\n",
      "Train Epoch: 1 [17920/60000 (30%)]\tLoss: 0.307217\n",
      "Train Epoch: 1 [18560/60000 (31%)]\tLoss: 0.312691\n",
      "Train Epoch: 1 [19200/60000 (32%)]\tLoss: 0.272199\n",
      "Train Epoch: 1 [19840/60000 (33%)]\tLoss: 0.231825\n",
      "Train Epoch: 1 [20480/60000 (34%)]\tLoss: 0.228081\n",
      "Train Epoch: 1 [21120/60000 (35%)]\tLoss: 0.244924\n",
      "Train Epoch: 1 [21760/60000 (36%)]\tLoss: 0.315213\n",
      "Train Epoch: 1 [22400/60000 (37%)]\tLoss: 0.316125\n",
      "Train Epoch: 1 [23040/60000 (38%)]\tLoss: 0.347320\n",
      "Train Epoch: 1 [23680/60000 (39%)]\tLoss: 0.210517\n",
      "Train Epoch: 1 [24320/60000 (41%)]\tLoss: 0.186902\n",
      "Train Epoch: 1 [24960/60000 (42%)]\tLoss: 0.187328\n",
      "Train Epoch: 1 [25600/60000 (43%)]\tLoss: 0.421086\n",
      "Train Epoch: 1 [26240/60000 (44%)]\tLoss: 0.268348\n",
      "Train Epoch: 1 [26880/60000 (45%)]\tLoss: 0.181751\n",
      "Train Epoch: 1 [27520/60000 (46%)]\tLoss: 0.251051\n",
      "Train Epoch: 1 [28160/60000 (47%)]\tLoss: 0.243403\n",
      "Train Epoch: 1 [28800/60000 (48%)]\tLoss: 0.181290\n",
      "Train Epoch: 1 [29440/60000 (49%)]\tLoss: 0.388664\n",
      "Train Epoch: 1 [30080/60000 (50%)]\tLoss: 0.358959\n",
      "Train Epoch: 1 [30720/60000 (51%)]\tLoss: 0.307188\n",
      "Train Epoch: 1 [31360/60000 (52%)]\tLoss: 0.406420\n",
      "Train Epoch: 1 [32000/60000 (53%)]\tLoss: 0.351258\n",
      "Train Epoch: 1 [32640/60000 (54%)]\tLoss: 0.294562\n",
      "Train Epoch: 1 [33280/60000 (55%)]\tLoss: 0.376873\n",
      "Train Epoch: 1 [33920/60000 (57%)]\tLoss: 0.252456\n",
      "Train Epoch: 1 [34560/60000 (58%)]\tLoss: 0.183392\n",
      "Train Epoch: 1 [35200/60000 (59%)]\tLoss: 0.161150\n",
      "Train Epoch: 1 [35840/60000 (60%)]\tLoss: 0.300700\n",
      "Train Epoch: 1 [36480/60000 (61%)]\tLoss: 0.231646\n",
      "Train Epoch: 1 [37120/60000 (62%)]\tLoss: 0.361855\n",
      "Train Epoch: 1 [37760/60000 (63%)]\tLoss: 0.411064\n",
      "Train Epoch: 1 [38400/60000 (64%)]\tLoss: 0.198852\n",
      "Train Epoch: 1 [39040/60000 (65%)]\tLoss: 0.154230\n",
      "Train Epoch: 1 [39680/60000 (66%)]\tLoss: 0.228140\n",
      "Train Epoch: 1 [40320/60000 (67%)]\tLoss: 0.129605\n",
      "Train Epoch: 1 [40960/60000 (68%)]\tLoss: 0.287441\n",
      "Train Epoch: 1 [41600/60000 (69%)]\tLoss: 0.201037\n",
      "Train Epoch: 1 [42240/60000 (70%)]\tLoss: 0.147373\n",
      "Train Epoch: 1 [42880/60000 (71%)]\tLoss: 0.126582\n",
      "Train Epoch: 1 [43520/60000 (72%)]\tLoss: 0.214747\n",
      "Train Epoch: 1 [44160/60000 (74%)]\tLoss: 0.313060\n",
      "Train Epoch: 1 [44800/60000 (75%)]\tLoss: 0.171176\n",
      "Train Epoch: 1 [45440/60000 (76%)]\tLoss: 0.181204\n",
      "Train Epoch: 1 [46080/60000 (77%)]\tLoss: 0.195251\n",
      "Train Epoch: 1 [46720/60000 (78%)]\tLoss: 0.206098\n",
      "Train Epoch: 1 [47360/60000 (79%)]\tLoss: 0.131918\n",
      "Train Epoch: 1 [48000/60000 (80%)]\tLoss: 0.102160\n",
      "Train Epoch: 1 [48640/60000 (81%)]\tLoss: 0.349116\n",
      "Train Epoch: 1 [49280/60000 (82%)]\tLoss: 0.112880\n",
      "Train Epoch: 1 [49920/60000 (83%)]\tLoss: 0.241821\n",
      "Train Epoch: 1 [50560/60000 (84%)]\tLoss: 0.381567\n",
      "Train Epoch: 1 [51200/60000 (85%)]\tLoss: 0.119619\n",
      "Train Epoch: 1 [51840/60000 (86%)]\tLoss: 0.161363\n",
      "Train Epoch: 1 [52480/60000 (87%)]\tLoss: 0.177270\n",
      "Train Epoch: 1 [53120/60000 (88%)]\tLoss: 0.105128\n",
      "Train Epoch: 1 [53760/60000 (90%)]\tLoss: 0.286493\n",
      "Train Epoch: 1 [54400/60000 (91%)]\tLoss: 0.074063\n",
      "Train Epoch: 1 [55040/60000 (92%)]\tLoss: 0.143411\n",
      "Train Epoch: 1 [55680/60000 (93%)]\tLoss: 0.162814\n",
      "Train Epoch: 1 [56320/60000 (94%)]\tLoss: 0.150712\n",
      "Train Epoch: 1 [56960/60000 (95%)]\tLoss: 0.299652\n",
      "Train Epoch: 1 [57600/60000 (96%)]\tLoss: 0.286826\n",
      "Train Epoch: 1 [58240/60000 (97%)]\tLoss: 0.149637\n",
      "Train Epoch: 1 [58880/60000 (98%)]\tLoss: 0.168097\n",
      "Train Epoch: 1 [59520/60000 (99%)]\tLoss: 0.174347\n"
     ]
    },
    {
     "name": "stderr",
     "output_type": "stream",
     "text": [
      "C:\\Users\\withy\\AppData\\Local\\Temp\\ipykernel_8516\\2324877592.py:6: UserWarning: volatile was removed and now has no effect. Use `with torch.no_grad():` instead.\n",
      "  data, target = Variable(data, volatile=True), Variable(target)\n",
      "C:\\Users\\withy\\anaconda3\\Lib\\site-packages\\torch\\nn\\_reduction.py:42: UserWarning: size_average and reduce args will be deprecated, please use reduction='sum' instead.\n",
      "  warnings.warn(warning.format(ret))\n"
     ]
    },
    {
     "name": "stdout",
     "output_type": "stream",
     "text": [
      "\n",
      "Test set: Average loss: 0.1581, Accuracy: 9503/10000 (95%)\n",
      "\n",
      "Train Epoch: 2 [0/60000 (0%)]\tLoss: 0.076499\n",
      "Train Epoch: 2 [640/60000 (1%)]\tLoss: 0.121997\n",
      "Train Epoch: 2 [1280/60000 (2%)]\tLoss: 0.095462\n",
      "Train Epoch: 2 [1920/60000 (3%)]\tLoss: 0.091645\n",
      "Train Epoch: 2 [2560/60000 (4%)]\tLoss: 0.070817\n",
      "Train Epoch: 2 [3200/60000 (5%)]\tLoss: 0.137833\n",
      "Train Epoch: 2 [3840/60000 (6%)]\tLoss: 0.046461\n",
      "Train Epoch: 2 [4480/60000 (7%)]\tLoss: 0.089011\n",
      "Train Epoch: 2 [5120/60000 (9%)]\tLoss: 0.224440\n",
      "Train Epoch: 2 [5760/60000 (10%)]\tLoss: 0.276411\n",
      "Train Epoch: 2 [6400/60000 (11%)]\tLoss: 0.149684\n",
      "Train Epoch: 2 [7040/60000 (12%)]\tLoss: 0.125353\n",
      "Train Epoch: 2 [7680/60000 (13%)]\tLoss: 0.107352\n",
      "Train Epoch: 2 [8320/60000 (14%)]\tLoss: 0.344231\n",
      "Train Epoch: 2 [8960/60000 (15%)]\tLoss: 0.439609\n",
      "Train Epoch: 2 [9600/60000 (16%)]\tLoss: 0.094103\n",
      "Train Epoch: 2 [10240/60000 (17%)]\tLoss: 0.116923\n",
      "Train Epoch: 2 [10880/60000 (18%)]\tLoss: 0.235869\n",
      "Train Epoch: 2 [11520/60000 (19%)]\tLoss: 0.104549\n",
      "Train Epoch: 2 [12160/60000 (20%)]\tLoss: 0.108709\n",
      "Train Epoch: 2 [12800/60000 (21%)]\tLoss: 0.123468\n",
      "Train Epoch: 2 [13440/60000 (22%)]\tLoss: 0.146640\n",
      "Train Epoch: 2 [14080/60000 (23%)]\tLoss: 0.071619\n",
      "Train Epoch: 2 [14720/60000 (25%)]\tLoss: 0.253588\n",
      "Train Epoch: 2 [15360/60000 (26%)]\tLoss: 0.133444\n",
      "Train Epoch: 2 [16000/60000 (27%)]\tLoss: 0.153668\n",
      "Train Epoch: 2 [16640/60000 (28%)]\tLoss: 0.309934\n",
      "Train Epoch: 2 [17280/60000 (29%)]\tLoss: 0.190457\n",
      "Train Epoch: 2 [17920/60000 (30%)]\tLoss: 0.091141\n",
      "Train Epoch: 2 [18560/60000 (31%)]\tLoss: 0.083326\n",
      "Train Epoch: 2 [19200/60000 (32%)]\tLoss: 0.087961\n",
      "Train Epoch: 2 [19840/60000 (33%)]\tLoss: 0.129999\n",
      "Train Epoch: 2 [20480/60000 (34%)]\tLoss: 0.227559\n",
      "Train Epoch: 2 [21120/60000 (35%)]\tLoss: 0.123266\n",
      "Train Epoch: 2 [21760/60000 (36%)]\tLoss: 0.167425\n",
      "Train Epoch: 2 [22400/60000 (37%)]\tLoss: 0.107085\n",
      "Train Epoch: 2 [23040/60000 (38%)]\tLoss: 0.128602\n",
      "Train Epoch: 2 [23680/60000 (39%)]\tLoss: 0.219561\n",
      "Train Epoch: 2 [24320/60000 (41%)]\tLoss: 0.146693\n",
      "Train Epoch: 2 [24960/60000 (42%)]\tLoss: 0.074932\n",
      "Train Epoch: 2 [25600/60000 (43%)]\tLoss: 0.066902\n",
      "Train Epoch: 2 [26240/60000 (44%)]\tLoss: 0.507193\n",
      "Train Epoch: 2 [26880/60000 (45%)]\tLoss: 0.101841\n",
      "Train Epoch: 2 [27520/60000 (46%)]\tLoss: 0.130254\n",
      "Train Epoch: 2 [28160/60000 (47%)]\tLoss: 0.164052\n",
      "Train Epoch: 2 [28800/60000 (48%)]\tLoss: 0.089740\n",
      "Train Epoch: 2 [29440/60000 (49%)]\tLoss: 0.072542\n",
      "Train Epoch: 2 [30080/60000 (50%)]\tLoss: 0.407262\n",
      "Train Epoch: 2 [30720/60000 (51%)]\tLoss: 0.125516\n",
      "Train Epoch: 2 [31360/60000 (52%)]\tLoss: 0.208188\n",
      "Train Epoch: 2 [32000/60000 (53%)]\tLoss: 0.109264\n",
      "Train Epoch: 2 [32640/60000 (54%)]\tLoss: 0.127828\n",
      "Train Epoch: 2 [33280/60000 (55%)]\tLoss: 0.076802\n",
      "Train Epoch: 2 [33920/60000 (57%)]\tLoss: 0.391515\n",
      "Train Epoch: 2 [34560/60000 (58%)]\tLoss: 0.113132\n",
      "Train Epoch: 2 [35200/60000 (59%)]\tLoss: 0.118850\n",
      "Train Epoch: 2 [35840/60000 (60%)]\tLoss: 0.190544\n",
      "Train Epoch: 2 [36480/60000 (61%)]\tLoss: 0.156761\n",
      "Train Epoch: 2 [37120/60000 (62%)]\tLoss: 0.092541\n",
      "Train Epoch: 2 [37760/60000 (63%)]\tLoss: 0.241032\n",
      "Train Epoch: 2 [38400/60000 (64%)]\tLoss: 0.164891\n",
      "Train Epoch: 2 [39040/60000 (65%)]\tLoss: 0.145339\n",
      "Train Epoch: 2 [39680/60000 (66%)]\tLoss: 0.109304\n",
      "Train Epoch: 2 [40320/60000 (67%)]\tLoss: 0.067585\n",
      "Train Epoch: 2 [40960/60000 (68%)]\tLoss: 0.146993\n",
      "Train Epoch: 2 [41600/60000 (69%)]\tLoss: 0.100677\n",
      "Train Epoch: 2 [42240/60000 (70%)]\tLoss: 0.094549\n",
      "Train Epoch: 2 [42880/60000 (71%)]\tLoss: 0.173655\n",
      "Train Epoch: 2 [43520/60000 (72%)]\tLoss: 0.111476\n",
      "Train Epoch: 2 [44160/60000 (74%)]\tLoss: 0.102064\n",
      "Train Epoch: 2 [44800/60000 (75%)]\tLoss: 0.153357\n",
      "Train Epoch: 2 [45440/60000 (76%)]\tLoss: 0.182637\n",
      "Train Epoch: 2 [46080/60000 (77%)]\tLoss: 0.200139\n",
      "Train Epoch: 2 [46720/60000 (78%)]\tLoss: 0.153429\n",
      "Train Epoch: 2 [47360/60000 (79%)]\tLoss: 0.092130\n",
      "Train Epoch: 2 [48000/60000 (80%)]\tLoss: 0.151110\n",
      "Train Epoch: 2 [48640/60000 (81%)]\tLoss: 0.051332\n",
      "Train Epoch: 2 [49280/60000 (82%)]\tLoss: 0.122898\n",
      "Train Epoch: 2 [49920/60000 (83%)]\tLoss: 0.155874\n",
      "Train Epoch: 2 [50560/60000 (84%)]\tLoss: 0.070654\n",
      "Train Epoch: 2 [51200/60000 (85%)]\tLoss: 0.057693\n",
      "Train Epoch: 2 [51840/60000 (86%)]\tLoss: 0.112200\n",
      "Train Epoch: 2 [52480/60000 (87%)]\tLoss: 0.148765\n",
      "Train Epoch: 2 [53120/60000 (88%)]\tLoss: 0.068644\n",
      "Train Epoch: 2 [53760/60000 (90%)]\tLoss: 0.096499\n",
      "Train Epoch: 2 [54400/60000 (91%)]\tLoss: 0.053428\n",
      "Train Epoch: 2 [55040/60000 (92%)]\tLoss: 0.150513\n",
      "Train Epoch: 2 [55680/60000 (93%)]\tLoss: 0.108007\n",
      "Train Epoch: 2 [56320/60000 (94%)]\tLoss: 0.073535\n",
      "Train Epoch: 2 [56960/60000 (95%)]\tLoss: 0.068066\n",
      "Train Epoch: 2 [57600/60000 (96%)]\tLoss: 0.085639\n",
      "Train Epoch: 2 [58240/60000 (97%)]\tLoss: 0.055543\n",
      "Train Epoch: 2 [58880/60000 (98%)]\tLoss: 0.046596\n",
      "Train Epoch: 2 [59520/60000 (99%)]\tLoss: 0.080814\n",
      "\n",
      "Test set: Average loss: 0.1007, Accuracy: 9699/10000 (97%)\n",
      "\n",
      "Train Epoch: 3 [0/60000 (0%)]\tLoss: 0.170148\n",
      "Train Epoch: 3 [640/60000 (1%)]\tLoss: 0.073960\n",
      "Train Epoch: 3 [1280/60000 (2%)]\tLoss: 0.023503\n",
      "Train Epoch: 3 [1920/60000 (3%)]\tLoss: 0.187730\n",
      "Train Epoch: 3 [2560/60000 (4%)]\tLoss: 0.150391\n",
      "Train Epoch: 3 [3200/60000 (5%)]\tLoss: 0.084002\n",
      "Train Epoch: 3 [3840/60000 (6%)]\tLoss: 0.151254\n",
      "Train Epoch: 3 [4480/60000 (7%)]\tLoss: 0.057871\n",
      "Train Epoch: 3 [5120/60000 (9%)]\tLoss: 0.109995\n",
      "Train Epoch: 3 [5760/60000 (10%)]\tLoss: 0.197464\n",
      "Train Epoch: 3 [6400/60000 (11%)]\tLoss: 0.098753\n",
      "Train Epoch: 3 [7040/60000 (12%)]\tLoss: 0.057901\n",
      "Train Epoch: 3 [7680/60000 (13%)]\tLoss: 0.189704\n",
      "Train Epoch: 3 [8320/60000 (14%)]\tLoss: 0.081816\n",
      "Train Epoch: 3 [8960/60000 (15%)]\tLoss: 0.120246\n",
      "Train Epoch: 3 [9600/60000 (16%)]\tLoss: 0.054718\n",
      "Train Epoch: 3 [10240/60000 (17%)]\tLoss: 0.034133\n",
      "Train Epoch: 3 [10880/60000 (18%)]\tLoss: 0.075499\n",
      "Train Epoch: 3 [11520/60000 (19%)]\tLoss: 0.070369\n",
      "Train Epoch: 3 [12160/60000 (20%)]\tLoss: 0.054651\n",
      "Train Epoch: 3 [12800/60000 (21%)]\tLoss: 0.106494\n",
      "Train Epoch: 3 [13440/60000 (22%)]\tLoss: 0.053582\n",
      "Train Epoch: 3 [14080/60000 (23%)]\tLoss: 0.087653\n",
      "Train Epoch: 3 [14720/60000 (25%)]\tLoss: 0.172363\n",
      "Train Epoch: 3 [15360/60000 (26%)]\tLoss: 0.076674\n",
      "Train Epoch: 3 [16000/60000 (27%)]\tLoss: 0.074574\n",
      "Train Epoch: 3 [16640/60000 (28%)]\tLoss: 0.170221\n",
      "Train Epoch: 3 [17280/60000 (29%)]\tLoss: 0.119235\n",
      "Train Epoch: 3 [17920/60000 (30%)]\tLoss: 0.118716\n",
      "Train Epoch: 3 [18560/60000 (31%)]\tLoss: 0.146547\n",
      "Train Epoch: 3 [19200/60000 (32%)]\tLoss: 0.072689\n",
      "Train Epoch: 3 [19840/60000 (33%)]\tLoss: 0.056761\n",
      "Train Epoch: 3 [20480/60000 (34%)]\tLoss: 0.221274\n",
      "Train Epoch: 3 [21120/60000 (35%)]\tLoss: 0.058634\n",
      "Train Epoch: 3 [21760/60000 (36%)]\tLoss: 0.081722\n",
      "Train Epoch: 3 [22400/60000 (37%)]\tLoss: 0.180827\n",
      "Train Epoch: 3 [23040/60000 (38%)]\tLoss: 0.074028\n",
      "Train Epoch: 3 [23680/60000 (39%)]\tLoss: 0.070406\n",
      "Train Epoch: 3 [24320/60000 (41%)]\tLoss: 0.235441\n",
      "Train Epoch: 3 [24960/60000 (42%)]\tLoss: 0.190519\n",
      "Train Epoch: 3 [25600/60000 (43%)]\tLoss: 0.190702\n",
      "Train Epoch: 3 [26240/60000 (44%)]\tLoss: 0.113185\n",
      "Train Epoch: 3 [26880/60000 (45%)]\tLoss: 0.320291\n",
      "Train Epoch: 3 [27520/60000 (46%)]\tLoss: 0.074903\n",
      "Train Epoch: 3 [28160/60000 (47%)]\tLoss: 0.118197\n",
      "Train Epoch: 3 [28800/60000 (48%)]\tLoss: 0.124962\n",
      "Train Epoch: 3 [29440/60000 (49%)]\tLoss: 0.221452\n",
      "Train Epoch: 3 [30080/60000 (50%)]\tLoss: 0.158233\n",
      "Train Epoch: 3 [30720/60000 (51%)]\tLoss: 0.116647\n",
      "Train Epoch: 3 [31360/60000 (52%)]\tLoss: 0.109604\n",
      "Train Epoch: 3 [32000/60000 (53%)]\tLoss: 0.189198\n",
      "Train Epoch: 3 [32640/60000 (54%)]\tLoss: 0.043390\n",
      "Train Epoch: 3 [33280/60000 (55%)]\tLoss: 0.092509\n",
      "Train Epoch: 3 [33920/60000 (57%)]\tLoss: 0.052975\n",
      "Train Epoch: 3 [34560/60000 (58%)]\tLoss: 0.047311\n",
      "Train Epoch: 3 [35200/60000 (59%)]\tLoss: 0.060645\n",
      "Train Epoch: 3 [35840/60000 (60%)]\tLoss: 0.049589\n",
      "Train Epoch: 3 [36480/60000 (61%)]\tLoss: 0.034375\n",
      "Train Epoch: 3 [37120/60000 (62%)]\tLoss: 0.042731\n",
      "Train Epoch: 3 [37760/60000 (63%)]\tLoss: 0.262954\n",
      "Train Epoch: 3 [38400/60000 (64%)]\tLoss: 0.108509\n",
      "Train Epoch: 3 [39040/60000 (65%)]\tLoss: 0.076398\n",
      "Train Epoch: 3 [39680/60000 (66%)]\tLoss: 0.045144\n",
      "Train Epoch: 3 [40320/60000 (67%)]\tLoss: 0.036088\n",
      "Train Epoch: 3 [40960/60000 (68%)]\tLoss: 0.078963\n",
      "Train Epoch: 3 [41600/60000 (69%)]\tLoss: 0.069935\n",
      "Train Epoch: 3 [42240/60000 (70%)]\tLoss: 0.062149\n",
      "Train Epoch: 3 [42880/60000 (71%)]\tLoss: 0.086235\n",
      "Train Epoch: 3 [43520/60000 (72%)]\tLoss: 0.089772\n"
     ]
    },
    {
     "name": "stdout",
     "output_type": "stream",
     "text": [
      "Train Epoch: 3 [44160/60000 (74%)]\tLoss: 0.203776\n",
      "Train Epoch: 3 [44800/60000 (75%)]\tLoss: 0.173554\n",
      "Train Epoch: 3 [45440/60000 (76%)]\tLoss: 0.073424\n",
      "Train Epoch: 3 [46080/60000 (77%)]\tLoss: 0.123111\n",
      "Train Epoch: 3 [46720/60000 (78%)]\tLoss: 0.080457\n",
      "Train Epoch: 3 [47360/60000 (79%)]\tLoss: 0.035333\n",
      "Train Epoch: 3 [48000/60000 (80%)]\tLoss: 0.119469\n",
      "Train Epoch: 3 [48640/60000 (81%)]\tLoss: 0.076513\n",
      "Train Epoch: 3 [49280/60000 (82%)]\tLoss: 0.048410\n",
      "Train Epoch: 3 [49920/60000 (83%)]\tLoss: 0.024074\n",
      "Train Epoch: 3 [50560/60000 (84%)]\tLoss: 0.047784\n",
      "Train Epoch: 3 [51200/60000 (85%)]\tLoss: 0.047324\n",
      "Train Epoch: 3 [51840/60000 (86%)]\tLoss: 0.106076\n",
      "Train Epoch: 3 [52480/60000 (87%)]\tLoss: 0.166229\n",
      "Train Epoch: 3 [53120/60000 (88%)]\tLoss: 0.196948\n",
      "Train Epoch: 3 [53760/60000 (90%)]\tLoss: 0.049127\n",
      "Train Epoch: 3 [54400/60000 (91%)]\tLoss: 0.103385\n",
      "Train Epoch: 3 [55040/60000 (92%)]\tLoss: 0.026342\n",
      "Train Epoch: 3 [55680/60000 (93%)]\tLoss: 0.041310\n",
      "Train Epoch: 3 [56320/60000 (94%)]\tLoss: 0.048340\n",
      "Train Epoch: 3 [56960/60000 (95%)]\tLoss: 0.153118\n",
      "Train Epoch: 3 [57600/60000 (96%)]\tLoss: 0.033734\n",
      "Train Epoch: 3 [58240/60000 (97%)]\tLoss: 0.081577\n",
      "Train Epoch: 3 [58880/60000 (98%)]\tLoss: 0.020707\n",
      "Train Epoch: 3 [59520/60000 (99%)]\tLoss: 0.041584\n",
      "\n",
      "Test set: Average loss: 0.0833, Accuracy: 9741/10000 (97%)\n",
      "\n",
      "Train Epoch: 4 [0/60000 (0%)]\tLoss: 0.055253\n",
      "Train Epoch: 4 [640/60000 (1%)]\tLoss: 0.089878\n",
      "Train Epoch: 4 [1280/60000 (2%)]\tLoss: 0.078131\n",
      "Train Epoch: 4 [1920/60000 (3%)]\tLoss: 0.037952\n",
      "Train Epoch: 4 [2560/60000 (4%)]\tLoss: 0.055530\n",
      "Train Epoch: 4 [3200/60000 (5%)]\tLoss: 0.040012\n",
      "Train Epoch: 4 [3840/60000 (6%)]\tLoss: 0.146350\n",
      "Train Epoch: 4 [4480/60000 (7%)]\tLoss: 0.183979\n",
      "Train Epoch: 4 [5120/60000 (9%)]\tLoss: 0.199325\n",
      "Train Epoch: 4 [5760/60000 (10%)]\tLoss: 0.070642\n",
      "Train Epoch: 4 [6400/60000 (11%)]\tLoss: 0.048458\n",
      "Train Epoch: 4 [7040/60000 (12%)]\tLoss: 0.055651\n",
      "Train Epoch: 4 [7680/60000 (13%)]\tLoss: 0.058506\n",
      "Train Epoch: 4 [8320/60000 (14%)]\tLoss: 0.060519\n",
      "Train Epoch: 4 [8960/60000 (15%)]\tLoss: 0.072524\n",
      "Train Epoch: 4 [9600/60000 (16%)]\tLoss: 0.160742\n",
      "Train Epoch: 4 [10240/60000 (17%)]\tLoss: 0.061113\n",
      "Train Epoch: 4 [10880/60000 (18%)]\tLoss: 0.157228\n",
      "Train Epoch: 4 [11520/60000 (19%)]\tLoss: 0.047984\n",
      "Train Epoch: 4 [12160/60000 (20%)]\tLoss: 0.110979\n",
      "Train Epoch: 4 [12800/60000 (21%)]\tLoss: 0.053711\n",
      "Train Epoch: 4 [13440/60000 (22%)]\tLoss: 0.259381\n",
      "Train Epoch: 4 [14080/60000 (23%)]\tLoss: 0.059517\n",
      "Train Epoch: 4 [14720/60000 (25%)]\tLoss: 0.089816\n",
      "Train Epoch: 4 [15360/60000 (26%)]\tLoss: 0.162824\n",
      "Train Epoch: 4 [16000/60000 (27%)]\tLoss: 0.033882\n",
      "Train Epoch: 4 [16640/60000 (28%)]\tLoss: 0.066698\n",
      "Train Epoch: 4 [17280/60000 (29%)]\tLoss: 0.040689\n",
      "Train Epoch: 4 [17920/60000 (30%)]\tLoss: 0.033712\n",
      "Train Epoch: 4 [18560/60000 (31%)]\tLoss: 0.047807\n",
      "Train Epoch: 4 [19200/60000 (32%)]\tLoss: 0.073202\n",
      "Train Epoch: 4 [19840/60000 (33%)]\tLoss: 0.072247\n",
      "Train Epoch: 4 [20480/60000 (34%)]\tLoss: 0.056777\n",
      "Train Epoch: 4 [21120/60000 (35%)]\tLoss: 0.064560\n",
      "Train Epoch: 4 [21760/60000 (36%)]\tLoss: 0.087991\n",
      "Train Epoch: 4 [22400/60000 (37%)]\tLoss: 0.018609\n",
      "Train Epoch: 4 [23040/60000 (38%)]\tLoss: 0.092346\n",
      "Train Epoch: 4 [23680/60000 (39%)]\tLoss: 0.097975\n",
      "Train Epoch: 4 [24320/60000 (41%)]\tLoss: 0.132418\n",
      "Train Epoch: 4 [24960/60000 (42%)]\tLoss: 0.065590\n",
      "Train Epoch: 4 [25600/60000 (43%)]\tLoss: 0.072035\n",
      "Train Epoch: 4 [26240/60000 (44%)]\tLoss: 0.134562\n",
      "Train Epoch: 4 [26880/60000 (45%)]\tLoss: 0.148457\n",
      "Train Epoch: 4 [27520/60000 (46%)]\tLoss: 0.042274\n",
      "Train Epoch: 4 [28160/60000 (47%)]\tLoss: 0.071103\n",
      "Train Epoch: 4 [28800/60000 (48%)]\tLoss: 0.064831\n",
      "Train Epoch: 4 [29440/60000 (49%)]\tLoss: 0.129160\n",
      "Train Epoch: 4 [30080/60000 (50%)]\tLoss: 0.098809\n",
      "Train Epoch: 4 [30720/60000 (51%)]\tLoss: 0.131590\n",
      "Train Epoch: 4 [31360/60000 (52%)]\tLoss: 0.187986\n",
      "Train Epoch: 4 [32000/60000 (53%)]\tLoss: 0.069791\n",
      "Train Epoch: 4 [32640/60000 (54%)]\tLoss: 0.099460\n",
      "Train Epoch: 4 [33280/60000 (55%)]\tLoss: 0.137718\n",
      "Train Epoch: 4 [33920/60000 (57%)]\tLoss: 0.040508\n",
      "Train Epoch: 4 [34560/60000 (58%)]\tLoss: 0.050989\n",
      "Train Epoch: 4 [35200/60000 (59%)]\tLoss: 0.105747\n",
      "Train Epoch: 4 [35840/60000 (60%)]\tLoss: 0.062308\n",
      "Train Epoch: 4 [36480/60000 (61%)]\tLoss: 0.107776\n",
      "Train Epoch: 4 [37120/60000 (62%)]\tLoss: 0.058255\n",
      "Train Epoch: 4 [37760/60000 (63%)]\tLoss: 0.062305\n",
      "Train Epoch: 4 [38400/60000 (64%)]\tLoss: 0.015684\n",
      "Train Epoch: 4 [39040/60000 (65%)]\tLoss: 0.043229\n",
      "Train Epoch: 4 [39680/60000 (66%)]\tLoss: 0.186735\n",
      "Train Epoch: 4 [40320/60000 (67%)]\tLoss: 0.126801\n",
      "Train Epoch: 4 [40960/60000 (68%)]\tLoss: 0.065790\n",
      "Train Epoch: 4 [41600/60000 (69%)]\tLoss: 0.072623\n",
      "Train Epoch: 4 [42240/60000 (70%)]\tLoss: 0.015502\n",
      "Train Epoch: 4 [42880/60000 (71%)]\tLoss: 0.050730\n",
      "Train Epoch: 4 [43520/60000 (72%)]\tLoss: 0.091806\n",
      "Train Epoch: 4 [44160/60000 (74%)]\tLoss: 0.129556\n",
      "Train Epoch: 4 [44800/60000 (75%)]\tLoss: 0.155373\n",
      "Train Epoch: 4 [45440/60000 (76%)]\tLoss: 0.019097\n",
      "Train Epoch: 4 [46080/60000 (77%)]\tLoss: 0.172027\n",
      "Train Epoch: 4 [46720/60000 (78%)]\tLoss: 0.102088\n",
      "Train Epoch: 4 [47360/60000 (79%)]\tLoss: 0.194056\n",
      "Train Epoch: 4 [48000/60000 (80%)]\tLoss: 0.046944\n",
      "Train Epoch: 4 [48640/60000 (81%)]\tLoss: 0.063967\n",
      "Train Epoch: 4 [49280/60000 (82%)]\tLoss: 0.151753\n",
      "Train Epoch: 4 [49920/60000 (83%)]\tLoss: 0.023442\n",
      "Train Epoch: 4 [50560/60000 (84%)]\tLoss: 0.093371\n",
      "Train Epoch: 4 [51200/60000 (85%)]\tLoss: 0.038922\n",
      "Train Epoch: 4 [51840/60000 (86%)]\tLoss: 0.069486\n",
      "Train Epoch: 4 [52480/60000 (87%)]\tLoss: 0.120144\n",
      "Train Epoch: 4 [53120/60000 (88%)]\tLoss: 0.144642\n",
      "Train Epoch: 4 [53760/60000 (90%)]\tLoss: 0.100048\n",
      "Train Epoch: 4 [54400/60000 (91%)]\tLoss: 0.029399\n",
      "Train Epoch: 4 [55040/60000 (92%)]\tLoss: 0.034174\n",
      "Train Epoch: 4 [55680/60000 (93%)]\tLoss: 0.086217\n",
      "Train Epoch: 4 [56320/60000 (94%)]\tLoss: 0.015358\n",
      "Train Epoch: 4 [56960/60000 (95%)]\tLoss: 0.066770\n",
      "Train Epoch: 4 [57600/60000 (96%)]\tLoss: 0.047596\n",
      "Train Epoch: 4 [58240/60000 (97%)]\tLoss: 0.116959\n",
      "Train Epoch: 4 [58880/60000 (98%)]\tLoss: 0.016542\n",
      "Train Epoch: 4 [59520/60000 (99%)]\tLoss: 0.077259\n",
      "\n",
      "Test set: Average loss: 0.0789, Accuracy: 9769/10000 (98%)\n",
      "\n",
      "Train Epoch: 5 [0/60000 (0%)]\tLoss: 0.132633\n",
      "Train Epoch: 5 [640/60000 (1%)]\tLoss: 0.014390\n",
      "Train Epoch: 5 [1280/60000 (2%)]\tLoss: 0.094644\n",
      "Train Epoch: 5 [1920/60000 (3%)]\tLoss: 0.198052\n",
      "Train Epoch: 5 [2560/60000 (4%)]\tLoss: 0.093892\n",
      "Train Epoch: 5 [3200/60000 (5%)]\tLoss: 0.025491\n",
      "Train Epoch: 5 [3840/60000 (6%)]\tLoss: 0.033551\n",
      "Train Epoch: 5 [4480/60000 (7%)]\tLoss: 0.119453\n",
      "Train Epoch: 5 [5120/60000 (9%)]\tLoss: 0.027922\n",
      "Train Epoch: 5 [5760/60000 (10%)]\tLoss: 0.056361\n",
      "Train Epoch: 5 [6400/60000 (11%)]\tLoss: 0.059252\n",
      "Train Epoch: 5 [7040/60000 (12%)]\tLoss: 0.056171\n",
      "Train Epoch: 5 [7680/60000 (13%)]\tLoss: 0.135610\n",
      "Train Epoch: 5 [8320/60000 (14%)]\tLoss: 0.082811\n",
      "Train Epoch: 5 [8960/60000 (15%)]\tLoss: 0.127854\n",
      "Train Epoch: 5 [9600/60000 (16%)]\tLoss: 0.019816\n",
      "Train Epoch: 5 [10240/60000 (17%)]\tLoss: 0.086547\n",
      "Train Epoch: 5 [10880/60000 (18%)]\tLoss: 0.037406\n",
      "Train Epoch: 5 [11520/60000 (19%)]\tLoss: 0.042913\n",
      "Train Epoch: 5 [12160/60000 (20%)]\tLoss: 0.047806\n",
      "Train Epoch: 5 [12800/60000 (21%)]\tLoss: 0.022529\n",
      "Train Epoch: 5 [13440/60000 (22%)]\tLoss: 0.027426\n",
      "Train Epoch: 5 [14080/60000 (23%)]\tLoss: 0.033421\n",
      "Train Epoch: 5 [14720/60000 (25%)]\tLoss: 0.040648\n",
      "Train Epoch: 5 [15360/60000 (26%)]\tLoss: 0.023009\n",
      "Train Epoch: 5 [16000/60000 (27%)]\tLoss: 0.080694\n",
      "Train Epoch: 5 [16640/60000 (28%)]\tLoss: 0.022206\n",
      "Train Epoch: 5 [17280/60000 (29%)]\tLoss: 0.069621\n",
      "Train Epoch: 5 [17920/60000 (30%)]\tLoss: 0.032407\n",
      "Train Epoch: 5 [18560/60000 (31%)]\tLoss: 0.142874\n",
      "Train Epoch: 5 [19200/60000 (32%)]\tLoss: 0.097800\n",
      "Train Epoch: 5 [19840/60000 (33%)]\tLoss: 0.033729\n",
      "Train Epoch: 5 [20480/60000 (34%)]\tLoss: 0.023877\n",
      "Train Epoch: 5 [21120/60000 (35%)]\tLoss: 0.057360\n",
      "Train Epoch: 5 [21760/60000 (36%)]\tLoss: 0.027498\n",
      "Train Epoch: 5 [22400/60000 (37%)]\tLoss: 0.113515\n",
      "Train Epoch: 5 [23040/60000 (38%)]\tLoss: 0.124512\n",
      "Train Epoch: 5 [23680/60000 (39%)]\tLoss: 0.060481\n",
      "Train Epoch: 5 [24320/60000 (41%)]\tLoss: 0.268820\n",
      "Train Epoch: 5 [24960/60000 (42%)]\tLoss: 0.065159\n",
      "Train Epoch: 5 [25600/60000 (43%)]\tLoss: 0.125358\n",
      "Train Epoch: 5 [26240/60000 (44%)]\tLoss: 0.200323\n",
      "Train Epoch: 5 [26880/60000 (45%)]\tLoss: 0.073808\n",
      "Train Epoch: 5 [27520/60000 (46%)]\tLoss: 0.075102\n"
     ]
    },
    {
     "name": "stdout",
     "output_type": "stream",
     "text": [
      "Train Epoch: 5 [28160/60000 (47%)]\tLoss: 0.023262\n",
      "Train Epoch: 5 [28800/60000 (48%)]\tLoss: 0.045321\n",
      "Train Epoch: 5 [29440/60000 (49%)]\tLoss: 0.046926\n",
      "Train Epoch: 5 [30080/60000 (50%)]\tLoss: 0.051600\n",
      "Train Epoch: 5 [30720/60000 (51%)]\tLoss: 0.066865\n",
      "Train Epoch: 5 [31360/60000 (52%)]\tLoss: 0.058672\n",
      "Train Epoch: 5 [32000/60000 (53%)]\tLoss: 0.038819\n",
      "Train Epoch: 5 [32640/60000 (54%)]\tLoss: 0.056621\n",
      "Train Epoch: 5 [33280/60000 (55%)]\tLoss: 0.104369\n",
      "Train Epoch: 5 [33920/60000 (57%)]\tLoss: 0.024048\n",
      "Train Epoch: 5 [34560/60000 (58%)]\tLoss: 0.179787\n",
      "Train Epoch: 5 [35200/60000 (59%)]\tLoss: 0.039310\n",
      "Train Epoch: 5 [35840/60000 (60%)]\tLoss: 0.077656\n",
      "Train Epoch: 5 [36480/60000 (61%)]\tLoss: 0.080536\n",
      "Train Epoch: 5 [37120/60000 (62%)]\tLoss: 0.039642\n",
      "Train Epoch: 5 [37760/60000 (63%)]\tLoss: 0.042261\n",
      "Train Epoch: 5 [38400/60000 (64%)]\tLoss: 0.061775\n",
      "Train Epoch: 5 [39040/60000 (65%)]\tLoss: 0.097385\n",
      "Train Epoch: 5 [39680/60000 (66%)]\tLoss: 0.033216\n",
      "Train Epoch: 5 [40320/60000 (67%)]\tLoss: 0.055629\n",
      "Train Epoch: 5 [40960/60000 (68%)]\tLoss: 0.056034\n",
      "Train Epoch: 5 [41600/60000 (69%)]\tLoss: 0.257556\n",
      "Train Epoch: 5 [42240/60000 (70%)]\tLoss: 0.060894\n",
      "Train Epoch: 5 [42880/60000 (71%)]\tLoss: 0.050039\n",
      "Train Epoch: 5 [43520/60000 (72%)]\tLoss: 0.019628\n",
      "Train Epoch: 5 [44160/60000 (74%)]\tLoss: 0.041749\n",
      "Train Epoch: 5 [44800/60000 (75%)]\tLoss: 0.051509\n",
      "Train Epoch: 5 [45440/60000 (76%)]\tLoss: 0.016990\n",
      "Train Epoch: 5 [46080/60000 (77%)]\tLoss: 0.135612\n",
      "Train Epoch: 5 [46720/60000 (78%)]\tLoss: 0.177680\n",
      "Train Epoch: 5 [47360/60000 (79%)]\tLoss: 0.125778\n",
      "Train Epoch: 5 [48000/60000 (80%)]\tLoss: 0.039519\n",
      "Train Epoch: 5 [48640/60000 (81%)]\tLoss: 0.101204\n",
      "Train Epoch: 5 [49280/60000 (82%)]\tLoss: 0.019574\n",
      "Train Epoch: 5 [49920/60000 (83%)]\tLoss: 0.091745\n",
      "Train Epoch: 5 [50560/60000 (84%)]\tLoss: 0.096605\n",
      "Train Epoch: 5 [51200/60000 (85%)]\tLoss: 0.021084\n",
      "Train Epoch: 5 [51840/60000 (86%)]\tLoss: 0.050815\n",
      "Train Epoch: 5 [52480/60000 (87%)]\tLoss: 0.091861\n",
      "Train Epoch: 5 [53120/60000 (88%)]\tLoss: 0.061277\n",
      "Train Epoch: 5 [53760/60000 (90%)]\tLoss: 0.062017\n",
      "Train Epoch: 5 [54400/60000 (91%)]\tLoss: 0.096684\n",
      "Train Epoch: 5 [55040/60000 (92%)]\tLoss: 0.065317\n",
      "Train Epoch: 5 [55680/60000 (93%)]\tLoss: 0.022208\n",
      "Train Epoch: 5 [56320/60000 (94%)]\tLoss: 0.114414\n",
      "Train Epoch: 5 [56960/60000 (95%)]\tLoss: 0.008891\n",
      "Train Epoch: 5 [57600/60000 (96%)]\tLoss: 0.061505\n",
      "Train Epoch: 5 [58240/60000 (97%)]\tLoss: 0.182862\n",
      "Train Epoch: 5 [58880/60000 (98%)]\tLoss: 0.028741\n",
      "Train Epoch: 5 [59520/60000 (99%)]\tLoss: 0.040897\n",
      "\n",
      "Test set: Average loss: 0.0631, Accuracy: 9809/10000 (98%)\n",
      "\n",
      "Train Epoch: 6 [0/60000 (0%)]\tLoss: 0.148678\n",
      "Train Epoch: 6 [640/60000 (1%)]\tLoss: 0.018037\n",
      "Train Epoch: 6 [1280/60000 (2%)]\tLoss: 0.226542\n",
      "Train Epoch: 6 [1920/60000 (3%)]\tLoss: 0.110646\n",
      "Train Epoch: 6 [2560/60000 (4%)]\tLoss: 0.064603\n",
      "Train Epoch: 6 [3200/60000 (5%)]\tLoss: 0.061532\n",
      "Train Epoch: 6 [3840/60000 (6%)]\tLoss: 0.027189\n",
      "Train Epoch: 6 [4480/60000 (7%)]\tLoss: 0.073091\n",
      "Train Epoch: 6 [5120/60000 (9%)]\tLoss: 0.093877\n",
      "Train Epoch: 6 [5760/60000 (10%)]\tLoss: 0.067115\n",
      "Train Epoch: 6 [6400/60000 (11%)]\tLoss: 0.055445\n",
      "Train Epoch: 6 [7040/60000 (12%)]\tLoss: 0.048892\n",
      "Train Epoch: 6 [7680/60000 (13%)]\tLoss: 0.108430\n",
      "Train Epoch: 6 [8320/60000 (14%)]\tLoss: 0.033483\n",
      "Train Epoch: 6 [8960/60000 (15%)]\tLoss: 0.168953\n",
      "Train Epoch: 6 [9600/60000 (16%)]\tLoss: 0.035999\n",
      "Train Epoch: 6 [10240/60000 (17%)]\tLoss: 0.084598\n",
      "Train Epoch: 6 [10880/60000 (18%)]\tLoss: 0.109947\n",
      "Train Epoch: 6 [11520/60000 (19%)]\tLoss: 0.045936\n",
      "Train Epoch: 6 [12160/60000 (20%)]\tLoss: 0.054254\n",
      "Train Epoch: 6 [12800/60000 (21%)]\tLoss: 0.222381\n",
      "Train Epoch: 6 [13440/60000 (22%)]\tLoss: 0.061144\n",
      "Train Epoch: 6 [14080/60000 (23%)]\tLoss: 0.014238\n",
      "Train Epoch: 6 [14720/60000 (25%)]\tLoss: 0.127508\n",
      "Train Epoch: 6 [15360/60000 (26%)]\tLoss: 0.072873\n",
      "Train Epoch: 6 [16000/60000 (27%)]\tLoss: 0.052939\n",
      "Train Epoch: 6 [16640/60000 (28%)]\tLoss: 0.190522\n",
      "Train Epoch: 6 [17280/60000 (29%)]\tLoss: 0.179411\n",
      "Train Epoch: 6 [17920/60000 (30%)]\tLoss: 0.018344\n",
      "Train Epoch: 6 [18560/60000 (31%)]\tLoss: 0.016599\n",
      "Train Epoch: 6 [19200/60000 (32%)]\tLoss: 0.016135\n",
      "Train Epoch: 6 [19840/60000 (33%)]\tLoss: 0.175639\n",
      "Train Epoch: 6 [20480/60000 (34%)]\tLoss: 0.067102\n",
      "Train Epoch: 6 [21120/60000 (35%)]\tLoss: 0.019471\n",
      "Train Epoch: 6 [21760/60000 (36%)]\tLoss: 0.227444\n",
      "Train Epoch: 6 [22400/60000 (37%)]\tLoss: 0.076943\n",
      "Train Epoch: 6 [23040/60000 (38%)]\tLoss: 0.184563\n",
      "Train Epoch: 6 [23680/60000 (39%)]\tLoss: 0.023897\n",
      "Train Epoch: 6 [24320/60000 (41%)]\tLoss: 0.029381\n",
      "Train Epoch: 6 [24960/60000 (42%)]\tLoss: 0.048467\n",
      "Train Epoch: 6 [25600/60000 (43%)]\tLoss: 0.059005\n",
      "Train Epoch: 6 [26240/60000 (44%)]\tLoss: 0.042237\n",
      "Train Epoch: 6 [26880/60000 (45%)]\tLoss: 0.028073\n",
      "Train Epoch: 6 [27520/60000 (46%)]\tLoss: 0.039022\n",
      "Train Epoch: 6 [28160/60000 (47%)]\tLoss: 0.052250\n",
      "Train Epoch: 6 [28800/60000 (48%)]\tLoss: 0.039654\n",
      "Train Epoch: 6 [29440/60000 (49%)]\tLoss: 0.022418\n",
      "Train Epoch: 6 [30080/60000 (50%)]\tLoss: 0.129717\n",
      "Train Epoch: 6 [30720/60000 (51%)]\tLoss: 0.098427\n",
      "Train Epoch: 6 [31360/60000 (52%)]\tLoss: 0.010188\n",
      "Train Epoch: 6 [32000/60000 (53%)]\tLoss: 0.139196\n",
      "Train Epoch: 6 [32640/60000 (54%)]\tLoss: 0.062751\n",
      "Train Epoch: 6 [33280/60000 (55%)]\tLoss: 0.024791\n",
      "Train Epoch: 6 [33920/60000 (57%)]\tLoss: 0.054941\n",
      "Train Epoch: 6 [34560/60000 (58%)]\tLoss: 0.021396\n",
      "Train Epoch: 6 [35200/60000 (59%)]\tLoss: 0.148141\n",
      "Train Epoch: 6 [35840/60000 (60%)]\tLoss: 0.122341\n",
      "Train Epoch: 6 [36480/60000 (61%)]\tLoss: 0.044306\n",
      "Train Epoch: 6 [37120/60000 (62%)]\tLoss: 0.081548\n",
      "Train Epoch: 6 [37760/60000 (63%)]\tLoss: 0.086027\n",
      "Train Epoch: 6 [38400/60000 (64%)]\tLoss: 0.020299\n",
      "Train Epoch: 6 [39040/60000 (65%)]\tLoss: 0.120070\n",
      "Train Epoch: 6 [39680/60000 (66%)]\tLoss: 0.118799\n",
      "Train Epoch: 6 [40320/60000 (67%)]\tLoss: 0.209287\n",
      "Train Epoch: 6 [40960/60000 (68%)]\tLoss: 0.060070\n",
      "Train Epoch: 6 [41600/60000 (69%)]\tLoss: 0.073286\n",
      "Train Epoch: 6 [42240/60000 (70%)]\tLoss: 0.069845\n",
      "Train Epoch: 6 [42880/60000 (71%)]\tLoss: 0.035015\n",
      "Train Epoch: 6 [43520/60000 (72%)]\tLoss: 0.201747\n",
      "Train Epoch: 6 [44160/60000 (74%)]\tLoss: 0.084026\n",
      "Train Epoch: 6 [44800/60000 (75%)]\tLoss: 0.030828\n",
      "Train Epoch: 6 [45440/60000 (76%)]\tLoss: 0.161095\n",
      "Train Epoch: 6 [46080/60000 (77%)]\tLoss: 0.064091\n",
      "Train Epoch: 6 [46720/60000 (78%)]\tLoss: 0.044102\n",
      "Train Epoch: 6 [47360/60000 (79%)]\tLoss: 0.037945\n",
      "Train Epoch: 6 [48000/60000 (80%)]\tLoss: 0.025980\n",
      "Train Epoch: 6 [48640/60000 (81%)]\tLoss: 0.140329\n",
      "Train Epoch: 6 [49280/60000 (82%)]\tLoss: 0.021174\n",
      "Train Epoch: 6 [49920/60000 (83%)]\tLoss: 0.022346\n",
      "Train Epoch: 6 [50560/60000 (84%)]\tLoss: 0.101099\n",
      "Train Epoch: 6 [51200/60000 (85%)]\tLoss: 0.120619\n",
      "Train Epoch: 6 [51840/60000 (86%)]\tLoss: 0.033724\n",
      "Train Epoch: 6 [52480/60000 (87%)]\tLoss: 0.024214\n",
      "Train Epoch: 6 [53120/60000 (88%)]\tLoss: 0.063175\n",
      "Train Epoch: 6 [53760/60000 (90%)]\tLoss: 0.023395\n",
      "Train Epoch: 6 [54400/60000 (91%)]\tLoss: 0.065470\n",
      "Train Epoch: 6 [55040/60000 (92%)]\tLoss: 0.087333\n",
      "Train Epoch: 6 [55680/60000 (93%)]\tLoss: 0.143635\n",
      "Train Epoch: 6 [56320/60000 (94%)]\tLoss: 0.051629\n",
      "Train Epoch: 6 [56960/60000 (95%)]\tLoss: 0.011425\n",
      "Train Epoch: 6 [57600/60000 (96%)]\tLoss: 0.015065\n",
      "Train Epoch: 6 [58240/60000 (97%)]\tLoss: 0.044651\n",
      "Train Epoch: 6 [58880/60000 (98%)]\tLoss: 0.015670\n",
      "Train Epoch: 6 [59520/60000 (99%)]\tLoss: 0.025399\n",
      "\n",
      "Test set: Average loss: 0.0553, Accuracy: 9828/10000 (98%)\n",
      "\n",
      "Train Epoch: 7 [0/60000 (0%)]\tLoss: 0.170774\n",
      "Train Epoch: 7 [640/60000 (1%)]\tLoss: 0.051099\n",
      "Train Epoch: 7 [1280/60000 (2%)]\tLoss: 0.024745\n",
      "Train Epoch: 7 [1920/60000 (3%)]\tLoss: 0.044252\n",
      "Train Epoch: 7 [2560/60000 (4%)]\tLoss: 0.099881\n",
      "Train Epoch: 7 [3200/60000 (5%)]\tLoss: 0.059382\n",
      "Train Epoch: 7 [3840/60000 (6%)]\tLoss: 0.043966\n",
      "Train Epoch: 7 [4480/60000 (7%)]\tLoss: 0.017435\n",
      "Train Epoch: 7 [5120/60000 (9%)]\tLoss: 0.020303\n",
      "Train Epoch: 7 [5760/60000 (10%)]\tLoss: 0.033134\n",
      "Train Epoch: 7 [6400/60000 (11%)]\tLoss: 0.033825\n",
      "Train Epoch: 7 [7040/60000 (12%)]\tLoss: 0.059593\n",
      "Train Epoch: 7 [7680/60000 (13%)]\tLoss: 0.029208\n",
      "Train Epoch: 7 [8320/60000 (14%)]\tLoss: 0.111975\n",
      "Train Epoch: 7 [8960/60000 (15%)]\tLoss: 0.094456\n",
      "Train Epoch: 7 [9600/60000 (16%)]\tLoss: 0.062453\n",
      "Train Epoch: 7 [10240/60000 (17%)]\tLoss: 0.107228\n",
      "Train Epoch: 7 [10880/60000 (18%)]\tLoss: 0.050026\n",
      "Train Epoch: 7 [11520/60000 (19%)]\tLoss: 0.058399\n"
     ]
    },
    {
     "name": "stdout",
     "output_type": "stream",
     "text": [
      "Train Epoch: 7 [12160/60000 (20%)]\tLoss: 0.177002\n",
      "Train Epoch: 7 [12800/60000 (21%)]\tLoss: 0.079678\n",
      "Train Epoch: 7 [13440/60000 (22%)]\tLoss: 0.027344\n",
      "Train Epoch: 7 [14080/60000 (23%)]\tLoss: 0.098478\n",
      "Train Epoch: 7 [14720/60000 (25%)]\tLoss: 0.010956\n",
      "Train Epoch: 7 [15360/60000 (26%)]\tLoss: 0.095805\n",
      "Train Epoch: 7 [16000/60000 (27%)]\tLoss: 0.029868\n",
      "Train Epoch: 7 [16640/60000 (28%)]\tLoss: 0.219432\n",
      "Train Epoch: 7 [17280/60000 (29%)]\tLoss: 0.014423\n",
      "Train Epoch: 7 [17920/60000 (30%)]\tLoss: 0.125118\n",
      "Train Epoch: 7 [18560/60000 (31%)]\tLoss: 0.079142\n",
      "Train Epoch: 7 [19200/60000 (32%)]\tLoss: 0.041658\n",
      "Train Epoch: 7 [19840/60000 (33%)]\tLoss: 0.120010\n",
      "Train Epoch: 7 [20480/60000 (34%)]\tLoss: 0.035212\n",
      "Train Epoch: 7 [21120/60000 (35%)]\tLoss: 0.021535\n",
      "Train Epoch: 7 [21760/60000 (36%)]\tLoss: 0.016453\n",
      "Train Epoch: 7 [22400/60000 (37%)]\tLoss: 0.042662\n",
      "Train Epoch: 7 [23040/60000 (38%)]\tLoss: 0.287872\n",
      "Train Epoch: 7 [23680/60000 (39%)]\tLoss: 0.008184\n",
      "Train Epoch: 7 [24320/60000 (41%)]\tLoss: 0.096842\n",
      "Train Epoch: 7 [24960/60000 (42%)]\tLoss: 0.104035\n",
      "Train Epoch: 7 [25600/60000 (43%)]\tLoss: 0.158090\n",
      "Train Epoch: 7 [26240/60000 (44%)]\tLoss: 0.029906\n",
      "Train Epoch: 7 [26880/60000 (45%)]\tLoss: 0.024824\n",
      "Train Epoch: 7 [27520/60000 (46%)]\tLoss: 0.063863\n",
      "Train Epoch: 7 [28160/60000 (47%)]\tLoss: 0.108496\n",
      "Train Epoch: 7 [28800/60000 (48%)]\tLoss: 0.045477\n",
      "Train Epoch: 7 [29440/60000 (49%)]\tLoss: 0.148026\n",
      "Train Epoch: 7 [30080/60000 (50%)]\tLoss: 0.208860\n",
      "Train Epoch: 7 [30720/60000 (51%)]\tLoss: 0.154610\n",
      "Train Epoch: 7 [31360/60000 (52%)]\tLoss: 0.083403\n",
      "Train Epoch: 7 [32000/60000 (53%)]\tLoss: 0.012254\n",
      "Train Epoch: 7 [32640/60000 (54%)]\tLoss: 0.053253\n",
      "Train Epoch: 7 [33280/60000 (55%)]\tLoss: 0.033286\n",
      "Train Epoch: 7 [33920/60000 (57%)]\tLoss: 0.021437\n",
      "Train Epoch: 7 [34560/60000 (58%)]\tLoss: 0.078310\n",
      "Train Epoch: 7 [35200/60000 (59%)]\tLoss: 0.077443\n",
      "Train Epoch: 7 [35840/60000 (60%)]\tLoss: 0.037553\n",
      "Train Epoch: 7 [36480/60000 (61%)]\tLoss: 0.181550\n",
      "Train Epoch: 7 [37120/60000 (62%)]\tLoss: 0.020179\n",
      "Train Epoch: 7 [37760/60000 (63%)]\tLoss: 0.133052\n",
      "Train Epoch: 7 [38400/60000 (64%)]\tLoss: 0.046156\n",
      "Train Epoch: 7 [39040/60000 (65%)]\tLoss: 0.050891\n",
      "Train Epoch: 7 [39680/60000 (66%)]\tLoss: 0.041796\n",
      "Train Epoch: 7 [40320/60000 (67%)]\tLoss: 0.142965\n",
      "Train Epoch: 7 [40960/60000 (68%)]\tLoss: 0.026263\n",
      "Train Epoch: 7 [41600/60000 (69%)]\tLoss: 0.065315\n",
      "Train Epoch: 7 [42240/60000 (70%)]\tLoss: 0.017387\n",
      "Train Epoch: 7 [42880/60000 (71%)]\tLoss: 0.115917\n",
      "Train Epoch: 7 [43520/60000 (72%)]\tLoss: 0.011228\n",
      "Train Epoch: 7 [44160/60000 (74%)]\tLoss: 0.021741\n",
      "Train Epoch: 7 [44800/60000 (75%)]\tLoss: 0.061065\n",
      "Train Epoch: 7 [45440/60000 (76%)]\tLoss: 0.137670\n",
      "Train Epoch: 7 [46080/60000 (77%)]\tLoss: 0.068462\n",
      "Train Epoch: 7 [46720/60000 (78%)]\tLoss: 0.005648\n",
      "Train Epoch: 7 [47360/60000 (79%)]\tLoss: 0.027509\n",
      "Train Epoch: 7 [48000/60000 (80%)]\tLoss: 0.063598\n",
      "Train Epoch: 7 [48640/60000 (81%)]\tLoss: 0.062710\n",
      "Train Epoch: 7 [49280/60000 (82%)]\tLoss: 0.091874\n",
      "Train Epoch: 7 [49920/60000 (83%)]\tLoss: 0.042221\n",
      "Train Epoch: 7 [50560/60000 (84%)]\tLoss: 0.044872\n",
      "Train Epoch: 7 [51200/60000 (85%)]\tLoss: 0.148846\n",
      "Train Epoch: 7 [51840/60000 (86%)]\tLoss: 0.082378\n",
      "Train Epoch: 7 [52480/60000 (87%)]\tLoss: 0.086179\n",
      "Train Epoch: 7 [53120/60000 (88%)]\tLoss: 0.032887\n",
      "Train Epoch: 7 [53760/60000 (90%)]\tLoss: 0.033169\n",
      "Train Epoch: 7 [54400/60000 (91%)]\tLoss: 0.025648\n",
      "Train Epoch: 7 [55040/60000 (92%)]\tLoss: 0.073954\n",
      "Train Epoch: 7 [55680/60000 (93%)]\tLoss: 0.097178\n",
      "Train Epoch: 7 [56320/60000 (94%)]\tLoss: 0.014924\n",
      "Train Epoch: 7 [56960/60000 (95%)]\tLoss: 0.025166\n",
      "Train Epoch: 7 [57600/60000 (96%)]\tLoss: 0.026665\n",
      "Train Epoch: 7 [58240/60000 (97%)]\tLoss: 0.087533\n",
      "Train Epoch: 7 [58880/60000 (98%)]\tLoss: 0.113556\n",
      "Train Epoch: 7 [59520/60000 (99%)]\tLoss: 0.061209\n",
      "\n",
      "Test set: Average loss: 0.0636, Accuracy: 9795/10000 (98%)\n",
      "\n",
      "Train Epoch: 8 [0/60000 (0%)]\tLoss: 0.115853\n",
      "Train Epoch: 8 [640/60000 (1%)]\tLoss: 0.088263\n",
      "Train Epoch: 8 [1280/60000 (2%)]\tLoss: 0.064603\n",
      "Train Epoch: 8 [1920/60000 (3%)]\tLoss: 0.033103\n",
      "Train Epoch: 8 [2560/60000 (4%)]\tLoss: 0.027415\n",
      "Train Epoch: 8 [3200/60000 (5%)]\tLoss: 0.040883\n",
      "Train Epoch: 8 [3840/60000 (6%)]\tLoss: 0.068101\n",
      "Train Epoch: 8 [4480/60000 (7%)]\tLoss: 0.090117\n",
      "Train Epoch: 8 [5120/60000 (9%)]\tLoss: 0.054012\n",
      "Train Epoch: 8 [5760/60000 (10%)]\tLoss: 0.023858\n",
      "Train Epoch: 8 [6400/60000 (11%)]\tLoss: 0.007275\n",
      "Train Epoch: 8 [7040/60000 (12%)]\tLoss: 0.096861\n",
      "Train Epoch: 8 [7680/60000 (13%)]\tLoss: 0.029743\n",
      "Train Epoch: 8 [8320/60000 (14%)]\tLoss: 0.062616\n",
      "Train Epoch: 8 [8960/60000 (15%)]\tLoss: 0.012762\n",
      "Train Epoch: 8 [9600/60000 (16%)]\tLoss: 0.065019\n",
      "Train Epoch: 8 [10240/60000 (17%)]\tLoss: 0.028365\n",
      "Train Epoch: 8 [10880/60000 (18%)]\tLoss: 0.054489\n",
      "Train Epoch: 8 [11520/60000 (19%)]\tLoss: 0.284620\n",
      "Train Epoch: 8 [12160/60000 (20%)]\tLoss: 0.104721\n",
      "Train Epoch: 8 [12800/60000 (21%)]\tLoss: 0.083555\n",
      "Train Epoch: 8 [13440/60000 (22%)]\tLoss: 0.030819\n",
      "Train Epoch: 8 [14080/60000 (23%)]\tLoss: 0.015614\n",
      "Train Epoch: 8 [14720/60000 (25%)]\tLoss: 0.075039\n",
      "Train Epoch: 8 [15360/60000 (26%)]\tLoss: 0.029543\n",
      "Train Epoch: 8 [16000/60000 (27%)]\tLoss: 0.129758\n",
      "Train Epoch: 8 [16640/60000 (28%)]\tLoss: 0.032833\n",
      "Train Epoch: 8 [17280/60000 (29%)]\tLoss: 0.072509\n",
      "Train Epoch: 8 [17920/60000 (30%)]\tLoss: 0.050290\n",
      "Train Epoch: 8 [18560/60000 (31%)]\tLoss: 0.050011\n",
      "Train Epoch: 8 [19200/60000 (32%)]\tLoss: 0.012349\n",
      "Train Epoch: 8 [19840/60000 (33%)]\tLoss: 0.148197\n",
      "Train Epoch: 8 [20480/60000 (34%)]\tLoss: 0.075169\n",
      "Train Epoch: 8 [21120/60000 (35%)]\tLoss: 0.072575\n",
      "Train Epoch: 8 [21760/60000 (36%)]\tLoss: 0.043148\n",
      "Train Epoch: 8 [22400/60000 (37%)]\tLoss: 0.078381\n",
      "Train Epoch: 8 [23040/60000 (38%)]\tLoss: 0.024258\n",
      "Train Epoch: 8 [23680/60000 (39%)]\tLoss: 0.032706\n",
      "Train Epoch: 8 [24320/60000 (41%)]\tLoss: 0.112429\n",
      "Train Epoch: 8 [24960/60000 (42%)]\tLoss: 0.031073\n",
      "Train Epoch: 8 [25600/60000 (43%)]\tLoss: 0.054320\n",
      "Train Epoch: 8 [26240/60000 (44%)]\tLoss: 0.024182\n",
      "Train Epoch: 8 [26880/60000 (45%)]\tLoss: 0.066972\n",
      "Train Epoch: 8 [27520/60000 (46%)]\tLoss: 0.098631\n",
      "Train Epoch: 8 [28160/60000 (47%)]\tLoss: 0.125997\n",
      "Train Epoch: 8 [28800/60000 (48%)]\tLoss: 0.011524\n",
      "Train Epoch: 8 [29440/60000 (49%)]\tLoss: 0.011778\n",
      "Train Epoch: 8 [30080/60000 (50%)]\tLoss: 0.202469\n",
      "Train Epoch: 8 [30720/60000 (51%)]\tLoss: 0.183790\n",
      "Train Epoch: 8 [31360/60000 (52%)]\tLoss: 0.015113\n",
      "Train Epoch: 8 [32000/60000 (53%)]\tLoss: 0.003567\n",
      "Train Epoch: 8 [32640/60000 (54%)]\tLoss: 0.107820\n",
      "Train Epoch: 8 [33280/60000 (55%)]\tLoss: 0.036171\n",
      "Train Epoch: 8 [33920/60000 (57%)]\tLoss: 0.018705\n",
      "Train Epoch: 8 [34560/60000 (58%)]\tLoss: 0.078084\n",
      "Train Epoch: 8 [35200/60000 (59%)]\tLoss: 0.084017\n",
      "Train Epoch: 8 [35840/60000 (60%)]\tLoss: 0.069275\n",
      "Train Epoch: 8 [36480/60000 (61%)]\tLoss: 0.111290\n",
      "Train Epoch: 8 [37120/60000 (62%)]\tLoss: 0.022706\n",
      "Train Epoch: 8 [37760/60000 (63%)]\tLoss: 0.056257\n",
      "Train Epoch: 8 [38400/60000 (64%)]\tLoss: 0.047905\n",
      "Train Epoch: 8 [39040/60000 (65%)]\tLoss: 0.161634\n",
      "Train Epoch: 8 [39680/60000 (66%)]\tLoss: 0.023361\n",
      "Train Epoch: 8 [40320/60000 (67%)]\tLoss: 0.034141\n",
      "Train Epoch: 8 [40960/60000 (68%)]\tLoss: 0.165547\n",
      "Train Epoch: 8 [41600/60000 (69%)]\tLoss: 0.122918\n",
      "Train Epoch: 8 [42240/60000 (70%)]\tLoss: 0.064744\n",
      "Train Epoch: 8 [42880/60000 (71%)]\tLoss: 0.033635\n",
      "Train Epoch: 8 [43520/60000 (72%)]\tLoss: 0.097373\n",
      "Train Epoch: 8 [44160/60000 (74%)]\tLoss: 0.037950\n",
      "Train Epoch: 8 [44800/60000 (75%)]\tLoss: 0.127923\n",
      "Train Epoch: 8 [45440/60000 (76%)]\tLoss: 0.024941\n",
      "Train Epoch: 8 [46080/60000 (77%)]\tLoss: 0.031513\n",
      "Train Epoch: 8 [46720/60000 (78%)]\tLoss: 0.104809\n",
      "Train Epoch: 8 [47360/60000 (79%)]\tLoss: 0.047865\n",
      "Train Epoch: 8 [48000/60000 (80%)]\tLoss: 0.012662\n",
      "Train Epoch: 8 [48640/60000 (81%)]\tLoss: 0.020137\n",
      "Train Epoch: 8 [49280/60000 (82%)]\tLoss: 0.094139\n",
      "Train Epoch: 8 [49920/60000 (83%)]\tLoss: 0.044735\n",
      "Train Epoch: 8 [50560/60000 (84%)]\tLoss: 0.047188\n",
      "Train Epoch: 8 [51200/60000 (85%)]\tLoss: 0.036026\n",
      "Train Epoch: 8 [51840/60000 (86%)]\tLoss: 0.065534\n",
      "Train Epoch: 8 [52480/60000 (87%)]\tLoss: 0.031218\n",
      "Train Epoch: 8 [53120/60000 (88%)]\tLoss: 0.013039\n",
      "Train Epoch: 8 [53760/60000 (90%)]\tLoss: 0.028616\n",
      "Train Epoch: 8 [54400/60000 (91%)]\tLoss: 0.063665\n",
      "Train Epoch: 8 [55040/60000 (92%)]\tLoss: 0.011271\n",
      "Train Epoch: 8 [55680/60000 (93%)]\tLoss: 0.020681\n",
      "Train Epoch: 8 [56320/60000 (94%)]\tLoss: 0.039590\n"
     ]
    },
    {
     "name": "stdout",
     "output_type": "stream",
     "text": [
      "Train Epoch: 8 [56960/60000 (95%)]\tLoss: 0.031192\n",
      "Train Epoch: 8 [57600/60000 (96%)]\tLoss: 0.017280\n",
      "Train Epoch: 8 [58240/60000 (97%)]\tLoss: 0.020181\n",
      "Train Epoch: 8 [58880/60000 (98%)]\tLoss: 0.062796\n",
      "Train Epoch: 8 [59520/60000 (99%)]\tLoss: 0.238597\n",
      "\n",
      "Test set: Average loss: 0.0507, Accuracy: 9839/10000 (98%)\n",
      "\n",
      "Train Epoch: 9 [0/60000 (0%)]\tLoss: 0.071010\n",
      "Train Epoch: 9 [640/60000 (1%)]\tLoss: 0.052055\n",
      "Train Epoch: 9 [1280/60000 (2%)]\tLoss: 0.028068\n",
      "Train Epoch: 9 [1920/60000 (3%)]\tLoss: 0.072026\n",
      "Train Epoch: 9 [2560/60000 (4%)]\tLoss: 0.039973\n",
      "Train Epoch: 9 [3200/60000 (5%)]\tLoss: 0.076412\n",
      "Train Epoch: 9 [3840/60000 (6%)]\tLoss: 0.060067\n",
      "Train Epoch: 9 [4480/60000 (7%)]\tLoss: 0.046130\n",
      "Train Epoch: 9 [5120/60000 (9%)]\tLoss: 0.054195\n",
      "Train Epoch: 9 [5760/60000 (10%)]\tLoss: 0.050365\n",
      "Train Epoch: 9 [6400/60000 (11%)]\tLoss: 0.079095\n",
      "Train Epoch: 9 [7040/60000 (12%)]\tLoss: 0.053913\n",
      "Train Epoch: 9 [7680/60000 (13%)]\tLoss: 0.113250\n",
      "Train Epoch: 9 [8320/60000 (14%)]\tLoss: 0.187094\n",
      "Train Epoch: 9 [8960/60000 (15%)]\tLoss: 0.006721\n",
      "Train Epoch: 9 [9600/60000 (16%)]\tLoss: 0.034871\n",
      "Train Epoch: 9 [10240/60000 (17%)]\tLoss: 0.019854\n",
      "Train Epoch: 9 [10880/60000 (18%)]\tLoss: 0.079930\n",
      "Train Epoch: 9 [11520/60000 (19%)]\tLoss: 0.035265\n",
      "Train Epoch: 9 [12160/60000 (20%)]\tLoss: 0.085937\n",
      "Train Epoch: 9 [12800/60000 (21%)]\tLoss: 0.037013\n",
      "Train Epoch: 9 [13440/60000 (22%)]\tLoss: 0.034977\n",
      "Train Epoch: 9 [14080/60000 (23%)]\tLoss: 0.058075\n",
      "Train Epoch: 9 [14720/60000 (25%)]\tLoss: 0.052036\n",
      "Train Epoch: 9 [15360/60000 (26%)]\tLoss: 0.036381\n",
      "Train Epoch: 9 [16000/60000 (27%)]\tLoss: 0.032930\n",
      "Train Epoch: 9 [16640/60000 (28%)]\tLoss: 0.093381\n",
      "Train Epoch: 9 [17280/60000 (29%)]\tLoss: 0.119865\n",
      "Train Epoch: 9 [17920/60000 (30%)]\tLoss: 0.027751\n",
      "Train Epoch: 9 [18560/60000 (31%)]\tLoss: 0.006145\n",
      "Train Epoch: 9 [19200/60000 (32%)]\tLoss: 0.083043\n",
      "Train Epoch: 9 [19840/60000 (33%)]\tLoss: 0.048895\n",
      "Train Epoch: 9 [20480/60000 (34%)]\tLoss: 0.097314\n",
      "Train Epoch: 9 [21120/60000 (35%)]\tLoss: 0.029969\n",
      "Train Epoch: 9 [21760/60000 (36%)]\tLoss: 0.048797\n",
      "Train Epoch: 9 [22400/60000 (37%)]\tLoss: 0.041641\n",
      "Train Epoch: 9 [23040/60000 (38%)]\tLoss: 0.101113\n",
      "Train Epoch: 9 [23680/60000 (39%)]\tLoss: 0.049812\n",
      "Train Epoch: 9 [24320/60000 (41%)]\tLoss: 0.030199\n",
      "Train Epoch: 9 [24960/60000 (42%)]\tLoss: 0.076657\n",
      "Train Epoch: 9 [25600/60000 (43%)]\tLoss: 0.018965\n",
      "Train Epoch: 9 [26240/60000 (44%)]\tLoss: 0.091236\n",
      "Train Epoch: 9 [26880/60000 (45%)]\tLoss: 0.057036\n",
      "Train Epoch: 9 [27520/60000 (46%)]\tLoss: 0.051802\n",
      "Train Epoch: 9 [28160/60000 (47%)]\tLoss: 0.083543\n",
      "Train Epoch: 9 [28800/60000 (48%)]\tLoss: 0.079385\n",
      "Train Epoch: 9 [29440/60000 (49%)]\tLoss: 0.017366\n",
      "Train Epoch: 9 [30080/60000 (50%)]\tLoss: 0.106806\n",
      "Train Epoch: 9 [30720/60000 (51%)]\tLoss: 0.104458\n",
      "Train Epoch: 9 [31360/60000 (52%)]\tLoss: 0.068248\n",
      "Train Epoch: 9 [32000/60000 (53%)]\tLoss: 0.036979\n",
      "Train Epoch: 9 [32640/60000 (54%)]\tLoss: 0.015094\n",
      "Train Epoch: 9 [33280/60000 (55%)]\tLoss: 0.034295\n",
      "Train Epoch: 9 [33920/60000 (57%)]\tLoss: 0.056518\n",
      "Train Epoch: 9 [34560/60000 (58%)]\tLoss: 0.148831\n",
      "Train Epoch: 9 [35200/60000 (59%)]\tLoss: 0.012559\n",
      "Train Epoch: 9 [35840/60000 (60%)]\tLoss: 0.062245\n",
      "Train Epoch: 9 [36480/60000 (61%)]\tLoss: 0.109188\n",
      "Train Epoch: 9 [37120/60000 (62%)]\tLoss: 0.121656\n",
      "Train Epoch: 9 [37760/60000 (63%)]\tLoss: 0.084504\n",
      "Train Epoch: 9 [38400/60000 (64%)]\tLoss: 0.063136\n",
      "Train Epoch: 9 [39040/60000 (65%)]\tLoss: 0.064541\n",
      "Train Epoch: 9 [39680/60000 (66%)]\tLoss: 0.027854\n",
      "Train Epoch: 9 [40320/60000 (67%)]\tLoss: 0.027791\n",
      "Train Epoch: 9 [40960/60000 (68%)]\tLoss: 0.014215\n",
      "Train Epoch: 9 [41600/60000 (69%)]\tLoss: 0.155491\n",
      "Train Epoch: 9 [42240/60000 (70%)]\tLoss: 0.024205\n",
      "Train Epoch: 9 [42880/60000 (71%)]\tLoss: 0.066595\n",
      "Train Epoch: 9 [43520/60000 (72%)]\tLoss: 0.013443\n",
      "Train Epoch: 9 [44160/60000 (74%)]\tLoss: 0.063217\n",
      "Train Epoch: 9 [44800/60000 (75%)]\tLoss: 0.093841\n",
      "Train Epoch: 9 [45440/60000 (76%)]\tLoss: 0.030588\n",
      "Train Epoch: 9 [46080/60000 (77%)]\tLoss: 0.053308\n",
      "Train Epoch: 9 [46720/60000 (78%)]\tLoss: 0.020352\n",
      "Train Epoch: 9 [47360/60000 (79%)]\tLoss: 0.034143\n",
      "Train Epoch: 9 [48000/60000 (80%)]\tLoss: 0.012124\n",
      "Train Epoch: 9 [48640/60000 (81%)]\tLoss: 0.074918\n",
      "Train Epoch: 9 [49280/60000 (82%)]\tLoss: 0.068237\n",
      "Train Epoch: 9 [49920/60000 (83%)]\tLoss: 0.102610\n",
      "Train Epoch: 9 [50560/60000 (84%)]\tLoss: 0.053551\n",
      "Train Epoch: 9 [51200/60000 (85%)]\tLoss: 0.053929\n",
      "Train Epoch: 9 [51840/60000 (86%)]\tLoss: 0.045491\n",
      "Train Epoch: 9 [52480/60000 (87%)]\tLoss: 0.020116\n",
      "Train Epoch: 9 [53120/60000 (88%)]\tLoss: 0.026593\n",
      "Train Epoch: 9 [53760/60000 (90%)]\tLoss: 0.009643\n",
      "Train Epoch: 9 [54400/60000 (91%)]\tLoss: 0.096519\n",
      "Train Epoch: 9 [55040/60000 (92%)]\tLoss: 0.017984\n",
      "Train Epoch: 9 [55680/60000 (93%)]\tLoss: 0.022150\n",
      "Train Epoch: 9 [56320/60000 (94%)]\tLoss: 0.079838\n",
      "Train Epoch: 9 [56960/60000 (95%)]\tLoss: 0.076628\n",
      "Train Epoch: 9 [57600/60000 (96%)]\tLoss: 0.078730\n",
      "Train Epoch: 9 [58240/60000 (97%)]\tLoss: 0.016729\n",
      "Train Epoch: 9 [58880/60000 (98%)]\tLoss: 0.026430\n",
      "Train Epoch: 9 [59520/60000 (99%)]\tLoss: 0.104124\n",
      "\n",
      "Test set: Average loss: 0.0515, Accuracy: 9843/10000 (98%)\n",
      "\n"
     ]
    }
   ],
   "source": [
    "for epoch in range(1, 10):\n",
    "    train(epoch)\n",
    "    test()"
   ]
  },
  {
   "cell_type": "code",
   "execution_count": null,
   "metadata": {
    "id": "gStVdIrxUIIG"
   },
   "outputs": [],
   "source": []
  }
 ],
 "metadata": {
  "accelerator": "GPU",
  "colab": {
   "machine_shape": "hm",
   "provenance": []
  },
  "kernelspec": {
   "display_name": "Python 3 (ipykernel)",
   "language": "python",
   "name": "python3"
  },
  "language_info": {
   "codemirror_mode": {
    "name": "ipython",
    "version": 3
   },
   "file_extension": ".py",
   "mimetype": "text/x-python",
   "name": "python",
   "nbconvert_exporter": "python",
   "pygments_lexer": "ipython3",
   "version": "3.11.5"
  }
 },
 "nbformat": 4,
 "nbformat_minor": 1
}
