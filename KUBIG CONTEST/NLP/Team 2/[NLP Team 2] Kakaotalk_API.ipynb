{
  "nbformat": 4,
  "nbformat_minor": 0,
  "metadata": {
    "colab": {
      "provenance": []
    },
    "kernelspec": {
      "name": "python3",
      "display_name": "Python 3"
    },
    "language_info": {
      "name": "python"
    }
  },
  "cells": [
    {
      "cell_type": "markdown",
      "source": [
        "# 카카오톡 나에게 보내기 API\n",
        "\n",
        "링크 참조:https://foss4g.tistory.com/1636\n",
        "\n",
        "1. 개인 client id 및 코드 발급 (상기링크 참조)\n",
        "https://developers.kakao.com/console/app\n",
        "\n",
        "2. access_token 발급되면 해당 토큰 두번째 코드 블럭의 headers에 access_token 채우기\n",
        "\n",
        "3. template 파일에 원하는 내용 삽입 후 코드 실행 시 나에게 보내기로 전송\n",
        "\n",
        "\n",
        "~~~\n",
        "지금은 제거(임정준) 코드로 되어있어서 실행 시 저에게 나에게 보내기로 됩니다. 본인으로 전송을 원하시면 본인 코드를 발급해서 입력해주시면 됩니다!\n",
        "~~~"
      ],
      "metadata": {
        "id": "Yhs2eBznTMKj"
      }
    },
    {
      "cell_type": "code",
      "execution_count": 2,
      "metadata": {
        "colab": {
          "base_uri": "https://localhost:8080/"
        },
        "id": "3ncYx1n4Xxj-",
        "outputId": "e49ec861-8a3c-4459-cc29-d27f2bd6f739"
      },
      "outputs": [
        {
          "output_type": "stream",
          "name": "stdout",
          "text": [
            "{'error': 'invalid_grant', 'error_description': 'authorization code not found for code=Z17gJ67SdXiIlmb9285aSEQrvcsfvpUZGLrNcEaqJVu5yBu9o1VpXYXcgHIKKiWOAAABjd6B7MTSDh85zpcCzQ', 'error_code': 'KOE320'}\n"
          ]
        }
      ],
      "source": [
        "import json\n",
        "import requests\n",
        "\n",
        "url = \"https://kauth.kakao.com/oauth/token\"\n",
        "data = {\n",
        "    \"grant_type\" : \"authorization_code\",\n",
        "    \"client_id\" : \"f26a136748ff9b59f50411d6c80064df\", #개인 클라이언트 ID\n",
        "    \"redirect_url\" : \"https://localhost:3000\",\n",
        "    \"code\" : \"Z17gJ67SdXiIlmb9285aSEQrvcsfvpUZGLrNcEaqJVu5yBu9o1VpXYXcgHIKKiWOAAABjd6B7MTSDh85zpcCzQ\" #개인 코드 발급\n",
        "}\n",
        "response = requests.post(url, data=data)\n",
        "tokens = response.json()\n",
        "print(tokens)\n",
        "\n"
      ]
    },
    {
      "cell_type": "code",
      "source": [
        "url = \"https://kapi.kakao.com/v2/api/talk/memo/default/send\"\n",
        "headers = {\n",
        "    \"Authorization\": \"bearer \" + \"z7Rogzgi1QztzZNECrV30DTenJTbcAZWMfcKKwyoAAABjd6DNCDHP8VuE1ZNOQ\" #뒤에 이상한 영어숫자가 access_token\n",
        "}\n",
        "\n",
        "\n",
        "template = {\n",
        "    \"object_type\" : \"list\",\n",
        "    \"header_title\" : \"Google\",\n",
        "    \"header_link\" : {\n",
        "        \"web_url\" : \"www.google.com\",\n",
        "        \"mobile_web_url\" : \"www.google.com\"\n",
        "    },\n",
        "    \"contents\" : [\n",
        "        {\n",
        "            \"title\" : \"1. 국립공원 뉴스\",\n",
        "            \"description\" : \"검색어: national park\",\n",
        "            \"image_url\" : \"https://cdn.kado.net/news/photo/201901/948844_399953_0825.jpg\",\n",
        "            \"image_width\" : 50, \"image_height\" : 50,\n",
        "            \"link\" : {\n",
        "                \"web_url\" : \"https://www.google.co.kr/search?q=national+park&source=lnms&tbm=nws\",\n",
        "                \"mobile_web_url\" : \"https://www.google.co.kr/search?q=national+park&source=lnms&tbm=nws\"\n",
        "            }\n",
        "        },\n",
        "        {\n",
        "            \"title\" : \"1. 국립공원 뉴스\",\n",
        "            \"description\" : \"검색어: national park\",\n",
        "            \"image_url\" : \"https://cdn.kado.net/news/photo/201901/948844_399953_0825.jpg\",\n",
        "            \"image_width\" : 50, \"image_height\" : 50,\n",
        "            \"link\" : {\n",
        "                \"web_url\" : \"https://www.google.co.kr/search?q=national+park&source=lnms&tbm=nws\",\n",
        "                \"mobile_web_url\" : \"https://www.google.co.kr/search?q=national+park&source=lnms&tbm=nws\"\n",
        "            }\n",
        "        },\n",
        "        {\n",
        "            \"title\" : \"1. 국립공원 뉴스\",\n",
        "            \"description\" : \"검색어: national park\",\n",
        "            \"image_url\" : \"https://cdn.kado.net/news/photo/201901/948844_399953_0825.jpg\",\n",
        "            \"image_width\" : 50, \"image_height\" : 50,\n",
        "            \"link\" : {\n",
        "                \"web_url\" : \"https://www.google.co.kr/search?q=national+park&source=lnms&tbm=nws\",\n",
        "                \"mobile_web_url\" : \"https://www.google.co.kr/search?q=national+park&source=lnms&tbm=nws\"\n",
        "            }\n",
        "        }\n",
        "    ],\n",
        "    \"buttons\" : [\n",
        "        {\n",
        "            \"title\" : \"요약문 전체보기\",\n",
        "            \"link\" : {\n",
        "                \"web_url\" : \"www.google.com\",\n",
        "                \"mobile_web_url\" : \"www.google.com\"\n",
        "            }\n",
        "        }\n",
        "    ]\n",
        "}\n",
        "data = {\n",
        "    \"template_object\" : json.dumps(template)\n",
        "}\n",
        "response = requests.post(url, data=data, headers=headers)\n",
        "# print(response.status_code)\n",
        "if response.json().get('result_code') == 0:\n",
        "    print('메시지를 성공적으로 보냈습니다.')\n",
        "else:\n",
        "    print('메시지를 성공적으로 보내지 못했습니다. 오류메시지 : ' + str(response.json()))"
      ],
      "metadata": {
        "colab": {
          "base_uri": "https://localhost:8080/"
        },
        "id": "PveD6RCTg44Z",
        "outputId": "1e4011ff-e80e-4a64-ea9b-c10f55dde820"
      },
      "execution_count": 4,
      "outputs": [
        {
          "output_type": "stream",
          "name": "stdout",
          "text": [
            "메시지를 성공적으로 보냈습니다.\n"
          ]
        }
      ]
    }
  ]
}
